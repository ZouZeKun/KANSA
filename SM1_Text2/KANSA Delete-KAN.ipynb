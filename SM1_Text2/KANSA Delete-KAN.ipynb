{
 "cells": [
  {
   "cell_type": "code",
   "execution_count": 105,
   "metadata": {},
   "outputs": [],
   "source": [
    "import os, random, argparse, json, time\n",
    "from tqdm import tqdm, trange\n",
    "\n",
    "import numpy as np\n",
    "import pandas as pd\n",
    "import matplotlib.pyplot as plt\n",
    "\n",
    "import torch\n",
    "import torch.nn as nn\n",
    "\n",
    "from texttable import Texttable\n",
    "from typing import Union, Tuple, Dict, List\n",
    "\n",
    "import torch.optim as optim\n",
    "import torch.nn.functional as F\n",
    "from torch.utils.data import Dataset\n",
    "from torch_geometric.data import Data\n",
    "from torch_geometric.loader import DataLoader"
   ]
  },
  {
   "cell_type": "markdown",
   "metadata": {},
   "source": [
    "# Parameter"
   ]
  },
  {
   "cell_type": "code",
   "execution_count": 106,
   "metadata": {},
   "outputs": [],
   "source": [
    "def parse_args():\n",
    "    parser = argparse.ArgumentParser()  # 参数解析器对象\n",
    "\n",
    "    parser.add_argument('--seed', type=int, default=10, help='Random seed of the experiment')\n",
    "    parser.add_argument('--exp_name', type=str, default='Exp', help='Name of the experiment')\n",
    "    \n",
    "    parser.add_argument('--num_step', type=int, default=8640, help='4*24*90=8640') # TODO 90天数据\n",
    "    parser.add_argument('--batch_size', type=int, default=96, help='Size of the batch') \n",
    "    parser.add_argument('--train_ratio' , type=float, default=3/6, help='train set ratio') # √\n",
    "    parser.add_argument('--val_ratio'   , type=float, default=1/6, help='validation set ratio') # √\n",
    "    parser.add_argument('--test_ratio'  , type=float, default=2/6, help='test set ratio') # √\n",
    "\n",
    "    parser.add_argument('--num_history', type=int, default=1, help='Number of historical time steps') # √\n",
    "    parser.add_argument('--ChebyshevDegree', type=int, default=8, help='degree of KAN') \n",
    "    parser.add_argument('--FourierDegree', type=int, default=6, help='degree of KAN') \n",
    "\n",
    "    parser.add_argument('--num_nodes', type=int, default=24, help='Number of nodes in the graph') # √\n",
    "    parser.add_argument('--num_edges', type=int, default=34, help='Number of edges in the graph') # √\n",
    "    parser.add_argument('--hidden_dim', type=int, default=12, help='Dimension of the hidden layers') # √\n",
    "    \n",
    "    parser.add_argument('--max_epoch', type=int, default=50, help='Maximum number of epochs') \n",
    "    parser.add_argument('--learning_rate', type=float, default=2e-5, help='Learning rate of Adam') \n",
    "    \n",
    "    # L1正则化：鼓励模型选择较少的特征，从而实现特征选择。可以将某些权重压缩到零，意味着某些特征可能完全被忽略，由此简化模型。\n",
    "    parser.add_argument('--l1_lambda', type=float, default=0.00, help='L1 regularization coefficient') # ×\n",
    "    # L2正则化：鼓励模型的权重较小，从而使模型更简单。但并不会将它们压缩到零，从而保留了所有特征，避免过拟合。\n",
    "    parser.add_argument('--l2_lambda', type=float, default=0.00, help='L2 regularization coefficient') # ×\n",
    "\n",
    "    # parser.add_argument('--max_norm', type=float, default=0.30, help='梯度裁剪') # TODO \n",
    "\n",
    "    parser.add_argument('--gamma', type=float, default=0.95, help='decay parameter') \n",
    "    parser.add_argument('--decay_epoch', type=float, default=1, help='decay epoch') \n",
    "    parser.add_argument('--patience', type=int, default=10, help='提前停止的耐心参数') \n",
    "\n",
    "    parser.add_argument('--pressure_sensor_name', type=str, default='[\"4\", \"13\", \"14\", \"23\", \"24\"]', help='压力传感器名称')\n",
    "    parser.add_argument('--flow_sensor_name', type=str, default='[\"4\", \"7\", \"25\", \"28\", \"34\"]', help='流量传感器名称')\n",
    "    parser.add_argument('--demand_sensor_name', type=str, default='[\"2\", \"16\", \"19\", \"22\", \"24\"]', help='需水量传感器名称')\n",
    "    \n",
    "    parser.add_argument('--water_pressure_file', type=str, default=\"D:/GraphormerForRobustness/dataset2/demand_patten_3612/simulate_pressure3.csv\")\n",
    "    parser.add_argument('--water_flow_file', type=str, default=\"D:/GraphormerForRobustness/dataset2/demand_patten_3612/simulate_flow3.csv\")\n",
    "    parser.add_argument('--water_demand_file', type=str, default=\"D:/GraphormerForRobustness/dataset2/demand_patten_3612/simulate_demand3.csv\")\n",
    "\n",
    "    parser.add_argument('--node_file', type=str, default='D:/GraphormerForRobustness/dataset/Apulia_2/node_features_Apulia2.csv')\n",
    "    parser.add_argument('--edge_file', type=str, default='D:/GraphormerForRobustness/dataset2/edge_index_dir.csv')\n",
    "    \n",
    "    parser.add_argument('--node_adjacency_file', type=str, default='D:/GraphormerForRobustness/dataset/Apulia/node_adjacency_matrix.csv')\n",
    "    parser.add_argument('--edge_adjacency_file', type=str, default='D:/GraphormerForRobustness/dataset/Apulia/edge_adjacency_matrix.csv')\n",
    "\n",
    "    parser.add_argument('--incidence_file', type=str, default='D:/GraphormerForRobustness/dataset2/initial_incidence_matrix_dir.csv')\n",
    "    parser.add_argument('--cycle_file', type=str, default='D:/GraphormerForRobustness/dataset2/initial_cycle_matrix_dir.csv')\n",
    "\n",
    "    args = parser.parse_args(args=[])  \n",
    "\n",
    "    args.device = torch.device(\"cuda\" if torch.cuda.is_available() else \"cpu\")\n",
    "\n",
    "    return args"
   ]
  },
  {
   "cell_type": "markdown",
   "metadata": {},
   "source": [
    "# Loss Function"
   ]
  },
  {
   "cell_type": "code",
   "execution_count": 107,
   "metadata": {},
   "outputs": [],
   "source": [
    "# 损失函数 MSE\n",
    "class ConservationConstraints(nn.Module):\n",
    "    def __init__(self):\n",
    "        super(ConservationConstraints, self).__init__()\n",
    "\n",
    "    def forward(self, pressure_Y, flow_Y, demand_Y, PipeFriction, IncidenceMatrix, CycleMatrix):\n",
    "        \n",
    "        # Part 2: Conservation Constraints —— (10.67 Q^1.852L)/(C^1.852 D^4.87)\n",
    "        PipeFriction = PipeFriction.view(1, 1, -1) \n",
    "        pipe_pressure_minus = (abs(flow_Y)**1.852) * PipeFriction \n",
    "        pipe_pressure_minus = torch.where(flow_Y > 0, \n",
    "                                        pipe_pressure_minus, \n",
    "                                        -pipe_pressure_minus)\n",
    "\n",
    "        loss2_1 = torch.sum((torch.abs((flow_Y @ IncidenceMatrix.t()) + demand_Y)*100)** 2)/96           #  100 -->  targer<0.01 节点流量方程\n",
    "        loss2_2 = torch.sum((torch.abs((pipe_pressure_minus @ CycleMatrix.t()))*10)** 2)/96              #  10  -->  targer<0.1   环能量方程\n",
    "        loss2_3 = torch.sum((torch.abs((pressure_Y @ IncidenceMatrix) - pipe_pressure_minus)*10)** 2)/96 #  10  -->  targer<0.1   管段压降方程\n",
    "\n",
    "        return loss2_1, loss2_2, loss2_3"
   ]
  },
  {
   "cell_type": "code",
   "execution_count": 108,
   "metadata": {},
   "outputs": [],
   "source": [
    "class ConservationConstraints_generalization(nn.Module):\n",
    "    def __init__(self):\n",
    "        super(ConservationConstraints_generalization, self).__init__()\n",
    "        \n",
    "    def forward(self, pressure_Y, flow_Y, demand_Y, PipeFriction, IncidenceMatrix, CycleMatrix):\n",
    "        \n",
    "        # Part 2: Conservation Constraints —— (10.67 Q^1.852L)/(C^1.852 D^4.87)\n",
    "        PipeFriction = PipeFriction.view(1,  -1) \n",
    "        pipe_pressure_minus = (abs(flow_Y)**1.852) * PipeFriction \n",
    "        pipe_pressure_minus = torch.where(flow_Y > 0, \n",
    "                                        pipe_pressure_minus, \n",
    "                                        -pipe_pressure_minus)\n",
    "        loss2_1 = torch.sum((torch.abs((flow_Y @ IncidenceMatrix.t()) + demand_Y))** 2, dim=0)/96            #  100 -->  targer<0.01 节点流量方程\n",
    "        loss2_2 = torch.sum((torch.abs((pipe_pressure_minus @ CycleMatrix.t())))** 2, dim=0)/96              #  10  -->  targer<0.1   环能量方程\n",
    "        loss2_3 = torch.sum((torch.abs((pressure_Y @ IncidenceMatrix) - pipe_pressure_minus))** 2, dim=0)/96 #  10  -->  targer<0.1   管段压降方程\n",
    "        \n",
    "        return loss2_1, loss2_2, loss2_3"
   ]
  },
  {
   "cell_type": "markdown",
   "metadata": {},
   "source": [
    "# Masking"
   ]
  },
  {
   "cell_type": "code",
   "execution_count": 109,
   "metadata": {},
   "outputs": [],
   "source": [
    "def apply_mask(args, pressure_data, flow_data, demand_data):\n",
    "    ''' \n",
    "    生成两步掩码：一步掩码张量用于掩盖只剩传感器，二步掩码张量用于继续掩盖传感器\n",
    "    1. 只有传感器：masked_tensor1 / 掩码方式：mask1\n",
    "    2. 再对传感器进行掩盖：masked_tensor2 / 掩码方式：mask2\n",
    "    '''\n",
    "    pressure_sensor_name = json.loads(args.pressure_sensor_name)\n",
    "    flow_sensor_name = json.loads(args.flow_sensor_name)\n",
    "    demand_sensor_name = json.loads(args.demand_sensor_name)\n",
    "\n",
    "    # 将sensor_index转换为整数类型\n",
    "    pressure_sensor_index = [int(i)-1 for i in pressure_sensor_name]\n",
    "    flow_sensor_index = [int(i)-1 for i in flow_sensor_name]\n",
    "    demand_sensor_index = [int(i)-1 for i in demand_sensor_name]\n",
    "\n",
    "    # 创建一个和输入张量形状相同的掩码\n",
    "    mask1_pressure = torch.zeros(pressure_data.shape)\n",
    "    mask1_flow     = torch.zeros(flow_data.shape)\n",
    "    mask1_demand   = torch.zeros(pressure_data.shape)\n",
    "    mask1_pressure[:,pressure_sensor_index] = 1\n",
    "    mask1_flow[:,flow_sensor_index] = 1\n",
    "    mask1_demand[:,demand_sensor_index] = 1\n",
    "    # 去掉mask1_demand的最后一列\n",
    "    mask1_demand_reduced = mask1_demand[:, :-1]\n",
    "\n",
    "    mask1_pressure = mask1_pressure.to(args.device)\n",
    "    mask1_flow = mask1_flow.to(args.device)\n",
    "    mask1_demand_reduced = mask1_demand_reduced.to(args.device)\n",
    "    \n",
    "    return (mask1_pressure, mask1_flow, mask1_demand_reduced)"
   ]
  },
  {
   "cell_type": "markdown",
   "metadata": {},
   "source": [
    "# DATA"
   ]
  },
  {
   "cell_type": "code",
   "execution_count": 110,
   "metadata": {},
   "outputs": [],
   "source": [
    "# def seq2instance(args, data):\n",
    "#     num_step, dims = data.shape\n",
    "#     # 每增加num_history步 都会产生一个训练样本\n",
    "#     num_sample = num_step // args.batch_size - 1\n",
    "#     # x 存储历史时间步数据\n",
    "#     x = torch.zeros(num_sample, args.batch_size, dims)\n",
    "#     # y 存储预测数据\n",
    "#     y = torch.zeros(num_sample, args.batch_size, dims)\n",
    "#     for i in range(num_sample):\n",
    "#         j = i * args.num_history\n",
    "#         x[i] = data[j: j + args.batch_size]\n",
    "#         y[i] = data[j: j + args.batch_size]\n",
    "#     # print(\"x.shape:\",x.shape, \"y.shape:\", y.shape)\n",
    "#     return x, y\n",
    "\n",
    "def seq2instance(args, data):\n",
    "    num_step, dims = data.shape\n",
    "    # 每增加一步 都会产生一个训练样本\n",
    "    num_sample = num_step - args.batch_size - args.batch_size + 1\n",
    "    # x 存储历史时间步数据\n",
    "    x = torch.zeros(num_sample, args.batch_size, dims)\n",
    "    # y 存储预测数据\n",
    "    y = torch.zeros(num_sample, args.batch_size, dims)\n",
    "    for i in range(num_sample):\n",
    "        x[i] = data[i: i + args.batch_size]\n",
    "        y[i] = data[i: i + args.batch_size]\n",
    "    return x, y\n",
    "\n",
    "# 将时间序列数据划分为多个训练样本\n",
    "class CustomDataset(Dataset):\n",
    "    def __init__(self, args, dataset_type='train'):\n",
    "        # 读取数据和嵌入\n",
    "        self.args = args\n",
    "        self.dataset_type = dataset_type\n",
    "        \n",
    "        # 计算训练集、验证集和测试集的时间步数\n",
    "        train_steps = round(args.train_ratio * args.num_step)\n",
    "        test_steps = round(args.test_ratio * args.num_step)\n",
    "        val_steps = args.num_step - train_steps - test_steps\n",
    "\n",
    "        # 读取节点压力、节点用水量、管道流量数据 \n",
    "        NodePressure = pd.read_csv(args.water_pressure_file, header=0, index_col=0)\n",
    "        PipeFlow = pd.read_csv(args.water_flow_file, header=0, index_col=0)\n",
    "        NodeDemand = pd.read_csv(args.water_demand_file, header=0, index_col=0)\n",
    "\n",
    "        # min-max 归一化\n",
    "        NodePressure_ = (NodePressure - NodePressure.min().min()) / (NodePressure.max().max() - NodePressure.min().min())\n",
    "        PipeFlow_ = (PipeFlow - PipeFlow.min().min()) / (PipeFlow.max().max() - PipeFlow.min().min())\n",
    "        NodeDemand_ = (NodeDemand - (NodeDemand.iloc[:, :-1]).min().min()) / (NodeDemand.max().max() - (NodeDemand.iloc[:, :-1]).min().min())\n",
    "\n",
    "        NodePressure = torch.FloatTensor(NodePressure_.values)\n",
    "        PipeFlow = torch.FloatTensor(PipeFlow_.values)\n",
    "        NodeDemand = torch.FloatTensor(NodeDemand_.values)\n",
    "\n",
    "        # 分割数据集\n",
    "        self.train_pressure = NodePressure[: train_steps]\n",
    "        self.train_flow     = PipeFlow[: train_steps]\n",
    "        self.train_demand   = NodeDemand[: train_steps]\n",
    "\n",
    "        self.val_pressure   = NodePressure[train_steps: train_steps + val_steps]\n",
    "        self.val_flow       = PipeFlow[train_steps: train_steps + val_steps]\n",
    "        self.val_demand     = NodeDemand[train_steps: train_steps + val_steps]\n",
    "\n",
    "        self.test_pressure  = NodePressure[-test_steps:]\n",
    "        self.test_flow      = PipeFlow[-test_steps:]\n",
    "        self.test_demand    = NodeDemand[-test_steps:]\n",
    "\n",
    "        self.trainX_pressure, self.trainY_pressure = seq2instance(args, self.train_pressure)\n",
    "        self.trainX_flow, self.trainY_flow = seq2instance(args, self.train_flow)\n",
    "        self.trainX_demand, self.trainY_demand = seq2instance(args, self.train_demand)\n",
    "\n",
    "        self.valX_pressure, self.valY_pressure = seq2instance(args, self.val_pressure)\n",
    "        self.valX_flow, self.valY_flow = seq2instance(args, self.val_flow)\n",
    "        self.valX_demand, self.valY_demand = seq2instance(args, self.val_demand)\n",
    "\n",
    "        self.testX_pressure, self.testY_pressure = seq2instance(args, self.test_pressure)\n",
    "        self.testX_flow, self.testY_flow = seq2instance(args, self.test_flow)\n",
    "        self.testX_demand, self.testY_demand = seq2instance(args, self.test_demand)\n",
    "\n",
    "    def __len__(self):\n",
    "        if self.dataset_type == 'train':\n",
    "            return len(self.trainX_pressure)\n",
    "        elif self.dataset_type == 'val':\n",
    "            return len(self.valX_pressure)\n",
    "        elif self.dataset_type == 'test':\n",
    "            return len(self.testX_pressure)\n",
    "        \n",
    "    def __getitem__(self, idx):\n",
    "        if self.dataset_type == 'train':\n",
    "            return (self.trainX_pressure[idx].to(self.args.device), self.trainY_pressure[idx].to(self.args.device),\n",
    "                    self.trainX_flow[idx].to(self.args.device), self.trainY_flow[idx].to(self.args.device),\n",
    "                    self.trainX_demand[idx].to(self.args.device), self.trainY_demand[idx].to(self.args.device)\n",
    "                    )\n",
    "        \n",
    "        elif self.dataset_type == 'val':\n",
    "            return (self.valX_pressure[idx].to(self.args.device), self.valY_pressure[idx].to(self.args.device),\n",
    "                    self.valX_flow[idx].to(self.args.device), self.valY_flow[idx].to(self.args.device),\n",
    "                    self.valX_demand[idx].to(self.args.device), self.valY_demand[idx].to(self.args.device)\n",
    "                    )\n",
    "\n",
    "        elif self.dataset_type == 'test':\n",
    "            return (self.testX_pressure[idx].to(self.args.device), self.testY_pressure[idx].to(self.args.device), \n",
    "                    self.testX_flow[idx].to(self.args.device), self.testY_flow[idx].to(self.args.device),\n",
    "                    self.testX_demand[idx].to(self.args.device), self.testY_demand[idx].to(self.args.device)\n",
    "                    )  "
   ]
  },
  {
   "cell_type": "code",
   "execution_count": 111,
   "metadata": {},
   "outputs": [],
   "source": [
    "def load_matrix(args):\n",
    "    # 读取点文件\n",
    "    nodes_df = pd.read_csv(args.node_file, header=0, index_col=0)\n",
    "    nodes_attr = torch.from_numpy(nodes_df.values).float().to(args.device)\n",
    "\n",
    "    # 读取边文件 —— edge weight和海增威廉公式匹配 (10.67*L)/(C^1.852 D^4.87)\n",
    "    edge_df = pd.read_csv(args.edge_file, header=0, index_col=0)\n",
    "    edge_index  = edge_df.iloc[:, 0:2].T  # 第0列到第1列\n",
    "    edge_attr = edge_df.iloc[:, 2:7]      # 第2列到第6列\n",
    "    edge_index = torch.from_numpy(edge_index.values).long().to(args.device)\n",
    "    edge_attr = torch.from_numpy(edge_attr.values).float().to(args.device)\n",
    "\n",
    "    # 生成图数据\n",
    "    Graph_Data = Data(x=nodes_attr, edge_index=edge_index, edge_attr=edge_attr)\n",
    "\n",
    "    # 取出edge_df最后一列\n",
    "    PipeFriction = edge_df.iloc[:, -1].values\n",
    "    pipe_friction = torch.from_numpy(PipeFriction).float().to(args.device)\n",
    "    \n",
    "    # 读取关联矩阵文件\n",
    "    incidence_matrix_df = pd.read_csv(args.incidence_file, header=None, index_col=None)\n",
    "    incidence_matrix = torch.from_numpy(incidence_matrix_df.values).float().to(args.device)\n",
    "    # 读取循环矩阵文件\n",
    "    cycle_matrix_df = pd.read_csv(args.cycle_file, header=0, index_col=0)\n",
    "    cycle_matrix = torch.from_numpy(cycle_matrix_df.values).float().to(args.device)\n",
    "\n",
    "    return Graph_Data, pipe_friction, incidence_matrix, cycle_matrix"
   ]
  },
  {
   "cell_type": "markdown",
   "metadata": {},
   "source": [
    "# Utiles"
   ]
  },
  {
   "cell_type": "code",
   "execution_count": 112,
   "metadata": {},
   "outputs": [],
   "source": [
    "class IOStream():\n",
    "    \"\"\"训练日志文件\"\"\"\n",
    "    def __init__(self, path):\n",
    "        self.file = open(path, 'a') # 附加模式：用于在文件末尾添加内容，如果文件不存在则创建新文件\n",
    "\n",
    "    def cprint(self, text):\n",
    "        print(text)\n",
    "        self.file.write(text + '\\n')\n",
    "        self.file.flush() # 确保将写入的内容刷新到文件中，以防止数据在缓冲中滞留\n",
    "\n",
    "    def close(self):\n",
    "        self.file.close()\n",
    "\n",
    "def table_printer(args):\n",
    "    \"\"\"绘制参数表格\"\"\"\n",
    "    args = vars(args) # 转成字典类型\n",
    "    keys = sorted(args.keys()) # 按照字母顺序进行排序\n",
    "    table = Texttable()\n",
    "    table.set_cols_dtype(['t', 't']) # 列的类型都为文本(str)\n",
    "    rows = [[\"Parameter\", \"Value\"]] # 设置表头\n",
    "    for k in keys:\n",
    "        rows.append([k.replace(\"_\", \" \").capitalize(), str(args[k])]) # 下划线替换成空格，首字母大写\n",
    "    table.add_rows(rows)\n",
    "    return table.draw()"
   ]
  },
  {
   "cell_type": "markdown",
   "metadata": {},
   "source": [
    "# KAN Parts"
   ]
  },
  {
   "cell_type": "code",
   "execution_count": 113,
   "metadata": {},
   "outputs": [],
   "source": [
    "# 注意力机制\n",
    "class Attention(nn.Module):\n",
    "    def __init__(self, hidden_size):\n",
    "        super(Attention, self).__init__()\n",
    "        self.query_layer = nn.Linear(hidden_size, hidden_size)\n",
    "        self.key_layer   = nn.Linear(hidden_size, hidden_size)\n",
    "        self.value_layer = nn.Linear(hidden_size, hidden_size)\n",
    "\n",
    "        self.layer_norm  = nn.LayerNorm(hidden_size)\n",
    "\n",
    "    def forward(self, attention_from, attention_to):\n",
    "        # 计算注意力分数\n",
    "        query = self.query_layer(attention_from)    # (batch_size, hidden_size)\n",
    "        key = self.key_layer(attention_to)          # (batch_size, hidden_size)\n",
    "        value = self.value_layer(attention_from)    # (batch_size, hidden_size)\n",
    "\n",
    "        # 计算注意力权重\n",
    "        scores = torch.matmul(query, key.T)                # (batch_size, batch_size)\n",
    "        attention_weights = F.softmax(scores, dim=-1)      # 使用softmax计算归一化权重\n",
    "\n",
    "        # 计算加权输出\n",
    "        output = torch.matmul(attention_weights, value)  # (batch_size, hidden_size)\n",
    "        output = self.layer_norm(output)  # (batch_size, hidden_size)\n",
    "\n",
    "        return output"
   ]
  },
  {
   "cell_type": "markdown",
   "metadata": {},
   "source": [
    "# model"
   ]
  },
  {
   "cell_type": "code",
   "execution_count": 114,
   "metadata": {},
   "outputs": [],
   "source": [
    "class KANSA(nn.Module):\n",
    "    def __init__(self, args):\n",
    "        \"\"\"\n",
    "        :param num_layers: number of KANSA layers\n",
    "\n",
    "        :param input_node_dim: input dimension of node features\n",
    "        :param input_edge_dim: input dimension of edge features\n",
    "\n",
    "        :param max_path_distance: max pairwise distance between two nodes\n",
    "        \"\"\"\n",
    "        super().__init__()\n",
    "        self.batch_size = args.batch_size\n",
    "        self.ChebyshevDegree = args.ChebyshevDegree\n",
    "        self.FourierDegree = args.FourierDegree\n",
    "\n",
    "        self.num_nodes = args.num_nodes\n",
    "        self.num_edges = args.num_edges\n",
    "        self.hidden_dim = args.hidden_dim\n",
    "\n",
    "        ''' input ''' \n",
    "        # 时间特征\n",
    "        self.flow_batch = nn.Sequential(\n",
    "            nn.Linear(self.batch_size, self.hidden_dim),  \n",
    "            nn.Linear(self.hidden_dim, self.batch_size),  \n",
    "            nn.LayerNorm(self.batch_size),            \n",
    "            )\n",
    "        self.pressure_batch = nn.Sequential(\n",
    "            nn.Linear(self.batch_size, self.hidden_dim), \n",
    "            nn.Linear(self.hidden_dim, self.batch_size),   \n",
    "            nn.LayerNorm(self.batch_size),    \n",
    "            )\n",
    "        self.demand_batch = nn.Sequential(\n",
    "            nn.Linear(self.batch_size, self.hidden_dim), \n",
    "            nn.Linear(self.hidden_dim, self.batch_size),  \n",
    "            nn.LayerNorm(self.batch_size),      \n",
    "            )\n",
    "        # 空间特征\n",
    "        self.flow_features = nn.Sequential(\n",
    "            nn.Linear(self.num_edges, self.hidden_dim),\n",
    "            nn.Linear(self.hidden_dim, self.num_edges), \n",
    "            nn.LayerNorm(self.num_edges),\n",
    "            )\n",
    "        self.pressure_features = nn.Sequential(\n",
    "            nn.Linear(self.num_nodes, self.hidden_dim),\n",
    "            nn.Linear(self.hidden_dim, self.num_nodes),\n",
    "            nn.LayerNorm(self.num_nodes), \n",
    "            )\n",
    "        self.demand_features = nn.Sequential(\n",
    "            nn.Linear(self.num_nodes-1, self.hidden_dim),\n",
    "            nn.Linear(self.hidden_dim, self.num_nodes-1),\n",
    "            nn.LayerNorm(self.num_nodes-1), \n",
    "            )\n",
    "        # 自注意力机制 时间\n",
    "        self.attention_pressure_batch = Attention(self.batch_size)\n",
    "        self.attention_flow_batch     = Attention(self.batch_size)\n",
    "        self.attention_demand_batch   = Attention(self.batch_size)\n",
    "        # 自注意力机制 空间\n",
    "        self.attention_pressure_features = Attention(self.num_nodes)\n",
    "        self.attention_flow_features     = Attention(self.num_edges)\n",
    "        self.attention_demand_features   = Attention(self.num_nodes-1)\n",
    "\n",
    "        self.pressure_1 = nn.Sequential(\n",
    "            nn.LayerNorm(self.num_nodes),\n",
    "            nn.Linear(self.num_nodes, self.hidden_dim),\n",
    "            nn.Linear(self.hidden_dim, self.hidden_dim)\n",
    "            )\n",
    "        self.pressure_2 = nn.Sequential(\n",
    "            nn.LayerNorm(self.num_nodes),\n",
    "            nn.Linear(self.num_nodes, self.hidden_dim),\n",
    "            nn.Linear(self.hidden_dim, self.hidden_dim),\n",
    "            )\n",
    "        self.flow_1 = nn.Sequential(\n",
    "            nn.LayerNorm(self.num_edges),\n",
    "            nn.Linear(self.num_edges, self.hidden_dim),\n",
    "            nn.Linear(self.hidden_dim, self.hidden_dim),\n",
    "            )\n",
    "        self.flow_2 = nn.Sequential(\n",
    "            nn.LayerNorm(self.num_edges),\n",
    "            nn.Linear(self.num_edges, self.hidden_dim),\n",
    "            nn.Linear(self.hidden_dim, self.hidden_dim),\n",
    "            )\n",
    "        self.demand_1 = nn.Sequential(\n",
    "            nn.LayerNorm(self.num_nodes-1),\n",
    "            nn.Linear(self.num_nodes-1, self.hidden_dim),\n",
    "            nn.Linear(self.hidden_dim, self.hidden_dim),\n",
    "            )\n",
    "        self.demand_2 = nn.Sequential(\n",
    "            nn.LayerNorm(self.num_nodes-1),\n",
    "            nn.Linear(self.num_nodes-1, self.hidden_dim),\n",
    "            nn.Linear(self.hidden_dim, self.hidden_dim),\n",
    "            )\n",
    "\n",
    "        self.pressure_sum = nn.Sequential(\n",
    "            nn.LayerNorm(self.hidden_dim),\n",
    "            nn.Linear(self.hidden_dim, 2*self.hidden_dim),\n",
    "            nn.Linear(2*self.hidden_dim, 2*self.hidden_dim),\n",
    "            )\n",
    "        self.flow_sum = nn.Sequential(\n",
    "            nn.LayerNorm(self.hidden_dim),\n",
    "            nn.Linear(self.hidden_dim, 2*self.hidden_dim),\n",
    "            nn.Linear(2*self.hidden_dim, 2*self.hidden_dim),\n",
    "            )\n",
    "        self.demand_sum = nn.Sequential(\n",
    "            nn.LayerNorm(self.hidden_dim),\n",
    "            nn.Linear(self.hidden_dim, 2*self.hidden_dim),\n",
    "            nn.Linear(2*self.hidden_dim, 2*self.hidden_dim),\n",
    "            )\n",
    "\n",
    "        # 处理器\n",
    "        self.graph = nn.Sequential(\n",
    "            nn.LayerNorm(3),\n",
    "            nn.Linear(3, 12),\n",
    "            nn.Linear(12, 1),\n",
    "            )\n",
    "\n",
    "        # 图特征解码\n",
    "        self.flow_out = nn.Sequential(\n",
    "            nn.Linear(2*self.hidden_dim, 2*self.num_edges),\n",
    "            nn.Linear(2*self.num_edges, self.num_edges),\n",
    "            nn.Sigmoid(),\n",
    "            )\n",
    "        self.pressure_out = nn.Sequential(\n",
    "            nn.Linear(2*self.hidden_dim, 2*self.num_nodes),\n",
    "            nn.Linear(2*self.num_nodes, self.num_nodes),\n",
    "            nn.Sigmoid(),\n",
    "            )\n",
    "        # Demand的最后一列是负的（只对前面列进行估计）\n",
    "        self.demand_out = nn.Sequential(\n",
    "            nn.Linear(2*self.hidden_dim, 2*self.num_nodes),\n",
    "            nn.Linear(2*self.num_nodes, self.num_nodes-1),\n",
    "            nn.Sigmoid(),\n",
    "            )\n",
    "\n",
    "    def forward(self, Graph_Data: Union[Data], \n",
    "                mask_pressure, mask_flow, mask_demand,\n",
    "                pressure, flow, demand) -> Tuple[torch.Tensor, torch.Tensor]:\n",
    "        # 修改架构，单独注意力\n",
    "        # 数据预处理\n",
    "        pressure_ = pressure.float()     # (batch_size, num_nodes)\n",
    "        flow_ = flow.float()             # (batch_size, num_edges)\n",
    "        demand_ = demand.float()         # (batch_size, num_nodes)\n",
    "\n",
    "        # 批次特征提取\n",
    "        pressure_batch      = self.pressure_batch(pressure_.T)     # (batch_size, num_nodes)\n",
    "        flow_batch          = self.flow_batch(flow_.T)             # (batch_size, num_edges)\n",
    "        demand_batch        = self.demand_batch(demand_.T)         # (batch_size, num_nodes)\n",
    "        pressure_batch      = (self.attention_pressure_batch(pressure_batch, pressure_.T)).T       # (batch_size, num_nodes)\n",
    "        flow_batch          = (self.attention_flow_batch(flow_batch, flow_.T)).T                   # (batch_size, num_edges)\n",
    "        demand_batch        = (self.attention_demand_batch(demand_batch, demand_.T)).T             # (batch_size, num_nodes)\n",
    "        # 节点特征提取\n",
    "\n",
    "        pressure_features   = self.pressure_features(pressure_)    # (batch_size, num_nodes)\n",
    "        flow_features       = self.flow_features(flow_)            # (batch_size, num_edges)\n",
    "        demand_features     = self.demand_features(demand_)        # (batch_size, num_nodes)\n",
    "        pressure_features   = self.attention_pressure_features(pressure_features, pressure_)       # (batch_size, num_nodes)\n",
    "        flow_features       = self.attention_flow_features(flow_features, flow_)                   # (batch_size, num_edges)\n",
    "        demand_features     = self.attention_demand_features(demand_features, demand_)             # (batch_size, num_nodes)\n",
    "        # 特征线性变换      \n",
    "        # 结合方式  * is better\n",
    "        pressure_batch_    = self.pressure_1(pressure_batch * (1-mask_pressure) + pressure_)\n",
    "        pressure_features_ = self.pressure_2(pressure_features * (1-mask_pressure) + pressure_)\n",
    "        pressure_st_       = pressure_batch_ * pressure_features_\n",
    "\n",
    "        flow_batch_        = self.flow_1(flow_batch * (1-mask_flow) + flow_)\n",
    "        flow_features_     = self.flow_2(flow_features * (1-mask_flow) + flow_)\n",
    "        flow_st_           = flow_batch_ * flow_features_  \n",
    "\n",
    "        demand_batch_      = self.demand_1(demand_batch * (1-mask_demand)  + demand_)\n",
    "        demand_features_   = self.demand_2(demand_features * (1-mask_demand) + demand_)\n",
    "        demand_st_         = demand_batch_ * demand_features_\n",
    "\n",
    "        # 拼接\n",
    "        Graph_features = torch.cat((self.pressure_sum(pressure_st_).unsqueeze(-1), \n",
    "                                    self.flow_sum(flow_st_).unsqueeze(-1), \n",
    "                                    self.demand_sum(demand_st_).unsqueeze(-1)), \n",
    "                                    dim=-1)\n",
    "        graph_features = self.graph(Graph_features).squeeze(-1)\n",
    "\n",
    "        # 解码\n",
    "        pressure_dd = self.pressure_out(graph_features) * (1-mask_pressure)   + pressure_ \n",
    "        flow_dd = self.flow_out(graph_features)         * (1-mask_flow)       + flow_ \n",
    "        demand_dd = self.demand_out(graph_features)     * (1-mask_demand)     + demand_\n",
    "\n",
    "        return pressure_dd, flow_dd, demand_dd"
   ]
  },
  {
   "cell_type": "markdown",
   "metadata": {},
   "source": [
    "# Main"
   ]
  },
  {
   "cell_type": "code",
   "execution_count": 115,
   "metadata": {},
   "outputs": [],
   "source": [
    "def train(args, IO,  train_loader, val_loader, \n",
    "        min_pressure, max_pressure, min_flow, max_flow, min_demand, max_demand):\n",
    "    best_val_loss = float('inf')\n",
    "    patience = args.patience  \n",
    "    patience_counter = 0\n",
    "\n",
    "    # 使用GPU or CPU\n",
    "    device = torch.device('cuda' if torch.cuda.is_available() else 'cpu')\n",
    "    torch.cuda.manual_seed(args.seed)  \n",
    "    \n",
    "    # 加载需求数据\n",
    "    Graph_Data, pipe_friction, incidence_matrix, cycle_matrix = load_matrix(args)\n",
    "\n",
    "    # 加载模型及参数量统计\n",
    "    model = KANSA(args).to(device)\n",
    "\n",
    "    IO.cprint(str(model))\n",
    "    total_params = sum(p.numel() for p in model.parameters() if p.requires_grad)\n",
    "    IO.cprint('Model Parameter: {}'.format(total_params))\n",
    "    \n",
    "    # 优化器 RMSprop  Trick\n",
    "    optimizer = optim.RMSprop(model.parameters(), lr=args.learning_rate)\n",
    "    scheduler = optim.lr_scheduler.StepLR(optimizer,\n",
    "                                        step_size=args.decay_epoch,\n",
    "                                        gamma=args.gamma)\n",
    "    IO.cprint('Using RMSprop')\n",
    "\n",
    "    # 损失函数\n",
    "    criterion = ConservationConstraints()\n",
    "    # 保存损失\n",
    "    train_loss1_list = []\n",
    "    train_loss2_list = []\n",
    "    train_loss3_list = []\n",
    "    val_loss1_list = []\n",
    "    val_loss2_list = []\n",
    "    val_loss3_list = []\n",
    "    start_time = time.time()\n",
    "    for epoch in range(args.max_epoch):\n",
    "        #################\n",
    "        ###   Train   ###\n",
    "        #################\n",
    "        model.train()  \n",
    "        train_loss1 = 0.0 \n",
    "        train_loss2 = 0.0\n",
    "        train_loss3 = 0.0\n",
    "        pressure_True = torch.Tensor().to(args.device)\n",
    "        pressure_Est  = torch.Tensor().to(args.device)\n",
    "        flow_True     = torch.Tensor().to(args.device)\n",
    "        flow_Est      = torch.Tensor().to(args.device)\n",
    "        demand_True   = torch.Tensor().to(args.device)\n",
    "        demand_Est    = torch.Tensor().to(args.device)\n",
    "\n",
    "        for i, data in tqdm(enumerate(train_loader), total=len(train_loader), desc=\"Train_Loader\"):\n",
    "            # 加载数据\n",
    "            (train_pressureX, train_pressureY, \n",
    "            train_flowX, train_flowY, \n",
    "            train_demandX, train_demandY) = data\n",
    "            train_pressureX = train_pressureX.squeeze(0)\n",
    "            train_flowX     = train_flowX.squeeze(0)\n",
    "            train_demandX   = train_demandX.squeeze(0)\n",
    "\n",
    "            # 随机掩码\n",
    "            (mask1_pressure, mask1_flow, mask1_demand)=apply_mask(args, train_pressureX, train_flowX, train_demandX)\n",
    "\n",
    "            # 掩码\n",
    "            train_pressureX_ = train_pressureX * mask1_pressure\n",
    "            train_flowX_     = train_flowX * mask1_flow\n",
    "            train_demandX_   = (train_demandX[:, :-1]) * mask1_demand\n",
    "\n",
    "            # model\n",
    "            pressure_Y, flow_Y, demand_Y = model(Graph_Data, mask1_pressure, mask1_flow, mask1_demand, \n",
    "                                                train_pressureX_, train_flowX_, train_demandX_)\n",
    "            # 给demand_Y添加最后一列\n",
    "            row_sums = torch.sum(demand_Y, dim=1, keepdim=True)\n",
    "            demand_Y = torch.cat((demand_Y, -row_sums), dim=1)\n",
    "\n",
    "            # min-max归一化还原\n",
    "            pressure_Y = (pressure_Y * (max_pressure - min_pressure) + min_pressure)\n",
    "            flow_Y     = (flow_Y     * (max_flow     - min_flow)     + min_flow)\n",
    "            demand_Y   = (demand_Y   * (max_demand   - min_demand)   + min_demand)\n",
    "            train_pressureX  = (train_pressureX  * (max_pressure - min_pressure) + min_pressure)\n",
    "            train_pressureX_ = (train_pressureX_ * (max_pressure - min_pressure) + min_pressure)\n",
    "            train_flowX      = (train_flowX      * (max_flow     - min_flow)     + min_flow)\n",
    "            train_flowX_     = (train_flowX_     * (max_flow     - min_flow)     + min_flow)\n",
    "            train_demandX    = (train_demandX    * (max_demand   - min_demand)   + min_demand)\n",
    "            train_demandX_   = (train_demandX_   * (max_demand   - min_demand)   + min_demand)\n",
    "            \n",
    "            # 计算损失\n",
    "            (loss1, loss2, loss3) = criterion(pressure_Y, flow_Y, demand_Y, pipe_friction, incidence_matrix, cycle_matrix)\n",
    "\n",
    "            # 数据保存\n",
    "            pressure_True = torch.cat((pressure_True, train_pressureX), 0)\n",
    "            pressure_Est  = torch.cat((pressure_Est, pressure_Y), 0)\n",
    "            flow_True     = torch.cat((flow_True,   train_flowX), 0)\n",
    "            flow_Est      = torch.cat((flow_Est,     flow_Y), 0)\n",
    "            demand_True   = torch.cat((demand_True, train_demandX), 0)\n",
    "            demand_Est    = torch.cat((demand_Est,   demand_Y), 0)\n",
    "\n",
    "            # l1+l2正则化\n",
    "            l1_norm = sum(p.abs().sum() for p in model.parameters())\n",
    "            l2_norm = sum(p.pow(2.0).sum() for p in model.parameters())\n",
    "            loss_ = loss1 + loss2 + loss3\n",
    "\n",
    "            loss = loss_ + args.l1_lambda * l1_norm + args.l2_lambda * l2_norm\n",
    "            loss.backward()\n",
    "\n",
    "            optimizer.step()\n",
    "            optimizer.zero_grad()\n",
    "\n",
    "            train_loss1 += (loss1).item()\n",
    "            train_loss2 += (loss2).item()\n",
    "            train_loss3 += (loss3).item()\n",
    "\n",
    "        scheduler.step()\n",
    "        avg_train_loss1 = (train_loss1) / len(train_loader.dataset)\n",
    "        avg_train_loss2 = (train_loss2) / len(train_loader.dataset)\n",
    "        avg_train_loss3 = (train_loss3) / len(train_loader.dataset)\n",
    "        # 绘图保存\n",
    "        train_loss1_list.append(avg_train_loss1)\n",
    "        train_loss2_list.append(avg_train_loss2)\n",
    "        train_loss3_list.append(avg_train_loss3)\n",
    "\n",
    "        IO.cprint('Epoch #{:03d}, Conservation1: {:.4f}, Conservation2: {:.4f}, Conservation3: {:.4f}'.format(\n",
    "                    epoch, (avg_train_loss1), (avg_train_loss2), (avg_train_loss3)\n",
    "                    ))\n",
    "\n",
    "        #################\n",
    "        ###   Valid   ###\n",
    "        #################\n",
    "        model.eval()\n",
    "        val_loss1 = 0.0\n",
    "        val_loss2 = 0.0\n",
    "        val_loss3 = 0.0\n",
    "        with torch.no_grad():\n",
    "            for i, data in tqdm(enumerate(val_loader), total=len(val_loader), desc=\"Val_Loader\"):\n",
    "\n",
    "                (val_pressureX, val_pressureY, \n",
    "                 val_flowX, val_flowY,\n",
    "                 val_demandX, val_demandY)= data\n",
    "                val_pressureX = val_pressureX.squeeze(0)\n",
    "                val_flowX     = val_flowX.squeeze(0)\n",
    "                val_demandX   = val_demandX.squeeze(0)\n",
    "\n",
    "                # 随机掩码\n",
    "                (mask1_pressure, mask1_flow, mask1_demand)=apply_mask(args, val_pressureX, val_flowX, val_demandX)\n",
    "                val_pressureX_ = val_pressureX * mask1_pressure\n",
    "                val_flowX_     = val_flowX * mask1_flow\n",
    "                val_demandX_   = (val_demandX[:, :-1]) * mask1_demand\n",
    "\n",
    "                pressure_Y, flow_Y, demand_Y = model(Graph_Data, mask1_pressure, mask1_flow, mask1_demand, val_pressureX_, val_flowX_, val_demandX_)\n",
    "                # 给demand_Y添加最后一列\n",
    "                row_sums = torch.sum(demand_Y, dim=1, keepdim=True)\n",
    "                demand_Y = torch.cat((demand_Y, -row_sums), dim=1)\n",
    "                \n",
    "                # min-max归一化还原\n",
    "                pressure_Y = (pressure_Y * (max_pressure - min_pressure) + min_pressure)\n",
    "                flow_Y     = (flow_Y     * (max_flow     - min_flow)     + min_flow)\n",
    "                demand_Y   = (demand_Y   * (max_demand   - min_demand)   + min_demand)\n",
    "                val_pressureX  = (val_pressureX * (max_pressure - min_pressure) + min_pressure)\n",
    "                val_flowX      = (val_flowX     * (max_flow     - min_flow)     + min_flow)\n",
    "                val_demandX    = (val_demandX   * (max_demand   - min_demand)   + min_demand)\n",
    "                val_pressureX_ = (val_pressureX_ * (max_pressure- min_pressure) + min_pressure)\n",
    "                val_flowX_     = (val_flowX_     * (max_flow    - min_flow)     + min_flow)\n",
    "                val_demandX_   = (val_demandX_   * (max_demand   - min_demand)  + min_demand)\n",
    "\n",
    "                # 计算损失\n",
    "                (loss1, loss2, loss3) = criterion(pressure_Y, flow_Y, demand_Y, pipe_friction, incidence_matrix, cycle_matrix)\n",
    "                \n",
    "                # 数据保存\n",
    "                pressure_True = torch.cat((pressure_True, val_pressureX), 0)\n",
    "                pressure_Est  = torch.cat((pressure_Est, pressure_Y), 0)\n",
    "                flow_True     = torch.cat((flow_True,   val_flowX), 0)\n",
    "                flow_Est      = torch.cat((flow_Est,     flow_Y), 0)\n",
    "                demand_True   = torch.cat((demand_True, val_demandX), 0)\n",
    "                demand_Est    = torch.cat((demand_Est,   demand_Y), 0)\n",
    "\n",
    "                # 误差计算\n",
    "                val_loss1 += loss1.item()\n",
    "                val_loss2 += loss2.item()\n",
    "                val_loss3 += loss3.item()\n",
    "        avg_val_loss1 = (val_loss1) / len(val_loader.dataset)\n",
    "        avg_val_loss2 = (val_loss2) / len(val_loader.dataset)\n",
    "        avg_val_loss3 = (val_loss3) / len(val_loader.dataset)\n",
    "        avg_val_loss = (avg_val_loss1 + avg_val_loss2 + avg_val_loss3)\n",
    "        # 绘图保存\n",
    "        val_loss1_list.append(avg_val_loss1)\n",
    "        val_loss2_list.append(avg_val_loss2)\n",
    "        val_loss3_list.append(avg_val_loss3)\n",
    "        \n",
    "        IO.cprint('Epoch #{:03d}, Conservation1: {:.4f}, Conservation2: {:.4f}, Conservation3: {:.4f}'.format(\n",
    "                epoch, (avg_val_loss1), (avg_val_loss2), (avg_val_loss3)\n",
    "                ))\n",
    "\n",
    "        # 选取最佳参数\n",
    "        if avg_val_loss < best_val_loss:\n",
    "            best_val_loss = avg_val_loss\n",
    "            patience_counter = 0\n",
    "            # 保存当前最佳模型\n",
    "            best_model_wts = model.state_dict()\n",
    "        else:\n",
    "            patience_counter += 1\n",
    "\n",
    "        # 检查是否达到提前停止条件\n",
    "        if patience_counter >= patience:\n",
    "            IO.cprint('Early stopping triggered. Best Val_Loss: {:.4f}'.format(best_val_loss))\n",
    "            break\n",
    "        \n",
    "    model.load_state_dict(best_model_wts)\n",
    "\n",
    "    torch.save(model, 'outputs/%s/model.pth' % args.exp_name)\n",
    "    IO.cprint('The current best model is saved in: {}'.format('******** outputs/%s/model.pth *********' % args.exp_name))\n",
    "    end_time = time.time()\n",
    "    IO.cprint('Total time: {:.4f}s'.format(end_time - start_time))\n",
    "    return (pressure_True, pressure_Est, flow_True, flow_Est, demand_True, demand_Est,\n",
    "            train_loss1_list, train_loss2_list, train_loss3_list, \n",
    "            val_loss1_list, val_loss2_list, val_loss3_list)"
   ]
  },
  {
   "cell_type": "code",
   "execution_count": 116,
   "metadata": {},
   "outputs": [],
   "source": [
    "def test(args, IO, test_loader, \n",
    "        min_pressure, max_pressure, min_flow, max_flow, min_demand, max_demand):\n",
    "    \"\"\"测试模型\"\"\"\n",
    "    device = torch.device('cuda' if torch.cuda.is_available() else 'cpu')\n",
    "\n",
    "    # 加载需求数据\n",
    "    Graph_Data, pipe_friction, incidence_matrix, cycle_matrix = load_matrix(args)\n",
    "    \n",
    "    # 输出内容保存在之前的训练日志里\n",
    "    IO.cprint('')\n",
    "    IO.cprint('********** TEST START **********')\n",
    "    IO.cprint('Reload Best Model')\n",
    "    IO.cprint('The current best model is saved in: {}'.format('******** outputs/%s/model.pth *********' % args.exp_name))\n",
    "\n",
    "    model = torch.load('outputs/%s/model.pth' % args.exp_name).to(device)\n",
    "    model = model.train()\n",
    "    \n",
    "    optimizer = optim.RMSprop(model.parameters(), lr=1e-7)\n",
    "                                        \n",
    "    ##############################\n",
    "    ### Test For Generalization ##\n",
    "    ##############################\n",
    "\n",
    "    # 损失函数\n",
    "    criterion1 = ConservationConstraints()\n",
    "    criterion2 = ConservationConstraints_generalization()\n",
    "\n",
    "    # 加载需求数据\n",
    "    offset = 0  # 初始偏移量\n",
    "    batch_size = 3 * 96\n",
    "\n",
    "    MAE_pressure = []\n",
    "    MAE_flow = []\n",
    "    MAE_demand = []\n",
    "    MAPE_pressure = []\n",
    "    MAPE_flow = []\n",
    "    MAPE_demand = []\n",
    "    R2_pressure = []\n",
    "    R2_flow = []\n",
    "    R2_demand = []\n",
    "    Loss1 = []\n",
    "    Loss2 = []\n",
    "    Loss3 = []\n",
    "\n",
    "    for loop_ in range(len(test_loader) - 3 * 96):\n",
    "\n",
    "        start_index = offset\n",
    "        end_index = min(start_index + batch_size, len(test_loader))\n",
    "        sliced_dataset = torch.utils.data.Subset(test_loader.dataset, range(start_index, end_index))\n",
    "        new_test_loader = torch.utils.data.DataLoader(sliced_dataset, batch_size=1, shuffle=False)\n",
    "\n",
    "        for i, data in tqdm(enumerate(new_test_loader), total=len(new_test_loader), desc=\"Test_Loader\"):\n",
    "            (test_pressureX, test_pressureY,\n",
    "            test_flowX, test_flowY, \n",
    "            test_demandX, test_demandY)= data\n",
    "            test_pressureX = test_pressureX.squeeze(0)\n",
    "            test_flowX     = test_flowX.squeeze(0)\n",
    "            test_demandX   = test_demandX.squeeze(0)\n",
    "\n",
    "            # 随机掩码\n",
    "            (mask1_pressure, mask1_flow, mask1_demand)=apply_mask(args, test_pressureX, test_flowX, test_demandX)\n",
    "\n",
    "            # 掩码\n",
    "            test_pressureX_ = test_pressureX * mask1_pressure\n",
    "            test_flowX_     = test_flowX * mask1_flow\n",
    "            test_demandX_   = (test_demandX[:, :-1]) * mask1_demand\n",
    "\n",
    "            pressure_Y, flow_Y, demand_Y = model(Graph_Data, mask1_pressure, mask1_flow, mask1_demand, test_pressureX_, test_flowX_ , test_demandX_)\n",
    "            # 给demand_Y添加最后一列\n",
    "            row_sums = torch.sum(demand_Y, dim=1, keepdim=True)\n",
    "            demand_Y = torch.cat((demand_Y, -row_sums), dim=1)\n",
    "        \n",
    "            # min-max归一化还原\n",
    "            pressure_Y = (pressure_Y * (max_pressure - min_pressure) + min_pressure)\n",
    "            flow_Y     = (flow_Y     * (max_flow     - min_flow)     + min_flow)\n",
    "            demand_Y   = (demand_Y   * (max_demand   - min_demand)   + min_demand)\n",
    "            test_pressureX = (test_pressureX * (max_pressure - min_pressure) + min_pressure)\n",
    "            test_flowX     = (test_flowX     * (max_flow     - min_flow)     + min_flow)\n",
    "            test_demandX   = (test_demandX   * (max_demand   - min_demand)   + min_demand)\n",
    "\n",
    "            (loss1, loss2, loss3) = criterion1(pressure_Y, flow_Y, demand_Y, pipe_friction, incidence_matrix, cycle_matrix)\n",
    "            loss_ = loss1 + loss2 + loss3\n",
    "            loss_.backward()\n",
    "            optimizer.step()\n",
    "            optimizer.zero_grad()\n",
    "\n",
    "            # 运行的最后一个批次进行保存\n",
    "            if i == len(new_test_loader) - 1:\n",
    "\n",
    "                IO.cprint('Loss1: {:.4f}, Loss2: {:.4f}, Loss3: {:.4f}'.format(loss1.item(), loss2.item(), loss3.item()))\n",
    "                (loss1, loss2, loss3) = criterion2(pressure_Y, flow_Y, demand_Y, pipe_friction, incidence_matrix, cycle_matrix)\n",
    "\n",
    "                # 数据处理\n",
    "                mae_pressure = torch.mean(torch.abs(pressure_Y - test_pressureX), dim=0)\n",
    "                mae_flow     = torch.mean(torch.abs(flow_Y - test_flowX), dim=0)\n",
    "                mae_demand   = torch.mean(torch.abs(demand_Y - test_demandX), dim=0)\n",
    "\n",
    "                mape_pressure = torch.mean(torch.abs((pressure_Y - test_pressureX) / test_pressureX), dim=0)\n",
    "                mape_flow     = torch.mean(torch.abs((flow_Y - test_flowX) / test_flowX), dim=0)\n",
    "                mape_demand   = torch.mean(torch.abs((demand_Y - test_demandX) / test_demandX), dim=0)\n",
    "\n",
    "                r2_pressure = 1 - (torch.sum(((pressure_Y - test_pressureX) ** 2), dim=0) / torch.sum((pressure_Y - torch.mean(pressure_Y)) ** 2, dim=0))\n",
    "                r2_flow     = 1 - (torch.sum(((flow_Y - test_flowX) ** 2), dim=0) / torch.sum((flow_Y - torch.mean(flow_Y)) ** 2, dim=0))\n",
    "                r2_demand   = 1 - (torch.sum(((demand_Y - test_demandX) ** 2), dim=0) / torch.sum((demand_Y - torch.mean(demand_Y)) ** 2, dim=0))\n",
    "\n",
    "                Loss1.append(loss1.detach().cpu().numpy())\n",
    "                Loss2.append(loss2.detach().cpu().numpy())\n",
    "                Loss3.append(loss3.detach().cpu().numpy())\n",
    "\n",
    "                MAE_pressure.append(mae_pressure.detach().cpu().numpy())\n",
    "                MAE_flow.append(mae_flow.detach().cpu().numpy())\n",
    "                MAE_demand.append(mae_demand.detach().cpu().numpy())\n",
    "\n",
    "                MAPE_pressure.append(mape_pressure.detach().cpu().numpy())\n",
    "                MAPE_flow.append(mape_flow.detach().cpu().numpy())\n",
    "                MAPE_demand.append(mape_demand.detach().cpu().numpy())\n",
    "\n",
    "                R2_pressure.append(r2_pressure.detach().cpu().numpy())\n",
    "                R2_flow.append(r2_flow.detach().cpu().numpy())  \n",
    "                R2_demand.append(r2_demand.detach().cpu().numpy())\n",
    "\n",
    "                offset += 1\n",
    "\n",
    "            del pressure_Y, flow_Y, demand_Y, loss1, loss2, loss3\n",
    "            del test_pressureX, test_flowX, test_demandX, test_pressureX_, test_flowX_, test_demandX_\n",
    "\n",
    "    return (Loss1, Loss2, Loss3,\n",
    "            MAE_pressure, MAE_flow, MAE_demand, \n",
    "            MAPE_pressure, MAPE_flow, MAPE_demand,\n",
    "            R2_pressure, R2_flow, R2_demand)"
   ]
  },
  {
   "cell_type": "code",
   "execution_count": 117,
   "metadata": {},
   "outputs": [],
   "source": [
    "args = parse_args()\n",
    "def exp_init():\n",
    "    \"\"\"实验初始化\"\"\"\n",
    "    if not os.path.exists('outputs'):\n",
    "        os.mkdir('outputs')\n",
    "    if not os.path.exists('outputs/' + args.exp_name):\n",
    "        os.mkdir('outputs/' + args.exp_name)"
   ]
  },
  {
   "cell_type": "code",
   "execution_count": 118,
   "metadata": {},
   "outputs": [
    {
     "name": "stdout",
     "output_type": "stream",
     "text": [
      "+----------------------+-------------------------------------------------------+\n",
      "|      Parameter       |                         Value                         |\n",
      "+======================+=======================================================+\n",
      "| Chebyshevdegree      | 8                                                     |\n",
      "+----------------------+-------------------------------------------------------+\n",
      "| Fourierdegree        | 6                                                     |\n",
      "+----------------------+-------------------------------------------------------+\n",
      "| Batch size           | 96                                                    |\n",
      "+----------------------+-------------------------------------------------------+\n",
      "| Cycle file           | D:/GraphormerForRobustness/dataset2/initial_cycle_mat |\n",
      "|                      | rix_dir.csv                                           |\n",
      "+----------------------+-------------------------------------------------------+\n",
      "| Decay epoch          | 1                                                     |\n",
      "+----------------------+-------------------------------------------------------+\n",
      "| Demand sensor name   | [\"2\", \"16\", \"19\", \"22\", \"24\"]                         |\n",
      "+----------------------+-------------------------------------------------------+\n",
      "| Device               | cuda                                                  |\n",
      "+----------------------+-------------------------------------------------------+\n",
      "| Edge adjacency file  | D:/GraphormerForRobustness/dataset/Apulia/edge_adjace |\n",
      "|                      | ncy_matrix.csv                                        |\n",
      "+----------------------+-------------------------------------------------------+\n",
      "| Edge file            | D:/GraphormerForRobustness/dataset2/edge_index_dir.cs |\n",
      "|                      | v                                                     |\n",
      "+----------------------+-------------------------------------------------------+\n",
      "| Exp name             | Exp                                                   |\n",
      "+----------------------+-------------------------------------------------------+\n",
      "| Flow sensor name     | [\"4\", \"7\", \"25\", \"28\", \"34\"]                          |\n",
      "+----------------------+-------------------------------------------------------+\n",
      "| Gamma                | 0.95                                                  |\n",
      "+----------------------+-------------------------------------------------------+\n",
      "| Hidden dim           | 12                                                    |\n",
      "+----------------------+-------------------------------------------------------+\n",
      "| Incidence file       | D:/GraphormerForRobustness/dataset2/initial_incidence |\n",
      "|                      | _matrix_dir.csv                                       |\n",
      "+----------------------+-------------------------------------------------------+\n",
      "| L1 lambda            | 0.0                                                   |\n",
      "+----------------------+-------------------------------------------------------+\n",
      "| L2 lambda            | 0.0                                                   |\n",
      "+----------------------+-------------------------------------------------------+\n",
      "| Learning rate        | 2e-05                                                 |\n",
      "+----------------------+-------------------------------------------------------+\n",
      "| Max epoch            | 50                                                    |\n",
      "+----------------------+-------------------------------------------------------+\n",
      "| Node adjacency file  | D:/GraphormerForRobustness/dataset/Apulia/node_adjace |\n",
      "|                      | ncy_matrix.csv                                        |\n",
      "+----------------------+-------------------------------------------------------+\n",
      "| Node file            | D:/GraphormerForRobustness/dataset/Apulia_2/node_feat |\n",
      "|                      | ures_Apulia2.csv                                      |\n",
      "+----------------------+-------------------------------------------------------+\n",
      "| Num edges            | 34                                                    |\n",
      "+----------------------+-------------------------------------------------------+\n",
      "| Num history          | 1                                                     |\n",
      "+----------------------+-------------------------------------------------------+\n",
      "| Num nodes            | 24                                                    |\n",
      "+----------------------+-------------------------------------------------------+\n",
      "| Num step             | 8640                                                  |\n",
      "+----------------------+-------------------------------------------------------+\n",
      "| Patience             | 10                                                    |\n",
      "+----------------------+-------------------------------------------------------+\n",
      "| Pressure sensor name | [\"4\", \"13\", \"14\", \"23\", \"24\"]                         |\n",
      "+----------------------+-------------------------------------------------------+\n",
      "| Seed                 | 10                                                    |\n",
      "+----------------------+-------------------------------------------------------+\n",
      "| Test ratio           | 0.3333333333333333                                    |\n",
      "+----------------------+-------------------------------------------------------+\n",
      "| Train ratio          | 0.5                                                   |\n",
      "+----------------------+-------------------------------------------------------+\n",
      "| Val ratio            | 0.16666666666666666                                   |\n",
      "+----------------------+-------------------------------------------------------+\n",
      "| Water demand file    | D:/GraphormerForRobustness/dataset2/demand_patten_361 |\n",
      "|                      | 2/simulate_demand3.csv                                |\n",
      "+----------------------+-------------------------------------------------------+\n",
      "| Water flow file      | D:/GraphormerForRobustness/dataset2/demand_patten_361 |\n",
      "|                      | 2/simulate_flow3.csv                                  |\n",
      "+----------------------+-------------------------------------------------------+\n",
      "| Water pressure file  | D:/GraphormerForRobustness/dataset2/demand_patten_361 |\n",
      "|                      | 2/simulate_pressure3.csv                              |\n",
      "+----------------------+-------------------------------------------------------+\n",
      "KANSA(\n",
      "  (flow_batch): Sequential(\n",
      "    (0): Linear(in_features=96, out_features=12, bias=True)\n",
      "    (1): Linear(in_features=12, out_features=96, bias=True)\n",
      "    (2): LayerNorm((96,), eps=1e-05, elementwise_affine=True)\n",
      "  )\n",
      "  (pressure_batch): Sequential(\n",
      "    (0): Linear(in_features=96, out_features=12, bias=True)\n",
      "    (1): Linear(in_features=12, out_features=96, bias=True)\n",
      "    (2): LayerNorm((96,), eps=1e-05, elementwise_affine=True)\n",
      "  )\n",
      "  (demand_batch): Sequential(\n",
      "    (0): Linear(in_features=96, out_features=12, bias=True)\n",
      "    (1): Linear(in_features=12, out_features=96, bias=True)\n",
      "    (2): LayerNorm((96,), eps=1e-05, elementwise_affine=True)\n",
      "  )\n",
      "  (flow_features): Sequential(\n",
      "    (0): Linear(in_features=34, out_features=12, bias=True)\n",
      "    (1): Linear(in_features=12, out_features=34, bias=True)\n",
      "    (2): LayerNorm((34,), eps=1e-05, elementwise_affine=True)\n",
      "  )\n",
      "  (pressure_features): Sequential(\n",
      "    (0): Linear(in_features=24, out_features=12, bias=True)\n",
      "    (1): Linear(in_features=12, out_features=24, bias=True)\n",
      "    (2): LayerNorm((24,), eps=1e-05, elementwise_affine=True)\n",
      "  )\n",
      "  (demand_features): Sequential(\n",
      "    (0): Linear(in_features=23, out_features=12, bias=True)\n",
      "    (1): Linear(in_features=12, out_features=23, bias=True)\n",
      "    (2): LayerNorm((23,), eps=1e-05, elementwise_affine=True)\n",
      "  )\n",
      "  (attention_pressure_batch): Attention(\n",
      "    (query_layer): Linear(in_features=96, out_features=96, bias=True)\n",
      "    (key_layer): Linear(in_features=96, out_features=96, bias=True)\n",
      "    (value_layer): Linear(in_features=96, out_features=96, bias=True)\n",
      "    (layer_norm): LayerNorm((96,), eps=1e-05, elementwise_affine=True)\n",
      "  )\n",
      "  (attention_flow_batch): Attention(\n",
      "    (query_layer): Linear(in_features=96, out_features=96, bias=True)\n",
      "    (key_layer): Linear(in_features=96, out_features=96, bias=True)\n",
      "    (value_layer): Linear(in_features=96, out_features=96, bias=True)\n",
      "    (layer_norm): LayerNorm((96,), eps=1e-05, elementwise_affine=True)\n",
      "  )\n",
      "  (attention_demand_batch): Attention(\n",
      "    (query_layer): Linear(in_features=96, out_features=96, bias=True)\n",
      "    (key_layer): Linear(in_features=96, out_features=96, bias=True)\n",
      "    (value_layer): Linear(in_features=96, out_features=96, bias=True)\n",
      "    (layer_norm): LayerNorm((96,), eps=1e-05, elementwise_affine=True)\n",
      "  )\n",
      "  (attention_pressure_features): Attention(\n",
      "    (query_layer): Linear(in_features=24, out_features=24, bias=True)\n",
      "    (key_layer): Linear(in_features=24, out_features=24, bias=True)\n",
      "    (value_layer): Linear(in_features=24, out_features=24, bias=True)\n",
      "    (layer_norm): LayerNorm((24,), eps=1e-05, elementwise_affine=True)\n",
      "  )\n",
      "  (attention_flow_features): Attention(\n",
      "    (query_layer): Linear(in_features=34, out_features=34, bias=True)\n",
      "    (key_layer): Linear(in_features=34, out_features=34, bias=True)\n",
      "    (value_layer): Linear(in_features=34, out_features=34, bias=True)\n",
      "    (layer_norm): LayerNorm((34,), eps=1e-05, elementwise_affine=True)\n",
      "  )\n",
      "  (attention_demand_features): Attention(\n",
      "    (query_layer): Linear(in_features=23, out_features=23, bias=True)\n",
      "    (key_layer): Linear(in_features=23, out_features=23, bias=True)\n",
      "    (value_layer): Linear(in_features=23, out_features=23, bias=True)\n",
      "    (layer_norm): LayerNorm((23,), eps=1e-05, elementwise_affine=True)\n",
      "  )\n",
      "  (pressure_1): Sequential(\n",
      "    (0): LayerNorm((24,), eps=1e-05, elementwise_affine=True)\n",
      "    (1): Linear(in_features=24, out_features=12, bias=True)\n",
      "    (2): Linear(in_features=12, out_features=12, bias=True)\n",
      "  )\n",
      "  (pressure_2): Sequential(\n",
      "    (0): LayerNorm((24,), eps=1e-05, elementwise_affine=True)\n",
      "    (1): Linear(in_features=24, out_features=12, bias=True)\n",
      "    (2): Linear(in_features=12, out_features=12, bias=True)\n",
      "  )\n",
      "  (flow_1): Sequential(\n",
      "    (0): LayerNorm((34,), eps=1e-05, elementwise_affine=True)\n",
      "    (1): Linear(in_features=34, out_features=12, bias=True)\n",
      "    (2): Linear(in_features=12, out_features=12, bias=True)\n",
      "  )\n",
      "  (flow_2): Sequential(\n",
      "    (0): LayerNorm((34,), eps=1e-05, elementwise_affine=True)\n",
      "    (1): Linear(in_features=34, out_features=12, bias=True)\n",
      "    (2): Linear(in_features=12, out_features=12, bias=True)\n",
      "  )\n",
      "  (demand_1): Sequential(\n",
      "    (0): LayerNorm((23,), eps=1e-05, elementwise_affine=True)\n",
      "    (1): Linear(in_features=23, out_features=12, bias=True)\n",
      "    (2): Linear(in_features=12, out_features=12, bias=True)\n",
      "  )\n",
      "  (demand_2): Sequential(\n",
      "    (0): LayerNorm((23,), eps=1e-05, elementwise_affine=True)\n",
      "    (1): Linear(in_features=23, out_features=12, bias=True)\n",
      "    (2): Linear(in_features=12, out_features=12, bias=True)\n",
      "  )\n",
      "  (pressure_sum): Sequential(\n",
      "    (0): LayerNorm((12,), eps=1e-05, elementwise_affine=True)\n",
      "    (1): Linear(in_features=12, out_features=24, bias=True)\n",
      "    (2): Linear(in_features=24, out_features=24, bias=True)\n",
      "  )\n",
      "  (flow_sum): Sequential(\n",
      "    (0): LayerNorm((12,), eps=1e-05, elementwise_affine=True)\n",
      "    (1): Linear(in_features=12, out_features=24, bias=True)\n",
      "    (2): Linear(in_features=24, out_features=24, bias=True)\n",
      "  )\n",
      "  (demand_sum): Sequential(\n",
      "    (0): LayerNorm((12,), eps=1e-05, elementwise_affine=True)\n",
      "    (1): Linear(in_features=12, out_features=24, bias=True)\n",
      "    (2): Linear(in_features=24, out_features=24, bias=True)\n",
      "  )\n",
      "  (graph): Sequential(\n",
      "    (0): LayerNorm((3,), eps=1e-05, elementwise_affine=True)\n",
      "    (1): Linear(in_features=3, out_features=12, bias=True)\n",
      "    (2): Linear(in_features=12, out_features=1, bias=True)\n",
      "  )\n",
      "  (flow_out): Sequential(\n",
      "    (0): Linear(in_features=24, out_features=68, bias=True)\n",
      "    (1): Linear(in_features=68, out_features=34, bias=True)\n",
      "    (2): Sigmoid()\n",
      "  )\n",
      "  (pressure_out): Sequential(\n",
      "    (0): Linear(in_features=24, out_features=48, bias=True)\n",
      "    (1): Linear(in_features=48, out_features=24, bias=True)\n",
      "    (2): Sigmoid()\n",
      "  )\n",
      "  (demand_out): Sequential(\n",
      "    (0): Linear(in_features=24, out_features=48, bias=True)\n",
      "    (1): Linear(in_features=48, out_features=23, bias=True)\n",
      "    (2): Sigmoid()\n",
      "  )\n",
      ")\n",
      "Model Parameter: 116507\n",
      "Using RMSprop\n"
     ]
    },
    {
     "name": "stderr",
     "output_type": "stream",
     "text": [
      "Train_Loader: 100%|██████████| 4129/4129 [02:26<00:00, 28.16it/s]\n"
     ]
    },
    {
     "name": "stdout",
     "output_type": "stream",
     "text": [
      "Epoch #000, Conservation1: 1013783.5198, Conservation2: 472885557.4455, Conservation3: 320334759.7123\n"
     ]
    },
    {
     "name": "stderr",
     "output_type": "stream",
     "text": [
      "Val_Loader: 100%|██████████| 1249/1249 [00:08<00:00, 141.84it/s]\n"
     ]
    },
    {
     "name": "stdout",
     "output_type": "stream",
     "text": [
      "Epoch #000, Conservation1: 14876.1010, Conservation2: 1757.1154, Conservation3: 26196.7613\n"
     ]
    },
    {
     "name": "stderr",
     "output_type": "stream",
     "text": [
      "Train_Loader: 100%|██████████| 4129/4129 [02:19<00:00, 29.64it/s]\n"
     ]
    },
    {
     "name": "stdout",
     "output_type": "stream",
     "text": [
      "Epoch #001, Conservation1: 4717.1415, Conservation2: 414.3942, Conservation3: 7001.8167\n"
     ]
    },
    {
     "name": "stderr",
     "output_type": "stream",
     "text": [
      "Val_Loader: 100%|██████████| 1249/1249 [00:08<00:00, 143.91it/s]\n"
     ]
    },
    {
     "name": "stdout",
     "output_type": "stream",
     "text": [
      "Epoch #001, Conservation1: 571.2027, Conservation2: 73.5949, Conservation3: 1172.1530\n"
     ]
    },
    {
     "name": "stderr",
     "output_type": "stream",
     "text": [
      "Train_Loader: 100%|██████████| 4129/4129 [02:18<00:00, 29.89it/s]\n"
     ]
    },
    {
     "name": "stdout",
     "output_type": "stream",
     "text": [
      "Epoch #002, Conservation1: 379.5886, Conservation2: 45.0520, Conservation3: 659.4053\n"
     ]
    },
    {
     "name": "stderr",
     "output_type": "stream",
     "text": [
      "Val_Loader: 100%|██████████| 1249/1249 [00:09<00:00, 134.84it/s]\n"
     ]
    },
    {
     "name": "stdout",
     "output_type": "stream",
     "text": [
      "Epoch #002, Conservation1: 314.0070, Conservation2: 29.6819, Conservation3: 424.7537\n"
     ]
    },
    {
     "name": "stderr",
     "output_type": "stream",
     "text": [
      "Train_Loader: 100%|██████████| 4129/4129 [02:19<00:00, 29.52it/s]\n"
     ]
    },
    {
     "name": "stdout",
     "output_type": "stream",
     "text": [
      "Epoch #003, Conservation1: 301.9565, Conservation2: 21.2847, Conservation3: 321.5782\n"
     ]
    },
    {
     "name": "stderr",
     "output_type": "stream",
     "text": [
      "Val_Loader: 100%|██████████| 1249/1249 [00:09<00:00, 136.65it/s]\n"
     ]
    },
    {
     "name": "stdout",
     "output_type": "stream",
     "text": [
      "Epoch #003, Conservation1: 298.8893, Conservation2: 22.7631, Conservation3: 320.0584\n"
     ]
    },
    {
     "name": "stderr",
     "output_type": "stream",
     "text": [
      "Train_Loader: 100%|██████████| 4129/4129 [02:17<00:00, 29.97it/s]\n"
     ]
    },
    {
     "name": "stdout",
     "output_type": "stream",
     "text": [
      "Epoch #004, Conservation1: 262.9352, Conservation2: 17.1191, Conservation3: 240.8344\n"
     ]
    },
    {
     "name": "stderr",
     "output_type": "stream",
     "text": [
      "Val_Loader: 100%|██████████| 1249/1249 [00:08<00:00, 140.45it/s]\n"
     ]
    },
    {
     "name": "stdout",
     "output_type": "stream",
     "text": [
      "Epoch #004, Conservation1: 271.3658, Conservation2: 20.1375, Conservation3: 267.0739\n"
     ]
    },
    {
     "name": "stderr",
     "output_type": "stream",
     "text": [
      "Train_Loader: 100%|██████████| 4129/4129 [02:22<00:00, 28.88it/s]\n"
     ]
    },
    {
     "name": "stdout",
     "output_type": "stream",
     "text": [
      "Epoch #005, Conservation1: 208.1714, Conservation2: 15.2490, Conservation3: 192.8668\n"
     ]
    },
    {
     "name": "stderr",
     "output_type": "stream",
     "text": [
      "Val_Loader: 100%|██████████| 1249/1249 [00:09<00:00, 133.64it/s]\n"
     ]
    },
    {
     "name": "stdout",
     "output_type": "stream",
     "text": [
      "Epoch #005, Conservation1: 156.2255, Conservation2: 18.7281, Conservation3: 226.3713\n"
     ]
    },
    {
     "name": "stderr",
     "output_type": "stream",
     "text": [
      "Train_Loader: 100%|██████████| 4129/4129 [02:21<00:00, 29.15it/s]\n"
     ]
    },
    {
     "name": "stdout",
     "output_type": "stream",
     "text": [
      "Epoch #006, Conservation1: 110.9360, Conservation2: 13.1064, Conservation3: 134.2453\n"
     ]
    },
    {
     "name": "stderr",
     "output_type": "stream",
     "text": [
      "Val_Loader: 100%|██████████| 1249/1249 [00:08<00:00, 142.61it/s]\n"
     ]
    },
    {
     "name": "stdout",
     "output_type": "stream",
     "text": [
      "Epoch #006, Conservation1: 117.1061, Conservation2: 15.4024, Conservation3: 172.1658\n"
     ]
    },
    {
     "name": "stderr",
     "output_type": "stream",
     "text": [
      "Train_Loader: 100%|██████████| 4129/4129 [02:21<00:00, 29.25it/s]\n"
     ]
    },
    {
     "name": "stdout",
     "output_type": "stream",
     "text": [
      "Epoch #007, Conservation1: 93.0522, Conservation2: 11.5805, Conservation3: 112.5250\n"
     ]
    },
    {
     "name": "stderr",
     "output_type": "stream",
     "text": [
      "Val_Loader: 100%|██████████| 1249/1249 [00:08<00:00, 140.77it/s]\n"
     ]
    },
    {
     "name": "stdout",
     "output_type": "stream",
     "text": [
      "Epoch #007, Conservation1: 100.3822, Conservation2: 13.4205, Conservation3: 147.8503\n"
     ]
    },
    {
     "name": "stderr",
     "output_type": "stream",
     "text": [
      "Train_Loader: 100%|██████████| 4129/4129 [02:20<00:00, 29.49it/s]\n"
     ]
    },
    {
     "name": "stdout",
     "output_type": "stream",
     "text": [
      "Epoch #008, Conservation1: 80.6749, Conservation2: 10.3278, Conservation3: 97.7081\n"
     ]
    },
    {
     "name": "stderr",
     "output_type": "stream",
     "text": [
      "Val_Loader: 100%|██████████| 1249/1249 [00:08<00:00, 142.46it/s]\n"
     ]
    },
    {
     "name": "stdout",
     "output_type": "stream",
     "text": [
      "Epoch #008, Conservation1: 86.3599, Conservation2: 11.5521, Conservation3: 124.1149\n"
     ]
    },
    {
     "name": "stderr",
     "output_type": "stream",
     "text": [
      "Train_Loader: 100%|██████████| 4129/4129 [02:16<00:00, 30.15it/s]\n"
     ]
    },
    {
     "name": "stdout",
     "output_type": "stream",
     "text": [
      "Epoch #009, Conservation1: 70.4413, Conservation2: 9.4127, Conservation3: 85.9451\n"
     ]
    },
    {
     "name": "stderr",
     "output_type": "stream",
     "text": [
      "Val_Loader: 100%|██████████| 1249/1249 [00:08<00:00, 143.76it/s]\n"
     ]
    },
    {
     "name": "stdout",
     "output_type": "stream",
     "text": [
      "Epoch #009, Conservation1: 78.4968, Conservation2: 10.8081, Conservation3: 112.1564\n"
     ]
    },
    {
     "name": "stderr",
     "output_type": "stream",
     "text": [
      "Train_Loader: 100%|██████████| 4129/4129 [02:27<00:00, 28.06it/s]\n"
     ]
    },
    {
     "name": "stdout",
     "output_type": "stream",
     "text": [
      "Epoch #010, Conservation1: 63.5076, Conservation2: 8.8010, Conservation3: 76.8986\n"
     ]
    },
    {
     "name": "stderr",
     "output_type": "stream",
     "text": [
      "Val_Loader: 100%|██████████| 1249/1249 [00:08<00:00, 142.62it/s]\n"
     ]
    },
    {
     "name": "stdout",
     "output_type": "stream",
     "text": [
      "Epoch #010, Conservation1: 70.8507, Conservation2: 9.7898, Conservation3: 96.7913\n"
     ]
    },
    {
     "name": "stderr",
     "output_type": "stream",
     "text": [
      "Train_Loader: 100%|██████████| 4129/4129 [02:19<00:00, 29.58it/s]\n"
     ]
    },
    {
     "name": "stdout",
     "output_type": "stream",
     "text": [
      "Epoch #011, Conservation1: 58.6722, Conservation2: 8.3418, Conservation3: 69.7837\n"
     ]
    },
    {
     "name": "stderr",
     "output_type": "stream",
     "text": [
      "Val_Loader: 100%|██████████| 1249/1249 [00:08<00:00, 140.78it/s]\n"
     ]
    },
    {
     "name": "stdout",
     "output_type": "stream",
     "text": [
      "Epoch #011, Conservation1: 64.7161, Conservation2: 8.6947, Conservation3: 82.0842\n"
     ]
    },
    {
     "name": "stderr",
     "output_type": "stream",
     "text": [
      "Train_Loader: 100%|██████████| 4129/4129 [02:22<00:00, 29.07it/s]\n"
     ]
    },
    {
     "name": "stdout",
     "output_type": "stream",
     "text": [
      "Epoch #012, Conservation1: 54.8874, Conservation2: 7.9651, Conservation3: 64.1273\n"
     ]
    },
    {
     "name": "stderr",
     "output_type": "stream",
     "text": [
      "Val_Loader: 100%|██████████| 1249/1249 [00:08<00:00, 141.79it/s]\n"
     ]
    },
    {
     "name": "stdout",
     "output_type": "stream",
     "text": [
      "Epoch #012, Conservation1: 61.0606, Conservation2: 8.4157, Conservation3: 76.8364\n"
     ]
    },
    {
     "name": "stderr",
     "output_type": "stream",
     "text": [
      "Train_Loader: 100%|██████████| 4129/4129 [02:21<00:00, 29.23it/s]\n"
     ]
    },
    {
     "name": "stdout",
     "output_type": "stream",
     "text": [
      "Epoch #013, Conservation1: 51.5793, Conservation2: 7.6564, Conservation3: 59.5873\n"
     ]
    },
    {
     "name": "stderr",
     "output_type": "stream",
     "text": [
      "Val_Loader: 100%|██████████| 1249/1249 [00:09<00:00, 138.66it/s]\n"
     ]
    },
    {
     "name": "stdout",
     "output_type": "stream",
     "text": [
      "Epoch #013, Conservation1: 69.6858, Conservation2: 11.9062, Conservation3: 113.8311\n"
     ]
    },
    {
     "name": "stderr",
     "output_type": "stream",
     "text": [
      "Train_Loader: 100%|██████████| 4129/4129 [02:18<00:00, 29.80it/s]\n"
     ]
    },
    {
     "name": "stdout",
     "output_type": "stream",
     "text": [
      "Epoch #014, Conservation1: 48.5501, Conservation2: 7.3899, Conservation3: 55.7726\n"
     ]
    },
    {
     "name": "stderr",
     "output_type": "stream",
     "text": [
      "Val_Loader: 100%|██████████| 1249/1249 [00:09<00:00, 125.38it/s]\n"
     ]
    },
    {
     "name": "stdout",
     "output_type": "stream",
     "text": [
      "Epoch #014, Conservation1: 64.5756, Conservation2: 11.0161, Conservation3: 102.2313\n"
     ]
    },
    {
     "name": "stderr",
     "output_type": "stream",
     "text": [
      "Train_Loader: 100%|██████████| 4129/4129 [02:22<00:00, 28.88it/s]\n"
     ]
    },
    {
     "name": "stdout",
     "output_type": "stream",
     "text": [
      "Epoch #015, Conservation1: 45.7673, Conservation2: 7.1515, Conservation3: 52.5366\n"
     ]
    },
    {
     "name": "stderr",
     "output_type": "stream",
     "text": [
      "Val_Loader: 100%|██████████| 1249/1249 [00:08<00:00, 139.64it/s]\n"
     ]
    },
    {
     "name": "stdout",
     "output_type": "stream",
     "text": [
      "Epoch #015, Conservation1: 51.9988, Conservation2: 7.9076, Conservation3: 66.3402\n"
     ]
    },
    {
     "name": "stderr",
     "output_type": "stream",
     "text": [
      "Train_Loader: 100%|██████████| 4129/4129 [02:20<00:00, 29.47it/s]\n"
     ]
    },
    {
     "name": "stdout",
     "output_type": "stream",
     "text": [
      "Epoch #016, Conservation1: 43.1943, Conservation2: 6.9278, Conservation3: 49.7115\n"
     ]
    },
    {
     "name": "stderr",
     "output_type": "stream",
     "text": [
      "Val_Loader: 100%|██████████| 1249/1249 [00:08<00:00, 140.73it/s]\n"
     ]
    },
    {
     "name": "stdout",
     "output_type": "stream",
     "text": [
      "Epoch #016, Conservation1: 49.4628, Conservation2: 7.7858, Conservation3: 64.0379\n"
     ]
    },
    {
     "name": "stderr",
     "output_type": "stream",
     "text": [
      "Train_Loader: 100%|██████████| 4129/4129 [02:24<00:00, 28.60it/s]\n"
     ]
    },
    {
     "name": "stdout",
     "output_type": "stream",
     "text": [
      "Epoch #017, Conservation1: 40.8019, Conservation2: 6.7177, Conservation3: 47.1608\n"
     ]
    },
    {
     "name": "stderr",
     "output_type": "stream",
     "text": [
      "Val_Loader: 100%|██████████| 1249/1249 [00:09<00:00, 127.23it/s]\n"
     ]
    },
    {
     "name": "stdout",
     "output_type": "stream",
     "text": [
      "Epoch #017, Conservation1: 47.0150, Conservation2: 7.6301, Conservation3: 61.4633\n"
     ]
    },
    {
     "name": "stderr",
     "output_type": "stream",
     "text": [
      "Train_Loader: 100%|██████████| 4129/4129 [02:21<00:00, 29.13it/s]\n"
     ]
    },
    {
     "name": "stdout",
     "output_type": "stream",
     "text": [
      "Epoch #018, Conservation1: 38.6016, Conservation2: 6.5275, Conservation3: 44.9807\n"
     ]
    },
    {
     "name": "stderr",
     "output_type": "stream",
     "text": [
      "Val_Loader: 100%|██████████| 1249/1249 [00:09<00:00, 136.25it/s]\n"
     ]
    },
    {
     "name": "stdout",
     "output_type": "stream",
     "text": [
      "Epoch #018, Conservation1: 45.3720, Conservation2: 7.6276, Conservation3: 61.4782\n"
     ]
    },
    {
     "name": "stderr",
     "output_type": "stream",
     "text": [
      "Train_Loader: 100%|██████████| 4129/4129 [02:19<00:00, 29.67it/s]\n"
     ]
    },
    {
     "name": "stdout",
     "output_type": "stream",
     "text": [
      "Epoch #019, Conservation1: 36.5451, Conservation2: 6.3477, Conservation3: 43.0345\n"
     ]
    },
    {
     "name": "stderr",
     "output_type": "stream",
     "text": [
      "Val_Loader: 100%|██████████| 1249/1249 [00:08<00:00, 145.76it/s]\n"
     ]
    },
    {
     "name": "stdout",
     "output_type": "stream",
     "text": [
      "Epoch #019, Conservation1: 43.0455, Conservation2: 7.4728, Conservation3: 59.1164\n"
     ]
    },
    {
     "name": "stderr",
     "output_type": "stream",
     "text": [
      "Train_Loader: 100%|██████████| 4129/4129 [02:16<00:00, 30.21it/s]\n"
     ]
    },
    {
     "name": "stdout",
     "output_type": "stream",
     "text": [
      "Epoch #020, Conservation1: 34.6140, Conservation2: 6.1767, Conservation3: 41.2178\n"
     ]
    },
    {
     "name": "stderr",
     "output_type": "stream",
     "text": [
      "Val_Loader: 100%|██████████| 1249/1249 [00:08<00:00, 139.50it/s]\n"
     ]
    },
    {
     "name": "stdout",
     "output_type": "stream",
     "text": [
      "Epoch #020, Conservation1: 40.5720, Conservation2: 7.2898, Conservation3: 56.1073\n"
     ]
    },
    {
     "name": "stderr",
     "output_type": "stream",
     "text": [
      "Train_Loader: 100%|██████████| 4129/4129 [02:17<00:00, 29.96it/s]\n"
     ]
    },
    {
     "name": "stdout",
     "output_type": "stream",
     "text": [
      "Epoch #021, Conservation1: 32.7943, Conservation2: 6.0207, Conservation3: 39.5092\n"
     ]
    },
    {
     "name": "stderr",
     "output_type": "stream",
     "text": [
      "Val_Loader: 100%|██████████| 1249/1249 [00:08<00:00, 140.49it/s]\n"
     ]
    },
    {
     "name": "stdout",
     "output_type": "stream",
     "text": [
      "Epoch #021, Conservation1: 38.4885, Conservation2: 7.1578, Conservation3: 53.8823\n"
     ]
    },
    {
     "name": "stderr",
     "output_type": "stream",
     "text": [
      "Train_Loader: 100%|██████████| 4129/4129 [02:22<00:00, 28.95it/s]\n"
     ]
    },
    {
     "name": "stdout",
     "output_type": "stream",
     "text": [
      "Epoch #022, Conservation1: 31.0909, Conservation2: 5.8814, Conservation3: 37.9022\n"
     ]
    },
    {
     "name": "stderr",
     "output_type": "stream",
     "text": [
      "Val_Loader: 100%|██████████| 1249/1249 [00:10<00:00, 121.16it/s]\n"
     ]
    },
    {
     "name": "stdout",
     "output_type": "stream",
     "text": [
      "Epoch #022, Conservation1: 36.6572, Conservation2: 7.0589, Conservation3: 52.1723\n"
     ]
    },
    {
     "name": "stderr",
     "output_type": "stream",
     "text": [
      "Train_Loader: 100%|██████████| 4129/4129 [02:20<00:00, 29.42it/s]\n"
     ]
    },
    {
     "name": "stdout",
     "output_type": "stream",
     "text": [
      "Epoch #023, Conservation1: 29.5058, Conservation2: 5.7632, Conservation3: 36.4017\n"
     ]
    },
    {
     "name": "stderr",
     "output_type": "stream",
     "text": [
      "Val_Loader: 100%|██████████| 1249/1249 [00:09<00:00, 136.41it/s]\n"
     ]
    },
    {
     "name": "stdout",
     "output_type": "stream",
     "text": [
      "Epoch #023, Conservation1: 34.9802, Conservation2: 6.9832, Conservation3: 50.6264\n"
     ]
    },
    {
     "name": "stderr",
     "output_type": "stream",
     "text": [
      "Train_Loader: 100%|██████████| 4129/4129 [02:22<00:00, 29.03it/s]\n"
     ]
    },
    {
     "name": "stdout",
     "output_type": "stream",
     "text": [
      "Epoch #024, Conservation1: 28.0390, Conservation2: 5.6655, Conservation3: 35.0308\n"
     ]
    },
    {
     "name": "stderr",
     "output_type": "stream",
     "text": [
      "Val_Loader: 100%|██████████| 1249/1249 [00:08<00:00, 141.68it/s]\n"
     ]
    },
    {
     "name": "stdout",
     "output_type": "stream",
     "text": [
      "Epoch #024, Conservation1: 33.4471, Conservation2: 6.9349, Conservation3: 49.2892\n"
     ]
    },
    {
     "name": "stderr",
     "output_type": "stream",
     "text": [
      "Train_Loader: 100%|██████████| 4129/4129 [02:23<00:00, 28.69it/s]\n"
     ]
    },
    {
     "name": "stdout",
     "output_type": "stream",
     "text": [
      "Epoch #025, Conservation1: 26.6864, Conservation2: 5.5874, Conservation3: 33.7760\n"
     ]
    },
    {
     "name": "stderr",
     "output_type": "stream",
     "text": [
      "Val_Loader: 100%|██████████| 1249/1249 [00:09<00:00, 133.44it/s]\n"
     ]
    },
    {
     "name": "stdout",
     "output_type": "stream",
     "text": [
      "Epoch #025, Conservation1: 32.0739, Conservation2: 6.8984, Conservation3: 48.1542\n"
     ]
    },
    {
     "name": "stderr",
     "output_type": "stream",
     "text": [
      "Train_Loader: 100%|██████████| 4129/4129 [02:19<00:00, 29.51it/s]\n"
     ]
    },
    {
     "name": "stdout",
     "output_type": "stream",
     "text": [
      "Epoch #026, Conservation1: 25.4475, Conservation2: 5.5222, Conservation3: 32.6175\n"
     ]
    },
    {
     "name": "stderr",
     "output_type": "stream",
     "text": [
      "Val_Loader: 100%|██████████| 1249/1249 [00:09<00:00, 127.52it/s]\n"
     ]
    },
    {
     "name": "stdout",
     "output_type": "stream",
     "text": [
      "Epoch #026, Conservation1: 30.7303, Conservation2: 6.8456, Conservation3: 46.7259\n"
     ]
    },
    {
     "name": "stderr",
     "output_type": "stream",
     "text": [
      "Train_Loader: 100%|██████████| 4129/4129 [02:20<00:00, 29.40it/s]\n"
     ]
    },
    {
     "name": "stdout",
     "output_type": "stream",
     "text": [
      "Epoch #027, Conservation1: 24.3157, Conservation2: 5.4672, Conservation3: 31.5425\n"
     ]
    },
    {
     "name": "stderr",
     "output_type": "stream",
     "text": [
      "Val_Loader: 100%|██████████| 1249/1249 [00:08<00:00, 143.00it/s]\n"
     ]
    },
    {
     "name": "stdout",
     "output_type": "stream",
     "text": [
      "Epoch #027, Conservation1: 29.5387, Conservation2: 6.8035, Conservation3: 45.5240\n"
     ]
    },
    {
     "name": "stderr",
     "output_type": "stream",
     "text": [
      "Train_Loader: 100%|██████████| 4129/4129 [02:15<00:00, 30.51it/s]\n"
     ]
    },
    {
     "name": "stdout",
     "output_type": "stream",
     "text": [
      "Epoch #028, Conservation1: 23.2856, Conservation2: 5.4183, Conservation3: 30.5452\n"
     ]
    },
    {
     "name": "stderr",
     "output_type": "stream",
     "text": [
      "Val_Loader: 100%|██████████| 1249/1249 [00:08<00:00, 140.64it/s]\n"
     ]
    },
    {
     "name": "stdout",
     "output_type": "stream",
     "text": [
      "Epoch #028, Conservation1: 28.4147, Conservation2: 6.7538, Conservation3: 44.2791\n"
     ]
    },
    {
     "name": "stderr",
     "output_type": "stream",
     "text": [
      "Train_Loader: 100%|██████████| 4129/4129 [02:22<00:00, 28.88it/s]\n"
     ]
    },
    {
     "name": "stdout",
     "output_type": "stream",
     "text": [
      "Epoch #029, Conservation1: 22.3469, Conservation2: 5.3750, Conservation3: 29.6271\n"
     ]
    },
    {
     "name": "stderr",
     "output_type": "stream",
     "text": [
      "Val_Loader: 100%|██████████| 1249/1249 [00:09<00:00, 135.75it/s]\n"
     ]
    },
    {
     "name": "stdout",
     "output_type": "stream",
     "text": [
      "Epoch #029, Conservation1: 27.4212, Conservation2: 6.7112, Conservation3: 43.2507\n"
     ]
    },
    {
     "name": "stderr",
     "output_type": "stream",
     "text": [
      "Train_Loader: 100%|██████████| 4129/4129 [02:20<00:00, 29.36it/s]\n"
     ]
    },
    {
     "name": "stdout",
     "output_type": "stream",
     "text": [
      "Epoch #030, Conservation1: 21.4914, Conservation2: 5.3327, Conservation3: 28.7643\n"
     ]
    },
    {
     "name": "stderr",
     "output_type": "stream",
     "text": [
      "Val_Loader: 100%|██████████| 1249/1249 [00:09<00:00, 138.63it/s]\n"
     ]
    },
    {
     "name": "stdout",
     "output_type": "stream",
     "text": [
      "Epoch #030, Conservation1: 26.4998, Conservation2: 6.6641, Conservation3: 42.2391\n"
     ]
    },
    {
     "name": "stderr",
     "output_type": "stream",
     "text": [
      "Train_Loader: 100%|██████████| 4129/4129 [02:23<00:00, 28.69it/s]\n"
     ]
    },
    {
     "name": "stdout",
     "output_type": "stream",
     "text": [
      "Epoch #031, Conservation1: 20.7155, Conservation2: 5.2927, Conservation3: 27.9750\n"
     ]
    },
    {
     "name": "stderr",
     "output_type": "stream",
     "text": [
      "Val_Loader: 100%|██████████| 1249/1249 [00:09<00:00, 138.44it/s]\n"
     ]
    },
    {
     "name": "stdout",
     "output_type": "stream",
     "text": [
      "Epoch #031, Conservation1: 25.6560, Conservation2: 6.6189, Conservation3: 41.2905\n"
     ]
    },
    {
     "name": "stderr",
     "output_type": "stream",
     "text": [
      "Train_Loader: 100%|██████████| 4129/4129 [02:21<00:00, 29.19it/s]\n"
     ]
    },
    {
     "name": "stdout",
     "output_type": "stream",
     "text": [
      "Epoch #032, Conservation1: 20.0085, Conservation2: 5.2553, Conservation3: 27.2415\n"
     ]
    },
    {
     "name": "stderr",
     "output_type": "stream",
     "text": [
      "Val_Loader: 100%|██████████| 1249/1249 [00:08<00:00, 141.75it/s]\n"
     ]
    },
    {
     "name": "stdout",
     "output_type": "stream",
     "text": [
      "Epoch #032, Conservation1: 24.8789, Conservation2: 6.5760, Conservation3: 40.3900\n"
     ]
    },
    {
     "name": "stderr",
     "output_type": "stream",
     "text": [
      "Train_Loader: 100%|██████████| 4129/4129 [02:17<00:00, 30.04it/s]\n"
     ]
    },
    {
     "name": "stdout",
     "output_type": "stream",
     "text": [
      "Epoch #033, Conservation1: 19.3629, Conservation2: 5.2192, Conservation3: 26.5587\n"
     ]
    },
    {
     "name": "stderr",
     "output_type": "stream",
     "text": [
      "Val_Loader: 100%|██████████| 1249/1249 [00:09<00:00, 135.92it/s]\n"
     ]
    },
    {
     "name": "stdout",
     "output_type": "stream",
     "text": [
      "Epoch #033, Conservation1: 24.1607, Conservation2: 6.5371, Conservation3: 39.5240\n"
     ]
    },
    {
     "name": "stderr",
     "output_type": "stream",
     "text": [
      "Train_Loader: 100%|██████████| 4129/4129 [02:26<00:00, 28.09it/s]\n"
     ]
    },
    {
     "name": "stdout",
     "output_type": "stream",
     "text": [
      "Epoch #034, Conservation1: 18.7751, Conservation2: 5.1851, Conservation3: 25.9232\n"
     ]
    },
    {
     "name": "stderr",
     "output_type": "stream",
     "text": [
      "Val_Loader: 100%|██████████| 1249/1249 [00:09<00:00, 134.51it/s]\n"
     ]
    },
    {
     "name": "stdout",
     "output_type": "stream",
     "text": [
      "Epoch #034, Conservation1: 23.4940, Conservation2: 6.5063, Conservation3: 38.6826\n"
     ]
    },
    {
     "name": "stderr",
     "output_type": "stream",
     "text": [
      "Train_Loader: 100%|██████████| 4129/4129 [02:20<00:00, 29.49it/s]\n"
     ]
    },
    {
     "name": "stdout",
     "output_type": "stream",
     "text": [
      "Epoch #035, Conservation1: 18.2379, Conservation2: 5.1532, Conservation3: 25.3256\n"
     ]
    },
    {
     "name": "stderr",
     "output_type": "stream",
     "text": [
      "Val_Loader: 100%|██████████| 1249/1249 [00:08<00:00, 141.14it/s]\n"
     ]
    },
    {
     "name": "stdout",
     "output_type": "stream",
     "text": [
      "Epoch #035, Conservation1: 22.8561, Conservation2: 6.4705, Conservation3: 37.8037\n"
     ]
    },
    {
     "name": "stderr",
     "output_type": "stream",
     "text": [
      "Train_Loader: 100%|██████████| 4129/4129 [02:23<00:00, 28.81it/s]\n"
     ]
    },
    {
     "name": "stdout",
     "output_type": "stream",
     "text": [
      "Epoch #036, Conservation1: 17.7466, Conservation2: 5.1222, Conservation3: 24.7654\n"
     ]
    },
    {
     "name": "stderr",
     "output_type": "stream",
     "text": [
      "Val_Loader: 100%|██████████| 1249/1249 [00:08<00:00, 142.08it/s]\n"
     ]
    },
    {
     "name": "stdout",
     "output_type": "stream",
     "text": [
      "Epoch #036, Conservation1: 22.2410, Conservation2: 6.4043, Conservation3: 36.8886\n"
     ]
    },
    {
     "name": "stderr",
     "output_type": "stream",
     "text": [
      "Train_Loader: 100%|██████████| 4129/4129 [02:23<00:00, 28.84it/s]\n"
     ]
    },
    {
     "name": "stdout",
     "output_type": "stream",
     "text": [
      "Epoch #037, Conservation1: 17.2952, Conservation2: 5.0914, Conservation3: 24.2460\n"
     ]
    },
    {
     "name": "stderr",
     "output_type": "stream",
     "text": [
      "Val_Loader: 100%|██████████| 1249/1249 [00:09<00:00, 136.78it/s]\n"
     ]
    },
    {
     "name": "stdout",
     "output_type": "stream",
     "text": [
      "Epoch #037, Conservation1: 21.6938, Conservation2: 6.3400, Conservation3: 36.1199\n"
     ]
    },
    {
     "name": "stderr",
     "output_type": "stream",
     "text": [
      "Train_Loader: 100%|██████████| 4129/4129 [02:22<00:00, 29.00it/s]\n"
     ]
    },
    {
     "name": "stdout",
     "output_type": "stream",
     "text": [
      "Epoch #038, Conservation1: 16.8778, Conservation2: 5.0620, Conservation3: 23.7628\n"
     ]
    },
    {
     "name": "stderr",
     "output_type": "stream",
     "text": [
      "Val_Loader: 100%|██████████| 1249/1249 [00:09<00:00, 127.47it/s]\n"
     ]
    },
    {
     "name": "stdout",
     "output_type": "stream",
     "text": [
      "Epoch #038, Conservation1: 21.2089, Conservation2: 6.2884, Conservation3: 35.5012\n"
     ]
    },
    {
     "name": "stderr",
     "output_type": "stream",
     "text": [
      "Train_Loader: 100%|██████████| 4129/4129 [02:22<00:00, 28.89it/s]\n"
     ]
    },
    {
     "name": "stdout",
     "output_type": "stream",
     "text": [
      "Epoch #039, Conservation1: 16.4927, Conservation2: 5.0343, Conservation3: 23.3132\n"
     ]
    },
    {
     "name": "stderr",
     "output_type": "stream",
     "text": [
      "Val_Loader: 100%|██████████| 1249/1249 [00:09<00:00, 138.64it/s]\n"
     ]
    },
    {
     "name": "stdout",
     "output_type": "stream",
     "text": [
      "Epoch #039, Conservation1: 20.7611, Conservation2: 6.2399, Conservation3: 34.9270\n"
     ]
    },
    {
     "name": "stderr",
     "output_type": "stream",
     "text": [
      "Train_Loader: 100%|██████████| 4129/4129 [02:20<00:00, 29.43it/s]\n"
     ]
    },
    {
     "name": "stdout",
     "output_type": "stream",
     "text": [
      "Epoch #040, Conservation1: 16.1357, Conservation2: 5.0083, Conservation3: 22.8935\n"
     ]
    },
    {
     "name": "stderr",
     "output_type": "stream",
     "text": [
      "Val_Loader: 100%|██████████| 1249/1249 [00:08<00:00, 143.23it/s]\n"
     ]
    },
    {
     "name": "stdout",
     "output_type": "stream",
     "text": [
      "Epoch #040, Conservation1: 20.3446, Conservation2: 6.1915, Conservation3: 34.3838\n"
     ]
    },
    {
     "name": "stderr",
     "output_type": "stream",
     "text": [
      "Train_Loader: 100%|██████████| 4129/4129 [02:24<00:00, 28.65it/s]\n"
     ]
    },
    {
     "name": "stdout",
     "output_type": "stream",
     "text": [
      "Epoch #041, Conservation1: 15.8034, Conservation2: 4.9836, Conservation3: 22.5003\n"
     ]
    },
    {
     "name": "stderr",
     "output_type": "stream",
     "text": [
      "Val_Loader: 100%|██████████| 1249/1249 [00:08<00:00, 138.96it/s]\n"
     ]
    },
    {
     "name": "stdout",
     "output_type": "stream",
     "text": [
      "Epoch #041, Conservation1: 19.9586, Conservation2: 6.1447, Conservation3: 33.8773\n"
     ]
    },
    {
     "name": "stderr",
     "output_type": "stream",
     "text": [
      "Train_Loader: 100%|██████████| 4129/4129 [02:20<00:00, 29.38it/s]\n"
     ]
    },
    {
     "name": "stdout",
     "output_type": "stream",
     "text": [
      "Epoch #042, Conservation1: 15.4936, Conservation2: 4.9600, Conservation3: 22.1316\n"
     ]
    },
    {
     "name": "stderr",
     "output_type": "stream",
     "text": [
      "Val_Loader: 100%|██████████| 1249/1249 [00:09<00:00, 138.11it/s]\n"
     ]
    },
    {
     "name": "stdout",
     "output_type": "stream",
     "text": [
      "Epoch #042, Conservation1: 19.6001, Conservation2: 6.1002, Conservation3: 33.4080\n"
     ]
    },
    {
     "name": "stderr",
     "output_type": "stream",
     "text": [
      "Train_Loader: 100%|██████████| 4129/4129 [02:22<00:00, 28.90it/s]\n"
     ]
    },
    {
     "name": "stdout",
     "output_type": "stream",
     "text": [
      "Epoch #043, Conservation1: 15.2043, Conservation2: 4.9374, Conservation3: 21.7859\n"
     ]
    },
    {
     "name": "stderr",
     "output_type": "stream",
     "text": [
      "Val_Loader: 100%|██████████| 1249/1249 [00:08<00:00, 142.91it/s]\n"
     ]
    },
    {
     "name": "stdout",
     "output_type": "stream",
     "text": [
      "Epoch #043, Conservation1: 19.2671, Conservation2: 6.0576, Conservation3: 32.9741\n"
     ]
    },
    {
     "name": "stderr",
     "output_type": "stream",
     "text": [
      "Train_Loader: 100%|██████████| 4129/4129 [02:23<00:00, 28.80it/s]\n"
     ]
    },
    {
     "name": "stdout",
     "output_type": "stream",
     "text": [
      "Epoch #044, Conservation1: 14.9340, Conservation2: 4.9157, Conservation3: 21.4618\n"
     ]
    },
    {
     "name": "stderr",
     "output_type": "stream",
     "text": [
      "Val_Loader: 100%|██████████| 1249/1249 [00:09<00:00, 135.46it/s]\n"
     ]
    },
    {
     "name": "stdout",
     "output_type": "stream",
     "text": [
      "Epoch #044, Conservation1: 18.9567, Conservation2: 6.0170, Conservation3: 32.5717\n"
     ]
    },
    {
     "name": "stderr",
     "output_type": "stream",
     "text": [
      "Train_Loader: 100%|██████████| 4129/4129 [02:19<00:00, 29.55it/s]\n"
     ]
    },
    {
     "name": "stdout",
     "output_type": "stream",
     "text": [
      "Epoch #045, Conservation1: 14.6807, Conservation2: 4.8950, Conservation3: 21.1573\n"
     ]
    },
    {
     "name": "stderr",
     "output_type": "stream",
     "text": [
      "Val_Loader: 100%|██████████| 1249/1249 [00:09<00:00, 130.85it/s]\n"
     ]
    },
    {
     "name": "stdout",
     "output_type": "stream",
     "text": [
      "Epoch #045, Conservation1: 18.6671, Conservation2: 5.9784, Conservation3: 32.1981\n"
     ]
    },
    {
     "name": "stderr",
     "output_type": "stream",
     "text": [
      "Train_Loader: 100%|██████████| 4129/4129 [02:22<00:00, 29.05it/s]\n"
     ]
    },
    {
     "name": "stdout",
     "output_type": "stream",
     "text": [
      "Epoch #046, Conservation1: 14.4427, Conservation2: 4.8751, Conservation3: 20.8708\n"
     ]
    },
    {
     "name": "stderr",
     "output_type": "stream",
     "text": [
      "Val_Loader: 100%|██████████| 1249/1249 [00:09<00:00, 135.10it/s]\n"
     ]
    },
    {
     "name": "stdout",
     "output_type": "stream",
     "text": [
      "Epoch #046, Conservation1: 18.3965, Conservation2: 5.9415, Conservation3: 31.8502\n"
     ]
    },
    {
     "name": "stderr",
     "output_type": "stream",
     "text": [
      "Train_Loader: 100%|██████████| 4129/4129 [02:20<00:00, 29.48it/s]\n"
     ]
    },
    {
     "name": "stdout",
     "output_type": "stream",
     "text": [
      "Epoch #047, Conservation1: 14.2192, Conservation2: 4.8561, Conservation3: 20.6026\n"
     ]
    },
    {
     "name": "stderr",
     "output_type": "stream",
     "text": [
      "Val_Loader: 100%|██████████| 1249/1249 [00:08<00:00, 140.71it/s]\n"
     ]
    },
    {
     "name": "stdout",
     "output_type": "stream",
     "text": [
      "Epoch #047, Conservation1: 18.1416, Conservation2: 5.9062, Conservation3: 31.5234\n"
     ]
    },
    {
     "name": "stderr",
     "output_type": "stream",
     "text": [
      "Train_Loader: 100%|██████████| 4129/4129 [02:23<00:00, 28.70it/s]\n"
     ]
    },
    {
     "name": "stdout",
     "output_type": "stream",
     "text": [
      "Epoch #048, Conservation1: 14.0089, Conservation2: 4.8378, Conservation3: 20.3505\n"
     ]
    },
    {
     "name": "stderr",
     "output_type": "stream",
     "text": [
      "Val_Loader: 100%|██████████| 1249/1249 [00:08<00:00, 141.56it/s]\n"
     ]
    },
    {
     "name": "stdout",
     "output_type": "stream",
     "text": [
      "Epoch #048, Conservation1: 17.9015, Conservation2: 5.8721, Conservation3: 31.2144\n"
     ]
    },
    {
     "name": "stderr",
     "output_type": "stream",
     "text": [
      "Train_Loader: 100%|██████████| 4129/4129 [02:21<00:00, 29.22it/s]\n"
     ]
    },
    {
     "name": "stdout",
     "output_type": "stream",
     "text": [
      "Epoch #049, Conservation1: 13.8107, Conservation2: 4.8200, Conservation3: 20.1130\n"
     ]
    },
    {
     "name": "stderr",
     "output_type": "stream",
     "text": [
      "Val_Loader: 100%|██████████| 1249/1249 [00:09<00:00, 134.01it/s]\n"
     ]
    },
    {
     "name": "stdout",
     "output_type": "stream",
     "text": [
      "Epoch #049, Conservation1: 17.6748, Conservation2: 5.8390, Conservation3: 30.9211\n",
      "The current best model is saved in: ******** outputs/Exp/model.pth *********\n",
      "Total time: 7518.0397s\n",
      "\n",
      "********** TEST START **********\n",
      "Reload Best Model\n",
      "The current best model is saved in: ******** outputs/Exp/model.pth *********\n"
     ]
    },
    {
     "name": "stderr",
     "output_type": "stream",
     "text": [
      "Test_Loader: 100%|██████████| 288/288 [00:03<00:00, 81.04it/s]\n"
     ]
    },
    {
     "name": "stdout",
     "output_type": "stream",
     "text": [
      "Loss1: 22.8612, Loss2: 10.3294, Loss3: 54.2655\n"
     ]
    },
    {
     "name": "stderr",
     "output_type": "stream",
     "text": [
      "Test_Loader: 100%|██████████| 288/288 [00:03<00:00, 81.37it/s]\n"
     ]
    },
    {
     "name": "stdout",
     "output_type": "stream",
     "text": [
      "Loss1: 22.5602, Loss2: 9.7596, Loss3: 52.5532\n"
     ]
    },
    {
     "name": "stderr",
     "output_type": "stream",
     "text": [
      "Test_Loader: 100%|██████████| 288/288 [00:03<00:00, 79.81it/s]\n"
     ]
    },
    {
     "name": "stdout",
     "output_type": "stream",
     "text": [
      "Loss1: 21.8099, Loss2: 9.5137, Loss3: 55.1065\n"
     ]
    },
    {
     "name": "stderr",
     "output_type": "stream",
     "text": [
      "Test_Loader: 100%|██████████| 288/288 [00:04<00:00, 70.17it/s]\n"
     ]
    },
    {
     "name": "stdout",
     "output_type": "stream",
     "text": [
      "Loss1: 22.5652, Loss2: 9.3098, Loss3: 52.4048\n"
     ]
    },
    {
     "name": "stderr",
     "output_type": "stream",
     "text": [
      "Test_Loader: 100%|██████████| 288/288 [00:04<00:00, 66.84it/s]\n"
     ]
    },
    {
     "name": "stdout",
     "output_type": "stream",
     "text": [
      "Loss1: 21.3149, Loss2: 9.0003, Loss3: 50.4049\n"
     ]
    },
    {
     "name": "stderr",
     "output_type": "stream",
     "text": [
      "Test_Loader: 100%|██████████| 288/288 [00:04<00:00, 67.84it/s]\n"
     ]
    },
    {
     "name": "stdout",
     "output_type": "stream",
     "text": [
      "Loss1: 21.5723, Loss2: 8.8917, Loss3: 50.4035\n"
     ]
    },
    {
     "name": "stderr",
     "output_type": "stream",
     "text": [
      "Test_Loader: 100%|██████████| 288/288 [00:03<00:00, 72.29it/s]\n"
     ]
    },
    {
     "name": "stdout",
     "output_type": "stream",
     "text": [
      "Loss1: 21.8047, Loss2: 10.7500, Loss3: 53.4798\n"
     ]
    },
    {
     "name": "stderr",
     "output_type": "stream",
     "text": [
      "Test_Loader: 100%|██████████| 288/288 [00:03<00:00, 77.69it/s]\n"
     ]
    },
    {
     "name": "stdout",
     "output_type": "stream",
     "text": [
      "Loss1: 22.1310, Loss2: 9.7379, Loss3: 54.1871\n"
     ]
    },
    {
     "name": "stderr",
     "output_type": "stream",
     "text": [
      "Test_Loader: 100%|██████████| 288/288 [00:03<00:00, 73.19it/s]\n"
     ]
    },
    {
     "name": "stdout",
     "output_type": "stream",
     "text": [
      "Loss1: 21.6243, Loss2: 9.7321, Loss3: 48.9654\n"
     ]
    },
    {
     "name": "stderr",
     "output_type": "stream",
     "text": [
      "Test_Loader: 100%|██████████| 288/288 [00:04<00:00, 71.51it/s]\n"
     ]
    },
    {
     "name": "stdout",
     "output_type": "stream",
     "text": [
      "Loss1: 20.7470, Loss2: 8.9413, Loss3: 47.4216\n"
     ]
    },
    {
     "name": "stderr",
     "output_type": "stream",
     "text": [
      "Test_Loader: 100%|██████████| 288/288 [00:03<00:00, 77.71it/s]\n"
     ]
    },
    {
     "name": "stdout",
     "output_type": "stream",
     "text": [
      "Loss1: 21.8279, Loss2: 12.1953, Loss3: 53.4104\n"
     ]
    },
    {
     "name": "stderr",
     "output_type": "stream",
     "text": [
      "Test_Loader: 100%|██████████| 288/288 [00:03<00:00, 79.40it/s]\n"
     ]
    },
    {
     "name": "stdout",
     "output_type": "stream",
     "text": [
      "Loss1: 20.5992, Loss2: 9.2765, Loss3: 47.5987\n"
     ]
    },
    {
     "name": "stderr",
     "output_type": "stream",
     "text": [
      "Test_Loader: 100%|██████████| 288/288 [00:03<00:00, 77.48it/s]\n"
     ]
    },
    {
     "name": "stdout",
     "output_type": "stream",
     "text": [
      "Loss1: 20.6798, Loss2: 9.2280, Loss3: 47.7785\n"
     ]
    },
    {
     "name": "stderr",
     "output_type": "stream",
     "text": [
      "Test_Loader: 100%|██████████| 288/288 [00:03<00:00, 74.61it/s]\n"
     ]
    },
    {
     "name": "stdout",
     "output_type": "stream",
     "text": [
      "Loss1: 21.8312, Loss2: 8.8391, Loss3: 47.1139\n"
     ]
    },
    {
     "name": "stderr",
     "output_type": "stream",
     "text": [
      "Test_Loader: 100%|██████████| 288/288 [00:04<00:00, 71.57it/s]\n"
     ]
    },
    {
     "name": "stdout",
     "output_type": "stream",
     "text": [
      "Loss1: 20.5180, Loss2: 9.1056, Loss3: 53.9607\n"
     ]
    },
    {
     "name": "stderr",
     "output_type": "stream",
     "text": [
      "Test_Loader: 100%|██████████| 288/288 [00:04<00:00, 68.80it/s]\n"
     ]
    },
    {
     "name": "stdout",
     "output_type": "stream",
     "text": [
      "Loss1: 20.8972, Loss2: 9.2417, Loss3: 46.7224\n"
     ]
    },
    {
     "name": "stderr",
     "output_type": "stream",
     "text": [
      "Test_Loader: 100%|██████████| 288/288 [00:04<00:00, 68.82it/s]\n"
     ]
    },
    {
     "name": "stdout",
     "output_type": "stream",
     "text": [
      "Loss1: 20.3142, Loss2: 8.4551, Loss3: 45.9413\n"
     ]
    },
    {
     "name": "stderr",
     "output_type": "stream",
     "text": [
      "Test_Loader: 100%|██████████| 288/288 [00:03<00:00, 78.77it/s]\n"
     ]
    },
    {
     "name": "stdout",
     "output_type": "stream",
     "text": [
      "Loss1: 20.5244, Loss2: 8.8645, Loss3: 45.9357\n"
     ]
    },
    {
     "name": "stderr",
     "output_type": "stream",
     "text": [
      "Test_Loader: 100%|██████████| 288/288 [00:03<00:00, 81.56it/s]\n"
     ]
    },
    {
     "name": "stdout",
     "output_type": "stream",
     "text": [
      "Loss1: 20.7304, Loss2: 9.2990, Loss3: 49.3519\n"
     ]
    },
    {
     "name": "stderr",
     "output_type": "stream",
     "text": [
      "Test_Loader: 100%|██████████| 288/288 [00:03<00:00, 78.54it/s]\n"
     ]
    },
    {
     "name": "stdout",
     "output_type": "stream",
     "text": [
      "Loss1: 20.2348, Loss2: 8.1371, Loss3: 44.2319\n"
     ]
    },
    {
     "name": "stderr",
     "output_type": "stream",
     "text": [
      "Test_Loader: 100%|██████████| 288/288 [00:03<00:00, 80.90it/s]\n"
     ]
    },
    {
     "name": "stdout",
     "output_type": "stream",
     "text": [
      "Loss1: 20.5000, Loss2: 8.1563, Loss3: 45.8073\n"
     ]
    },
    {
     "name": "stderr",
     "output_type": "stream",
     "text": [
      "Test_Loader: 100%|██████████| 288/288 [00:03<00:00, 80.81it/s]\n"
     ]
    },
    {
     "name": "stdout",
     "output_type": "stream",
     "text": [
      "Loss1: 19.7277, Loss2: 8.2288, Loss3: 44.4247\n"
     ]
    },
    {
     "name": "stderr",
     "output_type": "stream",
     "text": [
      "Test_Loader: 100%|██████████| 288/288 [00:03<00:00, 78.71it/s]\n"
     ]
    },
    {
     "name": "stdout",
     "output_type": "stream",
     "text": [
      "Loss1: 19.7773, Loss2: 8.3362, Loss3: 46.6216\n"
     ]
    },
    {
     "name": "stderr",
     "output_type": "stream",
     "text": [
      "Test_Loader: 100%|██████████| 288/288 [00:03<00:00, 75.20it/s]\n"
     ]
    },
    {
     "name": "stdout",
     "output_type": "stream",
     "text": [
      "Loss1: 20.4637, Loss2: 9.0378, Loss3: 47.6031\n"
     ]
    },
    {
     "name": "stderr",
     "output_type": "stream",
     "text": [
      "Test_Loader: 100%|██████████| 288/288 [00:03<00:00, 74.55it/s]\n"
     ]
    },
    {
     "name": "stdout",
     "output_type": "stream",
     "text": [
      "Loss1: 20.0661, Loss2: 8.0930, Loss3: 44.1973\n"
     ]
    },
    {
     "name": "stderr",
     "output_type": "stream",
     "text": [
      "Test_Loader: 100%|██████████| 288/288 [00:04<00:00, 71.01it/s]\n"
     ]
    },
    {
     "name": "stdout",
     "output_type": "stream",
     "text": [
      "Loss1: 19.4773, Loss2: 8.3158, Loss3: 43.9736\n"
     ]
    },
    {
     "name": "stderr",
     "output_type": "stream",
     "text": [
      "Test_Loader: 100%|██████████| 288/288 [00:03<00:00, 72.71it/s]\n"
     ]
    },
    {
     "name": "stdout",
     "output_type": "stream",
     "text": [
      "Loss1: 19.8731, Loss2: 8.0171, Loss3: 44.8547\n"
     ]
    },
    {
     "name": "stderr",
     "output_type": "stream",
     "text": [
      "Test_Loader: 100%|██████████| 288/288 [00:03<00:00, 73.13it/s]\n"
     ]
    },
    {
     "name": "stdout",
     "output_type": "stream",
     "text": [
      "Loss1: 19.7477, Loss2: 8.3877, Loss3: 43.3238\n"
     ]
    },
    {
     "name": "stderr",
     "output_type": "stream",
     "text": [
      "Test_Loader: 100%|██████████| 288/288 [00:03<00:00, 79.96it/s]\n"
     ]
    },
    {
     "name": "stdout",
     "output_type": "stream",
     "text": [
      "Loss1: 20.1815, Loss2: 8.6365, Loss3: 46.3905\n"
     ]
    },
    {
     "name": "stderr",
     "output_type": "stream",
     "text": [
      "Test_Loader: 100%|██████████| 288/288 [00:03<00:00, 81.75it/s]\n"
     ]
    },
    {
     "name": "stdout",
     "output_type": "stream",
     "text": [
      "Loss1: 20.1441, Loss2: 8.4982, Loss3: 45.7005\n"
     ]
    },
    {
     "name": "stderr",
     "output_type": "stream",
     "text": [
      "Test_Loader: 100%|██████████| 288/288 [00:03<00:00, 79.34it/s]\n"
     ]
    },
    {
     "name": "stdout",
     "output_type": "stream",
     "text": [
      "Loss1: 19.9703, Loss2: 8.8451, Loss3: 45.1655\n"
     ]
    },
    {
     "name": "stderr",
     "output_type": "stream",
     "text": [
      "Test_Loader: 100%|██████████| 288/288 [00:03<00:00, 76.07it/s]\n"
     ]
    },
    {
     "name": "stdout",
     "output_type": "stream",
     "text": [
      "Loss1: 20.5566, Loss2: 8.1708, Loss3: 43.5534\n"
     ]
    },
    {
     "name": "stderr",
     "output_type": "stream",
     "text": [
      "Test_Loader: 100%|██████████| 288/288 [00:03<00:00, 75.88it/s]\n"
     ]
    },
    {
     "name": "stdout",
     "output_type": "stream",
     "text": [
      "Loss1: 20.3424, Loss2: 8.4631, Loss3: 44.8618\n"
     ]
    },
    {
     "name": "stderr",
     "output_type": "stream",
     "text": [
      "Test_Loader: 100%|██████████| 288/288 [00:03<00:00, 75.67it/s]\n"
     ]
    },
    {
     "name": "stdout",
     "output_type": "stream",
     "text": [
      "Loss1: 21.0580, Loss2: 8.9406, Loss3: 46.9369\n"
     ]
    },
    {
     "name": "stderr",
     "output_type": "stream",
     "text": [
      "Test_Loader: 100%|██████████| 288/288 [00:03<00:00, 81.70it/s]\n"
     ]
    },
    {
     "name": "stdout",
     "output_type": "stream",
     "text": [
      "Loss1: 19.4699, Loss2: 8.6006, Loss3: 43.1760\n"
     ]
    },
    {
     "name": "stderr",
     "output_type": "stream",
     "text": [
      "Test_Loader: 100%|██████████| 288/288 [00:03<00:00, 85.26it/s]\n"
     ]
    },
    {
     "name": "stdout",
     "output_type": "stream",
     "text": [
      "Loss1: 19.2314, Loss2: 7.8933, Loss3: 44.0979\n"
     ]
    },
    {
     "name": "stderr",
     "output_type": "stream",
     "text": [
      "Test_Loader: 100%|██████████| 288/288 [00:03<00:00, 85.27it/s]\n"
     ]
    },
    {
     "name": "stdout",
     "output_type": "stream",
     "text": [
      "Loss1: 18.9491, Loss2: 8.1546, Loss3: 42.1485\n"
     ]
    },
    {
     "name": "stderr",
     "output_type": "stream",
     "text": [
      "Test_Loader: 100%|██████████| 288/288 [00:03<00:00, 81.93it/s]\n"
     ]
    },
    {
     "name": "stdout",
     "output_type": "stream",
     "text": [
      "Loss1: 19.0404, Loss2: 7.6846, Loss3: 41.4907\n"
     ]
    },
    {
     "name": "stderr",
     "output_type": "stream",
     "text": [
      "Test_Loader: 100%|██████████| 288/288 [00:03<00:00, 81.86it/s]\n"
     ]
    },
    {
     "name": "stdout",
     "output_type": "stream",
     "text": [
      "Loss1: 19.7457, Loss2: 8.6063, Loss3: 43.0719\n"
     ]
    },
    {
     "name": "stderr",
     "output_type": "stream",
     "text": [
      "Test_Loader: 100%|██████████| 288/288 [00:03<00:00, 80.96it/s]\n"
     ]
    },
    {
     "name": "stdout",
     "output_type": "stream",
     "text": [
      "Loss1: 19.5326, Loss2: 8.6070, Loss3: 44.9585\n"
     ]
    },
    {
     "name": "stderr",
     "output_type": "stream",
     "text": [
      "Test_Loader: 100%|██████████| 288/288 [00:03<00:00, 80.76it/s]\n"
     ]
    },
    {
     "name": "stdout",
     "output_type": "stream",
     "text": [
      "Loss1: 20.3724, Loss2: 7.6013, Loss3: 43.5133\n"
     ]
    },
    {
     "name": "stderr",
     "output_type": "stream",
     "text": [
      "Test_Loader: 100%|██████████| 288/288 [00:03<00:00, 80.26it/s]\n"
     ]
    },
    {
     "name": "stdout",
     "output_type": "stream",
     "text": [
      "Loss1: 21.7518, Loss2: 9.0571, Loss3: 54.8872\n"
     ]
    },
    {
     "name": "stderr",
     "output_type": "stream",
     "text": [
      "Test_Loader: 100%|██████████| 288/288 [00:03<00:00, 84.94it/s]\n"
     ]
    },
    {
     "name": "stdout",
     "output_type": "stream",
     "text": [
      "Loss1: 22.2457, Loss2: 9.7096, Loss3: 62.2931\n"
     ]
    },
    {
     "name": "stderr",
     "output_type": "stream",
     "text": [
      "Test_Loader: 100%|██████████| 288/288 [00:03<00:00, 86.36it/s]\n"
     ]
    },
    {
     "name": "stdout",
     "output_type": "stream",
     "text": [
      "Loss1: 22.9425, Loss2: 9.7036, Loss3: 56.8625\n"
     ]
    },
    {
     "name": "stderr",
     "output_type": "stream",
     "text": [
      "Test_Loader: 100%|██████████| 288/288 [00:03<00:00, 85.36it/s]\n"
     ]
    },
    {
     "name": "stdout",
     "output_type": "stream",
     "text": [
      "Loss1: 21.7071, Loss2: 13.5853, Loss3: 57.5236\n"
     ]
    },
    {
     "name": "stderr",
     "output_type": "stream",
     "text": [
      "Test_Loader: 100%|██████████| 288/288 [00:03<00:00, 86.49it/s]\n"
     ]
    },
    {
     "name": "stdout",
     "output_type": "stream",
     "text": [
      "Loss1: 21.2558, Loss2: 10.0638, Loss3: 47.8294\n"
     ]
    },
    {
     "name": "stderr",
     "output_type": "stream",
     "text": [
      "Test_Loader: 100%|██████████| 288/288 [00:03<00:00, 86.78it/s]\n"
     ]
    },
    {
     "name": "stdout",
     "output_type": "stream",
     "text": [
      "Loss1: 19.5217, Loss2: 9.4118, Loss3: 48.8198\n"
     ]
    },
    {
     "name": "stderr",
     "output_type": "stream",
     "text": [
      "Test_Loader: 100%|██████████| 288/288 [00:03<00:00, 86.90it/s]\n"
     ]
    },
    {
     "name": "stdout",
     "output_type": "stream",
     "text": [
      "Loss1: 21.3998, Loss2: 9.8218, Loss3: 57.3537\n"
     ]
    },
    {
     "name": "stderr",
     "output_type": "stream",
     "text": [
      "Test_Loader: 100%|██████████| 288/288 [00:03<00:00, 79.36it/s]\n"
     ]
    },
    {
     "name": "stdout",
     "output_type": "stream",
     "text": [
      "Loss1: 21.4688, Loss2: 9.8311, Loss3: 57.5897\n"
     ]
    },
    {
     "name": "stderr",
     "output_type": "stream",
     "text": [
      "Test_Loader: 100%|██████████| 288/288 [00:03<00:00, 74.77it/s]\n"
     ]
    },
    {
     "name": "stdout",
     "output_type": "stream",
     "text": [
      "Loss1: 21.9924, Loss2: 11.2369, Loss3: 57.9206\n"
     ]
    },
    {
     "name": "stderr",
     "output_type": "stream",
     "text": [
      "Test_Loader: 100%|██████████| 288/288 [00:03<00:00, 76.29it/s]\n"
     ]
    },
    {
     "name": "stdout",
     "output_type": "stream",
     "text": [
      "Loss1: 21.6022, Loss2: 9.7414, Loss3: 56.2571\n"
     ]
    },
    {
     "name": "stderr",
     "output_type": "stream",
     "text": [
      "Test_Loader: 100%|██████████| 288/288 [00:03<00:00, 79.36it/s]\n"
     ]
    },
    {
     "name": "stdout",
     "output_type": "stream",
     "text": [
      "Loss1: 22.2413, Loss2: 12.3324, Loss3: 53.8153\n"
     ]
    },
    {
     "name": "stderr",
     "output_type": "stream",
     "text": [
      "Test_Loader: 100%|██████████| 288/288 [00:03<00:00, 75.35it/s]\n"
     ]
    },
    {
     "name": "stdout",
     "output_type": "stream",
     "text": [
      "Loss1: 21.5352, Loss2: 10.6997, Loss3: 53.5470\n"
     ]
    },
    {
     "name": "stderr",
     "output_type": "stream",
     "text": [
      "Test_Loader: 100%|██████████| 288/288 [00:03<00:00, 77.42it/s]\n"
     ]
    },
    {
     "name": "stdout",
     "output_type": "stream",
     "text": [
      "Loss1: 21.9040, Loss2: 9.9765, Loss3: 60.3408\n"
     ]
    },
    {
     "name": "stderr",
     "output_type": "stream",
     "text": [
      "Test_Loader: 100%|██████████| 288/288 [00:03<00:00, 80.99it/s]\n"
     ]
    },
    {
     "name": "stdout",
     "output_type": "stream",
     "text": [
      "Loss1: 23.3822, Loss2: 12.3163, Loss3: 69.2576\n"
     ]
    },
    {
     "name": "stderr",
     "output_type": "stream",
     "text": [
      "Test_Loader: 100%|██████████| 288/288 [00:03<00:00, 77.01it/s]\n"
     ]
    },
    {
     "name": "stdout",
     "output_type": "stream",
     "text": [
      "Loss1: 22.1020, Loss2: 10.3526, Loss3: 66.0741\n"
     ]
    },
    {
     "name": "stderr",
     "output_type": "stream",
     "text": [
      "Test_Loader: 100%|██████████| 288/288 [00:03<00:00, 77.46it/s]\n"
     ]
    },
    {
     "name": "stdout",
     "output_type": "stream",
     "text": [
      "Loss1: 22.6428, Loss2: 10.6132, Loss3: 68.7178\n"
     ]
    },
    {
     "name": "stderr",
     "output_type": "stream",
     "text": [
      "Test_Loader: 100%|██████████| 288/288 [00:03<00:00, 77.44it/s]\n"
     ]
    },
    {
     "name": "stdout",
     "output_type": "stream",
     "text": [
      "Loss1: 22.2539, Loss2: 10.3990, Loss3: 64.5247\n"
     ]
    },
    {
     "name": "stderr",
     "output_type": "stream",
     "text": [
      "Test_Loader: 100%|██████████| 288/288 [00:03<00:00, 83.08it/s]\n"
     ]
    },
    {
     "name": "stdout",
     "output_type": "stream",
     "text": [
      "Loss1: 21.3864, Loss2: 10.9638, Loss3: 64.8028\n"
     ]
    },
    {
     "name": "stderr",
     "output_type": "stream",
     "text": [
      "Test_Loader: 100%|██████████| 288/288 [00:03<00:00, 83.14it/s]\n"
     ]
    },
    {
     "name": "stdout",
     "output_type": "stream",
     "text": [
      "Loss1: 21.6161, Loss2: 10.3001, Loss3: 60.1732\n"
     ]
    },
    {
     "name": "stderr",
     "output_type": "stream",
     "text": [
      "Test_Loader: 100%|██████████| 288/288 [00:03<00:00, 86.31it/s]\n"
     ]
    },
    {
     "name": "stdout",
     "output_type": "stream",
     "text": [
      "Loss1: 23.4954, Loss2: 10.9181, Loss3: 67.2965\n"
     ]
    },
    {
     "name": "stderr",
     "output_type": "stream",
     "text": [
      "Test_Loader: 100%|██████████| 288/288 [00:03<00:00, 84.56it/s]\n"
     ]
    },
    {
     "name": "stdout",
     "output_type": "stream",
     "text": [
      "Loss1: 22.8050, Loss2: 9.8998, Loss3: 63.7534\n"
     ]
    },
    {
     "name": "stderr",
     "output_type": "stream",
     "text": [
      "Test_Loader: 100%|██████████| 288/288 [00:03<00:00, 81.05it/s]\n"
     ]
    },
    {
     "name": "stdout",
     "output_type": "stream",
     "text": [
      "Loss1: 21.3875, Loss2: 11.2475, Loss3: 60.8259\n"
     ]
    },
    {
     "name": "stderr",
     "output_type": "stream",
     "text": [
      "Test_Loader: 100%|██████████| 288/288 [00:03<00:00, 83.02it/s]\n"
     ]
    },
    {
     "name": "stdout",
     "output_type": "stream",
     "text": [
      "Loss1: 21.8168, Loss2: 10.8774, Loss3: 62.8463\n"
     ]
    },
    {
     "name": "stderr",
     "output_type": "stream",
     "text": [
      "Test_Loader: 100%|██████████| 288/288 [00:03<00:00, 73.98it/s]\n"
     ]
    },
    {
     "name": "stdout",
     "output_type": "stream",
     "text": [
      "Loss1: 21.3484, Loss2: 9.8654, Loss3: 68.4859\n"
     ]
    },
    {
     "name": "stderr",
     "output_type": "stream",
     "text": [
      "Test_Loader: 100%|██████████| 288/288 [00:04<00:00, 69.75it/s]\n"
     ]
    },
    {
     "name": "stdout",
     "output_type": "stream",
     "text": [
      "Loss1: 21.8655, Loss2: 10.6628, Loss3: 65.7809\n"
     ]
    },
    {
     "name": "stderr",
     "output_type": "stream",
     "text": [
      "Test_Loader: 100%|██████████| 288/288 [00:03<00:00, 78.75it/s]\n"
     ]
    },
    {
     "name": "stdout",
     "output_type": "stream",
     "text": [
      "Loss1: 21.7433, Loss2: 9.4366, Loss3: 67.1642\n"
     ]
    },
    {
     "name": "stderr",
     "output_type": "stream",
     "text": [
      "Test_Loader: 100%|██████████| 288/288 [00:03<00:00, 76.73it/s]\n"
     ]
    },
    {
     "name": "stdout",
     "output_type": "stream",
     "text": [
      "Loss1: 23.7587, Loss2: 11.3764, Loss3: 68.3018\n"
     ]
    },
    {
     "name": "stderr",
     "output_type": "stream",
     "text": [
      "Test_Loader: 100%|██████████| 288/288 [00:03<00:00, 77.03it/s]\n"
     ]
    },
    {
     "name": "stdout",
     "output_type": "stream",
     "text": [
      "Loss1: 22.1117, Loss2: 10.2860, Loss3: 63.4378\n"
     ]
    },
    {
     "name": "stderr",
     "output_type": "stream",
     "text": [
      "Test_Loader: 100%|██████████| 288/288 [00:03<00:00, 76.00it/s]\n"
     ]
    },
    {
     "name": "stdout",
     "output_type": "stream",
     "text": [
      "Loss1: 21.6326, Loss2: 11.1159, Loss3: 64.7779\n"
     ]
    },
    {
     "name": "stderr",
     "output_type": "stream",
     "text": [
      "Test_Loader: 100%|██████████| 288/288 [00:03<00:00, 80.54it/s]\n"
     ]
    },
    {
     "name": "stdout",
     "output_type": "stream",
     "text": [
      "Loss1: 21.6982, Loss2: 10.3999, Loss3: 64.3782\n"
     ]
    },
    {
     "name": "stderr",
     "output_type": "stream",
     "text": [
      "Test_Loader: 100%|██████████| 288/288 [00:03<00:00, 80.50it/s]\n"
     ]
    },
    {
     "name": "stdout",
     "output_type": "stream",
     "text": [
      "Loss1: 22.5824, Loss2: 12.8448, Loss3: 65.1631\n"
     ]
    },
    {
     "name": "stderr",
     "output_type": "stream",
     "text": [
      "Test_Loader: 100%|██████████| 288/288 [00:03<00:00, 84.42it/s]\n"
     ]
    },
    {
     "name": "stdout",
     "output_type": "stream",
     "text": [
      "Loss1: 22.5552, Loss2: 12.2823, Loss3: 66.3005\n"
     ]
    },
    {
     "name": "stderr",
     "output_type": "stream",
     "text": [
      "Test_Loader: 100%|██████████| 288/288 [00:03<00:00, 82.19it/s]\n"
     ]
    },
    {
     "name": "stdout",
     "output_type": "stream",
     "text": [
      "Loss1: 22.4405, Loss2: 10.5152, Loss3: 69.1540\n"
     ]
    },
    {
     "name": "stderr",
     "output_type": "stream",
     "text": [
      "Test_Loader: 100%|██████████| 288/288 [00:03<00:00, 81.04it/s]\n"
     ]
    },
    {
     "name": "stdout",
     "output_type": "stream",
     "text": [
      "Loss1: 22.9606, Loss2: 11.4282, Loss3: 69.6667\n"
     ]
    },
    {
     "name": "stderr",
     "output_type": "stream",
     "text": [
      "Test_Loader: 100%|██████████| 288/288 [00:03<00:00, 75.17it/s]\n"
     ]
    },
    {
     "name": "stdout",
     "output_type": "stream",
     "text": [
      "Loss1: 21.8198, Loss2: 10.8614, Loss3: 62.8647\n"
     ]
    },
    {
     "name": "stderr",
     "output_type": "stream",
     "text": [
      "Test_Loader: 100%|██████████| 288/288 [00:03<00:00, 75.80it/s]\n"
     ]
    },
    {
     "name": "stdout",
     "output_type": "stream",
     "text": [
      "Loss1: 23.4520, Loss2: 12.6698, Loss3: 67.3226\n"
     ]
    },
    {
     "name": "stderr",
     "output_type": "stream",
     "text": [
      "Test_Loader: 100%|██████████| 288/288 [00:03<00:00, 74.43it/s]\n"
     ]
    },
    {
     "name": "stdout",
     "output_type": "stream",
     "text": [
      "Loss1: 22.2603, Loss2: 11.5867, Loss3: 62.9245\n"
     ]
    },
    {
     "name": "stderr",
     "output_type": "stream",
     "text": [
      "Test_Loader: 100%|██████████| 288/288 [00:04<00:00, 71.20it/s]\n"
     ]
    },
    {
     "name": "stdout",
     "output_type": "stream",
     "text": [
      "Loss1: 23.1482, Loss2: 11.9690, Loss3: 61.6863\n"
     ]
    },
    {
     "name": "stderr",
     "output_type": "stream",
     "text": [
      "Test_Loader: 100%|██████████| 288/288 [00:03<00:00, 74.37it/s]\n"
     ]
    },
    {
     "name": "stdout",
     "output_type": "stream",
     "text": [
      "Loss1: 22.8224, Loss2: 10.4562, Loss3: 65.0883\n"
     ]
    },
    {
     "name": "stderr",
     "output_type": "stream",
     "text": [
      "Test_Loader: 100%|██████████| 288/288 [00:03<00:00, 78.13it/s]\n"
     ]
    },
    {
     "name": "stdout",
     "output_type": "stream",
     "text": [
      "Loss1: 22.5392, Loss2: 11.2501, Loss3: 64.5451\n"
     ]
    },
    {
     "name": "stderr",
     "output_type": "stream",
     "text": [
      "Test_Loader: 100%|██████████| 288/288 [00:03<00:00, 84.63it/s]\n"
     ]
    },
    {
     "name": "stdout",
     "output_type": "stream",
     "text": [
      "Loss1: 23.4307, Loss2: 10.9037, Loss3: 61.2668\n"
     ]
    },
    {
     "name": "stderr",
     "output_type": "stream",
     "text": [
      "Test_Loader: 100%|██████████| 288/288 [00:03<00:00, 83.54it/s]\n"
     ]
    },
    {
     "name": "stdout",
     "output_type": "stream",
     "text": [
      "Loss1: 22.6145, Loss2: 10.7367, Loss3: 63.4377\n"
     ]
    },
    {
     "name": "stderr",
     "output_type": "stream",
     "text": [
      "Test_Loader: 100%|██████████| 288/288 [00:03<00:00, 82.93it/s]\n"
     ]
    },
    {
     "name": "stdout",
     "output_type": "stream",
     "text": [
      "Loss1: 22.1904, Loss2: 11.4072, Loss3: 65.2040\n"
     ]
    },
    {
     "name": "stderr",
     "output_type": "stream",
     "text": [
      "Test_Loader: 100%|██████████| 288/288 [00:03<00:00, 82.54it/s]\n"
     ]
    },
    {
     "name": "stdout",
     "output_type": "stream",
     "text": [
      "Loss1: 22.4955, Loss2: 10.3472, Loss3: 61.0896\n"
     ]
    },
    {
     "name": "stderr",
     "output_type": "stream",
     "text": [
      "Test_Loader: 100%|██████████| 288/288 [00:03<00:00, 80.81it/s]\n"
     ]
    },
    {
     "name": "stdout",
     "output_type": "stream",
     "text": [
      "Loss1: 23.4561, Loss2: 11.5627, Loss3: 65.2146\n"
     ]
    },
    {
     "name": "stderr",
     "output_type": "stream",
     "text": [
      "Test_Loader: 100%|██████████| 288/288 [00:03<00:00, 79.71it/s]\n"
     ]
    },
    {
     "name": "stdout",
     "output_type": "stream",
     "text": [
      "Loss1: 23.3778, Loss2: 11.8482, Loss3: 64.2298\n"
     ]
    },
    {
     "name": "stderr",
     "output_type": "stream",
     "text": [
      "Test_Loader: 100%|██████████| 288/288 [00:03<00:00, 72.04it/s]\n"
     ]
    },
    {
     "name": "stdout",
     "output_type": "stream",
     "text": [
      "Loss1: 24.0566, Loss2: 12.7101, Loss3: 70.5141\n"
     ]
    },
    {
     "name": "stderr",
     "output_type": "stream",
     "text": [
      "Test_Loader: 100%|██████████| 288/288 [00:04<00:00, 71.39it/s]\n"
     ]
    },
    {
     "name": "stdout",
     "output_type": "stream",
     "text": [
      "Loss1: 24.4123, Loss2: 12.2370, Loss3: 66.7134\n"
     ]
    },
    {
     "name": "stderr",
     "output_type": "stream",
     "text": [
      "Test_Loader: 100%|██████████| 288/288 [00:03<00:00, 76.76it/s]\n"
     ]
    },
    {
     "name": "stdout",
     "output_type": "stream",
     "text": [
      "Loss1: 23.6946, Loss2: 12.2418, Loss3: 68.9751\n"
     ]
    },
    {
     "name": "stderr",
     "output_type": "stream",
     "text": [
      "Test_Loader: 100%|██████████| 288/288 [00:03<00:00, 83.91it/s]\n"
     ]
    },
    {
     "name": "stdout",
     "output_type": "stream",
     "text": [
      "Loss1: 23.1077, Loss2: 11.6058, Loss3: 70.9592\n"
     ]
    },
    {
     "name": "stderr",
     "output_type": "stream",
     "text": [
      "Test_Loader: 100%|██████████| 288/288 [00:03<00:00, 83.49it/s]\n"
     ]
    },
    {
     "name": "stdout",
     "output_type": "stream",
     "text": [
      "Loss1: 22.3336, Loss2: 11.1648, Loss3: 64.8217\n"
     ]
    },
    {
     "name": "stderr",
     "output_type": "stream",
     "text": [
      "Test_Loader: 100%|██████████| 288/288 [00:03<00:00, 78.67it/s]\n"
     ]
    },
    {
     "name": "stdout",
     "output_type": "stream",
     "text": [
      "Loss1: 23.4647, Loss2: 13.8463, Loss3: 69.6306\n"
     ]
    },
    {
     "name": "stderr",
     "output_type": "stream",
     "text": [
      "Test_Loader: 100%|██████████| 288/288 [00:03<00:00, 81.26it/s]\n"
     ]
    },
    {
     "name": "stdout",
     "output_type": "stream",
     "text": [
      "Loss1: 23.9613, Loss2: 12.4951, Loss3: 69.2806\n"
     ]
    },
    {
     "name": "stderr",
     "output_type": "stream",
     "text": [
      "Test_Loader: 100%|██████████| 288/288 [00:03<00:00, 80.92it/s]\n"
     ]
    },
    {
     "name": "stdout",
     "output_type": "stream",
     "text": [
      "Loss1: 23.4337, Loss2: 11.3912, Loss3: 70.5437\n"
     ]
    },
    {
     "name": "stderr",
     "output_type": "stream",
     "text": [
      "Test_Loader: 100%|██████████| 288/288 [00:03<00:00, 76.41it/s]\n"
     ]
    },
    {
     "name": "stdout",
     "output_type": "stream",
     "text": [
      "Loss1: 24.2203, Loss2: 12.3156, Loss3: 71.3927\n"
     ]
    },
    {
     "name": "stderr",
     "output_type": "stream",
     "text": [
      "Test_Loader: 100%|██████████| 288/288 [00:03<00:00, 74.38it/s]\n"
     ]
    },
    {
     "name": "stdout",
     "output_type": "stream",
     "text": [
      "Loss1: 23.5689, Loss2: 11.6129, Loss3: 70.4182\n"
     ]
    },
    {
     "name": "stderr",
     "output_type": "stream",
     "text": [
      "Test_Loader: 100%|██████████| 288/288 [00:03<00:00, 77.59it/s]\n"
     ]
    },
    {
     "name": "stdout",
     "output_type": "stream",
     "text": [
      "Loss1: 24.6855, Loss2: 12.8273, Loss3: 77.6993\n"
     ]
    },
    {
     "name": "stderr",
     "output_type": "stream",
     "text": [
      "Test_Loader: 100%|██████████| 288/288 [00:03<00:00, 80.97it/s]\n"
     ]
    },
    {
     "name": "stdout",
     "output_type": "stream",
     "text": [
      "Loss1: 23.4113, Loss2: 11.0437, Loss3: 65.8400\n"
     ]
    },
    {
     "name": "stderr",
     "output_type": "stream",
     "text": [
      "Test_Loader: 100%|██████████| 288/288 [00:03<00:00, 80.34it/s]\n"
     ]
    },
    {
     "name": "stdout",
     "output_type": "stream",
     "text": [
      "Loss1: 23.3057, Loss2: 11.7292, Loss3: 63.9338\n"
     ]
    },
    {
     "name": "stderr",
     "output_type": "stream",
     "text": [
      "Test_Loader: 100%|██████████| 288/288 [00:03<00:00, 80.90it/s]\n"
     ]
    },
    {
     "name": "stdout",
     "output_type": "stream",
     "text": [
      "Loss1: 22.8321, Loss2: 11.9544, Loss3: 70.9293\n"
     ]
    },
    {
     "name": "stderr",
     "output_type": "stream",
     "text": [
      "Test_Loader: 100%|██████████| 288/288 [00:03<00:00, 80.99it/s]\n"
     ]
    },
    {
     "name": "stdout",
     "output_type": "stream",
     "text": [
      "Loss1: 23.7806, Loss2: 11.7097, Loss3: 63.9989\n"
     ]
    },
    {
     "name": "stderr",
     "output_type": "stream",
     "text": [
      "Test_Loader: 100%|██████████| 288/288 [00:03<00:00, 84.61it/s]\n"
     ]
    },
    {
     "name": "stdout",
     "output_type": "stream",
     "text": [
      "Loss1: 22.8139, Loss2: 11.8192, Loss3: 63.6486\n"
     ]
    },
    {
     "name": "stderr",
     "output_type": "stream",
     "text": [
      "Test_Loader: 100%|██████████| 288/288 [00:03<00:00, 81.61it/s]\n"
     ]
    },
    {
     "name": "stdout",
     "output_type": "stream",
     "text": [
      "Loss1: 23.3745, Loss2: 11.6751, Loss3: 62.4665\n"
     ]
    },
    {
     "name": "stderr",
     "output_type": "stream",
     "text": [
      "Test_Loader: 100%|██████████| 288/288 [00:03<00:00, 77.75it/s]\n"
     ]
    },
    {
     "name": "stdout",
     "output_type": "stream",
     "text": [
      "Loss1: 23.6449, Loss2: 13.4391, Loss3: 70.4363\n"
     ]
    },
    {
     "name": "stderr",
     "output_type": "stream",
     "text": [
      "Test_Loader: 100%|██████████| 288/288 [00:03<00:00, 75.69it/s]\n"
     ]
    },
    {
     "name": "stdout",
     "output_type": "stream",
     "text": [
      "Loss1: 23.8617, Loss2: 12.1539, Loss3: 72.0991\n"
     ]
    },
    {
     "name": "stderr",
     "output_type": "stream",
     "text": [
      "Test_Loader: 100%|██████████| 288/288 [00:03<00:00, 77.50it/s]\n"
     ]
    },
    {
     "name": "stdout",
     "output_type": "stream",
     "text": [
      "Loss1: 24.1334, Loss2: 12.7007, Loss3: 63.7747\n"
     ]
    },
    {
     "name": "stderr",
     "output_type": "stream",
     "text": [
      "Test_Loader: 100%|██████████| 288/288 [00:03<00:00, 82.29it/s]\n"
     ]
    },
    {
     "name": "stdout",
     "output_type": "stream",
     "text": [
      "Loss1: 24.3961, Loss2: 12.9132, Loss3: 65.9757\n"
     ]
    },
    {
     "name": "stderr",
     "output_type": "stream",
     "text": [
      "Test_Loader: 100%|██████████| 288/288 [00:03<00:00, 83.47it/s]\n"
     ]
    },
    {
     "name": "stdout",
     "output_type": "stream",
     "text": [
      "Loss1: 24.8501, Loss2: 13.8069, Loss3: 66.7646\n"
     ]
    },
    {
     "name": "stderr",
     "output_type": "stream",
     "text": [
      "Test_Loader: 100%|██████████| 288/288 [00:03<00:00, 83.68it/s]\n"
     ]
    },
    {
     "name": "stdout",
     "output_type": "stream",
     "text": [
      "Loss1: 24.3942, Loss2: 13.2938, Loss3: 65.3015\n"
     ]
    },
    {
     "name": "stderr",
     "output_type": "stream",
     "text": [
      "Test_Loader: 100%|██████████| 288/288 [00:03<00:00, 78.49it/s]\n"
     ]
    },
    {
     "name": "stdout",
     "output_type": "stream",
     "text": [
      "Loss1: 24.6643, Loss2: 13.5764, Loss3: 68.4845\n"
     ]
    },
    {
     "name": "stderr",
     "output_type": "stream",
     "text": [
      "Test_Loader: 100%|██████████| 288/288 [00:03<00:00, 78.96it/s]\n"
     ]
    },
    {
     "name": "stdout",
     "output_type": "stream",
     "text": [
      "Loss1: 25.3965, Loss2: 13.4755, Loss3: 68.6158\n"
     ]
    },
    {
     "name": "stderr",
     "output_type": "stream",
     "text": [
      "Test_Loader: 100%|██████████| 288/288 [00:03<00:00, 79.73it/s]\n"
     ]
    },
    {
     "name": "stdout",
     "output_type": "stream",
     "text": [
      "Loss1: 25.2641, Loss2: 13.7546, Loss3: 69.3176\n"
     ]
    },
    {
     "name": "stderr",
     "output_type": "stream",
     "text": [
      "Test_Loader: 100%|██████████| 288/288 [00:03<00:00, 87.11it/s]\n"
     ]
    },
    {
     "name": "stdout",
     "output_type": "stream",
     "text": [
      "Loss1: 25.9297, Loss2: 13.5953, Loss3: 68.4719\n"
     ]
    },
    {
     "name": "stderr",
     "output_type": "stream",
     "text": [
      "Test_Loader: 100%|██████████| 288/288 [00:03<00:00, 87.00it/s]\n"
     ]
    },
    {
     "name": "stdout",
     "output_type": "stream",
     "text": [
      "Loss1: 25.2226, Loss2: 13.7551, Loss3: 68.8488\n"
     ]
    },
    {
     "name": "stderr",
     "output_type": "stream",
     "text": [
      "Test_Loader: 100%|██████████| 288/288 [00:03<00:00, 86.41it/s]\n"
     ]
    },
    {
     "name": "stdout",
     "output_type": "stream",
     "text": [
      "Loss1: 25.5943, Loss2: 14.1289, Loss3: 67.8329\n"
     ]
    },
    {
     "name": "stderr",
     "output_type": "stream",
     "text": [
      "Test_Loader: 100%|██████████| 288/288 [00:03<00:00, 89.05it/s]\n"
     ]
    },
    {
     "name": "stdout",
     "output_type": "stream",
     "text": [
      "Loss1: 24.7317, Loss2: 13.6542, Loss3: 66.8769\n"
     ]
    },
    {
     "name": "stderr",
     "output_type": "stream",
     "text": [
      "Test_Loader: 100%|██████████| 288/288 [00:03<00:00, 89.75it/s]\n"
     ]
    },
    {
     "name": "stdout",
     "output_type": "stream",
     "text": [
      "Loss1: 25.3443, Loss2: 13.8260, Loss3: 65.9921\n"
     ]
    },
    {
     "name": "stderr",
     "output_type": "stream",
     "text": [
      "Test_Loader: 100%|██████████| 288/288 [00:03<00:00, 89.09it/s]\n"
     ]
    },
    {
     "name": "stdout",
     "output_type": "stream",
     "text": [
      "Loss1: 25.5361, Loss2: 14.2403, Loss3: 68.8169\n"
     ]
    },
    {
     "name": "stderr",
     "output_type": "stream",
     "text": [
      "Test_Loader: 100%|██████████| 288/288 [00:03<00:00, 75.96it/s]\n"
     ]
    },
    {
     "name": "stdout",
     "output_type": "stream",
     "text": [
      "Loss1: 25.6173, Loss2: 13.9151, Loss3: 66.1099\n"
     ]
    },
    {
     "name": "stderr",
     "output_type": "stream",
     "text": [
      "Test_Loader: 100%|██████████| 288/288 [00:03<00:00, 75.00it/s]\n"
     ]
    },
    {
     "name": "stdout",
     "output_type": "stream",
     "text": [
      "Loss1: 25.5825, Loss2: 13.5260, Loss3: 69.3075\n"
     ]
    },
    {
     "name": "stderr",
     "output_type": "stream",
     "text": [
      "Test_Loader: 100%|██████████| 288/288 [00:03<00:00, 74.23it/s]\n"
     ]
    },
    {
     "name": "stdout",
     "output_type": "stream",
     "text": [
      "Loss1: 25.4508, Loss2: 14.0181, Loss3: 69.5636\n"
     ]
    },
    {
     "name": "stderr",
     "output_type": "stream",
     "text": [
      "Test_Loader: 100%|██████████| 288/288 [00:03<00:00, 85.18it/s]\n"
     ]
    },
    {
     "name": "stdout",
     "output_type": "stream",
     "text": [
      "Loss1: 24.7606, Loss2: 13.4930, Loss3: 66.6256\n"
     ]
    },
    {
     "name": "stderr",
     "output_type": "stream",
     "text": [
      "Test_Loader: 100%|██████████| 288/288 [00:03<00:00, 87.09it/s]\n"
     ]
    },
    {
     "name": "stdout",
     "output_type": "stream",
     "text": [
      "Loss1: 25.3166, Loss2: 13.5466, Loss3: 64.7477\n"
     ]
    },
    {
     "name": "stderr",
     "output_type": "stream",
     "text": [
      "Test_Loader: 100%|██████████| 288/288 [00:03<00:00, 86.98it/s]\n"
     ]
    },
    {
     "name": "stdout",
     "output_type": "stream",
     "text": [
      "Loss1: 23.9844, Loss2: 13.4494, Loss3: 63.8448\n"
     ]
    },
    {
     "name": "stderr",
     "output_type": "stream",
     "text": [
      "Test_Loader: 100%|██████████| 288/288 [00:03<00:00, 78.22it/s]\n"
     ]
    },
    {
     "name": "stdout",
     "output_type": "stream",
     "text": [
      "Loss1: 25.3256, Loss2: 13.4709, Loss3: 62.7308\n"
     ]
    },
    {
     "name": "stderr",
     "output_type": "stream",
     "text": [
      "Test_Loader: 100%|██████████| 288/288 [00:03<00:00, 73.62it/s]\n"
     ]
    },
    {
     "name": "stdout",
     "output_type": "stream",
     "text": [
      "Loss1: 24.6059, Loss2: 14.8424, Loss3: 67.3584\n"
     ]
    },
    {
     "name": "stderr",
     "output_type": "stream",
     "text": [
      "Test_Loader: 100%|██████████| 288/288 [00:03<00:00, 73.42it/s]\n"
     ]
    },
    {
     "name": "stdout",
     "output_type": "stream",
     "text": [
      "Loss1: 26.2668, Loss2: 14.1197, Loss3: 71.9552\n"
     ]
    },
    {
     "name": "stderr",
     "output_type": "stream",
     "text": [
      "Test_Loader: 100%|██████████| 288/288 [00:03<00:00, 78.62it/s]\n"
     ]
    },
    {
     "name": "stdout",
     "output_type": "stream",
     "text": [
      "Loss1: 26.7354, Loss2: 13.4299, Loss3: 69.1045\n"
     ]
    },
    {
     "name": "stderr",
     "output_type": "stream",
     "text": [
      "Test_Loader: 100%|██████████| 288/288 [00:03<00:00, 78.17it/s]\n"
     ]
    },
    {
     "name": "stdout",
     "output_type": "stream",
     "text": [
      "Loss1: 26.6096, Loss2: 13.0855, Loss3: 67.3522\n"
     ]
    },
    {
     "name": "stderr",
     "output_type": "stream",
     "text": [
      "Test_Loader: 100%|██████████| 288/288 [00:03<00:00, 78.68it/s]\n"
     ]
    },
    {
     "name": "stdout",
     "output_type": "stream",
     "text": [
      "Loss1: 25.0604, Loss2: 13.2687, Loss3: 64.0288\n"
     ]
    },
    {
     "name": "stderr",
     "output_type": "stream",
     "text": [
      "Test_Loader: 100%|██████████| 288/288 [00:03<00:00, 74.29it/s]\n"
     ]
    },
    {
     "name": "stdout",
     "output_type": "stream",
     "text": [
      "Loss1: 25.8945, Loss2: 14.7918, Loss3: 64.2167\n"
     ]
    },
    {
     "name": "stderr",
     "output_type": "stream",
     "text": [
      "Test_Loader: 100%|██████████| 288/288 [00:03<00:00, 77.33it/s]\n"
     ]
    },
    {
     "name": "stdout",
     "output_type": "stream",
     "text": [
      "Loss1: 25.7074, Loss2: 13.7760, Loss3: 67.6062\n"
     ]
    },
    {
     "name": "stderr",
     "output_type": "stream",
     "text": [
      "Test_Loader: 100%|██████████| 288/288 [00:03<00:00, 77.35it/s]\n"
     ]
    },
    {
     "name": "stdout",
     "output_type": "stream",
     "text": [
      "Loss1: 25.8145, Loss2: 13.5627, Loss3: 69.2038\n"
     ]
    },
    {
     "name": "stderr",
     "output_type": "stream",
     "text": [
      "Test_Loader: 100%|██████████| 288/288 [00:03<00:00, 77.43it/s]\n"
     ]
    },
    {
     "name": "stdout",
     "output_type": "stream",
     "text": [
      "Loss1: 25.9230, Loss2: 13.6378, Loss3: 69.5213\n"
     ]
    },
    {
     "name": "stderr",
     "output_type": "stream",
     "text": [
      "Test_Loader: 100%|██████████| 288/288 [00:03<00:00, 76.68it/s]\n"
     ]
    },
    {
     "name": "stdout",
     "output_type": "stream",
     "text": [
      "Loss1: 26.0587, Loss2: 13.5000, Loss3: 67.5130\n"
     ]
    },
    {
     "name": "stderr",
     "output_type": "stream",
     "text": [
      "Test_Loader: 100%|██████████| 288/288 [00:03<00:00, 77.88it/s]\n"
     ]
    },
    {
     "name": "stdout",
     "output_type": "stream",
     "text": [
      "Loss1: 25.9347, Loss2: 14.3517, Loss3: 63.3617\n"
     ]
    },
    {
     "name": "stderr",
     "output_type": "stream",
     "text": [
      "Test_Loader: 100%|██████████| 288/288 [00:03<00:00, 78.20it/s]\n"
     ]
    },
    {
     "name": "stdout",
     "output_type": "stream",
     "text": [
      "Loss1: 24.1665, Loss2: 13.3702, Loss3: 62.2038\n"
     ]
    },
    {
     "name": "stderr",
     "output_type": "stream",
     "text": [
      "Test_Loader: 100%|██████████| 288/288 [00:03<00:00, 81.54it/s]\n"
     ]
    },
    {
     "name": "stdout",
     "output_type": "stream",
     "text": [
      "Loss1: 23.5851, Loss2: 12.1927, Loss3: 61.4233\n"
     ]
    },
    {
     "name": "stderr",
     "output_type": "stream",
     "text": [
      "Test_Loader: 100%|██████████| 288/288 [00:03<00:00, 75.61it/s]\n"
     ]
    },
    {
     "name": "stdout",
     "output_type": "stream",
     "text": [
      "Loss1: 25.7342, Loss2: 11.8898, Loss3: 62.3873\n"
     ]
    },
    {
     "name": "stderr",
     "output_type": "stream",
     "text": [
      "Test_Loader: 100%|██████████| 288/288 [00:03<00:00, 73.26it/s]\n"
     ]
    },
    {
     "name": "stdout",
     "output_type": "stream",
     "text": [
      "Loss1: 26.4541, Loss2: 12.3962, Loss3: 62.5376\n"
     ]
    },
    {
     "name": "stderr",
     "output_type": "stream",
     "text": [
      "Test_Loader: 100%|██████████| 288/288 [00:03<00:00, 72.30it/s]\n"
     ]
    },
    {
     "name": "stdout",
     "output_type": "stream",
     "text": [
      "Loss1: 26.2929, Loss2: 12.0881, Loss3: 58.2733\n"
     ]
    },
    {
     "name": "stderr",
     "output_type": "stream",
     "text": [
      "Test_Loader: 100%|██████████| 288/288 [00:04<00:00, 71.83it/s]\n"
     ]
    },
    {
     "name": "stdout",
     "output_type": "stream",
     "text": [
      "Loss1: 24.1413, Loss2: 12.0018, Loss3: 56.1085\n"
     ]
    },
    {
     "name": "stderr",
     "output_type": "stream",
     "text": [
      "Test_Loader: 100%|██████████| 288/288 [00:04<00:00, 70.88it/s]\n"
     ]
    },
    {
     "name": "stdout",
     "output_type": "stream",
     "text": [
      "Loss1: 23.9592, Loss2: 11.6997, Loss3: 56.7541\n"
     ]
    },
    {
     "name": "stderr",
     "output_type": "stream",
     "text": [
      "Test_Loader: 100%|██████████| 288/288 [00:04<00:00, 70.90it/s]\n"
     ]
    },
    {
     "name": "stdout",
     "output_type": "stream",
     "text": [
      "Loss1: 27.2259, Loss2: 11.3811, Loss3: 59.9270\n"
     ]
    },
    {
     "name": "stderr",
     "output_type": "stream",
     "text": [
      "Test_Loader: 100%|██████████| 288/288 [00:03<00:00, 83.40it/s]\n"
     ]
    },
    {
     "name": "stdout",
     "output_type": "stream",
     "text": [
      "Loss1: 27.0944, Loss2: 11.4378, Loss3: 57.9155\n"
     ]
    },
    {
     "name": "stderr",
     "output_type": "stream",
     "text": [
      "Test_Loader: 100%|██████████| 288/288 [00:03<00:00, 81.68it/s]\n"
     ]
    },
    {
     "name": "stdout",
     "output_type": "stream",
     "text": [
      "Loss1: 27.6522, Loss2: 11.0397, Loss3: 56.7960\n"
     ]
    },
    {
     "name": "stderr",
     "output_type": "stream",
     "text": [
      "Test_Loader: 100%|██████████| 288/288 [00:03<00:00, 79.87it/s]\n"
     ]
    },
    {
     "name": "stdout",
     "output_type": "stream",
     "text": [
      "Loss1: 27.3736, Loss2: 11.2966, Loss3: 55.9213\n"
     ]
    },
    {
     "name": "stderr",
     "output_type": "stream",
     "text": [
      "Test_Loader: 100%|██████████| 288/288 [00:03<00:00, 73.04it/s]\n"
     ]
    },
    {
     "name": "stdout",
     "output_type": "stream",
     "text": [
      "Loss1: 24.8232, Loss2: 11.1316, Loss3: 53.5896\n"
     ]
    },
    {
     "name": "stderr",
     "output_type": "stream",
     "text": [
      "Test_Loader: 100%|██████████| 288/288 [00:03<00:00, 76.04it/s]\n"
     ]
    },
    {
     "name": "stdout",
     "output_type": "stream",
     "text": [
      "Loss1: 24.0577, Loss2: 9.8373, Loss3: 45.5550\n"
     ]
    },
    {
     "name": "stderr",
     "output_type": "stream",
     "text": [
      "Test_Loader: 100%|██████████| 288/288 [00:03<00:00, 81.52it/s]\n"
     ]
    },
    {
     "name": "stdout",
     "output_type": "stream",
     "text": [
      "Loss1: 24.7694, Loss2: 10.5229, Loss3: 48.1782\n"
     ]
    },
    {
     "name": "stderr",
     "output_type": "stream",
     "text": [
      "Test_Loader: 100%|██████████| 288/288 [00:03<00:00, 79.50it/s]\n"
     ]
    },
    {
     "name": "stdout",
     "output_type": "stream",
     "text": [
      "Loss1: 25.0944, Loss2: 10.0361, Loss3: 48.1704\n"
     ]
    },
    {
     "name": "stderr",
     "output_type": "stream",
     "text": [
      "Test_Loader: 100%|██████████| 288/288 [00:03<00:00, 83.83it/s]\n"
     ]
    },
    {
     "name": "stdout",
     "output_type": "stream",
     "text": [
      "Loss1: 25.1393, Loss2: 10.7580, Loss3: 46.3613\n"
     ]
    },
    {
     "name": "stderr",
     "output_type": "stream",
     "text": [
      "Test_Loader: 100%|██████████| 288/288 [00:03<00:00, 83.52it/s]\n"
     ]
    },
    {
     "name": "stdout",
     "output_type": "stream",
     "text": [
      "Loss1: 25.8945, Loss2: 10.2431, Loss3: 48.4163\n"
     ]
    },
    {
     "name": "stderr",
     "output_type": "stream",
     "text": [
      "Test_Loader: 100%|██████████| 288/288 [00:03<00:00, 79.60it/s]\n"
     ]
    },
    {
     "name": "stdout",
     "output_type": "stream",
     "text": [
      "Loss1: 25.9503, Loss2: 10.7314, Loss3: 50.6270\n"
     ]
    },
    {
     "name": "stderr",
     "output_type": "stream",
     "text": [
      "Test_Loader: 100%|██████████| 288/288 [00:03<00:00, 77.65it/s]\n"
     ]
    },
    {
     "name": "stdout",
     "output_type": "stream",
     "text": [
      "Loss1: 25.0029, Loss2: 10.9215, Loss3: 48.1480\n"
     ]
    },
    {
     "name": "stderr",
     "output_type": "stream",
     "text": [
      "Test_Loader: 100%|██████████| 288/288 [00:03<00:00, 74.57it/s]\n"
     ]
    },
    {
     "name": "stdout",
     "output_type": "stream",
     "text": [
      "Loss1: 23.0920, Loss2: 10.1066, Loss3: 43.7007\n"
     ]
    },
    {
     "name": "stderr",
     "output_type": "stream",
     "text": [
      "Test_Loader: 100%|██████████| 288/288 [00:03<00:00, 75.42it/s]\n"
     ]
    },
    {
     "name": "stdout",
     "output_type": "stream",
     "text": [
      "Loss1: 22.5530, Loss2: 10.4580, Loss3: 43.3717\n"
     ]
    },
    {
     "name": "stderr",
     "output_type": "stream",
     "text": [
      "Test_Loader: 100%|██████████| 288/288 [00:03<00:00, 79.16it/s]\n"
     ]
    },
    {
     "name": "stdout",
     "output_type": "stream",
     "text": [
      "Loss1: 22.2435, Loss2: 10.4621, Loss3: 43.6243\n"
     ]
    },
    {
     "name": "stderr",
     "output_type": "stream",
     "text": [
      "Test_Loader: 100%|██████████| 288/288 [00:03<00:00, 84.04it/s]\n"
     ]
    },
    {
     "name": "stdout",
     "output_type": "stream",
     "text": [
      "Loss1: 21.6303, Loss2: 10.1792, Loss3: 39.5144\n"
     ]
    },
    {
     "name": "stderr",
     "output_type": "stream",
     "text": [
      "Test_Loader: 100%|██████████| 288/288 [00:03<00:00, 80.17it/s]\n"
     ]
    },
    {
     "name": "stdout",
     "output_type": "stream",
     "text": [
      "Loss1: 21.4769, Loss2: 9.7220, Loss3: 46.0961\n"
     ]
    },
    {
     "name": "stderr",
     "output_type": "stream",
     "text": [
      "Test_Loader: 100%|██████████| 288/288 [00:03<00:00, 83.18it/s]\n"
     ]
    },
    {
     "name": "stdout",
     "output_type": "stream",
     "text": [
      "Loss1: 21.2788, Loss2: 9.6762, Loss3: 40.6738\n"
     ]
    },
    {
     "name": "stderr",
     "output_type": "stream",
     "text": [
      "Test_Loader: 100%|██████████| 288/288 [00:03<00:00, 83.04it/s]\n"
     ]
    },
    {
     "name": "stdout",
     "output_type": "stream",
     "text": [
      "Loss1: 21.6971, Loss2: 10.1187, Loss3: 45.3954\n"
     ]
    },
    {
     "name": "stderr",
     "output_type": "stream",
     "text": [
      "Test_Loader: 100%|██████████| 288/288 [00:03<00:00, 81.04it/s]\n"
     ]
    },
    {
     "name": "stdout",
     "output_type": "stream",
     "text": [
      "Loss1: 20.9841, Loss2: 9.5559, Loss3: 38.2355\n"
     ]
    },
    {
     "name": "stderr",
     "output_type": "stream",
     "text": [
      "Test_Loader: 100%|██████████| 288/288 [00:03<00:00, 82.22it/s]\n"
     ]
    },
    {
     "name": "stdout",
     "output_type": "stream",
     "text": [
      "Loss1: 21.2925, Loss2: 9.8501, Loss3: 40.0337\n"
     ]
    },
    {
     "name": "stderr",
     "output_type": "stream",
     "text": [
      "Test_Loader: 100%|██████████| 288/288 [00:03<00:00, 79.78it/s]\n"
     ]
    },
    {
     "name": "stdout",
     "output_type": "stream",
     "text": [
      "Loss1: 20.6279, Loss2: 10.1706, Loss3: 39.8615\n"
     ]
    },
    {
     "name": "stderr",
     "output_type": "stream",
     "text": [
      "Test_Loader: 100%|██████████| 288/288 [00:03<00:00, 77.51it/s]\n"
     ]
    },
    {
     "name": "stdout",
     "output_type": "stream",
     "text": [
      "Loss1: 22.0360, Loss2: 10.1243, Loss3: 40.3592\n"
     ]
    },
    {
     "name": "stderr",
     "output_type": "stream",
     "text": [
      "Test_Loader: 100%|██████████| 288/288 [00:03<00:00, 73.04it/s]\n"
     ]
    },
    {
     "name": "stdout",
     "output_type": "stream",
     "text": [
      "Loss1: 22.0028, Loss2: 9.4595, Loss3: 42.8621\n"
     ]
    },
    {
     "name": "stderr",
     "output_type": "stream",
     "text": [
      "Test_Loader: 100%|██████████| 288/288 [00:03<00:00, 76.72it/s]\n"
     ]
    },
    {
     "name": "stdout",
     "output_type": "stream",
     "text": [
      "Loss1: 20.5444, Loss2: 8.7840, Loss3: 37.2418\n"
     ]
    },
    {
     "name": "stderr",
     "output_type": "stream",
     "text": [
      "Test_Loader: 100%|██████████| 288/288 [00:03<00:00, 77.58it/s]\n"
     ]
    },
    {
     "name": "stdout",
     "output_type": "stream",
     "text": [
      "Loss1: 20.3718, Loss2: 8.9936, Loss3: 37.5258\n"
     ]
    },
    {
     "name": "stderr",
     "output_type": "stream",
     "text": [
      "Test_Loader: 100%|██████████| 288/288 [00:03<00:00, 75.99it/s]\n"
     ]
    },
    {
     "name": "stdout",
     "output_type": "stream",
     "text": [
      "Loss1: 20.5398, Loss2: 9.2538, Loss3: 37.1816\n"
     ]
    },
    {
     "name": "stderr",
     "output_type": "stream",
     "text": [
      "Test_Loader: 100%|██████████| 288/288 [00:03<00:00, 80.93it/s]\n"
     ]
    },
    {
     "name": "stdout",
     "output_type": "stream",
     "text": [
      "Loss1: 20.9459, Loss2: 9.6486, Loss3: 39.0340\n"
     ]
    },
    {
     "name": "stderr",
     "output_type": "stream",
     "text": [
      "Test_Loader: 100%|██████████| 288/288 [00:03<00:00, 81.78it/s]\n"
     ]
    },
    {
     "name": "stdout",
     "output_type": "stream",
     "text": [
      "Loss1: 19.2843, Loss2: 8.5524, Loss3: 35.5929\n"
     ]
    },
    {
     "name": "stderr",
     "output_type": "stream",
     "text": [
      "Test_Loader: 100%|██████████| 288/288 [00:03<00:00, 83.30it/s]\n"
     ]
    },
    {
     "name": "stdout",
     "output_type": "stream",
     "text": [
      "Loss1: 20.5969, Loss2: 8.5890, Loss3: 36.4961\n"
     ]
    },
    {
     "name": "stderr",
     "output_type": "stream",
     "text": [
      "Test_Loader: 100%|██████████| 288/288 [00:03<00:00, 81.48it/s]\n"
     ]
    },
    {
     "name": "stdout",
     "output_type": "stream",
     "text": [
      "Loss1: 20.2833, Loss2: 8.5525, Loss3: 36.9364\n"
     ]
    },
    {
     "name": "stderr",
     "output_type": "stream",
     "text": [
      "Test_Loader: 100%|██████████| 288/288 [00:03<00:00, 78.64it/s]\n"
     ]
    },
    {
     "name": "stdout",
     "output_type": "stream",
     "text": [
      "Loss1: 20.0374, Loss2: 9.1256, Loss3: 37.3834\n"
     ]
    },
    {
     "name": "stderr",
     "output_type": "stream",
     "text": [
      "Test_Loader: 100%|██████████| 288/288 [00:03<00:00, 79.68it/s]\n"
     ]
    },
    {
     "name": "stdout",
     "output_type": "stream",
     "text": [
      "Loss1: 19.7272, Loss2: 8.7559, Loss3: 35.8508\n"
     ]
    },
    {
     "name": "stderr",
     "output_type": "stream",
     "text": [
      "Test_Loader: 100%|██████████| 288/288 [00:03<00:00, 77.72it/s]\n"
     ]
    },
    {
     "name": "stdout",
     "output_type": "stream",
     "text": [
      "Loss1: 19.1903, Loss2: 8.3476, Loss3: 35.9375\n"
     ]
    },
    {
     "name": "stderr",
     "output_type": "stream",
     "text": [
      "Test_Loader: 100%|██████████| 288/288 [00:03<00:00, 78.29it/s]\n"
     ]
    },
    {
     "name": "stdout",
     "output_type": "stream",
     "text": [
      "Loss1: 20.6161, Loss2: 8.7423, Loss3: 35.9077\n"
     ]
    },
    {
     "name": "stderr",
     "output_type": "stream",
     "text": [
      "Test_Loader: 100%|██████████| 288/288 [00:03<00:00, 75.04it/s]\n"
     ]
    },
    {
     "name": "stdout",
     "output_type": "stream",
     "text": [
      "Loss1: 19.9274, Loss2: 9.0899, Loss3: 37.4707\n"
     ]
    },
    {
     "name": "stderr",
     "output_type": "stream",
     "text": [
      "Test_Loader: 100%|██████████| 288/288 [00:03<00:00, 82.90it/s]\n"
     ]
    },
    {
     "name": "stdout",
     "output_type": "stream",
     "text": [
      "Loss1: 21.1481, Loss2: 8.5037, Loss3: 36.0412\n"
     ]
    },
    {
     "name": "stderr",
     "output_type": "stream",
     "text": [
      "Test_Loader: 100%|██████████| 288/288 [00:03<00:00, 78.12it/s]\n"
     ]
    },
    {
     "name": "stdout",
     "output_type": "stream",
     "text": [
      "Loss1: 21.3371, Loss2: 8.5464, Loss3: 35.9052\n"
     ]
    },
    {
     "name": "stderr",
     "output_type": "stream",
     "text": [
      "Test_Loader: 100%|██████████| 288/288 [00:03<00:00, 78.33it/s]\n"
     ]
    },
    {
     "name": "stdout",
     "output_type": "stream",
     "text": [
      "Loss1: 18.8686, Loss2: 8.2205, Loss3: 31.0386\n"
     ]
    },
    {
     "name": "stderr",
     "output_type": "stream",
     "text": [
      "Test_Loader: 100%|██████████| 288/288 [00:03<00:00, 78.10it/s]\n"
     ]
    },
    {
     "name": "stdout",
     "output_type": "stream",
     "text": [
      "Loss1: 19.8987, Loss2: 8.0787, Loss3: 33.9828\n"
     ]
    },
    {
     "name": "stderr",
     "output_type": "stream",
     "text": [
      "Test_Loader: 100%|██████████| 288/288 [00:03<00:00, 79.66it/s]\n"
     ]
    },
    {
     "name": "stdout",
     "output_type": "stream",
     "text": [
      "Loss1: 18.6268, Loss2: 7.9895, Loss3: 30.7423\n"
     ]
    },
    {
     "name": "stderr",
     "output_type": "stream",
     "text": [
      "Test_Loader: 100%|██████████| 288/288 [00:03<00:00, 79.55it/s]\n"
     ]
    },
    {
     "name": "stdout",
     "output_type": "stream",
     "text": [
      "Loss1: 19.1396, Loss2: 8.1699, Loss3: 32.7606\n"
     ]
    },
    {
     "name": "stderr",
     "output_type": "stream",
     "text": [
      "Test_Loader: 100%|██████████| 288/288 [00:03<00:00, 77.84it/s]\n"
     ]
    },
    {
     "name": "stdout",
     "output_type": "stream",
     "text": [
      "Loss1: 19.5366, Loss2: 7.7902, Loss3: 31.3691\n"
     ]
    },
    {
     "name": "stderr",
     "output_type": "stream",
     "text": [
      "Test_Loader: 100%|██████████| 288/288 [00:03<00:00, 81.62it/s]\n"
     ]
    },
    {
     "name": "stdout",
     "output_type": "stream",
     "text": [
      "Loss1: 19.3225, Loss2: 8.5067, Loss3: 35.2063\n"
     ]
    },
    {
     "name": "stderr",
     "output_type": "stream",
     "text": [
      "Test_Loader: 100%|██████████| 288/288 [00:03<00:00, 80.66it/s]\n"
     ]
    },
    {
     "name": "stdout",
     "output_type": "stream",
     "text": [
      "Loss1: 19.9832, Loss2: 7.9541, Loss3: 32.7392\n"
     ]
    },
    {
     "name": "stderr",
     "output_type": "stream",
     "text": [
      "Test_Loader: 100%|██████████| 288/288 [00:03<00:00, 82.70it/s]\n"
     ]
    },
    {
     "name": "stdout",
     "output_type": "stream",
     "text": [
      "Loss1: 19.3803, Loss2: 7.8298, Loss3: 32.1134\n"
     ]
    },
    {
     "name": "stderr",
     "output_type": "stream",
     "text": [
      "Test_Loader: 100%|██████████| 288/288 [00:03<00:00, 83.30it/s]\n"
     ]
    },
    {
     "name": "stdout",
     "output_type": "stream",
     "text": [
      "Loss1: 19.8979, Loss2: 8.8161, Loss3: 36.1711\n"
     ]
    },
    {
     "name": "stderr",
     "output_type": "stream",
     "text": [
      "Test_Loader: 100%|██████████| 288/288 [00:03<00:00, 84.16it/s]\n"
     ]
    },
    {
     "name": "stdout",
     "output_type": "stream",
     "text": [
      "Loss1: 19.7119, Loss2: 8.2985, Loss3: 34.2282\n"
     ]
    },
    {
     "name": "stderr",
     "output_type": "stream",
     "text": [
      "Test_Loader: 100%|██████████| 288/288 [00:03<00:00, 82.19it/s]\n"
     ]
    },
    {
     "name": "stdout",
     "output_type": "stream",
     "text": [
      "Loss1: 18.7266, Loss2: 8.2384, Loss3: 33.1454\n"
     ]
    },
    {
     "name": "stderr",
     "output_type": "stream",
     "text": [
      "Test_Loader: 100%|██████████| 288/288 [00:04<00:00, 71.90it/s]\n"
     ]
    },
    {
     "name": "stdout",
     "output_type": "stream",
     "text": [
      "Loss1: 19.4637, Loss2: 8.1072, Loss3: 33.7940\n"
     ]
    },
    {
     "name": "stderr",
     "output_type": "stream",
     "text": [
      "Test_Loader: 100%|██████████| 288/288 [00:03<00:00, 75.46it/s]\n"
     ]
    },
    {
     "name": "stdout",
     "output_type": "stream",
     "text": [
      "Loss1: 20.5500, Loss2: 9.1251, Loss3: 40.6095\n"
     ]
    },
    {
     "name": "stderr",
     "output_type": "stream",
     "text": [
      "Test_Loader: 100%|██████████| 288/288 [00:03<00:00, 75.15it/s]\n"
     ]
    },
    {
     "name": "stdout",
     "output_type": "stream",
     "text": [
      "Loss1: 20.2305, Loss2: 8.6058, Loss3: 34.5394\n"
     ]
    },
    {
     "name": "stderr",
     "output_type": "stream",
     "text": [
      "Test_Loader: 100%|██████████| 288/288 [00:03<00:00, 79.04it/s]\n"
     ]
    },
    {
     "name": "stdout",
     "output_type": "stream",
     "text": [
      "Loss1: 19.9187, Loss2: 8.2032, Loss3: 33.8395\n"
     ]
    },
    {
     "name": "stderr",
     "output_type": "stream",
     "text": [
      "Test_Loader: 100%|██████████| 288/288 [00:03<00:00, 78.52it/s]\n"
     ]
    },
    {
     "name": "stdout",
     "output_type": "stream",
     "text": [
      "Loss1: 19.8021, Loss2: 8.0942, Loss3: 34.9653\n"
     ]
    },
    {
     "name": "stderr",
     "output_type": "stream",
     "text": [
      "Test_Loader: 100%|██████████| 288/288 [00:03<00:00, 83.05it/s]\n"
     ]
    },
    {
     "name": "stdout",
     "output_type": "stream",
     "text": [
      "Loss1: 19.4514, Loss2: 7.8251, Loss3: 33.6612\n"
     ]
    },
    {
     "name": "stderr",
     "output_type": "stream",
     "text": [
      "Test_Loader: 100%|██████████| 288/288 [00:03<00:00, 83.41it/s]\n"
     ]
    },
    {
     "name": "stdout",
     "output_type": "stream",
     "text": [
      "Loss1: 19.5725, Loss2: 7.7620, Loss3: 34.8801\n"
     ]
    },
    {
     "name": "stderr",
     "output_type": "stream",
     "text": [
      "Test_Loader: 100%|██████████| 288/288 [00:03<00:00, 82.03it/s]\n"
     ]
    },
    {
     "name": "stdout",
     "output_type": "stream",
     "text": [
      "Loss1: 19.2110, Loss2: 7.8971, Loss3: 32.8497\n"
     ]
    },
    {
     "name": "stderr",
     "output_type": "stream",
     "text": [
      "Test_Loader: 100%|██████████| 288/288 [00:03<00:00, 79.43it/s]\n"
     ]
    },
    {
     "name": "stdout",
     "output_type": "stream",
     "text": [
      "Loss1: 19.5489, Loss2: 7.4678, Loss3: 32.0814\n"
     ]
    },
    {
     "name": "stderr",
     "output_type": "stream",
     "text": [
      "Test_Loader: 100%|██████████| 288/288 [00:03<00:00, 79.14it/s]\n"
     ]
    },
    {
     "name": "stdout",
     "output_type": "stream",
     "text": [
      "Loss1: 19.4435, Loss2: 8.7334, Loss3: 32.8030\n"
     ]
    },
    {
     "name": "stderr",
     "output_type": "stream",
     "text": [
      "Test_Loader: 100%|██████████| 288/288 [00:03<00:00, 79.12it/s]\n"
     ]
    },
    {
     "name": "stdout",
     "output_type": "stream",
     "text": [
      "Loss1: 19.3026, Loss2: 8.2676, Loss3: 31.5501\n"
     ]
    },
    {
     "name": "stderr",
     "output_type": "stream",
     "text": [
      "Test_Loader: 100%|██████████| 288/288 [00:03<00:00, 78.62it/s]\n"
     ]
    },
    {
     "name": "stdout",
     "output_type": "stream",
     "text": [
      "Loss1: 19.3711, Loss2: 7.5574, Loss3: 32.2787\n"
     ]
    },
    {
     "name": "stderr",
     "output_type": "stream",
     "text": [
      "Test_Loader: 100%|██████████| 288/288 [00:03<00:00, 75.14it/s]\n"
     ]
    },
    {
     "name": "stdout",
     "output_type": "stream",
     "text": [
      "Loss1: 19.6190, Loss2: 8.1874, Loss3: 32.7531\n"
     ]
    },
    {
     "name": "stderr",
     "output_type": "stream",
     "text": [
      "Test_Loader: 100%|██████████| 288/288 [00:03<00:00, 89.86it/s]\n"
     ]
    },
    {
     "name": "stdout",
     "output_type": "stream",
     "text": [
      "Loss1: 19.7738, Loss2: 8.3225, Loss3: 34.8495\n"
     ]
    },
    {
     "name": "stderr",
     "output_type": "stream",
     "text": [
      "Test_Loader: 100%|██████████| 288/288 [00:03<00:00, 82.60it/s]\n"
     ]
    },
    {
     "name": "stdout",
     "output_type": "stream",
     "text": [
      "Loss1: 19.6788, Loss2: 8.0232, Loss3: 30.7679\n"
     ]
    },
    {
     "name": "stderr",
     "output_type": "stream",
     "text": [
      "Test_Loader: 100%|██████████| 288/288 [00:03<00:00, 75.73it/s]\n"
     ]
    },
    {
     "name": "stdout",
     "output_type": "stream",
     "text": [
      "Loss1: 18.7146, Loss2: 7.7043, Loss3: 31.5895\n"
     ]
    },
    {
     "name": "stderr",
     "output_type": "stream",
     "text": [
      "Test_Loader: 100%|██████████| 288/288 [00:03<00:00, 77.67it/s]\n"
     ]
    },
    {
     "name": "stdout",
     "output_type": "stream",
     "text": [
      "Loss1: 19.3101, Loss2: 7.9084, Loss3: 31.1802\n"
     ]
    },
    {
     "name": "stderr",
     "output_type": "stream",
     "text": [
      "Test_Loader: 100%|██████████| 288/288 [00:03<00:00, 82.38it/s]\n"
     ]
    },
    {
     "name": "stdout",
     "output_type": "stream",
     "text": [
      "Loss1: 19.7896, Loss2: 7.5967, Loss3: 33.3705\n"
     ]
    },
    {
     "name": "stderr",
     "output_type": "stream",
     "text": [
      "Test_Loader: 100%|██████████| 288/288 [00:03<00:00, 86.69it/s]\n"
     ]
    },
    {
     "name": "stdout",
     "output_type": "stream",
     "text": [
      "Loss1: 19.4656, Loss2: 7.9610, Loss3: 32.6063\n"
     ]
    },
    {
     "name": "stderr",
     "output_type": "stream",
     "text": [
      "Test_Loader: 100%|██████████| 288/288 [00:03<00:00, 87.62it/s]\n"
     ]
    },
    {
     "name": "stdout",
     "output_type": "stream",
     "text": [
      "Loss1: 21.0740, Loss2: 7.7891, Loss3: 31.9553\n"
     ]
    },
    {
     "name": "stderr",
     "output_type": "stream",
     "text": [
      "Test_Loader: 100%|██████████| 288/288 [00:03<00:00, 83.78it/s]\n"
     ]
    },
    {
     "name": "stdout",
     "output_type": "stream",
     "text": [
      "Loss1: 20.4059, Loss2: 7.3359, Loss3: 31.8934\n"
     ]
    },
    {
     "name": "stderr",
     "output_type": "stream",
     "text": [
      "Test_Loader: 100%|██████████| 288/288 [00:03<00:00, 81.73it/s]\n"
     ]
    },
    {
     "name": "stdout",
     "output_type": "stream",
     "text": [
      "Loss1: 20.2348, Loss2: 7.7555, Loss3: 32.2771\n"
     ]
    },
    {
     "name": "stderr",
     "output_type": "stream",
     "text": [
      "Test_Loader: 100%|██████████| 288/288 [00:03<00:00, 80.60it/s]\n"
     ]
    },
    {
     "name": "stdout",
     "output_type": "stream",
     "text": [
      "Loss1: 21.0648, Loss2: 7.4889, Loss3: 32.5931\n"
     ]
    },
    {
     "name": "stderr",
     "output_type": "stream",
     "text": [
      "Test_Loader: 100%|██████████| 288/288 [00:03<00:00, 80.89it/s]\n"
     ]
    },
    {
     "name": "stdout",
     "output_type": "stream",
     "text": [
      "Loss1: 20.0874, Loss2: 7.5001, Loss3: 31.1003\n"
     ]
    },
    {
     "name": "stderr",
     "output_type": "stream",
     "text": [
      "Test_Loader: 100%|██████████| 288/288 [00:03<00:00, 81.83it/s]\n"
     ]
    },
    {
     "name": "stdout",
     "output_type": "stream",
     "text": [
      "Loss1: 19.9288, Loss2: 7.8621, Loss3: 32.4700\n"
     ]
    },
    {
     "name": "stderr",
     "output_type": "stream",
     "text": [
      "Test_Loader: 100%|██████████| 288/288 [00:03<00:00, 80.67it/s]\n"
     ]
    },
    {
     "name": "stdout",
     "output_type": "stream",
     "text": [
      "Loss1: 20.4041, Loss2: 7.4420, Loss3: 31.6925\n"
     ]
    },
    {
     "name": "stderr",
     "output_type": "stream",
     "text": [
      "Test_Loader: 100%|██████████| 288/288 [00:03<00:00, 84.09it/s]\n"
     ]
    },
    {
     "name": "stdout",
     "output_type": "stream",
     "text": [
      "Loss1: 19.9744, Loss2: 7.7739, Loss3: 31.8047\n"
     ]
    },
    {
     "name": "stderr",
     "output_type": "stream",
     "text": [
      "Test_Loader: 100%|██████████| 288/288 [00:03<00:00, 82.67it/s]\n"
     ]
    },
    {
     "name": "stdout",
     "output_type": "stream",
     "text": [
      "Loss1: 20.6943, Loss2: 7.5156, Loss3: 32.8274\n"
     ]
    },
    {
     "name": "stderr",
     "output_type": "stream",
     "text": [
      "Test_Loader: 100%|██████████| 288/288 [00:03<00:00, 82.78it/s]\n"
     ]
    },
    {
     "name": "stdout",
     "output_type": "stream",
     "text": [
      "Loss1: 20.6192, Loss2: 7.7148, Loss3: 32.4874\n"
     ]
    },
    {
     "name": "stderr",
     "output_type": "stream",
     "text": [
      "Test_Loader: 100%|██████████| 288/288 [00:03<00:00, 81.93it/s]\n"
     ]
    },
    {
     "name": "stdout",
     "output_type": "stream",
     "text": [
      "Loss1: 21.3327, Loss2: 7.7290, Loss3: 33.3166\n"
     ]
    },
    {
     "name": "stderr",
     "output_type": "stream",
     "text": [
      "Test_Loader: 100%|██████████| 288/288 [00:03<00:00, 85.28it/s]\n"
     ]
    },
    {
     "name": "stdout",
     "output_type": "stream",
     "text": [
      "Loss1: 20.1289, Loss2: 7.6112, Loss3: 32.1332\n"
     ]
    },
    {
     "name": "stderr",
     "output_type": "stream",
     "text": [
      "Test_Loader: 100%|██████████| 288/288 [00:03<00:00, 85.99it/s]\n"
     ]
    },
    {
     "name": "stdout",
     "output_type": "stream",
     "text": [
      "Loss1: 19.9538, Loss2: 7.4181, Loss3: 31.5881\n"
     ]
    },
    {
     "name": "stderr",
     "output_type": "stream",
     "text": [
      "Test_Loader: 100%|██████████| 288/288 [00:03<00:00, 77.63it/s]\n"
     ]
    },
    {
     "name": "stdout",
     "output_type": "stream",
     "text": [
      "Loss1: 20.6705, Loss2: 7.7517, Loss3: 31.5903\n"
     ]
    },
    {
     "name": "stderr",
     "output_type": "stream",
     "text": [
      "Test_Loader: 100%|██████████| 288/288 [00:03<00:00, 74.48it/s]\n"
     ]
    },
    {
     "name": "stdout",
     "output_type": "stream",
     "text": [
      "Loss1: 20.4110, Loss2: 7.9891, Loss3: 32.6232\n"
     ]
    },
    {
     "name": "stderr",
     "output_type": "stream",
     "text": [
      "Test_Loader: 100%|██████████| 288/288 [00:03<00:00, 74.40it/s]\n"
     ]
    },
    {
     "name": "stdout",
     "output_type": "stream",
     "text": [
      "Loss1: 20.7864, Loss2: 7.7939, Loss3: 32.3240\n"
     ]
    },
    {
     "name": "stderr",
     "output_type": "stream",
     "text": [
      "Test_Loader: 100%|██████████| 288/288 [00:03<00:00, 74.53it/s]\n"
     ]
    },
    {
     "name": "stdout",
     "output_type": "stream",
     "text": [
      "Loss1: 21.7534, Loss2: 7.9141, Loss3: 33.7953\n"
     ]
    },
    {
     "name": "stderr",
     "output_type": "stream",
     "text": [
      "Test_Loader: 100%|██████████| 288/288 [00:03<00:00, 75.89it/s]\n"
     ]
    },
    {
     "name": "stdout",
     "output_type": "stream",
     "text": [
      "Loss1: 21.4185, Loss2: 8.0538, Loss3: 34.9966\n"
     ]
    },
    {
     "name": "stderr",
     "output_type": "stream",
     "text": [
      "Test_Loader: 100%|██████████| 288/288 [00:03<00:00, 72.56it/s]\n"
     ]
    },
    {
     "name": "stdout",
     "output_type": "stream",
     "text": [
      "Loss1: 21.8523, Loss2: 7.8699, Loss3: 34.0345\n"
     ]
    },
    {
     "name": "stderr",
     "output_type": "stream",
     "text": [
      "Test_Loader: 100%|██████████| 288/288 [00:03<00:00, 78.97it/s]\n"
     ]
    },
    {
     "name": "stdout",
     "output_type": "stream",
     "text": [
      "Loss1: 22.3365, Loss2: 7.8389, Loss3: 35.0470\n"
     ]
    },
    {
     "name": "stderr",
     "output_type": "stream",
     "text": [
      "Test_Loader: 100%|██████████| 288/288 [00:03<00:00, 78.43it/s]\n"
     ]
    },
    {
     "name": "stdout",
     "output_type": "stream",
     "text": [
      "Loss1: 23.8050, Loss2: 8.5439, Loss3: 38.0187\n"
     ]
    },
    {
     "name": "stderr",
     "output_type": "stream",
     "text": [
      "Test_Loader: 100%|██████████| 288/288 [00:03<00:00, 78.80it/s]\n"
     ]
    },
    {
     "name": "stdout",
     "output_type": "stream",
     "text": [
      "Loss1: 24.8281, Loss2: 8.0417, Loss3: 36.6724\n"
     ]
    },
    {
     "name": "stderr",
     "output_type": "stream",
     "text": [
      "Test_Loader: 100%|██████████| 288/288 [00:03<00:00, 79.01it/s]\n"
     ]
    },
    {
     "name": "stdout",
     "output_type": "stream",
     "text": [
      "Loss1: 23.8747, Loss2: 7.9272, Loss3: 36.2704\n"
     ]
    },
    {
     "name": "stderr",
     "output_type": "stream",
     "text": [
      "Test_Loader: 100%|██████████| 288/288 [00:03<00:00, 78.87it/s]\n"
     ]
    },
    {
     "name": "stdout",
     "output_type": "stream",
     "text": [
      "Loss1: 22.9129, Loss2: 7.9179, Loss3: 35.4012\n"
     ]
    },
    {
     "name": "stderr",
     "output_type": "stream",
     "text": [
      "Test_Loader: 100%|██████████| 288/288 [00:03<00:00, 78.01it/s]\n"
     ]
    },
    {
     "name": "stdout",
     "output_type": "stream",
     "text": [
      "Loss1: 24.8181, Loss2: 7.6413, Loss3: 36.9231\n"
     ]
    },
    {
     "name": "stderr",
     "output_type": "stream",
     "text": [
      "Test_Loader: 100%|██████████| 288/288 [00:03<00:00, 76.56it/s]\n"
     ]
    },
    {
     "name": "stdout",
     "output_type": "stream",
     "text": [
      "Loss1: 22.6788, Loss2: 7.9815, Loss3: 35.9258\n"
     ]
    },
    {
     "name": "stderr",
     "output_type": "stream",
     "text": [
      "Test_Loader: 100%|██████████| 288/288 [00:03<00:00, 83.24it/s]\n"
     ]
    },
    {
     "name": "stdout",
     "output_type": "stream",
     "text": [
      "Loss1: 22.4983, Loss2: 7.6621, Loss3: 34.8046\n"
     ]
    },
    {
     "name": "stderr",
     "output_type": "stream",
     "text": [
      "Test_Loader: 100%|██████████| 288/288 [00:03<00:00, 80.06it/s]\n"
     ]
    },
    {
     "name": "stdout",
     "output_type": "stream",
     "text": [
      "Loss1: 22.2803, Loss2: 7.3214, Loss3: 32.4555\n"
     ]
    },
    {
     "name": "stderr",
     "output_type": "stream",
     "text": [
      "Test_Loader: 100%|██████████| 288/288 [00:03<00:00, 84.55it/s]\n"
     ]
    },
    {
     "name": "stdout",
     "output_type": "stream",
     "text": [
      "Loss1: 20.2577, Loss2: 7.1980, Loss3: 31.0493\n"
     ]
    },
    {
     "name": "stderr",
     "output_type": "stream",
     "text": [
      "Test_Loader: 100%|██████████| 288/288 [00:03<00:00, 83.25it/s]\n"
     ]
    },
    {
     "name": "stdout",
     "output_type": "stream",
     "text": [
      "Loss1: 21.6612, Loss2: 6.9991, Loss3: 30.9783\n"
     ]
    },
    {
     "name": "stderr",
     "output_type": "stream",
     "text": [
      "Test_Loader: 100%|██████████| 288/288 [00:03<00:00, 86.37it/s]\n"
     ]
    },
    {
     "name": "stdout",
     "output_type": "stream",
     "text": [
      "Loss1: 17.7900, Loss2: 7.0099, Loss3: 29.6120\n"
     ]
    },
    {
     "name": "stderr",
     "output_type": "stream",
     "text": [
      "Test_Loader: 100%|██████████| 288/288 [00:04<00:00, 71.32it/s]\n"
     ]
    },
    {
     "name": "stdout",
     "output_type": "stream",
     "text": [
      "Loss1: 17.3794, Loss2: 6.8099, Loss3: 28.2744\n"
     ]
    },
    {
     "name": "stderr",
     "output_type": "stream",
     "text": [
      "Test_Loader: 100%|██████████| 288/288 [00:04<00:00, 67.65it/s]\n"
     ]
    },
    {
     "name": "stdout",
     "output_type": "stream",
     "text": [
      "Loss1: 18.2549, Loss2: 6.6645, Loss3: 28.9354\n"
     ]
    },
    {
     "name": "stderr",
     "output_type": "stream",
     "text": [
      "Test_Loader: 100%|██████████| 288/288 [00:03<00:00, 80.29it/s]\n"
     ]
    },
    {
     "name": "stdout",
     "output_type": "stream",
     "text": [
      "Loss1: 18.4922, Loss2: 7.3078, Loss3: 29.9504\n"
     ]
    },
    {
     "name": "stderr",
     "output_type": "stream",
     "text": [
      "Test_Loader: 100%|██████████| 288/288 [00:03<00:00, 76.01it/s]\n"
     ]
    },
    {
     "name": "stdout",
     "output_type": "stream",
     "text": [
      "Loss1: 16.9409, Loss2: 6.5657, Loss3: 27.3724\n"
     ]
    },
    {
     "name": "stderr",
     "output_type": "stream",
     "text": [
      "Test_Loader: 100%|██████████| 288/288 [00:03<00:00, 73.83it/s]\n"
     ]
    },
    {
     "name": "stdout",
     "output_type": "stream",
     "text": [
      "Loss1: 17.3176, Loss2: 6.5747, Loss3: 26.6698\n"
     ]
    },
    {
     "name": "stderr",
     "output_type": "stream",
     "text": [
      "Test_Loader: 100%|██████████| 288/288 [00:03<00:00, 74.55it/s]\n"
     ]
    },
    {
     "name": "stdout",
     "output_type": "stream",
     "text": [
      "Loss1: 16.5846, Loss2: 6.9496, Loss3: 26.5083\n"
     ]
    },
    {
     "name": "stderr",
     "output_type": "stream",
     "text": [
      "Test_Loader: 100%|██████████| 288/288 [00:03<00:00, 74.63it/s]\n"
     ]
    },
    {
     "name": "stdout",
     "output_type": "stream",
     "text": [
      "Loss1: 17.5762, Loss2: 6.8719, Loss3: 28.5040\n"
     ]
    },
    {
     "name": "stderr",
     "output_type": "stream",
     "text": [
      "Test_Loader: 100%|██████████| 288/288 [00:03<00:00, 75.00it/s]\n"
     ]
    },
    {
     "name": "stdout",
     "output_type": "stream",
     "text": [
      "Loss1: 16.9145, Loss2: 7.2818, Loss3: 29.2595\n"
     ]
    },
    {
     "name": "stderr",
     "output_type": "stream",
     "text": [
      "Test_Loader: 100%|██████████| 288/288 [00:03<00:00, 80.65it/s]\n"
     ]
    },
    {
     "name": "stdout",
     "output_type": "stream",
     "text": [
      "Loss1: 16.6564, Loss2: 6.5442, Loss3: 28.0278\n"
     ]
    },
    {
     "name": "stderr",
     "output_type": "stream",
     "text": [
      "Test_Loader: 100%|██████████| 288/288 [00:03<00:00, 78.03it/s]\n"
     ]
    },
    {
     "name": "stdout",
     "output_type": "stream",
     "text": [
      "Loss1: 16.5095, Loss2: 6.7385, Loss3: 26.6077\n"
     ]
    },
    {
     "name": "stderr",
     "output_type": "stream",
     "text": [
      "Test_Loader: 100%|██████████| 288/288 [00:03<00:00, 77.98it/s]\n"
     ]
    },
    {
     "name": "stdout",
     "output_type": "stream",
     "text": [
      "Loss1: 16.6246, Loss2: 6.9117, Loss3: 29.5603\n"
     ]
    },
    {
     "name": "stderr",
     "output_type": "stream",
     "text": [
      "Test_Loader: 100%|██████████| 288/288 [00:03<00:00, 83.45it/s]\n"
     ]
    },
    {
     "name": "stdout",
     "output_type": "stream",
     "text": [
      "Loss1: 16.5171, Loss2: 6.7070, Loss3: 27.0126\n"
     ]
    },
    {
     "name": "stderr",
     "output_type": "stream",
     "text": [
      "Test_Loader: 100%|██████████| 288/288 [00:03<00:00, 85.84it/s]\n"
     ]
    },
    {
     "name": "stdout",
     "output_type": "stream",
     "text": [
      "Loss1: 17.0848, Loss2: 6.7907, Loss3: 27.6187\n"
     ]
    },
    {
     "name": "stderr",
     "output_type": "stream",
     "text": [
      "Test_Loader: 100%|██████████| 288/288 [00:03<00:00, 84.15it/s]\n"
     ]
    },
    {
     "name": "stdout",
     "output_type": "stream",
     "text": [
      "Loss1: 16.3305, Loss2: 6.9116, Loss3: 26.4647\n"
     ]
    },
    {
     "name": "stderr",
     "output_type": "stream",
     "text": [
      "Test_Loader: 100%|██████████| 288/288 [00:03<00:00, 74.38it/s]\n"
     ]
    },
    {
     "name": "stdout",
     "output_type": "stream",
     "text": [
      "Loss1: 17.2519, Loss2: 7.0523, Loss3: 27.5125\n"
     ]
    },
    {
     "name": "stderr",
     "output_type": "stream",
     "text": [
      "Test_Loader: 100%|██████████| 288/288 [00:03<00:00, 76.58it/s]\n"
     ]
    },
    {
     "name": "stdout",
     "output_type": "stream",
     "text": [
      "Loss1: 16.3205, Loss2: 6.9439, Loss3: 27.1047\n"
     ]
    },
    {
     "name": "stderr",
     "output_type": "stream",
     "text": [
      "Test_Loader: 100%|██████████| 288/288 [00:03<00:00, 78.15it/s]\n"
     ]
    },
    {
     "name": "stdout",
     "output_type": "stream",
     "text": [
      "Loss1: 17.0697, Loss2: 7.1432, Loss3: 28.1445\n"
     ]
    },
    {
     "name": "stderr",
     "output_type": "stream",
     "text": [
      "Test_Loader: 100%|██████████| 288/288 [00:03<00:00, 79.73it/s]\n"
     ]
    },
    {
     "name": "stdout",
     "output_type": "stream",
     "text": [
      "Loss1: 16.8581, Loss2: 6.5164, Loss3: 27.7950\n"
     ]
    },
    {
     "name": "stderr",
     "output_type": "stream",
     "text": [
      "Test_Loader: 100%|██████████| 288/288 [00:03<00:00, 77.67it/s]\n"
     ]
    },
    {
     "name": "stdout",
     "output_type": "stream",
     "text": [
      "Loss1: 17.1369, Loss2: 6.9112, Loss3: 27.4789\n"
     ]
    },
    {
     "name": "stderr",
     "output_type": "stream",
     "text": [
      "Test_Loader: 100%|██████████| 288/288 [00:03<00:00, 78.11it/s]\n"
     ]
    },
    {
     "name": "stdout",
     "output_type": "stream",
     "text": [
      "Loss1: 16.5515, Loss2: 6.6812, Loss3: 28.8185\n"
     ]
    },
    {
     "name": "stderr",
     "output_type": "stream",
     "text": [
      "Test_Loader: 100%|██████████| 288/288 [00:03<00:00, 78.82it/s]\n"
     ]
    },
    {
     "name": "stdout",
     "output_type": "stream",
     "text": [
      "Loss1: 17.1366, Loss2: 6.9151, Loss3: 27.0827\n"
     ]
    },
    {
     "name": "stderr",
     "output_type": "stream",
     "text": [
      "Test_Loader: 100%|██████████| 288/288 [00:03<00:00, 75.07it/s]\n"
     ]
    },
    {
     "name": "stdout",
     "output_type": "stream",
     "text": [
      "Loss1: 16.1074, Loss2: 7.1948, Loss3: 28.7168\n"
     ]
    },
    {
     "name": "stderr",
     "output_type": "stream",
     "text": [
      "Test_Loader: 100%|██████████| 288/288 [00:03<00:00, 76.76it/s]\n"
     ]
    },
    {
     "name": "stdout",
     "output_type": "stream",
     "text": [
      "Loss1: 16.9851, Loss2: 6.8887, Loss3: 28.3463\n"
     ]
    },
    {
     "name": "stderr",
     "output_type": "stream",
     "text": [
      "Test_Loader: 100%|██████████| 288/288 [00:03<00:00, 82.32it/s]\n"
     ]
    },
    {
     "name": "stdout",
     "output_type": "stream",
     "text": [
      "Loss1: 17.1738, Loss2: 7.3208, Loss3: 27.6983\n"
     ]
    },
    {
     "name": "stderr",
     "output_type": "stream",
     "text": [
      "Test_Loader: 100%|██████████| 288/288 [00:03<00:00, 82.19it/s]\n"
     ]
    },
    {
     "name": "stdout",
     "output_type": "stream",
     "text": [
      "Loss1: 17.5185, Loss2: 7.2452, Loss3: 26.9796\n"
     ]
    },
    {
     "name": "stderr",
     "output_type": "stream",
     "text": [
      "Test_Loader: 100%|██████████| 288/288 [00:03<00:00, 83.42it/s]\n"
     ]
    },
    {
     "name": "stdout",
     "output_type": "stream",
     "text": [
      "Loss1: 17.0373, Loss2: 7.1853, Loss3: 28.2544\n"
     ]
    },
    {
     "name": "stderr",
     "output_type": "stream",
     "text": [
      "Test_Loader: 100%|██████████| 288/288 [00:03<00:00, 75.69it/s]\n"
     ]
    },
    {
     "name": "stdout",
     "output_type": "stream",
     "text": [
      "Loss1: 17.1356, Loss2: 7.2904, Loss3: 29.4210\n"
     ]
    },
    {
     "name": "stderr",
     "output_type": "stream",
     "text": [
      "Test_Loader: 100%|██████████| 288/288 [00:03<00:00, 75.12it/s]\n"
     ]
    },
    {
     "name": "stdout",
     "output_type": "stream",
     "text": [
      "Loss1: 17.2868, Loss2: 7.2381, Loss3: 29.8943\n"
     ]
    },
    {
     "name": "stderr",
     "output_type": "stream",
     "text": [
      "Test_Loader: 100%|██████████| 288/288 [00:03<00:00, 76.23it/s]\n"
     ]
    },
    {
     "name": "stdout",
     "output_type": "stream",
     "text": [
      "Loss1: 18.1855, Loss2: 7.2465, Loss3: 28.2504\n"
     ]
    },
    {
     "name": "stderr",
     "output_type": "stream",
     "text": [
      "Test_Loader: 100%|██████████| 288/288 [00:03<00:00, 76.96it/s]\n"
     ]
    },
    {
     "name": "stdout",
     "output_type": "stream",
     "text": [
      "Loss1: 16.7443, Loss2: 7.3064, Loss3: 28.8041\n"
     ]
    },
    {
     "name": "stderr",
     "output_type": "stream",
     "text": [
      "Test_Loader: 100%|██████████| 288/288 [00:03<00:00, 76.67it/s]\n"
     ]
    },
    {
     "name": "stdout",
     "output_type": "stream",
     "text": [
      "Loss1: 16.6622, Loss2: 7.2579, Loss3: 27.2417\n"
     ]
    },
    {
     "name": "stderr",
     "output_type": "stream",
     "text": [
      "Test_Loader: 100%|██████████| 288/288 [00:03<00:00, 77.18it/s]\n"
     ]
    },
    {
     "name": "stdout",
     "output_type": "stream",
     "text": [
      "Loss1: 16.6371, Loss2: 7.2866, Loss3: 26.3801\n"
     ]
    },
    {
     "name": "stderr",
     "output_type": "stream",
     "text": [
      "Test_Loader: 100%|██████████| 288/288 [00:03<00:00, 80.42it/s]\n"
     ]
    },
    {
     "name": "stdout",
     "output_type": "stream",
     "text": [
      "Loss1: 16.7542, Loss2: 7.2458, Loss3: 26.3737\n"
     ]
    },
    {
     "name": "stderr",
     "output_type": "stream",
     "text": [
      "Test_Loader: 100%|██████████| 288/288 [00:03<00:00, 83.04it/s]\n"
     ]
    },
    {
     "name": "stdout",
     "output_type": "stream",
     "text": [
      "Loss1: 16.3700, Loss2: 7.2994, Loss3: 30.3834\n"
     ]
    },
    {
     "name": "stderr",
     "output_type": "stream",
     "text": [
      "Test_Loader: 100%|██████████| 288/288 [00:03<00:00, 81.53it/s]\n"
     ]
    },
    {
     "name": "stdout",
     "output_type": "stream",
     "text": [
      "Loss1: 16.5746, Loss2: 6.9457, Loss3: 26.4477\n"
     ]
    },
    {
     "name": "stderr",
     "output_type": "stream",
     "text": [
      "Test_Loader: 100%|██████████| 288/288 [00:03<00:00, 75.04it/s]\n"
     ]
    },
    {
     "name": "stdout",
     "output_type": "stream",
     "text": [
      "Loss1: 17.5597, Loss2: 6.9333, Loss3: 28.0232\n"
     ]
    },
    {
     "name": "stderr",
     "output_type": "stream",
     "text": [
      "Test_Loader: 100%|██████████| 288/288 [00:03<00:00, 78.01it/s]\n"
     ]
    },
    {
     "name": "stdout",
     "output_type": "stream",
     "text": [
      "Loss1: 17.4329, Loss2: 7.0124, Loss3: 27.1213\n"
     ]
    },
    {
     "name": "stderr",
     "output_type": "stream",
     "text": [
      "Test_Loader: 100%|██████████| 288/288 [00:03<00:00, 81.72it/s]\n"
     ]
    },
    {
     "name": "stdout",
     "output_type": "stream",
     "text": [
      "Loss1: 18.0340, Loss2: 7.1114, Loss3: 28.3313\n"
     ]
    },
    {
     "name": "stderr",
     "output_type": "stream",
     "text": [
      "Test_Loader: 100%|██████████| 288/288 [00:03<00:00, 82.64it/s]\n"
     ]
    },
    {
     "name": "stdout",
     "output_type": "stream",
     "text": [
      "Loss1: 17.9816, Loss2: 7.4992, Loss3: 26.5028\n"
     ]
    },
    {
     "name": "stderr",
     "output_type": "stream",
     "text": [
      "Test_Loader: 100%|██████████| 288/288 [00:03<00:00, 80.38it/s]\n"
     ]
    },
    {
     "name": "stdout",
     "output_type": "stream",
     "text": [
      "Loss1: 16.7591, Loss2: 7.4709, Loss3: 27.1679\n"
     ]
    },
    {
     "name": "stderr",
     "output_type": "stream",
     "text": [
      "Test_Loader: 100%|██████████| 288/288 [00:03<00:00, 80.69it/s]\n"
     ]
    },
    {
     "name": "stdout",
     "output_type": "stream",
     "text": [
      "Loss1: 17.4952, Loss2: 6.8571, Loss3: 25.7843\n"
     ]
    },
    {
     "name": "stderr",
     "output_type": "stream",
     "text": [
      "Test_Loader: 100%|██████████| 288/288 [00:03<00:00, 81.69it/s]\n"
     ]
    },
    {
     "name": "stdout",
     "output_type": "stream",
     "text": [
      "Loss1: 17.0798, Loss2: 6.9700, Loss3: 26.0441\n"
     ]
    },
    {
     "name": "stderr",
     "output_type": "stream",
     "text": [
      "Test_Loader: 100%|██████████| 288/288 [00:03<00:00, 81.97it/s]\n"
     ]
    },
    {
     "name": "stdout",
     "output_type": "stream",
     "text": [
      "Loss1: 17.1491, Loss2: 7.1175, Loss3: 26.1266\n"
     ]
    },
    {
     "name": "stderr",
     "output_type": "stream",
     "text": [
      "Test_Loader: 100%|██████████| 288/288 [00:03<00:00, 81.78it/s]\n"
     ]
    },
    {
     "name": "stdout",
     "output_type": "stream",
     "text": [
      "Loss1: 17.3000, Loss2: 7.9958, Loss3: 30.8756\n"
     ]
    },
    {
     "name": "stderr",
     "output_type": "stream",
     "text": [
      "Test_Loader: 100%|██████████| 288/288 [00:03<00:00, 77.70it/s]\n"
     ]
    },
    {
     "name": "stdout",
     "output_type": "stream",
     "text": [
      "Loss1: 17.6974, Loss2: 7.5115, Loss3: 27.1881\n"
     ]
    },
    {
     "name": "stderr",
     "output_type": "stream",
     "text": [
      "Test_Loader: 100%|██████████| 288/288 [00:03<00:00, 76.42it/s]\n"
     ]
    },
    {
     "name": "stdout",
     "output_type": "stream",
     "text": [
      "Loss1: 16.6545, Loss2: 7.2017, Loss3: 25.0592\n"
     ]
    },
    {
     "name": "stderr",
     "output_type": "stream",
     "text": [
      "Test_Loader: 100%|██████████| 288/288 [00:03<00:00, 76.80it/s]\n"
     ]
    },
    {
     "name": "stdout",
     "output_type": "stream",
     "text": [
      "Loss1: 17.0969, Loss2: 7.6682, Loss3: 26.8376\n"
     ]
    },
    {
     "name": "stderr",
     "output_type": "stream",
     "text": [
      "Test_Loader: 100%|██████████| 288/288 [00:03<00:00, 78.94it/s]\n"
     ]
    },
    {
     "name": "stdout",
     "output_type": "stream",
     "text": [
      "Loss1: 17.0187, Loss2: 7.1865, Loss3: 27.2380\n"
     ]
    },
    {
     "name": "stderr",
     "output_type": "stream",
     "text": [
      "Test_Loader: 100%|██████████| 288/288 [00:03<00:00, 80.25it/s]\n"
     ]
    },
    {
     "name": "stdout",
     "output_type": "stream",
     "text": [
      "Loss1: 17.4156, Loss2: 7.6110, Loss3: 28.7897\n"
     ]
    },
    {
     "name": "stderr",
     "output_type": "stream",
     "text": [
      "Test_Loader: 100%|██████████| 288/288 [00:03<00:00, 79.34it/s]\n"
     ]
    },
    {
     "name": "stdout",
     "output_type": "stream",
     "text": [
      "Loss1: 17.8974, Loss2: 7.4630, Loss3: 25.9058\n"
     ]
    },
    {
     "name": "stderr",
     "output_type": "stream",
     "text": [
      "Test_Loader: 100%|██████████| 288/288 [00:03<00:00, 83.60it/s]\n"
     ]
    },
    {
     "name": "stdout",
     "output_type": "stream",
     "text": [
      "Loss1: 17.2466, Loss2: 7.5166, Loss3: 26.2720\n"
     ]
    },
    {
     "name": "stderr",
     "output_type": "stream",
     "text": [
      "Test_Loader: 100%|██████████| 288/288 [00:03<00:00, 84.09it/s]\n"
     ]
    },
    {
     "name": "stdout",
     "output_type": "stream",
     "text": [
      "Loss1: 17.9515, Loss2: 6.8667, Loss3: 25.0929\n"
     ]
    },
    {
     "name": "stderr",
     "output_type": "stream",
     "text": [
      "Test_Loader: 100%|██████████| 288/288 [00:03<00:00, 85.31it/s]\n"
     ]
    },
    {
     "name": "stdout",
     "output_type": "stream",
     "text": [
      "Loss1: 17.9867, Loss2: 6.8185, Loss3: 25.0299\n"
     ]
    },
    {
     "name": "stderr",
     "output_type": "stream",
     "text": [
      "Test_Loader: 100%|██████████| 288/288 [00:03<00:00, 81.70it/s]\n"
     ]
    },
    {
     "name": "stdout",
     "output_type": "stream",
     "text": [
      "Loss1: 18.4359, Loss2: 6.7426, Loss3: 25.2866\n"
     ]
    },
    {
     "name": "stderr",
     "output_type": "stream",
     "text": [
      "Test_Loader: 100%|██████████| 288/288 [00:03<00:00, 82.30it/s]\n"
     ]
    },
    {
     "name": "stdout",
     "output_type": "stream",
     "text": [
      "Loss1: 19.4857, Loss2: 7.0688, Loss3: 26.1371\n"
     ]
    },
    {
     "name": "stderr",
     "output_type": "stream",
     "text": [
      "Test_Loader: 100%|██████████| 288/288 [00:03<00:00, 78.04it/s]\n"
     ]
    },
    {
     "name": "stdout",
     "output_type": "stream",
     "text": [
      "Loss1: 18.1758, Loss2: 6.5720, Loss3: 26.5934\n"
     ]
    },
    {
     "name": "stderr",
     "output_type": "stream",
     "text": [
      "Test_Loader: 100%|██████████| 288/288 [00:04<00:00, 71.18it/s]\n"
     ]
    },
    {
     "name": "stdout",
     "output_type": "stream",
     "text": [
      "Loss1: 20.1775, Loss2: 6.1256, Loss3: 26.1154\n"
     ]
    },
    {
     "name": "stderr",
     "output_type": "stream",
     "text": [
      "Test_Loader: 100%|██████████| 288/288 [00:03<00:00, 72.65it/s]\n"
     ]
    },
    {
     "name": "stdout",
     "output_type": "stream",
     "text": [
      "Loss1: 18.9218, Loss2: 6.2595, Loss3: 25.5105\n"
     ]
    },
    {
     "name": "stderr",
     "output_type": "stream",
     "text": [
      "Test_Loader: 100%|██████████| 288/288 [00:03<00:00, 78.89it/s]\n"
     ]
    },
    {
     "name": "stdout",
     "output_type": "stream",
     "text": [
      "Loss1: 18.9647, Loss2: 6.3840, Loss3: 25.4907\n"
     ]
    },
    {
     "name": "stderr",
     "output_type": "stream",
     "text": [
      "Test_Loader: 100%|██████████| 288/288 [00:03<00:00, 84.93it/s]\n"
     ]
    },
    {
     "name": "stdout",
     "output_type": "stream",
     "text": [
      "Loss1: 18.1752, Loss2: 6.5089, Loss3: 24.4368\n"
     ]
    },
    {
     "name": "stderr",
     "output_type": "stream",
     "text": [
      "Test_Loader: 100%|██████████| 288/288 [00:03<00:00, 85.71it/s]\n"
     ]
    },
    {
     "name": "stdout",
     "output_type": "stream",
     "text": [
      "Loss1: 18.1398, Loss2: 6.0688, Loss3: 24.0740\n"
     ]
    },
    {
     "name": "stderr",
     "output_type": "stream",
     "text": [
      "Test_Loader: 100%|██████████| 288/288 [00:03<00:00, 83.54it/s]\n"
     ]
    },
    {
     "name": "stdout",
     "output_type": "stream",
     "text": [
      "Loss1: 17.4148, Loss2: 5.8251, Loss3: 23.8617\n"
     ]
    },
    {
     "name": "stderr",
     "output_type": "stream",
     "text": [
      "Test_Loader: 100%|██████████| 288/288 [00:03<00:00, 81.96it/s]\n"
     ]
    },
    {
     "name": "stdout",
     "output_type": "stream",
     "text": [
      "Loss1: 17.5867, Loss2: 5.7028, Loss3: 23.7724\n"
     ]
    },
    {
     "name": "stderr",
     "output_type": "stream",
     "text": [
      "Test_Loader: 100%|██████████| 288/288 [00:03<00:00, 80.93it/s]\n"
     ]
    },
    {
     "name": "stdout",
     "output_type": "stream",
     "text": [
      "Loss1: 17.2396, Loss2: 6.0598, Loss3: 22.7566\n"
     ]
    },
    {
     "name": "stderr",
     "output_type": "stream",
     "text": [
      "Test_Loader: 100%|██████████| 288/288 [00:03<00:00, 78.50it/s]\n"
     ]
    },
    {
     "name": "stdout",
     "output_type": "stream",
     "text": [
      "Loss1: 17.0800, Loss2: 6.1378, Loss3: 22.7163\n"
     ]
    },
    {
     "name": "stderr",
     "output_type": "stream",
     "text": [
      "Test_Loader: 100%|██████████| 288/288 [00:03<00:00, 80.38it/s]\n"
     ]
    },
    {
     "name": "stdout",
     "output_type": "stream",
     "text": [
      "Loss1: 15.3980, Loss2: 5.5265, Loss3: 23.5397\n"
     ]
    },
    {
     "name": "stderr",
     "output_type": "stream",
     "text": [
      "Test_Loader: 100%|██████████| 288/288 [00:03<00:00, 80.11it/s]\n"
     ]
    },
    {
     "name": "stdout",
     "output_type": "stream",
     "text": [
      "Loss1: 15.6447, Loss2: 5.7906, Loss3: 22.1538\n"
     ]
    },
    {
     "name": "stderr",
     "output_type": "stream",
     "text": [
      "Test_Loader: 100%|██████████| 288/288 [00:03<00:00, 84.60it/s]\n"
     ]
    },
    {
     "name": "stdout",
     "output_type": "stream",
     "text": [
      "Loss1: 17.2231, Loss2: 5.7141, Loss3: 22.5639\n"
     ]
    },
    {
     "name": "stderr",
     "output_type": "stream",
     "text": [
      "Test_Loader: 100%|██████████| 288/288 [00:03<00:00, 84.62it/s]\n"
     ]
    },
    {
     "name": "stdout",
     "output_type": "stream",
     "text": [
      "Loss1: 15.1076, Loss2: 5.4010, Loss3: 21.2365\n"
     ]
    },
    {
     "name": "stderr",
     "output_type": "stream",
     "text": [
      "Test_Loader: 100%|██████████| 288/288 [00:03<00:00, 83.83it/s]\n"
     ]
    },
    {
     "name": "stdout",
     "output_type": "stream",
     "text": [
      "Loss1: 15.3999, Loss2: 5.4891, Loss3: 21.8713\n"
     ]
    },
    {
     "name": "stderr",
     "output_type": "stream",
     "text": [
      "Test_Loader: 100%|██████████| 288/288 [00:03<00:00, 79.80it/s]\n"
     ]
    },
    {
     "name": "stdout",
     "output_type": "stream",
     "text": [
      "Loss1: 14.6773, Loss2: 5.2761, Loss3: 20.3675\n"
     ]
    },
    {
     "name": "stderr",
     "output_type": "stream",
     "text": [
      "Test_Loader: 100%|██████████| 288/288 [00:03<00:00, 75.90it/s]\n"
     ]
    },
    {
     "name": "stdout",
     "output_type": "stream",
     "text": [
      "Loss1: 13.7866, Loss2: 5.7911, Loss3: 20.2801\n"
     ]
    },
    {
     "name": "stderr",
     "output_type": "stream",
     "text": [
      "Test_Loader: 100%|██████████| 288/288 [00:03<00:00, 80.34it/s]\n"
     ]
    },
    {
     "name": "stdout",
     "output_type": "stream",
     "text": [
      "Loss1: 14.7558, Loss2: 5.1553, Loss3: 20.6268\n"
     ]
    },
    {
     "name": "stderr",
     "output_type": "stream",
     "text": [
      "Test_Loader: 100%|██████████| 288/288 [00:03<00:00, 86.00it/s]\n"
     ]
    },
    {
     "name": "stdout",
     "output_type": "stream",
     "text": [
      "Loss1: 14.0474, Loss2: 5.0052, Loss3: 19.5405\n"
     ]
    },
    {
     "name": "stderr",
     "output_type": "stream",
     "text": [
      "Test_Loader: 100%|██████████| 288/288 [00:03<00:00, 86.79it/s]\n"
     ]
    },
    {
     "name": "stdout",
     "output_type": "stream",
     "text": [
      "Loss1: 14.7677, Loss2: 5.1347, Loss3: 20.2034\n"
     ]
    },
    {
     "name": "stderr",
     "output_type": "stream",
     "text": [
      "Test_Loader: 100%|██████████| 288/288 [00:03<00:00, 85.14it/s]\n"
     ]
    },
    {
     "name": "stdout",
     "output_type": "stream",
     "text": [
      "Loss1: 14.1850, Loss2: 5.2578, Loss3: 20.5642\n"
     ]
    },
    {
     "name": "stderr",
     "output_type": "stream",
     "text": [
      "Test_Loader: 100%|██████████| 288/288 [00:03<00:00, 81.66it/s]\n"
     ]
    },
    {
     "name": "stdout",
     "output_type": "stream",
     "text": [
      "Loss1: 14.8692, Loss2: 5.7753, Loss3: 20.6473\n"
     ]
    },
    {
     "name": "stderr",
     "output_type": "stream",
     "text": [
      "Test_Loader: 100%|██████████| 288/288 [00:03<00:00, 80.18it/s]\n"
     ]
    },
    {
     "name": "stdout",
     "output_type": "stream",
     "text": [
      "Loss1: 14.5103, Loss2: 6.4020, Loss3: 22.7946\n"
     ]
    },
    {
     "name": "stderr",
     "output_type": "stream",
     "text": [
      "Test_Loader: 100%|██████████| 288/288 [00:03<00:00, 78.70it/s]\n"
     ]
    },
    {
     "name": "stdout",
     "output_type": "stream",
     "text": [
      "Loss1: 15.4020, Loss2: 6.6731, Loss3: 23.8646\n"
     ]
    },
    {
     "name": "stderr",
     "output_type": "stream",
     "text": [
      "Test_Loader: 100%|██████████| 288/288 [00:03<00:00, 79.58it/s]\n"
     ]
    },
    {
     "name": "stdout",
     "output_type": "stream",
     "text": [
      "Loss1: 15.2563, Loss2: 6.9447, Loss3: 24.6410\n"
     ]
    },
    {
     "name": "stderr",
     "output_type": "stream",
     "text": [
      "Test_Loader: 100%|██████████| 288/288 [00:03<00:00, 80.71it/s]\n"
     ]
    },
    {
     "name": "stdout",
     "output_type": "stream",
     "text": [
      "Loss1: 16.0124, Loss2: 6.4705, Loss3: 26.1303\n"
     ]
    },
    {
     "name": "stderr",
     "output_type": "stream",
     "text": [
      "Test_Loader: 100%|██████████| 288/288 [00:03<00:00, 81.49it/s]\n"
     ]
    },
    {
     "name": "stdout",
     "output_type": "stream",
     "text": [
      "Loss1: 15.8328, Loss2: 7.1086, Loss3: 27.3364\n"
     ]
    },
    {
     "name": "stderr",
     "output_type": "stream",
     "text": [
      "Test_Loader: 100%|██████████| 288/288 [00:03<00:00, 73.40it/s]\n"
     ]
    },
    {
     "name": "stdout",
     "output_type": "stream",
     "text": [
      "Loss1: 15.7521, Loss2: 6.7381, Loss3: 26.9879\n"
     ]
    },
    {
     "name": "stderr",
     "output_type": "stream",
     "text": [
      "Test_Loader: 100%|██████████| 288/288 [00:03<00:00, 72.35it/s]\n"
     ]
    },
    {
     "name": "stdout",
     "output_type": "stream",
     "text": [
      "Loss1: 16.3293, Loss2: 6.8649, Loss3: 27.7634\n"
     ]
    },
    {
     "name": "stderr",
     "output_type": "stream",
     "text": [
      "Test_Loader: 100%|██████████| 288/288 [00:03<00:00, 76.16it/s]\n"
     ]
    },
    {
     "name": "stdout",
     "output_type": "stream",
     "text": [
      "Loss1: 16.2125, Loss2: 6.8500, Loss3: 27.2075\n"
     ]
    },
    {
     "name": "stderr",
     "output_type": "stream",
     "text": [
      "Test_Loader: 100%|██████████| 288/288 [00:03<00:00, 77.76it/s]\n"
     ]
    },
    {
     "name": "stdout",
     "output_type": "stream",
     "text": [
      "Loss1: 16.5366, Loss2: 6.8637, Loss3: 27.8388\n"
     ]
    },
    {
     "name": "stderr",
     "output_type": "stream",
     "text": [
      "Test_Loader: 100%|██████████| 288/288 [00:03<00:00, 74.17it/s]\n"
     ]
    },
    {
     "name": "stdout",
     "output_type": "stream",
     "text": [
      "Loss1: 17.2077, Loss2: 7.0385, Loss3: 32.2282\n"
     ]
    },
    {
     "name": "stderr",
     "output_type": "stream",
     "text": [
      "Test_Loader: 100%|██████████| 288/288 [00:03<00:00, 78.04it/s]\n"
     ]
    },
    {
     "name": "stdout",
     "output_type": "stream",
     "text": [
      "Loss1: 17.2621, Loss2: 6.9086, Loss3: 33.0497\n"
     ]
    },
    {
     "name": "stderr",
     "output_type": "stream",
     "text": [
      "Test_Loader: 100%|██████████| 288/288 [00:03<00:00, 73.64it/s]\n"
     ]
    },
    {
     "name": "stdout",
     "output_type": "stream",
     "text": [
      "Loss1: 17.4431, Loss2: 7.3317, Loss3: 30.9083\n"
     ]
    },
    {
     "name": "stderr",
     "output_type": "stream",
     "text": [
      "Test_Loader: 100%|██████████| 288/288 [00:03<00:00, 76.23it/s]\n"
     ]
    },
    {
     "name": "stdout",
     "output_type": "stream",
     "text": [
      "Loss1: 16.7184, Loss2: 7.1254, Loss3: 30.9403\n"
     ]
    },
    {
     "name": "stderr",
     "output_type": "stream",
     "text": [
      "Test_Loader: 100%|██████████| 288/288 [00:03<00:00, 74.34it/s]\n"
     ]
    },
    {
     "name": "stdout",
     "output_type": "stream",
     "text": [
      "Loss1: 16.3300, Loss2: 6.9249, Loss3: 29.3912\n"
     ]
    },
    {
     "name": "stderr",
     "output_type": "stream",
     "text": [
      "Test_Loader: 100%|██████████| 288/288 [00:03<00:00, 83.33it/s]\n"
     ]
    },
    {
     "name": "stdout",
     "output_type": "stream",
     "text": [
      "Loss1: 17.5554, Loss2: 6.6651, Loss3: 30.7685\n"
     ]
    },
    {
     "name": "stderr",
     "output_type": "stream",
     "text": [
      "Test_Loader: 100%|██████████| 288/288 [00:03<00:00, 87.01it/s]\n"
     ]
    },
    {
     "name": "stdout",
     "output_type": "stream",
     "text": [
      "Loss1: 17.9606, Loss2: 6.6477, Loss3: 30.6939\n"
     ]
    },
    {
     "name": "stderr",
     "output_type": "stream",
     "text": [
      "Test_Loader: 100%|██████████| 288/288 [00:03<00:00, 84.04it/s]\n"
     ]
    },
    {
     "name": "stdout",
     "output_type": "stream",
     "text": [
      "Loss1: 18.2196, Loss2: 7.5108, Loss3: 30.6863\n"
     ]
    },
    {
     "name": "stderr",
     "output_type": "stream",
     "text": [
      "Test_Loader: 100%|██████████| 288/288 [00:03<00:00, 84.43it/s]\n"
     ]
    },
    {
     "name": "stdout",
     "output_type": "stream",
     "text": [
      "Loss1: 17.7869, Loss2: 6.9211, Loss3: 29.2602\n"
     ]
    },
    {
     "name": "stderr",
     "output_type": "stream",
     "text": [
      "Test_Loader: 100%|██████████| 288/288 [00:03<00:00, 84.41it/s]\n"
     ]
    },
    {
     "name": "stdout",
     "output_type": "stream",
     "text": [
      "Loss1: 17.5241, Loss2: 7.2204, Loss3: 28.8680\n"
     ]
    },
    {
     "name": "stderr",
     "output_type": "stream",
     "text": [
      "Test_Loader: 100%|██████████| 288/288 [00:03<00:00, 82.83it/s]\n"
     ]
    },
    {
     "name": "stdout",
     "output_type": "stream",
     "text": [
      "Loss1: 17.0619, Loss2: 6.1502, Loss3: 28.0583\n"
     ]
    },
    {
     "name": "stderr",
     "output_type": "stream",
     "text": [
      "Test_Loader: 100%|██████████| 288/288 [00:03<00:00, 80.59it/s]\n"
     ]
    },
    {
     "name": "stdout",
     "output_type": "stream",
     "text": [
      "Loss1: 18.4263, Loss2: 7.2158, Loss3: 31.7619\n"
     ]
    },
    {
     "name": "stderr",
     "output_type": "stream",
     "text": [
      "Test_Loader: 100%|██████████| 288/288 [00:03<00:00, 81.60it/s]\n"
     ]
    },
    {
     "name": "stdout",
     "output_type": "stream",
     "text": [
      "Loss1: 16.6320, Loss2: 6.6054, Loss3: 27.4335\n"
     ]
    },
    {
     "name": "stderr",
     "output_type": "stream",
     "text": [
      "Test_Loader: 100%|██████████| 288/288 [00:03<00:00, 80.18it/s]\n"
     ]
    },
    {
     "name": "stdout",
     "output_type": "stream",
     "text": [
      "Loss1: 17.5960, Loss2: 6.5568, Loss3: 27.5220\n"
     ]
    },
    {
     "name": "stderr",
     "output_type": "stream",
     "text": [
      "Test_Loader: 100%|██████████| 288/288 [00:03<00:00, 80.69it/s]\n"
     ]
    },
    {
     "name": "stdout",
     "output_type": "stream",
     "text": [
      "Loss1: 16.9342, Loss2: 6.5519, Loss3: 26.9149\n"
     ]
    },
    {
     "name": "stderr",
     "output_type": "stream",
     "text": [
      "Test_Loader: 100%|██████████| 288/288 [00:03<00:00, 81.01it/s]\n"
     ]
    },
    {
     "name": "stdout",
     "output_type": "stream",
     "text": [
      "Loss1: 17.2877, Loss2: 6.9965, Loss3: 27.2897\n"
     ]
    },
    {
     "name": "stderr",
     "output_type": "stream",
     "text": [
      "Test_Loader: 100%|██████████| 288/288 [00:03<00:00, 81.04it/s]\n"
     ]
    },
    {
     "name": "stdout",
     "output_type": "stream",
     "text": [
      "Loss1: 18.6391, Loss2: 7.7782, Loss3: 30.9344\n"
     ]
    },
    {
     "name": "stderr",
     "output_type": "stream",
     "text": [
      "Test_Loader: 100%|██████████| 288/288 [00:03<00:00, 87.91it/s]\n"
     ]
    },
    {
     "name": "stdout",
     "output_type": "stream",
     "text": [
      "Loss1: 17.3094, Loss2: 6.9232, Loss3: 28.7262\n"
     ]
    },
    {
     "name": "stderr",
     "output_type": "stream",
     "text": [
      "Test_Loader: 100%|██████████| 288/288 [00:03<00:00, 86.75it/s]\n"
     ]
    },
    {
     "name": "stdout",
     "output_type": "stream",
     "text": [
      "Loss1: 17.6392, Loss2: 6.9317, Loss3: 30.1940\n"
     ]
    },
    {
     "name": "stderr",
     "output_type": "stream",
     "text": [
      "Test_Loader: 100%|██████████| 288/288 [00:03<00:00, 81.07it/s]\n"
     ]
    },
    {
     "name": "stdout",
     "output_type": "stream",
     "text": [
      "Loss1: 17.4465, Loss2: 7.2672, Loss3: 27.9489\n"
     ]
    },
    {
     "name": "stderr",
     "output_type": "stream",
     "text": [
      "Test_Loader: 100%|██████████| 288/288 [00:03<00:00, 73.41it/s]\n"
     ]
    },
    {
     "name": "stdout",
     "output_type": "stream",
     "text": [
      "Loss1: 16.7156, Loss2: 6.9978, Loss3: 26.8651\n"
     ]
    },
    {
     "name": "stderr",
     "output_type": "stream",
     "text": [
      "Test_Loader: 100%|██████████| 288/288 [00:04<00:00, 71.08it/s]\n"
     ]
    },
    {
     "name": "stdout",
     "output_type": "stream",
     "text": [
      "Loss1: 16.7849, Loss2: 6.2678, Loss3: 26.7304\n"
     ]
    },
    {
     "name": "stderr",
     "output_type": "stream",
     "text": [
      "Test_Loader: 100%|██████████| 288/288 [00:03<00:00, 74.53it/s]\n"
     ]
    },
    {
     "name": "stdout",
     "output_type": "stream",
     "text": [
      "Loss1: 16.5557, Loss2: 7.1107, Loss3: 26.4449\n"
     ]
    },
    {
     "name": "stderr",
     "output_type": "stream",
     "text": [
      "Test_Loader: 100%|██████████| 288/288 [00:03<00:00, 87.19it/s]\n"
     ]
    },
    {
     "name": "stdout",
     "output_type": "stream",
     "text": [
      "Loss1: 16.2898, Loss2: 6.5769, Loss3: 25.6490\n"
     ]
    },
    {
     "name": "stderr",
     "output_type": "stream",
     "text": [
      "Test_Loader: 100%|██████████| 288/288 [00:03<00:00, 86.67it/s]\n"
     ]
    },
    {
     "name": "stdout",
     "output_type": "stream",
     "text": [
      "Loss1: 16.4707, Loss2: 6.7474, Loss3: 24.9832\n"
     ]
    },
    {
     "name": "stderr",
     "output_type": "stream",
     "text": [
      "Test_Loader: 100%|██████████| 288/288 [00:03<00:00, 86.41it/s]\n"
     ]
    },
    {
     "name": "stdout",
     "output_type": "stream",
     "text": [
      "Loss1: 16.0844, Loss2: 7.0912, Loss3: 28.0724\n"
     ]
    },
    {
     "name": "stderr",
     "output_type": "stream",
     "text": [
      "Test_Loader: 100%|██████████| 288/288 [00:03<00:00, 81.83it/s]\n"
     ]
    },
    {
     "name": "stdout",
     "output_type": "stream",
     "text": [
      "Loss1: 16.1542, Loss2: 6.0617, Loss3: 27.3934\n"
     ]
    },
    {
     "name": "stderr",
     "output_type": "stream",
     "text": [
      "Test_Loader: 100%|██████████| 288/288 [00:03<00:00, 82.60it/s]\n"
     ]
    },
    {
     "name": "stdout",
     "output_type": "stream",
     "text": [
      "Loss1: 16.8957, Loss2: 7.1072, Loss3: 24.4880\n"
     ]
    },
    {
     "name": "stderr",
     "output_type": "stream",
     "text": [
      "Test_Loader: 100%|██████████| 288/288 [00:03<00:00, 80.29it/s]\n"
     ]
    },
    {
     "name": "stdout",
     "output_type": "stream",
     "text": [
      "Loss1: 16.2119, Loss2: 6.9148, Loss3: 25.4597\n"
     ]
    },
    {
     "name": "stderr",
     "output_type": "stream",
     "text": [
      "Test_Loader: 100%|██████████| 288/288 [00:03<00:00, 73.45it/s]\n"
     ]
    },
    {
     "name": "stdout",
     "output_type": "stream",
     "text": [
      "Loss1: 16.9561, Loss2: 6.5785, Loss3: 23.8924\n"
     ]
    },
    {
     "name": "stderr",
     "output_type": "stream",
     "text": [
      "Test_Loader: 100%|██████████| 288/288 [00:04<00:00, 70.09it/s]\n"
     ]
    },
    {
     "name": "stdout",
     "output_type": "stream",
     "text": [
      "Loss1: 16.8780, Loss2: 6.5588, Loss3: 24.9123\n"
     ]
    },
    {
     "name": "stderr",
     "output_type": "stream",
     "text": [
      "Test_Loader: 100%|██████████| 288/288 [00:03<00:00, 73.75it/s]\n"
     ]
    },
    {
     "name": "stdout",
     "output_type": "stream",
     "text": [
      "Loss1: 16.6644, Loss2: 6.8658, Loss3: 25.4636\n"
     ]
    },
    {
     "name": "stderr",
     "output_type": "stream",
     "text": [
      "Test_Loader: 100%|██████████| 288/288 [00:03<00:00, 81.75it/s]\n"
     ]
    },
    {
     "name": "stdout",
     "output_type": "stream",
     "text": [
      "Loss1: 17.0804, Loss2: 6.9003, Loss3: 25.0676\n"
     ]
    },
    {
     "name": "stderr",
     "output_type": "stream",
     "text": [
      "Test_Loader: 100%|██████████| 288/288 [00:03<00:00, 82.88it/s]\n"
     ]
    },
    {
     "name": "stdout",
     "output_type": "stream",
     "text": [
      "Loss1: 16.0680, Loss2: 7.3822, Loss3: 25.7033\n"
     ]
    },
    {
     "name": "stderr",
     "output_type": "stream",
     "text": [
      "Test_Loader: 100%|██████████| 288/288 [00:03<00:00, 77.99it/s]\n"
     ]
    },
    {
     "name": "stdout",
     "output_type": "stream",
     "text": [
      "Loss1: 16.3775, Loss2: 6.9050, Loss3: 25.9377\n"
     ]
    },
    {
     "name": "stderr",
     "output_type": "stream",
     "text": [
      "Test_Loader: 100%|██████████| 288/288 [00:03<00:00, 83.60it/s]\n"
     ]
    },
    {
     "name": "stdout",
     "output_type": "stream",
     "text": [
      "Loss1: 16.1557, Loss2: 7.0513, Loss3: 26.5444\n"
     ]
    },
    {
     "name": "stderr",
     "output_type": "stream",
     "text": [
      "Test_Loader: 100%|██████████| 288/288 [00:03<00:00, 86.61it/s]\n"
     ]
    },
    {
     "name": "stdout",
     "output_type": "stream",
     "text": [
      "Loss1: 17.0472, Loss2: 7.5256, Loss3: 28.0972\n"
     ]
    },
    {
     "name": "stderr",
     "output_type": "stream",
     "text": [
      "Test_Loader: 100%|██████████| 288/288 [00:03<00:00, 84.30it/s]\n"
     ]
    },
    {
     "name": "stdout",
     "output_type": "stream",
     "text": [
      "Loss1: 16.4938, Loss2: 7.1081, Loss3: 27.8301\n"
     ]
    },
    {
     "name": "stderr",
     "output_type": "stream",
     "text": [
      "Test_Loader: 100%|██████████| 288/288 [00:03<00:00, 79.90it/s]\n"
     ]
    },
    {
     "name": "stdout",
     "output_type": "stream",
     "text": [
      "Loss1: 16.2743, Loss2: 6.7216, Loss3: 25.9956\n"
     ]
    },
    {
     "name": "stderr",
     "output_type": "stream",
     "text": [
      "Test_Loader: 100%|██████████| 288/288 [00:03<00:00, 77.90it/s]\n"
     ]
    },
    {
     "name": "stdout",
     "output_type": "stream",
     "text": [
      "Loss1: 15.7771, Loss2: 6.6602, Loss3: 27.1483\n"
     ]
    },
    {
     "name": "stderr",
     "output_type": "stream",
     "text": [
      "Test_Loader: 100%|██████████| 288/288 [00:03<00:00, 77.13it/s]\n"
     ]
    },
    {
     "name": "stdout",
     "output_type": "stream",
     "text": [
      "Loss1: 16.0078, Loss2: 6.9273, Loss3: 27.2956\n"
     ]
    },
    {
     "name": "stderr",
     "output_type": "stream",
     "text": [
      "Test_Loader: 100%|██████████| 288/288 [00:03<00:00, 75.59it/s]\n"
     ]
    },
    {
     "name": "stdout",
     "output_type": "stream",
     "text": [
      "Loss1: 15.8138, Loss2: 6.7532, Loss3: 26.4819\n"
     ]
    },
    {
     "name": "stderr",
     "output_type": "stream",
     "text": [
      "Test_Loader: 100%|██████████| 288/288 [00:03<00:00, 73.77it/s]\n"
     ]
    },
    {
     "name": "stdout",
     "output_type": "stream",
     "text": [
      "Loss1: 16.3266, Loss2: 6.1876, Loss3: 27.2267\n"
     ]
    },
    {
     "name": "stderr",
     "output_type": "stream",
     "text": [
      "Test_Loader: 100%|██████████| 288/288 [00:03<00:00, 73.18it/s]\n"
     ]
    },
    {
     "name": "stdout",
     "output_type": "stream",
     "text": [
      "Loss1: 15.4875, Loss2: 6.5527, Loss3: 26.5329\n"
     ]
    },
    {
     "name": "stderr",
     "output_type": "stream",
     "text": [
      "Test_Loader: 100%|██████████| 288/288 [00:03<00:00, 79.81it/s]\n"
     ]
    },
    {
     "name": "stdout",
     "output_type": "stream",
     "text": [
      "Loss1: 15.4255, Loss2: 6.7065, Loss3: 25.9781\n"
     ]
    },
    {
     "name": "stderr",
     "output_type": "stream",
     "text": [
      "Test_Loader: 100%|██████████| 288/288 [00:03<00:00, 81.61it/s]\n"
     ]
    },
    {
     "name": "stdout",
     "output_type": "stream",
     "text": [
      "Loss1: 15.9612, Loss2: 6.9894, Loss3: 26.9184\n"
     ]
    },
    {
     "name": "stderr",
     "output_type": "stream",
     "text": [
      "Test_Loader: 100%|██████████| 288/288 [00:03<00:00, 84.28it/s]\n"
     ]
    },
    {
     "name": "stdout",
     "output_type": "stream",
     "text": [
      "Loss1: 15.9987, Loss2: 6.8361, Loss3: 26.7485\n"
     ]
    },
    {
     "name": "stderr",
     "output_type": "stream",
     "text": [
      "Test_Loader: 100%|██████████| 288/288 [00:03<00:00, 82.47it/s]\n"
     ]
    },
    {
     "name": "stdout",
     "output_type": "stream",
     "text": [
      "Loss1: 16.0428, Loss2: 7.1743, Loss3: 27.2312\n"
     ]
    },
    {
     "name": "stderr",
     "output_type": "stream",
     "text": [
      "Test_Loader: 100%|██████████| 288/288 [00:03<00:00, 79.91it/s]\n"
     ]
    },
    {
     "name": "stdout",
     "output_type": "stream",
     "text": [
      "Loss1: 16.2379, Loss2: 7.0846, Loss3: 26.4144\n"
     ]
    },
    {
     "name": "stderr",
     "output_type": "stream",
     "text": [
      "Test_Loader: 100%|██████████| 288/288 [00:03<00:00, 77.99it/s]\n"
     ]
    },
    {
     "name": "stdout",
     "output_type": "stream",
     "text": [
      "Loss1: 15.3367, Loss2: 7.2998, Loss3: 26.7189\n"
     ]
    },
    {
     "name": "stderr",
     "output_type": "stream",
     "text": [
      "Test_Loader: 100%|██████████| 288/288 [00:03<00:00, 75.59it/s]\n"
     ]
    },
    {
     "name": "stdout",
     "output_type": "stream",
     "text": [
      "Loss1: 15.8170, Loss2: 6.8709, Loss3: 25.4344\n"
     ]
    },
    {
     "name": "stderr",
     "output_type": "stream",
     "text": [
      "Test_Loader: 100%|██████████| 288/288 [00:03<00:00, 74.15it/s]\n"
     ]
    },
    {
     "name": "stdout",
     "output_type": "stream",
     "text": [
      "Loss1: 16.0391, Loss2: 7.6704, Loss3: 28.3239\n"
     ]
    },
    {
     "name": "stderr",
     "output_type": "stream",
     "text": [
      "Test_Loader: 100%|██████████| 288/288 [00:03<00:00, 75.31it/s]\n"
     ]
    },
    {
     "name": "stdout",
     "output_type": "stream",
     "text": [
      "Loss1: 16.9584, Loss2: 7.7814, Loss3: 28.6692\n"
     ]
    },
    {
     "name": "stderr",
     "output_type": "stream",
     "text": [
      "Test_Loader: 100%|██████████| 288/288 [00:03<00:00, 77.77it/s]\n"
     ]
    },
    {
     "name": "stdout",
     "output_type": "stream",
     "text": [
      "Loss1: 16.6680, Loss2: 7.1212, Loss3: 26.7334\n"
     ]
    },
    {
     "name": "stderr",
     "output_type": "stream",
     "text": [
      "Test_Loader: 100%|██████████| 288/288 [00:03<00:00, 78.50it/s]\n"
     ]
    },
    {
     "name": "stdout",
     "output_type": "stream",
     "text": [
      "Loss1: 16.7022, Loss2: 7.1098, Loss3: 28.6262\n"
     ]
    },
    {
     "name": "stderr",
     "output_type": "stream",
     "text": [
      "Test_Loader: 100%|██████████| 288/288 [00:03<00:00, 83.29it/s]\n"
     ]
    },
    {
     "name": "stdout",
     "output_type": "stream",
     "text": [
      "Loss1: 17.6163, Loss2: 8.0713, Loss3: 32.4273\n"
     ]
    },
    {
     "name": "stderr",
     "output_type": "stream",
     "text": [
      "Test_Loader: 100%|██████████| 288/288 [00:03<00:00, 81.86it/s]\n"
     ]
    },
    {
     "name": "stdout",
     "output_type": "stream",
     "text": [
      "Loss1: 16.2516, Loss2: 7.0699, Loss3: 28.3806\n"
     ]
    },
    {
     "name": "stderr",
     "output_type": "stream",
     "text": [
      "Test_Loader: 100%|██████████| 288/288 [00:03<00:00, 81.45it/s]\n"
     ]
    },
    {
     "name": "stdout",
     "output_type": "stream",
     "text": [
      "Loss1: 16.5306, Loss2: 6.8504, Loss3: 26.5262\n"
     ]
    },
    {
     "name": "stderr",
     "output_type": "stream",
     "text": [
      "Test_Loader: 100%|██████████| 288/288 [00:03<00:00, 76.39it/s]\n"
     ]
    },
    {
     "name": "stdout",
     "output_type": "stream",
     "text": [
      "Loss1: 15.6908, Loss2: 6.9681, Loss3: 25.7709\n"
     ]
    },
    {
     "name": "stderr",
     "output_type": "stream",
     "text": [
      "Test_Loader: 100%|██████████| 288/288 [00:03<00:00, 74.10it/s]\n"
     ]
    },
    {
     "name": "stdout",
     "output_type": "stream",
     "text": [
      "Loss1: 15.8543, Loss2: 6.6506, Loss3: 27.9621\n"
     ]
    },
    {
     "name": "stderr",
     "output_type": "stream",
     "text": [
      "Test_Loader: 100%|██████████| 288/288 [00:03<00:00, 74.07it/s]\n"
     ]
    },
    {
     "name": "stdout",
     "output_type": "stream",
     "text": [
      "Loss1: 16.0510, Loss2: 6.5653, Loss3: 25.5088\n"
     ]
    },
    {
     "name": "stderr",
     "output_type": "stream",
     "text": [
      "Test_Loader: 100%|██████████| 288/288 [00:03<00:00, 79.41it/s]\n"
     ]
    },
    {
     "name": "stdout",
     "output_type": "stream",
     "text": [
      "Loss1: 15.9454, Loss2: 6.7495, Loss3: 27.0900\n"
     ]
    },
    {
     "name": "stderr",
     "output_type": "stream",
     "text": [
      "Test_Loader: 100%|██████████| 288/288 [00:03<00:00, 81.89it/s]\n"
     ]
    },
    {
     "name": "stdout",
     "output_type": "stream",
     "text": [
      "Loss1: 16.2336, Loss2: 6.4824, Loss3: 25.6759\n"
     ]
    },
    {
     "name": "stderr",
     "output_type": "stream",
     "text": [
      "Test_Loader: 100%|██████████| 288/288 [00:03<00:00, 81.33it/s]\n"
     ]
    },
    {
     "name": "stdout",
     "output_type": "stream",
     "text": [
      "Loss1: 15.9047, Loss2: 6.7601, Loss3: 25.4180\n"
     ]
    },
    {
     "name": "stderr",
     "output_type": "stream",
     "text": [
      "Test_Loader: 100%|██████████| 288/288 [00:03<00:00, 79.42it/s]\n"
     ]
    },
    {
     "name": "stdout",
     "output_type": "stream",
     "text": [
      "Loss1: 16.0222, Loss2: 6.2489, Loss3: 26.7363\n"
     ]
    },
    {
     "name": "stderr",
     "output_type": "stream",
     "text": [
      "Test_Loader: 100%|██████████| 288/288 [00:03<00:00, 78.65it/s]\n"
     ]
    },
    {
     "name": "stdout",
     "output_type": "stream",
     "text": [
      "Loss1: 15.9403, Loss2: 6.6588, Loss3: 26.5745\n"
     ]
    },
    {
     "name": "stderr",
     "output_type": "stream",
     "text": [
      "Test_Loader: 100%|██████████| 288/288 [00:03<00:00, 77.52it/s]\n"
     ]
    },
    {
     "name": "stdout",
     "output_type": "stream",
     "text": [
      "Loss1: 16.5152, Loss2: 6.4793, Loss3: 25.2244\n"
     ]
    },
    {
     "name": "stderr",
     "output_type": "stream",
     "text": [
      "Test_Loader: 100%|██████████| 288/288 [00:03<00:00, 77.42it/s]\n"
     ]
    },
    {
     "name": "stdout",
     "output_type": "stream",
     "text": [
      "Loss1: 15.3804, Loss2: 6.7084, Loss3: 24.8205\n"
     ]
    },
    {
     "name": "stderr",
     "output_type": "stream",
     "text": [
      "Test_Loader: 100%|██████████| 288/288 [00:03<00:00, 77.53it/s]\n"
     ]
    },
    {
     "name": "stdout",
     "output_type": "stream",
     "text": [
      "Loss1: 16.3857, Loss2: 6.2455, Loss3: 24.4327\n"
     ]
    },
    {
     "name": "stderr",
     "output_type": "stream",
     "text": [
      "Test_Loader: 100%|██████████| 288/288 [00:03<00:00, 79.96it/s]\n"
     ]
    },
    {
     "name": "stdout",
     "output_type": "stream",
     "text": [
      "Loss1: 15.9954, Loss2: 6.3605, Loss3: 24.9628\n"
     ]
    },
    {
     "name": "stderr",
     "output_type": "stream",
     "text": [
      "Test_Loader: 100%|██████████| 288/288 [00:03<00:00, 82.55it/s]\n"
     ]
    },
    {
     "name": "stdout",
     "output_type": "stream",
     "text": [
      "Loss1: 16.5798, Loss2: 6.2113, Loss3: 25.6185\n"
     ]
    },
    {
     "name": "stderr",
     "output_type": "stream",
     "text": [
      "Test_Loader: 100%|██████████| 288/288 [00:03<00:00, 83.26it/s]\n"
     ]
    },
    {
     "name": "stdout",
     "output_type": "stream",
     "text": [
      "Loss1: 16.5627, Loss2: 6.2057, Loss3: 27.8520\n"
     ]
    },
    {
     "name": "stderr",
     "output_type": "stream",
     "text": [
      "Test_Loader: 100%|██████████| 288/288 [00:03<00:00, 82.66it/s]\n"
     ]
    },
    {
     "name": "stdout",
     "output_type": "stream",
     "text": [
      "Loss1: 16.5460, Loss2: 6.4711, Loss3: 26.5293\n"
     ]
    },
    {
     "name": "stderr",
     "output_type": "stream",
     "text": [
      "Test_Loader: 100%|██████████| 288/288 [00:03<00:00, 82.50it/s]\n"
     ]
    },
    {
     "name": "stdout",
     "output_type": "stream",
     "text": [
      "Loss1: 17.0331, Loss2: 6.5430, Loss3: 27.5048\n"
     ]
    },
    {
     "name": "stderr",
     "output_type": "stream",
     "text": [
      "Test_Loader: 100%|██████████| 288/288 [00:03<00:00, 84.30it/s]\n"
     ]
    },
    {
     "name": "stdout",
     "output_type": "stream",
     "text": [
      "Loss1: 16.5419, Loss2: 6.8497, Loss3: 25.4947\n"
     ]
    },
    {
     "name": "stderr",
     "output_type": "stream",
     "text": [
      "Test_Loader: 100%|██████████| 288/288 [00:03<00:00, 77.23it/s]\n"
     ]
    },
    {
     "name": "stdout",
     "output_type": "stream",
     "text": [
      "Loss1: 16.9447, Loss2: 6.5022, Loss3: 25.3859\n"
     ]
    },
    {
     "name": "stderr",
     "output_type": "stream",
     "text": [
      "Test_Loader: 100%|██████████| 288/288 [00:03<00:00, 84.69it/s]\n"
     ]
    },
    {
     "name": "stdout",
     "output_type": "stream",
     "text": [
      "Loss1: 16.7787, Loss2: 5.9826, Loss3: 25.0366\n"
     ]
    },
    {
     "name": "stderr",
     "output_type": "stream",
     "text": [
      "Test_Loader: 100%|██████████| 288/288 [00:03<00:00, 82.60it/s]\n"
     ]
    },
    {
     "name": "stdout",
     "output_type": "stream",
     "text": [
      "Loss1: 16.7301, Loss2: 6.2218, Loss3: 25.2727\n"
     ]
    },
    {
     "name": "stderr",
     "output_type": "stream",
     "text": [
      "Test_Loader: 100%|██████████| 288/288 [00:03<00:00, 84.82it/s]\n"
     ]
    },
    {
     "name": "stdout",
     "output_type": "stream",
     "text": [
      "Loss1: 16.4906, Loss2: 6.3934, Loss3: 25.1151\n"
     ]
    },
    {
     "name": "stderr",
     "output_type": "stream",
     "text": [
      "Test_Loader: 100%|██████████| 288/288 [00:03<00:00, 85.79it/s]\n"
     ]
    },
    {
     "name": "stdout",
     "output_type": "stream",
     "text": [
      "Loss1: 16.4374, Loss2: 6.5560, Loss3: 24.9357\n"
     ]
    },
    {
     "name": "stderr",
     "output_type": "stream",
     "text": [
      "Test_Loader: 100%|██████████| 288/288 [00:03<00:00, 85.05it/s]\n"
     ]
    },
    {
     "name": "stdout",
     "output_type": "stream",
     "text": [
      "Loss1: 15.5976, Loss2: 6.2110, Loss3: 24.5937\n"
     ]
    },
    {
     "name": "stderr",
     "output_type": "stream",
     "text": [
      "Test_Loader: 100%|██████████| 288/288 [00:03<00:00, 81.92it/s]\n"
     ]
    },
    {
     "name": "stdout",
     "output_type": "stream",
     "text": [
      "Loss1: 15.9954, Loss2: 6.1907, Loss3: 24.3984\n"
     ]
    },
    {
     "name": "stderr",
     "output_type": "stream",
     "text": [
      "Test_Loader: 100%|██████████| 288/288 [00:03<00:00, 79.53it/s]\n"
     ]
    },
    {
     "name": "stdout",
     "output_type": "stream",
     "text": [
      "Loss1: 16.9581, Loss2: 6.4182, Loss3: 24.0621\n"
     ]
    },
    {
     "name": "stderr",
     "output_type": "stream",
     "text": [
      "Test_Loader: 100%|██████████| 288/288 [00:03<00:00, 79.56it/s]\n"
     ]
    },
    {
     "name": "stdout",
     "output_type": "stream",
     "text": [
      "Loss1: 15.9420, Loss2: 6.3714, Loss3: 25.2507\n"
     ]
    },
    {
     "name": "stderr",
     "output_type": "stream",
     "text": [
      "Test_Loader: 100%|██████████| 288/288 [00:03<00:00, 81.59it/s]\n"
     ]
    },
    {
     "name": "stdout",
     "output_type": "stream",
     "text": [
      "Loss1: 16.5591, Loss2: 6.2632, Loss3: 24.2758\n"
     ]
    },
    {
     "name": "stderr",
     "output_type": "stream",
     "text": [
      "Test_Loader: 100%|██████████| 288/288 [00:03<00:00, 78.09it/s]\n"
     ]
    },
    {
     "name": "stdout",
     "output_type": "stream",
     "text": [
      "Loss1: 16.6452, Loss2: 6.3361, Loss3: 24.1326\n"
     ]
    },
    {
     "name": "stderr",
     "output_type": "stream",
     "text": [
      "Test_Loader: 100%|██████████| 288/288 [00:03<00:00, 77.77it/s]\n"
     ]
    },
    {
     "name": "stdout",
     "output_type": "stream",
     "text": [
      "Loss1: 15.9573, Loss2: 6.0669, Loss3: 24.3610\n"
     ]
    },
    {
     "name": "stderr",
     "output_type": "stream",
     "text": [
      "Test_Loader: 100%|██████████| 288/288 [00:03<00:00, 85.94it/s]\n"
     ]
    },
    {
     "name": "stdout",
     "output_type": "stream",
     "text": [
      "Loss1: 16.2507, Loss2: 5.6650, Loss3: 23.7968\n"
     ]
    },
    {
     "name": "stderr",
     "output_type": "stream",
     "text": [
      "Test_Loader: 100%|██████████| 288/288 [00:03<00:00, 85.36it/s]\n"
     ]
    },
    {
     "name": "stdout",
     "output_type": "stream",
     "text": [
      "Loss1: 14.8669, Loss2: 5.3450, Loss3: 23.4441\n"
     ]
    },
    {
     "name": "stderr",
     "output_type": "stream",
     "text": [
      "Test_Loader: 100%|██████████| 288/288 [00:03<00:00, 85.94it/s]\n"
     ]
    },
    {
     "name": "stdout",
     "output_type": "stream",
     "text": [
      "Loss1: 15.2036, Loss2: 5.2031, Loss3: 24.3577\n"
     ]
    },
    {
     "name": "stderr",
     "output_type": "stream",
     "text": [
      "Test_Loader: 100%|██████████| 288/288 [00:03<00:00, 80.25it/s]\n"
     ]
    },
    {
     "name": "stdout",
     "output_type": "stream",
     "text": [
      "Loss1: 15.6194, Loss2: 5.3292, Loss3: 25.4571\n"
     ]
    },
    {
     "name": "stderr",
     "output_type": "stream",
     "text": [
      "Test_Loader: 100%|██████████| 288/288 [00:03<00:00, 78.07it/s]\n"
     ]
    },
    {
     "name": "stdout",
     "output_type": "stream",
     "text": [
      "Loss1: 16.3108, Loss2: 6.1052, Loss3: 28.5059\n"
     ]
    },
    {
     "name": "stderr",
     "output_type": "stream",
     "text": [
      "Test_Loader: 100%|██████████| 288/288 [00:03<00:00, 80.58it/s]\n"
     ]
    },
    {
     "name": "stdout",
     "output_type": "stream",
     "text": [
      "Loss1: 16.1204, Loss2: 5.6398, Loss3: 28.1237\n"
     ]
    },
    {
     "name": "stderr",
     "output_type": "stream",
     "text": [
      "Test_Loader: 100%|██████████| 288/288 [00:03<00:00, 80.81it/s]\n"
     ]
    },
    {
     "name": "stdout",
     "output_type": "stream",
     "text": [
      "Loss1: 16.2574, Loss2: 5.5134, Loss3: 26.8561\n"
     ]
    },
    {
     "name": "stderr",
     "output_type": "stream",
     "text": [
      "Test_Loader: 100%|██████████| 288/288 [00:03<00:00, 76.16it/s]\n"
     ]
    },
    {
     "name": "stdout",
     "output_type": "stream",
     "text": [
      "Loss1: 16.0687, Loss2: 5.5844, Loss3: 27.5633\n"
     ]
    },
    {
     "name": "stderr",
     "output_type": "stream",
     "text": [
      "Test_Loader: 100%|██████████| 288/288 [00:03<00:00, 74.94it/s]\n"
     ]
    },
    {
     "name": "stdout",
     "output_type": "stream",
     "text": [
      "Loss1: 16.5397, Loss2: 5.7361, Loss3: 26.8897\n"
     ]
    },
    {
     "name": "stderr",
     "output_type": "stream",
     "text": [
      "Test_Loader: 100%|██████████| 288/288 [00:03<00:00, 78.38it/s]\n"
     ]
    },
    {
     "name": "stdout",
     "output_type": "stream",
     "text": [
      "Loss1: 16.3765, Loss2: 5.7625, Loss3: 26.7530\n"
     ]
    },
    {
     "name": "stderr",
     "output_type": "stream",
     "text": [
      "Test_Loader: 100%|██████████| 288/288 [00:03<00:00, 78.06it/s]\n"
     ]
    },
    {
     "name": "stdout",
     "output_type": "stream",
     "text": [
      "Loss1: 16.0517, Loss2: 5.2984, Loss3: 29.0896\n"
     ]
    },
    {
     "name": "stderr",
     "output_type": "stream",
     "text": [
      "Test_Loader: 100%|██████████| 288/288 [00:03<00:00, 75.39it/s]\n"
     ]
    },
    {
     "name": "stdout",
     "output_type": "stream",
     "text": [
      "Loss1: 16.6316, Loss2: 5.3763, Loss3: 27.4918\n"
     ]
    },
    {
     "name": "stderr",
     "output_type": "stream",
     "text": [
      "Test_Loader: 100%|██████████| 288/288 [00:03<00:00, 77.19it/s]\n"
     ]
    },
    {
     "name": "stdout",
     "output_type": "stream",
     "text": [
      "Loss1: 16.8675, Loss2: 6.0773, Loss3: 29.7282\n"
     ]
    },
    {
     "name": "stderr",
     "output_type": "stream",
     "text": [
      "Test_Loader: 100%|██████████| 288/288 [00:03<00:00, 77.72it/s]\n"
     ]
    },
    {
     "name": "stdout",
     "output_type": "stream",
     "text": [
      "Loss1: 17.1424, Loss2: 6.4933, Loss3: 31.2008\n"
     ]
    },
    {
     "name": "stderr",
     "output_type": "stream",
     "text": [
      "Test_Loader: 100%|██████████| 288/288 [00:03<00:00, 76.68it/s]\n"
     ]
    },
    {
     "name": "stdout",
     "output_type": "stream",
     "text": [
      "Loss1: 17.6302, Loss2: 6.5890, Loss3: 31.9723\n"
     ]
    },
    {
     "name": "stderr",
     "output_type": "stream",
     "text": [
      "Test_Loader: 100%|██████████| 288/288 [00:03<00:00, 72.79it/s]\n"
     ]
    },
    {
     "name": "stdout",
     "output_type": "stream",
     "text": [
      "Loss1: 16.7511, Loss2: 5.8007, Loss3: 31.3586\n"
     ]
    },
    {
     "name": "stderr",
     "output_type": "stream",
     "text": [
      "Test_Loader: 100%|██████████| 288/288 [00:03<00:00, 82.76it/s]\n"
     ]
    },
    {
     "name": "stdout",
     "output_type": "stream",
     "text": [
      "Loss1: 17.2773, Loss2: 6.1251, Loss3: 30.1522\n"
     ]
    },
    {
     "name": "stderr",
     "output_type": "stream",
     "text": [
      "Test_Loader: 100%|██████████| 288/288 [00:03<00:00, 74.79it/s]\n"
     ]
    },
    {
     "name": "stdout",
     "output_type": "stream",
     "text": [
      "Loss1: 17.1511, Loss2: 6.3130, Loss3: 31.3567\n"
     ]
    },
    {
     "name": "stderr",
     "output_type": "stream",
     "text": [
      "Test_Loader: 100%|██████████| 288/288 [00:03<00:00, 77.38it/s]\n"
     ]
    },
    {
     "name": "stdout",
     "output_type": "stream",
     "text": [
      "Loss1: 17.6111, Loss2: 6.4399, Loss3: 31.5440\n"
     ]
    },
    {
     "name": "stderr",
     "output_type": "stream",
     "text": [
      "Test_Loader: 100%|██████████| 288/288 [00:03<00:00, 82.76it/s]\n"
     ]
    },
    {
     "name": "stdout",
     "output_type": "stream",
     "text": [
      "Loss1: 17.7488, Loss2: 6.2205, Loss3: 38.0645\n"
     ]
    },
    {
     "name": "stderr",
     "output_type": "stream",
     "text": [
      "Test_Loader: 100%|██████████| 288/288 [00:03<00:00, 84.11it/s]\n"
     ]
    },
    {
     "name": "stdout",
     "output_type": "stream",
     "text": [
      "Loss1: 16.8371, Loss2: 6.3176, Loss3: 29.6986\n"
     ]
    },
    {
     "name": "stderr",
     "output_type": "stream",
     "text": [
      "Test_Loader: 100%|██████████| 288/288 [00:03<00:00, 76.72it/s]\n"
     ]
    },
    {
     "name": "stdout",
     "output_type": "stream",
     "text": [
      "Loss1: 16.5639, Loss2: 6.3692, Loss3: 36.8909\n"
     ]
    },
    {
     "name": "stderr",
     "output_type": "stream",
     "text": [
      "Test_Loader: 100%|██████████| 288/288 [00:03<00:00, 75.90it/s]\n"
     ]
    },
    {
     "name": "stdout",
     "output_type": "stream",
     "text": [
      "Loss1: 16.8329, Loss2: 6.3908, Loss3: 33.3825\n"
     ]
    },
    {
     "name": "stderr",
     "output_type": "stream",
     "text": [
      "Test_Loader: 100%|██████████| 288/288 [00:03<00:00, 80.88it/s]\n"
     ]
    },
    {
     "name": "stdout",
     "output_type": "stream",
     "text": [
      "Loss1: 17.2753, Loss2: 6.8726, Loss3: 35.3051\n"
     ]
    },
    {
     "name": "stderr",
     "output_type": "stream",
     "text": [
      "Test_Loader: 100%|██████████| 288/288 [00:03<00:00, 87.38it/s]\n"
     ]
    },
    {
     "name": "stdout",
     "output_type": "stream",
     "text": [
      "Loss1: 16.8379, Loss2: 7.0059, Loss3: 32.0574\n"
     ]
    },
    {
     "name": "stderr",
     "output_type": "stream",
     "text": [
      "Test_Loader: 100%|██████████| 288/288 [00:03<00:00, 80.99it/s]\n"
     ]
    },
    {
     "name": "stdout",
     "output_type": "stream",
     "text": [
      "Loss1: 16.3755, Loss2: 6.8000, Loss3: 32.2171\n"
     ]
    },
    {
     "name": "stderr",
     "output_type": "stream",
     "text": [
      "Test_Loader: 100%|██████████| 288/288 [00:03<00:00, 83.43it/s]\n"
     ]
    },
    {
     "name": "stdout",
     "output_type": "stream",
     "text": [
      "Loss1: 16.2169, Loss2: 6.7663, Loss3: 32.0374\n"
     ]
    },
    {
     "name": "stderr",
     "output_type": "stream",
     "text": [
      "Test_Loader: 100%|██████████| 288/288 [00:03<00:00, 83.65it/s]\n"
     ]
    },
    {
     "name": "stdout",
     "output_type": "stream",
     "text": [
      "Loss1: 16.1044, Loss2: 6.8570, Loss3: 32.4727\n"
     ]
    },
    {
     "name": "stderr",
     "output_type": "stream",
     "text": [
      "Test_Loader: 100%|██████████| 288/288 [00:03<00:00, 85.61it/s]\n"
     ]
    },
    {
     "name": "stdout",
     "output_type": "stream",
     "text": [
      "Loss1: 15.8806, Loss2: 6.9770, Loss3: 31.8049\n"
     ]
    },
    {
     "name": "stderr",
     "output_type": "stream",
     "text": [
      "Test_Loader: 100%|██████████| 288/288 [00:03<00:00, 82.99it/s]\n"
     ]
    },
    {
     "name": "stdout",
     "output_type": "stream",
     "text": [
      "Loss1: 16.3823, Loss2: 6.8052, Loss3: 33.7328\n"
     ]
    },
    {
     "name": "stderr",
     "output_type": "stream",
     "text": [
      "Test_Loader: 100%|██████████| 288/288 [00:03<00:00, 78.80it/s]\n"
     ]
    },
    {
     "name": "stdout",
     "output_type": "stream",
     "text": [
      "Loss1: 16.6757, Loss2: 6.7695, Loss3: 33.5736\n"
     ]
    },
    {
     "name": "stderr",
     "output_type": "stream",
     "text": [
      "Test_Loader: 100%|██████████| 288/288 [00:03<00:00, 80.06it/s]\n"
     ]
    },
    {
     "name": "stdout",
     "output_type": "stream",
     "text": [
      "Loss1: 17.4422, Loss2: 6.6923, Loss3: 39.9913\n"
     ]
    },
    {
     "name": "stderr",
     "output_type": "stream",
     "text": [
      "Test_Loader: 100%|██████████| 288/288 [00:03<00:00, 81.29it/s]\n"
     ]
    },
    {
     "name": "stdout",
     "output_type": "stream",
     "text": [
      "Loss1: 17.1155, Loss2: 6.9665, Loss3: 34.0873\n"
     ]
    },
    {
     "name": "stderr",
     "output_type": "stream",
     "text": [
      "Test_Loader: 100%|██████████| 288/288 [00:03<00:00, 80.56it/s]\n"
     ]
    },
    {
     "name": "stdout",
     "output_type": "stream",
     "text": [
      "Loss1: 17.6789, Loss2: 7.4199, Loss3: 38.4719\n"
     ]
    },
    {
     "name": "stderr",
     "output_type": "stream",
     "text": [
      "Test_Loader: 100%|██████████| 288/288 [00:03<00:00, 78.93it/s]\n"
     ]
    },
    {
     "name": "stdout",
     "output_type": "stream",
     "text": [
      "Loss1: 16.9629, Loss2: 7.2562, Loss3: 35.3843\n"
     ]
    },
    {
     "name": "stderr",
     "output_type": "stream",
     "text": [
      "Test_Loader: 100%|██████████| 288/288 [00:03<00:00, 78.27it/s]\n"
     ]
    },
    {
     "name": "stdout",
     "output_type": "stream",
     "text": [
      "Loss1: 17.3586, Loss2: 7.0096, Loss3: 33.5582\n"
     ]
    },
    {
     "name": "stderr",
     "output_type": "stream",
     "text": [
      "Test_Loader: 100%|██████████| 288/288 [00:03<00:00, 78.18it/s]\n"
     ]
    },
    {
     "name": "stdout",
     "output_type": "stream",
     "text": [
      "Loss1: 17.1400, Loss2: 7.1831, Loss3: 34.2137\n"
     ]
    },
    {
     "name": "stderr",
     "output_type": "stream",
     "text": [
      "Test_Loader: 100%|██████████| 288/288 [00:03<00:00, 82.51it/s]\n"
     ]
    },
    {
     "name": "stdout",
     "output_type": "stream",
     "text": [
      "Loss1: 17.5682, Loss2: 7.1506, Loss3: 36.4445\n"
     ]
    },
    {
     "name": "stderr",
     "output_type": "stream",
     "text": [
      "Test_Loader: 100%|██████████| 288/288 [00:03<00:00, 80.51it/s]\n"
     ]
    },
    {
     "name": "stdout",
     "output_type": "stream",
     "text": [
      "Loss1: 17.0752, Loss2: 7.4203, Loss3: 34.3036\n"
     ]
    },
    {
     "name": "stderr",
     "output_type": "stream",
     "text": [
      "Test_Loader: 100%|██████████| 288/288 [00:03<00:00, 76.62it/s]\n"
     ]
    },
    {
     "name": "stdout",
     "output_type": "stream",
     "text": [
      "Loss1: 17.1590, Loss2: 7.3370, Loss3: 34.0680\n"
     ]
    },
    {
     "name": "stderr",
     "output_type": "stream",
     "text": [
      "Test_Loader: 100%|██████████| 288/288 [00:03<00:00, 76.28it/s]\n"
     ]
    },
    {
     "name": "stdout",
     "output_type": "stream",
     "text": [
      "Loss1: 17.0877, Loss2: 7.8478, Loss3: 35.2188\n"
     ]
    },
    {
     "name": "stderr",
     "output_type": "stream",
     "text": [
      "Test_Loader: 100%|██████████| 288/288 [00:04<00:00, 66.84it/s]\n"
     ]
    },
    {
     "name": "stdout",
     "output_type": "stream",
     "text": [
      "Loss1: 16.6857, Loss2: 7.1262, Loss3: 33.2075\n"
     ]
    },
    {
     "name": "stderr",
     "output_type": "stream",
     "text": [
      "Test_Loader: 100%|██████████| 288/288 [00:04<00:00, 65.87it/s]\n"
     ]
    },
    {
     "name": "stdout",
     "output_type": "stream",
     "text": [
      "Loss1: 16.7857, Loss2: 7.0594, Loss3: 34.1874\n"
     ]
    },
    {
     "name": "stderr",
     "output_type": "stream",
     "text": [
      "Test_Loader: 100%|██████████| 288/288 [00:03<00:00, 76.88it/s]\n"
     ]
    },
    {
     "name": "stdout",
     "output_type": "stream",
     "text": [
      "Loss1: 16.4791, Loss2: 7.0743, Loss3: 32.5584\n"
     ]
    },
    {
     "name": "stderr",
     "output_type": "stream",
     "text": [
      "Test_Loader: 100%|██████████| 288/288 [00:03<00:00, 74.11it/s]\n"
     ]
    },
    {
     "name": "stdout",
     "output_type": "stream",
     "text": [
      "Loss1: 16.8695, Loss2: 7.2798, Loss3: 31.3307\n"
     ]
    },
    {
     "name": "stderr",
     "output_type": "stream",
     "text": [
      "Test_Loader: 100%|██████████| 288/288 [00:03<00:00, 73.80it/s]\n"
     ]
    },
    {
     "name": "stdout",
     "output_type": "stream",
     "text": [
      "Loss1: 16.2717, Loss2: 6.5052, Loss3: 29.3269\n"
     ]
    },
    {
     "name": "stderr",
     "output_type": "stream",
     "text": [
      "Test_Loader: 100%|██████████| 288/288 [00:03<00:00, 81.02it/s]\n"
     ]
    },
    {
     "name": "stdout",
     "output_type": "stream",
     "text": [
      "Loss1: 16.1780, Loss2: 6.4248, Loss3: 30.9405\n"
     ]
    },
    {
     "name": "stderr",
     "output_type": "stream",
     "text": [
      "Test_Loader: 100%|██████████| 288/288 [00:03<00:00, 76.65it/s]\n"
     ]
    },
    {
     "name": "stdout",
     "output_type": "stream",
     "text": [
      "Loss1: 16.1787, Loss2: 6.2268, Loss3: 31.9230\n"
     ]
    },
    {
     "name": "stderr",
     "output_type": "stream",
     "text": [
      "Test_Loader: 100%|██████████| 288/288 [00:03<00:00, 75.38it/s]\n"
     ]
    },
    {
     "name": "stdout",
     "output_type": "stream",
     "text": [
      "Loss1: 16.1855, Loss2: 7.0834, Loss3: 29.3718\n"
     ]
    },
    {
     "name": "stderr",
     "output_type": "stream",
     "text": [
      "Test_Loader: 100%|██████████| 288/288 [00:03<00:00, 79.48it/s]\n"
     ]
    },
    {
     "name": "stdout",
     "output_type": "stream",
     "text": [
      "Loss1: 16.8347, Loss2: 6.9169, Loss3: 29.6063\n"
     ]
    },
    {
     "name": "stderr",
     "output_type": "stream",
     "text": [
      "Test_Loader: 100%|██████████| 288/288 [00:03<00:00, 79.33it/s]\n"
     ]
    },
    {
     "name": "stdout",
     "output_type": "stream",
     "text": [
      "Loss1: 16.7807, Loss2: 7.1807, Loss3: 34.2759\n"
     ]
    },
    {
     "name": "stderr",
     "output_type": "stream",
     "text": [
      "Test_Loader: 100%|██████████| 288/288 [00:03<00:00, 80.03it/s]\n"
     ]
    },
    {
     "name": "stdout",
     "output_type": "stream",
     "text": [
      "Loss1: 16.4706, Loss2: 6.6765, Loss3: 31.6803\n"
     ]
    },
    {
     "name": "stderr",
     "output_type": "stream",
     "text": [
      "Test_Loader: 100%|██████████| 288/288 [00:03<00:00, 76.48it/s]\n"
     ]
    },
    {
     "name": "stdout",
     "output_type": "stream",
     "text": [
      "Loss1: 16.6390, Loss2: 6.9844, Loss3: 30.4198\n"
     ]
    },
    {
     "name": "stderr",
     "output_type": "stream",
     "text": [
      "Test_Loader: 100%|██████████| 288/288 [00:03<00:00, 84.51it/s]\n"
     ]
    },
    {
     "name": "stdout",
     "output_type": "stream",
     "text": [
      "Loss1: 16.2754, Loss2: 6.9528, Loss3: 31.0351\n"
     ]
    },
    {
     "name": "stderr",
     "output_type": "stream",
     "text": [
      "Test_Loader: 100%|██████████| 288/288 [00:03<00:00, 83.55it/s]\n"
     ]
    },
    {
     "name": "stdout",
     "output_type": "stream",
     "text": [
      "Loss1: 16.4548, Loss2: 6.9006, Loss3: 31.0855\n"
     ]
    },
    {
     "name": "stderr",
     "output_type": "stream",
     "text": [
      "Test_Loader: 100%|██████████| 288/288 [00:03<00:00, 79.46it/s]\n"
     ]
    },
    {
     "name": "stdout",
     "output_type": "stream",
     "text": [
      "Loss1: 16.9662, Loss2: 6.7537, Loss3: 32.3034\n"
     ]
    },
    {
     "name": "stderr",
     "output_type": "stream",
     "text": [
      "Test_Loader: 100%|██████████| 288/288 [00:03<00:00, 78.00it/s]\n"
     ]
    },
    {
     "name": "stdout",
     "output_type": "stream",
     "text": [
      "Loss1: 16.7713, Loss2: 7.1300, Loss3: 33.9481\n"
     ]
    },
    {
     "name": "stderr",
     "output_type": "stream",
     "text": [
      "Test_Loader: 100%|██████████| 288/288 [00:03<00:00, 75.49it/s]\n"
     ]
    },
    {
     "name": "stdout",
     "output_type": "stream",
     "text": [
      "Loss1: 16.4001, Loss2: 6.9871, Loss3: 31.1276\n"
     ]
    },
    {
     "name": "stderr",
     "output_type": "stream",
     "text": [
      "Test_Loader: 100%|██████████| 288/288 [00:03<00:00, 81.09it/s]\n"
     ]
    },
    {
     "name": "stdout",
     "output_type": "stream",
     "text": [
      "Loss1: 16.6935, Loss2: 7.0870, Loss3: 31.7294\n"
     ]
    },
    {
     "name": "stderr",
     "output_type": "stream",
     "text": [
      "Test_Loader: 100%|██████████| 288/288 [00:03<00:00, 76.24it/s]\n"
     ]
    },
    {
     "name": "stdout",
     "output_type": "stream",
     "text": [
      "Loss1: 16.7424, Loss2: 6.7666, Loss3: 32.1183\n"
     ]
    },
    {
     "name": "stderr",
     "output_type": "stream",
     "text": [
      "Test_Loader: 100%|██████████| 288/288 [00:03<00:00, 77.28it/s]\n"
     ]
    },
    {
     "name": "stdout",
     "output_type": "stream",
     "text": [
      "Loss1: 17.0029, Loss2: 7.2227, Loss3: 32.1427\n"
     ]
    },
    {
     "name": "stderr",
     "output_type": "stream",
     "text": [
      "Test_Loader: 100%|██████████| 288/288 [00:03<00:00, 75.49it/s]\n"
     ]
    },
    {
     "name": "stdout",
     "output_type": "stream",
     "text": [
      "Loss1: 16.5641, Loss2: 6.9812, Loss3: 31.2409\n"
     ]
    },
    {
     "name": "stderr",
     "output_type": "stream",
     "text": [
      "Test_Loader: 100%|██████████| 288/288 [00:03<00:00, 79.36it/s]\n"
     ]
    },
    {
     "name": "stdout",
     "output_type": "stream",
     "text": [
      "Loss1: 16.2065, Loss2: 7.0617, Loss3: 30.7006\n"
     ]
    },
    {
     "name": "stderr",
     "output_type": "stream",
     "text": [
      "Test_Loader: 100%|██████████| 288/288 [00:03<00:00, 84.11it/s]\n"
     ]
    },
    {
     "name": "stdout",
     "output_type": "stream",
     "text": [
      "Loss1: 16.0048, Loss2: 6.4506, Loss3: 30.9774\n"
     ]
    },
    {
     "name": "stderr",
     "output_type": "stream",
     "text": [
      "Test_Loader: 100%|██████████| 288/288 [00:03<00:00, 79.50it/s]\n"
     ]
    },
    {
     "name": "stdout",
     "output_type": "stream",
     "text": [
      "Loss1: 15.8143, Loss2: 6.9834, Loss3: 30.3255\n"
     ]
    },
    {
     "name": "stderr",
     "output_type": "stream",
     "text": [
      "Test_Loader: 100%|██████████| 288/288 [00:03<00:00, 80.29it/s]\n"
     ]
    },
    {
     "name": "stdout",
     "output_type": "stream",
     "text": [
      "Loss1: 16.1136, Loss2: 7.0522, Loss3: 31.1806\n"
     ]
    },
    {
     "name": "stderr",
     "output_type": "stream",
     "text": [
      "Test_Loader: 100%|██████████| 288/288 [00:03<00:00, 80.07it/s]\n"
     ]
    },
    {
     "name": "stdout",
     "output_type": "stream",
     "text": [
      "Loss1: 15.8669, Loss2: 6.7481, Loss3: 30.3643\n"
     ]
    },
    {
     "name": "stderr",
     "output_type": "stream",
     "text": [
      "Test_Loader: 100%|██████████| 288/288 [00:03<00:00, 81.13it/s]\n"
     ]
    },
    {
     "name": "stdout",
     "output_type": "stream",
     "text": [
      "Loss1: 16.8452, Loss2: 7.0025, Loss3: 32.2303\n"
     ]
    },
    {
     "name": "stderr",
     "output_type": "stream",
     "text": [
      "Test_Loader: 100%|██████████| 288/288 [00:03<00:00, 77.44it/s]\n"
     ]
    },
    {
     "name": "stdout",
     "output_type": "stream",
     "text": [
      "Loss1: 17.8976, Loss2: 6.8246, Loss3: 32.3687\n"
     ]
    },
    {
     "name": "stderr",
     "output_type": "stream",
     "text": [
      "Test_Loader: 100%|██████████| 288/288 [00:03<00:00, 77.41it/s]\n"
     ]
    },
    {
     "name": "stdout",
     "output_type": "stream",
     "text": [
      "Loss1: 16.9921, Loss2: 7.0996, Loss3: 32.2202\n"
     ]
    },
    {
     "name": "stderr",
     "output_type": "stream",
     "text": [
      "Test_Loader: 100%|██████████| 288/288 [00:03<00:00, 78.33it/s]\n"
     ]
    },
    {
     "name": "stdout",
     "output_type": "stream",
     "text": [
      "Loss1: 16.6177, Loss2: 6.9760, Loss3: 31.7454\n"
     ]
    },
    {
     "name": "stderr",
     "output_type": "stream",
     "text": [
      "Test_Loader: 100%|██████████| 288/288 [00:03<00:00, 81.27it/s]\n"
     ]
    },
    {
     "name": "stdout",
     "output_type": "stream",
     "text": [
      "Loss1: 17.1807, Loss2: 6.6521, Loss3: 36.4902\n"
     ]
    },
    {
     "name": "stderr",
     "output_type": "stream",
     "text": [
      "Test_Loader: 100%|██████████| 288/288 [00:03<00:00, 78.93it/s]\n"
     ]
    },
    {
     "name": "stdout",
     "output_type": "stream",
     "text": [
      "Loss1: 17.0809, Loss2: 6.8677, Loss3: 31.1390\n"
     ]
    },
    {
     "name": "stderr",
     "output_type": "stream",
     "text": [
      "Test_Loader: 100%|██████████| 288/288 [00:03<00:00, 78.68it/s]\n"
     ]
    },
    {
     "name": "stdout",
     "output_type": "stream",
     "text": [
      "Loss1: 17.2840, Loss2: 6.6745, Loss3: 31.9803\n"
     ]
    },
    {
     "name": "stderr",
     "output_type": "stream",
     "text": [
      "Test_Loader: 100%|██████████| 288/288 [00:03<00:00, 79.05it/s]\n"
     ]
    },
    {
     "name": "stdout",
     "output_type": "stream",
     "text": [
      "Loss1: 17.3416, Loss2: 7.1568, Loss3: 32.9234\n"
     ]
    },
    {
     "name": "stderr",
     "output_type": "stream",
     "text": [
      "Test_Loader: 100%|██████████| 288/288 [00:03<00:00, 78.52it/s]\n"
     ]
    },
    {
     "name": "stdout",
     "output_type": "stream",
     "text": [
      "Loss1: 16.6958, Loss2: 6.7130, Loss3: 32.5718\n"
     ]
    },
    {
     "name": "stderr",
     "output_type": "stream",
     "text": [
      "Test_Loader: 100%|██████████| 288/288 [00:03<00:00, 78.13it/s]\n"
     ]
    },
    {
     "name": "stdout",
     "output_type": "stream",
     "text": [
      "Loss1: 16.8626, Loss2: 7.1218, Loss3: 31.5101\n"
     ]
    },
    {
     "name": "stderr",
     "output_type": "stream",
     "text": [
      "Test_Loader: 100%|██████████| 288/288 [00:03<00:00, 76.00it/s]\n"
     ]
    },
    {
     "name": "stdout",
     "output_type": "stream",
     "text": [
      "Loss1: 16.5209, Loss2: 6.6913, Loss3: 32.4750\n"
     ]
    },
    {
     "name": "stderr",
     "output_type": "stream",
     "text": [
      "Test_Loader: 100%|██████████| 288/288 [00:03<00:00, 75.92it/s]\n"
     ]
    },
    {
     "name": "stdout",
     "output_type": "stream",
     "text": [
      "Loss1: 17.6679, Loss2: 7.2889, Loss3: 31.9578\n"
     ]
    },
    {
     "name": "stderr",
     "output_type": "stream",
     "text": [
      "Test_Loader: 100%|██████████| 288/288 [00:03<00:00, 80.74it/s]\n"
     ]
    },
    {
     "name": "stdout",
     "output_type": "stream",
     "text": [
      "Loss1: 16.8545, Loss2: 6.8844, Loss3: 32.2851\n"
     ]
    },
    {
     "name": "stderr",
     "output_type": "stream",
     "text": [
      "Test_Loader: 100%|██████████| 288/288 [00:03<00:00, 82.00it/s]\n"
     ]
    },
    {
     "name": "stdout",
     "output_type": "stream",
     "text": [
      "Loss1: 17.0557, Loss2: 7.1084, Loss3: 32.0133\n"
     ]
    },
    {
     "name": "stderr",
     "output_type": "stream",
     "text": [
      "Test_Loader: 100%|██████████| 288/288 [00:03<00:00, 83.95it/s]\n"
     ]
    },
    {
     "name": "stdout",
     "output_type": "stream",
     "text": [
      "Loss1: 17.3075, Loss2: 7.0441, Loss3: 33.0583\n"
     ]
    },
    {
     "name": "stderr",
     "output_type": "stream",
     "text": [
      "Test_Loader: 100%|██████████| 288/288 [00:03<00:00, 78.93it/s]\n"
     ]
    },
    {
     "name": "stdout",
     "output_type": "stream",
     "text": [
      "Loss1: 17.4357, Loss2: 6.9531, Loss3: 32.1659\n"
     ]
    },
    {
     "name": "stderr",
     "output_type": "stream",
     "text": [
      "Test_Loader: 100%|██████████| 288/288 [00:03<00:00, 78.50it/s]\n"
     ]
    },
    {
     "name": "stdout",
     "output_type": "stream",
     "text": [
      "Loss1: 18.0197, Loss2: 7.0700, Loss3: 32.8895\n"
     ]
    },
    {
     "name": "stderr",
     "output_type": "stream",
     "text": [
      "Test_Loader: 100%|██████████| 288/288 [00:03<00:00, 77.57it/s]\n"
     ]
    },
    {
     "name": "stdout",
     "output_type": "stream",
     "text": [
      "Loss1: 17.3732, Loss2: 6.9502, Loss3: 32.3555\n"
     ]
    },
    {
     "name": "stderr",
     "output_type": "stream",
     "text": [
      "Test_Loader: 100%|██████████| 288/288 [00:03<00:00, 77.88it/s]\n"
     ]
    },
    {
     "name": "stdout",
     "output_type": "stream",
     "text": [
      "Loss1: 17.4013, Loss2: 6.6808, Loss3: 33.5080\n"
     ]
    },
    {
     "name": "stderr",
     "output_type": "stream",
     "text": [
      "Test_Loader: 100%|██████████| 288/288 [00:03<00:00, 77.19it/s]\n"
     ]
    },
    {
     "name": "stdout",
     "output_type": "stream",
     "text": [
      "Loss1: 17.7932, Loss2: 6.7799, Loss3: 33.0768\n"
     ]
    },
    {
     "name": "stderr",
     "output_type": "stream",
     "text": [
      "Test_Loader: 100%|██████████| 288/288 [00:03<00:00, 79.34it/s]\n"
     ]
    },
    {
     "name": "stdout",
     "output_type": "stream",
     "text": [
      "Loss1: 17.5723, Loss2: 6.5350, Loss3: 32.3390\n"
     ]
    },
    {
     "name": "stderr",
     "output_type": "stream",
     "text": [
      "Test_Loader: 100%|██████████| 288/288 [00:03<00:00, 85.48it/s]\n"
     ]
    },
    {
     "name": "stdout",
     "output_type": "stream",
     "text": [
      "Loss1: 17.7522, Loss2: 6.8453, Loss3: 32.4672\n"
     ]
    },
    {
     "name": "stderr",
     "output_type": "stream",
     "text": [
      "Test_Loader: 100%|██████████| 288/288 [00:03<00:00, 86.73it/s]\n"
     ]
    },
    {
     "name": "stdout",
     "output_type": "stream",
     "text": [
      "Loss1: 17.6828, Loss2: 6.7375, Loss3: 33.0439\n"
     ]
    },
    {
     "name": "stderr",
     "output_type": "stream",
     "text": [
      "Test_Loader: 100%|██████████| 288/288 [00:03<00:00, 84.97it/s]\n"
     ]
    },
    {
     "name": "stdout",
     "output_type": "stream",
     "text": [
      "Loss1: 16.9977, Loss2: 6.4831, Loss3: 33.3535\n"
     ]
    },
    {
     "name": "stderr",
     "output_type": "stream",
     "text": [
      "Test_Loader: 100%|██████████| 288/288 [00:03<00:00, 75.51it/s]\n"
     ]
    },
    {
     "name": "stdout",
     "output_type": "stream",
     "text": [
      "Loss1: 17.2180, Loss2: 6.4035, Loss3: 32.3744\n"
     ]
    },
    {
     "name": "stderr",
     "output_type": "stream",
     "text": [
      "Test_Loader: 100%|██████████| 288/288 [00:03<00:00, 73.37it/s]\n"
     ]
    },
    {
     "name": "stdout",
     "output_type": "stream",
     "text": [
      "Loss1: 17.0533, Loss2: 6.7178, Loss3: 31.4330\n"
     ]
    },
    {
     "name": "stderr",
     "output_type": "stream",
     "text": [
      "Test_Loader: 100%|██████████| 288/288 [00:03<00:00, 76.25it/s]\n"
     ]
    },
    {
     "name": "stdout",
     "output_type": "stream",
     "text": [
      "Loss1: 17.0743, Loss2: 6.3515, Loss3: 32.5352\n"
     ]
    },
    {
     "name": "stderr",
     "output_type": "stream",
     "text": [
      "Test_Loader: 100%|██████████| 288/288 [00:03<00:00, 85.56it/s]\n"
     ]
    },
    {
     "name": "stdout",
     "output_type": "stream",
     "text": [
      "Loss1: 17.2268, Loss2: 6.8026, Loss3: 31.9391\n"
     ]
    },
    {
     "name": "stderr",
     "output_type": "stream",
     "text": [
      "Test_Loader: 100%|██████████| 288/288 [00:03<00:00, 87.56it/s]\n"
     ]
    },
    {
     "name": "stdout",
     "output_type": "stream",
     "text": [
      "Loss1: 16.7818, Loss2: 6.4021, Loss3: 32.8842\n"
     ]
    },
    {
     "name": "stderr",
     "output_type": "stream",
     "text": [
      "Test_Loader: 100%|██████████| 288/288 [00:03<00:00, 88.07it/s]\n"
     ]
    },
    {
     "name": "stdout",
     "output_type": "stream",
     "text": [
      "Loss1: 16.3736, Loss2: 6.1149, Loss3: 29.4368\n"
     ]
    },
    {
     "name": "stderr",
     "output_type": "stream",
     "text": [
      "Test_Loader: 100%|██████████| 288/288 [00:03<00:00, 87.60it/s]\n"
     ]
    },
    {
     "name": "stdout",
     "output_type": "stream",
     "text": [
      "Loss1: 16.5216, Loss2: 6.3797, Loss3: 31.3831\n"
     ]
    },
    {
     "name": "stderr",
     "output_type": "stream",
     "text": [
      "Test_Loader: 100%|██████████| 288/288 [00:03<00:00, 81.35it/s]\n"
     ]
    },
    {
     "name": "stdout",
     "output_type": "stream",
     "text": [
      "Loss1: 16.6309, Loss2: 6.6917, Loss3: 28.8233\n"
     ]
    },
    {
     "name": "stderr",
     "output_type": "stream",
     "text": [
      "Test_Loader: 100%|██████████| 288/288 [00:03<00:00, 81.31it/s]\n"
     ]
    },
    {
     "name": "stdout",
     "output_type": "stream",
     "text": [
      "Loss1: 17.1818, Loss2: 7.0536, Loss3: 30.8137\n"
     ]
    },
    {
     "name": "stderr",
     "output_type": "stream",
     "text": [
      "Test_Loader: 100%|██████████| 288/288 [00:03<00:00, 78.85it/s]\n"
     ]
    },
    {
     "name": "stdout",
     "output_type": "stream",
     "text": [
      "Loss1: 16.3286, Loss2: 6.4227, Loss3: 27.4764\n"
     ]
    },
    {
     "name": "stderr",
     "output_type": "stream",
     "text": [
      "Test_Loader: 100%|██████████| 288/288 [00:03<00:00, 79.35it/s]\n"
     ]
    },
    {
     "name": "stdout",
     "output_type": "stream",
     "text": [
      "Loss1: 16.4566, Loss2: 6.5865, Loss3: 27.8153\n"
     ]
    },
    {
     "name": "stderr",
     "output_type": "stream",
     "text": [
      "Test_Loader: 100%|██████████| 288/288 [00:03<00:00, 79.34it/s]\n"
     ]
    },
    {
     "name": "stdout",
     "output_type": "stream",
     "text": [
      "Loss1: 16.2778, Loss2: 6.5846, Loss3: 28.2442\n"
     ]
    },
    {
     "name": "stderr",
     "output_type": "stream",
     "text": [
      "Test_Loader: 100%|██████████| 288/288 [00:03<00:00, 82.55it/s]\n"
     ]
    },
    {
     "name": "stdout",
     "output_type": "stream",
     "text": [
      "Loss1: 16.1796, Loss2: 6.4660, Loss3: 28.2562\n"
     ]
    },
    {
     "name": "stderr",
     "output_type": "stream",
     "text": [
      "Test_Loader: 100%|██████████| 288/288 [00:03<00:00, 81.82it/s]\n"
     ]
    },
    {
     "name": "stdout",
     "output_type": "stream",
     "text": [
      "Loss1: 16.6080, Loss2: 6.9090, Loss3: 28.3970\n"
     ]
    },
    {
     "name": "stderr",
     "output_type": "stream",
     "text": [
      "Test_Loader: 100%|██████████| 288/288 [00:03<00:00, 82.55it/s]\n"
     ]
    },
    {
     "name": "stdout",
     "output_type": "stream",
     "text": [
      "Loss1: 17.1517, Loss2: 6.6726, Loss3: 30.1523\n"
     ]
    },
    {
     "name": "stderr",
     "output_type": "stream",
     "text": [
      "Test_Loader: 100%|██████████| 288/288 [00:03<00:00, 74.04it/s]\n"
     ]
    },
    {
     "name": "stdout",
     "output_type": "stream",
     "text": [
      "Loss1: 16.7040, Loss2: 6.7271, Loss3: 28.7591\n"
     ]
    },
    {
     "name": "stderr",
     "output_type": "stream",
     "text": [
      "Test_Loader: 100%|██████████| 288/288 [00:03<00:00, 73.69it/s]\n"
     ]
    },
    {
     "name": "stdout",
     "output_type": "stream",
     "text": [
      "Loss1: 16.0218, Loss2: 6.4443, Loss3: 28.4832\n"
     ]
    },
    {
     "name": "stderr",
     "output_type": "stream",
     "text": [
      "Test_Loader: 100%|██████████| 288/288 [00:03<00:00, 73.90it/s]\n"
     ]
    },
    {
     "name": "stdout",
     "output_type": "stream",
     "text": [
      "Loss1: 16.3003, Loss2: 6.3116, Loss3: 27.7883\n"
     ]
    },
    {
     "name": "stderr",
     "output_type": "stream",
     "text": [
      "Test_Loader: 100%|██████████| 288/288 [00:03<00:00, 76.99it/s]\n"
     ]
    },
    {
     "name": "stdout",
     "output_type": "stream",
     "text": [
      "Loss1: 16.2352, Loss2: 6.4977, Loss3: 28.2909\n"
     ]
    },
    {
     "name": "stderr",
     "output_type": "stream",
     "text": [
      "Test_Loader: 100%|██████████| 288/288 [00:03<00:00, 77.02it/s]\n"
     ]
    },
    {
     "name": "stdout",
     "output_type": "stream",
     "text": [
      "Loss1: 16.6926, Loss2: 6.3853, Loss3: 27.0783\n"
     ]
    },
    {
     "name": "stderr",
     "output_type": "stream",
     "text": [
      "Test_Loader: 100%|██████████| 288/288 [00:03<00:00, 76.05it/s]\n"
     ]
    },
    {
     "name": "stdout",
     "output_type": "stream",
     "text": [
      "Loss1: 17.0363, Loss2: 6.5613, Loss3: 28.2770\n"
     ]
    },
    {
     "name": "stderr",
     "output_type": "stream",
     "text": [
      "Test_Loader: 100%|██████████| 288/288 [00:03<00:00, 76.19it/s]\n"
     ]
    },
    {
     "name": "stdout",
     "output_type": "stream",
     "text": [
      "Loss1: 15.2627, Loss2: 6.4923, Loss3: 26.5787\n"
     ]
    },
    {
     "name": "stderr",
     "output_type": "stream",
     "text": [
      "Test_Loader: 100%|██████████| 288/288 [00:03<00:00, 73.58it/s]\n"
     ]
    },
    {
     "name": "stdout",
     "output_type": "stream",
     "text": [
      "Loss1: 15.3882, Loss2: 6.2674, Loss3: 27.9445\n"
     ]
    },
    {
     "name": "stderr",
     "output_type": "stream",
     "text": [
      "Test_Loader: 100%|██████████| 288/288 [00:03<00:00, 79.14it/s]\n"
     ]
    },
    {
     "name": "stdout",
     "output_type": "stream",
     "text": [
      "Loss1: 16.1795, Loss2: 6.5440, Loss3: 28.0857\n"
     ]
    },
    {
     "name": "stderr",
     "output_type": "stream",
     "text": [
      "Test_Loader: 100%|██████████| 288/288 [00:03<00:00, 81.04it/s]\n"
     ]
    },
    {
     "name": "stdout",
     "output_type": "stream",
     "text": [
      "Loss1: 16.3541, Loss2: 6.3489, Loss3: 26.7673\n"
     ]
    },
    {
     "name": "stderr",
     "output_type": "stream",
     "text": [
      "Test_Loader: 100%|██████████| 288/288 [00:03<00:00, 81.22it/s]\n"
     ]
    },
    {
     "name": "stdout",
     "output_type": "stream",
     "text": [
      "Loss1: 16.2522, Loss2: 6.0907, Loss3: 28.6051\n"
     ]
    },
    {
     "name": "stderr",
     "output_type": "stream",
     "text": [
      "Test_Loader: 100%|██████████| 288/288 [00:03<00:00, 77.03it/s]\n"
     ]
    },
    {
     "name": "stdout",
     "output_type": "stream",
     "text": [
      "Loss1: 16.1836, Loss2: 6.3669, Loss3: 26.9561\n"
     ]
    },
    {
     "name": "stderr",
     "output_type": "stream",
     "text": [
      "Test_Loader: 100%|██████████| 288/288 [00:03<00:00, 74.07it/s]\n"
     ]
    },
    {
     "name": "stdout",
     "output_type": "stream",
     "text": [
      "Loss1: 16.0236, Loss2: 6.3422, Loss3: 29.3397\n"
     ]
    },
    {
     "name": "stderr",
     "output_type": "stream",
     "text": [
      "Test_Loader: 100%|██████████| 288/288 [00:03<00:00, 76.19it/s]\n"
     ]
    },
    {
     "name": "stdout",
     "output_type": "stream",
     "text": [
      "Loss1: 16.8004, Loss2: 6.4703, Loss3: 28.5590\n"
     ]
    },
    {
     "name": "stderr",
     "output_type": "stream",
     "text": [
      "Test_Loader: 100%|██████████| 288/288 [00:03<00:00, 74.40it/s]\n"
     ]
    },
    {
     "name": "stdout",
     "output_type": "stream",
     "text": [
      "Loss1: 16.2068, Loss2: 6.4384, Loss3: 29.9208\n"
     ]
    },
    {
     "name": "stderr",
     "output_type": "stream",
     "text": [
      "Test_Loader: 100%|██████████| 288/288 [00:04<00:00, 71.59it/s]\n"
     ]
    },
    {
     "name": "stdout",
     "output_type": "stream",
     "text": [
      "Loss1: 15.8495, Loss2: 6.3026, Loss3: 30.3268\n"
     ]
    },
    {
     "name": "stderr",
     "output_type": "stream",
     "text": [
      "Test_Loader: 100%|██████████| 288/288 [00:04<00:00, 70.62it/s]\n"
     ]
    },
    {
     "name": "stdout",
     "output_type": "stream",
     "text": [
      "Loss1: 15.6661, Loss2: 6.6260, Loss3: 28.5198\n"
     ]
    },
    {
     "name": "stderr",
     "output_type": "stream",
     "text": [
      "Test_Loader: 100%|██████████| 288/288 [00:04<00:00, 71.95it/s]\n"
     ]
    },
    {
     "name": "stdout",
     "output_type": "stream",
     "text": [
      "Loss1: 15.4956, Loss2: 6.0218, Loss3: 30.1063\n"
     ]
    },
    {
     "name": "stderr",
     "output_type": "stream",
     "text": [
      "Test_Loader: 100%|██████████| 288/288 [00:03<00:00, 72.64it/s]\n"
     ]
    },
    {
     "name": "stdout",
     "output_type": "stream",
     "text": [
      "Loss1: 16.2756, Loss2: 7.1675, Loss3: 32.8926\n"
     ]
    },
    {
     "name": "stderr",
     "output_type": "stream",
     "text": [
      "Test_Loader: 100%|██████████| 288/288 [00:04<00:00, 71.06it/s]\n"
     ]
    },
    {
     "name": "stdout",
     "output_type": "stream",
     "text": [
      "Loss1: 15.8807, Loss2: 6.2325, Loss3: 26.5708\n"
     ]
    },
    {
     "name": "stderr",
     "output_type": "stream",
     "text": [
      "Test_Loader: 100%|██████████| 288/288 [00:04<00:00, 71.46it/s]\n"
     ]
    },
    {
     "name": "stdout",
     "output_type": "stream",
     "text": [
      "Loss1: 15.5290, Loss2: 6.3021, Loss3: 27.0873\n"
     ]
    },
    {
     "name": "stderr",
     "output_type": "stream",
     "text": [
      "Test_Loader: 100%|██████████| 288/288 [00:03<00:00, 73.07it/s]\n"
     ]
    },
    {
     "name": "stdout",
     "output_type": "stream",
     "text": [
      "Loss1: 17.2676, Loss2: 6.6450, Loss3: 33.3479\n"
     ]
    },
    {
     "name": "stderr",
     "output_type": "stream",
     "text": [
      "Test_Loader: 100%|██████████| 288/288 [00:03<00:00, 75.35it/s]\n"
     ]
    },
    {
     "name": "stdout",
     "output_type": "stream",
     "text": [
      "Loss1: 16.0651, Loss2: 6.1783, Loss3: 26.3404\n"
     ]
    },
    {
     "name": "stderr",
     "output_type": "stream",
     "text": [
      "Test_Loader: 100%|██████████| 288/288 [00:03<00:00, 81.31it/s]\n"
     ]
    },
    {
     "name": "stdout",
     "output_type": "stream",
     "text": [
      "Loss1: 16.2835, Loss2: 6.2288, Loss3: 25.7263\n"
     ]
    },
    {
     "name": "stderr",
     "output_type": "stream",
     "text": [
      "Test_Loader: 100%|██████████| 288/288 [00:03<00:00, 81.91it/s]\n"
     ]
    },
    {
     "name": "stdout",
     "output_type": "stream",
     "text": [
      "Loss1: 15.3956, Loss2: 6.2664, Loss3: 26.4725\n"
     ]
    },
    {
     "name": "stderr",
     "output_type": "stream",
     "text": [
      "Test_Loader: 100%|██████████| 288/288 [00:03<00:00, 85.96it/s]\n"
     ]
    },
    {
     "name": "stdout",
     "output_type": "stream",
     "text": [
      "Loss1: 16.8921, Loss2: 6.1948, Loss3: 27.9610\n"
     ]
    },
    {
     "name": "stderr",
     "output_type": "stream",
     "text": [
      "Test_Loader: 100%|██████████| 288/288 [00:03<00:00, 83.82it/s]\n"
     ]
    },
    {
     "name": "stdout",
     "output_type": "stream",
     "text": [
      "Loss1: 16.5898, Loss2: 6.0878, Loss3: 27.7827\n"
     ]
    },
    {
     "name": "stderr",
     "output_type": "stream",
     "text": [
      "Test_Loader: 100%|██████████| 288/288 [00:03<00:00, 84.88it/s]\n"
     ]
    },
    {
     "name": "stdout",
     "output_type": "stream",
     "text": [
      "Loss1: 17.3850, Loss2: 7.0895, Loss3: 36.2847\n"
     ]
    },
    {
     "name": "stderr",
     "output_type": "stream",
     "text": [
      "Test_Loader: 100%|██████████| 288/288 [00:03<00:00, 75.59it/s]\n"
     ]
    },
    {
     "name": "stdout",
     "output_type": "stream",
     "text": [
      "Loss1: 15.9532, Loss2: 6.4003, Loss3: 28.3297\n"
     ]
    },
    {
     "name": "stderr",
     "output_type": "stream",
     "text": [
      "Test_Loader: 100%|██████████| 288/288 [00:03<00:00, 74.77it/s]\n"
     ]
    },
    {
     "name": "stdout",
     "output_type": "stream",
     "text": [
      "Loss1: 16.4470, Loss2: 6.3676, Loss3: 29.8461\n"
     ]
    },
    {
     "name": "stderr",
     "output_type": "stream",
     "text": [
      "Test_Loader: 100%|██████████| 288/288 [00:03<00:00, 72.80it/s]\n"
     ]
    },
    {
     "name": "stdout",
     "output_type": "stream",
     "text": [
      "Loss1: 15.6205, Loss2: 6.4083, Loss3: 32.4152\n"
     ]
    },
    {
     "name": "stderr",
     "output_type": "stream",
     "text": [
      "Test_Loader: 100%|██████████| 288/288 [00:03<00:00, 77.13it/s]\n"
     ]
    },
    {
     "name": "stdout",
     "output_type": "stream",
     "text": [
      "Loss1: 15.2492, Loss2: 6.1481, Loss3: 27.8162\n"
     ]
    },
    {
     "name": "stderr",
     "output_type": "stream",
     "text": [
      "Test_Loader: 100%|██████████| 288/288 [00:03<00:00, 82.17it/s]\n"
     ]
    },
    {
     "name": "stdout",
     "output_type": "stream",
     "text": [
      "Loss1: 15.2543, Loss2: 6.7153, Loss3: 27.7831\n"
     ]
    },
    {
     "name": "stderr",
     "output_type": "stream",
     "text": [
      "Test_Loader: 100%|██████████| 288/288 [00:03<00:00, 83.70it/s]\n"
     ]
    },
    {
     "name": "stdout",
     "output_type": "stream",
     "text": [
      "Loss1: 15.5488, Loss2: 6.9148, Loss3: 30.7032\n"
     ]
    },
    {
     "name": "stderr",
     "output_type": "stream",
     "text": [
      "Test_Loader: 100%|██████████| 288/288 [00:03<00:00, 79.73it/s]\n"
     ]
    },
    {
     "name": "stdout",
     "output_type": "stream",
     "text": [
      "Loss1: 15.4014, Loss2: 6.4784, Loss3: 29.2408\n"
     ]
    },
    {
     "name": "stderr",
     "output_type": "stream",
     "text": [
      "Test_Loader: 100%|██████████| 288/288 [00:03<00:00, 83.26it/s]\n"
     ]
    },
    {
     "name": "stdout",
     "output_type": "stream",
     "text": [
      "Loss1: 15.5480, Loss2: 6.6321, Loss3: 29.3793\n"
     ]
    },
    {
     "name": "stderr",
     "output_type": "stream",
     "text": [
      "Test_Loader: 100%|██████████| 288/288 [00:03<00:00, 85.12it/s]\n"
     ]
    },
    {
     "name": "stdout",
     "output_type": "stream",
     "text": [
      "Loss1: 15.1405, Loss2: 6.7751, Loss3: 28.5187\n"
     ]
    },
    {
     "name": "stderr",
     "output_type": "stream",
     "text": [
      "Test_Loader: 100%|██████████| 288/288 [00:03<00:00, 81.51it/s]\n"
     ]
    },
    {
     "name": "stdout",
     "output_type": "stream",
     "text": [
      "Loss1: 15.6716, Loss2: 6.8304, Loss3: 31.1014\n"
     ]
    },
    {
     "name": "stderr",
     "output_type": "stream",
     "text": [
      "Test_Loader: 100%|██████████| 288/288 [00:03<00:00, 75.39it/s]\n"
     ]
    },
    {
     "name": "stdout",
     "output_type": "stream",
     "text": [
      "Loss1: 14.8123, Loss2: 6.5011, Loss3: 28.3904\n"
     ]
    },
    {
     "name": "stderr",
     "output_type": "stream",
     "text": [
      "Test_Loader: 100%|██████████| 288/288 [00:03<00:00, 81.32it/s]\n"
     ]
    },
    {
     "name": "stdout",
     "output_type": "stream",
     "text": [
      "Loss1: 14.8899, Loss2: 6.8082, Loss3: 30.4270\n"
     ]
    },
    {
     "name": "stderr",
     "output_type": "stream",
     "text": [
      "Test_Loader: 100%|██████████| 288/288 [00:03<00:00, 77.96it/s]\n"
     ]
    },
    {
     "name": "stdout",
     "output_type": "stream",
     "text": [
      "Loss1: 14.7133, Loss2: 6.7552, Loss3: 29.3529\n"
     ]
    },
    {
     "name": "stderr",
     "output_type": "stream",
     "text": [
      "Test_Loader: 100%|██████████| 288/288 [00:03<00:00, 73.77it/s]\n"
     ]
    },
    {
     "name": "stdout",
     "output_type": "stream",
     "text": [
      "Loss1: 15.7168, Loss2: 6.4758, Loss3: 28.6628\n"
     ]
    },
    {
     "name": "stderr",
     "output_type": "stream",
     "text": [
      "Test_Loader: 100%|██████████| 288/288 [00:03<00:00, 73.62it/s]\n"
     ]
    },
    {
     "name": "stdout",
     "output_type": "stream",
     "text": [
      "Loss1: 16.1062, Loss2: 5.9996, Loss3: 27.1521\n"
     ]
    },
    {
     "name": "stderr",
     "output_type": "stream",
     "text": [
      "Test_Loader: 100%|██████████| 288/288 [00:03<00:00, 79.17it/s]\n"
     ]
    },
    {
     "name": "stdout",
     "output_type": "stream",
     "text": [
      "Loss1: 15.9175, Loss2: 6.2201, Loss3: 26.7842\n"
     ]
    },
    {
     "name": "stderr",
     "output_type": "stream",
     "text": [
      "Test_Loader: 100%|██████████| 288/288 [00:03<00:00, 83.58it/s]\n"
     ]
    },
    {
     "name": "stdout",
     "output_type": "stream",
     "text": [
      "Loss1: 15.8513, Loss2: 6.1278, Loss3: 27.0862\n"
     ]
    },
    {
     "name": "stderr",
     "output_type": "stream",
     "text": [
      "Test_Loader: 100%|██████████| 288/288 [00:03<00:00, 82.95it/s]\n"
     ]
    },
    {
     "name": "stdout",
     "output_type": "stream",
     "text": [
      "Loss1: 15.9590, Loss2: 6.2599, Loss3: 26.5792\n"
     ]
    },
    {
     "name": "stderr",
     "output_type": "stream",
     "text": [
      "Test_Loader: 100%|██████████| 288/288 [00:03<00:00, 82.69it/s]\n"
     ]
    },
    {
     "name": "stdout",
     "output_type": "stream",
     "text": [
      "Loss1: 15.8004, Loss2: 6.0405, Loss3: 30.4432\n"
     ]
    },
    {
     "name": "stderr",
     "output_type": "stream",
     "text": [
      "Test_Loader: 100%|██████████| 288/288 [00:03<00:00, 77.23it/s]\n"
     ]
    },
    {
     "name": "stdout",
     "output_type": "stream",
     "text": [
      "Loss1: 16.2054, Loss2: 6.0890, Loss3: 27.5732\n"
     ]
    },
    {
     "name": "stderr",
     "output_type": "stream",
     "text": [
      "Test_Loader: 100%|██████████| 288/288 [00:03<00:00, 78.21it/s]\n"
     ]
    },
    {
     "name": "stdout",
     "output_type": "stream",
     "text": [
      "Loss1: 15.9528, Loss2: 5.7898, Loss3: 29.6784\n"
     ]
    },
    {
     "name": "stderr",
     "output_type": "stream",
     "text": [
      "Test_Loader: 100%|██████████| 288/288 [00:03<00:00, 78.37it/s]\n"
     ]
    },
    {
     "name": "stdout",
     "output_type": "stream",
     "text": [
      "Loss1: 15.7889, Loss2: 6.3346, Loss3: 26.9634\n"
     ]
    },
    {
     "name": "stderr",
     "output_type": "stream",
     "text": [
      "Test_Loader: 100%|██████████| 288/288 [00:03<00:00, 76.37it/s]\n"
     ]
    },
    {
     "name": "stdout",
     "output_type": "stream",
     "text": [
      "Loss1: 16.5584, Loss2: 5.7060, Loss3: 30.7005\n"
     ]
    },
    {
     "name": "stderr",
     "output_type": "stream",
     "text": [
      "Test_Loader: 100%|██████████| 288/288 [00:03<00:00, 74.61it/s]\n"
     ]
    },
    {
     "name": "stdout",
     "output_type": "stream",
     "text": [
      "Loss1: 16.0238, Loss2: 6.0795, Loss3: 28.7404\n"
     ]
    },
    {
     "name": "stderr",
     "output_type": "stream",
     "text": [
      "Test_Loader: 100%|██████████| 288/288 [00:03<00:00, 78.03it/s]\n"
     ]
    },
    {
     "name": "stdout",
     "output_type": "stream",
     "text": [
      "Loss1: 15.9889, Loss2: 6.0002, Loss3: 27.0814\n"
     ]
    },
    {
     "name": "stderr",
     "output_type": "stream",
     "text": [
      "Test_Loader: 100%|██████████| 288/288 [00:03<00:00, 85.92it/s]\n"
     ]
    },
    {
     "name": "stdout",
     "output_type": "stream",
     "text": [
      "Loss1: 16.8074, Loss2: 6.2259, Loss3: 27.8351\n"
     ]
    },
    {
     "name": "stderr",
     "output_type": "stream",
     "text": [
      "Test_Loader: 100%|██████████| 288/288 [00:03<00:00, 84.26it/s]\n"
     ]
    },
    {
     "name": "stdout",
     "output_type": "stream",
     "text": [
      "Loss1: 16.0631, Loss2: 5.9152, Loss3: 27.9757\n"
     ]
    },
    {
     "name": "stderr",
     "output_type": "stream",
     "text": [
      "Test_Loader: 100%|██████████| 288/288 [00:03<00:00, 83.48it/s]\n"
     ]
    },
    {
     "name": "stdout",
     "output_type": "stream",
     "text": [
      "Loss1: 16.6693, Loss2: 5.6599, Loss3: 27.2308\n"
     ]
    },
    {
     "name": "stderr",
     "output_type": "stream",
     "text": [
      "Test_Loader: 100%|██████████| 288/288 [00:03<00:00, 80.33it/s]\n"
     ]
    },
    {
     "name": "stdout",
     "output_type": "stream",
     "text": [
      "Loss1: 16.0435, Loss2: 5.8353, Loss3: 28.9926\n"
     ]
    },
    {
     "name": "stderr",
     "output_type": "stream",
     "text": [
      "Test_Loader: 100%|██████████| 288/288 [00:03<00:00, 80.81it/s]\n"
     ]
    },
    {
     "name": "stdout",
     "output_type": "stream",
     "text": [
      "Loss1: 15.7674, Loss2: 5.5780, Loss3: 25.1600\n"
     ]
    },
    {
     "name": "stderr",
     "output_type": "stream",
     "text": [
      "Test_Loader: 100%|██████████| 288/288 [00:03<00:00, 79.35it/s]\n"
     ]
    },
    {
     "name": "stdout",
     "output_type": "stream",
     "text": [
      "Loss1: 16.0289, Loss2: 5.5467, Loss3: 25.4764\n"
     ]
    },
    {
     "name": "stderr",
     "output_type": "stream",
     "text": [
      "Test_Loader: 100%|██████████| 288/288 [00:03<00:00, 73.88it/s]\n"
     ]
    },
    {
     "name": "stdout",
     "output_type": "stream",
     "text": [
      "Loss1: 16.2509, Loss2: 5.7838, Loss3: 24.4968\n"
     ]
    },
    {
     "name": "stderr",
     "output_type": "stream",
     "text": [
      "Test_Loader: 100%|██████████| 288/288 [00:03<00:00, 72.12it/s]\n"
     ]
    },
    {
     "name": "stdout",
     "output_type": "stream",
     "text": [
      "Loss1: 16.1761, Loss2: 5.5875, Loss3: 25.3524\n"
     ]
    },
    {
     "name": "stderr",
     "output_type": "stream",
     "text": [
      "Test_Loader: 100%|██████████| 288/288 [00:03<00:00, 74.88it/s]\n"
     ]
    },
    {
     "name": "stdout",
     "output_type": "stream",
     "text": [
      "Loss1: 16.1958, Loss2: 5.8047, Loss3: 26.3911\n"
     ]
    },
    {
     "name": "stderr",
     "output_type": "stream",
     "text": [
      "Test_Loader: 100%|██████████| 288/288 [00:03<00:00, 83.76it/s]\n"
     ]
    },
    {
     "name": "stdout",
     "output_type": "stream",
     "text": [
      "Loss1: 15.9065, Loss2: 5.6240, Loss3: 25.7312\n"
     ]
    },
    {
     "name": "stderr",
     "output_type": "stream",
     "text": [
      "Test_Loader: 100%|██████████| 288/288 [00:03<00:00, 83.14it/s]\n"
     ]
    },
    {
     "name": "stdout",
     "output_type": "stream",
     "text": [
      "Loss1: 16.6875, Loss2: 5.9274, Loss3: 25.7176\n"
     ]
    },
    {
     "name": "stderr",
     "output_type": "stream",
     "text": [
      "Test_Loader: 100%|██████████| 288/288 [00:03<00:00, 83.02it/s]\n"
     ]
    },
    {
     "name": "stdout",
     "output_type": "stream",
     "text": [
      "Loss1: 17.9437, Loss2: 5.9617, Loss3: 25.9480\n"
     ]
    },
    {
     "name": "stderr",
     "output_type": "stream",
     "text": [
      "Test_Loader: 100%|██████████| 288/288 [00:03<00:00, 82.97it/s]\n"
     ]
    },
    {
     "name": "stdout",
     "output_type": "stream",
     "text": [
      "Loss1: 18.2104, Loss2: 6.1419, Loss3: 26.3139\n"
     ]
    },
    {
     "name": "stderr",
     "output_type": "stream",
     "text": [
      "Test_Loader: 100%|██████████| 288/288 [00:03<00:00, 82.73it/s]\n"
     ]
    },
    {
     "name": "stdout",
     "output_type": "stream",
     "text": [
      "Loss1: 18.0198, Loss2: 5.6554, Loss3: 26.7547\n"
     ]
    },
    {
     "name": "stderr",
     "output_type": "stream",
     "text": [
      "Test_Loader: 100%|██████████| 288/288 [00:03<00:00, 82.19it/s]\n"
     ]
    },
    {
     "name": "stdout",
     "output_type": "stream",
     "text": [
      "Loss1: 18.5626, Loss2: 6.1822, Loss3: 27.6770\n"
     ]
    },
    {
     "name": "stderr",
     "output_type": "stream",
     "text": [
      "Test_Loader: 100%|██████████| 288/288 [00:03<00:00, 74.89it/s]\n"
     ]
    },
    {
     "name": "stdout",
     "output_type": "stream",
     "text": [
      "Loss1: 18.2875, Loss2: 5.8422, Loss3: 25.8340\n"
     ]
    },
    {
     "name": "stderr",
     "output_type": "stream",
     "text": [
      "Test_Loader: 100%|██████████| 288/288 [00:03<00:00, 75.25it/s]\n"
     ]
    },
    {
     "name": "stdout",
     "output_type": "stream",
     "text": [
      "Loss1: 18.0927, Loss2: 5.6314, Loss3: 26.8618\n"
     ]
    },
    {
     "name": "stderr",
     "output_type": "stream",
     "text": [
      "Test_Loader: 100%|██████████| 288/288 [00:03<00:00, 74.79it/s]\n"
     ]
    },
    {
     "name": "stdout",
     "output_type": "stream",
     "text": [
      "Loss1: 17.3278, Loss2: 5.5319, Loss3: 24.9162\n"
     ]
    },
    {
     "name": "stderr",
     "output_type": "stream",
     "text": [
      "Test_Loader: 100%|██████████| 288/288 [00:03<00:00, 78.84it/s]\n"
     ]
    },
    {
     "name": "stdout",
     "output_type": "stream",
     "text": [
      "Loss1: 17.3667, Loss2: 5.7900, Loss3: 25.3793\n"
     ]
    },
    {
     "name": "stderr",
     "output_type": "stream",
     "text": [
      "Test_Loader: 100%|██████████| 288/288 [00:03<00:00, 80.70it/s]\n"
     ]
    },
    {
     "name": "stdout",
     "output_type": "stream",
     "text": [
      "Loss1: 16.3935, Loss2: 5.5858, Loss3: 25.3139\n"
     ]
    },
    {
     "name": "stderr",
     "output_type": "stream",
     "text": [
      "Test_Loader: 100%|██████████| 288/288 [00:03<00:00, 82.87it/s]\n"
     ]
    },
    {
     "name": "stdout",
     "output_type": "stream",
     "text": [
      "Loss1: 17.0971, Loss2: 5.6981, Loss3: 25.1239\n"
     ]
    },
    {
     "name": "stderr",
     "output_type": "stream",
     "text": [
      "Test_Loader: 100%|██████████| 288/288 [00:03<00:00, 83.43it/s]\n"
     ]
    },
    {
     "name": "stdout",
     "output_type": "stream",
     "text": [
      "Loss1: 16.8149, Loss2: 5.5062, Loss3: 24.4755\n"
     ]
    },
    {
     "name": "stderr",
     "output_type": "stream",
     "text": [
      "Test_Loader: 100%|██████████| 288/288 [00:03<00:00, 85.64it/s]\n"
     ]
    },
    {
     "name": "stdout",
     "output_type": "stream",
     "text": [
      "Loss1: 16.0603, Loss2: 5.4658, Loss3: 24.2394\n"
     ]
    },
    {
     "name": "stderr",
     "output_type": "stream",
     "text": [
      "Test_Loader: 100%|██████████| 288/288 [00:03<00:00, 81.22it/s]\n"
     ]
    },
    {
     "name": "stdout",
     "output_type": "stream",
     "text": [
      "Loss1: 16.5021, Loss2: 5.6869, Loss3: 24.1325\n"
     ]
    },
    {
     "name": "stderr",
     "output_type": "stream",
     "text": [
      "Test_Loader: 100%|██████████| 288/288 [00:03<00:00, 75.81it/s]\n"
     ]
    },
    {
     "name": "stdout",
     "output_type": "stream",
     "text": [
      "Loss1: 16.1130, Loss2: 5.6687, Loss3: 23.6976\n"
     ]
    },
    {
     "name": "stderr",
     "output_type": "stream",
     "text": [
      "Test_Loader: 100%|██████████| 288/288 [00:03<00:00, 78.24it/s]\n"
     ]
    },
    {
     "name": "stdout",
     "output_type": "stream",
     "text": [
      "Loss1: 16.0709, Loss2: 5.5634, Loss3: 23.8461\n"
     ]
    },
    {
     "name": "stderr",
     "output_type": "stream",
     "text": [
      "Test_Loader: 100%|██████████| 288/288 [00:03<00:00, 80.56it/s]\n"
     ]
    },
    {
     "name": "stdout",
     "output_type": "stream",
     "text": [
      "Loss1: 16.3182, Loss2: 5.6244, Loss3: 24.7196\n"
     ]
    },
    {
     "name": "stderr",
     "output_type": "stream",
     "text": [
      "Test_Loader: 100%|██████████| 288/288 [00:03<00:00, 83.00it/s]\n"
     ]
    },
    {
     "name": "stdout",
     "output_type": "stream",
     "text": [
      "Loss1: 16.3716, Loss2: 5.9035, Loss3: 25.0184\n"
     ]
    },
    {
     "name": "stderr",
     "output_type": "stream",
     "text": [
      "Test_Loader: 100%|██████████| 288/288 [00:03<00:00, 82.28it/s]\n"
     ]
    },
    {
     "name": "stdout",
     "output_type": "stream",
     "text": [
      "Loss1: 16.1549, Loss2: 5.6550, Loss3: 24.6537\n"
     ]
    },
    {
     "name": "stderr",
     "output_type": "stream",
     "text": [
      "Test_Loader: 100%|██████████| 288/288 [00:03<00:00, 81.14it/s]\n"
     ]
    },
    {
     "name": "stdout",
     "output_type": "stream",
     "text": [
      "Loss1: 16.2521, Loss2: 5.5398, Loss3: 24.4150\n"
     ]
    },
    {
     "name": "stderr",
     "output_type": "stream",
     "text": [
      "Test_Loader: 100%|██████████| 288/288 [00:03<00:00, 77.94it/s]\n"
     ]
    },
    {
     "name": "stdout",
     "output_type": "stream",
     "text": [
      "Loss1: 16.7642, Loss2: 5.7635, Loss3: 24.2420\n"
     ]
    },
    {
     "name": "stderr",
     "output_type": "stream",
     "text": [
      "Test_Loader: 100%|██████████| 288/288 [00:03<00:00, 76.94it/s]\n"
     ]
    },
    {
     "name": "stdout",
     "output_type": "stream",
     "text": [
      "Loss1: 17.3896, Loss2: 5.9351, Loss3: 25.0772\n"
     ]
    },
    {
     "name": "stderr",
     "output_type": "stream",
     "text": [
      "Test_Loader: 100%|██████████| 288/288 [00:03<00:00, 84.28it/s]\n"
     ]
    },
    {
     "name": "stdout",
     "output_type": "stream",
     "text": [
      "Loss1: 17.5182, Loss2: 5.6186, Loss3: 25.2928\n"
     ]
    },
    {
     "name": "stderr",
     "output_type": "stream",
     "text": [
      "Test_Loader: 100%|██████████| 288/288 [00:03<00:00, 85.25it/s]\n"
     ]
    },
    {
     "name": "stdout",
     "output_type": "stream",
     "text": [
      "Loss1: 18.3879, Loss2: 6.7099, Loss3: 29.1434\n"
     ]
    },
    {
     "name": "stderr",
     "output_type": "stream",
     "text": [
      "Test_Loader: 100%|██████████| 288/288 [00:03<00:00, 85.82it/s]\n"
     ]
    },
    {
     "name": "stdout",
     "output_type": "stream",
     "text": [
      "Loss1: 19.1205, Loss2: 7.3001, Loss3: 29.8596\n"
     ]
    },
    {
     "name": "stderr",
     "output_type": "stream",
     "text": [
      "Test_Loader: 100%|██████████| 288/288 [00:03<00:00, 85.33it/s]\n"
     ]
    },
    {
     "name": "stdout",
     "output_type": "stream",
     "text": [
      "Loss1: 19.2458, Loss2: 7.2926, Loss3: 30.8715\n"
     ]
    },
    {
     "name": "stderr",
     "output_type": "stream",
     "text": [
      "Test_Loader: 100%|██████████| 288/288 [00:03<00:00, 86.55it/s]\n"
     ]
    },
    {
     "name": "stdout",
     "output_type": "stream",
     "text": [
      "Loss1: 18.4593, Loss2: 6.4909, Loss3: 29.4004\n"
     ]
    },
    {
     "name": "stderr",
     "output_type": "stream",
     "text": [
      "Test_Loader: 100%|██████████| 288/288 [00:03<00:00, 85.97it/s]\n"
     ]
    },
    {
     "name": "stdout",
     "output_type": "stream",
     "text": [
      "Loss1: 18.7401, Loss2: 6.6436, Loss3: 28.5380\n"
     ]
    },
    {
     "name": "stderr",
     "output_type": "stream",
     "text": [
      "Test_Loader: 100%|██████████| 288/288 [00:03<00:00, 77.84it/s]\n"
     ]
    },
    {
     "name": "stdout",
     "output_type": "stream",
     "text": [
      "Loss1: 18.4643, Loss2: 6.9002, Loss3: 29.4857\n"
     ]
    },
    {
     "name": "stderr",
     "output_type": "stream",
     "text": [
      "Test_Loader: 100%|██████████| 288/288 [00:03<00:00, 72.14it/s]\n"
     ]
    },
    {
     "name": "stdout",
     "output_type": "stream",
     "text": [
      "Loss1: 19.6121, Loss2: 7.4307, Loss3: 30.6906\n"
     ]
    },
    {
     "name": "stderr",
     "output_type": "stream",
     "text": [
      "Test_Loader: 100%|██████████| 288/288 [00:03<00:00, 72.56it/s]\n"
     ]
    },
    {
     "name": "stdout",
     "output_type": "stream",
     "text": [
      "Loss1: 21.7148, Loss2: 7.5524, Loss3: 31.8138\n"
     ]
    },
    {
     "name": "stderr",
     "output_type": "stream",
     "text": [
      "Test_Loader: 100%|██████████| 288/288 [00:03<00:00, 83.52it/s]\n"
     ]
    },
    {
     "name": "stdout",
     "output_type": "stream",
     "text": [
      "Loss1: 21.5558, Loss2: 7.4933, Loss3: 32.5972\n"
     ]
    },
    {
     "name": "stderr",
     "output_type": "stream",
     "text": [
      "Test_Loader: 100%|██████████| 288/288 [00:03<00:00, 85.42it/s]\n"
     ]
    },
    {
     "name": "stdout",
     "output_type": "stream",
     "text": [
      "Loss1: 21.4189, Loss2: 7.4572, Loss3: 30.9380\n"
     ]
    },
    {
     "name": "stderr",
     "output_type": "stream",
     "text": [
      "Test_Loader: 100%|██████████| 288/288 [00:03<00:00, 86.95it/s]\n"
     ]
    },
    {
     "name": "stdout",
     "output_type": "stream",
     "text": [
      "Loss1: 22.0186, Loss2: 7.3253, Loss3: 32.7690\n"
     ]
    },
    {
     "name": "stderr",
     "output_type": "stream",
     "text": [
      "Test_Loader: 100%|██████████| 288/288 [00:03<00:00, 83.70it/s]\n"
     ]
    },
    {
     "name": "stdout",
     "output_type": "stream",
     "text": [
      "Loss1: 22.2766, Loss2: 8.3096, Loss3: 32.1072\n"
     ]
    },
    {
     "name": "stderr",
     "output_type": "stream",
     "text": [
      "Test_Loader: 100%|██████████| 288/288 [00:03<00:00, 83.56it/s]\n"
     ]
    },
    {
     "name": "stdout",
     "output_type": "stream",
     "text": [
      "Loss1: 22.8568, Loss2: 7.8395, Loss3: 31.7449\n"
     ]
    },
    {
     "name": "stderr",
     "output_type": "stream",
     "text": [
      "Test_Loader: 100%|██████████| 288/288 [00:03<00:00, 84.61it/s]\n"
     ]
    },
    {
     "name": "stdout",
     "output_type": "stream",
     "text": [
      "Loss1: 22.9001, Loss2: 8.5283, Loss3: 34.7550\n"
     ]
    },
    {
     "name": "stderr",
     "output_type": "stream",
     "text": [
      "Test_Loader: 100%|██████████| 288/288 [00:03<00:00, 80.91it/s]\n"
     ]
    },
    {
     "name": "stdout",
     "output_type": "stream",
     "text": [
      "Loss1: 23.0812, Loss2: 7.6303, Loss3: 32.9965\n"
     ]
    },
    {
     "name": "stderr",
     "output_type": "stream",
     "text": [
      "Test_Loader: 100%|██████████| 288/288 [00:03<00:00, 80.22it/s]\n"
     ]
    },
    {
     "name": "stdout",
     "output_type": "stream",
     "text": [
      "Loss1: 23.9668, Loss2: 8.9961, Loss3: 36.7517\n"
     ]
    },
    {
     "name": "stderr",
     "output_type": "stream",
     "text": [
      "Test_Loader: 100%|██████████| 288/288 [00:03<00:00, 78.02it/s]\n"
     ]
    },
    {
     "name": "stdout",
     "output_type": "stream",
     "text": [
      "Loss1: 23.5773, Loss2: 8.2791, Loss3: 33.5161\n"
     ]
    },
    {
     "name": "stderr",
     "output_type": "stream",
     "text": [
      "Test_Loader: 100%|██████████| 288/288 [00:03<00:00, 80.33it/s]\n"
     ]
    },
    {
     "name": "stdout",
     "output_type": "stream",
     "text": [
      "Loss1: 24.1062, Loss2: 7.8976, Loss3: 33.5565\n"
     ]
    },
    {
     "name": "stderr",
     "output_type": "stream",
     "text": [
      "Test_Loader: 100%|██████████| 288/288 [00:03<00:00, 77.58it/s]\n"
     ]
    },
    {
     "name": "stdout",
     "output_type": "stream",
     "text": [
      "Loss1: 22.9170, Loss2: 7.9908, Loss3: 33.5677\n"
     ]
    },
    {
     "name": "stderr",
     "output_type": "stream",
     "text": [
      "Test_Loader: 100%|██████████| 288/288 [00:03<00:00, 81.22it/s]\n"
     ]
    },
    {
     "name": "stdout",
     "output_type": "stream",
     "text": [
      "Loss1: 23.1208, Loss2: 6.9427, Loss3: 38.8809\n"
     ]
    },
    {
     "name": "stderr",
     "output_type": "stream",
     "text": [
      "Test_Loader: 100%|██████████| 288/288 [00:03<00:00, 88.10it/s]\n"
     ]
    },
    {
     "name": "stdout",
     "output_type": "stream",
     "text": [
      "Loss1: 25.8037, Loss2: 10.2793, Loss3: 37.4053\n"
     ]
    },
    {
     "name": "stderr",
     "output_type": "stream",
     "text": [
      "Test_Loader: 100%|██████████| 288/288 [00:03<00:00, 88.23it/s]\n"
     ]
    },
    {
     "name": "stdout",
     "output_type": "stream",
     "text": [
      "Loss1: 24.6429, Loss2: 9.8769, Loss3: 34.9721\n"
     ]
    },
    {
     "name": "stderr",
     "output_type": "stream",
     "text": [
      "Test_Loader: 100%|██████████| 288/288 [00:03<00:00, 86.53it/s]\n"
     ]
    },
    {
     "name": "stdout",
     "output_type": "stream",
     "text": [
      "Loss1: 24.3924, Loss2: 9.4247, Loss3: 39.5710\n"
     ]
    },
    {
     "name": "stderr",
     "output_type": "stream",
     "text": [
      "Test_Loader: 100%|██████████| 288/288 [00:03<00:00, 75.59it/s]\n"
     ]
    },
    {
     "name": "stdout",
     "output_type": "stream",
     "text": [
      "Loss1: 26.1885, Loss2: 12.2478, Loss3: 44.8447\n"
     ]
    },
    {
     "name": "stderr",
     "output_type": "stream",
     "text": [
      "Test_Loader: 100%|██████████| 288/288 [00:03<00:00, 75.71it/s]\n"
     ]
    },
    {
     "name": "stdout",
     "output_type": "stream",
     "text": [
      "Loss1: 24.7435, Loss2: 9.1638, Loss3: 43.5035\n"
     ]
    },
    {
     "name": "stderr",
     "output_type": "stream",
     "text": [
      "Test_Loader: 100%|██████████| 288/288 [00:03<00:00, 76.09it/s]\n"
     ]
    },
    {
     "name": "stdout",
     "output_type": "stream",
     "text": [
      "Loss1: 25.8649, Loss2: 10.9195, Loss3: 45.7364\n"
     ]
    },
    {
     "name": "stderr",
     "output_type": "stream",
     "text": [
      "Test_Loader: 100%|██████████| 288/288 [00:03<00:00, 77.17it/s]\n"
     ]
    },
    {
     "name": "stdout",
     "output_type": "stream",
     "text": [
      "Loss1: 25.4945, Loss2: 10.7533, Loss3: 43.6351\n"
     ]
    },
    {
     "name": "stderr",
     "output_type": "stream",
     "text": [
      "Test_Loader: 100%|██████████| 288/288 [00:03<00:00, 73.21it/s]\n"
     ]
    },
    {
     "name": "stdout",
     "output_type": "stream",
     "text": [
      "Loss1: 24.6888, Loss2: 9.8048, Loss3: 41.0542\n"
     ]
    },
    {
     "name": "stderr",
     "output_type": "stream",
     "text": [
      "Test_Loader: 100%|██████████| 288/288 [00:04<00:00, 71.57it/s]\n"
     ]
    },
    {
     "name": "stdout",
     "output_type": "stream",
     "text": [
      "Loss1: 25.1549, Loss2: 10.0646, Loss3: 39.5805\n"
     ]
    },
    {
     "name": "stderr",
     "output_type": "stream",
     "text": [
      "Test_Loader: 100%|██████████| 288/288 [00:04<00:00, 69.12it/s]\n"
     ]
    },
    {
     "name": "stdout",
     "output_type": "stream",
     "text": [
      "Loss1: 25.4868, Loss2: 10.4117, Loss3: 42.6250\n"
     ]
    },
    {
     "name": "stderr",
     "output_type": "stream",
     "text": [
      "Test_Loader: 100%|██████████| 288/288 [00:04<00:00, 70.73it/s]\n"
     ]
    },
    {
     "name": "stdout",
     "output_type": "stream",
     "text": [
      "Loss1: 25.0930, Loss2: 9.6913, Loss3: 39.8927\n"
     ]
    },
    {
     "name": "stderr",
     "output_type": "stream",
     "text": [
      "Test_Loader: 100%|██████████| 288/288 [00:04<00:00, 70.63it/s]\n"
     ]
    },
    {
     "name": "stdout",
     "output_type": "stream",
     "text": [
      "Loss1: 25.4432, Loss2: 10.0247, Loss3: 40.2655\n"
     ]
    },
    {
     "name": "stderr",
     "output_type": "stream",
     "text": [
      "Test_Loader: 100%|██████████| 288/288 [00:03<00:00, 78.84it/s]\n"
     ]
    },
    {
     "name": "stdout",
     "output_type": "stream",
     "text": [
      "Loss1: 25.2528, Loss2: 10.0486, Loss3: 38.0241\n"
     ]
    },
    {
     "name": "stderr",
     "output_type": "stream",
     "text": [
      "Test_Loader: 100%|██████████| 288/288 [00:03<00:00, 81.45it/s]\n"
     ]
    },
    {
     "name": "stdout",
     "output_type": "stream",
     "text": [
      "Loss1: 25.6750, Loss2: 10.6404, Loss3: 39.4249\n"
     ]
    },
    {
     "name": "stderr",
     "output_type": "stream",
     "text": [
      "Test_Loader: 100%|██████████| 288/288 [00:03<00:00, 79.38it/s]\n"
     ]
    },
    {
     "name": "stdout",
     "output_type": "stream",
     "text": [
      "Loss1: 25.5594, Loss2: 10.3808, Loss3: 38.9371\n"
     ]
    },
    {
     "name": "stderr",
     "output_type": "stream",
     "text": [
      "Test_Loader: 100%|██████████| 288/288 [00:03<00:00, 81.09it/s]\n"
     ]
    },
    {
     "name": "stdout",
     "output_type": "stream",
     "text": [
      "Loss1: 25.4284, Loss2: 10.2313, Loss3: 41.8105\n"
     ]
    },
    {
     "name": "stderr",
     "output_type": "stream",
     "text": [
      "Test_Loader: 100%|██████████| 288/288 [00:03<00:00, 76.29it/s]\n"
     ]
    },
    {
     "name": "stdout",
     "output_type": "stream",
     "text": [
      "Loss1: 25.4639, Loss2: 9.6686, Loss3: 39.6364\n"
     ]
    },
    {
     "name": "stderr",
     "output_type": "stream",
     "text": [
      "Test_Loader: 100%|██████████| 288/288 [00:03<00:00, 84.94it/s]\n"
     ]
    },
    {
     "name": "stdout",
     "output_type": "stream",
     "text": [
      "Loss1: 25.9095, Loss2: 10.7461, Loss3: 39.4503\n"
     ]
    },
    {
     "name": "stderr",
     "output_type": "stream",
     "text": [
      "Test_Loader: 100%|██████████| 288/288 [00:03<00:00, 88.51it/s]\n"
     ]
    },
    {
     "name": "stdout",
     "output_type": "stream",
     "text": [
      "Loss1: 25.5630, Loss2: 9.6161, Loss3: 38.4705\n"
     ]
    },
    {
     "name": "stderr",
     "output_type": "stream",
     "text": [
      "Test_Loader: 100%|██████████| 288/288 [00:03<00:00, 87.04it/s]\n"
     ]
    },
    {
     "name": "stdout",
     "output_type": "stream",
     "text": [
      "Loss1: 25.2996, Loss2: 10.6455, Loss3: 41.7103\n"
     ]
    },
    {
     "name": "stderr",
     "output_type": "stream",
     "text": [
      "Test_Loader: 100%|██████████| 288/288 [00:03<00:00, 82.76it/s]\n"
     ]
    },
    {
     "name": "stdout",
     "output_type": "stream",
     "text": [
      "Loss1: 25.5791, Loss2: 9.7684, Loss3: 39.4739\n"
     ]
    },
    {
     "name": "stderr",
     "output_type": "stream",
     "text": [
      "Test_Loader: 100%|██████████| 288/288 [00:03<00:00, 75.42it/s]\n"
     ]
    },
    {
     "name": "stdout",
     "output_type": "stream",
     "text": [
      "Loss1: 28.3743, Loss2: 10.3835, Loss3: 51.5180\n"
     ]
    },
    {
     "name": "stderr",
     "output_type": "stream",
     "text": [
      "Test_Loader: 100%|██████████| 288/288 [00:03<00:00, 74.26it/s]\n"
     ]
    },
    {
     "name": "stdout",
     "output_type": "stream",
     "text": [
      "Loss1: 26.7889, Loss2: 11.2847, Loss3: 43.0180\n"
     ]
    },
    {
     "name": "stderr",
     "output_type": "stream",
     "text": [
      "Test_Loader: 100%|██████████| 288/288 [00:03<00:00, 74.73it/s]\n"
     ]
    },
    {
     "name": "stdout",
     "output_type": "stream",
     "text": [
      "Loss1: 26.6749, Loss2: 10.6013, Loss3: 39.4847\n"
     ]
    },
    {
     "name": "stderr",
     "output_type": "stream",
     "text": [
      "Test_Loader: 100%|██████████| 288/288 [00:03<00:00, 75.56it/s]\n"
     ]
    },
    {
     "name": "stdout",
     "output_type": "stream",
     "text": [
      "Loss1: 26.1487, Loss2: 10.5074, Loss3: 40.5295\n"
     ]
    },
    {
     "name": "stderr",
     "output_type": "stream",
     "text": [
      "Test_Loader: 100%|██████████| 288/288 [00:03<00:00, 77.62it/s]\n"
     ]
    },
    {
     "name": "stdout",
     "output_type": "stream",
     "text": [
      "Loss1: 26.0576, Loss2: 10.0484, Loss3: 41.2561\n"
     ]
    },
    {
     "name": "stderr",
     "output_type": "stream",
     "text": [
      "Test_Loader: 100%|██████████| 288/288 [00:03<00:00, 80.04it/s]\n"
     ]
    },
    {
     "name": "stdout",
     "output_type": "stream",
     "text": [
      "Loss1: 26.3011, Loss2: 10.1129, Loss3: 40.2610\n"
     ]
    },
    {
     "name": "stderr",
     "output_type": "stream",
     "text": [
      "Test_Loader: 100%|██████████| 288/288 [00:03<00:00, 84.26it/s]\n"
     ]
    },
    {
     "name": "stdout",
     "output_type": "stream",
     "text": [
      "Loss1: 25.7548, Loss2: 10.5134, Loss3: 39.5720\n"
     ]
    },
    {
     "name": "stderr",
     "output_type": "stream",
     "text": [
      "Test_Loader: 100%|██████████| 288/288 [00:03<00:00, 82.71it/s]\n"
     ]
    },
    {
     "name": "stdout",
     "output_type": "stream",
     "text": [
      "Loss1: 26.6437, Loss2: 9.7231, Loss3: 38.6060\n"
     ]
    },
    {
     "name": "stderr",
     "output_type": "stream",
     "text": [
      "Test_Loader: 100%|██████████| 288/288 [00:03<00:00, 82.00it/s]\n"
     ]
    },
    {
     "name": "stdout",
     "output_type": "stream",
     "text": [
      "Loss1: 26.8265, Loss2: 9.6891, Loss3: 42.1282\n"
     ]
    },
    {
     "name": "stderr",
     "output_type": "stream",
     "text": [
      "Test_Loader: 100%|██████████| 288/288 [00:03<00:00, 84.36it/s]\n"
     ]
    },
    {
     "name": "stdout",
     "output_type": "stream",
     "text": [
      "Loss1: 27.4321, Loss2: 11.6911, Loss3: 42.2820\n"
     ]
    },
    {
     "name": "stderr",
     "output_type": "stream",
     "text": [
      "Test_Loader: 100%|██████████| 288/288 [00:03<00:00, 82.40it/s]\n"
     ]
    },
    {
     "name": "stdout",
     "output_type": "stream",
     "text": [
      "Loss1: 25.3473, Loss2: 9.0708, Loss3: 44.6515\n"
     ]
    },
    {
     "name": "stderr",
     "output_type": "stream",
     "text": [
      "Test_Loader: 100%|██████████| 288/288 [00:03<00:00, 75.89it/s]\n"
     ]
    },
    {
     "name": "stdout",
     "output_type": "stream",
     "text": [
      "Loss1: 25.6168, Loss2: 10.0940, Loss3: 38.8100\n"
     ]
    },
    {
     "name": "stderr",
     "output_type": "stream",
     "text": [
      "Test_Loader: 100%|██████████| 288/288 [00:03<00:00, 73.07it/s]\n"
     ]
    },
    {
     "name": "stdout",
     "output_type": "stream",
     "text": [
      "Loss1: 24.9366, Loss2: 9.8024, Loss3: 37.8269\n"
     ]
    },
    {
     "name": "stderr",
     "output_type": "stream",
     "text": [
      "Test_Loader: 100%|██████████| 288/288 [00:04<00:00, 71.01it/s]\n"
     ]
    },
    {
     "name": "stdout",
     "output_type": "stream",
     "text": [
      "Loss1: 25.7465, Loss2: 8.8111, Loss3: 39.8907\n"
     ]
    },
    {
     "name": "stderr",
     "output_type": "stream",
     "text": [
      "Test_Loader: 100%|██████████| 288/288 [00:03<00:00, 78.58it/s]\n"
     ]
    },
    {
     "name": "stdout",
     "output_type": "stream",
     "text": [
      "Loss1: 26.3493, Loss2: 11.2182, Loss3: 40.8358\n"
     ]
    },
    {
     "name": "stderr",
     "output_type": "stream",
     "text": [
      "Test_Loader: 100%|██████████| 288/288 [00:03<00:00, 85.01it/s]\n"
     ]
    },
    {
     "name": "stdout",
     "output_type": "stream",
     "text": [
      "Loss1: 24.9369, Loss2: 8.6646, Loss3: 35.9765\n"
     ]
    },
    {
     "name": "stderr",
     "output_type": "stream",
     "text": [
      "Test_Loader: 100%|██████████| 288/288 [00:03<00:00, 86.56it/s]\n"
     ]
    },
    {
     "name": "stdout",
     "output_type": "stream",
     "text": [
      "Loss1: 25.4707, Loss2: 10.0863, Loss3: 38.3938\n"
     ]
    },
    {
     "name": "stderr",
     "output_type": "stream",
     "text": [
      "Test_Loader: 100%|██████████| 288/288 [00:03<00:00, 80.72it/s]\n"
     ]
    },
    {
     "name": "stdout",
     "output_type": "stream",
     "text": [
      "Loss1: 25.8017, Loss2: 9.7137, Loss3: 34.9351\n"
     ]
    },
    {
     "name": "stderr",
     "output_type": "stream",
     "text": [
      "Test_Loader: 100%|██████████| 288/288 [00:03<00:00, 75.43it/s]\n"
     ]
    },
    {
     "name": "stdout",
     "output_type": "stream",
     "text": [
      "Loss1: 25.1696, Loss2: 9.1800, Loss3: 36.5480\n"
     ]
    },
    {
     "name": "stderr",
     "output_type": "stream",
     "text": [
      "Test_Loader: 100%|██████████| 288/288 [00:03<00:00, 76.74it/s]\n"
     ]
    },
    {
     "name": "stdout",
     "output_type": "stream",
     "text": [
      "Loss1: 25.3287, Loss2: 9.6110, Loss3: 40.3013\n"
     ]
    },
    {
     "name": "stderr",
     "output_type": "stream",
     "text": [
      "Test_Loader: 100%|██████████| 288/288 [00:03<00:00, 82.46it/s]\n"
     ]
    },
    {
     "name": "stdout",
     "output_type": "stream",
     "text": [
      "Loss1: 25.1642, Loss2: 9.4959, Loss3: 39.0952\n"
     ]
    },
    {
     "name": "stderr",
     "output_type": "stream",
     "text": [
      "Test_Loader: 100%|██████████| 288/288 [00:03<00:00, 77.11it/s]\n"
     ]
    },
    {
     "name": "stdout",
     "output_type": "stream",
     "text": [
      "Loss1: 25.4726, Loss2: 8.9463, Loss3: 35.2859\n"
     ]
    },
    {
     "name": "stderr",
     "output_type": "stream",
     "text": [
      "Test_Loader: 100%|██████████| 288/288 [00:03<00:00, 78.08it/s]\n"
     ]
    },
    {
     "name": "stdout",
     "output_type": "stream",
     "text": [
      "Loss1: 26.1391, Loss2: 9.4188, Loss3: 39.2944\n"
     ]
    },
    {
     "name": "stderr",
     "output_type": "stream",
     "text": [
      "Test_Loader: 100%|██████████| 288/288 [00:03<00:00, 76.59it/s]\n"
     ]
    },
    {
     "name": "stdout",
     "output_type": "stream",
     "text": [
      "Loss1: 25.4162, Loss2: 8.7793, Loss3: 36.5032\n"
     ]
    },
    {
     "name": "stderr",
     "output_type": "stream",
     "text": [
      "Test_Loader: 100%|██████████| 288/288 [00:03<00:00, 80.16it/s]\n"
     ]
    },
    {
     "name": "stdout",
     "output_type": "stream",
     "text": [
      "Loss1: 25.0363, Loss2: 9.1916, Loss3: 36.5096\n"
     ]
    },
    {
     "name": "stderr",
     "output_type": "stream",
     "text": [
      "Test_Loader: 100%|██████████| 288/288 [00:03<00:00, 79.38it/s]\n"
     ]
    },
    {
     "name": "stdout",
     "output_type": "stream",
     "text": [
      "Loss1: 25.0896, Loss2: 8.6589, Loss3: 35.2006\n"
     ]
    },
    {
     "name": "stderr",
     "output_type": "stream",
     "text": [
      "Test_Loader: 100%|██████████| 288/288 [00:03<00:00, 81.15it/s]\n"
     ]
    },
    {
     "name": "stdout",
     "output_type": "stream",
     "text": [
      "Loss1: 25.9494, Loss2: 9.3148, Loss3: 37.4264\n"
     ]
    },
    {
     "name": "stderr",
     "output_type": "stream",
     "text": [
      "Test_Loader: 100%|██████████| 288/288 [00:03<00:00, 81.82it/s]\n"
     ]
    },
    {
     "name": "stdout",
     "output_type": "stream",
     "text": [
      "Loss1: 25.2640, Loss2: 8.6647, Loss3: 35.1489\n"
     ]
    },
    {
     "name": "stderr",
     "output_type": "stream",
     "text": [
      "Test_Loader: 100%|██████████| 288/288 [00:03<00:00, 82.84it/s]\n"
     ]
    },
    {
     "name": "stdout",
     "output_type": "stream",
     "text": [
      "Loss1: 25.3080, Loss2: 9.8064, Loss3: 36.1206\n"
     ]
    },
    {
     "name": "stderr",
     "output_type": "stream",
     "text": [
      "Test_Loader: 100%|██████████| 288/288 [00:03<00:00, 81.40it/s]\n"
     ]
    },
    {
     "name": "stdout",
     "output_type": "stream",
     "text": [
      "Loss1: 24.9832, Loss2: 8.5909, Loss3: 35.0720\n"
     ]
    },
    {
     "name": "stderr",
     "output_type": "stream",
     "text": [
      "Test_Loader: 100%|██████████| 288/288 [00:03<00:00, 80.38it/s]\n"
     ]
    },
    {
     "name": "stdout",
     "output_type": "stream",
     "text": [
      "Loss1: 26.1956, Loss2: 10.6712, Loss3: 40.6664\n"
     ]
    },
    {
     "name": "stderr",
     "output_type": "stream",
     "text": [
      "Test_Loader: 100%|██████████| 288/288 [00:03<00:00, 80.07it/s]\n"
     ]
    },
    {
     "name": "stdout",
     "output_type": "stream",
     "text": [
      "Loss1: 25.7784, Loss2: 9.4227, Loss3: 42.1409\n"
     ]
    },
    {
     "name": "stderr",
     "output_type": "stream",
     "text": [
      "Test_Loader: 100%|██████████| 288/288 [00:03<00:00, 83.60it/s]\n"
     ]
    },
    {
     "name": "stdout",
     "output_type": "stream",
     "text": [
      "Loss1: 25.2544, Loss2: 9.5704, Loss3: 36.7818\n"
     ]
    },
    {
     "name": "stderr",
     "output_type": "stream",
     "text": [
      "Test_Loader: 100%|██████████| 288/288 [00:03<00:00, 87.17it/s]\n"
     ]
    },
    {
     "name": "stdout",
     "output_type": "stream",
     "text": [
      "Loss1: 23.4511, Loss2: 8.9591, Loss3: 35.8156\n"
     ]
    },
    {
     "name": "stderr",
     "output_type": "stream",
     "text": [
      "Test_Loader: 100%|██████████| 288/288 [00:03<00:00, 85.21it/s]\n"
     ]
    },
    {
     "name": "stdout",
     "output_type": "stream",
     "text": [
      "Loss1: 23.5956, Loss2: 9.0050, Loss3: 35.5383\n"
     ]
    },
    {
     "name": "stderr",
     "output_type": "stream",
     "text": [
      "Test_Loader: 100%|██████████| 288/288 [00:03<00:00, 73.17it/s]\n"
     ]
    },
    {
     "name": "stdout",
     "output_type": "stream",
     "text": [
      "Loss1: 24.0174, Loss2: 9.2393, Loss3: 36.2532\n"
     ]
    },
    {
     "name": "stderr",
     "output_type": "stream",
     "text": [
      "Test_Loader: 100%|██████████| 288/288 [00:03<00:00, 73.54it/s]\n"
     ]
    },
    {
     "name": "stdout",
     "output_type": "stream",
     "text": [
      "Loss1: 23.5123, Loss2: 8.6345, Loss3: 35.6054\n"
     ]
    },
    {
     "name": "stderr",
     "output_type": "stream",
     "text": [
      "Test_Loader: 100%|██████████| 288/288 [00:03<00:00, 78.30it/s]\n"
     ]
    },
    {
     "name": "stdout",
     "output_type": "stream",
     "text": [
      "Loss1: 23.7519, Loss2: 8.3197, Loss3: 34.1967\n"
     ]
    },
    {
     "name": "stderr",
     "output_type": "stream",
     "text": [
      "Test_Loader: 100%|██████████| 288/288 [00:03<00:00, 84.19it/s]\n"
     ]
    },
    {
     "name": "stdout",
     "output_type": "stream",
     "text": [
      "Loss1: 23.5005, Loss2: 8.7833, Loss3: 35.1133\n"
     ]
    },
    {
     "name": "stderr",
     "output_type": "stream",
     "text": [
      "Test_Loader: 100%|██████████| 288/288 [00:03<00:00, 83.26it/s]\n"
     ]
    },
    {
     "name": "stdout",
     "output_type": "stream",
     "text": [
      "Loss1: 23.9991, Loss2: 8.0341, Loss3: 33.9654\n"
     ]
    },
    {
     "name": "stderr",
     "output_type": "stream",
     "text": [
      "Test_Loader: 100%|██████████| 288/288 [00:03<00:00, 83.29it/s]\n"
     ]
    },
    {
     "name": "stdout",
     "output_type": "stream",
     "text": [
      "Loss1: 24.3357, Loss2: 8.3700, Loss3: 34.6922\n"
     ]
    },
    {
     "name": "stderr",
     "output_type": "stream",
     "text": [
      "Test_Loader: 100%|██████████| 288/288 [00:03<00:00, 82.93it/s]\n"
     ]
    },
    {
     "name": "stdout",
     "output_type": "stream",
     "text": [
      "Loss1: 23.9987, Loss2: 8.0456, Loss3: 34.0485\n"
     ]
    },
    {
     "name": "stderr",
     "output_type": "stream",
     "text": [
      "Test_Loader: 100%|██████████| 288/288 [00:03<00:00, 83.34it/s]\n"
     ]
    },
    {
     "name": "stdout",
     "output_type": "stream",
     "text": [
      "Loss1: 24.4350, Loss2: 8.0772, Loss3: 33.9533\n"
     ]
    },
    {
     "name": "stderr",
     "output_type": "stream",
     "text": [
      "Test_Loader: 100%|██████████| 288/288 [00:03<00:00, 82.74it/s]\n"
     ]
    },
    {
     "name": "stdout",
     "output_type": "stream",
     "text": [
      "Loss1: 24.8807, Loss2: 8.2455, Loss3: 32.6840\n"
     ]
    },
    {
     "name": "stderr",
     "output_type": "stream",
     "text": [
      "Test_Loader: 100%|██████████| 288/288 [00:03<00:00, 78.48it/s]\n"
     ]
    },
    {
     "name": "stdout",
     "output_type": "stream",
     "text": [
      "Loss1: 24.2902, Loss2: 8.0165, Loss3: 34.1591\n"
     ]
    },
    {
     "name": "stderr",
     "output_type": "stream",
     "text": [
      "Test_Loader: 100%|██████████| 288/288 [00:03<00:00, 79.01it/s]\n"
     ]
    },
    {
     "name": "stdout",
     "output_type": "stream",
     "text": [
      "Loss1: 24.1859, Loss2: 7.8123, Loss3: 33.4842\n"
     ]
    },
    {
     "name": "stderr",
     "output_type": "stream",
     "text": [
      "Test_Loader: 100%|██████████| 288/288 [00:03<00:00, 80.27it/s]\n"
     ]
    },
    {
     "name": "stdout",
     "output_type": "stream",
     "text": [
      "Loss1: 24.5909, Loss2: 8.3229, Loss3: 32.6670\n"
     ]
    },
    {
     "name": "stderr",
     "output_type": "stream",
     "text": [
      "Test_Loader: 100%|██████████| 288/288 [00:03<00:00, 81.13it/s]\n"
     ]
    },
    {
     "name": "stdout",
     "output_type": "stream",
     "text": [
      "Loss1: 25.1238, Loss2: 8.0472, Loss3: 32.8053\n"
     ]
    },
    {
     "name": "stderr",
     "output_type": "stream",
     "text": [
      "Test_Loader: 100%|██████████| 288/288 [00:03<00:00, 77.05it/s]\n"
     ]
    },
    {
     "name": "stdout",
     "output_type": "stream",
     "text": [
      "Loss1: 25.2594, Loss2: 8.8056, Loss3: 34.6679\n"
     ]
    },
    {
     "name": "stderr",
     "output_type": "stream",
     "text": [
      "Test_Loader: 100%|██████████| 288/288 [00:03<00:00, 82.26it/s]\n"
     ]
    },
    {
     "name": "stdout",
     "output_type": "stream",
     "text": [
      "Loss1: 24.1866, Loss2: 7.9400, Loss3: 33.6783\n"
     ]
    },
    {
     "name": "stderr",
     "output_type": "stream",
     "text": [
      "Test_Loader: 100%|██████████| 288/288 [00:03<00:00, 83.94it/s]\n"
     ]
    },
    {
     "name": "stdout",
     "output_type": "stream",
     "text": [
      "Loss1: 25.1192, Loss2: 9.0016, Loss3: 37.3553\n"
     ]
    },
    {
     "name": "stderr",
     "output_type": "stream",
     "text": [
      "Test_Loader: 100%|██████████| 288/288 [00:03<00:00, 86.52it/s]\n"
     ]
    },
    {
     "name": "stdout",
     "output_type": "stream",
     "text": [
      "Loss1: 24.7257, Loss2: 8.3159, Loss3: 32.5828\n"
     ]
    },
    {
     "name": "stderr",
     "output_type": "stream",
     "text": [
      "Test_Loader: 100%|██████████| 288/288 [00:03<00:00, 83.67it/s]\n"
     ]
    },
    {
     "name": "stdout",
     "output_type": "stream",
     "text": [
      "Loss1: 24.0012, Loss2: 8.7724, Loss3: 35.5177\n"
     ]
    },
    {
     "name": "stderr",
     "output_type": "stream",
     "text": [
      "Test_Loader: 100%|██████████| 288/288 [00:03<00:00, 79.73it/s]\n"
     ]
    },
    {
     "name": "stdout",
     "output_type": "stream",
     "text": [
      "Loss1: 23.8642, Loss2: 7.9231, Loss3: 32.5718\n"
     ]
    },
    {
     "name": "stderr",
     "output_type": "stream",
     "text": [
      "Test_Loader: 100%|██████████| 288/288 [00:03<00:00, 77.53it/s]\n"
     ]
    },
    {
     "name": "stdout",
     "output_type": "stream",
     "text": [
      "Loss1: 23.5684, Loss2: 8.2245, Loss3: 35.4729\n"
     ]
    },
    {
     "name": "stderr",
     "output_type": "stream",
     "text": [
      "Test_Loader: 100%|██████████| 288/288 [00:03<00:00, 84.66it/s]\n"
     ]
    },
    {
     "name": "stdout",
     "output_type": "stream",
     "text": [
      "Loss1: 22.9223, Loss2: 6.9611, Loss3: 31.0876\n"
     ]
    },
    {
     "name": "stderr",
     "output_type": "stream",
     "text": [
      "Test_Loader: 100%|██████████| 288/288 [00:03<00:00, 86.89it/s]\n"
     ]
    },
    {
     "name": "stdout",
     "output_type": "stream",
     "text": [
      "Loss1: 22.7888, Loss2: 7.8038, Loss3: 31.4194\n"
     ]
    },
    {
     "name": "stderr",
     "output_type": "stream",
     "text": [
      "Test_Loader: 100%|██████████| 288/288 [00:03<00:00, 85.64it/s]\n"
     ]
    },
    {
     "name": "stdout",
     "output_type": "stream",
     "text": [
      "Loss1: 22.7198, Loss2: 7.0381, Loss3: 30.0030\n"
     ]
    },
    {
     "name": "stderr",
     "output_type": "stream",
     "text": [
      "Test_Loader: 100%|██████████| 288/288 [00:03<00:00, 81.13it/s]\n"
     ]
    },
    {
     "name": "stdout",
     "output_type": "stream",
     "text": [
      "Loss1: 23.4367, Loss2: 7.0934, Loss3: 31.8039\n"
     ]
    },
    {
     "name": "stderr",
     "output_type": "stream",
     "text": [
      "Test_Loader: 100%|██████████| 288/288 [00:03<00:00, 78.49it/s]\n"
     ]
    },
    {
     "name": "stdout",
     "output_type": "stream",
     "text": [
      "Loss1: 22.3954, Loss2: 6.8416, Loss3: 30.1921\n"
     ]
    },
    {
     "name": "stderr",
     "output_type": "stream",
     "text": [
      "Test_Loader: 100%|██████████| 288/288 [00:03<00:00, 78.65it/s]\n"
     ]
    },
    {
     "name": "stdout",
     "output_type": "stream",
     "text": [
      "Loss1: 22.0202, Loss2: 6.7339, Loss3: 29.9906\n"
     ]
    },
    {
     "name": "stderr",
     "output_type": "stream",
     "text": [
      "Test_Loader: 100%|██████████| 288/288 [00:03<00:00, 80.90it/s]\n"
     ]
    },
    {
     "name": "stdout",
     "output_type": "stream",
     "text": [
      "Loss1: 22.5327, Loss2: 6.3409, Loss3: 29.8639\n"
     ]
    },
    {
     "name": "stderr",
     "output_type": "stream",
     "text": [
      "Test_Loader: 100%|██████████| 288/288 [00:03<00:00, 82.18it/s]\n"
     ]
    },
    {
     "name": "stdout",
     "output_type": "stream",
     "text": [
      "Loss1: 20.4981, Loss2: 6.5516, Loss3: 26.8624\n"
     ]
    },
    {
     "name": "stderr",
     "output_type": "stream",
     "text": [
      "Test_Loader: 100%|██████████| 288/288 [00:03<00:00, 79.71it/s]\n"
     ]
    },
    {
     "name": "stdout",
     "output_type": "stream",
     "text": [
      "Loss1: 20.7066, Loss2: 6.1726, Loss3: 27.3425\n"
     ]
    },
    {
     "name": "stderr",
     "output_type": "stream",
     "text": [
      "Test_Loader: 100%|██████████| 288/288 [00:03<00:00, 85.61it/s]\n"
     ]
    },
    {
     "name": "stdout",
     "output_type": "stream",
     "text": [
      "Loss1: 21.1031, Loss2: 7.8229, Loss3: 29.1957\n"
     ]
    },
    {
     "name": "stderr",
     "output_type": "stream",
     "text": [
      "Test_Loader: 100%|██████████| 288/288 [00:03<00:00, 86.46it/s]\n"
     ]
    },
    {
     "name": "stdout",
     "output_type": "stream",
     "text": [
      "Loss1: 20.0053, Loss2: 6.6535, Loss3: 27.2589\n"
     ]
    },
    {
     "name": "stderr",
     "output_type": "stream",
     "text": [
      "Test_Loader: 100%|██████████| 288/288 [00:03<00:00, 83.84it/s]\n"
     ]
    },
    {
     "name": "stdout",
     "output_type": "stream",
     "text": [
      "Loss1: 20.1855, Loss2: 7.1040, Loss3: 27.7301\n"
     ]
    },
    {
     "name": "stderr",
     "output_type": "stream",
     "text": [
      "Test_Loader: 100%|██████████| 288/288 [00:03<00:00, 86.01it/s]\n"
     ]
    },
    {
     "name": "stdout",
     "output_type": "stream",
     "text": [
      "Loss1: 19.6030, Loss2: 6.7710, Loss3: 28.2027\n"
     ]
    },
    {
     "name": "stderr",
     "output_type": "stream",
     "text": [
      "Test_Loader: 100%|██████████| 288/288 [00:03<00:00, 86.12it/s]\n"
     ]
    },
    {
     "name": "stdout",
     "output_type": "stream",
     "text": [
      "Loss1: 19.5306, Loss2: 6.4483, Loss3: 26.7371\n"
     ]
    },
    {
     "name": "stderr",
     "output_type": "stream",
     "text": [
      "Test_Loader: 100%|██████████| 288/288 [00:03<00:00, 86.02it/s]\n"
     ]
    },
    {
     "name": "stdout",
     "output_type": "stream",
     "text": [
      "Loss1: 18.5545, Loss2: 6.6844, Loss3: 26.8792\n"
     ]
    },
    {
     "name": "stderr",
     "output_type": "stream",
     "text": [
      "Test_Loader: 100%|██████████| 288/288 [00:03<00:00, 77.20it/s]\n"
     ]
    },
    {
     "name": "stdout",
     "output_type": "stream",
     "text": [
      "Loss1: 19.0746, Loss2: 7.0917, Loss3: 31.4696\n"
     ]
    },
    {
     "name": "stderr",
     "output_type": "stream",
     "text": [
      "Test_Loader: 100%|██████████| 288/288 [00:03<00:00, 75.98it/s]\n"
     ]
    },
    {
     "name": "stdout",
     "output_type": "stream",
     "text": [
      "Loss1: 19.9681, Loss2: 7.6884, Loss3: 30.2134\n"
     ]
    },
    {
     "name": "stderr",
     "output_type": "stream",
     "text": [
      "Test_Loader: 100%|██████████| 288/288 [00:03<00:00, 76.27it/s]\n"
     ]
    },
    {
     "name": "stdout",
     "output_type": "stream",
     "text": [
      "Loss1: 19.5256, Loss2: 6.8207, Loss3: 32.5143\n"
     ]
    },
    {
     "name": "stderr",
     "output_type": "stream",
     "text": [
      "Test_Loader: 100%|██████████| 288/288 [00:03<00:00, 79.62it/s]\n"
     ]
    },
    {
     "name": "stdout",
     "output_type": "stream",
     "text": [
      "Loss1: 19.2842, Loss2: 6.5481, Loss3: 32.1627\n"
     ]
    },
    {
     "name": "stderr",
     "output_type": "stream",
     "text": [
      "Test_Loader: 100%|██████████| 288/288 [00:03<00:00, 73.77it/s]\n"
     ]
    },
    {
     "name": "stdout",
     "output_type": "stream",
     "text": [
      "Loss1: 18.8572, Loss2: 7.0914, Loss3: 31.5515\n"
     ]
    },
    {
     "name": "stderr",
     "output_type": "stream",
     "text": [
      "Test_Loader: 100%|██████████| 288/288 [00:03<00:00, 74.51it/s]\n"
     ]
    },
    {
     "name": "stdout",
     "output_type": "stream",
     "text": [
      "Loss1: 17.7829, Loss2: 6.1263, Loss3: 29.1441\n"
     ]
    },
    {
     "name": "stderr",
     "output_type": "stream",
     "text": [
      "Test_Loader: 100%|██████████| 288/288 [00:03<00:00, 72.07it/s]\n"
     ]
    },
    {
     "name": "stdout",
     "output_type": "stream",
     "text": [
      "Loss1: 18.7957, Loss2: 7.0538, Loss3: 29.2148\n"
     ]
    },
    {
     "name": "stderr",
     "output_type": "stream",
     "text": [
      "Test_Loader: 100%|██████████| 288/288 [00:03<00:00, 72.73it/s]\n"
     ]
    },
    {
     "name": "stdout",
     "output_type": "stream",
     "text": [
      "Loss1: 18.3536, Loss2: 6.2426, Loss3: 27.0685\n"
     ]
    },
    {
     "name": "stderr",
     "output_type": "stream",
     "text": [
      "Test_Loader: 100%|██████████| 288/288 [00:03<00:00, 74.69it/s]\n"
     ]
    },
    {
     "name": "stdout",
     "output_type": "stream",
     "text": [
      "Loss1: 17.6015, Loss2: 6.0697, Loss3: 26.9601\n"
     ]
    },
    {
     "name": "stderr",
     "output_type": "stream",
     "text": [
      "Test_Loader: 100%|██████████| 288/288 [00:03<00:00, 76.40it/s]\n"
     ]
    },
    {
     "name": "stdout",
     "output_type": "stream",
     "text": [
      "Loss1: 17.6719, Loss2: 6.0225, Loss3: 26.7025\n"
     ]
    },
    {
     "name": "stderr",
     "output_type": "stream",
     "text": [
      "Test_Loader: 100%|██████████| 288/288 [00:03<00:00, 77.25it/s]\n"
     ]
    },
    {
     "name": "stdout",
     "output_type": "stream",
     "text": [
      "Loss1: 18.5291, Loss2: 6.5076, Loss3: 31.3110\n"
     ]
    },
    {
     "name": "stderr",
     "output_type": "stream",
     "text": [
      "Test_Loader: 100%|██████████| 288/288 [00:03<00:00, 75.81it/s]\n"
     ]
    },
    {
     "name": "stdout",
     "output_type": "stream",
     "text": [
      "Loss1: 17.9832, Loss2: 6.4129, Loss3: 28.6087\n"
     ]
    },
    {
     "name": "stderr",
     "output_type": "stream",
     "text": [
      "Test_Loader: 100%|██████████| 288/288 [00:03<00:00, 76.03it/s]\n"
     ]
    },
    {
     "name": "stdout",
     "output_type": "stream",
     "text": [
      "Loss1: 18.2539, Loss2: 6.3831, Loss3: 29.0387\n"
     ]
    },
    {
     "name": "stderr",
     "output_type": "stream",
     "text": [
      "Test_Loader: 100%|██████████| 288/288 [00:03<00:00, 74.71it/s]\n"
     ]
    },
    {
     "name": "stdout",
     "output_type": "stream",
     "text": [
      "Loss1: 17.9650, Loss2: 5.8383, Loss3: 26.9446\n"
     ]
    },
    {
     "name": "stderr",
     "output_type": "stream",
     "text": [
      "Test_Loader: 100%|██████████| 288/288 [00:03<00:00, 79.01it/s]\n"
     ]
    },
    {
     "name": "stdout",
     "output_type": "stream",
     "text": [
      "Loss1: 18.3850, Loss2: 6.3654, Loss3: 27.2096\n"
     ]
    },
    {
     "name": "stderr",
     "output_type": "stream",
     "text": [
      "Test_Loader: 100%|██████████| 288/288 [00:03<00:00, 79.10it/s]\n"
     ]
    },
    {
     "name": "stdout",
     "output_type": "stream",
     "text": [
      "Loss1: 17.8534, Loss2: 6.4955, Loss3: 27.8211\n"
     ]
    },
    {
     "name": "stderr",
     "output_type": "stream",
     "text": [
      "Test_Loader: 100%|██████████| 288/288 [00:03<00:00, 72.69it/s]\n"
     ]
    },
    {
     "name": "stdout",
     "output_type": "stream",
     "text": [
      "Loss1: 17.5017, Loss2: 6.6373, Loss3: 31.5976\n"
     ]
    },
    {
     "name": "stderr",
     "output_type": "stream",
     "text": [
      "Test_Loader: 100%|██████████| 288/288 [00:04<00:00, 68.93it/s]\n"
     ]
    },
    {
     "name": "stdout",
     "output_type": "stream",
     "text": [
      "Loss1: 18.1122, Loss2: 5.8845, Loss3: 31.0338\n"
     ]
    },
    {
     "name": "stderr",
     "output_type": "stream",
     "text": [
      "Test_Loader: 100%|██████████| 288/288 [00:04<00:00, 66.87it/s]\n"
     ]
    },
    {
     "name": "stdout",
     "output_type": "stream",
     "text": [
      "Loss1: 18.0182, Loss2: 7.0302, Loss3: 34.2668\n"
     ]
    },
    {
     "name": "stderr",
     "output_type": "stream",
     "text": [
      "Test_Loader: 100%|██████████| 288/288 [00:04<00:00, 66.62it/s]\n"
     ]
    },
    {
     "name": "stdout",
     "output_type": "stream",
     "text": [
      "Loss1: 17.4509, Loss2: 6.7348, Loss3: 29.1738\n"
     ]
    },
    {
     "name": "stderr",
     "output_type": "stream",
     "text": [
      "Test_Loader: 100%|██████████| 288/288 [00:04<00:00, 71.00it/s]\n"
     ]
    },
    {
     "name": "stdout",
     "output_type": "stream",
     "text": [
      "Loss1: 17.3883, Loss2: 6.4286, Loss3: 27.7326\n"
     ]
    },
    {
     "name": "stderr",
     "output_type": "stream",
     "text": [
      "Test_Loader: 100%|██████████| 288/288 [00:04<00:00, 71.82it/s]\n"
     ]
    },
    {
     "name": "stdout",
     "output_type": "stream",
     "text": [
      "Loss1: 17.6485, Loss2: 6.7889, Loss3: 29.5336\n"
     ]
    },
    {
     "name": "stderr",
     "output_type": "stream",
     "text": [
      "Test_Loader: 100%|██████████| 288/288 [00:04<00:00, 69.26it/s]\n"
     ]
    },
    {
     "name": "stdout",
     "output_type": "stream",
     "text": [
      "Loss1: 17.6067, Loss2: 6.0192, Loss3: 28.1925\n"
     ]
    },
    {
     "name": "stderr",
     "output_type": "stream",
     "text": [
      "Test_Loader: 100%|██████████| 288/288 [00:04<00:00, 67.46it/s]\n"
     ]
    },
    {
     "name": "stdout",
     "output_type": "stream",
     "text": [
      "Loss1: 17.1233, Loss2: 6.0128, Loss3: 26.7613\n"
     ]
    },
    {
     "name": "stderr",
     "output_type": "stream",
     "text": [
      "Test_Loader: 100%|██████████| 288/288 [00:03<00:00, 75.24it/s]\n"
     ]
    },
    {
     "name": "stdout",
     "output_type": "stream",
     "text": [
      "Loss1: 17.1373, Loss2: 6.1204, Loss3: 26.1920\n"
     ]
    },
    {
     "name": "stderr",
     "output_type": "stream",
     "text": [
      "Test_Loader: 100%|██████████| 288/288 [00:03<00:00, 80.18it/s]\n"
     ]
    },
    {
     "name": "stdout",
     "output_type": "stream",
     "text": [
      "Loss1: 17.1432, Loss2: 6.1417, Loss3: 26.5841\n"
     ]
    },
    {
     "name": "stderr",
     "output_type": "stream",
     "text": [
      "Test_Loader: 100%|██████████| 288/288 [00:03<00:00, 78.09it/s]\n"
     ]
    },
    {
     "name": "stdout",
     "output_type": "stream",
     "text": [
      "Loss1: 17.2387, Loss2: 6.3173, Loss3: 28.2331\n"
     ]
    },
    {
     "name": "stderr",
     "output_type": "stream",
     "text": [
      "Test_Loader: 100%|██████████| 288/288 [00:03<00:00, 78.58it/s]\n"
     ]
    },
    {
     "name": "stdout",
     "output_type": "stream",
     "text": [
      "Loss1: 16.4984, Loss2: 6.1094, Loss3: 25.8451\n"
     ]
    },
    {
     "name": "stderr",
     "output_type": "stream",
     "text": [
      "Test_Loader: 100%|██████████| 288/288 [00:03<00:00, 77.34it/s]\n"
     ]
    },
    {
     "name": "stdout",
     "output_type": "stream",
     "text": [
      "Loss1: 16.2859, Loss2: 5.9562, Loss3: 26.2908\n"
     ]
    },
    {
     "name": "stderr",
     "output_type": "stream",
     "text": [
      "Test_Loader: 100%|██████████| 288/288 [00:03<00:00, 84.80it/s]\n"
     ]
    },
    {
     "name": "stdout",
     "output_type": "stream",
     "text": [
      "Loss1: 16.1542, Loss2: 5.7214, Loss3: 26.0778\n"
     ]
    },
    {
     "name": "stderr",
     "output_type": "stream",
     "text": [
      "Test_Loader: 100%|██████████| 288/288 [00:03<00:00, 78.50it/s]\n"
     ]
    },
    {
     "name": "stdout",
     "output_type": "stream",
     "text": [
      "Loss1: 16.0124, Loss2: 5.8980, Loss3: 27.9040\n"
     ]
    },
    {
     "name": "stderr",
     "output_type": "stream",
     "text": [
      "Test_Loader: 100%|██████████| 288/288 [00:03<00:00, 81.36it/s]\n"
     ]
    },
    {
     "name": "stdout",
     "output_type": "stream",
     "text": [
      "Loss1: 16.1008, Loss2: 5.6098, Loss3: 25.5047\n"
     ]
    },
    {
     "name": "stderr",
     "output_type": "stream",
     "text": [
      "Test_Loader: 100%|██████████| 288/288 [00:03<00:00, 82.53it/s]\n"
     ]
    },
    {
     "name": "stdout",
     "output_type": "stream",
     "text": [
      "Loss1: 16.5813, Loss2: 5.5092, Loss3: 26.8151\n"
     ]
    },
    {
     "name": "stderr",
     "output_type": "stream",
     "text": [
      "Test_Loader: 100%|██████████| 288/288 [00:03<00:00, 78.48it/s]\n"
     ]
    },
    {
     "name": "stdout",
     "output_type": "stream",
     "text": [
      "Loss1: 15.5638, Loss2: 5.5805, Loss3: 24.4379\n"
     ]
    },
    {
     "name": "stderr",
     "output_type": "stream",
     "text": [
      "Test_Loader: 100%|██████████| 288/288 [00:03<00:00, 77.42it/s]\n"
     ]
    },
    {
     "name": "stdout",
     "output_type": "stream",
     "text": [
      "Loss1: 16.2086, Loss2: 6.4604, Loss3: 30.9917\n"
     ]
    },
    {
     "name": "stderr",
     "output_type": "stream",
     "text": [
      "Test_Loader: 100%|██████████| 288/288 [00:03<00:00, 73.90it/s]\n"
     ]
    },
    {
     "name": "stdout",
     "output_type": "stream",
     "text": [
      "Loss1: 15.8823, Loss2: 5.8768, Loss3: 28.3500\n"
     ]
    },
    {
     "name": "stderr",
     "output_type": "stream",
     "text": [
      "Test_Loader: 100%|██████████| 288/288 [00:03<00:00, 76.25it/s]\n"
     ]
    },
    {
     "name": "stdout",
     "output_type": "stream",
     "text": [
      "Loss1: 15.8059, Loss2: 5.6973, Loss3: 27.9178\n"
     ]
    },
    {
     "name": "stderr",
     "output_type": "stream",
     "text": [
      "Test_Loader: 100%|██████████| 288/288 [00:03<00:00, 80.65it/s]\n"
     ]
    },
    {
     "name": "stdout",
     "output_type": "stream",
     "text": [
      "Loss1: 15.4985, Loss2: 5.5185, Loss3: 25.0011\n"
     ]
    },
    {
     "name": "stderr",
     "output_type": "stream",
     "text": [
      "Test_Loader: 100%|██████████| 288/288 [00:03<00:00, 83.99it/s]\n"
     ]
    },
    {
     "name": "stdout",
     "output_type": "stream",
     "text": [
      "Loss1: 15.4560, Loss2: 5.7061, Loss3: 24.6037\n"
     ]
    },
    {
     "name": "stderr",
     "output_type": "stream",
     "text": [
      "Test_Loader: 100%|██████████| 288/288 [00:03<00:00, 83.58it/s]\n"
     ]
    },
    {
     "name": "stdout",
     "output_type": "stream",
     "text": [
      "Loss1: 15.2541, Loss2: 5.2254, Loss3: 24.5982\n"
     ]
    },
    {
     "name": "stderr",
     "output_type": "stream",
     "text": [
      "Test_Loader: 100%|██████████| 288/288 [00:03<00:00, 76.91it/s]\n"
     ]
    },
    {
     "name": "stdout",
     "output_type": "stream",
     "text": [
      "Loss1: 15.4271, Loss2: 5.3654, Loss3: 26.4344\n"
     ]
    },
    {
     "name": "stderr",
     "output_type": "stream",
     "text": [
      "Test_Loader: 100%|██████████| 288/288 [00:03<00:00, 83.59it/s]\n"
     ]
    },
    {
     "name": "stdout",
     "output_type": "stream",
     "text": [
      "Loss1: 15.2378, Loss2: 6.0077, Loss3: 27.0787\n"
     ]
    },
    {
     "name": "stderr",
     "output_type": "stream",
     "text": [
      "Test_Loader: 100%|██████████| 288/288 [00:03<00:00, 82.71it/s]\n"
     ]
    },
    {
     "name": "stdout",
     "output_type": "stream",
     "text": [
      "Loss1: 14.7855, Loss2: 5.4900, Loss3: 24.8825\n"
     ]
    },
    {
     "name": "stderr",
     "output_type": "stream",
     "text": [
      "Test_Loader: 100%|██████████| 288/288 [00:03<00:00, 81.50it/s]\n"
     ]
    },
    {
     "name": "stdout",
     "output_type": "stream",
     "text": [
      "Loss1: 15.3925, Loss2: 6.1209, Loss3: 29.2332\n"
     ]
    },
    {
     "name": "stderr",
     "output_type": "stream",
     "text": [
      "Test_Loader: 100%|██████████| 288/288 [00:03<00:00, 82.93it/s]\n"
     ]
    },
    {
     "name": "stdout",
     "output_type": "stream",
     "text": [
      "Loss1: 15.3990, Loss2: 5.8605, Loss3: 28.4965\n"
     ]
    },
    {
     "name": "stderr",
     "output_type": "stream",
     "text": [
      "Test_Loader: 100%|██████████| 288/288 [00:03<00:00, 75.85it/s]\n"
     ]
    },
    {
     "name": "stdout",
     "output_type": "stream",
     "text": [
      "Loss1: 15.8007, Loss2: 6.3852, Loss3: 29.7124\n"
     ]
    },
    {
     "name": "stderr",
     "output_type": "stream",
     "text": [
      "Test_Loader: 100%|██████████| 288/288 [00:03<00:00, 74.65it/s]\n"
     ]
    },
    {
     "name": "stdout",
     "output_type": "stream",
     "text": [
      "Loss1: 16.0027, Loss2: 5.8760, Loss3: 27.7339\n"
     ]
    },
    {
     "name": "stderr",
     "output_type": "stream",
     "text": [
      "Test_Loader: 100%|██████████| 288/288 [00:03<00:00, 73.57it/s]\n"
     ]
    },
    {
     "name": "stdout",
     "output_type": "stream",
     "text": [
      "Loss1: 15.1970, Loss2: 6.1148, Loss3: 28.2031\n"
     ]
    },
    {
     "name": "stderr",
     "output_type": "stream",
     "text": [
      "Test_Loader: 100%|██████████| 288/288 [00:03<00:00, 78.07it/s]\n"
     ]
    },
    {
     "name": "stdout",
     "output_type": "stream",
     "text": [
      "Loss1: 15.5529, Loss2: 6.4186, Loss3: 27.6416\n"
     ]
    },
    {
     "name": "stderr",
     "output_type": "stream",
     "text": [
      "Test_Loader: 100%|██████████| 288/288 [00:03<00:00, 78.21it/s]\n"
     ]
    },
    {
     "name": "stdout",
     "output_type": "stream",
     "text": [
      "Loss1: 14.9448, Loss2: 5.6883, Loss3: 25.0517\n"
     ]
    },
    {
     "name": "stderr",
     "output_type": "stream",
     "text": [
      "Test_Loader: 100%|██████████| 288/288 [00:03<00:00, 82.32it/s]\n"
     ]
    },
    {
     "name": "stdout",
     "output_type": "stream",
     "text": [
      "Loss1: 14.7274, Loss2: 5.6395, Loss3: 24.7702\n"
     ]
    },
    {
     "name": "stderr",
     "output_type": "stream",
     "text": [
      "Test_Loader: 100%|██████████| 288/288 [00:03<00:00, 79.82it/s]\n"
     ]
    },
    {
     "name": "stdout",
     "output_type": "stream",
     "text": [
      "Loss1: 15.6397, Loss2: 6.2301, Loss3: 26.8697\n"
     ]
    },
    {
     "name": "stderr",
     "output_type": "stream",
     "text": [
      "Test_Loader: 100%|██████████| 288/288 [00:03<00:00, 79.01it/s]\n"
     ]
    },
    {
     "name": "stdout",
     "output_type": "stream",
     "text": [
      "Loss1: 15.9066, Loss2: 5.8307, Loss3: 25.3404\n"
     ]
    },
    {
     "name": "stderr",
     "output_type": "stream",
     "text": [
      "Test_Loader: 100%|██████████| 288/288 [00:03<00:00, 78.75it/s]\n"
     ]
    },
    {
     "name": "stdout",
     "output_type": "stream",
     "text": [
      "Loss1: 15.5403, Loss2: 5.7424, Loss3: 26.1817\n"
     ]
    },
    {
     "name": "stderr",
     "output_type": "stream",
     "text": [
      "Test_Loader: 100%|██████████| 288/288 [00:03<00:00, 76.37it/s]\n"
     ]
    },
    {
     "name": "stdout",
     "output_type": "stream",
     "text": [
      "Loss1: 15.5633, Loss2: 5.3437, Loss3: 24.9845\n"
     ]
    },
    {
     "name": "stderr",
     "output_type": "stream",
     "text": [
      "Test_Loader: 100%|██████████| 288/288 [00:03<00:00, 76.71it/s]\n"
     ]
    },
    {
     "name": "stdout",
     "output_type": "stream",
     "text": [
      "Loss1: 15.9308, Loss2: 5.6523, Loss3: 26.2843\n"
     ]
    },
    {
     "name": "stderr",
     "output_type": "stream",
     "text": [
      "Test_Loader: 100%|██████████| 288/288 [00:03<00:00, 76.78it/s]\n"
     ]
    },
    {
     "name": "stdout",
     "output_type": "stream",
     "text": [
      "Loss1: 16.0629, Loss2: 5.7897, Loss3: 27.0759\n"
     ]
    },
    {
     "name": "stderr",
     "output_type": "stream",
     "text": [
      "Test_Loader: 100%|██████████| 288/288 [00:03<00:00, 78.89it/s]\n"
     ]
    },
    {
     "name": "stdout",
     "output_type": "stream",
     "text": [
      "Loss1: 16.7078, Loss2: 6.4331, Loss3: 29.1363\n"
     ]
    },
    {
     "name": "stderr",
     "output_type": "stream",
     "text": [
      "Test_Loader: 100%|██████████| 288/288 [00:03<00:00, 82.50it/s]\n"
     ]
    },
    {
     "name": "stdout",
     "output_type": "stream",
     "text": [
      "Loss1: 16.9677, Loss2: 6.7972, Loss3: 34.9769\n"
     ]
    },
    {
     "name": "stderr",
     "output_type": "stream",
     "text": [
      "Test_Loader: 100%|██████████| 288/288 [00:03<00:00, 83.87it/s]\n"
     ]
    },
    {
     "name": "stdout",
     "output_type": "stream",
     "text": [
      "Loss1: 16.3326, Loss2: 6.9934, Loss3: 31.9553\n"
     ]
    },
    {
     "name": "stderr",
     "output_type": "stream",
     "text": [
      "Test_Loader: 100%|██████████| 288/288 [00:03<00:00, 83.79it/s]\n"
     ]
    },
    {
     "name": "stdout",
     "output_type": "stream",
     "text": [
      "Loss1: 17.6311, Loss2: 6.8587, Loss3: 30.6858\n"
     ]
    },
    {
     "name": "stderr",
     "output_type": "stream",
     "text": [
      "Test_Loader: 100%|██████████| 288/288 [00:03<00:00, 82.51it/s]\n"
     ]
    },
    {
     "name": "stdout",
     "output_type": "stream",
     "text": [
      "Loss1: 17.2327, Loss2: 7.1983, Loss3: 31.5072\n"
     ]
    },
    {
     "name": "stderr",
     "output_type": "stream",
     "text": [
      "Test_Loader: 100%|██████████| 288/288 [00:03<00:00, 79.24it/s]\n"
     ]
    },
    {
     "name": "stdout",
     "output_type": "stream",
     "text": [
      "Loss1: 18.0290, Loss2: 7.0421, Loss3: 31.1765\n"
     ]
    },
    {
     "name": "stderr",
     "output_type": "stream",
     "text": [
      "Test_Loader: 100%|██████████| 288/288 [00:03<00:00, 77.50it/s]\n"
     ]
    },
    {
     "name": "stdout",
     "output_type": "stream",
     "text": [
      "Loss1: 17.4227, Loss2: 7.1700, Loss3: 31.8337\n"
     ]
    },
    {
     "name": "stderr",
     "output_type": "stream",
     "text": [
      "Test_Loader: 100%|██████████| 288/288 [00:03<00:00, 75.62it/s]\n"
     ]
    },
    {
     "name": "stdout",
     "output_type": "stream",
     "text": [
      "Loss1: 17.8033, Loss2: 7.7803, Loss3: 32.9542\n"
     ]
    },
    {
     "name": "stderr",
     "output_type": "stream",
     "text": [
      "Test_Loader: 100%|██████████| 288/288 [00:03<00:00, 75.57it/s]\n"
     ]
    },
    {
     "name": "stdout",
     "output_type": "stream",
     "text": [
      "Loss1: 18.4656, Loss2: 7.3236, Loss3: 32.1076\n"
     ]
    },
    {
     "name": "stderr",
     "output_type": "stream",
     "text": [
      "Test_Loader: 100%|██████████| 288/288 [00:03<00:00, 74.62it/s]\n"
     ]
    },
    {
     "name": "stdout",
     "output_type": "stream",
     "text": [
      "Loss1: 17.2684, Loss2: 7.2986, Loss3: 33.0237\n"
     ]
    },
    {
     "name": "stderr",
     "output_type": "stream",
     "text": [
      "Test_Loader: 100%|██████████| 288/288 [00:03<00:00, 81.22it/s]\n"
     ]
    },
    {
     "name": "stdout",
     "output_type": "stream",
     "text": [
      "Loss1: 16.7761, Loss2: 7.5938, Loss3: 32.5032\n"
     ]
    },
    {
     "name": "stderr",
     "output_type": "stream",
     "text": [
      "Test_Loader: 100%|██████████| 288/288 [00:03<00:00, 81.13it/s]\n"
     ]
    },
    {
     "name": "stdout",
     "output_type": "stream",
     "text": [
      "Loss1: 17.6820, Loss2: 7.4951, Loss3: 32.8515\n"
     ]
    },
    {
     "name": "stderr",
     "output_type": "stream",
     "text": [
      "Test_Loader: 100%|██████████| 288/288 [00:03<00:00, 84.26it/s]\n"
     ]
    },
    {
     "name": "stdout",
     "output_type": "stream",
     "text": [
      "Loss1: 17.2289, Loss2: 7.6533, Loss3: 32.8155\n"
     ]
    },
    {
     "name": "stderr",
     "output_type": "stream",
     "text": [
      "Test_Loader: 100%|██████████| 288/288 [00:03<00:00, 83.02it/s]\n"
     ]
    },
    {
     "name": "stdout",
     "output_type": "stream",
     "text": [
      "Loss1: 17.2598, Loss2: 6.8944, Loss3: 31.1883\n"
     ]
    },
    {
     "name": "stderr",
     "output_type": "stream",
     "text": [
      "Test_Loader: 100%|██████████| 288/288 [00:03<00:00, 82.82it/s]\n"
     ]
    },
    {
     "name": "stdout",
     "output_type": "stream",
     "text": [
      "Loss1: 16.6309, Loss2: 7.3952, Loss3: 31.7801\n"
     ]
    },
    {
     "name": "stderr",
     "output_type": "stream",
     "text": [
      "Test_Loader: 100%|██████████| 288/288 [00:03<00:00, 79.69it/s]\n"
     ]
    },
    {
     "name": "stdout",
     "output_type": "stream",
     "text": [
      "Loss1: 16.5491, Loss2: 7.2802, Loss3: 31.7838\n"
     ]
    },
    {
     "name": "stderr",
     "output_type": "stream",
     "text": [
      "Test_Loader: 100%|██████████| 288/288 [00:03<00:00, 74.24it/s]\n"
     ]
    },
    {
     "name": "stdout",
     "output_type": "stream",
     "text": [
      "Loss1: 17.6268, Loss2: 7.1542, Loss3: 31.8031\n"
     ]
    },
    {
     "name": "stderr",
     "output_type": "stream",
     "text": [
      "Test_Loader: 100%|██████████| 288/288 [00:04<00:00, 71.77it/s]\n"
     ]
    },
    {
     "name": "stdout",
     "output_type": "stream",
     "text": [
      "Loss1: 17.0778, Loss2: 7.2094, Loss3: 31.4694\n"
     ]
    },
    {
     "name": "stderr",
     "output_type": "stream",
     "text": [
      "Test_Loader: 100%|██████████| 288/288 [00:03<00:00, 72.79it/s]\n"
     ]
    },
    {
     "name": "stdout",
     "output_type": "stream",
     "text": [
      "Loss1: 16.1651, Loss2: 6.9042, Loss3: 31.0615\n"
     ]
    },
    {
     "name": "stderr",
     "output_type": "stream",
     "text": [
      "Test_Loader: 100%|██████████| 288/288 [00:03<00:00, 84.68it/s]\n"
     ]
    },
    {
     "name": "stdout",
     "output_type": "stream",
     "text": [
      "Loss1: 16.9234, Loss2: 6.9089, Loss3: 30.1612\n"
     ]
    },
    {
     "name": "stderr",
     "output_type": "stream",
     "text": [
      "Test_Loader: 100%|██████████| 288/288 [00:03<00:00, 84.55it/s]\n"
     ]
    },
    {
     "name": "stdout",
     "output_type": "stream",
     "text": [
      "Loss1: 16.5381, Loss2: 7.2510, Loss3: 31.8188\n"
     ]
    },
    {
     "name": "stderr",
     "output_type": "stream",
     "text": [
      "Test_Loader: 100%|██████████| 288/288 [00:03<00:00, 83.96it/s]\n"
     ]
    },
    {
     "name": "stdout",
     "output_type": "stream",
     "text": [
      "Loss1: 16.0139, Loss2: 7.4331, Loss3: 31.4904\n"
     ]
    },
    {
     "name": "stderr",
     "output_type": "stream",
     "text": [
      "Test_Loader: 100%|██████████| 288/288 [00:03<00:00, 81.40it/s]\n"
     ]
    },
    {
     "name": "stdout",
     "output_type": "stream",
     "text": [
      "Loss1: 15.4711, Loss2: 6.8599, Loss3: 28.9392\n"
     ]
    },
    {
     "name": "stderr",
     "output_type": "stream",
     "text": [
      "Test_Loader: 100%|██████████| 288/288 [00:03<00:00, 81.04it/s]\n"
     ]
    },
    {
     "name": "stdout",
     "output_type": "stream",
     "text": [
      "Loss1: 16.2137, Loss2: 6.6938, Loss3: 29.4344\n"
     ]
    },
    {
     "name": "stderr",
     "output_type": "stream",
     "text": [
      "Test_Loader: 100%|██████████| 288/288 [00:03<00:00, 80.65it/s]\n"
     ]
    },
    {
     "name": "stdout",
     "output_type": "stream",
     "text": [
      "Loss1: 15.6473, Loss2: 6.9859, Loss3: 29.5484\n"
     ]
    },
    {
     "name": "stderr",
     "output_type": "stream",
     "text": [
      "Test_Loader: 100%|██████████| 288/288 [00:03<00:00, 82.36it/s]\n"
     ]
    },
    {
     "name": "stdout",
     "output_type": "stream",
     "text": [
      "Loss1: 15.3942, Loss2: 6.5810, Loss3: 28.8711\n"
     ]
    },
    {
     "name": "stderr",
     "output_type": "stream",
     "text": [
      "Test_Loader: 100%|██████████| 288/288 [00:03<00:00, 82.12it/s]\n"
     ]
    },
    {
     "name": "stdout",
     "output_type": "stream",
     "text": [
      "Loss1: 15.1440, Loss2: 7.3092, Loss3: 29.6957\n"
     ]
    },
    {
     "name": "stderr",
     "output_type": "stream",
     "text": [
      "Test_Loader: 100%|██████████| 288/288 [00:03<00:00, 81.24it/s]\n"
     ]
    },
    {
     "name": "stdout",
     "output_type": "stream",
     "text": [
      "Loss1: 14.8460, Loss2: 6.6540, Loss3: 28.0900\n"
     ]
    },
    {
     "name": "stderr",
     "output_type": "stream",
     "text": [
      "Test_Loader: 100%|██████████| 288/288 [00:03<00:00, 88.08it/s]\n"
     ]
    },
    {
     "name": "stdout",
     "output_type": "stream",
     "text": [
      "Loss1: 15.9901, Loss2: 7.1976, Loss3: 30.5674\n"
     ]
    },
    {
     "name": "stderr",
     "output_type": "stream",
     "text": [
      "Test_Loader: 100%|██████████| 288/288 [00:03<00:00, 89.33it/s]\n"
     ]
    },
    {
     "name": "stdout",
     "output_type": "stream",
     "text": [
      "Loss1: 15.1448, Loss2: 6.6465, Loss3: 29.0824\n"
     ]
    },
    {
     "name": "stderr",
     "output_type": "stream",
     "text": [
      "Test_Loader: 100%|██████████| 288/288 [00:03<00:00, 86.05it/s]\n"
     ]
    },
    {
     "name": "stdout",
     "output_type": "stream",
     "text": [
      "Loss1: 15.1313, Loss2: 6.5233, Loss3: 27.9678\n"
     ]
    },
    {
     "name": "stderr",
     "output_type": "stream",
     "text": [
      "Test_Loader: 100%|██████████| 288/288 [00:03<00:00, 76.67it/s]\n"
     ]
    },
    {
     "name": "stdout",
     "output_type": "stream",
     "text": [
      "Loss1: 15.3572, Loss2: 6.5228, Loss3: 27.6093\n"
     ]
    },
    {
     "name": "stderr",
     "output_type": "stream",
     "text": [
      "Test_Loader: 100%|██████████| 288/288 [00:03<00:00, 77.61it/s]\n"
     ]
    },
    {
     "name": "stdout",
     "output_type": "stream",
     "text": [
      "Loss1: 15.2775, Loss2: 6.2289, Loss3: 27.3681\n"
     ]
    },
    {
     "name": "stderr",
     "output_type": "stream",
     "text": [
      "Test_Loader: 100%|██████████| 288/288 [00:03<00:00, 79.29it/s]\n"
     ]
    },
    {
     "name": "stdout",
     "output_type": "stream",
     "text": [
      "Loss1: 15.9597, Loss2: 6.4593, Loss3: 30.2048\n"
     ]
    },
    {
     "name": "stderr",
     "output_type": "stream",
     "text": [
      "Test_Loader: 100%|██████████| 288/288 [00:03<00:00, 87.21it/s]\n"
     ]
    },
    {
     "name": "stdout",
     "output_type": "stream",
     "text": [
      "Loss1: 15.6513, Loss2: 6.3777, Loss3: 27.4267\n"
     ]
    },
    {
     "name": "stderr",
     "output_type": "stream",
     "text": [
      "Test_Loader: 100%|██████████| 288/288 [00:03<00:00, 87.14it/s]\n"
     ]
    },
    {
     "name": "stdout",
     "output_type": "stream",
     "text": [
      "Loss1: 15.9785, Loss2: 7.2087, Loss3: 31.9068\n"
     ]
    },
    {
     "name": "stderr",
     "output_type": "stream",
     "text": [
      "Test_Loader: 100%|██████████| 288/288 [00:03<00:00, 86.25it/s]\n"
     ]
    },
    {
     "name": "stdout",
     "output_type": "stream",
     "text": [
      "Loss1: 16.7317, Loss2: 7.7168, Loss3: 32.8400\n"
     ]
    },
    {
     "name": "stderr",
     "output_type": "stream",
     "text": [
      "Test_Loader: 100%|██████████| 288/288 [00:03<00:00, 81.56it/s]\n"
     ]
    },
    {
     "name": "stdout",
     "output_type": "stream",
     "text": [
      "Loss1: 16.7376, Loss2: 7.5201, Loss3: 32.6814\n"
     ]
    },
    {
     "name": "stderr",
     "output_type": "stream",
     "text": [
      "Test_Loader: 100%|██████████| 288/288 [00:03<00:00, 80.69it/s]\n"
     ]
    },
    {
     "name": "stdout",
     "output_type": "stream",
     "text": [
      "Loss1: 16.4815, Loss2: 7.2367, Loss3: 34.8344\n"
     ]
    },
    {
     "name": "stderr",
     "output_type": "stream",
     "text": [
      "Test_Loader: 100%|██████████| 288/288 [00:03<00:00, 80.77it/s]\n"
     ]
    },
    {
     "name": "stdout",
     "output_type": "stream",
     "text": [
      "Loss1: 15.9019, Loss2: 7.3187, Loss3: 29.3973\n"
     ]
    },
    {
     "name": "stderr",
     "output_type": "stream",
     "text": [
      "Test_Loader: 100%|██████████| 288/288 [00:03<00:00, 81.73it/s]\n"
     ]
    },
    {
     "name": "stdout",
     "output_type": "stream",
     "text": [
      "Loss1: 15.9452, Loss2: 7.4158, Loss3: 30.9950\n"
     ]
    },
    {
     "name": "stderr",
     "output_type": "stream",
     "text": [
      "Test_Loader: 100%|██████████| 288/288 [00:03<00:00, 78.32it/s]\n"
     ]
    },
    {
     "name": "stdout",
     "output_type": "stream",
     "text": [
      "Loss1: 15.8975, Loss2: 7.9188, Loss3: 31.1542\n"
     ]
    },
    {
     "name": "stderr",
     "output_type": "stream",
     "text": [
      "Test_Loader: 100%|██████████| 288/288 [00:03<00:00, 75.66it/s]\n"
     ]
    },
    {
     "name": "stdout",
     "output_type": "stream",
     "text": [
      "Loss1: 15.9149, Loss2: 7.3868, Loss3: 29.5370\n"
     ]
    },
    {
     "name": "stderr",
     "output_type": "stream",
     "text": [
      "Test_Loader: 100%|██████████| 288/288 [00:03<00:00, 72.53it/s]\n"
     ]
    },
    {
     "name": "stdout",
     "output_type": "stream",
     "text": [
      "Loss1: 16.1444, Loss2: 7.5733, Loss3: 30.3391\n"
     ]
    },
    {
     "name": "stderr",
     "output_type": "stream",
     "text": [
      "Test_Loader: 100%|██████████| 288/288 [00:03<00:00, 73.34it/s]\n"
     ]
    },
    {
     "name": "stdout",
     "output_type": "stream",
     "text": [
      "Loss1: 15.7755, Loss2: 7.3930, Loss3: 29.8886\n"
     ]
    },
    {
     "name": "stderr",
     "output_type": "stream",
     "text": [
      "Test_Loader: 100%|██████████| 288/288 [00:03<00:00, 75.70it/s]\n"
     ]
    },
    {
     "name": "stdout",
     "output_type": "stream",
     "text": [
      "Loss1: 16.1183, Loss2: 7.1779, Loss3: 30.7483\n"
     ]
    },
    {
     "name": "stderr",
     "output_type": "stream",
     "text": [
      "Test_Loader: 100%|██████████| 288/288 [00:03<00:00, 76.63it/s]\n"
     ]
    },
    {
     "name": "stdout",
     "output_type": "stream",
     "text": [
      "Loss1: 15.8951, Loss2: 7.7479, Loss3: 30.5495\n"
     ]
    },
    {
     "name": "stderr",
     "output_type": "stream",
     "text": [
      "Test_Loader: 100%|██████████| 288/288 [00:03<00:00, 76.78it/s]\n"
     ]
    },
    {
     "name": "stdout",
     "output_type": "stream",
     "text": [
      "Loss1: 15.7736, Loss2: 7.2514, Loss3: 29.4156\n"
     ]
    },
    {
     "name": "stderr",
     "output_type": "stream",
     "text": [
      "Test_Loader: 100%|██████████| 288/288 [00:03<00:00, 78.35it/s]\n"
     ]
    },
    {
     "name": "stdout",
     "output_type": "stream",
     "text": [
      "Loss1: 15.8500, Loss2: 7.3696, Loss3: 30.0878\n"
     ]
    },
    {
     "name": "stderr",
     "output_type": "stream",
     "text": [
      "Test_Loader: 100%|██████████| 288/288 [00:03<00:00, 78.03it/s]\n"
     ]
    },
    {
     "name": "stdout",
     "output_type": "stream",
     "text": [
      "Loss1: 15.7504, Loss2: 7.0808, Loss3: 30.1137\n"
     ]
    },
    {
     "name": "stderr",
     "output_type": "stream",
     "text": [
      "Test_Loader: 100%|██████████| 288/288 [00:03<00:00, 74.07it/s]\n"
     ]
    },
    {
     "name": "stdout",
     "output_type": "stream",
     "text": [
      "Loss1: 15.9598, Loss2: 7.4324, Loss3: 30.1625\n"
     ]
    },
    {
     "name": "stderr",
     "output_type": "stream",
     "text": [
      "Test_Loader: 100%|██████████| 288/288 [00:03<00:00, 73.90it/s]\n"
     ]
    },
    {
     "name": "stdout",
     "output_type": "stream",
     "text": [
      "Loss1: 15.6085, Loss2: 7.7593, Loss3: 30.3431\n"
     ]
    },
    {
     "name": "stderr",
     "output_type": "stream",
     "text": [
      "Test_Loader: 100%|██████████| 288/288 [00:03<00:00, 72.99it/s]\n"
     ]
    },
    {
     "name": "stdout",
     "output_type": "stream",
     "text": [
      "Loss1: 15.8424, Loss2: 7.4332, Loss3: 30.1222\n"
     ]
    },
    {
     "name": "stderr",
     "output_type": "stream",
     "text": [
      "Test_Loader: 100%|██████████| 288/288 [00:03<00:00, 75.43it/s]\n"
     ]
    },
    {
     "name": "stdout",
     "output_type": "stream",
     "text": [
      "Loss1: 15.7546, Loss2: 6.9722, Loss3: 32.0552\n"
     ]
    },
    {
     "name": "stderr",
     "output_type": "stream",
     "text": [
      "Test_Loader: 100%|██████████| 288/288 [00:03<00:00, 79.73it/s]\n"
     ]
    },
    {
     "name": "stdout",
     "output_type": "stream",
     "text": [
      "Loss1: 15.6387, Loss2: 6.5802, Loss3: 38.5367\n"
     ]
    },
    {
     "name": "stderr",
     "output_type": "stream",
     "text": [
      "Test_Loader: 100%|██████████| 288/288 [00:03<00:00, 78.62it/s]\n"
     ]
    },
    {
     "name": "stdout",
     "output_type": "stream",
     "text": [
      "Loss1: 15.8304, Loss2: 7.2115, Loss3: 29.5185\n"
     ]
    },
    {
     "name": "stderr",
     "output_type": "stream",
     "text": [
      "Test_Loader: 100%|██████████| 288/288 [00:03<00:00, 78.52it/s]\n"
     ]
    },
    {
     "name": "stdout",
     "output_type": "stream",
     "text": [
      "Loss1: 15.5217, Loss2: 6.6101, Loss3: 30.2563\n"
     ]
    },
    {
     "name": "stderr",
     "output_type": "stream",
     "text": [
      "Test_Loader: 100%|██████████| 288/288 [00:03<00:00, 72.23it/s]\n"
     ]
    },
    {
     "name": "stdout",
     "output_type": "stream",
     "text": [
      "Loss1: 16.0531, Loss2: 7.5029, Loss3: 31.6540\n"
     ]
    },
    {
     "name": "stderr",
     "output_type": "stream",
     "text": [
      "Test_Loader: 100%|██████████| 288/288 [00:04<00:00, 68.96it/s]\n"
     ]
    },
    {
     "name": "stdout",
     "output_type": "stream",
     "text": [
      "Loss1: 15.3224, Loss2: 7.0668, Loss3: 29.5858\n"
     ]
    },
    {
     "name": "stderr",
     "output_type": "stream",
     "text": [
      "Test_Loader: 100%|██████████| 288/288 [00:04<00:00, 69.20it/s]\n"
     ]
    },
    {
     "name": "stdout",
     "output_type": "stream",
     "text": [
      "Loss1: 15.7863, Loss2: 7.0855, Loss3: 32.3266\n"
     ]
    },
    {
     "name": "stderr",
     "output_type": "stream",
     "text": [
      "Test_Loader: 100%|██████████| 288/288 [00:04<00:00, 70.59it/s]\n"
     ]
    },
    {
     "name": "stdout",
     "output_type": "stream",
     "text": [
      "Loss1: 15.6210, Loss2: 7.0583, Loss3: 30.6225\n"
     ]
    },
    {
     "name": "stderr",
     "output_type": "stream",
     "text": [
      "Test_Loader: 100%|██████████| 288/288 [00:04<00:00, 69.84it/s]\n"
     ]
    },
    {
     "name": "stdout",
     "output_type": "stream",
     "text": [
      "Loss1: 16.1016, Loss2: 7.0642, Loss3: 29.6662\n"
     ]
    },
    {
     "name": "stderr",
     "output_type": "stream",
     "text": [
      "Test_Loader: 100%|██████████| 288/288 [00:04<00:00, 68.31it/s]\n"
     ]
    },
    {
     "name": "stdout",
     "output_type": "stream",
     "text": [
      "Loss1: 15.7229, Loss2: 6.8030, Loss3: 29.3832\n"
     ]
    },
    {
     "name": "stderr",
     "output_type": "stream",
     "text": [
      "Test_Loader: 100%|██████████| 288/288 [00:04<00:00, 71.04it/s]\n"
     ]
    },
    {
     "name": "stdout",
     "output_type": "stream",
     "text": [
      "Loss1: 16.1285, Loss2: 7.5102, Loss3: 32.6283\n"
     ]
    },
    {
     "name": "stderr",
     "output_type": "stream",
     "text": [
      "Test_Loader: 100%|██████████| 288/288 [00:03<00:00, 86.88it/s]\n"
     ]
    },
    {
     "name": "stdout",
     "output_type": "stream",
     "text": [
      "Loss1: 15.6446, Loss2: 6.8239, Loss3: 30.2555\n"
     ]
    },
    {
     "name": "stderr",
     "output_type": "stream",
     "text": [
      "Test_Loader: 100%|██████████| 288/288 [00:03<00:00, 84.52it/s]\n"
     ]
    },
    {
     "name": "stdout",
     "output_type": "stream",
     "text": [
      "Loss1: 15.7243, Loss2: 6.9730, Loss3: 31.9661\n"
     ]
    },
    {
     "name": "stderr",
     "output_type": "stream",
     "text": [
      "Test_Loader: 100%|██████████| 288/288 [00:03<00:00, 80.71it/s]\n"
     ]
    },
    {
     "name": "stdout",
     "output_type": "stream",
     "text": [
      "Loss1: 15.8153, Loss2: 6.9363, Loss3: 29.3412\n"
     ]
    },
    {
     "name": "stderr",
     "output_type": "stream",
     "text": [
      "Test_Loader: 100%|██████████| 288/288 [00:04<00:00, 68.87it/s]\n"
     ]
    },
    {
     "name": "stdout",
     "output_type": "stream",
     "text": [
      "Loss1: 15.4162, Loss2: 7.1063, Loss3: 32.9430\n"
     ]
    },
    {
     "name": "stderr",
     "output_type": "stream",
     "text": [
      "Test_Loader: 100%|██████████| 288/288 [00:03<00:00, 76.15it/s]\n"
     ]
    },
    {
     "name": "stdout",
     "output_type": "stream",
     "text": [
      "Loss1: 15.6997, Loss2: 7.2699, Loss3: 31.2101\n"
     ]
    },
    {
     "name": "stderr",
     "output_type": "stream",
     "text": [
      "Test_Loader: 100%|██████████| 288/288 [00:03<00:00, 77.96it/s]\n"
     ]
    },
    {
     "name": "stdout",
     "output_type": "stream",
     "text": [
      "Loss1: 15.7585, Loss2: 6.8914, Loss3: 28.6897\n"
     ]
    },
    {
     "name": "stderr",
     "output_type": "stream",
     "text": [
      "Test_Loader: 100%|██████████| 288/288 [00:03<00:00, 73.97it/s]\n"
     ]
    },
    {
     "name": "stdout",
     "output_type": "stream",
     "text": [
      "Loss1: 15.6458, Loss2: 6.5615, Loss3: 29.8191\n"
     ]
    },
    {
     "name": "stderr",
     "output_type": "stream",
     "text": [
      "Test_Loader: 100%|██████████| 288/288 [00:03<00:00, 75.45it/s]\n"
     ]
    },
    {
     "name": "stdout",
     "output_type": "stream",
     "text": [
      "Loss1: 15.1043, Loss2: 6.6870, Loss3: 27.7618\n"
     ]
    },
    {
     "name": "stderr",
     "output_type": "stream",
     "text": [
      "Test_Loader: 100%|██████████| 288/288 [00:03<00:00, 74.86it/s]\n"
     ]
    },
    {
     "name": "stdout",
     "output_type": "stream",
     "text": [
      "Loss1: 14.9752, Loss2: 6.5748, Loss3: 31.4691\n"
     ]
    },
    {
     "name": "stderr",
     "output_type": "stream",
     "text": [
      "Test_Loader: 100%|██████████| 288/288 [00:03<00:00, 78.27it/s]\n"
     ]
    },
    {
     "name": "stdout",
     "output_type": "stream",
     "text": [
      "Loss1: 14.6459, Loss2: 6.6222, Loss3: 28.3765\n"
     ]
    },
    {
     "name": "stderr",
     "output_type": "stream",
     "text": [
      "Test_Loader: 100%|██████████| 288/288 [00:03<00:00, 79.84it/s]\n"
     ]
    },
    {
     "name": "stdout",
     "output_type": "stream",
     "text": [
      "Loss1: 14.9730, Loss2: 6.6229, Loss3: 28.0269\n"
     ]
    },
    {
     "name": "stderr",
     "output_type": "stream",
     "text": [
      "Test_Loader: 100%|██████████| 288/288 [00:03<00:00, 75.95it/s]\n"
     ]
    },
    {
     "name": "stdout",
     "output_type": "stream",
     "text": [
      "Loss1: 15.1843, Loss2: 6.5168, Loss3: 28.0113\n"
     ]
    },
    {
     "name": "stderr",
     "output_type": "stream",
     "text": [
      "Test_Loader: 100%|██████████| 288/288 [00:04<00:00, 70.12it/s]\n"
     ]
    },
    {
     "name": "stdout",
     "output_type": "stream",
     "text": [
      "Loss1: 15.1183, Loss2: 6.8125, Loss3: 28.3522\n"
     ]
    },
    {
     "name": "stderr",
     "output_type": "stream",
     "text": [
      "Test_Loader: 100%|██████████| 288/288 [00:03<00:00, 75.79it/s]\n"
     ]
    },
    {
     "name": "stdout",
     "output_type": "stream",
     "text": [
      "Loss1: 15.2747, Loss2: 6.5942, Loss3: 29.3424\n"
     ]
    },
    {
     "name": "stderr",
     "output_type": "stream",
     "text": [
      "Test_Loader: 100%|██████████| 288/288 [00:03<00:00, 77.32it/s]\n"
     ]
    },
    {
     "name": "stdout",
     "output_type": "stream",
     "text": [
      "Loss1: 15.6782, Loss2: 6.8445, Loss3: 28.8371\n"
     ]
    },
    {
     "name": "stderr",
     "output_type": "stream",
     "text": [
      "Test_Loader: 100%|██████████| 288/288 [00:03<00:00, 84.53it/s]\n"
     ]
    },
    {
     "name": "stdout",
     "output_type": "stream",
     "text": [
      "Loss1: 15.8460, Loss2: 7.3433, Loss3: 33.1899\n"
     ]
    },
    {
     "name": "stderr",
     "output_type": "stream",
     "text": [
      "Test_Loader: 100%|██████████| 288/288 [00:03<00:00, 84.11it/s]\n"
     ]
    },
    {
     "name": "stdout",
     "output_type": "stream",
     "text": [
      "Loss1: 15.8216, Loss2: 6.9708, Loss3: 29.4970\n"
     ]
    },
    {
     "name": "stderr",
     "output_type": "stream",
     "text": [
      "Test_Loader: 100%|██████████| 288/288 [00:03<00:00, 75.36it/s]\n"
     ]
    },
    {
     "name": "stdout",
     "output_type": "stream",
     "text": [
      "Loss1: 16.0724, Loss2: 7.3434, Loss3: 31.1023\n"
     ]
    },
    {
     "name": "stderr",
     "output_type": "stream",
     "text": [
      "Test_Loader: 100%|██████████| 288/288 [00:03<00:00, 84.49it/s]\n"
     ]
    },
    {
     "name": "stdout",
     "output_type": "stream",
     "text": [
      "Loss1: 15.5577, Loss2: 6.7706, Loss3: 30.4527\n"
     ]
    },
    {
     "name": "stderr",
     "output_type": "stream",
     "text": [
      "Test_Loader: 100%|██████████| 288/288 [00:03<00:00, 82.75it/s]\n"
     ]
    },
    {
     "name": "stdout",
     "output_type": "stream",
     "text": [
      "Loss1: 15.8890, Loss2: 7.4728, Loss3: 29.5509\n"
     ]
    },
    {
     "name": "stderr",
     "output_type": "stream",
     "text": [
      "Test_Loader: 100%|██████████| 288/288 [00:03<00:00, 82.74it/s]\n"
     ]
    },
    {
     "name": "stdout",
     "output_type": "stream",
     "text": [
      "Loss1: 15.8544, Loss2: 7.2375, Loss3: 31.5423\n"
     ]
    },
    {
     "name": "stderr",
     "output_type": "stream",
     "text": [
      "Test_Loader: 100%|██████████| 288/288 [00:03<00:00, 79.39it/s]\n"
     ]
    },
    {
     "name": "stdout",
     "output_type": "stream",
     "text": [
      "Loss1: 16.2971, Loss2: 6.9995, Loss3: 29.6798\n"
     ]
    },
    {
     "name": "stderr",
     "output_type": "stream",
     "text": [
      "Test_Loader: 100%|██████████| 288/288 [00:03<00:00, 77.23it/s]\n"
     ]
    },
    {
     "name": "stdout",
     "output_type": "stream",
     "text": [
      "Loss1: 15.9604, Loss2: 6.4991, Loss3: 31.3590\n"
     ]
    },
    {
     "name": "stderr",
     "output_type": "stream",
     "text": [
      "Test_Loader: 100%|██████████| 288/288 [00:03<00:00, 75.25it/s]\n"
     ]
    },
    {
     "name": "stdout",
     "output_type": "stream",
     "text": [
      "Loss1: 16.2406, Loss2: 7.2360, Loss3: 31.4331\n"
     ]
    },
    {
     "name": "stderr",
     "output_type": "stream",
     "text": [
      "Test_Loader: 100%|██████████| 288/288 [00:03<00:00, 73.51it/s]\n"
     ]
    },
    {
     "name": "stdout",
     "output_type": "stream",
     "text": [
      "Loss1: 16.7395, Loss2: 7.7402, Loss3: 35.2440\n"
     ]
    },
    {
     "name": "stderr",
     "output_type": "stream",
     "text": [
      "Test_Loader: 100%|██████████| 288/288 [00:03<00:00, 78.04it/s]\n"
     ]
    },
    {
     "name": "stdout",
     "output_type": "stream",
     "text": [
      "Loss1: 16.7816, Loss2: 7.6968, Loss3: 34.0987\n"
     ]
    },
    {
     "name": "stderr",
     "output_type": "stream",
     "text": [
      "Test_Loader: 100%|██████████| 288/288 [00:03<00:00, 77.17it/s]\n"
     ]
    },
    {
     "name": "stdout",
     "output_type": "stream",
     "text": [
      "Loss1: 15.8075, Loss2: 7.0475, Loss3: 30.8494\n"
     ]
    },
    {
     "name": "stderr",
     "output_type": "stream",
     "text": [
      "Test_Loader: 100%|██████████| 288/288 [00:03<00:00, 83.09it/s]\n"
     ]
    },
    {
     "name": "stdout",
     "output_type": "stream",
     "text": [
      "Loss1: 16.4748, Loss2: 7.5174, Loss3: 31.5894\n"
     ]
    },
    {
     "name": "stderr",
     "output_type": "stream",
     "text": [
      "Test_Loader: 100%|██████████| 288/288 [00:03<00:00, 83.26it/s]\n"
     ]
    },
    {
     "name": "stdout",
     "output_type": "stream",
     "text": [
      "Loss1: 15.9649, Loss2: 7.4219, Loss3: 30.8057\n"
     ]
    },
    {
     "name": "stderr",
     "output_type": "stream",
     "text": [
      "Test_Loader: 100%|██████████| 288/288 [00:03<00:00, 82.53it/s]\n"
     ]
    },
    {
     "name": "stdout",
     "output_type": "stream",
     "text": [
      "Loss1: 16.4168, Loss2: 7.0753, Loss3: 30.3999\n"
     ]
    },
    {
     "name": "stderr",
     "output_type": "stream",
     "text": [
      "Test_Loader: 100%|██████████| 288/288 [00:03<00:00, 79.57it/s]\n"
     ]
    },
    {
     "name": "stdout",
     "output_type": "stream",
     "text": [
      "Loss1: 16.2820, Loss2: 7.4287, Loss3: 32.3458\n"
     ]
    },
    {
     "name": "stderr",
     "output_type": "stream",
     "text": [
      "Test_Loader: 100%|██████████| 288/288 [00:03<00:00, 75.77it/s]\n"
     ]
    },
    {
     "name": "stdout",
     "output_type": "stream",
     "text": [
      "Loss1: 16.2437, Loss2: 6.9474, Loss3: 29.1025\n"
     ]
    },
    {
     "name": "stderr",
     "output_type": "stream",
     "text": [
      "Test_Loader: 100%|██████████| 288/288 [00:03<00:00, 74.63it/s]\n"
     ]
    },
    {
     "name": "stdout",
     "output_type": "stream",
     "text": [
      "Loss1: 15.9700, Loss2: 6.2997, Loss3: 27.2918\n"
     ]
    },
    {
     "name": "stderr",
     "output_type": "stream",
     "text": [
      "Test_Loader: 100%|██████████| 288/288 [00:03<00:00, 75.33it/s]\n"
     ]
    },
    {
     "name": "stdout",
     "output_type": "stream",
     "text": [
      "Loss1: 15.5167, Loss2: 6.2255, Loss3: 27.7228\n"
     ]
    },
    {
     "name": "stderr",
     "output_type": "stream",
     "text": [
      "Test_Loader: 100%|██████████| 288/288 [00:03<00:00, 75.91it/s]\n"
     ]
    },
    {
     "name": "stdout",
     "output_type": "stream",
     "text": [
      "Loss1: 16.2937, Loss2: 6.7324, Loss3: 30.4250\n"
     ]
    },
    {
     "name": "stderr",
     "output_type": "stream",
     "text": [
      "Test_Loader: 100%|██████████| 288/288 [00:03<00:00, 75.47it/s]\n"
     ]
    },
    {
     "name": "stdout",
     "output_type": "stream",
     "text": [
      "Loss1: 16.1311, Loss2: 7.0400, Loss3: 30.5652\n"
     ]
    },
    {
     "name": "stderr",
     "output_type": "stream",
     "text": [
      "Test_Loader: 100%|██████████| 288/288 [00:03<00:00, 78.86it/s]\n"
     ]
    },
    {
     "name": "stdout",
     "output_type": "stream",
     "text": [
      "Loss1: 16.0309, Loss2: 6.7076, Loss3: 28.2460\n"
     ]
    },
    {
     "name": "stderr",
     "output_type": "stream",
     "text": [
      "Test_Loader: 100%|██████████| 288/288 [00:03<00:00, 80.60it/s]\n"
     ]
    },
    {
     "name": "stdout",
     "output_type": "stream",
     "text": [
      "Loss1: 16.0822, Loss2: 6.8458, Loss3: 29.1119\n"
     ]
    },
    {
     "name": "stderr",
     "output_type": "stream",
     "text": [
      "Test_Loader: 100%|██████████| 288/288 [00:03<00:00, 82.07it/s]\n"
     ]
    },
    {
     "name": "stdout",
     "output_type": "stream",
     "text": [
      "Loss1: 16.7780, Loss2: 7.0013, Loss3: 29.0236\n"
     ]
    },
    {
     "name": "stderr",
     "output_type": "stream",
     "text": [
      "Test_Loader: 100%|██████████| 288/288 [00:03<00:00, 80.58it/s]\n"
     ]
    },
    {
     "name": "stdout",
     "output_type": "stream",
     "text": [
      "Loss1: 16.6538, Loss2: 6.9683, Loss3: 28.6754\n"
     ]
    },
    {
     "name": "stderr",
     "output_type": "stream",
     "text": [
      "Test_Loader: 100%|██████████| 288/288 [00:03<00:00, 78.69it/s]\n"
     ]
    },
    {
     "name": "stdout",
     "output_type": "stream",
     "text": [
      "Loss1: 15.9979, Loss2: 6.8988, Loss3: 29.8120\n"
     ]
    },
    {
     "name": "stderr",
     "output_type": "stream",
     "text": [
      "Test_Loader: 100%|██████████| 288/288 [00:03<00:00, 78.22it/s]\n"
     ]
    },
    {
     "name": "stdout",
     "output_type": "stream",
     "text": [
      "Loss1: 16.6591, Loss2: 6.8285, Loss3: 28.2422\n"
     ]
    },
    {
     "name": "stderr",
     "output_type": "stream",
     "text": [
      "Test_Loader: 100%|██████████| 288/288 [00:03<00:00, 78.67it/s]\n"
     ]
    },
    {
     "name": "stdout",
     "output_type": "stream",
     "text": [
      "Loss1: 15.9118, Loss2: 6.8390, Loss3: 29.4739\n"
     ]
    },
    {
     "name": "stderr",
     "output_type": "stream",
     "text": [
      "Test_Loader: 100%|██████████| 288/288 [00:03<00:00, 79.69it/s]\n"
     ]
    },
    {
     "name": "stdout",
     "output_type": "stream",
     "text": [
      "Loss1: 16.1146, Loss2: 6.8917, Loss3: 30.4903\n"
     ]
    },
    {
     "name": "stderr",
     "output_type": "stream",
     "text": [
      "Test_Loader: 100%|██████████| 288/288 [00:03<00:00, 78.41it/s]\n"
     ]
    },
    {
     "name": "stdout",
     "output_type": "stream",
     "text": [
      "Loss1: 15.8959, Loss2: 7.1508, Loss3: 29.3465\n"
     ]
    },
    {
     "name": "stderr",
     "output_type": "stream",
     "text": [
      "Test_Loader: 100%|██████████| 288/288 [00:03<00:00, 80.47it/s]\n"
     ]
    },
    {
     "name": "stdout",
     "output_type": "stream",
     "text": [
      "Loss1: 15.9237, Loss2: 7.1430, Loss3: 28.9926\n"
     ]
    },
    {
     "name": "stderr",
     "output_type": "stream",
     "text": [
      "Test_Loader: 100%|██████████| 288/288 [00:03<00:00, 78.69it/s]\n"
     ]
    },
    {
     "name": "stdout",
     "output_type": "stream",
     "text": [
      "Loss1: 16.3443, Loss2: 6.6395, Loss3: 28.9457\n"
     ]
    },
    {
     "name": "stderr",
     "output_type": "stream",
     "text": [
      "Test_Loader: 100%|██████████| 288/288 [00:03<00:00, 77.63it/s]\n"
     ]
    },
    {
     "name": "stdout",
     "output_type": "stream",
     "text": [
      "Loss1: 15.7725, Loss2: 7.0452, Loss3: 29.6494\n"
     ]
    },
    {
     "name": "stderr",
     "output_type": "stream",
     "text": [
      "Test_Loader: 100%|██████████| 288/288 [00:03<00:00, 77.57it/s]\n"
     ]
    },
    {
     "name": "stdout",
     "output_type": "stream",
     "text": [
      "Loss1: 16.1182, Loss2: 6.7992, Loss3: 29.2030\n"
     ]
    },
    {
     "name": "stderr",
     "output_type": "stream",
     "text": [
      "Test_Loader: 100%|██████████| 288/288 [00:03<00:00, 78.01it/s]\n"
     ]
    },
    {
     "name": "stdout",
     "output_type": "stream",
     "text": [
      "Loss1: 15.8841, Loss2: 6.7682, Loss3: 28.2128\n"
     ]
    },
    {
     "name": "stderr",
     "output_type": "stream",
     "text": [
      "Test_Loader: 100%|██████████| 288/288 [00:03<00:00, 78.38it/s]\n"
     ]
    },
    {
     "name": "stdout",
     "output_type": "stream",
     "text": [
      "Loss1: 16.2575, Loss2: 6.6731, Loss3: 28.8535\n"
     ]
    },
    {
     "name": "stderr",
     "output_type": "stream",
     "text": [
      "Test_Loader: 100%|██████████| 288/288 [00:03<00:00, 81.96it/s]\n"
     ]
    },
    {
     "name": "stdout",
     "output_type": "stream",
     "text": [
      "Loss1: 16.0129, Loss2: 6.7308, Loss3: 29.9994\n"
     ]
    },
    {
     "name": "stderr",
     "output_type": "stream",
     "text": [
      "Test_Loader: 100%|██████████| 288/288 [00:03<00:00, 82.12it/s]\n"
     ]
    },
    {
     "name": "stdout",
     "output_type": "stream",
     "text": [
      "Loss1: 15.7506, Loss2: 6.5484, Loss3: 28.5022\n"
     ]
    },
    {
     "name": "stderr",
     "output_type": "stream",
     "text": [
      "Test_Loader: 100%|██████████| 288/288 [00:03<00:00, 82.78it/s]\n"
     ]
    },
    {
     "name": "stdout",
     "output_type": "stream",
     "text": [
      "Loss1: 15.7843, Loss2: 6.7504, Loss3: 28.1549\n"
     ]
    },
    {
     "name": "stderr",
     "output_type": "stream",
     "text": [
      "Test_Loader: 100%|██████████| 288/288 [00:03<00:00, 83.14it/s]\n"
     ]
    },
    {
     "name": "stdout",
     "output_type": "stream",
     "text": [
      "Loss1: 16.3843, Loss2: 6.6797, Loss3: 29.5928\n"
     ]
    },
    {
     "name": "stderr",
     "output_type": "stream",
     "text": [
      "Test_Loader: 100%|██████████| 288/288 [00:03<00:00, 81.75it/s]\n"
     ]
    },
    {
     "name": "stdout",
     "output_type": "stream",
     "text": [
      "Loss1: 17.0292, Loss2: 6.8292, Loss3: 29.8904\n"
     ]
    },
    {
     "name": "stderr",
     "output_type": "stream",
     "text": [
      "Test_Loader: 100%|██████████| 288/288 [00:03<00:00, 83.05it/s]\n"
     ]
    },
    {
     "name": "stdout",
     "output_type": "stream",
     "text": [
      "Loss1: 16.8049, Loss2: 6.5771, Loss3: 32.4283\n"
     ]
    },
    {
     "name": "stderr",
     "output_type": "stream",
     "text": [
      "Test_Loader: 100%|██████████| 288/288 [00:03<00:00, 78.05it/s]\n"
     ]
    },
    {
     "name": "stdout",
     "output_type": "stream",
     "text": [
      "Loss1: 16.5524, Loss2: 6.8843, Loss3: 30.8084\n"
     ]
    },
    {
     "name": "stderr",
     "output_type": "stream",
     "text": [
      "Test_Loader: 100%|██████████| 288/288 [00:03<00:00, 82.71it/s]\n"
     ]
    },
    {
     "name": "stdout",
     "output_type": "stream",
     "text": [
      "Loss1: 17.1971, Loss2: 6.8635, Loss3: 31.1575\n"
     ]
    },
    {
     "name": "stderr",
     "output_type": "stream",
     "text": [
      "Test_Loader: 100%|██████████| 288/288 [00:03<00:00, 81.52it/s]\n"
     ]
    },
    {
     "name": "stdout",
     "output_type": "stream",
     "text": [
      "Loss1: 18.8022, Loss2: 7.0022, Loss3: 31.7409\n"
     ]
    },
    {
     "name": "stderr",
     "output_type": "stream",
     "text": [
      "Test_Loader: 100%|██████████| 288/288 [00:03<00:00, 81.55it/s]\n"
     ]
    },
    {
     "name": "stdout",
     "output_type": "stream",
     "text": [
      "Loss1: 18.6509, Loss2: 7.2473, Loss3: 32.0140\n"
     ]
    },
    {
     "name": "stderr",
     "output_type": "stream",
     "text": [
      "Test_Loader: 100%|██████████| 288/288 [00:03<00:00, 85.20it/s]\n"
     ]
    },
    {
     "name": "stdout",
     "output_type": "stream",
     "text": [
      "Loss1: 19.3032, Loss2: 7.0122, Loss3: 33.8195\n"
     ]
    },
    {
     "name": "stderr",
     "output_type": "stream",
     "text": [
      "Test_Loader: 100%|██████████| 288/288 [00:03<00:00, 84.96it/s]\n"
     ]
    },
    {
     "name": "stdout",
     "output_type": "stream",
     "text": [
      "Loss1: 18.1957, Loss2: 7.3952, Loss3: 32.9734\n"
     ]
    },
    {
     "name": "stderr",
     "output_type": "stream",
     "text": [
      "Test_Loader: 100%|██████████| 288/288 [00:03<00:00, 82.16it/s]\n"
     ]
    },
    {
     "name": "stdout",
     "output_type": "stream",
     "text": [
      "Loss1: 18.9253, Loss2: 7.1396, Loss3: 32.5826\n"
     ]
    },
    {
     "name": "stderr",
     "output_type": "stream",
     "text": [
      "Test_Loader: 100%|██████████| 288/288 [00:03<00:00, 79.81it/s]\n"
     ]
    },
    {
     "name": "stdout",
     "output_type": "stream",
     "text": [
      "Loss1: 19.3840, Loss2: 7.2035, Loss3: 33.2630\n"
     ]
    },
    {
     "name": "stderr",
     "output_type": "stream",
     "text": [
      "Test_Loader: 100%|██████████| 288/288 [00:03<00:00, 80.25it/s]\n"
     ]
    },
    {
     "name": "stdout",
     "output_type": "stream",
     "text": [
      "Loss1: 20.1314, Loss2: 7.8182, Loss3: 35.5964\n"
     ]
    },
    {
     "name": "stderr",
     "output_type": "stream",
     "text": [
      "Test_Loader: 100%|██████████| 288/288 [00:03<00:00, 80.90it/s]\n"
     ]
    },
    {
     "name": "stdout",
     "output_type": "stream",
     "text": [
      "Loss1: 19.6854, Loss2: 7.2813, Loss3: 35.0880\n"
     ]
    },
    {
     "name": "stderr",
     "output_type": "stream",
     "text": [
      "Test_Loader: 100%|██████████| 288/288 [00:03<00:00, 79.02it/s]\n"
     ]
    },
    {
     "name": "stdout",
     "output_type": "stream",
     "text": [
      "Loss1: 19.1072, Loss2: 6.8053, Loss3: 32.9015\n"
     ]
    },
    {
     "name": "stderr",
     "output_type": "stream",
     "text": [
      "Test_Loader: 100%|██████████| 288/288 [00:03<00:00, 79.36it/s]\n"
     ]
    },
    {
     "name": "stdout",
     "output_type": "stream",
     "text": [
      "Loss1: 21.1563, Loss2: 6.9503, Loss3: 33.0091\n"
     ]
    },
    {
     "name": "stderr",
     "output_type": "stream",
     "text": [
      "Test_Loader: 100%|██████████| 288/288 [00:03<00:00, 85.15it/s]\n"
     ]
    },
    {
     "name": "stdout",
     "output_type": "stream",
     "text": [
      "Loss1: 18.5796, Loss2: 6.6870, Loss3: 30.7659\n"
     ]
    },
    {
     "name": "stderr",
     "output_type": "stream",
     "text": [
      "Test_Loader: 100%|██████████| 288/288 [00:03<00:00, 86.15it/s]\n"
     ]
    },
    {
     "name": "stdout",
     "output_type": "stream",
     "text": [
      "Loss1: 18.6658, Loss2: 6.3033, Loss3: 30.2443\n"
     ]
    },
    {
     "name": "stderr",
     "output_type": "stream",
     "text": [
      "Test_Loader: 100%|██████████| 288/288 [00:03<00:00, 86.33it/s]\n"
     ]
    },
    {
     "name": "stdout",
     "output_type": "stream",
     "text": [
      "Loss1: 19.6615, Loss2: 6.4190, Loss3: 32.9642\n"
     ]
    },
    {
     "name": "stderr",
     "output_type": "stream",
     "text": [
      "Test_Loader: 100%|██████████| 288/288 [00:03<00:00, 76.41it/s]\n"
     ]
    },
    {
     "name": "stdout",
     "output_type": "stream",
     "text": [
      "Loss1: 18.3163, Loss2: 6.1679, Loss3: 31.5383\n"
     ]
    },
    {
     "name": "stderr",
     "output_type": "stream",
     "text": [
      "Test_Loader: 100%|██████████| 288/288 [00:03<00:00, 78.58it/s]\n"
     ]
    },
    {
     "name": "stdout",
     "output_type": "stream",
     "text": [
      "Loss1: 19.0519, Loss2: 6.2061, Loss3: 31.6546\n"
     ]
    },
    {
     "name": "stderr",
     "output_type": "stream",
     "text": [
      "Test_Loader: 100%|██████████| 288/288 [00:03<00:00, 78.65it/s]\n"
     ]
    },
    {
     "name": "stdout",
     "output_type": "stream",
     "text": [
      "Loss1: 19.0272, Loss2: 6.3994, Loss3: 29.3611\n"
     ]
    },
    {
     "name": "stderr",
     "output_type": "stream",
     "text": [
      "Test_Loader: 100%|██████████| 288/288 [00:03<00:00, 86.69it/s]\n"
     ]
    },
    {
     "name": "stdout",
     "output_type": "stream",
     "text": [
      "Loss1: 18.8160, Loss2: 6.3053, Loss3: 28.7742\n"
     ]
    },
    {
     "name": "stderr",
     "output_type": "stream",
     "text": [
      "Test_Loader: 100%|██████████| 288/288 [00:03<00:00, 83.27it/s]\n"
     ]
    },
    {
     "name": "stdout",
     "output_type": "stream",
     "text": [
      "Loss1: 19.4195, Loss2: 6.2212, Loss3: 30.8289\n"
     ]
    },
    {
     "name": "stderr",
     "output_type": "stream",
     "text": [
      "Test_Loader: 100%|██████████| 288/288 [00:03<00:00, 82.82it/s]\n"
     ]
    },
    {
     "name": "stdout",
     "output_type": "stream",
     "text": [
      "Loss1: 16.8548, Loss2: 6.0978, Loss3: 28.8956\n"
     ]
    },
    {
     "name": "stderr",
     "output_type": "stream",
     "text": [
      "Test_Loader: 100%|██████████| 288/288 [00:03<00:00, 81.33it/s]\n"
     ]
    },
    {
     "name": "stdout",
     "output_type": "stream",
     "text": [
      "Loss1: 18.8255, Loss2: 6.5779, Loss3: 31.5032\n"
     ]
    },
    {
     "name": "stderr",
     "output_type": "stream",
     "text": [
      "Test_Loader: 100%|██████████| 288/288 [00:03<00:00, 82.93it/s]\n"
     ]
    },
    {
     "name": "stdout",
     "output_type": "stream",
     "text": [
      "Loss1: 19.8167, Loss2: 6.7466, Loss3: 32.1962\n"
     ]
    },
    {
     "name": "stderr",
     "output_type": "stream",
     "text": [
      "Test_Loader: 100%|██████████| 288/288 [00:03<00:00, 83.36it/s]\n"
     ]
    },
    {
     "name": "stdout",
     "output_type": "stream",
     "text": [
      "Loss1: 21.6482, Loss2: 6.5295, Loss3: 31.7683\n"
     ]
    },
    {
     "name": "stderr",
     "output_type": "stream",
     "text": [
      "Test_Loader: 100%|██████████| 288/288 [00:03<00:00, 80.51it/s]\n"
     ]
    },
    {
     "name": "stdout",
     "output_type": "stream",
     "text": [
      "Loss1: 19.9801, Loss2: 6.5051, Loss3: 31.7598\n"
     ]
    },
    {
     "name": "stderr",
     "output_type": "stream",
     "text": [
      "Test_Loader: 100%|██████████| 288/288 [00:03<00:00, 80.44it/s]\n"
     ]
    },
    {
     "name": "stdout",
     "output_type": "stream",
     "text": [
      "Loss1: 18.6349, Loss2: 6.4684, Loss3: 29.6266\n"
     ]
    },
    {
     "name": "stderr",
     "output_type": "stream",
     "text": [
      "Test_Loader: 100%|██████████| 288/288 [00:03<00:00, 80.63it/s]\n"
     ]
    },
    {
     "name": "stdout",
     "output_type": "stream",
     "text": [
      "Loss1: 19.9030, Loss2: 6.7614, Loss3: 30.7976\n"
     ]
    },
    {
     "name": "stderr",
     "output_type": "stream",
     "text": [
      "Test_Loader: 100%|██████████| 288/288 [00:03<00:00, 83.37it/s]\n"
     ]
    },
    {
     "name": "stdout",
     "output_type": "stream",
     "text": [
      "Loss1: 19.9588, Loss2: 6.3913, Loss3: 30.6296\n"
     ]
    },
    {
     "name": "stderr",
     "output_type": "stream",
     "text": [
      "Test_Loader: 100%|██████████| 288/288 [00:03<00:00, 84.28it/s]\n"
     ]
    },
    {
     "name": "stdout",
     "output_type": "stream",
     "text": [
      "Loss1: 20.0463, Loss2: 6.3999, Loss3: 31.1884\n"
     ]
    },
    {
     "name": "stderr",
     "output_type": "stream",
     "text": [
      "Test_Loader: 100%|██████████| 288/288 [00:03<00:00, 76.10it/s]\n"
     ]
    },
    {
     "name": "stdout",
     "output_type": "stream",
     "text": [
      "Loss1: 20.7829, Loss2: 6.8890, Loss3: 30.5291\n"
     ]
    },
    {
     "name": "stderr",
     "output_type": "stream",
     "text": [
      "Test_Loader: 100%|██████████| 288/288 [00:03<00:00, 80.79it/s]\n"
     ]
    },
    {
     "name": "stdout",
     "output_type": "stream",
     "text": [
      "Loss1: 20.4471, Loss2: 6.7258, Loss3: 33.4894\n"
     ]
    },
    {
     "name": "stderr",
     "output_type": "stream",
     "text": [
      "Test_Loader: 100%|██████████| 288/288 [00:03<00:00, 81.11it/s]\n"
     ]
    },
    {
     "name": "stdout",
     "output_type": "stream",
     "text": [
      "Loss1: 22.4444, Loss2: 7.1649, Loss3: 33.5181\n"
     ]
    },
    {
     "name": "stderr",
     "output_type": "stream",
     "text": [
      "Test_Loader: 100%|██████████| 288/288 [00:03<00:00, 78.56it/s]\n"
     ]
    },
    {
     "name": "stdout",
     "output_type": "stream",
     "text": [
      "Loss1: 22.4159, Loss2: 7.2667, Loss3: 34.2749\n"
     ]
    },
    {
     "name": "stderr",
     "output_type": "stream",
     "text": [
      "Test_Loader: 100%|██████████| 288/288 [00:03<00:00, 77.13it/s]\n"
     ]
    },
    {
     "name": "stdout",
     "output_type": "stream",
     "text": [
      "Loss1: 22.5993, Loss2: 7.1132, Loss3: 33.9194\n"
     ]
    },
    {
     "name": "stderr",
     "output_type": "stream",
     "text": [
      "Test_Loader: 100%|██████████| 288/288 [00:03<00:00, 77.17it/s]\n"
     ]
    },
    {
     "name": "stdout",
     "output_type": "stream",
     "text": [
      "Loss1: 21.6959, Loss2: 7.3688, Loss3: 34.5246\n"
     ]
    },
    {
     "name": "stderr",
     "output_type": "stream",
     "text": [
      "Test_Loader: 100%|██████████| 288/288 [00:04<00:00, 68.91it/s]\n"
     ]
    },
    {
     "name": "stdout",
     "output_type": "stream",
     "text": [
      "Loss1: 23.3653, Loss2: 7.8445, Loss3: 35.8771\n"
     ]
    },
    {
     "name": "stderr",
     "output_type": "stream",
     "text": [
      "Test_Loader: 100%|██████████| 288/288 [00:04<00:00, 70.05it/s]\n"
     ]
    },
    {
     "name": "stdout",
     "output_type": "stream",
     "text": [
      "Loss1: 24.3764, Loss2: 8.1142, Loss3: 37.6829\n"
     ]
    },
    {
     "name": "stderr",
     "output_type": "stream",
     "text": [
      "Test_Loader: 100%|██████████| 288/288 [00:04<00:00, 71.61it/s]\n"
     ]
    },
    {
     "name": "stdout",
     "output_type": "stream",
     "text": [
      "Loss1: 25.5827, Loss2: 8.3474, Loss3: 38.0592\n"
     ]
    },
    {
     "name": "stderr",
     "output_type": "stream",
     "text": [
      "Test_Loader: 100%|██████████| 288/288 [00:04<00:00, 68.92it/s]\n"
     ]
    },
    {
     "name": "stdout",
     "output_type": "stream",
     "text": [
      "Loss1: 26.6992, Loss2: 8.3980, Loss3: 38.6679\n"
     ]
    },
    {
     "name": "stderr",
     "output_type": "stream",
     "text": [
      "Test_Loader: 100%|██████████| 288/288 [00:04<00:00, 70.43it/s]\n"
     ]
    },
    {
     "name": "stdout",
     "output_type": "stream",
     "text": [
      "Loss1: 26.9360, Loss2: 8.2191, Loss3: 41.1995\n"
     ]
    },
    {
     "name": "stderr",
     "output_type": "stream",
     "text": [
      "Test_Loader: 100%|██████████| 288/288 [00:04<00:00, 70.55it/s]\n"
     ]
    },
    {
     "name": "stdout",
     "output_type": "stream",
     "text": [
      "Loss1: 27.1730, Loss2: 8.1642, Loss3: 40.0646\n"
     ]
    },
    {
     "name": "stderr",
     "output_type": "stream",
     "text": [
      "Test_Loader: 100%|██████████| 288/288 [00:04<00:00, 70.16it/s]\n"
     ]
    },
    {
     "name": "stdout",
     "output_type": "stream",
     "text": [
      "Loss1: 27.7648, Loss2: 8.1177, Loss3: 40.4190\n"
     ]
    },
    {
     "name": "stderr",
     "output_type": "stream",
     "text": [
      "Test_Loader: 100%|██████████| 288/288 [00:03<00:00, 72.23it/s]\n"
     ]
    },
    {
     "name": "stdout",
     "output_type": "stream",
     "text": [
      "Loss1: 26.9343, Loss2: 8.3856, Loss3: 36.4312\n"
     ]
    },
    {
     "name": "stderr",
     "output_type": "stream",
     "text": [
      "Test_Loader: 100%|██████████| 288/288 [00:03<00:00, 77.97it/s]\n"
     ]
    },
    {
     "name": "stdout",
     "output_type": "stream",
     "text": [
      "Loss1: 30.2315, Loss2: 8.6791, Loss3: 37.9935\n"
     ]
    },
    {
     "name": "stderr",
     "output_type": "stream",
     "text": [
      "Test_Loader: 100%|██████████| 288/288 [00:03<00:00, 80.02it/s]\n"
     ]
    },
    {
     "name": "stdout",
     "output_type": "stream",
     "text": [
      "Loss1: 27.5338, Loss2: 8.6227, Loss3: 38.8846\n"
     ]
    },
    {
     "name": "stderr",
     "output_type": "stream",
     "text": [
      "Test_Loader: 100%|██████████| 288/288 [00:03<00:00, 81.52it/s]\n"
     ]
    },
    {
     "name": "stdout",
     "output_type": "stream",
     "text": [
      "Loss1: 27.5343, Loss2: 8.6445, Loss3: 37.2400\n"
     ]
    },
    {
     "name": "stderr",
     "output_type": "stream",
     "text": [
      "Test_Loader: 100%|██████████| 288/288 [00:03<00:00, 75.61it/s]\n"
     ]
    },
    {
     "name": "stdout",
     "output_type": "stream",
     "text": [
      "Loss1: 24.4052, Loss2: 7.8780, Loss3: 35.1575\n"
     ]
    },
    {
     "name": "stderr",
     "output_type": "stream",
     "text": [
      "Test_Loader: 100%|██████████| 288/288 [00:03<00:00, 76.42it/s]\n"
     ]
    },
    {
     "name": "stdout",
     "output_type": "stream",
     "text": [
      "Loss1: 25.2170, Loss2: 8.2668, Loss3: 34.0047\n"
     ]
    },
    {
     "name": "stderr",
     "output_type": "stream",
     "text": [
      "Test_Loader: 100%|██████████| 288/288 [00:03<00:00, 75.81it/s]\n"
     ]
    },
    {
     "name": "stdout",
     "output_type": "stream",
     "text": [
      "Loss1: 23.5572, Loss2: 7.8590, Loss3: 34.7927\n"
     ]
    },
    {
     "name": "stderr",
     "output_type": "stream",
     "text": [
      "Test_Loader: 100%|██████████| 288/288 [00:03<00:00, 84.43it/s]\n"
     ]
    },
    {
     "name": "stdout",
     "output_type": "stream",
     "text": [
      "Loss1: 24.5661, Loss2: 8.1822, Loss3: 33.5817\n"
     ]
    },
    {
     "name": "stderr",
     "output_type": "stream",
     "text": [
      "Test_Loader: 100%|██████████| 288/288 [00:03<00:00, 80.90it/s]\n"
     ]
    },
    {
     "name": "stdout",
     "output_type": "stream",
     "text": [
      "Loss1: 24.4054, Loss2: 8.4524, Loss3: 38.3541\n"
     ]
    },
    {
     "name": "stderr",
     "output_type": "stream",
     "text": [
      "Test_Loader: 100%|██████████| 288/288 [00:03<00:00, 82.83it/s]\n"
     ]
    },
    {
     "name": "stdout",
     "output_type": "stream",
     "text": [
      "Loss1: 22.7592, Loss2: 7.7963, Loss3: 34.7399\n"
     ]
    },
    {
     "name": "stderr",
     "output_type": "stream",
     "text": [
      "Test_Loader: 100%|██████████| 288/288 [00:03<00:00, 81.23it/s]\n"
     ]
    },
    {
     "name": "stdout",
     "output_type": "stream",
     "text": [
      "Loss1: 21.3211, Loss2: 7.8723, Loss3: 31.9987\n"
     ]
    },
    {
     "name": "stderr",
     "output_type": "stream",
     "text": [
      "Test_Loader: 100%|██████████| 288/288 [00:03<00:00, 85.35it/s]\n"
     ]
    },
    {
     "name": "stdout",
     "output_type": "stream",
     "text": [
      "Loss1: 21.5669, Loss2: 7.6514, Loss3: 31.6157\n"
     ]
    },
    {
     "name": "stderr",
     "output_type": "stream",
     "text": [
      "Test_Loader: 100%|██████████| 288/288 [00:03<00:00, 86.71it/s]\n"
     ]
    },
    {
     "name": "stdout",
     "output_type": "stream",
     "text": [
      "Loss1: 20.9087, Loss2: 7.3781, Loss3: 31.6612\n"
     ]
    },
    {
     "name": "stderr",
     "output_type": "stream",
     "text": [
      "Test_Loader: 100%|██████████| 288/288 [00:03<00:00, 77.05it/s]\n"
     ]
    },
    {
     "name": "stdout",
     "output_type": "stream",
     "text": [
      "Loss1: 22.6755, Loss2: 8.1429, Loss3: 30.8551\n"
     ]
    },
    {
     "name": "stderr",
     "output_type": "stream",
     "text": [
      "Test_Loader: 100%|██████████| 288/288 [00:03<00:00, 75.59it/s]\n"
     ]
    },
    {
     "name": "stdout",
     "output_type": "stream",
     "text": [
      "Loss1: 22.9140, Loss2: 8.0100, Loss3: 33.3585\n"
     ]
    },
    {
     "name": "stderr",
     "output_type": "stream",
     "text": [
      "Test_Loader: 100%|██████████| 288/288 [00:03<00:00, 75.87it/s]\n"
     ]
    },
    {
     "name": "stdout",
     "output_type": "stream",
     "text": [
      "Loss1: 23.1617, Loss2: 7.7679, Loss3: 32.3819\n"
     ]
    },
    {
     "name": "stderr",
     "output_type": "stream",
     "text": [
      "Test_Loader: 100%|██████████| 288/288 [00:03<00:00, 75.93it/s]\n"
     ]
    },
    {
     "name": "stdout",
     "output_type": "stream",
     "text": [
      "Loss1: 21.3786, Loss2: 7.8417, Loss3: 31.2852\n"
     ]
    },
    {
     "name": "stderr",
     "output_type": "stream",
     "text": [
      "Test_Loader: 100%|██████████| 288/288 [00:03<00:00, 76.77it/s]\n"
     ]
    },
    {
     "name": "stdout",
     "output_type": "stream",
     "text": [
      "Loss1: 22.0432, Loss2: 7.7817, Loss3: 31.2288\n"
     ]
    },
    {
     "name": "stderr",
     "output_type": "stream",
     "text": [
      "Test_Loader: 100%|██████████| 288/288 [00:03<00:00, 76.39it/s]\n"
     ]
    },
    {
     "name": "stdout",
     "output_type": "stream",
     "text": [
      "Loss1: 20.2454, Loss2: 7.5234, Loss3: 31.4069\n"
     ]
    },
    {
     "name": "stderr",
     "output_type": "stream",
     "text": [
      "Test_Loader: 100%|██████████| 288/288 [00:03<00:00, 78.34it/s]\n"
     ]
    },
    {
     "name": "stdout",
     "output_type": "stream",
     "text": [
      "Loss1: 21.2741, Loss2: 7.3565, Loss3: 31.1755\n"
     ]
    },
    {
     "name": "stderr",
     "output_type": "stream",
     "text": [
      "Test_Loader: 100%|██████████| 288/288 [00:03<00:00, 75.33it/s]\n"
     ]
    },
    {
     "name": "stdout",
     "output_type": "stream",
     "text": [
      "Loss1: 22.6147, Loss2: 7.1519, Loss3: 30.1068\n"
     ]
    },
    {
     "name": "stderr",
     "output_type": "stream",
     "text": [
      "Test_Loader: 100%|██████████| 288/288 [00:03<00:00, 75.93it/s]\n"
     ]
    },
    {
     "name": "stdout",
     "output_type": "stream",
     "text": [
      "Loss1: 21.5025, Loss2: 8.2381, Loss3: 37.3738\n"
     ]
    },
    {
     "name": "stderr",
     "output_type": "stream",
     "text": [
      "Test_Loader: 100%|██████████| 288/288 [00:03<00:00, 76.03it/s]\n"
     ]
    },
    {
     "name": "stdout",
     "output_type": "stream",
     "text": [
      "Loss1: 21.9021, Loss2: 7.3071, Loss3: 32.0495\n"
     ]
    },
    {
     "name": "stderr",
     "output_type": "stream",
     "text": [
      "Test_Loader: 100%|██████████| 288/288 [00:03<00:00, 84.83it/s]\n"
     ]
    },
    {
     "name": "stdout",
     "output_type": "stream",
     "text": [
      "Loss1: 23.2691, Loss2: 7.7951, Loss3: 34.2025\n"
     ]
    },
    {
     "name": "stderr",
     "output_type": "stream",
     "text": [
      "Test_Loader: 100%|██████████| 288/288 [00:03<00:00, 85.45it/s]\n"
     ]
    },
    {
     "name": "stdout",
     "output_type": "stream",
     "text": [
      "Loss1: 22.3305, Loss2: 7.3135, Loss3: 32.8435\n"
     ]
    },
    {
     "name": "stderr",
     "output_type": "stream",
     "text": [
      "Test_Loader: 100%|██████████| 288/288 [00:03<00:00, 77.49it/s]\n"
     ]
    },
    {
     "name": "stdout",
     "output_type": "stream",
     "text": [
      "Loss1: 25.0839, Loss2: 7.8175, Loss3: 32.5354\n"
     ]
    },
    {
     "name": "stderr",
     "output_type": "stream",
     "text": [
      "Test_Loader: 100%|██████████| 288/288 [00:03<00:00, 76.22it/s]\n"
     ]
    },
    {
     "name": "stdout",
     "output_type": "stream",
     "text": [
      "Loss1: 23.1571, Loss2: 7.4143, Loss3: 33.6600\n"
     ]
    },
    {
     "name": "stderr",
     "output_type": "stream",
     "text": [
      "Test_Loader: 100%|██████████| 288/288 [00:03<00:00, 75.69it/s]\n"
     ]
    },
    {
     "name": "stdout",
     "output_type": "stream",
     "text": [
      "Loss1: 21.8971, Loss2: 7.2891, Loss3: 31.4116\n"
     ]
    },
    {
     "name": "stderr",
     "output_type": "stream",
     "text": [
      "Test_Loader: 100%|██████████| 288/288 [00:03<00:00, 78.01it/s]\n"
     ]
    },
    {
     "name": "stdout",
     "output_type": "stream",
     "text": [
      "Loss1: 23.9069, Loss2: 7.7049, Loss3: 33.5655\n"
     ]
    },
    {
     "name": "stderr",
     "output_type": "stream",
     "text": [
      "Test_Loader: 100%|██████████| 288/288 [00:03<00:00, 74.79it/s]\n"
     ]
    },
    {
     "name": "stdout",
     "output_type": "stream",
     "text": [
      "Loss1: 25.3371, Loss2: 7.8454, Loss3: 34.6000\n"
     ]
    },
    {
     "name": "stderr",
     "output_type": "stream",
     "text": [
      "Test_Loader: 100%|██████████| 288/288 [00:03<00:00, 78.47it/s]\n"
     ]
    },
    {
     "name": "stdout",
     "output_type": "stream",
     "text": [
      "Loss1: 26.0242, Loss2: 7.8541, Loss3: 34.7121\n"
     ]
    },
    {
     "name": "stderr",
     "output_type": "stream",
     "text": [
      "Test_Loader: 100%|██████████| 288/288 [00:03<00:00, 77.90it/s]\n"
     ]
    },
    {
     "name": "stdout",
     "output_type": "stream",
     "text": [
      "Loss1: 24.5376, Loss2: 7.5093, Loss3: 33.7010\n"
     ]
    },
    {
     "name": "stderr",
     "output_type": "stream",
     "text": [
      "Test_Loader: 100%|██████████| 288/288 [00:03<00:00, 81.52it/s]\n"
     ]
    },
    {
     "name": "stdout",
     "output_type": "stream",
     "text": [
      "Loss1: 22.5008, Loss2: 7.2931, Loss3: 34.5483\n"
     ]
    },
    {
     "name": "stderr",
     "output_type": "stream",
     "text": [
      "Test_Loader: 100%|██████████| 288/288 [00:03<00:00, 84.40it/s]\n"
     ]
    },
    {
     "name": "stdout",
     "output_type": "stream",
     "text": [
      "Loss1: 24.3065, Loss2: 7.4661, Loss3: 33.3424\n"
     ]
    },
    {
     "name": "stderr",
     "output_type": "stream",
     "text": [
      "Test_Loader: 100%|██████████| 288/288 [00:03<00:00, 80.14it/s]\n"
     ]
    },
    {
     "name": "stdout",
     "output_type": "stream",
     "text": [
      "Loss1: 22.6489, Loss2: 7.3313, Loss3: 33.3145\n"
     ]
    },
    {
     "name": "stderr",
     "output_type": "stream",
     "text": [
      "Test_Loader: 100%|██████████| 288/288 [00:03<00:00, 77.77it/s]\n"
     ]
    },
    {
     "name": "stdout",
     "output_type": "stream",
     "text": [
      "Loss1: 23.5958, Loss2: 7.3142, Loss3: 32.2576\n"
     ]
    },
    {
     "name": "stderr",
     "output_type": "stream",
     "text": [
      "Test_Loader: 100%|██████████| 288/288 [00:03<00:00, 78.62it/s]\n"
     ]
    },
    {
     "name": "stdout",
     "output_type": "stream",
     "text": [
      "Loss1: 27.2615, Loss2: 7.3038, Loss3: 32.6520\n"
     ]
    },
    {
     "name": "stderr",
     "output_type": "stream",
     "text": [
      "Test_Loader: 100%|██████████| 288/288 [00:03<00:00, 78.63it/s]\n"
     ]
    },
    {
     "name": "stdout",
     "output_type": "stream",
     "text": [
      "Loss1: 22.8475, Loss2: 6.9889, Loss3: 31.6887\n"
     ]
    },
    {
     "name": "stderr",
     "output_type": "stream",
     "text": [
      "Test_Loader: 100%|██████████| 288/288 [00:03<00:00, 77.50it/s]\n"
     ]
    },
    {
     "name": "stdout",
     "output_type": "stream",
     "text": [
      "Loss1: 25.8964, Loss2: 7.1786, Loss3: 34.0247\n"
     ]
    },
    {
     "name": "stderr",
     "output_type": "stream",
     "text": [
      "Test_Loader: 100%|██████████| 288/288 [00:03<00:00, 79.23it/s]\n"
     ]
    },
    {
     "name": "stdout",
     "output_type": "stream",
     "text": [
      "Loss1: 23.4867, Loss2: 6.7497, Loss3: 29.5555\n"
     ]
    },
    {
     "name": "stderr",
     "output_type": "stream",
     "text": [
      "Test_Loader: 100%|██████████| 288/288 [00:03<00:00, 77.00it/s]\n"
     ]
    },
    {
     "name": "stdout",
     "output_type": "stream",
     "text": [
      "Loss1: 23.5301, Loss2: 6.8153, Loss3: 31.7991\n"
     ]
    },
    {
     "name": "stderr",
     "output_type": "stream",
     "text": [
      "Test_Loader: 100%|██████████| 288/288 [00:03<00:00, 78.99it/s]\n"
     ]
    },
    {
     "name": "stdout",
     "output_type": "stream",
     "text": [
      "Loss1: 26.4941, Loss2: 6.8026, Loss3: 30.7416\n"
     ]
    },
    {
     "name": "stderr",
     "output_type": "stream",
     "text": [
      "Test_Loader: 100%|██████████| 288/288 [00:03<00:00, 78.21it/s]\n"
     ]
    },
    {
     "name": "stdout",
     "output_type": "stream",
     "text": [
      "Loss1: 22.1486, Loss2: 6.5182, Loss3: 30.5159\n"
     ]
    },
    {
     "name": "stderr",
     "output_type": "stream",
     "text": [
      "Test_Loader: 100%|██████████| 288/288 [00:03<00:00, 80.74it/s]\n"
     ]
    },
    {
     "name": "stdout",
     "output_type": "stream",
     "text": [
      "Loss1: 22.5504, Loss2: 6.5789, Loss3: 30.8149\n"
     ]
    },
    {
     "name": "stderr",
     "output_type": "stream",
     "text": [
      "Test_Loader: 100%|██████████| 288/288 [00:03<00:00, 80.22it/s]\n"
     ]
    },
    {
     "name": "stdout",
     "output_type": "stream",
     "text": [
      "Loss1: 24.6025, Loss2: 6.5481, Loss3: 31.8229\n"
     ]
    },
    {
     "name": "stderr",
     "output_type": "stream",
     "text": [
      "Test_Loader: 100%|██████████| 288/288 [00:03<00:00, 82.37it/s]\n"
     ]
    },
    {
     "name": "stdout",
     "output_type": "stream",
     "text": [
      "Loss1: 23.0445, Loss2: 6.6779, Loss3: 30.7273\n"
     ]
    },
    {
     "name": "stderr",
     "output_type": "stream",
     "text": [
      "Test_Loader: 100%|██████████| 288/288 [00:03<00:00, 76.94it/s]\n"
     ]
    },
    {
     "name": "stdout",
     "output_type": "stream",
     "text": [
      "Loss1: 23.5881, Loss2: 6.5772, Loss3: 30.3990\n"
     ]
    },
    {
     "name": "stderr",
     "output_type": "stream",
     "text": [
      "Test_Loader: 100%|██████████| 288/288 [00:03<00:00, 77.63it/s]\n"
     ]
    },
    {
     "name": "stdout",
     "output_type": "stream",
     "text": [
      "Loss1: 22.3929, Loss2: 6.5935, Loss3: 29.3341\n"
     ]
    },
    {
     "name": "stderr",
     "output_type": "stream",
     "text": [
      "Test_Loader: 100%|██████████| 288/288 [00:03<00:00, 76.57it/s]\n"
     ]
    },
    {
     "name": "stdout",
     "output_type": "stream",
     "text": [
      "Loss1: 20.3106, Loss2: 6.4429, Loss3: 27.8063\n"
     ]
    },
    {
     "name": "stderr",
     "output_type": "stream",
     "text": [
      "Test_Loader: 100%|██████████| 288/288 [00:03<00:00, 82.91it/s]\n"
     ]
    },
    {
     "name": "stdout",
     "output_type": "stream",
     "text": [
      "Loss1: 23.0685, Loss2: 5.9968, Loss3: 27.9539\n"
     ]
    },
    {
     "name": "stderr",
     "output_type": "stream",
     "text": [
      "Test_Loader: 100%|██████████| 288/288 [00:03<00:00, 80.11it/s]\n"
     ]
    },
    {
     "name": "stdout",
     "output_type": "stream",
     "text": [
      "Loss1: 18.2953, Loss2: 6.0624, Loss3: 25.7192\n"
     ]
    },
    {
     "name": "stderr",
     "output_type": "stream",
     "text": [
      "Test_Loader: 100%|██████████| 288/288 [00:03<00:00, 81.13it/s]\n"
     ]
    },
    {
     "name": "stdout",
     "output_type": "stream",
     "text": [
      "Loss1: 18.4347, Loss2: 6.1427, Loss3: 23.3842\n"
     ]
    },
    {
     "name": "stderr",
     "output_type": "stream",
     "text": [
      "Test_Loader: 100%|██████████| 288/288 [00:03<00:00, 78.09it/s]\n"
     ]
    },
    {
     "name": "stdout",
     "output_type": "stream",
     "text": [
      "Loss1: 15.7781, Loss2: 5.2927, Loss3: 22.0245\n"
     ]
    },
    {
     "name": "stderr",
     "output_type": "stream",
     "text": [
      "Test_Loader: 100%|██████████| 288/288 [00:03<00:00, 77.09it/s]\n"
     ]
    },
    {
     "name": "stdout",
     "output_type": "stream",
     "text": [
      "Loss1: 15.6958, Loss2: 5.4047, Loss3: 21.2999\n"
     ]
    },
    {
     "name": "stderr",
     "output_type": "stream",
     "text": [
      "Test_Loader: 100%|██████████| 288/288 [00:03<00:00, 75.85it/s]\n"
     ]
    },
    {
     "name": "stdout",
     "output_type": "stream",
     "text": [
      "Loss1: 15.5605, Loss2: 5.3426, Loss3: 21.3291\n"
     ]
    },
    {
     "name": "stderr",
     "output_type": "stream",
     "text": [
      "Test_Loader: 100%|██████████| 288/288 [00:03<00:00, 75.02it/s]\n"
     ]
    },
    {
     "name": "stdout",
     "output_type": "stream",
     "text": [
      "Loss1: 15.6597, Loss2: 5.3413, Loss3: 20.9713\n"
     ]
    },
    {
     "name": "stderr",
     "output_type": "stream",
     "text": [
      "Test_Loader: 100%|██████████| 288/288 [00:03<00:00, 78.56it/s]\n"
     ]
    },
    {
     "name": "stdout",
     "output_type": "stream",
     "text": [
      "Loss1: 16.1978, Loss2: 5.7080, Loss3: 20.9497\n"
     ]
    },
    {
     "name": "stderr",
     "output_type": "stream",
     "text": [
      "Test_Loader: 100%|██████████| 288/288 [00:03<00:00, 79.69it/s]\n"
     ]
    },
    {
     "name": "stdout",
     "output_type": "stream",
     "text": [
      "Loss1: 14.3076, Loss2: 5.3569, Loss3: 20.3435\n"
     ]
    },
    {
     "name": "stderr",
     "output_type": "stream",
     "text": [
      "Test_Loader: 100%|██████████| 288/288 [00:03<00:00, 86.40it/s]\n"
     ]
    },
    {
     "name": "stdout",
     "output_type": "stream",
     "text": [
      "Loss1: 15.0928, Loss2: 5.7821, Loss3: 21.5622\n"
     ]
    },
    {
     "name": "stderr",
     "output_type": "stream",
     "text": [
      "Test_Loader: 100%|██████████| 288/288 [00:03<00:00, 85.87it/s]\n"
     ]
    },
    {
     "name": "stdout",
     "output_type": "stream",
     "text": [
      "Loss1: 14.9263, Loss2: 5.8145, Loss3: 21.5546\n"
     ]
    },
    {
     "name": "stderr",
     "output_type": "stream",
     "text": [
      "Test_Loader: 100%|██████████| 288/288 [00:03<00:00, 79.88it/s]\n"
     ]
    },
    {
     "name": "stdout",
     "output_type": "stream",
     "text": [
      "Loss1: 14.4125, Loss2: 5.8318, Loss3: 22.0505\n"
     ]
    },
    {
     "name": "stderr",
     "output_type": "stream",
     "text": [
      "Test_Loader: 100%|██████████| 288/288 [00:04<00:00, 69.77it/s]\n"
     ]
    },
    {
     "name": "stdout",
     "output_type": "stream",
     "text": [
      "Loss1: 15.0216, Loss2: 6.1476, Loss3: 22.3901\n"
     ]
    },
    {
     "name": "stderr",
     "output_type": "stream",
     "text": [
      "Test_Loader: 100%|██████████| 288/288 [00:03<00:00, 72.18it/s]\n"
     ]
    },
    {
     "name": "stdout",
     "output_type": "stream",
     "text": [
      "Loss1: 15.0910, Loss2: 5.9446, Loss3: 22.1273\n"
     ]
    },
    {
     "name": "stderr",
     "output_type": "stream",
     "text": [
      "Test_Loader: 100%|██████████| 288/288 [00:03<00:00, 78.01it/s]\n"
     ]
    },
    {
     "name": "stdout",
     "output_type": "stream",
     "text": [
      "Loss1: 15.4583, Loss2: 6.7200, Loss3: 22.9769\n"
     ]
    },
    {
     "name": "stderr",
     "output_type": "stream",
     "text": [
      "Test_Loader: 100%|██████████| 288/288 [00:03<00:00, 85.56it/s]\n"
     ]
    },
    {
     "name": "stdout",
     "output_type": "stream",
     "text": [
      "Loss1: 16.6713, Loss2: 6.7468, Loss3: 24.2497\n"
     ]
    },
    {
     "name": "stderr",
     "output_type": "stream",
     "text": [
      "Test_Loader: 100%|██████████| 288/288 [00:03<00:00, 87.71it/s]\n"
     ]
    },
    {
     "name": "stdout",
     "output_type": "stream",
     "text": [
      "Loss1: 17.0311, Loss2: 6.9405, Loss3: 27.0809\n"
     ]
    },
    {
     "name": "stderr",
     "output_type": "stream",
     "text": [
      "Test_Loader: 100%|██████████| 288/288 [00:03<00:00, 86.57it/s]\n"
     ]
    },
    {
     "name": "stdout",
     "output_type": "stream",
     "text": [
      "Loss1: 16.3125, Loss2: 6.8617, Loss3: 26.0005\n"
     ]
    },
    {
     "name": "stderr",
     "output_type": "stream",
     "text": [
      "Test_Loader: 100%|██████████| 288/288 [00:03<00:00, 83.58it/s]\n"
     ]
    },
    {
     "name": "stdout",
     "output_type": "stream",
     "text": [
      "Loss1: 16.6986, Loss2: 6.9363, Loss3: 26.1786\n"
     ]
    },
    {
     "name": "stderr",
     "output_type": "stream",
     "text": [
      "Test_Loader: 100%|██████████| 288/288 [00:03<00:00, 81.66it/s]\n"
     ]
    },
    {
     "name": "stdout",
     "output_type": "stream",
     "text": [
      "Loss1: 17.0260, Loss2: 7.0745, Loss3: 27.6749\n"
     ]
    },
    {
     "name": "stderr",
     "output_type": "stream",
     "text": [
      "Test_Loader: 100%|██████████| 288/288 [00:03<00:00, 79.30it/s]\n"
     ]
    },
    {
     "name": "stdout",
     "output_type": "stream",
     "text": [
      "Loss1: 17.6506, Loss2: 7.5715, Loss3: 28.4920\n"
     ]
    },
    {
     "name": "stderr",
     "output_type": "stream",
     "text": [
      "Test_Loader: 100%|██████████| 288/288 [00:03<00:00, 78.12it/s]\n"
     ]
    },
    {
     "name": "stdout",
     "output_type": "stream",
     "text": [
      "Loss1: 17.4348, Loss2: 7.5678, Loss3: 29.8137\n"
     ]
    },
    {
     "name": "stderr",
     "output_type": "stream",
     "text": [
      "Test_Loader: 100%|██████████| 288/288 [00:03<00:00, 81.54it/s]\n"
     ]
    },
    {
     "name": "stdout",
     "output_type": "stream",
     "text": [
      "Loss1: 17.7332, Loss2: 7.7339, Loss3: 28.4870\n"
     ]
    },
    {
     "name": "stderr",
     "output_type": "stream",
     "text": [
      "Test_Loader: 100%|██████████| 288/288 [00:03<00:00, 82.14it/s]\n"
     ]
    },
    {
     "name": "stdout",
     "output_type": "stream",
     "text": [
      "Loss1: 17.5976, Loss2: 7.3896, Loss3: 28.5970\n"
     ]
    },
    {
     "name": "stderr",
     "output_type": "stream",
     "text": [
      "Test_Loader: 100%|██████████| 288/288 [00:03<00:00, 81.06it/s]\n"
     ]
    },
    {
     "name": "stdout",
     "output_type": "stream",
     "text": [
      "Loss1: 16.7932, Loss2: 7.4953, Loss3: 27.7210\n"
     ]
    },
    {
     "name": "stderr",
     "output_type": "stream",
     "text": [
      "Test_Loader: 100%|██████████| 288/288 [00:03<00:00, 76.80it/s]\n"
     ]
    },
    {
     "name": "stdout",
     "output_type": "stream",
     "text": [
      "Loss1: 17.3987, Loss2: 7.6224, Loss3: 29.9217\n"
     ]
    },
    {
     "name": "stderr",
     "output_type": "stream",
     "text": [
      "Test_Loader: 100%|██████████| 288/288 [00:03<00:00, 83.29it/s]\n"
     ]
    },
    {
     "name": "stdout",
     "output_type": "stream",
     "text": [
      "Loss1: 18.2682, Loss2: 7.9981, Loss3: 29.6092\n"
     ]
    },
    {
     "name": "stderr",
     "output_type": "stream",
     "text": [
      "Test_Loader: 100%|██████████| 288/288 [00:03<00:00, 86.64it/s]\n"
     ]
    },
    {
     "name": "stdout",
     "output_type": "stream",
     "text": [
      "Loss1: 18.9251, Loss2: 8.0526, Loss3: 31.6808\n"
     ]
    },
    {
     "name": "stderr",
     "output_type": "stream",
     "text": [
      "Test_Loader: 100%|██████████| 288/288 [00:03<00:00, 85.92it/s]\n"
     ]
    },
    {
     "name": "stdout",
     "output_type": "stream",
     "text": [
      "Loss1: 19.0929, Loss2: 7.8964, Loss3: 37.7557\n"
     ]
    },
    {
     "name": "stderr",
     "output_type": "stream",
     "text": [
      "Test_Loader: 100%|██████████| 288/288 [00:03<00:00, 79.28it/s]\n"
     ]
    },
    {
     "name": "stdout",
     "output_type": "stream",
     "text": [
      "Loss1: 17.8344, Loss2: 7.7060, Loss3: 31.6210\n"
     ]
    },
    {
     "name": "stderr",
     "output_type": "stream",
     "text": [
      "Test_Loader: 100%|██████████| 288/288 [00:03<00:00, 76.74it/s]\n"
     ]
    },
    {
     "name": "stdout",
     "output_type": "stream",
     "text": [
      "Loss1: 18.5256, Loss2: 7.6694, Loss3: 33.4135\n"
     ]
    },
    {
     "name": "stderr",
     "output_type": "stream",
     "text": [
      "Test_Loader: 100%|██████████| 288/288 [00:03<00:00, 76.53it/s]\n"
     ]
    },
    {
     "name": "stdout",
     "output_type": "stream",
     "text": [
      "Loss1: 18.8379, Loss2: 8.5354, Loss3: 33.7212\n"
     ]
    },
    {
     "name": "stderr",
     "output_type": "stream",
     "text": [
      "Test_Loader: 100%|██████████| 288/288 [00:03<00:00, 85.33it/s]\n"
     ]
    },
    {
     "name": "stdout",
     "output_type": "stream",
     "text": [
      "Loss1: 19.0652, Loss2: 7.9976, Loss3: 33.7890\n"
     ]
    },
    {
     "name": "stderr",
     "output_type": "stream",
     "text": [
      "Test_Loader: 100%|██████████| 288/288 [00:03<00:00, 86.49it/s]\n"
     ]
    },
    {
     "name": "stdout",
     "output_type": "stream",
     "text": [
      "Loss1: 18.2225, Loss2: 7.5913, Loss3: 31.3781\n"
     ]
    },
    {
     "name": "stderr",
     "output_type": "stream",
     "text": [
      "Test_Loader: 100%|██████████| 288/288 [00:03<00:00, 88.11it/s]\n"
     ]
    },
    {
     "name": "stdout",
     "output_type": "stream",
     "text": [
      "Loss1: 18.9124, Loss2: 7.7879, Loss3: 33.5027\n"
     ]
    },
    {
     "name": "stderr",
     "output_type": "stream",
     "text": [
      "Test_Loader: 100%|██████████| 288/288 [00:03<00:00, 82.88it/s]\n"
     ]
    },
    {
     "name": "stdout",
     "output_type": "stream",
     "text": [
      "Loss1: 20.1905, Loss2: 8.4542, Loss3: 40.0776\n"
     ]
    },
    {
     "name": "stderr",
     "output_type": "stream",
     "text": [
      "Test_Loader: 100%|██████████| 288/288 [00:03<00:00, 84.19it/s]\n"
     ]
    },
    {
     "name": "stdout",
     "output_type": "stream",
     "text": [
      "Loss1: 18.7031, Loss2: 8.1221, Loss3: 33.6400\n"
     ]
    },
    {
     "name": "stderr",
     "output_type": "stream",
     "text": [
      "Test_Loader: 100%|██████████| 288/288 [00:03<00:00, 83.31it/s]\n"
     ]
    },
    {
     "name": "stdout",
     "output_type": "stream",
     "text": [
      "Loss1: 18.8740, Loss2: 7.9336, Loss3: 32.4790\n"
     ]
    },
    {
     "name": "stderr",
     "output_type": "stream",
     "text": [
      "Test_Loader: 100%|██████████| 288/288 [00:03<00:00, 80.13it/s]\n"
     ]
    },
    {
     "name": "stdout",
     "output_type": "stream",
     "text": [
      "Loss1: 18.2070, Loss2: 7.5599, Loss3: 31.7213\n"
     ]
    },
    {
     "name": "stderr",
     "output_type": "stream",
     "text": [
      "Test_Loader: 100%|██████████| 288/288 [00:03<00:00, 79.80it/s]\n"
     ]
    },
    {
     "name": "stdout",
     "output_type": "stream",
     "text": [
      "Loss1: 18.9018, Loss2: 7.3598, Loss3: 34.6968\n"
     ]
    },
    {
     "name": "stderr",
     "output_type": "stream",
     "text": [
      "Test_Loader: 100%|██████████| 288/288 [00:03<00:00, 80.18it/s]\n"
     ]
    },
    {
     "name": "stdout",
     "output_type": "stream",
     "text": [
      "Loss1: 18.9160, Loss2: 7.6746, Loss3: 32.4487\n"
     ]
    },
    {
     "name": "stderr",
     "output_type": "stream",
     "text": [
      "Test_Loader: 100%|██████████| 288/288 [00:03<00:00, 84.73it/s]\n"
     ]
    },
    {
     "name": "stdout",
     "output_type": "stream",
     "text": [
      "Loss1: 18.5051, Loss2: 7.4627, Loss3: 33.0827\n"
     ]
    },
    {
     "name": "stderr",
     "output_type": "stream",
     "text": [
      "Test_Loader: 100%|██████████| 288/288 [00:03<00:00, 74.73it/s]\n"
     ]
    },
    {
     "name": "stdout",
     "output_type": "stream",
     "text": [
      "Loss1: 19.6885, Loss2: 8.0339, Loss3: 34.0334\n"
     ]
    },
    {
     "name": "stderr",
     "output_type": "stream",
     "text": [
      "Test_Loader: 100%|██████████| 288/288 [00:03<00:00, 83.28it/s]\n"
     ]
    },
    {
     "name": "stdout",
     "output_type": "stream",
     "text": [
      "Loss1: 20.7183, Loss2: 8.2955, Loss3: 35.9522\n"
     ]
    },
    {
     "name": "stderr",
     "output_type": "stream",
     "text": [
      "Test_Loader: 100%|██████████| 288/288 [00:03<00:00, 85.76it/s]\n"
     ]
    },
    {
     "name": "stdout",
     "output_type": "stream",
     "text": [
      "Loss1: 20.6294, Loss2: 8.2273, Loss3: 42.3194\n"
     ]
    },
    {
     "name": "stderr",
     "output_type": "stream",
     "text": [
      "Test_Loader: 100%|██████████| 288/288 [00:03<00:00, 86.17it/s]\n"
     ]
    },
    {
     "name": "stdout",
     "output_type": "stream",
     "text": [
      "Loss1: 21.2300, Loss2: 8.9855, Loss3: 38.4904\n"
     ]
    },
    {
     "name": "stderr",
     "output_type": "stream",
     "text": [
      "Test_Loader: 100%|██████████| 288/288 [00:03<00:00, 81.36it/s]\n"
     ]
    },
    {
     "name": "stdout",
     "output_type": "stream",
     "text": [
      "Loss1: 21.6231, Loss2: 8.9657, Loss3: 40.2989\n"
     ]
    },
    {
     "name": "stderr",
     "output_type": "stream",
     "text": [
      "Test_Loader: 100%|██████████| 288/288 [00:04<00:00, 67.38it/s]\n"
     ]
    },
    {
     "name": "stdout",
     "output_type": "stream",
     "text": [
      "Loss1: 22.0121, Loss2: 8.7343, Loss3: 38.9106\n"
     ]
    },
    {
     "name": "stderr",
     "output_type": "stream",
     "text": [
      "Test_Loader: 100%|██████████| 288/288 [00:04<00:00, 67.08it/s]\n"
     ]
    },
    {
     "name": "stdout",
     "output_type": "stream",
     "text": [
      "Loss1: 20.4149, Loss2: 8.8131, Loss3: 36.3840\n"
     ]
    },
    {
     "name": "stderr",
     "output_type": "stream",
     "text": [
      "Test_Loader: 100%|██████████| 288/288 [00:04<00:00, 68.10it/s]\n"
     ]
    },
    {
     "name": "stdout",
     "output_type": "stream",
     "text": [
      "Loss1: 19.9805, Loss2: 8.9564, Loss3: 35.6746\n"
     ]
    },
    {
     "name": "stderr",
     "output_type": "stream",
     "text": [
      "Test_Loader: 100%|██████████| 288/288 [00:03<00:00, 73.12it/s]\n"
     ]
    },
    {
     "name": "stdout",
     "output_type": "stream",
     "text": [
      "Loss1: 19.4902, Loss2: 8.9265, Loss3: 33.4948\n"
     ]
    },
    {
     "name": "stderr",
     "output_type": "stream",
     "text": [
      "Test_Loader: 100%|██████████| 288/288 [00:04<00:00, 71.99it/s]\n"
     ]
    },
    {
     "name": "stdout",
     "output_type": "stream",
     "text": [
      "Loss1: 17.4949, Loss2: 8.3908, Loss3: 30.2711\n"
     ]
    },
    {
     "name": "stderr",
     "output_type": "stream",
     "text": [
      "Test_Loader: 100%|██████████| 288/288 [00:03<00:00, 80.59it/s]\n"
     ]
    },
    {
     "name": "stdout",
     "output_type": "stream",
     "text": [
      "Loss1: 17.2552, Loss2: 7.8289, Loss3: 29.1263\n"
     ]
    },
    {
     "name": "stderr",
     "output_type": "stream",
     "text": [
      "Test_Loader: 100%|██████████| 288/288 [00:03<00:00, 82.29it/s]\n"
     ]
    },
    {
     "name": "stdout",
     "output_type": "stream",
     "text": [
      "Loss1: 16.6657, Loss2: 7.7054, Loss3: 27.8323\n"
     ]
    },
    {
     "name": "stderr",
     "output_type": "stream",
     "text": [
      "Test_Loader: 100%|██████████| 288/288 [00:03<00:00, 80.97it/s]\n"
     ]
    },
    {
     "name": "stdout",
     "output_type": "stream",
     "text": [
      "Loss1: 16.9326, Loss2: 7.5726, Loss3: 28.2107\n"
     ]
    },
    {
     "name": "stderr",
     "output_type": "stream",
     "text": [
      "Test_Loader: 100%|██████████| 288/288 [00:03<00:00, 79.56it/s]\n"
     ]
    },
    {
     "name": "stdout",
     "output_type": "stream",
     "text": [
      "Loss1: 17.3208, Loss2: 8.3376, Loss3: 31.1768\n"
     ]
    },
    {
     "name": "stderr",
     "output_type": "stream",
     "text": [
      "Test_Loader: 100%|██████████| 288/288 [00:03<00:00, 73.43it/s]\n"
     ]
    },
    {
     "name": "stdout",
     "output_type": "stream",
     "text": [
      "Loss1: 17.2043, Loss2: 7.6192, Loss3: 30.3144\n"
     ]
    },
    {
     "name": "stderr",
     "output_type": "stream",
     "text": [
      "Test_Loader: 100%|██████████| 288/288 [00:03<00:00, 74.12it/s]\n"
     ]
    },
    {
     "name": "stdout",
     "output_type": "stream",
     "text": [
      "Loss1: 16.4761, Loss2: 7.4382, Loss3: 27.6519\n"
     ]
    },
    {
     "name": "stderr",
     "output_type": "stream",
     "text": [
      "Test_Loader: 100%|██████████| 288/288 [00:03<00:00, 78.38it/s]\n"
     ]
    },
    {
     "name": "stdout",
     "output_type": "stream",
     "text": [
      "Loss1: 17.9213, Loss2: 7.4854, Loss3: 29.4315\n"
     ]
    },
    {
     "name": "stderr",
     "output_type": "stream",
     "text": [
      "Test_Loader: 100%|██████████| 288/288 [00:03<00:00, 80.81it/s]\n"
     ]
    },
    {
     "name": "stdout",
     "output_type": "stream",
     "text": [
      "Loss1: 18.0595, Loss2: 8.1917, Loss3: 31.8264\n"
     ]
    },
    {
     "name": "stderr",
     "output_type": "stream",
     "text": [
      "Test_Loader: 100%|██████████| 288/288 [00:03<00:00, 82.14it/s]\n"
     ]
    },
    {
     "name": "stdout",
     "output_type": "stream",
     "text": [
      "Loss1: 18.2232, Loss2: 7.4805, Loss3: 32.5241\n"
     ]
    },
    {
     "name": "stderr",
     "output_type": "stream",
     "text": [
      "Test_Loader: 100%|██████████| 288/288 [00:03<00:00, 83.72it/s]\n"
     ]
    },
    {
     "name": "stdout",
     "output_type": "stream",
     "text": [
      "Loss1: 18.2852, Loss2: 8.2902, Loss3: 33.7667\n"
     ]
    },
    {
     "name": "stderr",
     "output_type": "stream",
     "text": [
      "Test_Loader: 100%|██████████| 288/288 [00:03<00:00, 75.73it/s]\n"
     ]
    },
    {
     "name": "stdout",
     "output_type": "stream",
     "text": [
      "Loss1: 17.0159, Loss2: 7.6554, Loss3: 31.8469\n"
     ]
    },
    {
     "name": "stderr",
     "output_type": "stream",
     "text": [
      "Test_Loader: 100%|██████████| 288/288 [00:03<00:00, 83.32it/s]\n"
     ]
    },
    {
     "name": "stdout",
     "output_type": "stream",
     "text": [
      "Loss1: 18.1441, Loss2: 8.1338, Loss3: 28.9561\n"
     ]
    },
    {
     "name": "stderr",
     "output_type": "stream",
     "text": [
      "Test_Loader: 100%|██████████| 288/288 [00:03<00:00, 79.80it/s]\n"
     ]
    },
    {
     "name": "stdout",
     "output_type": "stream",
     "text": [
      "Loss1: 17.8251, Loss2: 7.7259, Loss3: 31.9791\n"
     ]
    },
    {
     "name": "stderr",
     "output_type": "stream",
     "text": [
      "Test_Loader: 100%|██████████| 288/288 [00:03<00:00, 76.27it/s]\n"
     ]
    },
    {
     "name": "stdout",
     "output_type": "stream",
     "text": [
      "Loss1: 17.9481, Loss2: 8.0195, Loss3: 29.7316\n"
     ]
    },
    {
     "name": "stderr",
     "output_type": "stream",
     "text": [
      "Test_Loader: 100%|██████████| 288/288 [00:03<00:00, 78.00it/s]\n"
     ]
    },
    {
     "name": "stdout",
     "output_type": "stream",
     "text": [
      "Loss1: 17.8102, Loss2: 7.9116, Loss3: 30.9186\n"
     ]
    },
    {
     "name": "stderr",
     "output_type": "stream",
     "text": [
      "Test_Loader: 100%|██████████| 288/288 [00:03<00:00, 79.38it/s]\n"
     ]
    },
    {
     "name": "stdout",
     "output_type": "stream",
     "text": [
      "Loss1: 17.9016, Loss2: 8.0639, Loss3: 30.6008\n"
     ]
    },
    {
     "name": "stderr",
     "output_type": "stream",
     "text": [
      "Test_Loader: 100%|██████████| 288/288 [00:03<00:00, 74.80it/s]\n"
     ]
    },
    {
     "name": "stdout",
     "output_type": "stream",
     "text": [
      "Loss1: 17.7778, Loss2: 7.8545, Loss3: 30.2588\n"
     ]
    },
    {
     "name": "stderr",
     "output_type": "stream",
     "text": [
      "Test_Loader: 100%|██████████| 288/288 [00:03<00:00, 73.46it/s]\n"
     ]
    },
    {
     "name": "stdout",
     "output_type": "stream",
     "text": [
      "Loss1: 17.4518, Loss2: 7.7827, Loss3: 29.1375\n"
     ]
    },
    {
     "name": "stderr",
     "output_type": "stream",
     "text": [
      "Test_Loader: 100%|██████████| 288/288 [00:03<00:00, 79.12it/s]\n"
     ]
    },
    {
     "name": "stdout",
     "output_type": "stream",
     "text": [
      "Loss1: 17.3894, Loss2: 7.8377, Loss3: 29.1617\n"
     ]
    },
    {
     "name": "stderr",
     "output_type": "stream",
     "text": [
      "Test_Loader: 100%|██████████| 288/288 [00:03<00:00, 84.15it/s]\n"
     ]
    },
    {
     "name": "stdout",
     "output_type": "stream",
     "text": [
      "Loss1: 17.9034, Loss2: 7.9177, Loss3: 31.4221\n"
     ]
    },
    {
     "name": "stderr",
     "output_type": "stream",
     "text": [
      "Test_Loader: 100%|██████████| 288/288 [00:03<00:00, 83.78it/s]\n"
     ]
    },
    {
     "name": "stdout",
     "output_type": "stream",
     "text": [
      "Loss1: 16.8981, Loss2: 7.5067, Loss3: 30.6125\n"
     ]
    },
    {
     "name": "stderr",
     "output_type": "stream",
     "text": [
      "Test_Loader: 100%|██████████| 288/288 [00:03<00:00, 80.78it/s]\n"
     ]
    },
    {
     "name": "stdout",
     "output_type": "stream",
     "text": [
      "Loss1: 17.2494, Loss2: 7.1908, Loss3: 27.8896\n"
     ]
    },
    {
     "name": "stderr",
     "output_type": "stream",
     "text": [
      "Test_Loader: 100%|██████████| 288/288 [00:03<00:00, 76.72it/s]\n"
     ]
    },
    {
     "name": "stdout",
     "output_type": "stream",
     "text": [
      "Loss1: 16.9848, Loss2: 7.3003, Loss3: 27.1681\n"
     ]
    },
    {
     "name": "stderr",
     "output_type": "stream",
     "text": [
      "Test_Loader: 100%|██████████| 288/288 [00:03<00:00, 74.28it/s]\n"
     ]
    },
    {
     "name": "stdout",
     "output_type": "stream",
     "text": [
      "Loss1: 16.4655, Loss2: 7.6151, Loss3: 28.7523\n"
     ]
    },
    {
     "name": "stderr",
     "output_type": "stream",
     "text": [
      "Test_Loader: 100%|██████████| 288/288 [00:03<00:00, 76.00it/s]\n"
     ]
    },
    {
     "name": "stdout",
     "output_type": "stream",
     "text": [
      "Loss1: 17.0390, Loss2: 7.0925, Loss3: 27.5823\n"
     ]
    },
    {
     "name": "stderr",
     "output_type": "stream",
     "text": [
      "Test_Loader: 100%|██████████| 288/288 [00:04<00:00, 71.82it/s]\n"
     ]
    },
    {
     "name": "stdout",
     "output_type": "stream",
     "text": [
      "Loss1: 16.5669, Loss2: 7.3436, Loss3: 29.2535\n"
     ]
    },
    {
     "name": "stderr",
     "output_type": "stream",
     "text": [
      "Test_Loader: 100%|██████████| 288/288 [00:03<00:00, 72.57it/s]\n"
     ]
    },
    {
     "name": "stdout",
     "output_type": "stream",
     "text": [
      "Loss1: 16.4492, Loss2: 6.8042, Loss3: 26.0363\n"
     ]
    },
    {
     "name": "stderr",
     "output_type": "stream",
     "text": [
      "Test_Loader: 100%|██████████| 288/288 [00:03<00:00, 78.75it/s]\n"
     ]
    },
    {
     "name": "stdout",
     "output_type": "stream",
     "text": [
      "Loss1: 15.8344, Loss2: 6.9116, Loss3: 26.8223\n"
     ]
    },
    {
     "name": "stderr",
     "output_type": "stream",
     "text": [
      "Test_Loader: 100%|██████████| 288/288 [00:03<00:00, 82.89it/s]\n"
     ]
    },
    {
     "name": "stdout",
     "output_type": "stream",
     "text": [
      "Loss1: 16.3946, Loss2: 7.4370, Loss3: 25.8245\n"
     ]
    },
    {
     "name": "stderr",
     "output_type": "stream",
     "text": [
      "Test_Loader: 100%|██████████| 288/288 [00:03<00:00, 82.55it/s]\n"
     ]
    },
    {
     "name": "stdout",
     "output_type": "stream",
     "text": [
      "Loss1: 15.7783, Loss2: 7.1285, Loss3: 25.0342\n"
     ]
    },
    {
     "name": "stderr",
     "output_type": "stream",
     "text": [
      "Test_Loader: 100%|██████████| 288/288 [00:03<00:00, 82.05it/s]\n"
     ]
    },
    {
     "name": "stdout",
     "output_type": "stream",
     "text": [
      "Loss1: 16.9218, Loss2: 7.0474, Loss3: 26.6743\n"
     ]
    },
    {
     "name": "stderr",
     "output_type": "stream",
     "text": [
      "Test_Loader: 100%|██████████| 288/288 [00:03<00:00, 83.08it/s]\n"
     ]
    },
    {
     "name": "stdout",
     "output_type": "stream",
     "text": [
      "Loss1: 16.4117, Loss2: 7.2608, Loss3: 26.3986\n"
     ]
    },
    {
     "name": "stderr",
     "output_type": "stream",
     "text": [
      "Test_Loader: 100%|██████████| 288/288 [00:03<00:00, 79.53it/s]\n"
     ]
    },
    {
     "name": "stdout",
     "output_type": "stream",
     "text": [
      "Loss1: 16.4446, Loss2: 6.9168, Loss3: 26.2074\n"
     ]
    },
    {
     "name": "stderr",
     "output_type": "stream",
     "text": [
      "Test_Loader: 100%|██████████| 288/288 [00:03<00:00, 73.01it/s]\n"
     ]
    },
    {
     "name": "stdout",
     "output_type": "stream",
     "text": [
      "Loss1: 16.5911, Loss2: 7.2172, Loss3: 26.8665\n"
     ]
    },
    {
     "name": "stderr",
     "output_type": "stream",
     "text": [
      "Test_Loader: 100%|██████████| 288/288 [00:04<00:00, 71.62it/s]\n"
     ]
    },
    {
     "name": "stdout",
     "output_type": "stream",
     "text": [
      "Loss1: 15.5537, Loss2: 6.9455, Loss3: 26.1409\n"
     ]
    },
    {
     "name": "stderr",
     "output_type": "stream",
     "text": [
      "Test_Loader: 100%|██████████| 288/288 [00:03<00:00, 72.22it/s]\n"
     ]
    },
    {
     "name": "stdout",
     "output_type": "stream",
     "text": [
      "Loss1: 16.0751, Loss2: 7.1294, Loss3: 25.2467\n"
     ]
    },
    {
     "name": "stderr",
     "output_type": "stream",
     "text": [
      "Test_Loader: 100%|██████████| 288/288 [00:03<00:00, 80.55it/s]\n"
     ]
    },
    {
     "name": "stdout",
     "output_type": "stream",
     "text": [
      "Loss1: 15.8991, Loss2: 6.7847, Loss3: 26.3845\n"
     ]
    },
    {
     "name": "stderr",
     "output_type": "stream",
     "text": [
      "Test_Loader: 100%|██████████| 288/288 [00:03<00:00, 80.50it/s]\n"
     ]
    },
    {
     "name": "stdout",
     "output_type": "stream",
     "text": [
      "Loss1: 15.5366, Loss2: 6.8668, Loss3: 25.0931\n"
     ]
    },
    {
     "name": "stderr",
     "output_type": "stream",
     "text": [
      "Test_Loader: 100%|██████████| 288/288 [00:03<00:00, 81.51it/s]\n"
     ]
    },
    {
     "name": "stdout",
     "output_type": "stream",
     "text": [
      "Loss1: 15.2506, Loss2: 6.5580, Loss3: 25.0497\n"
     ]
    },
    {
     "name": "stderr",
     "output_type": "stream",
     "text": [
      "Test_Loader: 100%|██████████| 288/288 [00:03<00:00, 81.51it/s]\n"
     ]
    },
    {
     "name": "stdout",
     "output_type": "stream",
     "text": [
      "Loss1: 15.1170, Loss2: 7.0978, Loss3: 24.3027\n"
     ]
    },
    {
     "name": "stderr",
     "output_type": "stream",
     "text": [
      "Test_Loader: 100%|██████████| 288/288 [00:03<00:00, 82.89it/s]\n"
     ]
    },
    {
     "name": "stdout",
     "output_type": "stream",
     "text": [
      "Loss1: 15.7202, Loss2: 6.6143, Loss3: 24.9674\n"
     ]
    },
    {
     "name": "stderr",
     "output_type": "stream",
     "text": [
      "Test_Loader: 100%|██████████| 288/288 [00:03<00:00, 81.85it/s]\n"
     ]
    },
    {
     "name": "stdout",
     "output_type": "stream",
     "text": [
      "Loss1: 15.0219, Loss2: 6.9635, Loss3: 25.7900\n"
     ]
    },
    {
     "name": "stderr",
     "output_type": "stream",
     "text": [
      "Test_Loader: 100%|██████████| 288/288 [00:03<00:00, 78.00it/s]\n"
     ]
    },
    {
     "name": "stdout",
     "output_type": "stream",
     "text": [
      "Loss1: 15.9127, Loss2: 6.6859, Loss3: 25.9478\n"
     ]
    },
    {
     "name": "stderr",
     "output_type": "stream",
     "text": [
      "Test_Loader: 100%|██████████| 288/288 [00:03<00:00, 76.62it/s]\n"
     ]
    },
    {
     "name": "stdout",
     "output_type": "stream",
     "text": [
      "Loss1: 15.4577, Loss2: 6.7886, Loss3: 26.1499\n"
     ]
    },
    {
     "name": "stderr",
     "output_type": "stream",
     "text": [
      "Test_Loader: 100%|██████████| 288/288 [00:03<00:00, 76.60it/s]\n"
     ]
    },
    {
     "name": "stdout",
     "output_type": "stream",
     "text": [
      "Loss1: 15.6351, Loss2: 6.9638, Loss3: 25.1236\n"
     ]
    },
    {
     "name": "stderr",
     "output_type": "stream",
     "text": [
      "Test_Loader: 100%|██████████| 288/288 [00:03<00:00, 76.41it/s]\n"
     ]
    },
    {
     "name": "stdout",
     "output_type": "stream",
     "text": [
      "Loss1: 15.8333, Loss2: 7.1624, Loss3: 25.5673\n"
     ]
    },
    {
     "name": "stderr",
     "output_type": "stream",
     "text": [
      "Test_Loader: 100%|██████████| 288/288 [00:03<00:00, 80.65it/s]\n"
     ]
    },
    {
     "name": "stdout",
     "output_type": "stream",
     "text": [
      "Loss1: 15.5209, Loss2: 6.9337, Loss3: 25.1240\n"
     ]
    },
    {
     "name": "stderr",
     "output_type": "stream",
     "text": [
      "Test_Loader: 100%|██████████| 288/288 [00:03<00:00, 82.71it/s]\n"
     ]
    },
    {
     "name": "stdout",
     "output_type": "stream",
     "text": [
      "Loss1: 15.7055, Loss2: 6.7157, Loss3: 26.1748\n"
     ]
    },
    {
     "name": "stderr",
     "output_type": "stream",
     "text": [
      "Test_Loader: 100%|██████████| 288/288 [00:03<00:00, 84.38it/s]\n"
     ]
    },
    {
     "name": "stdout",
     "output_type": "stream",
     "text": [
      "Loss1: 14.8986, Loss2: 6.9695, Loss3: 24.3284\n"
     ]
    },
    {
     "name": "stderr",
     "output_type": "stream",
     "text": [
      "Test_Loader: 100%|██████████| 288/288 [00:03<00:00, 82.45it/s]\n"
     ]
    },
    {
     "name": "stdout",
     "output_type": "stream",
     "text": [
      "Loss1: 15.8978, Loss2: 7.4065, Loss3: 24.7789\n"
     ]
    },
    {
     "name": "stderr",
     "output_type": "stream",
     "text": [
      "Test_Loader: 100%|██████████| 288/288 [00:03<00:00, 80.81it/s]\n"
     ]
    },
    {
     "name": "stdout",
     "output_type": "stream",
     "text": [
      "Loss1: 15.7008, Loss2: 8.4176, Loss3: 28.1545\n"
     ]
    },
    {
     "name": "stderr",
     "output_type": "stream",
     "text": [
      "Test_Loader: 100%|██████████| 288/288 [00:03<00:00, 77.35it/s]\n"
     ]
    },
    {
     "name": "stdout",
     "output_type": "stream",
     "text": [
      "Loss1: 16.2271, Loss2: 8.3497, Loss3: 28.1633\n"
     ]
    },
    {
     "name": "stderr",
     "output_type": "stream",
     "text": [
      "Test_Loader: 100%|██████████| 288/288 [00:03<00:00, 74.77it/s]\n"
     ]
    },
    {
     "name": "stdout",
     "output_type": "stream",
     "text": [
      "Loss1: 15.0858, Loss2: 7.9234, Loss3: 27.5126\n"
     ]
    },
    {
     "name": "stderr",
     "output_type": "stream",
     "text": [
      "Test_Loader: 100%|██████████| 288/288 [00:03<00:00, 79.67it/s]\n"
     ]
    },
    {
     "name": "stdout",
     "output_type": "stream",
     "text": [
      "Loss1: 15.2322, Loss2: 7.3743, Loss3: 28.0204\n"
     ]
    },
    {
     "name": "stderr",
     "output_type": "stream",
     "text": [
      "Test_Loader: 100%|██████████| 288/288 [00:03<00:00, 82.71it/s]\n"
     ]
    },
    {
     "name": "stdout",
     "output_type": "stream",
     "text": [
      "Loss1: 16.1109, Loss2: 8.2009, Loss3: 26.7287\n"
     ]
    },
    {
     "name": "stderr",
     "output_type": "stream",
     "text": [
      "Test_Loader: 100%|██████████| 288/288 [00:03<00:00, 81.66it/s]\n"
     ]
    },
    {
     "name": "stdout",
     "output_type": "stream",
     "text": [
      "Loss1: 16.2551, Loss2: 8.0828, Loss3: 27.3728\n"
     ]
    },
    {
     "name": "stderr",
     "output_type": "stream",
     "text": [
      "Test_Loader: 100%|██████████| 288/288 [00:03<00:00, 82.30it/s]\n"
     ]
    },
    {
     "name": "stdout",
     "output_type": "stream",
     "text": [
      "Loss1: 16.3278, Loss2: 7.7699, Loss3: 27.1485\n"
     ]
    },
    {
     "name": "stderr",
     "output_type": "stream",
     "text": [
      "Test_Loader: 100%|██████████| 288/288 [00:03<00:00, 81.05it/s]\n"
     ]
    },
    {
     "name": "stdout",
     "output_type": "stream",
     "text": [
      "Loss1: 16.2104, Loss2: 7.8557, Loss3: 27.8686\n"
     ]
    },
    {
     "name": "stderr",
     "output_type": "stream",
     "text": [
      "Test_Loader: 100%|██████████| 288/288 [00:03<00:00, 80.09it/s]\n"
     ]
    },
    {
     "name": "stdout",
     "output_type": "stream",
     "text": [
      "Loss1: 15.7889, Loss2: 7.5174, Loss3: 27.2447\n"
     ]
    },
    {
     "name": "stderr",
     "output_type": "stream",
     "text": [
      "Test_Loader: 100%|██████████| 288/288 [00:03<00:00, 79.78it/s]\n"
     ]
    },
    {
     "name": "stdout",
     "output_type": "stream",
     "text": [
      "Loss1: 16.4617, Loss2: 7.7315, Loss3: 27.1154\n"
     ]
    },
    {
     "name": "stderr",
     "output_type": "stream",
     "text": [
      "Test_Loader: 100%|██████████| 288/288 [00:03<00:00, 79.84it/s]\n"
     ]
    },
    {
     "name": "stdout",
     "output_type": "stream",
     "text": [
      "Loss1: 15.7148, Loss2: 6.6343, Loss3: 26.9622\n"
     ]
    },
    {
     "name": "stderr",
     "output_type": "stream",
     "text": [
      "Test_Loader: 100%|██████████| 288/288 [00:03<00:00, 83.86it/s]\n"
     ]
    },
    {
     "name": "stdout",
     "output_type": "stream",
     "text": [
      "Loss1: 16.1604, Loss2: 7.3773, Loss3: 25.9953\n"
     ]
    },
    {
     "name": "stderr",
     "output_type": "stream",
     "text": [
      "Test_Loader: 100%|██████████| 288/288 [00:03<00:00, 85.59it/s]\n"
     ]
    },
    {
     "name": "stdout",
     "output_type": "stream",
     "text": [
      "Loss1: 16.1260, Loss2: 7.1739, Loss3: 25.6922\n"
     ]
    },
    {
     "name": "stderr",
     "output_type": "stream",
     "text": [
      "Test_Loader: 100%|██████████| 288/288 [00:03<00:00, 86.69it/s]\n"
     ]
    },
    {
     "name": "stdout",
     "output_type": "stream",
     "text": [
      "Loss1: 14.9846, Loss2: 7.4260, Loss3: 26.5541\n"
     ]
    },
    {
     "name": "stderr",
     "output_type": "stream",
     "text": [
      "Test_Loader: 100%|██████████| 288/288 [00:03<00:00, 85.46it/s]\n"
     ]
    },
    {
     "name": "stdout",
     "output_type": "stream",
     "text": [
      "Loss1: 14.8332, Loss2: 6.2794, Loss3: 23.4462\n"
     ]
    },
    {
     "name": "stderr",
     "output_type": "stream",
     "text": [
      "Test_Loader: 100%|██████████| 288/288 [00:03<00:00, 77.71it/s]\n"
     ]
    },
    {
     "name": "stdout",
     "output_type": "stream",
     "text": [
      "Loss1: 14.5961, Loss2: 6.3861, Loss3: 23.9265\n"
     ]
    },
    {
     "name": "stderr",
     "output_type": "stream",
     "text": [
      "Test_Loader: 100%|██████████| 288/288 [00:03<00:00, 73.41it/s]\n"
     ]
    },
    {
     "name": "stdout",
     "output_type": "stream",
     "text": [
      "Loss1: 14.4464, Loss2: 6.5020, Loss3: 23.1258\n"
     ]
    },
    {
     "name": "stderr",
     "output_type": "stream",
     "text": [
      "Test_Loader: 100%|██████████| 288/288 [00:03<00:00, 75.55it/s]\n"
     ]
    },
    {
     "name": "stdout",
     "output_type": "stream",
     "text": [
      "Loss1: 14.9213, Loss2: 6.8420, Loss3: 24.7978\n"
     ]
    },
    {
     "name": "stderr",
     "output_type": "stream",
     "text": [
      "Test_Loader: 100%|██████████| 288/288 [00:03<00:00, 83.87it/s]\n"
     ]
    },
    {
     "name": "stdout",
     "output_type": "stream",
     "text": [
      "Loss1: 16.0511, Loss2: 6.8912, Loss3: 26.1400\n"
     ]
    },
    {
     "name": "stderr",
     "output_type": "stream",
     "text": [
      "Test_Loader: 100%|██████████| 288/288 [00:03<00:00, 84.31it/s]\n"
     ]
    },
    {
     "name": "stdout",
     "output_type": "stream",
     "text": [
      "Loss1: 16.4214, Loss2: 6.3652, Loss3: 29.5446\n"
     ]
    },
    {
     "name": "stderr",
     "output_type": "stream",
     "text": [
      "Test_Loader: 100%|██████████| 288/288 [00:03<00:00, 84.93it/s]\n"
     ]
    },
    {
     "name": "stdout",
     "output_type": "stream",
     "text": [
      "Loss1: 15.6883, Loss2: 7.0919, Loss3: 24.6099\n"
     ]
    },
    {
     "name": "stderr",
     "output_type": "stream",
     "text": [
      "Test_Loader: 100%|██████████| 288/288 [00:03<00:00, 84.05it/s]\n"
     ]
    },
    {
     "name": "stdout",
     "output_type": "stream",
     "text": [
      "Loss1: 16.0081, Loss2: 6.2713, Loss3: 25.8156\n"
     ]
    },
    {
     "name": "stderr",
     "output_type": "stream",
     "text": [
      "Test_Loader: 100%|██████████| 288/288 [00:03<00:00, 85.61it/s]\n"
     ]
    },
    {
     "name": "stdout",
     "output_type": "stream",
     "text": [
      "Loss1: 16.0771, Loss2: 7.1019, Loss3: 24.3858\n"
     ]
    },
    {
     "name": "stderr",
     "output_type": "stream",
     "text": [
      "Test_Loader: 100%|██████████| 288/288 [00:03<00:00, 83.83it/s]\n"
     ]
    },
    {
     "name": "stdout",
     "output_type": "stream",
     "text": [
      "Loss1: 15.8047, Loss2: 6.9091, Loss3: 24.9005\n"
     ]
    },
    {
     "name": "stderr",
     "output_type": "stream",
     "text": [
      "Test_Loader: 100%|██████████| 288/288 [00:03<00:00, 81.82it/s]\n"
     ]
    },
    {
     "name": "stdout",
     "output_type": "stream",
     "text": [
      "Loss1: 15.5734, Loss2: 6.8011, Loss3: 25.4767\n"
     ]
    },
    {
     "name": "stderr",
     "output_type": "stream",
     "text": [
      "Test_Loader: 100%|██████████| 288/288 [00:03<00:00, 83.14it/s]\n"
     ]
    },
    {
     "name": "stdout",
     "output_type": "stream",
     "text": [
      "Loss1: 15.7857, Loss2: 6.8069, Loss3: 24.3698\n"
     ]
    },
    {
     "name": "stderr",
     "output_type": "stream",
     "text": [
      "Test_Loader: 100%|██████████| 288/288 [00:03<00:00, 81.70it/s]\n"
     ]
    },
    {
     "name": "stdout",
     "output_type": "stream",
     "text": [
      "Loss1: 15.9985, Loss2: 6.8209, Loss3: 24.4723\n"
     ]
    },
    {
     "name": "stderr",
     "output_type": "stream",
     "text": [
      "Test_Loader: 100%|██████████| 288/288 [00:03<00:00, 82.10it/s]\n"
     ]
    },
    {
     "name": "stdout",
     "output_type": "stream",
     "text": [
      "Loss1: 16.4107, Loss2: 7.3845, Loss3: 27.4297\n"
     ]
    },
    {
     "name": "stderr",
     "output_type": "stream",
     "text": [
      "Test_Loader: 100%|██████████| 288/288 [00:03<00:00, 81.91it/s]\n"
     ]
    },
    {
     "name": "stdout",
     "output_type": "stream",
     "text": [
      "Loss1: 16.5443, Loss2: 7.3551, Loss3: 26.0637\n"
     ]
    },
    {
     "name": "stderr",
     "output_type": "stream",
     "text": [
      "Test_Loader: 100%|██████████| 288/288 [00:03<00:00, 81.52it/s]\n"
     ]
    },
    {
     "name": "stdout",
     "output_type": "stream",
     "text": [
      "Loss1: 16.5198, Loss2: 6.9876, Loss3: 24.7623\n"
     ]
    },
    {
     "name": "stderr",
     "output_type": "stream",
     "text": [
      "Test_Loader: 100%|██████████| 288/288 [00:03<00:00, 86.70it/s]\n"
     ]
    },
    {
     "name": "stdout",
     "output_type": "stream",
     "text": [
      "Loss1: 16.9291, Loss2: 6.5252, Loss3: 26.4289\n"
     ]
    },
    {
     "name": "stderr",
     "output_type": "stream",
     "text": [
      "Test_Loader: 100%|██████████| 288/288 [00:03<00:00, 87.15it/s]\n"
     ]
    },
    {
     "name": "stdout",
     "output_type": "stream",
     "text": [
      "Loss1: 15.9283, Loss2: 7.0663, Loss3: 25.1591\n"
     ]
    },
    {
     "name": "stderr",
     "output_type": "stream",
     "text": [
      "Test_Loader: 100%|██████████| 288/288 [00:03<00:00, 87.12it/s]\n"
     ]
    },
    {
     "name": "stdout",
     "output_type": "stream",
     "text": [
      "Loss1: 16.2962, Loss2: 7.0843, Loss3: 25.1693\n"
     ]
    },
    {
     "name": "stderr",
     "output_type": "stream",
     "text": [
      "Test_Loader: 100%|██████████| 288/288 [00:03<00:00, 80.52it/s]\n"
     ]
    },
    {
     "name": "stdout",
     "output_type": "stream",
     "text": [
      "Loss1: 16.3270, Loss2: 7.4504, Loss3: 27.7071\n"
     ]
    },
    {
     "name": "stderr",
     "output_type": "stream",
     "text": [
      "Test_Loader: 100%|██████████| 288/288 [00:03<00:00, 79.96it/s]\n"
     ]
    },
    {
     "name": "stdout",
     "output_type": "stream",
     "text": [
      "Loss1: 16.3199, Loss2: 6.8141, Loss3: 25.2914\n"
     ]
    },
    {
     "name": "stderr",
     "output_type": "stream",
     "text": [
      "Test_Loader: 100%|██████████| 288/288 [00:03<00:00, 80.18it/s]\n"
     ]
    },
    {
     "name": "stdout",
     "output_type": "stream",
     "text": [
      "Loss1: 16.6915, Loss2: 6.6726, Loss3: 28.6479\n"
     ]
    },
    {
     "name": "stderr",
     "output_type": "stream",
     "text": [
      "Test_Loader: 100%|██████████| 288/288 [00:03<00:00, 80.65it/s]\n"
     ]
    },
    {
     "name": "stdout",
     "output_type": "stream",
     "text": [
      "Loss1: 16.0463, Loss2: 6.8239, Loss3: 27.1232\n"
     ]
    },
    {
     "name": "stderr",
     "output_type": "stream",
     "text": [
      "Test_Loader: 100%|██████████| 288/288 [00:03<00:00, 78.64it/s]\n"
     ]
    },
    {
     "name": "stdout",
     "output_type": "stream",
     "text": [
      "Loss1: 15.6479, Loss2: 6.8120, Loss3: 25.3938\n"
     ]
    },
    {
     "name": "stderr",
     "output_type": "stream",
     "text": [
      "Test_Loader: 100%|██████████| 288/288 [00:03<00:00, 74.27it/s]\n"
     ]
    },
    {
     "name": "stdout",
     "output_type": "stream",
     "text": [
      "Loss1: 16.7410, Loss2: 7.1759, Loss3: 27.0051\n"
     ]
    },
    {
     "name": "stderr",
     "output_type": "stream",
     "text": [
      "Test_Loader: 100%|██████████| 288/288 [00:03<00:00, 77.54it/s]\n"
     ]
    },
    {
     "name": "stdout",
     "output_type": "stream",
     "text": [
      "Loss1: 15.7700, Loss2: 6.6907, Loss3: 24.9868\n"
     ]
    },
    {
     "name": "stderr",
     "output_type": "stream",
     "text": [
      "Test_Loader: 100%|██████████| 288/288 [00:04<00:00, 70.28it/s]\n"
     ]
    },
    {
     "name": "stdout",
     "output_type": "stream",
     "text": [
      "Loss1: 16.3563, Loss2: 6.7496, Loss3: 26.3786\n"
     ]
    },
    {
     "name": "stderr",
     "output_type": "stream",
     "text": [
      "Test_Loader: 100%|██████████| 288/288 [00:04<00:00, 71.25it/s]\n"
     ]
    },
    {
     "name": "stdout",
     "output_type": "stream",
     "text": [
      "Loss1: 15.3200, Loss2: 6.6767, Loss3: 25.2746\n"
     ]
    },
    {
     "name": "stderr",
     "output_type": "stream",
     "text": [
      "Test_Loader: 100%|██████████| 288/288 [00:04<00:00, 71.20it/s]\n"
     ]
    },
    {
     "name": "stdout",
     "output_type": "stream",
     "text": [
      "Loss1: 15.4756, Loss2: 6.2594, Loss3: 25.2201\n"
     ]
    },
    {
     "name": "stderr",
     "output_type": "stream",
     "text": [
      "Test_Loader: 100%|██████████| 288/288 [00:04<00:00, 69.31it/s]\n"
     ]
    },
    {
     "name": "stdout",
     "output_type": "stream",
     "text": [
      "Loss1: 15.8004, Loss2: 6.1445, Loss3: 25.6511\n"
     ]
    },
    {
     "name": "stderr",
     "output_type": "stream",
     "text": [
      "Test_Loader: 100%|██████████| 288/288 [00:04<00:00, 70.54it/s]\n"
     ]
    },
    {
     "name": "stdout",
     "output_type": "stream",
     "text": [
      "Loss1: 15.1949, Loss2: 6.4060, Loss3: 25.6822\n"
     ]
    },
    {
     "name": "stderr",
     "output_type": "stream",
     "text": [
      "Test_Loader: 100%|██████████| 288/288 [00:04<00:00, 69.57it/s]\n"
     ]
    },
    {
     "name": "stdout",
     "output_type": "stream",
     "text": [
      "Loss1: 15.5735, Loss2: 6.0069, Loss3: 25.1246\n"
     ]
    },
    {
     "name": "stderr",
     "output_type": "stream",
     "text": [
      "Test_Loader: 100%|██████████| 288/288 [00:04<00:00, 70.00it/s]\n"
     ]
    },
    {
     "name": "stdout",
     "output_type": "stream",
     "text": [
      "Loss1: 15.4393, Loss2: 6.2568, Loss3: 25.2740\n"
     ]
    },
    {
     "name": "stderr",
     "output_type": "stream",
     "text": [
      "Test_Loader: 100%|██████████| 288/288 [00:03<00:00, 74.57it/s]\n"
     ]
    },
    {
     "name": "stdout",
     "output_type": "stream",
     "text": [
      "Loss1: 15.1455, Loss2: 5.9465, Loss3: 25.2637\n"
     ]
    },
    {
     "name": "stderr",
     "output_type": "stream",
     "text": [
      "Test_Loader: 100%|██████████| 288/288 [00:03<00:00, 86.28it/s]\n"
     ]
    },
    {
     "name": "stdout",
     "output_type": "stream",
     "text": [
      "Loss1: 15.7587, Loss2: 6.3193, Loss3: 25.9147\n"
     ]
    },
    {
     "name": "stderr",
     "output_type": "stream",
     "text": [
      "Test_Loader: 100%|██████████| 288/288 [00:03<00:00, 84.42it/s]\n"
     ]
    },
    {
     "name": "stdout",
     "output_type": "stream",
     "text": [
      "Loss1: 16.2472, Loss2: 6.3873, Loss3: 26.4283\n"
     ]
    },
    {
     "name": "stderr",
     "output_type": "stream",
     "text": [
      "Test_Loader: 100%|██████████| 288/288 [00:03<00:00, 83.81it/s]\n"
     ]
    },
    {
     "name": "stdout",
     "output_type": "stream",
     "text": [
      "Loss1: 15.5368, Loss2: 6.2670, Loss3: 25.2249\n"
     ]
    },
    {
     "name": "stderr",
     "output_type": "stream",
     "text": [
      "Test_Loader: 100%|██████████| 288/288 [00:03<00:00, 80.11it/s]\n"
     ]
    },
    {
     "name": "stdout",
     "output_type": "stream",
     "text": [
      "Loss1: 16.0652, Loss2: 6.0736, Loss3: 27.0761\n"
     ]
    },
    {
     "name": "stderr",
     "output_type": "stream",
     "text": [
      "Test_Loader: 100%|██████████| 288/288 [00:03<00:00, 83.16it/s]\n"
     ]
    },
    {
     "name": "stdout",
     "output_type": "stream",
     "text": [
      "Loss1: 15.7128, Loss2: 6.6243, Loss3: 24.9454\n"
     ]
    },
    {
     "name": "stderr",
     "output_type": "stream",
     "text": [
      "Test_Loader: 100%|██████████| 288/288 [00:03<00:00, 81.52it/s]\n"
     ]
    },
    {
     "name": "stdout",
     "output_type": "stream",
     "text": [
      "Loss1: 15.7579, Loss2: 6.2213, Loss3: 24.8720\n"
     ]
    },
    {
     "name": "stderr",
     "output_type": "stream",
     "text": [
      "Test_Loader: 100%|██████████| 288/288 [00:03<00:00, 77.84it/s]\n"
     ]
    },
    {
     "name": "stdout",
     "output_type": "stream",
     "text": [
      "Loss1: 16.7434, Loss2: 6.5419, Loss3: 25.9451\n"
     ]
    },
    {
     "name": "stderr",
     "output_type": "stream",
     "text": [
      "Test_Loader: 100%|██████████| 288/288 [00:03<00:00, 77.57it/s]\n"
     ]
    },
    {
     "name": "stdout",
     "output_type": "stream",
     "text": [
      "Loss1: 16.8090, Loss2: 6.1617, Loss3: 25.1342\n"
     ]
    },
    {
     "name": "stderr",
     "output_type": "stream",
     "text": [
      "Test_Loader: 100%|██████████| 288/288 [00:03<00:00, 78.48it/s]\n"
     ]
    },
    {
     "name": "stdout",
     "output_type": "stream",
     "text": [
      "Loss1: 15.9396, Loss2: 6.4639, Loss3: 24.7843\n"
     ]
    },
    {
     "name": "stderr",
     "output_type": "stream",
     "text": [
      "Test_Loader: 100%|██████████| 288/288 [00:03<00:00, 83.34it/s]\n"
     ]
    },
    {
     "name": "stdout",
     "output_type": "stream",
     "text": [
      "Loss1: 16.5413, Loss2: 6.5605, Loss3: 25.2717\n"
     ]
    },
    {
     "name": "stderr",
     "output_type": "stream",
     "text": [
      "Test_Loader: 100%|██████████| 288/288 [00:03<00:00, 83.60it/s]\n"
     ]
    },
    {
     "name": "stdout",
     "output_type": "stream",
     "text": [
      "Loss1: 15.7653, Loss2: 6.4372, Loss3: 24.7441\n"
     ]
    },
    {
     "name": "stderr",
     "output_type": "stream",
     "text": [
      "Test_Loader: 100%|██████████| 288/288 [00:03<00:00, 76.52it/s]\n"
     ]
    },
    {
     "name": "stdout",
     "output_type": "stream",
     "text": [
      "Loss1: 18.1316, Loss2: 6.6797, Loss3: 27.2210\n"
     ]
    },
    {
     "name": "stderr",
     "output_type": "stream",
     "text": [
      "Test_Loader: 100%|██████████| 288/288 [00:04<00:00, 64.85it/s]\n"
     ]
    },
    {
     "name": "stdout",
     "output_type": "stream",
     "text": [
      "Loss1: 17.6463, Loss2: 6.9105, Loss3: 28.1604\n"
     ]
    },
    {
     "name": "stderr",
     "output_type": "stream",
     "text": [
      "Test_Loader: 100%|██████████| 288/288 [00:04<00:00, 65.08it/s]\n"
     ]
    },
    {
     "name": "stdout",
     "output_type": "stream",
     "text": [
      "Loss1: 16.3031, Loss2: 6.4494, Loss3: 25.6253\n"
     ]
    },
    {
     "name": "stderr",
     "output_type": "stream",
     "text": [
      "Test_Loader: 100%|██████████| 288/288 [00:04<00:00, 71.48it/s]\n"
     ]
    },
    {
     "name": "stdout",
     "output_type": "stream",
     "text": [
      "Loss1: 16.1557, Loss2: 6.6157, Loss3: 25.1119\n"
     ]
    },
    {
     "name": "stderr",
     "output_type": "stream",
     "text": [
      "Test_Loader: 100%|██████████| 288/288 [00:03<00:00, 77.75it/s]\n"
     ]
    },
    {
     "name": "stdout",
     "output_type": "stream",
     "text": [
      "Loss1: 16.2790, Loss2: 6.4165, Loss3: 24.3992\n"
     ]
    },
    {
     "name": "stderr",
     "output_type": "stream",
     "text": [
      "Test_Loader: 100%|██████████| 288/288 [00:03<00:00, 76.36it/s]\n"
     ]
    },
    {
     "name": "stdout",
     "output_type": "stream",
     "text": [
      "Loss1: 17.2977, Loss2: 6.8749, Loss3: 30.8756\n"
     ]
    },
    {
     "name": "stderr",
     "output_type": "stream",
     "text": [
      "Test_Loader: 100%|██████████| 288/288 [00:03<00:00, 77.46it/s]\n"
     ]
    },
    {
     "name": "stdout",
     "output_type": "stream",
     "text": [
      "Loss1: 16.3638, Loss2: 6.2460, Loss3: 24.5575\n"
     ]
    },
    {
     "name": "stderr",
     "output_type": "stream",
     "text": [
      "Test_Loader: 100%|██████████| 288/288 [00:03<00:00, 75.27it/s]\n"
     ]
    },
    {
     "name": "stdout",
     "output_type": "stream",
     "text": [
      "Loss1: 15.6416, Loss2: 6.1751, Loss3: 23.4815\n"
     ]
    },
    {
     "name": "stderr",
     "output_type": "stream",
     "text": [
      "Test_Loader: 100%|██████████| 288/288 [00:03<00:00, 74.20it/s]\n"
     ]
    },
    {
     "name": "stdout",
     "output_type": "stream",
     "text": [
      "Loss1: 16.0600, Loss2: 6.1949, Loss3: 23.4488\n"
     ]
    },
    {
     "name": "stderr",
     "output_type": "stream",
     "text": [
      "Test_Loader: 100%|██████████| 288/288 [00:03<00:00, 77.39it/s]\n"
     ]
    },
    {
     "name": "stdout",
     "output_type": "stream",
     "text": [
      "Loss1: 16.0828, Loss2: 6.3389, Loss3: 23.6234\n"
     ]
    },
    {
     "name": "stderr",
     "output_type": "stream",
     "text": [
      "Test_Loader: 100%|██████████| 288/288 [00:03<00:00, 82.59it/s]\n"
     ]
    },
    {
     "name": "stdout",
     "output_type": "stream",
     "text": [
      "Loss1: 16.2364, Loss2: 6.0184, Loss3: 24.0975\n"
     ]
    },
    {
     "name": "stderr",
     "output_type": "stream",
     "text": [
      "Test_Loader: 100%|██████████| 288/288 [00:03<00:00, 81.47it/s]\n"
     ]
    },
    {
     "name": "stdout",
     "output_type": "stream",
     "text": [
      "Loss1: 15.8547, Loss2: 6.1610, Loss3: 23.0111\n"
     ]
    },
    {
     "name": "stderr",
     "output_type": "stream",
     "text": [
      "Test_Loader: 100%|██████████| 288/288 [00:03<00:00, 79.96it/s]\n"
     ]
    },
    {
     "name": "stdout",
     "output_type": "stream",
     "text": [
      "Loss1: 15.6270, Loss2: 6.1780, Loss3: 22.5449\n"
     ]
    },
    {
     "name": "stderr",
     "output_type": "stream",
     "text": [
      "Test_Loader: 100%|██████████| 288/288 [00:03<00:00, 80.23it/s]\n"
     ]
    },
    {
     "name": "stdout",
     "output_type": "stream",
     "text": [
      "Loss1: 15.8305, Loss2: 6.1126, Loss3: 23.4901\n"
     ]
    },
    {
     "name": "stderr",
     "output_type": "stream",
     "text": [
      "Test_Loader: 100%|██████████| 288/288 [00:03<00:00, 75.55it/s]\n"
     ]
    },
    {
     "name": "stdout",
     "output_type": "stream",
     "text": [
      "Loss1: 15.7002, Loss2: 6.0501, Loss3: 24.2780\n"
     ]
    },
    {
     "name": "stderr",
     "output_type": "stream",
     "text": [
      "Test_Loader: 100%|██████████| 288/288 [00:03<00:00, 79.08it/s]\n"
     ]
    },
    {
     "name": "stdout",
     "output_type": "stream",
     "text": [
      "Loss1: 15.7641, Loss2: 6.1425, Loss3: 22.5490\n"
     ]
    },
    {
     "name": "stderr",
     "output_type": "stream",
     "text": [
      "Test_Loader: 100%|██████████| 288/288 [00:03<00:00, 74.02it/s]\n"
     ]
    },
    {
     "name": "stdout",
     "output_type": "stream",
     "text": [
      "Loss1: 16.0501, Loss2: 5.8478, Loss3: 22.6742\n"
     ]
    },
    {
     "name": "stderr",
     "output_type": "stream",
     "text": [
      "Test_Loader: 100%|██████████| 288/288 [00:03<00:00, 73.91it/s]\n"
     ]
    },
    {
     "name": "stdout",
     "output_type": "stream",
     "text": [
      "Loss1: 15.7583, Loss2: 6.3634, Loss3: 22.6055\n"
     ]
    },
    {
     "name": "stderr",
     "output_type": "stream",
     "text": [
      "Test_Loader: 100%|██████████| 288/288 [00:03<00:00, 74.12it/s]\n"
     ]
    },
    {
     "name": "stdout",
     "output_type": "stream",
     "text": [
      "Loss1: 16.4937, Loss2: 6.0135, Loss3: 22.8551\n"
     ]
    },
    {
     "name": "stderr",
     "output_type": "stream",
     "text": [
      "Test_Loader: 100%|██████████| 288/288 [00:03<00:00, 81.65it/s]\n"
     ]
    },
    {
     "name": "stdout",
     "output_type": "stream",
     "text": [
      "Loss1: 16.4963, Loss2: 6.2223, Loss3: 24.3077\n"
     ]
    },
    {
     "name": "stderr",
     "output_type": "stream",
     "text": [
      "Test_Loader: 100%|██████████| 288/288 [00:03<00:00, 80.56it/s]\n"
     ]
    },
    {
     "name": "stdout",
     "output_type": "stream",
     "text": [
      "Loss1: 16.0617, Loss2: 6.0580, Loss3: 23.6016\n"
     ]
    },
    {
     "name": "stderr",
     "output_type": "stream",
     "text": [
      "Test_Loader: 100%|██████████| 288/288 [00:03<00:00, 78.20it/s]\n"
     ]
    },
    {
     "name": "stdout",
     "output_type": "stream",
     "text": [
      "Loss1: 16.2399, Loss2: 6.0219, Loss3: 23.1593\n"
     ]
    },
    {
     "name": "stderr",
     "output_type": "stream",
     "text": [
      "Test_Loader: 100%|██████████| 288/288 [00:03<00:00, 78.00it/s]\n"
     ]
    },
    {
     "name": "stdout",
     "output_type": "stream",
     "text": [
      "Loss1: 15.9171, Loss2: 6.0768, Loss3: 22.9389\n"
     ]
    },
    {
     "name": "stderr",
     "output_type": "stream",
     "text": [
      "Test_Loader: 100%|██████████| 288/288 [00:03<00:00, 79.28it/s]\n"
     ]
    },
    {
     "name": "stdout",
     "output_type": "stream",
     "text": [
      "Loss1: 15.7064, Loss2: 6.1128, Loss3: 23.0721\n"
     ]
    },
    {
     "name": "stderr",
     "output_type": "stream",
     "text": [
      "Test_Loader: 100%|██████████| 288/288 [00:03<00:00, 83.51it/s]\n"
     ]
    },
    {
     "name": "stdout",
     "output_type": "stream",
     "text": [
      "Loss1: 16.0469, Loss2: 6.0824, Loss3: 23.4738\n"
     ]
    },
    {
     "name": "stderr",
     "output_type": "stream",
     "text": [
      "Test_Loader: 100%|██████████| 288/288 [00:03<00:00, 79.84it/s]\n"
     ]
    },
    {
     "name": "stdout",
     "output_type": "stream",
     "text": [
      "Loss1: 16.2132, Loss2: 6.0294, Loss3: 22.7714\n"
     ]
    },
    {
     "name": "stderr",
     "output_type": "stream",
     "text": [
      "Test_Loader: 100%|██████████| 288/288 [00:03<00:00, 79.90it/s]\n"
     ]
    },
    {
     "name": "stdout",
     "output_type": "stream",
     "text": [
      "Loss1: 16.1264, Loss2: 5.5779, Loss3: 23.6210\n"
     ]
    },
    {
     "name": "stderr",
     "output_type": "stream",
     "text": [
      "Test_Loader: 100%|██████████| 288/288 [00:03<00:00, 78.20it/s]\n"
     ]
    },
    {
     "name": "stdout",
     "output_type": "stream",
     "text": [
      "Loss1: 15.7245, Loss2: 6.0220, Loss3: 22.7838\n"
     ]
    },
    {
     "name": "stderr",
     "output_type": "stream",
     "text": [
      "Test_Loader: 100%|██████████| 288/288 [00:03<00:00, 80.74it/s]\n"
     ]
    },
    {
     "name": "stdout",
     "output_type": "stream",
     "text": [
      "Loss1: 15.6193, Loss2: 6.1193, Loss3: 22.7747\n"
     ]
    },
    {
     "name": "stderr",
     "output_type": "stream",
     "text": [
      "Test_Loader: 100%|██████████| 288/288 [00:03<00:00, 78.15it/s]\n"
     ]
    },
    {
     "name": "stdout",
     "output_type": "stream",
     "text": [
      "Loss1: 15.8774, Loss2: 6.3930, Loss3: 23.0528\n"
     ]
    },
    {
     "name": "stderr",
     "output_type": "stream",
     "text": [
      "Test_Loader: 100%|██████████| 288/288 [00:04<00:00, 70.72it/s]\n"
     ]
    },
    {
     "name": "stdout",
     "output_type": "stream",
     "text": [
      "Loss1: 15.7556, Loss2: 5.9964, Loss3: 23.6128\n"
     ]
    },
    {
     "name": "stderr",
     "output_type": "stream",
     "text": [
      "Test_Loader: 100%|██████████| 288/288 [00:04<00:00, 71.96it/s]\n"
     ]
    },
    {
     "name": "stdout",
     "output_type": "stream",
     "text": [
      "Loss1: 15.6011, Loss2: 5.7880, Loss3: 22.9648\n"
     ]
    },
    {
     "name": "stderr",
     "output_type": "stream",
     "text": [
      "Test_Loader: 100%|██████████| 288/288 [00:03<00:00, 76.64it/s]\n"
     ]
    },
    {
     "name": "stdout",
     "output_type": "stream",
     "text": [
      "Loss1: 15.3503, Loss2: 5.8249, Loss3: 22.5375\n"
     ]
    },
    {
     "name": "stderr",
     "output_type": "stream",
     "text": [
      "Test_Loader: 100%|██████████| 288/288 [00:03<00:00, 81.95it/s]\n"
     ]
    },
    {
     "name": "stdout",
     "output_type": "stream",
     "text": [
      "Loss1: 15.3448, Loss2: 6.0958, Loss3: 22.2060\n"
     ]
    },
    {
     "name": "stderr",
     "output_type": "stream",
     "text": [
      "Test_Loader: 100%|██████████| 288/288 [00:03<00:00, 79.44it/s]\n"
     ]
    },
    {
     "name": "stdout",
     "output_type": "stream",
     "text": [
      "Loss1: 16.0483, Loss2: 6.0747, Loss3: 23.1889\n"
     ]
    },
    {
     "name": "stderr",
     "output_type": "stream",
     "text": [
      "Test_Loader: 100%|██████████| 288/288 [00:03<00:00, 81.57it/s]\n"
     ]
    },
    {
     "name": "stdout",
     "output_type": "stream",
     "text": [
      "Loss1: 15.9428, Loss2: 6.3710, Loss3: 23.2369\n"
     ]
    },
    {
     "name": "stderr",
     "output_type": "stream",
     "text": [
      "Test_Loader: 100%|██████████| 288/288 [00:03<00:00, 81.89it/s]\n"
     ]
    },
    {
     "name": "stdout",
     "output_type": "stream",
     "text": [
      "Loss1: 16.6554, Loss2: 6.0469, Loss3: 24.6233\n"
     ]
    },
    {
     "name": "stderr",
     "output_type": "stream",
     "text": [
      "Test_Loader: 100%|██████████| 288/288 [00:03<00:00, 81.64it/s]\n"
     ]
    },
    {
     "name": "stdout",
     "output_type": "stream",
     "text": [
      "Loss1: 16.9922, Loss2: 5.0624, Loss3: 21.5934\n"
     ]
    },
    {
     "name": "stderr",
     "output_type": "stream",
     "text": [
      "Test_Loader: 100%|██████████| 288/288 [00:03<00:00, 78.47it/s]\n"
     ]
    },
    {
     "name": "stdout",
     "output_type": "stream",
     "text": [
      "Loss1: 16.3020, Loss2: 4.8591, Loss3: 21.6586\n"
     ]
    },
    {
     "name": "stderr",
     "output_type": "stream",
     "text": [
      "Test_Loader: 100%|██████████| 288/288 [00:03<00:00, 78.82it/s]\n"
     ]
    },
    {
     "name": "stdout",
     "output_type": "stream",
     "text": [
      "Loss1: 17.2129, Loss2: 5.1741, Loss3: 22.1573\n"
     ]
    },
    {
     "name": "stderr",
     "output_type": "stream",
     "text": [
      "Test_Loader: 100%|██████████| 288/288 [00:03<00:00, 78.89it/s]\n"
     ]
    },
    {
     "name": "stdout",
     "output_type": "stream",
     "text": [
      "Loss1: 16.6390, Loss2: 5.2341, Loss3: 22.2445\n"
     ]
    },
    {
     "name": "stderr",
     "output_type": "stream",
     "text": [
      "Test_Loader: 100%|██████████| 288/288 [00:03<00:00, 78.63it/s]\n"
     ]
    },
    {
     "name": "stdout",
     "output_type": "stream",
     "text": [
      "Loss1: 16.2104, Loss2: 5.0195, Loss3: 21.8970\n"
     ]
    },
    {
     "name": "stderr",
     "output_type": "stream",
     "text": [
      "Test_Loader: 100%|██████████| 288/288 [00:03<00:00, 81.42it/s]\n"
     ]
    },
    {
     "name": "stdout",
     "output_type": "stream",
     "text": [
      "Loss1: 17.2296, Loss2: 5.2804, Loss3: 22.7743\n"
     ]
    },
    {
     "name": "stderr",
     "output_type": "stream",
     "text": [
      "Test_Loader: 100%|██████████| 288/288 [00:03<00:00, 79.02it/s]\n"
     ]
    },
    {
     "name": "stdout",
     "output_type": "stream",
     "text": [
      "Loss1: 16.5562, Loss2: 5.0878, Loss3: 21.5938\n"
     ]
    },
    {
     "name": "stderr",
     "output_type": "stream",
     "text": [
      "Test_Loader: 100%|██████████| 288/288 [00:03<00:00, 79.10it/s]\n"
     ]
    },
    {
     "name": "stdout",
     "output_type": "stream",
     "text": [
      "Loss1: 16.3244, Loss2: 4.8277, Loss3: 21.4241\n"
     ]
    },
    {
     "name": "stderr",
     "output_type": "stream",
     "text": [
      "Test_Loader: 100%|██████████| 288/288 [00:03<00:00, 79.81it/s]\n"
     ]
    },
    {
     "name": "stdout",
     "output_type": "stream",
     "text": [
      "Loss1: 16.4336, Loss2: 5.0292, Loss3: 21.8372\n"
     ]
    },
    {
     "name": "stderr",
     "output_type": "stream",
     "text": [
      "Test_Loader: 100%|██████████| 288/288 [00:03<00:00, 79.48it/s]\n"
     ]
    },
    {
     "name": "stdout",
     "output_type": "stream",
     "text": [
      "Loss1: 16.5682, Loss2: 4.8571, Loss3: 20.9417\n"
     ]
    },
    {
     "name": "stderr",
     "output_type": "stream",
     "text": [
      "Test_Loader: 100%|██████████| 288/288 [00:03<00:00, 82.29it/s]\n"
     ]
    },
    {
     "name": "stdout",
     "output_type": "stream",
     "text": [
      "Loss1: 15.8919, Loss2: 5.0455, Loss3: 20.9393\n"
     ]
    },
    {
     "name": "stderr",
     "output_type": "stream",
     "text": [
      "Test_Loader: 100%|██████████| 288/288 [00:03<00:00, 84.59it/s]\n"
     ]
    },
    {
     "name": "stdout",
     "output_type": "stream",
     "text": [
      "Loss1: 16.4686, Loss2: 5.4495, Loss3: 22.1463\n"
     ]
    },
    {
     "name": "stderr",
     "output_type": "stream",
     "text": [
      "Test_Loader: 100%|██████████| 288/288 [00:03<00:00, 85.14it/s]\n"
     ]
    },
    {
     "name": "stdout",
     "output_type": "stream",
     "text": [
      "Loss1: 16.0846, Loss2: 5.2174, Loss3: 22.3133\n"
     ]
    },
    {
     "name": "stderr",
     "output_type": "stream",
     "text": [
      "Test_Loader: 100%|██████████| 288/288 [00:03<00:00, 77.25it/s]\n"
     ]
    },
    {
     "name": "stdout",
     "output_type": "stream",
     "text": [
      "Loss1: 16.2678, Loss2: 5.0054, Loss3: 21.4605\n"
     ]
    },
    {
     "name": "stderr",
     "output_type": "stream",
     "text": [
      "Test_Loader: 100%|██████████| 288/288 [00:03<00:00, 79.72it/s]\n"
     ]
    },
    {
     "name": "stdout",
     "output_type": "stream",
     "text": [
      "Loss1: 16.0165, Loss2: 5.1138, Loss3: 21.8577\n"
     ]
    },
    {
     "name": "stderr",
     "output_type": "stream",
     "text": [
      "Test_Loader: 100%|██████████| 288/288 [00:03<00:00, 80.08it/s]\n"
     ]
    },
    {
     "name": "stdout",
     "output_type": "stream",
     "text": [
      "Loss1: 16.4355, Loss2: 4.9598, Loss3: 24.2643\n"
     ]
    },
    {
     "name": "stderr",
     "output_type": "stream",
     "text": [
      "Test_Loader: 100%|██████████| 288/288 [00:03<00:00, 81.09it/s]\n"
     ]
    },
    {
     "name": "stdout",
     "output_type": "stream",
     "text": [
      "Loss1: 16.5673, Loss2: 5.2749, Loss3: 23.9657\n"
     ]
    },
    {
     "name": "stderr",
     "output_type": "stream",
     "text": [
      "Test_Loader: 100%|██████████| 288/288 [00:03<00:00, 80.96it/s]\n"
     ]
    },
    {
     "name": "stdout",
     "output_type": "stream",
     "text": [
      "Loss1: 16.0792, Loss2: 4.8094, Loss3: 21.6573\n"
     ]
    },
    {
     "name": "stderr",
     "output_type": "stream",
     "text": [
      "Test_Loader: 100%|██████████| 288/288 [00:03<00:00, 81.71it/s]\n"
     ]
    },
    {
     "name": "stdout",
     "output_type": "stream",
     "text": [
      "Loss1: 16.0629, Loss2: 5.1904, Loss3: 23.6903\n"
     ]
    },
    {
     "name": "stderr",
     "output_type": "stream",
     "text": [
      "Test_Loader: 100%|██████████| 288/288 [00:03<00:00, 80.85it/s]\n"
     ]
    },
    {
     "name": "stdout",
     "output_type": "stream",
     "text": [
      "Loss1: 15.8436, Loss2: 5.0446, Loss3: 23.4118\n"
     ]
    },
    {
     "name": "stderr",
     "output_type": "stream",
     "text": [
      "Test_Loader: 100%|██████████| 288/288 [00:03<00:00, 83.12it/s]\n"
     ]
    },
    {
     "name": "stdout",
     "output_type": "stream",
     "text": [
      "Loss1: 15.8982, Loss2: 4.2931, Loss3: 25.5332\n"
     ]
    },
    {
     "name": "stderr",
     "output_type": "stream",
     "text": [
      "Test_Loader: 100%|██████████| 288/288 [00:03<00:00, 82.38it/s]\n"
     ]
    },
    {
     "name": "stdout",
     "output_type": "stream",
     "text": [
      "Loss1: 16.3036, Loss2: 4.7681, Loss3: 23.8324\n"
     ]
    },
    {
     "name": "stderr",
     "output_type": "stream",
     "text": [
      "Test_Loader: 100%|██████████| 288/288 [00:03<00:00, 83.68it/s]\n"
     ]
    },
    {
     "name": "stdout",
     "output_type": "stream",
     "text": [
      "Loss1: 15.5904, Loss2: 4.5659, Loss3: 21.6421\n"
     ]
    },
    {
     "name": "stderr",
     "output_type": "stream",
     "text": [
      "Test_Loader: 100%|██████████| 288/288 [00:03<00:00, 84.77it/s]\n"
     ]
    },
    {
     "name": "stdout",
     "output_type": "stream",
     "text": [
      "Loss1: 16.3408, Loss2: 4.9275, Loss3: 22.9052\n"
     ]
    },
    {
     "name": "stderr",
     "output_type": "stream",
     "text": [
      "Test_Loader: 100%|██████████| 288/288 [00:03<00:00, 83.25it/s]\n"
     ]
    },
    {
     "name": "stdout",
     "output_type": "stream",
     "text": [
      "Loss1: 15.7362, Loss2: 5.1359, Loss3: 22.8048\n"
     ]
    },
    {
     "name": "stderr",
     "output_type": "stream",
     "text": [
      "Test_Loader: 100%|██████████| 288/288 [00:03<00:00, 78.50it/s]\n"
     ]
    },
    {
     "name": "stdout",
     "output_type": "stream",
     "text": [
      "Loss1: 15.6594, Loss2: 5.1592, Loss3: 22.8708\n"
     ]
    },
    {
     "name": "stderr",
     "output_type": "stream",
     "text": [
      "Test_Loader: 100%|██████████| 288/288 [00:03<00:00, 77.83it/s]\n"
     ]
    },
    {
     "name": "stdout",
     "output_type": "stream",
     "text": [
      "Loss1: 15.5170, Loss2: 4.6512, Loss3: 22.3431\n"
     ]
    },
    {
     "name": "stderr",
     "output_type": "stream",
     "text": [
      "Test_Loader: 100%|██████████| 288/288 [00:03<00:00, 80.33it/s]\n"
     ]
    },
    {
     "name": "stdout",
     "output_type": "stream",
     "text": [
      "Loss1: 16.4604, Loss2: 5.1095, Loss3: 25.9186\n"
     ]
    },
    {
     "name": "stderr",
     "output_type": "stream",
     "text": [
      "Test_Loader: 100%|██████████| 288/288 [00:03<00:00, 86.87it/s]\n"
     ]
    },
    {
     "name": "stdout",
     "output_type": "stream",
     "text": [
      "Loss1: 16.1271, Loss2: 5.4268, Loss3: 23.9963\n"
     ]
    },
    {
     "name": "stderr",
     "output_type": "stream",
     "text": [
      "Test_Loader: 100%|██████████| 288/288 [00:03<00:00, 72.51it/s]\n"
     ]
    },
    {
     "name": "stdout",
     "output_type": "stream",
     "text": [
      "Loss1: 15.6129, Loss2: 5.0107, Loss3: 22.1318\n"
     ]
    },
    {
     "name": "stderr",
     "output_type": "stream",
     "text": [
      "Test_Loader: 100%|██████████| 288/288 [00:03<00:00, 73.81it/s]\n"
     ]
    },
    {
     "name": "stdout",
     "output_type": "stream",
     "text": [
      "Loss1: 15.7940, Loss2: 5.4057, Loss3: 23.3152\n"
     ]
    },
    {
     "name": "stderr",
     "output_type": "stream",
     "text": [
      "Test_Loader: 100%|██████████| 288/288 [00:03<00:00, 74.50it/s]\n"
     ]
    },
    {
     "name": "stdout",
     "output_type": "stream",
     "text": [
      "Loss1: 15.7496, Loss2: 5.2389, Loss3: 23.5416\n"
     ]
    },
    {
     "name": "stderr",
     "output_type": "stream",
     "text": [
      "Test_Loader: 100%|██████████| 288/288 [00:03<00:00, 74.48it/s]\n"
     ]
    },
    {
     "name": "stdout",
     "output_type": "stream",
     "text": [
      "Loss1: 15.6433, Loss2: 5.0759, Loss3: 23.5155\n"
     ]
    },
    {
     "name": "stderr",
     "output_type": "stream",
     "text": [
      "Test_Loader: 100%|██████████| 288/288 [00:03<00:00, 75.51it/s]\n"
     ]
    },
    {
     "name": "stdout",
     "output_type": "stream",
     "text": [
      "Loss1: 15.7946, Loss2: 5.0348, Loss3: 22.9055\n"
     ]
    },
    {
     "name": "stderr",
     "output_type": "stream",
     "text": [
      "Test_Loader: 100%|██████████| 288/288 [00:03<00:00, 79.09it/s]\n"
     ]
    },
    {
     "name": "stdout",
     "output_type": "stream",
     "text": [
      "Loss1: 16.7448, Loss2: 5.8548, Loss3: 29.1674\n"
     ]
    },
    {
     "name": "stderr",
     "output_type": "stream",
     "text": [
      "Test_Loader: 100%|██████████| 288/288 [00:03<00:00, 81.54it/s]\n"
     ]
    },
    {
     "name": "stdout",
     "output_type": "stream",
     "text": [
      "Loss1: 17.0430, Loss2: 5.8345, Loss3: 25.2636\n"
     ]
    },
    {
     "name": "stderr",
     "output_type": "stream",
     "text": [
      "Test_Loader: 100%|██████████| 288/288 [00:03<00:00, 79.36it/s]\n"
     ]
    },
    {
     "name": "stdout",
     "output_type": "stream",
     "text": [
      "Loss1: 17.0506, Loss2: 5.6132, Loss3: 25.5260\n"
     ]
    },
    {
     "name": "stderr",
     "output_type": "stream",
     "text": [
      "Test_Loader: 100%|██████████| 288/288 [00:03<00:00, 81.21it/s]\n"
     ]
    },
    {
     "name": "stdout",
     "output_type": "stream",
     "text": [
      "Loss1: 16.8367, Loss2: 5.6377, Loss3: 24.6320\n"
     ]
    },
    {
     "name": "stderr",
     "output_type": "stream",
     "text": [
      "Test_Loader: 100%|██████████| 288/288 [00:03<00:00, 80.88it/s]\n"
     ]
    },
    {
     "name": "stdout",
     "output_type": "stream",
     "text": [
      "Loss1: 16.6177, Loss2: 5.9456, Loss3: 24.2814\n"
     ]
    },
    {
     "name": "stderr",
     "output_type": "stream",
     "text": [
      "Test_Loader: 100%|██████████| 288/288 [00:03<00:00, 85.77it/s]\n"
     ]
    },
    {
     "name": "stdout",
     "output_type": "stream",
     "text": [
      "Loss1: 16.2458, Loss2: 5.4294, Loss3: 23.9737\n"
     ]
    },
    {
     "name": "stderr",
     "output_type": "stream",
     "text": [
      "Test_Loader: 100%|██████████| 288/288 [00:03<00:00, 85.91it/s]\n"
     ]
    },
    {
     "name": "stdout",
     "output_type": "stream",
     "text": [
      "Loss1: 16.3579, Loss2: 5.6185, Loss3: 24.9647\n"
     ]
    },
    {
     "name": "stderr",
     "output_type": "stream",
     "text": [
      "Test_Loader: 100%|██████████| 288/288 [00:03<00:00, 86.38it/s]\n"
     ]
    },
    {
     "name": "stdout",
     "output_type": "stream",
     "text": [
      "Loss1: 16.6300, Loss2: 5.2781, Loss3: 23.4963\n"
     ]
    },
    {
     "name": "stderr",
     "output_type": "stream",
     "text": [
      "Test_Loader: 100%|██████████| 288/288 [00:03<00:00, 80.73it/s]\n"
     ]
    },
    {
     "name": "stdout",
     "output_type": "stream",
     "text": [
      "Loss1: 15.9764, Loss2: 5.4340, Loss3: 23.5269\n"
     ]
    },
    {
     "name": "stderr",
     "output_type": "stream",
     "text": [
      "Test_Loader: 100%|██████████| 288/288 [00:04<00:00, 69.97it/s]\n"
     ]
    },
    {
     "name": "stdout",
     "output_type": "stream",
     "text": [
      "Loss1: 16.3715, Loss2: 5.9745, Loss3: 24.9362\n"
     ]
    },
    {
     "name": "stderr",
     "output_type": "stream",
     "text": [
      "Test_Loader: 100%|██████████| 288/288 [00:04<00:00, 69.38it/s]\n"
     ]
    },
    {
     "name": "stdout",
     "output_type": "stream",
     "text": [
      "Loss1: 15.8353, Loss2: 5.4351, Loss3: 22.5814\n"
     ]
    },
    {
     "name": "stderr",
     "output_type": "stream",
     "text": [
      "Test_Loader: 100%|██████████| 288/288 [00:04<00:00, 71.08it/s]\n"
     ]
    },
    {
     "name": "stdout",
     "output_type": "stream",
     "text": [
      "Loss1: 15.6868, Loss2: 5.3765, Loss3: 22.7059\n"
     ]
    },
    {
     "name": "stderr",
     "output_type": "stream",
     "text": [
      "Test_Loader: 100%|██████████| 288/288 [00:04<00:00, 71.39it/s]\n"
     ]
    },
    {
     "name": "stdout",
     "output_type": "stream",
     "text": [
      "Loss1: 15.2434, Loss2: 5.2209, Loss3: 22.7113\n"
     ]
    },
    {
     "name": "stderr",
     "output_type": "stream",
     "text": [
      "Test_Loader: 100%|██████████| 288/288 [00:04<00:00, 71.13it/s]\n"
     ]
    },
    {
     "name": "stdout",
     "output_type": "stream",
     "text": [
      "Loss1: 15.4370, Loss2: 5.3244, Loss3: 22.3220\n"
     ]
    },
    {
     "name": "stderr",
     "output_type": "stream",
     "text": [
      "Test_Loader: 100%|██████████| 288/288 [00:04<00:00, 69.23it/s]\n"
     ]
    },
    {
     "name": "stdout",
     "output_type": "stream",
     "text": [
      "Loss1: 15.4673, Loss2: 5.1734, Loss3: 22.9617\n"
     ]
    },
    {
     "name": "stderr",
     "output_type": "stream",
     "text": [
      "Test_Loader: 100%|██████████| 288/288 [00:03<00:00, 73.23it/s]\n"
     ]
    },
    {
     "name": "stdout",
     "output_type": "stream",
     "text": [
      "Loss1: 15.7315, Loss2: 5.3621, Loss3: 23.9645\n"
     ]
    },
    {
     "name": "stderr",
     "output_type": "stream",
     "text": [
      "Test_Loader: 100%|██████████| 288/288 [00:03<00:00, 77.72it/s]\n"
     ]
    },
    {
     "name": "stdout",
     "output_type": "stream",
     "text": [
      "Loss1: 16.0003, Loss2: 5.4656, Loss3: 23.2892\n"
     ]
    },
    {
     "name": "stderr",
     "output_type": "stream",
     "text": [
      "Test_Loader: 100%|██████████| 288/288 [00:04<00:00, 70.97it/s]\n"
     ]
    },
    {
     "name": "stdout",
     "output_type": "stream",
     "text": [
      "Loss1: 16.4477, Loss2: 5.4795, Loss3: 24.0659\n"
     ]
    },
    {
     "name": "stderr",
     "output_type": "stream",
     "text": [
      "Test_Loader: 100%|██████████| 288/288 [00:03<00:00, 73.67it/s]\n"
     ]
    },
    {
     "name": "stdout",
     "output_type": "stream",
     "text": [
      "Loss1: 16.3910, Loss2: 5.2010, Loss3: 25.0458\n"
     ]
    },
    {
     "name": "stderr",
     "output_type": "stream",
     "text": [
      "Test_Loader: 100%|██████████| 288/288 [00:03<00:00, 77.91it/s]\n"
     ]
    },
    {
     "name": "stdout",
     "output_type": "stream",
     "text": [
      "Loss1: 16.6667, Loss2: 5.7553, Loss3: 27.1672\n"
     ]
    },
    {
     "name": "stderr",
     "output_type": "stream",
     "text": [
      "Test_Loader: 100%|██████████| 288/288 [00:03<00:00, 81.47it/s]\n"
     ]
    },
    {
     "name": "stdout",
     "output_type": "stream",
     "text": [
      "Loss1: 15.6717, Loss2: 5.2967, Loss3: 23.8894\n"
     ]
    },
    {
     "name": "stderr",
     "output_type": "stream",
     "text": [
      "Test_Loader: 100%|██████████| 288/288 [00:03<00:00, 83.89it/s]\n"
     ]
    },
    {
     "name": "stdout",
     "output_type": "stream",
     "text": [
      "Loss1: 15.7136, Loss2: 5.7578, Loss3: 23.9932\n"
     ]
    },
    {
     "name": "stderr",
     "output_type": "stream",
     "text": [
      "Test_Loader: 100%|██████████| 288/288 [00:03<00:00, 85.64it/s]\n"
     ]
    },
    {
     "name": "stdout",
     "output_type": "stream",
     "text": [
      "Loss1: 15.3939, Loss2: 5.3652, Loss3: 23.5479\n"
     ]
    },
    {
     "name": "stderr",
     "output_type": "stream",
     "text": [
      "Test_Loader: 100%|██████████| 288/288 [00:03<00:00, 87.51it/s]\n"
     ]
    },
    {
     "name": "stdout",
     "output_type": "stream",
     "text": [
      "Loss1: 15.7397, Loss2: 5.2646, Loss3: 23.3774\n"
     ]
    },
    {
     "name": "stderr",
     "output_type": "stream",
     "text": [
      "Test_Loader: 100%|██████████| 288/288 [00:04<00:00, 70.16it/s]\n"
     ]
    },
    {
     "name": "stdout",
     "output_type": "stream",
     "text": [
      "Loss1: 15.3447, Loss2: 5.0455, Loss3: 22.5905\n"
     ]
    },
    {
     "name": "stderr",
     "output_type": "stream",
     "text": [
      "Test_Loader: 100%|██████████| 288/288 [00:04<00:00, 69.62it/s]\n"
     ]
    },
    {
     "name": "stdout",
     "output_type": "stream",
     "text": [
      "Loss1: 15.4258, Loss2: 5.7939, Loss3: 22.7964\n"
     ]
    },
    {
     "name": "stderr",
     "output_type": "stream",
     "text": [
      "Test_Loader: 100%|██████████| 288/288 [00:04<00:00, 68.69it/s]\n"
     ]
    },
    {
     "name": "stdout",
     "output_type": "stream",
     "text": [
      "Loss1: 15.4321, Loss2: 5.3252, Loss3: 22.3570\n"
     ]
    },
    {
     "name": "stderr",
     "output_type": "stream",
     "text": [
      "Test_Loader: 100%|██████████| 288/288 [00:03<00:00, 77.25it/s]\n"
     ]
    },
    {
     "name": "stdout",
     "output_type": "stream",
     "text": [
      "Loss1: 15.7154, Loss2: 5.0558, Loss3: 22.5377\n"
     ]
    },
    {
     "name": "stderr",
     "output_type": "stream",
     "text": [
      "Test_Loader: 100%|██████████| 288/288 [00:03<00:00, 81.42it/s]\n"
     ]
    },
    {
     "name": "stdout",
     "output_type": "stream",
     "text": [
      "Loss1: 15.4837, Loss2: 5.6533, Loss3: 24.2049\n"
     ]
    },
    {
     "name": "stderr",
     "output_type": "stream",
     "text": [
      "Test_Loader: 100%|██████████| 288/288 [00:03<00:00, 82.99it/s]\n"
     ]
    },
    {
     "name": "stdout",
     "output_type": "stream",
     "text": [
      "Loss1: 15.1736, Loss2: 5.3796, Loss3: 22.5838\n"
     ]
    },
    {
     "name": "stderr",
     "output_type": "stream",
     "text": [
      "Test_Loader: 100%|██████████| 288/288 [00:04<00:00, 69.48it/s]\n"
     ]
    },
    {
     "name": "stdout",
     "output_type": "stream",
     "text": [
      "Loss1: 15.5515, Loss2: 5.4041, Loss3: 22.4366\n"
     ]
    },
    {
     "name": "stderr",
     "output_type": "stream",
     "text": [
      "Test_Loader: 100%|██████████| 288/288 [00:03<00:00, 77.22it/s]\n"
     ]
    },
    {
     "name": "stdout",
     "output_type": "stream",
     "text": [
      "Loss1: 14.9881, Loss2: 5.2756, Loss3: 23.0361\n"
     ]
    },
    {
     "name": "stderr",
     "output_type": "stream",
     "text": [
      "Test_Loader: 100%|██████████| 288/288 [00:03<00:00, 81.91it/s]\n"
     ]
    },
    {
     "name": "stdout",
     "output_type": "stream",
     "text": [
      "Loss1: 15.8464, Loss2: 5.4560, Loss3: 22.4796\n"
     ]
    },
    {
     "name": "stderr",
     "output_type": "stream",
     "text": [
      "Test_Loader: 100%|██████████| 288/288 [00:03<00:00, 81.08it/s]\n"
     ]
    },
    {
     "name": "stdout",
     "output_type": "stream",
     "text": [
      "Loss1: 15.1289, Loss2: 5.3296, Loss3: 22.2959\n"
     ]
    },
    {
     "name": "stderr",
     "output_type": "stream",
     "text": [
      "Test_Loader: 100%|██████████| 288/288 [00:03<00:00, 81.38it/s]\n"
     ]
    },
    {
     "name": "stdout",
     "output_type": "stream",
     "text": [
      "Loss1: 15.4359, Loss2: 5.5101, Loss3: 22.8008\n"
     ]
    },
    {
     "name": "stderr",
     "output_type": "stream",
     "text": [
      "Test_Loader: 100%|██████████| 288/288 [00:03<00:00, 82.66it/s]\n"
     ]
    },
    {
     "name": "stdout",
     "output_type": "stream",
     "text": [
      "Loss1: 15.9464, Loss2: 5.8889, Loss3: 27.8518\n"
     ]
    },
    {
     "name": "stderr",
     "output_type": "stream",
     "text": [
      "Test_Loader: 100%|██████████| 288/288 [00:03<00:00, 77.61it/s]\n"
     ]
    },
    {
     "name": "stdout",
     "output_type": "stream",
     "text": [
      "Loss1: 14.6679, Loss2: 5.1028, Loss3: 22.7058\n"
     ]
    },
    {
     "name": "stderr",
     "output_type": "stream",
     "text": [
      "Test_Loader: 100%|██████████| 288/288 [00:03<00:00, 74.69it/s]\n"
     ]
    },
    {
     "name": "stdout",
     "output_type": "stream",
     "text": [
      "Loss1: 15.4542, Loss2: 5.3370, Loss3: 23.2659\n"
     ]
    },
    {
     "name": "stderr",
     "output_type": "stream",
     "text": [
      "Test_Loader: 100%|██████████| 288/288 [00:03<00:00, 72.29it/s]\n"
     ]
    },
    {
     "name": "stdout",
     "output_type": "stream",
     "text": [
      "Loss1: 14.7739, Loss2: 5.2979, Loss3: 21.5082\n"
     ]
    },
    {
     "name": "stderr",
     "output_type": "stream",
     "text": [
      "Test_Loader: 100%|██████████| 288/288 [00:03<00:00, 77.68it/s]\n"
     ]
    },
    {
     "name": "stdout",
     "output_type": "stream",
     "text": [
      "Loss1: 14.7619, Loss2: 5.3051, Loss3: 21.9583\n"
     ]
    },
    {
     "name": "stderr",
     "output_type": "stream",
     "text": [
      "Test_Loader: 100%|██████████| 288/288 [00:03<00:00, 82.31it/s]\n"
     ]
    },
    {
     "name": "stdout",
     "output_type": "stream",
     "text": [
      "Loss1: 14.9066, Loss2: 5.0044, Loss3: 22.0238\n"
     ]
    },
    {
     "name": "stderr",
     "output_type": "stream",
     "text": [
      "Test_Loader: 100%|██████████| 288/288 [00:03<00:00, 80.22it/s]\n"
     ]
    },
    {
     "name": "stdout",
     "output_type": "stream",
     "text": [
      "Loss1: 15.2598, Loss2: 5.1808, Loss3: 22.7329\n"
     ]
    },
    {
     "name": "stderr",
     "output_type": "stream",
     "text": [
      "Test_Loader: 100%|██████████| 288/288 [00:03<00:00, 79.36it/s]\n"
     ]
    },
    {
     "name": "stdout",
     "output_type": "stream",
     "text": [
      "Loss1: 15.3808, Loss2: 5.1657, Loss3: 23.5766\n"
     ]
    },
    {
     "name": "stderr",
     "output_type": "stream",
     "text": [
      "Test_Loader: 100%|██████████| 288/288 [00:03<00:00, 77.44it/s]\n"
     ]
    },
    {
     "name": "stdout",
     "output_type": "stream",
     "text": [
      "Loss1: 15.3220, Loss2: 5.2855, Loss3: 22.6712\n"
     ]
    },
    {
     "name": "stderr",
     "output_type": "stream",
     "text": [
      "Test_Loader: 100%|██████████| 288/288 [00:03<00:00, 78.41it/s]\n"
     ]
    },
    {
     "name": "stdout",
     "output_type": "stream",
     "text": [
      "Loss1: 14.9493, Loss2: 5.1751, Loss3: 22.3169\n"
     ]
    },
    {
     "name": "stderr",
     "output_type": "stream",
     "text": [
      "Test_Loader: 100%|██████████| 288/288 [00:03<00:00, 76.92it/s]\n"
     ]
    },
    {
     "name": "stdout",
     "output_type": "stream",
     "text": [
      "Loss1: 15.2639, Loss2: 5.2398, Loss3: 22.8112\n"
     ]
    },
    {
     "name": "stderr",
     "output_type": "stream",
     "text": [
      "Test_Loader: 100%|██████████| 288/288 [00:03<00:00, 75.71it/s]\n"
     ]
    },
    {
     "name": "stdout",
     "output_type": "stream",
     "text": [
      "Loss1: 14.8640, Loss2: 5.1106, Loss3: 22.1709\n"
     ]
    },
    {
     "name": "stderr",
     "output_type": "stream",
     "text": [
      "Test_Loader: 100%|██████████| 288/288 [00:03<00:00, 75.47it/s]\n"
     ]
    },
    {
     "name": "stdout",
     "output_type": "stream",
     "text": [
      "Loss1: 15.1168, Loss2: 5.1992, Loss3: 22.6417\n"
     ]
    },
    {
     "name": "stderr",
     "output_type": "stream",
     "text": [
      "Test_Loader: 100%|██████████| 288/288 [00:03<00:00, 77.44it/s]\n"
     ]
    },
    {
     "name": "stdout",
     "output_type": "stream",
     "text": [
      "Loss1: 15.6513, Loss2: 5.3118, Loss3: 23.1038\n"
     ]
    },
    {
     "name": "stderr",
     "output_type": "stream",
     "text": [
      "Test_Loader: 100%|██████████| 288/288 [00:03<00:00, 82.47it/s]\n"
     ]
    },
    {
     "name": "stdout",
     "output_type": "stream",
     "text": [
      "Loss1: 15.7361, Loss2: 5.1532, Loss3: 23.2037\n"
     ]
    },
    {
     "name": "stderr",
     "output_type": "stream",
     "text": [
      "Test_Loader: 100%|██████████| 288/288 [00:03<00:00, 82.24it/s]\n"
     ]
    },
    {
     "name": "stdout",
     "output_type": "stream",
     "text": [
      "Loss1: 15.8876, Loss2: 5.2530, Loss3: 22.0689\n"
     ]
    },
    {
     "name": "stderr",
     "output_type": "stream",
     "text": [
      "Test_Loader: 100%|██████████| 288/288 [00:03<00:00, 82.10it/s]\n"
     ]
    },
    {
     "name": "stdout",
     "output_type": "stream",
     "text": [
      "Loss1: 15.4143, Loss2: 5.5020, Loss3: 23.7174\n"
     ]
    },
    {
     "name": "stderr",
     "output_type": "stream",
     "text": [
      "Test_Loader: 100%|██████████| 288/288 [00:03<00:00, 77.09it/s]\n"
     ]
    },
    {
     "name": "stdout",
     "output_type": "stream",
     "text": [
      "Loss1: 15.4369, Loss2: 5.1900, Loss3: 22.4362\n"
     ]
    },
    {
     "name": "stderr",
     "output_type": "stream",
     "text": [
      "Test_Loader: 100%|██████████| 288/288 [00:03<00:00, 78.56it/s]\n"
     ]
    },
    {
     "name": "stdout",
     "output_type": "stream",
     "text": [
      "Loss1: 15.9009, Loss2: 5.4678, Loss3: 23.4815\n"
     ]
    },
    {
     "name": "stderr",
     "output_type": "stream",
     "text": [
      "Test_Loader: 100%|██████████| 288/288 [00:03<00:00, 78.54it/s]\n"
     ]
    },
    {
     "name": "stdout",
     "output_type": "stream",
     "text": [
      "Loss1: 15.5649, Loss2: 5.4703, Loss3: 24.0462\n"
     ]
    },
    {
     "name": "stderr",
     "output_type": "stream",
     "text": [
      "Test_Loader: 100%|██████████| 288/288 [00:03<00:00, 74.77it/s]\n"
     ]
    },
    {
     "name": "stdout",
     "output_type": "stream",
     "text": [
      "Loss1: 15.8731, Loss2: 5.2035, Loss3: 22.1861\n"
     ]
    },
    {
     "name": "stderr",
     "output_type": "stream",
     "text": [
      "Test_Loader: 100%|██████████| 288/288 [00:03<00:00, 76.16it/s]\n"
     ]
    },
    {
     "name": "stdout",
     "output_type": "stream",
     "text": [
      "Loss1: 15.7052, Loss2: 5.4563, Loss3: 22.8372\n"
     ]
    },
    {
     "name": "stderr",
     "output_type": "stream",
     "text": [
      "Test_Loader: 100%|██████████| 288/288 [00:03<00:00, 78.88it/s]\n"
     ]
    },
    {
     "name": "stdout",
     "output_type": "stream",
     "text": [
      "Loss1: 15.8412, Loss2: 5.3333, Loss3: 22.6263\n"
     ]
    },
    {
     "name": "stderr",
     "output_type": "stream",
     "text": [
      "Test_Loader: 100%|██████████| 288/288 [00:03<00:00, 83.48it/s]\n"
     ]
    },
    {
     "name": "stdout",
     "output_type": "stream",
     "text": [
      "Loss1: 15.8021, Loss2: 5.2002, Loss3: 22.4352\n"
     ]
    },
    {
     "name": "stderr",
     "output_type": "stream",
     "text": [
      "Test_Loader: 100%|██████████| 288/288 [00:03<00:00, 83.55it/s]\n"
     ]
    },
    {
     "name": "stdout",
     "output_type": "stream",
     "text": [
      "Loss1: 15.7114, Loss2: 5.6336, Loss3: 23.2081\n"
     ]
    },
    {
     "name": "stderr",
     "output_type": "stream",
     "text": [
      "Test_Loader: 100%|██████████| 288/288 [00:03<00:00, 76.43it/s]\n"
     ]
    },
    {
     "name": "stdout",
     "output_type": "stream",
     "text": [
      "Loss1: 15.4562, Loss2: 5.3715, Loss3: 22.5717\n"
     ]
    },
    {
     "name": "stderr",
     "output_type": "stream",
     "text": [
      "Test_Loader: 100%|██████████| 288/288 [00:04<00:00, 69.84it/s]\n"
     ]
    },
    {
     "name": "stdout",
     "output_type": "stream",
     "text": [
      "Loss1: 14.4805, Loss2: 5.3572, Loss3: 21.6519\n"
     ]
    },
    {
     "name": "stderr",
     "output_type": "stream",
     "text": [
      "Test_Loader: 100%|██████████| 288/288 [00:04<00:00, 70.58it/s]\n"
     ]
    },
    {
     "name": "stdout",
     "output_type": "stream",
     "text": [
      "Loss1: 14.3702, Loss2: 5.0856, Loss3: 22.2688\n"
     ]
    },
    {
     "name": "stderr",
     "output_type": "stream",
     "text": [
      "Test_Loader: 100%|██████████| 288/288 [00:03<00:00, 80.20it/s]\n"
     ]
    },
    {
     "name": "stdout",
     "output_type": "stream",
     "text": [
      "Loss1: 14.6297, Loss2: 5.1131, Loss3: 20.6356\n"
     ]
    },
    {
     "name": "stderr",
     "output_type": "stream",
     "text": [
      "Test_Loader: 100%|██████████| 288/288 [00:03<00:00, 86.38it/s]\n"
     ]
    },
    {
     "name": "stdout",
     "output_type": "stream",
     "text": [
      "Loss1: 14.3864, Loss2: 5.3986, Loss3: 22.4092\n"
     ]
    },
    {
     "name": "stderr",
     "output_type": "stream",
     "text": [
      "Test_Loader: 100%|██████████| 288/288 [00:03<00:00, 87.30it/s]\n"
     ]
    },
    {
     "name": "stdout",
     "output_type": "stream",
     "text": [
      "Loss1: 15.0606, Loss2: 5.4510, Loss3: 24.8653\n"
     ]
    },
    {
     "name": "stderr",
     "output_type": "stream",
     "text": [
      "Test_Loader: 100%|██████████| 288/288 [00:03<00:00, 83.59it/s]\n"
     ]
    },
    {
     "name": "stdout",
     "output_type": "stream",
     "text": [
      "Loss1: 14.9953, Loss2: 5.3224, Loss3: 23.0215\n"
     ]
    },
    {
     "name": "stderr",
     "output_type": "stream",
     "text": [
      "Test_Loader: 100%|██████████| 288/288 [00:03<00:00, 83.43it/s]\n"
     ]
    },
    {
     "name": "stdout",
     "output_type": "stream",
     "text": [
      "Loss1: 15.0847, Loss2: 5.7022, Loss3: 24.3766\n"
     ]
    },
    {
     "name": "stderr",
     "output_type": "stream",
     "text": [
      "Test_Loader: 100%|██████████| 288/288 [00:03<00:00, 82.88it/s]\n"
     ]
    },
    {
     "name": "stdout",
     "output_type": "stream",
     "text": [
      "Loss1: 14.8094, Loss2: 5.1005, Loss3: 24.2133\n"
     ]
    },
    {
     "name": "stderr",
     "output_type": "stream",
     "text": [
      "Test_Loader: 100%|██████████| 288/288 [00:03<00:00, 80.72it/s]\n"
     ]
    },
    {
     "name": "stdout",
     "output_type": "stream",
     "text": [
      "Loss1: 15.1600, Loss2: 5.8468, Loss3: 24.7779\n"
     ]
    },
    {
     "name": "stderr",
     "output_type": "stream",
     "text": [
      "Test_Loader: 100%|██████████| 288/288 [00:03<00:00, 80.74it/s]\n"
     ]
    },
    {
     "name": "stdout",
     "output_type": "stream",
     "text": [
      "Loss1: 14.9686, Loss2: 5.4084, Loss3: 24.3730\n"
     ]
    },
    {
     "name": "stderr",
     "output_type": "stream",
     "text": [
      "Test_Loader: 100%|██████████| 288/288 [00:03<00:00, 78.79it/s]\n"
     ]
    },
    {
     "name": "stdout",
     "output_type": "stream",
     "text": [
      "Loss1: 14.8500, Loss2: 5.2321, Loss3: 23.0628\n"
     ]
    },
    {
     "name": "stderr",
     "output_type": "stream",
     "text": [
      "Test_Loader: 100%|██████████| 288/288 [00:03<00:00, 77.90it/s]\n"
     ]
    },
    {
     "name": "stdout",
     "output_type": "stream",
     "text": [
      "Loss1: 15.5319, Loss2: 5.3700, Loss3: 24.4642\n"
     ]
    },
    {
     "name": "stderr",
     "output_type": "stream",
     "text": [
      "Test_Loader: 100%|██████████| 288/288 [00:03<00:00, 78.13it/s]\n"
     ]
    },
    {
     "name": "stdout",
     "output_type": "stream",
     "text": [
      "Loss1: 14.9677, Loss2: 5.2875, Loss3: 22.7579\n"
     ]
    },
    {
     "name": "stderr",
     "output_type": "stream",
     "text": [
      "Test_Loader: 100%|██████████| 288/288 [00:03<00:00, 79.71it/s]\n"
     ]
    },
    {
     "name": "stdout",
     "output_type": "stream",
     "text": [
      "Loss1: 15.6124, Loss2: 5.2978, Loss3: 21.9710\n"
     ]
    },
    {
     "name": "stderr",
     "output_type": "stream",
     "text": [
      "Test_Loader: 100%|██████████| 288/288 [00:03<00:00, 85.82it/s]\n"
     ]
    },
    {
     "name": "stdout",
     "output_type": "stream",
     "text": [
      "Loss1: 15.6229, Loss2: 5.0261, Loss3: 23.8521\n"
     ]
    },
    {
     "name": "stderr",
     "output_type": "stream",
     "text": [
      "Test_Loader: 100%|██████████| 288/288 [00:03<00:00, 86.98it/s]\n"
     ]
    },
    {
     "name": "stdout",
     "output_type": "stream",
     "text": [
      "Loss1: 15.9742, Loss2: 5.6041, Loss3: 25.2422\n"
     ]
    },
    {
     "name": "stderr",
     "output_type": "stream",
     "text": [
      "Test_Loader: 100%|██████████| 288/288 [00:03<00:00, 85.43it/s]\n"
     ]
    },
    {
     "name": "stdout",
     "output_type": "stream",
     "text": [
      "Loss1: 15.8782, Loss2: 5.6227, Loss3: 24.6392\n"
     ]
    },
    {
     "name": "stderr",
     "output_type": "stream",
     "text": [
      "Test_Loader: 100%|██████████| 288/288 [00:03<00:00, 75.06it/s]\n"
     ]
    },
    {
     "name": "stdout",
     "output_type": "stream",
     "text": [
      "Loss1: 15.8319, Loss2: 5.8375, Loss3: 25.1919\n"
     ]
    },
    {
     "name": "stderr",
     "output_type": "stream",
     "text": [
      "Test_Loader: 100%|██████████| 288/288 [00:03<00:00, 76.23it/s]\n"
     ]
    },
    {
     "name": "stdout",
     "output_type": "stream",
     "text": [
      "Loss1: 15.7295, Loss2: 5.6634, Loss3: 26.5461\n"
     ]
    },
    {
     "name": "stderr",
     "output_type": "stream",
     "text": [
      "Test_Loader: 100%|██████████| 288/288 [00:03<00:00, 77.17it/s]\n"
     ]
    },
    {
     "name": "stdout",
     "output_type": "stream",
     "text": [
      "Loss1: 15.8515, Loss2: 5.7375, Loss3: 23.3775\n"
     ]
    },
    {
     "name": "stderr",
     "output_type": "stream",
     "text": [
      "Test_Loader: 100%|██████████| 288/288 [00:03<00:00, 84.53it/s]\n"
     ]
    },
    {
     "name": "stdout",
     "output_type": "stream",
     "text": [
      "Loss1: 15.2611, Loss2: 5.7935, Loss3: 24.9052\n"
     ]
    },
    {
     "name": "stderr",
     "output_type": "stream",
     "text": [
      "Test_Loader: 100%|██████████| 288/288 [00:03<00:00, 86.89it/s]\n"
     ]
    },
    {
     "name": "stdout",
     "output_type": "stream",
     "text": [
      "Loss1: 15.3207, Loss2: 5.6072, Loss3: 23.3664\n"
     ]
    },
    {
     "name": "stderr",
     "output_type": "stream",
     "text": [
      "Test_Loader: 100%|██████████| 288/288 [00:03<00:00, 83.70it/s]\n"
     ]
    },
    {
     "name": "stdout",
     "output_type": "stream",
     "text": [
      "Loss1: 16.2006, Loss2: 5.8815, Loss3: 28.3507\n"
     ]
    },
    {
     "name": "stderr",
     "output_type": "stream",
     "text": [
      "Test_Loader: 100%|██████████| 288/288 [00:03<00:00, 78.86it/s]\n"
     ]
    },
    {
     "name": "stdout",
     "output_type": "stream",
     "text": [
      "Loss1: 15.2456, Loss2: 5.6201, Loss3: 29.4494\n"
     ]
    },
    {
     "name": "stderr",
     "output_type": "stream",
     "text": [
      "Test_Loader: 100%|██████████| 288/288 [00:03<00:00, 80.38it/s]\n"
     ]
    },
    {
     "name": "stdout",
     "output_type": "stream",
     "text": [
      "Loss1: 15.5860, Loss2: 6.0786, Loss3: 24.3989\n"
     ]
    },
    {
     "name": "stderr",
     "output_type": "stream",
     "text": [
      "Test_Loader: 100%|██████████| 288/288 [00:03<00:00, 80.04it/s]\n"
     ]
    },
    {
     "name": "stdout",
     "output_type": "stream",
     "text": [
      "Loss1: 15.9479, Loss2: 5.8998, Loss3: 26.7785\n"
     ]
    },
    {
     "name": "stderr",
     "output_type": "stream",
     "text": [
      "Test_Loader: 100%|██████████| 288/288 [00:03<00:00, 79.71it/s]\n"
     ]
    },
    {
     "name": "stdout",
     "output_type": "stream",
     "text": [
      "Loss1: 15.5707, Loss2: 6.2754, Loss3: 27.8865\n"
     ]
    },
    {
     "name": "stderr",
     "output_type": "stream",
     "text": [
      "Test_Loader: 100%|██████████| 288/288 [00:03<00:00, 77.29it/s]\n"
     ]
    },
    {
     "name": "stdout",
     "output_type": "stream",
     "text": [
      "Loss1: 15.2348, Loss2: 5.5613, Loss3: 25.9608\n"
     ]
    },
    {
     "name": "stderr",
     "output_type": "stream",
     "text": [
      "Test_Loader: 100%|██████████| 288/288 [00:03<00:00, 80.23it/s]\n"
     ]
    },
    {
     "name": "stdout",
     "output_type": "stream",
     "text": [
      "Loss1: 16.4375, Loss2: 6.1816, Loss3: 24.4136\n"
     ]
    },
    {
     "name": "stderr",
     "output_type": "stream",
     "text": [
      "Test_Loader: 100%|██████████| 288/288 [00:03<00:00, 82.17it/s]\n"
     ]
    },
    {
     "name": "stdout",
     "output_type": "stream",
     "text": [
      "Loss1: 15.1569, Loss2: 5.6471, Loss3: 25.2310\n"
     ]
    },
    {
     "name": "stderr",
     "output_type": "stream",
     "text": [
      "Test_Loader: 100%|██████████| 288/288 [00:03<00:00, 82.78it/s]\n"
     ]
    },
    {
     "name": "stdout",
     "output_type": "stream",
     "text": [
      "Loss1: 15.5746, Loss2: 5.6996, Loss3: 25.3382\n"
     ]
    },
    {
     "name": "stderr",
     "output_type": "stream",
     "text": [
      "Test_Loader: 100%|██████████| 288/288 [00:03<00:00, 84.48it/s]\n"
     ]
    },
    {
     "name": "stdout",
     "output_type": "stream",
     "text": [
      "Loss1: 15.2269, Loss2: 5.7171, Loss3: 26.1671\n"
     ]
    },
    {
     "name": "stderr",
     "output_type": "stream",
     "text": [
      "Test_Loader: 100%|██████████| 288/288 [00:03<00:00, 85.66it/s]\n"
     ]
    },
    {
     "name": "stdout",
     "output_type": "stream",
     "text": [
      "Loss1: 15.6429, Loss2: 5.5857, Loss3: 24.9508\n"
     ]
    },
    {
     "name": "stderr",
     "output_type": "stream",
     "text": [
      "Test_Loader: 100%|██████████| 288/288 [00:03<00:00, 86.90it/s]\n"
     ]
    },
    {
     "name": "stdout",
     "output_type": "stream",
     "text": [
      "Loss1: 15.4291, Loss2: 6.0080, Loss3: 23.8203\n"
     ]
    },
    {
     "name": "stderr",
     "output_type": "stream",
     "text": [
      "Test_Loader: 100%|██████████| 288/288 [00:03<00:00, 76.68it/s]\n"
     ]
    },
    {
     "name": "stdout",
     "output_type": "stream",
     "text": [
      "Loss1: 14.6626, Loss2: 5.3946, Loss3: 24.9452\n"
     ]
    },
    {
     "name": "stderr",
     "output_type": "stream",
     "text": [
      "Test_Loader: 100%|██████████| 288/288 [00:03<00:00, 73.47it/s]\n"
     ]
    },
    {
     "name": "stdout",
     "output_type": "stream",
     "text": [
      "Loss1: 16.0044, Loss2: 5.7142, Loss3: 29.3312\n"
     ]
    },
    {
     "name": "stderr",
     "output_type": "stream",
     "text": [
      "Test_Loader: 100%|██████████| 288/288 [00:03<00:00, 72.66it/s]\n"
     ]
    },
    {
     "name": "stdout",
     "output_type": "stream",
     "text": [
      "Loss1: 14.1839, Loss2: 5.1790, Loss3: 23.3857\n"
     ]
    },
    {
     "name": "stderr",
     "output_type": "stream",
     "text": [
      "Test_Loader: 100%|██████████| 288/288 [00:03<00:00, 80.76it/s]\n"
     ]
    },
    {
     "name": "stdout",
     "output_type": "stream",
     "text": [
      "Loss1: 14.0960, Loss2: 5.3697, Loss3: 22.3118\n"
     ]
    },
    {
     "name": "stderr",
     "output_type": "stream",
     "text": [
      "Test_Loader: 100%|██████████| 288/288 [00:03<00:00, 81.79it/s]\n"
     ]
    },
    {
     "name": "stdout",
     "output_type": "stream",
     "text": [
      "Loss1: 13.9486, Loss2: 5.6344, Loss3: 23.2346\n"
     ]
    },
    {
     "name": "stderr",
     "output_type": "stream",
     "text": [
      "Test_Loader: 100%|██████████| 288/288 [00:03<00:00, 86.25it/s]\n"
     ]
    },
    {
     "name": "stdout",
     "output_type": "stream",
     "text": [
      "Loss1: 13.7406, Loss2: 5.4835, Loss3: 23.5515\n"
     ]
    },
    {
     "name": "stderr",
     "output_type": "stream",
     "text": [
      "Test_Loader: 100%|██████████| 288/288 [00:03<00:00, 84.06it/s]\n"
     ]
    },
    {
     "name": "stdout",
     "output_type": "stream",
     "text": [
      "Loss1: 14.0639, Loss2: 5.4931, Loss3: 24.4635\n"
     ]
    },
    {
     "name": "stderr",
     "output_type": "stream",
     "text": [
      "Test_Loader: 100%|██████████| 288/288 [00:03<00:00, 82.03it/s]\n"
     ]
    },
    {
     "name": "stdout",
     "output_type": "stream",
     "text": [
      "Loss1: 14.3289, Loss2: 5.4528, Loss3: 24.4176\n"
     ]
    },
    {
     "name": "stderr",
     "output_type": "stream",
     "text": [
      "Test_Loader: 100%|██████████| 288/288 [00:03<00:00, 81.31it/s]\n"
     ]
    },
    {
     "name": "stdout",
     "output_type": "stream",
     "text": [
      "Loss1: 14.4761, Loss2: 5.4839, Loss3: 23.7727\n"
     ]
    },
    {
     "name": "stderr",
     "output_type": "stream",
     "text": [
      "Test_Loader: 100%|██████████| 288/288 [00:03<00:00, 79.67it/s]\n"
     ]
    },
    {
     "name": "stdout",
     "output_type": "stream",
     "text": [
      "Loss1: 14.9522, Loss2: 6.2458, Loss3: 25.8545\n"
     ]
    },
    {
     "name": "stderr",
     "output_type": "stream",
     "text": [
      "Test_Loader: 100%|██████████| 288/288 [00:03<00:00, 82.05it/s]\n"
     ]
    },
    {
     "name": "stdout",
     "output_type": "stream",
     "text": [
      "Loss1: 14.9626, Loss2: 6.3351, Loss3: 30.9719\n"
     ]
    },
    {
     "name": "stderr",
     "output_type": "stream",
     "text": [
      "Test_Loader: 100%|██████████| 288/288 [00:03<00:00, 78.42it/s]\n"
     ]
    },
    {
     "name": "stdout",
     "output_type": "stream",
     "text": [
      "Loss1: 14.1159, Loss2: 5.2916, Loss3: 23.5694\n"
     ]
    },
    {
     "name": "stderr",
     "output_type": "stream",
     "text": [
      "Test_Loader: 100%|██████████| 288/288 [00:03<00:00, 79.73it/s]\n"
     ]
    },
    {
     "name": "stdout",
     "output_type": "stream",
     "text": [
      "Loss1: 15.1646, Loss2: 6.9674, Loss3: 24.1120\n"
     ]
    },
    {
     "name": "stderr",
     "output_type": "stream",
     "text": [
      "Test_Loader: 100%|██████████| 288/288 [00:03<00:00, 79.84it/s]\n"
     ]
    },
    {
     "name": "stdout",
     "output_type": "stream",
     "text": [
      "Loss1: 14.3234, Loss2: 5.5107, Loss3: 23.7332\n"
     ]
    },
    {
     "name": "stderr",
     "output_type": "stream",
     "text": [
      "Test_Loader: 100%|██████████| 288/288 [00:03<00:00, 81.55it/s]\n"
     ]
    },
    {
     "name": "stdout",
     "output_type": "stream",
     "text": [
      "Loss1: 14.6323, Loss2: 5.4575, Loss3: 23.2235\n"
     ]
    },
    {
     "name": "stderr",
     "output_type": "stream",
     "text": [
      "Test_Loader: 100%|██████████| 288/288 [00:03<00:00, 85.02it/s]\n"
     ]
    },
    {
     "name": "stdout",
     "output_type": "stream",
     "text": [
      "Loss1: 14.1051, Loss2: 5.6815, Loss3: 23.0529\n"
     ]
    },
    {
     "name": "stderr",
     "output_type": "stream",
     "text": [
      "Test_Loader: 100%|██████████| 288/288 [00:03<00:00, 84.41it/s]\n"
     ]
    },
    {
     "name": "stdout",
     "output_type": "stream",
     "text": [
      "Loss1: 14.4108, Loss2: 6.3358, Loss3: 23.1811\n"
     ]
    },
    {
     "name": "stderr",
     "output_type": "stream",
     "text": [
      "Test_Loader: 100%|██████████| 288/288 [00:03<00:00, 83.84it/s]\n"
     ]
    },
    {
     "name": "stdout",
     "output_type": "stream",
     "text": [
      "Loss1: 14.7484, Loss2: 5.9139, Loss3: 24.0297\n"
     ]
    },
    {
     "name": "stderr",
     "output_type": "stream",
     "text": [
      "Test_Loader: 100%|██████████| 288/288 [00:03<00:00, 80.31it/s]\n"
     ]
    },
    {
     "name": "stdout",
     "output_type": "stream",
     "text": [
      "Loss1: 14.6111, Loss2: 5.6483, Loss3: 25.0868\n"
     ]
    },
    {
     "name": "stderr",
     "output_type": "stream",
     "text": [
      "Test_Loader: 100%|██████████| 288/288 [00:03<00:00, 78.44it/s]\n"
     ]
    },
    {
     "name": "stdout",
     "output_type": "stream",
     "text": [
      "Loss1: 14.3076, Loss2: 5.2763, Loss3: 22.9727\n"
     ]
    },
    {
     "name": "stderr",
     "output_type": "stream",
     "text": [
      "Test_Loader: 100%|██████████| 288/288 [00:03<00:00, 75.92it/s]\n"
     ]
    },
    {
     "name": "stdout",
     "output_type": "stream",
     "text": [
      "Loss1: 14.3368, Loss2: 5.6171, Loss3: 23.4491\n"
     ]
    },
    {
     "name": "stderr",
     "output_type": "stream",
     "text": [
      "Test_Loader: 100%|██████████| 288/288 [00:03<00:00, 76.41it/s]\n"
     ]
    },
    {
     "name": "stdout",
     "output_type": "stream",
     "text": [
      "Loss1: 14.5357, Loss2: 5.8080, Loss3: 25.1537\n"
     ]
    },
    {
     "name": "stderr",
     "output_type": "stream",
     "text": [
      "Test_Loader: 100%|██████████| 288/288 [00:03<00:00, 76.15it/s]\n"
     ]
    },
    {
     "name": "stdout",
     "output_type": "stream",
     "text": [
      "Loss1: 14.0993, Loss2: 5.8327, Loss3: 24.5267\n"
     ]
    },
    {
     "name": "stderr",
     "output_type": "stream",
     "text": [
      "Test_Loader: 100%|██████████| 288/288 [00:03<00:00, 82.36it/s]\n"
     ]
    },
    {
     "name": "stdout",
     "output_type": "stream",
     "text": [
      "Loss1: 14.5548, Loss2: 5.4993, Loss3: 23.7290\n"
     ]
    },
    {
     "name": "stderr",
     "output_type": "stream",
     "text": [
      "Test_Loader: 100%|██████████| 288/288 [00:03<00:00, 85.10it/s]\n"
     ]
    },
    {
     "name": "stdout",
     "output_type": "stream",
     "text": [
      "Loss1: 14.2794, Loss2: 5.7274, Loss3: 24.3739\n"
     ]
    },
    {
     "name": "stderr",
     "output_type": "stream",
     "text": [
      "Test_Loader: 100%|██████████| 288/288 [00:03<00:00, 82.62it/s]\n"
     ]
    },
    {
     "name": "stdout",
     "output_type": "stream",
     "text": [
      "Loss1: 14.9658, Loss2: 5.3003, Loss3: 24.2044\n"
     ]
    },
    {
     "name": "stderr",
     "output_type": "stream",
     "text": [
      "Test_Loader: 100%|██████████| 288/288 [00:03<00:00, 82.22it/s]\n"
     ]
    },
    {
     "name": "stdout",
     "output_type": "stream",
     "text": [
      "Loss1: 15.0651, Loss2: 5.6281, Loss3: 22.4296\n"
     ]
    },
    {
     "name": "stderr",
     "output_type": "stream",
     "text": [
      "Test_Loader: 100%|██████████| 288/288 [00:03<00:00, 75.93it/s]\n"
     ]
    },
    {
     "name": "stdout",
     "output_type": "stream",
     "text": [
      "Loss1: 15.0787, Loss2: 5.6179, Loss3: 23.8133\n"
     ]
    },
    {
     "name": "stderr",
     "output_type": "stream",
     "text": [
      "Test_Loader: 100%|██████████| 288/288 [00:03<00:00, 76.39it/s]\n"
     ]
    },
    {
     "name": "stdout",
     "output_type": "stream",
     "text": [
      "Loss1: 15.0200, Loss2: 5.5424, Loss3: 23.7078\n"
     ]
    },
    {
     "name": "stderr",
     "output_type": "stream",
     "text": [
      "Test_Loader: 100%|██████████| 288/288 [00:03<00:00, 76.15it/s]\n"
     ]
    },
    {
     "name": "stdout",
     "output_type": "stream",
     "text": [
      "Loss1: 14.8198, Loss2: 5.7242, Loss3: 23.1537\n"
     ]
    },
    {
     "name": "stderr",
     "output_type": "stream",
     "text": [
      "Test_Loader: 100%|██████████| 288/288 [00:03<00:00, 76.11it/s]\n"
     ]
    },
    {
     "name": "stdout",
     "output_type": "stream",
     "text": [
      "Loss1: 15.2631, Loss2: 5.4857, Loss3: 23.6647\n"
     ]
    },
    {
     "name": "stderr",
     "output_type": "stream",
     "text": [
      "Test_Loader: 100%|██████████| 288/288 [00:03<00:00, 80.56it/s]\n"
     ]
    },
    {
     "name": "stdout",
     "output_type": "stream",
     "text": [
      "Loss1: 14.6141, Loss2: 5.5072, Loss3: 22.8349\n"
     ]
    },
    {
     "name": "stderr",
     "output_type": "stream",
     "text": [
      "Test_Loader: 100%|██████████| 288/288 [00:04<00:00, 68.36it/s]\n"
     ]
    },
    {
     "name": "stdout",
     "output_type": "stream",
     "text": [
      "Loss1: 15.1014, Loss2: 5.8500, Loss3: 23.3539\n"
     ]
    },
    {
     "name": "stderr",
     "output_type": "stream",
     "text": [
      "Test_Loader: 100%|██████████| 288/288 [00:04<00:00, 65.93it/s]\n"
     ]
    },
    {
     "name": "stdout",
     "output_type": "stream",
     "text": [
      "Loss1: 15.0500, Loss2: 5.8592, Loss3: 23.2866\n"
     ]
    },
    {
     "name": "stderr",
     "output_type": "stream",
     "text": [
      "Test_Loader: 100%|██████████| 288/288 [00:04<00:00, 64.98it/s]\n"
     ]
    },
    {
     "name": "stdout",
     "output_type": "stream",
     "text": [
      "Loss1: 14.4645, Loss2: 5.5905, Loss3: 23.5753\n"
     ]
    },
    {
     "name": "stderr",
     "output_type": "stream",
     "text": [
      "Test_Loader: 100%|██████████| 288/288 [00:03<00:00, 78.93it/s]\n"
     ]
    },
    {
     "name": "stdout",
     "output_type": "stream",
     "text": [
      "Loss1: 15.3232, Loss2: 5.5068, Loss3: 24.3625\n"
     ]
    },
    {
     "name": "stderr",
     "output_type": "stream",
     "text": [
      "Test_Loader: 100%|██████████| 288/288 [00:03<00:00, 81.84it/s]\n"
     ]
    },
    {
     "name": "stdout",
     "output_type": "stream",
     "text": [
      "Loss1: 14.6595, Loss2: 5.9971, Loss3: 25.6241\n"
     ]
    },
    {
     "name": "stderr",
     "output_type": "stream",
     "text": [
      "Test_Loader: 100%|██████████| 288/288 [00:03<00:00, 81.31it/s]\n"
     ]
    },
    {
     "name": "stdout",
     "output_type": "stream",
     "text": [
      "Loss1: 15.4079, Loss2: 5.4672, Loss3: 23.6796\n"
     ]
    },
    {
     "name": "stderr",
     "output_type": "stream",
     "text": [
      "Test_Loader: 100%|██████████| 288/288 [00:03<00:00, 75.26it/s]\n"
     ]
    },
    {
     "name": "stdout",
     "output_type": "stream",
     "text": [
      "Loss1: 14.9427, Loss2: 6.0824, Loss3: 23.7953\n"
     ]
    },
    {
     "name": "stderr",
     "output_type": "stream",
     "text": [
      "Test_Loader: 100%|██████████| 288/288 [00:03<00:00, 74.71it/s]\n"
     ]
    },
    {
     "name": "stdout",
     "output_type": "stream",
     "text": [
      "Loss1: 14.4578, Loss2: 5.3886, Loss3: 22.2443\n"
     ]
    },
    {
     "name": "stderr",
     "output_type": "stream",
     "text": [
      "Test_Loader: 100%|██████████| 288/288 [00:03<00:00, 75.79it/s]\n"
     ]
    },
    {
     "name": "stdout",
     "output_type": "stream",
     "text": [
      "Loss1: 14.9462, Loss2: 5.5446, Loss3: 24.2931\n"
     ]
    },
    {
     "name": "stderr",
     "output_type": "stream",
     "text": [
      "Test_Loader: 100%|██████████| 288/288 [00:03<00:00, 79.84it/s]\n"
     ]
    },
    {
     "name": "stdout",
     "output_type": "stream",
     "text": [
      "Loss1: 14.6436, Loss2: 5.4782, Loss3: 22.5573\n"
     ]
    },
    {
     "name": "stderr",
     "output_type": "stream",
     "text": [
      "Test_Loader: 100%|██████████| 288/288 [00:03<00:00, 75.43it/s]\n"
     ]
    },
    {
     "name": "stdout",
     "output_type": "stream",
     "text": [
      "Loss1: 15.3938, Loss2: 6.0241, Loss3: 23.4449\n"
     ]
    },
    {
     "name": "stderr",
     "output_type": "stream",
     "text": [
      "Test_Loader: 100%|██████████| 288/288 [00:03<00:00, 74.57it/s]\n"
     ]
    },
    {
     "name": "stdout",
     "output_type": "stream",
     "text": [
      "Loss1: 14.2010, Loss2: 5.2935, Loss3: 22.9697\n"
     ]
    },
    {
     "name": "stderr",
     "output_type": "stream",
     "text": [
      "Test_Loader: 100%|██████████| 288/288 [00:03<00:00, 76.71it/s]\n"
     ]
    },
    {
     "name": "stdout",
     "output_type": "stream",
     "text": [
      "Loss1: 14.5363, Loss2: 5.4477, Loss3: 22.2555\n"
     ]
    },
    {
     "name": "stderr",
     "output_type": "stream",
     "text": [
      "Test_Loader: 100%|██████████| 288/288 [00:03<00:00, 81.26it/s]\n"
     ]
    },
    {
     "name": "stdout",
     "output_type": "stream",
     "text": [
      "Loss1: 14.7743, Loss2: 5.3016, Loss3: 22.7366\n"
     ]
    },
    {
     "name": "stderr",
     "output_type": "stream",
     "text": [
      "Test_Loader: 100%|██████████| 288/288 [00:03<00:00, 80.11it/s]\n"
     ]
    },
    {
     "name": "stdout",
     "output_type": "stream",
     "text": [
      "Loss1: 14.7076, Loss2: 5.6217, Loss3: 25.2126\n"
     ]
    },
    {
     "name": "stderr",
     "output_type": "stream",
     "text": [
      "Test_Loader: 100%|██████████| 288/288 [00:03<00:00, 76.32it/s]\n"
     ]
    },
    {
     "name": "stdout",
     "output_type": "stream",
     "text": [
      "Loss1: 14.7615, Loss2: 5.3255, Loss3: 22.5796\n"
     ]
    },
    {
     "name": "stderr",
     "output_type": "stream",
     "text": [
      "Test_Loader: 100%|██████████| 288/288 [00:03<00:00, 78.41it/s]\n"
     ]
    },
    {
     "name": "stdout",
     "output_type": "stream",
     "text": [
      "Loss1: 14.4091, Loss2: 5.6193, Loss3: 23.5101\n"
     ]
    },
    {
     "name": "stderr",
     "output_type": "stream",
     "text": [
      "Test_Loader: 100%|██████████| 288/288 [00:03<00:00, 75.91it/s]\n"
     ]
    },
    {
     "name": "stdout",
     "output_type": "stream",
     "text": [
      "Loss1: 14.4891, Loss2: 5.6507, Loss3: 23.1175\n"
     ]
    },
    {
     "name": "stderr",
     "output_type": "stream",
     "text": [
      "Test_Loader: 100%|██████████| 288/288 [00:03<00:00, 81.03it/s]\n"
     ]
    },
    {
     "name": "stdout",
     "output_type": "stream",
     "text": [
      "Loss1: 14.1133, Loss2: 5.6622, Loss3: 21.8228\n"
     ]
    },
    {
     "name": "stderr",
     "output_type": "stream",
     "text": [
      "Test_Loader: 100%|██████████| 288/288 [00:03<00:00, 74.61it/s]\n"
     ]
    },
    {
     "name": "stdout",
     "output_type": "stream",
     "text": [
      "Loss1: 14.4416, Loss2: 5.2557, Loss3: 21.5692\n"
     ]
    },
    {
     "name": "stderr",
     "output_type": "stream",
     "text": [
      "Test_Loader: 100%|██████████| 288/288 [00:03<00:00, 78.16it/s]\n"
     ]
    },
    {
     "name": "stdout",
     "output_type": "stream",
     "text": [
      "Loss1: 13.6206, Loss2: 5.3299, Loss3: 21.6536\n"
     ]
    },
    {
     "name": "stderr",
     "output_type": "stream",
     "text": [
      "Test_Loader: 100%|██████████| 288/288 [00:03<00:00, 78.07it/s]\n"
     ]
    },
    {
     "name": "stdout",
     "output_type": "stream",
     "text": [
      "Loss1: 14.0937, Loss2: 5.5111, Loss3: 21.3494\n"
     ]
    },
    {
     "name": "stderr",
     "output_type": "stream",
     "text": [
      "Test_Loader: 100%|██████████| 288/288 [00:03<00:00, 79.11it/s]\n"
     ]
    },
    {
     "name": "stdout",
     "output_type": "stream",
     "text": [
      "Loss1: 14.0201, Loss2: 6.1927, Loss3: 22.3149\n"
     ]
    },
    {
     "name": "stderr",
     "output_type": "stream",
     "text": [
      "Test_Loader: 100%|██████████| 288/288 [00:03<00:00, 77.21it/s]\n"
     ]
    },
    {
     "name": "stdout",
     "output_type": "stream",
     "text": [
      "Loss1: 14.0218, Loss2: 5.4719, Loss3: 23.1754\n"
     ]
    },
    {
     "name": "stderr",
     "output_type": "stream",
     "text": [
      "Test_Loader: 100%|██████████| 288/288 [00:03<00:00, 76.15it/s]\n"
     ]
    },
    {
     "name": "stdout",
     "output_type": "stream",
     "text": [
      "Loss1: 13.4682, Loss2: 5.3252, Loss3: 21.1702\n"
     ]
    },
    {
     "name": "stderr",
     "output_type": "stream",
     "text": [
      "Test_Loader: 100%|██████████| 288/288 [00:03<00:00, 79.66it/s]\n"
     ]
    },
    {
     "name": "stdout",
     "output_type": "stream",
     "text": [
      "Loss1: 13.6225, Loss2: 5.5710, Loss3: 22.2350\n"
     ]
    },
    {
     "name": "stderr",
     "output_type": "stream",
     "text": [
      "Test_Loader: 100%|██████████| 288/288 [00:03<00:00, 81.78it/s]\n"
     ]
    },
    {
     "name": "stdout",
     "output_type": "stream",
     "text": [
      "Loss1: 13.5802, Loss2: 5.3309, Loss3: 21.9449\n"
     ]
    },
    {
     "name": "stderr",
     "output_type": "stream",
     "text": [
      "Test_Loader: 100%|██████████| 288/288 [00:03<00:00, 82.64it/s]\n"
     ]
    },
    {
     "name": "stdout",
     "output_type": "stream",
     "text": [
      "Loss1: 13.7287, Loss2: 5.8416, Loss3: 21.9414\n"
     ]
    },
    {
     "name": "stderr",
     "output_type": "stream",
     "text": [
      "Test_Loader: 100%|██████████| 288/288 [00:03<00:00, 78.61it/s]\n"
     ]
    },
    {
     "name": "stdout",
     "output_type": "stream",
     "text": [
      "Loss1: 13.8863, Loss2: 6.6227, Loss3: 26.6060\n"
     ]
    },
    {
     "name": "stderr",
     "output_type": "stream",
     "text": [
      "Test_Loader: 100%|██████████| 288/288 [00:03<00:00, 75.86it/s]\n"
     ]
    },
    {
     "name": "stdout",
     "output_type": "stream",
     "text": [
      "Loss1: 13.5327, Loss2: 6.1354, Loss3: 24.1054\n"
     ]
    },
    {
     "name": "stderr",
     "output_type": "stream",
     "text": [
      "Test_Loader: 100%|██████████| 288/288 [00:03<00:00, 77.80it/s]\n"
     ]
    },
    {
     "name": "stdout",
     "output_type": "stream",
     "text": [
      "Loss1: 14.9642, Loss2: 6.6529, Loss3: 27.7475\n"
     ]
    },
    {
     "name": "stderr",
     "output_type": "stream",
     "text": [
      "Test_Loader: 100%|██████████| 288/288 [00:03<00:00, 78.93it/s]\n"
     ]
    },
    {
     "name": "stdout",
     "output_type": "stream",
     "text": [
      "Loss1: 14.6683, Loss2: 6.3007, Loss3: 28.3690\n"
     ]
    },
    {
     "name": "stderr",
     "output_type": "stream",
     "text": [
      "Test_Loader: 100%|██████████| 288/288 [00:03<00:00, 76.99it/s]\n"
     ]
    },
    {
     "name": "stdout",
     "output_type": "stream",
     "text": [
      "Loss1: 15.3426, Loss2: 6.7786, Loss3: 26.1738\n"
     ]
    },
    {
     "name": "stderr",
     "output_type": "stream",
     "text": [
      "Test_Loader: 100%|██████████| 288/288 [00:03<00:00, 77.69it/s]\n"
     ]
    },
    {
     "name": "stdout",
     "output_type": "stream",
     "text": [
      "Loss1: 14.7806, Loss2: 6.2215, Loss3: 26.7509\n"
     ]
    },
    {
     "name": "stderr",
     "output_type": "stream",
     "text": [
      "Test_Loader: 100%|██████████| 288/288 [00:03<00:00, 78.69it/s]\n"
     ]
    },
    {
     "name": "stdout",
     "output_type": "stream",
     "text": [
      "Loss1: 14.5523, Loss2: 6.0751, Loss3: 24.7251\n"
     ]
    },
    {
     "name": "stderr",
     "output_type": "stream",
     "text": [
      "Test_Loader: 100%|██████████| 288/288 [00:03<00:00, 79.54it/s]\n"
     ]
    },
    {
     "name": "stdout",
     "output_type": "stream",
     "text": [
      "Loss1: 14.6860, Loss2: 6.3678, Loss3: 24.6583\n"
     ]
    },
    {
     "name": "stderr",
     "output_type": "stream",
     "text": [
      "Test_Loader: 100%|██████████| 288/288 [00:03<00:00, 81.41it/s]\n"
     ]
    },
    {
     "name": "stdout",
     "output_type": "stream",
     "text": [
      "Loss1: 14.9189, Loss2: 6.5129, Loss3: 25.6627\n"
     ]
    },
    {
     "name": "stderr",
     "output_type": "stream",
     "text": [
      "Test_Loader: 100%|██████████| 288/288 [00:03<00:00, 80.96it/s]\n"
     ]
    },
    {
     "name": "stdout",
     "output_type": "stream",
     "text": [
      "Loss1: 15.2850, Loss2: 6.4580, Loss3: 25.0476\n"
     ]
    },
    {
     "name": "stderr",
     "output_type": "stream",
     "text": [
      "Test_Loader: 100%|██████████| 288/288 [00:03<00:00, 82.09it/s]\n"
     ]
    },
    {
     "name": "stdout",
     "output_type": "stream",
     "text": [
      "Loss1: 14.7978, Loss2: 6.5047, Loss3: 26.5137\n"
     ]
    },
    {
     "name": "stderr",
     "output_type": "stream",
     "text": [
      "Test_Loader: 100%|██████████| 288/288 [00:03<00:00, 82.81it/s]\n"
     ]
    },
    {
     "name": "stdout",
     "output_type": "stream",
     "text": [
      "Loss1: 15.3332, Loss2: 6.1897, Loss3: 24.4420\n"
     ]
    },
    {
     "name": "stderr",
     "output_type": "stream",
     "text": [
      "Test_Loader: 100%|██████████| 288/288 [00:03<00:00, 79.67it/s]\n"
     ]
    },
    {
     "name": "stdout",
     "output_type": "stream",
     "text": [
      "Loss1: 14.4437, Loss2: 6.4390, Loss3: 24.8312\n"
     ]
    },
    {
     "name": "stderr",
     "output_type": "stream",
     "text": [
      "Test_Loader: 100%|██████████| 288/288 [00:03<00:00, 74.27it/s]\n"
     ]
    },
    {
     "name": "stdout",
     "output_type": "stream",
     "text": [
      "Loss1: 15.3042, Loss2: 6.1855, Loss3: 25.3105\n"
     ]
    },
    {
     "name": "stderr",
     "output_type": "stream",
     "text": [
      "Test_Loader: 100%|██████████| 288/288 [00:03<00:00, 72.73it/s]\n"
     ]
    },
    {
     "name": "stdout",
     "output_type": "stream",
     "text": [
      "Loss1: 14.6417, Loss2: 6.3025, Loss3: 24.9678\n"
     ]
    },
    {
     "name": "stderr",
     "output_type": "stream",
     "text": [
      "Test_Loader: 100%|██████████| 288/288 [00:03<00:00, 80.62it/s]\n"
     ]
    },
    {
     "name": "stdout",
     "output_type": "stream",
     "text": [
      "Loss1: 14.7486, Loss2: 6.6551, Loss3: 27.1511\n"
     ]
    },
    {
     "name": "stderr",
     "output_type": "stream",
     "text": [
      "Test_Loader: 100%|██████████| 288/288 [00:03<00:00, 82.28it/s]\n"
     ]
    },
    {
     "name": "stdout",
     "output_type": "stream",
     "text": [
      "Loss1: 16.4784, Loss2: 6.6734, Loss3: 29.0078\n"
     ]
    },
    {
     "name": "stderr",
     "output_type": "stream",
     "text": [
      "Test_Loader: 100%|██████████| 288/288 [00:03<00:00, 81.76it/s]\n"
     ]
    },
    {
     "name": "stdout",
     "output_type": "stream",
     "text": [
      "Loss1: 14.8789, Loss2: 6.8528, Loss3: 26.8987\n"
     ]
    },
    {
     "name": "stderr",
     "output_type": "stream",
     "text": [
      "Test_Loader: 100%|██████████| 288/288 [00:03<00:00, 83.38it/s]\n"
     ]
    },
    {
     "name": "stdout",
     "output_type": "stream",
     "text": [
      "Loss1: 15.6467, Loss2: 6.8330, Loss3: 27.9040\n"
     ]
    },
    {
     "name": "stderr",
     "output_type": "stream",
     "text": [
      "Test_Loader: 100%|██████████| 288/288 [00:03<00:00, 79.93it/s]\n"
     ]
    },
    {
     "name": "stdout",
     "output_type": "stream",
     "text": [
      "Loss1: 15.4605, Loss2: 6.3317, Loss3: 35.3682\n"
     ]
    },
    {
     "name": "stderr",
     "output_type": "stream",
     "text": [
      "Test_Loader: 100%|██████████| 288/288 [00:03<00:00, 80.56it/s]\n"
     ]
    },
    {
     "name": "stdout",
     "output_type": "stream",
     "text": [
      "Loss1: 15.3512, Loss2: 6.2487, Loss3: 27.9372\n"
     ]
    },
    {
     "name": "stderr",
     "output_type": "stream",
     "text": [
      "Test_Loader: 100%|██████████| 288/288 [00:03<00:00, 81.20it/s]\n"
     ]
    },
    {
     "name": "stdout",
     "output_type": "stream",
     "text": [
      "Loss1: 15.4952, Loss2: 7.1484, Loss3: 32.4482\n"
     ]
    },
    {
     "name": "stderr",
     "output_type": "stream",
     "text": [
      "Test_Loader: 100%|██████████| 288/288 [00:03<00:00, 82.57it/s]\n"
     ]
    },
    {
     "name": "stdout",
     "output_type": "stream",
     "text": [
      "Loss1: 15.3130, Loss2: 6.6672, Loss3: 29.1303\n"
     ]
    },
    {
     "name": "stderr",
     "output_type": "stream",
     "text": [
      "Test_Loader: 100%|██████████| 288/288 [00:03<00:00, 82.76it/s]\n"
     ]
    },
    {
     "name": "stdout",
     "output_type": "stream",
     "text": [
      "Loss1: 15.0979, Loss2: 6.6445, Loss3: 27.5834\n"
     ]
    },
    {
     "name": "stderr",
     "output_type": "stream",
     "text": [
      "Test_Loader: 100%|██████████| 288/288 [00:03<00:00, 84.89it/s]\n"
     ]
    },
    {
     "name": "stdout",
     "output_type": "stream",
     "text": [
      "Loss1: 14.5188, Loss2: 7.0716, Loss3: 28.6146\n"
     ]
    },
    {
     "name": "stderr",
     "output_type": "stream",
     "text": [
      "Test_Loader: 100%|██████████| 288/288 [00:03<00:00, 86.12it/s]\n"
     ]
    },
    {
     "name": "stdout",
     "output_type": "stream",
     "text": [
      "Loss1: 15.1615, Loss2: 6.8984, Loss3: 28.9678\n"
     ]
    },
    {
     "name": "stderr",
     "output_type": "stream",
     "text": [
      "Test_Loader: 100%|██████████| 288/288 [00:03<00:00, 85.17it/s]\n"
     ]
    },
    {
     "name": "stdout",
     "output_type": "stream",
     "text": [
      "Loss1: 14.9790, Loss2: 7.3746, Loss3: 28.6003\n"
     ]
    },
    {
     "name": "stderr",
     "output_type": "stream",
     "text": [
      "Test_Loader: 100%|██████████| 288/288 [00:03<00:00, 81.38it/s]\n"
     ]
    },
    {
     "name": "stdout",
     "output_type": "stream",
     "text": [
      "Loss1: 14.5209, Loss2: 6.6836, Loss3: 27.0727\n"
     ]
    },
    {
     "name": "stderr",
     "output_type": "stream",
     "text": [
      "Test_Loader: 100%|██████████| 288/288 [00:03<00:00, 80.07it/s]\n"
     ]
    },
    {
     "name": "stdout",
     "output_type": "stream",
     "text": [
      "Loss1: 14.7540, Loss2: 7.2505, Loss3: 27.8283\n"
     ]
    },
    {
     "name": "stderr",
     "output_type": "stream",
     "text": [
      "Test_Loader: 100%|██████████| 288/288 [00:03<00:00, 77.76it/s]\n"
     ]
    },
    {
     "name": "stdout",
     "output_type": "stream",
     "text": [
      "Loss1: 14.2417, Loss2: 6.7975, Loss3: 28.4536\n"
     ]
    },
    {
     "name": "stderr",
     "output_type": "stream",
     "text": [
      "Test_Loader: 100%|██████████| 288/288 [00:03<00:00, 85.40it/s]\n"
     ]
    },
    {
     "name": "stdout",
     "output_type": "stream",
     "text": [
      "Loss1: 14.7307, Loss2: 6.7201, Loss3: 29.7637\n"
     ]
    },
    {
     "name": "stderr",
     "output_type": "stream",
     "text": [
      "Test_Loader: 100%|██████████| 288/288 [00:03<00:00, 89.32it/s]\n"
     ]
    },
    {
     "name": "stdout",
     "output_type": "stream",
     "text": [
      "Loss1: 14.6075, Loss2: 7.3217, Loss3: 28.4324\n"
     ]
    },
    {
     "name": "stderr",
     "output_type": "stream",
     "text": [
      "Test_Loader: 100%|██████████| 288/288 [00:03<00:00, 88.68it/s]\n"
     ]
    },
    {
     "name": "stdout",
     "output_type": "stream",
     "text": [
      "Loss1: 15.1660, Loss2: 7.1519, Loss3: 28.7687\n"
     ]
    },
    {
     "name": "stderr",
     "output_type": "stream",
     "text": [
      "Test_Loader: 100%|██████████| 288/288 [00:03<00:00, 84.06it/s]\n"
     ]
    },
    {
     "name": "stdout",
     "output_type": "stream",
     "text": [
      "Loss1: 14.8925, Loss2: 7.0945, Loss3: 27.5793\n"
     ]
    },
    {
     "name": "stderr",
     "output_type": "stream",
     "text": [
      "Test_Loader: 100%|██████████| 288/288 [00:03<00:00, 82.37it/s]\n"
     ]
    },
    {
     "name": "stdout",
     "output_type": "stream",
     "text": [
      "Loss1: 14.8732, Loss2: 6.7840, Loss3: 29.1116\n"
     ]
    },
    {
     "name": "stderr",
     "output_type": "stream",
     "text": [
      "Test_Loader: 100%|██████████| 288/288 [00:03<00:00, 80.50it/s]\n"
     ]
    },
    {
     "name": "stdout",
     "output_type": "stream",
     "text": [
      "Loss1: 14.7180, Loss2: 6.6260, Loss3: 27.5705\n"
     ]
    },
    {
     "name": "stderr",
     "output_type": "stream",
     "text": [
      "Test_Loader: 100%|██████████| 288/288 [00:03<00:00, 74.12it/s]\n"
     ]
    },
    {
     "name": "stdout",
     "output_type": "stream",
     "text": [
      "Loss1: 15.1628, Loss2: 6.6805, Loss3: 30.4271\n"
     ]
    },
    {
     "name": "stderr",
     "output_type": "stream",
     "text": [
      "Test_Loader: 100%|██████████| 288/288 [00:03<00:00, 74.48it/s]\n"
     ]
    },
    {
     "name": "stdout",
     "output_type": "stream",
     "text": [
      "Loss1: 15.7371, Loss2: 7.8118, Loss3: 33.9652\n"
     ]
    },
    {
     "name": "stderr",
     "output_type": "stream",
     "text": [
      "Test_Loader: 100%|██████████| 288/288 [00:03<00:00, 74.88it/s]\n"
     ]
    },
    {
     "name": "stdout",
     "output_type": "stream",
     "text": [
      "Loss1: 15.3144, Loss2: 6.6518, Loss3: 29.6923\n"
     ]
    },
    {
     "name": "stderr",
     "output_type": "stream",
     "text": [
      "Test_Loader: 100%|██████████| 288/288 [00:04<00:00, 69.05it/s]\n"
     ]
    },
    {
     "name": "stdout",
     "output_type": "stream",
     "text": [
      "Loss1: 15.3258, Loss2: 7.3066, Loss3: 26.6424\n"
     ]
    },
    {
     "name": "stderr",
     "output_type": "stream",
     "text": [
      "Test_Loader: 100%|██████████| 288/288 [00:03<00:00, 73.92it/s]\n"
     ]
    },
    {
     "name": "stdout",
     "output_type": "stream",
     "text": [
      "Loss1: 15.0450, Loss2: 7.4999, Loss3: 27.2615\n"
     ]
    },
    {
     "name": "stderr",
     "output_type": "stream",
     "text": [
      "Test_Loader: 100%|██████████| 288/288 [00:03<00:00, 73.88it/s]\n"
     ]
    },
    {
     "name": "stdout",
     "output_type": "stream",
     "text": [
      "Loss1: 15.3904, Loss2: 7.3956, Loss3: 27.7021\n"
     ]
    },
    {
     "name": "stderr",
     "output_type": "stream",
     "text": [
      "Test_Loader: 100%|██████████| 288/288 [00:03<00:00, 81.51it/s]\n"
     ]
    },
    {
     "name": "stdout",
     "output_type": "stream",
     "text": [
      "Loss1: 16.7599, Loss2: 7.9525, Loss3: 28.8739\n"
     ]
    },
    {
     "name": "stderr",
     "output_type": "stream",
     "text": [
      "Test_Loader: 100%|██████████| 288/288 [00:03<00:00, 78.77it/s]\n"
     ]
    },
    {
     "name": "stdout",
     "output_type": "stream",
     "text": [
      "Loss1: 16.5977, Loss2: 7.1765, Loss3: 28.9047\n"
     ]
    },
    {
     "name": "stderr",
     "output_type": "stream",
     "text": [
      "Test_Loader: 100%|██████████| 288/288 [00:03<00:00, 79.10it/s]\n"
     ]
    },
    {
     "name": "stdout",
     "output_type": "stream",
     "text": [
      "Loss1: 16.1006, Loss2: 7.8165, Loss3: 28.5880\n"
     ]
    },
    {
     "name": "stderr",
     "output_type": "stream",
     "text": [
      "Test_Loader: 100%|██████████| 288/288 [00:03<00:00, 75.24it/s]\n"
     ]
    },
    {
     "name": "stdout",
     "output_type": "stream",
     "text": [
      "Loss1: 16.2103, Loss2: 7.2975, Loss3: 28.2877\n"
     ]
    },
    {
     "name": "stderr",
     "output_type": "stream",
     "text": [
      "Test_Loader: 100%|██████████| 288/288 [00:03<00:00, 74.47it/s]\n"
     ]
    },
    {
     "name": "stdout",
     "output_type": "stream",
     "text": [
      "Loss1: 16.2524, Loss2: 7.3830, Loss3: 28.8812\n"
     ]
    },
    {
     "name": "stderr",
     "output_type": "stream",
     "text": [
      "Test_Loader: 100%|██████████| 288/288 [00:03<00:00, 74.45it/s]\n"
     ]
    },
    {
     "name": "stdout",
     "output_type": "stream",
     "text": [
      "Loss1: 15.6611, Loss2: 7.3551, Loss3: 29.2262\n"
     ]
    },
    {
     "name": "stderr",
     "output_type": "stream",
     "text": [
      "Test_Loader: 100%|██████████| 288/288 [00:03<00:00, 80.45it/s]\n"
     ]
    },
    {
     "name": "stdout",
     "output_type": "stream",
     "text": [
      "Loss1: 15.7718, Loss2: 7.5879, Loss3: 28.1882\n"
     ]
    },
    {
     "name": "stderr",
     "output_type": "stream",
     "text": [
      "Test_Loader: 100%|██████████| 288/288 [00:03<00:00, 74.21it/s]\n"
     ]
    },
    {
     "name": "stdout",
     "output_type": "stream",
     "text": [
      "Loss1: 15.2241, Loss2: 7.0911, Loss3: 28.0817\n"
     ]
    },
    {
     "name": "stderr",
     "output_type": "stream",
     "text": [
      "Test_Loader: 100%|██████████| 288/288 [00:04<00:00, 71.51it/s]\n"
     ]
    },
    {
     "name": "stdout",
     "output_type": "stream",
     "text": [
      "Loss1: 16.2088, Loss2: 8.1612, Loss3: 33.4381\n"
     ]
    },
    {
     "name": "stderr",
     "output_type": "stream",
     "text": [
      "Test_Loader: 100%|██████████| 288/288 [00:04<00:00, 69.53it/s]\n"
     ]
    },
    {
     "name": "stdout",
     "output_type": "stream",
     "text": [
      "Loss1: 15.8508, Loss2: 8.2596, Loss3: 34.2423\n"
     ]
    },
    {
     "name": "stderr",
     "output_type": "stream",
     "text": [
      "Test_Loader: 100%|██████████| 288/288 [00:04<00:00, 71.01it/s]\n"
     ]
    },
    {
     "name": "stdout",
     "output_type": "stream",
     "text": [
      "Loss1: 16.4283, Loss2: 7.8904, Loss3: 33.4388\n"
     ]
    },
    {
     "name": "stderr",
     "output_type": "stream",
     "text": [
      "Test_Loader: 100%|██████████| 288/288 [00:04<00:00, 69.40it/s]\n"
     ]
    },
    {
     "name": "stdout",
     "output_type": "stream",
     "text": [
      "Loss1: 15.6870, Loss2: 8.8274, Loss3: 33.6616\n"
     ]
    },
    {
     "name": "stderr",
     "output_type": "stream",
     "text": [
      "Test_Loader: 100%|██████████| 288/288 [00:04<00:00, 68.59it/s]\n"
     ]
    },
    {
     "name": "stdout",
     "output_type": "stream",
     "text": [
      "Loss1: 15.7507, Loss2: 7.8612, Loss3: 31.6581\n"
     ]
    },
    {
     "name": "stderr",
     "output_type": "stream",
     "text": [
      "Test_Loader: 100%|██████████| 288/288 [00:04<00:00, 68.13it/s]\n"
     ]
    },
    {
     "name": "stdout",
     "output_type": "stream",
     "text": [
      "Loss1: 16.0367, Loss2: 8.1668, Loss3: 33.7945\n"
     ]
    },
    {
     "name": "stderr",
     "output_type": "stream",
     "text": [
      "Test_Loader: 100%|██████████| 288/288 [00:04<00:00, 71.84it/s]\n"
     ]
    },
    {
     "name": "stdout",
     "output_type": "stream",
     "text": [
      "Loss1: 15.9552, Loss2: 8.5630, Loss3: 34.2335\n"
     ]
    },
    {
     "name": "stderr",
     "output_type": "stream",
     "text": [
      "Test_Loader: 100%|██████████| 288/288 [00:03<00:00, 80.11it/s]\n"
     ]
    },
    {
     "name": "stdout",
     "output_type": "stream",
     "text": [
      "Loss1: 16.6728, Loss2: 8.0956, Loss3: 32.4989\n"
     ]
    },
    {
     "name": "stderr",
     "output_type": "stream",
     "text": [
      "Test_Loader: 100%|██████████| 288/288 [00:03<00:00, 83.70it/s]\n"
     ]
    },
    {
     "name": "stdout",
     "output_type": "stream",
     "text": [
      "Loss1: 16.5137, Loss2: 8.4077, Loss3: 35.5201\n"
     ]
    },
    {
     "name": "stderr",
     "output_type": "stream",
     "text": [
      "Test_Loader: 100%|██████████| 288/288 [00:03<00:00, 83.45it/s]\n"
     ]
    },
    {
     "name": "stdout",
     "output_type": "stream",
     "text": [
      "Loss1: 16.8112, Loss2: 7.9200, Loss3: 35.0021\n"
     ]
    },
    {
     "name": "stderr",
     "output_type": "stream",
     "text": [
      "Test_Loader: 100%|██████████| 288/288 [00:03<00:00, 82.29it/s]\n"
     ]
    },
    {
     "name": "stdout",
     "output_type": "stream",
     "text": [
      "Loss1: 17.3430, Loss2: 9.0160, Loss3: 38.2866\n"
     ]
    },
    {
     "name": "stderr",
     "output_type": "stream",
     "text": [
      "Test_Loader: 100%|██████████| 288/288 [00:03<00:00, 79.67it/s]\n"
     ]
    },
    {
     "name": "stdout",
     "output_type": "stream",
     "text": [
      "Loss1: 16.8000, Loss2: 7.9282, Loss3: 33.9710\n"
     ]
    },
    {
     "name": "stderr",
     "output_type": "stream",
     "text": [
      "Test_Loader: 100%|██████████| 288/288 [00:03<00:00, 78.42it/s]\n"
     ]
    },
    {
     "name": "stdout",
     "output_type": "stream",
     "text": [
      "Loss1: 18.1406, Loss2: 8.2249, Loss3: 33.6909\n"
     ]
    },
    {
     "name": "stderr",
     "output_type": "stream",
     "text": [
      "Test_Loader: 100%|██████████| 288/288 [00:03<00:00, 76.54it/s]\n"
     ]
    },
    {
     "name": "stdout",
     "output_type": "stream",
     "text": [
      "Loss1: 18.1478, Loss2: 8.0770, Loss3: 34.3764\n"
     ]
    },
    {
     "name": "stderr",
     "output_type": "stream",
     "text": [
      "Test_Loader: 100%|██████████| 288/288 [00:03<00:00, 76.53it/s]\n"
     ]
    },
    {
     "name": "stdout",
     "output_type": "stream",
     "text": [
      "Loss1: 18.0642, Loss2: 8.2910, Loss3: 35.6626\n"
     ]
    },
    {
     "name": "stderr",
     "output_type": "stream",
     "text": [
      "Test_Loader: 100%|██████████| 288/288 [00:03<00:00, 83.16it/s]\n"
     ]
    },
    {
     "name": "stdout",
     "output_type": "stream",
     "text": [
      "Loss1: 17.6614, Loss2: 8.2370, Loss3: 34.1663\n"
     ]
    },
    {
     "name": "stderr",
     "output_type": "stream",
     "text": [
      "Test_Loader: 100%|██████████| 288/288 [00:03<00:00, 84.08it/s]\n"
     ]
    },
    {
     "name": "stdout",
     "output_type": "stream",
     "text": [
      "Loss1: 17.7354, Loss2: 7.7404, Loss3: 34.8102\n"
     ]
    },
    {
     "name": "stderr",
     "output_type": "stream",
     "text": [
      "Test_Loader: 100%|██████████| 288/288 [00:03<00:00, 77.98it/s]\n"
     ]
    },
    {
     "name": "stdout",
     "output_type": "stream",
     "text": [
      "Loss1: 17.8417, Loss2: 8.4570, Loss3: 35.0747\n"
     ]
    },
    {
     "name": "stderr",
     "output_type": "stream",
     "text": [
      "Test_Loader: 100%|██████████| 288/288 [00:03<00:00, 83.26it/s]\n"
     ]
    },
    {
     "name": "stdout",
     "output_type": "stream",
     "text": [
      "Loss1: 17.4012, Loss2: 7.7596, Loss3: 33.0028\n"
     ]
    },
    {
     "name": "stderr",
     "output_type": "stream",
     "text": [
      "Test_Loader: 100%|██████████| 288/288 [00:04<00:00, 70.04it/s]\n"
     ]
    },
    {
     "name": "stdout",
     "output_type": "stream",
     "text": [
      "Loss1: 18.7772, Loss2: 8.3183, Loss3: 40.4406\n"
     ]
    },
    {
     "name": "stderr",
     "output_type": "stream",
     "text": [
      "Test_Loader: 100%|██████████| 288/288 [00:03<00:00, 73.30it/s]\n"
     ]
    },
    {
     "name": "stdout",
     "output_type": "stream",
     "text": [
      "Loss1: 17.5377, Loss2: 7.9333, Loss3: 34.4090\n"
     ]
    },
    {
     "name": "stderr",
     "output_type": "stream",
     "text": [
      "Test_Loader: 100%|██████████| 288/288 [00:03<00:00, 75.86it/s]\n"
     ]
    },
    {
     "name": "stdout",
     "output_type": "stream",
     "text": [
      "Loss1: 18.7060, Loss2: 9.2881, Loss3: 39.1473\n"
     ]
    },
    {
     "name": "stderr",
     "output_type": "stream",
     "text": [
      "Test_Loader: 100%|██████████| 288/288 [00:03<00:00, 72.33it/s]\n"
     ]
    },
    {
     "name": "stdout",
     "output_type": "stream",
     "text": [
      "Loss1: 18.6576, Loss2: 7.9813, Loss3: 35.1795\n"
     ]
    },
    {
     "name": "stderr",
     "output_type": "stream",
     "text": [
      "Test_Loader: 100%|██████████| 288/288 [00:03<00:00, 76.19it/s]\n"
     ]
    },
    {
     "name": "stdout",
     "output_type": "stream",
     "text": [
      "Loss1: 18.1705, Loss2: 8.1335, Loss3: 35.4749\n"
     ]
    },
    {
     "name": "stderr",
     "output_type": "stream",
     "text": [
      "Test_Loader: 100%|██████████| 288/288 [00:03<00:00, 75.61it/s]\n"
     ]
    },
    {
     "name": "stdout",
     "output_type": "stream",
     "text": [
      "Loss1: 18.8058, Loss2: 8.3782, Loss3: 35.8766\n"
     ]
    },
    {
     "name": "stderr",
     "output_type": "stream",
     "text": [
      "Test_Loader: 100%|██████████| 288/288 [00:03<00:00, 74.82it/s]\n"
     ]
    },
    {
     "name": "stdout",
     "output_type": "stream",
     "text": [
      "Loss1: 18.8551, Loss2: 8.3905, Loss3: 40.4541\n"
     ]
    },
    {
     "name": "stderr",
     "output_type": "stream",
     "text": [
      "Test_Loader: 100%|██████████| 288/288 [00:03<00:00, 79.14it/s]\n"
     ]
    },
    {
     "name": "stdout",
     "output_type": "stream",
     "text": [
      "Loss1: 19.4556, Loss2: 8.7027, Loss3: 36.1343\n"
     ]
    },
    {
     "name": "stderr",
     "output_type": "stream",
     "text": [
      "Test_Loader: 100%|██████████| 288/288 [00:03<00:00, 83.39it/s]\n"
     ]
    },
    {
     "name": "stdout",
     "output_type": "stream",
     "text": [
      "Loss1: 19.9727, Loss2: 8.1939, Loss3: 36.6601\n"
     ]
    },
    {
     "name": "stderr",
     "output_type": "stream",
     "text": [
      "Test_Loader: 100%|██████████| 288/288 [00:03<00:00, 83.80it/s]\n"
     ]
    },
    {
     "name": "stdout",
     "output_type": "stream",
     "text": [
      "Loss1: 19.4562, Loss2: 8.8055, Loss3: 36.3709\n"
     ]
    },
    {
     "name": "stderr",
     "output_type": "stream",
     "text": [
      "Test_Loader: 100%|██████████| 288/288 [00:03<00:00, 84.91it/s]\n"
     ]
    },
    {
     "name": "stdout",
     "output_type": "stream",
     "text": [
      "Loss1: 19.9425, Loss2: 8.9427, Loss3: 41.3738\n"
     ]
    },
    {
     "name": "stderr",
     "output_type": "stream",
     "text": [
      "Test_Loader: 100%|██████████| 288/288 [00:03<00:00, 76.32it/s]\n"
     ]
    },
    {
     "name": "stdout",
     "output_type": "stream",
     "text": [
      "Loss1: 19.9749, Loss2: 9.2328, Loss3: 37.6387\n"
     ]
    },
    {
     "name": "stderr",
     "output_type": "stream",
     "text": [
      "Test_Loader: 100%|██████████| 288/288 [00:03<00:00, 77.06it/s]\n"
     ]
    },
    {
     "name": "stdout",
     "output_type": "stream",
     "text": [
      "Loss1: 19.6197, Loss2: 8.5338, Loss3: 35.5867\n"
     ]
    },
    {
     "name": "stderr",
     "output_type": "stream",
     "text": [
      "Test_Loader: 100%|██████████| 288/288 [00:03<00:00, 74.08it/s]\n"
     ]
    },
    {
     "name": "stdout",
     "output_type": "stream",
     "text": [
      "Loss1: 19.3232, Loss2: 8.6821, Loss3: 38.3304\n"
     ]
    },
    {
     "name": "stderr",
     "output_type": "stream",
     "text": [
      "Test_Loader: 100%|██████████| 288/288 [00:04<00:00, 71.98it/s]\n"
     ]
    },
    {
     "name": "stdout",
     "output_type": "stream",
     "text": [
      "Loss1: 19.5343, Loss2: 8.6191, Loss3: 36.9018\n"
     ]
    },
    {
     "name": "stderr",
     "output_type": "stream",
     "text": [
      "Test_Loader: 100%|██████████| 288/288 [00:03<00:00, 72.60it/s]\n"
     ]
    },
    {
     "name": "stdout",
     "output_type": "stream",
     "text": [
      "Loss1: 19.6829, Loss2: 8.7813, Loss3: 37.3230\n"
     ]
    },
    {
     "name": "stderr",
     "output_type": "stream",
     "text": [
      "Test_Loader: 100%|██████████| 288/288 [00:03<00:00, 80.33it/s]\n"
     ]
    },
    {
     "name": "stdout",
     "output_type": "stream",
     "text": [
      "Loss1: 19.5328, Loss2: 8.7890, Loss3: 38.4075\n"
     ]
    },
    {
     "name": "stderr",
     "output_type": "stream",
     "text": [
      "Test_Loader: 100%|██████████| 288/288 [00:03<00:00, 84.63it/s]\n"
     ]
    },
    {
     "name": "stdout",
     "output_type": "stream",
     "text": [
      "Loss1: 19.6486, Loss2: 8.4079, Loss3: 36.2943\n"
     ]
    },
    {
     "name": "stderr",
     "output_type": "stream",
     "text": [
      "Test_Loader: 100%|██████████| 288/288 [00:03<00:00, 84.80it/s]\n"
     ]
    },
    {
     "name": "stdout",
     "output_type": "stream",
     "text": [
      "Loss1: 19.7356, Loss2: 8.4785, Loss3: 37.1776\n"
     ]
    },
    {
     "name": "stderr",
     "output_type": "stream",
     "text": [
      "Test_Loader: 100%|██████████| 288/288 [00:03<00:00, 82.64it/s]\n"
     ]
    },
    {
     "name": "stdout",
     "output_type": "stream",
     "text": [
      "Loss1: 19.9243, Loss2: 8.6466, Loss3: 38.0222\n"
     ]
    },
    {
     "name": "stderr",
     "output_type": "stream",
     "text": [
      "Test_Loader: 100%|██████████| 288/288 [00:03<00:00, 82.59it/s]\n"
     ]
    },
    {
     "name": "stdout",
     "output_type": "stream",
     "text": [
      "Loss1: 19.5718, Loss2: 8.5802, Loss3: 36.2940\n"
     ]
    },
    {
     "name": "stderr",
     "output_type": "stream",
     "text": [
      "Test_Loader: 100%|██████████| 288/288 [00:03<00:00, 83.95it/s]\n"
     ]
    },
    {
     "name": "stdout",
     "output_type": "stream",
     "text": [
      "Loss1: 19.1971, Loss2: 8.3479, Loss3: 36.6595\n"
     ]
    },
    {
     "name": "stderr",
     "output_type": "stream",
     "text": [
      "Test_Loader: 100%|██████████| 288/288 [00:03<00:00, 78.93it/s]\n"
     ]
    },
    {
     "name": "stdout",
     "output_type": "stream",
     "text": [
      "Loss1: 19.6251, Loss2: 8.0798, Loss3: 36.6498\n"
     ]
    },
    {
     "name": "stderr",
     "output_type": "stream",
     "text": [
      "Test_Loader: 100%|██████████| 288/288 [00:03<00:00, 75.53it/s]\n"
     ]
    },
    {
     "name": "stdout",
     "output_type": "stream",
     "text": [
      "Loss1: 19.4665, Loss2: 8.1184, Loss3: 35.7657\n"
     ]
    },
    {
     "name": "stderr",
     "output_type": "stream",
     "text": [
      "Test_Loader: 100%|██████████| 288/288 [00:03<00:00, 77.39it/s]\n"
     ]
    },
    {
     "name": "stdout",
     "output_type": "stream",
     "text": [
      "Loss1: 19.9101, Loss2: 8.0400, Loss3: 37.1536\n"
     ]
    },
    {
     "name": "stderr",
     "output_type": "stream",
     "text": [
      "Test_Loader: 100%|██████████| 288/288 [00:03<00:00, 80.17it/s]\n"
     ]
    },
    {
     "name": "stdout",
     "output_type": "stream",
     "text": [
      "Loss1: 19.7267, Loss2: 8.3635, Loss3: 36.0016\n"
     ]
    },
    {
     "name": "stderr",
     "output_type": "stream",
     "text": [
      "Test_Loader: 100%|██████████| 288/288 [00:03<00:00, 81.06it/s]\n"
     ]
    },
    {
     "name": "stdout",
     "output_type": "stream",
     "text": [
      "Loss1: 19.1981, Loss2: 8.1690, Loss3: 35.5929\n"
     ]
    },
    {
     "name": "stderr",
     "output_type": "stream",
     "text": [
      "Test_Loader: 100%|██████████| 288/288 [00:03<00:00, 79.47it/s]\n"
     ]
    },
    {
     "name": "stdout",
     "output_type": "stream",
     "text": [
      "Loss1: 18.7782, Loss2: 7.4380, Loss3: 33.8947\n"
     ]
    },
    {
     "name": "stderr",
     "output_type": "stream",
     "text": [
      "Test_Loader: 100%|██████████| 288/288 [00:03<00:00, 79.73it/s]\n"
     ]
    },
    {
     "name": "stdout",
     "output_type": "stream",
     "text": [
      "Loss1: 19.0319, Loss2: 7.6988, Loss3: 32.1298\n"
     ]
    },
    {
     "name": "stderr",
     "output_type": "stream",
     "text": [
      "Test_Loader: 100%|██████████| 288/288 [00:03<00:00, 81.47it/s]\n"
     ]
    },
    {
     "name": "stdout",
     "output_type": "stream",
     "text": [
      "Loss1: 19.0873, Loss2: 7.3816, Loss3: 32.6229\n"
     ]
    },
    {
     "name": "stderr",
     "output_type": "stream",
     "text": [
      "Test_Loader: 100%|██████████| 288/288 [00:03<00:00, 84.00it/s]\n"
     ]
    },
    {
     "name": "stdout",
     "output_type": "stream",
     "text": [
      "Loss1: 18.0409, Loss2: 7.0550, Loss3: 31.3498\n"
     ]
    },
    {
     "name": "stderr",
     "output_type": "stream",
     "text": [
      "Test_Loader: 100%|██████████| 288/288 [00:03<00:00, 81.92it/s]\n"
     ]
    },
    {
     "name": "stdout",
     "output_type": "stream",
     "text": [
      "Loss1: 17.5682, Loss2: 7.3479, Loss3: 30.8117\n"
     ]
    },
    {
     "name": "stderr",
     "output_type": "stream",
     "text": [
      "Test_Loader: 100%|██████████| 288/288 [00:03<00:00, 79.43it/s]\n"
     ]
    },
    {
     "name": "stdout",
     "output_type": "stream",
     "text": [
      "Loss1: 17.8814, Loss2: 7.7531, Loss3: 31.5450\n"
     ]
    },
    {
     "name": "stderr",
     "output_type": "stream",
     "text": [
      "Test_Loader: 100%|██████████| 288/288 [00:03<00:00, 78.58it/s]\n"
     ]
    },
    {
     "name": "stdout",
     "output_type": "stream",
     "text": [
      "Loss1: 17.2011, Loss2: 7.0301, Loss3: 31.4851\n"
     ]
    },
    {
     "name": "stderr",
     "output_type": "stream",
     "text": [
      "Test_Loader: 100%|██████████| 288/288 [00:03<00:00, 81.12it/s]\n"
     ]
    },
    {
     "name": "stdout",
     "output_type": "stream",
     "text": [
      "Loss1: 17.2667, Loss2: 7.1984, Loss3: 31.4575\n"
     ]
    },
    {
     "name": "stderr",
     "output_type": "stream",
     "text": [
      "Test_Loader: 100%|██████████| 288/288 [00:03<00:00, 84.36it/s]\n"
     ]
    },
    {
     "name": "stdout",
     "output_type": "stream",
     "text": [
      "Loss1: 16.8630, Loss2: 7.3077, Loss3: 32.0809\n"
     ]
    },
    {
     "name": "stderr",
     "output_type": "stream",
     "text": [
      "Test_Loader: 100%|██████████| 288/288 [00:03<00:00, 83.79it/s]\n"
     ]
    },
    {
     "name": "stdout",
     "output_type": "stream",
     "text": [
      "Loss1: 17.3867, Loss2: 7.1644, Loss3: 31.7387\n"
     ]
    },
    {
     "name": "stderr",
     "output_type": "stream",
     "text": [
      "Test_Loader: 100%|██████████| 288/288 [00:03<00:00, 82.36it/s]\n"
     ]
    },
    {
     "name": "stdout",
     "output_type": "stream",
     "text": [
      "Loss1: 17.1178, Loss2: 6.9920, Loss3: 30.8561\n"
     ]
    },
    {
     "name": "stderr",
     "output_type": "stream",
     "text": [
      "Test_Loader: 100%|██████████| 288/288 [00:03<00:00, 80.29it/s]\n"
     ]
    },
    {
     "name": "stdout",
     "output_type": "stream",
     "text": [
      "Loss1: 16.8974, Loss2: 6.8427, Loss3: 30.1047\n"
     ]
    },
    {
     "name": "stderr",
     "output_type": "stream",
     "text": [
      "Test_Loader: 100%|██████████| 288/288 [00:03<00:00, 78.45it/s]\n"
     ]
    },
    {
     "name": "stdout",
     "output_type": "stream",
     "text": [
      "Loss1: 17.5519, Loss2: 7.3285, Loss3: 31.7169\n"
     ]
    },
    {
     "name": "stderr",
     "output_type": "stream",
     "text": [
      "Test_Loader: 100%|██████████| 288/288 [00:03<00:00, 77.86it/s]\n"
     ]
    },
    {
     "name": "stdout",
     "output_type": "stream",
     "text": [
      "Loss1: 16.2252, Loss2: 7.1445, Loss3: 30.7765\n"
     ]
    },
    {
     "name": "stderr",
     "output_type": "stream",
     "text": [
      "Test_Loader: 100%|██████████| 288/288 [00:03<00:00, 76.03it/s]\n"
     ]
    },
    {
     "name": "stdout",
     "output_type": "stream",
     "text": [
      "Loss1: 16.6188, Loss2: 7.2596, Loss3: 32.0701\n"
     ]
    },
    {
     "name": "stderr",
     "output_type": "stream",
     "text": [
      "Test_Loader: 100%|██████████| 288/288 [00:03<00:00, 74.28it/s]\n"
     ]
    },
    {
     "name": "stdout",
     "output_type": "stream",
     "text": [
      "Loss1: 15.9717, Loss2: 7.3270, Loss3: 29.3954\n"
     ]
    },
    {
     "name": "stderr",
     "output_type": "stream",
     "text": [
      "Test_Loader: 100%|██████████| 288/288 [00:03<00:00, 81.33it/s]\n"
     ]
    },
    {
     "name": "stdout",
     "output_type": "stream",
     "text": [
      "Loss1: 16.3207, Loss2: 6.7713, Loss3: 30.8180\n"
     ]
    },
    {
     "name": "stderr",
     "output_type": "stream",
     "text": [
      "Test_Loader: 100%|██████████| 288/288 [00:03<00:00, 86.10it/s]\n"
     ]
    },
    {
     "name": "stdout",
     "output_type": "stream",
     "text": [
      "Loss1: 16.1372, Loss2: 6.6765, Loss3: 28.0835\n"
     ]
    },
    {
     "name": "stderr",
     "output_type": "stream",
     "text": [
      "Test_Loader: 100%|██████████| 288/288 [00:03<00:00, 84.46it/s]\n"
     ]
    },
    {
     "name": "stdout",
     "output_type": "stream",
     "text": [
      "Loss1: 15.5119, Loss2: 6.5911, Loss3: 27.9242\n"
     ]
    },
    {
     "name": "stderr",
     "output_type": "stream",
     "text": [
      "Test_Loader: 100%|██████████| 288/288 [00:03<00:00, 74.61it/s]\n"
     ]
    },
    {
     "name": "stdout",
     "output_type": "stream",
     "text": [
      "Loss1: 14.8670, Loss2: 6.5432, Loss3: 27.2783\n"
     ]
    },
    {
     "name": "stderr",
     "output_type": "stream",
     "text": [
      "Test_Loader: 100%|██████████| 288/288 [00:03<00:00, 72.51it/s]\n"
     ]
    },
    {
     "name": "stdout",
     "output_type": "stream",
     "text": [
      "Loss1: 15.5072, Loss2: 6.1124, Loss3: 27.0833\n"
     ]
    },
    {
     "name": "stderr",
     "output_type": "stream",
     "text": [
      "Test_Loader: 100%|██████████| 288/288 [00:03<00:00, 72.68it/s]\n"
     ]
    },
    {
     "name": "stdout",
     "output_type": "stream",
     "text": [
      "Loss1: 15.7877, Loss2: 6.6874, Loss3: 27.7327\n"
     ]
    },
    {
     "name": "stderr",
     "output_type": "stream",
     "text": [
      "Test_Loader: 100%|██████████| 288/288 [00:03<00:00, 86.67it/s]\n"
     ]
    },
    {
     "name": "stdout",
     "output_type": "stream",
     "text": [
      "Loss1: 16.3030, Loss2: 6.4494, Loss3: 27.7564\n"
     ]
    },
    {
     "name": "stderr",
     "output_type": "stream",
     "text": [
      "Test_Loader: 100%|██████████| 288/288 [00:03<00:00, 85.33it/s]\n"
     ]
    },
    {
     "name": "stdout",
     "output_type": "stream",
     "text": [
      "Loss1: 15.7022, Loss2: 6.4861, Loss3: 28.8336\n"
     ]
    },
    {
     "name": "stderr",
     "output_type": "stream",
     "text": [
      "Test_Loader: 100%|██████████| 288/288 [00:03<00:00, 85.36it/s]\n"
     ]
    },
    {
     "name": "stdout",
     "output_type": "stream",
     "text": [
      "Loss1: 15.8893, Loss2: 5.8813, Loss3: 27.3113\n"
     ]
    },
    {
     "name": "stderr",
     "output_type": "stream",
     "text": [
      "Test_Loader: 100%|██████████| 288/288 [00:03<00:00, 81.96it/s]\n"
     ]
    },
    {
     "name": "stdout",
     "output_type": "stream",
     "text": [
      "Loss1: 15.9619, Loss2: 6.1521, Loss3: 27.6770\n"
     ]
    },
    {
     "name": "stderr",
     "output_type": "stream",
     "text": [
      "Test_Loader: 100%|██████████| 288/288 [00:03<00:00, 83.00it/s]\n"
     ]
    },
    {
     "name": "stdout",
     "output_type": "stream",
     "text": [
      "Loss1: 15.4912, Loss2: 5.9966, Loss3: 25.8460\n"
     ]
    },
    {
     "name": "stderr",
     "output_type": "stream",
     "text": [
      "Test_Loader: 100%|██████████| 288/288 [00:03<00:00, 82.49it/s]\n"
     ]
    },
    {
     "name": "stdout",
     "output_type": "stream",
     "text": [
      "Loss1: 14.8098, Loss2: 5.9384, Loss3: 27.1807\n"
     ]
    },
    {
     "name": "stderr",
     "output_type": "stream",
     "text": [
      "Test_Loader: 100%|██████████| 288/288 [00:03<00:00, 81.18it/s]\n"
     ]
    },
    {
     "name": "stdout",
     "output_type": "stream",
     "text": [
      "Loss1: 15.4049, Loss2: 5.9186, Loss3: 25.0337\n"
     ]
    },
    {
     "name": "stderr",
     "output_type": "stream",
     "text": [
      "Test_Loader: 100%|██████████| 288/288 [00:03<00:00, 78.74it/s]\n"
     ]
    },
    {
     "name": "stdout",
     "output_type": "stream",
     "text": [
      "Loss1: 16.4303, Loss2: 6.8541, Loss3: 29.6158\n"
     ]
    },
    {
     "name": "stderr",
     "output_type": "stream",
     "text": [
      "Test_Loader: 100%|██████████| 288/288 [00:03<00:00, 76.56it/s]\n"
     ]
    },
    {
     "name": "stdout",
     "output_type": "stream",
     "text": [
      "Loss1: 15.4172, Loss2: 6.2503, Loss3: 26.6530\n"
     ]
    },
    {
     "name": "stderr",
     "output_type": "stream",
     "text": [
      "Test_Loader: 100%|██████████| 288/288 [00:03<00:00, 77.71it/s]\n"
     ]
    },
    {
     "name": "stdout",
     "output_type": "stream",
     "text": [
      "Loss1: 15.4155, Loss2: 5.7930, Loss3: 28.0974\n"
     ]
    },
    {
     "name": "stderr",
     "output_type": "stream",
     "text": [
      "Test_Loader: 100%|██████████| 288/288 [00:03<00:00, 79.54it/s]\n"
     ]
    },
    {
     "name": "stdout",
     "output_type": "stream",
     "text": [
      "Loss1: 15.4538, Loss2: 6.1663, Loss3: 25.8154\n"
     ]
    },
    {
     "name": "stderr",
     "output_type": "stream",
     "text": [
      "Test_Loader: 100%|██████████| 288/288 [00:03<00:00, 84.15it/s]\n"
     ]
    },
    {
     "name": "stdout",
     "output_type": "stream",
     "text": [
      "Loss1: 15.1411, Loss2: 6.1244, Loss3: 28.5025\n"
     ]
    },
    {
     "name": "stderr",
     "output_type": "stream",
     "text": [
      "Test_Loader: 100%|██████████| 288/288 [00:03<00:00, 87.19it/s]\n"
     ]
    },
    {
     "name": "stdout",
     "output_type": "stream",
     "text": [
      "Loss1: 14.8464, Loss2: 5.9975, Loss3: 26.7749\n"
     ]
    },
    {
     "name": "stderr",
     "output_type": "stream",
     "text": [
      "Test_Loader: 100%|██████████| 288/288 [00:03<00:00, 85.31it/s]\n"
     ]
    },
    {
     "name": "stdout",
     "output_type": "stream",
     "text": [
      "Loss1: 14.8108, Loss2: 6.2827, Loss3: 25.0360\n"
     ]
    },
    {
     "name": "stderr",
     "output_type": "stream",
     "text": [
      "Test_Loader: 100%|██████████| 288/288 [00:03<00:00, 82.92it/s]\n"
     ]
    },
    {
     "name": "stdout",
     "output_type": "stream",
     "text": [
      "Loss1: 15.1101, Loss2: 6.0148, Loss3: 26.0524\n"
     ]
    },
    {
     "name": "stderr",
     "output_type": "stream",
     "text": [
      "Test_Loader: 100%|██████████| 288/288 [00:03<00:00, 77.06it/s]\n"
     ]
    },
    {
     "name": "stdout",
     "output_type": "stream",
     "text": [
      "Loss1: 14.9021, Loss2: 6.0340, Loss3: 25.2542\n"
     ]
    },
    {
     "name": "stderr",
     "output_type": "stream",
     "text": [
      "Test_Loader: 100%|██████████| 288/288 [00:03<00:00, 76.66it/s]\n"
     ]
    },
    {
     "name": "stdout",
     "output_type": "stream",
     "text": [
      "Loss1: 14.4251, Loss2: 5.7442, Loss3: 25.5500\n"
     ]
    },
    {
     "name": "stderr",
     "output_type": "stream",
     "text": [
      "Test_Loader: 100%|██████████| 288/288 [00:03<00:00, 80.95it/s]\n"
     ]
    },
    {
     "name": "stdout",
     "output_type": "stream",
     "text": [
      "Loss1: 14.4945, Loss2: 6.4684, Loss3: 29.0990\n"
     ]
    },
    {
     "name": "stderr",
     "output_type": "stream",
     "text": [
      "Test_Loader: 100%|██████████| 288/288 [00:03<00:00, 82.78it/s]\n"
     ]
    },
    {
     "name": "stdout",
     "output_type": "stream",
     "text": [
      "Loss1: 14.6766, Loss2: 5.9007, Loss3: 26.2400\n"
     ]
    },
    {
     "name": "stderr",
     "output_type": "stream",
     "text": [
      "Test_Loader: 100%|██████████| 288/288 [00:03<00:00, 84.19it/s]\n"
     ]
    },
    {
     "name": "stdout",
     "output_type": "stream",
     "text": [
      "Loss1: 14.3926, Loss2: 5.5697, Loss3: 26.0950\n"
     ]
    },
    {
     "name": "stderr",
     "output_type": "stream",
     "text": [
      "Test_Loader: 100%|██████████| 288/288 [00:03<00:00, 80.67it/s]\n"
     ]
    },
    {
     "name": "stdout",
     "output_type": "stream",
     "text": [
      "Loss1: 13.5876, Loss2: 5.6205, Loss3: 24.9215\n"
     ]
    },
    {
     "name": "stderr",
     "output_type": "stream",
     "text": [
      "Test_Loader: 100%|██████████| 288/288 [00:03<00:00, 78.43it/s]\n"
     ]
    },
    {
     "name": "stdout",
     "output_type": "stream",
     "text": [
      "Loss1: 14.0339, Loss2: 5.7237, Loss3: 26.2845\n"
     ]
    },
    {
     "name": "stderr",
     "output_type": "stream",
     "text": [
      "Test_Loader: 100%|██████████| 288/288 [00:03<00:00, 78.76it/s]\n"
     ]
    },
    {
     "name": "stdout",
     "output_type": "stream",
     "text": [
      "Loss1: 14.6853, Loss2: 6.5236, Loss3: 27.3246\n"
     ]
    },
    {
     "name": "stderr",
     "output_type": "stream",
     "text": [
      "Test_Loader: 100%|██████████| 288/288 [00:03<00:00, 80.16it/s]\n"
     ]
    },
    {
     "name": "stdout",
     "output_type": "stream",
     "text": [
      "Loss1: 14.8594, Loss2: 6.2028, Loss3: 30.5342\n"
     ]
    },
    {
     "name": "stderr",
     "output_type": "stream",
     "text": [
      "Test_Loader: 100%|██████████| 288/288 [00:03<00:00, 81.10it/s]\n"
     ]
    },
    {
     "name": "stdout",
     "output_type": "stream",
     "text": [
      "Loss1: 14.9129, Loss2: 6.3807, Loss3: 28.6112\n"
     ]
    },
    {
     "name": "stderr",
     "output_type": "stream",
     "text": [
      "Test_Loader: 100%|██████████| 288/288 [00:03<00:00, 79.62it/s]\n"
     ]
    },
    {
     "name": "stdout",
     "output_type": "stream",
     "text": [
      "Loss1: 14.4292, Loss2: 6.1856, Loss3: 28.7646\n"
     ]
    },
    {
     "name": "stderr",
     "output_type": "stream",
     "text": [
      "Test_Loader: 100%|██████████| 288/288 [00:03<00:00, 81.47it/s]\n"
     ]
    },
    {
     "name": "stdout",
     "output_type": "stream",
     "text": [
      "Loss1: 14.4839, Loss2: 6.1086, Loss3: 27.5738\n"
     ]
    },
    {
     "name": "stderr",
     "output_type": "stream",
     "text": [
      "Test_Loader: 100%|██████████| 288/288 [00:03<00:00, 80.72it/s]\n"
     ]
    },
    {
     "name": "stdout",
     "output_type": "stream",
     "text": [
      "Loss1: 15.5272, Loss2: 6.7292, Loss3: 30.7798\n"
     ]
    },
    {
     "name": "stderr",
     "output_type": "stream",
     "text": [
      "Test_Loader: 100%|██████████| 288/288 [00:03<00:00, 82.22it/s]\n"
     ]
    },
    {
     "name": "stdout",
     "output_type": "stream",
     "text": [
      "Loss1: 14.9013, Loss2: 5.4942, Loss3: 26.3192\n"
     ]
    },
    {
     "name": "stderr",
     "output_type": "stream",
     "text": [
      "Test_Loader: 100%|██████████| 288/288 [00:03<00:00, 87.34it/s]\n"
     ]
    },
    {
     "name": "stdout",
     "output_type": "stream",
     "text": [
      "Loss1: 14.7956, Loss2: 5.6886, Loss3: 25.7435\n"
     ]
    },
    {
     "name": "stderr",
     "output_type": "stream",
     "text": [
      "Test_Loader: 100%|██████████| 288/288 [00:03<00:00, 78.23it/s]\n"
     ]
    },
    {
     "name": "stdout",
     "output_type": "stream",
     "text": [
      "Loss1: 15.0753, Loss2: 5.3705, Loss3: 26.9079\n"
     ]
    },
    {
     "name": "stderr",
     "output_type": "stream",
     "text": [
      "Test_Loader: 100%|██████████| 288/288 [00:04<00:00, 71.55it/s]\n"
     ]
    },
    {
     "name": "stdout",
     "output_type": "stream",
     "text": [
      "Loss1: 14.9569, Loss2: 5.6218, Loss3: 25.1033\n"
     ]
    },
    {
     "name": "stderr",
     "output_type": "stream",
     "text": [
      "Test_Loader: 100%|██████████| 288/288 [00:04<00:00, 66.88it/s]\n"
     ]
    },
    {
     "name": "stdout",
     "output_type": "stream",
     "text": [
      "Loss1: 15.2165, Loss2: 5.2595, Loss3: 25.5686\n"
     ]
    },
    {
     "name": "stderr",
     "output_type": "stream",
     "text": [
      "Test_Loader: 100%|██████████| 288/288 [00:04<00:00, 67.80it/s]\n"
     ]
    },
    {
     "name": "stdout",
     "output_type": "stream",
     "text": [
      "Loss1: 15.1479, Loss2: 5.4577, Loss3: 24.9799\n"
     ]
    },
    {
     "name": "stderr",
     "output_type": "stream",
     "text": [
      "Test_Loader: 100%|██████████| 288/288 [00:04<00:00, 66.39it/s]\n"
     ]
    },
    {
     "name": "stdout",
     "output_type": "stream",
     "text": [
      "Loss1: 14.3744, Loss2: 5.4864, Loss3: 24.1644\n"
     ]
    },
    {
     "name": "stderr",
     "output_type": "stream",
     "text": [
      "Test_Loader: 100%|██████████| 288/288 [00:04<00:00, 68.75it/s]\n"
     ]
    },
    {
     "name": "stdout",
     "output_type": "stream",
     "text": [
      "Loss1: 14.9923, Loss2: 5.3229, Loss3: 24.9845\n"
     ]
    },
    {
     "name": "stderr",
     "output_type": "stream",
     "text": [
      "Test_Loader: 100%|██████████| 288/288 [00:04<00:00, 70.80it/s]\n"
     ]
    },
    {
     "name": "stdout",
     "output_type": "stream",
     "text": [
      "Loss1: 15.2593, Loss2: 5.3497, Loss3: 24.8720\n"
     ]
    },
    {
     "name": "stderr",
     "output_type": "stream",
     "text": [
      "Test_Loader: 100%|██████████| 288/288 [00:04<00:00, 71.02it/s]\n"
     ]
    },
    {
     "name": "stdout",
     "output_type": "stream",
     "text": [
      "Loss1: 15.7781, Loss2: 5.6004, Loss3: 26.9593\n"
     ]
    },
    {
     "name": "stderr",
     "output_type": "stream",
     "text": [
      "Test_Loader: 100%|██████████| 288/288 [00:03<00:00, 79.25it/s]\n"
     ]
    },
    {
     "name": "stdout",
     "output_type": "stream",
     "text": [
      "Loss1: 16.5808, Loss2: 5.8774, Loss3: 26.0151\n"
     ]
    },
    {
     "name": "stderr",
     "output_type": "stream",
     "text": [
      "Test_Loader: 100%|██████████| 288/288 [00:03<00:00, 81.66it/s]\n"
     ]
    },
    {
     "name": "stdout",
     "output_type": "stream",
     "text": [
      "Loss1: 15.1578, Loss2: 6.0101, Loss3: 26.8223\n"
     ]
    },
    {
     "name": "stderr",
     "output_type": "stream",
     "text": [
      "Test_Loader: 100%|██████████| 288/288 [00:03<00:00, 85.99it/s]\n"
     ]
    },
    {
     "name": "stdout",
     "output_type": "stream",
     "text": [
      "Loss1: 14.7598, Loss2: 5.9331, Loss3: 28.4156\n"
     ]
    },
    {
     "name": "stderr",
     "output_type": "stream",
     "text": [
      "Test_Loader: 100%|██████████| 288/288 [00:03<00:00, 82.62it/s]\n"
     ]
    },
    {
     "name": "stdout",
     "output_type": "stream",
     "text": [
      "Loss1: 15.1883, Loss2: 5.4689, Loss3: 29.0231\n"
     ]
    },
    {
     "name": "stderr",
     "output_type": "stream",
     "text": [
      "Test_Loader: 100%|██████████| 288/288 [00:03<00:00, 82.71it/s]\n"
     ]
    },
    {
     "name": "stdout",
     "output_type": "stream",
     "text": [
      "Loss1: 14.5688, Loss2: 5.4176, Loss3: 26.7169\n"
     ]
    },
    {
     "name": "stderr",
     "output_type": "stream",
     "text": [
      "Test_Loader: 100%|██████████| 288/288 [00:03<00:00, 77.76it/s]\n"
     ]
    },
    {
     "name": "stdout",
     "output_type": "stream",
     "text": [
      "Loss1: 14.5212, Loss2: 5.3891, Loss3: 24.8446\n"
     ]
    },
    {
     "name": "stderr",
     "output_type": "stream",
     "text": [
      "Test_Loader: 100%|██████████| 288/288 [00:03<00:00, 76.35it/s]\n"
     ]
    },
    {
     "name": "stdout",
     "output_type": "stream",
     "text": [
      "Loss1: 14.8975, Loss2: 5.5263, Loss3: 25.2539\n"
     ]
    },
    {
     "name": "stderr",
     "output_type": "stream",
     "text": [
      "Test_Loader: 100%|██████████| 288/288 [00:03<00:00, 73.53it/s]\n"
     ]
    },
    {
     "name": "stdout",
     "output_type": "stream",
     "text": [
      "Loss1: 14.5357, Loss2: 5.3232, Loss3: 24.9636\n"
     ]
    },
    {
     "name": "stderr",
     "output_type": "stream",
     "text": [
      "Test_Loader: 100%|██████████| 288/288 [00:03<00:00, 80.58it/s]\n"
     ]
    },
    {
     "name": "stdout",
     "output_type": "stream",
     "text": [
      "Loss1: 14.8724, Loss2: 5.1159, Loss3: 24.2100\n"
     ]
    },
    {
     "name": "stderr",
     "output_type": "stream",
     "text": [
      "Test_Loader: 100%|██████████| 288/288 [00:03<00:00, 72.76it/s]\n"
     ]
    },
    {
     "name": "stdout",
     "output_type": "stream",
     "text": [
      "Loss1: 14.6024, Loss2: 5.5996, Loss3: 25.9489\n"
     ]
    },
    {
     "name": "stderr",
     "output_type": "stream",
     "text": [
      "Test_Loader: 100%|██████████| 288/288 [00:03<00:00, 82.93it/s]\n"
     ]
    },
    {
     "name": "stdout",
     "output_type": "stream",
     "text": [
      "Loss1: 14.7628, Loss2: 5.2748, Loss3: 24.5467\n"
     ]
    },
    {
     "name": "stderr",
     "output_type": "stream",
     "text": [
      "Test_Loader: 100%|██████████| 288/288 [00:03<00:00, 75.25it/s]\n"
     ]
    },
    {
     "name": "stdout",
     "output_type": "stream",
     "text": [
      "Loss1: 14.4941, Loss2: 5.3017, Loss3: 23.7356\n"
     ]
    },
    {
     "name": "stderr",
     "output_type": "stream",
     "text": [
      "Test_Loader: 100%|██████████| 288/288 [00:04<00:00, 71.84it/s]\n"
     ]
    },
    {
     "name": "stdout",
     "output_type": "stream",
     "text": [
      "Loss1: 14.4191, Loss2: 5.0974, Loss3: 24.4799\n"
     ]
    },
    {
     "name": "stderr",
     "output_type": "stream",
     "text": [
      "Test_Loader: 100%|██████████| 288/288 [00:03<00:00, 76.53it/s]\n"
     ]
    },
    {
     "name": "stdout",
     "output_type": "stream",
     "text": [
      "Loss1: 15.5890, Loss2: 5.2880, Loss3: 25.6262\n"
     ]
    },
    {
     "name": "stderr",
     "output_type": "stream",
     "text": [
      "Test_Loader: 100%|██████████| 288/288 [00:03<00:00, 79.46it/s]\n"
     ]
    },
    {
     "name": "stdout",
     "output_type": "stream",
     "text": [
      "Loss1: 13.8536, Loss2: 5.0680, Loss3: 24.1419\n"
     ]
    },
    {
     "name": "stderr",
     "output_type": "stream",
     "text": [
      "Test_Loader: 100%|██████████| 288/288 [00:03<00:00, 78.35it/s]\n"
     ]
    },
    {
     "name": "stdout",
     "output_type": "stream",
     "text": [
      "Loss1: 13.7125, Loss2: 5.1533, Loss3: 24.0029\n"
     ]
    },
    {
     "name": "stderr",
     "output_type": "stream",
     "text": [
      "Test_Loader: 100%|██████████| 288/288 [00:03<00:00, 79.36it/s]\n"
     ]
    },
    {
     "name": "stdout",
     "output_type": "stream",
     "text": [
      "Loss1: 15.6243, Loss2: 5.0310, Loss3: 23.2712\n"
     ]
    },
    {
     "name": "stderr",
     "output_type": "stream",
     "text": [
      "Test_Loader: 100%|██████████| 288/288 [00:03<00:00, 74.59it/s]\n"
     ]
    },
    {
     "name": "stdout",
     "output_type": "stream",
     "text": [
      "Loss1: 13.8659, Loss2: 4.9944, Loss3: 22.8768\n"
     ]
    },
    {
     "name": "stderr",
     "output_type": "stream",
     "text": [
      "Test_Loader: 100%|██████████| 288/288 [00:03<00:00, 77.42it/s]\n"
     ]
    },
    {
     "name": "stdout",
     "output_type": "stream",
     "text": [
      "Loss1: 14.3342, Loss2: 5.0189, Loss3: 22.8221\n"
     ]
    },
    {
     "name": "stderr",
     "output_type": "stream",
     "text": [
      "Test_Loader: 100%|██████████| 288/288 [00:03<00:00, 75.06it/s]\n"
     ]
    },
    {
     "name": "stdout",
     "output_type": "stream",
     "text": [
      "Loss1: 13.9591, Loss2: 4.9727, Loss3: 23.9601\n"
     ]
    },
    {
     "name": "stderr",
     "output_type": "stream",
     "text": [
      "Test_Loader: 100%|██████████| 288/288 [00:03<00:00, 82.85it/s]\n"
     ]
    },
    {
     "name": "stdout",
     "output_type": "stream",
     "text": [
      "Loss1: 14.6340, Loss2: 4.9975, Loss3: 23.2836\n"
     ]
    },
    {
     "name": "stderr",
     "output_type": "stream",
     "text": [
      "Test_Loader: 100%|██████████| 288/288 [00:03<00:00, 81.84it/s]\n"
     ]
    },
    {
     "name": "stdout",
     "output_type": "stream",
     "text": [
      "Loss1: 14.3725, Loss2: 5.0746, Loss3: 22.0597\n"
     ]
    },
    {
     "name": "stderr",
     "output_type": "stream",
     "text": [
      "Test_Loader: 100%|██████████| 288/288 [00:03<00:00, 81.24it/s]\n"
     ]
    },
    {
     "name": "stdout",
     "output_type": "stream",
     "text": [
      "Loss1: 14.4521, Loss2: 4.8959, Loss3: 23.4982\n"
     ]
    },
    {
     "name": "stderr",
     "output_type": "stream",
     "text": [
      "Test_Loader: 100%|██████████| 288/288 [00:03<00:00, 76.27it/s]\n"
     ]
    },
    {
     "name": "stdout",
     "output_type": "stream",
     "text": [
      "Loss1: 13.8487, Loss2: 4.8643, Loss3: 22.6052\n"
     ]
    },
    {
     "name": "stderr",
     "output_type": "stream",
     "text": [
      "Test_Loader: 100%|██████████| 288/288 [00:03<00:00, 77.42it/s]\n"
     ]
    },
    {
     "name": "stdout",
     "output_type": "stream",
     "text": [
      "Loss1: 14.3589, Loss2: 5.0368, Loss3: 23.2656\n"
     ]
    },
    {
     "name": "stderr",
     "output_type": "stream",
     "text": [
      "Test_Loader: 100%|██████████| 288/288 [00:03<00:00, 78.98it/s]\n"
     ]
    },
    {
     "name": "stdout",
     "output_type": "stream",
     "text": [
      "Loss1: 14.7817, Loss2: 5.0287, Loss3: 22.6951\n"
     ]
    },
    {
     "name": "stderr",
     "output_type": "stream",
     "text": [
      "Test_Loader: 100%|██████████| 288/288 [00:03<00:00, 75.85it/s]\n"
     ]
    },
    {
     "name": "stdout",
     "output_type": "stream",
     "text": [
      "Loss1: 14.7555, Loss2: 5.0264, Loss3: 23.6140\n"
     ]
    },
    {
     "name": "stderr",
     "output_type": "stream",
     "text": [
      "Test_Loader: 100%|██████████| 288/288 [00:03<00:00, 78.03it/s]\n"
     ]
    },
    {
     "name": "stdout",
     "output_type": "stream",
     "text": [
      "Loss1: 14.3075, Loss2: 5.0414, Loss3: 24.0069\n"
     ]
    },
    {
     "name": "stderr",
     "output_type": "stream",
     "text": [
      "Test_Loader: 100%|██████████| 288/288 [00:03<00:00, 80.45it/s]\n"
     ]
    },
    {
     "name": "stdout",
     "output_type": "stream",
     "text": [
      "Loss1: 14.6278, Loss2: 5.0063, Loss3: 23.4838\n"
     ]
    },
    {
     "name": "stderr",
     "output_type": "stream",
     "text": [
      "Test_Loader: 100%|██████████| 288/288 [00:03<00:00, 81.40it/s]\n"
     ]
    },
    {
     "name": "stdout",
     "output_type": "stream",
     "text": [
      "Loss1: 14.2543, Loss2: 5.0655, Loss3: 23.6718\n"
     ]
    },
    {
     "name": "stderr",
     "output_type": "stream",
     "text": [
      "Test_Loader: 100%|██████████| 288/288 [00:03<00:00, 79.49it/s]\n"
     ]
    },
    {
     "name": "stdout",
     "output_type": "stream",
     "text": [
      "Loss1: 14.5468, Loss2: 5.1507, Loss3: 24.2246\n"
     ]
    },
    {
     "name": "stderr",
     "output_type": "stream",
     "text": [
      "Test_Loader: 100%|██████████| 288/288 [00:03<00:00, 80.09it/s]\n"
     ]
    },
    {
     "name": "stdout",
     "output_type": "stream",
     "text": [
      "Loss1: 15.1835, Loss2: 4.9220, Loss3: 24.1425\n"
     ]
    },
    {
     "name": "stderr",
     "output_type": "stream",
     "text": [
      "Test_Loader: 100%|██████████| 288/288 [00:03<00:00, 75.00it/s]\n"
     ]
    },
    {
     "name": "stdout",
     "output_type": "stream",
     "text": [
      "Loss1: 14.2384, Loss2: 5.2615, Loss3: 24.0328\n"
     ]
    },
    {
     "name": "stderr",
     "output_type": "stream",
     "text": [
      "Test_Loader: 100%|██████████| 288/288 [00:03<00:00, 74.89it/s]\n"
     ]
    },
    {
     "name": "stdout",
     "output_type": "stream",
     "text": [
      "Loss1: 14.8911, Loss2: 5.0348, Loss3: 23.6055\n"
     ]
    },
    {
     "name": "stderr",
     "output_type": "stream",
     "text": [
      "Test_Loader: 100%|██████████| 288/288 [00:03<00:00, 73.23it/s]\n"
     ]
    },
    {
     "name": "stdout",
     "output_type": "stream",
     "text": [
      "Loss1: 14.9294, Loss2: 5.0827, Loss3: 24.8410\n"
     ]
    },
    {
     "name": "stderr",
     "output_type": "stream",
     "text": [
      "Test_Loader: 100%|██████████| 288/288 [00:03<00:00, 80.84it/s]\n"
     ]
    },
    {
     "name": "stdout",
     "output_type": "stream",
     "text": [
      "Loss1: 14.7017, Loss2: 4.9401, Loss3: 24.5138\n"
     ]
    },
    {
     "name": "stderr",
     "output_type": "stream",
     "text": [
      "Test_Loader: 100%|██████████| 288/288 [00:03<00:00, 80.79it/s]\n"
     ]
    },
    {
     "name": "stdout",
     "output_type": "stream",
     "text": [
      "Loss1: 14.9939, Loss2: 5.4160, Loss3: 24.5584\n"
     ]
    },
    {
     "name": "stderr",
     "output_type": "stream",
     "text": [
      "Test_Loader: 100%|██████████| 288/288 [00:03<00:00, 80.91it/s]\n"
     ]
    },
    {
     "name": "stdout",
     "output_type": "stream",
     "text": [
      "Loss1: 15.0962, Loss2: 5.2135, Loss3: 24.1828\n"
     ]
    },
    {
     "name": "stderr",
     "output_type": "stream",
     "text": [
      "Test_Loader: 100%|██████████| 288/288 [00:03<00:00, 81.75it/s]\n"
     ]
    },
    {
     "name": "stdout",
     "output_type": "stream",
     "text": [
      "Loss1: 14.9326, Loss2: 5.1273, Loss3: 23.9546\n"
     ]
    },
    {
     "name": "stderr",
     "output_type": "stream",
     "text": [
      "Test_Loader: 100%|██████████| 288/288 [00:03<00:00, 83.20it/s]\n"
     ]
    },
    {
     "name": "stdout",
     "output_type": "stream",
     "text": [
      "Loss1: 14.7364, Loss2: 5.2052, Loss3: 24.3921\n"
     ]
    },
    {
     "name": "stderr",
     "output_type": "stream",
     "text": [
      "Test_Loader: 100%|██████████| 288/288 [00:03<00:00, 81.33it/s]\n"
     ]
    },
    {
     "name": "stdout",
     "output_type": "stream",
     "text": [
      "Loss1: 16.5418, Loss2: 5.2644, Loss3: 24.6819\n"
     ]
    },
    {
     "name": "stderr",
     "output_type": "stream",
     "text": [
      "Test_Loader: 100%|██████████| 288/288 [00:03<00:00, 75.46it/s]\n"
     ]
    },
    {
     "name": "stdout",
     "output_type": "stream",
     "text": [
      "Loss1: 15.0482, Loss2: 5.4084, Loss3: 24.1101\n"
     ]
    },
    {
     "name": "stderr",
     "output_type": "stream",
     "text": [
      "Test_Loader: 100%|██████████| 288/288 [00:03<00:00, 75.75it/s]\n"
     ]
    },
    {
     "name": "stdout",
     "output_type": "stream",
     "text": [
      "Loss1: 15.6822, Loss2: 5.5692, Loss3: 24.5415\n"
     ]
    },
    {
     "name": "stderr",
     "output_type": "stream",
     "text": [
      "Test_Loader: 100%|██████████| 288/288 [00:03<00:00, 76.68it/s]\n"
     ]
    },
    {
     "name": "stdout",
     "output_type": "stream",
     "text": [
      "Loss1: 16.4874, Loss2: 5.4786, Loss3: 24.9505\n"
     ]
    },
    {
     "name": "stderr",
     "output_type": "stream",
     "text": [
      "Test_Loader: 100%|██████████| 288/288 [00:03<00:00, 77.72it/s]\n"
     ]
    },
    {
     "name": "stdout",
     "output_type": "stream",
     "text": [
      "Loss1: 15.6987, Loss2: 5.3563, Loss3: 23.6136\n"
     ]
    },
    {
     "name": "stderr",
     "output_type": "stream",
     "text": [
      "Test_Loader: 100%|██████████| 288/288 [00:03<00:00, 80.08it/s]\n"
     ]
    },
    {
     "name": "stdout",
     "output_type": "stream",
     "text": [
      "Loss1: 16.8885, Loss2: 5.4367, Loss3: 24.3372\n"
     ]
    },
    {
     "name": "stderr",
     "output_type": "stream",
     "text": [
      "Test_Loader: 100%|██████████| 288/288 [00:03<00:00, 85.51it/s]\n"
     ]
    },
    {
     "name": "stdout",
     "output_type": "stream",
     "text": [
      "Loss1: 15.1051, Loss2: 5.2849, Loss3: 23.0251\n"
     ]
    },
    {
     "name": "stderr",
     "output_type": "stream",
     "text": [
      "Test_Loader: 100%|██████████| 288/288 [00:03<00:00, 80.75it/s]\n"
     ]
    },
    {
     "name": "stdout",
     "output_type": "stream",
     "text": [
      "Loss1: 14.9124, Loss2: 5.3863, Loss3: 23.6130\n"
     ]
    },
    {
     "name": "stderr",
     "output_type": "stream",
     "text": [
      "Test_Loader: 100%|██████████| 288/288 [00:03<00:00, 80.63it/s]\n"
     ]
    },
    {
     "name": "stdout",
     "output_type": "stream",
     "text": [
      "Loss1: 15.9409, Loss2: 5.2149, Loss3: 22.7715\n"
     ]
    },
    {
     "name": "stderr",
     "output_type": "stream",
     "text": [
      "Test_Loader: 100%|██████████| 288/288 [00:03<00:00, 81.54it/s]\n"
     ]
    },
    {
     "name": "stdout",
     "output_type": "stream",
     "text": [
      "Loss1: 16.4304, Loss2: 5.3782, Loss3: 22.9377\n"
     ]
    },
    {
     "name": "stderr",
     "output_type": "stream",
     "text": [
      "Test_Loader: 100%|██████████| 288/288 [00:03<00:00, 85.88it/s]\n"
     ]
    },
    {
     "name": "stdout",
     "output_type": "stream",
     "text": [
      "Loss1: 15.7299, Loss2: 5.5343, Loss3: 22.5886\n"
     ]
    },
    {
     "name": "stderr",
     "output_type": "stream",
     "text": [
      "Test_Loader: 100%|██████████| 288/288 [00:03<00:00, 84.80it/s]\n"
     ]
    },
    {
     "name": "stdout",
     "output_type": "stream",
     "text": [
      "Loss1: 15.6550, Loss2: 5.5206, Loss3: 23.3271\n"
     ]
    },
    {
     "name": "stderr",
     "output_type": "stream",
     "text": [
      "Test_Loader: 100%|██████████| 288/288 [00:03<00:00, 82.81it/s]\n"
     ]
    },
    {
     "name": "stdout",
     "output_type": "stream",
     "text": [
      "Loss1: 15.6481, Loss2: 5.3262, Loss3: 23.5315\n"
     ]
    },
    {
     "name": "stderr",
     "output_type": "stream",
     "text": [
      "Test_Loader: 100%|██████████| 288/288 [00:03<00:00, 77.28it/s]\n"
     ]
    },
    {
     "name": "stdout",
     "output_type": "stream",
     "text": [
      "Loss1: 15.9558, Loss2: 5.2996, Loss3: 23.1855\n"
     ]
    },
    {
     "name": "stderr",
     "output_type": "stream",
     "text": [
      "Test_Loader: 100%|██████████| 288/288 [00:03<00:00, 79.27it/s]\n"
     ]
    },
    {
     "name": "stdout",
     "output_type": "stream",
     "text": [
      "Loss1: 16.6288, Loss2: 5.6622, Loss3: 25.0906\n"
     ]
    },
    {
     "name": "stderr",
     "output_type": "stream",
     "text": [
      "Test_Loader: 100%|██████████| 288/288 [00:03<00:00, 79.82it/s]\n"
     ]
    },
    {
     "name": "stdout",
     "output_type": "stream",
     "text": [
      "Loss1: 17.0121, Loss2: 5.7521, Loss3: 25.0044\n"
     ]
    },
    {
     "name": "stderr",
     "output_type": "stream",
     "text": [
      "Test_Loader: 100%|██████████| 288/288 [00:03<00:00, 80.24it/s]\n"
     ]
    },
    {
     "name": "stdout",
     "output_type": "stream",
     "text": [
      "Loss1: 16.2207, Loss2: 5.9603, Loss3: 25.7388\n"
     ]
    },
    {
     "name": "stderr",
     "output_type": "stream",
     "text": [
      "Test_Loader: 100%|██████████| 288/288 [00:03<00:00, 78.89it/s]\n"
     ]
    },
    {
     "name": "stdout",
     "output_type": "stream",
     "text": [
      "Loss1: 18.7033, Loss2: 6.0229, Loss3: 26.5356\n"
     ]
    },
    {
     "name": "stderr",
     "output_type": "stream",
     "text": [
      "Test_Loader: 100%|██████████| 288/288 [00:03<00:00, 84.11it/s]\n"
     ]
    },
    {
     "name": "stdout",
     "output_type": "stream",
     "text": [
      "Loss1: 17.7837, Loss2: 5.9119, Loss3: 27.4673\n"
     ]
    },
    {
     "name": "stderr",
     "output_type": "stream",
     "text": [
      "Test_Loader: 100%|██████████| 288/288 [00:03<00:00, 86.82it/s]\n"
     ]
    },
    {
     "name": "stdout",
     "output_type": "stream",
     "text": [
      "Loss1: 16.6824, Loss2: 6.0525, Loss3: 24.7328\n"
     ]
    },
    {
     "name": "stderr",
     "output_type": "stream",
     "text": [
      "Test_Loader: 100%|██████████| 288/288 [00:03<00:00, 81.78it/s]\n"
     ]
    },
    {
     "name": "stdout",
     "output_type": "stream",
     "text": [
      "Loss1: 17.5079, Loss2: 5.8784, Loss3: 25.6171\n"
     ]
    },
    {
     "name": "stderr",
     "output_type": "stream",
     "text": [
      "Test_Loader: 100%|██████████| 288/288 [00:03<00:00, 82.06it/s]\n"
     ]
    },
    {
     "name": "stdout",
     "output_type": "stream",
     "text": [
      "Loss1: 18.5953, Loss2: 6.2220, Loss3: 26.2863\n"
     ]
    },
    {
     "name": "stderr",
     "output_type": "stream",
     "text": [
      "Test_Loader: 100%|██████████| 288/288 [00:03<00:00, 84.31it/s]\n"
     ]
    },
    {
     "name": "stdout",
     "output_type": "stream",
     "text": [
      "Loss1: 18.6444, Loss2: 6.1689, Loss3: 28.0363\n"
     ]
    },
    {
     "name": "stderr",
     "output_type": "stream",
     "text": [
      "Test_Loader: 100%|██████████| 288/288 [00:03<00:00, 87.27it/s]\n"
     ]
    },
    {
     "name": "stdout",
     "output_type": "stream",
     "text": [
      "Loss1: 18.3580, Loss2: 6.3181, Loss3: 26.5767\n"
     ]
    },
    {
     "name": "stderr",
     "output_type": "stream",
     "text": [
      "Test_Loader: 100%|██████████| 288/288 [00:03<00:00, 79.82it/s]\n"
     ]
    },
    {
     "name": "stdout",
     "output_type": "stream",
     "text": [
      "Loss1: 17.7994, Loss2: 6.1512, Loss3: 25.8171\n"
     ]
    },
    {
     "name": "stderr",
     "output_type": "stream",
     "text": [
      "Test_Loader: 100%|██████████| 288/288 [00:03<00:00, 75.02it/s]\n"
     ]
    },
    {
     "name": "stdout",
     "output_type": "stream",
     "text": [
      "Loss1: 17.4883, Loss2: 6.0300, Loss3: 26.8450\n"
     ]
    },
    {
     "name": "stderr",
     "output_type": "stream",
     "text": [
      "Test_Loader: 100%|██████████| 288/288 [00:03<00:00, 74.74it/s]\n"
     ]
    },
    {
     "name": "stdout",
     "output_type": "stream",
     "text": [
      "Loss1: 18.5408, Loss2: 6.3710, Loss3: 28.8430\n"
     ]
    },
    {
     "name": "stderr",
     "output_type": "stream",
     "text": [
      "Test_Loader: 100%|██████████| 288/288 [00:03<00:00, 83.07it/s]\n"
     ]
    },
    {
     "name": "stdout",
     "output_type": "stream",
     "text": [
      "Loss1: 16.7230, Loss2: 5.7766, Loss3: 25.8974\n"
     ]
    },
    {
     "name": "stderr",
     "output_type": "stream",
     "text": [
      "Test_Loader: 100%|██████████| 288/288 [00:03<00:00, 84.14it/s]\n"
     ]
    },
    {
     "name": "stdout",
     "output_type": "stream",
     "text": [
      "Loss1: 18.1574, Loss2: 5.9851, Loss3: 26.7128\n"
     ]
    },
    {
     "name": "stderr",
     "output_type": "stream",
     "text": [
      "Test_Loader: 100%|██████████| 288/288 [00:03<00:00, 82.33it/s]\n"
     ]
    },
    {
     "name": "stdout",
     "output_type": "stream",
     "text": [
      "Loss1: 18.3275, Loss2: 6.0222, Loss3: 25.8772\n"
     ]
    },
    {
     "name": "stderr",
     "output_type": "stream",
     "text": [
      "Test_Loader: 100%|██████████| 288/288 [00:03<00:00, 81.37it/s]\n"
     ]
    },
    {
     "name": "stdout",
     "output_type": "stream",
     "text": [
      "Loss1: 17.0459, Loss2: 5.6837, Loss3: 25.6542\n"
     ]
    },
    {
     "name": "stderr",
     "output_type": "stream",
     "text": [
      "Test_Loader: 100%|██████████| 288/288 [00:03<00:00, 82.55it/s]\n"
     ]
    },
    {
     "name": "stdout",
     "output_type": "stream",
     "text": [
      "Loss1: 17.6086, Loss2: 5.9186, Loss3: 26.0060\n"
     ]
    },
    {
     "name": "stderr",
     "output_type": "stream",
     "text": [
      "Test_Loader: 100%|██████████| 288/288 [00:03<00:00, 83.54it/s]\n"
     ]
    },
    {
     "name": "stdout",
     "output_type": "stream",
     "text": [
      "Loss1: 17.3758, Loss2: 5.6934, Loss3: 24.2856\n"
     ]
    },
    {
     "name": "stderr",
     "output_type": "stream",
     "text": [
      "Test_Loader: 100%|██████████| 288/288 [00:03<00:00, 82.30it/s]\n"
     ]
    },
    {
     "name": "stdout",
     "output_type": "stream",
     "text": [
      "Loss1: 18.2625, Loss2: 5.7135, Loss3: 26.1994\n"
     ]
    },
    {
     "name": "stderr",
     "output_type": "stream",
     "text": [
      "Test_Loader: 100%|██████████| 288/288 [00:03<00:00, 82.68it/s]\n"
     ]
    },
    {
     "name": "stdout",
     "output_type": "stream",
     "text": [
      "Loss1: 18.3309, Loss2: 6.4924, Loss3: 25.9922\n"
     ]
    },
    {
     "name": "stderr",
     "output_type": "stream",
     "text": [
      "Test_Loader: 100%|██████████| 288/288 [00:03<00:00, 81.54it/s]\n"
     ]
    },
    {
     "name": "stdout",
     "output_type": "stream",
     "text": [
      "Loss1: 18.1476, Loss2: 6.0704, Loss3: 26.6568\n"
     ]
    },
    {
     "name": "stderr",
     "output_type": "stream",
     "text": [
      "Test_Loader: 100%|██████████| 288/288 [00:03<00:00, 82.47it/s]\n"
     ]
    },
    {
     "name": "stdout",
     "output_type": "stream",
     "text": [
      "Loss1: 17.4434, Loss2: 6.6003, Loss3: 30.1930\n"
     ]
    },
    {
     "name": "stderr",
     "output_type": "stream",
     "text": [
      "Test_Loader: 100%|██████████| 288/288 [00:03<00:00, 81.10it/s]\n"
     ]
    },
    {
     "name": "stdout",
     "output_type": "stream",
     "text": [
      "Loss1: 17.7249, Loss2: 6.0265, Loss3: 26.0152\n"
     ]
    },
    {
     "name": "stderr",
     "output_type": "stream",
     "text": [
      "Test_Loader: 100%|██████████| 288/288 [00:03<00:00, 80.11it/s]\n"
     ]
    },
    {
     "name": "stdout",
     "output_type": "stream",
     "text": [
      "Loss1: 18.6001, Loss2: 5.7923, Loss3: 26.0755\n"
     ]
    },
    {
     "name": "stderr",
     "output_type": "stream",
     "text": [
      "Test_Loader: 100%|██████████| 288/288 [00:03<00:00, 84.29it/s]\n"
     ]
    },
    {
     "name": "stdout",
     "output_type": "stream",
     "text": [
      "Loss1: 17.1311, Loss2: 5.8467, Loss3: 23.6527\n"
     ]
    },
    {
     "name": "stderr",
     "output_type": "stream",
     "text": [
      "Test_Loader: 100%|██████████| 288/288 [00:03<00:00, 85.18it/s]\n"
     ]
    },
    {
     "name": "stdout",
     "output_type": "stream",
     "text": [
      "Loss1: 16.3738, Loss2: 5.5769, Loss3: 22.9358\n"
     ]
    },
    {
     "name": "stderr",
     "output_type": "stream",
     "text": [
      "Test_Loader: 100%|██████████| 288/288 [00:03<00:00, 84.93it/s]\n"
     ]
    },
    {
     "name": "stdout",
     "output_type": "stream",
     "text": [
      "Loss1: 17.5782, Loss2: 5.9280, Loss3: 21.8133\n"
     ]
    },
    {
     "name": "stderr",
     "output_type": "stream",
     "text": [
      "Test_Loader: 100%|██████████| 288/288 [00:03<00:00, 78.58it/s]\n"
     ]
    },
    {
     "name": "stdout",
     "output_type": "stream",
     "text": [
      "Loss1: 16.4887, Loss2: 5.4891, Loss3: 22.5773\n"
     ]
    },
    {
     "name": "stderr",
     "output_type": "stream",
     "text": [
      "Test_Loader: 100%|██████████| 288/288 [00:03<00:00, 80.56it/s]\n"
     ]
    },
    {
     "name": "stdout",
     "output_type": "stream",
     "text": [
      "Loss1: 17.7378, Loss2: 6.2960, Loss3: 25.2459\n"
     ]
    },
    {
     "name": "stderr",
     "output_type": "stream",
     "text": [
      "Test_Loader: 100%|██████████| 288/288 [00:03<00:00, 82.50it/s]\n"
     ]
    },
    {
     "name": "stdout",
     "output_type": "stream",
     "text": [
      "Loss1: 16.4033, Loss2: 6.0030, Loss3: 22.6252\n"
     ]
    },
    {
     "name": "stderr",
     "output_type": "stream",
     "text": [
      "Test_Loader: 100%|██████████| 288/288 [00:03<00:00, 86.01it/s]\n"
     ]
    },
    {
     "name": "stdout",
     "output_type": "stream",
     "text": [
      "Loss1: 17.1198, Loss2: 6.0808, Loss3: 23.0826\n"
     ]
    },
    {
     "name": "stderr",
     "output_type": "stream",
     "text": [
      "Test_Loader: 100%|██████████| 288/288 [00:03<00:00, 85.28it/s]\n"
     ]
    },
    {
     "name": "stdout",
     "output_type": "stream",
     "text": [
      "Loss1: 16.7985, Loss2: 5.7195, Loss3: 21.4677\n"
     ]
    },
    {
     "name": "stderr",
     "output_type": "stream",
     "text": [
      "Test_Loader: 100%|██████████| 288/288 [00:03<00:00, 77.82it/s]\n"
     ]
    },
    {
     "name": "stdout",
     "output_type": "stream",
     "text": [
      "Loss1: 16.6908, Loss2: 5.4597, Loss3: 22.3690\n"
     ]
    },
    {
     "name": "stderr",
     "output_type": "stream",
     "text": [
      "Test_Loader: 100%|██████████| 288/288 [00:03<00:00, 81.07it/s]\n"
     ]
    },
    {
     "name": "stdout",
     "output_type": "stream",
     "text": [
      "Loss1: 15.9265, Loss2: 5.5026, Loss3: 22.1934\n"
     ]
    },
    {
     "name": "stderr",
     "output_type": "stream",
     "text": [
      "Test_Loader: 100%|██████████| 288/288 [00:03<00:00, 82.14it/s]\n"
     ]
    },
    {
     "name": "stdout",
     "output_type": "stream",
     "text": [
      "Loss1: 16.1410, Loss2: 5.5635, Loss3: 22.4606\n"
     ]
    },
    {
     "name": "stderr",
     "output_type": "stream",
     "text": [
      "Test_Loader: 100%|██████████| 288/288 [00:03<00:00, 79.14it/s]\n"
     ]
    },
    {
     "name": "stdout",
     "output_type": "stream",
     "text": [
      "Loss1: 15.6725, Loss2: 5.8312, Loss3: 25.7234\n"
     ]
    },
    {
     "name": "stderr",
     "output_type": "stream",
     "text": [
      "Test_Loader: 100%|██████████| 288/288 [00:03<00:00, 78.97it/s]\n"
     ]
    },
    {
     "name": "stdout",
     "output_type": "stream",
     "text": [
      "Loss1: 15.7532, Loss2: 5.4758, Loss3: 22.8448\n"
     ]
    },
    {
     "name": "stderr",
     "output_type": "stream",
     "text": [
      "Test_Loader: 100%|██████████| 288/288 [00:03<00:00, 79.53it/s]\n"
     ]
    },
    {
     "name": "stdout",
     "output_type": "stream",
     "text": [
      "Loss1: 15.9797, Loss2: 5.4587, Loss3: 21.5005\n"
     ]
    },
    {
     "name": "stderr",
     "output_type": "stream",
     "text": [
      "Test_Loader: 100%|██████████| 288/288 [00:03<00:00, 80.51it/s]\n"
     ]
    },
    {
     "name": "stdout",
     "output_type": "stream",
     "text": [
      "Loss1: 15.4947, Loss2: 5.6667, Loss3: 22.3383\n"
     ]
    },
    {
     "name": "stderr",
     "output_type": "stream",
     "text": [
      "Test_Loader: 100%|██████████| 288/288 [00:03<00:00, 84.11it/s]\n"
     ]
    },
    {
     "name": "stdout",
     "output_type": "stream",
     "text": [
      "Loss1: 15.3459, Loss2: 5.8248, Loss3: 21.2614\n"
     ]
    },
    {
     "name": "stderr",
     "output_type": "stream",
     "text": [
      "Test_Loader: 100%|██████████| 288/288 [00:03<00:00, 82.55it/s]\n"
     ]
    },
    {
     "name": "stdout",
     "output_type": "stream",
     "text": [
      "Loss1: 16.6419, Loss2: 5.9389, Loss3: 22.6305\n"
     ]
    },
    {
     "name": "stderr",
     "output_type": "stream",
     "text": [
      "Test_Loader: 100%|██████████| 288/288 [00:03<00:00, 84.96it/s]\n"
     ]
    },
    {
     "name": "stdout",
     "output_type": "stream",
     "text": [
      "Loss1: 14.8609, Loss2: 5.5261, Loss3: 21.9489\n"
     ]
    },
    {
     "name": "stderr",
     "output_type": "stream",
     "text": [
      "Test_Loader: 100%|██████████| 288/288 [00:03<00:00, 85.45it/s]\n"
     ]
    },
    {
     "name": "stdout",
     "output_type": "stream",
     "text": [
      "Loss1: 15.4374, Loss2: 5.6151, Loss3: 22.7393\n"
     ]
    },
    {
     "name": "stderr",
     "output_type": "stream",
     "text": [
      "Test_Loader: 100%|██████████| 288/288 [00:03<00:00, 84.88it/s]\n"
     ]
    },
    {
     "name": "stdout",
     "output_type": "stream",
     "text": [
      "Loss1: 16.0423, Loss2: 5.7422, Loss3: 21.8940\n"
     ]
    },
    {
     "name": "stderr",
     "output_type": "stream",
     "text": [
      "Test_Loader: 100%|██████████| 288/288 [00:03<00:00, 81.04it/s]\n"
     ]
    },
    {
     "name": "stdout",
     "output_type": "stream",
     "text": [
      "Loss1: 15.3351, Loss2: 5.7844, Loss3: 22.1628\n"
     ]
    },
    {
     "name": "stderr",
     "output_type": "stream",
     "text": [
      "Test_Loader: 100%|██████████| 288/288 [00:03<00:00, 78.91it/s]\n"
     ]
    },
    {
     "name": "stdout",
     "output_type": "stream",
     "text": [
      "Loss1: 17.7788, Loss2: 5.8818, Loss3: 26.6586\n"
     ]
    },
    {
     "name": "stderr",
     "output_type": "stream",
     "text": [
      "Test_Loader: 100%|██████████| 288/288 [00:03<00:00, 77.29it/s]\n"
     ]
    },
    {
     "name": "stdout",
     "output_type": "stream",
     "text": [
      "Loss1: 16.2882, Loss2: 6.0914, Loss3: 25.4185\n"
     ]
    },
    {
     "name": "stderr",
     "output_type": "stream",
     "text": [
      "Test_Loader: 100%|██████████| 288/288 [00:03<00:00, 81.84it/s]\n"
     ]
    },
    {
     "name": "stdout",
     "output_type": "stream",
     "text": [
      "Loss1: 15.3874, Loss2: 5.8572, Loss3: 23.5500\n"
     ]
    },
    {
     "name": "stderr",
     "output_type": "stream",
     "text": [
      "Test_Loader: 100%|██████████| 288/288 [00:03<00:00, 79.87it/s]\n"
     ]
    },
    {
     "name": "stdout",
     "output_type": "stream",
     "text": [
      "Loss1: 16.4077, Loss2: 5.7774, Loss3: 21.9724\n"
     ]
    },
    {
     "name": "stderr",
     "output_type": "stream",
     "text": [
      "Test_Loader: 100%|██████████| 288/288 [00:03<00:00, 77.34it/s]\n"
     ]
    },
    {
     "name": "stdout",
     "output_type": "stream",
     "text": [
      "Loss1: 17.6097, Loss2: 5.5389, Loss3: 22.8599\n"
     ]
    },
    {
     "name": "stderr",
     "output_type": "stream",
     "text": [
      "Test_Loader: 100%|██████████| 288/288 [00:03<00:00, 78.41it/s]\n"
     ]
    },
    {
     "name": "stdout",
     "output_type": "stream",
     "text": [
      "Loss1: 17.9459, Loss2: 5.8518, Loss3: 23.9826\n"
     ]
    },
    {
     "name": "stderr",
     "output_type": "stream",
     "text": [
      "Test_Loader: 100%|██████████| 288/288 [00:03<00:00, 74.75it/s]\n"
     ]
    },
    {
     "name": "stdout",
     "output_type": "stream",
     "text": [
      "Loss1: 16.3251, Loss2: 6.0989, Loss3: 22.8058\n"
     ]
    },
    {
     "name": "stderr",
     "output_type": "stream",
     "text": [
      "Test_Loader: 100%|██████████| 288/288 [00:03<00:00, 74.07it/s]\n"
     ]
    },
    {
     "name": "stdout",
     "output_type": "stream",
     "text": [
      "Loss1: 16.3894, Loss2: 5.9073, Loss3: 24.3739\n"
     ]
    },
    {
     "name": "stderr",
     "output_type": "stream",
     "text": [
      "Test_Loader: 100%|██████████| 288/288 [00:03<00:00, 77.28it/s]\n"
     ]
    },
    {
     "name": "stdout",
     "output_type": "stream",
     "text": [
      "Loss1: 17.4943, Loss2: 5.6977, Loss3: 23.3598\n"
     ]
    },
    {
     "name": "stderr",
     "output_type": "stream",
     "text": [
      "Test_Loader: 100%|██████████| 288/288 [00:03<00:00, 81.52it/s]\n"
     ]
    },
    {
     "name": "stdout",
     "output_type": "stream",
     "text": [
      "Loss1: 17.1673, Loss2: 5.9291, Loss3: 23.3346\n"
     ]
    },
    {
     "name": "stderr",
     "output_type": "stream",
     "text": [
      "Test_Loader: 100%|██████████| 288/288 [00:03<00:00, 79.89it/s]\n"
     ]
    },
    {
     "name": "stdout",
     "output_type": "stream",
     "text": [
      "Loss1: 16.7095, Loss2: 5.6793, Loss3: 22.6557\n"
     ]
    },
    {
     "name": "stderr",
     "output_type": "stream",
     "text": [
      "Test_Loader: 100%|██████████| 288/288 [00:03<00:00, 79.90it/s]\n"
     ]
    },
    {
     "name": "stdout",
     "output_type": "stream",
     "text": [
      "Loss1: 16.4465, Loss2: 5.8457, Loss3: 23.7888\n"
     ]
    },
    {
     "name": "stderr",
     "output_type": "stream",
     "text": [
      "Test_Loader: 100%|██████████| 288/288 [00:03<00:00, 82.67it/s]\n"
     ]
    },
    {
     "name": "stdout",
     "output_type": "stream",
     "text": [
      "Loss1: 17.0117, Loss2: 5.8751, Loss3: 23.8433\n"
     ]
    },
    {
     "name": "stderr",
     "output_type": "stream",
     "text": [
      "Test_Loader: 100%|██████████| 288/288 [00:03<00:00, 82.95it/s]\n"
     ]
    },
    {
     "name": "stdout",
     "output_type": "stream",
     "text": [
      "Loss1: 17.0698, Loss2: 5.6578, Loss3: 24.2621\n"
     ]
    },
    {
     "name": "stderr",
     "output_type": "stream",
     "text": [
      "Test_Loader: 100%|██████████| 288/288 [00:03<00:00, 86.12it/s]\n"
     ]
    },
    {
     "name": "stdout",
     "output_type": "stream",
     "text": [
      "Loss1: 16.7927, Loss2: 5.6226, Loss3: 22.9348\n"
     ]
    },
    {
     "name": "stderr",
     "output_type": "stream",
     "text": [
      "Test_Loader: 100%|██████████| 288/288 [00:03<00:00, 74.06it/s]\n"
     ]
    },
    {
     "name": "stdout",
     "output_type": "stream",
     "text": [
      "Loss1: 17.5688, Loss2: 5.8691, Loss3: 25.0382\n"
     ]
    },
    {
     "name": "stderr",
     "output_type": "stream",
     "text": [
      "Test_Loader: 100%|██████████| 288/288 [00:03<00:00, 79.87it/s]\n"
     ]
    },
    {
     "name": "stdout",
     "output_type": "stream",
     "text": [
      "Loss1: 15.7840, Loss2: 5.9826, Loss3: 24.1239\n"
     ]
    },
    {
     "name": "stderr",
     "output_type": "stream",
     "text": [
      "Test_Loader: 100%|██████████| 288/288 [00:03<00:00, 77.18it/s]\n"
     ]
    },
    {
     "name": "stdout",
     "output_type": "stream",
     "text": [
      "Loss1: 16.8251, Loss2: 5.9186, Loss3: 24.1440\n"
     ]
    },
    {
     "name": "stderr",
     "output_type": "stream",
     "text": [
      "Test_Loader: 100%|██████████| 288/288 [00:03<00:00, 75.59it/s]\n"
     ]
    },
    {
     "name": "stdout",
     "output_type": "stream",
     "text": [
      "Loss1: 17.2371, Loss2: 5.6839, Loss3: 22.8757\n"
     ]
    },
    {
     "name": "stderr",
     "output_type": "stream",
     "text": [
      "Test_Loader: 100%|██████████| 288/288 [00:03<00:00, 72.71it/s]\n"
     ]
    },
    {
     "name": "stdout",
     "output_type": "stream",
     "text": [
      "Loss1: 16.3070, Loss2: 5.7851, Loss3: 22.7959\n"
     ]
    },
    {
     "name": "stderr",
     "output_type": "stream",
     "text": [
      "Test_Loader: 100%|██████████| 288/288 [00:03<00:00, 74.67it/s]\n"
     ]
    },
    {
     "name": "stdout",
     "output_type": "stream",
     "text": [
      "Loss1: 16.2143, Loss2: 5.6802, Loss3: 23.0090\n"
     ]
    },
    {
     "name": "stderr",
     "output_type": "stream",
     "text": [
      "Test_Loader: 100%|██████████| 288/288 [00:03<00:00, 79.59it/s]\n"
     ]
    },
    {
     "name": "stdout",
     "output_type": "stream",
     "text": [
      "Loss1: 16.1301, Loss2: 5.7487, Loss3: 24.6423\n"
     ]
    },
    {
     "name": "stderr",
     "output_type": "stream",
     "text": [
      "Test_Loader: 100%|██████████| 288/288 [00:03<00:00, 81.91it/s]\n"
     ]
    },
    {
     "name": "stdout",
     "output_type": "stream",
     "text": [
      "Loss1: 17.1798, Loss2: 5.7136, Loss3: 22.7726\n"
     ]
    },
    {
     "name": "stderr",
     "output_type": "stream",
     "text": [
      "Test_Loader: 100%|██████████| 288/288 [00:03<00:00, 79.89it/s]\n"
     ]
    },
    {
     "name": "stdout",
     "output_type": "stream",
     "text": [
      "Loss1: 16.6214, Loss2: 5.6482, Loss3: 21.6866\n"
     ]
    },
    {
     "name": "stderr",
     "output_type": "stream",
     "text": [
      "Test_Loader: 100%|██████████| 288/288 [00:03<00:00, 81.10it/s]\n"
     ]
    },
    {
     "name": "stdout",
     "output_type": "stream",
     "text": [
      "Loss1: 16.7818, Loss2: 5.5730, Loss3: 22.0242\n"
     ]
    },
    {
     "name": "stderr",
     "output_type": "stream",
     "text": [
      "Test_Loader: 100%|██████████| 288/288 [00:03<00:00, 81.23it/s]\n"
     ]
    },
    {
     "name": "stdout",
     "output_type": "stream",
     "text": [
      "Loss1: 15.1237, Loss2: 5.5216, Loss3: 21.9973\n"
     ]
    },
    {
     "name": "stderr",
     "output_type": "stream",
     "text": [
      "Test_Loader: 100%|██████████| 288/288 [00:03<00:00, 78.34it/s]\n"
     ]
    },
    {
     "name": "stdout",
     "output_type": "stream",
     "text": [
      "Loss1: 15.0904, Loss2: 5.6933, Loss3: 22.4380\n"
     ]
    },
    {
     "name": "stderr",
     "output_type": "stream",
     "text": [
      "Test_Loader: 100%|██████████| 288/288 [00:03<00:00, 74.38it/s]\n"
     ]
    },
    {
     "name": "stdout",
     "output_type": "stream",
     "text": [
      "Loss1: 15.3550, Loss2: 5.5910, Loss3: 23.1116\n"
     ]
    },
    {
     "name": "stderr",
     "output_type": "stream",
     "text": [
      "Test_Loader: 100%|██████████| 288/288 [00:03<00:00, 72.38it/s]\n"
     ]
    },
    {
     "name": "stdout",
     "output_type": "stream",
     "text": [
      "Loss1: 15.3498, Loss2: 5.4421, Loss3: 21.9802\n"
     ]
    },
    {
     "name": "stderr",
     "output_type": "stream",
     "text": [
      "Test_Loader: 100%|██████████| 288/288 [00:03<00:00, 72.13it/s]\n"
     ]
    },
    {
     "name": "stdout",
     "output_type": "stream",
     "text": [
      "Loss1: 16.0345, Loss2: 5.6253, Loss3: 22.0683\n"
     ]
    },
    {
     "name": "stderr",
     "output_type": "stream",
     "text": [
      "Test_Loader: 100%|██████████| 288/288 [00:03<00:00, 76.12it/s]\n"
     ]
    },
    {
     "name": "stdout",
     "output_type": "stream",
     "text": [
      "Loss1: 14.2874, Loss2: 5.3576, Loss3: 20.9074\n"
     ]
    },
    {
     "name": "stderr",
     "output_type": "stream",
     "text": [
      "Test_Loader: 100%|██████████| 288/288 [00:03<00:00, 78.88it/s]\n"
     ]
    },
    {
     "name": "stdout",
     "output_type": "stream",
     "text": [
      "Loss1: 14.6481, Loss2: 5.3647, Loss3: 22.1285\n"
     ]
    },
    {
     "name": "stderr",
     "output_type": "stream",
     "text": [
      "Test_Loader: 100%|██████████| 288/288 [00:03<00:00, 83.60it/s]\n"
     ]
    },
    {
     "name": "stdout",
     "output_type": "stream",
     "text": [
      "Loss1: 14.8367, Loss2: 5.2609, Loss3: 22.1215\n"
     ]
    },
    {
     "name": "stderr",
     "output_type": "stream",
     "text": [
      "Test_Loader: 100%|██████████| 288/288 [00:03<00:00, 83.58it/s]\n"
     ]
    },
    {
     "name": "stdout",
     "output_type": "stream",
     "text": [
      "Loss1: 14.9939, Loss2: 5.4527, Loss3: 21.7703\n"
     ]
    },
    {
     "name": "stderr",
     "output_type": "stream",
     "text": [
      "Test_Loader: 100%|██████████| 288/288 [00:03<00:00, 83.55it/s]\n"
     ]
    },
    {
     "name": "stdout",
     "output_type": "stream",
     "text": [
      "Loss1: 14.3361, Loss2: 5.3501, Loss3: 21.0227\n"
     ]
    },
    {
     "name": "stderr",
     "output_type": "stream",
     "text": [
      "Test_Loader: 100%|██████████| 288/288 [00:03<00:00, 82.67it/s]\n"
     ]
    },
    {
     "name": "stdout",
     "output_type": "stream",
     "text": [
      "Loss1: 13.9731, Loss2: 5.3295, Loss3: 20.3057\n"
     ]
    },
    {
     "name": "stderr",
     "output_type": "stream",
     "text": [
      "Test_Loader: 100%|██████████| 288/288 [00:03<00:00, 80.65it/s]\n"
     ]
    },
    {
     "name": "stdout",
     "output_type": "stream",
     "text": [
      "Loss1: 13.9606, Loss2: 5.2207, Loss3: 20.9604\n"
     ]
    },
    {
     "name": "stderr",
     "output_type": "stream",
     "text": [
      "Test_Loader: 100%|██████████| 288/288 [00:03<00:00, 76.64it/s]\n"
     ]
    },
    {
     "name": "stdout",
     "output_type": "stream",
     "text": [
      "Loss1: 13.5913, Loss2: 5.4993, Loss3: 21.1675\n"
     ]
    },
    {
     "name": "stderr",
     "output_type": "stream",
     "text": [
      "Test_Loader: 100%|██████████| 288/288 [00:04<00:00, 70.82it/s]\n"
     ]
    },
    {
     "name": "stdout",
     "output_type": "stream",
     "text": [
      "Loss1: 13.7633, Loss2: 5.1458, Loss3: 20.9018\n"
     ]
    },
    {
     "name": "stderr",
     "output_type": "stream",
     "text": [
      "Test_Loader: 100%|██████████| 288/288 [00:03<00:00, 72.34it/s]\n"
     ]
    },
    {
     "name": "stdout",
     "output_type": "stream",
     "text": [
      "Loss1: 13.7217, Loss2: 5.1782, Loss3: 20.6080\n"
     ]
    },
    {
     "name": "stderr",
     "output_type": "stream",
     "text": [
      "Test_Loader: 100%|██████████| 288/288 [00:03<00:00, 82.41it/s]\n"
     ]
    },
    {
     "name": "stdout",
     "output_type": "stream",
     "text": [
      "Loss1: 13.6093, Loss2: 5.3907, Loss3: 19.5091\n"
     ]
    },
    {
     "name": "stderr",
     "output_type": "stream",
     "text": [
      "Test_Loader: 100%|██████████| 288/288 [00:03<00:00, 84.24it/s]\n"
     ]
    },
    {
     "name": "stdout",
     "output_type": "stream",
     "text": [
      "Loss1: 13.6562, Loss2: 5.2541, Loss3: 20.3187\n"
     ]
    },
    {
     "name": "stderr",
     "output_type": "stream",
     "text": [
      "Test_Loader: 100%|██████████| 288/288 [00:03<00:00, 83.79it/s]\n"
     ]
    },
    {
     "name": "stdout",
     "output_type": "stream",
     "text": [
      "Loss1: 13.5492, Loss2: 5.2449, Loss3: 19.8827\n"
     ]
    },
    {
     "name": "stderr",
     "output_type": "stream",
     "text": [
      "Test_Loader: 100%|██████████| 288/288 [00:03<00:00, 80.77it/s]\n"
     ]
    },
    {
     "name": "stdout",
     "output_type": "stream",
     "text": [
      "Loss1: 13.4906, Loss2: 5.1803, Loss3: 19.6849\n"
     ]
    },
    {
     "name": "stderr",
     "output_type": "stream",
     "text": [
      "Test_Loader: 100%|██████████| 288/288 [00:03<00:00, 80.83it/s]\n"
     ]
    },
    {
     "name": "stdout",
     "output_type": "stream",
     "text": [
      "Loss1: 13.3489, Loss2: 4.9208, Loss3: 19.5492\n"
     ]
    },
    {
     "name": "stderr",
     "output_type": "stream",
     "text": [
      "Test_Loader: 100%|██████████| 288/288 [00:03<00:00, 81.09it/s]\n"
     ]
    },
    {
     "name": "stdout",
     "output_type": "stream",
     "text": [
      "Loss1: 13.2517, Loss2: 5.0612, Loss3: 20.7953\n"
     ]
    },
    {
     "name": "stderr",
     "output_type": "stream",
     "text": [
      "Test_Loader: 100%|██████████| 288/288 [00:03<00:00, 76.21it/s]\n"
     ]
    },
    {
     "name": "stdout",
     "output_type": "stream",
     "text": [
      "Loss1: 13.7861, Loss2: 5.2519, Loss3: 21.1002\n"
     ]
    },
    {
     "name": "stderr",
     "output_type": "stream",
     "text": [
      "Test_Loader: 100%|██████████| 288/288 [00:03<00:00, 75.65it/s]\n"
     ]
    },
    {
     "name": "stdout",
     "output_type": "stream",
     "text": [
      "Loss1: 14.0051, Loss2: 5.3264, Loss3: 21.3158\n"
     ]
    },
    {
     "name": "stderr",
     "output_type": "stream",
     "text": [
      "Test_Loader: 100%|██████████| 288/288 [00:03<00:00, 77.82it/s]\n"
     ]
    },
    {
     "name": "stdout",
     "output_type": "stream",
     "text": [
      "Loss1: 14.0124, Loss2: 5.6157, Loss3: 21.0766\n"
     ]
    },
    {
     "name": "stderr",
     "output_type": "stream",
     "text": [
      "Test_Loader: 100%|██████████| 288/288 [00:03<00:00, 81.78it/s]\n"
     ]
    },
    {
     "name": "stdout",
     "output_type": "stream",
     "text": [
      "Loss1: 13.5484, Loss2: 5.5086, Loss3: 21.7060\n"
     ]
    },
    {
     "name": "stderr",
     "output_type": "stream",
     "text": [
      "Test_Loader: 100%|██████████| 288/288 [00:03<00:00, 81.21it/s]\n"
     ]
    },
    {
     "name": "stdout",
     "output_type": "stream",
     "text": [
      "Loss1: 13.3217, Loss2: 5.2369, Loss3: 20.8984\n"
     ]
    },
    {
     "name": "stderr",
     "output_type": "stream",
     "text": [
      "Test_Loader: 100%|██████████| 288/288 [00:03<00:00, 75.20it/s]\n"
     ]
    },
    {
     "name": "stdout",
     "output_type": "stream",
     "text": [
      "Loss1: 13.8069, Loss2: 5.1052, Loss3: 21.4601\n"
     ]
    },
    {
     "name": "stderr",
     "output_type": "stream",
     "text": [
      "Test_Loader: 100%|██████████| 288/288 [00:03<00:00, 80.97it/s]\n"
     ]
    },
    {
     "name": "stdout",
     "output_type": "stream",
     "text": [
      "Loss1: 13.6421, Loss2: 5.0083, Loss3: 22.2179\n"
     ]
    },
    {
     "name": "stderr",
     "output_type": "stream",
     "text": [
      "Test_Loader: 100%|██████████| 288/288 [00:03<00:00, 78.73it/s]\n"
     ]
    },
    {
     "name": "stdout",
     "output_type": "stream",
     "text": [
      "Loss1: 13.0654, Loss2: 5.1011, Loss3: 20.7006\n"
     ]
    },
    {
     "name": "stderr",
     "output_type": "stream",
     "text": [
      "Test_Loader: 100%|██████████| 288/288 [00:03<00:00, 74.61it/s]\n"
     ]
    },
    {
     "name": "stdout",
     "output_type": "stream",
     "text": [
      "Loss1: 12.9338, Loss2: 4.9932, Loss3: 19.5847\n"
     ]
    },
    {
     "name": "stderr",
     "output_type": "stream",
     "text": [
      "Test_Loader: 100%|██████████| 288/288 [00:03<00:00, 76.19it/s]\n"
     ]
    },
    {
     "name": "stdout",
     "output_type": "stream",
     "text": [
      "Loss1: 12.7443, Loss2: 4.8746, Loss3: 20.1139\n"
     ]
    },
    {
     "name": "stderr",
     "output_type": "stream",
     "text": [
      "Test_Loader: 100%|██████████| 288/288 [00:03<00:00, 77.07it/s]\n"
     ]
    },
    {
     "name": "stdout",
     "output_type": "stream",
     "text": [
      "Loss1: 13.1023, Loss2: 4.8565, Loss3: 20.5396\n"
     ]
    },
    {
     "name": "stderr",
     "output_type": "stream",
     "text": [
      "Test_Loader: 100%|██████████| 288/288 [00:03<00:00, 77.69it/s]\n"
     ]
    },
    {
     "name": "stdout",
     "output_type": "stream",
     "text": [
      "Loss1: 12.4801, Loss2: 4.8463, Loss3: 20.2279\n"
     ]
    },
    {
     "name": "stderr",
     "output_type": "stream",
     "text": [
      "Test_Loader: 100%|██████████| 288/288 [00:03<00:00, 77.45it/s]\n"
     ]
    },
    {
     "name": "stdout",
     "output_type": "stream",
     "text": [
      "Loss1: 13.0127, Loss2: 4.5253, Loss3: 19.8752\n"
     ]
    },
    {
     "name": "stderr",
     "output_type": "stream",
     "text": [
      "Test_Loader: 100%|██████████| 288/288 [00:03<00:00, 80.54it/s]\n"
     ]
    },
    {
     "name": "stdout",
     "output_type": "stream",
     "text": [
      "Loss1: 12.6414, Loss2: 4.7437, Loss3: 20.0650\n"
     ]
    },
    {
     "name": "stderr",
     "output_type": "stream",
     "text": [
      "Test_Loader: 100%|██████████| 288/288 [00:03<00:00, 79.59it/s]\n"
     ]
    },
    {
     "name": "stdout",
     "output_type": "stream",
     "text": [
      "Loss1: 12.3415, Loss2: 4.8362, Loss3: 19.6422\n"
     ]
    },
    {
     "name": "stderr",
     "output_type": "stream",
     "text": [
      "Test_Loader: 100%|██████████| 288/288 [00:03<00:00, 78.92it/s]\n"
     ]
    },
    {
     "name": "stdout",
     "output_type": "stream",
     "text": [
      "Loss1: 12.5086, Loss2: 4.7270, Loss3: 18.3872\n"
     ]
    },
    {
     "name": "stderr",
     "output_type": "stream",
     "text": [
      "Test_Loader: 100%|██████████| 288/288 [00:03<00:00, 81.36it/s]\n"
     ]
    },
    {
     "name": "stdout",
     "output_type": "stream",
     "text": [
      "Loss1: 12.6489, Loss2: 5.0716, Loss3: 20.1151\n"
     ]
    },
    {
     "name": "stderr",
     "output_type": "stream",
     "text": [
      "Test_Loader: 100%|██████████| 288/288 [00:03<00:00, 83.46it/s]\n"
     ]
    },
    {
     "name": "stdout",
     "output_type": "stream",
     "text": [
      "Loss1: 12.1817, Loss2: 4.7918, Loss3: 18.9364\n"
     ]
    },
    {
     "name": "stderr",
     "output_type": "stream",
     "text": [
      "Test_Loader: 100%|██████████| 288/288 [00:03<00:00, 85.03it/s]\n"
     ]
    },
    {
     "name": "stdout",
     "output_type": "stream",
     "text": [
      "Loss1: 12.4405, Loss2: 4.9641, Loss3: 18.4715\n"
     ]
    },
    {
     "name": "stderr",
     "output_type": "stream",
     "text": [
      "Test_Loader: 100%|██████████| 288/288 [00:03<00:00, 85.22it/s]\n"
     ]
    },
    {
     "name": "stdout",
     "output_type": "stream",
     "text": [
      "Loss1: 13.3169, Loss2: 5.8722, Loss3: 25.3237\n"
     ]
    },
    {
     "name": "stderr",
     "output_type": "stream",
     "text": [
      "Test_Loader: 100%|██████████| 288/288 [00:03<00:00, 87.36it/s]\n"
     ]
    },
    {
     "name": "stdout",
     "output_type": "stream",
     "text": [
      "Loss1: 13.3009, Loss2: 5.3775, Loss3: 20.2185\n"
     ]
    },
    {
     "name": "stderr",
     "output_type": "stream",
     "text": [
      "Test_Loader: 100%|██████████| 288/288 [00:03<00:00, 88.44it/s]\n"
     ]
    },
    {
     "name": "stdout",
     "output_type": "stream",
     "text": [
      "Loss1: 11.9516, Loss2: 5.1947, Loss3: 18.7065\n"
     ]
    },
    {
     "name": "stderr",
     "output_type": "stream",
     "text": [
      "Test_Loader: 100%|██████████| 288/288 [00:03<00:00, 88.32it/s]\n"
     ]
    },
    {
     "name": "stdout",
     "output_type": "stream",
     "text": [
      "Loss1: 12.1311, Loss2: 5.0166, Loss3: 18.9100\n"
     ]
    },
    {
     "name": "stderr",
     "output_type": "stream",
     "text": [
      "Test_Loader: 100%|██████████| 288/288 [00:03<00:00, 76.17it/s]\n"
     ]
    },
    {
     "name": "stdout",
     "output_type": "stream",
     "text": [
      "Loss1: 11.8882, Loss2: 4.8260, Loss3: 18.1056\n"
     ]
    },
    {
     "name": "stderr",
     "output_type": "stream",
     "text": [
      "Test_Loader: 100%|██████████| 288/288 [00:03<00:00, 72.37it/s]\n"
     ]
    },
    {
     "name": "stdout",
     "output_type": "stream",
     "text": [
      "Loss1: 12.0540, Loss2: 4.9546, Loss3: 18.1445\n"
     ]
    },
    {
     "name": "stderr",
     "output_type": "stream",
     "text": [
      "Test_Loader: 100%|██████████| 288/288 [00:03<00:00, 74.05it/s]\n"
     ]
    },
    {
     "name": "stdout",
     "output_type": "stream",
     "text": [
      "Loss1: 11.9236, Loss2: 4.9185, Loss3: 18.8587\n"
     ]
    },
    {
     "name": "stderr",
     "output_type": "stream",
     "text": [
      "Test_Loader: 100%|██████████| 288/288 [00:03<00:00, 86.88it/s]\n"
     ]
    },
    {
     "name": "stdout",
     "output_type": "stream",
     "text": [
      "Loss1: 12.1339, Loss2: 4.8871, Loss3: 17.7384\n"
     ]
    },
    {
     "name": "stderr",
     "output_type": "stream",
     "text": [
      "Test_Loader: 100%|██████████| 288/288 [00:03<00:00, 87.84it/s]\n"
     ]
    },
    {
     "name": "stdout",
     "output_type": "stream",
     "text": [
      "Loss1: 12.1222, Loss2: 4.7823, Loss3: 18.2685\n"
     ]
    },
    {
     "name": "stderr",
     "output_type": "stream",
     "text": [
      "Test_Loader: 100%|██████████| 288/288 [00:03<00:00, 88.86it/s]\n"
     ]
    },
    {
     "name": "stdout",
     "output_type": "stream",
     "text": [
      "Loss1: 12.4296, Loss2: 5.1685, Loss3: 19.4041\n"
     ]
    },
    {
     "name": "stderr",
     "output_type": "stream",
     "text": [
      "Test_Loader: 100%|██████████| 288/288 [00:03<00:00, 85.24it/s]\n"
     ]
    },
    {
     "name": "stdout",
     "output_type": "stream",
     "text": [
      "Loss1: 12.0093, Loss2: 5.0670, Loss3: 19.1191\n"
     ]
    },
    {
     "name": "stderr",
     "output_type": "stream",
     "text": [
      "Test_Loader: 100%|██████████| 288/288 [00:03<00:00, 81.01it/s]\n"
     ]
    },
    {
     "name": "stdout",
     "output_type": "stream",
     "text": [
      "Loss1: 11.9638, Loss2: 4.8305, Loss3: 18.9747\n"
     ]
    },
    {
     "name": "stderr",
     "output_type": "stream",
     "text": [
      "Test_Loader: 100%|██████████| 288/288 [00:03<00:00, 83.53it/s]\n"
     ]
    },
    {
     "name": "stdout",
     "output_type": "stream",
     "text": [
      "Loss1: 11.7650, Loss2: 4.9034, Loss3: 20.7506\n"
     ]
    },
    {
     "name": "stderr",
     "output_type": "stream",
     "text": [
      "Test_Loader: 100%|██████████| 288/288 [00:03<00:00, 83.16it/s]\n"
     ]
    },
    {
     "name": "stdout",
     "output_type": "stream",
     "text": [
      "Loss1: 11.5514, Loss2: 4.6591, Loss3: 18.3492\n"
     ]
    },
    {
     "name": "stderr",
     "output_type": "stream",
     "text": [
      "Test_Loader: 100%|██████████| 288/288 [00:03<00:00, 76.37it/s]\n"
     ]
    },
    {
     "name": "stdout",
     "output_type": "stream",
     "text": [
      "Loss1: 11.8457, Loss2: 4.6767, Loss3: 18.5130\n"
     ]
    },
    {
     "name": "stderr",
     "output_type": "stream",
     "text": [
      "Test_Loader: 100%|██████████| 288/288 [00:03<00:00, 78.36it/s]\n"
     ]
    },
    {
     "name": "stdout",
     "output_type": "stream",
     "text": [
      "Loss1: 11.7666, Loss2: 4.8522, Loss3: 18.7468\n"
     ]
    },
    {
     "name": "stderr",
     "output_type": "stream",
     "text": [
      "Test_Loader: 100%|██████████| 288/288 [00:03<00:00, 74.48it/s]\n"
     ]
    },
    {
     "name": "stdout",
     "output_type": "stream",
     "text": [
      "Loss1: 12.4683, Loss2: 5.0719, Loss3: 22.0914\n"
     ]
    },
    {
     "name": "stderr",
     "output_type": "stream",
     "text": [
      "Test_Loader: 100%|██████████| 288/288 [00:03<00:00, 75.35it/s]\n"
     ]
    },
    {
     "name": "stdout",
     "output_type": "stream",
     "text": [
      "Loss1: 11.6477, Loss2: 4.4543, Loss3: 18.2913\n"
     ]
    },
    {
     "name": "stderr",
     "output_type": "stream",
     "text": [
      "Test_Loader: 100%|██████████| 288/288 [00:03<00:00, 76.38it/s]\n"
     ]
    },
    {
     "name": "stdout",
     "output_type": "stream",
     "text": [
      "Loss1: 11.5888, Loss2: 4.4159, Loss3: 18.1478\n"
     ]
    },
    {
     "name": "stderr",
     "output_type": "stream",
     "text": [
      "Test_Loader: 100%|██████████| 288/288 [00:03<00:00, 80.09it/s]\n"
     ]
    },
    {
     "name": "stdout",
     "output_type": "stream",
     "text": [
      "Loss1: 12.3697, Loss2: 5.3293, Loss3: 21.1838\n"
     ]
    },
    {
     "name": "stderr",
     "output_type": "stream",
     "text": [
      "Test_Loader: 100%|██████████| 288/288 [00:03<00:00, 80.40it/s]\n"
     ]
    },
    {
     "name": "stdout",
     "output_type": "stream",
     "text": [
      "Loss1: 12.0264, Loss2: 5.4306, Loss3: 19.4751\n"
     ]
    },
    {
     "name": "stderr",
     "output_type": "stream",
     "text": [
      "Test_Loader: 100%|██████████| 288/288 [00:03<00:00, 77.53it/s]\n"
     ]
    },
    {
     "name": "stdout",
     "output_type": "stream",
     "text": [
      "Loss1: 12.2499, Loss2: 5.5823, Loss3: 19.4632\n"
     ]
    },
    {
     "name": "stderr",
     "output_type": "stream",
     "text": [
      "Test_Loader: 100%|██████████| 288/288 [00:03<00:00, 76.90it/s]\n"
     ]
    },
    {
     "name": "stdout",
     "output_type": "stream",
     "text": [
      "Loss1: 11.9868, Loss2: 5.1863, Loss3: 19.4890\n"
     ]
    },
    {
     "name": "stderr",
     "output_type": "stream",
     "text": [
      "Test_Loader: 100%|██████████| 288/288 [00:03<00:00, 72.80it/s]\n"
     ]
    },
    {
     "name": "stdout",
     "output_type": "stream",
     "text": [
      "Loss1: 12.2990, Loss2: 5.3648, Loss3: 18.9843\n"
     ]
    },
    {
     "name": "stderr",
     "output_type": "stream",
     "text": [
      "Test_Loader: 100%|██████████| 288/288 [00:03<00:00, 72.69it/s]\n"
     ]
    },
    {
     "name": "stdout",
     "output_type": "stream",
     "text": [
      "Loss1: 12.2583, Loss2: 5.3550, Loss3: 19.4289\n"
     ]
    },
    {
     "name": "stderr",
     "output_type": "stream",
     "text": [
      "Test_Loader: 100%|██████████| 288/288 [00:03<00:00, 74.32it/s]\n"
     ]
    },
    {
     "name": "stdout",
     "output_type": "stream",
     "text": [
      "Loss1: 11.9458, Loss2: 5.3064, Loss3: 18.5520\n"
     ]
    },
    {
     "name": "stderr",
     "output_type": "stream",
     "text": [
      "Test_Loader: 100%|██████████| 288/288 [00:04<00:00, 71.42it/s]\n"
     ]
    },
    {
     "name": "stdout",
     "output_type": "stream",
     "text": [
      "Loss1: 12.0977, Loss2: 4.9990, Loss3: 18.7406\n"
     ]
    },
    {
     "name": "stderr",
     "output_type": "stream",
     "text": [
      "Test_Loader: 100%|██████████| 288/288 [00:03<00:00, 72.33it/s]\n"
     ]
    },
    {
     "name": "stdout",
     "output_type": "stream",
     "text": [
      "Loss1: 12.4130, Loss2: 5.2006, Loss3: 19.0166\n"
     ]
    },
    {
     "name": "stderr",
     "output_type": "stream",
     "text": [
      "Test_Loader: 100%|██████████| 288/288 [00:04<00:00, 69.85it/s]\n"
     ]
    },
    {
     "name": "stdout",
     "output_type": "stream",
     "text": [
      "Loss1: 12.3614, Loss2: 5.3943, Loss3: 19.1874\n"
     ]
    },
    {
     "name": "stderr",
     "output_type": "stream",
     "text": [
      "Test_Loader: 100%|██████████| 288/288 [00:04<00:00, 69.84it/s]\n"
     ]
    },
    {
     "name": "stdout",
     "output_type": "stream",
     "text": [
      "Loss1: 12.1243, Loss2: 5.1159, Loss3: 19.4845\n"
     ]
    },
    {
     "name": "stderr",
     "output_type": "stream",
     "text": [
      "Test_Loader: 100%|██████████| 288/288 [00:04<00:00, 68.10it/s]\n"
     ]
    },
    {
     "name": "stdout",
     "output_type": "stream",
     "text": [
      "Loss1: 12.5072, Loss2: 5.4277, Loss3: 20.8116\n"
     ]
    },
    {
     "name": "stderr",
     "output_type": "stream",
     "text": [
      "Test_Loader: 100%|██████████| 288/288 [00:04<00:00, 67.99it/s]\n"
     ]
    },
    {
     "name": "stdout",
     "output_type": "stream",
     "text": [
      "Loss1: 12.7292, Loss2: 5.5032, Loss3: 20.5545\n"
     ]
    },
    {
     "name": "stderr",
     "output_type": "stream",
     "text": [
      "Test_Loader: 100%|██████████| 288/288 [00:04<00:00, 67.42it/s]\n"
     ]
    },
    {
     "name": "stdout",
     "output_type": "stream",
     "text": [
      "Loss1: 12.8555, Loss2: 5.5049, Loss3: 19.8490\n"
     ]
    },
    {
     "name": "stderr",
     "output_type": "stream",
     "text": [
      "Test_Loader: 100%|██████████| 288/288 [00:03<00:00, 74.70it/s]\n"
     ]
    },
    {
     "name": "stdout",
     "output_type": "stream",
     "text": [
      "Loss1: 12.4073, Loss2: 5.4206, Loss3: 19.6251\n"
     ]
    },
    {
     "name": "stderr",
     "output_type": "stream",
     "text": [
      "Test_Loader: 100%|██████████| 288/288 [00:03<00:00, 80.77it/s]\n"
     ]
    },
    {
     "name": "stdout",
     "output_type": "stream",
     "text": [
      "Loss1: 12.0531, Loss2: 5.2544, Loss3: 19.1639\n"
     ]
    },
    {
     "name": "stderr",
     "output_type": "stream",
     "text": [
      "Test_Loader: 100%|██████████| 288/288 [00:03<00:00, 81.96it/s]\n"
     ]
    },
    {
     "name": "stdout",
     "output_type": "stream",
     "text": [
      "Loss1: 12.6038, Loss2: 5.4069, Loss3: 20.8242\n"
     ]
    },
    {
     "name": "stderr",
     "output_type": "stream",
     "text": [
      "Test_Loader: 100%|██████████| 288/288 [00:03<00:00, 85.36it/s]\n"
     ]
    },
    {
     "name": "stdout",
     "output_type": "stream",
     "text": [
      "Loss1: 11.7686, Loss2: 5.2553, Loss3: 19.2035\n"
     ]
    },
    {
     "name": "stderr",
     "output_type": "stream",
     "text": [
      "Test_Loader: 100%|██████████| 288/288 [00:03<00:00, 82.51it/s]\n"
     ]
    },
    {
     "name": "stdout",
     "output_type": "stream",
     "text": [
      "Loss1: 12.0356, Loss2: 5.0479, Loss3: 18.8371\n"
     ]
    },
    {
     "name": "stderr",
     "output_type": "stream",
     "text": [
      "Test_Loader: 100%|██████████| 288/288 [00:03<00:00, 82.81it/s]\n"
     ]
    },
    {
     "name": "stdout",
     "output_type": "stream",
     "text": [
      "Loss1: 12.1816, Loss2: 4.6287, Loss3: 22.6937\n"
     ]
    },
    {
     "name": "stderr",
     "output_type": "stream",
     "text": [
      "Test_Loader: 100%|██████████| 288/288 [00:03<00:00, 79.78it/s]\n"
     ]
    },
    {
     "name": "stdout",
     "output_type": "stream",
     "text": [
      "Loss1: 11.8306, Loss2: 4.9421, Loss3: 17.9099\n"
     ]
    },
    {
     "name": "stderr",
     "output_type": "stream",
     "text": [
      "Test_Loader: 100%|██████████| 288/288 [00:03<00:00, 78.62it/s]\n"
     ]
    },
    {
     "name": "stdout",
     "output_type": "stream",
     "text": [
      "Loss1: 11.4860, Loss2: 4.7025, Loss3: 18.4395\n"
     ]
    },
    {
     "name": "stderr",
     "output_type": "stream",
     "text": [
      "Test_Loader: 100%|██████████| 288/288 [00:03<00:00, 74.46it/s]\n"
     ]
    },
    {
     "name": "stdout",
     "output_type": "stream",
     "text": [
      "Loss1: 11.9845, Loss2: 4.8929, Loss3: 17.3792\n"
     ]
    },
    {
     "name": "stderr",
     "output_type": "stream",
     "text": [
      "Test_Loader: 100%|██████████| 288/288 [00:03<00:00, 75.34it/s]\n"
     ]
    },
    {
     "name": "stdout",
     "output_type": "stream",
     "text": [
      "Loss1: 12.1616, Loss2: 4.8525, Loss3: 18.0619\n"
     ]
    },
    {
     "name": "stderr",
     "output_type": "stream",
     "text": [
      "Test_Loader: 100%|██████████| 288/288 [00:03<00:00, 79.12it/s]\n"
     ]
    },
    {
     "name": "stdout",
     "output_type": "stream",
     "text": [
      "Loss1: 11.7627, Loss2: 4.9809, Loss3: 18.1005\n"
     ]
    },
    {
     "name": "stderr",
     "output_type": "stream",
     "text": [
      "Test_Loader: 100%|██████████| 288/288 [00:03<00:00, 87.06it/s]\n"
     ]
    },
    {
     "name": "stdout",
     "output_type": "stream",
     "text": [
      "Loss1: 12.1295, Loss2: 4.8371, Loss3: 17.9922\n"
     ]
    },
    {
     "name": "stderr",
     "output_type": "stream",
     "text": [
      "Test_Loader: 100%|██████████| 288/288 [00:03<00:00, 83.65it/s]\n"
     ]
    },
    {
     "name": "stdout",
     "output_type": "stream",
     "text": [
      "Loss1: 12.6492, Loss2: 4.7194, Loss3: 18.3212\n"
     ]
    },
    {
     "name": "stderr",
     "output_type": "stream",
     "text": [
      "Test_Loader: 100%|██████████| 288/288 [00:03<00:00, 84.53it/s]\n"
     ]
    },
    {
     "name": "stdout",
     "output_type": "stream",
     "text": [
      "Loss1: 12.4818, Loss2: 4.8258, Loss3: 17.4782\n"
     ]
    },
    {
     "name": "stderr",
     "output_type": "stream",
     "text": [
      "Test_Loader: 100%|██████████| 288/288 [00:03<00:00, 83.24it/s]\n"
     ]
    },
    {
     "name": "stdout",
     "output_type": "stream",
     "text": [
      "Loss1: 12.8863, Loss2: 4.7773, Loss3: 18.1799\n"
     ]
    },
    {
     "name": "stderr",
     "output_type": "stream",
     "text": [
      "Test_Loader: 100%|██████████| 288/288 [00:03<00:00, 79.62it/s]\n"
     ]
    },
    {
     "name": "stdout",
     "output_type": "stream",
     "text": [
      "Loss1: 12.3284, Loss2: 4.8858, Loss3: 17.7500\n"
     ]
    },
    {
     "name": "stderr",
     "output_type": "stream",
     "text": [
      "Test_Loader: 100%|██████████| 288/288 [00:03<00:00, 81.98it/s]\n"
     ]
    },
    {
     "name": "stdout",
     "output_type": "stream",
     "text": [
      "Loss1: 12.2003, Loss2: 4.4498, Loss3: 18.3595\n"
     ]
    },
    {
     "name": "stderr",
     "output_type": "stream",
     "text": [
      "Test_Loader: 100%|██████████| 288/288 [00:03<00:00, 79.63it/s]\n"
     ]
    },
    {
     "name": "stdout",
     "output_type": "stream",
     "text": [
      "Loss1: 11.9422, Loss2: 4.6453, Loss3: 17.0594\n"
     ]
    },
    {
     "name": "stderr",
     "output_type": "stream",
     "text": [
      "Test_Loader: 100%|██████████| 288/288 [00:03<00:00, 75.41it/s]\n"
     ]
    },
    {
     "name": "stdout",
     "output_type": "stream",
     "text": [
      "Loss1: 12.3934, Loss2: 4.7988, Loss3: 17.6879\n"
     ]
    },
    {
     "name": "stderr",
     "output_type": "stream",
     "text": [
      "Test_Loader: 100%|██████████| 288/288 [00:03<00:00, 74.44it/s]\n"
     ]
    },
    {
     "name": "stdout",
     "output_type": "stream",
     "text": [
      "Loss1: 12.4917, Loss2: 4.6137, Loss3: 17.4210\n"
     ]
    },
    {
     "name": "stderr",
     "output_type": "stream",
     "text": [
      "Test_Loader: 100%|██████████| 288/288 [00:03<00:00, 72.80it/s]\n"
     ]
    },
    {
     "name": "stdout",
     "output_type": "stream",
     "text": [
      "Loss1: 12.3003, Loss2: 4.8334, Loss3: 17.4001\n"
     ]
    },
    {
     "name": "stderr",
     "output_type": "stream",
     "text": [
      "Test_Loader: 100%|██████████| 288/288 [00:03<00:00, 72.54it/s]\n"
     ]
    },
    {
     "name": "stdout",
     "output_type": "stream",
     "text": [
      "Loss1: 12.7097, Loss2: 4.6318, Loss3: 18.1962\n"
     ]
    },
    {
     "name": "stderr",
     "output_type": "stream",
     "text": [
      "Test_Loader: 100%|██████████| 288/288 [00:03<00:00, 74.90it/s]\n"
     ]
    },
    {
     "name": "stdout",
     "output_type": "stream",
     "text": [
      "Loss1: 12.3673, Loss2: 4.7305, Loss3: 17.6734\n"
     ]
    },
    {
     "name": "stderr",
     "output_type": "stream",
     "text": [
      "Test_Loader: 100%|██████████| 288/288 [00:03<00:00, 84.16it/s]\n"
     ]
    },
    {
     "name": "stdout",
     "output_type": "stream",
     "text": [
      "Loss1: 12.1443, Loss2: 4.5471, Loss3: 17.2535\n"
     ]
    },
    {
     "name": "stderr",
     "output_type": "stream",
     "text": [
      "Test_Loader: 100%|██████████| 288/288 [00:03<00:00, 83.80it/s]\n"
     ]
    },
    {
     "name": "stdout",
     "output_type": "stream",
     "text": [
      "Loss1: 12.8251, Loss2: 4.6584, Loss3: 18.0234\n"
     ]
    },
    {
     "name": "stderr",
     "output_type": "stream",
     "text": [
      "Test_Loader: 100%|██████████| 288/288 [00:03<00:00, 83.18it/s]\n"
     ]
    },
    {
     "name": "stdout",
     "output_type": "stream",
     "text": [
      "Loss1: 12.1955, Loss2: 4.5689, Loss3: 17.4185\n"
     ]
    },
    {
     "name": "stderr",
     "output_type": "stream",
     "text": [
      "Test_Loader: 100%|██████████| 288/288 [00:03<00:00, 78.43it/s]\n"
     ]
    },
    {
     "name": "stdout",
     "output_type": "stream",
     "text": [
      "Loss1: 12.3177, Loss2: 4.7155, Loss3: 17.7857\n"
     ]
    },
    {
     "name": "stderr",
     "output_type": "stream",
     "text": [
      "Test_Loader: 100%|██████████| 288/288 [00:03<00:00, 79.21it/s]\n"
     ]
    },
    {
     "name": "stdout",
     "output_type": "stream",
     "text": [
      "Loss1: 12.8083, Loss2: 4.9359, Loss3: 17.7289\n"
     ]
    },
    {
     "name": "stderr",
     "output_type": "stream",
     "text": [
      "Test_Loader: 100%|██████████| 288/288 [00:03<00:00, 80.35it/s]\n"
     ]
    },
    {
     "name": "stdout",
     "output_type": "stream",
     "text": [
      "Loss1: 12.4697, Loss2: 4.7687, Loss3: 17.6332\n"
     ]
    },
    {
     "name": "stderr",
     "output_type": "stream",
     "text": [
      "Test_Loader: 100%|██████████| 288/288 [00:03<00:00, 75.53it/s]\n"
     ]
    },
    {
     "name": "stdout",
     "output_type": "stream",
     "text": [
      "Loss1: 12.8184, Loss2: 5.0965, Loss3: 17.8113\n"
     ]
    },
    {
     "name": "stderr",
     "output_type": "stream",
     "text": [
      "Test_Loader: 100%|██████████| 288/288 [00:03<00:00, 74.79it/s]\n"
     ]
    },
    {
     "name": "stdout",
     "output_type": "stream",
     "text": [
      "Loss1: 13.2583, Loss2: 4.6619, Loss3: 17.7891\n"
     ]
    },
    {
     "name": "stderr",
     "output_type": "stream",
     "text": [
      "Test_Loader: 100%|██████████| 288/288 [00:03<00:00, 76.72it/s]\n"
     ]
    },
    {
     "name": "stdout",
     "output_type": "stream",
     "text": [
      "Loss1: 13.4695, Loss2: 4.8442, Loss3: 17.9388\n"
     ]
    },
    {
     "name": "stderr",
     "output_type": "stream",
     "text": [
      "Test_Loader: 100%|██████████| 288/288 [00:03<00:00, 79.23it/s]\n"
     ]
    },
    {
     "name": "stdout",
     "output_type": "stream",
     "text": [
      "Loss1: 13.2776, Loss2: 5.0367, Loss3: 18.3162\n"
     ]
    },
    {
     "name": "stderr",
     "output_type": "stream",
     "text": [
      "Test_Loader: 100%|██████████| 288/288 [00:03<00:00, 76.72it/s]\n"
     ]
    },
    {
     "name": "stdout",
     "output_type": "stream",
     "text": [
      "Loss1: 13.3635, Loss2: 4.9569, Loss3: 18.1357\n"
     ]
    },
    {
     "name": "stderr",
     "output_type": "stream",
     "text": [
      "Test_Loader: 100%|██████████| 288/288 [00:03<00:00, 78.41it/s]\n"
     ]
    },
    {
     "name": "stdout",
     "output_type": "stream",
     "text": [
      "Loss1: 13.3403, Loss2: 4.9364, Loss3: 17.7604\n"
     ]
    },
    {
     "name": "stderr",
     "output_type": "stream",
     "text": [
      "Test_Loader: 100%|██████████| 288/288 [00:03<00:00, 78.08it/s]\n"
     ]
    },
    {
     "name": "stdout",
     "output_type": "stream",
     "text": [
      "Loss1: 12.9233, Loss2: 5.1277, Loss3: 17.8260\n"
     ]
    },
    {
     "name": "stderr",
     "output_type": "stream",
     "text": [
      "Test_Loader: 100%|██████████| 288/288 [00:03<00:00, 76.64it/s]\n"
     ]
    },
    {
     "name": "stdout",
     "output_type": "stream",
     "text": [
      "Loss1: 13.5174, Loss2: 5.2176, Loss3: 18.0320\n"
     ]
    },
    {
     "name": "stderr",
     "output_type": "stream",
     "text": [
      "Test_Loader: 100%|██████████| 288/288 [00:03<00:00, 78.59it/s]\n"
     ]
    },
    {
     "name": "stdout",
     "output_type": "stream",
     "text": [
      "Loss1: 13.4434, Loss2: 4.9648, Loss3: 19.0267\n"
     ]
    },
    {
     "name": "stderr",
     "output_type": "stream",
     "text": [
      "Test_Loader: 100%|██████████| 288/288 [00:03<00:00, 79.72it/s]\n"
     ]
    },
    {
     "name": "stdout",
     "output_type": "stream",
     "text": [
      "Loss1: 14.2938, Loss2: 5.8657, Loss3: 19.4690\n"
     ]
    },
    {
     "name": "stderr",
     "output_type": "stream",
     "text": [
      "Test_Loader: 100%|██████████| 288/288 [00:03<00:00, 83.70it/s]\n"
     ]
    },
    {
     "name": "stdout",
     "output_type": "stream",
     "text": [
      "Loss1: 14.6089, Loss2: 5.8355, Loss3: 20.1102\n"
     ]
    },
    {
     "name": "stderr",
     "output_type": "stream",
     "text": [
      "Test_Loader: 100%|██████████| 288/288 [00:03<00:00, 83.29it/s]\n"
     ]
    },
    {
     "name": "stdout",
     "output_type": "stream",
     "text": [
      "Loss1: 13.8208, Loss2: 5.8268, Loss3: 18.8947\n"
     ]
    },
    {
     "name": "stderr",
     "output_type": "stream",
     "text": [
      "Test_Loader: 100%|██████████| 288/288 [00:03<00:00, 80.19it/s]\n"
     ]
    },
    {
     "name": "stdout",
     "output_type": "stream",
     "text": [
      "Loss1: 14.4388, Loss2: 5.6251, Loss3: 19.1071\n"
     ]
    },
    {
     "name": "stderr",
     "output_type": "stream",
     "text": [
      "Test_Loader: 100%|██████████| 288/288 [00:03<00:00, 82.31it/s]\n"
     ]
    },
    {
     "name": "stdout",
     "output_type": "stream",
     "text": [
      "Loss1: 14.3433, Loss2: 6.2524, Loss3: 19.6377\n"
     ]
    },
    {
     "name": "stderr",
     "output_type": "stream",
     "text": [
      "Test_Loader: 100%|██████████| 288/288 [00:03<00:00, 81.62it/s]\n"
     ]
    },
    {
     "name": "stdout",
     "output_type": "stream",
     "text": [
      "Loss1: 14.1356, Loss2: 5.7694, Loss3: 18.9776\n"
     ]
    },
    {
     "name": "stderr",
     "output_type": "stream",
     "text": [
      "Test_Loader: 100%|██████████| 288/288 [00:03<00:00, 74.59it/s]\n"
     ]
    },
    {
     "name": "stdout",
     "output_type": "stream",
     "text": [
      "Loss1: 14.0330, Loss2: 5.7732, Loss3: 18.4944\n"
     ]
    },
    {
     "name": "stderr",
     "output_type": "stream",
     "text": [
      "Test_Loader: 100%|██████████| 288/288 [00:03<00:00, 74.75it/s]\n"
     ]
    },
    {
     "name": "stdout",
     "output_type": "stream",
     "text": [
      "Loss1: 13.0868, Loss2: 5.6809, Loss3: 17.6468\n"
     ]
    },
    {
     "name": "stderr",
     "output_type": "stream",
     "text": [
      "Test_Loader: 100%|██████████| 288/288 [00:03<00:00, 74.66it/s]\n"
     ]
    },
    {
     "name": "stdout",
     "output_type": "stream",
     "text": [
      "Loss1: 14.2190, Loss2: 5.5764, Loss3: 19.3155\n"
     ]
    },
    {
     "name": "stderr",
     "output_type": "stream",
     "text": [
      "Test_Loader: 100%|██████████| 288/288 [00:03<00:00, 79.67it/s]\n"
     ]
    },
    {
     "name": "stdout",
     "output_type": "stream",
     "text": [
      "Loss1: 13.9452, Loss2: 6.0764, Loss3: 19.2878\n"
     ]
    },
    {
     "name": "stderr",
     "output_type": "stream",
     "text": [
      "Test_Loader: 100%|██████████| 288/288 [00:03<00:00, 80.36it/s]\n"
     ]
    },
    {
     "name": "stdout",
     "output_type": "stream",
     "text": [
      "Loss1: 13.5787, Loss2: 5.7305, Loss3: 18.0383\n"
     ]
    },
    {
     "name": "stderr",
     "output_type": "stream",
     "text": [
      "Test_Loader: 100%|██████████| 288/288 [00:03<00:00, 77.92it/s]\n"
     ]
    },
    {
     "name": "stdout",
     "output_type": "stream",
     "text": [
      "Loss1: 13.1509, Loss2: 6.0156, Loss3: 17.5719\n"
     ]
    },
    {
     "name": "stderr",
     "output_type": "stream",
     "text": [
      "Test_Loader: 100%|██████████| 288/288 [00:03<00:00, 85.47it/s]\n"
     ]
    },
    {
     "name": "stdout",
     "output_type": "stream",
     "text": [
      "Loss1: 13.8238, Loss2: 6.0743, Loss3: 18.8496\n"
     ]
    },
    {
     "name": "stderr",
     "output_type": "stream",
     "text": [
      "Test_Loader: 100%|██████████| 288/288 [00:03<00:00, 84.75it/s]\n"
     ]
    },
    {
     "name": "stdout",
     "output_type": "stream",
     "text": [
      "Loss1: 14.1372, Loss2: 6.0609, Loss3: 18.2097\n"
     ]
    },
    {
     "name": "stderr",
     "output_type": "stream",
     "text": [
      "Test_Loader: 100%|██████████| 288/288 [00:03<00:00, 84.49it/s]\n"
     ]
    },
    {
     "name": "stdout",
     "output_type": "stream",
     "text": [
      "Loss1: 14.1503, Loss2: 6.2067, Loss3: 18.3582\n"
     ]
    },
    {
     "name": "stderr",
     "output_type": "stream",
     "text": [
      "Test_Loader: 100%|██████████| 288/288 [00:03<00:00, 77.77it/s]\n"
     ]
    },
    {
     "name": "stdout",
     "output_type": "stream",
     "text": [
      "Loss1: 13.7135, Loss2: 5.9049, Loss3: 18.0274\n"
     ]
    },
    {
     "name": "stderr",
     "output_type": "stream",
     "text": [
      "Test_Loader: 100%|██████████| 288/288 [00:03<00:00, 76.58it/s]\n"
     ]
    },
    {
     "name": "stdout",
     "output_type": "stream",
     "text": [
      "Loss1: 13.5048, Loss2: 6.0206, Loss3: 17.5843\n"
     ]
    },
    {
     "name": "stderr",
     "output_type": "stream",
     "text": [
      "Test_Loader: 100%|██████████| 288/288 [00:03<00:00, 79.07it/s]\n"
     ]
    },
    {
     "name": "stdout",
     "output_type": "stream",
     "text": [
      "Loss1: 13.4973, Loss2: 5.9856, Loss3: 19.2810\n"
     ]
    },
    {
     "name": "stderr",
     "output_type": "stream",
     "text": [
      "Test_Loader: 100%|██████████| 288/288 [00:03<00:00, 78.29it/s]\n"
     ]
    },
    {
     "name": "stdout",
     "output_type": "stream",
     "text": [
      "Loss1: 14.7960, Loss2: 5.9104, Loss3: 19.9060\n"
     ]
    },
    {
     "name": "stderr",
     "output_type": "stream",
     "text": [
      "Test_Loader: 100%|██████████| 288/288 [00:03<00:00, 83.39it/s]\n"
     ]
    },
    {
     "name": "stdout",
     "output_type": "stream",
     "text": [
      "Loss1: 14.2730, Loss2: 5.4169, Loss3: 20.5243\n"
     ]
    },
    {
     "name": "stderr",
     "output_type": "stream",
     "text": [
      "Test_Loader: 100%|██████████| 288/288 [00:03<00:00, 84.17it/s]\n"
     ]
    },
    {
     "name": "stdout",
     "output_type": "stream",
     "text": [
      "Loss1: 13.7777, Loss2: 5.7940, Loss3: 17.7534\n"
     ]
    },
    {
     "name": "stderr",
     "output_type": "stream",
     "text": [
      "Test_Loader: 100%|██████████| 288/288 [00:03<00:00, 77.02it/s]\n"
     ]
    },
    {
     "name": "stdout",
     "output_type": "stream",
     "text": [
      "Loss1: 14.1566, Loss2: 5.8332, Loss3: 18.3452\n"
     ]
    },
    {
     "name": "stderr",
     "output_type": "stream",
     "text": [
      "Test_Loader: 100%|██████████| 288/288 [00:03<00:00, 78.54it/s]\n"
     ]
    },
    {
     "name": "stdout",
     "output_type": "stream",
     "text": [
      "Loss1: 14.2258, Loss2: 5.7481, Loss3: 17.6794\n"
     ]
    },
    {
     "name": "stderr",
     "output_type": "stream",
     "text": [
      "Test_Loader: 100%|██████████| 288/288 [00:03<00:00, 83.83it/s]\n"
     ]
    },
    {
     "name": "stdout",
     "output_type": "stream",
     "text": [
      "Loss1: 13.7266, Loss2: 5.6872, Loss3: 19.7811\n"
     ]
    },
    {
     "name": "stderr",
     "output_type": "stream",
     "text": [
      "Test_Loader: 100%|██████████| 288/288 [00:03<00:00, 85.25it/s]\n"
     ]
    },
    {
     "name": "stdout",
     "output_type": "stream",
     "text": [
      "Loss1: 14.0245, Loss2: 6.0273, Loss3: 18.7791\n"
     ]
    },
    {
     "name": "stderr",
     "output_type": "stream",
     "text": [
      "Test_Loader: 100%|██████████| 288/288 [00:03<00:00, 83.95it/s]\n"
     ]
    },
    {
     "name": "stdout",
     "output_type": "stream",
     "text": [
      "Loss1: 13.6952, Loss2: 5.6236, Loss3: 19.4196\n"
     ]
    },
    {
     "name": "stderr",
     "output_type": "stream",
     "text": [
      "Test_Loader: 100%|██████████| 288/288 [00:03<00:00, 83.06it/s]\n"
     ]
    },
    {
     "name": "stdout",
     "output_type": "stream",
     "text": [
      "Loss1: 13.9338, Loss2: 5.4737, Loss3: 17.6076\n"
     ]
    },
    {
     "name": "stderr",
     "output_type": "stream",
     "text": [
      "Test_Loader: 100%|██████████| 288/288 [00:03<00:00, 80.10it/s]\n"
     ]
    },
    {
     "name": "stdout",
     "output_type": "stream",
     "text": [
      "Loss1: 13.6074, Loss2: 5.5502, Loss3: 17.4619\n"
     ]
    },
    {
     "name": "stderr",
     "output_type": "stream",
     "text": [
      "Test_Loader: 100%|██████████| 288/288 [00:03<00:00, 83.04it/s]\n"
     ]
    },
    {
     "name": "stdout",
     "output_type": "stream",
     "text": [
      "Loss1: 13.8144, Loss2: 5.8446, Loss3: 16.8641\n"
     ]
    },
    {
     "name": "stderr",
     "output_type": "stream",
     "text": [
      "Test_Loader: 100%|██████████| 288/288 [00:03<00:00, 81.25it/s]\n"
     ]
    },
    {
     "name": "stdout",
     "output_type": "stream",
     "text": [
      "Loss1: 13.1098, Loss2: 5.3426, Loss3: 17.7590\n"
     ]
    },
    {
     "name": "stderr",
     "output_type": "stream",
     "text": [
      "Test_Loader: 100%|██████████| 288/288 [00:03<00:00, 81.52it/s]\n"
     ]
    },
    {
     "name": "stdout",
     "output_type": "stream",
     "text": [
      "Loss1: 14.4952, Loss2: 6.0245, Loss3: 22.7862\n"
     ]
    },
    {
     "name": "stderr",
     "output_type": "stream",
     "text": [
      "Test_Loader: 100%|██████████| 288/288 [00:03<00:00, 80.47it/s]\n"
     ]
    },
    {
     "name": "stdout",
     "output_type": "stream",
     "text": [
      "Loss1: 13.1058, Loss2: 5.6721, Loss3: 17.3988\n"
     ]
    },
    {
     "name": "stderr",
     "output_type": "stream",
     "text": [
      "Test_Loader: 100%|██████████| 288/288 [00:03<00:00, 84.14it/s]\n"
     ]
    },
    {
     "name": "stdout",
     "output_type": "stream",
     "text": [
      "Loss1: 13.3564, Loss2: 5.5841, Loss3: 17.4331\n"
     ]
    },
    {
     "name": "stderr",
     "output_type": "stream",
     "text": [
      "Test_Loader: 100%|██████████| 288/288 [00:03<00:00, 83.75it/s]\n"
     ]
    },
    {
     "name": "stdout",
     "output_type": "stream",
     "text": [
      "Loss1: 13.2105, Loss2: 5.2813, Loss3: 17.8958\n"
     ]
    },
    {
     "name": "stderr",
     "output_type": "stream",
     "text": [
      "Test_Loader: 100%|██████████| 288/288 [00:03<00:00, 83.33it/s]\n"
     ]
    },
    {
     "name": "stdout",
     "output_type": "stream",
     "text": [
      "Loss1: 12.9894, Loss2: 5.2033, Loss3: 17.9916\n"
     ]
    },
    {
     "name": "stderr",
     "output_type": "stream",
     "text": [
      "Test_Loader: 100%|██████████| 288/288 [00:03<00:00, 85.26it/s]\n"
     ]
    },
    {
     "name": "stdout",
     "output_type": "stream",
     "text": [
      "Loss1: 12.9730, Loss2: 5.1640, Loss3: 18.5308\n"
     ]
    },
    {
     "name": "stderr",
     "output_type": "stream",
     "text": [
      "Test_Loader: 100%|██████████| 288/288 [00:03<00:00, 87.60it/s]\n"
     ]
    },
    {
     "name": "stdout",
     "output_type": "stream",
     "text": [
      "Loss1: 12.3926, Loss2: 5.5021, Loss3: 18.0468\n"
     ]
    },
    {
     "name": "stderr",
     "output_type": "stream",
     "text": [
      "Test_Loader: 100%|██████████| 288/288 [00:03<00:00, 86.40it/s]\n"
     ]
    },
    {
     "name": "stdout",
     "output_type": "stream",
     "text": [
      "Loss1: 12.8450, Loss2: 5.4443, Loss3: 17.0221\n"
     ]
    },
    {
     "name": "stderr",
     "output_type": "stream",
     "text": [
      "Test_Loader: 100%|██████████| 288/288 [00:03<00:00, 81.13it/s]\n"
     ]
    },
    {
     "name": "stdout",
     "output_type": "stream",
     "text": [
      "Loss1: 12.4178, Loss2: 4.8971, Loss3: 17.1746\n"
     ]
    },
    {
     "name": "stderr",
     "output_type": "stream",
     "text": [
      "Test_Loader: 100%|██████████| 288/288 [00:03<00:00, 77.61it/s]\n"
     ]
    },
    {
     "name": "stdout",
     "output_type": "stream",
     "text": [
      "Loss1: 13.0496, Loss2: 5.5572, Loss3: 19.3071\n"
     ]
    },
    {
     "name": "stderr",
     "output_type": "stream",
     "text": [
      "Test_Loader: 100%|██████████| 288/288 [00:03<00:00, 77.54it/s]\n"
     ]
    },
    {
     "name": "stdout",
     "output_type": "stream",
     "text": [
      "Loss1: 13.9516, Loss2: 5.5252, Loss3: 19.7531\n"
     ]
    },
    {
     "name": "stderr",
     "output_type": "stream",
     "text": [
      "Test_Loader: 100%|██████████| 288/288 [00:04<00:00, 69.46it/s]\n"
     ]
    },
    {
     "name": "stdout",
     "output_type": "stream",
     "text": [
      "Loss1: 14.0310, Loss2: 6.0931, Loss3: 18.8622\n"
     ]
    },
    {
     "name": "stderr",
     "output_type": "stream",
     "text": [
      "Test_Loader: 100%|██████████| 288/288 [00:03<00:00, 72.20it/s]\n"
     ]
    },
    {
     "name": "stdout",
     "output_type": "stream",
     "text": [
      "Loss1: 13.9898, Loss2: 5.8084, Loss3: 18.7740\n"
     ]
    },
    {
     "name": "stderr",
     "output_type": "stream",
     "text": [
      "Test_Loader: 100%|██████████| 288/288 [00:03<00:00, 72.45it/s]\n"
     ]
    },
    {
     "name": "stdout",
     "output_type": "stream",
     "text": [
      "Loss1: 14.0614, Loss2: 5.4408, Loss3: 18.6382\n"
     ]
    },
    {
     "name": "stderr",
     "output_type": "stream",
     "text": [
      "Test_Loader: 100%|██████████| 288/288 [00:03<00:00, 77.90it/s]\n"
     ]
    },
    {
     "name": "stdout",
     "output_type": "stream",
     "text": [
      "Loss1: 13.4535, Loss2: 4.7205, Loss3: 17.4573\n"
     ]
    },
    {
     "name": "stderr",
     "output_type": "stream",
     "text": [
      "Test_Loader: 100%|██████████| 288/288 [00:03<00:00, 77.02it/s]\n"
     ]
    },
    {
     "name": "stdout",
     "output_type": "stream",
     "text": [
      "Loss1: 13.3397, Loss2: 4.8449, Loss3: 17.7838\n"
     ]
    },
    {
     "name": "stderr",
     "output_type": "stream",
     "text": [
      "Test_Loader: 100%|██████████| 288/288 [00:03<00:00, 79.54it/s]\n"
     ]
    },
    {
     "name": "stdout",
     "output_type": "stream",
     "text": [
      "Loss1: 13.7198, Loss2: 4.9527, Loss3: 17.2193\n"
     ]
    },
    {
     "name": "stderr",
     "output_type": "stream",
     "text": [
      "Test_Loader: 100%|██████████| 288/288 [00:03<00:00, 79.51it/s]\n"
     ]
    },
    {
     "name": "stdout",
     "output_type": "stream",
     "text": [
      "Loss1: 13.6235, Loss2: 4.4296, Loss3: 18.0399\n"
     ]
    },
    {
     "name": "stderr",
     "output_type": "stream",
     "text": [
      "Test_Loader: 100%|██████████| 288/288 [00:03<00:00, 79.91it/s]\n"
     ]
    },
    {
     "name": "stdout",
     "output_type": "stream",
     "text": [
      "Loss1: 13.8367, Loss2: 5.1938, Loss3: 17.7463\n"
     ]
    },
    {
     "name": "stderr",
     "output_type": "stream",
     "text": [
      "Test_Loader: 100%|██████████| 288/288 [00:03<00:00, 76.04it/s]\n"
     ]
    },
    {
     "name": "stdout",
     "output_type": "stream",
     "text": [
      "Loss1: 13.3179, Loss2: 4.7935, Loss3: 18.1771\n"
     ]
    },
    {
     "name": "stderr",
     "output_type": "stream",
     "text": [
      "Test_Loader: 100%|██████████| 288/288 [00:03<00:00, 79.45it/s]\n"
     ]
    },
    {
     "name": "stdout",
     "output_type": "stream",
     "text": [
      "Loss1: 13.3826, Loss2: 4.7376, Loss3: 17.9082\n"
     ]
    },
    {
     "name": "stderr",
     "output_type": "stream",
     "text": [
      "Test_Loader: 100%|██████████| 288/288 [00:03<00:00, 79.51it/s]\n"
     ]
    },
    {
     "name": "stdout",
     "output_type": "stream",
     "text": [
      "Loss1: 13.7006, Loss2: 4.6785, Loss3: 19.4481\n"
     ]
    },
    {
     "name": "stderr",
     "output_type": "stream",
     "text": [
      "Test_Loader: 100%|██████████| 288/288 [00:03<00:00, 80.94it/s]\n"
     ]
    },
    {
     "name": "stdout",
     "output_type": "stream",
     "text": [
      "Loss1: 13.1049, Loss2: 4.6772, Loss3: 17.3633\n"
     ]
    },
    {
     "name": "stderr",
     "output_type": "stream",
     "text": [
      "Test_Loader: 100%|██████████| 288/288 [00:03<00:00, 84.49it/s]\n"
     ]
    },
    {
     "name": "stdout",
     "output_type": "stream",
     "text": [
      "Loss1: 13.3291, Loss2: 4.9041, Loss3: 17.5269\n"
     ]
    },
    {
     "name": "stderr",
     "output_type": "stream",
     "text": [
      "Test_Loader: 100%|██████████| 288/288 [00:03<00:00, 81.38it/s]\n"
     ]
    },
    {
     "name": "stdout",
     "output_type": "stream",
     "text": [
      "Loss1: 12.9139, Loss2: 4.8643, Loss3: 17.4095\n"
     ]
    },
    {
     "name": "stderr",
     "output_type": "stream",
     "text": [
      "Test_Loader: 100%|██████████| 288/288 [00:03<00:00, 81.69it/s]\n"
     ]
    },
    {
     "name": "stdout",
     "output_type": "stream",
     "text": [
      "Loss1: 13.1845, Loss2: 4.5115, Loss3: 16.7869\n"
     ]
    },
    {
     "name": "stderr",
     "output_type": "stream",
     "text": [
      "Test_Loader: 100%|██████████| 288/288 [00:03<00:00, 77.88it/s]\n"
     ]
    },
    {
     "name": "stdout",
     "output_type": "stream",
     "text": [
      "Loss1: 14.0257, Loss2: 4.6253, Loss3: 17.7689\n"
     ]
    },
    {
     "name": "stderr",
     "output_type": "stream",
     "text": [
      "Test_Loader: 100%|██████████| 288/288 [00:03<00:00, 78.67it/s]\n"
     ]
    },
    {
     "name": "stdout",
     "output_type": "stream",
     "text": [
      "Loss1: 12.9392, Loss2: 4.9499, Loss3: 17.3521\n"
     ]
    },
    {
     "name": "stderr",
     "output_type": "stream",
     "text": [
      "Test_Loader: 100%|██████████| 288/288 [00:03<00:00, 84.40it/s]\n"
     ]
    },
    {
     "name": "stdout",
     "output_type": "stream",
     "text": [
      "Loss1: 13.8544, Loss2: 4.9951, Loss3: 17.7649\n"
     ]
    },
    {
     "name": "stderr",
     "output_type": "stream",
     "text": [
      "Test_Loader: 100%|██████████| 288/288 [00:03<00:00, 86.83it/s]\n"
     ]
    },
    {
     "name": "stdout",
     "output_type": "stream",
     "text": [
      "Loss1: 13.1763, Loss2: 4.5248, Loss3: 20.4088\n"
     ]
    },
    {
     "name": "stderr",
     "output_type": "stream",
     "text": [
      "Test_Loader: 100%|██████████| 288/288 [00:03<00:00, 88.24it/s]\n"
     ]
    },
    {
     "name": "stdout",
     "output_type": "stream",
     "text": [
      "Loss1: 13.0503, Loss2: 4.6803, Loss3: 17.7295\n"
     ]
    },
    {
     "name": "stderr",
     "output_type": "stream",
     "text": [
      "Test_Loader: 100%|██████████| 288/288 [00:03<00:00, 80.90it/s]\n"
     ]
    },
    {
     "name": "stdout",
     "output_type": "stream",
     "text": [
      "Loss1: 14.3227, Loss2: 4.6068, Loss3: 17.2091\n"
     ]
    },
    {
     "name": "stderr",
     "output_type": "stream",
     "text": [
      "Test_Loader: 100%|██████████| 288/288 [00:03<00:00, 74.98it/s]\n"
     ]
    },
    {
     "name": "stdout",
     "output_type": "stream",
     "text": [
      "Loss1: 13.3137, Loss2: 4.8870, Loss3: 16.9393\n"
     ]
    },
    {
     "name": "stderr",
     "output_type": "stream",
     "text": [
      "Test_Loader: 100%|██████████| 288/288 [00:03<00:00, 75.04it/s]\n"
     ]
    },
    {
     "name": "stdout",
     "output_type": "stream",
     "text": [
      "Loss1: 13.2058, Loss2: 4.6614, Loss3: 16.9630\n"
     ]
    },
    {
     "name": "stderr",
     "output_type": "stream",
     "text": [
      "Test_Loader: 100%|██████████| 288/288 [00:03<00:00, 76.69it/s]\n"
     ]
    },
    {
     "name": "stdout",
     "output_type": "stream",
     "text": [
      "Loss1: 13.0252, Loss2: 4.7235, Loss3: 17.8983\n"
     ]
    },
    {
     "name": "stderr",
     "output_type": "stream",
     "text": [
      "Test_Loader: 100%|██████████| 288/288 [00:03<00:00, 78.11it/s]\n"
     ]
    },
    {
     "name": "stdout",
     "output_type": "stream",
     "text": [
      "Loss1: 13.5292, Loss2: 4.7544, Loss3: 18.2096\n"
     ]
    },
    {
     "name": "stderr",
     "output_type": "stream",
     "text": [
      "Test_Loader: 100%|██████████| 288/288 [00:03<00:00, 79.80it/s]\n"
     ]
    },
    {
     "name": "stdout",
     "output_type": "stream",
     "text": [
      "Loss1: 13.8355, Loss2: 4.6218, Loss3: 17.2350\n"
     ]
    },
    {
     "name": "stderr",
     "output_type": "stream",
     "text": [
      "Test_Loader: 100%|██████████| 288/288 [00:03<00:00, 80.20it/s]\n"
     ]
    },
    {
     "name": "stdout",
     "output_type": "stream",
     "text": [
      "Loss1: 12.9136, Loss2: 4.9334, Loss3: 18.4380\n"
     ]
    },
    {
     "name": "stderr",
     "output_type": "stream",
     "text": [
      "Test_Loader: 100%|██████████| 288/288 [00:03<00:00, 80.83it/s]\n"
     ]
    },
    {
     "name": "stdout",
     "output_type": "stream",
     "text": [
      "Loss1: 13.0027, Loss2: 4.9262, Loss3: 17.2729\n"
     ]
    },
    {
     "name": "stderr",
     "output_type": "stream",
     "text": [
      "Test_Loader: 100%|██████████| 288/288 [00:03<00:00, 81.68it/s]\n"
     ]
    },
    {
     "name": "stdout",
     "output_type": "stream",
     "text": [
      "Loss1: 12.8949, Loss2: 4.7144, Loss3: 16.8880\n"
     ]
    },
    {
     "name": "stderr",
     "output_type": "stream",
     "text": [
      "Test_Loader: 100%|██████████| 288/288 [00:03<00:00, 80.04it/s]\n"
     ]
    },
    {
     "name": "stdout",
     "output_type": "stream",
     "text": [
      "Loss1: 12.3940, Loss2: 4.7613, Loss3: 15.8001\n"
     ]
    },
    {
     "name": "stderr",
     "output_type": "stream",
     "text": [
      "Test_Loader: 100%|██████████| 288/288 [00:03<00:00, 80.40it/s]\n"
     ]
    },
    {
     "name": "stdout",
     "output_type": "stream",
     "text": [
      "Loss1: 12.5105, Loss2: 4.4911, Loss3: 17.6166\n"
     ]
    },
    {
     "name": "stderr",
     "output_type": "stream",
     "text": [
      "Test_Loader: 100%|██████████| 288/288 [00:03<00:00, 82.05it/s]\n"
     ]
    },
    {
     "name": "stdout",
     "output_type": "stream",
     "text": [
      "Loss1: 12.5327, Loss2: 4.7644, Loss3: 16.4158\n"
     ]
    },
    {
     "name": "stderr",
     "output_type": "stream",
     "text": [
      "Test_Loader: 100%|██████████| 288/288 [00:03<00:00, 73.84it/s]\n"
     ]
    },
    {
     "name": "stdout",
     "output_type": "stream",
     "text": [
      "Loss1: 12.3755, Loss2: 4.6672, Loss3: 16.4355\n"
     ]
    },
    {
     "name": "stderr",
     "output_type": "stream",
     "text": [
      "Test_Loader: 100%|██████████| 288/288 [00:03<00:00, 72.58it/s]\n"
     ]
    },
    {
     "name": "stdout",
     "output_type": "stream",
     "text": [
      "Loss1: 12.7643, Loss2: 4.5571, Loss3: 17.4750\n"
     ]
    },
    {
     "name": "stderr",
     "output_type": "stream",
     "text": [
      "Test_Loader: 100%|██████████| 288/288 [00:04<00:00, 70.97it/s]\n"
     ]
    },
    {
     "name": "stdout",
     "output_type": "stream",
     "text": [
      "Loss1: 12.5648, Loss2: 4.8996, Loss3: 16.0833\n"
     ]
    },
    {
     "name": "stderr",
     "output_type": "stream",
     "text": [
      "Test_Loader: 100%|██████████| 288/288 [00:03<00:00, 83.70it/s]\n"
     ]
    },
    {
     "name": "stdout",
     "output_type": "stream",
     "text": [
      "Loss1: 12.6081, Loss2: 4.7176, Loss3: 16.5260\n"
     ]
    },
    {
     "name": "stderr",
     "output_type": "stream",
     "text": [
      "Test_Loader: 100%|██████████| 288/288 [00:03<00:00, 86.93it/s]\n"
     ]
    },
    {
     "name": "stdout",
     "output_type": "stream",
     "text": [
      "Loss1: 12.4099, Loss2: 4.5208, Loss3: 17.6772\n"
     ]
    },
    {
     "name": "stderr",
     "output_type": "stream",
     "text": [
      "Test_Loader: 100%|██████████| 288/288 [00:03<00:00, 87.40it/s]\n"
     ]
    },
    {
     "name": "stdout",
     "output_type": "stream",
     "text": [
      "Loss1: 13.2609, Loss2: 4.8207, Loss3: 17.3425\n"
     ]
    },
    {
     "name": "stderr",
     "output_type": "stream",
     "text": [
      "Test_Loader: 100%|██████████| 288/288 [00:03<00:00, 76.35it/s]\n"
     ]
    },
    {
     "name": "stdout",
     "output_type": "stream",
     "text": [
      "Loss1: 12.6571, Loss2: 4.4197, Loss3: 17.3534\n"
     ]
    },
    {
     "name": "stderr",
     "output_type": "stream",
     "text": [
      "Test_Loader: 100%|██████████| 288/288 [00:03<00:00, 77.34it/s]\n"
     ]
    },
    {
     "name": "stdout",
     "output_type": "stream",
     "text": [
      "Loss1: 12.3715, Loss2: 4.6441, Loss3: 17.1672\n"
     ]
    },
    {
     "name": "stderr",
     "output_type": "stream",
     "text": [
      "Test_Loader: 100%|██████████| 288/288 [00:03<00:00, 75.43it/s]\n"
     ]
    },
    {
     "name": "stdout",
     "output_type": "stream",
     "text": [
      "Loss1: 12.4723, Loss2: 4.5788, Loss3: 17.5877\n"
     ]
    },
    {
     "name": "stderr",
     "output_type": "stream",
     "text": [
      "Test_Loader: 100%|██████████| 288/288 [00:03<00:00, 77.59it/s]\n"
     ]
    },
    {
     "name": "stdout",
     "output_type": "stream",
     "text": [
      "Loss1: 12.4650, Loss2: 4.7530, Loss3: 17.8628\n"
     ]
    },
    {
     "name": "stderr",
     "output_type": "stream",
     "text": [
      "Test_Loader: 100%|██████████| 288/288 [00:03<00:00, 79.67it/s]\n"
     ]
    },
    {
     "name": "stdout",
     "output_type": "stream",
     "text": [
      "Loss1: 12.4534, Loss2: 4.6243, Loss3: 17.4652\n"
     ]
    },
    {
     "name": "stderr",
     "output_type": "stream",
     "text": [
      "Test_Loader: 100%|██████████| 288/288 [00:03<00:00, 80.81it/s]\n"
     ]
    },
    {
     "name": "stdout",
     "output_type": "stream",
     "text": [
      "Loss1: 11.8139, Loss2: 4.5614, Loss3: 17.6251\n"
     ]
    },
    {
     "name": "stderr",
     "output_type": "stream",
     "text": [
      "Test_Loader: 100%|██████████| 288/288 [00:03<00:00, 80.40it/s]\n"
     ]
    },
    {
     "name": "stdout",
     "output_type": "stream",
     "text": [
      "Loss1: 11.9685, Loss2: 3.9694, Loss3: 17.4964\n"
     ]
    },
    {
     "name": "stderr",
     "output_type": "stream",
     "text": [
      "Test_Loader: 100%|██████████| 288/288 [00:03<00:00, 78.25it/s]\n"
     ]
    },
    {
     "name": "stdout",
     "output_type": "stream",
     "text": [
      "Loss1: 12.0965, Loss2: 4.3482, Loss3: 17.0799\n"
     ]
    },
    {
     "name": "stderr",
     "output_type": "stream",
     "text": [
      "Test_Loader: 100%|██████████| 288/288 [00:03<00:00, 78.57it/s]\n"
     ]
    },
    {
     "name": "stdout",
     "output_type": "stream",
     "text": [
      "Loss1: 12.0061, Loss2: 4.2888, Loss3: 15.9841\n"
     ]
    },
    {
     "name": "stderr",
     "output_type": "stream",
     "text": [
      "Test_Loader: 100%|██████████| 288/288 [00:03<00:00, 82.27it/s]\n"
     ]
    },
    {
     "name": "stdout",
     "output_type": "stream",
     "text": [
      "Loss1: 11.9562, Loss2: 4.3933, Loss3: 16.8890\n"
     ]
    },
    {
     "name": "stderr",
     "output_type": "stream",
     "text": [
      "Test_Loader: 100%|██████████| 288/288 [00:03<00:00, 78.64it/s]\n"
     ]
    },
    {
     "name": "stdout",
     "output_type": "stream",
     "text": [
      "Loss1: 11.3493, Loss2: 4.6487, Loss3: 16.7171\n"
     ]
    },
    {
     "name": "stderr",
     "output_type": "stream",
     "text": [
      "Test_Loader: 100%|██████████| 288/288 [00:03<00:00, 76.86it/s]\n"
     ]
    },
    {
     "name": "stdout",
     "output_type": "stream",
     "text": [
      "Loss1: 11.5792, Loss2: 4.1617, Loss3: 16.9524\n"
     ]
    },
    {
     "name": "stderr",
     "output_type": "stream",
     "text": [
      "Test_Loader: 100%|██████████| 288/288 [00:03<00:00, 74.50it/s]\n"
     ]
    },
    {
     "name": "stdout",
     "output_type": "stream",
     "text": [
      "Loss1: 11.1366, Loss2: 4.5847, Loss3: 16.4877\n"
     ]
    },
    {
     "name": "stderr",
     "output_type": "stream",
     "text": [
      "Test_Loader: 100%|██████████| 288/288 [00:03<00:00, 74.82it/s]\n"
     ]
    },
    {
     "name": "stdout",
     "output_type": "stream",
     "text": [
      "Loss1: 11.0843, Loss2: 4.3117, Loss3: 16.0452\n"
     ]
    },
    {
     "name": "stderr",
     "output_type": "stream",
     "text": [
      "Test_Loader: 100%|██████████| 288/288 [00:03<00:00, 80.67it/s]\n"
     ]
    },
    {
     "name": "stdout",
     "output_type": "stream",
     "text": [
      "Loss1: 11.3945, Loss2: 4.4694, Loss3: 17.3719\n"
     ]
    },
    {
     "name": "stderr",
     "output_type": "stream",
     "text": [
      "Test_Loader: 100%|██████████| 288/288 [00:03<00:00, 85.19it/s]\n"
     ]
    },
    {
     "name": "stdout",
     "output_type": "stream",
     "text": [
      "Loss1: 11.1803, Loss2: 4.4964, Loss3: 16.3979\n"
     ]
    },
    {
     "name": "stderr",
     "output_type": "stream",
     "text": [
      "Test_Loader: 100%|██████████| 288/288 [00:03<00:00, 78.03it/s]\n"
     ]
    },
    {
     "name": "stdout",
     "output_type": "stream",
     "text": [
      "Loss1: 10.9311, Loss2: 4.1889, Loss3: 16.7485\n"
     ]
    },
    {
     "name": "stderr",
     "output_type": "stream",
     "text": [
      "Test_Loader: 100%|██████████| 288/288 [00:03<00:00, 78.56it/s]\n"
     ]
    },
    {
     "name": "stdout",
     "output_type": "stream",
     "text": [
      "Loss1: 12.3318, Loss2: 4.8364, Loss3: 21.6388\n"
     ]
    },
    {
     "name": "stderr",
     "output_type": "stream",
     "text": [
      "Test_Loader: 100%|██████████| 288/288 [00:03<00:00, 82.29it/s]\n"
     ]
    },
    {
     "name": "stdout",
     "output_type": "stream",
     "text": [
      "Loss1: 12.3283, Loss2: 4.1514, Loss3: 21.7761\n"
     ]
    },
    {
     "name": "stderr",
     "output_type": "stream",
     "text": [
      "Test_Loader: 100%|██████████| 288/288 [00:03<00:00, 81.67it/s]\n"
     ]
    },
    {
     "name": "stdout",
     "output_type": "stream",
     "text": [
      "Loss1: 13.3058, Loss2: 4.4229, Loss3: 23.2343\n"
     ]
    },
    {
     "name": "stderr",
     "output_type": "stream",
     "text": [
      "Test_Loader: 100%|██████████| 288/288 [00:03<00:00, 80.99it/s]\n"
     ]
    },
    {
     "name": "stdout",
     "output_type": "stream",
     "text": [
      "Loss1: 13.4360, Loss2: 4.3955, Loss3: 23.9041\n"
     ]
    },
    {
     "name": "stderr",
     "output_type": "stream",
     "text": [
      "Test_Loader: 100%|██████████| 288/288 [00:03<00:00, 79.16it/s]\n"
     ]
    },
    {
     "name": "stdout",
     "output_type": "stream",
     "text": [
      "Loss1: 13.4574, Loss2: 4.5943, Loss3: 23.9803\n"
     ]
    },
    {
     "name": "stderr",
     "output_type": "stream",
     "text": [
      "Test_Loader: 100%|██████████| 288/288 [00:03<00:00, 76.59it/s]\n"
     ]
    },
    {
     "name": "stdout",
     "output_type": "stream",
     "text": [
      "Loss1: 13.9632, Loss2: 5.4575, Loss3: 24.5442\n"
     ]
    },
    {
     "name": "stderr",
     "output_type": "stream",
     "text": [
      "Test_Loader: 100%|██████████| 288/288 [00:03<00:00, 75.12it/s]\n"
     ]
    },
    {
     "name": "stdout",
     "output_type": "stream",
     "text": [
      "Loss1: 13.7430, Loss2: 4.8117, Loss3: 25.9256\n"
     ]
    },
    {
     "name": "stderr",
     "output_type": "stream",
     "text": [
      "Test_Loader: 100%|██████████| 288/288 [00:03<00:00, 74.98it/s]\n"
     ]
    },
    {
     "name": "stdout",
     "output_type": "stream",
     "text": [
      "Loss1: 14.7624, Loss2: 4.8932, Loss3: 26.2822\n"
     ]
    },
    {
     "name": "stderr",
     "output_type": "stream",
     "text": [
      "Test_Loader: 100%|██████████| 288/288 [00:03<00:00, 77.32it/s]\n"
     ]
    },
    {
     "name": "stdout",
     "output_type": "stream",
     "text": [
      "Loss1: 14.0441, Loss2: 5.1983, Loss3: 27.5573\n"
     ]
    },
    {
     "name": "stderr",
     "output_type": "stream",
     "text": [
      "Test_Loader: 100%|██████████| 288/288 [00:03<00:00, 81.25it/s]\n"
     ]
    },
    {
     "name": "stdout",
     "output_type": "stream",
     "text": [
      "Loss1: 15.0961, Loss2: 4.9230, Loss3: 27.9190\n"
     ]
    },
    {
     "name": "stderr",
     "output_type": "stream",
     "text": [
      "Test_Loader: 100%|██████████| 288/288 [00:03<00:00, 85.23it/s]\n"
     ]
    },
    {
     "name": "stdout",
     "output_type": "stream",
     "text": [
      "Loss1: 15.3916, Loss2: 4.9390, Loss3: 28.4443\n"
     ]
    },
    {
     "name": "stderr",
     "output_type": "stream",
     "text": [
      "Test_Loader: 100%|██████████| 288/288 [00:03<00:00, 81.49it/s]\n"
     ]
    },
    {
     "name": "stdout",
     "output_type": "stream",
     "text": [
      "Loss1: 15.2314, Loss2: 5.3139, Loss3: 28.2340\n"
     ]
    },
    {
     "name": "stderr",
     "output_type": "stream",
     "text": [
      "Test_Loader: 100%|██████████| 288/288 [00:03<00:00, 82.12it/s]\n"
     ]
    },
    {
     "name": "stdout",
     "output_type": "stream",
     "text": [
      "Loss1: 15.1298, Loss2: 5.0111, Loss3: 30.1793\n"
     ]
    },
    {
     "name": "stderr",
     "output_type": "stream",
     "text": [
      "Test_Loader: 100%|██████████| 288/288 [00:03<00:00, 82.00it/s]\n"
     ]
    },
    {
     "name": "stdout",
     "output_type": "stream",
     "text": [
      "Loss1: 14.0781, Loss2: 4.9414, Loss3: 27.1956\n"
     ]
    },
    {
     "name": "stderr",
     "output_type": "stream",
     "text": [
      "Test_Loader: 100%|██████████| 288/288 [00:03<00:00, 80.58it/s]\n"
     ]
    },
    {
     "name": "stdout",
     "output_type": "stream",
     "text": [
      "Loss1: 14.4535, Loss2: 4.6158, Loss3: 27.0154\n"
     ]
    },
    {
     "name": "stderr",
     "output_type": "stream",
     "text": [
      "Test_Loader: 100%|██████████| 288/288 [00:03<00:00, 74.61it/s]\n"
     ]
    },
    {
     "name": "stdout",
     "output_type": "stream",
     "text": [
      "Loss1: 14.8020, Loss2: 5.2571, Loss3: 27.2146\n"
     ]
    },
    {
     "name": "stderr",
     "output_type": "stream",
     "text": [
      "Test_Loader: 100%|██████████| 288/288 [00:04<00:00, 69.26it/s]\n"
     ]
    },
    {
     "name": "stdout",
     "output_type": "stream",
     "text": [
      "Loss1: 15.2411, Loss2: 4.9980, Loss3: 29.2299\n"
     ]
    },
    {
     "name": "stderr",
     "output_type": "stream",
     "text": [
      "Test_Loader: 100%|██████████| 288/288 [00:04<00:00, 71.36it/s]\n"
     ]
    },
    {
     "name": "stdout",
     "output_type": "stream",
     "text": [
      "Loss1: 14.8452, Loss2: 5.0035, Loss3: 28.3454\n"
     ]
    },
    {
     "name": "stderr",
     "output_type": "stream",
     "text": [
      "Test_Loader: 100%|██████████| 288/288 [00:03<00:00, 81.15it/s]\n"
     ]
    },
    {
     "name": "stdout",
     "output_type": "stream",
     "text": [
      "Loss1: 15.4806, Loss2: 5.3523, Loss3: 28.2415\n"
     ]
    },
    {
     "name": "stderr",
     "output_type": "stream",
     "text": [
      "Test_Loader: 100%|██████████| 288/288 [00:03<00:00, 82.64it/s]\n"
     ]
    },
    {
     "name": "stdout",
     "output_type": "stream",
     "text": [
      "Loss1: 14.9014, Loss2: 4.9084, Loss3: 40.3472\n"
     ]
    },
    {
     "name": "stderr",
     "output_type": "stream",
     "text": [
      "Test_Loader: 100%|██████████| 288/288 [00:03<00:00, 83.84it/s]\n"
     ]
    },
    {
     "name": "stdout",
     "output_type": "stream",
     "text": [
      "Loss1: 15.0868, Loss2: 5.0467, Loss3: 28.1694\n"
     ]
    },
    {
     "name": "stderr",
     "output_type": "stream",
     "text": [
      "Test_Loader: 100%|██████████| 288/288 [00:03<00:00, 84.56it/s]\n"
     ]
    },
    {
     "name": "stdout",
     "output_type": "stream",
     "text": [
      "Loss1: 15.5544, Loss2: 4.9495, Loss3: 33.2683\n"
     ]
    },
    {
     "name": "stderr",
     "output_type": "stream",
     "text": [
      "Test_Loader: 100%|██████████| 288/288 [00:03<00:00, 83.41it/s]\n"
     ]
    },
    {
     "name": "stdout",
     "output_type": "stream",
     "text": [
      "Loss1: 14.4019, Loss2: 4.8701, Loss3: 28.6056\n"
     ]
    },
    {
     "name": "stderr",
     "output_type": "stream",
     "text": [
      "Test_Loader: 100%|██████████| 288/288 [00:03<00:00, 80.15it/s]\n"
     ]
    },
    {
     "name": "stdout",
     "output_type": "stream",
     "text": [
      "Loss1: 15.1065, Loss2: 5.2138, Loss3: 27.3258\n"
     ]
    },
    {
     "name": "stderr",
     "output_type": "stream",
     "text": [
      "Test_Loader: 100%|██████████| 288/288 [00:03<00:00, 79.94it/s]\n"
     ]
    },
    {
     "name": "stdout",
     "output_type": "stream",
     "text": [
      "Loss1: 15.0311, Loss2: 5.0590, Loss3: 35.1522\n"
     ]
    },
    {
     "name": "stderr",
     "output_type": "stream",
     "text": [
      "Test_Loader: 100%|██████████| 288/288 [00:03<00:00, 79.44it/s]\n"
     ]
    },
    {
     "name": "stdout",
     "output_type": "stream",
     "text": [
      "Loss1: 15.1161, Loss2: 5.2840, Loss3: 29.0457\n"
     ]
    },
    {
     "name": "stderr",
     "output_type": "stream",
     "text": [
      "Test_Loader: 100%|██████████| 288/288 [00:03<00:00, 80.60it/s]\n"
     ]
    },
    {
     "name": "stdout",
     "output_type": "stream",
     "text": [
      "Loss1: 15.6870, Loss2: 5.0130, Loss3: 28.0964\n"
     ]
    },
    {
     "name": "stderr",
     "output_type": "stream",
     "text": [
      "Test_Loader: 100%|██████████| 288/288 [00:03<00:00, 84.29it/s]\n"
     ]
    },
    {
     "name": "stdout",
     "output_type": "stream",
     "text": [
      "Loss1: 16.5035, Loss2: 5.3876, Loss3: 33.6810\n"
     ]
    },
    {
     "name": "stderr",
     "output_type": "stream",
     "text": [
      "Test_Loader: 100%|██████████| 288/288 [00:03<00:00, 83.00it/s]\n"
     ]
    },
    {
     "name": "stdout",
     "output_type": "stream",
     "text": [
      "Loss1: 15.2432, Loss2: 4.8244, Loss3: 30.4923\n"
     ]
    },
    {
     "name": "stderr",
     "output_type": "stream",
     "text": [
      "Test_Loader: 100%|██████████| 288/288 [00:03<00:00, 81.13it/s]\n"
     ]
    },
    {
     "name": "stdout",
     "output_type": "stream",
     "text": [
      "Loss1: 15.1140, Loss2: 5.7328, Loss3: 29.2901\n"
     ]
    },
    {
     "name": "stderr",
     "output_type": "stream",
     "text": [
      "Test_Loader: 100%|██████████| 288/288 [00:03<00:00, 75.89it/s]\n"
     ]
    },
    {
     "name": "stdout",
     "output_type": "stream",
     "text": [
      "Loss1: 15.9641, Loss2: 5.7541, Loss3: 35.1195\n"
     ]
    },
    {
     "name": "stderr",
     "output_type": "stream",
     "text": [
      "Test_Loader: 100%|██████████| 288/288 [00:03<00:00, 77.77it/s]\n"
     ]
    },
    {
     "name": "stdout",
     "output_type": "stream",
     "text": [
      "Loss1: 16.1002, Loss2: 5.0876, Loss3: 27.6767\n"
     ]
    },
    {
     "name": "stderr",
     "output_type": "stream",
     "text": [
      "Test_Loader: 100%|██████████| 288/288 [00:03<00:00, 82.07it/s]\n"
     ]
    },
    {
     "name": "stdout",
     "output_type": "stream",
     "text": [
      "Loss1: 15.4482, Loss2: 5.4521, Loss3: 26.4563\n"
     ]
    },
    {
     "name": "stderr",
     "output_type": "stream",
     "text": [
      "Test_Loader: 100%|██████████| 288/288 [00:03<00:00, 85.33it/s]\n"
     ]
    },
    {
     "name": "stdout",
     "output_type": "stream",
     "text": [
      "Loss1: 15.3116, Loss2: 5.0079, Loss3: 28.5875\n"
     ]
    },
    {
     "name": "stderr",
     "output_type": "stream",
     "text": [
      "Test_Loader: 100%|██████████| 288/288 [00:03<00:00, 87.62it/s]\n"
     ]
    },
    {
     "name": "stdout",
     "output_type": "stream",
     "text": [
      "Loss1: 15.6561, Loss2: 5.1826, Loss3: 28.5469\n"
     ]
    },
    {
     "name": "stderr",
     "output_type": "stream",
     "text": [
      "Test_Loader: 100%|██████████| 288/288 [00:03<00:00, 84.02it/s]\n"
     ]
    },
    {
     "name": "stdout",
     "output_type": "stream",
     "text": [
      "Loss1: 15.7173, Loss2: 5.5480, Loss3: 30.7976\n"
     ]
    },
    {
     "name": "stderr",
     "output_type": "stream",
     "text": [
      "Test_Loader: 100%|██████████| 288/288 [00:03<00:00, 80.86it/s]\n"
     ]
    },
    {
     "name": "stdout",
     "output_type": "stream",
     "text": [
      "Loss1: 16.2602, Loss2: 5.1820, Loss3: 28.8633\n"
     ]
    },
    {
     "name": "stderr",
     "output_type": "stream",
     "text": [
      "Test_Loader: 100%|██████████| 288/288 [00:03<00:00, 81.27it/s]\n"
     ]
    },
    {
     "name": "stdout",
     "output_type": "stream",
     "text": [
      "Loss1: 16.8209, Loss2: 6.2337, Loss3: 30.6943\n"
     ]
    },
    {
     "name": "stderr",
     "output_type": "stream",
     "text": [
      "Test_Loader: 100%|██████████| 288/288 [00:03<00:00, 79.34it/s]\n"
     ]
    },
    {
     "name": "stdout",
     "output_type": "stream",
     "text": [
      "Loss1: 15.6647, Loss2: 5.2408, Loss3: 28.1233\n"
     ]
    },
    {
     "name": "stderr",
     "output_type": "stream",
     "text": [
      "Test_Loader: 100%|██████████| 288/288 [00:03<00:00, 76.23it/s]\n"
     ]
    },
    {
     "name": "stdout",
     "output_type": "stream",
     "text": [
      "Loss1: 16.5609, Loss2: 5.4693, Loss3: 29.0289\n"
     ]
    },
    {
     "name": "stderr",
     "output_type": "stream",
     "text": [
      "Test_Loader: 100%|██████████| 288/288 [00:03<00:00, 77.42it/s]\n"
     ]
    },
    {
     "name": "stdout",
     "output_type": "stream",
     "text": [
      "Loss1: 15.0187, Loss2: 5.1728, Loss3: 27.2294\n"
     ]
    },
    {
     "name": "stderr",
     "output_type": "stream",
     "text": [
      "Test_Loader: 100%|██████████| 288/288 [00:03<00:00, 74.51it/s]\n"
     ]
    },
    {
     "name": "stdout",
     "output_type": "stream",
     "text": [
      "Loss1: 14.9344, Loss2: 4.8703, Loss3: 27.1759\n"
     ]
    },
    {
     "name": "stderr",
     "output_type": "stream",
     "text": [
      "Test_Loader: 100%|██████████| 288/288 [00:04<00:00, 71.23it/s]\n"
     ]
    },
    {
     "name": "stdout",
     "output_type": "stream",
     "text": [
      "Loss1: 15.3093, Loss2: 5.2440, Loss3: 27.8211\n"
     ]
    },
    {
     "name": "stderr",
     "output_type": "stream",
     "text": [
      "Test_Loader: 100%|██████████| 288/288 [00:04<00:00, 71.08it/s]\n"
     ]
    },
    {
     "name": "stdout",
     "output_type": "stream",
     "text": [
      "Loss1: 15.4930, Loss2: 5.3320, Loss3: 26.5660\n"
     ]
    },
    {
     "name": "stderr",
     "output_type": "stream",
     "text": [
      "Test_Loader: 100%|██████████| 288/288 [00:03<00:00, 75.46it/s]\n"
     ]
    },
    {
     "name": "stdout",
     "output_type": "stream",
     "text": [
      "Loss1: 15.3499, Loss2: 5.0728, Loss3: 29.1366\n"
     ]
    },
    {
     "name": "stderr",
     "output_type": "stream",
     "text": [
      "Test_Loader: 100%|██████████| 288/288 [00:03<00:00, 77.12it/s]\n"
     ]
    },
    {
     "name": "stdout",
     "output_type": "stream",
     "text": [
      "Loss1: 15.7731, Loss2: 5.3313, Loss3: 27.7231\n"
     ]
    },
    {
     "name": "stderr",
     "output_type": "stream",
     "text": [
      "Test_Loader: 100%|██████████| 288/288 [00:03<00:00, 76.53it/s]\n"
     ]
    },
    {
     "name": "stdout",
     "output_type": "stream",
     "text": [
      "Loss1: 15.6012, Loss2: 4.9349, Loss3: 26.7551\n"
     ]
    },
    {
     "name": "stderr",
     "output_type": "stream",
     "text": [
      "Test_Loader: 100%|██████████| 288/288 [00:03<00:00, 76.83it/s]\n"
     ]
    },
    {
     "name": "stdout",
     "output_type": "stream",
     "text": [
      "Loss1: 15.6017, Loss2: 5.1288, Loss3: 27.9405\n"
     ]
    },
    {
     "name": "stderr",
     "output_type": "stream",
     "text": [
      "Test_Loader: 100%|██████████| 288/288 [00:03<00:00, 75.07it/s]\n"
     ]
    },
    {
     "name": "stdout",
     "output_type": "stream",
     "text": [
      "Loss1: 14.9894, Loss2: 4.6832, Loss3: 25.9241\n"
     ]
    },
    {
     "name": "stderr",
     "output_type": "stream",
     "text": [
      "Test_Loader: 100%|██████████| 288/288 [00:03<00:00, 75.12it/s]\n"
     ]
    },
    {
     "name": "stdout",
     "output_type": "stream",
     "text": [
      "Loss1: 15.0454, Loss2: 5.0290, Loss3: 25.6979\n"
     ]
    },
    {
     "name": "stderr",
     "output_type": "stream",
     "text": [
      "Test_Loader: 100%|██████████| 288/288 [00:03<00:00, 75.53it/s]\n"
     ]
    },
    {
     "name": "stdout",
     "output_type": "stream",
     "text": [
      "Loss1: 15.3799, Loss2: 4.7806, Loss3: 26.4954\n"
     ]
    },
    {
     "name": "stderr",
     "output_type": "stream",
     "text": [
      "Test_Loader: 100%|██████████| 288/288 [00:03<00:00, 72.89it/s]\n"
     ]
    },
    {
     "name": "stdout",
     "output_type": "stream",
     "text": [
      "Loss1: 14.7758, Loss2: 4.5814, Loss3: 25.8907\n"
     ]
    },
    {
     "name": "stderr",
     "output_type": "stream",
     "text": [
      "Test_Loader: 100%|██████████| 288/288 [00:03<00:00, 72.32it/s]\n"
     ]
    },
    {
     "name": "stdout",
     "output_type": "stream",
     "text": [
      "Loss1: 15.2601, Loss2: 5.0525, Loss3: 27.0877\n"
     ]
    },
    {
     "name": "stderr",
     "output_type": "stream",
     "text": [
      "Test_Loader: 100%|██████████| 288/288 [00:03<00:00, 80.25it/s]\n"
     ]
    },
    {
     "name": "stdout",
     "output_type": "stream",
     "text": [
      "Loss1: 15.0356, Loss2: 5.3212, Loss3: 25.3005\n"
     ]
    },
    {
     "name": "stderr",
     "output_type": "stream",
     "text": [
      "Test_Loader: 100%|██████████| 288/288 [00:03<00:00, 85.84it/s]\n"
     ]
    },
    {
     "name": "stdout",
     "output_type": "stream",
     "text": [
      "Loss1: 15.0013, Loss2: 5.0419, Loss3: 25.6315\n"
     ]
    },
    {
     "name": "stderr",
     "output_type": "stream",
     "text": [
      "Test_Loader: 100%|██████████| 288/288 [00:03<00:00, 84.31it/s]\n"
     ]
    },
    {
     "name": "stdout",
     "output_type": "stream",
     "text": [
      "Loss1: 15.6020, Loss2: 5.5704, Loss3: 27.2635\n"
     ]
    },
    {
     "name": "stderr",
     "output_type": "stream",
     "text": [
      "Test_Loader: 100%|██████████| 288/288 [00:03<00:00, 81.74it/s]\n"
     ]
    },
    {
     "name": "stdout",
     "output_type": "stream",
     "text": [
      "Loss1: 14.9221, Loss2: 5.3248, Loss3: 26.7047\n"
     ]
    },
    {
     "name": "stderr",
     "output_type": "stream",
     "text": [
      "Test_Loader: 100%|██████████| 288/288 [00:03<00:00, 80.20it/s]\n"
     ]
    },
    {
     "name": "stdout",
     "output_type": "stream",
     "text": [
      "Loss1: 16.0491, Loss2: 5.2038, Loss3: 26.9737\n"
     ]
    },
    {
     "name": "stderr",
     "output_type": "stream",
     "text": [
      "Test_Loader: 100%|██████████| 288/288 [00:03<00:00, 77.86it/s]\n"
     ]
    },
    {
     "name": "stdout",
     "output_type": "stream",
     "text": [
      "Loss1: 15.8714, Loss2: 5.0505, Loss3: 26.2159\n"
     ]
    },
    {
     "name": "stderr",
     "output_type": "stream",
     "text": [
      "Test_Loader: 100%|██████████| 288/288 [00:03<00:00, 78.01it/s]\n"
     ]
    },
    {
     "name": "stdout",
     "output_type": "stream",
     "text": [
      "Loss1: 15.6178, Loss2: 5.2581, Loss3: 26.6832\n"
     ]
    },
    {
     "name": "stderr",
     "output_type": "stream",
     "text": [
      "Test_Loader: 100%|██████████| 288/288 [00:03<00:00, 79.82it/s]\n"
     ]
    },
    {
     "name": "stdout",
     "output_type": "stream",
     "text": [
      "Loss1: 16.2687, Loss2: 5.0566, Loss3: 27.7051\n"
     ]
    },
    {
     "name": "stderr",
     "output_type": "stream",
     "text": [
      "Test_Loader: 100%|██████████| 288/288 [00:03<00:00, 81.01it/s]\n"
     ]
    },
    {
     "name": "stdout",
     "output_type": "stream",
     "text": [
      "Loss1: 16.1389, Loss2: 5.3435, Loss3: 29.2356\n"
     ]
    },
    {
     "name": "stderr",
     "output_type": "stream",
     "text": [
      "Test_Loader: 100%|██████████| 288/288 [00:03<00:00, 86.26it/s]\n"
     ]
    },
    {
     "name": "stdout",
     "output_type": "stream",
     "text": [
      "Loss1: 16.1227, Loss2: 4.9958, Loss3: 27.0237\n"
     ]
    },
    {
     "name": "stderr",
     "output_type": "stream",
     "text": [
      "Test_Loader: 100%|██████████| 288/288 [00:03<00:00, 85.01it/s]\n"
     ]
    },
    {
     "name": "stdout",
     "output_type": "stream",
     "text": [
      "Loss1: 16.3752, Loss2: 5.1906, Loss3: 27.4377\n"
     ]
    },
    {
     "name": "stderr",
     "output_type": "stream",
     "text": [
      "Test_Loader: 100%|██████████| 288/288 [00:03<00:00, 77.68it/s]\n"
     ]
    },
    {
     "name": "stdout",
     "output_type": "stream",
     "text": [
      "Loss1: 16.3062, Loss2: 5.0262, Loss3: 27.0655\n"
     ]
    },
    {
     "name": "stderr",
     "output_type": "stream",
     "text": [
      "Test_Loader: 100%|██████████| 288/288 [00:03<00:00, 77.46it/s]\n"
     ]
    },
    {
     "name": "stdout",
     "output_type": "stream",
     "text": [
      "Loss1: 17.4021, Loss2: 5.6709, Loss3: 29.5520\n"
     ]
    },
    {
     "name": "stderr",
     "output_type": "stream",
     "text": [
      "Test_Loader: 100%|██████████| 288/288 [00:03<00:00, 74.09it/s]\n"
     ]
    },
    {
     "name": "stdout",
     "output_type": "stream",
     "text": [
      "Loss1: 16.4938, Loss2: 5.1829, Loss3: 27.8697\n"
     ]
    },
    {
     "name": "stderr",
     "output_type": "stream",
     "text": [
      "Test_Loader: 100%|██████████| 288/288 [00:03<00:00, 75.02it/s]\n"
     ]
    },
    {
     "name": "stdout",
     "output_type": "stream",
     "text": [
      "Loss1: 16.5131, Loss2: 5.2672, Loss3: 29.1327\n"
     ]
    },
    {
     "name": "stderr",
     "output_type": "stream",
     "text": [
      "Test_Loader: 100%|██████████| 288/288 [00:03<00:00, 80.63it/s]\n"
     ]
    },
    {
     "name": "stdout",
     "output_type": "stream",
     "text": [
      "Loss1: 15.8842, Loss2: 5.0992, Loss3: 27.8299\n"
     ]
    },
    {
     "name": "stderr",
     "output_type": "stream",
     "text": [
      "Test_Loader: 100%|██████████| 288/288 [00:03<00:00, 84.78it/s]\n"
     ]
    },
    {
     "name": "stdout",
     "output_type": "stream",
     "text": [
      "Loss1: 16.0033, Loss2: 5.0046, Loss3: 26.8597\n"
     ]
    },
    {
     "name": "stderr",
     "output_type": "stream",
     "text": [
      "Test_Loader: 100%|██████████| 288/288 [00:03<00:00, 78.47it/s]\n"
     ]
    },
    {
     "name": "stdout",
     "output_type": "stream",
     "text": [
      "Loss1: 16.4053, Loss2: 4.9308, Loss3: 26.7642\n"
     ]
    },
    {
     "name": "stderr",
     "output_type": "stream",
     "text": [
      "Test_Loader: 100%|██████████| 288/288 [00:03<00:00, 80.83it/s]\n"
     ]
    },
    {
     "name": "stdout",
     "output_type": "stream",
     "text": [
      "Loss1: 15.2766, Loss2: 5.2355, Loss3: 27.3700\n"
     ]
    },
    {
     "name": "stderr",
     "output_type": "stream",
     "text": [
      "Test_Loader: 100%|██████████| 288/288 [00:03<00:00, 83.26it/s]\n"
     ]
    },
    {
     "name": "stdout",
     "output_type": "stream",
     "text": [
      "Loss1: 16.7479, Loss2: 5.0979, Loss3: 27.8602\n"
     ]
    },
    {
     "name": "stderr",
     "output_type": "stream",
     "text": [
      "Test_Loader: 100%|██████████| 288/288 [00:03<00:00, 81.98it/s]\n"
     ]
    },
    {
     "name": "stdout",
     "output_type": "stream",
     "text": [
      "Loss1: 15.5305, Loss2: 5.0891, Loss3: 27.7982\n"
     ]
    },
    {
     "name": "stderr",
     "output_type": "stream",
     "text": [
      "Test_Loader: 100%|██████████| 288/288 [00:03<00:00, 78.50it/s]\n"
     ]
    },
    {
     "name": "stdout",
     "output_type": "stream",
     "text": [
      "Loss1: 15.8789, Loss2: 5.0538, Loss3: 26.4533\n"
     ]
    },
    {
     "name": "stderr",
     "output_type": "stream",
     "text": [
      "Test_Loader: 100%|██████████| 288/288 [00:04<00:00, 68.73it/s]\n"
     ]
    },
    {
     "name": "stdout",
     "output_type": "stream",
     "text": [
      "Loss1: 16.2194, Loss2: 5.0719, Loss3: 26.3655\n"
     ]
    },
    {
     "name": "stderr",
     "output_type": "stream",
     "text": [
      "Test_Loader: 100%|██████████| 288/288 [00:03<00:00, 73.03it/s]\n"
     ]
    },
    {
     "name": "stdout",
     "output_type": "stream",
     "text": [
      "Loss1: 15.4939, Loss2: 4.9645, Loss3: 26.9975\n"
     ]
    },
    {
     "name": "stderr",
     "output_type": "stream",
     "text": [
      "Test_Loader: 100%|██████████| 288/288 [00:03<00:00, 78.64it/s]\n"
     ]
    },
    {
     "name": "stdout",
     "output_type": "stream",
     "text": [
      "Loss1: 15.6552, Loss2: 5.0225, Loss3: 26.9024\n"
     ]
    },
    {
     "name": "stderr",
     "output_type": "stream",
     "text": [
      "Test_Loader: 100%|██████████| 288/288 [00:03<00:00, 80.45it/s]\n"
     ]
    },
    {
     "name": "stdout",
     "output_type": "stream",
     "text": [
      "Loss1: 15.5712, Loss2: 4.7753, Loss3: 25.9800\n"
     ]
    },
    {
     "name": "stderr",
     "output_type": "stream",
     "text": [
      "Test_Loader: 100%|██████████| 288/288 [00:03<00:00, 83.05it/s]\n"
     ]
    },
    {
     "name": "stdout",
     "output_type": "stream",
     "text": [
      "Loss1: 15.6194, Loss2: 4.9316, Loss3: 25.7063\n"
     ]
    },
    {
     "name": "stderr",
     "output_type": "stream",
     "text": [
      "Test_Loader: 100%|██████████| 288/288 [00:03<00:00, 78.57it/s]\n"
     ]
    },
    {
     "name": "stdout",
     "output_type": "stream",
     "text": [
      "Loss1: 15.4508, Loss2: 4.9420, Loss3: 26.2657\n"
     ]
    },
    {
     "name": "stderr",
     "output_type": "stream",
     "text": [
      "Test_Loader: 100%|██████████| 288/288 [00:03<00:00, 82.66it/s]\n"
     ]
    },
    {
     "name": "stdout",
     "output_type": "stream",
     "text": [
      "Loss1: 15.5654, Loss2: 5.1490, Loss3: 26.2878\n"
     ]
    },
    {
     "name": "stderr",
     "output_type": "stream",
     "text": [
      "Test_Loader: 100%|██████████| 288/288 [00:03<00:00, 82.17it/s]\n"
     ]
    },
    {
     "name": "stdout",
     "output_type": "stream",
     "text": [
      "Loss1: 15.6197, Loss2: 4.9736, Loss3: 26.5130\n"
     ]
    },
    {
     "name": "stderr",
     "output_type": "stream",
     "text": [
      "Test_Loader: 100%|██████████| 288/288 [00:03<00:00, 80.60it/s]\n"
     ]
    },
    {
     "name": "stdout",
     "output_type": "stream",
     "text": [
      "Loss1: 15.5477, Loss2: 4.7774, Loss3: 25.9185\n"
     ]
    },
    {
     "name": "stderr",
     "output_type": "stream",
     "text": [
      "Test_Loader: 100%|██████████| 288/288 [00:03<00:00, 77.17it/s]\n"
     ]
    },
    {
     "name": "stdout",
     "output_type": "stream",
     "text": [
      "Loss1: 15.6588, Loss2: 4.9505, Loss3: 26.2775\n"
     ]
    },
    {
     "name": "stderr",
     "output_type": "stream",
     "text": [
      "Test_Loader: 100%|██████████| 288/288 [00:03<00:00, 77.58it/s]\n"
     ]
    },
    {
     "name": "stdout",
     "output_type": "stream",
     "text": [
      "Loss1: 15.2771, Loss2: 4.8627, Loss3: 26.2994\n"
     ]
    },
    {
     "name": "stderr",
     "output_type": "stream",
     "text": [
      "Test_Loader: 100%|██████████| 288/288 [00:03<00:00, 76.27it/s]\n"
     ]
    },
    {
     "name": "stdout",
     "output_type": "stream",
     "text": [
      "Loss1: 15.3098, Loss2: 4.7022, Loss3: 25.7969\n"
     ]
    },
    {
     "name": "stderr",
     "output_type": "stream",
     "text": [
      "Test_Loader: 100%|██████████| 288/288 [00:04<00:00, 70.43it/s]\n"
     ]
    },
    {
     "name": "stdout",
     "output_type": "stream",
     "text": [
      "Loss1: 15.9235, Loss2: 5.6444, Loss3: 24.9847\n"
     ]
    },
    {
     "name": "stderr",
     "output_type": "stream",
     "text": [
      "Test_Loader: 100%|██████████| 288/288 [00:03<00:00, 74.47it/s]\n"
     ]
    },
    {
     "name": "stdout",
     "output_type": "stream",
     "text": [
      "Loss1: 15.7379, Loss2: 5.6749, Loss3: 26.9543\n"
     ]
    },
    {
     "name": "stderr",
     "output_type": "stream",
     "text": [
      "Test_Loader: 100%|██████████| 288/288 [00:03<00:00, 73.55it/s]\n"
     ]
    },
    {
     "name": "stdout",
     "output_type": "stream",
     "text": [
      "Loss1: 16.3481, Loss2: 5.5805, Loss3: 27.4966\n"
     ]
    },
    {
     "name": "stderr",
     "output_type": "stream",
     "text": [
      "Test_Loader: 100%|██████████| 288/288 [00:03<00:00, 81.56it/s]\n"
     ]
    },
    {
     "name": "stdout",
     "output_type": "stream",
     "text": [
      "Loss1: 16.3237, Loss2: 6.0000, Loss3: 27.7756\n"
     ]
    },
    {
     "name": "stderr",
     "output_type": "stream",
     "text": [
      "Test_Loader: 100%|██████████| 288/288 [00:03<00:00, 82.38it/s]\n"
     ]
    },
    {
     "name": "stdout",
     "output_type": "stream",
     "text": [
      "Loss1: 15.8161, Loss2: 5.0466, Loss3: 27.4093\n"
     ]
    },
    {
     "name": "stderr",
     "output_type": "stream",
     "text": [
      "Test_Loader: 100%|██████████| 288/288 [00:03<00:00, 83.23it/s]\n"
     ]
    },
    {
     "name": "stdout",
     "output_type": "stream",
     "text": [
      "Loss1: 16.9432, Loss2: 6.0724, Loss3: 26.6363\n"
     ]
    },
    {
     "name": "stderr",
     "output_type": "stream",
     "text": [
      "Test_Loader: 100%|██████████| 288/288 [00:03<00:00, 79.52it/s]\n"
     ]
    },
    {
     "name": "stdout",
     "output_type": "stream",
     "text": [
      "Loss1: 16.1603, Loss2: 5.9696, Loss3: 26.7983\n"
     ]
    },
    {
     "name": "stderr",
     "output_type": "stream",
     "text": [
      "Test_Loader: 100%|██████████| 288/288 [00:03<00:00, 75.01it/s]\n"
     ]
    },
    {
     "name": "stdout",
     "output_type": "stream",
     "text": [
      "Loss1: 15.7769, Loss2: 5.5540, Loss3: 27.2005\n"
     ]
    },
    {
     "name": "stderr",
     "output_type": "stream",
     "text": [
      "Test_Loader: 100%|██████████| 288/288 [00:03<00:00, 76.94it/s]\n"
     ]
    },
    {
     "name": "stdout",
     "output_type": "stream",
     "text": [
      "Loss1: 16.2581, Loss2: 5.9405, Loss3: 26.9255\n"
     ]
    },
    {
     "name": "stderr",
     "output_type": "stream",
     "text": [
      "Test_Loader: 100%|██████████| 288/288 [00:03<00:00, 74.69it/s]\n"
     ]
    },
    {
     "name": "stdout",
     "output_type": "stream",
     "text": [
      "Loss1: 14.7734, Loss2: 4.7369, Loss3: 22.0965\n"
     ]
    },
    {
     "name": "stderr",
     "output_type": "stream",
     "text": [
      "Test_Loader: 100%|██████████| 288/288 [00:03<00:00, 74.52it/s]\n"
     ]
    },
    {
     "name": "stdout",
     "output_type": "stream",
     "text": [
      "Loss1: 15.1133, Loss2: 5.4220, Loss3: 21.3130\n"
     ]
    },
    {
     "name": "stderr",
     "output_type": "stream",
     "text": [
      "Test_Loader: 100%|██████████| 288/288 [00:03<00:00, 74.67it/s]\n"
     ]
    },
    {
     "name": "stdout",
     "output_type": "stream",
     "text": [
      "Loss1: 14.1724, Loss2: 4.9166, Loss3: 21.3475\n"
     ]
    },
    {
     "name": "stderr",
     "output_type": "stream",
     "text": [
      "Test_Loader: 100%|██████████| 288/288 [00:03<00:00, 78.93it/s]\n"
     ]
    },
    {
     "name": "stdout",
     "output_type": "stream",
     "text": [
      "Loss1: 14.1341, Loss2: 4.9881, Loss3: 21.2713\n"
     ]
    },
    {
     "name": "stderr",
     "output_type": "stream",
     "text": [
      "Test_Loader: 100%|██████████| 288/288 [00:03<00:00, 83.88it/s]\n"
     ]
    },
    {
     "name": "stdout",
     "output_type": "stream",
     "text": [
      "Loss1: 14.3285, Loss2: 5.1868, Loss3: 20.9736\n"
     ]
    },
    {
     "name": "stderr",
     "output_type": "stream",
     "text": [
      "Test_Loader: 100%|██████████| 288/288 [00:03<00:00, 82.41it/s]\n"
     ]
    },
    {
     "name": "stdout",
     "output_type": "stream",
     "text": [
      "Loss1: 14.1639, Loss2: 4.5416, Loss3: 20.6164\n"
     ]
    },
    {
     "name": "stderr",
     "output_type": "stream",
     "text": [
      "Test_Loader: 100%|██████████| 288/288 [00:03<00:00, 79.93it/s]\n"
     ]
    },
    {
     "name": "stdout",
     "output_type": "stream",
     "text": [
      "Loss1: 13.3736, Loss2: 4.8276, Loss3: 20.7551\n"
     ]
    },
    {
     "name": "stderr",
     "output_type": "stream",
     "text": [
      "Test_Loader: 100%|██████████| 288/288 [00:03<00:00, 75.47it/s]\n"
     ]
    },
    {
     "name": "stdout",
     "output_type": "stream",
     "text": [
      "Loss1: 13.7121, Loss2: 5.1240, Loss3: 20.8503\n"
     ]
    },
    {
     "name": "stderr",
     "output_type": "stream",
     "text": [
      "Test_Loader: 100%|██████████| 288/288 [00:03<00:00, 77.25it/s]\n"
     ]
    },
    {
     "name": "stdout",
     "output_type": "stream",
     "text": [
      "Loss1: 13.6799, Loss2: 4.8810, Loss3: 20.5496\n"
     ]
    },
    {
     "name": "stderr",
     "output_type": "stream",
     "text": [
      "Test_Loader: 100%|██████████| 288/288 [00:03<00:00, 77.24it/s]\n"
     ]
    },
    {
     "name": "stdout",
     "output_type": "stream",
     "text": [
      "Loss1: 13.5127, Loss2: 4.9428, Loss3: 21.3755\n"
     ]
    },
    {
     "name": "stderr",
     "output_type": "stream",
     "text": [
      "Test_Loader: 100%|██████████| 288/288 [00:03<00:00, 80.40it/s]\n"
     ]
    },
    {
     "name": "stdout",
     "output_type": "stream",
     "text": [
      "Loss1: 13.3377, Loss2: 4.6791, Loss3: 18.9666\n"
     ]
    },
    {
     "name": "stderr",
     "output_type": "stream",
     "text": [
      "Test_Loader: 100%|██████████| 288/288 [00:03<00:00, 81.42it/s]\n"
     ]
    },
    {
     "name": "stdout",
     "output_type": "stream",
     "text": [
      "Loss1: 12.6547, Loss2: 4.1671, Loss3: 22.8686\n"
     ]
    },
    {
     "name": "stderr",
     "output_type": "stream",
     "text": [
      "Test_Loader: 100%|██████████| 288/288 [00:03<00:00, 80.58it/s]\n"
     ]
    },
    {
     "name": "stdout",
     "output_type": "stream",
     "text": [
      "Loss1: 12.8113, Loss2: 4.9711, Loss3: 20.2480\n"
     ]
    },
    {
     "name": "stderr",
     "output_type": "stream",
     "text": [
      "Test_Loader: 100%|██████████| 288/288 [00:03<00:00, 79.71it/s]\n"
     ]
    },
    {
     "name": "stdout",
     "output_type": "stream",
     "text": [
      "Loss1: 12.5406, Loss2: 4.4894, Loss3: 19.6080\n"
     ]
    },
    {
     "name": "stderr",
     "output_type": "stream",
     "text": [
      "Test_Loader: 100%|██████████| 288/288 [00:03<00:00, 76.34it/s]\n"
     ]
    },
    {
     "name": "stdout",
     "output_type": "stream",
     "text": [
      "Loss1: 13.1643, Loss2: 4.8492, Loss3: 18.5108\n"
     ]
    },
    {
     "name": "stderr",
     "output_type": "stream",
     "text": [
      "Test_Loader: 100%|██████████| 288/288 [00:03<00:00, 79.21it/s]\n"
     ]
    },
    {
     "name": "stdout",
     "output_type": "stream",
     "text": [
      "Loss1: 13.1135, Loss2: 4.8258, Loss3: 19.0181\n"
     ]
    },
    {
     "name": "stderr",
     "output_type": "stream",
     "text": [
      "Test_Loader: 100%|██████████| 288/288 [00:03<00:00, 78.41it/s]\n"
     ]
    },
    {
     "name": "stdout",
     "output_type": "stream",
     "text": [
      "Loss1: 12.9290, Loss2: 5.0116, Loss3: 20.7104\n"
     ]
    },
    {
     "name": "stderr",
     "output_type": "stream",
     "text": [
      "Test_Loader: 100%|██████████| 288/288 [00:03<00:00, 77.77it/s]\n"
     ]
    },
    {
     "name": "stdout",
     "output_type": "stream",
     "text": [
      "Loss1: 12.9696, Loss2: 4.9669, Loss3: 19.7661\n"
     ]
    },
    {
     "name": "stderr",
     "output_type": "stream",
     "text": [
      "Test_Loader: 100%|██████████| 288/288 [00:03<00:00, 81.67it/s]\n"
     ]
    },
    {
     "name": "stdout",
     "output_type": "stream",
     "text": [
      "Loss1: 13.3798, Loss2: 5.0236, Loss3: 20.2394\n"
     ]
    },
    {
     "name": "stderr",
     "output_type": "stream",
     "text": [
      "Test_Loader: 100%|██████████| 288/288 [00:03<00:00, 78.34it/s]\n"
     ]
    },
    {
     "name": "stdout",
     "output_type": "stream",
     "text": [
      "Loss1: 13.3820, Loss2: 4.9090, Loss3: 20.0328\n"
     ]
    },
    {
     "name": "stderr",
     "output_type": "stream",
     "text": [
      "Test_Loader: 100%|██████████| 288/288 [00:03<00:00, 80.81it/s]\n"
     ]
    },
    {
     "name": "stdout",
     "output_type": "stream",
     "text": [
      "Loss1: 13.5059, Loss2: 5.4440, Loss3: 19.9270\n"
     ]
    },
    {
     "name": "stderr",
     "output_type": "stream",
     "text": [
      "Test_Loader: 100%|██████████| 288/288 [00:03<00:00, 81.52it/s]\n"
     ]
    },
    {
     "name": "stdout",
     "output_type": "stream",
     "text": [
      "Loss1: 13.4128, Loss2: 5.1337, Loss3: 20.8631\n"
     ]
    },
    {
     "name": "stderr",
     "output_type": "stream",
     "text": [
      "Test_Loader: 100%|██████████| 288/288 [00:03<00:00, 81.86it/s]\n"
     ]
    },
    {
     "name": "stdout",
     "output_type": "stream",
     "text": [
      "Loss1: 13.3863, Loss2: 5.3833, Loss3: 21.6182\n"
     ]
    },
    {
     "name": "stderr",
     "output_type": "stream",
     "text": [
      "Test_Loader: 100%|██████████| 288/288 [00:03<00:00, 81.20it/s]\n"
     ]
    },
    {
     "name": "stdout",
     "output_type": "stream",
     "text": [
      "Loss1: 13.3065, Loss2: 5.4937, Loss3: 21.0922\n"
     ]
    },
    {
     "name": "stderr",
     "output_type": "stream",
     "text": [
      "Test_Loader: 100%|██████████| 288/288 [00:03<00:00, 75.31it/s]\n"
     ]
    },
    {
     "name": "stdout",
     "output_type": "stream",
     "text": [
      "Loss1: 13.4669, Loss2: 5.6183, Loss3: 22.8130\n"
     ]
    },
    {
     "name": "stderr",
     "output_type": "stream",
     "text": [
      "Test_Loader: 100%|██████████| 288/288 [00:03<00:00, 81.74it/s]\n"
     ]
    },
    {
     "name": "stdout",
     "output_type": "stream",
     "text": [
      "Loss1: 12.7474, Loss2: 5.3676, Loss3: 20.7514\n"
     ]
    },
    {
     "name": "stderr",
     "output_type": "stream",
     "text": [
      "Test_Loader: 100%|██████████| 288/288 [00:03<00:00, 85.91it/s]\n"
     ]
    },
    {
     "name": "stdout",
     "output_type": "stream",
     "text": [
      "Loss1: 12.9013, Loss2: 5.2484, Loss3: 20.8327\n"
     ]
    },
    {
     "name": "stderr",
     "output_type": "stream",
     "text": [
      "Test_Loader: 100%|██████████| 288/288 [00:03<00:00, 83.45it/s]\n"
     ]
    },
    {
     "name": "stdout",
     "output_type": "stream",
     "text": [
      "Loss1: 12.4015, Loss2: 5.1260, Loss3: 21.6464\n"
     ]
    },
    {
     "name": "stderr",
     "output_type": "stream",
     "text": [
      "Test_Loader: 100%|██████████| 288/288 [00:03<00:00, 84.90it/s]\n"
     ]
    },
    {
     "name": "stdout",
     "output_type": "stream",
     "text": [
      "Loss1: 12.0011, Loss2: 5.2061, Loss3: 20.4151\n"
     ]
    },
    {
     "name": "stderr",
     "output_type": "stream",
     "text": [
      "Test_Loader: 100%|██████████| 288/288 [00:03<00:00, 84.29it/s]\n"
     ]
    },
    {
     "name": "stdout",
     "output_type": "stream",
     "text": [
      "Loss1: 12.1467, Loss2: 5.6732, Loss3: 20.4949\n"
     ]
    },
    {
     "name": "stderr",
     "output_type": "stream",
     "text": [
      "Test_Loader: 100%|██████████| 288/288 [00:03<00:00, 81.13it/s]\n"
     ]
    },
    {
     "name": "stdout",
     "output_type": "stream",
     "text": [
      "Loss1: 12.2543, Loss2: 5.4609, Loss3: 20.8231\n"
     ]
    },
    {
     "name": "stderr",
     "output_type": "stream",
     "text": [
      "Test_Loader: 100%|██████████| 288/288 [00:03<00:00, 81.07it/s]\n"
     ]
    },
    {
     "name": "stdout",
     "output_type": "stream",
     "text": [
      "Loss1: 12.2767, Loss2: 5.7447, Loss3: 21.3826\n"
     ]
    },
    {
     "name": "stderr",
     "output_type": "stream",
     "text": [
      "Test_Loader: 100%|██████████| 288/288 [00:03<00:00, 81.52it/s]\n"
     ]
    },
    {
     "name": "stdout",
     "output_type": "stream",
     "text": [
      "Loss1: 12.2403, Loss2: 5.6505, Loss3: 21.5535\n"
     ]
    },
    {
     "name": "stderr",
     "output_type": "stream",
     "text": [
      "Test_Loader: 100%|██████████| 288/288 [00:03<00:00, 79.67it/s]\n"
     ]
    },
    {
     "name": "stdout",
     "output_type": "stream",
     "text": [
      "Loss1: 12.0937, Loss2: 5.6404, Loss3: 21.4733\n"
     ]
    },
    {
     "name": "stderr",
     "output_type": "stream",
     "text": [
      "Test_Loader: 100%|██████████| 288/288 [00:03<00:00, 78.28it/s]\n"
     ]
    },
    {
     "name": "stdout",
     "output_type": "stream",
     "text": [
      "Loss1: 12.2148, Loss2: 5.6958, Loss3: 21.9827\n"
     ]
    },
    {
     "name": "stderr",
     "output_type": "stream",
     "text": [
      "Test_Loader: 100%|██████████| 288/288 [00:03<00:00, 78.21it/s]\n"
     ]
    },
    {
     "name": "stdout",
     "output_type": "stream",
     "text": [
      "Loss1: 12.0467, Loss2: 6.0431, Loss3: 22.5091\n"
     ]
    },
    {
     "name": "stderr",
     "output_type": "stream",
     "text": [
      "Test_Loader: 100%|██████████| 288/288 [00:03<00:00, 84.90it/s]\n"
     ]
    },
    {
     "name": "stdout",
     "output_type": "stream",
     "text": [
      "Loss1: 12.0308, Loss2: 5.9983, Loss3: 23.4627\n"
     ]
    },
    {
     "name": "stderr",
     "output_type": "stream",
     "text": [
      "Test_Loader: 100%|██████████| 288/288 [00:03<00:00, 86.54it/s]\n"
     ]
    },
    {
     "name": "stdout",
     "output_type": "stream",
     "text": [
      "Loss1: 12.1330, Loss2: 5.6439, Loss3: 22.0920\n"
     ]
    },
    {
     "name": "stderr",
     "output_type": "stream",
     "text": [
      "Test_Loader: 100%|██████████| 288/288 [00:03<00:00, 85.86it/s]\n"
     ]
    },
    {
     "name": "stdout",
     "output_type": "stream",
     "text": [
      "Loss1: 11.9351, Loss2: 5.9219, Loss3: 20.7815\n"
     ]
    },
    {
     "name": "stderr",
     "output_type": "stream",
     "text": [
      "Test_Loader: 100%|██████████| 288/288 [00:03<00:00, 79.22it/s]\n"
     ]
    },
    {
     "name": "stdout",
     "output_type": "stream",
     "text": [
      "Loss1: 12.2514, Loss2: 5.1879, Loss3: 22.1872\n"
     ]
    },
    {
     "name": "stderr",
     "output_type": "stream",
     "text": [
      "Test_Loader: 100%|██████████| 288/288 [00:03<00:00, 77.48it/s]\n"
     ]
    },
    {
     "name": "stdout",
     "output_type": "stream",
     "text": [
      "Loss1: 12.4020, Loss2: 5.6035, Loss3: 22.0465\n"
     ]
    },
    {
     "name": "stderr",
     "output_type": "stream",
     "text": [
      "Test_Loader: 100%|██████████| 288/288 [00:03<00:00, 80.49it/s]\n"
     ]
    },
    {
     "name": "stdout",
     "output_type": "stream",
     "text": [
      "Loss1: 12.5732, Loss2: 5.4927, Loss3: 21.8007\n"
     ]
    },
    {
     "name": "stderr",
     "output_type": "stream",
     "text": [
      "Test_Loader: 100%|██████████| 288/288 [00:03<00:00, 85.09it/s]\n"
     ]
    },
    {
     "name": "stdout",
     "output_type": "stream",
     "text": [
      "Loss1: 12.5475, Loss2: 6.0761, Loss3: 22.0819\n"
     ]
    },
    {
     "name": "stderr",
     "output_type": "stream",
     "text": [
      "Test_Loader: 100%|██████████| 288/288 [00:03<00:00, 84.78it/s]\n"
     ]
    },
    {
     "name": "stdout",
     "output_type": "stream",
     "text": [
      "Loss1: 12.4721, Loss2: 5.7189, Loss3: 22.1050\n"
     ]
    },
    {
     "name": "stderr",
     "output_type": "stream",
     "text": [
      "Test_Loader: 100%|██████████| 288/288 [00:03<00:00, 83.44it/s]\n"
     ]
    },
    {
     "name": "stdout",
     "output_type": "stream",
     "text": [
      "Loss1: 12.2253, Loss2: 5.7680, Loss3: 21.4047\n"
     ]
    },
    {
     "name": "stderr",
     "output_type": "stream",
     "text": [
      "Test_Loader: 100%|██████████| 288/288 [00:03<00:00, 81.44it/s]\n"
     ]
    },
    {
     "name": "stdout",
     "output_type": "stream",
     "text": [
      "Loss1: 12.4746, Loss2: 5.8947, Loss3: 21.9941\n"
     ]
    },
    {
     "name": "stderr",
     "output_type": "stream",
     "text": [
      "Test_Loader: 100%|██████████| 288/288 [00:03<00:00, 81.07it/s]\n"
     ]
    },
    {
     "name": "stdout",
     "output_type": "stream",
     "text": [
      "Loss1: 12.4057, Loss2: 5.9242, Loss3: 21.5744\n"
     ]
    },
    {
     "name": "stderr",
     "output_type": "stream",
     "text": [
      "Test_Loader: 100%|██████████| 288/288 [00:03<00:00, 78.52it/s]\n"
     ]
    },
    {
     "name": "stdout",
     "output_type": "stream",
     "text": [
      "Loss1: 12.4385, Loss2: 6.0017, Loss3: 21.2051\n"
     ]
    },
    {
     "name": "stderr",
     "output_type": "stream",
     "text": [
      "Test_Loader: 100%|██████████| 288/288 [00:03<00:00, 74.57it/s]\n"
     ]
    },
    {
     "name": "stdout",
     "output_type": "stream",
     "text": [
      "Loss1: 13.0363, Loss2: 5.9891, Loss3: 25.0963\n"
     ]
    },
    {
     "name": "stderr",
     "output_type": "stream",
     "text": [
      "Test_Loader: 100%|██████████| 288/288 [00:03<00:00, 74.02it/s]\n"
     ]
    },
    {
     "name": "stdout",
     "output_type": "stream",
     "text": [
      "Loss1: 11.9987, Loss2: 5.9460, Loss3: 20.7845\n"
     ]
    },
    {
     "name": "stderr",
     "output_type": "stream",
     "text": [
      "Test_Loader: 100%|██████████| 288/288 [00:03<00:00, 77.88it/s]\n"
     ]
    },
    {
     "name": "stdout",
     "output_type": "stream",
     "text": [
      "Loss1: 12.4312, Loss2: 6.0465, Loss3: 22.1773\n"
     ]
    },
    {
     "name": "stderr",
     "output_type": "stream",
     "text": [
      "Test_Loader: 100%|██████████| 288/288 [00:03<00:00, 72.22it/s]\n"
     ]
    },
    {
     "name": "stdout",
     "output_type": "stream",
     "text": [
      "Loss1: 12.9162, Loss2: 6.1933, Loss3: 22.5881\n"
     ]
    },
    {
     "name": "stderr",
     "output_type": "stream",
     "text": [
      "Test_Loader: 100%|██████████| 288/288 [00:04<00:00, 71.91it/s]\n"
     ]
    },
    {
     "name": "stdout",
     "output_type": "stream",
     "text": [
      "Loss1: 12.5965, Loss2: 5.9301, Loss3: 21.3623\n"
     ]
    },
    {
     "name": "stderr",
     "output_type": "stream",
     "text": [
      "Test_Loader: 100%|██████████| 288/288 [00:03<00:00, 76.17it/s]\n"
     ]
    },
    {
     "name": "stdout",
     "output_type": "stream",
     "text": [
      "Loss1: 12.6016, Loss2: 5.8909, Loss3: 21.4593\n"
     ]
    },
    {
     "name": "stderr",
     "output_type": "stream",
     "text": [
      "Test_Loader: 100%|██████████| 288/288 [00:03<00:00, 79.24it/s]\n"
     ]
    },
    {
     "name": "stdout",
     "output_type": "stream",
     "text": [
      "Loss1: 12.8620, Loss2: 5.9824, Loss3: 22.0251\n"
     ]
    },
    {
     "name": "stderr",
     "output_type": "stream",
     "text": [
      "Test_Loader: 100%|██████████| 288/288 [00:03<00:00, 86.36it/s]\n"
     ]
    },
    {
     "name": "stdout",
     "output_type": "stream",
     "text": [
      "Loss1: 12.6730, Loss2: 5.7466, Loss3: 21.6295\n"
     ]
    },
    {
     "name": "stderr",
     "output_type": "stream",
     "text": [
      "Test_Loader: 100%|██████████| 288/288 [00:03<00:00, 79.79it/s]\n"
     ]
    },
    {
     "name": "stdout",
     "output_type": "stream",
     "text": [
      "Loss1: 12.4695, Loss2: 6.0136, Loss3: 21.5484\n"
     ]
    },
    {
     "name": "stderr",
     "output_type": "stream",
     "text": [
      "Test_Loader: 100%|██████████| 288/288 [00:03<00:00, 76.96it/s]\n"
     ]
    },
    {
     "name": "stdout",
     "output_type": "stream",
     "text": [
      "Loss1: 12.2623, Loss2: 5.8411, Loss3: 21.2033\n"
     ]
    },
    {
     "name": "stderr",
     "output_type": "stream",
     "text": [
      "Test_Loader: 100%|██████████| 288/288 [00:03<00:00, 75.16it/s]\n"
     ]
    },
    {
     "name": "stdout",
     "output_type": "stream",
     "text": [
      "Loss1: 12.0435, Loss2: 5.6712, Loss3: 20.6954\n"
     ]
    },
    {
     "name": "stderr",
     "output_type": "stream",
     "text": [
      "Test_Loader: 100%|██████████| 288/288 [00:03<00:00, 86.02it/s]\n"
     ]
    },
    {
     "name": "stdout",
     "output_type": "stream",
     "text": [
      "Loss1: 12.5511, Loss2: 5.7996, Loss3: 22.3802\n"
     ]
    },
    {
     "name": "stderr",
     "output_type": "stream",
     "text": [
      "Test_Loader: 100%|██████████| 288/288 [00:03<00:00, 87.14it/s]\n"
     ]
    },
    {
     "name": "stdout",
     "output_type": "stream",
     "text": [
      "Loss1: 12.4181, Loss2: 5.5925, Loss3: 20.7380\n"
     ]
    },
    {
     "name": "stderr",
     "output_type": "stream",
     "text": [
      "Test_Loader: 100%|██████████| 288/288 [00:03<00:00, 83.33it/s]\n"
     ]
    },
    {
     "name": "stdout",
     "output_type": "stream",
     "text": [
      "Loss1: 12.9678, Loss2: 5.3408, Loss3: 24.6475\n"
     ]
    },
    {
     "name": "stderr",
     "output_type": "stream",
     "text": [
      "Test_Loader: 100%|██████████| 288/288 [00:03<00:00, 72.67it/s]\n"
     ]
    },
    {
     "name": "stdout",
     "output_type": "stream",
     "text": [
      "Loss1: 12.4925, Loss2: 5.8372, Loss3: 19.9665\n"
     ]
    },
    {
     "name": "stderr",
     "output_type": "stream",
     "text": [
      "Test_Loader: 100%|██████████| 288/288 [00:04<00:00, 70.12it/s]\n"
     ]
    },
    {
     "name": "stdout",
     "output_type": "stream",
     "text": [
      "Loss1: 12.5706, Loss2: 5.4239, Loss3: 20.7376\n"
     ]
    },
    {
     "name": "stderr",
     "output_type": "stream",
     "text": [
      "Test_Loader: 100%|██████████| 288/288 [00:03<00:00, 77.86it/s]\n"
     ]
    },
    {
     "name": "stdout",
     "output_type": "stream",
     "text": [
      "Loss1: 12.6631, Loss2: 5.6371, Loss3: 19.6729\n"
     ]
    },
    {
     "name": "stderr",
     "output_type": "stream",
     "text": [
      "Test_Loader: 100%|██████████| 288/288 [00:04<00:00, 70.02it/s]\n"
     ]
    },
    {
     "name": "stdout",
     "output_type": "stream",
     "text": [
      "Loss1: 12.6663, Loss2: 5.4949, Loss3: 19.7958\n"
     ]
    },
    {
     "name": "stderr",
     "output_type": "stream",
     "text": [
      "Test_Loader: 100%|██████████| 288/288 [00:04<00:00, 68.77it/s]\n"
     ]
    },
    {
     "name": "stdout",
     "output_type": "stream",
     "text": [
      "Loss1: 12.9118, Loss2: 5.5277, Loss3: 22.0467\n"
     ]
    },
    {
     "name": "stderr",
     "output_type": "stream",
     "text": [
      "Test_Loader: 100%|██████████| 288/288 [00:03<00:00, 72.91it/s]\n"
     ]
    },
    {
     "name": "stdout",
     "output_type": "stream",
     "text": [
      "Loss1: 12.5239, Loss2: 5.6437, Loss3: 20.7991\n"
     ]
    },
    {
     "name": "stderr",
     "output_type": "stream",
     "text": [
      "Test_Loader: 100%|██████████| 288/288 [00:03<00:00, 83.53it/s]\n"
     ]
    },
    {
     "name": "stdout",
     "output_type": "stream",
     "text": [
      "Loss1: 13.4383, Loss2: 5.9358, Loss3: 19.6504\n"
     ]
    },
    {
     "name": "stderr",
     "output_type": "stream",
     "text": [
      "Test_Loader: 100%|██████████| 288/288 [00:03<00:00, 81.44it/s]\n"
     ]
    },
    {
     "name": "stdout",
     "output_type": "stream",
     "text": [
      "Loss1: 12.8974, Loss2: 5.2210, Loss3: 19.6444\n"
     ]
    },
    {
     "name": "stderr",
     "output_type": "stream",
     "text": [
      "Test_Loader: 100%|██████████| 288/288 [00:03<00:00, 73.26it/s]\n"
     ]
    },
    {
     "name": "stdout",
     "output_type": "stream",
     "text": [
      "Loss1: 12.8149, Loss2: 5.4892, Loss3: 19.6110\n"
     ]
    },
    {
     "name": "stderr",
     "output_type": "stream",
     "text": [
      "Test_Loader: 100%|██████████| 288/288 [00:03<00:00, 75.12it/s]\n"
     ]
    },
    {
     "name": "stdout",
     "output_type": "stream",
     "text": [
      "Loss1: 12.7808, Loss2: 5.3818, Loss3: 20.7973\n"
     ]
    },
    {
     "name": "stderr",
     "output_type": "stream",
     "text": [
      "Test_Loader: 100%|██████████| 288/288 [00:03<00:00, 76.25it/s]\n"
     ]
    },
    {
     "name": "stdout",
     "output_type": "stream",
     "text": [
      "Loss1: 12.5376, Loss2: 5.4666, Loss3: 21.5229\n"
     ]
    },
    {
     "name": "stderr",
     "output_type": "stream",
     "text": [
      "Test_Loader: 100%|██████████| 288/288 [00:03<00:00, 85.87it/s]\n"
     ]
    },
    {
     "name": "stdout",
     "output_type": "stream",
     "text": [
      "Loss1: 12.5990, Loss2: 5.3420, Loss3: 18.9173\n"
     ]
    },
    {
     "name": "stderr",
     "output_type": "stream",
     "text": [
      "Test_Loader: 100%|██████████| 288/288 [00:03<00:00, 75.91it/s]\n"
     ]
    },
    {
     "name": "stdout",
     "output_type": "stream",
     "text": [
      "Loss1: 12.0820, Loss2: 5.3638, Loss3: 19.9188\n"
     ]
    },
    {
     "name": "stderr",
     "output_type": "stream",
     "text": [
      "Test_Loader: 100%|██████████| 288/288 [00:04<00:00, 70.89it/s]\n"
     ]
    },
    {
     "name": "stdout",
     "output_type": "stream",
     "text": [
      "Loss1: 13.3867, Loss2: 5.3931, Loss3: 20.1768\n"
     ]
    },
    {
     "name": "stderr",
     "output_type": "stream",
     "text": [
      "Test_Loader: 100%|██████████| 288/288 [00:03<00:00, 82.31it/s]\n"
     ]
    },
    {
     "name": "stdout",
     "output_type": "stream",
     "text": [
      "Loss1: 12.3188, Loss2: 5.5808, Loss3: 19.9092\n"
     ]
    },
    {
     "name": "stderr",
     "output_type": "stream",
     "text": [
      "Test_Loader: 100%|██████████| 288/288 [00:03<00:00, 84.03it/s]\n"
     ]
    },
    {
     "name": "stdout",
     "output_type": "stream",
     "text": [
      "Loss1: 12.6057, Loss2: 5.2572, Loss3: 21.1341\n"
     ]
    },
    {
     "name": "stderr",
     "output_type": "stream",
     "text": [
      "Test_Loader: 100%|██████████| 288/288 [00:03<00:00, 85.44it/s]\n"
     ]
    },
    {
     "name": "stdout",
     "output_type": "stream",
     "text": [
      "Loss1: 12.7368, Loss2: 5.4543, Loss3: 20.3523\n"
     ]
    },
    {
     "name": "stderr",
     "output_type": "stream",
     "text": [
      "Test_Loader: 100%|██████████| 288/288 [00:03<00:00, 78.97it/s]\n"
     ]
    },
    {
     "name": "stdout",
     "output_type": "stream",
     "text": [
      "Loss1: 12.4701, Loss2: 5.5464, Loss3: 19.6262\n"
     ]
    },
    {
     "name": "stderr",
     "output_type": "stream",
     "text": [
      "Test_Loader: 100%|██████████| 288/288 [00:04<00:00, 69.72it/s]\n"
     ]
    },
    {
     "name": "stdout",
     "output_type": "stream",
     "text": [
      "Loss1: 12.2931, Loss2: 5.5183, Loss3: 20.1121\n"
     ]
    },
    {
     "name": "stderr",
     "output_type": "stream",
     "text": [
      "Test_Loader: 100%|██████████| 288/288 [00:03<00:00, 72.38it/s]\n"
     ]
    },
    {
     "name": "stdout",
     "output_type": "stream",
     "text": [
      "Loss1: 12.5723, Loss2: 5.4382, Loss3: 19.9660\n"
     ]
    },
    {
     "name": "stderr",
     "output_type": "stream",
     "text": [
      "Test_Loader: 100%|██████████| 288/288 [00:03<00:00, 74.44it/s]\n"
     ]
    },
    {
     "name": "stdout",
     "output_type": "stream",
     "text": [
      "Loss1: 12.5495, Loss2: 5.5444, Loss3: 20.6901\n"
     ]
    },
    {
     "name": "stderr",
     "output_type": "stream",
     "text": [
      "Test_Loader: 100%|██████████| 288/288 [00:03<00:00, 74.46it/s]\n"
     ]
    },
    {
     "name": "stdout",
     "output_type": "stream",
     "text": [
      "Loss1: 12.4480, Loss2: 5.5556, Loss3: 20.1806\n"
     ]
    },
    {
     "name": "stderr",
     "output_type": "stream",
     "text": [
      "Test_Loader: 100%|██████████| 288/288 [00:03<00:00, 73.45it/s]\n"
     ]
    },
    {
     "name": "stdout",
     "output_type": "stream",
     "text": [
      "Loss1: 12.0298, Loss2: 5.6209, Loss3: 19.8064\n"
     ]
    },
    {
     "name": "stderr",
     "output_type": "stream",
     "text": [
      "Test_Loader: 100%|██████████| 288/288 [00:03<00:00, 80.55it/s]\n"
     ]
    },
    {
     "name": "stdout",
     "output_type": "stream",
     "text": [
      "Loss1: 12.3574, Loss2: 5.4418, Loss3: 20.2590\n"
     ]
    },
    {
     "name": "stderr",
     "output_type": "stream",
     "text": [
      "Test_Loader: 100%|██████████| 288/288 [00:03<00:00, 79.03it/s]\n"
     ]
    },
    {
     "name": "stdout",
     "output_type": "stream",
     "text": [
      "Loss1: 12.5052, Loss2: 5.5236, Loss3: 19.4487\n"
     ]
    },
    {
     "name": "stderr",
     "output_type": "stream",
     "text": [
      "Test_Loader: 100%|██████████| 288/288 [00:03<00:00, 78.43it/s]\n"
     ]
    },
    {
     "name": "stdout",
     "output_type": "stream",
     "text": [
      "Loss1: 12.3618, Loss2: 5.1550, Loss3: 20.5259\n"
     ]
    },
    {
     "name": "stderr",
     "output_type": "stream",
     "text": [
      "Test_Loader: 100%|██████████| 288/288 [00:03<00:00, 80.49it/s]\n"
     ]
    },
    {
     "name": "stdout",
     "output_type": "stream",
     "text": [
      "Loss1: 12.2271, Loss2: 4.7925, Loss3: 17.9787\n"
     ]
    },
    {
     "name": "stderr",
     "output_type": "stream",
     "text": [
      "Test_Loader: 100%|██████████| 288/288 [00:03<00:00, 81.84it/s]\n"
     ]
    },
    {
     "name": "stdout",
     "output_type": "stream",
     "text": [
      "Loss1: 12.0227, Loss2: 4.6381, Loss3: 18.5793\n"
     ]
    },
    {
     "name": "stderr",
     "output_type": "stream",
     "text": [
      "Test_Loader: 100%|██████████| 288/288 [00:03<00:00, 82.16it/s]\n"
     ]
    },
    {
     "name": "stdout",
     "output_type": "stream",
     "text": [
      "Loss1: 11.8103, Loss2: 4.7687, Loss3: 17.9962\n"
     ]
    },
    {
     "name": "stderr",
     "output_type": "stream",
     "text": [
      "Test_Loader: 100%|██████████| 288/288 [00:03<00:00, 76.90it/s]\n"
     ]
    },
    {
     "name": "stdout",
     "output_type": "stream",
     "text": [
      "Loss1: 11.8789, Loss2: 4.6343, Loss3: 18.8576\n"
     ]
    },
    {
     "name": "stderr",
     "output_type": "stream",
     "text": [
      "Test_Loader: 100%|██████████| 288/288 [00:03<00:00, 77.08it/s]\n"
     ]
    },
    {
     "name": "stdout",
     "output_type": "stream",
     "text": [
      "Loss1: 11.8681, Loss2: 4.8709, Loss3: 18.6957\n"
     ]
    },
    {
     "name": "stderr",
     "output_type": "stream",
     "text": [
      "Test_Loader: 100%|██████████| 288/288 [00:03<00:00, 75.49it/s]\n"
     ]
    },
    {
     "name": "stdout",
     "output_type": "stream",
     "text": [
      "Loss1: 12.6759, Loss2: 4.5324, Loss3: 18.7027\n"
     ]
    },
    {
     "name": "stderr",
     "output_type": "stream",
     "text": [
      "Test_Loader: 100%|██████████| 288/288 [00:03<00:00, 75.93it/s]\n"
     ]
    },
    {
     "name": "stdout",
     "output_type": "stream",
     "text": [
      "Loss1: 12.0715, Loss2: 5.0256, Loss3: 18.2506\n"
     ]
    },
    {
     "name": "stderr",
     "output_type": "stream",
     "text": [
      "Test_Loader: 100%|██████████| 288/288 [00:03<00:00, 72.91it/s]\n"
     ]
    },
    {
     "name": "stdout",
     "output_type": "stream",
     "text": [
      "Loss1: 12.8133, Loss2: 4.6565, Loss3: 18.6857\n"
     ]
    },
    {
     "name": "stderr",
     "output_type": "stream",
     "text": [
      "Test_Loader: 100%|██████████| 288/288 [00:03<00:00, 72.91it/s]\n"
     ]
    },
    {
     "name": "stdout",
     "output_type": "stream",
     "text": [
      "Loss1: 12.1850, Loss2: 4.8077, Loss3: 18.7935\n"
     ]
    },
    {
     "name": "stderr",
     "output_type": "stream",
     "text": [
      "Test_Loader: 100%|██████████| 288/288 [00:03<00:00, 80.05it/s]\n"
     ]
    },
    {
     "name": "stdout",
     "output_type": "stream",
     "text": [
      "Loss1: 11.9806, Loss2: 4.9013, Loss3: 18.5291\n"
     ]
    },
    {
     "name": "stderr",
     "output_type": "stream",
     "text": [
      "Test_Loader: 100%|██████████| 288/288 [00:03<00:00, 83.04it/s]\n"
     ]
    },
    {
     "name": "stdout",
     "output_type": "stream",
     "text": [
      "Loss1: 11.7507, Loss2: 4.9290, Loss3: 18.1931\n"
     ]
    },
    {
     "name": "stderr",
     "output_type": "stream",
     "text": [
      "Test_Loader: 100%|██████████| 288/288 [00:03<00:00, 81.84it/s]\n"
     ]
    },
    {
     "name": "stdout",
     "output_type": "stream",
     "text": [
      "Loss1: 12.0702, Loss2: 4.5801, Loss3: 18.0484\n"
     ]
    },
    {
     "name": "stderr",
     "output_type": "stream",
     "text": [
      "Test_Loader: 100%|██████████| 288/288 [00:03<00:00, 80.01it/s]\n"
     ]
    },
    {
     "name": "stdout",
     "output_type": "stream",
     "text": [
      "Loss1: 12.2614, Loss2: 4.8144, Loss3: 18.3777\n"
     ]
    },
    {
     "name": "stderr",
     "output_type": "stream",
     "text": [
      "Test_Loader: 100%|██████████| 288/288 [00:03<00:00, 74.06it/s]\n"
     ]
    },
    {
     "name": "stdout",
     "output_type": "stream",
     "text": [
      "Loss1: 11.8873, Loss2: 4.9118, Loss3: 17.9267\n"
     ]
    },
    {
     "name": "stderr",
     "output_type": "stream",
     "text": [
      "Test_Loader: 100%|██████████| 288/288 [00:03<00:00, 81.61it/s]\n"
     ]
    },
    {
     "name": "stdout",
     "output_type": "stream",
     "text": [
      "Loss1: 11.8754, Loss2: 4.8120, Loss3: 16.5396\n"
     ]
    },
    {
     "name": "stderr",
     "output_type": "stream",
     "text": [
      "Test_Loader: 100%|██████████| 288/288 [00:03<00:00, 76.82it/s]\n"
     ]
    },
    {
     "name": "stdout",
     "output_type": "stream",
     "text": [
      "Loss1: 11.8777, Loss2: 4.5009, Loss3: 16.8100\n"
     ]
    },
    {
     "name": "stderr",
     "output_type": "stream",
     "text": [
      "Test_Loader: 100%|██████████| 288/288 [00:03<00:00, 79.32it/s]\n"
     ]
    },
    {
     "name": "stdout",
     "output_type": "stream",
     "text": [
      "Loss1: 11.4360, Loss2: 4.3614, Loss3: 16.9160\n"
     ]
    },
    {
     "name": "stderr",
     "output_type": "stream",
     "text": [
      "Test_Loader: 100%|██████████| 288/288 [00:03<00:00, 78.03it/s]\n"
     ]
    },
    {
     "name": "stdout",
     "output_type": "stream",
     "text": [
      "Loss1: 11.7434, Loss2: 4.3286, Loss3: 17.3628\n"
     ]
    },
    {
     "name": "stderr",
     "output_type": "stream",
     "text": [
      "Test_Loader: 100%|██████████| 288/288 [00:03<00:00, 79.06it/s]\n"
     ]
    },
    {
     "name": "stdout",
     "output_type": "stream",
     "text": [
      "Loss1: 11.6783, Loss2: 4.8355, Loss3: 17.2574\n"
     ]
    },
    {
     "name": "stderr",
     "output_type": "stream",
     "text": [
      "Test_Loader: 100%|██████████| 288/288 [00:03<00:00, 80.16it/s]\n"
     ]
    },
    {
     "name": "stdout",
     "output_type": "stream",
     "text": [
      "Loss1: 12.3907, Loss2: 4.6803, Loss3: 17.4835\n"
     ]
    },
    {
     "name": "stderr",
     "output_type": "stream",
     "text": [
      "Test_Loader: 100%|██████████| 288/288 [00:03<00:00, 79.98it/s]\n"
     ]
    },
    {
     "name": "stdout",
     "output_type": "stream",
     "text": [
      "Loss1: 11.8192, Loss2: 4.6988, Loss3: 16.7722\n"
     ]
    },
    {
     "name": "stderr",
     "output_type": "stream",
     "text": [
      "Test_Loader: 100%|██████████| 288/288 [00:03<00:00, 79.69it/s]\n"
     ]
    },
    {
     "name": "stdout",
     "output_type": "stream",
     "text": [
      "Loss1: 11.6185, Loss2: 4.5841, Loss3: 17.1943\n"
     ]
    },
    {
     "name": "stderr",
     "output_type": "stream",
     "text": [
      "Test_Loader: 100%|██████████| 288/288 [00:03<00:00, 78.73it/s]\n"
     ]
    },
    {
     "name": "stdout",
     "output_type": "stream",
     "text": [
      "Loss1: 11.6842, Loss2: 4.3685, Loss3: 16.2227\n"
     ]
    },
    {
     "name": "stderr",
     "output_type": "stream",
     "text": [
      "Test_Loader: 100%|██████████| 288/288 [00:03<00:00, 79.78it/s]\n"
     ]
    },
    {
     "name": "stdout",
     "output_type": "stream",
     "text": [
      "Loss1: 11.6577, Loss2: 4.4993, Loss3: 16.7698\n"
     ]
    },
    {
     "name": "stderr",
     "output_type": "stream",
     "text": [
      "Test_Loader: 100%|██████████| 288/288 [00:03<00:00, 79.69it/s]\n"
     ]
    },
    {
     "name": "stdout",
     "output_type": "stream",
     "text": [
      "Loss1: 11.9818, Loss2: 4.5679, Loss3: 15.8085\n"
     ]
    },
    {
     "name": "stderr",
     "output_type": "stream",
     "text": [
      "Test_Loader: 100%|██████████| 288/288 [00:03<00:00, 80.20it/s]\n"
     ]
    },
    {
     "name": "stdout",
     "output_type": "stream",
     "text": [
      "Loss1: 11.1529, Loss2: 3.9524, Loss3: 18.0135\n"
     ]
    },
    {
     "name": "stderr",
     "output_type": "stream",
     "text": [
      "Test_Loader: 100%|██████████| 288/288 [00:03<00:00, 80.46it/s]\n"
     ]
    },
    {
     "name": "stdout",
     "output_type": "stream",
     "text": [
      "Loss1: 10.5618, Loss2: 4.2032, Loss3: 14.8591\n"
     ]
    },
    {
     "name": "stderr",
     "output_type": "stream",
     "text": [
      "Test_Loader: 100%|██████████| 288/288 [00:03<00:00, 83.21it/s]\n"
     ]
    },
    {
     "name": "stdout",
     "output_type": "stream",
     "text": [
      "Loss1: 11.0459, Loss2: 4.2928, Loss3: 15.8269\n"
     ]
    },
    {
     "name": "stderr",
     "output_type": "stream",
     "text": [
      "Test_Loader: 100%|██████████| 288/288 [00:03<00:00, 83.70it/s]\n"
     ]
    },
    {
     "name": "stdout",
     "output_type": "stream",
     "text": [
      "Loss1: 11.9908, Loss2: 4.2735, Loss3: 15.6716\n"
     ]
    },
    {
     "name": "stderr",
     "output_type": "stream",
     "text": [
      "Test_Loader: 100%|██████████| 288/288 [00:03<00:00, 79.81it/s]\n"
     ]
    },
    {
     "name": "stdout",
     "output_type": "stream",
     "text": [
      "Loss1: 11.5768, Loss2: 4.2340, Loss3: 15.1423\n"
     ]
    },
    {
     "name": "stderr",
     "output_type": "stream",
     "text": [
      "Test_Loader: 100%|██████████| 288/288 [00:03<00:00, 76.94it/s]\n"
     ]
    },
    {
     "name": "stdout",
     "output_type": "stream",
     "text": [
      "Loss1: 11.6814, Loss2: 4.3417, Loss3: 16.2038\n"
     ]
    },
    {
     "name": "stderr",
     "output_type": "stream",
     "text": [
      "Test_Loader: 100%|██████████| 288/288 [00:03<00:00, 78.70it/s]\n"
     ]
    },
    {
     "name": "stdout",
     "output_type": "stream",
     "text": [
      "Loss1: 11.9362, Loss2: 4.2580, Loss3: 15.4937\n"
     ]
    },
    {
     "name": "stderr",
     "output_type": "stream",
     "text": [
      "Test_Loader: 100%|██████████| 288/288 [00:03<00:00, 78.18it/s]\n"
     ]
    },
    {
     "name": "stdout",
     "output_type": "stream",
     "text": [
      "Loss1: 12.1387, Loss2: 4.2056, Loss3: 15.1710\n"
     ]
    },
    {
     "name": "stderr",
     "output_type": "stream",
     "text": [
      "Test_Loader: 100%|██████████| 288/288 [00:03<00:00, 78.45it/s]\n"
     ]
    },
    {
     "name": "stdout",
     "output_type": "stream",
     "text": [
      "Loss1: 12.3110, Loss2: 4.1479, Loss3: 14.6616\n"
     ]
    },
    {
     "name": "stderr",
     "output_type": "stream",
     "text": [
      "Test_Loader: 100%|██████████| 288/288 [00:03<00:00, 77.84it/s]\n"
     ]
    },
    {
     "name": "stdout",
     "output_type": "stream",
     "text": [
      "Loss1: 12.5897, Loss2: 4.2538, Loss3: 14.9354\n"
     ]
    },
    {
     "name": "stderr",
     "output_type": "stream",
     "text": [
      "Test_Loader: 100%|██████████| 288/288 [00:03<00:00, 83.85it/s]\n"
     ]
    },
    {
     "name": "stdout",
     "output_type": "stream",
     "text": [
      "Loss1: 12.2286, Loss2: 4.1558, Loss3: 15.7542\n"
     ]
    },
    {
     "name": "stderr",
     "output_type": "stream",
     "text": [
      "Test_Loader: 100%|██████████| 288/288 [00:03<00:00, 85.89it/s]\n"
     ]
    },
    {
     "name": "stdout",
     "output_type": "stream",
     "text": [
      "Loss1: 12.4078, Loss2: 4.2333, Loss3: 15.2788\n"
     ]
    },
    {
     "name": "stderr",
     "output_type": "stream",
     "text": [
      "Test_Loader: 100%|██████████| 288/288 [00:03<00:00, 84.89it/s]\n"
     ]
    },
    {
     "name": "stdout",
     "output_type": "stream",
     "text": [
      "Loss1: 12.5780, Loss2: 4.1249, Loss3: 18.0797\n"
     ]
    },
    {
     "name": "stderr",
     "output_type": "stream",
     "text": [
      "Test_Loader: 100%|██████████| 288/288 [00:03<00:00, 74.07it/s]\n"
     ]
    },
    {
     "name": "stdout",
     "output_type": "stream",
     "text": [
      "Loss1: 12.6796, Loss2: 4.2032, Loss3: 16.0978\n"
     ]
    },
    {
     "name": "stderr",
     "output_type": "stream",
     "text": [
      "Test_Loader: 100%|██████████| 288/288 [00:04<00:00, 71.13it/s]\n"
     ]
    },
    {
     "name": "stdout",
     "output_type": "stream",
     "text": [
      "Loss1: 12.2700, Loss2: 3.9648, Loss3: 15.4262\n"
     ]
    },
    {
     "name": "stderr",
     "output_type": "stream",
     "text": [
      "Test_Loader: 100%|██████████| 288/288 [00:03<00:00, 72.23it/s]\n"
     ]
    },
    {
     "name": "stdout",
     "output_type": "stream",
     "text": [
      "Loss1: 12.1293, Loss2: 4.3150, Loss3: 16.2310\n"
     ]
    },
    {
     "name": "stderr",
     "output_type": "stream",
     "text": [
      "Test_Loader: 100%|██████████| 288/288 [00:03<00:00, 86.96it/s]\n"
     ]
    },
    {
     "name": "stdout",
     "output_type": "stream",
     "text": [
      "Loss1: 12.5015, Loss2: 4.0614, Loss3: 14.6840\n"
     ]
    },
    {
     "name": "stderr",
     "output_type": "stream",
     "text": [
      "Test_Loader: 100%|██████████| 288/288 [00:03<00:00, 88.15it/s]\n"
     ]
    },
    {
     "name": "stdout",
     "output_type": "stream",
     "text": [
      "Loss1: 12.6544, Loss2: 4.1749, Loss3: 15.0161\n"
     ]
    },
    {
     "name": "stderr",
     "output_type": "stream",
     "text": [
      "Test_Loader: 100%|██████████| 288/288 [00:03<00:00, 85.01it/s]\n"
     ]
    },
    {
     "name": "stdout",
     "output_type": "stream",
     "text": [
      "Loss1: 12.1419, Loss2: 4.3380, Loss3: 14.5525\n"
     ]
    },
    {
     "name": "stderr",
     "output_type": "stream",
     "text": [
      "Test_Loader: 100%|██████████| 288/288 [00:03<00:00, 85.26it/s]\n"
     ]
    },
    {
     "name": "stdout",
     "output_type": "stream",
     "text": [
      "Loss1: 12.1455, Loss2: 4.2212, Loss3: 15.1649\n"
     ]
    },
    {
     "name": "stderr",
     "output_type": "stream",
     "text": [
      "Test_Loader: 100%|██████████| 288/288 [00:03<00:00, 81.97it/s]\n"
     ]
    },
    {
     "name": "stdout",
     "output_type": "stream",
     "text": [
      "Loss1: 12.5402, Loss2: 4.5021, Loss3: 15.4025\n"
     ]
    },
    {
     "name": "stderr",
     "output_type": "stream",
     "text": [
      "Test_Loader: 100%|██████████| 288/288 [00:03<00:00, 80.65it/s]\n"
     ]
    },
    {
     "name": "stdout",
     "output_type": "stream",
     "text": [
      "Loss1: 12.4994, Loss2: 4.7696, Loss3: 15.4177\n"
     ]
    },
    {
     "name": "stderr",
     "output_type": "stream",
     "text": [
      "Test_Loader: 100%|██████████| 288/288 [00:03<00:00, 77.53it/s]\n"
     ]
    },
    {
     "name": "stdout",
     "output_type": "stream",
     "text": [
      "Loss1: 12.5948, Loss2: 4.6537, Loss3: 16.5989\n"
     ]
    },
    {
     "name": "stderr",
     "output_type": "stream",
     "text": [
      "Test_Loader: 100%|██████████| 288/288 [00:03<00:00, 78.99it/s]\n"
     ]
    },
    {
     "name": "stdout",
     "output_type": "stream",
     "text": [
      "Loss1: 11.9669, Loss2: 4.6522, Loss3: 15.8346\n"
     ]
    },
    {
     "name": "stderr",
     "output_type": "stream",
     "text": [
      "Test_Loader: 100%|██████████| 288/288 [00:03<00:00, 79.78it/s]\n"
     ]
    },
    {
     "name": "stdout",
     "output_type": "stream",
     "text": [
      "Loss1: 12.2182, Loss2: 4.7068, Loss3: 16.2091\n"
     ]
    },
    {
     "name": "stderr",
     "output_type": "stream",
     "text": [
      "Test_Loader: 100%|██████████| 288/288 [00:03<00:00, 79.19it/s]\n"
     ]
    },
    {
     "name": "stdout",
     "output_type": "stream",
     "text": [
      "Loss1: 12.1845, Loss2: 4.1107, Loss3: 15.1053\n"
     ]
    },
    {
     "name": "stderr",
     "output_type": "stream",
     "text": [
      "Test_Loader: 100%|██████████| 288/288 [00:03<00:00, 77.82it/s]\n"
     ]
    },
    {
     "name": "stdout",
     "output_type": "stream",
     "text": [
      "Loss1: 11.7072, Loss2: 4.2679, Loss3: 15.2106\n"
     ]
    },
    {
     "name": "stderr",
     "output_type": "stream",
     "text": [
      "Test_Loader: 100%|██████████| 288/288 [00:03<00:00, 80.60it/s]\n"
     ]
    },
    {
     "name": "stdout",
     "output_type": "stream",
     "text": [
      "Loss1: 11.7239, Loss2: 4.2206, Loss3: 14.5375\n"
     ]
    },
    {
     "name": "stderr",
     "output_type": "stream",
     "text": [
      "Test_Loader: 100%|██████████| 288/288 [00:04<00:00, 70.57it/s]\n"
     ]
    },
    {
     "name": "stdout",
     "output_type": "stream",
     "text": [
      "Loss1: 12.2180, Loss2: 4.4690, Loss3: 18.5304\n"
     ]
    },
    {
     "name": "stderr",
     "output_type": "stream",
     "text": [
      "Test_Loader: 100%|██████████| 288/288 [00:03<00:00, 82.64it/s]\n"
     ]
    },
    {
     "name": "stdout",
     "output_type": "stream",
     "text": [
      "Loss1: 11.8784, Loss2: 4.1783, Loss3: 14.3753\n"
     ]
    },
    {
     "name": "stderr",
     "output_type": "stream",
     "text": [
      "Test_Loader: 100%|██████████| 288/288 [00:03<00:00, 80.48it/s]\n"
     ]
    },
    {
     "name": "stdout",
     "output_type": "stream",
     "text": [
      "Loss1: 11.7958, Loss2: 3.8860, Loss3: 15.8723\n"
     ]
    },
    {
     "name": "stderr",
     "output_type": "stream",
     "text": [
      "Test_Loader: 100%|██████████| 288/288 [00:03<00:00, 75.89it/s]\n"
     ]
    },
    {
     "name": "stdout",
     "output_type": "stream",
     "text": [
      "Loss1: 11.8336, Loss2: 4.4056, Loss3: 14.8052\n"
     ]
    },
    {
     "name": "stderr",
     "output_type": "stream",
     "text": [
      "Test_Loader: 100%|██████████| 288/288 [00:03<00:00, 75.51it/s]\n"
     ]
    },
    {
     "name": "stdout",
     "output_type": "stream",
     "text": [
      "Loss1: 11.5720, Loss2: 4.3168, Loss3: 14.8515\n"
     ]
    },
    {
     "name": "stderr",
     "output_type": "stream",
     "text": [
      "Test_Loader: 100%|██████████| 288/288 [00:03<00:00, 81.59it/s]\n"
     ]
    },
    {
     "name": "stdout",
     "output_type": "stream",
     "text": [
      "Loss1: 11.7093, Loss2: 4.2290, Loss3: 15.2717\n"
     ]
    },
    {
     "name": "stderr",
     "output_type": "stream",
     "text": [
      "Test_Loader: 100%|██████████| 288/288 [00:03<00:00, 86.92it/s]\n"
     ]
    },
    {
     "name": "stdout",
     "output_type": "stream",
     "text": [
      "Loss1: 11.6984, Loss2: 4.0809, Loss3: 15.1260\n"
     ]
    },
    {
     "name": "stderr",
     "output_type": "stream",
     "text": [
      "Test_Loader: 100%|██████████| 288/288 [00:03<00:00, 86.28it/s]\n"
     ]
    },
    {
     "name": "stdout",
     "output_type": "stream",
     "text": [
      "Loss1: 11.5928, Loss2: 4.2220, Loss3: 14.9417\n"
     ]
    },
    {
     "name": "stderr",
     "output_type": "stream",
     "text": [
      "Test_Loader: 100%|██████████| 288/288 [00:03<00:00, 83.46it/s]\n"
     ]
    },
    {
     "name": "stdout",
     "output_type": "stream",
     "text": [
      "Loss1: 11.7838, Loss2: 4.2036, Loss3: 16.0295\n"
     ]
    },
    {
     "name": "stderr",
     "output_type": "stream",
     "text": [
      "Test_Loader: 100%|██████████| 288/288 [00:03<00:00, 80.89it/s]\n"
     ]
    },
    {
     "name": "stdout",
     "output_type": "stream",
     "text": [
      "Loss1: 11.9011, Loss2: 4.1426, Loss3: 15.1532\n"
     ]
    },
    {
     "name": "stderr",
     "output_type": "stream",
     "text": [
      "Test_Loader: 100%|██████████| 288/288 [00:03<00:00, 81.38it/s]\n"
     ]
    },
    {
     "name": "stdout",
     "output_type": "stream",
     "text": [
      "Loss1: 12.3320, Loss2: 4.8387, Loss3: 20.5255\n"
     ]
    },
    {
     "name": "stderr",
     "output_type": "stream",
     "text": [
      "Test_Loader: 100%|██████████| 288/288 [00:03<00:00, 78.50it/s]\n"
     ]
    },
    {
     "name": "stdout",
     "output_type": "stream",
     "text": [
      "Loss1: 11.6894, Loss2: 4.2654, Loss3: 16.3736\n"
     ]
    },
    {
     "name": "stderr",
     "output_type": "stream",
     "text": [
      "Test_Loader: 100%|██████████| 288/288 [00:03<00:00, 76.46it/s]\n"
     ]
    },
    {
     "name": "stdout",
     "output_type": "stream",
     "text": [
      "Loss1: 11.8362, Loss2: 4.2933, Loss3: 16.3063\n"
     ]
    },
    {
     "name": "stderr",
     "output_type": "stream",
     "text": [
      "Test_Loader: 100%|██████████| 288/288 [00:03<00:00, 72.71it/s]\n"
     ]
    },
    {
     "name": "stdout",
     "output_type": "stream",
     "text": [
      "Loss1: 11.5412, Loss2: 4.1298, Loss3: 15.2708\n"
     ]
    },
    {
     "name": "stderr",
     "output_type": "stream",
     "text": [
      "Test_Loader: 100%|██████████| 288/288 [00:03<00:00, 72.84it/s]\n"
     ]
    },
    {
     "name": "stdout",
     "output_type": "stream",
     "text": [
      "Loss1: 12.2408, Loss2: 4.8032, Loss3: 15.5548\n"
     ]
    },
    {
     "name": "stderr",
     "output_type": "stream",
     "text": [
      "Test_Loader: 100%|██████████| 288/288 [00:03<00:00, 83.19it/s]\n"
     ]
    },
    {
     "name": "stdout",
     "output_type": "stream",
     "text": [
      "Loss1: 11.9468, Loss2: 4.8911, Loss3: 16.2183\n"
     ]
    },
    {
     "name": "stderr",
     "output_type": "stream",
     "text": [
      "Test_Loader: 100%|██████████| 288/288 [00:03<00:00, 83.09it/s]\n"
     ]
    },
    {
     "name": "stdout",
     "output_type": "stream",
     "text": [
      "Loss1: 12.0503, Loss2: 4.6528, Loss3: 16.1041\n"
     ]
    },
    {
     "name": "stderr",
     "output_type": "stream",
     "text": [
      "Test_Loader: 100%|██████████| 288/288 [00:03<00:00, 85.57it/s]\n"
     ]
    },
    {
     "name": "stdout",
     "output_type": "stream",
     "text": [
      "Loss1: 12.4099, Loss2: 4.6805, Loss3: 15.9175\n"
     ]
    },
    {
     "name": "stderr",
     "output_type": "stream",
     "text": [
      "Test_Loader: 100%|██████████| 288/288 [00:03<00:00, 85.51it/s]\n"
     ]
    },
    {
     "name": "stdout",
     "output_type": "stream",
     "text": [
      "Loss1: 12.6525, Loss2: 4.7538, Loss3: 16.9763\n"
     ]
    },
    {
     "name": "stderr",
     "output_type": "stream",
     "text": [
      "Test_Loader: 100%|██████████| 288/288 [00:04<00:00, 71.32it/s]\n"
     ]
    },
    {
     "name": "stdout",
     "output_type": "stream",
     "text": [
      "Loss1: 14.3968, Loss2: 5.1671, Loss3: 19.2156\n"
     ]
    },
    {
     "name": "stderr",
     "output_type": "stream",
     "text": [
      "Test_Loader: 100%|██████████| 288/288 [00:04<00:00, 65.50it/s]\n"
     ]
    },
    {
     "name": "stdout",
     "output_type": "stream",
     "text": [
      "Loss1: 13.9073, Loss2: 4.9730, Loss3: 17.4501\n"
     ]
    },
    {
     "name": "stderr",
     "output_type": "stream",
     "text": [
      "Test_Loader: 100%|██████████| 288/288 [00:04<00:00, 65.35it/s]\n"
     ]
    },
    {
     "name": "stdout",
     "output_type": "stream",
     "text": [
      "Loss1: 13.6793, Loss2: 4.7660, Loss3: 17.2537\n"
     ]
    },
    {
     "name": "stderr",
     "output_type": "stream",
     "text": [
      "Test_Loader: 100%|██████████| 288/288 [00:04<00:00, 67.16it/s]\n"
     ]
    },
    {
     "name": "stdout",
     "output_type": "stream",
     "text": [
      "Loss1: 14.2975, Loss2: 4.7894, Loss3: 18.2573\n"
     ]
    },
    {
     "name": "stderr",
     "output_type": "stream",
     "text": [
      "Test_Loader: 100%|██████████| 288/288 [00:04<00:00, 70.08it/s]\n"
     ]
    },
    {
     "name": "stdout",
     "output_type": "stream",
     "text": [
      "Loss1: 14.2797, Loss2: 4.9592, Loss3: 18.3361\n"
     ]
    },
    {
     "name": "stderr",
     "output_type": "stream",
     "text": [
      "Test_Loader: 100%|██████████| 288/288 [00:03<00:00, 76.08it/s]\n"
     ]
    },
    {
     "name": "stdout",
     "output_type": "stream",
     "text": [
      "Loss1: 14.5498, Loss2: 5.0617, Loss3: 18.4992\n"
     ]
    },
    {
     "name": "stderr",
     "output_type": "stream",
     "text": [
      "Test_Loader: 100%|██████████| 288/288 [00:03<00:00, 80.45it/s]\n"
     ]
    },
    {
     "name": "stdout",
     "output_type": "stream",
     "text": [
      "Loss1: 14.5958, Loss2: 5.2808, Loss3: 18.6380\n"
     ]
    },
    {
     "name": "stderr",
     "output_type": "stream",
     "text": [
      "Test_Loader: 100%|██████████| 288/288 [00:03<00:00, 81.66it/s]\n"
     ]
    },
    {
     "name": "stdout",
     "output_type": "stream",
     "text": [
      "Loss1: 15.0613, Loss2: 4.9839, Loss3: 20.3007\n"
     ]
    },
    {
     "name": "stderr",
     "output_type": "stream",
     "text": [
      "Test_Loader: 100%|██████████| 288/288 [00:03<00:00, 82.76it/s]\n"
     ]
    },
    {
     "name": "stdout",
     "output_type": "stream",
     "text": [
      "Loss1: 15.5445, Loss2: 5.0840, Loss3: 19.9820\n"
     ]
    },
    {
     "name": "stderr",
     "output_type": "stream",
     "text": [
      "Test_Loader: 100%|██████████| 288/288 [00:03<00:00, 82.31it/s]\n"
     ]
    },
    {
     "name": "stdout",
     "output_type": "stream",
     "text": [
      "Loss1: 15.5319, Loss2: 5.3323, Loss3: 20.1020\n"
     ]
    },
    {
     "name": "stderr",
     "output_type": "stream",
     "text": [
      "Test_Loader: 100%|██████████| 288/288 [00:03<00:00, 76.53it/s]\n"
     ]
    },
    {
     "name": "stdout",
     "output_type": "stream",
     "text": [
      "Loss1: 16.6341, Loss2: 5.1397, Loss3: 19.9413\n"
     ]
    },
    {
     "name": "stderr",
     "output_type": "stream",
     "text": [
      "Test_Loader: 100%|██████████| 288/288 [00:03<00:00, 76.25it/s]\n"
     ]
    },
    {
     "name": "stdout",
     "output_type": "stream",
     "text": [
      "Loss1: 15.6889, Loss2: 5.1985, Loss3: 19.6481\n"
     ]
    },
    {
     "name": "stderr",
     "output_type": "stream",
     "text": [
      "Test_Loader: 100%|██████████| 288/288 [00:03<00:00, 77.11it/s]\n"
     ]
    },
    {
     "name": "stdout",
     "output_type": "stream",
     "text": [
      "Loss1: 16.2007, Loss2: 5.4304, Loss3: 19.8132\n"
     ]
    },
    {
     "name": "stderr",
     "output_type": "stream",
     "text": [
      "Test_Loader: 100%|██████████| 288/288 [00:03<00:00, 79.80it/s]\n"
     ]
    },
    {
     "name": "stdout",
     "output_type": "stream",
     "text": [
      "Loss1: 15.8233, Loss2: 5.1971, Loss3: 19.2567\n"
     ]
    },
    {
     "name": "stderr",
     "output_type": "stream",
     "text": [
      "Test_Loader: 100%|██████████| 288/288 [00:03<00:00, 80.90it/s]\n"
     ]
    },
    {
     "name": "stdout",
     "output_type": "stream",
     "text": [
      "Loss1: 15.6856, Loss2: 5.2538, Loss3: 20.0708\n"
     ]
    },
    {
     "name": "stderr",
     "output_type": "stream",
     "text": [
      "Test_Loader: 100%|██████████| 288/288 [00:03<00:00, 81.56it/s]\n"
     ]
    },
    {
     "name": "stdout",
     "output_type": "stream",
     "text": [
      "Loss1: 16.3600, Loss2: 5.2655, Loss3: 20.1062\n"
     ]
    },
    {
     "name": "stderr",
     "output_type": "stream",
     "text": [
      "Test_Loader: 100%|██████████| 288/288 [00:03<00:00, 76.92it/s]\n"
     ]
    },
    {
     "name": "stdout",
     "output_type": "stream",
     "text": [
      "Loss1: 15.6870, Loss2: 5.1179, Loss3: 19.7017\n"
     ]
    },
    {
     "name": "stderr",
     "output_type": "stream",
     "text": [
      "Test_Loader: 100%|██████████| 288/288 [00:03<00:00, 75.53it/s]\n"
     ]
    },
    {
     "name": "stdout",
     "output_type": "stream",
     "text": [
      "Loss1: 16.1497, Loss2: 5.5839, Loss3: 21.0190\n"
     ]
    },
    {
     "name": "stderr",
     "output_type": "stream",
     "text": [
      "Test_Loader: 100%|██████████| 288/288 [00:03<00:00, 82.49it/s]\n"
     ]
    },
    {
     "name": "stdout",
     "output_type": "stream",
     "text": [
      "Loss1: 15.4911, Loss2: 5.3510, Loss3: 20.3032\n"
     ]
    },
    {
     "name": "stderr",
     "output_type": "stream",
     "text": [
      "Test_Loader: 100%|██████████| 288/288 [00:04<00:00, 69.76it/s]\n"
     ]
    },
    {
     "name": "stdout",
     "output_type": "stream",
     "text": [
      "Loss1: 15.6495, Loss2: 5.2207, Loss3: 20.3582\n"
     ]
    },
    {
     "name": "stderr",
     "output_type": "stream",
     "text": [
      "Test_Loader: 100%|██████████| 288/288 [00:03<00:00, 72.15it/s]\n"
     ]
    },
    {
     "name": "stdout",
     "output_type": "stream",
     "text": [
      "Loss1: 15.8042, Loss2: 5.1872, Loss3: 20.1577\n"
     ]
    },
    {
     "name": "stderr",
     "output_type": "stream",
     "text": [
      "Test_Loader: 100%|██████████| 288/288 [00:03<00:00, 77.32it/s]\n"
     ]
    },
    {
     "name": "stdout",
     "output_type": "stream",
     "text": [
      "Loss1: 15.9167, Loss2: 5.4526, Loss3: 20.0627\n"
     ]
    },
    {
     "name": "stderr",
     "output_type": "stream",
     "text": [
      "Test_Loader: 100%|██████████| 288/288 [00:03<00:00, 73.68it/s]\n"
     ]
    },
    {
     "name": "stdout",
     "output_type": "stream",
     "text": [
      "Loss1: 15.8384, Loss2: 5.4133, Loss3: 19.7204\n"
     ]
    },
    {
     "name": "stderr",
     "output_type": "stream",
     "text": [
      "Test_Loader: 100%|██████████| 288/288 [00:03<00:00, 73.79it/s]\n"
     ]
    },
    {
     "name": "stdout",
     "output_type": "stream",
     "text": [
      "Loss1: 15.5509, Loss2: 5.2507, Loss3: 20.4111\n"
     ]
    },
    {
     "name": "stderr",
     "output_type": "stream",
     "text": [
      "Test_Loader: 100%|██████████| 288/288 [00:03<00:00, 76.82it/s]\n"
     ]
    },
    {
     "name": "stdout",
     "output_type": "stream",
     "text": [
      "Loss1: 15.8400, Loss2: 5.1671, Loss3: 19.8843\n"
     ]
    },
    {
     "name": "stderr",
     "output_type": "stream",
     "text": [
      "Test_Loader: 100%|██████████| 288/288 [00:03<00:00, 83.73it/s]\n"
     ]
    },
    {
     "name": "stdout",
     "output_type": "stream",
     "text": [
      "Loss1: 15.6785, Loss2: 5.2849, Loss3: 20.2267\n"
     ]
    },
    {
     "name": "stderr",
     "output_type": "stream",
     "text": [
      "Test_Loader: 100%|██████████| 288/288 [00:03<00:00, 81.55it/s]\n"
     ]
    },
    {
     "name": "stdout",
     "output_type": "stream",
     "text": [
      "Loss1: 15.6763, Loss2: 5.1836, Loss3: 19.7082\n"
     ]
    },
    {
     "name": "stderr",
     "output_type": "stream",
     "text": [
      "Test_Loader: 100%|██████████| 288/288 [00:03<00:00, 79.40it/s]\n"
     ]
    },
    {
     "name": "stdout",
     "output_type": "stream",
     "text": [
      "Loss1: 15.4278, Loss2: 5.0959, Loss3: 19.3974\n"
     ]
    },
    {
     "name": "stderr",
     "output_type": "stream",
     "text": [
      "Test_Loader: 100%|██████████| 288/288 [00:03<00:00, 73.02it/s]\n"
     ]
    },
    {
     "name": "stdout",
     "output_type": "stream",
     "text": [
      "Loss1: 16.1175, Loss2: 5.0441, Loss3: 19.5488\n"
     ]
    },
    {
     "name": "stderr",
     "output_type": "stream",
     "text": [
      "Test_Loader: 100%|██████████| 288/288 [00:03<00:00, 73.55it/s]\n"
     ]
    },
    {
     "name": "stdout",
     "output_type": "stream",
     "text": [
      "Loss1: 15.2683, Loss2: 5.3022, Loss3: 18.9185\n"
     ]
    },
    {
     "name": "stderr",
     "output_type": "stream",
     "text": [
      "Test_Loader: 100%|██████████| 288/288 [00:03<00:00, 74.98it/s]\n"
     ]
    },
    {
     "name": "stdout",
     "output_type": "stream",
     "text": [
      "Loss1: 16.2330, Loss2: 4.9216, Loss3: 18.8587\n"
     ]
    },
    {
     "name": "stderr",
     "output_type": "stream",
     "text": [
      "Test_Loader: 100%|██████████| 288/288 [00:03<00:00, 78.37it/s]\n"
     ]
    },
    {
     "name": "stdout",
     "output_type": "stream",
     "text": [
      "Loss1: 15.1429, Loss2: 4.9970, Loss3: 18.9065\n"
     ]
    },
    {
     "name": "stderr",
     "output_type": "stream",
     "text": [
      "Test_Loader: 100%|██████████| 288/288 [00:03<00:00, 77.42it/s]\n"
     ]
    },
    {
     "name": "stdout",
     "output_type": "stream",
     "text": [
      "Loss1: 15.0117, Loss2: 4.7813, Loss3: 18.4630\n"
     ]
    },
    {
     "name": "stderr",
     "output_type": "stream",
     "text": [
      "Test_Loader: 100%|██████████| 288/288 [00:03<00:00, 76.07it/s]\n"
     ]
    },
    {
     "name": "stdout",
     "output_type": "stream",
     "text": [
      "Loss1: 15.8052, Loss2: 4.9463, Loss3: 18.6752\n"
     ]
    },
    {
     "name": "stderr",
     "output_type": "stream",
     "text": [
      "Test_Loader: 100%|██████████| 288/288 [00:03<00:00, 84.12it/s]\n"
     ]
    },
    {
     "name": "stdout",
     "output_type": "stream",
     "text": [
      "Loss1: 15.1630, Loss2: 5.2867, Loss3: 19.2657\n"
     ]
    },
    {
     "name": "stderr",
     "output_type": "stream",
     "text": [
      "Test_Loader: 100%|██████████| 288/288 [00:03<00:00, 84.76it/s]\n"
     ]
    },
    {
     "name": "stdout",
     "output_type": "stream",
     "text": [
      "Loss1: 16.3620, Loss2: 5.1352, Loss3: 18.6295\n"
     ]
    },
    {
     "name": "stderr",
     "output_type": "stream",
     "text": [
      "Test_Loader: 100%|██████████| 288/288 [00:03<00:00, 82.87it/s]\n"
     ]
    },
    {
     "name": "stdout",
     "output_type": "stream",
     "text": [
      "Loss1: 15.4785, Loss2: 5.1020, Loss3: 19.1385\n"
     ]
    },
    {
     "name": "stderr",
     "output_type": "stream",
     "text": [
      "Test_Loader: 100%|██████████| 288/288 [00:03<00:00, 83.08it/s]\n"
     ]
    },
    {
     "name": "stdout",
     "output_type": "stream",
     "text": [
      "Loss1: 15.9395, Loss2: 5.3384, Loss3: 18.6082\n"
     ]
    },
    {
     "name": "stderr",
     "output_type": "stream",
     "text": [
      "Test_Loader: 100%|██████████| 288/288 [00:03<00:00, 76.35it/s]\n"
     ]
    },
    {
     "name": "stdout",
     "output_type": "stream",
     "text": [
      "Loss1: 15.5810, Loss2: 5.1115, Loss3: 18.8861\n"
     ]
    },
    {
     "name": "stderr",
     "output_type": "stream",
     "text": [
      "Test_Loader: 100%|██████████| 288/288 [00:03<00:00, 74.50it/s]\n"
     ]
    },
    {
     "name": "stdout",
     "output_type": "stream",
     "text": [
      "Loss1: 15.9585, Loss2: 5.2972, Loss3: 19.1287\n"
     ]
    },
    {
     "name": "stderr",
     "output_type": "stream",
     "text": [
      "Test_Loader: 100%|██████████| 288/288 [00:04<00:00, 69.42it/s]\n"
     ]
    },
    {
     "name": "stdout",
     "output_type": "stream",
     "text": [
      "Loss1: 15.7224, Loss2: 5.3812, Loss3: 18.6711\n"
     ]
    },
    {
     "name": "stderr",
     "output_type": "stream",
     "text": [
      "Test_Loader: 100%|██████████| 288/288 [00:03<00:00, 75.55it/s]\n"
     ]
    },
    {
     "name": "stdout",
     "output_type": "stream",
     "text": [
      "Loss1: 15.7452, Loss2: 5.1917, Loss3: 19.8584\n"
     ]
    },
    {
     "name": "stderr",
     "output_type": "stream",
     "text": [
      "Test_Loader: 100%|██████████| 288/288 [00:03<00:00, 78.84it/s]\n"
     ]
    },
    {
     "name": "stdout",
     "output_type": "stream",
     "text": [
      "Loss1: 16.2481, Loss2: 5.1328, Loss3: 18.6736\n"
     ]
    },
    {
     "name": "stderr",
     "output_type": "stream",
     "text": [
      "Test_Loader: 100%|██████████| 288/288 [00:03<00:00, 85.31it/s]\n"
     ]
    },
    {
     "name": "stdout",
     "output_type": "stream",
     "text": [
      "Loss1: 15.1213, Loss2: 5.1366, Loss3: 19.3018\n"
     ]
    },
    {
     "name": "stderr",
     "output_type": "stream",
     "text": [
      "Test_Loader: 100%|██████████| 288/288 [00:03<00:00, 83.99it/s]\n"
     ]
    },
    {
     "name": "stdout",
     "output_type": "stream",
     "text": [
      "Loss1: 15.9890, Loss2: 5.5133, Loss3: 19.3249\n"
     ]
    },
    {
     "name": "stderr",
     "output_type": "stream",
     "text": [
      "Test_Loader: 100%|██████████| 288/288 [00:03<00:00, 83.63it/s]\n"
     ]
    },
    {
     "name": "stdout",
     "output_type": "stream",
     "text": [
      "Loss1: 15.7647, Loss2: 5.1161, Loss3: 18.7290\n"
     ]
    },
    {
     "name": "stderr",
     "output_type": "stream",
     "text": [
      "Test_Loader: 100%|██████████| 288/288 [00:03<00:00, 81.78it/s]\n"
     ]
    },
    {
     "name": "stdout",
     "output_type": "stream",
     "text": [
      "Loss1: 15.2274, Loss2: 5.1924, Loss3: 19.8809\n"
     ]
    },
    {
     "name": "stderr",
     "output_type": "stream",
     "text": [
      "Test_Loader: 100%|██████████| 288/288 [00:03<00:00, 79.56it/s]\n"
     ]
    },
    {
     "name": "stdout",
     "output_type": "stream",
     "text": [
      "Loss1: 16.1821, Loss2: 5.3805, Loss3: 19.3573\n"
     ]
    },
    {
     "name": "stderr",
     "output_type": "stream",
     "text": [
      "Test_Loader: 100%|██████████| 288/288 [00:03<00:00, 78.20it/s]\n"
     ]
    },
    {
     "name": "stdout",
     "output_type": "stream",
     "text": [
      "Loss1: 14.8670, Loss2: 5.1353, Loss3: 18.5907\n"
     ]
    },
    {
     "name": "stderr",
     "output_type": "stream",
     "text": [
      "Test_Loader: 100%|██████████| 288/288 [00:03<00:00, 75.69it/s]\n"
     ]
    },
    {
     "name": "stdout",
     "output_type": "stream",
     "text": [
      "Loss1: 15.3304, Loss2: 5.1053, Loss3: 18.8775\n"
     ]
    },
    {
     "name": "stderr",
     "output_type": "stream",
     "text": [
      "Test_Loader: 100%|██████████| 288/288 [00:03<00:00, 75.89it/s]\n"
     ]
    },
    {
     "name": "stdout",
     "output_type": "stream",
     "text": [
      "Loss1: 15.2667, Loss2: 5.1289, Loss3: 18.3190\n"
     ]
    },
    {
     "name": "stderr",
     "output_type": "stream",
     "text": [
      "Test_Loader: 100%|██████████| 288/288 [00:03<00:00, 75.44it/s]\n"
     ]
    },
    {
     "name": "stdout",
     "output_type": "stream",
     "text": [
      "Loss1: 15.4507, Loss2: 5.2742, Loss3: 19.4695\n"
     ]
    },
    {
     "name": "stderr",
     "output_type": "stream",
     "text": [
      "Test_Loader: 100%|██████████| 288/288 [00:03<00:00, 77.80it/s]\n"
     ]
    },
    {
     "name": "stdout",
     "output_type": "stream",
     "text": [
      "Loss1: 15.0048, Loss2: 4.8420, Loss3: 18.2188\n"
     ]
    },
    {
     "name": "stderr",
     "output_type": "stream",
     "text": [
      "Test_Loader: 100%|██████████| 288/288 [00:03<00:00, 80.38it/s]\n"
     ]
    },
    {
     "name": "stdout",
     "output_type": "stream",
     "text": [
      "Loss1: 14.7937, Loss2: 5.0824, Loss3: 23.6943\n"
     ]
    },
    {
     "name": "stderr",
     "output_type": "stream",
     "text": [
      "Test_Loader: 100%|██████████| 288/288 [00:03<00:00, 81.60it/s]\n"
     ]
    },
    {
     "name": "stdout",
     "output_type": "stream",
     "text": [
      "Loss1: 14.8599, Loss2: 4.9033, Loss3: 18.5422\n"
     ]
    },
    {
     "name": "stderr",
     "output_type": "stream",
     "text": [
      "Test_Loader: 100%|██████████| 288/288 [00:03<00:00, 81.84it/s]\n"
     ]
    },
    {
     "name": "stdout",
     "output_type": "stream",
     "text": [
      "Loss1: 14.0618, Loss2: 5.0627, Loss3: 18.6285\n"
     ]
    },
    {
     "name": "stderr",
     "output_type": "stream",
     "text": [
      "Test_Loader: 100%|██████████| 288/288 [00:03<00:00, 78.50it/s]\n"
     ]
    },
    {
     "name": "stdout",
     "output_type": "stream",
     "text": [
      "Loss1: 14.6709, Loss2: 4.9751, Loss3: 20.2329\n"
     ]
    },
    {
     "name": "stderr",
     "output_type": "stream",
     "text": [
      "Test_Loader: 100%|██████████| 288/288 [00:03<00:00, 78.90it/s]\n"
     ]
    },
    {
     "name": "stdout",
     "output_type": "stream",
     "text": [
      "Loss1: 13.6953, Loss2: 4.6346, Loss3: 17.6434\n"
     ]
    },
    {
     "name": "stderr",
     "output_type": "stream",
     "text": [
      "Test_Loader: 100%|██████████| 288/288 [00:03<00:00, 76.72it/s]\n"
     ]
    },
    {
     "name": "stdout",
     "output_type": "stream",
     "text": [
      "Loss1: 14.3397, Loss2: 4.5656, Loss3: 17.6235\n"
     ]
    },
    {
     "name": "stderr",
     "output_type": "stream",
     "text": [
      "Test_Loader: 100%|██████████| 288/288 [00:03<00:00, 83.05it/s]\n"
     ]
    },
    {
     "name": "stdout",
     "output_type": "stream",
     "text": [
      "Loss1: 14.0258, Loss2: 4.6649, Loss3: 17.4722\n"
     ]
    },
    {
     "name": "stderr",
     "output_type": "stream",
     "text": [
      "Test_Loader: 100%|██████████| 288/288 [00:03<00:00, 83.16it/s]\n"
     ]
    },
    {
     "name": "stdout",
     "output_type": "stream",
     "text": [
      "Loss1: 14.4505, Loss2: 4.8395, Loss3: 17.7111\n"
     ]
    },
    {
     "name": "stderr",
     "output_type": "stream",
     "text": [
      "Test_Loader: 100%|██████████| 288/288 [00:03<00:00, 81.12it/s]\n"
     ]
    },
    {
     "name": "stdout",
     "output_type": "stream",
     "text": [
      "Loss1: 14.0007, Loss2: 4.7311, Loss3: 17.8691\n"
     ]
    },
    {
     "name": "stderr",
     "output_type": "stream",
     "text": [
      "Test_Loader: 100%|██████████| 288/288 [00:03<00:00, 75.32it/s]\n"
     ]
    },
    {
     "name": "stdout",
     "output_type": "stream",
     "text": [
      "Loss1: 13.6482, Loss2: 4.6308, Loss3: 17.6646\n"
     ]
    },
    {
     "name": "stderr",
     "output_type": "stream",
     "text": [
      "Test_Loader: 100%|██████████| 288/288 [00:03<00:00, 77.71it/s]\n"
     ]
    },
    {
     "name": "stdout",
     "output_type": "stream",
     "text": [
      "Loss1: 14.1239, Loss2: 4.6605, Loss3: 18.9160\n"
     ]
    },
    {
     "name": "stderr",
     "output_type": "stream",
     "text": [
      "Test_Loader: 100%|██████████| 288/288 [00:03<00:00, 79.25it/s]\n"
     ]
    },
    {
     "name": "stdout",
     "output_type": "stream",
     "text": [
      "Loss1: 13.7972, Loss2: 4.7956, Loss3: 17.7454\n"
     ]
    },
    {
     "name": "stderr",
     "output_type": "stream",
     "text": [
      "Test_Loader: 100%|██████████| 288/288 [00:03<00:00, 84.09it/s]\n"
     ]
    },
    {
     "name": "stdout",
     "output_type": "stream",
     "text": [
      "Loss1: 13.8920, Loss2: 4.7026, Loss3: 18.1392\n"
     ]
    },
    {
     "name": "stderr",
     "output_type": "stream",
     "text": [
      "Test_Loader: 100%|██████████| 288/288 [00:03<00:00, 83.68it/s]\n"
     ]
    },
    {
     "name": "stdout",
     "output_type": "stream",
     "text": [
      "Loss1: 13.5551, Loss2: 4.8277, Loss3: 18.4712\n"
     ]
    },
    {
     "name": "stderr",
     "output_type": "stream",
     "text": [
      "Test_Loader: 100%|██████████| 288/288 [00:03<00:00, 84.76it/s]\n"
     ]
    },
    {
     "name": "stdout",
     "output_type": "stream",
     "text": [
      "Loss1: 13.4998, Loss2: 4.5882, Loss3: 17.6368\n"
     ]
    },
    {
     "name": "stderr",
     "output_type": "stream",
     "text": [
      "Test_Loader: 100%|██████████| 288/288 [00:03<00:00, 85.08it/s]\n"
     ]
    },
    {
     "name": "stdout",
     "output_type": "stream",
     "text": [
      "Loss1: 12.9879, Loss2: 4.4187, Loss3: 17.8643\n"
     ]
    },
    {
     "name": "stderr",
     "output_type": "stream",
     "text": [
      "Test_Loader: 100%|██████████| 288/288 [00:03<00:00, 86.07it/s]\n"
     ]
    },
    {
     "name": "stdout",
     "output_type": "stream",
     "text": [
      "Loss1: 13.8294, Loss2: 5.0136, Loss3: 20.0891\n"
     ]
    },
    {
     "name": "stderr",
     "output_type": "stream",
     "text": [
      "Test_Loader: 100%|██████████| 288/288 [00:03<00:00, 83.38it/s]\n"
     ]
    },
    {
     "name": "stdout",
     "output_type": "stream",
     "text": [
      "Loss1: 13.0280, Loss2: 4.0653, Loss3: 16.0526\n"
     ]
    },
    {
     "name": "stderr",
     "output_type": "stream",
     "text": [
      "Test_Loader: 100%|██████████| 288/288 [00:03<00:00, 72.71it/s]\n"
     ]
    },
    {
     "name": "stdout",
     "output_type": "stream",
     "text": [
      "Loss1: 13.2520, Loss2: 3.8671, Loss3: 16.4028\n"
     ]
    },
    {
     "name": "stderr",
     "output_type": "stream",
     "text": [
      "Test_Loader: 100%|██████████| 288/288 [00:03<00:00, 72.29it/s]\n"
     ]
    },
    {
     "name": "stdout",
     "output_type": "stream",
     "text": [
      "Loss1: 13.0159, Loss2: 4.1034, Loss3: 16.8233\n"
     ]
    },
    {
     "name": "stderr",
     "output_type": "stream",
     "text": [
      "Test_Loader: 100%|██████████| 288/288 [00:03<00:00, 82.06it/s]\n"
     ]
    },
    {
     "name": "stdout",
     "output_type": "stream",
     "text": [
      "Loss1: 12.9439, Loss2: 3.9370, Loss3: 16.2038\n"
     ]
    },
    {
     "name": "stderr",
     "output_type": "stream",
     "text": [
      "Test_Loader: 100%|██████████| 288/288 [00:03<00:00, 83.02it/s]\n"
     ]
    },
    {
     "name": "stdout",
     "output_type": "stream",
     "text": [
      "Loss1: 12.9975, Loss2: 4.0657, Loss3: 16.7565\n"
     ]
    },
    {
     "name": "stderr",
     "output_type": "stream",
     "text": [
      "Test_Loader: 100%|██████████| 288/288 [00:03<00:00, 84.26it/s]\n"
     ]
    },
    {
     "name": "stdout",
     "output_type": "stream",
     "text": [
      "Loss1: 12.9934, Loss2: 4.2034, Loss3: 16.7421\n"
     ]
    },
    {
     "name": "stderr",
     "output_type": "stream",
     "text": [
      "Test_Loader: 100%|██████████| 288/288 [00:03<00:00, 81.13it/s]\n"
     ]
    },
    {
     "name": "stdout",
     "output_type": "stream",
     "text": [
      "Loss1: 13.2311, Loss2: 4.1460, Loss3: 16.8974\n"
     ]
    },
    {
     "name": "stderr",
     "output_type": "stream",
     "text": [
      "Test_Loader: 100%|██████████| 288/288 [00:03<00:00, 85.41it/s]\n"
     ]
    },
    {
     "name": "stdout",
     "output_type": "stream",
     "text": [
      "Loss1: 13.2611, Loss2: 4.5903, Loss3: 16.9937\n"
     ]
    },
    {
     "name": "stderr",
     "output_type": "stream",
     "text": [
      "Test_Loader: 100%|██████████| 288/288 [00:03<00:00, 82.88it/s]\n"
     ]
    },
    {
     "name": "stdout",
     "output_type": "stream",
     "text": [
      "Loss1: 13.5477, Loss2: 4.5028, Loss3: 17.6577\n"
     ]
    },
    {
     "name": "stderr",
     "output_type": "stream",
     "text": [
      "Test_Loader: 100%|██████████| 288/288 [00:03<00:00, 82.10it/s]\n"
     ]
    },
    {
     "name": "stdout",
     "output_type": "stream",
     "text": [
      "Loss1: 13.5999, Loss2: 4.6039, Loss3: 20.6245\n"
     ]
    },
    {
     "name": "stderr",
     "output_type": "stream",
     "text": [
      "Test_Loader: 100%|██████████| 288/288 [00:03<00:00, 78.79it/s]\n"
     ]
    },
    {
     "name": "stdout",
     "output_type": "stream",
     "text": [
      "Loss1: 13.6324, Loss2: 4.5996, Loss3: 17.1467\n"
     ]
    },
    {
     "name": "stderr",
     "output_type": "stream",
     "text": [
      "Test_Loader: 100%|██████████| 288/288 [00:03<00:00, 78.45it/s]\n"
     ]
    },
    {
     "name": "stdout",
     "output_type": "stream",
     "text": [
      "Loss1: 13.4473, Loss2: 4.4651, Loss3: 17.5608\n"
     ]
    },
    {
     "name": "stderr",
     "output_type": "stream",
     "text": [
      "Test_Loader: 100%|██████████| 288/288 [00:03<00:00, 78.35it/s]\n"
     ]
    },
    {
     "name": "stdout",
     "output_type": "stream",
     "text": [
      "Loss1: 13.5119, Loss2: 4.3200, Loss3: 16.7400\n"
     ]
    },
    {
     "name": "stderr",
     "output_type": "stream",
     "text": [
      "Test_Loader: 100%|██████████| 288/288 [00:03<00:00, 75.79it/s]\n"
     ]
    },
    {
     "name": "stdout",
     "output_type": "stream",
     "text": [
      "Loss1: 13.3649, Loss2: 4.3937, Loss3: 17.2200\n"
     ]
    },
    {
     "name": "stderr",
     "output_type": "stream",
     "text": [
      "Test_Loader: 100%|██████████| 288/288 [00:03<00:00, 75.67it/s]\n"
     ]
    },
    {
     "name": "stdout",
     "output_type": "stream",
     "text": [
      "Loss1: 13.2847, Loss2: 4.2342, Loss3: 18.6071\n"
     ]
    },
    {
     "name": "stderr",
     "output_type": "stream",
     "text": [
      "Test_Loader: 100%|██████████| 288/288 [00:03<00:00, 74.90it/s]\n"
     ]
    },
    {
     "name": "stdout",
     "output_type": "stream",
     "text": [
      "Loss1: 13.6084, Loss2: 4.4256, Loss3: 16.9000\n"
     ]
    },
    {
     "name": "stderr",
     "output_type": "stream",
     "text": [
      "Test_Loader: 100%|██████████| 288/288 [00:03<00:00, 74.34it/s]\n"
     ]
    },
    {
     "name": "stdout",
     "output_type": "stream",
     "text": [
      "Loss1: 13.5025, Loss2: 4.3597, Loss3: 16.6825\n"
     ]
    },
    {
     "name": "stderr",
     "output_type": "stream",
     "text": [
      "Test_Loader: 100%|██████████| 288/288 [00:03<00:00, 76.75it/s]\n"
     ]
    },
    {
     "name": "stdout",
     "output_type": "stream",
     "text": [
      "Loss1: 13.4938, Loss2: 4.1073, Loss3: 16.3358\n"
     ]
    },
    {
     "name": "stderr",
     "output_type": "stream",
     "text": [
      "Test_Loader: 100%|██████████| 288/288 [00:03<00:00, 75.47it/s]\n"
     ]
    },
    {
     "name": "stdout",
     "output_type": "stream",
     "text": [
      "Loss1: 13.5078, Loss2: 4.3403, Loss3: 16.4064\n"
     ]
    },
    {
     "name": "stderr",
     "output_type": "stream",
     "text": [
      "Test_Loader: 100%|██████████| 288/288 [00:03<00:00, 77.96it/s]\n"
     ]
    },
    {
     "name": "stdout",
     "output_type": "stream",
     "text": [
      "Loss1: 13.3872, Loss2: 4.3272, Loss3: 16.8581\n"
     ]
    },
    {
     "name": "stderr",
     "output_type": "stream",
     "text": [
      "Test_Loader: 100%|██████████| 288/288 [00:03<00:00, 78.88it/s]\n"
     ]
    },
    {
     "name": "stdout",
     "output_type": "stream",
     "text": [
      "Loss1: 14.0360, Loss2: 4.1800, Loss3: 17.0414\n"
     ]
    },
    {
     "name": "stderr",
     "output_type": "stream",
     "text": [
      "Test_Loader: 100%|██████████| 288/288 [00:03<00:00, 85.99it/s]\n"
     ]
    },
    {
     "name": "stdout",
     "output_type": "stream",
     "text": [
      "Loss1: 13.5765, Loss2: 4.1664, Loss3: 17.3204\n"
     ]
    },
    {
     "name": "stderr",
     "output_type": "stream",
     "text": [
      "Test_Loader: 100%|██████████| 288/288 [00:03<00:00, 84.06it/s]\n"
     ]
    },
    {
     "name": "stdout",
     "output_type": "stream",
     "text": [
      "Loss1: 13.9968, Loss2: 4.0616, Loss3: 15.7347\n"
     ]
    },
    {
     "name": "stderr",
     "output_type": "stream",
     "text": [
      "Test_Loader: 100%|██████████| 288/288 [00:03<00:00, 83.02it/s]\n"
     ]
    },
    {
     "name": "stdout",
     "output_type": "stream",
     "text": [
      "Loss1: 13.6950, Loss2: 3.9292, Loss3: 17.6506\n"
     ]
    },
    {
     "name": "stderr",
     "output_type": "stream",
     "text": [
      "Test_Loader: 100%|██████████| 288/288 [00:03<00:00, 77.96it/s]\n"
     ]
    },
    {
     "name": "stdout",
     "output_type": "stream",
     "text": [
      "Loss1: 13.7099, Loss2: 4.3273, Loss3: 19.8576\n"
     ]
    },
    {
     "name": "stderr",
     "output_type": "stream",
     "text": [
      "Test_Loader: 100%|██████████| 288/288 [00:03<00:00, 78.73it/s]\n"
     ]
    },
    {
     "name": "stdout",
     "output_type": "stream",
     "text": [
      "Loss1: 13.3745, Loss2: 4.2521, Loss3: 17.3148\n"
     ]
    },
    {
     "name": "stderr",
     "output_type": "stream",
     "text": [
      "Test_Loader: 100%|██████████| 288/288 [00:03<00:00, 82.10it/s]\n"
     ]
    },
    {
     "name": "stdout",
     "output_type": "stream",
     "text": [
      "Loss1: 13.2255, Loss2: 4.6003, Loss3: 18.4035\n"
     ]
    },
    {
     "name": "stderr",
     "output_type": "stream",
     "text": [
      "Test_Loader: 100%|██████████| 288/288 [00:03<00:00, 81.59it/s]\n"
     ]
    },
    {
     "name": "stdout",
     "output_type": "stream",
     "text": [
      "Loss1: 13.2887, Loss2: 4.4338, Loss3: 16.1716\n"
     ]
    },
    {
     "name": "stderr",
     "output_type": "stream",
     "text": [
      "Test_Loader: 100%|██████████| 288/288 [00:03<00:00, 79.81it/s]\n"
     ]
    },
    {
     "name": "stdout",
     "output_type": "stream",
     "text": [
      "Loss1: 12.6586, Loss2: 4.1947, Loss3: 16.0032\n"
     ]
    },
    {
     "name": "stderr",
     "output_type": "stream",
     "text": [
      "Test_Loader: 100%|██████████| 288/288 [00:03<00:00, 79.93it/s]\n"
     ]
    },
    {
     "name": "stdout",
     "output_type": "stream",
     "text": [
      "Loss1: 12.6880, Loss2: 4.2706, Loss3: 16.5593\n"
     ]
    },
    {
     "name": "stderr",
     "output_type": "stream",
     "text": [
      "Test_Loader: 100%|██████████| 288/288 [00:03<00:00, 76.92it/s]\n"
     ]
    },
    {
     "name": "stdout",
     "output_type": "stream",
     "text": [
      "Loss1: 12.2305, Loss2: 4.0273, Loss3: 15.4704\n"
     ]
    },
    {
     "name": "stderr",
     "output_type": "stream",
     "text": [
      "Test_Loader: 100%|██████████| 288/288 [00:03<00:00, 72.22it/s]\n"
     ]
    },
    {
     "name": "stdout",
     "output_type": "stream",
     "text": [
      "Loss1: 11.8149, Loss2: 4.1975, Loss3: 15.2877\n"
     ]
    },
    {
     "name": "stderr",
     "output_type": "stream",
     "text": [
      "Test_Loader: 100%|██████████| 288/288 [00:03<00:00, 75.14it/s]\n"
     ]
    },
    {
     "name": "stdout",
     "output_type": "stream",
     "text": [
      "Loss1: 12.5625, Loss2: 3.9831, Loss3: 15.2239\n"
     ]
    },
    {
     "name": "stderr",
     "output_type": "stream",
     "text": [
      "Test_Loader: 100%|██████████| 288/288 [00:03<00:00, 73.55it/s]\n"
     ]
    },
    {
     "name": "stdout",
     "output_type": "stream",
     "text": [
      "Loss1: 11.2774, Loss2: 4.1450, Loss3: 14.6330\n"
     ]
    },
    {
     "name": "stderr",
     "output_type": "stream",
     "text": [
      "Test_Loader: 100%|██████████| 288/288 [00:03<00:00, 74.05it/s]\n"
     ]
    },
    {
     "name": "stdout",
     "output_type": "stream",
     "text": [
      "Loss1: 11.7375, Loss2: 4.1550, Loss3: 14.5065\n"
     ]
    },
    {
     "name": "stderr",
     "output_type": "stream",
     "text": [
      "Test_Loader: 100%|██████████| 288/288 [00:03<00:00, 81.01it/s]\n"
     ]
    },
    {
     "name": "stdout",
     "output_type": "stream",
     "text": [
      "Loss1: 10.8120, Loss2: 4.0043, Loss3: 13.8889\n"
     ]
    },
    {
     "name": "stderr",
     "output_type": "stream",
     "text": [
      "Test_Loader: 100%|██████████| 288/288 [00:03<00:00, 74.51it/s]\n"
     ]
    },
    {
     "name": "stdout",
     "output_type": "stream",
     "text": [
      "Loss1: 11.0188, Loss2: 4.3668, Loss3: 14.0410\n"
     ]
    },
    {
     "name": "stderr",
     "output_type": "stream",
     "text": [
      "Test_Loader: 100%|██████████| 288/288 [00:03<00:00, 78.03it/s]\n"
     ]
    },
    {
     "name": "stdout",
     "output_type": "stream",
     "text": [
      "Loss1: 10.9058, Loss2: 4.0700, Loss3: 13.8233\n"
     ]
    },
    {
     "name": "stderr",
     "output_type": "stream",
     "text": [
      "Test_Loader: 100%|██████████| 288/288 [00:03<00:00, 79.73it/s]\n"
     ]
    },
    {
     "name": "stdout",
     "output_type": "stream",
     "text": [
      "Loss1: 10.9623, Loss2: 3.8902, Loss3: 14.0065\n"
     ]
    },
    {
     "name": "stderr",
     "output_type": "stream",
     "text": [
      "Test_Loader: 100%|██████████| 288/288 [00:03<00:00, 83.70it/s]\n"
     ]
    },
    {
     "name": "stdout",
     "output_type": "stream",
     "text": [
      "Loss1: 11.1049, Loss2: 4.1989, Loss3: 14.4344\n"
     ]
    },
    {
     "name": "stderr",
     "output_type": "stream",
     "text": [
      "Test_Loader: 100%|██████████| 288/288 [00:03<00:00, 76.98it/s]\n"
     ]
    },
    {
     "name": "stdout",
     "output_type": "stream",
     "text": [
      "Loss1: 11.0512, Loss2: 4.0721, Loss3: 13.1908\n"
     ]
    },
    {
     "name": "stderr",
     "output_type": "stream",
     "text": [
      "Test_Loader: 100%|██████████| 288/288 [00:03<00:00, 74.59it/s]\n"
     ]
    },
    {
     "name": "stdout",
     "output_type": "stream",
     "text": [
      "Loss1: 10.6549, Loss2: 3.9206, Loss3: 13.0369\n"
     ]
    },
    {
     "name": "stderr",
     "output_type": "stream",
     "text": [
      "Test_Loader: 100%|██████████| 288/288 [00:03<00:00, 73.91it/s]\n"
     ]
    },
    {
     "name": "stdout",
     "output_type": "stream",
     "text": [
      "Loss1: 10.9476, Loss2: 3.8688, Loss3: 13.0201\n"
     ]
    },
    {
     "name": "stderr",
     "output_type": "stream",
     "text": [
      "Test_Loader: 100%|██████████| 288/288 [00:03<00:00, 76.82it/s]\n"
     ]
    },
    {
     "name": "stdout",
     "output_type": "stream",
     "text": [
      "Loss1: 11.3718, Loss2: 3.8311, Loss3: 13.1939\n"
     ]
    },
    {
     "name": "stderr",
     "output_type": "stream",
     "text": [
      "Test_Loader: 100%|██████████| 288/288 [00:03<00:00, 73.35it/s]\n"
     ]
    },
    {
     "name": "stdout",
     "output_type": "stream",
     "text": [
      "Loss1: 11.2530, Loss2: 3.8598, Loss3: 13.2835\n"
     ]
    },
    {
     "name": "stderr",
     "output_type": "stream",
     "text": [
      "Test_Loader: 100%|██████████| 288/288 [00:03<00:00, 77.23it/s]\n"
     ]
    },
    {
     "name": "stdout",
     "output_type": "stream",
     "text": [
      "Loss1: 11.4773, Loss2: 3.8923, Loss3: 13.0135\n"
     ]
    },
    {
     "name": "stderr",
     "output_type": "stream",
     "text": [
      "Test_Loader: 100%|██████████| 288/288 [00:03<00:00, 79.66it/s]\n"
     ]
    },
    {
     "name": "stdout",
     "output_type": "stream",
     "text": [
      "Loss1: 11.0159, Loss2: 3.6895, Loss3: 13.0154\n"
     ]
    },
    {
     "name": "stderr",
     "output_type": "stream",
     "text": [
      "Test_Loader: 100%|██████████| 288/288 [00:03<00:00, 81.91it/s]\n"
     ]
    },
    {
     "name": "stdout",
     "output_type": "stream",
     "text": [
      "Loss1: 11.0630, Loss2: 3.9071, Loss3: 13.2397\n"
     ]
    },
    {
     "name": "stderr",
     "output_type": "stream",
     "text": [
      "Test_Loader: 100%|██████████| 288/288 [00:03<00:00, 82.90it/s]\n"
     ]
    },
    {
     "name": "stdout",
     "output_type": "stream",
     "text": [
      "Loss1: 10.9701, Loss2: 3.9613, Loss3: 13.5949\n"
     ]
    },
    {
     "name": "stderr",
     "output_type": "stream",
     "text": [
      "Test_Loader: 100%|██████████| 288/288 [00:03<00:00, 76.61it/s]\n"
     ]
    },
    {
     "name": "stdout",
     "output_type": "stream",
     "text": [
      "Loss1: 10.9531, Loss2: 4.0443, Loss3: 13.3711\n"
     ]
    },
    {
     "name": "stderr",
     "output_type": "stream",
     "text": [
      "Test_Loader: 100%|██████████| 288/288 [00:03<00:00, 79.95it/s]\n"
     ]
    },
    {
     "name": "stdout",
     "output_type": "stream",
     "text": [
      "Loss1: 11.0033, Loss2: 3.6998, Loss3: 13.3515\n"
     ]
    },
    {
     "name": "stderr",
     "output_type": "stream",
     "text": [
      "Test_Loader: 100%|██████████| 288/288 [00:03<00:00, 81.49it/s]\n"
     ]
    },
    {
     "name": "stdout",
     "output_type": "stream",
     "text": [
      "Loss1: 10.7160, Loss2: 3.8488, Loss3: 13.0334\n"
     ]
    },
    {
     "name": "stderr",
     "output_type": "stream",
     "text": [
      "Test_Loader: 100%|██████████| 288/288 [00:03<00:00, 79.16it/s]\n"
     ]
    },
    {
     "name": "stdout",
     "output_type": "stream",
     "text": [
      "Loss1: 10.8561, Loss2: 3.9816, Loss3: 12.8873\n"
     ]
    },
    {
     "name": "stderr",
     "output_type": "stream",
     "text": [
      "Test_Loader: 100%|██████████| 288/288 [00:03<00:00, 74.46it/s]\n"
     ]
    },
    {
     "name": "stdout",
     "output_type": "stream",
     "text": [
      "Loss1: 10.8863, Loss2: 3.9671, Loss3: 13.0887\n"
     ]
    },
    {
     "name": "stderr",
     "output_type": "stream",
     "text": [
      "Test_Loader: 100%|██████████| 288/288 [00:03<00:00, 74.03it/s]\n"
     ]
    },
    {
     "name": "stdout",
     "output_type": "stream",
     "text": [
      "Loss1: 10.6700, Loss2: 3.9974, Loss3: 12.8743\n"
     ]
    },
    {
     "name": "stderr",
     "output_type": "stream",
     "text": [
      "Test_Loader: 100%|██████████| 288/288 [00:03<00:00, 76.93it/s]\n"
     ]
    },
    {
     "name": "stdout",
     "output_type": "stream",
     "text": [
      "Loss1: 10.5193, Loss2: 3.8566, Loss3: 12.9013\n"
     ]
    },
    {
     "name": "stderr",
     "output_type": "stream",
     "text": [
      "Test_Loader: 100%|██████████| 288/288 [00:03<00:00, 80.31it/s]\n"
     ]
    },
    {
     "name": "stdout",
     "output_type": "stream",
     "text": [
      "Loss1: 10.5712, Loss2: 3.8138, Loss3: 13.1607\n"
     ]
    },
    {
     "name": "stderr",
     "output_type": "stream",
     "text": [
      "Test_Loader: 100%|██████████| 288/288 [00:03<00:00, 78.14it/s]\n"
     ]
    },
    {
     "name": "stdout",
     "output_type": "stream",
     "text": [
      "Loss1: 10.5377, Loss2: 4.1402, Loss3: 13.0618\n"
     ]
    },
    {
     "name": "stderr",
     "output_type": "stream",
     "text": [
      "Test_Loader: 100%|██████████| 288/288 [00:03<00:00, 78.79it/s]\n"
     ]
    },
    {
     "name": "stdout",
     "output_type": "stream",
     "text": [
      "Loss1: 11.0471, Loss2: 4.0188, Loss3: 13.0288\n"
     ]
    },
    {
     "name": "stderr",
     "output_type": "stream",
     "text": [
      "Test_Loader: 100%|██████████| 288/288 [00:03<00:00, 81.91it/s]\n"
     ]
    },
    {
     "name": "stdout",
     "output_type": "stream",
     "text": [
      "Loss1: 10.7577, Loss2: 3.9618, Loss3: 13.2725\n"
     ]
    },
    {
     "name": "stderr",
     "output_type": "stream",
     "text": [
      "Test_Loader: 100%|██████████| 288/288 [00:03<00:00, 79.51it/s]\n"
     ]
    },
    {
     "name": "stdout",
     "output_type": "stream",
     "text": [
      "Loss1: 10.6047, Loss2: 3.7448, Loss3: 12.2734\n"
     ]
    },
    {
     "name": "stderr",
     "output_type": "stream",
     "text": [
      "Test_Loader: 100%|██████████| 288/288 [00:03<00:00, 79.01it/s]\n"
     ]
    },
    {
     "name": "stdout",
     "output_type": "stream",
     "text": [
      "Loss1: 10.4681, Loss2: 3.5953, Loss3: 12.5364\n"
     ]
    },
    {
     "name": "stderr",
     "output_type": "stream",
     "text": [
      "Test_Loader: 100%|██████████| 288/288 [00:03<00:00, 77.08it/s]\n"
     ]
    },
    {
     "name": "stdout",
     "output_type": "stream",
     "text": [
      "Loss1: 10.7546, Loss2: 3.7468, Loss3: 12.6601\n"
     ]
    },
    {
     "name": "stderr",
     "output_type": "stream",
     "text": [
      "Test_Loader: 100%|██████████| 288/288 [00:03<00:00, 75.88it/s]\n"
     ]
    },
    {
     "name": "stdout",
     "output_type": "stream",
     "text": [
      "Loss1: 10.3360, Loss2: 3.6404, Loss3: 11.8869\n"
     ]
    },
    {
     "name": "stderr",
     "output_type": "stream",
     "text": [
      "Test_Loader: 100%|██████████| 288/288 [00:03<00:00, 76.78it/s]\n"
     ]
    },
    {
     "name": "stdout",
     "output_type": "stream",
     "text": [
      "Loss1: 11.0280, Loss2: 3.4738, Loss3: 11.9417\n"
     ]
    },
    {
     "name": "stderr",
     "output_type": "stream",
     "text": [
      "Test_Loader: 100%|██████████| 288/288 [00:03<00:00, 76.31it/s]\n"
     ]
    },
    {
     "name": "stdout",
     "output_type": "stream",
     "text": [
      "Loss1: 11.2670, Loss2: 3.8258, Loss3: 12.9822\n"
     ]
    },
    {
     "name": "stderr",
     "output_type": "stream",
     "text": [
      "Test_Loader: 100%|██████████| 288/288 [00:03<00:00, 80.35it/s]\n"
     ]
    },
    {
     "name": "stdout",
     "output_type": "stream",
     "text": [
      "Loss1: 11.1501, Loss2: 3.9476, Loss3: 12.7795\n"
     ]
    },
    {
     "name": "stderr",
     "output_type": "stream",
     "text": [
      "Test_Loader: 100%|██████████| 288/288 [00:03<00:00, 78.41it/s]\n"
     ]
    },
    {
     "name": "stdout",
     "output_type": "stream",
     "text": [
      "Loss1: 11.3384, Loss2: 3.7774, Loss3: 12.2053\n"
     ]
    },
    {
     "name": "stderr",
     "output_type": "stream",
     "text": [
      "Test_Loader: 100%|██████████| 288/288 [00:03<00:00, 80.67it/s]\n"
     ]
    },
    {
     "name": "stdout",
     "output_type": "stream",
     "text": [
      "Loss1: 11.4838, Loss2: 3.9842, Loss3: 13.3915\n"
     ]
    },
    {
     "name": "stderr",
     "output_type": "stream",
     "text": [
      "Test_Loader: 100%|██████████| 288/288 [00:03<00:00, 81.05it/s]\n"
     ]
    },
    {
     "name": "stdout",
     "output_type": "stream",
     "text": [
      "Loss1: 11.0903, Loss2: 3.8490, Loss3: 12.6470\n"
     ]
    },
    {
     "name": "stderr",
     "output_type": "stream",
     "text": [
      "Test_Loader: 100%|██████████| 288/288 [00:03<00:00, 78.75it/s]\n"
     ]
    },
    {
     "name": "stdout",
     "output_type": "stream",
     "text": [
      "Loss1: 11.4664, Loss2: 3.9489, Loss3: 12.6032\n"
     ]
    },
    {
     "name": "stderr",
     "output_type": "stream",
     "text": [
      "Test_Loader: 100%|██████████| 288/288 [00:03<00:00, 81.46it/s]\n"
     ]
    },
    {
     "name": "stdout",
     "output_type": "stream",
     "text": [
      "Loss1: 10.9341, Loss2: 3.7950, Loss3: 12.2563\n"
     ]
    },
    {
     "name": "stderr",
     "output_type": "stream",
     "text": [
      "Test_Loader: 100%|██████████| 288/288 [00:03<00:00, 80.19it/s]\n"
     ]
    },
    {
     "name": "stdout",
     "output_type": "stream",
     "text": [
      "Loss1: 11.3151, Loss2: 3.7452, Loss3: 12.4295\n"
     ]
    },
    {
     "name": "stderr",
     "output_type": "stream",
     "text": [
      "Test_Loader: 100%|██████████| 288/288 [00:03<00:00, 78.03it/s]\n"
     ]
    },
    {
     "name": "stdout",
     "output_type": "stream",
     "text": [
      "Loss1: 11.0181, Loss2: 4.0261, Loss3: 12.6649\n"
     ]
    },
    {
     "name": "stderr",
     "output_type": "stream",
     "text": [
      "Test_Loader: 100%|██████████| 288/288 [00:04<00:00, 71.08it/s]\n"
     ]
    },
    {
     "name": "stdout",
     "output_type": "stream",
     "text": [
      "Loss1: 11.0353, Loss2: 4.0394, Loss3: 13.0828\n"
     ]
    },
    {
     "name": "stderr",
     "output_type": "stream",
     "text": [
      "Test_Loader: 100%|██████████| 288/288 [00:03<00:00, 72.82it/s]\n"
     ]
    },
    {
     "name": "stdout",
     "output_type": "stream",
     "text": [
      "Loss1: 11.2121, Loss2: 3.9348, Loss3: 12.6821\n"
     ]
    },
    {
     "name": "stderr",
     "output_type": "stream",
     "text": [
      "Test_Loader: 100%|██████████| 288/288 [00:03<00:00, 80.47it/s]\n"
     ]
    },
    {
     "name": "stdout",
     "output_type": "stream",
     "text": [
      "Loss1: 10.5492, Loss2: 3.9783, Loss3: 13.0373\n"
     ]
    },
    {
     "name": "stderr",
     "output_type": "stream",
     "text": [
      "Test_Loader: 100%|██████████| 288/288 [00:03<00:00, 82.72it/s]\n"
     ]
    },
    {
     "name": "stdout",
     "output_type": "stream",
     "text": [
      "Loss1: 10.7714, Loss2: 3.9718, Loss3: 12.7916\n"
     ]
    },
    {
     "name": "stderr",
     "output_type": "stream",
     "text": [
      "Test_Loader: 100%|██████████| 288/288 [00:03<00:00, 83.53it/s]\n"
     ]
    },
    {
     "name": "stdout",
     "output_type": "stream",
     "text": [
      "Loss1: 10.4765, Loss2: 4.1989, Loss3: 12.9912\n"
     ]
    },
    {
     "name": "stderr",
     "output_type": "stream",
     "text": [
      "Test_Loader: 100%|██████████| 288/288 [00:03<00:00, 82.13it/s]\n"
     ]
    },
    {
     "name": "stdout",
     "output_type": "stream",
     "text": [
      "Loss1: 10.9429, Loss2: 3.8366, Loss3: 13.0444\n"
     ]
    },
    {
     "name": "stderr",
     "output_type": "stream",
     "text": [
      "Test_Loader: 100%|██████████| 288/288 [00:03<00:00, 79.24it/s]\n"
     ]
    },
    {
     "name": "stdout",
     "output_type": "stream",
     "text": [
      "Loss1: 10.5953, Loss2: 4.0304, Loss3: 13.0334\n"
     ]
    },
    {
     "name": "stderr",
     "output_type": "stream",
     "text": [
      "Test_Loader: 100%|██████████| 288/288 [00:03<00:00, 79.80it/s]\n"
     ]
    },
    {
     "name": "stdout",
     "output_type": "stream",
     "text": [
      "Loss1: 10.8038, Loss2: 3.7478, Loss3: 12.5874\n"
     ]
    },
    {
     "name": "stderr",
     "output_type": "stream",
     "text": [
      "Test_Loader: 100%|██████████| 288/288 [00:03<00:00, 75.19it/s]\n"
     ]
    },
    {
     "name": "stdout",
     "output_type": "stream",
     "text": [
      "Loss1: 10.8813, Loss2: 3.9204, Loss3: 12.7934\n"
     ]
    },
    {
     "name": "stderr",
     "output_type": "stream",
     "text": [
      "Test_Loader: 100%|██████████| 288/288 [00:03<00:00, 76.75it/s]\n"
     ]
    },
    {
     "name": "stdout",
     "output_type": "stream",
     "text": [
      "Loss1: 11.0122, Loss2: 3.7983, Loss3: 12.9059\n"
     ]
    },
    {
     "name": "stderr",
     "output_type": "stream",
     "text": [
      "Test_Loader: 100%|██████████| 288/288 [00:03<00:00, 77.21it/s]\n"
     ]
    },
    {
     "name": "stdout",
     "output_type": "stream",
     "text": [
      "Loss1: 10.8933, Loss2: 4.0501, Loss3: 14.1144\n"
     ]
    },
    {
     "name": "stderr",
     "output_type": "stream",
     "text": [
      "Test_Loader: 100%|██████████| 288/288 [00:03<00:00, 78.82it/s]\n"
     ]
    },
    {
     "name": "stdout",
     "output_type": "stream",
     "text": [
      "Loss1: 10.7471, Loss2: 3.8168, Loss3: 13.1996\n"
     ]
    },
    {
     "name": "stderr",
     "output_type": "stream",
     "text": [
      "Test_Loader: 100%|██████████| 288/288 [00:03<00:00, 79.21it/s]\n"
     ]
    },
    {
     "name": "stdout",
     "output_type": "stream",
     "text": [
      "Loss1: 10.8474, Loss2: 3.8496, Loss3: 15.1567\n"
     ]
    },
    {
     "name": "stderr",
     "output_type": "stream",
     "text": [
      "Test_Loader: 100%|██████████| 288/288 [00:03<00:00, 79.44it/s]\n"
     ]
    },
    {
     "name": "stdout",
     "output_type": "stream",
     "text": [
      "Loss1: 10.7688, Loss2: 3.9750, Loss3: 12.8722\n"
     ]
    },
    {
     "name": "stderr",
     "output_type": "stream",
     "text": [
      "Test_Loader: 100%|██████████| 288/288 [00:03<00:00, 82.95it/s]\n"
     ]
    },
    {
     "name": "stdout",
     "output_type": "stream",
     "text": [
      "Loss1: 11.1588, Loss2: 3.7955, Loss3: 13.1693\n"
     ]
    },
    {
     "name": "stderr",
     "output_type": "stream",
     "text": [
      "Test_Loader: 100%|██████████| 288/288 [00:03<00:00, 80.69it/s]\n"
     ]
    },
    {
     "name": "stdout",
     "output_type": "stream",
     "text": [
      "Loss1: 10.8698, Loss2: 3.9817, Loss3: 14.8928\n"
     ]
    },
    {
     "name": "stderr",
     "output_type": "stream",
     "text": [
      "Test_Loader: 100%|██████████| 288/288 [00:03<00:00, 79.40it/s]\n"
     ]
    },
    {
     "name": "stdout",
     "output_type": "stream",
     "text": [
      "Loss1: 10.6715, Loss2: 3.7606, Loss3: 14.4928\n"
     ]
    },
    {
     "name": "stderr",
     "output_type": "stream",
     "text": [
      "Test_Loader: 100%|██████████| 288/288 [00:03<00:00, 86.31it/s]\n"
     ]
    },
    {
     "name": "stdout",
     "output_type": "stream",
     "text": [
      "Loss1: 11.0425, Loss2: 4.0428, Loss3: 13.1055\n"
     ]
    },
    {
     "name": "stderr",
     "output_type": "stream",
     "text": [
      "Test_Loader: 100%|██████████| 288/288 [00:03<00:00, 87.84it/s]\n"
     ]
    },
    {
     "name": "stdout",
     "output_type": "stream",
     "text": [
      "Loss1: 10.7210, Loss2: 3.8672, Loss3: 12.6070\n"
     ]
    },
    {
     "name": "stderr",
     "output_type": "stream",
     "text": [
      "Test_Loader: 100%|██████████| 288/288 [00:03<00:00, 87.77it/s]\n"
     ]
    },
    {
     "name": "stdout",
     "output_type": "stream",
     "text": [
      "Loss1: 10.5359, Loss2: 3.9709, Loss3: 12.8764\n"
     ]
    },
    {
     "name": "stderr",
     "output_type": "stream",
     "text": [
      "Test_Loader: 100%|██████████| 288/288 [00:03<00:00, 80.69it/s]\n"
     ]
    },
    {
     "name": "stdout",
     "output_type": "stream",
     "text": [
      "Loss1: 10.5716, Loss2: 3.9220, Loss3: 13.5013\n"
     ]
    },
    {
     "name": "stderr",
     "output_type": "stream",
     "text": [
      "Test_Loader: 100%|██████████| 288/288 [00:03<00:00, 78.62it/s]\n"
     ]
    },
    {
     "name": "stdout",
     "output_type": "stream",
     "text": [
      "Loss1: 10.6765, Loss2: 3.9035, Loss3: 14.7677\n"
     ]
    },
    {
     "name": "stderr",
     "output_type": "stream",
     "text": [
      "Test_Loader: 100%|██████████| 288/288 [00:03<00:00, 77.50it/s]\n"
     ]
    },
    {
     "name": "stdout",
     "output_type": "stream",
     "text": [
      "Loss1: 10.5260, Loss2: 4.1705, Loss3: 14.1270\n"
     ]
    },
    {
     "name": "stderr",
     "output_type": "stream",
     "text": [
      "Test_Loader: 100%|██████████| 288/288 [00:03<00:00, 79.54it/s]\n"
     ]
    },
    {
     "name": "stdout",
     "output_type": "stream",
     "text": [
      "Loss1: 10.5787, Loss2: 4.3100, Loss3: 15.9961\n"
     ]
    },
    {
     "name": "stderr",
     "output_type": "stream",
     "text": [
      "Test_Loader: 100%|██████████| 288/288 [00:03<00:00, 80.62it/s]\n"
     ]
    },
    {
     "name": "stdout",
     "output_type": "stream",
     "text": [
      "Loss1: 10.2889, Loss2: 4.1202, Loss3: 15.2245\n"
     ]
    },
    {
     "name": "stderr",
     "output_type": "stream",
     "text": [
      "Test_Loader: 100%|██████████| 288/288 [00:03<00:00, 83.03it/s]\n"
     ]
    },
    {
     "name": "stdout",
     "output_type": "stream",
     "text": [
      "Loss1: 10.4957, Loss2: 3.9446, Loss3: 13.1141\n"
     ]
    },
    {
     "name": "stderr",
     "output_type": "stream",
     "text": [
      "Test_Loader: 100%|██████████| 288/288 [00:03<00:00, 86.13it/s]\n"
     ]
    },
    {
     "name": "stdout",
     "output_type": "stream",
     "text": [
      "Loss1: 10.4560, Loss2: 4.3521, Loss3: 13.5958\n"
     ]
    },
    {
     "name": "stderr",
     "output_type": "stream",
     "text": [
      "Test_Loader: 100%|██████████| 288/288 [00:03<00:00, 83.53it/s]\n"
     ]
    },
    {
     "name": "stdout",
     "output_type": "stream",
     "text": [
      "Loss1: 10.0384, Loss2: 3.8737, Loss3: 13.0142\n"
     ]
    },
    {
     "name": "stderr",
     "output_type": "stream",
     "text": [
      "Test_Loader: 100%|██████████| 288/288 [00:03<00:00, 83.56it/s]\n"
     ]
    },
    {
     "name": "stdout",
     "output_type": "stream",
     "text": [
      "Loss1: 10.3230, Loss2: 3.9223, Loss3: 12.8887\n"
     ]
    },
    {
     "name": "stderr",
     "output_type": "stream",
     "text": [
      "Test_Loader: 100%|██████████| 288/288 [00:03<00:00, 84.62it/s]\n"
     ]
    },
    {
     "name": "stdout",
     "output_type": "stream",
     "text": [
      "Loss1: 9.7570, Loss2: 3.9594, Loss3: 14.2247\n"
     ]
    },
    {
     "name": "stderr",
     "output_type": "stream",
     "text": [
      "Test_Loader: 100%|██████████| 288/288 [00:03<00:00, 86.53it/s]\n"
     ]
    },
    {
     "name": "stdout",
     "output_type": "stream",
     "text": [
      "Loss1: 9.8644, Loss2: 3.8360, Loss3: 13.8912\n"
     ]
    },
    {
     "name": "stderr",
     "output_type": "stream",
     "text": [
      "Test_Loader: 100%|██████████| 288/288 [00:03<00:00, 80.37it/s]\n"
     ]
    },
    {
     "name": "stdout",
     "output_type": "stream",
     "text": [
      "Loss1: 9.6403, Loss2: 4.1270, Loss3: 14.3930\n"
     ]
    },
    {
     "name": "stderr",
     "output_type": "stream",
     "text": [
      "Test_Loader: 100%|██████████| 288/288 [00:03<00:00, 74.63it/s]\n"
     ]
    },
    {
     "name": "stdout",
     "output_type": "stream",
     "text": [
      "Loss1: 9.6858, Loss2: 3.7947, Loss3: 13.6630\n"
     ]
    },
    {
     "name": "stderr",
     "output_type": "stream",
     "text": [
      "Test_Loader: 100%|██████████| 288/288 [00:03<00:00, 76.87it/s]\n"
     ]
    },
    {
     "name": "stdout",
     "output_type": "stream",
     "text": [
      "Loss1: 10.0600, Loss2: 3.9288, Loss3: 13.9960\n"
     ]
    },
    {
     "name": "stderr",
     "output_type": "stream",
     "text": [
      "Test_Loader: 100%|██████████| 288/288 [00:03<00:00, 75.29it/s]\n"
     ]
    },
    {
     "name": "stdout",
     "output_type": "stream",
     "text": [
      "Loss1: 9.6038, Loss2: 3.8462, Loss3: 13.5732\n"
     ]
    },
    {
     "name": "stderr",
     "output_type": "stream",
     "text": [
      "Test_Loader: 100%|██████████| 288/288 [00:04<00:00, 71.34it/s]\n"
     ]
    },
    {
     "name": "stdout",
     "output_type": "stream",
     "text": [
      "Loss1: 10.7453, Loss2: 4.1253, Loss3: 16.6562\n"
     ]
    },
    {
     "name": "stderr",
     "output_type": "stream",
     "text": [
      "Test_Loader: 100%|██████████| 288/288 [00:03<00:00, 72.17it/s]\n"
     ]
    },
    {
     "name": "stdout",
     "output_type": "stream",
     "text": [
      "Loss1: 9.6400, Loss2: 3.9518, Loss3: 14.4695\n"
     ]
    },
    {
     "name": "stderr",
     "output_type": "stream",
     "text": [
      "Test_Loader: 100%|██████████| 288/288 [00:03<00:00, 72.54it/s]\n"
     ]
    },
    {
     "name": "stdout",
     "output_type": "stream",
     "text": [
      "Loss1: 9.7203, Loss2: 4.0382, Loss3: 13.4342\n"
     ]
    },
    {
     "name": "stderr",
     "output_type": "stream",
     "text": [
      "Test_Loader: 100%|██████████| 288/288 [00:03<00:00, 73.71it/s]\n"
     ]
    },
    {
     "name": "stdout",
     "output_type": "stream",
     "text": [
      "Loss1: 10.4006, Loss2: 4.0132, Loss3: 14.6343\n"
     ]
    },
    {
     "name": "stderr",
     "output_type": "stream",
     "text": [
      "Test_Loader: 100%|██████████| 288/288 [00:03<00:00, 75.91it/s]\n"
     ]
    },
    {
     "name": "stdout",
     "output_type": "stream",
     "text": [
      "Loss1: 9.8914, Loss2: 3.9607, Loss3: 14.2374\n"
     ]
    },
    {
     "name": "stderr",
     "output_type": "stream",
     "text": [
      "Test_Loader: 100%|██████████| 288/288 [00:03<00:00, 76.63it/s]\n"
     ]
    },
    {
     "name": "stdout",
     "output_type": "stream",
     "text": [
      "Loss1: 10.0304, Loss2: 4.2819, Loss3: 15.0171\n"
     ]
    },
    {
     "name": "stderr",
     "output_type": "stream",
     "text": [
      "Test_Loader: 100%|██████████| 288/288 [00:03<00:00, 74.41it/s]\n"
     ]
    },
    {
     "name": "stdout",
     "output_type": "stream",
     "text": [
      "Loss1: 9.5175, Loss2: 3.9770, Loss3: 14.2420\n"
     ]
    },
    {
     "name": "stderr",
     "output_type": "stream",
     "text": [
      "Test_Loader: 100%|██████████| 288/288 [00:03<00:00, 75.92it/s]\n"
     ]
    },
    {
     "name": "stdout",
     "output_type": "stream",
     "text": [
      "Loss1: 9.7780, Loss2: 4.2049, Loss3: 14.6752\n"
     ]
    },
    {
     "name": "stderr",
     "output_type": "stream",
     "text": [
      "Test_Loader: 100%|██████████| 288/288 [00:03<00:00, 76.15it/s]\n"
     ]
    },
    {
     "name": "stdout",
     "output_type": "stream",
     "text": [
      "Loss1: 9.8456, Loss2: 4.0109, Loss3: 14.1993\n"
     ]
    },
    {
     "name": "stderr",
     "output_type": "stream",
     "text": [
      "Test_Loader: 100%|██████████| 288/288 [00:03<00:00, 76.00it/s]\n"
     ]
    },
    {
     "name": "stdout",
     "output_type": "stream",
     "text": [
      "Loss1: 9.7376, Loss2: 3.8800, Loss3: 14.0574\n"
     ]
    },
    {
     "name": "stderr",
     "output_type": "stream",
     "text": [
      "Test_Loader: 100%|██████████| 288/288 [00:03<00:00, 79.00it/s]\n"
     ]
    },
    {
     "name": "stdout",
     "output_type": "stream",
     "text": [
      "Loss1: 9.5469, Loss2: 3.9647, Loss3: 13.6209\n"
     ]
    },
    {
     "name": "stderr",
     "output_type": "stream",
     "text": [
      "Test_Loader: 100%|██████████| 288/288 [00:03<00:00, 87.04it/s]\n"
     ]
    },
    {
     "name": "stdout",
     "output_type": "stream",
     "text": [
      "Loss1: 9.9281, Loss2: 4.1353, Loss3: 13.3955\n"
     ]
    },
    {
     "name": "stderr",
     "output_type": "stream",
     "text": [
      "Test_Loader: 100%|██████████| 288/288 [00:03<00:00, 86.13it/s]\n"
     ]
    },
    {
     "name": "stdout",
     "output_type": "stream",
     "text": [
      "Loss1: 9.6388, Loss2: 3.8043, Loss3: 13.1242\n"
     ]
    },
    {
     "name": "stderr",
     "output_type": "stream",
     "text": [
      "Test_Loader: 100%|██████████| 288/288 [00:03<00:00, 85.92it/s]\n"
     ]
    },
    {
     "name": "stdout",
     "output_type": "stream",
     "text": [
      "Loss1: 9.5393, Loss2: 3.4071, Loss3: 14.8928\n"
     ]
    },
    {
     "name": "stderr",
     "output_type": "stream",
     "text": [
      "Test_Loader: 100%|██████████| 288/288 [00:03<00:00, 77.21it/s]\n"
     ]
    },
    {
     "name": "stdout",
     "output_type": "stream",
     "text": [
      "Loss1: 9.5788, Loss2: 3.7720, Loss3: 13.6210\n"
     ]
    },
    {
     "name": "stderr",
     "output_type": "stream",
     "text": [
      "Test_Loader: 100%|██████████| 288/288 [00:03<00:00, 76.55it/s]\n"
     ]
    },
    {
     "name": "stdout",
     "output_type": "stream",
     "text": [
      "Loss1: 9.3443, Loss2: 3.6887, Loss3: 12.9092\n"
     ]
    },
    {
     "name": "stderr",
     "output_type": "stream",
     "text": [
      "Test_Loader: 100%|██████████| 288/288 [00:03<00:00, 76.83it/s]\n"
     ]
    },
    {
     "name": "stdout",
     "output_type": "stream",
     "text": [
      "Loss1: 10.0096, Loss2: 3.8890, Loss3: 13.6255\n"
     ]
    },
    {
     "name": "stderr",
     "output_type": "stream",
     "text": [
      "Test_Loader: 100%|██████████| 288/288 [00:03<00:00, 72.00it/s]\n"
     ]
    },
    {
     "name": "stdout",
     "output_type": "stream",
     "text": [
      "Loss1: 9.2726, Loss2: 3.7647, Loss3: 13.3766\n"
     ]
    },
    {
     "name": "stderr",
     "output_type": "stream",
     "text": [
      "Test_Loader: 100%|██████████| 288/288 [00:04<00:00, 71.64it/s]\n"
     ]
    },
    {
     "name": "stdout",
     "output_type": "stream",
     "text": [
      "Loss1: 10.2848, Loss2: 3.5145, Loss3: 13.2711\n"
     ]
    },
    {
     "name": "stderr",
     "output_type": "stream",
     "text": [
      "Test_Loader: 100%|██████████| 288/288 [00:03<00:00, 84.79it/s]\n"
     ]
    },
    {
     "name": "stdout",
     "output_type": "stream",
     "text": [
      "Loss1: 10.1988, Loss2: 3.7639, Loss3: 14.3347\n"
     ]
    },
    {
     "name": "stderr",
     "output_type": "stream",
     "text": [
      "Test_Loader: 100%|██████████| 288/288 [00:04<00:00, 70.04it/s]\n"
     ]
    },
    {
     "name": "stdout",
     "output_type": "stream",
     "text": [
      "Loss1: 9.6002, Loss2: 3.5948, Loss3: 12.9939\n"
     ]
    },
    {
     "name": "stderr",
     "output_type": "stream",
     "text": [
      "Test_Loader: 100%|██████████| 288/288 [00:04<00:00, 67.83it/s]\n"
     ]
    },
    {
     "name": "stdout",
     "output_type": "stream",
     "text": [
      "Loss1: 10.8860, Loss2: 3.5037, Loss3: 13.4283\n"
     ]
    },
    {
     "name": "stderr",
     "output_type": "stream",
     "text": [
      "Test_Loader: 100%|██████████| 288/288 [00:03<00:00, 76.95it/s]\n"
     ]
    },
    {
     "name": "stdout",
     "output_type": "stream",
     "text": [
      "Loss1: 9.8429, Loss2: 3.5675, Loss3: 13.6781\n"
     ]
    },
    {
     "name": "stderr",
     "output_type": "stream",
     "text": [
      "Test_Loader: 100%|██████████| 288/288 [00:03<00:00, 72.09it/s]\n"
     ]
    },
    {
     "name": "stdout",
     "output_type": "stream",
     "text": [
      "Loss1: 9.9333, Loss2: 3.4559, Loss3: 13.7716\n"
     ]
    },
    {
     "name": "stderr",
     "output_type": "stream",
     "text": [
      "Test_Loader: 100%|██████████| 288/288 [00:03<00:00, 75.32it/s]\n"
     ]
    },
    {
     "name": "stdout",
     "output_type": "stream",
     "text": [
      "Loss1: 9.9358, Loss2: 3.3930, Loss3: 13.4958\n"
     ]
    },
    {
     "name": "stderr",
     "output_type": "stream",
     "text": [
      "Test_Loader: 100%|██████████| 288/288 [00:03<00:00, 80.85it/s]\n"
     ]
    },
    {
     "name": "stdout",
     "output_type": "stream",
     "text": [
      "Loss1: 9.9302, Loss2: 3.4929, Loss3: 13.5488\n"
     ]
    },
    {
     "name": "stderr",
     "output_type": "stream",
     "text": [
      "Test_Loader: 100%|██████████| 288/288 [00:03<00:00, 76.17it/s]\n"
     ]
    },
    {
     "name": "stdout",
     "output_type": "stream",
     "text": [
      "Loss1: 9.9863, Loss2: 3.4354, Loss3: 13.6760\n"
     ]
    },
    {
     "name": "stderr",
     "output_type": "stream",
     "text": [
      "Test_Loader: 100%|██████████| 288/288 [00:04<00:00, 71.36it/s]\n"
     ]
    },
    {
     "name": "stdout",
     "output_type": "stream",
     "text": [
      "Loss1: 9.9724, Loss2: 3.3882, Loss3: 13.2536\n"
     ]
    },
    {
     "name": "stderr",
     "output_type": "stream",
     "text": [
      "Test_Loader: 100%|██████████| 288/288 [00:03<00:00, 75.76it/s]\n"
     ]
    },
    {
     "name": "stdout",
     "output_type": "stream",
     "text": [
      "Loss1: 9.8496, Loss2: 3.6887, Loss3: 13.2435\n"
     ]
    },
    {
     "name": "stderr",
     "output_type": "stream",
     "text": [
      "Test_Loader: 100%|██████████| 288/288 [00:03<00:00, 85.92it/s]\n"
     ]
    },
    {
     "name": "stdout",
     "output_type": "stream",
     "text": [
      "Loss1: 9.3785, Loss2: 3.4874, Loss3: 13.9181\n"
     ]
    },
    {
     "name": "stderr",
     "output_type": "stream",
     "text": [
      "Test_Loader: 100%|██████████| 288/288 [00:03<00:00, 84.33it/s]\n"
     ]
    },
    {
     "name": "stdout",
     "output_type": "stream",
     "text": [
      "Loss1: 9.6350, Loss2: 3.4176, Loss3: 14.0881\n"
     ]
    },
    {
     "name": "stderr",
     "output_type": "stream",
     "text": [
      "Test_Loader: 100%|██████████| 288/288 [00:03<00:00, 78.29it/s]\n"
     ]
    },
    {
     "name": "stdout",
     "output_type": "stream",
     "text": [
      "Loss1: 9.3030, Loss2: 3.4595, Loss3: 13.7971\n"
     ]
    },
    {
     "name": "stderr",
     "output_type": "stream",
     "text": [
      "Test_Loader: 100%|██████████| 288/288 [00:03<00:00, 76.84it/s]\n"
     ]
    },
    {
     "name": "stdout",
     "output_type": "stream",
     "text": [
      "Loss1: 9.8358, Loss2: 3.7200, Loss3: 13.7202\n"
     ]
    },
    {
     "name": "stderr",
     "output_type": "stream",
     "text": [
      "Test_Loader: 100%|██████████| 288/288 [00:03<00:00, 77.69it/s]\n"
     ]
    },
    {
     "name": "stdout",
     "output_type": "stream",
     "text": [
      "Loss1: 9.3011, Loss2: 3.5353, Loss3: 14.1281\n"
     ]
    },
    {
     "name": "stderr",
     "output_type": "stream",
     "text": [
      "Test_Loader: 100%|██████████| 288/288 [00:03<00:00, 74.02it/s]\n"
     ]
    },
    {
     "name": "stdout",
     "output_type": "stream",
     "text": [
      "Loss1: 9.2706, Loss2: 3.3926, Loss3: 13.8727\n"
     ]
    },
    {
     "name": "stderr",
     "output_type": "stream",
     "text": [
      "Test_Loader: 100%|██████████| 288/288 [00:03<00:00, 79.45it/s]\n"
     ]
    },
    {
     "name": "stdout",
     "output_type": "stream",
     "text": [
      "Loss1: 9.2387, Loss2: 3.4808, Loss3: 14.1972\n"
     ]
    },
    {
     "name": "stderr",
     "output_type": "stream",
     "text": [
      "Test_Loader: 100%|██████████| 288/288 [00:03<00:00, 83.09it/s]\n"
     ]
    },
    {
     "name": "stdout",
     "output_type": "stream",
     "text": [
      "Loss1: 9.7102, Loss2: 3.3448, Loss3: 13.9804\n"
     ]
    },
    {
     "name": "stderr",
     "output_type": "stream",
     "text": [
      "Test_Loader: 100%|██████████| 288/288 [00:03<00:00, 85.33it/s]\n"
     ]
    },
    {
     "name": "stdout",
     "output_type": "stream",
     "text": [
      "Loss1: 9.4045, Loss2: 3.3932, Loss3: 14.3038\n"
     ]
    },
    {
     "name": "stderr",
     "output_type": "stream",
     "text": [
      "Test_Loader: 100%|██████████| 288/288 [00:03<00:00, 82.99it/s]\n"
     ]
    },
    {
     "name": "stdout",
     "output_type": "stream",
     "text": [
      "Loss1: 9.3021, Loss2: 3.4421, Loss3: 13.8763\n"
     ]
    },
    {
     "name": "stderr",
     "output_type": "stream",
     "text": [
      "Test_Loader: 100%|██████████| 288/288 [00:03<00:00, 84.28it/s]\n"
     ]
    },
    {
     "name": "stdout",
     "output_type": "stream",
     "text": [
      "Loss1: 9.8245, Loss2: 3.4712, Loss3: 13.7575\n"
     ]
    },
    {
     "name": "stderr",
     "output_type": "stream",
     "text": [
      "Test_Loader: 100%|██████████| 288/288 [00:03<00:00, 78.98it/s]\n"
     ]
    },
    {
     "name": "stdout",
     "output_type": "stream",
     "text": [
      "Loss1: 9.5788, Loss2: 3.6959, Loss3: 15.5507\n"
     ]
    },
    {
     "name": "stderr",
     "output_type": "stream",
     "text": [
      "Test_Loader: 100%|██████████| 288/288 [00:03<00:00, 80.67it/s]\n"
     ]
    },
    {
     "name": "stdout",
     "output_type": "stream",
     "text": [
      "Loss1: 9.8840, Loss2: 3.7910, Loss3: 15.9659\n"
     ]
    },
    {
     "name": "stderr",
     "output_type": "stream",
     "text": [
      "Test_Loader: 100%|██████████| 288/288 [00:03<00:00, 77.19it/s]\n"
     ]
    },
    {
     "name": "stdout",
     "output_type": "stream",
     "text": [
      "Loss1: 9.9889, Loss2: 3.6728, Loss3: 15.7039\n"
     ]
    },
    {
     "name": "stderr",
     "output_type": "stream",
     "text": [
      "Test_Loader: 100%|██████████| 288/288 [00:03<00:00, 75.53it/s]\n"
     ]
    },
    {
     "name": "stdout",
     "output_type": "stream",
     "text": [
      "Loss1: 10.2686, Loss2: 3.9226, Loss3: 17.2054\n"
     ]
    },
    {
     "name": "stderr",
     "output_type": "stream",
     "text": [
      "Test_Loader: 100%|██████████| 288/288 [00:04<00:00, 71.34it/s]\n"
     ]
    },
    {
     "name": "stdout",
     "output_type": "stream",
     "text": [
      "Loss1: 10.0061, Loss2: 3.9603, Loss3: 16.5345\n"
     ]
    },
    {
     "name": "stderr",
     "output_type": "stream",
     "text": [
      "Test_Loader: 100%|██████████| 288/288 [00:03<00:00, 72.94it/s]\n"
     ]
    },
    {
     "name": "stdout",
     "output_type": "stream",
     "text": [
      "Loss1: 10.3724, Loss2: 3.8299, Loss3: 16.4482\n"
     ]
    },
    {
     "name": "stderr",
     "output_type": "stream",
     "text": [
      "Test_Loader: 100%|██████████| 288/288 [00:03<00:00, 74.67it/s]\n"
     ]
    },
    {
     "name": "stdout",
     "output_type": "stream",
     "text": [
      "Loss1: 9.9501, Loss2: 4.1124, Loss3: 16.5222\n"
     ]
    },
    {
     "name": "stderr",
     "output_type": "stream",
     "text": [
      "Test_Loader: 100%|██████████| 288/288 [00:03<00:00, 81.79it/s]\n"
     ]
    },
    {
     "name": "stdout",
     "output_type": "stream",
     "text": [
      "Loss1: 10.3429, Loss2: 4.0375, Loss3: 16.6047\n"
     ]
    },
    {
     "name": "stderr",
     "output_type": "stream",
     "text": [
      "Test_Loader: 100%|██████████| 288/288 [00:03<00:00, 79.89it/s]\n"
     ]
    },
    {
     "name": "stdout",
     "output_type": "stream",
     "text": [
      "Loss1: 10.1496, Loss2: 3.9987, Loss3: 17.3603\n"
     ]
    },
    {
     "name": "stderr",
     "output_type": "stream",
     "text": [
      "Test_Loader: 100%|██████████| 288/288 [00:03<00:00, 80.65it/s]\n"
     ]
    },
    {
     "name": "stdout",
     "output_type": "stream",
     "text": [
      "Loss1: 9.9416, Loss2: 4.0596, Loss3: 17.2484\n"
     ]
    },
    {
     "name": "stderr",
     "output_type": "stream",
     "text": [
      "Test_Loader: 100%|██████████| 288/288 [00:03<00:00, 79.47it/s]\n"
     ]
    },
    {
     "name": "stdout",
     "output_type": "stream",
     "text": [
      "Loss1: 10.7662, Loss2: 3.9900, Loss3: 17.1966\n"
     ]
    },
    {
     "name": "stderr",
     "output_type": "stream",
     "text": [
      "Test_Loader: 100%|██████████| 288/288 [00:03<00:00, 79.91it/s]\n"
     ]
    },
    {
     "name": "stdout",
     "output_type": "stream",
     "text": [
      "Loss1: 9.7889, Loss2: 4.1987, Loss3: 18.0806\n"
     ]
    },
    {
     "name": "stderr",
     "output_type": "stream",
     "text": [
      "Test_Loader: 100%|██████████| 288/288 [00:03<00:00, 78.63it/s]\n"
     ]
    },
    {
     "name": "stdout",
     "output_type": "stream",
     "text": [
      "Loss1: 10.1475, Loss2: 3.8135, Loss3: 17.0431\n"
     ]
    },
    {
     "name": "stderr",
     "output_type": "stream",
     "text": [
      "Test_Loader: 100%|██████████| 288/288 [00:03<00:00, 73.30it/s]\n"
     ]
    },
    {
     "name": "stdout",
     "output_type": "stream",
     "text": [
      "Loss1: 9.5836, Loss2: 3.7505, Loss3: 16.6446\n"
     ]
    },
    {
     "name": "stderr",
     "output_type": "stream",
     "text": [
      "Test_Loader: 100%|██████████| 288/288 [00:03<00:00, 74.00it/s]\n"
     ]
    },
    {
     "name": "stdout",
     "output_type": "stream",
     "text": [
      "Loss1: 10.4262, Loss2: 4.0335, Loss3: 18.6789\n"
     ]
    },
    {
     "name": "stderr",
     "output_type": "stream",
     "text": [
      "Test_Loader: 100%|██████████| 288/288 [00:03<00:00, 79.88it/s]\n"
     ]
    },
    {
     "name": "stdout",
     "output_type": "stream",
     "text": [
      "Loss1: 9.7004, Loss2: 3.7742, Loss3: 16.9090\n"
     ]
    },
    {
     "name": "stderr",
     "output_type": "stream",
     "text": [
      "Test_Loader: 100%|██████████| 288/288 [00:03<00:00, 82.14it/s]\n"
     ]
    },
    {
     "name": "stdout",
     "output_type": "stream",
     "text": [
      "Loss1: 10.4061, Loss2: 3.7487, Loss3: 17.8560\n"
     ]
    },
    {
     "name": "stderr",
     "output_type": "stream",
     "text": [
      "Test_Loader: 100%|██████████| 288/288 [00:03<00:00, 80.54it/s]\n"
     ]
    },
    {
     "name": "stdout",
     "output_type": "stream",
     "text": [
      "Loss1: 10.5708, Loss2: 3.5523, Loss3: 16.9613\n"
     ]
    },
    {
     "name": "stderr",
     "output_type": "stream",
     "text": [
      "Test_Loader: 100%|██████████| 288/288 [00:03<00:00, 77.71it/s]\n"
     ]
    },
    {
     "name": "stdout",
     "output_type": "stream",
     "text": [
      "Loss1: 10.2710, Loss2: 4.7421, Loss3: 18.8738\n"
     ]
    },
    {
     "name": "stderr",
     "output_type": "stream",
     "text": [
      "Test_Loader: 100%|██████████| 288/288 [00:03<00:00, 78.86it/s]\n"
     ]
    },
    {
     "name": "stdout",
     "output_type": "stream",
     "text": [
      "Loss1: 11.4256, Loss2: 4.6378, Loss3: 20.9077\n"
     ]
    },
    {
     "name": "stderr",
     "output_type": "stream",
     "text": [
      "Test_Loader: 100%|██████████| 288/288 [00:03<00:00, 80.18it/s]\n"
     ]
    },
    {
     "name": "stdout",
     "output_type": "stream",
     "text": [
      "Loss1: 10.3817, Loss2: 4.5365, Loss3: 19.4240\n"
     ]
    },
    {
     "name": "stderr",
     "output_type": "stream",
     "text": [
      "Test_Loader: 100%|██████████| 288/288 [00:03<00:00, 79.35it/s]\n"
     ]
    },
    {
     "name": "stdout",
     "output_type": "stream",
     "text": [
      "Loss1: 11.2671, Loss2: 4.5328, Loss3: 21.2936\n"
     ]
    },
    {
     "name": "stderr",
     "output_type": "stream",
     "text": [
      "Test_Loader: 100%|██████████| 288/288 [00:03<00:00, 74.84it/s]\n"
     ]
    },
    {
     "name": "stdout",
     "output_type": "stream",
     "text": [
      "Loss1: 11.0516, Loss2: 4.5660, Loss3: 19.0334\n"
     ]
    },
    {
     "name": "stderr",
     "output_type": "stream",
     "text": [
      "Test_Loader: 100%|██████████| 288/288 [00:03<00:00, 76.61it/s]\n"
     ]
    },
    {
     "name": "stdout",
     "output_type": "stream",
     "text": [
      "Loss1: 10.8771, Loss2: 4.7002, Loss3: 19.6190\n"
     ]
    },
    {
     "name": "stderr",
     "output_type": "stream",
     "text": [
      "Test_Loader: 100%|██████████| 288/288 [00:03<00:00, 82.17it/s]\n"
     ]
    },
    {
     "name": "stdout",
     "output_type": "stream",
     "text": [
      "Loss1: 11.7790, Loss2: 4.7148, Loss3: 18.6878\n"
     ]
    },
    {
     "name": "stderr",
     "output_type": "stream",
     "text": [
      "Test_Loader: 100%|██████████| 288/288 [00:03<00:00, 83.45it/s]\n"
     ]
    },
    {
     "name": "stdout",
     "output_type": "stream",
     "text": [
      "Loss1: 11.2939, Loss2: 4.7075, Loss3: 18.9075\n"
     ]
    },
    {
     "name": "stderr",
     "output_type": "stream",
     "text": [
      "Test_Loader: 100%|██████████| 288/288 [00:03<00:00, 81.26it/s]\n"
     ]
    },
    {
     "name": "stdout",
     "output_type": "stream",
     "text": [
      "Loss1: 11.3325, Loss2: 5.1860, Loss3: 22.5859\n"
     ]
    },
    {
     "name": "stderr",
     "output_type": "stream",
     "text": [
      "Test_Loader: 100%|██████████| 288/288 [00:03<00:00, 81.68it/s]\n"
     ]
    },
    {
     "name": "stdout",
     "output_type": "stream",
     "text": [
      "Loss1: 11.0560, Loss2: 4.6789, Loss3: 19.0198\n"
     ]
    },
    {
     "name": "stderr",
     "output_type": "stream",
     "text": [
      "Test_Loader: 100%|██████████| 288/288 [00:03<00:00, 82.05it/s]\n"
     ]
    },
    {
     "name": "stdout",
     "output_type": "stream",
     "text": [
      "Loss1: 10.5537, Loss2: 4.4431, Loss3: 20.0501\n"
     ]
    },
    {
     "name": "stderr",
     "output_type": "stream",
     "text": [
      "Test_Loader: 100%|██████████| 288/288 [00:03<00:00, 77.15it/s]\n"
     ]
    },
    {
     "name": "stdout",
     "output_type": "stream",
     "text": [
      "Loss1: 11.0512, Loss2: 4.5754, Loss3: 18.7972\n"
     ]
    },
    {
     "name": "stderr",
     "output_type": "stream",
     "text": [
      "Test_Loader: 100%|██████████| 288/288 [00:03<00:00, 74.12it/s]\n"
     ]
    },
    {
     "name": "stdout",
     "output_type": "stream",
     "text": [
      "Loss1: 11.2950, Loss2: 4.8068, Loss3: 22.1393\n"
     ]
    },
    {
     "name": "stderr",
     "output_type": "stream",
     "text": [
      "Test_Loader: 100%|██████████| 288/288 [00:03<00:00, 73.65it/s]\n"
     ]
    },
    {
     "name": "stdout",
     "output_type": "stream",
     "text": [
      "Loss1: 11.3602, Loss2: 4.9245, Loss3: 19.0761\n"
     ]
    },
    {
     "name": "stderr",
     "output_type": "stream",
     "text": [
      "Test_Loader: 100%|██████████| 288/288 [00:03<00:00, 79.14it/s]\n"
     ]
    },
    {
     "name": "stdout",
     "output_type": "stream",
     "text": [
      "Loss1: 10.9097, Loss2: 5.0248, Loss3: 20.6798\n"
     ]
    },
    {
     "name": "stderr",
     "output_type": "stream",
     "text": [
      "Test_Loader: 100%|██████████| 288/288 [00:03<00:00, 83.61it/s]\n"
     ]
    },
    {
     "name": "stdout",
     "output_type": "stream",
     "text": [
      "Loss1: 11.4811, Loss2: 5.2074, Loss3: 19.6252\n"
     ]
    },
    {
     "name": "stderr",
     "output_type": "stream",
     "text": [
      "Test_Loader: 100%|██████████| 288/288 [00:03<00:00, 85.04it/s]\n"
     ]
    },
    {
     "name": "stdout",
     "output_type": "stream",
     "text": [
      "Loss1: 11.3966, Loss2: 4.7305, Loss3: 19.2804\n"
     ]
    },
    {
     "name": "stderr",
     "output_type": "stream",
     "text": [
      "Test_Loader: 100%|██████████| 288/288 [00:03<00:00, 81.86it/s]\n"
     ]
    },
    {
     "name": "stdout",
     "output_type": "stream",
     "text": [
      "Loss1: 11.7243, Loss2: 4.9058, Loss3: 20.6019\n"
     ]
    },
    {
     "name": "stderr",
     "output_type": "stream",
     "text": [
      "Test_Loader: 100%|██████████| 288/288 [00:03<00:00, 82.66it/s]\n"
     ]
    },
    {
     "name": "stdout",
     "output_type": "stream",
     "text": [
      "Loss1: 11.8033, Loss2: 5.2415, Loss3: 19.4834\n"
     ]
    },
    {
     "name": "stderr",
     "output_type": "stream",
     "text": [
      "Test_Loader: 100%|██████████| 288/288 [00:03<00:00, 81.29it/s]\n"
     ]
    },
    {
     "name": "stdout",
     "output_type": "stream",
     "text": [
      "Loss1: 12.2296, Loss2: 4.4581, Loss3: 26.2298\n"
     ]
    },
    {
     "name": "stderr",
     "output_type": "stream",
     "text": [
      "Test_Loader: 100%|██████████| 288/288 [00:03<00:00, 78.73it/s]\n"
     ]
    },
    {
     "name": "stdout",
     "output_type": "stream",
     "text": [
      "Loss1: 11.4474, Loss2: 4.7608, Loss3: 19.0493\n"
     ]
    },
    {
     "name": "stderr",
     "output_type": "stream",
     "text": [
      "Test_Loader: 100%|██████████| 288/288 [00:03<00:00, 77.11it/s]\n"
     ]
    },
    {
     "name": "stdout",
     "output_type": "stream",
     "text": [
      "Loss1: 11.5382, Loss2: 4.6537, Loss3: 19.9967\n"
     ]
    },
    {
     "name": "stderr",
     "output_type": "stream",
     "text": [
      "Test_Loader: 100%|██████████| 288/288 [00:03<00:00, 80.91it/s]\n"
     ]
    },
    {
     "name": "stdout",
     "output_type": "stream",
     "text": [
      "Loss1: 11.9001, Loss2: 4.7890, Loss3: 20.0215\n"
     ]
    },
    {
     "name": "stderr",
     "output_type": "stream",
     "text": [
      "Test_Loader: 100%|██████████| 288/288 [00:03<00:00, 88.05it/s]\n"
     ]
    },
    {
     "name": "stdout",
     "output_type": "stream",
     "text": [
      "Loss1: 11.7186, Loss2: 4.9701, Loss3: 20.4417\n"
     ]
    },
    {
     "name": "stderr",
     "output_type": "stream",
     "text": [
      "Test_Loader: 100%|██████████| 288/288 [00:03<00:00, 87.64it/s]\n"
     ]
    },
    {
     "name": "stdout",
     "output_type": "stream",
     "text": [
      "Loss1: 11.8558, Loss2: 4.8770, Loss3: 22.3239\n"
     ]
    },
    {
     "name": "stderr",
     "output_type": "stream",
     "text": [
      "Test_Loader: 100%|██████████| 288/288 [00:03<00:00, 88.59it/s]\n"
     ]
    },
    {
     "name": "stdout",
     "output_type": "stream",
     "text": [
      "Loss1: 11.9374, Loss2: 4.7825, Loss3: 19.2211\n"
     ]
    },
    {
     "name": "stderr",
     "output_type": "stream",
     "text": [
      "Test_Loader: 100%|██████████| 288/288 [00:03<00:00, 80.75it/s]\n"
     ]
    },
    {
     "name": "stdout",
     "output_type": "stream",
     "text": [
      "Loss1: 12.0044, Loss2: 4.8266, Loss3: 19.3579\n"
     ]
    },
    {
     "name": "stderr",
     "output_type": "stream",
     "text": [
      "Test_Loader: 100%|██████████| 288/288 [00:03<00:00, 79.19it/s]\n"
     ]
    },
    {
     "name": "stdout",
     "output_type": "stream",
     "text": [
      "Loss1: 13.0004, Loss2: 4.8245, Loss3: 20.0065\n"
     ]
    },
    {
     "name": "stderr",
     "output_type": "stream",
     "text": [
      "Test_Loader: 100%|██████████| 288/288 [00:03<00:00, 79.43it/s]\n"
     ]
    },
    {
     "name": "stdout",
     "output_type": "stream",
     "text": [
      "Loss1: 13.2127, Loss2: 4.7905, Loss3: 20.1814\n"
     ]
    },
    {
     "name": "stderr",
     "output_type": "stream",
     "text": [
      "Test_Loader: 100%|██████████| 288/288 [00:03<00:00, 84.99it/s]\n"
     ]
    },
    {
     "name": "stdout",
     "output_type": "stream",
     "text": [
      "Loss1: 12.8306, Loss2: 4.5834, Loss3: 19.1249\n"
     ]
    },
    {
     "name": "stderr",
     "output_type": "stream",
     "text": [
      "Test_Loader: 100%|██████████| 288/288 [00:03<00:00, 85.83it/s]\n"
     ]
    },
    {
     "name": "stdout",
     "output_type": "stream",
     "text": [
      "Loss1: 12.9827, Loss2: 4.5234, Loss3: 20.3763\n"
     ]
    },
    {
     "name": "stderr",
     "output_type": "stream",
     "text": [
      "Test_Loader: 100%|██████████| 288/288 [00:03<00:00, 84.81it/s]\n"
     ]
    },
    {
     "name": "stdout",
     "output_type": "stream",
     "text": [
      "Loss1: 13.5815, Loss2: 4.9717, Loss3: 20.8443\n"
     ]
    },
    {
     "name": "stderr",
     "output_type": "stream",
     "text": [
      "Test_Loader: 100%|██████████| 288/288 [00:03<00:00, 79.51it/s]\n"
     ]
    },
    {
     "name": "stdout",
     "output_type": "stream",
     "text": [
      "Loss1: 13.8811, Loss2: 4.6648, Loss3: 19.7758\n"
     ]
    },
    {
     "name": "stderr",
     "output_type": "stream",
     "text": [
      "Test_Loader: 100%|██████████| 288/288 [00:03<00:00, 78.50it/s]\n"
     ]
    },
    {
     "name": "stdout",
     "output_type": "stream",
     "text": [
      "Loss1: 14.2795, Loss2: 4.7405, Loss3: 20.7119\n"
     ]
    },
    {
     "name": "stderr",
     "output_type": "stream",
     "text": [
      "Test_Loader: 100%|██████████| 288/288 [00:03<00:00, 80.44it/s]\n"
     ]
    },
    {
     "name": "stdout",
     "output_type": "stream",
     "text": [
      "Loss1: 14.0599, Loss2: 4.6594, Loss3: 19.7192\n"
     ]
    },
    {
     "name": "stderr",
     "output_type": "stream",
     "text": [
      "Test_Loader: 100%|██████████| 288/288 [00:03<00:00, 80.25it/s]\n"
     ]
    },
    {
     "name": "stdout",
     "output_type": "stream",
     "text": [
      "Loss1: 13.4820, Loss2: 4.6189, Loss3: 20.4303\n"
     ]
    },
    {
     "name": "stderr",
     "output_type": "stream",
     "text": [
      "Test_Loader: 100%|██████████| 288/288 [00:03<00:00, 80.90it/s]\n"
     ]
    },
    {
     "name": "stdout",
     "output_type": "stream",
     "text": [
      "Loss1: 14.0383, Loss2: 4.6272, Loss3: 19.2344\n"
     ]
    },
    {
     "name": "stderr",
     "output_type": "stream",
     "text": [
      "Test_Loader: 100%|██████████| 288/288 [00:03<00:00, 81.82it/s]\n"
     ]
    },
    {
     "name": "stdout",
     "output_type": "stream",
     "text": [
      "Loss1: 14.0127, Loss2: 4.8071, Loss3: 20.4649\n"
     ]
    },
    {
     "name": "stderr",
     "output_type": "stream",
     "text": [
      "Test_Loader: 100%|██████████| 288/288 [00:03<00:00, 83.98it/s]\n"
     ]
    },
    {
     "name": "stdout",
     "output_type": "stream",
     "text": [
      "Loss1: 13.3005, Loss2: 4.4764, Loss3: 19.9758\n"
     ]
    },
    {
     "name": "stderr",
     "output_type": "stream",
     "text": [
      "Test_Loader: 100%|██████████| 288/288 [00:03<00:00, 83.66it/s]\n"
     ]
    },
    {
     "name": "stdout",
     "output_type": "stream",
     "text": [
      "Loss1: 13.6413, Loss2: 4.5005, Loss3: 18.8161\n"
     ]
    },
    {
     "name": "stderr",
     "output_type": "stream",
     "text": [
      "Test_Loader: 100%|██████████| 288/288 [00:03<00:00, 84.06it/s]\n"
     ]
    },
    {
     "name": "stdout",
     "output_type": "stream",
     "text": [
      "Loss1: 13.2166, Loss2: 4.9089, Loss3: 19.0415\n"
     ]
    },
    {
     "name": "stderr",
     "output_type": "stream",
     "text": [
      "Test_Loader: 100%|██████████| 288/288 [00:03<00:00, 87.76it/s]\n"
     ]
    },
    {
     "name": "stdout",
     "output_type": "stream",
     "text": [
      "Loss1: 13.8333, Loss2: 4.6487, Loss3: 20.7319\n"
     ]
    },
    {
     "name": "stderr",
     "output_type": "stream",
     "text": [
      "Test_Loader: 100%|██████████| 288/288 [00:03<00:00, 87.32it/s]\n"
     ]
    },
    {
     "name": "stdout",
     "output_type": "stream",
     "text": [
      "Loss1: 13.7103, Loss2: 4.6014, Loss3: 20.4295\n"
     ]
    },
    {
     "name": "stderr",
     "output_type": "stream",
     "text": [
      "Test_Loader: 100%|██████████| 288/288 [00:03<00:00, 84.48it/s]\n"
     ]
    },
    {
     "name": "stdout",
     "output_type": "stream",
     "text": [
      "Loss1: 13.4090, Loss2: 4.4335, Loss3: 18.9813\n"
     ]
    },
    {
     "name": "stderr",
     "output_type": "stream",
     "text": [
      "Test_Loader: 100%|██████████| 288/288 [00:04<00:00, 70.40it/s]"
     ]
    },
    {
     "name": "stdout",
     "output_type": "stream",
     "text": [
      "Loss1: 13.5101, Loss2: 4.5232, Loss3: 18.6045\n"
     ]
    },
    {
     "name": "stderr",
     "output_type": "stream",
     "text": [
      "\n"
     ]
    }
   ],
   "source": [
    "if __name__ == '__main__':\n",
    "      random.seed(args.seed)  # 设置Python随机种子\n",
    "      torch.manual_seed(args.seed)  # 设置PyTorch随机种子\n",
    "      exp_init()      \n",
    "      IO = IOStream('outputs/' + args.exp_name + '/run.log')\n",
    "      IO.cprint(str(table_printer(args)))  \n",
    "\n",
    "      train_dataset = CustomDataset(args, dataset_type='train')\n",
    "      val_dataset = CustomDataset(args, dataset_type='val')\n",
    "      test_dataset = CustomDataset(args, dataset_type='test')\n",
    "      train_dataloader = DataLoader(train_dataset, batch_size=1, shuffle=False, drop_last=True)\n",
    "      val_dataloader = DataLoader(val_dataset, batch_size=1, shuffle=False, drop_last=True)\n",
    "      test_dataloader = DataLoader(test_dataset, batch_size=1, shuffle=False, drop_last=True)\n",
    "\n",
    "      # 读取节点压力、节点用水量、管道流量数据 \n",
    "      NodePressure = pd.read_csv(args.water_pressure_file, header=0, index_col=0)\n",
    "      PipeFlow = pd.read_csv(args.water_flow_file, header=0, index_col=0)\n",
    "      NodeDemand = pd.read_csv(args.water_demand_file, header=0, index_col=0)\n",
    "      max_pressure = NodePressure.max().max()\n",
    "      min_pressure = NodePressure.min().min()\n",
    "      # 不要乘以1000，要按m3/s进行计算\n",
    "      max_flow = PipeFlow.max().max() \n",
    "      min_flow = PipeFlow.min().min()\n",
    "      max_demand = NodeDemand.max().max()\n",
    "      min_demand = (NodeDemand.iloc[:, :-1]).min().min()                          \n",
    "      # TODO 这里要是0，最小值在水库取得为负。\n",
    "      \n",
    "      # 转换为PyTorch张量并移动到CUDA设备\n",
    "      min_pressure = torch.tensor(min_pressure).to(args.device)\n",
    "      max_pressure = torch.tensor(max_pressure).to(args.device)\n",
    "      min_flow = torch.tensor(min_flow).to(args.device)\n",
    "      max_flow = torch.tensor(max_flow).to(args.device)\n",
    "\n",
    "      (pressure_True, pressure_Est, flow_True, flow_Est, demand_True, demand_Est,\n",
    "       train_loss1_list, train_loss2_list, train_loss3_list,\n",
    "       val_loss1_list, val_loss2_list, val_loss3_list) = train(\n",
    "       args, IO, train_dataloader, val_dataloader, min_pressure, max_pressure, min_flow, max_flow, min_demand, max_demand)\n",
    "      \n",
    "      (Loss1, Loss2, Loss3,\n",
    "       MAE_pressure, MAE_flow, MAE_demand, \n",
    "       MAPE_pressure, MAPE_flow, MAPE_demand,\n",
    "       R2_pressure, R2_flow, R2_demand) = test(\n",
    "      args, IO, test_dataloader, min_pressure, max_pressure, min_flow, max_flow, min_demand, max_demand) "
   ]
  },
  {
   "cell_type": "code",
   "execution_count": 119,
   "metadata": {},
   "outputs": [],
   "source": [
    "# 创建输出目录\n",
    "output_dir = 'outputs2/DataManage'  \n",
    "os.makedirs(output_dir, exist_ok=True)"
   ]
  },
  {
   "cell_type": "code",
   "execution_count": 120,
   "metadata": {},
   "outputs": [],
   "source": [
    "# # 数据输出到csv文件 \n",
    "# save_pressure_True = pressure_True.cpu().detach().numpy().astype(float)\n",
    "# save_pressure_Est = pressure_Est.cpu().detach().numpy().astype(float)\n",
    "# save_flow_True = flow_True.cpu().detach().numpy().astype(float)\n",
    "# save_flow_Est = flow_Est.cpu().detach().numpy().astype(float)\n",
    "# save_demand_True = demand_True.cpu().detach().numpy().astype(float)\n",
    "# save_demand_Est = demand_Est.cpu().detach().numpy().astype(float)\n",
    "\n",
    "# np.savetxt(os.path.join(output_dir, 'pressure_True.csv'), save_pressure_True, delimiter=',')\n",
    "# np.savetxt(os.path.join(output_dir, 'pressure_Est.csv'), save_pressure_Est, delimiter=',')\n",
    "# np.savetxt(os.path.join(output_dir, 'flow_True.csv'), save_flow_True, delimiter=',')  \n",
    "# np.savetxt(os.path.join(output_dir, 'flow_Est.csv'), save_flow_Est, delimiter=',')\n",
    "# np.savetxt(os.path.join(output_dir, 'demand_True.csv'), save_demand_True, delimiter=',')\n",
    "# np.savetxt(os.path.join(output_dir, 'demand_Est.csv'), save_demand_Est, delimiter=',')"
   ]
  },
  {
   "cell_type": "code",
   "execution_count": 121,
   "metadata": {},
   "outputs": [],
   "source": [
    "# 泛化保存 (MAE_pressure, MAE_flow, MAE_demand, MAPE_pressure, MAPE_flow, MAPE_demand, R2_pressure, R2_flow, R2_demand) \n",
    "MAE_pressure = pd.DataFrame(MAE_pressure)\n",
    "MAE_flow = pd.DataFrame(MAE_flow)\n",
    "MAE_demand = pd.DataFrame(MAE_demand)\n",
    "\n",
    "MAPE_pressure = pd.DataFrame(MAPE_pressure)\n",
    "MAPE_flow = pd.DataFrame(MAPE_flow)\n",
    "MAPE_demand = pd.DataFrame(MAPE_demand)\n",
    "\n",
    "R2_pressure = pd.DataFrame(R2_pressure)\n",
    "R2_flow = pd.DataFrame(R2_flow)\n",
    "R2_demand = pd.DataFrame(R2_demand)\n",
    "\n",
    "# 保存结果\n",
    "Loss1 = pd.DataFrame(Loss1)\n",
    "Loss2 = pd.DataFrame(Loss2)\n",
    "Loss3 = pd.DataFrame(Loss3)\n",
    "Loss1.to_csv(os.path.join(output_dir, 'Coservation1_generalization.csv'), index=False)\n",
    "Loss2.to_csv(os.path.join(output_dir, 'Coservation2_generalization.csv'), index=False)\n",
    "Loss3.to_csv(os.path.join(output_dir, 'Coservation3_generalization.csv'), index=False)\n",
    "\n",
    "MAE_pressure.to_csv(os.path.join(output_dir, 'MAE_pressure_generalization.csv'), index=False)\n",
    "MAE_flow.to_csv(os.path.join(output_dir, 'MAE_flow_generalization.csv'), index=False)\n",
    "MAE_demand.to_csv(os.path.join(output_dir, 'MAE_demand_generalization.csv'), index=False)\n",
    "\n",
    "MAPE_pressure.to_csv(os.path.join(output_dir, 'MAPE_pressure_generalization.csv'), index=False)\n",
    "MAPE_flow.to_csv(os.path.join(output_dir, 'MAPE_flow_generalization.csv'), index=False)\n",
    "MAPE_demand.to_csv(os.path.join(output_dir, 'MAPE_demand_generalization.csv'), index=False)\n",
    "\n",
    "R2_pressure.to_csv(os.path.join(output_dir, 'R2_pressure_generalization.csv'), index=False)\n",
    "R2_flow.to_csv(os.path.join(output_dir, 'R2_flow_generalization.csv'), index=False)\n",
    "R2_demand.to_csv(os.path.join(output_dir, 'R2_demand_generalization.csv'), index=False)"
   ]
  }
 ],
 "metadata": {
  "kernelspec": {
   "display_name": "pytorch",
   "language": "python",
   "name": "python3"
  },
  "language_info": {
   "codemirror_mode": {
    "name": "ipython",
    "version": 3
   },
   "file_extension": ".py",
   "mimetype": "text/x-python",
   "name": "python",
   "nbconvert_exporter": "python",
   "pygments_lexer": "ipython3",
   "version": "3.12.3"
  }
 },
 "nbformat": 4,
 "nbformat_minor": 2
}
