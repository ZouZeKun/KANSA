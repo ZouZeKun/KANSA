{
 "cells": [
  {
   "cell_type": "code",
   "execution_count": 1,
   "metadata": {},
   "outputs": [
    {
     "name": "stderr",
     "output_type": "stream",
     "text": [
      "c:\\ProgramData\\anaconda3\\envs\\pytorch\\Lib\\site-packages\\torch_geometric\\typing.py:72: UserWarning: An issue occurred while importing 'torch-scatter'. Disabling its usage. Stacktrace: Could not find module 'C:\\ProgramData\\anaconda3\\envs\\pytorch\\Lib\\site-packages\\torch_scatter\\_scatter_cuda.pyd' (or one of its dependencies). Try using the full path with constructor syntax.\n",
      "  warnings.warn(f\"An issue occurred while importing 'torch-scatter'. \"\n",
      "c:\\ProgramData\\anaconda3\\envs\\pytorch\\Lib\\site-packages\\torch_geometric\\typing.py:99: UserWarning: An issue occurred while importing 'torch-spline-conv'. Disabling its usage. Stacktrace: Could not find module 'C:\\ProgramData\\anaconda3\\envs\\pytorch\\Lib\\site-packages\\torch_spline_conv\\_basis_cuda.pyd' (or one of its dependencies). Try using the full path with constructor syntax.\n",
      "  warnings.warn(\n",
      "c:\\ProgramData\\anaconda3\\envs\\pytorch\\Lib\\site-packages\\torch_geometric\\typing.py:110: UserWarning: An issue occurred while importing 'torch-sparse'. Disabling its usage. Stacktrace: Could not find module 'C:\\ProgramData\\anaconda3\\envs\\pytorch\\Lib\\site-packages\\torch_sparse\\_convert_cuda.pyd' (or one of its dependencies). Try using the full path with constructor syntax.\n",
      "  warnings.warn(f\"An issue occurred while importing 'torch-sparse'. \"\n"
     ]
    }
   ],
   "source": [
    "import os, random, argparse, json, time\n",
    "from tqdm import tqdm, trange\n",
    "\n",
    "import numpy as np\n",
    "import pandas as pd\n",
    "import matplotlib.pyplot as plt\n",
    "\n",
    "import torch\n",
    "import torch.nn as nn\n",
    "\n",
    "from texttable import Texttable\n",
    "from typing import Union, Tuple, Dict, List\n",
    "\n",
    "import torch.optim as optim\n",
    "import torch.nn.functional as F\n",
    "from torch.utils.data import Dataset\n",
    "from torch_geometric.data import Data\n",
    "from torch_geometric.loader import DataLoader"
   ]
  },
  {
   "cell_type": "markdown",
   "metadata": {},
   "source": [
    "# Parameter"
   ]
  },
  {
   "cell_type": "code",
   "execution_count": 2,
   "metadata": {},
   "outputs": [],
   "source": [
    "def parse_args():\n",
    "    parser = argparse.ArgumentParser()  # 参数解析器对象\n",
    "\n",
    "    parser.add_argument('--seed', type=int, default=10, help='Random seed of the experiment')\n",
    "    parser.add_argument('--exp_name', type=str, default='Exp', help='Name of the experiment')\n",
    "    \n",
    "    parser.add_argument('--num_step', type=int, default=8640, help='4*24*90=8640') # TODO 90天数据\n",
    "    parser.add_argument('--batch_size', type=int, default=96, help='Size of the batch') \n",
    "    parser.add_argument('--train_ratio' , type=float, default=3/6, help='train set ratio') # √\n",
    "    parser.add_argument('--val_ratio'   , type=float, default=1/6, help='validation set ratio') # √\n",
    "    parser.add_argument('--test_ratio'  , type=float, default=2/6, help='test set ratio') # √\n",
    "\n",
    "    parser.add_argument('--num_history', type=int, default=1, help='Number of historical time steps') # √\n",
    "    parser.add_argument('--ChebyshevDegree', type=int, default=8, help='degree of KAN') \n",
    "    parser.add_argument('--FourierDegree', type=int, default=6, help='degree of KAN') \n",
    "\n",
    "    parser.add_argument('--num_nodes', type=int, default=24, help='Number of nodes in the graph') # √\n",
    "    parser.add_argument('--num_edges', type=int, default=34, help='Number of edges in the graph') # √\n",
    "    parser.add_argument('--hidden_dim', type=int, default=12, help='Dimension of the hidden layers') # √\n",
    "    \n",
    "    parser.add_argument('--max_epoch', type=int, default=50, help='Maximum number of epochs') \n",
    "    parser.add_argument('--learning_rate', type=float, default=2e-5, help='Learning rate of Adam') \n",
    "    \n",
    "    # L1正则化：鼓励模型选择较少的特征，从而实现特征选择。可以将某些权重压缩到零，意味着某些特征可能完全被忽略，由此简化模型。\n",
    "    parser.add_argument('--l1_lambda', type=float, default=0.00, help='L1 regularization coefficient') # ×\n",
    "    # L2正则化：鼓励模型的权重较小，从而使模型更简单。但并不会将它们压缩到零，从而保留了所有特征，避免过拟合。\n",
    "    parser.add_argument('--l2_lambda', type=float, default=0.00, help='L2 regularization coefficient') # ×\n",
    "\n",
    "    # parser.add_argument('--max_norm', type=float, default=0.30, help='梯度裁剪') # TODO \n",
    "\n",
    "    parser.add_argument('--gamma', type=float, default=0.95, help='decay parameter') \n",
    "    parser.add_argument('--decay_epoch', type=float, default=1, help='decay epoch') \n",
    "    parser.add_argument('--patience', type=int, default=10, help='提前停止的耐心参数') \n",
    "\n",
    "    parser.add_argument('--pressure_sensor_name', type=str, default='[\"4\", \"13\", \"14\", \"23\", \"24\"]', help='压力传感器名称')\n",
    "    parser.add_argument('--flow_sensor_name', type=str, default='[\"4\", \"7\", \"25\", \"28\", \"34\"]', help='流量传感器名称')\n",
    "    parser.add_argument('--demand_sensor_name', type=str, default='[\"2\", \"16\", \"19\", \"22\", \"24\"]', help='需水量传感器名称')\n",
    "    \n",
    "    parser.add_argument('--water_pressure_file', type=str, default=\"D:/GraphormerForRobustness/dataset2/demand_patten_3612/simulate_pressure3.csv\")\n",
    "    parser.add_argument('--water_flow_file', type=str, default=\"D:/GraphormerForRobustness/dataset2/demand_patten_3612/simulate_flow3.csv\")\n",
    "    parser.add_argument('--water_demand_file', type=str, default=\"D:/GraphormerForRobustness/dataset2/demand_patten_3612/simulate_demand3.csv\")\n",
    "\n",
    "    parser.add_argument('--node_file', type=str, default='D:/GraphormerForRobustness/dataset/Apulia_2/node_features_Apulia2.csv')\n",
    "    parser.add_argument('--edge_file', type=str, default='D:/GraphormerForRobustness/dataset2/edge_index_dir.csv')\n",
    "    \n",
    "    parser.add_argument('--node_adjacency_file', type=str, default='D:/GraphormerForRobustness/dataset/Apulia/node_adjacency_matrix.csv')\n",
    "    parser.add_argument('--edge_adjacency_file', type=str, default='D:/GraphormerForRobustness/dataset/Apulia/edge_adjacency_matrix.csv')\n",
    "\n",
    "    parser.add_argument('--incidence_file', type=str, default='D:/GraphormerForRobustness/dataset2/initial_incidence_matrix_dir.csv')\n",
    "    parser.add_argument('--cycle_file', type=str, default='D:/GraphormerForRobustness/dataset2/initial_cycle_matrix_dir.csv')\n",
    "\n",
    "    args = parser.parse_args(args=[])  \n",
    "\n",
    "    args.device = torch.device(\"cuda\" if torch.cuda.is_available() else \"cpu\")\n",
    "\n",
    "    return args"
   ]
  },
  {
   "cell_type": "markdown",
   "metadata": {},
   "source": [
    "# Loss Function"
   ]
  },
  {
   "cell_type": "code",
   "execution_count": 3,
   "metadata": {},
   "outputs": [],
   "source": [
    "# 损失函数 MSE\n",
    "class ConservationConstraints(nn.Module):\n",
    "    def __init__(self):\n",
    "        super(ConservationConstraints, self).__init__()\n",
    "\n",
    "    def forward(self, pressure_Y, flow_Y, demand_Y, PipeFriction, IncidenceMatrix, CycleMatrix):\n",
    "        \n",
    "        # Part 2: Conservation Constraints —— (10.67 Q^1.852L)/(C^1.852 D^4.87)\n",
    "        PipeFriction = PipeFriction.view(1, 1, -1) \n",
    "        pipe_pressure_minus = (abs(flow_Y)**1.852) * PipeFriction \n",
    "        pipe_pressure_minus = torch.where(flow_Y > 0, \n",
    "                                        pipe_pressure_minus, \n",
    "                                        -pipe_pressure_minus)\n",
    "\n",
    "        loss2_1 = torch.sum((torch.abs((flow_Y @ IncidenceMatrix.t()) + demand_Y)*100)** 2)/96           #  100 -->  targer<0.01 节点流量方程\n",
    "        loss2_2 = torch.sum((torch.abs((pipe_pressure_minus @ CycleMatrix.t()))*10)** 2)/96              #  10  -->  targer<0.1   环能量方程\n",
    "        loss2_3 = torch.sum((torch.abs((pressure_Y @ IncidenceMatrix) - pipe_pressure_minus)*10)** 2)/96 #  10  -->  targer<0.1   管段压降方程\n",
    "\n",
    "        return loss2_1, loss2_2, loss2_3"
   ]
  },
  {
   "cell_type": "code",
   "execution_count": 4,
   "metadata": {},
   "outputs": [],
   "source": [
    "class ConservationConstraints_generalization(nn.Module):\n",
    "    def __init__(self):\n",
    "        super(ConservationConstraints_generalization, self).__init__()\n",
    "        \n",
    "    def forward(self, pressure_Y, flow_Y, demand_Y, PipeFriction, IncidenceMatrix, CycleMatrix):\n",
    "        \n",
    "        # Part 2: Conservation Constraints —— (10.67 Q^1.852L)/(C^1.852 D^4.87)\n",
    "        PipeFriction = PipeFriction.view(1,  -1) \n",
    "        pipe_pressure_minus = (abs(flow_Y)**1.852) * PipeFriction \n",
    "        pipe_pressure_minus = torch.where(flow_Y > 0, \n",
    "                                        pipe_pressure_minus, \n",
    "                                        -pipe_pressure_minus)\n",
    "        loss2_1 = torch.sum((torch.abs((flow_Y @ IncidenceMatrix.t()) + demand_Y))** 2, dim=0)/96            #  100 -->  targer<0.01 节点流量方程\n",
    "        loss2_2 = torch.sum((torch.abs((pipe_pressure_minus @ CycleMatrix.t())))** 2, dim=0)/96              #  10  -->  targer<0.1   环能量方程\n",
    "        loss2_3 = torch.sum((torch.abs((pressure_Y @ IncidenceMatrix) - pipe_pressure_minus))** 2, dim=0)/96 #  10  -->  targer<0.1   管段压降方程\n",
    "        \n",
    "        return loss2_1, loss2_2, loss2_3"
   ]
  },
  {
   "cell_type": "markdown",
   "metadata": {},
   "source": [
    "# Masking"
   ]
  },
  {
   "cell_type": "code",
   "execution_count": 5,
   "metadata": {},
   "outputs": [],
   "source": [
    "def apply_mask(args, pressure_data, flow_data, demand_data):\n",
    "    ''' \n",
    "    生成两步掩码：一步掩码张量用于掩盖只剩传感器，二步掩码张量用于继续掩盖传感器\n",
    "    1. 只有传感器：masked_tensor1 / 掩码方式：mask1\n",
    "    2. 再对传感器进行掩盖：masked_tensor2 / 掩码方式：mask2\n",
    "    '''\n",
    "    pressure_sensor_name = json.loads(args.pressure_sensor_name)\n",
    "    flow_sensor_name = json.loads(args.flow_sensor_name)\n",
    "    demand_sensor_name = json.loads(args.demand_sensor_name)\n",
    "\n",
    "    # 将sensor_index转换为整数类型\n",
    "    pressure_sensor_index = [int(i)-1 for i in pressure_sensor_name]\n",
    "    flow_sensor_index = [int(i)-1 for i in flow_sensor_name]\n",
    "    demand_sensor_index = [int(i)-1 for i in demand_sensor_name]\n",
    "\n",
    "    # 创建一个和输入张量形状相同的掩码\n",
    "    mask1_pressure = torch.zeros(pressure_data.shape)\n",
    "    mask1_flow     = torch.zeros(flow_data.shape)\n",
    "    mask1_demand   = torch.zeros(pressure_data.shape)\n",
    "    mask1_pressure[:,pressure_sensor_index] = 1\n",
    "    mask1_flow[:,flow_sensor_index] = 1\n",
    "    mask1_demand[:,demand_sensor_index] = 1\n",
    "    # 去掉mask1_demand的最后一列\n",
    "    mask1_demand_reduced = mask1_demand[:, :-1]\n",
    "\n",
    "    mask1_pressure = mask1_pressure.to(args.device)\n",
    "    mask1_flow = mask1_flow.to(args.device)\n",
    "    mask1_demand_reduced = mask1_demand_reduced.to(args.device)\n",
    "    \n",
    "    return (mask1_pressure, mask1_flow, mask1_demand_reduced)"
   ]
  },
  {
   "cell_type": "markdown",
   "metadata": {},
   "source": [
    "# DATA"
   ]
  },
  {
   "cell_type": "code",
   "execution_count": 6,
   "metadata": {},
   "outputs": [],
   "source": [
    "# def seq2instance(args, data):\n",
    "#     num_step, dims = data.shape\n",
    "#     # 每增加num_history步 都会产生一个训练样本\n",
    "#     num_sample = num_step // args.batch_size - 1\n",
    "#     # x 存储历史时间步数据\n",
    "#     x = torch.zeros(num_sample, args.batch_size, dims)\n",
    "#     # y 存储预测数据\n",
    "#     y = torch.zeros(num_sample, args.batch_size, dims)\n",
    "#     for i in range(num_sample):\n",
    "#         j = i * args.num_history\n",
    "#         x[i] = data[j: j + args.batch_size]\n",
    "#         y[i] = data[j: j + args.batch_size]\n",
    "#     # print(\"x.shape:\",x.shape, \"y.shape:\", y.shape)\n",
    "#     return x, y\n",
    "\n",
    "def seq2instance(args, data):\n",
    "    num_step, dims = data.shape\n",
    "    # 每增加一步 都会产生一个训练样本\n",
    "    num_sample = num_step - args.batch_size - args.batch_size + 1\n",
    "    # x 存储历史时间步数据\n",
    "    x = torch.zeros(num_sample, args.batch_size, dims)\n",
    "    # y 存储预测数据\n",
    "    y = torch.zeros(num_sample, args.batch_size, dims)\n",
    "    for i in range(num_sample):\n",
    "        x[i] = data[i: i + args.batch_size]\n",
    "        y[i] = data[i: i + args.batch_size]\n",
    "    return x, y\n",
    "\n",
    "# 将时间序列数据划分为多个训练样本\n",
    "class CustomDataset(Dataset):\n",
    "    def __init__(self, args, dataset_type='train'):\n",
    "        # 读取数据和嵌入\n",
    "        self.args = args\n",
    "        self.dataset_type = dataset_type\n",
    "        \n",
    "        # 计算训练集、验证集和测试集的时间步数\n",
    "        train_steps = round(args.train_ratio * args.num_step)\n",
    "        test_steps = round(args.test_ratio * args.num_step)\n",
    "        val_steps = args.num_step - train_steps - test_steps\n",
    "\n",
    "        # 读取节点压力、节点用水量、管道流量数据 \n",
    "        NodePressure = pd.read_csv(args.water_pressure_file, header=0, index_col=0)\n",
    "        PipeFlow = pd.read_csv(args.water_flow_file, header=0, index_col=0)\n",
    "        NodeDemand = pd.read_csv(args.water_demand_file, header=0, index_col=0)\n",
    "\n",
    "        # min-max 归一化\n",
    "        NodePressure_ = (NodePressure - NodePressure.min().min()) / (NodePressure.max().max() - NodePressure.min().min())\n",
    "        PipeFlow_ = (PipeFlow - PipeFlow.min().min()) / (PipeFlow.max().max() - PipeFlow.min().min())\n",
    "        NodeDemand_ = (NodeDemand - (NodeDemand.iloc[:, :-1]).min().min()) / (NodeDemand.max().max() - (NodeDemand.iloc[:, :-1]).min().min())\n",
    "\n",
    "        NodePressure = torch.FloatTensor(NodePressure_.values)\n",
    "        PipeFlow = torch.FloatTensor(PipeFlow_.values)\n",
    "        NodeDemand = torch.FloatTensor(NodeDemand_.values)\n",
    "\n",
    "        # 分割数据集\n",
    "        self.train_pressure = NodePressure[: train_steps]\n",
    "        self.train_flow     = PipeFlow[: train_steps]\n",
    "        self.train_demand   = NodeDemand[: train_steps]\n",
    "\n",
    "        self.val_pressure   = NodePressure[train_steps: train_steps + val_steps]\n",
    "        self.val_flow       = PipeFlow[train_steps: train_steps + val_steps]\n",
    "        self.val_demand     = NodeDemand[train_steps: train_steps + val_steps]\n",
    "\n",
    "        self.test_pressure  = NodePressure[-test_steps:]\n",
    "        self.test_flow      = PipeFlow[-test_steps:]\n",
    "        self.test_demand    = NodeDemand[-test_steps:]\n",
    "\n",
    "        self.trainX_pressure, self.trainY_pressure = seq2instance(args, self.train_pressure)\n",
    "        self.trainX_flow, self.trainY_flow = seq2instance(args, self.train_flow)\n",
    "        self.trainX_demand, self.trainY_demand = seq2instance(args, self.train_demand)\n",
    "\n",
    "        self.valX_pressure, self.valY_pressure = seq2instance(args, self.val_pressure)\n",
    "        self.valX_flow, self.valY_flow = seq2instance(args, self.val_flow)\n",
    "        self.valX_demand, self.valY_demand = seq2instance(args, self.val_demand)\n",
    "\n",
    "        self.testX_pressure, self.testY_pressure = seq2instance(args, self.test_pressure)\n",
    "        self.testX_flow, self.testY_flow = seq2instance(args, self.test_flow)\n",
    "        self.testX_demand, self.testY_demand = seq2instance(args, self.test_demand)\n",
    "\n",
    "    def __len__(self):\n",
    "        if self.dataset_type == 'train':\n",
    "            return len(self.trainX_pressure)\n",
    "        elif self.dataset_type == 'val':\n",
    "            return len(self.valX_pressure)\n",
    "        elif self.dataset_type == 'test':\n",
    "            return len(self.testX_pressure)\n",
    "        \n",
    "    def __getitem__(self, idx):\n",
    "        if self.dataset_type == 'train':\n",
    "            return (self.trainX_pressure[idx].to(self.args.device), self.trainY_pressure[idx].to(self.args.device),\n",
    "                    self.trainX_flow[idx].to(self.args.device), self.trainY_flow[idx].to(self.args.device),\n",
    "                    self.trainX_demand[idx].to(self.args.device), self.trainY_demand[idx].to(self.args.device)\n",
    "                    )\n",
    "        \n",
    "        elif self.dataset_type == 'val':\n",
    "            return (self.valX_pressure[idx].to(self.args.device), self.valY_pressure[idx].to(self.args.device),\n",
    "                    self.valX_flow[idx].to(self.args.device), self.valY_flow[idx].to(self.args.device),\n",
    "                    self.valX_demand[idx].to(self.args.device), self.valY_demand[idx].to(self.args.device)\n",
    "                    )\n",
    "\n",
    "        elif self.dataset_type == 'test':\n",
    "            return (self.testX_pressure[idx].to(self.args.device), self.testY_pressure[idx].to(self.args.device), \n",
    "                    self.testX_flow[idx].to(self.args.device), self.testY_flow[idx].to(self.args.device),\n",
    "                    self.testX_demand[idx].to(self.args.device), self.testY_demand[idx].to(self.args.device)\n",
    "                    )  "
   ]
  },
  {
   "cell_type": "code",
   "execution_count": 7,
   "metadata": {},
   "outputs": [],
   "source": [
    "def load_matrix(args):\n",
    "    # 读取点文件\n",
    "    nodes_df = pd.read_csv(args.node_file, header=0, index_col=0)\n",
    "    nodes_attr = torch.from_numpy(nodes_df.values).float().to(args.device)\n",
    "\n",
    "    # 读取边文件 —— edge weight和海增威廉公式匹配 (10.67*L)/(C^1.852 D^4.87)\n",
    "    edge_df = pd.read_csv(args.edge_file, header=0, index_col=0)\n",
    "    edge_index  = edge_df.iloc[:, 0:2].T  # 第0列到第1列\n",
    "    edge_attr = edge_df.iloc[:, 2:7]      # 第2列到第6列\n",
    "    edge_index = torch.from_numpy(edge_index.values).long().to(args.device)\n",
    "    edge_attr = torch.from_numpy(edge_attr.values).float().to(args.device)\n",
    "\n",
    "    # 生成图数据\n",
    "    Graph_Data = Data(x=nodes_attr, edge_index=edge_index, edge_attr=edge_attr)\n",
    "\n",
    "    # 取出edge_df最后一列\n",
    "    PipeFriction = edge_df.iloc[:, -1].values\n",
    "    pipe_friction = torch.from_numpy(PipeFriction).float().to(args.device)\n",
    "    \n",
    "    # 读取关联矩阵文件\n",
    "    incidence_matrix_df = pd.read_csv(args.incidence_file, header=None, index_col=None)\n",
    "    incidence_matrix = torch.from_numpy(incidence_matrix_df.values).float().to(args.device)\n",
    "    # 读取循环矩阵文件\n",
    "    cycle_matrix_df = pd.read_csv(args.cycle_file, header=0, index_col=0)\n",
    "    cycle_matrix = torch.from_numpy(cycle_matrix_df.values).float().to(args.device)\n",
    "\n",
    "    return Graph_Data, pipe_friction, incidence_matrix, cycle_matrix"
   ]
  },
  {
   "cell_type": "markdown",
   "metadata": {},
   "source": [
    "# Utiles"
   ]
  },
  {
   "cell_type": "code",
   "execution_count": 8,
   "metadata": {},
   "outputs": [],
   "source": [
    "class IOStream():\n",
    "    \"\"\"训练日志文件\"\"\"\n",
    "    def __init__(self, path):\n",
    "        self.file = open(path, 'a') # 附加模式：用于在文件末尾添加内容，如果文件不存在则创建新文件\n",
    "\n",
    "    def cprint(self, text):\n",
    "        print(text)\n",
    "        self.file.write(text + '\\n')\n",
    "        self.file.flush() # 确保将写入的内容刷新到文件中，以防止数据在缓冲中滞留\n",
    "\n",
    "    def close(self):\n",
    "        self.file.close()\n",
    "\n",
    "def table_printer(args):\n",
    "    \"\"\"绘制参数表格\"\"\"\n",
    "    args = vars(args) # 转成字典类型\n",
    "    keys = sorted(args.keys()) # 按照字母顺序进行排序\n",
    "    table = Texttable()\n",
    "    table.set_cols_dtype(['t', 't']) # 列的类型都为文本(str)\n",
    "    rows = [[\"Parameter\", \"Value\"]] # 设置表头\n",
    "    for k in keys:\n",
    "        rows.append([k.replace(\"_\", \" \").capitalize(), str(args[k])]) # 下划线替换成空格，首字母大写\n",
    "    table.add_rows(rows)\n",
    "    return table.draw()"
   ]
  },
  {
   "cell_type": "markdown",
   "metadata": {},
   "source": [
    "# KAN Parts"
   ]
  },
  {
   "cell_type": "code",
   "execution_count": 9,
   "metadata": {},
   "outputs": [],
   "source": [
    "# 基于切比雪夫基函数的KAN层\n",
    "class ChebyshevKANLayer(nn.Module):\n",
    "    def __init__(self, input_dim, output_dim, degree):\n",
    "        super(ChebyshevKANLayer, self).__init__()\n",
    "        self.inputdim = input_dim\n",
    "        self.outdim = output_dim\n",
    "        self.ChebyshevDegree = degree\n",
    "        self.addbias  = True\n",
    "        self.cheby_coeffs = nn.Parameter(torch.empty(input_dim, output_dim, degree + 1))\n",
    "        nn.init.normal(self.cheby_coeffs, mean=0.0, std=1/(input_dim * (degree + 1)))\n",
    "        self.bias = nn.Parameter(torch.zeros(1, output_dim))\n",
    "\n",
    "    def forward(self, x):\n",
    "        xshp = x.shape                          # (seq_length, inputdim)\n",
    "        outshape = xshp[0:-1] + (self.outdim,)  # (seq_length, outdim)\n",
    "        x = x.view(-1, self.inputdim)           # (seq_length, inputdim)\n",
    "\n",
    "        x = torch.tanh(x)\n",
    "\n",
    "        cheby = torch.ones(x.shape[0], self.inputdim, self.ChebyshevDegree + 1, device=x.device)\n",
    "        if self.ChebyshevDegree > 0:\n",
    "            cheby[:, :, 1] = x\n",
    "        for i in range(2, self.ChebyshevDegree + 1):\n",
    "            cheby[:, :, i] = 2 * x * cheby[:, :, i - 1].clone() - cheby[:, :, i - 2].clone()\n",
    "\n",
    "        # Compute the Chebyshev interpolation\n",
    "        # (seq_length, inputdim, degree+1) x (inputdim, output_dim, degree+1) -> (seq_length, output_dim)\n",
    "        y = torch.einsum('bid,iod->bo', cheby, self.cheby_coeffs)\n",
    "\n",
    "        # y += self.bias\n",
    "\n",
    "        y = y.view(outshape) \n",
    "        \n",
    "        return y"
   ]
  },
  {
   "cell_type": "code",
   "execution_count": 10,
   "metadata": {},
   "outputs": [],
   "source": [
    "# 傅里叶基函数\n",
    "class FourierKANLayer(nn.Module):\n",
    "    def __init__(self, input_dim, output_dim, degree):\n",
    "        super(FourierKANLayer,self).__init__()\n",
    "        self.gridsize = degree\n",
    "        self.addbias  = True\n",
    "        self.inputdim = input_dim\n",
    "        self.outdim = output_dim\n",
    "\n",
    "        self.fouriercoeffs = nn.Parameter(\n",
    "                    torch.randn(2, output_dim, input_dim, degree) / \n",
    "                    (np.sqrt(input_dim) * np.sqrt(self.gridsize))\n",
    "                     )\n",
    "        nn.init.normal(self.fouriercoeffs, mean=0.0, std=1 / (np.sqrt(input_dim) * np.sqrt(self.gridsize)))\n",
    "        \n",
    "        self.bias = nn.Parameter(torch.zeros(1, output_dim))\n",
    "\n",
    "    def forward(self, x):\n",
    "        xshp = x.shape                          # (batch_size, seq_length, inputdim)\n",
    "        outshape = xshp[0:-1] + (self.outdim,)  # (batch_size, seq_lengtha, outdim)\n",
    "        x = torch.tanh(x)     \n",
    "\n",
    "        x = x.view(-1, self.inputdim)           # (batch_size*seq_length, inputdim)\n",
    "\n",
    "        # 创建傅里叶基函数--网格(1, 1, 1, gridsize)\n",
    "        k = torch.reshape(torch.arange(1, self.gridsize+1, device=x.device), (1, 1, 1, self.gridsize))\n",
    "        xrshp = x.view(x.shape[0], 1, x.shape[1], 1)   # (batch_size*seq_length, 1, inputdim, 1)\n",
    "\n",
    "        c = torch.cos(k * xrshp)\n",
    "        s = torch.sin(k * xrshp)\n",
    "\n",
    "        y1 = torch.sum(c * self.fouriercoeffs[0:1], (-2, -1)) \n",
    "        y2 = torch.sum(s * self.fouriercoeffs[1:2], (-2, -1))\n",
    "\n",
    "        y = y1 + y2\n",
    "        \n",
    "        # y += self.bias\n",
    "\n",
    "        # 还原(batch_size, seq_length, outdim)\n",
    "        y = y.view(outshape) \n",
    "        \n",
    "        return y\n",
    "        "
   ]
  },
  {
   "cell_type": "code",
   "execution_count": 11,
   "metadata": {},
   "outputs": [],
   "source": [
    "# 注意力机制\n",
    "class Attention(nn.Module):\n",
    "    def __init__(self, hidden_size):\n",
    "        super(Attention, self).__init__()\n",
    "        self.query_layer = nn.Linear(hidden_size, hidden_size)\n",
    "        self.key_layer   = nn.Linear(hidden_size, hidden_size)\n",
    "        self.value_layer = nn.Linear(hidden_size, hidden_size)\n",
    "\n",
    "        self.layer_norm  = nn.LayerNorm(hidden_size)\n",
    "\n",
    "    def forward(self, attention_from, attention_to):\n",
    "        # 计算注意力分数\n",
    "        query = self.query_layer(attention_from)    # (batch_size, hidden_size)\n",
    "        key = self.key_layer(attention_to)          # (batch_size, hidden_size)\n",
    "        value = self.value_layer(attention_from)    # (batch_size, hidden_size)\n",
    "\n",
    "        # 计算注意力权重\n",
    "        scores = torch.matmul(query, key.T)                # (batch_size, batch_size)\n",
    "        attention_weights = F.softmax(scores, dim=-1)      # 使用softmax计算归一化权重\n",
    "\n",
    "        # 计算加权输出\n",
    "        output = torch.matmul(attention_weights, value)  # (batch_size, hidden_size)\n",
    "        output = self.layer_norm(output)  # (batch_size, hidden_size)\n",
    "\n",
    "        return output"
   ]
  },
  {
   "cell_type": "markdown",
   "metadata": {},
   "source": [
    "# model"
   ]
  },
  {
   "cell_type": "code",
   "execution_count": 12,
   "metadata": {},
   "outputs": [],
   "source": [
    "class KANSA(nn.Module):\n",
    "    def __init__(self, args):\n",
    "        \"\"\"\n",
    "        :param num_layers: number of KANSA layers\n",
    "\n",
    "        :param input_node_dim: input dimension of node features\n",
    "        :param input_edge_dim: input dimension of edge features\n",
    "\n",
    "        :param max_path_distance: max pairwise distance between two nodes\n",
    "        \"\"\"\n",
    "        super().__init__()\n",
    "        self.batch_size = args.batch_size\n",
    "        self.ChebyshevDegree = args.ChebyshevDegree\n",
    "        self.FourierDegree = args.FourierDegree\n",
    "\n",
    "        self.num_nodes = args.num_nodes\n",
    "        self.num_edges = args.num_edges\n",
    "        self.hidden_dim = args.hidden_dim\n",
    "\n",
    "        ''' input ''' \n",
    "        # 时间特征\n",
    "        self.flow_batch = nn.Sequential(\n",
    "            FourierKANLayer(self.batch_size, self.hidden_dim, self.FourierDegree),  \n",
    "            FourierKANLayer(self.hidden_dim, self.batch_size, self.FourierDegree),   \n",
    "            nn.LayerNorm(self.batch_size),            \n",
    "            )\n",
    "        self.pressure_batch = nn.Sequential(\n",
    "            FourierKANLayer(self.batch_size, self.hidden_dim, self.FourierDegree), \n",
    "            FourierKANLayer(self.hidden_dim, self.batch_size, self.FourierDegree),   \n",
    "            nn.LayerNorm(self.batch_size),    \n",
    "            )\n",
    "        self.demand_batch = nn.Sequential(\n",
    "            FourierKANLayer(self.batch_size, self.hidden_dim, self.FourierDegree),   \n",
    "            FourierKANLayer(self.hidden_dim, self.batch_size, self.FourierDegree),   \n",
    "            nn.LayerNorm(self.batch_size),      \n",
    "            )\n",
    "        # 空间特征\n",
    "        self.flow_features = nn.Sequential(\n",
    "            ChebyshevKANLayer(self.num_edges, self.hidden_dim, self.ChebyshevDegree),\n",
    "            ChebyshevKANLayer(self.hidden_dim, self.num_edges, self.ChebyshevDegree), \n",
    "            nn.LayerNorm(self.num_edges),\n",
    "            )\n",
    "        self.pressure_features = nn.Sequential(\n",
    "            ChebyshevKANLayer(self.num_nodes, self.hidden_dim, self.ChebyshevDegree),\n",
    "            ChebyshevKANLayer(self.hidden_dim, self.num_nodes, self.ChebyshevDegree), \n",
    "            nn.LayerNorm(self.num_nodes), \n",
    "            )\n",
    "        self.demand_features = nn.Sequential(\n",
    "            ChebyshevKANLayer(self.num_nodes-1, self.hidden_dim, self.ChebyshevDegree),\n",
    "            ChebyshevKANLayer(self.hidden_dim, self.num_nodes-1, self.ChebyshevDegree), \n",
    "            nn.LayerNorm(self.num_nodes-1), \n",
    "            )\n",
    "        # 自注意力机制 时间\n",
    "        self.attention_pressure_batch = Attention(self.batch_size)\n",
    "        self.attention_flow_batch     = Attention(self.batch_size)\n",
    "        self.attention_demand_batch   = Attention(self.batch_size)\n",
    "        # 自注意力机制 空间\n",
    "        self.attention_pressure_features = Attention(self.num_nodes)\n",
    "        self.attention_flow_features     = Attention(self.num_edges)\n",
    "        self.attention_demand_features   = Attention(self.num_nodes-1)\n",
    "\n",
    "        self.pressure_1 = nn.Sequential(\n",
    "            nn.LayerNorm(self.num_nodes),\n",
    "            ChebyshevKANLayer(self.num_nodes, self.hidden_dim, self.ChebyshevDegree),\n",
    "            ChebyshevKANLayer(self.hidden_dim, self.hidden_dim, self.ChebyshevDegree)\n",
    "            )\n",
    "        self.pressure_2 = nn.Sequential(\n",
    "            nn.LayerNorm(self.num_nodes),\n",
    "            ChebyshevKANLayer(self.num_nodes, self.hidden_dim, self.ChebyshevDegree),\n",
    "            ChebyshevKANLayer(self.hidden_dim, self.hidden_dim, self.ChebyshevDegree),\n",
    "            )\n",
    "        self.flow_1 = nn.Sequential(\n",
    "            nn.LayerNorm(self.num_edges),\n",
    "            ChebyshevKANLayer(self.num_edges, self.hidden_dim, self.ChebyshevDegree),\n",
    "            ChebyshevKANLayer(self.hidden_dim, self.hidden_dim, self.ChebyshevDegree),\n",
    "            )\n",
    "        self.flow_2 = nn.Sequential(\n",
    "            nn.LayerNorm(self.num_edges),\n",
    "            ChebyshevKANLayer(self.num_edges, self.hidden_dim, self.ChebyshevDegree),\n",
    "            ChebyshevKANLayer(self.hidden_dim, self.hidden_dim, self.ChebyshevDegree),\n",
    "            )\n",
    "        self.demand_1 = nn.Sequential(\n",
    "            nn.LayerNorm(self.num_nodes-1),\n",
    "            ChebyshevKANLayer(self.num_nodes-1, self.hidden_dim, self.ChebyshevDegree),\n",
    "            ChebyshevKANLayer(self.hidden_dim, self.hidden_dim, self.ChebyshevDegree),\n",
    "            )\n",
    "        self.demand_2 = nn.Sequential(\n",
    "            nn.LayerNorm(self.num_nodes-1),\n",
    "            ChebyshevKANLayer(self.num_nodes-1, self.hidden_dim, self.ChebyshevDegree),\n",
    "            ChebyshevKANLayer(self.hidden_dim, self.hidden_dim, self.ChebyshevDegree),\n",
    "            )\n",
    "\n",
    "        self.pressure_sum = nn.Sequential(\n",
    "            nn.LayerNorm(self.hidden_dim),\n",
    "            ChebyshevKANLayer(self.hidden_dim, 2*self.hidden_dim, self.ChebyshevDegree),\n",
    "            ChebyshevKANLayer(2*self.hidden_dim, 2*self.hidden_dim, self.ChebyshevDegree),\n",
    "            )\n",
    "        self.flow_sum = nn.Sequential(\n",
    "            nn.LayerNorm(self.hidden_dim),\n",
    "            ChebyshevKANLayer(self.hidden_dim, 2*self.hidden_dim, self.ChebyshevDegree),\n",
    "            ChebyshevKANLayer(2*self.hidden_dim, 2*self.hidden_dim, self.ChebyshevDegree),\n",
    "            )\n",
    "        self.demand_sum = nn.Sequential(\n",
    "            nn.LayerNorm(self.hidden_dim),\n",
    "            ChebyshevKANLayer(self.hidden_dim, 2*self.hidden_dim, self.ChebyshevDegree),\n",
    "            ChebyshevKANLayer(2*self.hidden_dim, 2*self.hidden_dim, self.ChebyshevDegree),\n",
    "            )\n",
    "\n",
    "        # 处理器\n",
    "        self.graph = nn.Sequential(\n",
    "            nn.LayerNorm(3),\n",
    "            ChebyshevKANLayer(3, 12, self.ChebyshevDegree),\n",
    "            ChebyshevKANLayer(12, 1, self.ChebyshevDegree),\n",
    "            )\n",
    "\n",
    "        # 图特征解码\n",
    "        self.flow_out = nn.Sequential(\n",
    "            ChebyshevKANLayer(2*self.hidden_dim, 2*self.num_edges, self.ChebyshevDegree),\n",
    "            ChebyshevKANLayer(2*self.num_edges, self.num_edges, self.ChebyshevDegree),\n",
    "            nn.Sigmoid(),\n",
    "            )\n",
    "        self.pressure_out = nn.Sequential(\n",
    "            ChebyshevKANLayer(2*self.hidden_dim, 2*self.num_nodes, self.ChebyshevDegree),\n",
    "            ChebyshevKANLayer(2*self.num_nodes, self.num_nodes, self.ChebyshevDegree),\n",
    "            nn.Sigmoid(),\n",
    "            )\n",
    "        # Demand的最后一列是负的（只对前面列进行估计）\n",
    "        self.demand_out = nn.Sequential(\n",
    "            ChebyshevKANLayer(2*self.hidden_dim, 2*self.num_nodes, self.ChebyshevDegree),\n",
    "            ChebyshevKANLayer(2*self.num_nodes, self.num_nodes-1, self.ChebyshevDegree),\n",
    "            nn.Sigmoid(),\n",
    "            )\n",
    "\n",
    "    def forward(self, Graph_Data: Union[Data], \n",
    "                mask_pressure, mask_flow, mask_demand,\n",
    "                pressure, flow, demand) -> Tuple[torch.Tensor, torch.Tensor]:\n",
    "        # 修改架构，单独注意力\n",
    "        # 数据预处理\n",
    "        pressure_ = pressure.float()     # (batch_size, num_nodes)\n",
    "        flow_ = flow.float()             # (batch_size, num_edges)\n",
    "        demand_ = demand.float()         # (batch_size, num_nodes)\n",
    "\n",
    "        # 批次特征提取\n",
    "        pressure_batch      = self.pressure_batch(pressure_.T)     # (batch_size, num_nodes)\n",
    "        flow_batch          = self.flow_batch(flow_.T)             # (batch_size, num_edges)\n",
    "        demand_batch        = self.demand_batch(demand_.T)         # (batch_size, num_nodes)\n",
    "        pressure_batch      = (self.attention_pressure_batch(pressure_batch, pressure_.T)).T       # (batch_size, num_nodes)\n",
    "        flow_batch          = (self.attention_flow_batch(flow_batch, flow_.T)).T                   # (batch_size, num_edges)\n",
    "        demand_batch        = (self.attention_demand_batch(demand_batch, demand_.T)).T             # (batch_size, num_nodes)\n",
    "        # 节点特征提取\n",
    "        pressure_features   = self.pressure_features(pressure_)    # (batch_size, num_nodes)\n",
    "        flow_features       = self.flow_features(flow_)            # (batch_size, num_edges)\n",
    "        demand_features     = self.demand_features(demand_)        # (batch_size, num_nodes)\n",
    "        pressure_features   = self.attention_pressure_features(pressure_features, pressure_)       # (batch_size, num_nodes)\n",
    "        flow_features       = self.attention_flow_features(flow_features, flow_)                   # (batch_size, num_edges)\n",
    "        demand_features     = self.attention_demand_features(demand_features, demand_)             # (batch_size, num_nodes)\n",
    "        # 特征线性变换      \n",
    "        # 结合方式  * is better\n",
    "        pressure_batch_    = self.pressure_1(pressure_batch * (1-mask_pressure) + pressure_)\n",
    "        pressure_features_ = self.pressure_2(pressure_features * (1-mask_pressure) + pressure_)\n",
    "        pressure_st_       = pressure_batch_ * pressure_features_\n",
    "        \n",
    "        flow_batch_        = self.flow_1(flow_batch * (1-mask_flow) + flow_)\n",
    "        flow_features_     = self.flow_2(flow_features * (1-mask_flow) + flow_)\n",
    "        flow_st_           = flow_batch_ * flow_features_  \n",
    "\n",
    "        demand_batch_      = self.demand_1(demand_batch * (1-mask_demand)  + demand_)\n",
    "        demand_features_   = self.demand_2(demand_features * (1-mask_demand) + demand_)\n",
    "        demand_st_         = demand_batch_ * demand_features_\n",
    "\n",
    "        # 拼接\n",
    "        Graph_features = torch.cat((self.pressure_sum(pressure_st_).unsqueeze(-1), \n",
    "                                    self.flow_sum(flow_st_).unsqueeze(-1), \n",
    "                                    self.demand_sum(demand_st_).unsqueeze(-1)), \n",
    "                                    dim=-1)\n",
    "        graph_features = self.graph(Graph_features).squeeze(-1)\n",
    "\n",
    "        # 解码\n",
    "        pressure_dd = self.pressure_out(graph_features) * (1-mask_pressure)   + pressure_ \n",
    "        flow_dd = self.flow_out(graph_features)         * (1-mask_flow)       + flow_ \n",
    "        demand_dd = self.demand_out(graph_features)     * (1-mask_demand)     + demand_\n",
    "\n",
    "        return pressure_dd, flow_dd, demand_dd"
   ]
  },
  {
   "cell_type": "markdown",
   "metadata": {},
   "source": [
    "# Main"
   ]
  },
  {
   "cell_type": "code",
   "execution_count": 13,
   "metadata": {},
   "outputs": [],
   "source": [
    "def train(args, IO,  train_loader, val_loader, \n",
    "        min_pressure, max_pressure, min_flow, max_flow, min_demand, max_demand):\n",
    "    best_val_loss = float('inf')\n",
    "    patience = args.patience  \n",
    "    patience_counter = 0\n",
    "\n",
    "    # 使用GPU or CPU\n",
    "    device = torch.device('cuda' if torch.cuda.is_available() else 'cpu')\n",
    "    torch.cuda.manual_seed(args.seed)  \n",
    "    \n",
    "    # 加载需求数据\n",
    "    Graph_Data, pipe_friction, incidence_matrix, cycle_matrix = load_matrix(args)\n",
    "\n",
    "    # 加载模型及参数量统计\n",
    "    model = KANSA(args).to(device)\n",
    "\n",
    "    IO.cprint(str(model))\n",
    "    total_params = sum(p.numel() for p in model.parameters() if p.requires_grad)\n",
    "    IO.cprint('Model Parameter: {}'.format(total_params))\n",
    "    \n",
    "    # 优化器 RMSprop  Trick\n",
    "    optimizer = optim.RMSprop(model.parameters(), lr=args.learning_rate)\n",
    "    scheduler = optim.lr_scheduler.StepLR(optimizer,\n",
    "                                        step_size=args.decay_epoch,\n",
    "                                        gamma=args.gamma)\n",
    "    IO.cprint('Using RMSprop')\n",
    "\n",
    "    # 损失函数\n",
    "    criterion = ConservationConstraints()\n",
    "    # 保存损失\n",
    "    train_loss1_list = []\n",
    "    train_loss2_list = []\n",
    "    train_loss3_list = []\n",
    "    val_loss1_list = []\n",
    "    val_loss2_list = []\n",
    "    val_loss3_list = []\n",
    "    start_time = time.time()\n",
    "    for epoch in range(args.max_epoch):\n",
    "        #################\n",
    "        ###   Train   ###\n",
    "        #################\n",
    "        model.train()  \n",
    "        train_loss1 = 0.0 \n",
    "        train_loss2 = 0.0\n",
    "        train_loss3 = 0.0\n",
    "        pressure_True = torch.Tensor().to(args.device)\n",
    "        pressure_Est  = torch.Tensor().to(args.device)\n",
    "        flow_True     = torch.Tensor().to(args.device)\n",
    "        flow_Est      = torch.Tensor().to(args.device)\n",
    "        demand_True   = torch.Tensor().to(args.device)\n",
    "        demand_Est    = torch.Tensor().to(args.device)\n",
    "\n",
    "        for i, data in tqdm(enumerate(train_loader), total=len(train_loader), desc=\"Train_Loader\"):\n",
    "            # 加载数据\n",
    "            (train_pressureX, train_pressureY, \n",
    "            train_flowX, train_flowY, \n",
    "            train_demandX, train_demandY) = data\n",
    "            train_pressureX = train_pressureX.squeeze(0)\n",
    "            train_flowX     = train_flowX.squeeze(0)\n",
    "            train_demandX   = train_demandX.squeeze(0)\n",
    "\n",
    "            # 随机掩码\n",
    "            (mask1_pressure, mask1_flow, mask1_demand)=apply_mask(args, train_pressureX, train_flowX, train_demandX)\n",
    "\n",
    "            # 掩码\n",
    "            train_pressureX_ = train_pressureX * mask1_pressure\n",
    "            train_flowX_     = train_flowX * mask1_flow\n",
    "            train_demandX_   = (train_demandX[:, :-1]) * mask1_demand\n",
    "\n",
    "            # model\n",
    "            pressure_Y, flow_Y, demand_Y = model(Graph_Data, mask1_pressure, mask1_flow, mask1_demand, \n",
    "                                                train_pressureX_, train_flowX_, train_demandX_)\n",
    "            # 给demand_Y添加最后一列\n",
    "            row_sums = torch.sum(demand_Y, dim=1, keepdim=True)\n",
    "            demand_Y = torch.cat((demand_Y, -row_sums), dim=1)\n",
    "\n",
    "            # min-max归一化还原\n",
    "            pressure_Y = (pressure_Y * (max_pressure - min_pressure) + min_pressure)\n",
    "            flow_Y     = (flow_Y     * (max_flow     - min_flow)     + min_flow)\n",
    "            demand_Y   = (demand_Y   * (max_demand   - min_demand)   + min_demand)\n",
    "            train_pressureX  = (train_pressureX  * (max_pressure - min_pressure) + min_pressure)\n",
    "            train_pressureX_ = (train_pressureX_ * (max_pressure - min_pressure) + min_pressure)\n",
    "            train_flowX      = (train_flowX      * (max_flow     - min_flow)     + min_flow)\n",
    "            train_flowX_     = (train_flowX_     * (max_flow     - min_flow)     + min_flow)\n",
    "            train_demandX    = (train_demandX    * (max_demand   - min_demand)   + min_demand)\n",
    "            train_demandX_   = (train_demandX_   * (max_demand   - min_demand)   + min_demand)\n",
    "            \n",
    "            # 计算损失\n",
    "            (loss1, loss2, loss3) = criterion(pressure_Y, flow_Y, demand_Y, pipe_friction, incidence_matrix, cycle_matrix)\n",
    "\n",
    "            # 数据保存\n",
    "            pressure_True = torch.cat((pressure_True, train_pressureX), 0)\n",
    "            pressure_Est  = torch.cat((pressure_Est, pressure_Y), 0)\n",
    "            flow_True     = torch.cat((flow_True,   train_flowX), 0)\n",
    "            flow_Est      = torch.cat((flow_Est,     flow_Y), 0)\n",
    "            demand_True   = torch.cat((demand_True, train_demandX), 0)\n",
    "            demand_Est    = torch.cat((demand_Est,   demand_Y), 0)\n",
    "\n",
    "            # l1+l2正则化\n",
    "            l1_norm = sum(p.abs().sum() for p in model.parameters())\n",
    "            l2_norm = sum(p.pow(2.0).sum() for p in model.parameters())\n",
    "            loss_ = loss1 + loss2 + loss3\n",
    "\n",
    "            loss = loss_ + args.l1_lambda * l1_norm + args.l2_lambda * l2_norm\n",
    "            loss.backward()\n",
    "\n",
    "            optimizer.step()\n",
    "            optimizer.zero_grad()\n",
    "\n",
    "            train_loss1 += (loss1).item()\n",
    "            train_loss2 += (loss2).item()\n",
    "            train_loss3 += (loss3).item()\n",
    "\n",
    "        scheduler.step()\n",
    "        avg_train_loss1 = (train_loss1) / len(train_loader.dataset)\n",
    "        avg_train_loss2 = (train_loss2) / len(train_loader.dataset)\n",
    "        avg_train_loss3 = (train_loss3) / len(train_loader.dataset)\n",
    "        # 绘图保存\n",
    "        train_loss1_list.append(avg_train_loss1)\n",
    "        train_loss2_list.append(avg_train_loss2)\n",
    "        train_loss3_list.append(avg_train_loss3)\n",
    "\n",
    "        IO.cprint('Epoch #{:03d}, Conservation1: {:.4f}, Conservation2: {:.4f}, Conservation3: {:.4f}'.format(\n",
    "                    epoch, (avg_train_loss1), (avg_train_loss2), (avg_train_loss3)\n",
    "                    ))\n",
    "\n",
    "        #################\n",
    "        ###   Valid   ###\n",
    "        #################\n",
    "        model.eval()\n",
    "        val_loss1 = 0.0\n",
    "        val_loss2 = 0.0\n",
    "        val_loss3 = 0.0\n",
    "        with torch.no_grad():\n",
    "            for i, data in tqdm(enumerate(val_loader), total=len(val_loader), desc=\"Val_Loader\"):\n",
    "\n",
    "                (val_pressureX, val_pressureY, \n",
    "                 val_flowX, val_flowY,\n",
    "                 val_demandX, val_demandY)= data\n",
    "                val_pressureX = val_pressureX.squeeze(0)\n",
    "                val_flowX     = val_flowX.squeeze(0)\n",
    "                val_demandX   = val_demandX.squeeze(0)\n",
    "\n",
    "                # 随机掩码\n",
    "                (mask1_pressure, mask1_flow, mask1_demand)=apply_mask(args, val_pressureX, val_flowX, val_demandX)\n",
    "                val_pressureX_ = val_pressureX * mask1_pressure\n",
    "                val_flowX_     = val_flowX * mask1_flow\n",
    "                val_demandX_   = (val_demandX[:, :-1]) * mask1_demand\n",
    "\n",
    "                pressure_Y, flow_Y, demand_Y = model(Graph_Data, mask1_pressure, mask1_flow, mask1_demand, val_pressureX_, val_flowX_, val_demandX_)\n",
    "                # 给demand_Y添加最后一列\n",
    "                row_sums = torch.sum(demand_Y, dim=1, keepdim=True)\n",
    "                demand_Y = torch.cat((demand_Y, -row_sums), dim=1)\n",
    "                \n",
    "                # min-max归一化还原\n",
    "                pressure_Y = (pressure_Y * (max_pressure - min_pressure) + min_pressure)\n",
    "                flow_Y     = (flow_Y     * (max_flow     - min_flow)     + min_flow)\n",
    "                demand_Y   = (demand_Y   * (max_demand   - min_demand)   + min_demand)\n",
    "                val_pressureX  = (val_pressureX * (max_pressure - min_pressure) + min_pressure)\n",
    "                val_flowX      = (val_flowX     * (max_flow     - min_flow)     + min_flow)\n",
    "                val_demandX    = (val_demandX   * (max_demand   - min_demand)   + min_demand)\n",
    "                val_pressureX_ = (val_pressureX_ * (max_pressure- min_pressure) + min_pressure)\n",
    "                val_flowX_     = (val_flowX_     * (max_flow    - min_flow)     + min_flow)\n",
    "                val_demandX_   = (val_demandX_   * (max_demand   - min_demand)  + min_demand)\n",
    "\n",
    "                # 计算损失\n",
    "                (loss1, loss2, loss3) = criterion(pressure_Y, flow_Y, demand_Y, pipe_friction, incidence_matrix, cycle_matrix)\n",
    "                \n",
    "                # 数据保存\n",
    "                pressure_True = torch.cat((pressure_True, val_pressureX), 0)\n",
    "                pressure_Est  = torch.cat((pressure_Est, pressure_Y), 0)\n",
    "                flow_True     = torch.cat((flow_True,   val_flowX), 0)\n",
    "                flow_Est      = torch.cat((flow_Est,     flow_Y), 0)\n",
    "                demand_True   = torch.cat((demand_True, val_demandX), 0)\n",
    "                demand_Est    = torch.cat((demand_Est,   demand_Y), 0)\n",
    "\n",
    "                # 误差计算\n",
    "                val_loss1 += loss1.item()\n",
    "                val_loss2 += loss2.item()\n",
    "                val_loss3 += loss3.item()\n",
    "        avg_val_loss1 = (val_loss1) / len(val_loader.dataset)\n",
    "        avg_val_loss2 = (val_loss2) / len(val_loader.dataset)\n",
    "        avg_val_loss3 = (val_loss3) / len(val_loader.dataset)\n",
    "        avg_val_loss = (avg_val_loss1 + avg_val_loss2 + avg_val_loss3)\n",
    "        # 绘图保存\n",
    "        val_loss1_list.append(avg_val_loss1)\n",
    "        val_loss2_list.append(avg_val_loss2)\n",
    "        val_loss3_list.append(avg_val_loss3)\n",
    "        \n",
    "        IO.cprint('Epoch #{:03d}, Conservation1: {:.4f}, Conservation2: {:.4f}, Conservation3: {:.4f}'.format(\n",
    "                epoch, (avg_val_loss1), (avg_val_loss2), (avg_val_loss3)\n",
    "                ))\n",
    "\n",
    "        # 选取最佳参数\n",
    "        if avg_val_loss < best_val_loss:\n",
    "            best_val_loss = avg_val_loss\n",
    "            patience_counter = 0\n",
    "            # 保存当前最佳模型\n",
    "            best_model_wts = model.state_dict()\n",
    "        else:\n",
    "            patience_counter += 1\n",
    "\n",
    "        # 检查是否达到提前停止条件\n",
    "        if patience_counter >= patience:\n",
    "            IO.cprint('Early stopping triggered. Best Val_Loss: {:.4f}'.format(best_val_loss))\n",
    "            break\n",
    "        \n",
    "    model.load_state_dict(best_model_wts)\n",
    "\n",
    "    torch.save(model, 'outputs/%s/model.pth' % args.exp_name)\n",
    "    IO.cprint('The current best model is saved in: {}'.format('******** outputs/%s/model.pth *********' % args.exp_name))\n",
    "    end_time = time.time()\n",
    "    IO.cprint('Total time: {:.4f}s'.format(end_time - start_time))\n",
    "    return (pressure_True, pressure_Est, flow_True, flow_Est, demand_True, demand_Est,\n",
    "            train_loss1_list, train_loss2_list, train_loss3_list, \n",
    "            val_loss1_list, val_loss2_list, val_loss3_list)"
   ]
  },
  {
   "cell_type": "code",
   "execution_count": 14,
   "metadata": {},
   "outputs": [],
   "source": [
    "def test(args, IO, test_loader, \n",
    "        min_pressure, max_pressure, min_flow, max_flow, min_demand, max_demand):\n",
    "    \"\"\"测试模型\"\"\"\n",
    "    device = torch.device('cuda' if torch.cuda.is_available() else 'cpu')\n",
    "\n",
    "    # 加载需求数据\n",
    "    Graph_Data, pipe_friction, incidence_matrix, cycle_matrix = load_matrix(args)\n",
    "    \n",
    "    # 输出内容保存在之前的训练日志里\n",
    "    IO.cprint('')\n",
    "    IO.cprint('********** TEST START **********')\n",
    "    IO.cprint('Reload Best Model')\n",
    "    IO.cprint('The current best model is saved in: {}'.format('******** outputs/%s/model.pth *********' % args.exp_name))\n",
    "\n",
    "    model = torch.load('outputs/%s/model.pth' % args.exp_name).to(device)\n",
    "    model = model.train()\n",
    "    \n",
    "    optimizer = optim.RMSprop(model.parameters(), lr=1e-7)\n",
    "                                        \n",
    "    ##############################\n",
    "    ### Test For Generalization ##\n",
    "    ##############################\n",
    "\n",
    "    # 损失函数\n",
    "    criterion1 = ConservationConstraints()\n",
    "    criterion2 = ConservationConstraints_generalization()\n",
    "\n",
    "    # 加载需求数据\n",
    "    offset = 0  # 初始偏移量\n",
    "    batch_size = 3 * 96\n",
    "\n",
    "    MAE_pressure = []\n",
    "    MAE_flow = []\n",
    "    MAE_demand = []\n",
    "    MAPE_pressure = []\n",
    "    MAPE_flow = []\n",
    "    MAPE_demand = []\n",
    "    R2_pressure = []\n",
    "    R2_flow = []\n",
    "    R2_demand = []\n",
    "    Loss1 = []\n",
    "    Loss2 = []\n",
    "    Loss3 = []\n",
    "\n",
    "    for loop_ in range(len(test_loader) - 3 * 96):\n",
    "\n",
    "        start_index = offset\n",
    "        end_index = min(start_index + batch_size, len(test_loader))\n",
    "        sliced_dataset = torch.utils.data.Subset(test_loader.dataset, range(start_index, end_index))\n",
    "        new_test_loader = torch.utils.data.DataLoader(sliced_dataset, batch_size=1, shuffle=False)\n",
    "\n",
    "        for i, data in tqdm(enumerate(new_test_loader), total=len(new_test_loader), desc=\"Test_Loader\"):\n",
    "            (test_pressureX, test_pressureY,\n",
    "            test_flowX, test_flowY, \n",
    "            test_demandX, test_demandY)= data\n",
    "            test_pressureX = test_pressureX.squeeze(0)\n",
    "            test_flowX     = test_flowX.squeeze(0)\n",
    "            test_demandX   = test_demandX.squeeze(0)\n",
    "\n",
    "            # 随机掩码\n",
    "            (mask1_pressure, mask1_flow, mask1_demand)=apply_mask(args, test_pressureX, test_flowX, test_demandX)\n",
    "\n",
    "            # 掩码\n",
    "            test_pressureX_ = test_pressureX * mask1_pressure\n",
    "            test_flowX_     = test_flowX * mask1_flow\n",
    "            test_demandX_   = (test_demandX[:, :-1]) * mask1_demand\n",
    "\n",
    "            pressure_Y, flow_Y, demand_Y = model(Graph_Data, mask1_pressure, mask1_flow, mask1_demand, test_pressureX_, test_flowX_ , test_demandX_)\n",
    "            # 给demand_Y添加最后一列\n",
    "            row_sums = torch.sum(demand_Y, dim=1, keepdim=True)\n",
    "            demand_Y = torch.cat((demand_Y, -row_sums), dim=1)\n",
    "        \n",
    "            # min-max归一化还原\n",
    "            pressure_Y = (pressure_Y * (max_pressure - min_pressure) + min_pressure)\n",
    "            flow_Y     = (flow_Y     * (max_flow     - min_flow)     + min_flow)\n",
    "            demand_Y   = (demand_Y   * (max_demand   - min_demand)   + min_demand)\n",
    "            test_pressureX = (test_pressureX * (max_pressure - min_pressure) + min_pressure)\n",
    "            test_flowX     = (test_flowX     * (max_flow     - min_flow)     + min_flow)\n",
    "            test_demandX   = (test_demandX   * (max_demand   - min_demand)   + min_demand)\n",
    "\n",
    "            (loss1, loss2, loss3) = criterion1(pressure_Y, flow_Y, demand_Y, pipe_friction, incidence_matrix, cycle_matrix)\n",
    "            loss_ = loss1 + loss2 + loss3\n",
    "            loss_.backward()\n",
    "            optimizer.step()\n",
    "            optimizer.zero_grad()\n",
    "\n",
    "            # 运行的最后一个批次进行保存\n",
    "            if i == len(new_test_loader) - 1:\n",
    "\n",
    "                IO.cprint('Loss1: {:.4f}, Loss2: {:.4f}, Loss3: {:.4f}'.format(loss1.item(), loss2.item(), loss3.item()))\n",
    "                (loss1, loss2, loss3) = criterion2(pressure_Y, flow_Y, demand_Y, pipe_friction, incidence_matrix, cycle_matrix)\n",
    "\n",
    "                # 数据处理\n",
    "                mae_pressure = torch.mean(torch.abs(pressure_Y - test_pressureX), dim=0)\n",
    "                mae_flow     = torch.mean(torch.abs(flow_Y - test_flowX), dim=0)\n",
    "                mae_demand   = torch.mean(torch.abs(demand_Y - test_demandX), dim=0)\n",
    "\n",
    "                mape_pressure = torch.mean(torch.abs((pressure_Y - test_pressureX) / test_pressureX), dim=0)\n",
    "                mape_flow     = torch.mean(torch.abs((flow_Y - test_flowX) / test_flowX), dim=0)\n",
    "                mape_demand   = torch.mean(torch.abs((demand_Y - test_demandX) / test_demandX), dim=0)\n",
    "\n",
    "                r2_pressure = 1 - (torch.sum(((pressure_Y - test_pressureX) ** 2), dim=0) / torch.sum((pressure_Y - torch.mean(pressure_Y)) ** 2, dim=0))\n",
    "                r2_flow     = 1 - (torch.sum(((flow_Y - test_flowX) ** 2), dim=0) / torch.sum((flow_Y - torch.mean(flow_Y)) ** 2, dim=0))\n",
    "                r2_demand   = 1 - (torch.sum(((demand_Y - test_demandX) ** 2), dim=0) / torch.sum((demand_Y - torch.mean(demand_Y)) ** 2, dim=0))\n",
    "\n",
    "                Loss1.append(loss1.detach().cpu().numpy())\n",
    "                Loss2.append(loss2.detach().cpu().numpy())\n",
    "                Loss3.append(loss3.detach().cpu().numpy())\n",
    "\n",
    "                MAE_pressure.append(mae_pressure.detach().cpu().numpy())\n",
    "                MAE_flow.append(mae_flow.detach().cpu().numpy())\n",
    "                MAE_demand.append(mae_demand.detach().cpu().numpy())\n",
    "\n",
    "                MAPE_pressure.append(mape_pressure.detach().cpu().numpy())\n",
    "                MAPE_flow.append(mape_flow.detach().cpu().numpy())\n",
    "                MAPE_demand.append(mape_demand.detach().cpu().numpy())\n",
    "\n",
    "                R2_pressure.append(r2_pressure.detach().cpu().numpy())\n",
    "                R2_flow.append(r2_flow.detach().cpu().numpy())  \n",
    "                R2_demand.append(r2_demand.detach().cpu().numpy())\n",
    "\n",
    "                offset += 1\n",
    "\n",
    "            del pressure_Y, flow_Y, demand_Y, loss1, loss2, loss3\n",
    "            del test_pressureX, test_flowX, test_demandX, test_pressureX_, test_flowX_, test_demandX_\n",
    "\n",
    "    return (Loss1, Loss2, Loss3,\n",
    "            MAE_pressure, MAE_flow, MAE_demand, \n",
    "            MAPE_pressure, MAPE_flow, MAPE_demand,\n",
    "            R2_pressure, R2_flow, R2_demand)"
   ]
  },
  {
   "cell_type": "code",
   "execution_count": 15,
   "metadata": {},
   "outputs": [],
   "source": [
    "args = parse_args()\n",
    "def exp_init():\n",
    "    \"\"\"实验初始化\"\"\"\n",
    "    if not os.path.exists('outputs'):\n",
    "        os.mkdir('outputs')\n",
    "    if not os.path.exists('outputs/' + args.exp_name):\n",
    "        os.mkdir('outputs/' + args.exp_name)"
   ]
  },
  {
   "cell_type": "code",
   "execution_count": 16,
   "metadata": {},
   "outputs": [
    {
     "name": "stdout",
     "output_type": "stream",
     "text": [
      "+----------------------+-------------------------------------------------------+\n",
      "|      Parameter       |                         Value                         |\n",
      "+======================+=======================================================+\n",
      "| Chebyshevdegree      | 8                                                     |\n",
      "+----------------------+-------------------------------------------------------+\n",
      "| Fourierdegree        | 6                                                     |\n",
      "+----------------------+-------------------------------------------------------+\n",
      "| Batch size           | 96                                                    |\n",
      "+----------------------+-------------------------------------------------------+\n",
      "| Cycle file           | D:/GraphormerForRobustness/dataset2/initial_cycle_mat |\n",
      "|                      | rix_dir.csv                                           |\n",
      "+----------------------+-------------------------------------------------------+\n",
      "| Decay epoch          | 1                                                     |\n",
      "+----------------------+-------------------------------------------------------+\n",
      "| Demand sensor name   | [\"2\", \"16\", \"19\", \"22\", \"24\"]                         |\n",
      "+----------------------+-------------------------------------------------------+\n",
      "| Device               | cuda                                                  |\n",
      "+----------------------+-------------------------------------------------------+\n",
      "| Edge adjacency file  | D:/GraphormerForRobustness/dataset/Apulia/edge_adjace |\n",
      "|                      | ncy_matrix.csv                                        |\n",
      "+----------------------+-------------------------------------------------------+\n",
      "| Edge file            | D:/GraphormerForRobustness/dataset2/edge_index_dir.cs |\n",
      "|                      | v                                                     |\n",
      "+----------------------+-------------------------------------------------------+\n",
      "| Exp name             | Exp                                                   |\n",
      "+----------------------+-------------------------------------------------------+\n",
      "| Flow sensor name     | [\"4\", \"7\", \"25\", \"28\", \"34\"]                          |\n",
      "+----------------------+-------------------------------------------------------+\n",
      "| Gamma                | 0.95                                                  |\n",
      "+----------------------+-------------------------------------------------------+\n",
      "| Hidden dim           | 12                                                    |\n",
      "+----------------------+-------------------------------------------------------+\n",
      "| Incidence file       | D:/GraphormerForRobustness/dataset2/initial_incidence |\n",
      "|                      | _matrix_dir.csv                                       |\n",
      "+----------------------+-------------------------------------------------------+\n",
      "| L1 lambda            | 0.0                                                   |\n",
      "+----------------------+-------------------------------------------------------+\n",
      "| L2 lambda            | 0.0                                                   |\n",
      "+----------------------+-------------------------------------------------------+\n",
      "| Learning rate        | 2e-05                                                 |\n",
      "+----------------------+-------------------------------------------------------+\n",
      "| Max epoch            | 50                                                    |\n",
      "+----------------------+-------------------------------------------------------+\n",
      "| Node adjacency file  | D:/GraphormerForRobustness/dataset/Apulia/node_adjace |\n",
      "|                      | ncy_matrix.csv                                        |\n",
      "+----------------------+-------------------------------------------------------+\n",
      "| Node file            | D:/GraphormerForRobustness/dataset/Apulia_2/node_feat |\n",
      "|                      | ures_Apulia2.csv                                      |\n",
      "+----------------------+-------------------------------------------------------+\n",
      "| Num edges            | 34                                                    |\n",
      "+----------------------+-------------------------------------------------------+\n",
      "| Num history          | 1                                                     |\n",
      "+----------------------+-------------------------------------------------------+\n",
      "| Num nodes            | 24                                                    |\n",
      "+----------------------+-------------------------------------------------------+\n",
      "| Num step             | 8640                                                  |\n",
      "+----------------------+-------------------------------------------------------+\n",
      "| Patience             | 10                                                    |\n",
      "+----------------------+-------------------------------------------------------+\n",
      "| Pressure sensor name | [\"4\", \"13\", \"14\", \"23\", \"24\"]                         |\n",
      "+----------------------+-------------------------------------------------------+\n",
      "| Seed                 | 10                                                    |\n",
      "+----------------------+-------------------------------------------------------+\n",
      "| Test ratio           | 0.3333333333333333                                    |\n",
      "+----------------------+-------------------------------------------------------+\n",
      "| Train ratio          | 0.5                                                   |\n",
      "+----------------------+-------------------------------------------------------+\n",
      "| Val ratio            | 0.16666666666666666                                   |\n",
      "+----------------------+-------------------------------------------------------+\n",
      "| Water demand file    | D:/GraphormerForRobustness/dataset2/demand_patten_361 |\n",
      "|                      | 2/simulate_demand3.csv                                |\n",
      "+----------------------+-------------------------------------------------------+\n",
      "| Water flow file      | D:/GraphormerForRobustness/dataset2/demand_patten_361 |\n",
      "|                      | 2/simulate_flow3.csv                                  |\n",
      "+----------------------+-------------------------------------------------------+\n",
      "| Water pressure file  | D:/GraphormerForRobustness/dataset2/demand_patten_361 |\n",
      "|                      | 2/simulate_pressure3.csv                              |\n",
      "+----------------------+-------------------------------------------------------+\n"
     ]
    },
    {
     "name": "stderr",
     "output_type": "stream",
     "text": [
      "C:\\AppData\\Local\\Temp\\ipykernel_10972\\2426456413.py:14: UserWarning: nn.init.normal is now deprecated in favor of nn.init.normal_.\n",
      "  nn.init.normal(self.fouriercoeffs, mean=0.0, std=1 / (np.sqrt(input_dim) * np.sqrt(self.gridsize)))\n",
      "C:\\AppData\\Local\\Temp\\ipykernel_10972\\1574067456.py:10: UserWarning: nn.init.normal is now deprecated in favor of nn.init.normal_.\n",
      "  nn.init.normal(self.cheby_coeffs, mean=0.0, std=1/(input_dim * (degree + 1)))\n"
     ]
    },
    {
     "name": "stdout",
     "output_type": "stream",
     "text": [
      "KANSA(\n",
      "  (flow_batch): Sequential(\n",
      "    (0): FourierKANLayer()\n",
      "    (1): FourierKANLayer()\n",
      "    (2): LayerNorm((96,), eps=1e-05, elementwise_affine=True)\n",
      "  )\n",
      "  (pressure_batch): Sequential(\n",
      "    (0): FourierKANLayer()\n",
      "    (1): FourierKANLayer()\n",
      "    (2): LayerNorm((96,), eps=1e-05, elementwise_affine=True)\n",
      "  )\n",
      "  (demand_batch): Sequential(\n",
      "    (0): FourierKANLayer()\n",
      "    (1): FourierKANLayer()\n",
      "    (2): LayerNorm((96,), eps=1e-05, elementwise_affine=True)\n",
      "  )\n",
      "  (flow_features): Sequential(\n",
      "    (0): ChebyshevKANLayer()\n",
      "    (1): ChebyshevKANLayer()\n",
      "    (2): LayerNorm((34,), eps=1e-05, elementwise_affine=True)\n",
      "  )\n",
      "  (pressure_features): Sequential(\n",
      "    (0): ChebyshevKANLayer()\n",
      "    (1): ChebyshevKANLayer()\n",
      "    (2): LayerNorm((24,), eps=1e-05, elementwise_affine=True)\n",
      "  )\n",
      "  (demand_features): Sequential(\n",
      "    (0): ChebyshevKANLayer()\n",
      "    (1): ChebyshevKANLayer()\n",
      "    (2): LayerNorm((23,), eps=1e-05, elementwise_affine=True)\n",
      "  )\n",
      "  (attention_pressure_batch): Attention(\n",
      "    (query_layer): Linear(in_features=96, out_features=96, bias=True)\n",
      "    (key_layer): Linear(in_features=96, out_features=96, bias=True)\n",
      "    (value_layer): Linear(in_features=96, out_features=96, bias=True)\n",
      "    (layer_norm): LayerNorm((96,), eps=1e-05, elementwise_affine=True)\n",
      "  )\n",
      "  (attention_flow_batch): Attention(\n",
      "    (query_layer): Linear(in_features=96, out_features=96, bias=True)\n",
      "    (key_layer): Linear(in_features=96, out_features=96, bias=True)\n",
      "    (value_layer): Linear(in_features=96, out_features=96, bias=True)\n",
      "    (layer_norm): LayerNorm((96,), eps=1e-05, elementwise_affine=True)\n",
      "  )\n",
      "  (attention_demand_batch): Attention(\n",
      "    (query_layer): Linear(in_features=96, out_features=96, bias=True)\n",
      "    (key_layer): Linear(in_features=96, out_features=96, bias=True)\n",
      "    (value_layer): Linear(in_features=96, out_features=96, bias=True)\n",
      "    (layer_norm): LayerNorm((96,), eps=1e-05, elementwise_affine=True)\n",
      "  )\n",
      "  (attention_pressure_features): Attention(\n",
      "    (query_layer): Linear(in_features=24, out_features=24, bias=True)\n",
      "    (key_layer): Linear(in_features=24, out_features=24, bias=True)\n",
      "    (value_layer): Linear(in_features=24, out_features=24, bias=True)\n",
      "    (layer_norm): LayerNorm((24,), eps=1e-05, elementwise_affine=True)\n",
      "  )\n",
      "  (attention_flow_features): Attention(\n",
      "    (query_layer): Linear(in_features=34, out_features=34, bias=True)\n",
      "    (key_layer): Linear(in_features=34, out_features=34, bias=True)\n",
      "    (value_layer): Linear(in_features=34, out_features=34, bias=True)\n",
      "    (layer_norm): LayerNorm((34,), eps=1e-05, elementwise_affine=True)\n",
      "  )\n",
      "  (attention_demand_features): Attention(\n",
      "    (query_layer): Linear(in_features=23, out_features=23, bias=True)\n",
      "    (key_layer): Linear(in_features=23, out_features=23, bias=True)\n",
      "    (value_layer): Linear(in_features=23, out_features=23, bias=True)\n",
      "    (layer_norm): LayerNorm((23,), eps=1e-05, elementwise_affine=True)\n",
      "  )\n",
      "  (pressure_1): Sequential(\n",
      "    (0): LayerNorm((24,), eps=1e-05, elementwise_affine=True)\n",
      "    (1): ChebyshevKANLayer()\n",
      "    (2): ChebyshevKANLayer()\n",
      "  )\n",
      "  (pressure_2): Sequential(\n",
      "    (0): LayerNorm((24,), eps=1e-05, elementwise_affine=True)\n",
      "    (1): ChebyshevKANLayer()\n",
      "    (2): ChebyshevKANLayer()\n",
      "  )\n",
      "  (flow_1): Sequential(\n",
      "    (0): LayerNorm((34,), eps=1e-05, elementwise_affine=True)\n",
      "    (1): ChebyshevKANLayer()\n",
      "    (2): ChebyshevKANLayer()\n",
      "  )\n",
      "  (flow_2): Sequential(\n",
      "    (0): LayerNorm((34,), eps=1e-05, elementwise_affine=True)\n",
      "    (1): ChebyshevKANLayer()\n",
      "    (2): ChebyshevKANLayer()\n",
      "  )\n",
      "  (demand_1): Sequential(\n",
      "    (0): LayerNorm((23,), eps=1e-05, elementwise_affine=True)\n",
      "    (1): ChebyshevKANLayer()\n",
      "    (2): ChebyshevKANLayer()\n",
      "  )\n",
      "  (demand_2): Sequential(\n",
      "    (0): LayerNorm((23,), eps=1e-05, elementwise_affine=True)\n",
      "    (1): ChebyshevKANLayer()\n",
      "    (2): ChebyshevKANLayer()\n",
      "  )\n",
      "  (pressure_sum): Sequential(\n",
      "    (0): LayerNorm((12,), eps=1e-05, elementwise_affine=True)\n",
      "    (1): ChebyshevKANLayer()\n",
      "    (2): ChebyshevKANLayer()\n",
      "  )\n",
      "  (flow_sum): Sequential(\n",
      "    (0): LayerNorm((12,), eps=1e-05, elementwise_affine=True)\n",
      "    (1): ChebyshevKANLayer()\n",
      "    (2): ChebyshevKANLayer()\n",
      "  )\n",
      "  (demand_sum): Sequential(\n",
      "    (0): LayerNorm((12,), eps=1e-05, elementwise_affine=True)\n",
      "    (1): ChebyshevKANLayer()\n",
      "    (2): ChebyshevKANLayer()\n",
      "  )\n",
      "  (graph): Sequential(\n",
      "    (0): LayerNorm((3,), eps=1e-05, elementwise_affine=True)\n",
      "    (1): ChebyshevKANLayer()\n",
      "    (2): ChebyshevKANLayer()\n",
      "  )\n",
      "  (flow_out): Sequential(\n",
      "    (0): ChebyshevKANLayer()\n",
      "    (1): ChebyshevKANLayer()\n",
      "    (2): Sigmoid()\n",
      "  )\n",
      "  (pressure_out): Sequential(\n",
      "    (0): ChebyshevKANLayer()\n",
      "    (1): ChebyshevKANLayer()\n",
      "    (2): Sigmoid()\n",
      "  )\n",
      "  (demand_out): Sequential(\n",
      "    (0): ChebyshevKANLayer()\n",
      "    (1): ChebyshevKANLayer()\n",
      "    (2): Sigmoid()\n",
      "  )\n",
      ")\n",
      "Model Parameter: 319707\n",
      "Using RMSprop\n"
     ]
    },
    {
     "name": "stderr",
     "output_type": "stream",
     "text": [
      "Train_Loader: 100%|██████████| 4129/4129 [08:16<00:00,  8.31it/s]\n"
     ]
    },
    {
     "name": "stdout",
     "output_type": "stream",
     "text": [
      "Epoch #000, Conservation1: 219321.8637, Conservation2: 37884443.3502, Conservation3: 50439025.6250\n"
     ]
    },
    {
     "name": "stderr",
     "output_type": "stream",
     "text": [
      "Val_Loader: 100%|██████████| 1249/1249 [00:45<00:00, 27.53it/s]\n"
     ]
    },
    {
     "name": "stdout",
     "output_type": "stream",
     "text": [
      "Epoch #000, Conservation1: 285.7248, Conservation2: 66.1339, Conservation3: 1069.8307\n"
     ]
    },
    {
     "name": "stderr",
     "output_type": "stream",
     "text": [
      "Train_Loader: 100%|██████████| 4129/4129 [08:30<00:00,  8.09it/s]\n"
     ]
    },
    {
     "name": "stdout",
     "output_type": "stream",
     "text": [
      "Epoch #001, Conservation1: 240.6979, Conservation2: 39.0066, Conservation3: 536.3954\n"
     ]
    },
    {
     "name": "stderr",
     "output_type": "stream",
     "text": [
      "Val_Loader: 100%|██████████| 1249/1249 [00:51<00:00, 24.42it/s]\n"
     ]
    },
    {
     "name": "stdout",
     "output_type": "stream",
     "text": [
      "Epoch #001, Conservation1: 129.4801, Conservation2: 29.1325, Conservation3: 311.8669\n"
     ]
    },
    {
     "name": "stderr",
     "output_type": "stream",
     "text": [
      "Train_Loader: 100%|██████████| 4129/4129 [08:38<00:00,  7.97it/s]\n"
     ]
    },
    {
     "name": "stdout",
     "output_type": "stream",
     "text": [
      "Epoch #002, Conservation1: 115.4935, Conservation2: 25.8683, Conservation3: 176.8426\n"
     ]
    },
    {
     "name": "stderr",
     "output_type": "stream",
     "text": [
      "Val_Loader: 100%|██████████| 1249/1249 [00:50<00:00, 24.59it/s]\n"
     ]
    },
    {
     "name": "stdout",
     "output_type": "stream",
     "text": [
      "Epoch #002, Conservation1: 100.1584, Conservation2: 19.2563, Conservation3: 173.8181\n"
     ]
    },
    {
     "name": "stderr",
     "output_type": "stream",
     "text": [
      "Train_Loader: 100%|██████████| 4129/4129 [08:45<00:00,  7.85it/s]\n"
     ]
    },
    {
     "name": "stdout",
     "output_type": "stream",
     "text": [
      "Epoch #003, Conservation1: 77.8373, Conservation2: 20.7398, Conservation3: 108.8619\n"
     ]
    },
    {
     "name": "stderr",
     "output_type": "stream",
     "text": [
      "Val_Loader: 100%|██████████| 1249/1249 [00:55<00:00, 22.55it/s]\n"
     ]
    },
    {
     "name": "stdout",
     "output_type": "stream",
     "text": [
      "Epoch #003, Conservation1: 68.9062, Conservation2: 12.6276, Conservation3: 88.2380\n"
     ]
    },
    {
     "name": "stderr",
     "output_type": "stream",
     "text": [
      "Train_Loader: 100%|██████████| 4129/4129 [08:57<00:00,  7.68it/s]\n"
     ]
    },
    {
     "name": "stdout",
     "output_type": "stream",
     "text": [
      "Epoch #004, Conservation1: 60.6928, Conservation2: 17.2203, Conservation3: 78.1351\n"
     ]
    },
    {
     "name": "stderr",
     "output_type": "stream",
     "text": [
      "Val_Loader: 100%|██████████| 1249/1249 [00:54<00:00, 22.96it/s]\n"
     ]
    },
    {
     "name": "stdout",
     "output_type": "stream",
     "text": [
      "Epoch #004, Conservation1: 55.4098, Conservation2: 11.9654, Conservation3: 73.5619\n"
     ]
    },
    {
     "name": "stderr",
     "output_type": "stream",
     "text": [
      "Train_Loader: 100%|██████████| 4129/4129 [09:00<00:00,  7.64it/s]\n"
     ]
    },
    {
     "name": "stdout",
     "output_type": "stream",
     "text": [
      "Epoch #005, Conservation1: 52.0586, Conservation2: 14.7875, Conservation3: 60.9704\n"
     ]
    },
    {
     "name": "stderr",
     "output_type": "stream",
     "text": [
      "Val_Loader: 100%|██████████| 1249/1249 [00:58<00:00, 21.29it/s]\n"
     ]
    },
    {
     "name": "stdout",
     "output_type": "stream",
     "text": [
      "Epoch #005, Conservation1: 53.3053, Conservation2: 9.7427, Conservation3: 50.2655\n"
     ]
    },
    {
     "name": "stderr",
     "output_type": "stream",
     "text": [
      "Train_Loader: 100%|██████████| 4129/4129 [09:03<00:00,  7.60it/s]\n"
     ]
    },
    {
     "name": "stdout",
     "output_type": "stream",
     "text": [
      "Epoch #006, Conservation1: 40.7173, Conservation2: 12.7468, Conservation3: 50.0337\n"
     ]
    },
    {
     "name": "stderr",
     "output_type": "stream",
     "text": [
      "Val_Loader: 100%|██████████| 1249/1249 [00:58<00:00, 21.42it/s]\n"
     ]
    },
    {
     "name": "stdout",
     "output_type": "stream",
     "text": [
      "Epoch #006, Conservation1: 36.8483, Conservation2: 10.3412, Conservation3: 54.8716\n"
     ]
    },
    {
     "name": "stderr",
     "output_type": "stream",
     "text": [
      "Train_Loader: 100%|██████████| 4129/4129 [09:09<00:00,  7.52it/s]\n"
     ]
    },
    {
     "name": "stdout",
     "output_type": "stream",
     "text": [
      "Epoch #007, Conservation1: 26.6097, Conservation2: 10.9191, Conservation3: 41.0924\n"
     ]
    },
    {
     "name": "stderr",
     "output_type": "stream",
     "text": [
      "Val_Loader: 100%|██████████| 1249/1249 [00:59<00:00, 20.98it/s]\n"
     ]
    },
    {
     "name": "stdout",
     "output_type": "stream",
     "text": [
      "Epoch #007, Conservation1: 30.1227, Conservation2: 21.1959, Conservation3: 50.9126\n"
     ]
    },
    {
     "name": "stderr",
     "output_type": "stream",
     "text": [
      "Train_Loader: 100%|██████████| 4129/4129 [08:57<00:00,  7.69it/s]\n"
     ]
    },
    {
     "name": "stdout",
     "output_type": "stream",
     "text": [
      "Epoch #008, Conservation1: 19.4780, Conservation2: 9.6149, Conservation3: 33.6794\n"
     ]
    },
    {
     "name": "stderr",
     "output_type": "stream",
     "text": [
      "Val_Loader: 100%|██████████| 1249/1249 [01:00<00:00, 20.71it/s]\n"
     ]
    },
    {
     "name": "stdout",
     "output_type": "stream",
     "text": [
      "Epoch #008, Conservation1: 12.6772, Conservation2: 17.6448, Conservation3: 40.9575\n"
     ]
    },
    {
     "name": "stderr",
     "output_type": "stream",
     "text": [
      "Train_Loader: 100%|██████████| 4129/4129 [09:10<00:00,  7.50it/s]\n"
     ]
    },
    {
     "name": "stdout",
     "output_type": "stream",
     "text": [
      "Epoch #009, Conservation1: 15.4713, Conservation2: 8.4619, Conservation3: 28.3993\n"
     ]
    },
    {
     "name": "stderr",
     "output_type": "stream",
     "text": [
      "Val_Loader: 100%|██████████| 1249/1249 [01:00<00:00, 20.67it/s]\n"
     ]
    },
    {
     "name": "stdout",
     "output_type": "stream",
     "text": [
      "Epoch #009, Conservation1: 15.2197, Conservation2: 6.7336, Conservation3: 18.9226\n"
     ]
    },
    {
     "name": "stderr",
     "output_type": "stream",
     "text": [
      "Train_Loader: 100%|██████████| 4129/4129 [09:25<00:00,  7.30it/s]\n"
     ]
    },
    {
     "name": "stdout",
     "output_type": "stream",
     "text": [
      "Epoch #010, Conservation1: 12.8898, Conservation2: 7.5090, Conservation3: 24.3634\n"
     ]
    },
    {
     "name": "stderr",
     "output_type": "stream",
     "text": [
      "Val_Loader: 100%|██████████| 1249/1249 [01:07<00:00, 18.40it/s]\n"
     ]
    },
    {
     "name": "stdout",
     "output_type": "stream",
     "text": [
      "Epoch #010, Conservation1: 11.9585, Conservation2: 11.9159, Conservation3: 38.4947\n"
     ]
    },
    {
     "name": "stderr",
     "output_type": "stream",
     "text": [
      "Train_Loader: 100%|██████████| 4129/4129 [09:30<00:00,  7.24it/s]\n"
     ]
    },
    {
     "name": "stdout",
     "output_type": "stream",
     "text": [
      "Epoch #011, Conservation1: 10.9099, Conservation2: 6.7732, Conservation3: 21.1151\n"
     ]
    },
    {
     "name": "stderr",
     "output_type": "stream",
     "text": [
      "Val_Loader: 100%|██████████| 1249/1249 [01:05<00:00, 18.97it/s]\n"
     ]
    },
    {
     "name": "stdout",
     "output_type": "stream",
     "text": [
      "Epoch #011, Conservation1: 7.6645, Conservation2: 6.6985, Conservation3: 29.7450\n"
     ]
    },
    {
     "name": "stderr",
     "output_type": "stream",
     "text": [
      "Train_Loader: 100%|██████████| 4129/4129 [09:19<00:00,  7.38it/s]\n"
     ]
    },
    {
     "name": "stdout",
     "output_type": "stream",
     "text": [
      "Epoch #012, Conservation1: 9.4253, Conservation2: 6.0841, Conservation3: 18.5633\n"
     ]
    },
    {
     "name": "stderr",
     "output_type": "stream",
     "text": [
      "Val_Loader: 100%|██████████| 1249/1249 [01:06<00:00, 18.88it/s]\n"
     ]
    },
    {
     "name": "stdout",
     "output_type": "stream",
     "text": [
      "Epoch #012, Conservation1: 11.5826, Conservation2: 12.1686, Conservation3: 33.4364\n"
     ]
    },
    {
     "name": "stderr",
     "output_type": "stream",
     "text": [
      "Train_Loader: 100%|██████████| 4129/4129 [09:23<00:00,  7.32it/s]\n"
     ]
    },
    {
     "name": "stdout",
     "output_type": "stream",
     "text": [
      "Epoch #013, Conservation1: 8.2042, Conservation2: 5.4813, Conservation3: 16.5164\n"
     ]
    },
    {
     "name": "stderr",
     "output_type": "stream",
     "text": [
      "Val_Loader: 100%|██████████| 1249/1249 [01:05<00:00, 18.94it/s]\n"
     ]
    },
    {
     "name": "stdout",
     "output_type": "stream",
     "text": [
      "Epoch #013, Conservation1: 8.8915, Conservation2: 10.2695, Conservation3: 16.4417\n"
     ]
    },
    {
     "name": "stderr",
     "output_type": "stream",
     "text": [
      "Train_Loader: 100%|██████████| 4129/4129 [09:18<00:00,  7.39it/s]\n"
     ]
    },
    {
     "name": "stdout",
     "output_type": "stream",
     "text": [
      "Epoch #014, Conservation1: 7.2233, Conservation2: 4.9862, Conservation3: 14.6812\n"
     ]
    },
    {
     "name": "stderr",
     "output_type": "stream",
     "text": [
      "Val_Loader: 100%|██████████| 1249/1249 [01:14<00:00, 16.73it/s]\n"
     ]
    },
    {
     "name": "stdout",
     "output_type": "stream",
     "text": [
      "Epoch #014, Conservation1: 6.6413, Conservation2: 4.8085, Conservation3: 11.8698\n"
     ]
    },
    {
     "name": "stderr",
     "output_type": "stream",
     "text": [
      "Train_Loader: 100%|██████████| 4129/4129 [09:32<00:00,  7.21it/s]\n"
     ]
    },
    {
     "name": "stdout",
     "output_type": "stream",
     "text": [
      "Epoch #015, Conservation1: 6.4235, Conservation2: 4.5030, Conservation3: 13.1752\n"
     ]
    },
    {
     "name": "stderr",
     "output_type": "stream",
     "text": [
      "Val_Loader: 100%|██████████| 1249/1249 [01:16<00:00, 16.30it/s]\n"
     ]
    },
    {
     "name": "stdout",
     "output_type": "stream",
     "text": [
      "Epoch #015, Conservation1: 7.8720, Conservation2: 3.9063, Conservation3: 15.6499\n"
     ]
    },
    {
     "name": "stderr",
     "output_type": "stream",
     "text": [
      "Train_Loader: 100%|██████████| 4129/4129 [09:32<00:00,  7.21it/s]\n"
     ]
    },
    {
     "name": "stdout",
     "output_type": "stream",
     "text": [
      "Epoch #016, Conservation1: 5.7464, Conservation2: 4.0957, Conservation3: 11.8768\n"
     ]
    },
    {
     "name": "stderr",
     "output_type": "stream",
     "text": [
      "Val_Loader: 100%|██████████| 1249/1249 [01:16<00:00, 16.35it/s]\n"
     ]
    },
    {
     "name": "stdout",
     "output_type": "stream",
     "text": [
      "Epoch #016, Conservation1: 7.7080, Conservation2: 11.2972, Conservation3: 19.7492\n"
     ]
    },
    {
     "name": "stderr",
     "output_type": "stream",
     "text": [
      "Train_Loader: 100%|██████████| 4129/4129 [09:40<00:00,  7.11it/s]\n"
     ]
    },
    {
     "name": "stdout",
     "output_type": "stream",
     "text": [
      "Epoch #017, Conservation1: 5.1704, Conservation2: 3.7052, Conservation3: 10.7577\n"
     ]
    },
    {
     "name": "stderr",
     "output_type": "stream",
     "text": [
      "Val_Loader: 100%|██████████| 1249/1249 [01:20<00:00, 15.53it/s]\n"
     ]
    },
    {
     "name": "stdout",
     "output_type": "stream",
     "text": [
      "Epoch #017, Conservation1: 5.3874, Conservation2: 9.8804, Conservation3: 11.9116\n"
     ]
    },
    {
     "name": "stderr",
     "output_type": "stream",
     "text": [
      "Train_Loader: 100%|██████████| 4129/4129 [09:48<00:00,  7.01it/s]\n"
     ]
    },
    {
     "name": "stdout",
     "output_type": "stream",
     "text": [
      "Epoch #018, Conservation1: 4.6631, Conservation2: 3.3635, Conservation3: 9.8067\n"
     ]
    },
    {
     "name": "stderr",
     "output_type": "stream",
     "text": [
      "Val_Loader: 100%|██████████| 1249/1249 [01:23<00:00, 14.94it/s]\n"
     ]
    },
    {
     "name": "stdout",
     "output_type": "stream",
     "text": [
      "Epoch #018, Conservation1: 3.5857, Conservation2: 4.4056, Conservation3: 14.4595\n"
     ]
    },
    {
     "name": "stderr",
     "output_type": "stream",
     "text": [
      "Train_Loader: 100%|██████████| 4129/4129 [09:56<00:00,  6.92it/s]\n"
     ]
    },
    {
     "name": "stdout",
     "output_type": "stream",
     "text": [
      "Epoch #019, Conservation1: 4.2286, Conservation2: 3.0569, Conservation3: 8.9125\n"
     ]
    },
    {
     "name": "stderr",
     "output_type": "stream",
     "text": [
      "Val_Loader: 100%|██████████| 1249/1249 [01:23<00:00, 14.99it/s]\n"
     ]
    },
    {
     "name": "stdout",
     "output_type": "stream",
     "text": [
      "Epoch #019, Conservation1: 4.6699, Conservation2: 2.1476, Conservation3: 12.5162\n"
     ]
    },
    {
     "name": "stderr",
     "output_type": "stream",
     "text": [
      "Train_Loader: 100%|██████████| 4129/4129 [10:04<00:00,  6.83it/s]\n"
     ]
    },
    {
     "name": "stdout",
     "output_type": "stream",
     "text": [
      "Epoch #020, Conservation1: 3.8580, Conservation2: 2.8031, Conservation3: 8.1737\n"
     ]
    },
    {
     "name": "stderr",
     "output_type": "stream",
     "text": [
      "Val_Loader: 100%|██████████| 1249/1249 [01:26<00:00, 14.44it/s]\n"
     ]
    },
    {
     "name": "stdout",
     "output_type": "stream",
     "text": [
      "Epoch #020, Conservation1: 4.2634, Conservation2: 7.5026, Conservation3: 10.2057\n"
     ]
    },
    {
     "name": "stderr",
     "output_type": "stream",
     "text": [
      "Train_Loader: 100%|██████████| 4129/4129 [10:09<00:00,  6.78it/s]\n"
     ]
    },
    {
     "name": "stdout",
     "output_type": "stream",
     "text": [
      "Epoch #021, Conservation1: 3.5280, Conservation2: 2.5574, Conservation3: 7.4859\n"
     ]
    },
    {
     "name": "stderr",
     "output_type": "stream",
     "text": [
      "Val_Loader: 100%|██████████| 1249/1249 [01:31<00:00, 13.58it/s]\n"
     ]
    },
    {
     "name": "stdout",
     "output_type": "stream",
     "text": [
      "Epoch #021, Conservation1: 3.4257, Conservation2: 1.7935, Conservation3: 8.1987\n"
     ]
    },
    {
     "name": "stderr",
     "output_type": "stream",
     "text": [
      "Train_Loader: 100%|██████████| 4129/4129 [10:21<00:00,  6.65it/s]\n"
     ]
    },
    {
     "name": "stdout",
     "output_type": "stream",
     "text": [
      "Epoch #022, Conservation1: 3.2391, Conservation2: 2.3167, Conservation3: 6.8647\n"
     ]
    },
    {
     "name": "stderr",
     "output_type": "stream",
     "text": [
      "Val_Loader: 100%|██████████| 1249/1249 [01:35<00:00, 13.13it/s]\n"
     ]
    },
    {
     "name": "stdout",
     "output_type": "stream",
     "text": [
      "Epoch #022, Conservation1: 3.6552, Conservation2: 3.2160, Conservation3: 9.6053\n"
     ]
    },
    {
     "name": "stderr",
     "output_type": "stream",
     "text": [
      "Train_Loader: 100%|██████████| 4129/4129 [10:20<00:00,  6.66it/s]\n"
     ]
    },
    {
     "name": "stdout",
     "output_type": "stream",
     "text": [
      "Epoch #023, Conservation1: 2.9722, Conservation2: 2.1203, Conservation3: 6.3467\n"
     ]
    },
    {
     "name": "stderr",
     "output_type": "stream",
     "text": [
      "Val_Loader: 100%|██████████| 1249/1249 [01:35<00:00, 13.09it/s]\n"
     ]
    },
    {
     "name": "stdout",
     "output_type": "stream",
     "text": [
      "Epoch #023, Conservation1: 2.7453, Conservation2: 1.8798, Conservation3: 7.2774\n"
     ]
    },
    {
     "name": "stderr",
     "output_type": "stream",
     "text": [
      "Train_Loader: 100%|██████████| 4129/4129 [10:34<00:00,  6.51it/s]\n"
     ]
    },
    {
     "name": "stdout",
     "output_type": "stream",
     "text": [
      "Epoch #024, Conservation1: 2.7384, Conservation2: 1.9449, Conservation3: 5.8560\n"
     ]
    },
    {
     "name": "stderr",
     "output_type": "stream",
     "text": [
      "Val_Loader: 100%|██████████| 1249/1249 [01:36<00:00, 12.96it/s]\n"
     ]
    },
    {
     "name": "stdout",
     "output_type": "stream",
     "text": [
      "Epoch #024, Conservation1: 2.8673, Conservation2: 3.1431, Conservation3: 7.7511\n"
     ]
    },
    {
     "name": "stderr",
     "output_type": "stream",
     "text": [
      "Train_Loader: 100%|██████████| 4129/4129 [10:35<00:00,  6.49it/s]\n"
     ]
    },
    {
     "name": "stdout",
     "output_type": "stream",
     "text": [
      "Epoch #025, Conservation1: 2.5410, Conservation2: 1.7777, Conservation3: 5.4187\n"
     ]
    },
    {
     "name": "stderr",
     "output_type": "stream",
     "text": [
      "Val_Loader: 100%|██████████| 1249/1249 [01:36<00:00, 12.91it/s]\n"
     ]
    },
    {
     "name": "stdout",
     "output_type": "stream",
     "text": [
      "Epoch #025, Conservation1: 3.7893, Conservation2: 0.9560, Conservation3: 8.8556\n"
     ]
    },
    {
     "name": "stderr",
     "output_type": "stream",
     "text": [
      "Train_Loader: 100%|██████████| 4129/4129 [10:40<00:00,  6.45it/s]\n"
     ]
    },
    {
     "name": "stdout",
     "output_type": "stream",
     "text": [
      "Epoch #026, Conservation1: 2.3497, Conservation2: 1.6236, Conservation3: 5.0301\n"
     ]
    },
    {
     "name": "stderr",
     "output_type": "stream",
     "text": [
      "Val_Loader: 100%|██████████| 1249/1249 [01:39<00:00, 12.50it/s]\n"
     ]
    },
    {
     "name": "stdout",
     "output_type": "stream",
     "text": [
      "Epoch #026, Conservation1: 2.0203, Conservation2: 2.6167, Conservation3: 5.9775\n"
     ]
    },
    {
     "name": "stderr",
     "output_type": "stream",
     "text": [
      "Train_Loader: 100%|██████████| 4129/4129 [10:42<00:00,  6.42it/s]\n"
     ]
    },
    {
     "name": "stdout",
     "output_type": "stream",
     "text": [
      "Epoch #027, Conservation1: 2.1840, Conservation2: 1.4852, Conservation3: 4.6736\n"
     ]
    },
    {
     "name": "stderr",
     "output_type": "stream",
     "text": [
      "Val_Loader: 100%|██████████| 1249/1249 [01:39<00:00, 12.61it/s]\n"
     ]
    },
    {
     "name": "stdout",
     "output_type": "stream",
     "text": [
      "Epoch #027, Conservation1: 2.2452, Conservation2: 1.2868, Conservation3: 6.1065\n"
     ]
    },
    {
     "name": "stderr",
     "output_type": "stream",
     "text": [
      "Train_Loader: 100%|██████████| 4129/4129 [10:56<00:00,  6.29it/s]\n"
     ]
    },
    {
     "name": "stdout",
     "output_type": "stream",
     "text": [
      "Epoch #028, Conservation1: 2.0363, Conservation2: 1.3747, Conservation3: 4.3468\n"
     ]
    },
    {
     "name": "stderr",
     "output_type": "stream",
     "text": [
      "Val_Loader: 100%|██████████| 1249/1249 [01:40<00:00, 12.46it/s]\n"
     ]
    },
    {
     "name": "stdout",
     "output_type": "stream",
     "text": [
      "Epoch #028, Conservation1: 2.1113, Conservation2: 1.1682, Conservation3: 4.1710\n"
     ]
    },
    {
     "name": "stderr",
     "output_type": "stream",
     "text": [
      "Train_Loader: 100%|██████████| 4129/4129 [10:43<00:00,  6.41it/s]\n"
     ]
    },
    {
     "name": "stdout",
     "output_type": "stream",
     "text": [
      "Epoch #029, Conservation1: 1.8956, Conservation2: 1.2694, Conservation3: 4.0573\n"
     ]
    },
    {
     "name": "stderr",
     "output_type": "stream",
     "text": [
      "Val_Loader: 100%|██████████| 1249/1249 [01:36<00:00, 13.00it/s]\n"
     ]
    },
    {
     "name": "stdout",
     "output_type": "stream",
     "text": [
      "Epoch #029, Conservation1: 1.9562, Conservation2: 2.0198, Conservation3: 6.2303\n"
     ]
    },
    {
     "name": "stderr",
     "output_type": "stream",
     "text": [
      "Train_Loader: 100%|██████████| 4129/4129 [10:45<00:00,  6.40it/s]\n"
     ]
    },
    {
     "name": "stdout",
     "output_type": "stream",
     "text": [
      "Epoch #030, Conservation1: 1.7776, Conservation2: 1.1674, Conservation3: 3.8086\n"
     ]
    },
    {
     "name": "stderr",
     "output_type": "stream",
     "text": [
      "Val_Loader: 100%|██████████| 1249/1249 [01:39<00:00, 12.52it/s]\n"
     ]
    },
    {
     "name": "stdout",
     "output_type": "stream",
     "text": [
      "Epoch #030, Conservation1: 1.7015, Conservation2: 1.9585, Conservation3: 5.6570\n"
     ]
    },
    {
     "name": "stderr",
     "output_type": "stream",
     "text": [
      "Train_Loader: 100%|██████████| 4129/4129 [11:01<00:00,  6.24it/s]\n"
     ]
    },
    {
     "name": "stdout",
     "output_type": "stream",
     "text": [
      "Epoch #031, Conservation1: 1.6655, Conservation2: 1.0715, Conservation3: 3.5569\n"
     ]
    },
    {
     "name": "stderr",
     "output_type": "stream",
     "text": [
      "Val_Loader: 100%|██████████| 1249/1249 [01:42<00:00, 12.24it/s]\n"
     ]
    },
    {
     "name": "stdout",
     "output_type": "stream",
     "text": [
      "Epoch #031, Conservation1: 2.0142, Conservation2: 1.0366, Conservation3: 5.1410\n"
     ]
    },
    {
     "name": "stderr",
     "output_type": "stream",
     "text": [
      "Train_Loader: 100%|██████████| 4129/4129 [11:30<00:00,  5.98it/s]\n"
     ]
    },
    {
     "name": "stdout",
     "output_type": "stream",
     "text": [
      "Epoch #032, Conservation1: 1.5701, Conservation2: 0.9882, Conservation3: 3.3506\n"
     ]
    },
    {
     "name": "stderr",
     "output_type": "stream",
     "text": [
      "Val_Loader: 100%|██████████| 1249/1249 [01:45<00:00, 11.86it/s]\n"
     ]
    },
    {
     "name": "stdout",
     "output_type": "stream",
     "text": [
      "Epoch #032, Conservation1: 1.7190, Conservation2: 1.2007, Conservation3: 5.0097\n"
     ]
    },
    {
     "name": "stderr",
     "output_type": "stream",
     "text": [
      "Train_Loader: 100%|██████████| 4129/4129 [11:34<00:00,  5.95it/s]\n"
     ]
    },
    {
     "name": "stdout",
     "output_type": "stream",
     "text": [
      "Epoch #033, Conservation1: 1.4776, Conservation2: 0.9168, Conservation3: 3.1413\n"
     ]
    },
    {
     "name": "stderr",
     "output_type": "stream",
     "text": [
      "Val_Loader: 100%|██████████| 1249/1249 [01:50<00:00, 11.34it/s]\n"
     ]
    },
    {
     "name": "stdout",
     "output_type": "stream",
     "text": [
      "Epoch #033, Conservation1: 2.0193, Conservation2: 1.4827, Conservation3: 5.0345\n"
     ]
    },
    {
     "name": "stderr",
     "output_type": "stream",
     "text": [
      "Train_Loader: 100%|██████████| 4129/4129 [11:37<00:00,  5.92it/s]\n"
     ]
    },
    {
     "name": "stdout",
     "output_type": "stream",
     "text": [
      "Epoch #034, Conservation1: 1.3940, Conservation2: 0.8519, Conservation3: 2.9637\n"
     ]
    },
    {
     "name": "stderr",
     "output_type": "stream",
     "text": [
      "Val_Loader: 100%|██████████| 1249/1249 [01:48<00:00, 11.46it/s]\n"
     ]
    },
    {
     "name": "stdout",
     "output_type": "stream",
     "text": [
      "Epoch #034, Conservation1: 1.7139, Conservation2: 1.4100, Conservation3: 5.4056\n"
     ]
    },
    {
     "name": "stderr",
     "output_type": "stream",
     "text": [
      "Train_Loader: 100%|██████████| 4129/4129 [11:31<00:00,  5.97it/s]\n"
     ]
    },
    {
     "name": "stdout",
     "output_type": "stream",
     "text": [
      "Epoch #035, Conservation1: 1.3211, Conservation2: 0.7899, Conservation3: 2.8043\n"
     ]
    },
    {
     "name": "stderr",
     "output_type": "stream",
     "text": [
      "Val_Loader: 100%|██████████| 1249/1249 [01:53<00:00, 11.04it/s]\n"
     ]
    },
    {
     "name": "stdout",
     "output_type": "stream",
     "text": [
      "Epoch #035, Conservation1: 1.3606, Conservation2: 0.8219, Conservation3: 3.8561\n"
     ]
    },
    {
     "name": "stderr",
     "output_type": "stream",
     "text": [
      "Train_Loader: 100%|██████████| 4129/4129 [11:41<00:00,  5.89it/s]\n"
     ]
    },
    {
     "name": "stdout",
     "output_type": "stream",
     "text": [
      "Epoch #036, Conservation1: 1.2487, Conservation2: 0.7317, Conservation3: 2.6531\n"
     ]
    },
    {
     "name": "stderr",
     "output_type": "stream",
     "text": [
      "Val_Loader: 100%|██████████| 1249/1249 [01:50<00:00, 11.35it/s]\n"
     ]
    },
    {
     "name": "stdout",
     "output_type": "stream",
     "text": [
      "Epoch #036, Conservation1: 1.9284, Conservation2: 0.4606, Conservation3: 4.1508\n"
     ]
    },
    {
     "name": "stderr",
     "output_type": "stream",
     "text": [
      "Train_Loader: 100%|██████████| 4129/4129 [11:52<00:00,  5.79it/s]\n"
     ]
    },
    {
     "name": "stdout",
     "output_type": "stream",
     "text": [
      "Epoch #037, Conservation1: 1.1880, Conservation2: 0.6833, Conservation3: 2.5143\n"
     ]
    },
    {
     "name": "stderr",
     "output_type": "stream",
     "text": [
      "Val_Loader: 100%|██████████| 1249/1249 [01:54<00:00, 10.94it/s]\n"
     ]
    },
    {
     "name": "stdout",
     "output_type": "stream",
     "text": [
      "Epoch #037, Conservation1: 1.5692, Conservation2: 0.9278, Conservation3: 3.5239\n"
     ]
    },
    {
     "name": "stderr",
     "output_type": "stream",
     "text": [
      "Train_Loader: 100%|██████████| 4129/4129 [11:49<00:00,  5.82it/s]\n"
     ]
    },
    {
     "name": "stdout",
     "output_type": "stream",
     "text": [
      "Epoch #038, Conservation1: 1.1287, Conservation2: 0.6375, Conservation3: 2.3913\n"
     ]
    },
    {
     "name": "stderr",
     "output_type": "stream",
     "text": [
      "Val_Loader: 100%|██████████| 1249/1249 [01:56<00:00, 10.75it/s]\n"
     ]
    },
    {
     "name": "stdout",
     "output_type": "stream",
     "text": [
      "Epoch #038, Conservation1: 1.1777, Conservation2: 0.5669, Conservation3: 3.5259\n"
     ]
    },
    {
     "name": "stderr",
     "output_type": "stream",
     "text": [
      "Train_Loader: 100%|██████████| 4129/4129 [11:57<00:00,  5.75it/s]\n"
     ]
    },
    {
     "name": "stdout",
     "output_type": "stream",
     "text": [
      "Epoch #039, Conservation1: 1.0758, Conservation2: 0.5979, Conservation3: 2.2779\n"
     ]
    },
    {
     "name": "stderr",
     "output_type": "stream",
     "text": [
      "Val_Loader: 100%|██████████| 1249/1249 [01:58<00:00, 10.57it/s]\n"
     ]
    },
    {
     "name": "stdout",
     "output_type": "stream",
     "text": [
      "Epoch #039, Conservation1: 1.7878, Conservation2: 0.8339, Conservation3: 3.9742\n"
     ]
    },
    {
     "name": "stderr",
     "output_type": "stream",
     "text": [
      "Train_Loader: 100%|██████████| 4129/4129 [12:12<00:00,  5.63it/s]\n"
     ]
    },
    {
     "name": "stdout",
     "output_type": "stream",
     "text": [
      "Epoch #040, Conservation1: 1.0263, Conservation2: 0.5591, Conservation3: 2.1748\n"
     ]
    },
    {
     "name": "stderr",
     "output_type": "stream",
     "text": [
      "Val_Loader: 100%|██████████| 1249/1249 [02:00<00:00, 10.36it/s]\n"
     ]
    },
    {
     "name": "stdout",
     "output_type": "stream",
     "text": [
      "Epoch #040, Conservation1: 1.4746, Conservation2: 0.6230, Conservation3: 3.7236\n"
     ]
    },
    {
     "name": "stderr",
     "output_type": "stream",
     "text": [
      "Train_Loader: 100%|██████████| 4129/4129 [12:34<00:00,  5.48it/s]\n"
     ]
    },
    {
     "name": "stdout",
     "output_type": "stream",
     "text": [
      "Epoch #041, Conservation1: 0.9817, Conservation2: 0.5252, Conservation3: 2.0793\n"
     ]
    },
    {
     "name": "stderr",
     "output_type": "stream",
     "text": [
      "Val_Loader: 100%|██████████| 1249/1249 [02:10<00:00,  9.60it/s]\n"
     ]
    },
    {
     "name": "stdout",
     "output_type": "stream",
     "text": [
      "Epoch #041, Conservation1: 1.0241, Conservation2: 1.6539, Conservation3: 3.9607\n"
     ]
    },
    {
     "name": "stderr",
     "output_type": "stream",
     "text": [
      "Train_Loader: 100%|██████████| 4129/4129 [13:15<00:00,  5.19it/s]\n"
     ]
    },
    {
     "name": "stdout",
     "output_type": "stream",
     "text": [
      "Epoch #042, Conservation1: 0.9396, Conservation2: 0.4925, Conservation3: 1.9875\n"
     ]
    },
    {
     "name": "stderr",
     "output_type": "stream",
     "text": [
      "Val_Loader: 100%|██████████| 1249/1249 [02:13<00:00,  9.35it/s]\n"
     ]
    },
    {
     "name": "stdout",
     "output_type": "stream",
     "text": [
      "Epoch #042, Conservation1: 1.1199, Conservation2: 0.5552, Conservation3: 2.9896\n"
     ]
    },
    {
     "name": "stderr",
     "output_type": "stream",
     "text": [
      "Train_Loader: 100%|██████████| 4129/4129 [12:49<00:00,  5.36it/s]\n"
     ]
    },
    {
     "name": "stdout",
     "output_type": "stream",
     "text": [
      "Epoch #043, Conservation1: 0.9024, Conservation2: 0.4648, Conservation3: 1.9073\n"
     ]
    },
    {
     "name": "stderr",
     "output_type": "stream",
     "text": [
      "Val_Loader: 100%|██████████| 1249/1249 [02:14<00:00,  9.31it/s]\n"
     ]
    },
    {
     "name": "stdout",
     "output_type": "stream",
     "text": [
      "Epoch #043, Conservation1: 1.2872, Conservation2: 0.4227, Conservation3: 3.0424\n"
     ]
    },
    {
     "name": "stderr",
     "output_type": "stream",
     "text": [
      "Train_Loader: 100%|██████████| 4129/4129 [12:36<00:00,  5.46it/s]\n"
     ]
    },
    {
     "name": "stdout",
     "output_type": "stream",
     "text": [
      "Epoch #044, Conservation1: 0.8680, Conservation2: 0.4387, Conservation3: 1.8324\n"
     ]
    },
    {
     "name": "stderr",
     "output_type": "stream",
     "text": [
      "Val_Loader: 100%|██████████| 1249/1249 [02:18<00:00,  9.04it/s]\n"
     ]
    },
    {
     "name": "stdout",
     "output_type": "stream",
     "text": [
      "Epoch #044, Conservation1: 1.1421, Conservation2: 0.7120, Conservation3: 3.1098\n"
     ]
    },
    {
     "name": "stderr",
     "output_type": "stream",
     "text": [
      "Train_Loader: 100%|██████████| 4129/4129 [12:53<00:00,  5.34it/s]\n"
     ]
    },
    {
     "name": "stdout",
     "output_type": "stream",
     "text": [
      "Epoch #045, Conservation1: 0.8341, Conservation2: 0.4152, Conservation3: 1.7662\n"
     ]
    },
    {
     "name": "stderr",
     "output_type": "stream",
     "text": [
      "Val_Loader: 100%|██████████| 1249/1249 [02:11<00:00,  9.48it/s]\n"
     ]
    },
    {
     "name": "stdout",
     "output_type": "stream",
     "text": [
      "Epoch #045, Conservation1: 0.9714, Conservation2: 0.5509, Conservation3: 2.9290\n"
     ]
    },
    {
     "name": "stderr",
     "output_type": "stream",
     "text": [
      "Train_Loader: 100%|██████████| 4129/4129 [13:14<00:00,  5.20it/s]\n"
     ]
    },
    {
     "name": "stdout",
     "output_type": "stream",
     "text": [
      "Epoch #046, Conservation1: 0.8045, Conservation2: 0.3931, Conservation3: 1.6980\n"
     ]
    },
    {
     "name": "stderr",
     "output_type": "stream",
     "text": [
      "Val_Loader: 100%|██████████| 1249/1249 [02:20<00:00,  8.88it/s] \n"
     ]
    },
    {
     "name": "stdout",
     "output_type": "stream",
     "text": [
      "Epoch #046, Conservation1: 0.8536, Conservation2: 0.6265, Conservation3: 2.6169\n"
     ]
    },
    {
     "name": "stderr",
     "output_type": "stream",
     "text": [
      "Train_Loader: 100%|██████████| 4129/4129 [13:00<00:00,  5.29it/s]\n"
     ]
    },
    {
     "name": "stdout",
     "output_type": "stream",
     "text": [
      "Epoch #047, Conservation1: 0.7768, Conservation2: 0.3742, Conservation3: 1.6416\n"
     ]
    },
    {
     "name": "stderr",
     "output_type": "stream",
     "text": [
      "Val_Loader: 100%|██████████| 1249/1249 [02:11<00:00,  9.48it/s]\n"
     ]
    },
    {
     "name": "stdout",
     "output_type": "stream",
     "text": [
      "Epoch #047, Conservation1: 1.0185, Conservation2: 0.3426, Conservation3: 2.6981\n"
     ]
    },
    {
     "name": "stderr",
     "output_type": "stream",
     "text": [
      "Train_Loader: 100%|██████████| 4129/4129 [13:13<00:00,  5.20it/s]\n"
     ]
    },
    {
     "name": "stdout",
     "output_type": "stream",
     "text": [
      "Epoch #048, Conservation1: 0.7497, Conservation2: 0.3573, Conservation3: 1.5876\n"
     ]
    },
    {
     "name": "stderr",
     "output_type": "stream",
     "text": [
      "Val_Loader: 100%|██████████| 1249/1249 [02:14<00:00,  9.28it/s]\n"
     ]
    },
    {
     "name": "stdout",
     "output_type": "stream",
     "text": [
      "Epoch #048, Conservation1: 0.8916, Conservation2: 0.2989, Conservation3: 2.4443\n"
     ]
    },
    {
     "name": "stderr",
     "output_type": "stream",
     "text": [
      "Train_Loader: 100%|██████████| 4129/4129 [13:10<00:00,  5.23it/s]\n"
     ]
    },
    {
     "name": "stdout",
     "output_type": "stream",
     "text": [
      "Epoch #049, Conservation1: 0.7265, Conservation2: 0.3402, Conservation3: 1.5375\n"
     ]
    },
    {
     "name": "stderr",
     "output_type": "stream",
     "text": [
      "Val_Loader: 100%|██████████| 1249/1249 [02:13<00:00,  9.33it/s]\n"
     ]
    },
    {
     "name": "stdout",
     "output_type": "stream",
     "text": [
      "Epoch #049, Conservation1: 0.9693, Conservation2: 0.3398, Conservation3: 2.7241\n",
      "The current best model is saved in: ******** outputs/Exp/model.pth *********\n",
      "Total time: 36692.5564s\n",
      "\n",
      "********** TEST START **********\n",
      "Reload Best Model\n",
      "The current best model is saved in: ******** outputs/Exp/model.pth *********\n"
     ]
    },
    {
     "name": "stderr",
     "output_type": "stream",
     "text": [
      "Test_Loader: 100%|██████████| 288/288 [00:30<00:00,  9.50it/s]\n"
     ]
    },
    {
     "name": "stdout",
     "output_type": "stream",
     "text": [
      "Loss1: 2.4752, Loss2: 0.6148, Loss3: 10.4186\n"
     ]
    },
    {
     "name": "stderr",
     "output_type": "stream",
     "text": [
      "Test_Loader: 100%|██████████| 288/288 [00:28<00:00, 10.02it/s]\n"
     ]
    },
    {
     "name": "stdout",
     "output_type": "stream",
     "text": [
      "Loss1: 2.4436, Loss2: 0.5702, Loss3: 9.7640\n"
     ]
    },
    {
     "name": "stderr",
     "output_type": "stream",
     "text": [
      "Test_Loader: 100%|██████████| 288/288 [00:27<00:00, 10.40it/s]\n"
     ]
    },
    {
     "name": "stdout",
     "output_type": "stream",
     "text": [
      "Loss1: 2.3592, Loss2: 0.5515, Loss3: 8.5606\n"
     ]
    },
    {
     "name": "stderr",
     "output_type": "stream",
     "text": [
      "Test_Loader: 100%|██████████| 288/288 [00:27<00:00, 10.36it/s]\n"
     ]
    },
    {
     "name": "stdout",
     "output_type": "stream",
     "text": [
      "Loss1: 1.9976, Loss2: 0.6079, Loss3: 8.2377\n"
     ]
    },
    {
     "name": "stderr",
     "output_type": "stream",
     "text": [
      "Test_Loader: 100%|██████████| 288/288 [00:27<00:00, 10.47it/s]\n"
     ]
    },
    {
     "name": "stdout",
     "output_type": "stream",
     "text": [
      "Loss1: 2.0595, Loss2: 0.5565, Loss3: 8.1322\n"
     ]
    },
    {
     "name": "stderr",
     "output_type": "stream",
     "text": [
      "Test_Loader: 100%|██████████| 288/288 [00:28<00:00, 10.05it/s]\n"
     ]
    },
    {
     "name": "stdout",
     "output_type": "stream",
     "text": [
      "Loss1: 1.8738, Loss2: 0.5948, Loss3: 7.0858\n"
     ]
    },
    {
     "name": "stderr",
     "output_type": "stream",
     "text": [
      "Test_Loader: 100%|██████████| 288/288 [00:28<00:00, 10.03it/s]\n"
     ]
    },
    {
     "name": "stdout",
     "output_type": "stream",
     "text": [
      "Loss1: 1.9245, Loss2: 0.5604, Loss3: 6.9210\n"
     ]
    },
    {
     "name": "stderr",
     "output_type": "stream",
     "text": [
      "Test_Loader: 100%|██████████| 288/288 [00:29<00:00,  9.90it/s]\n"
     ]
    },
    {
     "name": "stdout",
     "output_type": "stream",
     "text": [
      "Loss1: 1.7000, Loss2: 0.5643, Loss3: 6.6342\n"
     ]
    },
    {
     "name": "stderr",
     "output_type": "stream",
     "text": [
      "Test_Loader: 100%|██████████| 288/288 [00:28<00:00, 10.01it/s]\n"
     ]
    },
    {
     "name": "stdout",
     "output_type": "stream",
     "text": [
      "Loss1: 1.5923, Loss2: 0.5704, Loss3: 6.1953\n"
     ]
    },
    {
     "name": "stderr",
     "output_type": "stream",
     "text": [
      "Test_Loader: 100%|██████████| 288/288 [00:28<00:00, 10.07it/s]\n"
     ]
    },
    {
     "name": "stdout",
     "output_type": "stream",
     "text": [
      "Loss1: 1.6280, Loss2: 0.5692, Loss3: 5.8488\n"
     ]
    },
    {
     "name": "stderr",
     "output_type": "stream",
     "text": [
      "Test_Loader: 100%|██████████| 288/288 [00:27<00:00, 10.47it/s]\n"
     ]
    },
    {
     "name": "stdout",
     "output_type": "stream",
     "text": [
      "Loss1: 1.5343, Loss2: 0.5400, Loss3: 5.7752\n"
     ]
    },
    {
     "name": "stderr",
     "output_type": "stream",
     "text": [
      "Test_Loader: 100%|██████████| 288/288 [00:27<00:00, 10.47it/s]\n"
     ]
    },
    {
     "name": "stdout",
     "output_type": "stream",
     "text": [
      "Loss1: 1.6520, Loss2: 0.5251, Loss3: 5.5276\n"
     ]
    },
    {
     "name": "stderr",
     "output_type": "stream",
     "text": [
      "Test_Loader: 100%|██████████| 288/288 [00:27<00:00, 10.44it/s]\n"
     ]
    },
    {
     "name": "stdout",
     "output_type": "stream",
     "text": [
      "Loss1: 1.4584, Loss2: 0.5468, Loss3: 5.3447\n"
     ]
    },
    {
     "name": "stderr",
     "output_type": "stream",
     "text": [
      "Test_Loader: 100%|██████████| 288/288 [00:28<00:00, 10.05it/s]\n"
     ]
    },
    {
     "name": "stdout",
     "output_type": "stream",
     "text": [
      "Loss1: 1.4118, Loss2: 0.5352, Loss3: 5.1711\n"
     ]
    },
    {
     "name": "stderr",
     "output_type": "stream",
     "text": [
      "Test_Loader: 100%|██████████| 288/288 [00:29<00:00,  9.82it/s]\n"
     ]
    },
    {
     "name": "stdout",
     "output_type": "stream",
     "text": [
      "Loss1: 1.4498, Loss2: 0.5464, Loss3: 4.7737\n"
     ]
    },
    {
     "name": "stderr",
     "output_type": "stream",
     "text": [
      "Test_Loader: 100%|██████████| 288/288 [00:28<00:00, 10.21it/s]\n"
     ]
    },
    {
     "name": "stdout",
     "output_type": "stream",
     "text": [
      "Loss1: 1.3333, Loss2: 0.5287, Loss3: 4.8473\n"
     ]
    },
    {
     "name": "stderr",
     "output_type": "stream",
     "text": [
      "Test_Loader: 100%|██████████| 288/288 [00:28<00:00, 10.28it/s]\n"
     ]
    },
    {
     "name": "stdout",
     "output_type": "stream",
     "text": [
      "Loss1: 1.5044, Loss2: 0.5070, Loss3: 4.5079\n"
     ]
    },
    {
     "name": "stderr",
     "output_type": "stream",
     "text": [
      "Test_Loader: 100%|██████████| 288/288 [00:27<00:00, 10.33it/s]\n"
     ]
    },
    {
     "name": "stdout",
     "output_type": "stream",
     "text": [
      "Loss1: 1.4420, Loss2: 0.4821, Loss3: 4.5008\n"
     ]
    },
    {
     "name": "stderr",
     "output_type": "stream",
     "text": [
      "Test_Loader: 100%|██████████| 288/288 [00:28<00:00, 10.27it/s]\n"
     ]
    },
    {
     "name": "stdout",
     "output_type": "stream",
     "text": [
      "Loss1: 1.3396, Loss2: 0.5313, Loss3: 4.2302\n"
     ]
    },
    {
     "name": "stderr",
     "output_type": "stream",
     "text": [
      "Test_Loader: 100%|██████████| 288/288 [00:27<00:00, 10.38it/s]\n"
     ]
    },
    {
     "name": "stdout",
     "output_type": "stream",
     "text": [
      "Loss1: 1.2806, Loss2: 0.5122, Loss3: 4.1230\n"
     ]
    },
    {
     "name": "stderr",
     "output_type": "stream",
     "text": [
      "Test_Loader: 100%|██████████| 288/288 [00:27<00:00, 10.50it/s]\n"
     ]
    },
    {
     "name": "stdout",
     "output_type": "stream",
     "text": [
      "Loss1: 1.2573, Loss2: 0.5053, Loss3: 3.9472\n"
     ]
    },
    {
     "name": "stderr",
     "output_type": "stream",
     "text": [
      "Test_Loader: 100%|██████████| 288/288 [00:28<00:00, 10.28it/s]\n"
     ]
    },
    {
     "name": "stdout",
     "output_type": "stream",
     "text": [
      "Loss1: 1.2714, Loss2: 0.5097, Loss3: 3.8783\n"
     ]
    },
    {
     "name": "stderr",
     "output_type": "stream",
     "text": [
      "Test_Loader: 100%|██████████| 288/288 [00:27<00:00, 10.51it/s]\n"
     ]
    },
    {
     "name": "stdout",
     "output_type": "stream",
     "text": [
      "Loss1: 1.3420, Loss2: 0.4647, Loss3: 3.9471\n"
     ]
    },
    {
     "name": "stderr",
     "output_type": "stream",
     "text": [
      "Test_Loader: 100%|██████████| 288/288 [00:26<00:00, 10.84it/s]\n"
     ]
    },
    {
     "name": "stdout",
     "output_type": "stream",
     "text": [
      "Loss1: 1.3735, Loss2: 0.4775, Loss3: 3.6971\n"
     ]
    },
    {
     "name": "stderr",
     "output_type": "stream",
     "text": [
      "Test_Loader: 100%|██████████| 288/288 [00:26<00:00, 10.80it/s]\n"
     ]
    },
    {
     "name": "stdout",
     "output_type": "stream",
     "text": [
      "Loss1: 1.3224, Loss2: 0.4616, Loss3: 3.6781\n"
     ]
    },
    {
     "name": "stderr",
     "output_type": "stream",
     "text": [
      "Test_Loader: 100%|██████████| 288/288 [00:27<00:00, 10.66it/s]\n"
     ]
    },
    {
     "name": "stdout",
     "output_type": "stream",
     "text": [
      "Loss1: 1.1849, Loss2: 0.4886, Loss3: 3.5209\n"
     ]
    },
    {
     "name": "stderr",
     "output_type": "stream",
     "text": [
      "Test_Loader: 100%|██████████| 288/288 [00:27<00:00, 10.54it/s]\n"
     ]
    },
    {
     "name": "stdout",
     "output_type": "stream",
     "text": [
      "Loss1: 1.2461, Loss2: 0.4563, Loss3: 3.6081\n"
     ]
    },
    {
     "name": "stderr",
     "output_type": "stream",
     "text": [
      "Test_Loader: 100%|██████████| 288/288 [00:26<00:00, 11.05it/s]\n"
     ]
    },
    {
     "name": "stdout",
     "output_type": "stream",
     "text": [
      "Loss1: 1.2641, Loss2: 0.4566, Loss3: 3.4404\n"
     ]
    },
    {
     "name": "stderr",
     "output_type": "stream",
     "text": [
      "Test_Loader: 100%|██████████| 288/288 [00:26<00:00, 11.05it/s]\n"
     ]
    },
    {
     "name": "stdout",
     "output_type": "stream",
     "text": [
      "Loss1: 1.2689, Loss2: 0.4614, Loss3: 3.4098\n"
     ]
    },
    {
     "name": "stderr",
     "output_type": "stream",
     "text": [
      "Test_Loader: 100%|██████████| 288/288 [00:26<00:00, 10.96it/s]\n"
     ]
    },
    {
     "name": "stdout",
     "output_type": "stream",
     "text": [
      "Loss1: 1.2464, Loss2: 0.4517, Loss3: 3.3585\n"
     ]
    },
    {
     "name": "stderr",
     "output_type": "stream",
     "text": [
      "Test_Loader: 100%|██████████| 288/288 [00:26<00:00, 10.97it/s]\n"
     ]
    },
    {
     "name": "stdout",
     "output_type": "stream",
     "text": [
      "Loss1: 1.1596, Loss2: 0.4928, Loss3: 3.1024\n"
     ]
    },
    {
     "name": "stderr",
     "output_type": "stream",
     "text": [
      "Test_Loader: 100%|██████████| 288/288 [00:26<00:00, 10.86it/s]\n"
     ]
    },
    {
     "name": "stdout",
     "output_type": "stream",
     "text": [
      "Loss1: 1.2026, Loss2: 0.4457, Loss3: 3.1783\n"
     ]
    },
    {
     "name": "stderr",
     "output_type": "stream",
     "text": [
      "Test_Loader: 100%|██████████| 288/288 [00:27<00:00, 10.44it/s]\n"
     ]
    },
    {
     "name": "stdout",
     "output_type": "stream",
     "text": [
      "Loss1: 1.0953, Loss2: 0.4925, Loss3: 3.1527\n"
     ]
    },
    {
     "name": "stderr",
     "output_type": "stream",
     "text": [
      "Test_Loader: 100%|██████████| 288/288 [00:28<00:00, 10.07it/s]\n"
     ]
    },
    {
     "name": "stdout",
     "output_type": "stream",
     "text": [
      "Loss1: 1.0769, Loss2: 0.4817, Loss3: 3.1519\n"
     ]
    },
    {
     "name": "stderr",
     "output_type": "stream",
     "text": [
      "Test_Loader: 100%|██████████| 288/288 [00:28<00:00, 10.11it/s]\n"
     ]
    },
    {
     "name": "stdout",
     "output_type": "stream",
     "text": [
      "Loss1: 1.0733, Loss2: 0.4483, Loss3: 2.6134\n"
     ]
    },
    {
     "name": "stderr",
     "output_type": "stream",
     "text": [
      "Test_Loader: 100%|██████████| 288/288 [00:28<00:00, 10.27it/s]\n"
     ]
    },
    {
     "name": "stdout",
     "output_type": "stream",
     "text": [
      "Loss1: 1.0888, Loss2: 0.4657, Loss3: 2.5673\n"
     ]
    },
    {
     "name": "stderr",
     "output_type": "stream",
     "text": [
      "Test_Loader: 100%|██████████| 288/288 [00:27<00:00, 10.37it/s]\n"
     ]
    },
    {
     "name": "stdout",
     "output_type": "stream",
     "text": [
      "Loss1: 1.0119, Loss2: 0.4190, Loss3: 2.5673\n"
     ]
    },
    {
     "name": "stderr",
     "output_type": "stream",
     "text": [
      "Test_Loader: 100%|██████████| 288/288 [00:27<00:00, 10.30it/s]\n"
     ]
    },
    {
     "name": "stdout",
     "output_type": "stream",
     "text": [
      "Loss1: 0.9831, Loss2: 0.4123, Loss3: 2.5803\n"
     ]
    },
    {
     "name": "stderr",
     "output_type": "stream",
     "text": [
      "Test_Loader: 100%|██████████| 288/288 [00:29<00:00,  9.83it/s]\n"
     ]
    },
    {
     "name": "stdout",
     "output_type": "stream",
     "text": [
      "Loss1: 0.9890, Loss2: 0.4012, Loss3: 2.5293\n"
     ]
    },
    {
     "name": "stderr",
     "output_type": "stream",
     "text": [
      "Test_Loader: 100%|██████████| 288/288 [00:29<00:00,  9.76it/s]\n"
     ]
    },
    {
     "name": "stdout",
     "output_type": "stream",
     "text": [
      "Loss1: 1.0084, Loss2: 0.4080, Loss3: 2.4941\n"
     ]
    },
    {
     "name": "stderr",
     "output_type": "stream",
     "text": [
      "Test_Loader: 100%|██████████| 288/288 [00:28<00:00, 10.26it/s]\n"
     ]
    },
    {
     "name": "stdout",
     "output_type": "stream",
     "text": [
      "Loss1: 0.9958, Loss2: 0.4054, Loss3: 2.4923\n"
     ]
    },
    {
     "name": "stderr",
     "output_type": "stream",
     "text": [
      "Test_Loader: 100%|██████████| 288/288 [00:28<00:00, 10.17it/s]\n"
     ]
    },
    {
     "name": "stdout",
     "output_type": "stream",
     "text": [
      "Loss1: 1.2329, Loss2: 0.5518, Loss3: 3.1263\n"
     ]
    },
    {
     "name": "stderr",
     "output_type": "stream",
     "text": [
      "Test_Loader: 100%|██████████| 288/288 [00:28<00:00, 10.15it/s]\n"
     ]
    },
    {
     "name": "stdout",
     "output_type": "stream",
     "text": [
      "Loss1: 1.3012, Loss2: 0.5271, Loss3: 3.3874\n"
     ]
    },
    {
     "name": "stderr",
     "output_type": "stream",
     "text": [
      "Test_Loader: 100%|██████████| 288/288 [00:27<00:00, 10.58it/s]\n"
     ]
    },
    {
     "name": "stdout",
     "output_type": "stream",
     "text": [
      "Loss1: 1.3589, Loss2: 0.5651, Loss3: 3.3178\n"
     ]
    },
    {
     "name": "stderr",
     "output_type": "stream",
     "text": [
      "Test_Loader: 100%|██████████| 288/288 [00:27<00:00, 10.55it/s]\n"
     ]
    },
    {
     "name": "stdout",
     "output_type": "stream",
     "text": [
      "Loss1: 1.2302, Loss2: 0.4976, Loss3: 3.1979\n"
     ]
    },
    {
     "name": "stderr",
     "output_type": "stream",
     "text": [
      "Test_Loader: 100%|██████████| 288/288 [00:28<00:00, 10.27it/s]\n"
     ]
    },
    {
     "name": "stdout",
     "output_type": "stream",
     "text": [
      "Loss1: 1.2388, Loss2: 0.5588, Loss3: 3.1550\n"
     ]
    },
    {
     "name": "stderr",
     "output_type": "stream",
     "text": [
      "Test_Loader: 100%|██████████| 288/288 [00:28<00:00,  9.98it/s]\n"
     ]
    },
    {
     "name": "stdout",
     "output_type": "stream",
     "text": [
      "Loss1: 1.2670, Loss2: 0.6237, Loss3: 3.3065\n"
     ]
    },
    {
     "name": "stderr",
     "output_type": "stream",
     "text": [
      "Test_Loader: 100%|██████████| 288/288 [00:27<00:00, 10.40it/s]\n"
     ]
    },
    {
     "name": "stdout",
     "output_type": "stream",
     "text": [
      "Loss1: 1.3878, Loss2: 0.6904, Loss3: 3.3873\n"
     ]
    },
    {
     "name": "stderr",
     "output_type": "stream",
     "text": [
      "Test_Loader: 100%|██████████| 288/288 [00:26<00:00, 10.88it/s]\n"
     ]
    },
    {
     "name": "stdout",
     "output_type": "stream",
     "text": [
      "Loss1: 1.4508, Loss2: 0.6803, Loss3: 3.4634\n"
     ]
    },
    {
     "name": "stderr",
     "output_type": "stream",
     "text": [
      "Test_Loader: 100%|██████████| 288/288 [00:26<00:00, 10.73it/s]\n"
     ]
    },
    {
     "name": "stdout",
     "output_type": "stream",
     "text": [
      "Loss1: 1.4429, Loss2: 0.6639, Loss3: 3.5484\n"
     ]
    },
    {
     "name": "stderr",
     "output_type": "stream",
     "text": [
      "Test_Loader: 100%|██████████| 288/288 [00:29<00:00,  9.85it/s]\n"
     ]
    },
    {
     "name": "stdout",
     "output_type": "stream",
     "text": [
      "Loss1: 1.5208, Loss2: 0.6558, Loss3: 3.3726\n"
     ]
    },
    {
     "name": "stderr",
     "output_type": "stream",
     "text": [
      "Test_Loader: 100%|██████████| 288/288 [00:29<00:00,  9.77it/s]\n"
     ]
    },
    {
     "name": "stdout",
     "output_type": "stream",
     "text": [
      "Loss1: 1.4858, Loss2: 0.6550, Loss3: 3.4770\n"
     ]
    },
    {
     "name": "stderr",
     "output_type": "stream",
     "text": [
      "Test_Loader: 100%|██████████| 288/288 [00:29<00:00,  9.89it/s]\n"
     ]
    },
    {
     "name": "stdout",
     "output_type": "stream",
     "text": [
      "Loss1: 1.5015, Loss2: 0.6754, Loss3: 3.3753\n"
     ]
    },
    {
     "name": "stderr",
     "output_type": "stream",
     "text": [
      "Test_Loader: 100%|██████████| 288/288 [00:28<00:00, 10.00it/s]\n"
     ]
    },
    {
     "name": "stdout",
     "output_type": "stream",
     "text": [
      "Loss1: 1.4976, Loss2: 0.6485, Loss3: 3.4670\n"
     ]
    },
    {
     "name": "stderr",
     "output_type": "stream",
     "text": [
      "Test_Loader: 100%|██████████| 288/288 [00:28<00:00, 10.20it/s]\n"
     ]
    },
    {
     "name": "stdout",
     "output_type": "stream",
     "text": [
      "Loss1: 1.6199, Loss2: 0.6685, Loss3: 3.6211\n"
     ]
    },
    {
     "name": "stderr",
     "output_type": "stream",
     "text": [
      "Test_Loader: 100%|██████████| 288/288 [00:27<00:00, 10.38it/s]\n"
     ]
    },
    {
     "name": "stdout",
     "output_type": "stream",
     "text": [
      "Loss1: 1.5556, Loss2: 0.6642, Loss3: 3.4174\n"
     ]
    },
    {
     "name": "stderr",
     "output_type": "stream",
     "text": [
      "Test_Loader: 100%|██████████| 288/288 [00:27<00:00, 10.60it/s]\n"
     ]
    },
    {
     "name": "stdout",
     "output_type": "stream",
     "text": [
      "Loss1: 1.5097, Loss2: 0.6538, Loss3: 3.4264\n"
     ]
    },
    {
     "name": "stderr",
     "output_type": "stream",
     "text": [
      "Test_Loader: 100%|██████████| 288/288 [00:27<00:00, 10.29it/s]\n"
     ]
    },
    {
     "name": "stdout",
     "output_type": "stream",
     "text": [
      "Loss1: 1.5933, Loss2: 0.6977, Loss3: 3.8934\n"
     ]
    },
    {
     "name": "stderr",
     "output_type": "stream",
     "text": [
      "Test_Loader: 100%|██████████| 288/288 [00:27<00:00, 10.45it/s]\n"
     ]
    },
    {
     "name": "stdout",
     "output_type": "stream",
     "text": [
      "Loss1: 1.5647, Loss2: 0.6394, Loss3: 3.6735\n"
     ]
    },
    {
     "name": "stderr",
     "output_type": "stream",
     "text": [
      "Test_Loader: 100%|██████████| 288/288 [00:27<00:00, 10.29it/s]\n"
     ]
    },
    {
     "name": "stdout",
     "output_type": "stream",
     "text": [
      "Loss1: 1.6311, Loss2: 0.6830, Loss3: 3.7389\n"
     ]
    },
    {
     "name": "stderr",
     "output_type": "stream",
     "text": [
      "Test_Loader: 100%|██████████| 288/288 [00:27<00:00, 10.65it/s]\n"
     ]
    },
    {
     "name": "stdout",
     "output_type": "stream",
     "text": [
      "Loss1: 1.5492, Loss2: 0.6470, Loss3: 3.6593\n"
     ]
    },
    {
     "name": "stderr",
     "output_type": "stream",
     "text": [
      "Test_Loader: 100%|██████████| 288/288 [00:27<00:00, 10.62it/s]\n"
     ]
    },
    {
     "name": "stdout",
     "output_type": "stream",
     "text": [
      "Loss1: 1.5731, Loss2: 0.6530, Loss3: 3.6819\n"
     ]
    },
    {
     "name": "stderr",
     "output_type": "stream",
     "text": [
      "Test_Loader: 100%|██████████| 288/288 [00:27<00:00, 10.66it/s]\n"
     ]
    },
    {
     "name": "stdout",
     "output_type": "stream",
     "text": [
      "Loss1: 1.5358, Loss2: 0.6207, Loss3: 3.5725\n"
     ]
    },
    {
     "name": "stderr",
     "output_type": "stream",
     "text": [
      "Test_Loader: 100%|██████████| 288/288 [00:26<00:00, 10.83it/s]\n"
     ]
    },
    {
     "name": "stdout",
     "output_type": "stream",
     "text": [
      "Loss1: 1.5471, Loss2: 0.6467, Loss3: 3.5562\n"
     ]
    },
    {
     "name": "stderr",
     "output_type": "stream",
     "text": [
      "Test_Loader: 100%|██████████| 288/288 [00:30<00:00,  9.59it/s]\n"
     ]
    },
    {
     "name": "stdout",
     "output_type": "stream",
     "text": [
      "Loss1: 1.5559, Loss2: 0.6151, Loss3: 3.5219\n"
     ]
    },
    {
     "name": "stderr",
     "output_type": "stream",
     "text": [
      "Test_Loader: 100%|██████████| 288/288 [00:27<00:00, 10.42it/s]\n"
     ]
    },
    {
     "name": "stdout",
     "output_type": "stream",
     "text": [
      "Loss1: 1.5145, Loss2: 0.5950, Loss3: 3.4444\n"
     ]
    },
    {
     "name": "stderr",
     "output_type": "stream",
     "text": [
      "Test_Loader: 100%|██████████| 288/288 [00:28<00:00, 10.28it/s]\n"
     ]
    },
    {
     "name": "stdout",
     "output_type": "stream",
     "text": [
      "Loss1: 1.5318, Loss2: 0.5961, Loss3: 3.4101\n"
     ]
    },
    {
     "name": "stderr",
     "output_type": "stream",
     "text": [
      "Test_Loader: 100%|██████████| 288/288 [00:27<00:00, 10.36it/s]\n"
     ]
    },
    {
     "name": "stdout",
     "output_type": "stream",
     "text": [
      "Loss1: 1.5595, Loss2: 0.6245, Loss3: 3.4765\n"
     ]
    },
    {
     "name": "stderr",
     "output_type": "stream",
     "text": [
      "Test_Loader: 100%|██████████| 288/288 [00:28<00:00, 10.19it/s]\n"
     ]
    },
    {
     "name": "stdout",
     "output_type": "stream",
     "text": [
      "Loss1: 1.4857, Loss2: 0.5887, Loss3: 3.3939\n"
     ]
    },
    {
     "name": "stderr",
     "output_type": "stream",
     "text": [
      "Test_Loader: 100%|██████████| 288/288 [00:28<00:00, 10.28it/s]\n"
     ]
    },
    {
     "name": "stdout",
     "output_type": "stream",
     "text": [
      "Loss1: 1.4799, Loss2: 0.5678, Loss3: 3.3247\n"
     ]
    },
    {
     "name": "stderr",
     "output_type": "stream",
     "text": [
      "Test_Loader: 100%|██████████| 288/288 [00:27<00:00, 10.29it/s]\n"
     ]
    },
    {
     "name": "stdout",
     "output_type": "stream",
     "text": [
      "Loss1: 1.5038, Loss2: 0.5834, Loss3: 3.3850\n"
     ]
    },
    {
     "name": "stderr",
     "output_type": "stream",
     "text": [
      "Test_Loader: 100%|██████████| 288/288 [00:28<00:00, 10.24it/s]\n"
     ]
    },
    {
     "name": "stdout",
     "output_type": "stream",
     "text": [
      "Loss1: 1.6021, Loss2: 0.6340, Loss3: 3.9884\n"
     ]
    },
    {
     "name": "stderr",
     "output_type": "stream",
     "text": [
      "Test_Loader: 100%|██████████| 288/288 [00:27<00:00, 10.36it/s]\n"
     ]
    },
    {
     "name": "stdout",
     "output_type": "stream",
     "text": [
      "Loss1: 1.5388, Loss2: 0.6164, Loss3: 3.9273\n"
     ]
    },
    {
     "name": "stderr",
     "output_type": "stream",
     "text": [
      "Test_Loader: 100%|██████████| 288/288 [00:27<00:00, 10.37it/s]\n"
     ]
    },
    {
     "name": "stdout",
     "output_type": "stream",
     "text": [
      "Loss1: 1.5103, Loss2: 0.6059, Loss3: 3.8436\n"
     ]
    },
    {
     "name": "stderr",
     "output_type": "stream",
     "text": [
      "Test_Loader: 100%|██████████| 288/288 [00:27<00:00, 10.38it/s]\n"
     ]
    },
    {
     "name": "stdout",
     "output_type": "stream",
     "text": [
      "Loss1: 1.5499, Loss2: 0.6110, Loss3: 3.8375\n"
     ]
    },
    {
     "name": "stderr",
     "output_type": "stream",
     "text": [
      "Test_Loader: 100%|██████████| 288/288 [00:27<00:00, 10.61it/s]\n"
     ]
    },
    {
     "name": "stdout",
     "output_type": "stream",
     "text": [
      "Loss1: 1.4891, Loss2: 0.5859, Loss3: 3.7678\n"
     ]
    },
    {
     "name": "stderr",
     "output_type": "stream",
     "text": [
      "Test_Loader: 100%|██████████| 288/288 [00:27<00:00, 10.52it/s]\n"
     ]
    },
    {
     "name": "stdout",
     "output_type": "stream",
     "text": [
      "Loss1: 1.5252, Loss2: 0.6246, Loss3: 3.9071\n"
     ]
    },
    {
     "name": "stderr",
     "output_type": "stream",
     "text": [
      "Test_Loader: 100%|██████████| 288/288 [00:30<00:00,  9.39it/s]\n"
     ]
    },
    {
     "name": "stdout",
     "output_type": "stream",
     "text": [
      "Loss1: 1.5448, Loss2: 0.6317, Loss3: 3.8582\n"
     ]
    },
    {
     "name": "stderr",
     "output_type": "stream",
     "text": [
      "Test_Loader: 100%|██████████| 288/288 [00:29<00:00,  9.91it/s]\n"
     ]
    },
    {
     "name": "stdout",
     "output_type": "stream",
     "text": [
      "Loss1: 1.6051, Loss2: 0.6269, Loss3: 3.9526\n"
     ]
    },
    {
     "name": "stderr",
     "output_type": "stream",
     "text": [
      "Test_Loader: 100%|██████████| 288/288 [00:27<00:00, 10.35it/s]\n"
     ]
    },
    {
     "name": "stdout",
     "output_type": "stream",
     "text": [
      "Loss1: 1.5269, Loss2: 0.6054, Loss3: 3.8655\n"
     ]
    },
    {
     "name": "stderr",
     "output_type": "stream",
     "text": [
      "Test_Loader: 100%|██████████| 288/288 [00:28<00:00, 10.01it/s]\n"
     ]
    },
    {
     "name": "stdout",
     "output_type": "stream",
     "text": [
      "Loss1: 1.5422, Loss2: 0.6761, Loss3: 3.9439\n"
     ]
    },
    {
     "name": "stderr",
     "output_type": "stream",
     "text": [
      "Test_Loader: 100%|██████████| 288/288 [00:29<00:00,  9.81it/s]\n"
     ]
    },
    {
     "name": "stdout",
     "output_type": "stream",
     "text": [
      "Loss1: 1.6048, Loss2: 0.6905, Loss3: 3.9291\n"
     ]
    },
    {
     "name": "stderr",
     "output_type": "stream",
     "text": [
      "Test_Loader: 100%|██████████| 288/288 [00:28<00:00, 10.06it/s]\n"
     ]
    },
    {
     "name": "stdout",
     "output_type": "stream",
     "text": [
      "Loss1: 1.5653, Loss2: 0.6456, Loss3: 3.8142\n"
     ]
    },
    {
     "name": "stderr",
     "output_type": "stream",
     "text": [
      "Test_Loader: 100%|██████████| 288/288 [00:29<00:00,  9.73it/s]\n"
     ]
    },
    {
     "name": "stdout",
     "output_type": "stream",
     "text": [
      "Loss1: 1.5149, Loss2: 0.6614, Loss3: 3.6972\n"
     ]
    },
    {
     "name": "stderr",
     "output_type": "stream",
     "text": [
      "Test_Loader: 100%|██████████| 288/288 [00:29<00:00,  9.86it/s]\n"
     ]
    },
    {
     "name": "stdout",
     "output_type": "stream",
     "text": [
      "Loss1: 1.5604, Loss2: 0.6669, Loss3: 3.6359\n"
     ]
    },
    {
     "name": "stderr",
     "output_type": "stream",
     "text": [
      "Test_Loader: 100%|██████████| 288/288 [00:29<00:00,  9.91it/s]\n"
     ]
    },
    {
     "name": "stdout",
     "output_type": "stream",
     "text": [
      "Loss1: 1.6285, Loss2: 0.6790, Loss3: 3.8934\n"
     ]
    },
    {
     "name": "stderr",
     "output_type": "stream",
     "text": [
      "Test_Loader: 100%|██████████| 288/288 [00:29<00:00,  9.69it/s]\n"
     ]
    },
    {
     "name": "stdout",
     "output_type": "stream",
     "text": [
      "Loss1: 1.6478, Loss2: 0.6638, Loss3: 3.7676\n"
     ]
    },
    {
     "name": "stderr",
     "output_type": "stream",
     "text": [
      "Test_Loader: 100%|██████████| 288/288 [00:30<00:00,  9.56it/s]\n"
     ]
    },
    {
     "name": "stdout",
     "output_type": "stream",
     "text": [
      "Loss1: 1.6832, Loss2: 0.6698, Loss3: 3.8097\n"
     ]
    },
    {
     "name": "stderr",
     "output_type": "stream",
     "text": [
      "Test_Loader: 100%|██████████| 288/288 [00:30<00:00,  9.38it/s]\n"
     ]
    },
    {
     "name": "stdout",
     "output_type": "stream",
     "text": [
      "Loss1: 1.7016, Loss2: 0.6789, Loss3: 3.6664\n"
     ]
    },
    {
     "name": "stderr",
     "output_type": "stream",
     "text": [
      "Test_Loader: 100%|██████████| 288/288 [00:32<00:00,  8.99it/s]\n"
     ]
    },
    {
     "name": "stdout",
     "output_type": "stream",
     "text": [
      "Loss1: 1.6132, Loss2: 0.6534, Loss3: 3.6615\n"
     ]
    },
    {
     "name": "stderr",
     "output_type": "stream",
     "text": [
      "Test_Loader: 100%|██████████| 288/288 [00:30<00:00,  9.51it/s]\n"
     ]
    },
    {
     "name": "stdout",
     "output_type": "stream",
     "text": [
      "Loss1: 1.6299, Loss2: 0.6403, Loss3: 3.5535\n"
     ]
    },
    {
     "name": "stderr",
     "output_type": "stream",
     "text": [
      "Test_Loader: 100%|██████████| 288/288 [00:29<00:00,  9.76it/s]\n"
     ]
    },
    {
     "name": "stdout",
     "output_type": "stream",
     "text": [
      "Loss1: 1.6364, Loss2: 0.6107, Loss3: 3.4863\n"
     ]
    },
    {
     "name": "stderr",
     "output_type": "stream",
     "text": [
      "Test_Loader: 100%|██████████| 288/288 [00:29<00:00,  9.84it/s]\n"
     ]
    },
    {
     "name": "stdout",
     "output_type": "stream",
     "text": [
      "Loss1: 1.5946, Loss2: 0.6290, Loss3: 3.4618\n"
     ]
    },
    {
     "name": "stderr",
     "output_type": "stream",
     "text": [
      "Test_Loader: 100%|██████████| 288/288 [00:28<00:00, 10.10it/s]\n"
     ]
    },
    {
     "name": "stdout",
     "output_type": "stream",
     "text": [
      "Loss1: 1.5874, Loss2: 0.6306, Loss3: 3.5017\n"
     ]
    },
    {
     "name": "stderr",
     "output_type": "stream",
     "text": [
      "Test_Loader: 100%|██████████| 288/288 [00:28<00:00, 10.22it/s]\n"
     ]
    },
    {
     "name": "stdout",
     "output_type": "stream",
     "text": [
      "Loss1: 1.6035, Loss2: 0.5825, Loss3: 3.3626\n"
     ]
    },
    {
     "name": "stderr",
     "output_type": "stream",
     "text": [
      "Test_Loader: 100%|██████████| 288/288 [00:28<00:00, 10.26it/s]\n"
     ]
    },
    {
     "name": "stdout",
     "output_type": "stream",
     "text": [
      "Loss1: 1.5571, Loss2: 0.6093, Loss3: 3.4297\n"
     ]
    },
    {
     "name": "stderr",
     "output_type": "stream",
     "text": [
      "Test_Loader: 100%|██████████| 288/288 [00:27<00:00, 10.48it/s]\n"
     ]
    },
    {
     "name": "stdout",
     "output_type": "stream",
     "text": [
      "Loss1: 1.5592, Loss2: 0.5893, Loss3: 3.3463\n"
     ]
    },
    {
     "name": "stderr",
     "output_type": "stream",
     "text": [
      "Test_Loader: 100%|██████████| 288/288 [00:27<00:00, 10.47it/s]\n"
     ]
    },
    {
     "name": "stdout",
     "output_type": "stream",
     "text": [
      "Loss1: 1.5356, Loss2: 0.6036, Loss3: 3.3548\n"
     ]
    },
    {
     "name": "stderr",
     "output_type": "stream",
     "text": [
      "Test_Loader: 100%|██████████| 288/288 [00:26<00:00, 10.81it/s]\n"
     ]
    },
    {
     "name": "stdout",
     "output_type": "stream",
     "text": [
      "Loss1: 1.5765, Loss2: 0.5724, Loss3: 3.2307\n"
     ]
    },
    {
     "name": "stderr",
     "output_type": "stream",
     "text": [
      "Test_Loader: 100%|██████████| 288/288 [00:26<00:00, 10.68it/s]\n"
     ]
    },
    {
     "name": "stdout",
     "output_type": "stream",
     "text": [
      "Loss1: 1.4800, Loss2: 0.5525, Loss3: 3.1048\n"
     ]
    },
    {
     "name": "stderr",
     "output_type": "stream",
     "text": [
      "Test_Loader: 100%|██████████| 288/288 [00:25<00:00, 11.11it/s]\n"
     ]
    },
    {
     "name": "stdout",
     "output_type": "stream",
     "text": [
      "Loss1: 1.4965, Loss2: 0.5548, Loss3: 3.0868\n"
     ]
    },
    {
     "name": "stderr",
     "output_type": "stream",
     "text": [
      "Test_Loader: 100%|██████████| 288/288 [00:26<00:00, 10.77it/s]\n"
     ]
    },
    {
     "name": "stdout",
     "output_type": "stream",
     "text": [
      "Loss1: 1.4506, Loss2: 0.5569, Loss3: 3.3096\n"
     ]
    },
    {
     "name": "stderr",
     "output_type": "stream",
     "text": [
      "Test_Loader: 100%|██████████| 288/288 [00:27<00:00, 10.45it/s]\n"
     ]
    },
    {
     "name": "stdout",
     "output_type": "stream",
     "text": [
      "Loss1: 1.5382, Loss2: 0.5417, Loss3: 3.1876\n"
     ]
    },
    {
     "name": "stderr",
     "output_type": "stream",
     "text": [
      "Test_Loader: 100%|██████████| 288/288 [00:28<00:00, 10.20it/s]\n"
     ]
    },
    {
     "name": "stdout",
     "output_type": "stream",
     "text": [
      "Loss1: 1.4792, Loss2: 0.5609, Loss3: 3.2105\n"
     ]
    },
    {
     "name": "stderr",
     "output_type": "stream",
     "text": [
      "Test_Loader: 100%|██████████| 288/288 [00:27<00:00, 10.48it/s]\n"
     ]
    },
    {
     "name": "stdout",
     "output_type": "stream",
     "text": [
      "Loss1: 1.4694, Loss2: 0.5610, Loss3: 3.1420\n"
     ]
    },
    {
     "name": "stderr",
     "output_type": "stream",
     "text": [
      "Test_Loader: 100%|██████████| 288/288 [00:26<00:00, 10.81it/s]\n"
     ]
    },
    {
     "name": "stdout",
     "output_type": "stream",
     "text": [
      "Loss1: 1.5083, Loss2: 0.5632, Loss3: 3.1886\n"
     ]
    },
    {
     "name": "stderr",
     "output_type": "stream",
     "text": [
      "Test_Loader: 100%|██████████| 288/288 [00:26<00:00, 10.78it/s]\n"
     ]
    },
    {
     "name": "stdout",
     "output_type": "stream",
     "text": [
      "Loss1: 1.5030, Loss2: 0.5480, Loss3: 3.1886\n"
     ]
    },
    {
     "name": "stderr",
     "output_type": "stream",
     "text": [
      "Test_Loader: 100%|██████████| 288/288 [00:26<00:00, 10.81it/s]\n"
     ]
    },
    {
     "name": "stdout",
     "output_type": "stream",
     "text": [
      "Loss1: 1.5199, Loss2: 0.5817, Loss3: 3.2625\n"
     ]
    },
    {
     "name": "stderr",
     "output_type": "stream",
     "text": [
      "Test_Loader: 100%|██████████| 288/288 [00:27<00:00, 10.55it/s]\n"
     ]
    },
    {
     "name": "stdout",
     "output_type": "stream",
     "text": [
      "Loss1: 1.5235, Loss2: 0.5741, Loss3: 3.3607\n"
     ]
    },
    {
     "name": "stderr",
     "output_type": "stream",
     "text": [
      "Test_Loader: 100%|██████████| 288/288 [00:27<00:00, 10.63it/s]\n"
     ]
    },
    {
     "name": "stdout",
     "output_type": "stream",
     "text": [
      "Loss1: 1.5134, Loss2: 0.5553, Loss3: 3.3629\n"
     ]
    },
    {
     "name": "stderr",
     "output_type": "stream",
     "text": [
      "Test_Loader: 100%|██████████| 288/288 [00:27<00:00, 10.59it/s]\n"
     ]
    },
    {
     "name": "stdout",
     "output_type": "stream",
     "text": [
      "Loss1: 1.4738, Loss2: 0.5482, Loss3: 3.3444\n"
     ]
    },
    {
     "name": "stderr",
     "output_type": "stream",
     "text": [
      "Test_Loader: 100%|██████████| 288/288 [00:27<00:00, 10.62it/s]\n"
     ]
    },
    {
     "name": "stdout",
     "output_type": "stream",
     "text": [
      "Loss1: 1.4665, Loss2: 0.5545, Loss3: 3.3187\n"
     ]
    },
    {
     "name": "stderr",
     "output_type": "stream",
     "text": [
      "Test_Loader: 100%|██████████| 288/288 [00:27<00:00, 10.62it/s]\n"
     ]
    },
    {
     "name": "stdout",
     "output_type": "stream",
     "text": [
      "Loss1: 1.5411, Loss2: 0.5528, Loss3: 3.2424\n"
     ]
    },
    {
     "name": "stderr",
     "output_type": "stream",
     "text": [
      "Test_Loader: 100%|██████████| 288/288 [00:27<00:00, 10.66it/s]\n"
     ]
    },
    {
     "name": "stdout",
     "output_type": "stream",
     "text": [
      "Loss1: 1.4454, Loss2: 0.5367, Loss3: 3.2078\n"
     ]
    },
    {
     "name": "stderr",
     "output_type": "stream",
     "text": [
      "Test_Loader: 100%|██████████| 288/288 [00:26<00:00, 10.72it/s]\n"
     ]
    },
    {
     "name": "stdout",
     "output_type": "stream",
     "text": [
      "Loss1: 1.4567, Loss2: 0.5530, Loss3: 3.2588\n"
     ]
    },
    {
     "name": "stderr",
     "output_type": "stream",
     "text": [
      "Test_Loader: 100%|██████████| 288/288 [00:28<00:00, 10.19it/s]\n"
     ]
    },
    {
     "name": "stdout",
     "output_type": "stream",
     "text": [
      "Loss1: 1.4350, Loss2: 0.5491, Loss3: 3.1882\n"
     ]
    },
    {
     "name": "stderr",
     "output_type": "stream",
     "text": [
      "Test_Loader: 100%|██████████| 288/288 [00:28<00:00, 10.07it/s]\n"
     ]
    },
    {
     "name": "stdout",
     "output_type": "stream",
     "text": [
      "Loss1: 1.4756, Loss2: 0.5420, Loss3: 3.2357\n"
     ]
    },
    {
     "name": "stderr",
     "output_type": "stream",
     "text": [
      "Test_Loader: 100%|██████████| 288/288 [00:26<00:00, 10.82it/s]\n"
     ]
    },
    {
     "name": "stdout",
     "output_type": "stream",
     "text": [
      "Loss1: 1.4840, Loss2: 0.5588, Loss3: 3.2299\n"
     ]
    },
    {
     "name": "stderr",
     "output_type": "stream",
     "text": [
      "Test_Loader: 100%|██████████| 288/288 [00:26<00:00, 11.00it/s]\n"
     ]
    },
    {
     "name": "stdout",
     "output_type": "stream",
     "text": [
      "Loss1: 1.4588, Loss2: 0.5521, Loss3: 3.1247\n"
     ]
    },
    {
     "name": "stderr",
     "output_type": "stream",
     "text": [
      "Test_Loader: 100%|██████████| 288/288 [00:28<00:00, 10.17it/s]\n"
     ]
    },
    {
     "name": "stdout",
     "output_type": "stream",
     "text": [
      "Loss1: 1.4757, Loss2: 0.5436, Loss3: 3.0324\n"
     ]
    },
    {
     "name": "stderr",
     "output_type": "stream",
     "text": [
      "Test_Loader: 100%|██████████| 288/288 [00:27<00:00, 10.63it/s]\n"
     ]
    },
    {
     "name": "stdout",
     "output_type": "stream",
     "text": [
      "Loss1: 1.3963, Loss2: 0.5330, Loss3: 3.0978\n"
     ]
    },
    {
     "name": "stderr",
     "output_type": "stream",
     "text": [
      "Test_Loader: 100%|██████████| 288/288 [00:27<00:00, 10.37it/s]\n"
     ]
    },
    {
     "name": "stdout",
     "output_type": "stream",
     "text": [
      "Loss1: 1.4278, Loss2: 0.5489, Loss3: 3.0814\n"
     ]
    },
    {
     "name": "stderr",
     "output_type": "stream",
     "text": [
      "Test_Loader: 100%|██████████| 288/288 [00:28<00:00, 10.19it/s]\n"
     ]
    },
    {
     "name": "stdout",
     "output_type": "stream",
     "text": [
      "Loss1: 1.4504, Loss2: 0.5358, Loss3: 2.9965\n"
     ]
    },
    {
     "name": "stderr",
     "output_type": "stream",
     "text": [
      "Test_Loader: 100%|██████████| 288/288 [00:27<00:00, 10.51it/s]\n"
     ]
    },
    {
     "name": "stdout",
     "output_type": "stream",
     "text": [
      "Loss1: 1.4355, Loss2: 0.5170, Loss3: 2.9771\n"
     ]
    },
    {
     "name": "stderr",
     "output_type": "stream",
     "text": [
      "Test_Loader: 100%|██████████| 288/288 [00:27<00:00, 10.64it/s]\n"
     ]
    },
    {
     "name": "stdout",
     "output_type": "stream",
     "text": [
      "Loss1: 1.4271, Loss2: 0.5331, Loss3: 2.8971\n"
     ]
    },
    {
     "name": "stderr",
     "output_type": "stream",
     "text": [
      "Test_Loader: 100%|██████████| 288/288 [00:27<00:00, 10.59it/s]\n"
     ]
    },
    {
     "name": "stdout",
     "output_type": "stream",
     "text": [
      "Loss1: 1.4118, Loss2: 0.5197, Loss3: 2.8738\n"
     ]
    },
    {
     "name": "stderr",
     "output_type": "stream",
     "text": [
      "Test_Loader: 100%|██████████| 288/288 [00:28<00:00, 10.18it/s]\n"
     ]
    },
    {
     "name": "stdout",
     "output_type": "stream",
     "text": [
      "Loss1: 1.4459, Loss2: 0.5076, Loss3: 2.8793\n"
     ]
    },
    {
     "name": "stderr",
     "output_type": "stream",
     "text": [
      "Test_Loader: 100%|██████████| 288/288 [00:28<00:00, 10.22it/s]\n"
     ]
    },
    {
     "name": "stdout",
     "output_type": "stream",
     "text": [
      "Loss1: 1.4214, Loss2: 0.5104, Loss3: 2.8078\n"
     ]
    },
    {
     "name": "stderr",
     "output_type": "stream",
     "text": [
      "Test_Loader: 100%|██████████| 288/288 [00:28<00:00,  9.99it/s]\n"
     ]
    },
    {
     "name": "stdout",
     "output_type": "stream",
     "text": [
      "Loss1: 1.4374, Loss2: 0.5088, Loss3: 2.8284\n"
     ]
    },
    {
     "name": "stderr",
     "output_type": "stream",
     "text": [
      "Test_Loader: 100%|██████████| 288/288 [00:29<00:00,  9.64it/s]\n"
     ]
    },
    {
     "name": "stdout",
     "output_type": "stream",
     "text": [
      "Loss1: 1.4222, Loss2: 0.4906, Loss3: 2.7647\n"
     ]
    },
    {
     "name": "stderr",
     "output_type": "stream",
     "text": [
      "Test_Loader: 100%|██████████| 288/288 [00:27<00:00, 10.53it/s]\n"
     ]
    },
    {
     "name": "stdout",
     "output_type": "stream",
     "text": [
      "Loss1: 1.3680, Loss2: 0.4796, Loss3: 2.7993\n"
     ]
    },
    {
     "name": "stderr",
     "output_type": "stream",
     "text": [
      "Test_Loader: 100%|██████████| 288/288 [00:26<00:00, 10.69it/s]\n"
     ]
    },
    {
     "name": "stdout",
     "output_type": "stream",
     "text": [
      "Loss1: 1.3653, Loss2: 0.5068, Loss3: 2.7618\n"
     ]
    },
    {
     "name": "stderr",
     "output_type": "stream",
     "text": [
      "Test_Loader: 100%|██████████| 288/288 [00:27<00:00, 10.64it/s]\n"
     ]
    },
    {
     "name": "stdout",
     "output_type": "stream",
     "text": [
      "Loss1: 1.3865, Loss2: 0.4902, Loss3: 2.7652\n"
     ]
    },
    {
     "name": "stderr",
     "output_type": "stream",
     "text": [
      "Test_Loader: 100%|██████████| 288/288 [00:27<00:00, 10.66it/s]\n"
     ]
    },
    {
     "name": "stdout",
     "output_type": "stream",
     "text": [
      "Loss1: 1.3392, Loss2: 0.4982, Loss3: 2.7332\n"
     ]
    },
    {
     "name": "stderr",
     "output_type": "stream",
     "text": [
      "Test_Loader: 100%|██████████| 288/288 [00:27<00:00, 10.64it/s]\n"
     ]
    },
    {
     "name": "stdout",
     "output_type": "stream",
     "text": [
      "Loss1: 1.3223, Loss2: 0.4902, Loss3: 2.7125\n"
     ]
    },
    {
     "name": "stderr",
     "output_type": "stream",
     "text": [
      "Test_Loader: 100%|██████████| 288/288 [00:29<00:00,  9.86it/s]\n"
     ]
    },
    {
     "name": "stdout",
     "output_type": "stream",
     "text": [
      "Loss1: 1.3484, Loss2: 0.4739, Loss3: 2.7495\n"
     ]
    },
    {
     "name": "stderr",
     "output_type": "stream",
     "text": [
      "Test_Loader: 100%|██████████| 288/288 [00:28<00:00, 10.09it/s]\n"
     ]
    },
    {
     "name": "stdout",
     "output_type": "stream",
     "text": [
      "Loss1: 1.3178, Loss2: 0.4862, Loss3: 2.7185\n"
     ]
    },
    {
     "name": "stderr",
     "output_type": "stream",
     "text": [
      "Test_Loader: 100%|██████████| 288/288 [00:27<00:00, 10.35it/s]\n"
     ]
    },
    {
     "name": "stdout",
     "output_type": "stream",
     "text": [
      "Loss1: 1.2394, Loss2: 0.4691, Loss3: 2.6048\n"
     ]
    },
    {
     "name": "stderr",
     "output_type": "stream",
     "text": [
      "Test_Loader: 100%|██████████| 288/288 [00:29<00:00,  9.85it/s]\n"
     ]
    },
    {
     "name": "stdout",
     "output_type": "stream",
     "text": [
      "Loss1: 1.1968, Loss2: 0.4697, Loss3: 2.4720\n"
     ]
    },
    {
     "name": "stderr",
     "output_type": "stream",
     "text": [
      "Test_Loader: 100%|██████████| 288/288 [00:28<00:00,  9.97it/s]\n"
     ]
    },
    {
     "name": "stdout",
     "output_type": "stream",
     "text": [
      "Loss1: 1.2205, Loss2: 0.4660, Loss3: 2.3992\n"
     ]
    },
    {
     "name": "stderr",
     "output_type": "stream",
     "text": [
      "Test_Loader: 100%|██████████| 288/288 [00:28<00:00, 10.23it/s]\n"
     ]
    },
    {
     "name": "stdout",
     "output_type": "stream",
     "text": [
      "Loss1: 1.1980, Loss2: 0.4799, Loss3: 2.3921\n"
     ]
    },
    {
     "name": "stderr",
     "output_type": "stream",
     "text": [
      "Test_Loader: 100%|██████████| 288/288 [00:29<00:00,  9.77it/s]\n"
     ]
    },
    {
     "name": "stdout",
     "output_type": "stream",
     "text": [
      "Loss1: 1.1706, Loss2: 0.4523, Loss3: 2.4136\n"
     ]
    },
    {
     "name": "stderr",
     "output_type": "stream",
     "text": [
      "Test_Loader: 100%|██████████| 288/288 [00:29<00:00,  9.85it/s]\n"
     ]
    },
    {
     "name": "stdout",
     "output_type": "stream",
     "text": [
      "Loss1: 1.1345, Loss2: 0.4384, Loss3: 2.3939\n"
     ]
    },
    {
     "name": "stderr",
     "output_type": "stream",
     "text": [
      "Test_Loader: 100%|██████████| 288/288 [00:29<00:00,  9.91it/s]\n"
     ]
    },
    {
     "name": "stdout",
     "output_type": "stream",
     "text": [
      "Loss1: 1.1235, Loss2: 0.4709, Loss3: 2.3946\n"
     ]
    },
    {
     "name": "stderr",
     "output_type": "stream",
     "text": [
      "Test_Loader: 100%|██████████| 288/288 [00:27<00:00, 10.64it/s]\n"
     ]
    },
    {
     "name": "stdout",
     "output_type": "stream",
     "text": [
      "Loss1: 1.1018, Loss2: 0.4533, Loss3: 2.2854\n"
     ]
    },
    {
     "name": "stderr",
     "output_type": "stream",
     "text": [
      "Test_Loader: 100%|██████████| 288/288 [00:28<00:00, 10.14it/s]\n"
     ]
    },
    {
     "name": "stdout",
     "output_type": "stream",
     "text": [
      "Loss1: 1.0539, Loss2: 0.4521, Loss3: 2.2856\n"
     ]
    },
    {
     "name": "stderr",
     "output_type": "stream",
     "text": [
      "Test_Loader: 100%|██████████| 288/288 [00:27<00:00, 10.53it/s]\n"
     ]
    },
    {
     "name": "stdout",
     "output_type": "stream",
     "text": [
      "Loss1: 1.2158, Loss2: 0.5007, Loss3: 2.3429\n"
     ]
    },
    {
     "name": "stderr",
     "output_type": "stream",
     "text": [
      "Test_Loader: 100%|██████████| 288/288 [00:27<00:00, 10.29it/s]\n"
     ]
    },
    {
     "name": "stdout",
     "output_type": "stream",
     "text": [
      "Loss1: 1.2106, Loss2: 0.5148, Loss3: 2.4230\n"
     ]
    },
    {
     "name": "stderr",
     "output_type": "stream",
     "text": [
      "Test_Loader: 100%|██████████| 288/288 [00:27<00:00, 10.36it/s]\n"
     ]
    },
    {
     "name": "stdout",
     "output_type": "stream",
     "text": [
      "Loss1: 1.2116, Loss2: 0.5119, Loss3: 2.3822\n"
     ]
    },
    {
     "name": "stderr",
     "output_type": "stream",
     "text": [
      "Test_Loader: 100%|██████████| 288/288 [00:27<00:00, 10.65it/s]\n"
     ]
    },
    {
     "name": "stdout",
     "output_type": "stream",
     "text": [
      "Loss1: 1.1796, Loss2: 0.5066, Loss3: 2.3850\n"
     ]
    },
    {
     "name": "stderr",
     "output_type": "stream",
     "text": [
      "Test_Loader: 100%|██████████| 288/288 [00:26<00:00, 10.75it/s]\n"
     ]
    },
    {
     "name": "stdout",
     "output_type": "stream",
     "text": [
      "Loss1: 1.1266, Loss2: 0.4779, Loss3: 2.1962\n"
     ]
    },
    {
     "name": "stderr",
     "output_type": "stream",
     "text": [
      "Test_Loader: 100%|██████████| 288/288 [00:26<00:00, 10.70it/s]\n"
     ]
    },
    {
     "name": "stdout",
     "output_type": "stream",
     "text": [
      "Loss1: 1.1276, Loss2: 0.4675, Loss3: 2.1673\n"
     ]
    },
    {
     "name": "stderr",
     "output_type": "stream",
     "text": [
      "Test_Loader: 100%|██████████| 288/288 [00:26<00:00, 10.78it/s]\n"
     ]
    },
    {
     "name": "stdout",
     "output_type": "stream",
     "text": [
      "Loss1: 1.1539, Loss2: 0.4876, Loss3: 2.2043\n"
     ]
    },
    {
     "name": "stderr",
     "output_type": "stream",
     "text": [
      "Test_Loader: 100%|██████████| 288/288 [00:26<00:00, 10.71it/s]\n"
     ]
    },
    {
     "name": "stdout",
     "output_type": "stream",
     "text": [
      "Loss1: 1.1018, Loss2: 0.4610, Loss3: 2.1970\n"
     ]
    },
    {
     "name": "stderr",
     "output_type": "stream",
     "text": [
      "Test_Loader: 100%|██████████| 288/288 [00:28<00:00, 10.09it/s]\n"
     ]
    },
    {
     "name": "stdout",
     "output_type": "stream",
     "text": [
      "Loss1: 1.1053, Loss2: 0.4836, Loss3: 2.1949\n"
     ]
    },
    {
     "name": "stderr",
     "output_type": "stream",
     "text": [
      "Test_Loader: 100%|██████████| 288/288 [00:28<00:00, 10.23it/s]\n"
     ]
    },
    {
     "name": "stdout",
     "output_type": "stream",
     "text": [
      "Loss1: 1.1423, Loss2: 0.4730, Loss3: 2.2751\n"
     ]
    },
    {
     "name": "stderr",
     "output_type": "stream",
     "text": [
      "Test_Loader: 100%|██████████| 288/288 [00:27<00:00, 10.34it/s]\n"
     ]
    },
    {
     "name": "stdout",
     "output_type": "stream",
     "text": [
      "Loss1: 1.1431, Loss2: 0.4616, Loss3: 2.2476\n"
     ]
    },
    {
     "name": "stderr",
     "output_type": "stream",
     "text": [
      "Test_Loader: 100%|██████████| 288/288 [00:27<00:00, 10.54it/s]\n"
     ]
    },
    {
     "name": "stdout",
     "output_type": "stream",
     "text": [
      "Loss1: 1.1339, Loss2: 0.4535, Loss3: 2.2015\n"
     ]
    },
    {
     "name": "stderr",
     "output_type": "stream",
     "text": [
      "Test_Loader: 100%|██████████| 288/288 [00:27<00:00, 10.52it/s]\n"
     ]
    },
    {
     "name": "stdout",
     "output_type": "stream",
     "text": [
      "Loss1: 1.1335, Loss2: 0.4647, Loss3: 2.2037\n"
     ]
    },
    {
     "name": "stderr",
     "output_type": "stream",
     "text": [
      "Test_Loader: 100%|██████████| 288/288 [00:27<00:00, 10.37it/s]\n"
     ]
    },
    {
     "name": "stdout",
     "output_type": "stream",
     "text": [
      "Loss1: 1.1121, Loss2: 0.4677, Loss3: 2.2175\n"
     ]
    },
    {
     "name": "stderr",
     "output_type": "stream",
     "text": [
      "Test_Loader: 100%|██████████| 288/288 [00:28<00:00, 10.20it/s]\n"
     ]
    },
    {
     "name": "stdout",
     "output_type": "stream",
     "text": [
      "Loss1: 1.0931, Loss2: 0.4496, Loss3: 2.1699\n"
     ]
    },
    {
     "name": "stderr",
     "output_type": "stream",
     "text": [
      "Test_Loader: 100%|██████████| 288/288 [00:27<00:00, 10.33it/s]\n"
     ]
    },
    {
     "name": "stdout",
     "output_type": "stream",
     "text": [
      "Loss1: 1.0847, Loss2: 0.4509, Loss3: 2.1923\n"
     ]
    },
    {
     "name": "stderr",
     "output_type": "stream",
     "text": [
      "Test_Loader: 100%|██████████| 288/288 [00:27<00:00, 10.36it/s]\n"
     ]
    },
    {
     "name": "stdout",
     "output_type": "stream",
     "text": [
      "Loss1: 1.1151, Loss2: 0.4414, Loss3: 2.1708\n"
     ]
    },
    {
     "name": "stderr",
     "output_type": "stream",
     "text": [
      "Test_Loader: 100%|██████████| 288/288 [00:28<00:00, 10.19it/s]\n"
     ]
    },
    {
     "name": "stdout",
     "output_type": "stream",
     "text": [
      "Loss1: 1.1097, Loss2: 0.4443, Loss3: 2.1487\n"
     ]
    },
    {
     "name": "stderr",
     "output_type": "stream",
     "text": [
      "Test_Loader: 100%|██████████| 288/288 [00:27<00:00, 10.49it/s]\n"
     ]
    },
    {
     "name": "stdout",
     "output_type": "stream",
     "text": [
      "Loss1: 1.0974, Loss2: 0.4392, Loss3: 2.1356\n"
     ]
    },
    {
     "name": "stderr",
     "output_type": "stream",
     "text": [
      "Test_Loader: 100%|██████████| 288/288 [00:27<00:00, 10.63it/s]\n"
     ]
    },
    {
     "name": "stdout",
     "output_type": "stream",
     "text": [
      "Loss1: 1.0975, Loss2: 0.4510, Loss3: 2.1203\n"
     ]
    },
    {
     "name": "stderr",
     "output_type": "stream",
     "text": [
      "Test_Loader: 100%|██████████| 288/288 [00:26<00:00, 10.74it/s]\n"
     ]
    },
    {
     "name": "stdout",
     "output_type": "stream",
     "text": [
      "Loss1: 1.0916, Loss2: 0.4351, Loss3: 2.0973\n"
     ]
    },
    {
     "name": "stderr",
     "output_type": "stream",
     "text": [
      "Test_Loader: 100%|██████████| 288/288 [00:29<00:00,  9.88it/s]\n"
     ]
    },
    {
     "name": "stdout",
     "output_type": "stream",
     "text": [
      "Loss1: 1.0598, Loss2: 0.4180, Loss3: 1.9803\n"
     ]
    },
    {
     "name": "stderr",
     "output_type": "stream",
     "text": [
      "Test_Loader: 100%|██████████| 288/288 [00:27<00:00, 10.40it/s]\n"
     ]
    },
    {
     "name": "stdout",
     "output_type": "stream",
     "text": [
      "Loss1: 1.0633, Loss2: 0.4080, Loss3: 2.0023\n"
     ]
    },
    {
     "name": "stderr",
     "output_type": "stream",
     "text": [
      "Test_Loader: 100%|██████████| 288/288 [00:27<00:00, 10.33it/s]\n"
     ]
    },
    {
     "name": "stdout",
     "output_type": "stream",
     "text": [
      "Loss1: 1.0704, Loss2: 0.4152, Loss3: 1.9682\n"
     ]
    },
    {
     "name": "stderr",
     "output_type": "stream",
     "text": [
      "Test_Loader: 100%|██████████| 288/288 [00:27<00:00, 10.54it/s]\n"
     ]
    },
    {
     "name": "stdout",
     "output_type": "stream",
     "text": [
      "Loss1: 1.0569, Loss2: 0.4102, Loss3: 1.9792\n"
     ]
    },
    {
     "name": "stderr",
     "output_type": "stream",
     "text": [
      "Test_Loader: 100%|██████████| 288/288 [00:27<00:00, 10.56it/s]\n"
     ]
    },
    {
     "name": "stdout",
     "output_type": "stream",
     "text": [
      "Loss1: 1.0630, Loss2: 0.4149, Loss3: 2.0495\n"
     ]
    },
    {
     "name": "stderr",
     "output_type": "stream",
     "text": [
      "Test_Loader: 100%|██████████| 288/288 [00:26<00:00, 10.70it/s]\n"
     ]
    },
    {
     "name": "stdout",
     "output_type": "stream",
     "text": [
      "Loss1: 1.0371, Loss2: 0.4054, Loss3: 1.9955\n"
     ]
    },
    {
     "name": "stderr",
     "output_type": "stream",
     "text": [
      "Test_Loader: 100%|██████████| 288/288 [00:26<00:00, 10.71it/s]\n"
     ]
    },
    {
     "name": "stdout",
     "output_type": "stream",
     "text": [
      "Loss1: 1.0286, Loss2: 0.4073, Loss3: 1.9738\n"
     ]
    },
    {
     "name": "stderr",
     "output_type": "stream",
     "text": [
      "Test_Loader: 100%|██████████| 288/288 [00:27<00:00, 10.32it/s]\n"
     ]
    },
    {
     "name": "stdout",
     "output_type": "stream",
     "text": [
      "Loss1: 0.9969, Loss2: 0.3974, Loss3: 1.9519\n"
     ]
    },
    {
     "name": "stderr",
     "output_type": "stream",
     "text": [
      "Test_Loader: 100%|██████████| 288/288 [00:27<00:00, 10.33it/s]\n"
     ]
    },
    {
     "name": "stdout",
     "output_type": "stream",
     "text": [
      "Loss1: 1.0049, Loss2: 0.4046, Loss3: 1.9438\n"
     ]
    },
    {
     "name": "stderr",
     "output_type": "stream",
     "text": [
      "Test_Loader: 100%|██████████| 288/288 [00:28<00:00, 10.02it/s]\n"
     ]
    },
    {
     "name": "stdout",
     "output_type": "stream",
     "text": [
      "Loss1: 0.9892, Loss2: 0.3888, Loss3: 1.9312\n"
     ]
    },
    {
     "name": "stderr",
     "output_type": "stream",
     "text": [
      "Test_Loader: 100%|██████████| 288/288 [00:28<00:00, 10.28it/s]\n"
     ]
    },
    {
     "name": "stdout",
     "output_type": "stream",
     "text": [
      "Loss1: 0.9831, Loss2: 0.3859, Loss3: 1.8898\n"
     ]
    },
    {
     "name": "stderr",
     "output_type": "stream",
     "text": [
      "Test_Loader: 100%|██████████| 288/288 [00:28<00:00, 10.01it/s]\n"
     ]
    },
    {
     "name": "stdout",
     "output_type": "stream",
     "text": [
      "Loss1: 0.9679, Loss2: 0.3855, Loss3: 1.9344\n"
     ]
    },
    {
     "name": "stderr",
     "output_type": "stream",
     "text": [
      "Test_Loader: 100%|██████████| 288/288 [00:28<00:00, 10.28it/s]\n"
     ]
    },
    {
     "name": "stdout",
     "output_type": "stream",
     "text": [
      "Loss1: 1.0506, Loss2: 0.4053, Loss3: 2.0975\n"
     ]
    },
    {
     "name": "stderr",
     "output_type": "stream",
     "text": [
      "Test_Loader: 100%|██████████| 288/288 [00:29<00:00,  9.66it/s]\n"
     ]
    },
    {
     "name": "stdout",
     "output_type": "stream",
     "text": [
      "Loss1: 1.0198, Loss2: 0.3841, Loss3: 1.9575\n"
     ]
    },
    {
     "name": "stderr",
     "output_type": "stream",
     "text": [
      "Test_Loader: 100%|██████████| 288/288 [00:28<00:00, 10.17it/s]\n"
     ]
    },
    {
     "name": "stdout",
     "output_type": "stream",
     "text": [
      "Loss1: 1.0026, Loss2: 0.3970, Loss3: 1.9640\n"
     ]
    },
    {
     "name": "stderr",
     "output_type": "stream",
     "text": [
      "Test_Loader: 100%|██████████| 288/288 [00:28<00:00, 10.22it/s]\n"
     ]
    },
    {
     "name": "stdout",
     "output_type": "stream",
     "text": [
      "Loss1: 0.9846, Loss2: 0.3819, Loss3: 1.9240\n"
     ]
    },
    {
     "name": "stderr",
     "output_type": "stream",
     "text": [
      "Test_Loader: 100%|██████████| 288/288 [00:25<00:00, 11.14it/s]\n"
     ]
    },
    {
     "name": "stdout",
     "output_type": "stream",
     "text": [
      "Loss1: 0.9702, Loss2: 0.3790, Loss3: 1.9073\n"
     ]
    },
    {
     "name": "stderr",
     "output_type": "stream",
     "text": [
      "Test_Loader: 100%|██████████| 288/288 [00:25<00:00, 11.28it/s]\n"
     ]
    },
    {
     "name": "stdout",
     "output_type": "stream",
     "text": [
      "Loss1: 0.9823, Loss2: 0.3829, Loss3: 1.9011\n"
     ]
    },
    {
     "name": "stderr",
     "output_type": "stream",
     "text": [
      "Test_Loader: 100%|██████████| 288/288 [00:25<00:00, 11.23it/s]\n"
     ]
    },
    {
     "name": "stdout",
     "output_type": "stream",
     "text": [
      "Loss1: 0.9947, Loss2: 0.3990, Loss3: 1.9178\n"
     ]
    },
    {
     "name": "stderr",
     "output_type": "stream",
     "text": [
      "Test_Loader: 100%|██████████| 288/288 [00:26<00:00, 10.99it/s]\n"
     ]
    },
    {
     "name": "stdout",
     "output_type": "stream",
     "text": [
      "Loss1: 0.9867, Loss2: 0.3964, Loss3: 1.9111\n"
     ]
    },
    {
     "name": "stderr",
     "output_type": "stream",
     "text": [
      "Test_Loader: 100%|██████████| 288/288 [00:26<00:00, 10.82it/s]\n"
     ]
    },
    {
     "name": "stdout",
     "output_type": "stream",
     "text": [
      "Loss1: 0.9712, Loss2: 0.3997, Loss3: 1.9083\n"
     ]
    },
    {
     "name": "stderr",
     "output_type": "stream",
     "text": [
      "Test_Loader: 100%|██████████| 288/288 [00:26<00:00, 10.84it/s]\n"
     ]
    },
    {
     "name": "stdout",
     "output_type": "stream",
     "text": [
      "Loss1: 0.9708, Loss2: 0.3922, Loss3: 1.9385\n"
     ]
    },
    {
     "name": "stderr",
     "output_type": "stream",
     "text": [
      "Test_Loader: 100%|██████████| 288/288 [00:26<00:00, 10.84it/s]\n"
     ]
    },
    {
     "name": "stdout",
     "output_type": "stream",
     "text": [
      "Loss1: 0.9743, Loss2: 0.3965, Loss3: 1.9388\n"
     ]
    },
    {
     "name": "stderr",
     "output_type": "stream",
     "text": [
      "Test_Loader: 100%|██████████| 288/288 [00:25<00:00, 11.12it/s]\n"
     ]
    },
    {
     "name": "stdout",
     "output_type": "stream",
     "text": [
      "Loss1: 0.9484, Loss2: 0.3939, Loss3: 1.8809\n"
     ]
    },
    {
     "name": "stderr",
     "output_type": "stream",
     "text": [
      "Test_Loader: 100%|██████████| 288/288 [00:25<00:00, 11.17it/s]\n"
     ]
    },
    {
     "name": "stdout",
     "output_type": "stream",
     "text": [
      "Loss1: 1.0220, Loss2: 0.4954, Loss3: 2.3812\n"
     ]
    },
    {
     "name": "stderr",
     "output_type": "stream",
     "text": [
      "Test_Loader: 100%|██████████| 288/288 [00:25<00:00, 11.15it/s]\n"
     ]
    },
    {
     "name": "stdout",
     "output_type": "stream",
     "text": [
      "Loss1: 1.0052, Loss2: 0.4974, Loss3: 2.3436\n"
     ]
    },
    {
     "name": "stderr",
     "output_type": "stream",
     "text": [
      "Test_Loader: 100%|██████████| 288/288 [00:25<00:00, 11.28it/s]\n"
     ]
    },
    {
     "name": "stdout",
     "output_type": "stream",
     "text": [
      "Loss1: 1.0161, Loss2: 0.4915, Loss3: 2.2831\n"
     ]
    },
    {
     "name": "stderr",
     "output_type": "stream",
     "text": [
      "Test_Loader: 100%|██████████| 288/288 [00:27<00:00, 10.63it/s]\n"
     ]
    },
    {
     "name": "stdout",
     "output_type": "stream",
     "text": [
      "Loss1: 1.0292, Loss2: 0.4905, Loss3: 2.3468\n"
     ]
    },
    {
     "name": "stderr",
     "output_type": "stream",
     "text": [
      "Test_Loader: 100%|██████████| 288/288 [00:25<00:00, 11.30it/s]\n"
     ]
    },
    {
     "name": "stdout",
     "output_type": "stream",
     "text": [
      "Loss1: 1.0011, Loss2: 0.4841, Loss3: 2.3324\n"
     ]
    },
    {
     "name": "stderr",
     "output_type": "stream",
     "text": [
      "Test_Loader: 100%|██████████| 288/288 [00:25<00:00, 11.26it/s]\n"
     ]
    },
    {
     "name": "stdout",
     "output_type": "stream",
     "text": [
      "Loss1: 1.0180, Loss2: 0.4863, Loss3: 2.3354\n"
     ]
    },
    {
     "name": "stderr",
     "output_type": "stream",
     "text": [
      "Test_Loader: 100%|██████████| 288/288 [00:25<00:00, 11.10it/s]\n"
     ]
    },
    {
     "name": "stdout",
     "output_type": "stream",
     "text": [
      "Loss1: 1.0849, Loss2: 0.4863, Loss3: 2.3210\n"
     ]
    },
    {
     "name": "stderr",
     "output_type": "stream",
     "text": [
      "Test_Loader: 100%|██████████| 288/288 [00:26<00:00, 11.08it/s]\n"
     ]
    },
    {
     "name": "stdout",
     "output_type": "stream",
     "text": [
      "Loss1: 1.0827, Loss2: 0.4843, Loss3: 2.3176\n"
     ]
    },
    {
     "name": "stderr",
     "output_type": "stream",
     "text": [
      "Test_Loader: 100%|██████████| 288/288 [00:26<00:00, 10.85it/s]\n"
     ]
    },
    {
     "name": "stdout",
     "output_type": "stream",
     "text": [
      "Loss1: 1.0430, Loss2: 0.4680, Loss3: 2.2872\n"
     ]
    },
    {
     "name": "stderr",
     "output_type": "stream",
     "text": [
      "Test_Loader: 100%|██████████| 288/288 [00:25<00:00, 11.10it/s]\n"
     ]
    },
    {
     "name": "stdout",
     "output_type": "stream",
     "text": [
      "Loss1: 1.0709, Loss2: 0.4757, Loss3: 2.2648\n"
     ]
    },
    {
     "name": "stderr",
     "output_type": "stream",
     "text": [
      "Test_Loader: 100%|██████████| 288/288 [00:26<00:00, 11.03it/s]\n"
     ]
    },
    {
     "name": "stdout",
     "output_type": "stream",
     "text": [
      "Loss1: 1.0632, Loss2: 0.4649, Loss3: 2.2472\n"
     ]
    },
    {
     "name": "stderr",
     "output_type": "stream",
     "text": [
      "Test_Loader: 100%|██████████| 288/288 [00:25<00:00, 11.11it/s]\n"
     ]
    },
    {
     "name": "stdout",
     "output_type": "stream",
     "text": [
      "Loss1: 1.2646, Loss2: 0.5457, Loss3: 2.4206\n"
     ]
    },
    {
     "name": "stderr",
     "output_type": "stream",
     "text": [
      "Test_Loader: 100%|██████████| 288/288 [00:26<00:00, 10.91it/s]\n"
     ]
    },
    {
     "name": "stdout",
     "output_type": "stream",
     "text": [
      "Loss1: 1.2692, Loss2: 0.5257, Loss3: 2.3869\n"
     ]
    },
    {
     "name": "stderr",
     "output_type": "stream",
     "text": [
      "Test_Loader: 100%|██████████| 288/288 [00:25<00:00, 11.11it/s]\n"
     ]
    },
    {
     "name": "stdout",
     "output_type": "stream",
     "text": [
      "Loss1: 1.1698, Loss2: 0.4889, Loss3: 2.1934\n"
     ]
    },
    {
     "name": "stderr",
     "output_type": "stream",
     "text": [
      "Test_Loader: 100%|██████████| 288/288 [00:25<00:00, 11.22it/s]\n"
     ]
    },
    {
     "name": "stdout",
     "output_type": "stream",
     "text": [
      "Loss1: 1.2291, Loss2: 0.5217, Loss3: 2.1839\n"
     ]
    },
    {
     "name": "stderr",
     "output_type": "stream",
     "text": [
      "Test_Loader: 100%|██████████| 288/288 [00:25<00:00, 11.22it/s]\n"
     ]
    },
    {
     "name": "stdout",
     "output_type": "stream",
     "text": [
      "Loss1: 1.2012, Loss2: 0.5087, Loss3: 2.2127\n"
     ]
    },
    {
     "name": "stderr",
     "output_type": "stream",
     "text": [
      "Test_Loader: 100%|██████████| 288/288 [00:25<00:00, 11.29it/s]\n"
     ]
    },
    {
     "name": "stdout",
     "output_type": "stream",
     "text": [
      "Loss1: 1.1935, Loss2: 0.5036, Loss3: 2.1596\n"
     ]
    },
    {
     "name": "stderr",
     "output_type": "stream",
     "text": [
      "Test_Loader: 100%|██████████| 288/288 [00:26<00:00, 10.91it/s]\n"
     ]
    },
    {
     "name": "stdout",
     "output_type": "stream",
     "text": [
      "Loss1: 1.1683, Loss2: 0.4886, Loss3: 2.1479\n"
     ]
    },
    {
     "name": "stderr",
     "output_type": "stream",
     "text": [
      "Test_Loader: 100%|██████████| 288/288 [00:28<00:00, 10.13it/s]\n"
     ]
    },
    {
     "name": "stdout",
     "output_type": "stream",
     "text": [
      "Loss1: 1.2326, Loss2: 0.4986, Loss3: 2.1510\n"
     ]
    },
    {
     "name": "stderr",
     "output_type": "stream",
     "text": [
      "Test_Loader: 100%|██████████| 288/288 [00:25<00:00, 11.19it/s]\n"
     ]
    },
    {
     "name": "stdout",
     "output_type": "stream",
     "text": [
      "Loss1: 1.2354, Loss2: 0.4873, Loss3: 2.1550\n"
     ]
    },
    {
     "name": "stderr",
     "output_type": "stream",
     "text": [
      "Test_Loader: 100%|██████████| 288/288 [00:25<00:00, 11.41it/s]\n"
     ]
    },
    {
     "name": "stdout",
     "output_type": "stream",
     "text": [
      "Loss1: 1.2071, Loss2: 0.4817, Loss3: 2.1173\n"
     ]
    },
    {
     "name": "stderr",
     "output_type": "stream",
     "text": [
      "Test_Loader: 100%|██████████| 288/288 [00:25<00:00, 11.09it/s]\n"
     ]
    },
    {
     "name": "stdout",
     "output_type": "stream",
     "text": [
      "Loss1: 1.2183, Loss2: 0.4856, Loss3: 2.1189\n"
     ]
    },
    {
     "name": "stderr",
     "output_type": "stream",
     "text": [
      "Test_Loader: 100%|██████████| 288/288 [00:25<00:00, 11.14it/s]\n"
     ]
    },
    {
     "name": "stdout",
     "output_type": "stream",
     "text": [
      "Loss1: 1.1599, Loss2: 0.4454, Loss3: 2.0364\n"
     ]
    },
    {
     "name": "stderr",
     "output_type": "stream",
     "text": [
      "Test_Loader: 100%|██████████| 288/288 [00:25<00:00, 11.18it/s]\n"
     ]
    },
    {
     "name": "stdout",
     "output_type": "stream",
     "text": [
      "Loss1: 1.2228, Loss2: 0.4746, Loss3: 2.1452\n"
     ]
    },
    {
     "name": "stderr",
     "output_type": "stream",
     "text": [
      "Test_Loader: 100%|██████████| 288/288 [00:26<00:00, 11.02it/s]\n"
     ]
    },
    {
     "name": "stdout",
     "output_type": "stream",
     "text": [
      "Loss1: 1.2182, Loss2: 0.4715, Loss3: 2.1475\n"
     ]
    },
    {
     "name": "stderr",
     "output_type": "stream",
     "text": [
      "Test_Loader: 100%|██████████| 288/288 [00:26<00:00, 11.03it/s]\n"
     ]
    },
    {
     "name": "stdout",
     "output_type": "stream",
     "text": [
      "Loss1: 1.1922, Loss2: 0.4458, Loss3: 2.0999\n"
     ]
    },
    {
     "name": "stderr",
     "output_type": "stream",
     "text": [
      "Test_Loader: 100%|██████████| 288/288 [00:26<00:00, 11.03it/s]\n"
     ]
    },
    {
     "name": "stdout",
     "output_type": "stream",
     "text": [
      "Loss1: 1.2236, Loss2: 0.4653, Loss3: 2.1166\n"
     ]
    },
    {
     "name": "stderr",
     "output_type": "stream",
     "text": [
      "Test_Loader: 100%|██████████| 288/288 [00:26<00:00, 10.92it/s]\n"
     ]
    },
    {
     "name": "stdout",
     "output_type": "stream",
     "text": [
      "Loss1: 1.1763, Loss2: 0.4410, Loss3: 2.0970\n"
     ]
    },
    {
     "name": "stderr",
     "output_type": "stream",
     "text": [
      "Test_Loader: 100%|██████████| 288/288 [00:26<00:00, 10.88it/s]\n"
     ]
    },
    {
     "name": "stdout",
     "output_type": "stream",
     "text": [
      "Loss1: 1.1954, Loss2: 0.4566, Loss3: 2.1002\n"
     ]
    },
    {
     "name": "stderr",
     "output_type": "stream",
     "text": [
      "Test_Loader: 100%|██████████| 288/288 [00:26<00:00, 10.92it/s]\n"
     ]
    },
    {
     "name": "stdout",
     "output_type": "stream",
     "text": [
      "Loss1: 1.1748, Loss2: 0.4419, Loss3: 2.0427\n"
     ]
    },
    {
     "name": "stderr",
     "output_type": "stream",
     "text": [
      "Test_Loader: 100%|██████████| 288/288 [00:28<00:00, 10.14it/s]\n"
     ]
    },
    {
     "name": "stdout",
     "output_type": "stream",
     "text": [
      "Loss1: 1.2092, Loss2: 0.4606, Loss3: 2.0437\n"
     ]
    },
    {
     "name": "stderr",
     "output_type": "stream",
     "text": [
      "Test_Loader: 100%|██████████| 288/288 [00:29<00:00,  9.74it/s]\n"
     ]
    },
    {
     "name": "stdout",
     "output_type": "stream",
     "text": [
      "Loss1: 1.1781, Loss2: 0.4559, Loss3: 2.0564\n"
     ]
    },
    {
     "name": "stderr",
     "output_type": "stream",
     "text": [
      "Test_Loader: 100%|██████████| 288/288 [00:27<00:00, 10.64it/s]\n"
     ]
    },
    {
     "name": "stdout",
     "output_type": "stream",
     "text": [
      "Loss1: 1.1622, Loss2: 0.4477, Loss3: 2.0172\n"
     ]
    },
    {
     "name": "stderr",
     "output_type": "stream",
     "text": [
      "Test_Loader: 100%|██████████| 288/288 [00:26<00:00, 11.06it/s]\n"
     ]
    },
    {
     "name": "stdout",
     "output_type": "stream",
     "text": [
      "Loss1: 1.1385, Loss2: 0.4296, Loss3: 1.9855\n"
     ]
    },
    {
     "name": "stderr",
     "output_type": "stream",
     "text": [
      "Test_Loader: 100%|██████████| 288/288 [00:25<00:00, 11.22it/s]\n"
     ]
    },
    {
     "name": "stdout",
     "output_type": "stream",
     "text": [
      "Loss1: 1.1695, Loss2: 0.4580, Loss3: 2.0191\n"
     ]
    },
    {
     "name": "stderr",
     "output_type": "stream",
     "text": [
      "Test_Loader: 100%|██████████| 288/288 [00:25<00:00, 11.24it/s]\n"
     ]
    },
    {
     "name": "stdout",
     "output_type": "stream",
     "text": [
      "Loss1: 1.1411, Loss2: 0.4463, Loss3: 1.9923\n"
     ]
    },
    {
     "name": "stderr",
     "output_type": "stream",
     "text": [
      "Test_Loader: 100%|██████████| 288/288 [00:25<00:00, 11.16it/s]\n"
     ]
    },
    {
     "name": "stdout",
     "output_type": "stream",
     "text": [
      "Loss1: 1.1207, Loss2: 0.4304, Loss3: 1.9653\n"
     ]
    },
    {
     "name": "stderr",
     "output_type": "stream",
     "text": [
      "Test_Loader: 100%|██████████| 288/288 [00:25<00:00, 11.08it/s]\n"
     ]
    },
    {
     "name": "stdout",
     "output_type": "stream",
     "text": [
      "Loss1: 1.0785, Loss2: 0.4068, Loss3: 1.9436\n"
     ]
    },
    {
     "name": "stderr",
     "output_type": "stream",
     "text": [
      "Test_Loader: 100%|██████████| 288/288 [00:26<00:00, 11.05it/s]\n"
     ]
    },
    {
     "name": "stdout",
     "output_type": "stream",
     "text": [
      "Loss1: 1.0996, Loss2: 0.4306, Loss3: 1.9872\n"
     ]
    },
    {
     "name": "stderr",
     "output_type": "stream",
     "text": [
      "Test_Loader: 100%|██████████| 288/288 [00:26<00:00, 10.93it/s]\n"
     ]
    },
    {
     "name": "stdout",
     "output_type": "stream",
     "text": [
      "Loss1: 1.1114, Loss2: 0.4282, Loss3: 1.9669\n"
     ]
    },
    {
     "name": "stderr",
     "output_type": "stream",
     "text": [
      "Test_Loader: 100%|██████████| 288/288 [00:25<00:00, 11.24it/s]\n"
     ]
    },
    {
     "name": "stdout",
     "output_type": "stream",
     "text": [
      "Loss1: 1.0854, Loss2: 0.4141, Loss3: 1.9389\n"
     ]
    },
    {
     "name": "stderr",
     "output_type": "stream",
     "text": [
      "Test_Loader: 100%|██████████| 288/288 [00:25<00:00, 11.09it/s]\n"
     ]
    },
    {
     "name": "stdout",
     "output_type": "stream",
     "text": [
      "Loss1: 1.0899, Loss2: 0.4131, Loss3: 1.9426\n"
     ]
    },
    {
     "name": "stderr",
     "output_type": "stream",
     "text": [
      "Test_Loader: 100%|██████████| 288/288 [00:25<00:00, 11.13it/s]\n"
     ]
    },
    {
     "name": "stdout",
     "output_type": "stream",
     "text": [
      "Loss1: 1.0718, Loss2: 0.4013, Loss3: 1.9130\n"
     ]
    },
    {
     "name": "stderr",
     "output_type": "stream",
     "text": [
      "Test_Loader: 100%|██████████| 288/288 [00:25<00:00, 11.16it/s]\n"
     ]
    },
    {
     "name": "stdout",
     "output_type": "stream",
     "text": [
      "Loss1: 1.0711, Loss2: 0.4059, Loss3: 1.9202\n"
     ]
    },
    {
     "name": "stderr",
     "output_type": "stream",
     "text": [
      "Test_Loader: 100%|██████████| 288/288 [00:29<00:00,  9.90it/s]\n"
     ]
    },
    {
     "name": "stdout",
     "output_type": "stream",
     "text": [
      "Loss1: 1.0703, Loss2: 0.3974, Loss3: 1.9530\n"
     ]
    },
    {
     "name": "stderr",
     "output_type": "stream",
     "text": [
      "Test_Loader: 100%|██████████| 288/288 [00:27<00:00, 10.51it/s]\n"
     ]
    },
    {
     "name": "stdout",
     "output_type": "stream",
     "text": [
      "Loss1: 1.1019, Loss2: 0.4174, Loss3: 1.9617\n"
     ]
    },
    {
     "name": "stderr",
     "output_type": "stream",
     "text": [
      "Test_Loader: 100%|██████████| 288/288 [00:25<00:00, 11.32it/s]\n"
     ]
    },
    {
     "name": "stdout",
     "output_type": "stream",
     "text": [
      "Loss1: 1.0873, Loss2: 0.4167, Loss3: 1.9740\n"
     ]
    },
    {
     "name": "stderr",
     "output_type": "stream",
     "text": [
      "Test_Loader: 100%|██████████| 288/288 [00:25<00:00, 11.25it/s]\n"
     ]
    },
    {
     "name": "stdout",
     "output_type": "stream",
     "text": [
      "Loss1: 1.0626, Loss2: 0.3928, Loss3: 1.9085\n"
     ]
    },
    {
     "name": "stderr",
     "output_type": "stream",
     "text": [
      "Test_Loader: 100%|██████████| 288/288 [00:26<00:00, 10.87it/s]\n"
     ]
    },
    {
     "name": "stdout",
     "output_type": "stream",
     "text": [
      "Loss1: 1.0415, Loss2: 0.3823, Loss3: 1.9262\n"
     ]
    },
    {
     "name": "stderr",
     "output_type": "stream",
     "text": [
      "Test_Loader: 100%|██████████| 288/288 [00:26<00:00, 11.00it/s]\n"
     ]
    },
    {
     "name": "stdout",
     "output_type": "stream",
     "text": [
      "Loss1: 1.0406, Loss2: 0.3856, Loss3: 1.8836\n"
     ]
    },
    {
     "name": "stderr",
     "output_type": "stream",
     "text": [
      "Test_Loader: 100%|██████████| 288/288 [00:25<00:00, 11.13it/s]\n"
     ]
    },
    {
     "name": "stdout",
     "output_type": "stream",
     "text": [
      "Loss1: 1.0455, Loss2: 0.3772, Loss3: 1.8751\n"
     ]
    },
    {
     "name": "stderr",
     "output_type": "stream",
     "text": [
      "Test_Loader: 100%|██████████| 288/288 [00:26<00:00, 11.02it/s]\n"
     ]
    },
    {
     "name": "stdout",
     "output_type": "stream",
     "text": [
      "Loss1: 0.9046, Loss2: 0.3608, Loss3: 1.8603\n"
     ]
    },
    {
     "name": "stderr",
     "output_type": "stream",
     "text": [
      "Test_Loader: 100%|██████████| 288/288 [00:25<00:00, 11.09it/s]\n"
     ]
    },
    {
     "name": "stdout",
     "output_type": "stream",
     "text": [
      "Loss1: 0.8827, Loss2: 0.3549, Loss3: 1.8171\n"
     ]
    },
    {
     "name": "stderr",
     "output_type": "stream",
     "text": [
      "Test_Loader: 100%|██████████| 288/288 [00:26<00:00, 10.96it/s]\n"
     ]
    },
    {
     "name": "stdout",
     "output_type": "stream",
     "text": [
      "Loss1: 0.8763, Loss2: 0.3519, Loss3: 1.8031\n"
     ]
    },
    {
     "name": "stderr",
     "output_type": "stream",
     "text": [
      "Test_Loader: 100%|██████████| 288/288 [00:25<00:00, 11.16it/s]\n"
     ]
    },
    {
     "name": "stdout",
     "output_type": "stream",
     "text": [
      "Loss1: 0.8500, Loss2: 0.3331, Loss3: 1.7372\n"
     ]
    },
    {
     "name": "stderr",
     "output_type": "stream",
     "text": [
      "Test_Loader: 100%|██████████| 288/288 [00:25<00:00, 11.18it/s]\n"
     ]
    },
    {
     "name": "stdout",
     "output_type": "stream",
     "text": [
      "Loss1: 0.8799, Loss2: 0.3510, Loss3: 1.7777\n"
     ]
    },
    {
     "name": "stderr",
     "output_type": "stream",
     "text": [
      "Test_Loader: 100%|██████████| 288/288 [00:25<00:00, 11.24it/s]\n"
     ]
    },
    {
     "name": "stdout",
     "output_type": "stream",
     "text": [
      "Loss1: 0.8645, Loss2: 0.3452, Loss3: 1.7488\n"
     ]
    },
    {
     "name": "stderr",
     "output_type": "stream",
     "text": [
      "Test_Loader: 100%|██████████| 288/288 [00:26<00:00, 11.07it/s]\n"
     ]
    },
    {
     "name": "stdout",
     "output_type": "stream",
     "text": [
      "Loss1: 0.8299, Loss2: 0.3181, Loss3: 1.6553\n"
     ]
    },
    {
     "name": "stderr",
     "output_type": "stream",
     "text": [
      "Test_Loader: 100%|██████████| 288/288 [00:28<00:00,  9.99it/s]\n"
     ]
    },
    {
     "name": "stdout",
     "output_type": "stream",
     "text": [
      "Loss1: 0.8158, Loss2: 0.3180, Loss3: 1.7003\n"
     ]
    },
    {
     "name": "stderr",
     "output_type": "stream",
     "text": [
      "Test_Loader: 100%|██████████| 288/288 [00:28<00:00, 10.28it/s]\n"
     ]
    },
    {
     "name": "stdout",
     "output_type": "stream",
     "text": [
      "Loss1: 0.8391, Loss2: 0.3302, Loss3: 1.6467\n"
     ]
    },
    {
     "name": "stderr",
     "output_type": "stream",
     "text": [
      "Test_Loader: 100%|██████████| 288/288 [00:25<00:00, 11.35it/s]\n"
     ]
    },
    {
     "name": "stdout",
     "output_type": "stream",
     "text": [
      "Loss1: 0.8004, Loss2: 0.3057, Loss3: 1.6228\n"
     ]
    },
    {
     "name": "stderr",
     "output_type": "stream",
     "text": [
      "Test_Loader: 100%|██████████| 288/288 [00:25<00:00, 11.29it/s]\n"
     ]
    },
    {
     "name": "stdout",
     "output_type": "stream",
     "text": [
      "Loss1: 0.7920, Loss2: 0.3067, Loss3: 1.5879\n"
     ]
    },
    {
     "name": "stderr",
     "output_type": "stream",
     "text": [
      "Test_Loader: 100%|██████████| 288/288 [00:25<00:00, 11.46it/s]\n"
     ]
    },
    {
     "name": "stdout",
     "output_type": "stream",
     "text": [
      "Loss1: 0.8272, Loss2: 0.3199, Loss3: 1.6364\n"
     ]
    },
    {
     "name": "stderr",
     "output_type": "stream",
     "text": [
      "Test_Loader: 100%|██████████| 288/288 [00:26<00:00, 11.01it/s]\n"
     ]
    },
    {
     "name": "stdout",
     "output_type": "stream",
     "text": [
      "Loss1: 0.7772, Loss2: 0.3058, Loss3: 1.6218\n"
     ]
    },
    {
     "name": "stderr",
     "output_type": "stream",
     "text": [
      "Test_Loader: 100%|██████████| 288/288 [00:25<00:00, 11.10it/s]\n"
     ]
    },
    {
     "name": "stdout",
     "output_type": "stream",
     "text": [
      "Loss1: 0.8052, Loss2: 0.3113, Loss3: 1.6061\n"
     ]
    },
    {
     "name": "stderr",
     "output_type": "stream",
     "text": [
      "Test_Loader: 100%|██████████| 288/288 [00:25<00:00, 11.14it/s]\n"
     ]
    },
    {
     "name": "stdout",
     "output_type": "stream",
     "text": [
      "Loss1: 0.8390, Loss2: 0.3317, Loss3: 1.7056\n"
     ]
    },
    {
     "name": "stderr",
     "output_type": "stream",
     "text": [
      "Test_Loader: 100%|██████████| 288/288 [00:26<00:00, 10.95it/s]\n"
     ]
    },
    {
     "name": "stdout",
     "output_type": "stream",
     "text": [
      "Loss1: 0.8219, Loss2: 0.3177, Loss3: 1.7058\n"
     ]
    },
    {
     "name": "stderr",
     "output_type": "stream",
     "text": [
      "Test_Loader: 100%|██████████| 288/288 [00:26<00:00, 10.96it/s]\n"
     ]
    },
    {
     "name": "stdout",
     "output_type": "stream",
     "text": [
      "Loss1: 0.8250, Loss2: 0.3270, Loss3: 1.7262\n"
     ]
    },
    {
     "name": "stderr",
     "output_type": "stream",
     "text": [
      "Test_Loader: 100%|██████████| 288/288 [00:26<00:00, 10.90it/s]\n"
     ]
    },
    {
     "name": "stdout",
     "output_type": "stream",
     "text": [
      "Loss1: 0.8017, Loss2: 0.3122, Loss3: 1.6982\n"
     ]
    },
    {
     "name": "stderr",
     "output_type": "stream",
     "text": [
      "Test_Loader: 100%|██████████| 288/288 [00:26<00:00, 11.01it/s]\n"
     ]
    },
    {
     "name": "stdout",
     "output_type": "stream",
     "text": [
      "Loss1: 0.8305, Loss2: 0.3228, Loss3: 1.7003\n"
     ]
    },
    {
     "name": "stderr",
     "output_type": "stream",
     "text": [
      "Test_Loader: 100%|██████████| 288/288 [00:26<00:00, 10.98it/s]\n"
     ]
    },
    {
     "name": "stdout",
     "output_type": "stream",
     "text": [
      "Loss1: 0.7999, Loss2: 0.3098, Loss3: 1.6842\n"
     ]
    },
    {
     "name": "stderr",
     "output_type": "stream",
     "text": [
      "Test_Loader: 100%|██████████| 288/288 [00:27<00:00, 10.61it/s]\n"
     ]
    },
    {
     "name": "stdout",
     "output_type": "stream",
     "text": [
      "Loss1: 0.8195, Loss2: 0.3196, Loss3: 1.6767\n"
     ]
    },
    {
     "name": "stderr",
     "output_type": "stream",
     "text": [
      "Test_Loader: 100%|██████████| 288/288 [00:26<00:00, 10.78it/s]\n"
     ]
    },
    {
     "name": "stdout",
     "output_type": "stream",
     "text": [
      "Loss1: 0.7958, Loss2: 0.3030, Loss3: 1.6604\n"
     ]
    },
    {
     "name": "stderr",
     "output_type": "stream",
     "text": [
      "Test_Loader: 100%|██████████| 288/288 [00:26<00:00, 10.81it/s]\n"
     ]
    },
    {
     "name": "stdout",
     "output_type": "stream",
     "text": [
      "Loss1: 0.7925, Loss2: 0.3040, Loss3: 1.6631\n"
     ]
    },
    {
     "name": "stderr",
     "output_type": "stream",
     "text": [
      "Test_Loader: 100%|██████████| 288/288 [00:25<00:00, 11.20it/s]\n"
     ]
    },
    {
     "name": "stdout",
     "output_type": "stream",
     "text": [
      "Loss1: 0.8233, Loss2: 0.3193, Loss3: 1.6810\n"
     ]
    },
    {
     "name": "stderr",
     "output_type": "stream",
     "text": [
      "Test_Loader: 100%|██████████| 288/288 [00:25<00:00, 11.22it/s]\n"
     ]
    },
    {
     "name": "stdout",
     "output_type": "stream",
     "text": [
      "Loss1: 0.8007, Loss2: 0.3102, Loss3: 1.6647\n"
     ]
    },
    {
     "name": "stderr",
     "output_type": "stream",
     "text": [
      "Test_Loader: 100%|██████████| 288/288 [00:26<00:00, 11.02it/s]\n"
     ]
    },
    {
     "name": "stdout",
     "output_type": "stream",
     "text": [
      "Loss1: 0.8093, Loss2: 0.3228, Loss3: 1.6545\n"
     ]
    },
    {
     "name": "stderr",
     "output_type": "stream",
     "text": [
      "Test_Loader: 100%|██████████| 288/288 [00:25<00:00, 11.09it/s]\n"
     ]
    },
    {
     "name": "stdout",
     "output_type": "stream",
     "text": [
      "Loss1: 0.8145, Loss2: 0.3371, Loss3: 1.6482\n"
     ]
    },
    {
     "name": "stderr",
     "output_type": "stream",
     "text": [
      "Test_Loader: 100%|██████████| 288/288 [00:25<00:00, 11.11it/s]\n"
     ]
    },
    {
     "name": "stdout",
     "output_type": "stream",
     "text": [
      "Loss1: 0.8195, Loss2: 0.3423, Loss3: 1.6847\n"
     ]
    },
    {
     "name": "stderr",
     "output_type": "stream",
     "text": [
      "Test_Loader: 100%|██████████| 288/288 [00:26<00:00, 11.01it/s]\n"
     ]
    },
    {
     "name": "stdout",
     "output_type": "stream",
     "text": [
      "Loss1: 0.8064, Loss2: 0.3403, Loss3: 1.6797\n"
     ]
    },
    {
     "name": "stderr",
     "output_type": "stream",
     "text": [
      "Test_Loader: 100%|██████████| 288/288 [00:26<00:00, 10.93it/s]\n"
     ]
    },
    {
     "name": "stdout",
     "output_type": "stream",
     "text": [
      "Loss1: 0.8106, Loss2: 0.3384, Loss3: 1.6570\n"
     ]
    },
    {
     "name": "stderr",
     "output_type": "stream",
     "text": [
      "Test_Loader: 100%|██████████| 288/288 [00:26<00:00, 10.98it/s]\n"
     ]
    },
    {
     "name": "stdout",
     "output_type": "stream",
     "text": [
      "Loss1: 0.8436, Loss2: 0.3888, Loss3: 1.8594\n"
     ]
    },
    {
     "name": "stderr",
     "output_type": "stream",
     "text": [
      "Test_Loader: 100%|██████████| 288/288 [00:26<00:00, 10.88it/s]\n"
     ]
    },
    {
     "name": "stdout",
     "output_type": "stream",
     "text": [
      "Loss1: 0.8294, Loss2: 0.3731, Loss3: 1.7960\n"
     ]
    },
    {
     "name": "stderr",
     "output_type": "stream",
     "text": [
      "Test_Loader: 100%|██████████| 288/288 [00:25<00:00, 11.11it/s]\n"
     ]
    },
    {
     "name": "stdout",
     "output_type": "stream",
     "text": [
      "Loss1: 0.8226, Loss2: 0.3720, Loss3: 1.7906\n"
     ]
    },
    {
     "name": "stderr",
     "output_type": "stream",
     "text": [
      "Test_Loader: 100%|██████████| 288/288 [00:25<00:00, 11.29it/s]\n"
     ]
    },
    {
     "name": "stdout",
     "output_type": "stream",
     "text": [
      "Loss1: 0.8100, Loss2: 0.3731, Loss3: 1.6841\n"
     ]
    },
    {
     "name": "stderr",
     "output_type": "stream",
     "text": [
      "Test_Loader: 100%|██████████| 288/288 [00:29<00:00,  9.92it/s]\n"
     ]
    },
    {
     "name": "stdout",
     "output_type": "stream",
     "text": [
      "Loss1: 0.8026, Loss2: 0.3716, Loss3: 1.7034\n"
     ]
    },
    {
     "name": "stderr",
     "output_type": "stream",
     "text": [
      "Test_Loader: 100%|██████████| 288/288 [00:28<00:00, 10.26it/s]\n"
     ]
    },
    {
     "name": "stdout",
     "output_type": "stream",
     "text": [
      "Loss1: 0.8187, Loss2: 0.3689, Loss3: 1.6632\n"
     ]
    },
    {
     "name": "stderr",
     "output_type": "stream",
     "text": [
      "Test_Loader: 100%|██████████| 288/288 [00:25<00:00, 11.31it/s]\n"
     ]
    },
    {
     "name": "stdout",
     "output_type": "stream",
     "text": [
      "Loss1: 0.7972, Loss2: 0.3602, Loss3: 1.6486\n"
     ]
    },
    {
     "name": "stderr",
     "output_type": "stream",
     "text": [
      "Test_Loader: 100%|██████████| 288/288 [00:25<00:00, 11.22it/s]\n"
     ]
    },
    {
     "name": "stdout",
     "output_type": "stream",
     "text": [
      "Loss1: 0.7976, Loss2: 0.3602, Loss3: 1.6690\n"
     ]
    },
    {
     "name": "stderr",
     "output_type": "stream",
     "text": [
      "Test_Loader: 100%|██████████| 288/288 [00:25<00:00, 11.10it/s]\n"
     ]
    },
    {
     "name": "stdout",
     "output_type": "stream",
     "text": [
      "Loss1: 0.8170, Loss2: 0.3672, Loss3: 1.6628\n"
     ]
    },
    {
     "name": "stderr",
     "output_type": "stream",
     "text": [
      "Test_Loader: 100%|██████████| 288/288 [00:25<00:00, 11.19it/s]\n"
     ]
    },
    {
     "name": "stdout",
     "output_type": "stream",
     "text": [
      "Loss1: 0.7995, Loss2: 0.3664, Loss3: 1.6741\n"
     ]
    },
    {
     "name": "stderr",
     "output_type": "stream",
     "text": [
      "Test_Loader: 100%|██████████| 288/288 [00:26<00:00, 10.89it/s]\n"
     ]
    },
    {
     "name": "stdout",
     "output_type": "stream",
     "text": [
      "Loss1: 0.7955, Loss2: 0.3641, Loss3: 1.6437\n"
     ]
    },
    {
     "name": "stderr",
     "output_type": "stream",
     "text": [
      "Test_Loader: 100%|██████████| 288/288 [00:26<00:00, 10.74it/s]\n"
     ]
    },
    {
     "name": "stdout",
     "output_type": "stream",
     "text": [
      "Loss1: 0.7881, Loss2: 0.3580, Loss3: 1.6221\n"
     ]
    },
    {
     "name": "stderr",
     "output_type": "stream",
     "text": [
      "Test_Loader: 100%|██████████| 288/288 [00:26<00:00, 10.84it/s]\n"
     ]
    },
    {
     "name": "stdout",
     "output_type": "stream",
     "text": [
      "Loss1: 0.7703, Loss2: 0.3455, Loss3: 1.5883\n"
     ]
    },
    {
     "name": "stderr",
     "output_type": "stream",
     "text": [
      "Test_Loader: 100%|██████████| 288/288 [00:26<00:00, 10.70it/s]\n"
     ]
    },
    {
     "name": "stdout",
     "output_type": "stream",
     "text": [
      "Loss1: 0.7838, Loss2: 0.3601, Loss3: 1.6344\n"
     ]
    },
    {
     "name": "stderr",
     "output_type": "stream",
     "text": [
      "Test_Loader: 100%|██████████| 288/288 [00:26<00:00, 10.88it/s]\n"
     ]
    },
    {
     "name": "stdout",
     "output_type": "stream",
     "text": [
      "Loss1: 0.7889, Loss2: 0.3667, Loss3: 1.7182\n"
     ]
    },
    {
     "name": "stderr",
     "output_type": "stream",
     "text": [
      "Test_Loader: 100%|██████████| 288/288 [00:26<00:00, 11.03it/s]\n"
     ]
    },
    {
     "name": "stdout",
     "output_type": "stream",
     "text": [
      "Loss1: 0.7611, Loss2: 0.3395, Loss3: 1.4611\n"
     ]
    },
    {
     "name": "stderr",
     "output_type": "stream",
     "text": [
      "Test_Loader: 100%|██████████| 288/288 [00:26<00:00, 11.02it/s]\n"
     ]
    },
    {
     "name": "stdout",
     "output_type": "stream",
     "text": [
      "Loss1: 0.7315, Loss2: 0.3143, Loss3: 1.4498\n"
     ]
    },
    {
     "name": "stderr",
     "output_type": "stream",
     "text": [
      "Test_Loader: 100%|██████████| 288/288 [00:25<00:00, 11.13it/s]\n"
     ]
    },
    {
     "name": "stdout",
     "output_type": "stream",
     "text": [
      "Loss1: 0.7433, Loss2: 0.3274, Loss3: 1.4686\n"
     ]
    },
    {
     "name": "stderr",
     "output_type": "stream",
     "text": [
      "Test_Loader: 100%|██████████| 288/288 [00:27<00:00, 10.49it/s]\n"
     ]
    },
    {
     "name": "stdout",
     "output_type": "stream",
     "text": [
      "Loss1: 0.7334, Loss2: 0.3174, Loss3: 1.4404\n"
     ]
    },
    {
     "name": "stderr",
     "output_type": "stream",
     "text": [
      "Test_Loader: 100%|██████████| 288/288 [00:28<00:00,  9.94it/s]\n"
     ]
    },
    {
     "name": "stdout",
     "output_type": "stream",
     "text": [
      "Loss1: 0.7467, Loss2: 0.3190, Loss3: 1.4545\n"
     ]
    },
    {
     "name": "stderr",
     "output_type": "stream",
     "text": [
      "Test_Loader: 100%|██████████| 288/288 [00:26<00:00, 11.01it/s]\n"
     ]
    },
    {
     "name": "stdout",
     "output_type": "stream",
     "text": [
      "Loss1: 0.7553, Loss2: 0.3282, Loss3: 1.4441\n"
     ]
    },
    {
     "name": "stderr",
     "output_type": "stream",
     "text": [
      "Test_Loader: 100%|██████████| 288/288 [00:25<00:00, 11.16it/s]\n"
     ]
    },
    {
     "name": "stdout",
     "output_type": "stream",
     "text": [
      "Loss1: 0.7008, Loss2: 0.3077, Loss3: 1.3497\n"
     ]
    },
    {
     "name": "stderr",
     "output_type": "stream",
     "text": [
      "Test_Loader: 100%|██████████| 288/288 [00:26<00:00, 10.69it/s]\n"
     ]
    },
    {
     "name": "stdout",
     "output_type": "stream",
     "text": [
      "Loss1: 0.7066, Loss2: 0.3188, Loss3: 1.4043\n"
     ]
    },
    {
     "name": "stderr",
     "output_type": "stream",
     "text": [
      "Test_Loader: 100%|██████████| 288/288 [00:25<00:00, 11.11it/s]\n"
     ]
    },
    {
     "name": "stdout",
     "output_type": "stream",
     "text": [
      "Loss1: 0.7160, Loss2: 0.3166, Loss3: 1.3678\n"
     ]
    },
    {
     "name": "stderr",
     "output_type": "stream",
     "text": [
      "Test_Loader: 100%|██████████| 288/288 [00:25<00:00, 11.17it/s]\n"
     ]
    },
    {
     "name": "stdout",
     "output_type": "stream",
     "text": [
      "Loss1: 0.7046, Loss2: 0.3106, Loss3: 1.3710\n"
     ]
    },
    {
     "name": "stderr",
     "output_type": "stream",
     "text": [
      "Test_Loader: 100%|██████████| 288/288 [00:26<00:00, 11.06it/s]\n"
     ]
    },
    {
     "name": "stdout",
     "output_type": "stream",
     "text": [
      "Loss1: 0.7026, Loss2: 0.3166, Loss3: 1.3589\n"
     ]
    },
    {
     "name": "stderr",
     "output_type": "stream",
     "text": [
      "Test_Loader: 100%|██████████| 288/288 [00:26<00:00, 10.89it/s]\n"
     ]
    },
    {
     "name": "stdout",
     "output_type": "stream",
     "text": [
      "Loss1: 0.6263, Loss2: 0.2919, Loss3: 1.2830\n"
     ]
    },
    {
     "name": "stderr",
     "output_type": "stream",
     "text": [
      "Test_Loader: 100%|██████████| 288/288 [00:26<00:00, 11.00it/s]\n"
     ]
    },
    {
     "name": "stdout",
     "output_type": "stream",
     "text": [
      "Loss1: 0.6284, Loss2: 0.2962, Loss3: 1.2719\n"
     ]
    },
    {
     "name": "stderr",
     "output_type": "stream",
     "text": [
      "Test_Loader: 100%|██████████| 288/288 [00:26<00:00, 10.81it/s]\n"
     ]
    },
    {
     "name": "stdout",
     "output_type": "stream",
     "text": [
      "Loss1: 0.6230, Loss2: 0.2890, Loss3: 1.2555\n"
     ]
    },
    {
     "name": "stderr",
     "output_type": "stream",
     "text": [
      "Test_Loader: 100%|██████████| 288/288 [00:26<00:00, 10.88it/s]\n"
     ]
    },
    {
     "name": "stdout",
     "output_type": "stream",
     "text": [
      "Loss1: 0.6185, Loss2: 0.2878, Loss3: 1.2811\n"
     ]
    },
    {
     "name": "stderr",
     "output_type": "stream",
     "text": [
      "Test_Loader: 100%|██████████| 288/288 [00:26<00:00, 11.06it/s]\n"
     ]
    },
    {
     "name": "stdout",
     "output_type": "stream",
     "text": [
      "Loss1: 0.6144, Loss2: 0.2771, Loss3: 1.2407\n"
     ]
    },
    {
     "name": "stderr",
     "output_type": "stream",
     "text": [
      "Test_Loader: 100%|██████████| 288/288 [00:27<00:00, 10.41it/s]\n"
     ]
    },
    {
     "name": "stdout",
     "output_type": "stream",
     "text": [
      "Loss1: 0.6072, Loss2: 0.2744, Loss3: 1.2428\n"
     ]
    },
    {
     "name": "stderr",
     "output_type": "stream",
     "text": [
      "Test_Loader: 100%|██████████| 288/288 [00:28<00:00,  9.99it/s]\n"
     ]
    },
    {
     "name": "stdout",
     "output_type": "stream",
     "text": [
      "Loss1: 0.6136, Loss2: 0.2810, Loss3: 1.2452\n"
     ]
    },
    {
     "name": "stderr",
     "output_type": "stream",
     "text": [
      "Test_Loader: 100%|██████████| 288/288 [00:25<00:00, 11.36it/s]\n"
     ]
    },
    {
     "name": "stdout",
     "output_type": "stream",
     "text": [
      "Loss1: 0.5744, Loss2: 0.2729, Loss3: 1.1999\n"
     ]
    },
    {
     "name": "stderr",
     "output_type": "stream",
     "text": [
      "Test_Loader: 100%|██████████| 288/288 [00:25<00:00, 11.28it/s]\n"
     ]
    },
    {
     "name": "stdout",
     "output_type": "stream",
     "text": [
      "Loss1: 0.5932, Loss2: 0.2770, Loss3: 1.2211\n"
     ]
    },
    {
     "name": "stderr",
     "output_type": "stream",
     "text": [
      "Test_Loader: 100%|██████████| 288/288 [00:26<00:00, 11.05it/s]\n"
     ]
    },
    {
     "name": "stdout",
     "output_type": "stream",
     "text": [
      "Loss1: 0.5840, Loss2: 0.2726, Loss3: 1.1886\n"
     ]
    },
    {
     "name": "stderr",
     "output_type": "stream",
     "text": [
      "Test_Loader: 100%|██████████| 288/288 [00:25<00:00, 11.12it/s]\n"
     ]
    },
    {
     "name": "stdout",
     "output_type": "stream",
     "text": [
      "Loss1: 0.5591, Loss2: 0.2746, Loss3: 1.1841\n"
     ]
    },
    {
     "name": "stderr",
     "output_type": "stream",
     "text": [
      "Test_Loader: 100%|██████████| 288/288 [00:25<00:00, 11.08it/s]\n"
     ]
    },
    {
     "name": "stdout",
     "output_type": "stream",
     "text": [
      "Loss1: 0.5736, Loss2: 0.2712, Loss3: 1.1469\n"
     ]
    },
    {
     "name": "stderr",
     "output_type": "stream",
     "text": [
      "Test_Loader: 100%|██████████| 288/288 [00:26<00:00, 11.02it/s]\n"
     ]
    },
    {
     "name": "stdout",
     "output_type": "stream",
     "text": [
      "Loss1: 0.5569, Loss2: 0.2687, Loss3: 1.1059\n"
     ]
    },
    {
     "name": "stderr",
     "output_type": "stream",
     "text": [
      "Test_Loader: 100%|██████████| 288/288 [00:26<00:00, 11.02it/s]\n"
     ]
    },
    {
     "name": "stdout",
     "output_type": "stream",
     "text": [
      "Loss1: 0.5515, Loss2: 0.2685, Loss3: 1.1278\n"
     ]
    },
    {
     "name": "stderr",
     "output_type": "stream",
     "text": [
      "Test_Loader: 100%|██████████| 288/288 [00:26<00:00, 10.88it/s]\n"
     ]
    },
    {
     "name": "stdout",
     "output_type": "stream",
     "text": [
      "Loss1: 0.5592, Loss2: 0.2684, Loss3: 1.1202\n"
     ]
    },
    {
     "name": "stderr",
     "output_type": "stream",
     "text": [
      "Test_Loader: 100%|██████████| 288/288 [00:26<00:00, 11.02it/s]\n"
     ]
    },
    {
     "name": "stdout",
     "output_type": "stream",
     "text": [
      "Loss1: 0.5435, Loss2: 0.2600, Loss3: 1.1101\n"
     ]
    },
    {
     "name": "stderr",
     "output_type": "stream",
     "text": [
      "Test_Loader: 100%|██████████| 288/288 [00:26<00:00, 11.00it/s]\n"
     ]
    },
    {
     "name": "stdout",
     "output_type": "stream",
     "text": [
      "Loss1: 0.5328, Loss2: 0.2607, Loss3: 1.0942\n"
     ]
    },
    {
     "name": "stderr",
     "output_type": "stream",
     "text": [
      "Test_Loader: 100%|██████████| 288/288 [00:25<00:00, 11.13it/s]\n"
     ]
    },
    {
     "name": "stdout",
     "output_type": "stream",
     "text": [
      "Loss1: 0.5321, Loss2: 0.2631, Loss3: 1.1046\n"
     ]
    },
    {
     "name": "stderr",
     "output_type": "stream",
     "text": [
      "Test_Loader: 100%|██████████| 288/288 [00:25<00:00, 11.27it/s]\n"
     ]
    },
    {
     "name": "stdout",
     "output_type": "stream",
     "text": [
      "Loss1: 0.5488, Loss2: 0.2561, Loss3: 1.0991\n"
     ]
    },
    {
     "name": "stderr",
     "output_type": "stream",
     "text": [
      "Test_Loader: 100%|██████████| 288/288 [00:29<00:00,  9.89it/s]\n"
     ]
    },
    {
     "name": "stdout",
     "output_type": "stream",
     "text": [
      "Loss1: 0.5439, Loss2: 0.2610, Loss3: 1.1199\n"
     ]
    },
    {
     "name": "stderr",
     "output_type": "stream",
     "text": [
      "Test_Loader: 100%|██████████| 288/288 [00:29<00:00,  9.84it/s]\n"
     ]
    },
    {
     "name": "stdout",
     "output_type": "stream",
     "text": [
      "Loss1: 0.5553, Loss2: 0.2560, Loss3: 1.1066\n"
     ]
    },
    {
     "name": "stderr",
     "output_type": "stream",
     "text": [
      "Test_Loader: 100%|██████████| 288/288 [00:25<00:00, 11.10it/s]\n"
     ]
    },
    {
     "name": "stdout",
     "output_type": "stream",
     "text": [
      "Loss1: 0.5464, Loss2: 0.2549, Loss3: 1.1122\n"
     ]
    },
    {
     "name": "stderr",
     "output_type": "stream",
     "text": [
      "Test_Loader: 100%|██████████| 288/288 [00:25<00:00, 11.10it/s]\n"
     ]
    },
    {
     "name": "stdout",
     "output_type": "stream",
     "text": [
      "Loss1: 0.8218, Loss2: 0.2954, Loss3: 1.3337\n"
     ]
    },
    {
     "name": "stderr",
     "output_type": "stream",
     "text": [
      "Test_Loader: 100%|██████████| 288/288 [00:27<00:00, 10.42it/s]\n"
     ]
    },
    {
     "name": "stdout",
     "output_type": "stream",
     "text": [
      "Loss1: 0.8025, Loss2: 0.2801, Loss3: 1.3046\n"
     ]
    },
    {
     "name": "stderr",
     "output_type": "stream",
     "text": [
      "Test_Loader: 100%|██████████| 288/288 [00:27<00:00, 10.37it/s]\n"
     ]
    },
    {
     "name": "stdout",
     "output_type": "stream",
     "text": [
      "Loss1: 0.8046, Loss2: 0.2948, Loss3: 1.3335\n"
     ]
    },
    {
     "name": "stderr",
     "output_type": "stream",
     "text": [
      "Test_Loader: 100%|██████████| 288/288 [00:26<00:00, 10.91it/s]\n"
     ]
    },
    {
     "name": "stdout",
     "output_type": "stream",
     "text": [
      "Loss1: 0.8125, Loss2: 0.2881, Loss3: 1.3069\n"
     ]
    },
    {
     "name": "stderr",
     "output_type": "stream",
     "text": [
      "Test_Loader: 100%|██████████| 288/288 [00:26<00:00, 10.80it/s]\n"
     ]
    },
    {
     "name": "stdout",
     "output_type": "stream",
     "text": [
      "Loss1: 0.7964, Loss2: 0.2789, Loss3: 1.2769\n"
     ]
    },
    {
     "name": "stderr",
     "output_type": "stream",
     "text": [
      "Test_Loader: 100%|██████████| 288/288 [00:26<00:00, 10.70it/s]\n"
     ]
    },
    {
     "name": "stdout",
     "output_type": "stream",
     "text": [
      "Loss1: 0.7812, Loss2: 0.2788, Loss3: 1.2577\n"
     ]
    },
    {
     "name": "stderr",
     "output_type": "stream",
     "text": [
      "Test_Loader: 100%|██████████| 288/288 [00:27<00:00, 10.65it/s]\n"
     ]
    },
    {
     "name": "stdout",
     "output_type": "stream",
     "text": [
      "Loss1: 0.7800, Loss2: 0.2790, Loss3: 1.2913\n"
     ]
    },
    {
     "name": "stderr",
     "output_type": "stream",
     "text": [
      "Test_Loader: 100%|██████████| 288/288 [00:27<00:00, 10.52it/s]\n"
     ]
    },
    {
     "name": "stdout",
     "output_type": "stream",
     "text": [
      "Loss1: 0.7798, Loss2: 0.2779, Loss3: 1.2818\n"
     ]
    },
    {
     "name": "stderr",
     "output_type": "stream",
     "text": [
      "Test_Loader: 100%|██████████| 288/288 [00:26<00:00, 10.96it/s]\n"
     ]
    },
    {
     "name": "stdout",
     "output_type": "stream",
     "text": [
      "Loss1: 0.7605, Loss2: 0.2689, Loss3: 1.2364\n"
     ]
    },
    {
     "name": "stderr",
     "output_type": "stream",
     "text": [
      "Test_Loader: 100%|██████████| 288/288 [00:25<00:00, 11.22it/s]\n"
     ]
    },
    {
     "name": "stdout",
     "output_type": "stream",
     "text": [
      "Loss1: 0.7563, Loss2: 0.2844, Loss3: 1.2774\n"
     ]
    },
    {
     "name": "stderr",
     "output_type": "stream",
     "text": [
      "Test_Loader: 100%|██████████| 288/288 [00:25<00:00, 11.30it/s]\n"
     ]
    },
    {
     "name": "stdout",
     "output_type": "stream",
     "text": [
      "Loss1: 0.7457, Loss2: 0.2814, Loss3: 1.2579\n"
     ]
    },
    {
     "name": "stderr",
     "output_type": "stream",
     "text": [
      "Test_Loader: 100%|██████████| 288/288 [00:26<00:00, 10.75it/s]\n"
     ]
    },
    {
     "name": "stdout",
     "output_type": "stream",
     "text": [
      "Loss1: 0.7361, Loss2: 0.2762, Loss3: 1.2360\n"
     ]
    },
    {
     "name": "stderr",
     "output_type": "stream",
     "text": [
      "Test_Loader: 100%|██████████| 288/288 [00:27<00:00, 10.59it/s]\n"
     ]
    },
    {
     "name": "stdout",
     "output_type": "stream",
     "text": [
      "Loss1: 0.7410, Loss2: 0.2763, Loss3: 1.2371\n"
     ]
    },
    {
     "name": "stderr",
     "output_type": "stream",
     "text": [
      "Test_Loader: 100%|██████████| 288/288 [00:25<00:00, 11.15it/s]\n"
     ]
    },
    {
     "name": "stdout",
     "output_type": "stream",
     "text": [
      "Loss1: 0.7375, Loss2: 0.2676, Loss3: 1.2093\n"
     ]
    },
    {
     "name": "stderr",
     "output_type": "stream",
     "text": [
      "Test_Loader: 100%|██████████| 288/288 [00:26<00:00, 10.68it/s]\n"
     ]
    },
    {
     "name": "stdout",
     "output_type": "stream",
     "text": [
      "Loss1: 0.7639, Loss2: 0.2749, Loss3: 1.2939\n"
     ]
    },
    {
     "name": "stderr",
     "output_type": "stream",
     "text": [
      "Test_Loader: 100%|██████████| 288/288 [00:27<00:00, 10.52it/s]\n"
     ]
    },
    {
     "name": "stdout",
     "output_type": "stream",
     "text": [
      "Loss1: 0.7915, Loss2: 0.2881, Loss3: 1.2983\n"
     ]
    },
    {
     "name": "stderr",
     "output_type": "stream",
     "text": [
      "Test_Loader: 100%|██████████| 288/288 [00:26<00:00, 10.69it/s]\n"
     ]
    },
    {
     "name": "stdout",
     "output_type": "stream",
     "text": [
      "Loss1: 0.7620, Loss2: 0.2879, Loss3: 1.3216\n"
     ]
    },
    {
     "name": "stderr",
     "output_type": "stream",
     "text": [
      "Test_Loader: 100%|██████████| 288/288 [00:27<00:00, 10.49it/s]\n"
     ]
    },
    {
     "name": "stdout",
     "output_type": "stream",
     "text": [
      "Loss1: 0.7809, Loss2: 0.2828, Loss3: 1.2763\n"
     ]
    },
    {
     "name": "stderr",
     "output_type": "stream",
     "text": [
      "Test_Loader: 100%|██████████| 288/288 [00:27<00:00, 10.53it/s]\n"
     ]
    },
    {
     "name": "stdout",
     "output_type": "stream",
     "text": [
      "Loss1: 0.7603, Loss2: 0.2814, Loss3: 1.2991\n"
     ]
    },
    {
     "name": "stderr",
     "output_type": "stream",
     "text": [
      "Test_Loader: 100%|██████████| 288/288 [00:27<00:00, 10.49it/s]\n"
     ]
    },
    {
     "name": "stdout",
     "output_type": "stream",
     "text": [
      "Loss1: 0.7642, Loss2: 0.2797, Loss3: 1.2734\n"
     ]
    },
    {
     "name": "stderr",
     "output_type": "stream",
     "text": [
      "Test_Loader: 100%|██████████| 288/288 [00:27<00:00, 10.51it/s]\n"
     ]
    },
    {
     "name": "stdout",
     "output_type": "stream",
     "text": [
      "Loss1: 0.7686, Loss2: 0.2772, Loss3: 1.2738\n"
     ]
    },
    {
     "name": "stderr",
     "output_type": "stream",
     "text": [
      "Test_Loader: 100%|██████████| 288/288 [00:27<00:00, 10.49it/s]\n"
     ]
    },
    {
     "name": "stdout",
     "output_type": "stream",
     "text": [
      "Loss1: 0.7478, Loss2: 0.2804, Loss3: 1.2807\n"
     ]
    },
    {
     "name": "stderr",
     "output_type": "stream",
     "text": [
      "Test_Loader: 100%|██████████| 288/288 [00:27<00:00, 10.61it/s]\n"
     ]
    },
    {
     "name": "stdout",
     "output_type": "stream",
     "text": [
      "Loss1: 0.7806, Loss2: 0.2949, Loss3: 1.4133\n"
     ]
    },
    {
     "name": "stderr",
     "output_type": "stream",
     "text": [
      "Test_Loader: 100%|██████████| 288/288 [00:26<00:00, 10.95it/s]\n"
     ]
    },
    {
     "name": "stdout",
     "output_type": "stream",
     "text": [
      "Loss1: 0.7837, Loss2: 0.2943, Loss3: 1.3875\n"
     ]
    },
    {
     "name": "stderr",
     "output_type": "stream",
     "text": [
      "Test_Loader: 100%|██████████| 288/288 [00:29<00:00,  9.80it/s]\n"
     ]
    },
    {
     "name": "stdout",
     "output_type": "stream",
     "text": [
      "Loss1: 0.8259, Loss2: 0.3012, Loss3: 1.3961\n"
     ]
    },
    {
     "name": "stderr",
     "output_type": "stream",
     "text": [
      "Test_Loader: 100%|██████████| 288/288 [00:25<00:00, 11.12it/s]\n"
     ]
    },
    {
     "name": "stdout",
     "output_type": "stream",
     "text": [
      "Loss1: 0.8307, Loss2: 0.3062, Loss3: 1.4099\n"
     ]
    },
    {
     "name": "stderr",
     "output_type": "stream",
     "text": [
      "Test_Loader: 100%|██████████| 288/288 [00:26<00:00, 10.78it/s]\n"
     ]
    },
    {
     "name": "stdout",
     "output_type": "stream",
     "text": [
      "Loss1: 0.8059, Loss2: 0.2989, Loss3: 1.3817\n"
     ]
    },
    {
     "name": "stderr",
     "output_type": "stream",
     "text": [
      "Test_Loader: 100%|██████████| 288/288 [00:28<00:00, 10.25it/s]\n"
     ]
    },
    {
     "name": "stdout",
     "output_type": "stream",
     "text": [
      "Loss1: 0.8279, Loss2: 0.3084, Loss3: 1.4086\n"
     ]
    },
    {
     "name": "stderr",
     "output_type": "stream",
     "text": [
      "Test_Loader: 100%|██████████| 288/288 [00:28<00:00, 10.25it/s]\n"
     ]
    },
    {
     "name": "stdout",
     "output_type": "stream",
     "text": [
      "Loss1: 0.8159, Loss2: 0.3083, Loss3: 1.3935\n"
     ]
    },
    {
     "name": "stderr",
     "output_type": "stream",
     "text": [
      "Test_Loader: 100%|██████████| 288/288 [00:27<00:00, 10.33it/s]\n"
     ]
    },
    {
     "name": "stdout",
     "output_type": "stream",
     "text": [
      "Loss1: 0.8179, Loss2: 0.3062, Loss3: 1.3939\n"
     ]
    },
    {
     "name": "stderr",
     "output_type": "stream",
     "text": [
      "Test_Loader: 100%|██████████| 288/288 [00:26<00:00, 10.79it/s]\n"
     ]
    },
    {
     "name": "stdout",
     "output_type": "stream",
     "text": [
      "Loss1: 0.7800, Loss2: 0.3083, Loss3: 1.3670\n"
     ]
    },
    {
     "name": "stderr",
     "output_type": "stream",
     "text": [
      "Test_Loader: 100%|██████████| 288/288 [00:26<00:00, 10.75it/s]\n"
     ]
    },
    {
     "name": "stdout",
     "output_type": "stream",
     "text": [
      "Loss1: 0.8048, Loss2: 0.3038, Loss3: 1.3508\n"
     ]
    },
    {
     "name": "stderr",
     "output_type": "stream",
     "text": [
      "Test_Loader: 100%|██████████| 288/288 [00:26<00:00, 10.70it/s]\n"
     ]
    },
    {
     "name": "stdout",
     "output_type": "stream",
     "text": [
      "Loss1: 0.7684, Loss2: 0.2986, Loss3: 1.2855\n"
     ]
    },
    {
     "name": "stderr",
     "output_type": "stream",
     "text": [
      "Test_Loader: 100%|██████████| 288/288 [00:27<00:00, 10.55it/s]\n"
     ]
    },
    {
     "name": "stdout",
     "output_type": "stream",
     "text": [
      "Loss1: 0.7654, Loss2: 0.2955, Loss3: 1.2720\n"
     ]
    },
    {
     "name": "stderr",
     "output_type": "stream",
     "text": [
      "Test_Loader: 100%|██████████| 288/288 [00:28<00:00, 10.23it/s]\n"
     ]
    },
    {
     "name": "stdout",
     "output_type": "stream",
     "text": [
      "Loss1: 0.7580, Loss2: 0.2885, Loss3: 1.2324\n"
     ]
    },
    {
     "name": "stderr",
     "output_type": "stream",
     "text": [
      "Test_Loader: 100%|██████████| 288/288 [00:28<00:00, 10.24it/s]\n"
     ]
    },
    {
     "name": "stdout",
     "output_type": "stream",
     "text": [
      "Loss1: 0.7397, Loss2: 0.2903, Loss3: 1.2387\n"
     ]
    },
    {
     "name": "stderr",
     "output_type": "stream",
     "text": [
      "Test_Loader: 100%|██████████| 288/288 [00:29<00:00,  9.86it/s]\n"
     ]
    },
    {
     "name": "stdout",
     "output_type": "stream",
     "text": [
      "Loss1: 0.7419, Loss2: 0.2872, Loss3: 1.2527\n"
     ]
    },
    {
     "name": "stderr",
     "output_type": "stream",
     "text": [
      "Test_Loader: 100%|██████████| 288/288 [00:29<00:00,  9.81it/s]\n"
     ]
    },
    {
     "name": "stdout",
     "output_type": "stream",
     "text": [
      "Loss1: 0.7463, Loss2: 0.2920, Loss3: 1.2576\n"
     ]
    },
    {
     "name": "stderr",
     "output_type": "stream",
     "text": [
      "Test_Loader: 100%|██████████| 288/288 [00:27<00:00, 10.65it/s]\n"
     ]
    },
    {
     "name": "stdout",
     "output_type": "stream",
     "text": [
      "Loss1: 0.7358, Loss2: 0.2822, Loss3: 1.2061\n"
     ]
    },
    {
     "name": "stderr",
     "output_type": "stream",
     "text": [
      "Test_Loader: 100%|██████████| 288/288 [00:25<00:00, 11.16it/s]\n"
     ]
    },
    {
     "name": "stdout",
     "output_type": "stream",
     "text": [
      "Loss1: 0.7505, Loss2: 0.2936, Loss3: 1.2665\n"
     ]
    },
    {
     "name": "stderr",
     "output_type": "stream",
     "text": [
      "Test_Loader: 100%|██████████| 288/288 [00:26<00:00, 10.86it/s]\n"
     ]
    },
    {
     "name": "stdout",
     "output_type": "stream",
     "text": [
      "Loss1: 0.7181, Loss2: 0.2861, Loss3: 1.2213\n"
     ]
    },
    {
     "name": "stderr",
     "output_type": "stream",
     "text": [
      "Test_Loader: 100%|██████████| 288/288 [00:25<00:00, 11.17it/s]\n"
     ]
    },
    {
     "name": "stdout",
     "output_type": "stream",
     "text": [
      "Loss1: 0.7317, Loss2: 0.2835, Loss3: 1.2596\n"
     ]
    },
    {
     "name": "stderr",
     "output_type": "stream",
     "text": [
      "Test_Loader: 100%|██████████| 288/288 [00:26<00:00, 10.84it/s]\n"
     ]
    },
    {
     "name": "stdout",
     "output_type": "stream",
     "text": [
      "Loss1: 0.7261, Loss2: 0.2859, Loss3: 1.2580\n"
     ]
    },
    {
     "name": "stderr",
     "output_type": "stream",
     "text": [
      "Test_Loader: 100%|██████████| 288/288 [00:27<00:00, 10.50it/s]\n"
     ]
    },
    {
     "name": "stdout",
     "output_type": "stream",
     "text": [
      "Loss1: 0.7230, Loss2: 0.2881, Loss3: 1.2952\n"
     ]
    },
    {
     "name": "stderr",
     "output_type": "stream",
     "text": [
      "Test_Loader: 100%|██████████| 288/288 [00:27<00:00, 10.34it/s]\n"
     ]
    },
    {
     "name": "stdout",
     "output_type": "stream",
     "text": [
      "Loss1: 0.7136, Loss2: 0.2719, Loss3: 1.2573\n"
     ]
    },
    {
     "name": "stderr",
     "output_type": "stream",
     "text": [
      "Test_Loader: 100%|██████████| 288/288 [00:27<00:00, 10.37it/s]\n"
     ]
    },
    {
     "name": "stdout",
     "output_type": "stream",
     "text": [
      "Loss1: 0.7537, Loss2: 0.2865, Loss3: 1.3862\n"
     ]
    },
    {
     "name": "stderr",
     "output_type": "stream",
     "text": [
      "Test_Loader: 100%|██████████| 288/288 [00:27<00:00, 10.50it/s]\n"
     ]
    },
    {
     "name": "stdout",
     "output_type": "stream",
     "text": [
      "Loss1: 0.7366, Loss2: 0.2904, Loss3: 1.3565\n"
     ]
    },
    {
     "name": "stderr",
     "output_type": "stream",
     "text": [
      "Test_Loader: 100%|██████████| 288/288 [00:26<00:00, 10.72it/s]\n"
     ]
    },
    {
     "name": "stdout",
     "output_type": "stream",
     "text": [
      "Loss1: 0.7433, Loss2: 0.2850, Loss3: 1.3749\n"
     ]
    },
    {
     "name": "stderr",
     "output_type": "stream",
     "text": [
      "Test_Loader: 100%|██████████| 288/288 [00:26<00:00, 10.86it/s]\n"
     ]
    },
    {
     "name": "stdout",
     "output_type": "stream",
     "text": [
      "Loss1: 0.7441, Loss2: 0.2723, Loss3: 1.3206\n"
     ]
    },
    {
     "name": "stderr",
     "output_type": "stream",
     "text": [
      "Test_Loader: 100%|██████████| 288/288 [00:25<00:00, 11.30it/s]\n"
     ]
    },
    {
     "name": "stdout",
     "output_type": "stream",
     "text": [
      "Loss1: 0.7305, Loss2: 0.2674, Loss3: 1.3043\n"
     ]
    },
    {
     "name": "stderr",
     "output_type": "stream",
     "text": [
      "Test_Loader: 100%|██████████| 288/288 [00:29<00:00,  9.65it/s]\n"
     ]
    },
    {
     "name": "stdout",
     "output_type": "stream",
     "text": [
      "Loss1: 0.7125, Loss2: 0.2724, Loss3: 1.3158\n"
     ]
    },
    {
     "name": "stderr",
     "output_type": "stream",
     "text": [
      "Test_Loader: 100%|██████████| 288/288 [00:27<00:00, 10.65it/s]\n"
     ]
    },
    {
     "name": "stdout",
     "output_type": "stream",
     "text": [
      "Loss1: 0.7408, Loss2: 0.2664, Loss3: 1.3470\n"
     ]
    },
    {
     "name": "stderr",
     "output_type": "stream",
     "text": [
      "Test_Loader: 100%|██████████| 288/288 [00:26<00:00, 11.07it/s]\n"
     ]
    },
    {
     "name": "stdout",
     "output_type": "stream",
     "text": [
      "Loss1: 0.7387, Loss2: 0.2623, Loss3: 1.3395\n"
     ]
    },
    {
     "name": "stderr",
     "output_type": "stream",
     "text": [
      "Test_Loader: 100%|██████████| 288/288 [00:26<00:00, 11.03it/s]\n"
     ]
    },
    {
     "name": "stdout",
     "output_type": "stream",
     "text": [
      "Loss1: 0.7132, Loss2: 0.2639, Loss3: 1.3408\n"
     ]
    },
    {
     "name": "stderr",
     "output_type": "stream",
     "text": [
      "Test_Loader: 100%|██████████| 288/288 [00:28<00:00, 10.22it/s]\n"
     ]
    },
    {
     "name": "stdout",
     "output_type": "stream",
     "text": [
      "Loss1: 0.7026, Loss2: 0.2601, Loss3: 1.3296\n"
     ]
    },
    {
     "name": "stderr",
     "output_type": "stream",
     "text": [
      "Test_Loader: 100%|██████████| 288/288 [00:26<00:00, 11.03it/s]\n"
     ]
    },
    {
     "name": "stdout",
     "output_type": "stream",
     "text": [
      "Loss1: 0.7033, Loss2: 0.2713, Loss3: 1.3315\n"
     ]
    },
    {
     "name": "stderr",
     "output_type": "stream",
     "text": [
      "Test_Loader: 100%|██████████| 288/288 [00:26<00:00, 10.98it/s]\n"
     ]
    },
    {
     "name": "stdout",
     "output_type": "stream",
     "text": [
      "Loss1: 0.7007, Loss2: 0.2671, Loss3: 1.3165\n"
     ]
    },
    {
     "name": "stderr",
     "output_type": "stream",
     "text": [
      "Test_Loader: 100%|██████████| 288/288 [00:26<00:00, 10.96it/s]\n"
     ]
    },
    {
     "name": "stdout",
     "output_type": "stream",
     "text": [
      "Loss1: 0.6861, Loss2: 0.2631, Loss3: 1.3329\n"
     ]
    },
    {
     "name": "stderr",
     "output_type": "stream",
     "text": [
      "Test_Loader: 100%|██████████| 288/288 [00:26<00:00, 10.92it/s]\n"
     ]
    },
    {
     "name": "stdout",
     "output_type": "stream",
     "text": [
      "Loss1: 0.7122, Loss2: 0.2652, Loss3: 1.3242\n"
     ]
    },
    {
     "name": "stderr",
     "output_type": "stream",
     "text": [
      "Test_Loader: 100%|██████████| 288/288 [00:26<00:00, 10.94it/s]\n"
     ]
    },
    {
     "name": "stdout",
     "output_type": "stream",
     "text": [
      "Loss1: 0.7028, Loss2: 0.2545, Loss3: 1.3157\n"
     ]
    },
    {
     "name": "stderr",
     "output_type": "stream",
     "text": [
      "Test_Loader: 100%|██████████| 288/288 [00:26<00:00, 10.75it/s]\n"
     ]
    },
    {
     "name": "stdout",
     "output_type": "stream",
     "text": [
      "Loss1: 0.6735, Loss2: 0.2641, Loss3: 1.2761\n"
     ]
    },
    {
     "name": "stderr",
     "output_type": "stream",
     "text": [
      "Test_Loader: 100%|██████████| 288/288 [00:27<00:00, 10.65it/s]\n"
     ]
    },
    {
     "name": "stdout",
     "output_type": "stream",
     "text": [
      "Loss1: 0.7228, Loss2: 0.2730, Loss3: 1.3041\n"
     ]
    },
    {
     "name": "stderr",
     "output_type": "stream",
     "text": [
      "Test_Loader: 100%|██████████| 288/288 [00:27<00:00, 10.54it/s]\n"
     ]
    },
    {
     "name": "stdout",
     "output_type": "stream",
     "text": [
      "Loss1: 0.7137, Loss2: 0.2722, Loss3: 1.2331\n"
     ]
    },
    {
     "name": "stderr",
     "output_type": "stream",
     "text": [
      "Test_Loader: 100%|██████████| 288/288 [00:26<00:00, 10.78it/s]\n"
     ]
    },
    {
     "name": "stdout",
     "output_type": "stream",
     "text": [
      "Loss1: 0.7013, Loss2: 0.2601, Loss3: 1.2508\n"
     ]
    },
    {
     "name": "stderr",
     "output_type": "stream",
     "text": [
      "Test_Loader: 100%|██████████| 288/288 [00:27<00:00, 10.60it/s]\n"
     ]
    },
    {
     "name": "stdout",
     "output_type": "stream",
     "text": [
      "Loss1: 0.6995, Loss2: 0.2630, Loss3: 1.2060\n"
     ]
    },
    {
     "name": "stderr",
     "output_type": "stream",
     "text": [
      "Test_Loader: 100%|██████████| 288/288 [00:25<00:00, 11.24it/s]\n"
     ]
    },
    {
     "name": "stdout",
     "output_type": "stream",
     "text": [
      "Loss1: 0.6952, Loss2: 0.2608, Loss3: 1.2046\n"
     ]
    },
    {
     "name": "stderr",
     "output_type": "stream",
     "text": [
      "Test_Loader: 100%|██████████| 288/288 [00:25<00:00, 11.34it/s]\n"
     ]
    },
    {
     "name": "stdout",
     "output_type": "stream",
     "text": [
      "Loss1: 0.6882, Loss2: 0.2607, Loss3: 1.1937\n"
     ]
    },
    {
     "name": "stderr",
     "output_type": "stream",
     "text": [
      "Test_Loader: 100%|██████████| 288/288 [00:26<00:00, 11.05it/s]\n"
     ]
    },
    {
     "name": "stdout",
     "output_type": "stream",
     "text": [
      "Loss1: 0.6837, Loss2: 0.2660, Loss3: 1.1623\n"
     ]
    },
    {
     "name": "stderr",
     "output_type": "stream",
     "text": [
      "Test_Loader: 100%|██████████| 288/288 [00:25<00:00, 11.41it/s]\n"
     ]
    },
    {
     "name": "stdout",
     "output_type": "stream",
     "text": [
      "Loss1: 0.6819, Loss2: 0.2579, Loss3: 1.1568\n"
     ]
    },
    {
     "name": "stderr",
     "output_type": "stream",
     "text": [
      "Test_Loader: 100%|██████████| 288/288 [00:25<00:00, 11.23it/s]\n"
     ]
    },
    {
     "name": "stdout",
     "output_type": "stream",
     "text": [
      "Loss1: 0.6720, Loss2: 0.2551, Loss3: 1.1902\n"
     ]
    },
    {
     "name": "stderr",
     "output_type": "stream",
     "text": [
      "Test_Loader: 100%|██████████| 288/288 [00:25<00:00, 11.18it/s]\n"
     ]
    },
    {
     "name": "stdout",
     "output_type": "stream",
     "text": [
      "Loss1: 0.6787, Loss2: 0.2610, Loss3: 1.1503\n"
     ]
    },
    {
     "name": "stderr",
     "output_type": "stream",
     "text": [
      "Test_Loader: 100%|██████████| 288/288 [00:25<00:00, 11.18it/s]\n"
     ]
    },
    {
     "name": "stdout",
     "output_type": "stream",
     "text": [
      "Loss1: 0.6563, Loss2: 0.2544, Loss3: 1.1606\n"
     ]
    },
    {
     "name": "stderr",
     "output_type": "stream",
     "text": [
      "Test_Loader: 100%|██████████| 288/288 [00:25<00:00, 11.18it/s]\n"
     ]
    },
    {
     "name": "stdout",
     "output_type": "stream",
     "text": [
      "Loss1: 0.6920, Loss2: 0.2579, Loss3: 1.1689\n"
     ]
    },
    {
     "name": "stderr",
     "output_type": "stream",
     "text": [
      "Test_Loader: 100%|██████████| 288/288 [00:25<00:00, 11.20it/s]\n"
     ]
    },
    {
     "name": "stdout",
     "output_type": "stream",
     "text": [
      "Loss1: 0.6679, Loss2: 0.2596, Loss3: 1.1503\n"
     ]
    },
    {
     "name": "stderr",
     "output_type": "stream",
     "text": [
      "Test_Loader: 100%|██████████| 288/288 [00:27<00:00, 10.65it/s]\n"
     ]
    },
    {
     "name": "stdout",
     "output_type": "stream",
     "text": [
      "Loss1: 0.6753, Loss2: 0.2583, Loss3: 1.1408\n"
     ]
    },
    {
     "name": "stderr",
     "output_type": "stream",
     "text": [
      "Test_Loader: 100%|██████████| 288/288 [00:26<00:00, 11.02it/s]\n"
     ]
    },
    {
     "name": "stdout",
     "output_type": "stream",
     "text": [
      "Loss1: 0.6707, Loss2: 0.2526, Loss3: 1.1483\n"
     ]
    },
    {
     "name": "stderr",
     "output_type": "stream",
     "text": [
      "Test_Loader: 100%|██████████| 288/288 [00:26<00:00, 10.92it/s]\n"
     ]
    },
    {
     "name": "stdout",
     "output_type": "stream",
     "text": [
      "Loss1: 0.6602, Loss2: 0.2550, Loss3: 1.1403\n"
     ]
    },
    {
     "name": "stderr",
     "output_type": "stream",
     "text": [
      "Test_Loader: 100%|██████████| 288/288 [00:28<00:00, 10.26it/s]\n"
     ]
    },
    {
     "name": "stdout",
     "output_type": "stream",
     "text": [
      "Loss1: 0.6794, Loss2: 0.2528, Loss3: 1.1324\n"
     ]
    },
    {
     "name": "stderr",
     "output_type": "stream",
     "text": [
      "Test_Loader: 100%|██████████| 288/288 [00:25<00:00, 11.10it/s]\n"
     ]
    },
    {
     "name": "stdout",
     "output_type": "stream",
     "text": [
      "Loss1: 0.6572, Loss2: 0.2530, Loss3: 1.1269\n"
     ]
    },
    {
     "name": "stderr",
     "output_type": "stream",
     "text": [
      "Test_Loader: 100%|██████████| 288/288 [00:26<00:00, 10.92it/s]\n"
     ]
    },
    {
     "name": "stdout",
     "output_type": "stream",
     "text": [
      "Loss1: 0.6664, Loss2: 0.2458, Loss3: 1.0981\n"
     ]
    },
    {
     "name": "stderr",
     "output_type": "stream",
     "text": [
      "Test_Loader: 100%|██████████| 288/288 [00:26<00:00, 10.90it/s]\n"
     ]
    },
    {
     "name": "stdout",
     "output_type": "stream",
     "text": [
      "Loss1: 0.6625, Loss2: 0.2472, Loss3: 1.0962\n"
     ]
    },
    {
     "name": "stderr",
     "output_type": "stream",
     "text": [
      "Test_Loader: 100%|██████████| 288/288 [00:27<00:00, 10.35it/s]\n"
     ]
    },
    {
     "name": "stdout",
     "output_type": "stream",
     "text": [
      "Loss1: 0.6560, Loss2: 0.2472, Loss3: 1.0689\n"
     ]
    },
    {
     "name": "stderr",
     "output_type": "stream",
     "text": [
      "Test_Loader: 100%|██████████| 288/288 [00:27<00:00, 10.43it/s]\n"
     ]
    },
    {
     "name": "stdout",
     "output_type": "stream",
     "text": [
      "Loss1: 0.6620, Loss2: 0.2461, Loss3: 1.0830\n"
     ]
    },
    {
     "name": "stderr",
     "output_type": "stream",
     "text": [
      "Test_Loader: 100%|██████████| 288/288 [00:28<00:00, 10.17it/s]\n"
     ]
    },
    {
     "name": "stdout",
     "output_type": "stream",
     "text": [
      "Loss1: 0.6566, Loss2: 0.2437, Loss3: 1.0716\n"
     ]
    },
    {
     "name": "stderr",
     "output_type": "stream",
     "text": [
      "Test_Loader: 100%|██████████| 288/288 [00:28<00:00,  9.97it/s]\n"
     ]
    },
    {
     "name": "stdout",
     "output_type": "stream",
     "text": [
      "Loss1: 0.6743, Loss2: 0.2398, Loss3: 1.0588\n"
     ]
    },
    {
     "name": "stderr",
     "output_type": "stream",
     "text": [
      "Test_Loader: 100%|██████████| 288/288 [00:27<00:00, 10.47it/s]\n"
     ]
    },
    {
     "name": "stdout",
     "output_type": "stream",
     "text": [
      "Loss1: 0.6509, Loss2: 0.2408, Loss3: 1.0625\n"
     ]
    },
    {
     "name": "stderr",
     "output_type": "stream",
     "text": [
      "Test_Loader: 100%|██████████| 288/288 [00:27<00:00, 10.49it/s]\n"
     ]
    },
    {
     "name": "stdout",
     "output_type": "stream",
     "text": [
      "Loss1: 0.6711, Loss2: 0.2395, Loss3: 1.0480\n"
     ]
    },
    {
     "name": "stderr",
     "output_type": "stream",
     "text": [
      "Test_Loader: 100%|██████████| 288/288 [00:27<00:00, 10.51it/s]\n"
     ]
    },
    {
     "name": "stdout",
     "output_type": "stream",
     "text": [
      "Loss1: 0.6662, Loss2: 0.2384, Loss3: 1.0641\n"
     ]
    },
    {
     "name": "stderr",
     "output_type": "stream",
     "text": [
      "Test_Loader: 100%|██████████| 288/288 [00:26<00:00, 10.92it/s]\n"
     ]
    },
    {
     "name": "stdout",
     "output_type": "stream",
     "text": [
      "Loss1: 0.6556, Loss2: 0.2407, Loss3: 1.0383\n"
     ]
    },
    {
     "name": "stderr",
     "output_type": "stream",
     "text": [
      "Test_Loader: 100%|██████████| 288/288 [00:25<00:00, 11.17it/s]\n"
     ]
    },
    {
     "name": "stdout",
     "output_type": "stream",
     "text": [
      "Loss1: 0.6596, Loss2: 0.2386, Loss3: 1.0386\n"
     ]
    },
    {
     "name": "stderr",
     "output_type": "stream",
     "text": [
      "Test_Loader: 100%|██████████| 288/288 [00:25<00:00, 11.08it/s]\n"
     ]
    },
    {
     "name": "stdout",
     "output_type": "stream",
     "text": [
      "Loss1: 0.6494, Loss2: 0.2360, Loss3: 1.0342\n"
     ]
    },
    {
     "name": "stderr",
     "output_type": "stream",
     "text": [
      "Test_Loader: 100%|██████████| 288/288 [00:28<00:00, 10.21it/s]\n"
     ]
    },
    {
     "name": "stdout",
     "output_type": "stream",
     "text": [
      "Loss1: 0.6610, Loss2: 0.2411, Loss3: 1.0460\n"
     ]
    },
    {
     "name": "stderr",
     "output_type": "stream",
     "text": [
      "Test_Loader: 100%|██████████| 288/288 [00:26<00:00, 10.94it/s]\n"
     ]
    },
    {
     "name": "stdout",
     "output_type": "stream",
     "text": [
      "Loss1: 0.6547, Loss2: 0.2425, Loss3: 1.0190\n"
     ]
    },
    {
     "name": "stderr",
     "output_type": "stream",
     "text": [
      "Test_Loader: 100%|██████████| 288/288 [00:26<00:00, 10.89it/s]\n"
     ]
    },
    {
     "name": "stdout",
     "output_type": "stream",
     "text": [
      "Loss1: 0.6529, Loss2: 0.2345, Loss3: 1.0070\n"
     ]
    },
    {
     "name": "stderr",
     "output_type": "stream",
     "text": [
      "Test_Loader: 100%|██████████| 288/288 [00:26<00:00, 10.92it/s]\n"
     ]
    },
    {
     "name": "stdout",
     "output_type": "stream",
     "text": [
      "Loss1: 0.6397, Loss2: 0.2346, Loss3: 1.0049\n"
     ]
    },
    {
     "name": "stderr",
     "output_type": "stream",
     "text": [
      "Test_Loader: 100%|██████████| 288/288 [00:26<00:00, 10.89it/s]\n"
     ]
    },
    {
     "name": "stdout",
     "output_type": "stream",
     "text": [
      "Loss1: 0.6257, Loss2: 0.2345, Loss3: 0.9742\n"
     ]
    },
    {
     "name": "stderr",
     "output_type": "stream",
     "text": [
      "Test_Loader: 100%|██████████| 288/288 [00:26<00:00, 10.72it/s]\n"
     ]
    },
    {
     "name": "stdout",
     "output_type": "stream",
     "text": [
      "Loss1: 0.5836, Loss2: 0.2316, Loss3: 1.1350\n"
     ]
    },
    {
     "name": "stderr",
     "output_type": "stream",
     "text": [
      "Test_Loader: 100%|██████████| 288/288 [00:27<00:00, 10.34it/s]\n"
     ]
    },
    {
     "name": "stdout",
     "output_type": "stream",
     "text": [
      "Loss1: 0.5763, Loss2: 0.2274, Loss3: 1.1147\n"
     ]
    },
    {
     "name": "stderr",
     "output_type": "stream",
     "text": [
      "Test_Loader: 100%|██████████| 288/288 [00:27<00:00, 10.52it/s]\n"
     ]
    },
    {
     "name": "stdout",
     "output_type": "stream",
     "text": [
      "Loss1: 0.5768, Loss2: 0.2235, Loss3: 1.1312\n"
     ]
    },
    {
     "name": "stderr",
     "output_type": "stream",
     "text": [
      "Test_Loader: 100%|██████████| 288/288 [00:28<00:00, 10.23it/s]\n"
     ]
    },
    {
     "name": "stdout",
     "output_type": "stream",
     "text": [
      "Loss1: 0.5791, Loss2: 0.2232, Loss3: 1.1161\n"
     ]
    },
    {
     "name": "stderr",
     "output_type": "stream",
     "text": [
      "Test_Loader: 100%|██████████| 288/288 [00:27<00:00, 10.31it/s]\n"
     ]
    },
    {
     "name": "stdout",
     "output_type": "stream",
     "text": [
      "Loss1: 0.5751, Loss2: 0.2357, Loss3: 1.2513\n"
     ]
    },
    {
     "name": "stderr",
     "output_type": "stream",
     "text": [
      "Test_Loader: 100%|██████████| 288/288 [00:27<00:00, 10.47it/s]\n"
     ]
    },
    {
     "name": "stdout",
     "output_type": "stream",
     "text": [
      "Loss1: 0.5737, Loss2: 0.2384, Loss3: 1.2232\n"
     ]
    },
    {
     "name": "stderr",
     "output_type": "stream",
     "text": [
      "Test_Loader: 100%|██████████| 288/288 [00:28<00:00, 10.26it/s]\n"
     ]
    },
    {
     "name": "stdout",
     "output_type": "stream",
     "text": [
      "Loss1: 0.5838, Loss2: 0.2281, Loss3: 1.1750\n"
     ]
    },
    {
     "name": "stderr",
     "output_type": "stream",
     "text": [
      "Test_Loader: 100%|██████████| 288/288 [00:29<00:00,  9.70it/s]\n"
     ]
    },
    {
     "name": "stdout",
     "output_type": "stream",
     "text": [
      "Loss1: 0.5851, Loss2: 0.2332, Loss3: 1.2213\n"
     ]
    },
    {
     "name": "stderr",
     "output_type": "stream",
     "text": [
      "Test_Loader: 100%|██████████| 288/288 [00:29<00:00,  9.89it/s]\n"
     ]
    },
    {
     "name": "stdout",
     "output_type": "stream",
     "text": [
      "Loss1: 0.5860, Loss2: 0.2288, Loss3: 1.2202\n"
     ]
    },
    {
     "name": "stderr",
     "output_type": "stream",
     "text": [
      "Test_Loader: 100%|██████████| 288/288 [00:27<00:00, 10.47it/s]\n"
     ]
    },
    {
     "name": "stdout",
     "output_type": "stream",
     "text": [
      "Loss1: 0.5743, Loss2: 0.2226, Loss3: 1.2160\n"
     ]
    },
    {
     "name": "stderr",
     "output_type": "stream",
     "text": [
      "Test_Loader: 100%|██████████| 288/288 [00:27<00:00, 10.34it/s]\n"
     ]
    },
    {
     "name": "stdout",
     "output_type": "stream",
     "text": [
      "Loss1: 0.5880, Loss2: 0.2318, Loss3: 1.1680\n"
     ]
    },
    {
     "name": "stderr",
     "output_type": "stream",
     "text": [
      "Test_Loader: 100%|██████████| 288/288 [00:27<00:00, 10.32it/s]\n"
     ]
    },
    {
     "name": "stdout",
     "output_type": "stream",
     "text": [
      "Loss1: 0.5785, Loss2: 0.2332, Loss3: 1.1743\n"
     ]
    },
    {
     "name": "stderr",
     "output_type": "stream",
     "text": [
      "Test_Loader: 100%|██████████| 288/288 [00:27<00:00, 10.54it/s]\n"
     ]
    },
    {
     "name": "stdout",
     "output_type": "stream",
     "text": [
      "Loss1: 0.6283, Loss2: 0.2389, Loss3: 1.1833\n"
     ]
    },
    {
     "name": "stderr",
     "output_type": "stream",
     "text": [
      "Test_Loader: 100%|██████████| 288/288 [00:26<00:00, 10.90it/s]\n"
     ]
    },
    {
     "name": "stdout",
     "output_type": "stream",
     "text": [
      "Loss1: 0.6364, Loss2: 0.2381, Loss3: 1.2805\n"
     ]
    },
    {
     "name": "stderr",
     "output_type": "stream",
     "text": [
      "Test_Loader: 100%|██████████| 288/288 [00:26<00:00, 10.90it/s]\n"
     ]
    },
    {
     "name": "stdout",
     "output_type": "stream",
     "text": [
      "Loss1: 0.6124, Loss2: 0.2369, Loss3: 1.3028\n"
     ]
    },
    {
     "name": "stderr",
     "output_type": "stream",
     "text": [
      "Test_Loader: 100%|██████████| 288/288 [00:26<00:00, 10.70it/s]\n"
     ]
    },
    {
     "name": "stdout",
     "output_type": "stream",
     "text": [
      "Loss1: 0.6200, Loss2: 0.2304, Loss3: 1.2173\n"
     ]
    },
    {
     "name": "stderr",
     "output_type": "stream",
     "text": [
      "Test_Loader: 100%|██████████| 288/288 [00:27<00:00, 10.60it/s]\n"
     ]
    },
    {
     "name": "stdout",
     "output_type": "stream",
     "text": [
      "Loss1: 0.6249, Loss2: 0.2400, Loss3: 1.2622\n"
     ]
    },
    {
     "name": "stderr",
     "output_type": "stream",
     "text": [
      "Test_Loader: 100%|██████████| 288/288 [00:26<00:00, 10.72it/s]\n"
     ]
    },
    {
     "name": "stdout",
     "output_type": "stream",
     "text": [
      "Loss1: 0.6336, Loss2: 0.2310, Loss3: 1.2616\n"
     ]
    },
    {
     "name": "stderr",
     "output_type": "stream",
     "text": [
      "Test_Loader: 100%|██████████| 288/288 [00:28<00:00, 10.26it/s]\n"
     ]
    },
    {
     "name": "stdout",
     "output_type": "stream",
     "text": [
      "Loss1: 0.6360, Loss2: 0.2291, Loss3: 1.2464\n"
     ]
    },
    {
     "name": "stderr",
     "output_type": "stream",
     "text": [
      "Test_Loader: 100%|██████████| 288/288 [00:27<00:00, 10.56it/s]\n"
     ]
    },
    {
     "name": "stdout",
     "output_type": "stream",
     "text": [
      "Loss1: 0.6378, Loss2: 0.2357, Loss3: 1.2674\n"
     ]
    },
    {
     "name": "stderr",
     "output_type": "stream",
     "text": [
      "Test_Loader: 100%|██████████| 288/288 [00:26<00:00, 10.87it/s]\n"
     ]
    },
    {
     "name": "stdout",
     "output_type": "stream",
     "text": [
      "Loss1: 0.6425, Loss2: 0.2288, Loss3: 1.2272\n"
     ]
    },
    {
     "name": "stderr",
     "output_type": "stream",
     "text": [
      "Test_Loader: 100%|██████████| 288/288 [00:28<00:00, 10.25it/s]\n"
     ]
    },
    {
     "name": "stdout",
     "output_type": "stream",
     "text": [
      "Loss1: 0.7742, Loss2: 0.2489, Loss3: 1.3384\n"
     ]
    },
    {
     "name": "stderr",
     "output_type": "stream",
     "text": [
      "Test_Loader: 100%|██████████| 288/288 [00:26<00:00, 10.96it/s]\n"
     ]
    },
    {
     "name": "stdout",
     "output_type": "stream",
     "text": [
      "Loss1: 0.7643, Loss2: 0.2502, Loss3: 1.2936\n"
     ]
    },
    {
     "name": "stderr",
     "output_type": "stream",
     "text": [
      "Test_Loader: 100%|██████████| 288/288 [00:26<00:00, 10.95it/s]\n"
     ]
    },
    {
     "name": "stdout",
     "output_type": "stream",
     "text": [
      "Loss1: 0.7197, Loss2: 0.2423, Loss3: 1.3326\n"
     ]
    },
    {
     "name": "stderr",
     "output_type": "stream",
     "text": [
      "Test_Loader: 100%|██████████| 288/288 [00:26<00:00, 10.85it/s]\n"
     ]
    },
    {
     "name": "stdout",
     "output_type": "stream",
     "text": [
      "Loss1: 0.7354, Loss2: 0.2521, Loss3: 1.3059\n"
     ]
    },
    {
     "name": "stderr",
     "output_type": "stream",
     "text": [
      "Test_Loader: 100%|██████████| 288/288 [00:26<00:00, 10.96it/s]\n"
     ]
    },
    {
     "name": "stdout",
     "output_type": "stream",
     "text": [
      "Loss1: 0.7226, Loss2: 0.2509, Loss3: 1.3367\n"
     ]
    },
    {
     "name": "stderr",
     "output_type": "stream",
     "text": [
      "Test_Loader: 100%|██████████| 288/288 [00:26<00:00, 11.04it/s]\n"
     ]
    },
    {
     "name": "stdout",
     "output_type": "stream",
     "text": [
      "Loss1: 0.7244, Loss2: 0.2546, Loss3: 1.3203\n"
     ]
    },
    {
     "name": "stderr",
     "output_type": "stream",
     "text": [
      "Test_Loader: 100%|██████████| 288/288 [00:26<00:00, 10.93it/s]\n"
     ]
    },
    {
     "name": "stdout",
     "output_type": "stream",
     "text": [
      "Loss1: 0.7131, Loss2: 0.2429, Loss3: 1.3460\n"
     ]
    },
    {
     "name": "stderr",
     "output_type": "stream",
     "text": [
      "Test_Loader: 100%|██████████| 288/288 [00:26<00:00, 10.92it/s]\n"
     ]
    },
    {
     "name": "stdout",
     "output_type": "stream",
     "text": [
      "Loss1: 0.7043, Loss2: 0.2408, Loss3: 1.3239\n"
     ]
    },
    {
     "name": "stderr",
     "output_type": "stream",
     "text": [
      "Test_Loader: 100%|██████████| 288/288 [00:26<00:00, 10.68it/s]\n"
     ]
    },
    {
     "name": "stdout",
     "output_type": "stream",
     "text": [
      "Loss1: 0.7125, Loss2: 0.2451, Loss3: 1.3356\n"
     ]
    },
    {
     "name": "stderr",
     "output_type": "stream",
     "text": [
      "Test_Loader: 100%|██████████| 288/288 [00:26<00:00, 10.84it/s]\n"
     ]
    },
    {
     "name": "stdout",
     "output_type": "stream",
     "text": [
      "Loss1: 0.7015, Loss2: 0.2444, Loss3: 1.3208\n"
     ]
    },
    {
     "name": "stderr",
     "output_type": "stream",
     "text": [
      "Test_Loader: 100%|██████████| 288/288 [00:26<00:00, 10.77it/s]\n"
     ]
    },
    {
     "name": "stdout",
     "output_type": "stream",
     "text": [
      "Loss1: 0.7239, Loss2: 0.2417, Loss3: 1.3450\n"
     ]
    },
    {
     "name": "stderr",
     "output_type": "stream",
     "text": [
      "Test_Loader: 100%|██████████| 288/288 [00:26<00:00, 10.94it/s]\n"
     ]
    },
    {
     "name": "stdout",
     "output_type": "stream",
     "text": [
      "Loss1: 0.6968, Loss2: 0.2387, Loss3: 1.3392\n"
     ]
    },
    {
     "name": "stderr",
     "output_type": "stream",
     "text": [
      "Test_Loader: 100%|██████████| 288/288 [00:26<00:00, 10.95it/s]\n"
     ]
    },
    {
     "name": "stdout",
     "output_type": "stream",
     "text": [
      "Loss1: 0.7114, Loss2: 0.2369, Loss3: 1.3063\n"
     ]
    },
    {
     "name": "stderr",
     "output_type": "stream",
     "text": [
      "Test_Loader: 100%|██████████| 288/288 [00:28<00:00, 10.17it/s]\n"
     ]
    },
    {
     "name": "stdout",
     "output_type": "stream",
     "text": [
      "Loss1: 0.6982, Loss2: 0.2340, Loss3: 1.3136\n"
     ]
    },
    {
     "name": "stderr",
     "output_type": "stream",
     "text": [
      "Test_Loader: 100%|██████████| 288/288 [00:28<00:00, 10.27it/s]\n"
     ]
    },
    {
     "name": "stdout",
     "output_type": "stream",
     "text": [
      "Loss1: 0.6865, Loss2: 0.2294, Loss3: 1.2685\n"
     ]
    },
    {
     "name": "stderr",
     "output_type": "stream",
     "text": [
      "Test_Loader: 100%|██████████| 288/288 [00:27<00:00, 10.63it/s]\n"
     ]
    },
    {
     "name": "stdout",
     "output_type": "stream",
     "text": [
      "Loss1: 0.7693, Loss2: 0.2450, Loss3: 1.3136\n"
     ]
    },
    {
     "name": "stderr",
     "output_type": "stream",
     "text": [
      "Test_Loader: 100%|██████████| 288/288 [00:26<00:00, 10.93it/s]\n"
     ]
    },
    {
     "name": "stdout",
     "output_type": "stream",
     "text": [
      "Loss1: 0.7504, Loss2: 0.2423, Loss3: 1.3077\n"
     ]
    },
    {
     "name": "stderr",
     "output_type": "stream",
     "text": [
      "Test_Loader: 100%|██████████| 288/288 [00:26<00:00, 11.04it/s]\n"
     ]
    },
    {
     "name": "stdout",
     "output_type": "stream",
     "text": [
      "Loss1: 0.7457, Loss2: 0.2455, Loss3: 1.3568\n"
     ]
    },
    {
     "name": "stderr",
     "output_type": "stream",
     "text": [
      "Test_Loader: 100%|██████████| 288/288 [00:25<00:00, 11.10it/s]\n"
     ]
    },
    {
     "name": "stdout",
     "output_type": "stream",
     "text": [
      "Loss1: 0.7374, Loss2: 0.2388, Loss3: 1.3402\n"
     ]
    },
    {
     "name": "stderr",
     "output_type": "stream",
     "text": [
      "Test_Loader: 100%|██████████| 288/288 [00:26<00:00, 10.81it/s]\n"
     ]
    },
    {
     "name": "stdout",
     "output_type": "stream",
     "text": [
      "Loss1: 0.7530, Loss2: 0.2353, Loss3: 1.2761\n"
     ]
    },
    {
     "name": "stderr",
     "output_type": "stream",
     "text": [
      "Test_Loader: 100%|██████████| 288/288 [00:26<00:00, 10.97it/s]\n"
     ]
    },
    {
     "name": "stdout",
     "output_type": "stream",
     "text": [
      "Loss1: 0.7292, Loss2: 0.2383, Loss3: 1.3208\n"
     ]
    },
    {
     "name": "stderr",
     "output_type": "stream",
     "text": [
      "Test_Loader: 100%|██████████| 288/288 [00:26<00:00, 11.07it/s]\n"
     ]
    },
    {
     "name": "stdout",
     "output_type": "stream",
     "text": [
      "Loss1: 0.7159, Loss2: 0.2334, Loss3: 1.2503\n"
     ]
    },
    {
     "name": "stderr",
     "output_type": "stream",
     "text": [
      "Test_Loader: 100%|██████████| 288/288 [00:25<00:00, 11.14it/s]\n"
     ]
    },
    {
     "name": "stdout",
     "output_type": "stream",
     "text": [
      "Loss1: 0.7117, Loss2: 0.2372, Loss3: 1.2683\n"
     ]
    },
    {
     "name": "stderr",
     "output_type": "stream",
     "text": [
      "Test_Loader: 100%|██████████| 288/288 [00:25<00:00, 11.43it/s]\n"
     ]
    },
    {
     "name": "stdout",
     "output_type": "stream",
     "text": [
      "Loss1: 0.7104, Loss2: 0.2364, Loss3: 1.2458\n"
     ]
    },
    {
     "name": "stderr",
     "output_type": "stream",
     "text": [
      "Test_Loader: 100%|██████████| 288/288 [00:25<00:00, 11.28it/s]\n"
     ]
    },
    {
     "name": "stdout",
     "output_type": "stream",
     "text": [
      "Loss1: 0.6787, Loss2: 0.2234, Loss3: 1.1913\n"
     ]
    },
    {
     "name": "stderr",
     "output_type": "stream",
     "text": [
      "Test_Loader: 100%|██████████| 288/288 [00:26<00:00, 10.87it/s]\n"
     ]
    },
    {
     "name": "stdout",
     "output_type": "stream",
     "text": [
      "Loss1: 0.6902, Loss2: 0.2196, Loss3: 1.1596\n"
     ]
    },
    {
     "name": "stderr",
     "output_type": "stream",
     "text": [
      "Test_Loader: 100%|██████████| 288/288 [00:26<00:00, 10.86it/s]\n"
     ]
    },
    {
     "name": "stdout",
     "output_type": "stream",
     "text": [
      "Loss1: 0.6756, Loss2: 0.2184, Loss3: 1.1629\n"
     ]
    },
    {
     "name": "stderr",
     "output_type": "stream",
     "text": [
      "Test_Loader: 100%|██████████| 288/288 [00:28<00:00, 10.19it/s]\n"
     ]
    },
    {
     "name": "stdout",
     "output_type": "stream",
     "text": [
      "Loss1: 0.6916, Loss2: 0.2378, Loss3: 1.1921\n"
     ]
    },
    {
     "name": "stderr",
     "output_type": "stream",
     "text": [
      "Test_Loader: 100%|██████████| 288/288 [00:26<00:00, 10.67it/s]\n"
     ]
    },
    {
     "name": "stdout",
     "output_type": "stream",
     "text": [
      "Loss1: 0.6933, Loss2: 0.2373, Loss3: 1.1620\n"
     ]
    },
    {
     "name": "stderr",
     "output_type": "stream",
     "text": [
      "Test_Loader: 100%|██████████| 288/288 [00:26<00:00, 11.05it/s]\n"
     ]
    },
    {
     "name": "stdout",
     "output_type": "stream",
     "text": [
      "Loss1: 0.6871, Loss2: 0.2402, Loss3: 1.1669\n"
     ]
    },
    {
     "name": "stderr",
     "output_type": "stream",
     "text": [
      "Test_Loader: 100%|██████████| 288/288 [00:26<00:00, 10.84it/s]\n"
     ]
    },
    {
     "name": "stdout",
     "output_type": "stream",
     "text": [
      "Loss1: 0.6585, Loss2: 0.2320, Loss3: 1.1364\n"
     ]
    },
    {
     "name": "stderr",
     "output_type": "stream",
     "text": [
      "Test_Loader: 100%|██████████| 288/288 [00:26<00:00, 10.79it/s]\n"
     ]
    },
    {
     "name": "stdout",
     "output_type": "stream",
     "text": [
      "Loss1: 0.6768, Loss2: 0.2418, Loss3: 1.1946\n"
     ]
    },
    {
     "name": "stderr",
     "output_type": "stream",
     "text": [
      "Test_Loader: 100%|██████████| 288/288 [00:28<00:00, 10.27it/s]\n"
     ]
    },
    {
     "name": "stdout",
     "output_type": "stream",
     "text": [
      "Loss1: 0.6818, Loss2: 0.2399, Loss3: 1.1829\n"
     ]
    },
    {
     "name": "stderr",
     "output_type": "stream",
     "text": [
      "Test_Loader: 100%|██████████| 288/288 [00:25<00:00, 11.13it/s]\n"
     ]
    },
    {
     "name": "stdout",
     "output_type": "stream",
     "text": [
      "Loss1: 0.6746, Loss2: 0.2371, Loss3: 1.1847\n"
     ]
    },
    {
     "name": "stderr",
     "output_type": "stream",
     "text": [
      "Test_Loader: 100%|██████████| 288/288 [00:26<00:00, 10.99it/s]\n"
     ]
    },
    {
     "name": "stdout",
     "output_type": "stream",
     "text": [
      "Loss1: 0.6674, Loss2: 0.2386, Loss3: 1.1720\n"
     ]
    },
    {
     "name": "stderr",
     "output_type": "stream",
     "text": [
      "Test_Loader: 100%|██████████| 288/288 [00:27<00:00, 10.66it/s]\n"
     ]
    },
    {
     "name": "stdout",
     "output_type": "stream",
     "text": [
      "Loss1: 0.7168, Loss2: 0.2474, Loss3: 1.1788\n"
     ]
    },
    {
     "name": "stderr",
     "output_type": "stream",
     "text": [
      "Test_Loader: 100%|██████████| 288/288 [00:26<00:00, 10.80it/s]\n"
     ]
    },
    {
     "name": "stdout",
     "output_type": "stream",
     "text": [
      "Loss1: 0.6820, Loss2: 0.2478, Loss3: 1.1971\n"
     ]
    },
    {
     "name": "stderr",
     "output_type": "stream",
     "text": [
      "Test_Loader: 100%|██████████| 288/288 [00:26<00:00, 10.89it/s]\n"
     ]
    },
    {
     "name": "stdout",
     "output_type": "stream",
     "text": [
      "Loss1: 0.6967, Loss2: 0.2475, Loss3: 1.2221\n"
     ]
    },
    {
     "name": "stderr",
     "output_type": "stream",
     "text": [
      "Test_Loader: 100%|██████████| 288/288 [00:27<00:00, 10.57it/s]\n"
     ]
    },
    {
     "name": "stdout",
     "output_type": "stream",
     "text": [
      "Loss1: 0.7241, Loss2: 0.2611, Loss3: 1.2163\n"
     ]
    },
    {
     "name": "stderr",
     "output_type": "stream",
     "text": [
      "Test_Loader: 100%|██████████| 288/288 [00:26<00:00, 10.89it/s]\n"
     ]
    },
    {
     "name": "stdout",
     "output_type": "stream",
     "text": [
      "Loss1: 0.7144, Loss2: 0.2459, Loss3: 1.1780\n"
     ]
    },
    {
     "name": "stderr",
     "output_type": "stream",
     "text": [
      "Test_Loader: 100%|██████████| 288/288 [00:29<00:00,  9.73it/s]\n"
     ]
    },
    {
     "name": "stdout",
     "output_type": "stream",
     "text": [
      "Loss1: 0.6743, Loss2: 0.2470, Loss3: 1.1619\n"
     ]
    },
    {
     "name": "stderr",
     "output_type": "stream",
     "text": [
      "Test_Loader: 100%|██████████| 288/288 [00:28<00:00, 10.16it/s]\n"
     ]
    },
    {
     "name": "stdout",
     "output_type": "stream",
     "text": [
      "Loss1: 0.6774, Loss2: 0.2492, Loss3: 1.1988\n"
     ]
    },
    {
     "name": "stderr",
     "output_type": "stream",
     "text": [
      "Test_Loader: 100%|██████████| 288/288 [00:27<00:00, 10.29it/s]\n"
     ]
    },
    {
     "name": "stdout",
     "output_type": "stream",
     "text": [
      "Loss1: 0.6691, Loss2: 0.2374, Loss3: 1.1649\n"
     ]
    },
    {
     "name": "stderr",
     "output_type": "stream",
     "text": [
      "Test_Loader: 100%|██████████| 288/288 [00:26<00:00, 10.85it/s]\n"
     ]
    },
    {
     "name": "stdout",
     "output_type": "stream",
     "text": [
      "Loss1: 0.6561, Loss2: 0.2364, Loss3: 1.1495\n"
     ]
    },
    {
     "name": "stderr",
     "output_type": "stream",
     "text": [
      "Test_Loader: 100%|██████████| 288/288 [00:26<00:00, 10.69it/s]\n"
     ]
    },
    {
     "name": "stdout",
     "output_type": "stream",
     "text": [
      "Loss1: 0.6596, Loss2: 0.2351, Loss3: 1.1379\n"
     ]
    },
    {
     "name": "stderr",
     "output_type": "stream",
     "text": [
      "Test_Loader: 100%|██████████| 288/288 [00:27<00:00, 10.52it/s]\n"
     ]
    },
    {
     "name": "stdout",
     "output_type": "stream",
     "text": [
      "Loss1: 0.6562, Loss2: 0.2339, Loss3: 1.1522\n"
     ]
    },
    {
     "name": "stderr",
     "output_type": "stream",
     "text": [
      "Test_Loader: 100%|██████████| 288/288 [00:27<00:00, 10.58it/s]\n"
     ]
    },
    {
     "name": "stdout",
     "output_type": "stream",
     "text": [
      "Loss1: 0.9246, Loss2: 0.2355, Loss3: 1.5680\n"
     ]
    },
    {
     "name": "stderr",
     "output_type": "stream",
     "text": [
      "Test_Loader: 100%|██████████| 288/288 [00:26<00:00, 10.80it/s]\n"
     ]
    },
    {
     "name": "stdout",
     "output_type": "stream",
     "text": [
      "Loss1: 0.9192, Loss2: 0.2388, Loss3: 1.5676\n"
     ]
    },
    {
     "name": "stderr",
     "output_type": "stream",
     "text": [
      "Test_Loader: 100%|██████████| 288/288 [00:26<00:00, 10.78it/s]\n"
     ]
    },
    {
     "name": "stdout",
     "output_type": "stream",
     "text": [
      "Loss1: 0.9237, Loss2: 0.2422, Loss3: 1.5503\n"
     ]
    },
    {
     "name": "stderr",
     "output_type": "stream",
     "text": [
      "Test_Loader: 100%|██████████| 288/288 [00:26<00:00, 10.86it/s]\n"
     ]
    },
    {
     "name": "stdout",
     "output_type": "stream",
     "text": [
      "Loss1: 0.9000, Loss2: 0.2402, Loss3: 1.5305\n"
     ]
    },
    {
     "name": "stderr",
     "output_type": "stream",
     "text": [
      "Test_Loader: 100%|██████████| 288/288 [00:26<00:00, 10.74it/s]\n"
     ]
    },
    {
     "name": "stdout",
     "output_type": "stream",
     "text": [
      "Loss1: 0.8880, Loss2: 0.2316, Loss3: 1.5136\n"
     ]
    },
    {
     "name": "stderr",
     "output_type": "stream",
     "text": [
      "Test_Loader: 100%|██████████| 288/288 [00:26<00:00, 10.77it/s]\n"
     ]
    },
    {
     "name": "stdout",
     "output_type": "stream",
     "text": [
      "Loss1: 0.8678, Loss2: 0.2369, Loss3: 1.5271\n"
     ]
    },
    {
     "name": "stderr",
     "output_type": "stream",
     "text": [
      "Test_Loader: 100%|██████████| 288/288 [00:27<00:00, 10.60it/s]\n"
     ]
    },
    {
     "name": "stdout",
     "output_type": "stream",
     "text": [
      "Loss1: 0.8603, Loss2: 0.2370, Loss3: 1.5356\n"
     ]
    },
    {
     "name": "stderr",
     "output_type": "stream",
     "text": [
      "Test_Loader: 100%|██████████| 288/288 [00:27<00:00, 10.29it/s]\n"
     ]
    },
    {
     "name": "stdout",
     "output_type": "stream",
     "text": [
      "Loss1: 0.8774, Loss2: 0.2362, Loss3: 1.5068\n"
     ]
    },
    {
     "name": "stderr",
     "output_type": "stream",
     "text": [
      "Test_Loader: 100%|██████████| 288/288 [00:27<00:00, 10.36it/s]\n"
     ]
    },
    {
     "name": "stdout",
     "output_type": "stream",
     "text": [
      "Loss1: 0.8559, Loss2: 0.2361, Loss3: 1.4887\n"
     ]
    },
    {
     "name": "stderr",
     "output_type": "stream",
     "text": [
      "Test_Loader: 100%|██████████| 288/288 [00:26<00:00, 10.69it/s]\n"
     ]
    },
    {
     "name": "stdout",
     "output_type": "stream",
     "text": [
      "Loss1: 0.8427, Loss2: 0.2329, Loss3: 1.4846\n"
     ]
    },
    {
     "name": "stderr",
     "output_type": "stream",
     "text": [
      "Test_Loader: 100%|██████████| 288/288 [00:27<00:00, 10.64it/s]\n"
     ]
    },
    {
     "name": "stdout",
     "output_type": "stream",
     "text": [
      "Loss1: 0.8499, Loss2: 0.2394, Loss3: 1.4705\n"
     ]
    },
    {
     "name": "stderr",
     "output_type": "stream",
     "text": [
      "Test_Loader: 100%|██████████| 288/288 [00:27<00:00, 10.32it/s]\n"
     ]
    },
    {
     "name": "stdout",
     "output_type": "stream",
     "text": [
      "Loss1: 0.8345, Loss2: 0.2323, Loss3: 1.4693\n"
     ]
    },
    {
     "name": "stderr",
     "output_type": "stream",
     "text": [
      "Test_Loader: 100%|██████████| 288/288 [00:28<00:00, 10.28it/s]\n"
     ]
    },
    {
     "name": "stdout",
     "output_type": "stream",
     "text": [
      "Loss1: 0.8320, Loss2: 0.2348, Loss3: 1.4750\n"
     ]
    },
    {
     "name": "stderr",
     "output_type": "stream",
     "text": [
      "Test_Loader: 100%|██████████| 288/288 [00:27<00:00, 10.67it/s]\n"
     ]
    },
    {
     "name": "stdout",
     "output_type": "stream",
     "text": [
      "Loss1: 0.8262, Loss2: 0.2357, Loss3: 1.4809\n"
     ]
    },
    {
     "name": "stderr",
     "output_type": "stream",
     "text": [
      "Test_Loader: 100%|██████████| 288/288 [00:25<00:00, 11.10it/s]\n"
     ]
    },
    {
     "name": "stdout",
     "output_type": "stream",
     "text": [
      "Loss1: 0.8810, Loss2: 0.2377, Loss3: 1.4295\n"
     ]
    },
    {
     "name": "stderr",
     "output_type": "stream",
     "text": [
      "Test_Loader: 100%|██████████| 288/288 [00:26<00:00, 10.95it/s]\n"
     ]
    },
    {
     "name": "stdout",
     "output_type": "stream",
     "text": [
      "Loss1: 0.8320, Loss2: 0.2315, Loss3: 1.5056\n"
     ]
    },
    {
     "name": "stderr",
     "output_type": "stream",
     "text": [
      "Test_Loader: 100%|██████████| 288/288 [00:26<00:00, 10.99it/s]\n"
     ]
    },
    {
     "name": "stdout",
     "output_type": "stream",
     "text": [
      "Loss1: 0.8733, Loss2: 0.2321, Loss3: 1.4551\n"
     ]
    },
    {
     "name": "stderr",
     "output_type": "stream",
     "text": [
      "Test_Loader: 100%|██████████| 288/288 [00:26<00:00, 11.01it/s]\n"
     ]
    },
    {
     "name": "stdout",
     "output_type": "stream",
     "text": [
      "Loss1: 0.8857, Loss2: 0.2346, Loss3: 1.5147\n"
     ]
    },
    {
     "name": "stderr",
     "output_type": "stream",
     "text": [
      "Test_Loader: 100%|██████████| 288/288 [00:26<00:00, 11.04it/s]\n"
     ]
    },
    {
     "name": "stdout",
     "output_type": "stream",
     "text": [
      "Loss1: 0.8592, Loss2: 0.2265, Loss3: 1.4818\n"
     ]
    },
    {
     "name": "stderr",
     "output_type": "stream",
     "text": [
      "Test_Loader: 100%|██████████| 288/288 [00:26<00:00, 11.01it/s]\n"
     ]
    },
    {
     "name": "stdout",
     "output_type": "stream",
     "text": [
      "Loss1: 0.8621, Loss2: 0.2307, Loss3: 1.4918\n"
     ]
    },
    {
     "name": "stderr",
     "output_type": "stream",
     "text": [
      "Test_Loader: 100%|██████████| 288/288 [00:25<00:00, 11.28it/s]\n"
     ]
    },
    {
     "name": "stdout",
     "output_type": "stream",
     "text": [
      "Loss1: 0.8787, Loss2: 0.2232, Loss3: 1.4823\n"
     ]
    },
    {
     "name": "stderr",
     "output_type": "stream",
     "text": [
      "Test_Loader: 100%|██████████| 288/288 [00:27<00:00, 10.49it/s]\n"
     ]
    },
    {
     "name": "stdout",
     "output_type": "stream",
     "text": [
      "Loss1: 0.8705, Loss2: 0.2280, Loss3: 1.4633\n"
     ]
    },
    {
     "name": "stderr",
     "output_type": "stream",
     "text": [
      "Test_Loader: 100%|██████████| 288/288 [00:27<00:00, 10.52it/s]\n"
     ]
    },
    {
     "name": "stdout",
     "output_type": "stream",
     "text": [
      "Loss1: 0.8612, Loss2: 0.2318, Loss3: 1.4688\n"
     ]
    },
    {
     "name": "stderr",
     "output_type": "stream",
     "text": [
      "Test_Loader: 100%|██████████| 288/288 [00:25<00:00, 11.29it/s]\n"
     ]
    },
    {
     "name": "stdout",
     "output_type": "stream",
     "text": [
      "Loss1: 0.8666, Loss2: 0.2278, Loss3: 1.4391\n"
     ]
    },
    {
     "name": "stderr",
     "output_type": "stream",
     "text": [
      "Test_Loader: 100%|██████████| 288/288 [00:25<00:00, 11.38it/s]\n"
     ]
    },
    {
     "name": "stdout",
     "output_type": "stream",
     "text": [
      "Loss1: 0.8483, Loss2: 0.2284, Loss3: 1.4641\n"
     ]
    },
    {
     "name": "stderr",
     "output_type": "stream",
     "text": [
      "Test_Loader: 100%|██████████| 288/288 [00:25<00:00, 11.17it/s]\n"
     ]
    },
    {
     "name": "stdout",
     "output_type": "stream",
     "text": [
      "Loss1: 0.8297, Loss2: 0.2186, Loss3: 1.4349\n"
     ]
    },
    {
     "name": "stderr",
     "output_type": "stream",
     "text": [
      "Test_Loader: 100%|██████████| 288/288 [00:26<00:00, 10.81it/s]\n"
     ]
    },
    {
     "name": "stdout",
     "output_type": "stream",
     "text": [
      "Loss1: 0.8544, Loss2: 0.2211, Loss3: 1.4109\n"
     ]
    },
    {
     "name": "stderr",
     "output_type": "stream",
     "text": [
      "Test_Loader: 100%|██████████| 288/288 [00:26<00:00, 10.78it/s]\n"
     ]
    },
    {
     "name": "stdout",
     "output_type": "stream",
     "text": [
      "Loss1: 0.8418, Loss2: 0.2263, Loss3: 1.4340\n"
     ]
    },
    {
     "name": "stderr",
     "output_type": "stream",
     "text": [
      "Test_Loader: 100%|██████████| 288/288 [00:26<00:00, 11.00it/s]\n"
     ]
    },
    {
     "name": "stdout",
     "output_type": "stream",
     "text": [
      "Loss1: 0.8377, Loss2: 0.2278, Loss3: 1.4032\n"
     ]
    },
    {
     "name": "stderr",
     "output_type": "stream",
     "text": [
      "Test_Loader: 100%|██████████| 288/288 [00:26<00:00, 10.86it/s]\n"
     ]
    },
    {
     "name": "stdout",
     "output_type": "stream",
     "text": [
      "Loss1: 0.8190, Loss2: 0.2232, Loss3: 1.3625\n"
     ]
    },
    {
     "name": "stderr",
     "output_type": "stream",
     "text": [
      "Test_Loader: 100%|██████████| 288/288 [00:26<00:00, 11.00it/s]\n"
     ]
    },
    {
     "name": "stdout",
     "output_type": "stream",
     "text": [
      "Loss1: 0.8528, Loss2: 0.2305, Loss3: 1.3549\n"
     ]
    },
    {
     "name": "stderr",
     "output_type": "stream",
     "text": [
      "Test_Loader: 100%|██████████| 288/288 [00:26<00:00, 11.04it/s]\n"
     ]
    },
    {
     "name": "stdout",
     "output_type": "stream",
     "text": [
      "Loss1: 0.8329, Loss2: 0.2353, Loss3: 1.3686\n"
     ]
    },
    {
     "name": "stderr",
     "output_type": "stream",
     "text": [
      "Test_Loader: 100%|██████████| 288/288 [00:25<00:00, 11.10it/s]\n"
     ]
    },
    {
     "name": "stdout",
     "output_type": "stream",
     "text": [
      "Loss1: 0.8400, Loss2: 0.2355, Loss3: 1.3527\n"
     ]
    },
    {
     "name": "stderr",
     "output_type": "stream",
     "text": [
      "Test_Loader: 100%|██████████| 288/288 [00:25<00:00, 11.39it/s]\n"
     ]
    },
    {
     "name": "stdout",
     "output_type": "stream",
     "text": [
      "Loss1: 0.8301, Loss2: 0.2414, Loss3: 1.3505\n"
     ]
    },
    {
     "name": "stderr",
     "output_type": "stream",
     "text": [
      "Test_Loader: 100%|██████████| 288/288 [00:27<00:00, 10.61it/s]\n"
     ]
    },
    {
     "name": "stdout",
     "output_type": "stream",
     "text": [
      "Loss1: 0.8314, Loss2: 0.2294, Loss3: 1.3558\n"
     ]
    },
    {
     "name": "stderr",
     "output_type": "stream",
     "text": [
      "Test_Loader: 100%|██████████| 288/288 [00:27<00:00, 10.44it/s]\n"
     ]
    },
    {
     "name": "stdout",
     "output_type": "stream",
     "text": [
      "Loss1: 0.8079, Loss2: 0.2391, Loss3: 1.3702\n"
     ]
    },
    {
     "name": "stderr",
     "output_type": "stream",
     "text": [
      "Test_Loader: 100%|██████████| 288/288 [00:28<00:00, 10.13it/s]\n"
     ]
    },
    {
     "name": "stdout",
     "output_type": "stream",
     "text": [
      "Loss1: 0.7967, Loss2: 0.2377, Loss3: 1.3300\n"
     ]
    },
    {
     "name": "stderr",
     "output_type": "stream",
     "text": [
      "Test_Loader: 100%|██████████| 288/288 [00:25<00:00, 11.09it/s]\n"
     ]
    },
    {
     "name": "stdout",
     "output_type": "stream",
     "text": [
      "Loss1: 0.8060, Loss2: 0.2382, Loss3: 1.3761\n"
     ]
    },
    {
     "name": "stderr",
     "output_type": "stream",
     "text": [
      "Test_Loader: 100%|██████████| 288/288 [00:25<00:00, 11.25it/s]\n"
     ]
    },
    {
     "name": "stdout",
     "output_type": "stream",
     "text": [
      "Loss1: 0.8036, Loss2: 0.2559, Loss3: 1.3972\n"
     ]
    },
    {
     "name": "stderr",
     "output_type": "stream",
     "text": [
      "Test_Loader: 100%|██████████| 288/288 [00:25<00:00, 11.15it/s]\n"
     ]
    },
    {
     "name": "stdout",
     "output_type": "stream",
     "text": [
      "Loss1: 0.8061, Loss2: 0.2477, Loss3: 1.3853\n"
     ]
    },
    {
     "name": "stderr",
     "output_type": "stream",
     "text": [
      "Test_Loader: 100%|██████████| 288/288 [00:25<00:00, 11.09it/s]\n"
     ]
    },
    {
     "name": "stdout",
     "output_type": "stream",
     "text": [
      "Loss1: 0.7932, Loss2: 0.2465, Loss3: 1.3803\n"
     ]
    },
    {
     "name": "stderr",
     "output_type": "stream",
     "text": [
      "Test_Loader: 100%|██████████| 288/288 [00:26<00:00, 10.79it/s]\n"
     ]
    },
    {
     "name": "stdout",
     "output_type": "stream",
     "text": [
      "Loss1: 0.7799, Loss2: 0.2582, Loss3: 1.3901\n"
     ]
    },
    {
     "name": "stderr",
     "output_type": "stream",
     "text": [
      "Test_Loader: 100%|██████████| 288/288 [00:25<00:00, 11.15it/s]\n"
     ]
    },
    {
     "name": "stdout",
     "output_type": "stream",
     "text": [
      "Loss1: 0.7863, Loss2: 0.2637, Loss3: 1.3608\n"
     ]
    },
    {
     "name": "stderr",
     "output_type": "stream",
     "text": [
      "Test_Loader: 100%|██████████| 288/288 [00:25<00:00, 11.25it/s]\n"
     ]
    },
    {
     "name": "stdout",
     "output_type": "stream",
     "text": [
      "Loss1: 0.7979, Loss2: 0.2595, Loss3: 1.3545\n"
     ]
    },
    {
     "name": "stderr",
     "output_type": "stream",
     "text": [
      "Test_Loader: 100%|██████████| 288/288 [00:25<00:00, 11.26it/s]\n"
     ]
    },
    {
     "name": "stdout",
     "output_type": "stream",
     "text": [
      "Loss1: 0.7620, Loss2: 0.2503, Loss3: 1.3456\n"
     ]
    },
    {
     "name": "stderr",
     "output_type": "stream",
     "text": [
      "Test_Loader: 100%|██████████| 288/288 [00:25<00:00, 11.32it/s]\n"
     ]
    },
    {
     "name": "stdout",
     "output_type": "stream",
     "text": [
      "Loss1: 0.7411, Loss2: 0.2480, Loss3: 1.3255\n"
     ]
    },
    {
     "name": "stderr",
     "output_type": "stream",
     "text": [
      "Test_Loader: 100%|██████████| 288/288 [00:26<00:00, 10.80it/s]\n"
     ]
    },
    {
     "name": "stdout",
     "output_type": "stream",
     "text": [
      "Loss1: 0.7436, Loss2: 0.2396, Loss3: 1.2825\n"
     ]
    },
    {
     "name": "stderr",
     "output_type": "stream",
     "text": [
      "Test_Loader: 100%|██████████| 288/288 [00:26<00:00, 11.01it/s]\n"
     ]
    },
    {
     "name": "stdout",
     "output_type": "stream",
     "text": [
      "Loss1: 0.8006, Loss2: 0.2611, Loss3: 1.3901\n"
     ]
    },
    {
     "name": "stderr",
     "output_type": "stream",
     "text": [
      "Test_Loader: 100%|██████████| 288/288 [00:27<00:00, 10.59it/s]\n"
     ]
    },
    {
     "name": "stdout",
     "output_type": "stream",
     "text": [
      "Loss1: 0.7797, Loss2: 0.2439, Loss3: 1.3975\n"
     ]
    },
    {
     "name": "stderr",
     "output_type": "stream",
     "text": [
      "Test_Loader: 100%|██████████| 288/288 [00:28<00:00, 10.09it/s]\n"
     ]
    },
    {
     "name": "stdout",
     "output_type": "stream",
     "text": [
      "Loss1: 0.7793, Loss2: 0.2541, Loss3: 1.3818\n"
     ]
    },
    {
     "name": "stderr",
     "output_type": "stream",
     "text": [
      "Test_Loader: 100%|██████████| 288/288 [00:25<00:00, 11.20it/s]\n"
     ]
    },
    {
     "name": "stdout",
     "output_type": "stream",
     "text": [
      "Loss1: 0.7612, Loss2: 0.2513, Loss3: 1.3793\n"
     ]
    },
    {
     "name": "stderr",
     "output_type": "stream",
     "text": [
      "Test_Loader: 100%|██████████| 288/288 [00:25<00:00, 11.08it/s]\n"
     ]
    },
    {
     "name": "stdout",
     "output_type": "stream",
     "text": [
      "Loss1: 0.7406, Loss2: 0.2532, Loss3: 1.3968\n"
     ]
    },
    {
     "name": "stderr",
     "output_type": "stream",
     "text": [
      "Test_Loader: 100%|██████████| 288/288 [00:26<00:00, 10.92it/s]\n"
     ]
    },
    {
     "name": "stdout",
     "output_type": "stream",
     "text": [
      "Loss1: 0.7887, Loss2: 0.2585, Loss3: 1.3997\n"
     ]
    },
    {
     "name": "stderr",
     "output_type": "stream",
     "text": [
      "Test_Loader: 100%|██████████| 288/288 [00:26<00:00, 10.85it/s]\n"
     ]
    },
    {
     "name": "stdout",
     "output_type": "stream",
     "text": [
      "Loss1: 0.7194, Loss2: 0.2423, Loss3: 1.3902\n"
     ]
    },
    {
     "name": "stderr",
     "output_type": "stream",
     "text": [
      "Test_Loader: 100%|██████████| 288/288 [00:26<00:00, 10.78it/s]\n"
     ]
    },
    {
     "name": "stdout",
     "output_type": "stream",
     "text": [
      "Loss1: 0.7342, Loss2: 0.2359, Loss3: 1.3315\n"
     ]
    },
    {
     "name": "stderr",
     "output_type": "stream",
     "text": [
      "Test_Loader: 100%|██████████| 288/288 [00:26<00:00, 10.94it/s]\n"
     ]
    },
    {
     "name": "stdout",
     "output_type": "stream",
     "text": [
      "Loss1: 0.7284, Loss2: 0.2359, Loss3: 1.3209\n"
     ]
    },
    {
     "name": "stderr",
     "output_type": "stream",
     "text": [
      "Test_Loader: 100%|██████████| 288/288 [00:26<00:00, 10.76it/s]\n"
     ]
    },
    {
     "name": "stdout",
     "output_type": "stream",
     "text": [
      "Loss1: 0.7108, Loss2: 0.2403, Loss3: 1.3162\n"
     ]
    },
    {
     "name": "stderr",
     "output_type": "stream",
     "text": [
      "Test_Loader: 100%|██████████| 288/288 [00:26<00:00, 10.91it/s]\n"
     ]
    },
    {
     "name": "stdout",
     "output_type": "stream",
     "text": [
      "Loss1: 0.7285, Loss2: 0.2414, Loss3: 1.3016\n"
     ]
    },
    {
     "name": "stderr",
     "output_type": "stream",
     "text": [
      "Test_Loader: 100%|██████████| 288/288 [00:26<00:00, 10.84it/s]\n"
     ]
    },
    {
     "name": "stdout",
     "output_type": "stream",
     "text": [
      "Loss1: 0.6991, Loss2: 0.2349, Loss3: 1.2858\n"
     ]
    },
    {
     "name": "stderr",
     "output_type": "stream",
     "text": [
      "Test_Loader: 100%|██████████| 288/288 [00:25<00:00, 11.17it/s]\n"
     ]
    },
    {
     "name": "stdout",
     "output_type": "stream",
     "text": [
      "Loss1: 0.6990, Loss2: 0.2336, Loss3: 1.2785\n"
     ]
    },
    {
     "name": "stderr",
     "output_type": "stream",
     "text": [
      "Test_Loader: 100%|██████████| 288/288 [00:25<00:00, 11.09it/s]\n"
     ]
    },
    {
     "name": "stdout",
     "output_type": "stream",
     "text": [
      "Loss1: 0.6868, Loss2: 0.2291, Loss3: 1.2694\n"
     ]
    },
    {
     "name": "stderr",
     "output_type": "stream",
     "text": [
      "Test_Loader: 100%|██████████| 288/288 [00:25<00:00, 11.32it/s]\n"
     ]
    },
    {
     "name": "stdout",
     "output_type": "stream",
     "text": [
      "Loss1: 0.7257, Loss2: 0.2228, Loss3: 1.2302\n"
     ]
    },
    {
     "name": "stderr",
     "output_type": "stream",
     "text": [
      "Test_Loader: 100%|██████████| 288/288 [00:27<00:00, 10.46it/s]\n"
     ]
    },
    {
     "name": "stdout",
     "output_type": "stream",
     "text": [
      "Loss1: 0.6982, Loss2: 0.2243, Loss3: 1.2297\n"
     ]
    },
    {
     "name": "stderr",
     "output_type": "stream",
     "text": [
      "Test_Loader: 100%|██████████| 288/288 [00:30<00:00,  9.51it/s]\n"
     ]
    },
    {
     "name": "stdout",
     "output_type": "stream",
     "text": [
      "Loss1: 0.6898, Loss2: 0.2313, Loss3: 1.2667\n"
     ]
    },
    {
     "name": "stderr",
     "output_type": "stream",
     "text": [
      "Test_Loader: 100%|██████████| 288/288 [00:25<00:00, 11.25it/s]\n"
     ]
    },
    {
     "name": "stdout",
     "output_type": "stream",
     "text": [
      "Loss1: 0.7269, Loss2: 0.2264, Loss3: 1.2367\n"
     ]
    },
    {
     "name": "stderr",
     "output_type": "stream",
     "text": [
      "Test_Loader: 100%|██████████| 288/288 [00:25<00:00, 11.34it/s]\n"
     ]
    },
    {
     "name": "stdout",
     "output_type": "stream",
     "text": [
      "Loss1: 0.6691, Loss2: 0.2267, Loss3: 1.2224\n"
     ]
    },
    {
     "name": "stderr",
     "output_type": "stream",
     "text": [
      "Test_Loader: 100%|██████████| 288/288 [00:25<00:00, 11.26it/s]\n"
     ]
    },
    {
     "name": "stdout",
     "output_type": "stream",
     "text": [
      "Loss1: 0.7008, Loss2: 0.2287, Loss3: 1.2448\n"
     ]
    },
    {
     "name": "stderr",
     "output_type": "stream",
     "text": [
      "Test_Loader: 100%|██████████| 288/288 [00:25<00:00, 11.18it/s]\n"
     ]
    },
    {
     "name": "stdout",
     "output_type": "stream",
     "text": [
      "Loss1: 0.6623, Loss2: 0.2291, Loss3: 1.2370\n"
     ]
    },
    {
     "name": "stderr",
     "output_type": "stream",
     "text": [
      "Test_Loader: 100%|██████████| 288/288 [00:26<00:00, 10.90it/s]\n"
     ]
    },
    {
     "name": "stdout",
     "output_type": "stream",
     "text": [
      "Loss1: 0.6977, Loss2: 0.2430, Loss3: 1.2840\n"
     ]
    },
    {
     "name": "stderr",
     "output_type": "stream",
     "text": [
      "Test_Loader: 100%|██████████| 288/288 [00:26<00:00, 10.98it/s]\n"
     ]
    },
    {
     "name": "stdout",
     "output_type": "stream",
     "text": [
      "Loss1: 0.6642, Loss2: 0.2407, Loss3: 1.2555\n"
     ]
    },
    {
     "name": "stderr",
     "output_type": "stream",
     "text": [
      "Test_Loader: 100%|██████████| 288/288 [00:26<00:00, 10.93it/s]\n"
     ]
    },
    {
     "name": "stdout",
     "output_type": "stream",
     "text": [
      "Loss1: 0.6671, Loss2: 0.2425, Loss3: 1.2832\n"
     ]
    },
    {
     "name": "stderr",
     "output_type": "stream",
     "text": [
      "Test_Loader: 100%|██████████| 288/288 [00:26<00:00, 11.03it/s]\n"
     ]
    },
    {
     "name": "stdout",
     "output_type": "stream",
     "text": [
      "Loss1: 0.6753, Loss2: 0.2501, Loss3: 1.2677\n"
     ]
    },
    {
     "name": "stderr",
     "output_type": "stream",
     "text": [
      "Test_Loader: 100%|██████████| 288/288 [00:25<00:00, 11.17it/s]\n"
     ]
    },
    {
     "name": "stdout",
     "output_type": "stream",
     "text": [
      "Loss1: 0.6918, Loss2: 0.2589, Loss3: 1.3026\n"
     ]
    },
    {
     "name": "stderr",
     "output_type": "stream",
     "text": [
      "Test_Loader: 100%|██████████| 288/288 [00:25<00:00, 11.21it/s]\n"
     ]
    },
    {
     "name": "stdout",
     "output_type": "stream",
     "text": [
      "Loss1: 0.6630, Loss2: 0.2496, Loss3: 1.3426\n"
     ]
    },
    {
     "name": "stderr",
     "output_type": "stream",
     "text": [
      "Test_Loader: 100%|██████████| 288/288 [00:25<00:00, 11.13it/s]\n"
     ]
    },
    {
     "name": "stdout",
     "output_type": "stream",
     "text": [
      "Loss1: 0.6537, Loss2: 0.2513, Loss3: 1.3245\n"
     ]
    },
    {
     "name": "stderr",
     "output_type": "stream",
     "text": [
      "Test_Loader: 100%|██████████| 288/288 [00:25<00:00, 11.33it/s]\n"
     ]
    },
    {
     "name": "stdout",
     "output_type": "stream",
     "text": [
      "Loss1: 0.6580, Loss2: 0.2438, Loss3: 1.3208\n"
     ]
    },
    {
     "name": "stderr",
     "output_type": "stream",
     "text": [
      "Test_Loader: 100%|██████████| 288/288 [00:30<00:00,  9.49it/s]\n"
     ]
    },
    {
     "name": "stdout",
     "output_type": "stream",
     "text": [
      "Loss1: 0.6972, Loss2: 0.2696, Loss3: 1.3999\n"
     ]
    },
    {
     "name": "stderr",
     "output_type": "stream",
     "text": [
      "Test_Loader: 100%|██████████| 288/288 [00:26<00:00, 10.88it/s]\n"
     ]
    },
    {
     "name": "stdout",
     "output_type": "stream",
     "text": [
      "Loss1: 0.6618, Loss2: 0.2578, Loss3: 1.3880\n"
     ]
    },
    {
     "name": "stderr",
     "output_type": "stream",
     "text": [
      "Test_Loader: 100%|██████████| 288/288 [00:26<00:00, 11.02it/s]\n"
     ]
    },
    {
     "name": "stdout",
     "output_type": "stream",
     "text": [
      "Loss1: 0.6473, Loss2: 0.2454, Loss3: 1.3687\n"
     ]
    },
    {
     "name": "stderr",
     "output_type": "stream",
     "text": [
      "Test_Loader: 100%|██████████| 288/288 [00:25<00:00, 11.15it/s]\n"
     ]
    },
    {
     "name": "stdout",
     "output_type": "stream",
     "text": [
      "Loss1: 0.6672, Loss2: 0.2459, Loss3: 1.3669\n"
     ]
    },
    {
     "name": "stderr",
     "output_type": "stream",
     "text": [
      "Test_Loader: 100%|██████████| 288/288 [00:26<00:00, 10.83it/s]\n"
     ]
    },
    {
     "name": "stdout",
     "output_type": "stream",
     "text": [
      "Loss1: 0.7468, Loss2: 0.2596, Loss3: 1.3783\n"
     ]
    },
    {
     "name": "stderr",
     "output_type": "stream",
     "text": [
      "Test_Loader: 100%|██████████| 288/288 [00:25<00:00, 11.21it/s]\n"
     ]
    },
    {
     "name": "stdout",
     "output_type": "stream",
     "text": [
      "Loss1: 0.7565, Loss2: 0.2575, Loss3: 1.3590\n"
     ]
    },
    {
     "name": "stderr",
     "output_type": "stream",
     "text": [
      "Test_Loader: 100%|██████████| 288/288 [00:26<00:00, 11.00it/s]\n"
     ]
    },
    {
     "name": "stdout",
     "output_type": "stream",
     "text": [
      "Loss1: 0.7485, Loss2: 0.2561, Loss3: 1.3615\n"
     ]
    },
    {
     "name": "stderr",
     "output_type": "stream",
     "text": [
      "Test_Loader: 100%|██████████| 288/288 [00:26<00:00, 10.96it/s]\n"
     ]
    },
    {
     "name": "stdout",
     "output_type": "stream",
     "text": [
      "Loss1: 0.7445, Loss2: 0.2563, Loss3: 1.3669\n"
     ]
    },
    {
     "name": "stderr",
     "output_type": "stream",
     "text": [
      "Test_Loader: 100%|██████████| 288/288 [00:26<00:00, 11.02it/s]\n"
     ]
    },
    {
     "name": "stdout",
     "output_type": "stream",
     "text": [
      "Loss1: 0.7275, Loss2: 0.2547, Loss3: 1.3602\n"
     ]
    },
    {
     "name": "stderr",
     "output_type": "stream",
     "text": [
      "Test_Loader: 100%|██████████| 288/288 [00:26<00:00, 10.74it/s]\n"
     ]
    },
    {
     "name": "stdout",
     "output_type": "stream",
     "text": [
      "Loss1: 0.7033, Loss2: 0.2477, Loss3: 1.3753\n"
     ]
    },
    {
     "name": "stderr",
     "output_type": "stream",
     "text": [
      "Test_Loader: 100%|██████████| 288/288 [00:26<00:00, 10.90it/s]\n"
     ]
    },
    {
     "name": "stdout",
     "output_type": "stream",
     "text": [
      "Loss1: 0.7277, Loss2: 0.2486, Loss3: 1.3661\n"
     ]
    },
    {
     "name": "stderr",
     "output_type": "stream",
     "text": [
      "Test_Loader: 100%|██████████| 288/288 [00:26<00:00, 10.77it/s]\n"
     ]
    },
    {
     "name": "stdout",
     "output_type": "stream",
     "text": [
      "Loss1: 0.6880, Loss2: 0.2418, Loss3: 1.3472\n"
     ]
    },
    {
     "name": "stderr",
     "output_type": "stream",
     "text": [
      "Test_Loader: 100%|██████████| 288/288 [00:26<00:00, 11.07it/s]\n"
     ]
    },
    {
     "name": "stdout",
     "output_type": "stream",
     "text": [
      "Loss1: 0.6768, Loss2: 0.2537, Loss3: 1.3618\n"
     ]
    },
    {
     "name": "stderr",
     "output_type": "stream",
     "text": [
      "Test_Loader: 100%|██████████| 288/288 [00:28<00:00, 10.07it/s]\n"
     ]
    },
    {
     "name": "stdout",
     "output_type": "stream",
     "text": [
      "Loss1: 0.7159, Loss2: 0.2567, Loss3: 1.3523\n"
     ]
    },
    {
     "name": "stderr",
     "output_type": "stream",
     "text": [
      "Test_Loader: 100%|██████████| 288/288 [00:27<00:00, 10.47it/s]\n"
     ]
    },
    {
     "name": "stdout",
     "output_type": "stream",
     "text": [
      "Loss1: 0.7118, Loss2: 0.2583, Loss3: 1.3637\n"
     ]
    },
    {
     "name": "stderr",
     "output_type": "stream",
     "text": [
      "Test_Loader: 100%|██████████| 288/288 [00:26<00:00, 10.84it/s]\n"
     ]
    },
    {
     "name": "stdout",
     "output_type": "stream",
     "text": [
      "Loss1: 0.7129, Loss2: 0.2556, Loss3: 1.3204\n"
     ]
    },
    {
     "name": "stderr",
     "output_type": "stream",
     "text": [
      "Test_Loader: 100%|██████████| 288/288 [00:25<00:00, 11.37it/s]\n"
     ]
    },
    {
     "name": "stdout",
     "output_type": "stream",
     "text": [
      "Loss1: 0.6987, Loss2: 0.2527, Loss3: 1.3517\n"
     ]
    },
    {
     "name": "stderr",
     "output_type": "stream",
     "text": [
      "Test_Loader: 100%|██████████| 288/288 [00:25<00:00, 11.13it/s]\n"
     ]
    },
    {
     "name": "stdout",
     "output_type": "stream",
     "text": [
      "Loss1: 0.7237, Loss2: 0.2527, Loss3: 1.3263\n"
     ]
    },
    {
     "name": "stderr",
     "output_type": "stream",
     "text": [
      "Test_Loader: 100%|██████████| 288/288 [00:26<00:00, 10.80it/s]\n"
     ]
    },
    {
     "name": "stdout",
     "output_type": "stream",
     "text": [
      "Loss1: 0.6940, Loss2: 0.2428, Loss3: 1.3077\n"
     ]
    },
    {
     "name": "stderr",
     "output_type": "stream",
     "text": [
      "Test_Loader: 100%|██████████| 288/288 [00:26<00:00, 10.86it/s]\n"
     ]
    },
    {
     "name": "stdout",
     "output_type": "stream",
     "text": [
      "Loss1: 0.6856, Loss2: 0.2496, Loss3: 1.3034\n"
     ]
    },
    {
     "name": "stderr",
     "output_type": "stream",
     "text": [
      "Test_Loader: 100%|██████████| 288/288 [00:27<00:00, 10.65it/s]\n"
     ]
    },
    {
     "name": "stdout",
     "output_type": "stream",
     "text": [
      "Loss1: 0.6133, Loss2: 0.2299, Loss3: 1.0860\n"
     ]
    },
    {
     "name": "stderr",
     "output_type": "stream",
     "text": [
      "Test_Loader: 100%|██████████| 288/288 [00:27<00:00, 10.57it/s]\n"
     ]
    },
    {
     "name": "stdout",
     "output_type": "stream",
     "text": [
      "Loss1: 0.6274, Loss2: 0.2327, Loss3: 1.0651\n"
     ]
    },
    {
     "name": "stderr",
     "output_type": "stream",
     "text": [
      "Test_Loader: 100%|██████████| 288/288 [00:27<00:00, 10.57it/s]\n"
     ]
    },
    {
     "name": "stdout",
     "output_type": "stream",
     "text": [
      "Loss1: 0.6014, Loss2: 0.2256, Loss3: 1.0646\n"
     ]
    },
    {
     "name": "stderr",
     "output_type": "stream",
     "text": [
      "Test_Loader: 100%|██████████| 288/288 [00:26<00:00, 10.87it/s]\n"
     ]
    },
    {
     "name": "stdout",
     "output_type": "stream",
     "text": [
      "Loss1: 0.6115, Loss2: 0.2330, Loss3: 1.0852\n"
     ]
    },
    {
     "name": "stderr",
     "output_type": "stream",
     "text": [
      "Test_Loader: 100%|██████████| 288/288 [00:26<00:00, 10.98it/s]\n"
     ]
    },
    {
     "name": "stdout",
     "output_type": "stream",
     "text": [
      "Loss1: 0.6326, Loss2: 0.2350, Loss3: 1.0837\n"
     ]
    },
    {
     "name": "stderr",
     "output_type": "stream",
     "text": [
      "Test_Loader: 100%|██████████| 288/288 [00:26<00:00, 11.00it/s]\n"
     ]
    },
    {
     "name": "stdout",
     "output_type": "stream",
     "text": [
      "Loss1: 0.6079, Loss2: 0.2357, Loss3: 1.0981\n"
     ]
    },
    {
     "name": "stderr",
     "output_type": "stream",
     "text": [
      "Test_Loader: 100%|██████████| 288/288 [00:25<00:00, 11.25it/s]\n"
     ]
    },
    {
     "name": "stdout",
     "output_type": "stream",
     "text": [
      "Loss1: 0.6627, Loss2: 0.2395, Loss3: 1.1256\n"
     ]
    },
    {
     "name": "stderr",
     "output_type": "stream",
     "text": [
      "Test_Loader: 100%|██████████| 288/288 [00:26<00:00, 10.69it/s]\n"
     ]
    },
    {
     "name": "stdout",
     "output_type": "stream",
     "text": [
      "Loss1: 0.6924, Loss2: 0.2412, Loss3: 1.1772\n"
     ]
    },
    {
     "name": "stderr",
     "output_type": "stream",
     "text": [
      "Test_Loader: 100%|██████████| 288/288 [00:27<00:00, 10.30it/s]\n"
     ]
    },
    {
     "name": "stdout",
     "output_type": "stream",
     "text": [
      "Loss1: 0.6818, Loss2: 0.2448, Loss3: 1.1525\n"
     ]
    },
    {
     "name": "stderr",
     "output_type": "stream",
     "text": [
      "Test_Loader: 100%|██████████| 288/288 [00:25<00:00, 11.09it/s]\n"
     ]
    },
    {
     "name": "stdout",
     "output_type": "stream",
     "text": [
      "Loss1: 0.6972, Loss2: 0.2355, Loss3: 1.1367\n"
     ]
    },
    {
     "name": "stderr",
     "output_type": "stream",
     "text": [
      "Test_Loader: 100%|██████████| 288/288 [00:26<00:00, 11.00it/s]\n"
     ]
    },
    {
     "name": "stdout",
     "output_type": "stream",
     "text": [
      "Loss1: 0.6674, Loss2: 0.2360, Loss3: 1.1427\n"
     ]
    },
    {
     "name": "stderr",
     "output_type": "stream",
     "text": [
      "Test_Loader: 100%|██████████| 288/288 [00:26<00:00, 10.92it/s]\n"
     ]
    },
    {
     "name": "stdout",
     "output_type": "stream",
     "text": [
      "Loss1: 0.6810, Loss2: 0.2320, Loss3: 1.1307\n"
     ]
    },
    {
     "name": "stderr",
     "output_type": "stream",
     "text": [
      "Test_Loader: 100%|██████████| 288/288 [00:26<00:00, 11.06it/s]\n"
     ]
    },
    {
     "name": "stdout",
     "output_type": "stream",
     "text": [
      "Loss1: 0.6644, Loss2: 0.2288, Loss3: 1.1081\n"
     ]
    },
    {
     "name": "stderr",
     "output_type": "stream",
     "text": [
      "Test_Loader: 100%|██████████| 288/288 [00:26<00:00, 10.83it/s]\n"
     ]
    },
    {
     "name": "stdout",
     "output_type": "stream",
     "text": [
      "Loss1: 0.6602, Loss2: 0.2273, Loss3: 1.0978\n"
     ]
    },
    {
     "name": "stderr",
     "output_type": "stream",
     "text": [
      "Test_Loader: 100%|██████████| 288/288 [00:26<00:00, 11.05it/s]\n"
     ]
    },
    {
     "name": "stdout",
     "output_type": "stream",
     "text": [
      "Loss1: 0.6302, Loss2: 0.2292, Loss3: 1.0820\n"
     ]
    },
    {
     "name": "stderr",
     "output_type": "stream",
     "text": [
      "Test_Loader: 100%|██████████| 288/288 [00:26<00:00, 11.01it/s]\n"
     ]
    },
    {
     "name": "stdout",
     "output_type": "stream",
     "text": [
      "Loss1: 0.6329, Loss2: 0.2271, Loss3: 1.0577\n"
     ]
    },
    {
     "name": "stderr",
     "output_type": "stream",
     "text": [
      "Test_Loader: 100%|██████████| 288/288 [00:26<00:00, 10.96it/s]\n"
     ]
    },
    {
     "name": "stdout",
     "output_type": "stream",
     "text": [
      "Loss1: 0.6179, Loss2: 0.2256, Loss3: 1.0600\n"
     ]
    },
    {
     "name": "stderr",
     "output_type": "stream",
     "text": [
      "Test_Loader: 100%|██████████| 288/288 [00:26<00:00, 10.98it/s]\n"
     ]
    },
    {
     "name": "stdout",
     "output_type": "stream",
     "text": [
      "Loss1: 0.5842, Loss2: 0.2231, Loss3: 1.0279\n"
     ]
    },
    {
     "name": "stderr",
     "output_type": "stream",
     "text": [
      "Test_Loader: 100%|██████████| 288/288 [00:26<00:00, 11.02it/s]\n"
     ]
    },
    {
     "name": "stdout",
     "output_type": "stream",
     "text": [
      "Loss1: 0.6099, Loss2: 0.2124, Loss3: 0.9897\n"
     ]
    },
    {
     "name": "stderr",
     "output_type": "stream",
     "text": [
      "Test_Loader: 100%|██████████| 288/288 [00:25<00:00, 11.16it/s]\n"
     ]
    },
    {
     "name": "stdout",
     "output_type": "stream",
     "text": [
      "Loss1: 0.5943, Loss2: 0.2199, Loss3: 0.9858\n"
     ]
    },
    {
     "name": "stderr",
     "output_type": "stream",
     "text": [
      "Test_Loader: 100%|██████████| 288/288 [00:26<00:00, 10.68it/s]\n"
     ]
    },
    {
     "name": "stdout",
     "output_type": "stream",
     "text": [
      "Loss1: 0.5873, Loss2: 0.2184, Loss3: 0.9781\n"
     ]
    },
    {
     "name": "stderr",
     "output_type": "stream",
     "text": [
      "Test_Loader: 100%|██████████| 288/288 [00:29<00:00,  9.63it/s]\n"
     ]
    },
    {
     "name": "stdout",
     "output_type": "stream",
     "text": [
      "Loss1: 0.5742, Loss2: 0.2207, Loss3: 0.9799\n"
     ]
    },
    {
     "name": "stderr",
     "output_type": "stream",
     "text": [
      "Test_Loader: 100%|██████████| 288/288 [00:27<00:00, 10.46it/s]\n"
     ]
    },
    {
     "name": "stdout",
     "output_type": "stream",
     "text": [
      "Loss1: 0.5713, Loss2: 0.2191, Loss3: 0.9829\n"
     ]
    },
    {
     "name": "stderr",
     "output_type": "stream",
     "text": [
      "Test_Loader: 100%|██████████| 288/288 [00:25<00:00, 11.18it/s]\n"
     ]
    },
    {
     "name": "stdout",
     "output_type": "stream",
     "text": [
      "Loss1: 0.5624, Loss2: 0.2103, Loss3: 0.9843\n"
     ]
    },
    {
     "name": "stderr",
     "output_type": "stream",
     "text": [
      "Test_Loader: 100%|██████████| 288/288 [00:26<00:00, 10.93it/s]\n"
     ]
    },
    {
     "name": "stdout",
     "output_type": "stream",
     "text": [
      "Loss1: 0.5579, Loss2: 0.2128, Loss3: 0.9703\n"
     ]
    },
    {
     "name": "stderr",
     "output_type": "stream",
     "text": [
      "Test_Loader: 100%|██████████| 288/288 [00:25<00:00, 11.22it/s]\n"
     ]
    },
    {
     "name": "stdout",
     "output_type": "stream",
     "text": [
      "Loss1: 0.6199, Loss2: 0.2197, Loss3: 0.9848\n"
     ]
    },
    {
     "name": "stderr",
     "output_type": "stream",
     "text": [
      "Test_Loader: 100%|██████████| 288/288 [00:26<00:00, 10.95it/s]\n"
     ]
    },
    {
     "name": "stdout",
     "output_type": "stream",
     "text": [
      "Loss1: 0.6009, Loss2: 0.2230, Loss3: 1.0036\n"
     ]
    },
    {
     "name": "stderr",
     "output_type": "stream",
     "text": [
      "Test_Loader: 100%|██████████| 288/288 [00:26<00:00, 10.99it/s]\n"
     ]
    },
    {
     "name": "stdout",
     "output_type": "stream",
     "text": [
      "Loss1: 0.6060, Loss2: 0.2177, Loss3: 1.0092\n"
     ]
    },
    {
     "name": "stderr",
     "output_type": "stream",
     "text": [
      "Test_Loader: 100%|██████████| 288/288 [00:26<00:00, 11.03it/s]\n"
     ]
    },
    {
     "name": "stdout",
     "output_type": "stream",
     "text": [
      "Loss1: 0.6067, Loss2: 0.2274, Loss3: 1.0330\n"
     ]
    },
    {
     "name": "stderr",
     "output_type": "stream",
     "text": [
      "Test_Loader: 100%|██████████| 288/288 [00:26<00:00, 10.86it/s]\n"
     ]
    },
    {
     "name": "stdout",
     "output_type": "stream",
     "text": [
      "Loss1: 0.7515, Loss2: 0.2336, Loss3: 1.2997\n"
     ]
    },
    {
     "name": "stderr",
     "output_type": "stream",
     "text": [
      "Test_Loader: 100%|██████████| 288/288 [00:26<00:00, 11.01it/s]\n"
     ]
    },
    {
     "name": "stdout",
     "output_type": "stream",
     "text": [
      "Loss1: 0.7502, Loss2: 0.2310, Loss3: 1.2570\n"
     ]
    },
    {
     "name": "stderr",
     "output_type": "stream",
     "text": [
      "Test_Loader: 100%|██████████| 288/288 [00:25<00:00, 11.27it/s]\n"
     ]
    },
    {
     "name": "stdout",
     "output_type": "stream",
     "text": [
      "Loss1: 0.7327, Loss2: 0.2454, Loss3: 1.2508\n"
     ]
    },
    {
     "name": "stderr",
     "output_type": "stream",
     "text": [
      "Test_Loader: 100%|██████████| 288/288 [00:25<00:00, 11.34it/s]\n"
     ]
    },
    {
     "name": "stdout",
     "output_type": "stream",
     "text": [
      "Loss1: 0.7413, Loss2: 0.2289, Loss3: 1.2129\n"
     ]
    },
    {
     "name": "stderr",
     "output_type": "stream",
     "text": [
      "Test_Loader: 100%|██████████| 288/288 [00:25<00:00, 11.26it/s]\n"
     ]
    },
    {
     "name": "stdout",
     "output_type": "stream",
     "text": [
      "Loss1: 0.7328, Loss2: 0.2368, Loss3: 1.2161\n"
     ]
    },
    {
     "name": "stderr",
     "output_type": "stream",
     "text": [
      "Test_Loader: 100%|██████████| 288/288 [00:30<00:00,  9.57it/s]\n"
     ]
    },
    {
     "name": "stdout",
     "output_type": "stream",
     "text": [
      "Loss1: 0.7243, Loss2: 0.2378, Loss3: 1.1950\n"
     ]
    },
    {
     "name": "stderr",
     "output_type": "stream",
     "text": [
      "Test_Loader: 100%|██████████| 288/288 [00:29<00:00,  9.68it/s]\n"
     ]
    },
    {
     "name": "stdout",
     "output_type": "stream",
     "text": [
      "Loss1: 0.7278, Loss2: 0.2383, Loss3: 1.2451\n"
     ]
    },
    {
     "name": "stderr",
     "output_type": "stream",
     "text": [
      "Test_Loader: 100%|██████████| 288/288 [00:25<00:00, 11.11it/s]\n"
     ]
    },
    {
     "name": "stdout",
     "output_type": "stream",
     "text": [
      "Loss1: 0.9087, Loss2: 0.3210, Loss3: 1.3970\n"
     ]
    },
    {
     "name": "stderr",
     "output_type": "stream",
     "text": [
      "Test_Loader: 100%|██████████| 288/288 [00:26<00:00, 10.98it/s]\n"
     ]
    },
    {
     "name": "stdout",
     "output_type": "stream",
     "text": [
      "Loss1: 0.9086, Loss2: 0.3174, Loss3: 1.4239\n"
     ]
    },
    {
     "name": "stderr",
     "output_type": "stream",
     "text": [
      "Test_Loader: 100%|██████████| 288/288 [00:26<00:00, 11.02it/s]\n"
     ]
    },
    {
     "name": "stdout",
     "output_type": "stream",
     "text": [
      "Loss1: 0.8735, Loss2: 0.3058, Loss3: 1.3607\n"
     ]
    },
    {
     "name": "stderr",
     "output_type": "stream",
     "text": [
      "Test_Loader: 100%|██████████| 288/288 [00:26<00:00, 10.76it/s]\n"
     ]
    },
    {
     "name": "stdout",
     "output_type": "stream",
     "text": [
      "Loss1: 0.9566, Loss2: 0.3142, Loss3: 1.4369\n"
     ]
    },
    {
     "name": "stderr",
     "output_type": "stream",
     "text": [
      "Test_Loader: 100%|██████████| 288/288 [00:25<00:00, 11.09it/s]\n"
     ]
    },
    {
     "name": "stdout",
     "output_type": "stream",
     "text": [
      "Loss1: 0.9537, Loss2: 0.3216, Loss3: 1.4221\n"
     ]
    },
    {
     "name": "stderr",
     "output_type": "stream",
     "text": [
      "Test_Loader: 100%|██████████| 288/288 [00:26<00:00, 10.95it/s]\n"
     ]
    },
    {
     "name": "stdout",
     "output_type": "stream",
     "text": [
      "Loss1: 1.0591, Loss2: 0.3335, Loss3: 1.4531\n"
     ]
    },
    {
     "name": "stderr",
     "output_type": "stream",
     "text": [
      "Test_Loader: 100%|██████████| 288/288 [00:25<00:00, 11.11it/s]\n"
     ]
    },
    {
     "name": "stdout",
     "output_type": "stream",
     "text": [
      "Loss1: 1.0312, Loss2: 0.3270, Loss3: 1.4840\n"
     ]
    },
    {
     "name": "stderr",
     "output_type": "stream",
     "text": [
      "Test_Loader: 100%|██████████| 288/288 [00:26<00:00, 10.96it/s]\n"
     ]
    },
    {
     "name": "stdout",
     "output_type": "stream",
     "text": [
      "Loss1: 1.0349, Loss2: 0.3290, Loss3: 1.4661\n"
     ]
    },
    {
     "name": "stderr",
     "output_type": "stream",
     "text": [
      "Test_Loader: 100%|██████████| 288/288 [00:25<00:00, 11.13it/s]\n"
     ]
    },
    {
     "name": "stdout",
     "output_type": "stream",
     "text": [
      "Loss1: 1.0370, Loss2: 0.3340, Loss3: 1.5142\n"
     ]
    },
    {
     "name": "stderr",
     "output_type": "stream",
     "text": [
      "Test_Loader: 100%|██████████| 288/288 [00:26<00:00, 10.95it/s]\n"
     ]
    },
    {
     "name": "stdout",
     "output_type": "stream",
     "text": [
      "Loss1: 1.0418, Loss2: 0.3444, Loss3: 1.5511\n"
     ]
    },
    {
     "name": "stderr",
     "output_type": "stream",
     "text": [
      "Test_Loader: 100%|██████████| 288/288 [00:26<00:00, 10.94it/s]\n"
     ]
    },
    {
     "name": "stdout",
     "output_type": "stream",
     "text": [
      "Loss1: 1.0371, Loss2: 0.3309, Loss3: 1.4978\n"
     ]
    },
    {
     "name": "stderr",
     "output_type": "stream",
     "text": [
      "Test_Loader: 100%|██████████| 288/288 [00:26<00:00, 10.76it/s]\n"
     ]
    },
    {
     "name": "stdout",
     "output_type": "stream",
     "text": [
      "Loss1: 0.9497, Loss2: 0.3141, Loss3: 1.4576\n"
     ]
    },
    {
     "name": "stderr",
     "output_type": "stream",
     "text": [
      "Test_Loader: 100%|██████████| 288/288 [00:27<00:00, 10.31it/s]\n"
     ]
    },
    {
     "name": "stdout",
     "output_type": "stream",
     "text": [
      "Loss1: 0.9634, Loss2: 0.3133, Loss3: 1.4122\n"
     ]
    },
    {
     "name": "stderr",
     "output_type": "stream",
     "text": [
      "Test_Loader: 100%|██████████| 288/288 [00:28<00:00, 10.25it/s]\n"
     ]
    },
    {
     "name": "stdout",
     "output_type": "stream",
     "text": [
      "Loss1: 1.0153, Loss2: 0.3376, Loss3: 1.5554\n"
     ]
    },
    {
     "name": "stderr",
     "output_type": "stream",
     "text": [
      "Test_Loader: 100%|██████████| 288/288 [00:25<00:00, 11.08it/s]\n"
     ]
    },
    {
     "name": "stdout",
     "output_type": "stream",
     "text": [
      "Loss1: 0.9921, Loss2: 0.3288, Loss3: 1.4854\n"
     ]
    },
    {
     "name": "stderr",
     "output_type": "stream",
     "text": [
      "Test_Loader: 100%|██████████| 288/288 [00:26<00:00, 10.87it/s]\n"
     ]
    },
    {
     "name": "stdout",
     "output_type": "stream",
     "text": [
      "Loss1: 1.1195, Loss2: 0.4302, Loss3: 1.8274\n"
     ]
    },
    {
     "name": "stderr",
     "output_type": "stream",
     "text": [
      "Test_Loader: 100%|██████████| 288/288 [00:25<00:00, 11.11it/s]\n"
     ]
    },
    {
     "name": "stdout",
     "output_type": "stream",
     "text": [
      "Loss1: 1.0810, Loss2: 0.4117, Loss3: 1.8061\n"
     ]
    },
    {
     "name": "stderr",
     "output_type": "stream",
     "text": [
      "Test_Loader: 100%|██████████| 288/288 [00:26<00:00, 10.73it/s]\n"
     ]
    },
    {
     "name": "stdout",
     "output_type": "stream",
     "text": [
      "Loss1: 1.0304, Loss2: 0.4034, Loss3: 1.9278\n"
     ]
    },
    {
     "name": "stderr",
     "output_type": "stream",
     "text": [
      "Test_Loader: 100%|██████████| 288/288 [00:26<00:00, 10.86it/s]\n"
     ]
    },
    {
     "name": "stdout",
     "output_type": "stream",
     "text": [
      "Loss1: 1.0677, Loss2: 0.4129, Loss3: 1.7848\n"
     ]
    },
    {
     "name": "stderr",
     "output_type": "stream",
     "text": [
      "Test_Loader: 100%|██████████| 288/288 [00:26<00:00, 10.83it/s]\n"
     ]
    },
    {
     "name": "stdout",
     "output_type": "stream",
     "text": [
      "Loss1: 1.0566, Loss2: 0.4082, Loss3: 1.7695\n"
     ]
    },
    {
     "name": "stderr",
     "output_type": "stream",
     "text": [
      "Test_Loader: 100%|██████████| 288/288 [00:26<00:00, 10.79it/s]\n"
     ]
    },
    {
     "name": "stdout",
     "output_type": "stream",
     "text": [
      "Loss1: 1.0679, Loss2: 0.4062, Loss3: 1.7496\n"
     ]
    },
    {
     "name": "stderr",
     "output_type": "stream",
     "text": [
      "Test_Loader: 100%|██████████| 288/288 [00:26<00:00, 10.91it/s]\n"
     ]
    },
    {
     "name": "stdout",
     "output_type": "stream",
     "text": [
      "Loss1: 1.0503, Loss2: 0.4066, Loss3: 1.7852\n"
     ]
    },
    {
     "name": "stderr",
     "output_type": "stream",
     "text": [
      "Test_Loader: 100%|██████████| 288/288 [00:26<00:00, 11.04it/s]\n"
     ]
    },
    {
     "name": "stdout",
     "output_type": "stream",
     "text": [
      "Loss1: 1.0309, Loss2: 0.3969, Loss3: 1.7084\n"
     ]
    },
    {
     "name": "stderr",
     "output_type": "stream",
     "text": [
      "Test_Loader: 100%|██████████| 288/288 [00:25<00:00, 11.33it/s]\n"
     ]
    },
    {
     "name": "stdout",
     "output_type": "stream",
     "text": [
      "Loss1: 1.0309, Loss2: 0.4033, Loss3: 1.7358\n"
     ]
    },
    {
     "name": "stderr",
     "output_type": "stream",
     "text": [
      "Test_Loader: 100%|██████████| 288/288 [00:26<00:00, 11.06it/s]\n"
     ]
    },
    {
     "name": "stdout",
     "output_type": "stream",
     "text": [
      "Loss1: 1.0643, Loss2: 0.4185, Loss3: 1.7853\n"
     ]
    },
    {
     "name": "stderr",
     "output_type": "stream",
     "text": [
      "Test_Loader: 100%|██████████| 288/288 [00:28<00:00, 10.09it/s]\n"
     ]
    },
    {
     "name": "stdout",
     "output_type": "stream",
     "text": [
      "Loss1: 1.0679, Loss2: 0.4327, Loss3: 1.8626\n"
     ]
    },
    {
     "name": "stderr",
     "output_type": "stream",
     "text": [
      "Test_Loader: 100%|██████████| 288/288 [00:28<00:00,  9.96it/s]\n"
     ]
    },
    {
     "name": "stdout",
     "output_type": "stream",
     "text": [
      "Loss1: 0.9991, Loss2: 0.3931, Loss3: 1.8266\n"
     ]
    },
    {
     "name": "stderr",
     "output_type": "stream",
     "text": [
      "Test_Loader: 100%|██████████| 288/288 [00:25<00:00, 11.46it/s]\n"
     ]
    },
    {
     "name": "stdout",
     "output_type": "stream",
     "text": [
      "Loss1: 1.0528, Loss2: 0.4166, Loss3: 1.7520\n"
     ]
    },
    {
     "name": "stderr",
     "output_type": "stream",
     "text": [
      "Test_Loader: 100%|██████████| 288/288 [00:25<00:00, 11.25it/s]\n"
     ]
    },
    {
     "name": "stdout",
     "output_type": "stream",
     "text": [
      "Loss1: 1.0492, Loss2: 0.4073, Loss3: 1.7521\n"
     ]
    },
    {
     "name": "stderr",
     "output_type": "stream",
     "text": [
      "Test_Loader: 100%|██████████| 288/288 [00:25<00:00, 11.25it/s]\n"
     ]
    },
    {
     "name": "stdout",
     "output_type": "stream",
     "text": [
      "Loss1: 0.9729, Loss2: 0.3949, Loss3: 1.8348\n"
     ]
    },
    {
     "name": "stderr",
     "output_type": "stream",
     "text": [
      "Test_Loader: 100%|██████████| 288/288 [00:25<00:00, 11.21it/s]\n"
     ]
    },
    {
     "name": "stdout",
     "output_type": "stream",
     "text": [
      "Loss1: 1.0160, Loss2: 0.3951, Loss3: 1.6859\n"
     ]
    },
    {
     "name": "stderr",
     "output_type": "stream",
     "text": [
      "Test_Loader: 100%|██████████| 288/288 [00:26<00:00, 10.97it/s]\n"
     ]
    },
    {
     "name": "stdout",
     "output_type": "stream",
     "text": [
      "Loss1: 0.9672, Loss2: 0.3717, Loss3: 1.7576\n"
     ]
    },
    {
     "name": "stderr",
     "output_type": "stream",
     "text": [
      "Test_Loader: 100%|██████████| 288/288 [00:26<00:00, 10.97it/s]\n"
     ]
    },
    {
     "name": "stdout",
     "output_type": "stream",
     "text": [
      "Loss1: 0.9803, Loss2: 0.3782, Loss3: 1.6514\n"
     ]
    },
    {
     "name": "stderr",
     "output_type": "stream",
     "text": [
      "Test_Loader: 100%|██████████| 288/288 [00:26<00:00, 10.89it/s]\n"
     ]
    },
    {
     "name": "stdout",
     "output_type": "stream",
     "text": [
      "Loss1: 0.9306, Loss2: 0.3594, Loss3: 1.7346\n"
     ]
    },
    {
     "name": "stderr",
     "output_type": "stream",
     "text": [
      "Test_Loader: 100%|██████████| 288/288 [00:26<00:00, 11.04it/s]\n"
     ]
    },
    {
     "name": "stdout",
     "output_type": "stream",
     "text": [
      "Loss1: 0.9924, Loss2: 0.3772, Loss3: 1.6099\n"
     ]
    },
    {
     "name": "stderr",
     "output_type": "stream",
     "text": [
      "Test_Loader: 100%|██████████| 288/288 [00:25<00:00, 11.40it/s]\n"
     ]
    },
    {
     "name": "stdout",
     "output_type": "stream",
     "text": [
      "Loss1: 1.0299, Loss2: 0.4360, Loss3: 1.8295\n"
     ]
    },
    {
     "name": "stderr",
     "output_type": "stream",
     "text": [
      "Test_Loader: 100%|██████████| 288/288 [00:25<00:00, 11.09it/s]\n"
     ]
    },
    {
     "name": "stdout",
     "output_type": "stream",
     "text": [
      "Loss1: 1.0231, Loss2: 0.4444, Loss3: 1.8579\n"
     ]
    },
    {
     "name": "stderr",
     "output_type": "stream",
     "text": [
      "Test_Loader: 100%|██████████| 288/288 [00:26<00:00, 10.86it/s]\n"
     ]
    },
    {
     "name": "stdout",
     "output_type": "stream",
     "text": [
      "Loss1: 0.9918, Loss2: 0.4101, Loss3: 1.9013\n"
     ]
    },
    {
     "name": "stderr",
     "output_type": "stream",
     "text": [
      "Test_Loader: 100%|██████████| 288/288 [00:27<00:00, 10.52it/s]\n"
     ]
    },
    {
     "name": "stdout",
     "output_type": "stream",
     "text": [
      "Loss1: 1.0349, Loss2: 0.4375, Loss3: 1.7816\n"
     ]
    },
    {
     "name": "stderr",
     "output_type": "stream",
     "text": [
      "Test_Loader: 100%|██████████| 288/288 [00:28<00:00, 10.20it/s]\n"
     ]
    },
    {
     "name": "stdout",
     "output_type": "stream",
     "text": [
      "Loss1: 1.0355, Loss2: 0.4413, Loss3: 1.7748\n"
     ]
    },
    {
     "name": "stderr",
     "output_type": "stream",
     "text": [
      "Test_Loader: 100%|██████████| 288/288 [00:28<00:00, 10.07it/s]\n"
     ]
    },
    {
     "name": "stdout",
     "output_type": "stream",
     "text": [
      "Loss1: 1.0019, Loss2: 0.4191, Loss3: 1.6644\n"
     ]
    },
    {
     "name": "stderr",
     "output_type": "stream",
     "text": [
      "Test_Loader: 100%|██████████| 288/288 [00:25<00:00, 11.24it/s]\n"
     ]
    },
    {
     "name": "stdout",
     "output_type": "stream",
     "text": [
      "Loss1: 1.0129, Loss2: 0.4127, Loss3: 1.7626\n"
     ]
    },
    {
     "name": "stderr",
     "output_type": "stream",
     "text": [
      "Test_Loader: 100%|██████████| 288/288 [00:25<00:00, 11.26it/s]\n"
     ]
    },
    {
     "name": "stdout",
     "output_type": "stream",
     "text": [
      "Loss1: 1.0441, Loss2: 0.4320, Loss3: 1.6822\n"
     ]
    },
    {
     "name": "stderr",
     "output_type": "stream",
     "text": [
      "Test_Loader: 100%|██████████| 288/288 [00:26<00:00, 10.98it/s]\n"
     ]
    },
    {
     "name": "stdout",
     "output_type": "stream",
     "text": [
      "Loss1: 1.0276, Loss2: 0.4284, Loss3: 1.6834\n"
     ]
    },
    {
     "name": "stderr",
     "output_type": "stream",
     "text": [
      "Test_Loader: 100%|██████████| 288/288 [00:26<00:00, 11.07it/s]\n"
     ]
    },
    {
     "name": "stdout",
     "output_type": "stream",
     "text": [
      "Loss1: 0.9671, Loss2: 0.3982, Loss3: 1.7039\n"
     ]
    },
    {
     "name": "stderr",
     "output_type": "stream",
     "text": [
      "Test_Loader: 100%|██████████| 288/288 [00:26<00:00, 10.68it/s]\n"
     ]
    },
    {
     "name": "stdout",
     "output_type": "stream",
     "text": [
      "Loss1: 0.9389, Loss2: 0.3973, Loss3: 1.6753\n"
     ]
    },
    {
     "name": "stderr",
     "output_type": "stream",
     "text": [
      "Test_Loader: 100%|██████████| 288/288 [00:27<00:00, 10.63it/s]\n"
     ]
    },
    {
     "name": "stdout",
     "output_type": "stream",
     "text": [
      "Loss1: 0.9334, Loss2: 0.3771, Loss3: 1.7089\n"
     ]
    },
    {
     "name": "stderr",
     "output_type": "stream",
     "text": [
      "Test_Loader: 100%|██████████| 288/288 [00:26<00:00, 10.76it/s]\n"
     ]
    },
    {
     "name": "stdout",
     "output_type": "stream",
     "text": [
      "Loss1: 0.9260, Loss2: 0.3852, Loss3: 1.7085\n"
     ]
    },
    {
     "name": "stderr",
     "output_type": "stream",
     "text": [
      "Test_Loader: 100%|██████████| 288/288 [00:26<00:00, 10.79it/s]\n"
     ]
    },
    {
     "name": "stdout",
     "output_type": "stream",
     "text": [
      "Loss1: 0.9310, Loss2: 0.3904, Loss3: 1.6631\n"
     ]
    },
    {
     "name": "stderr",
     "output_type": "stream",
     "text": [
      "Test_Loader: 100%|██████████| 288/288 [00:26<00:00, 10.89it/s]\n"
     ]
    },
    {
     "name": "stdout",
     "output_type": "stream",
     "text": [
      "Loss1: 0.9615, Loss2: 0.3914, Loss3: 1.6495\n"
     ]
    },
    {
     "name": "stderr",
     "output_type": "stream",
     "text": [
      "Test_Loader: 100%|██████████| 288/288 [00:26<00:00, 10.88it/s]\n"
     ]
    },
    {
     "name": "stdout",
     "output_type": "stream",
     "text": [
      "Loss1: 0.9409, Loss2: 0.3934, Loss3: 1.6203\n"
     ]
    },
    {
     "name": "stderr",
     "output_type": "stream",
     "text": [
      "Test_Loader: 100%|██████████| 288/288 [00:26<00:00, 11.01it/s]\n"
     ]
    },
    {
     "name": "stdout",
     "output_type": "stream",
     "text": [
      "Loss1: 0.9126, Loss2: 0.3597, Loss3: 1.6720\n"
     ]
    },
    {
     "name": "stderr",
     "output_type": "stream",
     "text": [
      "Test_Loader: 100%|██████████| 288/288 [00:28<00:00, 10.01it/s]\n"
     ]
    },
    {
     "name": "stdout",
     "output_type": "stream",
     "text": [
      "Loss1: 0.9229, Loss2: 0.3839, Loss3: 1.6174\n"
     ]
    },
    {
     "name": "stderr",
     "output_type": "stream",
     "text": [
      "Test_Loader: 100%|██████████| 288/288 [00:29<00:00,  9.78it/s]\n"
     ]
    },
    {
     "name": "stdout",
     "output_type": "stream",
     "text": [
      "Loss1: 0.9250, Loss2: 0.3719, Loss3: 1.6396\n"
     ]
    },
    {
     "name": "stderr",
     "output_type": "stream",
     "text": [
      "Test_Loader: 100%|██████████| 288/288 [00:25<00:00, 11.08it/s]\n"
     ]
    },
    {
     "name": "stdout",
     "output_type": "stream",
     "text": [
      "Loss1: 0.9249, Loss2: 0.3902, Loss3: 1.6429\n"
     ]
    },
    {
     "name": "stderr",
     "output_type": "stream",
     "text": [
      "Test_Loader: 100%|██████████| 288/288 [00:25<00:00, 11.19it/s]\n"
     ]
    },
    {
     "name": "stdout",
     "output_type": "stream",
     "text": [
      "Loss1: 0.9191, Loss2: 0.3864, Loss3: 1.6457\n"
     ]
    },
    {
     "name": "stderr",
     "output_type": "stream",
     "text": [
      "Test_Loader: 100%|██████████| 288/288 [00:25<00:00, 11.28it/s]\n"
     ]
    },
    {
     "name": "stdout",
     "output_type": "stream",
     "text": [
      "Loss1: 0.9245, Loss2: 0.3825, Loss3: 1.6395\n"
     ]
    },
    {
     "name": "stderr",
     "output_type": "stream",
     "text": [
      "Test_Loader: 100%|██████████| 288/288 [00:26<00:00, 10.99it/s]\n"
     ]
    },
    {
     "name": "stdout",
     "output_type": "stream",
     "text": [
      "Loss1: 0.8873, Loss2: 0.3661, Loss3: 1.6221\n"
     ]
    },
    {
     "name": "stderr",
     "output_type": "stream",
     "text": [
      "Test_Loader: 100%|██████████| 288/288 [00:26<00:00, 11.01it/s]\n"
     ]
    },
    {
     "name": "stdout",
     "output_type": "stream",
     "text": [
      "Loss1: 0.8865, Loss2: 0.3621, Loss3: 1.6712\n"
     ]
    },
    {
     "name": "stderr",
     "output_type": "stream",
     "text": [
      "Test_Loader: 100%|██████████| 288/288 [00:26<00:00, 10.95it/s]\n"
     ]
    },
    {
     "name": "stdout",
     "output_type": "stream",
     "text": [
      "Loss1: 0.9117, Loss2: 0.3747, Loss3: 1.6011\n"
     ]
    },
    {
     "name": "stderr",
     "output_type": "stream",
     "text": [
      "Test_Loader: 100%|██████████| 288/288 [00:26<00:00, 11.02it/s]\n"
     ]
    },
    {
     "name": "stdout",
     "output_type": "stream",
     "text": [
      "Loss1: 0.9121, Loss2: 0.3703, Loss3: 1.5650\n"
     ]
    },
    {
     "name": "stderr",
     "output_type": "stream",
     "text": [
      "Test_Loader: 100%|██████████| 288/288 [00:26<00:00, 11.01it/s]\n"
     ]
    },
    {
     "name": "stdout",
     "output_type": "stream",
     "text": [
      "Loss1: 0.8480, Loss2: 0.3382, Loss3: 1.6473\n"
     ]
    },
    {
     "name": "stderr",
     "output_type": "stream",
     "text": [
      "Test_Loader: 100%|██████████| 288/288 [00:26<00:00, 11.00it/s]\n"
     ]
    },
    {
     "name": "stdout",
     "output_type": "stream",
     "text": [
      "Loss1: 0.8651, Loss2: 0.3490, Loss3: 1.5829\n"
     ]
    },
    {
     "name": "stderr",
     "output_type": "stream",
     "text": [
      "Test_Loader: 100%|██████████| 288/288 [00:25<00:00, 11.16it/s]\n"
     ]
    },
    {
     "name": "stdout",
     "output_type": "stream",
     "text": [
      "Loss1: 0.8966, Loss2: 0.3645, Loss3: 1.5400\n"
     ]
    },
    {
     "name": "stderr",
     "output_type": "stream",
     "text": [
      "Test_Loader: 100%|██████████| 288/288 [00:26<00:00, 10.85it/s]\n"
     ]
    },
    {
     "name": "stdout",
     "output_type": "stream",
     "text": [
      "Loss1: 0.8337, Loss2: 0.3316, Loss3: 1.5797\n"
     ]
    },
    {
     "name": "stderr",
     "output_type": "stream",
     "text": [
      "Test_Loader: 100%|██████████| 288/288 [00:25<00:00, 11.18it/s]\n"
     ]
    },
    {
     "name": "stdout",
     "output_type": "stream",
     "text": [
      "Loss1: 0.8626, Loss2: 0.3266, Loss3: 1.5513\n"
     ]
    },
    {
     "name": "stderr",
     "output_type": "stream",
     "text": [
      "Test_Loader: 100%|██████████| 288/288 [00:27<00:00, 10.49it/s]\n"
     ]
    },
    {
     "name": "stdout",
     "output_type": "stream",
     "text": [
      "Loss1: 0.8391, Loss2: 0.3313, Loss3: 1.4871\n"
     ]
    },
    {
     "name": "stderr",
     "output_type": "stream",
     "text": [
      "Test_Loader: 100%|██████████| 288/288 [00:28<00:00, 10.09it/s]\n"
     ]
    },
    {
     "name": "stdout",
     "output_type": "stream",
     "text": [
      "Loss1: 0.7747, Loss2: 0.3143, Loss3: 1.4886\n"
     ]
    },
    {
     "name": "stderr",
     "output_type": "stream",
     "text": [
      "Test_Loader: 100%|██████████| 288/288 [00:25<00:00, 11.21it/s]\n"
     ]
    },
    {
     "name": "stdout",
     "output_type": "stream",
     "text": [
      "Loss1: 0.8033, Loss2: 0.3297, Loss3: 1.4259\n"
     ]
    },
    {
     "name": "stderr",
     "output_type": "stream",
     "text": [
      "Test_Loader: 100%|██████████| 288/288 [00:25<00:00, 11.19it/s]\n"
     ]
    },
    {
     "name": "stdout",
     "output_type": "stream",
     "text": [
      "Loss1: 0.8098, Loss2: 0.3406, Loss3: 1.4139\n"
     ]
    },
    {
     "name": "stderr",
     "output_type": "stream",
     "text": [
      "Test_Loader: 100%|██████████| 288/288 [00:25<00:00, 11.20it/s]\n"
     ]
    },
    {
     "name": "stdout",
     "output_type": "stream",
     "text": [
      "Loss1: 0.7854, Loss2: 0.3245, Loss3: 1.4626\n"
     ]
    },
    {
     "name": "stderr",
     "output_type": "stream",
     "text": [
      "Test_Loader: 100%|██████████| 288/288 [00:25<00:00, 11.16it/s]\n"
     ]
    },
    {
     "name": "stdout",
     "output_type": "stream",
     "text": [
      "Loss1: 0.8008, Loss2: 0.3221, Loss3: 1.4356\n"
     ]
    },
    {
     "name": "stderr",
     "output_type": "stream",
     "text": [
      "Test_Loader: 100%|██████████| 288/288 [00:25<00:00, 11.11it/s]\n"
     ]
    },
    {
     "name": "stdout",
     "output_type": "stream",
     "text": [
      "Loss1: 0.7912, Loss2: 0.3167, Loss3: 1.4254\n"
     ]
    },
    {
     "name": "stderr",
     "output_type": "stream",
     "text": [
      "Test_Loader: 100%|██████████| 288/288 [00:26<00:00, 10.75it/s]\n"
     ]
    },
    {
     "name": "stdout",
     "output_type": "stream",
     "text": [
      "Loss1: 0.8044, Loss2: 0.3254, Loss3: 1.3614\n"
     ]
    },
    {
     "name": "stderr",
     "output_type": "stream",
     "text": [
      "Test_Loader: 100%|██████████| 288/288 [00:26<00:00, 10.86it/s]\n"
     ]
    },
    {
     "name": "stdout",
     "output_type": "stream",
     "text": [
      "Loss1: 0.7764, Loss2: 0.3177, Loss3: 1.4131\n"
     ]
    },
    {
     "name": "stderr",
     "output_type": "stream",
     "text": [
      "Test_Loader: 100%|██████████| 288/288 [00:26<00:00, 10.91it/s]\n"
     ]
    },
    {
     "name": "stdout",
     "output_type": "stream",
     "text": [
      "Loss1: 0.8092, Loss2: 0.3309, Loss3: 1.3823\n"
     ]
    },
    {
     "name": "stderr",
     "output_type": "stream",
     "text": [
      "Test_Loader: 100%|██████████| 288/288 [00:25<00:00, 11.16it/s]\n"
     ]
    },
    {
     "name": "stdout",
     "output_type": "stream",
     "text": [
      "Loss1: 0.8040, Loss2: 0.3098, Loss3: 1.3980\n"
     ]
    },
    {
     "name": "stderr",
     "output_type": "stream",
     "text": [
      "Test_Loader: 100%|██████████| 288/288 [00:25<00:00, 11.28it/s]\n"
     ]
    },
    {
     "name": "stdout",
     "output_type": "stream",
     "text": [
      "Loss1: 0.8073, Loss2: 0.3150, Loss3: 1.4115\n"
     ]
    },
    {
     "name": "stderr",
     "output_type": "stream",
     "text": [
      "Test_Loader: 100%|██████████| 288/288 [00:26<00:00, 11.02it/s]\n"
     ]
    },
    {
     "name": "stdout",
     "output_type": "stream",
     "text": [
      "Loss1: 0.8240, Loss2: 0.3158, Loss3: 1.3596\n"
     ]
    },
    {
     "name": "stderr",
     "output_type": "stream",
     "text": [
      "Test_Loader: 100%|██████████| 288/288 [00:27<00:00, 10.38it/s]\n"
     ]
    },
    {
     "name": "stdout",
     "output_type": "stream",
     "text": [
      "Loss1: 0.8031, Loss2: 0.3130, Loss3: 1.3743\n"
     ]
    },
    {
     "name": "stderr",
     "output_type": "stream",
     "text": [
      "Test_Loader: 100%|██████████| 288/288 [00:28<00:00, 10.26it/s]\n"
     ]
    },
    {
     "name": "stdout",
     "output_type": "stream",
     "text": [
      "Loss1: 0.8199, Loss2: 0.3269, Loss3: 1.3704\n"
     ]
    },
    {
     "name": "stderr",
     "output_type": "stream",
     "text": [
      "Test_Loader: 100%|██████████| 288/288 [00:27<00:00, 10.58it/s]\n"
     ]
    },
    {
     "name": "stdout",
     "output_type": "stream",
     "text": [
      "Loss1: 0.7848, Loss2: 0.2998, Loss3: 1.4248\n"
     ]
    },
    {
     "name": "stderr",
     "output_type": "stream",
     "text": [
      "Test_Loader: 100%|██████████| 288/288 [00:25<00:00, 11.15it/s]\n"
     ]
    },
    {
     "name": "stdout",
     "output_type": "stream",
     "text": [
      "Loss1: 0.8049, Loss2: 0.3119, Loss3: 1.3986\n"
     ]
    },
    {
     "name": "stderr",
     "output_type": "stream",
     "text": [
      "Test_Loader: 100%|██████████| 288/288 [00:26<00:00, 11.04it/s]\n"
     ]
    },
    {
     "name": "stdout",
     "output_type": "stream",
     "text": [
      "Loss1: 0.8118, Loss2: 0.3106, Loss3: 1.3617\n"
     ]
    },
    {
     "name": "stderr",
     "output_type": "stream",
     "text": [
      "Test_Loader: 100%|██████████| 288/288 [00:25<00:00, 11.10it/s]\n"
     ]
    },
    {
     "name": "stdout",
     "output_type": "stream",
     "text": [
      "Loss1: 0.7950, Loss2: 0.3053, Loss3: 1.3647\n"
     ]
    },
    {
     "name": "stderr",
     "output_type": "stream",
     "text": [
      "Test_Loader: 100%|██████████| 288/288 [00:26<00:00, 11.03it/s]\n"
     ]
    },
    {
     "name": "stdout",
     "output_type": "stream",
     "text": [
      "Loss1: 0.7758, Loss2: 0.2972, Loss3: 1.3306\n"
     ]
    },
    {
     "name": "stderr",
     "output_type": "stream",
     "text": [
      "Test_Loader: 100%|██████████| 288/288 [00:25<00:00, 11.10it/s]\n"
     ]
    },
    {
     "name": "stdout",
     "output_type": "stream",
     "text": [
      "Loss1: 0.7522, Loss2: 0.2954, Loss3: 1.3424\n"
     ]
    },
    {
     "name": "stderr",
     "output_type": "stream",
     "text": [
      "Test_Loader: 100%|██████████| 288/288 [00:25<00:00, 11.08it/s]\n"
     ]
    },
    {
     "name": "stdout",
     "output_type": "stream",
     "text": [
      "Loss1: 0.7739, Loss2: 0.2996, Loss3: 1.3530\n"
     ]
    },
    {
     "name": "stderr",
     "output_type": "stream",
     "text": [
      "Test_Loader: 100%|██████████| 288/288 [00:26<00:00, 11.08it/s]\n"
     ]
    },
    {
     "name": "stdout",
     "output_type": "stream",
     "text": [
      "Loss1: 0.7663, Loss2: 0.2999, Loss3: 1.3086\n"
     ]
    },
    {
     "name": "stderr",
     "output_type": "stream",
     "text": [
      "Test_Loader: 100%|██████████| 288/288 [00:26<00:00, 10.91it/s]\n"
     ]
    },
    {
     "name": "stdout",
     "output_type": "stream",
     "text": [
      "Loss1: 0.7113, Loss2: 0.2966, Loss3: 1.2628\n"
     ]
    },
    {
     "name": "stderr",
     "output_type": "stream",
     "text": [
      "Test_Loader: 100%|██████████| 288/288 [00:26<00:00, 11.04it/s]\n"
     ]
    },
    {
     "name": "stdout",
     "output_type": "stream",
     "text": [
      "Loss1: 0.7241, Loss2: 0.2868, Loss3: 1.2972\n"
     ]
    },
    {
     "name": "stderr",
     "output_type": "stream",
     "text": [
      "Test_Loader: 100%|██████████| 288/288 [00:25<00:00, 11.20it/s]\n"
     ]
    },
    {
     "name": "stdout",
     "output_type": "stream",
     "text": [
      "Loss1: 0.7140, Loss2: 0.2857, Loss3: 1.3427\n"
     ]
    },
    {
     "name": "stderr",
     "output_type": "stream",
     "text": [
      "Test_Loader: 100%|██████████| 288/288 [00:25<00:00, 11.25it/s]\n"
     ]
    },
    {
     "name": "stdout",
     "output_type": "stream",
     "text": [
      "Loss1: 0.6976, Loss2: 0.2718, Loss3: 1.3355\n"
     ]
    },
    {
     "name": "stderr",
     "output_type": "stream",
     "text": [
      "Test_Loader: 100%|██████████| 288/288 [00:28<00:00, 10.08it/s]\n"
     ]
    },
    {
     "name": "stdout",
     "output_type": "stream",
     "text": [
      "Loss1: 0.7267, Loss2: 0.2875, Loss3: 1.2653\n"
     ]
    },
    {
     "name": "stderr",
     "output_type": "stream",
     "text": [
      "Test_Loader: 100%|██████████| 288/288 [00:28<00:00, 10.27it/s]\n"
     ]
    },
    {
     "name": "stdout",
     "output_type": "stream",
     "text": [
      "Loss1: 0.7176, Loss2: 0.2772, Loss3: 1.2882\n"
     ]
    },
    {
     "name": "stderr",
     "output_type": "stream",
     "text": [
      "Test_Loader: 100%|██████████| 288/288 [00:25<00:00, 11.15it/s]\n"
     ]
    },
    {
     "name": "stdout",
     "output_type": "stream",
     "text": [
      "Loss1: 0.7176, Loss2: 0.2855, Loss3: 1.2750\n"
     ]
    },
    {
     "name": "stderr",
     "output_type": "stream",
     "text": [
      "Test_Loader: 100%|██████████| 288/288 [00:25<00:00, 11.36it/s]\n"
     ]
    },
    {
     "name": "stdout",
     "output_type": "stream",
     "text": [
      "Loss1: 0.7414, Loss2: 0.2805, Loss3: 1.3241\n"
     ]
    },
    {
     "name": "stderr",
     "output_type": "stream",
     "text": [
      "Test_Loader: 100%|██████████| 288/288 [00:26<00:00, 11.03it/s]\n"
     ]
    },
    {
     "name": "stdout",
     "output_type": "stream",
     "text": [
      "Loss1: 0.7279, Loss2: 0.2632, Loss3: 1.3716\n"
     ]
    },
    {
     "name": "stderr",
     "output_type": "stream",
     "text": [
      "Test_Loader: 100%|██████████| 288/288 [00:26<00:00, 11.08it/s]\n"
     ]
    },
    {
     "name": "stdout",
     "output_type": "stream",
     "text": [
      "Loss1: 0.7016, Loss2: 0.2657, Loss3: 1.3185\n"
     ]
    },
    {
     "name": "stderr",
     "output_type": "stream",
     "text": [
      "Test_Loader: 100%|██████████| 288/288 [00:26<00:00, 10.91it/s]\n"
     ]
    },
    {
     "name": "stdout",
     "output_type": "stream",
     "text": [
      "Loss1: 0.7058, Loss2: 0.2579, Loss3: 1.2756\n"
     ]
    },
    {
     "name": "stderr",
     "output_type": "stream",
     "text": [
      "Test_Loader: 100%|██████████| 288/288 [00:26<00:00, 10.90it/s]\n"
     ]
    },
    {
     "name": "stdout",
     "output_type": "stream",
     "text": [
      "Loss1: 0.7217, Loss2: 0.2758, Loss3: 1.2654\n"
     ]
    },
    {
     "name": "stderr",
     "output_type": "stream",
     "text": [
      "Test_Loader: 100%|██████████| 288/288 [00:25<00:00, 11.18it/s]\n"
     ]
    },
    {
     "name": "stdout",
     "output_type": "stream",
     "text": [
      "Loss1: 0.6595, Loss2: 0.2534, Loss3: 1.2604\n"
     ]
    },
    {
     "name": "stderr",
     "output_type": "stream",
     "text": [
      "Test_Loader: 100%|██████████| 288/288 [00:25<00:00, 11.11it/s]\n"
     ]
    },
    {
     "name": "stdout",
     "output_type": "stream",
     "text": [
      "Loss1: 0.6852, Loss2: 0.2653, Loss3: 1.2796\n"
     ]
    },
    {
     "name": "stderr",
     "output_type": "stream",
     "text": [
      "Test_Loader: 100%|██████████| 288/288 [00:25<00:00, 11.18it/s]\n"
     ]
    },
    {
     "name": "stdout",
     "output_type": "stream",
     "text": [
      "Loss1: 0.6552, Loss2: 0.2564, Loss3: 1.2785\n"
     ]
    },
    {
     "name": "stderr",
     "output_type": "stream",
     "text": [
      "Test_Loader: 100%|██████████| 288/288 [00:26<00:00, 10.91it/s]\n"
     ]
    },
    {
     "name": "stdout",
     "output_type": "stream",
     "text": [
      "Loss1: 0.7094, Loss2: 0.3110, Loss3: 1.4394\n"
     ]
    },
    {
     "name": "stderr",
     "output_type": "stream",
     "text": [
      "Test_Loader: 100%|██████████| 288/288 [00:26<00:00, 11.06it/s]\n"
     ]
    },
    {
     "name": "stdout",
     "output_type": "stream",
     "text": [
      "Loss1: 0.7092, Loss2: 0.3160, Loss3: 1.4293\n"
     ]
    },
    {
     "name": "stderr",
     "output_type": "stream",
     "text": [
      "Test_Loader: 100%|██████████| 288/288 [00:26<00:00, 10.99it/s]\n"
     ]
    },
    {
     "name": "stdout",
     "output_type": "stream",
     "text": [
      "Loss1: 0.6700, Loss2: 0.2833, Loss3: 1.3733\n"
     ]
    },
    {
     "name": "stderr",
     "output_type": "stream",
     "text": [
      "Test_Loader: 100%|██████████| 288/288 [00:26<00:00, 10.74it/s]\n"
     ]
    },
    {
     "name": "stdout",
     "output_type": "stream",
     "text": [
      "Loss1: 0.6884, Loss2: 0.3140, Loss3: 1.4199\n"
     ]
    },
    {
     "name": "stderr",
     "output_type": "stream",
     "text": [
      "Test_Loader: 100%|██████████| 288/288 [00:27<00:00, 10.54it/s]\n"
     ]
    },
    {
     "name": "stdout",
     "output_type": "stream",
     "text": [
      "Loss1: 0.7223, Loss2: 0.3263, Loss3: 1.4873\n"
     ]
    },
    {
     "name": "stderr",
     "output_type": "stream",
     "text": [
      "Test_Loader: 100%|██████████| 288/288 [00:26<00:00, 11.05it/s]\n"
     ]
    },
    {
     "name": "stdout",
     "output_type": "stream",
     "text": [
      "Loss1: 0.7049, Loss2: 0.3190, Loss3: 1.4370\n"
     ]
    },
    {
     "name": "stderr",
     "output_type": "stream",
     "text": [
      "Test_Loader: 100%|██████████| 288/288 [00:25<00:00, 11.22it/s]\n"
     ]
    },
    {
     "name": "stdout",
     "output_type": "stream",
     "text": [
      "Loss1: 0.6854, Loss2: 0.3088, Loss3: 1.4650\n"
     ]
    },
    {
     "name": "stderr",
     "output_type": "stream",
     "text": [
      "Test_Loader: 100%|██████████| 288/288 [00:25<00:00, 11.23it/s]\n"
     ]
    },
    {
     "name": "stdout",
     "output_type": "stream",
     "text": [
      "Loss1: 0.6582, Loss2: 0.2941, Loss3: 1.3894\n"
     ]
    },
    {
     "name": "stderr",
     "output_type": "stream",
     "text": [
      "Test_Loader: 100%|██████████| 288/288 [00:25<00:00, 11.16it/s]\n"
     ]
    },
    {
     "name": "stdout",
     "output_type": "stream",
     "text": [
      "Loss1: 0.6464, Loss2: 0.2939, Loss3: 1.4457\n"
     ]
    },
    {
     "name": "stderr",
     "output_type": "stream",
     "text": [
      "Test_Loader: 100%|██████████| 288/288 [00:26<00:00, 11.02it/s]\n"
     ]
    },
    {
     "name": "stdout",
     "output_type": "stream",
     "text": [
      "Loss1: 0.6681, Loss2: 0.3039, Loss3: 1.3681\n"
     ]
    },
    {
     "name": "stderr",
     "output_type": "stream",
     "text": [
      "Test_Loader: 100%|██████████| 288/288 [00:26<00:00, 10.77it/s]\n"
     ]
    },
    {
     "name": "stdout",
     "output_type": "stream",
     "text": [
      "Loss1: 0.6575, Loss2: 0.3059, Loss3: 1.4404\n"
     ]
    },
    {
     "name": "stderr",
     "output_type": "stream",
     "text": [
      "Test_Loader: 100%|██████████| 288/288 [00:26<00:00, 11.03it/s]\n"
     ]
    },
    {
     "name": "stdout",
     "output_type": "stream",
     "text": [
      "Loss1: 0.6465, Loss2: 0.2943, Loss3: 1.3402\n"
     ]
    },
    {
     "name": "stderr",
     "output_type": "stream",
     "text": [
      "Test_Loader: 100%|██████████| 288/288 [00:26<00:00, 10.92it/s]\n"
     ]
    },
    {
     "name": "stdout",
     "output_type": "stream",
     "text": [
      "Loss1: 0.6549, Loss2: 0.3000, Loss3: 1.3871\n"
     ]
    },
    {
     "name": "stderr",
     "output_type": "stream",
     "text": [
      "Test_Loader: 100%|██████████| 288/288 [00:25<00:00, 11.12it/s]\n"
     ]
    },
    {
     "name": "stdout",
     "output_type": "stream",
     "text": [
      "Loss1: 0.6632, Loss2: 0.2895, Loss3: 1.4192\n"
     ]
    },
    {
     "name": "stderr",
     "output_type": "stream",
     "text": [
      "Test_Loader: 100%|██████████| 288/288 [00:25<00:00, 11.21it/s]\n"
     ]
    },
    {
     "name": "stdout",
     "output_type": "stream",
     "text": [
      "Loss1: 0.6377, Loss2: 0.2807, Loss3: 1.4359\n"
     ]
    },
    {
     "name": "stderr",
     "output_type": "stream",
     "text": [
      "Test_Loader: 100%|██████████| 288/288 [00:25<00:00, 11.17it/s]\n"
     ]
    },
    {
     "name": "stdout",
     "output_type": "stream",
     "text": [
      "Loss1: 0.6483, Loss2: 0.2798, Loss3: 1.4751\n"
     ]
    },
    {
     "name": "stderr",
     "output_type": "stream",
     "text": [
      "Test_Loader: 100%|██████████| 288/288 [00:25<00:00, 11.29it/s]\n"
     ]
    },
    {
     "name": "stdout",
     "output_type": "stream",
     "text": [
      "Loss1: 0.6298, Loss2: 0.2736, Loss3: 1.3174\n"
     ]
    },
    {
     "name": "stderr",
     "output_type": "stream",
     "text": [
      "Test_Loader: 100%|██████████| 288/288 [00:26<00:00, 10.84it/s]\n"
     ]
    },
    {
     "name": "stdout",
     "output_type": "stream",
     "text": [
      "Loss1: 0.6339, Loss2: 0.2970, Loss3: 1.4707\n"
     ]
    },
    {
     "name": "stderr",
     "output_type": "stream",
     "text": [
      "Test_Loader: 100%|██████████| 288/288 [00:25<00:00, 11.16it/s]\n"
     ]
    },
    {
     "name": "stdout",
     "output_type": "stream",
     "text": [
      "Loss1: 0.6179, Loss2: 0.2824, Loss3: 1.4413\n"
     ]
    },
    {
     "name": "stderr",
     "output_type": "stream",
     "text": [
      "Test_Loader: 100%|██████████| 288/288 [00:25<00:00, 11.23it/s]\n"
     ]
    },
    {
     "name": "stdout",
     "output_type": "stream",
     "text": [
      "Loss1: 0.6223, Loss2: 0.2849, Loss3: 1.4119\n"
     ]
    },
    {
     "name": "stderr",
     "output_type": "stream",
     "text": [
      "Test_Loader: 100%|██████████| 288/288 [00:25<00:00, 11.27it/s]\n"
     ]
    },
    {
     "name": "stdout",
     "output_type": "stream",
     "text": [
      "Loss1: 0.6356, Loss2: 0.2850, Loss3: 1.4716\n"
     ]
    },
    {
     "name": "stderr",
     "output_type": "stream",
     "text": [
      "Test_Loader: 100%|██████████| 288/288 [00:26<00:00, 11.03it/s]\n"
     ]
    },
    {
     "name": "stdout",
     "output_type": "stream",
     "text": [
      "Loss1: 0.6175, Loss2: 0.2948, Loss3: 1.4281\n"
     ]
    },
    {
     "name": "stderr",
     "output_type": "stream",
     "text": [
      "Test_Loader: 100%|██████████| 288/288 [00:26<00:00, 10.92it/s]\n"
     ]
    },
    {
     "name": "stdout",
     "output_type": "stream",
     "text": [
      "Loss1: 0.5961, Loss2: 0.2718, Loss3: 1.4156\n"
     ]
    },
    {
     "name": "stderr",
     "output_type": "stream",
     "text": [
      "Test_Loader: 100%|██████████| 288/288 [00:26<00:00, 10.96it/s]\n"
     ]
    },
    {
     "name": "stdout",
     "output_type": "stream",
     "text": [
      "Loss1: 0.6192, Loss2: 0.2894, Loss3: 1.4344\n"
     ]
    },
    {
     "name": "stderr",
     "output_type": "stream",
     "text": [
      "Test_Loader: 100%|██████████| 288/288 [00:26<00:00, 10.77it/s]\n"
     ]
    },
    {
     "name": "stdout",
     "output_type": "stream",
     "text": [
      "Loss1: 0.6203, Loss2: 0.2854, Loss3: 1.4016\n"
     ]
    },
    {
     "name": "stderr",
     "output_type": "stream",
     "text": [
      "Test_Loader: 100%|██████████| 288/288 [00:26<00:00, 10.83it/s]\n"
     ]
    },
    {
     "name": "stdout",
     "output_type": "stream",
     "text": [
      "Loss1: 0.6126, Loss2: 0.2877, Loss3: 1.3957\n"
     ]
    },
    {
     "name": "stderr",
     "output_type": "stream",
     "text": [
      "Test_Loader: 100%|██████████| 288/288 [00:26<00:00, 10.79it/s]\n"
     ]
    },
    {
     "name": "stdout",
     "output_type": "stream",
     "text": [
      "Loss1: 0.6030, Loss2: 0.2758, Loss3: 1.3657\n"
     ]
    },
    {
     "name": "stderr",
     "output_type": "stream",
     "text": [
      "Test_Loader: 100%|██████████| 288/288 [00:26<00:00, 10.94it/s]\n"
     ]
    },
    {
     "name": "stdout",
     "output_type": "stream",
     "text": [
      "Loss1: 0.5718, Loss2: 0.2307, Loss3: 1.1860\n"
     ]
    },
    {
     "name": "stderr",
     "output_type": "stream",
     "text": [
      "Test_Loader: 100%|██████████| 288/288 [00:26<00:00, 10.95it/s]\n"
     ]
    },
    {
     "name": "stdout",
     "output_type": "stream",
     "text": [
      "Loss1: 0.5581, Loss2: 0.2211, Loss3: 1.1888\n"
     ]
    },
    {
     "name": "stderr",
     "output_type": "stream",
     "text": [
      "Test_Loader: 100%|██████████| 288/288 [00:26<00:00, 10.92it/s]\n"
     ]
    },
    {
     "name": "stdout",
     "output_type": "stream",
     "text": [
      "Loss1: 0.5416, Loss2: 0.2168, Loss3: 1.1393\n"
     ]
    },
    {
     "name": "stderr",
     "output_type": "stream",
     "text": [
      "Test_Loader: 100%|██████████| 288/288 [00:28<00:00, 10.15it/s]\n"
     ]
    },
    {
     "name": "stdout",
     "output_type": "stream",
     "text": [
      "Loss1: 0.5527, Loss2: 0.2138, Loss3: 1.2187\n"
     ]
    },
    {
     "name": "stderr",
     "output_type": "stream",
     "text": [
      "Test_Loader: 100%|██████████| 288/288 [00:28<00:00, 10.07it/s]\n"
     ]
    },
    {
     "name": "stdout",
     "output_type": "stream",
     "text": [
      "Loss1: 0.5603, Loss2: 0.2197, Loss3: 1.2082\n"
     ]
    },
    {
     "name": "stderr",
     "output_type": "stream",
     "text": [
      "Test_Loader: 100%|██████████| 288/288 [00:26<00:00, 10.81it/s]\n"
     ]
    },
    {
     "name": "stdout",
     "output_type": "stream",
     "text": [
      "Loss1: 0.5635, Loss2: 0.2274, Loss3: 1.2179\n"
     ]
    },
    {
     "name": "stderr",
     "output_type": "stream",
     "text": [
      "Test_Loader: 100%|██████████| 288/288 [00:26<00:00, 10.91it/s]\n"
     ]
    },
    {
     "name": "stdout",
     "output_type": "stream",
     "text": [
      "Loss1: 0.5281, Loss2: 0.2097, Loss3: 1.2092\n"
     ]
    },
    {
     "name": "stderr",
     "output_type": "stream",
     "text": [
      "Test_Loader: 100%|██████████| 288/288 [00:26<00:00, 10.99it/s]\n"
     ]
    },
    {
     "name": "stdout",
     "output_type": "stream",
     "text": [
      "Loss1: 0.5425, Loss2: 0.2212, Loss3: 1.2770\n"
     ]
    },
    {
     "name": "stderr",
     "output_type": "stream",
     "text": [
      "Test_Loader: 100%|██████████| 288/288 [00:26<00:00, 11.02it/s]\n"
     ]
    },
    {
     "name": "stdout",
     "output_type": "stream",
     "text": [
      "Loss1: 0.5292, Loss2: 0.2126, Loss3: 1.2797\n"
     ]
    },
    {
     "name": "stderr",
     "output_type": "stream",
     "text": [
      "Test_Loader: 100%|██████████| 288/288 [00:26<00:00, 10.97it/s]\n"
     ]
    },
    {
     "name": "stdout",
     "output_type": "stream",
     "text": [
      "Loss1: 0.5193, Loss2: 0.2069, Loss3: 1.1951\n"
     ]
    },
    {
     "name": "stderr",
     "output_type": "stream",
     "text": [
      "Test_Loader: 100%|██████████| 288/288 [00:26<00:00, 10.93it/s]\n"
     ]
    },
    {
     "name": "stdout",
     "output_type": "stream",
     "text": [
      "Loss1: 0.5259, Loss2: 0.2152, Loss3: 1.2226\n"
     ]
    },
    {
     "name": "stderr",
     "output_type": "stream",
     "text": [
      "Test_Loader: 100%|██████████| 288/288 [00:26<00:00, 11.02it/s]\n"
     ]
    },
    {
     "name": "stdout",
     "output_type": "stream",
     "text": [
      "Loss1: 0.5214, Loss2: 0.2135, Loss3: 1.2418\n"
     ]
    },
    {
     "name": "stderr",
     "output_type": "stream",
     "text": [
      "Test_Loader: 100%|██████████| 288/288 [00:25<00:00, 11.08it/s]\n"
     ]
    },
    {
     "name": "stdout",
     "output_type": "stream",
     "text": [
      "Loss1: 0.5083, Loss2: 0.2099, Loss3: 1.1971\n"
     ]
    },
    {
     "name": "stderr",
     "output_type": "stream",
     "text": [
      "Test_Loader: 100%|██████████| 288/288 [00:26<00:00, 10.81it/s]\n"
     ]
    },
    {
     "name": "stdout",
     "output_type": "stream",
     "text": [
      "Loss1: 0.5200, Loss2: 0.2143, Loss3: 1.2211\n"
     ]
    },
    {
     "name": "stderr",
     "output_type": "stream",
     "text": [
      "Test_Loader: 100%|██████████| 288/288 [00:26<00:00, 10.88it/s]\n"
     ]
    },
    {
     "name": "stdout",
     "output_type": "stream",
     "text": [
      "Loss1: 0.5144, Loss2: 0.2150, Loss3: 1.2273\n"
     ]
    },
    {
     "name": "stderr",
     "output_type": "stream",
     "text": [
      "Test_Loader: 100%|██████████| 288/288 [00:27<00:00, 10.64it/s]\n"
     ]
    },
    {
     "name": "stdout",
     "output_type": "stream",
     "text": [
      "Loss1: 0.5102, Loss2: 0.2137, Loss3: 1.2158\n"
     ]
    },
    {
     "name": "stderr",
     "output_type": "stream",
     "text": [
      "Test_Loader: 100%|██████████| 288/288 [00:26<00:00, 10.97it/s]\n"
     ]
    },
    {
     "name": "stdout",
     "output_type": "stream",
     "text": [
      "Loss1: 0.5056, Loss2: 0.1997, Loss3: 1.1445\n"
     ]
    },
    {
     "name": "stderr",
     "output_type": "stream",
     "text": [
      "Test_Loader: 100%|██████████| 288/288 [00:28<00:00, 10.09it/s]\n"
     ]
    },
    {
     "name": "stdout",
     "output_type": "stream",
     "text": [
      "Loss1: 0.5051, Loss2: 0.2084, Loss3: 1.1912\n"
     ]
    },
    {
     "name": "stderr",
     "output_type": "stream",
     "text": [
      "Test_Loader: 100%|██████████| 288/288 [00:28<00:00, 10.01it/s]\n"
     ]
    },
    {
     "name": "stdout",
     "output_type": "stream",
     "text": [
      "Loss1: 0.5079, Loss2: 0.2153, Loss3: 1.2002\n"
     ]
    },
    {
     "name": "stderr",
     "output_type": "stream",
     "text": [
      "Test_Loader: 100%|██████████| 288/288 [00:26<00:00, 10.96it/s]\n"
     ]
    },
    {
     "name": "stdout",
     "output_type": "stream",
     "text": [
      "Loss1: 0.4906, Loss2: 0.1960, Loss3: 1.1029\n"
     ]
    },
    {
     "name": "stderr",
     "output_type": "stream",
     "text": [
      "Test_Loader: 100%|██████████| 288/288 [00:26<00:00, 10.78it/s]\n"
     ]
    },
    {
     "name": "stdout",
     "output_type": "stream",
     "text": [
      "Loss1: 0.4801, Loss2: 0.1990, Loss3: 1.1390\n"
     ]
    },
    {
     "name": "stderr",
     "output_type": "stream",
     "text": [
      "Test_Loader: 100%|██████████| 288/288 [00:27<00:00, 10.64it/s]\n"
     ]
    },
    {
     "name": "stdout",
     "output_type": "stream",
     "text": [
      "Loss1: 0.5026, Loss2: 0.2033, Loss3: 1.1667\n"
     ]
    },
    {
     "name": "stderr",
     "output_type": "stream",
     "text": [
      "Test_Loader: 100%|██████████| 288/288 [00:26<00:00, 11.01it/s]\n"
     ]
    },
    {
     "name": "stdout",
     "output_type": "stream",
     "text": [
      "Loss1: 0.4832, Loss2: 0.2005, Loss3: 1.1225\n"
     ]
    },
    {
     "name": "stderr",
     "output_type": "stream",
     "text": [
      "Test_Loader: 100%|██████████| 288/288 [00:26<00:00, 10.90it/s]\n"
     ]
    },
    {
     "name": "stdout",
     "output_type": "stream",
     "text": [
      "Loss1: 0.4783, Loss2: 0.1956, Loss3: 1.1116\n"
     ]
    },
    {
     "name": "stderr",
     "output_type": "stream",
     "text": [
      "Test_Loader: 100%|██████████| 288/288 [00:27<00:00, 10.63it/s]\n"
     ]
    },
    {
     "name": "stdout",
     "output_type": "stream",
     "text": [
      "Loss1: 0.5172, Loss2: 0.2080, Loss3: 1.1843\n"
     ]
    },
    {
     "name": "stderr",
     "output_type": "stream",
     "text": [
      "Test_Loader: 100%|██████████| 288/288 [00:27<00:00, 10.59it/s]\n"
     ]
    },
    {
     "name": "stdout",
     "output_type": "stream",
     "text": [
      "Loss1: 0.5062, Loss2: 0.2062, Loss3: 1.1310\n"
     ]
    },
    {
     "name": "stderr",
     "output_type": "stream",
     "text": [
      "Test_Loader: 100%|██████████| 288/288 [00:27<00:00, 10.64it/s]\n"
     ]
    },
    {
     "name": "stdout",
     "output_type": "stream",
     "text": [
      "Loss1: 0.5258, Loss2: 0.2097, Loss3: 1.1851\n"
     ]
    },
    {
     "name": "stderr",
     "output_type": "stream",
     "text": [
      "Test_Loader: 100%|██████████| 288/288 [00:26<00:00, 10.73it/s]\n"
     ]
    },
    {
     "name": "stdout",
     "output_type": "stream",
     "text": [
      "Loss1: 0.5206, Loss2: 0.2116, Loss3: 1.1537\n"
     ]
    },
    {
     "name": "stderr",
     "output_type": "stream",
     "text": [
      "Test_Loader: 100%|██████████| 288/288 [00:26<00:00, 10.97it/s]\n"
     ]
    },
    {
     "name": "stdout",
     "output_type": "stream",
     "text": [
      "Loss1: 0.5140, Loss2: 0.2113, Loss3: 1.1353\n"
     ]
    },
    {
     "name": "stderr",
     "output_type": "stream",
     "text": [
      "Test_Loader: 100%|██████████| 288/288 [00:25<00:00, 11.21it/s]\n"
     ]
    },
    {
     "name": "stdout",
     "output_type": "stream",
     "text": [
      "Loss1: 0.5726, Loss2: 0.2290, Loss3: 1.3655\n"
     ]
    },
    {
     "name": "stderr",
     "output_type": "stream",
     "text": [
      "Test_Loader: 100%|██████████| 288/288 [00:25<00:00, 11.18it/s]\n"
     ]
    },
    {
     "name": "stdout",
     "output_type": "stream",
     "text": [
      "Loss1: 0.6278, Loss2: 0.2776, Loss3: 1.4478\n"
     ]
    },
    {
     "name": "stderr",
     "output_type": "stream",
     "text": [
      "Test_Loader: 100%|██████████| 288/288 [00:27<00:00, 10.31it/s]\n"
     ]
    },
    {
     "name": "stdout",
     "output_type": "stream",
     "text": [
      "Loss1: 0.6360, Loss2: 0.2789, Loss3: 1.4753\n"
     ]
    },
    {
     "name": "stderr",
     "output_type": "stream",
     "text": [
      "Test_Loader: 100%|██████████| 288/288 [00:25<00:00, 11.25it/s]\n"
     ]
    },
    {
     "name": "stdout",
     "output_type": "stream",
     "text": [
      "Loss1: 0.6298, Loss2: 0.2705, Loss3: 1.4489\n"
     ]
    },
    {
     "name": "stderr",
     "output_type": "stream",
     "text": [
      "Test_Loader: 100%|██████████| 288/288 [00:25<00:00, 11.20it/s]\n"
     ]
    },
    {
     "name": "stdout",
     "output_type": "stream",
     "text": [
      "Loss1: 0.6273, Loss2: 0.2721, Loss3: 1.4434\n"
     ]
    },
    {
     "name": "stderr",
     "output_type": "stream",
     "text": [
      "Test_Loader: 100%|██████████| 288/288 [00:26<00:00, 10.87it/s]\n"
     ]
    },
    {
     "name": "stdout",
     "output_type": "stream",
     "text": [
      "Loss1: 0.6259, Loss2: 0.2698, Loss3: 1.4434\n"
     ]
    },
    {
     "name": "stderr",
     "output_type": "stream",
     "text": [
      "Test_Loader: 100%|██████████| 288/288 [00:25<00:00, 11.11it/s]\n"
     ]
    },
    {
     "name": "stdout",
     "output_type": "stream",
     "text": [
      "Loss1: 0.6313, Loss2: 0.2731, Loss3: 1.4372\n"
     ]
    },
    {
     "name": "stderr",
     "output_type": "stream",
     "text": [
      "Test_Loader: 100%|██████████| 288/288 [00:25<00:00, 11.15it/s]\n"
     ]
    },
    {
     "name": "stdout",
     "output_type": "stream",
     "text": [
      "Loss1: 0.6247, Loss2: 0.2630, Loss3: 1.4456\n"
     ]
    },
    {
     "name": "stderr",
     "output_type": "stream",
     "text": [
      "Test_Loader: 100%|██████████| 288/288 [00:26<00:00, 10.96it/s]\n"
     ]
    },
    {
     "name": "stdout",
     "output_type": "stream",
     "text": [
      "Loss1: 0.6341, Loss2: 0.2658, Loss3: 1.4369\n"
     ]
    },
    {
     "name": "stderr",
     "output_type": "stream",
     "text": [
      "Test_Loader: 100%|██████████| 288/288 [00:26<00:00, 10.91it/s]\n"
     ]
    },
    {
     "name": "stdout",
     "output_type": "stream",
     "text": [
      "Loss1: 0.6280, Loss2: 0.2659, Loss3: 1.4473\n"
     ]
    },
    {
     "name": "stderr",
     "output_type": "stream",
     "text": [
      "Test_Loader: 100%|██████████| 288/288 [00:26<00:00, 10.95it/s]\n"
     ]
    },
    {
     "name": "stdout",
     "output_type": "stream",
     "text": [
      "Loss1: 0.6192, Loss2: 0.2554, Loss3: 1.4268\n"
     ]
    },
    {
     "name": "stderr",
     "output_type": "stream",
     "text": [
      "Test_Loader: 100%|██████████| 288/288 [00:26<00:00, 10.93it/s]\n"
     ]
    },
    {
     "name": "stdout",
     "output_type": "stream",
     "text": [
      "Loss1: 0.6222, Loss2: 0.2647, Loss3: 1.4434\n"
     ]
    },
    {
     "name": "stderr",
     "output_type": "stream",
     "text": [
      "Test_Loader: 100%|██████████| 288/288 [00:25<00:00, 11.09it/s]\n"
     ]
    },
    {
     "name": "stdout",
     "output_type": "stream",
     "text": [
      "Loss1: 0.6036, Loss2: 0.2592, Loss3: 1.4428\n"
     ]
    },
    {
     "name": "stderr",
     "output_type": "stream",
     "text": [
      "Test_Loader: 100%|██████████| 288/288 [00:26<00:00, 10.79it/s]\n"
     ]
    },
    {
     "name": "stdout",
     "output_type": "stream",
     "text": [
      "Loss1: 0.6038, Loss2: 0.2625, Loss3: 1.4153\n"
     ]
    },
    {
     "name": "stderr",
     "output_type": "stream",
     "text": [
      "Test_Loader: 100%|██████████| 288/288 [00:26<00:00, 11.03it/s]\n"
     ]
    },
    {
     "name": "stdout",
     "output_type": "stream",
     "text": [
      "Loss1: 0.6167, Loss2: 0.2584, Loss3: 1.4197\n"
     ]
    },
    {
     "name": "stderr",
     "output_type": "stream",
     "text": [
      "Test_Loader: 100%|██████████| 288/288 [00:28<00:00, 10.11it/s]\n"
     ]
    },
    {
     "name": "stdout",
     "output_type": "stream",
     "text": [
      "Loss1: 0.6246, Loss2: 0.2558, Loss3: 1.3984\n"
     ]
    },
    {
     "name": "stderr",
     "output_type": "stream",
     "text": [
      "Test_Loader: 100%|██████████| 288/288 [00:28<00:00, 10.08it/s]\n"
     ]
    },
    {
     "name": "stdout",
     "output_type": "stream",
     "text": [
      "Loss1: 0.6125, Loss2: 0.2521, Loss3: 1.3879\n"
     ]
    },
    {
     "name": "stderr",
     "output_type": "stream",
     "text": [
      "Test_Loader: 100%|██████████| 288/288 [00:26<00:00, 11.00it/s]\n"
     ]
    },
    {
     "name": "stdout",
     "output_type": "stream",
     "text": [
      "Loss1: 0.6270, Loss2: 0.2561, Loss3: 1.4128\n"
     ]
    },
    {
     "name": "stderr",
     "output_type": "stream",
     "text": [
      "Test_Loader: 100%|██████████| 288/288 [00:26<00:00, 10.85it/s]\n"
     ]
    },
    {
     "name": "stdout",
     "output_type": "stream",
     "text": [
      "Loss1: 0.6104, Loss2: 0.2565, Loss3: 1.3895\n"
     ]
    },
    {
     "name": "stderr",
     "output_type": "stream",
     "text": [
      "Test_Loader: 100%|██████████| 288/288 [00:26<00:00, 10.97it/s]\n"
     ]
    },
    {
     "name": "stdout",
     "output_type": "stream",
     "text": [
      "Loss1: 0.6096, Loss2: 0.2499, Loss3: 1.3837\n"
     ]
    },
    {
     "name": "stderr",
     "output_type": "stream",
     "text": [
      "Test_Loader: 100%|██████████| 288/288 [00:26<00:00, 10.85it/s]\n"
     ]
    },
    {
     "name": "stdout",
     "output_type": "stream",
     "text": [
      "Loss1: 0.6083, Loss2: 0.2452, Loss3: 1.3387\n"
     ]
    },
    {
     "name": "stderr",
     "output_type": "stream",
     "text": [
      "Test_Loader: 100%|██████████| 288/288 [00:26<00:00, 10.77it/s]\n"
     ]
    },
    {
     "name": "stdout",
     "output_type": "stream",
     "text": [
      "Loss1: 0.6083, Loss2: 0.2490, Loss3: 1.3530\n"
     ]
    },
    {
     "name": "stderr",
     "output_type": "stream",
     "text": [
      "Test_Loader: 100%|██████████| 288/288 [00:26<00:00, 10.93it/s]\n"
     ]
    },
    {
     "name": "stdout",
     "output_type": "stream",
     "text": [
      "Loss1: 0.6209, Loss2: 0.2487, Loss3: 1.3802\n"
     ]
    },
    {
     "name": "stderr",
     "output_type": "stream",
     "text": [
      "Test_Loader: 100%|██████████| 288/288 [00:26<00:00, 10.96it/s]\n"
     ]
    },
    {
     "name": "stdout",
     "output_type": "stream",
     "text": [
      "Loss1: 0.6051, Loss2: 0.2388, Loss3: 1.3432\n"
     ]
    },
    {
     "name": "stderr",
     "output_type": "stream",
     "text": [
      "Test_Loader: 100%|██████████| 288/288 [00:26<00:00, 10.92it/s]\n"
     ]
    },
    {
     "name": "stdout",
     "output_type": "stream",
     "text": [
      "Loss1: 0.6079, Loss2: 0.2462, Loss3: 1.3587\n"
     ]
    },
    {
     "name": "stderr",
     "output_type": "stream",
     "text": [
      "Test_Loader: 100%|██████████| 288/288 [00:26<00:00, 11.02it/s]\n"
     ]
    },
    {
     "name": "stdout",
     "output_type": "stream",
     "text": [
      "Loss1: 0.5904, Loss2: 0.2368, Loss3: 1.3416\n"
     ]
    },
    {
     "name": "stderr",
     "output_type": "stream",
     "text": [
      "Test_Loader: 100%|██████████| 288/288 [00:26<00:00, 10.90it/s]\n"
     ]
    },
    {
     "name": "stdout",
     "output_type": "stream",
     "text": [
      "Loss1: 0.5832, Loss2: 0.2380, Loss3: 1.2951\n"
     ]
    },
    {
     "name": "stderr",
     "output_type": "stream",
     "text": [
      "Test_Loader: 100%|██████████| 288/288 [00:26<00:00, 10.76it/s]\n"
     ]
    },
    {
     "name": "stdout",
     "output_type": "stream",
     "text": [
      "Loss1: 0.5719, Loss2: 0.2323, Loss3: 1.3077\n"
     ]
    },
    {
     "name": "stderr",
     "output_type": "stream",
     "text": [
      "Test_Loader: 100%|██████████| 288/288 [00:26<00:00, 10.80it/s]\n"
     ]
    },
    {
     "name": "stdout",
     "output_type": "stream",
     "text": [
      "Loss1: 0.5742, Loss2: 0.2367, Loss3: 1.2888\n"
     ]
    },
    {
     "name": "stderr",
     "output_type": "stream",
     "text": [
      "Test_Loader: 100%|██████████| 288/288 [00:28<00:00,  9.98it/s]\n"
     ]
    },
    {
     "name": "stdout",
     "output_type": "stream",
     "text": [
      "Loss1: 0.5853, Loss2: 0.2370, Loss3: 1.2986\n"
     ]
    },
    {
     "name": "stderr",
     "output_type": "stream",
     "text": [
      "Test_Loader: 100%|██████████| 288/288 [00:26<00:00, 11.02it/s]\n"
     ]
    },
    {
     "name": "stdout",
     "output_type": "stream",
     "text": [
      "Loss1: 0.5752, Loss2: 0.2427, Loss3: 1.3126\n"
     ]
    },
    {
     "name": "stderr",
     "output_type": "stream",
     "text": [
      "Test_Loader: 100%|██████████| 288/288 [00:25<00:00, 11.11it/s]\n"
     ]
    },
    {
     "name": "stdout",
     "output_type": "stream",
     "text": [
      "Loss1: 0.5826, Loss2: 0.2379, Loss3: 1.2965\n"
     ]
    },
    {
     "name": "stderr",
     "output_type": "stream",
     "text": [
      "Test_Loader: 100%|██████████| 288/288 [00:26<00:00, 10.91it/s]\n"
     ]
    },
    {
     "name": "stdout",
     "output_type": "stream",
     "text": [
      "Loss1: 0.5533, Loss2: 0.2269, Loss3: 1.2992\n"
     ]
    },
    {
     "name": "stderr",
     "output_type": "stream",
     "text": [
      "Test_Loader: 100%|██████████| 288/288 [00:27<00:00, 10.64it/s]\n"
     ]
    },
    {
     "name": "stdout",
     "output_type": "stream",
     "text": [
      "Loss1: 0.5460, Loss2: 0.2372, Loss3: 1.2611\n"
     ]
    },
    {
     "name": "stderr",
     "output_type": "stream",
     "text": [
      "Test_Loader: 100%|██████████| 288/288 [00:26<00:00, 10.67it/s]\n"
     ]
    },
    {
     "name": "stdout",
     "output_type": "stream",
     "text": [
      "Loss1: 0.5717, Loss2: 0.2476, Loss3: 1.2828\n"
     ]
    },
    {
     "name": "stderr",
     "output_type": "stream",
     "text": [
      "Test_Loader: 100%|██████████| 288/288 [00:26<00:00, 10.67it/s]\n"
     ]
    },
    {
     "name": "stdout",
     "output_type": "stream",
     "text": [
      "Loss1: 0.5888, Loss2: 0.2454, Loss3: 1.2833\n"
     ]
    },
    {
     "name": "stderr",
     "output_type": "stream",
     "text": [
      "Test_Loader: 100%|██████████| 288/288 [00:26<00:00, 10.72it/s]\n"
     ]
    },
    {
     "name": "stdout",
     "output_type": "stream",
     "text": [
      "Loss1: 0.7372, Loss2: 0.3420, Loss3: 1.5299\n"
     ]
    },
    {
     "name": "stderr",
     "output_type": "stream",
     "text": [
      "Test_Loader: 100%|██████████| 288/288 [00:27<00:00, 10.62it/s]\n"
     ]
    },
    {
     "name": "stdout",
     "output_type": "stream",
     "text": [
      "Loss1: 0.7445, Loss2: 0.3298, Loss3: 1.5178\n"
     ]
    },
    {
     "name": "stderr",
     "output_type": "stream",
     "text": [
      "Test_Loader: 100%|██████████| 288/288 [00:26<00:00, 10.69it/s]\n"
     ]
    },
    {
     "name": "stdout",
     "output_type": "stream",
     "text": [
      "Loss1: 0.7739, Loss2: 0.3558, Loss3: 1.4755\n"
     ]
    },
    {
     "name": "stderr",
     "output_type": "stream",
     "text": [
      "Test_Loader: 100%|██████████| 288/288 [00:26<00:00, 10.87it/s]\n"
     ]
    },
    {
     "name": "stdout",
     "output_type": "stream",
     "text": [
      "Loss1: 0.7438, Loss2: 0.3314, Loss3: 1.5535\n"
     ]
    },
    {
     "name": "stderr",
     "output_type": "stream",
     "text": [
      "Test_Loader: 100%|██████████| 288/288 [00:26<00:00, 10.89it/s]\n"
     ]
    },
    {
     "name": "stdout",
     "output_type": "stream",
     "text": [
      "Loss1: 0.7096, Loss2: 0.3200, Loss3: 1.4965\n"
     ]
    },
    {
     "name": "stderr",
     "output_type": "stream",
     "text": [
      "Test_Loader: 100%|██████████| 288/288 [00:27<00:00, 10.52it/s]\n"
     ]
    },
    {
     "name": "stdout",
     "output_type": "stream",
     "text": [
      "Loss1: 0.7529, Loss2: 0.3405, Loss3: 1.6309\n"
     ]
    },
    {
     "name": "stderr",
     "output_type": "stream",
     "text": [
      "Test_Loader: 100%|██████████| 288/288 [00:28<00:00,  9.98it/s]\n"
     ]
    },
    {
     "name": "stdout",
     "output_type": "stream",
     "text": [
      "Loss1: 0.7626, Loss2: 0.3379, Loss3: 1.6285\n"
     ]
    },
    {
     "name": "stderr",
     "output_type": "stream",
     "text": [
      "Test_Loader: 100%|██████████| 288/288 [00:27<00:00, 10.43it/s]\n"
     ]
    },
    {
     "name": "stdout",
     "output_type": "stream",
     "text": [
      "Loss1: 0.7542, Loss2: 0.3231, Loss3: 1.6062\n"
     ]
    },
    {
     "name": "stderr",
     "output_type": "stream",
     "text": [
      "Test_Loader: 100%|██████████| 288/288 [00:25<00:00, 11.24it/s]\n"
     ]
    },
    {
     "name": "stdout",
     "output_type": "stream",
     "text": [
      "Loss1: 0.7207, Loss2: 0.3049, Loss3: 1.5440\n"
     ]
    },
    {
     "name": "stderr",
     "output_type": "stream",
     "text": [
      "Test_Loader: 100%|██████████| 288/288 [00:26<00:00, 11.00it/s]\n"
     ]
    },
    {
     "name": "stdout",
     "output_type": "stream",
     "text": [
      "Loss1: 0.7104, Loss2: 0.3036, Loss3: 1.5334\n"
     ]
    },
    {
     "name": "stderr",
     "output_type": "stream",
     "text": [
      "Test_Loader: 100%|██████████| 288/288 [00:26<00:00, 10.95it/s]\n"
     ]
    },
    {
     "name": "stdout",
     "output_type": "stream",
     "text": [
      "Loss1: 0.7109, Loss2: 0.3099, Loss3: 1.5293\n"
     ]
    },
    {
     "name": "stderr",
     "output_type": "stream",
     "text": [
      "Test_Loader: 100%|██████████| 288/288 [00:26<00:00, 10.97it/s]\n"
     ]
    },
    {
     "name": "stdout",
     "output_type": "stream",
     "text": [
      "Loss1: 0.7167, Loss2: 0.3130, Loss3: 1.5188\n"
     ]
    },
    {
     "name": "stderr",
     "output_type": "stream",
     "text": [
      "Test_Loader: 100%|██████████| 288/288 [00:26<00:00, 10.90it/s]\n"
     ]
    },
    {
     "name": "stdout",
     "output_type": "stream",
     "text": [
      "Loss1: 0.6833, Loss2: 0.2959, Loss3: 1.4917\n"
     ]
    },
    {
     "name": "stderr",
     "output_type": "stream",
     "text": [
      "Test_Loader: 100%|██████████| 288/288 [00:26<00:00, 10.74it/s]\n"
     ]
    },
    {
     "name": "stdout",
     "output_type": "stream",
     "text": [
      "Loss1: 0.7034, Loss2: 0.3082, Loss3: 1.5486\n"
     ]
    },
    {
     "name": "stderr",
     "output_type": "stream",
     "text": [
      "Test_Loader: 100%|██████████| 288/288 [00:26<00:00, 10.78it/s]\n"
     ]
    },
    {
     "name": "stdout",
     "output_type": "stream",
     "text": [
      "Loss1: 0.7036, Loss2: 0.3181, Loss3: 1.5101\n"
     ]
    },
    {
     "name": "stderr",
     "output_type": "stream",
     "text": [
      "Test_Loader: 100%|██████████| 288/288 [00:26<00:00, 10.71it/s]\n"
     ]
    },
    {
     "name": "stdout",
     "output_type": "stream",
     "text": [
      "Loss1: 0.6799, Loss2: 0.3032, Loss3: 1.5163\n"
     ]
    },
    {
     "name": "stderr",
     "output_type": "stream",
     "text": [
      "Test_Loader: 100%|██████████| 288/288 [00:26<00:00, 10.83it/s]\n"
     ]
    },
    {
     "name": "stdout",
     "output_type": "stream",
     "text": [
      "Loss1: 0.6784, Loss2: 0.3089, Loss3: 1.4949\n"
     ]
    },
    {
     "name": "stderr",
     "output_type": "stream",
     "text": [
      "Test_Loader: 100%|██████████| 288/288 [00:26<00:00, 10.90it/s]\n"
     ]
    },
    {
     "name": "stdout",
     "output_type": "stream",
     "text": [
      "Loss1: 0.6872, Loss2: 0.3082, Loss3: 1.5001\n"
     ]
    },
    {
     "name": "stderr",
     "output_type": "stream",
     "text": [
      "Test_Loader: 100%|██████████| 288/288 [00:26<00:00, 11.01it/s]\n"
     ]
    },
    {
     "name": "stdout",
     "output_type": "stream",
     "text": [
      "Loss1: 0.7005, Loss2: 0.3230, Loss3: 1.5088\n"
     ]
    },
    {
     "name": "stderr",
     "output_type": "stream",
     "text": [
      "Test_Loader: 100%|██████████| 288/288 [00:27<00:00, 10.38it/s]\n"
     ]
    },
    {
     "name": "stdout",
     "output_type": "stream",
     "text": [
      "Loss1: 0.6818, Loss2: 0.3062, Loss3: 1.4920\n"
     ]
    },
    {
     "name": "stderr",
     "output_type": "stream",
     "text": [
      "Test_Loader: 100%|██████████| 288/288 [00:28<00:00, 10.20it/s]\n"
     ]
    },
    {
     "name": "stdout",
     "output_type": "stream",
     "text": [
      "Loss1: 0.6880, Loss2: 0.3057, Loss3: 1.5040\n"
     ]
    },
    {
     "name": "stderr",
     "output_type": "stream",
     "text": [
      "Test_Loader: 100%|██████████| 288/288 [00:25<00:00, 11.23it/s]\n"
     ]
    },
    {
     "name": "stdout",
     "output_type": "stream",
     "text": [
      "Loss1: 0.6674, Loss2: 0.2971, Loss3: 1.4559\n"
     ]
    },
    {
     "name": "stderr",
     "output_type": "stream",
     "text": [
      "Test_Loader: 100%|██████████| 288/288 [00:26<00:00, 11.02it/s]\n"
     ]
    },
    {
     "name": "stdout",
     "output_type": "stream",
     "text": [
      "Loss1: 0.6885, Loss2: 0.3053, Loss3: 1.4571\n"
     ]
    },
    {
     "name": "stderr",
     "output_type": "stream",
     "text": [
      "Test_Loader: 100%|██████████| 288/288 [00:26<00:00, 10.87it/s]\n"
     ]
    },
    {
     "name": "stdout",
     "output_type": "stream",
     "text": [
      "Loss1: 0.6635, Loss2: 0.2880, Loss3: 1.4552\n"
     ]
    },
    {
     "name": "stderr",
     "output_type": "stream",
     "text": [
      "Test_Loader: 100%|██████████| 288/288 [00:25<00:00, 11.20it/s]\n"
     ]
    },
    {
     "name": "stdout",
     "output_type": "stream",
     "text": [
      "Loss1: 0.6633, Loss2: 0.2852, Loss3: 1.4298\n"
     ]
    },
    {
     "name": "stderr",
     "output_type": "stream",
     "text": [
      "Test_Loader: 100%|██████████| 288/288 [00:26<00:00, 10.87it/s]\n"
     ]
    },
    {
     "name": "stdout",
     "output_type": "stream",
     "text": [
      "Loss1: 0.6684, Loss2: 0.2955, Loss3: 1.4481\n"
     ]
    },
    {
     "name": "stderr",
     "output_type": "stream",
     "text": [
      "Test_Loader: 100%|██████████| 288/288 [00:26<00:00, 10.73it/s]\n"
     ]
    },
    {
     "name": "stdout",
     "output_type": "stream",
     "text": [
      "Loss1: 0.6766, Loss2: 0.2960, Loss3: 1.4614\n"
     ]
    },
    {
     "name": "stderr",
     "output_type": "stream",
     "text": [
      "Test_Loader: 100%|██████████| 288/288 [00:26<00:00, 10.69it/s]\n"
     ]
    },
    {
     "name": "stdout",
     "output_type": "stream",
     "text": [
      "Loss1: 0.6497, Loss2: 0.2799, Loss3: 1.4172\n"
     ]
    },
    {
     "name": "stderr",
     "output_type": "stream",
     "text": [
      "Test_Loader: 100%|██████████| 288/288 [00:26<00:00, 10.70it/s]\n"
     ]
    },
    {
     "name": "stdout",
     "output_type": "stream",
     "text": [
      "Loss1: 0.6511, Loss2: 0.2845, Loss3: 1.4274\n"
     ]
    },
    {
     "name": "stderr",
     "output_type": "stream",
     "text": [
      "Test_Loader: 100%|██████████| 288/288 [00:26<00:00, 10.72it/s]\n"
     ]
    },
    {
     "name": "stdout",
     "output_type": "stream",
     "text": [
      "Loss1: 0.6685, Loss2: 0.2930, Loss3: 1.4302\n"
     ]
    },
    {
     "name": "stderr",
     "output_type": "stream",
     "text": [
      "Test_Loader: 100%|██████████| 288/288 [00:26<00:00, 10.77it/s]\n"
     ]
    },
    {
     "name": "stdout",
     "output_type": "stream",
     "text": [
      "Loss1: 0.6502, Loss2: 0.2861, Loss3: 1.3983\n"
     ]
    },
    {
     "name": "stderr",
     "output_type": "stream",
     "text": [
      "Test_Loader: 100%|██████████| 288/288 [00:25<00:00, 11.11it/s]\n"
     ]
    },
    {
     "name": "stdout",
     "output_type": "stream",
     "text": [
      "Loss1: 0.6498, Loss2: 0.2826, Loss3: 1.3847\n"
     ]
    },
    {
     "name": "stderr",
     "output_type": "stream",
     "text": [
      "Test_Loader: 100%|██████████| 288/288 [00:26<00:00, 10.84it/s]\n"
     ]
    },
    {
     "name": "stdout",
     "output_type": "stream",
     "text": [
      "Loss1: 0.6668, Loss2: 0.2909, Loss3: 1.3804\n"
     ]
    },
    {
     "name": "stderr",
     "output_type": "stream",
     "text": [
      "Test_Loader: 100%|██████████| 288/288 [00:28<00:00, 10.16it/s]\n"
     ]
    },
    {
     "name": "stdout",
     "output_type": "stream",
     "text": [
      "Loss1: 0.6446, Loss2: 0.2814, Loss3: 1.3488\n"
     ]
    },
    {
     "name": "stderr",
     "output_type": "stream",
     "text": [
      "Test_Loader: 100%|██████████| 288/288 [00:26<00:00, 10.89it/s]\n"
     ]
    },
    {
     "name": "stdout",
     "output_type": "stream",
     "text": [
      "Loss1: 0.6287, Loss2: 0.2673, Loss3: 1.3480\n"
     ]
    },
    {
     "name": "stderr",
     "output_type": "stream",
     "text": [
      "Test_Loader: 100%|██████████| 288/288 [00:25<00:00, 11.29it/s]\n"
     ]
    },
    {
     "name": "stdout",
     "output_type": "stream",
     "text": [
      "Loss1: 0.6221, Loss2: 0.2592, Loss3: 1.3037\n"
     ]
    },
    {
     "name": "stderr",
     "output_type": "stream",
     "text": [
      "Test_Loader: 100%|██████████| 288/288 [00:25<00:00, 11.16it/s]\n"
     ]
    },
    {
     "name": "stdout",
     "output_type": "stream",
     "text": [
      "Loss1: 0.6251, Loss2: 0.2637, Loss3: 1.3169\n"
     ]
    },
    {
     "name": "stderr",
     "output_type": "stream",
     "text": [
      "Test_Loader: 100%|██████████| 288/288 [00:25<00:00, 11.17it/s]\n"
     ]
    },
    {
     "name": "stdout",
     "output_type": "stream",
     "text": [
      "Loss1: 0.5950, Loss2: 0.2485, Loss3: 1.2964\n"
     ]
    },
    {
     "name": "stderr",
     "output_type": "stream",
     "text": [
      "Test_Loader: 100%|██████████| 288/288 [00:26<00:00, 11.04it/s]\n"
     ]
    },
    {
     "name": "stdout",
     "output_type": "stream",
     "text": [
      "Loss1: 0.5961, Loss2: 0.2477, Loss3: 1.2978\n"
     ]
    },
    {
     "name": "stderr",
     "output_type": "stream",
     "text": [
      "Test_Loader: 100%|██████████| 288/288 [00:26<00:00, 10.87it/s]\n"
     ]
    },
    {
     "name": "stdout",
     "output_type": "stream",
     "text": [
      "Loss1: 0.5998, Loss2: 0.2506, Loss3: 1.2732\n"
     ]
    },
    {
     "name": "stderr",
     "output_type": "stream",
     "text": [
      "Test_Loader: 100%|██████████| 288/288 [00:26<00:00, 10.96it/s]\n"
     ]
    },
    {
     "name": "stdout",
     "output_type": "stream",
     "text": [
      "Loss1: 0.6018, Loss2: 0.2540, Loss3: 1.2929\n"
     ]
    },
    {
     "name": "stderr",
     "output_type": "stream",
     "text": [
      "Test_Loader: 100%|██████████| 288/288 [00:26<00:00, 11.06it/s]\n"
     ]
    },
    {
     "name": "stdout",
     "output_type": "stream",
     "text": [
      "Loss1: 0.5895, Loss2: 0.2446, Loss3: 1.2685\n"
     ]
    },
    {
     "name": "stderr",
     "output_type": "stream",
     "text": [
      "Test_Loader: 100%|██████████| 288/288 [00:25<00:00, 11.11it/s]\n"
     ]
    },
    {
     "name": "stdout",
     "output_type": "stream",
     "text": [
      "Loss1: 0.5949, Loss2: 0.2494, Loss3: 1.2731\n"
     ]
    },
    {
     "name": "stderr",
     "output_type": "stream",
     "text": [
      "Test_Loader: 100%|██████████| 288/288 [00:26<00:00, 11.06it/s]\n"
     ]
    },
    {
     "name": "stdout",
     "output_type": "stream",
     "text": [
      "Loss1: 0.6284, Loss2: 0.2480, Loss3: 1.3262\n"
     ]
    },
    {
     "name": "stderr",
     "output_type": "stream",
     "text": [
      "Test_Loader: 100%|██████████| 288/288 [00:26<00:00, 10.93it/s]\n"
     ]
    },
    {
     "name": "stdout",
     "output_type": "stream",
     "text": [
      "Loss1: 0.6069, Loss2: 0.2474, Loss3: 1.3383\n"
     ]
    },
    {
     "name": "stderr",
     "output_type": "stream",
     "text": [
      "Test_Loader: 100%|██████████| 288/288 [00:26<00:00, 11.04it/s]\n"
     ]
    },
    {
     "name": "stdout",
     "output_type": "stream",
     "text": [
      "Loss1: 0.6080, Loss2: 0.2506, Loss3: 1.3493\n"
     ]
    },
    {
     "name": "stderr",
     "output_type": "stream",
     "text": [
      "Test_Loader: 100%|██████████| 288/288 [00:27<00:00, 10.62it/s]\n"
     ]
    },
    {
     "name": "stdout",
     "output_type": "stream",
     "text": [
      "Loss1: 0.6235, Loss2: 0.2516, Loss3: 1.3327\n"
     ]
    },
    {
     "name": "stderr",
     "output_type": "stream",
     "text": [
      "Test_Loader: 100%|██████████| 288/288 [00:28<00:00, 10.10it/s]\n"
     ]
    },
    {
     "name": "stdout",
     "output_type": "stream",
     "text": [
      "Loss1: 0.6149, Loss2: 0.2527, Loss3: 1.3164\n"
     ]
    },
    {
     "name": "stderr",
     "output_type": "stream",
     "text": [
      "Test_Loader: 100%|██████████| 288/288 [00:26<00:00, 10.79it/s]\n"
     ]
    },
    {
     "name": "stdout",
     "output_type": "stream",
     "text": [
      "Loss1: 0.6113, Loss2: 0.2472, Loss3: 1.3350\n"
     ]
    },
    {
     "name": "stderr",
     "output_type": "stream",
     "text": [
      "Test_Loader: 100%|██████████| 288/288 [00:26<00:00, 10.94it/s]\n"
     ]
    },
    {
     "name": "stdout",
     "output_type": "stream",
     "text": [
      "Loss1: 0.6191, Loss2: 0.2548, Loss3: 1.3261\n"
     ]
    },
    {
     "name": "stderr",
     "output_type": "stream",
     "text": [
      "Test_Loader: 100%|██████████| 288/288 [00:26<00:00, 10.91it/s]\n"
     ]
    },
    {
     "name": "stdout",
     "output_type": "stream",
     "text": [
      "Loss1: 0.6111, Loss2: 0.2556, Loss3: 1.3115\n"
     ]
    },
    {
     "name": "stderr",
     "output_type": "stream",
     "text": [
      "Test_Loader: 100%|██████████| 288/288 [00:26<00:00, 10.71it/s]\n"
     ]
    },
    {
     "name": "stdout",
     "output_type": "stream",
     "text": [
      "Loss1: 0.6078, Loss2: 0.2422, Loss3: 1.3081\n"
     ]
    },
    {
     "name": "stderr",
     "output_type": "stream",
     "text": [
      "Test_Loader: 100%|██████████| 288/288 [00:26<00:00, 10.91it/s]\n"
     ]
    },
    {
     "name": "stdout",
     "output_type": "stream",
     "text": [
      "Loss1: 0.6146, Loss2: 0.2515, Loss3: 1.2877\n"
     ]
    },
    {
     "name": "stderr",
     "output_type": "stream",
     "text": [
      "Test_Loader: 100%|██████████| 288/288 [00:26<00:00, 10.87it/s]\n"
     ]
    },
    {
     "name": "stdout",
     "output_type": "stream",
     "text": [
      "Loss1: 0.6392, Loss2: 0.2583, Loss3: 1.3307\n"
     ]
    },
    {
     "name": "stderr",
     "output_type": "stream",
     "text": [
      "Test_Loader: 100%|██████████| 288/288 [00:26<00:00, 10.81it/s]\n"
     ]
    },
    {
     "name": "stdout",
     "output_type": "stream",
     "text": [
      "Loss1: 0.6367, Loss2: 0.2600, Loss3: 1.3568\n"
     ]
    },
    {
     "name": "stderr",
     "output_type": "stream",
     "text": [
      "Test_Loader: 100%|██████████| 288/288 [00:26<00:00, 10.84it/s]\n"
     ]
    },
    {
     "name": "stdout",
     "output_type": "stream",
     "text": [
      "Loss1: 0.6178, Loss2: 0.2544, Loss3: 1.2889\n"
     ]
    },
    {
     "name": "stderr",
     "output_type": "stream",
     "text": [
      "Test_Loader: 100%|██████████| 288/288 [00:26<00:00, 10.73it/s]\n"
     ]
    },
    {
     "name": "stdout",
     "output_type": "stream",
     "text": [
      "Loss1: 0.6054, Loss2: 0.2490, Loss3: 1.2961\n"
     ]
    },
    {
     "name": "stderr",
     "output_type": "stream",
     "text": [
      "Test_Loader: 100%|██████████| 288/288 [00:26<00:00, 10.92it/s]\n"
     ]
    },
    {
     "name": "stdout",
     "output_type": "stream",
     "text": [
      "Loss1: 0.5918, Loss2: 0.2504, Loss3: 1.2911\n"
     ]
    },
    {
     "name": "stderr",
     "output_type": "stream",
     "text": [
      "Test_Loader: 100%|██████████| 288/288 [00:25<00:00, 11.17it/s]\n"
     ]
    },
    {
     "name": "stdout",
     "output_type": "stream",
     "text": [
      "Loss1: 0.6075, Loss2: 0.2574, Loss3: 1.2876\n"
     ]
    },
    {
     "name": "stderr",
     "output_type": "stream",
     "text": [
      "Test_Loader: 100%|██████████| 288/288 [00:26<00:00, 11.04it/s]\n"
     ]
    },
    {
     "name": "stdout",
     "output_type": "stream",
     "text": [
      "Loss1: 0.5999, Loss2: 0.2579, Loss3: 1.2976\n"
     ]
    },
    {
     "name": "stderr",
     "output_type": "stream",
     "text": [
      "Test_Loader: 100%|██████████| 288/288 [00:26<00:00, 10.95it/s]\n"
     ]
    },
    {
     "name": "stdout",
     "output_type": "stream",
     "text": [
      "Loss1: 0.5707, Loss2: 0.2361, Loss3: 1.1476\n"
     ]
    },
    {
     "name": "stderr",
     "output_type": "stream",
     "text": [
      "Test_Loader: 100%|██████████| 288/288 [00:28<00:00, 10.27it/s]\n"
     ]
    },
    {
     "name": "stdout",
     "output_type": "stream",
     "text": [
      "Loss1: 0.5388, Loss2: 0.2409, Loss3: 1.0721\n"
     ]
    },
    {
     "name": "stderr",
     "output_type": "stream",
     "text": [
      "Test_Loader: 100%|██████████| 288/288 [00:26<00:00, 11.04it/s]\n"
     ]
    },
    {
     "name": "stdout",
     "output_type": "stream",
     "text": [
      "Loss1: 0.5160, Loss2: 0.2279, Loss3: 1.0263\n"
     ]
    },
    {
     "name": "stderr",
     "output_type": "stream",
     "text": [
      "Test_Loader: 100%|██████████| 288/288 [00:25<00:00, 11.18it/s]\n"
     ]
    },
    {
     "name": "stdout",
     "output_type": "stream",
     "text": [
      "Loss1: 0.5238, Loss2: 0.2205, Loss3: 1.0294\n"
     ]
    },
    {
     "name": "stderr",
     "output_type": "stream",
     "text": [
      "Test_Loader: 100%|██████████| 288/288 [00:25<00:00, 11.16it/s]\n"
     ]
    },
    {
     "name": "stdout",
     "output_type": "stream",
     "text": [
      "Loss1: 0.5572, Loss2: 0.2589, Loss3: 1.0753\n"
     ]
    },
    {
     "name": "stderr",
     "output_type": "stream",
     "text": [
      "Test_Loader: 100%|██████████| 288/288 [00:26<00:00, 11.03it/s]\n"
     ]
    },
    {
     "name": "stdout",
     "output_type": "stream",
     "text": [
      "Loss1: 0.5658, Loss2: 0.2643, Loss3: 1.0894\n"
     ]
    },
    {
     "name": "stderr",
     "output_type": "stream",
     "text": [
      "Test_Loader: 100%|██████████| 288/288 [00:26<00:00, 10.78it/s]\n"
     ]
    },
    {
     "name": "stdout",
     "output_type": "stream",
     "text": [
      "Loss1: 0.6507, Loss2: 0.2707, Loss3: 1.2878\n"
     ]
    },
    {
     "name": "stderr",
     "output_type": "stream",
     "text": [
      "Test_Loader: 100%|██████████| 288/288 [00:26<00:00, 10.81it/s]\n"
     ]
    },
    {
     "name": "stdout",
     "output_type": "stream",
     "text": [
      "Loss1: 0.6505, Loss2: 0.2685, Loss3: 1.2661\n"
     ]
    },
    {
     "name": "stderr",
     "output_type": "stream",
     "text": [
      "Test_Loader: 100%|██████████| 288/288 [00:26<00:00, 10.71it/s]\n"
     ]
    },
    {
     "name": "stdout",
     "output_type": "stream",
     "text": [
      "Loss1: 0.6430, Loss2: 0.2654, Loss3: 1.2179\n"
     ]
    },
    {
     "name": "stderr",
     "output_type": "stream",
     "text": [
      "Test_Loader: 100%|██████████| 288/288 [00:26<00:00, 10.89it/s]\n"
     ]
    },
    {
     "name": "stdout",
     "output_type": "stream",
     "text": [
      "Loss1: 0.6407, Loss2: 0.2649, Loss3: 1.2408\n"
     ]
    },
    {
     "name": "stderr",
     "output_type": "stream",
     "text": [
      "Test_Loader: 100%|██████████| 288/288 [00:26<00:00, 11.06it/s]\n"
     ]
    },
    {
     "name": "stdout",
     "output_type": "stream",
     "text": [
      "Loss1: 0.6386, Loss2: 0.2689, Loss3: 1.2349\n"
     ]
    },
    {
     "name": "stderr",
     "output_type": "stream",
     "text": [
      "Test_Loader: 100%|██████████| 288/288 [00:26<00:00, 10.94it/s]\n"
     ]
    },
    {
     "name": "stdout",
     "output_type": "stream",
     "text": [
      "Loss1: 0.6377, Loss2: 0.2625, Loss3: 1.2102\n"
     ]
    },
    {
     "name": "stderr",
     "output_type": "stream",
     "text": [
      "Test_Loader: 100%|██████████| 288/288 [00:26<00:00, 10.89it/s]\n"
     ]
    },
    {
     "name": "stdout",
     "output_type": "stream",
     "text": [
      "Loss1: 0.6381, Loss2: 0.2636, Loss3: 1.1939\n"
     ]
    },
    {
     "name": "stderr",
     "output_type": "stream",
     "text": [
      "Test_Loader: 100%|██████████| 288/288 [00:26<00:00, 10.89it/s]\n"
     ]
    },
    {
     "name": "stdout",
     "output_type": "stream",
     "text": [
      "Loss1: 0.6250, Loss2: 0.2619, Loss3: 1.2067\n"
     ]
    },
    {
     "name": "stderr",
     "output_type": "stream",
     "text": [
      "Test_Loader: 100%|██████████| 288/288 [00:29<00:00,  9.85it/s]\n"
     ]
    },
    {
     "name": "stdout",
     "output_type": "stream",
     "text": [
      "Loss1: 0.6242, Loss2: 0.2572, Loss3: 1.1881\n"
     ]
    },
    {
     "name": "stderr",
     "output_type": "stream",
     "text": [
      "Test_Loader: 100%|██████████| 288/288 [00:27<00:00, 10.50it/s]\n"
     ]
    },
    {
     "name": "stdout",
     "output_type": "stream",
     "text": [
      "Loss1: 0.6207, Loss2: 0.2608, Loss3: 1.2098\n"
     ]
    },
    {
     "name": "stderr",
     "output_type": "stream",
     "text": [
      "Test_Loader: 100%|██████████| 288/288 [00:25<00:00, 11.08it/s]\n"
     ]
    },
    {
     "name": "stdout",
     "output_type": "stream",
     "text": [
      "Loss1: 0.6189, Loss2: 0.2561, Loss3: 1.2010\n"
     ]
    },
    {
     "name": "stderr",
     "output_type": "stream",
     "text": [
      "Test_Loader: 100%|██████████| 288/288 [00:26<00:00, 11.04it/s]\n"
     ]
    },
    {
     "name": "stdout",
     "output_type": "stream",
     "text": [
      "Loss1: 0.6173, Loss2: 0.2630, Loss3: 1.1616\n"
     ]
    },
    {
     "name": "stderr",
     "output_type": "stream",
     "text": [
      "Test_Loader: 100%|██████████| 288/288 [00:25<00:00, 11.17it/s]\n"
     ]
    },
    {
     "name": "stdout",
     "output_type": "stream",
     "text": [
      "Loss1: 0.5972, Loss2: 0.2527, Loss3: 1.1804\n"
     ]
    },
    {
     "name": "stderr",
     "output_type": "stream",
     "text": [
      "Test_Loader: 100%|██████████| 288/288 [00:25<00:00, 11.18it/s]\n"
     ]
    },
    {
     "name": "stdout",
     "output_type": "stream",
     "text": [
      "Loss1: 0.6056, Loss2: 0.2595, Loss3: 1.1695\n"
     ]
    },
    {
     "name": "stderr",
     "output_type": "stream",
     "text": [
      "Test_Loader: 100%|██████████| 288/288 [00:26<00:00, 10.93it/s]\n"
     ]
    },
    {
     "name": "stdout",
     "output_type": "stream",
     "text": [
      "Loss1: 0.6117, Loss2: 0.2514, Loss3: 1.1571\n"
     ]
    },
    {
     "name": "stderr",
     "output_type": "stream",
     "text": [
      "Test_Loader: 100%|██████████| 288/288 [00:26<00:00, 11.01it/s]\n"
     ]
    },
    {
     "name": "stdout",
     "output_type": "stream",
     "text": [
      "Loss1: 0.5878, Loss2: 0.2479, Loss3: 1.1705\n"
     ]
    },
    {
     "name": "stderr",
     "output_type": "stream",
     "text": [
      "Test_Loader: 100%|██████████| 288/288 [00:26<00:00, 11.02it/s]\n"
     ]
    },
    {
     "name": "stdout",
     "output_type": "stream",
     "text": [
      "Loss1: 0.5997, Loss2: 0.2539, Loss3: 1.1571\n"
     ]
    },
    {
     "name": "stderr",
     "output_type": "stream",
     "text": [
      "Test_Loader: 100%|██████████| 288/288 [00:26<00:00, 11.03it/s]\n"
     ]
    },
    {
     "name": "stdout",
     "output_type": "stream",
     "text": [
      "Loss1: 0.5952, Loss2: 0.2520, Loss3: 1.1430\n"
     ]
    },
    {
     "name": "stderr",
     "output_type": "stream",
     "text": [
      "Test_Loader: 100%|██████████| 288/288 [00:26<00:00, 11.02it/s]\n"
     ]
    },
    {
     "name": "stdout",
     "output_type": "stream",
     "text": [
      "Loss1: 0.6202, Loss2: 0.2574, Loss3: 1.1322\n"
     ]
    },
    {
     "name": "stderr",
     "output_type": "stream",
     "text": [
      "Test_Loader: 100%|██████████| 288/288 [00:26<00:00, 10.85it/s]\n"
     ]
    },
    {
     "name": "stdout",
     "output_type": "stream",
     "text": [
      "Loss1: 0.6089, Loss2: 0.2511, Loss3: 1.1163\n"
     ]
    },
    {
     "name": "stderr",
     "output_type": "stream",
     "text": [
      "Test_Loader: 100%|██████████| 288/288 [00:26<00:00, 10.96it/s]\n"
     ]
    },
    {
     "name": "stdout",
     "output_type": "stream",
     "text": [
      "Loss1: 0.6101, Loss2: 0.2549, Loss3: 1.1303\n"
     ]
    },
    {
     "name": "stderr",
     "output_type": "stream",
     "text": [
      "Test_Loader: 100%|██████████| 288/288 [00:29<00:00,  9.92it/s]\n"
     ]
    },
    {
     "name": "stdout",
     "output_type": "stream",
     "text": [
      "Loss1: 0.6332, Loss2: 0.2699, Loss3: 1.1802\n"
     ]
    },
    {
     "name": "stderr",
     "output_type": "stream",
     "text": [
      "Test_Loader: 100%|██████████| 288/288 [00:29<00:00,  9.93it/s]\n"
     ]
    },
    {
     "name": "stdout",
     "output_type": "stream",
     "text": [
      "Loss1: 0.6378, Loss2: 0.2743, Loss3: 1.2140\n"
     ]
    },
    {
     "name": "stderr",
     "output_type": "stream",
     "text": [
      "Test_Loader: 100%|██████████| 288/288 [00:26<00:00, 11.06it/s]\n"
     ]
    },
    {
     "name": "stdout",
     "output_type": "stream",
     "text": [
      "Loss1: 0.6318, Loss2: 0.2711, Loss3: 1.2271\n"
     ]
    },
    {
     "name": "stderr",
     "output_type": "stream",
     "text": [
      "Test_Loader: 100%|██████████| 288/288 [00:25<00:00, 11.15it/s]\n"
     ]
    },
    {
     "name": "stdout",
     "output_type": "stream",
     "text": [
      "Loss1: 0.6315, Loss2: 0.2686, Loss3: 1.2043\n"
     ]
    },
    {
     "name": "stderr",
     "output_type": "stream",
     "text": [
      "Test_Loader: 100%|██████████| 288/288 [00:25<00:00, 11.11it/s]\n"
     ]
    },
    {
     "name": "stdout",
     "output_type": "stream",
     "text": [
      "Loss1: 0.6265, Loss2: 0.2690, Loss3: 1.1798\n"
     ]
    },
    {
     "name": "stderr",
     "output_type": "stream",
     "text": [
      "Test_Loader: 100%|██████████| 288/288 [00:25<00:00, 11.16it/s]\n"
     ]
    },
    {
     "name": "stdout",
     "output_type": "stream",
     "text": [
      "Loss1: 0.6296, Loss2: 0.2650, Loss3: 1.1884\n"
     ]
    },
    {
     "name": "stderr",
     "output_type": "stream",
     "text": [
      "Test_Loader: 100%|██████████| 288/288 [00:26<00:00, 10.97it/s]\n"
     ]
    },
    {
     "name": "stdout",
     "output_type": "stream",
     "text": [
      "Loss1: 0.6251, Loss2: 0.2592, Loss3: 1.1967\n"
     ]
    },
    {
     "name": "stderr",
     "output_type": "stream",
     "text": [
      "Test_Loader: 100%|██████████| 288/288 [00:26<00:00, 10.69it/s]\n"
     ]
    },
    {
     "name": "stdout",
     "output_type": "stream",
     "text": [
      "Loss1: 0.6311, Loss2: 0.2626, Loss3: 1.1964\n"
     ]
    },
    {
     "name": "stderr",
     "output_type": "stream",
     "text": [
      "Test_Loader: 100%|██████████| 288/288 [00:27<00:00, 10.52it/s]\n"
     ]
    },
    {
     "name": "stdout",
     "output_type": "stream",
     "text": [
      "Loss1: 0.6243, Loss2: 0.2584, Loss3: 1.1822\n"
     ]
    },
    {
     "name": "stderr",
     "output_type": "stream",
     "text": [
      "Test_Loader: 100%|██████████| 288/288 [00:27<00:00, 10.46it/s]\n"
     ]
    },
    {
     "name": "stdout",
     "output_type": "stream",
     "text": [
      "Loss1: 0.5720, Loss2: 0.2489, Loss3: 1.1519\n"
     ]
    },
    {
     "name": "stderr",
     "output_type": "stream",
     "text": [
      "Test_Loader: 100%|██████████| 288/288 [00:26<00:00, 10.73it/s]\n"
     ]
    },
    {
     "name": "stdout",
     "output_type": "stream",
     "text": [
      "Loss1: 0.5680, Loss2: 0.2554, Loss3: 1.1406\n"
     ]
    },
    {
     "name": "stderr",
     "output_type": "stream",
     "text": [
      "Test_Loader: 100%|██████████| 288/288 [00:25<00:00, 11.18it/s]\n"
     ]
    },
    {
     "name": "stdout",
     "output_type": "stream",
     "text": [
      "Loss1: 0.5665, Loss2: 0.2432, Loss3: 1.1423\n"
     ]
    },
    {
     "name": "stderr",
     "output_type": "stream",
     "text": [
      "Test_Loader: 100%|██████████| 288/288 [00:25<00:00, 11.46it/s]\n"
     ]
    },
    {
     "name": "stdout",
     "output_type": "stream",
     "text": [
      "Loss1: 0.5550, Loss2: 0.2447, Loss3: 1.1207\n"
     ]
    },
    {
     "name": "stderr",
     "output_type": "stream",
     "text": [
      "Test_Loader: 100%|██████████| 288/288 [00:25<00:00, 11.41it/s]\n"
     ]
    },
    {
     "name": "stdout",
     "output_type": "stream",
     "text": [
      "Loss1: 0.5553, Loss2: 0.2481, Loss3: 1.1146\n"
     ]
    },
    {
     "name": "stderr",
     "output_type": "stream",
     "text": [
      "Test_Loader: 100%|██████████| 288/288 [00:26<00:00, 10.69it/s]\n"
     ]
    },
    {
     "name": "stdout",
     "output_type": "stream",
     "text": [
      "Loss1: 0.5249, Loss2: 0.2200, Loss3: 1.0547\n"
     ]
    },
    {
     "name": "stderr",
     "output_type": "stream",
     "text": [
      "Test_Loader: 100%|██████████| 288/288 [00:27<00:00, 10.32it/s]\n"
     ]
    },
    {
     "name": "stdout",
     "output_type": "stream",
     "text": [
      "Loss1: 0.5276, Loss2: 0.2299, Loss3: 1.0275\n"
     ]
    },
    {
     "name": "stderr",
     "output_type": "stream",
     "text": [
      "Test_Loader: 100%|██████████| 288/288 [00:26<00:00, 10.95it/s]\n"
     ]
    },
    {
     "name": "stdout",
     "output_type": "stream",
     "text": [
      "Loss1: 0.5128, Loss2: 0.2245, Loss3: 1.0338\n"
     ]
    },
    {
     "name": "stderr",
     "output_type": "stream",
     "text": [
      "Test_Loader: 100%|██████████| 288/288 [00:25<00:00, 11.11it/s]\n"
     ]
    },
    {
     "name": "stdout",
     "output_type": "stream",
     "text": [
      "Loss1: 0.5210, Loss2: 0.2220, Loss3: 1.0482\n"
     ]
    },
    {
     "name": "stderr",
     "output_type": "stream",
     "text": [
      "Test_Loader: 100%|██████████| 288/288 [00:25<00:00, 11.12it/s]\n"
     ]
    },
    {
     "name": "stdout",
     "output_type": "stream",
     "text": [
      "Loss1: 0.5140, Loss2: 0.2195, Loss3: 1.0187\n"
     ]
    },
    {
     "name": "stderr",
     "output_type": "stream",
     "text": [
      "Test_Loader: 100%|██████████| 288/288 [00:26<00:00, 10.95it/s]\n"
     ]
    },
    {
     "name": "stdout",
     "output_type": "stream",
     "text": [
      "Loss1: 0.5151, Loss2: 0.2218, Loss3: 1.0328\n"
     ]
    },
    {
     "name": "stderr",
     "output_type": "stream",
     "text": [
      "Test_Loader: 100%|██████████| 288/288 [00:25<00:00, 11.32it/s]\n"
     ]
    },
    {
     "name": "stdout",
     "output_type": "stream",
     "text": [
      "Loss1: 0.5861, Loss2: 0.2272, Loss3: 1.0333\n"
     ]
    },
    {
     "name": "stderr",
     "output_type": "stream",
     "text": [
      "Test_Loader: 100%|██████████| 288/288 [00:26<00:00, 10.80it/s]\n"
     ]
    },
    {
     "name": "stdout",
     "output_type": "stream",
     "text": [
      "Loss1: 0.5869, Loss2: 0.2195, Loss3: 1.0339\n"
     ]
    },
    {
     "name": "stderr",
     "output_type": "stream",
     "text": [
      "Test_Loader: 100%|██████████| 288/288 [00:25<00:00, 11.25it/s]\n"
     ]
    },
    {
     "name": "stdout",
     "output_type": "stream",
     "text": [
      "Loss1: 0.5637, Loss2: 0.2188, Loss3: 1.0100\n"
     ]
    },
    {
     "name": "stderr",
     "output_type": "stream",
     "text": [
      "Test_Loader: 100%|██████████| 288/288 [00:26<00:00, 10.81it/s]\n"
     ]
    },
    {
     "name": "stdout",
     "output_type": "stream",
     "text": [
      "Loss1: 0.5716, Loss2: 0.2204, Loss3: 1.0360\n"
     ]
    },
    {
     "name": "stderr",
     "output_type": "stream",
     "text": [
      "Test_Loader: 100%|██████████| 288/288 [00:26<00:00, 10.85it/s]\n"
     ]
    },
    {
     "name": "stdout",
     "output_type": "stream",
     "text": [
      "Loss1: 0.5682, Loss2: 0.2200, Loss3: 1.0209\n"
     ]
    },
    {
     "name": "stderr",
     "output_type": "stream",
     "text": [
      "Test_Loader: 100%|██████████| 288/288 [00:26<00:00, 10.78it/s]\n"
     ]
    },
    {
     "name": "stdout",
     "output_type": "stream",
     "text": [
      "Loss1: 0.5622, Loss2: 0.2219, Loss3: 1.0030\n"
     ]
    },
    {
     "name": "stderr",
     "output_type": "stream",
     "text": [
      "Test_Loader: 100%|██████████| 288/288 [00:25<00:00, 11.27it/s]\n"
     ]
    },
    {
     "name": "stdout",
     "output_type": "stream",
     "text": [
      "Loss1: 0.5641, Loss2: 0.2098, Loss3: 0.9976\n"
     ]
    },
    {
     "name": "stderr",
     "output_type": "stream",
     "text": [
      "Test_Loader: 100%|██████████| 288/288 [00:28<00:00, 10.16it/s]\n"
     ]
    },
    {
     "name": "stdout",
     "output_type": "stream",
     "text": [
      "Loss1: 0.5507, Loss2: 0.2174, Loss3: 0.9940\n"
     ]
    },
    {
     "name": "stderr",
     "output_type": "stream",
     "text": [
      "Test_Loader: 100%|██████████| 288/288 [00:28<00:00, 10.18it/s]\n"
     ]
    },
    {
     "name": "stdout",
     "output_type": "stream",
     "text": [
      "Loss1: 0.5628, Loss2: 0.2156, Loss3: 0.9815\n"
     ]
    },
    {
     "name": "stderr",
     "output_type": "stream",
     "text": [
      "Test_Loader: 100%|██████████| 288/288 [00:26<00:00, 10.68it/s]\n"
     ]
    },
    {
     "name": "stdout",
     "output_type": "stream",
     "text": [
      "Loss1: 0.5432, Loss2: 0.2115, Loss3: 0.9930\n"
     ]
    },
    {
     "name": "stderr",
     "output_type": "stream",
     "text": [
      "Test_Loader: 100%|██████████| 288/288 [00:26<00:00, 10.94it/s]\n"
     ]
    },
    {
     "name": "stdout",
     "output_type": "stream",
     "text": [
      "Loss1: 0.6335, Loss2: 0.2867, Loss3: 1.2463\n"
     ]
    },
    {
     "name": "stderr",
     "output_type": "stream",
     "text": [
      "Test_Loader: 100%|██████████| 288/288 [00:25<00:00, 11.09it/s]\n"
     ]
    },
    {
     "name": "stdout",
     "output_type": "stream",
     "text": [
      "Loss1: 0.6389, Loss2: 0.2923, Loss3: 1.2508\n"
     ]
    },
    {
     "name": "stderr",
     "output_type": "stream",
     "text": [
      "Test_Loader: 100%|██████████| 288/288 [00:25<00:00, 11.09it/s]\n"
     ]
    },
    {
     "name": "stdout",
     "output_type": "stream",
     "text": [
      "Loss1: 0.6287, Loss2: 0.3004, Loss3: 1.2806\n"
     ]
    },
    {
     "name": "stderr",
     "output_type": "stream",
     "text": [
      "Test_Loader: 100%|██████████| 288/288 [00:26<00:00, 10.90it/s]\n"
     ]
    },
    {
     "name": "stdout",
     "output_type": "stream",
     "text": [
      "Loss1: 0.6213, Loss2: 0.2855, Loss3: 1.2690\n"
     ]
    },
    {
     "name": "stderr",
     "output_type": "stream",
     "text": [
      "Test_Loader: 100%|██████████| 288/288 [00:26<00:00, 11.03it/s]\n"
     ]
    },
    {
     "name": "stdout",
     "output_type": "stream",
     "text": [
      "Loss1: 0.6326, Loss2: 0.3008, Loss3: 1.2262\n"
     ]
    },
    {
     "name": "stderr",
     "output_type": "stream",
     "text": [
      "Test_Loader: 100%|██████████| 288/288 [00:26<00:00, 11.01it/s]\n"
     ]
    },
    {
     "name": "stdout",
     "output_type": "stream",
     "text": [
      "Loss1: 0.6310, Loss2: 0.3001, Loss3: 1.2359\n"
     ]
    },
    {
     "name": "stderr",
     "output_type": "stream",
     "text": [
      "Test_Loader: 100%|██████████| 288/288 [00:26<00:00, 10.89it/s]\n"
     ]
    },
    {
     "name": "stdout",
     "output_type": "stream",
     "text": [
      "Loss1: 0.6161, Loss2: 0.2925, Loss3: 1.2229\n"
     ]
    },
    {
     "name": "stderr",
     "output_type": "stream",
     "text": [
      "Test_Loader: 100%|██████████| 288/288 [00:26<00:00, 11.03it/s]\n"
     ]
    },
    {
     "name": "stdout",
     "output_type": "stream",
     "text": [
      "Loss1: 0.6238, Loss2: 0.2963, Loss3: 1.2217\n"
     ]
    },
    {
     "name": "stderr",
     "output_type": "stream",
     "text": [
      "Test_Loader: 100%|██████████| 288/288 [00:25<00:00, 11.24it/s]\n"
     ]
    },
    {
     "name": "stdout",
     "output_type": "stream",
     "text": [
      "Loss1: 0.6156, Loss2: 0.3000, Loss3: 1.2091\n"
     ]
    },
    {
     "name": "stderr",
     "output_type": "stream",
     "text": [
      "Test_Loader: 100%|██████████| 288/288 [00:25<00:00, 11.10it/s]\n"
     ]
    },
    {
     "name": "stdout",
     "output_type": "stream",
     "text": [
      "Loss1: 0.6194, Loss2: 0.2971, Loss3: 1.2267\n"
     ]
    },
    {
     "name": "stderr",
     "output_type": "stream",
     "text": [
      "Test_Loader: 100%|██████████| 288/288 [00:27<00:00, 10.49it/s]\n"
     ]
    },
    {
     "name": "stdout",
     "output_type": "stream",
     "text": [
      "Loss1: 0.6168, Loss2: 0.2982, Loss3: 1.2029\n"
     ]
    },
    {
     "name": "stderr",
     "output_type": "stream",
     "text": [
      "Test_Loader: 100%|██████████| 288/288 [00:29<00:00,  9.91it/s]\n"
     ]
    },
    {
     "name": "stdout",
     "output_type": "stream",
     "text": [
      "Loss1: 0.6223, Loss2: 0.3020, Loss3: 1.2131\n"
     ]
    },
    {
     "name": "stderr",
     "output_type": "stream",
     "text": [
      "Test_Loader: 100%|██████████| 288/288 [00:28<00:00, 10.27it/s]\n"
     ]
    },
    {
     "name": "stdout",
     "output_type": "stream",
     "text": [
      "Loss1: 0.6187, Loss2: 0.2994, Loss3: 1.1967\n"
     ]
    },
    {
     "name": "stderr",
     "output_type": "stream",
     "text": [
      "Test_Loader: 100%|██████████| 288/288 [00:25<00:00, 11.10it/s]\n"
     ]
    },
    {
     "name": "stdout",
     "output_type": "stream",
     "text": [
      "Loss1: 0.6428, Loss2: 0.3051, Loss3: 1.2951\n"
     ]
    },
    {
     "name": "stderr",
     "output_type": "stream",
     "text": [
      "Test_Loader: 100%|██████████| 288/288 [00:25<00:00, 11.19it/s]\n"
     ]
    },
    {
     "name": "stdout",
     "output_type": "stream",
     "text": [
      "Loss1: 0.6418, Loss2: 0.3140, Loss3: 1.2890\n"
     ]
    },
    {
     "name": "stderr",
     "output_type": "stream",
     "text": [
      "Test_Loader: 100%|██████████| 288/288 [00:25<00:00, 11.21it/s]\n"
     ]
    },
    {
     "name": "stdout",
     "output_type": "stream",
     "text": [
      "Loss1: 0.6388, Loss2: 0.3091, Loss3: 1.3079\n"
     ]
    },
    {
     "name": "stderr",
     "output_type": "stream",
     "text": [
      "Test_Loader: 100%|██████████| 288/288 [00:26<00:00, 10.81it/s]\n"
     ]
    },
    {
     "name": "stdout",
     "output_type": "stream",
     "text": [
      "Loss1: 0.6390, Loss2: 0.3065, Loss3: 1.2897\n"
     ]
    },
    {
     "name": "stderr",
     "output_type": "stream",
     "text": [
      "Test_Loader: 100%|██████████| 288/288 [00:26<00:00, 10.91it/s]\n"
     ]
    },
    {
     "name": "stdout",
     "output_type": "stream",
     "text": [
      "Loss1: 0.6427, Loss2: 0.3012, Loss3: 1.3303\n"
     ]
    },
    {
     "name": "stderr",
     "output_type": "stream",
     "text": [
      "Test_Loader: 100%|██████████| 288/288 [00:26<00:00, 10.87it/s]\n"
     ]
    },
    {
     "name": "stdout",
     "output_type": "stream",
     "text": [
      "Loss1: 0.6492, Loss2: 0.3177, Loss3: 1.3688\n"
     ]
    },
    {
     "name": "stderr",
     "output_type": "stream",
     "text": [
      "Test_Loader: 100%|██████████| 288/288 [00:26<00:00, 10.84it/s]\n"
     ]
    },
    {
     "name": "stdout",
     "output_type": "stream",
     "text": [
      "Loss1: 0.6230, Loss2: 0.2983, Loss3: 1.3348\n"
     ]
    },
    {
     "name": "stderr",
     "output_type": "stream",
     "text": [
      "Test_Loader: 100%|██████████| 288/288 [00:26<00:00, 11.06it/s]\n"
     ]
    },
    {
     "name": "stdout",
     "output_type": "stream",
     "text": [
      "Loss1: 0.6286, Loss2: 0.2991, Loss3: 1.3114\n"
     ]
    },
    {
     "name": "stderr",
     "output_type": "stream",
     "text": [
      "Test_Loader: 100%|██████████| 288/288 [00:26<00:00, 11.08it/s]\n"
     ]
    },
    {
     "name": "stdout",
     "output_type": "stream",
     "text": [
      "Loss1: 0.6225, Loss2: 0.3009, Loss3: 1.3199\n"
     ]
    },
    {
     "name": "stderr",
     "output_type": "stream",
     "text": [
      "Test_Loader: 100%|██████████| 288/288 [00:25<00:00, 11.34it/s]\n"
     ]
    },
    {
     "name": "stdout",
     "output_type": "stream",
     "text": [
      "Loss1: 0.6031, Loss2: 0.3051, Loss3: 1.2956\n"
     ]
    },
    {
     "name": "stderr",
     "output_type": "stream",
     "text": [
      "Test_Loader: 100%|██████████| 288/288 [00:25<00:00, 11.33it/s]\n"
     ]
    },
    {
     "name": "stdout",
     "output_type": "stream",
     "text": [
      "Loss1: 0.5983, Loss2: 0.2915, Loss3: 1.2703\n"
     ]
    },
    {
     "name": "stderr",
     "output_type": "stream",
     "text": [
      "Test_Loader: 100%|██████████| 288/288 [00:25<00:00, 11.34it/s]\n"
     ]
    },
    {
     "name": "stdout",
     "output_type": "stream",
     "text": [
      "Loss1: 0.6076, Loss2: 0.2988, Loss3: 1.2581\n"
     ]
    },
    {
     "name": "stderr",
     "output_type": "stream",
     "text": [
      "Test_Loader: 100%|██████████| 288/288 [00:27<00:00, 10.44it/s]\n"
     ]
    },
    {
     "name": "stdout",
     "output_type": "stream",
     "text": [
      "Loss1: 0.6001, Loss2: 0.2881, Loss3: 1.2487\n"
     ]
    },
    {
     "name": "stderr",
     "output_type": "stream",
     "text": [
      "Test_Loader: 100%|██████████| 288/288 [00:27<00:00, 10.42it/s]\n"
     ]
    },
    {
     "name": "stdout",
     "output_type": "stream",
     "text": [
      "Loss1: 0.5836, Loss2: 0.2963, Loss3: 1.2404\n"
     ]
    },
    {
     "name": "stderr",
     "output_type": "stream",
     "text": [
      "Test_Loader: 100%|██████████| 288/288 [00:26<00:00, 10.91it/s]\n"
     ]
    },
    {
     "name": "stdout",
     "output_type": "stream",
     "text": [
      "Loss1: 0.5874, Loss2: 0.2835, Loss3: 1.2371\n"
     ]
    },
    {
     "name": "stderr",
     "output_type": "stream",
     "text": [
      "Test_Loader: 100%|██████████| 288/288 [00:26<00:00, 10.82it/s]\n"
     ]
    },
    {
     "name": "stdout",
     "output_type": "stream",
     "text": [
      "Loss1: 0.5796, Loss2: 0.2826, Loss3: 1.2119\n"
     ]
    },
    {
     "name": "stderr",
     "output_type": "stream",
     "text": [
      "Test_Loader: 100%|██████████| 288/288 [00:26<00:00, 10.86it/s]\n"
     ]
    },
    {
     "name": "stdout",
     "output_type": "stream",
     "text": [
      "Loss1: 0.5975, Loss2: 0.2958, Loss3: 1.2920\n"
     ]
    },
    {
     "name": "stderr",
     "output_type": "stream",
     "text": [
      "Test_Loader: 100%|██████████| 288/288 [00:26<00:00, 10.82it/s]\n"
     ]
    },
    {
     "name": "stdout",
     "output_type": "stream",
     "text": [
      "Loss1: 0.5920, Loss2: 0.3013, Loss3: 1.3023\n"
     ]
    },
    {
     "name": "stderr",
     "output_type": "stream",
     "text": [
      "Test_Loader: 100%|██████████| 288/288 [00:26<00:00, 10.96it/s]\n"
     ]
    },
    {
     "name": "stdout",
     "output_type": "stream",
     "text": [
      "Loss1: 0.5830, Loss2: 0.2916, Loss3: 1.2745\n"
     ]
    },
    {
     "name": "stderr",
     "output_type": "stream",
     "text": [
      "Test_Loader: 100%|██████████| 288/288 [00:26<00:00, 11.03it/s]\n"
     ]
    },
    {
     "name": "stdout",
     "output_type": "stream",
     "text": [
      "Loss1: 0.5860, Loss2: 0.2913, Loss3: 1.2633\n"
     ]
    },
    {
     "name": "stderr",
     "output_type": "stream",
     "text": [
      "Test_Loader: 100%|██████████| 288/288 [00:26<00:00, 11.04it/s]\n"
     ]
    },
    {
     "name": "stdout",
     "output_type": "stream",
     "text": [
      "Loss1: 0.5712, Loss2: 0.2878, Loss3: 1.2271\n"
     ]
    },
    {
     "name": "stderr",
     "output_type": "stream",
     "text": [
      "Test_Loader: 100%|██████████| 288/288 [00:26<00:00, 11.07it/s]\n"
     ]
    },
    {
     "name": "stdout",
     "output_type": "stream",
     "text": [
      "Loss1: 0.5697, Loss2: 0.2795, Loss3: 1.2189\n"
     ]
    },
    {
     "name": "stderr",
     "output_type": "stream",
     "text": [
      "Test_Loader: 100%|██████████| 288/288 [00:25<00:00, 11.18it/s]\n"
     ]
    },
    {
     "name": "stdout",
     "output_type": "stream",
     "text": [
      "Loss1: 0.5664, Loss2: 0.2780, Loss3: 1.1908\n"
     ]
    },
    {
     "name": "stderr",
     "output_type": "stream",
     "text": [
      "Test_Loader: 100%|██████████| 288/288 [00:26<00:00, 10.93it/s]\n"
     ]
    },
    {
     "name": "stdout",
     "output_type": "stream",
     "text": [
      "Loss1: 0.5712, Loss2: 0.2794, Loss3: 1.2044\n"
     ]
    },
    {
     "name": "stderr",
     "output_type": "stream",
     "text": [
      "Test_Loader: 100%|██████████| 288/288 [00:26<00:00, 10.83it/s]\n"
     ]
    },
    {
     "name": "stdout",
     "output_type": "stream",
     "text": [
      "Loss1: 0.5813, Loss2: 0.2785, Loss3: 1.1937\n"
     ]
    },
    {
     "name": "stderr",
     "output_type": "stream",
     "text": [
      "Test_Loader: 100%|██████████| 288/288 [00:27<00:00, 10.41it/s]\n"
     ]
    },
    {
     "name": "stdout",
     "output_type": "stream",
     "text": [
      "Loss1: 0.5752, Loss2: 0.2748, Loss3: 1.1796\n"
     ]
    },
    {
     "name": "stderr",
     "output_type": "stream",
     "text": [
      "Test_Loader: 100%|██████████| 288/288 [00:28<00:00, 10.23it/s]\n"
     ]
    },
    {
     "name": "stdout",
     "output_type": "stream",
     "text": [
      "Loss1: 0.5601, Loss2: 0.2760, Loss3: 1.1571\n"
     ]
    },
    {
     "name": "stderr",
     "output_type": "stream",
     "text": [
      "Test_Loader: 100%|██████████| 288/288 [00:25<00:00, 11.20it/s]\n"
     ]
    },
    {
     "name": "stdout",
     "output_type": "stream",
     "text": [
      "Loss1: 0.5616, Loss2: 0.2693, Loss3: 1.1684\n"
     ]
    },
    {
     "name": "stderr",
     "output_type": "stream",
     "text": [
      "Test_Loader: 100%|██████████| 288/288 [00:25<00:00, 11.36it/s]\n"
     ]
    },
    {
     "name": "stdout",
     "output_type": "stream",
     "text": [
      "Loss1: 0.5605, Loss2: 0.2673, Loss3: 1.1593\n"
     ]
    },
    {
     "name": "stderr",
     "output_type": "stream",
     "text": [
      "Test_Loader: 100%|██████████| 288/288 [00:25<00:00, 11.40it/s]\n"
     ]
    },
    {
     "name": "stdout",
     "output_type": "stream",
     "text": [
      "Loss1: 0.5576, Loss2: 0.2720, Loss3: 1.1593\n"
     ]
    },
    {
     "name": "stderr",
     "output_type": "stream",
     "text": [
      "Test_Loader: 100%|██████████| 288/288 [00:26<00:00, 10.96it/s]\n"
     ]
    },
    {
     "name": "stdout",
     "output_type": "stream",
     "text": [
      "Loss1: 0.5321, Loss2: 0.2645, Loss3: 1.1525\n"
     ]
    },
    {
     "name": "stderr",
     "output_type": "stream",
     "text": [
      "Test_Loader: 100%|██████████| 288/288 [00:26<00:00, 10.85it/s]\n"
     ]
    },
    {
     "name": "stdout",
     "output_type": "stream",
     "text": [
      "Loss1: 0.5280, Loss2: 0.2498, Loss3: 1.1126\n"
     ]
    },
    {
     "name": "stderr",
     "output_type": "stream",
     "text": [
      "Test_Loader: 100%|██████████| 288/288 [00:26<00:00, 10.70it/s]\n"
     ]
    },
    {
     "name": "stdout",
     "output_type": "stream",
     "text": [
      "Loss1: 0.4675, Loss2: 0.2376, Loss3: 0.9757\n"
     ]
    },
    {
     "name": "stderr",
     "output_type": "stream",
     "text": [
      "Test_Loader: 100%|██████████| 288/288 [00:27<00:00, 10.53it/s]\n"
     ]
    },
    {
     "name": "stdout",
     "output_type": "stream",
     "text": [
      "Loss1: 0.4688, Loss2: 0.2389, Loss3: 0.9932\n"
     ]
    },
    {
     "name": "stderr",
     "output_type": "stream",
     "text": [
      "Test_Loader: 100%|██████████| 288/288 [00:26<00:00, 10.76it/s]\n"
     ]
    },
    {
     "name": "stdout",
     "output_type": "stream",
     "text": [
      "Loss1: 0.4712, Loss2: 0.2350, Loss3: 0.9990\n"
     ]
    },
    {
     "name": "stderr",
     "output_type": "stream",
     "text": [
      "Test_Loader: 100%|██████████| 288/288 [00:26<00:00, 11.04it/s]\n"
     ]
    },
    {
     "name": "stdout",
     "output_type": "stream",
     "text": [
      "Loss1: 0.4846, Loss2: 0.2334, Loss3: 0.9673\n"
     ]
    },
    {
     "name": "stderr",
     "output_type": "stream",
     "text": [
      "Test_Loader: 100%|██████████| 288/288 [00:25<00:00, 11.15it/s]\n"
     ]
    },
    {
     "name": "stdout",
     "output_type": "stream",
     "text": [
      "Loss1: 0.4722, Loss2: 0.2361, Loss3: 0.9642\n"
     ]
    },
    {
     "name": "stderr",
     "output_type": "stream",
     "text": [
      "Test_Loader: 100%|██████████| 288/288 [00:25<00:00, 11.19it/s]\n"
     ]
    },
    {
     "name": "stdout",
     "output_type": "stream",
     "text": [
      "Loss1: 0.4712, Loss2: 0.2338, Loss3: 0.9744\n"
     ]
    },
    {
     "name": "stderr",
     "output_type": "stream",
     "text": [
      "Test_Loader: 100%|██████████| 288/288 [00:26<00:00, 10.75it/s]\n"
     ]
    },
    {
     "name": "stdout",
     "output_type": "stream",
     "text": [
      "Loss1: 0.4654, Loss2: 0.2266, Loss3: 0.9533\n"
     ]
    },
    {
     "name": "stderr",
     "output_type": "stream",
     "text": [
      "Test_Loader: 100%|██████████| 288/288 [00:27<00:00, 10.36it/s]\n"
     ]
    },
    {
     "name": "stdout",
     "output_type": "stream",
     "text": [
      "Loss1: 0.4636, Loss2: 0.2288, Loss3: 0.9601\n"
     ]
    },
    {
     "name": "stderr",
     "output_type": "stream",
     "text": [
      "Test_Loader: 100%|██████████| 288/288 [00:28<00:00, 10.21it/s]\n"
     ]
    },
    {
     "name": "stdout",
     "output_type": "stream",
     "text": [
      "Loss1: 0.4647, Loss2: 0.2200, Loss3: 0.9403\n"
     ]
    },
    {
     "name": "stderr",
     "output_type": "stream",
     "text": [
      "Test_Loader: 100%|██████████| 288/288 [00:26<00:00, 11.01it/s]\n"
     ]
    },
    {
     "name": "stdout",
     "output_type": "stream",
     "text": [
      "Loss1: 0.4543, Loss2: 0.2162, Loss3: 0.9345\n"
     ]
    },
    {
     "name": "stderr",
     "output_type": "stream",
     "text": [
      "Test_Loader: 100%|██████████| 288/288 [00:26<00:00, 10.92it/s]\n"
     ]
    },
    {
     "name": "stdout",
     "output_type": "stream",
     "text": [
      "Loss1: 0.4503, Loss2: 0.2280, Loss3: 0.9313\n"
     ]
    },
    {
     "name": "stderr",
     "output_type": "stream",
     "text": [
      "Test_Loader: 100%|██████████| 288/288 [00:26<00:00, 10.89it/s]\n"
     ]
    },
    {
     "name": "stdout",
     "output_type": "stream",
     "text": [
      "Loss1: 0.4522, Loss2: 0.2152, Loss3: 0.9320\n"
     ]
    },
    {
     "name": "stderr",
     "output_type": "stream",
     "text": [
      "Test_Loader: 100%|██████████| 288/288 [00:26<00:00, 11.03it/s]\n"
     ]
    },
    {
     "name": "stdout",
     "output_type": "stream",
     "text": [
      "Loss1: 0.4587, Loss2: 0.2221, Loss3: 0.9459\n"
     ]
    },
    {
     "name": "stderr",
     "output_type": "stream",
     "text": [
      "Test_Loader: 100%|██████████| 288/288 [00:26<00:00, 10.98it/s]\n"
     ]
    },
    {
     "name": "stdout",
     "output_type": "stream",
     "text": [
      "Loss1: 0.4526, Loss2: 0.2180, Loss3: 0.9391\n"
     ]
    },
    {
     "name": "stderr",
     "output_type": "stream",
     "text": [
      "Test_Loader: 100%|██████████| 288/288 [00:26<00:00, 11.03it/s]\n"
     ]
    },
    {
     "name": "stdout",
     "output_type": "stream",
     "text": [
      "Loss1: 0.4431, Loss2: 0.2234, Loss3: 0.9403\n"
     ]
    },
    {
     "name": "stderr",
     "output_type": "stream",
     "text": [
      "Test_Loader: 100%|██████████| 288/288 [00:26<00:00, 10.97it/s]\n"
     ]
    },
    {
     "name": "stdout",
     "output_type": "stream",
     "text": [
      "Loss1: 0.4523, Loss2: 0.2255, Loss3: 0.9323\n"
     ]
    },
    {
     "name": "stderr",
     "output_type": "stream",
     "text": [
      "Test_Loader: 100%|██████████| 288/288 [00:26<00:00, 10.95it/s]\n"
     ]
    },
    {
     "name": "stdout",
     "output_type": "stream",
     "text": [
      "Loss1: 0.4379, Loss2: 0.2263, Loss3: 0.9381\n"
     ]
    },
    {
     "name": "stderr",
     "output_type": "stream",
     "text": [
      "Test_Loader: 100%|██████████| 288/288 [00:25<00:00, 11.10it/s]\n"
     ]
    },
    {
     "name": "stdout",
     "output_type": "stream",
     "text": [
      "Loss1: 0.4461, Loss2: 0.2343, Loss3: 0.9363\n"
     ]
    },
    {
     "name": "stderr",
     "output_type": "stream",
     "text": [
      "Test_Loader: 100%|██████████| 288/288 [00:26<00:00, 11.07it/s]\n"
     ]
    },
    {
     "name": "stdout",
     "output_type": "stream",
     "text": [
      "Loss1: 0.4356, Loss2: 0.2302, Loss3: 0.9263\n"
     ]
    },
    {
     "name": "stderr",
     "output_type": "stream",
     "text": [
      "Test_Loader: 100%|██████████| 288/288 [00:25<00:00, 11.09it/s]\n"
     ]
    },
    {
     "name": "stdout",
     "output_type": "stream",
     "text": [
      "Loss1: 0.4370, Loss2: 0.2345, Loss3: 0.9388\n"
     ]
    },
    {
     "name": "stderr",
     "output_type": "stream",
     "text": [
      "Test_Loader: 100%|██████████| 288/288 [00:27<00:00, 10.46it/s]\n"
     ]
    },
    {
     "name": "stdout",
     "output_type": "stream",
     "text": [
      "Loss1: 0.4341, Loss2: 0.2293, Loss3: 0.9295\n"
     ]
    },
    {
     "name": "stderr",
     "output_type": "stream",
     "text": [
      "Test_Loader: 100%|██████████| 288/288 [00:30<00:00,  9.55it/s]\n"
     ]
    },
    {
     "name": "stdout",
     "output_type": "stream",
     "text": [
      "Loss1: 0.4053, Loss2: 0.2122, Loss3: 0.8610\n"
     ]
    },
    {
     "name": "stderr",
     "output_type": "stream",
     "text": [
      "Test_Loader: 100%|██████████| 288/288 [00:26<00:00, 10.81it/s]\n"
     ]
    },
    {
     "name": "stdout",
     "output_type": "stream",
     "text": [
      "Loss1: 0.3964, Loss2: 0.2035, Loss3: 0.8267\n"
     ]
    },
    {
     "name": "stderr",
     "output_type": "stream",
     "text": [
      "Test_Loader: 100%|██████████| 288/288 [00:26<00:00, 11.00it/s]\n"
     ]
    },
    {
     "name": "stdout",
     "output_type": "stream",
     "text": [
      "Loss1: 0.3988, Loss2: 0.2074, Loss3: 0.8399\n"
     ]
    },
    {
     "name": "stderr",
     "output_type": "stream",
     "text": [
      "Test_Loader: 100%|██████████| 288/288 [00:26<00:00, 10.98it/s]\n"
     ]
    },
    {
     "name": "stdout",
     "output_type": "stream",
     "text": [
      "Loss1: 0.4178, Loss2: 0.2176, Loss3: 0.8539\n"
     ]
    },
    {
     "name": "stderr",
     "output_type": "stream",
     "text": [
      "Test_Loader: 100%|██████████| 288/288 [00:26<00:00, 10.82it/s]\n"
     ]
    },
    {
     "name": "stdout",
     "output_type": "stream",
     "text": [
      "Loss1: 0.4131, Loss2: 0.2147, Loss3: 0.8640\n"
     ]
    },
    {
     "name": "stderr",
     "output_type": "stream",
     "text": [
      "Test_Loader: 100%|██████████| 288/288 [00:27<00:00, 10.62it/s]\n"
     ]
    },
    {
     "name": "stdout",
     "output_type": "stream",
     "text": [
      "Loss1: 0.3928, Loss2: 0.2176, Loss3: 0.8559\n"
     ]
    },
    {
     "name": "stderr",
     "output_type": "stream",
     "text": [
      "Test_Loader: 100%|██████████| 288/288 [00:27<00:00, 10.66it/s]\n"
     ]
    },
    {
     "name": "stdout",
     "output_type": "stream",
     "text": [
      "Loss1: 0.4089, Loss2: 0.2132, Loss3: 0.8708\n"
     ]
    },
    {
     "name": "stderr",
     "output_type": "stream",
     "text": [
      "Test_Loader: 100%|██████████| 288/288 [00:26<00:00, 10.98it/s]\n"
     ]
    },
    {
     "name": "stdout",
     "output_type": "stream",
     "text": [
      "Loss1: 0.3959, Loss2: 0.2110, Loss3: 0.8684\n"
     ]
    },
    {
     "name": "stderr",
     "output_type": "stream",
     "text": [
      "Test_Loader: 100%|██████████| 288/288 [00:25<00:00, 11.09it/s]\n"
     ]
    },
    {
     "name": "stdout",
     "output_type": "stream",
     "text": [
      "Loss1: 0.5223, Loss2: 0.2428, Loss3: 1.0979\n"
     ]
    },
    {
     "name": "stderr",
     "output_type": "stream",
     "text": [
      "Test_Loader: 100%|██████████| 288/288 [00:26<00:00, 10.93it/s]\n"
     ]
    },
    {
     "name": "stdout",
     "output_type": "stream",
     "text": [
      "Loss1: 0.5451, Loss2: 0.2519, Loss3: 1.1285\n"
     ]
    },
    {
     "name": "stderr",
     "output_type": "stream",
     "text": [
      "Test_Loader: 100%|██████████| 288/288 [00:25<00:00, 11.30it/s]\n"
     ]
    },
    {
     "name": "stdout",
     "output_type": "stream",
     "text": [
      "Loss1: 0.5586, Loss2: 0.3115, Loss3: 1.2220\n"
     ]
    },
    {
     "name": "stderr",
     "output_type": "stream",
     "text": [
      "Test_Loader: 100%|██████████| 288/288 [00:25<00:00, 11.29it/s]\n"
     ]
    },
    {
     "name": "stdout",
     "output_type": "stream",
     "text": [
      "Loss1: 0.5553, Loss2: 0.3120, Loss3: 1.1878\n"
     ]
    },
    {
     "name": "stderr",
     "output_type": "stream",
     "text": [
      "Test_Loader: 100%|██████████| 288/288 [00:26<00:00, 11.06it/s]\n"
     ]
    },
    {
     "name": "stdout",
     "output_type": "stream",
     "text": [
      "Loss1: 0.5660, Loss2: 0.2970, Loss3: 1.1745\n"
     ]
    },
    {
     "name": "stderr",
     "output_type": "stream",
     "text": [
      "Test_Loader: 100%|██████████| 288/288 [00:25<00:00, 11.16it/s]\n"
     ]
    },
    {
     "name": "stdout",
     "output_type": "stream",
     "text": [
      "Loss1: 0.5665, Loss2: 0.2986, Loss3: 1.1643\n"
     ]
    },
    {
     "name": "stderr",
     "output_type": "stream",
     "text": [
      "Test_Loader: 100%|██████████| 288/288 [00:26<00:00, 10.93it/s]\n"
     ]
    },
    {
     "name": "stdout",
     "output_type": "stream",
     "text": [
      "Loss1: 0.6853, Loss2: 0.4126, Loss3: 1.3037\n"
     ]
    },
    {
     "name": "stderr",
     "output_type": "stream",
     "text": [
      "Test_Loader: 100%|██████████| 288/288 [00:25<00:00, 11.16it/s]\n"
     ]
    },
    {
     "name": "stdout",
     "output_type": "stream",
     "text": [
      "Loss1: 0.6741, Loss2: 0.3963, Loss3: 1.2938\n"
     ]
    },
    {
     "name": "stderr",
     "output_type": "stream",
     "text": [
      "Test_Loader: 100%|██████████| 288/288 [00:25<00:00, 11.25it/s]\n"
     ]
    },
    {
     "name": "stdout",
     "output_type": "stream",
     "text": [
      "Loss1: 0.6501, Loss2: 0.3795, Loss3: 1.2937\n"
     ]
    },
    {
     "name": "stderr",
     "output_type": "stream",
     "text": [
      "Test_Loader: 100%|██████████| 288/288 [00:25<00:00, 11.19it/s]\n"
     ]
    },
    {
     "name": "stdout",
     "output_type": "stream",
     "text": [
      "Loss1: 0.6545, Loss2: 0.3953, Loss3: 1.2828\n"
     ]
    },
    {
     "name": "stderr",
     "output_type": "stream",
     "text": [
      "Test_Loader: 100%|██████████| 288/288 [00:26<00:00, 10.93it/s]\n"
     ]
    },
    {
     "name": "stdout",
     "output_type": "stream",
     "text": [
      "Loss1: 0.6555, Loss2: 0.3869, Loss3: 1.2841\n"
     ]
    },
    {
     "name": "stderr",
     "output_type": "stream",
     "text": [
      "Test_Loader: 100%|██████████| 288/288 [00:26<00:00, 11.03it/s]\n"
     ]
    },
    {
     "name": "stdout",
     "output_type": "stream",
     "text": [
      "Loss1: 0.6782, Loss2: 0.3845, Loss3: 1.4188\n"
     ]
    },
    {
     "name": "stderr",
     "output_type": "stream",
     "text": [
      "Test_Loader: 100%|██████████| 288/288 [00:26<00:00, 10.95it/s]\n"
     ]
    },
    {
     "name": "stdout",
     "output_type": "stream",
     "text": [
      "Loss1: 0.6519, Loss2: 0.3851, Loss3: 1.4612\n"
     ]
    },
    {
     "name": "stderr",
     "output_type": "stream",
     "text": [
      "Test_Loader: 100%|██████████| 288/288 [00:26<00:00, 10.98it/s]\n"
     ]
    },
    {
     "name": "stdout",
     "output_type": "stream",
     "text": [
      "Loss1: 0.6658, Loss2: 0.3890, Loss3: 1.4313\n"
     ]
    },
    {
     "name": "stderr",
     "output_type": "stream",
     "text": [
      "Test_Loader: 100%|██████████| 288/288 [00:26<00:00, 10.86it/s]\n"
     ]
    },
    {
     "name": "stdout",
     "output_type": "stream",
     "text": [
      "Loss1: 0.6446, Loss2: 0.3839, Loss3: 1.4526\n"
     ]
    },
    {
     "name": "stderr",
     "output_type": "stream",
     "text": [
      "Test_Loader: 100%|██████████| 288/288 [00:26<00:00, 11.06it/s]\n"
     ]
    },
    {
     "name": "stdout",
     "output_type": "stream",
     "text": [
      "Loss1: 0.6483, Loss2: 0.3849, Loss3: 1.4064\n"
     ]
    },
    {
     "name": "stderr",
     "output_type": "stream",
     "text": [
      "Test_Loader: 100%|██████████| 288/288 [00:26<00:00, 10.87it/s]\n"
     ]
    },
    {
     "name": "stdout",
     "output_type": "stream",
     "text": [
      "Loss1: 0.6643, Loss2: 0.3699, Loss3: 1.4438\n"
     ]
    },
    {
     "name": "stderr",
     "output_type": "stream",
     "text": [
      "Test_Loader: 100%|██████████| 288/288 [00:26<00:00, 10.71it/s]\n"
     ]
    },
    {
     "name": "stdout",
     "output_type": "stream",
     "text": [
      "Loss1: 0.6262, Loss2: 0.3600, Loss3: 1.4279\n"
     ]
    },
    {
     "name": "stderr",
     "output_type": "stream",
     "text": [
      "Test_Loader: 100%|██████████| 288/288 [00:28<00:00, 10.01it/s]\n"
     ]
    },
    {
     "name": "stdout",
     "output_type": "stream",
     "text": [
      "Loss1: 0.6463, Loss2: 0.3657, Loss3: 1.4216\n"
     ]
    },
    {
     "name": "stderr",
     "output_type": "stream",
     "text": [
      "Test_Loader: 100%|██████████| 288/288 [00:29<00:00,  9.71it/s]\n"
     ]
    },
    {
     "name": "stdout",
     "output_type": "stream",
     "text": [
      "Loss1: 0.6381, Loss2: 0.3644, Loss3: 1.3937\n"
     ]
    },
    {
     "name": "stderr",
     "output_type": "stream",
     "text": [
      "Test_Loader: 100%|██████████| 288/288 [00:26<00:00, 10.77it/s]\n"
     ]
    },
    {
     "name": "stdout",
     "output_type": "stream",
     "text": [
      "Loss1: 0.6138, Loss2: 0.3414, Loss3: 1.3549\n"
     ]
    },
    {
     "name": "stderr",
     "output_type": "stream",
     "text": [
      "Test_Loader: 100%|██████████| 288/288 [00:26<00:00, 10.82it/s]\n"
     ]
    },
    {
     "name": "stdout",
     "output_type": "stream",
     "text": [
      "Loss1: 0.6358, Loss2: 0.3547, Loss3: 1.3358\n"
     ]
    },
    {
     "name": "stderr",
     "output_type": "stream",
     "text": [
      "Test_Loader: 100%|██████████| 288/288 [00:26<00:00, 10.86it/s]\n"
     ]
    },
    {
     "name": "stdout",
     "output_type": "stream",
     "text": [
      "Loss1: 0.5789, Loss2: 0.3060, Loss3: 1.2467\n"
     ]
    },
    {
     "name": "stderr",
     "output_type": "stream",
     "text": [
      "Test_Loader: 100%|██████████| 288/288 [00:26<00:00, 10.83it/s]\n"
     ]
    },
    {
     "name": "stdout",
     "output_type": "stream",
     "text": [
      "Loss1: 0.5871, Loss2: 0.3137, Loss3: 1.2212\n"
     ]
    },
    {
     "name": "stderr",
     "output_type": "stream",
     "text": [
      "Test_Loader: 100%|██████████| 288/288 [00:27<00:00, 10.64it/s]\n"
     ]
    },
    {
     "name": "stdout",
     "output_type": "stream",
     "text": [
      "Loss1: 0.5640, Loss2: 0.2948, Loss3: 1.1971\n"
     ]
    },
    {
     "name": "stderr",
     "output_type": "stream",
     "text": [
      "Test_Loader: 100%|██████████| 288/288 [00:26<00:00, 10.68it/s]\n"
     ]
    },
    {
     "name": "stdout",
     "output_type": "stream",
     "text": [
      "Loss1: 0.5785, Loss2: 0.3158, Loss3: 1.1874\n"
     ]
    },
    {
     "name": "stderr",
     "output_type": "stream",
     "text": [
      "Test_Loader: 100%|██████████| 288/288 [00:27<00:00, 10.62it/s]\n"
     ]
    },
    {
     "name": "stdout",
     "output_type": "stream",
     "text": [
      "Loss1: 0.5653, Loss2: 0.3009, Loss3: 1.1875\n"
     ]
    },
    {
     "name": "stderr",
     "output_type": "stream",
     "text": [
      "Test_Loader: 100%|██████████| 288/288 [00:27<00:00, 10.55it/s]\n"
     ]
    },
    {
     "name": "stdout",
     "output_type": "stream",
     "text": [
      "Loss1: 0.5594, Loss2: 0.3043, Loss3: 1.1621\n"
     ]
    },
    {
     "name": "stderr",
     "output_type": "stream",
     "text": [
      "Test_Loader: 100%|██████████| 288/288 [00:26<00:00, 10.86it/s]\n"
     ]
    },
    {
     "name": "stdout",
     "output_type": "stream",
     "text": [
      "Loss1: 0.5626, Loss2: 0.2915, Loss3: 1.2353\n"
     ]
    },
    {
     "name": "stderr",
     "output_type": "stream",
     "text": [
      "Test_Loader: 100%|██████████| 288/288 [00:26<00:00, 10.87it/s]\n"
     ]
    },
    {
     "name": "stdout",
     "output_type": "stream",
     "text": [
      "Loss1: 0.5793, Loss2: 0.3075, Loss3: 1.3187\n"
     ]
    },
    {
     "name": "stderr",
     "output_type": "stream",
     "text": [
      "Test_Loader: 100%|██████████| 288/288 [00:26<00:00, 10.87it/s]\n"
     ]
    },
    {
     "name": "stdout",
     "output_type": "stream",
     "text": [
      "Loss1: 0.5751, Loss2: 0.3054, Loss3: 1.2690\n"
     ]
    },
    {
     "name": "stderr",
     "output_type": "stream",
     "text": [
      "Test_Loader: 100%|██████████| 288/288 [00:26<00:00, 10.75it/s]\n"
     ]
    },
    {
     "name": "stdout",
     "output_type": "stream",
     "text": [
      "Loss1: 0.5850, Loss2: 0.3076, Loss3: 1.3158\n"
     ]
    },
    {
     "name": "stderr",
     "output_type": "stream",
     "text": [
      "Test_Loader: 100%|██████████| 288/288 [00:28<00:00,  9.95it/s]\n"
     ]
    },
    {
     "name": "stdout",
     "output_type": "stream",
     "text": [
      "Loss1: 0.5738, Loss2: 0.2892, Loss3: 1.3318\n"
     ]
    },
    {
     "name": "stderr",
     "output_type": "stream",
     "text": [
      "Test_Loader: 100%|██████████| 288/288 [00:27<00:00, 10.52it/s]\n"
     ]
    },
    {
     "name": "stdout",
     "output_type": "stream",
     "text": [
      "Loss1: 0.5824, Loss2: 0.3077, Loss3: 1.3088\n"
     ]
    },
    {
     "name": "stderr",
     "output_type": "stream",
     "text": [
      "Test_Loader: 100%|██████████| 288/288 [00:25<00:00, 11.37it/s]\n"
     ]
    },
    {
     "name": "stdout",
     "output_type": "stream",
     "text": [
      "Loss1: 0.6952, Loss2: 0.3108, Loss3: 1.4584\n"
     ]
    },
    {
     "name": "stderr",
     "output_type": "stream",
     "text": [
      "Test_Loader: 100%|██████████| 288/288 [00:25<00:00, 11.25it/s]\n"
     ]
    },
    {
     "name": "stdout",
     "output_type": "stream",
     "text": [
      "Loss1: 0.6663, Loss2: 0.2886, Loss3: 1.3922\n"
     ]
    },
    {
     "name": "stderr",
     "output_type": "stream",
     "text": [
      "Test_Loader: 100%|██████████| 288/288 [00:25<00:00, 11.27it/s]\n"
     ]
    },
    {
     "name": "stdout",
     "output_type": "stream",
     "text": [
      "Loss1: 0.6486, Loss2: 0.2881, Loss3: 1.3815\n"
     ]
    },
    {
     "name": "stderr",
     "output_type": "stream",
     "text": [
      "Test_Loader: 100%|██████████| 288/288 [00:26<00:00, 10.85it/s]\n"
     ]
    },
    {
     "name": "stdout",
     "output_type": "stream",
     "text": [
      "Loss1: 0.6376, Loss2: 0.2838, Loss3: 1.3732\n"
     ]
    },
    {
     "name": "stderr",
     "output_type": "stream",
     "text": [
      "Test_Loader: 100%|██████████| 288/288 [00:26<00:00, 10.75it/s]\n"
     ]
    },
    {
     "name": "stdout",
     "output_type": "stream",
     "text": [
      "Loss1: 0.6367, Loss2: 0.2828, Loss3: 1.3495\n"
     ]
    },
    {
     "name": "stderr",
     "output_type": "stream",
     "text": [
      "Test_Loader: 100%|██████████| 288/288 [00:26<00:00, 10.74it/s]\n"
     ]
    },
    {
     "name": "stdout",
     "output_type": "stream",
     "text": [
      "Loss1: 0.6260, Loss2: 0.2824, Loss3: 1.3258\n"
     ]
    },
    {
     "name": "stderr",
     "output_type": "stream",
     "text": [
      "Test_Loader: 100%|██████████| 288/288 [00:26<00:00, 10.89it/s]\n"
     ]
    },
    {
     "name": "stdout",
     "output_type": "stream",
     "text": [
      "Loss1: 0.6294, Loss2: 0.2885, Loss3: 1.3038\n"
     ]
    },
    {
     "name": "stderr",
     "output_type": "stream",
     "text": [
      "Test_Loader: 100%|██████████| 288/288 [00:26<00:00, 10.76it/s]\n"
     ]
    },
    {
     "name": "stdout",
     "output_type": "stream",
     "text": [
      "Loss1: 0.6227, Loss2: 0.2869, Loss3: 1.2904\n"
     ]
    },
    {
     "name": "stderr",
     "output_type": "stream",
     "text": [
      "Test_Loader: 100%|██████████| 288/288 [00:26<00:00, 10.94it/s]\n"
     ]
    },
    {
     "name": "stdout",
     "output_type": "stream",
     "text": [
      "Loss1: 0.6154, Loss2: 0.2746, Loss3: 1.2730\n"
     ]
    },
    {
     "name": "stderr",
     "output_type": "stream",
     "text": [
      "Test_Loader: 100%|██████████| 288/288 [00:26<00:00, 11.07it/s]\n"
     ]
    },
    {
     "name": "stdout",
     "output_type": "stream",
     "text": [
      "Loss1: 0.6227, Loss2: 0.2855, Loss3: 1.2747\n"
     ]
    },
    {
     "name": "stderr",
     "output_type": "stream",
     "text": [
      "Test_Loader: 100%|██████████| 288/288 [00:26<00:00, 10.70it/s]\n"
     ]
    },
    {
     "name": "stdout",
     "output_type": "stream",
     "text": [
      "Loss1: 0.6130, Loss2: 0.2865, Loss3: 1.2563\n"
     ]
    },
    {
     "name": "stderr",
     "output_type": "stream",
     "text": [
      "Test_Loader: 100%|██████████| 288/288 [00:26<00:00, 10.81it/s]\n"
     ]
    },
    {
     "name": "stdout",
     "output_type": "stream",
     "text": [
      "Loss1: 0.6072, Loss2: 0.2827, Loss3: 1.2443\n"
     ]
    },
    {
     "name": "stderr",
     "output_type": "stream",
     "text": [
      "Test_Loader: 100%|██████████| 288/288 [00:28<00:00, 10.03it/s]\n"
     ]
    },
    {
     "name": "stdout",
     "output_type": "stream",
     "text": [
      "Loss1: 0.6089, Loss2: 0.2754, Loss3: 1.2461\n"
     ]
    },
    {
     "name": "stderr",
     "output_type": "stream",
     "text": [
      "Test_Loader: 100%|██████████| 288/288 [00:26<00:00, 11.02it/s]\n"
     ]
    },
    {
     "name": "stdout",
     "output_type": "stream",
     "text": [
      "Loss1: 0.5915, Loss2: 0.2770, Loss3: 1.2342\n"
     ]
    },
    {
     "name": "stderr",
     "output_type": "stream",
     "text": [
      "Test_Loader: 100%|██████████| 288/288 [00:25<00:00, 11.15it/s]\n"
     ]
    },
    {
     "name": "stdout",
     "output_type": "stream",
     "text": [
      "Loss1: 0.5921, Loss2: 0.2761, Loss3: 1.2294\n"
     ]
    },
    {
     "name": "stderr",
     "output_type": "stream",
     "text": [
      "Test_Loader: 100%|██████████| 288/288 [00:26<00:00, 11.07it/s]\n"
     ]
    },
    {
     "name": "stdout",
     "output_type": "stream",
     "text": [
      "Loss1: 0.5714, Loss2: 0.2533, Loss3: 1.2248\n"
     ]
    },
    {
     "name": "stderr",
     "output_type": "stream",
     "text": [
      "Test_Loader: 100%|██████████| 288/288 [00:25<00:00, 11.14it/s]\n"
     ]
    },
    {
     "name": "stdout",
     "output_type": "stream",
     "text": [
      "Loss1: 0.5641, Loss2: 0.2686, Loss3: 1.1897\n"
     ]
    },
    {
     "name": "stderr",
     "output_type": "stream",
     "text": [
      "Test_Loader: 100%|██████████| 288/288 [00:26<00:00, 10.90it/s]\n"
     ]
    },
    {
     "name": "stdout",
     "output_type": "stream",
     "text": [
      "Loss1: 0.5564, Loss2: 0.2518, Loss3: 1.1295\n"
     ]
    },
    {
     "name": "stderr",
     "output_type": "stream",
     "text": [
      "Test_Loader: 100%|██████████| 288/288 [00:26<00:00, 10.80it/s]\n"
     ]
    },
    {
     "name": "stdout",
     "output_type": "stream",
     "text": [
      "Loss1: 0.5354, Loss2: 0.2336, Loss3: 1.1252\n"
     ]
    },
    {
     "name": "stderr",
     "output_type": "stream",
     "text": [
      "Test_Loader: 100%|██████████| 288/288 [00:26<00:00, 10.82it/s]\n"
     ]
    },
    {
     "name": "stdout",
     "output_type": "stream",
     "text": [
      "Loss1: 0.5294, Loss2: 0.2394, Loss3: 1.1119\n"
     ]
    },
    {
     "name": "stderr",
     "output_type": "stream",
     "text": [
      "Test_Loader: 100%|██████████| 288/288 [00:26<00:00, 10.85it/s]\n"
     ]
    },
    {
     "name": "stdout",
     "output_type": "stream",
     "text": [
      "Loss1: 0.5452, Loss2: 0.2469, Loss3: 1.0821\n"
     ]
    },
    {
     "name": "stderr",
     "output_type": "stream",
     "text": [
      "Test_Loader: 100%|██████████| 288/288 [00:26<00:00, 10.67it/s]\n"
     ]
    },
    {
     "name": "stdout",
     "output_type": "stream",
     "text": [
      "Loss1: 0.5237, Loss2: 0.2307, Loss3: 1.0894\n"
     ]
    },
    {
     "name": "stderr",
     "output_type": "stream",
     "text": [
      "Test_Loader: 100%|██████████| 288/288 [00:26<00:00, 10.78it/s]\n"
     ]
    },
    {
     "name": "stdout",
     "output_type": "stream",
     "text": [
      "Loss1: 0.5214, Loss2: 0.2297, Loss3: 1.0733\n"
     ]
    },
    {
     "name": "stderr",
     "output_type": "stream",
     "text": [
      "Test_Loader: 100%|██████████| 288/288 [00:26<00:00, 10.76it/s]\n"
     ]
    },
    {
     "name": "stdout",
     "output_type": "stream",
     "text": [
      "Loss1: 0.5404, Loss2: 0.2407, Loss3: 1.0597\n"
     ]
    },
    {
     "name": "stderr",
     "output_type": "stream",
     "text": [
      "Test_Loader: 100%|██████████| 288/288 [00:26<00:00, 10.82it/s]\n"
     ]
    },
    {
     "name": "stdout",
     "output_type": "stream",
     "text": [
      "Loss1: 0.5241, Loss2: 0.2330, Loss3: 1.0475\n"
     ]
    },
    {
     "name": "stderr",
     "output_type": "stream",
     "text": [
      "Test_Loader: 100%|██████████| 288/288 [00:26<00:00, 10.98it/s]\n"
     ]
    },
    {
     "name": "stdout",
     "output_type": "stream",
     "text": [
      "Loss1: 0.5286, Loss2: 0.2376, Loss3: 1.0324\n"
     ]
    },
    {
     "name": "stderr",
     "output_type": "stream",
     "text": [
      "Test_Loader: 100%|██████████| 288/288 [00:28<00:00, 10.14it/s]\n"
     ]
    },
    {
     "name": "stdout",
     "output_type": "stream",
     "text": [
      "Loss1: 0.5267, Loss2: 0.2381, Loss3: 1.0356\n"
     ]
    },
    {
     "name": "stderr",
     "output_type": "stream",
     "text": [
      "Test_Loader: 100%|██████████| 288/288 [00:25<00:00, 11.18it/s]\n"
     ]
    },
    {
     "name": "stdout",
     "output_type": "stream",
     "text": [
      "Loss1: 0.5177, Loss2: 0.2219, Loss3: 1.0271\n"
     ]
    },
    {
     "name": "stderr",
     "output_type": "stream",
     "text": [
      "Test_Loader: 100%|██████████| 288/288 [00:26<00:00, 10.80it/s]\n"
     ]
    },
    {
     "name": "stdout",
     "output_type": "stream",
     "text": [
      "Loss1: 0.5213, Loss2: 0.2316, Loss3: 1.0347\n"
     ]
    },
    {
     "name": "stderr",
     "output_type": "stream",
     "text": [
      "Test_Loader: 100%|██████████| 288/288 [00:26<00:00, 11.02it/s]\n"
     ]
    },
    {
     "name": "stdout",
     "output_type": "stream",
     "text": [
      "Loss1: 0.5138, Loss2: 0.2222, Loss3: 0.9960\n"
     ]
    },
    {
     "name": "stderr",
     "output_type": "stream",
     "text": [
      "Test_Loader: 100%|██████████| 288/288 [00:26<00:00, 11.01it/s]\n"
     ]
    },
    {
     "name": "stdout",
     "output_type": "stream",
     "text": [
      "Loss1: 0.5124, Loss2: 0.2296, Loss3: 1.0112\n"
     ]
    },
    {
     "name": "stderr",
     "output_type": "stream",
     "text": [
      "Test_Loader: 100%|██████████| 288/288 [00:26<00:00, 10.83it/s]\n"
     ]
    },
    {
     "name": "stdout",
     "output_type": "stream",
     "text": [
      "Loss1: 0.4976, Loss2: 0.2198, Loss3: 0.9935\n"
     ]
    },
    {
     "name": "stderr",
     "output_type": "stream",
     "text": [
      "Test_Loader: 100%|██████████| 288/288 [00:26<00:00, 10.73it/s]\n"
     ]
    },
    {
     "name": "stdout",
     "output_type": "stream",
     "text": [
      "Loss1: 0.5155, Loss2: 0.2268, Loss3: 0.9953\n"
     ]
    },
    {
     "name": "stderr",
     "output_type": "stream",
     "text": [
      "Test_Loader: 100%|██████████| 288/288 [00:27<00:00, 10.61it/s]\n"
     ]
    },
    {
     "name": "stdout",
     "output_type": "stream",
     "text": [
      "Loss1: 0.4901, Loss2: 0.2172, Loss3: 0.9802\n"
     ]
    },
    {
     "name": "stderr",
     "output_type": "stream",
     "text": [
      "Test_Loader: 100%|██████████| 288/288 [00:26<00:00, 10.75it/s]\n"
     ]
    },
    {
     "name": "stdout",
     "output_type": "stream",
     "text": [
      "Loss1: 0.4912, Loss2: 0.2156, Loss3: 0.9783\n"
     ]
    },
    {
     "name": "stderr",
     "output_type": "stream",
     "text": [
      "Test_Loader: 100%|██████████| 288/288 [00:26<00:00, 10.87it/s]\n"
     ]
    },
    {
     "name": "stdout",
     "output_type": "stream",
     "text": [
      "Loss1: 0.4930, Loss2: 0.2273, Loss3: 0.9646\n"
     ]
    },
    {
     "name": "stderr",
     "output_type": "stream",
     "text": [
      "Test_Loader: 100%|██████████| 288/288 [00:26<00:00, 10.94it/s]\n"
     ]
    },
    {
     "name": "stdout",
     "output_type": "stream",
     "text": [
      "Loss1: 0.4815, Loss2: 0.2141, Loss3: 0.9643\n"
     ]
    },
    {
     "name": "stderr",
     "output_type": "stream",
     "text": [
      "Test_Loader: 100%|██████████| 288/288 [00:26<00:00, 11.03it/s]\n"
     ]
    },
    {
     "name": "stdout",
     "output_type": "stream",
     "text": [
      "Loss1: 0.4936, Loss2: 0.2214, Loss3: 0.9509\n"
     ]
    },
    {
     "name": "stderr",
     "output_type": "stream",
     "text": [
      "Test_Loader: 100%|██████████| 288/288 [00:26<00:00, 10.89it/s]\n"
     ]
    },
    {
     "name": "stdout",
     "output_type": "stream",
     "text": [
      "Loss1: 0.4752, Loss2: 0.2131, Loss3: 0.9323\n"
     ]
    },
    {
     "name": "stderr",
     "output_type": "stream",
     "text": [
      "Test_Loader: 100%|██████████| 288/288 [00:26<00:00, 10.97it/s]\n"
     ]
    },
    {
     "name": "stdout",
     "output_type": "stream",
     "text": [
      "Loss1: 0.4901, Loss2: 0.2231, Loss3: 0.9316\n"
     ]
    },
    {
     "name": "stderr",
     "output_type": "stream",
     "text": [
      "Test_Loader: 100%|██████████| 288/288 [00:25<00:00, 11.08it/s]\n"
     ]
    },
    {
     "name": "stdout",
     "output_type": "stream",
     "text": [
      "Loss1: 0.4712, Loss2: 0.2184, Loss3: 0.9080\n"
     ]
    },
    {
     "name": "stderr",
     "output_type": "stream",
     "text": [
      "Test_Loader: 100%|██████████| 288/288 [00:26<00:00, 10.93it/s]\n"
     ]
    },
    {
     "name": "stdout",
     "output_type": "stream",
     "text": [
      "Loss1: 0.4725, Loss2: 0.2181, Loss3: 0.8954\n"
     ]
    },
    {
     "name": "stderr",
     "output_type": "stream",
     "text": [
      "Test_Loader: 100%|██████████| 288/288 [00:26<00:00, 10.96it/s]\n"
     ]
    },
    {
     "name": "stdout",
     "output_type": "stream",
     "text": [
      "Loss1: 0.6071, Loss2: 0.2119, Loss3: 0.9644\n"
     ]
    },
    {
     "name": "stderr",
     "output_type": "stream",
     "text": [
      "Test_Loader: 100%|██████████| 288/288 [00:26<00:00, 10.85it/s]\n"
     ]
    },
    {
     "name": "stdout",
     "output_type": "stream",
     "text": [
      "Loss1: 0.5834, Loss2: 0.2003, Loss3: 0.9469\n"
     ]
    },
    {
     "name": "stderr",
     "output_type": "stream",
     "text": [
      "Test_Loader: 100%|██████████| 288/288 [00:26<00:00, 10.90it/s]\n"
     ]
    },
    {
     "name": "stdout",
     "output_type": "stream",
     "text": [
      "Loss1: 0.5840, Loss2: 0.2116, Loss3: 0.9087\n"
     ]
    },
    {
     "name": "stderr",
     "output_type": "stream",
     "text": [
      "Test_Loader: 100%|██████████| 288/288 [00:26<00:00, 11.07it/s]\n"
     ]
    },
    {
     "name": "stdout",
     "output_type": "stream",
     "text": [
      "Loss1: 0.5622, Loss2: 0.2080, Loss3: 0.9079\n"
     ]
    },
    {
     "name": "stderr",
     "output_type": "stream",
     "text": [
      "Test_Loader: 100%|██████████| 288/288 [00:26<00:00, 11.01it/s]\n"
     ]
    },
    {
     "name": "stdout",
     "output_type": "stream",
     "text": [
      "Loss1: 0.5538, Loss2: 0.2052, Loss3: 0.9037\n"
     ]
    },
    {
     "name": "stderr",
     "output_type": "stream",
     "text": [
      "Test_Loader: 100%|██████████| 288/288 [00:26<00:00, 10.99it/s]\n"
     ]
    },
    {
     "name": "stdout",
     "output_type": "stream",
     "text": [
      "Loss1: 0.5529, Loss2: 0.2031, Loss3: 0.9039\n"
     ]
    },
    {
     "name": "stderr",
     "output_type": "stream",
     "text": [
      "Test_Loader: 100%|██████████| 288/288 [00:26<00:00, 11.05it/s]\n"
     ]
    },
    {
     "name": "stdout",
     "output_type": "stream",
     "text": [
      "Loss1: 0.5340, Loss2: 0.1881, Loss3: 0.9112\n"
     ]
    },
    {
     "name": "stderr",
     "output_type": "stream",
     "text": [
      "Test_Loader: 100%|██████████| 288/288 [00:26<00:00, 10.97it/s]\n"
     ]
    },
    {
     "name": "stdout",
     "output_type": "stream",
     "text": [
      "Loss1: 0.5296, Loss2: 0.1909, Loss3: 0.9069\n"
     ]
    },
    {
     "name": "stderr",
     "output_type": "stream",
     "text": [
      "Test_Loader: 100%|██████████| 288/288 [00:26<00:00, 10.99it/s]\n"
     ]
    },
    {
     "name": "stdout",
     "output_type": "stream",
     "text": [
      "Loss1: 0.5262, Loss2: 0.1990, Loss3: 0.9429\n"
     ]
    },
    {
     "name": "stderr",
     "output_type": "stream",
     "text": [
      "Test_Loader: 100%|██████████| 288/288 [00:26<00:00, 10.92it/s]\n"
     ]
    },
    {
     "name": "stdout",
     "output_type": "stream",
     "text": [
      "Loss1: 0.5244, Loss2: 0.2006, Loss3: 0.9188\n"
     ]
    },
    {
     "name": "stderr",
     "output_type": "stream",
     "text": [
      "Test_Loader: 100%|██████████| 288/288 [00:28<00:00, 10.18it/s]\n"
     ]
    },
    {
     "name": "stdout",
     "output_type": "stream",
     "text": [
      "Loss1: 0.5108, Loss2: 0.1958, Loss3: 0.9247\n"
     ]
    },
    {
     "name": "stderr",
     "output_type": "stream",
     "text": [
      "Test_Loader: 100%|██████████| 288/288 [00:26<00:00, 10.83it/s]\n"
     ]
    },
    {
     "name": "stdout",
     "output_type": "stream",
     "text": [
      "Loss1: 0.5095, Loss2: 0.2023, Loss3: 0.9246\n"
     ]
    },
    {
     "name": "stderr",
     "output_type": "stream",
     "text": [
      "Test_Loader: 100%|██████████| 288/288 [00:25<00:00, 11.11it/s]\n"
     ]
    },
    {
     "name": "stdout",
     "output_type": "stream",
     "text": [
      "Loss1: 0.5967, Loss2: 0.2580, Loss3: 1.5647\n"
     ]
    },
    {
     "name": "stderr",
     "output_type": "stream",
     "text": [
      "Test_Loader: 100%|██████████| 288/288 [00:26<00:00, 11.03it/s]\n"
     ]
    },
    {
     "name": "stdout",
     "output_type": "stream",
     "text": [
      "Loss1: 0.5828, Loss2: 0.2560, Loss3: 1.4745\n"
     ]
    },
    {
     "name": "stderr",
     "output_type": "stream",
     "text": [
      "Test_Loader: 100%|██████████| 288/288 [00:26<00:00, 10.95it/s]\n"
     ]
    },
    {
     "name": "stdout",
     "output_type": "stream",
     "text": [
      "Loss1: 0.5899, Loss2: 0.2499, Loss3: 1.4527\n"
     ]
    },
    {
     "name": "stderr",
     "output_type": "stream",
     "text": [
      "Test_Loader: 100%|██████████| 288/288 [00:26<00:00, 11.07it/s]\n"
     ]
    },
    {
     "name": "stdout",
     "output_type": "stream",
     "text": [
      "Loss1: 0.6031, Loss2: 0.2636, Loss3: 1.4225\n"
     ]
    },
    {
     "name": "stderr",
     "output_type": "stream",
     "text": [
      "Test_Loader: 100%|██████████| 288/288 [00:26<00:00, 10.79it/s]\n"
     ]
    },
    {
     "name": "stdout",
     "output_type": "stream",
     "text": [
      "Loss1: 0.5860, Loss2: 0.2521, Loss3: 1.3450\n"
     ]
    },
    {
     "name": "stderr",
     "output_type": "stream",
     "text": [
      "Test_Loader: 100%|██████████| 288/288 [00:26<00:00, 10.76it/s]\n"
     ]
    },
    {
     "name": "stdout",
     "output_type": "stream",
     "text": [
      "Loss1: 0.5744, Loss2: 0.2486, Loss3: 1.2747\n"
     ]
    },
    {
     "name": "stderr",
     "output_type": "stream",
     "text": [
      "Test_Loader: 100%|██████████| 288/288 [00:26<00:00, 10.81it/s]\n"
     ]
    },
    {
     "name": "stdout",
     "output_type": "stream",
     "text": [
      "Loss1: 0.5814, Loss2: 0.2579, Loss3: 1.3157\n"
     ]
    },
    {
     "name": "stderr",
     "output_type": "stream",
     "text": [
      "Test_Loader: 100%|██████████| 288/288 [00:26<00:00, 10.69it/s]\n"
     ]
    },
    {
     "name": "stdout",
     "output_type": "stream",
     "text": [
      "Loss1: 0.5608, Loss2: 0.2537, Loss3: 1.2756\n"
     ]
    },
    {
     "name": "stderr",
     "output_type": "stream",
     "text": [
      "Test_Loader: 100%|██████████| 288/288 [00:26<00:00, 10.81it/s]\n"
     ]
    },
    {
     "name": "stdout",
     "output_type": "stream",
     "text": [
      "Loss1: 0.5982, Loss2: 0.2453, Loss3: 1.2982\n"
     ]
    },
    {
     "name": "stderr",
     "output_type": "stream",
     "text": [
      "Test_Loader: 100%|██████████| 288/288 [00:27<00:00, 10.65it/s]\n"
     ]
    },
    {
     "name": "stdout",
     "output_type": "stream",
     "text": [
      "Loss1: 0.6074, Loss2: 0.3024, Loss3: 1.5316\n"
     ]
    },
    {
     "name": "stderr",
     "output_type": "stream",
     "text": [
      "Test_Loader: 100%|██████████| 288/288 [00:26<00:00, 10.70it/s]\n"
     ]
    },
    {
     "name": "stdout",
     "output_type": "stream",
     "text": [
      "Loss1: 0.6011, Loss2: 0.2848, Loss3: 1.4007\n"
     ]
    },
    {
     "name": "stderr",
     "output_type": "stream",
     "text": [
      "Test_Loader: 100%|██████████| 288/288 [00:26<00:00, 10.81it/s]\n"
     ]
    },
    {
     "name": "stdout",
     "output_type": "stream",
     "text": [
      "Loss1: 0.5865, Loss2: 0.2687, Loss3: 1.3934\n"
     ]
    },
    {
     "name": "stderr",
     "output_type": "stream",
     "text": [
      "Test_Loader: 100%|██████████| 288/288 [00:28<00:00, 10.23it/s]\n"
     ]
    },
    {
     "name": "stdout",
     "output_type": "stream",
     "text": [
      "Loss1: 0.5699, Loss2: 0.2622, Loss3: 1.3138\n"
     ]
    },
    {
     "name": "stderr",
     "output_type": "stream",
     "text": [
      "Test_Loader: 100%|██████████| 288/288 [00:26<00:00, 10.68it/s]\n"
     ]
    },
    {
     "name": "stdout",
     "output_type": "stream",
     "text": [
      "Loss1: 0.5643, Loss2: 0.2542, Loss3: 1.2744\n"
     ]
    },
    {
     "name": "stderr",
     "output_type": "stream",
     "text": [
      "Test_Loader: 100%|██████████| 288/288 [00:25<00:00, 11.08it/s]\n"
     ]
    },
    {
     "name": "stdout",
     "output_type": "stream",
     "text": [
      "Loss1: 0.5112, Loss2: 0.2187, Loss3: 1.1565\n"
     ]
    },
    {
     "name": "stderr",
     "output_type": "stream",
     "text": [
      "Test_Loader: 100%|██████████| 288/288 [00:25<00:00, 11.10it/s]\n"
     ]
    },
    {
     "name": "stdout",
     "output_type": "stream",
     "text": [
      "Loss1: 0.5039, Loss2: 0.2147, Loss3: 1.1307\n"
     ]
    },
    {
     "name": "stderr",
     "output_type": "stream",
     "text": [
      "Test_Loader: 100%|██████████| 288/288 [00:26<00:00, 10.89it/s]\n"
     ]
    },
    {
     "name": "stdout",
     "output_type": "stream",
     "text": [
      "Loss1: 0.5138, Loss2: 0.2270, Loss3: 1.1210\n"
     ]
    },
    {
     "name": "stderr",
     "output_type": "stream",
     "text": [
      "Test_Loader: 100%|██████████| 288/288 [00:26<00:00, 11.05it/s]\n"
     ]
    },
    {
     "name": "stdout",
     "output_type": "stream",
     "text": [
      "Loss1: 0.5048, Loss2: 0.2227, Loss3: 1.0784\n"
     ]
    },
    {
     "name": "stderr",
     "output_type": "stream",
     "text": [
      "Test_Loader: 100%|██████████| 288/288 [00:26<00:00, 10.86it/s]\n"
     ]
    },
    {
     "name": "stdout",
     "output_type": "stream",
     "text": [
      "Loss1: 0.5636, Loss2: 0.2297, Loss3: 1.1489\n"
     ]
    },
    {
     "name": "stderr",
     "output_type": "stream",
     "text": [
      "Test_Loader: 100%|██████████| 288/288 [00:26<00:00, 10.82it/s]\n"
     ]
    },
    {
     "name": "stdout",
     "output_type": "stream",
     "text": [
      "Loss1: 0.6043, Loss2: 0.2280, Loss3: 1.1549\n"
     ]
    },
    {
     "name": "stderr",
     "output_type": "stream",
     "text": [
      "Test_Loader: 100%|██████████| 288/288 [00:26<00:00, 10.89it/s]\n"
     ]
    },
    {
     "name": "stdout",
     "output_type": "stream",
     "text": [
      "Loss1: 0.6120, Loss2: 0.2362, Loss3: 1.1750\n"
     ]
    },
    {
     "name": "stderr",
     "output_type": "stream",
     "text": [
      "Test_Loader: 100%|██████████| 288/288 [00:26<00:00, 10.95it/s]\n"
     ]
    },
    {
     "name": "stdout",
     "output_type": "stream",
     "text": [
      "Loss1: 0.5811, Loss2: 0.2341, Loss3: 1.1335\n"
     ]
    },
    {
     "name": "stderr",
     "output_type": "stream",
     "text": [
      "Test_Loader: 100%|██████████| 288/288 [00:26<00:00, 10.98it/s]\n"
     ]
    },
    {
     "name": "stdout",
     "output_type": "stream",
     "text": [
      "Loss1: 0.5963, Loss2: 0.2292, Loss3: 1.1158\n"
     ]
    },
    {
     "name": "stderr",
     "output_type": "stream",
     "text": [
      "Test_Loader: 100%|██████████| 288/288 [00:26<00:00, 11.01it/s]\n"
     ]
    },
    {
     "name": "stdout",
     "output_type": "stream",
     "text": [
      "Loss1: 0.5801, Loss2: 0.2212, Loss3: 1.0992\n"
     ]
    },
    {
     "name": "stderr",
     "output_type": "stream",
     "text": [
      "Test_Loader: 100%|██████████| 288/288 [00:26<00:00, 11.01it/s]\n"
     ]
    },
    {
     "name": "stdout",
     "output_type": "stream",
     "text": [
      "Loss1: 0.5804, Loss2: 0.2264, Loss3: 1.0619\n"
     ]
    },
    {
     "name": "stderr",
     "output_type": "stream",
     "text": [
      "Test_Loader: 100%|██████████| 288/288 [00:26<00:00, 10.85it/s]\n"
     ]
    },
    {
     "name": "stdout",
     "output_type": "stream",
     "text": [
      "Loss1: 0.5877, Loss2: 0.2170, Loss3: 1.0384\n"
     ]
    },
    {
     "name": "stderr",
     "output_type": "stream",
     "text": [
      "Test_Loader: 100%|██████████| 288/288 [00:26<00:00, 10.91it/s]\n"
     ]
    },
    {
     "name": "stdout",
     "output_type": "stream",
     "text": [
      "Loss1: 0.5928, Loss2: 0.2267, Loss3: 1.0751\n"
     ]
    },
    {
     "name": "stderr",
     "output_type": "stream",
     "text": [
      "Test_Loader: 100%|██████████| 288/288 [00:26<00:00, 10.69it/s]\n"
     ]
    },
    {
     "name": "stdout",
     "output_type": "stream",
     "text": [
      "Loss1: 0.5902, Loss2: 0.2254, Loss3: 1.0670\n"
     ]
    },
    {
     "name": "stderr",
     "output_type": "stream",
     "text": [
      "Test_Loader: 100%|██████████| 288/288 [00:26<00:00, 10.84it/s]\n"
     ]
    },
    {
     "name": "stdout",
     "output_type": "stream",
     "text": [
      "Loss1: 0.5827, Loss2: 0.2312, Loss3: 1.0589\n"
     ]
    },
    {
     "name": "stderr",
     "output_type": "stream",
     "text": [
      "Test_Loader: 100%|██████████| 288/288 [00:26<00:00, 10.92it/s]\n"
     ]
    },
    {
     "name": "stdout",
     "output_type": "stream",
     "text": [
      "Loss1: 0.5956, Loss2: 0.2310, Loss3: 1.0664\n"
     ]
    },
    {
     "name": "stderr",
     "output_type": "stream",
     "text": [
      "Test_Loader: 100%|██████████| 288/288 [00:26<00:00, 11.00it/s]\n"
     ]
    },
    {
     "name": "stdout",
     "output_type": "stream",
     "text": [
      "Loss1: 0.5951, Loss2: 0.2287, Loss3: 1.1041\n"
     ]
    },
    {
     "name": "stderr",
     "output_type": "stream",
     "text": [
      "Test_Loader: 100%|██████████| 288/288 [00:26<00:00, 10.99it/s]\n"
     ]
    },
    {
     "name": "stdout",
     "output_type": "stream",
     "text": [
      "Loss1: 0.5841, Loss2: 0.2248, Loss3: 1.0819\n"
     ]
    },
    {
     "name": "stderr",
     "output_type": "stream",
     "text": [
      "Test_Loader: 100%|██████████| 288/288 [00:26<00:00, 10.97it/s]\n"
     ]
    },
    {
     "name": "stdout",
     "output_type": "stream",
     "text": [
      "Loss1: 0.5784, Loss2: 0.2236, Loss3: 1.0888\n"
     ]
    },
    {
     "name": "stderr",
     "output_type": "stream",
     "text": [
      "Test_Loader: 100%|██████████| 288/288 [00:25<00:00, 11.08it/s]\n"
     ]
    },
    {
     "name": "stdout",
     "output_type": "stream",
     "text": [
      "Loss1: 0.5817, Loss2: 0.2248, Loss3: 1.1116\n"
     ]
    },
    {
     "name": "stderr",
     "output_type": "stream",
     "text": [
      "Test_Loader: 100%|██████████| 288/288 [00:25<00:00, 11.09it/s]\n"
     ]
    },
    {
     "name": "stdout",
     "output_type": "stream",
     "text": [
      "Loss1: 0.5914, Loss2: 0.2259, Loss3: 1.1086\n"
     ]
    },
    {
     "name": "stderr",
     "output_type": "stream",
     "text": [
      "Test_Loader: 100%|██████████| 288/288 [00:26<00:00, 10.99it/s]\n"
     ]
    },
    {
     "name": "stdout",
     "output_type": "stream",
     "text": [
      "Loss1: 0.5784, Loss2: 0.2229, Loss3: 1.0830\n"
     ]
    },
    {
     "name": "stderr",
     "output_type": "stream",
     "text": [
      "Test_Loader: 100%|██████████| 288/288 [00:26<00:00, 11.01it/s]\n"
     ]
    },
    {
     "name": "stdout",
     "output_type": "stream",
     "text": [
      "Loss1: 0.5762, Loss2: 0.2262, Loss3: 1.0454\n"
     ]
    },
    {
     "name": "stderr",
     "output_type": "stream",
     "text": [
      "Test_Loader: 100%|██████████| 288/288 [00:25<00:00, 11.13it/s]\n"
     ]
    },
    {
     "name": "stdout",
     "output_type": "stream",
     "text": [
      "Loss1: 0.5693, Loss2: 0.2172, Loss3: 1.0270\n"
     ]
    },
    {
     "name": "stderr",
     "output_type": "stream",
     "text": [
      "Test_Loader: 100%|██████████| 288/288 [00:25<00:00, 11.16it/s]\n"
     ]
    },
    {
     "name": "stdout",
     "output_type": "stream",
     "text": [
      "Loss1: 0.5619, Loss2: 0.2108, Loss3: 1.0026\n"
     ]
    },
    {
     "name": "stderr",
     "output_type": "stream",
     "text": [
      "Test_Loader: 100%|██████████| 288/288 [00:29<00:00,  9.88it/s]\n"
     ]
    },
    {
     "name": "stdout",
     "output_type": "stream",
     "text": [
      "Loss1: 0.5516, Loss2: 0.2066, Loss3: 0.9975\n"
     ]
    },
    {
     "name": "stderr",
     "output_type": "stream",
     "text": [
      "Test_Loader: 100%|██████████| 288/288 [00:29<00:00,  9.91it/s]\n"
     ]
    },
    {
     "name": "stdout",
     "output_type": "stream",
     "text": [
      "Loss1: 0.5662, Loss2: 0.2077, Loss3: 0.9908\n"
     ]
    },
    {
     "name": "stderr",
     "output_type": "stream",
     "text": [
      "Test_Loader: 100%|██████████| 288/288 [00:25<00:00, 11.10it/s]\n"
     ]
    },
    {
     "name": "stdout",
     "output_type": "stream",
     "text": [
      "Loss1: 0.5534, Loss2: 0.2027, Loss3: 0.9864\n"
     ]
    },
    {
     "name": "stderr",
     "output_type": "stream",
     "text": [
      "Test_Loader: 100%|██████████| 288/288 [00:26<00:00, 11.07it/s]\n"
     ]
    },
    {
     "name": "stdout",
     "output_type": "stream",
     "text": [
      "Loss1: 0.5304, Loss2: 0.2000, Loss3: 0.9440\n"
     ]
    },
    {
     "name": "stderr",
     "output_type": "stream",
     "text": [
      "Test_Loader: 100%|██████████| 288/288 [00:26<00:00, 11.06it/s]\n"
     ]
    },
    {
     "name": "stdout",
     "output_type": "stream",
     "text": [
      "Loss1: 0.5375, Loss2: 0.2077, Loss3: 0.9693\n"
     ]
    },
    {
     "name": "stderr",
     "output_type": "stream",
     "text": [
      "Test_Loader: 100%|██████████| 288/288 [00:26<00:00, 10.83it/s]\n"
     ]
    },
    {
     "name": "stdout",
     "output_type": "stream",
     "text": [
      "Loss1: 0.5403, Loss2: 0.2032, Loss3: 0.9762\n"
     ]
    },
    {
     "name": "stderr",
     "output_type": "stream",
     "text": [
      "Test_Loader: 100%|██████████| 288/288 [00:26<00:00, 10.80it/s]\n"
     ]
    },
    {
     "name": "stdout",
     "output_type": "stream",
     "text": [
      "Loss1: 0.5355, Loss2: 0.2012, Loss3: 0.9567\n"
     ]
    },
    {
     "name": "stderr",
     "output_type": "stream",
     "text": [
      "Test_Loader: 100%|██████████| 288/288 [00:26<00:00, 10.81it/s]\n"
     ]
    },
    {
     "name": "stdout",
     "output_type": "stream",
     "text": [
      "Loss1: 0.5202, Loss2: 0.1980, Loss3: 0.9438\n"
     ]
    },
    {
     "name": "stderr",
     "output_type": "stream",
     "text": [
      "Test_Loader: 100%|██████████| 288/288 [00:26<00:00, 11.00it/s]\n"
     ]
    },
    {
     "name": "stdout",
     "output_type": "stream",
     "text": [
      "Loss1: 0.5357, Loss2: 0.2039, Loss3: 0.9606\n"
     ]
    },
    {
     "name": "stderr",
     "output_type": "stream",
     "text": [
      "Test_Loader: 100%|██████████| 288/288 [00:26<00:00, 10.88it/s]\n"
     ]
    },
    {
     "name": "stdout",
     "output_type": "stream",
     "text": [
      "Loss1: 0.5337, Loss2: 0.1990, Loss3: 0.9469\n"
     ]
    },
    {
     "name": "stderr",
     "output_type": "stream",
     "text": [
      "Test_Loader: 100%|██████████| 288/288 [00:26<00:00, 10.92it/s]\n"
     ]
    },
    {
     "name": "stdout",
     "output_type": "stream",
     "text": [
      "Loss1: 0.5387, Loss2: 0.2011, Loss3: 0.9607\n"
     ]
    },
    {
     "name": "stderr",
     "output_type": "stream",
     "text": [
      "Test_Loader: 100%|██████████| 288/288 [00:26<00:00, 10.99it/s]\n"
     ]
    },
    {
     "name": "stdout",
     "output_type": "stream",
     "text": [
      "Loss1: 0.5291, Loss2: 0.1946, Loss3: 0.9450\n"
     ]
    },
    {
     "name": "stderr",
     "output_type": "stream",
     "text": [
      "Test_Loader: 100%|██████████| 288/288 [00:26<00:00, 11.02it/s]\n"
     ]
    },
    {
     "name": "stdout",
     "output_type": "stream",
     "text": [
      "Loss1: 0.5366, Loss2: 0.1982, Loss3: 0.9378\n"
     ]
    },
    {
     "name": "stderr",
     "output_type": "stream",
     "text": [
      "Test_Loader: 100%|██████████| 288/288 [00:27<00:00, 10.42it/s]\n"
     ]
    },
    {
     "name": "stdout",
     "output_type": "stream",
     "text": [
      "Loss1: 0.5144, Loss2: 0.1889, Loss3: 0.9247\n"
     ]
    },
    {
     "name": "stderr",
     "output_type": "stream",
     "text": [
      "Test_Loader: 100%|██████████| 288/288 [00:29<00:00,  9.79it/s]\n"
     ]
    },
    {
     "name": "stdout",
     "output_type": "stream",
     "text": [
      "Loss1: 0.5124, Loss2: 0.1921, Loss3: 0.9150\n"
     ]
    },
    {
     "name": "stderr",
     "output_type": "stream",
     "text": [
      "Test_Loader: 100%|██████████| 288/288 [00:25<00:00, 11.12it/s]\n"
     ]
    },
    {
     "name": "stdout",
     "output_type": "stream",
     "text": [
      "Loss1: 0.5371, Loss2: 0.2124, Loss3: 0.9587\n"
     ]
    },
    {
     "name": "stderr",
     "output_type": "stream",
     "text": [
      "Test_Loader: 100%|██████████| 288/288 [00:25<00:00, 11.21it/s]\n"
     ]
    },
    {
     "name": "stdout",
     "output_type": "stream",
     "text": [
      "Loss1: 0.5224, Loss2: 0.2027, Loss3: 0.9539\n"
     ]
    },
    {
     "name": "stderr",
     "output_type": "stream",
     "text": [
      "Test_Loader: 100%|██████████| 288/288 [00:26<00:00, 10.87it/s]\n"
     ]
    },
    {
     "name": "stdout",
     "output_type": "stream",
     "text": [
      "Loss1: 0.5191, Loss2: 0.1992, Loss3: 0.9526\n"
     ]
    },
    {
     "name": "stderr",
     "output_type": "stream",
     "text": [
      "Test_Loader: 100%|██████████| 288/288 [00:26<00:00, 11.00it/s]\n"
     ]
    },
    {
     "name": "stdout",
     "output_type": "stream",
     "text": [
      "Loss1: 0.5179, Loss2: 0.2093, Loss3: 0.9308\n"
     ]
    },
    {
     "name": "stderr",
     "output_type": "stream",
     "text": [
      "Test_Loader: 100%|██████████| 288/288 [00:26<00:00, 10.83it/s]\n"
     ]
    },
    {
     "name": "stdout",
     "output_type": "stream",
     "text": [
      "Loss1: 0.5180, Loss2: 0.2014, Loss3: 0.9322\n"
     ]
    },
    {
     "name": "stderr",
     "output_type": "stream",
     "text": [
      "Test_Loader: 100%|██████████| 288/288 [00:26<00:00, 10.80it/s]\n"
     ]
    },
    {
     "name": "stdout",
     "output_type": "stream",
     "text": [
      "Loss1: 0.5435, Loss2: 0.2182, Loss3: 0.9838\n"
     ]
    },
    {
     "name": "stderr",
     "output_type": "stream",
     "text": [
      "Test_Loader: 100%|██████████| 288/288 [00:26<00:00, 10.86it/s]\n"
     ]
    },
    {
     "name": "stdout",
     "output_type": "stream",
     "text": [
      "Loss1: 0.5434, Loss2: 0.2154, Loss3: 0.9746\n"
     ]
    },
    {
     "name": "stderr",
     "output_type": "stream",
     "text": [
      "Test_Loader: 100%|██████████| 288/288 [00:26<00:00, 10.85it/s]\n"
     ]
    },
    {
     "name": "stdout",
     "output_type": "stream",
     "text": [
      "Loss1: 0.5385, Loss2: 0.2199, Loss3: 0.9675\n"
     ]
    },
    {
     "name": "stderr",
     "output_type": "stream",
     "text": [
      "Test_Loader: 100%|██████████| 288/288 [00:26<00:00, 10.91it/s]\n"
     ]
    },
    {
     "name": "stdout",
     "output_type": "stream",
     "text": [
      "Loss1: 0.5213, Loss2: 0.2143, Loss3: 0.9583\n"
     ]
    },
    {
     "name": "stderr",
     "output_type": "stream",
     "text": [
      "Test_Loader: 100%|██████████| 288/288 [00:26<00:00, 10.91it/s]\n"
     ]
    },
    {
     "name": "stdout",
     "output_type": "stream",
     "text": [
      "Loss1: 0.5346, Loss2: 0.2159, Loss3: 0.9653\n"
     ]
    },
    {
     "name": "stderr",
     "output_type": "stream",
     "text": [
      "Test_Loader: 100%|██████████| 288/288 [00:26<00:00, 10.86it/s]\n"
     ]
    },
    {
     "name": "stdout",
     "output_type": "stream",
     "text": [
      "Loss1: 0.5228, Loss2: 0.2135, Loss3: 0.9455\n"
     ]
    },
    {
     "name": "stderr",
     "output_type": "stream",
     "text": [
      "Test_Loader: 100%|██████████| 288/288 [00:26<00:00, 10.87it/s]\n"
     ]
    },
    {
     "name": "stdout",
     "output_type": "stream",
     "text": [
      "Loss1: 0.5237, Loss2: 0.2110, Loss3: 0.9726\n"
     ]
    },
    {
     "name": "stderr",
     "output_type": "stream",
     "text": [
      "Test_Loader: 100%|██████████| 288/288 [00:28<00:00, 10.13it/s]\n"
     ]
    },
    {
     "name": "stdout",
     "output_type": "stream",
     "text": [
      "Loss1: 0.5113, Loss2: 0.2105, Loss3: 0.9264\n"
     ]
    },
    {
     "name": "stderr",
     "output_type": "stream",
     "text": [
      "Test_Loader: 100%|██████████| 288/288 [00:27<00:00, 10.60it/s]\n"
     ]
    },
    {
     "name": "stdout",
     "output_type": "stream",
     "text": [
      "Loss1: 0.5070, Loss2: 0.2119, Loss3: 0.9369\n"
     ]
    },
    {
     "name": "stderr",
     "output_type": "stream",
     "text": [
      "Test_Loader: 100%|██████████| 288/288 [00:25<00:00, 11.13it/s]\n"
     ]
    },
    {
     "name": "stdout",
     "output_type": "stream",
     "text": [
      "Loss1: 0.5057, Loss2: 0.2083, Loss3: 0.9282\n"
     ]
    },
    {
     "name": "stderr",
     "output_type": "stream",
     "text": [
      "Test_Loader: 100%|██████████| 288/288 [00:26<00:00, 10.90it/s]\n"
     ]
    },
    {
     "name": "stdout",
     "output_type": "stream",
     "text": [
      "Loss1: 0.4977, Loss2: 0.2104, Loss3: 0.9265\n"
     ]
    },
    {
     "name": "stderr",
     "output_type": "stream",
     "text": [
      "Test_Loader: 100%|██████████| 288/288 [00:26<00:00, 10.71it/s]\n"
     ]
    },
    {
     "name": "stdout",
     "output_type": "stream",
     "text": [
      "Loss1: 0.5068, Loss2: 0.2066, Loss3: 0.9302\n"
     ]
    },
    {
     "name": "stderr",
     "output_type": "stream",
     "text": [
      "Test_Loader: 100%|██████████| 288/288 [00:26<00:00, 10.90it/s]\n"
     ]
    },
    {
     "name": "stdout",
     "output_type": "stream",
     "text": [
      "Loss1: 0.4906, Loss2: 0.2061, Loss3: 0.9002\n"
     ]
    },
    {
     "name": "stderr",
     "output_type": "stream",
     "text": [
      "Test_Loader: 100%|██████████| 288/288 [00:26<00:00, 10.76it/s]\n"
     ]
    },
    {
     "name": "stdout",
     "output_type": "stream",
     "text": [
      "Loss1: 0.4899, Loss2: 0.2044, Loss3: 0.9249\n"
     ]
    },
    {
     "name": "stderr",
     "output_type": "stream",
     "text": [
      "Test_Loader: 100%|██████████| 288/288 [00:26<00:00, 10.77it/s]\n"
     ]
    },
    {
     "name": "stdout",
     "output_type": "stream",
     "text": [
      "Loss1: 0.4943, Loss2: 0.2088, Loss3: 0.9023\n"
     ]
    },
    {
     "name": "stderr",
     "output_type": "stream",
     "text": [
      "Test_Loader: 100%|██████████| 288/288 [00:26<00:00, 10.79it/s]\n"
     ]
    },
    {
     "name": "stdout",
     "output_type": "stream",
     "text": [
      "Loss1: 0.4868, Loss2: 0.2065, Loss3: 0.9104\n"
     ]
    },
    {
     "name": "stderr",
     "output_type": "stream",
     "text": [
      "Test_Loader: 100%|██████████| 288/288 [00:26<00:00, 10.85it/s]\n"
     ]
    },
    {
     "name": "stdout",
     "output_type": "stream",
     "text": [
      "Loss1: 0.4826, Loss2: 0.2066, Loss3: 0.8962\n"
     ]
    },
    {
     "name": "stderr",
     "output_type": "stream",
     "text": [
      "Test_Loader: 100%|██████████| 288/288 [00:26<00:00, 11.04it/s]\n"
     ]
    },
    {
     "name": "stdout",
     "output_type": "stream",
     "text": [
      "Loss1: 0.4899, Loss2: 0.2013, Loss3: 0.9029\n"
     ]
    },
    {
     "name": "stderr",
     "output_type": "stream",
     "text": [
      "Test_Loader: 100%|██████████| 288/288 [00:26<00:00, 10.99it/s]\n"
     ]
    },
    {
     "name": "stdout",
     "output_type": "stream",
     "text": [
      "Loss1: 0.4880, Loss2: 0.2059, Loss3: 0.9019\n"
     ]
    },
    {
     "name": "stderr",
     "output_type": "stream",
     "text": [
      "Test_Loader: 100%|██████████| 288/288 [00:26<00:00, 11.01it/s]\n"
     ]
    },
    {
     "name": "stdout",
     "output_type": "stream",
     "text": [
      "Loss1: 0.4784, Loss2: 0.2017, Loss3: 0.8845\n"
     ]
    },
    {
     "name": "stderr",
     "output_type": "stream",
     "text": [
      "Test_Loader: 100%|██████████| 288/288 [00:28<00:00, 10.28it/s]\n"
     ]
    },
    {
     "name": "stdout",
     "output_type": "stream",
     "text": [
      "Loss1: 0.4810, Loss2: 0.2031, Loss3: 0.9000\n"
     ]
    },
    {
     "name": "stderr",
     "output_type": "stream",
     "text": [
      "Test_Loader: 100%|██████████| 288/288 [00:27<00:00, 10.29it/s]\n"
     ]
    },
    {
     "name": "stdout",
     "output_type": "stream",
     "text": [
      "Loss1: 0.4856, Loss2: 0.1951, Loss3: 0.8964\n"
     ]
    },
    {
     "name": "stderr",
     "output_type": "stream",
     "text": [
      "Test_Loader: 100%|██████████| 288/288 [00:26<00:00, 10.82it/s]\n"
     ]
    },
    {
     "name": "stdout",
     "output_type": "stream",
     "text": [
      "Loss1: 0.4707, Loss2: 0.2028, Loss3: 0.8744\n"
     ]
    },
    {
     "name": "stderr",
     "output_type": "stream",
     "text": [
      "Test_Loader: 100%|██████████| 288/288 [00:25<00:00, 11.08it/s]\n"
     ]
    },
    {
     "name": "stdout",
     "output_type": "stream",
     "text": [
      "Loss1: 0.4806, Loss2: 0.2040, Loss3: 0.8872\n"
     ]
    },
    {
     "name": "stderr",
     "output_type": "stream",
     "text": [
      "Test_Loader: 100%|██████████| 288/288 [00:26<00:00, 11.02it/s]\n"
     ]
    },
    {
     "name": "stdout",
     "output_type": "stream",
     "text": [
      "Loss1: 0.4729, Loss2: 0.1966, Loss3: 0.9005\n"
     ]
    },
    {
     "name": "stderr",
     "output_type": "stream",
     "text": [
      "Test_Loader: 100%|██████████| 288/288 [00:25<00:00, 11.19it/s]\n"
     ]
    },
    {
     "name": "stdout",
     "output_type": "stream",
     "text": [
      "Loss1: 0.4601, Loss2: 0.1976, Loss3: 0.8743\n"
     ]
    },
    {
     "name": "stderr",
     "output_type": "stream",
     "text": [
      "Test_Loader: 100%|██████████| 288/288 [00:25<00:00, 11.11it/s]\n"
     ]
    },
    {
     "name": "stdout",
     "output_type": "stream",
     "text": [
      "Loss1: 0.4541, Loss2: 0.1897, Loss3: 0.8886\n"
     ]
    },
    {
     "name": "stderr",
     "output_type": "stream",
     "text": [
      "Test_Loader: 100%|██████████| 288/288 [00:25<00:00, 11.09it/s]\n"
     ]
    },
    {
     "name": "stdout",
     "output_type": "stream",
     "text": [
      "Loss1: 0.4520, Loss2: 0.1929, Loss3: 0.8627\n"
     ]
    },
    {
     "name": "stderr",
     "output_type": "stream",
     "text": [
      "Test_Loader: 100%|██████████| 288/288 [00:26<00:00, 11.05it/s]\n"
     ]
    },
    {
     "name": "stdout",
     "output_type": "stream",
     "text": [
      "Loss1: 0.4505, Loss2: 0.1926, Loss3: 0.8637\n"
     ]
    },
    {
     "name": "stderr",
     "output_type": "stream",
     "text": [
      "Test_Loader: 100%|██████████| 288/288 [00:26<00:00, 10.93it/s]\n"
     ]
    },
    {
     "name": "stdout",
     "output_type": "stream",
     "text": [
      "Loss1: 0.4479, Loss2: 0.1999, Loss3: 0.8524\n"
     ]
    },
    {
     "name": "stderr",
     "output_type": "stream",
     "text": [
      "Test_Loader: 100%|██████████| 288/288 [00:26<00:00, 10.99it/s]\n"
     ]
    },
    {
     "name": "stdout",
     "output_type": "stream",
     "text": [
      "Loss1: 0.4473, Loss2: 0.1972, Loss3: 0.8503\n"
     ]
    },
    {
     "name": "stderr",
     "output_type": "stream",
     "text": [
      "Test_Loader: 100%|██████████| 288/288 [00:25<00:00, 11.22it/s]\n"
     ]
    },
    {
     "name": "stdout",
     "output_type": "stream",
     "text": [
      "Loss1: 0.4411, Loss2: 0.1907, Loss3: 0.8602\n"
     ]
    },
    {
     "name": "stderr",
     "output_type": "stream",
     "text": [
      "Test_Loader: 100%|██████████| 288/288 [00:26<00:00, 10.89it/s]\n"
     ]
    },
    {
     "name": "stdout",
     "output_type": "stream",
     "text": [
      "Loss1: 0.4400, Loss2: 0.1917, Loss3: 0.8261\n"
     ]
    },
    {
     "name": "stderr",
     "output_type": "stream",
     "text": [
      "Test_Loader: 100%|██████████| 288/288 [00:25<00:00, 11.28it/s]\n"
     ]
    },
    {
     "name": "stdout",
     "output_type": "stream",
     "text": [
      "Loss1: 0.4374, Loss2: 0.1941, Loss3: 0.8287\n"
     ]
    },
    {
     "name": "stderr",
     "output_type": "stream",
     "text": [
      "Test_Loader: 100%|██████████| 288/288 [00:26<00:00, 10.74it/s]\n"
     ]
    },
    {
     "name": "stdout",
     "output_type": "stream",
     "text": [
      "Loss1: 0.4928, Loss2: 0.2149, Loss3: 1.0074\n"
     ]
    },
    {
     "name": "stderr",
     "output_type": "stream",
     "text": [
      "Test_Loader: 100%|██████████| 288/288 [00:26<00:00, 10.94it/s]\n"
     ]
    },
    {
     "name": "stdout",
     "output_type": "stream",
     "text": [
      "Loss1: 0.5237, Loss2: 0.2217, Loss3: 1.0111\n"
     ]
    },
    {
     "name": "stderr",
     "output_type": "stream",
     "text": [
      "Test_Loader: 100%|██████████| 288/288 [00:26<00:00, 10.94it/s]\n"
     ]
    },
    {
     "name": "stdout",
     "output_type": "stream",
     "text": [
      "Loss1: 0.5419, Loss2: 0.2298, Loss3: 1.0564\n"
     ]
    },
    {
     "name": "stderr",
     "output_type": "stream",
     "text": [
      "Test_Loader: 100%|██████████| 288/288 [00:26<00:00, 10.99it/s]\n"
     ]
    },
    {
     "name": "stdout",
     "output_type": "stream",
     "text": [
      "Loss1: 0.5309, Loss2: 0.2258, Loss3: 1.0720\n"
     ]
    },
    {
     "name": "stderr",
     "output_type": "stream",
     "text": [
      "Test_Loader: 100%|██████████| 288/288 [00:26<00:00, 10.76it/s]\n"
     ]
    },
    {
     "name": "stdout",
     "output_type": "stream",
     "text": [
      "Loss1: 0.5154, Loss2: 0.2162, Loss3: 1.0867\n"
     ]
    },
    {
     "name": "stderr",
     "output_type": "stream",
     "text": [
      "Test_Loader: 100%|██████████| 288/288 [00:26<00:00, 11.03it/s]\n"
     ]
    },
    {
     "name": "stdout",
     "output_type": "stream",
     "text": [
      "Loss1: 0.5415, Loss2: 0.2763, Loss3: 1.2635\n"
     ]
    },
    {
     "name": "stderr",
     "output_type": "stream",
     "text": [
      "Test_Loader: 100%|██████████| 288/288 [00:26<00:00, 10.93it/s]\n"
     ]
    },
    {
     "name": "stdout",
     "output_type": "stream",
     "text": [
      "Loss1: 0.5237, Loss2: 0.2738, Loss3: 1.2810\n"
     ]
    },
    {
     "name": "stderr",
     "output_type": "stream",
     "text": [
      "Test_Loader: 100%|██████████| 288/288 [00:26<00:00, 10.76it/s]\n"
     ]
    },
    {
     "name": "stdout",
     "output_type": "stream",
     "text": [
      "Loss1: 0.5192, Loss2: 0.2628, Loss3: 1.2985\n"
     ]
    },
    {
     "name": "stderr",
     "output_type": "stream",
     "text": [
      "Test_Loader: 100%|██████████| 288/288 [00:26<00:00, 10.78it/s]\n"
     ]
    },
    {
     "name": "stdout",
     "output_type": "stream",
     "text": [
      "Loss1: 0.5122, Loss2: 0.2697, Loss3: 1.2941\n"
     ]
    },
    {
     "name": "stderr",
     "output_type": "stream",
     "text": [
      "Test_Loader: 100%|██████████| 288/288 [00:26<00:00, 10.82it/s]\n"
     ]
    },
    {
     "name": "stdout",
     "output_type": "stream",
     "text": [
      "Loss1: 0.5034, Loss2: 0.2736, Loss3: 1.2713\n"
     ]
    },
    {
     "name": "stderr",
     "output_type": "stream",
     "text": [
      "Test_Loader: 100%|██████████| 288/288 [00:26<00:00, 10.81it/s]\n"
     ]
    },
    {
     "name": "stdout",
     "output_type": "stream",
     "text": [
      "Loss1: 0.4963, Loss2: 0.2625, Loss3: 1.2697\n"
     ]
    },
    {
     "name": "stderr",
     "output_type": "stream",
     "text": [
      "Test_Loader: 100%|██████████| 288/288 [00:26<00:00, 10.86it/s]\n"
     ]
    },
    {
     "name": "stdout",
     "output_type": "stream",
     "text": [
      "Loss1: 0.4689, Loss2: 0.2728, Loss3: 1.2916\n"
     ]
    },
    {
     "name": "stderr",
     "output_type": "stream",
     "text": [
      "Test_Loader: 100%|██████████| 288/288 [00:26<00:00, 10.82it/s]\n"
     ]
    },
    {
     "name": "stdout",
     "output_type": "stream",
     "text": [
      "Loss1: 0.4665, Loss2: 0.2662, Loss3: 1.2521\n"
     ]
    },
    {
     "name": "stderr",
     "output_type": "stream",
     "text": [
      "Test_Loader: 100%|██████████| 288/288 [00:27<00:00, 10.43it/s]\n"
     ]
    },
    {
     "name": "stdout",
     "output_type": "stream",
     "text": [
      "Loss1: 0.4755, Loss2: 0.2648, Loss3: 1.2500\n"
     ]
    },
    {
     "name": "stderr",
     "output_type": "stream",
     "text": [
      "Test_Loader: 100%|██████████| 288/288 [00:27<00:00, 10.43it/s]\n"
     ]
    },
    {
     "name": "stdout",
     "output_type": "stream",
     "text": [
      "Loss1: 0.4782, Loss2: 0.2776, Loss3: 1.2581\n"
     ]
    },
    {
     "name": "stderr",
     "output_type": "stream",
     "text": [
      "Test_Loader: 100%|██████████| 288/288 [00:26<00:00, 10.74it/s]\n"
     ]
    },
    {
     "name": "stdout",
     "output_type": "stream",
     "text": [
      "Loss1: 0.4759, Loss2: 0.2816, Loss3: 1.2328\n"
     ]
    },
    {
     "name": "stderr",
     "output_type": "stream",
     "text": [
      "Test_Loader: 100%|██████████| 288/288 [00:26<00:00, 10.81it/s]\n"
     ]
    },
    {
     "name": "stdout",
     "output_type": "stream",
     "text": [
      "Loss1: 0.4716, Loss2: 0.2768, Loss3: 1.2673\n"
     ]
    },
    {
     "name": "stderr",
     "output_type": "stream",
     "text": [
      "Test_Loader: 100%|██████████| 288/288 [00:26<00:00, 10.81it/s]\n"
     ]
    },
    {
     "name": "stdout",
     "output_type": "stream",
     "text": [
      "Loss1: 0.4758, Loss2: 0.2758, Loss3: 1.2309\n"
     ]
    },
    {
     "name": "stderr",
     "output_type": "stream",
     "text": [
      "Test_Loader: 100%|██████████| 288/288 [00:27<00:00, 10.45it/s]\n"
     ]
    },
    {
     "name": "stdout",
     "output_type": "stream",
     "text": [
      "Loss1: 0.5152, Loss2: 0.3222, Loss3: 1.2919\n"
     ]
    },
    {
     "name": "stderr",
     "output_type": "stream",
     "text": [
      "Test_Loader: 100%|██████████| 288/288 [00:26<00:00, 10.74it/s]\n"
     ]
    },
    {
     "name": "stdout",
     "output_type": "stream",
     "text": [
      "Loss1: 0.4968, Loss2: 0.3036, Loss3: 1.2441\n"
     ]
    },
    {
     "name": "stderr",
     "output_type": "stream",
     "text": [
      "Test_Loader: 100%|██████████| 288/288 [00:26<00:00, 10.71it/s]\n"
     ]
    },
    {
     "name": "stdout",
     "output_type": "stream",
     "text": [
      "Loss1: 0.4957, Loss2: 0.3002, Loss3: 1.2518\n"
     ]
    },
    {
     "name": "stderr",
     "output_type": "stream",
     "text": [
      "Test_Loader: 100%|██████████| 288/288 [00:26<00:00, 10.79it/s]\n"
     ]
    },
    {
     "name": "stdout",
     "output_type": "stream",
     "text": [
      "Loss1: 0.4987, Loss2: 0.3018, Loss3: 1.2470\n"
     ]
    },
    {
     "name": "stderr",
     "output_type": "stream",
     "text": [
      "Test_Loader: 100%|██████████| 288/288 [00:27<00:00, 10.66it/s]\n"
     ]
    },
    {
     "name": "stdout",
     "output_type": "stream",
     "text": [
      "Loss1: 0.4801, Loss2: 0.3007, Loss3: 1.2758\n"
     ]
    },
    {
     "name": "stderr",
     "output_type": "stream",
     "text": [
      "Test_Loader: 100%|██████████| 288/288 [00:26<00:00, 10.82it/s]\n"
     ]
    },
    {
     "name": "stdout",
     "output_type": "stream",
     "text": [
      "Loss1: 0.4773, Loss2: 0.2897, Loss3: 1.2481\n"
     ]
    },
    {
     "name": "stderr",
     "output_type": "stream",
     "text": [
      "Test_Loader: 100%|██████████| 288/288 [00:26<00:00, 11.01it/s]\n"
     ]
    },
    {
     "name": "stdout",
     "output_type": "stream",
     "text": [
      "Loss1: 0.4944, Loss2: 0.2940, Loss3: 1.2646\n"
     ]
    },
    {
     "name": "stderr",
     "output_type": "stream",
     "text": [
      "Test_Loader: 100%|██████████| 288/288 [00:26<00:00, 10.91it/s]\n"
     ]
    },
    {
     "name": "stdout",
     "output_type": "stream",
     "text": [
      "Loss1: 0.4917, Loss2: 0.2956, Loss3: 1.2582\n"
     ]
    },
    {
     "name": "stderr",
     "output_type": "stream",
     "text": [
      "Test_Loader: 100%|██████████| 288/288 [00:26<00:00, 10.96it/s]\n"
     ]
    },
    {
     "name": "stdout",
     "output_type": "stream",
     "text": [
      "Loss1: 0.4860, Loss2: 0.2991, Loss3: 1.4008\n"
     ]
    },
    {
     "name": "stderr",
     "output_type": "stream",
     "text": [
      "Test_Loader: 100%|██████████| 288/288 [00:27<00:00, 10.46it/s]\n"
     ]
    },
    {
     "name": "stdout",
     "output_type": "stream",
     "text": [
      "Loss1: 0.4942, Loss2: 0.3134, Loss3: 1.4258\n"
     ]
    },
    {
     "name": "stderr",
     "output_type": "stream",
     "text": [
      "Test_Loader: 100%|██████████| 288/288 [00:28<00:00, 10.03it/s]\n"
     ]
    },
    {
     "name": "stdout",
     "output_type": "stream",
     "text": [
      "Loss1: 0.4961, Loss2: 0.3202, Loss3: 1.4310\n"
     ]
    },
    {
     "name": "stderr",
     "output_type": "stream",
     "text": [
      "Test_Loader: 100%|██████████| 288/288 [00:25<00:00, 11.20it/s]\n"
     ]
    },
    {
     "name": "stdout",
     "output_type": "stream",
     "text": [
      "Loss1: 0.4870, Loss2: 0.3066, Loss3: 1.4500\n"
     ]
    },
    {
     "name": "stderr",
     "output_type": "stream",
     "text": [
      "Test_Loader: 100%|██████████| 288/288 [00:26<00:00, 11.07it/s]\n"
     ]
    },
    {
     "name": "stdout",
     "output_type": "stream",
     "text": [
      "Loss1: 0.4804, Loss2: 0.3168, Loss3: 1.4787\n"
     ]
    },
    {
     "name": "stderr",
     "output_type": "stream",
     "text": [
      "Test_Loader: 100%|██████████| 288/288 [00:26<00:00, 10.83it/s]\n"
     ]
    },
    {
     "name": "stdout",
     "output_type": "stream",
     "text": [
      "Loss1: 0.5044, Loss2: 0.3188, Loss3: 1.4937\n"
     ]
    },
    {
     "name": "stderr",
     "output_type": "stream",
     "text": [
      "Test_Loader: 100%|██████████| 288/288 [00:26<00:00, 10.78it/s]\n"
     ]
    },
    {
     "name": "stdout",
     "output_type": "stream",
     "text": [
      "Loss1: 0.4998, Loss2: 0.3201, Loss3: 1.4616\n"
     ]
    },
    {
     "name": "stderr",
     "output_type": "stream",
     "text": [
      "Test_Loader: 100%|██████████| 288/288 [00:26<00:00, 10.84it/s]\n"
     ]
    },
    {
     "name": "stdout",
     "output_type": "stream",
     "text": [
      "Loss1: 0.5030, Loss2: 0.3186, Loss3: 1.4883\n"
     ]
    },
    {
     "name": "stderr",
     "output_type": "stream",
     "text": [
      "Test_Loader: 100%|██████████| 288/288 [00:26<00:00, 10.75it/s]\n"
     ]
    },
    {
     "name": "stdout",
     "output_type": "stream",
     "text": [
      "Loss1: 0.4983, Loss2: 0.3105, Loss3: 1.4519\n"
     ]
    },
    {
     "name": "stderr",
     "output_type": "stream",
     "text": [
      "Test_Loader: 100%|██████████| 288/288 [00:26<00:00, 10.69it/s]\n"
     ]
    },
    {
     "name": "stdout",
     "output_type": "stream",
     "text": [
      "Loss1: 0.5002, Loss2: 0.3089, Loss3: 1.4324\n"
     ]
    },
    {
     "name": "stderr",
     "output_type": "stream",
     "text": [
      "Test_Loader: 100%|██████████| 288/288 [00:27<00:00, 10.63it/s]\n"
     ]
    },
    {
     "name": "stdout",
     "output_type": "stream",
     "text": [
      "Loss1: 0.4876, Loss2: 0.3093, Loss3: 1.4179\n"
     ]
    },
    {
     "name": "stderr",
     "output_type": "stream",
     "text": [
      "Test_Loader: 100%|██████████| 288/288 [00:26<00:00, 10.67it/s]\n"
     ]
    },
    {
     "name": "stdout",
     "output_type": "stream",
     "text": [
      "Loss1: 0.4803, Loss2: 0.3037, Loss3: 1.4096\n"
     ]
    },
    {
     "name": "stderr",
     "output_type": "stream",
     "text": [
      "Test_Loader: 100%|██████████| 288/288 [00:26<00:00, 11.03it/s]\n"
     ]
    },
    {
     "name": "stdout",
     "output_type": "stream",
     "text": [
      "Loss1: 0.5239, Loss2: 0.3266, Loss3: 1.4784\n"
     ]
    },
    {
     "name": "stderr",
     "output_type": "stream",
     "text": [
      "Test_Loader: 100%|██████████| 288/288 [00:26<00:00, 11.04it/s]\n"
     ]
    },
    {
     "name": "stdout",
     "output_type": "stream",
     "text": [
      "Loss1: 0.5258, Loss2: 0.3369, Loss3: 1.4530\n"
     ]
    },
    {
     "name": "stderr",
     "output_type": "stream",
     "text": [
      "Test_Loader: 100%|██████████| 288/288 [00:27<00:00, 10.36it/s]\n"
     ]
    },
    {
     "name": "stdout",
     "output_type": "stream",
     "text": [
      "Loss1: 0.5164, Loss2: 0.3347, Loss3: 1.4384\n"
     ]
    },
    {
     "name": "stderr",
     "output_type": "stream",
     "text": [
      "Test_Loader: 100%|██████████| 288/288 [00:29<00:00,  9.88it/s]\n"
     ]
    },
    {
     "name": "stdout",
     "output_type": "stream",
     "text": [
      "Loss1: 0.5153, Loss2: 0.3230, Loss3: 1.4706\n"
     ]
    },
    {
     "name": "stderr",
     "output_type": "stream",
     "text": [
      "Test_Loader: 100%|██████████| 288/288 [00:26<00:00, 10.78it/s]\n"
     ]
    },
    {
     "name": "stdout",
     "output_type": "stream",
     "text": [
      "Loss1: 0.5174, Loss2: 0.3344, Loss3: 1.4383\n"
     ]
    },
    {
     "name": "stderr",
     "output_type": "stream",
     "text": [
      "Test_Loader: 100%|██████████| 288/288 [00:26<00:00, 10.93it/s]\n"
     ]
    },
    {
     "name": "stdout",
     "output_type": "stream",
     "text": [
      "Loss1: 0.5031, Loss2: 0.3262, Loss3: 1.4719\n"
     ]
    },
    {
     "name": "stderr",
     "output_type": "stream",
     "text": [
      "Test_Loader: 100%|██████████| 288/288 [00:26<00:00, 10.92it/s]\n"
     ]
    },
    {
     "name": "stdout",
     "output_type": "stream",
     "text": [
      "Loss1: 0.5044, Loss2: 0.3255, Loss3: 1.4237\n"
     ]
    },
    {
     "name": "stderr",
     "output_type": "stream",
     "text": [
      "Test_Loader: 100%|██████████| 288/288 [00:26<00:00, 10.68it/s]\n"
     ]
    },
    {
     "name": "stdout",
     "output_type": "stream",
     "text": [
      "Loss1: 0.5014, Loss2: 0.3137, Loss3: 1.4214\n"
     ]
    },
    {
     "name": "stderr",
     "output_type": "stream",
     "text": [
      "Test_Loader: 100%|██████████| 288/288 [00:26<00:00, 10.91it/s]\n"
     ]
    },
    {
     "name": "stdout",
     "output_type": "stream",
     "text": [
      "Loss1: 0.4964, Loss2: 0.3219, Loss3: 1.3973\n"
     ]
    },
    {
     "name": "stderr",
     "output_type": "stream",
     "text": [
      "Test_Loader: 100%|██████████| 288/288 [00:26<00:00, 10.89it/s]\n"
     ]
    },
    {
     "name": "stdout",
     "output_type": "stream",
     "text": [
      "Loss1: 0.4845, Loss2: 0.3175, Loss3: 1.3931\n"
     ]
    },
    {
     "name": "stderr",
     "output_type": "stream",
     "text": [
      "Test_Loader: 100%|██████████| 288/288 [00:26<00:00, 11.07it/s]\n"
     ]
    },
    {
     "name": "stdout",
     "output_type": "stream",
     "text": [
      "Loss1: 0.4868, Loss2: 0.3072, Loss3: 1.3523\n"
     ]
    },
    {
     "name": "stderr",
     "output_type": "stream",
     "text": [
      "Test_Loader: 100%|██████████| 288/288 [00:26<00:00, 10.99it/s]\n"
     ]
    },
    {
     "name": "stdout",
     "output_type": "stream",
     "text": [
      "Loss1: 0.4839, Loss2: 0.3008, Loss3: 1.4009\n"
     ]
    },
    {
     "name": "stderr",
     "output_type": "stream",
     "text": [
      "Test_Loader: 100%|██████████| 288/288 [00:25<00:00, 11.09it/s]\n"
     ]
    },
    {
     "name": "stdout",
     "output_type": "stream",
     "text": [
      "Loss1: 0.4710, Loss2: 0.3093, Loss3: 1.3609\n"
     ]
    },
    {
     "name": "stderr",
     "output_type": "stream",
     "text": [
      "Test_Loader: 100%|██████████| 288/288 [00:25<00:00, 11.09it/s]\n"
     ]
    },
    {
     "name": "stdout",
     "output_type": "stream",
     "text": [
      "Loss1: 0.4759, Loss2: 0.3001, Loss3: 1.3281\n"
     ]
    },
    {
     "name": "stderr",
     "output_type": "stream",
     "text": [
      "Test_Loader: 100%|██████████| 288/288 [00:26<00:00, 10.78it/s]\n"
     ]
    },
    {
     "name": "stdout",
     "output_type": "stream",
     "text": [
      "Loss1: 0.4677, Loss2: 0.2940, Loss3: 1.3165\n"
     ]
    },
    {
     "name": "stderr",
     "output_type": "stream",
     "text": [
      "Test_Loader: 100%|██████████| 288/288 [00:26<00:00, 10.84it/s]\n"
     ]
    },
    {
     "name": "stdout",
     "output_type": "stream",
     "text": [
      "Loss1: 0.4655, Loss2: 0.2944, Loss3: 1.3272\n"
     ]
    },
    {
     "name": "stderr",
     "output_type": "stream",
     "text": [
      "Test_Loader: 100%|██████████| 288/288 [00:27<00:00, 10.34it/s]\n"
     ]
    },
    {
     "name": "stdout",
     "output_type": "stream",
     "text": [
      "Loss1: 0.4762, Loss2: 0.2947, Loss3: 1.3205\n"
     ]
    },
    {
     "name": "stderr",
     "output_type": "stream",
     "text": [
      "Test_Loader: 100%|██████████| 288/288 [00:27<00:00, 10.34it/s]\n"
     ]
    },
    {
     "name": "stdout",
     "output_type": "stream",
     "text": [
      "Loss1: 0.4725, Loss2: 0.2978, Loss3: 1.3260\n"
     ]
    },
    {
     "name": "stderr",
     "output_type": "stream",
     "text": [
      "Test_Loader: 100%|██████████| 288/288 [00:25<00:00, 11.09it/s]\n"
     ]
    },
    {
     "name": "stdout",
     "output_type": "stream",
     "text": [
      "Loss1: 0.4805, Loss2: 0.2883, Loss3: 1.3357\n"
     ]
    },
    {
     "name": "stderr",
     "output_type": "stream",
     "text": [
      "Test_Loader: 100%|██████████| 288/288 [00:26<00:00, 10.83it/s]\n"
     ]
    },
    {
     "name": "stdout",
     "output_type": "stream",
     "text": [
      "Loss1: 0.4675, Loss2: 0.2757, Loss3: 1.3010\n"
     ]
    },
    {
     "name": "stderr",
     "output_type": "stream",
     "text": [
      "Test_Loader: 100%|██████████| 288/288 [00:25<00:00, 11.19it/s]\n"
     ]
    },
    {
     "name": "stdout",
     "output_type": "stream",
     "text": [
      "Loss1: 0.4801, Loss2: 0.2774, Loss3: 1.2718\n"
     ]
    },
    {
     "name": "stderr",
     "output_type": "stream",
     "text": [
      "Test_Loader: 100%|██████████| 288/288 [00:26<00:00, 10.87it/s]\n"
     ]
    },
    {
     "name": "stdout",
     "output_type": "stream",
     "text": [
      "Loss1: 0.4671, Loss2: 0.2730, Loss3: 1.2911\n"
     ]
    },
    {
     "name": "stderr",
     "output_type": "stream",
     "text": [
      "Test_Loader: 100%|██████████| 288/288 [00:27<00:00, 10.65it/s]\n"
     ]
    },
    {
     "name": "stdout",
     "output_type": "stream",
     "text": [
      "Loss1: 0.4625, Loss2: 0.2664, Loss3: 1.2491\n"
     ]
    },
    {
     "name": "stderr",
     "output_type": "stream",
     "text": [
      "Test_Loader: 100%|██████████| 288/288 [00:26<00:00, 10.81it/s]\n"
     ]
    },
    {
     "name": "stdout",
     "output_type": "stream",
     "text": [
      "Loss1: 0.4625, Loss2: 0.2776, Loss3: 1.2531\n"
     ]
    },
    {
     "name": "stderr",
     "output_type": "stream",
     "text": [
      "Test_Loader: 100%|██████████| 288/288 [00:26<00:00, 10.91it/s]\n"
     ]
    },
    {
     "name": "stdout",
     "output_type": "stream",
     "text": [
      "Loss1: 0.4370, Loss2: 0.2517, Loss3: 1.2045\n"
     ]
    },
    {
     "name": "stderr",
     "output_type": "stream",
     "text": [
      "Test_Loader: 100%|██████████| 288/288 [00:26<00:00, 10.87it/s]\n"
     ]
    },
    {
     "name": "stdout",
     "output_type": "stream",
     "text": [
      "Loss1: 0.4393, Loss2: 0.2523, Loss3: 1.2087\n"
     ]
    },
    {
     "name": "stderr",
     "output_type": "stream",
     "text": [
      "Test_Loader: 100%|██████████| 288/288 [00:26<00:00, 10.88it/s]\n"
     ]
    },
    {
     "name": "stdout",
     "output_type": "stream",
     "text": [
      "Loss1: 0.4567, Loss2: 0.2615, Loss3: 1.2686\n"
     ]
    },
    {
     "name": "stderr",
     "output_type": "stream",
     "text": [
      "Test_Loader: 100%|██████████| 288/288 [00:26<00:00, 11.08it/s]\n"
     ]
    },
    {
     "name": "stdout",
     "output_type": "stream",
     "text": [
      "Loss1: 0.4610, Loss2: 0.2617, Loss3: 1.2311\n"
     ]
    },
    {
     "name": "stderr",
     "output_type": "stream",
     "text": [
      "Test_Loader: 100%|██████████| 288/288 [00:25<00:00, 11.25it/s]\n"
     ]
    },
    {
     "name": "stdout",
     "output_type": "stream",
     "text": [
      "Loss1: 0.4495, Loss2: 0.2583, Loss3: 1.2547\n"
     ]
    },
    {
     "name": "stderr",
     "output_type": "stream",
     "text": [
      "Test_Loader: 100%|██████████| 288/288 [00:25<00:00, 11.31it/s]\n"
     ]
    },
    {
     "name": "stdout",
     "output_type": "stream",
     "text": [
      "Loss1: 0.4534, Loss2: 0.2534, Loss3: 1.2172\n"
     ]
    },
    {
     "name": "stderr",
     "output_type": "stream",
     "text": [
      "Test_Loader: 100%|██████████| 288/288 [00:26<00:00, 10.81it/s]\n"
     ]
    },
    {
     "name": "stdout",
     "output_type": "stream",
     "text": [
      "Loss1: 0.4559, Loss2: 0.2565, Loss3: 1.2142\n"
     ]
    },
    {
     "name": "stderr",
     "output_type": "stream",
     "text": [
      "Test_Loader: 100%|██████████| 288/288 [00:27<00:00, 10.58it/s]\n"
     ]
    },
    {
     "name": "stdout",
     "output_type": "stream",
     "text": [
      "Loss1: 0.4589, Loss2: 0.2583, Loss3: 1.2072\n"
     ]
    },
    {
     "name": "stderr",
     "output_type": "stream",
     "text": [
      "Test_Loader: 100%|██████████| 288/288 [00:26<00:00, 10.89it/s]\n"
     ]
    },
    {
     "name": "stdout",
     "output_type": "stream",
     "text": [
      "Loss1: 0.4553, Loss2: 0.2551, Loss3: 1.2129\n"
     ]
    },
    {
     "name": "stderr",
     "output_type": "stream",
     "text": [
      "Test_Loader: 100%|██████████| 288/288 [00:26<00:00, 10.74it/s]\n"
     ]
    },
    {
     "name": "stdout",
     "output_type": "stream",
     "text": [
      "Loss1: 0.4518, Loss2: 0.2551, Loss3: 1.2046\n"
     ]
    },
    {
     "name": "stderr",
     "output_type": "stream",
     "text": [
      "Test_Loader: 100%|██████████| 288/288 [00:26<00:00, 10.82it/s]\n"
     ]
    },
    {
     "name": "stdout",
     "output_type": "stream",
     "text": [
      "Loss1: 0.4575, Loss2: 0.2609, Loss3: 1.1934\n"
     ]
    },
    {
     "name": "stderr",
     "output_type": "stream",
     "text": [
      "Test_Loader: 100%|██████████| 288/288 [00:26<00:00, 10.88it/s]\n"
     ]
    },
    {
     "name": "stdout",
     "output_type": "stream",
     "text": [
      "Loss1: 0.4513, Loss2: 0.2555, Loss3: 1.1998\n"
     ]
    },
    {
     "name": "stderr",
     "output_type": "stream",
     "text": [
      "Test_Loader: 100%|██████████| 288/288 [00:26<00:00, 10.84it/s]\n"
     ]
    },
    {
     "name": "stdout",
     "output_type": "stream",
     "text": [
      "Loss1: 0.4549, Loss2: 0.2474, Loss3: 1.1989\n"
     ]
    },
    {
     "name": "stderr",
     "output_type": "stream",
     "text": [
      "Test_Loader: 100%|██████████| 288/288 [00:26<00:00, 10.93it/s]\n"
     ]
    },
    {
     "name": "stdout",
     "output_type": "stream",
     "text": [
      "Loss1: 0.4494, Loss2: 0.2560, Loss3: 1.1728\n"
     ]
    },
    {
     "name": "stderr",
     "output_type": "stream",
     "text": [
      "Test_Loader: 100%|██████████| 288/288 [00:26<00:00, 10.94it/s]\n"
     ]
    },
    {
     "name": "stdout",
     "output_type": "stream",
     "text": [
      "Loss1: 0.4321, Loss2: 0.2468, Loss3: 1.1872\n"
     ]
    },
    {
     "name": "stderr",
     "output_type": "stream",
     "text": [
      "Test_Loader: 100%|██████████| 288/288 [00:26<00:00, 10.75it/s]\n"
     ]
    },
    {
     "name": "stdout",
     "output_type": "stream",
     "text": [
      "Loss1: 0.4446, Loss2: 0.2478, Loss3: 1.1787\n"
     ]
    },
    {
     "name": "stderr",
     "output_type": "stream",
     "text": [
      "Test_Loader: 100%|██████████| 288/288 [00:26<00:00, 10.83it/s]\n"
     ]
    },
    {
     "name": "stdout",
     "output_type": "stream",
     "text": [
      "Loss1: 0.4462, Loss2: 0.2485, Loss3: 1.1642\n"
     ]
    },
    {
     "name": "stderr",
     "output_type": "stream",
     "text": [
      "Test_Loader: 100%|██████████| 288/288 [00:26<00:00, 10.70it/s]\n"
     ]
    },
    {
     "name": "stdout",
     "output_type": "stream",
     "text": [
      "Loss1: 0.4477, Loss2: 0.2443, Loss3: 1.1653\n"
     ]
    },
    {
     "name": "stderr",
     "output_type": "stream",
     "text": [
      "Test_Loader: 100%|██████████| 288/288 [00:26<00:00, 10.99it/s]\n"
     ]
    },
    {
     "name": "stdout",
     "output_type": "stream",
     "text": [
      "Loss1: 0.4357, Loss2: 0.2453, Loss3: 1.1535\n"
     ]
    },
    {
     "name": "stderr",
     "output_type": "stream",
     "text": [
      "Test_Loader: 100%|██████████| 288/288 [00:29<00:00,  9.70it/s]\n"
     ]
    },
    {
     "name": "stdout",
     "output_type": "stream",
     "text": [
      "Loss1: 0.4421, Loss2: 0.2400, Loss3: 1.1293\n"
     ]
    },
    {
     "name": "stderr",
     "output_type": "stream",
     "text": [
      "Test_Loader: 100%|██████████| 288/288 [00:29<00:00,  9.73it/s]\n"
     ]
    },
    {
     "name": "stdout",
     "output_type": "stream",
     "text": [
      "Loss1: 0.4325, Loss2: 0.2421, Loss3: 1.1733\n"
     ]
    },
    {
     "name": "stderr",
     "output_type": "stream",
     "text": [
      "Test_Loader: 100%|██████████| 288/288 [00:25<00:00, 11.16it/s]\n"
     ]
    },
    {
     "name": "stdout",
     "output_type": "stream",
     "text": [
      "Loss1: 0.4354, Loss2: 0.2461, Loss3: 1.1447\n"
     ]
    },
    {
     "name": "stderr",
     "output_type": "stream",
     "text": [
      "Test_Loader: 100%|██████████| 288/288 [00:25<00:00, 11.10it/s]\n"
     ]
    },
    {
     "name": "stdout",
     "output_type": "stream",
     "text": [
      "Loss1: 0.4304, Loss2: 0.2389, Loss3: 1.1578\n"
     ]
    },
    {
     "name": "stderr",
     "output_type": "stream",
     "text": [
      "Test_Loader: 100%|██████████| 288/288 [00:25<00:00, 11.15it/s]\n"
     ]
    },
    {
     "name": "stdout",
     "output_type": "stream",
     "text": [
      "Loss1: 0.4457, Loss2: 0.2458, Loss3: 1.1263\n"
     ]
    },
    {
     "name": "stderr",
     "output_type": "stream",
     "text": [
      "Test_Loader: 100%|██████████| 288/288 [00:26<00:00, 10.92it/s]\n"
     ]
    },
    {
     "name": "stdout",
     "output_type": "stream",
     "text": [
      "Loss1: 0.4438, Loss2: 0.2397, Loss3: 1.1452\n"
     ]
    },
    {
     "name": "stderr",
     "output_type": "stream",
     "text": [
      "Test_Loader: 100%|██████████| 288/288 [00:26<00:00, 10.71it/s]\n"
     ]
    },
    {
     "name": "stdout",
     "output_type": "stream",
     "text": [
      "Loss1: 0.4439, Loss2: 0.2424, Loss3: 1.1173\n"
     ]
    },
    {
     "name": "stderr",
     "output_type": "stream",
     "text": [
      "Test_Loader: 100%|██████████| 288/288 [00:27<00:00, 10.62it/s]\n"
     ]
    },
    {
     "name": "stdout",
     "output_type": "stream",
     "text": [
      "Loss1: 0.4455, Loss2: 0.2372, Loss3: 1.1343\n"
     ]
    },
    {
     "name": "stderr",
     "output_type": "stream",
     "text": [
      "Test_Loader: 100%|██████████| 288/288 [00:27<00:00, 10.62it/s]\n"
     ]
    },
    {
     "name": "stdout",
     "output_type": "stream",
     "text": [
      "Loss1: 0.4386, Loss2: 0.2378, Loss3: 1.1200\n"
     ]
    },
    {
     "name": "stderr",
     "output_type": "stream",
     "text": [
      "Test_Loader: 100%|██████████| 288/288 [00:26<00:00, 10.74it/s]\n"
     ]
    },
    {
     "name": "stdout",
     "output_type": "stream",
     "text": [
      "Loss1: 0.4492, Loss2: 0.2373, Loss3: 1.1066\n"
     ]
    },
    {
     "name": "stderr",
     "output_type": "stream",
     "text": [
      "Test_Loader: 100%|██████████| 288/288 [00:26<00:00, 11.05it/s]\n"
     ]
    },
    {
     "name": "stdout",
     "output_type": "stream",
     "text": [
      "Loss1: 0.4373, Loss2: 0.2342, Loss3: 1.1032\n"
     ]
    },
    {
     "name": "stderr",
     "output_type": "stream",
     "text": [
      "Test_Loader: 100%|██████████| 288/288 [00:25<00:00, 11.20it/s]\n"
     ]
    },
    {
     "name": "stdout",
     "output_type": "stream",
     "text": [
      "Loss1: 0.4410, Loss2: 0.2360, Loss3: 1.0809\n"
     ]
    },
    {
     "name": "stderr",
     "output_type": "stream",
     "text": [
      "Test_Loader: 100%|██████████| 288/288 [00:25<00:00, 11.18it/s]\n"
     ]
    },
    {
     "name": "stdout",
     "output_type": "stream",
     "text": [
      "Loss1: 0.4552, Loss2: 0.2360, Loss3: 1.0956\n"
     ]
    },
    {
     "name": "stderr",
     "output_type": "stream",
     "text": [
      "Test_Loader: 100%|██████████| 288/288 [00:26<00:00, 10.69it/s]\n"
     ]
    },
    {
     "name": "stdout",
     "output_type": "stream",
     "text": [
      "Loss1: 0.4438, Loss2: 0.2421, Loss3: 1.0910\n"
     ]
    },
    {
     "name": "stderr",
     "output_type": "stream",
     "text": [
      "Test_Loader: 100%|██████████| 288/288 [00:28<00:00, 10.09it/s]\n"
     ]
    },
    {
     "name": "stdout",
     "output_type": "stream",
     "text": [
      "Loss1: 0.4616, Loss2: 0.2414, Loss3: 1.0897\n"
     ]
    },
    {
     "name": "stderr",
     "output_type": "stream",
     "text": [
      "Test_Loader: 100%|██████████| 288/288 [00:27<00:00, 10.52it/s]\n"
     ]
    },
    {
     "name": "stdout",
     "output_type": "stream",
     "text": [
      "Loss1: 0.4303, Loss2: 0.2216, Loss3: 0.9763\n"
     ]
    },
    {
     "name": "stderr",
     "output_type": "stream",
     "text": [
      "Test_Loader: 100%|██████████| 288/288 [00:25<00:00, 11.10it/s]\n"
     ]
    },
    {
     "name": "stdout",
     "output_type": "stream",
     "text": [
      "Loss1: 0.4419, Loss2: 0.2237, Loss3: 0.9650\n"
     ]
    },
    {
     "name": "stderr",
     "output_type": "stream",
     "text": [
      "Test_Loader: 100%|██████████| 288/288 [00:26<00:00, 11.06it/s]\n"
     ]
    },
    {
     "name": "stdout",
     "output_type": "stream",
     "text": [
      "Loss1: 0.4107, Loss2: 0.2198, Loss3: 0.9824\n"
     ]
    },
    {
     "name": "stderr",
     "output_type": "stream",
     "text": [
      "Test_Loader: 100%|██████████| 288/288 [00:26<00:00, 10.98it/s]\n"
     ]
    },
    {
     "name": "stdout",
     "output_type": "stream",
     "text": [
      "Loss1: 0.4170, Loss2: 0.2202, Loss3: 0.9795\n"
     ]
    },
    {
     "name": "stderr",
     "output_type": "stream",
     "text": [
      "Test_Loader: 100%|██████████| 288/288 [00:26<00:00, 10.88it/s]\n"
     ]
    },
    {
     "name": "stdout",
     "output_type": "stream",
     "text": [
      "Loss1: 0.4080, Loss2: 0.2193, Loss3: 0.9601\n"
     ]
    },
    {
     "name": "stderr",
     "output_type": "stream",
     "text": [
      "Test_Loader: 100%|██████████| 288/288 [00:26<00:00, 10.84it/s]\n"
     ]
    },
    {
     "name": "stdout",
     "output_type": "stream",
     "text": [
      "Loss1: 0.4041, Loss2: 0.1820, Loss3: 0.8379\n"
     ]
    },
    {
     "name": "stderr",
     "output_type": "stream",
     "text": [
      "Test_Loader: 100%|██████████| 288/288 [00:26<00:00, 11.02it/s]\n"
     ]
    },
    {
     "name": "stdout",
     "output_type": "stream",
     "text": [
      "Loss1: 0.4181, Loss2: 0.1978, Loss3: 0.9053\n"
     ]
    },
    {
     "name": "stderr",
     "output_type": "stream",
     "text": [
      "Test_Loader: 100%|██████████| 288/288 [00:26<00:00, 11.06it/s]\n"
     ]
    },
    {
     "name": "stdout",
     "output_type": "stream",
     "text": [
      "Loss1: 0.4126, Loss2: 0.1955, Loss3: 0.8967\n"
     ]
    },
    {
     "name": "stderr",
     "output_type": "stream",
     "text": [
      "Test_Loader: 100%|██████████| 288/288 [00:25<00:00, 11.14it/s]\n"
     ]
    },
    {
     "name": "stdout",
     "output_type": "stream",
     "text": [
      "Loss1: 0.4017, Loss2: 0.1846, Loss3: 0.8797\n"
     ]
    },
    {
     "name": "stderr",
     "output_type": "stream",
     "text": [
      "Test_Loader: 100%|██████████| 288/288 [00:26<00:00, 11.05it/s]\n"
     ]
    },
    {
     "name": "stdout",
     "output_type": "stream",
     "text": [
      "Loss1: 0.4033, Loss2: 0.1911, Loss3: 0.8604\n"
     ]
    },
    {
     "name": "stderr",
     "output_type": "stream",
     "text": [
      "Test_Loader: 100%|██████████| 288/288 [00:26<00:00, 10.82it/s]\n"
     ]
    },
    {
     "name": "stdout",
     "output_type": "stream",
     "text": [
      "Loss1: 0.4218, Loss2: 0.1979, Loss3: 0.8791\n"
     ]
    },
    {
     "name": "stderr",
     "output_type": "stream",
     "text": [
      "Test_Loader: 100%|██████████| 288/288 [00:26<00:00, 10.84it/s]\n"
     ]
    },
    {
     "name": "stdout",
     "output_type": "stream",
     "text": [
      "Loss1: 0.4125, Loss2: 0.1935, Loss3: 0.9004\n"
     ]
    },
    {
     "name": "stderr",
     "output_type": "stream",
     "text": [
      "Test_Loader: 100%|██████████| 288/288 [00:26<00:00, 11.04it/s]\n"
     ]
    },
    {
     "name": "stdout",
     "output_type": "stream",
     "text": [
      "Loss1: 0.4210, Loss2: 0.2011, Loss3: 0.9074\n"
     ]
    },
    {
     "name": "stderr",
     "output_type": "stream",
     "text": [
      "Test_Loader: 100%|██████████| 288/288 [00:28<00:00, 10.11it/s]\n"
     ]
    },
    {
     "name": "stdout",
     "output_type": "stream",
     "text": [
      "Loss1: 0.4490, Loss2: 0.2023, Loss3: 0.9310\n"
     ]
    },
    {
     "name": "stderr",
     "output_type": "stream",
     "text": [
      "Test_Loader: 100%|██████████| 288/288 [00:26<00:00, 11.03it/s]\n"
     ]
    },
    {
     "name": "stdout",
     "output_type": "stream",
     "text": [
      "Loss1: 0.4326, Loss2: 0.2032, Loss3: 0.9639\n"
     ]
    },
    {
     "name": "stderr",
     "output_type": "stream",
     "text": [
      "Test_Loader: 100%|██████████| 288/288 [00:26<00:00, 11.03it/s]\n"
     ]
    },
    {
     "name": "stdout",
     "output_type": "stream",
     "text": [
      "Loss1: 0.4645, Loss2: 0.2062, Loss3: 0.9619\n"
     ]
    },
    {
     "name": "stderr",
     "output_type": "stream",
     "text": [
      "Test_Loader: 100%|██████████| 288/288 [00:26<00:00, 10.98it/s]\n"
     ]
    },
    {
     "name": "stdout",
     "output_type": "stream",
     "text": [
      "Loss1: 0.4300, Loss2: 0.2108, Loss3: 0.9560\n"
     ]
    },
    {
     "name": "stderr",
     "output_type": "stream",
     "text": [
      "Test_Loader: 100%|██████████| 288/288 [00:26<00:00, 10.91it/s]\n"
     ]
    },
    {
     "name": "stdout",
     "output_type": "stream",
     "text": [
      "Loss1: 0.4593, Loss2: 0.2042, Loss3: 0.9974\n"
     ]
    },
    {
     "name": "stderr",
     "output_type": "stream",
     "text": [
      "Test_Loader: 100%|██████████| 288/288 [00:26<00:00, 10.71it/s]\n"
     ]
    },
    {
     "name": "stdout",
     "output_type": "stream",
     "text": [
      "Loss1: 0.4490, Loss2: 0.2015, Loss3: 1.0507\n"
     ]
    },
    {
     "name": "stderr",
     "output_type": "stream",
     "text": [
      "Test_Loader: 100%|██████████| 288/288 [00:26<00:00, 10.70it/s]\n"
     ]
    },
    {
     "name": "stdout",
     "output_type": "stream",
     "text": [
      "Loss1: 0.4861, Loss2: 0.2404, Loss3: 1.0767\n"
     ]
    },
    {
     "name": "stderr",
     "output_type": "stream",
     "text": [
      "Test_Loader: 100%|██████████| 288/288 [00:26<00:00, 10.80it/s]\n"
     ]
    },
    {
     "name": "stdout",
     "output_type": "stream",
     "text": [
      "Loss1: 0.4892, Loss2: 0.2449, Loss3: 1.1081\n"
     ]
    },
    {
     "name": "stderr",
     "output_type": "stream",
     "text": [
      "Test_Loader: 100%|██████████| 288/288 [00:26<00:00, 10.82it/s]\n"
     ]
    },
    {
     "name": "stdout",
     "output_type": "stream",
     "text": [
      "Loss1: 0.4926, Loss2: 0.2542, Loss3: 1.0655\n"
     ]
    },
    {
     "name": "stderr",
     "output_type": "stream",
     "text": [
      "Test_Loader: 100%|██████████| 288/288 [00:26<00:00, 10.91it/s]\n"
     ]
    },
    {
     "name": "stdout",
     "output_type": "stream",
     "text": [
      "Loss1: 0.4685, Loss2: 0.2318, Loss3: 1.0520\n"
     ]
    },
    {
     "name": "stderr",
     "output_type": "stream",
     "text": [
      "Test_Loader: 100%|██████████| 288/288 [00:26<00:00, 10.89it/s]\n"
     ]
    },
    {
     "name": "stdout",
     "output_type": "stream",
     "text": [
      "Loss1: 0.4802, Loss2: 0.2427, Loss3: 1.0496\n"
     ]
    },
    {
     "name": "stderr",
     "output_type": "stream",
     "text": [
      "Test_Loader: 100%|██████████| 288/288 [00:26<00:00, 10.83it/s]\n"
     ]
    },
    {
     "name": "stdout",
     "output_type": "stream",
     "text": [
      "Loss1: 0.4908, Loss2: 0.2367, Loss3: 1.0284\n"
     ]
    },
    {
     "name": "stderr",
     "output_type": "stream",
     "text": [
      "Test_Loader: 100%|██████████| 288/288 [00:26<00:00, 10.85it/s]\n"
     ]
    },
    {
     "name": "stdout",
     "output_type": "stream",
     "text": [
      "Loss1: 0.5010, Loss2: 0.2437, Loss3: 1.0139\n"
     ]
    },
    {
     "name": "stderr",
     "output_type": "stream",
     "text": [
      "Test_Loader: 100%|██████████| 288/288 [00:26<00:00, 10.83it/s]\n"
     ]
    },
    {
     "name": "stdout",
     "output_type": "stream",
     "text": [
      "Loss1: 0.5019, Loss2: 0.2602, Loss3: 1.1819\n"
     ]
    },
    {
     "name": "stderr",
     "output_type": "stream",
     "text": [
      "Test_Loader: 100%|██████████| 288/288 [00:26<00:00, 10.91it/s]\n"
     ]
    },
    {
     "name": "stdout",
     "output_type": "stream",
     "text": [
      "Loss1: 0.6160, Loss2: 0.3003, Loss3: 1.2965\n"
     ]
    },
    {
     "name": "stderr",
     "output_type": "stream",
     "text": [
      "Test_Loader: 100%|██████████| 288/288 [00:26<00:00, 11.06it/s]\n"
     ]
    },
    {
     "name": "stdout",
     "output_type": "stream",
     "text": [
      "Loss1: 0.5947, Loss2: 0.2913, Loss3: 1.2124\n"
     ]
    },
    {
     "name": "stderr",
     "output_type": "stream",
     "text": [
      "Test_Loader: 100%|██████████| 288/288 [00:25<00:00, 11.26it/s]\n"
     ]
    },
    {
     "name": "stdout",
     "output_type": "stream",
     "text": [
      "Loss1: 0.5762, Loss2: 0.3085, Loss3: 1.2110\n"
     ]
    },
    {
     "name": "stderr",
     "output_type": "stream",
     "text": [
      "Test_Loader: 100%|██████████| 288/288 [00:26<00:00, 11.01it/s]\n"
     ]
    },
    {
     "name": "stdout",
     "output_type": "stream",
     "text": [
      "Loss1: 0.5847, Loss2: 0.2926, Loss3: 1.1607\n"
     ]
    },
    {
     "name": "stderr",
     "output_type": "stream",
     "text": [
      "Test_Loader: 100%|██████████| 288/288 [00:26<00:00, 10.79it/s]\n"
     ]
    },
    {
     "name": "stdout",
     "output_type": "stream",
     "text": [
      "Loss1: 0.5939, Loss2: 0.2807, Loss3: 1.1440\n"
     ]
    },
    {
     "name": "stderr",
     "output_type": "stream",
     "text": [
      "Test_Loader: 100%|██████████| 288/288 [00:26<00:00, 10.78it/s]\n"
     ]
    },
    {
     "name": "stdout",
     "output_type": "stream",
     "text": [
      "Loss1: 0.5641, Loss2: 0.2714, Loss3: 1.1350\n"
     ]
    },
    {
     "name": "stderr",
     "output_type": "stream",
     "text": [
      "Test_Loader: 100%|██████████| 288/288 [00:26<00:00, 10.83it/s]\n"
     ]
    },
    {
     "name": "stdout",
     "output_type": "stream",
     "text": [
      "Loss1: 0.5425, Loss2: 0.2670, Loss3: 1.0783\n"
     ]
    },
    {
     "name": "stderr",
     "output_type": "stream",
     "text": [
      "Test_Loader: 100%|██████████| 288/288 [00:26<00:00, 10.85it/s]\n"
     ]
    },
    {
     "name": "stdout",
     "output_type": "stream",
     "text": [
      "Loss1: 0.5482, Loss2: 0.2646, Loss3: 1.0915\n"
     ]
    },
    {
     "name": "stderr",
     "output_type": "stream",
     "text": [
      "Test_Loader: 100%|██████████| 288/288 [00:26<00:00, 10.77it/s]\n"
     ]
    },
    {
     "name": "stdout",
     "output_type": "stream",
     "text": [
      "Loss1: 0.5564, Loss2: 0.2728, Loss3: 1.0687\n"
     ]
    },
    {
     "name": "stderr",
     "output_type": "stream",
     "text": [
      "Test_Loader: 100%|██████████| 288/288 [00:26<00:00, 10.94it/s]\n"
     ]
    },
    {
     "name": "stdout",
     "output_type": "stream",
     "text": [
      "Loss1: 0.5562, Loss2: 0.2620, Loss3: 1.1017\n"
     ]
    },
    {
     "name": "stderr",
     "output_type": "stream",
     "text": [
      "Test_Loader: 100%|██████████| 288/288 [00:25<00:00, 11.16it/s]\n"
     ]
    },
    {
     "name": "stdout",
     "output_type": "stream",
     "text": [
      "Loss1: 0.5398, Loss2: 0.2635, Loss3: 1.0359\n"
     ]
    },
    {
     "name": "stderr",
     "output_type": "stream",
     "text": [
      "Test_Loader: 100%|██████████| 288/288 [00:26<00:00, 10.93it/s]\n"
     ]
    },
    {
     "name": "stdout",
     "output_type": "stream",
     "text": [
      "Loss1: 0.5093, Loss2: 0.2665, Loss3: 1.0178\n"
     ]
    },
    {
     "name": "stderr",
     "output_type": "stream",
     "text": [
      "Test_Loader: 100%|██████████| 288/288 [00:25<00:00, 11.27it/s]\n"
     ]
    },
    {
     "name": "stdout",
     "output_type": "stream",
     "text": [
      "Loss1: 0.5492, Loss2: 0.2512, Loss3: 1.0267\n"
     ]
    },
    {
     "name": "stderr",
     "output_type": "stream",
     "text": [
      "Test_Loader: 100%|██████████| 288/288 [00:27<00:00, 10.34it/s]\n"
     ]
    },
    {
     "name": "stdout",
     "output_type": "stream",
     "text": [
      "Loss1: 0.5303, Loss2: 0.2455, Loss3: 1.0004\n"
     ]
    },
    {
     "name": "stderr",
     "output_type": "stream",
     "text": [
      "Test_Loader: 100%|██████████| 288/288 [00:26<00:00, 10.93it/s]\n"
     ]
    },
    {
     "name": "stdout",
     "output_type": "stream",
     "text": [
      "Loss1: 0.5020, Loss2: 0.2664, Loss3: 1.0026\n"
     ]
    },
    {
     "name": "stderr",
     "output_type": "stream",
     "text": [
      "Test_Loader: 100%|██████████| 288/288 [00:26<00:00, 11.04it/s]\n"
     ]
    },
    {
     "name": "stdout",
     "output_type": "stream",
     "text": [
      "Loss1: 0.5484, Loss2: 0.2426, Loss3: 0.9695\n"
     ]
    },
    {
     "name": "stderr",
     "output_type": "stream",
     "text": [
      "Test_Loader: 100%|██████████| 288/288 [00:25<00:00, 11.10it/s]\n"
     ]
    },
    {
     "name": "stdout",
     "output_type": "stream",
     "text": [
      "Loss1: 0.5225, Loss2: 0.2652, Loss3: 1.0177\n"
     ]
    },
    {
     "name": "stderr",
     "output_type": "stream",
     "text": [
      "Test_Loader: 100%|██████████| 288/288 [00:26<00:00, 10.95it/s]\n"
     ]
    },
    {
     "name": "stdout",
     "output_type": "stream",
     "text": [
      "Loss1: 0.5468, Loss2: 0.2507, Loss3: 0.9928\n"
     ]
    },
    {
     "name": "stderr",
     "output_type": "stream",
     "text": [
      "Test_Loader: 100%|██████████| 288/288 [00:26<00:00, 10.77it/s]\n"
     ]
    },
    {
     "name": "stdout",
     "output_type": "stream",
     "text": [
      "Loss1: 0.5223, Loss2: 0.2682, Loss3: 0.9940\n"
     ]
    },
    {
     "name": "stderr",
     "output_type": "stream",
     "text": [
      "Test_Loader: 100%|██████████| 288/288 [00:26<00:00, 10.72it/s]\n"
     ]
    },
    {
     "name": "stdout",
     "output_type": "stream",
     "text": [
      "Loss1: 0.5454, Loss2: 0.2472, Loss3: 0.9965\n"
     ]
    },
    {
     "name": "stderr",
     "output_type": "stream",
     "text": [
      "Test_Loader: 100%|██████████| 288/288 [00:26<00:00, 10.74it/s]\n"
     ]
    },
    {
     "name": "stdout",
     "output_type": "stream",
     "text": [
      "Loss1: 0.5207, Loss2: 0.2436, Loss3: 1.0022\n"
     ]
    },
    {
     "name": "stderr",
     "output_type": "stream",
     "text": [
      "Test_Loader: 100%|██████████| 288/288 [00:26<00:00, 10.72it/s]\n"
     ]
    },
    {
     "name": "stdout",
     "output_type": "stream",
     "text": [
      "Loss1: 0.5270, Loss2: 0.2495, Loss3: 0.9722\n"
     ]
    },
    {
     "name": "stderr",
     "output_type": "stream",
     "text": [
      "Test_Loader: 100%|██████████| 288/288 [00:26<00:00, 10.80it/s]\n"
     ]
    },
    {
     "name": "stdout",
     "output_type": "stream",
     "text": [
      "Loss1: 0.5095, Loss2: 0.2641, Loss3: 0.9824\n"
     ]
    },
    {
     "name": "stderr",
     "output_type": "stream",
     "text": [
      "Test_Loader: 100%|██████████| 288/288 [00:26<00:00, 10.72it/s]\n"
     ]
    },
    {
     "name": "stdout",
     "output_type": "stream",
     "text": [
      "Loss1: 0.5053, Loss2: 0.2447, Loss3: 0.9664\n"
     ]
    },
    {
     "name": "stderr",
     "output_type": "stream",
     "text": [
      "Test_Loader: 100%|██████████| 288/288 [00:26<00:00, 10.75it/s]\n"
     ]
    },
    {
     "name": "stdout",
     "output_type": "stream",
     "text": [
      "Loss1: 0.5240, Loss2: 0.2474, Loss3: 0.9809\n"
     ]
    },
    {
     "name": "stderr",
     "output_type": "stream",
     "text": [
      "Test_Loader: 100%|██████████| 288/288 [00:26<00:00, 10.86it/s]\n"
     ]
    },
    {
     "name": "stdout",
     "output_type": "stream",
     "text": [
      "Loss1: 0.5150, Loss2: 0.2453, Loss3: 0.9769\n"
     ]
    },
    {
     "name": "stderr",
     "output_type": "stream",
     "text": [
      "Test_Loader: 100%|██████████| 288/288 [00:28<00:00, 10.18it/s]\n"
     ]
    },
    {
     "name": "stdout",
     "output_type": "stream",
     "text": [
      "Loss1: 0.4894, Loss2: 0.2491, Loss3: 0.9780\n"
     ]
    },
    {
     "name": "stderr",
     "output_type": "stream",
     "text": [
      "Test_Loader: 100%|██████████| 288/288 [00:29<00:00,  9.87it/s]\n"
     ]
    },
    {
     "name": "stdout",
     "output_type": "stream",
     "text": [
      "Loss1: 0.5349, Loss2: 0.2404, Loss3: 0.9844\n"
     ]
    },
    {
     "name": "stderr",
     "output_type": "stream",
     "text": [
      "Test_Loader: 100%|██████████| 288/288 [00:26<00:00, 11.02it/s]\n"
     ]
    },
    {
     "name": "stdout",
     "output_type": "stream",
     "text": [
      "Loss1: 0.5166, Loss2: 0.2397, Loss3: 0.9539\n"
     ]
    },
    {
     "name": "stderr",
     "output_type": "stream",
     "text": [
      "Test_Loader: 100%|██████████| 288/288 [00:26<00:00, 10.91it/s]\n"
     ]
    },
    {
     "name": "stdout",
     "output_type": "stream",
     "text": [
      "Loss1: 0.5157, Loss2: 0.2472, Loss3: 0.9628\n"
     ]
    },
    {
     "name": "stderr",
     "output_type": "stream",
     "text": [
      "Test_Loader: 100%|██████████| 288/288 [00:26<00:00, 10.70it/s]\n"
     ]
    },
    {
     "name": "stdout",
     "output_type": "stream",
     "text": [
      "Loss1: 0.4864, Loss2: 0.2383, Loss3: 0.9384\n"
     ]
    },
    {
     "name": "stderr",
     "output_type": "stream",
     "text": [
      "Test_Loader: 100%|██████████| 288/288 [00:27<00:00, 10.54it/s]\n"
     ]
    },
    {
     "name": "stdout",
     "output_type": "stream",
     "text": [
      "Loss1: 0.4925, Loss2: 0.2375, Loss3: 0.9196\n"
     ]
    },
    {
     "name": "stderr",
     "output_type": "stream",
     "text": [
      "Test_Loader: 100%|██████████| 288/288 [00:26<00:00, 10.80it/s]\n"
     ]
    },
    {
     "name": "stdout",
     "output_type": "stream",
     "text": [
      "Loss1: 0.4865, Loss2: 0.2357, Loss3: 0.9082\n"
     ]
    },
    {
     "name": "stderr",
     "output_type": "stream",
     "text": [
      "Test_Loader: 100%|██████████| 288/288 [00:26<00:00, 10.81it/s]\n"
     ]
    },
    {
     "name": "stdout",
     "output_type": "stream",
     "text": [
      "Loss1: 0.4906, Loss2: 0.2439, Loss3: 0.9270\n"
     ]
    },
    {
     "name": "stderr",
     "output_type": "stream",
     "text": [
      "Test_Loader: 100%|██████████| 288/288 [00:26<00:00, 10.71it/s]\n"
     ]
    },
    {
     "name": "stdout",
     "output_type": "stream",
     "text": [
      "Loss1: 0.4936, Loss2: 0.2241, Loss3: 0.9121\n"
     ]
    },
    {
     "name": "stderr",
     "output_type": "stream",
     "text": [
      "Test_Loader: 100%|██████████| 288/288 [00:26<00:00, 10.90it/s]\n"
     ]
    },
    {
     "name": "stdout",
     "output_type": "stream",
     "text": [
      "Loss1: 0.4968, Loss2: 0.2287, Loss3: 0.9001\n"
     ]
    },
    {
     "name": "stderr",
     "output_type": "stream",
     "text": [
      "Test_Loader: 100%|██████████| 288/288 [00:26<00:00, 10.91it/s]\n"
     ]
    },
    {
     "name": "stdout",
     "output_type": "stream",
     "text": [
      "Loss1: 0.4892, Loss2: 0.2352, Loss3: 0.9062\n"
     ]
    },
    {
     "name": "stderr",
     "output_type": "stream",
     "text": [
      "Test_Loader: 100%|██████████| 288/288 [00:26<00:00, 10.93it/s]\n"
     ]
    },
    {
     "name": "stdout",
     "output_type": "stream",
     "text": [
      "Loss1: 0.4863, Loss2: 0.2231, Loss3: 0.8911\n"
     ]
    },
    {
     "name": "stderr",
     "output_type": "stream",
     "text": [
      "Test_Loader: 100%|██████████| 288/288 [00:26<00:00, 10.86it/s]\n"
     ]
    },
    {
     "name": "stdout",
     "output_type": "stream",
     "text": [
      "Loss1: 0.5039, Loss2: 0.2200, Loss3: 0.8693\n"
     ]
    },
    {
     "name": "stderr",
     "output_type": "stream",
     "text": [
      "Test_Loader: 100%|██████████| 288/288 [00:29<00:00,  9.66it/s]\n"
     ]
    },
    {
     "name": "stdout",
     "output_type": "stream",
     "text": [
      "Loss1: 0.4859, Loss2: 0.2324, Loss3: 0.8761\n"
     ]
    },
    {
     "name": "stderr",
     "output_type": "stream",
     "text": [
      "Test_Loader: 100%|██████████| 288/288 [00:30<00:00,  9.59it/s]\n"
     ]
    },
    {
     "name": "stdout",
     "output_type": "stream",
     "text": [
      "Loss1: 0.4845, Loss2: 0.2249, Loss3: 0.8888\n"
     ]
    },
    {
     "name": "stderr",
     "output_type": "stream",
     "text": [
      "Test_Loader: 100%|██████████| 288/288 [00:26<00:00, 10.85it/s]\n"
     ]
    },
    {
     "name": "stdout",
     "output_type": "stream",
     "text": [
      "Loss1: 0.5011, Loss2: 0.2280, Loss3: 0.8765\n"
     ]
    },
    {
     "name": "stderr",
     "output_type": "stream",
     "text": [
      "Test_Loader: 100%|██████████| 288/288 [00:26<00:00, 11.04it/s]\n"
     ]
    },
    {
     "name": "stdout",
     "output_type": "stream",
     "text": [
      "Loss1: 0.4777, Loss2: 0.2229, Loss3: 0.8665\n"
     ]
    },
    {
     "name": "stderr",
     "output_type": "stream",
     "text": [
      "Test_Loader: 100%|██████████| 288/288 [00:25<00:00, 11.10it/s]\n"
     ]
    },
    {
     "name": "stdout",
     "output_type": "stream",
     "text": [
      "Loss1: 0.4837, Loss2: 0.2308, Loss3: 0.8664\n"
     ]
    },
    {
     "name": "stderr",
     "output_type": "stream",
     "text": [
      "Test_Loader: 100%|██████████| 288/288 [00:25<00:00, 11.14it/s]\n"
     ]
    },
    {
     "name": "stdout",
     "output_type": "stream",
     "text": [
      "Loss1: 0.4718, Loss2: 0.2199, Loss3: 0.8581\n"
     ]
    },
    {
     "name": "stderr",
     "output_type": "stream",
     "text": [
      "Test_Loader: 100%|██████████| 288/288 [00:26<00:00, 10.80it/s]\n"
     ]
    },
    {
     "name": "stdout",
     "output_type": "stream",
     "text": [
      "Loss1: 0.4962, Loss2: 0.2110, Loss3: 0.8571\n"
     ]
    },
    {
     "name": "stderr",
     "output_type": "stream",
     "text": [
      "Test_Loader: 100%|██████████| 288/288 [00:26<00:00, 10.85it/s]\n"
     ]
    },
    {
     "name": "stdout",
     "output_type": "stream",
     "text": [
      "Loss1: 0.4507, Loss2: 0.2180, Loss3: 0.8345\n"
     ]
    },
    {
     "name": "stderr",
     "output_type": "stream",
     "text": [
      "Test_Loader: 100%|██████████| 288/288 [00:26<00:00, 10.91it/s]\n"
     ]
    },
    {
     "name": "stdout",
     "output_type": "stream",
     "text": [
      "Loss1: 0.4629, Loss2: 0.2205, Loss3: 0.8510\n"
     ]
    },
    {
     "name": "stderr",
     "output_type": "stream",
     "text": [
      "Test_Loader: 100%|██████████| 288/288 [00:26<00:00, 10.98it/s]\n"
     ]
    },
    {
     "name": "stdout",
     "output_type": "stream",
     "text": [
      "Loss1: 0.4876, Loss2: 0.2112, Loss3: 0.8263\n"
     ]
    },
    {
     "name": "stderr",
     "output_type": "stream",
     "text": [
      "Test_Loader: 100%|██████████| 288/288 [00:25<00:00, 11.10it/s]\n"
     ]
    },
    {
     "name": "stdout",
     "output_type": "stream",
     "text": [
      "Loss1: 0.4457, Loss2: 0.2218, Loss3: 0.8268\n"
     ]
    },
    {
     "name": "stderr",
     "output_type": "stream",
     "text": [
      "Test_Loader: 100%|██████████| 288/288 [00:25<00:00, 11.09it/s]\n"
     ]
    },
    {
     "name": "stdout",
     "output_type": "stream",
     "text": [
      "Loss1: 0.4525, Loss2: 0.2148, Loss3: 0.8276\n"
     ]
    },
    {
     "name": "stderr",
     "output_type": "stream",
     "text": [
      "Test_Loader: 100%|██████████| 288/288 [00:26<00:00, 11.00it/s]\n"
     ]
    },
    {
     "name": "stdout",
     "output_type": "stream",
     "text": [
      "Loss1: 0.4485, Loss2: 0.2072, Loss3: 0.7884\n"
     ]
    },
    {
     "name": "stderr",
     "output_type": "stream",
     "text": [
      "Test_Loader: 100%|██████████| 288/288 [00:26<00:00, 10.84it/s]\n"
     ]
    },
    {
     "name": "stdout",
     "output_type": "stream",
     "text": [
      "Loss1: 0.4299, Loss2: 0.2075, Loss3: 0.7999\n"
     ]
    },
    {
     "name": "stderr",
     "output_type": "stream",
     "text": [
      "Test_Loader: 100%|██████████| 288/288 [00:29<00:00,  9.90it/s]\n"
     ]
    },
    {
     "name": "stdout",
     "output_type": "stream",
     "text": [
      "Loss1: 0.4408, Loss2: 0.2064, Loss3: 0.7804\n"
     ]
    },
    {
     "name": "stderr",
     "output_type": "stream",
     "text": [
      "Test_Loader: 100%|██████████| 288/288 [00:26<00:00, 10.67it/s]\n"
     ]
    },
    {
     "name": "stdout",
     "output_type": "stream",
     "text": [
      "Loss1: 0.4435, Loss2: 0.2085, Loss3: 0.7817\n"
     ]
    },
    {
     "name": "stderr",
     "output_type": "stream",
     "text": [
      "Test_Loader: 100%|██████████| 288/288 [00:26<00:00, 10.99it/s]\n"
     ]
    },
    {
     "name": "stdout",
     "output_type": "stream",
     "text": [
      "Loss1: 0.4269, Loss2: 0.2092, Loss3: 0.7888\n"
     ]
    },
    {
     "name": "stderr",
     "output_type": "stream",
     "text": [
      "Test_Loader: 100%|██████████| 288/288 [00:25<00:00, 11.13it/s]\n"
     ]
    },
    {
     "name": "stdout",
     "output_type": "stream",
     "text": [
      "Loss1: 0.4338, Loss2: 0.2034, Loss3: 0.7664\n"
     ]
    },
    {
     "name": "stderr",
     "output_type": "stream",
     "text": [
      "Test_Loader: 100%|██████████| 288/288 [00:26<00:00, 10.88it/s]\n"
     ]
    },
    {
     "name": "stdout",
     "output_type": "stream",
     "text": [
      "Loss1: 0.4340, Loss2: 0.2082, Loss3: 0.7872\n"
     ]
    },
    {
     "name": "stderr",
     "output_type": "stream",
     "text": [
      "Test_Loader: 100%|██████████| 288/288 [00:26<00:00, 11.03it/s]\n"
     ]
    },
    {
     "name": "stdout",
     "output_type": "stream",
     "text": [
      "Loss1: 0.4282, Loss2: 0.2035, Loss3: 0.7402\n"
     ]
    },
    {
     "name": "stderr",
     "output_type": "stream",
     "text": [
      "Test_Loader: 100%|██████████| 288/288 [00:26<00:00, 10.75it/s]\n"
     ]
    },
    {
     "name": "stdout",
     "output_type": "stream",
     "text": [
      "Loss1: 0.4156, Loss2: 0.1984, Loss3: 0.7583\n"
     ]
    },
    {
     "name": "stderr",
     "output_type": "stream",
     "text": [
      "Test_Loader: 100%|██████████| 288/288 [00:26<00:00, 10.74it/s]\n"
     ]
    },
    {
     "name": "stdout",
     "output_type": "stream",
     "text": [
      "Loss1: 0.4305, Loss2: 0.1995, Loss3: 0.7456\n"
     ]
    },
    {
     "name": "stderr",
     "output_type": "stream",
     "text": [
      "Test_Loader: 100%|██████████| 288/288 [00:26<00:00, 10.73it/s]\n"
     ]
    },
    {
     "name": "stdout",
     "output_type": "stream",
     "text": [
      "Loss1: 0.3974, Loss2: 0.2026, Loss3: 0.7359\n"
     ]
    },
    {
     "name": "stderr",
     "output_type": "stream",
     "text": [
      "Test_Loader: 100%|██████████| 288/288 [00:26<00:00, 10.79it/s]\n"
     ]
    },
    {
     "name": "stdout",
     "output_type": "stream",
     "text": [
      "Loss1: 0.4078, Loss2: 0.1991, Loss3: 0.7498\n"
     ]
    },
    {
     "name": "stderr",
     "output_type": "stream",
     "text": [
      "Test_Loader: 100%|██████████| 288/288 [00:26<00:00, 10.81it/s]\n"
     ]
    },
    {
     "name": "stdout",
     "output_type": "stream",
     "text": [
      "Loss1: 0.4213, Loss2: 0.1962, Loss3: 0.7273\n"
     ]
    },
    {
     "name": "stderr",
     "output_type": "stream",
     "text": [
      "Test_Loader: 100%|██████████| 288/288 [00:27<00:00, 10.64it/s]\n"
     ]
    },
    {
     "name": "stdout",
     "output_type": "stream",
     "text": [
      "Loss1: 0.3946, Loss2: 0.2014, Loss3: 0.7352\n"
     ]
    },
    {
     "name": "stderr",
     "output_type": "stream",
     "text": [
      "Test_Loader: 100%|██████████| 288/288 [00:26<00:00, 10.95it/s]\n"
     ]
    },
    {
     "name": "stdout",
     "output_type": "stream",
     "text": [
      "Loss1: 0.4037, Loss2: 0.1925, Loss3: 0.7308\n"
     ]
    },
    {
     "name": "stderr",
     "output_type": "stream",
     "text": [
      "Test_Loader: 100%|██████████| 288/288 [00:28<00:00, 10.05it/s]\n"
     ]
    },
    {
     "name": "stdout",
     "output_type": "stream",
     "text": [
      "Loss1: 0.3819, Loss2: 0.1965, Loss3: 0.7377\n"
     ]
    },
    {
     "name": "stderr",
     "output_type": "stream",
     "text": [
      "Test_Loader: 100%|██████████| 288/288 [00:27<00:00, 10.31it/s]\n"
     ]
    },
    {
     "name": "stdout",
     "output_type": "stream",
     "text": [
      "Loss1: 0.3933, Loss2: 0.1901, Loss3: 0.7242\n"
     ]
    },
    {
     "name": "stderr",
     "output_type": "stream",
     "text": [
      "Test_Loader: 100%|██████████| 288/288 [00:26<00:00, 10.78it/s]\n"
     ]
    },
    {
     "name": "stdout",
     "output_type": "stream",
     "text": [
      "Loss1: 0.3927, Loss2: 0.1920, Loss3: 0.7237\n"
     ]
    },
    {
     "name": "stderr",
     "output_type": "stream",
     "text": [
      "Test_Loader: 100%|██████████| 288/288 [00:26<00:00, 10.87it/s]\n"
     ]
    },
    {
     "name": "stdout",
     "output_type": "stream",
     "text": [
      "Loss1: 0.4137, Loss2: 0.2188, Loss3: 0.7555\n"
     ]
    },
    {
     "name": "stderr",
     "output_type": "stream",
     "text": [
      "Test_Loader: 100%|██████████| 288/288 [00:25<00:00, 11.10it/s]\n"
     ]
    },
    {
     "name": "stdout",
     "output_type": "stream",
     "text": [
      "Loss1: 0.4098, Loss2: 0.2088, Loss3: 0.7454\n"
     ]
    },
    {
     "name": "stderr",
     "output_type": "stream",
     "text": [
      "Test_Loader: 100%|██████████| 288/288 [00:26<00:00, 10.98it/s]\n"
     ]
    },
    {
     "name": "stdout",
     "output_type": "stream",
     "text": [
      "Loss1: 0.4423, Loss2: 0.2451, Loss3: 0.9506\n"
     ]
    },
    {
     "name": "stderr",
     "output_type": "stream",
     "text": [
      "Test_Loader: 100%|██████████| 288/288 [00:26<00:00, 10.70it/s]\n"
     ]
    },
    {
     "name": "stdout",
     "output_type": "stream",
     "text": [
      "Loss1: 0.4851, Loss2: 0.2412, Loss3: 0.9962\n"
     ]
    },
    {
     "name": "stderr",
     "output_type": "stream",
     "text": [
      "Test_Loader: 100%|██████████| 288/288 [00:26<00:00, 10.70it/s]\n"
     ]
    },
    {
     "name": "stdout",
     "output_type": "stream",
     "text": [
      "Loss1: 0.4850, Loss2: 0.2376, Loss3: 0.9652\n"
     ]
    },
    {
     "name": "stderr",
     "output_type": "stream",
     "text": [
      "Test_Loader: 100%|██████████| 288/288 [00:27<00:00, 10.64it/s]\n"
     ]
    },
    {
     "name": "stdout",
     "output_type": "stream",
     "text": [
      "Loss1: 0.4888, Loss2: 0.2420, Loss3: 0.9600\n"
     ]
    },
    {
     "name": "stderr",
     "output_type": "stream",
     "text": [
      "Test_Loader: 100%|██████████| 288/288 [00:27<00:00, 10.53it/s]\n"
     ]
    },
    {
     "name": "stdout",
     "output_type": "stream",
     "text": [
      "Loss1: 0.4866, Loss2: 0.2464, Loss3: 0.9651\n"
     ]
    },
    {
     "name": "stderr",
     "output_type": "stream",
     "text": [
      "Test_Loader: 100%|██████████| 288/288 [00:27<00:00, 10.61it/s]\n"
     ]
    },
    {
     "name": "stdout",
     "output_type": "stream",
     "text": [
      "Loss1: 0.4573, Loss2: 0.2461, Loss3: 0.9483\n"
     ]
    },
    {
     "name": "stderr",
     "output_type": "stream",
     "text": [
      "Test_Loader: 100%|██████████| 288/288 [00:26<00:00, 10.80it/s]\n"
     ]
    },
    {
     "name": "stdout",
     "output_type": "stream",
     "text": [
      "Loss1: 0.4831, Loss2: 0.2413, Loss3: 0.9905\n"
     ]
    },
    {
     "name": "stderr",
     "output_type": "stream",
     "text": [
      "Test_Loader: 100%|██████████| 288/288 [00:25<00:00, 11.18it/s]\n"
     ]
    },
    {
     "name": "stdout",
     "output_type": "stream",
     "text": [
      "Loss1: 0.5716, Loss2: 0.2526, Loss3: 1.1540\n"
     ]
    },
    {
     "name": "stderr",
     "output_type": "stream",
     "text": [
      "Test_Loader: 100%|██████████| 288/288 [00:27<00:00, 10.44it/s]\n"
     ]
    },
    {
     "name": "stdout",
     "output_type": "stream",
     "text": [
      "Loss1: 0.5574, Loss2: 0.2438, Loss3: 1.1226\n"
     ]
    },
    {
     "name": "stderr",
     "output_type": "stream",
     "text": [
      "Test_Loader: 100%|██████████| 288/288 [00:28<00:00, 10.15it/s]\n"
     ]
    },
    {
     "name": "stdout",
     "output_type": "stream",
     "text": [
      "Loss1: 0.5690, Loss2: 0.2543, Loss3: 1.1932\n"
     ]
    },
    {
     "name": "stderr",
     "output_type": "stream",
     "text": [
      "Test_Loader: 100%|██████████| 288/288 [00:26<00:00, 10.91it/s]\n"
     ]
    },
    {
     "name": "stdout",
     "output_type": "stream",
     "text": [
      "Loss1: 0.5573, Loss2: 0.2323, Loss3: 1.0815\n"
     ]
    },
    {
     "name": "stderr",
     "output_type": "stream",
     "text": [
      "Test_Loader: 100%|██████████| 288/288 [00:26<00:00, 10.96it/s]\n"
     ]
    },
    {
     "name": "stdout",
     "output_type": "stream",
     "text": [
      "Loss1: 0.5734, Loss2: 0.2362, Loss3: 1.0754\n"
     ]
    },
    {
     "name": "stderr",
     "output_type": "stream",
     "text": [
      "Test_Loader: 100%|██████████| 288/288 [00:26<00:00, 10.73it/s]\n"
     ]
    },
    {
     "name": "stdout",
     "output_type": "stream",
     "text": [
      "Loss1: 0.5514, Loss2: 0.2276, Loss3: 1.0226\n"
     ]
    },
    {
     "name": "stderr",
     "output_type": "stream",
     "text": [
      "Test_Loader: 100%|██████████| 288/288 [00:26<00:00, 10.96it/s]\n"
     ]
    },
    {
     "name": "stdout",
     "output_type": "stream",
     "text": [
      "Loss1: 0.5607, Loss2: 0.2285, Loss3: 1.1400\n"
     ]
    },
    {
     "name": "stderr",
     "output_type": "stream",
     "text": [
      "Test_Loader: 100%|██████████| 288/288 [00:26<00:00, 10.90it/s]\n"
     ]
    },
    {
     "name": "stdout",
     "output_type": "stream",
     "text": [
      "Loss1: 0.5632, Loss2: 0.2295, Loss3: 1.0859\n"
     ]
    },
    {
     "name": "stderr",
     "output_type": "stream",
     "text": [
      "Test_Loader: 100%|██████████| 288/288 [00:26<00:00, 10.83it/s]\n"
     ]
    },
    {
     "name": "stdout",
     "output_type": "stream",
     "text": [
      "Loss1: 0.5700, Loss2: 0.2327, Loss3: 1.0348\n"
     ]
    },
    {
     "name": "stderr",
     "output_type": "stream",
     "text": [
      "Test_Loader: 100%|██████████| 288/288 [00:26<00:00, 10.69it/s]\n"
     ]
    },
    {
     "name": "stdout",
     "output_type": "stream",
     "text": [
      "Loss1: 0.6108, Loss2: 0.2315, Loss3: 1.1479\n"
     ]
    },
    {
     "name": "stderr",
     "output_type": "stream",
     "text": [
      "Test_Loader: 100%|██████████| 288/288 [00:26<00:00, 10.70it/s]\n"
     ]
    },
    {
     "name": "stdout",
     "output_type": "stream",
     "text": [
      "Loss1: 0.5874, Loss2: 0.2205, Loss3: 1.1180\n"
     ]
    },
    {
     "name": "stderr",
     "output_type": "stream",
     "text": [
      "Test_Loader: 100%|██████████| 288/288 [00:26<00:00, 10.78it/s]\n"
     ]
    },
    {
     "name": "stdout",
     "output_type": "stream",
     "text": [
      "Loss1: 0.5935, Loss2: 0.2150, Loss3: 1.1629\n"
     ]
    },
    {
     "name": "stderr",
     "output_type": "stream",
     "text": [
      "Test_Loader: 100%|██████████| 288/288 [00:26<00:00, 10.72it/s]\n"
     ]
    },
    {
     "name": "stdout",
     "output_type": "stream",
     "text": [
      "Loss1: 0.5697, Loss2: 0.2040, Loss3: 1.0287\n"
     ]
    },
    {
     "name": "stderr",
     "output_type": "stream",
     "text": [
      "Test_Loader: 100%|██████████| 288/288 [00:26<00:00, 10.71it/s]\n"
     ]
    },
    {
     "name": "stdout",
     "output_type": "stream",
     "text": [
      "Loss1: 0.5516, Loss2: 0.2012, Loss3: 1.0335\n"
     ]
    },
    {
     "name": "stderr",
     "output_type": "stream",
     "text": [
      "Test_Loader: 100%|██████████| 288/288 [00:26<00:00, 10.88it/s]\n"
     ]
    },
    {
     "name": "stdout",
     "output_type": "stream",
     "text": [
      "Loss1: 0.5676, Loss2: 0.1999, Loss3: 1.0947\n"
     ]
    },
    {
     "name": "stderr",
     "output_type": "stream",
     "text": [
      "Test_Loader: 100%|██████████| 288/288 [00:28<00:00, 10.09it/s]\n"
     ]
    },
    {
     "name": "stdout",
     "output_type": "stream",
     "text": [
      "Loss1: 0.5878, Loss2: 0.2075, Loss3: 1.1846\n"
     ]
    },
    {
     "name": "stderr",
     "output_type": "stream",
     "text": [
      "Test_Loader: 100%|██████████| 288/288 [00:29<00:00,  9.87it/s]\n"
     ]
    },
    {
     "name": "stdout",
     "output_type": "stream",
     "text": [
      "Loss1: 0.6738, Loss2: 0.2312, Loss3: 1.2662\n"
     ]
    },
    {
     "name": "stderr",
     "output_type": "stream",
     "text": [
      "Test_Loader: 100%|██████████| 288/288 [00:26<00:00, 10.97it/s]\n"
     ]
    },
    {
     "name": "stdout",
     "output_type": "stream",
     "text": [
      "Loss1: 0.6458, Loss2: 0.2185, Loss3: 1.1293\n"
     ]
    },
    {
     "name": "stderr",
     "output_type": "stream",
     "text": [
      "Test_Loader: 100%|██████████| 288/288 [00:26<00:00, 10.89it/s]\n"
     ]
    },
    {
     "name": "stdout",
     "output_type": "stream",
     "text": [
      "Loss1: 0.6349, Loss2: 0.2146, Loss3: 1.2062\n"
     ]
    },
    {
     "name": "stderr",
     "output_type": "stream",
     "text": [
      "Test_Loader: 100%|██████████| 288/288 [00:26<00:00, 10.72it/s]\n"
     ]
    },
    {
     "name": "stdout",
     "output_type": "stream",
     "text": [
      "Loss1: 0.5968, Loss2: 0.2083, Loss3: 1.0572\n"
     ]
    },
    {
     "name": "stderr",
     "output_type": "stream",
     "text": [
      "Test_Loader: 100%|██████████| 288/288 [00:26<00:00, 10.76it/s]\n"
     ]
    },
    {
     "name": "stdout",
     "output_type": "stream",
     "text": [
      "Loss1: 0.6114, Loss2: 0.2022, Loss3: 1.0229\n"
     ]
    },
    {
     "name": "stderr",
     "output_type": "stream",
     "text": [
      "Test_Loader: 100%|██████████| 288/288 [00:26<00:00, 10.91it/s]\n"
     ]
    },
    {
     "name": "stdout",
     "output_type": "stream",
     "text": [
      "Loss1: 0.5802, Loss2: 0.1984, Loss3: 1.0086\n"
     ]
    },
    {
     "name": "stderr",
     "output_type": "stream",
     "text": [
      "Test_Loader: 100%|██████████| 288/288 [00:26<00:00, 10.73it/s]\n"
     ]
    },
    {
     "name": "stdout",
     "output_type": "stream",
     "text": [
      "Loss1: 0.6038, Loss2: 0.2127, Loss3: 1.0651\n"
     ]
    },
    {
     "name": "stderr",
     "output_type": "stream",
     "text": [
      "Test_Loader: 100%|██████████| 288/288 [00:26<00:00, 10.76it/s]\n"
     ]
    },
    {
     "name": "stdout",
     "output_type": "stream",
     "text": [
      "Loss1: 0.5807, Loss2: 0.2059, Loss3: 0.9803\n"
     ]
    },
    {
     "name": "stderr",
     "output_type": "stream",
     "text": [
      "Test_Loader: 100%|██████████| 288/288 [00:27<00:00, 10.60it/s]\n"
     ]
    },
    {
     "name": "stdout",
     "output_type": "stream",
     "text": [
      "Loss1: 0.5809, Loss2: 0.2044, Loss3: 0.9501\n"
     ]
    },
    {
     "name": "stderr",
     "output_type": "stream",
     "text": [
      "Test_Loader: 100%|██████████| 288/288 [00:26<00:00, 10.78it/s]\n"
     ]
    },
    {
     "name": "stdout",
     "output_type": "stream",
     "text": [
      "Loss1: 0.5660, Loss2: 0.1991, Loss3: 0.9571\n"
     ]
    },
    {
     "name": "stderr",
     "output_type": "stream",
     "text": [
      "Test_Loader: 100%|██████████| 288/288 [00:26<00:00, 10.76it/s]\n"
     ]
    },
    {
     "name": "stdout",
     "output_type": "stream",
     "text": [
      "Loss1: 0.5786, Loss2: 0.2025, Loss3: 1.0113\n"
     ]
    },
    {
     "name": "stderr",
     "output_type": "stream",
     "text": [
      "Test_Loader: 100%|██████████| 288/288 [00:26<00:00, 11.05it/s]\n"
     ]
    },
    {
     "name": "stdout",
     "output_type": "stream",
     "text": [
      "Loss1: 0.5632, Loss2: 0.2001, Loss3: 0.9529\n"
     ]
    },
    {
     "name": "stderr",
     "output_type": "stream",
     "text": [
      "Test_Loader: 100%|██████████| 288/288 [00:28<00:00, 10.03it/s]\n"
     ]
    },
    {
     "name": "stdout",
     "output_type": "stream",
     "text": [
      "Loss1: 0.5502, Loss2: 0.1941, Loss3: 0.8804\n"
     ]
    },
    {
     "name": "stderr",
     "output_type": "stream",
     "text": [
      "Test_Loader: 100%|██████████| 288/288 [00:28<00:00, 10.06it/s]\n"
     ]
    },
    {
     "name": "stdout",
     "output_type": "stream",
     "text": [
      "Loss1: 0.5459, Loss2: 0.2055, Loss3: 0.9737\n"
     ]
    },
    {
     "name": "stderr",
     "output_type": "stream",
     "text": [
      "Test_Loader: 100%|██████████| 288/288 [00:26<00:00, 10.85it/s]\n"
     ]
    },
    {
     "name": "stdout",
     "output_type": "stream",
     "text": [
      "Loss1: 0.5538, Loss2: 0.2041, Loss3: 0.9580\n"
     ]
    },
    {
     "name": "stderr",
     "output_type": "stream",
     "text": [
      "Test_Loader: 100%|██████████| 288/288 [00:25<00:00, 11.33it/s]\n"
     ]
    },
    {
     "name": "stdout",
     "output_type": "stream",
     "text": [
      "Loss1: 0.5596, Loss2: 0.2116, Loss3: 0.9683\n"
     ]
    },
    {
     "name": "stderr",
     "output_type": "stream",
     "text": [
      "Test_Loader: 100%|██████████| 288/288 [00:25<00:00, 11.09it/s]\n"
     ]
    },
    {
     "name": "stdout",
     "output_type": "stream",
     "text": [
      "Loss1: 0.5788, Loss2: 0.2095, Loss3: 0.9544\n"
     ]
    },
    {
     "name": "stderr",
     "output_type": "stream",
     "text": [
      "Test_Loader: 100%|██████████| 288/288 [00:26<00:00, 11.07it/s]\n"
     ]
    },
    {
     "name": "stdout",
     "output_type": "stream",
     "text": [
      "Loss1: 0.5807, Loss2: 0.2279, Loss3: 1.0218\n"
     ]
    },
    {
     "name": "stderr",
     "output_type": "stream",
     "text": [
      "Test_Loader: 100%|██████████| 288/288 [00:27<00:00, 10.64it/s]\n"
     ]
    },
    {
     "name": "stdout",
     "output_type": "stream",
     "text": [
      "Loss1: 0.5752, Loss2: 0.2186, Loss3: 0.9639\n"
     ]
    },
    {
     "name": "stderr",
     "output_type": "stream",
     "text": [
      "Test_Loader: 100%|██████████| 288/288 [00:26<00:00, 10.72it/s]\n"
     ]
    },
    {
     "name": "stdout",
     "output_type": "stream",
     "text": [
      "Loss1: 0.5762, Loss2: 0.2125, Loss3: 0.8985\n"
     ]
    },
    {
     "name": "stderr",
     "output_type": "stream",
     "text": [
      "Test_Loader: 100%|██████████| 288/288 [00:26<00:00, 10.72it/s]\n"
     ]
    },
    {
     "name": "stdout",
     "output_type": "stream",
     "text": [
      "Loss1: 0.5704, Loss2: 0.2150, Loss3: 0.9293\n"
     ]
    },
    {
     "name": "stderr",
     "output_type": "stream",
     "text": [
      "Test_Loader: 100%|██████████| 288/288 [00:27<00:00, 10.66it/s]\n"
     ]
    },
    {
     "name": "stdout",
     "output_type": "stream",
     "text": [
      "Loss1: 0.5743, Loss2: 0.2155, Loss3: 0.9217\n"
     ]
    },
    {
     "name": "stderr",
     "output_type": "stream",
     "text": [
      "Test_Loader: 100%|██████████| 288/288 [00:26<00:00, 10.70it/s]\n"
     ]
    },
    {
     "name": "stdout",
     "output_type": "stream",
     "text": [
      "Loss1: 0.5705, Loss2: 0.2153, Loss3: 0.9207\n"
     ]
    },
    {
     "name": "stderr",
     "output_type": "stream",
     "text": [
      "Test_Loader: 100%|██████████| 288/288 [00:26<00:00, 10.79it/s]\n"
     ]
    },
    {
     "name": "stdout",
     "output_type": "stream",
     "text": [
      "Loss1: 0.5618, Loss2: 0.2106, Loss3: 0.9076\n"
     ]
    },
    {
     "name": "stderr",
     "output_type": "stream",
     "text": [
      "Test_Loader: 100%|██████████| 288/288 [00:26<00:00, 10.87it/s]\n"
     ]
    },
    {
     "name": "stdout",
     "output_type": "stream",
     "text": [
      "Loss1: 0.5512, Loss2: 0.2095, Loss3: 0.9098\n"
     ]
    },
    {
     "name": "stderr",
     "output_type": "stream",
     "text": [
      "Test_Loader: 100%|██████████| 288/288 [00:26<00:00, 10.99it/s]\n"
     ]
    },
    {
     "name": "stdout",
     "output_type": "stream",
     "text": [
      "Loss1: 0.5779, Loss2: 0.2744, Loss3: 1.0044\n"
     ]
    },
    {
     "name": "stderr",
     "output_type": "stream",
     "text": [
      "Test_Loader: 100%|██████████| 288/288 [00:28<00:00, 10.03it/s]\n"
     ]
    },
    {
     "name": "stdout",
     "output_type": "stream",
     "text": [
      "Loss1: 0.5847, Loss2: 0.2613, Loss3: 0.9842\n"
     ]
    },
    {
     "name": "stderr",
     "output_type": "stream",
     "text": [
      "Test_Loader: 100%|██████████| 288/288 [00:27<00:00, 10.32it/s]\n"
     ]
    },
    {
     "name": "stdout",
     "output_type": "stream",
     "text": [
      "Loss1: 0.5994, Loss2: 0.2555, Loss3: 1.0006\n"
     ]
    },
    {
     "name": "stderr",
     "output_type": "stream",
     "text": [
      "Test_Loader: 100%|██████████| 288/288 [00:26<00:00, 10.93it/s]\n"
     ]
    },
    {
     "name": "stdout",
     "output_type": "stream",
     "text": [
      "Loss1: 0.5589, Loss2: 0.2596, Loss3: 0.9566\n"
     ]
    },
    {
     "name": "stderr",
     "output_type": "stream",
     "text": [
      "Test_Loader: 100%|██████████| 288/288 [00:26<00:00, 10.88it/s]\n"
     ]
    },
    {
     "name": "stdout",
     "output_type": "stream",
     "text": [
      "Loss1: 0.5567, Loss2: 0.2517, Loss3: 0.9622\n"
     ]
    },
    {
     "name": "stderr",
     "output_type": "stream",
     "text": [
      "Test_Loader: 100%|██████████| 288/288 [00:26<00:00, 10.87it/s]\n"
     ]
    },
    {
     "name": "stdout",
     "output_type": "stream",
     "text": [
      "Loss1: 0.5553, Loss2: 0.2473, Loss3: 0.9962\n"
     ]
    },
    {
     "name": "stderr",
     "output_type": "stream",
     "text": [
      "Test_Loader: 100%|██████████| 288/288 [00:26<00:00, 11.02it/s]\n"
     ]
    },
    {
     "name": "stdout",
     "output_type": "stream",
     "text": [
      "Loss1: 0.5824, Loss2: 0.2707, Loss3: 1.0692\n"
     ]
    },
    {
     "name": "stderr",
     "output_type": "stream",
     "text": [
      "Test_Loader: 100%|██████████| 288/288 [00:26<00:00, 10.80it/s]\n"
     ]
    },
    {
     "name": "stdout",
     "output_type": "stream",
     "text": [
      "Loss1: 0.5727, Loss2: 0.2646, Loss3: 1.0378\n"
     ]
    },
    {
     "name": "stderr",
     "output_type": "stream",
     "text": [
      "Test_Loader: 100%|██████████| 288/288 [00:27<00:00, 10.65it/s]\n"
     ]
    },
    {
     "name": "stdout",
     "output_type": "stream",
     "text": [
      "Loss1: 0.5819, Loss2: 0.2616, Loss3: 0.9971\n"
     ]
    },
    {
     "name": "stderr",
     "output_type": "stream",
     "text": [
      "Test_Loader: 100%|██████████| 288/288 [00:26<00:00, 10.89it/s]\n"
     ]
    },
    {
     "name": "stdout",
     "output_type": "stream",
     "text": [
      "Loss1: 0.5622, Loss2: 0.2567, Loss3: 0.9957\n"
     ]
    },
    {
     "name": "stderr",
     "output_type": "stream",
     "text": [
      "Test_Loader: 100%|██████████| 288/288 [00:26<00:00, 10.78it/s]\n"
     ]
    },
    {
     "name": "stdout",
     "output_type": "stream",
     "text": [
      "Loss1: 0.5680, Loss2: 0.2594, Loss3: 1.0046\n"
     ]
    },
    {
     "name": "stderr",
     "output_type": "stream",
     "text": [
      "Test_Loader: 100%|██████████| 288/288 [00:26<00:00, 10.81it/s]\n"
     ]
    },
    {
     "name": "stdout",
     "output_type": "stream",
     "text": [
      "Loss1: 0.6019, Loss2: 0.2560, Loss3: 1.0143\n"
     ]
    },
    {
     "name": "stderr",
     "output_type": "stream",
     "text": [
      "Test_Loader: 100%|██████████| 288/288 [00:26<00:00, 10.85it/s]\n"
     ]
    },
    {
     "name": "stdout",
     "output_type": "stream",
     "text": [
      "Loss1: 0.5750, Loss2: 0.2574, Loss3: 0.9734\n"
     ]
    },
    {
     "name": "stderr",
     "output_type": "stream",
     "text": [
      "Test_Loader: 100%|██████████| 288/288 [00:26<00:00, 10.88it/s]\n"
     ]
    },
    {
     "name": "stdout",
     "output_type": "stream",
     "text": [
      "Loss1: 0.5583, Loss2: 0.2541, Loss3: 0.9547\n"
     ]
    },
    {
     "name": "stderr",
     "output_type": "stream",
     "text": [
      "Test_Loader: 100%|██████████| 288/288 [00:27<00:00, 10.38it/s]\n"
     ]
    },
    {
     "name": "stdout",
     "output_type": "stream",
     "text": [
      "Loss1: 0.5850, Loss2: 0.2487, Loss3: 0.9648\n"
     ]
    },
    {
     "name": "stderr",
     "output_type": "stream",
     "text": [
      "Test_Loader: 100%|██████████| 288/288 [00:27<00:00, 10.38it/s]\n"
     ]
    },
    {
     "name": "stdout",
     "output_type": "stream",
     "text": [
      "Loss1: 0.5579, Loss2: 0.2477, Loss3: 0.9267\n"
     ]
    },
    {
     "name": "stderr",
     "output_type": "stream",
     "text": [
      "Test_Loader: 100%|██████████| 288/288 [00:26<00:00, 10.76it/s]\n"
     ]
    },
    {
     "name": "stdout",
     "output_type": "stream",
     "text": [
      "Loss1: 0.5630, Loss2: 0.2419, Loss3: 0.9651\n"
     ]
    },
    {
     "name": "stderr",
     "output_type": "stream",
     "text": [
      "Test_Loader: 100%|██████████| 288/288 [00:26<00:00, 10.85it/s]\n"
     ]
    },
    {
     "name": "stdout",
     "output_type": "stream",
     "text": [
      "Loss1: 0.5449, Loss2: 0.2491, Loss3: 0.9493\n"
     ]
    },
    {
     "name": "stderr",
     "output_type": "stream",
     "text": [
      "Test_Loader: 100%|██████████| 288/288 [00:26<00:00, 11.07it/s]\n"
     ]
    },
    {
     "name": "stdout",
     "output_type": "stream",
     "text": [
      "Loss1: 0.5702, Loss2: 0.2396, Loss3: 0.9532\n"
     ]
    },
    {
     "name": "stderr",
     "output_type": "stream",
     "text": [
      "Test_Loader: 100%|██████████| 288/288 [00:26<00:00, 10.86it/s]\n"
     ]
    },
    {
     "name": "stdout",
     "output_type": "stream",
     "text": [
      "Loss1: 0.5344, Loss2: 0.2411, Loss3: 0.9159\n"
     ]
    },
    {
     "name": "stderr",
     "output_type": "stream",
     "text": [
      "Test_Loader: 100%|██████████| 288/288 [00:26<00:00, 10.89it/s]\n"
     ]
    },
    {
     "name": "stdout",
     "output_type": "stream",
     "text": [
      "Loss1: 0.5432, Loss2: 0.2383, Loss3: 0.9423\n"
     ]
    },
    {
     "name": "stderr",
     "output_type": "stream",
     "text": [
      "Test_Loader: 100%|██████████| 288/288 [00:26<00:00, 10.84it/s]\n"
     ]
    },
    {
     "name": "stdout",
     "output_type": "stream",
     "text": [
      "Loss1: 0.5375, Loss2: 0.2365, Loss3: 0.9505\n"
     ]
    },
    {
     "name": "stderr",
     "output_type": "stream",
     "text": [
      "Test_Loader: 100%|██████████| 288/288 [00:26<00:00, 10.78it/s]\n"
     ]
    },
    {
     "name": "stdout",
     "output_type": "stream",
     "text": [
      "Loss1: 0.5705, Loss2: 0.2317, Loss3: 0.9226\n"
     ]
    },
    {
     "name": "stderr",
     "output_type": "stream",
     "text": [
      "Test_Loader: 100%|██████████| 288/288 [00:26<00:00, 10.89it/s]\n"
     ]
    },
    {
     "name": "stdout",
     "output_type": "stream",
     "text": [
      "Loss1: 0.5412, Loss2: 0.2344, Loss3: 0.9433\n"
     ]
    },
    {
     "name": "stderr",
     "output_type": "stream",
     "text": [
      "Test_Loader: 100%|██████████| 288/288 [00:26<00:00, 10.87it/s]\n"
     ]
    },
    {
     "name": "stdout",
     "output_type": "stream",
     "text": [
      "Loss1: 0.5487, Loss2: 0.2367, Loss3: 0.9333\n"
     ]
    },
    {
     "name": "stderr",
     "output_type": "stream",
     "text": [
      "Test_Loader: 100%|██████████| 288/288 [00:26<00:00, 11.08it/s]\n"
     ]
    },
    {
     "name": "stdout",
     "output_type": "stream",
     "text": [
      "Loss1: 0.5560, Loss2: 0.2395, Loss3: 0.9845\n"
     ]
    },
    {
     "name": "stderr",
     "output_type": "stream",
     "text": [
      "Test_Loader: 100%|██████████| 288/288 [00:26<00:00, 10.98it/s]\n"
     ]
    },
    {
     "name": "stdout",
     "output_type": "stream",
     "text": [
      "Loss1: 0.5714, Loss2: 0.2367, Loss3: 0.9762\n"
     ]
    },
    {
     "name": "stderr",
     "output_type": "stream",
     "text": [
      "Test_Loader: 100%|██████████| 288/288 [00:26<00:00, 10.89it/s]\n"
     ]
    },
    {
     "name": "stdout",
     "output_type": "stream",
     "text": [
      "Loss1: 0.5604, Loss2: 0.2435, Loss3: 0.9845\n"
     ]
    },
    {
     "name": "stderr",
     "output_type": "stream",
     "text": [
      "Test_Loader: 100%|██████████| 288/288 [00:28<00:00, 10.27it/s]\n"
     ]
    },
    {
     "name": "stdout",
     "output_type": "stream",
     "text": [
      "Loss1: 0.5444, Loss2: 0.2382, Loss3: 0.9706\n"
     ]
    },
    {
     "name": "stderr",
     "output_type": "stream",
     "text": [
      "Test_Loader: 100%|██████████| 288/288 [00:25<00:00, 11.12it/s]\n"
     ]
    },
    {
     "name": "stdout",
     "output_type": "stream",
     "text": [
      "Loss1: 0.5780, Loss2: 0.2344, Loss3: 0.9781\n"
     ]
    },
    {
     "name": "stderr",
     "output_type": "stream",
     "text": [
      "Test_Loader: 100%|██████████| 288/288 [00:25<00:00, 11.08it/s]\n"
     ]
    },
    {
     "name": "stdout",
     "output_type": "stream",
     "text": [
      "Loss1: 0.5676, Loss2: 0.2343, Loss3: 0.9876\n"
     ]
    },
    {
     "name": "stderr",
     "output_type": "stream",
     "text": [
      "Test_Loader: 100%|██████████| 288/288 [00:26<00:00, 11.05it/s]\n"
     ]
    },
    {
     "name": "stdout",
     "output_type": "stream",
     "text": [
      "Loss1: 0.5553, Loss2: 0.2376, Loss3: 0.9778\n"
     ]
    },
    {
     "name": "stderr",
     "output_type": "stream",
     "text": [
      "Test_Loader: 100%|██████████| 288/288 [00:26<00:00, 10.92it/s]\n"
     ]
    },
    {
     "name": "stdout",
     "output_type": "stream",
     "text": [
      "Loss1: 0.5584, Loss2: 0.2301, Loss3: 0.9588\n"
     ]
    },
    {
     "name": "stderr",
     "output_type": "stream",
     "text": [
      "Test_Loader: 100%|██████████| 288/288 [00:26<00:00, 10.89it/s]\n"
     ]
    },
    {
     "name": "stdout",
     "output_type": "stream",
     "text": [
      "Loss1: 0.5442, Loss2: 0.2324, Loss3: 0.9670\n"
     ]
    },
    {
     "name": "stderr",
     "output_type": "stream",
     "text": [
      "Test_Loader: 100%|██████████| 288/288 [00:26<00:00, 10.92it/s]\n"
     ]
    },
    {
     "name": "stdout",
     "output_type": "stream",
     "text": [
      "Loss1: 0.5336, Loss2: 0.2290, Loss3: 0.9501\n"
     ]
    },
    {
     "name": "stderr",
     "output_type": "stream",
     "text": [
      "Test_Loader: 100%|██████████| 288/288 [00:25<00:00, 11.11it/s]\n"
     ]
    },
    {
     "name": "stdout",
     "output_type": "stream",
     "text": [
      "Loss1: 0.5301, Loss2: 0.2294, Loss3: 0.9560\n"
     ]
    },
    {
     "name": "stderr",
     "output_type": "stream",
     "text": [
      "Test_Loader: 100%|██████████| 288/288 [00:25<00:00, 11.09it/s]\n"
     ]
    },
    {
     "name": "stdout",
     "output_type": "stream",
     "text": [
      "Loss1: 0.5426, Loss2: 0.2265, Loss3: 0.9420\n"
     ]
    },
    {
     "name": "stderr",
     "output_type": "stream",
     "text": [
      "Test_Loader: 100%|██████████| 288/288 [00:26<00:00, 11.07it/s]\n"
     ]
    },
    {
     "name": "stdout",
     "output_type": "stream",
     "text": [
      "Loss1: 0.5323, Loss2: 0.2274, Loss3: 0.9188\n"
     ]
    },
    {
     "name": "stderr",
     "output_type": "stream",
     "text": [
      "Test_Loader: 100%|██████████| 288/288 [00:26<00:00, 10.80it/s]\n"
     ]
    },
    {
     "name": "stdout",
     "output_type": "stream",
     "text": [
      "Loss1: 0.5188, Loss2: 0.2308, Loss3: 0.9435\n"
     ]
    },
    {
     "name": "stderr",
     "output_type": "stream",
     "text": [
      "Test_Loader: 100%|██████████| 288/288 [00:26<00:00, 10.85it/s]\n"
     ]
    },
    {
     "name": "stdout",
     "output_type": "stream",
     "text": [
      "Loss1: 0.5353, Loss2: 0.2268, Loss3: 0.9097\n"
     ]
    },
    {
     "name": "stderr",
     "output_type": "stream",
     "text": [
      "Test_Loader: 100%|██████████| 288/288 [00:26<00:00, 11.00it/s]\n"
     ]
    },
    {
     "name": "stdout",
     "output_type": "stream",
     "text": [
      "Loss1: 0.5197, Loss2: 0.2274, Loss3: 0.9255\n"
     ]
    },
    {
     "name": "stderr",
     "output_type": "stream",
     "text": [
      "Test_Loader: 100%|██████████| 288/288 [00:26<00:00, 10.92it/s]\n"
     ]
    },
    {
     "name": "stdout",
     "output_type": "stream",
     "text": [
      "Loss1: 0.5231, Loss2: 0.2222, Loss3: 0.8944\n"
     ]
    },
    {
     "name": "stderr",
     "output_type": "stream",
     "text": [
      "Test_Loader: 100%|██████████| 288/288 [00:28<00:00, 10.08it/s]\n"
     ]
    },
    {
     "name": "stdout",
     "output_type": "stream",
     "text": [
      "Loss1: 0.5237, Loss2: 0.2212, Loss3: 0.9022\n"
     ]
    },
    {
     "name": "stderr",
     "output_type": "stream",
     "text": [
      "Test_Loader: 100%|██████████| 288/288 [00:26<00:00, 10.97it/s]\n"
     ]
    },
    {
     "name": "stdout",
     "output_type": "stream",
     "text": [
      "Loss1: 0.5286, Loss2: 0.2239, Loss3: 0.8914\n"
     ]
    },
    {
     "name": "stderr",
     "output_type": "stream",
     "text": [
      "Test_Loader: 100%|██████████| 288/288 [00:26<00:00, 10.84it/s]\n"
     ]
    },
    {
     "name": "stdout",
     "output_type": "stream",
     "text": [
      "Loss1: 0.5142, Loss2: 0.2208, Loss3: 0.8709\n"
     ]
    },
    {
     "name": "stderr",
     "output_type": "stream",
     "text": [
      "Test_Loader: 100%|██████████| 288/288 [00:26<00:00, 11.00it/s]\n"
     ]
    },
    {
     "name": "stdout",
     "output_type": "stream",
     "text": [
      "Loss1: 0.5088, Loss2: 0.2179, Loss3: 0.9092\n"
     ]
    },
    {
     "name": "stderr",
     "output_type": "stream",
     "text": [
      "Test_Loader: 100%|██████████| 288/288 [00:26<00:00, 10.99it/s]\n"
     ]
    },
    {
     "name": "stdout",
     "output_type": "stream",
     "text": [
      "Loss1: 0.5144, Loss2: 0.2049, Loss3: 0.8858\n"
     ]
    },
    {
     "name": "stderr",
     "output_type": "stream",
     "text": [
      "Test_Loader: 100%|██████████| 288/288 [00:26<00:00, 10.87it/s]\n"
     ]
    },
    {
     "name": "stdout",
     "output_type": "stream",
     "text": [
      "Loss1: 0.5086, Loss2: 0.2097, Loss3: 0.8634\n"
     ]
    },
    {
     "name": "stderr",
     "output_type": "stream",
     "text": [
      "Test_Loader: 100%|██████████| 288/288 [00:26<00:00, 10.75it/s]\n"
     ]
    },
    {
     "name": "stdout",
     "output_type": "stream",
     "text": [
      "Loss1: 0.4770, Loss2: 0.2129, Loss3: 0.8453\n"
     ]
    },
    {
     "name": "stderr",
     "output_type": "stream",
     "text": [
      "Test_Loader: 100%|██████████| 288/288 [00:26<00:00, 10.84it/s]\n"
     ]
    },
    {
     "name": "stdout",
     "output_type": "stream",
     "text": [
      "Loss1: 0.4639, Loss2: 0.2184, Loss3: 0.8415\n"
     ]
    },
    {
     "name": "stderr",
     "output_type": "stream",
     "text": [
      "Test_Loader: 100%|██████████| 288/288 [00:26<00:00, 10.83it/s]\n"
     ]
    },
    {
     "name": "stdout",
     "output_type": "stream",
     "text": [
      "Loss1: 0.4626, Loss2: 0.2168, Loss3: 0.8797\n"
     ]
    },
    {
     "name": "stderr",
     "output_type": "stream",
     "text": [
      "Test_Loader: 100%|██████████| 288/288 [00:26<00:00, 10.91it/s]\n"
     ]
    },
    {
     "name": "stdout",
     "output_type": "stream",
     "text": [
      "Loss1: 0.4485, Loss2: 0.2161, Loss3: 0.8494\n"
     ]
    },
    {
     "name": "stderr",
     "output_type": "stream",
     "text": [
      "Test_Loader: 100%|██████████| 288/288 [00:25<00:00, 11.08it/s]\n"
     ]
    },
    {
     "name": "stdout",
     "output_type": "stream",
     "text": [
      "Loss1: 0.4468, Loss2: 0.2126, Loss3: 0.8454\n"
     ]
    },
    {
     "name": "stderr",
     "output_type": "stream",
     "text": [
      "Test_Loader: 100%|██████████| 288/288 [00:26<00:00, 10.81it/s]\n"
     ]
    },
    {
     "name": "stdout",
     "output_type": "stream",
     "text": [
      "Loss1: 0.4343, Loss2: 0.2149, Loss3: 0.8367\n"
     ]
    },
    {
     "name": "stderr",
     "output_type": "stream",
     "text": [
      "Test_Loader: 100%|██████████| 288/288 [00:26<00:00, 11.04it/s]\n"
     ]
    },
    {
     "name": "stdout",
     "output_type": "stream",
     "text": [
      "Loss1: 0.4188, Loss2: 0.2121, Loss3: 0.8165\n"
     ]
    },
    {
     "name": "stderr",
     "output_type": "stream",
     "text": [
      "Test_Loader: 100%|██████████| 288/288 [00:26<00:00, 10.99it/s]\n"
     ]
    },
    {
     "name": "stdout",
     "output_type": "stream",
     "text": [
      "Loss1: 0.4114, Loss2: 0.2034, Loss3: 0.8164\n"
     ]
    },
    {
     "name": "stderr",
     "output_type": "stream",
     "text": [
      "Test_Loader: 100%|██████████| 288/288 [00:29<00:00,  9.90it/s]\n"
     ]
    },
    {
     "name": "stdout",
     "output_type": "stream",
     "text": [
      "Loss1: 0.3948, Loss2: 0.2128, Loss3: 0.8331\n"
     ]
    },
    {
     "name": "stderr",
     "output_type": "stream",
     "text": [
      "Test_Loader: 100%|██████████| 288/288 [00:25<00:00, 11.33it/s]\n"
     ]
    },
    {
     "name": "stdout",
     "output_type": "stream",
     "text": [
      "Loss1: 0.4095, Loss2: 0.2110, Loss3: 0.8426\n"
     ]
    },
    {
     "name": "stderr",
     "output_type": "stream",
     "text": [
      "Test_Loader: 100%|██████████| 288/288 [00:25<00:00, 11.17it/s]\n"
     ]
    },
    {
     "name": "stdout",
     "output_type": "stream",
     "text": [
      "Loss1: 0.3974, Loss2: 0.2193, Loss3: 0.8555\n"
     ]
    },
    {
     "name": "stderr",
     "output_type": "stream",
     "text": [
      "Test_Loader: 100%|██████████| 288/288 [00:26<00:00, 11.03it/s]\n"
     ]
    },
    {
     "name": "stdout",
     "output_type": "stream",
     "text": [
      "Loss1: 0.4032, Loss2: 0.2144, Loss3: 0.8135\n"
     ]
    },
    {
     "name": "stderr",
     "output_type": "stream",
     "text": [
      "Test_Loader: 100%|██████████| 288/288 [00:26<00:00, 10.83it/s]\n"
     ]
    },
    {
     "name": "stdout",
     "output_type": "stream",
     "text": [
      "Loss1: 0.3905, Loss2: 0.2145, Loss3: 0.8432\n"
     ]
    },
    {
     "name": "stderr",
     "output_type": "stream",
     "text": [
      "Test_Loader: 100%|██████████| 288/288 [00:26<00:00, 10.78it/s]\n"
     ]
    },
    {
     "name": "stdout",
     "output_type": "stream",
     "text": [
      "Loss1: 0.3890, Loss2: 0.2069, Loss3: 0.8201\n"
     ]
    },
    {
     "name": "stderr",
     "output_type": "stream",
     "text": [
      "Test_Loader: 100%|██████████| 288/288 [00:26<00:00, 10.81it/s]\n"
     ]
    },
    {
     "name": "stdout",
     "output_type": "stream",
     "text": [
      "Loss1: 0.3961, Loss2: 0.2086, Loss3: 0.8351\n"
     ]
    },
    {
     "name": "stderr",
     "output_type": "stream",
     "text": [
      "Test_Loader: 100%|██████████| 288/288 [00:26<00:00, 10.74it/s]\n"
     ]
    },
    {
     "name": "stdout",
     "output_type": "stream",
     "text": [
      "Loss1: 0.3727, Loss2: 0.2070, Loss3: 0.8266\n"
     ]
    },
    {
     "name": "stderr",
     "output_type": "stream",
     "text": [
      "Test_Loader: 100%|██████████| 288/288 [00:27<00:00, 10.66it/s]\n"
     ]
    },
    {
     "name": "stdout",
     "output_type": "stream",
     "text": [
      "Loss1: 0.3713, Loss2: 0.2072, Loss3: 0.7983\n"
     ]
    },
    {
     "name": "stderr",
     "output_type": "stream",
     "text": [
      "Test_Loader: 100%|██████████| 288/288 [00:26<00:00, 10.81it/s]\n"
     ]
    },
    {
     "name": "stdout",
     "output_type": "stream",
     "text": [
      "Loss1: 0.3534, Loss2: 0.2032, Loss3: 0.8036\n"
     ]
    },
    {
     "name": "stderr",
     "output_type": "stream",
     "text": [
      "Test_Loader: 100%|██████████| 288/288 [00:26<00:00, 10.71it/s]\n"
     ]
    },
    {
     "name": "stdout",
     "output_type": "stream",
     "text": [
      "Loss1: 0.3722, Loss2: 0.2007, Loss3: 0.7827\n"
     ]
    },
    {
     "name": "stderr",
     "output_type": "stream",
     "text": [
      "Test_Loader: 100%|██████████| 288/288 [00:26<00:00, 10.81it/s]\n"
     ]
    },
    {
     "name": "stdout",
     "output_type": "stream",
     "text": [
      "Loss1: 0.3558, Loss2: 0.2003, Loss3: 0.7797\n"
     ]
    },
    {
     "name": "stderr",
     "output_type": "stream",
     "text": [
      "Test_Loader: 100%|██████████| 288/288 [00:28<00:00, 10.12it/s]\n"
     ]
    },
    {
     "name": "stdout",
     "output_type": "stream",
     "text": [
      "Loss1: 0.3643, Loss2: 0.2050, Loss3: 0.7770\n"
     ]
    },
    {
     "name": "stderr",
     "output_type": "stream",
     "text": [
      "Test_Loader: 100%|██████████| 288/288 [00:28<00:00, 10.18it/s]\n"
     ]
    },
    {
     "name": "stdout",
     "output_type": "stream",
     "text": [
      "Loss1: 0.3672, Loss2: 0.2055, Loss3: 0.7729\n"
     ]
    },
    {
     "name": "stderr",
     "output_type": "stream",
     "text": [
      "Test_Loader: 100%|██████████| 288/288 [00:26<00:00, 10.79it/s]\n"
     ]
    },
    {
     "name": "stdout",
     "output_type": "stream",
     "text": [
      "Loss1: 0.3520, Loss2: 0.1920, Loss3: 0.7384\n"
     ]
    },
    {
     "name": "stderr",
     "output_type": "stream",
     "text": [
      "Test_Loader: 100%|██████████| 288/288 [00:26<00:00, 10.93it/s]\n"
     ]
    },
    {
     "name": "stdout",
     "output_type": "stream",
     "text": [
      "Loss1: 0.3472, Loss2: 0.1862, Loss3: 0.7251\n"
     ]
    },
    {
     "name": "stderr",
     "output_type": "stream",
     "text": [
      "Test_Loader: 100%|██████████| 288/288 [00:26<00:00, 10.85it/s]\n"
     ]
    },
    {
     "name": "stdout",
     "output_type": "stream",
     "text": [
      "Loss1: 0.3362, Loss2: 0.1869, Loss3: 0.7443\n"
     ]
    },
    {
     "name": "stderr",
     "output_type": "stream",
     "text": [
      "Test_Loader: 100%|██████████| 288/288 [00:26<00:00, 11.00it/s]\n"
     ]
    },
    {
     "name": "stdout",
     "output_type": "stream",
     "text": [
      "Loss1: 0.3392, Loss2: 0.1839, Loss3: 0.7359\n"
     ]
    },
    {
     "name": "stderr",
     "output_type": "stream",
     "text": [
      "Test_Loader: 100%|██████████| 288/288 [00:26<00:00, 10.87it/s]\n"
     ]
    },
    {
     "name": "stdout",
     "output_type": "stream",
     "text": [
      "Loss1: 0.3379, Loss2: 0.1892, Loss3: 0.7473\n"
     ]
    },
    {
     "name": "stderr",
     "output_type": "stream",
     "text": [
      "Test_Loader: 100%|██████████| 288/288 [00:26<00:00, 10.88it/s]\n"
     ]
    },
    {
     "name": "stdout",
     "output_type": "stream",
     "text": [
      "Loss1: 0.3395, Loss2: 0.1895, Loss3: 0.7362\n"
     ]
    },
    {
     "name": "stderr",
     "output_type": "stream",
     "text": [
      "Test_Loader: 100%|██████████| 288/288 [00:26<00:00, 10.69it/s]\n"
     ]
    },
    {
     "name": "stdout",
     "output_type": "stream",
     "text": [
      "Loss1: 0.3569, Loss2: 0.1929, Loss3: 0.7644\n"
     ]
    },
    {
     "name": "stderr",
     "output_type": "stream",
     "text": [
      "Test_Loader: 100%|██████████| 288/288 [00:26<00:00, 10.85it/s]\n"
     ]
    },
    {
     "name": "stdout",
     "output_type": "stream",
     "text": [
      "Loss1: 0.3495, Loss2: 0.1884, Loss3: 0.7474\n"
     ]
    },
    {
     "name": "stderr",
     "output_type": "stream",
     "text": [
      "Test_Loader: 100%|██████████| 288/288 [00:26<00:00, 10.87it/s]\n"
     ]
    },
    {
     "name": "stdout",
     "output_type": "stream",
     "text": [
      "Loss1: 0.3447, Loss2: 0.1901, Loss3: 0.7599\n"
     ]
    },
    {
     "name": "stderr",
     "output_type": "stream",
     "text": [
      "Test_Loader: 100%|██████████| 288/288 [00:26<00:00, 10.83it/s]\n"
     ]
    },
    {
     "name": "stdout",
     "output_type": "stream",
     "text": [
      "Loss1: 0.3495, Loss2: 0.1907, Loss3: 0.7633\n"
     ]
    },
    {
     "name": "stderr",
     "output_type": "stream",
     "text": [
      "Test_Loader: 100%|██████████| 288/288 [00:26<00:00, 10.94it/s]\n"
     ]
    },
    {
     "name": "stdout",
     "output_type": "stream",
     "text": [
      "Loss1: 0.3530, Loss2: 0.1884, Loss3: 0.7526\n"
     ]
    },
    {
     "name": "stderr",
     "output_type": "stream",
     "text": [
      "Test_Loader: 100%|██████████| 288/288 [00:26<00:00, 10.81it/s]\n"
     ]
    },
    {
     "name": "stdout",
     "output_type": "stream",
     "text": [
      "Loss1: 0.3548, Loss2: 0.1915, Loss3: 0.7762\n"
     ]
    },
    {
     "name": "stderr",
     "output_type": "stream",
     "text": [
      "Test_Loader: 100%|██████████| 288/288 [00:26<00:00, 10.94it/s]\n"
     ]
    },
    {
     "name": "stdout",
     "output_type": "stream",
     "text": [
      "Loss1: 0.3668, Loss2: 0.1908, Loss3: 0.7744\n"
     ]
    },
    {
     "name": "stderr",
     "output_type": "stream",
     "text": [
      "Test_Loader: 100%|██████████| 288/288 [00:27<00:00, 10.33it/s]\n"
     ]
    },
    {
     "name": "stdout",
     "output_type": "stream",
     "text": [
      "Loss1: 0.3703, Loss2: 0.1901, Loss3: 0.7836\n"
     ]
    },
    {
     "name": "stderr",
     "output_type": "stream",
     "text": [
      "Test_Loader: 100%|██████████| 288/288 [00:26<00:00, 10.98it/s]\n"
     ]
    },
    {
     "name": "stdout",
     "output_type": "stream",
     "text": [
      "Loss1: 0.3640, Loss2: 0.1875, Loss3: 0.7659\n"
     ]
    },
    {
     "name": "stderr",
     "output_type": "stream",
     "text": [
      "Test_Loader: 100%|██████████| 288/288 [00:26<00:00, 10.93it/s]\n"
     ]
    },
    {
     "name": "stdout",
     "output_type": "stream",
     "text": [
      "Loss1: 0.3511, Loss2: 0.1857, Loss3: 0.7810\n"
     ]
    },
    {
     "name": "stderr",
     "output_type": "stream",
     "text": [
      "Test_Loader: 100%|██████████| 288/288 [00:26<00:00, 10.96it/s]\n"
     ]
    },
    {
     "name": "stdout",
     "output_type": "stream",
     "text": [
      "Loss1: 0.3489, Loss2: 0.1868, Loss3: 0.7771\n"
     ]
    },
    {
     "name": "stderr",
     "output_type": "stream",
     "text": [
      "Test_Loader: 100%|██████████| 288/288 [00:26<00:00, 10.97it/s]\n"
     ]
    },
    {
     "name": "stdout",
     "output_type": "stream",
     "text": [
      "Loss1: 0.3397, Loss2: 0.1805, Loss3: 0.7485\n"
     ]
    },
    {
     "name": "stderr",
     "output_type": "stream",
     "text": [
      "Test_Loader: 100%|██████████| 288/288 [00:26<00:00, 10.87it/s]\n"
     ]
    },
    {
     "name": "stdout",
     "output_type": "stream",
     "text": [
      "Loss1: 0.3241, Loss2: 0.1839, Loss3: 0.7641\n"
     ]
    },
    {
     "name": "stderr",
     "output_type": "stream",
     "text": [
      "Test_Loader: 100%|██████████| 288/288 [00:26<00:00, 10.90it/s]\n"
     ]
    },
    {
     "name": "stdout",
     "output_type": "stream",
     "text": [
      "Loss1: 0.3826, Loss2: 0.2922, Loss3: 0.9000\n"
     ]
    },
    {
     "name": "stderr",
     "output_type": "stream",
     "text": [
      "Test_Loader: 100%|██████████| 288/288 [00:26<00:00, 10.91it/s]\n"
     ]
    },
    {
     "name": "stdout",
     "output_type": "stream",
     "text": [
      "Loss1: 0.4862, Loss2: 0.3328, Loss3: 1.1919\n"
     ]
    },
    {
     "name": "stderr",
     "output_type": "stream",
     "text": [
      "Test_Loader: 100%|██████████| 288/288 [00:26<00:00, 10.89it/s]\n"
     ]
    },
    {
     "name": "stdout",
     "output_type": "stream",
     "text": [
      "Loss1: 0.4796, Loss2: 0.3249, Loss3: 1.1671\n"
     ]
    },
    {
     "name": "stderr",
     "output_type": "stream",
     "text": [
      "Test_Loader: 100%|██████████| 288/288 [00:26<00:00, 10.97it/s]\n"
     ]
    },
    {
     "name": "stdout",
     "output_type": "stream",
     "text": [
      "Loss1: 0.4795, Loss2: 0.3249, Loss3: 1.1581\n"
     ]
    },
    {
     "name": "stderr",
     "output_type": "stream",
     "text": [
      "Test_Loader: 100%|██████████| 288/288 [00:26<00:00, 10.84it/s]\n"
     ]
    },
    {
     "name": "stdout",
     "output_type": "stream",
     "text": [
      "Loss1: 0.4754, Loss2: 0.3278, Loss3: 1.1684\n"
     ]
    },
    {
     "name": "stderr",
     "output_type": "stream",
     "text": [
      "Test_Loader: 100%|██████████| 288/288 [00:25<00:00, 11.19it/s]\n"
     ]
    },
    {
     "name": "stdout",
     "output_type": "stream",
     "text": [
      "Loss1: 0.4798, Loss2: 0.3253, Loss3: 1.1688\n"
     ]
    },
    {
     "name": "stderr",
     "output_type": "stream",
     "text": [
      "Test_Loader: 100%|██████████| 288/288 [00:27<00:00, 10.52it/s]\n"
     ]
    },
    {
     "name": "stdout",
     "output_type": "stream",
     "text": [
      "Loss1: 0.4778, Loss2: 0.3227, Loss3: 1.1808\n"
     ]
    },
    {
     "name": "stderr",
     "output_type": "stream",
     "text": [
      "Test_Loader: 100%|██████████| 288/288 [00:28<00:00, 10.23it/s]\n"
     ]
    },
    {
     "name": "stdout",
     "output_type": "stream",
     "text": [
      "Loss1: 0.4779, Loss2: 0.3274, Loss3: 1.1568\n"
     ]
    },
    {
     "name": "stderr",
     "output_type": "stream",
     "text": [
      "Test_Loader: 100%|██████████| 288/288 [00:27<00:00, 10.63it/s]\n"
     ]
    },
    {
     "name": "stdout",
     "output_type": "stream",
     "text": [
      "Loss1: 0.4731, Loss2: 0.3238, Loss3: 1.1595\n"
     ]
    },
    {
     "name": "stderr",
     "output_type": "stream",
     "text": [
      "Test_Loader: 100%|██████████| 288/288 [00:26<00:00, 10.98it/s]\n"
     ]
    },
    {
     "name": "stdout",
     "output_type": "stream",
     "text": [
      "Loss1: 0.4822, Loss2: 0.3286, Loss3: 1.1661\n"
     ]
    },
    {
     "name": "stderr",
     "output_type": "stream",
     "text": [
      "Test_Loader: 100%|██████████| 288/288 [00:26<00:00, 10.94it/s]\n"
     ]
    },
    {
     "name": "stdout",
     "output_type": "stream",
     "text": [
      "Loss1: 0.4747, Loss2: 0.3276, Loss3: 1.1509\n"
     ]
    },
    {
     "name": "stderr",
     "output_type": "stream",
     "text": [
      "Test_Loader: 100%|██████████| 288/288 [00:26<00:00, 11.01it/s]\n"
     ]
    },
    {
     "name": "stdout",
     "output_type": "stream",
     "text": [
      "Loss1: 0.4725, Loss2: 0.3202, Loss3: 1.1663\n"
     ]
    },
    {
     "name": "stderr",
     "output_type": "stream",
     "text": [
      "Test_Loader: 100%|██████████| 288/288 [00:26<00:00, 10.82it/s]\n"
     ]
    },
    {
     "name": "stdout",
     "output_type": "stream",
     "text": [
      "Loss1: 0.4770, Loss2: 0.3234, Loss3: 1.1483\n"
     ]
    },
    {
     "name": "stderr",
     "output_type": "stream",
     "text": [
      "Test_Loader: 100%|██████████| 288/288 [00:26<00:00, 10.96it/s]\n"
     ]
    },
    {
     "name": "stdout",
     "output_type": "stream",
     "text": [
      "Loss1: 0.4567, Loss2: 0.3074, Loss3: 1.0626\n"
     ]
    },
    {
     "name": "stderr",
     "output_type": "stream",
     "text": [
      "Test_Loader: 100%|██████████| 288/288 [00:27<00:00, 10.65it/s]\n"
     ]
    },
    {
     "name": "stdout",
     "output_type": "stream",
     "text": [
      "Loss1: 0.4472, Loss2: 0.2955, Loss3: 1.0620\n"
     ]
    },
    {
     "name": "stderr",
     "output_type": "stream",
     "text": [
      "Test_Loader: 100%|██████████| 288/288 [00:26<00:00, 10.71it/s]\n"
     ]
    },
    {
     "name": "stdout",
     "output_type": "stream",
     "text": [
      "Loss1: 0.4526, Loss2: 0.3039, Loss3: 1.0478\n"
     ]
    },
    {
     "name": "stderr",
     "output_type": "stream",
     "text": [
      "Test_Loader: 100%|██████████| 288/288 [00:27<00:00, 10.67it/s]\n"
     ]
    },
    {
     "name": "stdout",
     "output_type": "stream",
     "text": [
      "Loss1: 0.4442, Loss2: 0.2947, Loss3: 1.0661\n"
     ]
    },
    {
     "name": "stderr",
     "output_type": "stream",
     "text": [
      "Test_Loader: 100%|██████████| 288/288 [00:27<00:00, 10.64it/s]\n"
     ]
    },
    {
     "name": "stdout",
     "output_type": "stream",
     "text": [
      "Loss1: 0.4692, Loss2: 0.3065, Loss3: 1.0742\n"
     ]
    },
    {
     "name": "stderr",
     "output_type": "stream",
     "text": [
      "Test_Loader: 100%|██████████| 288/288 [00:26<00:00, 10.69it/s]\n"
     ]
    },
    {
     "name": "stdout",
     "output_type": "stream",
     "text": [
      "Loss1: 0.4529, Loss2: 0.2972, Loss3: 1.0914\n"
     ]
    },
    {
     "name": "stderr",
     "output_type": "stream",
     "text": [
      "Test_Loader: 100%|██████████| 288/288 [00:26<00:00, 11.07it/s]\n"
     ]
    },
    {
     "name": "stdout",
     "output_type": "stream",
     "text": [
      "Loss1: 0.4562, Loss2: 0.3020, Loss3: 1.0715\n"
     ]
    },
    {
     "name": "stderr",
     "output_type": "stream",
     "text": [
      "Test_Loader: 100%|██████████| 288/288 [00:26<00:00, 11.00it/s]\n"
     ]
    },
    {
     "name": "stdout",
     "output_type": "stream",
     "text": [
      "Loss1: 0.4519, Loss2: 0.3031, Loss3: 1.0794\n"
     ]
    },
    {
     "name": "stderr",
     "output_type": "stream",
     "text": [
      "Test_Loader: 100%|██████████| 288/288 [00:27<00:00, 10.54it/s]\n"
     ]
    },
    {
     "name": "stdout",
     "output_type": "stream",
     "text": [
      "Loss1: 0.4475, Loss2: 0.2993, Loss3: 1.0627\n"
     ]
    },
    {
     "name": "stderr",
     "output_type": "stream",
     "text": [
      "Test_Loader: 100%|██████████| 288/288 [00:25<00:00, 11.10it/s]\n"
     ]
    },
    {
     "name": "stdout",
     "output_type": "stream",
     "text": [
      "Loss1: 0.4461, Loss2: 0.2884, Loss3: 1.0635\n"
     ]
    },
    {
     "name": "stderr",
     "output_type": "stream",
     "text": [
      "Test_Loader: 100%|██████████| 288/288 [00:26<00:00, 10.95it/s]\n"
     ]
    },
    {
     "name": "stdout",
     "output_type": "stream",
     "text": [
      "Loss1: 0.4437, Loss2: 0.2908, Loss3: 1.0444\n"
     ]
    },
    {
     "name": "stderr",
     "output_type": "stream",
     "text": [
      "Test_Loader: 100%|██████████| 288/288 [00:26<00:00, 10.85it/s]\n"
     ]
    },
    {
     "name": "stdout",
     "output_type": "stream",
     "text": [
      "Loss1: 0.4446, Loss2: 0.2875, Loss3: 1.0377\n"
     ]
    },
    {
     "name": "stderr",
     "output_type": "stream",
     "text": [
      "Test_Loader: 100%|██████████| 288/288 [00:26<00:00, 10.79it/s]\n"
     ]
    },
    {
     "name": "stdout",
     "output_type": "stream",
     "text": [
      "Loss1: 0.4482, Loss2: 0.2900, Loss3: 1.0396\n"
     ]
    },
    {
     "name": "stderr",
     "output_type": "stream",
     "text": [
      "Test_Loader: 100%|██████████| 288/288 [00:26<00:00, 10.72it/s]\n"
     ]
    },
    {
     "name": "stdout",
     "output_type": "stream",
     "text": [
      "Loss1: 0.4286, Loss2: 0.2772, Loss3: 1.0462\n"
     ]
    },
    {
     "name": "stderr",
     "output_type": "stream",
     "text": [
      "Test_Loader: 100%|██████████| 288/288 [00:26<00:00, 10.71it/s]\n"
     ]
    },
    {
     "name": "stdout",
     "output_type": "stream",
     "text": [
      "Loss1: 0.4502, Loss2: 0.2858, Loss3: 1.0527\n"
     ]
    },
    {
     "name": "stderr",
     "output_type": "stream",
     "text": [
      "Test_Loader: 100%|██████████| 288/288 [00:26<00:00, 10.70it/s]\n"
     ]
    },
    {
     "name": "stdout",
     "output_type": "stream",
     "text": [
      "Loss1: 0.4390, Loss2: 0.2832, Loss3: 1.0425\n"
     ]
    },
    {
     "name": "stderr",
     "output_type": "stream",
     "text": [
      "Test_Loader: 100%|██████████| 288/288 [00:26<00:00, 10.79it/s]\n"
     ]
    },
    {
     "name": "stdout",
     "output_type": "stream",
     "text": [
      "Loss1: 0.4353, Loss2: 0.2773, Loss3: 1.0457\n"
     ]
    },
    {
     "name": "stderr",
     "output_type": "stream",
     "text": [
      "Test_Loader: 100%|██████████| 288/288 [00:26<00:00, 10.93it/s]\n"
     ]
    },
    {
     "name": "stdout",
     "output_type": "stream",
     "text": [
      "Loss1: 0.4308, Loss2: 0.2765, Loss3: 1.0490\n"
     ]
    },
    {
     "name": "stderr",
     "output_type": "stream",
     "text": [
      "Test_Loader: 100%|██████████| 288/288 [00:26<00:00, 10.96it/s]\n"
     ]
    },
    {
     "name": "stdout",
     "output_type": "stream",
     "text": [
      "Loss1: 0.4304, Loss2: 0.2734, Loss3: 1.0407\n"
     ]
    },
    {
     "name": "stderr",
     "output_type": "stream",
     "text": [
      "Test_Loader: 100%|██████████| 288/288 [00:25<00:00, 11.21it/s]\n"
     ]
    },
    {
     "name": "stdout",
     "output_type": "stream",
     "text": [
      "Loss1: 0.4231, Loss2: 0.2727, Loss3: 1.0187\n"
     ]
    },
    {
     "name": "stderr",
     "output_type": "stream",
     "text": [
      "Test_Loader: 100%|██████████| 288/288 [00:26<00:00, 11.06it/s]\n"
     ]
    },
    {
     "name": "stdout",
     "output_type": "stream",
     "text": [
      "Loss1: 0.4170, Loss2: 0.2716, Loss3: 1.0052\n"
     ]
    },
    {
     "name": "stderr",
     "output_type": "stream",
     "text": [
      "Test_Loader: 100%|██████████| 288/288 [00:27<00:00, 10.31it/s]\n"
     ]
    },
    {
     "name": "stdout",
     "output_type": "stream",
     "text": [
      "Loss1: 0.4169, Loss2: 0.2795, Loss3: 0.9919\n"
     ]
    },
    {
     "name": "stderr",
     "output_type": "stream",
     "text": [
      "Test_Loader: 100%|██████████| 288/288 [00:27<00:00, 10.51it/s]\n"
     ]
    },
    {
     "name": "stdout",
     "output_type": "stream",
     "text": [
      "Loss1: 0.4197, Loss2: 0.2834, Loss3: 1.0045\n"
     ]
    },
    {
     "name": "stderr",
     "output_type": "stream",
     "text": [
      "Test_Loader: 100%|██████████| 288/288 [00:26<00:00, 10.85it/s]\n"
     ]
    },
    {
     "name": "stdout",
     "output_type": "stream",
     "text": [
      "Loss1: 0.4242, Loss2: 0.2769, Loss3: 1.0065\n"
     ]
    },
    {
     "name": "stderr",
     "output_type": "stream",
     "text": [
      "Test_Loader: 100%|██████████| 288/288 [00:27<00:00, 10.58it/s]\n"
     ]
    },
    {
     "name": "stdout",
     "output_type": "stream",
     "text": [
      "Loss1: 0.4311, Loss2: 0.2856, Loss3: 1.0099\n"
     ]
    },
    {
     "name": "stderr",
     "output_type": "stream",
     "text": [
      "Test_Loader: 100%|██████████| 288/288 [00:27<00:00, 10.66it/s]\n"
     ]
    },
    {
     "name": "stdout",
     "output_type": "stream",
     "text": [
      "Loss1: 0.4359, Loss2: 0.2859, Loss3: 1.0307\n"
     ]
    },
    {
     "name": "stderr",
     "output_type": "stream",
     "text": [
      "Test_Loader: 100%|██████████| 288/288 [00:26<00:00, 10.77it/s]\n"
     ]
    },
    {
     "name": "stdout",
     "output_type": "stream",
     "text": [
      "Loss1: 0.4375, Loss2: 0.2815, Loss3: 1.0088\n"
     ]
    },
    {
     "name": "stderr",
     "output_type": "stream",
     "text": [
      "Test_Loader: 100%|██████████| 288/288 [00:26<00:00, 10.69it/s]\n"
     ]
    },
    {
     "name": "stdout",
     "output_type": "stream",
     "text": [
      "Loss1: 0.4394, Loss2: 0.2857, Loss3: 1.0149\n"
     ]
    },
    {
     "name": "stderr",
     "output_type": "stream",
     "text": [
      "Test_Loader: 100%|██████████| 288/288 [00:26<00:00, 10.87it/s]\n"
     ]
    },
    {
     "name": "stdout",
     "output_type": "stream",
     "text": [
      "Loss1: 0.4376, Loss2: 0.2815, Loss3: 1.0050\n"
     ]
    },
    {
     "name": "stderr",
     "output_type": "stream",
     "text": [
      "Test_Loader: 100%|██████████| 288/288 [00:26<00:00, 10.95it/s]\n"
     ]
    },
    {
     "name": "stdout",
     "output_type": "stream",
     "text": [
      "Loss1: 0.4326, Loss2: 0.2806, Loss3: 1.0119\n"
     ]
    },
    {
     "name": "stderr",
     "output_type": "stream",
     "text": [
      "Test_Loader: 100%|██████████| 288/288 [00:26<00:00, 10.91it/s]\n"
     ]
    },
    {
     "name": "stdout",
     "output_type": "stream",
     "text": [
      "Loss1: 0.4972, Loss2: 0.2869, Loss3: 1.0840\n"
     ]
    },
    {
     "name": "stderr",
     "output_type": "stream",
     "text": [
      "Test_Loader: 100%|██████████| 288/288 [00:26<00:00, 10.84it/s]\n"
     ]
    },
    {
     "name": "stdout",
     "output_type": "stream",
     "text": [
      "Loss1: 0.4862, Loss2: 0.2884, Loss3: 1.0673\n"
     ]
    },
    {
     "name": "stderr",
     "output_type": "stream",
     "text": [
      "Test_Loader: 100%|██████████| 288/288 [00:26<00:00, 10.81it/s]\n"
     ]
    },
    {
     "name": "stdout",
     "output_type": "stream",
     "text": [
      "Loss1: 0.5057, Loss2: 0.2929, Loss3: 1.0776\n"
     ]
    },
    {
     "name": "stderr",
     "output_type": "stream",
     "text": [
      "Test_Loader: 100%|██████████| 288/288 [00:26<00:00, 10.94it/s]\n"
     ]
    },
    {
     "name": "stdout",
     "output_type": "stream",
     "text": [
      "Loss1: 0.4811, Loss2: 0.2830, Loss3: 1.0807\n"
     ]
    },
    {
     "name": "stderr",
     "output_type": "stream",
     "text": [
      "Test_Loader: 100%|██████████| 288/288 [00:27<00:00, 10.42it/s]\n"
     ]
    },
    {
     "name": "stdout",
     "output_type": "stream",
     "text": [
      "Loss1: 0.4821, Loss2: 0.2807, Loss3: 1.0825\n"
     ]
    },
    {
     "name": "stderr",
     "output_type": "stream",
     "text": [
      "Test_Loader: 100%|██████████| 288/288 [00:26<00:00, 10.68it/s]\n"
     ]
    },
    {
     "name": "stdout",
     "output_type": "stream",
     "text": [
      "Loss1: 0.4829, Loss2: 0.2867, Loss3: 1.0662\n"
     ]
    },
    {
     "name": "stderr",
     "output_type": "stream",
     "text": [
      "Test_Loader: 100%|██████████| 288/288 [00:26<00:00, 11.04it/s]\n"
     ]
    },
    {
     "name": "stdout",
     "output_type": "stream",
     "text": [
      "Loss1: 0.4796, Loss2: 0.2808, Loss3: 1.0782\n"
     ]
    },
    {
     "name": "stderr",
     "output_type": "stream",
     "text": [
      "Test_Loader: 100%|██████████| 288/288 [00:26<00:00, 11.04it/s]\n"
     ]
    },
    {
     "name": "stdout",
     "output_type": "stream",
     "text": [
      "Loss1: 0.4760, Loss2: 0.2757, Loss3: 1.0572\n"
     ]
    },
    {
     "name": "stderr",
     "output_type": "stream",
     "text": [
      "Test_Loader: 100%|██████████| 288/288 [00:26<00:00, 10.76it/s]\n"
     ]
    },
    {
     "name": "stdout",
     "output_type": "stream",
     "text": [
      "Loss1: 0.4770, Loss2: 0.2840, Loss3: 1.0428\n"
     ]
    },
    {
     "name": "stderr",
     "output_type": "stream",
     "text": [
      "Test_Loader: 100%|██████████| 288/288 [00:26<00:00, 10.87it/s]\n"
     ]
    },
    {
     "name": "stdout",
     "output_type": "stream",
     "text": [
      "Loss1: 0.4732, Loss2: 0.2769, Loss3: 1.0685\n"
     ]
    },
    {
     "name": "stderr",
     "output_type": "stream",
     "text": [
      "Test_Loader: 100%|██████████| 288/288 [00:26<00:00, 10.67it/s]\n"
     ]
    },
    {
     "name": "stdout",
     "output_type": "stream",
     "text": [
      "Loss1: 0.4808, Loss2: 0.2842, Loss3: 1.0373\n"
     ]
    },
    {
     "name": "stderr",
     "output_type": "stream",
     "text": [
      "Test_Loader: 100%|██████████| 288/288 [00:26<00:00, 10.86it/s]\n"
     ]
    },
    {
     "name": "stdout",
     "output_type": "stream",
     "text": [
      "Loss1: 0.4863, Loss2: 0.2865, Loss3: 1.0353\n"
     ]
    },
    {
     "name": "stderr",
     "output_type": "stream",
     "text": [
      "Test_Loader: 100%|██████████| 288/288 [00:26<00:00, 10.98it/s]\n"
     ]
    },
    {
     "name": "stdout",
     "output_type": "stream",
     "text": [
      "Loss1: 0.4711, Loss2: 0.2712, Loss3: 1.0371\n"
     ]
    },
    {
     "name": "stderr",
     "output_type": "stream",
     "text": [
      "Test_Loader: 100%|██████████| 288/288 [00:26<00:00, 10.88it/s]\n"
     ]
    },
    {
     "name": "stdout",
     "output_type": "stream",
     "text": [
      "Loss1: 0.4803, Loss2: 0.2695, Loss3: 1.0090\n"
     ]
    },
    {
     "name": "stderr",
     "output_type": "stream",
     "text": [
      "Test_Loader: 100%|██████████| 288/288 [00:26<00:00, 11.01it/s]\n"
     ]
    },
    {
     "name": "stdout",
     "output_type": "stream",
     "text": [
      "Loss1: 0.4785, Loss2: 0.2640, Loss3: 1.0064\n"
     ]
    },
    {
     "name": "stderr",
     "output_type": "stream",
     "text": [
      "Test_Loader: 100%|██████████| 288/288 [00:26<00:00, 10.80it/s]\n"
     ]
    },
    {
     "name": "stdout",
     "output_type": "stream",
     "text": [
      "Loss1: 0.4784, Loss2: 0.2709, Loss3: 1.0128\n"
     ]
    },
    {
     "name": "stderr",
     "output_type": "stream",
     "text": [
      "Test_Loader: 100%|██████████| 288/288 [00:26<00:00, 11.07it/s]\n"
     ]
    },
    {
     "name": "stdout",
     "output_type": "stream",
     "text": [
      "Loss1: 0.4741, Loss2: 0.2667, Loss3: 1.0307\n"
     ]
    },
    {
     "name": "stderr",
     "output_type": "stream",
     "text": [
      "Test_Loader: 100%|██████████| 288/288 [00:26<00:00, 10.79it/s]\n"
     ]
    },
    {
     "name": "stdout",
     "output_type": "stream",
     "text": [
      "Loss1: 0.4704, Loss2: 0.2687, Loss3: 1.0032\n"
     ]
    },
    {
     "name": "stderr",
     "output_type": "stream",
     "text": [
      "Test_Loader: 100%|██████████| 288/288 [00:28<00:00, 10.11it/s]\n"
     ]
    },
    {
     "name": "stdout",
     "output_type": "stream",
     "text": [
      "Loss1: 0.4723, Loss2: 0.2651, Loss3: 1.0147\n"
     ]
    },
    {
     "name": "stderr",
     "output_type": "stream",
     "text": [
      "Test_Loader: 100%|██████████| 288/288 [00:26<00:00, 11.06it/s]\n"
     ]
    },
    {
     "name": "stdout",
     "output_type": "stream",
     "text": [
      "Loss1: 0.4593, Loss2: 0.2648, Loss3: 1.0120\n"
     ]
    },
    {
     "name": "stderr",
     "output_type": "stream",
     "text": [
      "Test_Loader: 100%|██████████| 288/288 [00:26<00:00, 10.87it/s]\n"
     ]
    },
    {
     "name": "stdout",
     "output_type": "stream",
     "text": [
      "Loss1: 0.4613, Loss2: 0.2648, Loss3: 0.9927\n"
     ]
    },
    {
     "name": "stderr",
     "output_type": "stream",
     "text": [
      "Test_Loader: 100%|██████████| 288/288 [00:25<00:00, 11.21it/s]\n"
     ]
    },
    {
     "name": "stdout",
     "output_type": "stream",
     "text": [
      "Loss1: 0.4862, Loss2: 0.2769, Loss3: 1.3889\n"
     ]
    },
    {
     "name": "stderr",
     "output_type": "stream",
     "text": [
      "Test_Loader: 100%|██████████| 288/288 [00:25<00:00, 11.14it/s]\n"
     ]
    },
    {
     "name": "stdout",
     "output_type": "stream",
     "text": [
      "Loss1: 0.4873, Loss2: 0.2794, Loss3: 1.3574\n"
     ]
    },
    {
     "name": "stderr",
     "output_type": "stream",
     "text": [
      "Test_Loader: 100%|██████████| 288/288 [00:26<00:00, 10.79it/s]\n"
     ]
    },
    {
     "name": "stdout",
     "output_type": "stream",
     "text": [
      "Loss1: 0.4722, Loss2: 0.2704, Loss3: 1.3612\n"
     ]
    },
    {
     "name": "stderr",
     "output_type": "stream",
     "text": [
      "Test_Loader: 100%|██████████| 288/288 [00:26<00:00, 10.88it/s]\n"
     ]
    },
    {
     "name": "stdout",
     "output_type": "stream",
     "text": [
      "Loss1: 0.4754, Loss2: 0.2759, Loss3: 1.3314\n"
     ]
    },
    {
     "name": "stderr",
     "output_type": "stream",
     "text": [
      "Test_Loader: 100%|██████████| 288/288 [00:26<00:00, 10.71it/s]\n"
     ]
    },
    {
     "name": "stdout",
     "output_type": "stream",
     "text": [
      "Loss1: 0.4782, Loss2: 0.2791, Loss3: 1.3290\n"
     ]
    },
    {
     "name": "stderr",
     "output_type": "stream",
     "text": [
      "Test_Loader: 100%|██████████| 288/288 [00:26<00:00, 10.72it/s]\n"
     ]
    },
    {
     "name": "stdout",
     "output_type": "stream",
     "text": [
      "Loss1: 0.4743, Loss2: 0.2721, Loss3: 1.3163\n"
     ]
    },
    {
     "name": "stderr",
     "output_type": "stream",
     "text": [
      "Test_Loader: 100%|██████████| 288/288 [00:26<00:00, 10.88it/s]\n"
     ]
    },
    {
     "name": "stdout",
     "output_type": "stream",
     "text": [
      "Loss1: 0.4879, Loss2: 0.2790, Loss3: 1.3379\n"
     ]
    },
    {
     "name": "stderr",
     "output_type": "stream",
     "text": [
      "Test_Loader: 100%|██████████| 288/288 [00:25<00:00, 11.08it/s]\n"
     ]
    },
    {
     "name": "stdout",
     "output_type": "stream",
     "text": [
      "Loss1: 0.4913, Loss2: 0.2818, Loss3: 1.3826\n"
     ]
    },
    {
     "name": "stderr",
     "output_type": "stream",
     "text": [
      "Test_Loader: 100%|██████████| 288/288 [00:25<00:00, 11.13it/s]\n"
     ]
    },
    {
     "name": "stdout",
     "output_type": "stream",
     "text": [
      "Loss1: 0.5136, Loss2: 0.2839, Loss3: 1.3867\n"
     ]
    },
    {
     "name": "stderr",
     "output_type": "stream",
     "text": [
      "Test_Loader: 100%|██████████| 288/288 [00:25<00:00, 11.17it/s]\n"
     ]
    },
    {
     "name": "stdout",
     "output_type": "stream",
     "text": [
      "Loss1: 0.5063, Loss2: 0.2892, Loss3: 1.4034\n"
     ]
    },
    {
     "name": "stderr",
     "output_type": "stream",
     "text": [
      "Test_Loader: 100%|██████████| 288/288 [00:29<00:00,  9.75it/s]\n"
     ]
    },
    {
     "name": "stdout",
     "output_type": "stream",
     "text": [
      "Loss1: 0.5203, Loss2: 0.3029, Loss3: 1.4690\n"
     ]
    },
    {
     "name": "stderr",
     "output_type": "stream",
     "text": [
      "Test_Loader: 100%|██████████| 288/288 [00:27<00:00, 10.42it/s]\n"
     ]
    },
    {
     "name": "stdout",
     "output_type": "stream",
     "text": [
      "Loss1: 0.5162, Loss2: 0.3034, Loss3: 1.4622\n"
     ]
    },
    {
     "name": "stderr",
     "output_type": "stream",
     "text": [
      "Test_Loader: 100%|██████████| 288/288 [00:25<00:00, 11.11it/s]\n"
     ]
    },
    {
     "name": "stdout",
     "output_type": "stream",
     "text": [
      "Loss1: 0.5006, Loss2: 0.2978, Loss3: 1.4770\n"
     ]
    },
    {
     "name": "stderr",
     "output_type": "stream",
     "text": [
      "Test_Loader: 100%|██████████| 288/288 [00:25<00:00, 11.13it/s]\n"
     ]
    },
    {
     "name": "stdout",
     "output_type": "stream",
     "text": [
      "Loss1: 0.5014, Loss2: 0.2953, Loss3: 1.4739\n"
     ]
    },
    {
     "name": "stderr",
     "output_type": "stream",
     "text": [
      "Test_Loader: 100%|██████████| 288/288 [00:25<00:00, 11.15it/s]\n"
     ]
    },
    {
     "name": "stdout",
     "output_type": "stream",
     "text": [
      "Loss1: 0.4942, Loss2: 0.3013, Loss3: 1.4532\n"
     ]
    },
    {
     "name": "stderr",
     "output_type": "stream",
     "text": [
      "Test_Loader: 100%|██████████| 288/288 [00:26<00:00, 11.00it/s]\n"
     ]
    },
    {
     "name": "stdout",
     "output_type": "stream",
     "text": [
      "Loss1: 0.5021, Loss2: 0.3048, Loss3: 1.4477\n"
     ]
    },
    {
     "name": "stderr",
     "output_type": "stream",
     "text": [
      "Test_Loader: 100%|██████████| 288/288 [00:26<00:00, 10.90it/s]\n"
     ]
    },
    {
     "name": "stdout",
     "output_type": "stream",
     "text": [
      "Loss1: 0.4922, Loss2: 0.2999, Loss3: 1.4409\n"
     ]
    },
    {
     "name": "stderr",
     "output_type": "stream",
     "text": [
      "Test_Loader: 100%|██████████| 288/288 [00:26<00:00, 10.95it/s]\n"
     ]
    },
    {
     "name": "stdout",
     "output_type": "stream",
     "text": [
      "Loss1: 0.5088, Loss2: 0.3009, Loss3: 1.4514\n"
     ]
    },
    {
     "name": "stderr",
     "output_type": "stream",
     "text": [
      "Test_Loader: 100%|██████████| 288/288 [00:26<00:00, 10.72it/s]\n"
     ]
    },
    {
     "name": "stdout",
     "output_type": "stream",
     "text": [
      "Loss1: 0.5091, Loss2: 0.3098, Loss3: 1.5903\n"
     ]
    },
    {
     "name": "stderr",
     "output_type": "stream",
     "text": [
      "Test_Loader: 100%|██████████| 288/288 [00:26<00:00, 10.96it/s]\n"
     ]
    },
    {
     "name": "stdout",
     "output_type": "stream",
     "text": [
      "Loss1: 0.4991, Loss2: 0.3025, Loss3: 1.5630\n"
     ]
    },
    {
     "name": "stderr",
     "output_type": "stream",
     "text": [
      "Test_Loader: 100%|██████████| 288/288 [00:26<00:00, 10.91it/s]\n"
     ]
    },
    {
     "name": "stdout",
     "output_type": "stream",
     "text": [
      "Loss1: 0.5020, Loss2: 0.2975, Loss3: 1.5434\n"
     ]
    },
    {
     "name": "stderr",
     "output_type": "stream",
     "text": [
      "Test_Loader: 100%|██████████| 288/288 [00:26<00:00, 10.69it/s]\n"
     ]
    },
    {
     "name": "stdout",
     "output_type": "stream",
     "text": [
      "Loss1: 0.4992, Loss2: 0.3059, Loss3: 1.5378\n"
     ]
    },
    {
     "name": "stderr",
     "output_type": "stream",
     "text": [
      "Test_Loader: 100%|██████████| 288/288 [00:26<00:00, 10.79it/s]\n"
     ]
    },
    {
     "name": "stdout",
     "output_type": "stream",
     "text": [
      "Loss1: 0.4997, Loss2: 0.2983, Loss3: 1.5290\n"
     ]
    },
    {
     "name": "stderr",
     "output_type": "stream",
     "text": [
      "Test_Loader: 100%|██████████| 288/288 [00:27<00:00, 10.33it/s]\n"
     ]
    },
    {
     "name": "stdout",
     "output_type": "stream",
     "text": [
      "Loss1: 0.4798, Loss2: 0.2920, Loss3: 1.5258\n"
     ]
    },
    {
     "name": "stderr",
     "output_type": "stream",
     "text": [
      "Test_Loader: 100%|██████████| 288/288 [00:29<00:00,  9.63it/s]\n"
     ]
    },
    {
     "name": "stdout",
     "output_type": "stream",
     "text": [
      "Loss1: 0.5433, Loss2: 0.3603, Loss3: 1.6252\n"
     ]
    },
    {
     "name": "stderr",
     "output_type": "stream",
     "text": [
      "Test_Loader: 100%|██████████| 288/288 [00:27<00:00, 10.31it/s]\n"
     ]
    },
    {
     "name": "stdout",
     "output_type": "stream",
     "text": [
      "Loss1: 0.5374, Loss2: 0.3541, Loss3: 1.6319\n"
     ]
    },
    {
     "name": "stderr",
     "output_type": "stream",
     "text": [
      "Test_Loader: 100%|██████████| 288/288 [00:25<00:00, 11.13it/s]\n"
     ]
    },
    {
     "name": "stdout",
     "output_type": "stream",
     "text": [
      "Loss1: 0.5525, Loss2: 0.3619, Loss3: 1.6313\n"
     ]
    },
    {
     "name": "stderr",
     "output_type": "stream",
     "text": [
      "Test_Loader: 100%|██████████| 288/288 [00:26<00:00, 10.99it/s]\n"
     ]
    },
    {
     "name": "stdout",
     "output_type": "stream",
     "text": [
      "Loss1: 0.5374, Loss2: 0.3519, Loss3: 1.6299\n"
     ]
    },
    {
     "name": "stderr",
     "output_type": "stream",
     "text": [
      "Test_Loader: 100%|██████████| 288/288 [00:26<00:00, 10.97it/s]\n"
     ]
    },
    {
     "name": "stdout",
     "output_type": "stream",
     "text": [
      "Loss1: 0.5373, Loss2: 0.3580, Loss3: 1.5995\n"
     ]
    },
    {
     "name": "stderr",
     "output_type": "stream",
     "text": [
      "Test_Loader: 100%|██████████| 288/288 [00:26<00:00, 10.76it/s]\n"
     ]
    },
    {
     "name": "stdout",
     "output_type": "stream",
     "text": [
      "Loss1: 0.5340, Loss2: 0.3541, Loss3: 1.5911\n"
     ]
    },
    {
     "name": "stderr",
     "output_type": "stream",
     "text": [
      "Test_Loader: 100%|██████████| 288/288 [00:26<00:00, 10.76it/s]\n"
     ]
    },
    {
     "name": "stdout",
     "output_type": "stream",
     "text": [
      "Loss1: 0.5250, Loss2: 0.3527, Loss3: 1.5767\n"
     ]
    },
    {
     "name": "stderr",
     "output_type": "stream",
     "text": [
      "Test_Loader: 100%|██████████| 288/288 [00:27<00:00, 10.51it/s]\n"
     ]
    },
    {
     "name": "stdout",
     "output_type": "stream",
     "text": [
      "Loss1: 0.5278, Loss2: 0.3448, Loss3: 1.5566\n"
     ]
    },
    {
     "name": "stderr",
     "output_type": "stream",
     "text": [
      "Test_Loader: 100%|██████████| 288/288 [00:27<00:00, 10.54it/s]\n"
     ]
    },
    {
     "name": "stdout",
     "output_type": "stream",
     "text": [
      "Loss1: 0.4796, Loss2: 0.2777, Loss3: 1.4216\n"
     ]
    },
    {
     "name": "stderr",
     "output_type": "stream",
     "text": [
      "Test_Loader: 100%|██████████| 288/288 [00:27<00:00, 10.66it/s]\n"
     ]
    },
    {
     "name": "stdout",
     "output_type": "stream",
     "text": [
      "Loss1: 0.4373, Loss2: 0.2462, Loss3: 1.2190\n"
     ]
    },
    {
     "name": "stderr",
     "output_type": "stream",
     "text": [
      "Test_Loader: 100%|██████████| 288/288 [00:26<00:00, 10.75it/s]\n"
     ]
    },
    {
     "name": "stdout",
     "output_type": "stream",
     "text": [
      "Loss1: 0.4546, Loss2: 0.2468, Loss3: 1.2486\n"
     ]
    },
    {
     "name": "stderr",
     "output_type": "stream",
     "text": [
      "Test_Loader: 100%|██████████| 288/288 [00:26<00:00, 10.85it/s]\n"
     ]
    },
    {
     "name": "stdout",
     "output_type": "stream",
     "text": [
      "Loss1: 0.4528, Loss2: 0.2475, Loss3: 1.2367\n"
     ]
    },
    {
     "name": "stderr",
     "output_type": "stream",
     "text": [
      "Test_Loader: 100%|██████████| 288/288 [00:26<00:00, 10.96it/s]\n"
     ]
    },
    {
     "name": "stdout",
     "output_type": "stream",
     "text": [
      "Loss1: 0.4506, Loss2: 0.2456, Loss3: 1.2281\n"
     ]
    },
    {
     "name": "stderr",
     "output_type": "stream",
     "text": [
      "Test_Loader: 100%|██████████| 288/288 [00:28<00:00, 10.01it/s]\n"
     ]
    },
    {
     "name": "stdout",
     "output_type": "stream",
     "text": [
      "Loss1: 0.4515, Loss2: 0.2461, Loss3: 1.2323\n"
     ]
    },
    {
     "name": "stderr",
     "output_type": "stream",
     "text": [
      "Test_Loader: 100%|██████████| 288/288 [00:28<00:00, 10.28it/s]\n"
     ]
    },
    {
     "name": "stdout",
     "output_type": "stream",
     "text": [
      "Loss1: 0.4566, Loss2: 0.2443, Loss3: 1.2420\n"
     ]
    },
    {
     "name": "stderr",
     "output_type": "stream",
     "text": [
      "Test_Loader: 100%|██████████| 288/288 [00:26<00:00, 11.07it/s]\n"
     ]
    },
    {
     "name": "stdout",
     "output_type": "stream",
     "text": [
      "Loss1: 0.4389, Loss2: 0.2441, Loss3: 1.2283\n"
     ]
    },
    {
     "name": "stderr",
     "output_type": "stream",
     "text": [
      "Test_Loader: 100%|██████████| 288/288 [00:26<00:00, 10.97it/s]\n"
     ]
    },
    {
     "name": "stdout",
     "output_type": "stream",
     "text": [
      "Loss1: 0.4418, Loss2: 0.2388, Loss3: 1.2456\n"
     ]
    },
    {
     "name": "stderr",
     "output_type": "stream",
     "text": [
      "Test_Loader: 100%|██████████| 288/288 [00:26<00:00, 10.96it/s]\n"
     ]
    },
    {
     "name": "stdout",
     "output_type": "stream",
     "text": [
      "Loss1: 0.4274, Loss2: 0.2385, Loss3: 1.2219\n"
     ]
    },
    {
     "name": "stderr",
     "output_type": "stream",
     "text": [
      "Test_Loader: 100%|██████████| 288/288 [00:26<00:00, 10.81it/s]\n"
     ]
    },
    {
     "name": "stdout",
     "output_type": "stream",
     "text": [
      "Loss1: 0.4253, Loss2: 0.2335, Loss3: 1.2066\n"
     ]
    },
    {
     "name": "stderr",
     "output_type": "stream",
     "text": [
      "Test_Loader: 100%|██████████| 288/288 [00:26<00:00, 10.74it/s]\n"
     ]
    },
    {
     "name": "stdout",
     "output_type": "stream",
     "text": [
      "Loss1: 0.4233, Loss2: 0.2349, Loss3: 1.2084\n"
     ]
    },
    {
     "name": "stderr",
     "output_type": "stream",
     "text": [
      "Test_Loader: 100%|██████████| 288/288 [00:27<00:00, 10.58it/s]\n"
     ]
    },
    {
     "name": "stdout",
     "output_type": "stream",
     "text": [
      "Loss1: 0.4175, Loss2: 0.2306, Loss3: 1.1966\n"
     ]
    },
    {
     "name": "stderr",
     "output_type": "stream",
     "text": [
      "Test_Loader: 100%|██████████| 288/288 [00:26<00:00, 10.74it/s]\n"
     ]
    },
    {
     "name": "stdout",
     "output_type": "stream",
     "text": [
      "Loss1: 0.4201, Loss2: 0.2309, Loss3: 1.1944\n"
     ]
    },
    {
     "name": "stderr",
     "output_type": "stream",
     "text": [
      "Test_Loader: 100%|██████████| 288/288 [00:26<00:00, 10.71it/s]\n"
     ]
    },
    {
     "name": "stdout",
     "output_type": "stream",
     "text": [
      "Loss1: 0.4199, Loss2: 0.2308, Loss3: 1.2029\n"
     ]
    },
    {
     "name": "stderr",
     "output_type": "stream",
     "text": [
      "Test_Loader: 100%|██████████| 288/288 [00:25<00:00, 11.20it/s]\n"
     ]
    },
    {
     "name": "stdout",
     "output_type": "stream",
     "text": [
      "Loss1: 0.4465, Loss2: 0.2336, Loss3: 1.1938\n"
     ]
    },
    {
     "name": "stderr",
     "output_type": "stream",
     "text": [
      "Test_Loader: 100%|██████████| 288/288 [00:25<00:00, 11.08it/s]\n"
     ]
    },
    {
     "name": "stdout",
     "output_type": "stream",
     "text": [
      "Loss1: 0.4366, Loss2: 0.2321, Loss3: 1.1906\n"
     ]
    },
    {
     "name": "stderr",
     "output_type": "stream",
     "text": [
      "Test_Loader: 100%|██████████| 288/288 [00:25<00:00, 11.26it/s]\n"
     ]
    },
    {
     "name": "stdout",
     "output_type": "stream",
     "text": [
      "Loss1: 0.4244, Loss2: 0.2233, Loss3: 1.1550\n"
     ]
    },
    {
     "name": "stderr",
     "output_type": "stream",
     "text": [
      "Test_Loader: 100%|██████████| 288/288 [00:29<00:00,  9.82it/s]\n"
     ]
    },
    {
     "name": "stdout",
     "output_type": "stream",
     "text": [
      "Loss1: 0.4247, Loss2: 0.2212, Loss3: 1.1534\n"
     ]
    },
    {
     "name": "stderr",
     "output_type": "stream",
     "text": [
      "Test_Loader: 100%|██████████| 288/288 [00:27<00:00, 10.60it/s]\n"
     ]
    },
    {
     "name": "stdout",
     "output_type": "stream",
     "text": [
      "Loss1: 0.4264, Loss2: 0.2231, Loss3: 1.1490\n"
     ]
    },
    {
     "name": "stderr",
     "output_type": "stream",
     "text": [
      "Test_Loader: 100%|██████████| 288/288 [00:25<00:00, 11.25it/s]\n"
     ]
    },
    {
     "name": "stdout",
     "output_type": "stream",
     "text": [
      "Loss1: 0.4262, Loss2: 0.2209, Loss3: 1.1385\n"
     ]
    },
    {
     "name": "stderr",
     "output_type": "stream",
     "text": [
      "Test_Loader: 100%|██████████| 288/288 [00:26<00:00, 11.01it/s]\n"
     ]
    },
    {
     "name": "stdout",
     "output_type": "stream",
     "text": [
      "Loss1: 0.4224, Loss2: 0.2185, Loss3: 1.1310\n"
     ]
    },
    {
     "name": "stderr",
     "output_type": "stream",
     "text": [
      "Test_Loader: 100%|██████████| 288/288 [00:25<00:00, 11.08it/s]\n"
     ]
    },
    {
     "name": "stdout",
     "output_type": "stream",
     "text": [
      "Loss1: 0.4258, Loss2: 0.2250, Loss3: 1.1435\n"
     ]
    },
    {
     "name": "stderr",
     "output_type": "stream",
     "text": [
      "Test_Loader: 100%|██████████| 288/288 [00:26<00:00, 10.85it/s]\n"
     ]
    },
    {
     "name": "stdout",
     "output_type": "stream",
     "text": [
      "Loss1: 0.4243, Loss2: 0.2214, Loss3: 1.1261\n"
     ]
    },
    {
     "name": "stderr",
     "output_type": "stream",
     "text": [
      "Test_Loader: 100%|██████████| 288/288 [00:26<00:00, 10.84it/s]\n"
     ]
    },
    {
     "name": "stdout",
     "output_type": "stream",
     "text": [
      "Loss1: 0.4221, Loss2: 0.2161, Loss3: 1.1138\n"
     ]
    },
    {
     "name": "stderr",
     "output_type": "stream",
     "text": [
      "Test_Loader: 100%|██████████| 288/288 [00:26<00:00, 10.84it/s]\n"
     ]
    },
    {
     "name": "stdout",
     "output_type": "stream",
     "text": [
      "Loss1: 0.4092, Loss2: 0.2195, Loss3: 1.1213\n"
     ]
    },
    {
     "name": "stderr",
     "output_type": "stream",
     "text": [
      "Test_Loader: 100%|██████████| 288/288 [00:25<00:00, 11.09it/s]\n"
     ]
    },
    {
     "name": "stdout",
     "output_type": "stream",
     "text": [
      "Loss1: 0.4159, Loss2: 0.2166, Loss3: 1.1009\n"
     ]
    },
    {
     "name": "stderr",
     "output_type": "stream",
     "text": [
      "Test_Loader: 100%|██████████| 288/288 [00:26<00:00, 10.97it/s]\n"
     ]
    },
    {
     "name": "stdout",
     "output_type": "stream",
     "text": [
      "Loss1: 0.4445, Loss2: 0.2303, Loss3: 1.1800\n"
     ]
    },
    {
     "name": "stderr",
     "output_type": "stream",
     "text": [
      "Test_Loader: 100%|██████████| 288/288 [00:26<00:00, 11.01it/s]\n"
     ]
    },
    {
     "name": "stdout",
     "output_type": "stream",
     "text": [
      "Loss1: 0.4489, Loss2: 0.2301, Loss3: 1.1778\n"
     ]
    },
    {
     "name": "stderr",
     "output_type": "stream",
     "text": [
      "Test_Loader: 100%|██████████| 288/288 [00:26<00:00, 10.80it/s]\n"
     ]
    },
    {
     "name": "stdout",
     "output_type": "stream",
     "text": [
      "Loss1: 0.4574, Loss2: 0.2262, Loss3: 1.1473\n"
     ]
    },
    {
     "name": "stderr",
     "output_type": "stream",
     "text": [
      "Test_Loader: 100%|██████████| 288/288 [00:26<00:00, 10.73it/s]\n"
     ]
    },
    {
     "name": "stdout",
     "output_type": "stream",
     "text": [
      "Loss1: 0.4426, Loss2: 0.2274, Loss3: 1.1568\n"
     ]
    },
    {
     "name": "stderr",
     "output_type": "stream",
     "text": [
      "Test_Loader: 100%|██████████| 288/288 [00:26<00:00, 10.81it/s]\n"
     ]
    },
    {
     "name": "stdout",
     "output_type": "stream",
     "text": [
      "Loss1: 0.4472, Loss2: 0.2257, Loss3: 1.1322\n"
     ]
    },
    {
     "name": "stderr",
     "output_type": "stream",
     "text": [
      "Test_Loader: 100%|██████████| 288/288 [00:27<00:00, 10.66it/s]\n"
     ]
    },
    {
     "name": "stdout",
     "output_type": "stream",
     "text": [
      "Loss1: 0.4432, Loss2: 0.2201, Loss3: 1.1327\n"
     ]
    },
    {
     "name": "stderr",
     "output_type": "stream",
     "text": [
      "Test_Loader: 100%|██████████| 288/288 [00:26<00:00, 11.00it/s]\n"
     ]
    },
    {
     "name": "stdout",
     "output_type": "stream",
     "text": [
      "Loss1: 0.4473, Loss2: 0.2196, Loss3: 1.1289\n"
     ]
    },
    {
     "name": "stderr",
     "output_type": "stream",
     "text": [
      "Test_Loader: 100%|██████████| 288/288 [00:26<00:00, 10.98it/s]\n"
     ]
    },
    {
     "name": "stdout",
     "output_type": "stream",
     "text": [
      "Loss1: 0.4469, Loss2: 0.2188, Loss3: 1.1163\n"
     ]
    },
    {
     "name": "stderr",
     "output_type": "stream",
     "text": [
      "Test_Loader: 100%|██████████| 288/288 [00:26<00:00, 11.07it/s]\n"
     ]
    },
    {
     "name": "stdout",
     "output_type": "stream",
     "text": [
      "Loss1: 0.4594, Loss2: 0.2291, Loss3: 1.1095\n"
     ]
    },
    {
     "name": "stderr",
     "output_type": "stream",
     "text": [
      "Test_Loader: 100%|██████████| 288/288 [00:26<00:00, 10.94it/s]\n"
     ]
    },
    {
     "name": "stdout",
     "output_type": "stream",
     "text": [
      "Loss1: 0.4435, Loss2: 0.2208, Loss3: 1.1072\n"
     ]
    },
    {
     "name": "stderr",
     "output_type": "stream",
     "text": [
      "Test_Loader: 100%|██████████| 288/288 [00:26<00:00, 10.84it/s]\n"
     ]
    },
    {
     "name": "stdout",
     "output_type": "stream",
     "text": [
      "Loss1: 0.4248, Loss2: 0.2140, Loss3: 1.0838\n"
     ]
    },
    {
     "name": "stderr",
     "output_type": "stream",
     "text": [
      "Test_Loader: 100%|██████████| 288/288 [00:26<00:00, 10.82it/s]\n"
     ]
    },
    {
     "name": "stdout",
     "output_type": "stream",
     "text": [
      "Loss1: 0.4365, Loss2: 0.2112, Loss3: 1.0829\n"
     ]
    },
    {
     "name": "stderr",
     "output_type": "stream",
     "text": [
      "Test_Loader: 100%|██████████| 288/288 [00:27<00:00, 10.53it/s]\n"
     ]
    },
    {
     "name": "stdout",
     "output_type": "stream",
     "text": [
      "Loss1: 0.4158, Loss2: 0.2105, Loss3: 1.0889\n"
     ]
    },
    {
     "name": "stderr",
     "output_type": "stream",
     "text": [
      "Test_Loader: 100%|██████████| 288/288 [00:27<00:00, 10.55it/s]\n"
     ]
    },
    {
     "name": "stdout",
     "output_type": "stream",
     "text": [
      "Loss1: 0.4132, Loss2: 0.2103, Loss3: 1.0604\n"
     ]
    },
    {
     "name": "stderr",
     "output_type": "stream",
     "text": [
      "Test_Loader: 100%|██████████| 288/288 [00:27<00:00, 10.60it/s]\n"
     ]
    },
    {
     "name": "stdout",
     "output_type": "stream",
     "text": [
      "Loss1: 0.4117, Loss2: 0.2088, Loss3: 1.0748\n"
     ]
    },
    {
     "name": "stderr",
     "output_type": "stream",
     "text": [
      "Test_Loader: 100%|██████████| 288/288 [00:27<00:00, 10.61it/s]\n"
     ]
    },
    {
     "name": "stdout",
     "output_type": "stream",
     "text": [
      "Loss1: 0.4080, Loss2: 0.2068, Loss3: 1.0556\n"
     ]
    },
    {
     "name": "stderr",
     "output_type": "stream",
     "text": [
      "Test_Loader: 100%|██████████| 288/288 [00:26<00:00, 10.78it/s]\n"
     ]
    },
    {
     "name": "stdout",
     "output_type": "stream",
     "text": [
      "Loss1: 0.3836, Loss2: 0.2035, Loss3: 1.0140\n"
     ]
    },
    {
     "name": "stderr",
     "output_type": "stream",
     "text": [
      "Test_Loader: 100%|██████████| 288/288 [00:26<00:00, 10.86it/s]\n"
     ]
    },
    {
     "name": "stdout",
     "output_type": "stream",
     "text": [
      "Loss1: 0.3768, Loss2: 0.2010, Loss3: 1.0057\n"
     ]
    },
    {
     "name": "stderr",
     "output_type": "stream",
     "text": [
      "Test_Loader: 100%|██████████| 288/288 [00:27<00:00, 10.56it/s]\n"
     ]
    },
    {
     "name": "stdout",
     "output_type": "stream",
     "text": [
      "Loss1: 0.3790, Loss2: 0.1981, Loss3: 1.0025\n"
     ]
    },
    {
     "name": "stderr",
     "output_type": "stream",
     "text": [
      "Test_Loader: 100%|██████████| 288/288 [00:27<00:00, 10.37it/s]\n"
     ]
    },
    {
     "name": "stdout",
     "output_type": "stream",
     "text": [
      "Loss1: 0.3706, Loss2: 0.1955, Loss3: 0.9814\n"
     ]
    },
    {
     "name": "stderr",
     "output_type": "stream",
     "text": [
      "Test_Loader: 100%|██████████| 288/288 [00:27<00:00, 10.56it/s]\n"
     ]
    },
    {
     "name": "stdout",
     "output_type": "stream",
     "text": [
      "Loss1: 0.3681, Loss2: 0.1986, Loss3: 0.9897\n"
     ]
    },
    {
     "name": "stderr",
     "output_type": "stream",
     "text": [
      "Test_Loader: 100%|██████████| 288/288 [00:26<00:00, 10.97it/s]\n"
     ]
    },
    {
     "name": "stdout",
     "output_type": "stream",
     "text": [
      "Loss1: 0.3651, Loss2: 0.1947, Loss3: 0.9860\n"
     ]
    },
    {
     "name": "stderr",
     "output_type": "stream",
     "text": [
      "Test_Loader: 100%|██████████| 288/288 [00:26<00:00, 10.89it/s]\n"
     ]
    },
    {
     "name": "stdout",
     "output_type": "stream",
     "text": [
      "Loss1: 0.3758, Loss2: 0.1910, Loss3: 0.9714\n"
     ]
    },
    {
     "name": "stderr",
     "output_type": "stream",
     "text": [
      "Test_Loader: 100%|██████████| 288/288 [00:26<00:00, 10.91it/s]\n"
     ]
    },
    {
     "name": "stdout",
     "output_type": "stream",
     "text": [
      "Loss1: 0.3671, Loss2: 0.1934, Loss3: 0.9686\n"
     ]
    },
    {
     "name": "stderr",
     "output_type": "stream",
     "text": [
      "Test_Loader: 100%|██████████| 288/288 [00:26<00:00, 10.83it/s]\n"
     ]
    },
    {
     "name": "stdout",
     "output_type": "stream",
     "text": [
      "Loss1: 0.3704, Loss2: 0.1906, Loss3: 1.0153\n"
     ]
    },
    {
     "name": "stderr",
     "output_type": "stream",
     "text": [
      "Test_Loader: 100%|██████████| 288/288 [00:26<00:00, 10.73it/s]\n"
     ]
    },
    {
     "name": "stdout",
     "output_type": "stream",
     "text": [
      "Loss1: 0.3617, Loss2: 0.1953, Loss3: 1.0227\n"
     ]
    },
    {
     "name": "stderr",
     "output_type": "stream",
     "text": [
      "Test_Loader: 100%|██████████| 288/288 [00:27<00:00, 10.60it/s]\n"
     ]
    },
    {
     "name": "stdout",
     "output_type": "stream",
     "text": [
      "Loss1: 0.3664, Loss2: 0.1846, Loss3: 1.0128\n"
     ]
    },
    {
     "name": "stderr",
     "output_type": "stream",
     "text": [
      "Test_Loader: 100%|██████████| 288/288 [00:26<00:00, 10.71it/s]\n"
     ]
    },
    {
     "name": "stdout",
     "output_type": "stream",
     "text": [
      "Loss1: 0.3555, Loss2: 0.1891, Loss3: 1.0212\n"
     ]
    },
    {
     "name": "stderr",
     "output_type": "stream",
     "text": [
      "Test_Loader: 100%|██████████| 288/288 [00:26<00:00, 10.77it/s]\n"
     ]
    },
    {
     "name": "stdout",
     "output_type": "stream",
     "text": [
      "Loss1: 0.3501, Loss2: 0.1905, Loss3: 1.0093\n"
     ]
    },
    {
     "name": "stderr",
     "output_type": "stream",
     "text": [
      "Test_Loader: 100%|██████████| 288/288 [00:26<00:00, 10.74it/s]\n"
     ]
    },
    {
     "name": "stdout",
     "output_type": "stream",
     "text": [
      "Loss1: 0.3571, Loss2: 0.1850, Loss3: 0.9827\n"
     ]
    },
    {
     "name": "stderr",
     "output_type": "stream",
     "text": [
      "Test_Loader: 100%|██████████| 288/288 [00:26<00:00, 11.07it/s]\n"
     ]
    },
    {
     "name": "stdout",
     "output_type": "stream",
     "text": [
      "Loss1: 0.3502, Loss2: 0.1798, Loss3: 0.9798\n"
     ]
    },
    {
     "name": "stderr",
     "output_type": "stream",
     "text": [
      "Test_Loader: 100%|██████████| 288/288 [00:27<00:00, 10.55it/s]\n"
     ]
    },
    {
     "name": "stdout",
     "output_type": "stream",
     "text": [
      "Loss1: 0.3464, Loss2: 0.1792, Loss3: 0.9710\n"
     ]
    },
    {
     "name": "stderr",
     "output_type": "stream",
     "text": [
      "Test_Loader: 100%|██████████| 288/288 [00:26<00:00, 10.79it/s]\n"
     ]
    },
    {
     "name": "stdout",
     "output_type": "stream",
     "text": [
      "Loss1: 0.3444, Loss2: 0.1804, Loss3: 0.9658\n"
     ]
    },
    {
     "name": "stderr",
     "output_type": "stream",
     "text": [
      "Test_Loader: 100%|██████████| 288/288 [00:25<00:00, 11.10it/s]\n"
     ]
    },
    {
     "name": "stdout",
     "output_type": "stream",
     "text": [
      "Loss1: 0.3433, Loss2: 0.1761, Loss3: 0.9570\n"
     ]
    },
    {
     "name": "stderr",
     "output_type": "stream",
     "text": [
      "Test_Loader: 100%|██████████| 288/288 [00:26<00:00, 10.96it/s]\n"
     ]
    },
    {
     "name": "stdout",
     "output_type": "stream",
     "text": [
      "Loss1: 0.3372, Loss2: 0.1734, Loss3: 0.9500\n"
     ]
    },
    {
     "name": "stderr",
     "output_type": "stream",
     "text": [
      "Test_Loader: 100%|██████████| 288/288 [00:26<00:00, 10.92it/s]\n"
     ]
    },
    {
     "name": "stdout",
     "output_type": "stream",
     "text": [
      "Loss1: 0.3393, Loss2: 0.1753, Loss3: 0.9431\n"
     ]
    },
    {
     "name": "stderr",
     "output_type": "stream",
     "text": [
      "Test_Loader: 100%|██████████| 288/288 [00:26<00:00, 10.88it/s]\n"
     ]
    },
    {
     "name": "stdout",
     "output_type": "stream",
     "text": [
      "Loss1: 0.3579, Loss2: 0.1786, Loss3: 1.0055\n"
     ]
    },
    {
     "name": "stderr",
     "output_type": "stream",
     "text": [
      "Test_Loader: 100%|██████████| 288/288 [00:26<00:00, 10.83it/s]\n"
     ]
    },
    {
     "name": "stdout",
     "output_type": "stream",
     "text": [
      "Loss1: 0.3364, Loss2: 0.1778, Loss3: 0.8743\n"
     ]
    },
    {
     "name": "stderr",
     "output_type": "stream",
     "text": [
      "Test_Loader: 100%|██████████| 288/288 [00:26<00:00, 10.88it/s]\n"
     ]
    },
    {
     "name": "stdout",
     "output_type": "stream",
     "text": [
      "Loss1: 0.3458, Loss2: 0.1807, Loss3: 0.8698\n"
     ]
    },
    {
     "name": "stderr",
     "output_type": "stream",
     "text": [
      "Test_Loader: 100%|██████████| 288/288 [00:26<00:00, 10.75it/s]\n"
     ]
    },
    {
     "name": "stdout",
     "output_type": "stream",
     "text": [
      "Loss1: 0.3349, Loss2: 0.1793, Loss3: 0.8586\n"
     ]
    },
    {
     "name": "stderr",
     "output_type": "stream",
     "text": [
      "Test_Loader: 100%|██████████| 288/288 [00:26<00:00, 10.78it/s]\n"
     ]
    },
    {
     "name": "stdout",
     "output_type": "stream",
     "text": [
      "Loss1: 0.3464, Loss2: 0.1841, Loss3: 0.8664\n"
     ]
    },
    {
     "name": "stderr",
     "output_type": "stream",
     "text": [
      "Test_Loader: 100%|██████████| 288/288 [00:26<00:00, 10.85it/s]\n"
     ]
    },
    {
     "name": "stdout",
     "output_type": "stream",
     "text": [
      "Loss1: 0.3511, Loss2: 0.1806, Loss3: 0.8794\n"
     ]
    },
    {
     "name": "stderr",
     "output_type": "stream",
     "text": [
      "Test_Loader: 100%|██████████| 288/288 [00:26<00:00, 10.94it/s]\n"
     ]
    },
    {
     "name": "stdout",
     "output_type": "stream",
     "text": [
      "Loss1: 0.3498, Loss2: 0.1859, Loss3: 0.8648\n"
     ]
    },
    {
     "name": "stderr",
     "output_type": "stream",
     "text": [
      "Test_Loader: 100%|██████████| 288/288 [00:26<00:00, 10.86it/s]\n"
     ]
    },
    {
     "name": "stdout",
     "output_type": "stream",
     "text": [
      "Loss1: 0.3395, Loss2: 0.1826, Loss3: 0.8644\n"
     ]
    },
    {
     "name": "stderr",
     "output_type": "stream",
     "text": [
      "Test_Loader: 100%|██████████| 288/288 [00:25<00:00, 11.16it/s]\n"
     ]
    },
    {
     "name": "stdout",
     "output_type": "stream",
     "text": [
      "Loss1: 0.3310, Loss2: 0.1689, Loss3: 0.8219\n"
     ]
    },
    {
     "name": "stderr",
     "output_type": "stream",
     "text": [
      "Test_Loader: 100%|██████████| 288/288 [00:26<00:00, 10.99it/s]\n"
     ]
    },
    {
     "name": "stdout",
     "output_type": "stream",
     "text": [
      "Loss1: 0.3325, Loss2: 0.1811, Loss3: 0.8536\n"
     ]
    },
    {
     "name": "stderr",
     "output_type": "stream",
     "text": [
      "Test_Loader: 100%|██████████| 288/288 [00:29<00:00,  9.88it/s]\n"
     ]
    },
    {
     "name": "stdout",
     "output_type": "stream",
     "text": [
      "Loss1: 0.3347, Loss2: 0.1786, Loss3: 0.8276\n"
     ]
    },
    {
     "name": "stderr",
     "output_type": "stream",
     "text": [
      "Test_Loader: 100%|██████████| 288/288 [00:26<00:00, 10.82it/s]\n"
     ]
    },
    {
     "name": "stdout",
     "output_type": "stream",
     "text": [
      "Loss1: 0.3244, Loss2: 0.1643, Loss3: 0.7715\n"
     ]
    },
    {
     "name": "stderr",
     "output_type": "stream",
     "text": [
      "Test_Loader: 100%|██████████| 288/288 [00:25<00:00, 11.32it/s]\n"
     ]
    },
    {
     "name": "stdout",
     "output_type": "stream",
     "text": [
      "Loss1: 0.3182, Loss2: 0.1609, Loss3: 0.7498\n"
     ]
    },
    {
     "name": "stderr",
     "output_type": "stream",
     "text": [
      "Test_Loader: 100%|██████████| 288/288 [00:26<00:00, 11.02it/s]\n"
     ]
    },
    {
     "name": "stdout",
     "output_type": "stream",
     "text": [
      "Loss1: 0.3188, Loss2: 0.1593, Loss3: 0.7362\n"
     ]
    },
    {
     "name": "stderr",
     "output_type": "stream",
     "text": [
      "Test_Loader: 100%|██████████| 288/288 [00:26<00:00, 10.93it/s]\n"
     ]
    },
    {
     "name": "stdout",
     "output_type": "stream",
     "text": [
      "Loss1: 0.3334, Loss2: 0.1620, Loss3: 0.7749\n"
     ]
    },
    {
     "name": "stderr",
     "output_type": "stream",
     "text": [
      "Test_Loader: 100%|██████████| 288/288 [00:26<00:00, 10.83it/s]\n"
     ]
    },
    {
     "name": "stdout",
     "output_type": "stream",
     "text": [
      "Loss1: 0.3243, Loss2: 0.1571, Loss3: 0.7533\n"
     ]
    },
    {
     "name": "stderr",
     "output_type": "stream",
     "text": [
      "Test_Loader: 100%|██████████| 288/288 [00:26<00:00, 10.80it/s]\n"
     ]
    },
    {
     "name": "stdout",
     "output_type": "stream",
     "text": [
      "Loss1: 0.3341, Loss2: 0.1631, Loss3: 0.7929\n"
     ]
    },
    {
     "name": "stderr",
     "output_type": "stream",
     "text": [
      "Test_Loader: 100%|██████████| 288/288 [00:26<00:00, 10.71it/s]\n"
     ]
    },
    {
     "name": "stdout",
     "output_type": "stream",
     "text": [
      "Loss1: 0.3223, Loss2: 0.1574, Loss3: 0.7740\n"
     ]
    },
    {
     "name": "stderr",
     "output_type": "stream",
     "text": [
      "Test_Loader: 100%|██████████| 288/288 [00:27<00:00, 10.62it/s]\n"
     ]
    },
    {
     "name": "stdout",
     "output_type": "stream",
     "text": [
      "Loss1: 0.3226, Loss2: 0.1526, Loss3: 0.7532\n"
     ]
    },
    {
     "name": "stderr",
     "output_type": "stream",
     "text": [
      "Test_Loader: 100%|██████████| 288/288 [00:26<00:00, 10.74it/s]\n"
     ]
    },
    {
     "name": "stdout",
     "output_type": "stream",
     "text": [
      "Loss1: 0.3057, Loss2: 0.1310, Loss3: 0.6579\n"
     ]
    },
    {
     "name": "stderr",
     "output_type": "stream",
     "text": [
      "Test_Loader: 100%|██████████| 288/288 [00:26<00:00, 10.68it/s]\n"
     ]
    },
    {
     "name": "stdout",
     "output_type": "stream",
     "text": [
      "Loss1: 0.3040, Loss2: 0.1366, Loss3: 0.6836\n"
     ]
    },
    {
     "name": "stderr",
     "output_type": "stream",
     "text": [
      "Test_Loader: 100%|██████████| 288/288 [00:26<00:00, 10.74it/s]\n"
     ]
    },
    {
     "name": "stdout",
     "output_type": "stream",
     "text": [
      "Loss1: 0.3166, Loss2: 0.1339, Loss3: 0.6689\n"
     ]
    },
    {
     "name": "stderr",
     "output_type": "stream",
     "text": [
      "Test_Loader: 100%|██████████| 288/288 [00:26<00:00, 10.86it/s]\n"
     ]
    },
    {
     "name": "stdout",
     "output_type": "stream",
     "text": [
      "Loss1: 0.3067, Loss2: 0.1353, Loss3: 0.6827\n"
     ]
    },
    {
     "name": "stderr",
     "output_type": "stream",
     "text": [
      "Test_Loader: 100%|██████████| 288/288 [00:28<00:00,  9.93it/s]\n"
     ]
    },
    {
     "name": "stdout",
     "output_type": "stream",
     "text": [
      "Loss1: 0.3151, Loss2: 0.1590, Loss3: 0.7013\n"
     ]
    },
    {
     "name": "stderr",
     "output_type": "stream",
     "text": [
      "Test_Loader: 100%|██████████| 288/288 [00:28<00:00, 10.26it/s]\n"
     ]
    },
    {
     "name": "stdout",
     "output_type": "stream",
     "text": [
      "Loss1: 0.3158, Loss2: 0.1528, Loss3: 0.6947\n"
     ]
    },
    {
     "name": "stderr",
     "output_type": "stream",
     "text": [
      "Test_Loader: 100%|██████████| 288/288 [00:26<00:00, 10.94it/s]\n"
     ]
    },
    {
     "name": "stdout",
     "output_type": "stream",
     "text": [
      "Loss1: 0.2943, Loss2: 0.1476, Loss3: 0.6690\n"
     ]
    },
    {
     "name": "stderr",
     "output_type": "stream",
     "text": [
      "Test_Loader: 100%|██████████| 288/288 [00:26<00:00, 10.99it/s]\n"
     ]
    },
    {
     "name": "stdout",
     "output_type": "stream",
     "text": [
      "Loss1: 0.3033, Loss2: 0.1507, Loss3: 0.6785\n"
     ]
    },
    {
     "name": "stderr",
     "output_type": "stream",
     "text": [
      "Test_Loader: 100%|██████████| 288/288 [00:26<00:00, 10.94it/s]\n"
     ]
    },
    {
     "name": "stdout",
     "output_type": "stream",
     "text": [
      "Loss1: 0.3009, Loss2: 0.1461, Loss3: 0.6536\n"
     ]
    },
    {
     "name": "stderr",
     "output_type": "stream",
     "text": [
      "Test_Loader: 100%|██████████| 288/288 [00:26<00:00, 11.00it/s]\n"
     ]
    },
    {
     "name": "stdout",
     "output_type": "stream",
     "text": [
      "Loss1: 0.2969, Loss2: 0.1479, Loss3: 0.6463\n"
     ]
    },
    {
     "name": "stderr",
     "output_type": "stream",
     "text": [
      "Test_Loader: 100%|██████████| 288/288 [00:26<00:00, 10.93it/s]\n"
     ]
    },
    {
     "name": "stdout",
     "output_type": "stream",
     "text": [
      "Loss1: 0.2976, Loss2: 0.1462, Loss3: 0.6619\n"
     ]
    },
    {
     "name": "stderr",
     "output_type": "stream",
     "text": [
      "Test_Loader: 100%|██████████| 288/288 [00:27<00:00, 10.56it/s]\n"
     ]
    },
    {
     "name": "stdout",
     "output_type": "stream",
     "text": [
      "Loss1: 0.3024, Loss2: 0.1479, Loss3: 0.6579\n"
     ]
    },
    {
     "name": "stderr",
     "output_type": "stream",
     "text": [
      "Test_Loader: 100%|██████████| 288/288 [00:27<00:00, 10.61it/s]\n"
     ]
    },
    {
     "name": "stdout",
     "output_type": "stream",
     "text": [
      "Loss1: 0.3050, Loss2: 0.1489, Loss3: 0.6699\n"
     ]
    },
    {
     "name": "stderr",
     "output_type": "stream",
     "text": [
      "Test_Loader: 100%|██████████| 288/288 [00:27<00:00, 10.54it/s]\n"
     ]
    },
    {
     "name": "stdout",
     "output_type": "stream",
     "text": [
      "Loss1: 0.3058, Loss2: 0.1517, Loss3: 0.6658\n"
     ]
    },
    {
     "name": "stderr",
     "output_type": "stream",
     "text": [
      "Test_Loader: 100%|██████████| 288/288 [00:26<00:00, 10.68it/s]\n"
     ]
    },
    {
     "name": "stdout",
     "output_type": "stream",
     "text": [
      "Loss1: 0.3094, Loss2: 0.1542, Loss3: 0.6767\n"
     ]
    },
    {
     "name": "stderr",
     "output_type": "stream",
     "text": [
      "Test_Loader: 100%|██████████| 288/288 [00:26<00:00, 10.68it/s]\n"
     ]
    },
    {
     "name": "stdout",
     "output_type": "stream",
     "text": [
      "Loss1: 0.3079, Loss2: 0.1487, Loss3: 0.6603\n"
     ]
    },
    {
     "name": "stderr",
     "output_type": "stream",
     "text": [
      "Test_Loader: 100%|██████████| 288/288 [00:26<00:00, 10.85it/s]\n"
     ]
    },
    {
     "name": "stdout",
     "output_type": "stream",
     "text": [
      "Loss1: 0.3000, Loss2: 0.1515, Loss3: 0.6975\n"
     ]
    },
    {
     "name": "stderr",
     "output_type": "stream",
     "text": [
      "Test_Loader: 100%|██████████| 288/288 [00:28<00:00,  9.96it/s]\n"
     ]
    },
    {
     "name": "stdout",
     "output_type": "stream",
     "text": [
      "Loss1: 0.3025, Loss2: 0.1497, Loss3: 0.7005\n"
     ]
    },
    {
     "name": "stderr",
     "output_type": "stream",
     "text": [
      "Test_Loader: 100%|██████████| 288/288 [00:29<00:00,  9.72it/s]\n"
     ]
    },
    {
     "name": "stdout",
     "output_type": "stream",
     "text": [
      "Loss1: 0.2926, Loss2: 0.1521, Loss3: 0.6868\n"
     ]
    },
    {
     "name": "stderr",
     "output_type": "stream",
     "text": [
      "Test_Loader: 100%|██████████| 288/288 [00:26<00:00, 10.84it/s]\n"
     ]
    },
    {
     "name": "stdout",
     "output_type": "stream",
     "text": [
      "Loss1: 0.2911, Loss2: 0.1486, Loss3: 0.6810\n"
     ]
    },
    {
     "name": "stderr",
     "output_type": "stream",
     "text": [
      "Test_Loader: 100%|██████████| 288/288 [00:26<00:00, 10.91it/s]\n"
     ]
    },
    {
     "name": "stdout",
     "output_type": "stream",
     "text": [
      "Loss1: 0.2894, Loss2: 0.1509, Loss3: 0.6557\n"
     ]
    },
    {
     "name": "stderr",
     "output_type": "stream",
     "text": [
      "Test_Loader: 100%|██████████| 288/288 [00:26<00:00, 10.97it/s]\n"
     ]
    },
    {
     "name": "stdout",
     "output_type": "stream",
     "text": [
      "Loss1: 0.2832, Loss2: 0.1501, Loss3: 0.6462\n"
     ]
    },
    {
     "name": "stderr",
     "output_type": "stream",
     "text": [
      "Test_Loader: 100%|██████████| 288/288 [00:25<00:00, 11.17it/s]\n"
     ]
    },
    {
     "name": "stdout",
     "output_type": "stream",
     "text": [
      "Loss1: 0.2938, Loss2: 0.1488, Loss3: 0.6560\n"
     ]
    },
    {
     "name": "stderr",
     "output_type": "stream",
     "text": [
      "Test_Loader: 100%|██████████| 288/288 [00:27<00:00, 10.66it/s]\n"
     ]
    },
    {
     "name": "stdout",
     "output_type": "stream",
     "text": [
      "Loss1: 0.3065, Loss2: 0.1641, Loss3: 0.6649\n"
     ]
    },
    {
     "name": "stderr",
     "output_type": "stream",
     "text": [
      "Test_Loader: 100%|██████████| 288/288 [00:26<00:00, 10.71it/s]\n"
     ]
    },
    {
     "name": "stdout",
     "output_type": "stream",
     "text": [
      "Loss1: 0.3157, Loss2: 0.1633, Loss3: 0.6732\n"
     ]
    },
    {
     "name": "stderr",
     "output_type": "stream",
     "text": [
      "Test_Loader: 100%|██████████| 288/288 [00:26<00:00, 10.96it/s]\n"
     ]
    },
    {
     "name": "stdout",
     "output_type": "stream",
     "text": [
      "Loss1: 0.3060, Loss2: 0.1646, Loss3: 0.6608\n"
     ]
    },
    {
     "name": "stderr",
     "output_type": "stream",
     "text": [
      "Test_Loader: 100%|██████████| 288/288 [00:26<00:00, 10.90it/s]\n"
     ]
    },
    {
     "name": "stdout",
     "output_type": "stream",
     "text": [
      "Loss1: 0.3037, Loss2: 0.1596, Loss3: 0.6504\n"
     ]
    },
    {
     "name": "stderr",
     "output_type": "stream",
     "text": [
      "Test_Loader: 100%|██████████| 288/288 [00:26<00:00, 10.93it/s]\n"
     ]
    },
    {
     "name": "stdout",
     "output_type": "stream",
     "text": [
      "Loss1: 0.3138, Loss2: 0.1634, Loss3: 0.6737\n"
     ]
    },
    {
     "name": "stderr",
     "output_type": "stream",
     "text": [
      "Test_Loader: 100%|██████████| 288/288 [00:25<00:00, 11.27it/s]\n"
     ]
    },
    {
     "name": "stdout",
     "output_type": "stream",
     "text": [
      "Loss1: 0.3147, Loss2: 0.1673, Loss3: 0.6851\n"
     ]
    },
    {
     "name": "stderr",
     "output_type": "stream",
     "text": [
      "Test_Loader: 100%|██████████| 288/288 [00:25<00:00, 11.15it/s]\n"
     ]
    },
    {
     "name": "stdout",
     "output_type": "stream",
     "text": [
      "Loss1: 0.3130, Loss2: 0.1639, Loss3: 0.6815\n"
     ]
    },
    {
     "name": "stderr",
     "output_type": "stream",
     "text": [
      "Test_Loader: 100%|██████████| 288/288 [00:25<00:00, 11.17it/s]\n"
     ]
    },
    {
     "name": "stdout",
     "output_type": "stream",
     "text": [
      "Loss1: 0.3001, Loss2: 0.1620, Loss3: 0.6692\n"
     ]
    },
    {
     "name": "stderr",
     "output_type": "stream",
     "text": [
      "Test_Loader: 100%|██████████| 288/288 [00:27<00:00, 10.55it/s]\n"
     ]
    },
    {
     "name": "stdout",
     "output_type": "stream",
     "text": [
      "Loss1: 0.2949, Loss2: 0.1652, Loss3: 0.6651\n"
     ]
    },
    {
     "name": "stderr",
     "output_type": "stream",
     "text": [
      "Test_Loader: 100%|██████████| 288/288 [00:27<00:00, 10.40it/s]\n"
     ]
    },
    {
     "name": "stdout",
     "output_type": "stream",
     "text": [
      "Loss1: 0.2983, Loss2: 0.1633, Loss3: 0.6544\n"
     ]
    },
    {
     "name": "stderr",
     "output_type": "stream",
     "text": [
      "Test_Loader: 100%|██████████| 288/288 [00:26<00:00, 10.87it/s]\n"
     ]
    },
    {
     "name": "stdout",
     "output_type": "stream",
     "text": [
      "Loss1: 0.2943, Loss2: 0.1617, Loss3: 0.6547\n"
     ]
    },
    {
     "name": "stderr",
     "output_type": "stream",
     "text": [
      "Test_Loader: 100%|██████████| 288/288 [00:25<00:00, 11.19it/s]\n"
     ]
    },
    {
     "name": "stdout",
     "output_type": "stream",
     "text": [
      "Loss1: 0.2914, Loss2: 0.1663, Loss3: 0.6488\n"
     ]
    },
    {
     "name": "stderr",
     "output_type": "stream",
     "text": [
      "Test_Loader: 100%|██████████| 288/288 [00:27<00:00, 10.57it/s]\n"
     ]
    },
    {
     "name": "stdout",
     "output_type": "stream",
     "text": [
      "Loss1: 0.2973, Loss2: 0.1624, Loss3: 0.6532\n"
     ]
    },
    {
     "name": "stderr",
     "output_type": "stream",
     "text": [
      "Test_Loader: 100%|██████████| 288/288 [00:26<00:00, 10.81it/s]\n"
     ]
    },
    {
     "name": "stdout",
     "output_type": "stream",
     "text": [
      "Loss1: 0.2933, Loss2: 0.1578, Loss3: 0.6522\n"
     ]
    },
    {
     "name": "stderr",
     "output_type": "stream",
     "text": [
      "Test_Loader: 100%|██████████| 288/288 [00:26<00:00, 10.72it/s]\n"
     ]
    },
    {
     "name": "stdout",
     "output_type": "stream",
     "text": [
      "Loss1: 0.2854, Loss2: 0.1580, Loss3: 0.6495\n"
     ]
    },
    {
     "name": "stderr",
     "output_type": "stream",
     "text": [
      "Test_Loader: 100%|██████████| 288/288 [00:26<00:00, 10.68it/s]\n"
     ]
    },
    {
     "name": "stdout",
     "output_type": "stream",
     "text": [
      "Loss1: 0.2953, Loss2: 0.1618, Loss3: 0.6645\n"
     ]
    },
    {
     "name": "stderr",
     "output_type": "stream",
     "text": [
      "Test_Loader: 100%|██████████| 288/288 [00:26<00:00, 10.74it/s]\n"
     ]
    },
    {
     "name": "stdout",
     "output_type": "stream",
     "text": [
      "Loss1: 0.2898, Loss2: 0.1621, Loss3: 0.6589\n"
     ]
    },
    {
     "name": "stderr",
     "output_type": "stream",
     "text": [
      "Test_Loader: 100%|██████████| 288/288 [00:26<00:00, 10.74it/s]\n"
     ]
    },
    {
     "name": "stdout",
     "output_type": "stream",
     "text": [
      "Loss1: 0.2912, Loss2: 0.1581, Loss3: 0.6548\n"
     ]
    },
    {
     "name": "stderr",
     "output_type": "stream",
     "text": [
      "Test_Loader: 100%|██████████| 288/288 [00:26<00:00, 10.82it/s]\n"
     ]
    },
    {
     "name": "stdout",
     "output_type": "stream",
     "text": [
      "Loss1: 0.2657, Loss2: 0.1556, Loss3: 0.5996\n"
     ]
    },
    {
     "name": "stderr",
     "output_type": "stream",
     "text": [
      "Test_Loader: 100%|██████████| 288/288 [00:26<00:00, 10.68it/s]\n"
     ]
    },
    {
     "name": "stdout",
     "output_type": "stream",
     "text": [
      "Loss1: 0.2657, Loss2: 0.1526, Loss3: 0.5760\n"
     ]
    },
    {
     "name": "stderr",
     "output_type": "stream",
     "text": [
      "Test_Loader: 100%|██████████| 288/288 [00:26<00:00, 10.85it/s]\n"
     ]
    },
    {
     "name": "stdout",
     "output_type": "stream",
     "text": [
      "Loss1: 0.2648, Loss2: 0.1561, Loss3: 0.5885\n"
     ]
    },
    {
     "name": "stderr",
     "output_type": "stream",
     "text": [
      "Test_Loader: 100%|██████████| 288/288 [00:29<00:00,  9.83it/s]\n"
     ]
    },
    {
     "name": "stdout",
     "output_type": "stream",
     "text": [
      "Loss1: 0.2592, Loss2: 0.1509, Loss3: 0.5735\n"
     ]
    },
    {
     "name": "stderr",
     "output_type": "stream",
     "text": [
      "Test_Loader: 100%|██████████| 288/288 [00:28<00:00, 10.00it/s]\n"
     ]
    },
    {
     "name": "stdout",
     "output_type": "stream",
     "text": [
      "Loss1: 0.2538, Loss2: 0.1555, Loss3: 0.5765\n"
     ]
    },
    {
     "name": "stderr",
     "output_type": "stream",
     "text": [
      "Test_Loader: 100%|██████████| 288/288 [00:26<00:00, 10.85it/s]\n"
     ]
    },
    {
     "name": "stdout",
     "output_type": "stream",
     "text": [
      "Loss1: 0.2851, Loss2: 0.1528, Loss3: 0.6079\n"
     ]
    },
    {
     "name": "stderr",
     "output_type": "stream",
     "text": [
      "Test_Loader: 100%|██████████| 288/288 [00:26<00:00, 10.78it/s]\n"
     ]
    },
    {
     "name": "stdout",
     "output_type": "stream",
     "text": [
      "Loss1: 0.2788, Loss2: 0.1507, Loss3: 0.6009\n"
     ]
    },
    {
     "name": "stderr",
     "output_type": "stream",
     "text": [
      "Test_Loader: 100%|██████████| 288/288 [00:26<00:00, 10.90it/s]\n"
     ]
    },
    {
     "name": "stdout",
     "output_type": "stream",
     "text": [
      "Loss1: 0.2859, Loss2: 0.1517, Loss3: 0.6132\n"
     ]
    },
    {
     "name": "stderr",
     "output_type": "stream",
     "text": [
      "Test_Loader: 100%|██████████| 288/288 [00:28<00:00, 10.10it/s]\n"
     ]
    },
    {
     "name": "stdout",
     "output_type": "stream",
     "text": [
      "Loss1: 0.2783, Loss2: 0.1486, Loss3: 0.5804\n"
     ]
    },
    {
     "name": "stderr",
     "output_type": "stream",
     "text": [
      "Test_Loader: 100%|██████████| 288/288 [00:26<00:00, 10.79it/s]\n"
     ]
    },
    {
     "name": "stdout",
     "output_type": "stream",
     "text": [
      "Loss1: 0.2758, Loss2: 0.1428, Loss3: 0.5859\n"
     ]
    },
    {
     "name": "stderr",
     "output_type": "stream",
     "text": [
      "Test_Loader: 100%|██████████| 288/288 [00:27<00:00, 10.53it/s]\n"
     ]
    },
    {
     "name": "stdout",
     "output_type": "stream",
     "text": [
      "Loss1: 0.2691, Loss2: 0.1411, Loss3: 0.5849\n"
     ]
    },
    {
     "name": "stderr",
     "output_type": "stream",
     "text": [
      "Test_Loader: 100%|██████████| 288/288 [00:27<00:00, 10.56it/s]\n"
     ]
    },
    {
     "name": "stdout",
     "output_type": "stream",
     "text": [
      "Loss1: 0.2704, Loss2: 0.1424, Loss3: 0.5731\n"
     ]
    },
    {
     "name": "stderr",
     "output_type": "stream",
     "text": [
      "Test_Loader: 100%|██████████| 288/288 [00:27<00:00, 10.62it/s]\n"
     ]
    },
    {
     "name": "stdout",
     "output_type": "stream",
     "text": [
      "Loss1: 0.2710, Loss2: 0.1432, Loss3: 0.5770\n"
     ]
    },
    {
     "name": "stderr",
     "output_type": "stream",
     "text": [
      "Test_Loader: 100%|██████████| 288/288 [00:27<00:00, 10.61it/s]\n"
     ]
    },
    {
     "name": "stdout",
     "output_type": "stream",
     "text": [
      "Loss1: 0.2866, Loss2: 0.1423, Loss3: 0.5716\n"
     ]
    },
    {
     "name": "stderr",
     "output_type": "stream",
     "text": [
      "Test_Loader: 100%|██████████| 288/288 [00:26<00:00, 10.72it/s]\n"
     ]
    },
    {
     "name": "stdout",
     "output_type": "stream",
     "text": [
      "Loss1: 0.2846, Loss2: 0.1416, Loss3: 0.5762\n"
     ]
    },
    {
     "name": "stderr",
     "output_type": "stream",
     "text": [
      "Test_Loader: 100%|██████████| 288/288 [00:26<00:00, 10.68it/s]\n"
     ]
    },
    {
     "name": "stdout",
     "output_type": "stream",
     "text": [
      "Loss1: 0.2895, Loss2: 0.1405, Loss3: 0.5596\n"
     ]
    },
    {
     "name": "stderr",
     "output_type": "stream",
     "text": [
      "Test_Loader: 100%|██████████| 288/288 [00:26<00:00, 10.98it/s]\n"
     ]
    },
    {
     "name": "stdout",
     "output_type": "stream",
     "text": [
      "Loss1: 0.2880, Loss2: 0.1374, Loss3: 0.5722\n"
     ]
    },
    {
     "name": "stderr",
     "output_type": "stream",
     "text": [
      "Test_Loader: 100%|██████████| 288/288 [00:28<00:00, 10.13it/s]\n"
     ]
    },
    {
     "name": "stdout",
     "output_type": "stream",
     "text": [
      "Loss1: 0.4221, Loss2: 0.1435, Loss3: 0.6989\n"
     ]
    },
    {
     "name": "stderr",
     "output_type": "stream",
     "text": [
      "Test_Loader: 100%|██████████| 288/288 [00:26<00:00, 10.83it/s]\n"
     ]
    },
    {
     "name": "stdout",
     "output_type": "stream",
     "text": [
      "Loss1: 0.4104, Loss2: 0.1466, Loss3: 0.6864\n"
     ]
    },
    {
     "name": "stderr",
     "output_type": "stream",
     "text": [
      "Test_Loader: 100%|██████████| 288/288 [00:25<00:00, 11.18it/s]\n"
     ]
    },
    {
     "name": "stdout",
     "output_type": "stream",
     "text": [
      "Loss1: 0.3900, Loss2: 0.1488, Loss3: 0.6984\n"
     ]
    },
    {
     "name": "stderr",
     "output_type": "stream",
     "text": [
      "Test_Loader: 100%|██████████| 288/288 [00:25<00:00, 11.17it/s]\n"
     ]
    },
    {
     "name": "stdout",
     "output_type": "stream",
     "text": [
      "Loss1: 0.3867, Loss2: 0.1446, Loss3: 0.6695\n"
     ]
    },
    {
     "name": "stderr",
     "output_type": "stream",
     "text": [
      "Test_Loader: 100%|██████████| 288/288 [00:26<00:00, 10.76it/s]\n"
     ]
    },
    {
     "name": "stdout",
     "output_type": "stream",
     "text": [
      "Loss1: 0.3825, Loss2: 0.1466, Loss3: 0.6794\n"
     ]
    },
    {
     "name": "stderr",
     "output_type": "stream",
     "text": [
      "Test_Loader: 100%|██████████| 288/288 [00:26<00:00, 10.72it/s]\n"
     ]
    },
    {
     "name": "stdout",
     "output_type": "stream",
     "text": [
      "Loss1: 0.3809, Loss2: 0.1505, Loss3: 0.6725\n"
     ]
    },
    {
     "name": "stderr",
     "output_type": "stream",
     "text": [
      "Test_Loader: 100%|██████████| 288/288 [00:26<00:00, 10.74it/s]\n"
     ]
    },
    {
     "name": "stdout",
     "output_type": "stream",
     "text": [
      "Loss1: 0.3705, Loss2: 0.1639, Loss3: 0.6901\n"
     ]
    },
    {
     "name": "stderr",
     "output_type": "stream",
     "text": [
      "Test_Loader: 100%|██████████| 288/288 [00:27<00:00, 10.58it/s]\n"
     ]
    },
    {
     "name": "stdout",
     "output_type": "stream",
     "text": [
      "Loss1: 0.3604, Loss2: 0.1672, Loss3: 0.6800\n"
     ]
    },
    {
     "name": "stderr",
     "output_type": "stream",
     "text": [
      "Test_Loader: 100%|██████████| 288/288 [00:27<00:00, 10.50it/s]\n"
     ]
    },
    {
     "name": "stdout",
     "output_type": "stream",
     "text": [
      "Loss1: 0.3467, Loss2: 0.1665, Loss3: 0.6619\n"
     ]
    },
    {
     "name": "stderr",
     "output_type": "stream",
     "text": [
      "Test_Loader: 100%|██████████| 288/288 [00:26<00:00, 10.67it/s]\n"
     ]
    },
    {
     "name": "stdout",
     "output_type": "stream",
     "text": [
      "Loss1: 0.3417, Loss2: 0.1677, Loss3: 0.6933\n"
     ]
    },
    {
     "name": "stderr",
     "output_type": "stream",
     "text": [
      "Test_Loader: 100%|██████████| 288/288 [00:26<00:00, 10.81it/s]\n"
     ]
    },
    {
     "name": "stdout",
     "output_type": "stream",
     "text": [
      "Loss1: 0.3555, Loss2: 0.1724, Loss3: 0.6879\n"
     ]
    },
    {
     "name": "stderr",
     "output_type": "stream",
     "text": [
      "Test_Loader: 100%|██████████| 288/288 [00:26<00:00, 11.06it/s]\n"
     ]
    },
    {
     "name": "stdout",
     "output_type": "stream",
     "text": [
      "Loss1: 0.3347, Loss2: 0.1777, Loss3: 0.7031\n"
     ]
    },
    {
     "name": "stderr",
     "output_type": "stream",
     "text": [
      "Test_Loader: 100%|██████████| 288/288 [00:25<00:00, 11.16it/s]\n"
     ]
    },
    {
     "name": "stdout",
     "output_type": "stream",
     "text": [
      "Loss1: 0.3468, Loss2: 0.1788, Loss3: 0.7033\n"
     ]
    },
    {
     "name": "stderr",
     "output_type": "stream",
     "text": [
      "Test_Loader: 100%|██████████| 288/288 [00:26<00:00, 10.82it/s]\n"
     ]
    },
    {
     "name": "stdout",
     "output_type": "stream",
     "text": [
      "Loss1: 0.3375, Loss2: 0.1747, Loss3: 0.6986\n"
     ]
    },
    {
     "name": "stderr",
     "output_type": "stream",
     "text": [
      "Test_Loader: 100%|██████████| 288/288 [00:28<00:00, 10.28it/s]\n"
     ]
    },
    {
     "name": "stdout",
     "output_type": "stream",
     "text": [
      "Loss1: 0.3325, Loss2: 0.1870, Loss3: 0.7169\n"
     ]
    },
    {
     "name": "stderr",
     "output_type": "stream",
     "text": [
      "Test_Loader: 100%|██████████| 288/288 [00:26<00:00, 11.00it/s]\n"
     ]
    },
    {
     "name": "stdout",
     "output_type": "stream",
     "text": [
      "Loss1: 0.3570, Loss2: 0.1945, Loss3: 0.7459\n"
     ]
    },
    {
     "name": "stderr",
     "output_type": "stream",
     "text": [
      "Test_Loader: 100%|██████████| 288/288 [00:26<00:00, 10.96it/s]\n"
     ]
    },
    {
     "name": "stdout",
     "output_type": "stream",
     "text": [
      "Loss1: 0.3552, Loss2: 0.1952, Loss3: 0.7521\n"
     ]
    },
    {
     "name": "stderr",
     "output_type": "stream",
     "text": [
      "Test_Loader: 100%|██████████| 288/288 [00:26<00:00, 10.98it/s]\n"
     ]
    },
    {
     "name": "stdout",
     "output_type": "stream",
     "text": [
      "Loss1: 0.3716, Loss2: 0.1936, Loss3: 0.7387\n"
     ]
    },
    {
     "name": "stderr",
     "output_type": "stream",
     "text": [
      "Test_Loader: 100%|██████████| 288/288 [00:26<00:00, 10.96it/s]\n"
     ]
    },
    {
     "name": "stdout",
     "output_type": "stream",
     "text": [
      "Loss1: 0.3703, Loss2: 0.1939, Loss3: 0.7866\n"
     ]
    },
    {
     "name": "stderr",
     "output_type": "stream",
     "text": [
      "Test_Loader: 100%|██████████| 288/288 [00:26<00:00, 10.83it/s]\n"
     ]
    },
    {
     "name": "stdout",
     "output_type": "stream",
     "text": [
      "Loss1: 0.3754, Loss2: 0.1865, Loss3: 0.7558\n"
     ]
    },
    {
     "name": "stderr",
     "output_type": "stream",
     "text": [
      "Test_Loader: 100%|██████████| 288/288 [00:26<00:00, 10.85it/s]\n"
     ]
    },
    {
     "name": "stdout",
     "output_type": "stream",
     "text": [
      "Loss1: 0.3618, Loss2: 0.1858, Loss3: 0.7399\n"
     ]
    },
    {
     "name": "stderr",
     "output_type": "stream",
     "text": [
      "Test_Loader: 100%|██████████| 288/288 [00:26<00:00, 10.98it/s]\n"
     ]
    },
    {
     "name": "stdout",
     "output_type": "stream",
     "text": [
      "Loss1: 0.3597, Loss2: 0.1801, Loss3: 0.7326\n"
     ]
    },
    {
     "name": "stderr",
     "output_type": "stream",
     "text": [
      "Test_Loader: 100%|██████████| 288/288 [00:26<00:00, 10.93it/s]\n"
     ]
    },
    {
     "name": "stdout",
     "output_type": "stream",
     "text": [
      "Loss1: 0.3524, Loss2: 0.1832, Loss3: 0.7235\n"
     ]
    },
    {
     "name": "stderr",
     "output_type": "stream",
     "text": [
      "Test_Loader: 100%|██████████| 288/288 [00:25<00:00, 11.10it/s]\n"
     ]
    },
    {
     "name": "stdout",
     "output_type": "stream",
     "text": [
      "Loss1: 0.3513, Loss2: 0.1764, Loss3: 0.7401\n"
     ]
    },
    {
     "name": "stderr",
     "output_type": "stream",
     "text": [
      "Test_Loader: 100%|██████████| 288/288 [00:26<00:00, 10.72it/s]\n"
     ]
    },
    {
     "name": "stdout",
     "output_type": "stream",
     "text": [
      "Loss1: 0.3470, Loss2: 0.1789, Loss3: 0.7165\n"
     ]
    },
    {
     "name": "stderr",
     "output_type": "stream",
     "text": [
      "Test_Loader: 100%|██████████| 288/288 [00:26<00:00, 10.80it/s]\n"
     ]
    },
    {
     "name": "stdout",
     "output_type": "stream",
     "text": [
      "Loss1: 0.3381, Loss2: 0.1727, Loss3: 0.7137\n"
     ]
    },
    {
     "name": "stderr",
     "output_type": "stream",
     "text": [
      "Test_Loader: 100%|██████████| 288/288 [00:27<00:00, 10.41it/s]\n"
     ]
    },
    {
     "name": "stdout",
     "output_type": "stream",
     "text": [
      "Loss1: 0.3356, Loss2: 0.1982, Loss3: 0.8114\n"
     ]
    },
    {
     "name": "stderr",
     "output_type": "stream",
     "text": [
      "Test_Loader: 100%|██████████| 288/288 [00:29<00:00,  9.83it/s]\n"
     ]
    },
    {
     "name": "stdout",
     "output_type": "stream",
     "text": [
      "Loss1: 0.3436, Loss2: 0.1879, Loss3: 0.7911\n"
     ]
    },
    {
     "name": "stderr",
     "output_type": "stream",
     "text": [
      "Test_Loader: 100%|██████████| 288/288 [00:26<00:00, 11.00it/s]\n"
     ]
    },
    {
     "name": "stdout",
     "output_type": "stream",
     "text": [
      "Loss1: 0.3423, Loss2: 0.1939, Loss3: 0.8567\n"
     ]
    },
    {
     "name": "stderr",
     "output_type": "stream",
     "text": [
      "Test_Loader: 100%|██████████| 288/288 [00:25<00:00, 11.09it/s]\n"
     ]
    },
    {
     "name": "stdout",
     "output_type": "stream",
     "text": [
      "Loss1: 0.3456, Loss2: 0.2017, Loss3: 0.8729\n"
     ]
    },
    {
     "name": "stderr",
     "output_type": "stream",
     "text": [
      "Test_Loader: 100%|██████████| 288/288 [00:26<00:00, 10.98it/s]\n"
     ]
    },
    {
     "name": "stdout",
     "output_type": "stream",
     "text": [
      "Loss1: 0.3456, Loss2: 0.1985, Loss3: 0.8748\n"
     ]
    },
    {
     "name": "stderr",
     "output_type": "stream",
     "text": [
      "Test_Loader: 100%|██████████| 288/288 [00:26<00:00, 10.93it/s]\n"
     ]
    },
    {
     "name": "stdout",
     "output_type": "stream",
     "text": [
      "Loss1: 0.3399, Loss2: 0.1997, Loss3: 0.8492\n"
     ]
    },
    {
     "name": "stderr",
     "output_type": "stream",
     "text": [
      "Test_Loader: 100%|██████████| 288/288 [00:27<00:00, 10.63it/s]\n"
     ]
    },
    {
     "name": "stdout",
     "output_type": "stream",
     "text": [
      "Loss1: 0.3385, Loss2: 0.1920, Loss3: 0.8361\n"
     ]
    },
    {
     "name": "stderr",
     "output_type": "stream",
     "text": [
      "Test_Loader: 100%|██████████| 288/288 [00:26<00:00, 10.81it/s]\n"
     ]
    },
    {
     "name": "stdout",
     "output_type": "stream",
     "text": [
      "Loss1: 0.3252, Loss2: 0.1874, Loss3: 0.8231\n"
     ]
    },
    {
     "name": "stderr",
     "output_type": "stream",
     "text": [
      "Test_Loader: 100%|██████████| 288/288 [00:27<00:00, 10.52it/s]\n"
     ]
    },
    {
     "name": "stdout",
     "output_type": "stream",
     "text": [
      "Loss1: 0.3310, Loss2: 0.1874, Loss3: 0.8342\n"
     ]
    },
    {
     "name": "stderr",
     "output_type": "stream",
     "text": [
      "Test_Loader: 100%|██████████| 288/288 [00:27<00:00, 10.57it/s]\n"
     ]
    },
    {
     "name": "stdout",
     "output_type": "stream",
     "text": [
      "Loss1: 0.3295, Loss2: 0.1815, Loss3: 0.8109\n"
     ]
    },
    {
     "name": "stderr",
     "output_type": "stream",
     "text": [
      "Test_Loader: 100%|██████████| 288/288 [00:27<00:00, 10.61it/s]\n"
     ]
    },
    {
     "name": "stdout",
     "output_type": "stream",
     "text": [
      "Loss1: 0.3245, Loss2: 0.1873, Loss3: 0.8058\n"
     ]
    },
    {
     "name": "stderr",
     "output_type": "stream",
     "text": [
      "Test_Loader: 100%|██████████| 288/288 [00:26<00:00, 10.94it/s]\n"
     ]
    },
    {
     "name": "stdout",
     "output_type": "stream",
     "text": [
      "Loss1: 0.3345, Loss2: 0.1818, Loss3: 0.8214\n"
     ]
    },
    {
     "name": "stderr",
     "output_type": "stream",
     "text": [
      "Test_Loader: 100%|██████████| 288/288 [00:25<00:00, 11.29it/s]\n"
     ]
    },
    {
     "name": "stdout",
     "output_type": "stream",
     "text": [
      "Loss1: 0.3393, Loss2: 0.1846, Loss3: 0.8302\n"
     ]
    },
    {
     "name": "stderr",
     "output_type": "stream",
     "text": [
      "Test_Loader: 100%|██████████| 288/288 [00:27<00:00, 10.63it/s]\n"
     ]
    },
    {
     "name": "stdout",
     "output_type": "stream",
     "text": [
      "Loss1: 0.3315, Loss2: 0.1768, Loss3: 0.8009\n"
     ]
    },
    {
     "name": "stderr",
     "output_type": "stream",
     "text": [
      "Test_Loader: 100%|██████████| 288/288 [00:29<00:00,  9.71it/s]\n"
     ]
    },
    {
     "name": "stdout",
     "output_type": "stream",
     "text": [
      "Loss1: 0.3343, Loss2: 0.1803, Loss3: 0.8016\n"
     ]
    },
    {
     "name": "stderr",
     "output_type": "stream",
     "text": [
      "Test_Loader: 100%|██████████| 288/288 [00:28<00:00, 10.24it/s]\n"
     ]
    },
    {
     "name": "stdout",
     "output_type": "stream",
     "text": [
      "Loss1: 0.3198, Loss2: 0.1797, Loss3: 0.7956\n"
     ]
    },
    {
     "name": "stderr",
     "output_type": "stream",
     "text": [
      "Test_Loader: 100%|██████████| 288/288 [00:26<00:00, 10.96it/s]\n"
     ]
    },
    {
     "name": "stdout",
     "output_type": "stream",
     "text": [
      "Loss1: 0.3410, Loss2: 0.1742, Loss3: 0.7936\n"
     ]
    },
    {
     "name": "stderr",
     "output_type": "stream",
     "text": [
      "Test_Loader: 100%|██████████| 288/288 [00:26<00:00, 10.93it/s]\n"
     ]
    },
    {
     "name": "stdout",
     "output_type": "stream",
     "text": [
      "Loss1: 0.3391, Loss2: 0.1758, Loss3: 0.7960\n"
     ]
    },
    {
     "name": "stderr",
     "output_type": "stream",
     "text": [
      "Test_Loader: 100%|██████████| 288/288 [00:26<00:00, 10.82it/s]\n"
     ]
    },
    {
     "name": "stdout",
     "output_type": "stream",
     "text": [
      "Loss1: 0.3304, Loss2: 0.1694, Loss3: 0.7870\n"
     ]
    },
    {
     "name": "stderr",
     "output_type": "stream",
     "text": [
      "Test_Loader: 100%|██████████| 288/288 [00:26<00:00, 10.81it/s]\n"
     ]
    },
    {
     "name": "stdout",
     "output_type": "stream",
     "text": [
      "Loss1: 0.3315, Loss2: 0.1685, Loss3: 0.7602\n"
     ]
    },
    {
     "name": "stderr",
     "output_type": "stream",
     "text": [
      "Test_Loader: 100%|██████████| 288/288 [00:26<00:00, 10.98it/s]\n"
     ]
    },
    {
     "name": "stdout",
     "output_type": "stream",
     "text": [
      "Loss1: 0.3258, Loss2: 0.1666, Loss3: 0.7529\n"
     ]
    },
    {
     "name": "stderr",
     "output_type": "stream",
     "text": [
      "Test_Loader: 100%|██████████| 288/288 [00:26<00:00, 10.90it/s]\n"
     ]
    },
    {
     "name": "stdout",
     "output_type": "stream",
     "text": [
      "Loss1: 0.3261, Loss2: 0.1676, Loss3: 0.7460\n"
     ]
    },
    {
     "name": "stderr",
     "output_type": "stream",
     "text": [
      "Test_Loader: 100%|██████████| 288/288 [00:26<00:00, 11.07it/s]\n"
     ]
    },
    {
     "name": "stdout",
     "output_type": "stream",
     "text": [
      "Loss1: 0.3192, Loss2: 0.1651, Loss3: 0.7567\n"
     ]
    },
    {
     "name": "stderr",
     "output_type": "stream",
     "text": [
      "Test_Loader: 100%|██████████| 288/288 [00:26<00:00, 10.88it/s]\n"
     ]
    },
    {
     "name": "stdout",
     "output_type": "stream",
     "text": [
      "Loss1: 0.3233, Loss2: 0.1624, Loss3: 0.7252\n"
     ]
    },
    {
     "name": "stderr",
     "output_type": "stream",
     "text": [
      "Test_Loader: 100%|██████████| 288/288 [00:26<00:00, 10.94it/s]\n"
     ]
    },
    {
     "name": "stdout",
     "output_type": "stream",
     "text": [
      "Loss1: 0.3182, Loss2: 0.1593, Loss3: 0.7294\n"
     ]
    },
    {
     "name": "stderr",
     "output_type": "stream",
     "text": [
      "Test_Loader: 100%|██████████| 288/288 [00:26<00:00, 10.89it/s]\n"
     ]
    },
    {
     "name": "stdout",
     "output_type": "stream",
     "text": [
      "Loss1: 0.3121, Loss2: 0.1600, Loss3: 0.7268\n"
     ]
    },
    {
     "name": "stderr",
     "output_type": "stream",
     "text": [
      "Test_Loader: 100%|██████████| 288/288 [00:25<00:00, 11.17it/s]\n"
     ]
    },
    {
     "name": "stdout",
     "output_type": "stream",
     "text": [
      "Loss1: 0.3164, Loss2: 0.1585, Loss3: 0.7082\n"
     ]
    },
    {
     "name": "stderr",
     "output_type": "stream",
     "text": [
      "Test_Loader: 100%|██████████| 288/288 [00:27<00:00, 10.58it/s]\n"
     ]
    },
    {
     "name": "stdout",
     "output_type": "stream",
     "text": [
      "Loss1: 0.3046, Loss2: 0.1537, Loss3: 0.7061\n"
     ]
    },
    {
     "name": "stderr",
     "output_type": "stream",
     "text": [
      "Test_Loader: 100%|██████████| 288/288 [00:26<00:00, 10.74it/s]\n"
     ]
    },
    {
     "name": "stdout",
     "output_type": "stream",
     "text": [
      "Loss1: 0.3085, Loss2: 0.1505, Loss3: 0.6878\n"
     ]
    },
    {
     "name": "stderr",
     "output_type": "stream",
     "text": [
      "Test_Loader: 100%|██████████| 288/288 [00:27<00:00, 10.65it/s]\n"
     ]
    },
    {
     "name": "stdout",
     "output_type": "stream",
     "text": [
      "Loss1: 0.3132, Loss2: 0.1531, Loss3: 0.6798\n"
     ]
    },
    {
     "name": "stderr",
     "output_type": "stream",
     "text": [
      "Test_Loader: 100%|██████████| 288/288 [00:25<00:00, 11.12it/s]\n"
     ]
    },
    {
     "name": "stdout",
     "output_type": "stream",
     "text": [
      "Loss1: 0.3133, Loss2: 0.1499, Loss3: 0.6933\n"
     ]
    },
    {
     "name": "stderr",
     "output_type": "stream",
     "text": [
      "Test_Loader: 100%|██████████| 288/288 [00:25<00:00, 11.13it/s]\n"
     ]
    },
    {
     "name": "stdout",
     "output_type": "stream",
     "text": [
      "Loss1: 0.3658, Loss2: 0.2219, Loss3: 0.9214\n"
     ]
    },
    {
     "name": "stderr",
     "output_type": "stream",
     "text": [
      "Test_Loader: 100%|██████████| 288/288 [00:26<00:00, 10.88it/s]\n"
     ]
    },
    {
     "name": "stdout",
     "output_type": "stream",
     "text": [
      "Loss1: 0.3513, Loss2: 0.2153, Loss3: 0.9101\n"
     ]
    },
    {
     "name": "stderr",
     "output_type": "stream",
     "text": [
      "Test_Loader: 100%|██████████| 288/288 [00:26<00:00, 10.76it/s]\n"
     ]
    },
    {
     "name": "stdout",
     "output_type": "stream",
     "text": [
      "Loss1: 0.3578, Loss2: 0.2119, Loss3: 0.8958\n"
     ]
    },
    {
     "name": "stderr",
     "output_type": "stream",
     "text": [
      "Test_Loader: 100%|██████████| 288/288 [00:26<00:00, 10.69it/s]\n"
     ]
    },
    {
     "name": "stdout",
     "output_type": "stream",
     "text": [
      "Loss1: 0.3500, Loss2: 0.2052, Loss3: 0.8809\n"
     ]
    },
    {
     "name": "stderr",
     "output_type": "stream",
     "text": [
      "Test_Loader: 100%|██████████| 288/288 [00:27<00:00, 10.58it/s]\n"
     ]
    },
    {
     "name": "stdout",
     "output_type": "stream",
     "text": [
      "Loss1: 0.3368, Loss2: 0.2001, Loss3: 0.8766\n"
     ]
    },
    {
     "name": "stderr",
     "output_type": "stream",
     "text": [
      "Test_Loader: 100%|██████████| 288/288 [00:26<00:00, 10.87it/s]\n"
     ]
    },
    {
     "name": "stdout",
     "output_type": "stream",
     "text": [
      "Loss1: 0.3319, Loss2: 0.1973, Loss3: 0.8602\n"
     ]
    },
    {
     "name": "stderr",
     "output_type": "stream",
     "text": [
      "Test_Loader: 100%|██████████| 288/288 [00:26<00:00, 10.87it/s]\n"
     ]
    },
    {
     "name": "stdout",
     "output_type": "stream",
     "text": [
      "Loss1: 0.3367, Loss2: 0.1904, Loss3: 0.8440\n"
     ]
    },
    {
     "name": "stderr",
     "output_type": "stream",
     "text": [
      "Test_Loader: 100%|██████████| 288/288 [00:26<00:00, 11.06it/s]\n"
     ]
    },
    {
     "name": "stdout",
     "output_type": "stream",
     "text": [
      "Loss1: 0.3307, Loss2: 0.1911, Loss3: 0.8550\n"
     ]
    },
    {
     "name": "stderr",
     "output_type": "stream",
     "text": [
      "Test_Loader: 100%|██████████| 288/288 [00:25<00:00, 11.15it/s]\n"
     ]
    },
    {
     "name": "stdout",
     "output_type": "stream",
     "text": [
      "Loss1: 0.3528, Loss2: 0.1960, Loss3: 0.8384\n"
     ]
    },
    {
     "name": "stderr",
     "output_type": "stream",
     "text": [
      "Test_Loader: 100%|██████████| 288/288 [00:25<00:00, 11.09it/s]\n"
     ]
    },
    {
     "name": "stdout",
     "output_type": "stream",
     "text": [
      "Loss1: 0.3420, Loss2: 0.1923, Loss3: 0.8092\n"
     ]
    },
    {
     "name": "stderr",
     "output_type": "stream",
     "text": [
      "Test_Loader: 100%|██████████| 288/288 [00:25<00:00, 11.14it/s]\n"
     ]
    },
    {
     "name": "stdout",
     "output_type": "stream",
     "text": [
      "Loss1: 0.3422, Loss2: 0.1894, Loss3: 0.8200\n"
     ]
    },
    {
     "name": "stderr",
     "output_type": "stream",
     "text": [
      "Test_Loader: 100%|██████████| 288/288 [00:27<00:00, 10.58it/s]\n"
     ]
    },
    {
     "name": "stdout",
     "output_type": "stream",
     "text": [
      "Loss1: 0.3350, Loss2: 0.1863, Loss3: 0.8104\n"
     ]
    },
    {
     "name": "stderr",
     "output_type": "stream",
     "text": [
      "Test_Loader: 100%|██████████| 288/288 [00:25<00:00, 11.10it/s]\n"
     ]
    },
    {
     "name": "stdout",
     "output_type": "stream",
     "text": [
      "Loss1: 0.3362, Loss2: 0.1845, Loss3: 0.8067\n"
     ]
    },
    {
     "name": "stderr",
     "output_type": "stream",
     "text": [
      "Test_Loader: 100%|██████████| 288/288 [00:25<00:00, 11.11it/s]\n"
     ]
    },
    {
     "name": "stdout",
     "output_type": "stream",
     "text": [
      "Loss1: 0.3384, Loss2: 0.1799, Loss3: 0.7978\n"
     ]
    },
    {
     "name": "stderr",
     "output_type": "stream",
     "text": [
      "Test_Loader: 100%|██████████| 288/288 [00:25<00:00, 11.22it/s]\n"
     ]
    },
    {
     "name": "stdout",
     "output_type": "stream",
     "text": [
      "Loss1: 0.3301, Loss2: 0.1827, Loss3: 0.8080\n"
     ]
    },
    {
     "name": "stderr",
     "output_type": "stream",
     "text": [
      "Test_Loader: 100%|██████████| 288/288 [00:26<00:00, 10.91it/s]\n"
     ]
    },
    {
     "name": "stdout",
     "output_type": "stream",
     "text": [
      "Loss1: 0.3248, Loss2: 0.1793, Loss3: 0.7899\n"
     ]
    },
    {
     "name": "stderr",
     "output_type": "stream",
     "text": [
      "Test_Loader: 100%|██████████| 288/288 [00:26<00:00, 10.84it/s]\n"
     ]
    },
    {
     "name": "stdout",
     "output_type": "stream",
     "text": [
      "Loss1: 0.3246, Loss2: 0.1751, Loss3: 0.7942\n"
     ]
    },
    {
     "name": "stderr",
     "output_type": "stream",
     "text": [
      "Test_Loader: 100%|██████████| 288/288 [00:26<00:00, 10.95it/s]\n"
     ]
    },
    {
     "name": "stdout",
     "output_type": "stream",
     "text": [
      "Loss1: 0.3205, Loss2: 0.1729, Loss3: 0.7875\n"
     ]
    },
    {
     "name": "stderr",
     "output_type": "stream",
     "text": [
      "Test_Loader: 100%|██████████| 288/288 [00:26<00:00, 10.95it/s]\n"
     ]
    },
    {
     "name": "stdout",
     "output_type": "stream",
     "text": [
      "Loss1: 0.3193, Loss2: 0.1732, Loss3: 0.7710\n"
     ]
    },
    {
     "name": "stderr",
     "output_type": "stream",
     "text": [
      "Test_Loader: 100%|██████████| 288/288 [00:26<00:00, 11.04it/s]\n"
     ]
    },
    {
     "name": "stdout",
     "output_type": "stream",
     "text": [
      "Loss1: 0.3199, Loss2: 0.1724, Loss3: 0.7591\n"
     ]
    },
    {
     "name": "stderr",
     "output_type": "stream",
     "text": [
      "Test_Loader: 100%|██████████| 288/288 [00:25<00:00, 11.18it/s]\n"
     ]
    },
    {
     "name": "stdout",
     "output_type": "stream",
     "text": [
      "Loss1: 0.3192, Loss2: 0.1666, Loss3: 0.7553\n"
     ]
    },
    {
     "name": "stderr",
     "output_type": "stream",
     "text": [
      "Test_Loader: 100%|██████████| 288/288 [00:26<00:00, 10.91it/s]\n"
     ]
    },
    {
     "name": "stdout",
     "output_type": "stream",
     "text": [
      "Loss1: 0.3147, Loss2: 0.1692, Loss3: 0.7489\n"
     ]
    },
    {
     "name": "stderr",
     "output_type": "stream",
     "text": [
      "Test_Loader: 100%|██████████| 288/288 [00:26<00:00, 10.80it/s]\n"
     ]
    },
    {
     "name": "stdout",
     "output_type": "stream",
     "text": [
      "Loss1: 0.3213, Loss2: 0.1643, Loss3: 0.7530\n"
     ]
    },
    {
     "name": "stderr",
     "output_type": "stream",
     "text": [
      "Test_Loader: 100%|██████████| 288/288 [00:26<00:00, 10.85it/s]\n"
     ]
    },
    {
     "name": "stdout",
     "output_type": "stream",
     "text": [
      "Loss1: 0.3167, Loss2: 0.1626, Loss3: 0.7281\n"
     ]
    },
    {
     "name": "stderr",
     "output_type": "stream",
     "text": [
      "Test_Loader: 100%|██████████| 288/288 [00:27<00:00, 10.48it/s]\n"
     ]
    },
    {
     "name": "stdout",
     "output_type": "stream",
     "text": [
      "Loss1: 0.3108, Loss2: 0.1624, Loss3: 0.7313\n"
     ]
    },
    {
     "name": "stderr",
     "output_type": "stream",
     "text": [
      "Test_Loader: 100%|██████████| 288/288 [00:26<00:00, 11.05it/s]\n"
     ]
    },
    {
     "name": "stdout",
     "output_type": "stream",
     "text": [
      "Loss1: 0.3162, Loss2: 0.1601, Loss3: 0.7028\n"
     ]
    },
    {
     "name": "stderr",
     "output_type": "stream",
     "text": [
      "Test_Loader: 100%|██████████| 288/288 [00:26<00:00, 10.94it/s]\n"
     ]
    },
    {
     "name": "stdout",
     "output_type": "stream",
     "text": [
      "Loss1: 0.3157, Loss2: 0.1615, Loss3: 0.7241\n"
     ]
    },
    {
     "name": "stderr",
     "output_type": "stream",
     "text": [
      "Test_Loader: 100%|██████████| 288/288 [00:26<00:00, 10.85it/s]\n"
     ]
    },
    {
     "name": "stdout",
     "output_type": "stream",
     "text": [
      "Loss1: 0.3016, Loss2: 0.1587, Loss3: 0.6663\n"
     ]
    },
    {
     "name": "stderr",
     "output_type": "stream",
     "text": [
      "Test_Loader: 100%|██████████| 288/288 [00:26<00:00, 10.93it/s]\n"
     ]
    },
    {
     "name": "stdout",
     "output_type": "stream",
     "text": [
      "Loss1: 0.3016, Loss2: 0.1533, Loss3: 0.6735\n"
     ]
    },
    {
     "name": "stderr",
     "output_type": "stream",
     "text": [
      "Test_Loader: 100%|██████████| 288/288 [00:26<00:00, 10.93it/s]\n"
     ]
    },
    {
     "name": "stdout",
     "output_type": "stream",
     "text": [
      "Loss1: 0.2965, Loss2: 0.1546, Loss3: 0.6589\n"
     ]
    },
    {
     "name": "stderr",
     "output_type": "stream",
     "text": [
      "Test_Loader: 100%|██████████| 288/288 [00:26<00:00, 10.86it/s]\n"
     ]
    },
    {
     "name": "stdout",
     "output_type": "stream",
     "text": [
      "Loss1: 0.2990, Loss2: 0.1517, Loss3: 0.6560\n"
     ]
    },
    {
     "name": "stderr",
     "output_type": "stream",
     "text": [
      "Test_Loader: 100%|██████████| 288/288 [00:26<00:00, 10.87it/s]\n"
     ]
    },
    {
     "name": "stdout",
     "output_type": "stream",
     "text": [
      "Loss1: 0.2925, Loss2: 0.1534, Loss3: 0.6553\n"
     ]
    },
    {
     "name": "stderr",
     "output_type": "stream",
     "text": [
      "Test_Loader: 100%|██████████| 288/288 [00:26<00:00, 10.90it/s]\n"
     ]
    },
    {
     "name": "stdout",
     "output_type": "stream",
     "text": [
      "Loss1: 0.2940, Loss2: 0.1502, Loss3: 0.6504\n"
     ]
    },
    {
     "name": "stderr",
     "output_type": "stream",
     "text": [
      "Test_Loader: 100%|██████████| 288/288 [00:26<00:00, 10.94it/s]\n"
     ]
    },
    {
     "name": "stdout",
     "output_type": "stream",
     "text": [
      "Loss1: 0.2998, Loss2: 0.1502, Loss3: 0.6527\n"
     ]
    },
    {
     "name": "stderr",
     "output_type": "stream",
     "text": [
      "Test_Loader: 100%|██████████| 288/288 [00:26<00:00, 10.96it/s]\n"
     ]
    },
    {
     "name": "stdout",
     "output_type": "stream",
     "text": [
      "Loss1: 0.3232, Loss2: 0.1725, Loss3: 0.6681\n"
     ]
    },
    {
     "name": "stderr",
     "output_type": "stream",
     "text": [
      "Test_Loader: 100%|██████████| 288/288 [00:25<00:00, 11.08it/s]\n"
     ]
    },
    {
     "name": "stdout",
     "output_type": "stream",
     "text": [
      "Loss1: 0.3249, Loss2: 0.1706, Loss3: 0.6715\n"
     ]
    },
    {
     "name": "stderr",
     "output_type": "stream",
     "text": [
      "Test_Loader: 100%|██████████| 288/288 [00:26<00:00, 11.07it/s]\n"
     ]
    },
    {
     "name": "stdout",
     "output_type": "stream",
     "text": [
      "Loss1: 0.3323, Loss2: 0.1734, Loss3: 0.6744\n"
     ]
    },
    {
     "name": "stderr",
     "output_type": "stream",
     "text": [
      "Test_Loader: 100%|██████████| 288/288 [00:27<00:00, 10.50it/s]\n"
     ]
    },
    {
     "name": "stdout",
     "output_type": "stream",
     "text": [
      "Loss1: 0.3287, Loss2: 0.1697, Loss3: 0.6718\n"
     ]
    },
    {
     "name": "stderr",
     "output_type": "stream",
     "text": [
      "Test_Loader: 100%|██████████| 288/288 [00:27<00:00, 10.35it/s]\n"
     ]
    },
    {
     "name": "stdout",
     "output_type": "stream",
     "text": [
      "Loss1: 0.4381, Loss2: 0.1726, Loss3: 0.8259\n"
     ]
    },
    {
     "name": "stderr",
     "output_type": "stream",
     "text": [
      "Test_Loader: 100%|██████████| 288/288 [00:26<00:00, 10.83it/s]\n"
     ]
    },
    {
     "name": "stdout",
     "output_type": "stream",
     "text": [
      "Loss1: 0.4278, Loss2: 0.1657, Loss3: 0.7603\n"
     ]
    },
    {
     "name": "stderr",
     "output_type": "stream",
     "text": [
      "Test_Loader: 100%|██████████| 288/288 [00:26<00:00, 10.82it/s]\n"
     ]
    },
    {
     "name": "stdout",
     "output_type": "stream",
     "text": [
      "Loss1: 0.4197, Loss2: 0.1616, Loss3: 0.7601\n"
     ]
    },
    {
     "name": "stderr",
     "output_type": "stream",
     "text": [
      "Test_Loader: 100%|██████████| 288/288 [00:25<00:00, 11.17it/s]\n"
     ]
    },
    {
     "name": "stdout",
     "output_type": "stream",
     "text": [
      "Loss1: 0.4205, Loss2: 0.1606, Loss3: 0.7573\n"
     ]
    },
    {
     "name": "stderr",
     "output_type": "stream",
     "text": [
      "Test_Loader: 100%|██████████| 288/288 [00:26<00:00, 10.92it/s]\n"
     ]
    },
    {
     "name": "stdout",
     "output_type": "stream",
     "text": [
      "Loss1: 0.4113, Loss2: 0.1599, Loss3: 0.7571\n"
     ]
    },
    {
     "name": "stderr",
     "output_type": "stream",
     "text": [
      "Test_Loader: 100%|██████████| 288/288 [00:26<00:00, 10.95it/s]\n"
     ]
    },
    {
     "name": "stdout",
     "output_type": "stream",
     "text": [
      "Loss1: 0.4138, Loss2: 0.1621, Loss3: 0.7457\n"
     ]
    },
    {
     "name": "stderr",
     "output_type": "stream",
     "text": [
      "Test_Loader: 100%|██████████| 288/288 [00:26<00:00, 10.93it/s]\n"
     ]
    },
    {
     "name": "stdout",
     "output_type": "stream",
     "text": [
      "Loss1: 0.4007, Loss2: 0.1561, Loss3: 0.7395\n"
     ]
    },
    {
     "name": "stderr",
     "output_type": "stream",
     "text": [
      "Test_Loader: 100%|██████████| 288/288 [00:25<00:00, 11.09it/s]\n"
     ]
    },
    {
     "name": "stdout",
     "output_type": "stream",
     "text": [
      "Loss1: 0.4018, Loss2: 0.1480, Loss3: 0.7225\n"
     ]
    },
    {
     "name": "stderr",
     "output_type": "stream",
     "text": [
      "Test_Loader: 100%|██████████| 288/288 [00:26<00:00, 10.96it/s]\n"
     ]
    },
    {
     "name": "stdout",
     "output_type": "stream",
     "text": [
      "Loss1: 0.3920, Loss2: 0.1472, Loss3: 0.7194\n"
     ]
    },
    {
     "name": "stderr",
     "output_type": "stream",
     "text": [
      "Test_Loader: 100%|██████████| 288/288 [00:25<00:00, 11.09it/s]\n"
     ]
    },
    {
     "name": "stdout",
     "output_type": "stream",
     "text": [
      "Loss1: 0.3896, Loss2: 0.1450, Loss3: 0.7194\n"
     ]
    },
    {
     "name": "stderr",
     "output_type": "stream",
     "text": [
      "Test_Loader: 100%|██████████| 288/288 [00:25<00:00, 11.10it/s]\n"
     ]
    },
    {
     "name": "stdout",
     "output_type": "stream",
     "text": [
      "Loss1: 0.3883, Loss2: 0.1460, Loss3: 0.6957\n"
     ]
    },
    {
     "name": "stderr",
     "output_type": "stream",
     "text": [
      "Test_Loader: 100%|██████████| 288/288 [00:25<00:00, 11.16it/s]\n"
     ]
    },
    {
     "name": "stdout",
     "output_type": "stream",
     "text": [
      "Loss1: 0.3771, Loss2: 0.1456, Loss3: 0.7068\n"
     ]
    },
    {
     "name": "stderr",
     "output_type": "stream",
     "text": [
      "Test_Loader: 100%|██████████| 288/288 [00:26<00:00, 10.84it/s]\n"
     ]
    },
    {
     "name": "stdout",
     "output_type": "stream",
     "text": [
      "Loss1: 0.3804, Loss2: 0.1423, Loss3: 0.6943\n"
     ]
    },
    {
     "name": "stderr",
     "output_type": "stream",
     "text": [
      "Test_Loader: 100%|██████████| 288/288 [00:27<00:00, 10.53it/s]\n"
     ]
    },
    {
     "name": "stdout",
     "output_type": "stream",
     "text": [
      "Loss1: 0.3767, Loss2: 0.1421, Loss3: 0.6907\n"
     ]
    },
    {
     "name": "stderr",
     "output_type": "stream",
     "text": [
      "Test_Loader: 100%|██████████| 288/288 [00:26<00:00, 10.93it/s]\n"
     ]
    },
    {
     "name": "stdout",
     "output_type": "stream",
     "text": [
      "Loss1: 0.3697, Loss2: 0.1396, Loss3: 0.7019\n"
     ]
    },
    {
     "name": "stderr",
     "output_type": "stream",
     "text": [
      "Test_Loader: 100%|██████████| 288/288 [00:25<00:00, 11.25it/s]\n"
     ]
    },
    {
     "name": "stdout",
     "output_type": "stream",
     "text": [
      "Loss1: 0.3718, Loss2: 0.1411, Loss3: 0.7029\n"
     ]
    },
    {
     "name": "stderr",
     "output_type": "stream",
     "text": [
      "Test_Loader: 100%|██████████| 288/288 [00:26<00:00, 11.00it/s]\n"
     ]
    },
    {
     "name": "stdout",
     "output_type": "stream",
     "text": [
      "Loss1: 0.3544, Loss2: 0.1426, Loss3: 0.6822\n"
     ]
    },
    {
     "name": "stderr",
     "output_type": "stream",
     "text": [
      "Test_Loader: 100%|██████████| 288/288 [00:26<00:00, 11.02it/s]\n"
     ]
    },
    {
     "name": "stdout",
     "output_type": "stream",
     "text": [
      "Loss1: 0.3546, Loss2: 0.1401, Loss3: 0.6898\n"
     ]
    },
    {
     "name": "stderr",
     "output_type": "stream",
     "text": [
      "Test_Loader: 100%|██████████| 288/288 [00:26<00:00, 10.98it/s]\n"
     ]
    },
    {
     "name": "stdout",
     "output_type": "stream",
     "text": [
      "Loss1: 0.4804, Loss2: 0.2192, Loss3: 1.9105\n"
     ]
    },
    {
     "name": "stderr",
     "output_type": "stream",
     "text": [
      "Test_Loader: 100%|██████████| 288/288 [00:26<00:00, 10.94it/s]\n"
     ]
    },
    {
     "name": "stdout",
     "output_type": "stream",
     "text": [
      "Loss1: 0.4778, Loss2: 0.2072, Loss3: 1.6670\n"
     ]
    },
    {
     "name": "stderr",
     "output_type": "stream",
     "text": [
      "Test_Loader: 100%|██████████| 288/288 [00:26<00:00, 10.83it/s]\n"
     ]
    },
    {
     "name": "stdout",
     "output_type": "stream",
     "text": [
      "Loss1: 0.5310, Loss2: 0.2450, Loss3: 1.7443\n"
     ]
    },
    {
     "name": "stderr",
     "output_type": "stream",
     "text": [
      "Test_Loader: 100%|██████████| 288/288 [00:25<00:00, 11.16it/s]\n"
     ]
    },
    {
     "name": "stdout",
     "output_type": "stream",
     "text": [
      "Loss1: 0.5345, Loss2: 0.2159, Loss3: 1.3916\n"
     ]
    },
    {
     "name": "stderr",
     "output_type": "stream",
     "text": [
      "Test_Loader: 100%|██████████| 288/288 [00:25<00:00, 11.16it/s]\n"
     ]
    },
    {
     "name": "stdout",
     "output_type": "stream",
     "text": [
      "Loss1: 0.5387, Loss2: 0.2086, Loss3: 1.2957\n"
     ]
    },
    {
     "name": "stderr",
     "output_type": "stream",
     "text": [
      "Test_Loader: 100%|██████████| 288/288 [00:25<00:00, 11.28it/s]\n"
     ]
    },
    {
     "name": "stdout",
     "output_type": "stream",
     "text": [
      "Loss1: 0.5473, Loss2: 0.2067, Loss3: 1.2541\n"
     ]
    },
    {
     "name": "stderr",
     "output_type": "stream",
     "text": [
      "Test_Loader: 100%|██████████| 288/288 [00:26<00:00, 10.94it/s]\n"
     ]
    },
    {
     "name": "stdout",
     "output_type": "stream",
     "text": [
      "Loss1: 0.5347, Loss2: 0.1981, Loss3: 1.1807\n"
     ]
    },
    {
     "name": "stderr",
     "output_type": "stream",
     "text": [
      "Test_Loader: 100%|██████████| 288/288 [00:26<00:00, 10.97it/s]\n"
     ]
    },
    {
     "name": "stdout",
     "output_type": "stream",
     "text": [
      "Loss1: 0.5551, Loss2: 0.2001, Loss3: 1.0922\n"
     ]
    },
    {
     "name": "stderr",
     "output_type": "stream",
     "text": [
      "Test_Loader: 100%|██████████| 288/288 [00:26<00:00, 10.81it/s]\n"
     ]
    },
    {
     "name": "stdout",
     "output_type": "stream",
     "text": [
      "Loss1: 0.5698, Loss2: 0.2051, Loss3: 1.0589\n"
     ]
    },
    {
     "name": "stderr",
     "output_type": "stream",
     "text": [
      "Test_Loader: 100%|██████████| 288/288 [00:28<00:00, 10.16it/s]\n"
     ]
    },
    {
     "name": "stdout",
     "output_type": "stream",
     "text": [
      "Loss1: 0.5518, Loss2: 0.2001, Loss3: 1.0579\n"
     ]
    },
    {
     "name": "stderr",
     "output_type": "stream",
     "text": [
      "Test_Loader: 100%|██████████| 288/288 [00:27<00:00, 10.40it/s]\n"
     ]
    },
    {
     "name": "stdout",
     "output_type": "stream",
     "text": [
      "Loss1: 0.5541, Loss2: 0.1964, Loss3: 1.0203\n"
     ]
    },
    {
     "name": "stderr",
     "output_type": "stream",
     "text": [
      "Test_Loader: 100%|██████████| 288/288 [00:26<00:00, 11.00it/s]\n"
     ]
    },
    {
     "name": "stdout",
     "output_type": "stream",
     "text": [
      "Loss1: 0.5517, Loss2: 0.2029, Loss3: 1.1617\n"
     ]
    },
    {
     "name": "stderr",
     "output_type": "stream",
     "text": [
      "Test_Loader: 100%|██████████| 288/288 [00:26<00:00, 10.68it/s]\n"
     ]
    },
    {
     "name": "stdout",
     "output_type": "stream",
     "text": [
      "Loss1: 0.5357, Loss2: 0.1913, Loss3: 0.9387\n"
     ]
    },
    {
     "name": "stderr",
     "output_type": "stream",
     "text": [
      "Test_Loader: 100%|██████████| 288/288 [00:25<00:00, 11.12it/s]\n"
     ]
    },
    {
     "name": "stdout",
     "output_type": "stream",
     "text": [
      "Loss1: 0.5435, Loss2: 0.1884, Loss3: 0.9048\n"
     ]
    },
    {
     "name": "stderr",
     "output_type": "stream",
     "text": [
      "Test_Loader: 100%|██████████| 288/288 [00:26<00:00, 10.88it/s]\n"
     ]
    },
    {
     "name": "stdout",
     "output_type": "stream",
     "text": [
      "Loss1: 0.5323, Loss2: 0.1924, Loss3: 1.0720\n"
     ]
    },
    {
     "name": "stderr",
     "output_type": "stream",
     "text": [
      "Test_Loader: 100%|██████████| 288/288 [00:26<00:00, 10.80it/s]\n"
     ]
    },
    {
     "name": "stdout",
     "output_type": "stream",
     "text": [
      "Loss1: 0.5229, Loss2: 0.1884, Loss3: 0.8875\n"
     ]
    },
    {
     "name": "stderr",
     "output_type": "stream",
     "text": [
      "Test_Loader: 100%|██████████| 288/288 [00:26<00:00, 10.83it/s]\n"
     ]
    },
    {
     "name": "stdout",
     "output_type": "stream",
     "text": [
      "Loss1: 0.5406, Loss2: 0.1896, Loss3: 1.0292\n"
     ]
    },
    {
     "name": "stderr",
     "output_type": "stream",
     "text": [
      "Test_Loader: 100%|██████████| 288/288 [00:26<00:00, 10.77it/s]\n"
     ]
    },
    {
     "name": "stdout",
     "output_type": "stream",
     "text": [
      "Loss1: 0.5225, Loss2: 0.1870, Loss3: 0.8777\n"
     ]
    },
    {
     "name": "stderr",
     "output_type": "stream",
     "text": [
      "Test_Loader: 100%|██████████| 288/288 [00:26<00:00, 10.90it/s]\n"
     ]
    },
    {
     "name": "stdout",
     "output_type": "stream",
     "text": [
      "Loss1: 0.5094, Loss2: 0.1868, Loss3: 1.0149\n"
     ]
    },
    {
     "name": "stderr",
     "output_type": "stream",
     "text": [
      "Test_Loader: 100%|██████████| 288/288 [00:26<00:00, 11.03it/s]\n"
     ]
    },
    {
     "name": "stdout",
     "output_type": "stream",
     "text": [
      "Loss1: 0.5038, Loss2: 0.1831, Loss3: 0.8387\n"
     ]
    },
    {
     "name": "stderr",
     "output_type": "stream",
     "text": [
      "Test_Loader: 100%|██████████| 288/288 [00:26<00:00, 11.02it/s]\n"
     ]
    },
    {
     "name": "stdout",
     "output_type": "stream",
     "text": [
      "Loss1: 0.5093, Loss2: 0.1836, Loss3: 0.8624\n"
     ]
    },
    {
     "name": "stderr",
     "output_type": "stream",
     "text": [
      "Test_Loader: 100%|██████████| 288/288 [00:26<00:00, 10.84it/s]\n"
     ]
    },
    {
     "name": "stdout",
     "output_type": "stream",
     "text": [
      "Loss1: 0.4791, Loss2: 0.1836, Loss3: 0.8474\n"
     ]
    },
    {
     "name": "stderr",
     "output_type": "stream",
     "text": [
      "Test_Loader: 100%|██████████| 288/288 [00:29<00:00,  9.93it/s]\n"
     ]
    },
    {
     "name": "stdout",
     "output_type": "stream",
     "text": [
      "Loss1: 0.4913, Loss2: 0.1852, Loss3: 0.9541\n"
     ]
    },
    {
     "name": "stderr",
     "output_type": "stream",
     "text": [
      "Test_Loader: 100%|██████████| 288/288 [00:26<00:00, 11.08it/s]\n"
     ]
    },
    {
     "name": "stdout",
     "output_type": "stream",
     "text": [
      "Loss1: 0.4738, Loss2: 0.1859, Loss3: 0.8255\n"
     ]
    },
    {
     "name": "stderr",
     "output_type": "stream",
     "text": [
      "Test_Loader: 100%|██████████| 288/288 [00:25<00:00, 11.12it/s]\n"
     ]
    },
    {
     "name": "stdout",
     "output_type": "stream",
     "text": [
      "Loss1: 0.4889, Loss2: 0.1862, Loss3: 0.8148\n"
     ]
    },
    {
     "name": "stderr",
     "output_type": "stream",
     "text": [
      "Test_Loader: 100%|██████████| 288/288 [00:26<00:00, 11.06it/s]\n"
     ]
    },
    {
     "name": "stdout",
     "output_type": "stream",
     "text": [
      "Loss1: 0.4660, Loss2: 0.1969, Loss3: 0.8456\n"
     ]
    },
    {
     "name": "stderr",
     "output_type": "stream",
     "text": [
      "Test_Loader: 100%|██████████| 288/288 [00:25<00:00, 11.24it/s]\n"
     ]
    },
    {
     "name": "stdout",
     "output_type": "stream",
     "text": [
      "Loss1: 0.4871, Loss2: 0.1950, Loss3: 0.9390\n"
     ]
    },
    {
     "name": "stderr",
     "output_type": "stream",
     "text": [
      "Test_Loader: 100%|██████████| 288/288 [00:26<00:00, 10.88it/s]\n"
     ]
    },
    {
     "name": "stdout",
     "output_type": "stream",
     "text": [
      "Loss1: 0.4687, Loss2: 0.1901, Loss3: 0.8071\n"
     ]
    },
    {
     "name": "stderr",
     "output_type": "stream",
     "text": [
      "Test_Loader: 100%|██████████| 288/288 [00:26<00:00, 10.80it/s]\n"
     ]
    },
    {
     "name": "stdout",
     "output_type": "stream",
     "text": [
      "Loss1: 0.4761, Loss2: 0.1926, Loss3: 0.8144\n"
     ]
    },
    {
     "name": "stderr",
     "output_type": "stream",
     "text": [
      "Test_Loader: 100%|██████████| 288/288 [00:27<00:00, 10.63it/s]\n"
     ]
    },
    {
     "name": "stdout",
     "output_type": "stream",
     "text": [
      "Loss1: 0.4643, Loss2: 0.1884, Loss3: 0.9037\n"
     ]
    },
    {
     "name": "stderr",
     "output_type": "stream",
     "text": [
      "Test_Loader: 100%|██████████| 288/288 [00:27<00:00, 10.59it/s]\n"
     ]
    },
    {
     "name": "stdout",
     "output_type": "stream",
     "text": [
      "Loss1: 0.4664, Loss2: 0.1860, Loss3: 0.8899\n"
     ]
    },
    {
     "name": "stderr",
     "output_type": "stream",
     "text": [
      "Test_Loader: 100%|██████████| 288/288 [00:26<00:00, 10.71it/s]\n"
     ]
    },
    {
     "name": "stdout",
     "output_type": "stream",
     "text": [
      "Loss1: 0.4788, Loss2: 0.1829, Loss3: 0.8514\n"
     ]
    },
    {
     "name": "stderr",
     "output_type": "stream",
     "text": [
      "Test_Loader: 100%|██████████| 288/288 [00:25<00:00, 11.21it/s]\n"
     ]
    },
    {
     "name": "stdout",
     "output_type": "stream",
     "text": [
      "Loss1: 0.4673, Loss2: 0.1840, Loss3: 0.8595\n"
     ]
    },
    {
     "name": "stderr",
     "output_type": "stream",
     "text": [
      "Test_Loader: 100%|██████████| 288/288 [00:25<00:00, 11.15it/s]\n"
     ]
    },
    {
     "name": "stdout",
     "output_type": "stream",
     "text": [
      "Loss1: 0.4626, Loss2: 0.1822, Loss3: 0.8650\n"
     ]
    },
    {
     "name": "stderr",
     "output_type": "stream",
     "text": [
      "Test_Loader: 100%|██████████| 288/288 [00:25<00:00, 11.12it/s]\n"
     ]
    },
    {
     "name": "stdout",
     "output_type": "stream",
     "text": [
      "Loss1: 0.4654, Loss2: 0.1890, Loss3: 0.7856\n"
     ]
    },
    {
     "name": "stderr",
     "output_type": "stream",
     "text": [
      "Test_Loader: 100%|██████████| 288/288 [00:26<00:00, 10.69it/s]\n"
     ]
    },
    {
     "name": "stdout",
     "output_type": "stream",
     "text": [
      "Loss1: 0.4548, Loss2: 0.1835, Loss3: 0.7815\n"
     ]
    },
    {
     "name": "stderr",
     "output_type": "stream",
     "text": [
      "Test_Loader: 100%|██████████| 288/288 [00:28<00:00, 10.21it/s]\n"
     ]
    },
    {
     "name": "stdout",
     "output_type": "stream",
     "text": [
      "Loss1: 0.4530, Loss2: 0.1865, Loss3: 1.0545\n"
     ]
    },
    {
     "name": "stderr",
     "output_type": "stream",
     "text": [
      "Test_Loader: 100%|██████████| 288/288 [00:26<00:00, 10.83it/s]\n"
     ]
    },
    {
     "name": "stdout",
     "output_type": "stream",
     "text": [
      "Loss1: 0.4511, Loss2: 0.1912, Loss3: 1.0192\n"
     ]
    },
    {
     "name": "stderr",
     "output_type": "stream",
     "text": [
      "Test_Loader: 100%|██████████| 288/288 [00:25<00:00, 11.14it/s]\n"
     ]
    },
    {
     "name": "stdout",
     "output_type": "stream",
     "text": [
      "Loss1: 0.4516, Loss2: 0.1893, Loss3: 0.9965\n"
     ]
    },
    {
     "name": "stderr",
     "output_type": "stream",
     "text": [
      "Test_Loader: 100%|██████████| 288/288 [00:26<00:00, 10.92it/s]\n"
     ]
    },
    {
     "name": "stdout",
     "output_type": "stream",
     "text": [
      "Loss1: 0.4323, Loss2: 0.1930, Loss3: 0.9847\n"
     ]
    },
    {
     "name": "stderr",
     "output_type": "stream",
     "text": [
      "Test_Loader: 100%|██████████| 288/288 [00:25<00:00, 11.12it/s]\n"
     ]
    },
    {
     "name": "stdout",
     "output_type": "stream",
     "text": [
      "Loss1: 0.4158, Loss2: 0.1827, Loss3: 0.9776\n"
     ]
    },
    {
     "name": "stderr",
     "output_type": "stream",
     "text": [
      "Test_Loader: 100%|██████████| 288/288 [00:26<00:00, 10.91it/s]\n"
     ]
    },
    {
     "name": "stdout",
     "output_type": "stream",
     "text": [
      "Loss1: 0.4305, Loss2: 0.1832, Loss3: 0.9441\n"
     ]
    },
    {
     "name": "stderr",
     "output_type": "stream",
     "text": [
      "Test_Loader: 100%|██████████| 288/288 [00:26<00:00, 10.90it/s]\n"
     ]
    },
    {
     "name": "stdout",
     "output_type": "stream",
     "text": [
      "Loss1: 0.4353, Loss2: 0.1823, Loss3: 0.9839\n"
     ]
    },
    {
     "name": "stderr",
     "output_type": "stream",
     "text": [
      "Test_Loader: 100%|██████████| 288/288 [00:26<00:00, 10.90it/s]\n"
     ]
    },
    {
     "name": "stdout",
     "output_type": "stream",
     "text": [
      "Loss1: 0.4297, Loss2: 0.1800, Loss3: 1.0137\n"
     ]
    },
    {
     "name": "stderr",
     "output_type": "stream",
     "text": [
      "Test_Loader: 100%|██████████| 288/288 [00:26<00:00, 11.03it/s]\n"
     ]
    },
    {
     "name": "stdout",
     "output_type": "stream",
     "text": [
      "Loss1: 0.4303, Loss2: 0.1808, Loss3: 0.9683\n"
     ]
    },
    {
     "name": "stderr",
     "output_type": "stream",
     "text": [
      "Test_Loader: 100%|██████████| 288/288 [00:26<00:00, 10.95it/s]\n"
     ]
    },
    {
     "name": "stdout",
     "output_type": "stream",
     "text": [
      "Loss1: 0.4392, Loss2: 0.1767, Loss3: 0.9657\n"
     ]
    },
    {
     "name": "stderr",
     "output_type": "stream",
     "text": [
      "Test_Loader: 100%|██████████| 288/288 [00:26<00:00, 11.05it/s]\n"
     ]
    },
    {
     "name": "stdout",
     "output_type": "stream",
     "text": [
      "Loss1: 0.4333, Loss2: 0.1767, Loss3: 0.9989\n"
     ]
    },
    {
     "name": "stderr",
     "output_type": "stream",
     "text": [
      "Test_Loader: 100%|██████████| 288/288 [00:26<00:00, 10.72it/s]\n"
     ]
    },
    {
     "name": "stdout",
     "output_type": "stream",
     "text": [
      "Loss1: 0.4290, Loss2: 0.1723, Loss3: 0.9988\n"
     ]
    },
    {
     "name": "stderr",
     "output_type": "stream",
     "text": [
      "Test_Loader: 100%|██████████| 288/288 [00:26<00:00, 10.81it/s]\n"
     ]
    },
    {
     "name": "stdout",
     "output_type": "stream",
     "text": [
      "Loss1: 0.4229, Loss2: 0.1668, Loss3: 0.9148\n"
     ]
    },
    {
     "name": "stderr",
     "output_type": "stream",
     "text": [
      "Test_Loader: 100%|██████████| 288/288 [00:28<00:00,  9.94it/s]\n"
     ]
    },
    {
     "name": "stdout",
     "output_type": "stream",
     "text": [
      "Loss1: 0.4159, Loss2: 0.1642, Loss3: 0.9647\n"
     ]
    },
    {
     "name": "stderr",
     "output_type": "stream",
     "text": [
      "Test_Loader: 100%|██████████| 288/288 [00:28<00:00, 10.19it/s]\n"
     ]
    },
    {
     "name": "stdout",
     "output_type": "stream",
     "text": [
      "Loss1: 0.4003, Loss2: 0.1625, Loss3: 0.9658\n"
     ]
    },
    {
     "name": "stderr",
     "output_type": "stream",
     "text": [
      "Test_Loader: 100%|██████████| 288/288 [00:26<00:00, 10.98it/s]\n"
     ]
    },
    {
     "name": "stdout",
     "output_type": "stream",
     "text": [
      "Loss1: 0.4124, Loss2: 0.1656, Loss3: 0.8980\n"
     ]
    },
    {
     "name": "stderr",
     "output_type": "stream",
     "text": [
      "Test_Loader: 100%|██████████| 288/288 [00:26<00:00, 11.07it/s]\n"
     ]
    },
    {
     "name": "stdout",
     "output_type": "stream",
     "text": [
      "Loss1: 0.4163, Loss2: 0.1752, Loss3: 0.9684\n"
     ]
    },
    {
     "name": "stderr",
     "output_type": "stream",
     "text": [
      "Test_Loader: 100%|██████████| 288/288 [00:25<00:00, 11.17it/s]\n"
     ]
    },
    {
     "name": "stdout",
     "output_type": "stream",
     "text": [
      "Loss1: 0.3926, Loss2: 0.1787, Loss3: 0.9349\n"
     ]
    },
    {
     "name": "stderr",
     "output_type": "stream",
     "text": [
      "Test_Loader: 100%|██████████| 288/288 [00:25<00:00, 11.23it/s]\n"
     ]
    },
    {
     "name": "stdout",
     "output_type": "stream",
     "text": [
      "Loss1: 0.4085, Loss2: 0.1837, Loss3: 0.9598\n"
     ]
    },
    {
     "name": "stderr",
     "output_type": "stream",
     "text": [
      "Test_Loader: 100%|██████████| 288/288 [00:26<00:00, 10.95it/s]\n"
     ]
    },
    {
     "name": "stdout",
     "output_type": "stream",
     "text": [
      "Loss1: 0.4084, Loss2: 0.1772, Loss3: 0.9822\n"
     ]
    },
    {
     "name": "stderr",
     "output_type": "stream",
     "text": [
      "Test_Loader: 100%|██████████| 288/288 [00:26<00:00, 10.94it/s]\n"
     ]
    },
    {
     "name": "stdout",
     "output_type": "stream",
     "text": [
      "Loss1: 0.3920, Loss2: 0.1783, Loss3: 0.9447\n"
     ]
    },
    {
     "name": "stderr",
     "output_type": "stream",
     "text": [
      "Test_Loader: 100%|██████████| 288/288 [00:26<00:00, 10.87it/s]\n"
     ]
    },
    {
     "name": "stdout",
     "output_type": "stream",
     "text": [
      "Loss1: 0.4423, Loss2: 0.1852, Loss3: 0.9946\n"
     ]
    },
    {
     "name": "stderr",
     "output_type": "stream",
     "text": [
      "Test_Loader: 100%|██████████| 288/288 [00:26<00:00, 10.91it/s]\n"
     ]
    },
    {
     "name": "stdout",
     "output_type": "stream",
     "text": [
      "Loss1: 0.4312, Loss2: 0.1890, Loss3: 0.9563\n"
     ]
    },
    {
     "name": "stderr",
     "output_type": "stream",
     "text": [
      "Test_Loader: 100%|██████████| 288/288 [00:26<00:00, 11.06it/s]\n"
     ]
    },
    {
     "name": "stdout",
     "output_type": "stream",
     "text": [
      "Loss1: 0.4246, Loss2: 0.1833, Loss3: 0.9842\n"
     ]
    },
    {
     "name": "stderr",
     "output_type": "stream",
     "text": [
      "Test_Loader: 100%|██████████| 288/288 [00:25<00:00, 11.21it/s]\n"
     ]
    },
    {
     "name": "stdout",
     "output_type": "stream",
     "text": [
      "Loss1: 0.4217, Loss2: 0.1818, Loss3: 0.9364\n"
     ]
    },
    {
     "name": "stderr",
     "output_type": "stream",
     "text": [
      "Test_Loader: 100%|██████████| 288/288 [00:25<00:00, 11.26it/s]\n"
     ]
    },
    {
     "name": "stdout",
     "output_type": "stream",
     "text": [
      "Loss1: 0.4365, Loss2: 0.1826, Loss3: 0.9797\n"
     ]
    },
    {
     "name": "stderr",
     "output_type": "stream",
     "text": [
      "Test_Loader: 100%|██████████| 288/288 [00:25<00:00, 11.12it/s]\n"
     ]
    },
    {
     "name": "stdout",
     "output_type": "stream",
     "text": [
      "Loss1: 0.4240, Loss2: 0.1786, Loss3: 0.9650\n"
     ]
    },
    {
     "name": "stderr",
     "output_type": "stream",
     "text": [
      "Test_Loader: 100%|██████████| 288/288 [00:26<00:00, 10.67it/s]\n"
     ]
    },
    {
     "name": "stdout",
     "output_type": "stream",
     "text": [
      "Loss1: 0.4212, Loss2: 0.1842, Loss3: 0.9329\n"
     ]
    },
    {
     "name": "stderr",
     "output_type": "stream",
     "text": [
      "Test_Loader: 100%|██████████| 288/288 [00:27<00:00, 10.49it/s]\n"
     ]
    },
    {
     "name": "stdout",
     "output_type": "stream",
     "text": [
      "Loss1: 0.4244, Loss2: 0.1780, Loss3: 0.9544\n"
     ]
    },
    {
     "name": "stderr",
     "output_type": "stream",
     "text": [
      "Test_Loader: 100%|██████████| 288/288 [00:25<00:00, 11.28it/s]\n"
     ]
    },
    {
     "name": "stdout",
     "output_type": "stream",
     "text": [
      "Loss1: 0.4146, Loss2: 0.1794, Loss3: 0.9322\n"
     ]
    },
    {
     "name": "stderr",
     "output_type": "stream",
     "text": [
      "Test_Loader: 100%|██████████| 288/288 [00:25<00:00, 11.21it/s]\n"
     ]
    },
    {
     "name": "stdout",
     "output_type": "stream",
     "text": [
      "Loss1: 0.4142, Loss2: 0.1772, Loss3: 0.9407\n"
     ]
    },
    {
     "name": "stderr",
     "output_type": "stream",
     "text": [
      "Test_Loader: 100%|██████████| 288/288 [00:26<00:00, 10.89it/s]\n"
     ]
    },
    {
     "name": "stdout",
     "output_type": "stream",
     "text": [
      "Loss1: 0.4120, Loss2: 0.1749, Loss3: 0.8996\n"
     ]
    },
    {
     "name": "stderr",
     "output_type": "stream",
     "text": [
      "Test_Loader: 100%|██████████| 288/288 [00:26<00:00, 10.94it/s]\n"
     ]
    },
    {
     "name": "stdout",
     "output_type": "stream",
     "text": [
      "Loss1: 0.3968, Loss2: 0.1785, Loss3: 0.8967\n"
     ]
    },
    {
     "name": "stderr",
     "output_type": "stream",
     "text": [
      "Test_Loader: 100%|██████████| 288/288 [00:29<00:00,  9.77it/s]\n"
     ]
    },
    {
     "name": "stdout",
     "output_type": "stream",
     "text": [
      "Loss1: 0.3979, Loss2: 0.1741, Loss3: 0.8866\n"
     ]
    },
    {
     "name": "stderr",
     "output_type": "stream",
     "text": [
      "Test_Loader: 100%|██████████| 288/288 [00:27<00:00, 10.54it/s]\n"
     ]
    },
    {
     "name": "stdout",
     "output_type": "stream",
     "text": [
      "Loss1: 0.4013, Loss2: 0.1756, Loss3: 0.8972\n"
     ]
    },
    {
     "name": "stderr",
     "output_type": "stream",
     "text": [
      "Test_Loader: 100%|██████████| 288/288 [00:27<00:00, 10.45it/s]\n"
     ]
    },
    {
     "name": "stdout",
     "output_type": "stream",
     "text": [
      "Loss1: 0.3946, Loss2: 0.1699, Loss3: 0.9065\n"
     ]
    },
    {
     "name": "stderr",
     "output_type": "stream",
     "text": [
      "Test_Loader: 100%|██████████| 288/288 [00:27<00:00, 10.57it/s]\n"
     ]
    },
    {
     "name": "stdout",
     "output_type": "stream",
     "text": [
      "Loss1: 0.3989, Loss2: 0.1712, Loss3: 0.8895\n"
     ]
    },
    {
     "name": "stderr",
     "output_type": "stream",
     "text": [
      "Test_Loader: 100%|██████████| 288/288 [00:27<00:00, 10.56it/s]\n"
     ]
    },
    {
     "name": "stdout",
     "output_type": "stream",
     "text": [
      "Loss1: 0.3874, Loss2: 0.1711, Loss3: 0.8787\n"
     ]
    },
    {
     "name": "stderr",
     "output_type": "stream",
     "text": [
      "Test_Loader: 100%|██████████| 288/288 [00:26<00:00, 10.80it/s]\n"
     ]
    },
    {
     "name": "stdout",
     "output_type": "stream",
     "text": [
      "Loss1: 0.3740, Loss2: 0.1671, Loss3: 0.8517\n"
     ]
    },
    {
     "name": "stderr",
     "output_type": "stream",
     "text": [
      "Test_Loader: 100%|██████████| 288/288 [00:26<00:00, 10.86it/s]\n"
     ]
    },
    {
     "name": "stdout",
     "output_type": "stream",
     "text": [
      "Loss1: 0.3650, Loss2: 0.1637, Loss3: 0.8489\n"
     ]
    },
    {
     "name": "stderr",
     "output_type": "stream",
     "text": [
      "Test_Loader: 100%|██████████| 288/288 [00:29<00:00,  9.91it/s]\n"
     ]
    },
    {
     "name": "stdout",
     "output_type": "stream",
     "text": [
      "Loss1: 0.3742, Loss2: 0.1585, Loss3: 0.8567\n"
     ]
    },
    {
     "name": "stderr",
     "output_type": "stream",
     "text": [
      "Test_Loader: 100%|██████████| 288/288 [00:29<00:00,  9.72it/s]\n"
     ]
    },
    {
     "name": "stdout",
     "output_type": "stream",
     "text": [
      "Loss1: 0.3718, Loss2: 0.1572, Loss3: 0.8590\n"
     ]
    },
    {
     "name": "stderr",
     "output_type": "stream",
     "text": [
      "Test_Loader: 100%|██████████| 288/288 [00:28<00:00, 10.03it/s]\n"
     ]
    },
    {
     "name": "stdout",
     "output_type": "stream",
     "text": [
      "Loss1: 0.3406, Loss2: 0.1600, Loss3: 0.7237\n"
     ]
    },
    {
     "name": "stderr",
     "output_type": "stream",
     "text": [
      "Test_Loader: 100%|██████████| 288/288 [00:27<00:00, 10.37it/s]\n"
     ]
    },
    {
     "name": "stdout",
     "output_type": "stream",
     "text": [
      "Loss1: 0.3439, Loss2: 0.1579, Loss3: 0.7161\n"
     ]
    },
    {
     "name": "stderr",
     "output_type": "stream",
     "text": [
      "Test_Loader: 100%|██████████| 288/288 [00:27<00:00, 10.56it/s]\n"
     ]
    },
    {
     "name": "stdout",
     "output_type": "stream",
     "text": [
      "Loss1: 0.3278, Loss2: 0.1517, Loss3: 0.6953\n"
     ]
    },
    {
     "name": "stderr",
     "output_type": "stream",
     "text": [
      "Test_Loader: 100%|██████████| 288/288 [00:27<00:00, 10.55it/s]\n"
     ]
    },
    {
     "name": "stdout",
     "output_type": "stream",
     "text": [
      "Loss1: 0.3367, Loss2: 0.1539, Loss3: 0.7032\n"
     ]
    },
    {
     "name": "stderr",
     "output_type": "stream",
     "text": [
      "Test_Loader: 100%|██████████| 288/288 [00:28<00:00, 10.16it/s]\n"
     ]
    },
    {
     "name": "stdout",
     "output_type": "stream",
     "text": [
      "Loss1: 0.3362, Loss2: 0.1513, Loss3: 0.7132\n"
     ]
    },
    {
     "name": "stderr",
     "output_type": "stream",
     "text": [
      "Test_Loader: 100%|██████████| 288/288 [00:27<00:00, 10.52it/s]\n"
     ]
    },
    {
     "name": "stdout",
     "output_type": "stream",
     "text": [
      "Loss1: 0.3251, Loss2: 0.1524, Loss3: 0.7201\n"
     ]
    },
    {
     "name": "stderr",
     "output_type": "stream",
     "text": [
      "Test_Loader: 100%|██████████| 288/288 [00:27<00:00, 10.45it/s]\n"
     ]
    },
    {
     "name": "stdout",
     "output_type": "stream",
     "text": [
      "Loss1: 0.3313, Loss2: 0.1533, Loss3: 0.7193\n"
     ]
    },
    {
     "name": "stderr",
     "output_type": "stream",
     "text": [
      "Test_Loader: 100%|██████████| 288/288 [00:27<00:00, 10.36it/s]\n"
     ]
    },
    {
     "name": "stdout",
     "output_type": "stream",
     "text": [
      "Loss1: 0.3275, Loss2: 0.1543, Loss3: 0.7032\n"
     ]
    },
    {
     "name": "stderr",
     "output_type": "stream",
     "text": [
      "Test_Loader: 100%|██████████| 288/288 [00:28<00:00, 10.25it/s]\n"
     ]
    },
    {
     "name": "stdout",
     "output_type": "stream",
     "text": [
      "Loss1: 0.3369, Loss2: 0.1511, Loss3: 0.7396\n"
     ]
    },
    {
     "name": "stderr",
     "output_type": "stream",
     "text": [
      "Test_Loader: 100%|██████████| 288/288 [00:27<00:00, 10.63it/s]\n"
     ]
    },
    {
     "name": "stdout",
     "output_type": "stream",
     "text": [
      "Loss1: 0.3336, Loss2: 0.1509, Loss3: 0.7412\n"
     ]
    },
    {
     "name": "stderr",
     "output_type": "stream",
     "text": [
      "Test_Loader: 100%|██████████| 288/288 [00:26<00:00, 10.80it/s]\n"
     ]
    },
    {
     "name": "stdout",
     "output_type": "stream",
     "text": [
      "Loss1: 0.3490, Loss2: 0.1572, Loss3: 0.7441\n"
     ]
    },
    {
     "name": "stderr",
     "output_type": "stream",
     "text": [
      "Test_Loader: 100%|██████████| 288/288 [00:28<00:00, 10.15it/s]\n"
     ]
    },
    {
     "name": "stdout",
     "output_type": "stream",
     "text": [
      "Loss1: 0.3440, Loss2: 0.1517, Loss3: 0.7561\n"
     ]
    },
    {
     "name": "stderr",
     "output_type": "stream",
     "text": [
      "Test_Loader: 100%|██████████| 288/288 [00:50<00:00,  5.70it/s]\n"
     ]
    },
    {
     "name": "stdout",
     "output_type": "stream",
     "text": [
      "Loss1: 0.3404, Loss2: 0.1545, Loss3: 0.7557\n"
     ]
    },
    {
     "name": "stderr",
     "output_type": "stream",
     "text": [
      "Test_Loader: 100%|██████████| 288/288 [01:05<00:00,  4.37it/s]\n"
     ]
    },
    {
     "name": "stdout",
     "output_type": "stream",
     "text": [
      "Loss1: 0.3510, Loss2: 0.1505, Loss3: 0.7531\n"
     ]
    },
    {
     "name": "stderr",
     "output_type": "stream",
     "text": [
      "Test_Loader: 100%|██████████| 288/288 [00:26<00:00, 10.79it/s]\n"
     ]
    },
    {
     "name": "stdout",
     "output_type": "stream",
     "text": [
      "Loss1: 0.3426, Loss2: 0.1525, Loss3: 0.7422\n"
     ]
    },
    {
     "name": "stderr",
     "output_type": "stream",
     "text": [
      "Test_Loader: 100%|██████████| 288/288 [00:26<00:00, 11.05it/s]\n"
     ]
    },
    {
     "name": "stdout",
     "output_type": "stream",
     "text": [
      "Loss1: 0.3368, Loss2: 0.1543, Loss3: 0.7403\n"
     ]
    },
    {
     "name": "stderr",
     "output_type": "stream",
     "text": [
      "Test_Loader: 100%|██████████| 288/288 [00:26<00:00, 10.90it/s]\n"
     ]
    },
    {
     "name": "stdout",
     "output_type": "stream",
     "text": [
      "Loss1: 0.3376, Loss2: 0.1542, Loss3: 0.7283\n"
     ]
    },
    {
     "name": "stderr",
     "output_type": "stream",
     "text": [
      "Test_Loader: 100%|██████████| 288/288 [00:26<00:00, 11.03it/s]\n"
     ]
    },
    {
     "name": "stdout",
     "output_type": "stream",
     "text": [
      "Loss1: 0.3355, Loss2: 0.1559, Loss3: 0.7397\n"
     ]
    },
    {
     "name": "stderr",
     "output_type": "stream",
     "text": [
      "Test_Loader: 100%|██████████| 288/288 [00:26<00:00, 10.99it/s]\n"
     ]
    },
    {
     "name": "stdout",
     "output_type": "stream",
     "text": [
      "Loss1: 0.3147, Loss2: 0.1433, Loss3: 0.6972\n"
     ]
    },
    {
     "name": "stderr",
     "output_type": "stream",
     "text": [
      "Test_Loader: 100%|██████████| 288/288 [00:26<00:00, 11.05it/s]\n"
     ]
    },
    {
     "name": "stdout",
     "output_type": "stream",
     "text": [
      "Loss1: 0.3170, Loss2: 0.1412, Loss3: 0.6942\n"
     ]
    },
    {
     "name": "stderr",
     "output_type": "stream",
     "text": [
      "Test_Loader: 100%|██████████| 288/288 [00:26<00:00, 11.06it/s]\n"
     ]
    },
    {
     "name": "stdout",
     "output_type": "stream",
     "text": [
      "Loss1: 0.3122, Loss2: 0.1612, Loss3: 0.7533\n"
     ]
    },
    {
     "name": "stderr",
     "output_type": "stream",
     "text": [
      "Test_Loader: 100%|██████████| 288/288 [00:25<00:00, 11.15it/s]\n"
     ]
    },
    {
     "name": "stdout",
     "output_type": "stream",
     "text": [
      "Loss1: 0.3118, Loss2: 0.1588, Loss3: 0.7468\n"
     ]
    },
    {
     "name": "stderr",
     "output_type": "stream",
     "text": [
      "Test_Loader: 100%|██████████| 288/288 [00:27<00:00, 10.34it/s]\n"
     ]
    },
    {
     "name": "stdout",
     "output_type": "stream",
     "text": [
      "Loss1: 0.3015, Loss2: 0.1487, Loss3: 0.7231\n"
     ]
    },
    {
     "name": "stderr",
     "output_type": "stream",
     "text": [
      "Test_Loader: 100%|██████████| 288/288 [00:27<00:00, 10.45it/s]\n"
     ]
    },
    {
     "name": "stdout",
     "output_type": "stream",
     "text": [
      "Loss1: 0.3217, Loss2: 0.1590, Loss3: 0.7610\n"
     ]
    },
    {
     "name": "stderr",
     "output_type": "stream",
     "text": [
      "Test_Loader: 100%|██████████| 288/288 [00:26<00:00, 11.05it/s]\n"
     ]
    },
    {
     "name": "stdout",
     "output_type": "stream",
     "text": [
      "Loss1: 0.3299, Loss2: 0.1607, Loss3: 0.7946\n"
     ]
    },
    {
     "name": "stderr",
     "output_type": "stream",
     "text": [
      "Test_Loader: 100%|██████████| 288/288 [00:26<00:00, 11.04it/s]\n"
     ]
    },
    {
     "name": "stdout",
     "output_type": "stream",
     "text": [
      "Loss1: 0.3050, Loss2: 0.1575, Loss3: 0.7838\n"
     ]
    },
    {
     "name": "stderr",
     "output_type": "stream",
     "text": [
      "Test_Loader: 100%|██████████| 288/288 [00:25<00:00, 11.12it/s]\n"
     ]
    },
    {
     "name": "stdout",
     "output_type": "stream",
     "text": [
      "Loss1: 0.3013, Loss2: 0.1540, Loss3: 0.7844\n"
     ]
    },
    {
     "name": "stderr",
     "output_type": "stream",
     "text": [
      "Test_Loader: 100%|██████████| 288/288 [00:26<00:00, 11.04it/s]\n"
     ]
    },
    {
     "name": "stdout",
     "output_type": "stream",
     "text": [
      "Loss1: 0.2979, Loss2: 0.1512, Loss3: 0.7805\n"
     ]
    },
    {
     "name": "stderr",
     "output_type": "stream",
     "text": [
      "Test_Loader: 100%|██████████| 288/288 [00:26<00:00, 11.03it/s]\n"
     ]
    },
    {
     "name": "stdout",
     "output_type": "stream",
     "text": [
      "Loss1: 0.2944, Loss2: 0.1504, Loss3: 0.7639\n"
     ]
    },
    {
     "name": "stderr",
     "output_type": "stream",
     "text": [
      "Test_Loader: 100%|██████████| 288/288 [00:42<00:00,  6.78it/s]\n"
     ]
    },
    {
     "name": "stdout",
     "output_type": "stream",
     "text": [
      "Loss1: 0.2894, Loss2: 0.1503, Loss3: 0.7597\n"
     ]
    },
    {
     "name": "stderr",
     "output_type": "stream",
     "text": [
      "Test_Loader: 100%|██████████| 288/288 [01:08<00:00,  4.19it/s]\n"
     ]
    },
    {
     "name": "stdout",
     "output_type": "stream",
     "text": [
      "Loss1: 0.3075, Loss2: 0.1468, Loss3: 0.7832\n"
     ]
    },
    {
     "name": "stderr",
     "output_type": "stream",
     "text": [
      "Test_Loader: 100%|██████████| 288/288 [01:07<00:00,  4.26it/s]\n"
     ]
    },
    {
     "name": "stdout",
     "output_type": "stream",
     "text": [
      "Loss1: 0.2979, Loss2: 0.1479, Loss3: 0.7742\n"
     ]
    },
    {
     "name": "stderr",
     "output_type": "stream",
     "text": [
      "Test_Loader: 100%|██████████| 288/288 [00:33<00:00,  8.61it/s]\n"
     ]
    },
    {
     "name": "stdout",
     "output_type": "stream",
     "text": [
      "Loss1: 0.3034, Loss2: 0.1443, Loss3: 0.7795\n"
     ]
    },
    {
     "name": "stderr",
     "output_type": "stream",
     "text": [
      "Test_Loader: 100%|██████████| 288/288 [00:31<00:00,  9.24it/s]\n"
     ]
    },
    {
     "name": "stdout",
     "output_type": "stream",
     "text": [
      "Loss1: 0.3047, Loss2: 0.1489, Loss3: 0.7822\n"
     ]
    },
    {
     "name": "stderr",
     "output_type": "stream",
     "text": [
      "Test_Loader: 100%|██████████| 288/288 [01:06<00:00,  4.35it/s]\n"
     ]
    },
    {
     "name": "stdout",
     "output_type": "stream",
     "text": [
      "Loss1: 0.2986, Loss2: 0.1653, Loss3: 0.8088\n"
     ]
    },
    {
     "name": "stderr",
     "output_type": "stream",
     "text": [
      "Test_Loader: 100%|██████████| 288/288 [01:05<00:00,  4.37it/s]\n"
     ]
    },
    {
     "name": "stdout",
     "output_type": "stream",
     "text": [
      "Loss1: 0.3186, Loss2: 0.1680, Loss3: 0.8444\n"
     ]
    },
    {
     "name": "stderr",
     "output_type": "stream",
     "text": [
      "Test_Loader: 100%|██████████| 288/288 [01:07<00:00,  4.27it/s]\n"
     ]
    },
    {
     "name": "stdout",
     "output_type": "stream",
     "text": [
      "Loss1: 0.3195, Loss2: 0.1681, Loss3: 0.8374\n"
     ]
    },
    {
     "name": "stderr",
     "output_type": "stream",
     "text": [
      "Test_Loader: 100%|██████████| 288/288 [01:06<00:00,  4.32it/s]\n"
     ]
    },
    {
     "name": "stdout",
     "output_type": "stream",
     "text": [
      "Loss1: 0.3062, Loss2: 0.1657, Loss3: 0.8076\n"
     ]
    },
    {
     "name": "stderr",
     "output_type": "stream",
     "text": [
      "Test_Loader: 100%|██████████| 288/288 [01:08<00:00,  4.21it/s]\n"
     ]
    },
    {
     "name": "stdout",
     "output_type": "stream",
     "text": [
      "Loss1: 0.3082, Loss2: 0.1648, Loss3: 0.8163\n"
     ]
    },
    {
     "name": "stderr",
     "output_type": "stream",
     "text": [
      "Test_Loader: 100%|██████████| 288/288 [01:08<00:00,  4.22it/s]\n"
     ]
    },
    {
     "name": "stdout",
     "output_type": "stream",
     "text": [
      "Loss1: 0.3127, Loss2: 0.1654, Loss3: 0.8163\n"
     ]
    },
    {
     "name": "stderr",
     "output_type": "stream",
     "text": [
      "Test_Loader: 100%|██████████| 288/288 [01:08<00:00,  4.21it/s]\n"
     ]
    },
    {
     "name": "stdout",
     "output_type": "stream",
     "text": [
      "Loss1: 0.3155, Loss2: 0.1668, Loss3: 0.8075\n"
     ]
    },
    {
     "name": "stderr",
     "output_type": "stream",
     "text": [
      "Test_Loader: 100%|██████████| 288/288 [01:06<00:00,  4.32it/s]\n"
     ]
    },
    {
     "name": "stdout",
     "output_type": "stream",
     "text": [
      "Loss1: 0.3132, Loss2: 0.1693, Loss3: 0.8461\n"
     ]
    },
    {
     "name": "stderr",
     "output_type": "stream",
     "text": [
      "Test_Loader: 100%|██████████| 288/288 [01:06<00:00,  4.32it/s]\n"
     ]
    },
    {
     "name": "stdout",
     "output_type": "stream",
     "text": [
      "Loss1: 0.3210, Loss2: 0.1614, Loss3: 0.8311\n"
     ]
    },
    {
     "name": "stderr",
     "output_type": "stream",
     "text": [
      "Test_Loader: 100%|██████████| 288/288 [01:07<00:00,  4.28it/s]\n"
     ]
    },
    {
     "name": "stdout",
     "output_type": "stream",
     "text": [
      "Loss1: 0.3087, Loss2: 0.1643, Loss3: 0.8132\n"
     ]
    },
    {
     "name": "stderr",
     "output_type": "stream",
     "text": [
      "Test_Loader: 100%|██████████| 288/288 [01:07<00:00,  4.27it/s]\n"
     ]
    },
    {
     "name": "stdout",
     "output_type": "stream",
     "text": [
      "Loss1: 0.3102, Loss2: 0.1589, Loss3: 0.8177\n"
     ]
    },
    {
     "name": "stderr",
     "output_type": "stream",
     "text": [
      "Test_Loader: 100%|██████████| 288/288 [01:08<00:00,  4.22it/s]\n"
     ]
    },
    {
     "name": "stdout",
     "output_type": "stream",
     "text": [
      "Loss1: 0.3005, Loss2: 0.1651, Loss3: 0.8303\n"
     ]
    },
    {
     "name": "stderr",
     "output_type": "stream",
     "text": [
      "Test_Loader: 100%|██████████| 288/288 [01:08<00:00,  4.22it/s]\n"
     ]
    },
    {
     "name": "stdout",
     "output_type": "stream",
     "text": [
      "Loss1: 0.3056, Loss2: 0.1522, Loss3: 0.8125\n"
     ]
    },
    {
     "name": "stderr",
     "output_type": "stream",
     "text": [
      "Test_Loader: 100%|██████████| 288/288 [01:08<00:00,  4.19it/s]\n"
     ]
    },
    {
     "name": "stdout",
     "output_type": "stream",
     "text": [
      "Loss1: 0.3082, Loss2: 0.1594, Loss3: 0.8093\n"
     ]
    },
    {
     "name": "stderr",
     "output_type": "stream",
     "text": [
      "Test_Loader: 100%|██████████| 288/288 [01:08<00:00,  4.23it/s]\n"
     ]
    },
    {
     "name": "stdout",
     "output_type": "stream",
     "text": [
      "Loss1: 0.3114, Loss2: 0.1564, Loss3: 0.8302\n"
     ]
    },
    {
     "name": "stderr",
     "output_type": "stream",
     "text": [
      "Test_Loader: 100%|██████████| 288/288 [01:08<00:00,  4.17it/s]\n"
     ]
    },
    {
     "name": "stdout",
     "output_type": "stream",
     "text": [
      "Loss1: 0.3125, Loss2: 0.1803, Loss3: 0.8881\n"
     ]
    },
    {
     "name": "stderr",
     "output_type": "stream",
     "text": [
      "Test_Loader: 100%|██████████| 288/288 [01:07<00:00,  4.24it/s]\n"
     ]
    },
    {
     "name": "stdout",
     "output_type": "stream",
     "text": [
      "Loss1: 0.3153, Loss2: 0.1810, Loss3: 0.8965\n"
     ]
    },
    {
     "name": "stderr",
     "output_type": "stream",
     "text": [
      "Test_Loader: 100%|██████████| 288/288 [01:08<00:00,  4.21it/s]\n"
     ]
    },
    {
     "name": "stdout",
     "output_type": "stream",
     "text": [
      "Loss1: 0.3113, Loss2: 0.1727, Loss3: 0.8879\n"
     ]
    },
    {
     "name": "stderr",
     "output_type": "stream",
     "text": [
      "Test_Loader: 100%|██████████| 288/288 [01:08<00:00,  4.22it/s]\n"
     ]
    },
    {
     "name": "stdout",
     "output_type": "stream",
     "text": [
      "Loss1: 0.3027, Loss2: 0.1737, Loss3: 0.8670\n"
     ]
    },
    {
     "name": "stderr",
     "output_type": "stream",
     "text": [
      "Test_Loader: 100%|██████████| 288/288 [01:07<00:00,  4.29it/s]\n"
     ]
    },
    {
     "name": "stdout",
     "output_type": "stream",
     "text": [
      "Loss1: 0.3071, Loss2: 0.1839, Loss3: 0.8880\n"
     ]
    },
    {
     "name": "stderr",
     "output_type": "stream",
     "text": [
      "Test_Loader: 100%|██████████| 288/288 [01:08<00:00,  4.19it/s]\n"
     ]
    },
    {
     "name": "stdout",
     "output_type": "stream",
     "text": [
      "Loss1: 0.3013, Loss2: 0.1824, Loss3: 0.7838\n"
     ]
    },
    {
     "name": "stderr",
     "output_type": "stream",
     "text": [
      "Test_Loader: 100%|██████████| 288/288 [01:07<00:00,  4.26it/s]\n"
     ]
    },
    {
     "name": "stdout",
     "output_type": "stream",
     "text": [
      "Loss1: 0.2936, Loss2: 0.1832, Loss3: 0.7756\n"
     ]
    },
    {
     "name": "stderr",
     "output_type": "stream",
     "text": [
      "Test_Loader: 100%|██████████| 288/288 [01:07<00:00,  4.27it/s]\n"
     ]
    },
    {
     "name": "stdout",
     "output_type": "stream",
     "text": [
      "Loss1: 0.2884, Loss2: 0.1782, Loss3: 0.7721\n"
     ]
    },
    {
     "name": "stderr",
     "output_type": "stream",
     "text": [
      "Test_Loader: 100%|██████████| 288/288 [01:08<00:00,  4.23it/s]\n"
     ]
    },
    {
     "name": "stdout",
     "output_type": "stream",
     "text": [
      "Loss1: 0.2971, Loss2: 0.1773, Loss3: 0.7309\n"
     ]
    },
    {
     "name": "stderr",
     "output_type": "stream",
     "text": [
      "Test_Loader: 100%|██████████| 288/288 [01:08<00:00,  4.23it/s]\n"
     ]
    },
    {
     "name": "stdout",
     "output_type": "stream",
     "text": [
      "Loss1: 0.3002, Loss2: 0.1738, Loss3: 0.7385\n"
     ]
    },
    {
     "name": "stderr",
     "output_type": "stream",
     "text": [
      "Test_Loader: 100%|██████████| 288/288 [01:07<00:00,  4.26it/s]\n"
     ]
    },
    {
     "name": "stdout",
     "output_type": "stream",
     "text": [
      "Loss1: 0.2988, Loss2: 0.1787, Loss3: 0.7479\n"
     ]
    },
    {
     "name": "stderr",
     "output_type": "stream",
     "text": [
      "Test_Loader: 100%|██████████| 288/288 [01:06<00:00,  4.30it/s]\n"
     ]
    },
    {
     "name": "stdout",
     "output_type": "stream",
     "text": [
      "Loss1: 0.3034, Loss2: 0.1702, Loss3: 0.7390\n"
     ]
    },
    {
     "name": "stderr",
     "output_type": "stream",
     "text": [
      "Test_Loader: 100%|██████████| 288/288 [01:07<00:00,  4.27it/s]\n"
     ]
    },
    {
     "name": "stdout",
     "output_type": "stream",
     "text": [
      "Loss1: 0.3030, Loss2: 0.1765, Loss3: 0.7185\n"
     ]
    },
    {
     "name": "stderr",
     "output_type": "stream",
     "text": [
      "Test_Loader: 100%|██████████| 288/288 [01:08<00:00,  4.18it/s]\n"
     ]
    },
    {
     "name": "stdout",
     "output_type": "stream",
     "text": [
      "Loss1: 0.2972, Loss2: 0.1734, Loss3: 0.7205\n"
     ]
    },
    {
     "name": "stderr",
     "output_type": "stream",
     "text": [
      "Test_Loader: 100%|██████████| 288/288 [01:06<00:00,  4.30it/s]\n"
     ]
    },
    {
     "name": "stdout",
     "output_type": "stream",
     "text": [
      "Loss1: 0.2947, Loss2: 0.1677, Loss3: 0.7250\n"
     ]
    },
    {
     "name": "stderr",
     "output_type": "stream",
     "text": [
      "Test_Loader: 100%|██████████| 288/288 [01:08<00:00,  4.18it/s]\n"
     ]
    },
    {
     "name": "stdout",
     "output_type": "stream",
     "text": [
      "Loss1: 0.2957, Loss2: 0.1697, Loss3: 0.7058\n"
     ]
    },
    {
     "name": "stderr",
     "output_type": "stream",
     "text": [
      "Test_Loader: 100%|██████████| 288/288 [01:08<00:00,  4.19it/s]\n"
     ]
    },
    {
     "name": "stdout",
     "output_type": "stream",
     "text": [
      "Loss1: 0.3008, Loss2: 0.1738, Loss3: 0.7239\n"
     ]
    },
    {
     "name": "stderr",
     "output_type": "stream",
     "text": [
      "Test_Loader: 100%|██████████| 288/288 [01:08<00:00,  4.20it/s]\n"
     ]
    },
    {
     "name": "stdout",
     "output_type": "stream",
     "text": [
      "Loss1: 0.3001, Loss2: 0.1784, Loss3: 0.7336\n"
     ]
    },
    {
     "name": "stderr",
     "output_type": "stream",
     "text": [
      "Test_Loader: 100%|██████████| 288/288 [01:09<00:00,  4.17it/s]\n"
     ]
    },
    {
     "name": "stdout",
     "output_type": "stream",
     "text": [
      "Loss1: 0.2989, Loss2: 0.1690, Loss3: 0.7300\n"
     ]
    },
    {
     "name": "stderr",
     "output_type": "stream",
     "text": [
      "Test_Loader: 100%|██████████| 288/288 [01:08<00:00,  4.20it/s]\n"
     ]
    },
    {
     "name": "stdout",
     "output_type": "stream",
     "text": [
      "Loss1: 0.3043, Loss2: 0.1772, Loss3: 0.6977\n"
     ]
    },
    {
     "name": "stderr",
     "output_type": "stream",
     "text": [
      "Test_Loader: 100%|██████████| 288/288 [01:07<00:00,  4.24it/s]\n"
     ]
    },
    {
     "name": "stdout",
     "output_type": "stream",
     "text": [
      "Loss1: 0.3021, Loss2: 0.1747, Loss3: 0.7291\n"
     ]
    },
    {
     "name": "stderr",
     "output_type": "stream",
     "text": [
      "Test_Loader: 100%|██████████| 288/288 [01:07<00:00,  4.29it/s]\n"
     ]
    },
    {
     "name": "stdout",
     "output_type": "stream",
     "text": [
      "Loss1: 0.2941, Loss2: 0.1712, Loss3: 0.7172\n"
     ]
    },
    {
     "name": "stderr",
     "output_type": "stream",
     "text": [
      "Test_Loader: 100%|██████████| 288/288 [01:07<00:00,  4.25it/s]\n"
     ]
    },
    {
     "name": "stdout",
     "output_type": "stream",
     "text": [
      "Loss1: 0.2970, Loss2: 0.1629, Loss3: 0.7096\n"
     ]
    },
    {
     "name": "stderr",
     "output_type": "stream",
     "text": [
      "Test_Loader: 100%|██████████| 288/288 [01:08<00:00,  4.23it/s]\n"
     ]
    },
    {
     "name": "stdout",
     "output_type": "stream",
     "text": [
      "Loss1: 0.2861, Loss2: 0.1618, Loss3: 0.6630\n"
     ]
    },
    {
     "name": "stderr",
     "output_type": "stream",
     "text": [
      "Test_Loader: 100%|██████████| 288/288 [01:08<00:00,  4.23it/s]\n"
     ]
    },
    {
     "name": "stdout",
     "output_type": "stream",
     "text": [
      "Loss1: 0.2880, Loss2: 0.1620, Loss3: 0.6878\n"
     ]
    },
    {
     "name": "stderr",
     "output_type": "stream",
     "text": [
      "Test_Loader: 100%|██████████| 288/288 [01:08<00:00,  4.20it/s]\n"
     ]
    },
    {
     "name": "stdout",
     "output_type": "stream",
     "text": [
      "Loss1: 0.2898, Loss2: 0.1602, Loss3: 0.6717\n"
     ]
    },
    {
     "name": "stderr",
     "output_type": "stream",
     "text": [
      "Test_Loader: 100%|██████████| 288/288 [01:08<00:00,  4.22it/s]\n"
     ]
    },
    {
     "name": "stdout",
     "output_type": "stream",
     "text": [
      "Loss1: 0.2735, Loss2: 0.1494, Loss3: 0.6689\n"
     ]
    },
    {
     "name": "stderr",
     "output_type": "stream",
     "text": [
      "Test_Loader: 100%|██████████| 288/288 [01:08<00:00,  4.21it/s]\n"
     ]
    },
    {
     "name": "stdout",
     "output_type": "stream",
     "text": [
      "Loss1: 0.2737, Loss2: 0.1519, Loss3: 0.6449\n"
     ]
    },
    {
     "name": "stderr",
     "output_type": "stream",
     "text": [
      "Test_Loader: 100%|██████████| 288/288 [01:07<00:00,  4.25it/s]\n"
     ]
    },
    {
     "name": "stdout",
     "output_type": "stream",
     "text": [
      "Loss1: 0.2770, Loss2: 0.1525, Loss3: 0.6566\n"
     ]
    },
    {
     "name": "stderr",
     "output_type": "stream",
     "text": [
      "Test_Loader: 100%|██████████| 288/288 [01:06<00:00,  4.31it/s]\n"
     ]
    },
    {
     "name": "stdout",
     "output_type": "stream",
     "text": [
      "Loss1: 0.2667, Loss2: 0.1482, Loss3: 0.6513\n"
     ]
    },
    {
     "name": "stderr",
     "output_type": "stream",
     "text": [
      "Test_Loader: 100%|██████████| 288/288 [01:06<00:00,  4.31it/s]\n"
     ]
    },
    {
     "name": "stdout",
     "output_type": "stream",
     "text": [
      "Loss1: 0.2689, Loss2: 0.1426, Loss3: 0.6516\n"
     ]
    },
    {
     "name": "stderr",
     "output_type": "stream",
     "text": [
      "Test_Loader: 100%|██████████| 288/288 [01:07<00:00,  4.27it/s]\n"
     ]
    },
    {
     "name": "stdout",
     "output_type": "stream",
     "text": [
      "Loss1: 0.2667, Loss2: 0.1470, Loss3: 0.6575\n"
     ]
    },
    {
     "name": "stderr",
     "output_type": "stream",
     "text": [
      "Test_Loader: 100%|██████████| 288/288 [01:08<00:00,  4.22it/s]\n"
     ]
    },
    {
     "name": "stdout",
     "output_type": "stream",
     "text": [
      "Loss1: 0.2683, Loss2: 0.1417, Loss3: 0.6272\n"
     ]
    },
    {
     "name": "stderr",
     "output_type": "stream",
     "text": [
      "Test_Loader: 100%|██████████| 288/288 [01:07<00:00,  4.24it/s]\n"
     ]
    },
    {
     "name": "stdout",
     "output_type": "stream",
     "text": [
      "Loss1: 0.2646, Loss2: 0.1438, Loss3: 0.6407\n"
     ]
    },
    {
     "name": "stderr",
     "output_type": "stream",
     "text": [
      "Test_Loader: 100%|██████████| 288/288 [01:08<00:00,  4.20it/s]\n"
     ]
    },
    {
     "name": "stdout",
     "output_type": "stream",
     "text": [
      "Loss1: 0.2730, Loss2: 0.1493, Loss3: 0.6282\n"
     ]
    },
    {
     "name": "stderr",
     "output_type": "stream",
     "text": [
      "Test_Loader: 100%|██████████| 288/288 [01:08<00:00,  4.22it/s]\n"
     ]
    },
    {
     "name": "stdout",
     "output_type": "stream",
     "text": [
      "Loss1: 0.2654, Loss2: 0.1481, Loss3: 0.6280\n"
     ]
    },
    {
     "name": "stderr",
     "output_type": "stream",
     "text": [
      "Test_Loader: 100%|██████████| 288/288 [01:08<00:00,  4.23it/s]\n"
     ]
    },
    {
     "name": "stdout",
     "output_type": "stream",
     "text": [
      "Loss1: 0.2654, Loss2: 0.1428, Loss3: 0.6461\n"
     ]
    },
    {
     "name": "stderr",
     "output_type": "stream",
     "text": [
      "Test_Loader: 100%|██████████| 288/288 [01:07<00:00,  4.26it/s]\n"
     ]
    },
    {
     "name": "stdout",
     "output_type": "stream",
     "text": [
      "Loss1: 0.2681, Loss2: 0.1462, Loss3: 0.6237\n"
     ]
    },
    {
     "name": "stderr",
     "output_type": "stream",
     "text": [
      "Test_Loader: 100%|██████████| 288/288 [01:07<00:00,  4.25it/s]\n"
     ]
    },
    {
     "name": "stdout",
     "output_type": "stream",
     "text": [
      "Loss1: 0.2622, Loss2: 0.1460, Loss3: 0.6183\n"
     ]
    },
    {
     "name": "stderr",
     "output_type": "stream",
     "text": [
      "Test_Loader: 100%|██████████| 288/288 [01:08<00:00,  4.20it/s]\n"
     ]
    },
    {
     "name": "stdout",
     "output_type": "stream",
     "text": [
      "Loss1: 0.2714, Loss2: 0.1475, Loss3: 0.6251\n"
     ]
    },
    {
     "name": "stderr",
     "output_type": "stream",
     "text": [
      "Test_Loader: 100%|██████████| 288/288 [01:08<00:00,  4.20it/s]\n"
     ]
    },
    {
     "name": "stdout",
     "output_type": "stream",
     "text": [
      "Loss1: 0.2658, Loss2: 0.1480, Loss3: 0.6382\n"
     ]
    },
    {
     "name": "stderr",
     "output_type": "stream",
     "text": [
      "Test_Loader: 100%|██████████| 288/288 [00:56<00:00,  5.09it/s]\n"
     ]
    },
    {
     "name": "stdout",
     "output_type": "stream",
     "text": [
      "Loss1: 0.2656, Loss2: 0.1460, Loss3: 0.6154\n"
     ]
    },
    {
     "name": "stderr",
     "output_type": "stream",
     "text": [
      "Test_Loader: 100%|██████████| 288/288 [01:06<00:00,  4.32it/s]\n"
     ]
    },
    {
     "name": "stdout",
     "output_type": "stream",
     "text": [
      "Loss1: 0.2647, Loss2: 0.1462, Loss3: 0.6166\n"
     ]
    },
    {
     "name": "stderr",
     "output_type": "stream",
     "text": [
      "Test_Loader: 100%|██████████| 288/288 [01:07<00:00,  4.28it/s]\n"
     ]
    },
    {
     "name": "stdout",
     "output_type": "stream",
     "text": [
      "Loss1: 0.2609, Loss2: 0.1386, Loss3: 0.6245\n"
     ]
    },
    {
     "name": "stderr",
     "output_type": "stream",
     "text": [
      "Test_Loader: 100%|██████████| 288/288 [01:07<00:00,  4.24it/s]\n"
     ]
    },
    {
     "name": "stdout",
     "output_type": "stream",
     "text": [
      "Loss1: 0.2616, Loss2: 0.1440, Loss3: 0.5852\n"
     ]
    },
    {
     "name": "stderr",
     "output_type": "stream",
     "text": [
      "Test_Loader: 100%|██████████| 288/288 [01:08<00:00,  4.19it/s]\n"
     ]
    },
    {
     "name": "stdout",
     "output_type": "stream",
     "text": [
      "Loss1: 0.2570, Loss2: 0.1451, Loss3: 0.6050\n"
     ]
    },
    {
     "name": "stderr",
     "output_type": "stream",
     "text": [
      "Test_Loader: 100%|██████████| 288/288 [01:08<00:00,  4.23it/s]\n"
     ]
    },
    {
     "name": "stdout",
     "output_type": "stream",
     "text": [
      "Loss1: 0.2782, Loss2: 0.1399, Loss3: 0.7004\n"
     ]
    },
    {
     "name": "stderr",
     "output_type": "stream",
     "text": [
      "Test_Loader: 100%|██████████| 288/288 [01:07<00:00,  4.29it/s]\n"
     ]
    },
    {
     "name": "stdout",
     "output_type": "stream",
     "text": [
      "Loss1: 0.2781, Loss2: 0.1382, Loss3: 0.6995\n"
     ]
    },
    {
     "name": "stderr",
     "output_type": "stream",
     "text": [
      "Test_Loader: 100%|██████████| 288/288 [01:08<00:00,  4.20it/s]\n"
     ]
    },
    {
     "name": "stdout",
     "output_type": "stream",
     "text": [
      "Loss1: 0.2759, Loss2: 0.1424, Loss3: 0.6630\n"
     ]
    },
    {
     "name": "stderr",
     "output_type": "stream",
     "text": [
      "Test_Loader: 100%|██████████| 288/288 [01:07<00:00,  4.27it/s]\n"
     ]
    },
    {
     "name": "stdout",
     "output_type": "stream",
     "text": [
      "Loss1: 0.2742, Loss2: 0.1391, Loss3: 0.6916\n"
     ]
    },
    {
     "name": "stderr",
     "output_type": "stream",
     "text": [
      "Test_Loader: 100%|██████████| 288/288 [01:08<00:00,  4.19it/s]\n"
     ]
    },
    {
     "name": "stdout",
     "output_type": "stream",
     "text": [
      "Loss1: 0.2715, Loss2: 0.1383, Loss3: 0.6894\n"
     ]
    },
    {
     "name": "stderr",
     "output_type": "stream",
     "text": [
      "Test_Loader: 100%|██████████| 288/288 [01:08<00:00,  4.21it/s]\n"
     ]
    },
    {
     "name": "stdout",
     "output_type": "stream",
     "text": [
      "Loss1: 0.2721, Loss2: 0.1455, Loss3: 0.6895\n"
     ]
    },
    {
     "name": "stderr",
     "output_type": "stream",
     "text": [
      "Test_Loader: 100%|██████████| 288/288 [01:08<00:00,  4.20it/s]\n"
     ]
    },
    {
     "name": "stdout",
     "output_type": "stream",
     "text": [
      "Loss1: 0.2719, Loss2: 0.1361, Loss3: 0.6925\n"
     ]
    },
    {
     "name": "stderr",
     "output_type": "stream",
     "text": [
      "Test_Loader: 100%|██████████| 288/288 [01:08<00:00,  4.21it/s]\n"
     ]
    },
    {
     "name": "stdout",
     "output_type": "stream",
     "text": [
      "Loss1: 0.2748, Loss2: 0.1421, Loss3: 0.6714\n"
     ]
    },
    {
     "name": "stderr",
     "output_type": "stream",
     "text": [
      "Test_Loader: 100%|██████████| 288/288 [01:07<00:00,  4.24it/s]\n"
     ]
    },
    {
     "name": "stdout",
     "output_type": "stream",
     "text": [
      "Loss1: 0.2704, Loss2: 0.1441, Loss3: 0.6692\n"
     ]
    },
    {
     "name": "stderr",
     "output_type": "stream",
     "text": [
      "Test_Loader: 100%|██████████| 288/288 [01:07<00:00,  4.25it/s]\n"
     ]
    },
    {
     "name": "stdout",
     "output_type": "stream",
     "text": [
      "Loss1: 0.2647, Loss2: 0.1378, Loss3: 0.6703\n"
     ]
    },
    {
     "name": "stderr",
     "output_type": "stream",
     "text": [
      "Test_Loader: 100%|██████████| 288/288 [01:08<00:00,  4.22it/s]\n"
     ]
    },
    {
     "name": "stdout",
     "output_type": "stream",
     "text": [
      "Loss1: 0.2646, Loss2: 0.1426, Loss3: 0.6597\n"
     ]
    },
    {
     "name": "stderr",
     "output_type": "stream",
     "text": [
      "Test_Loader: 100%|██████████| 288/288 [01:07<00:00,  4.25it/s]\n"
     ]
    },
    {
     "name": "stdout",
     "output_type": "stream",
     "text": [
      "Loss1: 0.2482, Loss2: 0.1338, Loss3: 0.6687\n"
     ]
    },
    {
     "name": "stderr",
     "output_type": "stream",
     "text": [
      "Test_Loader: 100%|██████████| 288/288 [01:08<00:00,  4.21it/s]\n"
     ]
    },
    {
     "name": "stdout",
     "output_type": "stream",
     "text": [
      "Loss1: 0.2489, Loss2: 0.1385, Loss3: 0.6410\n"
     ]
    },
    {
     "name": "stderr",
     "output_type": "stream",
     "text": [
      "Test_Loader: 100%|██████████| 288/288 [01:08<00:00,  4.20it/s]\n"
     ]
    },
    {
     "name": "stdout",
     "output_type": "stream",
     "text": [
      "Loss1: 0.2549, Loss2: 0.1334, Loss3: 0.6486\n"
     ]
    },
    {
     "name": "stderr",
     "output_type": "stream",
     "text": [
      "Test_Loader: 100%|██████████| 288/288 [01:07<00:00,  4.27it/s]\n"
     ]
    },
    {
     "name": "stdout",
     "output_type": "stream",
     "text": [
      "Loss1: 0.2653, Loss2: 0.1501, Loss3: 0.6458\n"
     ]
    },
    {
     "name": "stderr",
     "output_type": "stream",
     "text": [
      "Test_Loader: 100%|██████████| 288/288 [01:07<00:00,  4.26it/s]\n"
     ]
    },
    {
     "name": "stdout",
     "output_type": "stream",
     "text": [
      "Loss1: 0.2584, Loss2: 0.1447, Loss3: 0.6674\n"
     ]
    },
    {
     "name": "stderr",
     "output_type": "stream",
     "text": [
      "Test_Loader: 100%|██████████| 288/288 [01:08<00:00,  4.22it/s]\n"
     ]
    },
    {
     "name": "stdout",
     "output_type": "stream",
     "text": [
      "Loss1: 0.2632, Loss2: 0.1419, Loss3: 0.6671\n"
     ]
    },
    {
     "name": "stderr",
     "output_type": "stream",
     "text": [
      "Test_Loader: 100%|██████████| 288/288 [01:07<00:00,  4.28it/s]\n"
     ]
    },
    {
     "name": "stdout",
     "output_type": "stream",
     "text": [
      "Loss1: 0.2629, Loss2: 0.1482, Loss3: 0.6642\n"
     ]
    },
    {
     "name": "stderr",
     "output_type": "stream",
     "text": [
      "Test_Loader: 100%|██████████| 288/288 [01:07<00:00,  4.27it/s]\n"
     ]
    },
    {
     "name": "stdout",
     "output_type": "stream",
     "text": [
      "Loss1: 0.2617, Loss2: 0.1439, Loss3: 0.6588\n"
     ]
    },
    {
     "name": "stderr",
     "output_type": "stream",
     "text": [
      "Test_Loader: 100%|██████████| 288/288 [01:07<00:00,  4.30it/s]\n"
     ]
    },
    {
     "name": "stdout",
     "output_type": "stream",
     "text": [
      "Loss1: 0.2628, Loss2: 0.1469, Loss3: 0.6520\n"
     ]
    },
    {
     "name": "stderr",
     "output_type": "stream",
     "text": [
      "Test_Loader: 100%|██████████| 288/288 [01:06<00:00,  4.33it/s]\n"
     ]
    },
    {
     "name": "stdout",
     "output_type": "stream",
     "text": [
      "Loss1: 0.2626, Loss2: 0.1406, Loss3: 0.6569\n"
     ]
    },
    {
     "name": "stderr",
     "output_type": "stream",
     "text": [
      "Test_Loader: 100%|██████████| 288/288 [01:08<00:00,  4.22it/s]\n"
     ]
    },
    {
     "name": "stdout",
     "output_type": "stream",
     "text": [
      "Loss1: 0.2600, Loss2: 0.1399, Loss3: 0.6352\n"
     ]
    },
    {
     "name": "stderr",
     "output_type": "stream",
     "text": [
      "Test_Loader: 100%|██████████| 288/288 [01:07<00:00,  4.24it/s]\n"
     ]
    },
    {
     "name": "stdout",
     "output_type": "stream",
     "text": [
      "Loss1: 0.2551, Loss2: 0.1430, Loss3: 0.6277\n"
     ]
    },
    {
     "name": "stderr",
     "output_type": "stream",
     "text": [
      "Test_Loader: 100%|██████████| 288/288 [01:08<00:00,  4.23it/s]\n"
     ]
    },
    {
     "name": "stdout",
     "output_type": "stream",
     "text": [
      "Loss1: 0.2564, Loss2: 0.1409, Loss3: 0.6434\n"
     ]
    },
    {
     "name": "stderr",
     "output_type": "stream",
     "text": [
      "Test_Loader: 100%|██████████| 288/288 [01:06<00:00,  4.31it/s]\n"
     ]
    },
    {
     "name": "stdout",
     "output_type": "stream",
     "text": [
      "Loss1: 0.2496, Loss2: 0.1387, Loss3: 0.6401\n"
     ]
    },
    {
     "name": "stderr",
     "output_type": "stream",
     "text": [
      "Test_Loader: 100%|██████████| 288/288 [01:07<00:00,  4.29it/s]\n"
     ]
    },
    {
     "name": "stdout",
     "output_type": "stream",
     "text": [
      "Loss1: 0.2451, Loss2: 0.1302, Loss3: 0.6240\n"
     ]
    },
    {
     "name": "stderr",
     "output_type": "stream",
     "text": [
      "Test_Loader: 100%|██████████| 288/288 [01:06<00:00,  4.30it/s]\n"
     ]
    },
    {
     "name": "stdout",
     "output_type": "stream",
     "text": [
      "Loss1: 0.2513, Loss2: 0.1377, Loss3: 0.6059\n"
     ]
    },
    {
     "name": "stderr",
     "output_type": "stream",
     "text": [
      "Test_Loader: 100%|██████████| 288/288 [01:06<00:00,  4.31it/s]\n"
     ]
    },
    {
     "name": "stdout",
     "output_type": "stream",
     "text": [
      "Loss1: 0.2447, Loss2: 0.1371, Loss3: 0.6155\n"
     ]
    },
    {
     "name": "stderr",
     "output_type": "stream",
     "text": [
      "Test_Loader: 100%|██████████| 288/288 [01:07<00:00,  4.27it/s]\n"
     ]
    },
    {
     "name": "stdout",
     "output_type": "stream",
     "text": [
      "Loss1: 0.2467, Loss2: 0.1358, Loss3: 0.6097\n"
     ]
    },
    {
     "name": "stderr",
     "output_type": "stream",
     "text": [
      "Test_Loader: 100%|██████████| 288/288 [01:06<00:00,  4.31it/s]\n"
     ]
    },
    {
     "name": "stdout",
     "output_type": "stream",
     "text": [
      "Loss1: 0.2534, Loss2: 0.1601, Loss3: 0.6441\n"
     ]
    },
    {
     "name": "stderr",
     "output_type": "stream",
     "text": [
      "Test_Loader: 100%|██████████| 288/288 [01:07<00:00,  4.27it/s]\n"
     ]
    },
    {
     "name": "stdout",
     "output_type": "stream",
     "text": [
      "Loss1: 0.2521, Loss2: 0.1502, Loss3: 0.6562\n"
     ]
    },
    {
     "name": "stderr",
     "output_type": "stream",
     "text": [
      "Test_Loader: 100%|██████████| 288/288 [01:07<00:00,  4.28it/s]\n"
     ]
    },
    {
     "name": "stdout",
     "output_type": "stream",
     "text": [
      "Loss1: 0.2429, Loss2: 0.1500, Loss3: 0.6318\n"
     ]
    },
    {
     "name": "stderr",
     "output_type": "stream",
     "text": [
      "Test_Loader: 100%|██████████| 288/288 [01:07<00:00,  4.28it/s]\n"
     ]
    },
    {
     "name": "stdout",
     "output_type": "stream",
     "text": [
      "Loss1: 0.2558, Loss2: 0.1541, Loss3: 0.6557\n"
     ]
    },
    {
     "name": "stderr",
     "output_type": "stream",
     "text": [
      "Test_Loader: 100%|██████████| 288/288 [01:07<00:00,  4.27it/s]\n"
     ]
    },
    {
     "name": "stdout",
     "output_type": "stream",
     "text": [
      "Loss1: 0.2465, Loss2: 0.1546, Loss3: 0.6510\n"
     ]
    },
    {
     "name": "stderr",
     "output_type": "stream",
     "text": [
      "Test_Loader: 100%|██████████| 288/288 [01:07<00:00,  4.27it/s]\n"
     ]
    },
    {
     "name": "stdout",
     "output_type": "stream",
     "text": [
      "Loss1: 0.2430, Loss2: 0.1486, Loss3: 0.6321\n"
     ]
    },
    {
     "name": "stderr",
     "output_type": "stream",
     "text": [
      "Test_Loader: 100%|██████████| 288/288 [01:06<00:00,  4.31it/s]\n"
     ]
    },
    {
     "name": "stdout",
     "output_type": "stream",
     "text": [
      "Loss1: 0.2354, Loss2: 0.1399, Loss3: 0.6238\n"
     ]
    },
    {
     "name": "stderr",
     "output_type": "stream",
     "text": [
      "Test_Loader: 100%|██████████| 288/288 [01:08<00:00,  4.20it/s]\n"
     ]
    },
    {
     "name": "stdout",
     "output_type": "stream",
     "text": [
      "Loss1: 0.2388, Loss2: 0.1321, Loss3: 0.6408\n"
     ]
    },
    {
     "name": "stderr",
     "output_type": "stream",
     "text": [
      "Test_Loader: 100%|██████████| 288/288 [01:08<00:00,  4.21it/s]\n"
     ]
    },
    {
     "name": "stdout",
     "output_type": "stream",
     "text": [
      "Loss1: 0.2352, Loss2: 0.1357, Loss3: 0.6304\n"
     ]
    },
    {
     "name": "stderr",
     "output_type": "stream",
     "text": [
      "Test_Loader: 100%|██████████| 288/288 [01:07<00:00,  4.25it/s]\n"
     ]
    },
    {
     "name": "stdout",
     "output_type": "stream",
     "text": [
      "Loss1: 0.2361, Loss2: 0.1349, Loss3: 0.6554\n"
     ]
    },
    {
     "name": "stderr",
     "output_type": "stream",
     "text": [
      "Test_Loader: 100%|██████████| 288/288 [01:08<00:00,  4.21it/s]\n"
     ]
    },
    {
     "name": "stdout",
     "output_type": "stream",
     "text": [
      "Loss1: 0.2347, Loss2: 0.1413, Loss3: 0.6282\n"
     ]
    },
    {
     "name": "stderr",
     "output_type": "stream",
     "text": [
      "Test_Loader: 100%|██████████| 288/288 [01:08<00:00,  4.19it/s]\n"
     ]
    },
    {
     "name": "stdout",
     "output_type": "stream",
     "text": [
      "Loss1: 0.2315, Loss2: 0.1364, Loss3: 0.6489\n"
     ]
    },
    {
     "name": "stderr",
     "output_type": "stream",
     "text": [
      "Test_Loader: 100%|██████████| 288/288 [01:08<00:00,  4.19it/s]\n"
     ]
    },
    {
     "name": "stdout",
     "output_type": "stream",
     "text": [
      "Loss1: 0.3555, Loss2: 0.1520, Loss3: 0.7248\n"
     ]
    },
    {
     "name": "stderr",
     "output_type": "stream",
     "text": [
      "Test_Loader: 100%|██████████| 288/288 [01:08<00:00,  4.22it/s]\n"
     ]
    },
    {
     "name": "stdout",
     "output_type": "stream",
     "text": [
      "Loss1: 0.3441, Loss2: 0.1505, Loss3: 0.7067\n"
     ]
    },
    {
     "name": "stderr",
     "output_type": "stream",
     "text": [
      "Test_Loader: 100%|██████████| 288/288 [01:07<00:00,  4.24it/s]\n"
     ]
    },
    {
     "name": "stdout",
     "output_type": "stream",
     "text": [
      "Loss1: 0.3865, Loss2: 0.1827, Loss3: 0.7705\n"
     ]
    },
    {
     "name": "stderr",
     "output_type": "stream",
     "text": [
      "Test_Loader: 100%|██████████| 288/288 [01:07<00:00,  4.29it/s]\n"
     ]
    },
    {
     "name": "stdout",
     "output_type": "stream",
     "text": [
      "Loss1: 0.3742, Loss2: 0.1895, Loss3: 0.7483\n"
     ]
    },
    {
     "name": "stderr",
     "output_type": "stream",
     "text": [
      "Test_Loader: 100%|██████████| 288/288 [01:06<00:00,  4.32it/s]\n"
     ]
    },
    {
     "name": "stdout",
     "output_type": "stream",
     "text": [
      "Loss1: 0.3754, Loss2: 0.1828, Loss3: 0.7700\n"
     ]
    },
    {
     "name": "stderr",
     "output_type": "stream",
     "text": [
      "Test_Loader: 100%|██████████| 288/288 [01:07<00:00,  4.28it/s]\n"
     ]
    },
    {
     "name": "stdout",
     "output_type": "stream",
     "text": [
      "Loss1: 0.3717, Loss2: 0.1891, Loss3: 0.7506\n"
     ]
    },
    {
     "name": "stderr",
     "output_type": "stream",
     "text": [
      "Test_Loader: 100%|██████████| 288/288 [01:07<00:00,  4.24it/s]\n"
     ]
    },
    {
     "name": "stdout",
     "output_type": "stream",
     "text": [
      "Loss1: 0.3733, Loss2: 0.1891, Loss3: 0.7544\n"
     ]
    },
    {
     "name": "stderr",
     "output_type": "stream",
     "text": [
      "Test_Loader: 100%|██████████| 288/288 [01:08<00:00,  4.20it/s]\n"
     ]
    },
    {
     "name": "stdout",
     "output_type": "stream",
     "text": [
      "Loss1: 0.3671, Loss2: 0.1865, Loss3: 0.7384\n"
     ]
    },
    {
     "name": "stderr",
     "output_type": "stream",
     "text": [
      "Test_Loader: 100%|██████████| 288/288 [01:07<00:00,  4.28it/s]\n"
     ]
    },
    {
     "name": "stdout",
     "output_type": "stream",
     "text": [
      "Loss1: 0.3645, Loss2: 0.1891, Loss3: 0.7350\n"
     ]
    },
    {
     "name": "stderr",
     "output_type": "stream",
     "text": [
      "Test_Loader: 100%|██████████| 288/288 [01:08<00:00,  4.22it/s]\n"
     ]
    },
    {
     "name": "stdout",
     "output_type": "stream",
     "text": [
      "Loss1: 0.3562, Loss2: 0.1638, Loss3: 0.7065\n"
     ]
    },
    {
     "name": "stderr",
     "output_type": "stream",
     "text": [
      "Test_Loader: 100%|██████████| 288/288 [01:07<00:00,  4.24it/s]\n"
     ]
    },
    {
     "name": "stdout",
     "output_type": "stream",
     "text": [
      "Loss1: 0.3560, Loss2: 0.1651, Loss3: 0.6944\n"
     ]
    },
    {
     "name": "stderr",
     "output_type": "stream",
     "text": [
      "Test_Loader: 100%|██████████| 288/288 [01:08<00:00,  4.22it/s]\n"
     ]
    },
    {
     "name": "stdout",
     "output_type": "stream",
     "text": [
      "Loss1: 0.3764, Loss2: 0.1597, Loss3: 0.7145\n"
     ]
    },
    {
     "name": "stderr",
     "output_type": "stream",
     "text": [
      "Test_Loader: 100%|██████████| 288/288 [01:07<00:00,  4.26it/s]\n"
     ]
    },
    {
     "name": "stdout",
     "output_type": "stream",
     "text": [
      "Loss1: 0.3568, Loss2: 0.1617, Loss3: 0.7136\n"
     ]
    },
    {
     "name": "stderr",
     "output_type": "stream",
     "text": [
      "Test_Loader: 100%|██████████| 288/288 [01:08<00:00,  4.23it/s]\n"
     ]
    },
    {
     "name": "stdout",
     "output_type": "stream",
     "text": [
      "Loss1: 0.3638, Loss2: 0.1593, Loss3: 0.7168\n"
     ]
    },
    {
     "name": "stderr",
     "output_type": "stream",
     "text": [
      "Test_Loader: 100%|██████████| 288/288 [01:08<00:00,  4.19it/s]\n"
     ]
    },
    {
     "name": "stdout",
     "output_type": "stream",
     "text": [
      "Loss1: 0.3799, Loss2: 0.1563, Loss3: 0.7333\n"
     ]
    },
    {
     "name": "stderr",
     "output_type": "stream",
     "text": [
      "Test_Loader: 100%|██████████| 288/288 [01:08<00:00,  4.20it/s]\n"
     ]
    },
    {
     "name": "stdout",
     "output_type": "stream",
     "text": [
      "Loss1: 0.3699, Loss2: 0.1603, Loss3: 0.7218\n"
     ]
    },
    {
     "name": "stderr",
     "output_type": "stream",
     "text": [
      "Test_Loader: 100%|██████████| 288/288 [01:07<00:00,  4.25it/s]\n"
     ]
    },
    {
     "name": "stdout",
     "output_type": "stream",
     "text": [
      "Loss1: 0.3948, Loss2: 0.1594, Loss3: 0.7614\n"
     ]
    },
    {
     "name": "stderr",
     "output_type": "stream",
     "text": [
      "Test_Loader: 100%|██████████| 288/288 [01:07<00:00,  4.27it/s]\n"
     ]
    },
    {
     "name": "stdout",
     "output_type": "stream",
     "text": [
      "Loss1: 0.3733, Loss2: 0.1701, Loss3: 0.7454\n"
     ]
    },
    {
     "name": "stderr",
     "output_type": "stream",
     "text": [
      "Test_Loader: 100%|██████████| 288/288 [01:06<00:00,  4.35it/s]\n"
     ]
    },
    {
     "name": "stdout",
     "output_type": "stream",
     "text": [
      "Loss1: 0.3815, Loss2: 0.1634, Loss3: 0.7463\n"
     ]
    },
    {
     "name": "stderr",
     "output_type": "stream",
     "text": [
      "Test_Loader: 100%|██████████| 288/288 [01:08<00:00,  4.18it/s]\n"
     ]
    },
    {
     "name": "stdout",
     "output_type": "stream",
     "text": [
      "Loss1: 0.3565, Loss2: 0.1633, Loss3: 0.7314\n"
     ]
    },
    {
     "name": "stderr",
     "output_type": "stream",
     "text": [
      "Test_Loader: 100%|██████████| 288/288 [01:08<00:00,  4.20it/s]\n"
     ]
    },
    {
     "name": "stdout",
     "output_type": "stream",
     "text": [
      "Loss1: 0.3504, Loss2: 0.1626, Loss3: 0.7182\n"
     ]
    },
    {
     "name": "stderr",
     "output_type": "stream",
     "text": [
      "Test_Loader: 100%|██████████| 288/288 [01:07<00:00,  4.24it/s]\n"
     ]
    },
    {
     "name": "stdout",
     "output_type": "stream",
     "text": [
      "Loss1: 0.3463, Loss2: 0.1644, Loss3: 0.7231\n"
     ]
    },
    {
     "name": "stderr",
     "output_type": "stream",
     "text": [
      "Test_Loader: 100%|██████████| 288/288 [01:08<00:00,  4.20it/s]\n"
     ]
    },
    {
     "name": "stdout",
     "output_type": "stream",
     "text": [
      "Loss1: 0.3526, Loss2: 0.1568, Loss3: 0.7387\n"
     ]
    },
    {
     "name": "stderr",
     "output_type": "stream",
     "text": [
      "Test_Loader: 100%|██████████| 288/288 [01:09<00:00,  4.17it/s]\n"
     ]
    },
    {
     "name": "stdout",
     "output_type": "stream",
     "text": [
      "Loss1: 0.3479, Loss2: 0.1668, Loss3: 0.7317\n"
     ]
    },
    {
     "name": "stderr",
     "output_type": "stream",
     "text": [
      "Test_Loader: 100%|██████████| 288/288 [01:08<00:00,  4.19it/s]\n"
     ]
    },
    {
     "name": "stdout",
     "output_type": "stream",
     "text": [
      "Loss1: 0.3472, Loss2: 0.1646, Loss3: 0.7285\n"
     ]
    },
    {
     "name": "stderr",
     "output_type": "stream",
     "text": [
      "Test_Loader: 100%|██████████| 288/288 [01:07<00:00,  4.24it/s]\n"
     ]
    },
    {
     "name": "stdout",
     "output_type": "stream",
     "text": [
      "Loss1: 0.3388, Loss2: 0.1610, Loss3: 0.7203\n"
     ]
    },
    {
     "name": "stderr",
     "output_type": "stream",
     "text": [
      "Test_Loader: 100%|██████████| 288/288 [01:07<00:00,  4.26it/s]\n"
     ]
    },
    {
     "name": "stdout",
     "output_type": "stream",
     "text": [
      "Loss1: 0.3462, Loss2: 0.1584, Loss3: 0.7302\n"
     ]
    },
    {
     "name": "stderr",
     "output_type": "stream",
     "text": [
      "Test_Loader: 100%|██████████| 288/288 [01:08<00:00,  4.21it/s]\n"
     ]
    },
    {
     "name": "stdout",
     "output_type": "stream",
     "text": [
      "Loss1: 0.3310, Loss2: 0.1615, Loss3: 0.7167\n"
     ]
    },
    {
     "name": "stderr",
     "output_type": "stream",
     "text": [
      "Test_Loader: 100%|██████████| 288/288 [01:08<00:00,  4.21it/s]\n"
     ]
    },
    {
     "name": "stdout",
     "output_type": "stream",
     "text": [
      "Loss1: 0.3361, Loss2: 0.1565, Loss3: 0.7039\n"
     ]
    },
    {
     "name": "stderr",
     "output_type": "stream",
     "text": [
      "Test_Loader: 100%|██████████| 288/288 [01:07<00:00,  4.25it/s]\n"
     ]
    },
    {
     "name": "stdout",
     "output_type": "stream",
     "text": [
      "Loss1: 0.3297, Loss2: 0.1562, Loss3: 0.7164\n"
     ]
    },
    {
     "name": "stderr",
     "output_type": "stream",
     "text": [
      "Test_Loader: 100%|██████████| 288/288 [01:08<00:00,  4.19it/s]\n"
     ]
    },
    {
     "name": "stdout",
     "output_type": "stream",
     "text": [
      "Loss1: 0.3348, Loss2: 0.1539, Loss3: 0.7151\n"
     ]
    },
    {
     "name": "stderr",
     "output_type": "stream",
     "text": [
      "Test_Loader: 100%|██████████| 288/288 [01:14<00:00,  3.86it/s]\n"
     ]
    },
    {
     "name": "stdout",
     "output_type": "stream",
     "text": [
      "Loss1: 0.3291, Loss2: 0.1491, Loss3: 0.7050\n"
     ]
    },
    {
     "name": "stderr",
     "output_type": "stream",
     "text": [
      "Test_Loader: 100%|██████████| 288/288 [01:07<00:00,  4.25it/s]\n"
     ]
    },
    {
     "name": "stdout",
     "output_type": "stream",
     "text": [
      "Loss1: 0.3301, Loss2: 0.1453, Loss3: 0.6972\n"
     ]
    },
    {
     "name": "stderr",
     "output_type": "stream",
     "text": [
      "Test_Loader: 100%|██████████| 288/288 [01:07<00:00,  4.28it/s]\n"
     ]
    },
    {
     "name": "stdout",
     "output_type": "stream",
     "text": [
      "Loss1: 0.3269, Loss2: 0.1490, Loss3: 0.7065\n"
     ]
    },
    {
     "name": "stderr",
     "output_type": "stream",
     "text": [
      "Test_Loader: 100%|██████████| 288/288 [01:06<00:00,  4.33it/s]\n"
     ]
    },
    {
     "name": "stdout",
     "output_type": "stream",
     "text": [
      "Loss1: 0.3147, Loss2: 0.1505, Loss3: 0.6822\n"
     ]
    },
    {
     "name": "stderr",
     "output_type": "stream",
     "text": [
      "Test_Loader: 100%|██████████| 288/288 [01:07<00:00,  4.25it/s]\n"
     ]
    },
    {
     "name": "stdout",
     "output_type": "stream",
     "text": [
      "Loss1: 0.3171, Loss2: 0.1494, Loss3: 0.6812\n"
     ]
    },
    {
     "name": "stderr",
     "output_type": "stream",
     "text": [
      "Test_Loader: 100%|██████████| 288/288 [01:11<00:00,  4.05it/s]\n"
     ]
    },
    {
     "name": "stdout",
     "output_type": "stream",
     "text": [
      "Loss1: 0.3209, Loss2: 0.1487, Loss3: 0.6973\n"
     ]
    },
    {
     "name": "stderr",
     "output_type": "stream",
     "text": [
      "Test_Loader: 100%|██████████| 288/288 [01:07<00:00,  4.29it/s]\n"
     ]
    },
    {
     "name": "stdout",
     "output_type": "stream",
     "text": [
      "Loss1: 0.3068, Loss2: 0.1520, Loss3: 0.6994\n"
     ]
    },
    {
     "name": "stderr",
     "output_type": "stream",
     "text": [
      "Test_Loader: 100%|██████████| 288/288 [01:07<00:00,  4.26it/s]\n"
     ]
    },
    {
     "name": "stdout",
     "output_type": "stream",
     "text": [
      "Loss1: 0.3284, Loss2: 0.1736, Loss3: 0.7394\n"
     ]
    },
    {
     "name": "stderr",
     "output_type": "stream",
     "text": [
      "Test_Loader: 100%|██████████| 288/288 [01:09<00:00,  4.14it/s]\n"
     ]
    },
    {
     "name": "stdout",
     "output_type": "stream",
     "text": [
      "Loss1: 0.3272, Loss2: 0.1696, Loss3: 0.7380\n"
     ]
    },
    {
     "name": "stderr",
     "output_type": "stream",
     "text": [
      "Test_Loader: 100%|██████████| 288/288 [01:07<00:00,  4.27it/s]\n"
     ]
    },
    {
     "name": "stdout",
     "output_type": "stream",
     "text": [
      "Loss1: 0.3253, Loss2: 0.1768, Loss3: 0.7321\n"
     ]
    },
    {
     "name": "stderr",
     "output_type": "stream",
     "text": [
      "Test_Loader: 100%|██████████| 288/288 [01:08<00:00,  4.24it/s]\n"
     ]
    },
    {
     "name": "stdout",
     "output_type": "stream",
     "text": [
      "Loss1: 0.3274, Loss2: 0.1741, Loss3: 0.7315\n"
     ]
    },
    {
     "name": "stderr",
     "output_type": "stream",
     "text": [
      "Test_Loader: 100%|██████████| 288/288 [01:07<00:00,  4.26it/s]\n"
     ]
    },
    {
     "name": "stdout",
     "output_type": "stream",
     "text": [
      "Loss1: 0.4338, Loss2: 0.1775, Loss3: 0.7970\n"
     ]
    },
    {
     "name": "stderr",
     "output_type": "stream",
     "text": [
      "Test_Loader: 100%|██████████| 288/288 [01:08<00:00,  4.19it/s]\n"
     ]
    },
    {
     "name": "stdout",
     "output_type": "stream",
     "text": [
      "Loss1: 0.4354, Loss2: 0.1719, Loss3: 0.8057\n"
     ]
    },
    {
     "name": "stderr",
     "output_type": "stream",
     "text": [
      "Test_Loader: 100%|██████████| 288/288 [01:07<00:00,  4.28it/s]\n"
     ]
    },
    {
     "name": "stdout",
     "output_type": "stream",
     "text": [
      "Loss1: 0.4171, Loss2: 0.1733, Loss3: 0.7883\n"
     ]
    },
    {
     "name": "stderr",
     "output_type": "stream",
     "text": [
      "Test_Loader: 100%|██████████| 288/288 [01:08<00:00,  4.19it/s]\n"
     ]
    },
    {
     "name": "stdout",
     "output_type": "stream",
     "text": [
      "Loss1: 0.4211, Loss2: 0.1719, Loss3: 0.7902\n"
     ]
    },
    {
     "name": "stderr",
     "output_type": "stream",
     "text": [
      "Test_Loader: 100%|██████████| 288/288 [01:08<00:00,  4.22it/s]\n"
     ]
    },
    {
     "name": "stdout",
     "output_type": "stream",
     "text": [
      "Loss1: 0.4815, Loss2: 0.1921, Loss3: 0.8844\n"
     ]
    },
    {
     "name": "stderr",
     "output_type": "stream",
     "text": [
      "Test_Loader: 100%|██████████| 288/288 [01:07<00:00,  4.27it/s]\n"
     ]
    },
    {
     "name": "stdout",
     "output_type": "stream",
     "text": [
      "Loss1: 0.4806, Loss2: 0.1910, Loss3: 0.8862\n"
     ]
    },
    {
     "name": "stderr",
     "output_type": "stream",
     "text": [
      "Test_Loader: 100%|██████████| 288/288 [01:08<00:00,  4.19it/s]\n"
     ]
    },
    {
     "name": "stdout",
     "output_type": "stream",
     "text": [
      "Loss1: 0.4704, Loss2: 0.1964, Loss3: 0.8613\n"
     ]
    },
    {
     "name": "stderr",
     "output_type": "stream",
     "text": [
      "Test_Loader: 100%|██████████| 288/288 [01:08<00:00,  4.22it/s]\n"
     ]
    },
    {
     "name": "stdout",
     "output_type": "stream",
     "text": [
      "Loss1: 0.5029, Loss2: 0.1922, Loss3: 0.9042\n"
     ]
    },
    {
     "name": "stderr",
     "output_type": "stream",
     "text": [
      "Test_Loader: 100%|██████████| 288/288 [01:07<00:00,  4.27it/s]\n"
     ]
    },
    {
     "name": "stdout",
     "output_type": "stream",
     "text": [
      "Loss1: 0.5085, Loss2: 0.1946, Loss3: 0.9126\n"
     ]
    },
    {
     "name": "stderr",
     "output_type": "stream",
     "text": [
      "Test_Loader: 100%|██████████| 288/288 [01:08<00:00,  4.23it/s]\n"
     ]
    },
    {
     "name": "stdout",
     "output_type": "stream",
     "text": [
      "Loss1: 0.5286, Loss2: 0.2054, Loss3: 0.9268\n"
     ]
    },
    {
     "name": "stderr",
     "output_type": "stream",
     "text": [
      "Test_Loader: 100%|██████████| 288/288 [01:08<00:00,  4.23it/s]\n"
     ]
    },
    {
     "name": "stdout",
     "output_type": "stream",
     "text": [
      "Loss1: 0.5302, Loss2: 0.2016, Loss3: 0.9444\n"
     ]
    },
    {
     "name": "stderr",
     "output_type": "stream",
     "text": [
      "Test_Loader: 100%|██████████| 288/288 [01:07<00:00,  4.25it/s]\n"
     ]
    },
    {
     "name": "stdout",
     "output_type": "stream",
     "text": [
      "Loss1: 0.5140, Loss2: 0.2026, Loss3: 0.9009\n"
     ]
    },
    {
     "name": "stderr",
     "output_type": "stream",
     "text": [
      "Test_Loader: 100%|██████████| 288/288 [01:07<00:00,  4.24it/s]\n"
     ]
    },
    {
     "name": "stdout",
     "output_type": "stream",
     "text": [
      "Loss1: 0.5133, Loss2: 0.2048, Loss3: 0.9213\n"
     ]
    },
    {
     "name": "stderr",
     "output_type": "stream",
     "text": [
      "Test_Loader: 100%|██████████| 288/288 [01:07<00:00,  4.25it/s]\n"
     ]
    },
    {
     "name": "stdout",
     "output_type": "stream",
     "text": [
      "Loss1: 0.5100, Loss2: 0.1965, Loss3: 0.8523\n"
     ]
    },
    {
     "name": "stderr",
     "output_type": "stream",
     "text": [
      "Test_Loader: 100%|██████████| 288/288 [01:08<00:00,  4.19it/s]\n"
     ]
    },
    {
     "name": "stdout",
     "output_type": "stream",
     "text": [
      "Loss1: 0.4940, Loss2: 0.2005, Loss3: 0.8250\n"
     ]
    },
    {
     "name": "stderr",
     "output_type": "stream",
     "text": [
      "Test_Loader: 100%|██████████| 288/288 [01:07<00:00,  4.25it/s]\n"
     ]
    },
    {
     "name": "stdout",
     "output_type": "stream",
     "text": [
      "Loss1: 0.4968, Loss2: 0.1917, Loss3: 0.8453\n"
     ]
    },
    {
     "name": "stderr",
     "output_type": "stream",
     "text": [
      "Test_Loader: 100%|██████████| 288/288 [01:07<00:00,  4.28it/s]\n"
     ]
    },
    {
     "name": "stdout",
     "output_type": "stream",
     "text": [
      "Loss1: 0.4842, Loss2: 0.1997, Loss3: 0.8120\n"
     ]
    },
    {
     "name": "stderr",
     "output_type": "stream",
     "text": [
      "Test_Loader: 100%|██████████| 288/288 [01:08<00:00,  4.20it/s]\n"
     ]
    },
    {
     "name": "stdout",
     "output_type": "stream",
     "text": [
      "Loss1: 0.4889, Loss2: 0.1904, Loss3: 0.8374\n"
     ]
    },
    {
     "name": "stderr",
     "output_type": "stream",
     "text": [
      "Test_Loader: 100%|██████████| 288/288 [01:07<00:00,  4.24it/s]\n"
     ]
    },
    {
     "name": "stdout",
     "output_type": "stream",
     "text": [
      "Loss1: 0.4746, Loss2: 0.1964, Loss3: 0.7965\n"
     ]
    },
    {
     "name": "stderr",
     "output_type": "stream",
     "text": [
      "Test_Loader: 100%|██████████| 288/288 [01:08<00:00,  4.19it/s]\n"
     ]
    },
    {
     "name": "stdout",
     "output_type": "stream",
     "text": [
      "Loss1: 0.4869, Loss2: 0.1884, Loss3: 0.8358\n"
     ]
    },
    {
     "name": "stderr",
     "output_type": "stream",
     "text": [
      "Test_Loader: 100%|██████████| 288/288 [01:08<00:00,  4.23it/s]\n"
     ]
    },
    {
     "name": "stdout",
     "output_type": "stream",
     "text": [
      "Loss1: 0.4762, Loss2: 0.1846, Loss3: 0.8082\n"
     ]
    },
    {
     "name": "stderr",
     "output_type": "stream",
     "text": [
      "Test_Loader: 100%|██████████| 288/288 [01:07<00:00,  4.24it/s]\n"
     ]
    },
    {
     "name": "stdout",
     "output_type": "stream",
     "text": [
      "Loss1: 0.4735, Loss2: 0.1885, Loss3: 0.7866\n"
     ]
    },
    {
     "name": "stderr",
     "output_type": "stream",
     "text": [
      "Test_Loader: 100%|██████████| 288/288 [01:08<00:00,  4.19it/s]\n"
     ]
    },
    {
     "name": "stdout",
     "output_type": "stream",
     "text": [
      "Loss1: 0.4738, Loss2: 0.1844, Loss3: 0.7975\n"
     ]
    },
    {
     "name": "stderr",
     "output_type": "stream",
     "text": [
      "Test_Loader: 100%|██████████| 288/288 [01:08<00:00,  4.22it/s]\n"
     ]
    },
    {
     "name": "stdout",
     "output_type": "stream",
     "text": [
      "Loss1: 0.4658, Loss2: 0.1877, Loss3: 0.7664\n"
     ]
    },
    {
     "name": "stderr",
     "output_type": "stream",
     "text": [
      "Test_Loader: 100%|██████████| 288/288 [01:07<00:00,  4.24it/s]\n"
     ]
    },
    {
     "name": "stdout",
     "output_type": "stream",
     "text": [
      "Loss1: 0.4679, Loss2: 0.1812, Loss3: 0.7983\n"
     ]
    },
    {
     "name": "stderr",
     "output_type": "stream",
     "text": [
      "Test_Loader: 100%|██████████| 288/288 [01:07<00:00,  4.30it/s]\n"
     ]
    },
    {
     "name": "stdout",
     "output_type": "stream",
     "text": [
      "Loss1: 0.4598, Loss2: 0.1853, Loss3: 0.7756\n"
     ]
    },
    {
     "name": "stderr",
     "output_type": "stream",
     "text": [
      "Test_Loader: 100%|██████████| 288/288 [01:08<00:00,  4.20it/s]\n"
     ]
    },
    {
     "name": "stdout",
     "output_type": "stream",
     "text": [
      "Loss1: 0.4529, Loss2: 0.1863, Loss3: 0.7755\n"
     ]
    },
    {
     "name": "stderr",
     "output_type": "stream",
     "text": [
      "Test_Loader: 100%|██████████| 288/288 [01:08<00:00,  4.22it/s]\n"
     ]
    },
    {
     "name": "stdout",
     "output_type": "stream",
     "text": [
      "Loss1: 0.4521, Loss2: 0.1763, Loss3: 0.7614\n"
     ]
    },
    {
     "name": "stderr",
     "output_type": "stream",
     "text": [
      "Test_Loader: 100%|██████████| 288/288 [01:08<00:00,  4.21it/s]\n"
     ]
    },
    {
     "name": "stdout",
     "output_type": "stream",
     "text": [
      "Loss1: 0.4390, Loss2: 0.1792, Loss3: 0.7549\n"
     ]
    },
    {
     "name": "stderr",
     "output_type": "stream",
     "text": [
      "Test_Loader: 100%|██████████| 288/288 [01:07<00:00,  4.26it/s]\n"
     ]
    },
    {
     "name": "stdout",
     "output_type": "stream",
     "text": [
      "Loss1: 0.4460, Loss2: 0.1710, Loss3: 0.7597\n"
     ]
    },
    {
     "name": "stderr",
     "output_type": "stream",
     "text": [
      "Test_Loader: 100%|██████████| 288/288 [01:07<00:00,  4.25it/s]\n"
     ]
    },
    {
     "name": "stdout",
     "output_type": "stream",
     "text": [
      "Loss1: 0.4256, Loss2: 0.1703, Loss3: 0.7478\n"
     ]
    },
    {
     "name": "stderr",
     "output_type": "stream",
     "text": [
      "Test_Loader: 100%|██████████| 288/288 [01:08<00:00,  4.21it/s]\n"
     ]
    },
    {
     "name": "stdout",
     "output_type": "stream",
     "text": [
      "Loss1: 0.4246, Loss2: 0.1682, Loss3: 0.7370\n"
     ]
    },
    {
     "name": "stderr",
     "output_type": "stream",
     "text": [
      "Test_Loader: 100%|██████████| 288/288 [01:08<00:00,  4.22it/s]\n"
     ]
    },
    {
     "name": "stdout",
     "output_type": "stream",
     "text": [
      "Loss1: 0.4169, Loss2: 0.1734, Loss3: 0.7406\n"
     ]
    },
    {
     "name": "stderr",
     "output_type": "stream",
     "text": [
      "Test_Loader: 100%|██████████| 288/288 [01:08<00:00,  4.23it/s]\n"
     ]
    },
    {
     "name": "stdout",
     "output_type": "stream",
     "text": [
      "Loss1: 0.4168, Loss2: 0.1721, Loss3: 0.7429\n"
     ]
    },
    {
     "name": "stderr",
     "output_type": "stream",
     "text": [
      "Test_Loader: 100%|██████████| 288/288 [01:07<00:00,  4.25it/s]\n"
     ]
    },
    {
     "name": "stdout",
     "output_type": "stream",
     "text": [
      "Loss1: 0.4214, Loss2: 0.1698, Loss3: 0.7793\n"
     ]
    },
    {
     "name": "stderr",
     "output_type": "stream",
     "text": [
      "Test_Loader: 100%|██████████| 288/288 [01:08<00:00,  4.19it/s]\n"
     ]
    },
    {
     "name": "stdout",
     "output_type": "stream",
     "text": [
      "Loss1: 0.4206, Loss2: 0.1673, Loss3: 0.7810\n"
     ]
    },
    {
     "name": "stderr",
     "output_type": "stream",
     "text": [
      "Test_Loader: 100%|██████████| 288/288 [01:08<00:00,  4.19it/s]\n"
     ]
    },
    {
     "name": "stdout",
     "output_type": "stream",
     "text": [
      "Loss1: 0.4152, Loss2: 0.1696, Loss3: 0.7549\n"
     ]
    },
    {
     "name": "stderr",
     "output_type": "stream",
     "text": [
      "Test_Loader: 100%|██████████| 288/288 [01:08<00:00,  4.22it/s]\n"
     ]
    },
    {
     "name": "stdout",
     "output_type": "stream",
     "text": [
      "Loss1: 0.4166, Loss2: 0.1720, Loss3: 0.7682\n"
     ]
    },
    {
     "name": "stderr",
     "output_type": "stream",
     "text": [
      "Test_Loader: 100%|██████████| 288/288 [01:08<00:00,  4.19it/s]\n"
     ]
    },
    {
     "name": "stdout",
     "output_type": "stream",
     "text": [
      "Loss1: 0.4204, Loss2: 0.1748, Loss3: 0.7511\n"
     ]
    },
    {
     "name": "stderr",
     "output_type": "stream",
     "text": [
      "Test_Loader: 100%|██████████| 288/288 [01:07<00:00,  4.24it/s]\n"
     ]
    },
    {
     "name": "stdout",
     "output_type": "stream",
     "text": [
      "Loss1: 0.4124, Loss2: 0.1737, Loss3: 0.7464\n"
     ]
    },
    {
     "name": "stderr",
     "output_type": "stream",
     "text": [
      "Test_Loader: 100%|██████████| 288/288 [01:07<00:00,  4.26it/s]\n"
     ]
    },
    {
     "name": "stdout",
     "output_type": "stream",
     "text": [
      "Loss1: 0.4223, Loss2: 0.1698, Loss3: 0.7809\n"
     ]
    },
    {
     "name": "stderr",
     "output_type": "stream",
     "text": [
      "Test_Loader: 100%|██████████| 288/288 [01:08<00:00,  4.23it/s]\n"
     ]
    },
    {
     "name": "stdout",
     "output_type": "stream",
     "text": [
      "Loss1: 0.4182, Loss2: 0.1687, Loss3: 0.7814\n"
     ]
    },
    {
     "name": "stderr",
     "output_type": "stream",
     "text": [
      "Test_Loader: 100%|██████████| 288/288 [01:08<00:00,  4.21it/s]\n"
     ]
    },
    {
     "name": "stdout",
     "output_type": "stream",
     "text": [
      "Loss1: 0.4097, Loss2: 0.1665, Loss3: 0.7847\n"
     ]
    },
    {
     "name": "stderr",
     "output_type": "stream",
     "text": [
      "Test_Loader: 100%|██████████| 288/288 [01:08<00:00,  4.22it/s]\n"
     ]
    },
    {
     "name": "stdout",
     "output_type": "stream",
     "text": [
      "Loss1: 0.4045, Loss2: 0.1708, Loss3: 0.7470\n"
     ]
    },
    {
     "name": "stderr",
     "output_type": "stream",
     "text": [
      "Test_Loader: 100%|██████████| 288/288 [01:07<00:00,  4.26it/s]\n"
     ]
    },
    {
     "name": "stdout",
     "output_type": "stream",
     "text": [
      "Loss1: 0.4005, Loss2: 0.1649, Loss3: 0.7743\n"
     ]
    },
    {
     "name": "stderr",
     "output_type": "stream",
     "text": [
      "Test_Loader: 100%|██████████| 288/288 [01:09<00:00,  4.16it/s]\n"
     ]
    },
    {
     "name": "stdout",
     "output_type": "stream",
     "text": [
      "Loss1: 0.3975, Loss2: 0.1649, Loss3: 0.7729\n"
     ]
    },
    {
     "name": "stderr",
     "output_type": "stream",
     "text": [
      "Test_Loader: 100%|██████████| 288/288 [01:06<00:00,  4.30it/s]\n"
     ]
    },
    {
     "name": "stdout",
     "output_type": "stream",
     "text": [
      "Loss1: 0.3945, Loss2: 0.1615, Loss3: 0.7538\n"
     ]
    },
    {
     "name": "stderr",
     "output_type": "stream",
     "text": [
      "Test_Loader: 100%|██████████| 288/288 [01:08<00:00,  4.21it/s]\n"
     ]
    },
    {
     "name": "stdout",
     "output_type": "stream",
     "text": [
      "Loss1: 0.3898, Loss2: 0.1617, Loss3: 0.7584\n"
     ]
    },
    {
     "name": "stderr",
     "output_type": "stream",
     "text": [
      "Test_Loader: 100%|██████████| 288/288 [01:08<00:00,  4.20it/s]\n"
     ]
    },
    {
     "name": "stdout",
     "output_type": "stream",
     "text": [
      "Loss1: 0.3795, Loss2: 0.1648, Loss3: 0.7345\n"
     ]
    },
    {
     "name": "stderr",
     "output_type": "stream",
     "text": [
      "Test_Loader: 100%|██████████| 288/288 [01:08<00:00,  4.21it/s]\n"
     ]
    },
    {
     "name": "stdout",
     "output_type": "stream",
     "text": [
      "Loss1: 0.3839, Loss2: 0.1617, Loss3: 0.7472\n"
     ]
    },
    {
     "name": "stderr",
     "output_type": "stream",
     "text": [
      "Test_Loader: 100%|██████████| 288/288 [01:07<00:00,  4.28it/s]\n"
     ]
    },
    {
     "name": "stdout",
     "output_type": "stream",
     "text": [
      "Loss1: 0.3824, Loss2: 0.1644, Loss3: 0.7440\n"
     ]
    },
    {
     "name": "stderr",
     "output_type": "stream",
     "text": [
      "Test_Loader: 100%|██████████| 288/288 [01:08<00:00,  4.22it/s]\n"
     ]
    },
    {
     "name": "stdout",
     "output_type": "stream",
     "text": [
      "Loss1: 0.3712, Loss2: 0.1599, Loss3: 0.7153\n"
     ]
    },
    {
     "name": "stderr",
     "output_type": "stream",
     "text": [
      "Test_Loader: 100%|██████████| 288/288 [01:08<00:00,  4.23it/s]\n"
     ]
    },
    {
     "name": "stdout",
     "output_type": "stream",
     "text": [
      "Loss1: 0.3779, Loss2: 0.1585, Loss3: 0.7135\n"
     ]
    },
    {
     "name": "stderr",
     "output_type": "stream",
     "text": [
      "Test_Loader: 100%|██████████| 288/288 [01:08<00:00,  4.20it/s]\n"
     ]
    },
    {
     "name": "stdout",
     "output_type": "stream",
     "text": [
      "Loss1: 0.3651, Loss2: 0.1616, Loss3: 0.7089\n"
     ]
    },
    {
     "name": "stderr",
     "output_type": "stream",
     "text": [
      "Test_Loader: 100%|██████████| 288/288 [01:07<00:00,  4.24it/s]\n"
     ]
    },
    {
     "name": "stdout",
     "output_type": "stream",
     "text": [
      "Loss1: 0.3438, Loss2: 0.1533, Loss3: 0.6909\n"
     ]
    },
    {
     "name": "stderr",
     "output_type": "stream",
     "text": [
      "Test_Loader: 100%|██████████| 288/288 [01:07<00:00,  4.25it/s]\n"
     ]
    },
    {
     "name": "stdout",
     "output_type": "stream",
     "text": [
      "Loss1: 0.3361, Loss2: 0.1525, Loss3: 0.6740\n"
     ]
    },
    {
     "name": "stderr",
     "output_type": "stream",
     "text": [
      "Test_Loader: 100%|██████████| 288/288 [01:08<00:00,  4.21it/s]\n"
     ]
    },
    {
     "name": "stdout",
     "output_type": "stream",
     "text": [
      "Loss1: 0.3289, Loss2: 0.1436, Loss3: 0.6632\n"
     ]
    },
    {
     "name": "stderr",
     "output_type": "stream",
     "text": [
      "Test_Loader: 100%|██████████| 288/288 [01:08<00:00,  4.23it/s]\n"
     ]
    },
    {
     "name": "stdout",
     "output_type": "stream",
     "text": [
      "Loss1: 0.3257, Loss2: 0.1447, Loss3: 0.6591\n"
     ]
    },
    {
     "name": "stderr",
     "output_type": "stream",
     "text": [
      "Test_Loader: 100%|██████████| 288/288 [01:08<00:00,  4.23it/s]\n"
     ]
    },
    {
     "name": "stdout",
     "output_type": "stream",
     "text": [
      "Loss1: 0.3218, Loss2: 0.1407, Loss3: 0.6573\n"
     ]
    },
    {
     "name": "stderr",
     "output_type": "stream",
     "text": [
      "Test_Loader: 100%|██████████| 288/288 [01:08<00:00,  4.19it/s]\n"
     ]
    },
    {
     "name": "stdout",
     "output_type": "stream",
     "text": [
      "Loss1: 0.3209, Loss2: 0.1400, Loss3: 0.6564\n"
     ]
    },
    {
     "name": "stderr",
     "output_type": "stream",
     "text": [
      "Test_Loader: 100%|██████████| 288/288 [01:08<00:00,  4.21it/s]\n"
     ]
    },
    {
     "name": "stdout",
     "output_type": "stream",
     "text": [
      "Loss1: 0.3188, Loss2: 0.1465, Loss3: 0.6839\n"
     ]
    },
    {
     "name": "stderr",
     "output_type": "stream",
     "text": [
      "Test_Loader: 100%|██████████| 288/288 [01:07<00:00,  4.26it/s]\n"
     ]
    },
    {
     "name": "stdout",
     "output_type": "stream",
     "text": [
      "Loss1: 0.3248, Loss2: 0.1405, Loss3: 0.6615\n"
     ]
    },
    {
     "name": "stderr",
     "output_type": "stream",
     "text": [
      "Test_Loader: 100%|██████████| 288/288 [01:08<00:00,  4.19it/s]\n"
     ]
    },
    {
     "name": "stdout",
     "output_type": "stream",
     "text": [
      "Loss1: 0.3186, Loss2: 0.1438, Loss3: 0.6640\n"
     ]
    },
    {
     "name": "stderr",
     "output_type": "stream",
     "text": [
      "Test_Loader: 100%|██████████| 288/288 [01:07<00:00,  4.25it/s]\n"
     ]
    },
    {
     "name": "stdout",
     "output_type": "stream",
     "text": [
      "Loss1: 0.3160, Loss2: 0.1419, Loss3: 0.6575\n"
     ]
    },
    {
     "name": "stderr",
     "output_type": "stream",
     "text": [
      "Test_Loader: 100%|██████████| 288/288 [01:08<00:00,  4.23it/s]\n"
     ]
    },
    {
     "name": "stdout",
     "output_type": "stream",
     "text": [
      "Loss1: 0.3221, Loss2: 0.1393, Loss3: 0.6549\n"
     ]
    },
    {
     "name": "stderr",
     "output_type": "stream",
     "text": [
      "Test_Loader: 100%|██████████| 288/288 [01:06<00:00,  4.33it/s]\n"
     ]
    },
    {
     "name": "stdout",
     "output_type": "stream",
     "text": [
      "Loss1: 0.3106, Loss2: 0.1463, Loss3: 0.6680\n"
     ]
    },
    {
     "name": "stderr",
     "output_type": "stream",
     "text": [
      "Test_Loader: 100%|██████████| 288/288 [01:05<00:00,  4.43it/s]\n"
     ]
    },
    {
     "name": "stdout",
     "output_type": "stream",
     "text": [
      "Loss1: 0.3179, Loss2: 0.1426, Loss3: 0.6615\n"
     ]
    },
    {
     "name": "stderr",
     "output_type": "stream",
     "text": [
      "Test_Loader: 100%|██████████| 288/288 [01:07<00:00,  4.24it/s]\n"
     ]
    },
    {
     "name": "stdout",
     "output_type": "stream",
     "text": [
      "Loss1: 0.3036, Loss2: 0.1453, Loss3: 0.6675\n"
     ]
    },
    {
     "name": "stderr",
     "output_type": "stream",
     "text": [
      "Test_Loader: 100%|██████████| 288/288 [01:06<00:00,  4.35it/s]\n"
     ]
    },
    {
     "name": "stdout",
     "output_type": "stream",
     "text": [
      "Loss1: 0.3067, Loss2: 0.1389, Loss3: 0.6372\n"
     ]
    },
    {
     "name": "stderr",
     "output_type": "stream",
     "text": [
      "Test_Loader: 100%|██████████| 288/288 [01:07<00:00,  4.28it/s]\n"
     ]
    },
    {
     "name": "stdout",
     "output_type": "stream",
     "text": [
      "Loss1: 0.2947, Loss2: 0.1415, Loss3: 0.6522\n"
     ]
    },
    {
     "name": "stderr",
     "output_type": "stream",
     "text": [
      "Test_Loader: 100%|██████████| 288/288 [01:08<00:00,  4.22it/s]\n"
     ]
    },
    {
     "name": "stdout",
     "output_type": "stream",
     "text": [
      "Loss1: 0.2917, Loss2: 0.1337, Loss3: 0.6312\n"
     ]
    },
    {
     "name": "stderr",
     "output_type": "stream",
     "text": [
      "Test_Loader: 100%|██████████| 288/288 [01:06<00:00,  4.35it/s]\n"
     ]
    },
    {
     "name": "stdout",
     "output_type": "stream",
     "text": [
      "Loss1: 0.2896, Loss2: 0.1297, Loss3: 0.6360\n"
     ]
    },
    {
     "name": "stderr",
     "output_type": "stream",
     "text": [
      "Test_Loader: 100%|██████████| 288/288 [01:06<00:00,  4.32it/s]\n"
     ]
    },
    {
     "name": "stdout",
     "output_type": "stream",
     "text": [
      "Loss1: 0.2867, Loss2: 0.1333, Loss3: 0.6322\n"
     ]
    },
    {
     "name": "stderr",
     "output_type": "stream",
     "text": [
      "Test_Loader: 100%|██████████| 288/288 [01:07<00:00,  4.26it/s]\n"
     ]
    },
    {
     "name": "stdout",
     "output_type": "stream",
     "text": [
      "Loss1: 0.2858, Loss2: 0.1286, Loss3: 0.6147\n"
     ]
    },
    {
     "name": "stderr",
     "output_type": "stream",
     "text": [
      "Test_Loader: 100%|██████████| 288/288 [01:07<00:00,  4.27it/s]\n"
     ]
    },
    {
     "name": "stdout",
     "output_type": "stream",
     "text": [
      "Loss1: 0.2828, Loss2: 0.1332, Loss3: 0.6538\n"
     ]
    },
    {
     "name": "stderr",
     "output_type": "stream",
     "text": [
      "Test_Loader: 100%|██████████| 288/288 [01:06<00:00,  4.31it/s]\n"
     ]
    },
    {
     "name": "stdout",
     "output_type": "stream",
     "text": [
      "Loss1: 0.2871, Loss2: 0.1325, Loss3: 0.6442\n"
     ]
    },
    {
     "name": "stderr",
     "output_type": "stream",
     "text": [
      "Test_Loader: 100%|██████████| 288/288 [01:07<00:00,  4.27it/s]\n"
     ]
    },
    {
     "name": "stdout",
     "output_type": "stream",
     "text": [
      "Loss1: 0.2871, Loss2: 0.1347, Loss3: 0.6566\n"
     ]
    },
    {
     "name": "stderr",
     "output_type": "stream",
     "text": [
      "Test_Loader: 100%|██████████| 288/288 [01:06<00:00,  4.32it/s]\n"
     ]
    },
    {
     "name": "stdout",
     "output_type": "stream",
     "text": [
      "Loss1: 0.2829, Loss2: 0.1363, Loss3: 0.6612\n"
     ]
    },
    {
     "name": "stderr",
     "output_type": "stream",
     "text": [
      "Test_Loader: 100%|██████████| 288/288 [01:06<00:00,  4.31it/s]\n"
     ]
    },
    {
     "name": "stdout",
     "output_type": "stream",
     "text": [
      "Loss1: 0.2823, Loss2: 0.1360, Loss3: 0.6561\n"
     ]
    },
    {
     "name": "stderr",
     "output_type": "stream",
     "text": [
      "Test_Loader: 100%|██████████| 288/288 [01:06<00:00,  4.31it/s]\n"
     ]
    },
    {
     "name": "stdout",
     "output_type": "stream",
     "text": [
      "Loss1: 0.2867, Loss2: 0.1385, Loss3: 0.6654\n"
     ]
    },
    {
     "name": "stderr",
     "output_type": "stream",
     "text": [
      "Test_Loader: 100%|██████████| 288/288 [01:07<00:00,  4.25it/s]\n"
     ]
    },
    {
     "name": "stdout",
     "output_type": "stream",
     "text": [
      "Loss1: 0.2866, Loss2: 0.1347, Loss3: 0.6594\n"
     ]
    },
    {
     "name": "stderr",
     "output_type": "stream",
     "text": [
      "Test_Loader: 100%|██████████| 288/288 [01:07<00:00,  4.29it/s]\n"
     ]
    },
    {
     "name": "stdout",
     "output_type": "stream",
     "text": [
      "Loss1: 0.2844, Loss2: 0.1339, Loss3: 0.6632\n"
     ]
    },
    {
     "name": "stderr",
     "output_type": "stream",
     "text": [
      "Test_Loader: 100%|██████████| 288/288 [01:05<00:00,  4.38it/s]\n"
     ]
    },
    {
     "name": "stdout",
     "output_type": "stream",
     "text": [
      "Loss1: 0.2885, Loss2: 0.1360, Loss3: 0.6484\n"
     ]
    },
    {
     "name": "stderr",
     "output_type": "stream",
     "text": [
      "Test_Loader: 100%|██████████| 288/288 [01:07<00:00,  4.27it/s]\n"
     ]
    },
    {
     "name": "stdout",
     "output_type": "stream",
     "text": [
      "Loss1: 0.2891, Loss2: 0.1367, Loss3: 0.6454\n"
     ]
    },
    {
     "name": "stderr",
     "output_type": "stream",
     "text": [
      "Test_Loader: 100%|██████████| 288/288 [01:07<00:00,  4.26it/s]\n"
     ]
    },
    {
     "name": "stdout",
     "output_type": "stream",
     "text": [
      "Loss1: 0.2856, Loss2: 0.1365, Loss3: 0.6314\n"
     ]
    },
    {
     "name": "stderr",
     "output_type": "stream",
     "text": [
      "Test_Loader: 100%|██████████| 288/288 [01:07<00:00,  4.26it/s]\n"
     ]
    },
    {
     "name": "stdout",
     "output_type": "stream",
     "text": [
      "Loss1: 0.2840, Loss2: 0.1353, Loss3: 0.6521\n"
     ]
    },
    {
     "name": "stderr",
     "output_type": "stream",
     "text": [
      "Test_Loader: 100%|██████████| 288/288 [01:06<00:00,  4.33it/s]\n"
     ]
    },
    {
     "name": "stdout",
     "output_type": "stream",
     "text": [
      "Loss1: 0.2842, Loss2: 0.1351, Loss3: 0.6350\n"
     ]
    },
    {
     "name": "stderr",
     "output_type": "stream",
     "text": [
      "Test_Loader: 100%|██████████| 288/288 [01:06<00:00,  4.31it/s]\n"
     ]
    },
    {
     "name": "stdout",
     "output_type": "stream",
     "text": [
      "Loss1: 0.2834, Loss2: 0.1398, Loss3: 0.6198\n"
     ]
    },
    {
     "name": "stderr",
     "output_type": "stream",
     "text": [
      "Test_Loader: 100%|██████████| 288/288 [01:06<00:00,  4.30it/s]\n"
     ]
    },
    {
     "name": "stdout",
     "output_type": "stream",
     "text": [
      "Loss1: 0.2835, Loss2: 0.1373, Loss3: 0.6258\n"
     ]
    },
    {
     "name": "stderr",
     "output_type": "stream",
     "text": [
      "Test_Loader: 100%|██████████| 288/288 [01:06<00:00,  4.33it/s]\n"
     ]
    },
    {
     "name": "stdout",
     "output_type": "stream",
     "text": [
      "Loss1: 0.2949, Loss2: 0.1560, Loss3: 0.6325\n"
     ]
    },
    {
     "name": "stderr",
     "output_type": "stream",
     "text": [
      "Test_Loader: 100%|██████████| 288/288 [01:07<00:00,  4.27it/s]\n"
     ]
    },
    {
     "name": "stdout",
     "output_type": "stream",
     "text": [
      "Loss1: 0.2890, Loss2: 0.1541, Loss3: 0.6369\n"
     ]
    },
    {
     "name": "stderr",
     "output_type": "stream",
     "text": [
      "Test_Loader: 100%|██████████| 288/288 [01:07<00:00,  4.25it/s]\n"
     ]
    },
    {
     "name": "stdout",
     "output_type": "stream",
     "text": [
      "Loss1: 0.2947, Loss2: 0.1471, Loss3: 0.6191\n"
     ]
    },
    {
     "name": "stderr",
     "output_type": "stream",
     "text": [
      "Test_Loader: 100%|██████████| 288/288 [01:06<00:00,  4.30it/s]\n"
     ]
    },
    {
     "name": "stdout",
     "output_type": "stream",
     "text": [
      "Loss1: 0.2836, Loss2: 0.1342, Loss3: 0.5925\n"
     ]
    },
    {
     "name": "stderr",
     "output_type": "stream",
     "text": [
      "Test_Loader: 100%|██████████| 288/288 [01:05<00:00,  4.42it/s]\n"
     ]
    },
    {
     "name": "stdout",
     "output_type": "stream",
     "text": [
      "Loss1: 0.2860, Loss2: 0.1331, Loss3: 0.5868\n"
     ]
    },
    {
     "name": "stderr",
     "output_type": "stream",
     "text": [
      "Test_Loader: 100%|██████████| 288/288 [01:07<00:00,  4.26it/s]\n"
     ]
    },
    {
     "name": "stdout",
     "output_type": "stream",
     "text": [
      "Loss1: 0.2872, Loss2: 0.1355, Loss3: 0.5890\n"
     ]
    },
    {
     "name": "stderr",
     "output_type": "stream",
     "text": [
      "Test_Loader: 100%|██████████| 288/288 [01:07<00:00,  4.27it/s]\n"
     ]
    },
    {
     "name": "stdout",
     "output_type": "stream",
     "text": [
      "Loss1: 0.2945, Loss2: 0.1344, Loss3: 0.6009\n"
     ]
    },
    {
     "name": "stderr",
     "output_type": "stream",
     "text": [
      "Test_Loader: 100%|██████████| 288/288 [01:07<00:00,  4.24it/s]\n"
     ]
    },
    {
     "name": "stdout",
     "output_type": "stream",
     "text": [
      "Loss1: 0.2560, Loss2: 0.1341, Loss3: 0.5864\n"
     ]
    },
    {
     "name": "stderr",
     "output_type": "stream",
     "text": [
      "Test_Loader: 100%|██████████| 288/288 [01:06<00:00,  4.31it/s]\n"
     ]
    },
    {
     "name": "stdout",
     "output_type": "stream",
     "text": [
      "Loss1: 0.2572, Loss2: 0.1327, Loss3: 0.5616\n"
     ]
    },
    {
     "name": "stderr",
     "output_type": "stream",
     "text": [
      "Test_Loader: 100%|██████████| 288/288 [01:07<00:00,  4.29it/s]\n"
     ]
    },
    {
     "name": "stdout",
     "output_type": "stream",
     "text": [
      "Loss1: 0.2597, Loss2: 0.1327, Loss3: 0.5586\n"
     ]
    },
    {
     "name": "stderr",
     "output_type": "stream",
     "text": [
      "Test_Loader: 100%|██████████| 288/288 [01:07<00:00,  4.30it/s]\n"
     ]
    },
    {
     "name": "stdout",
     "output_type": "stream",
     "text": [
      "Loss1: 0.2536, Loss2: 0.1339, Loss3: 0.5692\n"
     ]
    },
    {
     "name": "stderr",
     "output_type": "stream",
     "text": [
      "Test_Loader: 100%|██████████| 288/288 [01:06<00:00,  4.34it/s]\n"
     ]
    },
    {
     "name": "stdout",
     "output_type": "stream",
     "text": [
      "Loss1: 0.2372, Loss2: 0.1190, Loss3: 0.5174\n"
     ]
    },
    {
     "name": "stderr",
     "output_type": "stream",
     "text": [
      "Test_Loader: 100%|██████████| 288/288 [01:07<00:00,  4.26it/s]\n"
     ]
    },
    {
     "name": "stdout",
     "output_type": "stream",
     "text": [
      "Loss1: 0.2265, Loss2: 0.1231, Loss3: 0.5041\n"
     ]
    },
    {
     "name": "stderr",
     "output_type": "stream",
     "text": [
      "Test_Loader: 100%|██████████| 288/288 [01:07<00:00,  4.25it/s]\n"
     ]
    },
    {
     "name": "stdout",
     "output_type": "stream",
     "text": [
      "Loss1: 0.2257, Loss2: 0.1210, Loss3: 0.4973\n"
     ]
    },
    {
     "name": "stderr",
     "output_type": "stream",
     "text": [
      "Test_Loader: 100%|██████████| 288/288 [01:06<00:00,  4.32it/s]\n"
     ]
    },
    {
     "name": "stdout",
     "output_type": "stream",
     "text": [
      "Loss1: 0.2229, Loss2: 0.1174, Loss3: 0.4928\n"
     ]
    },
    {
     "name": "stderr",
     "output_type": "stream",
     "text": [
      "Test_Loader: 100%|██████████| 288/288 [01:06<00:00,  4.33it/s]\n"
     ]
    },
    {
     "name": "stdout",
     "output_type": "stream",
     "text": [
      "Loss1: 0.2189, Loss2: 0.1225, Loss3: 0.4884\n"
     ]
    },
    {
     "name": "stderr",
     "output_type": "stream",
     "text": [
      "Test_Loader: 100%|██████████| 288/288 [01:07<00:00,  4.25it/s]\n"
     ]
    },
    {
     "name": "stdout",
     "output_type": "stream",
     "text": [
      "Loss1: 0.2115, Loss2: 0.1154, Loss3: 0.4711\n"
     ]
    },
    {
     "name": "stderr",
     "output_type": "stream",
     "text": [
      "Test_Loader: 100%|██████████| 288/288 [01:07<00:00,  4.28it/s]\n"
     ]
    },
    {
     "name": "stdout",
     "output_type": "stream",
     "text": [
      "Loss1: 0.2133, Loss2: 0.1149, Loss3: 0.4643\n"
     ]
    },
    {
     "name": "stderr",
     "output_type": "stream",
     "text": [
      "Test_Loader: 100%|██████████| 288/288 [01:06<00:00,  4.32it/s]\n"
     ]
    },
    {
     "name": "stdout",
     "output_type": "stream",
     "text": [
      "Loss1: 0.2090, Loss2: 0.1096, Loss3: 0.4589\n"
     ]
    },
    {
     "name": "stderr",
     "output_type": "stream",
     "text": [
      "Test_Loader: 100%|██████████| 288/288 [01:07<00:00,  4.26it/s]\n"
     ]
    },
    {
     "name": "stdout",
     "output_type": "stream",
     "text": [
      "Loss1: 0.2088, Loss2: 0.1133, Loss3: 0.4487\n"
     ]
    },
    {
     "name": "stderr",
     "output_type": "stream",
     "text": [
      "Test_Loader: 100%|██████████| 288/288 [00:28<00:00, 10.03it/s]\n"
     ]
    },
    {
     "name": "stdout",
     "output_type": "stream",
     "text": [
      "Loss1: 0.2118, Loss2: 0.1116, Loss3: 0.4311\n"
     ]
    },
    {
     "name": "stderr",
     "output_type": "stream",
     "text": [
      "Test_Loader: 100%|██████████| 288/288 [00:27<00:00, 10.55it/s]\n"
     ]
    },
    {
     "name": "stdout",
     "output_type": "stream",
     "text": [
      "Loss1: 0.2117, Loss2: 0.1128, Loss3: 0.4554\n"
     ]
    },
    {
     "name": "stderr",
     "output_type": "stream",
     "text": [
      "Test_Loader: 100%|██████████| 288/288 [00:28<00:00,  9.95it/s]\n"
     ]
    },
    {
     "name": "stdout",
     "output_type": "stream",
     "text": [
      "Loss1: 0.2103, Loss2: 0.1093, Loss3: 0.4445\n"
     ]
    },
    {
     "name": "stderr",
     "output_type": "stream",
     "text": [
      "Test_Loader: 100%|██████████| 288/288 [00:28<00:00, 10.02it/s]\n"
     ]
    },
    {
     "name": "stdout",
     "output_type": "stream",
     "text": [
      "Loss1: 0.2149, Loss2: 0.1105, Loss3: 0.4419\n"
     ]
    },
    {
     "name": "stderr",
     "output_type": "stream",
     "text": [
      "Test_Loader: 100%|██████████| 288/288 [00:27<00:00, 10.40it/s]\n"
     ]
    },
    {
     "name": "stdout",
     "output_type": "stream",
     "text": [
      "Loss1: 0.2146, Loss2: 0.1121, Loss3: 0.4374\n"
     ]
    },
    {
     "name": "stderr",
     "output_type": "stream",
     "text": [
      "Test_Loader: 100%|██████████| 288/288 [00:27<00:00, 10.43it/s]\n"
     ]
    },
    {
     "name": "stdout",
     "output_type": "stream",
     "text": [
      "Loss1: 0.2154, Loss2: 0.1181, Loss3: 0.4547\n"
     ]
    },
    {
     "name": "stderr",
     "output_type": "stream",
     "text": [
      "Test_Loader: 100%|██████████| 288/288 [00:28<00:00, 10.20it/s]\n"
     ]
    },
    {
     "name": "stdout",
     "output_type": "stream",
     "text": [
      "Loss1: 0.2049, Loss2: 0.1096, Loss3: 0.4524\n"
     ]
    },
    {
     "name": "stderr",
     "output_type": "stream",
     "text": [
      "Test_Loader: 100%|██████████| 288/288 [00:27<00:00, 10.44it/s]\n"
     ]
    },
    {
     "name": "stdout",
     "output_type": "stream",
     "text": [
      "Loss1: 0.2076, Loss2: 0.1155, Loss3: 0.4449\n"
     ]
    },
    {
     "name": "stderr",
     "output_type": "stream",
     "text": [
      "Test_Loader: 100%|██████████| 288/288 [00:25<00:00, 11.11it/s]\n"
     ]
    },
    {
     "name": "stdout",
     "output_type": "stream",
     "text": [
      "Loss1: 0.2111, Loss2: 0.1154, Loss3: 0.4483\n"
     ]
    },
    {
     "name": "stderr",
     "output_type": "stream",
     "text": [
      "Test_Loader: 100%|██████████| 288/288 [00:26<00:00, 11.07it/s]\n"
     ]
    },
    {
     "name": "stdout",
     "output_type": "stream",
     "text": [
      "Loss1: 0.2037, Loss2: 0.1103, Loss3: 0.4381\n"
     ]
    },
    {
     "name": "stderr",
     "output_type": "stream",
     "text": [
      "Test_Loader: 100%|██████████| 288/288 [00:25<00:00, 11.13it/s]\n"
     ]
    },
    {
     "name": "stdout",
     "output_type": "stream",
     "text": [
      "Loss1: 0.2042, Loss2: 0.1089, Loss3: 0.4298\n"
     ]
    },
    {
     "name": "stderr",
     "output_type": "stream",
     "text": [
      "Test_Loader: 100%|██████████| 288/288 [00:26<00:00, 11.02it/s]\n"
     ]
    },
    {
     "name": "stdout",
     "output_type": "stream",
     "text": [
      "Loss1: 0.2017, Loss2: 0.1090, Loss3: 0.4416\n"
     ]
    },
    {
     "name": "stderr",
     "output_type": "stream",
     "text": [
      "Test_Loader: 100%|██████████| 288/288 [00:27<00:00, 10.52it/s]\n"
     ]
    },
    {
     "name": "stdout",
     "output_type": "stream",
     "text": [
      "Loss1: 0.2048, Loss2: 0.1091, Loss3: 0.4284\n"
     ]
    },
    {
     "name": "stderr",
     "output_type": "stream",
     "text": [
      "Test_Loader: 100%|██████████| 288/288 [00:27<00:00, 10.60it/s]\n"
     ]
    },
    {
     "name": "stdout",
     "output_type": "stream",
     "text": [
      "Loss1: 0.1994, Loss2: 0.1069, Loss3: 0.4268\n"
     ]
    },
    {
     "name": "stderr",
     "output_type": "stream",
     "text": [
      "Test_Loader: 100%|██████████| 288/288 [00:27<00:00, 10.58it/s]\n"
     ]
    },
    {
     "name": "stdout",
     "output_type": "stream",
     "text": [
      "Loss1: 0.1986, Loss2: 0.1092, Loss3: 0.4145\n"
     ]
    },
    {
     "name": "stderr",
     "output_type": "stream",
     "text": [
      "Test_Loader: 100%|██████████| 288/288 [00:27<00:00, 10.49it/s]\n"
     ]
    },
    {
     "name": "stdout",
     "output_type": "stream",
     "text": [
      "Loss1: 0.2032, Loss2: 0.1117, Loss3: 0.4160\n"
     ]
    },
    {
     "name": "stderr",
     "output_type": "stream",
     "text": [
      "Test_Loader: 100%|██████████| 288/288 [00:28<00:00,  9.97it/s]\n"
     ]
    },
    {
     "name": "stdout",
     "output_type": "stream",
     "text": [
      "Loss1: 0.1997, Loss2: 0.1103, Loss3: 0.4141\n"
     ]
    },
    {
     "name": "stderr",
     "output_type": "stream",
     "text": [
      "Test_Loader: 100%|██████████| 288/288 [00:27<00:00, 10.39it/s]\n"
     ]
    },
    {
     "name": "stdout",
     "output_type": "stream",
     "text": [
      "Loss1: 0.2019, Loss2: 0.1117, Loss3: 0.4181\n"
     ]
    },
    {
     "name": "stderr",
     "output_type": "stream",
     "text": [
      "Test_Loader: 100%|██████████| 288/288 [00:26<00:00, 10.77it/s]\n"
     ]
    },
    {
     "name": "stdout",
     "output_type": "stream",
     "text": [
      "Loss1: 0.2049, Loss2: 0.1131, Loss3: 0.4072\n"
     ]
    },
    {
     "name": "stderr",
     "output_type": "stream",
     "text": [
      "Test_Loader: 100%|██████████| 288/288 [00:28<00:00,  9.96it/s]\n"
     ]
    },
    {
     "name": "stdout",
     "output_type": "stream",
     "text": [
      "Loss1: 0.2086, Loss2: 0.1134, Loss3: 0.4017\n"
     ]
    },
    {
     "name": "stderr",
     "output_type": "stream",
     "text": [
      "Test_Loader: 100%|██████████| 288/288 [00:28<00:00, 10.15it/s]\n"
     ]
    },
    {
     "name": "stdout",
     "output_type": "stream",
     "text": [
      "Loss1: 0.2002, Loss2: 0.1105, Loss3: 0.4107\n"
     ]
    },
    {
     "name": "stderr",
     "output_type": "stream",
     "text": [
      "Test_Loader: 100%|██████████| 288/288 [00:27<00:00, 10.44it/s]\n"
     ]
    },
    {
     "name": "stdout",
     "output_type": "stream",
     "text": [
      "Loss1: 0.1969, Loss2: 0.1111, Loss3: 0.3981\n"
     ]
    },
    {
     "name": "stderr",
     "output_type": "stream",
     "text": [
      "Test_Loader: 100%|██████████| 288/288 [00:27<00:00, 10.35it/s]\n"
     ]
    },
    {
     "name": "stdout",
     "output_type": "stream",
     "text": [
      "Loss1: 0.2004, Loss2: 0.1101, Loss3: 0.3977\n"
     ]
    },
    {
     "name": "stderr",
     "output_type": "stream",
     "text": [
      "Test_Loader: 100%|██████████| 288/288 [00:27<00:00, 10.58it/s]\n"
     ]
    },
    {
     "name": "stdout",
     "output_type": "stream",
     "text": [
      "Loss1: 0.1971, Loss2: 0.1076, Loss3: 0.3988\n"
     ]
    },
    {
     "name": "stderr",
     "output_type": "stream",
     "text": [
      "Test_Loader: 100%|██████████| 288/288 [00:27<00:00, 10.34it/s]\n"
     ]
    },
    {
     "name": "stdout",
     "output_type": "stream",
     "text": [
      "Loss1: 0.1931, Loss2: 0.1079, Loss3: 0.4008\n"
     ]
    },
    {
     "name": "stderr",
     "output_type": "stream",
     "text": [
      "Test_Loader: 100%|██████████| 288/288 [00:26<00:00, 10.93it/s]\n"
     ]
    },
    {
     "name": "stdout",
     "output_type": "stream",
     "text": [
      "Loss1: 0.1982, Loss2: 0.1091, Loss3: 0.3949\n"
     ]
    },
    {
     "name": "stderr",
     "output_type": "stream",
     "text": [
      "Test_Loader: 100%|██████████| 288/288 [00:27<00:00, 10.52it/s]\n"
     ]
    },
    {
     "name": "stdout",
     "output_type": "stream",
     "text": [
      "Loss1: 0.2038, Loss2: 0.1136, Loss3: 0.4487\n"
     ]
    },
    {
     "name": "stderr",
     "output_type": "stream",
     "text": [
      "Test_Loader: 100%|██████████| 288/288 [00:26<00:00, 10.85it/s]\n"
     ]
    },
    {
     "name": "stdout",
     "output_type": "stream",
     "text": [
      "Loss1: 0.2255, Loss2: 0.1189, Loss3: 0.4466\n"
     ]
    },
    {
     "name": "stderr",
     "output_type": "stream",
     "text": [
      "Test_Loader: 100%|██████████| 288/288 [00:27<00:00, 10.42it/s]\n"
     ]
    },
    {
     "name": "stdout",
     "output_type": "stream",
     "text": [
      "Loss1: 0.2239, Loss2: 0.1206, Loss3: 0.4492\n"
     ]
    },
    {
     "name": "stderr",
     "output_type": "stream",
     "text": [
      "Test_Loader: 100%|██████████| 288/288 [00:27<00:00, 10.32it/s]\n"
     ]
    },
    {
     "name": "stdout",
     "output_type": "stream",
     "text": [
      "Loss1: 0.2339, Loss2: 0.1190, Loss3: 0.4489\n"
     ]
    },
    {
     "name": "stderr",
     "output_type": "stream",
     "text": [
      "Test_Loader: 100%|██████████| 288/288 [00:26<00:00, 10.99it/s]\n"
     ]
    },
    {
     "name": "stdout",
     "output_type": "stream",
     "text": [
      "Loss1: 0.2277, Loss2: 0.1204, Loss3: 0.4873\n"
     ]
    },
    {
     "name": "stderr",
     "output_type": "stream",
     "text": [
      "Test_Loader: 100%|██████████| 288/288 [00:28<00:00, 10.27it/s]\n"
     ]
    },
    {
     "name": "stdout",
     "output_type": "stream",
     "text": [
      "Loss1: 0.2278, Loss2: 0.1232, Loss3: 0.5033\n"
     ]
    },
    {
     "name": "stderr",
     "output_type": "stream",
     "text": [
      "Test_Loader: 100%|██████████| 288/288 [00:28<00:00, 10.28it/s]\n"
     ]
    },
    {
     "name": "stdout",
     "output_type": "stream",
     "text": [
      "Loss1: 0.2311, Loss2: 0.1204, Loss3: 0.4852\n"
     ]
    },
    {
     "name": "stderr",
     "output_type": "stream",
     "text": [
      "Test_Loader: 100%|██████████| 288/288 [00:27<00:00, 10.58it/s]\n"
     ]
    },
    {
     "name": "stdout",
     "output_type": "stream",
     "text": [
      "Loss1: 0.2350, Loss2: 0.1252, Loss3: 0.4830\n"
     ]
    },
    {
     "name": "stderr",
     "output_type": "stream",
     "text": [
      "Test_Loader: 100%|██████████| 288/288 [00:26<00:00, 10.82it/s]\n"
     ]
    },
    {
     "name": "stdout",
     "output_type": "stream",
     "text": [
      "Loss1: 0.2288, Loss2: 0.1220, Loss3: 0.4816\n"
     ]
    },
    {
     "name": "stderr",
     "output_type": "stream",
     "text": [
      "Test_Loader: 100%|██████████| 288/288 [00:26<00:00, 10.92it/s]\n"
     ]
    },
    {
     "name": "stdout",
     "output_type": "stream",
     "text": [
      "Loss1: 0.2307, Loss2: 0.1208, Loss3: 0.4821\n"
     ]
    },
    {
     "name": "stderr",
     "output_type": "stream",
     "text": [
      "Test_Loader: 100%|██████████| 288/288 [00:26<00:00, 10.97it/s]\n"
     ]
    },
    {
     "name": "stdout",
     "output_type": "stream",
     "text": [
      "Loss1: 0.2287, Loss2: 0.1207, Loss3: 0.4677\n"
     ]
    },
    {
     "name": "stderr",
     "output_type": "stream",
     "text": [
      "Test_Loader: 100%|██████████| 288/288 [00:26<00:00, 10.87it/s]\n"
     ]
    },
    {
     "name": "stdout",
     "output_type": "stream",
     "text": [
      "Loss1: 0.2217, Loss2: 0.1159, Loss3: 0.4666\n"
     ]
    },
    {
     "name": "stderr",
     "output_type": "stream",
     "text": [
      "Test_Loader: 100%|██████████| 288/288 [00:26<00:00, 10.89it/s]\n"
     ]
    },
    {
     "name": "stdout",
     "output_type": "stream",
     "text": [
      "Loss1: 0.2283, Loss2: 0.1186, Loss3: 0.4830\n"
     ]
    },
    {
     "name": "stderr",
     "output_type": "stream",
     "text": [
      "Test_Loader: 100%|██████████| 288/288 [00:26<00:00, 10.93it/s]\n"
     ]
    },
    {
     "name": "stdout",
     "output_type": "stream",
     "text": [
      "Loss1: 0.2292, Loss2: 0.1206, Loss3: 0.4839\n"
     ]
    },
    {
     "name": "stderr",
     "output_type": "stream",
     "text": [
      "Test_Loader: 100%|██████████| 288/288 [00:26<00:00, 11.01it/s]\n"
     ]
    },
    {
     "name": "stdout",
     "output_type": "stream",
     "text": [
      "Loss1: 0.2249, Loss2: 0.1215, Loss3: 0.4897\n"
     ]
    },
    {
     "name": "stderr",
     "output_type": "stream",
     "text": [
      "Test_Loader: 100%|██████████| 288/288 [00:26<00:00, 10.88it/s]\n"
     ]
    },
    {
     "name": "stdout",
     "output_type": "stream",
     "text": [
      "Loss1: 0.2263, Loss2: 0.1170, Loss3: 0.4777\n"
     ]
    },
    {
     "name": "stderr",
     "output_type": "stream",
     "text": [
      "Test_Loader: 100%|██████████| 288/288 [00:28<00:00, 10.02it/s]\n"
     ]
    },
    {
     "name": "stdout",
     "output_type": "stream",
     "text": [
      "Loss1: 0.2340, Loss2: 0.1181, Loss3: 0.4996\n"
     ]
    },
    {
     "name": "stderr",
     "output_type": "stream",
     "text": [
      "Test_Loader: 100%|██████████| 288/288 [00:28<00:00, 10.22it/s]\n"
     ]
    },
    {
     "name": "stdout",
     "output_type": "stream",
     "text": [
      "Loss1: 0.2377, Loss2: 0.1211, Loss3: 0.4910\n"
     ]
    },
    {
     "name": "stderr",
     "output_type": "stream",
     "text": [
      "Test_Loader: 100%|██████████| 288/288 [00:27<00:00, 10.60it/s]\n"
     ]
    },
    {
     "name": "stdout",
     "output_type": "stream",
     "text": [
      "Loss1: 0.2324, Loss2: 0.1171, Loss3: 0.4859\n"
     ]
    },
    {
     "name": "stderr",
     "output_type": "stream",
     "text": [
      "Test_Loader: 100%|██████████| 288/288 [00:26<00:00, 10.78it/s]\n"
     ]
    },
    {
     "name": "stdout",
     "output_type": "stream",
     "text": [
      "Loss1: 0.2375, Loss2: 0.1189, Loss3: 0.4761\n"
     ]
    },
    {
     "name": "stderr",
     "output_type": "stream",
     "text": [
      "Test_Loader: 100%|██████████| 288/288 [00:26<00:00, 10.95it/s]\n"
     ]
    },
    {
     "name": "stdout",
     "output_type": "stream",
     "text": [
      "Loss1: 0.2286, Loss2: 0.1182, Loss3: 0.4914\n"
     ]
    },
    {
     "name": "stderr",
     "output_type": "stream",
     "text": [
      "Test_Loader: 100%|██████████| 288/288 [00:26<00:00, 10.82it/s]\n"
     ]
    },
    {
     "name": "stdout",
     "output_type": "stream",
     "text": [
      "Loss1: 0.2304, Loss2: 0.1186, Loss3: 0.4883\n"
     ]
    },
    {
     "name": "stderr",
     "output_type": "stream",
     "text": [
      "Test_Loader: 100%|██████████| 288/288 [00:26<00:00, 10.86it/s]\n"
     ]
    },
    {
     "name": "stdout",
     "output_type": "stream",
     "text": [
      "Loss1: 0.2298, Loss2: 0.1206, Loss3: 0.4744\n"
     ]
    },
    {
     "name": "stderr",
     "output_type": "stream",
     "text": [
      "Test_Loader: 100%|██████████| 288/288 [00:26<00:00, 10.80it/s]\n"
     ]
    },
    {
     "name": "stdout",
     "output_type": "stream",
     "text": [
      "Loss1: 0.2294, Loss2: 0.1156, Loss3: 0.4672\n"
     ]
    },
    {
     "name": "stderr",
     "output_type": "stream",
     "text": [
      "Test_Loader: 100%|██████████| 288/288 [00:26<00:00, 10.90it/s]\n"
     ]
    },
    {
     "name": "stdout",
     "output_type": "stream",
     "text": [
      "Loss1: 0.2310, Loss2: 0.1241, Loss3: 0.4964\n"
     ]
    },
    {
     "name": "stderr",
     "output_type": "stream",
     "text": [
      "Test_Loader: 100%|██████████| 288/288 [00:27<00:00, 10.59it/s]\n"
     ]
    },
    {
     "name": "stdout",
     "output_type": "stream",
     "text": [
      "Loss1: 0.2315, Loss2: 0.1265, Loss3: 0.5326\n"
     ]
    },
    {
     "name": "stderr",
     "output_type": "stream",
     "text": [
      "Test_Loader: 100%|██████████| 288/288 [00:26<00:00, 10.73it/s]\n"
     ]
    },
    {
     "name": "stdout",
     "output_type": "stream",
     "text": [
      "Loss1: 0.2322, Loss2: 0.1255, Loss3: 0.5193\n"
     ]
    },
    {
     "name": "stderr",
     "output_type": "stream",
     "text": [
      "Test_Loader: 100%|██████████| 288/288 [00:27<00:00, 10.65it/s]\n"
     ]
    },
    {
     "name": "stdout",
     "output_type": "stream",
     "text": [
      "Loss1: 0.2391, Loss2: 0.1239, Loss3: 0.5110\n"
     ]
    },
    {
     "name": "stderr",
     "output_type": "stream",
     "text": [
      "Test_Loader: 100%|██████████| 288/288 [00:27<00:00, 10.34it/s]\n"
     ]
    },
    {
     "name": "stdout",
     "output_type": "stream",
     "text": [
      "Loss1: 0.2289, Loss2: 0.1226, Loss3: 0.5020\n"
     ]
    },
    {
     "name": "stderr",
     "output_type": "stream",
     "text": [
      "Test_Loader: 100%|██████████| 288/288 [00:29<00:00,  9.61it/s]\n"
     ]
    },
    {
     "name": "stdout",
     "output_type": "stream",
     "text": [
      "Loss1: 0.2302, Loss2: 0.1241, Loss3: 0.4967\n"
     ]
    },
    {
     "name": "stderr",
     "output_type": "stream",
     "text": [
      "Test_Loader: 100%|██████████| 288/288 [00:29<00:00,  9.84it/s]\n"
     ]
    },
    {
     "name": "stdout",
     "output_type": "stream",
     "text": [
      "Loss1: 0.2317, Loss2: 0.1195, Loss3: 0.5007\n"
     ]
    },
    {
     "name": "stderr",
     "output_type": "stream",
     "text": [
      "Test_Loader: 100%|██████████| 288/288 [00:28<00:00, 10.19it/s]\n"
     ]
    },
    {
     "name": "stdout",
     "output_type": "stream",
     "text": [
      "Loss1: 0.2353, Loss2: 0.1213, Loss3: 0.4882\n"
     ]
    },
    {
     "name": "stderr",
     "output_type": "stream",
     "text": [
      "Test_Loader: 100%|██████████| 288/288 [00:28<00:00, 10.06it/s]\n"
     ]
    },
    {
     "name": "stdout",
     "output_type": "stream",
     "text": [
      "Loss1: 0.2365, Loss2: 0.1226, Loss3: 0.4890\n"
     ]
    },
    {
     "name": "stderr",
     "output_type": "stream",
     "text": [
      "Test_Loader: 100%|██████████| 288/288 [00:28<00:00, 10.27it/s]\n"
     ]
    },
    {
     "name": "stdout",
     "output_type": "stream",
     "text": [
      "Loss1: 0.2334, Loss2: 0.1223, Loss3: 0.4927\n"
     ]
    },
    {
     "name": "stderr",
     "output_type": "stream",
     "text": [
      "Test_Loader: 100%|██████████| 288/288 [00:27<00:00, 10.64it/s]\n"
     ]
    },
    {
     "name": "stdout",
     "output_type": "stream",
     "text": [
      "Loss1: 0.2365, Loss2: 0.1242, Loss3: 0.4914\n"
     ]
    },
    {
     "name": "stderr",
     "output_type": "stream",
     "text": [
      "Test_Loader: 100%|██████████| 288/288 [00:27<00:00, 10.50it/s]\n"
     ]
    },
    {
     "name": "stdout",
     "output_type": "stream",
     "text": [
      "Loss1: 0.2278, Loss2: 0.1210, Loss3: 0.4952\n"
     ]
    },
    {
     "name": "stderr",
     "output_type": "stream",
     "text": [
      "Test_Loader: 100%|██████████| 288/288 [00:26<00:00, 10.73it/s]\n"
     ]
    },
    {
     "name": "stdout",
     "output_type": "stream",
     "text": [
      "Loss1: 0.2299, Loss2: 0.1209, Loss3: 0.4850\n"
     ]
    },
    {
     "name": "stderr",
     "output_type": "stream",
     "text": [
      "Test_Loader: 100%|██████████| 288/288 [00:26<00:00, 10.68it/s]\n"
     ]
    },
    {
     "name": "stdout",
     "output_type": "stream",
     "text": [
      "Loss1: 0.2303, Loss2: 0.1203, Loss3: 0.4833\n"
     ]
    },
    {
     "name": "stderr",
     "output_type": "stream",
     "text": [
      "Test_Loader: 100%|██████████| 288/288 [00:26<00:00, 10.76it/s]\n"
     ]
    },
    {
     "name": "stdout",
     "output_type": "stream",
     "text": [
      "Loss1: 0.2249, Loss2: 0.1186, Loss3: 0.4743\n"
     ]
    },
    {
     "name": "stderr",
     "output_type": "stream",
     "text": [
      "Test_Loader: 100%|██████████| 288/288 [00:27<00:00, 10.65it/s]\n"
     ]
    },
    {
     "name": "stdout",
     "output_type": "stream",
     "text": [
      "Loss1: 0.2312, Loss2: 0.1264, Loss3: 0.5095\n"
     ]
    },
    {
     "name": "stderr",
     "output_type": "stream",
     "text": [
      "Test_Loader: 100%|██████████| 288/288 [00:26<00:00, 10.90it/s]\n"
     ]
    },
    {
     "name": "stdout",
     "output_type": "stream",
     "text": [
      "Loss1: 0.2224, Loss2: 0.1218, Loss3: 0.5002\n"
     ]
    },
    {
     "name": "stderr",
     "output_type": "stream",
     "text": [
      "Test_Loader: 100%|██████████| 288/288 [00:27<00:00, 10.40it/s]\n"
     ]
    },
    {
     "name": "stdout",
     "output_type": "stream",
     "text": [
      "Loss1: 0.2247, Loss2: 0.1218, Loss3: 0.5075\n"
     ]
    },
    {
     "name": "stderr",
     "output_type": "stream",
     "text": [
      "Test_Loader: 100%|██████████| 288/288 [00:29<00:00,  9.79it/s]\n"
     ]
    },
    {
     "name": "stdout",
     "output_type": "stream",
     "text": [
      "Loss1: 0.2267, Loss2: 0.1212, Loss3: 0.4994\n"
     ]
    },
    {
     "name": "stderr",
     "output_type": "stream",
     "text": [
      "Test_Loader: 100%|██████████| 288/288 [00:29<00:00,  9.76it/s]\n"
     ]
    },
    {
     "name": "stdout",
     "output_type": "stream",
     "text": [
      "Loss1: 0.2326, Loss2: 0.1226, Loss3: 0.5003\n"
     ]
    },
    {
     "name": "stderr",
     "output_type": "stream",
     "text": [
      "Test_Loader: 100%|██████████| 288/288 [00:27<00:00, 10.32it/s]\n"
     ]
    },
    {
     "name": "stdout",
     "output_type": "stream",
     "text": [
      "Loss1: 0.2312, Loss2: 0.1237, Loss3: 0.4968\n"
     ]
    },
    {
     "name": "stderr",
     "output_type": "stream",
     "text": [
      "Test_Loader: 100%|██████████| 288/288 [00:26<00:00, 10.74it/s]\n"
     ]
    },
    {
     "name": "stdout",
     "output_type": "stream",
     "text": [
      "Loss1: 0.2239, Loss2: 0.1208, Loss3: 0.5079\n"
     ]
    },
    {
     "name": "stderr",
     "output_type": "stream",
     "text": [
      "Test_Loader: 100%|██████████| 288/288 [00:26<00:00, 10.90it/s]\n"
     ]
    },
    {
     "name": "stdout",
     "output_type": "stream",
     "text": [
      "Loss1: 0.2383, Loss2: 0.1242, Loss3: 0.5116\n"
     ]
    },
    {
     "name": "stderr",
     "output_type": "stream",
     "text": [
      "Test_Loader: 100%|██████████| 288/288 [00:26<00:00, 10.78it/s]\n"
     ]
    },
    {
     "name": "stdout",
     "output_type": "stream",
     "text": [
      "Loss1: 0.2400, Loss2: 0.1238, Loss3: 0.5055\n"
     ]
    },
    {
     "name": "stderr",
     "output_type": "stream",
     "text": [
      "Test_Loader: 100%|██████████| 288/288 [00:28<00:00, 10.06it/s]\n"
     ]
    },
    {
     "name": "stdout",
     "output_type": "stream",
     "text": [
      "Loss1: 0.2331, Loss2: 0.1287, Loss3: 0.5165\n"
     ]
    },
    {
     "name": "stderr",
     "output_type": "stream",
     "text": [
      "Test_Loader: 100%|██████████| 288/288 [00:28<00:00, 10.07it/s]\n"
     ]
    },
    {
     "name": "stdout",
     "output_type": "stream",
     "text": [
      "Loss1: 0.2381, Loss2: 0.1305, Loss3: 0.5169\n"
     ]
    },
    {
     "name": "stderr",
     "output_type": "stream",
     "text": [
      "Test_Loader: 100%|██████████| 288/288 [00:28<00:00, 10.27it/s]\n"
     ]
    },
    {
     "name": "stdout",
     "output_type": "stream",
     "text": [
      "Loss1: 0.2255, Loss2: 0.1257, Loss3: 0.5134\n"
     ]
    },
    {
     "name": "stderr",
     "output_type": "stream",
     "text": [
      "Test_Loader: 100%|██████████| 288/288 [00:28<00:00, 10.16it/s]\n"
     ]
    },
    {
     "name": "stdout",
     "output_type": "stream",
     "text": [
      "Loss1: 0.2293, Loss2: 0.1246, Loss3: 0.5086\n"
     ]
    },
    {
     "name": "stderr",
     "output_type": "stream",
     "text": [
      "Test_Loader: 100%|██████████| 288/288 [00:28<00:00, 10.19it/s]\n"
     ]
    },
    {
     "name": "stdout",
     "output_type": "stream",
     "text": [
      "Loss1: 0.2215, Loss2: 0.1253, Loss3: 0.5093\n"
     ]
    },
    {
     "name": "stderr",
     "output_type": "stream",
     "text": [
      "Test_Loader: 100%|██████████| 288/288 [00:29<00:00,  9.89it/s]\n"
     ]
    },
    {
     "name": "stdout",
     "output_type": "stream",
     "text": [
      "Loss1: 0.2215, Loss2: 0.1271, Loss3: 0.5145\n"
     ]
    },
    {
     "name": "stderr",
     "output_type": "stream",
     "text": [
      "Test_Loader: 100%|██████████| 288/288 [00:27<00:00, 10.53it/s]\n"
     ]
    },
    {
     "name": "stdout",
     "output_type": "stream",
     "text": [
      "Loss1: 0.2215, Loss2: 0.1277, Loss3: 0.5053\n"
     ]
    },
    {
     "name": "stderr",
     "output_type": "stream",
     "text": [
      "Test_Loader: 100%|██████████| 288/288 [00:29<00:00,  9.80it/s]\n"
     ]
    },
    {
     "name": "stdout",
     "output_type": "stream",
     "text": [
      "Loss1: 0.2137, Loss2: 0.1253, Loss3: 0.5041\n"
     ]
    },
    {
     "name": "stderr",
     "output_type": "stream",
     "text": [
      "Test_Loader: 100%|██████████| 288/288 [00:27<00:00, 10.54it/s]\n"
     ]
    },
    {
     "name": "stdout",
     "output_type": "stream",
     "text": [
      "Loss1: 0.2135, Loss2: 0.1238, Loss3: 0.4794\n"
     ]
    },
    {
     "name": "stderr",
     "output_type": "stream",
     "text": [
      "Test_Loader: 100%|██████████| 288/288 [00:25<00:00, 11.08it/s]\n"
     ]
    },
    {
     "name": "stdout",
     "output_type": "stream",
     "text": [
      "Loss1: 0.2077, Loss2: 0.1183, Loss3: 0.4811\n"
     ]
    },
    {
     "name": "stderr",
     "output_type": "stream",
     "text": [
      "Test_Loader: 100%|██████████| 288/288 [00:25<00:00, 11.29it/s]\n"
     ]
    },
    {
     "name": "stdout",
     "output_type": "stream",
     "text": [
      "Loss1: 0.2112, Loss2: 0.1187, Loss3: 0.4733\n"
     ]
    },
    {
     "name": "stderr",
     "output_type": "stream",
     "text": [
      "Test_Loader: 100%|██████████| 288/288 [00:25<00:00, 11.22it/s]\n"
     ]
    },
    {
     "name": "stdout",
     "output_type": "stream",
     "text": [
      "Loss1: 0.2072, Loss2: 0.1194, Loss3: 0.4682\n"
     ]
    },
    {
     "name": "stderr",
     "output_type": "stream",
     "text": [
      "Test_Loader: 100%|██████████| 288/288 [00:25<00:00, 11.13it/s]\n"
     ]
    },
    {
     "name": "stdout",
     "output_type": "stream",
     "text": [
      "Loss1: 0.2042, Loss2: 0.1172, Loss3: 0.4628\n"
     ]
    },
    {
     "name": "stderr",
     "output_type": "stream",
     "text": [
      "Test_Loader: 100%|██████████| 288/288 [00:26<00:00, 10.98it/s]\n"
     ]
    },
    {
     "name": "stdout",
     "output_type": "stream",
     "text": [
      "Loss1: 0.2034, Loss2: 0.1139, Loss3: 0.4611\n"
     ]
    },
    {
     "name": "stderr",
     "output_type": "stream",
     "text": [
      "Test_Loader: 100%|██████████| 288/288 [00:26<00:00, 11.03it/s]\n"
     ]
    },
    {
     "name": "stdout",
     "output_type": "stream",
     "text": [
      "Loss1: 0.2122, Loss2: 0.1164, Loss3: 0.4616\n"
     ]
    },
    {
     "name": "stderr",
     "output_type": "stream",
     "text": [
      "Test_Loader: 100%|██████████| 288/288 [00:26<00:00, 10.91it/s]\n"
     ]
    },
    {
     "name": "stdout",
     "output_type": "stream",
     "text": [
      "Loss1: 0.2137, Loss2: 0.1142, Loss3: 0.4513\n"
     ]
    },
    {
     "name": "stderr",
     "output_type": "stream",
     "text": [
      "Test_Loader: 100%|██████████| 288/288 [00:26<00:00, 11.03it/s]\n"
     ]
    },
    {
     "name": "stdout",
     "output_type": "stream",
     "text": [
      "Loss1: 0.2104, Loss2: 0.1149, Loss3: 0.4560\n"
     ]
    },
    {
     "name": "stderr",
     "output_type": "stream",
     "text": [
      "Test_Loader: 100%|██████████| 288/288 [00:26<00:00, 10.75it/s]\n"
     ]
    },
    {
     "name": "stdout",
     "output_type": "stream",
     "text": [
      "Loss1: 0.2076, Loss2: 0.1122, Loss3: 0.4596\n"
     ]
    },
    {
     "name": "stderr",
     "output_type": "stream",
     "text": [
      "Test_Loader: 100%|██████████| 288/288 [00:26<00:00, 10.86it/s]\n"
     ]
    },
    {
     "name": "stdout",
     "output_type": "stream",
     "text": [
      "Loss1: 0.2030, Loss2: 0.1123, Loss3: 0.4537\n"
     ]
    },
    {
     "name": "stderr",
     "output_type": "stream",
     "text": [
      "Test_Loader: 100%|██████████| 288/288 [00:25<00:00, 11.14it/s]\n"
     ]
    },
    {
     "name": "stdout",
     "output_type": "stream",
     "text": [
      "Loss1: 0.2043, Loss2: 0.1115, Loss3: 0.4544\n"
     ]
    },
    {
     "name": "stderr",
     "output_type": "stream",
     "text": [
      "Test_Loader: 100%|██████████| 288/288 [00:26<00:00, 11.05it/s]\n"
     ]
    },
    {
     "name": "stdout",
     "output_type": "stream",
     "text": [
      "Loss1: 0.2050, Loss2: 0.1123, Loss3: 0.4494\n"
     ]
    },
    {
     "name": "stderr",
     "output_type": "stream",
     "text": [
      "Test_Loader: 100%|██████████| 288/288 [00:28<00:00, 10.19it/s]\n"
     ]
    },
    {
     "name": "stdout",
     "output_type": "stream",
     "text": [
      "Loss1: 0.2005, Loss2: 0.1117, Loss3: 0.4509\n"
     ]
    },
    {
     "name": "stderr",
     "output_type": "stream",
     "text": [
      "Test_Loader: 100%|██████████| 288/288 [00:27<00:00, 10.65it/s]\n"
     ]
    },
    {
     "name": "stdout",
     "output_type": "stream",
     "text": [
      "Loss1: 0.2012, Loss2: 0.1106, Loss3: 0.4435\n"
     ]
    },
    {
     "name": "stderr",
     "output_type": "stream",
     "text": [
      "Test_Loader: 100%|██████████| 288/288 [00:25<00:00, 11.25it/s]\n"
     ]
    },
    {
     "name": "stdout",
     "output_type": "stream",
     "text": [
      "Loss1: 0.2021, Loss2: 0.1081, Loss3: 0.4436\n"
     ]
    },
    {
     "name": "stderr",
     "output_type": "stream",
     "text": [
      "Test_Loader: 100%|██████████| 288/288 [00:25<00:00, 11.23it/s]\n"
     ]
    },
    {
     "name": "stdout",
     "output_type": "stream",
     "text": [
      "Loss1: 0.2002, Loss2: 0.1096, Loss3: 0.4391\n"
     ]
    },
    {
     "name": "stderr",
     "output_type": "stream",
     "text": [
      "Test_Loader: 100%|██████████| 288/288 [00:26<00:00, 10.91it/s]\n"
     ]
    },
    {
     "name": "stdout",
     "output_type": "stream",
     "text": [
      "Loss1: 0.2390, Loss2: 0.1113, Loss3: 0.4368\n"
     ]
    },
    {
     "name": "stderr",
     "output_type": "stream",
     "text": [
      "Test_Loader: 100%|██████████| 288/288 [00:26<00:00, 11.06it/s]\n"
     ]
    },
    {
     "name": "stdout",
     "output_type": "stream",
     "text": [
      "Loss1: 0.2392, Loss2: 0.1123, Loss3: 0.4439\n"
     ]
    },
    {
     "name": "stderr",
     "output_type": "stream",
     "text": [
      "Test_Loader: 100%|██████████| 288/288 [00:26<00:00, 11.00it/s]\n"
     ]
    },
    {
     "name": "stdout",
     "output_type": "stream",
     "text": [
      "Loss1: 0.2447, Loss2: 0.1097, Loss3: 0.4287\n"
     ]
    },
    {
     "name": "stderr",
     "output_type": "stream",
     "text": [
      "Test_Loader: 100%|██████████| 288/288 [00:26<00:00, 11.01it/s]\n"
     ]
    },
    {
     "name": "stdout",
     "output_type": "stream",
     "text": [
      "Loss1: 0.2328, Loss2: 0.1086, Loss3: 0.4303\n"
     ]
    },
    {
     "name": "stderr",
     "output_type": "stream",
     "text": [
      "Test_Loader: 100%|██████████| 288/288 [00:25<00:00, 11.08it/s]\n"
     ]
    },
    {
     "name": "stdout",
     "output_type": "stream",
     "text": [
      "Loss1: 0.2312, Loss2: 0.1088, Loss3: 0.4303\n"
     ]
    },
    {
     "name": "stderr",
     "output_type": "stream",
     "text": [
      "Test_Loader: 100%|██████████| 288/288 [00:26<00:00, 10.79it/s]\n"
     ]
    },
    {
     "name": "stdout",
     "output_type": "stream",
     "text": [
      "Loss1: 0.2335, Loss2: 0.1096, Loss3: 0.4291\n"
     ]
    },
    {
     "name": "stderr",
     "output_type": "stream",
     "text": [
      "Test_Loader: 100%|██████████| 288/288 [00:26<00:00, 11.04it/s]\n"
     ]
    },
    {
     "name": "stdout",
     "output_type": "stream",
     "text": [
      "Loss1: 0.2262, Loss2: 0.1096, Loss3: 0.4310\n"
     ]
    },
    {
     "name": "stderr",
     "output_type": "stream",
     "text": [
      "Test_Loader: 100%|██████████| 288/288 [00:25<00:00, 11.19it/s]\n"
     ]
    },
    {
     "name": "stdout",
     "output_type": "stream",
     "text": [
      "Loss1: 0.2296, Loss2: 0.1098, Loss3: 0.4335\n"
     ]
    },
    {
     "name": "stderr",
     "output_type": "stream",
     "text": [
      "Test_Loader: 100%|██████████| 288/288 [00:25<00:00, 11.31it/s]\n"
     ]
    },
    {
     "name": "stdout",
     "output_type": "stream",
     "text": [
      "Loss1: 0.2254, Loss2: 0.1095, Loss3: 0.4469\n"
     ]
    },
    {
     "name": "stderr",
     "output_type": "stream",
     "text": [
      "Test_Loader: 100%|██████████| 288/288 [00:27<00:00, 10.40it/s]\n"
     ]
    },
    {
     "name": "stdout",
     "output_type": "stream",
     "text": [
      "Loss1: 0.2239, Loss2: 0.1108, Loss3: 0.4453\n"
     ]
    },
    {
     "name": "stderr",
     "output_type": "stream",
     "text": [
      "Test_Loader: 100%|██████████| 288/288 [00:29<00:00,  9.84it/s]\n"
     ]
    },
    {
     "name": "stdout",
     "output_type": "stream",
     "text": [
      "Loss1: 0.2215, Loss2: 0.1074, Loss3: 0.4472\n"
     ]
    },
    {
     "name": "stderr",
     "output_type": "stream",
     "text": [
      "Test_Loader: 100%|██████████| 288/288 [00:25<00:00, 11.32it/s]\n"
     ]
    },
    {
     "name": "stdout",
     "output_type": "stream",
     "text": [
      "Loss1: 0.2715, Loss2: 0.1939, Loss3: 0.5784\n"
     ]
    },
    {
     "name": "stderr",
     "output_type": "stream",
     "text": [
      "Test_Loader: 100%|██████████| 288/288 [00:25<00:00, 11.30it/s]\n"
     ]
    },
    {
     "name": "stdout",
     "output_type": "stream",
     "text": [
      "Loss1: 0.2651, Loss2: 0.1903, Loss3: 0.5840\n"
     ]
    },
    {
     "name": "stderr",
     "output_type": "stream",
     "text": [
      "Test_Loader: 100%|██████████| 288/288 [00:25<00:00, 11.25it/s]\n"
     ]
    },
    {
     "name": "stdout",
     "output_type": "stream",
     "text": [
      "Loss1: 0.2585, Loss2: 0.1923, Loss3: 0.5817\n"
     ]
    },
    {
     "name": "stderr",
     "output_type": "stream",
     "text": [
      "Test_Loader: 100%|██████████| 288/288 [00:26<00:00, 10.85it/s]\n"
     ]
    },
    {
     "name": "stdout",
     "output_type": "stream",
     "text": [
      "Loss1: 0.2726, Loss2: 0.1904, Loss3: 0.6374\n"
     ]
    },
    {
     "name": "stderr",
     "output_type": "stream",
     "text": [
      "Test_Loader: 100%|██████████| 288/288 [00:26<00:00, 10.81it/s]\n"
     ]
    },
    {
     "name": "stdout",
     "output_type": "stream",
     "text": [
      "Loss1: 0.2669, Loss2: 0.1933, Loss3: 0.6268\n"
     ]
    },
    {
     "name": "stderr",
     "output_type": "stream",
     "text": [
      "Test_Loader: 100%|██████████| 288/288 [00:26<00:00, 10.98it/s]\n"
     ]
    },
    {
     "name": "stdout",
     "output_type": "stream",
     "text": [
      "Loss1: 0.2653, Loss2: 0.1905, Loss3: 0.6263\n"
     ]
    },
    {
     "name": "stderr",
     "output_type": "stream",
     "text": [
      "Test_Loader: 100%|██████████| 288/288 [00:25<00:00, 11.09it/s]\n"
     ]
    },
    {
     "name": "stdout",
     "output_type": "stream",
     "text": [
      "Loss1: 0.2587, Loss2: 0.1908, Loss3: 0.6098\n"
     ]
    },
    {
     "name": "stderr",
     "output_type": "stream",
     "text": [
      "Test_Loader: 100%|██████████| 288/288 [00:25<00:00, 11.10it/s]\n"
     ]
    },
    {
     "name": "stdout",
     "output_type": "stream",
     "text": [
      "Loss1: 0.2661, Loss2: 0.1893, Loss3: 0.6057\n"
     ]
    },
    {
     "name": "stderr",
     "output_type": "stream",
     "text": [
      "Test_Loader: 100%|██████████| 288/288 [00:27<00:00, 10.61it/s]\n"
     ]
    },
    {
     "name": "stdout",
     "output_type": "stream",
     "text": [
      "Loss1: 0.2605, Loss2: 0.1903, Loss3: 0.6035\n"
     ]
    },
    {
     "name": "stderr",
     "output_type": "stream",
     "text": [
      "Test_Loader: 100%|██████████| 288/288 [00:27<00:00, 10.61it/s]\n"
     ]
    },
    {
     "name": "stdout",
     "output_type": "stream",
     "text": [
      "Loss1: 0.2555, Loss2: 0.1880, Loss3: 0.5993\n"
     ]
    },
    {
     "name": "stderr",
     "output_type": "stream",
     "text": [
      "Test_Loader: 100%|██████████| 288/288 [00:26<00:00, 10.73it/s]\n"
     ]
    },
    {
     "name": "stdout",
     "output_type": "stream",
     "text": [
      "Loss1: 0.2549, Loss2: 0.1887, Loss3: 0.5932\n"
     ]
    },
    {
     "name": "stderr",
     "output_type": "stream",
     "text": [
      "Test_Loader: 100%|██████████| 288/288 [00:27<00:00, 10.66it/s]\n"
     ]
    },
    {
     "name": "stdout",
     "output_type": "stream",
     "text": [
      "Loss1: 0.2549, Loss2: 0.1834, Loss3: 0.5975\n"
     ]
    },
    {
     "name": "stderr",
     "output_type": "stream",
     "text": [
      "Test_Loader: 100%|██████████| 288/288 [00:30<00:00,  9.55it/s]\n"
     ]
    },
    {
     "name": "stdout",
     "output_type": "stream",
     "text": [
      "Loss1: 0.2596, Loss2: 0.1837, Loss3: 0.5776\n"
     ]
    },
    {
     "name": "stderr",
     "output_type": "stream",
     "text": [
      "Test_Loader: 100%|██████████| 288/288 [00:27<00:00, 10.52it/s]\n"
     ]
    },
    {
     "name": "stdout",
     "output_type": "stream",
     "text": [
      "Loss1: 0.2444, Loss2: 0.1780, Loss3: 0.5626\n"
     ]
    },
    {
     "name": "stderr",
     "output_type": "stream",
     "text": [
      "Test_Loader: 100%|██████████| 288/288 [00:28<00:00, 10.26it/s]\n"
     ]
    },
    {
     "name": "stdout",
     "output_type": "stream",
     "text": [
      "Loss1: 0.2637, Loss2: 0.1825, Loss3: 0.5889\n"
     ]
    },
    {
     "name": "stderr",
     "output_type": "stream",
     "text": [
      "Test_Loader: 100%|██████████| 288/288 [00:27<00:00, 10.32it/s]\n"
     ]
    },
    {
     "name": "stdout",
     "output_type": "stream",
     "text": [
      "Loss1: 0.2642, Loss2: 0.1827, Loss3: 0.5849\n"
     ]
    },
    {
     "name": "stderr",
     "output_type": "stream",
     "text": [
      "Test_Loader: 100%|██████████| 288/288 [00:26<00:00, 10.90it/s]\n"
     ]
    },
    {
     "name": "stdout",
     "output_type": "stream",
     "text": [
      "Loss1: 0.2528, Loss2: 0.1964, Loss3: 0.6146\n"
     ]
    },
    {
     "name": "stderr",
     "output_type": "stream",
     "text": [
      "Test_Loader: 100%|██████████| 288/288 [00:25<00:00, 11.20it/s]\n"
     ]
    },
    {
     "name": "stdout",
     "output_type": "stream",
     "text": [
      "Loss1: 0.2622, Loss2: 0.1953, Loss3: 0.6200\n"
     ]
    },
    {
     "name": "stderr",
     "output_type": "stream",
     "text": [
      "Test_Loader: 100%|██████████| 288/288 [00:26<00:00, 11.04it/s]\n"
     ]
    },
    {
     "name": "stdout",
     "output_type": "stream",
     "text": [
      "Loss1: 0.2934, Loss2: 0.1968, Loss3: 0.6573\n"
     ]
    },
    {
     "name": "stderr",
     "output_type": "stream",
     "text": [
      "Test_Loader: 100%|██████████| 288/288 [00:25<00:00, 11.11it/s]\n"
     ]
    },
    {
     "name": "stdout",
     "output_type": "stream",
     "text": [
      "Loss1: 0.2944, Loss2: 0.2027, Loss3: 0.6352\n"
     ]
    },
    {
     "name": "stderr",
     "output_type": "stream",
     "text": [
      "Test_Loader: 100%|██████████| 288/288 [00:25<00:00, 11.08it/s]\n"
     ]
    },
    {
     "name": "stdout",
     "output_type": "stream",
     "text": [
      "Loss1: 0.2976, Loss2: 0.2022, Loss3: 0.6328\n"
     ]
    },
    {
     "name": "stderr",
     "output_type": "stream",
     "text": [
      "Test_Loader: 100%|██████████| 288/288 [00:26<00:00, 10.82it/s]\n"
     ]
    },
    {
     "name": "stdout",
     "output_type": "stream",
     "text": [
      "Loss1: 0.3000, Loss2: 0.2005, Loss3: 0.6344\n"
     ]
    },
    {
     "name": "stderr",
     "output_type": "stream",
     "text": [
      "Test_Loader: 100%|██████████| 288/288 [00:27<00:00, 10.55it/s]\n"
     ]
    },
    {
     "name": "stdout",
     "output_type": "stream",
     "text": [
      "Loss1: 0.2980, Loss2: 0.2021, Loss3: 0.6352\n"
     ]
    },
    {
     "name": "stderr",
     "output_type": "stream",
     "text": [
      "Test_Loader: 100%|██████████| 288/288 [00:26<00:00, 10.94it/s]\n"
     ]
    },
    {
     "name": "stdout",
     "output_type": "stream",
     "text": [
      "Loss1: 0.3056, Loss2: 0.2004, Loss3: 0.6453\n"
     ]
    },
    {
     "name": "stderr",
     "output_type": "stream",
     "text": [
      "Test_Loader: 100%|██████████| 288/288 [00:26<00:00, 11.03it/s]\n"
     ]
    },
    {
     "name": "stdout",
     "output_type": "stream",
     "text": [
      "Loss1: 0.2980, Loss2: 0.2014, Loss3: 0.6390\n"
     ]
    },
    {
     "name": "stderr",
     "output_type": "stream",
     "text": [
      "Test_Loader: 100%|██████████| 288/288 [00:27<00:00, 10.61it/s]\n"
     ]
    },
    {
     "name": "stdout",
     "output_type": "stream",
     "text": [
      "Loss1: 0.3020, Loss2: 0.2032, Loss3: 0.6302\n"
     ]
    },
    {
     "name": "stderr",
     "output_type": "stream",
     "text": [
      "Test_Loader: 100%|██████████| 288/288 [00:27<00:00, 10.41it/s]\n"
     ]
    },
    {
     "name": "stdout",
     "output_type": "stream",
     "text": [
      "Loss1: 0.2965, Loss2: 0.1986, Loss3: 0.6405\n"
     ]
    },
    {
     "name": "stderr",
     "output_type": "stream",
     "text": [
      "Test_Loader: 100%|██████████| 288/288 [00:26<00:00, 10.97it/s]\n"
     ]
    },
    {
     "name": "stdout",
     "output_type": "stream",
     "text": [
      "Loss1: 0.3014, Loss2: 0.1924, Loss3: 0.6372\n"
     ]
    },
    {
     "name": "stderr",
     "output_type": "stream",
     "text": [
      "Test_Loader: 100%|██████████| 288/288 [00:26<00:00, 10.90it/s]\n"
     ]
    },
    {
     "name": "stdout",
     "output_type": "stream",
     "text": [
      "Loss1: 0.2847, Loss2: 0.1976, Loss3: 0.6157\n"
     ]
    },
    {
     "name": "stderr",
     "output_type": "stream",
     "text": [
      "Test_Loader: 100%|██████████| 288/288 [00:28<00:00, 10.22it/s]\n"
     ]
    },
    {
     "name": "stdout",
     "output_type": "stream",
     "text": [
      "Loss1: 0.2818, Loss2: 0.1960, Loss3: 0.6174\n"
     ]
    },
    {
     "name": "stderr",
     "output_type": "stream",
     "text": [
      "Test_Loader: 100%|██████████| 288/288 [00:27<00:00, 10.30it/s]\n"
     ]
    },
    {
     "name": "stdout",
     "output_type": "stream",
     "text": [
      "Loss1: 0.2809, Loss2: 0.1940, Loss3: 0.6356\n"
     ]
    },
    {
     "name": "stderr",
     "output_type": "stream",
     "text": [
      "Test_Loader: 100%|██████████| 288/288 [00:27<00:00, 10.32it/s]\n"
     ]
    },
    {
     "name": "stdout",
     "output_type": "stream",
     "text": [
      "Loss1: 0.2800, Loss2: 0.1999, Loss3: 0.6232\n"
     ]
    },
    {
     "name": "stderr",
     "output_type": "stream",
     "text": [
      "Test_Loader: 100%|██████████| 288/288 [00:26<00:00, 10.85it/s]\n"
     ]
    },
    {
     "name": "stdout",
     "output_type": "stream",
     "text": [
      "Loss1: 0.2771, Loss2: 0.1938, Loss3: 0.6258\n"
     ]
    },
    {
     "name": "stderr",
     "output_type": "stream",
     "text": [
      "Test_Loader: 100%|██████████| 288/288 [00:26<00:00, 10.72it/s]\n"
     ]
    },
    {
     "name": "stdout",
     "output_type": "stream",
     "text": [
      "Loss1: 0.2815, Loss2: 0.2001, Loss3: 0.6128\n"
     ]
    },
    {
     "name": "stderr",
     "output_type": "stream",
     "text": [
      "Test_Loader: 100%|██████████| 288/288 [00:27<00:00, 10.35it/s]\n"
     ]
    },
    {
     "name": "stdout",
     "output_type": "stream",
     "text": [
      "Loss1: 0.2888, Loss2: 0.1966, Loss3: 0.6270\n"
     ]
    },
    {
     "name": "stderr",
     "output_type": "stream",
     "text": [
      "Test_Loader: 100%|██████████| 288/288 [00:28<00:00, 10.15it/s]\n"
     ]
    },
    {
     "name": "stdout",
     "output_type": "stream",
     "text": [
      "Loss1: 0.2858, Loss2: 0.2018, Loss3: 0.6115\n"
     ]
    },
    {
     "name": "stderr",
     "output_type": "stream",
     "text": [
      "Test_Loader: 100%|██████████| 288/288 [00:28<00:00,  9.94it/s]\n"
     ]
    },
    {
     "name": "stdout",
     "output_type": "stream",
     "text": [
      "Loss1: 0.2881, Loss2: 0.1943, Loss3: 0.5801\n"
     ]
    },
    {
     "name": "stderr",
     "output_type": "stream",
     "text": [
      "Test_Loader: 100%|██████████| 288/288 [00:28<00:00, 10.20it/s]\n"
     ]
    },
    {
     "name": "stdout",
     "output_type": "stream",
     "text": [
      "Loss1: 0.2965, Loss2: 0.1944, Loss3: 0.5794\n"
     ]
    },
    {
     "name": "stderr",
     "output_type": "stream",
     "text": [
      "Test_Loader: 100%|██████████| 288/288 [00:28<00:00, 10.10it/s]\n"
     ]
    },
    {
     "name": "stdout",
     "output_type": "stream",
     "text": [
      "Loss1: 0.3092, Loss2: 0.1921, Loss3: 0.6062\n"
     ]
    },
    {
     "name": "stderr",
     "output_type": "stream",
     "text": [
      "Test_Loader: 100%|██████████| 288/288 [00:28<00:00, 10.27it/s]\n"
     ]
    },
    {
     "name": "stdout",
     "output_type": "stream",
     "text": [
      "Loss1: 0.3019, Loss2: 0.1930, Loss3: 0.5910\n"
     ]
    },
    {
     "name": "stderr",
     "output_type": "stream",
     "text": [
      "Test_Loader: 100%|██████████| 288/288 [00:27<00:00, 10.38it/s]\n"
     ]
    },
    {
     "name": "stdout",
     "output_type": "stream",
     "text": [
      "Loss1: 0.2913, Loss2: 0.1929, Loss3: 0.5831\n"
     ]
    },
    {
     "name": "stderr",
     "output_type": "stream",
     "text": [
      "Test_Loader: 100%|██████████| 288/288 [00:28<00:00, 10.05it/s]\n"
     ]
    },
    {
     "name": "stdout",
     "output_type": "stream",
     "text": [
      "Loss1: 0.3046, Loss2: 0.1928, Loss3: 0.5922\n"
     ]
    },
    {
     "name": "stderr",
     "output_type": "stream",
     "text": [
      "Test_Loader: 100%|██████████| 288/288 [00:28<00:00, 10.01it/s]\n"
     ]
    },
    {
     "name": "stdout",
     "output_type": "stream",
     "text": [
      "Loss1: 0.3041, Loss2: 0.1877, Loss3: 0.5925\n"
     ]
    },
    {
     "name": "stderr",
     "output_type": "stream",
     "text": [
      "Test_Loader: 100%|██████████| 288/288 [00:27<00:00, 10.35it/s]\n"
     ]
    },
    {
     "name": "stdout",
     "output_type": "stream",
     "text": [
      "Loss1: 0.2920, Loss2: 0.1894, Loss3: 0.5769\n"
     ]
    },
    {
     "name": "stderr",
     "output_type": "stream",
     "text": [
      "Test_Loader: 100%|██████████| 288/288 [00:27<00:00, 10.51it/s]\n"
     ]
    },
    {
     "name": "stdout",
     "output_type": "stream",
     "text": [
      "Loss1: 0.2939, Loss2: 0.1897, Loss3: 0.5737\n"
     ]
    },
    {
     "name": "stderr",
     "output_type": "stream",
     "text": [
      "Test_Loader: 100%|██████████| 288/288 [00:27<00:00, 10.29it/s]\n"
     ]
    },
    {
     "name": "stdout",
     "output_type": "stream",
     "text": [
      "Loss1: 0.3144, Loss2: 0.1911, Loss3: 0.5868\n"
     ]
    },
    {
     "name": "stderr",
     "output_type": "stream",
     "text": [
      "Test_Loader: 100%|██████████| 288/288 [00:28<00:00, 10.24it/s]\n"
     ]
    },
    {
     "name": "stdout",
     "output_type": "stream",
     "text": [
      "Loss1: 0.3069, Loss2: 0.1888, Loss3: 0.5856\n"
     ]
    },
    {
     "name": "stderr",
     "output_type": "stream",
     "text": [
      "Test_Loader: 100%|██████████| 288/288 [00:27<00:00, 10.63it/s]\n"
     ]
    },
    {
     "name": "stdout",
     "output_type": "stream",
     "text": [
      "Loss1: 0.3032, Loss2: 0.1876, Loss3: 0.5704\n"
     ]
    },
    {
     "name": "stderr",
     "output_type": "stream",
     "text": [
      "Test_Loader: 100%|██████████| 288/288 [00:27<00:00, 10.62it/s]\n"
     ]
    },
    {
     "name": "stdout",
     "output_type": "stream",
     "text": [
      "Loss1: 0.3149, Loss2: 0.1884, Loss3: 0.5888\n"
     ]
    },
    {
     "name": "stderr",
     "output_type": "stream",
     "text": [
      "Test_Loader: 100%|██████████| 288/288 [00:26<00:00, 10.92it/s]\n"
     ]
    },
    {
     "name": "stdout",
     "output_type": "stream",
     "text": [
      "Loss1: 0.3188, Loss2: 0.1928, Loss3: 0.5870\n"
     ]
    },
    {
     "name": "stderr",
     "output_type": "stream",
     "text": [
      "Test_Loader: 100%|██████████| 288/288 [00:26<00:00, 10.94it/s]\n"
     ]
    },
    {
     "name": "stdout",
     "output_type": "stream",
     "text": [
      "Loss1: 0.3453, Loss2: 0.2040, Loss3: 0.6053\n"
     ]
    },
    {
     "name": "stderr",
     "output_type": "stream",
     "text": [
      "Test_Loader: 100%|██████████| 288/288 [00:28<00:00, 10.07it/s]\n"
     ]
    },
    {
     "name": "stdout",
     "output_type": "stream",
     "text": [
      "Loss1: 0.3420, Loss2: 0.1983, Loss3: 0.5679\n"
     ]
    },
    {
     "name": "stderr",
     "output_type": "stream",
     "text": [
      "Test_Loader: 100%|██████████| 288/288 [00:28<00:00, 10.00it/s]\n"
     ]
    },
    {
     "name": "stdout",
     "output_type": "stream",
     "text": [
      "Loss1: 0.3435, Loss2: 0.1951, Loss3: 0.5900\n"
     ]
    },
    {
     "name": "stderr",
     "output_type": "stream",
     "text": [
      "Test_Loader: 100%|██████████| 288/288 [00:28<00:00, 10.28it/s]\n"
     ]
    },
    {
     "name": "stdout",
     "output_type": "stream",
     "text": [
      "Loss1: 0.3485, Loss2: 0.1998, Loss3: 0.5641\n"
     ]
    },
    {
     "name": "stderr",
     "output_type": "stream",
     "text": [
      "Test_Loader: 100%|██████████| 288/288 [00:27<00:00, 10.54it/s]\n"
     ]
    },
    {
     "name": "stdout",
     "output_type": "stream",
     "text": [
      "Loss1: 0.3424, Loss2: 0.1977, Loss3: 0.5672\n"
     ]
    },
    {
     "name": "stderr",
     "output_type": "stream",
     "text": [
      "Test_Loader: 100%|██████████| 288/288 [00:27<00:00, 10.41it/s]\n"
     ]
    },
    {
     "name": "stdout",
     "output_type": "stream",
     "text": [
      "Loss1: 0.3397, Loss2: 0.1971, Loss3: 0.5627\n"
     ]
    },
    {
     "name": "stderr",
     "output_type": "stream",
     "text": [
      "Test_Loader: 100%|██████████| 288/288 [00:26<00:00, 10.71it/s]\n"
     ]
    },
    {
     "name": "stdout",
     "output_type": "stream",
     "text": [
      "Loss1: 0.3355, Loss2: 0.1963, Loss3: 0.5515\n"
     ]
    },
    {
     "name": "stderr",
     "output_type": "stream",
     "text": [
      "Test_Loader: 100%|██████████| 288/288 [00:26<00:00, 10.80it/s]\n"
     ]
    },
    {
     "name": "stdout",
     "output_type": "stream",
     "text": [
      "Loss1: 0.3284, Loss2: 0.1945, Loss3: 0.5513\n"
     ]
    },
    {
     "name": "stderr",
     "output_type": "stream",
     "text": [
      "Test_Loader: 100%|██████████| 288/288 [00:26<00:00, 10.80it/s]\n"
     ]
    },
    {
     "name": "stdout",
     "output_type": "stream",
     "text": [
      "Loss1: 0.3318, Loss2: 0.1913, Loss3: 0.5433\n"
     ]
    },
    {
     "name": "stderr",
     "output_type": "stream",
     "text": [
      "Test_Loader: 100%|██████████| 288/288 [00:26<00:00, 10.84it/s]\n"
     ]
    },
    {
     "name": "stdout",
     "output_type": "stream",
     "text": [
      "Loss1: 0.3282, Loss2: 0.1882, Loss3: 0.5582\n"
     ]
    },
    {
     "name": "stderr",
     "output_type": "stream",
     "text": [
      "Test_Loader: 100%|██████████| 288/288 [00:27<00:00, 10.64it/s]\n"
     ]
    },
    {
     "name": "stdout",
     "output_type": "stream",
     "text": [
      "Loss1: 0.3276, Loss2: 0.1886, Loss3: 0.5322\n"
     ]
    },
    {
     "name": "stderr",
     "output_type": "stream",
     "text": [
      "Test_Loader: 100%|██████████| 288/288 [00:28<00:00, 10.23it/s]\n"
     ]
    },
    {
     "name": "stdout",
     "output_type": "stream",
     "text": [
      "Loss1: 0.3183, Loss2: 0.1841, Loss3: 0.5413\n"
     ]
    },
    {
     "name": "stderr",
     "output_type": "stream",
     "text": [
      "Test_Loader: 100%|██████████| 288/288 [00:27<00:00, 10.34it/s]"
     ]
    },
    {
     "name": "stdout",
     "output_type": "stream",
     "text": [
      "Loss1: 0.3236, Loss2: 0.1812, Loss3: 0.5434\n"
     ]
    },
    {
     "name": "stderr",
     "output_type": "stream",
     "text": [
      "\n"
     ]
    }
   ],
   "source": [
    "if __name__ == '__main__':\n",
    "      random.seed(args.seed)  # 设置Python随机种子\n",
    "      torch.manual_seed(args.seed)  # 设置PyTorch随机种子\n",
    "      exp_init()      \n",
    "      IO = IOStream('outputs/' + args.exp_name + '/run.log')\n",
    "      IO.cprint(str(table_printer(args)))  \n",
    "\n",
    "      train_dataset = CustomDataset(args, dataset_type='train')\n",
    "      val_dataset = CustomDataset(args, dataset_type='val')\n",
    "      test_dataset = CustomDataset(args, dataset_type='test')\n",
    "      train_dataloader = DataLoader(train_dataset, batch_size=1, shuffle=False, drop_last=True)\n",
    "      val_dataloader = DataLoader(val_dataset, batch_size=1, shuffle=False, drop_last=True)\n",
    "      test_dataloader = DataLoader(test_dataset, batch_size=1, shuffle=False, drop_last=True)\n",
    "\n",
    "      # 读取节点压力、节点用水量、管道流量数据 \n",
    "      NodePressure = pd.read_csv(args.water_pressure_file, header=0, index_col=0)\n",
    "      PipeFlow = pd.read_csv(args.water_flow_file, header=0, index_col=0)\n",
    "      NodeDemand = pd.read_csv(args.water_demand_file, header=0, index_col=0)\n",
    "      max_pressure = NodePressure.max().max()\n",
    "      min_pressure = NodePressure.min().min()\n",
    "      # 不要乘以1000，要按m3/s进行计算\n",
    "      max_flow = PipeFlow.max().max() \n",
    "      min_flow = PipeFlow.min().min()\n",
    "      max_demand = NodeDemand.max().max()\n",
    "      min_demand = (NodeDemand.iloc[:, :-1]).min().min()                          \n",
    "      # TODO 这里要是0，最小值在水库取得为负。\n",
    "      \n",
    "      # 转换为PyTorch张量并移动到CUDA设备\n",
    "      min_pressure = torch.tensor(min_pressure).to(args.device)\n",
    "      max_pressure = torch.tensor(max_pressure).to(args.device)\n",
    "      min_flow = torch.tensor(min_flow).to(args.device)\n",
    "      max_flow = torch.tensor(max_flow).to(args.device)\n",
    "\n",
    "      (pressure_True, pressure_Est, flow_True, flow_Est, demand_True, demand_Est,\n",
    "       train_loss1_list, train_loss2_list, train_loss3_list,\n",
    "       val_loss1_list, val_loss2_list, val_loss3_list) = train(\n",
    "       args, IO, train_dataloader, val_dataloader, min_pressure, max_pressure, min_flow, max_flow, min_demand, max_demand)\n",
    "      \n",
    "      (Loss1, Loss2, Loss3,\n",
    "       MAE_pressure, MAE_flow, MAE_demand, \n",
    "       MAPE_pressure, MAPE_flow, MAPE_demand,\n",
    "       R2_pressure, R2_flow, R2_demand) = test(\n",
    "      args, IO, test_dataloader, min_pressure, max_pressure, min_flow, max_flow, min_demand, max_demand) "
   ]
  },
  {
   "cell_type": "code",
   "execution_count": 17,
   "metadata": {},
   "outputs": [],
   "source": [
    "# 创建输出目录\n",
    "output_dir = 'outputs1/DataManage'  \n",
    "os.makedirs(output_dir, exist_ok=True)  "
   ]
  },
  {
   "cell_type": "code",
   "execution_count": 18,
   "metadata": {},
   "outputs": [],
   "source": [
    "# # 数据输出到csv文件 \n",
    "# save_pressure_True = pressure_True.cpu().detach().numpy().astype(float)\n",
    "# save_pressure_Est = pressure_Est.cpu().detach().numpy().astype(float)\n",
    "# save_flow_True = flow_True.cpu().detach().numpy().astype(float)\n",
    "# save_flow_Est = flow_Est.cpu().detach().numpy().astype(float)\n",
    "# save_demand_True = demand_True.cpu().detach().numpy().astype(float)\n",
    "# save_demand_Est = demand_Est.cpu().detach().numpy().astype(float)\n",
    "\n",
    "# np.savetxt(os.path.join(output_dir, 'pressure_True.csv'), save_pressure_True, delimiter=',')\n",
    "# np.savetxt(os.path.join(output_dir, 'pressure_Est.csv'), save_pressure_Est, delimiter=',')\n",
    "# np.savetxt(os.path.join(output_dir, 'flow_True.csv'), save_flow_True, delimiter=',')  \n",
    "# np.savetxt(os.path.join(output_dir, 'flow_Est.csv'), save_flow_Est, delimiter=',')\n",
    "# np.savetxt(os.path.join(output_dir, 'demand_True.csv'), save_demand_True, delimiter=',')\n",
    "# np.savetxt(os.path.join(output_dir, 'demand_Est.csv'), save_demand_Est, delimiter=',')"
   ]
  },
  {
   "cell_type": "code",
   "execution_count": 19,
   "metadata": {},
   "outputs": [],
   "source": [
    "# 泛化保存 (MAE_pressure, MAE_flow, MAE_demand, MAPE_pressure, MAPE_flow, MAPE_demand, R2_pressure, R2_flow, R2_demand) \n",
    "MAE_pressure = pd.DataFrame(MAE_pressure)\n",
    "MAE_flow = pd.DataFrame(MAE_flow)\n",
    "MAE_demand = pd.DataFrame(MAE_demand)\n",
    "\n",
    "MAPE_pressure = pd.DataFrame(MAPE_pressure)\n",
    "MAPE_flow = pd.DataFrame(MAPE_flow)\n",
    "MAPE_demand = pd.DataFrame(MAPE_demand)\n",
    "\n",
    "R2_pressure = pd.DataFrame(R2_pressure)\n",
    "R2_flow = pd.DataFrame(R2_flow)\n",
    "R2_demand = pd.DataFrame(R2_demand)\n",
    "\n",
    "# 保存结果\n",
    "Loss1 = pd.DataFrame(Loss1)\n",
    "Loss2 = pd.DataFrame(Loss2)\n",
    "Loss3 = pd.DataFrame(Loss3)\n",
    "Loss1.to_csv(os.path.join(output_dir, 'Coservation1_generalization.csv'), index=False)\n",
    "Loss2.to_csv(os.path.join(output_dir, 'Coservation2_generalization.csv'), index=False)\n",
    "Loss3.to_csv(os.path.join(output_dir, 'Coservation3_generalization.csv'), index=False)\n",
    "\n",
    "MAE_pressure.to_csv(os.path.join(output_dir, 'MAE_pressure_generalization.csv'), index=False)\n",
    "MAE_flow.to_csv(os.path.join(output_dir, 'MAE_flow_generalization.csv'), index=False)\n",
    "MAE_demand.to_csv(os.path.join(output_dir, 'MAE_demand_generalization.csv'), index=False)\n",
    "\n",
    "MAPE_pressure.to_csv(os.path.join(output_dir, 'MAPE_pressure_generalization.csv'), index=False)\n",
    "MAPE_flow.to_csv(os.path.join(output_dir, 'MAPE_flow_generalization.csv'), index=False)\n",
    "MAPE_demand.to_csv(os.path.join(output_dir, 'MAPE_demand_generalization.csv'), index=False)\n",
    "\n",
    "R2_pressure.to_csv(os.path.join(output_dir, 'R2_pressure_generalization.csv'), index=False)\n",
    "R2_flow.to_csv(os.path.join(output_dir, 'R2_flow_generalization.csv'), index=False)\n",
    "R2_demand.to_csv(os.path.join(output_dir, 'R2_demand_generalization.csv'), index=False)"
   ]
  }
 ],
 "metadata": {
  "kernelspec": {
   "display_name": "pytorch",
   "language": "python",
   "name": "python3"
  },
  "language_info": {
   "codemirror_mode": {
    "name": "ipython",
    "version": 3
   },
   "file_extension": ".py",
   "mimetype": "text/x-python",
   "name": "python",
   "nbconvert_exporter": "python",
   "pygments_lexer": "ipython3",
   "version": "3.12.3"
  }
 },
 "nbformat": 4,
 "nbformat_minor": 2
}
