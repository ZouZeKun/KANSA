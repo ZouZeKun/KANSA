{
 "cells": [
  {
   "cell_type": "code",
   "execution_count": 1,
   "metadata": {},
   "outputs": [
    {
     "name": "stderr",
     "output_type": "stream",
     "text": [
      "c:\\ProgramData\\anaconda3\\envs\\pytorch\\Lib\\site-packages\\torch_geometric\\typing.py:72: UserWarning: An issue occurred while importing 'torch-scatter'. Disabling its usage. Stacktrace: Could not find module 'C:\\ProgramData\\anaconda3\\envs\\pytorch\\Lib\\site-packages\\torch_scatter\\_scatter_cuda.pyd' (or one of its dependencies). Try using the full path with constructor syntax.\n",
      "  warnings.warn(f\"An issue occurred while importing 'torch-scatter'. \"\n",
      "c:\\ProgramData\\anaconda3\\envs\\pytorch\\Lib\\site-packages\\torch_geometric\\typing.py:99: UserWarning: An issue occurred while importing 'torch-spline-conv'. Disabling its usage. Stacktrace: Could not find module 'C:\\ProgramData\\anaconda3\\envs\\pytorch\\Lib\\site-packages\\torch_spline_conv\\_basis_cuda.pyd' (or one of its dependencies). Try using the full path with constructor syntax.\n",
      "  warnings.warn(\n",
      "c:\\ProgramData\\anaconda3\\envs\\pytorch\\Lib\\site-packages\\torch_geometric\\typing.py:110: UserWarning: An issue occurred while importing 'torch-sparse'. Disabling its usage. Stacktrace: Could not find module 'C:\\ProgramData\\anaconda3\\envs\\pytorch\\Lib\\site-packages\\torch_sparse\\_convert_cuda.pyd' (or one of its dependencies). Try using the full path with constructor syntax.\n",
      "  warnings.warn(f\"An issue occurred while importing 'torch-sparse'. \"\n"
     ]
    }
   ],
   "source": [
    "import os, random, argparse, json, time\n",
    "from tqdm import tqdm, trange\n",
    "\n",
    "import numpy as np\n",
    "import pandas as pd\n",
    "import matplotlib.pyplot as plt\n",
    "\n",
    "import torch\n",
    "import torch.nn as nn\n",
    "\n",
    "from texttable import Texttable\n",
    "from typing import Union, Tuple, Dict, List\n",
    "\n",
    "import torch.optim as optim\n",
    "import torch.nn.functional as F\n",
    "from torch.utils.data import Dataset\n",
    "from torch_geometric.data import Data\n",
    "from torch_geometric.loader import DataLoader"
   ]
  },
  {
   "cell_type": "markdown",
   "metadata": {},
   "source": [
    "# Parameter"
   ]
  },
  {
   "cell_type": "code",
   "execution_count": 2,
   "metadata": {},
   "outputs": [],
   "source": [
    "def parse_args():\n",
    "    parser = argparse.ArgumentParser()  # 参数解析器对象\n",
    "\n",
    "    parser.add_argument('--seed', type=int, default=10, help='Random seed of the experiment')\n",
    "    parser.add_argument('--exp_name', type=str, default='Exp', help='Name of the experiment')\n",
    "    \n",
    "    parser.add_argument('--num_step', type=int, default=8640, help='4*24*90=8640') # TODO 90天数据\n",
    "    parser.add_argument('--batch_size', type=int, default=96, help='Size of the batch') \n",
    "    parser.add_argument('--train_ratio' , type=float, default=3/6, help='train set ratio') # √\n",
    "    parser.add_argument('--val_ratio'   , type=float, default=1/6, help='validation set ratio') # √\n",
    "    parser.add_argument('--test_ratio'  , type=float, default=2/6, help='test set ratio') # √\n",
    "\n",
    "    parser.add_argument('--num_history', type=int, default=1, help='Number of historical time steps') # √\n",
    "    parser.add_argument('--ChebyshevDegree', type=int, default=8, help='degree of KAN') \n",
    "    parser.add_argument('--FourierDegree', type=int, default=6, help='degree of KAN') \n",
    "\n",
    "    parser.add_argument('--num_nodes', type=int, default=24, help='Number of nodes in the graph') # √\n",
    "    parser.add_argument('--num_edges', type=int, default=34, help='Number of edges in the graph') # √\n",
    "    parser.add_argument('--hidden_dim', type=int, default=12, help='Dimension of the hidden layers') # √\n",
    "    \n",
    "    parser.add_argument('--max_epoch', type=int, default=50, help='Maximum number of epochs') \n",
    "    parser.add_argument('--learning_rate', type=float, default=2e-5, help='Learning rate of Adam') \n",
    "    \n",
    "    # L1正则化：鼓励模型选择较少的特征，从而实现特征选择。可以将某些权重压缩到零，意味着某些特征可能完全被忽略，由此简化模型。\n",
    "    parser.add_argument('--l1_lambda', type=float, default=0.00, help='L1 regularization coefficient') # ×\n",
    "    # L2正则化：鼓励模型的权重较小，从而使模型更简单。但并不会将它们压缩到零，从而保留了所有特征，避免过拟合。\n",
    "    parser.add_argument('--l2_lambda', type=float, default=0.00, help='L2 regularization coefficient') # ×\n",
    "\n",
    "    # parser.add_argument('--max_norm', type=float, default=0.30, help='梯度裁剪') # TODO \n",
    "\n",
    "    parser.add_argument('--gamma', type=float, default=0.95, help='decay parameter') \n",
    "    parser.add_argument('--decay_epoch', type=float, default=1, help='decay epoch') \n",
    "    parser.add_argument('--patience', type=int, default=10, help='提前停止的耐心参数') \n",
    "\n",
    "    parser.add_argument('--pressure_sensor_name', type=str, default='[\"4\", \"13\", \"14\", \"23\", \"24\"]', help='压力传感器名称')\n",
    "    parser.add_argument('--flow_sensor_name', type=str, default='[\"4\", \"7\", \"25\", \"28\", \"34\"]', help='流量传感器名称')\n",
    "    parser.add_argument('--demand_sensor_name', type=str, default='[\"2\", \"16\", \"19\", \"22\", \"24\"]', help='需水量传感器名称')\n",
    "    \n",
    "    parser.add_argument('--water_pressure_file', type=str, default=\"D:/GraphormerForRobustness/dataset2/demand_patten_3612/simulate_pressure3.csv\")\n",
    "    parser.add_argument('--water_flow_file', type=str, default=\"D:/GraphormerForRobustness/dataset2/demand_patten_3612/simulate_flow3.csv\")\n",
    "    parser.add_argument('--water_demand_file', type=str, default=\"D:/GraphormerForRobustness/dataset2/demand_patten_3612/simulate_demand3.csv\")\n",
    "\n",
    "    parser.add_argument('--node_file', type=str, default='D:/GraphormerForRobustness/dataset/Apulia_2/node_features_Apulia2.csv')\n",
    "    parser.add_argument('--edge_file', type=str, default='D:/GraphormerForRobustness/dataset2/edge_index_dir.csv')\n",
    "    \n",
    "    parser.add_argument('--node_adjacency_file', type=str, default='D:/GraphormerForRobustness/dataset/Apulia/node_adjacency_matrix.csv')\n",
    "    parser.add_argument('--edge_adjacency_file', type=str, default='D:/GraphormerForRobustness/dataset/Apulia/edge_adjacency_matrix.csv')\n",
    "\n",
    "    parser.add_argument('--incidence_file', type=str, default='D:/GraphormerForRobustness/dataset2/initial_incidence_matrix_dir.csv')\n",
    "    parser.add_argument('--cycle_file', type=str, default='D:/GraphormerForRobustness/dataset2/initial_cycle_matrix_dir.csv')\n",
    "\n",
    "    args = parser.parse_args(args=[])  \n",
    "\n",
    "    args.device = torch.device(\"cuda\" if torch.cuda.is_available() else \"cpu\")\n",
    "\n",
    "    return args"
   ]
  },
  {
   "cell_type": "markdown",
   "metadata": {},
   "source": [
    "# Loss Function"
   ]
  },
  {
   "cell_type": "code",
   "execution_count": 3,
   "metadata": {},
   "outputs": [],
   "source": [
    "# 损失函数 MSE\n",
    "class ConservationConstraints(nn.Module):\n",
    "    def __init__(self):\n",
    "        super(ConservationConstraints, self).__init__()\n",
    "\n",
    "    def forward(self, pressure_Y, flow_Y, demand_Y, PipeFriction, IncidenceMatrix, CycleMatrix):\n",
    "        \n",
    "        # Part 2: Conservation Constraints —— (10.67 Q^1.852L)/(C^1.852 D^4.87)\n",
    "        PipeFriction = PipeFriction.view(1, 1, -1) \n",
    "        pipe_pressure_minus = (abs(flow_Y)**1.852) * PipeFriction \n",
    "        pipe_pressure_minus = torch.where(flow_Y > 0, \n",
    "                                        pipe_pressure_minus, \n",
    "                                        -pipe_pressure_minus)\n",
    "\n",
    "        loss2_1 = torch.sum((torch.abs((flow_Y @ IncidenceMatrix.t()) + demand_Y)*100)** 2)/96           #  100 -->  targer<0.01 节点流量方程\n",
    "        loss2_2 = torch.sum((torch.abs((pipe_pressure_minus @ CycleMatrix.t()))*10)** 2)/96              #  10  -->  targer<0.1   环能量方程\n",
    "        loss2_3 = torch.sum((torch.abs((pressure_Y @ IncidenceMatrix) - pipe_pressure_minus)*10)** 2)/96 #  10  -->  targer<0.1   管段压降方程\n",
    "\n",
    "        return loss2_1, loss2_2, loss2_3"
   ]
  },
  {
   "cell_type": "code",
   "execution_count": 4,
   "metadata": {},
   "outputs": [],
   "source": [
    "class ConservationConstraints_generalization(nn.Module):\n",
    "    def __init__(self):\n",
    "        super(ConservationConstraints_generalization, self).__init__()\n",
    "        \n",
    "    def forward(self, pressure_Y, flow_Y, demand_Y, PipeFriction, IncidenceMatrix, CycleMatrix):\n",
    "        \n",
    "        # Part 2: Conservation Constraints —— (10.67 Q^1.852L)/(C^1.852 D^4.87)\n",
    "        PipeFriction = PipeFriction.view(1,  -1) \n",
    "        pipe_pressure_minus = (abs(flow_Y)**1.852) * PipeFriction \n",
    "        pipe_pressure_minus = torch.where(flow_Y > 0, \n",
    "                                        pipe_pressure_minus, \n",
    "                                        -pipe_pressure_minus)\n",
    "        loss2_1 = torch.sum((torch.abs((flow_Y @ IncidenceMatrix.t()) + demand_Y))** 2, dim=0)/96            #  100 -->  targer<0.01 节点流量方程\n",
    "        loss2_2 = torch.sum((torch.abs((pipe_pressure_minus @ CycleMatrix.t())))** 2, dim=0)/96              #  10  -->  targer<0.1   环能量方程\n",
    "        loss2_3 = torch.sum((torch.abs((pressure_Y @ IncidenceMatrix) - pipe_pressure_minus))** 2, dim=0)/96 #  10  -->  targer<0.1   管段压降方程\n",
    "        \n",
    "        return loss2_1, loss2_2, loss2_3"
   ]
  },
  {
   "cell_type": "markdown",
   "metadata": {},
   "source": [
    "# Masking"
   ]
  },
  {
   "cell_type": "code",
   "execution_count": 5,
   "metadata": {},
   "outputs": [],
   "source": [
    "def apply_mask(args, pressure_data, flow_data, demand_data):\n",
    "    ''' \n",
    "    生成两步掩码：一步掩码张量用于掩盖只剩传感器，二步掩码张量用于继续掩盖传感器\n",
    "    1. 只有传感器：masked_tensor1 / 掩码方式：mask1\n",
    "    2. 再对传感器进行掩盖：masked_tensor2 / 掩码方式：mask2\n",
    "    '''\n",
    "    pressure_sensor_name = json.loads(args.pressure_sensor_name)\n",
    "    flow_sensor_name = json.loads(args.flow_sensor_name)\n",
    "    demand_sensor_name = json.loads(args.demand_sensor_name)\n",
    "\n",
    "    # 将sensor_index转换为整数类型\n",
    "    pressure_sensor_index = [int(i)-1 for i in pressure_sensor_name]\n",
    "    flow_sensor_index = [int(i)-1 for i in flow_sensor_name]\n",
    "    demand_sensor_index = [int(i)-1 for i in demand_sensor_name]\n",
    "\n",
    "    # 创建一个和输入张量形状相同的掩码\n",
    "    mask1_pressure = torch.zeros(pressure_data.shape)\n",
    "    mask1_flow     = torch.zeros(flow_data.shape)\n",
    "    mask1_demand   = torch.zeros(pressure_data.shape)\n",
    "    mask1_pressure[:,pressure_sensor_index] = 1\n",
    "    mask1_flow[:,flow_sensor_index] = 1\n",
    "    mask1_demand[:,demand_sensor_index] = 1\n",
    "    # 去掉mask1_demand的最后一列\n",
    "    mask1_demand_reduced = mask1_demand[:, :-1]\n",
    "\n",
    "    mask1_pressure = mask1_pressure.to(args.device)\n",
    "    mask1_flow = mask1_flow.to(args.device)\n",
    "    mask1_demand_reduced = mask1_demand_reduced.to(args.device)\n",
    "    \n",
    "    return (mask1_pressure, mask1_flow, mask1_demand_reduced)"
   ]
  },
  {
   "cell_type": "markdown",
   "metadata": {},
   "source": [
    "# DATA"
   ]
  },
  {
   "cell_type": "code",
   "execution_count": 6,
   "metadata": {},
   "outputs": [],
   "source": [
    "# def seq2instance(args, data):\n",
    "#     num_step, dims = data.shape\n",
    "#     # 每增加num_history步 都会产生一个训练样本\n",
    "#     num_sample = num_step // args.batch_size - 1\n",
    "#     # x 存储历史时间步数据\n",
    "#     x = torch.zeros(num_sample, args.batch_size, dims)\n",
    "#     # y 存储预测数据\n",
    "#     y = torch.zeros(num_sample, args.batch_size, dims)\n",
    "#     for i in range(num_sample):\n",
    "#         j = i * args.num_history\n",
    "#         x[i] = data[j: j + args.batch_size]\n",
    "#         y[i] = data[j: j + args.batch_size]\n",
    "#     # print(\"x.shape:\",x.shape, \"y.shape:\", y.shape)\n",
    "#     return x, y\n",
    "\n",
    "def seq2instance(args, data):\n",
    "    num_step, dims = data.shape\n",
    "    # 每增加一步 都会产生一个训练样本\n",
    "    num_sample = num_step - args.batch_size - args.batch_size + 1\n",
    "    # x 存储历史时间步数据\n",
    "    x = torch.zeros(num_sample, args.batch_size, dims)\n",
    "    # y 存储预测数据\n",
    "    y = torch.zeros(num_sample, args.batch_size, dims)\n",
    "    for i in range(num_sample):\n",
    "        x[i] = data[i: i + args.batch_size]\n",
    "        y[i] = data[i: i + args.batch_size]\n",
    "    return x, y\n",
    "\n",
    "# 将时间序列数据划分为多个训练样本\n",
    "class CustomDataset(Dataset):\n",
    "    def __init__(self, args, dataset_type='train'):\n",
    "        # 读取数据和嵌入\n",
    "        self.args = args\n",
    "        self.dataset_type = dataset_type\n",
    "        \n",
    "        # 计算训练集、验证集和测试集的时间步数\n",
    "        train_steps = round(args.train_ratio * args.num_step)\n",
    "        test_steps = round(args.test_ratio * args.num_step)\n",
    "        val_steps = args.num_step - train_steps - test_steps\n",
    "\n",
    "        # 读取节点压力、节点用水量、管道流量数据 \n",
    "        NodePressure = pd.read_csv(args.water_pressure_file, header=0, index_col=0)\n",
    "        PipeFlow = pd.read_csv(args.water_flow_file, header=0, index_col=0)\n",
    "        NodeDemand = pd.read_csv(args.water_demand_file, header=0, index_col=0)\n",
    "\n",
    "        # min-max 归一化\n",
    "        NodePressure_ = (NodePressure - NodePressure.min().min()) / (NodePressure.max().max() - NodePressure.min().min())\n",
    "        PipeFlow_ = (PipeFlow - PipeFlow.min().min()) / (PipeFlow.max().max() - PipeFlow.min().min())\n",
    "        NodeDemand_ = (NodeDemand - (NodeDemand.iloc[:, :-1]).min().min()) / (NodeDemand.max().max() - (NodeDemand.iloc[:, :-1]).min().min())\n",
    "\n",
    "        NodePressure = torch.FloatTensor(NodePressure_.values)\n",
    "        PipeFlow = torch.FloatTensor(PipeFlow_.values)\n",
    "        NodeDemand = torch.FloatTensor(NodeDemand_.values)\n",
    "\n",
    "        # 分割数据集\n",
    "        self.train_pressure = NodePressure[: train_steps]\n",
    "        self.train_flow     = PipeFlow[: train_steps]\n",
    "        self.train_demand   = NodeDemand[: train_steps]\n",
    "\n",
    "        self.val_pressure   = NodePressure[train_steps: train_steps + val_steps]\n",
    "        self.val_flow       = PipeFlow[train_steps: train_steps + val_steps]\n",
    "        self.val_demand     = NodeDemand[train_steps: train_steps + val_steps]\n",
    "\n",
    "        self.test_pressure  = NodePressure[-test_steps:]\n",
    "        self.test_flow      = PipeFlow[-test_steps:]\n",
    "        self.test_demand    = NodeDemand[-test_steps:]\n",
    "\n",
    "        self.trainX_pressure, self.trainY_pressure = seq2instance(args, self.train_pressure)\n",
    "        self.trainX_flow, self.trainY_flow = seq2instance(args, self.train_flow)\n",
    "        self.trainX_demand, self.trainY_demand = seq2instance(args, self.train_demand)\n",
    "\n",
    "        self.valX_pressure, self.valY_pressure = seq2instance(args, self.val_pressure)\n",
    "        self.valX_flow, self.valY_flow = seq2instance(args, self.val_flow)\n",
    "        self.valX_demand, self.valY_demand = seq2instance(args, self.val_demand)\n",
    "\n",
    "        self.testX_pressure, self.testY_pressure = seq2instance(args, self.test_pressure)\n",
    "        self.testX_flow, self.testY_flow = seq2instance(args, self.test_flow)\n",
    "        self.testX_demand, self.testY_demand = seq2instance(args, self.test_demand)\n",
    "\n",
    "    def __len__(self):\n",
    "        if self.dataset_type == 'train':\n",
    "            return len(self.trainX_pressure)\n",
    "        elif self.dataset_type == 'val':\n",
    "            return len(self.valX_pressure)\n",
    "        elif self.dataset_type == 'test':\n",
    "            return len(self.testX_pressure)\n",
    "        \n",
    "    def __getitem__(self, idx):\n",
    "        if self.dataset_type == 'train':\n",
    "            return (self.trainX_pressure[idx].to(self.args.device), self.trainY_pressure[idx].to(self.args.device),\n",
    "                    self.trainX_flow[idx].to(self.args.device), self.trainY_flow[idx].to(self.args.device),\n",
    "                    self.trainX_demand[idx].to(self.args.device), self.trainY_demand[idx].to(self.args.device)\n",
    "                    )\n",
    "        \n",
    "        elif self.dataset_type == 'val':\n",
    "            return (self.valX_pressure[idx].to(self.args.device), self.valY_pressure[idx].to(self.args.device),\n",
    "                    self.valX_flow[idx].to(self.args.device), self.valY_flow[idx].to(self.args.device),\n",
    "                    self.valX_demand[idx].to(self.args.device), self.valY_demand[idx].to(self.args.device)\n",
    "                    )\n",
    "\n",
    "        elif self.dataset_type == 'test':\n",
    "            return (self.testX_pressure[idx].to(self.args.device), self.testY_pressure[idx].to(self.args.device), \n",
    "                    self.testX_flow[idx].to(self.args.device), self.testY_flow[idx].to(self.args.device),\n",
    "                    self.testX_demand[idx].to(self.args.device), self.testY_demand[idx].to(self.args.device)\n",
    "                    )  "
   ]
  },
  {
   "cell_type": "code",
   "execution_count": 7,
   "metadata": {},
   "outputs": [],
   "source": [
    "def load_matrix(args):\n",
    "    # 读取点文件\n",
    "    nodes_df = pd.read_csv(args.node_file, header=0, index_col=0)\n",
    "    nodes_attr = torch.from_numpy(nodes_df.values).float().to(args.device)\n",
    "\n",
    "    # 读取边文件 —— edge weight和海增威廉公式匹配 (10.67*L)/(C^1.852 D^4.87)\n",
    "    edge_df = pd.read_csv(args.edge_file, header=0, index_col=0)\n",
    "    edge_index  = edge_df.iloc[:, 0:2].T  # 第0列到第1列\n",
    "    edge_attr = edge_df.iloc[:, 2:7]      # 第2列到第6列\n",
    "    edge_index = torch.from_numpy(edge_index.values).long().to(args.device)\n",
    "    edge_attr = torch.from_numpy(edge_attr.values).float().to(args.device)\n",
    "\n",
    "    # 生成图数据\n",
    "    Graph_Data = Data(x=nodes_attr, edge_index=edge_index, edge_attr=edge_attr)\n",
    "\n",
    "    # 取出edge_df最后一列\n",
    "    PipeFriction = edge_df.iloc[:, -1].values\n",
    "    pipe_friction = torch.from_numpy(PipeFriction).float().to(args.device)\n",
    "    \n",
    "    # 读取关联矩阵文件\n",
    "    incidence_matrix_df = pd.read_csv(args.incidence_file, header=None, index_col=None)\n",
    "    incidence_matrix = torch.from_numpy(incidence_matrix_df.values).float().to(args.device)\n",
    "    # 读取循环矩阵文件\n",
    "    cycle_matrix_df = pd.read_csv(args.cycle_file, header=0, index_col=0)\n",
    "    cycle_matrix = torch.from_numpy(cycle_matrix_df.values).float().to(args.device)\n",
    "\n",
    "    return Graph_Data, pipe_friction, incidence_matrix, cycle_matrix"
   ]
  },
  {
   "cell_type": "markdown",
   "metadata": {},
   "source": [
    "# Utiles"
   ]
  },
  {
   "cell_type": "code",
   "execution_count": 8,
   "metadata": {},
   "outputs": [],
   "source": [
    "class IOStream():\n",
    "    \"\"\"训练日志文件\"\"\"\n",
    "    def __init__(self, path):\n",
    "        self.file = open(path, 'a') # 附加模式：用于在文件末尾添加内容，如果文件不存在则创建新文件\n",
    "\n",
    "    def cprint(self, text):\n",
    "        print(text)\n",
    "        self.file.write(text + '\\n')\n",
    "        self.file.flush() # 确保将写入的内容刷新到文件中，以防止数据在缓冲中滞留\n",
    "\n",
    "    def close(self):\n",
    "        self.file.close()\n",
    "\n",
    "def table_printer(args):\n",
    "    \"\"\"绘制参数表格\"\"\"\n",
    "    args = vars(args) # 转成字典类型\n",
    "    keys = sorted(args.keys()) # 按照字母顺序进行排序\n",
    "    table = Texttable()\n",
    "    table.set_cols_dtype(['t', 't']) # 列的类型都为文本(str)\n",
    "    rows = [[\"Parameter\", \"Value\"]] # 设置表头\n",
    "    for k in keys:\n",
    "        rows.append([k.replace(\"_\", \" \").capitalize(), str(args[k])]) # 下划线替换成空格，首字母大写\n",
    "    table.add_rows(rows)\n",
    "    return table.draw()"
   ]
  },
  {
   "cell_type": "markdown",
   "metadata": {},
   "source": [
    "# KAN Parts"
   ]
  },
  {
   "cell_type": "code",
   "execution_count": 9,
   "metadata": {},
   "outputs": [],
   "source": [
    "# 基于切比雪夫基函数的KAN层\n",
    "class ChebyshevKANLayer(nn.Module):\n",
    "    def __init__(self, input_dim, output_dim, degree):\n",
    "        super(ChebyshevKANLayer, self).__init__()\n",
    "        self.inputdim = input_dim\n",
    "        self.outdim = output_dim\n",
    "        self.ChebyshevDegree = degree\n",
    "        self.addbias  = True\n",
    "        self.cheby_coeffs = nn.Parameter(torch.empty(input_dim, output_dim, degree + 1))\n",
    "        nn.init.normal(self.cheby_coeffs, mean=0.0, std=1/(input_dim * (degree + 1)))\n",
    "        self.bias = nn.Parameter(torch.zeros(1, output_dim))\n",
    "\n",
    "    def forward(self, x):\n",
    "        xshp = x.shape                          # (seq_length, inputdim)\n",
    "        outshape = xshp[0:-1] + (self.outdim,)  # (seq_length, outdim)\n",
    "        x = x.view(-1, self.inputdim)           # (seq_length, inputdim)\n",
    "\n",
    "        x = torch.tanh(x)\n",
    "\n",
    "        cheby = torch.ones(x.shape[0], self.inputdim, self.ChebyshevDegree + 1, device=x.device)\n",
    "        if self.ChebyshevDegree > 0:\n",
    "            cheby[:, :, 1] = x\n",
    "        for i in range(2, self.ChebyshevDegree + 1):\n",
    "            cheby[:, :, i] = 2 * x * cheby[:, :, i - 1].clone() - cheby[:, :, i - 2].clone()\n",
    "\n",
    "        # Compute the Chebyshev interpolation\n",
    "        # (seq_length, inputdim, degree+1) x (inputdim, output_dim, degree+1) -> (seq_length, output_dim)\n",
    "        y = torch.einsum('bid,iod->bo', cheby, self.cheby_coeffs)\n",
    "\n",
    "        # y += self.bias\n",
    "\n",
    "        y = y.view(outshape) \n",
    "        \n",
    "        return y"
   ]
  },
  {
   "cell_type": "code",
   "execution_count": 10,
   "metadata": {},
   "outputs": [],
   "source": [
    "# 傅里叶基函数\n",
    "class FourierKANLayer(nn.Module):\n",
    "    def __init__(self, input_dim, output_dim, degree):\n",
    "        super(FourierKANLayer,self).__init__()\n",
    "        self.gridsize = degree\n",
    "        self.addbias  = True\n",
    "        self.inputdim = input_dim\n",
    "        self.outdim = output_dim\n",
    "\n",
    "        self.fouriercoeffs = nn.Parameter(\n",
    "                    torch.randn(2, output_dim, input_dim, degree) / \n",
    "                    (np.sqrt(input_dim) * np.sqrt(self.gridsize))\n",
    "                     )\n",
    "        nn.init.normal(self.fouriercoeffs, mean=0.0, std=1 / (np.sqrt(input_dim) * np.sqrt(self.gridsize)))\n",
    "        \n",
    "        self.bias = nn.Parameter(torch.zeros(1, output_dim))\n",
    "\n",
    "    def forward(self, x):\n",
    "        xshp = x.shape                          # (batch_size, seq_length, inputdim)\n",
    "        outshape = xshp[0:-1] + (self.outdim,)  # (batch_size, seq_lengtha, outdim)\n",
    "        x = torch.tanh(x)     \n",
    "\n",
    "        x = x.view(-1, self.inputdim)           # (batch_size*seq_length, inputdim)\n",
    "\n",
    "        # 创建傅里叶基函数--网格(1, 1, 1, gridsize)\n",
    "        k = torch.reshape(torch.arange(1, self.gridsize+1, device=x.device), (1, 1, 1, self.gridsize))\n",
    "        xrshp = x.view(x.shape[0], 1, x.shape[1], 1)   # (batch_size*seq_length, 1, inputdim, 1)\n",
    "\n",
    "        c = torch.cos(k * xrshp)\n",
    "        s = torch.sin(k * xrshp)\n",
    "\n",
    "        y1 = torch.sum(c * self.fouriercoeffs[0:1], (-2, -1)) \n",
    "        y2 = torch.sum(s * self.fouriercoeffs[1:2], (-2, -1))\n",
    "\n",
    "        y = y1 + y2\n",
    "        \n",
    "        # y += self.bias\n",
    "\n",
    "        # 还原(batch_size, seq_length, outdim)\n",
    "        y = y.view(outshape) \n",
    "        \n",
    "        return y\n",
    "        "
   ]
  },
  {
   "cell_type": "code",
   "execution_count": 11,
   "metadata": {},
   "outputs": [],
   "source": [
    "# 注意力机制\n",
    "class Attention(nn.Module):\n",
    "    def __init__(self, hidden_size):\n",
    "        super(Attention, self).__init__()\n",
    "        self.query_layer = nn.Linear(hidden_size, hidden_size)\n",
    "        self.key_layer   = nn.Linear(hidden_size, hidden_size)\n",
    "        self.value_layer = nn.Linear(hidden_size, hidden_size)\n",
    "\n",
    "        self.layer_norm  = nn.LayerNorm(hidden_size)\n",
    "\n",
    "    def forward(self, attention_from, attention_to):\n",
    "        # 计算注意力分数\n",
    "        query = self.query_layer(attention_from)    # (batch_size, hidden_size)\n",
    "        key = self.key_layer(attention_to)          # (batch_size, hidden_size)\n",
    "        value = self.value_layer(attention_from)    # (batch_size, hidden_size)\n",
    "\n",
    "        # 计算注意力权重\n",
    "        scores = torch.matmul(query, key.T)                # (batch_size, batch_size)\n",
    "        attention_weights = F.softmax(scores, dim=-1)      # 使用softmax计算归一化权重\n",
    "\n",
    "        # 计算加权输出\n",
    "        output = torch.matmul(attention_weights, value)  # (batch_size, hidden_size)\n",
    "        output = self.layer_norm(output)  # (batch_size, hidden_size)\n",
    "\n",
    "        return output"
   ]
  },
  {
   "cell_type": "markdown",
   "metadata": {},
   "source": [
    "# model"
   ]
  },
  {
   "cell_type": "code",
   "execution_count": 12,
   "metadata": {},
   "outputs": [],
   "source": [
    "class KANSA(nn.Module):\n",
    "    def __init__(self, args):\n",
    "        \"\"\"\n",
    "        :param num_layers: number of KANSA layers\n",
    "\n",
    "        :param input_node_dim: input dimension of node features\n",
    "        :param input_edge_dim: input dimension of edge features\n",
    "\n",
    "        :param max_path_distance: max pairwise distance between two nodes\n",
    "        \"\"\"\n",
    "        super().__init__()\n",
    "        self.batch_size = args.batch_size\n",
    "        self.ChebyshevDegree = args.ChebyshevDegree\n",
    "        self.FourierDegree = args.FourierDegree\n",
    "\n",
    "        self.num_nodes = args.num_nodes\n",
    "        self.num_edges = args.num_edges\n",
    "        self.hidden_dim = args.hidden_dim\n",
    "\n",
    "        ''' input ''' \n",
    "        # 时间特征\n",
    "        self.flow_batch = nn.Sequential(\n",
    "            nn.Linear(self.batch_size, self.hidden_dim),  \n",
    "            nn.Linear(self.hidden_dim, self.batch_size),\n",
    "            FourierKANLayer(self.batch_size, self.hidden_dim, self.FourierDegree),  \n",
    "            FourierKANLayer(self.hidden_dim, self.batch_size, self.FourierDegree),   \n",
    "            nn.LayerNorm(self.batch_size),            \n",
    "            )\n",
    "        self.pressure_batch = nn.Sequential(\n",
    "            nn.Linear(self.batch_size, self.hidden_dim), \n",
    "            nn.Linear(self.hidden_dim, self.batch_size),\n",
    "            FourierKANLayer(self.batch_size, self.hidden_dim, self.FourierDegree), \n",
    "            FourierKANLayer(self.hidden_dim, self.batch_size, self.FourierDegree),   \n",
    "            nn.LayerNorm(self.batch_size),    \n",
    "            )\n",
    "        self.demand_batch = nn.Sequential(\n",
    "            nn.Linear(self.batch_size, self.hidden_dim), \n",
    "            nn.Linear(self.hidden_dim, self.batch_size),\n",
    "            FourierKANLayer(self.batch_size, self.hidden_dim, self.FourierDegree),   \n",
    "            FourierKANLayer(self.hidden_dim, self.batch_size, self.FourierDegree),   \n",
    "            nn.LayerNorm(self.batch_size),      \n",
    "            )\n",
    "        # 空间特征\n",
    "        self.flow_features = nn.Sequential(\n",
    "            nn.Linear(self.num_edges, self.hidden_dim),\n",
    "            nn.Linear(self.hidden_dim, self.num_edges), \n",
    "            ChebyshevKANLayer(self.num_edges, self.hidden_dim, self.ChebyshevDegree),\n",
    "            ChebyshevKANLayer(self.hidden_dim, self.num_edges, self.ChebyshevDegree), \n",
    "            nn.LayerNorm(self.num_edges),\n",
    "            )\n",
    "        self.pressure_features = nn.Sequential(\n",
    "            nn.Linear(self.num_nodes, self.hidden_dim),\n",
    "            nn.Linear(self.hidden_dim, self.num_nodes),\n",
    "            ChebyshevKANLayer(self.num_nodes, self.hidden_dim, self.ChebyshevDegree),\n",
    "            ChebyshevKANLayer(self.hidden_dim, self.num_nodes, self.ChebyshevDegree), \n",
    "            nn.LayerNorm(self.num_nodes), \n",
    "            )\n",
    "        self.demand_features = nn.Sequential(\n",
    "            nn.Linear(self.num_nodes-1, self.hidden_dim),\n",
    "            nn.Linear(self.hidden_dim, self.num_nodes-1),\n",
    "            ChebyshevKANLayer(self.num_nodes-1, self.hidden_dim, self.ChebyshevDegree),\n",
    "            ChebyshevKANLayer(self.hidden_dim, self.num_nodes-1, self.ChebyshevDegree), \n",
    "            nn.LayerNorm(self.num_nodes-1), \n",
    "            )\n",
    "\n",
    "        self.pressure_1 = nn.Sequential(\n",
    "            nn.LayerNorm(self.num_nodes),\n",
    "            ChebyshevKANLayer(self.num_nodes, self.hidden_dim, self.ChebyshevDegree),\n",
    "            ChebyshevKANLayer(self.hidden_dim, self.hidden_dim, self.ChebyshevDegree)\n",
    "            )\n",
    "        self.pressure_2 = nn.Sequential(\n",
    "            nn.LayerNorm(self.num_nodes),\n",
    "            ChebyshevKANLayer(self.num_nodes, self.hidden_dim, self.ChebyshevDegree),\n",
    "            ChebyshevKANLayer(self.hidden_dim, self.hidden_dim, self.ChebyshevDegree),\n",
    "            )\n",
    "        self.flow_1 = nn.Sequential(\n",
    "            nn.LayerNorm(self.num_edges),\n",
    "            ChebyshevKANLayer(self.num_edges, self.hidden_dim, self.ChebyshevDegree),\n",
    "            ChebyshevKANLayer(self.hidden_dim, self.hidden_dim, self.ChebyshevDegree),\n",
    "            )\n",
    "        self.flow_2 = nn.Sequential(\n",
    "            nn.LayerNorm(self.num_edges),\n",
    "            ChebyshevKANLayer(self.num_edges, self.hidden_dim, self.ChebyshevDegree),\n",
    "            ChebyshevKANLayer(self.hidden_dim, self.hidden_dim, self.ChebyshevDegree),\n",
    "            )\n",
    "        self.demand_1 = nn.Sequential(\n",
    "            nn.LayerNorm(self.num_nodes-1),\n",
    "            ChebyshevKANLayer(self.num_nodes-1, self.hidden_dim, self.ChebyshevDegree),\n",
    "            ChebyshevKANLayer(self.hidden_dim, self.hidden_dim, self.ChebyshevDegree),\n",
    "            )\n",
    "        self.demand_2 = nn.Sequential(\n",
    "            nn.LayerNorm(self.num_nodes-1),\n",
    "            ChebyshevKANLayer(self.num_nodes-1, self.hidden_dim, self.ChebyshevDegree),\n",
    "            ChebyshevKANLayer(self.hidden_dim, self.hidden_dim, self.ChebyshevDegree),\n",
    "            )\n",
    "\n",
    "        self.pressure_sum = nn.Sequential(\n",
    "            nn.LayerNorm(self.hidden_dim),\n",
    "            ChebyshevKANLayer(self.hidden_dim, 2*self.hidden_dim, self.ChebyshevDegree),\n",
    "            ChebyshevKANLayer(2*self.hidden_dim, 2*self.hidden_dim, self.ChebyshevDegree),\n",
    "            )\n",
    "        self.flow_sum = nn.Sequential(\n",
    "            nn.LayerNorm(self.hidden_dim),\n",
    "            ChebyshevKANLayer(self.hidden_dim, 2*self.hidden_dim, self.ChebyshevDegree),\n",
    "            ChebyshevKANLayer(2*self.hidden_dim, 2*self.hidden_dim, self.ChebyshevDegree),\n",
    "            )\n",
    "        self.demand_sum = nn.Sequential(\n",
    "            nn.LayerNorm(self.hidden_dim),\n",
    "            ChebyshevKANLayer(self.hidden_dim, 2*self.hidden_dim, self.ChebyshevDegree),\n",
    "            ChebyshevKANLayer(2*self.hidden_dim, 2*self.hidden_dim, self.ChebyshevDegree),\n",
    "            )\n",
    "\n",
    "        # 处理器\n",
    "        self.graph = nn.Sequential(\n",
    "            nn.LayerNorm(3),\n",
    "            ChebyshevKANLayer(3, 12, self.ChebyshevDegree),\n",
    "            ChebyshevKANLayer(12, 1, self.ChebyshevDegree),\n",
    "            )\n",
    "\n",
    "        # 图特征解码\n",
    "        self.flow_out = nn.Sequential(\n",
    "            ChebyshevKANLayer(2*self.hidden_dim, 2*self.num_edges, self.ChebyshevDegree),\n",
    "            ChebyshevKANLayer(2*self.num_edges, self.num_edges, self.ChebyshevDegree),\n",
    "            nn.Linear(self.num_edges, self.num_edges),\n",
    "            nn.Linear(self.num_edges, self.num_edges),\n",
    "            nn.Sigmoid(),\n",
    "            )\n",
    "        self.pressure_out = nn.Sequential(\n",
    "            ChebyshevKANLayer(2*self.hidden_dim, 2*self.num_nodes, self.ChebyshevDegree),\n",
    "            ChebyshevKANLayer(2*self.num_nodes, self.num_nodes, self.ChebyshevDegree),\n",
    "            nn.Linear(self.num_nodes, self.num_nodes),\n",
    "            nn.Linear(self.num_nodes, self.num_nodes),\n",
    "            nn.Sigmoid(),\n",
    "            )\n",
    "        # Demand的最后一列是负的（只对前面列进行估计）\n",
    "        self.demand_out = nn.Sequential(\n",
    "            ChebyshevKANLayer(2*self.hidden_dim, 2*self.num_nodes, self.ChebyshevDegree),\n",
    "            ChebyshevKANLayer(2*self.num_nodes, self.num_nodes-1, self.ChebyshevDegree),\n",
    "            nn.Linear(self.num_nodes-1, self.num_nodes-1),\n",
    "            nn.Linear(self.num_nodes-1, self.num_nodes-1),\n",
    "            nn.Sigmoid(),\n",
    "            )\n",
    "\n",
    "    def forward(self, Graph_Data: Union[Data], \n",
    "                mask_pressure, mask_flow, mask_demand,\n",
    "                pressure, flow, demand) -> Tuple[torch.Tensor, torch.Tensor]:\n",
    "        # 修改架构，单独注意力\n",
    "        # 数据预处理\n",
    "        pressure_ = pressure.float()     # (batch_size, num_nodes)\n",
    "        flow_ = flow.float()             # (batch_size, num_edges)\n",
    "        demand_ = demand.float()         # (batch_size, num_nodes)\n",
    "\n",
    "        # 批次特征提取\n",
    "        pressure_batch      = self.pressure_batch(pressure_.T)     # (batch_size, num_nodes)\n",
    "        flow_batch          = self.flow_batch(flow_.T)             # (batch_size, num_edges)\n",
    "        demand_batch        = self.demand_batch(demand_.T)         # (batch_size, num_nodes)\n",
    "        # 节点特征提取\n",
    "        pressure_features   = self.pressure_features(pressure_)    # (batch_size, num_nodes)\n",
    "        flow_features       = self.flow_features(flow_)            # (batch_size, num_edges)\n",
    "        demand_features     = self.demand_features(demand_)        # (batch_size, num_nodes)\n",
    "        # 特征线性变换      \n",
    "        # 结合方式  * is better\n",
    "        pressure_batch_    = self.pressure_1(pressure_batch.T * (1-mask_pressure) + pressure_)\n",
    "        pressure_features_ = self.pressure_2(pressure_features * (1-mask_pressure) + pressure_)\n",
    "        pressure_st_       = pressure_batch_ * pressure_features_\n",
    "        \n",
    "        flow_batch_        = self.flow_1(flow_batch.T * (1-mask_flow) + flow_)\n",
    "        flow_features_     = self.flow_2(flow_features * (1-mask_flow) + flow_)\n",
    "        flow_st_           = flow_batch_ * flow_features_  \n",
    "\n",
    "        demand_batch_      = self.demand_1(demand_batch.T * (1-mask_demand)  + demand_)\n",
    "        demand_features_   = self.demand_2(demand_features * (1-mask_demand) + demand_)\n",
    "        demand_st_         = demand_batch_ * demand_features_\n",
    "\n",
    "        # 拼接\n",
    "        Graph_features = torch.cat((self.pressure_sum(pressure_st_).unsqueeze(-1), \n",
    "                                    self.flow_sum(flow_st_).unsqueeze(-1), \n",
    "                                    self.demand_sum(demand_st_).unsqueeze(-1)), \n",
    "                                    dim=-1)\n",
    "        graph_features = self.graph(Graph_features).squeeze(-1)\n",
    "\n",
    "        # 解码\n",
    "        pressure_dd = self.pressure_out(graph_features) * (1-mask_pressure)   + pressure_ \n",
    "        flow_dd = self.flow_out(graph_features)         * (1-mask_flow)       + flow_ \n",
    "        demand_dd = self.demand_out(graph_features)     * (1-mask_demand)     + demand_\n",
    "\n",
    "        return pressure_dd, flow_dd, demand_dd"
   ]
  },
  {
   "cell_type": "markdown",
   "metadata": {},
   "source": [
    "# Main"
   ]
  },
  {
   "cell_type": "code",
   "execution_count": 13,
   "metadata": {},
   "outputs": [],
   "source": [
    "def train(args, IO,  train_loader, val_loader, \n",
    "        min_pressure, max_pressure, min_flow, max_flow, min_demand, max_demand):\n",
    "    best_val_loss = float('inf')\n",
    "    patience = args.patience  \n",
    "    patience_counter = 0\n",
    "\n",
    "    # 使用GPU or CPU\n",
    "    device = torch.device('cuda' if torch.cuda.is_available() else 'cpu')\n",
    "    torch.cuda.manual_seed(args.seed)  \n",
    "    \n",
    "    # 加载需求数据\n",
    "    Graph_Data, pipe_friction, incidence_matrix, cycle_matrix = load_matrix(args)\n",
    "\n",
    "    # 加载模型及参数量统计\n",
    "    model = KANSA(args).to(device)\n",
    "\n",
    "    IO.cprint(str(model))\n",
    "    total_params = sum(p.numel() for p in model.parameters() if p.requires_grad)\n",
    "    IO.cprint('Model Parameter: {}'.format(total_params))\n",
    "    \n",
    "    # 优化器 RMSprop  Trick\n",
    "    optimizer = optim.RMSprop(model.parameters(), lr=args.learning_rate)\n",
    "    scheduler = optim.lr_scheduler.StepLR(optimizer,\n",
    "                                        step_size=args.decay_epoch,\n",
    "                                        gamma=args.gamma)\n",
    "    IO.cprint('Using RMSprop')\n",
    "\n",
    "    # 损失函数\n",
    "    criterion = ConservationConstraints()\n",
    "    # 保存损失\n",
    "    train_loss1_list = []\n",
    "    train_loss2_list = []\n",
    "    train_loss3_list = []\n",
    "    val_loss1_list = []\n",
    "    val_loss2_list = []\n",
    "    val_loss3_list = []\n",
    "    start_time = time.time()\n",
    "    for epoch in range(args.max_epoch):\n",
    "        #################\n",
    "        ###   Train   ###\n",
    "        #################\n",
    "        model.train()  \n",
    "        train_loss1 = 0.0 \n",
    "        train_loss2 = 0.0\n",
    "        train_loss3 = 0.0\n",
    "        pressure_True = torch.Tensor().to(args.device)\n",
    "        pressure_Est  = torch.Tensor().to(args.device)\n",
    "        flow_True     = torch.Tensor().to(args.device)\n",
    "        flow_Est      = torch.Tensor().to(args.device)\n",
    "        demand_True   = torch.Tensor().to(args.device)\n",
    "        demand_Est    = torch.Tensor().to(args.device)\n",
    "\n",
    "        for i, data in tqdm(enumerate(train_loader), total=len(train_loader), desc=\"Train_Loader\"):\n",
    "            # 加载数据\n",
    "            (train_pressureX, train_pressureY, \n",
    "            train_flowX, train_flowY, \n",
    "            train_demandX, train_demandY) = data\n",
    "            train_pressureX = train_pressureX.squeeze(0)\n",
    "            train_flowX     = train_flowX.squeeze(0)\n",
    "            train_demandX   = train_demandX.squeeze(0)\n",
    "\n",
    "            # 随机掩码\n",
    "            (mask1_pressure, mask1_flow, mask1_demand)=apply_mask(args, train_pressureX, train_flowX, train_demandX)\n",
    "\n",
    "            # 掩码\n",
    "            train_pressureX_ = train_pressureX * mask1_pressure\n",
    "            train_flowX_     = train_flowX * mask1_flow\n",
    "            train_demandX_   = (train_demandX[:, :-1]) * mask1_demand\n",
    "\n",
    "            # model\n",
    "            pressure_Y, flow_Y, demand_Y = model(Graph_Data, mask1_pressure, mask1_flow, mask1_demand, \n",
    "                                                train_pressureX_, train_flowX_, train_demandX_)\n",
    "            # 给demand_Y添加最后一列\n",
    "            row_sums = torch.sum(demand_Y, dim=1, keepdim=True)\n",
    "            demand_Y = torch.cat((demand_Y, -row_sums), dim=1)\n",
    "\n",
    "            # min-max归一化还原\n",
    "            pressure_Y = (pressure_Y * (max_pressure - min_pressure) + min_pressure)\n",
    "            flow_Y     = (flow_Y     * (max_flow     - min_flow)     + min_flow)\n",
    "            demand_Y   = (demand_Y   * (max_demand   - min_demand)   + min_demand)\n",
    "            train_pressureX  = (train_pressureX  * (max_pressure - min_pressure) + min_pressure)\n",
    "            train_pressureX_ = (train_pressureX_ * (max_pressure - min_pressure) + min_pressure)\n",
    "            train_flowX      = (train_flowX      * (max_flow     - min_flow)     + min_flow)\n",
    "            train_flowX_     = (train_flowX_     * (max_flow     - min_flow)     + min_flow)\n",
    "            train_demandX    = (train_demandX    * (max_demand   - min_demand)   + min_demand)\n",
    "            train_demandX_   = (train_demandX_   * (max_demand   - min_demand)   + min_demand)\n",
    "            \n",
    "            # 计算损失\n",
    "            (loss1, loss2, loss3) = criterion(pressure_Y, flow_Y, demand_Y, pipe_friction, incidence_matrix, cycle_matrix)\n",
    "\n",
    "            # 数据保存\n",
    "            pressure_True = torch.cat((pressure_True, train_pressureX), 0)\n",
    "            pressure_Est  = torch.cat((pressure_Est, pressure_Y), 0)\n",
    "            flow_True     = torch.cat((flow_True,   train_flowX), 0)\n",
    "            flow_Est      = torch.cat((flow_Est,     flow_Y), 0)\n",
    "            demand_True   = torch.cat((demand_True, train_demandX), 0)\n",
    "            demand_Est    = torch.cat((demand_Est,   demand_Y), 0)\n",
    "\n",
    "            # l1+l2正则化\n",
    "            l1_norm = sum(p.abs().sum() for p in model.parameters())\n",
    "            l2_norm = sum(p.pow(2.0).sum() for p in model.parameters())\n",
    "            loss_ = loss1 + loss2 + loss3\n",
    "\n",
    "            loss = loss_ + args.l1_lambda * l1_norm + args.l2_lambda * l2_norm\n",
    "            loss.backward()\n",
    "\n",
    "            optimizer.step()\n",
    "            optimizer.zero_grad()\n",
    "\n",
    "            train_loss1 += (loss1).item()\n",
    "            train_loss2 += (loss2).item()\n",
    "            train_loss3 += (loss3).item()\n",
    "\n",
    "        scheduler.step()\n",
    "        avg_train_loss1 = (train_loss1) / len(train_loader.dataset)\n",
    "        avg_train_loss2 = (train_loss2) / len(train_loader.dataset)\n",
    "        avg_train_loss3 = (train_loss3) / len(train_loader.dataset)\n",
    "        # 绘图保存\n",
    "        train_loss1_list.append(avg_train_loss1)\n",
    "        train_loss2_list.append(avg_train_loss2)\n",
    "        train_loss3_list.append(avg_train_loss3)\n",
    "\n",
    "        IO.cprint('Epoch #{:03d}, Conservation1: {:.4f}, Conservation2: {:.4f}, Conservation3: {:.4f}'.format(\n",
    "                    epoch, (avg_train_loss1), (avg_train_loss2), (avg_train_loss3)\n",
    "                    ))\n",
    "\n",
    "        #################\n",
    "        ###   Valid   ###\n",
    "        #################\n",
    "        model.eval()\n",
    "        val_loss1 = 0.0\n",
    "        val_loss2 = 0.0\n",
    "        val_loss3 = 0.0\n",
    "        with torch.no_grad():\n",
    "            for i, data in tqdm(enumerate(val_loader), total=len(val_loader), desc=\"Val_Loader\"):\n",
    "\n",
    "                (val_pressureX, val_pressureY, \n",
    "                 val_flowX, val_flowY,\n",
    "                 val_demandX, val_demandY)= data\n",
    "                val_pressureX = val_pressureX.squeeze(0)\n",
    "                val_flowX     = val_flowX.squeeze(0)\n",
    "                val_demandX   = val_demandX.squeeze(0)\n",
    "\n",
    "                # 随机掩码\n",
    "                (mask1_pressure, mask1_flow, mask1_demand)=apply_mask(args, val_pressureX, val_flowX, val_demandX)\n",
    "                val_pressureX_ = val_pressureX * mask1_pressure\n",
    "                val_flowX_     = val_flowX * mask1_flow\n",
    "                val_demandX_   = (val_demandX[:, :-1]) * mask1_demand\n",
    "\n",
    "                pressure_Y, flow_Y, demand_Y = model(Graph_Data, mask1_pressure, mask1_flow, mask1_demand, val_pressureX_, val_flowX_, val_demandX_)\n",
    "                # 给demand_Y添加最后一列\n",
    "                row_sums = torch.sum(demand_Y, dim=1, keepdim=True)\n",
    "                demand_Y = torch.cat((demand_Y, -row_sums), dim=1)\n",
    "                \n",
    "                # min-max归一化还原\n",
    "                pressure_Y = (pressure_Y * (max_pressure - min_pressure) + min_pressure)\n",
    "                flow_Y     = (flow_Y     * (max_flow     - min_flow)     + min_flow)\n",
    "                demand_Y   = (demand_Y   * (max_demand   - min_demand)   + min_demand)\n",
    "                val_pressureX  = (val_pressureX * (max_pressure - min_pressure) + min_pressure)\n",
    "                val_flowX      = (val_flowX     * (max_flow     - min_flow)     + min_flow)\n",
    "                val_demandX    = (val_demandX   * (max_demand   - min_demand)   + min_demand)\n",
    "                val_pressureX_ = (val_pressureX_ * (max_pressure- min_pressure) + min_pressure)\n",
    "                val_flowX_     = (val_flowX_     * (max_flow    - min_flow)     + min_flow)\n",
    "                val_demandX_   = (val_demandX_   * (max_demand   - min_demand)  + min_demand)\n",
    "\n",
    "                # 计算损失\n",
    "                (loss1, loss2, loss3) = criterion(pressure_Y, flow_Y, demand_Y, pipe_friction, incidence_matrix, cycle_matrix)\n",
    "                \n",
    "                # 数据保存\n",
    "                pressure_True = torch.cat((pressure_True, val_pressureX), 0)\n",
    "                pressure_Est  = torch.cat((pressure_Est, pressure_Y), 0)\n",
    "                flow_True     = torch.cat((flow_True,   val_flowX), 0)\n",
    "                flow_Est      = torch.cat((flow_Est,     flow_Y), 0)\n",
    "                demand_True   = torch.cat((demand_True, val_demandX), 0)\n",
    "                demand_Est    = torch.cat((demand_Est,   demand_Y), 0)\n",
    "\n",
    "                # 误差计算\n",
    "                val_loss1 += loss1.item()\n",
    "                val_loss2 += loss2.item()\n",
    "                val_loss3 += loss3.item()\n",
    "        avg_val_loss1 = (val_loss1) / len(val_loader.dataset)\n",
    "        avg_val_loss2 = (val_loss2) / len(val_loader.dataset)\n",
    "        avg_val_loss3 = (val_loss3) / len(val_loader.dataset)\n",
    "        avg_val_loss = (avg_val_loss1 + avg_val_loss2 + avg_val_loss3)\n",
    "        # 绘图保存\n",
    "        val_loss1_list.append(avg_val_loss1)\n",
    "        val_loss2_list.append(avg_val_loss2)\n",
    "        val_loss3_list.append(avg_val_loss3)\n",
    "        \n",
    "        IO.cprint('Epoch #{:03d}, Conservation1: {:.4f}, Conservation2: {:.4f}, Conservation3: {:.4f}'.format(\n",
    "                epoch, (avg_val_loss1), (avg_val_loss2), (avg_val_loss3)\n",
    "                ))\n",
    "\n",
    "        # 选取最佳参数\n",
    "        if avg_val_loss < best_val_loss:\n",
    "            best_val_loss = avg_val_loss\n",
    "            patience_counter = 0\n",
    "            # 保存当前最佳模型\n",
    "            best_model_wts = model.state_dict()\n",
    "        else:\n",
    "            patience_counter += 1\n",
    "\n",
    "        # 检查是否达到提前停止条件\n",
    "        if patience_counter >= patience:\n",
    "            IO.cprint('Early stopping triggered. Best Val_Loss: {:.4f}'.format(best_val_loss))\n",
    "            break\n",
    "        \n",
    "    model.load_state_dict(best_model_wts)\n",
    "\n",
    "    torch.save(model, 'outputs/%s/model.pth' % args.exp_name)\n",
    "    IO.cprint('The current best model is saved in: {}'.format('******** outputs/%s/model.pth *********' % args.exp_name))\n",
    "    end_time = time.time()\n",
    "    IO.cprint('Total time: {:.4f}s'.format(end_time - start_time))\n",
    "    return (pressure_True, pressure_Est, flow_True, flow_Est, demand_True, demand_Est,\n",
    "            train_loss1_list, train_loss2_list, train_loss3_list, \n",
    "            val_loss1_list, val_loss2_list, val_loss3_list)"
   ]
  },
  {
   "cell_type": "code",
   "execution_count": 14,
   "metadata": {},
   "outputs": [],
   "source": [
    "def test(args, IO, test_loader, \n",
    "        min_pressure, max_pressure, min_flow, max_flow, min_demand, max_demand):\n",
    "    \"\"\"测试模型\"\"\"\n",
    "    device = torch.device('cuda' if torch.cuda.is_available() else 'cpu')\n",
    "\n",
    "    # 加载需求数据\n",
    "    Graph_Data, pipe_friction, incidence_matrix, cycle_matrix = load_matrix(args)\n",
    "    \n",
    "    # 输出内容保存在之前的训练日志里\n",
    "    IO.cprint('')\n",
    "    IO.cprint('********** TEST START **********')\n",
    "    IO.cprint('Reload Best Model')\n",
    "    IO.cprint('The current best model is saved in: {}'.format('******** outputs/%s/model.pth *********' % args.exp_name))\n",
    "\n",
    "    model = torch.load('outputs/%s/model.pth' % args.exp_name).to(device)\n",
    "    model = model.train()\n",
    "    \n",
    "    optimizer = optim.RMSprop(model.parameters(), lr=1e-7)\n",
    "                                        \n",
    "    ##############################\n",
    "    ### Test For Generalization ##\n",
    "    ##############################\n",
    "\n",
    "    # 损失函数\n",
    "    criterion1 = ConservationConstraints()\n",
    "    criterion2 = ConservationConstraints_generalization()\n",
    "\n",
    "    # 加载需求数据\n",
    "    offset = 0  # 初始偏移量\n",
    "    batch_size = 3 * 96\n",
    "\n",
    "    MAE_pressure = []\n",
    "    MAE_flow = []\n",
    "    MAE_demand = []\n",
    "    MAPE_pressure = []\n",
    "    MAPE_flow = []\n",
    "    MAPE_demand = []\n",
    "    R2_pressure = []\n",
    "    R2_flow = []\n",
    "    R2_demand = []\n",
    "    Loss1 = []\n",
    "    Loss2 = []\n",
    "    Loss3 = []\n",
    "\n",
    "    for loop_ in range(len(test_loader) - 3 * 96):\n",
    "\n",
    "        start_index = offset\n",
    "        end_index = min(start_index + batch_size, len(test_loader))\n",
    "        sliced_dataset = torch.utils.data.Subset(test_loader.dataset, range(start_index, end_index))\n",
    "        new_test_loader = torch.utils.data.DataLoader(sliced_dataset, batch_size=1, shuffle=False)\n",
    "\n",
    "        for i, data in tqdm(enumerate(new_test_loader), total=len(new_test_loader), desc=\"Test_Loader\"):\n",
    "            (test_pressureX, test_pressureY,\n",
    "            test_flowX, test_flowY, \n",
    "            test_demandX, test_demandY)= data\n",
    "            test_pressureX = test_pressureX.squeeze(0)\n",
    "            test_flowX     = test_flowX.squeeze(0)\n",
    "            test_demandX   = test_demandX.squeeze(0)\n",
    "\n",
    "            # 随机掩码\n",
    "            (mask1_pressure, mask1_flow, mask1_demand)=apply_mask(args, test_pressureX, test_flowX, test_demandX)\n",
    "\n",
    "            # 掩码\n",
    "            test_pressureX_ = test_pressureX * mask1_pressure\n",
    "            test_flowX_     = test_flowX * mask1_flow\n",
    "            test_demandX_   = (test_demandX[:, :-1]) * mask1_demand\n",
    "\n",
    "            pressure_Y, flow_Y, demand_Y = model(Graph_Data, mask1_pressure, mask1_flow, mask1_demand, test_pressureX_, test_flowX_ , test_demandX_)\n",
    "            # 给demand_Y添加最后一列\n",
    "            row_sums = torch.sum(demand_Y, dim=1, keepdim=True)\n",
    "            demand_Y = torch.cat((demand_Y, -row_sums), dim=1)\n",
    "        \n",
    "            # min-max归一化还原\n",
    "            pressure_Y = (pressure_Y * (max_pressure - min_pressure) + min_pressure)\n",
    "            flow_Y     = (flow_Y     * (max_flow     - min_flow)     + min_flow)\n",
    "            demand_Y   = (demand_Y   * (max_demand   - min_demand)   + min_demand)\n",
    "            test_pressureX = (test_pressureX * (max_pressure - min_pressure) + min_pressure)\n",
    "            test_flowX     = (test_flowX     * (max_flow     - min_flow)     + min_flow)\n",
    "            test_demandX   = (test_demandX   * (max_demand   - min_demand)   + min_demand)\n",
    "\n",
    "            (loss1, loss2, loss3) = criterion1(pressure_Y, flow_Y, demand_Y, pipe_friction, incidence_matrix, cycle_matrix)\n",
    "            loss_ = loss1 + loss2 + loss3\n",
    "            loss_.backward()\n",
    "            optimizer.step()\n",
    "            optimizer.zero_grad()\n",
    "\n",
    "            # 运行的最后一个批次进行保存\n",
    "            if i == len(new_test_loader) - 1:\n",
    "\n",
    "                IO.cprint('Loss1: {:.4f}, Loss2: {:.4f}, Loss3: {:.4f}'.format(loss1.item(), loss2.item(), loss3.item()))\n",
    "                (loss1, loss2, loss3) = criterion2(pressure_Y, flow_Y, demand_Y, pipe_friction, incidence_matrix, cycle_matrix)\n",
    "\n",
    "                # 数据处理\n",
    "                mae_pressure = torch.mean(torch.abs(pressure_Y - test_pressureX), dim=0)\n",
    "                mae_flow     = torch.mean(torch.abs(flow_Y - test_flowX), dim=0)\n",
    "                mae_demand   = torch.mean(torch.abs(demand_Y - test_demandX), dim=0)\n",
    "\n",
    "                mape_pressure = torch.mean(torch.abs((pressure_Y - test_pressureX) / test_pressureX), dim=0)\n",
    "                mape_flow     = torch.mean(torch.abs((flow_Y - test_flowX) / test_flowX), dim=0)\n",
    "                mape_demand   = torch.mean(torch.abs((demand_Y - test_demandX) / test_demandX), dim=0)\n",
    "\n",
    "                r2_pressure = 1 - (torch.sum(((pressure_Y - test_pressureX) ** 2), dim=0) / torch.sum((pressure_Y - torch.mean(pressure_Y)) ** 2, dim=0))\n",
    "                r2_flow     = 1 - (torch.sum(((flow_Y - test_flowX) ** 2), dim=0) / torch.sum((flow_Y - torch.mean(flow_Y)) ** 2, dim=0))\n",
    "                r2_demand   = 1 - (torch.sum(((demand_Y - test_demandX) ** 2), dim=0) / torch.sum((demand_Y - torch.mean(demand_Y)) ** 2, dim=0))\n",
    "\n",
    "                Loss1.append(loss1.detach().cpu().numpy())\n",
    "                Loss2.append(loss2.detach().cpu().numpy())\n",
    "                Loss3.append(loss3.detach().cpu().numpy())\n",
    "\n",
    "                MAE_pressure.append(mae_pressure.detach().cpu().numpy())\n",
    "                MAE_flow.append(mae_flow.detach().cpu().numpy())\n",
    "                MAE_demand.append(mae_demand.detach().cpu().numpy())\n",
    "\n",
    "                MAPE_pressure.append(mape_pressure.detach().cpu().numpy())\n",
    "                MAPE_flow.append(mape_flow.detach().cpu().numpy())\n",
    "                MAPE_demand.append(mape_demand.detach().cpu().numpy())\n",
    "\n",
    "                R2_pressure.append(r2_pressure.detach().cpu().numpy())\n",
    "                R2_flow.append(r2_flow.detach().cpu().numpy())  \n",
    "                R2_demand.append(r2_demand.detach().cpu().numpy())\n",
    "\n",
    "                offset += 1\n",
    "\n",
    "            del pressure_Y, flow_Y, demand_Y, loss1, loss2, loss3\n",
    "            del test_pressureX, test_flowX, test_demandX, test_pressureX_, test_flowX_, test_demandX_\n",
    "\n",
    "    return (Loss1, Loss2, Loss3,\n",
    "            MAE_pressure, MAE_flow, MAE_demand, \n",
    "            MAPE_pressure, MAPE_flow, MAPE_demand,\n",
    "            R2_pressure, R2_flow, R2_demand)"
   ]
  },
  {
   "cell_type": "code",
   "execution_count": 15,
   "metadata": {},
   "outputs": [],
   "source": [
    "args = parse_args()\n",
    "def exp_init():\n",
    "    \"\"\"实验初始化\"\"\"\n",
    "    if not os.path.exists('outputs'):\n",
    "        os.mkdir('outputs')\n",
    "    if not os.path.exists('outputs/' + args.exp_name):\n",
    "        os.mkdir('outputs/' + args.exp_name)"
   ]
  },
  {
   "cell_type": "code",
   "execution_count": 16,
   "metadata": {},
   "outputs": [
    {
     "name": "stdout",
     "output_type": "stream",
     "text": [
      "+----------------------+-------------------------------------------------------+\n",
      "|      Parameter       |                         Value                         |\n",
      "+======================+=======================================================+\n",
      "| Chebyshevdegree      | 8                                                     |\n",
      "+----------------------+-------------------------------------------------------+\n",
      "| Fourierdegree        | 6                                                     |\n",
      "+----------------------+-------------------------------------------------------+\n",
      "| Batch size           | 96                                                    |\n",
      "+----------------------+-------------------------------------------------------+\n",
      "| Cycle file           | D:/GraphormerForRobustness/dataset2/initial_cycle_mat |\n",
      "|                      | rix_dir.csv                                           |\n",
      "+----------------------+-------------------------------------------------------+\n",
      "| Decay epoch          | 1                                                     |\n",
      "+----------------------+-------------------------------------------------------+\n",
      "| Demand sensor name   | [\"2\", \"16\", \"19\", \"22\", \"24\"]                         |\n",
      "+----------------------+-------------------------------------------------------+\n",
      "| Device               | cuda                                                  |\n",
      "+----------------------+-------------------------------------------------------+\n",
      "| Edge adjacency file  | D:/GraphormerForRobustness/dataset/Apulia/edge_adjace |\n",
      "|                      | ncy_matrix.csv                                        |\n",
      "+----------------------+-------------------------------------------------------+\n",
      "| Edge file            | D:/GraphormerForRobustness/dataset2/edge_index_dir.cs |\n",
      "|                      | v                                                     |\n",
      "+----------------------+-------------------------------------------------------+\n",
      "| Exp name             | Exp                                                   |\n",
      "+----------------------+-------------------------------------------------------+\n",
      "| Flow sensor name     | [\"4\", \"7\", \"25\", \"28\", \"34\"]                          |\n",
      "+----------------------+-------------------------------------------------------+\n",
      "| Gamma                | 0.95                                                  |\n",
      "+----------------------+-------------------------------------------------------+\n",
      "| Hidden dim           | 12                                                    |\n",
      "+----------------------+-------------------------------------------------------+\n",
      "| Incidence file       | D:/GraphormerForRobustness/dataset2/initial_incidence |\n",
      "|                      | _matrix_dir.csv                                       |\n",
      "+----------------------+-------------------------------------------------------+\n",
      "| L1 lambda            | 0.0                                                   |\n",
      "+----------------------+-------------------------------------------------------+\n",
      "| L2 lambda            | 0.0                                                   |\n",
      "+----------------------+-------------------------------------------------------+\n",
      "| Learning rate        | 2e-05                                                 |\n",
      "+----------------------+-------------------------------------------------------+\n",
      "| Max epoch            | 50                                                    |\n",
      "+----------------------+-------------------------------------------------------+\n",
      "| Node adjacency file  | D:/GraphormerForRobustness/dataset/Apulia/node_adjace |\n",
      "|                      | ncy_matrix.csv                                        |\n",
      "+----------------------+-------------------------------------------------------+\n",
      "| Node file            | D:/GraphormerForRobustness/dataset/Apulia_2/node_feat |\n",
      "|                      | ures_Apulia2.csv                                      |\n",
      "+----------------------+-------------------------------------------------------+\n",
      "| Num edges            | 34                                                    |\n",
      "+----------------------+-------------------------------------------------------+\n",
      "| Num history          | 1                                                     |\n",
      "+----------------------+-------------------------------------------------------+\n",
      "| Num nodes            | 24                                                    |\n",
      "+----------------------+-------------------------------------------------------+\n",
      "| Num step             | 8640                                                  |\n",
      "+----------------------+-------------------------------------------------------+\n",
      "| Patience             | 10                                                    |\n",
      "+----------------------+-------------------------------------------------------+\n",
      "| Pressure sensor name | [\"4\", \"13\", \"14\", \"23\", \"24\"]                         |\n",
      "+----------------------+-------------------------------------------------------+\n",
      "| Seed                 | 10                                                    |\n",
      "+----------------------+-------------------------------------------------------+\n",
      "| Test ratio           | 0.3333333333333333                                    |\n",
      "+----------------------+-------------------------------------------------------+\n",
      "| Train ratio          | 0.5                                                   |\n",
      "+----------------------+-------------------------------------------------------+\n",
      "| Val ratio            | 0.16666666666666666                                   |\n",
      "+----------------------+-------------------------------------------------------+\n",
      "| Water demand file    | D:/GraphormerForRobustness/dataset2/demand_patten_361 |\n",
      "|                      | 2/simulate_demand3.csv                                |\n",
      "+----------------------+-------------------------------------------------------+\n",
      "| Water flow file      | D:/GraphormerForRobustness/dataset2/demand_patten_361 |\n",
      "|                      | 2/simulate_flow3.csv                                  |\n",
      "+----------------------+-------------------------------------------------------+\n",
      "| Water pressure file  | D:/GraphormerForRobustness/dataset2/demand_patten_361 |\n",
      "|                      | 2/simulate_pressure3.csv                              |\n",
      "+----------------------+-------------------------------------------------------+\n",
      "\n",
      "********** TEST START **********\n",
      "Reload Best Model\n",
      "The current best model is saved in: ******** outputs/Exp/model.pth *********\n"
     ]
    },
    {
     "name": "stderr",
     "output_type": "stream",
     "text": [
      "Test_Loader: 100%|██████████| 288/288 [00:30<00:00,  9.30it/s]\n"
     ]
    },
    {
     "name": "stdout",
     "output_type": "stream",
     "text": [
      "Loss1: 3.3857, Loss2: 1.1956, Loss3: 7.6036\n"
     ]
    },
    {
     "name": "stderr",
     "output_type": "stream",
     "text": [
      "Test_Loader: 100%|██████████| 288/288 [00:31<00:00,  9.25it/s]\n"
     ]
    },
    {
     "name": "stdout",
     "output_type": "stream",
     "text": [
      "Loss1: 3.2939, Loss2: 1.1587, Loss3: 6.8715\n"
     ]
    },
    {
     "name": "stderr",
     "output_type": "stream",
     "text": [
      "Test_Loader: 100%|██████████| 288/288 [00:30<00:00,  9.55it/s]\n"
     ]
    },
    {
     "name": "stdout",
     "output_type": "stream",
     "text": [
      "Loss1: 3.2210, Loss2: 1.1391, Loss3: 6.4156\n"
     ]
    },
    {
     "name": "stderr",
     "output_type": "stream",
     "text": [
      "Test_Loader: 100%|██████████| 288/288 [00:29<00:00,  9.61it/s]\n"
     ]
    },
    {
     "name": "stdout",
     "output_type": "stream",
     "text": [
      "Loss1: 3.2365, Loss2: 1.1491, Loss3: 6.3612\n"
     ]
    },
    {
     "name": "stderr",
     "output_type": "stream",
     "text": [
      "Test_Loader: 100%|██████████| 288/288 [00:30<00:00,  9.57it/s]\n"
     ]
    },
    {
     "name": "stdout",
     "output_type": "stream",
     "text": [
      "Loss1: 3.1801, Loss2: 1.1286, Loss3: 6.0709\n"
     ]
    },
    {
     "name": "stderr",
     "output_type": "stream",
     "text": [
      "Test_Loader: 100%|██████████| 288/288 [00:30<00:00,  9.38it/s]\n"
     ]
    },
    {
     "name": "stdout",
     "output_type": "stream",
     "text": [
      "Loss1: 3.1513, Loss2: 1.1349, Loss3: 5.9485\n"
     ]
    },
    {
     "name": "stderr",
     "output_type": "stream",
     "text": [
      "Test_Loader: 100%|██████████| 288/288 [00:28<00:00,  9.98it/s]\n"
     ]
    },
    {
     "name": "stdout",
     "output_type": "stream",
     "text": [
      "Loss1: 3.0959, Loss2: 1.1144, Loss3: 5.7384\n"
     ]
    },
    {
     "name": "stderr",
     "output_type": "stream",
     "text": [
      "Test_Loader: 100%|██████████| 288/288 [00:29<00:00,  9.66it/s]\n"
     ]
    },
    {
     "name": "stdout",
     "output_type": "stream",
     "text": [
      "Loss1: 3.0425, Loss2: 1.0892, Loss3: 5.5463\n"
     ]
    },
    {
     "name": "stderr",
     "output_type": "stream",
     "text": [
      "Test_Loader: 100%|██████████| 288/288 [00:31<00:00,  9.22it/s]\n"
     ]
    },
    {
     "name": "stdout",
     "output_type": "stream",
     "text": [
      "Loss1: 3.0052, Loss2: 1.0645, Loss3: 5.3695\n"
     ]
    },
    {
     "name": "stderr",
     "output_type": "stream",
     "text": [
      "Test_Loader: 100%|██████████| 288/288 [00:30<00:00,  9.60it/s]\n"
     ]
    },
    {
     "name": "stdout",
     "output_type": "stream",
     "text": [
      "Loss1: 2.9891, Loss2: 1.0481, Loss3: 5.2408\n"
     ]
    },
    {
     "name": "stderr",
     "output_type": "stream",
     "text": [
      "Test_Loader: 100%|██████████| 288/288 [00:28<00:00,  9.95it/s]\n"
     ]
    },
    {
     "name": "stdout",
     "output_type": "stream",
     "text": [
      "Loss1: 2.9684, Loss2: 1.0475, Loss3: 5.1196\n"
     ]
    },
    {
     "name": "stderr",
     "output_type": "stream",
     "text": [
      "Test_Loader: 100%|██████████| 288/288 [00:30<00:00,  9.52it/s]\n"
     ]
    },
    {
     "name": "stdout",
     "output_type": "stream",
     "text": [
      "Loss1: 2.8860, Loss2: 1.0262, Loss3: 4.9703\n"
     ]
    },
    {
     "name": "stderr",
     "output_type": "stream",
     "text": [
      "Test_Loader: 100%|██████████| 288/288 [00:30<00:00,  9.56it/s]\n"
     ]
    },
    {
     "name": "stdout",
     "output_type": "stream",
     "text": [
      "Loss1: 2.8598, Loss2: 1.0182, Loss3: 4.8896\n"
     ]
    },
    {
     "name": "stderr",
     "output_type": "stream",
     "text": [
      "Test_Loader: 100%|██████████| 288/288 [00:30<00:00,  9.33it/s]\n"
     ]
    },
    {
     "name": "stdout",
     "output_type": "stream",
     "text": [
      "Loss1: 2.8312, Loss2: 0.9970, Loss3: 4.8034\n"
     ]
    },
    {
     "name": "stderr",
     "output_type": "stream",
     "text": [
      "Test_Loader: 100%|██████████| 288/288 [00:31<00:00,  9.22it/s]\n"
     ]
    },
    {
     "name": "stdout",
     "output_type": "stream",
     "text": [
      "Loss1: 2.7937, Loss2: 0.9824, Loss3: 4.6751\n"
     ]
    },
    {
     "name": "stderr",
     "output_type": "stream",
     "text": [
      "Test_Loader: 100%|██████████| 288/288 [00:31<00:00,  9.14it/s]\n"
     ]
    },
    {
     "name": "stdout",
     "output_type": "stream",
     "text": [
      "Loss1: 2.7866, Loss2: 0.9853, Loss3: 4.5812\n"
     ]
    },
    {
     "name": "stderr",
     "output_type": "stream",
     "text": [
      "Test_Loader: 100%|██████████| 288/288 [00:31<00:00,  9.05it/s]\n"
     ]
    },
    {
     "name": "stdout",
     "output_type": "stream",
     "text": [
      "Loss1: 2.7670, Loss2: 0.9595, Loss3: 4.5130\n"
     ]
    },
    {
     "name": "stderr",
     "output_type": "stream",
     "text": [
      "Test_Loader: 100%|██████████| 288/288 [00:29<00:00,  9.68it/s]\n"
     ]
    },
    {
     "name": "stdout",
     "output_type": "stream",
     "text": [
      "Loss1: 2.7595, Loss2: 0.9526, Loss3: 4.4164\n"
     ]
    },
    {
     "name": "stderr",
     "output_type": "stream",
     "text": [
      "Test_Loader: 100%|██████████| 288/288 [00:28<00:00,  9.95it/s]\n"
     ]
    },
    {
     "name": "stdout",
     "output_type": "stream",
     "text": [
      "Loss1: 2.7343, Loss2: 0.9386, Loss3: 4.3757\n"
     ]
    },
    {
     "name": "stderr",
     "output_type": "stream",
     "text": [
      "Test_Loader: 100%|██████████| 288/288 [00:28<00:00, 10.20it/s]\n"
     ]
    },
    {
     "name": "stdout",
     "output_type": "stream",
     "text": [
      "Loss1: 2.7292, Loss2: 0.9362, Loss3: 4.2898\n"
     ]
    },
    {
     "name": "stderr",
     "output_type": "stream",
     "text": [
      "Test_Loader: 100%|██████████| 288/288 [00:28<00:00,  9.96it/s]\n"
     ]
    },
    {
     "name": "stdout",
     "output_type": "stream",
     "text": [
      "Loss1: 2.6999, Loss2: 0.9304, Loss3: 4.2172\n"
     ]
    },
    {
     "name": "stderr",
     "output_type": "stream",
     "text": [
      "Test_Loader: 100%|██████████| 288/288 [00:29<00:00,  9.62it/s]\n"
     ]
    },
    {
     "name": "stdout",
     "output_type": "stream",
     "text": [
      "Loss1: 2.6901, Loss2: 0.9177, Loss3: 4.1397\n"
     ]
    },
    {
     "name": "stderr",
     "output_type": "stream",
     "text": [
      "Test_Loader: 100%|██████████| 288/288 [00:28<00:00,  9.95it/s]\n"
     ]
    },
    {
     "name": "stdout",
     "output_type": "stream",
     "text": [
      "Loss1: 2.6667, Loss2: 0.9148, Loss3: 4.0886\n"
     ]
    },
    {
     "name": "stderr",
     "output_type": "stream",
     "text": [
      "Test_Loader: 100%|██████████| 288/288 [00:29<00:00,  9.88it/s]\n"
     ]
    },
    {
     "name": "stdout",
     "output_type": "stream",
     "text": [
      "Loss1: 2.6819, Loss2: 0.9026, Loss3: 4.0544\n"
     ]
    },
    {
     "name": "stderr",
     "output_type": "stream",
     "text": [
      "Test_Loader: 100%|██████████| 288/288 [00:28<00:00, 10.07it/s]\n"
     ]
    },
    {
     "name": "stdout",
     "output_type": "stream",
     "text": [
      "Loss1: 2.6290, Loss2: 0.8975, Loss3: 3.9754\n"
     ]
    },
    {
     "name": "stderr",
     "output_type": "stream",
     "text": [
      "Test_Loader: 100%|██████████| 288/288 [00:28<00:00, 10.05it/s]\n"
     ]
    },
    {
     "name": "stdout",
     "output_type": "stream",
     "text": [
      "Loss1: 2.6232, Loss2: 0.8900, Loss3: 3.9280\n"
     ]
    },
    {
     "name": "stderr",
     "output_type": "stream",
     "text": [
      "Test_Loader: 100%|██████████| 288/288 [00:29<00:00,  9.68it/s]\n"
     ]
    },
    {
     "name": "stdout",
     "output_type": "stream",
     "text": [
      "Loss1: 2.6108, Loss2: 0.8802, Loss3: 3.9004\n"
     ]
    },
    {
     "name": "stderr",
     "output_type": "stream",
     "text": [
      "Test_Loader: 100%|██████████| 288/288 [00:30<00:00,  9.55it/s]\n"
     ]
    },
    {
     "name": "stdout",
     "output_type": "stream",
     "text": [
      "Loss1: 2.6046, Loss2: 0.8739, Loss3: 3.8680\n"
     ]
    },
    {
     "name": "stderr",
     "output_type": "stream",
     "text": [
      "Test_Loader: 100%|██████████| 288/288 [00:30<00:00,  9.59it/s]\n"
     ]
    },
    {
     "name": "stdout",
     "output_type": "stream",
     "text": [
      "Loss1: 2.5704, Loss2: 0.8700, Loss3: 3.8207\n"
     ]
    },
    {
     "name": "stderr",
     "output_type": "stream",
     "text": [
      "Test_Loader: 100%|██████████| 288/288 [00:29<00:00,  9.73it/s]\n"
     ]
    },
    {
     "name": "stdout",
     "output_type": "stream",
     "text": [
      "Loss1: 2.5746, Loss2: 0.8613, Loss3: 3.7660\n"
     ]
    },
    {
     "name": "stderr",
     "output_type": "stream",
     "text": [
      "Test_Loader: 100%|██████████| 288/288 [00:27<00:00, 10.43it/s]\n"
     ]
    },
    {
     "name": "stdout",
     "output_type": "stream",
     "text": [
      "Loss1: 2.5588, Loss2: 0.8529, Loss3: 3.7496\n"
     ]
    },
    {
     "name": "stderr",
     "output_type": "stream",
     "text": [
      "Test_Loader: 100%|██████████| 288/288 [00:29<00:00,  9.88it/s]\n"
     ]
    },
    {
     "name": "stdout",
     "output_type": "stream",
     "text": [
      "Loss1: 2.5585, Loss2: 0.8564, Loss3: 3.6988\n"
     ]
    },
    {
     "name": "stderr",
     "output_type": "stream",
     "text": [
      "Test_Loader: 100%|██████████| 288/288 [00:28<00:00, 10.15it/s]\n"
     ]
    },
    {
     "name": "stdout",
     "output_type": "stream",
     "text": [
      "Loss1: 2.5873, Loss2: 0.8794, Loss3: 3.7187\n"
     ]
    },
    {
     "name": "stderr",
     "output_type": "stream",
     "text": [
      "Test_Loader: 100%|██████████| 288/288 [00:30<00:00,  9.50it/s]\n"
     ]
    },
    {
     "name": "stdout",
     "output_type": "stream",
     "text": [
      "Loss1: 2.5778, Loss2: 0.8796, Loss3: 3.6656\n"
     ]
    },
    {
     "name": "stderr",
     "output_type": "stream",
     "text": [
      "Test_Loader: 100%|██████████| 288/288 [00:28<00:00,  9.94it/s]\n"
     ]
    },
    {
     "name": "stdout",
     "output_type": "stream",
     "text": [
      "Loss1: 2.4625, Loss2: 0.7899, Loss3: 2.8585\n"
     ]
    },
    {
     "name": "stderr",
     "output_type": "stream",
     "text": [
      "Test_Loader: 100%|██████████| 288/288 [00:29<00:00,  9.62it/s]\n"
     ]
    },
    {
     "name": "stdout",
     "output_type": "stream",
     "text": [
      "Loss1: 2.5419, Loss2: 0.7891, Loss3: 2.8637\n"
     ]
    },
    {
     "name": "stderr",
     "output_type": "stream",
     "text": [
      "Test_Loader: 100%|██████████| 288/288 [00:28<00:00,  9.96it/s]\n"
     ]
    },
    {
     "name": "stdout",
     "output_type": "stream",
     "text": [
      "Loss1: 2.3044, Loss2: 0.7746, Loss3: 2.7583\n"
     ]
    },
    {
     "name": "stderr",
     "output_type": "stream",
     "text": [
      "Test_Loader: 100%|██████████| 288/288 [00:29<00:00,  9.70it/s]\n"
     ]
    },
    {
     "name": "stdout",
     "output_type": "stream",
     "text": [
      "Loss1: 2.2777, Loss2: 0.7506, Loss3: 2.6877\n"
     ]
    },
    {
     "name": "stderr",
     "output_type": "stream",
     "text": [
      "Test_Loader: 100%|██████████| 288/288 [00:29<00:00,  9.61it/s]\n"
     ]
    },
    {
     "name": "stdout",
     "output_type": "stream",
     "text": [
      "Loss1: 2.2842, Loss2: 0.7707, Loss3: 2.6861\n"
     ]
    },
    {
     "name": "stderr",
     "output_type": "stream",
     "text": [
      "Test_Loader: 100%|██████████| 288/288 [00:30<00:00,  9.56it/s]\n"
     ]
    },
    {
     "name": "stdout",
     "output_type": "stream",
     "text": [
      "Loss1: 2.2673, Loss2: 0.7601, Loss3: 2.6622\n"
     ]
    },
    {
     "name": "stderr",
     "output_type": "stream",
     "text": [
      "Test_Loader: 100%|██████████| 288/288 [00:30<00:00,  9.58it/s]\n"
     ]
    },
    {
     "name": "stdout",
     "output_type": "stream",
     "text": [
      "Loss1: 2.2610, Loss2: 0.7618, Loss3: 2.6133\n"
     ]
    },
    {
     "name": "stderr",
     "output_type": "stream",
     "text": [
      "Test_Loader: 100%|██████████| 288/288 [00:28<00:00, 10.05it/s]\n"
     ]
    },
    {
     "name": "stdout",
     "output_type": "stream",
     "text": [
      "Loss1: 2.9768, Loss2: 1.0848, Loss3: 4.5799\n"
     ]
    },
    {
     "name": "stderr",
     "output_type": "stream",
     "text": [
      "Test_Loader: 100%|██████████| 288/288 [00:28<00:00, 10.08it/s]\n"
     ]
    },
    {
     "name": "stdout",
     "output_type": "stream",
     "text": [
      "Loss1: 3.2940, Loss2: 1.1967, Loss3: 4.7826\n"
     ]
    },
    {
     "name": "stderr",
     "output_type": "stream",
     "text": [
      "Test_Loader: 100%|██████████| 288/288 [00:27<00:00, 10.29it/s]\n"
     ]
    },
    {
     "name": "stdout",
     "output_type": "stream",
     "text": [
      "Loss1: 3.2752, Loss2: 1.1879, Loss3: 4.7812\n"
     ]
    },
    {
     "name": "stderr",
     "output_type": "stream",
     "text": [
      "Test_Loader: 100%|██████████| 288/288 [00:29<00:00,  9.61it/s]\n"
     ]
    },
    {
     "name": "stdout",
     "output_type": "stream",
     "text": [
      "Loss1: 2.9929, Loss2: 1.1474, Loss3: 4.5622\n"
     ]
    },
    {
     "name": "stderr",
     "output_type": "stream",
     "text": [
      "Test_Loader: 100%|██████████| 288/288 [00:31<00:00,  9.27it/s]\n"
     ]
    },
    {
     "name": "stdout",
     "output_type": "stream",
     "text": [
      "Loss1: 2.8567, Loss2: 1.0149, Loss3: 5.0231\n"
     ]
    },
    {
     "name": "stderr",
     "output_type": "stream",
     "text": [
      "Test_Loader: 100%|██████████| 288/288 [00:29<00:00,  9.87it/s]\n"
     ]
    },
    {
     "name": "stdout",
     "output_type": "stream",
     "text": [
      "Loss1: 2.9088, Loss2: 1.0032, Loss3: 4.8773\n"
     ]
    },
    {
     "name": "stderr",
     "output_type": "stream",
     "text": [
      "Test_Loader: 100%|██████████| 288/288 [00:29<00:00,  9.75it/s]\n"
     ]
    },
    {
     "name": "stdout",
     "output_type": "stream",
     "text": [
      "Loss1: 3.0565, Loss2: 1.0441, Loss3: 5.1439\n"
     ]
    },
    {
     "name": "stderr",
     "output_type": "stream",
     "text": [
      "Test_Loader: 100%|██████████| 288/288 [00:29<00:00,  9.76it/s]\n"
     ]
    },
    {
     "name": "stdout",
     "output_type": "stream",
     "text": [
      "Loss1: 3.1053, Loss2: 1.0491, Loss3: 5.2747\n"
     ]
    },
    {
     "name": "stderr",
     "output_type": "stream",
     "text": [
      "Test_Loader: 100%|██████████| 288/288 [00:29<00:00,  9.62it/s]\n"
     ]
    },
    {
     "name": "stdout",
     "output_type": "stream",
     "text": [
      "Loss1: 3.1110, Loss2: 1.0193, Loss3: 5.2240\n"
     ]
    },
    {
     "name": "stderr",
     "output_type": "stream",
     "text": [
      "Test_Loader: 100%|██████████| 288/288 [00:30<00:00,  9.52it/s]\n"
     ]
    },
    {
     "name": "stdout",
     "output_type": "stream",
     "text": [
      "Loss1: 3.1380, Loss2: 1.0201, Loss3: 5.1634\n"
     ]
    },
    {
     "name": "stderr",
     "output_type": "stream",
     "text": [
      "Test_Loader: 100%|██████████| 288/288 [00:29<00:00,  9.63it/s]\n"
     ]
    },
    {
     "name": "stdout",
     "output_type": "stream",
     "text": [
      "Loss1: 3.1449, Loss2: 1.0012, Loss3: 5.0667\n"
     ]
    },
    {
     "name": "stderr",
     "output_type": "stream",
     "text": [
      "Test_Loader: 100%|██████████| 288/288 [00:28<00:00, 10.01it/s]\n"
     ]
    },
    {
     "name": "stdout",
     "output_type": "stream",
     "text": [
      "Loss1: 3.0662, Loss2: 0.9928, Loss3: 4.9909\n"
     ]
    },
    {
     "name": "stderr",
     "output_type": "stream",
     "text": [
      "Test_Loader: 100%|██████████| 288/288 [00:27<00:00, 10.64it/s]\n"
     ]
    },
    {
     "name": "stdout",
     "output_type": "stream",
     "text": [
      "Loss1: 3.3096, Loss2: 1.0688, Loss3: 5.1146\n"
     ]
    },
    {
     "name": "stderr",
     "output_type": "stream",
     "text": [
      "Test_Loader: 100%|██████████| 288/288 [00:26<00:00, 10.73it/s]\n"
     ]
    },
    {
     "name": "stdout",
     "output_type": "stream",
     "text": [
      "Loss1: 3.4731, Loss2: 1.0990, Loss3: 5.3536\n"
     ]
    },
    {
     "name": "stderr",
     "output_type": "stream",
     "text": [
      "Test_Loader: 100%|██████████| 288/288 [00:26<00:00, 10.76it/s]\n"
     ]
    },
    {
     "name": "stdout",
     "output_type": "stream",
     "text": [
      "Loss1: 3.3178, Loss2: 1.0741, Loss3: 5.1734\n"
     ]
    },
    {
     "name": "stderr",
     "output_type": "stream",
     "text": [
      "Test_Loader: 100%|██████████| 288/288 [00:28<00:00,  9.93it/s]\n"
     ]
    },
    {
     "name": "stdout",
     "output_type": "stream",
     "text": [
      "Loss1: 3.3167, Loss2: 1.0621, Loss3: 5.0723\n"
     ]
    },
    {
     "name": "stderr",
     "output_type": "stream",
     "text": [
      "Test_Loader: 100%|██████████| 288/288 [00:29<00:00,  9.84it/s]\n"
     ]
    },
    {
     "name": "stdout",
     "output_type": "stream",
     "text": [
      "Loss1: 3.3920, Loss2: 1.0526, Loss3: 5.2860\n"
     ]
    },
    {
     "name": "stderr",
     "output_type": "stream",
     "text": [
      "Test_Loader: 100%|██████████| 288/288 [00:29<00:00,  9.82it/s]\n"
     ]
    },
    {
     "name": "stdout",
     "output_type": "stream",
     "text": [
      "Loss1: 3.3830, Loss2: 1.0563, Loss3: 5.2635\n"
     ]
    },
    {
     "name": "stderr",
     "output_type": "stream",
     "text": [
      "Test_Loader: 100%|██████████| 288/288 [00:28<00:00, 10.04it/s]\n"
     ]
    },
    {
     "name": "stdout",
     "output_type": "stream",
     "text": [
      "Loss1: 3.3468, Loss2: 1.0472, Loss3: 5.1719\n"
     ]
    },
    {
     "name": "stderr",
     "output_type": "stream",
     "text": [
      "Test_Loader: 100%|██████████| 288/288 [00:29<00:00,  9.91it/s]\n"
     ]
    },
    {
     "name": "stdout",
     "output_type": "stream",
     "text": [
      "Loss1: 3.3902, Loss2: 1.0686, Loss3: 5.1306\n"
     ]
    },
    {
     "name": "stderr",
     "output_type": "stream",
     "text": [
      "Test_Loader: 100%|██████████| 288/288 [00:29<00:00,  9.93it/s]\n"
     ]
    },
    {
     "name": "stdout",
     "output_type": "stream",
     "text": [
      "Loss1: 3.3780, Loss2: 1.0545, Loss3: 5.0421\n"
     ]
    },
    {
     "name": "stderr",
     "output_type": "stream",
     "text": [
      "Test_Loader: 100%|██████████| 288/288 [00:29<00:00,  9.83it/s]\n"
     ]
    },
    {
     "name": "stdout",
     "output_type": "stream",
     "text": [
      "Loss1: 3.3337, Loss2: 1.0451, Loss3: 4.9852\n"
     ]
    },
    {
     "name": "stderr",
     "output_type": "stream",
     "text": [
      "Test_Loader: 100%|██████████| 288/288 [00:30<00:00,  9.57it/s]\n"
     ]
    },
    {
     "name": "stdout",
     "output_type": "stream",
     "text": [
      "Loss1: 3.2921, Loss2: 1.0312, Loss3: 4.9167\n"
     ]
    },
    {
     "name": "stderr",
     "output_type": "stream",
     "text": [
      "Test_Loader: 100%|██████████| 288/288 [00:30<00:00,  9.48it/s]\n"
     ]
    },
    {
     "name": "stdout",
     "output_type": "stream",
     "text": [
      "Loss1: 3.3267, Loss2: 1.0289, Loss3: 4.9422\n"
     ]
    },
    {
     "name": "stderr",
     "output_type": "stream",
     "text": [
      "Test_Loader: 100%|██████████| 288/288 [00:29<00:00,  9.60it/s]\n"
     ]
    },
    {
     "name": "stdout",
     "output_type": "stream",
     "text": [
      "Loss1: 3.3179, Loss2: 1.0207, Loss3: 4.9174\n"
     ]
    },
    {
     "name": "stderr",
     "output_type": "stream",
     "text": [
      "Test_Loader: 100%|██████████| 288/288 [00:29<00:00,  9.83it/s]\n"
     ]
    },
    {
     "name": "stdout",
     "output_type": "stream",
     "text": [
      "Loss1: 3.2815, Loss2: 1.0257, Loss3: 4.8407\n"
     ]
    },
    {
     "name": "stderr",
     "output_type": "stream",
     "text": [
      "Test_Loader: 100%|██████████| 288/288 [00:27<00:00, 10.42it/s]\n"
     ]
    },
    {
     "name": "stdout",
     "output_type": "stream",
     "text": [
      "Loss1: 3.2600, Loss2: 1.0146, Loss3: 4.8007\n"
     ]
    },
    {
     "name": "stderr",
     "output_type": "stream",
     "text": [
      "Test_Loader: 100%|██████████| 288/288 [00:27<00:00, 10.33it/s]\n"
     ]
    },
    {
     "name": "stdout",
     "output_type": "stream",
     "text": [
      "Loss1: 3.2774, Loss2: 1.0149, Loss3: 4.7648\n"
     ]
    },
    {
     "name": "stderr",
     "output_type": "stream",
     "text": [
      "Test_Loader: 100%|██████████| 288/288 [00:30<00:00,  9.35it/s]\n"
     ]
    },
    {
     "name": "stdout",
     "output_type": "stream",
     "text": [
      "Loss1: 3.2732, Loss2: 1.0063, Loss3: 4.7172\n"
     ]
    },
    {
     "name": "stderr",
     "output_type": "stream",
     "text": [
      "Test_Loader: 100%|██████████| 288/288 [00:29<00:00,  9.72it/s]\n"
     ]
    },
    {
     "name": "stdout",
     "output_type": "stream",
     "text": [
      "Loss1: 3.2614, Loss2: 1.0060, Loss3: 4.7231\n"
     ]
    },
    {
     "name": "stderr",
     "output_type": "stream",
     "text": [
      "Test_Loader: 100%|██████████| 288/288 [00:28<00:00,  9.97it/s]\n"
     ]
    },
    {
     "name": "stdout",
     "output_type": "stream",
     "text": [
      "Loss1: 3.3592, Loss2: 1.1262, Loss3: 6.3617\n"
     ]
    },
    {
     "name": "stderr",
     "output_type": "stream",
     "text": [
      "Test_Loader: 100%|██████████| 288/288 [00:29<00:00,  9.91it/s]\n"
     ]
    },
    {
     "name": "stdout",
     "output_type": "stream",
     "text": [
      "Loss1: 3.3718, Loss2: 1.1333, Loss3: 6.2916\n"
     ]
    },
    {
     "name": "stderr",
     "output_type": "stream",
     "text": [
      "Test_Loader: 100%|██████████| 288/288 [00:28<00:00,  9.98it/s]\n"
     ]
    },
    {
     "name": "stdout",
     "output_type": "stream",
     "text": [
      "Loss1: 3.3039, Loss2: 1.1104, Loss3: 6.2272\n"
     ]
    },
    {
     "name": "stderr",
     "output_type": "stream",
     "text": [
      "Test_Loader: 100%|██████████| 288/288 [00:29<00:00,  9.88it/s]\n"
     ]
    },
    {
     "name": "stdout",
     "output_type": "stream",
     "text": [
      "Loss1: 3.2950, Loss2: 1.1068, Loss3: 6.1479\n"
     ]
    },
    {
     "name": "stderr",
     "output_type": "stream",
     "text": [
      "Test_Loader: 100%|██████████| 288/288 [00:29<00:00,  9.64it/s]\n"
     ]
    },
    {
     "name": "stdout",
     "output_type": "stream",
     "text": [
      "Loss1: 3.2262, Loss2: 1.0786, Loss3: 6.0792\n"
     ]
    },
    {
     "name": "stderr",
     "output_type": "stream",
     "text": [
      "Test_Loader: 100%|██████████| 288/288 [00:29<00:00,  9.62it/s]\n"
     ]
    },
    {
     "name": "stdout",
     "output_type": "stream",
     "text": [
      "Loss1: 3.2873, Loss2: 1.1006, Loss3: 6.1003\n"
     ]
    },
    {
     "name": "stderr",
     "output_type": "stream",
     "text": [
      "Test_Loader: 100%|██████████| 288/288 [00:29<00:00,  9.65it/s]\n"
     ]
    },
    {
     "name": "stdout",
     "output_type": "stream",
     "text": [
      "Loss1: 3.2896, Loss2: 1.0942, Loss3: 6.0599\n"
     ]
    },
    {
     "name": "stderr",
     "output_type": "stream",
     "text": [
      "Test_Loader: 100%|██████████| 288/288 [00:29<00:00,  9.69it/s]\n"
     ]
    },
    {
     "name": "stdout",
     "output_type": "stream",
     "text": [
      "Loss1: 3.3298, Loss2: 1.1392, Loss3: 6.1788\n"
     ]
    },
    {
     "name": "stderr",
     "output_type": "stream",
     "text": [
      "Test_Loader: 100%|██████████| 288/288 [00:28<00:00, 10.15it/s]\n"
     ]
    },
    {
     "name": "stdout",
     "output_type": "stream",
     "text": [
      "Loss1: 3.2688, Loss2: 1.1254, Loss3: 6.1135\n"
     ]
    },
    {
     "name": "stderr",
     "output_type": "stream",
     "text": [
      "Test_Loader: 100%|██████████| 288/288 [00:29<00:00,  9.78it/s]\n"
     ]
    },
    {
     "name": "stdout",
     "output_type": "stream",
     "text": [
      "Loss1: 3.4723, Loss2: 1.1468, Loss3: 6.2584\n"
     ]
    },
    {
     "name": "stderr",
     "output_type": "stream",
     "text": [
      "Test_Loader: 100%|██████████| 288/288 [00:29<00:00,  9.69it/s]\n"
     ]
    },
    {
     "name": "stdout",
     "output_type": "stream",
     "text": [
      "Loss1: 3.4132, Loss2: 1.1355, Loss3: 6.1824\n"
     ]
    },
    {
     "name": "stderr",
     "output_type": "stream",
     "text": [
      "Test_Loader: 100%|██████████| 288/288 [00:29<00:00,  9.68it/s]\n"
     ]
    },
    {
     "name": "stdout",
     "output_type": "stream",
     "text": [
      "Loss1: 3.3740, Loss2: 1.1139, Loss3: 6.1176\n"
     ]
    },
    {
     "name": "stderr",
     "output_type": "stream",
     "text": [
      "Test_Loader: 100%|██████████| 288/288 [00:30<00:00,  9.53it/s]\n"
     ]
    },
    {
     "name": "stdout",
     "output_type": "stream",
     "text": [
      "Loss1: 3.3147, Loss2: 1.1066, Loss3: 6.0202\n"
     ]
    },
    {
     "name": "stderr",
     "output_type": "stream",
     "text": [
      "Test_Loader: 100%|██████████| 288/288 [00:29<00:00,  9.76it/s]\n"
     ]
    },
    {
     "name": "stdout",
     "output_type": "stream",
     "text": [
      "Loss1: 3.2355, Loss2: 1.0957, Loss3: 5.9591\n"
     ]
    },
    {
     "name": "stderr",
     "output_type": "stream",
     "text": [
      "Test_Loader: 100%|██████████| 288/288 [00:29<00:00,  9.80it/s]\n"
     ]
    },
    {
     "name": "stdout",
     "output_type": "stream",
     "text": [
      "Loss1: 3.4827, Loss2: 1.1756, Loss3: 6.1178\n"
     ]
    },
    {
     "name": "stderr",
     "output_type": "stream",
     "text": [
      "Test_Loader: 100%|██████████| 288/288 [00:29<00:00,  9.78it/s]\n"
     ]
    },
    {
     "name": "stdout",
     "output_type": "stream",
     "text": [
      "Loss1: 3.5605, Loss2: 1.2429, Loss3: 6.3293\n"
     ]
    },
    {
     "name": "stderr",
     "output_type": "stream",
     "text": [
      "Test_Loader: 100%|██████████| 288/288 [00:29<00:00,  9.75it/s]\n"
     ]
    },
    {
     "name": "stdout",
     "output_type": "stream",
     "text": [
      "Loss1: 3.5300, Loss2: 1.2118, Loss3: 6.2466\n"
     ]
    },
    {
     "name": "stderr",
     "output_type": "stream",
     "text": [
      "Test_Loader: 100%|██████████| 288/288 [00:29<00:00,  9.71it/s]\n"
     ]
    },
    {
     "name": "stdout",
     "output_type": "stream",
     "text": [
      "Loss1: 3.4668, Loss2: 1.1994, Loss3: 6.1698\n"
     ]
    },
    {
     "name": "stderr",
     "output_type": "stream",
     "text": [
      "Test_Loader: 100%|██████████| 288/288 [00:29<00:00,  9.68it/s]\n"
     ]
    },
    {
     "name": "stdout",
     "output_type": "stream",
     "text": [
      "Loss1: 3.4380, Loss2: 1.1883, Loss3: 6.0707\n"
     ]
    },
    {
     "name": "stderr",
     "output_type": "stream",
     "text": [
      "Test_Loader: 100%|██████████| 288/288 [00:30<00:00,  9.50it/s]\n"
     ]
    },
    {
     "name": "stdout",
     "output_type": "stream",
     "text": [
      "Loss1: 3.3959, Loss2: 1.1751, Loss3: 5.9912\n"
     ]
    },
    {
     "name": "stderr",
     "output_type": "stream",
     "text": [
      "Test_Loader: 100%|██████████| 288/288 [00:29<00:00,  9.80it/s]\n"
     ]
    },
    {
     "name": "stdout",
     "output_type": "stream",
     "text": [
      "Loss1: 3.3794, Loss2: 1.1462, Loss3: 5.8794\n"
     ]
    },
    {
     "name": "stderr",
     "output_type": "stream",
     "text": [
      "Test_Loader: 100%|██████████| 288/288 [00:29<00:00,  9.86it/s]\n"
     ]
    },
    {
     "name": "stdout",
     "output_type": "stream",
     "text": [
      "Loss1: 3.3458, Loss2: 1.1408, Loss3: 5.7991\n"
     ]
    },
    {
     "name": "stderr",
     "output_type": "stream",
     "text": [
      "Test_Loader: 100%|██████████| 288/288 [00:29<00:00,  9.88it/s]\n"
     ]
    },
    {
     "name": "stdout",
     "output_type": "stream",
     "text": [
      "Loss1: 3.3492, Loss2: 1.1335, Loss3: 5.7628\n"
     ]
    },
    {
     "name": "stderr",
     "output_type": "stream",
     "text": [
      "Test_Loader: 100%|██████████| 288/288 [00:30<00:00,  9.45it/s]\n"
     ]
    },
    {
     "name": "stdout",
     "output_type": "stream",
     "text": [
      "Loss1: 3.3396, Loss2: 1.1152, Loss3: 5.6780\n"
     ]
    },
    {
     "name": "stderr",
     "output_type": "stream",
     "text": [
      "Test_Loader: 100%|██████████| 288/288 [00:29<00:00,  9.74it/s]\n"
     ]
    },
    {
     "name": "stdout",
     "output_type": "stream",
     "text": [
      "Loss1: 3.3231, Loss2: 1.1105, Loss3: 5.6434\n"
     ]
    },
    {
     "name": "stderr",
     "output_type": "stream",
     "text": [
      "Test_Loader: 100%|██████████| 288/288 [00:28<00:00, 10.09it/s]\n"
     ]
    },
    {
     "name": "stdout",
     "output_type": "stream",
     "text": [
      "Loss1: 3.3053, Loss2: 1.1059, Loss3: 5.5943\n"
     ]
    },
    {
     "name": "stderr",
     "output_type": "stream",
     "text": [
      "Test_Loader: 100%|██████████| 288/288 [00:28<00:00,  9.96it/s]\n"
     ]
    },
    {
     "name": "stdout",
     "output_type": "stream",
     "text": [
      "Loss1: 3.2814, Loss2: 1.1063, Loss3: 5.5455\n"
     ]
    },
    {
     "name": "stderr",
     "output_type": "stream",
     "text": [
      "Test_Loader: 100%|██████████| 288/288 [00:29<00:00,  9.78it/s]\n"
     ]
    },
    {
     "name": "stdout",
     "output_type": "stream",
     "text": [
      "Loss1: 3.2576, Loss2: 1.0961, Loss3: 5.4738\n"
     ]
    },
    {
     "name": "stderr",
     "output_type": "stream",
     "text": [
      "Test_Loader: 100%|██████████| 288/288 [00:30<00:00,  9.60it/s]\n"
     ]
    },
    {
     "name": "stdout",
     "output_type": "stream",
     "text": [
      "Loss1: 3.1992, Loss2: 1.0696, Loss3: 5.2760\n"
     ]
    },
    {
     "name": "stderr",
     "output_type": "stream",
     "text": [
      "Test_Loader: 100%|██████████| 288/288 [00:29<00:00,  9.60it/s]\n"
     ]
    },
    {
     "name": "stdout",
     "output_type": "stream",
     "text": [
      "Loss1: 3.1947, Loss2: 1.0572, Loss3: 5.2175\n"
     ]
    },
    {
     "name": "stderr",
     "output_type": "stream",
     "text": [
      "Test_Loader: 100%|██████████| 288/288 [00:29<00:00,  9.71it/s]\n"
     ]
    },
    {
     "name": "stdout",
     "output_type": "stream",
     "text": [
      "Loss1: 3.2661, Loss2: 1.1050, Loss3: 5.5408\n"
     ]
    },
    {
     "name": "stderr",
     "output_type": "stream",
     "text": [
      "Test_Loader: 100%|██████████| 288/288 [00:27<00:00, 10.34it/s]\n"
     ]
    },
    {
     "name": "stdout",
     "output_type": "stream",
     "text": [
      "Loss1: 3.3023, Loss2: 1.1164, Loss3: 5.5039\n"
     ]
    },
    {
     "name": "stderr",
     "output_type": "stream",
     "text": [
      "Test_Loader: 100%|██████████| 288/288 [00:28<00:00, 10.00it/s]\n"
     ]
    },
    {
     "name": "stdout",
     "output_type": "stream",
     "text": [
      "Loss1: 3.2994, Loss2: 1.1088, Loss3: 5.4731\n"
     ]
    },
    {
     "name": "stderr",
     "output_type": "stream",
     "text": [
      "Test_Loader: 100%|██████████| 288/288 [00:27<00:00, 10.31it/s]\n"
     ]
    },
    {
     "name": "stdout",
     "output_type": "stream",
     "text": [
      "Loss1: 3.3354, Loss2: 1.1154, Loss3: 5.4456\n"
     ]
    },
    {
     "name": "stderr",
     "output_type": "stream",
     "text": [
      "Test_Loader: 100%|██████████| 288/288 [00:29<00:00,  9.86it/s]\n"
     ]
    },
    {
     "name": "stdout",
     "output_type": "stream",
     "text": [
      "Loss1: 3.3385, Loss2: 1.1363, Loss3: 5.5007\n"
     ]
    },
    {
     "name": "stderr",
     "output_type": "stream",
     "text": [
      "Test_Loader: 100%|██████████| 288/288 [00:30<00:00,  9.47it/s]\n"
     ]
    },
    {
     "name": "stdout",
     "output_type": "stream",
     "text": [
      "Loss1: 3.3578, Loss2: 1.1940, Loss3: 5.5060\n"
     ]
    },
    {
     "name": "stderr",
     "output_type": "stream",
     "text": [
      "Test_Loader: 100%|██████████| 288/288 [00:29<00:00,  9.88it/s]\n"
     ]
    },
    {
     "name": "stdout",
     "output_type": "stream",
     "text": [
      "Loss1: 3.4097, Loss2: 1.2167, Loss3: 5.6732\n"
     ]
    },
    {
     "name": "stderr",
     "output_type": "stream",
     "text": [
      "Test_Loader: 100%|██████████| 288/288 [00:28<00:00, 10.15it/s]\n"
     ]
    },
    {
     "name": "stdout",
     "output_type": "stream",
     "text": [
      "Loss1: 3.4638, Loss2: 1.2743, Loss3: 5.9227\n"
     ]
    },
    {
     "name": "stderr",
     "output_type": "stream",
     "text": [
      "Test_Loader: 100%|██████████| 288/288 [00:29<00:00,  9.92it/s]\n"
     ]
    },
    {
     "name": "stdout",
     "output_type": "stream",
     "text": [
      "Loss1: 3.4495, Loss2: 1.2632, Loss3: 5.8498\n"
     ]
    },
    {
     "name": "stderr",
     "output_type": "stream",
     "text": [
      "Test_Loader: 100%|██████████| 288/288 [00:29<00:00,  9.88it/s]\n"
     ]
    },
    {
     "name": "stdout",
     "output_type": "stream",
     "text": [
      "Loss1: 3.4389, Loss2: 1.2699, Loss3: 5.8412\n"
     ]
    },
    {
     "name": "stderr",
     "output_type": "stream",
     "text": [
      "Test_Loader: 100%|██████████| 288/288 [00:29<00:00,  9.78it/s]\n"
     ]
    },
    {
     "name": "stdout",
     "output_type": "stream",
     "text": [
      "Loss1: 3.4222, Loss2: 1.2662, Loss3: 5.7924\n"
     ]
    },
    {
     "name": "stderr",
     "output_type": "stream",
     "text": [
      "Test_Loader: 100%|██████████| 288/288 [00:29<00:00,  9.89it/s]\n"
     ]
    },
    {
     "name": "stdout",
     "output_type": "stream",
     "text": [
      "Loss1: 3.4237, Loss2: 1.2789, Loss3: 5.7867\n"
     ]
    },
    {
     "name": "stderr",
     "output_type": "stream",
     "text": [
      "Test_Loader: 100%|██████████| 288/288 [00:29<00:00,  9.66it/s]\n"
     ]
    },
    {
     "name": "stdout",
     "output_type": "stream",
     "text": [
      "Loss1: 3.4143, Loss2: 1.2793, Loss3: 5.7708\n"
     ]
    },
    {
     "name": "stderr",
     "output_type": "stream",
     "text": [
      "Test_Loader: 100%|██████████| 288/288 [00:29<00:00,  9.66it/s]\n"
     ]
    },
    {
     "name": "stdout",
     "output_type": "stream",
     "text": [
      "Loss1: 3.3925, Loss2: 1.2693, Loss3: 5.7193\n"
     ]
    },
    {
     "name": "stderr",
     "output_type": "stream",
     "text": [
      "Test_Loader: 100%|██████████| 288/288 [00:28<00:00,  9.96it/s]\n"
     ]
    },
    {
     "name": "stdout",
     "output_type": "stream",
     "text": [
      "Loss1: 3.3851, Loss2: 1.2633, Loss3: 5.6443\n"
     ]
    },
    {
     "name": "stderr",
     "output_type": "stream",
     "text": [
      "Test_Loader: 100%|██████████| 288/288 [00:28<00:00,  9.97it/s]\n"
     ]
    },
    {
     "name": "stdout",
     "output_type": "stream",
     "text": [
      "Loss1: 3.4169, Loss2: 1.2931, Loss3: 5.7597\n"
     ]
    },
    {
     "name": "stderr",
     "output_type": "stream",
     "text": [
      "Test_Loader: 100%|██████████| 288/288 [00:28<00:00, 10.07it/s]\n"
     ]
    },
    {
     "name": "stdout",
     "output_type": "stream",
     "text": [
      "Loss1: 3.4141, Loss2: 1.2780, Loss3: 5.7070\n"
     ]
    },
    {
     "name": "stderr",
     "output_type": "stream",
     "text": [
      "Test_Loader: 100%|██████████| 288/288 [00:29<00:00,  9.64it/s]\n"
     ]
    },
    {
     "name": "stdout",
     "output_type": "stream",
     "text": [
      "Loss1: 3.3997, Loss2: 1.2780, Loss3: 5.6630\n"
     ]
    },
    {
     "name": "stderr",
     "output_type": "stream",
     "text": [
      "Test_Loader: 100%|██████████| 288/288 [00:29<00:00,  9.92it/s]\n"
     ]
    },
    {
     "name": "stdout",
     "output_type": "stream",
     "text": [
      "Loss1: 3.3637, Loss2: 1.2623, Loss3: 5.5943\n"
     ]
    },
    {
     "name": "stderr",
     "output_type": "stream",
     "text": [
      "Test_Loader: 100%|██████████| 288/288 [00:27<00:00, 10.38it/s]\n"
     ]
    },
    {
     "name": "stdout",
     "output_type": "stream",
     "text": [
      "Loss1: 3.3649, Loss2: 1.2529, Loss3: 5.5345\n"
     ]
    },
    {
     "name": "stderr",
     "output_type": "stream",
     "text": [
      "Test_Loader: 100%|██████████| 288/288 [00:28<00:00, 10.04it/s]\n"
     ]
    },
    {
     "name": "stdout",
     "output_type": "stream",
     "text": [
      "Loss1: 3.3527, Loss2: 1.2457, Loss3: 5.5075\n"
     ]
    },
    {
     "name": "stderr",
     "output_type": "stream",
     "text": [
      "Test_Loader: 100%|██████████| 288/288 [00:28<00:00, 10.19it/s]\n"
     ]
    },
    {
     "name": "stdout",
     "output_type": "stream",
     "text": [
      "Loss1: 3.3375, Loss2: 1.2397, Loss3: 5.4598\n"
     ]
    },
    {
     "name": "stderr",
     "output_type": "stream",
     "text": [
      "Test_Loader: 100%|██████████| 288/288 [00:30<00:00,  9.60it/s]\n"
     ]
    },
    {
     "name": "stdout",
     "output_type": "stream",
     "text": [
      "Loss1: 3.3252, Loss2: 1.2422, Loss3: 5.4011\n"
     ]
    },
    {
     "name": "stderr",
     "output_type": "stream",
     "text": [
      "Test_Loader: 100%|██████████| 288/288 [00:30<00:00,  9.57it/s]\n"
     ]
    },
    {
     "name": "stdout",
     "output_type": "stream",
     "text": [
      "Loss1: 3.3113, Loss2: 1.2294, Loss3: 5.3554\n"
     ]
    },
    {
     "name": "stderr",
     "output_type": "stream",
     "text": [
      "Test_Loader: 100%|██████████| 288/288 [00:29<00:00,  9.78it/s]\n"
     ]
    },
    {
     "name": "stdout",
     "output_type": "stream",
     "text": [
      "Loss1: 3.2957, Loss2: 1.2258, Loss3: 5.3131\n"
     ]
    },
    {
     "name": "stderr",
     "output_type": "stream",
     "text": [
      "Test_Loader: 100%|██████████| 288/288 [00:29<00:00,  9.75it/s]\n"
     ]
    },
    {
     "name": "stdout",
     "output_type": "stream",
     "text": [
      "Loss1: 3.2875, Loss2: 1.2179, Loss3: 5.2885\n"
     ]
    },
    {
     "name": "stderr",
     "output_type": "stream",
     "text": [
      "Test_Loader: 100%|██████████| 288/288 [00:29<00:00,  9.91it/s]\n"
     ]
    },
    {
     "name": "stdout",
     "output_type": "stream",
     "text": [
      "Loss1: 3.2616, Loss2: 1.2206, Loss3: 5.2485\n"
     ]
    },
    {
     "name": "stderr",
     "output_type": "stream",
     "text": [
      "Test_Loader: 100%|██████████| 288/288 [00:28<00:00, 10.15it/s]\n"
     ]
    },
    {
     "name": "stdout",
     "output_type": "stream",
     "text": [
      "Loss1: 3.2211, Loss2: 1.1936, Loss3: 5.1839\n"
     ]
    },
    {
     "name": "stderr",
     "output_type": "stream",
     "text": [
      "Test_Loader: 100%|██████████| 288/288 [00:29<00:00,  9.91it/s]\n"
     ]
    },
    {
     "name": "stdout",
     "output_type": "stream",
     "text": [
      "Loss1: 3.2048, Loss2: 1.1827, Loss3: 5.1576\n"
     ]
    },
    {
     "name": "stderr",
     "output_type": "stream",
     "text": [
      "Test_Loader: 100%|██████████| 288/288 [00:30<00:00,  9.46it/s]\n"
     ]
    },
    {
     "name": "stdout",
     "output_type": "stream",
     "text": [
      "Loss1: 3.1905, Loss2: 1.1772, Loss3: 5.1101\n"
     ]
    },
    {
     "name": "stderr",
     "output_type": "stream",
     "text": [
      "Test_Loader: 100%|██████████| 288/288 [00:30<00:00,  9.34it/s]\n"
     ]
    },
    {
     "name": "stdout",
     "output_type": "stream",
     "text": [
      "Loss1: 3.1313, Loss2: 1.1709, Loss3: 5.1342\n"
     ]
    },
    {
     "name": "stderr",
     "output_type": "stream",
     "text": [
      "Test_Loader: 100%|██████████| 288/288 [00:28<00:00,  9.98it/s]\n"
     ]
    },
    {
     "name": "stdout",
     "output_type": "stream",
     "text": [
      "Loss1: 3.1125, Loss2: 1.1708, Loss3: 5.1252\n"
     ]
    },
    {
     "name": "stderr",
     "output_type": "stream",
     "text": [
      "Test_Loader: 100%|██████████| 288/288 [00:28<00:00, 10.23it/s]\n"
     ]
    },
    {
     "name": "stdout",
     "output_type": "stream",
     "text": [
      "Loss1: 3.1014, Loss2: 1.1617, Loss3: 5.1018\n"
     ]
    },
    {
     "name": "stderr",
     "output_type": "stream",
     "text": [
      "Test_Loader: 100%|██████████| 288/288 [00:29<00:00,  9.78it/s]\n"
     ]
    },
    {
     "name": "stdout",
     "output_type": "stream",
     "text": [
      "Loss1: 3.1021, Loss2: 1.1432, Loss3: 5.0829\n"
     ]
    },
    {
     "name": "stderr",
     "output_type": "stream",
     "text": [
      "Test_Loader: 100%|██████████| 288/288 [00:29<00:00,  9.69it/s]\n"
     ]
    },
    {
     "name": "stdout",
     "output_type": "stream",
     "text": [
      "Loss1: 3.1005, Loss2: 1.1427, Loss3: 5.0674\n"
     ]
    },
    {
     "name": "stderr",
     "output_type": "stream",
     "text": [
      "Test_Loader: 100%|██████████| 288/288 [00:30<00:00,  9.58it/s]\n"
     ]
    },
    {
     "name": "stdout",
     "output_type": "stream",
     "text": [
      "Loss1: 3.1025, Loss2: 1.1501, Loss3: 5.0386\n"
     ]
    },
    {
     "name": "stderr",
     "output_type": "stream",
     "text": [
      "Test_Loader: 100%|██████████| 288/288 [00:29<00:00,  9.66it/s]\n"
     ]
    },
    {
     "name": "stdout",
     "output_type": "stream",
     "text": [
      "Loss1: 2.7659, Loss2: 1.0486, Loss3: 4.5398\n"
     ]
    },
    {
     "name": "stderr",
     "output_type": "stream",
     "text": [
      "Test_Loader: 100%|██████████| 288/288 [00:30<00:00,  9.37it/s]\n"
     ]
    },
    {
     "name": "stdout",
     "output_type": "stream",
     "text": [
      "Loss1: 2.5216, Loss2: 1.0054, Loss3: 4.3397\n"
     ]
    },
    {
     "name": "stderr",
     "output_type": "stream",
     "text": [
      "Test_Loader: 100%|██████████| 288/288 [00:29<00:00,  9.62it/s]\n"
     ]
    },
    {
     "name": "stdout",
     "output_type": "stream",
     "text": [
      "Loss1: 2.5297, Loss2: 1.0051, Loss3: 4.3113\n"
     ]
    },
    {
     "name": "stderr",
     "output_type": "stream",
     "text": [
      "Test_Loader: 100%|██████████| 288/288 [00:28<00:00, 10.16it/s]\n"
     ]
    },
    {
     "name": "stdout",
     "output_type": "stream",
     "text": [
      "Loss1: 2.5251, Loss2: 0.9966, Loss3: 4.2940\n"
     ]
    },
    {
     "name": "stderr",
     "output_type": "stream",
     "text": [
      "Test_Loader: 100%|██████████| 288/288 [00:27<00:00, 10.57it/s]\n"
     ]
    },
    {
     "name": "stdout",
     "output_type": "stream",
     "text": [
      "Loss1: 2.5305, Loss2: 1.0064, Loss3: 4.2949\n"
     ]
    },
    {
     "name": "stderr",
     "output_type": "stream",
     "text": [
      "Test_Loader: 100%|██████████| 288/288 [00:28<00:00, 10.01it/s]\n"
     ]
    },
    {
     "name": "stdout",
     "output_type": "stream",
     "text": [
      "Loss1: 2.4589, Loss2: 0.9875, Loss3: 4.1974\n"
     ]
    },
    {
     "name": "stderr",
     "output_type": "stream",
     "text": [
      "Test_Loader: 100%|██████████| 288/288 [00:29<00:00,  9.68it/s]\n"
     ]
    },
    {
     "name": "stdout",
     "output_type": "stream",
     "text": [
      "Loss1: 2.4255, Loss2: 1.0150, Loss3: 4.3466\n"
     ]
    },
    {
     "name": "stderr",
     "output_type": "stream",
     "text": [
      "Test_Loader: 100%|██████████| 288/288 [00:29<00:00,  9.82it/s]\n"
     ]
    },
    {
     "name": "stdout",
     "output_type": "stream",
     "text": [
      "Loss1: 2.3434, Loss2: 0.9934, Loss3: 4.2301\n"
     ]
    },
    {
     "name": "stderr",
     "output_type": "stream",
     "text": [
      "Test_Loader: 100%|██████████| 288/288 [00:28<00:00, 10.14it/s]\n"
     ]
    },
    {
     "name": "stdout",
     "output_type": "stream",
     "text": [
      "Loss1: 2.3407, Loss2: 0.9798, Loss3: 4.1858\n"
     ]
    },
    {
     "name": "stderr",
     "output_type": "stream",
     "text": [
      "Test_Loader: 100%|██████████| 288/288 [00:29<00:00,  9.85it/s]\n"
     ]
    },
    {
     "name": "stdout",
     "output_type": "stream",
     "text": [
      "Loss1: 2.6563, Loss2: 1.0060, Loss3: 4.3951\n"
     ]
    },
    {
     "name": "stderr",
     "output_type": "stream",
     "text": [
      "Test_Loader: 100%|██████████| 288/288 [00:29<00:00,  9.86it/s]\n"
     ]
    },
    {
     "name": "stdout",
     "output_type": "stream",
     "text": [
      "Loss1: 2.6636, Loss2: 1.0093, Loss3: 4.4174\n"
     ]
    },
    {
     "name": "stderr",
     "output_type": "stream",
     "text": [
      "Test_Loader: 100%|██████████| 288/288 [00:29<00:00,  9.68it/s]\n"
     ]
    },
    {
     "name": "stdout",
     "output_type": "stream",
     "text": [
      "Loss1: 2.6437, Loss2: 1.0094, Loss3: 4.4041\n"
     ]
    },
    {
     "name": "stderr",
     "output_type": "stream",
     "text": [
      "Test_Loader: 100%|██████████| 288/288 [00:29<00:00,  9.81it/s]\n"
     ]
    },
    {
     "name": "stdout",
     "output_type": "stream",
     "text": [
      "Loss1: 2.4832, Loss2: 0.9894, Loss3: 4.3162\n"
     ]
    },
    {
     "name": "stderr",
     "output_type": "stream",
     "text": [
      "Test_Loader: 100%|██████████| 288/288 [00:29<00:00,  9.62it/s]\n"
     ]
    },
    {
     "name": "stdout",
     "output_type": "stream",
     "text": [
      "Loss1: 2.3652, Loss2: 0.9416, Loss3: 4.0750\n"
     ]
    },
    {
     "name": "stderr",
     "output_type": "stream",
     "text": [
      "Test_Loader: 100%|██████████| 288/288 [00:29<00:00,  9.72it/s]\n"
     ]
    },
    {
     "name": "stdout",
     "output_type": "stream",
     "text": [
      "Loss1: 2.3456, Loss2: 0.9359, Loss3: 4.0367\n"
     ]
    },
    {
     "name": "stderr",
     "output_type": "stream",
     "text": [
      "Test_Loader: 100%|██████████| 288/288 [00:29<00:00,  9.75it/s]\n"
     ]
    },
    {
     "name": "stdout",
     "output_type": "stream",
     "text": [
      "Loss1: 2.3473, Loss2: 0.9340, Loss3: 4.0034\n"
     ]
    },
    {
     "name": "stderr",
     "output_type": "stream",
     "text": [
      "Test_Loader: 100%|██████████| 288/288 [00:28<00:00,  9.96it/s]\n"
     ]
    },
    {
     "name": "stdout",
     "output_type": "stream",
     "text": [
      "Loss1: 2.2893, Loss2: 0.9100, Loss3: 3.8625\n"
     ]
    },
    {
     "name": "stderr",
     "output_type": "stream",
     "text": [
      "Test_Loader: 100%|██████████| 288/288 [00:28<00:00, 10.03it/s]\n"
     ]
    },
    {
     "name": "stdout",
     "output_type": "stream",
     "text": [
      "Loss1: 2.2942, Loss2: 0.9361, Loss3: 3.8690\n"
     ]
    },
    {
     "name": "stderr",
     "output_type": "stream",
     "text": [
      "Test_Loader: 100%|██████████| 288/288 [00:30<00:00,  9.56it/s]\n"
     ]
    },
    {
     "name": "stdout",
     "output_type": "stream",
     "text": [
      "Loss1: 2.3416, Loss2: 0.9511, Loss3: 3.9463\n"
     ]
    },
    {
     "name": "stderr",
     "output_type": "stream",
     "text": [
      "Test_Loader: 100%|██████████| 288/288 [00:30<00:00,  9.47it/s]\n"
     ]
    },
    {
     "name": "stdout",
     "output_type": "stream",
     "text": [
      "Loss1: 2.2981, Loss2: 0.9402, Loss3: 3.9754\n"
     ]
    },
    {
     "name": "stderr",
     "output_type": "stream",
     "text": [
      "Test_Loader: 100%|██████████| 288/288 [00:27<00:00, 10.40it/s]\n"
     ]
    },
    {
     "name": "stdout",
     "output_type": "stream",
     "text": [
      "Loss1: 2.3021, Loss2: 0.9347, Loss3: 3.9177\n"
     ]
    },
    {
     "name": "stderr",
     "output_type": "stream",
     "text": [
      "Test_Loader: 100%|██████████| 288/288 [00:28<00:00, 10.15it/s]\n"
     ]
    },
    {
     "name": "stdout",
     "output_type": "stream",
     "text": [
      "Loss1: 2.3044, Loss2: 0.9398, Loss3: 3.8841\n"
     ]
    },
    {
     "name": "stderr",
     "output_type": "stream",
     "text": [
      "Test_Loader: 100%|██████████| 288/288 [00:28<00:00, 10.02it/s]\n"
     ]
    },
    {
     "name": "stdout",
     "output_type": "stream",
     "text": [
      "Loss1: 2.2919, Loss2: 0.9367, Loss3: 3.8730\n"
     ]
    },
    {
     "name": "stderr",
     "output_type": "stream",
     "text": [
      "Test_Loader: 100%|██████████| 288/288 [00:29<00:00,  9.85it/s]\n"
     ]
    },
    {
     "name": "stdout",
     "output_type": "stream",
     "text": [
      "Loss1: 2.2834, Loss2: 0.9234, Loss3: 3.8284\n"
     ]
    },
    {
     "name": "stderr",
     "output_type": "stream",
     "text": [
      "Test_Loader: 100%|██████████| 288/288 [00:29<00:00,  9.90it/s]\n"
     ]
    },
    {
     "name": "stdout",
     "output_type": "stream",
     "text": [
      "Loss1: 2.2616, Loss2: 0.9266, Loss3: 3.8012\n"
     ]
    },
    {
     "name": "stderr",
     "output_type": "stream",
     "text": [
      "Test_Loader: 100%|██████████| 288/288 [00:30<00:00,  9.52it/s]\n"
     ]
    },
    {
     "name": "stdout",
     "output_type": "stream",
     "text": [
      "Loss1: 2.2688, Loss2: 0.9217, Loss3: 3.7968\n"
     ]
    },
    {
     "name": "stderr",
     "output_type": "stream",
     "text": [
      "Test_Loader: 100%|██████████| 288/288 [00:29<00:00,  9.72it/s]\n"
     ]
    },
    {
     "name": "stdout",
     "output_type": "stream",
     "text": [
      "Loss1: 2.2756, Loss2: 0.9157, Loss3: 3.7637\n"
     ]
    },
    {
     "name": "stderr",
     "output_type": "stream",
     "text": [
      "Test_Loader: 100%|██████████| 288/288 [00:30<00:00,  9.55it/s]\n"
     ]
    },
    {
     "name": "stdout",
     "output_type": "stream",
     "text": [
      "Loss1: 2.2500, Loss2: 0.9080, Loss3: 3.7576\n"
     ]
    },
    {
     "name": "stderr",
     "output_type": "stream",
     "text": [
      "Test_Loader: 100%|██████████| 288/288 [00:28<00:00, 10.09it/s]\n"
     ]
    },
    {
     "name": "stdout",
     "output_type": "stream",
     "text": [
      "Loss1: 2.2421, Loss2: 0.9007, Loss3: 3.7040\n"
     ]
    },
    {
     "name": "stderr",
     "output_type": "stream",
     "text": [
      "Test_Loader: 100%|██████████| 288/288 [00:27<00:00, 10.42it/s]\n"
     ]
    },
    {
     "name": "stdout",
     "output_type": "stream",
     "text": [
      "Loss1: 2.2377, Loss2: 0.8919, Loss3: 3.6722\n"
     ]
    },
    {
     "name": "stderr",
     "output_type": "stream",
     "text": [
      "Test_Loader: 100%|██████████| 288/288 [00:28<00:00, 10.22it/s]\n"
     ]
    },
    {
     "name": "stdout",
     "output_type": "stream",
     "text": [
      "Loss1: 2.1351, Loss2: 0.8113, Loss3: 3.2878\n"
     ]
    },
    {
     "name": "stderr",
     "output_type": "stream",
     "text": [
      "Test_Loader: 100%|██████████| 288/288 [00:29<00:00,  9.91it/s]\n"
     ]
    },
    {
     "name": "stdout",
     "output_type": "stream",
     "text": [
      "Loss1: 2.1282, Loss2: 0.7959, Loss3: 3.2749\n"
     ]
    },
    {
     "name": "stderr",
     "output_type": "stream",
     "text": [
      "Test_Loader: 100%|██████████| 288/288 [00:29<00:00,  9.88it/s]\n"
     ]
    },
    {
     "name": "stdout",
     "output_type": "stream",
     "text": [
      "Loss1: 2.1124, Loss2: 0.7923, Loss3: 3.2266\n"
     ]
    },
    {
     "name": "stderr",
     "output_type": "stream",
     "text": [
      "Test_Loader: 100%|██████████| 288/288 [00:29<00:00,  9.71it/s]\n"
     ]
    },
    {
     "name": "stdout",
     "output_type": "stream",
     "text": [
      "Loss1: 2.1046, Loss2: 0.7926, Loss3: 3.2292\n"
     ]
    },
    {
     "name": "stderr",
     "output_type": "stream",
     "text": [
      "Test_Loader: 100%|██████████| 288/288 [00:29<00:00,  9.67it/s]\n"
     ]
    },
    {
     "name": "stdout",
     "output_type": "stream",
     "text": [
      "Loss1: 2.1364, Loss2: 0.7955, Loss3: 3.2616\n"
     ]
    },
    {
     "name": "stderr",
     "output_type": "stream",
     "text": [
      "Test_Loader: 100%|██████████| 288/288 [00:29<00:00,  9.72it/s]\n"
     ]
    },
    {
     "name": "stdout",
     "output_type": "stream",
     "text": [
      "Loss1: 2.0934, Loss2: 0.7642, Loss3: 3.2139\n"
     ]
    },
    {
     "name": "stderr",
     "output_type": "stream",
     "text": [
      "Test_Loader: 100%|██████████| 288/288 [00:29<00:00,  9.68it/s]\n"
     ]
    },
    {
     "name": "stdout",
     "output_type": "stream",
     "text": [
      "Loss1: 2.1082, Loss2: 0.7649, Loss3: 3.1996\n"
     ]
    },
    {
     "name": "stderr",
     "output_type": "stream",
     "text": [
      "Test_Loader: 100%|██████████| 288/288 [00:29<00:00,  9.74it/s]\n"
     ]
    },
    {
     "name": "stdout",
     "output_type": "stream",
     "text": [
      "Loss1: 2.0474, Loss2: 0.7453, Loss3: 3.1332\n"
     ]
    },
    {
     "name": "stderr",
     "output_type": "stream",
     "text": [
      "Test_Loader: 100%|██████████| 288/288 [00:29<00:00,  9.88it/s]\n"
     ]
    },
    {
     "name": "stdout",
     "output_type": "stream",
     "text": [
      "Loss1: 2.0617, Loss2: 0.7504, Loss3: 3.1123\n"
     ]
    },
    {
     "name": "stderr",
     "output_type": "stream",
     "text": [
      "Test_Loader: 100%|██████████| 288/288 [00:29<00:00,  9.78it/s]\n"
     ]
    },
    {
     "name": "stdout",
     "output_type": "stream",
     "text": [
      "Loss1: 2.0238, Loss2: 0.7486, Loss3: 3.0499\n"
     ]
    },
    {
     "name": "stderr",
     "output_type": "stream",
     "text": [
      "Test_Loader: 100%|██████████| 288/288 [00:28<00:00, 10.11it/s]\n"
     ]
    },
    {
     "name": "stdout",
     "output_type": "stream",
     "text": [
      "Loss1: 2.0282, Loss2: 0.7464, Loss3: 3.0283\n"
     ]
    },
    {
     "name": "stderr",
     "output_type": "stream",
     "text": [
      "Test_Loader: 100%|██████████| 288/288 [00:28<00:00,  9.94it/s]\n"
     ]
    },
    {
     "name": "stdout",
     "output_type": "stream",
     "text": [
      "Loss1: 2.0302, Loss2: 0.7687, Loss3: 3.0665\n"
     ]
    },
    {
     "name": "stderr",
     "output_type": "stream",
     "text": [
      "Test_Loader: 100%|██████████| 288/288 [00:29<00:00,  9.77it/s]\n"
     ]
    },
    {
     "name": "stdout",
     "output_type": "stream",
     "text": [
      "Loss1: 2.1047, Loss2: 0.7761, Loss3: 3.3034\n"
     ]
    },
    {
     "name": "stderr",
     "output_type": "stream",
     "text": [
      "Test_Loader: 100%|██████████| 288/288 [00:29<00:00,  9.68it/s]\n"
     ]
    },
    {
     "name": "stdout",
     "output_type": "stream",
     "text": [
      "Loss1: 2.0735, Loss2: 0.7518, Loss3: 3.1367\n"
     ]
    },
    {
     "name": "stderr",
     "output_type": "stream",
     "text": [
      "Test_Loader: 100%|██████████| 288/288 [00:29<00:00,  9.92it/s]\n"
     ]
    },
    {
     "name": "stdout",
     "output_type": "stream",
     "text": [
      "Loss1: 1.9845, Loss2: 0.7352, Loss3: 3.0871\n"
     ]
    },
    {
     "name": "stderr",
     "output_type": "stream",
     "text": [
      "Test_Loader: 100%|██████████| 288/288 [00:28<00:00, 10.24it/s]\n"
     ]
    },
    {
     "name": "stdout",
     "output_type": "stream",
     "text": [
      "Loss1: 1.9437, Loss2: 0.6997, Loss3: 2.9992\n"
     ]
    },
    {
     "name": "stderr",
     "output_type": "stream",
     "text": [
      "Test_Loader: 100%|██████████| 288/288 [00:28<00:00,  9.94it/s]\n"
     ]
    },
    {
     "name": "stdout",
     "output_type": "stream",
     "text": [
      "Loss1: 1.9302, Loss2: 0.6896, Loss3: 3.0037\n"
     ]
    },
    {
     "name": "stderr",
     "output_type": "stream",
     "text": [
      "Test_Loader: 100%|██████████| 288/288 [00:29<00:00,  9.84it/s]\n"
     ]
    },
    {
     "name": "stdout",
     "output_type": "stream",
     "text": [
      "Loss1: 1.9414, Loss2: 0.6963, Loss3: 2.9765\n"
     ]
    },
    {
     "name": "stderr",
     "output_type": "stream",
     "text": [
      "Test_Loader: 100%|██████████| 288/288 [00:30<00:00,  9.59it/s]\n"
     ]
    },
    {
     "name": "stdout",
     "output_type": "stream",
     "text": [
      "Loss1: 1.9756, Loss2: 0.6979, Loss3: 3.0163\n"
     ]
    },
    {
     "name": "stderr",
     "output_type": "stream",
     "text": [
      "Test_Loader: 100%|██████████| 288/288 [00:29<00:00,  9.63it/s]\n"
     ]
    },
    {
     "name": "stdout",
     "output_type": "stream",
     "text": [
      "Loss1: 1.9803, Loss2: 0.7060, Loss3: 3.0277\n"
     ]
    },
    {
     "name": "stderr",
     "output_type": "stream",
     "text": [
      "Test_Loader: 100%|██████████| 288/288 [00:30<00:00,  9.50it/s]\n"
     ]
    },
    {
     "name": "stdout",
     "output_type": "stream",
     "text": [
      "Loss1: 1.9486, Loss2: 0.6962, Loss3: 3.0252\n"
     ]
    },
    {
     "name": "stderr",
     "output_type": "stream",
     "text": [
      "Test_Loader: 100%|██████████| 288/288 [00:30<00:00,  9.50it/s]\n"
     ]
    },
    {
     "name": "stdout",
     "output_type": "stream",
     "text": [
      "Loss1: 1.9525, Loss2: 0.6921, Loss3: 3.0069\n"
     ]
    },
    {
     "name": "stderr",
     "output_type": "stream",
     "text": [
      "Test_Loader: 100%|██████████| 288/288 [00:28<00:00,  9.98it/s]\n"
     ]
    },
    {
     "name": "stdout",
     "output_type": "stream",
     "text": [
      "Loss1: 1.9405, Loss2: 0.6970, Loss3: 2.9964\n"
     ]
    },
    {
     "name": "stderr",
     "output_type": "stream",
     "text": [
      "Test_Loader: 100%|██████████| 288/288 [00:27<00:00, 10.49it/s]\n"
     ]
    },
    {
     "name": "stdout",
     "output_type": "stream",
     "text": [
      "Loss1: 1.9417, Loss2: 0.6907, Loss3: 2.9676\n"
     ]
    },
    {
     "name": "stderr",
     "output_type": "stream",
     "text": [
      "Test_Loader: 100%|██████████| 288/288 [00:27<00:00, 10.36it/s]\n"
     ]
    },
    {
     "name": "stdout",
     "output_type": "stream",
     "text": [
      "Loss1: 2.1433, Loss2: 0.8189, Loss3: 3.3318\n"
     ]
    },
    {
     "name": "stderr",
     "output_type": "stream",
     "text": [
      "Test_Loader: 100%|██████████| 288/288 [00:28<00:00, 10.02it/s]\n"
     ]
    },
    {
     "name": "stdout",
     "output_type": "stream",
     "text": [
      "Loss1: 2.1423, Loss2: 0.8091, Loss3: 3.3344\n"
     ]
    },
    {
     "name": "stderr",
     "output_type": "stream",
     "text": [
      "Test_Loader: 100%|██████████| 288/288 [00:29<00:00,  9.67it/s]\n"
     ]
    },
    {
     "name": "stdout",
     "output_type": "stream",
     "text": [
      "Loss1: 2.1354, Loss2: 0.8114, Loss3: 3.3119\n"
     ]
    },
    {
     "name": "stderr",
     "output_type": "stream",
     "text": [
      "Test_Loader: 100%|██████████| 288/288 [00:27<00:00, 10.45it/s]\n"
     ]
    },
    {
     "name": "stdout",
     "output_type": "stream",
     "text": [
      "Loss1: 2.1408, Loss2: 0.8107, Loss3: 3.3258\n"
     ]
    },
    {
     "name": "stderr",
     "output_type": "stream",
     "text": [
      "Test_Loader: 100%|██████████| 288/288 [00:28<00:00,  9.96it/s]\n"
     ]
    },
    {
     "name": "stdout",
     "output_type": "stream",
     "text": [
      "Loss1: 2.1313, Loss2: 0.8075, Loss3: 3.2954\n"
     ]
    },
    {
     "name": "stderr",
     "output_type": "stream",
     "text": [
      "Test_Loader: 100%|██████████| 288/288 [00:28<00:00, 10.05it/s]\n"
     ]
    },
    {
     "name": "stdout",
     "output_type": "stream",
     "text": [
      "Loss1: 2.1281, Loss2: 0.8008, Loss3: 3.3144\n"
     ]
    },
    {
     "name": "stderr",
     "output_type": "stream",
     "text": [
      "Test_Loader: 100%|██████████| 288/288 [00:29<00:00,  9.79it/s]\n"
     ]
    },
    {
     "name": "stdout",
     "output_type": "stream",
     "text": [
      "Loss1: 2.3000, Loss2: 0.8100, Loss3: 3.2993\n"
     ]
    },
    {
     "name": "stderr",
     "output_type": "stream",
     "text": [
      "Test_Loader: 100%|██████████| 288/288 [00:28<00:00,  9.93it/s]\n"
     ]
    },
    {
     "name": "stdout",
     "output_type": "stream",
     "text": [
      "Loss1: 2.2296, Loss2: 0.7966, Loss3: 3.2625\n"
     ]
    },
    {
     "name": "stderr",
     "output_type": "stream",
     "text": [
      "Test_Loader: 100%|██████████| 288/288 [00:29<00:00,  9.82it/s]\n"
     ]
    },
    {
     "name": "stdout",
     "output_type": "stream",
     "text": [
      "Loss1: 2.2077, Loss2: 0.7888, Loss3: 3.2651\n"
     ]
    },
    {
     "name": "stderr",
     "output_type": "stream",
     "text": [
      "Test_Loader: 100%|██████████| 288/288 [00:28<00:00,  9.94it/s]\n"
     ]
    },
    {
     "name": "stdout",
     "output_type": "stream",
     "text": [
      "Loss1: 2.1611, Loss2: 0.7878, Loss3: 3.2349\n"
     ]
    },
    {
     "name": "stderr",
     "output_type": "stream",
     "text": [
      "Test_Loader: 100%|██████████| 288/288 [00:27<00:00, 10.29it/s]\n"
     ]
    },
    {
     "name": "stdout",
     "output_type": "stream",
     "text": [
      "Loss1: 2.1385, Loss2: 0.7594, Loss3: 3.1360\n"
     ]
    },
    {
     "name": "stderr",
     "output_type": "stream",
     "text": [
      "Test_Loader: 100%|██████████| 288/288 [00:27<00:00, 10.33it/s]\n"
     ]
    },
    {
     "name": "stdout",
     "output_type": "stream",
     "text": [
      "Loss1: 2.9249, Loss2: 0.8217, Loss3: 3.4806\n"
     ]
    },
    {
     "name": "stderr",
     "output_type": "stream",
     "text": [
      "Test_Loader: 100%|██████████| 288/288 [00:28<00:00, 10.12it/s]\n"
     ]
    },
    {
     "name": "stdout",
     "output_type": "stream",
     "text": [
      "Loss1: 2.7082, Loss2: 0.7983, Loss3: 3.4146\n"
     ]
    },
    {
     "name": "stderr",
     "output_type": "stream",
     "text": [
      "Test_Loader: 100%|██████████| 288/288 [00:29<00:00,  9.69it/s]\n"
     ]
    },
    {
     "name": "stdout",
     "output_type": "stream",
     "text": [
      "Loss1: 2.5679, Loss2: 0.7522, Loss3: 3.1653\n"
     ]
    },
    {
     "name": "stderr",
     "output_type": "stream",
     "text": [
      "Test_Loader: 100%|██████████| 288/288 [00:30<00:00,  9.41it/s]\n"
     ]
    },
    {
     "name": "stdout",
     "output_type": "stream",
     "text": [
      "Loss1: 2.5176, Loss2: 0.7450, Loss3: 3.1358\n"
     ]
    },
    {
     "name": "stderr",
     "output_type": "stream",
     "text": [
      "Test_Loader: 100%|██████████| 288/288 [00:29<00:00,  9.82it/s]\n"
     ]
    },
    {
     "name": "stdout",
     "output_type": "stream",
     "text": [
      "Loss1: 2.4622, Loss2: 0.7410, Loss3: 3.1537\n"
     ]
    },
    {
     "name": "stderr",
     "output_type": "stream",
     "text": [
      "Test_Loader: 100%|██████████| 288/288 [00:28<00:00, 10.05it/s]\n"
     ]
    },
    {
     "name": "stdout",
     "output_type": "stream",
     "text": [
      "Loss1: 2.4401, Loss2: 0.7416, Loss3: 3.1360\n"
     ]
    },
    {
     "name": "stderr",
     "output_type": "stream",
     "text": [
      "Test_Loader: 100%|██████████| 288/288 [00:28<00:00, 10.16it/s]\n"
     ]
    },
    {
     "name": "stdout",
     "output_type": "stream",
     "text": [
      "Loss1: 2.3629, Loss2: 0.7306, Loss3: 3.0662\n"
     ]
    },
    {
     "name": "stderr",
     "output_type": "stream",
     "text": [
      "Test_Loader: 100%|██████████| 288/288 [00:29<00:00,  9.83it/s]\n"
     ]
    },
    {
     "name": "stdout",
     "output_type": "stream",
     "text": [
      "Loss1: 2.4223, Loss2: 0.7268, Loss3: 3.0637\n"
     ]
    },
    {
     "name": "stderr",
     "output_type": "stream",
     "text": [
      "Test_Loader: 100%|██████████| 288/288 [00:29<00:00,  9.73it/s]\n"
     ]
    },
    {
     "name": "stdout",
     "output_type": "stream",
     "text": [
      "Loss1: 2.3804, Loss2: 0.7251, Loss3: 3.0299\n"
     ]
    },
    {
     "name": "stderr",
     "output_type": "stream",
     "text": [
      "Test_Loader: 100%|██████████| 288/288 [00:29<00:00,  9.60it/s]\n"
     ]
    },
    {
     "name": "stdout",
     "output_type": "stream",
     "text": [
      "Loss1: 2.3579, Loss2: 0.7177, Loss3: 3.0148\n"
     ]
    },
    {
     "name": "stderr",
     "output_type": "stream",
     "text": [
      "Test_Loader: 100%|██████████| 288/288 [00:30<00:00,  9.55it/s]\n"
     ]
    },
    {
     "name": "stdout",
     "output_type": "stream",
     "text": [
      "Loss1: 2.3676, Loss2: 0.6988, Loss3: 2.9257\n"
     ]
    },
    {
     "name": "stderr",
     "output_type": "stream",
     "text": [
      "Test_Loader: 100%|██████████| 288/288 [00:30<00:00,  9.55it/s]\n"
     ]
    },
    {
     "name": "stdout",
     "output_type": "stream",
     "text": [
      "Loss1: 2.3146, Loss2: 0.6962, Loss3: 2.9187\n"
     ]
    },
    {
     "name": "stderr",
     "output_type": "stream",
     "text": [
      "Test_Loader: 100%|██████████| 288/288 [00:28<00:00,  9.96it/s]\n"
     ]
    },
    {
     "name": "stdout",
     "output_type": "stream",
     "text": [
      "Loss1: 2.3316, Loss2: 0.6918, Loss3: 3.0226\n"
     ]
    },
    {
     "name": "stderr",
     "output_type": "stream",
     "text": [
      "Test_Loader: 100%|██████████| 288/288 [00:27<00:00, 10.53it/s]\n"
     ]
    },
    {
     "name": "stdout",
     "output_type": "stream",
     "text": [
      "Loss1: 2.3105, Loss2: 0.6895, Loss3: 2.9871\n"
     ]
    },
    {
     "name": "stderr",
     "output_type": "stream",
     "text": [
      "Test_Loader: 100%|██████████| 288/288 [00:27<00:00, 10.31it/s]\n"
     ]
    },
    {
     "name": "stdout",
     "output_type": "stream",
     "text": [
      "Loss1: 2.2926, Loss2: 0.6836, Loss3: 2.9769\n"
     ]
    },
    {
     "name": "stderr",
     "output_type": "stream",
     "text": [
      "Test_Loader: 100%|██████████| 288/288 [00:30<00:00,  9.48it/s]\n"
     ]
    },
    {
     "name": "stdout",
     "output_type": "stream",
     "text": [
      "Loss1: 2.2787, Loss2: 0.6915, Loss3: 2.9804\n"
     ]
    },
    {
     "name": "stderr",
     "output_type": "stream",
     "text": [
      "Test_Loader: 100%|██████████| 288/288 [00:29<00:00,  9.63it/s]\n"
     ]
    },
    {
     "name": "stdout",
     "output_type": "stream",
     "text": [
      "Loss1: 2.2696, Loss2: 0.6943, Loss3: 2.9888\n"
     ]
    },
    {
     "name": "stderr",
     "output_type": "stream",
     "text": [
      "Test_Loader: 100%|██████████| 288/288 [00:29<00:00,  9.88it/s]\n"
     ]
    },
    {
     "name": "stdout",
     "output_type": "stream",
     "text": [
      "Loss1: 2.2619, Loss2: 0.6930, Loss3: 2.9529\n"
     ]
    },
    {
     "name": "stderr",
     "output_type": "stream",
     "text": [
      "Test_Loader: 100%|██████████| 288/288 [00:29<00:00,  9.76it/s]\n"
     ]
    },
    {
     "name": "stdout",
     "output_type": "stream",
     "text": [
      "Loss1: 2.2467, Loss2: 0.6868, Loss3: 2.9426\n"
     ]
    },
    {
     "name": "stderr",
     "output_type": "stream",
     "text": [
      "Test_Loader: 100%|██████████| 288/288 [00:29<00:00,  9.77it/s]\n"
     ]
    },
    {
     "name": "stdout",
     "output_type": "stream",
     "text": [
      "Loss1: 2.2215, Loss2: 0.6833, Loss3: 2.9430\n"
     ]
    },
    {
     "name": "stderr",
     "output_type": "stream",
     "text": [
      "Test_Loader: 100%|██████████| 288/288 [00:29<00:00,  9.62it/s]\n"
     ]
    },
    {
     "name": "stdout",
     "output_type": "stream",
     "text": [
      "Loss1: 2.2059, Loss2: 0.6719, Loss3: 2.9253\n"
     ]
    },
    {
     "name": "stderr",
     "output_type": "stream",
     "text": [
      "Test_Loader: 100%|██████████| 288/288 [00:30<00:00,  9.53it/s]\n"
     ]
    },
    {
     "name": "stdout",
     "output_type": "stream",
     "text": [
      "Loss1: 2.2174, Loss2: 0.6738, Loss3: 2.9085\n"
     ]
    },
    {
     "name": "stderr",
     "output_type": "stream",
     "text": [
      "Test_Loader: 100%|██████████| 288/288 [00:29<00:00,  9.62it/s]\n"
     ]
    },
    {
     "name": "stdout",
     "output_type": "stream",
     "text": [
      "Loss1: 2.1843, Loss2: 0.6716, Loss3: 2.9023\n"
     ]
    },
    {
     "name": "stderr",
     "output_type": "stream",
     "text": [
      "Test_Loader: 100%|██████████| 288/288 [00:29<00:00,  9.60it/s]\n"
     ]
    },
    {
     "name": "stdout",
     "output_type": "stream",
     "text": [
      "Loss1: 2.1651, Loss2: 0.6727, Loss3: 2.9233\n"
     ]
    },
    {
     "name": "stderr",
     "output_type": "stream",
     "text": [
      "Test_Loader: 100%|██████████| 288/288 [00:29<00:00,  9.80it/s]\n"
     ]
    },
    {
     "name": "stdout",
     "output_type": "stream",
     "text": [
      "Loss1: 2.1554, Loss2: 0.6710, Loss3: 2.8995\n"
     ]
    },
    {
     "name": "stderr",
     "output_type": "stream",
     "text": [
      "Test_Loader: 100%|██████████| 288/288 [00:27<00:00, 10.41it/s]\n"
     ]
    },
    {
     "name": "stdout",
     "output_type": "stream",
     "text": [
      "Loss1: 2.1185, Loss2: 0.6534, Loss3: 2.8635\n"
     ]
    },
    {
     "name": "stderr",
     "output_type": "stream",
     "text": [
      "Test_Loader: 100%|██████████| 288/288 [00:27<00:00, 10.30it/s]\n"
     ]
    },
    {
     "name": "stdout",
     "output_type": "stream",
     "text": [
      "Loss1: 2.1420, Loss2: 0.6610, Loss3: 2.8462\n"
     ]
    },
    {
     "name": "stderr",
     "output_type": "stream",
     "text": [
      "Test_Loader: 100%|██████████| 288/288 [00:30<00:00,  9.39it/s]\n"
     ]
    },
    {
     "name": "stdout",
     "output_type": "stream",
     "text": [
      "Loss1: 2.1166, Loss2: 0.6623, Loss3: 2.8427\n"
     ]
    },
    {
     "name": "stderr",
     "output_type": "stream",
     "text": [
      "Test_Loader: 100%|██████████| 288/288 [00:29<00:00,  9.73it/s]\n"
     ]
    },
    {
     "name": "stdout",
     "output_type": "stream",
     "text": [
      "Loss1: 2.1106, Loss2: 0.6632, Loss3: 2.8531\n"
     ]
    },
    {
     "name": "stderr",
     "output_type": "stream",
     "text": [
      "Test_Loader: 100%|██████████| 288/288 [00:28<00:00, 10.23it/s]\n"
     ]
    },
    {
     "name": "stdout",
     "output_type": "stream",
     "text": [
      "Loss1: 2.1115, Loss2: 0.6545, Loss3: 2.8317\n"
     ]
    },
    {
     "name": "stderr",
     "output_type": "stream",
     "text": [
      "Test_Loader: 100%|██████████| 288/288 [00:29<00:00,  9.87it/s]\n"
     ]
    },
    {
     "name": "stdout",
     "output_type": "stream",
     "text": [
      "Loss1: 2.1072, Loss2: 0.6605, Loss3: 2.8503\n"
     ]
    },
    {
     "name": "stderr",
     "output_type": "stream",
     "text": [
      "Test_Loader: 100%|██████████| 288/288 [00:29<00:00,  9.81it/s]\n"
     ]
    },
    {
     "name": "stdout",
     "output_type": "stream",
     "text": [
      "Loss1: 2.0949, Loss2: 0.6553, Loss3: 2.7886\n"
     ]
    },
    {
     "name": "stderr",
     "output_type": "stream",
     "text": [
      "Test_Loader: 100%|██████████| 288/288 [00:29<00:00,  9.77it/s]\n"
     ]
    },
    {
     "name": "stdout",
     "output_type": "stream",
     "text": [
      "Loss1: 2.1513, Loss2: 0.6899, Loss3: 2.9036\n"
     ]
    },
    {
     "name": "stderr",
     "output_type": "stream",
     "text": [
      "Test_Loader: 100%|██████████| 288/288 [00:29<00:00,  9.79it/s]\n"
     ]
    },
    {
     "name": "stdout",
     "output_type": "stream",
     "text": [
      "Loss1: 2.1237, Loss2: 0.6788, Loss3: 2.8955\n"
     ]
    },
    {
     "name": "stderr",
     "output_type": "stream",
     "text": [
      "Test_Loader: 100%|██████████| 288/288 [00:30<00:00,  9.60it/s]\n"
     ]
    },
    {
     "name": "stdout",
     "output_type": "stream",
     "text": [
      "Loss1: 2.1191, Loss2: 0.6696, Loss3: 2.8839\n"
     ]
    },
    {
     "name": "stderr",
     "output_type": "stream",
     "text": [
      "Test_Loader: 100%|██████████| 288/288 [00:29<00:00,  9.84it/s]\n"
     ]
    },
    {
     "name": "stdout",
     "output_type": "stream",
     "text": [
      "Loss1: 2.1002, Loss2: 0.6687, Loss3: 2.8551\n"
     ]
    },
    {
     "name": "stderr",
     "output_type": "stream",
     "text": [
      "Test_Loader: 100%|██████████| 288/288 [00:27<00:00, 10.36it/s]\n"
     ]
    },
    {
     "name": "stdout",
     "output_type": "stream",
     "text": [
      "Loss1: 2.0886, Loss2: 0.6622, Loss3: 2.8509\n"
     ]
    },
    {
     "name": "stderr",
     "output_type": "stream",
     "text": [
      "Test_Loader: 100%|██████████| 288/288 [00:27<00:00, 10.49it/s]\n"
     ]
    },
    {
     "name": "stdout",
     "output_type": "stream",
     "text": [
      "Loss1: 1.9916, Loss2: 0.6470, Loss3: 2.7325\n"
     ]
    },
    {
     "name": "stderr",
     "output_type": "stream",
     "text": [
      "Test_Loader: 100%|██████████| 288/288 [00:27<00:00, 10.29it/s]\n"
     ]
    },
    {
     "name": "stdout",
     "output_type": "stream",
     "text": [
      "Loss1: 1.9782, Loss2: 0.6435, Loss3: 2.7600\n"
     ]
    },
    {
     "name": "stderr",
     "output_type": "stream",
     "text": [
      "Test_Loader: 100%|██████████| 288/288 [00:30<00:00,  9.50it/s]\n"
     ]
    },
    {
     "name": "stdout",
     "output_type": "stream",
     "text": [
      "Loss1: 1.9784, Loss2: 0.6471, Loss3: 2.7138\n"
     ]
    },
    {
     "name": "stderr",
     "output_type": "stream",
     "text": [
      "Test_Loader: 100%|██████████| 288/288 [00:30<00:00,  9.49it/s]\n"
     ]
    },
    {
     "name": "stdout",
     "output_type": "stream",
     "text": [
      "Loss1: 1.6288, Loss2: 0.6211, Loss3: 2.6011\n"
     ]
    },
    {
     "name": "stderr",
     "output_type": "stream",
     "text": [
      "Test_Loader: 100%|██████████| 288/288 [00:28<00:00,  9.95it/s]\n"
     ]
    },
    {
     "name": "stdout",
     "output_type": "stream",
     "text": [
      "Loss1: 1.6241, Loss2: 0.6192, Loss3: 2.5774\n"
     ]
    },
    {
     "name": "stderr",
     "output_type": "stream",
     "text": [
      "Test_Loader: 100%|██████████| 288/288 [00:28<00:00, 10.00it/s]\n"
     ]
    },
    {
     "name": "stdout",
     "output_type": "stream",
     "text": [
      "Loss1: 1.6025, Loss2: 0.6025, Loss3: 2.5415\n"
     ]
    },
    {
     "name": "stderr",
     "output_type": "stream",
     "text": [
      "Test_Loader: 100%|██████████| 288/288 [00:28<00:00, 10.01it/s]\n"
     ]
    },
    {
     "name": "stdout",
     "output_type": "stream",
     "text": [
      "Loss1: 1.6021, Loss2: 0.6060, Loss3: 2.5467\n"
     ]
    },
    {
     "name": "stderr",
     "output_type": "stream",
     "text": [
      "Test_Loader: 100%|██████████| 288/288 [00:29<00:00,  9.75it/s]\n"
     ]
    },
    {
     "name": "stdout",
     "output_type": "stream",
     "text": [
      "Loss1: 1.5914, Loss2: 0.6025, Loss3: 2.5446\n"
     ]
    },
    {
     "name": "stderr",
     "output_type": "stream",
     "text": [
      "Test_Loader: 100%|██████████| 288/288 [00:29<00:00,  9.75it/s]\n"
     ]
    },
    {
     "name": "stdout",
     "output_type": "stream",
     "text": [
      "Loss1: 1.5927, Loss2: 0.6028, Loss3: 2.5279\n"
     ]
    },
    {
     "name": "stderr",
     "output_type": "stream",
     "text": [
      "Test_Loader: 100%|██████████| 288/288 [00:29<00:00,  9.74it/s]\n"
     ]
    },
    {
     "name": "stdout",
     "output_type": "stream",
     "text": [
      "Loss1: 1.5732, Loss2: 0.5998, Loss3: 2.5044\n"
     ]
    },
    {
     "name": "stderr",
     "output_type": "stream",
     "text": [
      "Test_Loader: 100%|██████████| 288/288 [00:29<00:00,  9.74it/s]\n"
     ]
    },
    {
     "name": "stdout",
     "output_type": "stream",
     "text": [
      "Loss1: 1.5690, Loss2: 0.5953, Loss3: 2.5054\n"
     ]
    },
    {
     "name": "stderr",
     "output_type": "stream",
     "text": [
      "Test_Loader: 100%|██████████| 288/288 [00:30<00:00,  9.58it/s]\n"
     ]
    },
    {
     "name": "stdout",
     "output_type": "stream",
     "text": [
      "Loss1: 1.5466, Loss2: 0.5747, Loss3: 2.4773\n"
     ]
    },
    {
     "name": "stderr",
     "output_type": "stream",
     "text": [
      "Test_Loader: 100%|██████████| 288/288 [00:29<00:00,  9.93it/s]\n"
     ]
    },
    {
     "name": "stdout",
     "output_type": "stream",
     "text": [
      "Loss1: 1.5150, Loss2: 0.5573, Loss3: 2.4380\n"
     ]
    },
    {
     "name": "stderr",
     "output_type": "stream",
     "text": [
      "Test_Loader: 100%|██████████| 288/288 [00:29<00:00,  9.90it/s]\n"
     ]
    },
    {
     "name": "stdout",
     "output_type": "stream",
     "text": [
      "Loss1: 1.5057, Loss2: 0.5521, Loss3: 2.3973\n"
     ]
    },
    {
     "name": "stderr",
     "output_type": "stream",
     "text": [
      "Test_Loader: 100%|██████████| 288/288 [00:30<00:00,  9.49it/s]\n"
     ]
    },
    {
     "name": "stdout",
     "output_type": "stream",
     "text": [
      "Loss1: 1.4940, Loss2: 0.5541, Loss3: 2.4206\n"
     ]
    },
    {
     "name": "stderr",
     "output_type": "stream",
     "text": [
      "Test_Loader: 100%|██████████| 288/288 [00:31<00:00,  9.25it/s]\n"
     ]
    },
    {
     "name": "stdout",
     "output_type": "stream",
     "text": [
      "Loss1: 1.4926, Loss2: 0.5477, Loss3: 2.4043\n"
     ]
    },
    {
     "name": "stderr",
     "output_type": "stream",
     "text": [
      "Test_Loader: 100%|██████████| 288/288 [00:29<00:00,  9.70it/s]\n"
     ]
    },
    {
     "name": "stdout",
     "output_type": "stream",
     "text": [
      "Loss1: 1.4845, Loss2: 0.5451, Loss3: 2.3994\n"
     ]
    },
    {
     "name": "stderr",
     "output_type": "stream",
     "text": [
      "Test_Loader: 100%|██████████| 288/288 [00:29<00:00,  9.73it/s]\n"
     ]
    },
    {
     "name": "stdout",
     "output_type": "stream",
     "text": [
      "Loss1: 1.5175, Loss2: 0.5784, Loss3: 2.5779\n"
     ]
    },
    {
     "name": "stderr",
     "output_type": "stream",
     "text": [
      "Test_Loader: 100%|██████████| 288/288 [00:30<00:00,  9.60it/s]\n"
     ]
    },
    {
     "name": "stdout",
     "output_type": "stream",
     "text": [
      "Loss1: 1.5264, Loss2: 0.5790, Loss3: 2.5895\n"
     ]
    },
    {
     "name": "stderr",
     "output_type": "stream",
     "text": [
      "Test_Loader: 100%|██████████| 288/288 [00:30<00:00,  9.56it/s]\n"
     ]
    },
    {
     "name": "stdout",
     "output_type": "stream",
     "text": [
      "Loss1: 1.5131, Loss2: 0.5743, Loss3: 2.5897\n"
     ]
    },
    {
     "name": "stderr",
     "output_type": "stream",
     "text": [
      "Test_Loader: 100%|██████████| 288/288 [00:29<00:00,  9.68it/s]\n"
     ]
    },
    {
     "name": "stdout",
     "output_type": "stream",
     "text": [
      "Loss1: 1.5067, Loss2: 0.5726, Loss3: 2.5847\n"
     ]
    },
    {
     "name": "stderr",
     "output_type": "stream",
     "text": [
      "Test_Loader: 100%|██████████| 288/288 [00:29<00:00,  9.62it/s]\n"
     ]
    },
    {
     "name": "stdout",
     "output_type": "stream",
     "text": [
      "Loss1: 1.4965, Loss2: 0.5716, Loss3: 2.5733\n"
     ]
    },
    {
     "name": "stderr",
     "output_type": "stream",
     "text": [
      "Test_Loader: 100%|██████████| 288/288 [00:30<00:00,  9.58it/s]\n"
     ]
    },
    {
     "name": "stdout",
     "output_type": "stream",
     "text": [
      "Loss1: 1.5014, Loss2: 0.5761, Loss3: 2.5700\n"
     ]
    },
    {
     "name": "stderr",
     "output_type": "stream",
     "text": [
      "Test_Loader: 100%|██████████| 288/288 [00:30<00:00,  9.56it/s]\n"
     ]
    },
    {
     "name": "stdout",
     "output_type": "stream",
     "text": [
      "Loss1: 1.4923, Loss2: 0.5683, Loss3: 2.5547\n"
     ]
    },
    {
     "name": "stderr",
     "output_type": "stream",
     "text": [
      "Test_Loader: 100%|██████████| 288/288 [00:28<00:00, 10.10it/s]\n"
     ]
    },
    {
     "name": "stdout",
     "output_type": "stream",
     "text": [
      "Loss1: 1.4912, Loss2: 0.5681, Loss3: 2.5461\n"
     ]
    },
    {
     "name": "stderr",
     "output_type": "stream",
     "text": [
      "Test_Loader: 100%|██████████| 288/288 [00:27<00:00, 10.30it/s]\n"
     ]
    },
    {
     "name": "stdout",
     "output_type": "stream",
     "text": [
      "Loss1: 1.4804, Loss2: 0.5636, Loss3: 2.5457\n"
     ]
    },
    {
     "name": "stderr",
     "output_type": "stream",
     "text": [
      "Test_Loader: 100%|██████████| 288/288 [00:28<00:00, 10.14it/s]\n"
     ]
    },
    {
     "name": "stdout",
     "output_type": "stream",
     "text": [
      "Loss1: 1.4988, Loss2: 0.5710, Loss3: 2.5558\n"
     ]
    },
    {
     "name": "stderr",
     "output_type": "stream",
     "text": [
      "Test_Loader: 100%|██████████| 288/288 [00:31<00:00,  9.14it/s]\n"
     ]
    },
    {
     "name": "stdout",
     "output_type": "stream",
     "text": [
      "Loss1: 1.4973, Loss2: 0.5718, Loss3: 2.5712\n"
     ]
    },
    {
     "name": "stderr",
     "output_type": "stream",
     "text": [
      "Test_Loader: 100%|██████████| 288/288 [00:29<00:00,  9.71it/s]\n"
     ]
    },
    {
     "name": "stdout",
     "output_type": "stream",
     "text": [
      "Loss1: 1.4761, Loss2: 0.5678, Loss3: 2.5329\n"
     ]
    },
    {
     "name": "stderr",
     "output_type": "stream",
     "text": [
      "Test_Loader: 100%|██████████| 288/288 [00:29<00:00,  9.77it/s]\n"
     ]
    },
    {
     "name": "stdout",
     "output_type": "stream",
     "text": [
      "Loss1: 1.4949, Loss2: 0.6054, Loss3: 2.6178\n"
     ]
    },
    {
     "name": "stderr",
     "output_type": "stream",
     "text": [
      "Test_Loader: 100%|██████████| 288/288 [00:29<00:00,  9.86it/s]\n"
     ]
    },
    {
     "name": "stdout",
     "output_type": "stream",
     "text": [
      "Loss1: 1.4978, Loss2: 0.6000, Loss3: 2.6016\n"
     ]
    },
    {
     "name": "stderr",
     "output_type": "stream",
     "text": [
      "Test_Loader: 100%|██████████| 288/288 [00:29<00:00,  9.81it/s]\n"
     ]
    },
    {
     "name": "stdout",
     "output_type": "stream",
     "text": [
      "Loss1: 1.4903, Loss2: 0.5967, Loss3: 2.5898\n"
     ]
    },
    {
     "name": "stderr",
     "output_type": "stream",
     "text": [
      "Test_Loader: 100%|██████████| 288/288 [00:29<00:00,  9.70it/s]\n"
     ]
    },
    {
     "name": "stdout",
     "output_type": "stream",
     "text": [
      "Loss1: 1.4850, Loss2: 0.5946, Loss3: 2.5872\n"
     ]
    },
    {
     "name": "stderr",
     "output_type": "stream",
     "text": [
      "Test_Loader: 100%|██████████| 288/288 [00:30<00:00,  9.40it/s]\n"
     ]
    },
    {
     "name": "stdout",
     "output_type": "stream",
     "text": [
      "Loss1: 1.5163, Loss2: 0.6075, Loss3: 2.6063\n"
     ]
    },
    {
     "name": "stderr",
     "output_type": "stream",
     "text": [
      "Test_Loader: 100%|██████████| 288/288 [00:30<00:00,  9.36it/s]\n"
     ]
    },
    {
     "name": "stdout",
     "output_type": "stream",
     "text": [
      "Loss1: 1.5119, Loss2: 0.6003, Loss3: 2.5893\n"
     ]
    },
    {
     "name": "stderr",
     "output_type": "stream",
     "text": [
      "Test_Loader: 100%|██████████| 288/288 [00:29<00:00,  9.89it/s]\n"
     ]
    },
    {
     "name": "stdout",
     "output_type": "stream",
     "text": [
      "Loss1: 1.4886, Loss2: 0.5726, Loss3: 2.5399\n"
     ]
    },
    {
     "name": "stderr",
     "output_type": "stream",
     "text": [
      "Test_Loader: 100%|██████████| 288/288 [00:28<00:00, 10.07it/s]\n"
     ]
    },
    {
     "name": "stdout",
     "output_type": "stream",
     "text": [
      "Loss1: 1.4540, Loss2: 0.5722, Loss3: 2.4762\n"
     ]
    },
    {
     "name": "stderr",
     "output_type": "stream",
     "text": [
      "Test_Loader: 100%|██████████| 288/288 [00:28<00:00, 10.11it/s]\n"
     ]
    },
    {
     "name": "stdout",
     "output_type": "stream",
     "text": [
      "Loss1: 1.4517, Loss2: 0.5717, Loss3: 2.4740\n"
     ]
    },
    {
     "name": "stderr",
     "output_type": "stream",
     "text": [
      "Test_Loader: 100%|██████████| 288/288 [00:28<00:00, 10.04it/s]\n"
     ]
    },
    {
     "name": "stdout",
     "output_type": "stream",
     "text": [
      "Loss1: 1.4613, Loss2: 0.5719, Loss3: 2.4643\n"
     ]
    },
    {
     "name": "stderr",
     "output_type": "stream",
     "text": [
      "Test_Loader: 100%|██████████| 288/288 [00:29<00:00,  9.73it/s]\n"
     ]
    },
    {
     "name": "stdout",
     "output_type": "stream",
     "text": [
      "Loss1: 1.4563, Loss2: 0.5686, Loss3: 2.4561\n"
     ]
    },
    {
     "name": "stderr",
     "output_type": "stream",
     "text": [
      "Test_Loader: 100%|██████████| 288/288 [00:29<00:00,  9.76it/s]\n"
     ]
    },
    {
     "name": "stdout",
     "output_type": "stream",
     "text": [
      "Loss1: 1.4667, Loss2: 0.5710, Loss3: 2.5112\n"
     ]
    },
    {
     "name": "stderr",
     "output_type": "stream",
     "text": [
      "Test_Loader: 100%|██████████| 288/288 [00:29<00:00,  9.62it/s]\n"
     ]
    },
    {
     "name": "stdout",
     "output_type": "stream",
     "text": [
      "Loss1: 1.4833, Loss2: 0.5773, Loss3: 2.5240\n"
     ]
    },
    {
     "name": "stderr",
     "output_type": "stream",
     "text": [
      "Test_Loader: 100%|██████████| 288/288 [00:30<00:00,  9.58it/s]\n"
     ]
    },
    {
     "name": "stdout",
     "output_type": "stream",
     "text": [
      "Loss1: 1.4614, Loss2: 0.5787, Loss3: 2.5024\n"
     ]
    },
    {
     "name": "stderr",
     "output_type": "stream",
     "text": [
      "Test_Loader: 100%|██████████| 288/288 [00:30<00:00,  9.50it/s]\n"
     ]
    },
    {
     "name": "stdout",
     "output_type": "stream",
     "text": [
      "Loss1: 1.4538, Loss2: 0.5670, Loss3: 2.5135\n"
     ]
    },
    {
     "name": "stderr",
     "output_type": "stream",
     "text": [
      "Test_Loader: 100%|██████████| 288/288 [00:30<00:00,  9.59it/s]\n"
     ]
    },
    {
     "name": "stdout",
     "output_type": "stream",
     "text": [
      "Loss1: 1.4425, Loss2: 0.5676, Loss3: 2.4598\n"
     ]
    },
    {
     "name": "stderr",
     "output_type": "stream",
     "text": [
      "Test_Loader: 100%|██████████| 288/288 [00:30<00:00,  9.56it/s]\n"
     ]
    },
    {
     "name": "stdout",
     "output_type": "stream",
     "text": [
      "Loss1: 1.4289, Loss2: 0.5601, Loss3: 2.4514\n"
     ]
    },
    {
     "name": "stderr",
     "output_type": "stream",
     "text": [
      "Test_Loader: 100%|██████████| 288/288 [00:30<00:00,  9.44it/s]\n"
     ]
    },
    {
     "name": "stdout",
     "output_type": "stream",
     "text": [
      "Loss1: 1.4555, Loss2: 0.5766, Loss3: 2.4867\n"
     ]
    },
    {
     "name": "stderr",
     "output_type": "stream",
     "text": [
      "Test_Loader: 100%|██████████| 288/288 [00:30<00:00,  9.46it/s]\n"
     ]
    },
    {
     "name": "stdout",
     "output_type": "stream",
     "text": [
      "Loss1: 1.5071, Loss2: 0.6021, Loss3: 2.6977\n"
     ]
    },
    {
     "name": "stderr",
     "output_type": "stream",
     "text": [
      "Test_Loader: 100%|██████████| 288/288 [00:29<00:00,  9.69it/s]\n"
     ]
    },
    {
     "name": "stdout",
     "output_type": "stream",
     "text": [
      "Loss1: 1.3905, Loss2: 0.4942, Loss3: 2.3219\n"
     ]
    },
    {
     "name": "stderr",
     "output_type": "stream",
     "text": [
      "Test_Loader: 100%|██████████| 288/288 [00:28<00:00,  9.96it/s]\n"
     ]
    },
    {
     "name": "stdout",
     "output_type": "stream",
     "text": [
      "Loss1: 1.3664, Loss2: 0.4889, Loss3: 2.3119\n"
     ]
    },
    {
     "name": "stderr",
     "output_type": "stream",
     "text": [
      "Test_Loader: 100%|██████████| 288/288 [00:29<00:00,  9.74it/s]\n"
     ]
    },
    {
     "name": "stdout",
     "output_type": "stream",
     "text": [
      "Loss1: 1.3734, Loss2: 0.4910, Loss3: 2.3102\n"
     ]
    },
    {
     "name": "stderr",
     "output_type": "stream",
     "text": [
      "Test_Loader: 100%|██████████| 288/288 [00:30<00:00,  9.42it/s]\n"
     ]
    },
    {
     "name": "stdout",
     "output_type": "stream",
     "text": [
      "Loss1: 1.3678, Loss2: 0.4886, Loss3: 2.2850\n"
     ]
    },
    {
     "name": "stderr",
     "output_type": "stream",
     "text": [
      "Test_Loader: 100%|██████████| 288/288 [00:29<00:00,  9.76it/s]\n"
     ]
    },
    {
     "name": "stdout",
     "output_type": "stream",
     "text": [
      "Loss1: 1.3628, Loss2: 0.4872, Loss3: 2.2759\n"
     ]
    },
    {
     "name": "stderr",
     "output_type": "stream",
     "text": [
      "Test_Loader: 100%|██████████| 288/288 [00:29<00:00,  9.90it/s]\n"
     ]
    },
    {
     "name": "stdout",
     "output_type": "stream",
     "text": [
      "Loss1: 1.3647, Loss2: 0.4829, Loss3: 2.2445\n"
     ]
    },
    {
     "name": "stderr",
     "output_type": "stream",
     "text": [
      "Test_Loader: 100%|██████████| 288/288 [00:29<00:00,  9.69it/s]\n"
     ]
    },
    {
     "name": "stdout",
     "output_type": "stream",
     "text": [
      "Loss1: 1.2732, Loss2: 0.4724, Loss3: 2.0905\n"
     ]
    },
    {
     "name": "stderr",
     "output_type": "stream",
     "text": [
      "Test_Loader: 100%|██████████| 288/288 [00:29<00:00,  9.66it/s]\n"
     ]
    },
    {
     "name": "stdout",
     "output_type": "stream",
     "text": [
      "Loss1: 1.2741, Loss2: 0.4670, Loss3: 2.0967\n"
     ]
    },
    {
     "name": "stderr",
     "output_type": "stream",
     "text": [
      "Test_Loader: 100%|██████████| 288/288 [00:30<00:00,  9.57it/s]\n"
     ]
    },
    {
     "name": "stdout",
     "output_type": "stream",
     "text": [
      "Loss1: 1.2603, Loss2: 0.4648, Loss3: 2.0973\n"
     ]
    },
    {
     "name": "stderr",
     "output_type": "stream",
     "text": [
      "Test_Loader: 100%|██████████| 288/288 [00:30<00:00,  9.54it/s]\n"
     ]
    },
    {
     "name": "stdout",
     "output_type": "stream",
     "text": [
      "Loss1: 1.2750, Loss2: 0.4646, Loss3: 2.0922\n"
     ]
    },
    {
     "name": "stderr",
     "output_type": "stream",
     "text": [
      "Test_Loader: 100%|██████████| 288/288 [00:30<00:00,  9.54it/s]\n"
     ]
    },
    {
     "name": "stdout",
     "output_type": "stream",
     "text": [
      "Loss1: 1.2710, Loss2: 0.4592, Loss3: 2.0762\n"
     ]
    },
    {
     "name": "stderr",
     "output_type": "stream",
     "text": [
      "Test_Loader: 100%|██████████| 288/288 [00:30<00:00,  9.52it/s]\n"
     ]
    },
    {
     "name": "stdout",
     "output_type": "stream",
     "text": [
      "Loss1: 1.1233, Loss2: 0.4380, Loss3: 1.8678\n"
     ]
    },
    {
     "name": "stderr",
     "output_type": "stream",
     "text": [
      "Test_Loader: 100%|██████████| 288/288 [00:29<00:00,  9.66it/s]\n"
     ]
    },
    {
     "name": "stdout",
     "output_type": "stream",
     "text": [
      "Loss1: 1.0924, Loss2: 0.4357, Loss3: 1.8470\n"
     ]
    },
    {
     "name": "stderr",
     "output_type": "stream",
     "text": [
      "Test_Loader: 100%|██████████| 288/288 [00:28<00:00,  9.99it/s]\n"
     ]
    },
    {
     "name": "stdout",
     "output_type": "stream",
     "text": [
      "Loss1: 1.0955, Loss2: 0.4335, Loss3: 1.8247\n"
     ]
    },
    {
     "name": "stderr",
     "output_type": "stream",
     "text": [
      "Test_Loader: 100%|██████████| 288/288 [00:29<00:00,  9.78it/s]\n"
     ]
    },
    {
     "name": "stdout",
     "output_type": "stream",
     "text": [
      "Loss1: 1.0913, Loss2: 0.4341, Loss3: 1.8401\n"
     ]
    },
    {
     "name": "stderr",
     "output_type": "stream",
     "text": [
      "Test_Loader: 100%|██████████| 288/288 [00:30<00:00,  9.58it/s]\n"
     ]
    },
    {
     "name": "stdout",
     "output_type": "stream",
     "text": [
      "Loss1: 1.0534, Loss2: 0.4278, Loss3: 1.7644\n"
     ]
    },
    {
     "name": "stderr",
     "output_type": "stream",
     "text": [
      "Test_Loader: 100%|██████████| 288/288 [00:30<00:00,  9.56it/s]\n"
     ]
    },
    {
     "name": "stdout",
     "output_type": "stream",
     "text": [
      "Loss1: 1.0585, Loss2: 0.4234, Loss3: 1.7762\n"
     ]
    },
    {
     "name": "stderr",
     "output_type": "stream",
     "text": [
      "Test_Loader: 100%|██████████| 288/288 [00:28<00:00,  9.96it/s]\n"
     ]
    },
    {
     "name": "stdout",
     "output_type": "stream",
     "text": [
      "Loss1: 1.0610, Loss2: 0.4222, Loss3: 1.7803\n"
     ]
    },
    {
     "name": "stderr",
     "output_type": "stream",
     "text": [
      "Test_Loader: 100%|██████████| 288/288 [00:29<00:00,  9.62it/s]\n"
     ]
    },
    {
     "name": "stdout",
     "output_type": "stream",
     "text": [
      "Loss1: 1.0359, Loss2: 0.4242, Loss3: 1.7595\n"
     ]
    },
    {
     "name": "stderr",
     "output_type": "stream",
     "text": [
      "Test_Loader: 100%|██████████| 288/288 [00:29<00:00,  9.62it/s]\n"
     ]
    },
    {
     "name": "stdout",
     "output_type": "stream",
     "text": [
      "Loss1: 1.0241, Loss2: 0.4213, Loss3: 1.7657\n"
     ]
    },
    {
     "name": "stderr",
     "output_type": "stream",
     "text": [
      "Test_Loader: 100%|██████████| 288/288 [00:30<00:00,  9.52it/s]\n"
     ]
    },
    {
     "name": "stdout",
     "output_type": "stream",
     "text": [
      "Loss1: 1.0201, Loss2: 0.4210, Loss3: 1.7449\n"
     ]
    },
    {
     "name": "stderr",
     "output_type": "stream",
     "text": [
      "Test_Loader: 100%|██████████| 288/288 [00:29<00:00,  9.65it/s]\n"
     ]
    },
    {
     "name": "stdout",
     "output_type": "stream",
     "text": [
      "Loss1: 0.9961, Loss2: 0.4160, Loss3: 1.7257\n"
     ]
    },
    {
     "name": "stderr",
     "output_type": "stream",
     "text": [
      "Test_Loader: 100%|██████████| 288/288 [00:30<00:00,  9.58it/s]\n"
     ]
    },
    {
     "name": "stdout",
     "output_type": "stream",
     "text": [
      "Loss1: 1.0041, Loss2: 0.4157, Loss3: 1.7054\n"
     ]
    },
    {
     "name": "stderr",
     "output_type": "stream",
     "text": [
      "Test_Loader: 100%|██████████| 288/288 [00:29<00:00,  9.64it/s]\n"
     ]
    },
    {
     "name": "stdout",
     "output_type": "stream",
     "text": [
      "Loss1: 0.9707, Loss2: 0.4131, Loss3: 1.6249\n"
     ]
    },
    {
     "name": "stderr",
     "output_type": "stream",
     "text": [
      "Test_Loader: 100%|██████████| 288/288 [00:29<00:00,  9.71it/s]\n"
     ]
    },
    {
     "name": "stdout",
     "output_type": "stream",
     "text": [
      "Loss1: 0.9701, Loss2: 0.4137, Loss3: 1.6269\n"
     ]
    },
    {
     "name": "stderr",
     "output_type": "stream",
     "text": [
      "Test_Loader: 100%|██████████| 288/288 [00:27<00:00, 10.54it/s]\n"
     ]
    },
    {
     "name": "stdout",
     "output_type": "stream",
     "text": [
      "Loss1: 0.9730, Loss2: 0.4145, Loss3: 1.6246\n"
     ]
    },
    {
     "name": "stderr",
     "output_type": "stream",
     "text": [
      "Test_Loader: 100%|██████████| 288/288 [00:28<00:00, 10.06it/s]\n"
     ]
    },
    {
     "name": "stdout",
     "output_type": "stream",
     "text": [
      "Loss1: 0.9518, Loss2: 0.4037, Loss3: 1.6061\n"
     ]
    },
    {
     "name": "stderr",
     "output_type": "stream",
     "text": [
      "Test_Loader: 100%|██████████| 288/288 [00:30<00:00,  9.37it/s]\n"
     ]
    },
    {
     "name": "stdout",
     "output_type": "stream",
     "text": [
      "Loss1: 0.9460, Loss2: 0.4016, Loss3: 1.5985\n"
     ]
    },
    {
     "name": "stderr",
     "output_type": "stream",
     "text": [
      "Test_Loader: 100%|██████████| 288/288 [00:30<00:00,  9.46it/s]\n"
     ]
    },
    {
     "name": "stdout",
     "output_type": "stream",
     "text": [
      "Loss1: 0.9548, Loss2: 0.4051, Loss3: 1.6133\n"
     ]
    },
    {
     "name": "stderr",
     "output_type": "stream",
     "text": [
      "Test_Loader: 100%|██████████| 288/288 [00:29<00:00,  9.83it/s]\n"
     ]
    },
    {
     "name": "stdout",
     "output_type": "stream",
     "text": [
      "Loss1: 0.9491, Loss2: 0.4044, Loss3: 1.6212\n"
     ]
    },
    {
     "name": "stderr",
     "output_type": "stream",
     "text": [
      "Test_Loader: 100%|██████████| 288/288 [00:30<00:00,  9.51it/s]\n"
     ]
    },
    {
     "name": "stdout",
     "output_type": "stream",
     "text": [
      "Loss1: 0.9476, Loss2: 0.4073, Loss3: 1.6193\n"
     ]
    },
    {
     "name": "stderr",
     "output_type": "stream",
     "text": [
      "Test_Loader: 100%|██████████| 288/288 [00:30<00:00,  9.44it/s]\n"
     ]
    },
    {
     "name": "stdout",
     "output_type": "stream",
     "text": [
      "Loss1: 0.9674, Loss2: 0.4072, Loss3: 1.6287\n"
     ]
    },
    {
     "name": "stderr",
     "output_type": "stream",
     "text": [
      "Test_Loader: 100%|██████████| 288/288 [00:29<00:00,  9.65it/s]\n"
     ]
    },
    {
     "name": "stdout",
     "output_type": "stream",
     "text": [
      "Loss1: 0.9563, Loss2: 0.4061, Loss3: 1.6206\n"
     ]
    },
    {
     "name": "stderr",
     "output_type": "stream",
     "text": [
      "Test_Loader: 100%|██████████| 288/288 [00:30<00:00,  9.55it/s]\n"
     ]
    },
    {
     "name": "stdout",
     "output_type": "stream",
     "text": [
      "Loss1: 1.2913, Loss2: 0.5025, Loss3: 2.0087\n"
     ]
    },
    {
     "name": "stderr",
     "output_type": "stream",
     "text": [
      "Test_Loader: 100%|██████████| 288/288 [00:30<00:00,  9.40it/s]\n"
     ]
    },
    {
     "name": "stdout",
     "output_type": "stream",
     "text": [
      "Loss1: 1.2788, Loss2: 0.5029, Loss3: 1.9780\n"
     ]
    },
    {
     "name": "stderr",
     "output_type": "stream",
     "text": [
      "Test_Loader: 100%|██████████| 288/288 [00:28<00:00, 10.05it/s]\n"
     ]
    },
    {
     "name": "stdout",
     "output_type": "stream",
     "text": [
      "Loss1: 1.3033, Loss2: 0.5124, Loss3: 1.9608\n"
     ]
    },
    {
     "name": "stderr",
     "output_type": "stream",
     "text": [
      "Test_Loader: 100%|██████████| 288/288 [00:28<00:00, 10.02it/s]\n"
     ]
    },
    {
     "name": "stdout",
     "output_type": "stream",
     "text": [
      "Loss1: 1.2980, Loss2: 0.5116, Loss3: 1.9524\n"
     ]
    },
    {
     "name": "stderr",
     "output_type": "stream",
     "text": [
      "Test_Loader: 100%|██████████| 288/288 [00:29<00:00,  9.89it/s]\n"
     ]
    },
    {
     "name": "stdout",
     "output_type": "stream",
     "text": [
      "Loss1: 1.2931, Loss2: 0.4936, Loss3: 1.9474\n"
     ]
    },
    {
     "name": "stderr",
     "output_type": "stream",
     "text": [
      "Test_Loader: 100%|██████████| 288/288 [00:28<00:00,  9.98it/s]\n"
     ]
    },
    {
     "name": "stdout",
     "output_type": "stream",
     "text": [
      "Loss1: 1.2699, Loss2: 0.4938, Loss3: 1.8954\n"
     ]
    },
    {
     "name": "stderr",
     "output_type": "stream",
     "text": [
      "Test_Loader: 100%|██████████| 288/288 [00:30<00:00,  9.47it/s]\n"
     ]
    },
    {
     "name": "stdout",
     "output_type": "stream",
     "text": [
      "Loss1: 1.2756, Loss2: 0.4916, Loss3: 1.9362\n"
     ]
    },
    {
     "name": "stderr",
     "output_type": "stream",
     "text": [
      "Test_Loader: 100%|██████████| 288/288 [00:30<00:00,  9.42it/s]\n"
     ]
    },
    {
     "name": "stdout",
     "output_type": "stream",
     "text": [
      "Loss1: 1.2508, Loss2: 0.4931, Loss3: 1.8824\n"
     ]
    },
    {
     "name": "stderr",
     "output_type": "stream",
     "text": [
      "Test_Loader: 100%|██████████| 288/288 [00:29<00:00,  9.80it/s]\n"
     ]
    },
    {
     "name": "stdout",
     "output_type": "stream",
     "text": [
      "Loss1: 1.2226, Loss2: 0.4814, Loss3: 1.8647\n"
     ]
    },
    {
     "name": "stderr",
     "output_type": "stream",
     "text": [
      "Test_Loader: 100%|██████████| 288/288 [00:29<00:00,  9.62it/s]\n"
     ]
    },
    {
     "name": "stdout",
     "output_type": "stream",
     "text": [
      "Loss1: 1.2548, Loss2: 0.4997, Loss3: 1.9554\n"
     ]
    },
    {
     "name": "stderr",
     "output_type": "stream",
     "text": [
      "Test_Loader: 100%|██████████| 288/288 [00:30<00:00,  9.59it/s]\n"
     ]
    },
    {
     "name": "stdout",
     "output_type": "stream",
     "text": [
      "Loss1: 1.2588, Loss2: 0.5010, Loss3: 1.9190\n"
     ]
    },
    {
     "name": "stderr",
     "output_type": "stream",
     "text": [
      "Test_Loader: 100%|██████████| 288/288 [00:30<00:00,  9.57it/s]\n"
     ]
    },
    {
     "name": "stdout",
     "output_type": "stream",
     "text": [
      "Loss1: 1.2429, Loss2: 0.4928, Loss3: 1.8620\n"
     ]
    },
    {
     "name": "stderr",
     "output_type": "stream",
     "text": [
      "Test_Loader: 100%|██████████| 288/288 [00:30<00:00,  9.59it/s]\n"
     ]
    },
    {
     "name": "stdout",
     "output_type": "stream",
     "text": [
      "Loss1: 1.2461, Loss2: 0.4907, Loss3: 1.8643\n"
     ]
    },
    {
     "name": "stderr",
     "output_type": "stream",
     "text": [
      "Test_Loader: 100%|██████████| 288/288 [00:30<00:00,  9.58it/s]\n"
     ]
    },
    {
     "name": "stdout",
     "output_type": "stream",
     "text": [
      "Loss1: 1.2439, Loss2: 0.4837, Loss3: 1.8301\n"
     ]
    },
    {
     "name": "stderr",
     "output_type": "stream",
     "text": [
      "Test_Loader: 100%|██████████| 288/288 [00:29<00:00,  9.68it/s]\n"
     ]
    },
    {
     "name": "stdout",
     "output_type": "stream",
     "text": [
      "Loss1: 1.2866, Loss2: 0.4971, Loss3: 1.8722\n"
     ]
    },
    {
     "name": "stderr",
     "output_type": "stream",
     "text": [
      "Test_Loader: 100%|██████████| 288/288 [00:29<00:00,  9.71it/s]\n"
     ]
    },
    {
     "name": "stdout",
     "output_type": "stream",
     "text": [
      "Loss1: 1.3266, Loss2: 0.5097, Loss3: 1.9264\n"
     ]
    },
    {
     "name": "stderr",
     "output_type": "stream",
     "text": [
      "Test_Loader: 100%|██████████| 288/288 [00:28<00:00, 10.17it/s]\n"
     ]
    },
    {
     "name": "stdout",
     "output_type": "stream",
     "text": [
      "Loss1: 1.3235, Loss2: 0.5086, Loss3: 1.9264\n"
     ]
    },
    {
     "name": "stderr",
     "output_type": "stream",
     "text": [
      "Test_Loader: 100%|██████████| 288/288 [00:28<00:00,  9.96it/s]\n"
     ]
    },
    {
     "name": "stdout",
     "output_type": "stream",
     "text": [
      "Loss1: 1.3219, Loss2: 0.5057, Loss3: 1.9071\n"
     ]
    },
    {
     "name": "stderr",
     "output_type": "stream",
     "text": [
      "Test_Loader: 100%|██████████| 288/288 [00:30<00:00,  9.51it/s]\n"
     ]
    },
    {
     "name": "stdout",
     "output_type": "stream",
     "text": [
      "Loss1: 1.3305, Loss2: 0.5181, Loss3: 1.8926\n"
     ]
    },
    {
     "name": "stderr",
     "output_type": "stream",
     "text": [
      "Test_Loader: 100%|██████████| 288/288 [00:28<00:00,  9.97it/s]\n"
     ]
    },
    {
     "name": "stdout",
     "output_type": "stream",
     "text": [
      "Loss1: 1.3176, Loss2: 0.5162, Loss3: 1.8818\n"
     ]
    },
    {
     "name": "stderr",
     "output_type": "stream",
     "text": [
      "Test_Loader: 100%|██████████| 288/288 [00:29<00:00,  9.70it/s]\n"
     ]
    },
    {
     "name": "stdout",
     "output_type": "stream",
     "text": [
      "Loss1: 1.3402, Loss2: 0.5210, Loss3: 1.8896\n"
     ]
    },
    {
     "name": "stderr",
     "output_type": "stream",
     "text": [
      "Test_Loader: 100%|██████████| 288/288 [00:29<00:00,  9.66it/s]\n"
     ]
    },
    {
     "name": "stdout",
     "output_type": "stream",
     "text": [
      "Loss1: 1.3443, Loss2: 0.5221, Loss3: 1.8795\n"
     ]
    },
    {
     "name": "stderr",
     "output_type": "stream",
     "text": [
      "Test_Loader: 100%|██████████| 288/288 [00:29<00:00,  9.62it/s]\n"
     ]
    },
    {
     "name": "stdout",
     "output_type": "stream",
     "text": [
      "Loss1: 1.3778, Loss2: 0.5279, Loss3: 1.9152\n"
     ]
    },
    {
     "name": "stderr",
     "output_type": "stream",
     "text": [
      "Test_Loader: 100%|██████████| 288/288 [00:29<00:00,  9.79it/s]\n"
     ]
    },
    {
     "name": "stdout",
     "output_type": "stream",
     "text": [
      "Loss1: 1.3822, Loss2: 0.5365, Loss3: 1.9095\n"
     ]
    },
    {
     "name": "stderr",
     "output_type": "stream",
     "text": [
      "Test_Loader: 100%|██████████| 288/288 [00:29<00:00,  9.71it/s]\n"
     ]
    },
    {
     "name": "stdout",
     "output_type": "stream",
     "text": [
      "Loss1: 1.4630, Loss2: 0.5336, Loss3: 2.0288\n"
     ]
    },
    {
     "name": "stderr",
     "output_type": "stream",
     "text": [
      "Test_Loader: 100%|██████████| 288/288 [00:29<00:00,  9.65it/s]\n"
     ]
    },
    {
     "name": "stdout",
     "output_type": "stream",
     "text": [
      "Loss1: 1.4599, Loss2: 0.5395, Loss3: 2.0335\n"
     ]
    },
    {
     "name": "stderr",
     "output_type": "stream",
     "text": [
      "Test_Loader: 100%|██████████| 288/288 [00:29<00:00,  9.62it/s]\n"
     ]
    },
    {
     "name": "stdout",
     "output_type": "stream",
     "text": [
      "Loss1: 1.4401, Loss2: 0.5301, Loss3: 1.9930\n"
     ]
    },
    {
     "name": "stderr",
     "output_type": "stream",
     "text": [
      "Test_Loader: 100%|██████████| 288/288 [00:30<00:00,  9.60it/s]\n"
     ]
    },
    {
     "name": "stdout",
     "output_type": "stream",
     "text": [
      "Loss1: 1.4317, Loss2: 0.5422, Loss3: 2.0148\n"
     ]
    },
    {
     "name": "stderr",
     "output_type": "stream",
     "text": [
      "Test_Loader: 100%|██████████| 288/288 [00:29<00:00,  9.80it/s]\n"
     ]
    },
    {
     "name": "stdout",
     "output_type": "stream",
     "text": [
      "Loss1: 1.4299, Loss2: 0.5503, Loss3: 2.0093\n"
     ]
    },
    {
     "name": "stderr",
     "output_type": "stream",
     "text": [
      "Test_Loader: 100%|██████████| 288/288 [00:30<00:00,  9.44it/s]\n"
     ]
    },
    {
     "name": "stdout",
     "output_type": "stream",
     "text": [
      "Loss1: 1.4149, Loss2: 0.5416, Loss3: 1.9856\n"
     ]
    },
    {
     "name": "stderr",
     "output_type": "stream",
     "text": [
      "Test_Loader: 100%|██████████| 288/288 [00:31<00:00,  9.14it/s]\n"
     ]
    },
    {
     "name": "stdout",
     "output_type": "stream",
     "text": [
      "Loss1: 1.4249, Loss2: 0.5430, Loss3: 1.9808\n"
     ]
    },
    {
     "name": "stderr",
     "output_type": "stream",
     "text": [
      "Test_Loader: 100%|██████████| 288/288 [00:30<00:00,  9.43it/s]\n"
     ]
    },
    {
     "name": "stdout",
     "output_type": "stream",
     "text": [
      "Loss1: 1.4234, Loss2: 0.5447, Loss3: 1.9583\n"
     ]
    },
    {
     "name": "stderr",
     "output_type": "stream",
     "text": [
      "Test_Loader: 100%|██████████| 288/288 [00:29<00:00,  9.92it/s]\n"
     ]
    },
    {
     "name": "stdout",
     "output_type": "stream",
     "text": [
      "Loss1: 1.3751, Loss2: 0.5161, Loss3: 1.8278\n"
     ]
    },
    {
     "name": "stderr",
     "output_type": "stream",
     "text": [
      "Test_Loader: 100%|██████████| 288/288 [00:28<00:00, 10.27it/s]\n"
     ]
    },
    {
     "name": "stdout",
     "output_type": "stream",
     "text": [
      "Loss1: 1.3580, Loss2: 0.5128, Loss3: 1.8053\n"
     ]
    },
    {
     "name": "stderr",
     "output_type": "stream",
     "text": [
      "Test_Loader: 100%|██████████| 288/288 [00:29<00:00,  9.81it/s]\n"
     ]
    },
    {
     "name": "stdout",
     "output_type": "stream",
     "text": [
      "Loss1: 1.3491, Loss2: 0.5083, Loss3: 1.7967\n"
     ]
    },
    {
     "name": "stderr",
     "output_type": "stream",
     "text": [
      "Test_Loader: 100%|██████████| 288/288 [00:30<00:00,  9.56it/s]\n"
     ]
    },
    {
     "name": "stdout",
     "output_type": "stream",
     "text": [
      "Loss1: 1.3448, Loss2: 0.5096, Loss3: 1.7862\n"
     ]
    },
    {
     "name": "stderr",
     "output_type": "stream",
     "text": [
      "Test_Loader: 100%|██████████| 288/288 [00:30<00:00,  9.54it/s]\n"
     ]
    },
    {
     "name": "stdout",
     "output_type": "stream",
     "text": [
      "Loss1: 1.3389, Loss2: 0.5048, Loss3: 1.7933\n"
     ]
    },
    {
     "name": "stderr",
     "output_type": "stream",
     "text": [
      "Test_Loader: 100%|██████████| 288/288 [00:29<00:00,  9.75it/s]\n"
     ]
    },
    {
     "name": "stdout",
     "output_type": "stream",
     "text": [
      "Loss1: 1.3406, Loss2: 0.5040, Loss3: 1.7901\n"
     ]
    },
    {
     "name": "stderr",
     "output_type": "stream",
     "text": [
      "Test_Loader: 100%|██████████| 288/288 [00:30<00:00,  9.45it/s]\n"
     ]
    },
    {
     "name": "stdout",
     "output_type": "stream",
     "text": [
      "Loss1: 1.3319, Loss2: 0.5016, Loss3: 1.7902\n"
     ]
    },
    {
     "name": "stderr",
     "output_type": "stream",
     "text": [
      "Test_Loader: 100%|██████████| 288/288 [00:30<00:00,  9.38it/s]\n"
     ]
    },
    {
     "name": "stdout",
     "output_type": "stream",
     "text": [
      "Loss1: 1.3359, Loss2: 0.5063, Loss3: 1.7943\n"
     ]
    },
    {
     "name": "stderr",
     "output_type": "stream",
     "text": [
      "Test_Loader: 100%|██████████| 288/288 [00:29<00:00,  9.83it/s]\n"
     ]
    },
    {
     "name": "stdout",
     "output_type": "stream",
     "text": [
      "Loss1: 1.3211, Loss2: 0.5015, Loss3: 1.7660\n"
     ]
    },
    {
     "name": "stderr",
     "output_type": "stream",
     "text": [
      "Test_Loader: 100%|██████████| 288/288 [00:29<00:00,  9.86it/s]\n"
     ]
    },
    {
     "name": "stdout",
     "output_type": "stream",
     "text": [
      "Loss1: 1.3285, Loss2: 0.4948, Loss3: 1.7647\n"
     ]
    },
    {
     "name": "stderr",
     "output_type": "stream",
     "text": [
      "Test_Loader: 100%|██████████| 288/288 [00:29<00:00,  9.80it/s]\n"
     ]
    },
    {
     "name": "stdout",
     "output_type": "stream",
     "text": [
      "Loss1: 1.3616, Loss2: 0.5149, Loss3: 1.8891\n"
     ]
    },
    {
     "name": "stderr",
     "output_type": "stream",
     "text": [
      "Test_Loader: 100%|██████████| 288/288 [00:29<00:00,  9.64it/s]\n"
     ]
    },
    {
     "name": "stdout",
     "output_type": "stream",
     "text": [
      "Loss1: 1.3858, Loss2: 0.5197, Loss3: 1.8719\n"
     ]
    },
    {
     "name": "stderr",
     "output_type": "stream",
     "text": [
      "Test_Loader: 100%|██████████| 288/288 [00:28<00:00, 10.22it/s]\n"
     ]
    },
    {
     "name": "stdout",
     "output_type": "stream",
     "text": [
      "Loss1: 1.3657, Loss2: 0.4819, Loss3: 1.8280\n"
     ]
    },
    {
     "name": "stderr",
     "output_type": "stream",
     "text": [
      "Test_Loader: 100%|██████████| 288/288 [00:27<00:00, 10.34it/s]\n"
     ]
    },
    {
     "name": "stdout",
     "output_type": "stream",
     "text": [
      "Loss1: 1.4256, Loss2: 0.5462, Loss3: 2.1834\n"
     ]
    },
    {
     "name": "stderr",
     "output_type": "stream",
     "text": [
      "Test_Loader: 100%|██████████| 288/288 [00:28<00:00, 10.26it/s]\n"
     ]
    },
    {
     "name": "stdout",
     "output_type": "stream",
     "text": [
      "Loss1: 1.4138, Loss2: 0.5321, Loss3: 2.1280\n"
     ]
    },
    {
     "name": "stderr",
     "output_type": "stream",
     "text": [
      "Test_Loader: 100%|██████████| 288/288 [00:28<00:00, 10.15it/s]\n"
     ]
    },
    {
     "name": "stdout",
     "output_type": "stream",
     "text": [
      "Loss1: 1.3941, Loss2: 0.5326, Loss3: 2.1064\n"
     ]
    },
    {
     "name": "stderr",
     "output_type": "stream",
     "text": [
      "Test_Loader: 100%|██████████| 288/288 [00:28<00:00,  9.94it/s]\n"
     ]
    },
    {
     "name": "stdout",
     "output_type": "stream",
     "text": [
      "Loss1: 1.3692, Loss2: 0.5216, Loss3: 2.0749\n"
     ]
    },
    {
     "name": "stderr",
     "output_type": "stream",
     "text": [
      "Test_Loader: 100%|██████████| 288/288 [00:30<00:00,  9.54it/s]\n"
     ]
    },
    {
     "name": "stdout",
     "output_type": "stream",
     "text": [
      "Loss1: 1.3516, Loss2: 0.5186, Loss3: 2.0317\n"
     ]
    },
    {
     "name": "stderr",
     "output_type": "stream",
     "text": [
      "Test_Loader: 100%|██████████| 288/288 [00:28<00:00,  9.94it/s]\n"
     ]
    },
    {
     "name": "stdout",
     "output_type": "stream",
     "text": [
      "Loss1: 1.3561, Loss2: 0.5180, Loss3: 2.0411\n"
     ]
    },
    {
     "name": "stderr",
     "output_type": "stream",
     "text": [
      "Test_Loader: 100%|██████████| 288/288 [00:30<00:00,  9.56it/s]\n"
     ]
    },
    {
     "name": "stdout",
     "output_type": "stream",
     "text": [
      "Loss1: 1.3638, Loss2: 0.5168, Loss3: 2.0257\n"
     ]
    },
    {
     "name": "stderr",
     "output_type": "stream",
     "text": [
      "Test_Loader: 100%|██████████| 288/288 [00:29<00:00,  9.65it/s]\n"
     ]
    },
    {
     "name": "stdout",
     "output_type": "stream",
     "text": [
      "Loss1: 1.3590, Loss2: 0.5158, Loss3: 2.0133\n"
     ]
    },
    {
     "name": "stderr",
     "output_type": "stream",
     "text": [
      "Test_Loader: 100%|██████████| 288/288 [00:28<00:00, 10.07it/s]\n"
     ]
    },
    {
     "name": "stdout",
     "output_type": "stream",
     "text": [
      "Loss1: 1.3413, Loss2: 0.5118, Loss3: 1.9924\n"
     ]
    },
    {
     "name": "stderr",
     "output_type": "stream",
     "text": [
      "Test_Loader: 100%|██████████| 288/288 [00:29<00:00,  9.68it/s]\n"
     ]
    },
    {
     "name": "stdout",
     "output_type": "stream",
     "text": [
      "Loss1: 1.3403, Loss2: 0.5109, Loss3: 1.9976\n"
     ]
    },
    {
     "name": "stderr",
     "output_type": "stream",
     "text": [
      "Test_Loader: 100%|██████████| 288/288 [00:31<00:00,  9.29it/s]\n"
     ]
    },
    {
     "name": "stdout",
     "output_type": "stream",
     "text": [
      "Loss1: 1.3464, Loss2: 0.5096, Loss3: 2.0635\n"
     ]
    },
    {
     "name": "stderr",
     "output_type": "stream",
     "text": [
      "Test_Loader: 100%|██████████| 288/288 [00:28<00:00, 10.24it/s]\n"
     ]
    },
    {
     "name": "stdout",
     "output_type": "stream",
     "text": [
      "Loss1: 1.3503, Loss2: 0.5020, Loss3: 2.0417\n"
     ]
    },
    {
     "name": "stderr",
     "output_type": "stream",
     "text": [
      "Test_Loader: 100%|██████████| 288/288 [00:27<00:00, 10.29it/s]\n"
     ]
    },
    {
     "name": "stdout",
     "output_type": "stream",
     "text": [
      "Loss1: 1.3376, Loss2: 0.5009, Loss3: 2.0201\n"
     ]
    },
    {
     "name": "stderr",
     "output_type": "stream",
     "text": [
      "Test_Loader: 100%|██████████| 288/288 [00:27<00:00, 10.31it/s]\n"
     ]
    },
    {
     "name": "stdout",
     "output_type": "stream",
     "text": [
      "Loss1: 1.3287, Loss2: 0.5014, Loss3: 1.9870\n"
     ]
    },
    {
     "name": "stderr",
     "output_type": "stream",
     "text": [
      "Test_Loader: 100%|██████████| 288/288 [00:29<00:00,  9.92it/s]\n"
     ]
    },
    {
     "name": "stdout",
     "output_type": "stream",
     "text": [
      "Loss1: 1.3314, Loss2: 0.4976, Loss3: 1.9870\n"
     ]
    },
    {
     "name": "stderr",
     "output_type": "stream",
     "text": [
      "Test_Loader: 100%|██████████| 288/288 [00:29<00:00,  9.65it/s]\n"
     ]
    },
    {
     "name": "stdout",
     "output_type": "stream",
     "text": [
      "Loss1: 1.3273, Loss2: 0.4991, Loss3: 1.9835\n"
     ]
    },
    {
     "name": "stderr",
     "output_type": "stream",
     "text": [
      "Test_Loader: 100%|██████████| 288/288 [00:30<00:00,  9.45it/s]\n"
     ]
    },
    {
     "name": "stdout",
     "output_type": "stream",
     "text": [
      "Loss1: 1.4040, Loss2: 0.5041, Loss3: 2.0010\n"
     ]
    },
    {
     "name": "stderr",
     "output_type": "stream",
     "text": [
      "Test_Loader: 100%|██████████| 288/288 [00:30<00:00,  9.41it/s]\n"
     ]
    },
    {
     "name": "stdout",
     "output_type": "stream",
     "text": [
      "Loss1: 1.3482, Loss2: 0.4964, Loss3: 1.8225\n"
     ]
    },
    {
     "name": "stderr",
     "output_type": "stream",
     "text": [
      "Test_Loader: 100%|██████████| 288/288 [00:30<00:00,  9.40it/s]\n"
     ]
    },
    {
     "name": "stdout",
     "output_type": "stream",
     "text": [
      "Loss1: 1.3531, Loss2: 0.4906, Loss3: 1.8409\n"
     ]
    },
    {
     "name": "stderr",
     "output_type": "stream",
     "text": [
      "Test_Loader: 100%|██████████| 288/288 [00:30<00:00,  9.40it/s]\n"
     ]
    },
    {
     "name": "stdout",
     "output_type": "stream",
     "text": [
      "Loss1: 1.3466, Loss2: 0.4952, Loss3: 1.8270\n"
     ]
    },
    {
     "name": "stderr",
     "output_type": "stream",
     "text": [
      "Test_Loader: 100%|██████████| 288/288 [00:29<00:00,  9.79it/s]\n"
     ]
    },
    {
     "name": "stdout",
     "output_type": "stream",
     "text": [
      "Loss1: 1.3321, Loss2: 0.4904, Loss3: 1.8062\n"
     ]
    },
    {
     "name": "stderr",
     "output_type": "stream",
     "text": [
      "Test_Loader: 100%|██████████| 288/288 [00:29<00:00,  9.87it/s]\n"
     ]
    },
    {
     "name": "stdout",
     "output_type": "stream",
     "text": [
      "Loss1: 1.3273, Loss2: 0.4897, Loss3: 1.7758\n"
     ]
    },
    {
     "name": "stderr",
     "output_type": "stream",
     "text": [
      "Test_Loader: 100%|██████████| 288/288 [00:28<00:00,  9.99it/s]\n"
     ]
    },
    {
     "name": "stdout",
     "output_type": "stream",
     "text": [
      "Loss1: 1.3204, Loss2: 0.4857, Loss3: 1.7999\n"
     ]
    },
    {
     "name": "stderr",
     "output_type": "stream",
     "text": [
      "Test_Loader: 100%|██████████| 288/288 [00:27<00:00, 10.45it/s]\n"
     ]
    },
    {
     "name": "stdout",
     "output_type": "stream",
     "text": [
      "Loss1: 1.3116, Loss2: 0.4860, Loss3: 1.7780\n"
     ]
    },
    {
     "name": "stderr",
     "output_type": "stream",
     "text": [
      "Test_Loader: 100%|██████████| 288/288 [00:27<00:00, 10.63it/s]\n"
     ]
    },
    {
     "name": "stdout",
     "output_type": "stream",
     "text": [
      "Loss1: 1.3170, Loss2: 0.4810, Loss3: 1.7630\n"
     ]
    },
    {
     "name": "stderr",
     "output_type": "stream",
     "text": [
      "Test_Loader: 100%|██████████| 288/288 [00:27<00:00, 10.37it/s]\n"
     ]
    },
    {
     "name": "stdout",
     "output_type": "stream",
     "text": [
      "Loss1: 1.3177, Loss2: 0.4797, Loss3: 1.7553\n"
     ]
    },
    {
     "name": "stderr",
     "output_type": "stream",
     "text": [
      "Test_Loader: 100%|██████████| 288/288 [00:27<00:00, 10.34it/s]\n"
     ]
    },
    {
     "name": "stdout",
     "output_type": "stream",
     "text": [
      "Loss1: 1.3064, Loss2: 0.4804, Loss3: 1.7400\n"
     ]
    },
    {
     "name": "stderr",
     "output_type": "stream",
     "text": [
      "Test_Loader: 100%|██████████| 288/288 [00:27<00:00, 10.33it/s]\n"
     ]
    },
    {
     "name": "stdout",
     "output_type": "stream",
     "text": [
      "Loss1: 1.2987, Loss2: 0.4774, Loss3: 1.7399\n"
     ]
    },
    {
     "name": "stderr",
     "output_type": "stream",
     "text": [
      "Test_Loader: 100%|██████████| 288/288 [00:27<00:00, 10.53it/s]\n"
     ]
    },
    {
     "name": "stdout",
     "output_type": "stream",
     "text": [
      "Loss1: 1.2975, Loss2: 0.4787, Loss3: 1.7238\n"
     ]
    },
    {
     "name": "stderr",
     "output_type": "stream",
     "text": [
      "Test_Loader: 100%|██████████| 288/288 [00:27<00:00, 10.34it/s]\n"
     ]
    },
    {
     "name": "stdout",
     "output_type": "stream",
     "text": [
      "Loss1: 1.3065, Loss2: 0.4729, Loss3: 1.7371\n"
     ]
    },
    {
     "name": "stderr",
     "output_type": "stream",
     "text": [
      "Test_Loader: 100%|██████████| 288/288 [00:28<00:00, 10.12it/s]\n"
     ]
    },
    {
     "name": "stdout",
     "output_type": "stream",
     "text": [
      "Loss1: 1.3059, Loss2: 0.4693, Loss3: 1.6913\n"
     ]
    },
    {
     "name": "stderr",
     "output_type": "stream",
     "text": [
      "Test_Loader: 100%|██████████| 288/288 [00:28<00:00, 10.14it/s]\n"
     ]
    },
    {
     "name": "stdout",
     "output_type": "stream",
     "text": [
      "Loss1: 1.2897, Loss2: 0.4690, Loss3: 1.6941\n"
     ]
    },
    {
     "name": "stderr",
     "output_type": "stream",
     "text": [
      "Test_Loader: 100%|██████████| 288/288 [00:27<00:00, 10.49it/s]\n"
     ]
    },
    {
     "name": "stdout",
     "output_type": "stream",
     "text": [
      "Loss1: 1.2833, Loss2: 0.4648, Loss3: 1.6863\n"
     ]
    },
    {
     "name": "stderr",
     "output_type": "stream",
     "text": [
      "Test_Loader: 100%|██████████| 288/288 [00:25<00:00, 11.20it/s]\n"
     ]
    },
    {
     "name": "stdout",
     "output_type": "stream",
     "text": [
      "Loss1: 1.2850, Loss2: 0.4653, Loss3: 1.6577\n"
     ]
    },
    {
     "name": "stderr",
     "output_type": "stream",
     "text": [
      "Test_Loader: 100%|██████████| 288/288 [00:26<00:00, 10.88it/s]\n"
     ]
    },
    {
     "name": "stdout",
     "output_type": "stream",
     "text": [
      "Loss1: 1.3008, Loss2: 0.4625, Loss3: 1.6514\n"
     ]
    },
    {
     "name": "stderr",
     "output_type": "stream",
     "text": [
      "Test_Loader: 100%|██████████| 288/288 [00:28<00:00, 10.10it/s]\n"
     ]
    },
    {
     "name": "stdout",
     "output_type": "stream",
     "text": [
      "Loss1: 1.3052, Loss2: 0.4582, Loss3: 1.6095\n"
     ]
    },
    {
     "name": "stderr",
     "output_type": "stream",
     "text": [
      "Test_Loader: 100%|██████████| 288/288 [00:28<00:00, 10.12it/s]\n"
     ]
    },
    {
     "name": "stdout",
     "output_type": "stream",
     "text": [
      "Loss1: 1.2956, Loss2: 0.4592, Loss3: 1.6093\n"
     ]
    },
    {
     "name": "stderr",
     "output_type": "stream",
     "text": [
      "Test_Loader: 100%|██████████| 288/288 [00:29<00:00,  9.88it/s]\n"
     ]
    },
    {
     "name": "stdout",
     "output_type": "stream",
     "text": [
      "Loss1: 1.3014, Loss2: 0.4551, Loss3: 1.6013\n"
     ]
    },
    {
     "name": "stderr",
     "output_type": "stream",
     "text": [
      "Test_Loader: 100%|██████████| 288/288 [00:29<00:00,  9.73it/s]\n"
     ]
    },
    {
     "name": "stdout",
     "output_type": "stream",
     "text": [
      "Loss1: 1.2993, Loss2: 0.4554, Loss3: 1.5895\n"
     ]
    },
    {
     "name": "stderr",
     "output_type": "stream",
     "text": [
      "Test_Loader: 100%|██████████| 288/288 [00:29<00:00,  9.90it/s]\n"
     ]
    },
    {
     "name": "stdout",
     "output_type": "stream",
     "text": [
      "Loss1: 1.3150, Loss2: 0.4533, Loss3: 1.5800\n"
     ]
    },
    {
     "name": "stderr",
     "output_type": "stream",
     "text": [
      "Test_Loader: 100%|██████████| 288/288 [00:29<00:00,  9.79it/s]\n"
     ]
    },
    {
     "name": "stdout",
     "output_type": "stream",
     "text": [
      "Loss1: 1.3009, Loss2: 0.4518, Loss3: 1.5787\n"
     ]
    },
    {
     "name": "stderr",
     "output_type": "stream",
     "text": [
      "Test_Loader: 100%|██████████| 288/288 [00:29<00:00,  9.74it/s]\n"
     ]
    },
    {
     "name": "stdout",
     "output_type": "stream",
     "text": [
      "Loss1: 1.2985, Loss2: 0.4497, Loss3: 1.5575\n"
     ]
    },
    {
     "name": "stderr",
     "output_type": "stream",
     "text": [
      "Test_Loader: 100%|██████████| 288/288 [00:30<00:00,  9.33it/s]\n"
     ]
    },
    {
     "name": "stdout",
     "output_type": "stream",
     "text": [
      "Loss1: 1.2919, Loss2: 0.4492, Loss3: 1.5544\n"
     ]
    },
    {
     "name": "stderr",
     "output_type": "stream",
     "text": [
      "Test_Loader: 100%|██████████| 288/288 [00:30<00:00,  9.40it/s]\n"
     ]
    },
    {
     "name": "stdout",
     "output_type": "stream",
     "text": [
      "Loss1: 1.2818, Loss2: 0.4461, Loss3: 1.5504\n"
     ]
    },
    {
     "name": "stderr",
     "output_type": "stream",
     "text": [
      "Test_Loader: 100%|██████████| 288/288 [00:30<00:00,  9.44it/s]\n"
     ]
    },
    {
     "name": "stdout",
     "output_type": "stream",
     "text": [
      "Loss1: 1.2707, Loss2: 0.4429, Loss3: 1.5289\n"
     ]
    },
    {
     "name": "stderr",
     "output_type": "stream",
     "text": [
      "Test_Loader: 100%|██████████| 288/288 [00:29<00:00,  9.84it/s]\n"
     ]
    },
    {
     "name": "stdout",
     "output_type": "stream",
     "text": [
      "Loss1: 1.2676, Loss2: 0.4423, Loss3: 1.5242\n"
     ]
    },
    {
     "name": "stderr",
     "output_type": "stream",
     "text": [
      "Test_Loader: 100%|██████████| 288/288 [00:29<00:00,  9.88it/s]\n"
     ]
    },
    {
     "name": "stdout",
     "output_type": "stream",
     "text": [
      "Loss1: 1.2922, Loss2: 0.4443, Loss3: 1.5306\n"
     ]
    },
    {
     "name": "stderr",
     "output_type": "stream",
     "text": [
      "Test_Loader: 100%|██████████| 288/288 [00:29<00:00,  9.83it/s]\n"
     ]
    },
    {
     "name": "stdout",
     "output_type": "stream",
     "text": [
      "Loss1: 1.2805, Loss2: 0.4404, Loss3: 1.4978\n"
     ]
    },
    {
     "name": "stderr",
     "output_type": "stream",
     "text": [
      "Test_Loader: 100%|██████████| 288/288 [00:30<00:00,  9.52it/s]\n"
     ]
    },
    {
     "name": "stdout",
     "output_type": "stream",
     "text": [
      "Loss1: 1.2738, Loss2: 0.4403, Loss3: 1.4941\n"
     ]
    },
    {
     "name": "stderr",
     "output_type": "stream",
     "text": [
      "Test_Loader: 100%|██████████| 288/288 [00:29<00:00,  9.88it/s]\n"
     ]
    },
    {
     "name": "stdout",
     "output_type": "stream",
     "text": [
      "Loss1: 1.2561, Loss2: 0.4378, Loss3: 1.5009\n"
     ]
    },
    {
     "name": "stderr",
     "output_type": "stream",
     "text": [
      "Test_Loader: 100%|██████████| 288/288 [00:29<00:00,  9.69it/s]\n"
     ]
    },
    {
     "name": "stdout",
     "output_type": "stream",
     "text": [
      "Loss1: 1.2565, Loss2: 0.4346, Loss3: 1.4949\n"
     ]
    },
    {
     "name": "stderr",
     "output_type": "stream",
     "text": [
      "Test_Loader: 100%|██████████| 288/288 [00:29<00:00,  9.93it/s]\n"
     ]
    },
    {
     "name": "stdout",
     "output_type": "stream",
     "text": [
      "Loss1: 1.1441, Loss2: 0.4389, Loss3: 1.4697\n"
     ]
    },
    {
     "name": "stderr",
     "output_type": "stream",
     "text": [
      "Test_Loader: 100%|██████████| 288/288 [00:29<00:00,  9.64it/s]\n"
     ]
    },
    {
     "name": "stdout",
     "output_type": "stream",
     "text": [
      "Loss1: 1.1292, Loss2: 0.4252, Loss3: 1.4574\n"
     ]
    },
    {
     "name": "stderr",
     "output_type": "stream",
     "text": [
      "Test_Loader: 100%|██████████| 288/288 [00:30<00:00,  9.48it/s]\n"
     ]
    },
    {
     "name": "stdout",
     "output_type": "stream",
     "text": [
      "Loss1: 1.1639, Loss2: 0.4393, Loss3: 1.5994\n"
     ]
    },
    {
     "name": "stderr",
     "output_type": "stream",
     "text": [
      "Test_Loader: 100%|██████████| 288/288 [00:30<00:00,  9.36it/s]\n"
     ]
    },
    {
     "name": "stdout",
     "output_type": "stream",
     "text": [
      "Loss1: 1.1536, Loss2: 0.4365, Loss3: 1.5696\n"
     ]
    },
    {
     "name": "stderr",
     "output_type": "stream",
     "text": [
      "Test_Loader: 100%|██████████| 288/288 [00:30<00:00,  9.46it/s]\n"
     ]
    },
    {
     "name": "stdout",
     "output_type": "stream",
     "text": [
      "Loss1: 1.2234, Loss2: 0.4437, Loss3: 1.6340\n"
     ]
    },
    {
     "name": "stderr",
     "output_type": "stream",
     "text": [
      "Test_Loader: 100%|██████████| 288/288 [00:30<00:00,  9.49it/s]\n"
     ]
    },
    {
     "name": "stdout",
     "output_type": "stream",
     "text": [
      "Loss1: 1.2146, Loss2: 0.4453, Loss3: 1.6274\n"
     ]
    },
    {
     "name": "stderr",
     "output_type": "stream",
     "text": [
      "Test_Loader: 100%|██████████| 288/288 [00:28<00:00, 10.00it/s]\n"
     ]
    },
    {
     "name": "stdout",
     "output_type": "stream",
     "text": [
      "Loss1: 1.2133, Loss2: 0.4388, Loss3: 1.5963\n"
     ]
    },
    {
     "name": "stderr",
     "output_type": "stream",
     "text": [
      "Test_Loader: 100%|██████████| 288/288 [00:29<00:00,  9.87it/s]\n"
     ]
    },
    {
     "name": "stdout",
     "output_type": "stream",
     "text": [
      "Loss1: 1.2238, Loss2: 0.4427, Loss3: 1.5953\n"
     ]
    },
    {
     "name": "stderr",
     "output_type": "stream",
     "text": [
      "Test_Loader: 100%|██████████| 288/288 [00:30<00:00,  9.33it/s]\n"
     ]
    },
    {
     "name": "stdout",
     "output_type": "stream",
     "text": [
      "Loss1: 1.2248, Loss2: 0.4381, Loss3: 1.5954\n"
     ]
    },
    {
     "name": "stderr",
     "output_type": "stream",
     "text": [
      "Test_Loader: 100%|██████████| 288/288 [00:30<00:00,  9.45it/s]\n"
     ]
    },
    {
     "name": "stdout",
     "output_type": "stream",
     "text": [
      "Loss1: 1.1855, Loss2: 0.4235, Loss3: 1.5714\n"
     ]
    },
    {
     "name": "stderr",
     "output_type": "stream",
     "text": [
      "Test_Loader: 100%|██████████| 288/288 [00:29<00:00,  9.73it/s]\n"
     ]
    },
    {
     "name": "stdout",
     "output_type": "stream",
     "text": [
      "Loss1: 1.2000, Loss2: 0.4198, Loss3: 1.5846\n"
     ]
    },
    {
     "name": "stderr",
     "output_type": "stream",
     "text": [
      "Test_Loader: 100%|██████████| 288/288 [00:29<00:00,  9.80it/s]\n"
     ]
    },
    {
     "name": "stdout",
     "output_type": "stream",
     "text": [
      "Loss1: 1.2143, Loss2: 0.4209, Loss3: 1.5928\n"
     ]
    },
    {
     "name": "stderr",
     "output_type": "stream",
     "text": [
      "Test_Loader: 100%|██████████| 288/288 [00:27<00:00, 10.64it/s]\n"
     ]
    },
    {
     "name": "stdout",
     "output_type": "stream",
     "text": [
      "Loss1: 1.2656, Loss2: 0.4243, Loss3: 1.6217\n"
     ]
    },
    {
     "name": "stderr",
     "output_type": "stream",
     "text": [
      "Test_Loader: 100%|██████████| 288/288 [00:27<00:00, 10.49it/s]\n"
     ]
    },
    {
     "name": "stdout",
     "output_type": "stream",
     "text": [
      "Loss1: 1.2958, Loss2: 0.4331, Loss3: 1.6943\n"
     ]
    },
    {
     "name": "stderr",
     "output_type": "stream",
     "text": [
      "Test_Loader: 100%|██████████| 288/288 [00:27<00:00, 10.50it/s]\n"
     ]
    },
    {
     "name": "stdout",
     "output_type": "stream",
     "text": [
      "Loss1: 1.2660, Loss2: 0.4330, Loss3: 1.7188\n"
     ]
    },
    {
     "name": "stderr",
     "output_type": "stream",
     "text": [
      "Test_Loader: 100%|██████████| 288/288 [00:30<00:00,  9.54it/s]\n"
     ]
    },
    {
     "name": "stdout",
     "output_type": "stream",
     "text": [
      "Loss1: 1.2612, Loss2: 0.4297, Loss3: 1.6993\n"
     ]
    },
    {
     "name": "stderr",
     "output_type": "stream",
     "text": [
      "Test_Loader: 100%|██████████| 288/288 [00:29<00:00,  9.85it/s]\n"
     ]
    },
    {
     "name": "stdout",
     "output_type": "stream",
     "text": [
      "Loss1: 1.2728, Loss2: 0.4344, Loss3: 1.6869\n"
     ]
    },
    {
     "name": "stderr",
     "output_type": "stream",
     "text": [
      "Test_Loader: 100%|██████████| 288/288 [00:29<00:00,  9.76it/s]\n"
     ]
    },
    {
     "name": "stdout",
     "output_type": "stream",
     "text": [
      "Loss1: 1.2671, Loss2: 0.4301, Loss3: 1.6832\n"
     ]
    },
    {
     "name": "stderr",
     "output_type": "stream",
     "text": [
      "Test_Loader: 100%|██████████| 288/288 [00:29<00:00,  9.75it/s]\n"
     ]
    },
    {
     "name": "stdout",
     "output_type": "stream",
     "text": [
      "Loss1: 1.2674, Loss2: 0.4221, Loss3: 1.6647\n"
     ]
    },
    {
     "name": "stderr",
     "output_type": "stream",
     "text": [
      "Test_Loader: 100%|██████████| 288/288 [00:28<00:00, 10.08it/s]\n"
     ]
    },
    {
     "name": "stdout",
     "output_type": "stream",
     "text": [
      "Loss1: 1.2797, Loss2: 0.4222, Loss3: 1.6928\n"
     ]
    },
    {
     "name": "stderr",
     "output_type": "stream",
     "text": [
      "Test_Loader: 100%|██████████| 288/288 [00:30<00:00,  9.57it/s]\n"
     ]
    },
    {
     "name": "stdout",
     "output_type": "stream",
     "text": [
      "Loss1: 1.2596, Loss2: 0.4241, Loss3: 1.6963\n"
     ]
    },
    {
     "name": "stderr",
     "output_type": "stream",
     "text": [
      "Test_Loader: 100%|██████████| 288/288 [00:30<00:00,  9.45it/s]\n"
     ]
    },
    {
     "name": "stdout",
     "output_type": "stream",
     "text": [
      "Loss1: 1.3007, Loss2: 0.4593, Loss3: 1.7835\n"
     ]
    },
    {
     "name": "stderr",
     "output_type": "stream",
     "text": [
      "Test_Loader: 100%|██████████| 288/288 [00:29<00:00,  9.63it/s]\n"
     ]
    },
    {
     "name": "stdout",
     "output_type": "stream",
     "text": [
      "Loss1: 1.2779, Loss2: 0.4464, Loss3: 1.8031\n"
     ]
    },
    {
     "name": "stderr",
     "output_type": "stream",
     "text": [
      "Test_Loader: 100%|██████████| 288/288 [00:29<00:00,  9.81it/s]\n"
     ]
    },
    {
     "name": "stdout",
     "output_type": "stream",
     "text": [
      "Loss1: 1.2652, Loss2: 0.4482, Loss3: 1.7976\n"
     ]
    },
    {
     "name": "stderr",
     "output_type": "stream",
     "text": [
      "Test_Loader: 100%|██████████| 288/288 [00:30<00:00,  9.52it/s]\n"
     ]
    },
    {
     "name": "stdout",
     "output_type": "stream",
     "text": [
      "Loss1: 1.2494, Loss2: 0.4503, Loss3: 1.7906\n"
     ]
    },
    {
     "name": "stderr",
     "output_type": "stream",
     "text": [
      "Test_Loader: 100%|██████████| 288/288 [00:30<00:00,  9.60it/s]\n"
     ]
    },
    {
     "name": "stdout",
     "output_type": "stream",
     "text": [
      "Loss1: 1.2571, Loss2: 0.4503, Loss3: 1.7859\n"
     ]
    },
    {
     "name": "stderr",
     "output_type": "stream",
     "text": [
      "Test_Loader: 100%|██████████| 288/288 [00:30<00:00,  9.40it/s]\n"
     ]
    },
    {
     "name": "stdout",
     "output_type": "stream",
     "text": [
      "Loss1: 1.2529, Loss2: 0.4517, Loss3: 1.8622\n"
     ]
    },
    {
     "name": "stderr",
     "output_type": "stream",
     "text": [
      "Test_Loader: 100%|██████████| 288/288 [00:30<00:00,  9.53it/s]\n"
     ]
    },
    {
     "name": "stdout",
     "output_type": "stream",
     "text": [
      "Loss1: 1.2466, Loss2: 0.4574, Loss3: 1.8334\n"
     ]
    },
    {
     "name": "stderr",
     "output_type": "stream",
     "text": [
      "Test_Loader: 100%|██████████| 288/288 [00:29<00:00,  9.74it/s]\n"
     ]
    },
    {
     "name": "stdout",
     "output_type": "stream",
     "text": [
      "Loss1: 1.2284, Loss2: 0.4373, Loss3: 1.8181\n"
     ]
    },
    {
     "name": "stderr",
     "output_type": "stream",
     "text": [
      "Test_Loader: 100%|██████████| 288/288 [00:29<00:00,  9.75it/s]\n"
     ]
    },
    {
     "name": "stdout",
     "output_type": "stream",
     "text": [
      "Loss1: 1.2403, Loss2: 0.4432, Loss3: 1.8185\n"
     ]
    },
    {
     "name": "stderr",
     "output_type": "stream",
     "text": [
      "Test_Loader: 100%|██████████| 288/288 [00:29<00:00,  9.91it/s]\n"
     ]
    },
    {
     "name": "stdout",
     "output_type": "stream",
     "text": [
      "Loss1: 1.2451, Loss2: 0.4348, Loss3: 1.8388\n"
     ]
    },
    {
     "name": "stderr",
     "output_type": "stream",
     "text": [
      "Test_Loader: 100%|██████████| 288/288 [00:27<00:00, 10.32it/s]\n"
     ]
    },
    {
     "name": "stdout",
     "output_type": "stream",
     "text": [
      "Loss1: 1.2475, Loss2: 0.4375, Loss3: 1.8178\n"
     ]
    },
    {
     "name": "stderr",
     "output_type": "stream",
     "text": [
      "Test_Loader: 100%|██████████| 288/288 [00:28<00:00,  9.97it/s]\n"
     ]
    },
    {
     "name": "stdout",
     "output_type": "stream",
     "text": [
      "Loss1: 1.2408, Loss2: 0.4346, Loss3: 1.8049\n"
     ]
    },
    {
     "name": "stderr",
     "output_type": "stream",
     "text": [
      "Test_Loader: 100%|██████████| 288/288 [00:30<00:00,  9.32it/s]\n"
     ]
    },
    {
     "name": "stdout",
     "output_type": "stream",
     "text": [
      "Loss1: 1.2293, Loss2: 0.4337, Loss3: 1.7737\n"
     ]
    },
    {
     "name": "stderr",
     "output_type": "stream",
     "text": [
      "Test_Loader: 100%|██████████| 288/288 [00:29<00:00,  9.72it/s]\n"
     ]
    },
    {
     "name": "stdout",
     "output_type": "stream",
     "text": [
      "Loss1: 1.2326, Loss2: 0.4293, Loss3: 1.7694\n"
     ]
    },
    {
     "name": "stderr",
     "output_type": "stream",
     "text": [
      "Test_Loader: 100%|██████████| 288/288 [00:28<00:00,  9.97it/s]\n"
     ]
    },
    {
     "name": "stdout",
     "output_type": "stream",
     "text": [
      "Loss1: 1.2188, Loss2: 0.4221, Loss3: 1.7477\n"
     ]
    },
    {
     "name": "stderr",
     "output_type": "stream",
     "text": [
      "Test_Loader: 100%|██████████| 288/288 [00:29<00:00,  9.68it/s]\n"
     ]
    },
    {
     "name": "stdout",
     "output_type": "stream",
     "text": [
      "Loss1: 1.2645, Loss2: 0.4216, Loss3: 1.7701\n"
     ]
    },
    {
     "name": "stderr",
     "output_type": "stream",
     "text": [
      "Test_Loader: 100%|██████████| 288/288 [00:29<00:00,  9.63it/s]\n"
     ]
    },
    {
     "name": "stdout",
     "output_type": "stream",
     "text": [
      "Loss1: 1.2514, Loss2: 0.4220, Loss3: 1.8032\n"
     ]
    },
    {
     "name": "stderr",
     "output_type": "stream",
     "text": [
      "Test_Loader: 100%|██████████| 288/288 [00:29<00:00,  9.68it/s]\n"
     ]
    },
    {
     "name": "stdout",
     "output_type": "stream",
     "text": [
      "Loss1: 1.2694, Loss2: 0.4289, Loss3: 1.7868\n"
     ]
    },
    {
     "name": "stderr",
     "output_type": "stream",
     "text": [
      "Test_Loader: 100%|██████████| 288/288 [00:29<00:00,  9.80it/s]\n"
     ]
    },
    {
     "name": "stdout",
     "output_type": "stream",
     "text": [
      "Loss1: 1.2559, Loss2: 0.4272, Loss3: 1.7731\n"
     ]
    },
    {
     "name": "stderr",
     "output_type": "stream",
     "text": [
      "Test_Loader: 100%|██████████| 288/288 [00:29<00:00,  9.63it/s]\n"
     ]
    },
    {
     "name": "stdout",
     "output_type": "stream",
     "text": [
      "Loss1: 1.2529, Loss2: 0.4263, Loss3: 1.7709\n"
     ]
    },
    {
     "name": "stderr",
     "output_type": "stream",
     "text": [
      "Test_Loader: 100%|██████████| 288/288 [00:29<00:00,  9.66it/s]\n"
     ]
    },
    {
     "name": "stdout",
     "output_type": "stream",
     "text": [
      "Loss1: 1.2481, Loss2: 0.4219, Loss3: 1.7627\n"
     ]
    },
    {
     "name": "stderr",
     "output_type": "stream",
     "text": [
      "Test_Loader: 100%|██████████| 288/288 [00:29<00:00,  9.78it/s]\n"
     ]
    },
    {
     "name": "stdout",
     "output_type": "stream",
     "text": [
      "Loss1: 1.2246, Loss2: 0.4005, Loss3: 1.6494\n"
     ]
    },
    {
     "name": "stderr",
     "output_type": "stream",
     "text": [
      "Test_Loader: 100%|██████████| 288/288 [00:27<00:00, 10.33it/s]\n"
     ]
    },
    {
     "name": "stdout",
     "output_type": "stream",
     "text": [
      "Loss1: 1.2088, Loss2: 0.4050, Loss3: 1.6416\n"
     ]
    },
    {
     "name": "stderr",
     "output_type": "stream",
     "text": [
      "Test_Loader: 100%|██████████| 288/288 [00:28<00:00,  9.99it/s]\n"
     ]
    },
    {
     "name": "stdout",
     "output_type": "stream",
     "text": [
      "Loss1: 1.2095, Loss2: 0.4038, Loss3: 1.6310\n"
     ]
    },
    {
     "name": "stderr",
     "output_type": "stream",
     "text": [
      "Test_Loader: 100%|██████████| 288/288 [00:30<00:00,  9.52it/s]\n"
     ]
    },
    {
     "name": "stdout",
     "output_type": "stream",
     "text": [
      "Loss1: 1.1712, Loss2: 0.3790, Loss3: 1.5403\n"
     ]
    },
    {
     "name": "stderr",
     "output_type": "stream",
     "text": [
      "Test_Loader: 100%|██████████| 288/288 [00:29<00:00,  9.80it/s]\n"
     ]
    },
    {
     "name": "stdout",
     "output_type": "stream",
     "text": [
      "Loss1: 1.1667, Loss2: 0.3833, Loss3: 1.5467\n"
     ]
    },
    {
     "name": "stderr",
     "output_type": "stream",
     "text": [
      "Test_Loader: 100%|██████████| 288/288 [00:28<00:00,  9.95it/s]\n"
     ]
    },
    {
     "name": "stdout",
     "output_type": "stream",
     "text": [
      "Loss1: 1.1609, Loss2: 0.3765, Loss3: 1.5451\n"
     ]
    },
    {
     "name": "stderr",
     "output_type": "stream",
     "text": [
      "Test_Loader: 100%|██████████| 288/288 [00:30<00:00,  9.44it/s]\n"
     ]
    },
    {
     "name": "stdout",
     "output_type": "stream",
     "text": [
      "Loss1: 1.1976, Loss2: 0.3750, Loss3: 1.5478\n"
     ]
    },
    {
     "name": "stderr",
     "output_type": "stream",
     "text": [
      "Test_Loader: 100%|██████████| 288/288 [00:29<00:00,  9.61it/s]\n"
     ]
    },
    {
     "name": "stdout",
     "output_type": "stream",
     "text": [
      "Loss1: 1.1979, Loss2: 0.3759, Loss3: 1.5684\n"
     ]
    },
    {
     "name": "stderr",
     "output_type": "stream",
     "text": [
      "Test_Loader: 100%|██████████| 288/288 [00:29<00:00,  9.85it/s]\n"
     ]
    },
    {
     "name": "stdout",
     "output_type": "stream",
     "text": [
      "Loss1: 1.1919, Loss2: 0.3742, Loss3: 1.5503\n"
     ]
    },
    {
     "name": "stderr",
     "output_type": "stream",
     "text": [
      "Test_Loader: 100%|██████████| 288/288 [00:29<00:00,  9.88it/s]\n"
     ]
    },
    {
     "name": "stdout",
     "output_type": "stream",
     "text": [
      "Loss1: 1.1693, Loss2: 0.3642, Loss3: 1.5133\n"
     ]
    },
    {
     "name": "stderr",
     "output_type": "stream",
     "text": [
      "Test_Loader: 100%|██████████| 288/288 [00:29<00:00,  9.60it/s]\n"
     ]
    },
    {
     "name": "stdout",
     "output_type": "stream",
     "text": [
      "Loss1: 1.1994, Loss2: 0.3770, Loss3: 1.5710\n"
     ]
    },
    {
     "name": "stderr",
     "output_type": "stream",
     "text": [
      "Test_Loader: 100%|██████████| 288/288 [00:29<00:00,  9.76it/s]\n"
     ]
    },
    {
     "name": "stdout",
     "output_type": "stream",
     "text": [
      "Loss1: 1.2042, Loss2: 0.3726, Loss3: 1.5516\n"
     ]
    },
    {
     "name": "stderr",
     "output_type": "stream",
     "text": [
      "Test_Loader: 100%|██████████| 288/288 [00:29<00:00,  9.81it/s]\n"
     ]
    },
    {
     "name": "stdout",
     "output_type": "stream",
     "text": [
      "Loss1: 1.1934, Loss2: 0.3697, Loss3: 1.5489\n"
     ]
    },
    {
     "name": "stderr",
     "output_type": "stream",
     "text": [
      "Test_Loader: 100%|██████████| 288/288 [00:28<00:00, 10.01it/s]\n"
     ]
    },
    {
     "name": "stdout",
     "output_type": "stream",
     "text": [
      "Loss1: 1.1880, Loss2: 0.3664, Loss3: 1.5233\n"
     ]
    },
    {
     "name": "stderr",
     "output_type": "stream",
     "text": [
      "Test_Loader: 100%|██████████| 288/288 [00:29<00:00,  9.78it/s]\n"
     ]
    },
    {
     "name": "stdout",
     "output_type": "stream",
     "text": [
      "Loss1: 1.2750, Loss2: 0.3934, Loss3: 1.5783\n"
     ]
    },
    {
     "name": "stderr",
     "output_type": "stream",
     "text": [
      "Test_Loader: 100%|██████████| 288/288 [00:30<00:00,  9.47it/s]\n"
     ]
    },
    {
     "name": "stdout",
     "output_type": "stream",
     "text": [
      "Loss1: 1.2751, Loss2: 0.3936, Loss3: 1.5696\n"
     ]
    },
    {
     "name": "stderr",
     "output_type": "stream",
     "text": [
      "Test_Loader: 100%|██████████| 288/288 [00:30<00:00,  9.37it/s]\n"
     ]
    },
    {
     "name": "stdout",
     "output_type": "stream",
     "text": [
      "Loss1: 1.3409, Loss2: 0.4195, Loss3: 1.6335\n"
     ]
    },
    {
     "name": "stderr",
     "output_type": "stream",
     "text": [
      "Test_Loader: 100%|██████████| 288/288 [00:29<00:00,  9.70it/s]\n"
     ]
    },
    {
     "name": "stdout",
     "output_type": "stream",
     "text": [
      "Loss1: 1.3619, Loss2: 0.4178, Loss3: 1.6189\n"
     ]
    },
    {
     "name": "stderr",
     "output_type": "stream",
     "text": [
      "Test_Loader: 100%|██████████| 288/288 [00:30<00:00,  9.54it/s]\n"
     ]
    },
    {
     "name": "stdout",
     "output_type": "stream",
     "text": [
      "Loss1: 1.3342, Loss2: 0.4106, Loss3: 1.5816\n"
     ]
    },
    {
     "name": "stderr",
     "output_type": "stream",
     "text": [
      "Test_Loader: 100%|██████████| 288/288 [00:29<00:00,  9.65it/s]\n"
     ]
    },
    {
     "name": "stdout",
     "output_type": "stream",
     "text": [
      "Loss1: 1.2730, Loss2: 0.3919, Loss3: 1.5473\n"
     ]
    },
    {
     "name": "stderr",
     "output_type": "stream",
     "text": [
      "Test_Loader: 100%|██████████| 288/288 [00:30<00:00,  9.55it/s]\n"
     ]
    },
    {
     "name": "stdout",
     "output_type": "stream",
     "text": [
      "Loss1: 1.2671, Loss2: 0.3871, Loss3: 1.5286\n"
     ]
    },
    {
     "name": "stderr",
     "output_type": "stream",
     "text": [
      "Test_Loader: 100%|██████████| 288/288 [00:30<00:00,  9.52it/s]\n"
     ]
    },
    {
     "name": "stdout",
     "output_type": "stream",
     "text": [
      "Loss1: 1.2529, Loss2: 0.3842, Loss3: 1.5448\n"
     ]
    },
    {
     "name": "stderr",
     "output_type": "stream",
     "text": [
      "Test_Loader: 100%|██████████| 288/288 [00:30<00:00,  9.34it/s]\n"
     ]
    },
    {
     "name": "stdout",
     "output_type": "stream",
     "text": [
      "Loss1: 1.2454, Loss2: 0.3776, Loss3: 1.5208\n"
     ]
    },
    {
     "name": "stderr",
     "output_type": "stream",
     "text": [
      "Test_Loader: 100%|██████████| 288/288 [00:31<00:00,  9.25it/s]\n"
     ]
    },
    {
     "name": "stdout",
     "output_type": "stream",
     "text": [
      "Loss1: 1.2506, Loss2: 0.3767, Loss3: 1.5111\n"
     ]
    },
    {
     "name": "stderr",
     "output_type": "stream",
     "text": [
      "Test_Loader: 100%|██████████| 288/288 [00:30<00:00,  9.39it/s]\n"
     ]
    },
    {
     "name": "stdout",
     "output_type": "stream",
     "text": [
      "Loss1: 1.2370, Loss2: 0.3701, Loss3: 1.5005\n"
     ]
    },
    {
     "name": "stderr",
     "output_type": "stream",
     "text": [
      "Test_Loader: 100%|██████████| 288/288 [00:28<00:00,  9.97it/s]\n"
     ]
    },
    {
     "name": "stdout",
     "output_type": "stream",
     "text": [
      "Loss1: 1.4247, Loss2: 0.4164, Loss3: 2.0392\n"
     ]
    },
    {
     "name": "stderr",
     "output_type": "stream",
     "text": [
      "Test_Loader: 100%|██████████| 288/288 [00:27<00:00, 10.44it/s]\n"
     ]
    },
    {
     "name": "stdout",
     "output_type": "stream",
     "text": [
      "Loss1: 1.4173, Loss2: 0.4128, Loss3: 2.0434\n"
     ]
    },
    {
     "name": "stderr",
     "output_type": "stream",
     "text": [
      "Test_Loader: 100%|██████████| 288/288 [00:30<00:00,  9.50it/s]\n"
     ]
    },
    {
     "name": "stdout",
     "output_type": "stream",
     "text": [
      "Loss1: 1.4087, Loss2: 0.4118, Loss3: 2.0258\n"
     ]
    },
    {
     "name": "stderr",
     "output_type": "stream",
     "text": [
      "Test_Loader: 100%|██████████| 288/288 [00:30<00:00,  9.53it/s]\n"
     ]
    },
    {
     "name": "stdout",
     "output_type": "stream",
     "text": [
      "Loss1: 1.3859, Loss2: 0.4124, Loss3: 2.0118\n"
     ]
    },
    {
     "name": "stderr",
     "output_type": "stream",
     "text": [
      "Test_Loader: 100%|██████████| 288/288 [00:29<00:00,  9.71it/s]\n"
     ]
    },
    {
     "name": "stdout",
     "output_type": "stream",
     "text": [
      "Loss1: 1.3828, Loss2: 0.4081, Loss3: 1.9999\n"
     ]
    },
    {
     "name": "stderr",
     "output_type": "stream",
     "text": [
      "Test_Loader: 100%|██████████| 288/288 [00:29<00:00,  9.78it/s]\n"
     ]
    },
    {
     "name": "stdout",
     "output_type": "stream",
     "text": [
      "Loss1: 1.3728, Loss2: 0.4092, Loss3: 1.9741\n"
     ]
    },
    {
     "name": "stderr",
     "output_type": "stream",
     "text": [
      "Test_Loader: 100%|██████████| 288/288 [00:29<00:00,  9.78it/s]\n"
     ]
    },
    {
     "name": "stdout",
     "output_type": "stream",
     "text": [
      "Loss1: 1.3981, Loss2: 0.4022, Loss3: 1.9722\n"
     ]
    },
    {
     "name": "stderr",
     "output_type": "stream",
     "text": [
      "Test_Loader: 100%|██████████| 288/288 [00:28<00:00, 10.05it/s]\n"
     ]
    },
    {
     "name": "stdout",
     "output_type": "stream",
     "text": [
      "Loss1: 1.3921, Loss2: 0.4010, Loss3: 1.9555\n"
     ]
    },
    {
     "name": "stderr",
     "output_type": "stream",
     "text": [
      "Test_Loader: 100%|██████████| 288/288 [00:29<00:00,  9.90it/s]\n"
     ]
    },
    {
     "name": "stdout",
     "output_type": "stream",
     "text": [
      "Loss1: 1.3786, Loss2: 0.3972, Loss3: 1.9451\n"
     ]
    },
    {
     "name": "stderr",
     "output_type": "stream",
     "text": [
      "Test_Loader: 100%|██████████| 288/288 [00:29<00:00,  9.70it/s]\n"
     ]
    },
    {
     "name": "stdout",
     "output_type": "stream",
     "text": [
      "Loss1: 1.3846, Loss2: 0.3955, Loss3: 1.9535\n"
     ]
    },
    {
     "name": "stderr",
     "output_type": "stream",
     "text": [
      "Test_Loader: 100%|██████████| 288/288 [00:30<00:00,  9.57it/s]\n"
     ]
    },
    {
     "name": "stdout",
     "output_type": "stream",
     "text": [
      "Loss1: 1.3871, Loss2: 0.3929, Loss3: 1.9312\n"
     ]
    },
    {
     "name": "stderr",
     "output_type": "stream",
     "text": [
      "Test_Loader: 100%|██████████| 288/288 [00:29<00:00,  9.65it/s]\n"
     ]
    },
    {
     "name": "stdout",
     "output_type": "stream",
     "text": [
      "Loss1: 1.3839, Loss2: 0.3985, Loss3: 1.9254\n"
     ]
    },
    {
     "name": "stderr",
     "output_type": "stream",
     "text": [
      "Test_Loader: 100%|██████████| 288/288 [00:28<00:00,  9.99it/s]\n"
     ]
    },
    {
     "name": "stdout",
     "output_type": "stream",
     "text": [
      "Loss1: 1.3610, Loss2: 0.3928, Loss3: 1.9377\n"
     ]
    },
    {
     "name": "stderr",
     "output_type": "stream",
     "text": [
      "Test_Loader: 100%|██████████| 288/288 [00:28<00:00, 10.07it/s]\n"
     ]
    },
    {
     "name": "stdout",
     "output_type": "stream",
     "text": [
      "Loss1: 1.3855, Loss2: 0.3949, Loss3: 1.9524\n"
     ]
    },
    {
     "name": "stderr",
     "output_type": "stream",
     "text": [
      "Test_Loader: 100%|██████████| 288/288 [00:28<00:00,  9.94it/s]\n"
     ]
    },
    {
     "name": "stdout",
     "output_type": "stream",
     "text": [
      "Loss1: 1.4029, Loss2: 0.3923, Loss3: 1.9340\n"
     ]
    },
    {
     "name": "stderr",
     "output_type": "stream",
     "text": [
      "Test_Loader: 100%|██████████| 288/288 [00:30<00:00,  9.59it/s]\n"
     ]
    },
    {
     "name": "stdout",
     "output_type": "stream",
     "text": [
      "Loss1: 1.3929, Loss2: 0.3936, Loss3: 1.9248\n"
     ]
    },
    {
     "name": "stderr",
     "output_type": "stream",
     "text": [
      "Test_Loader: 100%|██████████| 288/288 [00:30<00:00,  9.46it/s]\n"
     ]
    },
    {
     "name": "stdout",
     "output_type": "stream",
     "text": [
      "Loss1: 1.4197, Loss2: 0.3931, Loss3: 1.9312\n"
     ]
    },
    {
     "name": "stderr",
     "output_type": "stream",
     "text": [
      "Test_Loader: 100%|██████████| 288/288 [00:29<00:00,  9.76it/s]\n"
     ]
    },
    {
     "name": "stdout",
     "output_type": "stream",
     "text": [
      "Loss1: 1.6912, Loss2: 0.4154, Loss3: 2.0264\n"
     ]
    },
    {
     "name": "stderr",
     "output_type": "stream",
     "text": [
      "Test_Loader: 100%|██████████| 288/288 [00:29<00:00,  9.66it/s]\n"
     ]
    },
    {
     "name": "stdout",
     "output_type": "stream",
     "text": [
      "Loss1: 1.6513, Loss2: 0.4087, Loss3: 1.9968\n"
     ]
    },
    {
     "name": "stderr",
     "output_type": "stream",
     "text": [
      "Test_Loader: 100%|██████████| 288/288 [00:29<00:00,  9.76it/s]\n"
     ]
    },
    {
     "name": "stdout",
     "output_type": "stream",
     "text": [
      "Loss1: 1.6219, Loss2: 0.4041, Loss3: 1.9770\n"
     ]
    },
    {
     "name": "stderr",
     "output_type": "stream",
     "text": [
      "Test_Loader: 100%|██████████| 288/288 [00:30<00:00,  9.48it/s]\n"
     ]
    },
    {
     "name": "stdout",
     "output_type": "stream",
     "text": [
      "Loss1: 1.6360, Loss2: 0.4009, Loss3: 1.9874\n"
     ]
    },
    {
     "name": "stderr",
     "output_type": "stream",
     "text": [
      "Test_Loader: 100%|██████████| 288/288 [00:30<00:00,  9.35it/s]\n"
     ]
    },
    {
     "name": "stdout",
     "output_type": "stream",
     "text": [
      "Loss1: 1.6251, Loss2: 0.3946, Loss3: 1.9736\n"
     ]
    },
    {
     "name": "stderr",
     "output_type": "stream",
     "text": [
      "Test_Loader: 100%|██████████| 288/288 [00:30<00:00,  9.46it/s]\n"
     ]
    },
    {
     "name": "stdout",
     "output_type": "stream",
     "text": [
      "Loss1: 1.6011, Loss2: 0.3936, Loss3: 1.9649\n"
     ]
    },
    {
     "name": "stderr",
     "output_type": "stream",
     "text": [
      "Test_Loader: 100%|██████████| 288/288 [00:29<00:00,  9.93it/s]\n"
     ]
    },
    {
     "name": "stdout",
     "output_type": "stream",
     "text": [
      "Loss1: 1.5899, Loss2: 0.3931, Loss3: 1.9298\n"
     ]
    },
    {
     "name": "stderr",
     "output_type": "stream",
     "text": [
      "Test_Loader: 100%|██████████| 288/288 [00:29<00:00,  9.88it/s]\n"
     ]
    },
    {
     "name": "stdout",
     "output_type": "stream",
     "text": [
      "Loss1: 1.5662, Loss2: 0.3814, Loss3: 1.9256\n"
     ]
    },
    {
     "name": "stderr",
     "output_type": "stream",
     "text": [
      "Test_Loader: 100%|██████████| 288/288 [00:29<00:00,  9.85it/s]\n"
     ]
    },
    {
     "name": "stdout",
     "output_type": "stream",
     "text": [
      "Loss1: 1.5482, Loss2: 0.3791, Loss3: 1.9137\n"
     ]
    },
    {
     "name": "stderr",
     "output_type": "stream",
     "text": [
      "Test_Loader: 100%|██████████| 288/288 [00:29<00:00,  9.71it/s]\n"
     ]
    },
    {
     "name": "stdout",
     "output_type": "stream",
     "text": [
      "Loss1: 1.5371, Loss2: 0.3748, Loss3: 1.8967\n"
     ]
    },
    {
     "name": "stderr",
     "output_type": "stream",
     "text": [
      "Test_Loader: 100%|██████████| 288/288 [00:31<00:00,  9.27it/s]\n"
     ]
    },
    {
     "name": "stdout",
     "output_type": "stream",
     "text": [
      "Loss1: 1.5350, Loss2: 0.3728, Loss3: 1.8891\n"
     ]
    },
    {
     "name": "stderr",
     "output_type": "stream",
     "text": [
      "Test_Loader: 100%|██████████| 288/288 [00:29<00:00,  9.81it/s]\n"
     ]
    },
    {
     "name": "stdout",
     "output_type": "stream",
     "text": [
      "Loss1: 1.5118, Loss2: 0.3732, Loss3: 1.8724\n"
     ]
    },
    {
     "name": "stderr",
     "output_type": "stream",
     "text": [
      "Test_Loader: 100%|██████████| 288/288 [00:30<00:00,  9.57it/s]\n"
     ]
    },
    {
     "name": "stdout",
     "output_type": "stream",
     "text": [
      "Loss1: 1.4667, Loss2: 0.3627, Loss3: 1.8425\n"
     ]
    },
    {
     "name": "stderr",
     "output_type": "stream",
     "text": [
      "Test_Loader: 100%|██████████| 288/288 [00:31<00:00,  9.29it/s]\n"
     ]
    },
    {
     "name": "stdout",
     "output_type": "stream",
     "text": [
      "Loss1: 1.5171, Loss2: 0.3928, Loss3: 1.9185\n"
     ]
    },
    {
     "name": "stderr",
     "output_type": "stream",
     "text": [
      "Test_Loader: 100%|██████████| 288/288 [00:30<00:00,  9.37it/s]\n"
     ]
    },
    {
     "name": "stdout",
     "output_type": "stream",
     "text": [
      "Loss1: 1.4747, Loss2: 0.3896, Loss3: 1.8825\n"
     ]
    },
    {
     "name": "stderr",
     "output_type": "stream",
     "text": [
      "Test_Loader: 100%|██████████| 288/288 [00:30<00:00,  9.31it/s]\n"
     ]
    },
    {
     "name": "stdout",
     "output_type": "stream",
     "text": [
      "Loss1: 1.4844, Loss2: 0.4028, Loss3: 1.9090\n"
     ]
    },
    {
     "name": "stderr",
     "output_type": "stream",
     "text": [
      "Test_Loader: 100%|██████████| 288/288 [00:31<00:00,  9.20it/s]\n"
     ]
    },
    {
     "name": "stdout",
     "output_type": "stream",
     "text": [
      "Loss1: 1.4313, Loss2: 0.3880, Loss3: 1.8743\n"
     ]
    },
    {
     "name": "stderr",
     "output_type": "stream",
     "text": [
      "Test_Loader: 100%|██████████| 288/288 [00:31<00:00,  9.22it/s]\n"
     ]
    },
    {
     "name": "stdout",
     "output_type": "stream",
     "text": [
      "Loss1: 1.4423, Loss2: 0.3914, Loss3: 1.8784\n"
     ]
    },
    {
     "name": "stderr",
     "output_type": "stream",
     "text": [
      "Test_Loader: 100%|██████████| 288/288 [00:31<00:00,  9.22it/s]\n"
     ]
    },
    {
     "name": "stdout",
     "output_type": "stream",
     "text": [
      "Loss1: 1.4413, Loss2: 0.3903, Loss3: 1.8804\n"
     ]
    },
    {
     "name": "stderr",
     "output_type": "stream",
     "text": [
      "Test_Loader: 100%|██████████| 288/288 [00:29<00:00,  9.61it/s]\n"
     ]
    },
    {
     "name": "stdout",
     "output_type": "stream",
     "text": [
      "Loss1: 1.4169, Loss2: 0.3856, Loss3: 1.8635\n"
     ]
    },
    {
     "name": "stderr",
     "output_type": "stream",
     "text": [
      "Test_Loader: 100%|██████████| 288/288 [00:29<00:00,  9.70it/s]\n"
     ]
    },
    {
     "name": "stdout",
     "output_type": "stream",
     "text": [
      "Loss1: 1.4656, Loss2: 0.4058, Loss3: 1.9296\n"
     ]
    },
    {
     "name": "stderr",
     "output_type": "stream",
     "text": [
      "Test_Loader: 100%|██████████| 288/288 [00:30<00:00,  9.38it/s]\n"
     ]
    },
    {
     "name": "stdout",
     "output_type": "stream",
     "text": [
      "Loss1: 1.4884, Loss2: 0.4157, Loss3: 1.9564\n"
     ]
    },
    {
     "name": "stderr",
     "output_type": "stream",
     "text": [
      "Test_Loader: 100%|██████████| 288/288 [00:30<00:00,  9.43it/s]\n"
     ]
    },
    {
     "name": "stdout",
     "output_type": "stream",
     "text": [
      "Loss1: 1.4437, Loss2: 0.4094, Loss3: 1.9227\n"
     ]
    },
    {
     "name": "stderr",
     "output_type": "stream",
     "text": [
      "Test_Loader: 100%|██████████| 288/288 [00:30<00:00,  9.50it/s]\n"
     ]
    },
    {
     "name": "stdout",
     "output_type": "stream",
     "text": [
      "Loss1: 1.4324, Loss2: 0.4051, Loss3: 1.9114\n"
     ]
    },
    {
     "name": "stderr",
     "output_type": "stream",
     "text": [
      "Test_Loader: 100%|██████████| 288/288 [00:31<00:00,  9.28it/s]\n"
     ]
    },
    {
     "name": "stdout",
     "output_type": "stream",
     "text": [
      "Loss1: 1.4885, Loss2: 0.4177, Loss3: 2.0751\n"
     ]
    },
    {
     "name": "stderr",
     "output_type": "stream",
     "text": [
      "Test_Loader: 100%|██████████| 288/288 [00:30<00:00,  9.36it/s]\n"
     ]
    },
    {
     "name": "stdout",
     "output_type": "stream",
     "text": [
      "Loss1: 1.4658, Loss2: 0.4116, Loss3: 1.9941\n"
     ]
    },
    {
     "name": "stderr",
     "output_type": "stream",
     "text": [
      "Test_Loader: 100%|██████████| 288/288 [00:31<00:00,  9.27it/s]\n"
     ]
    },
    {
     "name": "stdout",
     "output_type": "stream",
     "text": [
      "Loss1: 1.4273, Loss2: 0.4051, Loss3: 1.9592\n"
     ]
    },
    {
     "name": "stderr",
     "output_type": "stream",
     "text": [
      "Test_Loader: 100%|██████████| 288/288 [00:31<00:00,  9.17it/s]\n"
     ]
    },
    {
     "name": "stdout",
     "output_type": "stream",
     "text": [
      "Loss1: 1.4083, Loss2: 0.3985, Loss3: 1.9244\n"
     ]
    },
    {
     "name": "stderr",
     "output_type": "stream",
     "text": [
      "Test_Loader: 100%|██████████| 288/288 [00:30<00:00,  9.57it/s]\n"
     ]
    },
    {
     "name": "stdout",
     "output_type": "stream",
     "text": [
      "Loss1: 1.3792, Loss2: 0.3918, Loss3: 1.9022\n"
     ]
    },
    {
     "name": "stderr",
     "output_type": "stream",
     "text": [
      "Test_Loader: 100%|██████████| 288/288 [00:30<00:00,  9.49it/s]\n"
     ]
    },
    {
     "name": "stdout",
     "output_type": "stream",
     "text": [
      "Loss1: 1.3716, Loss2: 0.3915, Loss3: 1.8715\n"
     ]
    },
    {
     "name": "stderr",
     "output_type": "stream",
     "text": [
      "Test_Loader: 100%|██████████| 288/288 [00:30<00:00,  9.54it/s]\n"
     ]
    },
    {
     "name": "stdout",
     "output_type": "stream",
     "text": [
      "Loss1: 1.4553, Loss2: 0.4220, Loss3: 2.0532\n"
     ]
    },
    {
     "name": "stderr",
     "output_type": "stream",
     "text": [
      "Test_Loader: 100%|██████████| 288/288 [00:29<00:00,  9.92it/s]\n"
     ]
    },
    {
     "name": "stdout",
     "output_type": "stream",
     "text": [
      "Loss1: 1.4307, Loss2: 0.4147, Loss3: 1.9928\n"
     ]
    },
    {
     "name": "stderr",
     "output_type": "stream",
     "text": [
      "Test_Loader: 100%|██████████| 288/288 [00:29<00:00,  9.68it/s]\n"
     ]
    },
    {
     "name": "stdout",
     "output_type": "stream",
     "text": [
      "Loss1: 1.4169, Loss2: 0.4155, Loss3: 1.9845\n"
     ]
    },
    {
     "name": "stderr",
     "output_type": "stream",
     "text": [
      "Test_Loader: 100%|██████████| 288/288 [00:30<00:00,  9.35it/s]\n"
     ]
    },
    {
     "name": "stdout",
     "output_type": "stream",
     "text": [
      "Loss1: 1.4143, Loss2: 0.4282, Loss3: 2.1275\n"
     ]
    },
    {
     "name": "stderr",
     "output_type": "stream",
     "text": [
      "Test_Loader: 100%|██████████| 288/288 [00:30<00:00,  9.35it/s]\n"
     ]
    },
    {
     "name": "stdout",
     "output_type": "stream",
     "text": [
      "Loss1: 1.3986, Loss2: 0.4216, Loss3: 2.0539\n"
     ]
    },
    {
     "name": "stderr",
     "output_type": "stream",
     "text": [
      "Test_Loader: 100%|██████████| 288/288 [00:29<00:00,  9.85it/s]\n"
     ]
    },
    {
     "name": "stdout",
     "output_type": "stream",
     "text": [
      "Loss1: 1.3838, Loss2: 0.4092, Loss3: 1.9889\n"
     ]
    },
    {
     "name": "stderr",
     "output_type": "stream",
     "text": [
      "Test_Loader: 100%|██████████| 288/288 [00:30<00:00,  9.50it/s]\n"
     ]
    },
    {
     "name": "stdout",
     "output_type": "stream",
     "text": [
      "Loss1: 1.3715, Loss2: 0.4037, Loss3: 1.9731\n"
     ]
    },
    {
     "name": "stderr",
     "output_type": "stream",
     "text": [
      "Test_Loader: 100%|██████████| 288/288 [00:30<00:00,  9.30it/s]\n"
     ]
    },
    {
     "name": "stdout",
     "output_type": "stream",
     "text": [
      "Loss1: 1.3497, Loss2: 0.3973, Loss3: 1.9291\n"
     ]
    },
    {
     "name": "stderr",
     "output_type": "stream",
     "text": [
      "Test_Loader: 100%|██████████| 288/288 [00:30<00:00,  9.44it/s]\n"
     ]
    },
    {
     "name": "stdout",
     "output_type": "stream",
     "text": [
      "Loss1: 1.3391, Loss2: 0.3865, Loss3: 1.8668\n"
     ]
    },
    {
     "name": "stderr",
     "output_type": "stream",
     "text": [
      "Test_Loader: 100%|██████████| 288/288 [00:29<00:00,  9.60it/s]\n"
     ]
    },
    {
     "name": "stdout",
     "output_type": "stream",
     "text": [
      "Loss1: 1.3280, Loss2: 0.3817, Loss3: 1.8500\n"
     ]
    },
    {
     "name": "stderr",
     "output_type": "stream",
     "text": [
      "Test_Loader: 100%|██████████| 288/288 [00:30<00:00,  9.55it/s]\n"
     ]
    },
    {
     "name": "stdout",
     "output_type": "stream",
     "text": [
      "Loss1: 1.3184, Loss2: 0.3794, Loss3: 1.8182\n"
     ]
    },
    {
     "name": "stderr",
     "output_type": "stream",
     "text": [
      "Test_Loader: 100%|██████████| 288/288 [00:30<00:00,  9.55it/s]\n"
     ]
    },
    {
     "name": "stdout",
     "output_type": "stream",
     "text": [
      "Loss1: 1.2962, Loss2: 0.3716, Loss3: 1.8001\n"
     ]
    },
    {
     "name": "stderr",
     "output_type": "stream",
     "text": [
      "Test_Loader: 100%|██████████| 288/288 [00:30<00:00,  9.29it/s]\n"
     ]
    },
    {
     "name": "stdout",
     "output_type": "stream",
     "text": [
      "Loss1: 1.2933, Loss2: 0.3672, Loss3: 1.7578\n"
     ]
    },
    {
     "name": "stderr",
     "output_type": "stream",
     "text": [
      "Test_Loader: 100%|██████████| 288/288 [00:28<00:00, 10.08it/s]\n"
     ]
    },
    {
     "name": "stdout",
     "output_type": "stream",
     "text": [
      "Loss1: 1.2821, Loss2: 0.3687, Loss3: 1.7299\n"
     ]
    },
    {
     "name": "stderr",
     "output_type": "stream",
     "text": [
      "Test_Loader: 100%|██████████| 288/288 [00:28<00:00,  9.95it/s]\n"
     ]
    },
    {
     "name": "stdout",
     "output_type": "stream",
     "text": [
      "Loss1: 1.2718, Loss2: 0.3642, Loss3: 1.7108\n"
     ]
    },
    {
     "name": "stderr",
     "output_type": "stream",
     "text": [
      "Test_Loader: 100%|██████████| 288/288 [00:30<00:00,  9.47it/s]\n"
     ]
    },
    {
     "name": "stdout",
     "output_type": "stream",
     "text": [
      "Loss1: 1.2652, Loss2: 0.3602, Loss3: 1.7077\n"
     ]
    },
    {
     "name": "stderr",
     "output_type": "stream",
     "text": [
      "Test_Loader: 100%|██████████| 288/288 [00:29<00:00,  9.66it/s]\n"
     ]
    },
    {
     "name": "stdout",
     "output_type": "stream",
     "text": [
      "Loss1: 1.2620, Loss2: 0.3573, Loss3: 1.6806\n"
     ]
    },
    {
     "name": "stderr",
     "output_type": "stream",
     "text": [
      "Test_Loader: 100%|██████████| 288/288 [00:28<00:00,  9.93it/s]\n"
     ]
    },
    {
     "name": "stdout",
     "output_type": "stream",
     "text": [
      "Loss1: 1.2520, Loss2: 0.3543, Loss3: 1.6796\n"
     ]
    },
    {
     "name": "stderr",
     "output_type": "stream",
     "text": [
      "Test_Loader: 100%|██████████| 288/288 [00:30<00:00,  9.55it/s]\n"
     ]
    },
    {
     "name": "stdout",
     "output_type": "stream",
     "text": [
      "Loss1: 1.2264, Loss2: 0.3545, Loss3: 1.6625\n"
     ]
    },
    {
     "name": "stderr",
     "output_type": "stream",
     "text": [
      "Test_Loader: 100%|██████████| 288/288 [00:29<00:00,  9.79it/s]\n"
     ]
    },
    {
     "name": "stdout",
     "output_type": "stream",
     "text": [
      "Loss1: 1.2526, Loss2: 0.3623, Loss3: 1.6806\n"
     ]
    },
    {
     "name": "stderr",
     "output_type": "stream",
     "text": [
      "Test_Loader: 100%|██████████| 288/288 [00:30<00:00,  9.51it/s]\n"
     ]
    },
    {
     "name": "stdout",
     "output_type": "stream",
     "text": [
      "Loss1: 1.2298, Loss2: 0.3560, Loss3: 1.6484\n"
     ]
    },
    {
     "name": "stderr",
     "output_type": "stream",
     "text": [
      "Test_Loader: 100%|██████████| 288/288 [00:31<00:00,  9.17it/s]\n"
     ]
    },
    {
     "name": "stdout",
     "output_type": "stream",
     "text": [
      "Loss1: 1.2455, Loss2: 0.3618, Loss3: 1.6617\n"
     ]
    },
    {
     "name": "stderr",
     "output_type": "stream",
     "text": [
      "Test_Loader: 100%|██████████| 288/288 [00:31<00:00,  9.24it/s]\n"
     ]
    },
    {
     "name": "stdout",
     "output_type": "stream",
     "text": [
      "Loss1: 1.2414, Loss2: 0.3634, Loss3: 1.6599\n"
     ]
    },
    {
     "name": "stderr",
     "output_type": "stream",
     "text": [
      "Test_Loader: 100%|██████████| 288/288 [00:30<00:00,  9.32it/s]\n"
     ]
    },
    {
     "name": "stdout",
     "output_type": "stream",
     "text": [
      "Loss1: 1.2576, Loss2: 0.3666, Loss3: 1.6662\n"
     ]
    },
    {
     "name": "stderr",
     "output_type": "stream",
     "text": [
      "Test_Loader: 100%|██████████| 288/288 [00:30<00:00,  9.39it/s]\n"
     ]
    },
    {
     "name": "stdout",
     "output_type": "stream",
     "text": [
      "Loss1: 1.2695, Loss2: 0.3687, Loss3: 1.6664\n"
     ]
    },
    {
     "name": "stderr",
     "output_type": "stream",
     "text": [
      "Test_Loader: 100%|██████████| 288/288 [00:27<00:00, 10.36it/s]\n"
     ]
    },
    {
     "name": "stdout",
     "output_type": "stream",
     "text": [
      "Loss1: 1.2680, Loss2: 0.3625, Loss3: 1.6801\n"
     ]
    },
    {
     "name": "stderr",
     "output_type": "stream",
     "text": [
      "Test_Loader: 100%|██████████| 288/288 [00:28<00:00, 10.11it/s]\n"
     ]
    },
    {
     "name": "stdout",
     "output_type": "stream",
     "text": [
      "Loss1: 1.2591, Loss2: 0.3631, Loss3: 1.7209\n"
     ]
    },
    {
     "name": "stderr",
     "output_type": "stream",
     "text": [
      "Test_Loader: 100%|██████████| 288/288 [00:29<00:00,  9.75it/s]\n"
     ]
    },
    {
     "name": "stdout",
     "output_type": "stream",
     "text": [
      "Loss1: 1.2448, Loss2: 0.3576, Loss3: 1.7009\n"
     ]
    },
    {
     "name": "stderr",
     "output_type": "stream",
     "text": [
      "Test_Loader: 100%|██████████| 288/288 [00:28<00:00,  9.97it/s]\n"
     ]
    },
    {
     "name": "stdout",
     "output_type": "stream",
     "text": [
      "Loss1: 1.2472, Loss2: 0.3536, Loss3: 1.6943\n"
     ]
    },
    {
     "name": "stderr",
     "output_type": "stream",
     "text": [
      "Test_Loader: 100%|██████████| 288/288 [00:28<00:00, 10.22it/s]\n"
     ]
    },
    {
     "name": "stdout",
     "output_type": "stream",
     "text": [
      "Loss1: 1.2744, Loss2: 0.3685, Loss3: 1.8072\n"
     ]
    },
    {
     "name": "stderr",
     "output_type": "stream",
     "text": [
      "Test_Loader: 100%|██████████| 288/288 [00:28<00:00,  9.96it/s]\n"
     ]
    },
    {
     "name": "stdout",
     "output_type": "stream",
     "text": [
      "Loss1: 1.2548, Loss2: 0.3615, Loss3: 1.7762\n"
     ]
    },
    {
     "name": "stderr",
     "output_type": "stream",
     "text": [
      "Test_Loader: 100%|██████████| 288/288 [00:28<00:00, 10.28it/s]\n"
     ]
    },
    {
     "name": "stdout",
     "output_type": "stream",
     "text": [
      "Loss1: 1.2315, Loss2: 0.3567, Loss3: 1.7601\n"
     ]
    },
    {
     "name": "stderr",
     "output_type": "stream",
     "text": [
      "Test_Loader: 100%|██████████| 288/288 [00:27<00:00, 10.47it/s]\n"
     ]
    },
    {
     "name": "stdout",
     "output_type": "stream",
     "text": [
      "Loss1: 1.2358, Loss2: 0.3540, Loss3: 1.7366\n"
     ]
    },
    {
     "name": "stderr",
     "output_type": "stream",
     "text": [
      "Test_Loader: 100%|██████████| 288/288 [00:26<00:00, 10.67it/s]\n"
     ]
    },
    {
     "name": "stdout",
     "output_type": "stream",
     "text": [
      "Loss1: 1.3350, Loss2: 0.3746, Loss3: 1.8078\n"
     ]
    },
    {
     "name": "stderr",
     "output_type": "stream",
     "text": [
      "Test_Loader: 100%|██████████| 288/288 [00:26<00:00, 11.04it/s]\n"
     ]
    },
    {
     "name": "stdout",
     "output_type": "stream",
     "text": [
      "Loss1: 1.3114, Loss2: 0.3708, Loss3: 1.7905\n"
     ]
    },
    {
     "name": "stderr",
     "output_type": "stream",
     "text": [
      "Test_Loader: 100%|██████████| 288/288 [00:25<00:00, 11.13it/s]\n"
     ]
    },
    {
     "name": "stdout",
     "output_type": "stream",
     "text": [
      "Loss1: 1.3052, Loss2: 0.3700, Loss3: 1.7934\n"
     ]
    },
    {
     "name": "stderr",
     "output_type": "stream",
     "text": [
      "Test_Loader: 100%|██████████| 288/288 [00:25<00:00, 11.30it/s]\n"
     ]
    },
    {
     "name": "stdout",
     "output_type": "stream",
     "text": [
      "Loss1: 1.3028, Loss2: 0.3707, Loss3: 1.7683\n"
     ]
    },
    {
     "name": "stderr",
     "output_type": "stream",
     "text": [
      "Test_Loader: 100%|██████████| 288/288 [00:26<00:00, 11.02it/s]\n"
     ]
    },
    {
     "name": "stdout",
     "output_type": "stream",
     "text": [
      "Loss1: 1.2954, Loss2: 0.3645, Loss3: 1.7681\n"
     ]
    },
    {
     "name": "stderr",
     "output_type": "stream",
     "text": [
      "Test_Loader: 100%|██████████| 288/288 [00:26<00:00, 10.90it/s]\n"
     ]
    },
    {
     "name": "stdout",
     "output_type": "stream",
     "text": [
      "Loss1: 1.2500, Loss2: 0.3462, Loss3: 1.7369\n"
     ]
    },
    {
     "name": "stderr",
     "output_type": "stream",
     "text": [
      "Test_Loader: 100%|██████████| 288/288 [00:26<00:00, 11.05it/s]\n"
     ]
    },
    {
     "name": "stdout",
     "output_type": "stream",
     "text": [
      "Loss1: 1.2521, Loss2: 0.3467, Loss3: 1.7483\n"
     ]
    },
    {
     "name": "stderr",
     "output_type": "stream",
     "text": [
      "Test_Loader: 100%|██████████| 288/288 [00:28<00:00, 10.23it/s]\n"
     ]
    },
    {
     "name": "stdout",
     "output_type": "stream",
     "text": [
      "Loss1: 1.2001, Loss2: 0.3468, Loss3: 1.7353\n"
     ]
    },
    {
     "name": "stderr",
     "output_type": "stream",
     "text": [
      "Test_Loader: 100%|██████████| 288/288 [00:28<00:00, 10.03it/s]\n"
     ]
    },
    {
     "name": "stdout",
     "output_type": "stream",
     "text": [
      "Loss1: 1.2020, Loss2: 0.3427, Loss3: 1.7182\n"
     ]
    },
    {
     "name": "stderr",
     "output_type": "stream",
     "text": [
      "Test_Loader: 100%|██████████| 288/288 [00:26<00:00, 10.86it/s]\n"
     ]
    },
    {
     "name": "stdout",
     "output_type": "stream",
     "text": [
      "Loss1: 1.2293, Loss2: 0.3614, Loss3: 1.7348\n"
     ]
    },
    {
     "name": "stderr",
     "output_type": "stream",
     "text": [
      "Test_Loader: 100%|██████████| 288/288 [00:25<00:00, 11.16it/s]\n"
     ]
    },
    {
     "name": "stdout",
     "output_type": "stream",
     "text": [
      "Loss1: 1.2264, Loss2: 0.3560, Loss3: 1.7211\n"
     ]
    },
    {
     "name": "stderr",
     "output_type": "stream",
     "text": [
      "Test_Loader: 100%|██████████| 288/288 [00:31<00:00,  9.23it/s]\n"
     ]
    },
    {
     "name": "stdout",
     "output_type": "stream",
     "text": [
      "Loss1: 1.2168, Loss2: 0.3523, Loss3: 1.7234\n"
     ]
    },
    {
     "name": "stderr",
     "output_type": "stream",
     "text": [
      "Test_Loader: 100%|██████████| 288/288 [00:30<00:00,  9.41it/s]\n"
     ]
    },
    {
     "name": "stdout",
     "output_type": "stream",
     "text": [
      "Loss1: 1.2271, Loss2: 0.3545, Loss3: 1.7143\n"
     ]
    },
    {
     "name": "stderr",
     "output_type": "stream",
     "text": [
      "Test_Loader: 100%|██████████| 288/288 [00:27<00:00, 10.50it/s]\n"
     ]
    },
    {
     "name": "stdout",
     "output_type": "stream",
     "text": [
      "Loss1: 1.2168, Loss2: 0.3524, Loss3: 1.7085\n"
     ]
    },
    {
     "name": "stderr",
     "output_type": "stream",
     "text": [
      "Test_Loader: 100%|██████████| 288/288 [00:27<00:00, 10.64it/s]\n"
     ]
    },
    {
     "name": "stdout",
     "output_type": "stream",
     "text": [
      "Loss1: 1.2114, Loss2: 0.3500, Loss3: 1.6991\n"
     ]
    },
    {
     "name": "stderr",
     "output_type": "stream",
     "text": [
      "Test_Loader: 100%|██████████| 288/288 [00:26<00:00, 10.68it/s]\n"
     ]
    },
    {
     "name": "stdout",
     "output_type": "stream",
     "text": [
      "Loss1: 1.2157, Loss2: 0.3533, Loss3: 1.6906\n"
     ]
    },
    {
     "name": "stderr",
     "output_type": "stream",
     "text": [
      "Test_Loader: 100%|██████████| 288/288 [00:28<00:00, 10.14it/s]\n"
     ]
    },
    {
     "name": "stdout",
     "output_type": "stream",
     "text": [
      "Loss1: 1.0510, Loss2: 0.3125, Loss3: 1.3371\n"
     ]
    },
    {
     "name": "stderr",
     "output_type": "stream",
     "text": [
      "Test_Loader: 100%|██████████| 288/288 [00:28<00:00, 10.26it/s]\n"
     ]
    },
    {
     "name": "stdout",
     "output_type": "stream",
     "text": [
      "Loss1: 1.0695, Loss2: 0.3159, Loss3: 1.3562\n"
     ]
    },
    {
     "name": "stderr",
     "output_type": "stream",
     "text": [
      "Test_Loader: 100%|██████████| 288/288 [00:25<00:00, 11.11it/s]\n"
     ]
    },
    {
     "name": "stdout",
     "output_type": "stream",
     "text": [
      "Loss1: 1.0616, Loss2: 0.3154, Loss3: 1.3484\n"
     ]
    },
    {
     "name": "stderr",
     "output_type": "stream",
     "text": [
      "Test_Loader: 100%|██████████| 288/288 [00:28<00:00,  9.96it/s]\n"
     ]
    },
    {
     "name": "stdout",
     "output_type": "stream",
     "text": [
      "Loss1: 1.0639, Loss2: 0.3154, Loss3: 1.3432\n"
     ]
    },
    {
     "name": "stderr",
     "output_type": "stream",
     "text": [
      "Test_Loader: 100%|██████████| 288/288 [00:29<00:00,  9.73it/s]\n"
     ]
    },
    {
     "name": "stdout",
     "output_type": "stream",
     "text": [
      "Loss1: 1.0753, Loss2: 0.3297, Loss3: 1.3505\n"
     ]
    },
    {
     "name": "stderr",
     "output_type": "stream",
     "text": [
      "Test_Loader: 100%|██████████| 288/288 [00:29<00:00,  9.66it/s]\n"
     ]
    },
    {
     "name": "stdout",
     "output_type": "stream",
     "text": [
      "Loss1: 1.0806, Loss2: 0.3278, Loss3: 1.3878\n"
     ]
    },
    {
     "name": "stderr",
     "output_type": "stream",
     "text": [
      "Test_Loader: 100%|██████████| 288/288 [00:27<00:00, 10.36it/s]\n"
     ]
    },
    {
     "name": "stdout",
     "output_type": "stream",
     "text": [
      "Loss1: 1.1142, Loss2: 0.3301, Loss3: 1.3902\n"
     ]
    },
    {
     "name": "stderr",
     "output_type": "stream",
     "text": [
      "Test_Loader: 100%|██████████| 288/288 [00:29<00:00,  9.85it/s]\n"
     ]
    },
    {
     "name": "stdout",
     "output_type": "stream",
     "text": [
      "Loss1: 1.1881, Loss2: 0.3321, Loss3: 1.4389\n"
     ]
    },
    {
     "name": "stderr",
     "output_type": "stream",
     "text": [
      "Test_Loader: 100%|██████████| 288/288 [00:27<00:00, 10.50it/s]\n"
     ]
    },
    {
     "name": "stdout",
     "output_type": "stream",
     "text": [
      "Loss1: 1.1816, Loss2: 0.3268, Loss3: 1.4233\n"
     ]
    },
    {
     "name": "stderr",
     "output_type": "stream",
     "text": [
      "Test_Loader: 100%|██████████| 288/288 [00:26<00:00, 10.92it/s]\n"
     ]
    },
    {
     "name": "stdout",
     "output_type": "stream",
     "text": [
      "Loss1: 1.1669, Loss2: 0.3285, Loss3: 1.4125\n"
     ]
    },
    {
     "name": "stderr",
     "output_type": "stream",
     "text": [
      "Test_Loader: 100%|██████████| 288/288 [00:26<00:00, 10.91it/s]\n"
     ]
    },
    {
     "name": "stdout",
     "output_type": "stream",
     "text": [
      "Loss1: 1.1598, Loss2: 0.3252, Loss3: 1.3996\n"
     ]
    },
    {
     "name": "stderr",
     "output_type": "stream",
     "text": [
      "Test_Loader: 100%|██████████| 288/288 [00:26<00:00, 10.94it/s]\n"
     ]
    },
    {
     "name": "stdout",
     "output_type": "stream",
     "text": [
      "Loss1: 1.1530, Loss2: 0.3198, Loss3: 1.3874\n"
     ]
    },
    {
     "name": "stderr",
     "output_type": "stream",
     "text": [
      "Test_Loader: 100%|██████████| 288/288 [00:26<00:00, 10.83it/s]\n"
     ]
    },
    {
     "name": "stdout",
     "output_type": "stream",
     "text": [
      "Loss1: 1.1418, Loss2: 0.3155, Loss3: 1.3700\n"
     ]
    },
    {
     "name": "stderr",
     "output_type": "stream",
     "text": [
      "Test_Loader: 100%|██████████| 288/288 [00:26<00:00, 10.89it/s]\n"
     ]
    },
    {
     "name": "stdout",
     "output_type": "stream",
     "text": [
      "Loss1: 1.1292, Loss2: 0.3151, Loss3: 1.3500\n"
     ]
    },
    {
     "name": "stderr",
     "output_type": "stream",
     "text": [
      "Test_Loader: 100%|██████████| 288/288 [00:27<00:00, 10.46it/s]\n"
     ]
    },
    {
     "name": "stdout",
     "output_type": "stream",
     "text": [
      "Loss1: 1.1018, Loss2: 0.3126, Loss3: 1.3384\n"
     ]
    },
    {
     "name": "stderr",
     "output_type": "stream",
     "text": [
      "Test_Loader: 100%|██████████| 288/288 [00:26<00:00, 10.75it/s]\n"
     ]
    },
    {
     "name": "stdout",
     "output_type": "stream",
     "text": [
      "Loss1: 1.0887, Loss2: 0.3122, Loss3: 1.3213\n"
     ]
    },
    {
     "name": "stderr",
     "output_type": "stream",
     "text": [
      "Test_Loader: 100%|██████████| 288/288 [00:29<00:00,  9.84it/s]\n"
     ]
    },
    {
     "name": "stdout",
     "output_type": "stream",
     "text": [
      "Loss1: 1.0788, Loss2: 0.3077, Loss3: 1.3112\n"
     ]
    },
    {
     "name": "stderr",
     "output_type": "stream",
     "text": [
      "Test_Loader: 100%|██████████| 288/288 [00:28<00:00,  9.93it/s]\n"
     ]
    },
    {
     "name": "stdout",
     "output_type": "stream",
     "text": [
      "Loss1: 1.0590, Loss2: 0.3097, Loss3: 1.2873\n"
     ]
    },
    {
     "name": "stderr",
     "output_type": "stream",
     "text": [
      "Test_Loader: 100%|██████████| 288/288 [00:29<00:00,  9.89it/s]\n"
     ]
    },
    {
     "name": "stdout",
     "output_type": "stream",
     "text": [
      "Loss1: 1.0530, Loss2: 0.3076, Loss3: 1.2990\n"
     ]
    },
    {
     "name": "stderr",
     "output_type": "stream",
     "text": [
      "Test_Loader: 100%|██████████| 288/288 [00:28<00:00,  9.94it/s]\n"
     ]
    },
    {
     "name": "stdout",
     "output_type": "stream",
     "text": [
      "Loss1: 1.0545, Loss2: 0.3091, Loss3: 1.2773\n"
     ]
    },
    {
     "name": "stderr",
     "output_type": "stream",
     "text": [
      "Test_Loader: 100%|██████████| 288/288 [00:28<00:00,  9.97it/s]\n"
     ]
    },
    {
     "name": "stdout",
     "output_type": "stream",
     "text": [
      "Loss1: 1.0520, Loss2: 0.3092, Loss3: 1.2711\n"
     ]
    },
    {
     "name": "stderr",
     "output_type": "stream",
     "text": [
      "Test_Loader: 100%|██████████| 288/288 [00:29<00:00,  9.89it/s]\n"
     ]
    },
    {
     "name": "stdout",
     "output_type": "stream",
     "text": [
      "Loss1: 1.0510, Loss2: 0.3072, Loss3: 1.2631\n"
     ]
    },
    {
     "name": "stderr",
     "output_type": "stream",
     "text": [
      "Test_Loader: 100%|██████████| 288/288 [00:29<00:00,  9.71it/s]\n"
     ]
    },
    {
     "name": "stdout",
     "output_type": "stream",
     "text": [
      "Loss1: 1.0459, Loss2: 0.3078, Loss3: 1.2807\n"
     ]
    },
    {
     "name": "stderr",
     "output_type": "stream",
     "text": [
      "Test_Loader: 100%|██████████| 288/288 [00:29<00:00,  9.83it/s]\n"
     ]
    },
    {
     "name": "stdout",
     "output_type": "stream",
     "text": [
      "Loss1: 1.0392, Loss2: 0.3075, Loss3: 1.2680\n"
     ]
    },
    {
     "name": "stderr",
     "output_type": "stream",
     "text": [
      "Test_Loader: 100%|██████████| 288/288 [00:28<00:00,  9.99it/s]\n"
     ]
    },
    {
     "name": "stdout",
     "output_type": "stream",
     "text": [
      "Loss1: 1.0350, Loss2: 0.3053, Loss3: 1.2669\n"
     ]
    },
    {
     "name": "stderr",
     "output_type": "stream",
     "text": [
      "Test_Loader: 100%|██████████| 288/288 [00:28<00:00,  9.96it/s]\n"
     ]
    },
    {
     "name": "stdout",
     "output_type": "stream",
     "text": [
      "Loss1: 1.0845, Loss2: 0.3148, Loss3: 1.2762\n"
     ]
    },
    {
     "name": "stderr",
     "output_type": "stream",
     "text": [
      "Test_Loader: 100%|██████████| 288/288 [00:28<00:00, 10.05it/s]\n"
     ]
    },
    {
     "name": "stdout",
     "output_type": "stream",
     "text": [
      "Loss1: 1.0936, Loss2: 0.3238, Loss3: 1.2995\n"
     ]
    },
    {
     "name": "stderr",
     "output_type": "stream",
     "text": [
      "Test_Loader: 100%|██████████| 288/288 [00:28<00:00, 10.19it/s]\n"
     ]
    },
    {
     "name": "stdout",
     "output_type": "stream",
     "text": [
      "Loss1: 1.0906, Loss2: 0.3229, Loss3: 1.2879\n"
     ]
    },
    {
     "name": "stderr",
     "output_type": "stream",
     "text": [
      "Test_Loader: 100%|██████████| 288/288 [00:27<00:00, 10.30it/s]\n"
     ]
    },
    {
     "name": "stdout",
     "output_type": "stream",
     "text": [
      "Loss1: 1.0894, Loss2: 0.3230, Loss3: 1.3116\n"
     ]
    },
    {
     "name": "stderr",
     "output_type": "stream",
     "text": [
      "Test_Loader: 100%|██████████| 288/288 [00:28<00:00, 10.22it/s]\n"
     ]
    },
    {
     "name": "stdout",
     "output_type": "stream",
     "text": [
      "Loss1: 1.2373, Loss2: 0.3560, Loss3: 1.5683\n"
     ]
    },
    {
     "name": "stderr",
     "output_type": "stream",
     "text": [
      "Test_Loader: 100%|██████████| 288/288 [00:28<00:00, 10.10it/s]\n"
     ]
    },
    {
     "name": "stdout",
     "output_type": "stream",
     "text": [
      "Loss1: 1.1855, Loss2: 0.3501, Loss3: 1.5527\n"
     ]
    },
    {
     "name": "stderr",
     "output_type": "stream",
     "text": [
      "Test_Loader: 100%|██████████| 288/288 [00:27<00:00, 10.45it/s]\n"
     ]
    },
    {
     "name": "stdout",
     "output_type": "stream",
     "text": [
      "Loss1: 1.1939, Loss2: 0.3501, Loss3: 1.5573\n"
     ]
    },
    {
     "name": "stderr",
     "output_type": "stream",
     "text": [
      "Test_Loader: 100%|██████████| 288/288 [00:27<00:00, 10.39it/s]\n"
     ]
    },
    {
     "name": "stdout",
     "output_type": "stream",
     "text": [
      "Loss1: 1.1937, Loss2: 0.3398, Loss3: 1.5148\n"
     ]
    },
    {
     "name": "stderr",
     "output_type": "stream",
     "text": [
      "Test_Loader: 100%|██████████| 288/288 [00:27<00:00, 10.34it/s]\n"
     ]
    },
    {
     "name": "stdout",
     "output_type": "stream",
     "text": [
      "Loss1: 1.2019, Loss2: 0.3457, Loss3: 1.5380\n"
     ]
    },
    {
     "name": "stderr",
     "output_type": "stream",
     "text": [
      "Test_Loader: 100%|██████████| 288/288 [00:27<00:00, 10.31it/s]\n"
     ]
    },
    {
     "name": "stdout",
     "output_type": "stream",
     "text": [
      "Loss1: 1.2031, Loss2: 0.3534, Loss3: 1.5742\n"
     ]
    },
    {
     "name": "stderr",
     "output_type": "stream",
     "text": [
      "Test_Loader: 100%|██████████| 288/288 [00:29<00:00,  9.86it/s]\n"
     ]
    },
    {
     "name": "stdout",
     "output_type": "stream",
     "text": [
      "Loss1: 1.2201, Loss2: 0.3650, Loss3: 1.5981\n"
     ]
    },
    {
     "name": "stderr",
     "output_type": "stream",
     "text": [
      "Test_Loader: 100%|██████████| 288/288 [00:28<00:00,  9.94it/s]\n"
     ]
    },
    {
     "name": "stdout",
     "output_type": "stream",
     "text": [
      "Loss1: 2.0239, Loss2: 0.4704, Loss3: 4.0490\n"
     ]
    },
    {
     "name": "stderr",
     "output_type": "stream",
     "text": [
      "Test_Loader: 100%|██████████| 288/288 [00:29<00:00,  9.77it/s]\n"
     ]
    },
    {
     "name": "stdout",
     "output_type": "stream",
     "text": [
      "Loss1: 1.8469, Loss2: 0.4556, Loss3: 3.6327\n"
     ]
    },
    {
     "name": "stderr",
     "output_type": "stream",
     "text": [
      "Test_Loader: 100%|██████████| 288/288 [00:29<00:00,  9.76it/s]\n"
     ]
    },
    {
     "name": "stdout",
     "output_type": "stream",
     "text": [
      "Loss1: 1.7547, Loss2: 0.4432, Loss3: 3.4303\n"
     ]
    },
    {
     "name": "stderr",
     "output_type": "stream",
     "text": [
      "Test_Loader: 100%|██████████| 288/288 [00:29<00:00,  9.77it/s]\n"
     ]
    },
    {
     "name": "stdout",
     "output_type": "stream",
     "text": [
      "Loss1: 1.7794, Loss2: 0.4500, Loss3: 3.3392\n"
     ]
    },
    {
     "name": "stderr",
     "output_type": "stream",
     "text": [
      "Test_Loader: 100%|██████████| 288/288 [00:28<00:00, 10.22it/s]\n"
     ]
    },
    {
     "name": "stdout",
     "output_type": "stream",
     "text": [
      "Loss1: 1.7427, Loss2: 0.4431, Loss3: 3.1956\n"
     ]
    },
    {
     "name": "stderr",
     "output_type": "stream",
     "text": [
      "Test_Loader: 100%|██████████| 288/288 [00:27<00:00, 10.40it/s]\n"
     ]
    },
    {
     "name": "stdout",
     "output_type": "stream",
     "text": [
      "Loss1: 1.7769, Loss2: 0.4705, Loss3: 3.1288\n"
     ]
    },
    {
     "name": "stderr",
     "output_type": "stream",
     "text": [
      "Test_Loader: 100%|██████████| 288/288 [00:28<00:00, 10.24it/s]\n"
     ]
    },
    {
     "name": "stdout",
     "output_type": "stream",
     "text": [
      "Loss1: 1.7507, Loss2: 0.4602, Loss3: 2.9959\n"
     ]
    },
    {
     "name": "stderr",
     "output_type": "stream",
     "text": [
      "Test_Loader: 100%|██████████| 288/288 [00:29<00:00,  9.86it/s]\n"
     ]
    },
    {
     "name": "stdout",
     "output_type": "stream",
     "text": [
      "Loss1: 1.8793, Loss2: 0.4642, Loss3: 2.9876\n"
     ]
    },
    {
     "name": "stderr",
     "output_type": "stream",
     "text": [
      "Test_Loader: 100%|██████████| 288/288 [00:28<00:00, 10.14it/s]\n"
     ]
    },
    {
     "name": "stdout",
     "output_type": "stream",
     "text": [
      "Loss1: 1.8706, Loss2: 0.4637, Loss3: 2.9108\n"
     ]
    },
    {
     "name": "stderr",
     "output_type": "stream",
     "text": [
      "Test_Loader: 100%|██████████| 288/288 [00:27<00:00, 10.33it/s]\n"
     ]
    },
    {
     "name": "stdout",
     "output_type": "stream",
     "text": [
      "Loss1: 1.8706, Loss2: 0.4586, Loss3: 2.8251\n"
     ]
    },
    {
     "name": "stderr",
     "output_type": "stream",
     "text": [
      "Test_Loader: 100%|██████████| 288/288 [00:29<00:00,  9.71it/s]\n"
     ]
    },
    {
     "name": "stdout",
     "output_type": "stream",
     "text": [
      "Loss1: 1.8475, Loss2: 0.4552, Loss3: 2.7417\n"
     ]
    },
    {
     "name": "stderr",
     "output_type": "stream",
     "text": [
      "Test_Loader: 100%|██████████| 288/288 [00:28<00:00,  9.94it/s]\n"
     ]
    },
    {
     "name": "stdout",
     "output_type": "stream",
     "text": [
      "Loss1: 1.7828, Loss2: 0.4405, Loss3: 2.5862\n"
     ]
    },
    {
     "name": "stderr",
     "output_type": "stream",
     "text": [
      "Test_Loader: 100%|██████████| 288/288 [00:28<00:00,  9.95it/s]\n"
     ]
    },
    {
     "name": "stdout",
     "output_type": "stream",
     "text": [
      "Loss1: 1.7546, Loss2: 0.4363, Loss3: 2.4886\n"
     ]
    },
    {
     "name": "stderr",
     "output_type": "stream",
     "text": [
      "Test_Loader: 100%|██████████| 288/288 [00:29<00:00,  9.90it/s]\n"
     ]
    },
    {
     "name": "stdout",
     "output_type": "stream",
     "text": [
      "Loss1: 1.8807, Loss2: 0.4741, Loss3: 2.7201\n"
     ]
    },
    {
     "name": "stderr",
     "output_type": "stream",
     "text": [
      "Test_Loader: 100%|██████████| 288/288 [00:29<00:00,  9.83it/s]\n"
     ]
    },
    {
     "name": "stdout",
     "output_type": "stream",
     "text": [
      "Loss1: 1.8630, Loss2: 0.4737, Loss3: 2.5819\n"
     ]
    },
    {
     "name": "stderr",
     "output_type": "stream",
     "text": [
      "Test_Loader: 100%|██████████| 288/288 [00:28<00:00,  9.93it/s]\n"
     ]
    },
    {
     "name": "stdout",
     "output_type": "stream",
     "text": [
      "Loss1: 2.0916, Loss2: 0.5783, Loss3: 2.9754\n"
     ]
    },
    {
     "name": "stderr",
     "output_type": "stream",
     "text": [
      "Test_Loader: 100%|██████████| 288/288 [00:28<00:00, 10.03it/s]\n"
     ]
    },
    {
     "name": "stdout",
     "output_type": "stream",
     "text": [
      "Loss1: 2.0454, Loss2: 0.5634, Loss3: 2.8489\n"
     ]
    },
    {
     "name": "stderr",
     "output_type": "stream",
     "text": [
      "Test_Loader: 100%|██████████| 288/288 [00:27<00:00, 10.55it/s]\n"
     ]
    },
    {
     "name": "stdout",
     "output_type": "stream",
     "text": [
      "Loss1: 2.0392, Loss2: 0.5514, Loss3: 2.7644\n"
     ]
    },
    {
     "name": "stderr",
     "output_type": "stream",
     "text": [
      "Test_Loader: 100%|██████████| 288/288 [00:28<00:00, 10.14it/s]\n"
     ]
    },
    {
     "name": "stdout",
     "output_type": "stream",
     "text": [
      "Loss1: 2.0102, Loss2: 0.5438, Loss3: 2.6705\n"
     ]
    },
    {
     "name": "stderr",
     "output_type": "stream",
     "text": [
      "Test_Loader: 100%|██████████| 288/288 [00:30<00:00,  9.52it/s]\n"
     ]
    },
    {
     "name": "stdout",
     "output_type": "stream",
     "text": [
      "Loss1: 2.0014, Loss2: 0.5438, Loss3: 2.5691\n"
     ]
    },
    {
     "name": "stderr",
     "output_type": "stream",
     "text": [
      "Test_Loader: 100%|██████████| 288/288 [00:30<00:00,  9.49it/s]\n"
     ]
    },
    {
     "name": "stdout",
     "output_type": "stream",
     "text": [
      "Loss1: 1.9753, Loss2: 0.5338, Loss3: 2.5584\n"
     ]
    },
    {
     "name": "stderr",
     "output_type": "stream",
     "text": [
      "Test_Loader: 100%|██████████| 288/288 [00:28<00:00, 10.07it/s]\n"
     ]
    },
    {
     "name": "stdout",
     "output_type": "stream",
     "text": [
      "Loss1: 1.9653, Loss2: 0.5285, Loss3: 2.4513\n"
     ]
    },
    {
     "name": "stderr",
     "output_type": "stream",
     "text": [
      "Test_Loader: 100%|██████████| 288/288 [00:28<00:00,  9.95it/s]\n"
     ]
    },
    {
     "name": "stdout",
     "output_type": "stream",
     "text": [
      "Loss1: 1.9530, Loss2: 0.5215, Loss3: 2.4166\n"
     ]
    },
    {
     "name": "stderr",
     "output_type": "stream",
     "text": [
      "Test_Loader: 100%|██████████| 288/288 [00:26<00:00, 10.99it/s]\n"
     ]
    },
    {
     "name": "stdout",
     "output_type": "stream",
     "text": [
      "Loss1: 1.9516, Loss2: 0.5265, Loss3: 2.3721\n"
     ]
    },
    {
     "name": "stderr",
     "output_type": "stream",
     "text": [
      "Test_Loader: 100%|██████████| 288/288 [00:27<00:00, 10.51it/s]\n"
     ]
    },
    {
     "name": "stdout",
     "output_type": "stream",
     "text": [
      "Loss1: 1.9828, Loss2: 0.5234, Loss3: 2.3688\n"
     ]
    },
    {
     "name": "stderr",
     "output_type": "stream",
     "text": [
      "Test_Loader: 100%|██████████| 288/288 [00:29<00:00,  9.76it/s]\n"
     ]
    },
    {
     "name": "stdout",
     "output_type": "stream",
     "text": [
      "Loss1: 1.9853, Loss2: 0.5269, Loss3: 2.3770\n"
     ]
    },
    {
     "name": "stderr",
     "output_type": "stream",
     "text": [
      "Test_Loader: 100%|██████████| 288/288 [00:28<00:00, 10.06it/s]\n"
     ]
    },
    {
     "name": "stdout",
     "output_type": "stream",
     "text": [
      "Loss1: 1.9629, Loss2: 0.5198, Loss3: 2.3329\n"
     ]
    },
    {
     "name": "stderr",
     "output_type": "stream",
     "text": [
      "Test_Loader: 100%|██████████| 288/288 [00:28<00:00, 10.13it/s]\n"
     ]
    },
    {
     "name": "stdout",
     "output_type": "stream",
     "text": [
      "Loss1: 1.9457, Loss2: 0.5153, Loss3: 2.2949\n"
     ]
    },
    {
     "name": "stderr",
     "output_type": "stream",
     "text": [
      "Test_Loader: 100%|██████████| 288/288 [00:28<00:00, 10.09it/s]\n"
     ]
    },
    {
     "name": "stdout",
     "output_type": "stream",
     "text": [
      "Loss1: 1.9505, Loss2: 0.5173, Loss3: 2.2444\n"
     ]
    },
    {
     "name": "stderr",
     "output_type": "stream",
     "text": [
      "Test_Loader: 100%|██████████| 288/288 [00:29<00:00,  9.81it/s]\n"
     ]
    },
    {
     "name": "stdout",
     "output_type": "stream",
     "text": [
      "Loss1: 1.9159, Loss2: 0.5062, Loss3: 2.2070\n"
     ]
    },
    {
     "name": "stderr",
     "output_type": "stream",
     "text": [
      "Test_Loader: 100%|██████████| 288/288 [00:27<00:00, 10.46it/s]\n"
     ]
    },
    {
     "name": "stdout",
     "output_type": "stream",
     "text": [
      "Loss1: 1.8764, Loss2: 0.4989, Loss3: 2.1833\n"
     ]
    },
    {
     "name": "stderr",
     "output_type": "stream",
     "text": [
      "Test_Loader: 100%|██████████| 288/288 [00:28<00:00, 10.11it/s]\n"
     ]
    },
    {
     "name": "stdout",
     "output_type": "stream",
     "text": [
      "Loss1: 1.8936, Loss2: 0.4987, Loss3: 2.1535\n"
     ]
    },
    {
     "name": "stderr",
     "output_type": "stream",
     "text": [
      "Test_Loader: 100%|██████████| 288/288 [00:28<00:00, 10.02it/s]\n"
     ]
    },
    {
     "name": "stdout",
     "output_type": "stream",
     "text": [
      "Loss1: 1.8647, Loss2: 0.4862, Loss3: 2.1188\n"
     ]
    },
    {
     "name": "stderr",
     "output_type": "stream",
     "text": [
      "Test_Loader: 100%|██████████| 288/288 [00:27<00:00, 10.39it/s]\n"
     ]
    },
    {
     "name": "stdout",
     "output_type": "stream",
     "text": [
      "Loss1: 1.8478, Loss2: 0.4849, Loss3: 2.0905\n"
     ]
    },
    {
     "name": "stderr",
     "output_type": "stream",
     "text": [
      "Test_Loader: 100%|██████████| 288/288 [00:28<00:00, 10.19it/s]\n"
     ]
    },
    {
     "name": "stdout",
     "output_type": "stream",
     "text": [
      "Loss1: 1.8296, Loss2: 0.4822, Loss3: 2.0968\n"
     ]
    },
    {
     "name": "stderr",
     "output_type": "stream",
     "text": [
      "Test_Loader: 100%|██████████| 288/288 [00:28<00:00, 10.04it/s]\n"
     ]
    },
    {
     "name": "stdout",
     "output_type": "stream",
     "text": [
      "Loss1: 1.9372, Loss2: 0.5335, Loss3: 2.4587\n"
     ]
    },
    {
     "name": "stderr",
     "output_type": "stream",
     "text": [
      "Test_Loader: 100%|██████████| 288/288 [00:28<00:00, 10.13it/s]\n"
     ]
    },
    {
     "name": "stdout",
     "output_type": "stream",
     "text": [
      "Loss1: 1.9694, Loss2: 0.5409, Loss3: 2.4241\n"
     ]
    },
    {
     "name": "stderr",
     "output_type": "stream",
     "text": [
      "Test_Loader: 100%|██████████| 288/288 [00:29<00:00,  9.92it/s]\n"
     ]
    },
    {
     "name": "stdout",
     "output_type": "stream",
     "text": [
      "Loss1: 1.9735, Loss2: 0.5590, Loss3: 2.5553\n"
     ]
    },
    {
     "name": "stderr",
     "output_type": "stream",
     "text": [
      "Test_Loader: 100%|██████████| 288/288 [00:29<00:00,  9.85it/s]\n"
     ]
    },
    {
     "name": "stdout",
     "output_type": "stream",
     "text": [
      "Loss1: 1.9621, Loss2: 0.5533, Loss3: 2.5098\n"
     ]
    },
    {
     "name": "stderr",
     "output_type": "stream",
     "text": [
      "Test_Loader: 100%|██████████| 288/288 [00:29<00:00,  9.86it/s]\n"
     ]
    },
    {
     "name": "stdout",
     "output_type": "stream",
     "text": [
      "Loss1: 1.9420, Loss2: 0.5470, Loss3: 2.4352\n"
     ]
    },
    {
     "name": "stderr",
     "output_type": "stream",
     "text": [
      "Test_Loader: 100%|██████████| 288/288 [00:28<00:00,  9.97it/s]\n"
     ]
    },
    {
     "name": "stdout",
     "output_type": "stream",
     "text": [
      "Loss1: 1.9084, Loss2: 0.5346, Loss3: 2.3233\n"
     ]
    },
    {
     "name": "stderr",
     "output_type": "stream",
     "text": [
      "Test_Loader: 100%|██████████| 288/288 [00:28<00:00, 10.12it/s]\n"
     ]
    },
    {
     "name": "stdout",
     "output_type": "stream",
     "text": [
      "Loss1: 1.9813, Loss2: 0.5621, Loss3: 2.3312\n"
     ]
    },
    {
     "name": "stderr",
     "output_type": "stream",
     "text": [
      "Test_Loader: 100%|██████████| 288/288 [00:27<00:00, 10.64it/s]\n"
     ]
    },
    {
     "name": "stdout",
     "output_type": "stream",
     "text": [
      "Loss1: 1.9880, Loss2: 0.5595, Loss3: 2.3512\n"
     ]
    },
    {
     "name": "stderr",
     "output_type": "stream",
     "text": [
      "Test_Loader: 100%|██████████| 288/288 [00:27<00:00, 10.36it/s]\n"
     ]
    },
    {
     "name": "stdout",
     "output_type": "stream",
     "text": [
      "Loss1: 1.9592, Loss2: 0.5546, Loss3: 2.3296\n"
     ]
    },
    {
     "name": "stderr",
     "output_type": "stream",
     "text": [
      "Test_Loader: 100%|██████████| 288/288 [00:27<00:00, 10.42it/s]\n"
     ]
    },
    {
     "name": "stdout",
     "output_type": "stream",
     "text": [
      "Loss1: 1.8799, Loss2: 0.5366, Loss3: 2.2612\n"
     ]
    },
    {
     "name": "stderr",
     "output_type": "stream",
     "text": [
      "Test_Loader: 100%|██████████| 288/288 [00:28<00:00, 10.22it/s]\n"
     ]
    },
    {
     "name": "stdout",
     "output_type": "stream",
     "text": [
      "Loss1: 1.8496, Loss2: 0.5304, Loss3: 2.2336\n"
     ]
    },
    {
     "name": "stderr",
     "output_type": "stream",
     "text": [
      "Test_Loader: 100%|██████████| 288/288 [00:28<00:00, 10.23it/s]\n"
     ]
    },
    {
     "name": "stdout",
     "output_type": "stream",
     "text": [
      "Loss1: 1.8415, Loss2: 0.5318, Loss3: 2.2567\n"
     ]
    },
    {
     "name": "stderr",
     "output_type": "stream",
     "text": [
      "Test_Loader: 100%|██████████| 288/288 [00:28<00:00, 10.20it/s]\n"
     ]
    },
    {
     "name": "stdout",
     "output_type": "stream",
     "text": [
      "Loss1: 1.8612, Loss2: 0.5325, Loss3: 2.2356\n"
     ]
    },
    {
     "name": "stderr",
     "output_type": "stream",
     "text": [
      "Test_Loader: 100%|██████████| 288/288 [00:29<00:00,  9.92it/s]\n"
     ]
    },
    {
     "name": "stdout",
     "output_type": "stream",
     "text": [
      "Loss1: 1.8618, Loss2: 0.5308, Loss3: 2.2219\n"
     ]
    },
    {
     "name": "stderr",
     "output_type": "stream",
     "text": [
      "Test_Loader: 100%|██████████| 288/288 [00:29<00:00,  9.89it/s]\n"
     ]
    },
    {
     "name": "stdout",
     "output_type": "stream",
     "text": [
      "Loss1: 1.8281, Loss2: 0.5318, Loss3: 2.2000\n"
     ]
    },
    {
     "name": "stderr",
     "output_type": "stream",
     "text": [
      "Test_Loader: 100%|██████████| 288/288 [00:29<00:00,  9.89it/s]\n"
     ]
    },
    {
     "name": "stdout",
     "output_type": "stream",
     "text": [
      "Loss1: 1.8226, Loss2: 0.5250, Loss3: 2.1560\n"
     ]
    },
    {
     "name": "stderr",
     "output_type": "stream",
     "text": [
      "Test_Loader: 100%|██████████| 288/288 [00:29<00:00,  9.82it/s]\n"
     ]
    },
    {
     "name": "stdout",
     "output_type": "stream",
     "text": [
      "Loss1: 1.8172, Loss2: 0.5233, Loss3: 2.1634\n"
     ]
    },
    {
     "name": "stderr",
     "output_type": "stream",
     "text": [
      "Test_Loader: 100%|██████████| 288/288 [00:29<00:00,  9.84it/s]\n"
     ]
    },
    {
     "name": "stdout",
     "output_type": "stream",
     "text": [
      "Loss1: 1.8114, Loss2: 0.5205, Loss3: 2.1283\n"
     ]
    },
    {
     "name": "stderr",
     "output_type": "stream",
     "text": [
      "Test_Loader: 100%|██████████| 288/288 [00:29<00:00,  9.82it/s]\n"
     ]
    },
    {
     "name": "stdout",
     "output_type": "stream",
     "text": [
      "Loss1: 1.7934, Loss2: 0.5263, Loss3: 2.1337\n"
     ]
    },
    {
     "name": "stderr",
     "output_type": "stream",
     "text": [
      "Test_Loader: 100%|██████████| 288/288 [00:28<00:00, 10.12it/s]\n"
     ]
    },
    {
     "name": "stdout",
     "output_type": "stream",
     "text": [
      "Loss1: 1.8073, Loss2: 0.5273, Loss3: 2.1228\n"
     ]
    },
    {
     "name": "stderr",
     "output_type": "stream",
     "text": [
      "Test_Loader: 100%|██████████| 288/288 [00:27<00:00, 10.33it/s]\n"
     ]
    },
    {
     "name": "stdout",
     "output_type": "stream",
     "text": [
      "Loss1: 1.7910, Loss2: 0.5228, Loss3: 2.1149\n"
     ]
    },
    {
     "name": "stderr",
     "output_type": "stream",
     "text": [
      "Test_Loader: 100%|██████████| 288/288 [00:28<00:00, 10.03it/s]\n"
     ]
    },
    {
     "name": "stdout",
     "output_type": "stream",
     "text": [
      "Loss1: 1.7805, Loss2: 0.5212, Loss3: 2.0808\n"
     ]
    },
    {
     "name": "stderr",
     "output_type": "stream",
     "text": [
      "Test_Loader: 100%|██████████| 288/288 [00:29<00:00,  9.61it/s]\n"
     ]
    },
    {
     "name": "stdout",
     "output_type": "stream",
     "text": [
      "Loss1: 1.7895, Loss2: 0.5266, Loss3: 2.0843\n"
     ]
    },
    {
     "name": "stderr",
     "output_type": "stream",
     "text": [
      "Test_Loader: 100%|██████████| 288/288 [00:29<00:00,  9.85it/s]\n"
     ]
    },
    {
     "name": "stdout",
     "output_type": "stream",
     "text": [
      "Loss1: 1.7614, Loss2: 0.5214, Loss3: 2.0840\n"
     ]
    },
    {
     "name": "stderr",
     "output_type": "stream",
     "text": [
      "Test_Loader: 100%|██████████| 288/288 [00:29<00:00,  9.82it/s]\n"
     ]
    },
    {
     "name": "stdout",
     "output_type": "stream",
     "text": [
      "Loss1: 1.7662, Loss2: 0.5231, Loss3: 2.0496\n"
     ]
    },
    {
     "name": "stderr",
     "output_type": "stream",
     "text": [
      "Test_Loader: 100%|██████████| 288/288 [00:29<00:00,  9.64it/s]\n"
     ]
    },
    {
     "name": "stdout",
     "output_type": "stream",
     "text": [
      "Loss1: 1.7544, Loss2: 0.5135, Loss3: 2.0368\n"
     ]
    },
    {
     "name": "stderr",
     "output_type": "stream",
     "text": [
      "Test_Loader: 100%|██████████| 288/288 [00:29<00:00,  9.77it/s]\n"
     ]
    },
    {
     "name": "stdout",
     "output_type": "stream",
     "text": [
      "Loss1: 1.7304, Loss2: 0.5097, Loss3: 2.0179\n"
     ]
    },
    {
     "name": "stderr",
     "output_type": "stream",
     "text": [
      "Test_Loader: 100%|██████████| 288/288 [00:29<00:00,  9.75it/s]\n"
     ]
    },
    {
     "name": "stdout",
     "output_type": "stream",
     "text": [
      "Loss1: 1.7250, Loss2: 0.5067, Loss3: 2.0199\n"
     ]
    },
    {
     "name": "stderr",
     "output_type": "stream",
     "text": [
      "Test_Loader: 100%|██████████| 288/288 [00:29<00:00,  9.92it/s]\n"
     ]
    },
    {
     "name": "stdout",
     "output_type": "stream",
     "text": [
      "Loss1: 1.7212, Loss2: 0.5036, Loss3: 2.0137\n"
     ]
    },
    {
     "name": "stderr",
     "output_type": "stream",
     "text": [
      "Test_Loader: 100%|██████████| 288/288 [00:29<00:00,  9.82it/s]\n"
     ]
    },
    {
     "name": "stdout",
     "output_type": "stream",
     "text": [
      "Loss1: 1.7206, Loss2: 0.4898, Loss3: 1.9633\n"
     ]
    },
    {
     "name": "stderr",
     "output_type": "stream",
     "text": [
      "Test_Loader: 100%|██████████| 288/288 [00:29<00:00,  9.89it/s]\n"
     ]
    },
    {
     "name": "stdout",
     "output_type": "stream",
     "text": [
      "Loss1: 1.7060, Loss2: 0.4818, Loss3: 1.9211\n"
     ]
    },
    {
     "name": "stderr",
     "output_type": "stream",
     "text": [
      "Test_Loader: 100%|██████████| 288/288 [00:28<00:00, 10.14it/s]\n"
     ]
    },
    {
     "name": "stdout",
     "output_type": "stream",
     "text": [
      "Loss1: 1.6691, Loss2: 0.4818, Loss3: 1.9064\n"
     ]
    },
    {
     "name": "stderr",
     "output_type": "stream",
     "text": [
      "Test_Loader: 100%|██████████| 288/288 [00:27<00:00, 10.63it/s]\n"
     ]
    },
    {
     "name": "stdout",
     "output_type": "stream",
     "text": [
      "Loss1: 1.6266, Loss2: 0.4774, Loss3: 1.8519\n"
     ]
    },
    {
     "name": "stderr",
     "output_type": "stream",
     "text": [
      "Test_Loader: 100%|██████████| 288/288 [00:28<00:00, 10.08it/s]\n"
     ]
    },
    {
     "name": "stdout",
     "output_type": "stream",
     "text": [
      "Loss1: 1.6186, Loss2: 0.4766, Loss3: 1.8381\n"
     ]
    },
    {
     "name": "stderr",
     "output_type": "stream",
     "text": [
      "Test_Loader: 100%|██████████| 288/288 [00:30<00:00,  9.56it/s]\n"
     ]
    },
    {
     "name": "stdout",
     "output_type": "stream",
     "text": [
      "Loss1: 1.6085, Loss2: 0.4750, Loss3: 1.8431\n"
     ]
    },
    {
     "name": "stderr",
     "output_type": "stream",
     "text": [
      "Test_Loader: 100%|██████████| 288/288 [00:30<00:00,  9.57it/s]\n"
     ]
    },
    {
     "name": "stdout",
     "output_type": "stream",
     "text": [
      "Loss1: 1.6132, Loss2: 0.4715, Loss3: 1.8098\n"
     ]
    },
    {
     "name": "stderr",
     "output_type": "stream",
     "text": [
      "Test_Loader: 100%|██████████| 288/288 [00:28<00:00, 10.00it/s]\n"
     ]
    },
    {
     "name": "stdout",
     "output_type": "stream",
     "text": [
      "Loss1: 1.6019, Loss2: 0.4736, Loss3: 1.8233\n"
     ]
    },
    {
     "name": "stderr",
     "output_type": "stream",
     "text": [
      "Test_Loader: 100%|██████████| 288/288 [00:29<00:00,  9.71it/s]\n"
     ]
    },
    {
     "name": "stdout",
     "output_type": "stream",
     "text": [
      "Loss1: 1.5940, Loss2: 0.4722, Loss3: 1.8023\n"
     ]
    },
    {
     "name": "stderr",
     "output_type": "stream",
     "text": [
      "Test_Loader: 100%|██████████| 288/288 [00:29<00:00,  9.89it/s]\n"
     ]
    },
    {
     "name": "stdout",
     "output_type": "stream",
     "text": [
      "Loss1: 1.5899, Loss2: 0.4656, Loss3: 1.7888\n"
     ]
    },
    {
     "name": "stderr",
     "output_type": "stream",
     "text": [
      "Test_Loader: 100%|██████████| 288/288 [00:28<00:00,  9.98it/s]\n"
     ]
    },
    {
     "name": "stdout",
     "output_type": "stream",
     "text": [
      "Loss1: 1.5951, Loss2: 0.4671, Loss3: 1.7849\n"
     ]
    },
    {
     "name": "stderr",
     "output_type": "stream",
     "text": [
      "Test_Loader: 100%|██████████| 288/288 [00:29<00:00,  9.88it/s]\n"
     ]
    },
    {
     "name": "stdout",
     "output_type": "stream",
     "text": [
      "Loss1: 1.5962, Loss2: 0.4676, Loss3: 1.7861\n"
     ]
    },
    {
     "name": "stderr",
     "output_type": "stream",
     "text": [
      "Test_Loader: 100%|██████████| 288/288 [00:29<00:00,  9.87it/s]\n"
     ]
    },
    {
     "name": "stdout",
     "output_type": "stream",
     "text": [
      "Loss1: 1.6059, Loss2: 0.4646, Loss3: 1.7931\n"
     ]
    },
    {
     "name": "stderr",
     "output_type": "stream",
     "text": [
      "Test_Loader: 100%|██████████| 288/288 [00:29<00:00,  9.65it/s]\n"
     ]
    },
    {
     "name": "stdout",
     "output_type": "stream",
     "text": [
      "Loss1: 1.6323, Loss2: 0.4638, Loss3: 1.7875\n"
     ]
    },
    {
     "name": "stderr",
     "output_type": "stream",
     "text": [
      "Test_Loader: 100%|██████████| 288/288 [00:29<00:00,  9.78it/s]\n"
     ]
    },
    {
     "name": "stdout",
     "output_type": "stream",
     "text": [
      "Loss1: 1.6337, Loss2: 0.4651, Loss3: 1.7805\n"
     ]
    },
    {
     "name": "stderr",
     "output_type": "stream",
     "text": [
      "Test_Loader: 100%|██████████| 288/288 [00:28<00:00, 10.15it/s]\n"
     ]
    },
    {
     "name": "stdout",
     "output_type": "stream",
     "text": [
      "Loss1: 1.6209, Loss2: 0.4609, Loss3: 1.7726\n"
     ]
    },
    {
     "name": "stderr",
     "output_type": "stream",
     "text": [
      "Test_Loader: 100%|██████████| 288/288 [00:28<00:00, 10.23it/s]\n"
     ]
    },
    {
     "name": "stdout",
     "output_type": "stream",
     "text": [
      "Loss1: 1.6213, Loss2: 0.4597, Loss3: 1.7687\n"
     ]
    },
    {
     "name": "stderr",
     "output_type": "stream",
     "text": [
      "Test_Loader: 100%|██████████| 288/288 [00:29<00:00,  9.86it/s]\n"
     ]
    },
    {
     "name": "stdout",
     "output_type": "stream",
     "text": [
      "Loss1: 1.6124, Loss2: 0.4562, Loss3: 1.7663\n"
     ]
    },
    {
     "name": "stderr",
     "output_type": "stream",
     "text": [
      "Test_Loader: 100%|██████████| 288/288 [00:28<00:00,  9.94it/s]\n"
     ]
    },
    {
     "name": "stdout",
     "output_type": "stream",
     "text": [
      "Loss1: 1.6296, Loss2: 0.4566, Loss3: 1.7571\n"
     ]
    },
    {
     "name": "stderr",
     "output_type": "stream",
     "text": [
      "Test_Loader: 100%|██████████| 288/288 [00:28<00:00,  9.96it/s]\n"
     ]
    },
    {
     "name": "stdout",
     "output_type": "stream",
     "text": [
      "Loss1: 1.6105, Loss2: 0.4514, Loss3: 1.7462\n"
     ]
    },
    {
     "name": "stderr",
     "output_type": "stream",
     "text": [
      "Test_Loader: 100%|██████████| 288/288 [00:28<00:00, 10.00it/s]\n"
     ]
    },
    {
     "name": "stdout",
     "output_type": "stream",
     "text": [
      "Loss1: 1.5976, Loss2: 0.4474, Loss3: 1.7526\n"
     ]
    },
    {
     "name": "stderr",
     "output_type": "stream",
     "text": [
      "Test_Loader: 100%|██████████| 288/288 [00:28<00:00, 10.04it/s]\n"
     ]
    },
    {
     "name": "stdout",
     "output_type": "stream",
     "text": [
      "Loss1: 1.5645, Loss2: 0.4453, Loss3: 1.7139\n"
     ]
    },
    {
     "name": "stderr",
     "output_type": "stream",
     "text": [
      "Test_Loader: 100%|██████████| 288/288 [00:29<00:00,  9.90it/s]\n"
     ]
    },
    {
     "name": "stdout",
     "output_type": "stream",
     "text": [
      "Loss1: 1.5461, Loss2: 0.4385, Loss3: 1.6973\n"
     ]
    },
    {
     "name": "stderr",
     "output_type": "stream",
     "text": [
      "Test_Loader: 100%|██████████| 288/288 [00:29<00:00,  9.79it/s]\n"
     ]
    },
    {
     "name": "stdout",
     "output_type": "stream",
     "text": [
      "Loss1: 1.5834, Loss2: 0.4536, Loss3: 1.7206\n"
     ]
    },
    {
     "name": "stderr",
     "output_type": "stream",
     "text": [
      "Test_Loader: 100%|██████████| 288/288 [00:29<00:00,  9.78it/s]\n"
     ]
    },
    {
     "name": "stdout",
     "output_type": "stream",
     "text": [
      "Loss1: 1.5695, Loss2: 0.4513, Loss3: 1.7167\n"
     ]
    },
    {
     "name": "stderr",
     "output_type": "stream",
     "text": [
      "Test_Loader: 100%|██████████| 288/288 [00:29<00:00,  9.79it/s]\n"
     ]
    },
    {
     "name": "stdout",
     "output_type": "stream",
     "text": [
      "Loss1: 1.4606, Loss2: 0.4214, Loss3: 1.6223\n"
     ]
    },
    {
     "name": "stderr",
     "output_type": "stream",
     "text": [
      "Test_Loader: 100%|██████████| 288/288 [00:29<00:00,  9.67it/s]\n"
     ]
    },
    {
     "name": "stdout",
     "output_type": "stream",
     "text": [
      "Loss1: 1.4763, Loss2: 0.4261, Loss3: 1.6502\n"
     ]
    },
    {
     "name": "stderr",
     "output_type": "stream",
     "text": [
      "Test_Loader: 100%|██████████| 288/288 [00:28<00:00,  9.97it/s]\n"
     ]
    },
    {
     "name": "stdout",
     "output_type": "stream",
     "text": [
      "Loss1: 1.4593, Loss2: 0.4252, Loss3: 1.6444\n"
     ]
    },
    {
     "name": "stderr",
     "output_type": "stream",
     "text": [
      "Test_Loader: 100%|██████████| 288/288 [00:27<00:00, 10.41it/s]\n"
     ]
    },
    {
     "name": "stdout",
     "output_type": "stream",
     "text": [
      "Loss1: 1.4501, Loss2: 0.4235, Loss3: 1.6237\n"
     ]
    },
    {
     "name": "stderr",
     "output_type": "stream",
     "text": [
      "Test_Loader: 100%|██████████| 288/288 [00:28<00:00, 10.16it/s]\n"
     ]
    },
    {
     "name": "stdout",
     "output_type": "stream",
     "text": [
      "Loss1: 1.4328, Loss2: 0.4169, Loss3: 1.6120\n"
     ]
    },
    {
     "name": "stderr",
     "output_type": "stream",
     "text": [
      "Test_Loader: 100%|██████████| 288/288 [00:29<00:00,  9.86it/s]\n"
     ]
    },
    {
     "name": "stdout",
     "output_type": "stream",
     "text": [
      "Loss1: 1.4196, Loss2: 0.4103, Loss3: 1.5826\n"
     ]
    },
    {
     "name": "stderr",
     "output_type": "stream",
     "text": [
      "Test_Loader: 100%|██████████| 288/288 [00:28<00:00, 10.19it/s]\n"
     ]
    },
    {
     "name": "stdout",
     "output_type": "stream",
     "text": [
      "Loss1: 1.4128, Loss2: 0.4033, Loss3: 1.5690\n"
     ]
    },
    {
     "name": "stderr",
     "output_type": "stream",
     "text": [
      "Test_Loader: 100%|██████████| 288/288 [00:27<00:00, 10.30it/s]\n"
     ]
    },
    {
     "name": "stdout",
     "output_type": "stream",
     "text": [
      "Loss1: 1.3429, Loss2: 0.4180, Loss3: 1.7495\n"
     ]
    },
    {
     "name": "stderr",
     "output_type": "stream",
     "text": [
      "Test_Loader: 100%|██████████| 288/288 [00:28<00:00, 10.16it/s]\n"
     ]
    },
    {
     "name": "stdout",
     "output_type": "stream",
     "text": [
      "Loss1: 1.3227, Loss2: 0.4171, Loss3: 1.7500\n"
     ]
    },
    {
     "name": "stderr",
     "output_type": "stream",
     "text": [
      "Test_Loader: 100%|██████████| 288/288 [00:28<00:00, 10.04it/s]\n"
     ]
    },
    {
     "name": "stdout",
     "output_type": "stream",
     "text": [
      "Loss1: 1.2981, Loss2: 0.4086, Loss3: 1.6977\n"
     ]
    },
    {
     "name": "stderr",
     "output_type": "stream",
     "text": [
      "Test_Loader: 100%|██████████| 288/288 [00:29<00:00,  9.83it/s]\n"
     ]
    },
    {
     "name": "stdout",
     "output_type": "stream",
     "text": [
      "Loss1: 1.2692, Loss2: 0.4026, Loss3: 1.6465\n"
     ]
    },
    {
     "name": "stderr",
     "output_type": "stream",
     "text": [
      "Test_Loader: 100%|██████████| 288/288 [00:29<00:00,  9.89it/s]\n"
     ]
    },
    {
     "name": "stdout",
     "output_type": "stream",
     "text": [
      "Loss1: 1.2754, Loss2: 0.4020, Loss3: 1.6497\n"
     ]
    },
    {
     "name": "stderr",
     "output_type": "stream",
     "text": [
      "Test_Loader: 100%|██████████| 288/288 [00:29<00:00,  9.86it/s]\n"
     ]
    },
    {
     "name": "stdout",
     "output_type": "stream",
     "text": [
      "Loss1: 1.2159, Loss2: 0.3956, Loss3: 1.6120\n"
     ]
    },
    {
     "name": "stderr",
     "output_type": "stream",
     "text": [
      "Test_Loader: 100%|██████████| 288/288 [00:29<00:00,  9.81it/s]\n"
     ]
    },
    {
     "name": "stdout",
     "output_type": "stream",
     "text": [
      "Loss1: 1.2108, Loss2: 0.4049, Loss3: 1.5958\n"
     ]
    },
    {
     "name": "stderr",
     "output_type": "stream",
     "text": [
      "Test_Loader: 100%|██████████| 288/288 [00:28<00:00, 10.00it/s]\n"
     ]
    },
    {
     "name": "stdout",
     "output_type": "stream",
     "text": [
      "Loss1: 1.1695, Loss2: 0.4041, Loss3: 1.5713\n"
     ]
    },
    {
     "name": "stderr",
     "output_type": "stream",
     "text": [
      "Test_Loader: 100%|██████████| 288/288 [00:27<00:00, 10.32it/s]\n"
     ]
    },
    {
     "name": "stdout",
     "output_type": "stream",
     "text": [
      "Loss1: 1.2088, Loss2: 0.4442, Loss3: 1.8967\n"
     ]
    },
    {
     "name": "stderr",
     "output_type": "stream",
     "text": [
      "Test_Loader: 100%|██████████| 288/288 [00:28<00:00, 10.16it/s]\n"
     ]
    },
    {
     "name": "stdout",
     "output_type": "stream",
     "text": [
      "Loss1: 1.1878, Loss2: 0.4420, Loss3: 1.8646\n"
     ]
    },
    {
     "name": "stderr",
     "output_type": "stream",
     "text": [
      "Test_Loader: 100%|██████████| 288/288 [00:29<00:00,  9.75it/s]\n"
     ]
    },
    {
     "name": "stdout",
     "output_type": "stream",
     "text": [
      "Loss1: 1.2096, Loss2: 0.4363, Loss3: 1.8479\n"
     ]
    },
    {
     "name": "stderr",
     "output_type": "stream",
     "text": [
      "Test_Loader: 100%|██████████| 288/288 [00:29<00:00,  9.66it/s]\n"
     ]
    },
    {
     "name": "stdout",
     "output_type": "stream",
     "text": [
      "Loss1: 1.1879, Loss2: 0.4328, Loss3: 1.8291\n"
     ]
    },
    {
     "name": "stderr",
     "output_type": "stream",
     "text": [
      "Test_Loader: 100%|██████████| 288/288 [00:28<00:00, 10.11it/s]\n"
     ]
    },
    {
     "name": "stdout",
     "output_type": "stream",
     "text": [
      "Loss1: 1.2174, Loss2: 0.4419, Loss3: 1.9033\n"
     ]
    },
    {
     "name": "stderr",
     "output_type": "stream",
     "text": [
      "Test_Loader: 100%|██████████| 288/288 [00:28<00:00, 10.17it/s]\n"
     ]
    },
    {
     "name": "stdout",
     "output_type": "stream",
     "text": [
      "Loss1: 1.1371, Loss2: 0.4179, Loss3: 1.8459\n"
     ]
    },
    {
     "name": "stderr",
     "output_type": "stream",
     "text": [
      "Test_Loader: 100%|██████████| 288/288 [00:28<00:00, 10.14it/s]\n"
     ]
    },
    {
     "name": "stdout",
     "output_type": "stream",
     "text": [
      "Loss1: 1.1343, Loss2: 0.4117, Loss3: 1.8000\n"
     ]
    },
    {
     "name": "stderr",
     "output_type": "stream",
     "text": [
      "Test_Loader: 100%|██████████| 288/288 [00:28<00:00, 10.16it/s]\n"
     ]
    },
    {
     "name": "stdout",
     "output_type": "stream",
     "text": [
      "Loss1: 1.0646, Loss2: 0.3930, Loss3: 1.7442\n"
     ]
    },
    {
     "name": "stderr",
     "output_type": "stream",
     "text": [
      "Test_Loader: 100%|██████████| 288/288 [00:29<00:00,  9.90it/s]\n"
     ]
    },
    {
     "name": "stdout",
     "output_type": "stream",
     "text": [
      "Loss1: 1.0674, Loss2: 0.3923, Loss3: 1.7550\n"
     ]
    },
    {
     "name": "stderr",
     "output_type": "stream",
     "text": [
      "Test_Loader: 100%|██████████| 288/288 [00:29<00:00,  9.82it/s]\n"
     ]
    },
    {
     "name": "stdout",
     "output_type": "stream",
     "text": [
      "Loss1: 1.0675, Loss2: 0.3899, Loss3: 1.7369\n"
     ]
    },
    {
     "name": "stderr",
     "output_type": "stream",
     "text": [
      "Test_Loader: 100%|██████████| 288/288 [00:29<00:00,  9.68it/s]\n"
     ]
    },
    {
     "name": "stdout",
     "output_type": "stream",
     "text": [
      "Loss1: 1.0751, Loss2: 0.3925, Loss3: 1.7618\n"
     ]
    },
    {
     "name": "stderr",
     "output_type": "stream",
     "text": [
      "Test_Loader: 100%|██████████| 288/288 [00:29<00:00,  9.82it/s]\n"
     ]
    },
    {
     "name": "stdout",
     "output_type": "stream",
     "text": [
      "Loss1: 1.0673, Loss2: 0.3923, Loss3: 1.7350\n"
     ]
    },
    {
     "name": "stderr",
     "output_type": "stream",
     "text": [
      "Test_Loader: 100%|██████████| 288/288 [00:28<00:00, 10.10it/s]\n"
     ]
    },
    {
     "name": "stdout",
     "output_type": "stream",
     "text": [
      "Loss1: 1.0735, Loss2: 0.3889, Loss3: 1.7531\n"
     ]
    },
    {
     "name": "stderr",
     "output_type": "stream",
     "text": [
      "Test_Loader: 100%|██████████| 288/288 [00:27<00:00, 10.34it/s]\n"
     ]
    },
    {
     "name": "stdout",
     "output_type": "stream",
     "text": [
      "Loss1: 1.0841, Loss2: 0.3908, Loss3: 1.7506\n"
     ]
    },
    {
     "name": "stderr",
     "output_type": "stream",
     "text": [
      "Test_Loader: 100%|██████████| 288/288 [00:28<00:00, 10.13it/s]\n"
     ]
    },
    {
     "name": "stdout",
     "output_type": "stream",
     "text": [
      "Loss1: 1.0865, Loss2: 0.3861, Loss3: 1.7718\n"
     ]
    },
    {
     "name": "stderr",
     "output_type": "stream",
     "text": [
      "Test_Loader: 100%|██████████| 288/288 [00:29<00:00,  9.69it/s]\n"
     ]
    },
    {
     "name": "stdout",
     "output_type": "stream",
     "text": [
      "Loss1: 1.0989, Loss2: 0.3888, Loss3: 1.7778\n"
     ]
    },
    {
     "name": "stderr",
     "output_type": "stream",
     "text": [
      "Test_Loader: 100%|██████████| 288/288 [00:29<00:00,  9.87it/s]\n"
     ]
    },
    {
     "name": "stdout",
     "output_type": "stream",
     "text": [
      "Loss1: 1.0582, Loss2: 0.3726, Loss3: 1.7135\n"
     ]
    },
    {
     "name": "stderr",
     "output_type": "stream",
     "text": [
      "Test_Loader: 100%|██████████| 288/288 [00:28<00:00, 10.14it/s]\n"
     ]
    },
    {
     "name": "stdout",
     "output_type": "stream",
     "text": [
      "Loss1: 1.0882, Loss2: 0.3966, Loss3: 1.9103\n"
     ]
    },
    {
     "name": "stderr",
     "output_type": "stream",
     "text": [
      "Test_Loader: 100%|██████████| 288/288 [00:28<00:00, 10.15it/s]\n"
     ]
    },
    {
     "name": "stdout",
     "output_type": "stream",
     "text": [
      "Loss1: 1.0932, Loss2: 0.3903, Loss3: 1.8628\n"
     ]
    },
    {
     "name": "stderr",
     "output_type": "stream",
     "text": [
      "Test_Loader: 100%|██████████| 288/288 [00:28<00:00, 10.08it/s]\n"
     ]
    },
    {
     "name": "stdout",
     "output_type": "stream",
     "text": [
      "Loss1: 1.0857, Loss2: 0.3861, Loss3: 1.8490\n"
     ]
    },
    {
     "name": "stderr",
     "output_type": "stream",
     "text": [
      "Test_Loader: 100%|██████████| 288/288 [00:29<00:00,  9.93it/s]\n"
     ]
    },
    {
     "name": "stdout",
     "output_type": "stream",
     "text": [
      "Loss1: 1.0708, Loss2: 0.3823, Loss3: 1.8243\n"
     ]
    },
    {
     "name": "stderr",
     "output_type": "stream",
     "text": [
      "Test_Loader: 100%|██████████| 288/288 [00:29<00:00,  9.92it/s]\n"
     ]
    },
    {
     "name": "stdout",
     "output_type": "stream",
     "text": [
      "Loss1: 1.0735, Loss2: 0.3809, Loss3: 1.8093\n"
     ]
    },
    {
     "name": "stderr",
     "output_type": "stream",
     "text": [
      "Test_Loader: 100%|██████████| 288/288 [00:29<00:00,  9.82it/s]\n"
     ]
    },
    {
     "name": "stdout",
     "output_type": "stream",
     "text": [
      "Loss1: 1.0764, Loss2: 0.3798, Loss3: 1.7891\n"
     ]
    },
    {
     "name": "stderr",
     "output_type": "stream",
     "text": [
      "Test_Loader: 100%|██████████| 288/288 [00:29<00:00,  9.84it/s]\n"
     ]
    },
    {
     "name": "stdout",
     "output_type": "stream",
     "text": [
      "Loss1: 1.0515, Loss2: 0.3758, Loss3: 1.7615\n"
     ]
    },
    {
     "name": "stderr",
     "output_type": "stream",
     "text": [
      "Test_Loader: 100%|██████████| 288/288 [00:29<00:00,  9.87it/s]\n"
     ]
    },
    {
     "name": "stdout",
     "output_type": "stream",
     "text": [
      "Loss1: 1.0606, Loss2: 0.3732, Loss3: 1.7627\n"
     ]
    },
    {
     "name": "stderr",
     "output_type": "stream",
     "text": [
      "Test_Loader: 100%|██████████| 288/288 [00:27<00:00, 10.44it/s]\n"
     ]
    },
    {
     "name": "stdout",
     "output_type": "stream",
     "text": [
      "Loss1: 1.0634, Loss2: 0.3700, Loss3: 1.7440\n"
     ]
    },
    {
     "name": "stderr",
     "output_type": "stream",
     "text": [
      "Test_Loader: 100%|██████████| 288/288 [00:28<00:00, 10.22it/s]\n"
     ]
    },
    {
     "name": "stdout",
     "output_type": "stream",
     "text": [
      "Loss1: 1.0524, Loss2: 0.3662, Loss3: 1.7280\n"
     ]
    },
    {
     "name": "stderr",
     "output_type": "stream",
     "text": [
      "Test_Loader: 100%|██████████| 288/288 [00:29<00:00,  9.60it/s]\n"
     ]
    },
    {
     "name": "stdout",
     "output_type": "stream",
     "text": [
      "Loss1: 0.9581, Loss2: 0.3148, Loss3: 1.4663\n"
     ]
    },
    {
     "name": "stderr",
     "output_type": "stream",
     "text": [
      "Test_Loader: 100%|██████████| 288/288 [00:29<00:00,  9.75it/s]\n"
     ]
    },
    {
     "name": "stdout",
     "output_type": "stream",
     "text": [
      "Loss1: 0.9311, Loss2: 0.3073, Loss3: 1.4437\n"
     ]
    },
    {
     "name": "stderr",
     "output_type": "stream",
     "text": [
      "Test_Loader: 100%|██████████| 288/288 [00:28<00:00, 10.13it/s]\n"
     ]
    },
    {
     "name": "stdout",
     "output_type": "stream",
     "text": [
      "Loss1: 0.9400, Loss2: 0.2933, Loss3: 1.4736\n"
     ]
    },
    {
     "name": "stderr",
     "output_type": "stream",
     "text": [
      "Test_Loader: 100%|██████████| 288/288 [00:28<00:00, 10.07it/s]\n"
     ]
    },
    {
     "name": "stdout",
     "output_type": "stream",
     "text": [
      "Loss1: 0.9423, Loss2: 0.3036, Loss3: 1.5336\n"
     ]
    },
    {
     "name": "stderr",
     "output_type": "stream",
     "text": [
      "Test_Loader: 100%|██████████| 288/288 [00:28<00:00, 10.04it/s]\n"
     ]
    },
    {
     "name": "stdout",
     "output_type": "stream",
     "text": [
      "Loss1: 0.9598, Loss2: 0.3213, Loss3: 1.5529\n"
     ]
    },
    {
     "name": "stderr",
     "output_type": "stream",
     "text": [
      "Test_Loader: 100%|██████████| 288/288 [00:28<00:00,  9.97it/s]\n"
     ]
    },
    {
     "name": "stdout",
     "output_type": "stream",
     "text": [
      "Loss1: 0.9725, Loss2: 0.3213, Loss3: 1.5470\n"
     ]
    },
    {
     "name": "stderr",
     "output_type": "stream",
     "text": [
      "Test_Loader: 100%|██████████| 288/288 [00:29<00:00,  9.82it/s]\n"
     ]
    },
    {
     "name": "stdout",
     "output_type": "stream",
     "text": [
      "Loss1: 0.9170, Loss2: 0.3069, Loss3: 1.5182\n"
     ]
    },
    {
     "name": "stderr",
     "output_type": "stream",
     "text": [
      "Test_Loader: 100%|██████████| 288/288 [00:29<00:00,  9.78it/s]\n"
     ]
    },
    {
     "name": "stdout",
     "output_type": "stream",
     "text": [
      "Loss1: 0.9121, Loss2: 0.3029, Loss3: 1.5166\n"
     ]
    },
    {
     "name": "stderr",
     "output_type": "stream",
     "text": [
      "Test_Loader: 100%|██████████| 288/288 [00:29<00:00,  9.76it/s]\n"
     ]
    },
    {
     "name": "stdout",
     "output_type": "stream",
     "text": [
      "Loss1: 0.9175, Loss2: 0.3041, Loss3: 1.5102\n"
     ]
    },
    {
     "name": "stderr",
     "output_type": "stream",
     "text": [
      "Test_Loader: 100%|██████████| 288/288 [00:28<00:00, 10.17it/s]\n"
     ]
    },
    {
     "name": "stdout",
     "output_type": "stream",
     "text": [
      "Loss1: 0.9099, Loss2: 0.3017, Loss3: 1.4985\n"
     ]
    },
    {
     "name": "stderr",
     "output_type": "stream",
     "text": [
      "Test_Loader: 100%|██████████| 288/288 [00:27<00:00, 10.33it/s]\n"
     ]
    },
    {
     "name": "stdout",
     "output_type": "stream",
     "text": [
      "Loss1: 0.9120, Loss2: 0.3009, Loss3: 1.4853\n"
     ]
    },
    {
     "name": "stderr",
     "output_type": "stream",
     "text": [
      "Test_Loader: 100%|██████████| 288/288 [00:28<00:00, 10.14it/s]\n"
     ]
    },
    {
     "name": "stdout",
     "output_type": "stream",
     "text": [
      "Loss1: 0.8924, Loss2: 0.2933, Loss3: 1.4698\n"
     ]
    },
    {
     "name": "stderr",
     "output_type": "stream",
     "text": [
      "Test_Loader: 100%|██████████| 288/288 [00:29<00:00,  9.91it/s]\n"
     ]
    },
    {
     "name": "stdout",
     "output_type": "stream",
     "text": [
      "Loss1: 0.8918, Loss2: 0.2960, Loss3: 1.4512\n"
     ]
    },
    {
     "name": "stderr",
     "output_type": "stream",
     "text": [
      "Test_Loader: 100%|██████████| 288/288 [00:29<00:00,  9.78it/s]\n"
     ]
    },
    {
     "name": "stdout",
     "output_type": "stream",
     "text": [
      "Loss1: 0.8913, Loss2: 0.2949, Loss3: 1.4400\n"
     ]
    },
    {
     "name": "stderr",
     "output_type": "stream",
     "text": [
      "Test_Loader: 100%|██████████| 288/288 [00:28<00:00, 10.06it/s]\n"
     ]
    },
    {
     "name": "stdout",
     "output_type": "stream",
     "text": [
      "Loss1: 0.8883, Loss2: 0.2913, Loss3: 1.4307\n"
     ]
    },
    {
     "name": "stderr",
     "output_type": "stream",
     "text": [
      "Test_Loader: 100%|██████████| 288/288 [00:28<00:00, 10.22it/s]\n"
     ]
    },
    {
     "name": "stdout",
     "output_type": "stream",
     "text": [
      "Loss1: 0.8829, Loss2: 0.2895, Loss3: 1.4140\n"
     ]
    },
    {
     "name": "stderr",
     "output_type": "stream",
     "text": [
      "Test_Loader: 100%|██████████| 288/288 [00:28<00:00, 10.25it/s]\n"
     ]
    },
    {
     "name": "stdout",
     "output_type": "stream",
     "text": [
      "Loss1: 0.8714, Loss2: 0.2852, Loss3: 1.4125\n"
     ]
    },
    {
     "name": "stderr",
     "output_type": "stream",
     "text": [
      "Test_Loader: 100%|██████████| 288/288 [00:28<00:00, 10.19it/s]\n"
     ]
    },
    {
     "name": "stdout",
     "output_type": "stream",
     "text": [
      "Loss1: 0.8699, Loss2: 0.2846, Loss3: 1.3957\n"
     ]
    },
    {
     "name": "stderr",
     "output_type": "stream",
     "text": [
      "Test_Loader: 100%|██████████| 288/288 [00:28<00:00,  9.95it/s]\n"
     ]
    },
    {
     "name": "stdout",
     "output_type": "stream",
     "text": [
      "Loss1: 0.9079, Loss2: 0.2710, Loss3: 1.3834\n"
     ]
    },
    {
     "name": "stderr",
     "output_type": "stream",
     "text": [
      "Test_Loader: 100%|██████████| 288/288 [00:29<00:00,  9.85it/s]\n"
     ]
    },
    {
     "name": "stdout",
     "output_type": "stream",
     "text": [
      "Loss1: 0.8789, Loss2: 0.2682, Loss3: 1.3832\n"
     ]
    },
    {
     "name": "stderr",
     "output_type": "stream",
     "text": [
      "Test_Loader: 100%|██████████| 288/288 [00:29<00:00,  9.71it/s]\n"
     ]
    },
    {
     "name": "stdout",
     "output_type": "stream",
     "text": [
      "Loss1: 0.8913, Loss2: 0.2757, Loss3: 1.3930\n"
     ]
    },
    {
     "name": "stderr",
     "output_type": "stream",
     "text": [
      "Test_Loader: 100%|██████████| 288/288 [00:29<00:00,  9.68it/s]\n"
     ]
    },
    {
     "name": "stdout",
     "output_type": "stream",
     "text": [
      "Loss1: 0.8762, Loss2: 0.2729, Loss3: 1.3650\n"
     ]
    },
    {
     "name": "stderr",
     "output_type": "stream",
     "text": [
      "Test_Loader: 100%|██████████| 288/288 [00:29<00:00,  9.72it/s]\n"
     ]
    },
    {
     "name": "stdout",
     "output_type": "stream",
     "text": [
      "Loss1: 0.8753, Loss2: 0.2733, Loss3: 1.3503\n"
     ]
    },
    {
     "name": "stderr",
     "output_type": "stream",
     "text": [
      "Test_Loader: 100%|██████████| 288/288 [00:27<00:00, 10.44it/s]\n"
     ]
    },
    {
     "name": "stdout",
     "output_type": "stream",
     "text": [
      "Loss1: 0.8750, Loss2: 0.2754, Loss3: 1.3495\n"
     ]
    },
    {
     "name": "stderr",
     "output_type": "stream",
     "text": [
      "Test_Loader: 100%|██████████| 288/288 [00:28<00:00, 10.20it/s]\n"
     ]
    },
    {
     "name": "stdout",
     "output_type": "stream",
     "text": [
      "Loss1: 0.8887, Loss2: 0.2846, Loss3: 1.3634\n"
     ]
    },
    {
     "name": "stderr",
     "output_type": "stream",
     "text": [
      "Test_Loader: 100%|██████████| 288/288 [00:30<00:00,  9.58it/s]\n"
     ]
    },
    {
     "name": "stdout",
     "output_type": "stream",
     "text": [
      "Loss1: 0.8713, Loss2: 0.2810, Loss3: 1.3573\n"
     ]
    },
    {
     "name": "stderr",
     "output_type": "stream",
     "text": [
      "Test_Loader: 100%|██████████| 288/288 [00:29<00:00,  9.83it/s]\n"
     ]
    },
    {
     "name": "stdout",
     "output_type": "stream",
     "text": [
      "Loss1: 0.8869, Loss2: 0.2860, Loss3: 1.3667\n"
     ]
    },
    {
     "name": "stderr",
     "output_type": "stream",
     "text": [
      "Test_Loader: 100%|██████████| 288/288 [00:28<00:00, 10.11it/s]\n"
     ]
    },
    {
     "name": "stdout",
     "output_type": "stream",
     "text": [
      "Loss1: 0.8833, Loss2: 0.2847, Loss3: 1.3397\n"
     ]
    },
    {
     "name": "stderr",
     "output_type": "stream",
     "text": [
      "Test_Loader: 100%|██████████| 288/288 [00:28<00:00, 10.06it/s]\n"
     ]
    },
    {
     "name": "stdout",
     "output_type": "stream",
     "text": [
      "Loss1: 0.8875, Loss2: 0.2828, Loss3: 1.3476\n"
     ]
    },
    {
     "name": "stderr",
     "output_type": "stream",
     "text": [
      "Test_Loader: 100%|██████████| 288/288 [00:28<00:00, 10.23it/s]\n"
     ]
    },
    {
     "name": "stdout",
     "output_type": "stream",
     "text": [
      "Loss1: 0.9743, Loss2: 0.3667, Loss3: 1.7733\n"
     ]
    },
    {
     "name": "stderr",
     "output_type": "stream",
     "text": [
      "Test_Loader: 100%|██████████| 288/288 [00:28<00:00, 10.13it/s]\n"
     ]
    },
    {
     "name": "stdout",
     "output_type": "stream",
     "text": [
      "Loss1: 1.1588, Loss2: 0.3853, Loss3: 2.0317\n"
     ]
    },
    {
     "name": "stderr",
     "output_type": "stream",
     "text": [
      "Test_Loader: 100%|██████████| 288/288 [00:28<00:00, 10.16it/s]\n"
     ]
    },
    {
     "name": "stdout",
     "output_type": "stream",
     "text": [
      "Loss1: 1.1344, Loss2: 0.3988, Loss3: 1.9880\n"
     ]
    },
    {
     "name": "stderr",
     "output_type": "stream",
     "text": [
      "Test_Loader: 100%|██████████| 288/288 [00:29<00:00,  9.91it/s]\n"
     ]
    },
    {
     "name": "stdout",
     "output_type": "stream",
     "text": [
      "Loss1: 1.1130, Loss2: 0.3992, Loss3: 1.9638\n"
     ]
    },
    {
     "name": "stderr",
     "output_type": "stream",
     "text": [
      "Test_Loader: 100%|██████████| 288/288 [00:28<00:00, 10.16it/s]\n"
     ]
    },
    {
     "name": "stdout",
     "output_type": "stream",
     "text": [
      "Loss1: 1.1020, Loss2: 0.3967, Loss3: 1.9417\n"
     ]
    },
    {
     "name": "stderr",
     "output_type": "stream",
     "text": [
      "Test_Loader: 100%|██████████| 288/288 [00:28<00:00, 10.26it/s]\n"
     ]
    },
    {
     "name": "stdout",
     "output_type": "stream",
     "text": [
      "Loss1: 1.0917, Loss2: 0.4008, Loss3: 1.9275\n"
     ]
    },
    {
     "name": "stderr",
     "output_type": "stream",
     "text": [
      "Test_Loader: 100%|██████████| 288/288 [00:27<00:00, 10.32it/s]\n"
     ]
    },
    {
     "name": "stdout",
     "output_type": "stream",
     "text": [
      "Loss1: 1.0946, Loss2: 0.4000, Loss3: 1.9101\n"
     ]
    },
    {
     "name": "stderr",
     "output_type": "stream",
     "text": [
      "Test_Loader: 100%|██████████| 288/288 [00:27<00:00, 10.32it/s]\n"
     ]
    },
    {
     "name": "stdout",
     "output_type": "stream",
     "text": [
      "Loss1: 1.0836, Loss2: 0.3999, Loss3: 1.8956\n"
     ]
    },
    {
     "name": "stderr",
     "output_type": "stream",
     "text": [
      "Test_Loader: 100%|██████████| 288/288 [00:28<00:00,  9.98it/s]\n"
     ]
    },
    {
     "name": "stdout",
     "output_type": "stream",
     "text": [
      "Loss1: 1.1111, Loss2: 0.4070, Loss3: 1.9275\n"
     ]
    },
    {
     "name": "stderr",
     "output_type": "stream",
     "text": [
      "Test_Loader: 100%|██████████| 288/288 [00:29<00:00,  9.79it/s]\n"
     ]
    },
    {
     "name": "stdout",
     "output_type": "stream",
     "text": [
      "Loss1: 1.1094, Loss2: 0.4090, Loss3: 1.9200\n"
     ]
    },
    {
     "name": "stderr",
     "output_type": "stream",
     "text": [
      "Test_Loader: 100%|██████████| 288/288 [00:28<00:00, 10.02it/s]\n"
     ]
    },
    {
     "name": "stdout",
     "output_type": "stream",
     "text": [
      "Loss1: 1.1035, Loss2: 0.4072, Loss3: 1.9161\n"
     ]
    },
    {
     "name": "stderr",
     "output_type": "stream",
     "text": [
      "Test_Loader: 100%|██████████| 288/288 [00:28<00:00, 10.10it/s]\n"
     ]
    },
    {
     "name": "stdout",
     "output_type": "stream",
     "text": [
      "Loss1: 1.0866, Loss2: 0.4040, Loss3: 1.8901\n"
     ]
    },
    {
     "name": "stderr",
     "output_type": "stream",
     "text": [
      "Test_Loader: 100%|██████████| 288/288 [00:28<00:00, 10.02it/s]\n"
     ]
    },
    {
     "name": "stdout",
     "output_type": "stream",
     "text": [
      "Loss1: 1.0717, Loss2: 0.4084, Loss3: 1.8655\n"
     ]
    },
    {
     "name": "stderr",
     "output_type": "stream",
     "text": [
      "Test_Loader: 100%|██████████| 288/288 [00:28<00:00,  9.94it/s]\n"
     ]
    },
    {
     "name": "stdout",
     "output_type": "stream",
     "text": [
      "Loss1: 1.0619, Loss2: 0.4086, Loss3: 1.8566\n"
     ]
    },
    {
     "name": "stderr",
     "output_type": "stream",
     "text": [
      "Test_Loader: 100%|██████████| 288/288 [00:29<00:00,  9.82it/s]\n"
     ]
    },
    {
     "name": "stdout",
     "output_type": "stream",
     "text": [
      "Loss1: 1.1031, Loss2: 0.4089, Loss3: 1.8366\n"
     ]
    },
    {
     "name": "stderr",
     "output_type": "stream",
     "text": [
      "Test_Loader: 100%|██████████| 288/288 [00:30<00:00,  9.58it/s]\n"
     ]
    },
    {
     "name": "stdout",
     "output_type": "stream",
     "text": [
      "Loss1: 1.0952, Loss2: 0.4087, Loss3: 1.8265\n"
     ]
    },
    {
     "name": "stderr",
     "output_type": "stream",
     "text": [
      "Test_Loader: 100%|██████████| 288/288 [00:30<00:00,  9.60it/s]\n"
     ]
    },
    {
     "name": "stdout",
     "output_type": "stream",
     "text": [
      "Loss1: 1.0828, Loss2: 0.4075, Loss3: 1.8184\n"
     ]
    },
    {
     "name": "stderr",
     "output_type": "stream",
     "text": [
      "Test_Loader: 100%|██████████| 288/288 [00:29<00:00,  9.75it/s]\n"
     ]
    },
    {
     "name": "stdout",
     "output_type": "stream",
     "text": [
      "Loss1: 1.0828, Loss2: 0.4110, Loss3: 1.8245\n"
     ]
    },
    {
     "name": "stderr",
     "output_type": "stream",
     "text": [
      "Test_Loader: 100%|██████████| 288/288 [00:29<00:00,  9.72it/s]\n"
     ]
    },
    {
     "name": "stdout",
     "output_type": "stream",
     "text": [
      "Loss1: 1.0602, Loss2: 0.4071, Loss3: 1.7939\n"
     ]
    },
    {
     "name": "stderr",
     "output_type": "stream",
     "text": [
      "Test_Loader: 100%|██████████| 288/288 [00:28<00:00, 10.28it/s]\n"
     ]
    },
    {
     "name": "stdout",
     "output_type": "stream",
     "text": [
      "Loss1: 1.0677, Loss2: 0.4078, Loss3: 1.7848\n"
     ]
    },
    {
     "name": "stderr",
     "output_type": "stream",
     "text": [
      "Test_Loader: 100%|██████████| 288/288 [00:28<00:00, 10.09it/s]\n"
     ]
    },
    {
     "name": "stdout",
     "output_type": "stream",
     "text": [
      "Loss1: 1.0490, Loss2: 0.4074, Loss3: 1.7667\n"
     ]
    },
    {
     "name": "stderr",
     "output_type": "stream",
     "text": [
      "Test_Loader: 100%|██████████| 288/288 [00:29<00:00,  9.63it/s]\n"
     ]
    },
    {
     "name": "stdout",
     "output_type": "stream",
     "text": [
      "Loss1: 1.0637, Loss2: 0.4089, Loss3: 1.7603\n"
     ]
    },
    {
     "name": "stderr",
     "output_type": "stream",
     "text": [
      "Test_Loader: 100%|██████████| 288/288 [00:29<00:00,  9.61it/s]\n"
     ]
    },
    {
     "name": "stdout",
     "output_type": "stream",
     "text": [
      "Loss1: 1.0604, Loss2: 0.4070, Loss3: 1.7554\n"
     ]
    },
    {
     "name": "stderr",
     "output_type": "stream",
     "text": [
      "Test_Loader: 100%|██████████| 288/288 [00:28<00:00, 10.15it/s]\n"
     ]
    },
    {
     "name": "stdout",
     "output_type": "stream",
     "text": [
      "Loss1: 1.0261, Loss2: 0.3991, Loss3: 1.7290\n"
     ]
    },
    {
     "name": "stderr",
     "output_type": "stream",
     "text": [
      "Test_Loader: 100%|██████████| 288/288 [00:28<00:00, 10.03it/s]\n"
     ]
    },
    {
     "name": "stdout",
     "output_type": "stream",
     "text": [
      "Loss1: 1.0277, Loss2: 0.3982, Loss3: 1.7352\n"
     ]
    },
    {
     "name": "stderr",
     "output_type": "stream",
     "text": [
      "Test_Loader: 100%|██████████| 288/288 [00:28<00:00,  9.98it/s]\n"
     ]
    },
    {
     "name": "stdout",
     "output_type": "stream",
     "text": [
      "Loss1: 1.0113, Loss2: 0.3968, Loss3: 1.7335\n"
     ]
    },
    {
     "name": "stderr",
     "output_type": "stream",
     "text": [
      "Test_Loader: 100%|██████████| 288/288 [00:28<00:00, 10.02it/s]\n"
     ]
    },
    {
     "name": "stdout",
     "output_type": "stream",
     "text": [
      "Loss1: 1.0079, Loss2: 0.3945, Loss3: 1.7124\n"
     ]
    },
    {
     "name": "stderr",
     "output_type": "stream",
     "text": [
      "Test_Loader: 100%|██████████| 288/288 [00:29<00:00,  9.79it/s]\n"
     ]
    },
    {
     "name": "stdout",
     "output_type": "stream",
     "text": [
      "Loss1: 1.0029, Loss2: 0.3983, Loss3: 1.7092\n"
     ]
    },
    {
     "name": "stderr",
     "output_type": "stream",
     "text": [
      "Test_Loader: 100%|██████████| 288/288 [00:29<00:00,  9.70it/s]\n"
     ]
    },
    {
     "name": "stdout",
     "output_type": "stream",
     "text": [
      "Loss1: 0.9998, Loss2: 0.3967, Loss3: 1.7110\n"
     ]
    },
    {
     "name": "stderr",
     "output_type": "stream",
     "text": [
      "Test_Loader: 100%|██████████| 288/288 [00:28<00:00, 10.07it/s]\n"
     ]
    },
    {
     "name": "stdout",
     "output_type": "stream",
     "text": [
      "Loss1: 0.9863, Loss2: 0.3962, Loss3: 1.6982\n"
     ]
    },
    {
     "name": "stderr",
     "output_type": "stream",
     "text": [
      "Test_Loader: 100%|██████████| 288/288 [00:27<00:00, 10.40it/s]\n"
     ]
    },
    {
     "name": "stdout",
     "output_type": "stream",
     "text": [
      "Loss1: 1.0070, Loss2: 0.4116, Loss3: 1.7366\n"
     ]
    },
    {
     "name": "stderr",
     "output_type": "stream",
     "text": [
      "Test_Loader: 100%|██████████| 288/288 [00:27<00:00, 10.44it/s]\n"
     ]
    },
    {
     "name": "stdout",
     "output_type": "stream",
     "text": [
      "Loss1: 1.0103, Loss2: 0.4132, Loss3: 1.7349\n"
     ]
    },
    {
     "name": "stderr",
     "output_type": "stream",
     "text": [
      "Test_Loader: 100%|██████████| 288/288 [00:27<00:00, 10.46it/s]\n"
     ]
    },
    {
     "name": "stdout",
     "output_type": "stream",
     "text": [
      "Loss1: 0.9423, Loss2: 0.4063, Loss3: 1.6731\n"
     ]
    },
    {
     "name": "stderr",
     "output_type": "stream",
     "text": [
      "Test_Loader: 100%|██████████| 288/288 [00:28<00:00, 10.11it/s]\n"
     ]
    },
    {
     "name": "stdout",
     "output_type": "stream",
     "text": [
      "Loss1: 0.9337, Loss2: 0.4046, Loss3: 1.6775\n"
     ]
    },
    {
     "name": "stderr",
     "output_type": "stream",
     "text": [
      "Test_Loader: 100%|██████████| 288/288 [00:28<00:00, 10.02it/s]\n"
     ]
    },
    {
     "name": "stdout",
     "output_type": "stream",
     "text": [
      "Loss1: 0.9669, Loss2: 0.4151, Loss3: 1.7290\n"
     ]
    },
    {
     "name": "stderr",
     "output_type": "stream",
     "text": [
      "Test_Loader: 100%|██████████| 288/288 [00:28<00:00, 10.08it/s]\n"
     ]
    },
    {
     "name": "stdout",
     "output_type": "stream",
     "text": [
      "Loss1: 0.9670, Loss2: 0.4172, Loss3: 1.7414\n"
     ]
    },
    {
     "name": "stderr",
     "output_type": "stream",
     "text": [
      "Test_Loader: 100%|██████████| 288/288 [00:28<00:00, 10.21it/s]\n"
     ]
    },
    {
     "name": "stdout",
     "output_type": "stream",
     "text": [
      "Loss1: 1.0812, Loss2: 0.4616, Loss3: 2.2516\n"
     ]
    },
    {
     "name": "stderr",
     "output_type": "stream",
     "text": [
      "Test_Loader: 100%|██████████| 288/288 [00:29<00:00,  9.78it/s]\n"
     ]
    },
    {
     "name": "stdout",
     "output_type": "stream",
     "text": [
      "Loss1: 1.0947, Loss2: 0.4709, Loss3: 2.2350\n"
     ]
    },
    {
     "name": "stderr",
     "output_type": "stream",
     "text": [
      "Test_Loader: 100%|██████████| 288/288 [00:29<00:00,  9.69it/s]\n"
     ]
    },
    {
     "name": "stdout",
     "output_type": "stream",
     "text": [
      "Loss1: 1.0910, Loss2: 0.4649, Loss3: 2.2131\n"
     ]
    },
    {
     "name": "stderr",
     "output_type": "stream",
     "text": [
      "Test_Loader: 100%|██████████| 288/288 [00:29<00:00,  9.68it/s]\n"
     ]
    },
    {
     "name": "stdout",
     "output_type": "stream",
     "text": [
      "Loss1: 1.1048, Loss2: 0.4603, Loss3: 2.2801\n"
     ]
    },
    {
     "name": "stderr",
     "output_type": "stream",
     "text": [
      "Test_Loader: 100%|██████████| 288/288 [00:29<00:00,  9.72it/s]\n"
     ]
    },
    {
     "name": "stdout",
     "output_type": "stream",
     "text": [
      "Loss1: 1.0502, Loss2: 0.4425, Loss3: 2.1897\n"
     ]
    },
    {
     "name": "stderr",
     "output_type": "stream",
     "text": [
      "Test_Loader: 100%|██████████| 288/288 [00:29<00:00,  9.67it/s]\n"
     ]
    },
    {
     "name": "stdout",
     "output_type": "stream",
     "text": [
      "Loss1: 1.1246, Loss2: 0.4538, Loss3: 2.3609\n"
     ]
    },
    {
     "name": "stderr",
     "output_type": "stream",
     "text": [
      "Test_Loader: 100%|██████████| 288/288 [00:29<00:00,  9.70it/s]\n"
     ]
    },
    {
     "name": "stdout",
     "output_type": "stream",
     "text": [
      "Loss1: 1.1247, Loss2: 0.4502, Loss3: 2.3357\n"
     ]
    },
    {
     "name": "stderr",
     "output_type": "stream",
     "text": [
      "Test_Loader: 100%|██████████| 288/288 [00:29<00:00,  9.72it/s]\n"
     ]
    },
    {
     "name": "stdout",
     "output_type": "stream",
     "text": [
      "Loss1: 1.1280, Loss2: 0.4501, Loss3: 2.3405\n"
     ]
    },
    {
     "name": "stderr",
     "output_type": "stream",
     "text": [
      "Test_Loader: 100%|██████████| 288/288 [00:28<00:00, 10.23it/s]\n"
     ]
    },
    {
     "name": "stdout",
     "output_type": "stream",
     "text": [
      "Loss1: 1.1123, Loss2: 0.4296, Loss3: 2.2127\n"
     ]
    },
    {
     "name": "stderr",
     "output_type": "stream",
     "text": [
      "Test_Loader: 100%|██████████| 288/288 [00:28<00:00, 10.05it/s]\n"
     ]
    },
    {
     "name": "stdout",
     "output_type": "stream",
     "text": [
      "Loss1: 1.1073, Loss2: 0.4322, Loss3: 2.2141\n"
     ]
    },
    {
     "name": "stderr",
     "output_type": "stream",
     "text": [
      "Test_Loader: 100%|██████████| 288/288 [00:29<00:00,  9.92it/s]\n"
     ]
    },
    {
     "name": "stdout",
     "output_type": "stream",
     "text": [
      "Loss1: 1.0995, Loss2: 0.4306, Loss3: 2.1894\n"
     ]
    },
    {
     "name": "stderr",
     "output_type": "stream",
     "text": [
      "Test_Loader: 100%|██████████| 288/288 [00:29<00:00,  9.89it/s]\n"
     ]
    },
    {
     "name": "stdout",
     "output_type": "stream",
     "text": [
      "Loss1: 1.0937, Loss2: 0.4301, Loss3: 2.1758\n"
     ]
    },
    {
     "name": "stderr",
     "output_type": "stream",
     "text": [
      "Test_Loader: 100%|██████████| 288/288 [00:27<00:00, 10.36it/s]\n"
     ]
    },
    {
     "name": "stdout",
     "output_type": "stream",
     "text": [
      "Loss1: 1.0911, Loss2: 0.4290, Loss3: 2.1611\n"
     ]
    },
    {
     "name": "stderr",
     "output_type": "stream",
     "text": [
      "Test_Loader: 100%|██████████| 288/288 [00:28<00:00, 10.16it/s]\n"
     ]
    },
    {
     "name": "stdout",
     "output_type": "stream",
     "text": [
      "Loss1: 1.1743, Loss2: 0.4457, Loss3: 2.1913\n"
     ]
    },
    {
     "name": "stderr",
     "output_type": "stream",
     "text": [
      "Test_Loader: 100%|██████████| 288/288 [00:28<00:00, 10.25it/s]\n"
     ]
    },
    {
     "name": "stdout",
     "output_type": "stream",
     "text": [
      "Loss1: 1.1614, Loss2: 0.4425, Loss3: 2.1582\n"
     ]
    },
    {
     "name": "stderr",
     "output_type": "stream",
     "text": [
      "Test_Loader: 100%|██████████| 288/288 [00:29<00:00,  9.90it/s]\n"
     ]
    },
    {
     "name": "stdout",
     "output_type": "stream",
     "text": [
      "Loss1: 1.1435, Loss2: 0.4375, Loss3: 2.1387\n"
     ]
    },
    {
     "name": "stderr",
     "output_type": "stream",
     "text": [
      "Test_Loader: 100%|██████████| 288/288 [00:28<00:00, 10.05it/s]\n"
     ]
    },
    {
     "name": "stdout",
     "output_type": "stream",
     "text": [
      "Loss1: 1.1353, Loss2: 0.4363, Loss3: 2.1293\n"
     ]
    },
    {
     "name": "stderr",
     "output_type": "stream",
     "text": [
      "Test_Loader: 100%|██████████| 288/288 [00:29<00:00,  9.83it/s]\n"
     ]
    },
    {
     "name": "stdout",
     "output_type": "stream",
     "text": [
      "Loss1: 1.1426, Loss2: 0.4389, Loss3: 2.1081\n"
     ]
    },
    {
     "name": "stderr",
     "output_type": "stream",
     "text": [
      "Test_Loader: 100%|██████████| 288/288 [00:29<00:00,  9.73it/s]\n"
     ]
    },
    {
     "name": "stdout",
     "output_type": "stream",
     "text": [
      "Loss1: 1.1525, Loss2: 0.4475, Loss3: 2.1115\n"
     ]
    },
    {
     "name": "stderr",
     "output_type": "stream",
     "text": [
      "Test_Loader: 100%|██████████| 288/288 [00:29<00:00,  9.71it/s]\n"
     ]
    },
    {
     "name": "stdout",
     "output_type": "stream",
     "text": [
      "Loss1: 1.1636, Loss2: 0.4450, Loss3: 2.0964\n"
     ]
    },
    {
     "name": "stderr",
     "output_type": "stream",
     "text": [
      "Test_Loader: 100%|██████████| 288/288 [00:28<00:00, 10.10it/s]\n"
     ]
    },
    {
     "name": "stdout",
     "output_type": "stream",
     "text": [
      "Loss1: 1.1462, Loss2: 0.4474, Loss3: 2.0769\n"
     ]
    },
    {
     "name": "stderr",
     "output_type": "stream",
     "text": [
      "Test_Loader: 100%|██████████| 288/288 [00:28<00:00, 10.18it/s]\n"
     ]
    },
    {
     "name": "stdout",
     "output_type": "stream",
     "text": [
      "Loss1: 1.1184, Loss2: 0.4324, Loss3: 2.0417\n"
     ]
    },
    {
     "name": "stderr",
     "output_type": "stream",
     "text": [
      "Test_Loader: 100%|██████████| 288/288 [00:29<00:00,  9.91it/s]\n"
     ]
    },
    {
     "name": "stdout",
     "output_type": "stream",
     "text": [
      "Loss1: 1.1003, Loss2: 0.4344, Loss3: 2.0326\n"
     ]
    },
    {
     "name": "stderr",
     "output_type": "stream",
     "text": [
      "Test_Loader: 100%|██████████| 288/288 [00:29<00:00,  9.69it/s]\n"
     ]
    },
    {
     "name": "stdout",
     "output_type": "stream",
     "text": [
      "Loss1: 1.1134, Loss2: 0.4354, Loss3: 2.0225\n"
     ]
    },
    {
     "name": "stderr",
     "output_type": "stream",
     "text": [
      "Test_Loader: 100%|██████████| 288/288 [00:28<00:00, 10.06it/s]\n"
     ]
    },
    {
     "name": "stdout",
     "output_type": "stream",
     "text": [
      "Loss1: 1.1031, Loss2: 0.4334, Loss3: 2.0244\n"
     ]
    },
    {
     "name": "stderr",
     "output_type": "stream",
     "text": [
      "Test_Loader: 100%|██████████| 288/288 [00:28<00:00, 10.21it/s]\n"
     ]
    },
    {
     "name": "stdout",
     "output_type": "stream",
     "text": [
      "Loss1: 1.1102, Loss2: 0.4348, Loss3: 2.0110\n"
     ]
    },
    {
     "name": "stderr",
     "output_type": "stream",
     "text": [
      "Test_Loader: 100%|██████████| 288/288 [00:28<00:00, 10.27it/s]\n"
     ]
    },
    {
     "name": "stdout",
     "output_type": "stream",
     "text": [
      "Loss1: 1.0997, Loss2: 0.4282, Loss3: 1.9860\n"
     ]
    },
    {
     "name": "stderr",
     "output_type": "stream",
     "text": [
      "Test_Loader: 100%|██████████| 288/288 [00:28<00:00, 10.23it/s]\n"
     ]
    },
    {
     "name": "stdout",
     "output_type": "stream",
     "text": [
      "Loss1: 1.0973, Loss2: 0.4287, Loss3: 1.9750\n"
     ]
    },
    {
     "name": "stderr",
     "output_type": "stream",
     "text": [
      "Test_Loader: 100%|██████████| 288/288 [00:28<00:00,  9.99it/s]\n"
     ]
    },
    {
     "name": "stdout",
     "output_type": "stream",
     "text": [
      "Loss1: 1.1011, Loss2: 0.4298, Loss3: 1.9813\n"
     ]
    },
    {
     "name": "stderr",
     "output_type": "stream",
     "text": [
      "Test_Loader: 100%|██████████| 288/288 [00:28<00:00, 10.04it/s]\n"
     ]
    },
    {
     "name": "stdout",
     "output_type": "stream",
     "text": [
      "Loss1: 1.1065, Loss2: 0.4392, Loss3: 1.9849\n"
     ]
    },
    {
     "name": "stderr",
     "output_type": "stream",
     "text": [
      "Test_Loader: 100%|██████████| 288/288 [00:29<00:00,  9.71it/s]\n"
     ]
    },
    {
     "name": "stdout",
     "output_type": "stream",
     "text": [
      "Loss1: 1.0927, Loss2: 0.4336, Loss3: 1.9508\n"
     ]
    },
    {
     "name": "stderr",
     "output_type": "stream",
     "text": [
      "Test_Loader: 100%|██████████| 288/288 [00:29<00:00,  9.73it/s]\n"
     ]
    },
    {
     "name": "stdout",
     "output_type": "stream",
     "text": [
      "Loss1: 1.0912, Loss2: 0.4366, Loss3: 1.9405\n"
     ]
    },
    {
     "name": "stderr",
     "output_type": "stream",
     "text": [
      "Test_Loader: 100%|██████████| 288/288 [00:29<00:00,  9.76it/s]\n"
     ]
    },
    {
     "name": "stdout",
     "output_type": "stream",
     "text": [
      "Loss1: 1.0857, Loss2: 0.4293, Loss3: 1.9332\n"
     ]
    },
    {
     "name": "stderr",
     "output_type": "stream",
     "text": [
      "Test_Loader: 100%|██████████| 288/288 [00:28<00:00, 10.11it/s]\n"
     ]
    },
    {
     "name": "stdout",
     "output_type": "stream",
     "text": [
      "Loss1: 1.0800, Loss2: 0.4344, Loss3: 1.9339\n"
     ]
    },
    {
     "name": "stderr",
     "output_type": "stream",
     "text": [
      "Test_Loader: 100%|██████████| 288/288 [00:28<00:00,  9.99it/s]\n"
     ]
    },
    {
     "name": "stdout",
     "output_type": "stream",
     "text": [
      "Loss1: 1.0680, Loss2: 0.4256, Loss3: 1.8967\n"
     ]
    },
    {
     "name": "stderr",
     "output_type": "stream",
     "text": [
      "Test_Loader: 100%|██████████| 288/288 [00:28<00:00, 10.04it/s]\n"
     ]
    },
    {
     "name": "stdout",
     "output_type": "stream",
     "text": [
      "Loss1: 1.0499, Loss2: 0.4094, Loss3: 1.8641\n"
     ]
    },
    {
     "name": "stderr",
     "output_type": "stream",
     "text": [
      "Test_Loader: 100%|██████████| 288/288 [00:29<00:00,  9.81it/s]\n"
     ]
    },
    {
     "name": "stdout",
     "output_type": "stream",
     "text": [
      "Loss1: 1.0292, Loss2: 0.4057, Loss3: 1.8565\n"
     ]
    },
    {
     "name": "stderr",
     "output_type": "stream",
     "text": [
      "Test_Loader: 100%|██████████| 288/288 [00:28<00:00, 10.09it/s]\n"
     ]
    },
    {
     "name": "stdout",
     "output_type": "stream",
     "text": [
      "Loss1: 1.0206, Loss2: 0.4035, Loss3: 1.8430\n"
     ]
    },
    {
     "name": "stderr",
     "output_type": "stream",
     "text": [
      "Test_Loader: 100%|██████████| 288/288 [00:28<00:00, 10.20it/s]\n"
     ]
    },
    {
     "name": "stdout",
     "output_type": "stream",
     "text": [
      "Loss1: 1.0184, Loss2: 0.3998, Loss3: 1.8289\n"
     ]
    },
    {
     "name": "stderr",
     "output_type": "stream",
     "text": [
      "Test_Loader: 100%|██████████| 288/288 [00:28<00:00, 10.16it/s]\n"
     ]
    },
    {
     "name": "stdout",
     "output_type": "stream",
     "text": [
      "Loss1: 1.0139, Loss2: 0.3968, Loss3: 1.8081\n"
     ]
    },
    {
     "name": "stderr",
     "output_type": "stream",
     "text": [
      "Test_Loader: 100%|██████████| 288/288 [00:28<00:00,  9.96it/s]\n"
     ]
    },
    {
     "name": "stdout",
     "output_type": "stream",
     "text": [
      "Loss1: 1.0163, Loss2: 0.4006, Loss3: 1.8126\n"
     ]
    },
    {
     "name": "stderr",
     "output_type": "stream",
     "text": [
      "Test_Loader: 100%|██████████| 288/288 [00:28<00:00,  9.95it/s]\n"
     ]
    },
    {
     "name": "stdout",
     "output_type": "stream",
     "text": [
      "Loss1: 1.0192, Loss2: 0.4018, Loss3: 1.8146\n"
     ]
    },
    {
     "name": "stderr",
     "output_type": "stream",
     "text": [
      "Test_Loader: 100%|██████████| 288/288 [00:29<00:00,  9.81it/s]\n"
     ]
    },
    {
     "name": "stdout",
     "output_type": "stream",
     "text": [
      "Loss1: 1.0152, Loss2: 0.3989, Loss3: 1.7981\n"
     ]
    },
    {
     "name": "stderr",
     "output_type": "stream",
     "text": [
      "Test_Loader: 100%|██████████| 288/288 [00:29<00:00,  9.82it/s]\n"
     ]
    },
    {
     "name": "stdout",
     "output_type": "stream",
     "text": [
      "Loss1: 1.0391, Loss2: 0.4038, Loss3: 1.9445\n"
     ]
    },
    {
     "name": "stderr",
     "output_type": "stream",
     "text": [
      "Test_Loader: 100%|██████████| 288/288 [00:28<00:00, 10.15it/s]\n"
     ]
    },
    {
     "name": "stdout",
     "output_type": "stream",
     "text": [
      "Loss1: 1.0477, Loss2: 0.4142, Loss3: 1.9618\n"
     ]
    },
    {
     "name": "stderr",
     "output_type": "stream",
     "text": [
      "Test_Loader: 100%|██████████| 288/288 [00:28<00:00, 10.14it/s]\n"
     ]
    },
    {
     "name": "stdout",
     "output_type": "stream",
     "text": [
      "Loss1: 1.0572, Loss2: 0.4126, Loss3: 1.9557\n"
     ]
    },
    {
     "name": "stderr",
     "output_type": "stream",
     "text": [
      "Test_Loader: 100%|██████████| 288/288 [00:27<00:00, 10.52it/s]\n"
     ]
    },
    {
     "name": "stdout",
     "output_type": "stream",
     "text": [
      "Loss1: 1.0575, Loss2: 0.4192, Loss3: 1.9675\n"
     ]
    },
    {
     "name": "stderr",
     "output_type": "stream",
     "text": [
      "Test_Loader: 100%|██████████| 288/288 [00:28<00:00,  9.99it/s]\n"
     ]
    },
    {
     "name": "stdout",
     "output_type": "stream",
     "text": [
      "Loss1: 1.0629, Loss2: 0.4203, Loss3: 1.9396\n"
     ]
    },
    {
     "name": "stderr",
     "output_type": "stream",
     "text": [
      "Test_Loader: 100%|██████████| 288/288 [00:29<00:00,  9.85it/s]\n"
     ]
    },
    {
     "name": "stdout",
     "output_type": "stream",
     "text": [
      "Loss1: 1.0691, Loss2: 0.4207, Loss3: 1.9557\n"
     ]
    },
    {
     "name": "stderr",
     "output_type": "stream",
     "text": [
      "Test_Loader: 100%|██████████| 288/288 [00:28<00:00, 10.15it/s]\n"
     ]
    },
    {
     "name": "stdout",
     "output_type": "stream",
     "text": [
      "Loss1: 1.0543, Loss2: 0.4193, Loss3: 1.9446\n"
     ]
    },
    {
     "name": "stderr",
     "output_type": "stream",
     "text": [
      "Test_Loader: 100%|██████████| 288/288 [00:28<00:00, 10.18it/s]\n"
     ]
    },
    {
     "name": "stdout",
     "output_type": "stream",
     "text": [
      "Loss1: 1.0496, Loss2: 0.4162, Loss3: 1.9327\n"
     ]
    },
    {
     "name": "stderr",
     "output_type": "stream",
     "text": [
      "Test_Loader: 100%|██████████| 288/288 [00:29<00:00,  9.89it/s]\n"
     ]
    },
    {
     "name": "stdout",
     "output_type": "stream",
     "text": [
      "Loss1: 1.0411, Loss2: 0.4089, Loss3: 1.9103\n"
     ]
    },
    {
     "name": "stderr",
     "output_type": "stream",
     "text": [
      "Test_Loader: 100%|██████████| 288/288 [00:29<00:00,  9.69it/s]\n"
     ]
    },
    {
     "name": "stdout",
     "output_type": "stream",
     "text": [
      "Loss1: 1.0517, Loss2: 0.4081, Loss3: 1.9164\n"
     ]
    },
    {
     "name": "stderr",
     "output_type": "stream",
     "text": [
      "Test_Loader: 100%|██████████| 288/288 [00:29<00:00,  9.70it/s]\n"
     ]
    },
    {
     "name": "stdout",
     "output_type": "stream",
     "text": [
      "Loss1: 1.0844, Loss2: 0.4178, Loss3: 1.9527\n"
     ]
    },
    {
     "name": "stderr",
     "output_type": "stream",
     "text": [
      "Test_Loader: 100%|██████████| 288/288 [00:29<00:00,  9.79it/s]\n"
     ]
    },
    {
     "name": "stdout",
     "output_type": "stream",
     "text": [
      "Loss1: 1.0896, Loss2: 0.4194, Loss3: 1.9626\n"
     ]
    },
    {
     "name": "stderr",
     "output_type": "stream",
     "text": [
      "Test_Loader: 100%|██████████| 288/288 [00:29<00:00,  9.73it/s]\n"
     ]
    },
    {
     "name": "stdout",
     "output_type": "stream",
     "text": [
      "Loss1: 1.0642, Loss2: 0.4059, Loss3: 1.9086\n"
     ]
    },
    {
     "name": "stderr",
     "output_type": "stream",
     "text": [
      "Test_Loader: 100%|██████████| 288/288 [00:29<00:00,  9.72it/s]\n"
     ]
    },
    {
     "name": "stdout",
     "output_type": "stream",
     "text": [
      "Loss1: 1.0619, Loss2: 0.4072, Loss3: 1.9103\n"
     ]
    },
    {
     "name": "stderr",
     "output_type": "stream",
     "text": [
      "Test_Loader: 100%|██████████| 288/288 [00:29<00:00,  9.90it/s]\n"
     ]
    },
    {
     "name": "stdout",
     "output_type": "stream",
     "text": [
      "Loss1: 1.0608, Loss2: 0.4020, Loss3: 1.8757\n"
     ]
    },
    {
     "name": "stderr",
     "output_type": "stream",
     "text": [
      "Test_Loader: 100%|██████████| 288/288 [00:28<00:00, 10.24it/s]\n"
     ]
    },
    {
     "name": "stdout",
     "output_type": "stream",
     "text": [
      "Loss1: 1.0772, Loss2: 0.4136, Loss3: 1.9092\n"
     ]
    },
    {
     "name": "stderr",
     "output_type": "stream",
     "text": [
      "Test_Loader: 100%|██████████| 288/288 [00:28<00:00, 10.16it/s]\n"
     ]
    },
    {
     "name": "stdout",
     "output_type": "stream",
     "text": [
      "Loss1: 1.0628, Loss2: 0.4109, Loss3: 1.9004\n"
     ]
    },
    {
     "name": "stderr",
     "output_type": "stream",
     "text": [
      "Test_Loader: 100%|██████████| 288/288 [00:29<00:00,  9.70it/s]\n"
     ]
    },
    {
     "name": "stdout",
     "output_type": "stream",
     "text": [
      "Loss1: 1.0006, Loss2: 0.3531, Loss3: 1.6648\n"
     ]
    },
    {
     "name": "stderr",
     "output_type": "stream",
     "text": [
      "Test_Loader: 100%|██████████| 288/288 [00:28<00:00, 10.03it/s]\n"
     ]
    },
    {
     "name": "stdout",
     "output_type": "stream",
     "text": [
      "Loss1: 0.9185, Loss2: 0.3290, Loss3: 1.5360\n"
     ]
    },
    {
     "name": "stderr",
     "output_type": "stream",
     "text": [
      "Test_Loader: 100%|██████████| 288/288 [00:28<00:00, 10.20it/s]\n"
     ]
    },
    {
     "name": "stdout",
     "output_type": "stream",
     "text": [
      "Loss1: 0.9156, Loss2: 0.3149, Loss3: 1.5037\n"
     ]
    },
    {
     "name": "stderr",
     "output_type": "stream",
     "text": [
      "Test_Loader: 100%|██████████| 288/288 [00:29<00:00,  9.71it/s]\n"
     ]
    },
    {
     "name": "stdout",
     "output_type": "stream",
     "text": [
      "Loss1: 0.9197, Loss2: 0.3150, Loss3: 1.4784\n"
     ]
    },
    {
     "name": "stderr",
     "output_type": "stream",
     "text": [
      "Test_Loader: 100%|██████████| 288/288 [00:28<00:00,  9.98it/s]\n"
     ]
    },
    {
     "name": "stdout",
     "output_type": "stream",
     "text": [
      "Loss1: 0.9813, Loss2: 0.3210, Loss3: 1.6836\n"
     ]
    },
    {
     "name": "stderr",
     "output_type": "stream",
     "text": [
      "Test_Loader: 100%|██████████| 288/288 [00:29<00:00,  9.82it/s]\n"
     ]
    },
    {
     "name": "stdout",
     "output_type": "stream",
     "text": [
      "Loss1: 0.9912, Loss2: 0.3230, Loss3: 1.7029\n"
     ]
    },
    {
     "name": "stderr",
     "output_type": "stream",
     "text": [
      "Test_Loader: 100%|██████████| 288/288 [00:29<00:00,  9.77it/s]\n"
     ]
    },
    {
     "name": "stdout",
     "output_type": "stream",
     "text": [
      "Loss1: 1.4053, Loss2: 0.4842, Loss3: 1.9432\n"
     ]
    },
    {
     "name": "stderr",
     "output_type": "stream",
     "text": [
      "Test_Loader: 100%|██████████| 288/288 [00:29<00:00,  9.76it/s]\n"
     ]
    },
    {
     "name": "stdout",
     "output_type": "stream",
     "text": [
      "Loss1: 1.3373, Loss2: 0.4619, Loss3: 1.9181\n"
     ]
    },
    {
     "name": "stderr",
     "output_type": "stream",
     "text": [
      "Test_Loader: 100%|██████████| 288/288 [00:29<00:00,  9.80it/s]\n"
     ]
    },
    {
     "name": "stdout",
     "output_type": "stream",
     "text": [
      "Loss1: 1.2599, Loss2: 0.4466, Loss3: 1.8514\n"
     ]
    },
    {
     "name": "stderr",
     "output_type": "stream",
     "text": [
      "Test_Loader: 100%|██████████| 288/288 [00:27<00:00, 10.41it/s]\n"
     ]
    },
    {
     "name": "stdout",
     "output_type": "stream",
     "text": [
      "Loss1: 1.2516, Loss2: 0.4307, Loss3: 1.8412\n"
     ]
    },
    {
     "name": "stderr",
     "output_type": "stream",
     "text": [
      "Test_Loader: 100%|██████████| 288/288 [00:27<00:00, 10.53it/s]\n"
     ]
    },
    {
     "name": "stdout",
     "output_type": "stream",
     "text": [
      "Loss1: 1.2284, Loss2: 0.4235, Loss3: 1.8447\n"
     ]
    },
    {
     "name": "stderr",
     "output_type": "stream",
     "text": [
      "Test_Loader: 100%|██████████| 288/288 [00:27<00:00, 10.39it/s]\n"
     ]
    },
    {
     "name": "stdout",
     "output_type": "stream",
     "text": [
      "Loss1: 1.2021, Loss2: 0.4075, Loss3: 1.8132\n"
     ]
    },
    {
     "name": "stderr",
     "output_type": "stream",
     "text": [
      "Test_Loader: 100%|██████████| 288/288 [00:29<00:00,  9.92it/s]\n"
     ]
    },
    {
     "name": "stdout",
     "output_type": "stream",
     "text": [
      "Loss1: 1.1875, Loss2: 0.3996, Loss3: 1.8067\n"
     ]
    },
    {
     "name": "stderr",
     "output_type": "stream",
     "text": [
      "Test_Loader: 100%|██████████| 288/288 [00:29<00:00,  9.60it/s]\n"
     ]
    },
    {
     "name": "stdout",
     "output_type": "stream",
     "text": [
      "Loss1: 1.1637, Loss2: 0.3856, Loss3: 1.7833\n"
     ]
    },
    {
     "name": "stderr",
     "output_type": "stream",
     "text": [
      "Test_Loader: 100%|██████████| 288/288 [00:29<00:00,  9.84it/s]\n"
     ]
    },
    {
     "name": "stdout",
     "output_type": "stream",
     "text": [
      "Loss1: 1.1677, Loss2: 0.3810, Loss3: 1.7916\n"
     ]
    },
    {
     "name": "stderr",
     "output_type": "stream",
     "text": [
      "Test_Loader: 100%|██████████| 288/288 [00:28<00:00, 10.05it/s]\n"
     ]
    },
    {
     "name": "stdout",
     "output_type": "stream",
     "text": [
      "Loss1: 1.1510, Loss2: 0.3749, Loss3: 1.7846\n"
     ]
    },
    {
     "name": "stderr",
     "output_type": "stream",
     "text": [
      "Test_Loader: 100%|██████████| 288/288 [00:28<00:00, 10.04it/s]\n"
     ]
    },
    {
     "name": "stdout",
     "output_type": "stream",
     "text": [
      "Loss1: 1.1433, Loss2: 0.3721, Loss3: 1.7714\n"
     ]
    },
    {
     "name": "stderr",
     "output_type": "stream",
     "text": [
      "Test_Loader: 100%|██████████| 288/288 [00:29<00:00,  9.81it/s]\n"
     ]
    },
    {
     "name": "stdout",
     "output_type": "stream",
     "text": [
      "Loss1: 1.1283, Loss2: 0.3645, Loss3: 1.7653\n"
     ]
    },
    {
     "name": "stderr",
     "output_type": "stream",
     "text": [
      "Test_Loader: 100%|██████████| 288/288 [00:29<00:00,  9.72it/s]\n"
     ]
    },
    {
     "name": "stdout",
     "output_type": "stream",
     "text": [
      "Loss1: 1.1235, Loss2: 0.3623, Loss3: 1.7555\n"
     ]
    },
    {
     "name": "stderr",
     "output_type": "stream",
     "text": [
      "Test_Loader: 100%|██████████| 288/288 [00:29<00:00,  9.65it/s]\n"
     ]
    },
    {
     "name": "stdout",
     "output_type": "stream",
     "text": [
      "Loss1: 1.1211, Loss2: 0.3588, Loss3: 1.7482\n"
     ]
    },
    {
     "name": "stderr",
     "output_type": "stream",
     "text": [
      "Test_Loader: 100%|██████████| 288/288 [00:29<00:00,  9.72it/s]\n"
     ]
    },
    {
     "name": "stdout",
     "output_type": "stream",
     "text": [
      "Loss1: 1.1307, Loss2: 0.3581, Loss3: 1.7307\n"
     ]
    },
    {
     "name": "stderr",
     "output_type": "stream",
     "text": [
      "Test_Loader: 100%|██████████| 288/288 [00:29<00:00,  9.73it/s]\n"
     ]
    },
    {
     "name": "stdout",
     "output_type": "stream",
     "text": [
      "Loss1: 1.1197, Loss2: 0.3548, Loss3: 1.7137\n"
     ]
    },
    {
     "name": "stderr",
     "output_type": "stream",
     "text": [
      "Test_Loader: 100%|██████████| 288/288 [00:29<00:00,  9.90it/s]\n"
     ]
    },
    {
     "name": "stdout",
     "output_type": "stream",
     "text": [
      "Loss1: 1.1262, Loss2: 0.3523, Loss3: 1.7327\n"
     ]
    },
    {
     "name": "stderr",
     "output_type": "stream",
     "text": [
      "Test_Loader: 100%|██████████| 288/288 [00:28<00:00, 10.19it/s]\n"
     ]
    },
    {
     "name": "stdout",
     "output_type": "stream",
     "text": [
      "Loss1: 1.1411, Loss2: 0.3566, Loss3: 1.7155\n"
     ]
    },
    {
     "name": "stderr",
     "output_type": "stream",
     "text": [
      "Test_Loader: 100%|██████████| 288/288 [00:28<00:00, 10.07it/s]\n"
     ]
    },
    {
     "name": "stdout",
     "output_type": "stream",
     "text": [
      "Loss1: 1.1313, Loss2: 0.3497, Loss3: 1.7199\n"
     ]
    },
    {
     "name": "stderr",
     "output_type": "stream",
     "text": [
      "Test_Loader: 100%|██████████| 288/288 [00:28<00:00, 10.07it/s]\n"
     ]
    },
    {
     "name": "stdout",
     "output_type": "stream",
     "text": [
      "Loss1: 1.1398, Loss2: 0.3517, Loss3: 1.6748\n"
     ]
    },
    {
     "name": "stderr",
     "output_type": "stream",
     "text": [
      "Test_Loader: 100%|██████████| 288/288 [00:28<00:00, 10.02it/s]\n"
     ]
    },
    {
     "name": "stdout",
     "output_type": "stream",
     "text": [
      "Loss1: 1.1265, Loss2: 0.3458, Loss3: 1.6836\n"
     ]
    },
    {
     "name": "stderr",
     "output_type": "stream",
     "text": [
      "Test_Loader: 100%|██████████| 288/288 [00:28<00:00, 10.13it/s]\n"
     ]
    },
    {
     "name": "stdout",
     "output_type": "stream",
     "text": [
      "Loss1: 1.1496, Loss2: 0.3852, Loss3: 1.7779\n"
     ]
    },
    {
     "name": "stderr",
     "output_type": "stream",
     "text": [
      "Test_Loader: 100%|██████████| 288/288 [00:29<00:00,  9.89it/s]\n"
     ]
    },
    {
     "name": "stdout",
     "output_type": "stream",
     "text": [
      "Loss1: 1.1712, Loss2: 0.3825, Loss3: 1.8026\n"
     ]
    },
    {
     "name": "stderr",
     "output_type": "stream",
     "text": [
      "Test_Loader: 100%|██████████| 288/288 [00:29<00:00,  9.90it/s]\n"
     ]
    },
    {
     "name": "stdout",
     "output_type": "stream",
     "text": [
      "Loss1: 1.1708, Loss2: 0.3862, Loss3: 1.8002\n"
     ]
    },
    {
     "name": "stderr",
     "output_type": "stream",
     "text": [
      "Test_Loader: 100%|██████████| 288/288 [00:29<00:00,  9.73it/s]\n"
     ]
    },
    {
     "name": "stdout",
     "output_type": "stream",
     "text": [
      "Loss1: 1.1705, Loss2: 0.3713, Loss3: 1.7859\n"
     ]
    },
    {
     "name": "stderr",
     "output_type": "stream",
     "text": [
      "Test_Loader: 100%|██████████| 288/288 [00:29<00:00,  9.69it/s]\n"
     ]
    },
    {
     "name": "stdout",
     "output_type": "stream",
     "text": [
      "Loss1: 1.1563, Loss2: 0.3673, Loss3: 1.7709\n"
     ]
    },
    {
     "name": "stderr",
     "output_type": "stream",
     "text": [
      "Test_Loader: 100%|██████████| 288/288 [00:29<00:00,  9.61it/s]\n"
     ]
    },
    {
     "name": "stdout",
     "output_type": "stream",
     "text": [
      "Loss1: 1.1659, Loss2: 0.3642, Loss3: 1.7581\n"
     ]
    },
    {
     "name": "stderr",
     "output_type": "stream",
     "text": [
      "Test_Loader: 100%|██████████| 288/288 [00:29<00:00,  9.68it/s]\n"
     ]
    },
    {
     "name": "stdout",
     "output_type": "stream",
     "text": [
      "Loss1: 1.1668, Loss2: 0.3632, Loss3: 1.7369\n"
     ]
    },
    {
     "name": "stderr",
     "output_type": "stream",
     "text": [
      "Test_Loader: 100%|██████████| 288/288 [00:29<00:00,  9.68it/s]\n"
     ]
    },
    {
     "name": "stdout",
     "output_type": "stream",
     "text": [
      "Loss1: 1.1652, Loss2: 0.3619, Loss3: 1.7406\n"
     ]
    },
    {
     "name": "stderr",
     "output_type": "stream",
     "text": [
      "Test_Loader: 100%|██████████| 288/288 [00:28<00:00, 10.14it/s]\n"
     ]
    },
    {
     "name": "stdout",
     "output_type": "stream",
     "text": [
      "Loss1: 1.1595, Loss2: 0.3569, Loss3: 1.7235\n"
     ]
    },
    {
     "name": "stderr",
     "output_type": "stream",
     "text": [
      "Test_Loader: 100%|██████████| 288/288 [00:28<00:00, 10.10it/s]\n"
     ]
    },
    {
     "name": "stdout",
     "output_type": "stream",
     "text": [
      "Loss1: 1.0595, Loss2: 0.3503, Loss3: 1.6101\n"
     ]
    },
    {
     "name": "stderr",
     "output_type": "stream",
     "text": [
      "Test_Loader: 100%|██████████| 288/288 [00:29<00:00,  9.92it/s]\n"
     ]
    },
    {
     "name": "stdout",
     "output_type": "stream",
     "text": [
      "Loss1: 1.0537, Loss2: 0.3447, Loss3: 1.5947\n"
     ]
    },
    {
     "name": "stderr",
     "output_type": "stream",
     "text": [
      "Test_Loader: 100%|██████████| 288/288 [00:28<00:00, 10.04it/s]\n"
     ]
    },
    {
     "name": "stdout",
     "output_type": "stream",
     "text": [
      "Loss1: 1.0374, Loss2: 0.3412, Loss3: 1.5856\n"
     ]
    },
    {
     "name": "stderr",
     "output_type": "stream",
     "text": [
      "Test_Loader: 100%|██████████| 288/288 [00:28<00:00, 10.24it/s]\n"
     ]
    },
    {
     "name": "stdout",
     "output_type": "stream",
     "text": [
      "Loss1: 1.0208, Loss2: 0.3418, Loss3: 1.5534\n"
     ]
    },
    {
     "name": "stderr",
     "output_type": "stream",
     "text": [
      "Test_Loader: 100%|██████████| 288/288 [00:28<00:00, 10.00it/s]\n"
     ]
    },
    {
     "name": "stdout",
     "output_type": "stream",
     "text": [
      "Loss1: 1.0146, Loss2: 0.3360, Loss3: 1.5439\n"
     ]
    },
    {
     "name": "stderr",
     "output_type": "stream",
     "text": [
      "Test_Loader: 100%|██████████| 288/288 [00:28<00:00, 10.01it/s]\n"
     ]
    },
    {
     "name": "stdout",
     "output_type": "stream",
     "text": [
      "Loss1: 0.9634, Loss2: 0.3230, Loss3: 1.4818\n"
     ]
    },
    {
     "name": "stderr",
     "output_type": "stream",
     "text": [
      "Test_Loader: 100%|██████████| 288/288 [00:29<00:00,  9.89it/s]\n"
     ]
    },
    {
     "name": "stdout",
     "output_type": "stream",
     "text": [
      "Loss1: 0.9602, Loss2: 0.3269, Loss3: 1.5048\n"
     ]
    },
    {
     "name": "stderr",
     "output_type": "stream",
     "text": [
      "Test_Loader: 100%|██████████| 288/288 [00:28<00:00, 10.12it/s]\n"
     ]
    },
    {
     "name": "stdout",
     "output_type": "stream",
     "text": [
      "Loss1: 0.9517, Loss2: 0.3263, Loss3: 1.4719\n"
     ]
    },
    {
     "name": "stderr",
     "output_type": "stream",
     "text": [
      "Test_Loader: 100%|██████████| 288/288 [00:28<00:00,  9.94it/s]\n"
     ]
    },
    {
     "name": "stdout",
     "output_type": "stream",
     "text": [
      "Loss1: 0.9598, Loss2: 0.3239, Loss3: 1.4718\n"
     ]
    },
    {
     "name": "stderr",
     "output_type": "stream",
     "text": [
      "Test_Loader: 100%|██████████| 288/288 [00:28<00:00, 10.01it/s]\n"
     ]
    },
    {
     "name": "stdout",
     "output_type": "stream",
     "text": [
      "Loss1: 0.9516, Loss2: 0.3175, Loss3: 1.4564\n"
     ]
    },
    {
     "name": "stderr",
     "output_type": "stream",
     "text": [
      "Test_Loader: 100%|██████████| 288/288 [00:27<00:00, 10.50it/s]\n"
     ]
    },
    {
     "name": "stdout",
     "output_type": "stream",
     "text": [
      "Loss1: 0.9479, Loss2: 0.3167, Loss3: 1.4507\n"
     ]
    },
    {
     "name": "stderr",
     "output_type": "stream",
     "text": [
      "Test_Loader: 100%|██████████| 288/288 [00:27<00:00, 10.49it/s]\n"
     ]
    },
    {
     "name": "stdout",
     "output_type": "stream",
     "text": [
      "Loss1: 1.0663, Loss2: 0.3295, Loss3: 1.4629\n"
     ]
    },
    {
     "name": "stderr",
     "output_type": "stream",
     "text": [
      "Test_Loader: 100%|██████████| 288/288 [00:27<00:00, 10.37it/s]\n"
     ]
    },
    {
     "name": "stdout",
     "output_type": "stream",
     "text": [
      "Loss1: 1.0555, Loss2: 0.3277, Loss3: 1.4528\n"
     ]
    },
    {
     "name": "stderr",
     "output_type": "stream",
     "text": [
      "Test_Loader: 100%|██████████| 288/288 [00:28<00:00, 10.23it/s]\n"
     ]
    },
    {
     "name": "stdout",
     "output_type": "stream",
     "text": [
      "Loss1: 1.0299, Loss2: 0.3208, Loss3: 1.4224\n"
     ]
    },
    {
     "name": "stderr",
     "output_type": "stream",
     "text": [
      "Test_Loader: 100%|██████████| 288/288 [00:29<00:00,  9.75it/s]\n"
     ]
    },
    {
     "name": "stdout",
     "output_type": "stream",
     "text": [
      "Loss1: 1.0242, Loss2: 0.3188, Loss3: 1.4216\n"
     ]
    },
    {
     "name": "stderr",
     "output_type": "stream",
     "text": [
      "Test_Loader: 100%|██████████| 288/288 [00:28<00:00, 10.16it/s]\n"
     ]
    },
    {
     "name": "stdout",
     "output_type": "stream",
     "text": [
      "Loss1: 1.0268, Loss2: 0.3190, Loss3: 1.4183\n"
     ]
    },
    {
     "name": "stderr",
     "output_type": "stream",
     "text": [
      "Test_Loader: 100%|██████████| 288/288 [00:27<00:00, 10.34it/s]\n"
     ]
    },
    {
     "name": "stdout",
     "output_type": "stream",
     "text": [
      "Loss1: 1.0222, Loss2: 0.3180, Loss3: 1.4158\n"
     ]
    },
    {
     "name": "stderr",
     "output_type": "stream",
     "text": [
      "Test_Loader: 100%|██████████| 288/288 [00:28<00:00, 10.19it/s]\n"
     ]
    },
    {
     "name": "stdout",
     "output_type": "stream",
     "text": [
      "Loss1: 1.0426, Loss2: 0.3128, Loss3: 1.4199\n"
     ]
    },
    {
     "name": "stderr",
     "output_type": "stream",
     "text": [
      "Test_Loader: 100%|██████████| 288/288 [00:28<00:00, 10.22it/s]\n"
     ]
    },
    {
     "name": "stdout",
     "output_type": "stream",
     "text": [
      "Loss1: 1.0143, Loss2: 0.3050, Loss3: 1.4076\n"
     ]
    },
    {
     "name": "stderr",
     "output_type": "stream",
     "text": [
      "Test_Loader: 100%|██████████| 288/288 [00:28<00:00, 10.11it/s]\n"
     ]
    },
    {
     "name": "stdout",
     "output_type": "stream",
     "text": [
      "Loss1: 1.0422, Loss2: 0.3069, Loss3: 1.4278\n"
     ]
    },
    {
     "name": "stderr",
     "output_type": "stream",
     "text": [
      "Test_Loader: 100%|██████████| 288/288 [00:28<00:00, 10.13it/s]\n"
     ]
    },
    {
     "name": "stdout",
     "output_type": "stream",
     "text": [
      "Loss1: 1.0341, Loss2: 0.3021, Loss3: 1.4253\n"
     ]
    },
    {
     "name": "stderr",
     "output_type": "stream",
     "text": [
      "Test_Loader: 100%|██████████| 288/288 [00:28<00:00,  9.94it/s]\n"
     ]
    },
    {
     "name": "stdout",
     "output_type": "stream",
     "text": [
      "Loss1: 1.1135, Loss2: 0.3289, Loss3: 1.6968\n"
     ]
    },
    {
     "name": "stderr",
     "output_type": "stream",
     "text": [
      "Test_Loader: 100%|██████████| 288/288 [00:29<00:00,  9.80it/s]\n"
     ]
    },
    {
     "name": "stdout",
     "output_type": "stream",
     "text": [
      "Loss1: 1.1136, Loss2: 0.3364, Loss3: 1.7208\n"
     ]
    },
    {
     "name": "stderr",
     "output_type": "stream",
     "text": [
      "Test_Loader: 100%|██████████| 288/288 [00:29<00:00,  9.82it/s]\n"
     ]
    },
    {
     "name": "stdout",
     "output_type": "stream",
     "text": [
      "Loss1: 1.1049, Loss2: 0.3350, Loss3: 1.7099\n"
     ]
    },
    {
     "name": "stderr",
     "output_type": "stream",
     "text": [
      "Test_Loader: 100%|██████████| 288/288 [00:28<00:00, 10.28it/s]\n"
     ]
    },
    {
     "name": "stdout",
     "output_type": "stream",
     "text": [
      "Loss1: 1.0932, Loss2: 0.3328, Loss3: 1.6796\n"
     ]
    },
    {
     "name": "stderr",
     "output_type": "stream",
     "text": [
      "Test_Loader: 100%|██████████| 288/288 [00:28<00:00, 10.19it/s]\n"
     ]
    },
    {
     "name": "stdout",
     "output_type": "stream",
     "text": [
      "Loss1: 1.1283, Loss2: 0.3514, Loss3: 1.7093\n"
     ]
    },
    {
     "name": "stderr",
     "output_type": "stream",
     "text": [
      "Test_Loader: 100%|██████████| 288/288 [00:29<00:00,  9.82it/s]\n"
     ]
    },
    {
     "name": "stdout",
     "output_type": "stream",
     "text": [
      "Loss1: 1.1170, Loss2: 0.3495, Loss3: 1.6849\n"
     ]
    },
    {
     "name": "stderr",
     "output_type": "stream",
     "text": [
      "Test_Loader: 100%|██████████| 288/288 [00:28<00:00,  9.95it/s]\n"
     ]
    },
    {
     "name": "stdout",
     "output_type": "stream",
     "text": [
      "Loss1: 1.1210, Loss2: 0.3508, Loss3: 1.6793\n"
     ]
    },
    {
     "name": "stderr",
     "output_type": "stream",
     "text": [
      "Test_Loader: 100%|██████████| 288/288 [00:28<00:00, 10.02it/s]\n"
     ]
    },
    {
     "name": "stdout",
     "output_type": "stream",
     "text": [
      "Loss1: 1.1035, Loss2: 0.3498, Loss3: 1.6492\n"
     ]
    },
    {
     "name": "stderr",
     "output_type": "stream",
     "text": [
      "Test_Loader: 100%|██████████| 288/288 [00:28<00:00, 10.13it/s]\n"
     ]
    },
    {
     "name": "stdout",
     "output_type": "stream",
     "text": [
      "Loss1: 1.0934, Loss2: 0.3454, Loss3: 1.6518\n"
     ]
    },
    {
     "name": "stderr",
     "output_type": "stream",
     "text": [
      "Test_Loader: 100%|██████████| 288/288 [00:28<00:00, 10.13it/s]\n"
     ]
    },
    {
     "name": "stdout",
     "output_type": "stream",
     "text": [
      "Loss1: 1.1003, Loss2: 0.3490, Loss3: 1.6278\n"
     ]
    },
    {
     "name": "stderr",
     "output_type": "stream",
     "text": [
      "Test_Loader: 100%|██████████| 288/288 [00:28<00:00, 10.04it/s]\n"
     ]
    },
    {
     "name": "stdout",
     "output_type": "stream",
     "text": [
      "Loss1: 1.0995, Loss2: 0.3476, Loss3: 1.6233\n"
     ]
    },
    {
     "name": "stderr",
     "output_type": "stream",
     "text": [
      "Test_Loader: 100%|██████████| 288/288 [00:28<00:00, 10.06it/s]\n"
     ]
    },
    {
     "name": "stdout",
     "output_type": "stream",
     "text": [
      "Loss1: 1.0890, Loss2: 0.3459, Loss3: 1.6062\n"
     ]
    },
    {
     "name": "stderr",
     "output_type": "stream",
     "text": [
      "Test_Loader: 100%|██████████| 288/288 [00:28<00:00, 10.05it/s]\n"
     ]
    },
    {
     "name": "stdout",
     "output_type": "stream",
     "text": [
      "Loss1: 1.0873, Loss2: 0.3457, Loss3: 1.6280\n"
     ]
    },
    {
     "name": "stderr",
     "output_type": "stream",
     "text": [
      "Test_Loader: 100%|██████████| 288/288 [00:29<00:00,  9.82it/s]\n"
     ]
    },
    {
     "name": "stdout",
     "output_type": "stream",
     "text": [
      "Loss1: 1.1694, Loss2: 0.3685, Loss3: 1.6889\n"
     ]
    },
    {
     "name": "stderr",
     "output_type": "stream",
     "text": [
      "Test_Loader: 100%|██████████| 288/288 [00:29<00:00,  9.86it/s]\n"
     ]
    },
    {
     "name": "stdout",
     "output_type": "stream",
     "text": [
      "Loss1: 1.1635, Loss2: 0.3665, Loss3: 1.6664\n"
     ]
    },
    {
     "name": "stderr",
     "output_type": "stream",
     "text": [
      "Test_Loader: 100%|██████████| 288/288 [00:28<00:00, 10.05it/s]\n"
     ]
    },
    {
     "name": "stdout",
     "output_type": "stream",
     "text": [
      "Loss1: 1.1727, Loss2: 0.3728, Loss3: 1.6767\n"
     ]
    },
    {
     "name": "stderr",
     "output_type": "stream",
     "text": [
      "Test_Loader: 100%|██████████| 288/288 [00:27<00:00, 10.47it/s]\n"
     ]
    },
    {
     "name": "stdout",
     "output_type": "stream",
     "text": [
      "Loss1: 1.1659, Loss2: 0.3667, Loss3: 1.6608\n"
     ]
    },
    {
     "name": "stderr",
     "output_type": "stream",
     "text": [
      "Test_Loader: 100%|██████████| 288/288 [00:28<00:00, 10.17it/s]\n"
     ]
    },
    {
     "name": "stdout",
     "output_type": "stream",
     "text": [
      "Loss1: 1.1729, Loss2: 0.3663, Loss3: 1.6678\n"
     ]
    },
    {
     "name": "stderr",
     "output_type": "stream",
     "text": [
      "Test_Loader: 100%|██████████| 288/288 [00:29<00:00,  9.64it/s]\n"
     ]
    },
    {
     "name": "stdout",
     "output_type": "stream",
     "text": [
      "Loss1: 1.1797, Loss2: 0.3738, Loss3: 1.6901\n"
     ]
    },
    {
     "name": "stderr",
     "output_type": "stream",
     "text": [
      "Test_Loader: 100%|██████████| 288/288 [00:29<00:00,  9.89it/s]\n"
     ]
    },
    {
     "name": "stdout",
     "output_type": "stream",
     "text": [
      "Loss1: 1.1663, Loss2: 0.3692, Loss3: 1.6883\n"
     ]
    },
    {
     "name": "stderr",
     "output_type": "stream",
     "text": [
      "Test_Loader: 100%|██████████| 288/288 [00:28<00:00, 10.23it/s]\n"
     ]
    },
    {
     "name": "stdout",
     "output_type": "stream",
     "text": [
      "Loss1: 1.1627, Loss2: 0.3663, Loss3: 1.6578\n"
     ]
    },
    {
     "name": "stderr",
     "output_type": "stream",
     "text": [
      "Test_Loader: 100%|██████████| 288/288 [00:28<00:00, 10.22it/s]\n"
     ]
    },
    {
     "name": "stdout",
     "output_type": "stream",
     "text": [
      "Loss1: 1.1611, Loss2: 0.3671, Loss3: 1.6662\n"
     ]
    },
    {
     "name": "stderr",
     "output_type": "stream",
     "text": [
      "Test_Loader: 100%|██████████| 288/288 [00:28<00:00, 10.18it/s]\n"
     ]
    },
    {
     "name": "stdout",
     "output_type": "stream",
     "text": [
      "Loss1: 1.1340, Loss2: 0.3584, Loss3: 1.5957\n"
     ]
    },
    {
     "name": "stderr",
     "output_type": "stream",
     "text": [
      "Test_Loader: 100%|██████████| 288/288 [00:28<00:00, 10.10it/s]\n"
     ]
    },
    {
     "name": "stdout",
     "output_type": "stream",
     "text": [
      "Loss1: 1.1097, Loss2: 0.3505, Loss3: 1.5726\n"
     ]
    },
    {
     "name": "stderr",
     "output_type": "stream",
     "text": [
      "Test_Loader: 100%|██████████| 288/288 [00:28<00:00, 10.00it/s]\n"
     ]
    },
    {
     "name": "stdout",
     "output_type": "stream",
     "text": [
      "Loss1: 1.1052, Loss2: 0.3474, Loss3: 1.5685\n"
     ]
    },
    {
     "name": "stderr",
     "output_type": "stream",
     "text": [
      "Test_Loader: 100%|██████████| 288/288 [00:29<00:00,  9.77it/s]\n"
     ]
    },
    {
     "name": "stdout",
     "output_type": "stream",
     "text": [
      "Loss1: 1.0935, Loss2: 0.3422, Loss3: 1.5411\n"
     ]
    },
    {
     "name": "stderr",
     "output_type": "stream",
     "text": [
      "Test_Loader: 100%|██████████| 288/288 [00:29<00:00,  9.80it/s]\n"
     ]
    },
    {
     "name": "stdout",
     "output_type": "stream",
     "text": [
      "Loss1: 1.0910, Loss2: 0.3426, Loss3: 1.5431\n"
     ]
    },
    {
     "name": "stderr",
     "output_type": "stream",
     "text": [
      "Test_Loader: 100%|██████████| 288/288 [00:29<00:00,  9.79it/s]\n"
     ]
    },
    {
     "name": "stdout",
     "output_type": "stream",
     "text": [
      "Loss1: 1.0801, Loss2: 0.3441, Loss3: 1.5286\n"
     ]
    },
    {
     "name": "stderr",
     "output_type": "stream",
     "text": [
      "Test_Loader: 100%|██████████| 288/288 [00:28<00:00, 10.15it/s]\n"
     ]
    },
    {
     "name": "stdout",
     "output_type": "stream",
     "text": [
      "Loss1: 1.0718, Loss2: 0.3395, Loss3: 1.5092\n"
     ]
    },
    {
     "name": "stderr",
     "output_type": "stream",
     "text": [
      "Test_Loader: 100%|██████████| 288/288 [00:28<00:00, 10.20it/s]\n"
     ]
    },
    {
     "name": "stdout",
     "output_type": "stream",
     "text": [
      "Loss1: 1.1025, Loss2: 0.3536, Loss3: 1.5868\n"
     ]
    },
    {
     "name": "stderr",
     "output_type": "stream",
     "text": [
      "Test_Loader: 100%|██████████| 288/288 [00:29<00:00,  9.91it/s]\n"
     ]
    },
    {
     "name": "stdout",
     "output_type": "stream",
     "text": [
      "Loss1: 1.0996, Loss2: 0.3539, Loss3: 1.5865\n"
     ]
    },
    {
     "name": "stderr",
     "output_type": "stream",
     "text": [
      "Test_Loader: 100%|██████████| 288/288 [00:28<00:00,  9.95it/s]\n"
     ]
    },
    {
     "name": "stdout",
     "output_type": "stream",
     "text": [
      "Loss1: 1.1079, Loss2: 0.3493, Loss3: 1.5770\n"
     ]
    },
    {
     "name": "stderr",
     "output_type": "stream",
     "text": [
      "Test_Loader: 100%|██████████| 288/288 [00:28<00:00, 10.13it/s]\n"
     ]
    },
    {
     "name": "stdout",
     "output_type": "stream",
     "text": [
      "Loss1: 1.0875, Loss2: 0.3436, Loss3: 1.5478\n"
     ]
    },
    {
     "name": "stderr",
     "output_type": "stream",
     "text": [
      "Test_Loader: 100%|██████████| 288/288 [00:28<00:00, 10.08it/s]\n"
     ]
    },
    {
     "name": "stdout",
     "output_type": "stream",
     "text": [
      "Loss1: 1.0720, Loss2: 0.3368, Loss3: 1.5255\n"
     ]
    },
    {
     "name": "stderr",
     "output_type": "stream",
     "text": [
      "Test_Loader: 100%|██████████| 288/288 [00:28<00:00,  9.96it/s]\n"
     ]
    },
    {
     "name": "stdout",
     "output_type": "stream",
     "text": [
      "Loss1: 1.0818, Loss2: 0.3383, Loss3: 1.5204\n"
     ]
    },
    {
     "name": "stderr",
     "output_type": "stream",
     "text": [
      "Test_Loader: 100%|██████████| 288/288 [00:29<00:00,  9.90it/s]\n"
     ]
    },
    {
     "name": "stdout",
     "output_type": "stream",
     "text": [
      "Loss1: 1.0653, Loss2: 0.3339, Loss3: 1.5098\n"
     ]
    },
    {
     "name": "stderr",
     "output_type": "stream",
     "text": [
      "Test_Loader: 100%|██████████| 288/288 [00:29<00:00,  9.91it/s]\n"
     ]
    },
    {
     "name": "stdout",
     "output_type": "stream",
     "text": [
      "Loss1: 1.0611, Loss2: 0.3365, Loss3: 1.4878\n"
     ]
    },
    {
     "name": "stderr",
     "output_type": "stream",
     "text": [
      "Test_Loader: 100%|██████████| 288/288 [00:29<00:00,  9.74it/s]\n"
     ]
    },
    {
     "name": "stdout",
     "output_type": "stream",
     "text": [
      "Loss1: 1.0598, Loss2: 0.3262, Loss3: 1.4858\n"
     ]
    },
    {
     "name": "stderr",
     "output_type": "stream",
     "text": [
      "Test_Loader: 100%|██████████| 288/288 [00:29<00:00,  9.82it/s]\n"
     ]
    },
    {
     "name": "stdout",
     "output_type": "stream",
     "text": [
      "Loss1: 1.0553, Loss2: 0.3222, Loss3: 1.4662\n"
     ]
    },
    {
     "name": "stderr",
     "output_type": "stream",
     "text": [
      "Test_Loader: 100%|██████████| 288/288 [00:28<00:00, 10.12it/s]\n"
     ]
    },
    {
     "name": "stdout",
     "output_type": "stream",
     "text": [
      "Loss1: 1.0480, Loss2: 0.3212, Loss3: 1.4687\n"
     ]
    },
    {
     "name": "stderr",
     "output_type": "stream",
     "text": [
      "Test_Loader: 100%|██████████| 288/288 [00:27<00:00, 10.45it/s]\n"
     ]
    },
    {
     "name": "stdout",
     "output_type": "stream",
     "text": [
      "Loss1: 1.0408, Loss2: 0.3188, Loss3: 1.4694\n"
     ]
    },
    {
     "name": "stderr",
     "output_type": "stream",
     "text": [
      "Test_Loader: 100%|██████████| 288/288 [00:27<00:00, 10.45it/s]\n"
     ]
    },
    {
     "name": "stdout",
     "output_type": "stream",
     "text": [
      "Loss1: 1.0451, Loss2: 0.3221, Loss3: 1.4727\n"
     ]
    },
    {
     "name": "stderr",
     "output_type": "stream",
     "text": [
      "Test_Loader: 100%|██████████| 288/288 [00:28<00:00, 10.18it/s]\n"
     ]
    },
    {
     "name": "stdout",
     "output_type": "stream",
     "text": [
      "Loss1: 1.0402, Loss2: 0.3208, Loss3: 1.4718\n"
     ]
    },
    {
     "name": "stderr",
     "output_type": "stream",
     "text": [
      "Test_Loader: 100%|██████████| 288/288 [00:29<00:00,  9.80it/s]\n"
     ]
    },
    {
     "name": "stdout",
     "output_type": "stream",
     "text": [
      "Loss1: 0.9882, Loss2: 0.3170, Loss3: 1.4126\n"
     ]
    },
    {
     "name": "stderr",
     "output_type": "stream",
     "text": [
      "Test_Loader: 100%|██████████| 288/288 [00:28<00:00, 10.10it/s]\n"
     ]
    },
    {
     "name": "stdout",
     "output_type": "stream",
     "text": [
      "Loss1: 0.9817, Loss2: 0.3129, Loss3: 1.3680\n"
     ]
    },
    {
     "name": "stderr",
     "output_type": "stream",
     "text": [
      "Test_Loader: 100%|██████████| 288/288 [00:28<00:00, 10.22it/s]\n"
     ]
    },
    {
     "name": "stdout",
     "output_type": "stream",
     "text": [
      "Loss1: 0.8295, Loss2: 0.2891, Loss3: 1.2015\n"
     ]
    },
    {
     "name": "stderr",
     "output_type": "stream",
     "text": [
      "Test_Loader: 100%|██████████| 288/288 [00:28<00:00, 10.00it/s]\n"
     ]
    },
    {
     "name": "stdout",
     "output_type": "stream",
     "text": [
      "Loss1: 0.8364, Loss2: 0.2878, Loss3: 1.1891\n"
     ]
    },
    {
     "name": "stderr",
     "output_type": "stream",
     "text": [
      "Test_Loader: 100%|██████████| 288/288 [00:28<00:00, 10.06it/s]\n"
     ]
    },
    {
     "name": "stdout",
     "output_type": "stream",
     "text": [
      "Loss1: 0.8355, Loss2: 0.2874, Loss3: 1.1869\n"
     ]
    },
    {
     "name": "stderr",
     "output_type": "stream",
     "text": [
      "Test_Loader: 100%|██████████| 288/288 [00:29<00:00,  9.76it/s]\n"
     ]
    },
    {
     "name": "stdout",
     "output_type": "stream",
     "text": [
      "Loss1: 0.8124, Loss2: 0.2852, Loss3: 1.1825\n"
     ]
    },
    {
     "name": "stderr",
     "output_type": "stream",
     "text": [
      "Test_Loader: 100%|██████████| 288/288 [00:29<00:00,  9.93it/s]\n"
     ]
    },
    {
     "name": "stdout",
     "output_type": "stream",
     "text": [
      "Loss1: 0.8054, Loss2: 0.2833, Loss3: 1.1640\n"
     ]
    },
    {
     "name": "stderr",
     "output_type": "stream",
     "text": [
      "Test_Loader: 100%|██████████| 288/288 [00:28<00:00, 10.02it/s]\n"
     ]
    },
    {
     "name": "stdout",
     "output_type": "stream",
     "text": [
      "Loss1: 0.8044, Loss2: 0.2855, Loss3: 1.1642\n"
     ]
    },
    {
     "name": "stderr",
     "output_type": "stream",
     "text": [
      "Test_Loader: 100%|██████████| 288/288 [00:28<00:00,  9.95it/s]\n"
     ]
    },
    {
     "name": "stdout",
     "output_type": "stream",
     "text": [
      "Loss1: 0.7987, Loss2: 0.2832, Loss3: 1.1611\n"
     ]
    },
    {
     "name": "stderr",
     "output_type": "stream",
     "text": [
      "Test_Loader: 100%|██████████| 288/288 [00:28<00:00, 10.06it/s]\n"
     ]
    },
    {
     "name": "stdout",
     "output_type": "stream",
     "text": [
      "Loss1: 0.8057, Loss2: 0.2808, Loss3: 1.1588\n"
     ]
    },
    {
     "name": "stderr",
     "output_type": "stream",
     "text": [
      "Test_Loader: 100%|██████████| 288/288 [00:27<00:00, 10.36it/s]\n"
     ]
    },
    {
     "name": "stdout",
     "output_type": "stream",
     "text": [
      "Loss1: 0.8042, Loss2: 0.2812, Loss3: 1.1528\n"
     ]
    },
    {
     "name": "stderr",
     "output_type": "stream",
     "text": [
      "Test_Loader: 100%|██████████| 288/288 [00:27<00:00, 10.54it/s]\n"
     ]
    },
    {
     "name": "stdout",
     "output_type": "stream",
     "text": [
      "Loss1: 0.7975, Loss2: 0.2772, Loss3: 1.1348\n"
     ]
    },
    {
     "name": "stderr",
     "output_type": "stream",
     "text": [
      "Test_Loader: 100%|██████████| 288/288 [00:28<00:00, 10.15it/s]\n"
     ]
    },
    {
     "name": "stdout",
     "output_type": "stream",
     "text": [
      "Loss1: 0.8021, Loss2: 0.2778, Loss3: 1.1406\n"
     ]
    },
    {
     "name": "stderr",
     "output_type": "stream",
     "text": [
      "Test_Loader: 100%|██████████| 288/288 [00:29<00:00,  9.88it/s]\n"
     ]
    },
    {
     "name": "stdout",
     "output_type": "stream",
     "text": [
      "Loss1: 0.8110, Loss2: 0.2853, Loss3: 1.1473\n"
     ]
    },
    {
     "name": "stderr",
     "output_type": "stream",
     "text": [
      "Test_Loader: 100%|██████████| 288/288 [00:29<00:00,  9.75it/s]\n"
     ]
    },
    {
     "name": "stdout",
     "output_type": "stream",
     "text": [
      "Loss1: 0.8019, Loss2: 0.2814, Loss3: 1.1398\n"
     ]
    },
    {
     "name": "stderr",
     "output_type": "stream",
     "text": [
      "Test_Loader: 100%|██████████| 288/288 [00:28<00:00,  9.97it/s]\n"
     ]
    },
    {
     "name": "stdout",
     "output_type": "stream",
     "text": [
      "Loss1: 0.8049, Loss2: 0.2803, Loss3: 1.1406\n"
     ]
    },
    {
     "name": "stderr",
     "output_type": "stream",
     "text": [
      "Test_Loader: 100%|██████████| 288/288 [00:30<00:00,  9.55it/s]\n"
     ]
    },
    {
     "name": "stdout",
     "output_type": "stream",
     "text": [
      "Loss1: 0.7994, Loss2: 0.2773, Loss3: 1.1408\n"
     ]
    },
    {
     "name": "stderr",
     "output_type": "stream",
     "text": [
      "Test_Loader: 100%|██████████| 288/288 [00:29<00:00,  9.76it/s]\n"
     ]
    },
    {
     "name": "stdout",
     "output_type": "stream",
     "text": [
      "Loss1: 0.8059, Loss2: 0.2810, Loss3: 1.1502\n"
     ]
    },
    {
     "name": "stderr",
     "output_type": "stream",
     "text": [
      "Test_Loader: 100%|██████████| 288/288 [00:29<00:00,  9.66it/s]\n"
     ]
    },
    {
     "name": "stdout",
     "output_type": "stream",
     "text": [
      "Loss1: 0.7938, Loss2: 0.2774, Loss3: 1.1356\n"
     ]
    },
    {
     "name": "stderr",
     "output_type": "stream",
     "text": [
      "Test_Loader: 100%|██████████| 288/288 [00:29<00:00,  9.72it/s]\n"
     ]
    },
    {
     "name": "stdout",
     "output_type": "stream",
     "text": [
      "Loss1: 0.7971, Loss2: 0.2823, Loss3: 1.1425\n"
     ]
    },
    {
     "name": "stderr",
     "output_type": "stream",
     "text": [
      "Test_Loader: 100%|██████████| 288/288 [00:29<00:00,  9.74it/s]\n"
     ]
    },
    {
     "name": "stdout",
     "output_type": "stream",
     "text": [
      "Loss1: 0.7846, Loss2: 0.2800, Loss3: 1.1399\n"
     ]
    },
    {
     "name": "stderr",
     "output_type": "stream",
     "text": [
      "Test_Loader: 100%|██████████| 288/288 [00:29<00:00,  9.66it/s]\n"
     ]
    },
    {
     "name": "stdout",
     "output_type": "stream",
     "text": [
      "Loss1: 0.7849, Loss2: 0.2804, Loss3: 1.1441\n"
     ]
    },
    {
     "name": "stderr",
     "output_type": "stream",
     "text": [
      "Test_Loader: 100%|██████████| 288/288 [00:29<00:00,  9.78it/s]\n"
     ]
    },
    {
     "name": "stdout",
     "output_type": "stream",
     "text": [
      "Loss1: 0.7820, Loss2: 0.2795, Loss3: 1.1558\n"
     ]
    },
    {
     "name": "stderr",
     "output_type": "stream",
     "text": [
      "Test_Loader: 100%|██████████| 288/288 [00:27<00:00, 10.32it/s]\n"
     ]
    },
    {
     "name": "stdout",
     "output_type": "stream",
     "text": [
      "Loss1: 0.7588, Loss2: 0.2575, Loss3: 1.0754\n"
     ]
    },
    {
     "name": "stderr",
     "output_type": "stream",
     "text": [
      "Test_Loader: 100%|██████████| 288/288 [00:29<00:00,  9.63it/s]\n"
     ]
    },
    {
     "name": "stdout",
     "output_type": "stream",
     "text": [
      "Loss1: 0.7312, Loss2: 0.2576, Loss3: 1.0530\n"
     ]
    },
    {
     "name": "stderr",
     "output_type": "stream",
     "text": [
      "Test_Loader: 100%|██████████| 288/288 [00:31<00:00,  9.23it/s]\n"
     ]
    },
    {
     "name": "stdout",
     "output_type": "stream",
     "text": [
      "Loss1: 0.7368, Loss2: 0.2652, Loss3: 1.0795\n"
     ]
    },
    {
     "name": "stderr",
     "output_type": "stream",
     "text": [
      "Test_Loader: 100%|██████████| 288/288 [00:29<00:00,  9.82it/s]\n"
     ]
    },
    {
     "name": "stdout",
     "output_type": "stream",
     "text": [
      "Loss1: 0.8574, Loss2: 0.3266, Loss3: 1.2124\n"
     ]
    },
    {
     "name": "stderr",
     "output_type": "stream",
     "text": [
      "Test_Loader: 100%|██████████| 288/288 [00:27<00:00, 10.30it/s]\n"
     ]
    },
    {
     "name": "stdout",
     "output_type": "stream",
     "text": [
      "Loss1: 0.8465, Loss2: 0.3226, Loss3: 1.1909\n"
     ]
    },
    {
     "name": "stderr",
     "output_type": "stream",
     "text": [
      "Test_Loader: 100%|██████████| 288/288 [00:30<00:00,  9.56it/s]\n"
     ]
    },
    {
     "name": "stdout",
     "output_type": "stream",
     "text": [
      "Loss1: 0.8224, Loss2: 0.3125, Loss3: 1.1768\n"
     ]
    },
    {
     "name": "stderr",
     "output_type": "stream",
     "text": [
      "Test_Loader: 100%|██████████| 288/288 [00:29<00:00,  9.67it/s]\n"
     ]
    },
    {
     "name": "stdout",
     "output_type": "stream",
     "text": [
      "Loss1: 0.8252, Loss2: 0.3126, Loss3: 1.1693\n"
     ]
    },
    {
     "name": "stderr",
     "output_type": "stream",
     "text": [
      "Test_Loader: 100%|██████████| 288/288 [00:30<00:00,  9.54it/s]\n"
     ]
    },
    {
     "name": "stdout",
     "output_type": "stream",
     "text": [
      "Loss1: 0.7998, Loss2: 0.3072, Loss3: 1.1591\n"
     ]
    },
    {
     "name": "stderr",
     "output_type": "stream",
     "text": [
      "Test_Loader: 100%|██████████| 288/288 [00:29<00:00,  9.82it/s]\n"
     ]
    },
    {
     "name": "stdout",
     "output_type": "stream",
     "text": [
      "Loss1: 0.9445, Loss2: 0.4086, Loss3: 1.6538\n"
     ]
    },
    {
     "name": "stderr",
     "output_type": "stream",
     "text": [
      "Test_Loader: 100%|██████████| 288/288 [00:30<00:00,  9.44it/s]\n"
     ]
    },
    {
     "name": "stdout",
     "output_type": "stream",
     "text": [
      "Loss1: 0.9608, Loss2: 0.4048, Loss3: 1.6630\n"
     ]
    },
    {
     "name": "stderr",
     "output_type": "stream",
     "text": [
      "Test_Loader: 100%|██████████| 288/288 [00:30<00:00,  9.46it/s]\n"
     ]
    },
    {
     "name": "stdout",
     "output_type": "stream",
     "text": [
      "Loss1: 0.9927, Loss2: 0.4354, Loss3: 1.6634\n"
     ]
    },
    {
     "name": "stderr",
     "output_type": "stream",
     "text": [
      "Test_Loader: 100%|██████████| 288/288 [00:30<00:00,  9.56it/s]\n"
     ]
    },
    {
     "name": "stdout",
     "output_type": "stream",
     "text": [
      "Loss1: 0.9892, Loss2: 0.4260, Loss3: 1.6398\n"
     ]
    },
    {
     "name": "stderr",
     "output_type": "stream",
     "text": [
      "Test_Loader: 100%|██████████| 288/288 [00:28<00:00, 10.21it/s]\n"
     ]
    },
    {
     "name": "stdout",
     "output_type": "stream",
     "text": [
      "Loss1: 0.9779, Loss2: 0.4237, Loss3: 1.6403\n"
     ]
    },
    {
     "name": "stderr",
     "output_type": "stream",
     "text": [
      "Test_Loader: 100%|██████████| 288/288 [00:29<00:00,  9.69it/s]\n"
     ]
    },
    {
     "name": "stdout",
     "output_type": "stream",
     "text": [
      "Loss1: 0.9925, Loss2: 0.4137, Loss3: 1.6160\n"
     ]
    },
    {
     "name": "stderr",
     "output_type": "stream",
     "text": [
      "Test_Loader: 100%|██████████| 288/288 [00:29<00:00,  9.93it/s]\n"
     ]
    },
    {
     "name": "stdout",
     "output_type": "stream",
     "text": [
      "Loss1: 1.2473, Loss2: 0.4360, Loss3: 2.0388\n"
     ]
    },
    {
     "name": "stderr",
     "output_type": "stream",
     "text": [
      "Test_Loader: 100%|██████████| 288/288 [00:28<00:00, 10.04it/s]\n"
     ]
    },
    {
     "name": "stdout",
     "output_type": "stream",
     "text": [
      "Loss1: 1.1948, Loss2: 0.4142, Loss3: 1.9429\n"
     ]
    },
    {
     "name": "stderr",
     "output_type": "stream",
     "text": [
      "Test_Loader: 100%|██████████| 288/288 [00:29<00:00,  9.81it/s]\n"
     ]
    },
    {
     "name": "stdout",
     "output_type": "stream",
     "text": [
      "Loss1: 1.1795, Loss2: 0.4145, Loss3: 1.9357\n"
     ]
    },
    {
     "name": "stderr",
     "output_type": "stream",
     "text": [
      "Test_Loader: 100%|██████████| 288/288 [00:29<00:00,  9.76it/s]\n"
     ]
    },
    {
     "name": "stdout",
     "output_type": "stream",
     "text": [
      "Loss1: 1.1748, Loss2: 0.4071, Loss3: 1.9045\n"
     ]
    },
    {
     "name": "stderr",
     "output_type": "stream",
     "text": [
      "Test_Loader: 100%|██████████| 288/288 [00:29<00:00,  9.69it/s]\n"
     ]
    },
    {
     "name": "stdout",
     "output_type": "stream",
     "text": [
      "Loss1: 1.1466, Loss2: 0.4044, Loss3: 1.8566\n"
     ]
    },
    {
     "name": "stderr",
     "output_type": "stream",
     "text": [
      "Test_Loader: 100%|██████████| 288/288 [00:29<00:00,  9.65it/s]\n"
     ]
    },
    {
     "name": "stdout",
     "output_type": "stream",
     "text": [
      "Loss1: 1.1932, Loss2: 0.4162, Loss3: 1.9482\n"
     ]
    },
    {
     "name": "stderr",
     "output_type": "stream",
     "text": [
      "Test_Loader: 100%|██████████| 288/288 [00:29<00:00,  9.64it/s]\n"
     ]
    },
    {
     "name": "stdout",
     "output_type": "stream",
     "text": [
      "Loss1: 1.1476, Loss2: 0.4037, Loss3: 1.9735\n"
     ]
    },
    {
     "name": "stderr",
     "output_type": "stream",
     "text": [
      "Test_Loader: 100%|██████████| 288/288 [00:30<00:00,  9.43it/s]\n"
     ]
    },
    {
     "name": "stdout",
     "output_type": "stream",
     "text": [
      "Loss1: 1.1631, Loss2: 0.4012, Loss3: 1.9540\n"
     ]
    },
    {
     "name": "stderr",
     "output_type": "stream",
     "text": [
      "Test_Loader: 100%|██████████| 288/288 [00:30<00:00,  9.46it/s]\n"
     ]
    },
    {
     "name": "stdout",
     "output_type": "stream",
     "text": [
      "Loss1: 1.1463, Loss2: 0.4021, Loss3: 1.9432\n"
     ]
    },
    {
     "name": "stderr",
     "output_type": "stream",
     "text": [
      "Test_Loader: 100%|██████████| 288/288 [00:36<00:00,  7.95it/s]\n"
     ]
    },
    {
     "name": "stdout",
     "output_type": "stream",
     "text": [
      "Loss1: 1.1350, Loss2: 0.3949, Loss3: 1.9111\n"
     ]
    },
    {
     "name": "stderr",
     "output_type": "stream",
     "text": [
      "Test_Loader: 100%|██████████| 288/288 [00:28<00:00, 10.02it/s]\n"
     ]
    },
    {
     "name": "stdout",
     "output_type": "stream",
     "text": [
      "Loss1: 1.1402, Loss2: 0.3968, Loss3: 1.8924\n"
     ]
    },
    {
     "name": "stderr",
     "output_type": "stream",
     "text": [
      "Test_Loader: 100%|██████████| 288/288 [00:29<00:00,  9.69it/s]\n"
     ]
    },
    {
     "name": "stdout",
     "output_type": "stream",
     "text": [
      "Loss1: 1.1440, Loss2: 0.3862, Loss3: 1.8565\n"
     ]
    },
    {
     "name": "stderr",
     "output_type": "stream",
     "text": [
      "Test_Loader: 100%|██████████| 288/288 [00:30<00:00,  9.32it/s]\n"
     ]
    },
    {
     "name": "stdout",
     "output_type": "stream",
     "text": [
      "Loss1: 1.1198, Loss2: 0.3866, Loss3: 1.8603\n"
     ]
    },
    {
     "name": "stderr",
     "output_type": "stream",
     "text": [
      "Test_Loader: 100%|██████████| 288/288 [00:30<00:00,  9.58it/s]\n"
     ]
    },
    {
     "name": "stdout",
     "output_type": "stream",
     "text": [
      "Loss1: 1.1142, Loss2: 0.3840, Loss3: 1.8333\n"
     ]
    },
    {
     "name": "stderr",
     "output_type": "stream",
     "text": [
      "Test_Loader: 100%|██████████| 288/288 [00:29<00:00,  9.77it/s]\n"
     ]
    },
    {
     "name": "stdout",
     "output_type": "stream",
     "text": [
      "Loss1: 1.0793, Loss2: 0.3783, Loss3: 1.7940\n"
     ]
    },
    {
     "name": "stderr",
     "output_type": "stream",
     "text": [
      "Test_Loader: 100%|██████████| 288/288 [00:30<00:00,  9.40it/s]\n"
     ]
    },
    {
     "name": "stdout",
     "output_type": "stream",
     "text": [
      "Loss1: 1.0776, Loss2: 0.3709, Loss3: 1.7543\n"
     ]
    },
    {
     "name": "stderr",
     "output_type": "stream",
     "text": [
      "Test_Loader: 100%|██████████| 288/288 [00:31<00:00,  9.28it/s]\n"
     ]
    },
    {
     "name": "stdout",
     "output_type": "stream",
     "text": [
      "Loss1: 1.0397, Loss2: 0.3577, Loss3: 1.6542\n"
     ]
    },
    {
     "name": "stderr",
     "output_type": "stream",
     "text": [
      "Test_Loader: 100%|██████████| 288/288 [00:30<00:00,  9.49it/s]\n"
     ]
    },
    {
     "name": "stdout",
     "output_type": "stream",
     "text": [
      "Loss1: 1.0326, Loss2: 0.3548, Loss3: 1.6327\n"
     ]
    },
    {
     "name": "stderr",
     "output_type": "stream",
     "text": [
      "Test_Loader: 100%|██████████| 288/288 [00:28<00:00, 10.15it/s]\n"
     ]
    },
    {
     "name": "stdout",
     "output_type": "stream",
     "text": [
      "Loss1: 1.0309, Loss2: 0.3473, Loss3: 1.5807\n"
     ]
    },
    {
     "name": "stderr",
     "output_type": "stream",
     "text": [
      "Test_Loader: 100%|██████████| 288/288 [00:28<00:00, 10.10it/s]\n"
     ]
    },
    {
     "name": "stdout",
     "output_type": "stream",
     "text": [
      "Loss1: 1.0225, Loss2: 0.3568, Loss3: 1.6180\n"
     ]
    },
    {
     "name": "stderr",
     "output_type": "stream",
     "text": [
      "Test_Loader: 100%|██████████| 288/288 [00:28<00:00, 10.07it/s]\n"
     ]
    },
    {
     "name": "stdout",
     "output_type": "stream",
     "text": [
      "Loss1: 0.9972, Loss2: 0.3385, Loss3: 1.5501\n"
     ]
    },
    {
     "name": "stderr",
     "output_type": "stream",
     "text": [
      "Test_Loader: 100%|██████████| 288/288 [00:28<00:00, 10.07it/s]\n"
     ]
    },
    {
     "name": "stdout",
     "output_type": "stream",
     "text": [
      "Loss1: 0.9917, Loss2: 0.3355, Loss3: 1.5374\n"
     ]
    },
    {
     "name": "stderr",
     "output_type": "stream",
     "text": [
      "Test_Loader: 100%|██████████| 288/288 [00:28<00:00, 10.01it/s]\n"
     ]
    },
    {
     "name": "stdout",
     "output_type": "stream",
     "text": [
      "Loss1: 1.0154, Loss2: 0.3409, Loss3: 1.5850\n"
     ]
    },
    {
     "name": "stderr",
     "output_type": "stream",
     "text": [
      "Test_Loader: 100%|██████████| 288/288 [00:28<00:00,  9.97it/s]\n"
     ]
    },
    {
     "name": "stdout",
     "output_type": "stream",
     "text": [
      "Loss1: 1.0399, Loss2: 0.3531, Loss3: 1.6063\n"
     ]
    },
    {
     "name": "stderr",
     "output_type": "stream",
     "text": [
      "Test_Loader: 100%|██████████| 288/288 [00:31<00:00,  9.19it/s]\n"
     ]
    },
    {
     "name": "stdout",
     "output_type": "stream",
     "text": [
      "Loss1: 1.0405, Loss2: 0.3541, Loss3: 1.5917\n"
     ]
    },
    {
     "name": "stderr",
     "output_type": "stream",
     "text": [
      "Test_Loader: 100%|██████████| 288/288 [00:29<00:00,  9.61it/s]\n"
     ]
    },
    {
     "name": "stdout",
     "output_type": "stream",
     "text": [
      "Loss1: 1.0221, Loss2: 0.3566, Loss3: 1.6260\n"
     ]
    },
    {
     "name": "stderr",
     "output_type": "stream",
     "text": [
      "Test_Loader: 100%|██████████| 288/288 [00:28<00:00, 10.19it/s]\n"
     ]
    },
    {
     "name": "stdout",
     "output_type": "stream",
     "text": [
      "Loss1: 1.0329, Loss2: 0.3498, Loss3: 1.5992\n"
     ]
    },
    {
     "name": "stderr",
     "output_type": "stream",
     "text": [
      "Test_Loader: 100%|██████████| 288/288 [00:26<00:00, 10.98it/s]\n"
     ]
    },
    {
     "name": "stdout",
     "output_type": "stream",
     "text": [
      "Loss1: 1.0293, Loss2: 0.3453, Loss3: 1.5898\n"
     ]
    },
    {
     "name": "stderr",
     "output_type": "stream",
     "text": [
      "Test_Loader: 100%|██████████| 288/288 [00:29<00:00,  9.75it/s]\n"
     ]
    },
    {
     "name": "stdout",
     "output_type": "stream",
     "text": [
      "Loss1: 1.1227, Loss2: 0.3718, Loss3: 1.6378\n"
     ]
    },
    {
     "name": "stderr",
     "output_type": "stream",
     "text": [
      "Test_Loader: 100%|██████████| 288/288 [00:30<00:00,  9.38it/s]\n"
     ]
    },
    {
     "name": "stdout",
     "output_type": "stream",
     "text": [
      "Loss1: 1.0478, Loss2: 0.3515, Loss3: 1.5608\n"
     ]
    },
    {
     "name": "stderr",
     "output_type": "stream",
     "text": [
      "Test_Loader: 100%|██████████| 288/288 [00:30<00:00,  9.52it/s]\n"
     ]
    },
    {
     "name": "stdout",
     "output_type": "stream",
     "text": [
      "Loss1: 1.0423, Loss2: 0.3552, Loss3: 1.5762\n"
     ]
    },
    {
     "name": "stderr",
     "output_type": "stream",
     "text": [
      "Test_Loader: 100%|██████████| 288/288 [00:30<00:00,  9.59it/s]\n"
     ]
    },
    {
     "name": "stdout",
     "output_type": "stream",
     "text": [
      "Loss1: 1.0241, Loss2: 0.3455, Loss3: 1.5373\n"
     ]
    },
    {
     "name": "stderr",
     "output_type": "stream",
     "text": [
      "Test_Loader: 100%|██████████| 288/288 [00:31<00:00,  9.25it/s]\n"
     ]
    },
    {
     "name": "stdout",
     "output_type": "stream",
     "text": [
      "Loss1: 1.0304, Loss2: 0.3594, Loss3: 1.5710\n"
     ]
    },
    {
     "name": "stderr",
     "output_type": "stream",
     "text": [
      "Test_Loader: 100%|██████████| 288/288 [00:29<00:00,  9.66it/s]\n"
     ]
    },
    {
     "name": "stdout",
     "output_type": "stream",
     "text": [
      "Loss1: 1.0190, Loss2: 0.3492, Loss3: 1.5476\n"
     ]
    },
    {
     "name": "stderr",
     "output_type": "stream",
     "text": [
      "Test_Loader: 100%|██████████| 288/288 [00:28<00:00,  9.98it/s]\n"
     ]
    },
    {
     "name": "stdout",
     "output_type": "stream",
     "text": [
      "Loss1: 1.0022, Loss2: 0.3423, Loss3: 1.5221\n"
     ]
    },
    {
     "name": "stderr",
     "output_type": "stream",
     "text": [
      "Test_Loader: 100%|██████████| 288/288 [00:29<00:00,  9.82it/s]\n"
     ]
    },
    {
     "name": "stdout",
     "output_type": "stream",
     "text": [
      "Loss1: 1.0013, Loss2: 0.3412, Loss3: 1.5147\n"
     ]
    },
    {
     "name": "stderr",
     "output_type": "stream",
     "text": [
      "Test_Loader: 100%|██████████| 288/288 [00:29<00:00,  9.68it/s]\n"
     ]
    },
    {
     "name": "stdout",
     "output_type": "stream",
     "text": [
      "Loss1: 0.9973, Loss2: 0.3442, Loss3: 1.5455\n"
     ]
    },
    {
     "name": "stderr",
     "output_type": "stream",
     "text": [
      "Test_Loader: 100%|██████████| 288/288 [00:29<00:00,  9.70it/s]\n"
     ]
    },
    {
     "name": "stdout",
     "output_type": "stream",
     "text": [
      "Loss1: 0.9969, Loss2: 0.3336, Loss3: 1.4771\n"
     ]
    },
    {
     "name": "stderr",
     "output_type": "stream",
     "text": [
      "Test_Loader: 100%|██████████| 288/288 [00:28<00:00,  9.97it/s]\n"
     ]
    },
    {
     "name": "stdout",
     "output_type": "stream",
     "text": [
      "Loss1: 0.9945, Loss2: 0.3404, Loss3: 1.5090\n"
     ]
    },
    {
     "name": "stderr",
     "output_type": "stream",
     "text": [
      "Test_Loader: 100%|██████████| 288/288 [00:29<00:00,  9.64it/s]\n"
     ]
    },
    {
     "name": "stdout",
     "output_type": "stream",
     "text": [
      "Loss1: 0.9929, Loss2: 0.3340, Loss3: 1.4722\n"
     ]
    },
    {
     "name": "stderr",
     "output_type": "stream",
     "text": [
      "Test_Loader: 100%|██████████| 288/288 [00:28<00:00, 10.09it/s]\n"
     ]
    },
    {
     "name": "stdout",
     "output_type": "stream",
     "text": [
      "Loss1: 0.9910, Loss2: 0.3298, Loss3: 1.4502\n"
     ]
    },
    {
     "name": "stderr",
     "output_type": "stream",
     "text": [
      "Test_Loader: 100%|██████████| 288/288 [00:28<00:00,  9.98it/s]\n"
     ]
    },
    {
     "name": "stdout",
     "output_type": "stream",
     "text": [
      "Loss1: 0.9874, Loss2: 0.3335, Loss3: 1.4764\n"
     ]
    },
    {
     "name": "stderr",
     "output_type": "stream",
     "text": [
      "Test_Loader: 100%|██████████| 288/288 [00:28<00:00, 10.04it/s]\n"
     ]
    },
    {
     "name": "stdout",
     "output_type": "stream",
     "text": [
      "Loss1: 0.9759, Loss2: 0.3316, Loss3: 1.4645\n"
     ]
    },
    {
     "name": "stderr",
     "output_type": "stream",
     "text": [
      "Test_Loader: 100%|██████████| 288/288 [00:29<00:00,  9.84it/s]\n"
     ]
    },
    {
     "name": "stdout",
     "output_type": "stream",
     "text": [
      "Loss1: 0.9687, Loss2: 0.3272, Loss3: 1.4613\n"
     ]
    },
    {
     "name": "stderr",
     "output_type": "stream",
     "text": [
      "Test_Loader: 100%|██████████| 288/288 [00:28<00:00,  9.96it/s]\n"
     ]
    },
    {
     "name": "stdout",
     "output_type": "stream",
     "text": [
      "Loss1: 0.9609, Loss2: 0.3150, Loss3: 1.4176\n"
     ]
    },
    {
     "name": "stderr",
     "output_type": "stream",
     "text": [
      "Test_Loader: 100%|██████████| 288/288 [00:27<00:00, 10.30it/s]\n"
     ]
    },
    {
     "name": "stdout",
     "output_type": "stream",
     "text": [
      "Loss1: 0.9365, Loss2: 0.3079, Loss3: 1.3676\n"
     ]
    },
    {
     "name": "stderr",
     "output_type": "stream",
     "text": [
      "Test_Loader: 100%|██████████| 288/288 [00:29<00:00,  9.83it/s]\n"
     ]
    },
    {
     "name": "stdout",
     "output_type": "stream",
     "text": [
      "Loss1: 0.9374, Loss2: 0.2974, Loss3: 1.3372\n"
     ]
    },
    {
     "name": "stderr",
     "output_type": "stream",
     "text": [
      "Test_Loader: 100%|██████████| 288/288 [00:28<00:00, 10.03it/s]\n"
     ]
    },
    {
     "name": "stdout",
     "output_type": "stream",
     "text": [
      "Loss1: 0.9282, Loss2: 0.2991, Loss3: 1.3407\n"
     ]
    },
    {
     "name": "stderr",
     "output_type": "stream",
     "text": [
      "Test_Loader: 100%|██████████| 288/288 [00:29<00:00,  9.83it/s]\n"
     ]
    },
    {
     "name": "stdout",
     "output_type": "stream",
     "text": [
      "Loss1: 0.9135, Loss2: 0.2990, Loss3: 1.3363\n"
     ]
    },
    {
     "name": "stderr",
     "output_type": "stream",
     "text": [
      "Test_Loader: 100%|██████████| 288/288 [00:28<00:00, 10.11it/s]\n"
     ]
    },
    {
     "name": "stdout",
     "output_type": "stream",
     "text": [
      "Loss1: 0.9200, Loss2: 0.2959, Loss3: 1.3310\n"
     ]
    },
    {
     "name": "stderr",
     "output_type": "stream",
     "text": [
      "Test_Loader: 100%|██████████| 288/288 [00:29<00:00,  9.82it/s]\n"
     ]
    },
    {
     "name": "stdout",
     "output_type": "stream",
     "text": [
      "Loss1: 0.9159, Loss2: 0.2973, Loss3: 1.3129\n"
     ]
    },
    {
     "name": "stderr",
     "output_type": "stream",
     "text": [
      "Test_Loader: 100%|██████████| 288/288 [00:27<00:00, 10.38it/s]\n"
     ]
    },
    {
     "name": "stdout",
     "output_type": "stream",
     "text": [
      "Loss1: 0.9057, Loss2: 0.2997, Loss3: 1.3392\n"
     ]
    },
    {
     "name": "stderr",
     "output_type": "stream",
     "text": [
      "Test_Loader: 100%|██████████| 288/288 [00:29<00:00,  9.91it/s]\n"
     ]
    },
    {
     "name": "stdout",
     "output_type": "stream",
     "text": [
      "Loss1: 0.9212, Loss2: 0.2958, Loss3: 1.3146\n"
     ]
    },
    {
     "name": "stderr",
     "output_type": "stream",
     "text": [
      "Test_Loader: 100%|██████████| 288/288 [00:33<00:00,  8.72it/s]\n"
     ]
    },
    {
     "name": "stdout",
     "output_type": "stream",
     "text": [
      "Loss1: 0.9233, Loss2: 0.2998, Loss3: 1.3041\n"
     ]
    },
    {
     "name": "stderr",
     "output_type": "stream",
     "text": [
      "Test_Loader: 100%|██████████| 288/288 [00:31<00:00,  9.14it/s]\n"
     ]
    },
    {
     "name": "stdout",
     "output_type": "stream",
     "text": [
      "Loss1: 0.9219, Loss2: 0.2991, Loss3: 1.2988\n"
     ]
    },
    {
     "name": "stderr",
     "output_type": "stream",
     "text": [
      "Test_Loader: 100%|██████████| 288/288 [00:30<00:00,  9.29it/s]\n"
     ]
    },
    {
     "name": "stdout",
     "output_type": "stream",
     "text": [
      "Loss1: 0.9217, Loss2: 0.2950, Loss3: 1.2935\n"
     ]
    },
    {
     "name": "stderr",
     "output_type": "stream",
     "text": [
      "Test_Loader: 100%|██████████| 288/288 [00:31<00:00,  9.21it/s]\n"
     ]
    },
    {
     "name": "stdout",
     "output_type": "stream",
     "text": [
      "Loss1: 0.9262, Loss2: 0.2956, Loss3: 1.2991\n"
     ]
    },
    {
     "name": "stderr",
     "output_type": "stream",
     "text": [
      "Test_Loader: 100%|██████████| 288/288 [00:29<00:00,  9.69it/s]\n"
     ]
    },
    {
     "name": "stdout",
     "output_type": "stream",
     "text": [
      "Loss1: 0.9232, Loss2: 0.2896, Loss3: 1.2738\n"
     ]
    },
    {
     "name": "stderr",
     "output_type": "stream",
     "text": [
      "Test_Loader: 100%|██████████| 288/288 [00:28<00:00, 10.14it/s]\n"
     ]
    },
    {
     "name": "stdout",
     "output_type": "stream",
     "text": [
      "Loss1: 0.9230, Loss2: 0.2873, Loss3: 1.2638\n"
     ]
    },
    {
     "name": "stderr",
     "output_type": "stream",
     "text": [
      "Test_Loader: 100%|██████████| 288/288 [00:28<00:00,  9.99it/s]\n"
     ]
    },
    {
     "name": "stdout",
     "output_type": "stream",
     "text": [
      "Loss1: 0.9208, Loss2: 0.2888, Loss3: 1.2638\n"
     ]
    },
    {
     "name": "stderr",
     "output_type": "stream",
     "text": [
      "Test_Loader: 100%|██████████| 288/288 [00:29<00:00,  9.69it/s]\n"
     ]
    },
    {
     "name": "stdout",
     "output_type": "stream",
     "text": [
      "Loss1: 0.9213, Loss2: 0.2868, Loss3: 1.2601\n"
     ]
    },
    {
     "name": "stderr",
     "output_type": "stream",
     "text": [
      "Test_Loader: 100%|██████████| 288/288 [00:30<00:00,  9.47it/s]\n"
     ]
    },
    {
     "name": "stdout",
     "output_type": "stream",
     "text": [
      "Loss1: 0.9105, Loss2: 0.2854, Loss3: 1.2515\n"
     ]
    },
    {
     "name": "stderr",
     "output_type": "stream",
     "text": [
      "Test_Loader: 100%|██████████| 288/288 [00:28<00:00, 10.09it/s]\n"
     ]
    },
    {
     "name": "stdout",
     "output_type": "stream",
     "text": [
      "Loss1: 0.9101, Loss2: 0.2860, Loss3: 1.2589\n"
     ]
    },
    {
     "name": "stderr",
     "output_type": "stream",
     "text": [
      "Test_Loader: 100%|██████████| 288/288 [00:28<00:00, 10.23it/s]\n"
     ]
    },
    {
     "name": "stdout",
     "output_type": "stream",
     "text": [
      "Loss1: 0.9058, Loss2: 0.2854, Loss3: 1.2527\n"
     ]
    },
    {
     "name": "stderr",
     "output_type": "stream",
     "text": [
      "Test_Loader: 100%|██████████| 288/288 [00:29<00:00,  9.77it/s]\n"
     ]
    },
    {
     "name": "stdout",
     "output_type": "stream",
     "text": [
      "Loss1: 0.9043, Loss2: 0.2823, Loss3: 1.2385\n"
     ]
    },
    {
     "name": "stderr",
     "output_type": "stream",
     "text": [
      "Test_Loader: 100%|██████████| 288/288 [00:27<00:00, 10.43it/s]\n"
     ]
    },
    {
     "name": "stdout",
     "output_type": "stream",
     "text": [
      "Loss1: 0.9045, Loss2: 0.2811, Loss3: 1.2335\n"
     ]
    },
    {
     "name": "stderr",
     "output_type": "stream",
     "text": [
      "Test_Loader: 100%|██████████| 288/288 [00:29<00:00,  9.90it/s]\n"
     ]
    },
    {
     "name": "stdout",
     "output_type": "stream",
     "text": [
      "Loss1: 0.8989, Loss2: 0.2859, Loss3: 1.2206\n"
     ]
    },
    {
     "name": "stderr",
     "output_type": "stream",
     "text": [
      "Test_Loader: 100%|██████████| 288/288 [00:29<00:00,  9.80it/s]\n"
     ]
    },
    {
     "name": "stdout",
     "output_type": "stream",
     "text": [
      "Loss1: 0.9059, Loss2: 0.2805, Loss3: 1.2253\n"
     ]
    },
    {
     "name": "stderr",
     "output_type": "stream",
     "text": [
      "Test_Loader: 100%|██████████| 288/288 [00:30<00:00,  9.50it/s]\n"
     ]
    },
    {
     "name": "stdout",
     "output_type": "stream",
     "text": [
      "Loss1: 0.8979, Loss2: 0.2798, Loss3: 1.2044\n"
     ]
    },
    {
     "name": "stderr",
     "output_type": "stream",
     "text": [
      "Test_Loader: 100%|██████████| 288/288 [00:29<00:00,  9.72it/s]\n"
     ]
    },
    {
     "name": "stdout",
     "output_type": "stream",
     "text": [
      "Loss1: 0.8939, Loss2: 0.2716, Loss3: 1.1830\n"
     ]
    },
    {
     "name": "stderr",
     "output_type": "stream",
     "text": [
      "Test_Loader: 100%|██████████| 288/288 [00:29<00:00,  9.88it/s]\n"
     ]
    },
    {
     "name": "stdout",
     "output_type": "stream",
     "text": [
      "Loss1: 1.1183, Loss2: 0.2743, Loss3: 1.1913\n"
     ]
    },
    {
     "name": "stderr",
     "output_type": "stream",
     "text": [
      "Test_Loader: 100%|██████████| 288/288 [00:28<00:00, 10.25it/s]\n"
     ]
    },
    {
     "name": "stdout",
     "output_type": "stream",
     "text": [
      "Loss1: 1.0745, Loss2: 0.2771, Loss3: 1.2061\n"
     ]
    },
    {
     "name": "stderr",
     "output_type": "stream",
     "text": [
      "Test_Loader: 100%|██████████| 288/288 [00:28<00:00, 10.00it/s]\n"
     ]
    },
    {
     "name": "stdout",
     "output_type": "stream",
     "text": [
      "Loss1: 1.0359, Loss2: 0.2673, Loss3: 1.1647\n"
     ]
    },
    {
     "name": "stderr",
     "output_type": "stream",
     "text": [
      "Test_Loader: 100%|██████████| 288/288 [00:31<00:00,  9.15it/s]\n"
     ]
    },
    {
     "name": "stdout",
     "output_type": "stream",
     "text": [
      "Loss1: 1.0158, Loss2: 0.2646, Loss3: 1.1634\n"
     ]
    },
    {
     "name": "stderr",
     "output_type": "stream",
     "text": [
      "Test_Loader: 100%|██████████| 288/288 [00:29<00:00,  9.81it/s]\n"
     ]
    },
    {
     "name": "stdout",
     "output_type": "stream",
     "text": [
      "Loss1: 0.9924, Loss2: 0.2630, Loss3: 1.1648\n"
     ]
    },
    {
     "name": "stderr",
     "output_type": "stream",
     "text": [
      "Test_Loader: 100%|██████████| 288/288 [00:27<00:00, 10.46it/s]\n"
     ]
    },
    {
     "name": "stdout",
     "output_type": "stream",
     "text": [
      "Loss1: 0.9745, Loss2: 0.2616, Loss3: 1.1529\n"
     ]
    },
    {
     "name": "stderr",
     "output_type": "stream",
     "text": [
      "Test_Loader: 100%|██████████| 288/288 [00:27<00:00, 10.45it/s]\n"
     ]
    },
    {
     "name": "stdout",
     "output_type": "stream",
     "text": [
      "Loss1: 0.9497, Loss2: 0.2605, Loss3: 1.1704\n"
     ]
    },
    {
     "name": "stderr",
     "output_type": "stream",
     "text": [
      "Test_Loader: 100%|██████████| 288/288 [00:27<00:00, 10.39it/s]\n"
     ]
    },
    {
     "name": "stdout",
     "output_type": "stream",
     "text": [
      "Loss1: 0.9472, Loss2: 0.2608, Loss3: 1.1645\n"
     ]
    },
    {
     "name": "stderr",
     "output_type": "stream",
     "text": [
      "Test_Loader: 100%|██████████| 288/288 [00:27<00:00, 10.34it/s]\n"
     ]
    },
    {
     "name": "stdout",
     "output_type": "stream",
     "text": [
      "Loss1: 0.9316, Loss2: 0.2616, Loss3: 1.1839\n"
     ]
    },
    {
     "name": "stderr",
     "output_type": "stream",
     "text": [
      "Test_Loader: 100%|██████████| 288/288 [00:28<00:00, 10.13it/s]\n"
     ]
    },
    {
     "name": "stdout",
     "output_type": "stream",
     "text": [
      "Loss1: 0.9318, Loss2: 0.2654, Loss3: 1.1763\n"
     ]
    },
    {
     "name": "stderr",
     "output_type": "stream",
     "text": [
      "Test_Loader: 100%|██████████| 288/288 [00:28<00:00, 10.06it/s]\n"
     ]
    },
    {
     "name": "stdout",
     "output_type": "stream",
     "text": [
      "Loss1: 0.9237, Loss2: 0.2637, Loss3: 1.1811\n"
     ]
    },
    {
     "name": "stderr",
     "output_type": "stream",
     "text": [
      "Test_Loader: 100%|██████████| 288/288 [00:28<00:00, 10.05it/s]\n"
     ]
    },
    {
     "name": "stdout",
     "output_type": "stream",
     "text": [
      "Loss1: 0.9235, Loss2: 0.2636, Loss3: 1.1735\n"
     ]
    },
    {
     "name": "stderr",
     "output_type": "stream",
     "text": [
      "Test_Loader: 100%|██████████| 288/288 [00:28<00:00,  9.98it/s]\n"
     ]
    },
    {
     "name": "stdout",
     "output_type": "stream",
     "text": [
      "Loss1: 1.1033, Loss2: 0.3169, Loss3: 1.2777\n"
     ]
    },
    {
     "name": "stderr",
     "output_type": "stream",
     "text": [
      "Test_Loader: 100%|██████████| 288/288 [00:27<00:00, 10.35it/s]\n"
     ]
    },
    {
     "name": "stdout",
     "output_type": "stream",
     "text": [
      "Loss1: 1.1240, Loss2: 0.3250, Loss3: 1.3280\n"
     ]
    },
    {
     "name": "stderr",
     "output_type": "stream",
     "text": [
      "Test_Loader: 100%|██████████| 288/288 [00:27<00:00, 10.35it/s]\n"
     ]
    },
    {
     "name": "stdout",
     "output_type": "stream",
     "text": [
      "Loss1: 1.1046, Loss2: 0.3269, Loss3: 1.3256\n"
     ]
    },
    {
     "name": "stderr",
     "output_type": "stream",
     "text": [
      "Test_Loader: 100%|██████████| 288/288 [00:27<00:00, 10.33it/s]\n"
     ]
    },
    {
     "name": "stdout",
     "output_type": "stream",
     "text": [
      "Loss1: 1.0589, Loss2: 0.3226, Loss3: 1.3370\n"
     ]
    },
    {
     "name": "stderr",
     "output_type": "stream",
     "text": [
      "Test_Loader: 100%|██████████| 288/288 [00:30<00:00,  9.58it/s]\n"
     ]
    },
    {
     "name": "stdout",
     "output_type": "stream",
     "text": [
      "Loss1: 1.0602, Loss2: 0.3247, Loss3: 1.3189\n"
     ]
    },
    {
     "name": "stderr",
     "output_type": "stream",
     "text": [
      "Test_Loader: 100%|██████████| 288/288 [00:27<00:00, 10.65it/s]\n"
     ]
    },
    {
     "name": "stdout",
     "output_type": "stream",
     "text": [
      "Loss1: 1.0520, Loss2: 0.3268, Loss3: 1.3381\n"
     ]
    },
    {
     "name": "stderr",
     "output_type": "stream",
     "text": [
      "Test_Loader: 100%|██████████| 288/288 [00:27<00:00, 10.50it/s]\n"
     ]
    },
    {
     "name": "stdout",
     "output_type": "stream",
     "text": [
      "Loss1: 1.0639, Loss2: 0.3296, Loss3: 1.3496\n"
     ]
    },
    {
     "name": "stderr",
     "output_type": "stream",
     "text": [
      "Test_Loader: 100%|██████████| 288/288 [00:27<00:00, 10.48it/s]\n"
     ]
    },
    {
     "name": "stdout",
     "output_type": "stream",
     "text": [
      "Loss1: 1.0683, Loss2: 0.3322, Loss3: 1.3597\n"
     ]
    },
    {
     "name": "stderr",
     "output_type": "stream",
     "text": [
      "Test_Loader: 100%|██████████| 288/288 [00:28<00:00, 10.02it/s]\n"
     ]
    },
    {
     "name": "stdout",
     "output_type": "stream",
     "text": [
      "Loss1: 1.0730, Loss2: 0.3203, Loss3: 1.3685\n"
     ]
    },
    {
     "name": "stderr",
     "output_type": "stream",
     "text": [
      "Test_Loader: 100%|██████████| 288/288 [00:29<00:00,  9.88it/s]\n"
     ]
    },
    {
     "name": "stdout",
     "output_type": "stream",
     "text": [
      "Loss1: 1.1117, Loss2: 0.3321, Loss3: 1.4223\n"
     ]
    },
    {
     "name": "stderr",
     "output_type": "stream",
     "text": [
      "Test_Loader: 100%|██████████| 288/288 [00:28<00:00, 10.07it/s]\n"
     ]
    },
    {
     "name": "stdout",
     "output_type": "stream",
     "text": [
      "Loss1: 1.0628, Loss2: 0.3154, Loss3: 1.3662\n"
     ]
    },
    {
     "name": "stderr",
     "output_type": "stream",
     "text": [
      "Test_Loader: 100%|██████████| 288/288 [00:29<00:00,  9.89it/s]\n"
     ]
    },
    {
     "name": "stdout",
     "output_type": "stream",
     "text": [
      "Loss1: 1.0655, Loss2: 0.3158, Loss3: 1.3633\n"
     ]
    },
    {
     "name": "stderr",
     "output_type": "stream",
     "text": [
      "Test_Loader: 100%|██████████| 288/288 [00:30<00:00,  9.45it/s]\n"
     ]
    },
    {
     "name": "stdout",
     "output_type": "stream",
     "text": [
      "Loss1: 1.0574, Loss2: 0.3129, Loss3: 1.3459\n"
     ]
    },
    {
     "name": "stderr",
     "output_type": "stream",
     "text": [
      "Test_Loader: 100%|██████████| 288/288 [00:29<00:00,  9.88it/s]\n"
     ]
    },
    {
     "name": "stdout",
     "output_type": "stream",
     "text": [
      "Loss1: 1.0367, Loss2: 0.3081, Loss3: 1.3251\n"
     ]
    },
    {
     "name": "stderr",
     "output_type": "stream",
     "text": [
      "Test_Loader: 100%|██████████| 288/288 [00:28<00:00, 10.24it/s]\n"
     ]
    },
    {
     "name": "stdout",
     "output_type": "stream",
     "text": [
      "Loss1: 0.9276, Loss2: 0.2909, Loss3: 1.1337\n"
     ]
    },
    {
     "name": "stderr",
     "output_type": "stream",
     "text": [
      "Test_Loader: 100%|██████████| 288/288 [00:27<00:00, 10.36it/s]\n"
     ]
    },
    {
     "name": "stdout",
     "output_type": "stream",
     "text": [
      "Loss1: 0.9177, Loss2: 0.2864, Loss3: 1.1324\n"
     ]
    },
    {
     "name": "stderr",
     "output_type": "stream",
     "text": [
      "Test_Loader: 100%|██████████| 288/288 [00:29<00:00,  9.83it/s]\n"
     ]
    },
    {
     "name": "stdout",
     "output_type": "stream",
     "text": [
      "Loss1: 0.9246, Loss2: 0.3031, Loss3: 1.1402\n"
     ]
    },
    {
     "name": "stderr",
     "output_type": "stream",
     "text": [
      "Test_Loader: 100%|██████████| 288/288 [00:29<00:00,  9.72it/s]\n"
     ]
    },
    {
     "name": "stdout",
     "output_type": "stream",
     "text": [
      "Loss1: 0.9135, Loss2: 0.2981, Loss3: 1.1360\n"
     ]
    },
    {
     "name": "stderr",
     "output_type": "stream",
     "text": [
      "Test_Loader: 100%|██████████| 288/288 [00:28<00:00, 10.20it/s]\n"
     ]
    },
    {
     "name": "stdout",
     "output_type": "stream",
     "text": [
      "Loss1: 0.9390, Loss2: 0.3092, Loss3: 1.1463\n"
     ]
    },
    {
     "name": "stderr",
     "output_type": "stream",
     "text": [
      "Test_Loader: 100%|██████████| 288/288 [00:29<00:00,  9.91it/s]\n"
     ]
    },
    {
     "name": "stdout",
     "output_type": "stream",
     "text": [
      "Loss1: 0.9851, Loss2: 0.3127, Loss3: 1.1703\n"
     ]
    },
    {
     "name": "stderr",
     "output_type": "stream",
     "text": [
      "Test_Loader: 100%|██████████| 288/288 [00:29<00:00,  9.89it/s]\n"
     ]
    },
    {
     "name": "stdout",
     "output_type": "stream",
     "text": [
      "Loss1: 0.9753, Loss2: 0.3139, Loss3: 1.1534\n"
     ]
    },
    {
     "name": "stderr",
     "output_type": "stream",
     "text": [
      "Test_Loader: 100%|██████████| 288/288 [00:29<00:00,  9.73it/s]\n"
     ]
    },
    {
     "name": "stdout",
     "output_type": "stream",
     "text": [
      "Loss1: 0.9600, Loss2: 0.3046, Loss3: 1.1343\n"
     ]
    },
    {
     "name": "stderr",
     "output_type": "stream",
     "text": [
      "Test_Loader: 100%|██████████| 288/288 [00:29<00:00,  9.87it/s]\n"
     ]
    },
    {
     "name": "stdout",
     "output_type": "stream",
     "text": [
      "Loss1: 0.9515, Loss2: 0.3006, Loss3: 1.1272\n"
     ]
    },
    {
     "name": "stderr",
     "output_type": "stream",
     "text": [
      "Test_Loader: 100%|██████████| 288/288 [00:29<00:00,  9.79it/s]\n"
     ]
    },
    {
     "name": "stdout",
     "output_type": "stream",
     "text": [
      "Loss1: 0.9607, Loss2: 0.3128, Loss3: 1.1371\n"
     ]
    },
    {
     "name": "stderr",
     "output_type": "stream",
     "text": [
      "Test_Loader: 100%|██████████| 288/288 [00:30<00:00,  9.53it/s]\n"
     ]
    },
    {
     "name": "stdout",
     "output_type": "stream",
     "text": [
      "Loss1: 0.9466, Loss2: 0.3050, Loss3: 1.1022\n"
     ]
    },
    {
     "name": "stderr",
     "output_type": "stream",
     "text": [
      "Test_Loader: 100%|██████████| 288/288 [00:29<00:00,  9.74it/s]\n"
     ]
    },
    {
     "name": "stdout",
     "output_type": "stream",
     "text": [
      "Loss1: 0.9574, Loss2: 0.3056, Loss3: 1.1093\n"
     ]
    },
    {
     "name": "stderr",
     "output_type": "stream",
     "text": [
      "Test_Loader: 100%|██████████| 288/288 [00:29<00:00,  9.79it/s]\n"
     ]
    },
    {
     "name": "stdout",
     "output_type": "stream",
     "text": [
      "Loss1: 0.9577, Loss2: 0.3066, Loss3: 1.1230\n"
     ]
    },
    {
     "name": "stderr",
     "output_type": "stream",
     "text": [
      "Test_Loader: 100%|██████████| 288/288 [00:28<00:00, 10.12it/s]\n"
     ]
    },
    {
     "name": "stdout",
     "output_type": "stream",
     "text": [
      "Loss1: 0.9639, Loss2: 0.3070, Loss3: 1.1280\n"
     ]
    },
    {
     "name": "stderr",
     "output_type": "stream",
     "text": [
      "Test_Loader: 100%|██████████| 288/288 [00:29<00:00,  9.80it/s]\n"
     ]
    },
    {
     "name": "stdout",
     "output_type": "stream",
     "text": [
      "Loss1: 0.9662, Loss2: 0.3061, Loss3: 1.1254\n"
     ]
    },
    {
     "name": "stderr",
     "output_type": "stream",
     "text": [
      "Test_Loader: 100%|██████████| 288/288 [00:28<00:00, 10.18it/s]\n"
     ]
    },
    {
     "name": "stdout",
     "output_type": "stream",
     "text": [
      "Loss1: 0.9609, Loss2: 0.3067, Loss3: 1.1498\n"
     ]
    },
    {
     "name": "stderr",
     "output_type": "stream",
     "text": [
      "Test_Loader: 100%|██████████| 288/288 [00:29<00:00,  9.89it/s]\n"
     ]
    },
    {
     "name": "stdout",
     "output_type": "stream",
     "text": [
      "Loss1: 0.9659, Loss2: 0.3139, Loss3: 1.2029\n"
     ]
    },
    {
     "name": "stderr",
     "output_type": "stream",
     "text": [
      "Test_Loader: 100%|██████████| 288/288 [00:28<00:00, 10.12it/s]\n"
     ]
    },
    {
     "name": "stdout",
     "output_type": "stream",
     "text": [
      "Loss1: 0.9612, Loss2: 0.3131, Loss3: 1.1892\n"
     ]
    },
    {
     "name": "stderr",
     "output_type": "stream",
     "text": [
      "Test_Loader: 100%|██████████| 288/288 [00:28<00:00, 10.18it/s]\n"
     ]
    },
    {
     "name": "stdout",
     "output_type": "stream",
     "text": [
      "Loss1: 0.9522, Loss2: 0.3112, Loss3: 1.1868\n"
     ]
    },
    {
     "name": "stderr",
     "output_type": "stream",
     "text": [
      "Test_Loader: 100%|██████████| 288/288 [00:28<00:00,  9.94it/s]\n"
     ]
    },
    {
     "name": "stdout",
     "output_type": "stream",
     "text": [
      "Loss1: 0.9536, Loss2: 0.3128, Loss3: 1.2277\n"
     ]
    },
    {
     "name": "stderr",
     "output_type": "stream",
     "text": [
      "Test_Loader: 100%|██████████| 288/288 [00:29<00:00,  9.62it/s]\n"
     ]
    },
    {
     "name": "stdout",
     "output_type": "stream",
     "text": [
      "Loss1: 0.9802, Loss2: 0.3214, Loss3: 1.2314\n"
     ]
    },
    {
     "name": "stderr",
     "output_type": "stream",
     "text": [
      "Test_Loader: 100%|██████████| 288/288 [00:29<00:00,  9.78it/s]\n"
     ]
    },
    {
     "name": "stdout",
     "output_type": "stream",
     "text": [
      "Loss1: 0.9746, Loss2: 0.3196, Loss3: 1.2357\n"
     ]
    },
    {
     "name": "stderr",
     "output_type": "stream",
     "text": [
      "Test_Loader: 100%|██████████| 288/288 [00:29<00:00,  9.87it/s]\n"
     ]
    },
    {
     "name": "stdout",
     "output_type": "stream",
     "text": [
      "Loss1: 0.9466, Loss2: 0.3143, Loss3: 1.2034\n"
     ]
    },
    {
     "name": "stderr",
     "output_type": "stream",
     "text": [
      "Test_Loader: 100%|██████████| 288/288 [00:28<00:00,  9.94it/s]\n"
     ]
    },
    {
     "name": "stdout",
     "output_type": "stream",
     "text": [
      "Loss1: 0.9228, Loss2: 0.3112, Loss3: 1.1866\n"
     ]
    },
    {
     "name": "stderr",
     "output_type": "stream",
     "text": [
      "Test_Loader: 100%|██████████| 288/288 [00:28<00:00,  9.98it/s]\n"
     ]
    },
    {
     "name": "stdout",
     "output_type": "stream",
     "text": [
      "Loss1: 0.9145, Loss2: 0.3047, Loss3: 1.1697\n"
     ]
    },
    {
     "name": "stderr",
     "output_type": "stream",
     "text": [
      "Test_Loader: 100%|██████████| 288/288 [00:28<00:00, 10.19it/s]\n"
     ]
    },
    {
     "name": "stdout",
     "output_type": "stream",
     "text": [
      "Loss1: 0.9048, Loss2: 0.3008, Loss3: 1.1754\n"
     ]
    },
    {
     "name": "stderr",
     "output_type": "stream",
     "text": [
      "Test_Loader: 100%|██████████| 288/288 [00:29<00:00,  9.70it/s]\n"
     ]
    },
    {
     "name": "stdout",
     "output_type": "stream",
     "text": [
      "Loss1: 0.8950, Loss2: 0.2980, Loss3: 1.1570\n"
     ]
    },
    {
     "name": "stderr",
     "output_type": "stream",
     "text": [
      "Test_Loader: 100%|██████████| 288/288 [00:31<00:00,  9.12it/s]\n"
     ]
    },
    {
     "name": "stdout",
     "output_type": "stream",
     "text": [
      "Loss1: 0.8969, Loss2: 0.3008, Loss3: 1.1708\n"
     ]
    },
    {
     "name": "stderr",
     "output_type": "stream",
     "text": [
      "Test_Loader: 100%|██████████| 288/288 [00:29<00:00,  9.81it/s]\n"
     ]
    },
    {
     "name": "stdout",
     "output_type": "stream",
     "text": [
      "Loss1: 0.8665, Loss2: 0.2879, Loss3: 1.1565\n"
     ]
    },
    {
     "name": "stderr",
     "output_type": "stream",
     "text": [
      "Test_Loader: 100%|██████████| 288/288 [00:28<00:00,  9.99it/s]\n"
     ]
    },
    {
     "name": "stdout",
     "output_type": "stream",
     "text": [
      "Loss1: 0.8731, Loss2: 0.2862, Loss3: 1.1698\n"
     ]
    },
    {
     "name": "stderr",
     "output_type": "stream",
     "text": [
      "Test_Loader: 100%|██████████| 288/288 [00:28<00:00,  9.98it/s]\n"
     ]
    },
    {
     "name": "stdout",
     "output_type": "stream",
     "text": [
      "Loss1: 0.8713, Loss2: 0.2815, Loss3: 1.1578\n"
     ]
    },
    {
     "name": "stderr",
     "output_type": "stream",
     "text": [
      "Test_Loader: 100%|██████████| 288/288 [00:28<00:00, 10.02it/s]\n"
     ]
    },
    {
     "name": "stdout",
     "output_type": "stream",
     "text": [
      "Loss1: 0.8705, Loss2: 0.2831, Loss3: 1.1709\n"
     ]
    },
    {
     "name": "stderr",
     "output_type": "stream",
     "text": [
      "Test_Loader: 100%|██████████| 288/288 [00:29<00:00,  9.72it/s]\n"
     ]
    },
    {
     "name": "stdout",
     "output_type": "stream",
     "text": [
      "Loss1: 0.8666, Loss2: 0.2778, Loss3: 1.1552\n"
     ]
    },
    {
     "name": "stderr",
     "output_type": "stream",
     "text": [
      "Test_Loader: 100%|██████████| 288/288 [00:30<00:00,  9.59it/s]\n"
     ]
    },
    {
     "name": "stdout",
     "output_type": "stream",
     "text": [
      "Loss1: 0.8719, Loss2: 0.2854, Loss3: 1.1580\n"
     ]
    },
    {
     "name": "stderr",
     "output_type": "stream",
     "text": [
      "Test_Loader: 100%|██████████| 288/288 [00:29<00:00,  9.61it/s]\n"
     ]
    },
    {
     "name": "stdout",
     "output_type": "stream",
     "text": [
      "Loss1: 0.8708, Loss2: 0.2856, Loss3: 1.1445\n"
     ]
    },
    {
     "name": "stderr",
     "output_type": "stream",
     "text": [
      "Test_Loader: 100%|██████████| 288/288 [00:30<00:00,  9.56it/s]\n"
     ]
    },
    {
     "name": "stdout",
     "output_type": "stream",
     "text": [
      "Loss1: 0.8843, Loss2: 0.2891, Loss3: 1.1710\n"
     ]
    },
    {
     "name": "stderr",
     "output_type": "stream",
     "text": [
      "Test_Loader: 100%|██████████| 288/288 [00:30<00:00,  9.50it/s]\n"
     ]
    },
    {
     "name": "stdout",
     "output_type": "stream",
     "text": [
      "Loss1: 0.8732, Loss2: 0.2842, Loss3: 1.1475\n"
     ]
    },
    {
     "name": "stderr",
     "output_type": "stream",
     "text": [
      "Test_Loader: 100%|██████████| 288/288 [00:28<00:00, 10.03it/s]\n"
     ]
    },
    {
     "name": "stdout",
     "output_type": "stream",
     "text": [
      "Loss1: 0.8672, Loss2: 0.2806, Loss3: 1.1428\n"
     ]
    },
    {
     "name": "stderr",
     "output_type": "stream",
     "text": [
      "Test_Loader: 100%|██████████| 288/288 [00:28<00:00, 10.00it/s]\n"
     ]
    },
    {
     "name": "stdout",
     "output_type": "stream",
     "text": [
      "Loss1: 0.8575, Loss2: 0.2801, Loss3: 1.1419\n"
     ]
    },
    {
     "name": "stderr",
     "output_type": "stream",
     "text": [
      "Test_Loader: 100%|██████████| 288/288 [00:30<00:00,  9.60it/s]\n"
     ]
    },
    {
     "name": "stdout",
     "output_type": "stream",
     "text": [
      "Loss1: 0.8579, Loss2: 0.2790, Loss3: 1.1274\n"
     ]
    },
    {
     "name": "stderr",
     "output_type": "stream",
     "text": [
      "Test_Loader: 100%|██████████| 288/288 [00:29<00:00,  9.67it/s]\n"
     ]
    },
    {
     "name": "stdout",
     "output_type": "stream",
     "text": [
      "Loss1: 0.8794, Loss2: 0.2900, Loss3: 1.2131\n"
     ]
    },
    {
     "name": "stderr",
     "output_type": "stream",
     "text": [
      "Test_Loader: 100%|██████████| 288/288 [00:29<00:00,  9.78it/s]\n"
     ]
    },
    {
     "name": "stdout",
     "output_type": "stream",
     "text": [
      "Loss1: 0.8700, Loss2: 0.2866, Loss3: 1.2078\n"
     ]
    },
    {
     "name": "stderr",
     "output_type": "stream",
     "text": [
      "Test_Loader: 100%|██████████| 288/288 [00:29<00:00,  9.66it/s]\n"
     ]
    },
    {
     "name": "stdout",
     "output_type": "stream",
     "text": [
      "Loss1: 0.8705, Loss2: 0.2859, Loss3: 1.2037\n"
     ]
    },
    {
     "name": "stderr",
     "output_type": "stream",
     "text": [
      "Test_Loader: 100%|██████████| 288/288 [00:29<00:00,  9.71it/s]\n"
     ]
    },
    {
     "name": "stdout",
     "output_type": "stream",
     "text": [
      "Loss1: 0.8663, Loss2: 0.2846, Loss3: 1.2002\n"
     ]
    },
    {
     "name": "stderr",
     "output_type": "stream",
     "text": [
      "Test_Loader: 100%|██████████| 288/288 [00:29<00:00,  9.80it/s]\n"
     ]
    },
    {
     "name": "stdout",
     "output_type": "stream",
     "text": [
      "Loss1: 0.8617, Loss2: 0.2831, Loss3: 1.2030\n"
     ]
    },
    {
     "name": "stderr",
     "output_type": "stream",
     "text": [
      "Test_Loader: 100%|██████████| 288/288 [00:29<00:00,  9.74it/s]\n"
     ]
    },
    {
     "name": "stdout",
     "output_type": "stream",
     "text": [
      "Loss1: 0.8749, Loss2: 0.2980, Loss3: 1.2775\n"
     ]
    },
    {
     "name": "stderr",
     "output_type": "stream",
     "text": [
      "Test_Loader: 100%|██████████| 288/288 [00:28<00:00,  9.99it/s]\n"
     ]
    },
    {
     "name": "stdout",
     "output_type": "stream",
     "text": [
      "Loss1: 0.8691, Loss2: 0.2928, Loss3: 1.2591\n"
     ]
    },
    {
     "name": "stderr",
     "output_type": "stream",
     "text": [
      "Test_Loader: 100%|██████████| 288/288 [00:28<00:00, 10.08it/s]\n"
     ]
    },
    {
     "name": "stdout",
     "output_type": "stream",
     "text": [
      "Loss1: 0.8620, Loss2: 0.2921, Loss3: 1.2448\n"
     ]
    },
    {
     "name": "stderr",
     "output_type": "stream",
     "text": [
      "Test_Loader: 100%|██████████| 288/288 [00:28<00:00,  9.94it/s]\n"
     ]
    },
    {
     "name": "stdout",
     "output_type": "stream",
     "text": [
      "Loss1: 0.8615, Loss2: 0.2894, Loss3: 1.2394\n"
     ]
    },
    {
     "name": "stderr",
     "output_type": "stream",
     "text": [
      "Test_Loader: 100%|██████████| 288/288 [00:28<00:00, 10.05it/s]\n"
     ]
    },
    {
     "name": "stdout",
     "output_type": "stream",
     "text": [
      "Loss1: 0.8517, Loss2: 0.2864, Loss3: 1.2291\n"
     ]
    },
    {
     "name": "stderr",
     "output_type": "stream",
     "text": [
      "Test_Loader: 100%|██████████| 288/288 [00:29<00:00,  9.89it/s]\n"
     ]
    },
    {
     "name": "stdout",
     "output_type": "stream",
     "text": [
      "Loss1: 0.8545, Loss2: 0.2859, Loss3: 1.2198\n"
     ]
    },
    {
     "name": "stderr",
     "output_type": "stream",
     "text": [
      "Test_Loader: 100%|██████████| 288/288 [00:29<00:00,  9.90it/s]\n"
     ]
    },
    {
     "name": "stdout",
     "output_type": "stream",
     "text": [
      "Loss1: 0.8433, Loss2: 0.2836, Loss3: 1.2251\n"
     ]
    },
    {
     "name": "stderr",
     "output_type": "stream",
     "text": [
      "Test_Loader: 100%|██████████| 288/288 [00:29<00:00,  9.74it/s]\n"
     ]
    },
    {
     "name": "stdout",
     "output_type": "stream",
     "text": [
      "Loss1: 0.8457, Loss2: 0.2841, Loss3: 1.2138\n"
     ]
    },
    {
     "name": "stderr",
     "output_type": "stream",
     "text": [
      "Test_Loader: 100%|██████████| 288/288 [00:28<00:00, 10.17it/s]\n"
     ]
    },
    {
     "name": "stdout",
     "output_type": "stream",
     "text": [
      "Loss1: 0.8287, Loss2: 0.2789, Loss3: 1.2027\n"
     ]
    },
    {
     "name": "stderr",
     "output_type": "stream",
     "text": [
      "Test_Loader: 100%|██████████| 288/288 [00:29<00:00,  9.87it/s]\n"
     ]
    },
    {
     "name": "stdout",
     "output_type": "stream",
     "text": [
      "Loss1: 0.8303, Loss2: 0.2788, Loss3: 1.2017\n"
     ]
    },
    {
     "name": "stderr",
     "output_type": "stream",
     "text": [
      "Test_Loader: 100%|██████████| 288/288 [00:29<00:00,  9.76it/s]\n"
     ]
    },
    {
     "name": "stdout",
     "output_type": "stream",
     "text": [
      "Loss1: 0.8342, Loss2: 0.2778, Loss3: 1.1982\n"
     ]
    },
    {
     "name": "stderr",
     "output_type": "stream",
     "text": [
      "Test_Loader: 100%|██████████| 288/288 [00:28<00:00,  9.96it/s]\n"
     ]
    },
    {
     "name": "stdout",
     "output_type": "stream",
     "text": [
      "Loss1: 0.8259, Loss2: 0.2804, Loss3: 1.1814\n"
     ]
    },
    {
     "name": "stderr",
     "output_type": "stream",
     "text": [
      "Test_Loader: 100%|██████████| 288/288 [00:30<00:00,  9.57it/s]\n"
     ]
    },
    {
     "name": "stdout",
     "output_type": "stream",
     "text": [
      "Loss1: 0.8272, Loss2: 0.2771, Loss3: 1.1747\n"
     ]
    },
    {
     "name": "stderr",
     "output_type": "stream",
     "text": [
      "Test_Loader: 100%|██████████| 288/288 [00:32<00:00,  8.87it/s]\n"
     ]
    },
    {
     "name": "stdout",
     "output_type": "stream",
     "text": [
      "Loss1: 0.8250, Loss2: 0.2777, Loss3: 1.1800\n"
     ]
    },
    {
     "name": "stderr",
     "output_type": "stream",
     "text": [
      "Test_Loader: 100%|██████████| 288/288 [00:29<00:00,  9.67it/s]\n"
     ]
    },
    {
     "name": "stdout",
     "output_type": "stream",
     "text": [
      "Loss1: 0.8187, Loss2: 0.2746, Loss3: 1.1817\n"
     ]
    },
    {
     "name": "stderr",
     "output_type": "stream",
     "text": [
      "Test_Loader: 100%|██████████| 288/288 [00:29<00:00,  9.80it/s]\n"
     ]
    },
    {
     "name": "stdout",
     "output_type": "stream",
     "text": [
      "Loss1: 0.8189, Loss2: 0.2762, Loss3: 1.1690\n"
     ]
    },
    {
     "name": "stderr",
     "output_type": "stream",
     "text": [
      "Test_Loader: 100%|██████████| 288/288 [00:29<00:00,  9.83it/s]\n"
     ]
    },
    {
     "name": "stdout",
     "output_type": "stream",
     "text": [
      "Loss1: 0.8218, Loss2: 0.2748, Loss3: 1.1631\n"
     ]
    },
    {
     "name": "stderr",
     "output_type": "stream",
     "text": [
      "Test_Loader: 100%|██████████| 288/288 [00:29<00:00,  9.65it/s]\n"
     ]
    },
    {
     "name": "stdout",
     "output_type": "stream",
     "text": [
      "Loss1: 0.8349, Loss2: 0.2738, Loss3: 1.1576\n"
     ]
    },
    {
     "name": "stderr",
     "output_type": "stream",
     "text": [
      "Test_Loader: 100%|██████████| 288/288 [00:29<00:00,  9.65it/s]\n"
     ]
    },
    {
     "name": "stdout",
     "output_type": "stream",
     "text": [
      "Loss1: 0.8307, Loss2: 0.2700, Loss3: 1.1574\n"
     ]
    },
    {
     "name": "stderr",
     "output_type": "stream",
     "text": [
      "Test_Loader: 100%|██████████| 288/288 [00:30<00:00,  9.51it/s]\n"
     ]
    },
    {
     "name": "stdout",
     "output_type": "stream",
     "text": [
      "Loss1: 0.8255, Loss2: 0.2682, Loss3: 1.1473\n"
     ]
    },
    {
     "name": "stderr",
     "output_type": "stream",
     "text": [
      "Test_Loader: 100%|██████████| 288/288 [00:29<00:00,  9.81it/s]\n"
     ]
    },
    {
     "name": "stdout",
     "output_type": "stream",
     "text": [
      "Loss1: 0.8205, Loss2: 0.2684, Loss3: 1.1503\n"
     ]
    },
    {
     "name": "stderr",
     "output_type": "stream",
     "text": [
      "Test_Loader: 100%|██████████| 288/288 [00:28<00:00, 10.08it/s]\n"
     ]
    },
    {
     "name": "stdout",
     "output_type": "stream",
     "text": [
      "Loss1: 0.8233, Loss2: 0.2690, Loss3: 1.1471\n"
     ]
    },
    {
     "name": "stderr",
     "output_type": "stream",
     "text": [
      "Test_Loader: 100%|██████████| 288/288 [00:28<00:00, 10.03it/s]\n"
     ]
    },
    {
     "name": "stdout",
     "output_type": "stream",
     "text": [
      "Loss1: 0.8176, Loss2: 0.2677, Loss3: 1.1387\n"
     ]
    },
    {
     "name": "stderr",
     "output_type": "stream",
     "text": [
      "Test_Loader: 100%|██████████| 288/288 [00:28<00:00,  9.93it/s]\n"
     ]
    },
    {
     "name": "stdout",
     "output_type": "stream",
     "text": [
      "Loss1: 0.8276, Loss2: 0.2676, Loss3: 1.1388\n"
     ]
    },
    {
     "name": "stderr",
     "output_type": "stream",
     "text": [
      "Test_Loader: 100%|██████████| 288/288 [00:29<00:00,  9.78it/s]\n"
     ]
    },
    {
     "name": "stdout",
     "output_type": "stream",
     "text": [
      "Loss1: 0.8270, Loss2: 0.2662, Loss3: 1.1366\n"
     ]
    },
    {
     "name": "stderr",
     "output_type": "stream",
     "text": [
      "Test_Loader: 100%|██████████| 288/288 [00:30<00:00,  9.44it/s]\n"
     ]
    },
    {
     "name": "stdout",
     "output_type": "stream",
     "text": [
      "Loss1: 0.8224, Loss2: 0.2661, Loss3: 1.1517\n"
     ]
    },
    {
     "name": "stderr",
     "output_type": "stream",
     "text": [
      "Test_Loader: 100%|██████████| 288/288 [00:30<00:00,  9.34it/s]\n"
     ]
    },
    {
     "name": "stdout",
     "output_type": "stream",
     "text": [
      "Loss1: 0.8267, Loss2: 0.2653, Loss3: 1.1599\n"
     ]
    },
    {
     "name": "stderr",
     "output_type": "stream",
     "text": [
      "Test_Loader: 100%|██████████| 288/288 [00:29<00:00,  9.65it/s]\n"
     ]
    },
    {
     "name": "stdout",
     "output_type": "stream",
     "text": [
      "Loss1: 0.8245, Loss2: 0.2660, Loss3: 1.1517\n"
     ]
    },
    {
     "name": "stderr",
     "output_type": "stream",
     "text": [
      "Test_Loader: 100%|██████████| 288/288 [00:29<00:00,  9.65it/s]\n"
     ]
    },
    {
     "name": "stdout",
     "output_type": "stream",
     "text": [
      "Loss1: 0.8174, Loss2: 0.2650, Loss3: 1.1492\n"
     ]
    },
    {
     "name": "stderr",
     "output_type": "stream",
     "text": [
      "Test_Loader: 100%|██████████| 288/288 [00:28<00:00, 10.11it/s]\n"
     ]
    },
    {
     "name": "stdout",
     "output_type": "stream",
     "text": [
      "Loss1: 0.8177, Loss2: 0.2649, Loss3: 1.1346\n"
     ]
    },
    {
     "name": "stderr",
     "output_type": "stream",
     "text": [
      "Test_Loader: 100%|██████████| 288/288 [00:29<00:00,  9.65it/s]\n"
     ]
    },
    {
     "name": "stdout",
     "output_type": "stream",
     "text": [
      "Loss1: 0.8112, Loss2: 0.2629, Loss3: 1.1283\n"
     ]
    },
    {
     "name": "stderr",
     "output_type": "stream",
     "text": [
      "Test_Loader: 100%|██████████| 288/288 [00:30<00:00,  9.34it/s]\n"
     ]
    },
    {
     "name": "stdout",
     "output_type": "stream",
     "text": [
      "Loss1: 0.8063, Loss2: 0.2611, Loss3: 1.1240\n"
     ]
    },
    {
     "name": "stderr",
     "output_type": "stream",
     "text": [
      "Test_Loader: 100%|██████████| 288/288 [00:29<00:00,  9.72it/s]\n"
     ]
    },
    {
     "name": "stdout",
     "output_type": "stream",
     "text": [
      "Loss1: 0.8015, Loss2: 0.2594, Loss3: 1.1089\n"
     ]
    },
    {
     "name": "stderr",
     "output_type": "stream",
     "text": [
      "Test_Loader: 100%|██████████| 288/288 [00:29<00:00,  9.65it/s]\n"
     ]
    },
    {
     "name": "stdout",
     "output_type": "stream",
     "text": [
      "Loss1: 0.8000, Loss2: 0.2583, Loss3: 1.1087\n"
     ]
    },
    {
     "name": "stderr",
     "output_type": "stream",
     "text": [
      "Test_Loader: 100%|██████████| 288/288 [00:31<00:00,  9.27it/s]\n"
     ]
    },
    {
     "name": "stdout",
     "output_type": "stream",
     "text": [
      "Loss1: 0.8230, Loss2: 0.2751, Loss3: 1.3807\n"
     ]
    },
    {
     "name": "stderr",
     "output_type": "stream",
     "text": [
      "Test_Loader: 100%|██████████| 288/288 [00:30<00:00,  9.46it/s]\n"
     ]
    },
    {
     "name": "stdout",
     "output_type": "stream",
     "text": [
      "Loss1: 0.8680, Loss2: 0.2799, Loss3: 1.3949\n"
     ]
    },
    {
     "name": "stderr",
     "output_type": "stream",
     "text": [
      "Test_Loader: 100%|██████████| 288/288 [00:30<00:00,  9.32it/s]\n"
     ]
    },
    {
     "name": "stdout",
     "output_type": "stream",
     "text": [
      "Loss1: 0.9033, Loss2: 0.2873, Loss3: 1.4901\n"
     ]
    },
    {
     "name": "stderr",
     "output_type": "stream",
     "text": [
      "Test_Loader: 100%|██████████| 288/288 [00:29<00:00,  9.61it/s]\n"
     ]
    },
    {
     "name": "stdout",
     "output_type": "stream",
     "text": [
      "Loss1: 0.8589, Loss2: 0.2802, Loss3: 1.4365\n"
     ]
    },
    {
     "name": "stderr",
     "output_type": "stream",
     "text": [
      "Test_Loader: 100%|██████████| 288/288 [00:30<00:00,  9.58it/s]\n"
     ]
    },
    {
     "name": "stdout",
     "output_type": "stream",
     "text": [
      "Loss1: 0.8487, Loss2: 0.2783, Loss3: 1.4361\n"
     ]
    },
    {
     "name": "stderr",
     "output_type": "stream",
     "text": [
      "Test_Loader: 100%|██████████| 288/288 [00:30<00:00,  9.51it/s]\n"
     ]
    },
    {
     "name": "stdout",
     "output_type": "stream",
     "text": [
      "Loss1: 0.9000, Loss2: 0.3240, Loss3: 1.6680\n"
     ]
    },
    {
     "name": "stderr",
     "output_type": "stream",
     "text": [
      "Test_Loader: 100%|██████████| 288/288 [00:29<00:00,  9.69it/s]\n"
     ]
    },
    {
     "name": "stdout",
     "output_type": "stream",
     "text": [
      "Loss1: 0.9021, Loss2: 0.3216, Loss3: 1.6554\n"
     ]
    },
    {
     "name": "stderr",
     "output_type": "stream",
     "text": [
      "Test_Loader: 100%|██████████| 288/288 [00:29<00:00,  9.83it/s]\n"
     ]
    },
    {
     "name": "stdout",
     "output_type": "stream",
     "text": [
      "Loss1: 0.8916, Loss2: 0.3219, Loss3: 1.6481\n"
     ]
    },
    {
     "name": "stderr",
     "output_type": "stream",
     "text": [
      "Test_Loader: 100%|██████████| 288/288 [00:30<00:00,  9.51it/s]\n"
     ]
    },
    {
     "name": "stdout",
     "output_type": "stream",
     "text": [
      "Loss1: 0.8933, Loss2: 0.3206, Loss3: 1.6524\n"
     ]
    },
    {
     "name": "stderr",
     "output_type": "stream",
     "text": [
      "Test_Loader: 100%|██████████| 288/288 [00:30<00:00,  9.31it/s]\n"
     ]
    },
    {
     "name": "stdout",
     "output_type": "stream",
     "text": [
      "Loss1: 0.8656, Loss2: 0.3123, Loss3: 1.6263\n"
     ]
    },
    {
     "name": "stderr",
     "output_type": "stream",
     "text": [
      "Test_Loader: 100%|██████████| 288/288 [00:28<00:00,  9.98it/s]\n"
     ]
    },
    {
     "name": "stdout",
     "output_type": "stream",
     "text": [
      "Loss1: 0.8659, Loss2: 0.3136, Loss3: 1.6018\n"
     ]
    },
    {
     "name": "stderr",
     "output_type": "stream",
     "text": [
      "Test_Loader: 100%|██████████| 288/288 [00:28<00:00,  9.99it/s]\n"
     ]
    },
    {
     "name": "stdout",
     "output_type": "stream",
     "text": [
      "Loss1: 0.8415, Loss2: 0.3074, Loss3: 1.5973\n"
     ]
    },
    {
     "name": "stderr",
     "output_type": "stream",
     "text": [
      "Test_Loader: 100%|██████████| 288/288 [00:29<00:00,  9.64it/s]\n"
     ]
    },
    {
     "name": "stdout",
     "output_type": "stream",
     "text": [
      "Loss1: 0.8042, Loss2: 0.3026, Loss3: 1.5824\n"
     ]
    },
    {
     "name": "stderr",
     "output_type": "stream",
     "text": [
      "Test_Loader: 100%|██████████| 288/288 [00:27<00:00, 10.40it/s]\n"
     ]
    },
    {
     "name": "stdout",
     "output_type": "stream",
     "text": [
      "Loss1: 0.8118, Loss2: 0.3020, Loss3: 1.5776\n"
     ]
    },
    {
     "name": "stderr",
     "output_type": "stream",
     "text": [
      "Test_Loader: 100%|██████████| 288/288 [00:27<00:00, 10.30it/s]\n"
     ]
    },
    {
     "name": "stdout",
     "output_type": "stream",
     "text": [
      "Loss1: 0.8447, Loss2: 0.3047, Loss3: 1.6239\n"
     ]
    },
    {
     "name": "stderr",
     "output_type": "stream",
     "text": [
      "Test_Loader: 100%|██████████| 288/288 [00:27<00:00, 10.43it/s]\n"
     ]
    },
    {
     "name": "stdout",
     "output_type": "stream",
     "text": [
      "Loss1: 0.8398, Loss2: 0.3084, Loss3: 1.6200\n"
     ]
    },
    {
     "name": "stderr",
     "output_type": "stream",
     "text": [
      "Test_Loader: 100%|██████████| 288/288 [00:27<00:00, 10.42it/s]\n"
     ]
    },
    {
     "name": "stdout",
     "output_type": "stream",
     "text": [
      "Loss1: 0.8414, Loss2: 0.3091, Loss3: 1.6065\n"
     ]
    },
    {
     "name": "stderr",
     "output_type": "stream",
     "text": [
      "Test_Loader: 100%|██████████| 288/288 [00:28<00:00, 10.22it/s]\n"
     ]
    },
    {
     "name": "stdout",
     "output_type": "stream",
     "text": [
      "Loss1: 0.8345, Loss2: 0.3084, Loss3: 1.5798\n"
     ]
    },
    {
     "name": "stderr",
     "output_type": "stream",
     "text": [
      "Test_Loader: 100%|██████████| 288/288 [00:30<00:00,  9.44it/s]\n"
     ]
    },
    {
     "name": "stdout",
     "output_type": "stream",
     "text": [
      "Loss1: 0.8696, Loss2: 0.3355, Loss3: 1.6524\n"
     ]
    },
    {
     "name": "stderr",
     "output_type": "stream",
     "text": [
      "Test_Loader: 100%|██████████| 288/288 [00:28<00:00, 10.06it/s]\n"
     ]
    },
    {
     "name": "stdout",
     "output_type": "stream",
     "text": [
      "Loss1: 0.8598, Loss2: 0.3196, Loss3: 1.6204\n"
     ]
    },
    {
     "name": "stderr",
     "output_type": "stream",
     "text": [
      "Test_Loader: 100%|██████████| 288/288 [00:29<00:00,  9.88it/s]\n"
     ]
    },
    {
     "name": "stdout",
     "output_type": "stream",
     "text": [
      "Loss1: 0.8547, Loss2: 0.3202, Loss3: 1.6177\n"
     ]
    },
    {
     "name": "stderr",
     "output_type": "stream",
     "text": [
      "Test_Loader: 100%|██████████| 288/288 [00:30<00:00,  9.44it/s]\n"
     ]
    },
    {
     "name": "stdout",
     "output_type": "stream",
     "text": [
      "Loss1: 0.8415, Loss2: 0.3212, Loss3: 1.6198\n"
     ]
    },
    {
     "name": "stderr",
     "output_type": "stream",
     "text": [
      "Test_Loader: 100%|██████████| 288/288 [00:29<00:00,  9.91it/s]\n"
     ]
    },
    {
     "name": "stdout",
     "output_type": "stream",
     "text": [
      "Loss1: 0.8388, Loss2: 0.3176, Loss3: 1.6182\n"
     ]
    },
    {
     "name": "stderr",
     "output_type": "stream",
     "text": [
      "Test_Loader: 100%|██████████| 288/288 [00:29<00:00,  9.81it/s]\n"
     ]
    },
    {
     "name": "stdout",
     "output_type": "stream",
     "text": [
      "Loss1: 0.8425, Loss2: 0.3169, Loss3: 1.6245\n"
     ]
    },
    {
     "name": "stderr",
     "output_type": "stream",
     "text": [
      "Test_Loader: 100%|██████████| 288/288 [00:28<00:00, 10.00it/s]\n"
     ]
    },
    {
     "name": "stdout",
     "output_type": "stream",
     "text": [
      "Loss1: 0.8647, Loss2: 0.3246, Loss3: 1.6134\n"
     ]
    },
    {
     "name": "stderr",
     "output_type": "stream",
     "text": [
      "Test_Loader: 100%|██████████| 288/288 [00:28<00:00, 10.05it/s]\n"
     ]
    },
    {
     "name": "stdout",
     "output_type": "stream",
     "text": [
      "Loss1: 0.8713, Loss2: 0.3263, Loss3: 1.6292\n"
     ]
    },
    {
     "name": "stderr",
     "output_type": "stream",
     "text": [
      "Test_Loader: 100%|██████████| 288/288 [00:29<00:00,  9.76it/s]\n"
     ]
    },
    {
     "name": "stdout",
     "output_type": "stream",
     "text": [
      "Loss1: 0.8667, Loss2: 0.3393, Loss3: 1.6392\n"
     ]
    },
    {
     "name": "stderr",
     "output_type": "stream",
     "text": [
      "Test_Loader: 100%|██████████| 288/288 [00:29<00:00,  9.66it/s]\n"
     ]
    },
    {
     "name": "stdout",
     "output_type": "stream",
     "text": [
      "Loss1: 0.8799, Loss2: 0.3501, Loss3: 1.7065\n"
     ]
    },
    {
     "name": "stderr",
     "output_type": "stream",
     "text": [
      "Test_Loader: 100%|██████████| 288/288 [00:30<00:00,  9.58it/s]\n"
     ]
    },
    {
     "name": "stdout",
     "output_type": "stream",
     "text": [
      "Loss1: 0.8542, Loss2: 0.3452, Loss3: 1.7070\n"
     ]
    },
    {
     "name": "stderr",
     "output_type": "stream",
     "text": [
      "Test_Loader: 100%|██████████| 288/288 [00:30<00:00,  9.41it/s]\n"
     ]
    },
    {
     "name": "stdout",
     "output_type": "stream",
     "text": [
      "Loss1: 0.8567, Loss2: 0.3448, Loss3: 1.6765\n"
     ]
    },
    {
     "name": "stderr",
     "output_type": "stream",
     "text": [
      "Test_Loader: 100%|██████████| 288/288 [00:30<00:00,  9.47it/s]\n"
     ]
    },
    {
     "name": "stdout",
     "output_type": "stream",
     "text": [
      "Loss1: 0.8497, Loss2: 0.3443, Loss3: 1.7236\n"
     ]
    },
    {
     "name": "stderr",
     "output_type": "stream",
     "text": [
      "Test_Loader: 100%|██████████| 288/288 [00:29<00:00,  9.64it/s]\n"
     ]
    },
    {
     "name": "stdout",
     "output_type": "stream",
     "text": [
      "Loss1: 0.9235, Loss2: 0.3679, Loss3: 1.9148\n"
     ]
    },
    {
     "name": "stderr",
     "output_type": "stream",
     "text": [
      "Test_Loader: 100%|██████████| 288/288 [00:28<00:00, 10.09it/s]\n"
     ]
    },
    {
     "name": "stdout",
     "output_type": "stream",
     "text": [
      "Loss1: 0.9067, Loss2: 0.3697, Loss3: 1.8323\n"
     ]
    },
    {
     "name": "stderr",
     "output_type": "stream",
     "text": [
      "Test_Loader: 100%|██████████| 288/288 [00:30<00:00,  9.59it/s]\n"
     ]
    },
    {
     "name": "stdout",
     "output_type": "stream",
     "text": [
      "Loss1: 0.9017, Loss2: 0.3643, Loss3: 1.8094\n"
     ]
    },
    {
     "name": "stderr",
     "output_type": "stream",
     "text": [
      "Test_Loader: 100%|██████████| 288/288 [00:29<00:00,  9.77it/s]\n"
     ]
    },
    {
     "name": "stdout",
     "output_type": "stream",
     "text": [
      "Loss1: 0.9039, Loss2: 0.3662, Loss3: 1.8099\n"
     ]
    },
    {
     "name": "stderr",
     "output_type": "stream",
     "text": [
      "Test_Loader: 100%|██████████| 288/288 [00:28<00:00, 10.15it/s]\n"
     ]
    },
    {
     "name": "stdout",
     "output_type": "stream",
     "text": [
      "Loss1: 0.9122, Loss2: 0.3660, Loss3: 1.7794\n"
     ]
    },
    {
     "name": "stderr",
     "output_type": "stream",
     "text": [
      "Test_Loader: 100%|██████████| 288/288 [00:29<00:00,  9.63it/s]\n"
     ]
    },
    {
     "name": "stdout",
     "output_type": "stream",
     "text": [
      "Loss1: 0.9003, Loss2: 0.3594, Loss3: 1.7480\n"
     ]
    },
    {
     "name": "stderr",
     "output_type": "stream",
     "text": [
      "Test_Loader: 100%|██████████| 288/288 [00:30<00:00,  9.51it/s]\n"
     ]
    },
    {
     "name": "stdout",
     "output_type": "stream",
     "text": [
      "Loss1: 0.8840, Loss2: 0.3610, Loss3: 1.7452\n"
     ]
    },
    {
     "name": "stderr",
     "output_type": "stream",
     "text": [
      "Test_Loader: 100%|██████████| 288/288 [00:30<00:00,  9.41it/s]\n"
     ]
    },
    {
     "name": "stdout",
     "output_type": "stream",
     "text": [
      "Loss1: 0.9545, Loss2: 0.3726, Loss3: 1.8628\n"
     ]
    },
    {
     "name": "stderr",
     "output_type": "stream",
     "text": [
      "Test_Loader: 100%|██████████| 288/288 [00:30<00:00,  9.37it/s]\n"
     ]
    },
    {
     "name": "stdout",
     "output_type": "stream",
     "text": [
      "Loss1: 0.9447, Loss2: 0.3727, Loss3: 1.8354\n"
     ]
    },
    {
     "name": "stderr",
     "output_type": "stream",
     "text": [
      "Test_Loader: 100%|██████████| 288/288 [00:29<00:00,  9.85it/s]\n"
     ]
    },
    {
     "name": "stdout",
     "output_type": "stream",
     "text": [
      "Loss1: 0.9399, Loss2: 0.3685, Loss3: 1.8035\n"
     ]
    },
    {
     "name": "stderr",
     "output_type": "stream",
     "text": [
      "Test_Loader: 100%|██████████| 288/288 [00:30<00:00,  9.54it/s]\n"
     ]
    },
    {
     "name": "stdout",
     "output_type": "stream",
     "text": [
      "Loss1: 0.9307, Loss2: 0.3700, Loss3: 1.8097\n"
     ]
    },
    {
     "name": "stderr",
     "output_type": "stream",
     "text": [
      "Test_Loader: 100%|██████████| 288/288 [00:30<00:00,  9.46it/s]\n"
     ]
    },
    {
     "name": "stdout",
     "output_type": "stream",
     "text": [
      "Loss1: 0.9374, Loss2: 0.3700, Loss3: 1.7890\n"
     ]
    },
    {
     "name": "stderr",
     "output_type": "stream",
     "text": [
      "Test_Loader: 100%|██████████| 288/288 [00:28<00:00, 10.12it/s]\n"
     ]
    },
    {
     "name": "stdout",
     "output_type": "stream",
     "text": [
      "Loss1: 0.9241, Loss2: 0.3716, Loss3: 1.7714\n"
     ]
    },
    {
     "name": "stderr",
     "output_type": "stream",
     "text": [
      "Test_Loader: 100%|██████████| 288/288 [00:28<00:00, 10.19it/s]\n"
     ]
    },
    {
     "name": "stdout",
     "output_type": "stream",
     "text": [
      "Loss1: 0.9194, Loss2: 0.3665, Loss3: 1.7553\n"
     ]
    },
    {
     "name": "stderr",
     "output_type": "stream",
     "text": [
      "Test_Loader: 100%|██████████| 288/288 [00:30<00:00,  9.44it/s]\n"
     ]
    },
    {
     "name": "stdout",
     "output_type": "stream",
     "text": [
      "Loss1: 0.8930, Loss2: 0.3645, Loss3: 1.7141\n"
     ]
    },
    {
     "name": "stderr",
     "output_type": "stream",
     "text": [
      "Test_Loader: 100%|██████████| 288/288 [00:30<00:00,  9.39it/s]\n"
     ]
    },
    {
     "name": "stdout",
     "output_type": "stream",
     "text": [
      "Loss1: 0.8971, Loss2: 0.3628, Loss3: 1.6877\n"
     ]
    },
    {
     "name": "stderr",
     "output_type": "stream",
     "text": [
      "Test_Loader: 100%|██████████| 288/288 [00:30<00:00,  9.56it/s]\n"
     ]
    },
    {
     "name": "stdout",
     "output_type": "stream",
     "text": [
      "Loss1: 0.8877, Loss2: 0.3567, Loss3: 1.6979\n"
     ]
    },
    {
     "name": "stderr",
     "output_type": "stream",
     "text": [
      "Test_Loader: 100%|██████████| 288/288 [00:29<00:00,  9.83it/s]\n"
     ]
    },
    {
     "name": "stdout",
     "output_type": "stream",
     "text": [
      "Loss1: 0.8692, Loss2: 0.3542, Loss3: 1.6663\n"
     ]
    },
    {
     "name": "stderr",
     "output_type": "stream",
     "text": [
      "Test_Loader: 100%|██████████| 288/288 [00:29<00:00,  9.69it/s]\n"
     ]
    },
    {
     "name": "stdout",
     "output_type": "stream",
     "text": [
      "Loss1: 0.8716, Loss2: 0.3536, Loss3: 1.6434\n"
     ]
    },
    {
     "name": "stderr",
     "output_type": "stream",
     "text": [
      "Test_Loader: 100%|██████████| 288/288 [00:29<00:00,  9.69it/s]\n"
     ]
    },
    {
     "name": "stdout",
     "output_type": "stream",
     "text": [
      "Loss1: 0.8530, Loss2: 0.3503, Loss3: 1.6130\n"
     ]
    },
    {
     "name": "stderr",
     "output_type": "stream",
     "text": [
      "Test_Loader: 100%|██████████| 288/288 [00:29<00:00,  9.77it/s]\n"
     ]
    },
    {
     "name": "stdout",
     "output_type": "stream",
     "text": [
      "Loss1: 0.8490, Loss2: 0.3418, Loss3: 1.6203\n"
     ]
    },
    {
     "name": "stderr",
     "output_type": "stream",
     "text": [
      "Test_Loader: 100%|██████████| 288/288 [00:29<00:00,  9.92it/s]\n"
     ]
    },
    {
     "name": "stdout",
     "output_type": "stream",
     "text": [
      "Loss1: 0.8340, Loss2: 0.3399, Loss3: 1.5729\n"
     ]
    },
    {
     "name": "stderr",
     "output_type": "stream",
     "text": [
      "Test_Loader: 100%|██████████| 288/288 [00:30<00:00,  9.44it/s]\n"
     ]
    },
    {
     "name": "stdout",
     "output_type": "stream",
     "text": [
      "Loss1: 0.8378, Loss2: 0.3430, Loss3: 1.5684\n"
     ]
    },
    {
     "name": "stderr",
     "output_type": "stream",
     "text": [
      "Test_Loader: 100%|██████████| 288/288 [00:30<00:00,  9.45it/s]\n"
     ]
    },
    {
     "name": "stdout",
     "output_type": "stream",
     "text": [
      "Loss1: 0.8505, Loss2: 0.3433, Loss3: 1.5968\n"
     ]
    },
    {
     "name": "stderr",
     "output_type": "stream",
     "text": [
      "Test_Loader: 100%|██████████| 288/288 [00:29<00:00,  9.83it/s]\n"
     ]
    },
    {
     "name": "stdout",
     "output_type": "stream",
     "text": [
      "Loss1: 0.8597, Loss2: 0.3473, Loss3: 1.5758\n"
     ]
    },
    {
     "name": "stderr",
     "output_type": "stream",
     "text": [
      "Test_Loader: 100%|██████████| 288/288 [00:28<00:00, 10.21it/s]\n"
     ]
    },
    {
     "name": "stdout",
     "output_type": "stream",
     "text": [
      "Loss1: 0.8615, Loss2: 0.3489, Loss3: 1.6026\n"
     ]
    },
    {
     "name": "stderr",
     "output_type": "stream",
     "text": [
      "Test_Loader: 100%|██████████| 288/288 [00:29<00:00,  9.63it/s]\n"
     ]
    },
    {
     "name": "stdout",
     "output_type": "stream",
     "text": [
      "Loss1: 0.8404, Loss2: 0.3332, Loss3: 1.5492\n"
     ]
    },
    {
     "name": "stderr",
     "output_type": "stream",
     "text": [
      "Test_Loader: 100%|██████████| 288/288 [00:29<00:00,  9.67it/s]\n"
     ]
    },
    {
     "name": "stdout",
     "output_type": "stream",
     "text": [
      "Loss1: 0.8422, Loss2: 0.3333, Loss3: 1.5172\n"
     ]
    },
    {
     "name": "stderr",
     "output_type": "stream",
     "text": [
      "Test_Loader: 100%|██████████| 288/288 [00:29<00:00,  9.87it/s]\n"
     ]
    },
    {
     "name": "stdout",
     "output_type": "stream",
     "text": [
      "Loss1: 0.8363, Loss2: 0.3324, Loss3: 1.5184\n"
     ]
    },
    {
     "name": "stderr",
     "output_type": "stream",
     "text": [
      "Test_Loader: 100%|██████████| 288/288 [00:29<00:00,  9.91it/s]\n"
     ]
    },
    {
     "name": "stdout",
     "output_type": "stream",
     "text": [
      "Loss1: 0.8318, Loss2: 0.3288, Loss3: 1.5070\n"
     ]
    },
    {
     "name": "stderr",
     "output_type": "stream",
     "text": [
      "Test_Loader: 100%|██████████| 288/288 [00:29<00:00,  9.63it/s]\n"
     ]
    },
    {
     "name": "stdout",
     "output_type": "stream",
     "text": [
      "Loss1: 0.8266, Loss2: 0.3280, Loss3: 1.4783\n"
     ]
    },
    {
     "name": "stderr",
     "output_type": "stream",
     "text": [
      "Test_Loader: 100%|██████████| 288/288 [00:29<00:00,  9.85it/s]\n"
     ]
    },
    {
     "name": "stdout",
     "output_type": "stream",
     "text": [
      "Loss1: 0.8125, Loss2: 0.3150, Loss3: 1.4299\n"
     ]
    },
    {
     "name": "stderr",
     "output_type": "stream",
     "text": [
      "Test_Loader: 100%|██████████| 288/288 [00:30<00:00,  9.30it/s]\n"
     ]
    },
    {
     "name": "stdout",
     "output_type": "stream",
     "text": [
      "Loss1: 0.8132, Loss2: 0.3199, Loss3: 1.4116\n"
     ]
    },
    {
     "name": "stderr",
     "output_type": "stream",
     "text": [
      "Test_Loader: 100%|██████████| 288/288 [00:30<00:00,  9.52it/s]\n"
     ]
    },
    {
     "name": "stdout",
     "output_type": "stream",
     "text": [
      "Loss1: 0.8320, Loss2: 0.3320, Loss3: 1.4492\n"
     ]
    },
    {
     "name": "stderr",
     "output_type": "stream",
     "text": [
      "Test_Loader: 100%|██████████| 288/288 [00:31<00:00,  9.27it/s]\n"
     ]
    },
    {
     "name": "stdout",
     "output_type": "stream",
     "text": [
      "Loss1: 0.8285, Loss2: 0.3308, Loss3: 1.4377\n"
     ]
    },
    {
     "name": "stderr",
     "output_type": "stream",
     "text": [
      "Test_Loader: 100%|██████████| 288/288 [00:30<00:00,  9.33it/s]\n"
     ]
    },
    {
     "name": "stdout",
     "output_type": "stream",
     "text": [
      "Loss1: 0.8211, Loss2: 0.3300, Loss3: 1.4384\n"
     ]
    },
    {
     "name": "stderr",
     "output_type": "stream",
     "text": [
      "Test_Loader: 100%|██████████| 288/288 [00:29<00:00,  9.86it/s]\n"
     ]
    },
    {
     "name": "stdout",
     "output_type": "stream",
     "text": [
      "Loss1: 0.8364, Loss2: 0.3309, Loss3: 1.4271\n"
     ]
    },
    {
     "name": "stderr",
     "output_type": "stream",
     "text": [
      "Test_Loader: 100%|██████████| 288/288 [00:28<00:00, 10.25it/s]\n"
     ]
    },
    {
     "name": "stdout",
     "output_type": "stream",
     "text": [
      "Loss1: 0.8297, Loss2: 0.3250, Loss3: 1.4310\n"
     ]
    },
    {
     "name": "stderr",
     "output_type": "stream",
     "text": [
      "Test_Loader: 100%|██████████| 288/288 [00:29<00:00,  9.90it/s]\n"
     ]
    },
    {
     "name": "stdout",
     "output_type": "stream",
     "text": [
      "Loss1: 0.8332, Loss2: 0.3284, Loss3: 1.4236\n"
     ]
    },
    {
     "name": "stderr",
     "output_type": "stream",
     "text": [
      "Test_Loader: 100%|██████████| 288/288 [00:30<00:00,  9.47it/s]\n"
     ]
    },
    {
     "name": "stdout",
     "output_type": "stream",
     "text": [
      "Loss1: 0.8337, Loss2: 0.3291, Loss3: 1.4209\n"
     ]
    },
    {
     "name": "stderr",
     "output_type": "stream",
     "text": [
      "Test_Loader: 100%|██████████| 288/288 [00:28<00:00, 10.06it/s]\n"
     ]
    },
    {
     "name": "stdout",
     "output_type": "stream",
     "text": [
      "Loss1: 0.8347, Loss2: 0.3327, Loss3: 1.4064\n"
     ]
    },
    {
     "name": "stderr",
     "output_type": "stream",
     "text": [
      "Test_Loader: 100%|██████████| 288/288 [00:29<00:00,  9.83it/s]\n"
     ]
    },
    {
     "name": "stdout",
     "output_type": "stream",
     "text": [
      "Loss1: 0.8313, Loss2: 0.3264, Loss3: 1.4109\n"
     ]
    },
    {
     "name": "stderr",
     "output_type": "stream",
     "text": [
      "Test_Loader: 100%|██████████| 288/288 [00:30<00:00,  9.55it/s]\n"
     ]
    },
    {
     "name": "stdout",
     "output_type": "stream",
     "text": [
      "Loss1: 0.8203, Loss2: 0.3256, Loss3: 1.4118\n"
     ]
    },
    {
     "name": "stderr",
     "output_type": "stream",
     "text": [
      "Test_Loader: 100%|██████████| 288/288 [00:30<00:00,  9.38it/s]\n"
     ]
    },
    {
     "name": "stdout",
     "output_type": "stream",
     "text": [
      "Loss1: 0.8201, Loss2: 0.3243, Loss3: 1.4010\n"
     ]
    },
    {
     "name": "stderr",
     "output_type": "stream",
     "text": [
      "Test_Loader: 100%|██████████| 288/288 [00:29<00:00,  9.65it/s]\n"
     ]
    },
    {
     "name": "stdout",
     "output_type": "stream",
     "text": [
      "Loss1: 0.8188, Loss2: 0.3271, Loss3: 1.3760\n"
     ]
    },
    {
     "name": "stderr",
     "output_type": "stream",
     "text": [
      "Test_Loader: 100%|██████████| 288/288 [00:30<00:00,  9.58it/s]\n"
     ]
    },
    {
     "name": "stdout",
     "output_type": "stream",
     "text": [
      "Loss1: 0.8166, Loss2: 0.3261, Loss3: 1.3619\n"
     ]
    },
    {
     "name": "stderr",
     "output_type": "stream",
     "text": [
      "Test_Loader: 100%|██████████| 288/288 [00:29<00:00,  9.64it/s]\n"
     ]
    },
    {
     "name": "stdout",
     "output_type": "stream",
     "text": [
      "Loss1: 0.8178, Loss2: 0.3221, Loss3: 1.3844\n"
     ]
    },
    {
     "name": "stderr",
     "output_type": "stream",
     "text": [
      "Test_Loader: 100%|██████████| 288/288 [00:29<00:00,  9.64it/s]\n"
     ]
    },
    {
     "name": "stdout",
     "output_type": "stream",
     "text": [
      "Loss1: 0.8238, Loss2: 0.3277, Loss3: 1.3814\n"
     ]
    },
    {
     "name": "stderr",
     "output_type": "stream",
     "text": [
      "Test_Loader: 100%|██████████| 288/288 [00:29<00:00,  9.70it/s]\n"
     ]
    },
    {
     "name": "stdout",
     "output_type": "stream",
     "text": [
      "Loss1: 0.8446, Loss2: 0.3257, Loss3: 1.3685\n"
     ]
    },
    {
     "name": "stderr",
     "output_type": "stream",
     "text": [
      "Test_Loader: 100%|██████████| 288/288 [00:28<00:00, 10.00it/s]\n"
     ]
    },
    {
     "name": "stdout",
     "output_type": "stream",
     "text": [
      "Loss1: 0.8405, Loss2: 0.3253, Loss3: 1.3667\n"
     ]
    },
    {
     "name": "stderr",
     "output_type": "stream",
     "text": [
      "Test_Loader: 100%|██████████| 288/288 [00:27<00:00, 10.66it/s]\n"
     ]
    },
    {
     "name": "stdout",
     "output_type": "stream",
     "text": [
      "Loss1: 0.8340, Loss2: 0.3252, Loss3: 1.3551\n"
     ]
    },
    {
     "name": "stderr",
     "output_type": "stream",
     "text": [
      "Test_Loader: 100%|██████████| 288/288 [00:28<00:00, 10.19it/s]\n"
     ]
    },
    {
     "name": "stdout",
     "output_type": "stream",
     "text": [
      "Loss1: 0.8380, Loss2: 0.3214, Loss3: 1.3741\n"
     ]
    },
    {
     "name": "stderr",
     "output_type": "stream",
     "text": [
      "Test_Loader: 100%|██████████| 288/288 [00:28<00:00, 10.02it/s]\n"
     ]
    },
    {
     "name": "stdout",
     "output_type": "stream",
     "text": [
      "Loss1: 0.8348, Loss2: 0.3225, Loss3: 1.3520\n"
     ]
    },
    {
     "name": "stderr",
     "output_type": "stream",
     "text": [
      "Test_Loader: 100%|██████████| 288/288 [00:27<00:00, 10.55it/s]\n"
     ]
    },
    {
     "name": "stdout",
     "output_type": "stream",
     "text": [
      "Loss1: 0.8358, Loss2: 0.3207, Loss3: 1.3578\n"
     ]
    },
    {
     "name": "stderr",
     "output_type": "stream",
     "text": [
      "Test_Loader: 100%|██████████| 288/288 [00:27<00:00, 10.66it/s]\n"
     ]
    },
    {
     "name": "stdout",
     "output_type": "stream",
     "text": [
      "Loss1: 0.8561, Loss2: 0.3242, Loss3: 1.3487\n"
     ]
    },
    {
     "name": "stderr",
     "output_type": "stream",
     "text": [
      "Test_Loader: 100%|██████████| 288/288 [00:26<00:00, 10.67it/s]\n"
     ]
    },
    {
     "name": "stdout",
     "output_type": "stream",
     "text": [
      "Loss1: 0.8526, Loss2: 0.3234, Loss3: 1.3586\n"
     ]
    },
    {
     "name": "stderr",
     "output_type": "stream",
     "text": [
      "Test_Loader: 100%|██████████| 288/288 [00:27<00:00, 10.52it/s]\n"
     ]
    },
    {
     "name": "stdout",
     "output_type": "stream",
     "text": [
      "Loss1: 0.8511, Loss2: 0.3263, Loss3: 1.3253\n"
     ]
    },
    {
     "name": "stderr",
     "output_type": "stream",
     "text": [
      "Test_Loader: 100%|██████████| 288/288 [00:27<00:00, 10.52it/s]\n"
     ]
    },
    {
     "name": "stdout",
     "output_type": "stream",
     "text": [
      "Loss1: 0.8415, Loss2: 0.3255, Loss3: 1.3241\n"
     ]
    },
    {
     "name": "stderr",
     "output_type": "stream",
     "text": [
      "Test_Loader: 100%|██████████| 288/288 [00:28<00:00,  9.97it/s]\n"
     ]
    },
    {
     "name": "stdout",
     "output_type": "stream",
     "text": [
      "Loss1: 0.8395, Loss2: 0.3245, Loss3: 1.3190\n"
     ]
    },
    {
     "name": "stderr",
     "output_type": "stream",
     "text": [
      "Test_Loader: 100%|██████████| 288/288 [00:28<00:00, 10.12it/s]\n"
     ]
    },
    {
     "name": "stdout",
     "output_type": "stream",
     "text": [
      "Loss1: 0.8360, Loss2: 0.3195, Loss3: 1.3232\n"
     ]
    },
    {
     "name": "stderr",
     "output_type": "stream",
     "text": [
      "Test_Loader: 100%|██████████| 288/288 [00:27<00:00, 10.31it/s]\n"
     ]
    },
    {
     "name": "stdout",
     "output_type": "stream",
     "text": [
      "Loss1: 0.8353, Loss2: 0.3239, Loss3: 1.3130\n"
     ]
    },
    {
     "name": "stderr",
     "output_type": "stream",
     "text": [
      "Test_Loader: 100%|██████████| 288/288 [00:27<00:00, 10.54it/s]\n"
     ]
    },
    {
     "name": "stdout",
     "output_type": "stream",
     "text": [
      "Loss1: 0.8380, Loss2: 0.3230, Loss3: 1.2992\n"
     ]
    },
    {
     "name": "stderr",
     "output_type": "stream",
     "text": [
      "Test_Loader: 100%|██████████| 288/288 [00:26<00:00, 10.78it/s]\n"
     ]
    },
    {
     "name": "stdout",
     "output_type": "stream",
     "text": [
      "Loss1: 0.8447, Loss2: 0.3228, Loss3: 1.3261\n"
     ]
    },
    {
     "name": "stderr",
     "output_type": "stream",
     "text": [
      "Test_Loader: 100%|██████████| 288/288 [00:26<00:00, 10.73it/s]\n"
     ]
    },
    {
     "name": "stdout",
     "output_type": "stream",
     "text": [
      "Loss1: 0.8383, Loss2: 0.3259, Loss3: 1.3108\n"
     ]
    },
    {
     "name": "stderr",
     "output_type": "stream",
     "text": [
      "Test_Loader: 100%|██████████| 288/288 [00:28<00:00,  9.97it/s]\n"
     ]
    },
    {
     "name": "stdout",
     "output_type": "stream",
     "text": [
      "Loss1: 0.8464, Loss2: 0.3222, Loss3: 1.3208\n"
     ]
    },
    {
     "name": "stderr",
     "output_type": "stream",
     "text": [
      "Test_Loader: 100%|██████████| 288/288 [00:27<00:00, 10.50it/s]\n"
     ]
    },
    {
     "name": "stdout",
     "output_type": "stream",
     "text": [
      "Loss1: 0.8160, Loss2: 0.2933, Loss3: 1.1689\n"
     ]
    },
    {
     "name": "stderr",
     "output_type": "stream",
     "text": [
      "Test_Loader: 100%|██████████| 288/288 [00:26<00:00, 10.74it/s]\n"
     ]
    },
    {
     "name": "stdout",
     "output_type": "stream",
     "text": [
      "Loss1: 0.7929, Loss2: 0.2889, Loss3: 1.1602\n"
     ]
    },
    {
     "name": "stderr",
     "output_type": "stream",
     "text": [
      "Test_Loader: 100%|██████████| 288/288 [00:27<00:00, 10.51it/s]\n"
     ]
    },
    {
     "name": "stdout",
     "output_type": "stream",
     "text": [
      "Loss1: 0.7737, Loss2: 0.2879, Loss3: 1.1907\n"
     ]
    },
    {
     "name": "stderr",
     "output_type": "stream",
     "text": [
      "Test_Loader: 100%|██████████| 288/288 [00:27<00:00, 10.59it/s]\n"
     ]
    },
    {
     "name": "stdout",
     "output_type": "stream",
     "text": [
      "Loss1: 0.7631, Loss2: 0.2841, Loss3: 1.1955\n"
     ]
    },
    {
     "name": "stderr",
     "output_type": "stream",
     "text": [
      "Test_Loader: 100%|██████████| 288/288 [00:26<00:00, 10.88it/s]\n"
     ]
    },
    {
     "name": "stdout",
     "output_type": "stream",
     "text": [
      "Loss1: 0.7681, Loss2: 0.2821, Loss3: 1.1796\n"
     ]
    },
    {
     "name": "stderr",
     "output_type": "stream",
     "text": [
      "Test_Loader: 100%|██████████| 288/288 [00:26<00:00, 10.82it/s]\n"
     ]
    },
    {
     "name": "stdout",
     "output_type": "stream",
     "text": [
      "Loss1: 0.7909, Loss2: 0.2496, Loss3: 1.0445\n"
     ]
    },
    {
     "name": "stderr",
     "output_type": "stream",
     "text": [
      "Test_Loader: 100%|██████████| 288/288 [00:26<00:00, 10.84it/s]\n"
     ]
    },
    {
     "name": "stdout",
     "output_type": "stream",
     "text": [
      "Loss1: 0.8137, Loss2: 0.2503, Loss3: 1.1821\n"
     ]
    },
    {
     "name": "stderr",
     "output_type": "stream",
     "text": [
      "Test_Loader: 100%|██████████| 288/288 [00:26<00:00, 10.95it/s]\n"
     ]
    },
    {
     "name": "stdout",
     "output_type": "stream",
     "text": [
      "Loss1: 0.8048, Loss2: 0.2474, Loss3: 1.1389\n"
     ]
    },
    {
     "name": "stderr",
     "output_type": "stream",
     "text": [
      "Test_Loader: 100%|██████████| 288/288 [00:26<00:00, 10.94it/s]\n"
     ]
    },
    {
     "name": "stdout",
     "output_type": "stream",
     "text": [
      "Loss1: 0.8032, Loss2: 0.2499, Loss3: 1.1262\n"
     ]
    },
    {
     "name": "stderr",
     "output_type": "stream",
     "text": [
      "Test_Loader: 100%|██████████| 288/288 [00:26<00:00, 10.93it/s]\n"
     ]
    },
    {
     "name": "stdout",
     "output_type": "stream",
     "text": [
      "Loss1: 0.7926, Loss2: 0.2494, Loss3: 1.1217\n"
     ]
    },
    {
     "name": "stderr",
     "output_type": "stream",
     "text": [
      "Test_Loader: 100%|██████████| 288/288 [00:26<00:00, 10.91it/s]\n"
     ]
    },
    {
     "name": "stdout",
     "output_type": "stream",
     "text": [
      "Loss1: 0.8205, Loss2: 0.2645, Loss3: 1.1317\n"
     ]
    },
    {
     "name": "stderr",
     "output_type": "stream",
     "text": [
      "Test_Loader: 100%|██████████| 288/288 [00:26<00:00, 10.84it/s]\n"
     ]
    },
    {
     "name": "stdout",
     "output_type": "stream",
     "text": [
      "Loss1: 0.7923, Loss2: 0.2618, Loss3: 1.1183\n"
     ]
    },
    {
     "name": "stderr",
     "output_type": "stream",
     "text": [
      "Test_Loader: 100%|██████████| 288/288 [00:27<00:00, 10.67it/s]\n"
     ]
    },
    {
     "name": "stdout",
     "output_type": "stream",
     "text": [
      "Loss1: 0.8135, Loss2: 0.2684, Loss3: 1.1279\n"
     ]
    },
    {
     "name": "stderr",
     "output_type": "stream",
     "text": [
      "Test_Loader: 100%|██████████| 288/288 [00:26<00:00, 10.68it/s]\n"
     ]
    },
    {
     "name": "stdout",
     "output_type": "stream",
     "text": [
      "Loss1: 0.8144, Loss2: 0.2737, Loss3: 1.1503\n"
     ]
    },
    {
     "name": "stderr",
     "output_type": "stream",
     "text": [
      "Test_Loader: 100%|██████████| 288/288 [00:26<00:00, 10.70it/s]\n"
     ]
    },
    {
     "name": "stdout",
     "output_type": "stream",
     "text": [
      "Loss1: 0.8080, Loss2: 0.2762, Loss3: 1.1635\n"
     ]
    },
    {
     "name": "stderr",
     "output_type": "stream",
     "text": [
      "Test_Loader: 100%|██████████| 288/288 [00:26<00:00, 10.73it/s]\n"
     ]
    },
    {
     "name": "stdout",
     "output_type": "stream",
     "text": [
      "Loss1: 0.7934, Loss2: 0.2724, Loss3: 1.1451\n"
     ]
    },
    {
     "name": "stderr",
     "output_type": "stream",
     "text": [
      "Test_Loader: 100%|██████████| 288/288 [00:26<00:00, 10.69it/s]\n"
     ]
    },
    {
     "name": "stdout",
     "output_type": "stream",
     "text": [
      "Loss1: 0.7944, Loss2: 0.2687, Loss3: 1.1402\n"
     ]
    },
    {
     "name": "stderr",
     "output_type": "stream",
     "text": [
      "Test_Loader: 100%|██████████| 288/288 [00:27<00:00, 10.46it/s]\n"
     ]
    },
    {
     "name": "stdout",
     "output_type": "stream",
     "text": [
      "Loss1: 0.8186, Loss2: 0.2812, Loss3: 1.1684\n"
     ]
    },
    {
     "name": "stderr",
     "output_type": "stream",
     "text": [
      "Test_Loader: 100%|██████████| 288/288 [00:28<00:00, 10.21it/s]\n"
     ]
    },
    {
     "name": "stdout",
     "output_type": "stream",
     "text": [
      "Loss1: 0.8182, Loss2: 0.2860, Loss3: 1.2748\n"
     ]
    },
    {
     "name": "stderr",
     "output_type": "stream",
     "text": [
      "Test_Loader: 100%|██████████| 288/288 [00:28<00:00, 10.22it/s]\n"
     ]
    },
    {
     "name": "stdout",
     "output_type": "stream",
     "text": [
      "Loss1: 0.8718, Loss2: 0.3179, Loss3: 1.3414\n"
     ]
    },
    {
     "name": "stderr",
     "output_type": "stream",
     "text": [
      "Test_Loader: 100%|██████████| 288/288 [00:28<00:00, 10.05it/s]\n"
     ]
    },
    {
     "name": "stdout",
     "output_type": "stream",
     "text": [
      "Loss1: 0.8734, Loss2: 0.3250, Loss3: 1.3681\n"
     ]
    },
    {
     "name": "stderr",
     "output_type": "stream",
     "text": [
      "Test_Loader: 100%|██████████| 288/288 [00:28<00:00, 10.19it/s]\n"
     ]
    },
    {
     "name": "stdout",
     "output_type": "stream",
     "text": [
      "Loss1: 0.8611, Loss2: 0.3256, Loss3: 1.3315\n"
     ]
    },
    {
     "name": "stderr",
     "output_type": "stream",
     "text": [
      "Test_Loader: 100%|██████████| 288/288 [00:28<00:00, 10.20it/s]\n"
     ]
    },
    {
     "name": "stdout",
     "output_type": "stream",
     "text": [
      "Loss1: 0.8315, Loss2: 0.3154, Loss3: 1.3060\n"
     ]
    },
    {
     "name": "stderr",
     "output_type": "stream",
     "text": [
      "Test_Loader: 100%|██████████| 288/288 [00:27<00:00, 10.48it/s]\n"
     ]
    },
    {
     "name": "stdout",
     "output_type": "stream",
     "text": [
      "Loss1: 0.8442, Loss2: 0.3183, Loss3: 1.3203\n"
     ]
    },
    {
     "name": "stderr",
     "output_type": "stream",
     "text": [
      "Test_Loader: 100%|██████████| 288/288 [00:27<00:00, 10.41it/s]\n"
     ]
    },
    {
     "name": "stdout",
     "output_type": "stream",
     "text": [
      "Loss1: 0.8329, Loss2: 0.3124, Loss3: 1.2904\n"
     ]
    },
    {
     "name": "stderr",
     "output_type": "stream",
     "text": [
      "Test_Loader: 100%|██████████| 288/288 [00:28<00:00, 10.10it/s]\n"
     ]
    },
    {
     "name": "stdout",
     "output_type": "stream",
     "text": [
      "Loss1: 0.8504, Loss2: 0.3175, Loss3: 1.3664\n"
     ]
    },
    {
     "name": "stderr",
     "output_type": "stream",
     "text": [
      "Test_Loader: 100%|██████████| 288/288 [00:28<00:00,  9.95it/s]\n"
     ]
    },
    {
     "name": "stdout",
     "output_type": "stream",
     "text": [
      "Loss1: 0.8815, Loss2: 0.3271, Loss3: 1.4867\n"
     ]
    },
    {
     "name": "stderr",
     "output_type": "stream",
     "text": [
      "Test_Loader: 100%|██████████| 288/288 [00:27<00:00, 10.36it/s]\n"
     ]
    },
    {
     "name": "stdout",
     "output_type": "stream",
     "text": [
      "Loss1: 0.9206, Loss2: 0.3480, Loss3: 1.4395\n"
     ]
    },
    {
     "name": "stderr",
     "output_type": "stream",
     "text": [
      "Test_Loader: 100%|██████████| 288/288 [00:27<00:00, 10.29it/s]\n"
     ]
    },
    {
     "name": "stdout",
     "output_type": "stream",
     "text": [
      "Loss1: 0.9357, Loss2: 0.3479, Loss3: 1.4051\n"
     ]
    },
    {
     "name": "stderr",
     "output_type": "stream",
     "text": [
      "Test_Loader: 100%|██████████| 288/288 [00:27<00:00, 10.64it/s]\n"
     ]
    },
    {
     "name": "stdout",
     "output_type": "stream",
     "text": [
      "Loss1: 0.9203, Loss2: 0.3482, Loss3: 1.3838\n"
     ]
    },
    {
     "name": "stderr",
     "output_type": "stream",
     "text": [
      "Test_Loader: 100%|██████████| 288/288 [00:27<00:00, 10.64it/s]\n"
     ]
    },
    {
     "name": "stdout",
     "output_type": "stream",
     "text": [
      "Loss1: 0.9272, Loss2: 0.3484, Loss3: 1.3592\n"
     ]
    },
    {
     "name": "stderr",
     "output_type": "stream",
     "text": [
      "Test_Loader: 100%|██████████| 288/288 [00:27<00:00, 10.53it/s]\n"
     ]
    },
    {
     "name": "stdout",
     "output_type": "stream",
     "text": [
      "Loss1: 0.8668, Loss2: 0.3254, Loss3: 1.2981\n"
     ]
    },
    {
     "name": "stderr",
     "output_type": "stream",
     "text": [
      "Test_Loader: 100%|██████████| 288/288 [00:27<00:00, 10.53it/s]\n"
     ]
    },
    {
     "name": "stdout",
     "output_type": "stream",
     "text": [
      "Loss1: 0.8737, Loss2: 0.3269, Loss3: 1.3004\n"
     ]
    },
    {
     "name": "stderr",
     "output_type": "stream",
     "text": [
      "Test_Loader: 100%|██████████| 288/288 [00:27<00:00, 10.43it/s]\n"
     ]
    },
    {
     "name": "stdout",
     "output_type": "stream",
     "text": [
      "Loss1: 0.8460, Loss2: 0.3152, Loss3: 1.2462\n"
     ]
    },
    {
     "name": "stderr",
     "output_type": "stream",
     "text": [
      "Test_Loader: 100%|██████████| 288/288 [00:26<00:00, 10.83it/s]\n"
     ]
    },
    {
     "name": "stdout",
     "output_type": "stream",
     "text": [
      "Loss1: 0.8493, Loss2: 0.3166, Loss3: 1.2364\n"
     ]
    },
    {
     "name": "stderr",
     "output_type": "stream",
     "text": [
      "Test_Loader: 100%|██████████| 288/288 [00:26<00:00, 11.05it/s]\n"
     ]
    },
    {
     "name": "stdout",
     "output_type": "stream",
     "text": [
      "Loss1: 0.8365, Loss2: 0.3137, Loss3: 1.2159\n"
     ]
    },
    {
     "name": "stderr",
     "output_type": "stream",
     "text": [
      "Test_Loader: 100%|██████████| 288/288 [00:26<00:00, 10.94it/s]\n"
     ]
    },
    {
     "name": "stdout",
     "output_type": "stream",
     "text": [
      "Loss1: 0.8495, Loss2: 0.3140, Loss3: 1.2120\n"
     ]
    },
    {
     "name": "stderr",
     "output_type": "stream",
     "text": [
      "Test_Loader: 100%|██████████| 288/288 [00:26<00:00, 10.77it/s]\n"
     ]
    },
    {
     "name": "stdout",
     "output_type": "stream",
     "text": [
      "Loss1: 0.8378, Loss2: 0.3137, Loss3: 1.2010\n"
     ]
    },
    {
     "name": "stderr",
     "output_type": "stream",
     "text": [
      "Test_Loader: 100%|██████████| 288/288 [00:28<00:00, 10.22it/s]\n"
     ]
    },
    {
     "name": "stdout",
     "output_type": "stream",
     "text": [
      "Loss1: 0.8107, Loss2: 0.3126, Loss3: 1.1984\n"
     ]
    },
    {
     "name": "stderr",
     "output_type": "stream",
     "text": [
      "Test_Loader: 100%|██████████| 288/288 [00:27<00:00, 10.52it/s]\n"
     ]
    },
    {
     "name": "stdout",
     "output_type": "stream",
     "text": [
      "Loss1: 0.8046, Loss2: 0.3104, Loss3: 1.1773\n"
     ]
    },
    {
     "name": "stderr",
     "output_type": "stream",
     "text": [
      "Test_Loader: 100%|██████████| 288/288 [00:27<00:00, 10.54it/s]\n"
     ]
    },
    {
     "name": "stdout",
     "output_type": "stream",
     "text": [
      "Loss1: 0.8189, Loss2: 0.3078, Loss3: 1.1785\n"
     ]
    },
    {
     "name": "stderr",
     "output_type": "stream",
     "text": [
      "Test_Loader: 100%|██████████| 288/288 [00:26<00:00, 10.71it/s]\n"
     ]
    },
    {
     "name": "stdout",
     "output_type": "stream",
     "text": [
      "Loss1: 0.8176, Loss2: 0.3108, Loss3: 1.1618\n"
     ]
    },
    {
     "name": "stderr",
     "output_type": "stream",
     "text": [
      "Test_Loader: 100%|██████████| 288/288 [00:26<00:00, 10.77it/s]\n"
     ]
    },
    {
     "name": "stdout",
     "output_type": "stream",
     "text": [
      "Loss1: 0.8145, Loss2: 0.3090, Loss3: 1.1454\n"
     ]
    },
    {
     "name": "stderr",
     "output_type": "stream",
     "text": [
      "Test_Loader: 100%|██████████| 288/288 [00:26<00:00, 10.70it/s]\n"
     ]
    },
    {
     "name": "stdout",
     "output_type": "stream",
     "text": [
      "Loss1: 0.8363, Loss2: 0.3135, Loss3: 1.1759\n"
     ]
    },
    {
     "name": "stderr",
     "output_type": "stream",
     "text": [
      "Test_Loader: 100%|██████████| 288/288 [00:27<00:00, 10.42it/s]\n"
     ]
    },
    {
     "name": "stdout",
     "output_type": "stream",
     "text": [
      "Loss1: 0.8348, Loss2: 0.3155, Loss3: 1.1504\n"
     ]
    },
    {
     "name": "stderr",
     "output_type": "stream",
     "text": [
      "Test_Loader: 100%|██████████| 288/288 [00:27<00:00, 10.34it/s]\n"
     ]
    },
    {
     "name": "stdout",
     "output_type": "stream",
     "text": [
      "Loss1: 0.8276, Loss2: 0.3105, Loss3: 1.1455\n"
     ]
    },
    {
     "name": "stderr",
     "output_type": "stream",
     "text": [
      "Test_Loader: 100%|██████████| 288/288 [00:28<00:00, 10.19it/s]\n"
     ]
    },
    {
     "name": "stdout",
     "output_type": "stream",
     "text": [
      "Loss1: 0.8363, Loss2: 0.3105, Loss3: 1.1296\n"
     ]
    },
    {
     "name": "stderr",
     "output_type": "stream",
     "text": [
      "Test_Loader: 100%|██████████| 288/288 [00:28<00:00, 10.13it/s]\n"
     ]
    },
    {
     "name": "stdout",
     "output_type": "stream",
     "text": [
      "Loss1: 0.8388, Loss2: 0.3107, Loss3: 1.1363\n"
     ]
    },
    {
     "name": "stderr",
     "output_type": "stream",
     "text": [
      "Test_Loader: 100%|██████████| 288/288 [00:28<00:00, 10.14it/s]\n"
     ]
    },
    {
     "name": "stdout",
     "output_type": "stream",
     "text": [
      "Loss1: 0.8336, Loss2: 0.3089, Loss3: 1.1320\n"
     ]
    },
    {
     "name": "stderr",
     "output_type": "stream",
     "text": [
      "Test_Loader: 100%|██████████| 288/288 [00:27<00:00, 10.54it/s]\n"
     ]
    },
    {
     "name": "stdout",
     "output_type": "stream",
     "text": [
      "Loss1: 0.8382, Loss2: 0.3126, Loss3: 1.1278\n"
     ]
    },
    {
     "name": "stderr",
     "output_type": "stream",
     "text": [
      "Test_Loader: 100%|██████████| 288/288 [00:27<00:00, 10.59it/s]\n"
     ]
    },
    {
     "name": "stdout",
     "output_type": "stream",
     "text": [
      "Loss1: 0.8422, Loss2: 0.3185, Loss3: 1.1392\n"
     ]
    },
    {
     "name": "stderr",
     "output_type": "stream",
     "text": [
      "Test_Loader: 100%|██████████| 288/288 [00:27<00:00, 10.50it/s]\n"
     ]
    },
    {
     "name": "stdout",
     "output_type": "stream",
     "text": [
      "Loss1: 0.8403, Loss2: 0.3137, Loss3: 1.1315\n"
     ]
    },
    {
     "name": "stderr",
     "output_type": "stream",
     "text": [
      "Test_Loader: 100%|██████████| 288/288 [00:28<00:00,  9.98it/s]\n"
     ]
    },
    {
     "name": "stdout",
     "output_type": "stream",
     "text": [
      "Loss1: 0.8521, Loss2: 0.3118, Loss3: 1.1347\n"
     ]
    },
    {
     "name": "stderr",
     "output_type": "stream",
     "text": [
      "Test_Loader: 100%|██████████| 288/288 [00:28<00:00, 10.23it/s]\n"
     ]
    },
    {
     "name": "stdout",
     "output_type": "stream",
     "text": [
      "Loss1: 0.8615, Loss2: 0.3210, Loss3: 1.1313\n"
     ]
    },
    {
     "name": "stderr",
     "output_type": "stream",
     "text": [
      "Test_Loader: 100%|██████████| 288/288 [00:26<00:00, 10.79it/s]\n"
     ]
    },
    {
     "name": "stdout",
     "output_type": "stream",
     "text": [
      "Loss1: 0.8463, Loss2: 0.3170, Loss3: 1.1162\n"
     ]
    },
    {
     "name": "stderr",
     "output_type": "stream",
     "text": [
      "Test_Loader: 100%|██████████| 288/288 [00:26<00:00, 10.89it/s]\n"
     ]
    },
    {
     "name": "stdout",
     "output_type": "stream",
     "text": [
      "Loss1: 0.8321, Loss2: 0.3171, Loss3: 1.1110\n"
     ]
    },
    {
     "name": "stderr",
     "output_type": "stream",
     "text": [
      "Test_Loader: 100%|██████████| 288/288 [00:26<00:00, 10.73it/s]\n"
     ]
    },
    {
     "name": "stdout",
     "output_type": "stream",
     "text": [
      "Loss1: 0.8309, Loss2: 0.3110, Loss3: 1.0939\n"
     ]
    },
    {
     "name": "stderr",
     "output_type": "stream",
     "text": [
      "Test_Loader: 100%|██████████| 288/288 [00:27<00:00, 10.45it/s]\n"
     ]
    },
    {
     "name": "stdout",
     "output_type": "stream",
     "text": [
      "Loss1: 0.8219, Loss2: 0.3112, Loss3: 1.0835\n"
     ]
    },
    {
     "name": "stderr",
     "output_type": "stream",
     "text": [
      "Test_Loader: 100%|██████████| 288/288 [00:27<00:00, 10.48it/s]\n"
     ]
    },
    {
     "name": "stdout",
     "output_type": "stream",
     "text": [
      "Loss1: 0.8128, Loss2: 0.3122, Loss3: 1.0753\n"
     ]
    },
    {
     "name": "stderr",
     "output_type": "stream",
     "text": [
      "Test_Loader: 100%|██████████| 288/288 [00:28<00:00, 10.22it/s]\n"
     ]
    },
    {
     "name": "stdout",
     "output_type": "stream",
     "text": [
      "Loss1: 0.8112, Loss2: 0.3082, Loss3: 1.0557\n"
     ]
    },
    {
     "name": "stderr",
     "output_type": "stream",
     "text": [
      "Test_Loader: 100%|██████████| 288/288 [00:26<00:00, 10.76it/s]\n"
     ]
    },
    {
     "name": "stdout",
     "output_type": "stream",
     "text": [
      "Loss1: 0.8126, Loss2: 0.3089, Loss3: 1.0593\n"
     ]
    },
    {
     "name": "stderr",
     "output_type": "stream",
     "text": [
      "Test_Loader: 100%|██████████| 288/288 [00:26<00:00, 10.82it/s]\n"
     ]
    },
    {
     "name": "stdout",
     "output_type": "stream",
     "text": [
      "Loss1: 0.8158, Loss2: 0.3071, Loss3: 1.0561\n"
     ]
    },
    {
     "name": "stderr",
     "output_type": "stream",
     "text": [
      "Test_Loader: 100%|██████████| 288/288 [00:27<00:00, 10.65it/s]\n"
     ]
    },
    {
     "name": "stdout",
     "output_type": "stream",
     "text": [
      "Loss1: 0.8054, Loss2: 0.3023, Loss3: 1.0549\n"
     ]
    },
    {
     "name": "stderr",
     "output_type": "stream",
     "text": [
      "Test_Loader: 100%|██████████| 288/288 [00:26<00:00, 10.86it/s]\n"
     ]
    },
    {
     "name": "stdout",
     "output_type": "stream",
     "text": [
      "Loss1: 0.8358, Loss2: 0.3117, Loss3: 1.0727\n"
     ]
    },
    {
     "name": "stderr",
     "output_type": "stream",
     "text": [
      "Test_Loader: 100%|██████████| 288/288 [00:27<00:00, 10.54it/s]\n"
     ]
    },
    {
     "name": "stdout",
     "output_type": "stream",
     "text": [
      "Loss1: 0.8156, Loss2: 0.3021, Loss3: 1.0433\n"
     ]
    },
    {
     "name": "stderr",
     "output_type": "stream",
     "text": [
      "Test_Loader: 100%|██████████| 288/288 [00:26<00:00, 10.73it/s]\n"
     ]
    },
    {
     "name": "stdout",
     "output_type": "stream",
     "text": [
      "Loss1: 0.8123, Loss2: 0.2973, Loss3: 1.0366\n"
     ]
    },
    {
     "name": "stderr",
     "output_type": "stream",
     "text": [
      "Test_Loader: 100%|██████████| 288/288 [00:26<00:00, 11.07it/s]\n"
     ]
    },
    {
     "name": "stdout",
     "output_type": "stream",
     "text": [
      "Loss1: 0.8258, Loss2: 0.3042, Loss3: 1.0572\n"
     ]
    },
    {
     "name": "stderr",
     "output_type": "stream",
     "text": [
      "Test_Loader: 100%|██████████| 288/288 [00:26<00:00, 10.78it/s]\n"
     ]
    },
    {
     "name": "stdout",
     "output_type": "stream",
     "text": [
      "Loss1: 0.8155, Loss2: 0.3025, Loss3: 1.0636\n"
     ]
    },
    {
     "name": "stderr",
     "output_type": "stream",
     "text": [
      "Test_Loader: 100%|██████████| 288/288 [00:27<00:00, 10.47it/s]\n"
     ]
    },
    {
     "name": "stdout",
     "output_type": "stream",
     "text": [
      "Loss1: 0.8119, Loss2: 0.3011, Loss3: 1.0545\n"
     ]
    },
    {
     "name": "stderr",
     "output_type": "stream",
     "text": [
      "Test_Loader: 100%|██████████| 288/288 [00:27<00:00, 10.32it/s]\n"
     ]
    },
    {
     "name": "stdout",
     "output_type": "stream",
     "text": [
      "Loss1: 0.8131, Loss2: 0.2967, Loss3: 1.0580\n"
     ]
    },
    {
     "name": "stderr",
     "output_type": "stream",
     "text": [
      "Test_Loader: 100%|██████████| 288/288 [00:27<00:00, 10.32it/s]\n"
     ]
    },
    {
     "name": "stdout",
     "output_type": "stream",
     "text": [
      "Loss1: 0.8088, Loss2: 0.2977, Loss3: 1.0458\n"
     ]
    },
    {
     "name": "stderr",
     "output_type": "stream",
     "text": [
      "Test_Loader: 100%|██████████| 288/288 [00:27<00:00, 10.44it/s]\n"
     ]
    },
    {
     "name": "stdout",
     "output_type": "stream",
     "text": [
      "Loss1: 0.7972, Loss2: 0.2935, Loss3: 1.0378\n"
     ]
    },
    {
     "name": "stderr",
     "output_type": "stream",
     "text": [
      "Test_Loader: 100%|██████████| 288/288 [00:28<00:00, 10.19it/s]\n"
     ]
    },
    {
     "name": "stdout",
     "output_type": "stream",
     "text": [
      "Loss1: 0.7987, Loss2: 0.2926, Loss3: 1.0279\n"
     ]
    },
    {
     "name": "stderr",
     "output_type": "stream",
     "text": [
      "Test_Loader: 100%|██████████| 288/288 [00:28<00:00, 10.19it/s]\n"
     ]
    },
    {
     "name": "stdout",
     "output_type": "stream",
     "text": [
      "Loss1: 0.7903, Loss2: 0.2902, Loss3: 1.0286\n"
     ]
    },
    {
     "name": "stderr",
     "output_type": "stream",
     "text": [
      "Test_Loader: 100%|██████████| 288/288 [00:27<00:00, 10.50it/s]\n"
     ]
    },
    {
     "name": "stdout",
     "output_type": "stream",
     "text": [
      "Loss1: 0.7941, Loss2: 0.2890, Loss3: 1.0168\n"
     ]
    },
    {
     "name": "stderr",
     "output_type": "stream",
     "text": [
      "Test_Loader: 100%|██████████| 288/288 [00:26<00:00, 10.81it/s]\n"
     ]
    },
    {
     "name": "stdout",
     "output_type": "stream",
     "text": [
      "Loss1: 0.7909, Loss2: 0.2892, Loss3: 1.0197\n"
     ]
    },
    {
     "name": "stderr",
     "output_type": "stream",
     "text": [
      "Test_Loader: 100%|██████████| 288/288 [00:26<00:00, 10.68it/s]\n"
     ]
    },
    {
     "name": "stdout",
     "output_type": "stream",
     "text": [
      "Loss1: 0.7875, Loss2: 0.2915, Loss3: 1.0170\n"
     ]
    },
    {
     "name": "stderr",
     "output_type": "stream",
     "text": [
      "Test_Loader: 100%|██████████| 288/288 [00:27<00:00, 10.46it/s]\n"
     ]
    },
    {
     "name": "stdout",
     "output_type": "stream",
     "text": [
      "Loss1: 0.7817, Loss2: 0.2874, Loss3: 1.0095\n"
     ]
    },
    {
     "name": "stderr",
     "output_type": "stream",
     "text": [
      "Test_Loader: 100%|██████████| 288/288 [00:27<00:00, 10.41it/s]\n"
     ]
    },
    {
     "name": "stdout",
     "output_type": "stream",
     "text": [
      "Loss1: 0.7696, Loss2: 0.2863, Loss3: 0.9961\n"
     ]
    },
    {
     "name": "stderr",
     "output_type": "stream",
     "text": [
      "Test_Loader: 100%|██████████| 288/288 [00:27<00:00, 10.36it/s]\n"
     ]
    },
    {
     "name": "stdout",
     "output_type": "stream",
     "text": [
      "Loss1: 0.7567, Loss2: 0.2838, Loss3: 0.9818\n"
     ]
    },
    {
     "name": "stderr",
     "output_type": "stream",
     "text": [
      "Test_Loader: 100%|██████████| 288/288 [00:26<00:00, 10.71it/s]\n"
     ]
    },
    {
     "name": "stdout",
     "output_type": "stream",
     "text": [
      "Loss1: 0.7601, Loss2: 0.2833, Loss3: 0.9843\n"
     ]
    },
    {
     "name": "stderr",
     "output_type": "stream",
     "text": [
      "Test_Loader: 100%|██████████| 288/288 [00:27<00:00, 10.67it/s]\n"
     ]
    },
    {
     "name": "stdout",
     "output_type": "stream",
     "text": [
      "Loss1: 0.7567, Loss2: 0.2836, Loss3: 0.9772\n"
     ]
    },
    {
     "name": "stderr",
     "output_type": "stream",
     "text": [
      "Test_Loader: 100%|██████████| 288/288 [00:27<00:00, 10.52it/s]\n"
     ]
    },
    {
     "name": "stdout",
     "output_type": "stream",
     "text": [
      "Loss1: 0.7535, Loss2: 0.2844, Loss3: 0.9758\n"
     ]
    },
    {
     "name": "stderr",
     "output_type": "stream",
     "text": [
      "Test_Loader: 100%|██████████| 288/288 [00:27<00:00, 10.58it/s]\n"
     ]
    },
    {
     "name": "stdout",
     "output_type": "stream",
     "text": [
      "Loss1: 0.7552, Loss2: 0.2825, Loss3: 0.9809\n"
     ]
    },
    {
     "name": "stderr",
     "output_type": "stream",
     "text": [
      "Test_Loader: 100%|██████████| 288/288 [00:27<00:00, 10.53it/s]\n"
     ]
    },
    {
     "name": "stdout",
     "output_type": "stream",
     "text": [
      "Loss1: 0.7560, Loss2: 0.2833, Loss3: 0.9734\n"
     ]
    },
    {
     "name": "stderr",
     "output_type": "stream",
     "text": [
      "Test_Loader: 100%|██████████| 288/288 [00:27<00:00, 10.33it/s]\n"
     ]
    },
    {
     "name": "stdout",
     "output_type": "stream",
     "text": [
      "Loss1: 0.7309, Loss2: 0.2780, Loss3: 0.9594\n"
     ]
    },
    {
     "name": "stderr",
     "output_type": "stream",
     "text": [
      "Test_Loader: 100%|██████████| 288/288 [00:28<00:00, 10.16it/s]\n"
     ]
    },
    {
     "name": "stdout",
     "output_type": "stream",
     "text": [
      "Loss1: 0.7334, Loss2: 0.2773, Loss3: 0.9415\n"
     ]
    },
    {
     "name": "stderr",
     "output_type": "stream",
     "text": [
      "Test_Loader: 100%|██████████| 288/288 [00:27<00:00, 10.58it/s]\n"
     ]
    },
    {
     "name": "stdout",
     "output_type": "stream",
     "text": [
      "Loss1: 0.7196, Loss2: 0.2771, Loss3: 0.9441\n"
     ]
    },
    {
     "name": "stderr",
     "output_type": "stream",
     "text": [
      "Test_Loader: 100%|██████████| 288/288 [00:26<00:00, 10.71it/s]\n"
     ]
    },
    {
     "name": "stdout",
     "output_type": "stream",
     "text": [
      "Loss1: 0.7185, Loss2: 0.2780, Loss3: 0.9309\n"
     ]
    },
    {
     "name": "stderr",
     "output_type": "stream",
     "text": [
      "Test_Loader: 100%|██████████| 288/288 [00:26<00:00, 10.73it/s]\n"
     ]
    },
    {
     "name": "stdout",
     "output_type": "stream",
     "text": [
      "Loss1: 0.7195, Loss2: 0.2747, Loss3: 0.9351\n"
     ]
    },
    {
     "name": "stderr",
     "output_type": "stream",
     "text": [
      "Test_Loader: 100%|██████████| 288/288 [00:27<00:00, 10.62it/s]\n"
     ]
    },
    {
     "name": "stdout",
     "output_type": "stream",
     "text": [
      "Loss1: 0.7179, Loss2: 0.2757, Loss3: 0.9329\n"
     ]
    },
    {
     "name": "stderr",
     "output_type": "stream",
     "text": [
      "Test_Loader: 100%|██████████| 288/288 [00:29<00:00,  9.92it/s]\n"
     ]
    },
    {
     "name": "stdout",
     "output_type": "stream",
     "text": [
      "Loss1: 0.7225, Loss2: 0.2757, Loss3: 0.9353\n"
     ]
    },
    {
     "name": "stderr",
     "output_type": "stream",
     "text": [
      "Test_Loader: 100%|██████████| 288/288 [00:28<00:00, 10.22it/s]\n"
     ]
    },
    {
     "name": "stdout",
     "output_type": "stream",
     "text": [
      "Loss1: 0.7156, Loss2: 0.2753, Loss3: 0.9314\n"
     ]
    },
    {
     "name": "stderr",
     "output_type": "stream",
     "text": [
      "Test_Loader: 100%|██████████| 288/288 [00:26<00:00, 10.69it/s]\n"
     ]
    },
    {
     "name": "stdout",
     "output_type": "stream",
     "text": [
      "Loss1: 0.7109, Loss2: 0.2752, Loss3: 0.9554\n"
     ]
    },
    {
     "name": "stderr",
     "output_type": "stream",
     "text": [
      "Test_Loader: 100%|██████████| 288/288 [00:27<00:00, 10.62it/s]\n"
     ]
    },
    {
     "name": "stdout",
     "output_type": "stream",
     "text": [
      "Loss1: 0.7120, Loss2: 0.2700, Loss3: 0.9449\n"
     ]
    },
    {
     "name": "stderr",
     "output_type": "stream",
     "text": [
      "Test_Loader: 100%|██████████| 288/288 [00:27<00:00, 10.45it/s]\n"
     ]
    },
    {
     "name": "stdout",
     "output_type": "stream",
     "text": [
      "Loss1: 0.7132, Loss2: 0.2728, Loss3: 0.9516\n"
     ]
    },
    {
     "name": "stderr",
     "output_type": "stream",
     "text": [
      "Test_Loader: 100%|██████████| 288/288 [00:28<00:00, 10.27it/s]\n"
     ]
    },
    {
     "name": "stdout",
     "output_type": "stream",
     "text": [
      "Loss1: 0.7332, Loss2: 0.3062, Loss3: 0.9954\n"
     ]
    },
    {
     "name": "stderr",
     "output_type": "stream",
     "text": [
      "Test_Loader: 100%|██████████| 288/288 [00:27<00:00, 10.46it/s]\n"
     ]
    },
    {
     "name": "stdout",
     "output_type": "stream",
     "text": [
      "Loss1: 0.7286, Loss2: 0.2983, Loss3: 0.9925\n"
     ]
    },
    {
     "name": "stderr",
     "output_type": "stream",
     "text": [
      "Test_Loader: 100%|██████████| 288/288 [00:27<00:00, 10.32it/s]\n"
     ]
    },
    {
     "name": "stdout",
     "output_type": "stream",
     "text": [
      "Loss1: 0.8441, Loss2: 0.3416, Loss3: 1.2082\n"
     ]
    },
    {
     "name": "stderr",
     "output_type": "stream",
     "text": [
      "Test_Loader: 100%|██████████| 288/288 [00:28<00:00, 10.22it/s]\n"
     ]
    },
    {
     "name": "stdout",
     "output_type": "stream",
     "text": [
      "Loss1: 0.8602, Loss2: 0.3518, Loss3: 1.2215\n"
     ]
    },
    {
     "name": "stderr",
     "output_type": "stream",
     "text": [
      "Test_Loader: 100%|██████████| 288/288 [00:27<00:00, 10.53it/s]\n"
     ]
    },
    {
     "name": "stdout",
     "output_type": "stream",
     "text": [
      "Loss1: 0.8632, Loss2: 0.3480, Loss3: 1.2137\n"
     ]
    },
    {
     "name": "stderr",
     "output_type": "stream",
     "text": [
      "Test_Loader: 100%|██████████| 288/288 [00:26<00:00, 10.85it/s]\n"
     ]
    },
    {
     "name": "stdout",
     "output_type": "stream",
     "text": [
      "Loss1: 0.8261, Loss2: 0.3443, Loss3: 1.2113\n"
     ]
    },
    {
     "name": "stderr",
     "output_type": "stream",
     "text": [
      "Test_Loader: 100%|██████████| 288/288 [00:26<00:00, 10.89it/s]\n"
     ]
    },
    {
     "name": "stdout",
     "output_type": "stream",
     "text": [
      "Loss1: 0.8372, Loss2: 0.3493, Loss3: 1.2347\n"
     ]
    },
    {
     "name": "stderr",
     "output_type": "stream",
     "text": [
      "Test_Loader: 100%|██████████| 288/288 [00:27<00:00, 10.49it/s]\n"
     ]
    },
    {
     "name": "stdout",
     "output_type": "stream",
     "text": [
      "Loss1: 0.8287, Loss2: 0.3452, Loss3: 1.2164\n"
     ]
    },
    {
     "name": "stderr",
     "output_type": "stream",
     "text": [
      "Test_Loader: 100%|██████████| 288/288 [00:27<00:00, 10.55it/s]\n"
     ]
    },
    {
     "name": "stdout",
     "output_type": "stream",
     "text": [
      "Loss1: 0.9092, Loss2: 0.3569, Loss3: 1.2489\n"
     ]
    },
    {
     "name": "stderr",
     "output_type": "stream",
     "text": [
      "Test_Loader: 100%|██████████| 288/288 [00:27<00:00, 10.51it/s]\n"
     ]
    },
    {
     "name": "stdout",
     "output_type": "stream",
     "text": [
      "Loss1: 0.9360, Loss2: 0.3547, Loss3: 1.2912\n"
     ]
    },
    {
     "name": "stderr",
     "output_type": "stream",
     "text": [
      "Test_Loader: 100%|██████████| 288/288 [00:27<00:00, 10.59it/s]\n"
     ]
    },
    {
     "name": "stdout",
     "output_type": "stream",
     "text": [
      "Loss1: 0.9177, Loss2: 0.3433, Loss3: 1.2677\n"
     ]
    },
    {
     "name": "stderr",
     "output_type": "stream",
     "text": [
      "Test_Loader: 100%|██████████| 288/288 [00:27<00:00, 10.60it/s]\n"
     ]
    },
    {
     "name": "stdout",
     "output_type": "stream",
     "text": [
      "Loss1: 0.9079, Loss2: 0.3396, Loss3: 1.2620\n"
     ]
    },
    {
     "name": "stderr",
     "output_type": "stream",
     "text": [
      "Test_Loader: 100%|██████████| 288/288 [00:26<00:00, 10.80it/s]\n"
     ]
    },
    {
     "name": "stdout",
     "output_type": "stream",
     "text": [
      "Loss1: 0.8970, Loss2: 0.3281, Loss3: 1.2502\n"
     ]
    },
    {
     "name": "stderr",
     "output_type": "stream",
     "text": [
      "Test_Loader: 100%|██████████| 288/288 [00:27<00:00, 10.66it/s]\n"
     ]
    },
    {
     "name": "stdout",
     "output_type": "stream",
     "text": [
      "Loss1: 0.9122, Loss2: 0.3329, Loss3: 1.2415\n"
     ]
    },
    {
     "name": "stderr",
     "output_type": "stream",
     "text": [
      "Test_Loader: 100%|██████████| 288/288 [00:27<00:00, 10.41it/s]\n"
     ]
    },
    {
     "name": "stdout",
     "output_type": "stream",
     "text": [
      "Loss1: 0.8970, Loss2: 0.3213, Loss3: 1.2122\n"
     ]
    },
    {
     "name": "stderr",
     "output_type": "stream",
     "text": [
      "Test_Loader: 100%|██████████| 288/288 [00:27<00:00, 10.54it/s]\n"
     ]
    },
    {
     "name": "stdout",
     "output_type": "stream",
     "text": [
      "Loss1: 0.9396, Loss2: 0.3356, Loss3: 1.3097\n"
     ]
    },
    {
     "name": "stderr",
     "output_type": "stream",
     "text": [
      "Test_Loader: 100%|██████████| 288/288 [00:27<00:00, 10.34it/s]\n"
     ]
    },
    {
     "name": "stdout",
     "output_type": "stream",
     "text": [
      "Loss1: 0.9411, Loss2: 0.3369, Loss3: 1.2835\n"
     ]
    },
    {
     "name": "stderr",
     "output_type": "stream",
     "text": [
      "Test_Loader: 100%|██████████| 288/288 [00:27<00:00, 10.30it/s]\n"
     ]
    },
    {
     "name": "stdout",
     "output_type": "stream",
     "text": [
      "Loss1: 0.9239, Loss2: 0.3336, Loss3: 1.2985\n"
     ]
    },
    {
     "name": "stderr",
     "output_type": "stream",
     "text": [
      "Test_Loader: 100%|██████████| 288/288 [00:27<00:00, 10.32it/s]\n"
     ]
    },
    {
     "name": "stdout",
     "output_type": "stream",
     "text": [
      "Loss1: 1.0103, Loss2: 0.3666, Loss3: 1.4512\n"
     ]
    },
    {
     "name": "stderr",
     "output_type": "stream",
     "text": [
      "Test_Loader: 100%|██████████| 288/288 [00:26<00:00, 10.96it/s]\n"
     ]
    },
    {
     "name": "stdout",
     "output_type": "stream",
     "text": [
      "Loss1: 0.9911, Loss2: 0.3461, Loss3: 1.4040\n"
     ]
    },
    {
     "name": "stderr",
     "output_type": "stream",
     "text": [
      "Test_Loader: 100%|██████████| 288/288 [00:26<00:00, 10.70it/s]\n"
     ]
    },
    {
     "name": "stdout",
     "output_type": "stream",
     "text": [
      "Loss1: 0.9822, Loss2: 0.3319, Loss3: 1.3246\n"
     ]
    },
    {
     "name": "stderr",
     "output_type": "stream",
     "text": [
      "Test_Loader: 100%|██████████| 288/288 [00:26<00:00, 10.74it/s]\n"
     ]
    },
    {
     "name": "stdout",
     "output_type": "stream",
     "text": [
      "Loss1: 0.9751, Loss2: 0.3297, Loss3: 1.3273\n"
     ]
    },
    {
     "name": "stderr",
     "output_type": "stream",
     "text": [
      "Test_Loader: 100%|██████████| 288/288 [00:26<00:00, 10.80it/s]\n"
     ]
    },
    {
     "name": "stdout",
     "output_type": "stream",
     "text": [
      "Loss1: 0.9702, Loss2: 0.3278, Loss3: 1.2888\n"
     ]
    },
    {
     "name": "stderr",
     "output_type": "stream",
     "text": [
      "Test_Loader: 100%|██████████| 288/288 [00:26<00:00, 10.69it/s]\n"
     ]
    },
    {
     "name": "stdout",
     "output_type": "stream",
     "text": [
      "Loss1: 0.9602, Loss2: 0.3247, Loss3: 1.2627\n"
     ]
    },
    {
     "name": "stderr",
     "output_type": "stream",
     "text": [
      "Test_Loader: 100%|██████████| 288/288 [00:26<00:00, 10.79it/s]\n"
     ]
    },
    {
     "name": "stdout",
     "output_type": "stream",
     "text": [
      "Loss1: 1.0228, Loss2: 0.3753, Loss3: 1.4158\n"
     ]
    },
    {
     "name": "stderr",
     "output_type": "stream",
     "text": [
      "Test_Loader: 100%|██████████| 288/288 [00:27<00:00, 10.57it/s]\n"
     ]
    },
    {
     "name": "stdout",
     "output_type": "stream",
     "text": [
      "Loss1: 1.0482, Loss2: 0.3945, Loss3: 1.6450\n"
     ]
    },
    {
     "name": "stderr",
     "output_type": "stream",
     "text": [
      "Test_Loader: 100%|██████████| 288/288 [00:27<00:00, 10.49it/s]\n"
     ]
    },
    {
     "name": "stdout",
     "output_type": "stream",
     "text": [
      "Loss1: 1.0189, Loss2: 0.3716, Loss3: 1.5416\n"
     ]
    },
    {
     "name": "stderr",
     "output_type": "stream",
     "text": [
      "Test_Loader: 100%|██████████| 288/288 [00:27<00:00, 10.44it/s]\n"
     ]
    },
    {
     "name": "stdout",
     "output_type": "stream",
     "text": [
      "Loss1: 0.9875, Loss2: 0.3557, Loss3: 1.4913\n"
     ]
    },
    {
     "name": "stderr",
     "output_type": "stream",
     "text": [
      "Test_Loader: 100%|██████████| 288/288 [00:28<00:00, 10.23it/s]\n"
     ]
    },
    {
     "name": "stdout",
     "output_type": "stream",
     "text": [
      "Loss1: 0.9703, Loss2: 0.3478, Loss3: 1.4491\n"
     ]
    },
    {
     "name": "stderr",
     "output_type": "stream",
     "text": [
      "Test_Loader: 100%|██████████| 288/288 [00:28<00:00, 10.22it/s]\n"
     ]
    },
    {
     "name": "stdout",
     "output_type": "stream",
     "text": [
      "Loss1: 0.9511, Loss2: 0.3437, Loss3: 1.4211\n"
     ]
    },
    {
     "name": "stderr",
     "output_type": "stream",
     "text": [
      "Test_Loader: 100%|██████████| 288/288 [00:27<00:00, 10.45it/s]\n"
     ]
    },
    {
     "name": "stdout",
     "output_type": "stream",
     "text": [
      "Loss1: 0.9569, Loss2: 0.3387, Loss3: 1.3844\n"
     ]
    },
    {
     "name": "stderr",
     "output_type": "stream",
     "text": [
      "Test_Loader: 100%|██████████| 288/288 [00:27<00:00, 10.33it/s]\n"
     ]
    },
    {
     "name": "stdout",
     "output_type": "stream",
     "text": [
      "Loss1: 0.9594, Loss2: 0.3426, Loss3: 1.4111\n"
     ]
    },
    {
     "name": "stderr",
     "output_type": "stream",
     "text": [
      "Test_Loader: 100%|██████████| 288/288 [00:27<00:00, 10.59it/s]\n"
     ]
    },
    {
     "name": "stdout",
     "output_type": "stream",
     "text": [
      "Loss1: 0.9542, Loss2: 0.3380, Loss3: 1.3913\n"
     ]
    },
    {
     "name": "stderr",
     "output_type": "stream",
     "text": [
      "Test_Loader: 100%|██████████| 288/288 [00:26<00:00, 10.67it/s]\n"
     ]
    },
    {
     "name": "stdout",
     "output_type": "stream",
     "text": [
      "Loss1: 0.9522, Loss2: 0.3351, Loss3: 1.3582\n"
     ]
    },
    {
     "name": "stderr",
     "output_type": "stream",
     "text": [
      "Test_Loader: 100%|██████████| 288/288 [00:27<00:00, 10.60it/s]\n"
     ]
    },
    {
     "name": "stdout",
     "output_type": "stream",
     "text": [
      "Loss1: 0.9428, Loss2: 0.3352, Loss3: 1.3311\n"
     ]
    },
    {
     "name": "stderr",
     "output_type": "stream",
     "text": [
      "Test_Loader: 100%|██████████| 288/288 [00:27<00:00, 10.31it/s]\n"
     ]
    },
    {
     "name": "stdout",
     "output_type": "stream",
     "text": [
      "Loss1: 0.9341, Loss2: 0.3310, Loss3: 1.3119\n"
     ]
    },
    {
     "name": "stderr",
     "output_type": "stream",
     "text": [
      "Test_Loader: 100%|██████████| 288/288 [00:27<00:00, 10.52it/s]\n"
     ]
    },
    {
     "name": "stdout",
     "output_type": "stream",
     "text": [
      "Loss1: 0.9180, Loss2: 0.3230, Loss3: 1.2882\n"
     ]
    },
    {
     "name": "stderr",
     "output_type": "stream",
     "text": [
      "Test_Loader: 100%|██████████| 288/288 [00:26<00:00, 11.03it/s]\n"
     ]
    },
    {
     "name": "stdout",
     "output_type": "stream",
     "text": [
      "Loss1: 0.9191, Loss2: 0.3216, Loss3: 1.2626\n"
     ]
    },
    {
     "name": "stderr",
     "output_type": "stream",
     "text": [
      "Test_Loader: 100%|██████████| 288/288 [00:26<00:00, 10.76it/s]\n"
     ]
    },
    {
     "name": "stdout",
     "output_type": "stream",
     "text": [
      "Loss1: 0.9181, Loss2: 0.3285, Loss3: 1.2680\n"
     ]
    },
    {
     "name": "stderr",
     "output_type": "stream",
     "text": [
      "Test_Loader: 100%|██████████| 288/288 [00:27<00:00, 10.51it/s]\n"
     ]
    },
    {
     "name": "stdout",
     "output_type": "stream",
     "text": [
      "Loss1: 0.9207, Loss2: 0.3260, Loss3: 1.2689\n"
     ]
    },
    {
     "name": "stderr",
     "output_type": "stream",
     "text": [
      "Test_Loader: 100%|██████████| 288/288 [00:27<00:00, 10.31it/s]\n"
     ]
    },
    {
     "name": "stdout",
     "output_type": "stream",
     "text": [
      "Loss1: 0.9506, Loss2: 0.3312, Loss3: 1.2845\n"
     ]
    },
    {
     "name": "stderr",
     "output_type": "stream",
     "text": [
      "Test_Loader: 100%|██████████| 288/288 [00:27<00:00, 10.36it/s]\n"
     ]
    },
    {
     "name": "stdout",
     "output_type": "stream",
     "text": [
      "Loss1: 0.9612, Loss2: 0.3307, Loss3: 1.3122\n"
     ]
    },
    {
     "name": "stderr",
     "output_type": "stream",
     "text": [
      "Test_Loader: 100%|██████████| 288/288 [00:28<00:00, 10.18it/s]\n"
     ]
    },
    {
     "name": "stdout",
     "output_type": "stream",
     "text": [
      "Loss1: 0.9995, Loss2: 0.3411, Loss3: 1.3628\n"
     ]
    },
    {
     "name": "stderr",
     "output_type": "stream",
     "text": [
      "Test_Loader: 100%|██████████| 288/288 [00:28<00:00, 10.20it/s]\n"
     ]
    },
    {
     "name": "stdout",
     "output_type": "stream",
     "text": [
      "Loss1: 0.9846, Loss2: 0.3341, Loss3: 1.3727\n"
     ]
    },
    {
     "name": "stderr",
     "output_type": "stream",
     "text": [
      "Test_Loader: 100%|██████████| 288/288 [00:28<00:00, 10.19it/s]\n"
     ]
    },
    {
     "name": "stdout",
     "output_type": "stream",
     "text": [
      "Loss1: 0.9834, Loss2: 0.3327, Loss3: 1.3460\n"
     ]
    },
    {
     "name": "stderr",
     "output_type": "stream",
     "text": [
      "Test_Loader: 100%|██████████| 288/288 [00:27<00:00, 10.48it/s]\n"
     ]
    },
    {
     "name": "stdout",
     "output_type": "stream",
     "text": [
      "Loss1: 0.9805, Loss2: 0.3294, Loss3: 1.3416\n"
     ]
    },
    {
     "name": "stderr",
     "output_type": "stream",
     "text": [
      "Test_Loader: 100%|██████████| 288/288 [00:27<00:00, 10.58it/s]\n"
     ]
    },
    {
     "name": "stdout",
     "output_type": "stream",
     "text": [
      "Loss1: 0.9727, Loss2: 0.3304, Loss3: 1.3122\n"
     ]
    },
    {
     "name": "stderr",
     "output_type": "stream",
     "text": [
      "Test_Loader: 100%|██████████| 288/288 [00:27<00:00, 10.48it/s]\n"
     ]
    },
    {
     "name": "stdout",
     "output_type": "stream",
     "text": [
      "Loss1: 0.9592, Loss2: 0.3338, Loss3: 1.3287\n"
     ]
    },
    {
     "name": "stderr",
     "output_type": "stream",
     "text": [
      "Test_Loader: 100%|██████████| 288/288 [00:28<00:00, 10.23it/s]\n"
     ]
    },
    {
     "name": "stdout",
     "output_type": "stream",
     "text": [
      "Loss1: 0.9558, Loss2: 0.3325, Loss3: 1.3124\n"
     ]
    },
    {
     "name": "stderr",
     "output_type": "stream",
     "text": [
      "Test_Loader: 100%|██████████| 288/288 [00:28<00:00, 10.24it/s]\n"
     ]
    },
    {
     "name": "stdout",
     "output_type": "stream",
     "text": [
      "Loss1: 0.9474, Loss2: 0.3298, Loss3: 1.3220\n"
     ]
    },
    {
     "name": "stderr",
     "output_type": "stream",
     "text": [
      "Test_Loader: 100%|██████████| 288/288 [00:27<00:00, 10.55it/s]\n"
     ]
    },
    {
     "name": "stdout",
     "output_type": "stream",
     "text": [
      "Loss1: 1.0796, Loss2: 0.3584, Loss3: 1.7477\n"
     ]
    },
    {
     "name": "stderr",
     "output_type": "stream",
     "text": [
      "Test_Loader: 100%|██████████| 288/288 [00:27<00:00, 10.36it/s]\n"
     ]
    },
    {
     "name": "stdout",
     "output_type": "stream",
     "text": [
      "Loss1: 1.0481, Loss2: 0.3663, Loss3: 1.6289\n"
     ]
    },
    {
     "name": "stderr",
     "output_type": "stream",
     "text": [
      "Test_Loader: 100%|██████████| 288/288 [00:28<00:00, 10.21it/s]\n"
     ]
    },
    {
     "name": "stdout",
     "output_type": "stream",
     "text": [
      "Loss1: 1.0347, Loss2: 0.3633, Loss3: 1.5656\n"
     ]
    },
    {
     "name": "stderr",
     "output_type": "stream",
     "text": [
      "Test_Loader: 100%|██████████| 288/288 [00:27<00:00, 10.29it/s]\n"
     ]
    },
    {
     "name": "stdout",
     "output_type": "stream",
     "text": [
      "Loss1: 1.0120, Loss2: 0.3615, Loss3: 1.5059\n"
     ]
    },
    {
     "name": "stderr",
     "output_type": "stream",
     "text": [
      "Test_Loader: 100%|██████████| 288/288 [00:27<00:00, 10.29it/s]\n"
     ]
    },
    {
     "name": "stdout",
     "output_type": "stream",
     "text": [
      "Loss1: 0.9955, Loss2: 0.3571, Loss3: 1.4791\n"
     ]
    },
    {
     "name": "stderr",
     "output_type": "stream",
     "text": [
      "Test_Loader: 100%|██████████| 288/288 [00:28<00:00, 10.20it/s]\n"
     ]
    },
    {
     "name": "stdout",
     "output_type": "stream",
     "text": [
      "Loss1: 1.0021, Loss2: 0.3602, Loss3: 1.4252\n"
     ]
    },
    {
     "name": "stderr",
     "output_type": "stream",
     "text": [
      "Test_Loader: 100%|██████████| 288/288 [00:28<00:00, 10.16it/s]\n"
     ]
    },
    {
     "name": "stdout",
     "output_type": "stream",
     "text": [
      "Loss1: 1.0843, Loss2: 0.3712, Loss3: 1.5348\n"
     ]
    },
    {
     "name": "stderr",
     "output_type": "stream",
     "text": [
      "Test_Loader: 100%|██████████| 288/288 [00:28<00:00, 10.16it/s]\n"
     ]
    },
    {
     "name": "stdout",
     "output_type": "stream",
     "text": [
      "Loss1: 1.0746, Loss2: 0.3818, Loss3: 1.5004\n"
     ]
    },
    {
     "name": "stderr",
     "output_type": "stream",
     "text": [
      "Test_Loader: 100%|██████████| 288/288 [00:27<00:00, 10.64it/s]\n"
     ]
    },
    {
     "name": "stdout",
     "output_type": "stream",
     "text": [
      "Loss1: 1.0680, Loss2: 0.3742, Loss3: 1.5070\n"
     ]
    },
    {
     "name": "stderr",
     "output_type": "stream",
     "text": [
      "Test_Loader: 100%|██████████| 288/288 [00:26<00:00, 10.85it/s]\n"
     ]
    },
    {
     "name": "stdout",
     "output_type": "stream",
     "text": [
      "Loss1: 1.0694, Loss2: 0.3713, Loss3: 1.4566\n"
     ]
    },
    {
     "name": "stderr",
     "output_type": "stream",
     "text": [
      "Test_Loader: 100%|██████████| 288/288 [00:27<00:00, 10.51it/s]\n"
     ]
    },
    {
     "name": "stdout",
     "output_type": "stream",
     "text": [
      "Loss1: 1.0613, Loss2: 0.3709, Loss3: 1.4776\n"
     ]
    },
    {
     "name": "stderr",
     "output_type": "stream",
     "text": [
      "Test_Loader: 100%|██████████| 288/288 [00:27<00:00, 10.33it/s]\n"
     ]
    },
    {
     "name": "stdout",
     "output_type": "stream",
     "text": [
      "Loss1: 1.0715, Loss2: 0.3727, Loss3: 1.4587\n"
     ]
    },
    {
     "name": "stderr",
     "output_type": "stream",
     "text": [
      "Test_Loader: 100%|██████████| 288/288 [00:28<00:00, 10.29it/s]\n"
     ]
    },
    {
     "name": "stdout",
     "output_type": "stream",
     "text": [
      "Loss1: 1.0769, Loss2: 0.3708, Loss3: 1.4537\n"
     ]
    },
    {
     "name": "stderr",
     "output_type": "stream",
     "text": [
      "Test_Loader: 100%|██████████| 288/288 [00:27<00:00, 10.58it/s]\n"
     ]
    },
    {
     "name": "stdout",
     "output_type": "stream",
     "text": [
      "Loss1: 1.0828, Loss2: 0.3696, Loss3: 1.4327\n"
     ]
    },
    {
     "name": "stderr",
     "output_type": "stream",
     "text": [
      "Test_Loader: 100%|██████████| 288/288 [00:27<00:00, 10.47it/s]\n"
     ]
    },
    {
     "name": "stdout",
     "output_type": "stream",
     "text": [
      "Loss1: 1.0624, Loss2: 0.3582, Loss3: 1.4240\n"
     ]
    },
    {
     "name": "stderr",
     "output_type": "stream",
     "text": [
      "Test_Loader: 100%|██████████| 288/288 [00:26<00:00, 10.92it/s]\n"
     ]
    },
    {
     "name": "stdout",
     "output_type": "stream",
     "text": [
      "Loss1: 1.0651, Loss2: 0.3582, Loss3: 1.3923\n"
     ]
    },
    {
     "name": "stderr",
     "output_type": "stream",
     "text": [
      "Test_Loader: 100%|██████████| 288/288 [00:26<00:00, 11.04it/s]\n"
     ]
    },
    {
     "name": "stdout",
     "output_type": "stream",
     "text": [
      "Loss1: 1.0597, Loss2: 0.3541, Loss3: 1.4167\n"
     ]
    },
    {
     "name": "stderr",
     "output_type": "stream",
     "text": [
      "Test_Loader: 100%|██████████| 288/288 [00:26<00:00, 11.04it/s]\n"
     ]
    },
    {
     "name": "stdout",
     "output_type": "stream",
     "text": [
      "Loss1: 1.0564, Loss2: 0.3528, Loss3: 1.3800\n"
     ]
    },
    {
     "name": "stderr",
     "output_type": "stream",
     "text": [
      "Test_Loader: 100%|██████████| 288/288 [00:25<00:00, 11.16it/s]\n"
     ]
    },
    {
     "name": "stdout",
     "output_type": "stream",
     "text": [
      "Loss1: 1.0554, Loss2: 0.3530, Loss3: 1.3710\n"
     ]
    },
    {
     "name": "stderr",
     "output_type": "stream",
     "text": [
      "Test_Loader: 100%|██████████| 288/288 [00:26<00:00, 11.03it/s]\n"
     ]
    },
    {
     "name": "stdout",
     "output_type": "stream",
     "text": [
      "Loss1: 1.0569, Loss2: 0.3511, Loss3: 1.3661\n"
     ]
    },
    {
     "name": "stderr",
     "output_type": "stream",
     "text": [
      "Test_Loader: 100%|██████████| 288/288 [00:26<00:00, 10.92it/s]\n"
     ]
    },
    {
     "name": "stdout",
     "output_type": "stream",
     "text": [
      "Loss1: 1.0474, Loss2: 0.3475, Loss3: 1.3573\n"
     ]
    },
    {
     "name": "stderr",
     "output_type": "stream",
     "text": [
      "Test_Loader: 100%|██████████| 288/288 [00:26<00:00, 10.82it/s]\n"
     ]
    },
    {
     "name": "stdout",
     "output_type": "stream",
     "text": [
      "Loss1: 1.0640, Loss2: 0.3465, Loss3: 1.3706\n"
     ]
    },
    {
     "name": "stderr",
     "output_type": "stream",
     "text": [
      "Test_Loader: 100%|██████████| 288/288 [00:26<00:00, 10.97it/s]\n"
     ]
    },
    {
     "name": "stdout",
     "output_type": "stream",
     "text": [
      "Loss1: 1.0697, Loss2: 0.3462, Loss3: 1.3624\n"
     ]
    },
    {
     "name": "stderr",
     "output_type": "stream",
     "text": [
      "Test_Loader: 100%|██████████| 288/288 [00:26<00:00, 10.70it/s]\n"
     ]
    },
    {
     "name": "stdout",
     "output_type": "stream",
     "text": [
      "Loss1: 1.0676, Loss2: 0.3443, Loss3: 1.3522\n"
     ]
    },
    {
     "name": "stderr",
     "output_type": "stream",
     "text": [
      "Test_Loader: 100%|██████████| 288/288 [00:26<00:00, 10.73it/s]\n"
     ]
    },
    {
     "name": "stdout",
     "output_type": "stream",
     "text": [
      "Loss1: 1.0848, Loss2: 0.3429, Loss3: 1.3720\n"
     ]
    },
    {
     "name": "stderr",
     "output_type": "stream",
     "text": [
      "Test_Loader: 100%|██████████| 288/288 [00:28<00:00, 10.18it/s]\n"
     ]
    },
    {
     "name": "stdout",
     "output_type": "stream",
     "text": [
      "Loss1: 1.1224, Loss2: 0.3548, Loss3: 1.4307\n"
     ]
    },
    {
     "name": "stderr",
     "output_type": "stream",
     "text": [
      "Test_Loader: 100%|██████████| 288/288 [00:27<00:00, 10.62it/s]\n"
     ]
    },
    {
     "name": "stdout",
     "output_type": "stream",
     "text": [
      "Loss1: 1.1210, Loss2: 0.3511, Loss3: 1.4070\n"
     ]
    },
    {
     "name": "stderr",
     "output_type": "stream",
     "text": [
      "Test_Loader: 100%|██████████| 288/288 [00:27<00:00, 10.55it/s]\n"
     ]
    },
    {
     "name": "stdout",
     "output_type": "stream",
     "text": [
      "Loss1: 1.1476, Loss2: 0.3514, Loss3: 1.4276\n"
     ]
    },
    {
     "name": "stderr",
     "output_type": "stream",
     "text": [
      "Test_Loader: 100%|██████████| 288/288 [00:26<00:00, 10.70it/s]\n"
     ]
    },
    {
     "name": "stdout",
     "output_type": "stream",
     "text": [
      "Loss1: 1.1370, Loss2: 0.3480, Loss3: 1.4202\n"
     ]
    },
    {
     "name": "stderr",
     "output_type": "stream",
     "text": [
      "Test_Loader: 100%|██████████| 288/288 [00:27<00:00, 10.56it/s]\n"
     ]
    },
    {
     "name": "stdout",
     "output_type": "stream",
     "text": [
      "Loss1: 1.1364, Loss2: 0.3462, Loss3: 1.4164\n"
     ]
    },
    {
     "name": "stderr",
     "output_type": "stream",
     "text": [
      "Test_Loader: 100%|██████████| 288/288 [00:27<00:00, 10.38it/s]\n"
     ]
    },
    {
     "name": "stdout",
     "output_type": "stream",
     "text": [
      "Loss1: 1.1413, Loss2: 0.3443, Loss3: 1.3928\n"
     ]
    },
    {
     "name": "stderr",
     "output_type": "stream",
     "text": [
      "Test_Loader: 100%|██████████| 288/288 [00:27<00:00, 10.33it/s]\n"
     ]
    },
    {
     "name": "stdout",
     "output_type": "stream",
     "text": [
      "Loss1: 1.1278, Loss2: 0.3450, Loss3: 1.4072\n"
     ]
    },
    {
     "name": "stderr",
     "output_type": "stream",
     "text": [
      "Test_Loader: 100%|██████████| 288/288 [00:28<00:00, 10.18it/s]\n"
     ]
    },
    {
     "name": "stdout",
     "output_type": "stream",
     "text": [
      "Loss1: 1.1387, Loss2: 0.3439, Loss3: 1.3994\n"
     ]
    },
    {
     "name": "stderr",
     "output_type": "stream",
     "text": [
      "Test_Loader: 100%|██████████| 288/288 [00:28<00:00, 10.27it/s]\n"
     ]
    },
    {
     "name": "stdout",
     "output_type": "stream",
     "text": [
      "Loss1: 1.1169, Loss2: 0.3439, Loss3: 1.3814\n"
     ]
    },
    {
     "name": "stderr",
     "output_type": "stream",
     "text": [
      "Test_Loader: 100%|██████████| 288/288 [00:27<00:00, 10.41it/s]\n"
     ]
    },
    {
     "name": "stdout",
     "output_type": "stream",
     "text": [
      "Loss1: 1.1163, Loss2: 0.3424, Loss3: 1.3776\n"
     ]
    },
    {
     "name": "stderr",
     "output_type": "stream",
     "text": [
      "Test_Loader: 100%|██████████| 288/288 [00:27<00:00, 10.64it/s]\n"
     ]
    },
    {
     "name": "stdout",
     "output_type": "stream",
     "text": [
      "Loss1: 1.1104, Loss2: 0.3379, Loss3: 1.3723\n"
     ]
    },
    {
     "name": "stderr",
     "output_type": "stream",
     "text": [
      "Test_Loader: 100%|██████████| 288/288 [00:27<00:00, 10.62it/s]\n"
     ]
    },
    {
     "name": "stdout",
     "output_type": "stream",
     "text": [
      "Loss1: 1.1036, Loss2: 0.3369, Loss3: 1.3710\n"
     ]
    },
    {
     "name": "stderr",
     "output_type": "stream",
     "text": [
      "Test_Loader: 100%|██████████| 288/288 [00:27<00:00, 10.33it/s]\n"
     ]
    },
    {
     "name": "stdout",
     "output_type": "stream",
     "text": [
      "Loss1: 1.1240, Loss2: 0.3358, Loss3: 1.3681\n"
     ]
    },
    {
     "name": "stderr",
     "output_type": "stream",
     "text": [
      "Test_Loader: 100%|██████████| 288/288 [00:28<00:00,  9.97it/s]\n"
     ]
    },
    {
     "name": "stdout",
     "output_type": "stream",
     "text": [
      "Loss1: 1.1219, Loss2: 0.3369, Loss3: 1.3600\n"
     ]
    },
    {
     "name": "stderr",
     "output_type": "stream",
     "text": [
      "Test_Loader: 100%|██████████| 288/288 [00:27<00:00, 10.59it/s]\n"
     ]
    },
    {
     "name": "stdout",
     "output_type": "stream",
     "text": [
      "Loss1: 1.1153, Loss2: 0.3368, Loss3: 1.3505\n"
     ]
    },
    {
     "name": "stderr",
     "output_type": "stream",
     "text": [
      "Test_Loader: 100%|██████████| 288/288 [00:27<00:00, 10.45it/s]\n"
     ]
    },
    {
     "name": "stdout",
     "output_type": "stream",
     "text": [
      "Loss1: 1.1127, Loss2: 0.3341, Loss3: 1.3488\n"
     ]
    },
    {
     "name": "stderr",
     "output_type": "stream",
     "text": [
      "Test_Loader: 100%|██████████| 288/288 [00:27<00:00, 10.46it/s]\n"
     ]
    },
    {
     "name": "stdout",
     "output_type": "stream",
     "text": [
      "Loss1: 1.1041, Loss2: 0.3323, Loss3: 1.3345\n"
     ]
    },
    {
     "name": "stderr",
     "output_type": "stream",
     "text": [
      "Test_Loader: 100%|██████████| 288/288 [00:27<00:00, 10.44it/s]\n"
     ]
    },
    {
     "name": "stdout",
     "output_type": "stream",
     "text": [
      "Loss1: 1.1057, Loss2: 0.3296, Loss3: 1.3241\n"
     ]
    },
    {
     "name": "stderr",
     "output_type": "stream",
     "text": [
      "Test_Loader: 100%|██████████| 288/288 [00:28<00:00, 10.23it/s]\n"
     ]
    },
    {
     "name": "stdout",
     "output_type": "stream",
     "text": [
      "Loss1: 1.1016, Loss2: 0.3274, Loss3: 1.3155\n"
     ]
    },
    {
     "name": "stderr",
     "output_type": "stream",
     "text": [
      "Test_Loader: 100%|██████████| 288/288 [00:28<00:00, 10.15it/s]\n"
     ]
    },
    {
     "name": "stdout",
     "output_type": "stream",
     "text": [
      "Loss1: 1.0988, Loss2: 0.3258, Loss3: 1.3013\n"
     ]
    },
    {
     "name": "stderr",
     "output_type": "stream",
     "text": [
      "Test_Loader: 100%|██████████| 288/288 [00:27<00:00, 10.30it/s]\n"
     ]
    },
    {
     "name": "stdout",
     "output_type": "stream",
     "text": [
      "Loss1: 1.0911, Loss2: 0.3234, Loss3: 1.3059\n"
     ]
    },
    {
     "name": "stderr",
     "output_type": "stream",
     "text": [
      "Test_Loader: 100%|██████████| 288/288 [00:27<00:00, 10.34it/s]\n"
     ]
    },
    {
     "name": "stdout",
     "output_type": "stream",
     "text": [
      "Loss1: 1.0843, Loss2: 0.3116, Loss3: 1.2787\n"
     ]
    },
    {
     "name": "stderr",
     "output_type": "stream",
     "text": [
      "Test_Loader: 100%|██████████| 288/288 [00:28<00:00, 10.28it/s]\n"
     ]
    },
    {
     "name": "stdout",
     "output_type": "stream",
     "text": [
      "Loss1: 1.0727, Loss2: 0.3107, Loss3: 1.2706\n"
     ]
    },
    {
     "name": "stderr",
     "output_type": "stream",
     "text": [
      "Test_Loader: 100%|██████████| 288/288 [00:27<00:00, 10.63it/s]\n"
     ]
    },
    {
     "name": "stdout",
     "output_type": "stream",
     "text": [
      "Loss1: 0.9777, Loss2: 0.3173, Loss3: 1.2248\n"
     ]
    },
    {
     "name": "stderr",
     "output_type": "stream",
     "text": [
      "Test_Loader: 100%|██████████| 288/288 [00:26<00:00, 10.68it/s]\n"
     ]
    },
    {
     "name": "stdout",
     "output_type": "stream",
     "text": [
      "Loss1: 0.9572, Loss2: 0.3193, Loss3: 1.2388\n"
     ]
    },
    {
     "name": "stderr",
     "output_type": "stream",
     "text": [
      "Test_Loader: 100%|██████████| 288/288 [00:27<00:00, 10.48it/s]\n"
     ]
    },
    {
     "name": "stdout",
     "output_type": "stream",
     "text": [
      "Loss1: 0.9489, Loss2: 0.3166, Loss3: 1.2316\n"
     ]
    },
    {
     "name": "stderr",
     "output_type": "stream",
     "text": [
      "Test_Loader: 100%|██████████| 288/288 [00:26<00:00, 10.77it/s]\n"
     ]
    },
    {
     "name": "stdout",
     "output_type": "stream",
     "text": [
      "Loss1: 0.9442, Loss2: 0.3170, Loss3: 1.2245\n"
     ]
    },
    {
     "name": "stderr",
     "output_type": "stream",
     "text": [
      "Test_Loader: 100%|██████████| 288/288 [00:26<00:00, 10.71it/s]\n"
     ]
    },
    {
     "name": "stdout",
     "output_type": "stream",
     "text": [
      "Loss1: 0.9298, Loss2: 0.3148, Loss3: 1.2173\n"
     ]
    },
    {
     "name": "stderr",
     "output_type": "stream",
     "text": [
      "Test_Loader: 100%|██████████| 288/288 [00:26<00:00, 11.02it/s]\n"
     ]
    },
    {
     "name": "stdout",
     "output_type": "stream",
     "text": [
      "Loss1: 0.9422, Loss2: 0.3170, Loss3: 1.2063\n"
     ]
    },
    {
     "name": "stderr",
     "output_type": "stream",
     "text": [
      "Test_Loader: 100%|██████████| 288/288 [00:26<00:00, 10.96it/s]\n"
     ]
    },
    {
     "name": "stdout",
     "output_type": "stream",
     "text": [
      "Loss1: 0.8973, Loss2: 0.3122, Loss3: 1.1897\n"
     ]
    },
    {
     "name": "stderr",
     "output_type": "stream",
     "text": [
      "Test_Loader: 100%|██████████| 288/288 [00:26<00:00, 10.84it/s]\n"
     ]
    },
    {
     "name": "stdout",
     "output_type": "stream",
     "text": [
      "Loss1: 0.8851, Loss2: 0.3084, Loss3: 1.1692\n"
     ]
    },
    {
     "name": "stderr",
     "output_type": "stream",
     "text": [
      "Test_Loader: 100%|██████████| 288/288 [00:26<00:00, 11.00it/s]\n"
     ]
    },
    {
     "name": "stdout",
     "output_type": "stream",
     "text": [
      "Loss1: 0.8840, Loss2: 0.3117, Loss3: 1.1802\n"
     ]
    },
    {
     "name": "stderr",
     "output_type": "stream",
     "text": [
      "Test_Loader: 100%|██████████| 288/288 [00:26<00:00, 10.95it/s]\n"
     ]
    },
    {
     "name": "stdout",
     "output_type": "stream",
     "text": [
      "Loss1: 0.8827, Loss2: 0.3125, Loss3: 1.1677\n"
     ]
    },
    {
     "name": "stderr",
     "output_type": "stream",
     "text": [
      "Test_Loader: 100%|██████████| 288/288 [00:26<00:00, 10.91it/s]\n"
     ]
    },
    {
     "name": "stdout",
     "output_type": "stream",
     "text": [
      "Loss1: 0.8974, Loss2: 0.3236, Loss3: 1.1872\n"
     ]
    },
    {
     "name": "stderr",
     "output_type": "stream",
     "text": [
      "Test_Loader: 100%|██████████| 288/288 [00:26<00:00, 10.73it/s]\n"
     ]
    },
    {
     "name": "stdout",
     "output_type": "stream",
     "text": [
      "Loss1: 0.8750, Loss2: 0.3170, Loss3: 1.1626\n"
     ]
    },
    {
     "name": "stderr",
     "output_type": "stream",
     "text": [
      "Test_Loader: 100%|██████████| 288/288 [00:27<00:00, 10.65it/s]\n"
     ]
    },
    {
     "name": "stdout",
     "output_type": "stream",
     "text": [
      "Loss1: 0.8769, Loss2: 0.3194, Loss3: 1.1668\n"
     ]
    },
    {
     "name": "stderr",
     "output_type": "stream",
     "text": [
      "Test_Loader: 100%|██████████| 288/288 [00:27<00:00, 10.66it/s]\n"
     ]
    },
    {
     "name": "stdout",
     "output_type": "stream",
     "text": [
      "Loss1: 0.8340, Loss2: 0.3113, Loss3: 1.1519\n"
     ]
    },
    {
     "name": "stderr",
     "output_type": "stream",
     "text": [
      "Test_Loader: 100%|██████████| 288/288 [00:26<00:00, 10.97it/s]\n"
     ]
    },
    {
     "name": "stdout",
     "output_type": "stream",
     "text": [
      "Loss1: 0.8328, Loss2: 0.3110, Loss3: 1.1479\n"
     ]
    },
    {
     "name": "stderr",
     "output_type": "stream",
     "text": [
      "Test_Loader: 100%|██████████| 288/288 [00:26<00:00, 10.86it/s]\n"
     ]
    },
    {
     "name": "stdout",
     "output_type": "stream",
     "text": [
      "Loss1: 0.8232, Loss2: 0.3075, Loss3: 1.1351\n"
     ]
    },
    {
     "name": "stderr",
     "output_type": "stream",
     "text": [
      "Test_Loader: 100%|██████████| 288/288 [00:26<00:00, 10.80it/s]\n"
     ]
    },
    {
     "name": "stdout",
     "output_type": "stream",
     "text": [
      "Loss1: 0.7967, Loss2: 0.3033, Loss3: 1.1044\n"
     ]
    },
    {
     "name": "stderr",
     "output_type": "stream",
     "text": [
      "Test_Loader: 100%|██████████| 288/288 [00:27<00:00, 10.63it/s]\n"
     ]
    },
    {
     "name": "stdout",
     "output_type": "stream",
     "text": [
      "Loss1: 0.7824, Loss2: 0.2998, Loss3: 1.1023\n"
     ]
    },
    {
     "name": "stderr",
     "output_type": "stream",
     "text": [
      "Test_Loader: 100%|██████████| 288/288 [00:27<00:00, 10.66it/s]\n"
     ]
    },
    {
     "name": "stdout",
     "output_type": "stream",
     "text": [
      "Loss1: 0.7796, Loss2: 0.2983, Loss3: 1.0945\n"
     ]
    },
    {
     "name": "stderr",
     "output_type": "stream",
     "text": [
      "Test_Loader: 100%|██████████| 288/288 [00:27<00:00, 10.56it/s]\n"
     ]
    },
    {
     "name": "stdout",
     "output_type": "stream",
     "text": [
      "Loss1: 0.7794, Loss2: 0.2954, Loss3: 1.0821\n"
     ]
    },
    {
     "name": "stderr",
     "output_type": "stream",
     "text": [
      "Test_Loader: 100%|██████████| 288/288 [00:27<00:00, 10.41it/s]\n"
     ]
    },
    {
     "name": "stdout",
     "output_type": "stream",
     "text": [
      "Loss1: 0.7957, Loss2: 0.2998, Loss3: 1.1065\n"
     ]
    },
    {
     "name": "stderr",
     "output_type": "stream",
     "text": [
      "Test_Loader: 100%|██████████| 288/288 [00:28<00:00, 10.15it/s]\n"
     ]
    },
    {
     "name": "stdout",
     "output_type": "stream",
     "text": [
      "Loss1: 0.7963, Loss2: 0.2996, Loss3: 1.0942\n"
     ]
    },
    {
     "name": "stderr",
     "output_type": "stream",
     "text": [
      "Test_Loader: 100%|██████████| 288/288 [00:27<00:00, 10.32it/s]\n"
     ]
    },
    {
     "name": "stdout",
     "output_type": "stream",
     "text": [
      "Loss1: 0.7475, Loss2: 0.2615, Loss3: 1.0228\n"
     ]
    },
    {
     "name": "stderr",
     "output_type": "stream",
     "text": [
      "Test_Loader: 100%|██████████| 288/288 [00:28<00:00, 10.22it/s]\n"
     ]
    },
    {
     "name": "stdout",
     "output_type": "stream",
     "text": [
      "Loss1: 0.7266, Loss2: 0.2546, Loss3: 1.0065\n"
     ]
    },
    {
     "name": "stderr",
     "output_type": "stream",
     "text": [
      "Test_Loader: 100%|██████████| 288/288 [00:28<00:00, 10.12it/s]\n"
     ]
    },
    {
     "name": "stdout",
     "output_type": "stream",
     "text": [
      "Loss1: 0.7331, Loss2: 0.2542, Loss3: 1.0133\n"
     ]
    },
    {
     "name": "stderr",
     "output_type": "stream",
     "text": [
      "Test_Loader: 100%|██████████| 288/288 [00:28<00:00, 10.11it/s]\n"
     ]
    },
    {
     "name": "stdout",
     "output_type": "stream",
     "text": [
      "Loss1: 0.7282, Loss2: 0.2571, Loss3: 0.9968\n"
     ]
    },
    {
     "name": "stderr",
     "output_type": "stream",
     "text": [
      "Test_Loader: 100%|██████████| 288/288 [00:27<00:00, 10.61it/s]\n"
     ]
    },
    {
     "name": "stdout",
     "output_type": "stream",
     "text": [
      "Loss1: 0.7284, Loss2: 0.2573, Loss3: 1.0019\n"
     ]
    },
    {
     "name": "stderr",
     "output_type": "stream",
     "text": [
      "Test_Loader: 100%|██████████| 288/288 [00:26<00:00, 10.78it/s]\n"
     ]
    },
    {
     "name": "stdout",
     "output_type": "stream",
     "text": [
      "Loss1: 0.7376, Loss2: 0.2630, Loss3: 1.0137\n"
     ]
    },
    {
     "name": "stderr",
     "output_type": "stream",
     "text": [
      "Test_Loader: 100%|██████████| 288/288 [00:26<00:00, 10.94it/s]\n"
     ]
    },
    {
     "name": "stdout",
     "output_type": "stream",
     "text": [
      "Loss1: 0.7504, Loss2: 0.2685, Loss3: 1.0287\n"
     ]
    },
    {
     "name": "stderr",
     "output_type": "stream",
     "text": [
      "Test_Loader: 100%|██████████| 288/288 [00:26<00:00, 10.79it/s]\n"
     ]
    },
    {
     "name": "stdout",
     "output_type": "stream",
     "text": [
      "Loss1: 0.7357, Loss2: 0.2628, Loss3: 0.9952\n"
     ]
    },
    {
     "name": "stderr",
     "output_type": "stream",
     "text": [
      "Test_Loader: 100%|██████████| 288/288 [00:27<00:00, 10.43it/s]\n"
     ]
    },
    {
     "name": "stdout",
     "output_type": "stream",
     "text": [
      "Loss1: 0.7391, Loss2: 0.2628, Loss3: 0.9976\n"
     ]
    },
    {
     "name": "stderr",
     "output_type": "stream",
     "text": [
      "Test_Loader: 100%|██████████| 288/288 [00:27<00:00, 10.62it/s]\n"
     ]
    },
    {
     "name": "stdout",
     "output_type": "stream",
     "text": [
      "Loss1: 0.7435, Loss2: 0.2899, Loss3: 1.0274\n"
     ]
    },
    {
     "name": "stderr",
     "output_type": "stream",
     "text": [
      "Test_Loader: 100%|██████████| 288/288 [00:27<00:00, 10.43it/s]\n"
     ]
    },
    {
     "name": "stdout",
     "output_type": "stream",
     "text": [
      "Loss1: 0.7455, Loss2: 0.2887, Loss3: 1.0264\n"
     ]
    },
    {
     "name": "stderr",
     "output_type": "stream",
     "text": [
      "Test_Loader: 100%|██████████| 288/288 [00:27<00:00, 10.41it/s]\n"
     ]
    },
    {
     "name": "stdout",
     "output_type": "stream",
     "text": [
      "Loss1: 0.7559, Loss2: 0.2886, Loss3: 1.0293\n"
     ]
    },
    {
     "name": "stderr",
     "output_type": "stream",
     "text": [
      "Test_Loader: 100%|██████████| 288/288 [00:27<00:00, 10.30it/s]\n"
     ]
    },
    {
     "name": "stdout",
     "output_type": "stream",
     "text": [
      "Loss1: 0.7573, Loss2: 0.2940, Loss3: 1.0340\n"
     ]
    },
    {
     "name": "stderr",
     "output_type": "stream",
     "text": [
      "Test_Loader: 100%|██████████| 288/288 [00:28<00:00, 10.28it/s]\n"
     ]
    },
    {
     "name": "stdout",
     "output_type": "stream",
     "text": [
      "Loss1: 0.7590, Loss2: 0.2919, Loss3: 1.0478\n"
     ]
    },
    {
     "name": "stderr",
     "output_type": "stream",
     "text": [
      "Test_Loader: 100%|██████████| 288/288 [00:28<00:00, 10.26it/s]\n"
     ]
    },
    {
     "name": "stdout",
     "output_type": "stream",
     "text": [
      "Loss1: 0.7460, Loss2: 0.2814, Loss3: 1.0288\n"
     ]
    },
    {
     "name": "stderr",
     "output_type": "stream",
     "text": [
      "Test_Loader: 100%|██████████| 288/288 [00:28<00:00, 10.24it/s]\n"
     ]
    },
    {
     "name": "stdout",
     "output_type": "stream",
     "text": [
      "Loss1: 0.7481, Loss2: 0.2803, Loss3: 1.0463\n"
     ]
    },
    {
     "name": "stderr",
     "output_type": "stream",
     "text": [
      "Test_Loader: 100%|██████████| 288/288 [00:28<00:00, 10.28it/s]\n"
     ]
    },
    {
     "name": "stdout",
     "output_type": "stream",
     "text": [
      "Loss1: 0.7058, Loss2: 0.2752, Loss3: 1.0449\n"
     ]
    },
    {
     "name": "stderr",
     "output_type": "stream",
     "text": [
      "Test_Loader: 100%|██████████| 288/288 [00:27<00:00, 10.42it/s]\n"
     ]
    },
    {
     "name": "stdout",
     "output_type": "stream",
     "text": [
      "Loss1: 0.6917, Loss2: 0.2681, Loss3: 1.0192\n"
     ]
    },
    {
     "name": "stderr",
     "output_type": "stream",
     "text": [
      "Test_Loader: 100%|██████████| 288/288 [00:27<00:00, 10.58it/s]\n"
     ]
    },
    {
     "name": "stdout",
     "output_type": "stream",
     "text": [
      "Loss1: 0.6705, Loss2: 0.2674, Loss3: 0.9909\n"
     ]
    },
    {
     "name": "stderr",
     "output_type": "stream",
     "text": [
      "Test_Loader: 100%|██████████| 288/288 [00:27<00:00, 10.42it/s]\n"
     ]
    },
    {
     "name": "stdout",
     "output_type": "stream",
     "text": [
      "Loss1: 0.8256, Loss2: 0.3518, Loss3: 1.3895\n"
     ]
    },
    {
     "name": "stderr",
     "output_type": "stream",
     "text": [
      "Test_Loader: 100%|██████████| 288/288 [00:28<00:00,  9.94it/s]\n"
     ]
    },
    {
     "name": "stdout",
     "output_type": "stream",
     "text": [
      "Loss1: 0.9742, Loss2: 0.4365, Loss3: 1.9137\n"
     ]
    },
    {
     "name": "stderr",
     "output_type": "stream",
     "text": [
      "Test_Loader: 100%|██████████| 288/288 [00:28<00:00, 10.23it/s]\n"
     ]
    },
    {
     "name": "stdout",
     "output_type": "stream",
     "text": [
      "Loss1: 0.9711, Loss2: 0.4318, Loss3: 1.8788\n"
     ]
    },
    {
     "name": "stderr",
     "output_type": "stream",
     "text": [
      "Test_Loader: 100%|██████████| 288/288 [00:27<00:00, 10.50it/s]\n"
     ]
    },
    {
     "name": "stdout",
     "output_type": "stream",
     "text": [
      "Loss1: 0.9719, Loss2: 0.4348, Loss3: 1.8813\n"
     ]
    },
    {
     "name": "stderr",
     "output_type": "stream",
     "text": [
      "Test_Loader: 100%|██████████| 288/288 [00:27<00:00, 10.60it/s]\n"
     ]
    },
    {
     "name": "stdout",
     "output_type": "stream",
     "text": [
      "Loss1: 0.9776, Loss2: 0.4348, Loss3: 1.8568\n"
     ]
    },
    {
     "name": "stderr",
     "output_type": "stream",
     "text": [
      "Test_Loader: 100%|██████████| 288/288 [00:28<00:00, 10.27it/s]\n"
     ]
    },
    {
     "name": "stdout",
     "output_type": "stream",
     "text": [
      "Loss1: 0.9801, Loss2: 0.4328, Loss3: 1.8536\n"
     ]
    },
    {
     "name": "stderr",
     "output_type": "stream",
     "text": [
      "Test_Loader: 100%|██████████| 288/288 [00:28<00:00, 10.19it/s]\n"
     ]
    },
    {
     "name": "stdout",
     "output_type": "stream",
     "text": [
      "Loss1: 0.9832, Loss2: 0.4331, Loss3: 1.8180\n"
     ]
    },
    {
     "name": "stderr",
     "output_type": "stream",
     "text": [
      "Test_Loader: 100%|██████████| 288/288 [00:27<00:00, 10.33it/s]\n"
     ]
    },
    {
     "name": "stdout",
     "output_type": "stream",
     "text": [
      "Loss1: 0.9515, Loss2: 0.4185, Loss3: 1.8188\n"
     ]
    },
    {
     "name": "stderr",
     "output_type": "stream",
     "text": [
      "Test_Loader: 100%|██████████| 288/288 [00:28<00:00, 10.21it/s]\n"
     ]
    },
    {
     "name": "stdout",
     "output_type": "stream",
     "text": [
      "Loss1: 0.9482, Loss2: 0.4123, Loss3: 1.7865\n"
     ]
    },
    {
     "name": "stderr",
     "output_type": "stream",
     "text": [
      "Test_Loader: 100%|██████████| 288/288 [00:28<00:00, 10.17it/s]\n"
     ]
    },
    {
     "name": "stdout",
     "output_type": "stream",
     "text": [
      "Loss1: 0.9576, Loss2: 0.4135, Loss3: 1.7789\n"
     ]
    },
    {
     "name": "stderr",
     "output_type": "stream",
     "text": [
      "Test_Loader: 100%|██████████| 288/288 [00:28<00:00, 10.17it/s]\n"
     ]
    },
    {
     "name": "stdout",
     "output_type": "stream",
     "text": [
      "Loss1: 0.9576, Loss2: 0.4177, Loss3: 1.7722\n"
     ]
    },
    {
     "name": "stderr",
     "output_type": "stream",
     "text": [
      "Test_Loader: 100%|██████████| 288/288 [00:27<00:00, 10.55it/s]\n"
     ]
    },
    {
     "name": "stdout",
     "output_type": "stream",
     "text": [
      "Loss1: 0.9519, Loss2: 0.4137, Loss3: 1.7555\n"
     ]
    },
    {
     "name": "stderr",
     "output_type": "stream",
     "text": [
      "Test_Loader: 100%|██████████| 288/288 [00:26<00:00, 10.74it/s]\n"
     ]
    },
    {
     "name": "stdout",
     "output_type": "stream",
     "text": [
      "Loss1: 0.9506, Loss2: 0.4119, Loss3: 1.7465\n"
     ]
    },
    {
     "name": "stderr",
     "output_type": "stream",
     "text": [
      "Test_Loader: 100%|██████████| 288/288 [00:27<00:00, 10.48it/s]\n"
     ]
    },
    {
     "name": "stdout",
     "output_type": "stream",
     "text": [
      "Loss1: 0.8780, Loss2: 0.3940, Loss3: 1.6200\n"
     ]
    },
    {
     "name": "stderr",
     "output_type": "stream",
     "text": [
      "Test_Loader: 100%|██████████| 288/288 [00:28<00:00,  9.98it/s]\n"
     ]
    },
    {
     "name": "stdout",
     "output_type": "stream",
     "text": [
      "Loss1: 0.8726, Loss2: 0.3906, Loss3: 1.5925\n"
     ]
    },
    {
     "name": "stderr",
     "output_type": "stream",
     "text": [
      "Test_Loader: 100%|██████████| 288/288 [00:27<00:00, 10.37it/s]\n"
     ]
    },
    {
     "name": "stdout",
     "output_type": "stream",
     "text": [
      "Loss1: 0.8685, Loss2: 0.3904, Loss3: 1.5835\n"
     ]
    },
    {
     "name": "stderr",
     "output_type": "stream",
     "text": [
      "Test_Loader: 100%|██████████| 288/288 [00:27<00:00, 10.52it/s]\n"
     ]
    },
    {
     "name": "stdout",
     "output_type": "stream",
     "text": [
      "Loss1: 0.8656, Loss2: 0.3912, Loss3: 1.5769\n"
     ]
    },
    {
     "name": "stderr",
     "output_type": "stream",
     "text": [
      "Test_Loader: 100%|██████████| 288/288 [00:27<00:00, 10.54it/s]\n"
     ]
    },
    {
     "name": "stdout",
     "output_type": "stream",
     "text": [
      "Loss1: 0.8863, Loss2: 0.4017, Loss3: 1.6223\n"
     ]
    },
    {
     "name": "stderr",
     "output_type": "stream",
     "text": [
      "Test_Loader: 100%|██████████| 288/288 [00:27<00:00, 10.59it/s]\n"
     ]
    },
    {
     "name": "stdout",
     "output_type": "stream",
     "text": [
      "Loss1: 0.8729, Loss2: 0.3970, Loss3: 1.6125\n"
     ]
    },
    {
     "name": "stderr",
     "output_type": "stream",
     "text": [
      "Test_Loader: 100%|██████████| 288/288 [00:27<00:00, 10.34it/s]\n"
     ]
    },
    {
     "name": "stdout",
     "output_type": "stream",
     "text": [
      "Loss1: 0.8647, Loss2: 0.3936, Loss3: 1.5963\n"
     ]
    },
    {
     "name": "stderr",
     "output_type": "stream",
     "text": [
      "Test_Loader: 100%|██████████| 288/288 [00:27<00:00, 10.41it/s]\n"
     ]
    },
    {
     "name": "stdout",
     "output_type": "stream",
     "text": [
      "Loss1: 0.8568, Loss2: 0.3851, Loss3: 1.5824\n"
     ]
    },
    {
     "name": "stderr",
     "output_type": "stream",
     "text": [
      "Test_Loader: 100%|██████████| 288/288 [00:27<00:00, 10.30it/s]\n"
     ]
    },
    {
     "name": "stdout",
     "output_type": "stream",
     "text": [
      "Loss1: 0.8563, Loss2: 0.3835, Loss3: 1.5712\n"
     ]
    },
    {
     "name": "stderr",
     "output_type": "stream",
     "text": [
      "Test_Loader: 100%|██████████| 288/288 [00:28<00:00, 10.24it/s]\n"
     ]
    },
    {
     "name": "stdout",
     "output_type": "stream",
     "text": [
      "Loss1: 0.8487, Loss2: 0.3816, Loss3: 1.5694\n"
     ]
    },
    {
     "name": "stderr",
     "output_type": "stream",
     "text": [
      "Test_Loader: 100%|██████████| 288/288 [00:28<00:00, 10.25it/s]\n"
     ]
    },
    {
     "name": "stdout",
     "output_type": "stream",
     "text": [
      "Loss1: 0.8501, Loss2: 0.3738, Loss3: 1.5142\n"
     ]
    },
    {
     "name": "stderr",
     "output_type": "stream",
     "text": [
      "Test_Loader: 100%|██████████| 288/288 [00:27<00:00, 10.55it/s]\n"
     ]
    },
    {
     "name": "stdout",
     "output_type": "stream",
     "text": [
      "Loss1: 0.8408, Loss2: 0.3733, Loss3: 1.5242\n"
     ]
    },
    {
     "name": "stderr",
     "output_type": "stream",
     "text": [
      "Test_Loader: 100%|██████████| 288/288 [00:26<00:00, 10.83it/s]\n"
     ]
    },
    {
     "name": "stdout",
     "output_type": "stream",
     "text": [
      "Loss1: 0.8353, Loss2: 0.3724, Loss3: 1.5102\n"
     ]
    },
    {
     "name": "stderr",
     "output_type": "stream",
     "text": [
      "Test_Loader: 100%|██████████| 288/288 [00:27<00:00, 10.36it/s]\n"
     ]
    },
    {
     "name": "stdout",
     "output_type": "stream",
     "text": [
      "Loss1: 0.8303, Loss2: 0.3699, Loss3: 1.5110\n"
     ]
    },
    {
     "name": "stderr",
     "output_type": "stream",
     "text": [
      "Test_Loader: 100%|██████████| 288/288 [00:28<00:00, 10.24it/s]\n"
     ]
    },
    {
     "name": "stdout",
     "output_type": "stream",
     "text": [
      "Loss1: 0.9176, Loss2: 0.3770, Loss3: 1.5124\n"
     ]
    },
    {
     "name": "stderr",
     "output_type": "stream",
     "text": [
      "Test_Loader: 100%|██████████| 288/288 [00:27<00:00, 10.32it/s]\n"
     ]
    },
    {
     "name": "stdout",
     "output_type": "stream",
     "text": [
      "Loss1: 0.8955, Loss2: 0.3754, Loss3: 1.4997\n"
     ]
    },
    {
     "name": "stderr",
     "output_type": "stream",
     "text": [
      "Test_Loader: 100%|██████████| 288/288 [00:27<00:00, 10.58it/s]\n"
     ]
    },
    {
     "name": "stdout",
     "output_type": "stream",
     "text": [
      "Loss1: 0.9079, Loss2: 0.3802, Loss3: 1.5182\n"
     ]
    },
    {
     "name": "stderr",
     "output_type": "stream",
     "text": [
      "Test_Loader: 100%|██████████| 288/288 [00:27<00:00, 10.58it/s]\n"
     ]
    },
    {
     "name": "stdout",
     "output_type": "stream",
     "text": [
      "Loss1: 0.9178, Loss2: 0.3826, Loss3: 1.5179\n"
     ]
    },
    {
     "name": "stderr",
     "output_type": "stream",
     "text": [
      "Test_Loader: 100%|██████████| 288/288 [00:27<00:00, 10.47it/s]\n"
     ]
    },
    {
     "name": "stdout",
     "output_type": "stream",
     "text": [
      "Loss1: 0.9062, Loss2: 0.3829, Loss3: 1.5012\n"
     ]
    },
    {
     "name": "stderr",
     "output_type": "stream",
     "text": [
      "Test_Loader: 100%|██████████| 288/288 [00:26<00:00, 11.06it/s]\n"
     ]
    },
    {
     "name": "stdout",
     "output_type": "stream",
     "text": [
      "Loss1: 0.8721, Loss2: 0.3717, Loss3: 1.4638\n"
     ]
    },
    {
     "name": "stderr",
     "output_type": "stream",
     "text": [
      "Test_Loader: 100%|██████████| 288/288 [00:26<00:00, 11.01it/s]\n"
     ]
    },
    {
     "name": "stdout",
     "output_type": "stream",
     "text": [
      "Loss1: 0.8763, Loss2: 0.3718, Loss3: 1.4560\n"
     ]
    },
    {
     "name": "stderr",
     "output_type": "stream",
     "text": [
      "Test_Loader: 100%|██████████| 288/288 [00:26<00:00, 11.02it/s]\n"
     ]
    },
    {
     "name": "stdout",
     "output_type": "stream",
     "text": [
      "Loss1: 0.8450, Loss2: 0.3712, Loss3: 1.4416\n"
     ]
    },
    {
     "name": "stderr",
     "output_type": "stream",
     "text": [
      "Test_Loader: 100%|██████████| 288/288 [00:26<00:00, 10.95it/s]\n"
     ]
    },
    {
     "name": "stdout",
     "output_type": "stream",
     "text": [
      "Loss1: 0.8521, Loss2: 0.3710, Loss3: 1.4603\n"
     ]
    },
    {
     "name": "stderr",
     "output_type": "stream",
     "text": [
      "Test_Loader: 100%|██████████| 288/288 [00:26<00:00, 10.88it/s]\n"
     ]
    },
    {
     "name": "stdout",
     "output_type": "stream",
     "text": [
      "Loss1: 0.8609, Loss2: 0.3725, Loss3: 1.4443\n"
     ]
    },
    {
     "name": "stderr",
     "output_type": "stream",
     "text": [
      "Test_Loader: 100%|██████████| 288/288 [00:26<00:00, 10.83it/s]\n"
     ]
    },
    {
     "name": "stdout",
     "output_type": "stream",
     "text": [
      "Loss1: 0.8857, Loss2: 0.3781, Loss3: 1.4899\n"
     ]
    },
    {
     "name": "stderr",
     "output_type": "stream",
     "text": [
      "Test_Loader: 100%|██████████| 288/288 [00:26<00:00, 10.88it/s]\n"
     ]
    },
    {
     "name": "stdout",
     "output_type": "stream",
     "text": [
      "Loss1: 0.8781, Loss2: 0.3767, Loss3: 1.4767\n"
     ]
    },
    {
     "name": "stderr",
     "output_type": "stream",
     "text": [
      "Test_Loader: 100%|██████████| 288/288 [00:26<00:00, 10.80it/s]\n"
     ]
    },
    {
     "name": "stdout",
     "output_type": "stream",
     "text": [
      "Loss1: 0.8744, Loss2: 0.3737, Loss3: 1.4836\n"
     ]
    },
    {
     "name": "stderr",
     "output_type": "stream",
     "text": [
      "Test_Loader: 100%|██████████| 288/288 [00:28<00:00, 10.25it/s]\n"
     ]
    },
    {
     "name": "stdout",
     "output_type": "stream",
     "text": [
      "Loss1: 0.8783, Loss2: 0.3737, Loss3: 1.4633\n"
     ]
    },
    {
     "name": "stderr",
     "output_type": "stream",
     "text": [
      "Test_Loader: 100%|██████████| 288/288 [00:26<00:00, 10.75it/s]\n"
     ]
    },
    {
     "name": "stdout",
     "output_type": "stream",
     "text": [
      "Loss1: 0.8748, Loss2: 0.3715, Loss3: 1.4652\n"
     ]
    },
    {
     "name": "stderr",
     "output_type": "stream",
     "text": [
      "Test_Loader: 100%|██████████| 288/288 [00:27<00:00, 10.66it/s]\n"
     ]
    },
    {
     "name": "stdout",
     "output_type": "stream",
     "text": [
      "Loss1: 0.8759, Loss2: 0.3696, Loss3: 1.4585\n"
     ]
    },
    {
     "name": "stderr",
     "output_type": "stream",
     "text": [
      "Test_Loader: 100%|██████████| 288/288 [00:26<00:00, 10.75it/s]\n"
     ]
    },
    {
     "name": "stdout",
     "output_type": "stream",
     "text": [
      "Loss1: 0.9858, Loss2: 0.3982, Loss3: 1.5769\n"
     ]
    },
    {
     "name": "stderr",
     "output_type": "stream",
     "text": [
      "Test_Loader: 100%|██████████| 288/288 [00:26<00:00, 10.79it/s]\n"
     ]
    },
    {
     "name": "stdout",
     "output_type": "stream",
     "text": [
      "Loss1: 0.9576, Loss2: 0.3907, Loss3: 1.5584\n"
     ]
    },
    {
     "name": "stderr",
     "output_type": "stream",
     "text": [
      "Test_Loader: 100%|██████████| 288/288 [00:27<00:00, 10.66it/s]\n"
     ]
    },
    {
     "name": "stdout",
     "output_type": "stream",
     "text": [
      "Loss1: 0.9655, Loss2: 0.3889, Loss3: 1.5620\n"
     ]
    },
    {
     "name": "stderr",
     "output_type": "stream",
     "text": [
      "Test_Loader: 100%|██████████| 288/288 [00:27<00:00, 10.48it/s]\n"
     ]
    },
    {
     "name": "stdout",
     "output_type": "stream",
     "text": [
      "Loss1: 0.9633, Loss2: 0.3895, Loss3: 1.5707\n"
     ]
    },
    {
     "name": "stderr",
     "output_type": "stream",
     "text": [
      "Test_Loader: 100%|██████████| 288/288 [00:27<00:00, 10.41it/s]\n"
     ]
    },
    {
     "name": "stdout",
     "output_type": "stream",
     "text": [
      "Loss1: 0.9570, Loss2: 0.3860, Loss3: 1.5579\n"
     ]
    },
    {
     "name": "stderr",
     "output_type": "stream",
     "text": [
      "Test_Loader: 100%|██████████| 288/288 [00:28<00:00, 10.25it/s]\n"
     ]
    },
    {
     "name": "stdout",
     "output_type": "stream",
     "text": [
      "Loss1: 0.9527, Loss2: 0.3841, Loss3: 1.5627\n"
     ]
    },
    {
     "name": "stderr",
     "output_type": "stream",
     "text": [
      "Test_Loader: 100%|██████████| 288/288 [00:28<00:00, 10.23it/s]\n"
     ]
    },
    {
     "name": "stdout",
     "output_type": "stream",
     "text": [
      "Loss1: 0.9466, Loss2: 0.3826, Loss3: 1.5494\n"
     ]
    },
    {
     "name": "stderr",
     "output_type": "stream",
     "text": [
      "Test_Loader: 100%|██████████| 288/288 [00:28<00:00, 10.25it/s]\n"
     ]
    },
    {
     "name": "stdout",
     "output_type": "stream",
     "text": [
      "Loss1: 0.9354, Loss2: 0.3849, Loss3: 1.5446\n"
     ]
    },
    {
     "name": "stderr",
     "output_type": "stream",
     "text": [
      "Test_Loader: 100%|██████████| 288/288 [00:26<00:00, 10.76it/s]\n"
     ]
    },
    {
     "name": "stdout",
     "output_type": "stream",
     "text": [
      "Loss1: 0.9310, Loss2: 0.3810, Loss3: 1.5468\n"
     ]
    },
    {
     "name": "stderr",
     "output_type": "stream",
     "text": [
      "Test_Loader: 100%|██████████| 288/288 [00:26<00:00, 10.68it/s]\n"
     ]
    },
    {
     "name": "stdout",
     "output_type": "stream",
     "text": [
      "Loss1: 0.9319, Loss2: 0.3800, Loss3: 1.5264\n"
     ]
    },
    {
     "name": "stderr",
     "output_type": "stream",
     "text": [
      "Test_Loader: 100%|██████████| 288/288 [00:28<00:00, 10.07it/s]\n"
     ]
    },
    {
     "name": "stdout",
     "output_type": "stream",
     "text": [
      "Loss1: 0.9331, Loss2: 0.3824, Loss3: 1.5144\n"
     ]
    },
    {
     "name": "stderr",
     "output_type": "stream",
     "text": [
      "Test_Loader: 100%|██████████| 288/288 [00:26<00:00, 10.86it/s]\n"
     ]
    },
    {
     "name": "stdout",
     "output_type": "stream",
     "text": [
      "Loss1: 0.9246, Loss2: 0.3818, Loss3: 1.5092\n"
     ]
    },
    {
     "name": "stderr",
     "output_type": "stream",
     "text": [
      "Test_Loader: 100%|██████████| 288/288 [00:27<00:00, 10.57it/s]\n"
     ]
    },
    {
     "name": "stdout",
     "output_type": "stream",
     "text": [
      "Loss1: 0.9167, Loss2: 0.3626, Loss3: 1.4855\n"
     ]
    },
    {
     "name": "stderr",
     "output_type": "stream",
     "text": [
      "Test_Loader: 100%|██████████| 288/288 [00:27<00:00, 10.37it/s]\n"
     ]
    },
    {
     "name": "stdout",
     "output_type": "stream",
     "text": [
      "Loss1: 0.9227, Loss2: 0.3602, Loss3: 1.4697\n"
     ]
    },
    {
     "name": "stderr",
     "output_type": "stream",
     "text": [
      "Test_Loader: 100%|██████████| 288/288 [00:27<00:00, 10.57it/s]\n"
     ]
    },
    {
     "name": "stdout",
     "output_type": "stream",
     "text": [
      "Loss1: 0.9166, Loss2: 0.3563, Loss3: 1.4583\n"
     ]
    },
    {
     "name": "stderr",
     "output_type": "stream",
     "text": [
      "Test_Loader: 100%|██████████| 288/288 [00:28<00:00, 10.15it/s]\n"
     ]
    },
    {
     "name": "stdout",
     "output_type": "stream",
     "text": [
      "Loss1: 0.9216, Loss2: 0.3584, Loss3: 1.4660\n"
     ]
    },
    {
     "name": "stderr",
     "output_type": "stream",
     "text": [
      "Test_Loader: 100%|██████████| 288/288 [00:28<00:00, 10.25it/s]\n"
     ]
    },
    {
     "name": "stdout",
     "output_type": "stream",
     "text": [
      "Loss1: 0.9198, Loss2: 0.3568, Loss3: 1.4692\n"
     ]
    },
    {
     "name": "stderr",
     "output_type": "stream",
     "text": [
      "Test_Loader: 100%|██████████| 288/288 [00:28<00:00, 10.27it/s]\n"
     ]
    },
    {
     "name": "stdout",
     "output_type": "stream",
     "text": [
      "Loss1: 0.9171, Loss2: 0.3610, Loss3: 1.4724\n"
     ]
    },
    {
     "name": "stderr",
     "output_type": "stream",
     "text": [
      "Test_Loader: 100%|██████████| 288/288 [00:28<00:00, 10.28it/s]\n"
     ]
    },
    {
     "name": "stdout",
     "output_type": "stream",
     "text": [
      "Loss1: 0.9115, Loss2: 0.3554, Loss3: 1.4599\n"
     ]
    },
    {
     "name": "stderr",
     "output_type": "stream",
     "text": [
      "Test_Loader: 100%|██████████| 288/288 [00:27<00:00, 10.40it/s]\n"
     ]
    },
    {
     "name": "stdout",
     "output_type": "stream",
     "text": [
      "Loss1: 0.9082, Loss2: 0.3583, Loss3: 1.4701\n"
     ]
    },
    {
     "name": "stderr",
     "output_type": "stream",
     "text": [
      "Test_Loader: 100%|██████████| 288/288 [00:27<00:00, 10.42it/s]\n"
     ]
    },
    {
     "name": "stdout",
     "output_type": "stream",
     "text": [
      "Loss1: 0.8988, Loss2: 0.3514, Loss3: 1.4649\n"
     ]
    },
    {
     "name": "stderr",
     "output_type": "stream",
     "text": [
      "Test_Loader: 100%|██████████| 288/288 [00:26<00:00, 10.88it/s]\n"
     ]
    },
    {
     "name": "stdout",
     "output_type": "stream",
     "text": [
      "Loss1: 0.9248, Loss2: 0.3532, Loss3: 1.5976\n"
     ]
    },
    {
     "name": "stderr",
     "output_type": "stream",
     "text": [
      "Test_Loader: 100%|██████████| 288/288 [00:26<00:00, 10.76it/s]\n"
     ]
    },
    {
     "name": "stdout",
     "output_type": "stream",
     "text": [
      "Loss1: 0.9175, Loss2: 0.3533, Loss3: 1.5769\n"
     ]
    },
    {
     "name": "stderr",
     "output_type": "stream",
     "text": [
      "Test_Loader: 100%|██████████| 288/288 [00:27<00:00, 10.65it/s]\n"
     ]
    },
    {
     "name": "stdout",
     "output_type": "stream",
     "text": [
      "Loss1: 0.9107, Loss2: 0.3513, Loss3: 1.5701\n"
     ]
    },
    {
     "name": "stderr",
     "output_type": "stream",
     "text": [
      "Test_Loader: 100%|██████████| 288/288 [00:28<00:00, 10.15it/s]\n"
     ]
    },
    {
     "name": "stdout",
     "output_type": "stream",
     "text": [
      "Loss1: 0.9073, Loss2: 0.3501, Loss3: 1.5611\n"
     ]
    },
    {
     "name": "stderr",
     "output_type": "stream",
     "text": [
      "Test_Loader: 100%|██████████| 288/288 [00:26<00:00, 10.68it/s]\n"
     ]
    },
    {
     "name": "stdout",
     "output_type": "stream",
     "text": [
      "Loss1: 0.9055, Loss2: 0.3467, Loss3: 1.5560\n"
     ]
    },
    {
     "name": "stderr",
     "output_type": "stream",
     "text": [
      "Test_Loader: 100%|██████████| 288/288 [00:27<00:00, 10.65it/s]\n"
     ]
    },
    {
     "name": "stdout",
     "output_type": "stream",
     "text": [
      "Loss1: 0.9040, Loss2: 0.3463, Loss3: 1.5565\n"
     ]
    },
    {
     "name": "stderr",
     "output_type": "stream",
     "text": [
      "Test_Loader: 100%|██████████| 288/288 [00:27<00:00, 10.59it/s]\n"
     ]
    },
    {
     "name": "stdout",
     "output_type": "stream",
     "text": [
      "Loss1: 0.9202, Loss2: 0.3553, Loss3: 1.5624\n"
     ]
    },
    {
     "name": "stderr",
     "output_type": "stream",
     "text": [
      "Test_Loader: 100%|██████████| 288/288 [00:28<00:00, 10.20it/s]\n"
     ]
    },
    {
     "name": "stdout",
     "output_type": "stream",
     "text": [
      "Loss1: 0.9356, Loss2: 0.3584, Loss3: 1.6408\n"
     ]
    },
    {
     "name": "stderr",
     "output_type": "stream",
     "text": [
      "Test_Loader: 100%|██████████| 288/288 [00:27<00:00, 10.35it/s]\n"
     ]
    },
    {
     "name": "stdout",
     "output_type": "stream",
     "text": [
      "Loss1: 0.9518, Loss2: 0.3647, Loss3: 1.6538\n"
     ]
    },
    {
     "name": "stderr",
     "output_type": "stream",
     "text": [
      "Test_Loader: 100%|██████████| 288/288 [00:27<00:00, 10.30it/s]\n"
     ]
    },
    {
     "name": "stdout",
     "output_type": "stream",
     "text": [
      "Loss1: 0.9468, Loss2: 0.3658, Loss3: 1.6601\n"
     ]
    },
    {
     "name": "stderr",
     "output_type": "stream",
     "text": [
      "Test_Loader: 100%|██████████| 288/288 [00:28<00:00, 10.27it/s]\n"
     ]
    },
    {
     "name": "stdout",
     "output_type": "stream",
     "text": [
      "Loss1: 0.9832, Loss2: 0.3829, Loss3: 1.7616\n"
     ]
    },
    {
     "name": "stderr",
     "output_type": "stream",
     "text": [
      "Test_Loader: 100%|██████████| 288/288 [00:28<00:00, 10.28it/s]\n"
     ]
    },
    {
     "name": "stdout",
     "output_type": "stream",
     "text": [
      "Loss1: 0.9773, Loss2: 0.3839, Loss3: 1.7463\n"
     ]
    },
    {
     "name": "stderr",
     "output_type": "stream",
     "text": [
      "Test_Loader: 100%|██████████| 288/288 [00:28<00:00, 10.20it/s]\n"
     ]
    },
    {
     "name": "stdout",
     "output_type": "stream",
     "text": [
      "Loss1: 0.9805, Loss2: 0.3935, Loss3: 1.7623\n"
     ]
    },
    {
     "name": "stderr",
     "output_type": "stream",
     "text": [
      "Test_Loader: 100%|██████████| 288/288 [00:26<00:00, 10.80it/s]\n"
     ]
    },
    {
     "name": "stdout",
     "output_type": "stream",
     "text": [
      "Loss1: 0.9822, Loss2: 0.3892, Loss3: 1.7613\n"
     ]
    },
    {
     "name": "stderr",
     "output_type": "stream",
     "text": [
      "Test_Loader: 100%|██████████| 288/288 [00:27<00:00, 10.56it/s]\n"
     ]
    },
    {
     "name": "stdout",
     "output_type": "stream",
     "text": [
      "Loss1: 0.9823, Loss2: 0.3901, Loss3: 1.7496\n"
     ]
    },
    {
     "name": "stderr",
     "output_type": "stream",
     "text": [
      "Test_Loader: 100%|██████████| 288/288 [00:27<00:00, 10.36it/s]\n"
     ]
    },
    {
     "name": "stdout",
     "output_type": "stream",
     "text": [
      "Loss1: 0.9775, Loss2: 0.3912, Loss3: 1.7383\n"
     ]
    },
    {
     "name": "stderr",
     "output_type": "stream",
     "text": [
      "Test_Loader: 100%|██████████| 288/288 [00:29<00:00,  9.87it/s]\n"
     ]
    },
    {
     "name": "stdout",
     "output_type": "stream",
     "text": [
      "Loss1: 0.9713, Loss2: 0.3889, Loss3: 1.7368\n"
     ]
    },
    {
     "name": "stderr",
     "output_type": "stream",
     "text": [
      "Test_Loader: 100%|██████████| 288/288 [00:27<00:00, 10.43it/s]\n"
     ]
    },
    {
     "name": "stdout",
     "output_type": "stream",
     "text": [
      "Loss1: 0.9856, Loss2: 0.3900, Loss3: 1.7908\n"
     ]
    },
    {
     "name": "stderr",
     "output_type": "stream",
     "text": [
      "Test_Loader: 100%|██████████| 288/288 [00:27<00:00, 10.60it/s]\n"
     ]
    },
    {
     "name": "stdout",
     "output_type": "stream",
     "text": [
      "Loss1: 1.0076, Loss2: 0.4057, Loss3: 1.9045\n"
     ]
    },
    {
     "name": "stderr",
     "output_type": "stream",
     "text": [
      "Test_Loader: 100%|██████████| 288/288 [00:26<00:00, 10.67it/s]\n"
     ]
    },
    {
     "name": "stdout",
     "output_type": "stream",
     "text": [
      "Loss1: 0.9910, Loss2: 0.4004, Loss3: 1.8744\n"
     ]
    },
    {
     "name": "stderr",
     "output_type": "stream",
     "text": [
      "Test_Loader: 100%|██████████| 288/288 [00:27<00:00, 10.36it/s]\n"
     ]
    },
    {
     "name": "stdout",
     "output_type": "stream",
     "text": [
      "Loss1: 0.9848, Loss2: 0.3968, Loss3: 1.8687\n"
     ]
    },
    {
     "name": "stderr",
     "output_type": "stream",
     "text": [
      "Test_Loader: 100%|██████████| 288/288 [00:27<00:00, 10.32it/s]\n"
     ]
    },
    {
     "name": "stdout",
     "output_type": "stream",
     "text": [
      "Loss1: 0.9895, Loss2: 0.3969, Loss3: 1.8527\n"
     ]
    },
    {
     "name": "stderr",
     "output_type": "stream",
     "text": [
      "Test_Loader: 100%|██████████| 288/288 [00:28<00:00, 10.19it/s]\n"
     ]
    },
    {
     "name": "stdout",
     "output_type": "stream",
     "text": [
      "Loss1: 0.9767, Loss2: 0.3926, Loss3: 1.8402\n"
     ]
    },
    {
     "name": "stderr",
     "output_type": "stream",
     "text": [
      "Test_Loader: 100%|██████████| 288/288 [00:28<00:00, 10.21it/s]\n"
     ]
    },
    {
     "name": "stdout",
     "output_type": "stream",
     "text": [
      "Loss1: 0.9724, Loss2: 0.3945, Loss3: 1.8252\n"
     ]
    },
    {
     "name": "stderr",
     "output_type": "stream",
     "text": [
      "Test_Loader: 100%|██████████| 288/288 [00:28<00:00, 10.09it/s]\n"
     ]
    },
    {
     "name": "stdout",
     "output_type": "stream",
     "text": [
      "Loss1: 0.9986, Loss2: 0.4045, Loss3: 1.8640\n"
     ]
    },
    {
     "name": "stderr",
     "output_type": "stream",
     "text": [
      "Test_Loader: 100%|██████████| 288/288 [00:28<00:00, 10.21it/s]\n"
     ]
    },
    {
     "name": "stdout",
     "output_type": "stream",
     "text": [
      "Loss1: 0.9942, Loss2: 0.4011, Loss3: 1.8362\n"
     ]
    },
    {
     "name": "stderr",
     "output_type": "stream",
     "text": [
      "Test_Loader: 100%|██████████| 288/288 [00:26<00:00, 10.78it/s]\n"
     ]
    },
    {
     "name": "stdout",
     "output_type": "stream",
     "text": [
      "Loss1: 0.9979, Loss2: 0.4013, Loss3: 1.8523\n"
     ]
    },
    {
     "name": "stderr",
     "output_type": "stream",
     "text": [
      "Test_Loader: 100%|██████████| 288/288 [00:26<00:00, 10.75it/s]\n"
     ]
    },
    {
     "name": "stdout",
     "output_type": "stream",
     "text": [
      "Loss1: 0.9966, Loss2: 0.4002, Loss3: 1.8555\n"
     ]
    },
    {
     "name": "stderr",
     "output_type": "stream",
     "text": [
      "Test_Loader: 100%|██████████| 288/288 [00:27<00:00, 10.60it/s]\n"
     ]
    },
    {
     "name": "stdout",
     "output_type": "stream",
     "text": [
      "Loss1: 0.9926, Loss2: 0.4021, Loss3: 1.8473\n"
     ]
    },
    {
     "name": "stderr",
     "output_type": "stream",
     "text": [
      "Test_Loader: 100%|██████████| 288/288 [00:28<00:00, 10.14it/s]\n"
     ]
    },
    {
     "name": "stdout",
     "output_type": "stream",
     "text": [
      "Loss1: 0.9880, Loss2: 0.4004, Loss3: 1.8279\n"
     ]
    },
    {
     "name": "stderr",
     "output_type": "stream",
     "text": [
      "Test_Loader: 100%|██████████| 288/288 [00:27<00:00, 10.48it/s]\n"
     ]
    },
    {
     "name": "stdout",
     "output_type": "stream",
     "text": [
      "Loss1: 0.9865, Loss2: 0.3984, Loss3: 1.8350\n"
     ]
    },
    {
     "name": "stderr",
     "output_type": "stream",
     "text": [
      "Test_Loader: 100%|██████████| 288/288 [00:27<00:00, 10.58it/s]\n"
     ]
    },
    {
     "name": "stdout",
     "output_type": "stream",
     "text": [
      "Loss1: 0.9755, Loss2: 0.3952, Loss3: 1.8010\n"
     ]
    },
    {
     "name": "stderr",
     "output_type": "stream",
     "text": [
      "Test_Loader: 100%|██████████| 288/288 [00:27<00:00, 10.55it/s]\n"
     ]
    },
    {
     "name": "stdout",
     "output_type": "stream",
     "text": [
      "Loss1: 0.8707, Loss2: 0.3368, Loss3: 1.6083\n"
     ]
    },
    {
     "name": "stderr",
     "output_type": "stream",
     "text": [
      "Test_Loader: 100%|██████████| 288/288 [00:27<00:00, 10.62it/s]\n"
     ]
    },
    {
     "name": "stdout",
     "output_type": "stream",
     "text": [
      "Loss1: 0.7874, Loss2: 0.2878, Loss3: 1.3245\n"
     ]
    },
    {
     "name": "stderr",
     "output_type": "stream",
     "text": [
      "Test_Loader: 100%|██████████| 288/288 [00:27<00:00, 10.47it/s]\n"
     ]
    },
    {
     "name": "stdout",
     "output_type": "stream",
     "text": [
      "Loss1: 0.8076, Loss2: 0.2972, Loss3: 1.3438\n"
     ]
    },
    {
     "name": "stderr",
     "output_type": "stream",
     "text": [
      "Test_Loader: 100%|██████████| 288/288 [00:27<00:00, 10.29it/s]\n"
     ]
    },
    {
     "name": "stdout",
     "output_type": "stream",
     "text": [
      "Loss1: 0.8105, Loss2: 0.2943, Loss3: 1.3372\n"
     ]
    },
    {
     "name": "stderr",
     "output_type": "stream",
     "text": [
      "Test_Loader: 100%|██████████| 288/288 [00:27<00:00, 10.40it/s]\n"
     ]
    },
    {
     "name": "stdout",
     "output_type": "stream",
     "text": [
      "Loss1: 0.7985, Loss2: 0.2915, Loss3: 1.3218\n"
     ]
    },
    {
     "name": "stderr",
     "output_type": "stream",
     "text": [
      "Test_Loader: 100%|██████████| 288/288 [00:27<00:00, 10.46it/s]\n"
     ]
    },
    {
     "name": "stdout",
     "output_type": "stream",
     "text": [
      "Loss1: 0.7959, Loss2: 0.2903, Loss3: 1.3284\n"
     ]
    },
    {
     "name": "stderr",
     "output_type": "stream",
     "text": [
      "Test_Loader: 100%|██████████| 288/288 [00:27<00:00, 10.40it/s]\n"
     ]
    },
    {
     "name": "stdout",
     "output_type": "stream",
     "text": [
      "Loss1: 0.7924, Loss2: 0.2920, Loss3: 1.3384\n"
     ]
    },
    {
     "name": "stderr",
     "output_type": "stream",
     "text": [
      "Test_Loader: 100%|██████████| 288/288 [00:26<00:00, 10.91it/s]\n"
     ]
    },
    {
     "name": "stdout",
     "output_type": "stream",
     "text": [
      "Loss1: 0.7863, Loss2: 0.2873, Loss3: 1.3329\n"
     ]
    },
    {
     "name": "stderr",
     "output_type": "stream",
     "text": [
      "Test_Loader: 100%|██████████| 288/288 [00:26<00:00, 10.76it/s]\n"
     ]
    },
    {
     "name": "stdout",
     "output_type": "stream",
     "text": [
      "Loss1: 0.7827, Loss2: 0.2878, Loss3: 1.3211\n"
     ]
    },
    {
     "name": "stderr",
     "output_type": "stream",
     "text": [
      "Test_Loader: 100%|██████████| 288/288 [00:28<00:00, 10.11it/s]\n"
     ]
    },
    {
     "name": "stdout",
     "output_type": "stream",
     "text": [
      "Loss1: 0.7658, Loss2: 0.2842, Loss3: 1.3140\n"
     ]
    },
    {
     "name": "stderr",
     "output_type": "stream",
     "text": [
      "Test_Loader: 100%|██████████| 288/288 [00:28<00:00,  9.93it/s]\n"
     ]
    },
    {
     "name": "stdout",
     "output_type": "stream",
     "text": [
      "Loss1: 0.7624, Loss2: 0.2786, Loss3: 1.3002\n"
     ]
    },
    {
     "name": "stderr",
     "output_type": "stream",
     "text": [
      "Test_Loader: 100%|██████████| 288/288 [00:27<00:00, 10.51it/s]\n"
     ]
    },
    {
     "name": "stdout",
     "output_type": "stream",
     "text": [
      "Loss1: 0.7658, Loss2: 0.2772, Loss3: 1.3116\n"
     ]
    },
    {
     "name": "stderr",
     "output_type": "stream",
     "text": [
      "Test_Loader: 100%|██████████| 288/288 [00:27<00:00, 10.64it/s]\n"
     ]
    },
    {
     "name": "stdout",
     "output_type": "stream",
     "text": [
      "Loss1: 0.7618, Loss2: 0.2802, Loss3: 1.2923\n"
     ]
    },
    {
     "name": "stderr",
     "output_type": "stream",
     "text": [
      "Test_Loader: 100%|██████████| 288/288 [00:26<00:00, 10.82it/s]\n"
     ]
    },
    {
     "name": "stdout",
     "output_type": "stream",
     "text": [
      "Loss1: 0.7569, Loss2: 0.2765, Loss3: 1.2856\n"
     ]
    },
    {
     "name": "stderr",
     "output_type": "stream",
     "text": [
      "Test_Loader: 100%|██████████| 288/288 [00:27<00:00, 10.54it/s]\n"
     ]
    },
    {
     "name": "stdout",
     "output_type": "stream",
     "text": [
      "Loss1: 0.7619, Loss2: 0.2789, Loss3: 1.2937\n"
     ]
    },
    {
     "name": "stderr",
     "output_type": "stream",
     "text": [
      "Test_Loader: 100%|██████████| 288/288 [00:27<00:00, 10.55it/s]\n"
     ]
    },
    {
     "name": "stdout",
     "output_type": "stream",
     "text": [
      "Loss1: 0.7919, Loss2: 0.2853, Loss3: 1.3161\n"
     ]
    },
    {
     "name": "stderr",
     "output_type": "stream",
     "text": [
      "Test_Loader: 100%|██████████| 288/288 [00:27<00:00, 10.59it/s]\n"
     ]
    },
    {
     "name": "stdout",
     "output_type": "stream",
     "text": [
      "Loss1: 0.8137, Loss2: 0.2875, Loss3: 1.3227\n"
     ]
    },
    {
     "name": "stderr",
     "output_type": "stream",
     "text": [
      "Test_Loader: 100%|██████████| 288/288 [00:27<00:00, 10.49it/s]\n"
     ]
    },
    {
     "name": "stdout",
     "output_type": "stream",
     "text": [
      "Loss1: 0.8060, Loss2: 0.2803, Loss3: 1.2607\n"
     ]
    },
    {
     "name": "stderr",
     "output_type": "stream",
     "text": [
      "Test_Loader: 100%|██████████| 288/288 [00:26<00:00, 10.74it/s]\n"
     ]
    },
    {
     "name": "stdout",
     "output_type": "stream",
     "text": [
      "Loss1: 0.8026, Loss2: 0.2789, Loss3: 1.2589\n"
     ]
    },
    {
     "name": "stderr",
     "output_type": "stream",
     "text": [
      "Test_Loader: 100%|██████████| 288/288 [00:26<00:00, 10.89it/s]\n"
     ]
    },
    {
     "name": "stdout",
     "output_type": "stream",
     "text": [
      "Loss1: 0.8124, Loss2: 0.2800, Loss3: 1.2357\n"
     ]
    },
    {
     "name": "stderr",
     "output_type": "stream",
     "text": [
      "Test_Loader: 100%|██████████| 288/288 [00:25<00:00, 11.08it/s]\n"
     ]
    },
    {
     "name": "stdout",
     "output_type": "stream",
     "text": [
      "Loss1: 0.8025, Loss2: 0.2788, Loss3: 1.2618\n"
     ]
    },
    {
     "name": "stderr",
     "output_type": "stream",
     "text": [
      "Test_Loader: 100%|██████████| 288/288 [00:26<00:00, 11.00it/s]\n"
     ]
    },
    {
     "name": "stdout",
     "output_type": "stream",
     "text": [
      "Loss1: 0.8017, Loss2: 0.2778, Loss3: 1.2375\n"
     ]
    },
    {
     "name": "stderr",
     "output_type": "stream",
     "text": [
      "Test_Loader: 100%|██████████| 288/288 [00:27<00:00, 10.58it/s]\n"
     ]
    },
    {
     "name": "stdout",
     "output_type": "stream",
     "text": [
      "Loss1: 0.8132, Loss2: 0.2818, Loss3: 1.2522\n"
     ]
    },
    {
     "name": "stderr",
     "output_type": "stream",
     "text": [
      "Test_Loader: 100%|██████████| 288/288 [00:28<00:00, 10.23it/s]\n"
     ]
    },
    {
     "name": "stdout",
     "output_type": "stream",
     "text": [
      "Loss1: 0.8183, Loss2: 0.2827, Loss3: 1.2395\n"
     ]
    },
    {
     "name": "stderr",
     "output_type": "stream",
     "text": [
      "Test_Loader: 100%|██████████| 288/288 [00:27<00:00, 10.59it/s]\n"
     ]
    },
    {
     "name": "stdout",
     "output_type": "stream",
     "text": [
      "Loss1: 0.8105, Loss2: 0.2813, Loss3: 1.2374\n"
     ]
    },
    {
     "name": "stderr",
     "output_type": "stream",
     "text": [
      "Test_Loader: 100%|██████████| 288/288 [00:26<00:00, 10.75it/s]\n"
     ]
    },
    {
     "name": "stdout",
     "output_type": "stream",
     "text": [
      "Loss1: 0.8090, Loss2: 0.2792, Loss3: 1.2182\n"
     ]
    },
    {
     "name": "stderr",
     "output_type": "stream",
     "text": [
      "Test_Loader: 100%|██████████| 288/288 [00:27<00:00, 10.61it/s]\n"
     ]
    },
    {
     "name": "stdout",
     "output_type": "stream",
     "text": [
      "Loss1: 0.8112, Loss2: 0.2804, Loss3: 1.2340\n"
     ]
    },
    {
     "name": "stderr",
     "output_type": "stream",
     "text": [
      "Test_Loader: 100%|██████████| 288/288 [00:28<00:00, 10.23it/s]\n"
     ]
    },
    {
     "name": "stdout",
     "output_type": "stream",
     "text": [
      "Loss1: 0.8730, Loss2: 0.2944, Loss3: 1.3820\n"
     ]
    },
    {
     "name": "stderr",
     "output_type": "stream",
     "text": [
      "Test_Loader: 100%|██████████| 288/288 [00:28<00:00, 10.26it/s]\n"
     ]
    },
    {
     "name": "stdout",
     "output_type": "stream",
     "text": [
      "Loss1: 0.8704, Loss2: 0.2939, Loss3: 1.3921\n"
     ]
    },
    {
     "name": "stderr",
     "output_type": "stream",
     "text": [
      "Test_Loader: 100%|██████████| 288/288 [00:28<00:00, 10.28it/s]\n"
     ]
    },
    {
     "name": "stdout",
     "output_type": "stream",
     "text": [
      "Loss1: 0.8512, Loss2: 0.2873, Loss3: 1.3483\n"
     ]
    },
    {
     "name": "stderr",
     "output_type": "stream",
     "text": [
      "Test_Loader: 100%|██████████| 288/288 [00:28<00:00, 10.22it/s]\n"
     ]
    },
    {
     "name": "stdout",
     "output_type": "stream",
     "text": [
      "Loss1: 0.8419, Loss2: 0.2863, Loss3: 1.3439\n"
     ]
    },
    {
     "name": "stderr",
     "output_type": "stream",
     "text": [
      "Test_Loader: 100%|██████████| 288/288 [00:28<00:00, 10.10it/s]\n"
     ]
    },
    {
     "name": "stdout",
     "output_type": "stream",
     "text": [
      "Loss1: 0.8364, Loss2: 0.2838, Loss3: 1.3317\n"
     ]
    },
    {
     "name": "stderr",
     "output_type": "stream",
     "text": [
      "Test_Loader: 100%|██████████| 288/288 [00:28<00:00, 10.15it/s]\n"
     ]
    },
    {
     "name": "stdout",
     "output_type": "stream",
     "text": [
      "Loss1: 0.8390, Loss2: 0.2828, Loss3: 1.3143\n"
     ]
    },
    {
     "name": "stderr",
     "output_type": "stream",
     "text": [
      "Test_Loader: 100%|██████████| 288/288 [00:27<00:00, 10.58it/s]\n"
     ]
    },
    {
     "name": "stdout",
     "output_type": "stream",
     "text": [
      "Loss1: 0.8353, Loss2: 0.2819, Loss3: 1.3207\n"
     ]
    },
    {
     "name": "stderr",
     "output_type": "stream",
     "text": [
      "Test_Loader: 100%|██████████| 288/288 [00:26<00:00, 10.67it/s]\n"
     ]
    },
    {
     "name": "stdout",
     "output_type": "stream",
     "text": [
      "Loss1: 0.8338, Loss2: 0.2801, Loss3: 1.3065\n"
     ]
    },
    {
     "name": "stderr",
     "output_type": "stream",
     "text": [
      "Test_Loader: 100%|██████████| 288/288 [00:26<00:00, 10.79it/s]\n"
     ]
    },
    {
     "name": "stdout",
     "output_type": "stream",
     "text": [
      "Loss1: 0.8466, Loss2: 0.2797, Loss3: 1.3168\n"
     ]
    },
    {
     "name": "stderr",
     "output_type": "stream",
     "text": [
      "Test_Loader: 100%|██████████| 288/288 [00:26<00:00, 10.89it/s]\n"
     ]
    },
    {
     "name": "stdout",
     "output_type": "stream",
     "text": [
      "Loss1: 0.8338, Loss2: 0.2767, Loss3: 1.3033\n"
     ]
    },
    {
     "name": "stderr",
     "output_type": "stream",
     "text": [
      "Test_Loader: 100%|██████████| 288/288 [00:27<00:00, 10.30it/s]\n"
     ]
    },
    {
     "name": "stdout",
     "output_type": "stream",
     "text": [
      "Loss1: 0.8132, Loss2: 0.2712, Loss3: 1.2775\n"
     ]
    },
    {
     "name": "stderr",
     "output_type": "stream",
     "text": [
      "Test_Loader: 100%|██████████| 288/288 [00:26<00:00, 10.82it/s]\n"
     ]
    },
    {
     "name": "stdout",
     "output_type": "stream",
     "text": [
      "Loss1: 0.8107, Loss2: 0.2716, Loss3: 1.2605\n"
     ]
    },
    {
     "name": "stderr",
     "output_type": "stream",
     "text": [
      "Test_Loader: 100%|██████████| 288/288 [00:27<00:00, 10.64it/s]\n"
     ]
    },
    {
     "name": "stdout",
     "output_type": "stream",
     "text": [
      "Loss1: 0.8064, Loss2: 0.2685, Loss3: 1.2569\n"
     ]
    },
    {
     "name": "stderr",
     "output_type": "stream",
     "text": [
      "Test_Loader: 100%|██████████| 288/288 [00:27<00:00, 10.61it/s]\n"
     ]
    },
    {
     "name": "stdout",
     "output_type": "stream",
     "text": [
      "Loss1: 0.8046, Loss2: 0.2685, Loss3: 1.2411\n"
     ]
    },
    {
     "name": "stderr",
     "output_type": "stream",
     "text": [
      "Test_Loader: 100%|██████████| 288/288 [00:27<00:00, 10.43it/s]\n"
     ]
    },
    {
     "name": "stdout",
     "output_type": "stream",
     "text": [
      "Loss1: 0.8010, Loss2: 0.2685, Loss3: 1.2444\n"
     ]
    },
    {
     "name": "stderr",
     "output_type": "stream",
     "text": [
      "Test_Loader: 100%|██████████| 288/288 [00:27<00:00, 10.44it/s]\n"
     ]
    },
    {
     "name": "stdout",
     "output_type": "stream",
     "text": [
      "Loss1: 0.7992, Loss2: 0.2668, Loss3: 1.2407\n"
     ]
    },
    {
     "name": "stderr",
     "output_type": "stream",
     "text": [
      "Test_Loader: 100%|██████████| 288/288 [00:27<00:00, 10.44it/s]\n"
     ]
    },
    {
     "name": "stdout",
     "output_type": "stream",
     "text": [
      "Loss1: 0.7254, Loss2: 0.2578, Loss3: 1.1613\n"
     ]
    },
    {
     "name": "stderr",
     "output_type": "stream",
     "text": [
      "Test_Loader: 100%|██████████| 288/288 [00:27<00:00, 10.29it/s]\n"
     ]
    },
    {
     "name": "stdout",
     "output_type": "stream",
     "text": [
      "Loss1: 0.7238, Loss2: 0.2575, Loss3: 1.1621\n"
     ]
    },
    {
     "name": "stderr",
     "output_type": "stream",
     "text": [
      "Test_Loader: 100%|██████████| 288/288 [00:28<00:00, 10.23it/s]\n"
     ]
    },
    {
     "name": "stdout",
     "output_type": "stream",
     "text": [
      "Loss1: 0.7138, Loss2: 0.2561, Loss3: 1.1443\n"
     ]
    },
    {
     "name": "stderr",
     "output_type": "stream",
     "text": [
      "Test_Loader: 100%|██████████| 288/288 [00:27<00:00, 10.52it/s]\n"
     ]
    },
    {
     "name": "stdout",
     "output_type": "stream",
     "text": [
      "Loss1: 0.7132, Loss2: 0.2548, Loss3: 1.1360\n"
     ]
    },
    {
     "name": "stderr",
     "output_type": "stream",
     "text": [
      "Test_Loader: 100%|██████████| 288/288 [00:26<00:00, 10.69it/s]\n"
     ]
    },
    {
     "name": "stdout",
     "output_type": "stream",
     "text": [
      "Loss1: 0.7141, Loss2: 0.2565, Loss3: 1.1339\n"
     ]
    },
    {
     "name": "stderr",
     "output_type": "stream",
     "text": [
      "Test_Loader: 100%|██████████| 288/288 [00:26<00:00, 10.74it/s]\n"
     ]
    },
    {
     "name": "stdout",
     "output_type": "stream",
     "text": [
      "Loss1: 0.7085, Loss2: 0.2553, Loss3: 1.1338\n"
     ]
    },
    {
     "name": "stderr",
     "output_type": "stream",
     "text": [
      "Test_Loader: 100%|██████████| 288/288 [00:28<00:00, 10.23it/s]\n"
     ]
    },
    {
     "name": "stdout",
     "output_type": "stream",
     "text": [
      "Loss1: 0.7108, Loss2: 0.2556, Loss3: 1.1288\n"
     ]
    },
    {
     "name": "stderr",
     "output_type": "stream",
     "text": [
      "Test_Loader: 100%|██████████| 288/288 [00:27<00:00, 10.43it/s]\n"
     ]
    },
    {
     "name": "stdout",
     "output_type": "stream",
     "text": [
      "Loss1: 0.7099, Loss2: 0.2540, Loss3: 1.1279\n"
     ]
    },
    {
     "name": "stderr",
     "output_type": "stream",
     "text": [
      "Test_Loader: 100%|██████████| 288/288 [00:27<00:00, 10.58it/s]\n"
     ]
    },
    {
     "name": "stdout",
     "output_type": "stream",
     "text": [
      "Loss1: 0.7083, Loss2: 0.2582, Loss3: 1.1211\n"
     ]
    },
    {
     "name": "stderr",
     "output_type": "stream",
     "text": [
      "Test_Loader: 100%|██████████| 288/288 [00:27<00:00, 10.41it/s]\n"
     ]
    },
    {
     "name": "stdout",
     "output_type": "stream",
     "text": [
      "Loss1: 0.7080, Loss2: 0.2581, Loss3: 1.1260\n"
     ]
    },
    {
     "name": "stderr",
     "output_type": "stream",
     "text": [
      "Test_Loader: 100%|██████████| 288/288 [00:27<00:00, 10.48it/s]\n"
     ]
    },
    {
     "name": "stdout",
     "output_type": "stream",
     "text": [
      "Loss1: 0.7002, Loss2: 0.2521, Loss3: 1.1224\n"
     ]
    },
    {
     "name": "stderr",
     "output_type": "stream",
     "text": [
      "Test_Loader: 100%|██████████| 288/288 [00:28<00:00, 10.24it/s]\n"
     ]
    },
    {
     "name": "stdout",
     "output_type": "stream",
     "text": [
      "Loss1: 0.7022, Loss2: 0.2517, Loss3: 1.1256\n"
     ]
    },
    {
     "name": "stderr",
     "output_type": "stream",
     "text": [
      "Test_Loader: 100%|██████████| 288/288 [00:27<00:00, 10.29it/s]\n"
     ]
    },
    {
     "name": "stdout",
     "output_type": "stream",
     "text": [
      "Loss1: 0.7013, Loss2: 0.2515, Loss3: 1.1278\n"
     ]
    },
    {
     "name": "stderr",
     "output_type": "stream",
     "text": [
      "Test_Loader: 100%|██████████| 288/288 [00:28<00:00, 10.08it/s]\n"
     ]
    },
    {
     "name": "stdout",
     "output_type": "stream",
     "text": [
      "Loss1: 0.6929, Loss2: 0.2482, Loss3: 1.1156\n"
     ]
    },
    {
     "name": "stderr",
     "output_type": "stream",
     "text": [
      "Test_Loader: 100%|██████████| 288/288 [00:28<00:00, 10.14it/s]\n"
     ]
    },
    {
     "name": "stdout",
     "output_type": "stream",
     "text": [
      "Loss1: 0.6908, Loss2: 0.2482, Loss3: 1.1106\n"
     ]
    },
    {
     "name": "stderr",
     "output_type": "stream",
     "text": [
      "Test_Loader: 100%|██████████| 288/288 [00:28<00:00, 10.16it/s]\n"
     ]
    },
    {
     "name": "stdout",
     "output_type": "stream",
     "text": [
      "Loss1: 0.6848, Loss2: 0.2480, Loss3: 1.1033\n"
     ]
    },
    {
     "name": "stderr",
     "output_type": "stream",
     "text": [
      "Test_Loader: 100%|██████████| 288/288 [00:27<00:00, 10.40it/s]\n"
     ]
    },
    {
     "name": "stdout",
     "output_type": "stream",
     "text": [
      "Loss1: 0.6765, Loss2: 0.2450, Loss3: 1.0894\n"
     ]
    },
    {
     "name": "stderr",
     "output_type": "stream",
     "text": [
      "Test_Loader: 100%|██████████| 288/288 [00:27<00:00, 10.66it/s]\n"
     ]
    },
    {
     "name": "stdout",
     "output_type": "stream",
     "text": [
      "Loss1: 0.6754, Loss2: 0.2433, Loss3: 1.0775\n"
     ]
    },
    {
     "name": "stderr",
     "output_type": "stream",
     "text": [
      "Test_Loader: 100%|██████████| 288/288 [00:27<00:00, 10.46it/s]\n"
     ]
    },
    {
     "name": "stdout",
     "output_type": "stream",
     "text": [
      "Loss1: 0.6747, Loss2: 0.2430, Loss3: 1.0782\n"
     ]
    },
    {
     "name": "stderr",
     "output_type": "stream",
     "text": [
      "Test_Loader: 100%|██████████| 288/288 [00:29<00:00,  9.78it/s]\n"
     ]
    },
    {
     "name": "stdout",
     "output_type": "stream",
     "text": [
      "Loss1: 0.6774, Loss2: 0.2478, Loss3: 1.0799\n"
     ]
    },
    {
     "name": "stderr",
     "output_type": "stream",
     "text": [
      "Test_Loader: 100%|██████████| 288/288 [00:28<00:00, 10.16it/s]\n"
     ]
    },
    {
     "name": "stdout",
     "output_type": "stream",
     "text": [
      "Loss1: 0.6849, Loss2: 0.2481, Loss3: 1.0930\n"
     ]
    },
    {
     "name": "stderr",
     "output_type": "stream",
     "text": [
      "Test_Loader: 100%|██████████| 288/288 [00:27<00:00, 10.49it/s]\n"
     ]
    },
    {
     "name": "stdout",
     "output_type": "stream",
     "text": [
      "Loss1: 0.6789, Loss2: 0.2478, Loss3: 1.0540\n"
     ]
    },
    {
     "name": "stderr",
     "output_type": "stream",
     "text": [
      "Test_Loader: 100%|██████████| 288/288 [00:27<00:00, 10.48it/s]\n"
     ]
    },
    {
     "name": "stdout",
     "output_type": "stream",
     "text": [
      "Loss1: 0.6750, Loss2: 0.2521, Loss3: 1.0686\n"
     ]
    },
    {
     "name": "stderr",
     "output_type": "stream",
     "text": [
      "Test_Loader: 100%|██████████| 288/288 [00:27<00:00, 10.41it/s]\n"
     ]
    },
    {
     "name": "stdout",
     "output_type": "stream",
     "text": [
      "Loss1: 0.6782, Loss2: 0.2542, Loss3: 1.0656\n"
     ]
    },
    {
     "name": "stderr",
     "output_type": "stream",
     "text": [
      "Test_Loader: 100%|██████████| 288/288 [00:27<00:00, 10.33it/s]\n"
     ]
    },
    {
     "name": "stdout",
     "output_type": "stream",
     "text": [
      "Loss1: 0.6982, Loss2: 0.2664, Loss3: 1.0962\n"
     ]
    },
    {
     "name": "stderr",
     "output_type": "stream",
     "text": [
      "Test_Loader: 100%|██████████| 288/288 [00:27<00:00, 10.30it/s]\n"
     ]
    },
    {
     "name": "stdout",
     "output_type": "stream",
     "text": [
      "Loss1: 0.7276, Loss2: 0.2720, Loss3: 1.1233\n"
     ]
    },
    {
     "name": "stderr",
     "output_type": "stream",
     "text": [
      "Test_Loader: 100%|██████████| 288/288 [00:28<00:00, 10.12it/s]\n"
     ]
    },
    {
     "name": "stdout",
     "output_type": "stream",
     "text": [
      "Loss1: 0.7217, Loss2: 0.2686, Loss3: 1.1118\n"
     ]
    },
    {
     "name": "stderr",
     "output_type": "stream",
     "text": [
      "Test_Loader: 100%|██████████| 288/288 [00:28<00:00, 10.21it/s]\n"
     ]
    },
    {
     "name": "stdout",
     "output_type": "stream",
     "text": [
      "Loss1: 0.6996, Loss2: 0.2616, Loss3: 1.0788\n"
     ]
    },
    {
     "name": "stderr",
     "output_type": "stream",
     "text": [
      "Test_Loader: 100%|██████████| 288/288 [00:28<00:00, 10.11it/s]\n"
     ]
    },
    {
     "name": "stdout",
     "output_type": "stream",
     "text": [
      "Loss1: 0.6963, Loss2: 0.2576, Loss3: 1.0691\n"
     ]
    },
    {
     "name": "stderr",
     "output_type": "stream",
     "text": [
      "Test_Loader: 100%|██████████| 288/288 [00:27<00:00, 10.59it/s]\n"
     ]
    },
    {
     "name": "stdout",
     "output_type": "stream",
     "text": [
      "Loss1: 0.7126, Loss2: 0.2553, Loss3: 1.0684\n"
     ]
    },
    {
     "name": "stderr",
     "output_type": "stream",
     "text": [
      "Test_Loader: 100%|██████████| 288/288 [00:26<00:00, 10.70it/s]\n"
     ]
    },
    {
     "name": "stdout",
     "output_type": "stream",
     "text": [
      "Loss1: 0.7161, Loss2: 0.2536, Loss3: 1.0438\n"
     ]
    },
    {
     "name": "stderr",
     "output_type": "stream",
     "text": [
      "Test_Loader: 100%|██████████| 288/288 [00:26<00:00, 10.91it/s]\n"
     ]
    },
    {
     "name": "stdout",
     "output_type": "stream",
     "text": [
      "Loss1: 0.6628, Loss2: 0.2358, Loss3: 0.9617\n"
     ]
    },
    {
     "name": "stderr",
     "output_type": "stream",
     "text": [
      "Test_Loader: 100%|██████████| 288/288 [00:27<00:00, 10.38it/s]\n"
     ]
    },
    {
     "name": "stdout",
     "output_type": "stream",
     "text": [
      "Loss1: 0.6639, Loss2: 0.2344, Loss3: 0.9561\n"
     ]
    },
    {
     "name": "stderr",
     "output_type": "stream",
     "text": [
      "Test_Loader: 100%|██████████| 288/288 [00:27<00:00, 10.65it/s]\n"
     ]
    },
    {
     "name": "stdout",
     "output_type": "stream",
     "text": [
      "Loss1: 0.6558, Loss2: 0.2327, Loss3: 0.9461\n"
     ]
    },
    {
     "name": "stderr",
     "output_type": "stream",
     "text": [
      "Test_Loader: 100%|██████████| 288/288 [00:26<00:00, 10.76it/s]\n"
     ]
    },
    {
     "name": "stdout",
     "output_type": "stream",
     "text": [
      "Loss1: 0.6783, Loss2: 0.2352, Loss3: 0.9453\n"
     ]
    },
    {
     "name": "stderr",
     "output_type": "stream",
     "text": [
      "Test_Loader: 100%|██████████| 288/288 [00:27<00:00, 10.50it/s]\n"
     ]
    },
    {
     "name": "stdout",
     "output_type": "stream",
     "text": [
      "Loss1: 0.6724, Loss2: 0.2329, Loss3: 0.9415\n"
     ]
    },
    {
     "name": "stderr",
     "output_type": "stream",
     "text": [
      "Test_Loader: 100%|██████████| 288/288 [00:26<00:00, 10.78it/s]\n"
     ]
    },
    {
     "name": "stdout",
     "output_type": "stream",
     "text": [
      "Loss1: 0.6789, Loss2: 0.2321, Loss3: 0.9436\n"
     ]
    },
    {
     "name": "stderr",
     "output_type": "stream",
     "text": [
      "Test_Loader: 100%|██████████| 288/288 [00:26<00:00, 10.90it/s]\n"
     ]
    },
    {
     "name": "stdout",
     "output_type": "stream",
     "text": [
      "Loss1: 0.6766, Loss2: 0.2309, Loss3: 0.9400\n"
     ]
    },
    {
     "name": "stderr",
     "output_type": "stream",
     "text": [
      "Test_Loader: 100%|██████████| 288/288 [00:27<00:00, 10.64it/s]\n"
     ]
    },
    {
     "name": "stdout",
     "output_type": "stream",
     "text": [
      "Loss1: 0.6667, Loss2: 0.2281, Loss3: 0.9239\n"
     ]
    },
    {
     "name": "stderr",
     "output_type": "stream",
     "text": [
      "Test_Loader: 100%|██████████| 288/288 [00:26<00:00, 10.71it/s]\n"
     ]
    },
    {
     "name": "stdout",
     "output_type": "stream",
     "text": [
      "Loss1: 0.6401, Loss2: 0.1992, Loss3: 0.7903\n"
     ]
    },
    {
     "name": "stderr",
     "output_type": "stream",
     "text": [
      "Test_Loader: 100%|██████████| 288/288 [00:26<00:00, 10.68it/s]\n"
     ]
    },
    {
     "name": "stdout",
     "output_type": "stream",
     "text": [
      "Loss1: 0.6628, Loss2: 0.2040, Loss3: 0.8499\n"
     ]
    },
    {
     "name": "stderr",
     "output_type": "stream",
     "text": [
      "Test_Loader: 100%|██████████| 288/288 [00:26<00:00, 10.73it/s]\n"
     ]
    },
    {
     "name": "stdout",
     "output_type": "stream",
     "text": [
      "Loss1: 0.6587, Loss2: 0.2040, Loss3: 0.8409\n"
     ]
    },
    {
     "name": "stderr",
     "output_type": "stream",
     "text": [
      "Test_Loader: 100%|██████████| 288/288 [00:26<00:00, 10.84it/s]\n"
     ]
    },
    {
     "name": "stdout",
     "output_type": "stream",
     "text": [
      "Loss1: 0.6577, Loss2: 0.2026, Loss3: 0.8445\n"
     ]
    },
    {
     "name": "stderr",
     "output_type": "stream",
     "text": [
      "Test_Loader: 100%|██████████| 288/288 [00:26<00:00, 10.89it/s]\n"
     ]
    },
    {
     "name": "stdout",
     "output_type": "stream",
     "text": [
      "Loss1: 0.6822, Loss2: 0.2242, Loss3: 0.8900\n"
     ]
    },
    {
     "name": "stderr",
     "output_type": "stream",
     "text": [
      "Test_Loader: 100%|██████████| 288/288 [00:26<00:00, 10.91it/s]\n"
     ]
    },
    {
     "name": "stdout",
     "output_type": "stream",
     "text": [
      "Loss1: 0.6821, Loss2: 0.2230, Loss3: 0.8913\n"
     ]
    },
    {
     "name": "stderr",
     "output_type": "stream",
     "text": [
      "Test_Loader: 100%|██████████| 288/288 [00:26<00:00, 10.82it/s]\n"
     ]
    },
    {
     "name": "stdout",
     "output_type": "stream",
     "text": [
      "Loss1: 0.6505, Loss2: 0.2140, Loss3: 0.8756\n"
     ]
    },
    {
     "name": "stderr",
     "output_type": "stream",
     "text": [
      "Test_Loader: 100%|██████████| 288/288 [00:27<00:00, 10.34it/s]\n"
     ]
    },
    {
     "name": "stdout",
     "output_type": "stream",
     "text": [
      "Loss1: 0.6543, Loss2: 0.2162, Loss3: 0.8789\n"
     ]
    },
    {
     "name": "stderr",
     "output_type": "stream",
     "text": [
      "Test_Loader: 100%|██████████| 288/288 [00:27<00:00, 10.51it/s]\n"
     ]
    },
    {
     "name": "stdout",
     "output_type": "stream",
     "text": [
      "Loss1: 0.6507, Loss2: 0.2154, Loss3: 0.8550\n"
     ]
    },
    {
     "name": "stderr",
     "output_type": "stream",
     "text": [
      "Test_Loader: 100%|██████████| 288/288 [00:27<00:00, 10.39it/s]\n"
     ]
    },
    {
     "name": "stdout",
     "output_type": "stream",
     "text": [
      "Loss1: 0.6475, Loss2: 0.2138, Loss3: 0.8408\n"
     ]
    },
    {
     "name": "stderr",
     "output_type": "stream",
     "text": [
      "Test_Loader: 100%|██████████| 288/288 [00:27<00:00, 10.49it/s]\n"
     ]
    },
    {
     "name": "stdout",
     "output_type": "stream",
     "text": [
      "Loss1: 0.6504, Loss2: 0.2143, Loss3: 0.8559\n"
     ]
    },
    {
     "name": "stderr",
     "output_type": "stream",
     "text": [
      "Test_Loader: 100%|██████████| 288/288 [00:27<00:00, 10.41it/s]\n"
     ]
    },
    {
     "name": "stdout",
     "output_type": "stream",
     "text": [
      "Loss1: 0.6478, Loss2: 0.2147, Loss3: 0.8497\n"
     ]
    },
    {
     "name": "stderr",
     "output_type": "stream",
     "text": [
      "Test_Loader: 100%|██████████| 288/288 [00:28<00:00, 10.28it/s]\n"
     ]
    },
    {
     "name": "stdout",
     "output_type": "stream",
     "text": [
      "Loss1: 0.6543, Loss2: 0.2165, Loss3: 0.8494\n"
     ]
    },
    {
     "name": "stderr",
     "output_type": "stream",
     "text": [
      "Test_Loader: 100%|██████████| 288/288 [00:27<00:00, 10.33it/s]\n"
     ]
    },
    {
     "name": "stdout",
     "output_type": "stream",
     "text": [
      "Loss1: 0.6748, Loss2: 0.2198, Loss3: 0.8573\n"
     ]
    },
    {
     "name": "stderr",
     "output_type": "stream",
     "text": [
      "Test_Loader: 100%|██████████| 288/288 [00:28<00:00, 10.19it/s]\n"
     ]
    },
    {
     "name": "stdout",
     "output_type": "stream",
     "text": [
      "Loss1: 0.6832, Loss2: 0.2206, Loss3: 0.8587\n"
     ]
    },
    {
     "name": "stderr",
     "output_type": "stream",
     "text": [
      "Test_Loader: 100%|██████████| 288/288 [00:28<00:00, 10.16it/s]\n"
     ]
    },
    {
     "name": "stdout",
     "output_type": "stream",
     "text": [
      "Loss1: 0.6737, Loss2: 0.2145, Loss3: 0.8502\n"
     ]
    },
    {
     "name": "stderr",
     "output_type": "stream",
     "text": [
      "Test_Loader: 100%|██████████| 288/288 [00:28<00:00, 10.24it/s]\n"
     ]
    },
    {
     "name": "stdout",
     "output_type": "stream",
     "text": [
      "Loss1: 0.6602, Loss2: 0.2100, Loss3: 0.8742\n"
     ]
    },
    {
     "name": "stderr",
     "output_type": "stream",
     "text": [
      "Test_Loader: 100%|██████████| 288/288 [00:26<00:00, 10.96it/s]\n"
     ]
    },
    {
     "name": "stdout",
     "output_type": "stream",
     "text": [
      "Loss1: 0.6566, Loss2: 0.2094, Loss3: 0.8670\n"
     ]
    },
    {
     "name": "stderr",
     "output_type": "stream",
     "text": [
      "Test_Loader: 100%|██████████| 288/288 [00:26<00:00, 10.77it/s]\n"
     ]
    },
    {
     "name": "stdout",
     "output_type": "stream",
     "text": [
      "Loss1: 0.6562, Loss2: 0.2075, Loss3: 0.8702\n"
     ]
    },
    {
     "name": "stderr",
     "output_type": "stream",
     "text": [
      "Test_Loader: 100%|██████████| 288/288 [00:26<00:00, 10.72it/s]\n"
     ]
    },
    {
     "name": "stdout",
     "output_type": "stream",
     "text": [
      "Loss1: 0.6542, Loss2: 0.2071, Loss3: 0.8514\n"
     ]
    },
    {
     "name": "stderr",
     "output_type": "stream",
     "text": [
      "Test_Loader: 100%|██████████| 288/288 [00:27<00:00, 10.36it/s]\n"
     ]
    },
    {
     "name": "stdout",
     "output_type": "stream",
     "text": [
      "Loss1: 0.6461, Loss2: 0.2082, Loss3: 0.8214\n"
     ]
    },
    {
     "name": "stderr",
     "output_type": "stream",
     "text": [
      "Test_Loader: 100%|██████████| 288/288 [00:27<00:00, 10.57it/s]\n"
     ]
    },
    {
     "name": "stdout",
     "output_type": "stream",
     "text": [
      "Loss1: 0.6501, Loss2: 0.2088, Loss3: 0.8178\n"
     ]
    },
    {
     "name": "stderr",
     "output_type": "stream",
     "text": [
      "Test_Loader: 100%|██████████| 288/288 [00:27<00:00, 10.60it/s]\n"
     ]
    },
    {
     "name": "stdout",
     "output_type": "stream",
     "text": [
      "Loss1: 0.6466, Loss2: 0.2072, Loss3: 0.8246\n"
     ]
    },
    {
     "name": "stderr",
     "output_type": "stream",
     "text": [
      "Test_Loader: 100%|██████████| 288/288 [00:27<00:00, 10.56it/s]\n"
     ]
    },
    {
     "name": "stdout",
     "output_type": "stream",
     "text": [
      "Loss1: 0.7041, Loss2: 0.2908, Loss3: 0.9859\n"
     ]
    },
    {
     "name": "stderr",
     "output_type": "stream",
     "text": [
      "Test_Loader: 100%|██████████| 288/288 [00:27<00:00, 10.58it/s]\n"
     ]
    },
    {
     "name": "stdout",
     "output_type": "stream",
     "text": [
      "Loss1: 0.6971, Loss2: 0.2835, Loss3: 0.9565\n"
     ]
    },
    {
     "name": "stderr",
     "output_type": "stream",
     "text": [
      "Test_Loader: 100%|██████████| 288/288 [00:27<00:00, 10.38it/s]\n"
     ]
    },
    {
     "name": "stdout",
     "output_type": "stream",
     "text": [
      "Loss1: 0.6891, Loss2: 0.2747, Loss3: 0.9463\n"
     ]
    },
    {
     "name": "stderr",
     "output_type": "stream",
     "text": [
      "Test_Loader: 100%|██████████| 288/288 [00:27<00:00, 10.36it/s]\n"
     ]
    },
    {
     "name": "stdout",
     "output_type": "stream",
     "text": [
      "Loss1: 0.6827, Loss2: 0.2672, Loss3: 0.9165\n"
     ]
    },
    {
     "name": "stderr",
     "output_type": "stream",
     "text": [
      "Test_Loader: 100%|██████████| 288/288 [00:27<00:00, 10.34it/s]\n"
     ]
    },
    {
     "name": "stdout",
     "output_type": "stream",
     "text": [
      "Loss1: 0.6805, Loss2: 0.2644, Loss3: 0.9306\n"
     ]
    },
    {
     "name": "stderr",
     "output_type": "stream",
     "text": [
      "Test_Loader: 100%|██████████| 288/288 [00:27<00:00, 10.31it/s]\n"
     ]
    },
    {
     "name": "stdout",
     "output_type": "stream",
     "text": [
      "Loss1: 0.6886, Loss2: 0.2674, Loss3: 0.9310\n"
     ]
    },
    {
     "name": "stderr",
     "output_type": "stream",
     "text": [
      "Test_Loader: 100%|██████████| 288/288 [00:27<00:00, 10.42it/s]\n"
     ]
    },
    {
     "name": "stdout",
     "output_type": "stream",
     "text": [
      "Loss1: 0.6656, Loss2: 0.2613, Loss3: 0.9173\n"
     ]
    },
    {
     "name": "stderr",
     "output_type": "stream",
     "text": [
      "Test_Loader: 100%|██████████| 288/288 [00:26<00:00, 11.01it/s]\n"
     ]
    },
    {
     "name": "stdout",
     "output_type": "stream",
     "text": [
      "Loss1: 0.6486, Loss2: 0.2582, Loss3: 0.8928\n"
     ]
    },
    {
     "name": "stderr",
     "output_type": "stream",
     "text": [
      "Test_Loader: 100%|██████████| 288/288 [00:26<00:00, 10.83it/s]\n"
     ]
    },
    {
     "name": "stdout",
     "output_type": "stream",
     "text": [
      "Loss1: 0.6322, Loss2: 0.2522, Loss3: 0.8852\n"
     ]
    },
    {
     "name": "stderr",
     "output_type": "stream",
     "text": [
      "Test_Loader: 100%|██████████| 288/288 [00:27<00:00, 10.39it/s]\n"
     ]
    },
    {
     "name": "stdout",
     "output_type": "stream",
     "text": [
      "Loss1: 0.6291, Loss2: 0.2512, Loss3: 0.8711\n"
     ]
    },
    {
     "name": "stderr",
     "output_type": "stream",
     "text": [
      "Test_Loader: 100%|██████████| 288/288 [00:27<00:00, 10.47it/s]\n"
     ]
    },
    {
     "name": "stdout",
     "output_type": "stream",
     "text": [
      "Loss1: 0.6240, Loss2: 0.2457, Loss3: 0.8617\n"
     ]
    },
    {
     "name": "stderr",
     "output_type": "stream",
     "text": [
      "Test_Loader: 100%|██████████| 288/288 [00:27<00:00, 10.61it/s]\n"
     ]
    },
    {
     "name": "stdout",
     "output_type": "stream",
     "text": [
      "Loss1: 0.6310, Loss2: 0.2430, Loss3: 0.8608\n"
     ]
    },
    {
     "name": "stderr",
     "output_type": "stream",
     "text": [
      "Test_Loader: 100%|██████████| 288/288 [00:26<00:00, 10.86it/s]\n"
     ]
    },
    {
     "name": "stdout",
     "output_type": "stream",
     "text": [
      "Loss1: 0.6266, Loss2: 0.2423, Loss3: 0.8645\n"
     ]
    },
    {
     "name": "stderr",
     "output_type": "stream",
     "text": [
      "Test_Loader: 100%|██████████| 288/288 [00:26<00:00, 10.75it/s]\n"
     ]
    },
    {
     "name": "stdout",
     "output_type": "stream",
     "text": [
      "Loss1: 0.6298, Loss2: 0.2402, Loss3: 0.8600\n"
     ]
    },
    {
     "name": "stderr",
     "output_type": "stream",
     "text": [
      "Test_Loader: 100%|██████████| 288/288 [00:26<00:00, 10.84it/s]\n"
     ]
    },
    {
     "name": "stdout",
     "output_type": "stream",
     "text": [
      "Loss1: 0.6259, Loss2: 0.2406, Loss3: 0.8597\n"
     ]
    },
    {
     "name": "stderr",
     "output_type": "stream",
     "text": [
      "Test_Loader: 100%|██████████| 288/288 [00:25<00:00, 11.12it/s]\n"
     ]
    },
    {
     "name": "stdout",
     "output_type": "stream",
     "text": [
      "Loss1: 0.6325, Loss2: 0.2401, Loss3: 0.8798\n"
     ]
    },
    {
     "name": "stderr",
     "output_type": "stream",
     "text": [
      "Test_Loader: 100%|██████████| 288/288 [00:26<00:00, 10.96it/s]\n"
     ]
    },
    {
     "name": "stdout",
     "output_type": "stream",
     "text": [
      "Loss1: 0.6266, Loss2: 0.2389, Loss3: 0.8718\n"
     ]
    },
    {
     "name": "stderr",
     "output_type": "stream",
     "text": [
      "Test_Loader: 100%|██████████| 288/288 [00:26<00:00, 10.84it/s]\n"
     ]
    },
    {
     "name": "stdout",
     "output_type": "stream",
     "text": [
      "Loss1: 0.6175, Loss2: 0.2373, Loss3: 0.8402\n"
     ]
    },
    {
     "name": "stderr",
     "output_type": "stream",
     "text": [
      "Test_Loader: 100%|██████████| 288/288 [00:26<00:00, 10.83it/s]\n"
     ]
    },
    {
     "name": "stdout",
     "output_type": "stream",
     "text": [
      "Loss1: 0.5524, Loss2: 0.2243, Loss3: 0.7503\n"
     ]
    },
    {
     "name": "stderr",
     "output_type": "stream",
     "text": [
      "Test_Loader: 100%|██████████| 288/288 [00:26<00:00, 10.91it/s]\n"
     ]
    },
    {
     "name": "stdout",
     "output_type": "stream",
     "text": [
      "Loss1: 0.5465, Loss2: 0.2228, Loss3: 0.7446\n"
     ]
    },
    {
     "name": "stderr",
     "output_type": "stream",
     "text": [
      "Test_Loader: 100%|██████████| 288/288 [00:26<00:00, 10.89it/s]\n"
     ]
    },
    {
     "name": "stdout",
     "output_type": "stream",
     "text": [
      "Loss1: 0.5440, Loss2: 0.2218, Loss3: 0.7357\n"
     ]
    },
    {
     "name": "stderr",
     "output_type": "stream",
     "text": [
      "Test_Loader: 100%|██████████| 288/288 [00:26<00:00, 10.72it/s]\n"
     ]
    },
    {
     "name": "stdout",
     "output_type": "stream",
     "text": [
      "Loss1: 0.5367, Loss2: 0.2181, Loss3: 0.7316\n"
     ]
    },
    {
     "name": "stderr",
     "output_type": "stream",
     "text": [
      "Test_Loader: 100%|██████████| 288/288 [00:27<00:00, 10.31it/s]\n"
     ]
    },
    {
     "name": "stdout",
     "output_type": "stream",
     "text": [
      "Loss1: 0.5356, Loss2: 0.2179, Loss3: 0.7262\n"
     ]
    },
    {
     "name": "stderr",
     "output_type": "stream",
     "text": [
      "Test_Loader: 100%|██████████| 288/288 [00:28<00:00,  9.97it/s]\n"
     ]
    },
    {
     "name": "stdout",
     "output_type": "stream",
     "text": [
      "Loss1: 0.6191, Loss2: 0.2194, Loss3: 0.7532\n"
     ]
    },
    {
     "name": "stderr",
     "output_type": "stream",
     "text": [
      "Test_Loader: 100%|██████████| 288/288 [00:28<00:00, 10.22it/s]\n"
     ]
    },
    {
     "name": "stdout",
     "output_type": "stream",
     "text": [
      "Loss1: 0.6056, Loss2: 0.2185, Loss3: 0.7428\n"
     ]
    },
    {
     "name": "stderr",
     "output_type": "stream",
     "text": [
      "Test_Loader: 100%|██████████| 288/288 [00:26<00:00, 10.70it/s]\n"
     ]
    },
    {
     "name": "stdout",
     "output_type": "stream",
     "text": [
      "Loss1: 0.6050, Loss2: 0.2154, Loss3: 0.7480\n"
     ]
    },
    {
     "name": "stderr",
     "output_type": "stream",
     "text": [
      "Test_Loader: 100%|██████████| 288/288 [00:27<00:00, 10.63it/s]\n"
     ]
    },
    {
     "name": "stdout",
     "output_type": "stream",
     "text": [
      "Loss1: 0.5803, Loss2: 0.2151, Loss3: 0.7217\n"
     ]
    },
    {
     "name": "stderr",
     "output_type": "stream",
     "text": [
      "Test_Loader: 100%|██████████| 288/288 [00:27<00:00, 10.54it/s]\n"
     ]
    },
    {
     "name": "stdout",
     "output_type": "stream",
     "text": [
      "Loss1: 0.5726, Loss2: 0.2147, Loss3: 0.7089\n"
     ]
    },
    {
     "name": "stderr",
     "output_type": "stream",
     "text": [
      "Test_Loader: 100%|██████████| 288/288 [00:27<00:00, 10.36it/s]\n"
     ]
    },
    {
     "name": "stdout",
     "output_type": "stream",
     "text": [
      "Loss1: 0.5586, Loss2: 0.2118, Loss3: 0.7067\n"
     ]
    },
    {
     "name": "stderr",
     "output_type": "stream",
     "text": [
      "Test_Loader: 100%|██████████| 288/288 [00:27<00:00, 10.65it/s]\n"
     ]
    },
    {
     "name": "stdout",
     "output_type": "stream",
     "text": [
      "Loss1: 0.5430, Loss2: 0.2092, Loss3: 0.7041\n"
     ]
    },
    {
     "name": "stderr",
     "output_type": "stream",
     "text": [
      "Test_Loader: 100%|██████████| 288/288 [00:27<00:00, 10.49it/s]\n"
     ]
    },
    {
     "name": "stdout",
     "output_type": "stream",
     "text": [
      "Loss1: 0.5371, Loss2: 0.2090, Loss3: 0.6969\n"
     ]
    },
    {
     "name": "stderr",
     "output_type": "stream",
     "text": [
      "Test_Loader: 100%|██████████| 288/288 [00:27<00:00, 10.40it/s]\n"
     ]
    },
    {
     "name": "stdout",
     "output_type": "stream",
     "text": [
      "Loss1: 0.5577, Loss2: 0.2091, Loss3: 0.7001\n"
     ]
    },
    {
     "name": "stderr",
     "output_type": "stream",
     "text": [
      "Test_Loader: 100%|██████████| 288/288 [00:26<00:00, 10.77it/s]\n"
     ]
    },
    {
     "name": "stdout",
     "output_type": "stream",
     "text": [
      "Loss1: 0.5557, Loss2: 0.2077, Loss3: 0.6915\n"
     ]
    },
    {
     "name": "stderr",
     "output_type": "stream",
     "text": [
      "Test_Loader: 100%|██████████| 288/288 [00:26<00:00, 10.88it/s]\n"
     ]
    },
    {
     "name": "stdout",
     "output_type": "stream",
     "text": [
      "Loss1: 0.5514, Loss2: 0.2066, Loss3: 0.6848\n"
     ]
    },
    {
     "name": "stderr",
     "output_type": "stream",
     "text": [
      "Test_Loader: 100%|██████████| 288/288 [00:27<00:00, 10.52it/s]\n"
     ]
    },
    {
     "name": "stdout",
     "output_type": "stream",
     "text": [
      "Loss1: 0.5465, Loss2: 0.2033, Loss3: 0.6778\n"
     ]
    },
    {
     "name": "stderr",
     "output_type": "stream",
     "text": [
      "Test_Loader: 100%|██████████| 288/288 [00:27<00:00, 10.52it/s]\n"
     ]
    },
    {
     "name": "stdout",
     "output_type": "stream",
     "text": [
      "Loss1: 0.7173, Loss2: 0.2077, Loss3: 0.6988\n"
     ]
    },
    {
     "name": "stderr",
     "output_type": "stream",
     "text": [
      "Test_Loader: 100%|██████████| 288/288 [00:29<00:00,  9.72it/s]\n"
     ]
    },
    {
     "name": "stdout",
     "output_type": "stream",
     "text": [
      "Loss1: 0.7024, Loss2: 0.2074, Loss3: 0.6930\n"
     ]
    },
    {
     "name": "stderr",
     "output_type": "stream",
     "text": [
      "Test_Loader: 100%|██████████| 288/288 [00:27<00:00, 10.62it/s]\n"
     ]
    },
    {
     "name": "stdout",
     "output_type": "stream",
     "text": [
      "Loss1: 0.6844, Loss2: 0.2063, Loss3: 0.6873\n"
     ]
    },
    {
     "name": "stderr",
     "output_type": "stream",
     "text": [
      "Test_Loader: 100%|██████████| 288/288 [00:27<00:00, 10.63it/s]\n"
     ]
    },
    {
     "name": "stdout",
     "output_type": "stream",
     "text": [
      "Loss1: 0.6921, Loss2: 0.2063, Loss3: 0.7011\n"
     ]
    },
    {
     "name": "stderr",
     "output_type": "stream",
     "text": [
      "Test_Loader: 100%|██████████| 288/288 [00:27<00:00, 10.48it/s]\n"
     ]
    },
    {
     "name": "stdout",
     "output_type": "stream",
     "text": [
      "Loss1: 0.6732, Loss2: 0.2030, Loss3: 0.6982\n"
     ]
    },
    {
     "name": "stderr",
     "output_type": "stream",
     "text": [
      "Test_Loader: 100%|██████████| 288/288 [00:28<00:00, 10.24it/s]\n"
     ]
    },
    {
     "name": "stdout",
     "output_type": "stream",
     "text": [
      "Loss1: 0.6681, Loss2: 0.2049, Loss3: 0.6948\n"
     ]
    },
    {
     "name": "stderr",
     "output_type": "stream",
     "text": [
      "Test_Loader: 100%|██████████| 288/288 [00:27<00:00, 10.46it/s]\n"
     ]
    },
    {
     "name": "stdout",
     "output_type": "stream",
     "text": [
      "Loss1: 0.6705, Loss2: 0.2196, Loss3: 0.7453\n"
     ]
    },
    {
     "name": "stderr",
     "output_type": "stream",
     "text": [
      "Test_Loader: 100%|██████████| 288/288 [00:27<00:00, 10.41it/s]\n"
     ]
    },
    {
     "name": "stdout",
     "output_type": "stream",
     "text": [
      "Loss1: 0.6541, Loss2: 0.2199, Loss3: 0.7402\n"
     ]
    },
    {
     "name": "stderr",
     "output_type": "stream",
     "text": [
      "Test_Loader: 100%|██████████| 288/288 [00:28<00:00, 10.23it/s]\n"
     ]
    },
    {
     "name": "stdout",
     "output_type": "stream",
     "text": [
      "Loss1: 0.6408, Loss2: 0.2190, Loss3: 0.7340\n"
     ]
    },
    {
     "name": "stderr",
     "output_type": "stream",
     "text": [
      "Test_Loader: 100%|██████████| 288/288 [00:27<00:00, 10.34it/s]\n"
     ]
    },
    {
     "name": "stdout",
     "output_type": "stream",
     "text": [
      "Loss1: 0.6322, Loss2: 0.2186, Loss3: 0.7479\n"
     ]
    },
    {
     "name": "stderr",
     "output_type": "stream",
     "text": [
      "Test_Loader: 100%|██████████| 288/288 [00:26<00:00, 10.84it/s]\n"
     ]
    },
    {
     "name": "stdout",
     "output_type": "stream",
     "text": [
      "Loss1: 0.6443, Loss2: 0.2243, Loss3: 0.7725\n"
     ]
    },
    {
     "name": "stderr",
     "output_type": "stream",
     "text": [
      "Test_Loader: 100%|██████████| 288/288 [00:26<00:00, 10.84it/s]\n"
     ]
    },
    {
     "name": "stdout",
     "output_type": "stream",
     "text": [
      "Loss1: 0.6375, Loss2: 0.2234, Loss3: 0.7689\n"
     ]
    },
    {
     "name": "stderr",
     "output_type": "stream",
     "text": [
      "Test_Loader: 100%|██████████| 288/288 [00:26<00:00, 10.95it/s]\n"
     ]
    },
    {
     "name": "stdout",
     "output_type": "stream",
     "text": [
      "Loss1: 0.6444, Loss2: 0.2255, Loss3: 0.7939\n"
     ]
    },
    {
     "name": "stderr",
     "output_type": "stream",
     "text": [
      "Test_Loader: 100%|██████████| 288/288 [00:27<00:00, 10.62it/s]\n"
     ]
    },
    {
     "name": "stdout",
     "output_type": "stream",
     "text": [
      "Loss1: 0.6398, Loss2: 0.2277, Loss3: 0.7873\n"
     ]
    },
    {
     "name": "stderr",
     "output_type": "stream",
     "text": [
      "Test_Loader: 100%|██████████| 288/288 [00:28<00:00, 10.08it/s]\n"
     ]
    },
    {
     "name": "stdout",
     "output_type": "stream",
     "text": [
      "Loss1: 0.6333, Loss2: 0.2292, Loss3: 0.7774\n"
     ]
    },
    {
     "name": "stderr",
     "output_type": "stream",
     "text": [
      "Test_Loader: 100%|██████████| 288/288 [00:28<00:00,  9.96it/s]\n"
     ]
    },
    {
     "name": "stdout",
     "output_type": "stream",
     "text": [
      "Loss1: 0.6790, Loss2: 0.2338, Loss3: 0.8154\n"
     ]
    },
    {
     "name": "stderr",
     "output_type": "stream",
     "text": [
      "Test_Loader: 100%|██████████| 288/288 [00:27<00:00, 10.66it/s]\n"
     ]
    },
    {
     "name": "stdout",
     "output_type": "stream",
     "text": [
      "Loss1: 0.6660, Loss2: 0.2350, Loss3: 0.8034\n"
     ]
    },
    {
     "name": "stderr",
     "output_type": "stream",
     "text": [
      "Test_Loader: 100%|██████████| 288/288 [00:26<00:00, 10.70it/s]\n"
     ]
    },
    {
     "name": "stdout",
     "output_type": "stream",
     "text": [
      "Loss1: 0.6993, Loss2: 0.2555, Loss3: 0.8520\n"
     ]
    },
    {
     "name": "stderr",
     "output_type": "stream",
     "text": [
      "Test_Loader: 100%|██████████| 288/288 [00:27<00:00, 10.55it/s]\n"
     ]
    },
    {
     "name": "stdout",
     "output_type": "stream",
     "text": [
      "Loss1: 0.6922, Loss2: 0.2532, Loss3: 0.8411\n"
     ]
    },
    {
     "name": "stderr",
     "output_type": "stream",
     "text": [
      "Test_Loader: 100%|██████████| 288/288 [00:27<00:00, 10.34it/s]\n"
     ]
    },
    {
     "name": "stdout",
     "output_type": "stream",
     "text": [
      "Loss1: 0.6936, Loss2: 0.2496, Loss3: 0.8493\n"
     ]
    },
    {
     "name": "stderr",
     "output_type": "stream",
     "text": [
      "Test_Loader: 100%|██████████| 288/288 [00:28<00:00, 10.20it/s]\n"
     ]
    },
    {
     "name": "stdout",
     "output_type": "stream",
     "text": [
      "Loss1: 0.6781, Loss2: 0.2491, Loss3: 0.8270\n"
     ]
    },
    {
     "name": "stderr",
     "output_type": "stream",
     "text": [
      "Test_Loader: 100%|██████████| 288/288 [00:27<00:00, 10.30it/s]\n"
     ]
    },
    {
     "name": "stdout",
     "output_type": "stream",
     "text": [
      "Loss1: 0.6803, Loss2: 0.2449, Loss3: 0.8217\n"
     ]
    },
    {
     "name": "stderr",
     "output_type": "stream",
     "text": [
      "Test_Loader: 100%|██████████| 288/288 [00:28<00:00, 10.18it/s]\n"
     ]
    },
    {
     "name": "stdout",
     "output_type": "stream",
     "text": [
      "Loss1: 0.6689, Loss2: 0.2433, Loss3: 0.8045\n"
     ]
    },
    {
     "name": "stderr",
     "output_type": "stream",
     "text": [
      "Test_Loader: 100%|██████████| 288/288 [00:28<00:00, 10.18it/s]\n"
     ]
    },
    {
     "name": "stdout",
     "output_type": "stream",
     "text": [
      "Loss1: 0.6506, Loss2: 0.2370, Loss3: 0.7981\n"
     ]
    },
    {
     "name": "stderr",
     "output_type": "stream",
     "text": [
      "Test_Loader: 100%|██████████| 288/288 [00:27<00:00, 10.45it/s]\n"
     ]
    },
    {
     "name": "stdout",
     "output_type": "stream",
     "text": [
      "Loss1: 0.6357, Loss2: 0.2314, Loss3: 0.7883\n"
     ]
    },
    {
     "name": "stderr",
     "output_type": "stream",
     "text": [
      "Test_Loader: 100%|██████████| 288/288 [00:27<00:00, 10.58it/s]\n"
     ]
    },
    {
     "name": "stdout",
     "output_type": "stream",
     "text": [
      "Loss1: 0.6300, Loss2: 0.2305, Loss3: 0.7719\n"
     ]
    },
    {
     "name": "stderr",
     "output_type": "stream",
     "text": [
      "Test_Loader: 100%|██████████| 288/288 [00:27<00:00, 10.42it/s]\n"
     ]
    },
    {
     "name": "stdout",
     "output_type": "stream",
     "text": [
      "Loss1: 0.6440, Loss2: 0.2350, Loss3: 0.8036\n"
     ]
    },
    {
     "name": "stderr",
     "output_type": "stream",
     "text": [
      "Test_Loader: 100%|██████████| 288/288 [00:29<00:00,  9.84it/s]\n"
     ]
    },
    {
     "name": "stdout",
     "output_type": "stream",
     "text": [
      "Loss1: 0.6364, Loss2: 0.2348, Loss3: 0.7862\n"
     ]
    },
    {
     "name": "stderr",
     "output_type": "stream",
     "text": [
      "Test_Loader: 100%|██████████| 288/288 [00:28<00:00, 10.18it/s]\n"
     ]
    },
    {
     "name": "stdout",
     "output_type": "stream",
     "text": [
      "Loss1: 0.6132, Loss2: 0.2478, Loss3: 0.8003\n"
     ]
    },
    {
     "name": "stderr",
     "output_type": "stream",
     "text": [
      "Test_Loader: 100%|██████████| 288/288 [00:27<00:00, 10.48it/s]\n"
     ]
    },
    {
     "name": "stdout",
     "output_type": "stream",
     "text": [
      "Loss1: 0.6223, Loss2: 0.2495, Loss3: 0.7969\n"
     ]
    },
    {
     "name": "stderr",
     "output_type": "stream",
     "text": [
      "Test_Loader: 100%|██████████| 288/288 [00:27<00:00, 10.51it/s]\n"
     ]
    },
    {
     "name": "stdout",
     "output_type": "stream",
     "text": [
      "Loss1: 0.6176, Loss2: 0.2488, Loss3: 0.7992\n"
     ]
    },
    {
     "name": "stderr",
     "output_type": "stream",
     "text": [
      "Test_Loader: 100%|██████████| 288/288 [00:27<00:00, 10.45it/s]\n"
     ]
    },
    {
     "name": "stdout",
     "output_type": "stream",
     "text": [
      "Loss1: 0.6160, Loss2: 0.2479, Loss3: 0.7822\n"
     ]
    },
    {
     "name": "stderr",
     "output_type": "stream",
     "text": [
      "Test_Loader: 100%|██████████| 288/288 [00:27<00:00, 10.44it/s]\n"
     ]
    },
    {
     "name": "stdout",
     "output_type": "stream",
     "text": [
      "Loss1: 0.6102, Loss2: 0.2458, Loss3: 0.8030\n"
     ]
    },
    {
     "name": "stderr",
     "output_type": "stream",
     "text": [
      "Test_Loader: 100%|██████████| 288/288 [00:27<00:00, 10.49it/s]\n"
     ]
    },
    {
     "name": "stdout",
     "output_type": "stream",
     "text": [
      "Loss1: 0.5886, Loss2: 0.2401, Loss3: 0.7741\n"
     ]
    },
    {
     "name": "stderr",
     "output_type": "stream",
     "text": [
      "Test_Loader: 100%|██████████| 288/288 [00:28<00:00, 10.28it/s]\n"
     ]
    },
    {
     "name": "stdout",
     "output_type": "stream",
     "text": [
      "Loss1: 0.5896, Loss2: 0.2441, Loss3: 0.7800\n"
     ]
    },
    {
     "name": "stderr",
     "output_type": "stream",
     "text": [
      "Test_Loader: 100%|██████████| 288/288 [00:27<00:00, 10.41it/s]\n"
     ]
    },
    {
     "name": "stdout",
     "output_type": "stream",
     "text": [
      "Loss1: 0.5802, Loss2: 0.2410, Loss3: 0.7766\n"
     ]
    },
    {
     "name": "stderr",
     "output_type": "stream",
     "text": [
      "Test_Loader: 100%|██████████| 288/288 [00:28<00:00, 10.24it/s]\n"
     ]
    },
    {
     "name": "stdout",
     "output_type": "stream",
     "text": [
      "Loss1: 0.5798, Loss2: 0.2421, Loss3: 0.7726\n"
     ]
    },
    {
     "name": "stderr",
     "output_type": "stream",
     "text": [
      "Test_Loader: 100%|██████████| 288/288 [00:27<00:00, 10.37it/s]\n"
     ]
    },
    {
     "name": "stdout",
     "output_type": "stream",
     "text": [
      "Loss1: 0.5764, Loss2: 0.2402, Loss3: 0.7695\n"
     ]
    },
    {
     "name": "stderr",
     "output_type": "stream",
     "text": [
      "Test_Loader: 100%|██████████| 288/288 [00:26<00:00, 10.84it/s]\n"
     ]
    },
    {
     "name": "stdout",
     "output_type": "stream",
     "text": [
      "Loss1: 0.5789, Loss2: 0.2428, Loss3: 0.7792\n"
     ]
    },
    {
     "name": "stderr",
     "output_type": "stream",
     "text": [
      "Test_Loader: 100%|██████████| 288/288 [00:26<00:00, 10.68it/s]\n"
     ]
    },
    {
     "name": "stdout",
     "output_type": "stream",
     "text": [
      "Loss1: 0.5627, Loss2: 0.2372, Loss3: 0.7480\n"
     ]
    },
    {
     "name": "stderr",
     "output_type": "stream",
     "text": [
      "Test_Loader: 100%|██████████| 288/288 [00:27<00:00, 10.31it/s]\n"
     ]
    },
    {
     "name": "stdout",
     "output_type": "stream",
     "text": [
      "Loss1: 0.5597, Loss2: 0.2387, Loss3: 0.7429\n"
     ]
    },
    {
     "name": "stderr",
     "output_type": "stream",
     "text": [
      "Test_Loader: 100%|██████████| 288/288 [00:27<00:00, 10.63it/s]\n"
     ]
    },
    {
     "name": "stdout",
     "output_type": "stream",
     "text": [
      "Loss1: 0.5548, Loss2: 0.2360, Loss3: 0.7398\n"
     ]
    },
    {
     "name": "stderr",
     "output_type": "stream",
     "text": [
      "Test_Loader: 100%|██████████| 288/288 [00:26<00:00, 10.82it/s]\n"
     ]
    },
    {
     "name": "stdout",
     "output_type": "stream",
     "text": [
      "Loss1: 0.5620, Loss2: 0.2258, Loss3: 0.7494\n"
     ]
    },
    {
     "name": "stderr",
     "output_type": "stream",
     "text": [
      "Test_Loader: 100%|██████████| 288/288 [00:27<00:00, 10.58it/s]\n"
     ]
    },
    {
     "name": "stdout",
     "output_type": "stream",
     "text": [
      "Loss1: 0.5563, Loss2: 0.2242, Loss3: 0.7514\n"
     ]
    },
    {
     "name": "stderr",
     "output_type": "stream",
     "text": [
      "Test_Loader: 100%|██████████| 288/288 [00:27<00:00, 10.61it/s]\n"
     ]
    },
    {
     "name": "stdout",
     "output_type": "stream",
     "text": [
      "Loss1: 0.5490, Loss2: 0.2230, Loss3: 0.7292\n"
     ]
    },
    {
     "name": "stderr",
     "output_type": "stream",
     "text": [
      "Test_Loader: 100%|██████████| 288/288 [00:27<00:00, 10.49it/s]\n"
     ]
    },
    {
     "name": "stdout",
     "output_type": "stream",
     "text": [
      "Loss1: 0.5421, Loss2: 0.2205, Loss3: 0.7184\n"
     ]
    },
    {
     "name": "stderr",
     "output_type": "stream",
     "text": [
      "Test_Loader: 100%|██████████| 288/288 [00:28<00:00, 10.29it/s]\n"
     ]
    },
    {
     "name": "stdout",
     "output_type": "stream",
     "text": [
      "Loss1: 0.5297, Loss2: 0.2180, Loss3: 0.7139\n"
     ]
    },
    {
     "name": "stderr",
     "output_type": "stream",
     "text": [
      "Test_Loader: 100%|██████████| 288/288 [00:28<00:00, 10.08it/s]\n"
     ]
    },
    {
     "name": "stdout",
     "output_type": "stream",
     "text": [
      "Loss1: 0.5365, Loss2: 0.2199, Loss3: 0.7262\n"
     ]
    },
    {
     "name": "stderr",
     "output_type": "stream",
     "text": [
      "Test_Loader: 100%|██████████| 288/288 [00:28<00:00, 10.27it/s]\n"
     ]
    },
    {
     "name": "stdout",
     "output_type": "stream",
     "text": [
      "Loss1: 0.5351, Loss2: 0.2181, Loss3: 0.7170\n"
     ]
    },
    {
     "name": "stderr",
     "output_type": "stream",
     "text": [
      "Test_Loader: 100%|██████████| 288/288 [00:28<00:00, 10.19it/s]\n"
     ]
    },
    {
     "name": "stdout",
     "output_type": "stream",
     "text": [
      "Loss1: 0.5261, Loss2: 0.2197, Loss3: 0.7032\n"
     ]
    },
    {
     "name": "stderr",
     "output_type": "stream",
     "text": [
      "Test_Loader: 100%|██████████| 288/288 [00:27<00:00, 10.37it/s]\n"
     ]
    },
    {
     "name": "stdout",
     "output_type": "stream",
     "text": [
      "Loss1: 0.5257, Loss2: 0.2157, Loss3: 0.7007\n"
     ]
    },
    {
     "name": "stderr",
     "output_type": "stream",
     "text": [
      "Test_Loader: 100%|██████████| 288/288 [00:26<00:00, 10.74it/s]\n"
     ]
    },
    {
     "name": "stdout",
     "output_type": "stream",
     "text": [
      "Loss1: 0.5125, Loss2: 0.2149, Loss3: 0.6928\n"
     ]
    },
    {
     "name": "stderr",
     "output_type": "stream",
     "text": [
      "Test_Loader: 100%|██████████| 288/288 [00:26<00:00, 10.74it/s]\n"
     ]
    },
    {
     "name": "stdout",
     "output_type": "stream",
     "text": [
      "Loss1: 0.5086, Loss2: 0.2118, Loss3: 0.6947\n"
     ]
    },
    {
     "name": "stderr",
     "output_type": "stream",
     "text": [
      "Test_Loader: 100%|██████████| 288/288 [00:28<00:00,  9.98it/s]\n"
     ]
    },
    {
     "name": "stdout",
     "output_type": "stream",
     "text": [
      "Loss1: 0.5035, Loss2: 0.2113, Loss3: 0.6849\n"
     ]
    },
    {
     "name": "stderr",
     "output_type": "stream",
     "text": [
      "Test_Loader: 100%|██████████| 288/288 [00:28<00:00, 10.25it/s]\n"
     ]
    },
    {
     "name": "stdout",
     "output_type": "stream",
     "text": [
      "Loss1: 0.4900, Loss2: 0.2104, Loss3: 0.6637\n"
     ]
    },
    {
     "name": "stderr",
     "output_type": "stream",
     "text": [
      "Test_Loader: 100%|██████████| 288/288 [00:26<00:00, 10.73it/s]\n"
     ]
    },
    {
     "name": "stdout",
     "output_type": "stream",
     "text": [
      "Loss1: 0.4936, Loss2: 0.2124, Loss3: 0.6631\n"
     ]
    },
    {
     "name": "stderr",
     "output_type": "stream",
     "text": [
      "Test_Loader: 100%|██████████| 288/288 [00:26<00:00, 10.71it/s]\n"
     ]
    },
    {
     "name": "stdout",
     "output_type": "stream",
     "text": [
      "Loss1: 0.4930, Loss2: 0.2114, Loss3: 0.6687\n"
     ]
    },
    {
     "name": "stderr",
     "output_type": "stream",
     "text": [
      "Test_Loader: 100%|██████████| 288/288 [00:27<00:00, 10.49it/s]\n"
     ]
    },
    {
     "name": "stdout",
     "output_type": "stream",
     "text": [
      "Loss1: 0.6140, Loss2: 0.2361, Loss3: 0.7643\n"
     ]
    },
    {
     "name": "stderr",
     "output_type": "stream",
     "text": [
      "Test_Loader: 100%|██████████| 288/288 [00:27<00:00, 10.47it/s]\n"
     ]
    },
    {
     "name": "stdout",
     "output_type": "stream",
     "text": [
      "Loss1: 0.6074, Loss2: 0.2369, Loss3: 0.7567\n"
     ]
    },
    {
     "name": "stderr",
     "output_type": "stream",
     "text": [
      "Test_Loader: 100%|██████████| 288/288 [00:27<00:00, 10.51it/s]\n"
     ]
    },
    {
     "name": "stdout",
     "output_type": "stream",
     "text": [
      "Loss1: 0.6131, Loss2: 0.2339, Loss3: 0.7483\n"
     ]
    },
    {
     "name": "stderr",
     "output_type": "stream",
     "text": [
      "Test_Loader: 100%|██████████| 288/288 [00:27<00:00, 10.41it/s]\n"
     ]
    },
    {
     "name": "stdout",
     "output_type": "stream",
     "text": [
      "Loss1: 0.6019, Loss2: 0.2362, Loss3: 0.7376\n"
     ]
    },
    {
     "name": "stderr",
     "output_type": "stream",
     "text": [
      "Test_Loader: 100%|██████████| 288/288 [00:27<00:00, 10.35it/s]\n"
     ]
    },
    {
     "name": "stdout",
     "output_type": "stream",
     "text": [
      "Loss1: 0.5865, Loss2: 0.2127, Loss3: 0.6951\n"
     ]
    },
    {
     "name": "stderr",
     "output_type": "stream",
     "text": [
      "Test_Loader: 100%|██████████| 288/288 [00:27<00:00, 10.37it/s]\n"
     ]
    },
    {
     "name": "stdout",
     "output_type": "stream",
     "text": [
      "Loss1: 0.5783, Loss2: 0.2140, Loss3: 0.6825\n"
     ]
    },
    {
     "name": "stderr",
     "output_type": "stream",
     "text": [
      "Test_Loader: 100%|██████████| 288/288 [00:27<00:00, 10.49it/s]\n"
     ]
    },
    {
     "name": "stdout",
     "output_type": "stream",
     "text": [
      "Loss1: 0.5868, Loss2: 0.2131, Loss3: 0.6719\n"
     ]
    },
    {
     "name": "stderr",
     "output_type": "stream",
     "text": [
      "Test_Loader: 100%|██████████| 288/288 [00:26<00:00, 10.88it/s]\n"
     ]
    },
    {
     "name": "stdout",
     "output_type": "stream",
     "text": [
      "Loss1: 0.5770, Loss2: 0.2115, Loss3: 0.6820\n"
     ]
    },
    {
     "name": "stderr",
     "output_type": "stream",
     "text": [
      "Test_Loader: 100%|██████████| 288/288 [00:27<00:00, 10.55it/s]\n"
     ]
    },
    {
     "name": "stdout",
     "output_type": "stream",
     "text": [
      "Loss1: 0.5937, Loss2: 0.2193, Loss3: 0.6976\n"
     ]
    },
    {
     "name": "stderr",
     "output_type": "stream",
     "text": [
      "Test_Loader: 100%|██████████| 288/288 [00:28<00:00,  9.96it/s]\n"
     ]
    },
    {
     "name": "stdout",
     "output_type": "stream",
     "text": [
      "Loss1: 0.5822, Loss2: 0.2137, Loss3: 0.6833\n"
     ]
    },
    {
     "name": "stderr",
     "output_type": "stream",
     "text": [
      "Test_Loader: 100%|██████████| 288/288 [00:28<00:00, 10.23it/s]\n"
     ]
    },
    {
     "name": "stdout",
     "output_type": "stream",
     "text": [
      "Loss1: 0.5742, Loss2: 0.2079, Loss3: 0.6772\n"
     ]
    },
    {
     "name": "stderr",
     "output_type": "stream",
     "text": [
      "Test_Loader: 100%|██████████| 288/288 [00:27<00:00, 10.60it/s]\n"
     ]
    },
    {
     "name": "stdout",
     "output_type": "stream",
     "text": [
      "Loss1: 0.5748, Loss2: 0.2077, Loss3: 0.6784\n"
     ]
    },
    {
     "name": "stderr",
     "output_type": "stream",
     "text": [
      "Test_Loader: 100%|██████████| 288/288 [00:27<00:00, 10.40it/s]\n"
     ]
    },
    {
     "name": "stdout",
     "output_type": "stream",
     "text": [
      "Loss1: 0.5749, Loss2: 0.2071, Loss3: 0.6732\n"
     ]
    },
    {
     "name": "stderr",
     "output_type": "stream",
     "text": [
      "Test_Loader: 100%|██████████| 288/288 [00:27<00:00, 10.44it/s]\n"
     ]
    },
    {
     "name": "stdout",
     "output_type": "stream",
     "text": [
      "Loss1: 0.5759, Loss2: 0.2069, Loss3: 0.6831\n"
     ]
    },
    {
     "name": "stderr",
     "output_type": "stream",
     "text": [
      "Test_Loader: 100%|██████████| 288/288 [00:27<00:00, 10.31it/s]\n"
     ]
    },
    {
     "name": "stdout",
     "output_type": "stream",
     "text": [
      "Loss1: 0.5663, Loss2: 0.2052, Loss3: 0.6769\n"
     ]
    },
    {
     "name": "stderr",
     "output_type": "stream",
     "text": [
      "Test_Loader: 100%|██████████| 288/288 [00:27<00:00, 10.31it/s]\n"
     ]
    },
    {
     "name": "stdout",
     "output_type": "stream",
     "text": [
      "Loss1: 0.5588, Loss2: 0.2028, Loss3: 0.6671\n"
     ]
    },
    {
     "name": "stderr",
     "output_type": "stream",
     "text": [
      "Test_Loader: 100%|██████████| 288/288 [00:28<00:00, 10.26it/s]\n"
     ]
    },
    {
     "name": "stdout",
     "output_type": "stream",
     "text": [
      "Loss1: 0.5528, Loss2: 0.2038, Loss3: 0.6626\n"
     ]
    },
    {
     "name": "stderr",
     "output_type": "stream",
     "text": [
      "Test_Loader: 100%|██████████| 288/288 [00:28<00:00, 10.21it/s]\n"
     ]
    },
    {
     "name": "stdout",
     "output_type": "stream",
     "text": [
      "Loss1: 0.5507, Loss2: 0.2001, Loss3: 0.6660\n"
     ]
    },
    {
     "name": "stderr",
     "output_type": "stream",
     "text": [
      "Test_Loader: 100%|██████████| 288/288 [00:28<00:00, 10.21it/s]\n"
     ]
    },
    {
     "name": "stdout",
     "output_type": "stream",
     "text": [
      "Loss1: 0.5489, Loss2: 0.2006, Loss3: 0.6590\n"
     ]
    },
    {
     "name": "stderr",
     "output_type": "stream",
     "text": [
      "Test_Loader: 100%|██████████| 288/288 [00:27<00:00, 10.34it/s]\n"
     ]
    },
    {
     "name": "stdout",
     "output_type": "stream",
     "text": [
      "Loss1: 0.5400, Loss2: 0.1965, Loss3: 0.6417\n"
     ]
    },
    {
     "name": "stderr",
     "output_type": "stream",
     "text": [
      "Test_Loader: 100%|██████████| 288/288 [00:26<00:00, 10.71it/s]\n"
     ]
    },
    {
     "name": "stdout",
     "output_type": "stream",
     "text": [
      "Loss1: 0.5406, Loss2: 0.1977, Loss3: 0.6325\n"
     ]
    },
    {
     "name": "stderr",
     "output_type": "stream",
     "text": [
      "Test_Loader: 100%|██████████| 288/288 [00:27<00:00, 10.42it/s]\n"
     ]
    },
    {
     "name": "stdout",
     "output_type": "stream",
     "text": [
      "Loss1: 0.5400, Loss2: 0.1964, Loss3: 0.6470\n"
     ]
    },
    {
     "name": "stderr",
     "output_type": "stream",
     "text": [
      "Test_Loader: 100%|██████████| 288/288 [00:27<00:00, 10.33it/s]\n"
     ]
    },
    {
     "name": "stdout",
     "output_type": "stream",
     "text": [
      "Loss1: 0.5417, Loss2: 0.1952, Loss3: 0.6326\n"
     ]
    },
    {
     "name": "stderr",
     "output_type": "stream",
     "text": [
      "Test_Loader: 100%|██████████| 288/288 [00:27<00:00, 10.29it/s]\n"
     ]
    },
    {
     "name": "stdout",
     "output_type": "stream",
     "text": [
      "Loss1: 0.5387, Loss2: 0.1941, Loss3: 0.6295\n"
     ]
    },
    {
     "name": "stderr",
     "output_type": "stream",
     "text": [
      "Test_Loader: 100%|██████████| 288/288 [00:26<00:00, 10.89it/s]\n"
     ]
    },
    {
     "name": "stdout",
     "output_type": "stream",
     "text": [
      "Loss1: 0.5347, Loss2: 0.1932, Loss3: 0.6258\n"
     ]
    },
    {
     "name": "stderr",
     "output_type": "stream",
     "text": [
      "Test_Loader: 100%|██████████| 288/288 [00:27<00:00, 10.59it/s]\n"
     ]
    },
    {
     "name": "stdout",
     "output_type": "stream",
     "text": [
      "Loss1: 0.5345, Loss2: 0.1944, Loss3: 0.6131\n"
     ]
    },
    {
     "name": "stderr",
     "output_type": "stream",
     "text": [
      "Test_Loader: 100%|██████████| 288/288 [00:26<00:00, 10.80it/s]\n"
     ]
    },
    {
     "name": "stdout",
     "output_type": "stream",
     "text": [
      "Loss1: 0.5338, Loss2: 0.1946, Loss3: 0.6231\n"
     ]
    },
    {
     "name": "stderr",
     "output_type": "stream",
     "text": [
      "Test_Loader: 100%|██████████| 288/288 [00:26<00:00, 10.83it/s]\n"
     ]
    },
    {
     "name": "stdout",
     "output_type": "stream",
     "text": [
      "Loss1: 0.5250, Loss2: 0.1915, Loss3: 0.6128\n"
     ]
    },
    {
     "name": "stderr",
     "output_type": "stream",
     "text": [
      "Test_Loader: 100%|██████████| 288/288 [00:27<00:00, 10.59it/s]\n"
     ]
    },
    {
     "name": "stdout",
     "output_type": "stream",
     "text": [
      "Loss1: 0.5253, Loss2: 0.1908, Loss3: 0.6048\n"
     ]
    },
    {
     "name": "stderr",
     "output_type": "stream",
     "text": [
      "Test_Loader: 100%|██████████| 288/288 [00:28<00:00, 10.24it/s]\n"
     ]
    },
    {
     "name": "stdout",
     "output_type": "stream",
     "text": [
      "Loss1: 0.5152, Loss2: 0.1898, Loss3: 0.5983\n"
     ]
    },
    {
     "name": "stderr",
     "output_type": "stream",
     "text": [
      "Test_Loader: 100%|██████████| 288/288 [00:27<00:00, 10.34it/s]\n"
     ]
    },
    {
     "name": "stdout",
     "output_type": "stream",
     "text": [
      "Loss1: 0.5186, Loss2: 0.1877, Loss3: 0.5931\n"
     ]
    },
    {
     "name": "stderr",
     "output_type": "stream",
     "text": [
      "Test_Loader: 100%|██████████| 288/288 [00:28<00:00, 10.23it/s]\n"
     ]
    },
    {
     "name": "stdout",
     "output_type": "stream",
     "text": [
      "Loss1: 0.5114, Loss2: 0.1866, Loss3: 0.5926\n"
     ]
    },
    {
     "name": "stderr",
     "output_type": "stream",
     "text": [
      "Test_Loader: 100%|██████████| 288/288 [00:27<00:00, 10.33it/s]\n"
     ]
    },
    {
     "name": "stdout",
     "output_type": "stream",
     "text": [
      "Loss1: 0.5056, Loss2: 0.1871, Loss3: 0.5932\n"
     ]
    },
    {
     "name": "stderr",
     "output_type": "stream",
     "text": [
      "Test_Loader: 100%|██████████| 288/288 [00:26<00:00, 10.89it/s]\n"
     ]
    },
    {
     "name": "stdout",
     "output_type": "stream",
     "text": [
      "Loss1: 0.5107, Loss2: 0.1847, Loss3: 0.5891\n"
     ]
    },
    {
     "name": "stderr",
     "output_type": "stream",
     "text": [
      "Test_Loader: 100%|██████████| 288/288 [00:26<00:00, 10.68it/s]\n"
     ]
    },
    {
     "name": "stdout",
     "output_type": "stream",
     "text": [
      "Loss1: 0.5524, Loss2: 0.2012, Loss3: 0.6353\n"
     ]
    },
    {
     "name": "stderr",
     "output_type": "stream",
     "text": [
      "Test_Loader: 100%|██████████| 288/288 [00:27<00:00, 10.66it/s]\n"
     ]
    },
    {
     "name": "stdout",
     "output_type": "stream",
     "text": [
      "Loss1: 0.5520, Loss2: 0.1995, Loss3: 0.6328\n"
     ]
    },
    {
     "name": "stderr",
     "output_type": "stream",
     "text": [
      "Test_Loader: 100%|██████████| 288/288 [00:28<00:00, 10.23it/s]\n"
     ]
    },
    {
     "name": "stdout",
     "output_type": "stream",
     "text": [
      "Loss1: 0.5536, Loss2: 0.2006, Loss3: 0.6334\n"
     ]
    },
    {
     "name": "stderr",
     "output_type": "stream",
     "text": [
      "Test_Loader: 100%|██████████| 288/288 [00:26<00:00, 10.81it/s]\n"
     ]
    },
    {
     "name": "stdout",
     "output_type": "stream",
     "text": [
      "Loss1: 0.5517, Loss2: 0.1990, Loss3: 0.6336\n"
     ]
    },
    {
     "name": "stderr",
     "output_type": "stream",
     "text": [
      "Test_Loader: 100%|██████████| 288/288 [00:27<00:00, 10.63it/s]\n"
     ]
    },
    {
     "name": "stdout",
     "output_type": "stream",
     "text": [
      "Loss1: 0.6853, Loss2: 0.2015, Loss3: 0.6933\n"
     ]
    },
    {
     "name": "stderr",
     "output_type": "stream",
     "text": [
      "Test_Loader: 100%|██████████| 288/288 [00:27<00:00, 10.55it/s]\n"
     ]
    },
    {
     "name": "stdout",
     "output_type": "stream",
     "text": [
      "Loss1: 0.6529, Loss2: 0.1964, Loss3: 0.6780\n"
     ]
    },
    {
     "name": "stderr",
     "output_type": "stream",
     "text": [
      "Test_Loader: 100%|██████████| 288/288 [00:27<00:00, 10.55it/s]\n"
     ]
    },
    {
     "name": "stdout",
     "output_type": "stream",
     "text": [
      "Loss1: 0.6491, Loss2: 0.1982, Loss3: 0.6746\n"
     ]
    },
    {
     "name": "stderr",
     "output_type": "stream",
     "text": [
      "Test_Loader: 100%|██████████| 288/288 [00:27<00:00, 10.44it/s]\n"
     ]
    },
    {
     "name": "stdout",
     "output_type": "stream",
     "text": [
      "Loss1: 0.6347, Loss2: 0.1965, Loss3: 0.6670\n"
     ]
    },
    {
     "name": "stderr",
     "output_type": "stream",
     "text": [
      "Test_Loader: 100%|██████████| 288/288 [00:27<00:00, 10.49it/s]\n"
     ]
    },
    {
     "name": "stdout",
     "output_type": "stream",
     "text": [
      "Loss1: 0.6200, Loss2: 0.1950, Loss3: 0.6631\n"
     ]
    },
    {
     "name": "stderr",
     "output_type": "stream",
     "text": [
      "Test_Loader: 100%|██████████| 288/288 [00:27<00:00, 10.54it/s]\n"
     ]
    },
    {
     "name": "stdout",
     "output_type": "stream",
     "text": [
      "Loss1: 0.6204, Loss2: 0.1952, Loss3: 0.6710\n"
     ]
    },
    {
     "name": "stderr",
     "output_type": "stream",
     "text": [
      "Test_Loader: 100%|██████████| 288/288 [00:27<00:00, 10.54it/s]\n"
     ]
    },
    {
     "name": "stdout",
     "output_type": "stream",
     "text": [
      "Loss1: 0.6068, Loss2: 0.1931, Loss3: 0.6696\n"
     ]
    },
    {
     "name": "stderr",
     "output_type": "stream",
     "text": [
      "Test_Loader: 100%|██████████| 288/288 [00:27<00:00, 10.46it/s]\n"
     ]
    },
    {
     "name": "stdout",
     "output_type": "stream",
     "text": [
      "Loss1: 0.5894, Loss2: 0.1823, Loss3: 0.6487\n"
     ]
    },
    {
     "name": "stderr",
     "output_type": "stream",
     "text": [
      "Test_Loader: 100%|██████████| 288/288 [00:26<00:00, 10.76it/s]\n"
     ]
    },
    {
     "name": "stdout",
     "output_type": "stream",
     "text": [
      "Loss1: 0.5858, Loss2: 0.1826, Loss3: 0.6478\n"
     ]
    },
    {
     "name": "stderr",
     "output_type": "stream",
     "text": [
      "Test_Loader: 100%|██████████| 288/288 [00:27<00:00, 10.57it/s]\n"
     ]
    },
    {
     "name": "stdout",
     "output_type": "stream",
     "text": [
      "Loss1: 0.5808, Loss2: 0.1809, Loss3: 0.6496\n"
     ]
    },
    {
     "name": "stderr",
     "output_type": "stream",
     "text": [
      "Test_Loader: 100%|██████████| 288/288 [00:27<00:00, 10.38it/s]\n"
     ]
    },
    {
     "name": "stdout",
     "output_type": "stream",
     "text": [
      "Loss1: 0.5707, Loss2: 0.1778, Loss3: 0.6334\n"
     ]
    },
    {
     "name": "stderr",
     "output_type": "stream",
     "text": [
      "Test_Loader: 100%|██████████| 288/288 [00:28<00:00, 10.15it/s]\n"
     ]
    },
    {
     "name": "stdout",
     "output_type": "stream",
     "text": [
      "Loss1: 0.5697, Loss2: 0.1732, Loss3: 0.6273\n"
     ]
    },
    {
     "name": "stderr",
     "output_type": "stream",
     "text": [
      "Test_Loader: 100%|██████████| 288/288 [00:27<00:00, 10.43it/s]\n"
     ]
    },
    {
     "name": "stdout",
     "output_type": "stream",
     "text": [
      "Loss1: 0.5632, Loss2: 0.1718, Loss3: 0.6241\n"
     ]
    },
    {
     "name": "stderr",
     "output_type": "stream",
     "text": [
      "Test_Loader: 100%|██████████| 288/288 [00:27<00:00, 10.56it/s]\n"
     ]
    },
    {
     "name": "stdout",
     "output_type": "stream",
     "text": [
      "Loss1: 0.5553, Loss2: 0.1692, Loss3: 0.6137\n"
     ]
    },
    {
     "name": "stderr",
     "output_type": "stream",
     "text": [
      "Test_Loader: 100%|██████████| 288/288 [00:27<00:00, 10.52it/s]\n"
     ]
    },
    {
     "name": "stdout",
     "output_type": "stream",
     "text": [
      "Loss1: 0.5538, Loss2: 0.1687, Loss3: 0.6158\n"
     ]
    },
    {
     "name": "stderr",
     "output_type": "stream",
     "text": [
      "Test_Loader: 100%|██████████| 288/288 [00:27<00:00, 10.51it/s]\n"
     ]
    },
    {
     "name": "stdout",
     "output_type": "stream",
     "text": [
      "Loss1: 0.5444, Loss2: 0.1675, Loss3: 0.6202\n"
     ]
    },
    {
     "name": "stderr",
     "output_type": "stream",
     "text": [
      "Test_Loader: 100%|██████████| 288/288 [00:27<00:00, 10.50it/s]\n"
     ]
    },
    {
     "name": "stdout",
     "output_type": "stream",
     "text": [
      "Loss1: 0.5277, Loss2: 0.1595, Loss3: 0.6050\n"
     ]
    },
    {
     "name": "stderr",
     "output_type": "stream",
     "text": [
      "Test_Loader: 100%|██████████| 288/288 [00:27<00:00, 10.63it/s]\n"
     ]
    },
    {
     "name": "stdout",
     "output_type": "stream",
     "text": [
      "Loss1: 0.5286, Loss2: 0.1585, Loss3: 0.6032\n"
     ]
    },
    {
     "name": "stderr",
     "output_type": "stream",
     "text": [
      "Test_Loader: 100%|██████████| 288/288 [00:27<00:00, 10.37it/s]\n"
     ]
    },
    {
     "name": "stdout",
     "output_type": "stream",
     "text": [
      "Loss1: 1.5263, Loss2: 1.2806, Loss3: 7.0632\n"
     ]
    },
    {
     "name": "stderr",
     "output_type": "stream",
     "text": [
      "Test_Loader: 100%|██████████| 288/288 [00:27<00:00, 10.35it/s]\n"
     ]
    },
    {
     "name": "stdout",
     "output_type": "stream",
     "text": [
      "Loss1: 1.2362, Loss2: 1.1530, Loss3: 5.2339\n"
     ]
    },
    {
     "name": "stderr",
     "output_type": "stream",
     "text": [
      "Test_Loader: 100%|██████████| 288/288 [00:27<00:00, 10.33it/s]\n"
     ]
    },
    {
     "name": "stdout",
     "output_type": "stream",
     "text": [
      "Loss1: 1.2784, Loss2: 1.0739, Loss3: 4.4888\n"
     ]
    },
    {
     "name": "stderr",
     "output_type": "stream",
     "text": [
      "Test_Loader: 100%|██████████| 288/288 [00:27<00:00, 10.54it/s]\n"
     ]
    },
    {
     "name": "stdout",
     "output_type": "stream",
     "text": [
      "Loss1: 1.1216, Loss2: 0.9638, Loss3: 3.4703\n"
     ]
    },
    {
     "name": "stderr",
     "output_type": "stream",
     "text": [
      "Test_Loader: 100%|██████████| 288/288 [00:26<00:00, 11.01it/s]\n"
     ]
    },
    {
     "name": "stdout",
     "output_type": "stream",
     "text": [
      "Loss1: 1.0146, Loss2: 0.8515, Loss3: 2.7523\n"
     ]
    },
    {
     "name": "stderr",
     "output_type": "stream",
     "text": [
      "Test_Loader: 100%|██████████| 288/288 [00:27<00:00, 10.64it/s]\n"
     ]
    },
    {
     "name": "stdout",
     "output_type": "stream",
     "text": [
      "Loss1: 0.9971, Loss2: 0.7772, Loss3: 2.6206\n"
     ]
    },
    {
     "name": "stderr",
     "output_type": "stream",
     "text": [
      "Test_Loader: 100%|██████████| 288/288 [00:27<00:00, 10.39it/s]\n"
     ]
    },
    {
     "name": "stdout",
     "output_type": "stream",
     "text": [
      "Loss1: 0.9706, Loss2: 0.6615, Loss3: 2.3852\n"
     ]
    },
    {
     "name": "stderr",
     "output_type": "stream",
     "text": [
      "Test_Loader: 100%|██████████| 288/288 [00:27<00:00, 10.50it/s]\n"
     ]
    },
    {
     "name": "stdout",
     "output_type": "stream",
     "text": [
      "Loss1: 0.9615, Loss2: 0.5724, Loss3: 2.1598\n"
     ]
    },
    {
     "name": "stderr",
     "output_type": "stream",
     "text": [
      "Test_Loader: 100%|██████████| 288/288 [00:27<00:00, 10.60it/s]\n"
     ]
    },
    {
     "name": "stdout",
     "output_type": "stream",
     "text": [
      "Loss1: 0.9686, Loss2: 0.5117, Loss3: 2.1268\n"
     ]
    },
    {
     "name": "stderr",
     "output_type": "stream",
     "text": [
      "Test_Loader: 100%|██████████| 288/288 [00:27<00:00, 10.56it/s]\n"
     ]
    },
    {
     "name": "stdout",
     "output_type": "stream",
     "text": [
      "Loss1: 0.9687, Loss2: 0.4658, Loss3: 2.1126\n"
     ]
    },
    {
     "name": "stderr",
     "output_type": "stream",
     "text": [
      "Test_Loader: 100%|██████████| 288/288 [00:26<00:00, 10.81it/s]\n"
     ]
    },
    {
     "name": "stdout",
     "output_type": "stream",
     "text": [
      "Loss1: 0.9384, Loss2: 0.4213, Loss3: 2.0004\n"
     ]
    },
    {
     "name": "stderr",
     "output_type": "stream",
     "text": [
      "Test_Loader: 100%|██████████| 288/288 [00:26<00:00, 10.90it/s]\n"
     ]
    },
    {
     "name": "stdout",
     "output_type": "stream",
     "text": [
      "Loss1: 0.9338, Loss2: 0.3938, Loss3: 2.0994\n"
     ]
    },
    {
     "name": "stderr",
     "output_type": "stream",
     "text": [
      "Test_Loader: 100%|██████████| 288/288 [00:26<00:00, 10.89it/s]\n"
     ]
    },
    {
     "name": "stdout",
     "output_type": "stream",
     "text": [
      "Loss1: 0.9118, Loss2: 0.3700, Loss3: 2.0240\n"
     ]
    },
    {
     "name": "stderr",
     "output_type": "stream",
     "text": [
      "Test_Loader: 100%|██████████| 288/288 [00:26<00:00, 10.89it/s]\n"
     ]
    },
    {
     "name": "stdout",
     "output_type": "stream",
     "text": [
      "Loss1: 0.8849, Loss2: 0.3454, Loss3: 1.9175\n"
     ]
    },
    {
     "name": "stderr",
     "output_type": "stream",
     "text": [
      "Test_Loader: 100%|██████████| 288/288 [00:26<00:00, 10.81it/s]\n"
     ]
    },
    {
     "name": "stdout",
     "output_type": "stream",
     "text": [
      "Loss1: 0.8813, Loss2: 0.3338, Loss3: 1.8895\n"
     ]
    },
    {
     "name": "stderr",
     "output_type": "stream",
     "text": [
      "Test_Loader: 100%|██████████| 288/288 [00:26<00:00, 10.88it/s]\n"
     ]
    },
    {
     "name": "stdout",
     "output_type": "stream",
     "text": [
      "Loss1: 0.8740, Loss2: 0.3232, Loss3: 1.7904\n"
     ]
    },
    {
     "name": "stderr",
     "output_type": "stream",
     "text": [
      "Test_Loader: 100%|██████████| 288/288 [00:26<00:00, 10.85it/s]\n"
     ]
    },
    {
     "name": "stdout",
     "output_type": "stream",
     "text": [
      "Loss1: 0.8614, Loss2: 0.3104, Loss3: 1.7156\n"
     ]
    },
    {
     "name": "stderr",
     "output_type": "stream",
     "text": [
      "Test_Loader: 100%|██████████| 288/288 [00:26<00:00, 10.72it/s]\n"
     ]
    },
    {
     "name": "stdout",
     "output_type": "stream",
     "text": [
      "Loss1: 0.8460, Loss2: 0.2947, Loss3: 1.6468\n"
     ]
    },
    {
     "name": "stderr",
     "output_type": "stream",
     "text": [
      "Test_Loader: 100%|██████████| 288/288 [00:27<00:00, 10.51it/s]\n"
     ]
    },
    {
     "name": "stdout",
     "output_type": "stream",
     "text": [
      "Loss1: 0.8318, Loss2: 0.2891, Loss3: 1.6327\n"
     ]
    },
    {
     "name": "stderr",
     "output_type": "stream",
     "text": [
      "Test_Loader: 100%|██████████| 288/288 [00:27<00:00, 10.52it/s]\n"
     ]
    },
    {
     "name": "stdout",
     "output_type": "stream",
     "text": [
      "Loss1: 0.8205, Loss2: 0.2832, Loss3: 1.5561\n"
     ]
    },
    {
     "name": "stderr",
     "output_type": "stream",
     "text": [
      "Test_Loader: 100%|██████████| 288/288 [00:28<00:00,  9.94it/s]\n"
     ]
    },
    {
     "name": "stdout",
     "output_type": "stream",
     "text": [
      "Loss1: 0.8178, Loss2: 0.2752, Loss3: 1.5193\n"
     ]
    },
    {
     "name": "stderr",
     "output_type": "stream",
     "text": [
      "Test_Loader: 100%|██████████| 288/288 [00:27<00:00, 10.54it/s]\n"
     ]
    },
    {
     "name": "stdout",
     "output_type": "stream",
     "text": [
      "Loss1: 0.8109, Loss2: 0.2672, Loss3: 1.4619\n"
     ]
    },
    {
     "name": "stderr",
     "output_type": "stream",
     "text": [
      "Test_Loader: 100%|██████████| 288/288 [00:27<00:00, 10.49it/s]\n"
     ]
    },
    {
     "name": "stdout",
     "output_type": "stream",
     "text": [
      "Loss1: 0.7946, Loss2: 0.2648, Loss3: 1.4251\n"
     ]
    },
    {
     "name": "stderr",
     "output_type": "stream",
     "text": [
      "Test_Loader: 100%|██████████| 288/288 [00:27<00:00, 10.58it/s]\n"
     ]
    },
    {
     "name": "stdout",
     "output_type": "stream",
     "text": [
      "Loss1: 0.7974, Loss2: 0.2668, Loss3: 1.3840\n"
     ]
    },
    {
     "name": "stderr",
     "output_type": "stream",
     "text": [
      "Test_Loader: 100%|██████████| 288/288 [00:27<00:00, 10.32it/s]\n"
     ]
    },
    {
     "name": "stdout",
     "output_type": "stream",
     "text": [
      "Loss1: 0.7910, Loss2: 0.2609, Loss3: 1.3670\n"
     ]
    },
    {
     "name": "stderr",
     "output_type": "stream",
     "text": [
      "Test_Loader: 100%|██████████| 288/288 [00:28<00:00, 10.16it/s]\n"
     ]
    },
    {
     "name": "stdout",
     "output_type": "stream",
     "text": [
      "Loss1: 0.8048, Loss2: 0.2662, Loss3: 1.3344\n"
     ]
    },
    {
     "name": "stderr",
     "output_type": "stream",
     "text": [
      "Test_Loader: 100%|██████████| 288/288 [00:28<00:00, 10.14it/s]\n"
     ]
    },
    {
     "name": "stdout",
     "output_type": "stream",
     "text": [
      "Loss1: 0.7895, Loss2: 0.2568, Loss3: 1.3028\n"
     ]
    },
    {
     "name": "stderr",
     "output_type": "stream",
     "text": [
      "Test_Loader: 100%|██████████| 288/288 [00:28<00:00, 10.11it/s]\n"
     ]
    },
    {
     "name": "stdout",
     "output_type": "stream",
     "text": [
      "Loss1: 0.7845, Loss2: 0.2567, Loss3: 1.2779\n"
     ]
    },
    {
     "name": "stderr",
     "output_type": "stream",
     "text": [
      "Test_Loader: 100%|██████████| 288/288 [00:28<00:00, 10.15it/s]\n"
     ]
    },
    {
     "name": "stdout",
     "output_type": "stream",
     "text": [
      "Loss1: 0.7776, Loss2: 0.2545, Loss3: 1.2523\n"
     ]
    },
    {
     "name": "stderr",
     "output_type": "stream",
     "text": [
      "Test_Loader: 100%|██████████| 288/288 [00:27<00:00, 10.33it/s]\n"
     ]
    },
    {
     "name": "stdout",
     "output_type": "stream",
     "text": [
      "Loss1: 0.7702, Loss2: 0.2547, Loss3: 1.2310\n"
     ]
    },
    {
     "name": "stderr",
     "output_type": "stream",
     "text": [
      "Test_Loader: 100%|██████████| 288/288 [00:27<00:00, 10.57it/s]\n"
     ]
    },
    {
     "name": "stdout",
     "output_type": "stream",
     "text": [
      "Loss1: 0.7653, Loss2: 0.2519, Loss3: 1.2054\n"
     ]
    },
    {
     "name": "stderr",
     "output_type": "stream",
     "text": [
      "Test_Loader: 100%|██████████| 288/288 [00:27<00:00, 10.56it/s]\n"
     ]
    },
    {
     "name": "stdout",
     "output_type": "stream",
     "text": [
      "Loss1: 0.7556, Loss2: 0.2505, Loss3: 1.1788\n"
     ]
    },
    {
     "name": "stderr",
     "output_type": "stream",
     "text": [
      "Test_Loader: 100%|██████████| 288/288 [00:27<00:00, 10.40it/s]\n"
     ]
    },
    {
     "name": "stdout",
     "output_type": "stream",
     "text": [
      "Loss1: 0.7532, Loss2: 0.2470, Loss3: 1.1570\n"
     ]
    },
    {
     "name": "stderr",
     "output_type": "stream",
     "text": [
      "Test_Loader: 100%|██████████| 288/288 [00:27<00:00, 10.40it/s]\n"
     ]
    },
    {
     "name": "stdout",
     "output_type": "stream",
     "text": [
      "Loss1: 0.7485, Loss2: 0.2461, Loss3: 1.1506\n"
     ]
    },
    {
     "name": "stderr",
     "output_type": "stream",
     "text": [
      "Test_Loader: 100%|██████████| 288/288 [00:26<00:00, 10.77it/s]\n"
     ]
    },
    {
     "name": "stdout",
     "output_type": "stream",
     "text": [
      "Loss1: 0.7557, Loss2: 0.2530, Loss3: 1.1554\n"
     ]
    },
    {
     "name": "stderr",
     "output_type": "stream",
     "text": [
      "Test_Loader: 100%|██████████| 288/288 [00:27<00:00, 10.64it/s]\n"
     ]
    },
    {
     "name": "stdout",
     "output_type": "stream",
     "text": [
      "Loss1: 0.7503, Loss2: 0.2484, Loss3: 1.1385\n"
     ]
    },
    {
     "name": "stderr",
     "output_type": "stream",
     "text": [
      "Test_Loader: 100%|██████████| 288/288 [00:26<00:00, 10.80it/s]\n"
     ]
    },
    {
     "name": "stdout",
     "output_type": "stream",
     "text": [
      "Loss1: 0.7504, Loss2: 0.2499, Loss3: 1.1483\n"
     ]
    },
    {
     "name": "stderr",
     "output_type": "stream",
     "text": [
      "Test_Loader: 100%|██████████| 288/288 [00:27<00:00, 10.44it/s]\n"
     ]
    },
    {
     "name": "stdout",
     "output_type": "stream",
     "text": [
      "Loss1: 0.7584, Loss2: 0.2466, Loss3: 1.1616\n"
     ]
    },
    {
     "name": "stderr",
     "output_type": "stream",
     "text": [
      "Test_Loader: 100%|██████████| 288/288 [00:27<00:00, 10.52it/s]\n"
     ]
    },
    {
     "name": "stdout",
     "output_type": "stream",
     "text": [
      "Loss1: 0.7569, Loss2: 0.2456, Loss3: 1.1430\n"
     ]
    },
    {
     "name": "stderr",
     "output_type": "stream",
     "text": [
      "Test_Loader: 100%|██████████| 288/288 [00:27<00:00, 10.31it/s]\n"
     ]
    },
    {
     "name": "stdout",
     "output_type": "stream",
     "text": [
      "Loss1: 0.7648, Loss2: 0.2510, Loss3: 1.1491\n"
     ]
    },
    {
     "name": "stderr",
     "output_type": "stream",
     "text": [
      "Test_Loader: 100%|██████████| 288/288 [00:28<00:00, 10.09it/s]\n"
     ]
    },
    {
     "name": "stdout",
     "output_type": "stream",
     "text": [
      "Loss1: 0.6977, Loss2: 0.2392, Loss3: 1.0976\n"
     ]
    },
    {
     "name": "stderr",
     "output_type": "stream",
     "text": [
      "Test_Loader: 100%|██████████| 288/288 [00:28<00:00, 10.21it/s]\n"
     ]
    },
    {
     "name": "stdout",
     "output_type": "stream",
     "text": [
      "Loss1: 0.7020, Loss2: 0.2431, Loss3: 1.0969\n"
     ]
    },
    {
     "name": "stderr",
     "output_type": "stream",
     "text": [
      "Test_Loader: 100%|██████████| 288/288 [00:27<00:00, 10.38it/s]\n"
     ]
    },
    {
     "name": "stdout",
     "output_type": "stream",
     "text": [
      "Loss1: 0.7155, Loss2: 0.2439, Loss3: 1.1139\n"
     ]
    },
    {
     "name": "stderr",
     "output_type": "stream",
     "text": [
      "Test_Loader: 100%|██████████| 288/288 [00:27<00:00, 10.64it/s]\n"
     ]
    },
    {
     "name": "stdout",
     "output_type": "stream",
     "text": [
      "Loss1: 0.7120, Loss2: 0.2435, Loss3: 1.1014\n"
     ]
    },
    {
     "name": "stderr",
     "output_type": "stream",
     "text": [
      "Test_Loader: 100%|██████████| 288/288 [00:27<00:00, 10.53it/s]\n"
     ]
    },
    {
     "name": "stdout",
     "output_type": "stream",
     "text": [
      "Loss1: 0.7110, Loss2: 0.2427, Loss3: 1.0868\n"
     ]
    },
    {
     "name": "stderr",
     "output_type": "stream",
     "text": [
      "Test_Loader: 100%|██████████| 288/288 [00:27<00:00, 10.52it/s]\n"
     ]
    },
    {
     "name": "stdout",
     "output_type": "stream",
     "text": [
      "Loss1: 0.7063, Loss2: 0.2404, Loss3: 1.0854\n"
     ]
    },
    {
     "name": "stderr",
     "output_type": "stream",
     "text": [
      "Test_Loader: 100%|██████████| 288/288 [00:28<00:00, 10.07it/s]\n"
     ]
    },
    {
     "name": "stdout",
     "output_type": "stream",
     "text": [
      "Loss1: 0.7019, Loss2: 0.2404, Loss3: 1.0701\n"
     ]
    },
    {
     "name": "stderr",
     "output_type": "stream",
     "text": [
      "Test_Loader: 100%|██████████| 288/288 [00:27<00:00, 10.54it/s]\n"
     ]
    },
    {
     "name": "stdout",
     "output_type": "stream",
     "text": [
      "Loss1: 0.7008, Loss2: 0.2412, Loss3: 1.0598\n"
     ]
    },
    {
     "name": "stderr",
     "output_type": "stream",
     "text": [
      "Test_Loader: 100%|██████████| 288/288 [00:27<00:00, 10.64it/s]\n"
     ]
    },
    {
     "name": "stdout",
     "output_type": "stream",
     "text": [
      "Loss1: 0.6758, Loss2: 0.2324, Loss3: 1.0384\n"
     ]
    },
    {
     "name": "stderr",
     "output_type": "stream",
     "text": [
      "Test_Loader: 100%|██████████| 288/288 [00:27<00:00, 10.50it/s]\n"
     ]
    },
    {
     "name": "stdout",
     "output_type": "stream",
     "text": [
      "Loss1: 0.6737, Loss2: 0.2289, Loss3: 1.0240\n"
     ]
    },
    {
     "name": "stderr",
     "output_type": "stream",
     "text": [
      "Test_Loader: 100%|██████████| 288/288 [00:26<00:00, 10.75it/s]\n"
     ]
    },
    {
     "name": "stdout",
     "output_type": "stream",
     "text": [
      "Loss1: 0.6743, Loss2: 0.2290, Loss3: 1.0028\n"
     ]
    },
    {
     "name": "stderr",
     "output_type": "stream",
     "text": [
      "Test_Loader: 100%|██████████| 288/288 [00:26<00:00, 10.67it/s]\n"
     ]
    },
    {
     "name": "stdout",
     "output_type": "stream",
     "text": [
      "Loss1: 0.6690, Loss2: 0.2282, Loss3: 0.9959\n"
     ]
    },
    {
     "name": "stderr",
     "output_type": "stream",
     "text": [
      "Test_Loader: 100%|██████████| 288/288 [00:26<00:00, 11.03it/s]\n"
     ]
    },
    {
     "name": "stdout",
     "output_type": "stream",
     "text": [
      "Loss1: 0.6918, Loss2: 0.2323, Loss3: 1.0242\n"
     ]
    },
    {
     "name": "stderr",
     "output_type": "stream",
     "text": [
      "Test_Loader: 100%|██████████| 288/288 [00:25<00:00, 11.08it/s]\n"
     ]
    },
    {
     "name": "stdout",
     "output_type": "stream",
     "text": [
      "Loss1: 0.6869, Loss2: 0.2304, Loss3: 1.0091\n"
     ]
    },
    {
     "name": "stderr",
     "output_type": "stream",
     "text": [
      "Test_Loader: 100%|██████████| 288/288 [00:26<00:00, 11.06it/s]\n"
     ]
    },
    {
     "name": "stdout",
     "output_type": "stream",
     "text": [
      "Loss1: 0.6986, Loss2: 0.2360, Loss3: 1.0284\n"
     ]
    },
    {
     "name": "stderr",
     "output_type": "stream",
     "text": [
      "Test_Loader: 100%|██████████| 288/288 [00:26<00:00, 11.07it/s]\n"
     ]
    },
    {
     "name": "stdout",
     "output_type": "stream",
     "text": [
      "Loss1: 0.6960, Loss2: 0.2342, Loss3: 1.0232\n"
     ]
    },
    {
     "name": "stderr",
     "output_type": "stream",
     "text": [
      "Test_Loader: 100%|██████████| 288/288 [00:25<00:00, 11.11it/s]\n"
     ]
    },
    {
     "name": "stdout",
     "output_type": "stream",
     "text": [
      "Loss1: 0.6884, Loss2: 0.2347, Loss3: 1.0136\n"
     ]
    },
    {
     "name": "stderr",
     "output_type": "stream",
     "text": [
      "Test_Loader: 100%|██████████| 288/288 [00:26<00:00, 10.93it/s]\n"
     ]
    },
    {
     "name": "stdout",
     "output_type": "stream",
     "text": [
      "Loss1: 0.7352, Loss2: 0.2440, Loss3: 1.0795\n"
     ]
    },
    {
     "name": "stderr",
     "output_type": "stream",
     "text": [
      "Test_Loader: 100%|██████████| 288/288 [00:26<00:00, 10.82it/s]\n"
     ]
    },
    {
     "name": "stdout",
     "output_type": "stream",
     "text": [
      "Loss1: 0.7288, Loss2: 0.2431, Loss3: 1.0776\n"
     ]
    },
    {
     "name": "stderr",
     "output_type": "stream",
     "text": [
      "Test_Loader: 100%|██████████| 288/288 [00:28<00:00, 10.23it/s]\n"
     ]
    },
    {
     "name": "stdout",
     "output_type": "stream",
     "text": [
      "Loss1: 0.7205, Loss2: 0.2414, Loss3: 1.0567\n"
     ]
    },
    {
     "name": "stderr",
     "output_type": "stream",
     "text": [
      "Test_Loader: 100%|██████████| 288/288 [00:27<00:00, 10.60it/s]\n"
     ]
    },
    {
     "name": "stdout",
     "output_type": "stream",
     "text": [
      "Loss1: 0.7217, Loss2: 0.2443, Loss3: 1.0565\n"
     ]
    },
    {
     "name": "stderr",
     "output_type": "stream",
     "text": [
      "Test_Loader: 100%|██████████| 288/288 [00:27<00:00, 10.62it/s]\n"
     ]
    },
    {
     "name": "stdout",
     "output_type": "stream",
     "text": [
      "Loss1: 0.7175, Loss2: 0.2435, Loss3: 1.0462\n"
     ]
    },
    {
     "name": "stderr",
     "output_type": "stream",
     "text": [
      "Test_Loader: 100%|██████████| 288/288 [00:27<00:00, 10.48it/s]\n"
     ]
    },
    {
     "name": "stdout",
     "output_type": "stream",
     "text": [
      "Loss1: 0.7140, Loss2: 0.2435, Loss3: 1.0384\n"
     ]
    },
    {
     "name": "stderr",
     "output_type": "stream",
     "text": [
      "Test_Loader: 100%|██████████| 288/288 [00:27<00:00, 10.52it/s]\n"
     ]
    },
    {
     "name": "stdout",
     "output_type": "stream",
     "text": [
      "Loss1: 0.7107, Loss2: 0.2422, Loss3: 1.0413\n"
     ]
    },
    {
     "name": "stderr",
     "output_type": "stream",
     "text": [
      "Test_Loader: 100%|██████████| 288/288 [00:28<00:00, 10.20it/s]\n"
     ]
    },
    {
     "name": "stdout",
     "output_type": "stream",
     "text": [
      "Loss1: 0.7093, Loss2: 0.2387, Loss3: 1.0251\n"
     ]
    },
    {
     "name": "stderr",
     "output_type": "stream",
     "text": [
      "Test_Loader: 100%|██████████| 288/288 [00:28<00:00, 10.18it/s]\n"
     ]
    },
    {
     "name": "stdout",
     "output_type": "stream",
     "text": [
      "Loss1: 0.7117, Loss2: 0.2403, Loss3: 1.0333\n"
     ]
    },
    {
     "name": "stderr",
     "output_type": "stream",
     "text": [
      "Test_Loader: 100%|██████████| 288/288 [00:28<00:00, 10.10it/s]\n"
     ]
    },
    {
     "name": "stdout",
     "output_type": "stream",
     "text": [
      "Loss1: 0.7136, Loss2: 0.2396, Loss3: 1.0156\n"
     ]
    },
    {
     "name": "stderr",
     "output_type": "stream",
     "text": [
      "Test_Loader: 100%|██████████| 288/288 [00:28<00:00, 10.26it/s]\n"
     ]
    },
    {
     "name": "stdout",
     "output_type": "stream",
     "text": [
      "Loss1: 0.7073, Loss2: 0.2376, Loss3: 1.0047\n"
     ]
    },
    {
     "name": "stderr",
     "output_type": "stream",
     "text": [
      "Test_Loader: 100%|██████████| 288/288 [00:28<00:00, 10.21it/s]\n"
     ]
    },
    {
     "name": "stdout",
     "output_type": "stream",
     "text": [
      "Loss1: 0.7026, Loss2: 0.2388, Loss3: 0.9925\n"
     ]
    },
    {
     "name": "stderr",
     "output_type": "stream",
     "text": [
      "Test_Loader: 100%|██████████| 288/288 [00:26<00:00, 10.87it/s]\n"
     ]
    },
    {
     "name": "stdout",
     "output_type": "stream",
     "text": [
      "Loss1: 0.6979, Loss2: 0.2369, Loss3: 0.9886\n"
     ]
    },
    {
     "name": "stderr",
     "output_type": "stream",
     "text": [
      "Test_Loader: 100%|██████████| 288/288 [00:26<00:00, 10.74it/s]\n"
     ]
    },
    {
     "name": "stdout",
     "output_type": "stream",
     "text": [
      "Loss1: 0.6966, Loss2: 0.2347, Loss3: 0.9818\n"
     ]
    },
    {
     "name": "stderr",
     "output_type": "stream",
     "text": [
      "Test_Loader: 100%|██████████| 288/288 [00:27<00:00, 10.46it/s]\n"
     ]
    },
    {
     "name": "stdout",
     "output_type": "stream",
     "text": [
      "Loss1: 0.6958, Loss2: 0.2335, Loss3: 0.9707\n"
     ]
    },
    {
     "name": "stderr",
     "output_type": "stream",
     "text": [
      "Test_Loader: 100%|██████████| 288/288 [00:27<00:00, 10.59it/s]\n"
     ]
    },
    {
     "name": "stdout",
     "output_type": "stream",
     "text": [
      "Loss1: 0.6915, Loss2: 0.2338, Loss3: 0.9572\n"
     ]
    },
    {
     "name": "stderr",
     "output_type": "stream",
     "text": [
      "Test_Loader: 100%|██████████| 288/288 [00:27<00:00, 10.30it/s]\n"
     ]
    },
    {
     "name": "stdout",
     "output_type": "stream",
     "text": [
      "Loss1: 0.6873, Loss2: 0.2342, Loss3: 0.9606\n"
     ]
    },
    {
     "name": "stderr",
     "output_type": "stream",
     "text": [
      "Test_Loader: 100%|██████████| 288/288 [00:26<00:00, 10.83it/s]\n"
     ]
    },
    {
     "name": "stdout",
     "output_type": "stream",
     "text": [
      "Loss1: 0.6484, Loss2: 0.2295, Loss3: 0.9179\n"
     ]
    },
    {
     "name": "stderr",
     "output_type": "stream",
     "text": [
      "Test_Loader: 100%|██████████| 288/288 [00:27<00:00, 10.59it/s]\n"
     ]
    },
    {
     "name": "stdout",
     "output_type": "stream",
     "text": [
      "Loss1: 0.6473, Loss2: 0.2277, Loss3: 0.9041\n"
     ]
    },
    {
     "name": "stderr",
     "output_type": "stream",
     "text": [
      "Test_Loader: 100%|██████████| 288/288 [00:26<00:00, 10.68it/s]\n"
     ]
    },
    {
     "name": "stdout",
     "output_type": "stream",
     "text": [
      "Loss1: 0.6456, Loss2: 0.2293, Loss3: 0.9014\n"
     ]
    },
    {
     "name": "stderr",
     "output_type": "stream",
     "text": [
      "Test_Loader: 100%|██████████| 288/288 [00:26<00:00, 10.69it/s]\n"
     ]
    },
    {
     "name": "stdout",
     "output_type": "stream",
     "text": [
      "Loss1: 0.6503, Loss2: 0.2276, Loss3: 0.8904\n"
     ]
    },
    {
     "name": "stderr",
     "output_type": "stream",
     "text": [
      "Test_Loader: 100%|██████████| 288/288 [00:27<00:00, 10.57it/s]\n"
     ]
    },
    {
     "name": "stdout",
     "output_type": "stream",
     "text": [
      "Loss1: 0.6164, Loss2: 0.2257, Loss3: 0.8567\n"
     ]
    },
    {
     "name": "stderr",
     "output_type": "stream",
     "text": [
      "Test_Loader: 100%|██████████| 288/288 [00:27<00:00, 10.51it/s]\n"
     ]
    },
    {
     "name": "stdout",
     "output_type": "stream",
     "text": [
      "Loss1: 0.6123, Loss2: 0.2233, Loss3: 0.8496\n"
     ]
    },
    {
     "name": "stderr",
     "output_type": "stream",
     "text": [
      "Test_Loader: 100%|██████████| 288/288 [00:27<00:00, 10.53it/s]\n"
     ]
    },
    {
     "name": "stdout",
     "output_type": "stream",
     "text": [
      "Loss1: 0.6091, Loss2: 0.2233, Loss3: 0.8450\n"
     ]
    },
    {
     "name": "stderr",
     "output_type": "stream",
     "text": [
      "Test_Loader: 100%|██████████| 288/288 [00:27<00:00, 10.50it/s]\n"
     ]
    },
    {
     "name": "stdout",
     "output_type": "stream",
     "text": [
      "Loss1: 0.6071, Loss2: 0.2223, Loss3: 0.8452\n"
     ]
    },
    {
     "name": "stderr",
     "output_type": "stream",
     "text": [
      "Test_Loader: 100%|██████████| 288/288 [00:27<00:00, 10.66it/s]\n"
     ]
    },
    {
     "name": "stdout",
     "output_type": "stream",
     "text": [
      "Loss1: 0.6057, Loss2: 0.2243, Loss3: 0.8416\n"
     ]
    },
    {
     "name": "stderr",
     "output_type": "stream",
     "text": [
      "Test_Loader: 100%|██████████| 288/288 [00:26<00:00, 10.68it/s]\n"
     ]
    },
    {
     "name": "stdout",
     "output_type": "stream",
     "text": [
      "Loss1: 0.6006, Loss2: 0.2211, Loss3: 0.8345\n"
     ]
    },
    {
     "name": "stderr",
     "output_type": "stream",
     "text": [
      "Test_Loader: 100%|██████████| 288/288 [00:27<00:00, 10.29it/s]\n"
     ]
    },
    {
     "name": "stdout",
     "output_type": "stream",
     "text": [
      "Loss1: 0.6014, Loss2: 0.2227, Loss3: 0.8295\n"
     ]
    },
    {
     "name": "stderr",
     "output_type": "stream",
     "text": [
      "Test_Loader: 100%|██████████| 288/288 [00:28<00:00,  9.95it/s]\n"
     ]
    },
    {
     "name": "stdout",
     "output_type": "stream",
     "text": [
      "Loss1: 0.6000, Loss2: 0.2218, Loss3: 0.8282\n"
     ]
    },
    {
     "name": "stderr",
     "output_type": "stream",
     "text": [
      "Test_Loader: 100%|██████████| 288/288 [00:27<00:00, 10.52it/s]\n"
     ]
    },
    {
     "name": "stdout",
     "output_type": "stream",
     "text": [
      "Loss1: 0.6114, Loss2: 0.2235, Loss3: 0.8543\n"
     ]
    },
    {
     "name": "stderr",
     "output_type": "stream",
     "text": [
      "Test_Loader: 100%|██████████| 288/288 [00:27<00:00, 10.49it/s]\n"
     ]
    },
    {
     "name": "stdout",
     "output_type": "stream",
     "text": [
      "Loss1: 0.6220, Loss2: 0.2252, Loss3: 0.8509\n"
     ]
    },
    {
     "name": "stderr",
     "output_type": "stream",
     "text": [
      "Test_Loader: 100%|██████████| 288/288 [00:27<00:00, 10.39it/s]\n"
     ]
    },
    {
     "name": "stdout",
     "output_type": "stream",
     "text": [
      "Loss1: 0.6632, Loss2: 0.2647, Loss3: 0.9513\n"
     ]
    },
    {
     "name": "stderr",
     "output_type": "stream",
     "text": [
      "Test_Loader: 100%|██████████| 288/288 [00:27<00:00, 10.52it/s]\n"
     ]
    },
    {
     "name": "stdout",
     "output_type": "stream",
     "text": [
      "Loss1: 0.6517, Loss2: 0.2612, Loss3: 0.9478\n"
     ]
    },
    {
     "name": "stderr",
     "output_type": "stream",
     "text": [
      "Test_Loader: 100%|██████████| 288/288 [00:27<00:00, 10.39it/s]\n"
     ]
    },
    {
     "name": "stdout",
     "output_type": "stream",
     "text": [
      "Loss1: 0.6545, Loss2: 0.2581, Loss3: 0.9434\n"
     ]
    },
    {
     "name": "stderr",
     "output_type": "stream",
     "text": [
      "Test_Loader: 100%|██████████| 288/288 [00:27<00:00, 10.36it/s]\n"
     ]
    },
    {
     "name": "stdout",
     "output_type": "stream",
     "text": [
      "Loss1: 0.6439, Loss2: 0.2544, Loss3: 0.9407\n"
     ]
    },
    {
     "name": "stderr",
     "output_type": "stream",
     "text": [
      "Test_Loader: 100%|██████████| 288/288 [00:27<00:00, 10.33it/s]\n"
     ]
    },
    {
     "name": "stdout",
     "output_type": "stream",
     "text": [
      "Loss1: 0.6484, Loss2: 0.2493, Loss3: 0.9304\n"
     ]
    },
    {
     "name": "stderr",
     "output_type": "stream",
     "text": [
      "Test_Loader: 100%|██████████| 288/288 [00:27<00:00, 10.38it/s]\n"
     ]
    },
    {
     "name": "stdout",
     "output_type": "stream",
     "text": [
      "Loss1: 0.6453, Loss2: 0.2491, Loss3: 0.9194\n"
     ]
    },
    {
     "name": "stderr",
     "output_type": "stream",
     "text": [
      "Test_Loader: 100%|██████████| 288/288 [00:27<00:00, 10.39it/s]\n"
     ]
    },
    {
     "name": "stdout",
     "output_type": "stream",
     "text": [
      "Loss1: 0.6481, Loss2: 0.2476, Loss3: 0.9122\n"
     ]
    },
    {
     "name": "stderr",
     "output_type": "stream",
     "text": [
      "Test_Loader: 100%|██████████| 288/288 [00:27<00:00, 10.63it/s]\n"
     ]
    },
    {
     "name": "stdout",
     "output_type": "stream",
     "text": [
      "Loss1: 0.6429, Loss2: 0.2456, Loss3: 0.9145\n"
     ]
    },
    {
     "name": "stderr",
     "output_type": "stream",
     "text": [
      "Test_Loader: 100%|██████████| 288/288 [00:27<00:00, 10.66it/s]\n"
     ]
    },
    {
     "name": "stdout",
     "output_type": "stream",
     "text": [
      "Loss1: 0.6023, Loss2: 0.2330, Loss3: 0.8513\n"
     ]
    },
    {
     "name": "stderr",
     "output_type": "stream",
     "text": [
      "Test_Loader: 100%|██████████| 288/288 [00:26<00:00, 10.73it/s]\n"
     ]
    },
    {
     "name": "stdout",
     "output_type": "stream",
     "text": [
      "Loss1: 0.6005, Loss2: 0.2302, Loss3: 0.8449\n"
     ]
    },
    {
     "name": "stderr",
     "output_type": "stream",
     "text": [
      "Test_Loader: 100%|██████████| 288/288 [00:28<00:00, 10.14it/s]\n"
     ]
    },
    {
     "name": "stdout",
     "output_type": "stream",
     "text": [
      "Loss1: 0.6103, Loss2: 0.2466, Loss3: 0.8894\n"
     ]
    },
    {
     "name": "stderr",
     "output_type": "stream",
     "text": [
      "Test_Loader: 100%|██████████| 288/288 [00:26<00:00, 10.68it/s]\n"
     ]
    },
    {
     "name": "stdout",
     "output_type": "stream",
     "text": [
      "Loss1: 0.6005, Loss2: 0.2439, Loss3: 0.8841\n"
     ]
    },
    {
     "name": "stderr",
     "output_type": "stream",
     "text": [
      "Test_Loader: 100%|██████████| 288/288 [00:26<00:00, 10.91it/s]\n"
     ]
    },
    {
     "name": "stdout",
     "output_type": "stream",
     "text": [
      "Loss1: 0.5971, Loss2: 0.2396, Loss3: 0.8677\n"
     ]
    },
    {
     "name": "stderr",
     "output_type": "stream",
     "text": [
      "Test_Loader: 100%|██████████| 288/288 [00:27<00:00, 10.64it/s]\n"
     ]
    },
    {
     "name": "stdout",
     "output_type": "stream",
     "text": [
      "Loss1: 0.6271, Loss2: 0.2371, Loss3: 0.9470\n"
     ]
    },
    {
     "name": "stderr",
     "output_type": "stream",
     "text": [
      "Test_Loader: 100%|██████████| 288/288 [00:26<00:00, 10.75it/s]\n"
     ]
    },
    {
     "name": "stdout",
     "output_type": "stream",
     "text": [
      "Loss1: 0.6290, Loss2: 0.2424, Loss3: 0.9458\n"
     ]
    },
    {
     "name": "stderr",
     "output_type": "stream",
     "text": [
      "Test_Loader: 100%|██████████| 288/288 [00:26<00:00, 10.92it/s]\n"
     ]
    },
    {
     "name": "stdout",
     "output_type": "stream",
     "text": [
      "Loss1: 0.6081, Loss2: 0.2364, Loss3: 0.9261\n"
     ]
    },
    {
     "name": "stderr",
     "output_type": "stream",
     "text": [
      "Test_Loader: 100%|██████████| 288/288 [00:26<00:00, 10.76it/s]\n"
     ]
    },
    {
     "name": "stdout",
     "output_type": "stream",
     "text": [
      "Loss1: 0.5810, Loss2: 0.2323, Loss3: 0.9108\n"
     ]
    },
    {
     "name": "stderr",
     "output_type": "stream",
     "text": [
      "Test_Loader: 100%|██████████| 288/288 [00:26<00:00, 10.67it/s]\n"
     ]
    },
    {
     "name": "stdout",
     "output_type": "stream",
     "text": [
      "Loss1: 0.5643, Loss2: 0.2253, Loss3: 0.9017\n"
     ]
    },
    {
     "name": "stderr",
     "output_type": "stream",
     "text": [
      "Test_Loader: 100%|██████████| 288/288 [00:26<00:00, 10.83it/s]\n"
     ]
    },
    {
     "name": "stdout",
     "output_type": "stream",
     "text": [
      "Loss1: 0.5590, Loss2: 0.2250, Loss3: 0.8858\n"
     ]
    },
    {
     "name": "stderr",
     "output_type": "stream",
     "text": [
      "Test_Loader: 100%|██████████| 288/288 [00:26<00:00, 10.79it/s]\n"
     ]
    },
    {
     "name": "stdout",
     "output_type": "stream",
     "text": [
      "Loss1: 0.5493, Loss2: 0.2207, Loss3: 0.8731\n"
     ]
    },
    {
     "name": "stderr",
     "output_type": "stream",
     "text": [
      "Test_Loader: 100%|██████████| 288/288 [00:26<00:00, 10.72it/s]\n"
     ]
    },
    {
     "name": "stdout",
     "output_type": "stream",
     "text": [
      "Loss1: 0.5668, Loss2: 0.2261, Loss3: 0.9197\n"
     ]
    },
    {
     "name": "stderr",
     "output_type": "stream",
     "text": [
      "Test_Loader: 100%|██████████| 288/288 [00:27<00:00, 10.65it/s]\n"
     ]
    },
    {
     "name": "stdout",
     "output_type": "stream",
     "text": [
      "Loss1: 0.5621, Loss2: 0.2220, Loss3: 0.9081\n"
     ]
    },
    {
     "name": "stderr",
     "output_type": "stream",
     "text": [
      "Test_Loader: 100%|██████████| 288/288 [00:27<00:00, 10.53it/s]\n"
     ]
    },
    {
     "name": "stdout",
     "output_type": "stream",
     "text": [
      "Loss1: 0.5619, Loss2: 0.2205, Loss3: 0.8874\n"
     ]
    },
    {
     "name": "stderr",
     "output_type": "stream",
     "text": [
      "Test_Loader: 100%|██████████| 288/288 [00:28<00:00, 10.01it/s]\n"
     ]
    },
    {
     "name": "stdout",
     "output_type": "stream",
     "text": [
      "Loss1: 0.5638, Loss2: 0.2211, Loss3: 0.8883\n"
     ]
    },
    {
     "name": "stderr",
     "output_type": "stream",
     "text": [
      "Test_Loader: 100%|██████████| 288/288 [00:26<00:00, 10.74it/s]\n"
     ]
    },
    {
     "name": "stdout",
     "output_type": "stream",
     "text": [
      "Loss1: 0.5659, Loss2: 0.2419, Loss3: 0.9296\n"
     ]
    },
    {
     "name": "stderr",
     "output_type": "stream",
     "text": [
      "Test_Loader: 100%|██████████| 288/288 [00:27<00:00, 10.61it/s]\n"
     ]
    },
    {
     "name": "stdout",
     "output_type": "stream",
     "text": [
      "Loss1: 0.5782, Loss2: 0.2475, Loss3: 0.9363\n"
     ]
    },
    {
     "name": "stderr",
     "output_type": "stream",
     "text": [
      "Test_Loader: 100%|██████████| 288/288 [00:26<00:00, 10.80it/s]\n"
     ]
    },
    {
     "name": "stdout",
     "output_type": "stream",
     "text": [
      "Loss1: 0.5878, Loss2: 0.2477, Loss3: 0.9163\n"
     ]
    },
    {
     "name": "stderr",
     "output_type": "stream",
     "text": [
      "Test_Loader: 100%|██████████| 288/288 [00:26<00:00, 10.79it/s]\n"
     ]
    },
    {
     "name": "stdout",
     "output_type": "stream",
     "text": [
      "Loss1: 0.5815, Loss2: 0.2441, Loss3: 0.9117\n"
     ]
    },
    {
     "name": "stderr",
     "output_type": "stream",
     "text": [
      "Test_Loader: 100%|██████████| 288/288 [00:27<00:00, 10.58it/s]\n"
     ]
    },
    {
     "name": "stdout",
     "output_type": "stream",
     "text": [
      "Loss1: 0.5783, Loss2: 0.2434, Loss3: 0.9062\n"
     ]
    },
    {
     "name": "stderr",
     "output_type": "stream",
     "text": [
      "Test_Loader: 100%|██████████| 288/288 [00:27<00:00, 10.52it/s]\n"
     ]
    },
    {
     "name": "stdout",
     "output_type": "stream",
     "text": [
      "Loss1: 0.5842, Loss2: 0.2505, Loss3: 0.9528\n"
     ]
    },
    {
     "name": "stderr",
     "output_type": "stream",
     "text": [
      "Test_Loader: 100%|██████████| 288/288 [00:27<00:00, 10.41it/s]\n"
     ]
    },
    {
     "name": "stdout",
     "output_type": "stream",
     "text": [
      "Loss1: 0.5930, Loss2: 0.2540, Loss3: 0.9483\n"
     ]
    },
    {
     "name": "stderr",
     "output_type": "stream",
     "text": [
      "Test_Loader: 100%|██████████| 288/288 [00:27<00:00, 10.57it/s]\n"
     ]
    },
    {
     "name": "stdout",
     "output_type": "stream",
     "text": [
      "Loss1: 0.6008, Loss2: 0.2497, Loss3: 0.9936\n"
     ]
    },
    {
     "name": "stderr",
     "output_type": "stream",
     "text": [
      "Test_Loader: 100%|██████████| 288/288 [00:26<00:00, 11.02it/s]\n"
     ]
    },
    {
     "name": "stdout",
     "output_type": "stream",
     "text": [
      "Loss1: 0.6050, Loss2: 0.2469, Loss3: 0.9764\n"
     ]
    },
    {
     "name": "stderr",
     "output_type": "stream",
     "text": [
      "Test_Loader: 100%|██████████| 288/288 [00:26<00:00, 10.82it/s]\n"
     ]
    },
    {
     "name": "stdout",
     "output_type": "stream",
     "text": [
      "Loss1: 0.5812, Loss2: 0.2409, Loss3: 0.9722\n"
     ]
    },
    {
     "name": "stderr",
     "output_type": "stream",
     "text": [
      "Test_Loader: 100%|██████████| 288/288 [00:26<00:00, 10.85it/s]\n"
     ]
    },
    {
     "name": "stdout",
     "output_type": "stream",
     "text": [
      "Loss1: 0.5776, Loss2: 0.2409, Loss3: 0.9478\n"
     ]
    },
    {
     "name": "stderr",
     "output_type": "stream",
     "text": [
      "Test_Loader: 100%|██████████| 288/288 [00:27<00:00, 10.56it/s]\n"
     ]
    },
    {
     "name": "stdout",
     "output_type": "stream",
     "text": [
      "Loss1: 0.5731, Loss2: 0.2380, Loss3: 0.9580\n"
     ]
    },
    {
     "name": "stderr",
     "output_type": "stream",
     "text": [
      "Test_Loader: 100%|██████████| 288/288 [00:28<00:00, 10.08it/s]\n"
     ]
    },
    {
     "name": "stdout",
     "output_type": "stream",
     "text": [
      "Loss1: 0.5737, Loss2: 0.2379, Loss3: 0.9428\n"
     ]
    },
    {
     "name": "stderr",
     "output_type": "stream",
     "text": [
      "Test_Loader: 100%|██████████| 288/288 [00:27<00:00, 10.33it/s]\n"
     ]
    },
    {
     "name": "stdout",
     "output_type": "stream",
     "text": [
      "Loss1: 0.5847, Loss2: 0.2430, Loss3: 0.9536\n"
     ]
    },
    {
     "name": "stderr",
     "output_type": "stream",
     "text": [
      "Test_Loader: 100%|██████████| 288/288 [00:27<00:00, 10.48it/s]\n"
     ]
    },
    {
     "name": "stdout",
     "output_type": "stream",
     "text": [
      "Loss1: 0.5893, Loss2: 0.2407, Loss3: 0.9539\n"
     ]
    },
    {
     "name": "stderr",
     "output_type": "stream",
     "text": [
      "Test_Loader: 100%|██████████| 288/288 [00:27<00:00, 10.67it/s]\n"
     ]
    },
    {
     "name": "stdout",
     "output_type": "stream",
     "text": [
      "Loss1: 0.5966, Loss2: 0.2672, Loss3: 1.0313\n"
     ]
    },
    {
     "name": "stderr",
     "output_type": "stream",
     "text": [
      "Test_Loader: 100%|██████████| 288/288 [00:27<00:00, 10.57it/s]\n"
     ]
    },
    {
     "name": "stdout",
     "output_type": "stream",
     "text": [
      "Loss1: 0.5986, Loss2: 0.2690, Loss3: 1.0275\n"
     ]
    },
    {
     "name": "stderr",
     "output_type": "stream",
     "text": [
      "Test_Loader: 100%|██████████| 288/288 [00:27<00:00, 10.43it/s]\n"
     ]
    },
    {
     "name": "stdout",
     "output_type": "stream",
     "text": [
      "Loss1: 0.5985, Loss2: 0.2681, Loss3: 1.0222\n"
     ]
    },
    {
     "name": "stderr",
     "output_type": "stream",
     "text": [
      "Test_Loader: 100%|██████████| 288/288 [00:28<00:00, 10.27it/s]\n"
     ]
    },
    {
     "name": "stdout",
     "output_type": "stream",
     "text": [
      "Loss1: 0.5815, Loss2: 0.2580, Loss3: 0.9898\n"
     ]
    },
    {
     "name": "stderr",
     "output_type": "stream",
     "text": [
      "Test_Loader: 100%|██████████| 288/288 [00:28<00:00, 10.20it/s]\n"
     ]
    },
    {
     "name": "stdout",
     "output_type": "stream",
     "text": [
      "Loss1: 0.6169, Loss2: 0.2659, Loss3: 1.0166\n"
     ]
    },
    {
     "name": "stderr",
     "output_type": "stream",
     "text": [
      "Test_Loader: 100%|██████████| 288/288 [00:28<00:00, 10.22it/s]\n"
     ]
    },
    {
     "name": "stdout",
     "output_type": "stream",
     "text": [
      "Loss1: 0.6150, Loss2: 0.2655, Loss3: 0.9993\n"
     ]
    },
    {
     "name": "stderr",
     "output_type": "stream",
     "text": [
      "Test_Loader: 100%|██████████| 288/288 [00:28<00:00, 10.24it/s]\n"
     ]
    },
    {
     "name": "stdout",
     "output_type": "stream",
     "text": [
      "Loss1: 0.5951, Loss2: 0.2611, Loss3: 0.9862\n"
     ]
    },
    {
     "name": "stderr",
     "output_type": "stream",
     "text": [
      "Test_Loader: 100%|██████████| 288/288 [00:28<00:00, 10.27it/s]\n"
     ]
    },
    {
     "name": "stdout",
     "output_type": "stream",
     "text": [
      "Loss1: 0.5893, Loss2: 0.2595, Loss3: 0.9842\n"
     ]
    },
    {
     "name": "stderr",
     "output_type": "stream",
     "text": [
      "Test_Loader: 100%|██████████| 288/288 [00:27<00:00, 10.64it/s]\n"
     ]
    },
    {
     "name": "stdout",
     "output_type": "stream",
     "text": [
      "Loss1: 0.5862, Loss2: 0.2561, Loss3: 0.9576\n"
     ]
    },
    {
     "name": "stderr",
     "output_type": "stream",
     "text": [
      "Test_Loader: 100%|██████████| 288/288 [00:27<00:00, 10.63it/s]\n"
     ]
    },
    {
     "name": "stdout",
     "output_type": "stream",
     "text": [
      "Loss1: 0.5935, Loss2: 0.2566, Loss3: 0.9727\n"
     ]
    },
    {
     "name": "stderr",
     "output_type": "stream",
     "text": [
      "Test_Loader: 100%|██████████| 288/288 [00:28<00:00,  9.95it/s]\n"
     ]
    },
    {
     "name": "stdout",
     "output_type": "stream",
     "text": [
      "Loss1: 0.6012, Loss2: 0.2562, Loss3: 0.9542\n"
     ]
    },
    {
     "name": "stderr",
     "output_type": "stream",
     "text": [
      "Test_Loader: 100%|██████████| 288/288 [00:28<00:00, 10.22it/s]\n"
     ]
    },
    {
     "name": "stdout",
     "output_type": "stream",
     "text": [
      "Loss1: 0.6055, Loss2: 0.2647, Loss3: 0.9762\n"
     ]
    },
    {
     "name": "stderr",
     "output_type": "stream",
     "text": [
      "Test_Loader: 100%|██████████| 288/288 [00:27<00:00, 10.66it/s]\n"
     ]
    },
    {
     "name": "stdout",
     "output_type": "stream",
     "text": [
      "Loss1: 0.5987, Loss2: 0.2612, Loss3: 0.9663\n"
     ]
    },
    {
     "name": "stderr",
     "output_type": "stream",
     "text": [
      "Test_Loader: 100%|██████████| 288/288 [00:27<00:00, 10.53it/s]\n"
     ]
    },
    {
     "name": "stdout",
     "output_type": "stream",
     "text": [
      "Loss1: 0.5894, Loss2: 0.2599, Loss3: 0.9617\n"
     ]
    },
    {
     "name": "stderr",
     "output_type": "stream",
     "text": [
      "Test_Loader: 100%|██████████| 288/288 [00:27<00:00, 10.49it/s]\n"
     ]
    },
    {
     "name": "stdout",
     "output_type": "stream",
     "text": [
      "Loss1: 0.5917, Loss2: 0.2596, Loss3: 0.9551\n"
     ]
    },
    {
     "name": "stderr",
     "output_type": "stream",
     "text": [
      "Test_Loader: 100%|██████████| 288/288 [00:27<00:00, 10.38it/s]\n"
     ]
    },
    {
     "name": "stdout",
     "output_type": "stream",
     "text": [
      "Loss1: 0.5854, Loss2: 0.2554, Loss3: 0.9504\n"
     ]
    },
    {
     "name": "stderr",
     "output_type": "stream",
     "text": [
      "Test_Loader: 100%|██████████| 288/288 [00:28<00:00, 10.22it/s]\n"
     ]
    },
    {
     "name": "stdout",
     "output_type": "stream",
     "text": [
      "Loss1: 0.6041, Loss2: 0.2594, Loss3: 0.9765\n"
     ]
    },
    {
     "name": "stderr",
     "output_type": "stream",
     "text": [
      "Test_Loader: 100%|██████████| 288/288 [00:28<00:00, 10.23it/s]\n"
     ]
    },
    {
     "name": "stdout",
     "output_type": "stream",
     "text": [
      "Loss1: 0.6028, Loss2: 0.2583, Loss3: 0.9758\n"
     ]
    },
    {
     "name": "stderr",
     "output_type": "stream",
     "text": [
      "Test_Loader: 100%|██████████| 288/288 [00:28<00:00, 10.15it/s]\n"
     ]
    },
    {
     "name": "stdout",
     "output_type": "stream",
     "text": [
      "Loss1: 0.6025, Loss2: 0.2590, Loss3: 0.9722\n"
     ]
    },
    {
     "name": "stderr",
     "output_type": "stream",
     "text": [
      "Test_Loader: 100%|██████████| 288/288 [00:28<00:00, 10.12it/s]\n"
     ]
    },
    {
     "name": "stdout",
     "output_type": "stream",
     "text": [
      "Loss1: 0.5966, Loss2: 0.2590, Loss3: 0.9743\n"
     ]
    },
    {
     "name": "stderr",
     "output_type": "stream",
     "text": [
      "Test_Loader: 100%|██████████| 288/288 [00:28<00:00, 10.24it/s]\n"
     ]
    },
    {
     "name": "stdout",
     "output_type": "stream",
     "text": [
      "Loss1: 0.6042, Loss2: 0.2582, Loss3: 0.9652\n"
     ]
    },
    {
     "name": "stderr",
     "output_type": "stream",
     "text": [
      "Test_Loader: 100%|██████████| 288/288 [00:26<00:00, 10.94it/s]\n"
     ]
    },
    {
     "name": "stdout",
     "output_type": "stream",
     "text": [
      "Loss1: 0.5916, Loss2: 0.2594, Loss3: 0.9483\n"
     ]
    },
    {
     "name": "stderr",
     "output_type": "stream",
     "text": [
      "Test_Loader: 100%|██████████| 288/288 [00:27<00:00, 10.52it/s]\n"
     ]
    },
    {
     "name": "stdout",
     "output_type": "stream",
     "text": [
      "Loss1: 0.5881, Loss2: 0.2585, Loss3: 0.9541\n"
     ]
    },
    {
     "name": "stderr",
     "output_type": "stream",
     "text": [
      "Test_Loader: 100%|██████████| 288/288 [00:28<00:00, 10.26it/s]\n"
     ]
    },
    {
     "name": "stdout",
     "output_type": "stream",
     "text": [
      "Loss1: 0.5798, Loss2: 0.2526, Loss3: 0.9285\n"
     ]
    },
    {
     "name": "stderr",
     "output_type": "stream",
     "text": [
      "Test_Loader: 100%|██████████| 288/288 [00:28<00:00,  9.99it/s]\n"
     ]
    },
    {
     "name": "stdout",
     "output_type": "stream",
     "text": [
      "Loss1: 0.5770, Loss2: 0.2531, Loss3: 0.9176\n"
     ]
    },
    {
     "name": "stderr",
     "output_type": "stream",
     "text": [
      "Test_Loader: 100%|██████████| 288/288 [00:27<00:00, 10.64it/s]\n"
     ]
    },
    {
     "name": "stdout",
     "output_type": "stream",
     "text": [
      "Loss1: 0.5761, Loss2: 0.2500, Loss3: 0.9139\n"
     ]
    },
    {
     "name": "stderr",
     "output_type": "stream",
     "text": [
      "Test_Loader: 100%|██████████| 288/288 [00:27<00:00, 10.48it/s]\n"
     ]
    },
    {
     "name": "stdout",
     "output_type": "stream",
     "text": [
      "Loss1: 0.5493, Loss2: 0.2445, Loss3: 0.8721\n"
     ]
    },
    {
     "name": "stderr",
     "output_type": "stream",
     "text": [
      "Test_Loader: 100%|██████████| 288/288 [00:27<00:00, 10.29it/s]\n"
     ]
    },
    {
     "name": "stdout",
     "output_type": "stream",
     "text": [
      "Loss1: 0.5457, Loss2: 0.2428, Loss3: 0.8697\n"
     ]
    },
    {
     "name": "stderr",
     "output_type": "stream",
     "text": [
      "Test_Loader: 100%|██████████| 288/288 [00:27<00:00, 10.39it/s]\n"
     ]
    },
    {
     "name": "stdout",
     "output_type": "stream",
     "text": [
      "Loss1: 0.5485, Loss2: 0.2476, Loss3: 0.8802\n"
     ]
    },
    {
     "name": "stderr",
     "output_type": "stream",
     "text": [
      "Test_Loader: 100%|██████████| 288/288 [00:28<00:00, 10.27it/s]\n"
     ]
    },
    {
     "name": "stdout",
     "output_type": "stream",
     "text": [
      "Loss1: 0.5470, Loss2: 0.2455, Loss3: 0.8683\n"
     ]
    },
    {
     "name": "stderr",
     "output_type": "stream",
     "text": [
      "Test_Loader: 100%|██████████| 288/288 [00:28<00:00, 10.21it/s]\n"
     ]
    },
    {
     "name": "stdout",
     "output_type": "stream",
     "text": [
      "Loss1: 0.5420, Loss2: 0.2444, Loss3: 0.8613\n"
     ]
    },
    {
     "name": "stderr",
     "output_type": "stream",
     "text": [
      "Test_Loader: 100%|██████████| 288/288 [00:28<00:00, 10.20it/s]\n"
     ]
    },
    {
     "name": "stdout",
     "output_type": "stream",
     "text": [
      "Loss1: 0.5412, Loss2: 0.2414, Loss3: 0.8622\n"
     ]
    },
    {
     "name": "stderr",
     "output_type": "stream",
     "text": [
      "Test_Loader: 100%|██████████| 288/288 [00:28<00:00, 10.21it/s]\n"
     ]
    },
    {
     "name": "stdout",
     "output_type": "stream",
     "text": [
      "Loss1: 0.5409, Loss2: 0.2410, Loss3: 0.8616\n"
     ]
    },
    {
     "name": "stderr",
     "output_type": "stream",
     "text": [
      "Test_Loader: 100%|██████████| 288/288 [00:27<00:00, 10.33it/s]\n"
     ]
    },
    {
     "name": "stdout",
     "output_type": "stream",
     "text": [
      "Loss1: 0.5337, Loss2: 0.2390, Loss3: 0.8537\n"
     ]
    },
    {
     "name": "stderr",
     "output_type": "stream",
     "text": [
      "Test_Loader: 100%|██████████| 288/288 [00:27<00:00, 10.57it/s]\n"
     ]
    },
    {
     "name": "stdout",
     "output_type": "stream",
     "text": [
      "Loss1: 0.5328, Loss2: 0.2348, Loss3: 0.8370\n"
     ]
    },
    {
     "name": "stderr",
     "output_type": "stream",
     "text": [
      "Test_Loader: 100%|██████████| 288/288 [00:27<00:00, 10.61it/s]\n"
     ]
    },
    {
     "name": "stdout",
     "output_type": "stream",
     "text": [
      "Loss1: 0.5300, Loss2: 0.2350, Loss3: 0.8380\n"
     ]
    },
    {
     "name": "stderr",
     "output_type": "stream",
     "text": [
      "Test_Loader: 100%|██████████| 288/288 [00:27<00:00, 10.39it/s]\n"
     ]
    },
    {
     "name": "stdout",
     "output_type": "stream",
     "text": [
      "Loss1: 0.5283, Loss2: 0.2328, Loss3: 0.8315\n"
     ]
    },
    {
     "name": "stderr",
     "output_type": "stream",
     "text": [
      "Test_Loader: 100%|██████████| 288/288 [00:26<00:00, 10.78it/s]\n"
     ]
    },
    {
     "name": "stdout",
     "output_type": "stream",
     "text": [
      "Loss1: 0.5281, Loss2: 0.2357, Loss3: 0.8212\n"
     ]
    },
    {
     "name": "stderr",
     "output_type": "stream",
     "text": [
      "Test_Loader: 100%|██████████| 288/288 [00:26<00:00, 10.71it/s]\n"
     ]
    },
    {
     "name": "stdout",
     "output_type": "stream",
     "text": [
      "Loss1: 0.5267, Loss2: 0.2317, Loss3: 0.8276\n"
     ]
    },
    {
     "name": "stderr",
     "output_type": "stream",
     "text": [
      "Test_Loader: 100%|██████████| 288/288 [00:26<00:00, 10.79it/s]\n"
     ]
    },
    {
     "name": "stdout",
     "output_type": "stream",
     "text": [
      "Loss1: 0.5334, Loss2: 0.2324, Loss3: 0.8283\n"
     ]
    },
    {
     "name": "stderr",
     "output_type": "stream",
     "text": [
      "Test_Loader: 100%|██████████| 288/288 [00:26<00:00, 10.81it/s]\n"
     ]
    },
    {
     "name": "stdout",
     "output_type": "stream",
     "text": [
      "Loss1: 0.5298, Loss2: 0.2313, Loss3: 0.8298\n"
     ]
    },
    {
     "name": "stderr",
     "output_type": "stream",
     "text": [
      "Test_Loader: 100%|██████████| 288/288 [00:27<00:00, 10.63it/s]\n"
     ]
    },
    {
     "name": "stdout",
     "output_type": "stream",
     "text": [
      "Loss1: 0.5240, Loss2: 0.2298, Loss3: 0.8254\n"
     ]
    },
    {
     "name": "stderr",
     "output_type": "stream",
     "text": [
      "Test_Loader: 100%|██████████| 288/288 [00:27<00:00, 10.57it/s]\n"
     ]
    },
    {
     "name": "stdout",
     "output_type": "stream",
     "text": [
      "Loss1: 0.5230, Loss2: 0.2276, Loss3: 0.8105\n"
     ]
    },
    {
     "name": "stderr",
     "output_type": "stream",
     "text": [
      "Test_Loader: 100%|██████████| 288/288 [00:28<00:00, 10.24it/s]\n"
     ]
    },
    {
     "name": "stdout",
     "output_type": "stream",
     "text": [
      "Loss1: 0.5238, Loss2: 0.2277, Loss3: 0.8096\n"
     ]
    },
    {
     "name": "stderr",
     "output_type": "stream",
     "text": [
      "Test_Loader: 100%|██████████| 288/288 [00:28<00:00, 10.21it/s]\n"
     ]
    },
    {
     "name": "stdout",
     "output_type": "stream",
     "text": [
      "Loss1: 0.5250, Loss2: 0.2270, Loss3: 0.8045\n"
     ]
    },
    {
     "name": "stderr",
     "output_type": "stream",
     "text": [
      "Test_Loader: 100%|██████████| 288/288 [00:27<00:00, 10.50it/s]\n"
     ]
    },
    {
     "name": "stdout",
     "output_type": "stream",
     "text": [
      "Loss1: 0.5222, Loss2: 0.2269, Loss3: 0.8076\n"
     ]
    },
    {
     "name": "stderr",
     "output_type": "stream",
     "text": [
      "Test_Loader: 100%|██████████| 288/288 [00:26<00:00, 10.96it/s]\n"
     ]
    },
    {
     "name": "stdout",
     "output_type": "stream",
     "text": [
      "Loss1: 0.5583, Loss2: 0.2269, Loss3: 0.8255\n"
     ]
    },
    {
     "name": "stderr",
     "output_type": "stream",
     "text": [
      "Test_Loader: 100%|██████████| 288/288 [00:26<00:00, 10.81it/s]\n"
     ]
    },
    {
     "name": "stdout",
     "output_type": "stream",
     "text": [
      "Loss1: 0.5486, Loss2: 0.2292, Loss3: 0.8155\n"
     ]
    },
    {
     "name": "stderr",
     "output_type": "stream",
     "text": [
      "Test_Loader: 100%|██████████| 288/288 [00:26<00:00, 10.69it/s]\n"
     ]
    },
    {
     "name": "stdout",
     "output_type": "stream",
     "text": [
      "Loss1: 0.5493, Loss2: 0.2269, Loss3: 0.8132\n"
     ]
    },
    {
     "name": "stderr",
     "output_type": "stream",
     "text": [
      "Test_Loader: 100%|██████████| 288/288 [00:26<00:00, 10.70it/s]\n"
     ]
    },
    {
     "name": "stdout",
     "output_type": "stream",
     "text": [
      "Loss1: 0.5428, Loss2: 0.2272, Loss3: 0.8140\n"
     ]
    },
    {
     "name": "stderr",
     "output_type": "stream",
     "text": [
      "Test_Loader: 100%|██████████| 288/288 [00:27<00:00, 10.64it/s]\n"
     ]
    },
    {
     "name": "stdout",
     "output_type": "stream",
     "text": [
      "Loss1: 0.5394, Loss2: 0.2247, Loss3: 0.8077\n"
     ]
    },
    {
     "name": "stderr",
     "output_type": "stream",
     "text": [
      "Test_Loader: 100%|██████████| 288/288 [00:27<00:00, 10.56it/s]\n"
     ]
    },
    {
     "name": "stdout",
     "output_type": "stream",
     "text": [
      "Loss1: 0.5339, Loss2: 0.2274, Loss3: 0.8135\n"
     ]
    },
    {
     "name": "stderr",
     "output_type": "stream",
     "text": [
      "Test_Loader: 100%|██████████| 288/288 [00:26<00:00, 10.86it/s]\n"
     ]
    },
    {
     "name": "stdout",
     "output_type": "stream",
     "text": [
      "Loss1: 0.5439, Loss2: 0.2274, Loss3: 0.8106\n"
     ]
    },
    {
     "name": "stderr",
     "output_type": "stream",
     "text": [
      "Test_Loader: 100%|██████████| 288/288 [00:27<00:00, 10.56it/s]\n"
     ]
    },
    {
     "name": "stdout",
     "output_type": "stream",
     "text": [
      "Loss1: 0.5314, Loss2: 0.2245, Loss3: 0.8027\n"
     ]
    },
    {
     "name": "stderr",
     "output_type": "stream",
     "text": [
      "Test_Loader: 100%|██████████| 288/288 [00:26<00:00, 10.78it/s]\n"
     ]
    },
    {
     "name": "stdout",
     "output_type": "stream",
     "text": [
      "Loss1: 0.5337, Loss2: 0.2255, Loss3: 0.8019\n"
     ]
    },
    {
     "name": "stderr",
     "output_type": "stream",
     "text": [
      "Test_Loader: 100%|██████████| 288/288 [00:27<00:00, 10.62it/s]\n"
     ]
    },
    {
     "name": "stdout",
     "output_type": "stream",
     "text": [
      "Loss1: 0.5238, Loss2: 0.2237, Loss3: 0.7886\n"
     ]
    },
    {
     "name": "stderr",
     "output_type": "stream",
     "text": [
      "Test_Loader: 100%|██████████| 288/288 [00:27<00:00, 10.43it/s]\n"
     ]
    },
    {
     "name": "stdout",
     "output_type": "stream",
     "text": [
      "Loss1: 0.5072, Loss2: 0.2203, Loss3: 0.7773\n"
     ]
    },
    {
     "name": "stderr",
     "output_type": "stream",
     "text": [
      "Test_Loader: 100%|██████████| 288/288 [00:28<00:00, 10.11it/s]\n"
     ]
    },
    {
     "name": "stdout",
     "output_type": "stream",
     "text": [
      "Loss1: 0.4843, Loss2: 0.2208, Loss3: 0.7750\n"
     ]
    },
    {
     "name": "stderr",
     "output_type": "stream",
     "text": [
      "Test_Loader: 100%|██████████| 288/288 [00:27<00:00, 10.64it/s]\n"
     ]
    },
    {
     "name": "stdout",
     "output_type": "stream",
     "text": [
      "Loss1: 0.4803, Loss2: 0.2196, Loss3: 0.7551\n"
     ]
    },
    {
     "name": "stderr",
     "output_type": "stream",
     "text": [
      "Test_Loader: 100%|██████████| 288/288 [00:26<00:00, 10.79it/s]\n"
     ]
    },
    {
     "name": "stdout",
     "output_type": "stream",
     "text": [
      "Loss1: 0.4821, Loss2: 0.2202, Loss3: 0.7466\n"
     ]
    },
    {
     "name": "stderr",
     "output_type": "stream",
     "text": [
      "Test_Loader: 100%|██████████| 288/288 [00:26<00:00, 10.97it/s]\n"
     ]
    },
    {
     "name": "stdout",
     "output_type": "stream",
     "text": [
      "Loss1: 0.4899, Loss2: 0.2282, Loss3: 0.7753\n"
     ]
    },
    {
     "name": "stderr",
     "output_type": "stream",
     "text": [
      "Test_Loader: 100%|██████████| 288/288 [00:26<00:00, 10.91it/s]\n"
     ]
    },
    {
     "name": "stdout",
     "output_type": "stream",
     "text": [
      "Loss1: 0.4897, Loss2: 0.2287, Loss3: 0.7847\n"
     ]
    },
    {
     "name": "stderr",
     "output_type": "stream",
     "text": [
      "Test_Loader: 100%|██████████| 288/288 [00:27<00:00, 10.44it/s]\n"
     ]
    },
    {
     "name": "stdout",
     "output_type": "stream",
     "text": [
      "Loss1: 0.4878, Loss2: 0.2307, Loss3: 0.7890\n"
     ]
    },
    {
     "name": "stderr",
     "output_type": "stream",
     "text": [
      "Test_Loader: 100%|██████████| 288/288 [00:27<00:00, 10.62it/s]\n"
     ]
    },
    {
     "name": "stdout",
     "output_type": "stream",
     "text": [
      "Loss1: 0.4862, Loss2: 0.2280, Loss3: 0.7911\n"
     ]
    },
    {
     "name": "stderr",
     "output_type": "stream",
     "text": [
      "Test_Loader: 100%|██████████| 288/288 [00:28<00:00, 10.28it/s]\n"
     ]
    },
    {
     "name": "stdout",
     "output_type": "stream",
     "text": [
      "Loss1: 0.4898, Loss2: 0.2290, Loss3: 0.7797\n"
     ]
    },
    {
     "name": "stderr",
     "output_type": "stream",
     "text": [
      "Test_Loader: 100%|██████████| 288/288 [00:26<00:00, 10.71it/s]\n"
     ]
    },
    {
     "name": "stdout",
     "output_type": "stream",
     "text": [
      "Loss1: 0.4908, Loss2: 0.2287, Loss3: 0.7810\n"
     ]
    },
    {
     "name": "stderr",
     "output_type": "stream",
     "text": [
      "Test_Loader: 100%|██████████| 288/288 [00:26<00:00, 10.71it/s]\n"
     ]
    },
    {
     "name": "stdout",
     "output_type": "stream",
     "text": [
      "Loss1: 0.4903, Loss2: 0.2284, Loss3: 0.7761\n"
     ]
    },
    {
     "name": "stderr",
     "output_type": "stream",
     "text": [
      "Test_Loader: 100%|██████████| 288/288 [00:27<00:00, 10.54it/s]\n"
     ]
    },
    {
     "name": "stdout",
     "output_type": "stream",
     "text": [
      "Loss1: 0.4728, Loss2: 0.2129, Loss3: 0.7420\n"
     ]
    },
    {
     "name": "stderr",
     "output_type": "stream",
     "text": [
      "Test_Loader: 100%|██████████| 288/288 [00:26<00:00, 10.69it/s]\n"
     ]
    },
    {
     "name": "stdout",
     "output_type": "stream",
     "text": [
      "Loss1: 0.4735, Loss2: 0.2131, Loss3: 0.7374\n"
     ]
    },
    {
     "name": "stderr",
     "output_type": "stream",
     "text": [
      "Test_Loader: 100%|██████████| 288/288 [00:26<00:00, 10.75it/s]\n"
     ]
    },
    {
     "name": "stdout",
     "output_type": "stream",
     "text": [
      "Loss1: 0.4738, Loss2: 0.2144, Loss3: 0.7584\n"
     ]
    },
    {
     "name": "stderr",
     "output_type": "stream",
     "text": [
      "Test_Loader: 100%|██████████| 288/288 [00:27<00:00, 10.58it/s]\n"
     ]
    },
    {
     "name": "stdout",
     "output_type": "stream",
     "text": [
      "Loss1: 0.4562, Loss2: 0.2102, Loss3: 0.7512\n"
     ]
    },
    {
     "name": "stderr",
     "output_type": "stream",
     "text": [
      "Test_Loader: 100%|██████████| 288/288 [00:26<00:00, 10.72it/s]\n"
     ]
    },
    {
     "name": "stdout",
     "output_type": "stream",
     "text": [
      "Loss1: 0.4383, Loss2: 0.1999, Loss3: 0.7267\n"
     ]
    },
    {
     "name": "stderr",
     "output_type": "stream",
     "text": [
      "Test_Loader: 100%|██████████| 288/288 [00:26<00:00, 10.83it/s]\n"
     ]
    },
    {
     "name": "stdout",
     "output_type": "stream",
     "text": [
      "Loss1: 0.4463, Loss2: 0.2044, Loss3: 0.7220\n"
     ]
    },
    {
     "name": "stderr",
     "output_type": "stream",
     "text": [
      "Test_Loader: 100%|██████████| 288/288 [00:26<00:00, 11.02it/s]\n"
     ]
    },
    {
     "name": "stdout",
     "output_type": "stream",
     "text": [
      "Loss1: 0.4424, Loss2: 0.2052, Loss3: 0.7239\n"
     ]
    },
    {
     "name": "stderr",
     "output_type": "stream",
     "text": [
      "Test_Loader: 100%|██████████| 288/288 [00:26<00:00, 10.96it/s]\n"
     ]
    },
    {
     "name": "stdout",
     "output_type": "stream",
     "text": [
      "Loss1: 0.4456, Loss2: 0.2051, Loss3: 0.7138\n"
     ]
    },
    {
     "name": "stderr",
     "output_type": "stream",
     "text": [
      "Test_Loader: 100%|██████████| 288/288 [00:26<00:00, 10.97it/s]\n"
     ]
    },
    {
     "name": "stdout",
     "output_type": "stream",
     "text": [
      "Loss1: 0.4545, Loss2: 0.2086, Loss3: 0.7461\n"
     ]
    },
    {
     "name": "stderr",
     "output_type": "stream",
     "text": [
      "Test_Loader: 100%|██████████| 288/288 [00:26<00:00, 10.85it/s]\n"
     ]
    },
    {
     "name": "stdout",
     "output_type": "stream",
     "text": [
      "Loss1: 0.4558, Loss2: 0.2090, Loss3: 0.7360\n"
     ]
    },
    {
     "name": "stderr",
     "output_type": "stream",
     "text": [
      "Test_Loader: 100%|██████████| 288/288 [00:26<00:00, 10.72it/s]\n"
     ]
    },
    {
     "name": "stdout",
     "output_type": "stream",
     "text": [
      "Loss1: 0.4316, Loss2: 0.2005, Loss3: 0.7042\n"
     ]
    },
    {
     "name": "stderr",
     "output_type": "stream",
     "text": [
      "Test_Loader: 100%|██████████| 288/288 [00:26<00:00, 10.77it/s]\n"
     ]
    },
    {
     "name": "stdout",
     "output_type": "stream",
     "text": [
      "Loss1: 0.4487, Loss2: 0.2085, Loss3: 0.7361\n"
     ]
    },
    {
     "name": "stderr",
     "output_type": "stream",
     "text": [
      "Test_Loader: 100%|██████████| 288/288 [00:27<00:00, 10.52it/s]\n"
     ]
    },
    {
     "name": "stdout",
     "output_type": "stream",
     "text": [
      "Loss1: 0.4379, Loss2: 0.2044, Loss3: 0.7268\n"
     ]
    },
    {
     "name": "stderr",
     "output_type": "stream",
     "text": [
      "Test_Loader: 100%|██████████| 288/288 [00:26<00:00, 10.68it/s]\n"
     ]
    },
    {
     "name": "stdout",
     "output_type": "stream",
     "text": [
      "Loss1: 0.4328, Loss2: 0.2046, Loss3: 0.7152\n"
     ]
    },
    {
     "name": "stderr",
     "output_type": "stream",
     "text": [
      "Test_Loader: 100%|██████████| 288/288 [00:26<00:00, 10.71it/s]\n"
     ]
    },
    {
     "name": "stdout",
     "output_type": "stream",
     "text": [
      "Loss1: 0.4213, Loss2: 0.1801, Loss3: 0.6992\n"
     ]
    },
    {
     "name": "stderr",
     "output_type": "stream",
     "text": [
      "Test_Loader: 100%|██████████| 288/288 [00:27<00:00, 10.61it/s]\n"
     ]
    },
    {
     "name": "stdout",
     "output_type": "stream",
     "text": [
      "Loss1: 0.4536, Loss2: 0.1790, Loss3: 0.7092\n"
     ]
    },
    {
     "name": "stderr",
     "output_type": "stream",
     "text": [
      "Test_Loader: 100%|██████████| 288/288 [00:27<00:00, 10.40it/s]\n"
     ]
    },
    {
     "name": "stdout",
     "output_type": "stream",
     "text": [
      "Loss1: 0.4446, Loss2: 0.1778, Loss3: 0.7015\n"
     ]
    },
    {
     "name": "stderr",
     "output_type": "stream",
     "text": [
      "Test_Loader: 100%|██████████| 288/288 [00:27<00:00, 10.33it/s]\n"
     ]
    },
    {
     "name": "stdout",
     "output_type": "stream",
     "text": [
      "Loss1: 0.4469, Loss2: 0.1795, Loss3: 0.7178\n"
     ]
    },
    {
     "name": "stderr",
     "output_type": "stream",
     "text": [
      "Test_Loader: 100%|██████████| 288/288 [00:27<00:00, 10.44it/s]\n"
     ]
    },
    {
     "name": "stdout",
     "output_type": "stream",
     "text": [
      "Loss1: 0.4449, Loss2: 0.1802, Loss3: 0.7085\n"
     ]
    },
    {
     "name": "stderr",
     "output_type": "stream",
     "text": [
      "Test_Loader: 100%|██████████| 288/288 [00:27<00:00, 10.42it/s]\n"
     ]
    },
    {
     "name": "stdout",
     "output_type": "stream",
     "text": [
      "Loss1: 0.4344, Loss2: 0.1763, Loss3: 0.7011\n"
     ]
    },
    {
     "name": "stderr",
     "output_type": "stream",
     "text": [
      "Test_Loader: 100%|██████████| 288/288 [00:26<00:00, 10.73it/s]\n"
     ]
    },
    {
     "name": "stdout",
     "output_type": "stream",
     "text": [
      "Loss1: 0.4904, Loss2: 0.1863, Loss3: 0.7611\n"
     ]
    },
    {
     "name": "stderr",
     "output_type": "stream",
     "text": [
      "Test_Loader: 100%|██████████| 288/288 [00:26<00:00, 10.91it/s]\n"
     ]
    },
    {
     "name": "stdout",
     "output_type": "stream",
     "text": [
      "Loss1: 0.4604, Loss2: 0.1836, Loss3: 0.7295\n"
     ]
    },
    {
     "name": "stderr",
     "output_type": "stream",
     "text": [
      "Test_Loader: 100%|██████████| 288/288 [00:26<00:00, 10.94it/s]\n"
     ]
    },
    {
     "name": "stdout",
     "output_type": "stream",
     "text": [
      "Loss1: 0.4890, Loss2: 0.2123, Loss3: 0.7697\n"
     ]
    },
    {
     "name": "stderr",
     "output_type": "stream",
     "text": [
      "Test_Loader: 100%|██████████| 288/288 [00:27<00:00, 10.41it/s]\n"
     ]
    },
    {
     "name": "stdout",
     "output_type": "stream",
     "text": [
      "Loss1: 0.4869, Loss2: 0.2135, Loss3: 0.7642\n"
     ]
    },
    {
     "name": "stderr",
     "output_type": "stream",
     "text": [
      "Test_Loader: 100%|██████████| 288/288 [00:27<00:00, 10.59it/s]\n"
     ]
    },
    {
     "name": "stdout",
     "output_type": "stream",
     "text": [
      "Loss1: 0.5012, Loss2: 0.2168, Loss3: 0.7975\n"
     ]
    },
    {
     "name": "stderr",
     "output_type": "stream",
     "text": [
      "Test_Loader: 100%|██████████| 288/288 [00:27<00:00, 10.65it/s]\n"
     ]
    },
    {
     "name": "stdout",
     "output_type": "stream",
     "text": [
      "Loss1: 0.4918, Loss2: 0.2157, Loss3: 0.7834\n"
     ]
    },
    {
     "name": "stderr",
     "output_type": "stream",
     "text": [
      "Test_Loader: 100%|██████████| 288/288 [00:26<00:00, 10.68it/s]\n"
     ]
    },
    {
     "name": "stdout",
     "output_type": "stream",
     "text": [
      "Loss1: 0.4977, Loss2: 0.2158, Loss3: 0.7939\n"
     ]
    },
    {
     "name": "stderr",
     "output_type": "stream",
     "text": [
      "Test_Loader: 100%|██████████| 288/288 [00:27<00:00, 10.43it/s]\n"
     ]
    },
    {
     "name": "stdout",
     "output_type": "stream",
     "text": [
      "Loss1: 0.4755, Loss2: 0.2128, Loss3: 0.7712\n"
     ]
    },
    {
     "name": "stderr",
     "output_type": "stream",
     "text": [
      "Test_Loader: 100%|██████████| 288/288 [00:28<00:00, 10.22it/s]\n"
     ]
    },
    {
     "name": "stdout",
     "output_type": "stream",
     "text": [
      "Loss1: 0.4883, Loss2: 0.2129, Loss3: 0.7820\n"
     ]
    },
    {
     "name": "stderr",
     "output_type": "stream",
     "text": [
      "Test_Loader: 100%|██████████| 288/288 [00:28<00:00, 10.27it/s]\n"
     ]
    },
    {
     "name": "stdout",
     "output_type": "stream",
     "text": [
      "Loss1: 0.4687, Loss2: 0.1894, Loss3: 0.7105\n"
     ]
    },
    {
     "name": "stderr",
     "output_type": "stream",
     "text": [
      "Test_Loader: 100%|██████████| 288/288 [00:28<00:00, 10.03it/s]\n"
     ]
    },
    {
     "name": "stdout",
     "output_type": "stream",
     "text": [
      "Loss1: 0.4669, Loss2: 0.1890, Loss3: 0.7218\n"
     ]
    },
    {
     "name": "stderr",
     "output_type": "stream",
     "text": [
      "Test_Loader: 100%|██████████| 288/288 [00:26<00:00, 10.81it/s]\n"
     ]
    },
    {
     "name": "stdout",
     "output_type": "stream",
     "text": [
      "Loss1: 0.4626, Loss2: 0.1892, Loss3: 0.7086\n"
     ]
    },
    {
     "name": "stderr",
     "output_type": "stream",
     "text": [
      "Test_Loader: 100%|██████████| 288/288 [00:26<00:00, 10.83it/s]\n"
     ]
    },
    {
     "name": "stdout",
     "output_type": "stream",
     "text": [
      "Loss1: 0.4613, Loss2: 0.1900, Loss3: 0.7111\n"
     ]
    },
    {
     "name": "stderr",
     "output_type": "stream",
     "text": [
      "Test_Loader: 100%|██████████| 288/288 [00:26<00:00, 10.96it/s]\n"
     ]
    },
    {
     "name": "stdout",
     "output_type": "stream",
     "text": [
      "Loss1: 0.4684, Loss2: 0.1911, Loss3: 0.7047\n"
     ]
    },
    {
     "name": "stderr",
     "output_type": "stream",
     "text": [
      "Test_Loader: 100%|██████████| 288/288 [00:26<00:00, 10.80it/s]\n"
     ]
    },
    {
     "name": "stdout",
     "output_type": "stream",
     "text": [
      "Loss1: 0.4695, Loss2: 0.1896, Loss3: 0.7385\n"
     ]
    },
    {
     "name": "stderr",
     "output_type": "stream",
     "text": [
      "Test_Loader: 100%|██████████| 288/288 [00:28<00:00, 10.26it/s]\n"
     ]
    },
    {
     "name": "stdout",
     "output_type": "stream",
     "text": [
      "Loss1: 0.4871, Loss2: 0.1959, Loss3: 0.7483\n"
     ]
    },
    {
     "name": "stderr",
     "output_type": "stream",
     "text": [
      "Test_Loader: 100%|██████████| 288/288 [00:27<00:00, 10.37it/s]\n"
     ]
    },
    {
     "name": "stdout",
     "output_type": "stream",
     "text": [
      "Loss1: 0.5032, Loss2: 0.2108, Loss3: 0.7836\n"
     ]
    },
    {
     "name": "stderr",
     "output_type": "stream",
     "text": [
      "Test_Loader: 100%|██████████| 288/288 [00:27<00:00, 10.61it/s]\n"
     ]
    },
    {
     "name": "stdout",
     "output_type": "stream",
     "text": [
      "Loss1: 0.5067, Loss2: 0.2123, Loss3: 0.7925\n"
     ]
    },
    {
     "name": "stderr",
     "output_type": "stream",
     "text": [
      "Test_Loader: 100%|██████████| 288/288 [00:26<00:00, 10.72it/s]\n"
     ]
    },
    {
     "name": "stdout",
     "output_type": "stream",
     "text": [
      "Loss1: 0.4891, Loss2: 0.2107, Loss3: 0.7820\n"
     ]
    },
    {
     "name": "stderr",
     "output_type": "stream",
     "text": [
      "Test_Loader: 100%|██████████| 288/288 [00:26<00:00, 10.77it/s]\n"
     ]
    },
    {
     "name": "stdout",
     "output_type": "stream",
     "text": [
      "Loss1: 0.4814, Loss2: 0.2073, Loss3: 0.7649\n"
     ]
    },
    {
     "name": "stderr",
     "output_type": "stream",
     "text": [
      "Test_Loader: 100%|██████████| 288/288 [00:26<00:00, 10.73it/s]\n"
     ]
    },
    {
     "name": "stdout",
     "output_type": "stream",
     "text": [
      "Loss1: 0.4691, Loss2: 0.2063, Loss3: 0.7605\n"
     ]
    },
    {
     "name": "stderr",
     "output_type": "stream",
     "text": [
      "Test_Loader: 100%|██████████| 288/288 [00:27<00:00, 10.53it/s]\n"
     ]
    },
    {
     "name": "stdout",
     "output_type": "stream",
     "text": [
      "Loss1: 0.4741, Loss2: 0.2051, Loss3: 0.7534\n"
     ]
    },
    {
     "name": "stderr",
     "output_type": "stream",
     "text": [
      "Test_Loader: 100%|██████████| 288/288 [00:27<00:00, 10.63it/s]\n"
     ]
    },
    {
     "name": "stdout",
     "output_type": "stream",
     "text": [
      "Loss1: 0.4668, Loss2: 0.2080, Loss3: 0.7479\n"
     ]
    },
    {
     "name": "stderr",
     "output_type": "stream",
     "text": [
      "Test_Loader: 100%|██████████| 288/288 [00:27<00:00, 10.50it/s]\n"
     ]
    },
    {
     "name": "stdout",
     "output_type": "stream",
     "text": [
      "Loss1: 0.4769, Loss2: 0.2075, Loss3: 0.7476\n"
     ]
    },
    {
     "name": "stderr",
     "output_type": "stream",
     "text": [
      "Test_Loader: 100%|██████████| 288/288 [00:27<00:00, 10.45it/s]\n"
     ]
    },
    {
     "name": "stdout",
     "output_type": "stream",
     "text": [
      "Loss1: 0.4812, Loss2: 0.2073, Loss3: 0.7415\n"
     ]
    },
    {
     "name": "stderr",
     "output_type": "stream",
     "text": [
      "Test_Loader: 100%|██████████| 288/288 [00:27<00:00, 10.43it/s]\n"
     ]
    },
    {
     "name": "stdout",
     "output_type": "stream",
     "text": [
      "Loss1: 0.4717, Loss2: 0.2051, Loss3: 0.7305\n"
     ]
    },
    {
     "name": "stderr",
     "output_type": "stream",
     "text": [
      "Test_Loader: 100%|██████████| 288/288 [00:27<00:00, 10.66it/s]\n"
     ]
    },
    {
     "name": "stdout",
     "output_type": "stream",
     "text": [
      "Loss1: 0.4735, Loss2: 0.2016, Loss3: 0.7257\n"
     ]
    },
    {
     "name": "stderr",
     "output_type": "stream",
     "text": [
      "Test_Loader: 100%|██████████| 288/288 [00:27<00:00, 10.57it/s]\n"
     ]
    },
    {
     "name": "stdout",
     "output_type": "stream",
     "text": [
      "Loss1: 0.4740, Loss2: 0.2012, Loss3: 0.7233\n"
     ]
    },
    {
     "name": "stderr",
     "output_type": "stream",
     "text": [
      "Test_Loader: 100%|██████████| 288/288 [00:27<00:00, 10.62it/s]\n"
     ]
    },
    {
     "name": "stdout",
     "output_type": "stream",
     "text": [
      "Loss1: 0.4698, Loss2: 0.1985, Loss3: 0.7190\n"
     ]
    },
    {
     "name": "stderr",
     "output_type": "stream",
     "text": [
      "Test_Loader: 100%|██████████| 288/288 [00:26<00:00, 10.73it/s]\n"
     ]
    },
    {
     "name": "stdout",
     "output_type": "stream",
     "text": [
      "Loss1: 0.4642, Loss2: 0.1981, Loss3: 0.7183\n"
     ]
    },
    {
     "name": "stderr",
     "output_type": "stream",
     "text": [
      "Test_Loader: 100%|██████████| 288/288 [00:27<00:00, 10.64it/s]\n"
     ]
    },
    {
     "name": "stdout",
     "output_type": "stream",
     "text": [
      "Loss1: 0.4610, Loss2: 0.1961, Loss3: 0.7033\n"
     ]
    },
    {
     "name": "stderr",
     "output_type": "stream",
     "text": [
      "Test_Loader: 100%|██████████| 288/288 [00:27<00:00, 10.58it/s]\n"
     ]
    },
    {
     "name": "stdout",
     "output_type": "stream",
     "text": [
      "Loss1: 0.4510, Loss2: 0.1953, Loss3: 0.6923\n"
     ]
    },
    {
     "name": "stderr",
     "output_type": "stream",
     "text": [
      "Test_Loader: 100%|██████████| 288/288 [00:27<00:00, 10.45it/s]\n"
     ]
    },
    {
     "name": "stdout",
     "output_type": "stream",
     "text": [
      "Loss1: 0.4508, Loss2: 0.1962, Loss3: 0.6878\n"
     ]
    },
    {
     "name": "stderr",
     "output_type": "stream",
     "text": [
      "Test_Loader: 100%|██████████| 288/288 [00:27<00:00, 10.31it/s]\n"
     ]
    },
    {
     "name": "stdout",
     "output_type": "stream",
     "text": [
      "Loss1: 0.4587, Loss2: 0.1999, Loss3: 0.7019\n"
     ]
    },
    {
     "name": "stderr",
     "output_type": "stream",
     "text": [
      "Test_Loader: 100%|██████████| 288/288 [00:28<00:00, 10.25it/s]\n"
     ]
    },
    {
     "name": "stdout",
     "output_type": "stream",
     "text": [
      "Loss1: 0.4541, Loss2: 0.1984, Loss3: 0.6916\n"
     ]
    },
    {
     "name": "stderr",
     "output_type": "stream",
     "text": [
      "Test_Loader: 100%|██████████| 288/288 [00:28<00:00, 10.24it/s]\n"
     ]
    },
    {
     "name": "stdout",
     "output_type": "stream",
     "text": [
      "Loss1: 0.4562, Loss2: 0.1967, Loss3: 0.7007\n"
     ]
    },
    {
     "name": "stderr",
     "output_type": "stream",
     "text": [
      "Test_Loader: 100%|██████████| 288/288 [00:28<00:00, 10.20it/s]\n"
     ]
    },
    {
     "name": "stdout",
     "output_type": "stream",
     "text": [
      "Loss1: 0.4481, Loss2: 0.1978, Loss3: 0.6979\n"
     ]
    },
    {
     "name": "stderr",
     "output_type": "stream",
     "text": [
      "Test_Loader: 100%|██████████| 288/288 [00:27<00:00, 10.45it/s]\n"
     ]
    },
    {
     "name": "stdout",
     "output_type": "stream",
     "text": [
      "Loss1: 0.4836, Loss2: 0.2091, Loss3: 0.7298\n"
     ]
    },
    {
     "name": "stderr",
     "output_type": "stream",
     "text": [
      "Test_Loader: 100%|██████████| 288/288 [00:26<00:00, 10.86it/s]\n"
     ]
    },
    {
     "name": "stdout",
     "output_type": "stream",
     "text": [
      "Loss1: 0.5038, Loss2: 0.2211, Loss3: 0.7592\n"
     ]
    },
    {
     "name": "stderr",
     "output_type": "stream",
     "text": [
      "Test_Loader: 100%|██████████| 288/288 [00:26<00:00, 10.81it/s]\n"
     ]
    },
    {
     "name": "stdout",
     "output_type": "stream",
     "text": [
      "Loss1: 0.5001, Loss2: 0.2192, Loss3: 0.7507\n"
     ]
    },
    {
     "name": "stderr",
     "output_type": "stream",
     "text": [
      "Test_Loader: 100%|██████████| 288/288 [00:26<00:00, 10.76it/s]\n"
     ]
    },
    {
     "name": "stdout",
     "output_type": "stream",
     "text": [
      "Loss1: 0.5099, Loss2: 0.2236, Loss3: 0.7594\n"
     ]
    },
    {
     "name": "stderr",
     "output_type": "stream",
     "text": [
      "Test_Loader: 100%|██████████| 288/288 [00:27<00:00, 10.44it/s]\n"
     ]
    },
    {
     "name": "stdout",
     "output_type": "stream",
     "text": [
      "Loss1: 0.5124, Loss2: 0.2247, Loss3: 0.7617\n"
     ]
    },
    {
     "name": "stderr",
     "output_type": "stream",
     "text": [
      "Test_Loader: 100%|██████████| 288/288 [00:27<00:00, 10.50it/s]\n"
     ]
    },
    {
     "name": "stdout",
     "output_type": "stream",
     "text": [
      "Loss1: 0.6432, Loss2: 0.2288, Loss3: 0.8185\n"
     ]
    },
    {
     "name": "stderr",
     "output_type": "stream",
     "text": [
      "Test_Loader: 100%|██████████| 288/288 [00:26<00:00, 10.81it/s]\n"
     ]
    },
    {
     "name": "stdout",
     "output_type": "stream",
     "text": [
      "Loss1: 0.6452, Loss2: 0.2286, Loss3: 0.8092\n"
     ]
    },
    {
     "name": "stderr",
     "output_type": "stream",
     "text": [
      "Test_Loader: 100%|██████████| 288/288 [00:26<00:00, 10.93it/s]\n"
     ]
    },
    {
     "name": "stdout",
     "output_type": "stream",
     "text": [
      "Loss1: 0.6370, Loss2: 0.2279, Loss3: 0.8042\n"
     ]
    },
    {
     "name": "stderr",
     "output_type": "stream",
     "text": [
      "Test_Loader: 100%|██████████| 288/288 [00:26<00:00, 10.84it/s]\n"
     ]
    },
    {
     "name": "stdout",
     "output_type": "stream",
     "text": [
      "Loss1: 0.6385, Loss2: 0.2252, Loss3: 0.7965\n"
     ]
    },
    {
     "name": "stderr",
     "output_type": "stream",
     "text": [
      "Test_Loader: 100%|██████████| 288/288 [00:27<00:00, 10.62it/s]\n"
     ]
    },
    {
     "name": "stdout",
     "output_type": "stream",
     "text": [
      "Loss1: 0.7279, Loss2: 0.2623, Loss3: 0.9191\n"
     ]
    },
    {
     "name": "stderr",
     "output_type": "stream",
     "text": [
      "Test_Loader: 100%|██████████| 288/288 [00:26<00:00, 10.68it/s]\n"
     ]
    },
    {
     "name": "stdout",
     "output_type": "stream",
     "text": [
      "Loss1: 0.7197, Loss2: 0.2611, Loss3: 0.9121\n"
     ]
    },
    {
     "name": "stderr",
     "output_type": "stream",
     "text": [
      "Test_Loader: 100%|██████████| 288/288 [00:27<00:00, 10.46it/s]\n"
     ]
    },
    {
     "name": "stdout",
     "output_type": "stream",
     "text": [
      "Loss1: 0.7259, Loss2: 0.2613, Loss3: 0.9176\n"
     ]
    },
    {
     "name": "stderr",
     "output_type": "stream",
     "text": [
      "Test_Loader: 100%|██████████| 288/288 [00:27<00:00, 10.47it/s]\n"
     ]
    },
    {
     "name": "stdout",
     "output_type": "stream",
     "text": [
      "Loss1: 0.7857, Loss2: 0.2902, Loss3: 0.9396\n"
     ]
    },
    {
     "name": "stderr",
     "output_type": "stream",
     "text": [
      "Test_Loader: 100%|██████████| 288/288 [00:27<00:00, 10.36it/s]\n"
     ]
    },
    {
     "name": "stdout",
     "output_type": "stream",
     "text": [
      "Loss1: 0.8055, Loss2: 0.2956, Loss3: 0.9610\n"
     ]
    },
    {
     "name": "stderr",
     "output_type": "stream",
     "text": [
      "Test_Loader: 100%|██████████| 288/288 [00:26<00:00, 10.68it/s]\n"
     ]
    },
    {
     "name": "stdout",
     "output_type": "stream",
     "text": [
      "Loss1: 0.8596, Loss2: 0.3138, Loss3: 0.9850\n"
     ]
    },
    {
     "name": "stderr",
     "output_type": "stream",
     "text": [
      "Test_Loader: 100%|██████████| 288/288 [00:26<00:00, 10.79it/s]\n"
     ]
    },
    {
     "name": "stdout",
     "output_type": "stream",
     "text": [
      "Loss1: 0.8469, Loss2: 0.3107, Loss3: 0.9765\n"
     ]
    },
    {
     "name": "stderr",
     "output_type": "stream",
     "text": [
      "Test_Loader: 100%|██████████| 288/288 [00:26<00:00, 10.90it/s]\n"
     ]
    },
    {
     "name": "stdout",
     "output_type": "stream",
     "text": [
      "Loss1: 0.8535, Loss2: 0.3105, Loss3: 0.9968\n"
     ]
    },
    {
     "name": "stderr",
     "output_type": "stream",
     "text": [
      "Test_Loader: 100%|██████████| 288/288 [00:27<00:00, 10.65it/s]\n"
     ]
    },
    {
     "name": "stdout",
     "output_type": "stream",
     "text": [
      "Loss1: 0.8460, Loss2: 0.3121, Loss3: 0.9871\n"
     ]
    },
    {
     "name": "stderr",
     "output_type": "stream",
     "text": [
      "Test_Loader: 100%|██████████| 288/288 [00:27<00:00, 10.43it/s]\n"
     ]
    },
    {
     "name": "stdout",
     "output_type": "stream",
     "text": [
      "Loss1: 0.8388, Loss2: 0.3029, Loss3: 0.9784\n"
     ]
    },
    {
     "name": "stderr",
     "output_type": "stream",
     "text": [
      "Test_Loader: 100%|██████████| 288/288 [00:27<00:00, 10.38it/s]\n"
     ]
    },
    {
     "name": "stdout",
     "output_type": "stream",
     "text": [
      "Loss1: 0.8300, Loss2: 0.3094, Loss3: 0.9695\n"
     ]
    },
    {
     "name": "stderr",
     "output_type": "stream",
     "text": [
      "Test_Loader: 100%|██████████| 288/288 [00:26<00:00, 10.96it/s]\n"
     ]
    },
    {
     "name": "stdout",
     "output_type": "stream",
     "text": [
      "Loss1: 0.8265, Loss2: 0.3051, Loss3: 0.9722\n"
     ]
    },
    {
     "name": "stderr",
     "output_type": "stream",
     "text": [
      "Test_Loader: 100%|██████████| 288/288 [00:26<00:00, 10.72it/s]\n"
     ]
    },
    {
     "name": "stdout",
     "output_type": "stream",
     "text": [
      "Loss1: 0.8193, Loss2: 0.3052, Loss3: 0.9664\n"
     ]
    },
    {
     "name": "stderr",
     "output_type": "stream",
     "text": [
      "Test_Loader: 100%|██████████| 288/288 [00:26<00:00, 10.74it/s]\n"
     ]
    },
    {
     "name": "stdout",
     "output_type": "stream",
     "text": [
      "Loss1: 0.8192, Loss2: 0.3037, Loss3: 0.9620\n"
     ]
    },
    {
     "name": "stderr",
     "output_type": "stream",
     "text": [
      "Test_Loader: 100%|██████████| 288/288 [00:27<00:00, 10.57it/s]\n"
     ]
    },
    {
     "name": "stdout",
     "output_type": "stream",
     "text": [
      "Loss1: 0.8063, Loss2: 0.3035, Loss3: 0.9487\n"
     ]
    },
    {
     "name": "stderr",
     "output_type": "stream",
     "text": [
      "Test_Loader: 100%|██████████| 288/288 [00:26<00:00, 10.74it/s]\n"
     ]
    },
    {
     "name": "stdout",
     "output_type": "stream",
     "text": [
      "Loss1: 0.8107, Loss2: 0.3025, Loss3: 0.9678\n"
     ]
    },
    {
     "name": "stderr",
     "output_type": "stream",
     "text": [
      "Test_Loader: 100%|██████████| 288/288 [00:27<00:00, 10.38it/s]\n"
     ]
    },
    {
     "name": "stdout",
     "output_type": "stream",
     "text": [
      "Loss1: 0.8008, Loss2: 0.3026, Loss3: 0.9544\n"
     ]
    },
    {
     "name": "stderr",
     "output_type": "stream",
     "text": [
      "Test_Loader: 100%|██████████| 288/288 [00:28<00:00, 10.22it/s]\n"
     ]
    },
    {
     "name": "stdout",
     "output_type": "stream",
     "text": [
      "Loss1: 0.8017, Loss2: 0.2975, Loss3: 0.9509\n"
     ]
    },
    {
     "name": "stderr",
     "output_type": "stream",
     "text": [
      "Test_Loader: 100%|██████████| 288/288 [00:28<00:00, 10.28it/s]\n"
     ]
    },
    {
     "name": "stdout",
     "output_type": "stream",
     "text": [
      "Loss1: 0.7885, Loss2: 0.2954, Loss3: 0.9376\n"
     ]
    },
    {
     "name": "stderr",
     "output_type": "stream",
     "text": [
      "Test_Loader: 100%|██████████| 288/288 [00:28<00:00, 10.24it/s]\n"
     ]
    },
    {
     "name": "stdout",
     "output_type": "stream",
     "text": [
      "Loss1: 0.7939, Loss2: 0.2944, Loss3: 0.9413\n"
     ]
    },
    {
     "name": "stderr",
     "output_type": "stream",
     "text": [
      "Test_Loader: 100%|██████████| 288/288 [00:26<00:00, 10.84it/s]\n"
     ]
    },
    {
     "name": "stdout",
     "output_type": "stream",
     "text": [
      "Loss1: 0.7877, Loss2: 0.2918, Loss3: 0.9378\n"
     ]
    },
    {
     "name": "stderr",
     "output_type": "stream",
     "text": [
      "Test_Loader: 100%|██████████| 288/288 [00:26<00:00, 11.04it/s]\n"
     ]
    },
    {
     "name": "stdout",
     "output_type": "stream",
     "text": [
      "Loss1: 0.7887, Loss2: 0.2930, Loss3: 0.9418\n"
     ]
    },
    {
     "name": "stderr",
     "output_type": "stream",
     "text": [
      "Test_Loader: 100%|██████████| 288/288 [00:27<00:00, 10.43it/s]\n"
     ]
    },
    {
     "name": "stdout",
     "output_type": "stream",
     "text": [
      "Loss1: 0.7747, Loss2: 0.2902, Loss3: 0.9357\n"
     ]
    },
    {
     "name": "stderr",
     "output_type": "stream",
     "text": [
      "Test_Loader: 100%|██████████| 288/288 [00:26<00:00, 10.79it/s]\n"
     ]
    },
    {
     "name": "stdout",
     "output_type": "stream",
     "text": [
      "Loss1: 0.7708, Loss2: 0.2823, Loss3: 0.9127\n"
     ]
    },
    {
     "name": "stderr",
     "output_type": "stream",
     "text": [
      "Test_Loader: 100%|██████████| 288/288 [00:26<00:00, 10.80it/s]\n"
     ]
    },
    {
     "name": "stdout",
     "output_type": "stream",
     "text": [
      "Loss1: 0.7643, Loss2: 0.2788, Loss3: 0.9036\n"
     ]
    },
    {
     "name": "stderr",
     "output_type": "stream",
     "text": [
      "Test_Loader: 100%|██████████| 288/288 [00:27<00:00, 10.66it/s]\n"
     ]
    },
    {
     "name": "stdout",
     "output_type": "stream",
     "text": [
      "Loss1: 0.7526, Loss2: 0.2740, Loss3: 0.8943\n"
     ]
    },
    {
     "name": "stderr",
     "output_type": "stream",
     "text": [
      "Test_Loader: 100%|██████████| 288/288 [00:28<00:00, 10.23it/s]\n"
     ]
    },
    {
     "name": "stdout",
     "output_type": "stream",
     "text": [
      "Loss1: 0.7495, Loss2: 0.2728, Loss3: 0.8860\n"
     ]
    },
    {
     "name": "stderr",
     "output_type": "stream",
     "text": [
      "Test_Loader: 100%|██████████| 288/288 [00:27<00:00, 10.44it/s]\n"
     ]
    },
    {
     "name": "stdout",
     "output_type": "stream",
     "text": [
      "Loss1: 0.7343, Loss2: 0.2689, Loss3: 0.8779\n"
     ]
    },
    {
     "name": "stderr",
     "output_type": "stream",
     "text": [
      "Test_Loader: 100%|██████████| 288/288 [00:27<00:00, 10.43it/s]\n"
     ]
    },
    {
     "name": "stdout",
     "output_type": "stream",
     "text": [
      "Loss1: 0.7375, Loss2: 0.2657, Loss3: 0.8819\n"
     ]
    },
    {
     "name": "stderr",
     "output_type": "stream",
     "text": [
      "Test_Loader: 100%|██████████| 288/288 [00:27<00:00, 10.38it/s]\n"
     ]
    },
    {
     "name": "stdout",
     "output_type": "stream",
     "text": [
      "Loss1: 0.7360, Loss2: 0.2696, Loss3: 0.8921\n"
     ]
    },
    {
     "name": "stderr",
     "output_type": "stream",
     "text": [
      "Test_Loader: 100%|██████████| 288/288 [00:28<00:00, 10.21it/s]\n"
     ]
    },
    {
     "name": "stdout",
     "output_type": "stream",
     "text": [
      "Loss1: 0.7809, Loss2: 0.3024, Loss3: 1.1065\n"
     ]
    },
    {
     "name": "stderr",
     "output_type": "stream",
     "text": [
      "Test_Loader: 100%|██████████| 288/288 [00:28<00:00, 10.26it/s]\n"
     ]
    },
    {
     "name": "stdout",
     "output_type": "stream",
     "text": [
      "Loss1: 0.7639, Loss2: 0.2966, Loss3: 1.0552\n"
     ]
    },
    {
     "name": "stderr",
     "output_type": "stream",
     "text": [
      "Test_Loader: 100%|██████████| 288/288 [00:27<00:00, 10.47it/s]\n"
     ]
    },
    {
     "name": "stdout",
     "output_type": "stream",
     "text": [
      "Loss1: 0.7596, Loss2: 0.2954, Loss3: 1.0146\n"
     ]
    },
    {
     "name": "stderr",
     "output_type": "stream",
     "text": [
      "Test_Loader: 100%|██████████| 288/288 [00:26<00:00, 10.79it/s]\n"
     ]
    },
    {
     "name": "stdout",
     "output_type": "stream",
     "text": [
      "Loss1: 0.7681, Loss2: 0.2997, Loss3: 1.0219\n"
     ]
    },
    {
     "name": "stderr",
     "output_type": "stream",
     "text": [
      "Test_Loader: 100%|██████████| 288/288 [00:26<00:00, 10.72it/s]\n"
     ]
    },
    {
     "name": "stdout",
     "output_type": "stream",
     "text": [
      "Loss1: 0.7636, Loss2: 0.2957, Loss3: 1.0118\n"
     ]
    },
    {
     "name": "stderr",
     "output_type": "stream",
     "text": [
      "Test_Loader: 100%|██████████| 288/288 [00:27<00:00, 10.44it/s]\n"
     ]
    },
    {
     "name": "stdout",
     "output_type": "stream",
     "text": [
      "Loss1: 0.7497, Loss2: 0.2925, Loss3: 1.0001\n"
     ]
    },
    {
     "name": "stderr",
     "output_type": "stream",
     "text": [
      "Test_Loader: 100%|██████████| 288/288 [00:28<00:00, 10.05it/s]\n"
     ]
    },
    {
     "name": "stdout",
     "output_type": "stream",
     "text": [
      "Loss1: 0.7513, Loss2: 0.2911, Loss3: 1.0082\n"
     ]
    },
    {
     "name": "stderr",
     "output_type": "stream",
     "text": [
      "Test_Loader: 100%|██████████| 288/288 [00:27<00:00, 10.65it/s]\n"
     ]
    },
    {
     "name": "stdout",
     "output_type": "stream",
     "text": [
      "Loss1: 0.7456, Loss2: 0.2891, Loss3: 0.9982\n"
     ]
    },
    {
     "name": "stderr",
     "output_type": "stream",
     "text": [
      "Test_Loader: 100%|██████████| 288/288 [00:26<00:00, 10.67it/s]\n"
     ]
    },
    {
     "name": "stdout",
     "output_type": "stream",
     "text": [
      "Loss1: 0.7309, Loss2: 0.2847, Loss3: 0.9841\n"
     ]
    },
    {
     "name": "stderr",
     "output_type": "stream",
     "text": [
      "Test_Loader: 100%|██████████| 288/288 [00:27<00:00, 10.57it/s]\n"
     ]
    },
    {
     "name": "stdout",
     "output_type": "stream",
     "text": [
      "Loss1: 0.7272, Loss2: 0.2830, Loss3: 0.9895\n"
     ]
    },
    {
     "name": "stderr",
     "output_type": "stream",
     "text": [
      "Test_Loader: 100%|██████████| 288/288 [00:26<00:00, 10.69it/s]\n"
     ]
    },
    {
     "name": "stdout",
     "output_type": "stream",
     "text": [
      "Loss1: 0.7257, Loss2: 0.2815, Loss3: 0.9818\n"
     ]
    },
    {
     "name": "stderr",
     "output_type": "stream",
     "text": [
      "Test_Loader: 100%|██████████| 288/288 [00:27<00:00, 10.36it/s]\n"
     ]
    },
    {
     "name": "stdout",
     "output_type": "stream",
     "text": [
      "Loss1: 0.7201, Loss2: 0.2769, Loss3: 0.9817\n"
     ]
    },
    {
     "name": "stderr",
     "output_type": "stream",
     "text": [
      "Test_Loader: 100%|██████████| 288/288 [00:27<00:00, 10.38it/s]\n"
     ]
    },
    {
     "name": "stdout",
     "output_type": "stream",
     "text": [
      "Loss1: 0.7124, Loss2: 0.2784, Loss3: 0.9695\n"
     ]
    },
    {
     "name": "stderr",
     "output_type": "stream",
     "text": [
      "Test_Loader: 100%|██████████| 288/288 [00:28<00:00, 10.09it/s]\n"
     ]
    },
    {
     "name": "stdout",
     "output_type": "stream",
     "text": [
      "Loss1: 0.7097, Loss2: 0.2752, Loss3: 0.9586\n"
     ]
    },
    {
     "name": "stderr",
     "output_type": "stream",
     "text": [
      "Test_Loader: 100%|██████████| 288/288 [00:28<00:00, 10.22it/s]\n"
     ]
    },
    {
     "name": "stdout",
     "output_type": "stream",
     "text": [
      "Loss1: 0.7004, Loss2: 0.2756, Loss3: 0.9377\n"
     ]
    },
    {
     "name": "stderr",
     "output_type": "stream",
     "text": [
      "Test_Loader: 100%|██████████| 288/288 [00:26<00:00, 10.79it/s]\n"
     ]
    },
    {
     "name": "stdout",
     "output_type": "stream",
     "text": [
      "Loss1: 0.6915, Loss2: 0.2724, Loss3: 0.9320\n"
     ]
    },
    {
     "name": "stderr",
     "output_type": "stream",
     "text": [
      "Test_Loader: 100%|██████████| 288/288 [00:26<00:00, 10.85it/s]\n"
     ]
    },
    {
     "name": "stdout",
     "output_type": "stream",
     "text": [
      "Loss1: 0.6912, Loss2: 0.2748, Loss3: 0.9524\n"
     ]
    },
    {
     "name": "stderr",
     "output_type": "stream",
     "text": [
      "Test_Loader: 100%|██████████| 288/288 [00:27<00:00, 10.67it/s]\n"
     ]
    },
    {
     "name": "stdout",
     "output_type": "stream",
     "text": [
      "Loss1: 0.6857, Loss2: 0.2664, Loss3: 0.9369\n"
     ]
    },
    {
     "name": "stderr",
     "output_type": "stream",
     "text": [
      "Test_Loader: 100%|██████████| 288/288 [00:27<00:00, 10.64it/s]\n"
     ]
    },
    {
     "name": "stdout",
     "output_type": "stream",
     "text": [
      "Loss1: 0.6799, Loss2: 0.2693, Loss3: 0.9218\n"
     ]
    },
    {
     "name": "stderr",
     "output_type": "stream",
     "text": [
      "Test_Loader: 100%|██████████| 288/288 [00:27<00:00, 10.62it/s]\n"
     ]
    },
    {
     "name": "stdout",
     "output_type": "stream",
     "text": [
      "Loss1: 0.6752, Loss2: 0.2678, Loss3: 0.9291\n"
     ]
    },
    {
     "name": "stderr",
     "output_type": "stream",
     "text": [
      "Test_Loader: 100%|██████████| 288/288 [00:27<00:00, 10.30it/s]\n"
     ]
    },
    {
     "name": "stdout",
     "output_type": "stream",
     "text": [
      "Loss1: 0.6495, Loss2: 0.2625, Loss3: 0.9073\n"
     ]
    },
    {
     "name": "stderr",
     "output_type": "stream",
     "text": [
      "Test_Loader: 100%|██████████| 288/288 [00:27<00:00, 10.61it/s]\n"
     ]
    },
    {
     "name": "stdout",
     "output_type": "stream",
     "text": [
      "Loss1: 0.6442, Loss2: 0.2594, Loss3: 0.8987\n"
     ]
    },
    {
     "name": "stderr",
     "output_type": "stream",
     "text": [
      "Test_Loader: 100%|██████████| 288/288 [00:27<00:00, 10.60it/s]\n"
     ]
    },
    {
     "name": "stdout",
     "output_type": "stream",
     "text": [
      "Loss1: 0.6229, Loss2: 0.2499, Loss3: 0.8774\n"
     ]
    },
    {
     "name": "stderr",
     "output_type": "stream",
     "text": [
      "Test_Loader: 100%|██████████| 288/288 [00:26<00:00, 10.75it/s]\n"
     ]
    },
    {
     "name": "stdout",
     "output_type": "stream",
     "text": [
      "Loss1: 0.6221, Loss2: 0.2483, Loss3: 0.8744\n"
     ]
    },
    {
     "name": "stderr",
     "output_type": "stream",
     "text": [
      "Test_Loader: 100%|██████████| 288/288 [00:26<00:00, 11.05it/s]\n"
     ]
    },
    {
     "name": "stdout",
     "output_type": "stream",
     "text": [
      "Loss1: 0.6151, Loss2: 0.2439, Loss3: 0.8613\n"
     ]
    },
    {
     "name": "stderr",
     "output_type": "stream",
     "text": [
      "Test_Loader: 100%|██████████| 288/288 [00:26<00:00, 10.98it/s]\n"
     ]
    },
    {
     "name": "stdout",
     "output_type": "stream",
     "text": [
      "Loss1: 0.6118, Loss2: 0.2441, Loss3: 0.8690\n"
     ]
    },
    {
     "name": "stderr",
     "output_type": "stream",
     "text": [
      "Test_Loader: 100%|██████████| 288/288 [00:27<00:00, 10.46it/s]\n"
     ]
    },
    {
     "name": "stdout",
     "output_type": "stream",
     "text": [
      "Loss1: 0.6109, Loss2: 0.2423, Loss3: 0.8853\n"
     ]
    },
    {
     "name": "stderr",
     "output_type": "stream",
     "text": [
      "Test_Loader: 100%|██████████| 288/288 [00:27<00:00, 10.45it/s]\n"
     ]
    },
    {
     "name": "stdout",
     "output_type": "stream",
     "text": [
      "Loss1: 0.6059, Loss2: 0.2411, Loss3: 0.8798\n"
     ]
    },
    {
     "name": "stderr",
     "output_type": "stream",
     "text": [
      "Test_Loader: 100%|██████████| 288/288 [00:27<00:00, 10.43it/s]\n"
     ]
    },
    {
     "name": "stdout",
     "output_type": "stream",
     "text": [
      "Loss1: 0.6046, Loss2: 0.2409, Loss3: 0.8741\n"
     ]
    },
    {
     "name": "stderr",
     "output_type": "stream",
     "text": [
      "Test_Loader: 100%|██████████| 288/288 [00:27<00:00, 10.51it/s]\n"
     ]
    },
    {
     "name": "stdout",
     "output_type": "stream",
     "text": [
      "Loss1: 0.6028, Loss2: 0.2382, Loss3: 0.8676\n"
     ]
    },
    {
     "name": "stderr",
     "output_type": "stream",
     "text": [
      "Test_Loader: 100%|██████████| 288/288 [00:27<00:00, 10.60it/s]\n"
     ]
    },
    {
     "name": "stdout",
     "output_type": "stream",
     "text": [
      "Loss1: 0.5996, Loss2: 0.2353, Loss3: 0.8639\n"
     ]
    },
    {
     "name": "stderr",
     "output_type": "stream",
     "text": [
      "Test_Loader: 100%|██████████| 288/288 [00:27<00:00, 10.43it/s]\n"
     ]
    },
    {
     "name": "stdout",
     "output_type": "stream",
     "text": [
      "Loss1: 0.6044, Loss2: 0.2383, Loss3: 0.8686\n"
     ]
    },
    {
     "name": "stderr",
     "output_type": "stream",
     "text": [
      "Test_Loader: 100%|██████████| 288/288 [00:28<00:00, 10.23it/s]\n"
     ]
    },
    {
     "name": "stdout",
     "output_type": "stream",
     "text": [
      "Loss1: 0.6012, Loss2: 0.2379, Loss3: 0.8781\n"
     ]
    },
    {
     "name": "stderr",
     "output_type": "stream",
     "text": [
      "Test_Loader: 100%|██████████| 288/288 [00:27<00:00, 10.45it/s]\n"
     ]
    },
    {
     "name": "stdout",
     "output_type": "stream",
     "text": [
      "Loss1: 0.5879, Loss2: 0.2364, Loss3: 0.8683\n"
     ]
    },
    {
     "name": "stderr",
     "output_type": "stream",
     "text": [
      "Test_Loader: 100%|██████████| 288/288 [00:26<00:00, 10.75it/s]\n"
     ]
    },
    {
     "name": "stdout",
     "output_type": "stream",
     "text": [
      "Loss1: 0.5844, Loss2: 0.2344, Loss3: 0.8568\n"
     ]
    },
    {
     "name": "stderr",
     "output_type": "stream",
     "text": [
      "Test_Loader: 100%|██████████| 288/288 [00:26<00:00, 10.74it/s]\n"
     ]
    },
    {
     "name": "stdout",
     "output_type": "stream",
     "text": [
      "Loss1: 0.5678, Loss2: 0.2303, Loss3: 0.8425\n"
     ]
    },
    {
     "name": "stderr",
     "output_type": "stream",
     "text": [
      "Test_Loader: 100%|██████████| 288/288 [00:26<00:00, 10.68it/s]\n"
     ]
    },
    {
     "name": "stdout",
     "output_type": "stream",
     "text": [
      "Loss1: 0.5525, Loss2: 0.2157, Loss3: 0.8185\n"
     ]
    },
    {
     "name": "stderr",
     "output_type": "stream",
     "text": [
      "Test_Loader: 100%|██████████| 288/288 [00:28<00:00, 10.27it/s]\n"
     ]
    },
    {
     "name": "stdout",
     "output_type": "stream",
     "text": [
      "Loss1: 0.5487, Loss2: 0.2116, Loss3: 0.8022\n"
     ]
    },
    {
     "name": "stderr",
     "output_type": "stream",
     "text": [
      "Test_Loader: 100%|██████████| 288/288 [00:28<00:00, 10.27it/s]\n"
     ]
    },
    {
     "name": "stdout",
     "output_type": "stream",
     "text": [
      "Loss1: 0.5469, Loss2: 0.2111, Loss3: 0.8042\n"
     ]
    },
    {
     "name": "stderr",
     "output_type": "stream",
     "text": [
      "Test_Loader: 100%|██████████| 288/288 [00:28<00:00, 10.12it/s]\n"
     ]
    },
    {
     "name": "stdout",
     "output_type": "stream",
     "text": [
      "Loss1: 0.5471, Loss2: 0.2098, Loss3: 0.7923\n"
     ]
    },
    {
     "name": "stderr",
     "output_type": "stream",
     "text": [
      "Test_Loader: 100%|██████████| 288/288 [00:27<00:00, 10.32it/s]\n"
     ]
    },
    {
     "name": "stdout",
     "output_type": "stream",
     "text": [
      "Loss1: 0.5451, Loss2: 0.2096, Loss3: 0.7903\n"
     ]
    },
    {
     "name": "stderr",
     "output_type": "stream",
     "text": [
      "Test_Loader: 100%|██████████| 288/288 [00:27<00:00, 10.31it/s]\n"
     ]
    },
    {
     "name": "stdout",
     "output_type": "stream",
     "text": [
      "Loss1: 0.5564, Loss2: 0.2096, Loss3: 0.8054\n"
     ]
    },
    {
     "name": "stderr",
     "output_type": "stream",
     "text": [
      "Test_Loader: 100%|██████████| 288/288 [00:27<00:00, 10.56it/s]\n"
     ]
    },
    {
     "name": "stdout",
     "output_type": "stream",
     "text": [
      "Loss1: 0.5558, Loss2: 0.2078, Loss3: 0.7968\n"
     ]
    },
    {
     "name": "stderr",
     "output_type": "stream",
     "text": [
      "Test_Loader: 100%|██████████| 288/288 [00:26<00:00, 10.96it/s]\n"
     ]
    },
    {
     "name": "stdout",
     "output_type": "stream",
     "text": [
      "Loss1: 0.5630, Loss2: 0.2073, Loss3: 0.8004\n"
     ]
    },
    {
     "name": "stderr",
     "output_type": "stream",
     "text": [
      "Test_Loader: 100%|██████████| 288/288 [00:25<00:00, 11.16it/s]\n"
     ]
    },
    {
     "name": "stdout",
     "output_type": "stream",
     "text": [
      "Loss1: 0.5595, Loss2: 0.2063, Loss3: 0.7971\n"
     ]
    },
    {
     "name": "stderr",
     "output_type": "stream",
     "text": [
      "Test_Loader: 100%|██████████| 288/288 [00:27<00:00, 10.63it/s]\n"
     ]
    },
    {
     "name": "stdout",
     "output_type": "stream",
     "text": [
      "Loss1: 0.5698, Loss2: 0.2083, Loss3: 0.7985\n"
     ]
    },
    {
     "name": "stderr",
     "output_type": "stream",
     "text": [
      "Test_Loader: 100%|██████████| 288/288 [00:26<00:00, 10.77it/s]\n"
     ]
    },
    {
     "name": "stdout",
     "output_type": "stream",
     "text": [
      "Loss1: 0.5599, Loss2: 0.2051, Loss3: 0.7893\n"
     ]
    },
    {
     "name": "stderr",
     "output_type": "stream",
     "text": [
      "Test_Loader: 100%|██████████| 288/288 [00:26<00:00, 10.74it/s]\n"
     ]
    },
    {
     "name": "stdout",
     "output_type": "stream",
     "text": [
      "Loss1: 0.5536, Loss2: 0.2037, Loss3: 0.7949\n"
     ]
    },
    {
     "name": "stderr",
     "output_type": "stream",
     "text": [
      "Test_Loader: 100%|██████████| 288/288 [00:27<00:00, 10.49it/s]\n"
     ]
    },
    {
     "name": "stdout",
     "output_type": "stream",
     "text": [
      "Loss1: 0.5560, Loss2: 0.2048, Loss3: 0.7897\n"
     ]
    },
    {
     "name": "stderr",
     "output_type": "stream",
     "text": [
      "Test_Loader: 100%|██████████| 288/288 [00:26<00:00, 10.68it/s]\n"
     ]
    },
    {
     "name": "stdout",
     "output_type": "stream",
     "text": [
      "Loss1: 0.5489, Loss2: 0.2036, Loss3: 0.7843\n"
     ]
    },
    {
     "name": "stderr",
     "output_type": "stream",
     "text": [
      "Test_Loader: 100%|██████████| 288/288 [00:26<00:00, 10.72it/s]\n"
     ]
    },
    {
     "name": "stdout",
     "output_type": "stream",
     "text": [
      "Loss1: 0.5501, Loss2: 0.2021, Loss3: 0.7710\n"
     ]
    },
    {
     "name": "stderr",
     "output_type": "stream",
     "text": [
      "Test_Loader: 100%|██████████| 288/288 [00:26<00:00, 10.69it/s]\n"
     ]
    },
    {
     "name": "stdout",
     "output_type": "stream",
     "text": [
      "Loss1: 0.5462, Loss2: 0.2028, Loss3: 0.7816\n"
     ]
    },
    {
     "name": "stderr",
     "output_type": "stream",
     "text": [
      "Test_Loader: 100%|██████████| 288/288 [00:27<00:00, 10.63it/s]\n"
     ]
    },
    {
     "name": "stdout",
     "output_type": "stream",
     "text": [
      "Loss1: 0.5429, Loss2: 0.2013, Loss3: 0.7794\n"
     ]
    },
    {
     "name": "stderr",
     "output_type": "stream",
     "text": [
      "Test_Loader: 100%|██████████| 288/288 [00:27<00:00, 10.38it/s]\n"
     ]
    },
    {
     "name": "stdout",
     "output_type": "stream",
     "text": [
      "Loss1: 0.5510, Loss2: 0.2129, Loss3: 0.7827\n"
     ]
    },
    {
     "name": "stderr",
     "output_type": "stream",
     "text": [
      "Test_Loader: 100%|██████████| 288/288 [00:27<00:00, 10.45it/s]\n"
     ]
    },
    {
     "name": "stdout",
     "output_type": "stream",
     "text": [
      "Loss1: 0.5483, Loss2: 0.2126, Loss3: 0.7910\n"
     ]
    },
    {
     "name": "stderr",
     "output_type": "stream",
     "text": [
      "Test_Loader: 100%|██████████| 288/288 [00:27<00:00, 10.43it/s]\n"
     ]
    },
    {
     "name": "stdout",
     "output_type": "stream",
     "text": [
      "Loss1: 0.5732, Loss2: 0.2270, Loss3: 0.8083\n"
     ]
    },
    {
     "name": "stderr",
     "output_type": "stream",
     "text": [
      "Test_Loader: 100%|██████████| 288/288 [00:26<00:00, 10.73it/s]\n"
     ]
    },
    {
     "name": "stdout",
     "output_type": "stream",
     "text": [
      "Loss1: 0.5692, Loss2: 0.2258, Loss3: 0.8054\n"
     ]
    },
    {
     "name": "stderr",
     "output_type": "stream",
     "text": [
      "Test_Loader: 100%|██████████| 288/288 [00:27<00:00, 10.62it/s]\n"
     ]
    },
    {
     "name": "stdout",
     "output_type": "stream",
     "text": [
      "Loss1: 0.5534, Loss2: 0.2184, Loss3: 0.7846\n"
     ]
    },
    {
     "name": "stderr",
     "output_type": "stream",
     "text": [
      "Test_Loader: 100%|██████████| 288/288 [00:28<00:00, 10.23it/s]\n"
     ]
    },
    {
     "name": "stdout",
     "output_type": "stream",
     "text": [
      "Loss1: 0.5366, Loss2: 0.2112, Loss3: 0.7537\n"
     ]
    },
    {
     "name": "stderr",
     "output_type": "stream",
     "text": [
      "Test_Loader: 100%|██████████| 288/288 [00:28<00:00, 10.13it/s]\n"
     ]
    },
    {
     "name": "stdout",
     "output_type": "stream",
     "text": [
      "Loss1: 0.5404, Loss2: 0.2095, Loss3: 0.7608\n"
     ]
    },
    {
     "name": "stderr",
     "output_type": "stream",
     "text": [
      "Test_Loader: 100%|██████████| 288/288 [00:27<00:00, 10.36it/s]\n"
     ]
    },
    {
     "name": "stdout",
     "output_type": "stream",
     "text": [
      "Loss1: 0.5381, Loss2: 0.2141, Loss3: 0.7686\n"
     ]
    },
    {
     "name": "stderr",
     "output_type": "stream",
     "text": [
      "Test_Loader: 100%|██████████| 288/288 [00:27<00:00, 10.58it/s]\n"
     ]
    },
    {
     "name": "stdout",
     "output_type": "stream",
     "text": [
      "Loss1: 0.5679, Loss2: 0.2249, Loss3: 0.7706\n"
     ]
    },
    {
     "name": "stderr",
     "output_type": "stream",
     "text": [
      "Test_Loader: 100%|██████████| 288/288 [00:27<00:00, 10.56it/s]\n"
     ]
    },
    {
     "name": "stdout",
     "output_type": "stream",
     "text": [
      "Loss1: 0.5063, Loss2: 0.2236, Loss3: 0.7354\n"
     ]
    },
    {
     "name": "stderr",
     "output_type": "stream",
     "text": [
      "Test_Loader: 100%|██████████| 288/288 [00:27<00:00, 10.56it/s]\n"
     ]
    },
    {
     "name": "stdout",
     "output_type": "stream",
     "text": [
      "Loss1: 0.5022, Loss2: 0.2211, Loss3: 0.7307\n"
     ]
    },
    {
     "name": "stderr",
     "output_type": "stream",
     "text": [
      "Test_Loader: 100%|██████████| 288/288 [00:27<00:00, 10.43it/s]\n"
     ]
    },
    {
     "name": "stdout",
     "output_type": "stream",
     "text": [
      "Loss1: 0.5081, Loss2: 0.2224, Loss3: 0.7360\n"
     ]
    },
    {
     "name": "stderr",
     "output_type": "stream",
     "text": [
      "Test_Loader: 100%|██████████| 288/288 [00:27<00:00, 10.47it/s]\n"
     ]
    },
    {
     "name": "stdout",
     "output_type": "stream",
     "text": [
      "Loss1: 0.5052, Loss2: 0.2206, Loss3: 0.7377\n"
     ]
    },
    {
     "name": "stderr",
     "output_type": "stream",
     "text": [
      "Test_Loader: 100%|██████████| 288/288 [00:28<00:00, 10.16it/s]\n"
     ]
    },
    {
     "name": "stdout",
     "output_type": "stream",
     "text": [
      "Loss1: 0.4520, Loss2: 0.1981, Loss3: 0.6461\n"
     ]
    },
    {
     "name": "stderr",
     "output_type": "stream",
     "text": [
      "Test_Loader: 100%|██████████| 288/288 [00:28<00:00, 10.23it/s]\n"
     ]
    },
    {
     "name": "stdout",
     "output_type": "stream",
     "text": [
      "Loss1: 0.4487, Loss2: 0.1961, Loss3: 0.6458\n"
     ]
    },
    {
     "name": "stderr",
     "output_type": "stream",
     "text": [
      "Test_Loader: 100%|██████████| 288/288 [00:28<00:00, 10.26it/s]\n"
     ]
    },
    {
     "name": "stdout",
     "output_type": "stream",
     "text": [
      "Loss1: 0.4493, Loss2: 0.1957, Loss3: 0.6228\n"
     ]
    },
    {
     "name": "stderr",
     "output_type": "stream",
     "text": [
      "Test_Loader: 100%|██████████| 288/288 [00:26<00:00, 10.71it/s]\n"
     ]
    },
    {
     "name": "stdout",
     "output_type": "stream",
     "text": [
      "Loss1: 0.4340, Loss2: 0.1855, Loss3: 0.6077\n"
     ]
    },
    {
     "name": "stderr",
     "output_type": "stream",
     "text": [
      "Test_Loader: 100%|██████████| 288/288 [00:27<00:00, 10.45it/s]\n"
     ]
    },
    {
     "name": "stdout",
     "output_type": "stream",
     "text": [
      "Loss1: 0.4200, Loss2: 0.1832, Loss3: 0.5832\n"
     ]
    },
    {
     "name": "stderr",
     "output_type": "stream",
     "text": [
      "Test_Loader: 100%|██████████| 288/288 [00:28<00:00, 10.21it/s]\n"
     ]
    },
    {
     "name": "stdout",
     "output_type": "stream",
     "text": [
      "Loss1: 0.3944, Loss2: 0.1735, Loss3: 0.5633\n"
     ]
    },
    {
     "name": "stderr",
     "output_type": "stream",
     "text": [
      "Test_Loader: 100%|██████████| 288/288 [00:27<00:00, 10.46it/s]\n"
     ]
    },
    {
     "name": "stdout",
     "output_type": "stream",
     "text": [
      "Loss1: 0.3953, Loss2: 0.1709, Loss3: 0.5561\n"
     ]
    },
    {
     "name": "stderr",
     "output_type": "stream",
     "text": [
      "Test_Loader: 100%|██████████| 288/288 [00:27<00:00, 10.57it/s]\n"
     ]
    },
    {
     "name": "stdout",
     "output_type": "stream",
     "text": [
      "Loss1: 0.3808, Loss2: 0.1703, Loss3: 0.5461\n"
     ]
    },
    {
     "name": "stderr",
     "output_type": "stream",
     "text": [
      "Test_Loader: 100%|██████████| 288/288 [00:26<00:00, 10.77it/s]\n"
     ]
    },
    {
     "name": "stdout",
     "output_type": "stream",
     "text": [
      "Loss1: 0.3844, Loss2: 0.1716, Loss3: 0.5398\n"
     ]
    },
    {
     "name": "stderr",
     "output_type": "stream",
     "text": [
      "Test_Loader: 100%|██████████| 288/288 [00:27<00:00, 10.48it/s]\n"
     ]
    },
    {
     "name": "stdout",
     "output_type": "stream",
     "text": [
      "Loss1: 0.3759, Loss2: 0.1698, Loss3: 0.5454\n"
     ]
    },
    {
     "name": "stderr",
     "output_type": "stream",
     "text": [
      "Test_Loader: 100%|██████████| 288/288 [00:27<00:00, 10.53it/s]\n"
     ]
    },
    {
     "name": "stdout",
     "output_type": "stream",
     "text": [
      "Loss1: 0.3766, Loss2: 0.1672, Loss3: 0.5382\n"
     ]
    },
    {
     "name": "stderr",
     "output_type": "stream",
     "text": [
      "Test_Loader: 100%|██████████| 288/288 [00:27<00:00, 10.42it/s]\n"
     ]
    },
    {
     "name": "stdout",
     "output_type": "stream",
     "text": [
      "Loss1: 0.3776, Loss2: 0.1680, Loss3: 0.5369\n"
     ]
    },
    {
     "name": "stderr",
     "output_type": "stream",
     "text": [
      "Test_Loader: 100%|██████████| 288/288 [00:27<00:00, 10.29it/s]\n"
     ]
    },
    {
     "name": "stdout",
     "output_type": "stream",
     "text": [
      "Loss1: 0.4242, Loss2: 0.1666, Loss3: 0.5360\n"
     ]
    },
    {
     "name": "stderr",
     "output_type": "stream",
     "text": [
      "Test_Loader: 100%|██████████| 288/288 [00:27<00:00, 10.34it/s]\n"
     ]
    },
    {
     "name": "stdout",
     "output_type": "stream",
     "text": [
      "Loss1: 0.4143, Loss2: 0.1656, Loss3: 0.5322\n"
     ]
    },
    {
     "name": "stderr",
     "output_type": "stream",
     "text": [
      "Test_Loader: 100%|██████████| 288/288 [00:28<00:00, 10.17it/s]\n"
     ]
    },
    {
     "name": "stdout",
     "output_type": "stream",
     "text": [
      "Loss1: 0.4187, Loss2: 0.1687, Loss3: 0.5513\n"
     ]
    },
    {
     "name": "stderr",
     "output_type": "stream",
     "text": [
      "Test_Loader: 100%|██████████| 288/288 [00:28<00:00, 10.09it/s]\n"
     ]
    },
    {
     "name": "stdout",
     "output_type": "stream",
     "text": [
      "Loss1: 0.4094, Loss2: 0.1665, Loss3: 0.5456\n"
     ]
    },
    {
     "name": "stderr",
     "output_type": "stream",
     "text": [
      "Test_Loader: 100%|██████████| 288/288 [00:26<00:00, 10.81it/s]\n"
     ]
    },
    {
     "name": "stdout",
     "output_type": "stream",
     "text": [
      "Loss1: 0.4123, Loss2: 0.1673, Loss3: 0.5403\n"
     ]
    },
    {
     "name": "stderr",
     "output_type": "stream",
     "text": [
      "Test_Loader: 100%|██████████| 288/288 [00:26<00:00, 10.81it/s]\n"
     ]
    },
    {
     "name": "stdout",
     "output_type": "stream",
     "text": [
      "Loss1: 0.4071, Loss2: 0.1654, Loss3: 0.5380\n"
     ]
    },
    {
     "name": "stderr",
     "output_type": "stream",
     "text": [
      "Test_Loader: 100%|██████████| 288/288 [00:28<00:00, 10.14it/s]\n"
     ]
    },
    {
     "name": "stdout",
     "output_type": "stream",
     "text": [
      "Loss1: 0.4027, Loss2: 0.1657, Loss3: 0.5330\n"
     ]
    },
    {
     "name": "stderr",
     "output_type": "stream",
     "text": [
      "Test_Loader: 100%|██████████| 288/288 [00:29<00:00,  9.85it/s]\n"
     ]
    },
    {
     "name": "stdout",
     "output_type": "stream",
     "text": [
      "Loss1: 0.4038, Loss2: 0.1655, Loss3: 0.5353\n"
     ]
    },
    {
     "name": "stderr",
     "output_type": "stream",
     "text": [
      "Test_Loader: 100%|██████████| 288/288 [00:27<00:00, 10.39it/s]\n"
     ]
    },
    {
     "name": "stdout",
     "output_type": "stream",
     "text": [
      "Loss1: 0.4010, Loss2: 0.1667, Loss3: 0.5331\n"
     ]
    },
    {
     "name": "stderr",
     "output_type": "stream",
     "text": [
      "Test_Loader: 100%|██████████| 288/288 [00:26<00:00, 10.80it/s]\n"
     ]
    },
    {
     "name": "stdout",
     "output_type": "stream",
     "text": [
      "Loss1: 0.3991, Loss2: 0.1616, Loss3: 0.5321\n"
     ]
    },
    {
     "name": "stderr",
     "output_type": "stream",
     "text": [
      "Test_Loader: 100%|██████████| 288/288 [00:27<00:00, 10.47it/s]\n"
     ]
    },
    {
     "name": "stdout",
     "output_type": "stream",
     "text": [
      "Loss1: 0.3964, Loss2: 0.1619, Loss3: 0.5243\n"
     ]
    },
    {
     "name": "stderr",
     "output_type": "stream",
     "text": [
      "Test_Loader: 100%|██████████| 288/288 [00:27<00:00, 10.66it/s]\n"
     ]
    },
    {
     "name": "stdout",
     "output_type": "stream",
     "text": [
      "Loss1: 0.3897, Loss2: 0.1602, Loss3: 0.5259\n"
     ]
    },
    {
     "name": "stderr",
     "output_type": "stream",
     "text": [
      "Test_Loader: 100%|██████████| 288/288 [00:26<00:00, 10.84it/s]\n"
     ]
    },
    {
     "name": "stdout",
     "output_type": "stream",
     "text": [
      "Loss1: 0.3902, Loss2: 0.1599, Loss3: 0.5245\n"
     ]
    },
    {
     "name": "stderr",
     "output_type": "stream",
     "text": [
      "Test_Loader: 100%|██████████| 288/288 [00:26<00:00, 10.92it/s]\n"
     ]
    },
    {
     "name": "stdout",
     "output_type": "stream",
     "text": [
      "Loss1: 0.3911, Loss2: 0.1589, Loss3: 0.5242\n"
     ]
    },
    {
     "name": "stderr",
     "output_type": "stream",
     "text": [
      "Test_Loader: 100%|██████████| 288/288 [00:26<00:00, 10.95it/s]\n"
     ]
    },
    {
     "name": "stdout",
     "output_type": "stream",
     "text": [
      "Loss1: 0.3927, Loss2: 0.1586, Loss3: 0.5250\n"
     ]
    },
    {
     "name": "stderr",
     "output_type": "stream",
     "text": [
      "Test_Loader: 100%|██████████| 288/288 [00:26<00:00, 10.97it/s]\n"
     ]
    },
    {
     "name": "stdout",
     "output_type": "stream",
     "text": [
      "Loss1: 0.3958, Loss2: 0.1610, Loss3: 0.5233\n"
     ]
    },
    {
     "name": "stderr",
     "output_type": "stream",
     "text": [
      "Test_Loader: 100%|██████████| 288/288 [00:26<00:00, 11.00it/s]\n"
     ]
    },
    {
     "name": "stdout",
     "output_type": "stream",
     "text": [
      "Loss1: 0.3933, Loss2: 0.1619, Loss3: 0.5201\n"
     ]
    },
    {
     "name": "stderr",
     "output_type": "stream",
     "text": [
      "Test_Loader: 100%|██████████| 288/288 [00:25<00:00, 11.12it/s]\n"
     ]
    },
    {
     "name": "stdout",
     "output_type": "stream",
     "text": [
      "Loss1: 0.3942, Loss2: 0.1583, Loss3: 0.5156\n"
     ]
    },
    {
     "name": "stderr",
     "output_type": "stream",
     "text": [
      "Test_Loader: 100%|██████████| 288/288 [00:26<00:00, 10.93it/s]\n"
     ]
    },
    {
     "name": "stdout",
     "output_type": "stream",
     "text": [
      "Loss1: 0.3896, Loss2: 0.1554, Loss3: 0.5055\n"
     ]
    },
    {
     "name": "stderr",
     "output_type": "stream",
     "text": [
      "Test_Loader: 100%|██████████| 288/288 [00:26<00:00, 10.79it/s]\n"
     ]
    },
    {
     "name": "stdout",
     "output_type": "stream",
     "text": [
      "Loss1: 0.3895, Loss2: 0.1529, Loss3: 0.5009\n"
     ]
    },
    {
     "name": "stderr",
     "output_type": "stream",
     "text": [
      "Test_Loader: 100%|██████████| 288/288 [00:27<00:00, 10.57it/s]\n"
     ]
    },
    {
     "name": "stdout",
     "output_type": "stream",
     "text": [
      "Loss1: 0.3927, Loss2: 0.1563, Loss3: 0.5088\n"
     ]
    },
    {
     "name": "stderr",
     "output_type": "stream",
     "text": [
      "Test_Loader: 100%|██████████| 288/288 [00:27<00:00, 10.31it/s]\n"
     ]
    },
    {
     "name": "stdout",
     "output_type": "stream",
     "text": [
      "Loss1: 0.3908, Loss2: 0.1545, Loss3: 0.5148\n"
     ]
    },
    {
     "name": "stderr",
     "output_type": "stream",
     "text": [
      "Test_Loader: 100%|██████████| 288/288 [00:26<00:00, 10.76it/s]\n"
     ]
    },
    {
     "name": "stdout",
     "output_type": "stream",
     "text": [
      "Loss1: 0.3937, Loss2: 0.1562, Loss3: 0.5213\n"
     ]
    },
    {
     "name": "stderr",
     "output_type": "stream",
     "text": [
      "Test_Loader: 100%|██████████| 288/288 [00:26<00:00, 10.81it/s]\n"
     ]
    },
    {
     "name": "stdout",
     "output_type": "stream",
     "text": [
      "Loss1: 0.4112, Loss2: 0.1755, Loss3: 0.5541\n"
     ]
    },
    {
     "name": "stderr",
     "output_type": "stream",
     "text": [
      "Test_Loader: 100%|██████████| 288/288 [00:27<00:00, 10.59it/s]\n"
     ]
    },
    {
     "name": "stdout",
     "output_type": "stream",
     "text": [
      "Loss1: 0.4654, Loss2: 0.1939, Loss3: 0.5702\n"
     ]
    },
    {
     "name": "stderr",
     "output_type": "stream",
     "text": [
      "Test_Loader: 100%|██████████| 288/288 [00:26<00:00, 10.69it/s]\n"
     ]
    },
    {
     "name": "stdout",
     "output_type": "stream",
     "text": [
      "Loss1: 0.4674, Loss2: 0.1941, Loss3: 0.5716\n"
     ]
    },
    {
     "name": "stderr",
     "output_type": "stream",
     "text": [
      "Test_Loader: 100%|██████████| 288/288 [00:26<00:00, 10.69it/s]\n"
     ]
    },
    {
     "name": "stdout",
     "output_type": "stream",
     "text": [
      "Loss1: 0.4640, Loss2: 0.1894, Loss3: 0.5718\n"
     ]
    },
    {
     "name": "stderr",
     "output_type": "stream",
     "text": [
      "Test_Loader: 100%|██████████| 288/288 [00:27<00:00, 10.54it/s]\n"
     ]
    },
    {
     "name": "stdout",
     "output_type": "stream",
     "text": [
      "Loss1: 0.4652, Loss2: 0.1914, Loss3: 0.5684\n"
     ]
    },
    {
     "name": "stderr",
     "output_type": "stream",
     "text": [
      "Test_Loader: 100%|██████████| 288/288 [00:26<00:00, 10.78it/s]\n"
     ]
    },
    {
     "name": "stdout",
     "output_type": "stream",
     "text": [
      "Loss1: 0.4623, Loss2: 0.1937, Loss3: 0.5732\n"
     ]
    },
    {
     "name": "stderr",
     "output_type": "stream",
     "text": [
      "Test_Loader: 100%|██████████| 288/288 [00:26<00:00, 11.02it/s]\n"
     ]
    },
    {
     "name": "stdout",
     "output_type": "stream",
     "text": [
      "Loss1: 0.4594, Loss2: 0.1919, Loss3: 0.5647\n"
     ]
    },
    {
     "name": "stderr",
     "output_type": "stream",
     "text": [
      "Test_Loader: 100%|██████████| 288/288 [00:25<00:00, 11.11it/s]\n"
     ]
    },
    {
     "name": "stdout",
     "output_type": "stream",
     "text": [
      "Loss1: 0.4605, Loss2: 0.1925, Loss3: 0.5667\n"
     ]
    },
    {
     "name": "stderr",
     "output_type": "stream",
     "text": [
      "Test_Loader: 100%|██████████| 288/288 [00:26<00:00, 10.82it/s]\n"
     ]
    },
    {
     "name": "stdout",
     "output_type": "stream",
     "text": [
      "Loss1: 0.4595, Loss2: 0.1928, Loss3: 0.5755\n"
     ]
    },
    {
     "name": "stderr",
     "output_type": "stream",
     "text": [
      "Test_Loader: 100%|██████████| 288/288 [00:27<00:00, 10.62it/s]\n"
     ]
    },
    {
     "name": "stdout",
     "output_type": "stream",
     "text": [
      "Loss1: 0.4580, Loss2: 0.1908, Loss3: 0.5678\n"
     ]
    },
    {
     "name": "stderr",
     "output_type": "stream",
     "text": [
      "Test_Loader: 100%|██████████| 288/288 [00:28<00:00, 10.08it/s]\n"
     ]
    },
    {
     "name": "stdout",
     "output_type": "stream",
     "text": [
      "Loss1: 0.4551, Loss2: 0.1905, Loss3: 0.5596\n"
     ]
    },
    {
     "name": "stderr",
     "output_type": "stream",
     "text": [
      "Test_Loader: 100%|██████████| 288/288 [00:28<00:00, 10.12it/s]\n"
     ]
    },
    {
     "name": "stdout",
     "output_type": "stream",
     "text": [
      "Loss1: 0.4498, Loss2: 0.1890, Loss3: 0.5496\n"
     ]
    },
    {
     "name": "stderr",
     "output_type": "stream",
     "text": [
      "Test_Loader: 100%|██████████| 288/288 [00:27<00:00, 10.46it/s]\n"
     ]
    },
    {
     "name": "stdout",
     "output_type": "stream",
     "text": [
      "Loss1: 0.4496, Loss2: 0.1866, Loss3: 0.5521\n"
     ]
    },
    {
     "name": "stderr",
     "output_type": "stream",
     "text": [
      "Test_Loader: 100%|██████████| 288/288 [00:27<00:00, 10.64it/s]\n"
     ]
    },
    {
     "name": "stdout",
     "output_type": "stream",
     "text": [
      "Loss1: 0.4506, Loss2: 0.1899, Loss3: 0.5588\n"
     ]
    },
    {
     "name": "stderr",
     "output_type": "stream",
     "text": [
      "Test_Loader: 100%|██████████| 288/288 [00:28<00:00, 10.27it/s]\n"
     ]
    },
    {
     "name": "stdout",
     "output_type": "stream",
     "text": [
      "Loss1: 0.4451, Loss2: 0.1868, Loss3: 0.5496\n"
     ]
    },
    {
     "name": "stderr",
     "output_type": "stream",
     "text": [
      "Test_Loader: 100%|██████████| 288/288 [00:27<00:00, 10.29it/s]\n"
     ]
    },
    {
     "name": "stdout",
     "output_type": "stream",
     "text": [
      "Loss1: 0.4424, Loss2: 0.1845, Loss3: 0.5329\n"
     ]
    },
    {
     "name": "stderr",
     "output_type": "stream",
     "text": [
      "Test_Loader: 100%|██████████| 288/288 [00:28<00:00, 10.19it/s]\n"
     ]
    },
    {
     "name": "stdout",
     "output_type": "stream",
     "text": [
      "Loss1: 0.4567, Loss2: 0.1893, Loss3: 0.5426\n"
     ]
    },
    {
     "name": "stderr",
     "output_type": "stream",
     "text": [
      "Test_Loader: 100%|██████████| 288/288 [00:28<00:00, 10.23it/s]\n"
     ]
    },
    {
     "name": "stdout",
     "output_type": "stream",
     "text": [
      "Loss1: 0.4507, Loss2: 0.1872, Loss3: 0.5409\n"
     ]
    },
    {
     "name": "stderr",
     "output_type": "stream",
     "text": [
      "Test_Loader: 100%|██████████| 288/288 [00:28<00:00, 10.17it/s]\n"
     ]
    },
    {
     "name": "stdout",
     "output_type": "stream",
     "text": [
      "Loss1: 0.4468, Loss2: 0.1868, Loss3: 0.5359\n"
     ]
    },
    {
     "name": "stderr",
     "output_type": "stream",
     "text": [
      "Test_Loader: 100%|██████████| 288/288 [00:26<00:00, 10.83it/s]\n"
     ]
    },
    {
     "name": "stdout",
     "output_type": "stream",
     "text": [
      "Loss1: 0.4513, Loss2: 0.1842, Loss3: 0.5387\n"
     ]
    },
    {
     "name": "stderr",
     "output_type": "stream",
     "text": [
      "Test_Loader: 100%|██████████| 288/288 [00:26<00:00, 10.87it/s]\n"
     ]
    },
    {
     "name": "stdout",
     "output_type": "stream",
     "text": [
      "Loss1: 0.4524, Loss2: 0.1852, Loss3: 0.5374\n"
     ]
    },
    {
     "name": "stderr",
     "output_type": "stream",
     "text": [
      "Test_Loader: 100%|██████████| 288/288 [00:27<00:00, 10.64it/s]\n"
     ]
    },
    {
     "name": "stdout",
     "output_type": "stream",
     "text": [
      "Loss1: 0.4473, Loss2: 0.1827, Loss3: 0.5307\n"
     ]
    },
    {
     "name": "stderr",
     "output_type": "stream",
     "text": [
      "Test_Loader: 100%|██████████| 288/288 [00:27<00:00, 10.62it/s]\n"
     ]
    },
    {
     "name": "stdout",
     "output_type": "stream",
     "text": [
      "Loss1: 0.4451, Loss2: 0.1826, Loss3: 0.5287\n"
     ]
    },
    {
     "name": "stderr",
     "output_type": "stream",
     "text": [
      "Test_Loader: 100%|██████████| 288/288 [00:27<00:00, 10.34it/s]\n"
     ]
    },
    {
     "name": "stdout",
     "output_type": "stream",
     "text": [
      "Loss1: 0.4398, Loss2: 0.1822, Loss3: 0.5215\n"
     ]
    },
    {
     "name": "stderr",
     "output_type": "stream",
     "text": [
      "Test_Loader: 100%|██████████| 288/288 [00:27<00:00, 10.34it/s]\n"
     ]
    },
    {
     "name": "stdout",
     "output_type": "stream",
     "text": [
      "Loss1: 0.4484, Loss2: 0.1860, Loss3: 0.5600\n"
     ]
    },
    {
     "name": "stderr",
     "output_type": "stream",
     "text": [
      "Test_Loader: 100%|██████████| 288/288 [00:27<00:00, 10.47it/s]\n"
     ]
    },
    {
     "name": "stdout",
     "output_type": "stream",
     "text": [
      "Loss1: 0.4520, Loss2: 0.1884, Loss3: 0.5926\n"
     ]
    },
    {
     "name": "stderr",
     "output_type": "stream",
     "text": [
      "Test_Loader: 100%|██████████| 288/288 [00:27<00:00, 10.51it/s]\n"
     ]
    },
    {
     "name": "stdout",
     "output_type": "stream",
     "text": [
      "Loss1: 0.4569, Loss2: 0.1874, Loss3: 0.5933\n"
     ]
    },
    {
     "name": "stderr",
     "output_type": "stream",
     "text": [
      "Test_Loader: 100%|██████████| 288/288 [00:27<00:00, 10.64it/s]\n"
     ]
    },
    {
     "name": "stdout",
     "output_type": "stream",
     "text": [
      "Loss1: 0.4501, Loss2: 0.1858, Loss3: 0.5836\n"
     ]
    },
    {
     "name": "stderr",
     "output_type": "stream",
     "text": [
      "Test_Loader: 100%|██████████| 288/288 [00:27<00:00, 10.51it/s]\n"
     ]
    },
    {
     "name": "stdout",
     "output_type": "stream",
     "text": [
      "Loss1: 0.4497, Loss2: 0.1845, Loss3: 0.5806\n"
     ]
    },
    {
     "name": "stderr",
     "output_type": "stream",
     "text": [
      "Test_Loader: 100%|██████████| 288/288 [00:27<00:00, 10.48it/s]\n"
     ]
    },
    {
     "name": "stdout",
     "output_type": "stream",
     "text": [
      "Loss1: 0.4477, Loss2: 0.1837, Loss3: 0.5714\n"
     ]
    },
    {
     "name": "stderr",
     "output_type": "stream",
     "text": [
      "Test_Loader: 100%|██████████| 288/288 [00:27<00:00, 10.32it/s]\n"
     ]
    },
    {
     "name": "stdout",
     "output_type": "stream",
     "text": [
      "Loss1: 0.4520, Loss2: 0.1891, Loss3: 0.5814\n"
     ]
    },
    {
     "name": "stderr",
     "output_type": "stream",
     "text": [
      "Test_Loader: 100%|██████████| 288/288 [00:28<00:00, 10.14it/s]\n"
     ]
    },
    {
     "name": "stdout",
     "output_type": "stream",
     "text": [
      "Loss1: 0.4529, Loss2: 0.1891, Loss3: 0.5769\n"
     ]
    },
    {
     "name": "stderr",
     "output_type": "stream",
     "text": [
      "Test_Loader: 100%|██████████| 288/288 [00:28<00:00, 10.14it/s]\n"
     ]
    },
    {
     "name": "stdout",
     "output_type": "stream",
     "text": [
      "Loss1: 0.4573, Loss2: 0.1883, Loss3: 0.5775\n"
     ]
    },
    {
     "name": "stderr",
     "output_type": "stream",
     "text": [
      "Test_Loader: 100%|██████████| 288/288 [00:28<00:00, 10.16it/s]\n"
     ]
    },
    {
     "name": "stdout",
     "output_type": "stream",
     "text": [
      "Loss1: 0.4558, Loss2: 0.1893, Loss3: 0.5735\n"
     ]
    },
    {
     "name": "stderr",
     "output_type": "stream",
     "text": [
      "Test_Loader: 100%|██████████| 288/288 [00:26<00:00, 10.73it/s]\n"
     ]
    },
    {
     "name": "stdout",
     "output_type": "stream",
     "text": [
      "Loss1: 0.4525, Loss2: 0.1896, Loss3: 0.5826\n"
     ]
    },
    {
     "name": "stderr",
     "output_type": "stream",
     "text": [
      "Test_Loader: 100%|██████████| 288/288 [00:26<00:00, 10.87it/s]\n"
     ]
    },
    {
     "name": "stdout",
     "output_type": "stream",
     "text": [
      "Loss1: 0.4481, Loss2: 0.1881, Loss3: 0.5807\n"
     ]
    },
    {
     "name": "stderr",
     "output_type": "stream",
     "text": [
      "Test_Loader: 100%|██████████| 288/288 [00:27<00:00, 10.45it/s]\n"
     ]
    },
    {
     "name": "stdout",
     "output_type": "stream",
     "text": [
      "Loss1: 0.4369, Loss2: 0.1874, Loss3: 0.5832\n"
     ]
    },
    {
     "name": "stderr",
     "output_type": "stream",
     "text": [
      "Test_Loader: 100%|██████████| 288/288 [00:28<00:00, 10.08it/s]\n"
     ]
    },
    {
     "name": "stdout",
     "output_type": "stream",
     "text": [
      "Loss1: 0.4347, Loss2: 0.1849, Loss3: 0.5805\n"
     ]
    },
    {
     "name": "stderr",
     "output_type": "stream",
     "text": [
      "Test_Loader: 100%|██████████| 288/288 [00:26<00:00, 10.69it/s]\n"
     ]
    },
    {
     "name": "stdout",
     "output_type": "stream",
     "text": [
      "Loss1: 0.4282, Loss2: 0.1858, Loss3: 0.5794\n"
     ]
    },
    {
     "name": "stderr",
     "output_type": "stream",
     "text": [
      "Test_Loader: 100%|██████████| 288/288 [00:26<00:00, 10.77it/s]\n"
     ]
    },
    {
     "name": "stdout",
     "output_type": "stream",
     "text": [
      "Loss1: 0.4371, Loss2: 0.1937, Loss3: 0.6208\n"
     ]
    },
    {
     "name": "stderr",
     "output_type": "stream",
     "text": [
      "Test_Loader: 100%|██████████| 288/288 [00:27<00:00, 10.36it/s]\n"
     ]
    },
    {
     "name": "stdout",
     "output_type": "stream",
     "text": [
      "Loss1: 0.4233, Loss2: 0.1919, Loss3: 0.6152\n"
     ]
    },
    {
     "name": "stderr",
     "output_type": "stream",
     "text": [
      "Test_Loader: 100%|██████████| 288/288 [00:27<00:00, 10.32it/s]\n"
     ]
    },
    {
     "name": "stdout",
     "output_type": "stream",
     "text": [
      "Loss1: 0.4233, Loss2: 0.1913, Loss3: 0.6203\n"
     ]
    },
    {
     "name": "stderr",
     "output_type": "stream",
     "text": [
      "Test_Loader: 100%|██████████| 288/288 [00:27<00:00, 10.37it/s]\n"
     ]
    },
    {
     "name": "stdout",
     "output_type": "stream",
     "text": [
      "Loss1: 0.4306, Loss2: 0.1910, Loss3: 0.6161\n"
     ]
    },
    {
     "name": "stderr",
     "output_type": "stream",
     "text": [
      "Test_Loader: 100%|██████████| 288/288 [00:27<00:00, 10.46it/s]\n"
     ]
    },
    {
     "name": "stdout",
     "output_type": "stream",
     "text": [
      "Loss1: 0.4365, Loss2: 0.1925, Loss3: 0.6515\n"
     ]
    },
    {
     "name": "stderr",
     "output_type": "stream",
     "text": [
      "Test_Loader: 100%|██████████| 288/288 [00:27<00:00, 10.39it/s]\n"
     ]
    },
    {
     "name": "stdout",
     "output_type": "stream",
     "text": [
      "Loss1: 0.4394, Loss2: 0.1916, Loss3: 0.6507\n"
     ]
    },
    {
     "name": "stderr",
     "output_type": "stream",
     "text": [
      "Test_Loader: 100%|██████████| 288/288 [00:27<00:00, 10.44it/s]\n"
     ]
    },
    {
     "name": "stdout",
     "output_type": "stream",
     "text": [
      "Loss1: 0.4357, Loss2: 0.1915, Loss3: 0.6547\n"
     ]
    },
    {
     "name": "stderr",
     "output_type": "stream",
     "text": [
      "Test_Loader: 100%|██████████| 288/288 [00:27<00:00, 10.46it/s]\n"
     ]
    },
    {
     "name": "stdout",
     "output_type": "stream",
     "text": [
      "Loss1: 0.4525, Loss2: 0.1917, Loss3: 0.6531\n"
     ]
    },
    {
     "name": "stderr",
     "output_type": "stream",
     "text": [
      "Test_Loader: 100%|██████████| 288/288 [00:26<00:00, 10.73it/s]\n"
     ]
    },
    {
     "name": "stdout",
     "output_type": "stream",
     "text": [
      "Loss1: 0.4403, Loss2: 0.1916, Loss3: 0.6549\n"
     ]
    },
    {
     "name": "stderr",
     "output_type": "stream",
     "text": [
      "Test_Loader: 100%|██████████| 288/288 [00:26<00:00, 10.71it/s]\n"
     ]
    },
    {
     "name": "stdout",
     "output_type": "stream",
     "text": [
      "Loss1: 0.4516, Loss2: 0.1850, Loss3: 0.6635\n"
     ]
    },
    {
     "name": "stderr",
     "output_type": "stream",
     "text": [
      "Test_Loader: 100%|██████████| 288/288 [00:28<00:00, 10.08it/s]\n"
     ]
    },
    {
     "name": "stdout",
     "output_type": "stream",
     "text": [
      "Loss1: 0.4474, Loss2: 0.1878, Loss3: 0.6761\n"
     ]
    },
    {
     "name": "stderr",
     "output_type": "stream",
     "text": [
      "Test_Loader: 100%|██████████| 288/288 [00:28<00:00, 10.04it/s]\n"
     ]
    },
    {
     "name": "stdout",
     "output_type": "stream",
     "text": [
      "Loss1: 0.4299, Loss2: 0.1775, Loss3: 0.6485\n"
     ]
    },
    {
     "name": "stderr",
     "output_type": "stream",
     "text": [
      "Test_Loader: 100%|██████████| 288/288 [00:27<00:00, 10.50it/s]\n"
     ]
    },
    {
     "name": "stdout",
     "output_type": "stream",
     "text": [
      "Loss1: 0.4237, Loss2: 0.1783, Loss3: 0.6469\n"
     ]
    },
    {
     "name": "stderr",
     "output_type": "stream",
     "text": [
      "Test_Loader: 100%|██████████| 288/288 [00:27<00:00, 10.63it/s]\n"
     ]
    },
    {
     "name": "stdout",
     "output_type": "stream",
     "text": [
      "Loss1: 0.4284, Loss2: 0.1766, Loss3: 0.6432\n"
     ]
    },
    {
     "name": "stderr",
     "output_type": "stream",
     "text": [
      "Test_Loader: 100%|██████████| 288/288 [00:27<00:00, 10.55it/s]\n"
     ]
    },
    {
     "name": "stdout",
     "output_type": "stream",
     "text": [
      "Loss1: 0.4171, Loss2: 0.1782, Loss3: 0.6472\n"
     ]
    },
    {
     "name": "stderr",
     "output_type": "stream",
     "text": [
      "Test_Loader: 100%|██████████| 288/288 [00:27<00:00, 10.34it/s]\n"
     ]
    },
    {
     "name": "stdout",
     "output_type": "stream",
     "text": [
      "Loss1: 0.4236, Loss2: 0.1757, Loss3: 0.6344\n"
     ]
    },
    {
     "name": "stderr",
     "output_type": "stream",
     "text": [
      "Test_Loader: 100%|██████████| 288/288 [00:27<00:00, 10.37it/s]\n"
     ]
    },
    {
     "name": "stdout",
     "output_type": "stream",
     "text": [
      "Loss1: 0.4120, Loss2: 0.1690, Loss3: 0.6263\n"
     ]
    },
    {
     "name": "stderr",
     "output_type": "stream",
     "text": [
      "Test_Loader: 100%|██████████| 288/288 [00:28<00:00, 10.24it/s]\n"
     ]
    },
    {
     "name": "stdout",
     "output_type": "stream",
     "text": [
      "Loss1: 0.4061, Loss2: 0.1605, Loss3: 0.6137\n"
     ]
    },
    {
     "name": "stderr",
     "output_type": "stream",
     "text": [
      "Test_Loader: 100%|██████████| 288/288 [00:28<00:00, 10.21it/s]\n"
     ]
    },
    {
     "name": "stdout",
     "output_type": "stream",
     "text": [
      "Loss1: 0.4025, Loss2: 0.1581, Loss3: 0.6056\n"
     ]
    },
    {
     "name": "stderr",
     "output_type": "stream",
     "text": [
      "Test_Loader: 100%|██████████| 288/288 [00:27<00:00, 10.29it/s]\n"
     ]
    },
    {
     "name": "stdout",
     "output_type": "stream",
     "text": [
      "Loss1: 0.3995, Loss2: 0.1573, Loss3: 0.6104\n"
     ]
    },
    {
     "name": "stderr",
     "output_type": "stream",
     "text": [
      "Test_Loader: 100%|██████████| 288/288 [00:27<00:00, 10.31it/s]\n"
     ]
    },
    {
     "name": "stdout",
     "output_type": "stream",
     "text": [
      "Loss1: 0.3955, Loss2: 0.1559, Loss3: 0.6066\n"
     ]
    },
    {
     "name": "stderr",
     "output_type": "stream",
     "text": [
      "Test_Loader: 100%|██████████| 288/288 [00:27<00:00, 10.60it/s]\n"
     ]
    },
    {
     "name": "stdout",
     "output_type": "stream",
     "text": [
      "Loss1: 0.3917, Loss2: 0.1555, Loss3: 0.6025\n"
     ]
    },
    {
     "name": "stderr",
     "output_type": "stream",
     "text": [
      "Test_Loader: 100%|██████████| 288/288 [00:26<00:00, 10.73it/s]\n"
     ]
    },
    {
     "name": "stdout",
     "output_type": "stream",
     "text": [
      "Loss1: 0.3885, Loss2: 0.1516, Loss3: 0.5871\n"
     ]
    },
    {
     "name": "stderr",
     "output_type": "stream",
     "text": [
      "Test_Loader: 100%|██████████| 288/288 [00:28<00:00, 10.15it/s]\n"
     ]
    },
    {
     "name": "stdout",
     "output_type": "stream",
     "text": [
      "Loss1: 0.3931, Loss2: 0.1532, Loss3: 0.5912\n"
     ]
    },
    {
     "name": "stderr",
     "output_type": "stream",
     "text": [
      "Test_Loader: 100%|██████████| 288/288 [00:28<00:00, 10.15it/s]\n"
     ]
    },
    {
     "name": "stdout",
     "output_type": "stream",
     "text": [
      "Loss1: 0.3958, Loss2: 0.1538, Loss3: 0.5881\n"
     ]
    },
    {
     "name": "stderr",
     "output_type": "stream",
     "text": [
      "Test_Loader: 100%|██████████| 288/288 [00:27<00:00, 10.53it/s]\n"
     ]
    },
    {
     "name": "stdout",
     "output_type": "stream",
     "text": [
      "Loss1: 0.3894, Loss2: 0.1520, Loss3: 0.5919\n"
     ]
    },
    {
     "name": "stderr",
     "output_type": "stream",
     "text": [
      "Test_Loader: 100%|██████████| 288/288 [00:26<00:00, 10.69it/s]\n"
     ]
    },
    {
     "name": "stdout",
     "output_type": "stream",
     "text": [
      "Loss1: 0.3901, Loss2: 0.1520, Loss3: 0.5908\n"
     ]
    },
    {
     "name": "stderr",
     "output_type": "stream",
     "text": [
      "Test_Loader: 100%|██████████| 288/288 [00:27<00:00, 10.31it/s]\n"
     ]
    },
    {
     "name": "stdout",
     "output_type": "stream",
     "text": [
      "Loss1: 0.3871, Loss2: 0.1502, Loss3: 0.5885\n"
     ]
    },
    {
     "name": "stderr",
     "output_type": "stream",
     "text": [
      "Test_Loader: 100%|██████████| 288/288 [00:27<00:00, 10.65it/s]\n"
     ]
    },
    {
     "name": "stdout",
     "output_type": "stream",
     "text": [
      "Loss1: 0.3895, Loss2: 0.1506, Loss3: 0.5882\n"
     ]
    },
    {
     "name": "stderr",
     "output_type": "stream",
     "text": [
      "Test_Loader: 100%|██████████| 288/288 [00:26<00:00, 10.75it/s]\n"
     ]
    },
    {
     "name": "stdout",
     "output_type": "stream",
     "text": [
      "Loss1: 0.3871, Loss2: 0.1498, Loss3: 0.5865\n"
     ]
    },
    {
     "name": "stderr",
     "output_type": "stream",
     "text": [
      "Test_Loader: 100%|██████████| 288/288 [00:26<00:00, 10.80it/s]\n"
     ]
    },
    {
     "name": "stdout",
     "output_type": "stream",
     "text": [
      "Loss1: 0.3859, Loss2: 0.1495, Loss3: 0.5958\n"
     ]
    },
    {
     "name": "stderr",
     "output_type": "stream",
     "text": [
      "Test_Loader: 100%|██████████| 288/288 [00:26<00:00, 10.87it/s]\n"
     ]
    },
    {
     "name": "stdout",
     "output_type": "stream",
     "text": [
      "Loss1: 0.3886, Loss2: 0.1499, Loss3: 0.5905\n"
     ]
    },
    {
     "name": "stderr",
     "output_type": "stream",
     "text": [
      "Test_Loader: 100%|██████████| 288/288 [00:26<00:00, 10.91it/s]\n"
     ]
    },
    {
     "name": "stdout",
     "output_type": "stream",
     "text": [
      "Loss1: 0.3834, Loss2: 0.1495, Loss3: 0.5869\n"
     ]
    },
    {
     "name": "stderr",
     "output_type": "stream",
     "text": [
      "Test_Loader: 100%|██████████| 288/288 [00:26<00:00, 10.86it/s]\n"
     ]
    },
    {
     "name": "stdout",
     "output_type": "stream",
     "text": [
      "Loss1: 0.3819, Loss2: 0.1489, Loss3: 0.5883\n"
     ]
    },
    {
     "name": "stderr",
     "output_type": "stream",
     "text": [
      "Test_Loader: 100%|██████████| 288/288 [00:26<00:00, 10.96it/s]\n"
     ]
    },
    {
     "name": "stdout",
     "output_type": "stream",
     "text": [
      "Loss1: 0.3997, Loss2: 0.1482, Loss3: 0.5821\n"
     ]
    },
    {
     "name": "stderr",
     "output_type": "stream",
     "text": [
      "Test_Loader: 100%|██████████| 288/288 [00:26<00:00, 10.90it/s]\n"
     ]
    },
    {
     "name": "stdout",
     "output_type": "stream",
     "text": [
      "Loss1: 0.4093, Loss2: 0.1489, Loss3: 0.5801\n"
     ]
    },
    {
     "name": "stderr",
     "output_type": "stream",
     "text": [
      "Test_Loader: 100%|██████████| 288/288 [00:26<00:00, 10.71it/s]\n"
     ]
    },
    {
     "name": "stdout",
     "output_type": "stream",
     "text": [
      "Loss1: 0.4003, Loss2: 0.1463, Loss3: 0.5753\n"
     ]
    },
    {
     "name": "stderr",
     "output_type": "stream",
     "text": [
      "Test_Loader: 100%|██████████| 288/288 [00:27<00:00, 10.47it/s]\n"
     ]
    },
    {
     "name": "stdout",
     "output_type": "stream",
     "text": [
      "Loss1: 0.3968, Loss2: 0.1466, Loss3: 0.5719\n"
     ]
    },
    {
     "name": "stderr",
     "output_type": "stream",
     "text": [
      "Test_Loader: 100%|██████████| 288/288 [00:28<00:00, 10.20it/s]\n"
     ]
    },
    {
     "name": "stdout",
     "output_type": "stream",
     "text": [
      "Loss1: 0.3927, Loss2: 0.1446, Loss3: 0.5719\n"
     ]
    },
    {
     "name": "stderr",
     "output_type": "stream",
     "text": [
      "Test_Loader: 100%|██████████| 288/288 [00:26<00:00, 10.76it/s]\n"
     ]
    },
    {
     "name": "stdout",
     "output_type": "stream",
     "text": [
      "Loss1: 0.3927, Loss2: 0.1453, Loss3: 0.5720\n"
     ]
    },
    {
     "name": "stderr",
     "output_type": "stream",
     "text": [
      "Test_Loader: 100%|██████████| 288/288 [00:26<00:00, 10.85it/s]\n"
     ]
    },
    {
     "name": "stdout",
     "output_type": "stream",
     "text": [
      "Loss1: 0.3892, Loss2: 0.1441, Loss3: 0.5712\n"
     ]
    },
    {
     "name": "stderr",
     "output_type": "stream",
     "text": [
      "Test_Loader: 100%|██████████| 288/288 [00:27<00:00, 10.52it/s]\n"
     ]
    },
    {
     "name": "stdout",
     "output_type": "stream",
     "text": [
      "Loss1: 0.3840, Loss2: 0.1450, Loss3: 0.5806\n"
     ]
    },
    {
     "name": "stderr",
     "output_type": "stream",
     "text": [
      "Test_Loader: 100%|██████████| 288/288 [00:27<00:00, 10.30it/s]\n"
     ]
    },
    {
     "name": "stdout",
     "output_type": "stream",
     "text": [
      "Loss1: 0.3790, Loss2: 0.1436, Loss3: 0.5810\n"
     ]
    },
    {
     "name": "stderr",
     "output_type": "stream",
     "text": [
      "Test_Loader: 100%|██████████| 288/288 [00:27<00:00, 10.42it/s]\n"
     ]
    },
    {
     "name": "stdout",
     "output_type": "stream",
     "text": [
      "Loss1: 0.3768, Loss2: 0.1443, Loss3: 0.5718\n"
     ]
    },
    {
     "name": "stderr",
     "output_type": "stream",
     "text": [
      "Test_Loader: 100%|██████████| 288/288 [00:27<00:00, 10.38it/s]\n"
     ]
    },
    {
     "name": "stdout",
     "output_type": "stream",
     "text": [
      "Loss1: 0.3763, Loss2: 0.1428, Loss3: 0.5736\n"
     ]
    },
    {
     "name": "stderr",
     "output_type": "stream",
     "text": [
      "Test_Loader: 100%|██████████| 288/288 [00:28<00:00, 10.24it/s]\n"
     ]
    },
    {
     "name": "stdout",
     "output_type": "stream",
     "text": [
      "Loss1: 0.4504, Loss2: 0.2340, Loss3: 0.9210\n"
     ]
    },
    {
     "name": "stderr",
     "output_type": "stream",
     "text": [
      "Test_Loader: 100%|██████████| 288/288 [00:28<00:00, 10.28it/s]\n"
     ]
    },
    {
     "name": "stdout",
     "output_type": "stream",
     "text": [
      "Loss1: 0.4493, Loss2: 0.2303, Loss3: 0.9056\n"
     ]
    },
    {
     "name": "stderr",
     "output_type": "stream",
     "text": [
      "Test_Loader: 100%|██████████| 288/288 [00:27<00:00, 10.46it/s]\n"
     ]
    },
    {
     "name": "stdout",
     "output_type": "stream",
     "text": [
      "Loss1: 0.4499, Loss2: 0.2346, Loss3: 0.8950\n"
     ]
    },
    {
     "name": "stderr",
     "output_type": "stream",
     "text": [
      "Test_Loader: 100%|██████████| 288/288 [00:27<00:00, 10.52it/s]\n"
     ]
    },
    {
     "name": "stdout",
     "output_type": "stream",
     "text": [
      "Loss1: 0.4680, Loss2: 0.2345, Loss3: 0.9174\n"
     ]
    },
    {
     "name": "stderr",
     "output_type": "stream",
     "text": [
      "Test_Loader: 100%|██████████| 288/288 [00:27<00:00, 10.44it/s]\n"
     ]
    },
    {
     "name": "stdout",
     "output_type": "stream",
     "text": [
      "Loss1: 0.4619, Loss2: 0.2353, Loss3: 0.8899\n"
     ]
    },
    {
     "name": "stderr",
     "output_type": "stream",
     "text": [
      "Test_Loader: 100%|██████████| 288/288 [00:26<00:00, 10.77it/s]\n"
     ]
    },
    {
     "name": "stdout",
     "output_type": "stream",
     "text": [
      "Loss1: 0.4551, Loss2: 0.2293, Loss3: 0.8896\n"
     ]
    },
    {
     "name": "stderr",
     "output_type": "stream",
     "text": [
      "Test_Loader: 100%|██████████| 288/288 [00:26<00:00, 10.69it/s]\n"
     ]
    },
    {
     "name": "stdout",
     "output_type": "stream",
     "text": [
      "Loss1: 0.4509, Loss2: 0.2282, Loss3: 0.8722\n"
     ]
    },
    {
     "name": "stderr",
     "output_type": "stream",
     "text": [
      "Test_Loader: 100%|██████████| 288/288 [00:26<00:00, 10.67it/s]\n"
     ]
    },
    {
     "name": "stdout",
     "output_type": "stream",
     "text": [
      "Loss1: 0.4659, Loss2: 0.2319, Loss3: 0.8973\n"
     ]
    },
    {
     "name": "stderr",
     "output_type": "stream",
     "text": [
      "Test_Loader: 100%|██████████| 288/288 [00:27<00:00, 10.51it/s]\n"
     ]
    },
    {
     "name": "stdout",
     "output_type": "stream",
     "text": [
      "Loss1: 0.4564, Loss2: 0.2291, Loss3: 0.8739\n"
     ]
    },
    {
     "name": "stderr",
     "output_type": "stream",
     "text": [
      "Test_Loader: 100%|██████████| 288/288 [00:26<00:00, 10.69it/s]\n"
     ]
    },
    {
     "name": "stdout",
     "output_type": "stream",
     "text": [
      "Loss1: 0.4494, Loss2: 0.2231, Loss3: 0.8652\n"
     ]
    },
    {
     "name": "stderr",
     "output_type": "stream",
     "text": [
      "Test_Loader: 100%|██████████| 288/288 [00:27<00:00, 10.48it/s]\n"
     ]
    },
    {
     "name": "stdout",
     "output_type": "stream",
     "text": [
      "Loss1: 0.4485, Loss2: 0.2235, Loss3: 0.8495\n"
     ]
    },
    {
     "name": "stderr",
     "output_type": "stream",
     "text": [
      "Test_Loader: 100%|██████████| 288/288 [00:28<00:00, 10.21it/s]\n"
     ]
    },
    {
     "name": "stdout",
     "output_type": "stream",
     "text": [
      "Loss1: 0.4553, Loss2: 0.2271, Loss3: 0.8727\n"
     ]
    },
    {
     "name": "stderr",
     "output_type": "stream",
     "text": [
      "Test_Loader: 100%|██████████| 288/288 [00:28<00:00, 10.19it/s]\n"
     ]
    },
    {
     "name": "stdout",
     "output_type": "stream",
     "text": [
      "Loss1: 0.4611, Loss2: 0.2220, Loss3: 0.8584\n"
     ]
    },
    {
     "name": "stderr",
     "output_type": "stream",
     "text": [
      "Test_Loader: 100%|██████████| 288/288 [00:28<00:00, 10.12it/s]\n"
     ]
    },
    {
     "name": "stdout",
     "output_type": "stream",
     "text": [
      "Loss1: 0.4309, Loss2: 0.2089, Loss3: 0.8435\n"
     ]
    },
    {
     "name": "stderr",
     "output_type": "stream",
     "text": [
      "Test_Loader: 100%|██████████| 288/288 [00:28<00:00, 10.17it/s]\n"
     ]
    },
    {
     "name": "stdout",
     "output_type": "stream",
     "text": [
      "Loss1: 0.4275, Loss2: 0.2191, Loss3: 0.8468\n"
     ]
    },
    {
     "name": "stderr",
     "output_type": "stream",
     "text": [
      "Test_Loader: 100%|██████████| 288/288 [00:27<00:00, 10.59it/s]\n"
     ]
    },
    {
     "name": "stdout",
     "output_type": "stream",
     "text": [
      "Loss1: 0.4335, Loss2: 0.2152, Loss3: 0.8439\n"
     ]
    },
    {
     "name": "stderr",
     "output_type": "stream",
     "text": [
      "Test_Loader: 100%|██████████| 288/288 [00:26<00:00, 10.77it/s]\n"
     ]
    },
    {
     "name": "stdout",
     "output_type": "stream",
     "text": [
      "Loss1: 0.4420, Loss2: 0.2316, Loss3: 0.9066\n"
     ]
    },
    {
     "name": "stderr",
     "output_type": "stream",
     "text": [
      "Test_Loader: 100%|██████████| 288/288 [00:27<00:00, 10.44it/s]\n"
     ]
    },
    {
     "name": "stdout",
     "output_type": "stream",
     "text": [
      "Loss1: 0.4427, Loss2: 0.2269, Loss3: 0.8993\n"
     ]
    },
    {
     "name": "stderr",
     "output_type": "stream",
     "text": [
      "Test_Loader: 100%|██████████| 288/288 [00:29<00:00,  9.79it/s]\n"
     ]
    },
    {
     "name": "stdout",
     "output_type": "stream",
     "text": [
      "Loss1: 0.4834, Loss2: 0.2442, Loss3: 0.9419\n"
     ]
    },
    {
     "name": "stderr",
     "output_type": "stream",
     "text": [
      "Test_Loader: 100%|██████████| 288/288 [00:28<00:00, 10.22it/s]\n"
     ]
    },
    {
     "name": "stdout",
     "output_type": "stream",
     "text": [
      "Loss1: 0.4838, Loss2: 0.2406, Loss3: 0.9326\n"
     ]
    },
    {
     "name": "stderr",
     "output_type": "stream",
     "text": [
      "Test_Loader: 100%|██████████| 288/288 [00:27<00:00, 10.63it/s]\n"
     ]
    },
    {
     "name": "stdout",
     "output_type": "stream",
     "text": [
      "Loss1: 0.4878, Loss2: 0.2405, Loss3: 0.9360\n"
     ]
    },
    {
     "name": "stderr",
     "output_type": "stream",
     "text": [
      "Test_Loader: 100%|██████████| 288/288 [00:27<00:00, 10.51it/s]\n"
     ]
    },
    {
     "name": "stdout",
     "output_type": "stream",
     "text": [
      "Loss1: 0.4860, Loss2: 0.2357, Loss3: 0.9307\n"
     ]
    },
    {
     "name": "stderr",
     "output_type": "stream",
     "text": [
      "Test_Loader: 100%|██████████| 288/288 [00:25<00:00, 11.09it/s]\n"
     ]
    },
    {
     "name": "stdout",
     "output_type": "stream",
     "text": [
      "Loss1: 0.4855, Loss2: 0.2338, Loss3: 0.9213\n"
     ]
    },
    {
     "name": "stderr",
     "output_type": "stream",
     "text": [
      "Test_Loader: 100%|██████████| 288/288 [00:25<00:00, 11.12it/s]\n"
     ]
    },
    {
     "name": "stdout",
     "output_type": "stream",
     "text": [
      "Loss1: 0.4852, Loss2: 0.2331, Loss3: 0.9271\n"
     ]
    },
    {
     "name": "stderr",
     "output_type": "stream",
     "text": [
      "Test_Loader: 100%|██████████| 288/288 [00:25<00:00, 11.13it/s]\n"
     ]
    },
    {
     "name": "stdout",
     "output_type": "stream",
     "text": [
      "Loss1: 0.4873, Loss2: 0.2337, Loss3: 0.9168\n"
     ]
    },
    {
     "name": "stderr",
     "output_type": "stream",
     "text": [
      "Test_Loader: 100%|██████████| 288/288 [00:27<00:00, 10.41it/s]\n"
     ]
    },
    {
     "name": "stdout",
     "output_type": "stream",
     "text": [
      "Loss1: 0.4806, Loss2: 0.2318, Loss3: 0.9218\n"
     ]
    },
    {
     "name": "stderr",
     "output_type": "stream",
     "text": [
      "Test_Loader: 100%|██████████| 288/288 [00:27<00:00, 10.47it/s]\n"
     ]
    },
    {
     "name": "stdout",
     "output_type": "stream",
     "text": [
      "Loss1: 0.4801, Loss2: 0.2305, Loss3: 0.9114\n"
     ]
    },
    {
     "name": "stderr",
     "output_type": "stream",
     "text": [
      "Test_Loader: 100%|██████████| 288/288 [00:26<00:00, 11.00it/s]\n"
     ]
    },
    {
     "name": "stdout",
     "output_type": "stream",
     "text": [
      "Loss1: 0.4752, Loss2: 0.2290, Loss3: 0.9059\n"
     ]
    },
    {
     "name": "stderr",
     "output_type": "stream",
     "text": [
      "Test_Loader: 100%|██████████| 288/288 [00:25<00:00, 11.15it/s]\n"
     ]
    },
    {
     "name": "stdout",
     "output_type": "stream",
     "text": [
      "Loss1: 0.4750, Loss2: 0.2272, Loss3: 0.8941\n"
     ]
    },
    {
     "name": "stderr",
     "output_type": "stream",
     "text": [
      "Test_Loader: 100%|██████████| 288/288 [00:26<00:00, 10.88it/s]\n"
     ]
    },
    {
     "name": "stdout",
     "output_type": "stream",
     "text": [
      "Loss1: 0.4663, Loss2: 0.2254, Loss3: 0.8897\n"
     ]
    },
    {
     "name": "stderr",
     "output_type": "stream",
     "text": [
      "Test_Loader: 100%|██████████| 288/288 [00:26<00:00, 10.97it/s]\n"
     ]
    },
    {
     "name": "stdout",
     "output_type": "stream",
     "text": [
      "Loss1: 0.4727, Loss2: 0.2266, Loss3: 0.8927\n"
     ]
    },
    {
     "name": "stderr",
     "output_type": "stream",
     "text": [
      "Test_Loader: 100%|██████████| 288/288 [00:28<00:00, 10.01it/s]\n"
     ]
    },
    {
     "name": "stdout",
     "output_type": "stream",
     "text": [
      "Loss1: 0.4674, Loss2: 0.2290, Loss3: 0.8971\n"
     ]
    },
    {
     "name": "stderr",
     "output_type": "stream",
     "text": [
      "Test_Loader: 100%|██████████| 288/288 [00:27<00:00, 10.32it/s]\n"
     ]
    },
    {
     "name": "stdout",
     "output_type": "stream",
     "text": [
      "Loss1: 0.4701, Loss2: 0.2313, Loss3: 0.8884\n"
     ]
    },
    {
     "name": "stderr",
     "output_type": "stream",
     "text": [
      "Test_Loader: 100%|██████████| 288/288 [00:27<00:00, 10.59it/s]\n"
     ]
    },
    {
     "name": "stdout",
     "output_type": "stream",
     "text": [
      "Loss1: 0.4681, Loss2: 0.2303, Loss3: 0.8900\n"
     ]
    },
    {
     "name": "stderr",
     "output_type": "stream",
     "text": [
      "Test_Loader: 100%|██████████| 288/288 [00:27<00:00, 10.53it/s]\n"
     ]
    },
    {
     "name": "stdout",
     "output_type": "stream",
     "text": [
      "Loss1: 0.4694, Loss2: 0.2312, Loss3: 0.8887\n"
     ]
    },
    {
     "name": "stderr",
     "output_type": "stream",
     "text": [
      "Test_Loader: 100%|██████████| 288/288 [00:27<00:00, 10.46it/s]\n"
     ]
    },
    {
     "name": "stdout",
     "output_type": "stream",
     "text": [
      "Loss1: 0.4679, Loss2: 0.2297, Loss3: 0.8888\n"
     ]
    },
    {
     "name": "stderr",
     "output_type": "stream",
     "text": [
      "Test_Loader: 100%|██████████| 288/288 [00:26<00:00, 10.71it/s]\n"
     ]
    },
    {
     "name": "stdout",
     "output_type": "stream",
     "text": [
      "Loss1: 0.4766, Loss2: 0.2291, Loss3: 0.8399\n"
     ]
    },
    {
     "name": "stderr",
     "output_type": "stream",
     "text": [
      "Test_Loader: 100%|██████████| 288/288 [00:27<00:00, 10.58it/s]\n"
     ]
    },
    {
     "name": "stdout",
     "output_type": "stream",
     "text": [
      "Loss1: 0.4754, Loss2: 0.2285, Loss3: 0.8410\n"
     ]
    },
    {
     "name": "stderr",
     "output_type": "stream",
     "text": [
      "Test_Loader: 100%|██████████| 288/288 [00:28<00:00, 10.17it/s]\n"
     ]
    },
    {
     "name": "stdout",
     "output_type": "stream",
     "text": [
      "Loss1: 0.4909, Loss2: 0.2291, Loss3: 0.8473\n"
     ]
    },
    {
     "name": "stderr",
     "output_type": "stream",
     "text": [
      "Test_Loader: 100%|██████████| 288/288 [00:28<00:00, 10.23it/s]\n"
     ]
    },
    {
     "name": "stdout",
     "output_type": "stream",
     "text": [
      "Loss1: 0.4891, Loss2: 0.2282, Loss3: 0.8521\n"
     ]
    },
    {
     "name": "stderr",
     "output_type": "stream",
     "text": [
      "Test_Loader: 100%|██████████| 288/288 [00:28<00:00, 10.19it/s]\n"
     ]
    },
    {
     "name": "stdout",
     "output_type": "stream",
     "text": [
      "Loss1: 0.4924, Loss2: 0.2289, Loss3: 0.8386\n"
     ]
    },
    {
     "name": "stderr",
     "output_type": "stream",
     "text": [
      "Test_Loader: 100%|██████████| 288/288 [00:27<00:00, 10.33it/s]\n"
     ]
    },
    {
     "name": "stdout",
     "output_type": "stream",
     "text": [
      "Loss1: 0.4885, Loss2: 0.2261, Loss3: 0.8391\n"
     ]
    },
    {
     "name": "stderr",
     "output_type": "stream",
     "text": [
      "Test_Loader: 100%|██████████| 288/288 [00:26<00:00, 10.68it/s]\n"
     ]
    },
    {
     "name": "stdout",
     "output_type": "stream",
     "text": [
      "Loss1: 0.4796, Loss2: 0.2219, Loss3: 0.8350\n"
     ]
    },
    {
     "name": "stderr",
     "output_type": "stream",
     "text": [
      "Test_Loader: 100%|██████████| 288/288 [00:27<00:00, 10.62it/s]\n"
     ]
    },
    {
     "name": "stdout",
     "output_type": "stream",
     "text": [
      "Loss1: 0.4792, Loss2: 0.2216, Loss3: 0.8303\n"
     ]
    },
    {
     "name": "stderr",
     "output_type": "stream",
     "text": [
      "Test_Loader: 100%|██████████| 288/288 [00:28<00:00, 10.07it/s]\n"
     ]
    },
    {
     "name": "stdout",
     "output_type": "stream",
     "text": [
      "Loss1: 0.4749, Loss2: 0.2205, Loss3: 0.8194\n"
     ]
    },
    {
     "name": "stderr",
     "output_type": "stream",
     "text": [
      "Test_Loader: 100%|██████████| 288/288 [00:27<00:00, 10.56it/s]\n"
     ]
    },
    {
     "name": "stdout",
     "output_type": "stream",
     "text": [
      "Loss1: 0.5023, Loss2: 0.2341, Loss3: 0.8329\n"
     ]
    },
    {
     "name": "stderr",
     "output_type": "stream",
     "text": [
      "Test_Loader: 100%|██████████| 288/288 [00:27<00:00, 10.47it/s]\n"
     ]
    },
    {
     "name": "stdout",
     "output_type": "stream",
     "text": [
      "Loss1: 0.4998, Loss2: 0.2311, Loss3: 0.8232\n"
     ]
    },
    {
     "name": "stderr",
     "output_type": "stream",
     "text": [
      "Test_Loader: 100%|██████████| 288/288 [00:27<00:00, 10.63it/s]\n"
     ]
    },
    {
     "name": "stdout",
     "output_type": "stream",
     "text": [
      "Loss1: 0.4989, Loss2: 0.2312, Loss3: 0.8154\n"
     ]
    },
    {
     "name": "stderr",
     "output_type": "stream",
     "text": [
      "Test_Loader: 100%|██████████| 288/288 [00:27<00:00, 10.49it/s]\n"
     ]
    },
    {
     "name": "stdout",
     "output_type": "stream",
     "text": [
      "Loss1: 0.4963, Loss2: 0.2299, Loss3: 0.8167\n"
     ]
    },
    {
     "name": "stderr",
     "output_type": "stream",
     "text": [
      "Test_Loader: 100%|██████████| 288/288 [00:27<00:00, 10.58it/s]\n"
     ]
    },
    {
     "name": "stdout",
     "output_type": "stream",
     "text": [
      "Loss1: 0.5209, Loss2: 0.2323, Loss3: 0.8270\n"
     ]
    },
    {
     "name": "stderr",
     "output_type": "stream",
     "text": [
      "Test_Loader: 100%|██████████| 288/288 [00:28<00:00, 10.27it/s]\n"
     ]
    },
    {
     "name": "stdout",
     "output_type": "stream",
     "text": [
      "Loss1: 0.5605, Loss2: 0.2376, Loss3: 0.8566\n"
     ]
    },
    {
     "name": "stderr",
     "output_type": "stream",
     "text": [
      "Test_Loader: 100%|██████████| 288/288 [00:28<00:00, 10.21it/s]\n"
     ]
    },
    {
     "name": "stdout",
     "output_type": "stream",
     "text": [
      "Loss1: 0.5467, Loss2: 0.2271, Loss3: 0.8022\n"
     ]
    },
    {
     "name": "stderr",
     "output_type": "stream",
     "text": [
      "Test_Loader: 100%|██████████| 288/288 [00:28<00:00, 10.24it/s]\n"
     ]
    },
    {
     "name": "stdout",
     "output_type": "stream",
     "text": [
      "Loss1: 0.5611, Loss2: 0.2312, Loss3: 0.8091\n"
     ]
    },
    {
     "name": "stderr",
     "output_type": "stream",
     "text": [
      "Test_Loader: 100%|██████████| 288/288 [00:26<00:00, 10.69it/s]\n"
     ]
    },
    {
     "name": "stdout",
     "output_type": "stream",
     "text": [
      "Loss1: 0.5552, Loss2: 0.2290, Loss3: 0.8033\n"
     ]
    },
    {
     "name": "stderr",
     "output_type": "stream",
     "text": [
      "Test_Loader: 100%|██████████| 288/288 [00:26<00:00, 10.86it/s]\n"
     ]
    },
    {
     "name": "stdout",
     "output_type": "stream",
     "text": [
      "Loss1: 0.5623, Loss2: 0.2284, Loss3: 0.8114\n"
     ]
    },
    {
     "name": "stderr",
     "output_type": "stream",
     "text": [
      "Test_Loader: 100%|██████████| 288/288 [00:26<00:00, 10.88it/s]\n"
     ]
    },
    {
     "name": "stdout",
     "output_type": "stream",
     "text": [
      "Loss1: 0.5454, Loss2: 0.2281, Loss3: 0.7752\n"
     ]
    },
    {
     "name": "stderr",
     "output_type": "stream",
     "text": [
      "Test_Loader: 100%|██████████| 288/288 [00:27<00:00, 10.61it/s]\n"
     ]
    },
    {
     "name": "stdout",
     "output_type": "stream",
     "text": [
      "Loss1: 0.5475, Loss2: 0.2257, Loss3: 0.7772\n"
     ]
    },
    {
     "name": "stderr",
     "output_type": "stream",
     "text": [
      "Test_Loader: 100%|██████████| 288/288 [00:28<00:00,  9.98it/s]\n"
     ]
    },
    {
     "name": "stdout",
     "output_type": "stream",
     "text": [
      "Loss1: 0.5493, Loss2: 0.2275, Loss3: 0.7746\n"
     ]
    },
    {
     "name": "stderr",
     "output_type": "stream",
     "text": [
      "Test_Loader: 100%|██████████| 288/288 [00:28<00:00, 10.10it/s]\n"
     ]
    },
    {
     "name": "stdout",
     "output_type": "stream",
     "text": [
      "Loss1: 0.5352, Loss2: 0.2247, Loss3: 0.7700\n"
     ]
    },
    {
     "name": "stderr",
     "output_type": "stream",
     "text": [
      "Test_Loader: 100%|██████████| 288/288 [00:27<00:00, 10.59it/s]\n"
     ]
    },
    {
     "name": "stdout",
     "output_type": "stream",
     "text": [
      "Loss1: 0.5374, Loss2: 0.2255, Loss3: 0.7669\n"
     ]
    },
    {
     "name": "stderr",
     "output_type": "stream",
     "text": [
      "Test_Loader: 100%|██████████| 288/288 [00:26<00:00, 10.78it/s]\n"
     ]
    },
    {
     "name": "stdout",
     "output_type": "stream",
     "text": [
      "Loss1: 0.5330, Loss2: 0.2246, Loss3: 0.7609\n"
     ]
    },
    {
     "name": "stderr",
     "output_type": "stream",
     "text": [
      "Test_Loader: 100%|██████████| 288/288 [00:27<00:00, 10.42it/s]\n"
     ]
    },
    {
     "name": "stdout",
     "output_type": "stream",
     "text": [
      "Loss1: 0.5215, Loss2: 0.2223, Loss3: 0.7483\n"
     ]
    },
    {
     "name": "stderr",
     "output_type": "stream",
     "text": [
      "Test_Loader: 100%|██████████| 288/288 [00:27<00:00, 10.56it/s]"
     ]
    },
    {
     "name": "stdout",
     "output_type": "stream",
     "text": [
      "Loss1: 0.5240, Loss2: 0.2223, Loss3: 0.7443\n"
     ]
    },
    {
     "name": "stderr",
     "output_type": "stream",
     "text": [
      "\n"
     ]
    }
   ],
   "source": [
    "if __name__ == '__main__':\n",
    "      random.seed(args.seed)  # 设置Python随机种子\n",
    "      torch.manual_seed(args.seed)  # 设置PyTorch随机种子\n",
    "      exp_init()      \n",
    "      IO = IOStream('outputs/' + args.exp_name + '/run.log')\n",
    "      IO.cprint(str(table_printer(args)))  \n",
    "\n",
    "      train_dataset = CustomDataset(args, dataset_type='train')\n",
    "      val_dataset = CustomDataset(args, dataset_type='val')\n",
    "      test_dataset = CustomDataset(args, dataset_type='test')\n",
    "      train_dataloader = DataLoader(train_dataset, batch_size=1, shuffle=False, drop_last=True)\n",
    "      val_dataloader = DataLoader(val_dataset, batch_size=1, shuffle=False, drop_last=True)\n",
    "      test_dataloader = DataLoader(test_dataset, batch_size=1, shuffle=False, drop_last=True)\n",
    "\n",
    "      # 读取节点压力、节点用水量、管道流量数据 \n",
    "      NodePressure = pd.read_csv(args.water_pressure_file, header=0, index_col=0)\n",
    "      PipeFlow = pd.read_csv(args.water_flow_file, header=0, index_col=0)\n",
    "      NodeDemand = pd.read_csv(args.water_demand_file, header=0, index_col=0)\n",
    "      max_pressure = NodePressure.max().max()\n",
    "      min_pressure = NodePressure.min().min()\n",
    "      # 不要乘以1000，要按m3/s进行计算\n",
    "      max_flow = PipeFlow.max().max() \n",
    "      min_flow = PipeFlow.min().min()\n",
    "      max_demand = NodeDemand.max().max()\n",
    "      min_demand = (NodeDemand.iloc[:, :-1]).min().min()                          \n",
    "      # TODO 这里要是0，最小值在水库取得为负。\n",
    "      \n",
    "      # 转换为PyTorch张量并移动到CUDA设备\n",
    "      min_pressure = torch.tensor(min_pressure).to(args.device)\n",
    "      max_pressure = torch.tensor(max_pressure).to(args.device)\n",
    "      min_flow = torch.tensor(min_flow).to(args.device)\n",
    "      max_flow = torch.tensor(max_flow).to(args.device)\n",
    "\n",
    "    #   (pressure_True, pressure_Est, flow_True, flow_Est, demand_True, demand_Est,\n",
    "    #    train_loss1_list, train_loss2_list, train_loss3_list,\n",
    "    #    val_loss1_list, val_loss2_list, val_loss3_list) = train(\n",
    "    #    args, IO, train_dataloader, val_dataloader, min_pressure, max_pressure, min_flow, max_flow, min_demand, max_demand)\n",
    "      \n",
    "      (Loss1, Loss2, Loss3,\n",
    "       MAE_pressure, MAE_flow, MAE_demand, \n",
    "       MAPE_pressure, MAPE_flow, MAPE_demand,\n",
    "       R2_pressure, R2_flow, R2_demand) = test(\n",
    "      args, IO, test_dataloader, min_pressure, max_pressure, min_flow, max_flow, min_demand, max_demand) "
   ]
  },
  {
   "cell_type": "code",
   "execution_count": 17,
   "metadata": {},
   "outputs": [],
   "source": [
    "# 创建输出目录\n",
    "output_dir = 'outputs3/DataManage' \n",
    "os.makedirs(output_dir, exist_ok=True)  "
   ]
  },
  {
   "cell_type": "code",
   "execution_count": 18,
   "metadata": {},
   "outputs": [],
   "source": [
    "# # 数据输出到csv文件 \n",
    "# save_pressure_True = pressure_True.cpu().detach().numpy().astype(float)\n",
    "# save_pressure_Est = pressure_Est.cpu().detach().numpy().astype(float)\n",
    "# save_flow_True = flow_True.cpu().detach().numpy().astype(float)\n",
    "# save_flow_Est = flow_Est.cpu().detach().numpy().astype(float)\n",
    "# save_demand_True = demand_True.cpu().detach().numpy().astype(float)\n",
    "# save_demand_Est = demand_Est.cpu().detach().numpy().astype(float)\n",
    "\n",
    "# np.savetxt(os.path.join(output_dir, 'pressure_True.csv'), save_pressure_True, delimiter=',')\n",
    "# np.savetxt(os.path.join(output_dir, 'pressure_Est.csv'), save_pressure_Est, delimiter=',')\n",
    "# np.savetxt(os.path.join(output_dir, 'flow_True.csv'), save_flow_True, delimiter=',')  \n",
    "# np.savetxt(os.path.join(output_dir, 'flow_Est.csv'), save_flow_Est, delimiter=',')\n",
    "# np.savetxt(os.path.join(output_dir, 'demand_True.csv'), save_demand_True, delimiter=',')\n",
    "# np.savetxt(os.path.join(output_dir, 'demand_Est.csv'), save_demand_Est, delimiter=',')"
   ]
  },
  {
   "cell_type": "code",
   "execution_count": 19,
   "metadata": {},
   "outputs": [],
   "source": [
    "# 泛化保存 (MAE_pressure, MAE_flow, MAE_demand, MAPE_pressure, MAPE_flow, MAPE_demand, R2_pressure, R2_flow, R2_demand) \n",
    "MAE_pressure = pd.DataFrame(MAE_pressure)\n",
    "MAE_flow = pd.DataFrame(MAE_flow)\n",
    "MAE_demand = pd.DataFrame(MAE_demand)\n",
    "\n",
    "MAPE_pressure = pd.DataFrame(MAPE_pressure)\n",
    "MAPE_flow = pd.DataFrame(MAPE_flow)\n",
    "MAPE_demand = pd.DataFrame(MAPE_demand)\n",
    "\n",
    "R2_pressure = pd.DataFrame(R2_pressure)\n",
    "R2_flow = pd.DataFrame(R2_flow)\n",
    "R2_demand = pd.DataFrame(R2_demand)\n",
    "\n",
    "# 保存结果\n",
    "Loss1 = pd.DataFrame(Loss1)\n",
    "Loss2 = pd.DataFrame(Loss2)\n",
    "Loss3 = pd.DataFrame(Loss3)\n",
    "Loss1.to_csv(os.path.join(output_dir, 'Coservation1_generalization.csv'), index=False)\n",
    "Loss2.to_csv(os.path.join(output_dir, 'Coservation2_generalization.csv'), index=False)\n",
    "Loss3.to_csv(os.path.join(output_dir, 'Coservation3_generalization.csv'), index=False)\n",
    "\n",
    "MAE_pressure.to_csv(os.path.join(output_dir, 'MAE_pressure_generalization.csv'), index=False)\n",
    "MAE_flow.to_csv(os.path.join(output_dir, 'MAE_flow_generalization.csv'), index=False)\n",
    "MAE_demand.to_csv(os.path.join(output_dir, 'MAE_demand_generalization.csv'), index=False)\n",
    "\n",
    "MAPE_pressure.to_csv(os.path.join(output_dir, 'MAPE_pressure_generalization.csv'), index=False)\n",
    "MAPE_flow.to_csv(os.path.join(output_dir, 'MAPE_flow_generalization.csv'), index=False)\n",
    "MAPE_demand.to_csv(os.path.join(output_dir, 'MAPE_demand_generalization.csv'), index=False)\n",
    "\n",
    "R2_pressure.to_csv(os.path.join(output_dir, 'R2_pressure_generalization.csv'), index=False)\n",
    "R2_flow.to_csv(os.path.join(output_dir, 'R2_flow_generalization.csv'), index=False)\n",
    "R2_demand.to_csv(os.path.join(output_dir, 'R2_demand_generalization.csv'), index=False)"
   ]
  }
 ],
 "metadata": {
  "kernelspec": {
   "display_name": "pytorch",
   "language": "python",
   "name": "python3"
  },
  "language_info": {
   "codemirror_mode": {
    "name": "ipython",
    "version": 3
   },
   "file_extension": ".py",
   "mimetype": "text/x-python",
   "name": "python",
   "nbconvert_exporter": "python",
   "pygments_lexer": "ipython3",
   "version": "3.12.3"
  }
 },
 "nbformat": 4,
 "nbformat_minor": 2
}
