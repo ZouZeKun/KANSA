{
 "cells": [
  {
   "cell_type": "code",
   "execution_count": 17,
   "metadata": {},
   "outputs": [],
   "source": [
    "import os, random, argparse, json, time\n",
    "from tqdm import tqdm, trange\n",
    "\n",
    "import numpy as np\n",
    "import pandas as pd\n",
    "import matplotlib.pyplot as plt\n",
    "\n",
    "import torch\n",
    "import torch.nn as nn\n",
    "\n",
    "from texttable import Texttable\n",
    "from typing import Union, Tuple, Dict, List\n",
    "\n",
    "import torch.optim as optim\n",
    "import torch.nn.functional as F\n",
    "from torch.utils.data import Dataset\n",
    "from torch_geometric.data import Data\n",
    "from torch_geometric.loader import DataLoader"
   ]
  },
  {
   "cell_type": "markdown",
   "metadata": {},
   "source": [
    "# Parameter"
   ]
  },
  {
   "cell_type": "code",
   "execution_count": 18,
   "metadata": {},
   "outputs": [],
   "source": [
    "def parse_args():\n",
    "    parser = argparse.ArgumentParser()  \n",
    "\n",
    "    parser.add_argument('--seed', type=int, default=10, help='Random seed of the experiment')\n",
    "    parser.add_argument('--exp_name', type=str, default='Exp', help='Name of the experiment')\n",
    "    \n",
    "    parser.add_argument('--num_step', type=int, default=8640, help='4*24*90=8640') # TODO 90days\n",
    "    parser.add_argument('--batch_size', type=int, default=96, help='Size of the batch') \n",
    "    parser.add_argument('--train_ratio' , type=float, default=3/6, help='train set ratio') \n",
    "    parser.add_argument('--val_ratio'   , type=float, default=1/6, help='validation set ratio')\n",
    "    parser.add_argument('--test_ratio'  , type=float, default=2/6, help='test set ratio') \n",
    "\n",
    "    parser.add_argument('--num_history', type=int, default=1, help='Number of historical time steps') \n",
    "    parser.add_argument('--ChebyshevDegree', type=int, default=8, help='degree of KAN') \n",
    "    parser.add_argument('--FourierDegree', type=int, default=6, help='degree of KAN') \n",
    "\n",
    "    parser.add_argument('--num_nodes', type=int, default=24, help='Number of nodes in the graph')\n",
    "    parser.add_argument('--num_edges', type=int, default=34, help='Number of edges in the graph') \n",
    "    parser.add_argument('--hidden_dim', type=int, default=12, help='Dimension of the hidden layers') \n",
    "    \n",
    "    parser.add_argument('--max_epoch', type=int, default=50, help='Maximum number of epochs') \n",
    "    parser.add_argument('--learning_rate', type=float, default=2e-5, help='Learning rate of Adam') \n",
    "    \n",
    "    # L1-norm\n",
    "    parser.add_argument('--l1_lambda', type=float, default=0.00, help='L1 regularization coefficient')\n",
    "    # L2-norm\n",
    "    parser.add_argument('--l2_lambda', type=float, default=0.00, help='L2 regularization coefficient')\n",
    "\n",
    "    parser.add_argument('--gamma', type=float, default=0.95, help='decay parameter') \n",
    "    parser.add_argument('--decay_epoch', type=float, default=1, help='decay epoch') \n",
    "    parser.add_argument('--patience', type=int, default=10, help='Patience parameter for early stopping') \n",
    "\n",
    "    parser.add_argument('--pressure_sensor_name', type=str, default='[\"4\", \"13\", \"14\", \"23\", \"24\"]', help='pressure sensor index')\n",
    "    parser.add_argument('--flow_sensor_name', type=str, default='[\"4\", \"7\", \"25\", \"28\", \"34\"]', help='flow sensor index')\n",
    "    parser.add_argument('--demand_sensor_name', type=str, default='[\"2\", \"6\", \"19\", \"22\", \"24\"]', help='demand sensor index')\n",
    "    \n",
    "    parser.add_argument('--water_pressure_file', type=str, default=\"D:/GraphormerForRobustness/Graphormer/实验设计/KANSA/dataset/simulate_pressure3.csv\")\n",
    "    parser.add_argument('--water_flow_file', type=str, default=\"D:/GraphormerForRobustness/Graphormer/实验设计/KANSA/dataset/simulate_flow3.csv\")\n",
    "    parser.add_argument('--water_demand_file', type=str, default=\"D:/GraphormerForRobustness/Graphormer/实验设计/KANSA/dataset/simulate_demand3.csv\")\n",
    "\t\n",
    "    parser.add_argument('--node_file', type=str, default='D:/GraphormerForRobustness/Graphormer/实验设计/KANSA/dataset/node_features_Apulia.csv') # (Reserved Interface)\n",
    "    parser.add_argument('--edge_file', type=str, default='D:/GraphormerForRobustness/Graphormer/实验设计/KANSA/dataset/edge_index_dir.csv') \t   # (Reserved Interface)\n",
    "\n",
    "    parser.add_argument('--incidence_file', type=str, default='D:/GraphormerForRobustness/Graphormer/实验设计/KANSA/dataset/initial_incidence_matrix_dir.csv')\n",
    "    parser.add_argument('--cycle_file', type=str, default='D:/GraphormerForRobustness/Graphormer/实验设计/KANSA/dataset/initial_cycle_matrix_dir.csv')\n",
    "\n",
    "    args = parser.parse_args(args=[])  \n",
    "\n",
    "    args.device = torch.device(\"cuda\" if torch.cuda.is_available() else \"cpu\")\n",
    "\n",
    "    return args"
   ]
  },
  {
   "cell_type": "markdown",
   "metadata": {},
   "source": [
    "# Loss Function"
   ]
  },
  {
   "cell_type": "code",
   "execution_count": 19,
   "metadata": {},
   "outputs": [],
   "source": [
    "# 损失函数 MSE\n",
    "class ConservationConstraints(nn.Module):\n",
    "    def __init__(self):\n",
    "        super(ConservationConstraints, self).__init__()\n",
    "\n",
    "    def forward(self, pressure_Y, flow_Y, demand_Y, PipeFriction, IncidenceMatrix, CycleMatrix):\n",
    "        \n",
    "        # Conservation Constraints —— (10.67 Q^1.852L)/(C^1.852 D^4.87)\n",
    "        PipeFriction = PipeFriction.view(1, 1, -1) \n",
    "        pipe_pressure_minus = (abs(flow_Y)**1.852) * PipeFriction \n",
    "        pipe_pressure_minus = torch.where(flow_Y > 0, \n",
    "                                        pipe_pressure_minus, \n",
    "                                        -pipe_pressure_minus)\n",
    "\n",
    "        loss2_1 = torch.sum((torch.abs((flow_Y @ IncidenceMatrix.t()) + demand_Y)*100)** 2)/96           #  100 -->  targer<0.01  (Nodal flow equation)\n",
    "        loss2_2 = torch.sum((torch.abs((pipe_pressure_minus @ CycleMatrix.t()))*10)** 2)/96              #  10  -->  targer<0.1   (loop energy equation)\n",
    "        loss2_3 = torch.sum((torch.abs((pressure_Y @ IncidenceMatrix) - pipe_pressure_minus)*10)** 2)/96 #  10  -->  targer<0.1   (Pipe pressure drop equation)\n",
    "\n",
    "        return loss2_1, loss2_2, loss2_3"
   ]
  },
  {
   "cell_type": "code",
   "execution_count": 20,
   "metadata": {},
   "outputs": [],
   "source": [
    "class ConservationConstraints_generalization(nn.Module):\n",
    "    def __init__(self):\n",
    "        super(ConservationConstraints_generalization, self).__init__()\n",
    "        \n",
    "    def forward(self, pressure_Y, flow_Y, demand_Y, PipeFriction, IncidenceMatrix, CycleMatrix):\n",
    "        \n",
    "        # Conservation Constraints —— (10.67 Q^1.852L)/(C^1.852 D^4.87)\n",
    "        PipeFriction = PipeFriction.view(1,  -1) \n",
    "        pipe_pressure_minus = (abs(flow_Y)**1.852) * PipeFriction \n",
    "        pipe_pressure_minus = torch.where(flow_Y > 0, \n",
    "                                        pipe_pressure_minus, \n",
    "                                        -pipe_pressure_minus)\n",
    "        loss2_1 = torch.sum((torch.abs((flow_Y @ IncidenceMatrix.t()) + demand_Y))** 2, dim=0)/96            #  100 -->  targer<0.01 (Nodal flow equation)\n",
    "        loss2_2 = torch.sum((torch.abs((pipe_pressure_minus @ CycleMatrix.t())))** 2, dim=0)/96              #  10  -->  targer<0.1  (loop energy equation)\n",
    "        loss2_3 = torch.sum((torch.abs((pressure_Y @ IncidenceMatrix) - pipe_pressure_minus))** 2, dim=0)/96 #  10  -->  targer<0.1  (Pipe pressure drop equation)\n",
    "        \n",
    "        return loss2_1, loss2_2, loss2_3"
   ]
  },
  {
   "cell_type": "markdown",
   "metadata": {},
   "source": [
    "# Masking"
   ]
  },
  {
   "cell_type": "code",
   "execution_count": 21,
   "metadata": {},
   "outputs": [],
   "source": [
    "def apply_mask(args, pressure_data, flow_data, demand_data):\n",
    "    ''' \n",
    "    生成两步掩码：一步掩码张量用于掩盖只剩传感器，二步掩码张量用于继续掩盖传感器\n",
    "    1. 只有传感器：masked_tensor1 / 掩码方式：mask1\n",
    "    2. 再对传感器进行掩盖：masked_tensor2 / 掩码方式：mask2\n",
    "    '''\n",
    "    pressure_sensor_name = json.loads(args.pressure_sensor_name)\n",
    "    flow_sensor_name = json.loads(args.flow_sensor_name)\n",
    "    demand_sensor_name = json.loads(args.demand_sensor_name)\n",
    "\n",
    "    pressure_sensor_index = [int(i)-1 for i in pressure_sensor_name]\n",
    "    flow_sensor_index = [int(i)-1 for i in flow_sensor_name]\n",
    "    demand_sensor_index = [int(i)-1 for i in demand_sensor_name]\n",
    "\n",
    "    mask1_pressure = torch.zeros(pressure_data.shape)\n",
    "    mask1_flow     = torch.zeros(flow_data.shape)\n",
    "    mask1_demand   = torch.zeros(pressure_data.shape)\n",
    "    mask1_pressure[:,pressure_sensor_index] = 1\n",
    "    mask1_flow[:,flow_sensor_index] = 1\n",
    "    mask1_demand[:,demand_sensor_index] = 1\n",
    "    mask1_demand_reduced = mask1_demand[:, :-1]\n",
    "\n",
    "    mask1_pressure = mask1_pressure.to(args.device)\n",
    "    mask1_flow = mask1_flow.to(args.device)\n",
    "    mask1_demand_reduced = mask1_demand_reduced.to(args.device)\n",
    "    \n",
    "    return (mask1_pressure, mask1_flow, mask1_demand_reduced)"
   ]
  },
  {
   "cell_type": "markdown",
   "metadata": {},
   "source": [
    "# DATA"
   ]
  },
  {
   "cell_type": "code",
   "execution_count": 22,
   "metadata": {},
   "outputs": [],
   "source": [
    "def seq2instance(args, data):\n",
    "    num_step, dims = data.shape\n",
    "    # Each additional step generates a training sample.\n",
    "    num_sample = num_step - args.batch_size - args.batch_size + 1\n",
    "\n",
    "    x = torch.zeros(num_sample, args.batch_size, dims)\n",
    "    y = torch.zeros(num_sample, args.batch_size, dims)\n",
    "    \n",
    "    for i in range(num_sample):\n",
    "        x[i] = data[i: i + args.batch_size]\n",
    "        y[i] = data[i: i + args.batch_size]\n",
    "    return x, y\n",
    "\n",
    "class CustomDataset(Dataset):\n",
    "    def __init__(self, args, dataset_type='train'):\n",
    "        self.args = args\n",
    "        self.dataset_type = dataset_type\n",
    "        \n",
    "        train_steps = round(args.train_ratio * args.num_step)\n",
    "        test_steps = round(args.test_ratio * args.num_step)\n",
    "        val_steps = args.num_step - train_steps - test_steps\n",
    "\n",
    "        NodePressure = pd.read_csv(args.water_pressure_file, header=0, index_col=0)\n",
    "        PipeFlow = pd.read_csv(args.water_flow_file, header=0, index_col=0)\n",
    "        NodeDemand = pd.read_csv(args.water_demand_file, header=0, index_col=0)\n",
    "\n",
    "        # global min-max \n",
    "        NodePressure_ = (NodePressure - NodePressure.min().min()) / (NodePressure.max().max() - NodePressure.min().min())\n",
    "        PipeFlow_ = (PipeFlow - PipeFlow.min().min()) / (PipeFlow.max().max() - PipeFlow.min().min())\n",
    "        NodeDemand_ = (NodeDemand - (NodeDemand.iloc[:, :-1]).min().min()) / (NodeDemand.max().max() - (NodeDemand.iloc[:, :-1]).min().min())\n",
    "\n",
    "        NodePressure = torch.FloatTensor(NodePressure_.values)\n",
    "        PipeFlow = torch.FloatTensor(PipeFlow_.values)\n",
    "        NodeDemand = torch.FloatTensor(NodeDemand_.values)\n",
    "\n",
    "        # split dataset\n",
    "        self.train_pressure = NodePressure[: train_steps]\n",
    "        self.train_flow     = PipeFlow[: train_steps]\n",
    "        self.train_demand   = NodeDemand[: train_steps]\n",
    "\n",
    "        self.val_pressure   = NodePressure[train_steps: train_steps + val_steps]\n",
    "        self.val_flow       = PipeFlow[train_steps: train_steps + val_steps]\n",
    "        self.val_demand     = NodeDemand[train_steps: train_steps + val_steps]\n",
    "\n",
    "        self.test_pressure  = NodePressure[-test_steps:]\n",
    "        self.test_flow      = PipeFlow[-test_steps:]\n",
    "        self.test_demand    = NodeDemand[-test_steps:]\n",
    "\n",
    "        self.trainX_pressure, self.trainY_pressure = seq2instance(args, self.train_pressure)\n",
    "        self.trainX_flow, self.trainY_flow = seq2instance(args, self.train_flow)\n",
    "        self.trainX_demand, self.trainY_demand = seq2instance(args, self.train_demand)\n",
    "\n",
    "        self.valX_pressure, self.valY_pressure = seq2instance(args, self.val_pressure)\n",
    "        self.valX_flow, self.valY_flow = seq2instance(args, self.val_flow)\n",
    "        self.valX_demand, self.valY_demand = seq2instance(args, self.val_demand)\n",
    "\n",
    "        self.testX_pressure, self.testY_pressure = seq2instance(args, self.test_pressure)\n",
    "        self.testX_flow, self.testY_flow = seq2instance(args, self.test_flow)\n",
    "        self.testX_demand, self.testY_demand = seq2instance(args, self.test_demand)\n",
    "\n",
    "    def __len__(self):\n",
    "        if self.dataset_type == 'train':\n",
    "            return len(self.trainX_pressure)\n",
    "        elif self.dataset_type == 'val':\n",
    "            return len(self.valX_pressure)\n",
    "        elif self.dataset_type == 'test':\n",
    "            return len(self.testX_pressure)\n",
    "        \n",
    "    def __getitem__(self, idx):\n",
    "        if self.dataset_type == 'train':\n",
    "            return (self.trainX_pressure[idx].to(self.args.device), self.trainY_pressure[idx].to(self.args.device),\n",
    "                    self.trainX_flow[idx].to(self.args.device), self.trainY_flow[idx].to(self.args.device),\n",
    "                    self.trainX_demand[idx].to(self.args.device), self.trainY_demand[idx].to(self.args.device)\n",
    "                    )\n",
    "        \n",
    "        elif self.dataset_type == 'val':\n",
    "            return (self.valX_pressure[idx].to(self.args.device), self.valY_pressure[idx].to(self.args.device),\n",
    "                    self.valX_flow[idx].to(self.args.device), self.valY_flow[idx].to(self.args.device),\n",
    "                    self.valX_demand[idx].to(self.args.device), self.valY_demand[idx].to(self.args.device)\n",
    "                    )\n",
    "\n",
    "        elif self.dataset_type == 'test':\n",
    "            return (self.testX_pressure[idx].to(self.args.device), self.testY_pressure[idx].to(self.args.device), \n",
    "                    self.testX_flow[idx].to(self.args.device), self.testY_flow[idx].to(self.args.device),\n",
    "                    self.testX_demand[idx].to(self.args.device), self.testY_demand[idx].to(self.args.device)\n",
    "                    )  "
   ]
  },
  {
   "cell_type": "code",
   "execution_count": 23,
   "metadata": {},
   "outputs": [],
   "source": [
    "def load_matrix(args):\n",
    "    # node file\n",
    "    nodes_df = pd.read_csv(args.node_file, header=0, index_col=0)\n",
    "    nodes_attr = torch.from_numpy(nodes_df.values).float().to(args.device)\n",
    "\n",
    "    # edge file —— edge weight (Hazen-Williams)\n",
    "    edge_df = pd.read_csv(args.edge_file, header=0, index_col=0)\n",
    "    edge_index  = edge_df.iloc[:, 0:2].T  \n",
    "    edge_attr = edge_df.iloc[:, 2:7]     \n",
    "    edge_index = torch.from_numpy(edge_index.values).long().to(args.device)\n",
    "    edge_attr = torch.from_numpy(edge_attr.values).float().to(args.device)\n",
    "\n",
    "    Graph_Data = Data(x=nodes_attr, edge_index=edge_index, edge_attr=edge_attr)\n",
    "\n",
    "    PipeFriction = edge_df.iloc[:, -1].values\n",
    "    pipe_friction = torch.from_numpy(PipeFriction).float().to(args.device)\n",
    "    \n",
    "    # incidence matrix\n",
    "    incidence_matrix_df = pd.read_csv(args.incidence_file, header=None, index_col=None)\n",
    "    incidence_matrix = torch.from_numpy(incidence_matrix_df.values).float().to(args.device)\n",
    "    # cycle matrix\n",
    "    cycle_matrix_df = pd.read_csv(args.cycle_file, header=0, index_col=0)\n",
    "    cycle_matrix = torch.from_numpy(cycle_matrix_df.values).float().to(args.device)\n",
    "\n",
    "    return Graph_Data, pipe_friction, incidence_matrix, cycle_matrix"
   ]
  },
  {
   "cell_type": "markdown",
   "metadata": {},
   "source": [
    "# Utiles"
   ]
  },
  {
   "cell_type": "code",
   "execution_count": 24,
   "metadata": {},
   "outputs": [],
   "source": [
    "class IOStream():\n",
    "    \"\"\"训练日志文件\"\"\"\n",
    "    def __init__(self, path):\n",
    "        self.file = open(path, 'a') \n",
    "\n",
    "    def cprint(self, text):\n",
    "        print(text)\n",
    "        self.file.write(text + '\\n')\n",
    "        self.file.flush() \n",
    "\n",
    "    def close(self):\n",
    "        self.file.close()\n",
    "\n",
    "def table_printer(args):\n",
    "    \"\"\"绘制参数表格\"\"\"\n",
    "    args = vars(args) \n",
    "    keys = sorted(args.keys()) \n",
    "    table = Texttable()\n",
    "    table.set_cols_dtype(['t', 't']) \n",
    "    rows = [[\"Parameter\", \"Value\"]] \n",
    "    for k in keys:\n",
    "        rows.append([k.replace(\"_\", \" \").capitalize(), str(args[k])]) \n",
    "    table.add_rows(rows)\n",
    "    return table.draw()"
   ]
  },
  {
   "cell_type": "markdown",
   "metadata": {},
   "source": [
    "# KAN Parts"
   ]
  },
  {
   "cell_type": "code",
   "execution_count": 25,
   "metadata": {},
   "outputs": [],
   "source": [
    "# 基于切比雪夫基函数的KAN层\n",
    "class ChebyshevKANLayer(nn.Module):\n",
    "    def __init__(self, input_dim, output_dim, degree):\n",
    "        super(ChebyshevKANLayer, self).__init__()\n",
    "        self.inputdim = input_dim\n",
    "        self.outdim = output_dim\n",
    "        self.ChebyshevDegree = degree\n",
    "        self.addbias  = True\n",
    "        self.cheby_coeffs = nn.Parameter(torch.empty(input_dim, output_dim, degree + 1))\n",
    "        nn.init.normal(self.cheby_coeffs, mean=0.0, std=1/(input_dim * (degree + 1)))\n",
    "        self.bias = nn.Parameter(torch.zeros(1, output_dim))\n",
    "\n",
    "    def forward(self, x):\n",
    "        xshp = x.shape                          # (seq_length, inputdim)\n",
    "        outshape = xshp[0:-1] + (self.outdim,)  # (seq_length, outdim)\n",
    "        x = x.view(-1, self.inputdim)           # (seq_length, inputdim)\n",
    "\n",
    "        x = torch.tanh(x)\n",
    "\n",
    "        cheby = torch.ones(x.shape[0], self.inputdim, self.ChebyshevDegree + 1, device=x.device)\n",
    "        if self.ChebyshevDegree > 0:\n",
    "            cheby[:, :, 1] = x\n",
    "        for i in range(2, self.ChebyshevDegree + 1):\n",
    "            cheby[:, :, i] = 2 * x * cheby[:, :, i - 1].clone() - cheby[:, :, i - 2].clone()\n",
    "\n",
    "        # Compute the Chebyshev interpolation\n",
    "        # (seq_length, inputdim, degree+1) x (inputdim, output_dim, degree+1) -> (seq_length, output_dim)\n",
    "        y = torch.einsum('bid,iod->bo', cheby, self.cheby_coeffs)\n",
    "\n",
    "        # y += self.bias\n",
    "\n",
    "        y = y.view(outshape) \n",
    "        \n",
    "        return y"
   ]
  },
  {
   "cell_type": "code",
   "execution_count": 26,
   "metadata": {},
   "outputs": [],
   "source": [
    "# 傅里叶基函数\n",
    "class FourierKANLayer(nn.Module):\n",
    "    def __init__(self, input_dim, output_dim, degree):\n",
    "        super(FourierKANLayer,self).__init__()\n",
    "        self.gridsize = degree\n",
    "        self.addbias  = True\n",
    "        self.inputdim = input_dim\n",
    "        self.outdim = output_dim\n",
    "\n",
    "        self.fouriercoeffs = nn.Parameter(\n",
    "                    torch.randn(2, output_dim, input_dim, degree) / \n",
    "                    (np.sqrt(input_dim) * np.sqrt(self.gridsize))\n",
    "                     )\n",
    "        nn.init.normal(self.fouriercoeffs, mean=0.0, std=1 / (np.sqrt(input_dim) * np.sqrt(self.gridsize)))\n",
    "        \n",
    "        self.bias = nn.Parameter(torch.zeros(1, output_dim))\n",
    "\n",
    "    def forward(self, x):\n",
    "        xshp = x.shape                          # (batch_size, seq_length, inputdim)\n",
    "        outshape = xshp[0:-1] + (self.outdim,)  # (batch_size, seq_lengtha, outdim)\n",
    "        x = torch.tanh(x)     \n",
    "\n",
    "        x = x.view(-1, self.inputdim)           # (batch_size*seq_length, inputdim)\n",
    "\n",
    "        # Fourier basis function -- (1, 1, 1, gridsize)\n",
    "        k = torch.reshape(torch.arange(1, self.gridsize+1, device=x.device), (1, 1, 1, self.gridsize))\n",
    "        xrshp = x.view(x.shape[0], 1, x.shape[1], 1)   # (batch_size*seq_length, 1, inputdim, 1)\n",
    "\n",
    "        c = torch.cos(k * xrshp)\n",
    "        s = torch.sin(k * xrshp)\n",
    "\n",
    "        y1 = torch.sum(c * self.fouriercoeffs[0:1], (-2, -1)) \n",
    "        y2 = torch.sum(s * self.fouriercoeffs[1:2], (-2, -1))\n",
    "\n",
    "        y = y1 + y2\n",
    "        \n",
    "        # y += self.bias\n",
    "\n",
    "        # (batch_size, seq_length, outdim)\n",
    "        y = y.view(outshape) \n",
    "        \n",
    "        return y\n",
    "        "
   ]
  },
  {
   "cell_type": "code",
   "execution_count": 27,
   "metadata": {},
   "outputs": [],
   "source": [
    "# 注意力机制\n",
    "class Attention(nn.Module):\n",
    "    def __init__(self, hidden_size):\n",
    "        super(Attention, self).__init__()\n",
    "        self.query_layer = nn.Linear(hidden_size, hidden_size)\n",
    "        self.key_layer   = nn.Linear(hidden_size, hidden_size)\n",
    "        self.value_layer = nn.Linear(hidden_size, hidden_size)\n",
    "\n",
    "        self.layer_norm  = nn.LayerNorm(hidden_size)\n",
    "\n",
    "    def forward(self, attention_from, attention_to):\n",
    "        # 计算注意力分数\n",
    "        query = self.query_layer(attention_from)    # (batch_size, hidden_size)\n",
    "        key = self.key_layer(attention_to)          # (batch_size, hidden_size)\n",
    "        value = self.value_layer(attention_from)    # (batch_size, hidden_size)\n",
    "\n",
    "        # 计算注意力权重\n",
    "        scores = torch.matmul(query, key.T)                # (batch_size, batch_size)\n",
    "        attention_weights = F.softmax(scores, dim=-1)     \n",
    "\n",
    "        # 计算加权输出\n",
    "        output = torch.matmul(attention_weights, value)  # (batch_size, hidden_size)\n",
    "        output = self.layer_norm(output)  # (batch_size, hidden_size)\n",
    "\n",
    "        return output"
   ]
  },
  {
   "cell_type": "markdown",
   "metadata": {},
   "source": [
    "# model"
   ]
  },
  {
   "cell_type": "code",
   "execution_count": 28,
   "metadata": {},
   "outputs": [],
   "source": [
    "class KANSA(nn.Module):\n",
    "    def __init__(self, args):\n",
    "        \"\"\"\n",
    "        :param num_layers: number of KANSA layers\n",
    "\n",
    "        :param input_node_dim: input dimension of node features\n",
    "        :param input_edge_dim: input dimension of edge features\n",
    "\n",
    "        :param max_path_distance: max pairwise distance between two nodes\n",
    "        \"\"\"\n",
    "        super().__init__()\n",
    "        self.batch_size = args.batch_size\n",
    "        self.ChebyshevDegree = args.ChebyshevDegree\n",
    "        self.FourierDegree = args.FourierDegree\n",
    "\n",
    "        self.num_nodes = args.num_nodes\n",
    "        self.num_edges = args.num_edges\n",
    "        self.hidden_dim = args.hidden_dim\n",
    "\n",
    "        ''' input ''' \n",
    "        # Temporal features\n",
    "        self.flow_batch = nn.Sequential(\n",
    "            nn.Linear(self.batch_size, self.hidden_dim),  \n",
    "            nn.Linear(self.hidden_dim, self.batch_size),\n",
    "            FourierKANLayer(self.batch_size, self.hidden_dim, self.FourierDegree),  \n",
    "            FourierKANLayer(self.hidden_dim, self.batch_size, self.FourierDegree),   \n",
    "            nn.LayerNorm(self.batch_size),            \n",
    "            )\n",
    "        self.pressure_batch = nn.Sequential(\n",
    "            nn.Linear(self.batch_size, self.hidden_dim), \n",
    "            nn.Linear(self.hidden_dim, self.batch_size),\n",
    "            FourierKANLayer(self.batch_size, self.hidden_dim, self.FourierDegree), \n",
    "            FourierKANLayer(self.hidden_dim, self.batch_size, self.FourierDegree),   \n",
    "            nn.LayerNorm(self.batch_size),    \n",
    "            )\n",
    "        self.demand_batch = nn.Sequential(\n",
    "            nn.Linear(self.batch_size, self.hidden_dim), \n",
    "            nn.Linear(self.hidden_dim, self.batch_size),\n",
    "            FourierKANLayer(self.batch_size, self.hidden_dim, self.FourierDegree),   \n",
    "            FourierKANLayer(self.hidden_dim, self.batch_size, self.FourierDegree),   \n",
    "            nn.LayerNorm(self.batch_size),      \n",
    "            )\n",
    "        # Spatial features\n",
    "        self.flow_features = nn.Sequential(\n",
    "            nn.Linear(self.num_edges, self.hidden_dim),\n",
    "            nn.Linear(self.hidden_dim, self.num_edges), \n",
    "            ChebyshevKANLayer(self.num_edges, self.hidden_dim, self.ChebyshevDegree),\n",
    "            ChebyshevKANLayer(self.hidden_dim, self.num_edges, self.ChebyshevDegree), \n",
    "            nn.LayerNorm(self.num_edges),\n",
    "            )\n",
    "        self.pressure_features = nn.Sequential(\n",
    "            nn.Linear(self.num_nodes, self.hidden_dim),\n",
    "            nn.Linear(self.hidden_dim, self.num_nodes),\n",
    "            ChebyshevKANLayer(self.num_nodes, self.hidden_dim, self.ChebyshevDegree),\n",
    "            ChebyshevKANLayer(self.hidden_dim, self.num_nodes, self.ChebyshevDegree), \n",
    "            nn.LayerNorm(self.num_nodes), \n",
    "            )\n",
    "        self.demand_features = nn.Sequential(\n",
    "            nn.Linear(self.num_nodes-1, self.hidden_dim),\n",
    "            nn.Linear(self.hidden_dim, self.num_nodes-1),\n",
    "            ChebyshevKANLayer(self.num_nodes-1, self.hidden_dim, self.ChebyshevDegree),\n",
    "            ChebyshevKANLayer(self.hidden_dim, self.num_nodes-1, self.ChebyshevDegree), \n",
    "            nn.LayerNorm(self.num_nodes-1), \n",
    "            )\n",
    "        # Self-attention temporal\n",
    "        self.attention_pressure_batch = Attention(self.batch_size)\n",
    "        self.attention_flow_batch     = Attention(self.batch_size)\n",
    "        self.attention_demand_batch   = Attention(self.batch_size)\n",
    "        # Self-attention spatial\n",
    "        self.attention_pressure_features = Attention(self.num_nodes)\n",
    "        self.attention_flow_features     = Attention(self.num_edges)\n",
    "        self.attention_demand_features   = Attention(self.num_nodes-1)\n",
    "\n",
    "        self.pressure_1 = nn.Sequential(\n",
    "            nn.LayerNorm(self.num_nodes),\n",
    "            ChebyshevKANLayer(self.num_nodes, self.hidden_dim, self.ChebyshevDegree),\n",
    "            ChebyshevKANLayer(self.hidden_dim, self.hidden_dim, self.ChebyshevDegree)\n",
    "            )\n",
    "        self.pressure_2 = nn.Sequential(\n",
    "            nn.LayerNorm(self.num_nodes),\n",
    "            ChebyshevKANLayer(self.num_nodes, self.hidden_dim, self.ChebyshevDegree),\n",
    "            ChebyshevKANLayer(self.hidden_dim, self.hidden_dim, self.ChebyshevDegree),\n",
    "            )\n",
    "        self.flow_1 = nn.Sequential(\n",
    "            nn.LayerNorm(self.num_edges),\n",
    "            ChebyshevKANLayer(self.num_edges, self.hidden_dim, self.ChebyshevDegree),\n",
    "            ChebyshevKANLayer(self.hidden_dim, self.hidden_dim, self.ChebyshevDegree),\n",
    "            )\n",
    "        self.flow_2 = nn.Sequential(\n",
    "            nn.LayerNorm(self.num_edges),\n",
    "            ChebyshevKANLayer(self.num_edges, self.hidden_dim, self.ChebyshevDegree),\n",
    "            ChebyshevKANLayer(self.hidden_dim, self.hidden_dim, self.ChebyshevDegree),\n",
    "            )\n",
    "        self.demand_1 = nn.Sequential(\n",
    "            nn.LayerNorm(self.num_nodes-1),\n",
    "            ChebyshevKANLayer(self.num_nodes-1, self.hidden_dim, self.ChebyshevDegree),\n",
    "            ChebyshevKANLayer(self.hidden_dim, self.hidden_dim, self.ChebyshevDegree),\n",
    "            )\n",
    "        self.demand_2 = nn.Sequential(\n",
    "            nn.LayerNorm(self.num_nodes-1),\n",
    "            ChebyshevKANLayer(self.num_nodes-1, self.hidden_dim, self.ChebyshevDegree),\n",
    "            ChebyshevKANLayer(self.hidden_dim, self.hidden_dim, self.ChebyshevDegree),\n",
    "            )\n",
    "\n",
    "        self.pressure_sum = nn.Sequential(\n",
    "            nn.LayerNorm(self.hidden_dim),\n",
    "            ChebyshevKANLayer(self.hidden_dim, 2*self.hidden_dim, self.ChebyshevDegree),\n",
    "            ChebyshevKANLayer(2*self.hidden_dim, 2*self.hidden_dim, self.ChebyshevDegree),\n",
    "            )\n",
    "        self.flow_sum = nn.Sequential(\n",
    "            nn.LayerNorm(self.hidden_dim),\n",
    "            ChebyshevKANLayer(self.hidden_dim, 2*self.hidden_dim, self.ChebyshevDegree),\n",
    "            ChebyshevKANLayer(2*self.hidden_dim, 2*self.hidden_dim, self.ChebyshevDegree),\n",
    "            )\n",
    "        self.demand_sum = nn.Sequential(\n",
    "            nn.LayerNorm(self.hidden_dim),\n",
    "            ChebyshevKANLayer(self.hidden_dim, 2*self.hidden_dim, self.ChebyshevDegree),\n",
    "            ChebyshevKANLayer(2*self.hidden_dim, 2*self.hidden_dim, self.ChebyshevDegree),\n",
    "            )\n",
    "\n",
    "        # Processor\n",
    "        self.graph = nn.Sequential(\n",
    "            nn.LayerNorm(3),\n",
    "            ChebyshevKANLayer(3, 12, self.ChebyshevDegree),\n",
    "            ChebyshevKANLayer(12, 1, self.ChebyshevDegree),\n",
    "            )\n",
    "\n",
    "        # Decoding\n",
    "        self.flow_out = nn.Sequential(\n",
    "            ChebyshevKANLayer(2*self.hidden_dim, 2*self.num_edges, self.ChebyshevDegree),\n",
    "            ChebyshevKANLayer(2*self.num_edges, self.num_edges, self.ChebyshevDegree),\n",
    "            nn.Linear(self.num_edges, self.num_edges),\n",
    "            nn.Linear(self.num_edges, self.num_edges),\n",
    "            nn.Sigmoid(),\n",
    "            )\n",
    "        self.pressure_out = nn.Sequential(\n",
    "            ChebyshevKANLayer(2*self.hidden_dim, 2*self.num_nodes, self.ChebyshevDegree),\n",
    "            ChebyshevKANLayer(2*self.num_nodes, self.num_nodes, self.ChebyshevDegree),\n",
    "            nn.Linear(self.num_nodes, self.num_nodes),\n",
    "            nn.Linear(self.num_nodes, self.num_nodes),\n",
    "            nn.Sigmoid(),\n",
    "            )\n",
    "        # The last column of Demand is negative (only the previous columns are estimated)\n",
    "        self.demand_out = nn.Sequential(\n",
    "            ChebyshevKANLayer(2*self.hidden_dim, 2*self.num_nodes, self.ChebyshevDegree),\n",
    "            ChebyshevKANLayer(2*self.num_nodes, self.num_nodes-1, self.ChebyshevDegree),\n",
    "            nn.Linear(self.num_nodes-1, self.num_nodes-1),\n",
    "            nn.Linear(self.num_nodes-1, self.num_nodes-1),\n",
    "            nn.Sigmoid(),\n",
    "            )\n",
    "\n",
    "    def forward(self, Graph_Data, \n",
    "                mask_pressure, mask_flow, mask_demand,\n",
    "                pressure, flow, demand) -> Tuple[torch.Tensor, torch.Tensor]:\n",
    "\n",
    "        pressure_ = pressure.float()     # (batch_size, num_nodes)\n",
    "        flow_ = flow.float()             # (batch_size, num_edges)\n",
    "        demand_ = demand.float()         # (batch_size, num_nodes)\n",
    "\n",
    "        # Temporal\n",
    "        pressure_batch      = self.pressure_batch(pressure_.T)     # (batch_size, num_nodes)\n",
    "        flow_batch          = self.flow_batch(flow_.T)             # (batch_size, num_edges)\n",
    "        demand_batch        = self.demand_batch(demand_.T)         # (batch_size, num_nodes)\n",
    "        pressure_batch      = (self.attention_pressure_batch(pressure_batch, pressure_.T)).T       # (batch_size, num_nodes)\n",
    "        flow_batch          = (self.attention_flow_batch(flow_batch, flow_.T)).T                   # (batch_size, num_edges)\n",
    "        demand_batch        = (self.attention_demand_batch(demand_batch, demand_.T)).T             # (batch_size, num_nodes)\n",
    "        # Spatial\n",
    "        pressure_features   = self.pressure_features(pressure_)    # (batch_size, num_nodes)\n",
    "        flow_features       = self.flow_features(flow_)            # (batch_size, num_edges)\n",
    "        demand_features     = self.demand_features(demand_)        # (batch_size, num_nodes)\n",
    "        pressure_features   = self.attention_pressure_features(pressure_features, pressure_)       # (batch_size, num_nodes)\n",
    "        flow_features       = self.attention_flow_features(flow_features, flow_)                   # (batch_size, num_edges)\n",
    "        demand_features     = self.attention_demand_features(demand_features, demand_)             # (batch_size, num_nodes)\n",
    "\n",
    "        #  \"*\" is better\n",
    "        pressure_batch_    = self.pressure_1(pressure_batch * (1-mask_pressure) + pressure_)\n",
    "        pressure_features_ = self.pressure_2(pressure_features * (1-mask_pressure) + pressure_)\n",
    "        pressure_st_       = pressure_batch_ * pressure_features_\n",
    "        flow_batch_        = self.flow_1(flow_batch * (1-mask_flow) + flow_)\n",
    "        flow_features_     = self.flow_2(flow_features * (1-mask_flow) + flow_)\n",
    "        flow_st_           = flow_batch_ * flow_features_  \n",
    "        demand_batch_      = self.demand_1(demand_batch * (1-mask_demand)  + demand_)\n",
    "        demand_features_   = self.demand_2(demand_features * (1-mask_demand) + demand_)\n",
    "        demand_st_         = demand_batch_ * demand_features_\n",
    "\n",
    "        # Concat --> Processor\n",
    "        Graph_features = torch.cat((self.pressure_sum(pressure_st_).unsqueeze(-1), \n",
    "                                    self.flow_sum(flow_st_).unsqueeze(-1), \n",
    "                                    self.demand_sum(demand_st_).unsqueeze(-1)), \n",
    "                                    dim=-1)\n",
    "        graph_features = self.graph(Graph_features).squeeze(-1)\n",
    "\n",
    "        # Decoding\n",
    "        # Residual connection directly replaces the output\n",
    "        pressure_dd = self.pressure_out(graph_features) * (1-mask_pressure)   + pressure_ \n",
    "        flow_dd = self.flow_out(graph_features)         * (1-mask_flow)       + flow_ \n",
    "        demand_dd = self.demand_out(graph_features)     * (1-mask_demand)     + demand_\n",
    "\n",
    "        return pressure_dd, flow_dd, demand_dd"
   ]
  },
  {
   "cell_type": "markdown",
   "metadata": {},
   "source": [
    "# Main"
   ]
  },
  {
   "cell_type": "code",
   "execution_count": 29,
   "metadata": {},
   "outputs": [],
   "source": [
    "def train(args, IO,  train_loader, val_loader, \n",
    "        min_pressure, max_pressure, min_flow, max_flow, min_demand, max_demand):\n",
    "    best_val_loss = float('inf')\n",
    "    patience = args.patience  \n",
    "    patience_counter = 0\n",
    "\n",
    "    device = torch.device('cuda' if torch.cuda.is_available() else 'cpu')\n",
    "    torch.cuda.manual_seed(args.seed)  \n",
    "    \n",
    "    Graph_Data, pipe_friction, incidence_matrix, cycle_matrix = load_matrix(args)\n",
    "\n",
    "    model = KANSA(args).to(device)\n",
    "\n",
    "    IO.cprint(str(model))\n",
    "    total_params = sum(p.numel() for p in model.parameters() if p.requires_grad)\n",
    "    IO.cprint('Model Parameter: {}'.format(total_params))\n",
    "    \n",
    "    # RMSprop  (Trick)\n",
    "    optimizer = optim.RMSprop(model.parameters(), lr=args.learning_rate)\n",
    "    scheduler = optim.lr_scheduler.StepLR(optimizer,\n",
    "                                        step_size=args.decay_epoch,\n",
    "                                        gamma=args.gamma)\n",
    "    IO.cprint('Using RMSprop')\n",
    "\n",
    "    # Loss Function\n",
    "    criterion = ConservationConstraints()\n",
    "    # Save\n",
    "    train_loss1_list = []\n",
    "    train_loss2_list = []\n",
    "    train_loss3_list = []\n",
    "    val_loss1_list = []\n",
    "    val_loss2_list = []\n",
    "    val_loss3_list = []\n",
    "    start_time = time.time()\n",
    "    for epoch in range(args.max_epoch):\n",
    "        #################\n",
    "        ###   Train   ###\n",
    "        #################\n",
    "        model.train()  \n",
    "        train_loss1 = 0.0 \n",
    "        train_loss2 = 0.0\n",
    "        train_loss3 = 0.0\n",
    "        pressure_True = torch.Tensor().to(args.device)\n",
    "        pressure_Est  = torch.Tensor().to(args.device)\n",
    "        flow_True     = torch.Tensor().to(args.device)\n",
    "        flow_Est      = torch.Tensor().to(args.device)\n",
    "        demand_True   = torch.Tensor().to(args.device)\n",
    "        demand_Est    = torch.Tensor().to(args.device)\n",
    "\n",
    "        for i, data in tqdm(enumerate(train_loader), total=len(train_loader), desc=\"Train_Loader\"):\n",
    "            # 加载数据\n",
    "            (train_pressureX, train_pressureY, \n",
    "            train_flowX, train_flowY, \n",
    "            train_demandX, train_demandY) = data\n",
    "            train_pressureX = train_pressureX.squeeze(0)\n",
    "            train_flowX     = train_flowX.squeeze(0)\n",
    "            train_demandX   = train_demandX.squeeze(0)\n",
    "\n",
    "            # Random Masking\n",
    "            (mask1_pressure, mask1_flow, mask1_demand)=apply_mask(args, train_pressureX, train_flowX, train_demandX)\n",
    "\n",
    "            # masking\n",
    "            train_pressureX_ = train_pressureX * mask1_pressure\n",
    "            train_flowX_     = train_flowX * mask1_flow\n",
    "            train_demandX_   = (train_demandX[:, :-1]) * mask1_demand\n",
    "\n",
    "            # model\n",
    "            pressure_Y, flow_Y, demand_Y = model(Graph_Data, mask1_pressure, mask1_flow, mask1_demand, \n",
    "                                                train_pressureX_, train_flowX_, train_demandX_)\n",
    "            # Add last column to demand_Y\n",
    "            row_sums = torch.sum(demand_Y, dim=1, keepdim=True)\n",
    "            demand_Y = torch.cat((demand_Y, -row_sums), dim=1)\n",
    "\n",
    "            # min-max normalized reduction\n",
    "            pressure_Y = (pressure_Y * (max_pressure - min_pressure) + min_pressure)\n",
    "            flow_Y     = (flow_Y     * (max_flow     - min_flow)     + min_flow)\n",
    "            demand_Y   = (demand_Y   * (max_demand   - min_demand)   + min_demand)\n",
    "            train_pressureX  = (train_pressureX  * (max_pressure - min_pressure) + min_pressure)\n",
    "            train_pressureX_ = (train_pressureX_ * (max_pressure - min_pressure) + min_pressure)\n",
    "            train_flowX      = (train_flowX      * (max_flow     - min_flow)     + min_flow)\n",
    "            train_flowX_     = (train_flowX_     * (max_flow     - min_flow)     + min_flow)\n",
    "            train_demandX    = (train_demandX    * (max_demand   - min_demand)   + min_demand)\n",
    "            train_demandX_   = (train_demandX_   * (max_demand   - min_demand)   + min_demand)\n",
    "            \n",
    "            # Caculate Loss\n",
    "            (loss1, loss2, loss3) = criterion(pressure_Y, flow_Y, demand_Y, pipe_friction, incidence_matrix, cycle_matrix)\n",
    "\n",
    "            # Save Data\n",
    "            pressure_True = torch.cat((pressure_True, train_pressureX), 0)\n",
    "            pressure_Est  = torch.cat((pressure_Est, pressure_Y), 0)\n",
    "            flow_True     = torch.cat((flow_True,   train_flowX), 0)\n",
    "            flow_Est      = torch.cat((flow_Est,     flow_Y), 0)\n",
    "            demand_True   = torch.cat((demand_True, train_demandX), 0)\n",
    "            demand_Est    = torch.cat((demand_Est,   demand_Y), 0)\n",
    "\n",
    "            # l1+l2 norm \n",
    "            l1_norm = sum(p.abs().sum() for p in model.parameters())\n",
    "            l2_norm = sum(p.pow(2.0).sum() for p in model.parameters())\n",
    "            loss_ = loss1 + loss2 + loss3\n",
    "\n",
    "            loss = loss_ + args.l1_lambda * l1_norm + args.l2_lambda * l2_norm\n",
    "            loss.backward()\n",
    "\n",
    "            optimizer.step()\n",
    "            optimizer.zero_grad()\n",
    "\n",
    "            train_loss1 += (loss1).item()\n",
    "            train_loss2 += (loss2).item()\n",
    "            train_loss3 += (loss3).item()\n",
    "\n",
    "        scheduler.step()\n",
    "        avg_train_loss1 = (train_loss1) / len(train_loader.dataset)\n",
    "        avg_train_loss2 = (train_loss2) / len(train_loader.dataset)\n",
    "        avg_train_loss3 = (train_loss3) / len(train_loader.dataset)\n",
    "\n",
    "        train_loss1_list.append(avg_train_loss1)\n",
    "        train_loss2_list.append(avg_train_loss2)\n",
    "        train_loss3_list.append(avg_train_loss3)\n",
    "\n",
    "        IO.cprint('Epoch #{:03d}, Conservation1: {:.4f}, Conservation2: {:.4f}, Conservation3: {:.4f}'.format(\n",
    "                    epoch, (avg_train_loss1), (avg_train_loss2), (avg_train_loss3)\n",
    "                    ))\n",
    "\n",
    "        #################\n",
    "        ###   Valid   ###\n",
    "        #################\n",
    "        model.eval()\n",
    "        val_loss1 = 0.0\n",
    "        val_loss2 = 0.0\n",
    "        val_loss3 = 0.0\n",
    "        with torch.no_grad():\n",
    "            for i, data in tqdm(enumerate(val_loader), total=len(val_loader), desc=\"Val_Loader\"):\n",
    "\n",
    "                (val_pressureX, val_pressureY, \n",
    "                 val_flowX, val_flowY,\n",
    "                 val_demandX, val_demandY)= data\n",
    "                val_pressureX = val_pressureX.squeeze(0)\n",
    "                val_flowX     = val_flowX.squeeze(0)\n",
    "                val_demandX   = val_demandX.squeeze(0)\n",
    "\n",
    "                # Random Masking\n",
    "                (mask1_pressure, mask1_flow, mask1_demand)=apply_mask(args, val_pressureX, val_flowX, val_demandX)\n",
    "                val_pressureX_ = val_pressureX * mask1_pressure\n",
    "                val_flowX_     = val_flowX * mask1_flow\n",
    "                val_demandX_   = (val_demandX[:, :-1]) * mask1_demand\n",
    "\n",
    "                pressure_Y, flow_Y, demand_Y = model(Graph_Data, mask1_pressure, mask1_flow, mask1_demand, val_pressureX_, val_flowX_, val_demandX_)\n",
    "                # Add last column to demand_Y\n",
    "                row_sums = torch.sum(demand_Y, dim=1, keepdim=True)\n",
    "                demand_Y = torch.cat((demand_Y, -row_sums), dim=1)\n",
    "                \n",
    "                # min-max normalized reduction\n",
    "                pressure_Y = (pressure_Y * (max_pressure - min_pressure) + min_pressure)\n",
    "                flow_Y     = (flow_Y     * (max_flow     - min_flow)     + min_flow)\n",
    "                demand_Y   = (demand_Y   * (max_demand   - min_demand)   + min_demand)\n",
    "                val_pressureX  = (val_pressureX * (max_pressure - min_pressure) + min_pressure)\n",
    "                val_flowX      = (val_flowX     * (max_flow     - min_flow)     + min_flow)\n",
    "                val_demandX    = (val_demandX   * (max_demand   - min_demand)   + min_demand)\n",
    "                val_pressureX_ = (val_pressureX_ * (max_pressure- min_pressure) + min_pressure)\n",
    "                val_flowX_     = (val_flowX_     * (max_flow    - min_flow)     + min_flow)\n",
    "                val_demandX_   = (val_demandX_   * (max_demand   - min_demand)  + min_demand)\n",
    "\n",
    "                # Caculate Loss\n",
    "                (loss1, loss2, loss3) = criterion(pressure_Y, flow_Y, demand_Y, pipe_friction, incidence_matrix, cycle_matrix)\n",
    "                \n",
    "                # Save\n",
    "                pressure_True = torch.cat((pressure_True, val_pressureX), 0)\n",
    "                pressure_Est  = torch.cat((pressure_Est, pressure_Y), 0)\n",
    "                flow_True     = torch.cat((flow_True,   val_flowX), 0)\n",
    "                flow_Est      = torch.cat((flow_Est,     flow_Y), 0)\n",
    "                demand_True   = torch.cat((demand_True, val_demandX), 0)\n",
    "                demand_Est    = torch.cat((demand_Est,   demand_Y), 0)\n",
    "\n",
    "                # Loss\n",
    "                val_loss1 += loss1.item()\n",
    "                val_loss2 += loss2.item()\n",
    "                val_loss3 += loss3.item()\n",
    "        avg_val_loss1 = (val_loss1) / len(val_loader.dataset)\n",
    "        avg_val_loss2 = (val_loss2) / len(val_loader.dataset)\n",
    "        avg_val_loss3 = (val_loss3) / len(val_loader.dataset)\n",
    "        avg_val_loss = (avg_val_loss1 + avg_val_loss2 + avg_val_loss3)\n",
    "\n",
    "        val_loss1_list.append(avg_val_loss1)\n",
    "        val_loss2_list.append(avg_val_loss2)\n",
    "        val_loss3_list.append(avg_val_loss3)\n",
    "        \n",
    "        IO.cprint('Epoch #{:03d}, Conservation1: {:.4f}, Conservation2: {:.4f}, Conservation3: {:.4f}'.format(\n",
    "                epoch, (avg_val_loss1), (avg_val_loss2), (avg_val_loss3)\n",
    "                ))\n",
    "\n",
    "        # Choose the best model\n",
    "        if avg_val_loss < best_val_loss:\n",
    "            best_val_loss = avg_val_loss\n",
    "            patience_counter = 0\n",
    "            # Save the best model\n",
    "            best_model_wts = model.state_dict()\n",
    "        else:\n",
    "            patience_counter += 1\n",
    "\n",
    "        # Check for early stopping\n",
    "        if patience_counter >= patience:\n",
    "            IO.cprint('Early stopping triggered. Best Val_Loss: {:.4f}'.format(best_val_loss))\n",
    "            break\n",
    "        \n",
    "    model.load_state_dict(best_model_wts)\n",
    "\n",
    "    torch.save(model, 'outputs/%s/model.pth' % args.exp_name)\n",
    "    IO.cprint('The current best model is saved in: {}'.format('******** outputs/%s/model.pth *********' % args.exp_name))\n",
    "    end_time = time.time()\n",
    "    IO.cprint('Total time: {:.4f}s'.format(end_time - start_time))\n",
    "    return (pressure_True, pressure_Est, flow_True, flow_Est, demand_True, demand_Est,\n",
    "            train_loss1_list, train_loss2_list, train_loss3_list, \n",
    "            val_loss1_list, val_loss2_list, val_loss3_list)"
   ]
  },
  {
   "cell_type": "code",
   "execution_count": 30,
   "metadata": {},
   "outputs": [],
   "source": [
    "def test(args, IO, test_loader, \n",
    "        min_pressure, max_pressure, min_flow, max_flow, min_demand, max_demand):\n",
    "    \"\"\"测试模型\"\"\"\n",
    "    device = torch.device('cuda' if torch.cuda.is_available() else 'cpu')\n",
    "\n",
    "    Graph_Data, pipe_friction, incidence_matrix, cycle_matrix = load_matrix(args)\n",
    "    \n",
    "    IO.cprint('')\n",
    "    IO.cprint('********** TEST START **********')\n",
    "    IO.cprint('Reload Best Model')\n",
    "    IO.cprint('The current best model is saved in: {}'.format('******** outputs/%s/model.pth *********' % args.exp_name))\n",
    "\n",
    "    model = torch.load('outputs/%s/model.pth' % args.exp_name).to(device)\n",
    "    model = model.train()\n",
    "    \n",
    "    optimizer = optim.RMSprop(model.parameters(), lr=1e-7)\n",
    "                                        \n",
    "    ##############################\n",
    "    ### Test For Generalization ##\n",
    "    ##############################\n",
    "\n",
    "    # Loss Function\n",
    "    criterion1 = ConservationConstraints()\n",
    "    criterion2 = ConservationConstraints_generalization()\n",
    "\n",
    "    offset = 0  \t\t# initial offset\n",
    "    batch_size = 3 * 96 # from 3-days ago\n",
    "\n",
    "    MAE_pressure = []\n",
    "    MAE_flow = []\n",
    "    MAE_demand = []\n",
    "    R2_pressure = []\n",
    "    R2_flow = []\n",
    "    R2_demand = []\n",
    "    Loss1 = []\n",
    "    Loss2 = []\n",
    "    Loss3 = []\n",
    "\n",
    "    for loop_ in range(len(test_loader) - 3 * 96):\n",
    "\n",
    "        start_index = offset\n",
    "        end_index = min(start_index + batch_size, len(test_loader))\n",
    "        sliced_dataset = torch.utils.data.Subset(test_loader.dataset, range(start_index, end_index))\n",
    "        new_test_loader = torch.utils.data.DataLoader(sliced_dataset, batch_size=1, shuffle=False)\n",
    "\n",
    "        for i, data in tqdm(enumerate(new_test_loader), total=len(new_test_loader), desc=\"Test_Loader\"):\n",
    "            (test_pressureX, test_pressureY,\n",
    "            test_flowX, test_flowY, \n",
    "            test_demandX, test_demandY)= data\n",
    "            test_pressureX = test_pressureX.squeeze(0)\n",
    "            test_flowX     = test_flowX.squeeze(0)\n",
    "            test_demandX   = test_demandX.squeeze(0)\n",
    "\n",
    "            (mask1_pressure, mask1_flow, mask1_demand)=apply_mask(args, test_pressureX, test_flowX, test_demandX)\n",
    "\n",
    "            test_pressureX_ = test_pressureX * mask1_pressure\n",
    "            test_flowX_     = test_flowX * mask1_flow\n",
    "            test_demandX_   = (test_demandX[:, :-1]) * mask1_demand\n",
    "\n",
    "            pressure_Y, flow_Y, demand_Y = model(Graph_Data, mask1_pressure, mask1_flow, mask1_demand, test_pressureX_, test_flowX_ , test_demandX_)\n",
    "            row_sums = torch.sum(demand_Y, dim=1, keepdim=True)\n",
    "            demand_Y = torch.cat((demand_Y, -row_sums), dim=1)\n",
    "        \n",
    "            pressure_Y = (pressure_Y * (max_pressure - min_pressure) + min_pressure)\n",
    "            flow_Y     = (flow_Y     * (max_flow     - min_flow)     + min_flow)\n",
    "            demand_Y   = (demand_Y   * (max_demand   - min_demand)   + min_demand)\n",
    "            test_pressureX = (test_pressureX * (max_pressure - min_pressure) + min_pressure)\n",
    "            test_flowX     = (test_flowX     * (max_flow     - min_flow)     + min_flow)\n",
    "            test_demandX   = (test_demandX   * (max_demand   - min_demand)   + min_demand)\n",
    "\n",
    "            (loss1, loss2, loss3) = criterion1(pressure_Y, flow_Y, demand_Y, pipe_friction, incidence_matrix, cycle_matrix)\n",
    "            loss_ = loss1 + loss2 + loss3\n",
    "            loss_.backward()\n",
    "            optimizer.step()\n",
    "            optimizer.zero_grad()\n",
    "\n",
    "            # Save the last batch\n",
    "            if i == len(new_test_loader) - 1:\n",
    "\n",
    "                IO.cprint('Loss1: {:.4f}, Loss2: {:.4f}, Loss3: {:.4f}'.format(loss1.item(), loss2.item(), loss3.item()))\n",
    "                (loss1, loss2, loss3) = criterion2(pressure_Y, flow_Y, demand_Y, pipe_friction, incidence_matrix, cycle_matrix)\n",
    "\n",
    "                mae_pressure = torch.mean(torch.abs(pressure_Y - test_pressureX), dim=0)\n",
    "                mae_flow     = torch.mean(torch.abs(flow_Y - test_flowX), dim=0)\n",
    "                mae_demand   = torch.mean(torch.abs(demand_Y - test_demandX), dim=0)\n",
    "\n",
    "                r2_pressure = 1 - (torch.sum(((pressure_Y - test_pressureX) ** 2), dim=0) / torch.sum((pressure_Y - torch.mean(pressure_Y)) ** 2, dim=0))\n",
    "                r2_flow     = 1 - (torch.sum(((flow_Y - test_flowX) ** 2), dim=0) / torch.sum((flow_Y - torch.mean(flow_Y)) ** 2, dim=0))\n",
    "                r2_demand   = 1 - (torch.sum(((demand_Y - test_demandX) ** 2), dim=0) / torch.sum((demand_Y - torch.mean(demand_Y)) ** 2, dim=0))\n",
    "\n",
    "                Loss1.append(loss1.detach().cpu().numpy())\n",
    "                Loss2.append(loss2.detach().cpu().numpy())\n",
    "                Loss3.append(loss3.detach().cpu().numpy())\n",
    "\n",
    "                MAE_pressure.append(mae_pressure.detach().cpu().numpy())\n",
    "                MAE_flow.append(mae_flow.detach().cpu().numpy())\n",
    "                MAE_demand.append(mae_demand.detach().cpu().numpy())\n",
    "\n",
    "                R2_pressure.append(r2_pressure.detach().cpu().numpy())\n",
    "                R2_flow.append(r2_flow.detach().cpu().numpy())  \n",
    "                R2_demand.append(r2_demand.detach().cpu().numpy())\n",
    "\n",
    "                offset += 1\n",
    "\n",
    "            del pressure_Y, flow_Y, demand_Y, loss1, loss2, loss3\n",
    "            del test_pressureX, test_flowX, test_demandX, test_pressureX_, test_flowX_, test_demandX_\n",
    "\n",
    "    return (Loss1, Loss2, Loss3,\n",
    "            MAE_pressure, MAE_flow, MAE_demand,\n",
    "            R2_pressure, R2_flow, R2_demand)"
   ]
  },
  {
   "cell_type": "code",
   "execution_count": 31,
   "metadata": {},
   "outputs": [],
   "source": [
    "args = parse_args()\n",
    "def exp_init():\n",
    "    if not os.path.exists('outputs'):\n",
    "        os.mkdir('outputs')\n",
    "    if not os.path.exists('outputs/' + args.exp_name):\n",
    "        os.mkdir('outputs/' + args.exp_name)"
   ]
  },
  {
   "cell_type": "code",
   "execution_count": 32,
   "metadata": {},
   "outputs": [
    {
     "name": "stdout",
     "output_type": "stream",
     "text": [
      "+----------------------+-------------------------------------------------------+\n",
      "|      Parameter       |                         Value                         |\n",
      "+======================+=======================================================+\n",
      "| Chebyshevdegree      | 8                                                     |\n",
      "+----------------------+-------------------------------------------------------+\n",
      "| Fourierdegree        | 6                                                     |\n",
      "+----------------------+-------------------------------------------------------+\n",
      "| Batch size           | 96                                                    |\n",
      "+----------------------+-------------------------------------------------------+\n",
      "| Cycle file           | D:/GraphormerForRobustness/Graphormer/实验设计/KANSA/data |\n",
      "|                      | set/initial_cycle_matrix_dir.csv                      |\n",
      "+----------------------+-------------------------------------------------------+\n",
      "| Decay epoch          | 1                                                     |\n",
      "+----------------------+-------------------------------------------------------+\n",
      "| Demand sensor name   | [\"2\", \"6\", \"19\", \"22\", \"24\"]                          |\n",
      "+----------------------+-------------------------------------------------------+\n",
      "| Device               | cuda                                                  |\n",
      "+----------------------+-------------------------------------------------------+\n",
      "| Edge file            | D:/GraphormerForRobustness/Graphormer/实验设计/KANSA/data |\n",
      "|                      | set/edge_index_dir.csv                                |\n",
      "+----------------------+-------------------------------------------------------+\n",
      "| Exp name             | Exp                                                   |\n",
      "+----------------------+-------------------------------------------------------+\n",
      "| Flow sensor name     | [\"4\", \"7\", \"25\", \"28\", \"34\"]                          |\n",
      "+----------------------+-------------------------------------------------------+\n",
      "| Gamma                | 0.95                                                  |\n",
      "+----------------------+-------------------------------------------------------+\n",
      "| Hidden dim           | 12                                                    |\n",
      "+----------------------+-------------------------------------------------------+\n",
      "| Incidence file       | D:/GraphormerForRobustness/Graphormer/实验设计/KANSA/data |\n",
      "|                      | set/initial_incidence_matrix_dir.csv                  |\n",
      "+----------------------+-------------------------------------------------------+\n",
      "| L1 lambda            | 0.0                                                   |\n",
      "+----------------------+-------------------------------------------------------+\n",
      "| L2 lambda            | 0.0                                                   |\n",
      "+----------------------+-------------------------------------------------------+\n",
      "| Learning rate        | 2e-05                                                 |\n",
      "+----------------------+-------------------------------------------------------+\n",
      "| Max epoch            | 50                                                    |\n",
      "+----------------------+-------------------------------------------------------+\n",
      "| Node file            | D:/GraphormerForRobustness/Graphormer/实验设计/KANSA/data |\n",
      "|                      | set/node_features_Apulia.csv                          |\n",
      "+----------------------+-------------------------------------------------------+\n",
      "| Num edges            | 34                                                    |\n",
      "+----------------------+-------------------------------------------------------+\n",
      "| Num history          | 1                                                     |\n",
      "+----------------------+-------------------------------------------------------+\n",
      "| Num nodes            | 24                                                    |\n",
      "+----------------------+-------------------------------------------------------+\n",
      "| Num step             | 8640                                                  |\n",
      "+----------------------+-------------------------------------------------------+\n",
      "| Patience             | 10                                                    |\n",
      "+----------------------+-------------------------------------------------------+\n",
      "| Pressure sensor name | [\"4\", \"13\", \"14\", \"23\", \"24\"]                         |\n",
      "+----------------------+-------------------------------------------------------+\n",
      "| Seed                 | 10                                                    |\n",
      "+----------------------+-------------------------------------------------------+\n",
      "| Test ratio           | 0.3333333333333333                                    |\n",
      "+----------------------+-------------------------------------------------------+\n",
      "| Train ratio          | 0.5                                                   |\n",
      "+----------------------+-------------------------------------------------------+\n",
      "| Val ratio            | 0.16666666666666666                                   |\n",
      "+----------------------+-------------------------------------------------------+\n",
      "| Water demand file    | D:/GraphormerForRobustness/Graphormer/实验设计/KANSA/data |\n",
      "|                      | set/simulate_demand3.csv                              |\n",
      "+----------------------+-------------------------------------------------------+\n",
      "| Water flow file      | D:/GraphormerForRobustness/Graphormer/实验设计/KANSA/data |\n",
      "|                      | set/simulate_flow3.csv                                |\n",
      "+----------------------+-------------------------------------------------------+\n",
      "| Water pressure file  | D:/GraphormerForRobustness/Graphormer/实验设计/KANSA/data |\n",
      "|                      | set/simulate_pressure3.csv                            |\n",
      "+----------------------+-------------------------------------------------------+\n"
     ]
    },
    {
     "name": "stderr",
     "output_type": "stream",
     "text": [
      "C:\\AppData\\Local\\Temp\\ipykernel_16888\\1777886110.py:14: UserWarning: nn.init.normal is now deprecated in favor of nn.init.normal_.\n",
      "  nn.init.normal(self.fouriercoeffs, mean=0.0, std=1 / (np.sqrt(input_dim) * np.sqrt(self.gridsize)))\n",
      "C:\\AppData\\Local\\Temp\\ipykernel_16888\\1574067456.py:10: UserWarning: nn.init.normal is now deprecated in favor of nn.init.normal_.\n",
      "  nn.init.normal(self.cheby_coeffs, mean=0.0, std=1/(input_dim * (degree + 1)))\n"
     ]
    },
    {
     "name": "stdout",
     "output_type": "stream",
     "text": [
      "KANSA(\n",
      "  (flow_batch): Sequential(\n",
      "    (0): Linear(in_features=96, out_features=12, bias=True)\n",
      "    (1): Linear(in_features=12, out_features=96, bias=True)\n",
      "    (2): FourierKANLayer()\n",
      "    (3): FourierKANLayer()\n",
      "    (4): LayerNorm((96,), eps=1e-05, elementwise_affine=True)\n",
      "  )\n",
      "  (pressure_batch): Sequential(\n",
      "    (0): Linear(in_features=96, out_features=12, bias=True)\n",
      "    (1): Linear(in_features=12, out_features=96, bias=True)\n",
      "    (2): FourierKANLayer()\n",
      "    (3): FourierKANLayer()\n",
      "    (4): LayerNorm((96,), eps=1e-05, elementwise_affine=True)\n",
      "  )\n",
      "  (demand_batch): Sequential(\n",
      "    (0): Linear(in_features=96, out_features=12, bias=True)\n",
      "    (1): Linear(in_features=12, out_features=96, bias=True)\n",
      "    (2): FourierKANLayer()\n",
      "    (3): FourierKANLayer()\n",
      "    (4): LayerNorm((96,), eps=1e-05, elementwise_affine=True)\n",
      "  )\n",
      "  (flow_features): Sequential(\n",
      "    (0): Linear(in_features=34, out_features=12, bias=True)\n",
      "    (1): Linear(in_features=12, out_features=34, bias=True)\n",
      "    (2): ChebyshevKANLayer()\n",
      "    (3): ChebyshevKANLayer()\n",
      "    (4): LayerNorm((34,), eps=1e-05, elementwise_affine=True)\n",
      "  )\n",
      "  (pressure_features): Sequential(\n",
      "    (0): Linear(in_features=24, out_features=12, bias=True)\n",
      "    (1): Linear(in_features=12, out_features=24, bias=True)\n",
      "    (2): ChebyshevKANLayer()\n",
      "    (3): ChebyshevKANLayer()\n",
      "    (4): LayerNorm((24,), eps=1e-05, elementwise_affine=True)\n",
      "  )\n",
      "  (demand_features): Sequential(\n",
      "    (0): Linear(in_features=23, out_features=12, bias=True)\n",
      "    (1): Linear(in_features=12, out_features=23, bias=True)\n",
      "    (2): ChebyshevKANLayer()\n",
      "    (3): ChebyshevKANLayer()\n",
      "    (4): LayerNorm((23,), eps=1e-05, elementwise_affine=True)\n",
      "  )\n",
      "  (attention_pressure_batch): Attention(\n",
      "    (query_layer): Linear(in_features=96, out_features=96, bias=True)\n",
      "    (key_layer): Linear(in_features=96, out_features=96, bias=True)\n",
      "    (value_layer): Linear(in_features=96, out_features=96, bias=True)\n",
      "    (layer_norm): LayerNorm((96,), eps=1e-05, elementwise_affine=True)\n",
      "  )\n",
      "  (attention_flow_batch): Attention(\n",
      "    (query_layer): Linear(in_features=96, out_features=96, bias=True)\n",
      "    (key_layer): Linear(in_features=96, out_features=96, bias=True)\n",
      "    (value_layer): Linear(in_features=96, out_features=96, bias=True)\n",
      "    (layer_norm): LayerNorm((96,), eps=1e-05, elementwise_affine=True)\n",
      "  )\n",
      "  (attention_demand_batch): Attention(\n",
      "    (query_layer): Linear(in_features=96, out_features=96, bias=True)\n",
      "    (key_layer): Linear(in_features=96, out_features=96, bias=True)\n",
      "    (value_layer): Linear(in_features=96, out_features=96, bias=True)\n",
      "    (layer_norm): LayerNorm((96,), eps=1e-05, elementwise_affine=True)\n",
      "  )\n",
      "  (attention_pressure_features): Attention(\n",
      "    (query_layer): Linear(in_features=24, out_features=24, bias=True)\n",
      "    (key_layer): Linear(in_features=24, out_features=24, bias=True)\n",
      "    (value_layer): Linear(in_features=24, out_features=24, bias=True)\n",
      "    (layer_norm): LayerNorm((24,), eps=1e-05, elementwise_affine=True)\n",
      "  )\n",
      "  (attention_flow_features): Attention(\n",
      "    (query_layer): Linear(in_features=34, out_features=34, bias=True)\n",
      "    (key_layer): Linear(in_features=34, out_features=34, bias=True)\n",
      "    (value_layer): Linear(in_features=34, out_features=34, bias=True)\n",
      "    (layer_norm): LayerNorm((34,), eps=1e-05, elementwise_affine=True)\n",
      "  )\n",
      "  (attention_demand_features): Attention(\n",
      "    (query_layer): Linear(in_features=23, out_features=23, bias=True)\n",
      "    (key_layer): Linear(in_features=23, out_features=23, bias=True)\n",
      "    (value_layer): Linear(in_features=23, out_features=23, bias=True)\n",
      "    (layer_norm): LayerNorm((23,), eps=1e-05, elementwise_affine=True)\n",
      "  )\n",
      "  (pressure_1): Sequential(\n",
      "    (0): LayerNorm((24,), eps=1e-05, elementwise_affine=True)\n",
      "    (1): ChebyshevKANLayer()\n",
      "    (2): ChebyshevKANLayer()\n",
      "  )\n",
      "  (pressure_2): Sequential(\n",
      "    (0): LayerNorm((24,), eps=1e-05, elementwise_affine=True)\n",
      "    (1): ChebyshevKANLayer()\n",
      "    (2): ChebyshevKANLayer()\n",
      "  )\n",
      "  (flow_1): Sequential(\n",
      "    (0): LayerNorm((34,), eps=1e-05, elementwise_affine=True)\n",
      "    (1): ChebyshevKANLayer()\n",
      "    (2): ChebyshevKANLayer()\n",
      "  )\n",
      "  (flow_2): Sequential(\n",
      "    (0): LayerNorm((34,), eps=1e-05, elementwise_affine=True)\n",
      "    (1): ChebyshevKANLayer()\n",
      "    (2): ChebyshevKANLayer()\n",
      "  )\n",
      "  (demand_1): Sequential(\n",
      "    (0): LayerNorm((23,), eps=1e-05, elementwise_affine=True)\n",
      "    (1): ChebyshevKANLayer()\n",
      "    (2): ChebyshevKANLayer()\n",
      "  )\n",
      "  (demand_2): Sequential(\n",
      "    (0): LayerNorm((23,), eps=1e-05, elementwise_affine=True)\n",
      "    (1): ChebyshevKANLayer()\n",
      "    (2): ChebyshevKANLayer()\n",
      "  )\n",
      "  (pressure_sum): Sequential(\n",
      "    (0): LayerNorm((12,), eps=1e-05, elementwise_affine=True)\n",
      "    (1): ChebyshevKANLayer()\n",
      "    (2): ChebyshevKANLayer()\n",
      "  )\n",
      "  (flow_sum): Sequential(\n",
      "    (0): LayerNorm((12,), eps=1e-05, elementwise_affine=True)\n",
      "    (1): ChebyshevKANLayer()\n",
      "    (2): ChebyshevKANLayer()\n",
      "  )\n",
      "  (demand_sum): Sequential(\n",
      "    (0): LayerNorm((12,), eps=1e-05, elementwise_affine=True)\n",
      "    (1): ChebyshevKANLayer()\n",
      "    (2): ChebyshevKANLayer()\n",
      "  )\n",
      "  (graph): Sequential(\n",
      "    (0): LayerNorm((3,), eps=1e-05, elementwise_affine=True)\n",
      "    (1): ChebyshevKANLayer()\n",
      "    (2): ChebyshevKANLayer()\n",
      "  )\n",
      "  (flow_out): Sequential(\n",
      "    (0): ChebyshevKANLayer()\n",
      "    (1): ChebyshevKANLayer()\n",
      "    (2): Linear(in_features=34, out_features=34, bias=True)\n",
      "    (3): Linear(in_features=34, out_features=34, bias=True)\n",
      "    (4): Sigmoid()\n",
      "  )\n",
      "  (pressure_out): Sequential(\n",
      "    (0): ChebyshevKANLayer()\n",
      "    (1): ChebyshevKANLayer()\n",
      "    (2): Linear(in_features=24, out_features=24, bias=True)\n",
      "    (3): Linear(in_features=24, out_features=24, bias=True)\n",
      "    (4): Sigmoid()\n",
      "  )\n",
      "  (demand_out): Sequential(\n",
      "    (0): ChebyshevKANLayer()\n",
      "    (1): ChebyshevKANLayer()\n",
      "    (2): Linear(in_features=23, out_features=23, bias=True)\n",
      "    (3): Linear(in_features=23, out_features=23, bias=True)\n",
      "    (4): Sigmoid()\n",
      "  )\n",
      ")\n",
      "Model Parameter: 333688\n",
      "Using RMSprop\n"
     ]
    },
    {
     "name": "stderr",
     "output_type": "stream",
     "text": [
      "Train_Loader: 100%|██████████| 4129/4129 [09:11<00:00,  7.49it/s]\n"
     ]
    },
    {
     "name": "stdout",
     "output_type": "stream",
     "text": [
      "Epoch #000, Conservation1: 386450.2688, Conservation2: 15622012.0995, Conservation3: 19157452.3971\n"
     ]
    },
    {
     "name": "stderr",
     "output_type": "stream",
     "text": [
      "Val_Loader: 100%|██████████| 1249/1249 [00:57<00:00, 21.84it/s]\n"
     ]
    },
    {
     "name": "stdout",
     "output_type": "stream",
     "text": [
      "Epoch #000, Conservation1: 1009.8247, Conservation2: 186.9124, Conservation3: 1880.5284\n"
     ]
    },
    {
     "name": "stderr",
     "output_type": "stream",
     "text": [
      "Train_Loader: 100%|██████████| 4129/4129 [10:31<00:00,  6.54it/s]\n"
     ]
    },
    {
     "name": "stdout",
     "output_type": "stream",
     "text": [
      "Epoch #001, Conservation1: 390.0198, Conservation2: 58.5844, Conservation3: 742.4695\n"
     ]
    },
    {
     "name": "stderr",
     "output_type": "stream",
     "text": [
      "Val_Loader: 100%|██████████| 1249/1249 [01:15<00:00, 16.60it/s]\n"
     ]
    },
    {
     "name": "stdout",
     "output_type": "stream",
     "text": [
      "Epoch #001, Conservation1: 299.6562, Conservation2: 33.6197, Conservation3: 477.6481\n"
     ]
    },
    {
     "name": "stderr",
     "output_type": "stream",
     "text": [
      "Train_Loader: 100%|██████████| 4129/4129 [10:45<00:00,  6.40it/s]\n"
     ]
    },
    {
     "name": "stdout",
     "output_type": "stream",
     "text": [
      "Epoch #002, Conservation1: 240.0305, Conservation2: 24.1415, Conservation3: 259.1708\n"
     ]
    },
    {
     "name": "stderr",
     "output_type": "stream",
     "text": [
      "Val_Loader: 100%|██████████| 1249/1249 [01:17<00:00, 16.06it/s]\n"
     ]
    },
    {
     "name": "stdout",
     "output_type": "stream",
     "text": [
      "Epoch #002, Conservation1: 211.0919, Conservation2: 21.2158, Conservation3: 189.8311\n"
     ]
    },
    {
     "name": "stderr",
     "output_type": "stream",
     "text": [
      "Train_Loader: 100%|██████████| 4129/4129 [10:56<00:00,  6.29it/s]\n"
     ]
    },
    {
     "name": "stdout",
     "output_type": "stream",
     "text": [
      "Epoch #003, Conservation1: 135.2531, Conservation2: 20.3586, Conservation3: 151.0290\n"
     ]
    },
    {
     "name": "stderr",
     "output_type": "stream",
     "text": [
      "Val_Loader: 100%|██████████| 1249/1249 [01:23<00:00, 14.95it/s]\n"
     ]
    },
    {
     "name": "stdout",
     "output_type": "stream",
     "text": [
      "Epoch #003, Conservation1: 115.2574, Conservation2: 16.1540, Conservation3: 133.9682\n"
     ]
    },
    {
     "name": "stderr",
     "output_type": "stream",
     "text": [
      "Train_Loader: 100%|██████████| 4129/4129 [11:09<00:00,  6.17it/s]\n"
     ]
    },
    {
     "name": "stdout",
     "output_type": "stream",
     "text": [
      "Epoch #004, Conservation1: 80.7321, Conservation2: 16.9084, Conservation3: 99.9208\n"
     ]
    },
    {
     "name": "stderr",
     "output_type": "stream",
     "text": [
      "Val_Loader: 100%|██████████| 1249/1249 [01:24<00:00, 14.84it/s]\n"
     ]
    },
    {
     "name": "stdout",
     "output_type": "stream",
     "text": [
      "Epoch #004, Conservation1: 65.9380, Conservation2: 21.1406, Conservation3: 99.7670\n"
     ]
    },
    {
     "name": "stderr",
     "output_type": "stream",
     "text": [
      "Train_Loader: 100%|██████████| 4129/4129 [11:14<00:00,  6.12it/s]\n"
     ]
    },
    {
     "name": "stdout",
     "output_type": "stream",
     "text": [
      "Epoch #005, Conservation1: 58.1453, Conservation2: 14.8496, Conservation3: 77.3417\n"
     ]
    },
    {
     "name": "stderr",
     "output_type": "stream",
     "text": [
      "Val_Loader: 100%|██████████| 1249/1249 [01:23<00:00, 15.03it/s]\n"
     ]
    },
    {
     "name": "stdout",
     "output_type": "stream",
     "text": [
      "Epoch #005, Conservation1: 45.0334, Conservation2: 17.5606, Conservation3: 72.8048\n"
     ]
    },
    {
     "name": "stderr",
     "output_type": "stream",
     "text": [
      "Train_Loader: 100%|██████████| 4129/4129 [11:27<00:00,  6.01it/s]\n"
     ]
    },
    {
     "name": "stdout",
     "output_type": "stream",
     "text": [
      "Epoch #006, Conservation1: 41.3565, Conservation2: 12.8387, Conservation3: 62.2733\n"
     ]
    },
    {
     "name": "stderr",
     "output_type": "stream",
     "text": [
      "Val_Loader: 100%|██████████| 1249/1249 [01:24<00:00, 14.77it/s]\n"
     ]
    },
    {
     "name": "stdout",
     "output_type": "stream",
     "text": [
      "Epoch #006, Conservation1: 35.1965, Conservation2: 15.3676, Conservation3: 60.6595\n"
     ]
    },
    {
     "name": "stderr",
     "output_type": "stream",
     "text": [
      "Train_Loader: 100%|██████████| 4129/4129 [11:34<00:00,  5.95it/s]\n"
     ]
    },
    {
     "name": "stdout",
     "output_type": "stream",
     "text": [
      "Epoch #007, Conservation1: 32.1808, Conservation2: 10.8977, Conservation3: 50.2042\n"
     ]
    },
    {
     "name": "stderr",
     "output_type": "stream",
     "text": [
      "Val_Loader: 100%|██████████| 1249/1249 [01:32<00:00, 13.48it/s]\n"
     ]
    },
    {
     "name": "stdout",
     "output_type": "stream",
     "text": [
      "Epoch #007, Conservation1: 29.3758, Conservation2: 16.6706, Conservation3: 60.9764\n"
     ]
    },
    {
     "name": "stderr",
     "output_type": "stream",
     "text": [
      "Train_Loader: 100%|██████████| 4129/4129 [11:36<00:00,  5.92it/s]\n"
     ]
    },
    {
     "name": "stdout",
     "output_type": "stream",
     "text": [
      "Epoch #008, Conservation1: 26.0844, Conservation2: 9.3671, Conservation3: 41.4728\n"
     ]
    },
    {
     "name": "stderr",
     "output_type": "stream",
     "text": [
      "Val_Loader: 100%|██████████| 1249/1249 [01:23<00:00, 14.96it/s]\n"
     ]
    },
    {
     "name": "stdout",
     "output_type": "stream",
     "text": [
      "Epoch #008, Conservation1: 22.5035, Conservation2: 11.8508, Conservation3: 39.3628\n"
     ]
    },
    {
     "name": "stderr",
     "output_type": "stream",
     "text": [
      "Train_Loader: 100%|██████████| 4129/4129 [10:42<00:00,  6.43it/s]\n"
     ]
    },
    {
     "name": "stdout",
     "output_type": "stream",
     "text": [
      "Epoch #009, Conservation1: 21.6382, Conservation2: 8.2234, Conservation3: 34.9506\n"
     ]
    },
    {
     "name": "stderr",
     "output_type": "stream",
     "text": [
      "Val_Loader: 100%|██████████| 1249/1249 [01:07<00:00, 18.42it/s]\n"
     ]
    },
    {
     "name": "stdout",
     "output_type": "stream",
     "text": [
      "Epoch #009, Conservation1: 20.1140, Conservation2: 14.6455, Conservation3: 44.8565\n"
     ]
    },
    {
     "name": "stderr",
     "output_type": "stream",
     "text": [
      "Train_Loader: 100%|██████████| 4129/4129 [11:09<00:00,  6.17it/s]\n"
     ]
    },
    {
     "name": "stdout",
     "output_type": "stream",
     "text": [
      "Epoch #010, Conservation1: 18.3431, Conservation2: 7.3306, Conservation3: 30.1418\n"
     ]
    },
    {
     "name": "stderr",
     "output_type": "stream",
     "text": [
      "Val_Loader: 100%|██████████| 1249/1249 [01:13<00:00, 16.94it/s]\n"
     ]
    },
    {
     "name": "stdout",
     "output_type": "stream",
     "text": [
      "Epoch #010, Conservation1: 19.9565, Conservation2: 10.9411, Conservation3: 44.1789\n"
     ]
    },
    {
     "name": "stderr",
     "output_type": "stream",
     "text": [
      "Train_Loader: 100%|██████████| 4129/4129 [11:47<00:00,  5.83it/s]\n"
     ]
    },
    {
     "name": "stdout",
     "output_type": "stream",
     "text": [
      "Epoch #011, Conservation1: 15.7888, Conservation2: 6.6307, Conservation3: 26.3315\n"
     ]
    },
    {
     "name": "stderr",
     "output_type": "stream",
     "text": [
      "Val_Loader: 100%|██████████| 1249/1249 [01:27<00:00, 14.22it/s]\n"
     ]
    },
    {
     "name": "stdout",
     "output_type": "stream",
     "text": [
      "Epoch #011, Conservation1: 22.9633, Conservation2: 11.2075, Conservation3: 50.3785\n"
     ]
    },
    {
     "name": "stderr",
     "output_type": "stream",
     "text": [
      "Train_Loader: 100%|██████████| 4129/4129 [11:59<00:00,  5.74it/s]\n"
     ]
    },
    {
     "name": "stdout",
     "output_type": "stream",
     "text": [
      "Epoch #012, Conservation1: 13.7251, Conservation2: 6.0025, Conservation3: 23.1047\n"
     ]
    },
    {
     "name": "stderr",
     "output_type": "stream",
     "text": [
      "Val_Loader: 100%|██████████| 1249/1249 [01:33<00:00, 13.34it/s]\n"
     ]
    },
    {
     "name": "stdout",
     "output_type": "stream",
     "text": [
      "Epoch #012, Conservation1: 15.9830, Conservation2: 10.7549, Conservation3: 38.4044\n"
     ]
    },
    {
     "name": "stderr",
     "output_type": "stream",
     "text": [
      "Train_Loader: 100%|██████████| 4129/4129 [12:11<00:00,  5.65it/s]\n"
     ]
    },
    {
     "name": "stdout",
     "output_type": "stream",
     "text": [
      "Epoch #013, Conservation1: 11.9726, Conservation2: 5.4758, Conservation3: 20.4387\n"
     ]
    },
    {
     "name": "stderr",
     "output_type": "stream",
     "text": [
      "Val_Loader: 100%|██████████| 1249/1249 [01:33<00:00, 13.38it/s]\n"
     ]
    },
    {
     "name": "stdout",
     "output_type": "stream",
     "text": [
      "Epoch #013, Conservation1: 10.7996, Conservation2: 8.1656, Conservation3: 23.3251\n"
     ]
    },
    {
     "name": "stderr",
     "output_type": "stream",
     "text": [
      "Train_Loader: 100%|██████████| 4129/4129 [12:26<00:00,  5.53it/s]\n"
     ]
    },
    {
     "name": "stdout",
     "output_type": "stream",
     "text": [
      "Epoch #014, Conservation1: 10.5056, Conservation2: 4.9889, Conservation3: 18.1482\n"
     ]
    },
    {
     "name": "stderr",
     "output_type": "stream",
     "text": [
      "Val_Loader: 100%|██████████| 1249/1249 [01:38<00:00, 12.72it/s]\n"
     ]
    },
    {
     "name": "stdout",
     "output_type": "stream",
     "text": [
      "Epoch #014, Conservation1: 11.6675, Conservation2: 8.5044, Conservation3: 32.8575\n"
     ]
    },
    {
     "name": "stderr",
     "output_type": "stream",
     "text": [
      "Train_Loader: 100%|██████████| 4129/4129 [12:11<00:00,  5.64it/s]\n"
     ]
    },
    {
     "name": "stdout",
     "output_type": "stream",
     "text": [
      "Epoch #015, Conservation1: 9.2803, Conservation2: 4.5526, Conservation3: 16.1487\n"
     ]
    },
    {
     "name": "stderr",
     "output_type": "stream",
     "text": [
      "Val_Loader: 100%|██████████| 1249/1249 [01:36<00:00, 12.88it/s]\n"
     ]
    },
    {
     "name": "stdout",
     "output_type": "stream",
     "text": [
      "Epoch #015, Conservation1: 9.3511, Conservation2: 7.8891, Conservation3: 22.1392\n"
     ]
    },
    {
     "name": "stderr",
     "output_type": "stream",
     "text": [
      "Train_Loader: 100%|██████████| 4129/4129 [12:33<00:00,  5.48it/s]\n"
     ]
    },
    {
     "name": "stdout",
     "output_type": "stream",
     "text": [
      "Epoch #016, Conservation1: 8.2494, Conservation2: 4.1760, Conservation3: 14.4765\n"
     ]
    },
    {
     "name": "stderr",
     "output_type": "stream",
     "text": [
      "Val_Loader: 100%|██████████| 1249/1249 [01:44<00:00, 11.90it/s]\n"
     ]
    },
    {
     "name": "stdout",
     "output_type": "stream",
     "text": [
      "Epoch #016, Conservation1: 9.4079, Conservation2: 7.1343, Conservation3: 22.1054\n"
     ]
    },
    {
     "name": "stderr",
     "output_type": "stream",
     "text": [
      "Train_Loader: 100%|██████████| 4129/4129 [12:39<00:00,  5.44it/s]\n"
     ]
    },
    {
     "name": "stdout",
     "output_type": "stream",
     "text": [
      "Epoch #017, Conservation1: 7.3825, Conservation2: 3.8535, Conservation3: 13.0390\n"
     ]
    },
    {
     "name": "stderr",
     "output_type": "stream",
     "text": [
      "Val_Loader: 100%|██████████| 1249/1249 [01:49<00:00, 11.41it/s]\n"
     ]
    },
    {
     "name": "stdout",
     "output_type": "stream",
     "text": [
      "Epoch #017, Conservation1: 9.5090, Conservation2: 7.2065, Conservation3: 24.5135\n"
     ]
    },
    {
     "name": "stderr",
     "output_type": "stream",
     "text": [
      "Train_Loader: 100%|██████████| 4129/4129 [12:52<00:00,  5.35it/s]\n"
     ]
    },
    {
     "name": "stdout",
     "output_type": "stream",
     "text": [
      "Epoch #018, Conservation1: 6.6483, Conservation2: 3.5579, Conservation3: 11.7722\n"
     ]
    },
    {
     "name": "stderr",
     "output_type": "stream",
     "text": [
      "Val_Loader: 100%|██████████| 1249/1249 [01:45<00:00, 11.88it/s]\n"
     ]
    },
    {
     "name": "stdout",
     "output_type": "stream",
     "text": [
      "Epoch #018, Conservation1: 8.5026, Conservation2: 7.4587, Conservation3: 23.1527\n"
     ]
    },
    {
     "name": "stderr",
     "output_type": "stream",
     "text": [
      "Train_Loader: 100%|██████████| 4129/4129 [13:00<00:00,  5.29it/s]\n"
     ]
    },
    {
     "name": "stdout",
     "output_type": "stream",
     "text": [
      "Epoch #019, Conservation1: 6.0215, Conservation2: 3.2899, Conservation3: 10.7236\n"
     ]
    },
    {
     "name": "stderr",
     "output_type": "stream",
     "text": [
      "Val_Loader: 100%|██████████| 1249/1249 [01:51<00:00, 11.23it/s]\n"
     ]
    },
    {
     "name": "stdout",
     "output_type": "stream",
     "text": [
      "Epoch #019, Conservation1: 7.2532, Conservation2: 5.8627, Conservation3: 13.0875\n"
     ]
    },
    {
     "name": "stderr",
     "output_type": "stream",
     "text": [
      "Train_Loader: 100%|██████████| 4129/4129 [12:59<00:00,  5.30it/s]\n"
     ]
    },
    {
     "name": "stdout",
     "output_type": "stream",
     "text": [
      "Epoch #020, Conservation1: 5.4722, Conservation2: 3.0452, Conservation3: 9.7933\n"
     ]
    },
    {
     "name": "stderr",
     "output_type": "stream",
     "text": [
      "Val_Loader: 100%|██████████| 1249/1249 [01:53<00:00, 11.04it/s]\n"
     ]
    },
    {
     "name": "stdout",
     "output_type": "stream",
     "text": [
      "Epoch #020, Conservation1: 6.0726, Conservation2: 6.4730, Conservation3: 14.4596\n"
     ]
    },
    {
     "name": "stderr",
     "output_type": "stream",
     "text": [
      "Train_Loader: 100%|██████████| 4129/4129 [13:21<00:00,  5.15it/s]\n"
     ]
    },
    {
     "name": "stdout",
     "output_type": "stream",
     "text": [
      "Epoch #021, Conservation1: 5.0164, Conservation2: 2.8273, Conservation3: 8.9714\n"
     ]
    },
    {
     "name": "stderr",
     "output_type": "stream",
     "text": [
      "Val_Loader: 100%|██████████| 1249/1249 [01:56<00:00, 10.73it/s]\n"
     ]
    },
    {
     "name": "stdout",
     "output_type": "stream",
     "text": [
      "Epoch #021, Conservation1: 6.2010, Conservation2: 4.1571, Conservation3: 15.6170\n"
     ]
    },
    {
     "name": "stderr",
     "output_type": "stream",
     "text": [
      "Train_Loader: 100%|██████████| 4129/4129 [13:19<00:00,  5.17it/s]\n"
     ]
    },
    {
     "name": "stdout",
     "output_type": "stream",
     "text": [
      "Epoch #022, Conservation1: 4.6045, Conservation2: 2.6369, Conservation3: 8.2528\n"
     ]
    },
    {
     "name": "stderr",
     "output_type": "stream",
     "text": [
      "Val_Loader: 100%|██████████| 1249/1249 [01:55<00:00, 10.85it/s]\n"
     ]
    },
    {
     "name": "stdout",
     "output_type": "stream",
     "text": [
      "Epoch #022, Conservation1: 5.9111, Conservation2: 3.7574, Conservation3: 15.5669\n"
     ]
    },
    {
     "name": "stderr",
     "output_type": "stream",
     "text": [
      "Train_Loader: 100%|██████████| 4129/4129 [13:35<00:00,  5.07it/s]\n"
     ]
    },
    {
     "name": "stdout",
     "output_type": "stream",
     "text": [
      "Epoch #023, Conservation1: 4.2478, Conservation2: 2.4465, Conservation3: 7.6134\n"
     ]
    },
    {
     "name": "stderr",
     "output_type": "stream",
     "text": [
      "Val_Loader: 100%|██████████| 1249/1249 [02:02<00:00, 10.23it/s]\n"
     ]
    },
    {
     "name": "stdout",
     "output_type": "stream",
     "text": [
      "Epoch #023, Conservation1: 5.0590, Conservation2: 4.0469, Conservation3: 9.0323\n"
     ]
    },
    {
     "name": "stderr",
     "output_type": "stream",
     "text": [
      "Train_Loader: 100%|██████████| 4129/4129 [13:33<00:00,  5.08it/s]\n"
     ]
    },
    {
     "name": "stdout",
     "output_type": "stream",
     "text": [
      "Epoch #024, Conservation1: 3.9381, Conservation2: 2.2721, Conservation3: 7.0453\n"
     ]
    },
    {
     "name": "stderr",
     "output_type": "stream",
     "text": [
      "Val_Loader: 100%|██████████| 1249/1249 [02:01<00:00, 10.25it/s]\n"
     ]
    },
    {
     "name": "stdout",
     "output_type": "stream",
     "text": [
      "Epoch #024, Conservation1: 5.6456, Conservation2: 3.0096, Conservation3: 11.1024\n"
     ]
    },
    {
     "name": "stderr",
     "output_type": "stream",
     "text": [
      "Train_Loader: 100%|██████████| 4129/4129 [14:01<00:00,  4.90it/s]\n"
     ]
    },
    {
     "name": "stdout",
     "output_type": "stream",
     "text": [
      "Epoch #025, Conservation1: 3.6571, Conservation2: 2.1233, Conservation3: 6.5299\n"
     ]
    },
    {
     "name": "stderr",
     "output_type": "stream",
     "text": [
      "Val_Loader: 100%|██████████| 1249/1249 [02:07<00:00,  9.78it/s]\n"
     ]
    },
    {
     "name": "stdout",
     "output_type": "stream",
     "text": [
      "Epoch #025, Conservation1: 4.2479, Conservation2: 4.1889, Conservation3: 11.1500\n"
     ]
    },
    {
     "name": "stderr",
     "output_type": "stream",
     "text": [
      "Train_Loader: 100%|██████████| 4129/4129 [14:03<00:00,  4.89it/s]\n"
     ]
    },
    {
     "name": "stdout",
     "output_type": "stream",
     "text": [
      "Epoch #026, Conservation1: 3.4142, Conservation2: 1.9795, Conservation3: 6.0780\n"
     ]
    },
    {
     "name": "stderr",
     "output_type": "stream",
     "text": [
      "Val_Loader: 100%|██████████| 1249/1249 [02:08<00:00,  9.73it/s]\n"
     ]
    },
    {
     "name": "stdout",
     "output_type": "stream",
     "text": [
      "Epoch #026, Conservation1: 3.8805, Conservation2: 1.4145, Conservation3: 7.0982\n"
     ]
    },
    {
     "name": "stderr",
     "output_type": "stream",
     "text": [
      "Train_Loader: 100%|██████████| 4129/4129 [14:06<00:00,  4.88it/s]\n"
     ]
    },
    {
     "name": "stdout",
     "output_type": "stream",
     "text": [
      "Epoch #027, Conservation1: 3.1974, Conservation2: 1.8533, Conservation3: 5.6611\n"
     ]
    },
    {
     "name": "stderr",
     "output_type": "stream",
     "text": [
      "Val_Loader: 100%|██████████| 1249/1249 [02:05<00:00,  9.96it/s]\n"
     ]
    },
    {
     "name": "stdout",
     "output_type": "stream",
     "text": [
      "Epoch #027, Conservation1: 4.1044, Conservation2: 1.5926, Conservation3: 7.4388\n"
     ]
    },
    {
     "name": "stderr",
     "output_type": "stream",
     "text": [
      "Train_Loader: 100%|██████████| 4129/4129 [12:24<00:00,  5.55it/s]\n"
     ]
    },
    {
     "name": "stdout",
     "output_type": "stream",
     "text": [
      "Epoch #028, Conservation1: 2.9953, Conservation2: 1.7404, Conservation3: 5.2937\n"
     ]
    },
    {
     "name": "stderr",
     "output_type": "stream",
     "text": [
      "Val_Loader: 100%|██████████| 1249/1249 [01:48<00:00, 11.48it/s]\n"
     ]
    },
    {
     "name": "stdout",
     "output_type": "stream",
     "text": [
      "Epoch #028, Conservation1: 3.5001, Conservation2: 2.8735, Conservation3: 10.1321\n"
     ]
    },
    {
     "name": "stderr",
     "output_type": "stream",
     "text": [
      "Train_Loader: 100%|██████████| 4129/4129 [13:55<00:00,  4.94it/s]\n"
     ]
    },
    {
     "name": "stdout",
     "output_type": "stream",
     "text": [
      "Epoch #029, Conservation1: 2.8138, Conservation2: 1.6288, Conservation3: 4.9572\n"
     ]
    },
    {
     "name": "stderr",
     "output_type": "stream",
     "text": [
      "Val_Loader: 100%|██████████| 1249/1249 [02:06<00:00,  9.84it/s]\n"
     ]
    },
    {
     "name": "stdout",
     "output_type": "stream",
     "text": [
      "Epoch #029, Conservation1: 4.0151, Conservation2: 2.1767, Conservation3: 8.9839\n"
     ]
    },
    {
     "name": "stderr",
     "output_type": "stream",
     "text": [
      "Train_Loader: 100%|██████████| 4129/4129 [13:59<00:00,  4.92it/s]\n"
     ]
    },
    {
     "name": "stdout",
     "output_type": "stream",
     "text": [
      "Epoch #030, Conservation1: 2.6574, Conservation2: 1.5274, Conservation3: 4.6413\n"
     ]
    },
    {
     "name": "stderr",
     "output_type": "stream",
     "text": [
      "Val_Loader: 100%|██████████| 1249/1249 [02:11<00:00,  9.49it/s]\n"
     ]
    },
    {
     "name": "stdout",
     "output_type": "stream",
     "text": [
      "Epoch #030, Conservation1: 3.3819, Conservation2: 1.2173, Conservation3: 6.1995\n"
     ]
    },
    {
     "name": "stderr",
     "output_type": "stream",
     "text": [
      "Train_Loader: 100%|██████████| 4129/4129 [13:59<00:00,  4.92it/s]\n"
     ]
    },
    {
     "name": "stdout",
     "output_type": "stream",
     "text": [
      "Epoch #031, Conservation1: 2.5051, Conservation2: 1.4425, Conservation3: 4.3718\n"
     ]
    },
    {
     "name": "stderr",
     "output_type": "stream",
     "text": [
      "Val_Loader: 100%|██████████| 1249/1249 [02:11<00:00,  9.50it/s]\n"
     ]
    },
    {
     "name": "stdout",
     "output_type": "stream",
     "text": [
      "Epoch #031, Conservation1: 2.9261, Conservation2: 1.9038, Conservation3: 6.6440\n"
     ]
    },
    {
     "name": "stderr",
     "output_type": "stream",
     "text": [
      "Train_Loader: 100%|██████████| 4129/4129 [14:12<00:00,  4.85it/s]\n"
     ]
    },
    {
     "name": "stdout",
     "output_type": "stream",
     "text": [
      "Epoch #032, Conservation1: 2.3700, Conservation2: 1.3591, Conservation3: 4.1152\n"
     ]
    },
    {
     "name": "stderr",
     "output_type": "stream",
     "text": [
      "Val_Loader: 100%|██████████| 1249/1249 [02:13<00:00,  9.37it/s]\n"
     ]
    },
    {
     "name": "stdout",
     "output_type": "stream",
     "text": [
      "Epoch #032, Conservation1: 2.7296, Conservation2: 1.9959, Conservation3: 6.2096\n"
     ]
    },
    {
     "name": "stderr",
     "output_type": "stream",
     "text": [
      "Train_Loader: 100%|██████████| 4129/4129 [14:15<00:00,  4.83it/s]\n"
     ]
    },
    {
     "name": "stdout",
     "output_type": "stream",
     "text": [
      "Epoch #033, Conservation1: 2.2515, Conservation2: 1.2830, Conservation3: 3.8871\n"
     ]
    },
    {
     "name": "stderr",
     "output_type": "stream",
     "text": [
      "Val_Loader: 100%|██████████| 1249/1249 [02:11<00:00,  9.47it/s]\n"
     ]
    },
    {
     "name": "stdout",
     "output_type": "stream",
     "text": [
      "Epoch #033, Conservation1: 2.8188, Conservation2: 1.0383, Conservation3: 4.5582\n"
     ]
    },
    {
     "name": "stderr",
     "output_type": "stream",
     "text": [
      "Train_Loader: 100%|██████████| 4129/4129 [14:33<00:00,  4.73it/s]\n"
     ]
    },
    {
     "name": "stdout",
     "output_type": "stream",
     "text": [
      "Epoch #034, Conservation1: 2.1401, Conservation2: 1.2159, Conservation3: 3.6747\n"
     ]
    },
    {
     "name": "stderr",
     "output_type": "stream",
     "text": [
      "Val_Loader: 100%|██████████| 1249/1249 [02:13<00:00,  9.32it/s]\n"
     ]
    },
    {
     "name": "stdout",
     "output_type": "stream",
     "text": [
      "Epoch #034, Conservation1: 2.6552, Conservation2: 1.4772, Conservation3: 4.7937\n"
     ]
    },
    {
     "name": "stderr",
     "output_type": "stream",
     "text": [
      "Train_Loader: 100%|██████████| 4129/4129 [14:45<00:00,  4.66it/s]\n"
     ]
    },
    {
     "name": "stdout",
     "output_type": "stream",
     "text": [
      "Epoch #035, Conservation1: 2.0417, Conservation2: 1.1530, Conservation3: 3.4821\n"
     ]
    },
    {
     "name": "stderr",
     "output_type": "stream",
     "text": [
      "Val_Loader: 100%|██████████| 1249/1249 [02:21<00:00,  8.85it/s] \n"
     ]
    },
    {
     "name": "stdout",
     "output_type": "stream",
     "text": [
      "Epoch #035, Conservation1: 2.4038, Conservation2: 1.7769, Conservation3: 5.4205\n"
     ]
    },
    {
     "name": "stderr",
     "output_type": "stream",
     "text": [
      "Train_Loader: 100%|██████████| 4129/4129 [15:00<00:00,  4.58it/s]\n"
     ]
    },
    {
     "name": "stdout",
     "output_type": "stream",
     "text": [
      "Epoch #036, Conservation1: 1.9545, Conservation2: 1.0939, Conservation3: 3.3066\n"
     ]
    },
    {
     "name": "stderr",
     "output_type": "stream",
     "text": [
      "Val_Loader: 100%|██████████| 1249/1249 [02:20<00:00,  8.90it/s] \n"
     ]
    },
    {
     "name": "stdout",
     "output_type": "stream",
     "text": [
      "Epoch #036, Conservation1: 2.2617, Conservation2: 1.6708, Conservation3: 4.5706\n"
     ]
    },
    {
     "name": "stderr",
     "output_type": "stream",
     "text": [
      "Train_Loader: 100%|██████████| 4129/4129 [14:45<00:00,  4.66it/s]\n"
     ]
    },
    {
     "name": "stdout",
     "output_type": "stream",
     "text": [
      "Epoch #037, Conservation1: 1.8702, Conservation2: 1.0412, Conservation3: 3.1439\n"
     ]
    },
    {
     "name": "stderr",
     "output_type": "stream",
     "text": [
      "Val_Loader: 100%|██████████| 1249/1249 [02:23<00:00,  8.71it/s] \n"
     ]
    },
    {
     "name": "stdout",
     "output_type": "stream",
     "text": [
      "Epoch #037, Conservation1: 2.4581, Conservation2: 1.1873, Conservation3: 4.0622\n"
     ]
    },
    {
     "name": "stderr",
     "output_type": "stream",
     "text": [
      "Train_Loader: 100%|██████████| 4129/4129 [14:55<00:00,  4.61it/s]\n"
     ]
    },
    {
     "name": "stdout",
     "output_type": "stream",
     "text": [
      "Epoch #038, Conservation1: 1.7960, Conservation2: 0.9930, Conservation3: 3.0041\n"
     ]
    },
    {
     "name": "stderr",
     "output_type": "stream",
     "text": [
      "Val_Loader: 100%|██████████| 1249/1249 [02:26<00:00,  8.53it/s] \n"
     ]
    },
    {
     "name": "stdout",
     "output_type": "stream",
     "text": [
      "Epoch #038, Conservation1: 2.3824, Conservation2: 1.1035, Conservation3: 4.8782\n"
     ]
    },
    {
     "name": "stderr",
     "output_type": "stream",
     "text": [
      "Train_Loader: 100%|██████████| 4129/4129 [15:07<00:00,  4.55it/s]\n"
     ]
    },
    {
     "name": "stdout",
     "output_type": "stream",
     "text": [
      "Epoch #039, Conservation1: 1.7252, Conservation2: 0.9480, Conservation3: 2.8678\n"
     ]
    },
    {
     "name": "stderr",
     "output_type": "stream",
     "text": [
      "Val_Loader: 100%|██████████| 1249/1249 [02:24<00:00,  8.64it/s] \n"
     ]
    },
    {
     "name": "stdout",
     "output_type": "stream",
     "text": [
      "Epoch #039, Conservation1: 2.2383, Conservation2: 0.9057, Conservation3: 3.9651\n"
     ]
    },
    {
     "name": "stderr",
     "output_type": "stream",
     "text": [
      "Train_Loader: 100%|██████████| 4129/4129 [14:59<00:00,  4.59it/s]\n"
     ]
    },
    {
     "name": "stdout",
     "output_type": "stream",
     "text": [
      "Epoch #040, Conservation1: 1.6623, Conservation2: 0.9096, Conservation3: 2.7455\n"
     ]
    },
    {
     "name": "stderr",
     "output_type": "stream",
     "text": [
      "Val_Loader: 100%|██████████| 1249/1249 [02:21<00:00,  8.81it/s] \n"
     ]
    },
    {
     "name": "stdout",
     "output_type": "stream",
     "text": [
      "Epoch #040, Conservation1: 2.0743, Conservation2: 1.2734, Conservation3: 4.1408\n"
     ]
    },
    {
     "name": "stderr",
     "output_type": "stream",
     "text": [
      "Train_Loader: 100%|██████████| 4129/4129 [15:06<00:00,  4.56it/s]\n"
     ]
    },
    {
     "name": "stdout",
     "output_type": "stream",
     "text": [
      "Epoch #041, Conservation1: 1.6034, Conservation2: 0.8717, Conservation3: 2.6327\n"
     ]
    },
    {
     "name": "stderr",
     "output_type": "stream",
     "text": [
      "Val_Loader: 100%|██████████| 1249/1249 [02:21<00:00,  8.84it/s] \n"
     ]
    },
    {
     "name": "stdout",
     "output_type": "stream",
     "text": [
      "Epoch #041, Conservation1: 1.9843, Conservation2: 1.1644, Conservation3: 4.1932\n"
     ]
    },
    {
     "name": "stderr",
     "output_type": "stream",
     "text": [
      "Train_Loader: 100%|██████████| 4129/4129 [15:20<00:00,  4.48it/s]\n"
     ]
    },
    {
     "name": "stdout",
     "output_type": "stream",
     "text": [
      "Epoch #042, Conservation1: 1.5493, Conservation2: 0.8366, Conservation3: 2.5281\n"
     ]
    },
    {
     "name": "stderr",
     "output_type": "stream",
     "text": [
      "Val_Loader: 100%|██████████| 1249/1249 [02:26<00:00,  8.51it/s] \n"
     ]
    },
    {
     "name": "stdout",
     "output_type": "stream",
     "text": [
      "Epoch #042, Conservation1: 1.8233, Conservation2: 1.1977, Conservation3: 3.4775\n"
     ]
    },
    {
     "name": "stderr",
     "output_type": "stream",
     "text": [
      "Train_Loader: 100%|██████████| 4129/4129 [15:13<00:00,  4.52it/s]\n"
     ]
    },
    {
     "name": "stdout",
     "output_type": "stream",
     "text": [
      "Epoch #043, Conservation1: 1.5013, Conservation2: 0.8045, Conservation3: 2.4291\n"
     ]
    },
    {
     "name": "stderr",
     "output_type": "stream",
     "text": [
      "Val_Loader: 100%|██████████| 1249/1249 [02:28<00:00,  8.43it/s] \n"
     ]
    },
    {
     "name": "stdout",
     "output_type": "stream",
     "text": [
      "Epoch #043, Conservation1: 1.8674, Conservation2: 1.1849, Conservation3: 3.8237\n"
     ]
    },
    {
     "name": "stderr",
     "output_type": "stream",
     "text": [
      "Train_Loader: 100%|██████████| 4129/4129 [15:35<00:00,  4.42it/s]\n"
     ]
    },
    {
     "name": "stdout",
     "output_type": "stream",
     "text": [
      "Epoch #044, Conservation1: 1.4552, Conservation2: 0.7764, Conservation3: 2.3423\n"
     ]
    },
    {
     "name": "stderr",
     "output_type": "stream",
     "text": [
      "Val_Loader: 100%|██████████| 1249/1249 [02:32<00:00,  8.19it/s] \n"
     ]
    },
    {
     "name": "stdout",
     "output_type": "stream",
     "text": [
      "Epoch #044, Conservation1: 1.6933, Conservation2: 0.7847, Conservation3: 2.8726\n"
     ]
    },
    {
     "name": "stderr",
     "output_type": "stream",
     "text": [
      "Train_Loader: 100%|██████████| 4129/4129 [15:21<00:00,  4.48it/s]\n"
     ]
    },
    {
     "name": "stdout",
     "output_type": "stream",
     "text": [
      "Epoch #045, Conservation1: 1.4116, Conservation2: 0.7485, Conservation3: 2.2589\n"
     ]
    },
    {
     "name": "stderr",
     "output_type": "stream",
     "text": [
      "Val_Loader: 100%|██████████| 1249/1249 [02:31<00:00,  8.23it/s] \n"
     ]
    },
    {
     "name": "stdout",
     "output_type": "stream",
     "text": [
      "Epoch #045, Conservation1: 1.7258, Conservation2: 0.8949, Conservation3: 3.2504\n"
     ]
    },
    {
     "name": "stderr",
     "output_type": "stream",
     "text": [
      "Train_Loader: 100%|██████████| 4129/4129 [15:23<00:00,  4.47it/s]\n"
     ]
    },
    {
     "name": "stdout",
     "output_type": "stream",
     "text": [
      "Epoch #046, Conservation1: 1.3725, Conservation2: 0.7242, Conservation3: 2.1840\n"
     ]
    },
    {
     "name": "stderr",
     "output_type": "stream",
     "text": [
      "Val_Loader: 100%|██████████| 1249/1249 [02:34<00:00,  8.09it/s] \n"
     ]
    },
    {
     "name": "stdout",
     "output_type": "stream",
     "text": [
      "Epoch #046, Conservation1: 1.6924, Conservation2: 1.0233, Conservation3: 3.2398\n"
     ]
    },
    {
     "name": "stderr",
     "output_type": "stream",
     "text": [
      "Train_Loader: 100%|██████████| 4129/4129 [15:27<00:00,  4.45it/s]\n"
     ]
    },
    {
     "name": "stdout",
     "output_type": "stream",
     "text": [
      "Epoch #047, Conservation1: 1.3363, Conservation2: 0.7010, Conservation3: 2.1145\n"
     ]
    },
    {
     "name": "stderr",
     "output_type": "stream",
     "text": [
      "Val_Loader: 100%|██████████| 1249/1249 [02:33<00:00,  8.16it/s] \n"
     ]
    },
    {
     "name": "stdout",
     "output_type": "stream",
     "text": [
      "Epoch #047, Conservation1: 1.6611, Conservation2: 0.9786, Conservation3: 3.1489\n"
     ]
    },
    {
     "name": "stderr",
     "output_type": "stream",
     "text": [
      "Train_Loader: 100%|██████████| 4129/4129 [15:34<00:00,  4.42it/s]\n"
     ]
    },
    {
     "name": "stdout",
     "output_type": "stream",
     "text": [
      "Epoch #048, Conservation1: 1.3014, Conservation2: 0.6799, Conservation3: 2.0498\n"
     ]
    },
    {
     "name": "stderr",
     "output_type": "stream",
     "text": [
      "Val_Loader: 100%|██████████| 1249/1249 [02:33<00:00,  8.15it/s] \n"
     ]
    },
    {
     "name": "stdout",
     "output_type": "stream",
     "text": [
      "Epoch #048, Conservation1: 1.6240, Conservation2: 0.9309, Conservation3: 3.0729\n"
     ]
    },
    {
     "name": "stderr",
     "output_type": "stream",
     "text": [
      "Train_Loader: 100%|██████████| 4129/4129 [15:38<00:00,  4.40it/s]\n"
     ]
    },
    {
     "name": "stdout",
     "output_type": "stream",
     "text": [
      "Epoch #049, Conservation1: 1.2710, Conservation2: 0.6606, Conservation3: 1.9879\n"
     ]
    },
    {
     "name": "stderr",
     "output_type": "stream",
     "text": [
      "Val_Loader: 100%|██████████| 1249/1249 [02:31<00:00,  8.24it/s] \n"
     ]
    },
    {
     "name": "stdout",
     "output_type": "stream",
     "text": [
      "Epoch #049, Conservation1: 1.5890, Conservation2: 0.7841, Conservation3: 2.7040\n",
      "The current best model is saved in: ******** outputs/Exp/model.pth *********\n",
      "Total time: 45841.3772s\n",
      "\n",
      "********** TEST START **********\n",
      "Reload Best Model\n",
      "The current best model is saved in: ******** outputs/Exp/model.pth *********\n"
     ]
    },
    {
     "name": "stderr",
     "output_type": "stream",
     "text": [
      "Test_Loader: 100%|██████████| 288/288 [00:26<00:00, 10.79it/s]\n"
     ]
    },
    {
     "name": "stdout",
     "output_type": "stream",
     "text": [
      "Loss1: 2.1380, Loss2: 1.0335, Loss3: 4.4543\n"
     ]
    },
    {
     "name": "stderr",
     "output_type": "stream",
     "text": [
      "Test_Loader: 100%|██████████| 288/288 [00:27<00:00, 10.55it/s]\n"
     ]
    },
    {
     "name": "stdout",
     "output_type": "stream",
     "text": [
      "Loss1: 2.1536, Loss2: 0.9975, Loss3: 4.0840\n"
     ]
    },
    {
     "name": "stderr",
     "output_type": "stream",
     "text": [
      "Test_Loader: 100%|██████████| 288/288 [00:27<00:00, 10.43it/s]\n"
     ]
    },
    {
     "name": "stdout",
     "output_type": "stream",
     "text": [
      "Loss1: 2.0219, Loss2: 0.9558, Loss3: 3.7162\n"
     ]
    },
    {
     "name": "stderr",
     "output_type": "stream",
     "text": [
      "Test_Loader: 100%|██████████| 288/288 [00:27<00:00, 10.40it/s]\n"
     ]
    },
    {
     "name": "stdout",
     "output_type": "stream",
     "text": [
      "Loss1: 2.0424, Loss2: 0.9449, Loss3: 3.5554\n"
     ]
    },
    {
     "name": "stderr",
     "output_type": "stream",
     "text": [
      "Test_Loader: 100%|██████████| 288/288 [00:28<00:00, 10.27it/s]\n"
     ]
    },
    {
     "name": "stdout",
     "output_type": "stream",
     "text": [
      "Loss1: 1.9959, Loss2: 0.9283, Loss3: 3.4351\n"
     ]
    },
    {
     "name": "stderr",
     "output_type": "stream",
     "text": [
      "Test_Loader: 100%|██████████| 288/288 [00:28<00:00, 10.09it/s]\n"
     ]
    },
    {
     "name": "stdout",
     "output_type": "stream",
     "text": [
      "Loss1: 1.9512, Loss2: 0.9072, Loss3: 3.2819\n"
     ]
    },
    {
     "name": "stderr",
     "output_type": "stream",
     "text": [
      "Test_Loader: 100%|██████████| 288/288 [00:28<00:00, 10.23it/s]\n"
     ]
    },
    {
     "name": "stdout",
     "output_type": "stream",
     "text": [
      "Loss1: 1.8829, Loss2: 0.9265, Loss3: 3.1736\n"
     ]
    },
    {
     "name": "stderr",
     "output_type": "stream",
     "text": [
      "Test_Loader: 100%|██████████| 288/288 [00:28<00:00, 10.21it/s]\n"
     ]
    },
    {
     "name": "stdout",
     "output_type": "stream",
     "text": [
      "Loss1: 1.9197, Loss2: 0.9402, Loss3: 3.0812\n"
     ]
    },
    {
     "name": "stderr",
     "output_type": "stream",
     "text": [
      "Test_Loader: 100%|██████████| 288/288 [00:28<00:00, 10.19it/s]\n"
     ]
    },
    {
     "name": "stdout",
     "output_type": "stream",
     "text": [
      "Loss1: 1.8720, Loss2: 0.9221, Loss3: 3.0395\n"
     ]
    },
    {
     "name": "stderr",
     "output_type": "stream",
     "text": [
      "Test_Loader: 100%|██████████| 288/288 [00:27<00:00, 10.66it/s]\n"
     ]
    },
    {
     "name": "stdout",
     "output_type": "stream",
     "text": [
      "Loss1: 1.7829, Loss2: 0.8879, Loss3: 2.9194\n"
     ]
    },
    {
     "name": "stderr",
     "output_type": "stream",
     "text": [
      "Test_Loader: 100%|██████████| 288/288 [00:28<00:00,  9.97it/s]\n"
     ]
    },
    {
     "name": "stdout",
     "output_type": "stream",
     "text": [
      "Loss1: 1.7796, Loss2: 0.8930, Loss3: 2.8985\n"
     ]
    },
    {
     "name": "stderr",
     "output_type": "stream",
     "text": [
      "Test_Loader: 100%|██████████| 288/288 [00:29<00:00,  9.70it/s]\n"
     ]
    },
    {
     "name": "stdout",
     "output_type": "stream",
     "text": [
      "Loss1: 1.8020, Loss2: 0.8882, Loss3: 2.8717\n"
     ]
    },
    {
     "name": "stderr",
     "output_type": "stream",
     "text": [
      "Test_Loader: 100%|██████████| 288/288 [00:26<00:00, 10.67it/s]\n"
     ]
    },
    {
     "name": "stdout",
     "output_type": "stream",
     "text": [
      "Loss1: 1.7483, Loss2: 0.8865, Loss3: 2.8764\n"
     ]
    },
    {
     "name": "stderr",
     "output_type": "stream",
     "text": [
      "Test_Loader: 100%|██████████| 288/288 [00:27<00:00, 10.57it/s]\n"
     ]
    },
    {
     "name": "stdout",
     "output_type": "stream",
     "text": [
      "Loss1: 1.7504, Loss2: 0.8848, Loss3: 2.8916\n"
     ]
    },
    {
     "name": "stderr",
     "output_type": "stream",
     "text": [
      "Test_Loader: 100%|██████████| 288/288 [00:27<00:00, 10.44it/s]\n"
     ]
    },
    {
     "name": "stdout",
     "output_type": "stream",
     "text": [
      "Loss1: 1.7636, Loss2: 0.8628, Loss3: 2.7848\n"
     ]
    },
    {
     "name": "stderr",
     "output_type": "stream",
     "text": [
      "Test_Loader: 100%|██████████| 288/288 [00:26<00:00, 10.67it/s]\n"
     ]
    },
    {
     "name": "stdout",
     "output_type": "stream",
     "text": [
      "Loss1: 1.7143, Loss2: 0.8523, Loss3: 2.8010\n"
     ]
    },
    {
     "name": "stderr",
     "output_type": "stream",
     "text": [
      "Test_Loader: 100%|██████████| 288/288 [00:27<00:00, 10.52it/s]\n"
     ]
    },
    {
     "name": "stdout",
     "output_type": "stream",
     "text": [
      "Loss1: 1.7000, Loss2: 0.8563, Loss3: 2.7900\n"
     ]
    },
    {
     "name": "stderr",
     "output_type": "stream",
     "text": [
      "Test_Loader: 100%|██████████| 288/288 [00:28<00:00, 10.21it/s]\n"
     ]
    },
    {
     "name": "stdout",
     "output_type": "stream",
     "text": [
      "Loss1: 1.7744, Loss2: 0.8784, Loss3: 2.7822\n"
     ]
    },
    {
     "name": "stderr",
     "output_type": "stream",
     "text": [
      "Test_Loader: 100%|██████████| 288/288 [00:28<00:00, 10.12it/s]\n"
     ]
    },
    {
     "name": "stdout",
     "output_type": "stream",
     "text": [
      "Loss1: 1.8514, Loss2: 0.8783, Loss3: 2.7155\n"
     ]
    },
    {
     "name": "stderr",
     "output_type": "stream",
     "text": [
      "Test_Loader: 100%|██████████| 288/288 [00:27<00:00, 10.42it/s]\n"
     ]
    },
    {
     "name": "stdout",
     "output_type": "stream",
     "text": [
      "Loss1: 1.8677, Loss2: 0.8981, Loss3: 2.7224\n"
     ]
    },
    {
     "name": "stderr",
     "output_type": "stream",
     "text": [
      "Test_Loader: 100%|██████████| 288/288 [00:28<00:00, 10.26it/s]\n"
     ]
    },
    {
     "name": "stdout",
     "output_type": "stream",
     "text": [
      "Loss1: 1.8540, Loss2: 0.8926, Loss3: 2.7139\n"
     ]
    },
    {
     "name": "stderr",
     "output_type": "stream",
     "text": [
      "Test_Loader: 100%|██████████| 288/288 [00:27<00:00, 10.36it/s]\n"
     ]
    },
    {
     "name": "stdout",
     "output_type": "stream",
     "text": [
      "Loss1: 1.7831, Loss2: 0.8718, Loss3: 2.5704\n"
     ]
    },
    {
     "name": "stderr",
     "output_type": "stream",
     "text": [
      "Test_Loader: 100%|██████████| 288/288 [00:26<00:00, 10.71it/s]\n"
     ]
    },
    {
     "name": "stdout",
     "output_type": "stream",
     "text": [
      "Loss1: 1.7797, Loss2: 0.8613, Loss3: 2.5901\n"
     ]
    },
    {
     "name": "stderr",
     "output_type": "stream",
     "text": [
      "Test_Loader: 100%|██████████| 288/288 [00:27<00:00, 10.35it/s]\n"
     ]
    },
    {
     "name": "stdout",
     "output_type": "stream",
     "text": [
      "Loss1: 1.7769, Loss2: 0.8765, Loss3: 2.5866\n"
     ]
    },
    {
     "name": "stderr",
     "output_type": "stream",
     "text": [
      "Test_Loader: 100%|██████████| 288/288 [00:29<00:00,  9.67it/s]\n"
     ]
    },
    {
     "name": "stdout",
     "output_type": "stream",
     "text": [
      "Loss1: 1.7602, Loss2: 0.8586, Loss3: 2.5501\n"
     ]
    },
    {
     "name": "stderr",
     "output_type": "stream",
     "text": [
      "Test_Loader: 100%|██████████| 288/288 [00:27<00:00, 10.55it/s]\n"
     ]
    },
    {
     "name": "stdout",
     "output_type": "stream",
     "text": [
      "Loss1: 1.7501, Loss2: 0.8547, Loss3: 2.5049\n"
     ]
    },
    {
     "name": "stderr",
     "output_type": "stream",
     "text": [
      "Test_Loader: 100%|██████████| 288/288 [00:27<00:00, 10.54it/s]\n"
     ]
    },
    {
     "name": "stdout",
     "output_type": "stream",
     "text": [
      "Loss1: 1.7386, Loss2: 0.8417, Loss3: 2.5338\n"
     ]
    },
    {
     "name": "stderr",
     "output_type": "stream",
     "text": [
      "Test_Loader: 100%|██████████| 288/288 [00:27<00:00, 10.66it/s]\n"
     ]
    },
    {
     "name": "stdout",
     "output_type": "stream",
     "text": [
      "Loss1: 1.7502, Loss2: 0.8559, Loss3: 2.4575\n"
     ]
    },
    {
     "name": "stderr",
     "output_type": "stream",
     "text": [
      "Test_Loader: 100%|██████████| 288/288 [00:27<00:00, 10.42it/s]\n"
     ]
    },
    {
     "name": "stdout",
     "output_type": "stream",
     "text": [
      "Loss1: 1.7161, Loss2: 0.8417, Loss3: 2.4562\n"
     ]
    },
    {
     "name": "stderr",
     "output_type": "stream",
     "text": [
      "Test_Loader: 100%|██████████| 288/288 [00:27<00:00, 10.40it/s]\n"
     ]
    },
    {
     "name": "stdout",
     "output_type": "stream",
     "text": [
      "Loss1: 1.7166, Loss2: 0.8410, Loss3: 2.4599\n"
     ]
    },
    {
     "name": "stderr",
     "output_type": "stream",
     "text": [
      "Test_Loader: 100%|██████████| 288/288 [00:27<00:00, 10.35it/s]\n"
     ]
    },
    {
     "name": "stdout",
     "output_type": "stream",
     "text": [
      "Loss1: 1.6987, Loss2: 0.8467, Loss3: 2.4649\n"
     ]
    },
    {
     "name": "stderr",
     "output_type": "stream",
     "text": [
      "Test_Loader: 100%|██████████| 288/288 [00:28<00:00, 10.15it/s]\n"
     ]
    },
    {
     "name": "stdout",
     "output_type": "stream",
     "text": [
      "Loss1: 1.7513, Loss2: 0.8536, Loss3: 2.4350\n"
     ]
    },
    {
     "name": "stderr",
     "output_type": "stream",
     "text": [
      "Test_Loader: 100%|██████████| 288/288 [00:27<00:00, 10.40it/s]\n"
     ]
    },
    {
     "name": "stdout",
     "output_type": "stream",
     "text": [
      "Loss1: 1.7039, Loss2: 0.8199, Loss3: 2.3856\n"
     ]
    },
    {
     "name": "stderr",
     "output_type": "stream",
     "text": [
      "Test_Loader: 100%|██████████| 288/288 [00:27<00:00, 10.42it/s]\n"
     ]
    },
    {
     "name": "stdout",
     "output_type": "stream",
     "text": [
      "Loss1: 1.6980, Loss2: 0.8216, Loss3: 2.3849\n"
     ]
    },
    {
     "name": "stderr",
     "output_type": "stream",
     "text": [
      "Test_Loader: 100%|██████████| 288/288 [00:27<00:00, 10.35it/s]\n"
     ]
    },
    {
     "name": "stdout",
     "output_type": "stream",
     "text": [
      "Loss1: 1.6684, Loss2: 0.8067, Loss3: 2.3829\n"
     ]
    },
    {
     "name": "stderr",
     "output_type": "stream",
     "text": [
      "Test_Loader: 100%|██████████| 288/288 [00:27<00:00, 10.36it/s]\n"
     ]
    },
    {
     "name": "stdout",
     "output_type": "stream",
     "text": [
      "Loss1: 1.6322, Loss2: 0.7835, Loss3: 2.3430\n"
     ]
    },
    {
     "name": "stderr",
     "output_type": "stream",
     "text": [
      "Test_Loader: 100%|██████████| 288/288 [00:27<00:00, 10.33it/s]\n"
     ]
    },
    {
     "name": "stdout",
     "output_type": "stream",
     "text": [
      "Loss1: 1.6607, Loss2: 0.7872, Loss3: 2.3428\n"
     ]
    },
    {
     "name": "stderr",
     "output_type": "stream",
     "text": [
      "Test_Loader: 100%|██████████| 288/288 [00:29<00:00,  9.86it/s]\n"
     ]
    },
    {
     "name": "stdout",
     "output_type": "stream",
     "text": [
      "Loss1: 1.6750, Loss2: 0.7883, Loss3: 2.3181\n"
     ]
    },
    {
     "name": "stderr",
     "output_type": "stream",
     "text": [
      "Test_Loader: 100%|██████████| 288/288 [00:26<00:00, 10.69it/s]\n"
     ]
    },
    {
     "name": "stdout",
     "output_type": "stream",
     "text": [
      "Loss1: 1.6742, Loss2: 0.7871, Loss3: 2.2976\n"
     ]
    },
    {
     "name": "stderr",
     "output_type": "stream",
     "text": [
      "Test_Loader: 100%|██████████| 288/288 [00:26<00:00, 10.70it/s]\n"
     ]
    },
    {
     "name": "stdout",
     "output_type": "stream",
     "text": [
      "Loss1: 1.7822, Loss2: 0.8117, Loss3: 2.3780\n"
     ]
    },
    {
     "name": "stderr",
     "output_type": "stream",
     "text": [
      "Test_Loader: 100%|██████████| 288/288 [00:27<00:00, 10.62it/s]\n"
     ]
    },
    {
     "name": "stdout",
     "output_type": "stream",
     "text": [
      "Loss1: 1.7587, Loss2: 0.8069, Loss3: 2.3473\n"
     ]
    },
    {
     "name": "stderr",
     "output_type": "stream",
     "text": [
      "Test_Loader: 100%|██████████| 288/288 [00:27<00:00, 10.40it/s]\n"
     ]
    },
    {
     "name": "stdout",
     "output_type": "stream",
     "text": [
      "Loss1: 1.7593, Loss2: 0.8009, Loss3: 2.3650\n"
     ]
    },
    {
     "name": "stderr",
     "output_type": "stream",
     "text": [
      "Test_Loader: 100%|██████████| 288/288 [00:27<00:00, 10.50it/s]\n"
     ]
    },
    {
     "name": "stdout",
     "output_type": "stream",
     "text": [
      "Loss1: 1.7732, Loss2: 0.8026, Loss3: 2.3459\n"
     ]
    },
    {
     "name": "stderr",
     "output_type": "stream",
     "text": [
      "Test_Loader: 100%|██████████| 288/288 [00:28<00:00, 10.10it/s]\n"
     ]
    },
    {
     "name": "stdout",
     "output_type": "stream",
     "text": [
      "Loss1: 1.8551, Loss2: 0.8562, Loss3: 2.4676\n"
     ]
    },
    {
     "name": "stderr",
     "output_type": "stream",
     "text": [
      "Test_Loader: 100%|██████████| 288/288 [00:29<00:00,  9.93it/s]\n"
     ]
    },
    {
     "name": "stdout",
     "output_type": "stream",
     "text": [
      "Loss1: 1.8634, Loss2: 0.8459, Loss3: 2.4539\n"
     ]
    },
    {
     "name": "stderr",
     "output_type": "stream",
     "text": [
      "Test_Loader: 100%|██████████| 288/288 [00:28<00:00, 10.01it/s]\n"
     ]
    },
    {
     "name": "stdout",
     "output_type": "stream",
     "text": [
      "Loss1: 1.8369, Loss2: 0.8381, Loss3: 2.4297\n"
     ]
    },
    {
     "name": "stderr",
     "output_type": "stream",
     "text": [
      "Test_Loader: 100%|██████████| 288/288 [00:28<00:00, 10.06it/s]\n"
     ]
    },
    {
     "name": "stdout",
     "output_type": "stream",
     "text": [
      "Loss1: 1.7906, Loss2: 0.8196, Loss3: 2.4347\n"
     ]
    },
    {
     "name": "stderr",
     "output_type": "stream",
     "text": [
      "Test_Loader: 100%|██████████| 288/288 [00:28<00:00, 10.04it/s]\n"
     ]
    },
    {
     "name": "stdout",
     "output_type": "stream",
     "text": [
      "Loss1: 1.8360, Loss2: 0.8240, Loss3: 2.4304\n"
     ]
    },
    {
     "name": "stderr",
     "output_type": "stream",
     "text": [
      "Test_Loader: 100%|██████████| 288/288 [00:28<00:00, 10.25it/s]\n"
     ]
    },
    {
     "name": "stdout",
     "output_type": "stream",
     "text": [
      "Loss1: 1.8248, Loss2: 0.8328, Loss3: 2.3575\n"
     ]
    },
    {
     "name": "stderr",
     "output_type": "stream",
     "text": [
      "Test_Loader: 100%|██████████| 288/288 [00:30<00:00,  9.53it/s]\n"
     ]
    },
    {
     "name": "stdout",
     "output_type": "stream",
     "text": [
      "Loss1: 1.7790, Loss2: 0.8302, Loss3: 2.3823\n"
     ]
    },
    {
     "name": "stderr",
     "output_type": "stream",
     "text": [
      "Test_Loader: 100%|██████████| 288/288 [00:30<00:00,  9.58it/s]\n"
     ]
    },
    {
     "name": "stdout",
     "output_type": "stream",
     "text": [
      "Loss1: 1.7879, Loss2: 0.8245, Loss3: 2.3557\n"
     ]
    },
    {
     "name": "stderr",
     "output_type": "stream",
     "text": [
      "Test_Loader: 100%|██████████| 288/288 [00:27<00:00, 10.55it/s]\n"
     ]
    },
    {
     "name": "stdout",
     "output_type": "stream",
     "text": [
      "Loss1: 1.7605, Loss2: 0.8084, Loss3: 2.3580\n"
     ]
    },
    {
     "name": "stderr",
     "output_type": "stream",
     "text": [
      "Test_Loader: 100%|██████████| 288/288 [00:27<00:00, 10.38it/s]\n"
     ]
    },
    {
     "name": "stdout",
     "output_type": "stream",
     "text": [
      "Loss1: 1.8437, Loss2: 0.8479, Loss3: 2.3577\n"
     ]
    },
    {
     "name": "stderr",
     "output_type": "stream",
     "text": [
      "Test_Loader: 100%|██████████| 288/288 [00:28<00:00,  9.98it/s]\n"
     ]
    },
    {
     "name": "stdout",
     "output_type": "stream",
     "text": [
      "Loss1: 1.7998, Loss2: 0.8408, Loss3: 2.3465\n"
     ]
    },
    {
     "name": "stderr",
     "output_type": "stream",
     "text": [
      "Test_Loader: 100%|██████████| 288/288 [00:28<00:00, 10.11it/s]\n"
     ]
    },
    {
     "name": "stdout",
     "output_type": "stream",
     "text": [
      "Loss1: 1.8065, Loss2: 0.8427, Loss3: 2.3290\n"
     ]
    },
    {
     "name": "stderr",
     "output_type": "stream",
     "text": [
      "Test_Loader: 100%|██████████| 288/288 [00:27<00:00, 10.44it/s]\n"
     ]
    },
    {
     "name": "stdout",
     "output_type": "stream",
     "text": [
      "Loss1: 1.7990, Loss2: 0.8319, Loss3: 2.2985\n"
     ]
    },
    {
     "name": "stderr",
     "output_type": "stream",
     "text": [
      "Test_Loader: 100%|██████████| 288/288 [00:28<00:00,  9.98it/s]\n"
     ]
    },
    {
     "name": "stdout",
     "output_type": "stream",
     "text": [
      "Loss1: 1.8039, Loss2: 0.8332, Loss3: 2.2779\n"
     ]
    },
    {
     "name": "stderr",
     "output_type": "stream",
     "text": [
      "Test_Loader: 100%|██████████| 288/288 [00:28<00:00, 10.10it/s]\n"
     ]
    },
    {
     "name": "stdout",
     "output_type": "stream",
     "text": [
      "Loss1: 1.7886, Loss2: 0.8380, Loss3: 2.2865\n"
     ]
    },
    {
     "name": "stderr",
     "output_type": "stream",
     "text": [
      "Test_Loader: 100%|██████████| 288/288 [00:29<00:00,  9.82it/s]\n"
     ]
    },
    {
     "name": "stdout",
     "output_type": "stream",
     "text": [
      "Loss1: 1.7908, Loss2: 0.8423, Loss3: 2.2686\n"
     ]
    },
    {
     "name": "stderr",
     "output_type": "stream",
     "text": [
      "Test_Loader: 100%|██████████| 288/288 [00:28<00:00, 10.27it/s]\n"
     ]
    },
    {
     "name": "stdout",
     "output_type": "stream",
     "text": [
      "Loss1: 1.7787, Loss2: 0.8374, Loss3: 2.2530\n"
     ]
    },
    {
     "name": "stderr",
     "output_type": "stream",
     "text": [
      "Test_Loader: 100%|██████████| 288/288 [00:27<00:00, 10.51it/s]\n"
     ]
    },
    {
     "name": "stdout",
     "output_type": "stream",
     "text": [
      "Loss1: 1.7737, Loss2: 0.8300, Loss3: 2.2565\n"
     ]
    },
    {
     "name": "stderr",
     "output_type": "stream",
     "text": [
      "Test_Loader: 100%|██████████| 288/288 [00:27<00:00, 10.64it/s]\n"
     ]
    },
    {
     "name": "stdout",
     "output_type": "stream",
     "text": [
      "Loss1: 1.8006, Loss2: 0.8224, Loss3: 2.2057\n"
     ]
    },
    {
     "name": "stderr",
     "output_type": "stream",
     "text": [
      "Test_Loader: 100%|██████████| 288/288 [00:27<00:00, 10.50it/s]\n"
     ]
    },
    {
     "name": "stdout",
     "output_type": "stream",
     "text": [
      "Loss1: 1.7929, Loss2: 0.8240, Loss3: 2.2021\n"
     ]
    },
    {
     "name": "stderr",
     "output_type": "stream",
     "text": [
      "Test_Loader: 100%|██████████| 288/288 [00:28<00:00, 10.12it/s]\n"
     ]
    },
    {
     "name": "stdout",
     "output_type": "stream",
     "text": [
      "Loss1: 1.7663, Loss2: 0.8128, Loss3: 2.1919\n"
     ]
    },
    {
     "name": "stderr",
     "output_type": "stream",
     "text": [
      "Test_Loader: 100%|██████████| 288/288 [00:27<00:00, 10.53it/s]\n"
     ]
    },
    {
     "name": "stdout",
     "output_type": "stream",
     "text": [
      "Loss1: 1.7412, Loss2: 0.8020, Loss3: 2.2225\n"
     ]
    },
    {
     "name": "stderr",
     "output_type": "stream",
     "text": [
      "Test_Loader: 100%|██████████| 288/288 [00:27<00:00, 10.44it/s]\n"
     ]
    },
    {
     "name": "stdout",
     "output_type": "stream",
     "text": [
      "Loss1: 1.6735, Loss2: 0.7762, Loss3: 2.1057\n"
     ]
    },
    {
     "name": "stderr",
     "output_type": "stream",
     "text": [
      "Test_Loader: 100%|██████████| 288/288 [00:27<00:00, 10.38it/s]\n"
     ]
    },
    {
     "name": "stdout",
     "output_type": "stream",
     "text": [
      "Loss1: 1.6761, Loss2: 0.7396, Loss3: 2.0578\n"
     ]
    },
    {
     "name": "stderr",
     "output_type": "stream",
     "text": [
      "Test_Loader: 100%|██████████| 288/288 [00:28<00:00, 10.11it/s]\n"
     ]
    },
    {
     "name": "stdout",
     "output_type": "stream",
     "text": [
      "Loss1: 1.6665, Loss2: 0.7441, Loss3: 2.0581\n"
     ]
    },
    {
     "name": "stderr",
     "output_type": "stream",
     "text": [
      "Test_Loader: 100%|██████████| 288/288 [00:28<00:00, 10.25it/s]\n"
     ]
    },
    {
     "name": "stdout",
     "output_type": "stream",
     "text": [
      "Loss1: 1.6259, Loss2: 0.7436, Loss3: 2.0219\n"
     ]
    },
    {
     "name": "stderr",
     "output_type": "stream",
     "text": [
      "Test_Loader: 100%|██████████| 288/288 [00:28<00:00,  9.99it/s]\n"
     ]
    },
    {
     "name": "stdout",
     "output_type": "stream",
     "text": [
      "Loss1: 1.6406, Loss2: 0.7334, Loss3: 2.0244\n"
     ]
    },
    {
     "name": "stderr",
     "output_type": "stream",
     "text": [
      "Test_Loader: 100%|██████████| 288/288 [00:28<00:00, 10.10it/s]\n"
     ]
    },
    {
     "name": "stdout",
     "output_type": "stream",
     "text": [
      "Loss1: 1.6689, Loss2: 0.7380, Loss3: 2.0219\n"
     ]
    },
    {
     "name": "stderr",
     "output_type": "stream",
     "text": [
      "Test_Loader: 100%|██████████| 288/288 [00:28<00:00, 10.13it/s]\n"
     ]
    },
    {
     "name": "stdout",
     "output_type": "stream",
     "text": [
      "Loss1: 1.6732, Loss2: 0.7413, Loss3: 1.9875\n"
     ]
    },
    {
     "name": "stderr",
     "output_type": "stream",
     "text": [
      "Test_Loader: 100%|██████████| 288/288 [00:28<00:00, 10.04it/s]\n"
     ]
    },
    {
     "name": "stdout",
     "output_type": "stream",
     "text": [
      "Loss1: 1.9800, Loss2: 0.7930, Loss3: 1.9024\n"
     ]
    },
    {
     "name": "stderr",
     "output_type": "stream",
     "text": [
      "Test_Loader: 100%|██████████| 288/288 [00:27<00:00, 10.29it/s]\n"
     ]
    },
    {
     "name": "stdout",
     "output_type": "stream",
     "text": [
      "Loss1: 1.9838, Loss2: 0.7825, Loss3: 1.8895\n"
     ]
    },
    {
     "name": "stderr",
     "output_type": "stream",
     "text": [
      "Test_Loader: 100%|██████████| 288/288 [00:28<00:00, 10.18it/s]\n"
     ]
    },
    {
     "name": "stdout",
     "output_type": "stream",
     "text": [
      "Loss1: 1.9003, Loss2: 0.7746, Loss3: 1.9338\n"
     ]
    },
    {
     "name": "stderr",
     "output_type": "stream",
     "text": [
      "Test_Loader: 100%|██████████| 288/288 [00:30<00:00,  9.41it/s]\n"
     ]
    },
    {
     "name": "stdout",
     "output_type": "stream",
     "text": [
      "Loss1: 1.8355, Loss2: 0.7139, Loss3: 1.8875\n"
     ]
    },
    {
     "name": "stderr",
     "output_type": "stream",
     "text": [
      "Test_Loader: 100%|██████████| 288/288 [00:27<00:00, 10.30it/s]\n"
     ]
    },
    {
     "name": "stdout",
     "output_type": "stream",
     "text": [
      "Loss1: 1.8588, Loss2: 0.7080, Loss3: 1.8695\n"
     ]
    },
    {
     "name": "stderr",
     "output_type": "stream",
     "text": [
      "Test_Loader: 100%|██████████| 288/288 [00:27<00:00, 10.57it/s]\n"
     ]
    },
    {
     "name": "stdout",
     "output_type": "stream",
     "text": [
      "Loss1: 1.7860, Loss2: 0.6916, Loss3: 1.8473\n"
     ]
    },
    {
     "name": "stderr",
     "output_type": "stream",
     "text": [
      "Test_Loader: 100%|██████████| 288/288 [00:28<00:00, 10.12it/s]\n"
     ]
    },
    {
     "name": "stdout",
     "output_type": "stream",
     "text": [
      "Loss1: 1.8228, Loss2: 0.6976, Loss3: 1.8568\n"
     ]
    },
    {
     "name": "stderr",
     "output_type": "stream",
     "text": [
      "Test_Loader: 100%|██████████| 288/288 [00:28<00:00, 10.13it/s]\n"
     ]
    },
    {
     "name": "stdout",
     "output_type": "stream",
     "text": [
      "Loss1: 1.6921, Loss2: 0.6699, Loss3: 1.8374\n"
     ]
    },
    {
     "name": "stderr",
     "output_type": "stream",
     "text": [
      "Test_Loader: 100%|██████████| 288/288 [00:27<00:00, 10.31it/s]\n"
     ]
    },
    {
     "name": "stdout",
     "output_type": "stream",
     "text": [
      "Loss1: 1.6599, Loss2: 0.6570, Loss3: 1.8088\n"
     ]
    },
    {
     "name": "stderr",
     "output_type": "stream",
     "text": [
      "Test_Loader: 100%|██████████| 288/288 [00:28<00:00, 10.27it/s]\n"
     ]
    },
    {
     "name": "stdout",
     "output_type": "stream",
     "text": [
      "Loss1: 1.5956, Loss2: 0.6513, Loss3: 1.7662\n"
     ]
    },
    {
     "name": "stderr",
     "output_type": "stream",
     "text": [
      "Test_Loader: 100%|██████████| 288/288 [00:28<00:00, 10.25it/s]\n"
     ]
    },
    {
     "name": "stdout",
     "output_type": "stream",
     "text": [
      "Loss1: 1.5852, Loss2: 0.6291, Loss3: 1.6145\n"
     ]
    },
    {
     "name": "stderr",
     "output_type": "stream",
     "text": [
      "Test_Loader: 100%|██████████| 288/288 [00:27<00:00, 10.33it/s]\n"
     ]
    },
    {
     "name": "stdout",
     "output_type": "stream",
     "text": [
      "Loss1: 1.5799, Loss2: 0.6214, Loss3: 1.6504\n"
     ]
    },
    {
     "name": "stderr",
     "output_type": "stream",
     "text": [
      "Test_Loader: 100%|██████████| 288/288 [00:27<00:00, 10.35it/s]\n"
     ]
    },
    {
     "name": "stdout",
     "output_type": "stream",
     "text": [
      "Loss1: 1.5636, Loss2: 0.6182, Loss3: 1.6331\n"
     ]
    },
    {
     "name": "stderr",
     "output_type": "stream",
     "text": [
      "Test_Loader: 100%|██████████| 288/288 [00:28<00:00, 10.26it/s]\n"
     ]
    },
    {
     "name": "stdout",
     "output_type": "stream",
     "text": [
      "Loss1: 1.5335, Loss2: 0.6376, Loss3: 1.6585\n"
     ]
    },
    {
     "name": "stderr",
     "output_type": "stream",
     "text": [
      "Test_Loader: 100%|██████████| 288/288 [00:27<00:00, 10.40it/s]\n"
     ]
    },
    {
     "name": "stdout",
     "output_type": "stream",
     "text": [
      "Loss1: 1.5669, Loss2: 0.6621, Loss3: 1.6885\n"
     ]
    },
    {
     "name": "stderr",
     "output_type": "stream",
     "text": [
      "Test_Loader: 100%|██████████| 288/288 [00:28<00:00, 10.16it/s]\n"
     ]
    },
    {
     "name": "stdout",
     "output_type": "stream",
     "text": [
      "Loss1: 1.5822, Loss2: 0.6545, Loss3: 1.6430\n"
     ]
    },
    {
     "name": "stderr",
     "output_type": "stream",
     "text": [
      "Test_Loader: 100%|██████████| 288/288 [00:28<00:00, 10.05it/s]\n"
     ]
    },
    {
     "name": "stdout",
     "output_type": "stream",
     "text": [
      "Loss1: 1.5438, Loss2: 0.6513, Loss3: 1.6641\n"
     ]
    },
    {
     "name": "stderr",
     "output_type": "stream",
     "text": [
      "Test_Loader: 100%|██████████| 288/288 [00:27<00:00, 10.34it/s]\n"
     ]
    },
    {
     "name": "stdout",
     "output_type": "stream",
     "text": [
      "Loss1: 1.6206, Loss2: 0.6751, Loss3: 1.6696\n"
     ]
    },
    {
     "name": "stderr",
     "output_type": "stream",
     "text": [
      "Test_Loader: 100%|██████████| 288/288 [00:27<00:00, 10.50it/s]\n"
     ]
    },
    {
     "name": "stdout",
     "output_type": "stream",
     "text": [
      "Loss1: 1.6131, Loss2: 0.6571, Loss3: 1.6202\n"
     ]
    },
    {
     "name": "stderr",
     "output_type": "stream",
     "text": [
      "Test_Loader: 100%|██████████| 288/288 [00:27<00:00, 10.57it/s]\n"
     ]
    },
    {
     "name": "stdout",
     "output_type": "stream",
     "text": [
      "Loss1: 1.5892, Loss2: 0.6575, Loss3: 1.6234\n"
     ]
    },
    {
     "name": "stderr",
     "output_type": "stream",
     "text": [
      "Test_Loader: 100%|██████████| 288/288 [00:27<00:00, 10.56it/s]\n"
     ]
    },
    {
     "name": "stdout",
     "output_type": "stream",
     "text": [
      "Loss1: 1.5618, Loss2: 0.6486, Loss3: 1.6201\n"
     ]
    },
    {
     "name": "stderr",
     "output_type": "stream",
     "text": [
      "Test_Loader: 100%|██████████| 288/288 [00:27<00:00, 10.57it/s]\n"
     ]
    },
    {
     "name": "stdout",
     "output_type": "stream",
     "text": [
      "Loss1: 1.5710, Loss2: 0.6356, Loss3: 1.6081\n"
     ]
    },
    {
     "name": "stderr",
     "output_type": "stream",
     "text": [
      "Test_Loader: 100%|██████████| 288/288 [00:27<00:00, 10.30it/s]\n"
     ]
    },
    {
     "name": "stdout",
     "output_type": "stream",
     "text": [
      "Loss1: 1.5525, Loss2: 0.6338, Loss3: 1.6145\n"
     ]
    },
    {
     "name": "stderr",
     "output_type": "stream",
     "text": [
      "Test_Loader: 100%|██████████| 288/288 [00:28<00:00, 10.27it/s]\n"
     ]
    },
    {
     "name": "stdout",
     "output_type": "stream",
     "text": [
      "Loss1: 1.5611, Loss2: 0.6238, Loss3: 1.6007\n"
     ]
    },
    {
     "name": "stderr",
     "output_type": "stream",
     "text": [
      "Test_Loader: 100%|██████████| 288/288 [00:27<00:00, 10.59it/s]\n"
     ]
    },
    {
     "name": "stdout",
     "output_type": "stream",
     "text": [
      "Loss1: 1.4912, Loss2: 0.6080, Loss3: 1.5532\n"
     ]
    },
    {
     "name": "stderr",
     "output_type": "stream",
     "text": [
      "Test_Loader: 100%|██████████| 288/288 [00:27<00:00, 10.50it/s]\n"
     ]
    },
    {
     "name": "stdout",
     "output_type": "stream",
     "text": [
      "Loss1: 1.4744, Loss2: 0.6016, Loss3: 1.5711\n"
     ]
    },
    {
     "name": "stderr",
     "output_type": "stream",
     "text": [
      "Test_Loader: 100%|██████████| 288/288 [00:27<00:00, 10.30it/s]\n"
     ]
    },
    {
     "name": "stdout",
     "output_type": "stream",
     "text": [
      "Loss1: 1.4817, Loss2: 0.5971, Loss3: 1.5675\n"
     ]
    },
    {
     "name": "stderr",
     "output_type": "stream",
     "text": [
      "Test_Loader: 100%|██████████| 288/288 [00:27<00:00, 10.33it/s]\n"
     ]
    },
    {
     "name": "stdout",
     "output_type": "stream",
     "text": [
      "Loss1: 1.5115, Loss2: 0.6017, Loss3: 1.5869\n"
     ]
    },
    {
     "name": "stderr",
     "output_type": "stream",
     "text": [
      "Test_Loader: 100%|██████████| 288/288 [00:28<00:00, 10.26it/s]\n"
     ]
    },
    {
     "name": "stdout",
     "output_type": "stream",
     "text": [
      "Loss1: 1.5116, Loss2: 0.6035, Loss3: 1.5884\n"
     ]
    },
    {
     "name": "stderr",
     "output_type": "stream",
     "text": [
      "Test_Loader: 100%|██████████| 288/288 [00:30<00:00,  9.37it/s]\n"
     ]
    },
    {
     "name": "stdout",
     "output_type": "stream",
     "text": [
      "Loss1: 1.5044, Loss2: 0.5953, Loss3: 1.5667\n"
     ]
    },
    {
     "name": "stderr",
     "output_type": "stream",
     "text": [
      "Test_Loader: 100%|██████████| 288/288 [00:26<00:00, 10.70it/s]\n"
     ]
    },
    {
     "name": "stdout",
     "output_type": "stream",
     "text": [
      "Loss1: 1.4403, Loss2: 0.5773, Loss3: 1.5191\n"
     ]
    },
    {
     "name": "stderr",
     "output_type": "stream",
     "text": [
      "Test_Loader: 100%|██████████| 288/288 [00:26<00:00, 10.69it/s]\n"
     ]
    },
    {
     "name": "stdout",
     "output_type": "stream",
     "text": [
      "Loss1: 1.4387, Loss2: 0.5711, Loss3: 1.5115\n"
     ]
    },
    {
     "name": "stderr",
     "output_type": "stream",
     "text": [
      "Test_Loader: 100%|██████████| 288/288 [00:27<00:00, 10.58it/s]\n"
     ]
    },
    {
     "name": "stdout",
     "output_type": "stream",
     "text": [
      "Loss1: 1.4560, Loss2: 0.5700, Loss3: 1.5030\n"
     ]
    },
    {
     "name": "stderr",
     "output_type": "stream",
     "text": [
      "Test_Loader: 100%|██████████| 288/288 [00:27<00:00, 10.52it/s]\n"
     ]
    },
    {
     "name": "stdout",
     "output_type": "stream",
     "text": [
      "Loss1: 1.4689, Loss2: 0.5657, Loss3: 1.5162\n"
     ]
    },
    {
     "name": "stderr",
     "output_type": "stream",
     "text": [
      "Test_Loader: 100%|██████████| 288/288 [00:27<00:00, 10.54it/s]\n"
     ]
    },
    {
     "name": "stdout",
     "output_type": "stream",
     "text": [
      "Loss1: 1.4469, Loss2: 0.5670, Loss3: 1.5326\n"
     ]
    },
    {
     "name": "stderr",
     "output_type": "stream",
     "text": [
      "Test_Loader: 100%|██████████| 288/288 [00:27<00:00, 10.29it/s]\n"
     ]
    },
    {
     "name": "stdout",
     "output_type": "stream",
     "text": [
      "Loss1: 1.4136, Loss2: 0.5645, Loss3: 1.5293\n"
     ]
    },
    {
     "name": "stderr",
     "output_type": "stream",
     "text": [
      "Test_Loader: 100%|██████████| 288/288 [00:28<00:00, 10.10it/s]\n"
     ]
    },
    {
     "name": "stdout",
     "output_type": "stream",
     "text": [
      "Loss1: 1.4103, Loss2: 0.5648, Loss3: 1.5143\n"
     ]
    },
    {
     "name": "stderr",
     "output_type": "stream",
     "text": [
      "Test_Loader: 100%|██████████| 288/288 [00:28<00:00, 10.01it/s]\n"
     ]
    },
    {
     "name": "stdout",
     "output_type": "stream",
     "text": [
      "Loss1: 1.3942, Loss2: 0.5577, Loss3: 1.5023\n"
     ]
    },
    {
     "name": "stderr",
     "output_type": "stream",
     "text": [
      "Test_Loader: 100%|██████████| 288/288 [00:28<00:00, 10.10it/s]\n"
     ]
    },
    {
     "name": "stdout",
     "output_type": "stream",
     "text": [
      "Loss1: 1.3985, Loss2: 0.5506, Loss3: 1.4796\n"
     ]
    },
    {
     "name": "stderr",
     "output_type": "stream",
     "text": [
      "Test_Loader: 100%|██████████| 288/288 [00:28<00:00, 10.05it/s]\n"
     ]
    },
    {
     "name": "stdout",
     "output_type": "stream",
     "text": [
      "Loss1: 1.4128, Loss2: 0.5564, Loss3: 1.4871\n"
     ]
    },
    {
     "name": "stderr",
     "output_type": "stream",
     "text": [
      "Test_Loader: 100%|██████████| 288/288 [00:27<00:00, 10.31it/s]\n"
     ]
    },
    {
     "name": "stdout",
     "output_type": "stream",
     "text": [
      "Loss1: 1.4086, Loss2: 0.5598, Loss3: 1.4831\n"
     ]
    },
    {
     "name": "stderr",
     "output_type": "stream",
     "text": [
      "Test_Loader: 100%|██████████| 288/288 [00:29<00:00,  9.91it/s]\n"
     ]
    },
    {
     "name": "stdout",
     "output_type": "stream",
     "text": [
      "Loss1: 1.4263, Loss2: 0.5739, Loss3: 1.5783\n"
     ]
    },
    {
     "name": "stderr",
     "output_type": "stream",
     "text": [
      "Test_Loader: 100%|██████████| 288/288 [00:29<00:00,  9.72it/s]\n"
     ]
    },
    {
     "name": "stdout",
     "output_type": "stream",
     "text": [
      "Loss1: 1.3684, Loss2: 0.5769, Loss3: 1.5944\n"
     ]
    },
    {
     "name": "stderr",
     "output_type": "stream",
     "text": [
      "Test_Loader: 100%|██████████| 288/288 [00:27<00:00, 10.37it/s]\n"
     ]
    },
    {
     "name": "stdout",
     "output_type": "stream",
     "text": [
      "Loss1: 1.4196, Loss2: 0.5529, Loss3: 1.6502\n"
     ]
    },
    {
     "name": "stderr",
     "output_type": "stream",
     "text": [
      "Test_Loader: 100%|██████████| 288/288 [00:27<00:00, 10.40it/s]\n"
     ]
    },
    {
     "name": "stdout",
     "output_type": "stream",
     "text": [
      "Loss1: 1.3994, Loss2: 0.5557, Loss3: 1.6185\n"
     ]
    },
    {
     "name": "stderr",
     "output_type": "stream",
     "text": [
      "Test_Loader: 100%|██████████| 288/288 [00:28<00:00,  9.99it/s]\n"
     ]
    },
    {
     "name": "stdout",
     "output_type": "stream",
     "text": [
      "Loss1: 1.4265, Loss2: 0.5666, Loss3: 1.6850\n"
     ]
    },
    {
     "name": "stderr",
     "output_type": "stream",
     "text": [
      "Test_Loader: 100%|██████████| 288/288 [00:27<00:00, 10.39it/s]\n"
     ]
    },
    {
     "name": "stdout",
     "output_type": "stream",
     "text": [
      "Loss1: 1.4244, Loss2: 0.5588, Loss3: 1.6238\n"
     ]
    },
    {
     "name": "stderr",
     "output_type": "stream",
     "text": [
      "Test_Loader: 100%|██████████| 288/288 [00:27<00:00, 10.29it/s]\n"
     ]
    },
    {
     "name": "stdout",
     "output_type": "stream",
     "text": [
      "Loss1: 1.3996, Loss2: 0.5670, Loss3: 1.6189\n"
     ]
    },
    {
     "name": "stderr",
     "output_type": "stream",
     "text": [
      "Test_Loader: 100%|██████████| 288/288 [00:28<00:00,  9.98it/s]\n"
     ]
    },
    {
     "name": "stdout",
     "output_type": "stream",
     "text": [
      "Loss1: 1.4221, Loss2: 0.5708, Loss3: 1.6364\n"
     ]
    },
    {
     "name": "stderr",
     "output_type": "stream",
     "text": [
      "Test_Loader: 100%|██████████| 288/288 [00:28<00:00, 10.07it/s]\n"
     ]
    },
    {
     "name": "stdout",
     "output_type": "stream",
     "text": [
      "Loss1: 1.4204, Loss2: 0.5680, Loss3: 1.6190\n"
     ]
    },
    {
     "name": "stderr",
     "output_type": "stream",
     "text": [
      "Test_Loader: 100%|██████████| 288/288 [00:27<00:00, 10.35it/s]\n"
     ]
    },
    {
     "name": "stdout",
     "output_type": "stream",
     "text": [
      "Loss1: 1.4028, Loss2: 0.5660, Loss3: 1.6339\n"
     ]
    },
    {
     "name": "stderr",
     "output_type": "stream",
     "text": [
      "Test_Loader: 100%|██████████| 288/288 [00:28<00:00, 10.27it/s]\n"
     ]
    },
    {
     "name": "stdout",
     "output_type": "stream",
     "text": [
      "Loss1: 1.4095, Loss2: 0.5655, Loss3: 1.6055\n"
     ]
    },
    {
     "name": "stderr",
     "output_type": "stream",
     "text": [
      "Test_Loader: 100%|██████████| 288/288 [00:27<00:00, 10.43it/s]\n"
     ]
    },
    {
     "name": "stdout",
     "output_type": "stream",
     "text": [
      "Loss1: 1.4432, Loss2: 0.5631, Loss3: 1.6331\n"
     ]
    },
    {
     "name": "stderr",
     "output_type": "stream",
     "text": [
      "Test_Loader: 100%|██████████| 288/288 [00:27<00:00, 10.63it/s]\n"
     ]
    },
    {
     "name": "stdout",
     "output_type": "stream",
     "text": [
      "Loss1: 1.4139, Loss2: 0.5612, Loss3: 1.6100\n"
     ]
    },
    {
     "name": "stderr",
     "output_type": "stream",
     "text": [
      "Test_Loader: 100%|██████████| 288/288 [00:27<00:00, 10.37it/s]\n"
     ]
    },
    {
     "name": "stdout",
     "output_type": "stream",
     "text": [
      "Loss1: 1.3955, Loss2: 0.5508, Loss3: 1.6039\n"
     ]
    },
    {
     "name": "stderr",
     "output_type": "stream",
     "text": [
      "Test_Loader: 100%|██████████| 288/288 [00:27<00:00, 10.59it/s]\n"
     ]
    },
    {
     "name": "stdout",
     "output_type": "stream",
     "text": [
      "Loss1: 1.3959, Loss2: 0.5557, Loss3: 1.6091\n"
     ]
    },
    {
     "name": "stderr",
     "output_type": "stream",
     "text": [
      "Test_Loader: 100%|██████████| 288/288 [00:27<00:00, 10.57it/s]\n"
     ]
    },
    {
     "name": "stdout",
     "output_type": "stream",
     "text": [
      "Loss1: 1.3906, Loss2: 0.5488, Loss3: 1.6128\n"
     ]
    },
    {
     "name": "stderr",
     "output_type": "stream",
     "text": [
      "Test_Loader: 100%|██████████| 288/288 [00:27<00:00, 10.50it/s]\n"
     ]
    },
    {
     "name": "stdout",
     "output_type": "stream",
     "text": [
      "Loss1: 1.3858, Loss2: 0.5492, Loss3: 1.5870\n"
     ]
    },
    {
     "name": "stderr",
     "output_type": "stream",
     "text": [
      "Test_Loader: 100%|██████████| 288/288 [00:27<00:00, 10.40it/s]\n"
     ]
    },
    {
     "name": "stdout",
     "output_type": "stream",
     "text": [
      "Loss1: 1.3736, Loss2: 0.5481, Loss3: 1.5760\n"
     ]
    },
    {
     "name": "stderr",
     "output_type": "stream",
     "text": [
      "Test_Loader: 100%|██████████| 288/288 [00:27<00:00, 10.40it/s]\n"
     ]
    },
    {
     "name": "stdout",
     "output_type": "stream",
     "text": [
      "Loss1: 1.3867, Loss2: 0.5474, Loss3: 1.5754\n"
     ]
    },
    {
     "name": "stderr",
     "output_type": "stream",
     "text": [
      "Test_Loader: 100%|██████████| 288/288 [00:27<00:00, 10.49it/s]\n"
     ]
    },
    {
     "name": "stdout",
     "output_type": "stream",
     "text": [
      "Loss1: 1.3589, Loss2: 0.5448, Loss3: 1.5753\n"
     ]
    },
    {
     "name": "stderr",
     "output_type": "stream",
     "text": [
      "Test_Loader: 100%|██████████| 288/288 [00:28<00:00, 10.24it/s]\n"
     ]
    },
    {
     "name": "stdout",
     "output_type": "stream",
     "text": [
      "Loss1: 1.3429, Loss2: 0.5413, Loss3: 1.5551\n"
     ]
    },
    {
     "name": "stderr",
     "output_type": "stream",
     "text": [
      "Test_Loader: 100%|██████████| 288/288 [00:27<00:00, 10.31it/s]\n"
     ]
    },
    {
     "name": "stdout",
     "output_type": "stream",
     "text": [
      "Loss1: 1.3619, Loss2: 0.5354, Loss3: 1.5492\n"
     ]
    },
    {
     "name": "stderr",
     "output_type": "stream",
     "text": [
      "Test_Loader: 100%|██████████| 288/288 [00:27<00:00, 10.32it/s]\n"
     ]
    },
    {
     "name": "stdout",
     "output_type": "stream",
     "text": [
      "Loss1: 1.2587, Loss2: 0.5162, Loss3: 1.4983\n"
     ]
    },
    {
     "name": "stderr",
     "output_type": "stream",
     "text": [
      "Test_Loader: 100%|██████████| 288/288 [00:28<00:00, 10.21it/s]\n"
     ]
    },
    {
     "name": "stdout",
     "output_type": "stream",
     "text": [
      "Loss1: 1.2434, Loss2: 0.5147, Loss3: 1.4887\n"
     ]
    },
    {
     "name": "stderr",
     "output_type": "stream",
     "text": [
      "Test_Loader: 100%|██████████| 288/288 [00:28<00:00, 10.16it/s]\n"
     ]
    },
    {
     "name": "stdout",
     "output_type": "stream",
     "text": [
      "Loss1: 1.2828, Loss2: 0.5104, Loss3: 1.4818\n"
     ]
    },
    {
     "name": "stderr",
     "output_type": "stream",
     "text": [
      "Test_Loader: 100%|██████████| 288/288 [00:27<00:00, 10.38it/s]\n"
     ]
    },
    {
     "name": "stdout",
     "output_type": "stream",
     "text": [
      "Loss1: 1.2777, Loss2: 0.5061, Loss3: 1.4855\n"
     ]
    },
    {
     "name": "stderr",
     "output_type": "stream",
     "text": [
      "Test_Loader: 100%|██████████| 288/288 [00:28<00:00, 10.19it/s]\n"
     ]
    },
    {
     "name": "stdout",
     "output_type": "stream",
     "text": [
      "Loss1: 1.2306, Loss2: 0.4941, Loss3: 1.4124\n"
     ]
    },
    {
     "name": "stderr",
     "output_type": "stream",
     "text": [
      "Test_Loader: 100%|██████████| 288/288 [00:27<00:00, 10.29it/s]\n"
     ]
    },
    {
     "name": "stdout",
     "output_type": "stream",
     "text": [
      "Loss1: 1.2076, Loss2: 0.4898, Loss3: 1.3938\n"
     ]
    },
    {
     "name": "stderr",
     "output_type": "stream",
     "text": [
      "Test_Loader: 100%|██████████| 288/288 [00:27<00:00, 10.62it/s]\n"
     ]
    },
    {
     "name": "stdout",
     "output_type": "stream",
     "text": [
      "Loss1: 1.2606, Loss2: 0.5087, Loss3: 1.4467\n"
     ]
    },
    {
     "name": "stderr",
     "output_type": "stream",
     "text": [
      "Test_Loader: 100%|██████████| 288/288 [00:27<00:00, 10.44it/s]\n"
     ]
    },
    {
     "name": "stdout",
     "output_type": "stream",
     "text": [
      "Loss1: 1.2574, Loss2: 0.5089, Loss3: 1.4432\n"
     ]
    },
    {
     "name": "stderr",
     "output_type": "stream",
     "text": [
      "Test_Loader: 100%|██████████| 288/288 [00:27<00:00, 10.37it/s]\n"
     ]
    },
    {
     "name": "stdout",
     "output_type": "stream",
     "text": [
      "Loss1: 1.2380, Loss2: 0.5011, Loss3: 1.4314\n"
     ]
    },
    {
     "name": "stderr",
     "output_type": "stream",
     "text": [
      "Test_Loader: 100%|██████████| 288/288 [00:27<00:00, 10.38it/s]\n"
     ]
    },
    {
     "name": "stdout",
     "output_type": "stream",
     "text": [
      "Loss1: 1.2338, Loss2: 0.5031, Loss3: 1.4263\n"
     ]
    },
    {
     "name": "stderr",
     "output_type": "stream",
     "text": [
      "Test_Loader: 100%|██████████| 288/288 [00:27<00:00, 10.43it/s]\n"
     ]
    },
    {
     "name": "stdout",
     "output_type": "stream",
     "text": [
      "Loss1: 1.2272, Loss2: 0.5008, Loss3: 1.4061\n"
     ]
    },
    {
     "name": "stderr",
     "output_type": "stream",
     "text": [
      "Test_Loader: 100%|██████████| 288/288 [00:28<00:00, 10.03it/s]\n"
     ]
    },
    {
     "name": "stdout",
     "output_type": "stream",
     "text": [
      "Loss1: 1.2282, Loss2: 0.4975, Loss3: 1.4278\n"
     ]
    },
    {
     "name": "stderr",
     "output_type": "stream",
     "text": [
      "Test_Loader: 100%|██████████| 288/288 [00:28<00:00, 10.25it/s]\n"
     ]
    },
    {
     "name": "stdout",
     "output_type": "stream",
     "text": [
      "Loss1: 1.2192, Loss2: 0.5004, Loss3: 1.4005\n"
     ]
    },
    {
     "name": "stderr",
     "output_type": "stream",
     "text": [
      "Test_Loader: 100%|██████████| 288/288 [00:28<00:00, 10.27it/s]\n"
     ]
    },
    {
     "name": "stdout",
     "output_type": "stream",
     "text": [
      "Loss1: 1.1926, Loss2: 0.4920, Loss3: 1.3810\n"
     ]
    },
    {
     "name": "stderr",
     "output_type": "stream",
     "text": [
      "Test_Loader: 100%|██████████| 288/288 [00:28<00:00, 10.21it/s]\n"
     ]
    },
    {
     "name": "stdout",
     "output_type": "stream",
     "text": [
      "Loss1: 1.2184, Loss2: 0.5060, Loss3: 1.4079\n"
     ]
    },
    {
     "name": "stderr",
     "output_type": "stream",
     "text": [
      "Test_Loader: 100%|██████████| 288/288 [00:28<00:00, 10.14it/s]\n"
     ]
    },
    {
     "name": "stdout",
     "output_type": "stream",
     "text": [
      "Loss1: 1.2012, Loss2: 0.5023, Loss3: 1.4278\n"
     ]
    },
    {
     "name": "stderr",
     "output_type": "stream",
     "text": [
      "Test_Loader: 100%|██████████| 288/288 [00:28<00:00, 10.09it/s]\n"
     ]
    },
    {
     "name": "stdout",
     "output_type": "stream",
     "text": [
      "Loss1: 1.1969, Loss2: 0.4992, Loss3: 1.4100\n"
     ]
    },
    {
     "name": "stderr",
     "output_type": "stream",
     "text": [
      "Test_Loader: 100%|██████████| 288/288 [00:29<00:00,  9.86it/s]\n"
     ]
    },
    {
     "name": "stdout",
     "output_type": "stream",
     "text": [
      "Loss1: 1.1954, Loss2: 0.5043, Loss3: 1.3860\n"
     ]
    },
    {
     "name": "stderr",
     "output_type": "stream",
     "text": [
      "Test_Loader: 100%|██████████| 288/288 [00:28<00:00, 10.19it/s]\n"
     ]
    },
    {
     "name": "stdout",
     "output_type": "stream",
     "text": [
      "Loss1: 1.2182, Loss2: 0.5139, Loss3: 1.4511\n"
     ]
    },
    {
     "name": "stderr",
     "output_type": "stream",
     "text": [
      "Test_Loader: 100%|██████████| 288/288 [00:27<00:00, 10.47it/s]\n"
     ]
    },
    {
     "name": "stdout",
     "output_type": "stream",
     "text": [
      "Loss1: 1.2458, Loss2: 0.5193, Loss3: 1.4626\n"
     ]
    },
    {
     "name": "stderr",
     "output_type": "stream",
     "text": [
      "Test_Loader: 100%|██████████| 288/288 [00:27<00:00, 10.44it/s]\n"
     ]
    },
    {
     "name": "stdout",
     "output_type": "stream",
     "text": [
      "Loss1: 1.2955, Loss2: 0.5268, Loss3: 1.4930\n"
     ]
    },
    {
     "name": "stderr",
     "output_type": "stream",
     "text": [
      "Test_Loader: 100%|██████████| 288/288 [00:28<00:00, 10.07it/s]\n"
     ]
    },
    {
     "name": "stdout",
     "output_type": "stream",
     "text": [
      "Loss1: 1.2894, Loss2: 0.5369, Loss3: 1.5175\n"
     ]
    },
    {
     "name": "stderr",
     "output_type": "stream",
     "text": [
      "Test_Loader: 100%|██████████| 288/288 [00:29<00:00,  9.83it/s]\n"
     ]
    },
    {
     "name": "stdout",
     "output_type": "stream",
     "text": [
      "Loss1: 1.3060, Loss2: 0.5484, Loss3: 1.5429\n"
     ]
    },
    {
     "name": "stderr",
     "output_type": "stream",
     "text": [
      "Test_Loader: 100%|██████████| 288/288 [00:28<00:00, 10.23it/s]\n"
     ]
    },
    {
     "name": "stdout",
     "output_type": "stream",
     "text": [
      "Loss1: 1.3038, Loss2: 0.5529, Loss3: 1.5288\n"
     ]
    },
    {
     "name": "stderr",
     "output_type": "stream",
     "text": [
      "Test_Loader: 100%|██████████| 288/288 [00:28<00:00, 10.07it/s]\n"
     ]
    },
    {
     "name": "stdout",
     "output_type": "stream",
     "text": [
      "Loss1: 1.3319, Loss2: 0.5537, Loss3: 1.5554\n"
     ]
    },
    {
     "name": "stderr",
     "output_type": "stream",
     "text": [
      "Test_Loader: 100%|██████████| 288/288 [00:27<00:00, 10.36it/s]\n"
     ]
    },
    {
     "name": "stdout",
     "output_type": "stream",
     "text": [
      "Loss1: 1.3341, Loss2: 0.5560, Loss3: 1.5587\n"
     ]
    },
    {
     "name": "stderr",
     "output_type": "stream",
     "text": [
      "Test_Loader: 100%|██████████| 288/288 [00:27<00:00, 10.30it/s]\n"
     ]
    },
    {
     "name": "stdout",
     "output_type": "stream",
     "text": [
      "Loss1: 1.3667, Loss2: 0.6008, Loss3: 1.7098\n"
     ]
    },
    {
     "name": "stderr",
     "output_type": "stream",
     "text": [
      "Test_Loader: 100%|██████████| 288/288 [00:27<00:00, 10.38it/s]\n"
     ]
    },
    {
     "name": "stdout",
     "output_type": "stream",
     "text": [
      "Loss1: 1.4063, Loss2: 0.6062, Loss3: 1.7492\n"
     ]
    },
    {
     "name": "stderr",
     "output_type": "stream",
     "text": [
      "Test_Loader: 100%|██████████| 288/288 [00:27<00:00, 10.48it/s]\n"
     ]
    },
    {
     "name": "stdout",
     "output_type": "stream",
     "text": [
      "Loss1: 1.4216, Loss2: 0.5978, Loss3: 1.7628\n"
     ]
    },
    {
     "name": "stderr",
     "output_type": "stream",
     "text": [
      "Test_Loader: 100%|██████████| 288/288 [00:26<00:00, 10.71it/s]\n"
     ]
    },
    {
     "name": "stdout",
     "output_type": "stream",
     "text": [
      "Loss1: 1.4132, Loss2: 0.6058, Loss3: 1.7460\n"
     ]
    },
    {
     "name": "stderr",
     "output_type": "stream",
     "text": [
      "Test_Loader: 100%|██████████| 288/288 [00:30<00:00,  9.32it/s]\n"
     ]
    },
    {
     "name": "stdout",
     "output_type": "stream",
     "text": [
      "Loss1: 1.4364, Loss2: 0.6184, Loss3: 1.8312\n"
     ]
    },
    {
     "name": "stderr",
     "output_type": "stream",
     "text": [
      "Test_Loader: 100%|██████████| 288/288 [00:27<00:00, 10.66it/s]\n"
     ]
    },
    {
     "name": "stdout",
     "output_type": "stream",
     "text": [
      "Loss1: 1.4302, Loss2: 0.6278, Loss3: 1.8385\n"
     ]
    },
    {
     "name": "stderr",
     "output_type": "stream",
     "text": [
      "Test_Loader: 100%|██████████| 288/288 [00:26<00:00, 10.80it/s]\n"
     ]
    },
    {
     "name": "stdout",
     "output_type": "stream",
     "text": [
      "Loss1: 1.4070, Loss2: 0.6314, Loss3: 1.8771\n"
     ]
    },
    {
     "name": "stderr",
     "output_type": "stream",
     "text": [
      "Test_Loader: 100%|██████████| 288/288 [00:26<00:00, 10.87it/s]\n"
     ]
    },
    {
     "name": "stdout",
     "output_type": "stream",
     "text": [
      "Loss1: 1.2942, Loss2: 0.6241, Loss3: 1.8591\n"
     ]
    },
    {
     "name": "stderr",
     "output_type": "stream",
     "text": [
      "Test_Loader: 100%|██████████| 288/288 [00:27<00:00, 10.40it/s]\n"
     ]
    },
    {
     "name": "stdout",
     "output_type": "stream",
     "text": [
      "Loss1: 1.3006, Loss2: 0.6308, Loss3: 1.8756\n"
     ]
    },
    {
     "name": "stderr",
     "output_type": "stream",
     "text": [
      "Test_Loader: 100%|██████████| 288/288 [00:27<00:00, 10.52it/s]\n"
     ]
    },
    {
     "name": "stdout",
     "output_type": "stream",
     "text": [
      "Loss1: 1.5161, Loss2: 0.7410, Loss3: 2.8405\n"
     ]
    },
    {
     "name": "stderr",
     "output_type": "stream",
     "text": [
      "Test_Loader: 100%|██████████| 288/288 [00:27<00:00, 10.55it/s]\n"
     ]
    },
    {
     "name": "stdout",
     "output_type": "stream",
     "text": [
      "Loss1: 1.5155, Loss2: 0.7433, Loss3: 2.7656\n"
     ]
    },
    {
     "name": "stderr",
     "output_type": "stream",
     "text": [
      "Test_Loader: 100%|██████████| 288/288 [00:27<00:00, 10.42it/s]\n"
     ]
    },
    {
     "name": "stdout",
     "output_type": "stream",
     "text": [
      "Loss1: 1.5702, Loss2: 0.7261, Loss3: 2.6825\n"
     ]
    },
    {
     "name": "stderr",
     "output_type": "stream",
     "text": [
      "Test_Loader: 100%|██████████| 288/288 [00:28<00:00, 10.27it/s]\n"
     ]
    },
    {
     "name": "stdout",
     "output_type": "stream",
     "text": [
      "Loss1: 1.5855, Loss2: 0.7460, Loss3: 2.6324\n"
     ]
    },
    {
     "name": "stderr",
     "output_type": "stream",
     "text": [
      "Test_Loader: 100%|██████████| 288/288 [00:28<00:00, 10.23it/s]\n"
     ]
    },
    {
     "name": "stdout",
     "output_type": "stream",
     "text": [
      "Loss1: 1.6264, Loss2: 0.7583, Loss3: 2.7308\n"
     ]
    },
    {
     "name": "stderr",
     "output_type": "stream",
     "text": [
      "Test_Loader: 100%|██████████| 288/288 [00:28<00:00, 10.13it/s]\n"
     ]
    },
    {
     "name": "stdout",
     "output_type": "stream",
     "text": [
      "Loss1: 1.7620, Loss2: 0.7721, Loss3: 2.7181\n"
     ]
    },
    {
     "name": "stderr",
     "output_type": "stream",
     "text": [
      "Test_Loader: 100%|██████████| 288/288 [00:27<00:00, 10.51it/s]\n"
     ]
    },
    {
     "name": "stdout",
     "output_type": "stream",
     "text": [
      "Loss1: 1.7224, Loss2: 0.7965, Loss3: 2.7836\n"
     ]
    },
    {
     "name": "stderr",
     "output_type": "stream",
     "text": [
      "Test_Loader: 100%|██████████| 288/288 [00:29<00:00,  9.81it/s]\n"
     ]
    },
    {
     "name": "stdout",
     "output_type": "stream",
     "text": [
      "Loss1: 1.7490, Loss2: 0.7611, Loss3: 2.6572\n"
     ]
    },
    {
     "name": "stderr",
     "output_type": "stream",
     "text": [
      "Test_Loader: 100%|██████████| 288/288 [00:29<00:00,  9.71it/s]\n"
     ]
    },
    {
     "name": "stdout",
     "output_type": "stream",
     "text": [
      "Loss1: 1.7008, Loss2: 0.7850, Loss3: 2.7018\n"
     ]
    },
    {
     "name": "stderr",
     "output_type": "stream",
     "text": [
      "Test_Loader: 100%|██████████| 288/288 [00:27<00:00, 10.54it/s]\n"
     ]
    },
    {
     "name": "stdout",
     "output_type": "stream",
     "text": [
      "Loss1: 1.7797, Loss2: 0.7731, Loss3: 2.6420\n"
     ]
    },
    {
     "name": "stderr",
     "output_type": "stream",
     "text": [
      "Test_Loader: 100%|██████████| 288/288 [00:26<00:00, 10.77it/s]\n"
     ]
    },
    {
     "name": "stdout",
     "output_type": "stream",
     "text": [
      "Loss1: 1.7655, Loss2: 0.8050, Loss3: 2.7243\n"
     ]
    },
    {
     "name": "stderr",
     "output_type": "stream",
     "text": [
      "Test_Loader: 100%|██████████| 288/288 [00:26<00:00, 10.72it/s]\n"
     ]
    },
    {
     "name": "stdout",
     "output_type": "stream",
     "text": [
      "Loss1: 1.7320, Loss2: 0.7741, Loss3: 2.6455\n"
     ]
    },
    {
     "name": "stderr",
     "output_type": "stream",
     "text": [
      "Test_Loader: 100%|██████████| 288/288 [00:27<00:00, 10.48it/s]\n"
     ]
    },
    {
     "name": "stdout",
     "output_type": "stream",
     "text": [
      "Loss1: 1.9325, Loss2: 0.9911, Loss3: 2.8077\n"
     ]
    },
    {
     "name": "stderr",
     "output_type": "stream",
     "text": [
      "Test_Loader: 100%|██████████| 288/288 [00:27<00:00, 10.38it/s]\n"
     ]
    },
    {
     "name": "stdout",
     "output_type": "stream",
     "text": [
      "Loss1: 1.9714, Loss2: 0.9646, Loss3: 2.7340\n"
     ]
    },
    {
     "name": "stderr",
     "output_type": "stream",
     "text": [
      "Test_Loader: 100%|██████████| 288/288 [00:27<00:00, 10.51it/s]\n"
     ]
    },
    {
     "name": "stdout",
     "output_type": "stream",
     "text": [
      "Loss1: 1.8996, Loss2: 0.9502, Loss3: 2.7342\n"
     ]
    },
    {
     "name": "stderr",
     "output_type": "stream",
     "text": [
      "Test_Loader: 100%|██████████| 288/288 [00:28<00:00, 10.19it/s]\n"
     ]
    },
    {
     "name": "stdout",
     "output_type": "stream",
     "text": [
      "Loss1: 1.8356, Loss2: 0.9142, Loss3: 2.6750\n"
     ]
    },
    {
     "name": "stderr",
     "output_type": "stream",
     "text": [
      "Test_Loader: 100%|██████████| 288/288 [00:27<00:00, 10.57it/s]\n"
     ]
    },
    {
     "name": "stdout",
     "output_type": "stream",
     "text": [
      "Loss1: 1.8311, Loss2: 0.9432, Loss3: 2.6598\n"
     ]
    },
    {
     "name": "stderr",
     "output_type": "stream",
     "text": [
      "Test_Loader: 100%|██████████| 288/288 [00:27<00:00, 10.42it/s]\n"
     ]
    },
    {
     "name": "stdout",
     "output_type": "stream",
     "text": [
      "Loss1: 1.8405, Loss2: 0.9273, Loss3: 2.6584\n"
     ]
    },
    {
     "name": "stderr",
     "output_type": "stream",
     "text": [
      "Test_Loader: 100%|██████████| 288/288 [00:27<00:00, 10.35it/s]\n"
     ]
    },
    {
     "name": "stdout",
     "output_type": "stream",
     "text": [
      "Loss1: 1.8340, Loss2: 0.9214, Loss3: 2.6370\n"
     ]
    },
    {
     "name": "stderr",
     "output_type": "stream",
     "text": [
      "Test_Loader: 100%|██████████| 288/288 [00:28<00:00, 10.26it/s]\n"
     ]
    },
    {
     "name": "stdout",
     "output_type": "stream",
     "text": [
      "Loss1: 1.8541, Loss2: 0.9253, Loss3: 2.5957\n"
     ]
    },
    {
     "name": "stderr",
     "output_type": "stream",
     "text": [
      "Test_Loader: 100%|██████████| 288/288 [00:27<00:00, 10.45it/s]\n"
     ]
    },
    {
     "name": "stdout",
     "output_type": "stream",
     "text": [
      "Loss1: 1.8940, Loss2: 0.9166, Loss3: 2.5676\n"
     ]
    },
    {
     "name": "stderr",
     "output_type": "stream",
     "text": [
      "Test_Loader: 100%|██████████| 288/288 [00:30<00:00,  9.42it/s]\n"
     ]
    },
    {
     "name": "stdout",
     "output_type": "stream",
     "text": [
      "Loss1: 1.8398, Loss2: 0.9139, Loss3: 2.5779\n"
     ]
    },
    {
     "name": "stderr",
     "output_type": "stream",
     "text": [
      "Test_Loader: 100%|██████████| 288/288 [00:27<00:00, 10.47it/s]\n"
     ]
    },
    {
     "name": "stdout",
     "output_type": "stream",
     "text": [
      "Loss1: 1.8182, Loss2: 0.9128, Loss3: 2.5847\n"
     ]
    },
    {
     "name": "stderr",
     "output_type": "stream",
     "text": [
      "Test_Loader: 100%|██████████| 288/288 [00:27<00:00, 10.53it/s]\n"
     ]
    },
    {
     "name": "stdout",
     "output_type": "stream",
     "text": [
      "Loss1: 1.8313, Loss2: 0.9247, Loss3: 2.5972\n"
     ]
    },
    {
     "name": "stderr",
     "output_type": "stream",
     "text": [
      "Test_Loader: 100%|██████████| 288/288 [00:27<00:00, 10.46it/s]\n"
     ]
    },
    {
     "name": "stdout",
     "output_type": "stream",
     "text": [
      "Loss1: 1.8814, Loss2: 0.9148, Loss3: 2.5572\n"
     ]
    },
    {
     "name": "stderr",
     "output_type": "stream",
     "text": [
      "Test_Loader: 100%|██████████| 288/288 [00:27<00:00, 10.38it/s]\n"
     ]
    },
    {
     "name": "stdout",
     "output_type": "stream",
     "text": [
      "Loss1: 1.8522, Loss2: 0.8877, Loss3: 2.5260\n"
     ]
    },
    {
     "name": "stderr",
     "output_type": "stream",
     "text": [
      "Test_Loader: 100%|██████████| 288/288 [00:28<00:00, 10.17it/s]\n"
     ]
    },
    {
     "name": "stdout",
     "output_type": "stream",
     "text": [
      "Loss1: 1.7871, Loss2: 0.8992, Loss3: 2.5240\n"
     ]
    },
    {
     "name": "stderr",
     "output_type": "stream",
     "text": [
      "Test_Loader: 100%|██████████| 288/288 [00:28<00:00, 10.12it/s]\n"
     ]
    },
    {
     "name": "stdout",
     "output_type": "stream",
     "text": [
      "Loss1: 1.8457, Loss2: 0.8879, Loss3: 2.4607\n"
     ]
    },
    {
     "name": "stderr",
     "output_type": "stream",
     "text": [
      "Test_Loader: 100%|██████████| 288/288 [00:28<00:00,  9.96it/s]\n"
     ]
    },
    {
     "name": "stdout",
     "output_type": "stream",
     "text": [
      "Loss1: 1.8731, Loss2: 0.8912, Loss3: 2.5021\n"
     ]
    },
    {
     "name": "stderr",
     "output_type": "stream",
     "text": [
      "Test_Loader: 100%|██████████| 288/288 [00:28<00:00, 10.08it/s]\n"
     ]
    },
    {
     "name": "stdout",
     "output_type": "stream",
     "text": [
      "Loss1: 1.8471, Loss2: 0.8963, Loss3: 2.5185\n"
     ]
    },
    {
     "name": "stderr",
     "output_type": "stream",
     "text": [
      "Test_Loader: 100%|██████████| 288/288 [00:28<00:00, 10.08it/s]\n"
     ]
    },
    {
     "name": "stdout",
     "output_type": "stream",
     "text": [
      "Loss1: 1.8744, Loss2: 0.8841, Loss3: 2.4670\n"
     ]
    },
    {
     "name": "stderr",
     "output_type": "stream",
     "text": [
      "Test_Loader: 100%|██████████| 288/288 [00:28<00:00, 10.19it/s]\n"
     ]
    },
    {
     "name": "stdout",
     "output_type": "stream",
     "text": [
      "Loss1: 1.8855, Loss2: 0.8957, Loss3: 2.5598\n"
     ]
    },
    {
     "name": "stderr",
     "output_type": "stream",
     "text": [
      "Test_Loader: 100%|██████████| 288/288 [00:26<00:00, 10.74it/s]\n"
     ]
    },
    {
     "name": "stdout",
     "output_type": "stream",
     "text": [
      "Loss1: 1.8363, Loss2: 0.8831, Loss3: 2.5260\n"
     ]
    },
    {
     "name": "stderr",
     "output_type": "stream",
     "text": [
      "Test_Loader: 100%|██████████| 288/288 [00:26<00:00, 10.68it/s]\n"
     ]
    },
    {
     "name": "stdout",
     "output_type": "stream",
     "text": [
      "Loss1: 1.8340, Loss2: 0.8883, Loss3: 2.4962\n"
     ]
    },
    {
     "name": "stderr",
     "output_type": "stream",
     "text": [
      "Test_Loader: 100%|██████████| 288/288 [00:27<00:00, 10.54it/s]\n"
     ]
    },
    {
     "name": "stdout",
     "output_type": "stream",
     "text": [
      "Loss1: 1.8443, Loss2: 0.8816, Loss3: 2.4787\n"
     ]
    },
    {
     "name": "stderr",
     "output_type": "stream",
     "text": [
      "Test_Loader: 100%|██████████| 288/288 [00:26<00:00, 10.96it/s]\n"
     ]
    },
    {
     "name": "stdout",
     "output_type": "stream",
     "text": [
      "Loss1: 1.8472, Loss2: 0.8901, Loss3: 2.5086\n"
     ]
    },
    {
     "name": "stderr",
     "output_type": "stream",
     "text": [
      "Test_Loader: 100%|██████████| 288/288 [00:26<00:00, 11.06it/s]\n"
     ]
    },
    {
     "name": "stdout",
     "output_type": "stream",
     "text": [
      "Loss1: 1.8775, Loss2: 0.8917, Loss3: 2.5015\n"
     ]
    },
    {
     "name": "stderr",
     "output_type": "stream",
     "text": [
      "Test_Loader: 100%|██████████| 288/288 [00:26<00:00, 10.96it/s]\n"
     ]
    },
    {
     "name": "stdout",
     "output_type": "stream",
     "text": [
      "Loss1: 1.8212, Loss2: 0.8753, Loss3: 2.4942\n"
     ]
    },
    {
     "name": "stderr",
     "output_type": "stream",
     "text": [
      "Test_Loader: 100%|██████████| 288/288 [00:27<00:00, 10.60it/s]\n"
     ]
    },
    {
     "name": "stdout",
     "output_type": "stream",
     "text": [
      "Loss1: 1.8830, Loss2: 0.8665, Loss3: 2.4521\n"
     ]
    },
    {
     "name": "stderr",
     "output_type": "stream",
     "text": [
      "Test_Loader: 100%|██████████| 288/288 [00:28<00:00, 10.11it/s]\n"
     ]
    },
    {
     "name": "stdout",
     "output_type": "stream",
     "text": [
      "Loss1: 1.7864, Loss2: 0.8417, Loss3: 2.4213\n"
     ]
    },
    {
     "name": "stderr",
     "output_type": "stream",
     "text": [
      "Test_Loader: 100%|██████████| 288/288 [00:27<00:00, 10.39it/s]\n"
     ]
    },
    {
     "name": "stdout",
     "output_type": "stream",
     "text": [
      "Loss1: 1.7862, Loss2: 0.8202, Loss3: 2.3642\n"
     ]
    },
    {
     "name": "stderr",
     "output_type": "stream",
     "text": [
      "Test_Loader: 100%|██████████| 288/288 [00:28<00:00, 10.21it/s]\n"
     ]
    },
    {
     "name": "stdout",
     "output_type": "stream",
     "text": [
      "Loss1: 1.7258, Loss2: 0.8169, Loss3: 2.3551\n"
     ]
    },
    {
     "name": "stderr",
     "output_type": "stream",
     "text": [
      "Test_Loader: 100%|██████████| 288/288 [00:27<00:00, 10.32it/s]\n"
     ]
    },
    {
     "name": "stdout",
     "output_type": "stream",
     "text": [
      "Loss1: 1.7500, Loss2: 0.8101, Loss3: 2.3824\n"
     ]
    },
    {
     "name": "stderr",
     "output_type": "stream",
     "text": [
      "Test_Loader: 100%|██████████| 288/288 [00:28<00:00, 10.07it/s]\n"
     ]
    },
    {
     "name": "stdout",
     "output_type": "stream",
     "text": [
      "Loss1: 1.7322, Loss2: 0.7953, Loss3: 2.3318\n"
     ]
    },
    {
     "name": "stderr",
     "output_type": "stream",
     "text": [
      "Test_Loader: 100%|██████████| 288/288 [00:28<00:00, 10.01it/s]\n"
     ]
    },
    {
     "name": "stdout",
     "output_type": "stream",
     "text": [
      "Loss1: 1.7828, Loss2: 0.7907, Loss3: 2.2833\n"
     ]
    },
    {
     "name": "stderr",
     "output_type": "stream",
     "text": [
      "Test_Loader: 100%|██████████| 288/288 [00:28<00:00, 10.28it/s]\n"
     ]
    },
    {
     "name": "stdout",
     "output_type": "stream",
     "text": [
      "Loss1: 1.7274, Loss2: 0.7915, Loss3: 2.3093\n"
     ]
    },
    {
     "name": "stderr",
     "output_type": "stream",
     "text": [
      "Test_Loader: 100%|██████████| 288/288 [00:28<00:00, 10.05it/s]\n"
     ]
    },
    {
     "name": "stdout",
     "output_type": "stream",
     "text": [
      "Loss1: 1.7157, Loss2: 0.7812, Loss3: 2.3096\n"
     ]
    },
    {
     "name": "stderr",
     "output_type": "stream",
     "text": [
      "Test_Loader: 100%|██████████| 288/288 [00:30<00:00,  9.56it/s]\n"
     ]
    },
    {
     "name": "stdout",
     "output_type": "stream",
     "text": [
      "Loss1: 1.7479, Loss2: 0.7796, Loss3: 2.3276\n"
     ]
    },
    {
     "name": "stderr",
     "output_type": "stream",
     "text": [
      "Test_Loader: 100%|██████████| 288/288 [00:27<00:00, 10.51it/s]\n"
     ]
    },
    {
     "name": "stdout",
     "output_type": "stream",
     "text": [
      "Loss1: 1.7373, Loss2: 0.7673, Loss3: 2.2822\n"
     ]
    },
    {
     "name": "stderr",
     "output_type": "stream",
     "text": [
      "Test_Loader: 100%|██████████| 288/288 [00:27<00:00, 10.41it/s]\n"
     ]
    },
    {
     "name": "stdout",
     "output_type": "stream",
     "text": [
      "Loss1: 1.7549, Loss2: 0.7758, Loss3: 2.2810\n"
     ]
    },
    {
     "name": "stderr",
     "output_type": "stream",
     "text": [
      "Test_Loader: 100%|██████████| 288/288 [00:28<00:00, 10.26it/s]\n"
     ]
    },
    {
     "name": "stdout",
     "output_type": "stream",
     "text": [
      "Loss1: 1.7160, Loss2: 0.7592, Loss3: 2.2619\n"
     ]
    },
    {
     "name": "stderr",
     "output_type": "stream",
     "text": [
      "Test_Loader: 100%|██████████| 288/288 [00:27<00:00, 10.49it/s]\n"
     ]
    },
    {
     "name": "stdout",
     "output_type": "stream",
     "text": [
      "Loss1: 1.6990, Loss2: 0.7666, Loss3: 2.2507\n"
     ]
    },
    {
     "name": "stderr",
     "output_type": "stream",
     "text": [
      "Test_Loader: 100%|██████████| 288/288 [00:27<00:00, 10.41it/s]\n"
     ]
    },
    {
     "name": "stdout",
     "output_type": "stream",
     "text": [
      "Loss1: 1.6657, Loss2: 0.7575, Loss3: 2.2552\n"
     ]
    },
    {
     "name": "stderr",
     "output_type": "stream",
     "text": [
      "Test_Loader: 100%|██████████| 288/288 [00:28<00:00, 10.26it/s]\n"
     ]
    },
    {
     "name": "stdout",
     "output_type": "stream",
     "text": [
      "Loss1: 1.6396, Loss2: 0.7550, Loss3: 2.2505\n"
     ]
    },
    {
     "name": "stderr",
     "output_type": "stream",
     "text": [
      "Test_Loader: 100%|██████████| 288/288 [00:28<00:00, 10.26it/s]\n"
     ]
    },
    {
     "name": "stdout",
     "output_type": "stream",
     "text": [
      "Loss1: 1.6549, Loss2: 0.7532, Loss3: 2.2480\n"
     ]
    },
    {
     "name": "stderr",
     "output_type": "stream",
     "text": [
      "Test_Loader: 100%|██████████| 288/288 [00:26<00:00, 10.67it/s]\n"
     ]
    },
    {
     "name": "stdout",
     "output_type": "stream",
     "text": [
      "Loss1: 1.6745, Loss2: 0.7498, Loss3: 2.1973\n"
     ]
    },
    {
     "name": "stderr",
     "output_type": "stream",
     "text": [
      "Test_Loader: 100%|██████████| 288/288 [00:27<00:00, 10.43it/s]\n"
     ]
    },
    {
     "name": "stdout",
     "output_type": "stream",
     "text": [
      "Loss1: 1.7089, Loss2: 0.7334, Loss3: 2.1537\n"
     ]
    },
    {
     "name": "stderr",
     "output_type": "stream",
     "text": [
      "Test_Loader: 100%|██████████| 288/288 [00:27<00:00, 10.53it/s]\n"
     ]
    },
    {
     "name": "stdout",
     "output_type": "stream",
     "text": [
      "Loss1: 1.6562, Loss2: 0.7398, Loss3: 2.2006\n"
     ]
    },
    {
     "name": "stderr",
     "output_type": "stream",
     "text": [
      "Test_Loader: 100%|██████████| 288/288 [00:27<00:00, 10.63it/s]\n"
     ]
    },
    {
     "name": "stdout",
     "output_type": "stream",
     "text": [
      "Loss1: 1.6435, Loss2: 0.7320, Loss3: 2.1756\n"
     ]
    },
    {
     "name": "stderr",
     "output_type": "stream",
     "text": [
      "Test_Loader: 100%|██████████| 288/288 [00:28<00:00, 10.04it/s]\n"
     ]
    },
    {
     "name": "stdout",
     "output_type": "stream",
     "text": [
      "Loss1: 1.6286, Loss2: 0.7338, Loss3: 2.1723\n"
     ]
    },
    {
     "name": "stderr",
     "output_type": "stream",
     "text": [
      "Test_Loader: 100%|██████████| 288/288 [00:31<00:00,  9.21it/s]\n"
     ]
    },
    {
     "name": "stdout",
     "output_type": "stream",
     "text": [
      "Loss1: 1.6599, Loss2: 0.7189, Loss3: 2.1418\n"
     ]
    },
    {
     "name": "stderr",
     "output_type": "stream",
     "text": [
      "Test_Loader: 100%|██████████| 288/288 [00:26<00:00, 10.70it/s]\n"
     ]
    },
    {
     "name": "stdout",
     "output_type": "stream",
     "text": [
      "Loss1: 1.6558, Loss2: 0.7211, Loss3: 2.1422\n"
     ]
    },
    {
     "name": "stderr",
     "output_type": "stream",
     "text": [
      "Test_Loader: 100%|██████████| 288/288 [00:27<00:00, 10.53it/s]\n"
     ]
    },
    {
     "name": "stdout",
     "output_type": "stream",
     "text": [
      "Loss1: 1.6480, Loss2: 0.7270, Loss3: 2.1815\n"
     ]
    },
    {
     "name": "stderr",
     "output_type": "stream",
     "text": [
      "Test_Loader: 100%|██████████| 288/288 [00:27<00:00, 10.63it/s]\n"
     ]
    },
    {
     "name": "stdout",
     "output_type": "stream",
     "text": [
      "Loss1: 1.6253, Loss2: 0.7235, Loss3: 2.1721\n"
     ]
    },
    {
     "name": "stderr",
     "output_type": "stream",
     "text": [
      "Test_Loader: 100%|██████████| 288/288 [00:29<00:00,  9.75it/s]\n"
     ]
    },
    {
     "name": "stdout",
     "output_type": "stream",
     "text": [
      "Loss1: 1.6816, Loss2: 0.7183, Loss3: 2.1593\n"
     ]
    },
    {
     "name": "stderr",
     "output_type": "stream",
     "text": [
      "Test_Loader: 100%|██████████| 288/288 [00:28<00:00, 10.21it/s]\n"
     ]
    },
    {
     "name": "stdout",
     "output_type": "stream",
     "text": [
      "Loss1: 1.6663, Loss2: 0.7125, Loss3: 2.1374\n"
     ]
    },
    {
     "name": "stderr",
     "output_type": "stream",
     "text": [
      "Test_Loader: 100%|██████████| 288/288 [00:28<00:00, 10.28it/s]\n"
     ]
    },
    {
     "name": "stdout",
     "output_type": "stream",
     "text": [
      "Loss1: 1.6922, Loss2: 0.7062, Loss3: 2.1394\n"
     ]
    },
    {
     "name": "stderr",
     "output_type": "stream",
     "text": [
      "Test_Loader: 100%|██████████| 288/288 [00:28<00:00, 10.04it/s]\n"
     ]
    },
    {
     "name": "stdout",
     "output_type": "stream",
     "text": [
      "Loss1: 1.6500, Loss2: 0.6890, Loss3: 2.0740\n"
     ]
    },
    {
     "name": "stderr",
     "output_type": "stream",
     "text": [
      "Test_Loader: 100%|██████████| 288/288 [00:28<00:00, 10.13it/s]\n"
     ]
    },
    {
     "name": "stdout",
     "output_type": "stream",
     "text": [
      "Loss1: 1.6505, Loss2: 0.6944, Loss3: 2.1081\n"
     ]
    },
    {
     "name": "stderr",
     "output_type": "stream",
     "text": [
      "Test_Loader: 100%|██████████| 288/288 [00:28<00:00, 10.13it/s]\n"
     ]
    },
    {
     "name": "stdout",
     "output_type": "stream",
     "text": [
      "Loss1: 1.6921, Loss2: 0.6818, Loss3: 2.0597\n"
     ]
    },
    {
     "name": "stderr",
     "output_type": "stream",
     "text": [
      "Test_Loader: 100%|██████████| 288/288 [00:28<00:00, 10.22it/s]\n"
     ]
    },
    {
     "name": "stdout",
     "output_type": "stream",
     "text": [
      "Loss1: 1.6430, Loss2: 0.6860, Loss3: 2.0774\n"
     ]
    },
    {
     "name": "stderr",
     "output_type": "stream",
     "text": [
      "Test_Loader: 100%|██████████| 288/288 [00:28<00:00, 10.20it/s]\n"
     ]
    },
    {
     "name": "stdout",
     "output_type": "stream",
     "text": [
      "Loss1: 1.6206, Loss2: 0.6836, Loss3: 2.0956\n"
     ]
    },
    {
     "name": "stderr",
     "output_type": "stream",
     "text": [
      "Test_Loader: 100%|██████████| 288/288 [00:29<00:00,  9.64it/s]\n"
     ]
    },
    {
     "name": "stdout",
     "output_type": "stream",
     "text": [
      "Loss1: 1.6075, Loss2: 0.6773, Loss3: 2.1001\n"
     ]
    },
    {
     "name": "stderr",
     "output_type": "stream",
     "text": [
      "Test_Loader: 100%|██████████| 288/288 [00:28<00:00,  9.97it/s]\n"
     ]
    },
    {
     "name": "stdout",
     "output_type": "stream",
     "text": [
      "Loss1: 1.6014, Loss2: 0.6767, Loss3: 2.0926\n"
     ]
    },
    {
     "name": "stderr",
     "output_type": "stream",
     "text": [
      "Test_Loader: 100%|██████████| 288/288 [00:27<00:00, 10.66it/s]\n"
     ]
    },
    {
     "name": "stdout",
     "output_type": "stream",
     "text": [
      "Loss1: 1.5841, Loss2: 0.6763, Loss3: 2.0797\n"
     ]
    },
    {
     "name": "stderr",
     "output_type": "stream",
     "text": [
      "Test_Loader: 100%|██████████| 288/288 [00:27<00:00, 10.60it/s]\n"
     ]
    },
    {
     "name": "stdout",
     "output_type": "stream",
     "text": [
      "Loss1: 1.5839, Loss2: 0.6712, Loss3: 2.0591\n"
     ]
    },
    {
     "name": "stderr",
     "output_type": "stream",
     "text": [
      "Test_Loader: 100%|██████████| 288/288 [00:27<00:00, 10.58it/s]\n"
     ]
    },
    {
     "name": "stdout",
     "output_type": "stream",
     "text": [
      "Loss1: 1.6146, Loss2: 0.6888, Loss3: 2.0862\n"
     ]
    },
    {
     "name": "stderr",
     "output_type": "stream",
     "text": [
      "Test_Loader: 100%|██████████| 288/288 [00:28<00:00, 10.17it/s]\n"
     ]
    },
    {
     "name": "stdout",
     "output_type": "stream",
     "text": [
      "Loss1: 1.6287, Loss2: 0.6972, Loss3: 2.0980\n"
     ]
    },
    {
     "name": "stderr",
     "output_type": "stream",
     "text": [
      "Test_Loader: 100%|██████████| 288/288 [00:27<00:00, 10.34it/s]\n"
     ]
    },
    {
     "name": "stdout",
     "output_type": "stream",
     "text": [
      "Loss1: 1.6434, Loss2: 0.6862, Loss3: 2.0624\n"
     ]
    },
    {
     "name": "stderr",
     "output_type": "stream",
     "text": [
      "Test_Loader: 100%|██████████| 288/288 [00:28<00:00, 10.18it/s]\n"
     ]
    },
    {
     "name": "stdout",
     "output_type": "stream",
     "text": [
      "Loss1: 1.6615, Loss2: 0.6715, Loss3: 2.0453\n"
     ]
    },
    {
     "name": "stderr",
     "output_type": "stream",
     "text": [
      "Test_Loader: 100%|██████████| 288/288 [00:27<00:00, 10.32it/s]\n"
     ]
    },
    {
     "name": "stdout",
     "output_type": "stream",
     "text": [
      "Loss1: 1.6113, Loss2: 0.6812, Loss3: 2.0429\n"
     ]
    },
    {
     "name": "stderr",
     "output_type": "stream",
     "text": [
      "Test_Loader: 100%|██████████| 288/288 [00:28<00:00, 10.23it/s]\n"
     ]
    },
    {
     "name": "stdout",
     "output_type": "stream",
     "text": [
      "Loss1: 1.5896, Loss2: 0.6744, Loss3: 2.0402\n"
     ]
    },
    {
     "name": "stderr",
     "output_type": "stream",
     "text": [
      "Test_Loader: 100%|██████████| 288/288 [00:28<00:00, 10.17it/s]\n"
     ]
    },
    {
     "name": "stdout",
     "output_type": "stream",
     "text": [
      "Loss1: 1.5870, Loss2: 0.6912, Loss3: 2.2153\n"
     ]
    },
    {
     "name": "stderr",
     "output_type": "stream",
     "text": [
      "Test_Loader: 100%|██████████| 288/288 [00:27<00:00, 10.56it/s]\n"
     ]
    },
    {
     "name": "stdout",
     "output_type": "stream",
     "text": [
      "Loss1: 1.5777, Loss2: 0.6678, Loss3: 2.1785\n"
     ]
    },
    {
     "name": "stderr",
     "output_type": "stream",
     "text": [
      "Test_Loader: 100%|██████████| 288/288 [00:27<00:00, 10.56it/s]\n"
     ]
    },
    {
     "name": "stdout",
     "output_type": "stream",
     "text": [
      "Loss1: 1.5627, Loss2: 0.6640, Loss3: 2.1710\n"
     ]
    },
    {
     "name": "stderr",
     "output_type": "stream",
     "text": [
      "Test_Loader: 100%|██████████| 288/288 [00:27<00:00, 10.48it/s]\n"
     ]
    },
    {
     "name": "stdout",
     "output_type": "stream",
     "text": [
      "Loss1: 1.5876, Loss2: 0.6728, Loss3: 2.2084\n"
     ]
    },
    {
     "name": "stderr",
     "output_type": "stream",
     "text": [
      "Test_Loader: 100%|██████████| 288/288 [00:27<00:00, 10.47it/s]\n"
     ]
    },
    {
     "name": "stdout",
     "output_type": "stream",
     "text": [
      "Loss1: 1.6390, Loss2: 0.6737, Loss3: 2.3051\n"
     ]
    },
    {
     "name": "stderr",
     "output_type": "stream",
     "text": [
      "Test_Loader: 100%|██████████| 288/288 [00:27<00:00, 10.45it/s]\n"
     ]
    },
    {
     "name": "stdout",
     "output_type": "stream",
     "text": [
      "Loss1: 1.5886, Loss2: 0.6509, Loss3: 2.1772\n"
     ]
    },
    {
     "name": "stderr",
     "output_type": "stream",
     "text": [
      "Test_Loader: 100%|██████████| 288/288 [00:27<00:00, 10.43it/s]\n"
     ]
    },
    {
     "name": "stdout",
     "output_type": "stream",
     "text": [
      "Loss1: 1.5571, Loss2: 0.6280, Loss3: 2.1405\n"
     ]
    },
    {
     "name": "stderr",
     "output_type": "stream",
     "text": [
      "Test_Loader: 100%|██████████| 288/288 [00:28<00:00,  9.96it/s]\n"
     ]
    },
    {
     "name": "stdout",
     "output_type": "stream",
     "text": [
      "Loss1: 1.5579, Loss2: 0.6276, Loss3: 2.1081\n"
     ]
    },
    {
     "name": "stderr",
     "output_type": "stream",
     "text": [
      "Test_Loader: 100%|██████████| 288/288 [00:31<00:00,  9.26it/s]\n"
     ]
    },
    {
     "name": "stdout",
     "output_type": "stream",
     "text": [
      "Loss1: 1.5892, Loss2: 0.6317, Loss3: 2.1447\n"
     ]
    },
    {
     "name": "stderr",
     "output_type": "stream",
     "text": [
      "Test_Loader: 100%|██████████| 288/288 [00:28<00:00, 10.18it/s]\n"
     ]
    },
    {
     "name": "stdout",
     "output_type": "stream",
     "text": [
      "Loss1: 1.5641, Loss2: 0.6317, Loss3: 2.1242\n"
     ]
    },
    {
     "name": "stderr",
     "output_type": "stream",
     "text": [
      "Test_Loader: 100%|██████████| 288/288 [00:28<00:00, 10.06it/s]\n"
     ]
    },
    {
     "name": "stdout",
     "output_type": "stream",
     "text": [
      "Loss1: 1.5531, Loss2: 0.6191, Loss3: 2.1081\n"
     ]
    },
    {
     "name": "stderr",
     "output_type": "stream",
     "text": [
      "Test_Loader: 100%|██████████| 288/288 [00:28<00:00, 10.20it/s]\n"
     ]
    },
    {
     "name": "stdout",
     "output_type": "stream",
     "text": [
      "Loss1: 1.5444, Loss2: 0.6107, Loss3: 2.1371\n"
     ]
    },
    {
     "name": "stderr",
     "output_type": "stream",
     "text": [
      "Test_Loader: 100%|██████████| 288/288 [00:28<00:00, 10.22it/s]\n"
     ]
    },
    {
     "name": "stdout",
     "output_type": "stream",
     "text": [
      "Loss1: 1.4851, Loss2: 0.5957, Loss3: 2.0724\n"
     ]
    },
    {
     "name": "stderr",
     "output_type": "stream",
     "text": [
      "Test_Loader: 100%|██████████| 288/288 [00:27<00:00, 10.30it/s]\n"
     ]
    },
    {
     "name": "stdout",
     "output_type": "stream",
     "text": [
      "Loss1: 1.5230, Loss2: 0.5909, Loss3: 2.0597\n"
     ]
    },
    {
     "name": "stderr",
     "output_type": "stream",
     "text": [
      "Test_Loader: 100%|██████████| 288/288 [00:27<00:00, 10.41it/s]\n"
     ]
    },
    {
     "name": "stdout",
     "output_type": "stream",
     "text": [
      "Loss1: 1.3321, Loss2: 0.5667, Loss3: 1.7917\n"
     ]
    },
    {
     "name": "stderr",
     "output_type": "stream",
     "text": [
      "Test_Loader: 100%|██████████| 288/288 [00:28<00:00, 10.15it/s]\n"
     ]
    },
    {
     "name": "stdout",
     "output_type": "stream",
     "text": [
      "Loss1: 1.4117, Loss2: 0.6257, Loss3: 2.4958\n"
     ]
    },
    {
     "name": "stderr",
     "output_type": "stream",
     "text": [
      "Test_Loader: 100%|██████████| 288/288 [00:27<00:00, 10.33it/s]\n"
     ]
    },
    {
     "name": "stdout",
     "output_type": "stream",
     "text": [
      "Loss1: 1.4418, Loss2: 0.6305, Loss3: 2.4953\n"
     ]
    },
    {
     "name": "stderr",
     "output_type": "stream",
     "text": [
      "Test_Loader: 100%|██████████| 288/288 [00:27<00:00, 10.55it/s]\n"
     ]
    },
    {
     "name": "stdout",
     "output_type": "stream",
     "text": [
      "Loss1: 1.3953, Loss2: 0.6181, Loss3: 2.4787\n"
     ]
    },
    {
     "name": "stderr",
     "output_type": "stream",
     "text": [
      "Test_Loader: 100%|██████████| 288/288 [00:27<00:00, 10.64it/s]\n"
     ]
    },
    {
     "name": "stdout",
     "output_type": "stream",
     "text": [
      "Loss1: 1.5641, Loss2: 0.9072, Loss3: 2.8775\n"
     ]
    },
    {
     "name": "stderr",
     "output_type": "stream",
     "text": [
      "Test_Loader: 100%|██████████| 288/288 [00:26<00:00, 10.81it/s]\n"
     ]
    },
    {
     "name": "stdout",
     "output_type": "stream",
     "text": [
      "Loss1: 1.4829, Loss2: 0.8662, Loss3: 2.8624\n"
     ]
    },
    {
     "name": "stderr",
     "output_type": "stream",
     "text": [
      "Test_Loader: 100%|██████████| 288/288 [00:26<00:00, 10.78it/s]\n"
     ]
    },
    {
     "name": "stdout",
     "output_type": "stream",
     "text": [
      "Loss1: 1.5130, Loss2: 0.9329, Loss3: 2.9667\n"
     ]
    },
    {
     "name": "stderr",
     "output_type": "stream",
     "text": [
      "Test_Loader: 100%|██████████| 288/288 [00:27<00:00, 10.66it/s]\n"
     ]
    },
    {
     "name": "stdout",
     "output_type": "stream",
     "text": [
      "Loss1: 1.5060, Loss2: 0.9089, Loss3: 2.9824\n"
     ]
    },
    {
     "name": "stderr",
     "output_type": "stream",
     "text": [
      "Test_Loader: 100%|██████████| 288/288 [00:27<00:00, 10.47it/s]\n"
     ]
    },
    {
     "name": "stdout",
     "output_type": "stream",
     "text": [
      "Loss1: 1.4986, Loss2: 0.8929, Loss3: 2.9154\n"
     ]
    },
    {
     "name": "stderr",
     "output_type": "stream",
     "text": [
      "Test_Loader: 100%|██████████| 288/288 [00:27<00:00, 10.29it/s]\n"
     ]
    },
    {
     "name": "stdout",
     "output_type": "stream",
     "text": [
      "Loss1: 1.5181, Loss2: 0.9214, Loss3: 3.0078\n"
     ]
    },
    {
     "name": "stderr",
     "output_type": "stream",
     "text": [
      "Test_Loader: 100%|██████████| 288/288 [00:27<00:00, 10.39it/s]\n"
     ]
    },
    {
     "name": "stdout",
     "output_type": "stream",
     "text": [
      "Loss1: 1.5273, Loss2: 0.9035, Loss3: 2.8986\n"
     ]
    },
    {
     "name": "stderr",
     "output_type": "stream",
     "text": [
      "Test_Loader: 100%|██████████| 288/288 [00:28<00:00, 10.17it/s]\n"
     ]
    },
    {
     "name": "stdout",
     "output_type": "stream",
     "text": [
      "Loss1: 1.5547, Loss2: 0.9370, Loss3: 3.0211\n"
     ]
    },
    {
     "name": "stderr",
     "output_type": "stream",
     "text": [
      "Test_Loader: 100%|██████████| 288/288 [00:28<00:00, 10.11it/s]\n"
     ]
    },
    {
     "name": "stdout",
     "output_type": "stream",
     "text": [
      "Loss1: 1.3893, Loss2: 0.8507, Loss3: 2.7906\n"
     ]
    },
    {
     "name": "stderr",
     "output_type": "stream",
     "text": [
      "Test_Loader: 100%|██████████| 288/288 [00:27<00:00, 10.37it/s]\n"
     ]
    },
    {
     "name": "stdout",
     "output_type": "stream",
     "text": [
      "Loss1: 1.4417, Loss2: 0.9178, Loss3: 2.9187\n"
     ]
    },
    {
     "name": "stderr",
     "output_type": "stream",
     "text": [
      "Test_Loader: 100%|██████████| 288/288 [00:27<00:00, 10.44it/s]\n"
     ]
    },
    {
     "name": "stdout",
     "output_type": "stream",
     "text": [
      "Loss1: 1.3988, Loss2: 0.8722, Loss3: 2.7808\n"
     ]
    },
    {
     "name": "stderr",
     "output_type": "stream",
     "text": [
      "Test_Loader: 100%|██████████| 288/288 [00:32<00:00,  8.94it/s]\n"
     ]
    },
    {
     "name": "stdout",
     "output_type": "stream",
     "text": [
      "Loss1: 1.4032, Loss2: 0.8577, Loss3: 2.8013\n"
     ]
    },
    {
     "name": "stderr",
     "output_type": "stream",
     "text": [
      "Test_Loader: 100%|██████████| 288/288 [00:28<00:00, 10.26it/s]\n"
     ]
    },
    {
     "name": "stdout",
     "output_type": "stream",
     "text": [
      "Loss1: 1.3786, Loss2: 0.8427, Loss3: 2.7443\n"
     ]
    },
    {
     "name": "stderr",
     "output_type": "stream",
     "text": [
      "Test_Loader: 100%|██████████| 288/288 [00:27<00:00, 10.33it/s]\n"
     ]
    },
    {
     "name": "stdout",
     "output_type": "stream",
     "text": [
      "Loss1: 1.3919, Loss2: 0.8824, Loss3: 2.8661\n"
     ]
    },
    {
     "name": "stderr",
     "output_type": "stream",
     "text": [
      "Test_Loader: 100%|██████████| 288/288 [00:27<00:00, 10.41it/s]\n"
     ]
    },
    {
     "name": "stdout",
     "output_type": "stream",
     "text": [
      "Loss1: 1.3536, Loss2: 0.8312, Loss3: 2.7311\n"
     ]
    },
    {
     "name": "stderr",
     "output_type": "stream",
     "text": [
      "Test_Loader: 100%|██████████| 288/288 [00:27<00:00, 10.30it/s]\n"
     ]
    },
    {
     "name": "stdout",
     "output_type": "stream",
     "text": [
      "Loss1: 1.3368, Loss2: 0.8064, Loss3: 2.7074\n"
     ]
    },
    {
     "name": "stderr",
     "output_type": "stream",
     "text": [
      "Test_Loader: 100%|██████████| 288/288 [00:28<00:00, 10.24it/s]\n"
     ]
    },
    {
     "name": "stdout",
     "output_type": "stream",
     "text": [
      "Loss1: 1.3167, Loss2: 0.7979, Loss3: 2.6927\n"
     ]
    },
    {
     "name": "stderr",
     "output_type": "stream",
     "text": [
      "Test_Loader: 100%|██████████| 288/288 [00:28<00:00, 10.16it/s]\n"
     ]
    },
    {
     "name": "stdout",
     "output_type": "stream",
     "text": [
      "Loss1: 1.3192, Loss2: 0.8026, Loss3: 2.6681\n"
     ]
    },
    {
     "name": "stderr",
     "output_type": "stream",
     "text": [
      "Test_Loader: 100%|██████████| 288/288 [00:28<00:00, 10.05it/s]\n"
     ]
    },
    {
     "name": "stdout",
     "output_type": "stream",
     "text": [
      "Loss1: 1.3277, Loss2: 0.7990, Loss3: 2.6721\n"
     ]
    },
    {
     "name": "stderr",
     "output_type": "stream",
     "text": [
      "Test_Loader: 100%|██████████| 288/288 [00:27<00:00, 10.37it/s]\n"
     ]
    },
    {
     "name": "stdout",
     "output_type": "stream",
     "text": [
      "Loss1: 1.3212, Loss2: 0.7935, Loss3: 2.6589\n"
     ]
    },
    {
     "name": "stderr",
     "output_type": "stream",
     "text": [
      "Test_Loader: 100%|██████████| 288/288 [00:28<00:00, 10.26it/s]\n"
     ]
    },
    {
     "name": "stdout",
     "output_type": "stream",
     "text": [
      "Loss1: 1.3263, Loss2: 0.8358, Loss3: 2.7539\n"
     ]
    },
    {
     "name": "stderr",
     "output_type": "stream",
     "text": [
      "Test_Loader: 100%|██████████| 288/288 [00:27<00:00, 10.39it/s]\n"
     ]
    },
    {
     "name": "stdout",
     "output_type": "stream",
     "text": [
      "Loss1: 1.3037, Loss2: 0.7929, Loss3: 2.6384\n"
     ]
    },
    {
     "name": "stderr",
     "output_type": "stream",
     "text": [
      "Test_Loader: 100%|██████████| 288/288 [00:27<00:00, 10.42it/s]\n"
     ]
    },
    {
     "name": "stdout",
     "output_type": "stream",
     "text": [
      "Loss1: 1.2884, Loss2: 0.7818, Loss3: 2.6226\n"
     ]
    },
    {
     "name": "stderr",
     "output_type": "stream",
     "text": [
      "Test_Loader: 100%|██████████| 288/288 [00:28<00:00, 10.26it/s]\n"
     ]
    },
    {
     "name": "stdout",
     "output_type": "stream",
     "text": [
      "Loss1: 1.2889, Loss2: 0.7795, Loss3: 2.6239\n"
     ]
    },
    {
     "name": "stderr",
     "output_type": "stream",
     "text": [
      "Test_Loader: 100%|██████████| 288/288 [00:27<00:00, 10.37it/s]\n"
     ]
    },
    {
     "name": "stdout",
     "output_type": "stream",
     "text": [
      "Loss1: 1.2875, Loss2: 0.8240, Loss3: 2.7132\n"
     ]
    },
    {
     "name": "stderr",
     "output_type": "stream",
     "text": [
      "Test_Loader: 100%|██████████| 288/288 [00:26<00:00, 10.67it/s]\n"
     ]
    },
    {
     "name": "stdout",
     "output_type": "stream",
     "text": [
      "Loss1: 1.2636, Loss2: 0.8127, Loss3: 2.6839\n"
     ]
    },
    {
     "name": "stderr",
     "output_type": "stream",
     "text": [
      "Test_Loader: 100%|██████████| 288/288 [00:26<00:00, 11.01it/s]\n"
     ]
    },
    {
     "name": "stdout",
     "output_type": "stream",
     "text": [
      "Loss1: 1.2716, Loss2: 0.7582, Loss3: 2.5885\n"
     ]
    },
    {
     "name": "stderr",
     "output_type": "stream",
     "text": [
      "Test_Loader: 100%|██████████| 288/288 [00:26<00:00, 10.82it/s]\n"
     ]
    },
    {
     "name": "stdout",
     "output_type": "stream",
     "text": [
      "Loss1: 1.2175, Loss2: 0.7914, Loss3: 2.5765\n"
     ]
    },
    {
     "name": "stderr",
     "output_type": "stream",
     "text": [
      "Test_Loader: 100%|██████████| 288/288 [00:29<00:00,  9.63it/s]\n"
     ]
    },
    {
     "name": "stdout",
     "output_type": "stream",
     "text": [
      "Loss1: 1.2405, Loss2: 0.7829, Loss3: 2.5408\n"
     ]
    },
    {
     "name": "stderr",
     "output_type": "stream",
     "text": [
      "Test_Loader: 100%|██████████| 288/288 [00:27<00:00, 10.60it/s]\n"
     ]
    },
    {
     "name": "stdout",
     "output_type": "stream",
     "text": [
      "Loss1: 1.2625, Loss2: 0.7488, Loss3: 2.4810\n"
     ]
    },
    {
     "name": "stderr",
     "output_type": "stream",
     "text": [
      "Test_Loader: 100%|██████████| 288/288 [00:27<00:00, 10.38it/s]\n"
     ]
    },
    {
     "name": "stdout",
     "output_type": "stream",
     "text": [
      "Loss1: 1.2598, Loss2: 0.7895, Loss3: 2.6009\n"
     ]
    },
    {
     "name": "stderr",
     "output_type": "stream",
     "text": [
      "Test_Loader: 100%|██████████| 288/288 [00:27<00:00, 10.40it/s]\n"
     ]
    },
    {
     "name": "stdout",
     "output_type": "stream",
     "text": [
      "Loss1: 1.2937, Loss2: 0.8199, Loss3: 2.6525\n"
     ]
    },
    {
     "name": "stderr",
     "output_type": "stream",
     "text": [
      "Test_Loader: 100%|██████████| 288/288 [00:27<00:00, 10.37it/s]\n"
     ]
    },
    {
     "name": "stdout",
     "output_type": "stream",
     "text": [
      "Loss1: 1.3002, Loss2: 0.7737, Loss3: 2.5284\n"
     ]
    },
    {
     "name": "stderr",
     "output_type": "stream",
     "text": [
      "Test_Loader: 100%|██████████| 288/288 [00:28<00:00, 10.20it/s]\n"
     ]
    },
    {
     "name": "stdout",
     "output_type": "stream",
     "text": [
      "Loss1: 1.3333, Loss2: 0.8157, Loss3: 2.6112\n"
     ]
    },
    {
     "name": "stderr",
     "output_type": "stream",
     "text": [
      "Test_Loader: 100%|██████████| 288/288 [00:28<00:00, 10.22it/s]\n"
     ]
    },
    {
     "name": "stdout",
     "output_type": "stream",
     "text": [
      "Loss1: 1.3295, Loss2: 0.8158, Loss3: 2.5722\n"
     ]
    },
    {
     "name": "stderr",
     "output_type": "stream",
     "text": [
      "Test_Loader: 100%|██████████| 288/288 [00:27<00:00, 10.46it/s]\n"
     ]
    },
    {
     "name": "stdout",
     "output_type": "stream",
     "text": [
      "Loss1: 1.4478, Loss2: 0.8538, Loss3: 2.8756\n"
     ]
    },
    {
     "name": "stderr",
     "output_type": "stream",
     "text": [
      "Test_Loader: 100%|██████████| 288/288 [00:28<00:00,  9.99it/s]\n"
     ]
    },
    {
     "name": "stdout",
     "output_type": "stream",
     "text": [
      "Loss1: 1.4590, Loss2: 0.8504, Loss3: 2.8612\n"
     ]
    },
    {
     "name": "stderr",
     "output_type": "stream",
     "text": [
      "Test_Loader: 100%|██████████| 288/288 [00:30<00:00,  9.47it/s]\n"
     ]
    },
    {
     "name": "stdout",
     "output_type": "stream",
     "text": [
      "Loss1: 1.4526, Loss2: 0.8443, Loss3: 2.7975\n"
     ]
    },
    {
     "name": "stderr",
     "output_type": "stream",
     "text": [
      "Test_Loader: 100%|██████████| 288/288 [00:27<00:00, 10.61it/s]\n"
     ]
    },
    {
     "name": "stdout",
     "output_type": "stream",
     "text": [
      "Loss1: 1.4256, Loss2: 0.8804, Loss3: 2.8258\n"
     ]
    },
    {
     "name": "stderr",
     "output_type": "stream",
     "text": [
      "Test_Loader: 100%|██████████| 288/288 [00:27<00:00, 10.61it/s]\n"
     ]
    },
    {
     "name": "stdout",
     "output_type": "stream",
     "text": [
      "Loss1: 1.4340, Loss2: 0.8379, Loss3: 2.7395\n"
     ]
    },
    {
     "name": "stderr",
     "output_type": "stream",
     "text": [
      "Test_Loader: 100%|██████████| 288/288 [00:27<00:00, 10.49it/s]\n"
     ]
    },
    {
     "name": "stdout",
     "output_type": "stream",
     "text": [
      "Loss1: 1.4266, Loss2: 0.8315, Loss3: 2.7240\n"
     ]
    },
    {
     "name": "stderr",
     "output_type": "stream",
     "text": [
      "Test_Loader: 100%|██████████| 288/288 [00:29<00:00,  9.82it/s]\n"
     ]
    },
    {
     "name": "stdout",
     "output_type": "stream",
     "text": [
      "Loss1: 1.4115, Loss2: 0.8272, Loss3: 2.6907\n"
     ]
    },
    {
     "name": "stderr",
     "output_type": "stream",
     "text": [
      "Test_Loader: 100%|██████████| 288/288 [00:27<00:00, 10.35it/s]\n"
     ]
    },
    {
     "name": "stdout",
     "output_type": "stream",
     "text": [
      "Loss1: 1.3985, Loss2: 0.8138, Loss3: 2.6657\n"
     ]
    },
    {
     "name": "stderr",
     "output_type": "stream",
     "text": [
      "Test_Loader: 100%|██████████| 288/288 [00:28<00:00, 10.22it/s]\n"
     ]
    },
    {
     "name": "stdout",
     "output_type": "stream",
     "text": [
      "Loss1: 1.3846, Loss2: 0.8174, Loss3: 2.6138\n"
     ]
    },
    {
     "name": "stderr",
     "output_type": "stream",
     "text": [
      "Test_Loader: 100%|██████████| 288/288 [00:28<00:00, 10.06it/s]\n"
     ]
    },
    {
     "name": "stdout",
     "output_type": "stream",
     "text": [
      "Loss1: 1.3814, Loss2: 0.8516, Loss3: 2.6593\n"
     ]
    },
    {
     "name": "stderr",
     "output_type": "stream",
     "text": [
      "Test_Loader: 100%|██████████| 288/288 [00:27<00:00, 10.41it/s]\n"
     ]
    },
    {
     "name": "stdout",
     "output_type": "stream",
     "text": [
      "Loss1: 1.3631, Loss2: 0.8058, Loss3: 2.5443\n"
     ]
    },
    {
     "name": "stderr",
     "output_type": "stream",
     "text": [
      "Test_Loader: 100%|██████████| 288/288 [00:27<00:00, 10.33it/s]\n"
     ]
    },
    {
     "name": "stdout",
     "output_type": "stream",
     "text": [
      "Loss1: 1.3614, Loss2: 0.7988, Loss3: 2.5404\n"
     ]
    },
    {
     "name": "stderr",
     "output_type": "stream",
     "text": [
      "Test_Loader: 100%|██████████| 288/288 [00:27<00:00, 10.38it/s]\n"
     ]
    },
    {
     "name": "stdout",
     "output_type": "stream",
     "text": [
      "Loss1: 1.3710, Loss2: 0.7922, Loss3: 2.4990\n"
     ]
    },
    {
     "name": "stderr",
     "output_type": "stream",
     "text": [
      "Test_Loader: 100%|██████████| 288/288 [00:26<00:00, 10.69it/s]\n"
     ]
    },
    {
     "name": "stdout",
     "output_type": "stream",
     "text": [
      "Loss1: 1.3754, Loss2: 0.8225, Loss3: 2.5394\n"
     ]
    },
    {
     "name": "stderr",
     "output_type": "stream",
     "text": [
      "Test_Loader: 100%|██████████| 288/288 [00:27<00:00, 10.49it/s]\n"
     ]
    },
    {
     "name": "stdout",
     "output_type": "stream",
     "text": [
      "Loss1: 1.3744, Loss2: 0.8217, Loss3: 2.5436\n"
     ]
    },
    {
     "name": "stderr",
     "output_type": "stream",
     "text": [
      "Test_Loader: 100%|██████████| 288/288 [00:30<00:00,  9.46it/s]\n"
     ]
    },
    {
     "name": "stdout",
     "output_type": "stream",
     "text": [
      "Loss1: 1.3678, Loss2: 0.8069, Loss3: 2.5299\n"
     ]
    },
    {
     "name": "stderr",
     "output_type": "stream",
     "text": [
      "Test_Loader: 100%|██████████| 288/288 [00:26<00:00, 10.75it/s]\n"
     ]
    },
    {
     "name": "stdout",
     "output_type": "stream",
     "text": [
      "Loss1: 1.3698, Loss2: 0.7762, Loss3: 2.4849\n"
     ]
    },
    {
     "name": "stderr",
     "output_type": "stream",
     "text": [
      "Test_Loader: 100%|██████████| 288/288 [00:27<00:00, 10.62it/s]\n"
     ]
    },
    {
     "name": "stdout",
     "output_type": "stream",
     "text": [
      "Loss1: 1.3712, Loss2: 0.7695, Loss3: 2.4614\n"
     ]
    },
    {
     "name": "stderr",
     "output_type": "stream",
     "text": [
      "Test_Loader: 100%|██████████| 288/288 [00:27<00:00, 10.62it/s]\n"
     ]
    },
    {
     "name": "stdout",
     "output_type": "stream",
     "text": [
      "Loss1: 1.3740, Loss2: 0.7680, Loss3: 2.4333\n"
     ]
    },
    {
     "name": "stderr",
     "output_type": "stream",
     "text": [
      "Test_Loader: 100%|██████████| 288/288 [00:27<00:00, 10.41it/s]\n"
     ]
    },
    {
     "name": "stdout",
     "output_type": "stream",
     "text": [
      "Loss1: 1.3695, Loss2: 0.7541, Loss3: 2.4077\n"
     ]
    },
    {
     "name": "stderr",
     "output_type": "stream",
     "text": [
      "Test_Loader: 100%|██████████| 288/288 [00:28<00:00, 10.08it/s]\n"
     ]
    },
    {
     "name": "stdout",
     "output_type": "stream",
     "text": [
      "Loss1: 1.3530, Loss2: 0.7533, Loss3: 2.4127\n"
     ]
    },
    {
     "name": "stderr",
     "output_type": "stream",
     "text": [
      "Test_Loader: 100%|██████████| 288/288 [00:29<00:00,  9.91it/s]\n"
     ]
    },
    {
     "name": "stdout",
     "output_type": "stream",
     "text": [
      "Loss1: 1.3359, Loss2: 0.7779, Loss3: 2.4448\n"
     ]
    },
    {
     "name": "stderr",
     "output_type": "stream",
     "text": [
      "Test_Loader: 100%|██████████| 288/288 [00:28<00:00, 10.02it/s]\n"
     ]
    },
    {
     "name": "stdout",
     "output_type": "stream",
     "text": [
      "Loss1: 1.3431, Loss2: 0.7420, Loss3: 2.3581\n"
     ]
    },
    {
     "name": "stderr",
     "output_type": "stream",
     "text": [
      "Test_Loader: 100%|██████████| 288/288 [00:28<00:00, 10.06it/s]\n"
     ]
    },
    {
     "name": "stdout",
     "output_type": "stream",
     "text": [
      "Loss1: 1.3227, Loss2: 0.7357, Loss3: 2.3485\n"
     ]
    },
    {
     "name": "stderr",
     "output_type": "stream",
     "text": [
      "Test_Loader: 100%|██████████| 288/288 [00:28<00:00, 10.16it/s]\n"
     ]
    },
    {
     "name": "stdout",
     "output_type": "stream",
     "text": [
      "Loss1: 1.3515, Loss2: 0.7338, Loss3: 2.3301\n"
     ]
    },
    {
     "name": "stderr",
     "output_type": "stream",
     "text": [
      "Test_Loader: 100%|██████████| 288/288 [00:27<00:00, 10.31it/s]\n"
     ]
    },
    {
     "name": "stdout",
     "output_type": "stream",
     "text": [
      "Loss1: 1.3165, Loss2: 0.7485, Loss3: 2.3342\n"
     ]
    },
    {
     "name": "stderr",
     "output_type": "stream",
     "text": [
      "Test_Loader: 100%|██████████| 288/288 [00:28<00:00, 10.19it/s]\n"
     ]
    },
    {
     "name": "stdout",
     "output_type": "stream",
     "text": [
      "Loss1: 1.3196, Loss2: 0.7531, Loss3: 2.3458\n"
     ]
    },
    {
     "name": "stderr",
     "output_type": "stream",
     "text": [
      "Test_Loader: 100%|██████████| 288/288 [00:28<00:00, 10.23it/s]\n"
     ]
    },
    {
     "name": "stdout",
     "output_type": "stream",
     "text": [
      "Loss1: 1.3320, Loss2: 0.7220, Loss3: 2.2992\n"
     ]
    },
    {
     "name": "stderr",
     "output_type": "stream",
     "text": [
      "Test_Loader: 100%|██████████| 288/288 [00:29<00:00,  9.76it/s]\n"
     ]
    },
    {
     "name": "stdout",
     "output_type": "stream",
     "text": [
      "Loss1: 1.3156, Loss2: 0.7157, Loss3: 2.2623\n"
     ]
    },
    {
     "name": "stderr",
     "output_type": "stream",
     "text": [
      "Test_Loader: 100%|██████████| 288/288 [00:26<00:00, 10.76it/s]\n"
     ]
    },
    {
     "name": "stdout",
     "output_type": "stream",
     "text": [
      "Loss1: 1.3146, Loss2: 0.7330, Loss3: 2.2824\n"
     ]
    },
    {
     "name": "stderr",
     "output_type": "stream",
     "text": [
      "Test_Loader: 100%|██████████| 288/288 [00:26<00:00, 10.96it/s]\n"
     ]
    },
    {
     "name": "stdout",
     "output_type": "stream",
     "text": [
      "Loss1: 1.2995, Loss2: 0.7237, Loss3: 2.2582\n"
     ]
    },
    {
     "name": "stderr",
     "output_type": "stream",
     "text": [
      "Test_Loader: 100%|██████████| 288/288 [00:28<00:00, 10.25it/s]\n"
     ]
    },
    {
     "name": "stdout",
     "output_type": "stream",
     "text": [
      "Loss1: 1.2971, Loss2: 0.7309, Loss3: 2.2445\n"
     ]
    },
    {
     "name": "stderr",
     "output_type": "stream",
     "text": [
      "Test_Loader: 100%|██████████| 288/288 [00:29<00:00,  9.77it/s]\n"
     ]
    },
    {
     "name": "stdout",
     "output_type": "stream",
     "text": [
      "Loss1: 1.2841, Loss2: 0.7244, Loss3: 2.2530\n"
     ]
    },
    {
     "name": "stderr",
     "output_type": "stream",
     "text": [
      "Test_Loader: 100%|██████████| 288/288 [00:26<00:00, 10.95it/s]\n"
     ]
    },
    {
     "name": "stdout",
     "output_type": "stream",
     "text": [
      "Loss1: 1.3227, Loss2: 0.7039, Loss3: 2.2012\n"
     ]
    },
    {
     "name": "stderr",
     "output_type": "stream",
     "text": [
      "Test_Loader: 100%|██████████| 288/288 [00:28<00:00, 10.23it/s]\n"
     ]
    },
    {
     "name": "stdout",
     "output_type": "stream",
     "text": [
      "Loss1: 1.3101, Loss2: 0.7209, Loss3: 2.2208\n"
     ]
    },
    {
     "name": "stderr",
     "output_type": "stream",
     "text": [
      "Test_Loader: 100%|██████████| 288/288 [00:28<00:00, 10.17it/s]\n"
     ]
    },
    {
     "name": "stdout",
     "output_type": "stream",
     "text": [
      "Loss1: 1.3395, Loss2: 0.6988, Loss3: 2.1952\n"
     ]
    },
    {
     "name": "stderr",
     "output_type": "stream",
     "text": [
      "Test_Loader: 100%|██████████| 288/288 [00:28<00:00, 10.24it/s]\n"
     ]
    },
    {
     "name": "stdout",
     "output_type": "stream",
     "text": [
      "Loss1: 1.3360, Loss2: 0.6977, Loss3: 2.2027\n"
     ]
    },
    {
     "name": "stderr",
     "output_type": "stream",
     "text": [
      "Test_Loader: 100%|██████████| 288/288 [00:28<00:00, 10.07it/s]\n"
     ]
    },
    {
     "name": "stdout",
     "output_type": "stream",
     "text": [
      "Loss1: 1.3201, Loss2: 0.6843, Loss3: 2.2028\n"
     ]
    },
    {
     "name": "stderr",
     "output_type": "stream",
     "text": [
      "Test_Loader: 100%|██████████| 288/288 [00:28<00:00, 10.24it/s]\n"
     ]
    },
    {
     "name": "stdout",
     "output_type": "stream",
     "text": [
      "Loss1: 1.3266, Loss2: 0.6732, Loss3: 2.1565\n"
     ]
    },
    {
     "name": "stderr",
     "output_type": "stream",
     "text": [
      "Test_Loader: 100%|██████████| 288/288 [00:28<00:00, 10.24it/s]\n"
     ]
    },
    {
     "name": "stdout",
     "output_type": "stream",
     "text": [
      "Loss1: 1.3314, Loss2: 0.6761, Loss3: 2.1745\n"
     ]
    },
    {
     "name": "stderr",
     "output_type": "stream",
     "text": [
      "Test_Loader: 100%|██████████| 288/288 [00:28<00:00, 10.11it/s]\n"
     ]
    },
    {
     "name": "stdout",
     "output_type": "stream",
     "text": [
      "Loss1: 1.5086, Loss2: 0.7061, Loss3: 2.3115\n"
     ]
    },
    {
     "name": "stderr",
     "output_type": "stream",
     "text": [
      "Test_Loader: 100%|██████████| 288/288 [00:27<00:00, 10.35it/s]\n"
     ]
    },
    {
     "name": "stdout",
     "output_type": "stream",
     "text": [
      "Loss1: 1.5013, Loss2: 0.6990, Loss3: 2.3075\n"
     ]
    },
    {
     "name": "stderr",
     "output_type": "stream",
     "text": [
      "Test_Loader: 100%|██████████| 288/288 [00:27<00:00, 10.40it/s]\n"
     ]
    },
    {
     "name": "stdout",
     "output_type": "stream",
     "text": [
      "Loss1: 1.4828, Loss2: 0.6903, Loss3: 2.2637\n"
     ]
    },
    {
     "name": "stderr",
     "output_type": "stream",
     "text": [
      "Test_Loader: 100%|██████████| 288/288 [00:27<00:00, 10.50it/s]\n"
     ]
    },
    {
     "name": "stdout",
     "output_type": "stream",
     "text": [
      "Loss1: 1.6027, Loss2: 0.7133, Loss3: 2.4110\n"
     ]
    },
    {
     "name": "stderr",
     "output_type": "stream",
     "text": [
      "Test_Loader: 100%|██████████| 288/288 [00:28<00:00, 10.28it/s]\n"
     ]
    },
    {
     "name": "stdout",
     "output_type": "stream",
     "text": [
      "Loss1: 1.6146, Loss2: 0.7126, Loss3: 2.4064\n"
     ]
    },
    {
     "name": "stderr",
     "output_type": "stream",
     "text": [
      "Test_Loader: 100%|██████████| 288/288 [00:27<00:00, 10.48it/s]\n"
     ]
    },
    {
     "name": "stdout",
     "output_type": "stream",
     "text": [
      "Loss1: 1.5981, Loss2: 0.6882, Loss3: 2.3426\n"
     ]
    },
    {
     "name": "stderr",
     "output_type": "stream",
     "text": [
      "Test_Loader: 100%|██████████| 288/288 [00:27<00:00, 10.48it/s]\n"
     ]
    },
    {
     "name": "stdout",
     "output_type": "stream",
     "text": [
      "Loss1: 1.5777, Loss2: 0.6805, Loss3: 2.3265\n"
     ]
    },
    {
     "name": "stderr",
     "output_type": "stream",
     "text": [
      "Test_Loader: 100%|██████████| 288/288 [00:28<00:00, 10.27it/s]\n"
     ]
    },
    {
     "name": "stdout",
     "output_type": "stream",
     "text": [
      "Loss1: 1.5363, Loss2: 0.6712, Loss3: 2.2312\n"
     ]
    },
    {
     "name": "stderr",
     "output_type": "stream",
     "text": [
      "Test_Loader: 100%|██████████| 288/288 [00:27<00:00, 10.55it/s]\n"
     ]
    },
    {
     "name": "stdout",
     "output_type": "stream",
     "text": [
      "Loss1: 1.6033, Loss2: 0.6843, Loss3: 2.3195\n"
     ]
    },
    {
     "name": "stderr",
     "output_type": "stream",
     "text": [
      "Test_Loader: 100%|██████████| 288/288 [00:27<00:00, 10.52it/s]\n"
     ]
    },
    {
     "name": "stdout",
     "output_type": "stream",
     "text": [
      "Loss1: 1.5860, Loss2: 0.6894, Loss3: 2.3402\n"
     ]
    },
    {
     "name": "stderr",
     "output_type": "stream",
     "text": [
      "Test_Loader: 100%|██████████| 288/288 [00:27<00:00, 10.42it/s]\n"
     ]
    },
    {
     "name": "stdout",
     "output_type": "stream",
     "text": [
      "Loss1: 1.5936, Loss2: 0.6802, Loss3: 2.3233\n"
     ]
    },
    {
     "name": "stderr",
     "output_type": "stream",
     "text": [
      "Test_Loader: 100%|██████████| 288/288 [00:27<00:00, 10.46it/s]\n"
     ]
    },
    {
     "name": "stdout",
     "output_type": "stream",
     "text": [
      "Loss1: 1.5888, Loss2: 0.6649, Loss3: 2.3545\n"
     ]
    },
    {
     "name": "stderr",
     "output_type": "stream",
     "text": [
      "Test_Loader: 100%|██████████| 288/288 [00:27<00:00, 10.51it/s]\n"
     ]
    },
    {
     "name": "stdout",
     "output_type": "stream",
     "text": [
      "Loss1: 1.5679, Loss2: 0.6677, Loss3: 2.3169\n"
     ]
    },
    {
     "name": "stderr",
     "output_type": "stream",
     "text": [
      "Test_Loader: 100%|██████████| 288/288 [00:29<00:00,  9.79it/s]\n"
     ]
    },
    {
     "name": "stdout",
     "output_type": "stream",
     "text": [
      "Loss1: 1.7510, Loss2: 0.7639, Loss3: 2.4450\n"
     ]
    },
    {
     "name": "stderr",
     "output_type": "stream",
     "text": [
      "Test_Loader: 100%|██████████| 288/288 [00:28<00:00, 10.15it/s]\n"
     ]
    },
    {
     "name": "stdout",
     "output_type": "stream",
     "text": [
      "Loss1: 1.7957, Loss2: 0.8020, Loss3: 2.4664\n"
     ]
    },
    {
     "name": "stderr",
     "output_type": "stream",
     "text": [
      "Test_Loader: 100%|██████████| 288/288 [00:25<00:00, 11.09it/s]\n"
     ]
    },
    {
     "name": "stdout",
     "output_type": "stream",
     "text": [
      "Loss1: 1.7989, Loss2: 0.7942, Loss3: 2.4878\n"
     ]
    },
    {
     "name": "stderr",
     "output_type": "stream",
     "text": [
      "Test_Loader: 100%|██████████| 288/288 [00:26<00:00, 10.78it/s]\n"
     ]
    },
    {
     "name": "stdout",
     "output_type": "stream",
     "text": [
      "Loss1: 1.8749, Loss2: 0.8012, Loss3: 2.5085\n"
     ]
    },
    {
     "name": "stderr",
     "output_type": "stream",
     "text": [
      "Test_Loader: 100%|██████████| 288/288 [00:27<00:00, 10.32it/s]\n"
     ]
    },
    {
     "name": "stdout",
     "output_type": "stream",
     "text": [
      "Loss1: 1.8462, Loss2: 0.8062, Loss3: 2.4889\n"
     ]
    },
    {
     "name": "stderr",
     "output_type": "stream",
     "text": [
      "Test_Loader: 100%|██████████| 288/288 [00:29<00:00,  9.63it/s]\n"
     ]
    },
    {
     "name": "stdout",
     "output_type": "stream",
     "text": [
      "Loss1: 2.3928, Loss2: 0.8507, Loss3: 3.1235\n"
     ]
    },
    {
     "name": "stderr",
     "output_type": "stream",
     "text": [
      "Test_Loader: 100%|██████████| 288/288 [00:27<00:00, 10.35it/s]\n"
     ]
    },
    {
     "name": "stdout",
     "output_type": "stream",
     "text": [
      "Loss1: 2.4074, Loss2: 0.8451, Loss3: 3.1183\n"
     ]
    },
    {
     "name": "stderr",
     "output_type": "stream",
     "text": [
      "Test_Loader: 100%|██████████| 288/288 [00:27<00:00, 10.50it/s]\n"
     ]
    },
    {
     "name": "stdout",
     "output_type": "stream",
     "text": [
      "Loss1: 2.3600, Loss2: 0.8485, Loss3: 3.0527\n"
     ]
    },
    {
     "name": "stderr",
     "output_type": "stream",
     "text": [
      "Test_Loader: 100%|██████████| 288/288 [00:28<00:00, 10.09it/s]\n"
     ]
    },
    {
     "name": "stdout",
     "output_type": "stream",
     "text": [
      "Loss1: 2.2402, Loss2: 0.7583, Loss3: 2.7712\n"
     ]
    },
    {
     "name": "stderr",
     "output_type": "stream",
     "text": [
      "Test_Loader: 100%|██████████| 288/288 [00:28<00:00, 10.09it/s]\n"
     ]
    },
    {
     "name": "stdout",
     "output_type": "stream",
     "text": [
      "Loss1: 2.2617, Loss2: 0.7753, Loss3: 2.7908\n"
     ]
    },
    {
     "name": "stderr",
     "output_type": "stream",
     "text": [
      "Test_Loader: 100%|██████████| 288/288 [00:28<00:00, 10.01it/s]\n"
     ]
    },
    {
     "name": "stdout",
     "output_type": "stream",
     "text": [
      "Loss1: 2.2306, Loss2: 0.7573, Loss3: 2.7309\n"
     ]
    },
    {
     "name": "stderr",
     "output_type": "stream",
     "text": [
      "Test_Loader: 100%|██████████| 288/288 [00:28<00:00, 10.23it/s]\n"
     ]
    },
    {
     "name": "stdout",
     "output_type": "stream",
     "text": [
      "Loss1: 2.2480, Loss2: 0.7814, Loss3: 2.7698\n"
     ]
    },
    {
     "name": "stderr",
     "output_type": "stream",
     "text": [
      "Test_Loader: 100%|██████████| 288/288 [00:29<00:00,  9.84it/s]\n"
     ]
    },
    {
     "name": "stdout",
     "output_type": "stream",
     "text": [
      "Loss1: 2.1609, Loss2: 0.7251, Loss3: 2.5620\n"
     ]
    },
    {
     "name": "stderr",
     "output_type": "stream",
     "text": [
      "Test_Loader: 100%|██████████| 288/288 [00:31<00:00,  9.03it/s]\n"
     ]
    },
    {
     "name": "stdout",
     "output_type": "stream",
     "text": [
      "Loss1: 2.1844, Loss2: 0.7308, Loss3: 2.5973\n"
     ]
    },
    {
     "name": "stderr",
     "output_type": "stream",
     "text": [
      "Test_Loader: 100%|██████████| 288/288 [00:27<00:00, 10.56it/s]\n"
     ]
    },
    {
     "name": "stdout",
     "output_type": "stream",
     "text": [
      "Loss1: 2.1119, Loss2: 0.6817, Loss3: 2.4877\n"
     ]
    },
    {
     "name": "stderr",
     "output_type": "stream",
     "text": [
      "Test_Loader: 100%|██████████| 288/288 [00:26<00:00, 10.70it/s]\n"
     ]
    },
    {
     "name": "stdout",
     "output_type": "stream",
     "text": [
      "Loss1: 2.1215, Loss2: 0.6975, Loss3: 2.5159\n"
     ]
    },
    {
     "name": "stderr",
     "output_type": "stream",
     "text": [
      "Test_Loader: 100%|██████████| 288/288 [00:26<00:00, 10.67it/s]\n"
     ]
    },
    {
     "name": "stdout",
     "output_type": "stream",
     "text": [
      "Loss1: 2.1768, Loss2: 0.7200, Loss3: 2.6396\n"
     ]
    },
    {
     "name": "stderr",
     "output_type": "stream",
     "text": [
      "Test_Loader: 100%|██████████| 288/288 [00:27<00:00, 10.63it/s]\n"
     ]
    },
    {
     "name": "stdout",
     "output_type": "stream",
     "text": [
      "Loss1: 2.1605, Loss2: 0.6972, Loss3: 2.6660\n"
     ]
    },
    {
     "name": "stderr",
     "output_type": "stream",
     "text": [
      "Test_Loader: 100%|██████████| 288/288 [00:28<00:00, 10.06it/s]\n"
     ]
    },
    {
     "name": "stdout",
     "output_type": "stream",
     "text": [
      "Loss1: 2.1345, Loss2: 0.6735, Loss3: 2.6083\n"
     ]
    },
    {
     "name": "stderr",
     "output_type": "stream",
     "text": [
      "Test_Loader: 100%|██████████| 288/288 [00:28<00:00, 10.09it/s]\n"
     ]
    },
    {
     "name": "stdout",
     "output_type": "stream",
     "text": [
      "Loss1: 2.1506, Loss2: 0.6854, Loss3: 2.6094\n"
     ]
    },
    {
     "name": "stderr",
     "output_type": "stream",
     "text": [
      "Test_Loader: 100%|██████████| 288/288 [00:28<00:00, 10.01it/s]\n"
     ]
    },
    {
     "name": "stdout",
     "output_type": "stream",
     "text": [
      "Loss1: 2.1717, Loss2: 0.6903, Loss3: 2.6445\n"
     ]
    },
    {
     "name": "stderr",
     "output_type": "stream",
     "text": [
      "Test_Loader: 100%|██████████| 288/288 [00:27<00:00, 10.31it/s]\n"
     ]
    },
    {
     "name": "stdout",
     "output_type": "stream",
     "text": [
      "Loss1: 2.1598, Loss2: 0.6955, Loss3: 2.6434\n"
     ]
    },
    {
     "name": "stderr",
     "output_type": "stream",
     "text": [
      "Test_Loader: 100%|██████████| 288/288 [00:27<00:00, 10.38it/s]\n"
     ]
    },
    {
     "name": "stdout",
     "output_type": "stream",
     "text": [
      "Loss1: 2.1750, Loss2: 0.7055, Loss3: 2.6118\n"
     ]
    },
    {
     "name": "stderr",
     "output_type": "stream",
     "text": [
      "Test_Loader: 100%|██████████| 288/288 [00:27<00:00, 10.38it/s]\n"
     ]
    },
    {
     "name": "stdout",
     "output_type": "stream",
     "text": [
      "Loss1: 2.1715, Loss2: 0.6920, Loss3: 2.6415\n"
     ]
    },
    {
     "name": "stderr",
     "output_type": "stream",
     "text": [
      "Test_Loader: 100%|██████████| 288/288 [00:27<00:00, 10.63it/s]\n"
     ]
    },
    {
     "name": "stdout",
     "output_type": "stream",
     "text": [
      "Loss1: 2.1822, Loss2: 0.6994, Loss3: 2.6037\n"
     ]
    },
    {
     "name": "stderr",
     "output_type": "stream",
     "text": [
      "Test_Loader: 100%|██████████| 288/288 [00:27<00:00, 10.31it/s]\n"
     ]
    },
    {
     "name": "stdout",
     "output_type": "stream",
     "text": [
      "Loss1: 2.1743, Loss2: 0.6674, Loss3: 2.6152\n"
     ]
    },
    {
     "name": "stderr",
     "output_type": "stream",
     "text": [
      "Test_Loader: 100%|██████████| 288/288 [00:30<00:00,  9.37it/s]\n"
     ]
    },
    {
     "name": "stdout",
     "output_type": "stream",
     "text": [
      "Loss1: 2.1984, Loss2: 0.6953, Loss3: 2.5824\n"
     ]
    },
    {
     "name": "stderr",
     "output_type": "stream",
     "text": [
      "Test_Loader: 100%|██████████| 288/288 [00:26<00:00, 10.67it/s]\n"
     ]
    },
    {
     "name": "stdout",
     "output_type": "stream",
     "text": [
      "Loss1: 2.1954, Loss2: 0.6916, Loss3: 2.5554\n"
     ]
    },
    {
     "name": "stderr",
     "output_type": "stream",
     "text": [
      "Test_Loader: 100%|██████████| 288/288 [00:27<00:00, 10.53it/s]\n"
     ]
    },
    {
     "name": "stdout",
     "output_type": "stream",
     "text": [
      "Loss1: 2.1762, Loss2: 0.6846, Loss3: 2.5251\n"
     ]
    },
    {
     "name": "stderr",
     "output_type": "stream",
     "text": [
      "Test_Loader: 100%|██████████| 288/288 [00:27<00:00, 10.55it/s]\n"
     ]
    },
    {
     "name": "stdout",
     "output_type": "stream",
     "text": [
      "Loss1: 2.1587, Loss2: 0.6671, Loss3: 2.5270\n"
     ]
    },
    {
     "name": "stderr",
     "output_type": "stream",
     "text": [
      "Test_Loader: 100%|██████████| 288/288 [00:29<00:00,  9.82it/s]\n"
     ]
    },
    {
     "name": "stdout",
     "output_type": "stream",
     "text": [
      "Loss1: 2.1603, Loss2: 0.6754, Loss3: 2.4879\n"
     ]
    },
    {
     "name": "stderr",
     "output_type": "stream",
     "text": [
      "Test_Loader: 100%|██████████| 288/288 [00:27<00:00, 10.54it/s]\n"
     ]
    },
    {
     "name": "stdout",
     "output_type": "stream",
     "text": [
      "Loss1: 2.1914, Loss2: 0.6877, Loss3: 2.5228\n"
     ]
    },
    {
     "name": "stderr",
     "output_type": "stream",
     "text": [
      "Test_Loader: 100%|██████████| 288/288 [00:27<00:00, 10.47it/s]\n"
     ]
    },
    {
     "name": "stdout",
     "output_type": "stream",
     "text": [
      "Loss1: 2.1789, Loss2: 0.6597, Loss3: 2.4806\n"
     ]
    },
    {
     "name": "stderr",
     "output_type": "stream",
     "text": [
      "Test_Loader: 100%|██████████| 288/288 [00:27<00:00, 10.44it/s]\n"
     ]
    },
    {
     "name": "stdout",
     "output_type": "stream",
     "text": [
      "Loss1: 2.1709, Loss2: 0.6552, Loss3: 2.4656\n"
     ]
    },
    {
     "name": "stderr",
     "output_type": "stream",
     "text": [
      "Test_Loader: 100%|██████████| 288/288 [00:27<00:00, 10.34it/s]\n"
     ]
    },
    {
     "name": "stdout",
     "output_type": "stream",
     "text": [
      "Loss1: 2.1728, Loss2: 0.6736, Loss3: 2.4350\n"
     ]
    },
    {
     "name": "stderr",
     "output_type": "stream",
     "text": [
      "Test_Loader: 100%|██████████| 288/288 [00:28<00:00, 10.19it/s]\n"
     ]
    },
    {
     "name": "stdout",
     "output_type": "stream",
     "text": [
      "Loss1: 2.1578, Loss2: 0.6525, Loss3: 2.4410\n"
     ]
    },
    {
     "name": "stderr",
     "output_type": "stream",
     "text": [
      "Test_Loader: 100%|██████████| 288/288 [00:28<00:00, 10.28it/s]\n"
     ]
    },
    {
     "name": "stdout",
     "output_type": "stream",
     "text": [
      "Loss1: 2.1343, Loss2: 0.6631, Loss3: 2.4560\n"
     ]
    },
    {
     "name": "stderr",
     "output_type": "stream",
     "text": [
      "Test_Loader: 100%|██████████| 288/288 [00:27<00:00, 10.61it/s]\n"
     ]
    },
    {
     "name": "stdout",
     "output_type": "stream",
     "text": [
      "Loss1: 2.1417, Loss2: 0.6738, Loss3: 2.4217\n"
     ]
    },
    {
     "name": "stderr",
     "output_type": "stream",
     "text": [
      "Test_Loader: 100%|██████████| 288/288 [00:28<00:00, 10.27it/s]\n"
     ]
    },
    {
     "name": "stdout",
     "output_type": "stream",
     "text": [
      "Loss1: 2.1381, Loss2: 0.6626, Loss3: 2.4365\n"
     ]
    },
    {
     "name": "stderr",
     "output_type": "stream",
     "text": [
      "Test_Loader: 100%|██████████| 288/288 [00:27<00:00, 10.46it/s]\n"
     ]
    },
    {
     "name": "stdout",
     "output_type": "stream",
     "text": [
      "Loss1: 2.1509, Loss2: 0.6580, Loss3: 2.4246\n"
     ]
    },
    {
     "name": "stderr",
     "output_type": "stream",
     "text": [
      "Test_Loader: 100%|██████████| 288/288 [00:27<00:00, 10.60it/s]\n"
     ]
    },
    {
     "name": "stdout",
     "output_type": "stream",
     "text": [
      "Loss1: 2.1100, Loss2: 0.6482, Loss3: 2.3653\n"
     ]
    },
    {
     "name": "stderr",
     "output_type": "stream",
     "text": [
      "Test_Loader: 100%|██████████| 288/288 [00:26<00:00, 10.70it/s]\n"
     ]
    },
    {
     "name": "stdout",
     "output_type": "stream",
     "text": [
      "Loss1: 2.0754, Loss2: 0.6264, Loss3: 2.3386\n"
     ]
    },
    {
     "name": "stderr",
     "output_type": "stream",
     "text": [
      "Test_Loader: 100%|██████████| 288/288 [00:27<00:00, 10.52it/s]\n"
     ]
    },
    {
     "name": "stdout",
     "output_type": "stream",
     "text": [
      "Loss1: 2.0849, Loss2: 0.6270, Loss3: 2.3023\n"
     ]
    },
    {
     "name": "stderr",
     "output_type": "stream",
     "text": [
      "Test_Loader: 100%|██████████| 288/288 [00:27<00:00, 10.54it/s]\n"
     ]
    },
    {
     "name": "stdout",
     "output_type": "stream",
     "text": [
      "Loss1: 1.9948, Loss2: 0.6086, Loss3: 2.3927\n"
     ]
    },
    {
     "name": "stderr",
     "output_type": "stream",
     "text": [
      "Test_Loader: 100%|██████████| 288/288 [00:27<00:00, 10.59it/s]\n"
     ]
    },
    {
     "name": "stdout",
     "output_type": "stream",
     "text": [
      "Loss1: 2.0081, Loss2: 0.6223, Loss3: 2.3167\n"
     ]
    },
    {
     "name": "stderr",
     "output_type": "stream",
     "text": [
      "Test_Loader: 100%|██████████| 288/288 [00:28<00:00, 10.27it/s]\n"
     ]
    },
    {
     "name": "stdout",
     "output_type": "stream",
     "text": [
      "Loss1: 2.0060, Loss2: 0.6253, Loss3: 2.3257\n"
     ]
    },
    {
     "name": "stderr",
     "output_type": "stream",
     "text": [
      "Test_Loader: 100%|██████████| 288/288 [00:28<00:00, 10.06it/s]\n"
     ]
    },
    {
     "name": "stdout",
     "output_type": "stream",
     "text": [
      "Loss1: 1.9813, Loss2: 0.6133, Loss3: 2.2971\n"
     ]
    },
    {
     "name": "stderr",
     "output_type": "stream",
     "text": [
      "Test_Loader: 100%|██████████| 288/288 [00:28<00:00, 10.00it/s]\n"
     ]
    },
    {
     "name": "stdout",
     "output_type": "stream",
     "text": [
      "Loss1: 1.9650, Loss2: 0.6138, Loss3: 2.2672\n"
     ]
    },
    {
     "name": "stderr",
     "output_type": "stream",
     "text": [
      "Test_Loader: 100%|██████████| 288/288 [00:28<00:00, 10.07it/s]\n"
     ]
    },
    {
     "name": "stdout",
     "output_type": "stream",
     "text": [
      "Loss1: 1.9824, Loss2: 0.6205, Loss3: 2.2712\n"
     ]
    },
    {
     "name": "stderr",
     "output_type": "stream",
     "text": [
      "Test_Loader: 100%|██████████| 288/288 [00:28<00:00, 10.06it/s]\n"
     ]
    },
    {
     "name": "stdout",
     "output_type": "stream",
     "text": [
      "Loss1: 1.9676, Loss2: 0.6056, Loss3: 2.3209\n"
     ]
    },
    {
     "name": "stderr",
     "output_type": "stream",
     "text": [
      "Test_Loader: 100%|██████████| 288/288 [00:28<00:00, 10.22it/s]\n"
     ]
    },
    {
     "name": "stdout",
     "output_type": "stream",
     "text": [
      "Loss1: 2.0121, Loss2: 0.6708, Loss3: 2.4047\n"
     ]
    },
    {
     "name": "stderr",
     "output_type": "stream",
     "text": [
      "Test_Loader: 100%|██████████| 288/288 [00:28<00:00, 10.06it/s]\n"
     ]
    },
    {
     "name": "stdout",
     "output_type": "stream",
     "text": [
      "Loss1: 2.0011, Loss2: 0.6603, Loss3: 2.3948\n"
     ]
    },
    {
     "name": "stderr",
     "output_type": "stream",
     "text": [
      "Test_Loader: 100%|██████████| 288/288 [00:30<00:00,  9.53it/s]\n"
     ]
    },
    {
     "name": "stdout",
     "output_type": "stream",
     "text": [
      "Loss1: 1.9842, Loss2: 0.6562, Loss3: 2.3888\n"
     ]
    },
    {
     "name": "stderr",
     "output_type": "stream",
     "text": [
      "Test_Loader: 100%|██████████| 288/288 [00:27<00:00, 10.50it/s]\n"
     ]
    },
    {
     "name": "stdout",
     "output_type": "stream",
     "text": [
      "Loss1: 1.9581, Loss2: 0.6442, Loss3: 2.4375\n"
     ]
    },
    {
     "name": "stderr",
     "output_type": "stream",
     "text": [
      "Test_Loader: 100%|██████████| 288/288 [00:27<00:00, 10.53it/s]\n"
     ]
    },
    {
     "name": "stdout",
     "output_type": "stream",
     "text": [
      "Loss1: 1.9833, Loss2: 0.6493, Loss3: 2.4178\n"
     ]
    },
    {
     "name": "stderr",
     "output_type": "stream",
     "text": [
      "Test_Loader: 100%|██████████| 288/288 [00:26<00:00, 10.80it/s]\n"
     ]
    },
    {
     "name": "stdout",
     "output_type": "stream",
     "text": [
      "Loss1: 2.0455, Loss2: 0.7091, Loss3: 2.4479\n"
     ]
    },
    {
     "name": "stderr",
     "output_type": "stream",
     "text": [
      "Test_Loader: 100%|██████████| 288/288 [00:26<00:00, 10.92it/s]\n"
     ]
    },
    {
     "name": "stdout",
     "output_type": "stream",
     "text": [
      "Loss1: 2.0433, Loss2: 0.7236, Loss3: 2.4173\n"
     ]
    },
    {
     "name": "stderr",
     "output_type": "stream",
     "text": [
      "Test_Loader: 100%|██████████| 288/288 [00:27<00:00, 10.41it/s]\n"
     ]
    },
    {
     "name": "stdout",
     "output_type": "stream",
     "text": [
      "Loss1: 2.0253, Loss2: 0.7140, Loss3: 2.3976\n"
     ]
    },
    {
     "name": "stderr",
     "output_type": "stream",
     "text": [
      "Test_Loader: 100%|██████████| 288/288 [00:27<00:00, 10.29it/s]\n"
     ]
    },
    {
     "name": "stdout",
     "output_type": "stream",
     "text": [
      "Loss1: 2.0485, Loss2: 0.7186, Loss3: 2.3675\n"
     ]
    },
    {
     "name": "stderr",
     "output_type": "stream",
     "text": [
      "Test_Loader: 100%|██████████| 288/288 [00:28<00:00, 10.09it/s]\n"
     ]
    },
    {
     "name": "stdout",
     "output_type": "stream",
     "text": [
      "Loss1: 2.0205, Loss2: 0.7122, Loss3: 2.3960\n"
     ]
    },
    {
     "name": "stderr",
     "output_type": "stream",
     "text": [
      "Test_Loader: 100%|██████████| 288/288 [00:26<00:00, 10.70it/s]\n"
     ]
    },
    {
     "name": "stdout",
     "output_type": "stream",
     "text": [
      "Loss1: 2.0077, Loss2: 0.7046, Loss3: 2.3694\n"
     ]
    },
    {
     "name": "stderr",
     "output_type": "stream",
     "text": [
      "Test_Loader: 100%|██████████| 288/288 [00:27<00:00, 10.38it/s]\n"
     ]
    },
    {
     "name": "stdout",
     "output_type": "stream",
     "text": [
      "Loss1: 2.0116, Loss2: 0.7008, Loss3: 2.3948\n"
     ]
    },
    {
     "name": "stderr",
     "output_type": "stream",
     "text": [
      "Test_Loader: 100%|██████████| 288/288 [00:27<00:00, 10.53it/s]\n"
     ]
    },
    {
     "name": "stdout",
     "output_type": "stream",
     "text": [
      "Loss1: 2.0340, Loss2: 0.7093, Loss3: 2.3344\n"
     ]
    },
    {
     "name": "stderr",
     "output_type": "stream",
     "text": [
      "Test_Loader: 100%|██████████| 288/288 [00:26<00:00, 10.80it/s]\n"
     ]
    },
    {
     "name": "stdout",
     "output_type": "stream",
     "text": [
      "Loss1: 2.0011, Loss2: 0.7053, Loss3: 2.3451\n"
     ]
    },
    {
     "name": "stderr",
     "output_type": "stream",
     "text": [
      "Test_Loader: 100%|██████████| 288/288 [00:26<00:00, 10.90it/s]\n"
     ]
    },
    {
     "name": "stdout",
     "output_type": "stream",
     "text": [
      "Loss1: 1.9951, Loss2: 0.6987, Loss3: 2.3310\n"
     ]
    },
    {
     "name": "stderr",
     "output_type": "stream",
     "text": [
      "Test_Loader: 100%|██████████| 288/288 [00:30<00:00,  9.51it/s]\n"
     ]
    },
    {
     "name": "stdout",
     "output_type": "stream",
     "text": [
      "Loss1: 1.9688, Loss2: 0.6963, Loss3: 2.3410\n"
     ]
    },
    {
     "name": "stderr",
     "output_type": "stream",
     "text": [
      "Test_Loader: 100%|██████████| 288/288 [00:26<00:00, 10.91it/s]\n"
     ]
    },
    {
     "name": "stdout",
     "output_type": "stream",
     "text": [
      "Loss1: 1.9556, Loss2: 0.6922, Loss3: 2.3265\n"
     ]
    },
    {
     "name": "stderr",
     "output_type": "stream",
     "text": [
      "Test_Loader: 100%|██████████| 288/288 [00:26<00:00, 10.69it/s]\n"
     ]
    },
    {
     "name": "stdout",
     "output_type": "stream",
     "text": [
      "Loss1: 1.9801, Loss2: 0.7002, Loss3: 2.2585\n"
     ]
    },
    {
     "name": "stderr",
     "output_type": "stream",
     "text": [
      "Test_Loader: 100%|██████████| 288/288 [00:27<00:00, 10.44it/s]\n"
     ]
    },
    {
     "name": "stdout",
     "output_type": "stream",
     "text": [
      "Loss1: 1.9800, Loss2: 0.6965, Loss3: 2.2685\n"
     ]
    },
    {
     "name": "stderr",
     "output_type": "stream",
     "text": [
      "Test_Loader: 100%|██████████| 288/288 [00:29<00:00,  9.81it/s]\n"
     ]
    },
    {
     "name": "stdout",
     "output_type": "stream",
     "text": [
      "Loss1: 1.9474, Loss2: 0.6865, Loss3: 2.2855\n"
     ]
    },
    {
     "name": "stderr",
     "output_type": "stream",
     "text": [
      "Test_Loader: 100%|██████████| 288/288 [00:28<00:00, 10.26it/s]\n"
     ]
    },
    {
     "name": "stdout",
     "output_type": "stream",
     "text": [
      "Loss1: 1.9229, Loss2: 0.6839, Loss3: 2.3022\n"
     ]
    },
    {
     "name": "stderr",
     "output_type": "stream",
     "text": [
      "Test_Loader: 100%|██████████| 288/288 [00:28<00:00, 10.21it/s]\n"
     ]
    },
    {
     "name": "stdout",
     "output_type": "stream",
     "text": [
      "Loss1: 1.9361, Loss2: 0.6799, Loss3: 2.2585\n"
     ]
    },
    {
     "name": "stderr",
     "output_type": "stream",
     "text": [
      "Test_Loader: 100%|██████████| 288/288 [00:28<00:00, 10.22it/s]\n"
     ]
    },
    {
     "name": "stdout",
     "output_type": "stream",
     "text": [
      "Loss1: 1.9560, Loss2: 0.6804, Loss3: 2.2637\n"
     ]
    },
    {
     "name": "stderr",
     "output_type": "stream",
     "text": [
      "Test_Loader: 100%|██████████| 288/288 [00:28<00:00, 10.18it/s]\n"
     ]
    },
    {
     "name": "stdout",
     "output_type": "stream",
     "text": [
      "Loss1: 1.9932, Loss2: 0.6940, Loss3: 2.2027\n"
     ]
    },
    {
     "name": "stderr",
     "output_type": "stream",
     "text": [
      "Test_Loader: 100%|██████████| 288/288 [00:28<00:00, 10.16it/s]\n"
     ]
    },
    {
     "name": "stdout",
     "output_type": "stream",
     "text": [
      "Loss1: 1.9595, Loss2: 0.6682, Loss3: 2.2874\n"
     ]
    },
    {
     "name": "stderr",
     "output_type": "stream",
     "text": [
      "Test_Loader: 100%|██████████| 288/288 [00:28<00:00, 10.28it/s]\n"
     ]
    },
    {
     "name": "stdout",
     "output_type": "stream",
     "text": [
      "Loss1: 1.9493, Loss2: 0.6704, Loss3: 2.2201\n"
     ]
    },
    {
     "name": "stderr",
     "output_type": "stream",
     "text": [
      "Test_Loader: 100%|██████████| 288/288 [00:27<00:00, 10.55it/s]\n"
     ]
    },
    {
     "name": "stdout",
     "output_type": "stream",
     "text": [
      "Loss1: 1.9431, Loss2: 0.6770, Loss3: 2.1833\n"
     ]
    },
    {
     "name": "stderr",
     "output_type": "stream",
     "text": [
      "Test_Loader: 100%|██████████| 288/288 [00:29<00:00,  9.72it/s]\n"
     ]
    },
    {
     "name": "stdout",
     "output_type": "stream",
     "text": [
      "Loss1: 1.9234, Loss2: 0.6716, Loss3: 2.1929\n"
     ]
    },
    {
     "name": "stderr",
     "output_type": "stream",
     "text": [
      "Test_Loader: 100%|██████████| 288/288 [00:30<00:00,  9.54it/s]\n"
     ]
    },
    {
     "name": "stdout",
     "output_type": "stream",
     "text": [
      "Loss1: 1.9129, Loss2: 0.6690, Loss3: 2.1734\n"
     ]
    },
    {
     "name": "stderr",
     "output_type": "stream",
     "text": [
      "Test_Loader: 100%|██████████| 288/288 [00:26<00:00, 10.72it/s]\n"
     ]
    },
    {
     "name": "stdout",
     "output_type": "stream",
     "text": [
      "Loss1: 1.9114, Loss2: 0.6609, Loss3: 2.1790\n"
     ]
    },
    {
     "name": "stderr",
     "output_type": "stream",
     "text": [
      "Test_Loader: 100%|██████████| 288/288 [00:27<00:00, 10.42it/s]\n"
     ]
    },
    {
     "name": "stdout",
     "output_type": "stream",
     "text": [
      "Loss1: 1.9047, Loss2: 0.6670, Loss3: 2.2114\n"
     ]
    },
    {
     "name": "stderr",
     "output_type": "stream",
     "text": [
      "Test_Loader: 100%|██████████| 288/288 [00:27<00:00, 10.47it/s]\n"
     ]
    },
    {
     "name": "stdout",
     "output_type": "stream",
     "text": [
      "Loss1: 1.9057, Loss2: 0.6824, Loss3: 2.1947\n"
     ]
    },
    {
     "name": "stderr",
     "output_type": "stream",
     "text": [
      "Test_Loader: 100%|██████████| 288/288 [00:27<00:00, 10.30it/s]\n"
     ]
    },
    {
     "name": "stdout",
     "output_type": "stream",
     "text": [
      "Loss1: 1.9034, Loss2: 0.6891, Loss3: 2.1973\n"
     ]
    },
    {
     "name": "stderr",
     "output_type": "stream",
     "text": [
      "Test_Loader: 100%|██████████| 288/288 [00:27<00:00, 10.46it/s]\n"
     ]
    },
    {
     "name": "stdout",
     "output_type": "stream",
     "text": [
      "Loss1: 1.8363, Loss2: 0.6958, Loss3: 2.2101\n"
     ]
    },
    {
     "name": "stderr",
     "output_type": "stream",
     "text": [
      "Test_Loader: 100%|██████████| 288/288 [00:28<00:00,  9.99it/s]\n"
     ]
    },
    {
     "name": "stdout",
     "output_type": "stream",
     "text": [
      "Loss1: 1.8335, Loss2: 0.6919, Loss3: 2.2051\n"
     ]
    },
    {
     "name": "stderr",
     "output_type": "stream",
     "text": [
      "Test_Loader: 100%|██████████| 288/288 [00:28<00:00, 10.09it/s]\n"
     ]
    },
    {
     "name": "stdout",
     "output_type": "stream",
     "text": [
      "Loss1: 1.8583, Loss2: 0.7079, Loss3: 2.2070\n"
     ]
    },
    {
     "name": "stderr",
     "output_type": "stream",
     "text": [
      "Test_Loader: 100%|██████████| 288/288 [00:27<00:00, 10.30it/s]\n"
     ]
    },
    {
     "name": "stdout",
     "output_type": "stream",
     "text": [
      "Loss1: 1.7664, Loss2: 0.7069, Loss3: 2.1380\n"
     ]
    },
    {
     "name": "stderr",
     "output_type": "stream",
     "text": [
      "Test_Loader: 100%|██████████| 288/288 [00:27<00:00, 10.30it/s]\n"
     ]
    },
    {
     "name": "stdout",
     "output_type": "stream",
     "text": [
      "Loss1: 1.7589, Loss2: 0.7019, Loss3: 2.1460\n"
     ]
    },
    {
     "name": "stderr",
     "output_type": "stream",
     "text": [
      "Test_Loader: 100%|██████████| 288/288 [00:27<00:00, 10.32it/s]\n"
     ]
    },
    {
     "name": "stdout",
     "output_type": "stream",
     "text": [
      "Loss1: 1.7454, Loss2: 0.7036, Loss3: 2.1543\n"
     ]
    },
    {
     "name": "stderr",
     "output_type": "stream",
     "text": [
      "Test_Loader: 100%|██████████| 288/288 [00:27<00:00, 10.33it/s]\n"
     ]
    },
    {
     "name": "stdout",
     "output_type": "stream",
     "text": [
      "Loss1: 1.7536, Loss2: 0.7032, Loss3: 2.1257\n"
     ]
    },
    {
     "name": "stderr",
     "output_type": "stream",
     "text": [
      "Test_Loader: 100%|██████████| 288/288 [00:27<00:00, 10.31it/s]\n"
     ]
    },
    {
     "name": "stdout",
     "output_type": "stream",
     "text": [
      "Loss1: 1.7512, Loss2: 0.7027, Loss3: 2.1374\n"
     ]
    },
    {
     "name": "stderr",
     "output_type": "stream",
     "text": [
      "Test_Loader: 100%|██████████| 288/288 [00:27<00:00, 10.33it/s]\n"
     ]
    },
    {
     "name": "stdout",
     "output_type": "stream",
     "text": [
      "Loss1: 1.7419, Loss2: 0.6845, Loss3: 2.1076\n"
     ]
    },
    {
     "name": "stderr",
     "output_type": "stream",
     "text": [
      "Test_Loader: 100%|██████████| 288/288 [00:27<00:00, 10.50it/s]\n"
     ]
    },
    {
     "name": "stdout",
     "output_type": "stream",
     "text": [
      "Loss1: 1.7463, Loss2: 0.6931, Loss3: 2.1137\n"
     ]
    },
    {
     "name": "stderr",
     "output_type": "stream",
     "text": [
      "Test_Loader: 100%|██████████| 288/288 [00:27<00:00, 10.46it/s]\n"
     ]
    },
    {
     "name": "stdout",
     "output_type": "stream",
     "text": [
      "Loss1: 1.7434, Loss2: 0.6895, Loss3: 2.1609\n"
     ]
    },
    {
     "name": "stderr",
     "output_type": "stream",
     "text": [
      "Test_Loader: 100%|██████████| 288/288 [00:28<00:00, 10.27it/s]\n"
     ]
    },
    {
     "name": "stdout",
     "output_type": "stream",
     "text": [
      "Loss1: 1.7529, Loss2: 0.7181, Loss3: 2.1994\n"
     ]
    },
    {
     "name": "stderr",
     "output_type": "stream",
     "text": [
      "Test_Loader: 100%|██████████| 288/288 [00:27<00:00, 10.46it/s]\n"
     ]
    },
    {
     "name": "stdout",
     "output_type": "stream",
     "text": [
      "Loss1: 1.7682, Loss2: 0.7151, Loss3: 2.1563\n"
     ]
    },
    {
     "name": "stderr",
     "output_type": "stream",
     "text": [
      "Test_Loader: 100%|██████████| 288/288 [00:27<00:00, 10.43it/s]\n"
     ]
    },
    {
     "name": "stdout",
     "output_type": "stream",
     "text": [
      "Loss1: 1.6914, Loss2: 0.7410, Loss3: 2.2332\n"
     ]
    },
    {
     "name": "stderr",
     "output_type": "stream",
     "text": [
      "Test_Loader: 100%|██████████| 288/288 [00:28<00:00, 10.26it/s]\n"
     ]
    },
    {
     "name": "stdout",
     "output_type": "stream",
     "text": [
      "Loss1: 1.6317, Loss2: 0.7067, Loss3: 2.2356\n"
     ]
    },
    {
     "name": "stderr",
     "output_type": "stream",
     "text": [
      "Test_Loader: 100%|██████████| 288/288 [00:27<00:00, 10.49it/s]\n"
     ]
    },
    {
     "name": "stdout",
     "output_type": "stream",
     "text": [
      "Loss1: 1.5984, Loss2: 0.6861, Loss3: 2.2541\n"
     ]
    },
    {
     "name": "stderr",
     "output_type": "stream",
     "text": [
      "Test_Loader: 100%|██████████| 288/288 [00:27<00:00, 10.61it/s]\n"
     ]
    },
    {
     "name": "stdout",
     "output_type": "stream",
     "text": [
      "Loss1: 1.5870, Loss2: 0.6851, Loss3: 2.1756\n"
     ]
    },
    {
     "name": "stderr",
     "output_type": "stream",
     "text": [
      "Test_Loader: 100%|██████████| 288/288 [00:27<00:00, 10.31it/s]\n"
     ]
    },
    {
     "name": "stdout",
     "output_type": "stream",
     "text": [
      "Loss1: 1.5478, Loss2: 0.6657, Loss3: 2.1973\n"
     ]
    },
    {
     "name": "stderr",
     "output_type": "stream",
     "text": [
      "Test_Loader: 100%|██████████| 288/288 [00:28<00:00, 10.24it/s]\n"
     ]
    },
    {
     "name": "stdout",
     "output_type": "stream",
     "text": [
      "Loss1: 1.2239, Loss2: 0.6443, Loss3: 2.0004\n"
     ]
    },
    {
     "name": "stderr",
     "output_type": "stream",
     "text": [
      "Test_Loader: 100%|██████████| 288/288 [00:28<00:00, 10.11it/s]\n"
     ]
    },
    {
     "name": "stdout",
     "output_type": "stream",
     "text": [
      "Loss1: 1.2079, Loss2: 0.6119, Loss3: 1.9380\n"
     ]
    },
    {
     "name": "stderr",
     "output_type": "stream",
     "text": [
      "Test_Loader: 100%|██████████| 288/288 [00:29<00:00,  9.70it/s]\n"
     ]
    },
    {
     "name": "stdout",
     "output_type": "stream",
     "text": [
      "Loss1: 1.2186, Loss2: 0.6126, Loss3: 1.9149\n"
     ]
    },
    {
     "name": "stderr",
     "output_type": "stream",
     "text": [
      "Test_Loader: 100%|██████████| 288/288 [00:28<00:00, 10.03it/s]\n"
     ]
    },
    {
     "name": "stdout",
     "output_type": "stream",
     "text": [
      "Loss1: 1.2200, Loss2: 0.6123, Loss3: 1.9410\n"
     ]
    },
    {
     "name": "stderr",
     "output_type": "stream",
     "text": [
      "Test_Loader: 100%|██████████| 288/288 [00:27<00:00, 10.58it/s]\n"
     ]
    },
    {
     "name": "stdout",
     "output_type": "stream",
     "text": [
      "Loss1: 1.2145, Loss2: 0.6009, Loss3: 1.9366\n"
     ]
    },
    {
     "name": "stderr",
     "output_type": "stream",
     "text": [
      "Test_Loader: 100%|██████████| 288/288 [00:27<00:00, 10.53it/s]\n"
     ]
    },
    {
     "name": "stdout",
     "output_type": "stream",
     "text": [
      "Loss1: 1.1780, Loss2: 0.5891, Loss3: 1.8928\n"
     ]
    },
    {
     "name": "stderr",
     "output_type": "stream",
     "text": [
      "Test_Loader: 100%|██████████| 288/288 [00:27<00:00, 10.31it/s]\n"
     ]
    },
    {
     "name": "stdout",
     "output_type": "stream",
     "text": [
      "Loss1: 1.2010, Loss2: 0.6129, Loss3: 1.8556\n"
     ]
    },
    {
     "name": "stderr",
     "output_type": "stream",
     "text": [
      "Test_Loader: 100%|██████████| 288/288 [00:28<00:00, 10.27it/s]\n"
     ]
    },
    {
     "name": "stdout",
     "output_type": "stream",
     "text": [
      "Loss1: 1.1839, Loss2: 0.5934, Loss3: 1.8682\n"
     ]
    },
    {
     "name": "stderr",
     "output_type": "stream",
     "text": [
      "Test_Loader: 100%|██████████| 288/288 [00:27<00:00, 10.29it/s]\n"
     ]
    },
    {
     "name": "stdout",
     "output_type": "stream",
     "text": [
      "Loss1: 1.9838, Loss2: 0.6934, Loss3: 3.3929\n"
     ]
    },
    {
     "name": "stderr",
     "output_type": "stream",
     "text": [
      "Test_Loader: 100%|██████████| 288/288 [00:28<00:00, 10.06it/s]\n"
     ]
    },
    {
     "name": "stdout",
     "output_type": "stream",
     "text": [
      "Loss1: 2.0186, Loss2: 0.6907, Loss3: 3.2655\n"
     ]
    },
    {
     "name": "stderr",
     "output_type": "stream",
     "text": [
      "Test_Loader: 100%|██████████| 288/288 [00:28<00:00, 10.04it/s]\n"
     ]
    },
    {
     "name": "stdout",
     "output_type": "stream",
     "text": [
      "Loss1: 2.0265, Loss2: 0.6965, Loss3: 3.2888\n"
     ]
    },
    {
     "name": "stderr",
     "output_type": "stream",
     "text": [
      "Test_Loader: 100%|██████████| 288/288 [00:28<00:00, 10.02it/s]\n"
     ]
    },
    {
     "name": "stdout",
     "output_type": "stream",
     "text": [
      "Loss1: 2.0055, Loss2: 0.6854, Loss3: 3.0410\n"
     ]
    },
    {
     "name": "stderr",
     "output_type": "stream",
     "text": [
      "Test_Loader: 100%|██████████| 288/288 [00:28<00:00, 10.04it/s]\n"
     ]
    },
    {
     "name": "stdout",
     "output_type": "stream",
     "text": [
      "Loss1: 1.9529, Loss2: 0.6809, Loss3: 2.8906\n"
     ]
    },
    {
     "name": "stderr",
     "output_type": "stream",
     "text": [
      "Test_Loader: 100%|██████████| 288/288 [00:27<00:00, 10.39it/s]\n"
     ]
    },
    {
     "name": "stdout",
     "output_type": "stream",
     "text": [
      "Loss1: 1.9083, Loss2: 0.6784, Loss3: 2.7755\n"
     ]
    },
    {
     "name": "stderr",
     "output_type": "stream",
     "text": [
      "Test_Loader: 100%|██████████| 288/288 [00:27<00:00, 10.47it/s]\n"
     ]
    },
    {
     "name": "stdout",
     "output_type": "stream",
     "text": [
      "Loss1: 1.8579, Loss2: 0.6469, Loss3: 2.6943\n"
     ]
    },
    {
     "name": "stderr",
     "output_type": "stream",
     "text": [
      "Test_Loader: 100%|██████████| 288/288 [00:28<00:00, 10.18it/s]\n"
     ]
    },
    {
     "name": "stdout",
     "output_type": "stream",
     "text": [
      "Loss1: 1.8030, Loss2: 0.6408, Loss3: 2.5663\n"
     ]
    },
    {
     "name": "stderr",
     "output_type": "stream",
     "text": [
      "Test_Loader: 100%|██████████| 288/288 [00:28<00:00, 10.10it/s]\n"
     ]
    },
    {
     "name": "stdout",
     "output_type": "stream",
     "text": [
      "Loss1: 1.7573, Loss2: 0.6359, Loss3: 2.5044\n"
     ]
    },
    {
     "name": "stderr",
     "output_type": "stream",
     "text": [
      "Test_Loader: 100%|██████████| 288/288 [00:26<00:00, 10.70it/s]\n"
     ]
    },
    {
     "name": "stdout",
     "output_type": "stream",
     "text": [
      "Loss1: 1.7411, Loss2: 0.6502, Loss3: 2.4291\n"
     ]
    },
    {
     "name": "stderr",
     "output_type": "stream",
     "text": [
      "Test_Loader: 100%|██████████| 288/288 [00:26<00:00, 10.76it/s]\n"
     ]
    },
    {
     "name": "stdout",
     "output_type": "stream",
     "text": [
      "Loss1: 1.7020, Loss2: 0.6419, Loss3: 2.4225\n"
     ]
    },
    {
     "name": "stderr",
     "output_type": "stream",
     "text": [
      "Test_Loader: 100%|██████████| 288/288 [00:26<00:00, 10.76it/s]\n"
     ]
    },
    {
     "name": "stdout",
     "output_type": "stream",
     "text": [
      "Loss1: 1.6466, Loss2: 0.6286, Loss3: 2.3516\n"
     ]
    },
    {
     "name": "stderr",
     "output_type": "stream",
     "text": [
      "Test_Loader: 100%|██████████| 288/288 [00:26<00:00, 10.82it/s]\n"
     ]
    },
    {
     "name": "stdout",
     "output_type": "stream",
     "text": [
      "Loss1: 1.6178, Loss2: 0.6381, Loss3: 2.3091\n"
     ]
    },
    {
     "name": "stderr",
     "output_type": "stream",
     "text": [
      "Test_Loader: 100%|██████████| 288/288 [00:27<00:00, 10.66it/s]\n"
     ]
    },
    {
     "name": "stdout",
     "output_type": "stream",
     "text": [
      "Loss1: 1.5743, Loss2: 0.6288, Loss3: 2.2598\n"
     ]
    },
    {
     "name": "stderr",
     "output_type": "stream",
     "text": [
      "Test_Loader: 100%|██████████| 288/288 [00:28<00:00, 10.19it/s]\n"
     ]
    },
    {
     "name": "stdout",
     "output_type": "stream",
     "text": [
      "Loss1: 1.5462, Loss2: 0.6283, Loss3: 2.3094\n"
     ]
    },
    {
     "name": "stderr",
     "output_type": "stream",
     "text": [
      "Test_Loader: 100%|██████████| 288/288 [00:27<00:00, 10.57it/s]\n"
     ]
    },
    {
     "name": "stdout",
     "output_type": "stream",
     "text": [
      "Loss1: 1.5410, Loss2: 0.6342, Loss3: 2.2796\n"
     ]
    },
    {
     "name": "stderr",
     "output_type": "stream",
     "text": [
      "Test_Loader: 100%|██████████| 288/288 [00:27<00:00, 10.49it/s]\n"
     ]
    },
    {
     "name": "stdout",
     "output_type": "stream",
     "text": [
      "Loss1: 1.5351, Loss2: 0.6299, Loss3: 2.2212\n"
     ]
    },
    {
     "name": "stderr",
     "output_type": "stream",
     "text": [
      "Test_Loader: 100%|██████████| 288/288 [00:27<00:00, 10.44it/s]\n"
     ]
    },
    {
     "name": "stdout",
     "output_type": "stream",
     "text": [
      "Loss1: 1.4956, Loss2: 0.6037, Loss3: 2.2036\n"
     ]
    },
    {
     "name": "stderr",
     "output_type": "stream",
     "text": [
      "Test_Loader: 100%|██████████| 288/288 [00:27<00:00, 10.57it/s]\n"
     ]
    },
    {
     "name": "stdout",
     "output_type": "stream",
     "text": [
      "Loss1: 1.4572, Loss2: 0.5989, Loss3: 2.1439\n"
     ]
    },
    {
     "name": "stderr",
     "output_type": "stream",
     "text": [
      "Test_Loader: 100%|██████████| 288/288 [00:28<00:00, 10.22it/s]\n"
     ]
    },
    {
     "name": "stdout",
     "output_type": "stream",
     "text": [
      "Loss1: 1.4340, Loss2: 0.5994, Loss3: 2.1425\n"
     ]
    },
    {
     "name": "stderr",
     "output_type": "stream",
     "text": [
      "Test_Loader: 100%|██████████| 288/288 [00:30<00:00,  9.57it/s]\n"
     ]
    },
    {
     "name": "stdout",
     "output_type": "stream",
     "text": [
      "Loss1: 1.4310, Loss2: 0.6063, Loss3: 2.1414\n"
     ]
    },
    {
     "name": "stderr",
     "output_type": "stream",
     "text": [
      "Test_Loader: 100%|██████████| 288/288 [00:28<00:00, 10.20it/s]\n"
     ]
    },
    {
     "name": "stdout",
     "output_type": "stream",
     "text": [
      "Loss1: 1.4185, Loss2: 0.6000, Loss3: 2.0746\n"
     ]
    },
    {
     "name": "stderr",
     "output_type": "stream",
     "text": [
      "Test_Loader: 100%|██████████| 288/288 [00:27<00:00, 10.46it/s]\n"
     ]
    },
    {
     "name": "stdout",
     "output_type": "stream",
     "text": [
      "Loss1: 1.4156, Loss2: 0.6002, Loss3: 2.0512\n"
     ]
    },
    {
     "name": "stderr",
     "output_type": "stream",
     "text": [
      "Test_Loader: 100%|██████████| 288/288 [00:28<00:00, 10.24it/s]\n"
     ]
    },
    {
     "name": "stdout",
     "output_type": "stream",
     "text": [
      "Loss1: 1.4209, Loss2: 0.5944, Loss3: 2.0099\n"
     ]
    },
    {
     "name": "stderr",
     "output_type": "stream",
     "text": [
      "Test_Loader: 100%|██████████| 288/288 [00:28<00:00, 10.11it/s]\n"
     ]
    },
    {
     "name": "stdout",
     "output_type": "stream",
     "text": [
      "Loss1: 1.4014, Loss2: 0.5860, Loss3: 2.0058\n"
     ]
    },
    {
     "name": "stderr",
     "output_type": "stream",
     "text": [
      "Test_Loader: 100%|██████████| 288/288 [00:28<00:00, 10.04it/s]\n"
     ]
    },
    {
     "name": "stdout",
     "output_type": "stream",
     "text": [
      "Loss1: 1.3849, Loss2: 0.5729, Loss3: 1.9669\n"
     ]
    },
    {
     "name": "stderr",
     "output_type": "stream",
     "text": [
      "Test_Loader: 100%|██████████| 288/288 [00:28<00:00, 10.22it/s]\n"
     ]
    },
    {
     "name": "stdout",
     "output_type": "stream",
     "text": [
      "Loss1: 1.3531, Loss2: 0.5644, Loss3: 1.9222\n"
     ]
    },
    {
     "name": "stderr",
     "output_type": "stream",
     "text": [
      "Test_Loader: 100%|██████████| 288/288 [00:28<00:00, 10.02it/s]\n"
     ]
    },
    {
     "name": "stdout",
     "output_type": "stream",
     "text": [
      "Loss1: 1.3621, Loss2: 0.5912, Loss3: 1.9331\n"
     ]
    },
    {
     "name": "stderr",
     "output_type": "stream",
     "text": [
      "Test_Loader: 100%|██████████| 288/288 [00:28<00:00, 10.04it/s]\n"
     ]
    },
    {
     "name": "stdout",
     "output_type": "stream",
     "text": [
      "Loss1: 1.4141, Loss2: 0.6045, Loss3: 2.0598\n"
     ]
    },
    {
     "name": "stderr",
     "output_type": "stream",
     "text": [
      "Test_Loader: 100%|██████████| 288/288 [00:28<00:00, 10.18it/s]\n"
     ]
    },
    {
     "name": "stdout",
     "output_type": "stream",
     "text": [
      "Loss1: 1.4128, Loss2: 0.6037, Loss3: 2.0509\n"
     ]
    },
    {
     "name": "stderr",
     "output_type": "stream",
     "text": [
      "Test_Loader: 100%|██████████| 288/288 [00:28<00:00, 10.28it/s]\n"
     ]
    },
    {
     "name": "stdout",
     "output_type": "stream",
     "text": [
      "Loss1: 1.3574, Loss2: 0.5912, Loss3: 1.9954\n"
     ]
    },
    {
     "name": "stderr",
     "output_type": "stream",
     "text": [
      "Test_Loader: 100%|██████████| 288/288 [00:26<00:00, 10.73it/s]\n"
     ]
    },
    {
     "name": "stdout",
     "output_type": "stream",
     "text": [
      "Loss1: 1.3533, Loss2: 0.5852, Loss3: 2.0066\n"
     ]
    },
    {
     "name": "stderr",
     "output_type": "stream",
     "text": [
      "Test_Loader: 100%|██████████| 288/288 [00:28<00:00, 10.22it/s]\n"
     ]
    },
    {
     "name": "stdout",
     "output_type": "stream",
     "text": [
      "Loss1: 1.3961, Loss2: 0.5892, Loss3: 1.9869\n"
     ]
    },
    {
     "name": "stderr",
     "output_type": "stream",
     "text": [
      "Test_Loader: 100%|██████████| 288/288 [00:28<00:00, 10.06it/s]\n"
     ]
    },
    {
     "name": "stdout",
     "output_type": "stream",
     "text": [
      "Loss1: 1.4077, Loss2: 0.6007, Loss3: 2.0082\n"
     ]
    },
    {
     "name": "stderr",
     "output_type": "stream",
     "text": [
      "Test_Loader: 100%|██████████| 288/288 [00:26<00:00, 10.72it/s]\n"
     ]
    },
    {
     "name": "stdout",
     "output_type": "stream",
     "text": [
      "Loss1: 1.4087, Loss2: 0.6005, Loss3: 1.9911\n"
     ]
    },
    {
     "name": "stderr",
     "output_type": "stream",
     "text": [
      "Test_Loader: 100%|██████████| 288/288 [00:27<00:00, 10.63it/s]\n"
     ]
    },
    {
     "name": "stdout",
     "output_type": "stream",
     "text": [
      "Loss1: 1.4020, Loss2: 0.5945, Loss3: 1.9621\n"
     ]
    },
    {
     "name": "stderr",
     "output_type": "stream",
     "text": [
      "Test_Loader: 100%|██████████| 288/288 [00:27<00:00, 10.49it/s]\n"
     ]
    },
    {
     "name": "stdout",
     "output_type": "stream",
     "text": [
      "Loss1: 1.3854, Loss2: 0.5818, Loss3: 1.9833\n"
     ]
    },
    {
     "name": "stderr",
     "output_type": "stream",
     "text": [
      "Test_Loader: 100%|██████████| 288/288 [00:27<00:00, 10.46it/s]\n"
     ]
    },
    {
     "name": "stdout",
     "output_type": "stream",
     "text": [
      "Loss1: 1.3341, Loss2: 0.5473, Loss3: 1.8733\n"
     ]
    },
    {
     "name": "stderr",
     "output_type": "stream",
     "text": [
      "Test_Loader: 100%|██████████| 288/288 [00:29<00:00,  9.76it/s]\n"
     ]
    },
    {
     "name": "stdout",
     "output_type": "stream",
     "text": [
      "Loss1: 1.3296, Loss2: 0.5606, Loss3: 1.8584\n"
     ]
    },
    {
     "name": "stderr",
     "output_type": "stream",
     "text": [
      "Test_Loader: 100%|██████████| 288/288 [00:28<00:00, 10.22it/s]\n"
     ]
    },
    {
     "name": "stdout",
     "output_type": "stream",
     "text": [
      "Loss1: 1.3258, Loss2: 0.5569, Loss3: 1.8437\n"
     ]
    },
    {
     "name": "stderr",
     "output_type": "stream",
     "text": [
      "Test_Loader: 100%|██████████| 288/288 [00:28<00:00, 10.13it/s]\n"
     ]
    },
    {
     "name": "stdout",
     "output_type": "stream",
     "text": [
      "Loss1: 1.3320, Loss2: 0.5569, Loss3: 1.8251\n"
     ]
    },
    {
     "name": "stderr",
     "output_type": "stream",
     "text": [
      "Test_Loader: 100%|██████████| 288/288 [00:27<00:00, 10.34it/s]\n"
     ]
    },
    {
     "name": "stdout",
     "output_type": "stream",
     "text": [
      "Loss1: 1.3237, Loss2: 0.5533, Loss3: 1.8086\n"
     ]
    },
    {
     "name": "stderr",
     "output_type": "stream",
     "text": [
      "Test_Loader: 100%|██████████| 288/288 [00:28<00:00, 10.12it/s]\n"
     ]
    },
    {
     "name": "stdout",
     "output_type": "stream",
     "text": [
      "Loss1: 1.2652, Loss2: 0.5105, Loss3: 1.7851\n"
     ]
    },
    {
     "name": "stderr",
     "output_type": "stream",
     "text": [
      "Test_Loader: 100%|██████████| 288/288 [00:28<00:00, 10.28it/s]\n"
     ]
    },
    {
     "name": "stdout",
     "output_type": "stream",
     "text": [
      "Loss1: 1.2456, Loss2: 0.5091, Loss3: 1.7727\n"
     ]
    },
    {
     "name": "stderr",
     "output_type": "stream",
     "text": [
      "Test_Loader: 100%|██████████| 288/288 [00:27<00:00, 10.53it/s]\n"
     ]
    },
    {
     "name": "stdout",
     "output_type": "stream",
     "text": [
      "Loss1: 1.2303, Loss2: 0.5111, Loss3: 1.7618\n"
     ]
    },
    {
     "name": "stderr",
     "output_type": "stream",
     "text": [
      "Test_Loader: 100%|██████████| 288/288 [00:27<00:00, 10.59it/s]\n"
     ]
    },
    {
     "name": "stdout",
     "output_type": "stream",
     "text": [
      "Loss1: 1.2640, Loss2: 0.5148, Loss3: 1.7500\n"
     ]
    },
    {
     "name": "stderr",
     "output_type": "stream",
     "text": [
      "Test_Loader: 100%|██████████| 288/288 [00:30<00:00,  9.55it/s]\n"
     ]
    },
    {
     "name": "stdout",
     "output_type": "stream",
     "text": [
      "Loss1: 1.2813, Loss2: 0.5104, Loss3: 1.7468\n"
     ]
    },
    {
     "name": "stderr",
     "output_type": "stream",
     "text": [
      "Test_Loader: 100%|██████████| 288/288 [00:27<00:00, 10.66it/s]\n"
     ]
    },
    {
     "name": "stdout",
     "output_type": "stream",
     "text": [
      "Loss1: 1.2720, Loss2: 0.5067, Loss3: 1.7553\n"
     ]
    },
    {
     "name": "stderr",
     "output_type": "stream",
     "text": [
      "Test_Loader: 100%|██████████| 288/288 [00:26<00:00, 10.82it/s]\n"
     ]
    },
    {
     "name": "stdout",
     "output_type": "stream",
     "text": [
      "Loss1: 1.2564, Loss2: 0.5064, Loss3: 1.7499\n"
     ]
    },
    {
     "name": "stderr",
     "output_type": "stream",
     "text": [
      "Test_Loader: 100%|██████████| 288/288 [00:26<00:00, 10.84it/s]\n"
     ]
    },
    {
     "name": "stdout",
     "output_type": "stream",
     "text": [
      "Loss1: 1.2629, Loss2: 0.5175, Loss3: 1.7311\n"
     ]
    },
    {
     "name": "stderr",
     "output_type": "stream",
     "text": [
      "Test_Loader: 100%|██████████| 288/288 [00:28<00:00, 10.22it/s]\n"
     ]
    },
    {
     "name": "stdout",
     "output_type": "stream",
     "text": [
      "Loss1: 1.2605, Loss2: 0.5204, Loss3: 1.7183\n"
     ]
    },
    {
     "name": "stderr",
     "output_type": "stream",
     "text": [
      "Test_Loader: 100%|██████████| 288/288 [00:27<00:00, 10.59it/s]\n"
     ]
    },
    {
     "name": "stdout",
     "output_type": "stream",
     "text": [
      "Loss1: 1.2749, Loss2: 0.5105, Loss3: 1.7134\n"
     ]
    },
    {
     "name": "stderr",
     "output_type": "stream",
     "text": [
      "Test_Loader: 100%|██████████| 288/288 [00:27<00:00, 10.35it/s]\n"
     ]
    },
    {
     "name": "stdout",
     "output_type": "stream",
     "text": [
      "Loss1: 1.2726, Loss2: 0.5101, Loss3: 1.7051\n"
     ]
    },
    {
     "name": "stderr",
     "output_type": "stream",
     "text": [
      "Test_Loader: 100%|██████████| 288/288 [00:27<00:00, 10.40it/s]\n"
     ]
    },
    {
     "name": "stdout",
     "output_type": "stream",
     "text": [
      "Loss1: 1.2658, Loss2: 0.5024, Loss3: 1.7030\n"
     ]
    },
    {
     "name": "stderr",
     "output_type": "stream",
     "text": [
      "Test_Loader: 100%|██████████| 288/288 [00:27<00:00, 10.46it/s]\n"
     ]
    },
    {
     "name": "stdout",
     "output_type": "stream",
     "text": [
      "Loss1: 1.2675, Loss2: 0.5042, Loss3: 1.7087\n"
     ]
    },
    {
     "name": "stderr",
     "output_type": "stream",
     "text": [
      "Test_Loader: 100%|██████████| 288/288 [00:28<00:00, 10.24it/s]\n"
     ]
    },
    {
     "name": "stdout",
     "output_type": "stream",
     "text": [
      "Loss1: 1.2301, Loss2: 0.4984, Loss3: 1.6802\n"
     ]
    },
    {
     "name": "stderr",
     "output_type": "stream",
     "text": [
      "Test_Loader: 100%|██████████| 288/288 [00:27<00:00, 10.29it/s]\n"
     ]
    },
    {
     "name": "stdout",
     "output_type": "stream",
     "text": [
      "Loss1: 1.2449, Loss2: 0.4998, Loss3: 1.6938\n"
     ]
    },
    {
     "name": "stderr",
     "output_type": "stream",
     "text": [
      "Test_Loader: 100%|██████████| 288/288 [00:28<00:00, 10.22it/s]\n"
     ]
    },
    {
     "name": "stdout",
     "output_type": "stream",
     "text": [
      "Loss1: 1.2560, Loss2: 0.4977, Loss3: 1.6688\n"
     ]
    },
    {
     "name": "stderr",
     "output_type": "stream",
     "text": [
      "Test_Loader: 100%|██████████| 288/288 [00:29<00:00,  9.78it/s]\n"
     ]
    },
    {
     "name": "stdout",
     "output_type": "stream",
     "text": [
      "Loss1: 1.2451, Loss2: 0.4940, Loss3: 1.6601\n"
     ]
    },
    {
     "name": "stderr",
     "output_type": "stream",
     "text": [
      "Test_Loader: 100%|██████████| 288/288 [00:27<00:00, 10.53it/s]\n"
     ]
    },
    {
     "name": "stdout",
     "output_type": "stream",
     "text": [
      "Loss1: 1.2316, Loss2: 0.4947, Loss3: 1.6546\n"
     ]
    },
    {
     "name": "stderr",
     "output_type": "stream",
     "text": [
      "Test_Loader: 100%|██████████| 288/288 [00:26<00:00, 10.73it/s]\n"
     ]
    },
    {
     "name": "stdout",
     "output_type": "stream",
     "text": [
      "Loss1: 1.2128, Loss2: 0.4946, Loss3: 1.6484\n"
     ]
    },
    {
     "name": "stderr",
     "output_type": "stream",
     "text": [
      "Test_Loader: 100%|██████████| 288/288 [00:26<00:00, 10.83it/s]\n"
     ]
    },
    {
     "name": "stdout",
     "output_type": "stream",
     "text": [
      "Loss1: 1.2166, Loss2: 0.5042, Loss3: 1.6496\n"
     ]
    },
    {
     "name": "stderr",
     "output_type": "stream",
     "text": [
      "Test_Loader: 100%|██████████| 288/288 [00:27<00:00, 10.59it/s]\n"
     ]
    },
    {
     "name": "stdout",
     "output_type": "stream",
     "text": [
      "Loss1: 1.2191, Loss2: 0.4998, Loss3: 1.6356\n"
     ]
    },
    {
     "name": "stderr",
     "output_type": "stream",
     "text": [
      "Test_Loader: 100%|██████████| 288/288 [00:28<00:00, 10.16it/s]\n"
     ]
    },
    {
     "name": "stdout",
     "output_type": "stream",
     "text": [
      "Loss1: 1.2312, Loss2: 0.5024, Loss3: 1.6313\n"
     ]
    },
    {
     "name": "stderr",
     "output_type": "stream",
     "text": [
      "Test_Loader: 100%|██████████| 288/288 [00:27<00:00, 10.61it/s]\n"
     ]
    },
    {
     "name": "stdout",
     "output_type": "stream",
     "text": [
      "Loss1: 1.2104, Loss2: 0.5026, Loss3: 1.6355\n"
     ]
    },
    {
     "name": "stderr",
     "output_type": "stream",
     "text": [
      "Test_Loader: 100%|██████████| 288/288 [00:27<00:00, 10.31it/s]\n"
     ]
    },
    {
     "name": "stdout",
     "output_type": "stream",
     "text": [
      "Loss1: 1.1976, Loss2: 0.4954, Loss3: 1.6532\n"
     ]
    },
    {
     "name": "stderr",
     "output_type": "stream",
     "text": [
      "Test_Loader: 100%|██████████| 288/288 [00:27<00:00, 10.32it/s]\n"
     ]
    },
    {
     "name": "stdout",
     "output_type": "stream",
     "text": [
      "Loss1: 1.1922, Loss2: 0.4932, Loss3: 1.6254\n"
     ]
    },
    {
     "name": "stderr",
     "output_type": "stream",
     "text": [
      "Test_Loader: 100%|██████████| 288/288 [00:27<00:00, 10.46it/s]\n"
     ]
    },
    {
     "name": "stdout",
     "output_type": "stream",
     "text": [
      "Loss1: 1.1777, Loss2: 0.4867, Loss3: 1.5989\n"
     ]
    },
    {
     "name": "stderr",
     "output_type": "stream",
     "text": [
      "Test_Loader: 100%|██████████| 288/288 [00:28<00:00, 10.23it/s]\n"
     ]
    },
    {
     "name": "stdout",
     "output_type": "stream",
     "text": [
      "Loss1: 1.1835, Loss2: 0.4722, Loss3: 1.5847\n"
     ]
    },
    {
     "name": "stderr",
     "output_type": "stream",
     "text": [
      "Test_Loader: 100%|██████████| 288/288 [00:28<00:00, 10.15it/s]\n"
     ]
    },
    {
     "name": "stdout",
     "output_type": "stream",
     "text": [
      "Loss1: 1.1683, Loss2: 0.4667, Loss3: 1.5513\n"
     ]
    },
    {
     "name": "stderr",
     "output_type": "stream",
     "text": [
      "Test_Loader: 100%|██████████| 288/288 [00:27<00:00, 10.44it/s]\n"
     ]
    },
    {
     "name": "stdout",
     "output_type": "stream",
     "text": [
      "Loss1: 1.1286, Loss2: 0.4333, Loss3: 1.4780\n"
     ]
    },
    {
     "name": "stderr",
     "output_type": "stream",
     "text": [
      "Test_Loader: 100%|██████████| 288/288 [00:28<00:00,  9.96it/s]\n"
     ]
    },
    {
     "name": "stdout",
     "output_type": "stream",
     "text": [
      "Loss1: 1.1178, Loss2: 0.4331, Loss3: 1.4690\n"
     ]
    },
    {
     "name": "stderr",
     "output_type": "stream",
     "text": [
      "Test_Loader: 100%|██████████| 288/288 [00:30<00:00,  9.32it/s]\n"
     ]
    },
    {
     "name": "stdout",
     "output_type": "stream",
     "text": [
      "Loss1: 1.0869, Loss2: 0.4223, Loss3: 1.4537\n"
     ]
    },
    {
     "name": "stderr",
     "output_type": "stream",
     "text": [
      "Test_Loader: 100%|██████████| 288/288 [00:26<00:00, 10.81it/s]\n"
     ]
    },
    {
     "name": "stdout",
     "output_type": "stream",
     "text": [
      "Loss1: 1.1208, Loss2: 0.4394, Loss3: 1.5380\n"
     ]
    },
    {
     "name": "stderr",
     "output_type": "stream",
     "text": [
      "Test_Loader: 100%|██████████| 288/288 [00:27<00:00, 10.62it/s]\n"
     ]
    },
    {
     "name": "stdout",
     "output_type": "stream",
     "text": [
      "Loss1: 1.1087, Loss2: 0.4435, Loss3: 1.5278\n"
     ]
    },
    {
     "name": "stderr",
     "output_type": "stream",
     "text": [
      "Test_Loader: 100%|██████████| 288/288 [00:27<00:00, 10.49it/s]\n"
     ]
    },
    {
     "name": "stdout",
     "output_type": "stream",
     "text": [
      "Loss1: 1.1481, Loss2: 0.4665, Loss3: 1.5824\n"
     ]
    },
    {
     "name": "stderr",
     "output_type": "stream",
     "text": [
      "Test_Loader: 100%|██████████| 288/288 [00:30<00:00,  9.45it/s]\n"
     ]
    },
    {
     "name": "stdout",
     "output_type": "stream",
     "text": [
      "Loss1: 1.1642, Loss2: 0.4708, Loss3: 1.6129\n"
     ]
    },
    {
     "name": "stderr",
     "output_type": "stream",
     "text": [
      "Test_Loader: 100%|██████████| 288/288 [00:27<00:00, 10.46it/s]\n"
     ]
    },
    {
     "name": "stdout",
     "output_type": "stream",
     "text": [
      "Loss1: 1.1715, Loss2: 0.4731, Loss3: 1.6372\n"
     ]
    },
    {
     "name": "stderr",
     "output_type": "stream",
     "text": [
      "Test_Loader: 100%|██████████| 288/288 [00:28<00:00,  9.98it/s]\n"
     ]
    },
    {
     "name": "stdout",
     "output_type": "stream",
     "text": [
      "Loss1: 1.1283, Loss2: 0.4842, Loss3: 1.6043\n"
     ]
    },
    {
     "name": "stderr",
     "output_type": "stream",
     "text": [
      "Test_Loader: 100%|██████████| 288/288 [00:28<00:00, 10.25it/s]\n"
     ]
    },
    {
     "name": "stdout",
     "output_type": "stream",
     "text": [
      "Loss1: 1.1120, Loss2: 0.4660, Loss3: 1.6124\n"
     ]
    },
    {
     "name": "stderr",
     "output_type": "stream",
     "text": [
      "Test_Loader: 100%|██████████| 288/288 [00:27<00:00, 10.42it/s]\n"
     ]
    },
    {
     "name": "stdout",
     "output_type": "stream",
     "text": [
      "Loss1: 1.1872, Loss2: 0.4792, Loss3: 1.6458\n"
     ]
    },
    {
     "name": "stderr",
     "output_type": "stream",
     "text": [
      "Test_Loader: 100%|██████████| 288/288 [00:27<00:00, 10.32it/s]\n"
     ]
    },
    {
     "name": "stdout",
     "output_type": "stream",
     "text": [
      "Loss1: 1.3925, Loss2: 0.4997, Loss3: 1.8169\n"
     ]
    },
    {
     "name": "stderr",
     "output_type": "stream",
     "text": [
      "Test_Loader: 100%|██████████| 288/288 [00:27<00:00, 10.51it/s]\n"
     ]
    },
    {
     "name": "stdout",
     "output_type": "stream",
     "text": [
      "Loss1: 1.3480, Loss2: 0.4988, Loss3: 1.8060\n"
     ]
    },
    {
     "name": "stderr",
     "output_type": "stream",
     "text": [
      "Test_Loader: 100%|██████████| 288/288 [00:27<00:00, 10.66it/s]\n"
     ]
    },
    {
     "name": "stdout",
     "output_type": "stream",
     "text": [
      "Loss1: 1.3191, Loss2: 0.4944, Loss3: 1.7050\n"
     ]
    },
    {
     "name": "stderr",
     "output_type": "stream",
     "text": [
      "Test_Loader: 100%|██████████| 288/288 [00:28<00:00, 10.07it/s]\n"
     ]
    },
    {
     "name": "stdout",
     "output_type": "stream",
     "text": [
      "Loss1: 1.3264, Loss2: 0.4938, Loss3: 1.7150\n"
     ]
    },
    {
     "name": "stderr",
     "output_type": "stream",
     "text": [
      "Test_Loader: 100%|██████████| 288/288 [00:29<00:00,  9.90it/s]\n"
     ]
    },
    {
     "name": "stdout",
     "output_type": "stream",
     "text": [
      "Loss1: 1.3412, Loss2: 0.5172, Loss3: 1.7477\n"
     ]
    },
    {
     "name": "stderr",
     "output_type": "stream",
     "text": [
      "Test_Loader: 100%|██████████| 288/288 [00:27<00:00, 10.64it/s]\n"
     ]
    },
    {
     "name": "stdout",
     "output_type": "stream",
     "text": [
      "Loss1: 1.4182, Loss2: 0.5455, Loss3: 1.7907\n"
     ]
    },
    {
     "name": "stderr",
     "output_type": "stream",
     "text": [
      "Test_Loader: 100%|██████████| 288/288 [00:27<00:00, 10.46it/s]\n"
     ]
    },
    {
     "name": "stdout",
     "output_type": "stream",
     "text": [
      "Loss1: 1.5362, Loss2: 0.5443, Loss3: 1.8766\n"
     ]
    },
    {
     "name": "stderr",
     "output_type": "stream",
     "text": [
      "Test_Loader: 100%|██████████| 288/288 [00:27<00:00, 10.30it/s]\n"
     ]
    },
    {
     "name": "stdout",
     "output_type": "stream",
     "text": [
      "Loss1: 1.6157, Loss2: 0.5571, Loss3: 1.9101\n"
     ]
    },
    {
     "name": "stderr",
     "output_type": "stream",
     "text": [
      "Test_Loader: 100%|██████████| 288/288 [00:28<00:00, 10.26it/s]\n"
     ]
    },
    {
     "name": "stdout",
     "output_type": "stream",
     "text": [
      "Loss1: 1.5888, Loss2: 0.5563, Loss3: 1.8898\n"
     ]
    },
    {
     "name": "stderr",
     "output_type": "stream",
     "text": [
      "Test_Loader: 100%|██████████| 288/288 [00:28<00:00, 10.23it/s]\n"
     ]
    },
    {
     "name": "stdout",
     "output_type": "stream",
     "text": [
      "Loss1: 1.5778, Loss2: 0.5524, Loss3: 1.8578\n"
     ]
    },
    {
     "name": "stderr",
     "output_type": "stream",
     "text": [
      "Test_Loader: 100%|██████████| 288/288 [00:28<00:00, 10.12it/s]\n"
     ]
    },
    {
     "name": "stdout",
     "output_type": "stream",
     "text": [
      "Loss1: 1.5876, Loss2: 0.5632, Loss3: 1.8647\n"
     ]
    },
    {
     "name": "stderr",
     "output_type": "stream",
     "text": [
      "Test_Loader: 100%|██████████| 288/288 [00:28<00:00, 10.06it/s]\n"
     ]
    },
    {
     "name": "stdout",
     "output_type": "stream",
     "text": [
      "Loss1: 1.6345, Loss2: 0.5702, Loss3: 2.0280\n"
     ]
    },
    {
     "name": "stderr",
     "output_type": "stream",
     "text": [
      "Test_Loader: 100%|██████████| 288/288 [00:28<00:00, 10.01it/s]\n"
     ]
    },
    {
     "name": "stdout",
     "output_type": "stream",
     "text": [
      "Loss1: 1.6466, Loss2: 0.6072, Loss3: 2.1398\n"
     ]
    },
    {
     "name": "stderr",
     "output_type": "stream",
     "text": [
      "Test_Loader: 100%|██████████| 288/288 [00:28<00:00, 10.15it/s]\n"
     ]
    },
    {
     "name": "stdout",
     "output_type": "stream",
     "text": [
      "Loss1: 1.6663, Loss2: 0.5902, Loss3: 2.1060\n"
     ]
    },
    {
     "name": "stderr",
     "output_type": "stream",
     "text": [
      "Test_Loader: 100%|██████████| 288/288 [00:28<00:00, 10.26it/s]\n"
     ]
    },
    {
     "name": "stdout",
     "output_type": "stream",
     "text": [
      "Loss1: 1.6662, Loss2: 0.6303, Loss3: 2.1492\n"
     ]
    },
    {
     "name": "stderr",
     "output_type": "stream",
     "text": [
      "Test_Loader: 100%|██████████| 288/288 [00:27<00:00, 10.46it/s]\n"
     ]
    },
    {
     "name": "stdout",
     "output_type": "stream",
     "text": [
      "Loss1: 1.5786, Loss2: 0.6046, Loss3: 2.1285\n"
     ]
    },
    {
     "name": "stderr",
     "output_type": "stream",
     "text": [
      "Test_Loader: 100%|██████████| 288/288 [00:30<00:00,  9.35it/s]\n"
     ]
    },
    {
     "name": "stdout",
     "output_type": "stream",
     "text": [
      "Loss1: 1.5585, Loss2: 0.6509, Loss3: 2.3038\n"
     ]
    },
    {
     "name": "stderr",
     "output_type": "stream",
     "text": [
      "Test_Loader: 100%|██████████| 288/288 [00:27<00:00, 10.32it/s]\n"
     ]
    },
    {
     "name": "stdout",
     "output_type": "stream",
     "text": [
      "Loss1: 1.5406, Loss2: 0.6247, Loss3: 2.2247\n"
     ]
    },
    {
     "name": "stderr",
     "output_type": "stream",
     "text": [
      "Test_Loader: 100%|██████████| 288/288 [00:26<00:00, 10.92it/s]\n"
     ]
    },
    {
     "name": "stdout",
     "output_type": "stream",
     "text": [
      "Loss1: 1.5153, Loss2: 0.6275, Loss3: 2.2318\n"
     ]
    },
    {
     "name": "stderr",
     "output_type": "stream",
     "text": [
      "Test_Loader: 100%|██████████| 288/288 [00:26<00:00, 10.67it/s]\n"
     ]
    },
    {
     "name": "stdout",
     "output_type": "stream",
     "text": [
      "Loss1: 1.4883, Loss2: 0.6270, Loss3: 2.2538\n"
     ]
    },
    {
     "name": "stderr",
     "output_type": "stream",
     "text": [
      "Test_Loader: 100%|██████████| 288/288 [00:28<00:00, 10.24it/s]\n"
     ]
    },
    {
     "name": "stdout",
     "output_type": "stream",
     "text": [
      "Loss1: 1.4912, Loss2: 0.6246, Loss3: 2.2199\n"
     ]
    },
    {
     "name": "stderr",
     "output_type": "stream",
     "text": [
      "Test_Loader: 100%|██████████| 288/288 [00:28<00:00, 10.28it/s]\n"
     ]
    },
    {
     "name": "stdout",
     "output_type": "stream",
     "text": [
      "Loss1: 1.5129, Loss2: 0.6404, Loss3: 2.2842\n"
     ]
    },
    {
     "name": "stderr",
     "output_type": "stream",
     "text": [
      "Test_Loader: 100%|██████████| 288/288 [00:27<00:00, 10.65it/s]\n"
     ]
    },
    {
     "name": "stdout",
     "output_type": "stream",
     "text": [
      "Loss1: 1.5884, Loss2: 0.6579, Loss3: 2.4669\n"
     ]
    },
    {
     "name": "stderr",
     "output_type": "stream",
     "text": [
      "Test_Loader: 100%|██████████| 288/288 [00:28<00:00, 10.14it/s]\n"
     ]
    },
    {
     "name": "stdout",
     "output_type": "stream",
     "text": [
      "Loss1: 1.5619, Loss2: 0.6551, Loss3: 2.4852\n"
     ]
    },
    {
     "name": "stderr",
     "output_type": "stream",
     "text": [
      "Test_Loader: 100%|██████████| 288/288 [00:27<00:00, 10.36it/s]\n"
     ]
    },
    {
     "name": "stdout",
     "output_type": "stream",
     "text": [
      "Loss1: 1.5539, Loss2: 0.6435, Loss3: 2.4360\n"
     ]
    },
    {
     "name": "stderr",
     "output_type": "stream",
     "text": [
      "Test_Loader: 100%|██████████| 288/288 [00:27<00:00, 10.30it/s]\n"
     ]
    },
    {
     "name": "stdout",
     "output_type": "stream",
     "text": [
      "Loss1: 1.5440, Loss2: 0.6448, Loss3: 2.4236\n"
     ]
    },
    {
     "name": "stderr",
     "output_type": "stream",
     "text": [
      "Test_Loader: 100%|██████████| 288/288 [00:28<00:00, 10.19it/s]\n"
     ]
    },
    {
     "name": "stdout",
     "output_type": "stream",
     "text": [
      "Loss1: 1.5545, Loss2: 0.6406, Loss3: 2.4012\n"
     ]
    },
    {
     "name": "stderr",
     "output_type": "stream",
     "text": [
      "Test_Loader: 100%|██████████| 288/288 [00:28<00:00, 10.22it/s]\n"
     ]
    },
    {
     "name": "stdout",
     "output_type": "stream",
     "text": [
      "Loss1: 1.5194, Loss2: 0.6357, Loss3: 2.3821\n"
     ]
    },
    {
     "name": "stderr",
     "output_type": "stream",
     "text": [
      "Test_Loader: 100%|██████████| 288/288 [00:27<00:00, 10.37it/s]\n"
     ]
    },
    {
     "name": "stdout",
     "output_type": "stream",
     "text": [
      "Loss1: 1.5422, Loss2: 0.6374, Loss3: 2.3568\n"
     ]
    },
    {
     "name": "stderr",
     "output_type": "stream",
     "text": [
      "Test_Loader: 100%|██████████| 288/288 [00:28<00:00, 10.26it/s]\n"
     ]
    },
    {
     "name": "stdout",
     "output_type": "stream",
     "text": [
      "Loss1: 1.5083, Loss2: 0.6243, Loss3: 2.2956\n"
     ]
    },
    {
     "name": "stderr",
     "output_type": "stream",
     "text": [
      "Test_Loader: 100%|██████████| 288/288 [00:27<00:00, 10.30it/s]\n"
     ]
    },
    {
     "name": "stdout",
     "output_type": "stream",
     "text": [
      "Loss1: 1.5123, Loss2: 0.6255, Loss3: 2.2891\n"
     ]
    },
    {
     "name": "stderr",
     "output_type": "stream",
     "text": [
      "Test_Loader: 100%|██████████| 288/288 [00:27<00:00, 10.47it/s]\n"
     ]
    },
    {
     "name": "stdout",
     "output_type": "stream",
     "text": [
      "Loss1: 1.4916, Loss2: 0.6205, Loss3: 2.2855\n"
     ]
    },
    {
     "name": "stderr",
     "output_type": "stream",
     "text": [
      "Test_Loader: 100%|██████████| 288/288 [00:26<00:00, 10.68it/s]\n"
     ]
    },
    {
     "name": "stdout",
     "output_type": "stream",
     "text": [
      "Loss1: 1.5146, Loss2: 0.6276, Loss3: 2.3404\n"
     ]
    },
    {
     "name": "stderr",
     "output_type": "stream",
     "text": [
      "Test_Loader: 100%|██████████| 288/288 [00:26<00:00, 10.70it/s]\n"
     ]
    },
    {
     "name": "stdout",
     "output_type": "stream",
     "text": [
      "Loss1: 1.5151, Loss2: 0.6216, Loss3: 2.3075\n"
     ]
    },
    {
     "name": "stderr",
     "output_type": "stream",
     "text": [
      "Test_Loader: 100%|██████████| 288/288 [00:27<00:00, 10.61it/s]\n"
     ]
    },
    {
     "name": "stdout",
     "output_type": "stream",
     "text": [
      "Loss1: 1.5054, Loss2: 0.6300, Loss3: 2.3151\n"
     ]
    },
    {
     "name": "stderr",
     "output_type": "stream",
     "text": [
      "Test_Loader: 100%|██████████| 288/288 [00:27<00:00, 10.62it/s]\n"
     ]
    },
    {
     "name": "stdout",
     "output_type": "stream",
     "text": [
      "Loss1: 1.5193, Loss2: 0.6316, Loss3: 2.3216\n"
     ]
    },
    {
     "name": "stderr",
     "output_type": "stream",
     "text": [
      "Test_Loader: 100%|██████████| 288/288 [00:27<00:00, 10.34it/s]\n"
     ]
    },
    {
     "name": "stdout",
     "output_type": "stream",
     "text": [
      "Loss1: 1.5296, Loss2: 0.6398, Loss3: 2.3218\n"
     ]
    },
    {
     "name": "stderr",
     "output_type": "stream",
     "text": [
      "Test_Loader: 100%|██████████| 288/288 [00:27<00:00, 10.47it/s]\n"
     ]
    },
    {
     "name": "stdout",
     "output_type": "stream",
     "text": [
      "Loss1: 1.4980, Loss2: 0.6296, Loss3: 2.3129\n"
     ]
    },
    {
     "name": "stderr",
     "output_type": "stream",
     "text": [
      "Test_Loader: 100%|██████████| 288/288 [00:27<00:00, 10.44it/s]\n"
     ]
    },
    {
     "name": "stdout",
     "output_type": "stream",
     "text": [
      "Loss1: 1.4950, Loss2: 0.6277, Loss3: 2.3173\n"
     ]
    },
    {
     "name": "stderr",
     "output_type": "stream",
     "text": [
      "Test_Loader: 100%|██████████| 288/288 [00:28<00:00, 10.26it/s]\n"
     ]
    },
    {
     "name": "stdout",
     "output_type": "stream",
     "text": [
      "Loss1: 1.5053, Loss2: 0.6228, Loss3: 2.2926\n"
     ]
    },
    {
     "name": "stderr",
     "output_type": "stream",
     "text": [
      "Test_Loader: 100%|██████████| 288/288 [00:27<00:00, 10.47it/s]\n"
     ]
    },
    {
     "name": "stdout",
     "output_type": "stream",
     "text": [
      "Loss1: 1.5179, Loss2: 0.6299, Loss3: 2.2781\n"
     ]
    },
    {
     "name": "stderr",
     "output_type": "stream",
     "text": [
      "Test_Loader: 100%|██████████| 288/288 [00:27<00:00, 10.63it/s]\n"
     ]
    },
    {
     "name": "stdout",
     "output_type": "stream",
     "text": [
      "Loss1: 1.5078, Loss2: 0.6239, Loss3: 2.2796\n"
     ]
    },
    {
     "name": "stderr",
     "output_type": "stream",
     "text": [
      "Test_Loader: 100%|██████████| 288/288 [00:29<00:00,  9.81it/s]\n"
     ]
    },
    {
     "name": "stdout",
     "output_type": "stream",
     "text": [
      "Loss1: 1.4605, Loss2: 0.5982, Loss3: 2.2524\n"
     ]
    },
    {
     "name": "stderr",
     "output_type": "stream",
     "text": [
      "Test_Loader: 100%|██████████| 288/288 [00:27<00:00, 10.61it/s]\n"
     ]
    },
    {
     "name": "stdout",
     "output_type": "stream",
     "text": [
      "Loss1: 1.4149, Loss2: 0.5788, Loss3: 2.1563\n"
     ]
    },
    {
     "name": "stderr",
     "output_type": "stream",
     "text": [
      "Test_Loader: 100%|██████████| 288/288 [00:26<00:00, 10.72it/s]\n"
     ]
    },
    {
     "name": "stdout",
     "output_type": "stream",
     "text": [
      "Loss1: 1.4363, Loss2: 0.5780, Loss3: 2.1366\n"
     ]
    },
    {
     "name": "stderr",
     "output_type": "stream",
     "text": [
      "Test_Loader: 100%|██████████| 288/288 [00:27<00:00, 10.51it/s]\n"
     ]
    },
    {
     "name": "stdout",
     "output_type": "stream",
     "text": [
      "Loss1: 1.4221, Loss2: 0.5747, Loss3: 2.1409\n"
     ]
    },
    {
     "name": "stderr",
     "output_type": "stream",
     "text": [
      "Test_Loader: 100%|██████████| 288/288 [00:27<00:00, 10.52it/s]\n"
     ]
    },
    {
     "name": "stdout",
     "output_type": "stream",
     "text": [
      "Loss1: 1.4297, Loss2: 0.5778, Loss3: 2.1382\n"
     ]
    },
    {
     "name": "stderr",
     "output_type": "stream",
     "text": [
      "Test_Loader: 100%|██████████| 288/288 [00:30<00:00,  9.51it/s]\n"
     ]
    },
    {
     "name": "stdout",
     "output_type": "stream",
     "text": [
      "Loss1: 1.4030, Loss2: 0.5684, Loss3: 2.1107\n"
     ]
    },
    {
     "name": "stderr",
     "output_type": "stream",
     "text": [
      "Test_Loader: 100%|██████████| 288/288 [00:28<00:00, 10.12it/s]\n"
     ]
    },
    {
     "name": "stdout",
     "output_type": "stream",
     "text": [
      "Loss1: 1.3762, Loss2: 0.5736, Loss3: 2.1081\n"
     ]
    },
    {
     "name": "stderr",
     "output_type": "stream",
     "text": [
      "Test_Loader: 100%|██████████| 288/288 [00:28<00:00, 10.11it/s]\n"
     ]
    },
    {
     "name": "stdout",
     "output_type": "stream",
     "text": [
      "Loss1: 1.4084, Loss2: 0.5731, Loss3: 2.1796\n"
     ]
    },
    {
     "name": "stderr",
     "output_type": "stream",
     "text": [
      "Test_Loader: 100%|██████████| 288/288 [00:28<00:00,  9.95it/s]\n"
     ]
    },
    {
     "name": "stdout",
     "output_type": "stream",
     "text": [
      "Loss1: 1.4150, Loss2: 0.5679, Loss3: 2.1548\n"
     ]
    },
    {
     "name": "stderr",
     "output_type": "stream",
     "text": [
      "Test_Loader: 100%|██████████| 288/288 [00:28<00:00, 10.03it/s]\n"
     ]
    },
    {
     "name": "stdout",
     "output_type": "stream",
     "text": [
      "Loss1: 1.3902, Loss2: 0.5710, Loss3: 2.1329\n"
     ]
    },
    {
     "name": "stderr",
     "output_type": "stream",
     "text": [
      "Test_Loader: 100%|██████████| 288/288 [00:28<00:00,  9.99it/s]\n"
     ]
    },
    {
     "name": "stdout",
     "output_type": "stream",
     "text": [
      "Loss1: 1.4034, Loss2: 0.5708, Loss3: 2.1290\n"
     ]
    },
    {
     "name": "stderr",
     "output_type": "stream",
     "text": [
      "Test_Loader: 100%|██████████| 288/288 [00:28<00:00, 10.24it/s]\n"
     ]
    },
    {
     "name": "stdout",
     "output_type": "stream",
     "text": [
      "Loss1: 1.3987, Loss2: 0.5622, Loss3: 2.1030\n"
     ]
    },
    {
     "name": "stderr",
     "output_type": "stream",
     "text": [
      "Test_Loader: 100%|██████████| 288/288 [00:28<00:00, 10.07it/s]\n"
     ]
    },
    {
     "name": "stdout",
     "output_type": "stream",
     "text": [
      "Loss1: 1.4032, Loss2: 0.5539, Loss3: 2.0866\n"
     ]
    },
    {
     "name": "stderr",
     "output_type": "stream",
     "text": [
      "Test_Loader: 100%|██████████| 288/288 [00:29<00:00,  9.87it/s]\n"
     ]
    },
    {
     "name": "stdout",
     "output_type": "stream",
     "text": [
      "Loss1: 1.3834, Loss2: 0.5518, Loss3: 2.0861\n"
     ]
    },
    {
     "name": "stderr",
     "output_type": "stream",
     "text": [
      "Test_Loader: 100%|██████████| 288/288 [00:26<00:00, 10.83it/s]\n"
     ]
    },
    {
     "name": "stdout",
     "output_type": "stream",
     "text": [
      "Loss1: 1.3909, Loss2: 0.5550, Loss3: 2.0843\n"
     ]
    },
    {
     "name": "stderr",
     "output_type": "stream",
     "text": [
      "Test_Loader: 100%|██████████| 288/288 [00:26<00:00, 10.93it/s]\n"
     ]
    },
    {
     "name": "stdout",
     "output_type": "stream",
     "text": [
      "Loss1: 1.3916, Loss2: 0.5505, Loss3: 2.0663\n"
     ]
    },
    {
     "name": "stderr",
     "output_type": "stream",
     "text": [
      "Test_Loader: 100%|██████████| 288/288 [00:27<00:00, 10.60it/s]\n"
     ]
    },
    {
     "name": "stdout",
     "output_type": "stream",
     "text": [
      "Loss1: 1.4138, Loss2: 0.5519, Loss3: 2.0640\n"
     ]
    },
    {
     "name": "stderr",
     "output_type": "stream",
     "text": [
      "Test_Loader: 100%|██████████| 288/288 [00:27<00:00, 10.61it/s]\n"
     ]
    },
    {
     "name": "stdout",
     "output_type": "stream",
     "text": [
      "Loss1: 1.4491, Loss2: 0.5811, Loss3: 2.1004\n"
     ]
    },
    {
     "name": "stderr",
     "output_type": "stream",
     "text": [
      "Test_Loader: 100%|██████████| 288/288 [00:27<00:00, 10.63it/s]\n"
     ]
    },
    {
     "name": "stdout",
     "output_type": "stream",
     "text": [
      "Loss1: 1.4439, Loss2: 0.5884, Loss3: 2.1281\n"
     ]
    },
    {
     "name": "stderr",
     "output_type": "stream",
     "text": [
      "Test_Loader: 100%|██████████| 288/288 [00:27<00:00, 10.36it/s]\n"
     ]
    },
    {
     "name": "stdout",
     "output_type": "stream",
     "text": [
      "Loss1: 1.4652, Loss2: 0.5954, Loss3: 2.1117\n"
     ]
    },
    {
     "name": "stderr",
     "output_type": "stream",
     "text": [
      "Test_Loader: 100%|██████████| 288/288 [00:28<00:00, 10.15it/s]\n"
     ]
    },
    {
     "name": "stdout",
     "output_type": "stream",
     "text": [
      "Loss1: 1.4392, Loss2: 0.5842, Loss3: 2.1338\n"
     ]
    },
    {
     "name": "stderr",
     "output_type": "stream",
     "text": [
      "Test_Loader: 100%|██████████| 288/288 [00:26<00:00, 10.76it/s]\n"
     ]
    },
    {
     "name": "stdout",
     "output_type": "stream",
     "text": [
      "Loss1: 1.4199, Loss2: 0.5814, Loss3: 2.1020\n"
     ]
    },
    {
     "name": "stderr",
     "output_type": "stream",
     "text": [
      "Test_Loader: 100%|██████████| 288/288 [00:27<00:00, 10.62it/s]\n"
     ]
    },
    {
     "name": "stdout",
     "output_type": "stream",
     "text": [
      "Loss1: 1.4467, Loss2: 0.5898, Loss3: 2.1058\n"
     ]
    },
    {
     "name": "stderr",
     "output_type": "stream",
     "text": [
      "Test_Loader: 100%|██████████| 288/288 [00:27<00:00, 10.50it/s]\n"
     ]
    },
    {
     "name": "stdout",
     "output_type": "stream",
     "text": [
      "Loss1: 1.4769, Loss2: 0.5983, Loss3: 2.1153\n"
     ]
    },
    {
     "name": "stderr",
     "output_type": "stream",
     "text": [
      "Test_Loader: 100%|██████████| 288/288 [00:27<00:00, 10.52it/s]\n"
     ]
    },
    {
     "name": "stdout",
     "output_type": "stream",
     "text": [
      "Loss1: 1.4591, Loss2: 0.6000, Loss3: 2.1361\n"
     ]
    },
    {
     "name": "stderr",
     "output_type": "stream",
     "text": [
      "Test_Loader: 100%|██████████| 288/288 [00:28<00:00, 10.01it/s]\n"
     ]
    },
    {
     "name": "stdout",
     "output_type": "stream",
     "text": [
      "Loss1: 1.4693, Loss2: 0.5913, Loss3: 2.1131\n"
     ]
    },
    {
     "name": "stderr",
     "output_type": "stream",
     "text": [
      "Test_Loader: 100%|██████████| 288/288 [00:29<00:00,  9.87it/s]\n"
     ]
    },
    {
     "name": "stdout",
     "output_type": "stream",
     "text": [
      "Loss1: 1.4647, Loss2: 0.5972, Loss3: 2.1157\n"
     ]
    },
    {
     "name": "stderr",
     "output_type": "stream",
     "text": [
      "Test_Loader: 100%|██████████| 288/288 [00:27<00:00, 10.36it/s]\n"
     ]
    },
    {
     "name": "stdout",
     "output_type": "stream",
     "text": [
      "Loss1: 1.4721, Loss2: 0.5916, Loss3: 2.0779\n"
     ]
    },
    {
     "name": "stderr",
     "output_type": "stream",
     "text": [
      "Test_Loader: 100%|██████████| 288/288 [00:27<00:00, 10.40it/s]\n"
     ]
    },
    {
     "name": "stdout",
     "output_type": "stream",
     "text": [
      "Loss1: 1.4560, Loss2: 0.5882, Loss3: 2.0707\n"
     ]
    },
    {
     "name": "stderr",
     "output_type": "stream",
     "text": [
      "Test_Loader: 100%|██████████| 288/288 [00:27<00:00, 10.36it/s]\n"
     ]
    },
    {
     "name": "stdout",
     "output_type": "stream",
     "text": [
      "Loss1: 1.4643, Loss2: 0.5938, Loss3: 2.0755\n"
     ]
    },
    {
     "name": "stderr",
     "output_type": "stream",
     "text": [
      "Test_Loader: 100%|██████████| 288/288 [00:28<00:00, 10.09it/s]\n"
     ]
    },
    {
     "name": "stdout",
     "output_type": "stream",
     "text": [
      "Loss1: 1.4630, Loss2: 0.5905, Loss3: 2.0897\n"
     ]
    },
    {
     "name": "stderr",
     "output_type": "stream",
     "text": [
      "Test_Loader: 100%|██████████| 288/288 [00:28<00:00, 10.00it/s]\n"
     ]
    },
    {
     "name": "stdout",
     "output_type": "stream",
     "text": [
      "Loss1: 1.4446, Loss2: 0.5830, Loss3: 2.0621\n"
     ]
    },
    {
     "name": "stderr",
     "output_type": "stream",
     "text": [
      "Test_Loader: 100%|██████████| 288/288 [00:28<00:00, 10.22it/s]\n"
     ]
    },
    {
     "name": "stdout",
     "output_type": "stream",
     "text": [
      "Loss1: 1.4252, Loss2: 0.5888, Loss3: 2.0398\n"
     ]
    },
    {
     "name": "stderr",
     "output_type": "stream",
     "text": [
      "Test_Loader: 100%|██████████| 288/288 [00:28<00:00, 10.07it/s]\n"
     ]
    },
    {
     "name": "stdout",
     "output_type": "stream",
     "text": [
      "Loss1: 1.4315, Loss2: 0.5850, Loss3: 2.0340\n"
     ]
    },
    {
     "name": "stderr",
     "output_type": "stream",
     "text": [
      "Test_Loader: 100%|██████████| 288/288 [00:28<00:00,  9.99it/s]\n"
     ]
    },
    {
     "name": "stdout",
     "output_type": "stream",
     "text": [
      "Loss1: 1.4130, Loss2: 0.5804, Loss3: 2.0066\n"
     ]
    },
    {
     "name": "stderr",
     "output_type": "stream",
     "text": [
      "Test_Loader: 100%|██████████| 288/288 [00:28<00:00, 10.24it/s]\n"
     ]
    },
    {
     "name": "stdout",
     "output_type": "stream",
     "text": [
      "Loss1: 1.4087, Loss2: 0.5736, Loss3: 1.9948\n"
     ]
    },
    {
     "name": "stderr",
     "output_type": "stream",
     "text": [
      "Test_Loader: 100%|██████████| 288/288 [00:27<00:00, 10.46it/s]\n"
     ]
    },
    {
     "name": "stdout",
     "output_type": "stream",
     "text": [
      "Loss1: 1.3973, Loss2: 0.5689, Loss3: 2.0071\n"
     ]
    },
    {
     "name": "stderr",
     "output_type": "stream",
     "text": [
      "Test_Loader: 100%|██████████| 288/288 [00:27<00:00, 10.55it/s]\n"
     ]
    },
    {
     "name": "stdout",
     "output_type": "stream",
     "text": [
      "Loss1: 1.4025, Loss2: 0.5695, Loss3: 1.9892\n"
     ]
    },
    {
     "name": "stderr",
     "output_type": "stream",
     "text": [
      "Test_Loader: 100%|██████████| 288/288 [00:29<00:00,  9.73it/s]\n"
     ]
    },
    {
     "name": "stdout",
     "output_type": "stream",
     "text": [
      "Loss1: 1.4113, Loss2: 0.5722, Loss3: 1.9615\n"
     ]
    },
    {
     "name": "stderr",
     "output_type": "stream",
     "text": [
      "Test_Loader: 100%|██████████| 288/288 [00:30<00:00,  9.56it/s]\n"
     ]
    },
    {
     "name": "stdout",
     "output_type": "stream",
     "text": [
      "Loss1: 1.3979, Loss2: 0.5723, Loss3: 1.9575\n"
     ]
    },
    {
     "name": "stderr",
     "output_type": "stream",
     "text": [
      "Test_Loader: 100%|██████████| 288/288 [00:26<00:00, 10.87it/s]\n"
     ]
    },
    {
     "name": "stdout",
     "output_type": "stream",
     "text": [
      "Loss1: 1.3967, Loss2: 0.5696, Loss3: 1.9692\n"
     ]
    },
    {
     "name": "stderr",
     "output_type": "stream",
     "text": [
      "Test_Loader: 100%|██████████| 288/288 [00:26<00:00, 10.91it/s]\n"
     ]
    },
    {
     "name": "stdout",
     "output_type": "stream",
     "text": [
      "Loss1: 1.3867, Loss2: 0.5600, Loss3: 1.9591\n"
     ]
    },
    {
     "name": "stderr",
     "output_type": "stream",
     "text": [
      "Test_Loader: 100%|██████████| 288/288 [00:26<00:00, 10.90it/s]\n"
     ]
    },
    {
     "name": "stdout",
     "output_type": "stream",
     "text": [
      "Loss1: 1.3918, Loss2: 0.5626, Loss3: 1.9417\n"
     ]
    },
    {
     "name": "stderr",
     "output_type": "stream",
     "text": [
      "Test_Loader: 100%|██████████| 288/288 [00:27<00:00, 10.51it/s]\n"
     ]
    },
    {
     "name": "stdout",
     "output_type": "stream",
     "text": [
      "Loss1: 1.3697, Loss2: 0.5635, Loss3: 1.9325\n"
     ]
    },
    {
     "name": "stderr",
     "output_type": "stream",
     "text": [
      "Test_Loader: 100%|██████████| 288/288 [00:27<00:00, 10.43it/s]\n"
     ]
    },
    {
     "name": "stdout",
     "output_type": "stream",
     "text": [
      "Loss1: 1.3786, Loss2: 0.5623, Loss3: 1.9207\n"
     ]
    },
    {
     "name": "stderr",
     "output_type": "stream",
     "text": [
      "Test_Loader: 100%|██████████| 288/288 [00:27<00:00, 10.51it/s]\n"
     ]
    },
    {
     "name": "stdout",
     "output_type": "stream",
     "text": [
      "Loss1: 1.3685, Loss2: 0.5573, Loss3: 1.9150\n"
     ]
    },
    {
     "name": "stderr",
     "output_type": "stream",
     "text": [
      "Test_Loader: 100%|██████████| 288/288 [00:28<00:00, 10.28it/s]\n"
     ]
    },
    {
     "name": "stdout",
     "output_type": "stream",
     "text": [
      "Loss1: 1.3418, Loss2: 0.5458, Loss3: 1.8350\n"
     ]
    },
    {
     "name": "stderr",
     "output_type": "stream",
     "text": [
      "Test_Loader: 100%|██████████| 288/288 [00:27<00:00, 10.39it/s]\n"
     ]
    },
    {
     "name": "stdout",
     "output_type": "stream",
     "text": [
      "Loss1: 1.3589, Loss2: 0.5443, Loss3: 1.8364\n"
     ]
    },
    {
     "name": "stderr",
     "output_type": "stream",
     "text": [
      "Test_Loader: 100%|██████████| 288/288 [00:28<00:00, 10.21it/s]\n"
     ]
    },
    {
     "name": "stdout",
     "output_type": "stream",
     "text": [
      "Loss1: 1.3491, Loss2: 0.5333, Loss3: 1.7887\n"
     ]
    },
    {
     "name": "stderr",
     "output_type": "stream",
     "text": [
      "Test_Loader: 100%|██████████| 288/288 [00:28<00:00, 10.23it/s]\n"
     ]
    },
    {
     "name": "stdout",
     "output_type": "stream",
     "text": [
      "Loss1: 1.3027, Loss2: 0.5154, Loss3: 1.7676\n"
     ]
    },
    {
     "name": "stderr",
     "output_type": "stream",
     "text": [
      "Test_Loader: 100%|██████████| 288/288 [00:27<00:00, 10.31it/s]\n"
     ]
    },
    {
     "name": "stdout",
     "output_type": "stream",
     "text": [
      "Loss1: 1.2898, Loss2: 0.5116, Loss3: 1.7466\n"
     ]
    },
    {
     "name": "stderr",
     "output_type": "stream",
     "text": [
      "Test_Loader: 100%|██████████| 288/288 [00:28<00:00, 10.07it/s]\n"
     ]
    },
    {
     "name": "stdout",
     "output_type": "stream",
     "text": [
      "Loss1: 1.3001, Loss2: 0.5149, Loss3: 1.7310\n"
     ]
    },
    {
     "name": "stderr",
     "output_type": "stream",
     "text": [
      "Test_Loader: 100%|██████████| 288/288 [00:28<00:00,  9.93it/s]\n"
     ]
    },
    {
     "name": "stdout",
     "output_type": "stream",
     "text": [
      "Loss1: 1.2975, Loss2: 0.5167, Loss3: 1.7297\n"
     ]
    },
    {
     "name": "stderr",
     "output_type": "stream",
     "text": [
      "Test_Loader: 100%|██████████| 288/288 [00:26<00:00, 10.74it/s]\n"
     ]
    },
    {
     "name": "stdout",
     "output_type": "stream",
     "text": [
      "Loss1: 1.2403, Loss2: 0.5042, Loss3: 1.6963\n"
     ]
    },
    {
     "name": "stderr",
     "output_type": "stream",
     "text": [
      "Test_Loader: 100%|██████████| 288/288 [00:26<00:00, 10.69it/s]\n"
     ]
    },
    {
     "name": "stdout",
     "output_type": "stream",
     "text": [
      "Loss1: 1.1060, Loss2: 0.4739, Loss3: 1.5977\n"
     ]
    },
    {
     "name": "stderr",
     "output_type": "stream",
     "text": [
      "Test_Loader: 100%|██████████| 288/288 [00:28<00:00, 10.27it/s]\n"
     ]
    },
    {
     "name": "stdout",
     "output_type": "stream",
     "text": [
      "Loss1: 1.1171, Loss2: 0.4768, Loss3: 1.5875\n"
     ]
    },
    {
     "name": "stderr",
     "output_type": "stream",
     "text": [
      "Test_Loader: 100%|██████████| 288/288 [00:27<00:00, 10.48it/s]\n"
     ]
    },
    {
     "name": "stdout",
     "output_type": "stream",
     "text": [
      "Loss1: 1.1363, Loss2: 0.5006, Loss3: 1.6232\n"
     ]
    },
    {
     "name": "stderr",
     "output_type": "stream",
     "text": [
      "Test_Loader: 100%|██████████| 288/288 [00:27<00:00, 10.49it/s]\n"
     ]
    },
    {
     "name": "stdout",
     "output_type": "stream",
     "text": [
      "Loss1: 1.1189, Loss2: 0.4977, Loss3: 1.5947\n"
     ]
    },
    {
     "name": "stderr",
     "output_type": "stream",
     "text": [
      "Test_Loader: 100%|██████████| 288/288 [00:27<00:00, 10.54it/s]\n"
     ]
    },
    {
     "name": "stdout",
     "output_type": "stream",
     "text": [
      "Loss1: 1.1012, Loss2: 0.4820, Loss3: 1.5529\n"
     ]
    },
    {
     "name": "stderr",
     "output_type": "stream",
     "text": [
      "Test_Loader: 100%|██████████| 288/288 [00:27<00:00, 10.47it/s]\n"
     ]
    },
    {
     "name": "stdout",
     "output_type": "stream",
     "text": [
      "Loss1: 1.0644, Loss2: 0.4600, Loss3: 1.5066\n"
     ]
    },
    {
     "name": "stderr",
     "output_type": "stream",
     "text": [
      "Test_Loader: 100%|██████████| 288/288 [00:27<00:00, 10.51it/s]\n"
     ]
    },
    {
     "name": "stdout",
     "output_type": "stream",
     "text": [
      "Loss1: 1.0507, Loss2: 0.4870, Loss3: 1.5805\n"
     ]
    },
    {
     "name": "stderr",
     "output_type": "stream",
     "text": [
      "Test_Loader: 100%|██████████| 288/288 [00:27<00:00, 10.36it/s]\n"
     ]
    },
    {
     "name": "stdout",
     "output_type": "stream",
     "text": [
      "Loss1: 0.9829, Loss2: 0.4720, Loss3: 1.5321\n"
     ]
    },
    {
     "name": "stderr",
     "output_type": "stream",
     "text": [
      "Test_Loader: 100%|██████████| 288/288 [00:28<00:00, 10.17it/s]\n"
     ]
    },
    {
     "name": "stdout",
     "output_type": "stream",
     "text": [
      "Loss1: 0.9919, Loss2: 0.4752, Loss3: 1.5814\n"
     ]
    },
    {
     "name": "stderr",
     "output_type": "stream",
     "text": [
      "Test_Loader: 100%|██████████| 288/288 [00:27<00:00, 10.61it/s]\n"
     ]
    },
    {
     "name": "stdout",
     "output_type": "stream",
     "text": [
      "Loss1: 1.0326, Loss2: 0.4979, Loss3: 1.6595\n"
     ]
    },
    {
     "name": "stderr",
     "output_type": "stream",
     "text": [
      "Test_Loader: 100%|██████████| 288/288 [00:27<00:00, 10.55it/s]\n"
     ]
    },
    {
     "name": "stdout",
     "output_type": "stream",
     "text": [
      "Loss1: 1.0237, Loss2: 0.4924, Loss3: 1.6501\n"
     ]
    },
    {
     "name": "stderr",
     "output_type": "stream",
     "text": [
      "Test_Loader: 100%|██████████| 288/288 [00:29<00:00,  9.61it/s]\n"
     ]
    },
    {
     "name": "stdout",
     "output_type": "stream",
     "text": [
      "Loss1: 0.9870, Loss2: 0.4775, Loss3: 1.5852\n"
     ]
    },
    {
     "name": "stderr",
     "output_type": "stream",
     "text": [
      "Test_Loader: 100%|██████████| 288/288 [00:27<00:00, 10.64it/s]\n"
     ]
    },
    {
     "name": "stdout",
     "output_type": "stream",
     "text": [
      "Loss1: 0.9440, Loss2: 0.4695, Loss3: 1.5215\n"
     ]
    },
    {
     "name": "stderr",
     "output_type": "stream",
     "text": [
      "Test_Loader: 100%|██████████| 288/288 [00:26<00:00, 10.70it/s]\n"
     ]
    },
    {
     "name": "stdout",
     "output_type": "stream",
     "text": [
      "Loss1: 0.9486, Loss2: 0.4725, Loss3: 1.5423\n"
     ]
    },
    {
     "name": "stderr",
     "output_type": "stream",
     "text": [
      "Test_Loader: 100%|██████████| 288/288 [00:28<00:00, 10.19it/s]\n"
     ]
    },
    {
     "name": "stdout",
     "output_type": "stream",
     "text": [
      "Loss1: 0.9347, Loss2: 0.4529, Loss3: 1.5073\n"
     ]
    },
    {
     "name": "stderr",
     "output_type": "stream",
     "text": [
      "Test_Loader: 100%|██████████| 288/288 [00:28<00:00, 10.26it/s]\n"
     ]
    },
    {
     "name": "stdout",
     "output_type": "stream",
     "text": [
      "Loss1: 0.9506, Loss2: 0.4374, Loss3: 1.5291\n"
     ]
    },
    {
     "name": "stderr",
     "output_type": "stream",
     "text": [
      "Test_Loader: 100%|██████████| 288/288 [00:27<00:00, 10.34it/s]\n"
     ]
    },
    {
     "name": "stdout",
     "output_type": "stream",
     "text": [
      "Loss1: 0.9279, Loss2: 0.4225, Loss3: 1.4865\n"
     ]
    },
    {
     "name": "stderr",
     "output_type": "stream",
     "text": [
      "Test_Loader: 100%|██████████| 288/288 [00:28<00:00, 10.27it/s]\n"
     ]
    },
    {
     "name": "stdout",
     "output_type": "stream",
     "text": [
      "Loss1: 0.9351, Loss2: 0.4279, Loss3: 1.5260\n"
     ]
    },
    {
     "name": "stderr",
     "output_type": "stream",
     "text": [
      "Test_Loader: 100%|██████████| 288/288 [00:28<00:00, 10.26it/s]\n"
     ]
    },
    {
     "name": "stdout",
     "output_type": "stream",
     "text": [
      "Loss1: 0.9109, Loss2: 0.4203, Loss3: 1.4446\n"
     ]
    },
    {
     "name": "stderr",
     "output_type": "stream",
     "text": [
      "Test_Loader: 100%|██████████| 288/288 [00:28<00:00, 10.16it/s]\n"
     ]
    },
    {
     "name": "stdout",
     "output_type": "stream",
     "text": [
      "Loss1: 0.9061, Loss2: 0.4160, Loss3: 1.4576\n"
     ]
    },
    {
     "name": "stderr",
     "output_type": "stream",
     "text": [
      "Test_Loader: 100%|██████████| 288/288 [00:28<00:00,  9.98it/s]\n"
     ]
    },
    {
     "name": "stdout",
     "output_type": "stream",
     "text": [
      "Loss1: 0.9024, Loss2: 0.4208, Loss3: 1.4203\n"
     ]
    },
    {
     "name": "stderr",
     "output_type": "stream",
     "text": [
      "Test_Loader: 100%|██████████| 288/288 [00:28<00:00, 10.15it/s]\n"
     ]
    },
    {
     "name": "stdout",
     "output_type": "stream",
     "text": [
      "Loss1: 0.8952, Loss2: 0.4150, Loss3: 1.4082\n"
     ]
    },
    {
     "name": "stderr",
     "output_type": "stream",
     "text": [
      "Test_Loader: 100%|██████████| 288/288 [00:27<00:00, 10.43it/s]\n"
     ]
    },
    {
     "name": "stdout",
     "output_type": "stream",
     "text": [
      "Loss1: 0.8761, Loss2: 0.3972, Loss3: 1.2777\n"
     ]
    },
    {
     "name": "stderr",
     "output_type": "stream",
     "text": [
      "Test_Loader: 100%|██████████| 288/288 [00:27<00:00, 10.59it/s]\n"
     ]
    },
    {
     "name": "stdout",
     "output_type": "stream",
     "text": [
      "Loss1: 0.8697, Loss2: 0.4033, Loss3: 1.2774\n"
     ]
    },
    {
     "name": "stderr",
     "output_type": "stream",
     "text": [
      "Test_Loader: 100%|██████████| 288/288 [00:27<00:00, 10.35it/s]\n"
     ]
    },
    {
     "name": "stdout",
     "output_type": "stream",
     "text": [
      "Loss1: 0.8691, Loss2: 0.4025, Loss3: 1.2930\n"
     ]
    },
    {
     "name": "stderr",
     "output_type": "stream",
     "text": [
      "Test_Loader: 100%|██████████| 288/288 [00:26<00:00, 11.03it/s]\n"
     ]
    },
    {
     "name": "stdout",
     "output_type": "stream",
     "text": [
      "Loss1: 0.8694, Loss2: 0.4019, Loss3: 1.2929\n"
     ]
    },
    {
     "name": "stderr",
     "output_type": "stream",
     "text": [
      "Test_Loader: 100%|██████████| 288/288 [00:26<00:00, 10.87it/s]\n"
     ]
    },
    {
     "name": "stdout",
     "output_type": "stream",
     "text": [
      "Loss1: 0.8693, Loss2: 0.3987, Loss3: 1.2933\n"
     ]
    },
    {
     "name": "stderr",
     "output_type": "stream",
     "text": [
      "Test_Loader: 100%|██████████| 288/288 [00:26<00:00, 10.92it/s]\n"
     ]
    },
    {
     "name": "stdout",
     "output_type": "stream",
     "text": [
      "Loss1: 0.8693, Loss2: 0.4027, Loss3: 1.3059\n"
     ]
    },
    {
     "name": "stderr",
     "output_type": "stream",
     "text": [
      "Test_Loader: 100%|██████████| 288/288 [00:26<00:00, 10.79it/s]\n"
     ]
    },
    {
     "name": "stdout",
     "output_type": "stream",
     "text": [
      "Loss1: 0.8628, Loss2: 0.4087, Loss3: 1.2996\n"
     ]
    },
    {
     "name": "stderr",
     "output_type": "stream",
     "text": [
      "Test_Loader: 100%|██████████| 288/288 [00:26<00:00, 10.93it/s]\n"
     ]
    },
    {
     "name": "stdout",
     "output_type": "stream",
     "text": [
      "Loss1: 0.8893, Loss2: 0.4224, Loss3: 1.3473\n"
     ]
    },
    {
     "name": "stderr",
     "output_type": "stream",
     "text": [
      "Test_Loader: 100%|██████████| 288/288 [00:27<00:00, 10.38it/s]\n"
     ]
    },
    {
     "name": "stdout",
     "output_type": "stream",
     "text": [
      "Loss1: 0.8925, Loss2: 0.4236, Loss3: 1.3554\n"
     ]
    },
    {
     "name": "stderr",
     "output_type": "stream",
     "text": [
      "Test_Loader: 100%|██████████| 288/288 [00:28<00:00, 10.26it/s]\n"
     ]
    },
    {
     "name": "stdout",
     "output_type": "stream",
     "text": [
      "Loss1: 0.8757, Loss2: 0.4194, Loss3: 1.3606\n"
     ]
    },
    {
     "name": "stderr",
     "output_type": "stream",
     "text": [
      "Test_Loader: 100%|██████████| 288/288 [00:26<00:00, 10.70it/s]\n"
     ]
    },
    {
     "name": "stdout",
     "output_type": "stream",
     "text": [
      "Loss1: 0.8604, Loss2: 0.4158, Loss3: 1.3323\n"
     ]
    },
    {
     "name": "stderr",
     "output_type": "stream",
     "text": [
      "Test_Loader: 100%|██████████| 288/288 [00:27<00:00, 10.48it/s]\n"
     ]
    },
    {
     "name": "stdout",
     "output_type": "stream",
     "text": [
      "Loss1: 0.8614, Loss2: 0.4138, Loss3: 1.3225\n"
     ]
    },
    {
     "name": "stderr",
     "output_type": "stream",
     "text": [
      "Test_Loader: 100%|██████████| 288/288 [00:27<00:00, 10.37it/s]\n"
     ]
    },
    {
     "name": "stdout",
     "output_type": "stream",
     "text": [
      "Loss1: 0.8364, Loss2: 0.4135, Loss3: 1.3190\n"
     ]
    },
    {
     "name": "stderr",
     "output_type": "stream",
     "text": [
      "Test_Loader: 100%|██████████| 288/288 [00:28<00:00, 10.27it/s]\n"
     ]
    },
    {
     "name": "stdout",
     "output_type": "stream",
     "text": [
      "Loss1: 0.8530, Loss2: 0.4119, Loss3: 1.3104\n"
     ]
    },
    {
     "name": "stderr",
     "output_type": "stream",
     "text": [
      "Test_Loader: 100%|██████████| 288/288 [00:29<00:00,  9.84it/s]\n"
     ]
    },
    {
     "name": "stdout",
     "output_type": "stream",
     "text": [
      "Loss1: 0.9011, Loss2: 0.4182, Loss3: 1.4342\n"
     ]
    },
    {
     "name": "stderr",
     "output_type": "stream",
     "text": [
      "Test_Loader: 100%|██████████| 288/288 [00:31<00:00,  9.20it/s]\n"
     ]
    },
    {
     "name": "stdout",
     "output_type": "stream",
     "text": [
      "Loss1: 0.9234, Loss2: 0.4194, Loss3: 1.4635\n"
     ]
    },
    {
     "name": "stderr",
     "output_type": "stream",
     "text": [
      "Test_Loader: 100%|██████████| 288/288 [00:27<00:00, 10.39it/s]\n"
     ]
    },
    {
     "name": "stdout",
     "output_type": "stream",
     "text": [
      "Loss1: 0.9299, Loss2: 0.4231, Loss3: 1.4503\n"
     ]
    },
    {
     "name": "stderr",
     "output_type": "stream",
     "text": [
      "Test_Loader: 100%|██████████| 288/288 [00:27<00:00, 10.53it/s]\n"
     ]
    },
    {
     "name": "stdout",
     "output_type": "stream",
     "text": [
      "Loss1: 0.9686, Loss2: 0.4771, Loss3: 1.4774\n"
     ]
    },
    {
     "name": "stderr",
     "output_type": "stream",
     "text": [
      "Test_Loader: 100%|██████████| 288/288 [00:27<00:00, 10.39it/s]\n"
     ]
    },
    {
     "name": "stdout",
     "output_type": "stream",
     "text": [
      "Loss1: 0.9642, Loss2: 0.4857, Loss3: 1.5108\n"
     ]
    },
    {
     "name": "stderr",
     "output_type": "stream",
     "text": [
      "Test_Loader: 100%|██████████| 288/288 [00:27<00:00, 10.47it/s]\n"
     ]
    },
    {
     "name": "stdout",
     "output_type": "stream",
     "text": [
      "Loss1: 0.9853, Loss2: 0.4867, Loss3: 1.5064\n"
     ]
    },
    {
     "name": "stderr",
     "output_type": "stream",
     "text": [
      "Test_Loader: 100%|██████████| 288/288 [00:27<00:00, 10.59it/s]\n"
     ]
    },
    {
     "name": "stdout",
     "output_type": "stream",
     "text": [
      "Loss1: 0.9864, Loss2: 0.4879, Loss3: 1.5023\n"
     ]
    },
    {
     "name": "stderr",
     "output_type": "stream",
     "text": [
      "Test_Loader: 100%|██████████| 288/288 [00:27<00:00, 10.61it/s]\n"
     ]
    },
    {
     "name": "stdout",
     "output_type": "stream",
     "text": [
      "Loss1: 1.0374, Loss2: 0.4991, Loss3: 1.5390\n"
     ]
    },
    {
     "name": "stderr",
     "output_type": "stream",
     "text": [
      "Test_Loader: 100%|██████████| 288/288 [00:27<00:00, 10.42it/s]\n"
     ]
    },
    {
     "name": "stdout",
     "output_type": "stream",
     "text": [
      "Loss1: 1.0319, Loss2: 0.4913, Loss3: 1.5448\n"
     ]
    },
    {
     "name": "stderr",
     "output_type": "stream",
     "text": [
      "Test_Loader: 100%|██████████| 288/288 [00:27<00:00, 10.44it/s]\n"
     ]
    },
    {
     "name": "stdout",
     "output_type": "stream",
     "text": [
      "Loss1: 1.0216, Loss2: 0.4959, Loss3: 1.5333\n"
     ]
    },
    {
     "name": "stderr",
     "output_type": "stream",
     "text": [
      "Test_Loader: 100%|██████████| 288/288 [00:28<00:00, 10.27it/s]\n"
     ]
    },
    {
     "name": "stdout",
     "output_type": "stream",
     "text": [
      "Loss1: 1.0560, Loss2: 0.5109, Loss3: 1.5386\n"
     ]
    },
    {
     "name": "stderr",
     "output_type": "stream",
     "text": [
      "Test_Loader: 100%|██████████| 288/288 [00:28<00:00, 10.24it/s]\n"
     ]
    },
    {
     "name": "stdout",
     "output_type": "stream",
     "text": [
      "Loss1: 1.0479, Loss2: 0.5229, Loss3: 1.5736\n"
     ]
    },
    {
     "name": "stderr",
     "output_type": "stream",
     "text": [
      "Test_Loader: 100%|██████████| 288/288 [00:27<00:00, 10.51it/s]\n"
     ]
    },
    {
     "name": "stdout",
     "output_type": "stream",
     "text": [
      "Loss1: 1.0478, Loss2: 0.5198, Loss3: 1.5391\n"
     ]
    },
    {
     "name": "stderr",
     "output_type": "stream",
     "text": [
      "Test_Loader: 100%|██████████| 288/288 [00:28<00:00, 10.06it/s]\n"
     ]
    },
    {
     "name": "stdout",
     "output_type": "stream",
     "text": [
      "Loss1: 1.0258, Loss2: 0.5257, Loss3: 1.4955\n"
     ]
    },
    {
     "name": "stderr",
     "output_type": "stream",
     "text": [
      "Test_Loader: 100%|██████████| 288/288 [00:30<00:00,  9.39it/s]\n"
     ]
    },
    {
     "name": "stdout",
     "output_type": "stream",
     "text": [
      "Loss1: 1.0228, Loss2: 0.5222, Loss3: 1.4974\n"
     ]
    },
    {
     "name": "stderr",
     "output_type": "stream",
     "text": [
      "Test_Loader: 100%|██████████| 288/288 [00:27<00:00, 10.65it/s]\n"
     ]
    },
    {
     "name": "stdout",
     "output_type": "stream",
     "text": [
      "Loss1: 1.0444, Loss2: 0.5475, Loss3: 1.5000\n"
     ]
    },
    {
     "name": "stderr",
     "output_type": "stream",
     "text": [
      "Test_Loader: 100%|██████████| 288/288 [00:26<00:00, 10.71it/s]\n"
     ]
    },
    {
     "name": "stdout",
     "output_type": "stream",
     "text": [
      "Loss1: 1.0512, Loss2: 0.5482, Loss3: 1.5084\n"
     ]
    },
    {
     "name": "stderr",
     "output_type": "stream",
     "text": [
      "Test_Loader: 100%|██████████| 288/288 [00:27<00:00, 10.51it/s]\n"
     ]
    },
    {
     "name": "stdout",
     "output_type": "stream",
     "text": [
      "Loss1: 1.0389, Loss2: 0.5555, Loss3: 1.4957\n"
     ]
    },
    {
     "name": "stderr",
     "output_type": "stream",
     "text": [
      "Test_Loader: 100%|██████████| 288/288 [00:27<00:00, 10.34it/s]\n"
     ]
    },
    {
     "name": "stdout",
     "output_type": "stream",
     "text": [
      "Loss1: 1.2572, Loss2: 0.7503, Loss3: 1.8261\n"
     ]
    },
    {
     "name": "stderr",
     "output_type": "stream",
     "text": [
      "Test_Loader: 100%|██████████| 288/288 [00:28<00:00, 10.11it/s]\n"
     ]
    },
    {
     "name": "stdout",
     "output_type": "stream",
     "text": [
      "Loss1: 1.2493, Loss2: 0.7552, Loss3: 1.7925\n"
     ]
    },
    {
     "name": "stderr",
     "output_type": "stream",
     "text": [
      "Test_Loader: 100%|██████████| 288/288 [00:28<00:00,  9.98it/s]\n"
     ]
    },
    {
     "name": "stdout",
     "output_type": "stream",
     "text": [
      "Loss1: 1.2487, Loss2: 0.7682, Loss3: 1.8020\n"
     ]
    },
    {
     "name": "stderr",
     "output_type": "stream",
     "text": [
      "Test_Loader: 100%|██████████| 288/288 [00:28<00:00, 10.06it/s]\n"
     ]
    },
    {
     "name": "stdout",
     "output_type": "stream",
     "text": [
      "Loss1: 1.3138, Loss2: 0.7745, Loss3: 1.7813\n"
     ]
    },
    {
     "name": "stderr",
     "output_type": "stream",
     "text": [
      "Test_Loader: 100%|██████████| 288/288 [00:27<00:00, 10.33it/s]\n"
     ]
    },
    {
     "name": "stdout",
     "output_type": "stream",
     "text": [
      "Loss1: 1.2673, Loss2: 0.7355, Loss3: 1.7565\n"
     ]
    },
    {
     "name": "stderr",
     "output_type": "stream",
     "text": [
      "Test_Loader: 100%|██████████| 288/288 [00:27<00:00, 10.32it/s]\n"
     ]
    },
    {
     "name": "stdout",
     "output_type": "stream",
     "text": [
      "Loss1: 1.2405, Loss2: 0.7332, Loss3: 1.7119\n"
     ]
    },
    {
     "name": "stderr",
     "output_type": "stream",
     "text": [
      "Test_Loader: 100%|██████████| 288/288 [00:27<00:00, 10.34it/s]\n"
     ]
    },
    {
     "name": "stdout",
     "output_type": "stream",
     "text": [
      "Loss1: 1.2057, Loss2: 0.7063, Loss3: 1.7102\n"
     ]
    },
    {
     "name": "stderr",
     "output_type": "stream",
     "text": [
      "Test_Loader: 100%|██████████| 288/288 [00:27<00:00, 10.36it/s]\n"
     ]
    },
    {
     "name": "stdout",
     "output_type": "stream",
     "text": [
      "Loss1: 1.2336, Loss2: 0.7217, Loss3: 1.6880\n"
     ]
    },
    {
     "name": "stderr",
     "output_type": "stream",
     "text": [
      "Test_Loader: 100%|██████████| 288/288 [00:27<00:00, 10.35it/s]\n"
     ]
    },
    {
     "name": "stdout",
     "output_type": "stream",
     "text": [
      "Loss1: 1.2024, Loss2: 0.6981, Loss3: 1.6831\n"
     ]
    },
    {
     "name": "stderr",
     "output_type": "stream",
     "text": [
      "Test_Loader: 100%|██████████| 288/288 [00:27<00:00, 10.42it/s]\n"
     ]
    },
    {
     "name": "stdout",
     "output_type": "stream",
     "text": [
      "Loss1: 1.2100, Loss2: 0.7055, Loss3: 1.6518\n"
     ]
    },
    {
     "name": "stderr",
     "output_type": "stream",
     "text": [
      "Test_Loader: 100%|██████████| 288/288 [00:26<00:00, 10.74it/s]\n"
     ]
    },
    {
     "name": "stdout",
     "output_type": "stream",
     "text": [
      "Loss1: 1.1768, Loss2: 0.6719, Loss3: 1.6414\n"
     ]
    },
    {
     "name": "stderr",
     "output_type": "stream",
     "text": [
      "Test_Loader: 100%|██████████| 288/288 [00:26<00:00, 10.80it/s]\n"
     ]
    },
    {
     "name": "stdout",
     "output_type": "stream",
     "text": [
      "Loss1: 1.1540, Loss2: 0.6682, Loss3: 1.6341\n"
     ]
    },
    {
     "name": "stderr",
     "output_type": "stream",
     "text": [
      "Test_Loader: 100%|██████████| 288/288 [00:27<00:00, 10.34it/s]\n"
     ]
    },
    {
     "name": "stdout",
     "output_type": "stream",
     "text": [
      "Loss1: 1.1436, Loss2: 0.6572, Loss3: 1.6034\n"
     ]
    },
    {
     "name": "stderr",
     "output_type": "stream",
     "text": [
      "Test_Loader: 100%|██████████| 288/288 [00:26<00:00, 10.67it/s]\n"
     ]
    },
    {
     "name": "stdout",
     "output_type": "stream",
     "text": [
      "Loss1: 1.1618, Loss2: 0.6716, Loss3: 1.6143\n"
     ]
    },
    {
     "name": "stderr",
     "output_type": "stream",
     "text": [
      "Test_Loader: 100%|██████████| 288/288 [00:27<00:00, 10.53it/s]\n"
     ]
    },
    {
     "name": "stdout",
     "output_type": "stream",
     "text": [
      "Loss1: 1.1498, Loss2: 0.6582, Loss3: 1.6189\n"
     ]
    },
    {
     "name": "stderr",
     "output_type": "stream",
     "text": [
      "Test_Loader: 100%|██████████| 288/288 [00:27<00:00, 10.40it/s]\n"
     ]
    },
    {
     "name": "stdout",
     "output_type": "stream",
     "text": [
      "Loss1: 1.1388, Loss2: 0.6444, Loss3: 1.6105\n"
     ]
    },
    {
     "name": "stderr",
     "output_type": "stream",
     "text": [
      "Test_Loader: 100%|██████████| 288/288 [00:27<00:00, 10.36it/s]\n"
     ]
    },
    {
     "name": "stdout",
     "output_type": "stream",
     "text": [
      "Loss1: 1.1327, Loss2: 0.6453, Loss3: 1.6077\n"
     ]
    },
    {
     "name": "stderr",
     "output_type": "stream",
     "text": [
      "Test_Loader: 100%|██████████| 288/288 [00:27<00:00, 10.37it/s]\n"
     ]
    },
    {
     "name": "stdout",
     "output_type": "stream",
     "text": [
      "Loss1: 1.1141, Loss2: 0.6424, Loss3: 1.5936\n"
     ]
    },
    {
     "name": "stderr",
     "output_type": "stream",
     "text": [
      "Test_Loader: 100%|██████████| 288/288 [00:27<00:00, 10.29it/s]\n"
     ]
    },
    {
     "name": "stdout",
     "output_type": "stream",
     "text": [
      "Loss1: 1.1246, Loss2: 0.6410, Loss3: 1.5834\n"
     ]
    },
    {
     "name": "stderr",
     "output_type": "stream",
     "text": [
      "Test_Loader: 100%|██████████| 288/288 [00:27<00:00, 10.30it/s]\n"
     ]
    },
    {
     "name": "stdout",
     "output_type": "stream",
     "text": [
      "Loss1: 1.1170, Loss2: 0.6310, Loss3: 1.5652\n"
     ]
    },
    {
     "name": "stderr",
     "output_type": "stream",
     "text": [
      "Test_Loader: 100%|██████████| 288/288 [00:27<00:00, 10.51it/s]\n"
     ]
    },
    {
     "name": "stdout",
     "output_type": "stream",
     "text": [
      "Loss1: 1.1289, Loss2: 0.6412, Loss3: 1.5526\n"
     ]
    },
    {
     "name": "stderr",
     "output_type": "stream",
     "text": [
      "Test_Loader: 100%|██████████| 288/288 [00:27<00:00, 10.37it/s]\n"
     ]
    },
    {
     "name": "stdout",
     "output_type": "stream",
     "text": [
      "Loss1: 1.1114, Loss2: 0.6278, Loss3: 1.5592\n"
     ]
    },
    {
     "name": "stderr",
     "output_type": "stream",
     "text": [
      "Test_Loader: 100%|██████████| 288/288 [00:29<00:00,  9.67it/s]\n"
     ]
    },
    {
     "name": "stdout",
     "output_type": "stream",
     "text": [
      "Loss1: 1.1184, Loss2: 0.6336, Loss3: 1.5594\n"
     ]
    },
    {
     "name": "stderr",
     "output_type": "stream",
     "text": [
      "Test_Loader: 100%|██████████| 288/288 [00:27<00:00, 10.52it/s]\n"
     ]
    },
    {
     "name": "stdout",
     "output_type": "stream",
     "text": [
      "Loss1: 1.1224, Loss2: 0.6297, Loss3: 1.5756\n"
     ]
    },
    {
     "name": "stderr",
     "output_type": "stream",
     "text": [
      "Test_Loader: 100%|██████████| 288/288 [00:27<00:00, 10.52it/s]\n"
     ]
    },
    {
     "name": "stdout",
     "output_type": "stream",
     "text": [
      "Loss1: 1.1356, Loss2: 0.6449, Loss3: 1.5636\n"
     ]
    },
    {
     "name": "stderr",
     "output_type": "stream",
     "text": [
      "Test_Loader: 100%|██████████| 288/288 [00:28<00:00, 10.20it/s]\n"
     ]
    },
    {
     "name": "stdout",
     "output_type": "stream",
     "text": [
      "Loss1: 1.1246, Loss2: 0.6396, Loss3: 1.5414\n"
     ]
    },
    {
     "name": "stderr",
     "output_type": "stream",
     "text": [
      "Test_Loader: 100%|██████████| 288/288 [00:28<00:00, 10.12it/s]\n"
     ]
    },
    {
     "name": "stdout",
     "output_type": "stream",
     "text": [
      "Loss1: 1.1064, Loss2: 0.6221, Loss3: 1.5288\n"
     ]
    },
    {
     "name": "stderr",
     "output_type": "stream",
     "text": [
      "Test_Loader: 100%|██████████| 288/288 [00:27<00:00, 10.54it/s]\n"
     ]
    },
    {
     "name": "stdout",
     "output_type": "stream",
     "text": [
      "Loss1: 1.1142, Loss2: 0.6282, Loss3: 1.5521\n"
     ]
    },
    {
     "name": "stderr",
     "output_type": "stream",
     "text": [
      "Test_Loader: 100%|██████████| 288/288 [00:27<00:00, 10.33it/s]\n"
     ]
    },
    {
     "name": "stdout",
     "output_type": "stream",
     "text": [
      "Loss1: 1.1044, Loss2: 0.6289, Loss3: 1.5398\n"
     ]
    },
    {
     "name": "stderr",
     "output_type": "stream",
     "text": [
      "Test_Loader: 100%|██████████| 288/288 [00:28<00:00, 10.22it/s]\n"
     ]
    },
    {
     "name": "stdout",
     "output_type": "stream",
     "text": [
      "Loss1: 1.0928, Loss2: 0.6119, Loss3: 1.5467\n"
     ]
    },
    {
     "name": "stderr",
     "output_type": "stream",
     "text": [
      "Test_Loader: 100%|██████████| 288/288 [00:27<00:00, 10.37it/s]\n"
     ]
    },
    {
     "name": "stdout",
     "output_type": "stream",
     "text": [
      "Loss1: 1.0915, Loss2: 0.6229, Loss3: 1.5248\n"
     ]
    },
    {
     "name": "stderr",
     "output_type": "stream",
     "text": [
      "Test_Loader: 100%|██████████| 288/288 [00:28<00:00, 10.16it/s]\n"
     ]
    },
    {
     "name": "stdout",
     "output_type": "stream",
     "text": [
      "Loss1: 1.0782, Loss2: 0.6140, Loss3: 1.5292\n"
     ]
    },
    {
     "name": "stderr",
     "output_type": "stream",
     "text": [
      "Test_Loader: 100%|██████████| 288/288 [00:27<00:00, 10.51it/s]\n"
     ]
    },
    {
     "name": "stdout",
     "output_type": "stream",
     "text": [
      "Loss1: 1.1039, Loss2: 0.6135, Loss3: 1.5256\n"
     ]
    },
    {
     "name": "stderr",
     "output_type": "stream",
     "text": [
      "Test_Loader: 100%|██████████| 288/288 [00:26<00:00, 10.73it/s]\n"
     ]
    },
    {
     "name": "stdout",
     "output_type": "stream",
     "text": [
      "Loss1: 1.1018, Loss2: 0.6013, Loss3: 1.5270\n"
     ]
    },
    {
     "name": "stderr",
     "output_type": "stream",
     "text": [
      "Test_Loader: 100%|██████████| 288/288 [00:31<00:00,  9.17it/s]\n"
     ]
    },
    {
     "name": "stdout",
     "output_type": "stream",
     "text": [
      "Loss1: 1.0889, Loss2: 0.6031, Loss3: 1.5180\n"
     ]
    },
    {
     "name": "stderr",
     "output_type": "stream",
     "text": [
      "Test_Loader: 100%|██████████| 288/288 [00:26<00:00, 10.83it/s]\n"
     ]
    },
    {
     "name": "stdout",
     "output_type": "stream",
     "text": [
      "Loss1: 1.0846, Loss2: 0.5963, Loss3: 1.5156\n"
     ]
    },
    {
     "name": "stderr",
     "output_type": "stream",
     "text": [
      "Test_Loader: 100%|██████████| 288/288 [00:26<00:00, 10.79it/s]\n"
     ]
    },
    {
     "name": "stdout",
     "output_type": "stream",
     "text": [
      "Loss1: 1.0742, Loss2: 0.6005, Loss3: 1.5120\n"
     ]
    },
    {
     "name": "stderr",
     "output_type": "stream",
     "text": [
      "Test_Loader: 100%|██████████| 288/288 [00:26<00:00, 10.81it/s]\n"
     ]
    },
    {
     "name": "stdout",
     "output_type": "stream",
     "text": [
      "Loss1: 1.0744, Loss2: 0.5926, Loss3: 1.5094\n"
     ]
    },
    {
     "name": "stderr",
     "output_type": "stream",
     "text": [
      "Test_Loader: 100%|██████████| 288/288 [00:26<00:00, 10.83it/s]\n"
     ]
    },
    {
     "name": "stdout",
     "output_type": "stream",
     "text": [
      "Loss1: 1.1537, Loss2: 0.6283, Loss3: 1.5378\n"
     ]
    },
    {
     "name": "stderr",
     "output_type": "stream",
     "text": [
      "Test_Loader: 100%|██████████| 288/288 [00:26<00:00, 10.78it/s]\n"
     ]
    },
    {
     "name": "stdout",
     "output_type": "stream",
     "text": [
      "Loss1: 1.1300, Loss2: 0.6176, Loss3: 1.5490\n"
     ]
    },
    {
     "name": "stderr",
     "output_type": "stream",
     "text": [
      "Test_Loader: 100%|██████████| 288/288 [00:27<00:00, 10.64it/s]\n"
     ]
    },
    {
     "name": "stdout",
     "output_type": "stream",
     "text": [
      "Loss1: 1.1114, Loss2: 0.6109, Loss3: 1.5403\n"
     ]
    },
    {
     "name": "stderr",
     "output_type": "stream",
     "text": [
      "Test_Loader: 100%|██████████| 288/288 [00:27<00:00, 10.29it/s]\n"
     ]
    },
    {
     "name": "stdout",
     "output_type": "stream",
     "text": [
      "Loss1: 1.1054, Loss2: 0.6051, Loss3: 1.5639\n"
     ]
    },
    {
     "name": "stderr",
     "output_type": "stream",
     "text": [
      "Test_Loader: 100%|██████████| 288/288 [00:27<00:00, 10.29it/s]\n"
     ]
    },
    {
     "name": "stdout",
     "output_type": "stream",
     "text": [
      "Loss1: 1.1160, Loss2: 0.6245, Loss3: 1.5654\n"
     ]
    },
    {
     "name": "stderr",
     "output_type": "stream",
     "text": [
      "Test_Loader: 100%|██████████| 288/288 [00:26<00:00, 10.73it/s]\n"
     ]
    },
    {
     "name": "stdout",
     "output_type": "stream",
     "text": [
      "Loss1: 1.1187, Loss2: 0.6237, Loss3: 1.5638\n"
     ]
    },
    {
     "name": "stderr",
     "output_type": "stream",
     "text": [
      "Test_Loader: 100%|██████████| 288/288 [00:28<00:00, 10.23it/s]\n"
     ]
    },
    {
     "name": "stdout",
     "output_type": "stream",
     "text": [
      "Loss1: 1.1276, Loss2: 0.6109, Loss3: 1.5242\n"
     ]
    },
    {
     "name": "stderr",
     "output_type": "stream",
     "text": [
      "Test_Loader: 100%|██████████| 288/288 [00:28<00:00, 10.11it/s]\n"
     ]
    },
    {
     "name": "stdout",
     "output_type": "stream",
     "text": [
      "Loss1: 1.1088, Loss2: 0.5952, Loss3: 1.5278\n"
     ]
    },
    {
     "name": "stderr",
     "output_type": "stream",
     "text": [
      "Test_Loader: 100%|██████████| 288/288 [00:27<00:00, 10.37it/s]\n"
     ]
    },
    {
     "name": "stdout",
     "output_type": "stream",
     "text": [
      "Loss1: 1.1228, Loss2: 0.6010, Loss3: 1.5363\n"
     ]
    },
    {
     "name": "stderr",
     "output_type": "stream",
     "text": [
      "Test_Loader: 100%|██████████| 288/288 [00:29<00:00,  9.86it/s]\n"
     ]
    },
    {
     "name": "stdout",
     "output_type": "stream",
     "text": [
      "Loss1: 1.1320, Loss2: 0.6108, Loss3: 1.6165\n"
     ]
    },
    {
     "name": "stderr",
     "output_type": "stream",
     "text": [
      "Test_Loader: 100%|██████████| 288/288 [00:29<00:00,  9.79it/s]\n"
     ]
    },
    {
     "name": "stdout",
     "output_type": "stream",
     "text": [
      "Loss1: 1.1257, Loss2: 0.5942, Loss3: 1.5576\n"
     ]
    },
    {
     "name": "stderr",
     "output_type": "stream",
     "text": [
      "Test_Loader: 100%|██████████| 288/288 [00:27<00:00, 10.39it/s]\n"
     ]
    },
    {
     "name": "stdout",
     "output_type": "stream",
     "text": [
      "Loss1: 1.1286, Loss2: 0.5906, Loss3: 1.5556\n"
     ]
    },
    {
     "name": "stderr",
     "output_type": "stream",
     "text": [
      "Test_Loader: 100%|██████████| 288/288 [00:27<00:00, 10.33it/s]\n"
     ]
    },
    {
     "name": "stdout",
     "output_type": "stream",
     "text": [
      "Loss1: 1.1805, Loss2: 0.5986, Loss3: 1.6614\n"
     ]
    },
    {
     "name": "stderr",
     "output_type": "stream",
     "text": [
      "Test_Loader: 100%|██████████| 288/288 [00:27<00:00, 10.45it/s]\n"
     ]
    },
    {
     "name": "stdout",
     "output_type": "stream",
     "text": [
      "Loss1: 1.1339, Loss2: 0.5747, Loss3: 1.6076\n"
     ]
    },
    {
     "name": "stderr",
     "output_type": "stream",
     "text": [
      "Test_Loader: 100%|██████████| 288/288 [00:28<00:00, 10.27it/s]\n"
     ]
    },
    {
     "name": "stdout",
     "output_type": "stream",
     "text": [
      "Loss1: 1.1513, Loss2: 0.5740, Loss3: 1.6114\n"
     ]
    },
    {
     "name": "stderr",
     "output_type": "stream",
     "text": [
      "Test_Loader: 100%|██████████| 288/288 [00:26<00:00, 10.72it/s]\n"
     ]
    },
    {
     "name": "stdout",
     "output_type": "stream",
     "text": [
      "Loss1: 1.1714, Loss2: 0.6233, Loss3: 1.7355\n"
     ]
    },
    {
     "name": "stderr",
     "output_type": "stream",
     "text": [
      "Test_Loader: 100%|██████████| 288/288 [00:28<00:00, 10.14it/s]\n"
     ]
    },
    {
     "name": "stdout",
     "output_type": "stream",
     "text": [
      "Loss1: 1.1973, Loss2: 0.6295, Loss3: 1.7149\n"
     ]
    },
    {
     "name": "stderr",
     "output_type": "stream",
     "text": [
      "Test_Loader: 100%|██████████| 288/288 [00:28<00:00, 10.16it/s]\n"
     ]
    },
    {
     "name": "stdout",
     "output_type": "stream",
     "text": [
      "Loss1: 1.1870, Loss2: 0.6266, Loss3: 1.6841\n"
     ]
    },
    {
     "name": "stderr",
     "output_type": "stream",
     "text": [
      "Test_Loader: 100%|██████████| 288/288 [00:27<00:00, 10.49it/s]\n"
     ]
    },
    {
     "name": "stdout",
     "output_type": "stream",
     "text": [
      "Loss1: 1.1993, Loss2: 0.6394, Loss3: 1.6798\n"
     ]
    },
    {
     "name": "stderr",
     "output_type": "stream",
     "text": [
      "Test_Loader: 100%|██████████| 288/288 [00:27<00:00, 10.39it/s]\n"
     ]
    },
    {
     "name": "stdout",
     "output_type": "stream",
     "text": [
      "Loss1: 1.1810, Loss2: 0.6340, Loss3: 1.7133\n"
     ]
    },
    {
     "name": "stderr",
     "output_type": "stream",
     "text": [
      "Test_Loader: 100%|██████████| 288/288 [00:27<00:00, 10.34it/s]\n"
     ]
    },
    {
     "name": "stdout",
     "output_type": "stream",
     "text": [
      "Loss1: 1.1707, Loss2: 0.6308, Loss3: 1.7143\n"
     ]
    },
    {
     "name": "stderr",
     "output_type": "stream",
     "text": [
      "Test_Loader: 100%|██████████| 288/288 [00:27<00:00, 10.51it/s]\n"
     ]
    },
    {
     "name": "stdout",
     "output_type": "stream",
     "text": [
      "Loss1: 1.1501, Loss2: 0.6263, Loss3: 1.6703\n"
     ]
    },
    {
     "name": "stderr",
     "output_type": "stream",
     "text": [
      "Test_Loader: 100%|██████████| 288/288 [00:28<00:00, 10.17it/s]\n"
     ]
    },
    {
     "name": "stdout",
     "output_type": "stream",
     "text": [
      "Loss1: 1.1549, Loss2: 0.6356, Loss3: 1.6506\n"
     ]
    },
    {
     "name": "stderr",
     "output_type": "stream",
     "text": [
      "Test_Loader: 100%|██████████| 288/288 [00:29<00:00,  9.82it/s]\n"
     ]
    },
    {
     "name": "stdout",
     "output_type": "stream",
     "text": [
      "Loss1: 1.1574, Loss2: 0.6263, Loss3: 1.6297\n"
     ]
    },
    {
     "name": "stderr",
     "output_type": "stream",
     "text": [
      "Test_Loader: 100%|██████████| 288/288 [00:27<00:00, 10.53it/s]\n"
     ]
    },
    {
     "name": "stdout",
     "output_type": "stream",
     "text": [
      "Loss1: 1.1427, Loss2: 0.6214, Loss3: 1.6575\n"
     ]
    },
    {
     "name": "stderr",
     "output_type": "stream",
     "text": [
      "Test_Loader: 100%|██████████| 288/288 [00:27<00:00, 10.57it/s]\n"
     ]
    },
    {
     "name": "stdout",
     "output_type": "stream",
     "text": [
      "Loss1: 1.1269, Loss2: 0.6104, Loss3: 1.6346\n"
     ]
    },
    {
     "name": "stderr",
     "output_type": "stream",
     "text": [
      "Test_Loader: 100%|██████████| 288/288 [00:27<00:00, 10.48it/s]\n"
     ]
    },
    {
     "name": "stdout",
     "output_type": "stream",
     "text": [
      "Loss1: 1.1214, Loss2: 0.6144, Loss3: 1.5964\n"
     ]
    },
    {
     "name": "stderr",
     "output_type": "stream",
     "text": [
      "Test_Loader: 100%|██████████| 288/288 [00:28<00:00, 10.05it/s]\n"
     ]
    },
    {
     "name": "stdout",
     "output_type": "stream",
     "text": [
      "Loss1: 1.1188, Loss2: 0.6111, Loss3: 1.6144\n"
     ]
    },
    {
     "name": "stderr",
     "output_type": "stream",
     "text": [
      "Test_Loader: 100%|██████████| 288/288 [00:28<00:00, 10.18it/s]\n"
     ]
    },
    {
     "name": "stdout",
     "output_type": "stream",
     "text": [
      "Loss1: 1.1191, Loss2: 0.6131, Loss3: 1.5934\n"
     ]
    },
    {
     "name": "stderr",
     "output_type": "stream",
     "text": [
      "Test_Loader: 100%|██████████| 288/288 [00:28<00:00, 10.04it/s]\n"
     ]
    },
    {
     "name": "stdout",
     "output_type": "stream",
     "text": [
      "Loss1: 1.1328, Loss2: 0.6097, Loss3: 1.5752\n"
     ]
    },
    {
     "name": "stderr",
     "output_type": "stream",
     "text": [
      "Test_Loader: 100%|██████████| 288/288 [00:28<00:00, 10.15it/s]\n"
     ]
    },
    {
     "name": "stdout",
     "output_type": "stream",
     "text": [
      "Loss1: 1.1135, Loss2: 0.6052, Loss3: 1.5862\n"
     ]
    },
    {
     "name": "stderr",
     "output_type": "stream",
     "text": [
      "Test_Loader: 100%|██████████| 288/288 [00:28<00:00, 10.09it/s]\n"
     ]
    },
    {
     "name": "stdout",
     "output_type": "stream",
     "text": [
      "Loss1: 1.1262, Loss2: 0.6032, Loss3: 1.5683\n"
     ]
    },
    {
     "name": "stderr",
     "output_type": "stream",
     "text": [
      "Test_Loader: 100%|██████████| 288/288 [00:28<00:00, 10.11it/s]\n"
     ]
    },
    {
     "name": "stdout",
     "output_type": "stream",
     "text": [
      "Loss1: 1.1119, Loss2: 0.5914, Loss3: 1.5629\n"
     ]
    },
    {
     "name": "stderr",
     "output_type": "stream",
     "text": [
      "Test_Loader: 100%|██████████| 288/288 [00:27<00:00, 10.40it/s]\n"
     ]
    },
    {
     "name": "stdout",
     "output_type": "stream",
     "text": [
      "Loss1: 1.1027, Loss2: 0.5779, Loss3: 1.5331\n"
     ]
    },
    {
     "name": "stderr",
     "output_type": "stream",
     "text": [
      "Test_Loader: 100%|██████████| 288/288 [00:28<00:00, 10.22it/s]\n"
     ]
    },
    {
     "name": "stdout",
     "output_type": "stream",
     "text": [
      "Loss1: 1.1078, Loss2: 0.5761, Loss3: 1.5286\n"
     ]
    },
    {
     "name": "stderr",
     "output_type": "stream",
     "text": [
      "Test_Loader: 100%|██████████| 288/288 [00:29<00:00,  9.61it/s]\n"
     ]
    },
    {
     "name": "stdout",
     "output_type": "stream",
     "text": [
      "Loss1: 1.1064, Loss2: 0.5759, Loss3: 1.5214\n"
     ]
    },
    {
     "name": "stderr",
     "output_type": "stream",
     "text": [
      "Test_Loader: 100%|██████████| 288/288 [00:28<00:00, 10.19it/s]\n"
     ]
    },
    {
     "name": "stdout",
     "output_type": "stream",
     "text": [
      "Loss1: 1.1086, Loss2: 0.5734, Loss3: 1.5207\n"
     ]
    },
    {
     "name": "stderr",
     "output_type": "stream",
     "text": [
      "Test_Loader: 100%|██████████| 288/288 [00:27<00:00, 10.61it/s]\n"
     ]
    },
    {
     "name": "stdout",
     "output_type": "stream",
     "text": [
      "Loss1: 1.1303, Loss2: 0.5816, Loss3: 1.5534\n"
     ]
    },
    {
     "name": "stderr",
     "output_type": "stream",
     "text": [
      "Test_Loader: 100%|██████████| 288/288 [00:27<00:00, 10.66it/s]\n"
     ]
    },
    {
     "name": "stdout",
     "output_type": "stream",
     "text": [
      "Loss1: 1.1256, Loss2: 0.5837, Loss3: 1.5601\n"
     ]
    },
    {
     "name": "stderr",
     "output_type": "stream",
     "text": [
      "Test_Loader: 100%|██████████| 288/288 [00:29<00:00,  9.71it/s]\n"
     ]
    },
    {
     "name": "stdout",
     "output_type": "stream",
     "text": [
      "Loss1: 1.1077, Loss2: 0.5702, Loss3: 1.5307\n"
     ]
    },
    {
     "name": "stderr",
     "output_type": "stream",
     "text": [
      "Test_Loader: 100%|██████████| 288/288 [00:27<00:00, 10.36it/s]\n"
     ]
    },
    {
     "name": "stdout",
     "output_type": "stream",
     "text": [
      "Loss1: 1.0856, Loss2: 0.5684, Loss3: 1.4649\n"
     ]
    },
    {
     "name": "stderr",
     "output_type": "stream",
     "text": [
      "Test_Loader: 100%|██████████| 288/288 [00:28<00:00, 10.23it/s]\n"
     ]
    },
    {
     "name": "stdout",
     "output_type": "stream",
     "text": [
      "Loss1: 1.0608, Loss2: 0.5695, Loss3: 1.4328\n"
     ]
    },
    {
     "name": "stderr",
     "output_type": "stream",
     "text": [
      "Test_Loader: 100%|██████████| 288/288 [00:28<00:00, 10.05it/s]\n"
     ]
    },
    {
     "name": "stdout",
     "output_type": "stream",
     "text": [
      "Loss1: 1.1037, Loss2: 0.5722, Loss3: 1.4466\n"
     ]
    },
    {
     "name": "stderr",
     "output_type": "stream",
     "text": [
      "Test_Loader: 100%|██████████| 288/288 [00:28<00:00, 10.15it/s]\n"
     ]
    },
    {
     "name": "stdout",
     "output_type": "stream",
     "text": [
      "Loss1: 1.0401, Loss2: 0.5485, Loss3: 1.4253\n"
     ]
    },
    {
     "name": "stderr",
     "output_type": "stream",
     "text": [
      "Test_Loader: 100%|██████████| 288/288 [00:28<00:00, 10.13it/s]\n"
     ]
    },
    {
     "name": "stdout",
     "output_type": "stream",
     "text": [
      "Loss1: 1.0791, Loss2: 0.5571, Loss3: 1.4743\n"
     ]
    },
    {
     "name": "stderr",
     "output_type": "stream",
     "text": [
      "Test_Loader: 100%|██████████| 288/288 [00:28<00:00, 10.20it/s]\n"
     ]
    },
    {
     "name": "stdout",
     "output_type": "stream",
     "text": [
      "Loss1: 1.0786, Loss2: 0.5616, Loss3: 1.4899\n"
     ]
    },
    {
     "name": "stderr",
     "output_type": "stream",
     "text": [
      "Test_Loader: 100%|██████████| 288/288 [00:27<00:00, 10.57it/s]\n"
     ]
    },
    {
     "name": "stdout",
     "output_type": "stream",
     "text": [
      "Loss1: 1.0709, Loss2: 0.5642, Loss3: 1.4595\n"
     ]
    },
    {
     "name": "stderr",
     "output_type": "stream",
     "text": [
      "Test_Loader: 100%|██████████| 288/288 [00:27<00:00, 10.38it/s]\n"
     ]
    },
    {
     "name": "stdout",
     "output_type": "stream",
     "text": [
      "Loss1: 1.0389, Loss2: 0.5560, Loss3: 1.4142\n"
     ]
    },
    {
     "name": "stderr",
     "output_type": "stream",
     "text": [
      "Test_Loader: 100%|██████████| 288/288 [00:30<00:00,  9.43it/s]\n"
     ]
    },
    {
     "name": "stdout",
     "output_type": "stream",
     "text": [
      "Loss1: 1.0283, Loss2: 0.5515, Loss3: 1.4072\n"
     ]
    },
    {
     "name": "stderr",
     "output_type": "stream",
     "text": [
      "Test_Loader: 100%|██████████| 288/288 [00:27<00:00, 10.33it/s]\n"
     ]
    },
    {
     "name": "stdout",
     "output_type": "stream",
     "text": [
      "Loss1: 1.0310, Loss2: 0.5498, Loss3: 1.4031\n"
     ]
    },
    {
     "name": "stderr",
     "output_type": "stream",
     "text": [
      "Test_Loader: 100%|██████████| 288/288 [00:28<00:00, 10.24it/s]\n"
     ]
    },
    {
     "name": "stdout",
     "output_type": "stream",
     "text": [
      "Loss1: 1.0109, Loss2: 0.5526, Loss3: 1.3974\n"
     ]
    },
    {
     "name": "stderr",
     "output_type": "stream",
     "text": [
      "Test_Loader: 100%|██████████| 288/288 [00:28<00:00, 10.09it/s]\n"
     ]
    },
    {
     "name": "stdout",
     "output_type": "stream",
     "text": [
      "Loss1: 1.0038, Loss2: 0.5431, Loss3: 1.3535\n"
     ]
    },
    {
     "name": "stderr",
     "output_type": "stream",
     "text": [
      "Test_Loader: 100%|██████████| 288/288 [00:28<00:00, 10.14it/s]\n"
     ]
    },
    {
     "name": "stdout",
     "output_type": "stream",
     "text": [
      "Loss1: 1.0061, Loss2: 0.5361, Loss3: 1.3320\n"
     ]
    },
    {
     "name": "stderr",
     "output_type": "stream",
     "text": [
      "Test_Loader: 100%|██████████| 288/288 [00:27<00:00, 10.37it/s]\n"
     ]
    },
    {
     "name": "stdout",
     "output_type": "stream",
     "text": [
      "Loss1: 0.9880, Loss2: 0.5271, Loss3: 1.3405\n"
     ]
    },
    {
     "name": "stderr",
     "output_type": "stream",
     "text": [
      "Test_Loader: 100%|██████████| 288/288 [00:28<00:00, 10.02it/s]\n"
     ]
    },
    {
     "name": "stdout",
     "output_type": "stream",
     "text": [
      "Loss1: 1.0037, Loss2: 0.5368, Loss3: 1.3399\n"
     ]
    },
    {
     "name": "stderr",
     "output_type": "stream",
     "text": [
      "Test_Loader: 100%|██████████| 288/288 [00:28<00:00,  9.95it/s]\n"
     ]
    },
    {
     "name": "stdout",
     "output_type": "stream",
     "text": [
      "Loss1: 0.9848, Loss2: 0.5448, Loss3: 1.3527\n"
     ]
    },
    {
     "name": "stderr",
     "output_type": "stream",
     "text": [
      "Test_Loader: 100%|██████████| 288/288 [00:28<00:00, 10.14it/s]\n"
     ]
    },
    {
     "name": "stdout",
     "output_type": "stream",
     "text": [
      "Loss1: 0.9711, Loss2: 0.5426, Loss3: 1.3632\n"
     ]
    },
    {
     "name": "stderr",
     "output_type": "stream",
     "text": [
      "Test_Loader: 100%|██████████| 288/288 [00:28<00:00, 10.13it/s]\n"
     ]
    },
    {
     "name": "stdout",
     "output_type": "stream",
     "text": [
      "Loss1: 0.9713, Loss2: 0.5404, Loss3: 1.3398\n"
     ]
    },
    {
     "name": "stderr",
     "output_type": "stream",
     "text": [
      "Test_Loader: 100%|██████████| 288/288 [00:27<00:00, 10.54it/s]\n"
     ]
    },
    {
     "name": "stdout",
     "output_type": "stream",
     "text": [
      "Loss1: 0.9078, Loss2: 0.4730, Loss3: 1.2302\n"
     ]
    },
    {
     "name": "stderr",
     "output_type": "stream",
     "text": [
      "Test_Loader: 100%|██████████| 288/288 [00:26<00:00, 10.76it/s]\n"
     ]
    },
    {
     "name": "stdout",
     "output_type": "stream",
     "text": [
      "Loss1: 0.9108, Loss2: 0.4697, Loss3: 1.2064\n"
     ]
    },
    {
     "name": "stderr",
     "output_type": "stream",
     "text": [
      "Test_Loader: 100%|██████████| 288/288 [00:28<00:00,  9.99it/s]\n"
     ]
    },
    {
     "name": "stdout",
     "output_type": "stream",
     "text": [
      "Loss1: 0.8978, Loss2: 0.4687, Loss3: 1.1964\n"
     ]
    },
    {
     "name": "stderr",
     "output_type": "stream",
     "text": [
      "Test_Loader: 100%|██████████| 288/288 [00:29<00:00,  9.71it/s]\n"
     ]
    },
    {
     "name": "stdout",
     "output_type": "stream",
     "text": [
      "Loss1: 0.8735, Loss2: 0.4675, Loss3: 1.2077\n"
     ]
    },
    {
     "name": "stderr",
     "output_type": "stream",
     "text": [
      "Test_Loader: 100%|██████████| 288/288 [00:26<00:00, 10.90it/s]\n"
     ]
    },
    {
     "name": "stdout",
     "output_type": "stream",
     "text": [
      "Loss1: 0.8839, Loss2: 0.4630, Loss3: 1.2120\n"
     ]
    },
    {
     "name": "stderr",
     "output_type": "stream",
     "text": [
      "Test_Loader: 100%|██████████| 288/288 [00:26<00:00, 10.87it/s]\n"
     ]
    },
    {
     "name": "stdout",
     "output_type": "stream",
     "text": [
      "Loss1: 0.8845, Loss2: 0.4702, Loss3: 1.2098\n"
     ]
    },
    {
     "name": "stderr",
     "output_type": "stream",
     "text": [
      "Test_Loader: 100%|██████████| 288/288 [00:26<00:00, 10.73it/s]\n"
     ]
    },
    {
     "name": "stdout",
     "output_type": "stream",
     "text": [
      "Loss1: 0.8646, Loss2: 0.4674, Loss3: 1.2023\n"
     ]
    },
    {
     "name": "stderr",
     "output_type": "stream",
     "text": [
      "Test_Loader: 100%|██████████| 288/288 [00:27<00:00, 10.66it/s]\n"
     ]
    },
    {
     "name": "stdout",
     "output_type": "stream",
     "text": [
      "Loss1: 0.8551, Loss2: 0.4612, Loss3: 1.1810\n"
     ]
    },
    {
     "name": "stderr",
     "output_type": "stream",
     "text": [
      "Test_Loader: 100%|██████████| 288/288 [00:27<00:00, 10.51it/s]\n"
     ]
    },
    {
     "name": "stdout",
     "output_type": "stream",
     "text": [
      "Loss1: 0.8596, Loss2: 0.4590, Loss3: 1.1831\n"
     ]
    },
    {
     "name": "stderr",
     "output_type": "stream",
     "text": [
      "Test_Loader: 100%|██████████| 288/288 [00:28<00:00, 10.05it/s]\n"
     ]
    },
    {
     "name": "stdout",
     "output_type": "stream",
     "text": [
      "Loss1: 0.8547, Loss2: 0.4524, Loss3: 1.1730\n"
     ]
    },
    {
     "name": "stderr",
     "output_type": "stream",
     "text": [
      "Test_Loader: 100%|██████████| 288/288 [00:28<00:00,  9.98it/s]\n"
     ]
    },
    {
     "name": "stdout",
     "output_type": "stream",
     "text": [
      "Loss1: 0.8496, Loss2: 0.4544, Loss3: 1.1636\n"
     ]
    },
    {
     "name": "stderr",
     "output_type": "stream",
     "text": [
      "Test_Loader: 100%|██████████| 288/288 [00:27<00:00, 10.34it/s]\n"
     ]
    },
    {
     "name": "stdout",
     "output_type": "stream",
     "text": [
      "Loss1: 0.8337, Loss2: 0.4536, Loss3: 1.1497\n"
     ]
    },
    {
     "name": "stderr",
     "output_type": "stream",
     "text": [
      "Test_Loader: 100%|██████████| 288/288 [00:28<00:00, 10.03it/s]\n"
     ]
    },
    {
     "name": "stdout",
     "output_type": "stream",
     "text": [
      "Loss1: 0.8510, Loss2: 0.4508, Loss3: 1.1410\n"
     ]
    },
    {
     "name": "stderr",
     "output_type": "stream",
     "text": [
      "Test_Loader: 100%|██████████| 288/288 [00:27<00:00, 10.29it/s]\n"
     ]
    },
    {
     "name": "stdout",
     "output_type": "stream",
     "text": [
      "Loss1: 0.8311, Loss2: 0.4471, Loss3: 1.1312\n"
     ]
    },
    {
     "name": "stderr",
     "output_type": "stream",
     "text": [
      "Test_Loader: 100%|██████████| 288/288 [00:27<00:00, 10.43it/s]\n"
     ]
    },
    {
     "name": "stdout",
     "output_type": "stream",
     "text": [
      "Loss1: 0.8317, Loss2: 0.4451, Loss3: 1.1070\n"
     ]
    },
    {
     "name": "stderr",
     "output_type": "stream",
     "text": [
      "Test_Loader: 100%|██████████| 288/288 [00:27<00:00, 10.46it/s]\n"
     ]
    },
    {
     "name": "stdout",
     "output_type": "stream",
     "text": [
      "Loss1: 0.8318, Loss2: 0.4425, Loss3: 1.0970\n"
     ]
    },
    {
     "name": "stderr",
     "output_type": "stream",
     "text": [
      "Test_Loader: 100%|██████████| 288/288 [00:29<00:00,  9.67it/s]\n"
     ]
    },
    {
     "name": "stdout",
     "output_type": "stream",
     "text": [
      "Loss1: 0.8574, Loss2: 0.4410, Loss3: 1.1044\n"
     ]
    },
    {
     "name": "stderr",
     "output_type": "stream",
     "text": [
      "Test_Loader: 100%|██████████| 288/288 [00:27<00:00, 10.45it/s]\n"
     ]
    },
    {
     "name": "stdout",
     "output_type": "stream",
     "text": [
      "Loss1: 0.8468, Loss2: 0.4369, Loss3: 1.0983\n"
     ]
    },
    {
     "name": "stderr",
     "output_type": "stream",
     "text": [
      "Test_Loader: 100%|██████████| 288/288 [00:27<00:00, 10.45it/s]\n"
     ]
    },
    {
     "name": "stdout",
     "output_type": "stream",
     "text": [
      "Loss1: 0.8630, Loss2: 0.4406, Loss3: 1.0954\n"
     ]
    },
    {
     "name": "stderr",
     "output_type": "stream",
     "text": [
      "Test_Loader: 100%|██████████| 288/288 [00:28<00:00, 10.23it/s]\n"
     ]
    },
    {
     "name": "stdout",
     "output_type": "stream",
     "text": [
      "Loss1: 0.8604, Loss2: 0.4414, Loss3: 1.0937\n"
     ]
    },
    {
     "name": "stderr",
     "output_type": "stream",
     "text": [
      "Test_Loader: 100%|██████████| 288/288 [00:28<00:00, 10.25it/s]\n"
     ]
    },
    {
     "name": "stdout",
     "output_type": "stream",
     "text": [
      "Loss1: 0.8519, Loss2: 0.4368, Loss3: 1.0843\n"
     ]
    },
    {
     "name": "stderr",
     "output_type": "stream",
     "text": [
      "Test_Loader: 100%|██████████| 288/288 [00:27<00:00, 10.42it/s]\n"
     ]
    },
    {
     "name": "stdout",
     "output_type": "stream",
     "text": [
      "Loss1: 0.8509, Loss2: 0.4350, Loss3: 1.0828\n"
     ]
    },
    {
     "name": "stderr",
     "output_type": "stream",
     "text": [
      "Test_Loader: 100%|██████████| 288/288 [00:28<00:00,  9.94it/s]\n"
     ]
    },
    {
     "name": "stdout",
     "output_type": "stream",
     "text": [
      "Loss1: 0.8359, Loss2: 0.4240, Loss3: 1.0535\n"
     ]
    },
    {
     "name": "stderr",
     "output_type": "stream",
     "text": [
      "Test_Loader: 100%|██████████| 288/288 [00:28<00:00, 10.05it/s]\n"
     ]
    },
    {
     "name": "stdout",
     "output_type": "stream",
     "text": [
      "Loss1: 0.8227, Loss2: 0.4215, Loss3: 1.0540\n"
     ]
    },
    {
     "name": "stderr",
     "output_type": "stream",
     "text": [
      "Test_Loader: 100%|██████████| 288/288 [00:28<00:00, 10.13it/s]\n"
     ]
    },
    {
     "name": "stdout",
     "output_type": "stream",
     "text": [
      "Loss1: 0.8189, Loss2: 0.4231, Loss3: 1.0492\n"
     ]
    },
    {
     "name": "stderr",
     "output_type": "stream",
     "text": [
      "Test_Loader: 100%|██████████| 288/288 [00:28<00:00, 10.13it/s]\n"
     ]
    },
    {
     "name": "stdout",
     "output_type": "stream",
     "text": [
      "Loss1: 0.8276, Loss2: 0.4200, Loss3: 1.0506\n"
     ]
    },
    {
     "name": "stderr",
     "output_type": "stream",
     "text": [
      "Test_Loader: 100%|██████████| 288/288 [00:27<00:00, 10.43it/s]\n"
     ]
    },
    {
     "name": "stdout",
     "output_type": "stream",
     "text": [
      "Loss1: 0.8245, Loss2: 0.4244, Loss3: 1.0545\n"
     ]
    },
    {
     "name": "stderr",
     "output_type": "stream",
     "text": [
      "Test_Loader: 100%|██████████| 288/288 [00:28<00:00, 10.19it/s]\n"
     ]
    },
    {
     "name": "stdout",
     "output_type": "stream",
     "text": [
      "Loss1: 0.8419, Loss2: 0.4232, Loss3: 1.0745\n"
     ]
    },
    {
     "name": "stderr",
     "output_type": "stream",
     "text": [
      "Test_Loader: 100%|██████████| 288/288 [00:28<00:00,  9.98it/s]\n"
     ]
    },
    {
     "name": "stdout",
     "output_type": "stream",
     "text": [
      "Loss1: 0.8349, Loss2: 0.4201, Loss3: 1.0590\n"
     ]
    },
    {
     "name": "stderr",
     "output_type": "stream",
     "text": [
      "Test_Loader: 100%|██████████| 288/288 [00:29<00:00,  9.93it/s]\n"
     ]
    },
    {
     "name": "stdout",
     "output_type": "stream",
     "text": [
      "Loss1: 0.8453, Loss2: 0.4247, Loss3: 1.0634\n"
     ]
    },
    {
     "name": "stderr",
     "output_type": "stream",
     "text": [
      "Test_Loader: 100%|██████████| 288/288 [00:27<00:00, 10.53it/s]\n"
     ]
    },
    {
     "name": "stdout",
     "output_type": "stream",
     "text": [
      "Loss1: 0.8406, Loss2: 0.4269, Loss3: 1.0622\n"
     ]
    },
    {
     "name": "stderr",
     "output_type": "stream",
     "text": [
      "Test_Loader: 100%|██████████| 288/288 [00:27<00:00, 10.55it/s]\n"
     ]
    },
    {
     "name": "stdout",
     "output_type": "stream",
     "text": [
      "Loss1: 0.8400, Loss2: 0.4261, Loss3: 1.0537\n"
     ]
    },
    {
     "name": "stderr",
     "output_type": "stream",
     "text": [
      "Test_Loader: 100%|██████████| 288/288 [00:27<00:00, 10.30it/s]\n"
     ]
    },
    {
     "name": "stdout",
     "output_type": "stream",
     "text": [
      "Loss1: 0.8334, Loss2: 0.4136, Loss3: 1.0459\n"
     ]
    },
    {
     "name": "stderr",
     "output_type": "stream",
     "text": [
      "Test_Loader: 100%|██████████| 288/288 [00:28<00:00, 10.18it/s]\n"
     ]
    },
    {
     "name": "stdout",
     "output_type": "stream",
     "text": [
      "Loss1: 0.8348, Loss2: 0.4138, Loss3: 1.0383\n"
     ]
    },
    {
     "name": "stderr",
     "output_type": "stream",
     "text": [
      "Test_Loader: 100%|██████████| 288/288 [00:27<00:00, 10.39it/s]\n"
     ]
    },
    {
     "name": "stdout",
     "output_type": "stream",
     "text": [
      "Loss1: 0.8477, Loss2: 0.4138, Loss3: 1.0845\n"
     ]
    },
    {
     "name": "stderr",
     "output_type": "stream",
     "text": [
      "Test_Loader: 100%|██████████| 288/288 [00:28<00:00, 10.05it/s]\n"
     ]
    },
    {
     "name": "stdout",
     "output_type": "stream",
     "text": [
      "Loss1: 0.8868, Loss2: 0.4566, Loss3: 1.3289\n"
     ]
    },
    {
     "name": "stderr",
     "output_type": "stream",
     "text": [
      "Test_Loader: 100%|██████████| 288/288 [00:28<00:00, 10.17it/s]\n"
     ]
    },
    {
     "name": "stdout",
     "output_type": "stream",
     "text": [
      "Loss1: 0.8868, Loss2: 0.4573, Loss3: 1.3168\n"
     ]
    },
    {
     "name": "stderr",
     "output_type": "stream",
     "text": [
      "Test_Loader: 100%|██████████| 288/288 [00:28<00:00, 10.22it/s]\n"
     ]
    },
    {
     "name": "stdout",
     "output_type": "stream",
     "text": [
      "Loss1: 0.8775, Loss2: 0.4547, Loss3: 1.3229\n"
     ]
    },
    {
     "name": "stderr",
     "output_type": "stream",
     "text": [
      "Test_Loader: 100%|██████████| 288/288 [00:28<00:00, 10.17it/s]\n"
     ]
    },
    {
     "name": "stdout",
     "output_type": "stream",
     "text": [
      "Loss1: 0.8435, Loss2: 0.4268, Loss3: 1.2907\n"
     ]
    },
    {
     "name": "stderr",
     "output_type": "stream",
     "text": [
      "Test_Loader: 100%|██████████| 288/288 [00:28<00:00, 10.26it/s]\n"
     ]
    },
    {
     "name": "stdout",
     "output_type": "stream",
     "text": [
      "Loss1: 0.8381, Loss2: 0.4224, Loss3: 1.2720\n"
     ]
    },
    {
     "name": "stderr",
     "output_type": "stream",
     "text": [
      "Test_Loader: 100%|██████████| 288/288 [00:28<00:00, 10.16it/s]\n"
     ]
    },
    {
     "name": "stdout",
     "output_type": "stream",
     "text": [
      "Loss1: 0.8294, Loss2: 0.4214, Loss3: 1.2718\n"
     ]
    },
    {
     "name": "stderr",
     "output_type": "stream",
     "text": [
      "Test_Loader: 100%|██████████| 288/288 [00:29<00:00,  9.85it/s]\n"
     ]
    },
    {
     "name": "stdout",
     "output_type": "stream",
     "text": [
      "Loss1: 0.8292, Loss2: 0.4220, Loss3: 1.2590\n"
     ]
    },
    {
     "name": "stderr",
     "output_type": "stream",
     "text": [
      "Test_Loader: 100%|██████████| 288/288 [00:27<00:00, 10.43it/s]\n"
     ]
    },
    {
     "name": "stdout",
     "output_type": "stream",
     "text": [
      "Loss1: 0.8201, Loss2: 0.4169, Loss3: 1.2475\n"
     ]
    },
    {
     "name": "stderr",
     "output_type": "stream",
     "text": [
      "Test_Loader: 100%|██████████| 288/288 [00:27<00:00, 10.64it/s]\n"
     ]
    },
    {
     "name": "stdout",
     "output_type": "stream",
     "text": [
      "Loss1: 0.9998, Loss2: 0.5682, Loss3: 2.0525\n"
     ]
    },
    {
     "name": "stderr",
     "output_type": "stream",
     "text": [
      "Test_Loader: 100%|██████████| 288/288 [00:27<00:00, 10.57it/s]\n"
     ]
    },
    {
     "name": "stdout",
     "output_type": "stream",
     "text": [
      "Loss1: 1.0482, Loss2: 0.5701, Loss3: 2.0702\n"
     ]
    },
    {
     "name": "stderr",
     "output_type": "stream",
     "text": [
      "Test_Loader: 100%|██████████| 288/288 [00:28<00:00,  9.99it/s]\n"
     ]
    },
    {
     "name": "stdout",
     "output_type": "stream",
     "text": [
      "Loss1: 1.0716, Loss2: 0.5859, Loss3: 2.0466\n"
     ]
    },
    {
     "name": "stderr",
     "output_type": "stream",
     "text": [
      "Test_Loader: 100%|██████████| 288/288 [00:28<00:00, 10.05it/s]\n"
     ]
    },
    {
     "name": "stdout",
     "output_type": "stream",
     "text": [
      "Loss1: 1.0900, Loss2: 0.5889, Loss3: 2.1240\n"
     ]
    },
    {
     "name": "stderr",
     "output_type": "stream",
     "text": [
      "Test_Loader: 100%|██████████| 288/288 [00:27<00:00, 10.30it/s]\n"
     ]
    },
    {
     "name": "stdout",
     "output_type": "stream",
     "text": [
      "Loss1: 1.0909, Loss2: 0.5908, Loss3: 2.1277\n"
     ]
    },
    {
     "name": "stderr",
     "output_type": "stream",
     "text": [
      "Test_Loader: 100%|██████████| 288/288 [00:28<00:00, 10.13it/s]\n"
     ]
    },
    {
     "name": "stdout",
     "output_type": "stream",
     "text": [
      "Loss1: 1.0937, Loss2: 0.5811, Loss3: 2.0443\n"
     ]
    },
    {
     "name": "stderr",
     "output_type": "stream",
     "text": [
      "Test_Loader: 100%|██████████| 288/288 [00:28<00:00, 10.19it/s]\n"
     ]
    },
    {
     "name": "stdout",
     "output_type": "stream",
     "text": [
      "Loss1: 1.1224, Loss2: 0.5894, Loss3: 2.0611\n"
     ]
    },
    {
     "name": "stderr",
     "output_type": "stream",
     "text": [
      "Test_Loader: 100%|██████████| 288/288 [00:28<00:00, 10.16it/s]\n"
     ]
    },
    {
     "name": "stdout",
     "output_type": "stream",
     "text": [
      "Loss1: 1.0682, Loss2: 0.5778, Loss3: 1.9374\n"
     ]
    },
    {
     "name": "stderr",
     "output_type": "stream",
     "text": [
      "Test_Loader: 100%|██████████| 288/288 [00:28<00:00, 10.23it/s]\n"
     ]
    },
    {
     "name": "stdout",
     "output_type": "stream",
     "text": [
      "Loss1: 1.0559, Loss2: 0.5683, Loss3: 1.8991\n"
     ]
    },
    {
     "name": "stderr",
     "output_type": "stream",
     "text": [
      "Test_Loader: 100%|██████████| 288/288 [00:27<00:00, 10.59it/s]\n"
     ]
    },
    {
     "name": "stdout",
     "output_type": "stream",
     "text": [
      "Loss1: 1.0397, Loss2: 0.5612, Loss3: 1.8818\n"
     ]
    },
    {
     "name": "stderr",
     "output_type": "stream",
     "text": [
      "Test_Loader: 100%|██████████| 288/288 [00:27<00:00, 10.37it/s]\n"
     ]
    },
    {
     "name": "stdout",
     "output_type": "stream",
     "text": [
      "Loss1: 1.0308, Loss2: 0.5207, Loss3: 1.8487\n"
     ]
    },
    {
     "name": "stderr",
     "output_type": "stream",
     "text": [
      "Test_Loader: 100%|██████████| 288/288 [00:29<00:00,  9.88it/s]\n"
     ]
    },
    {
     "name": "stdout",
     "output_type": "stream",
     "text": [
      "Loss1: 1.0098, Loss2: 0.5148, Loss3: 1.8271\n"
     ]
    },
    {
     "name": "stderr",
     "output_type": "stream",
     "text": [
      "Test_Loader: 100%|██████████| 288/288 [00:27<00:00, 10.37it/s]\n"
     ]
    },
    {
     "name": "stdout",
     "output_type": "stream",
     "text": [
      "Loss1: 1.0026, Loss2: 0.5062, Loss3: 1.8277\n"
     ]
    },
    {
     "name": "stderr",
     "output_type": "stream",
     "text": [
      "Test_Loader: 100%|██████████| 288/288 [00:27<00:00, 10.52it/s]\n"
     ]
    },
    {
     "name": "stdout",
     "output_type": "stream",
     "text": [
      "Loss1: 0.9872, Loss2: 0.4933, Loss3: 1.7699\n"
     ]
    },
    {
     "name": "stderr",
     "output_type": "stream",
     "text": [
      "Test_Loader: 100%|██████████| 288/288 [00:27<00:00, 10.37it/s]\n"
     ]
    },
    {
     "name": "stdout",
     "output_type": "stream",
     "text": [
      "Loss1: 0.9653, Loss2: 0.4835, Loss3: 1.7503\n"
     ]
    },
    {
     "name": "stderr",
     "output_type": "stream",
     "text": [
      "Test_Loader: 100%|██████████| 288/288 [00:28<00:00, 10.22it/s]\n"
     ]
    },
    {
     "name": "stdout",
     "output_type": "stream",
     "text": [
      "Loss1: 0.9693, Loss2: 0.4800, Loss3: 1.7456\n"
     ]
    },
    {
     "name": "stderr",
     "output_type": "stream",
     "text": [
      "Test_Loader: 100%|██████████| 288/288 [00:28<00:00, 10.21it/s]\n"
     ]
    },
    {
     "name": "stdout",
     "output_type": "stream",
     "text": [
      "Loss1: 1.0215, Loss2: 0.4905, Loss3: 1.7776\n"
     ]
    },
    {
     "name": "stderr",
     "output_type": "stream",
     "text": [
      "Test_Loader: 100%|██████████| 288/288 [00:27<00:00, 10.41it/s]\n"
     ]
    },
    {
     "name": "stdout",
     "output_type": "stream",
     "text": [
      "Loss1: 1.0024, Loss2: 0.4837, Loss3: 1.7716\n"
     ]
    },
    {
     "name": "stderr",
     "output_type": "stream",
     "text": [
      "Test_Loader: 100%|██████████| 288/288 [00:27<00:00, 10.36it/s]\n"
     ]
    },
    {
     "name": "stdout",
     "output_type": "stream",
     "text": [
      "Loss1: 1.0340, Loss2: 0.4914, Loss3: 1.7645\n"
     ]
    },
    {
     "name": "stderr",
     "output_type": "stream",
     "text": [
      "Test_Loader: 100%|██████████| 288/288 [00:28<00:00, 10.26it/s]\n"
     ]
    },
    {
     "name": "stdout",
     "output_type": "stream",
     "text": [
      "Loss1: 1.0260, Loss2: 0.4868, Loss3: 1.7654\n"
     ]
    },
    {
     "name": "stderr",
     "output_type": "stream",
     "text": [
      "Test_Loader: 100%|██████████| 288/288 [00:27<00:00, 10.41it/s]\n"
     ]
    },
    {
     "name": "stdout",
     "output_type": "stream",
     "text": [
      "Loss1: 1.0117, Loss2: 0.4870, Loss3: 1.7446\n"
     ]
    },
    {
     "name": "stderr",
     "output_type": "stream",
     "text": [
      "Test_Loader: 100%|██████████| 288/288 [00:26<00:00, 10.69it/s]\n"
     ]
    },
    {
     "name": "stdout",
     "output_type": "stream",
     "text": [
      "Loss1: 1.0323, Loss2: 0.5012, Loss3: 1.7694\n"
     ]
    },
    {
     "name": "stderr",
     "output_type": "stream",
     "text": [
      "Test_Loader: 100%|██████████| 288/288 [00:27<00:00, 10.59it/s]\n"
     ]
    },
    {
     "name": "stdout",
     "output_type": "stream",
     "text": [
      "Loss1: 1.0086, Loss2: 0.5045, Loss3: 1.7441\n"
     ]
    },
    {
     "name": "stderr",
     "output_type": "stream",
     "text": [
      "Test_Loader: 100%|██████████| 288/288 [00:27<00:00, 10.51it/s]\n"
     ]
    },
    {
     "name": "stdout",
     "output_type": "stream",
     "text": [
      "Loss1: 1.0134, Loss2: 0.4933, Loss3: 1.7328\n"
     ]
    },
    {
     "name": "stderr",
     "output_type": "stream",
     "text": [
      "Test_Loader: 100%|██████████| 288/288 [00:30<00:00,  9.46it/s]\n"
     ]
    },
    {
     "name": "stdout",
     "output_type": "stream",
     "text": [
      "Loss1: 0.9836, Loss2: 0.4890, Loss3: 1.6951\n"
     ]
    },
    {
     "name": "stderr",
     "output_type": "stream",
     "text": [
      "Test_Loader: 100%|██████████| 288/288 [00:26<00:00, 10.83it/s]\n"
     ]
    },
    {
     "name": "stdout",
     "output_type": "stream",
     "text": [
      "Loss1: 1.0058, Loss2: 0.4812, Loss3: 1.6870\n"
     ]
    },
    {
     "name": "stderr",
     "output_type": "stream",
     "text": [
      "Test_Loader: 100%|██████████| 288/288 [00:27<00:00, 10.62it/s]\n"
     ]
    },
    {
     "name": "stdout",
     "output_type": "stream",
     "text": [
      "Loss1: 0.9990, Loss2: 0.4850, Loss3: 1.6952\n"
     ]
    },
    {
     "name": "stderr",
     "output_type": "stream",
     "text": [
      "Test_Loader: 100%|██████████| 288/288 [00:26<00:00, 10.75it/s]\n"
     ]
    },
    {
     "name": "stdout",
     "output_type": "stream",
     "text": [
      "Loss1: 1.0065, Loss2: 0.4787, Loss3: 1.6874\n"
     ]
    },
    {
     "name": "stderr",
     "output_type": "stream",
     "text": [
      "Test_Loader: 100%|██████████| 288/288 [00:27<00:00, 10.48it/s]\n"
     ]
    },
    {
     "name": "stdout",
     "output_type": "stream",
     "text": [
      "Loss1: 1.0166, Loss2: 0.4768, Loss3: 1.6706\n"
     ]
    },
    {
     "name": "stderr",
     "output_type": "stream",
     "text": [
      "Test_Loader: 100%|██████████| 288/288 [00:27<00:00, 10.35it/s]\n"
     ]
    },
    {
     "name": "stdout",
     "output_type": "stream",
     "text": [
      "Loss1: 1.0070, Loss2: 0.4763, Loss3: 1.6888\n"
     ]
    },
    {
     "name": "stderr",
     "output_type": "stream",
     "text": [
      "Test_Loader: 100%|██████████| 288/288 [00:28<00:00, 10.26it/s]\n"
     ]
    },
    {
     "name": "stdout",
     "output_type": "stream",
     "text": [
      "Loss1: 1.0449, Loss2: 0.4906, Loss3: 1.6990\n"
     ]
    },
    {
     "name": "stderr",
     "output_type": "stream",
     "text": [
      "Test_Loader: 100%|██████████| 288/288 [00:28<00:00, 10.28it/s]\n"
     ]
    },
    {
     "name": "stdout",
     "output_type": "stream",
     "text": [
      "Loss1: 1.0300, Loss2: 0.4832, Loss3: 1.6871\n"
     ]
    },
    {
     "name": "stderr",
     "output_type": "stream",
     "text": [
      "Test_Loader: 100%|██████████| 288/288 [00:28<00:00, 10.17it/s]\n"
     ]
    },
    {
     "name": "stdout",
     "output_type": "stream",
     "text": [
      "Loss1: 1.0083, Loss2: 0.4845, Loss3: 1.6614\n"
     ]
    },
    {
     "name": "stderr",
     "output_type": "stream",
     "text": [
      "Test_Loader: 100%|██████████| 288/288 [00:28<00:00, 10.11it/s]\n"
     ]
    },
    {
     "name": "stdout",
     "output_type": "stream",
     "text": [
      "Loss1: 1.0269, Loss2: 0.4820, Loss3: 1.6646\n"
     ]
    },
    {
     "name": "stderr",
     "output_type": "stream",
     "text": [
      "Test_Loader: 100%|██████████| 288/288 [00:28<00:00, 10.28it/s]\n"
     ]
    },
    {
     "name": "stdout",
     "output_type": "stream",
     "text": [
      "Loss1: 1.0115, Loss2: 0.4779, Loss3: 1.6414\n"
     ]
    },
    {
     "name": "stderr",
     "output_type": "stream",
     "text": [
      "Test_Loader: 100%|██████████| 288/288 [00:27<00:00, 10.46it/s]\n"
     ]
    },
    {
     "name": "stdout",
     "output_type": "stream",
     "text": [
      "Loss1: 1.0174, Loss2: 0.4841, Loss3: 1.6752\n"
     ]
    },
    {
     "name": "stderr",
     "output_type": "stream",
     "text": [
      "Test_Loader: 100%|██████████| 288/288 [00:28<00:00, 10.18it/s]\n"
     ]
    },
    {
     "name": "stdout",
     "output_type": "stream",
     "text": [
      "Loss1: 1.0400, Loss2: 0.4800, Loss3: 1.6445\n"
     ]
    },
    {
     "name": "stderr",
     "output_type": "stream",
     "text": [
      "Test_Loader: 100%|██████████| 288/288 [00:30<00:00,  9.56it/s]\n"
     ]
    },
    {
     "name": "stdout",
     "output_type": "stream",
     "text": [
      "Loss1: 0.9982, Loss2: 0.4734, Loss3: 1.6349\n"
     ]
    },
    {
     "name": "stderr",
     "output_type": "stream",
     "text": [
      "Test_Loader: 100%|██████████| 288/288 [00:27<00:00, 10.45it/s]\n"
     ]
    },
    {
     "name": "stdout",
     "output_type": "stream",
     "text": [
      "Loss1: 1.0044, Loss2: 0.4901, Loss3: 1.6699\n"
     ]
    },
    {
     "name": "stderr",
     "output_type": "stream",
     "text": [
      "Test_Loader: 100%|██████████| 288/288 [00:27<00:00, 10.42it/s]\n"
     ]
    },
    {
     "name": "stdout",
     "output_type": "stream",
     "text": [
      "Loss1: 1.0333, Loss2: 0.5095, Loss3: 1.6800\n"
     ]
    },
    {
     "name": "stderr",
     "output_type": "stream",
     "text": [
      "Test_Loader: 100%|██████████| 288/288 [00:27<00:00, 10.29it/s]\n"
     ]
    },
    {
     "name": "stdout",
     "output_type": "stream",
     "text": [
      "Loss1: 1.0492, Loss2: 0.5036, Loss3: 1.6977\n"
     ]
    },
    {
     "name": "stderr",
     "output_type": "stream",
     "text": [
      "Test_Loader: 100%|██████████| 288/288 [00:28<00:00, 10.11it/s]\n"
     ]
    },
    {
     "name": "stdout",
     "output_type": "stream",
     "text": [
      "Loss1: 1.0408, Loss2: 0.4986, Loss3: 1.6840\n"
     ]
    },
    {
     "name": "stderr",
     "output_type": "stream",
     "text": [
      "Test_Loader: 100%|██████████| 288/288 [00:28<00:00, 10.21it/s]\n"
     ]
    },
    {
     "name": "stdout",
     "output_type": "stream",
     "text": [
      "Loss1: 1.0356, Loss2: 0.4975, Loss3: 1.6859\n"
     ]
    },
    {
     "name": "stderr",
     "output_type": "stream",
     "text": [
      "Test_Loader: 100%|██████████| 288/288 [00:28<00:00, 10.25it/s]\n"
     ]
    },
    {
     "name": "stdout",
     "output_type": "stream",
     "text": [
      "Loss1: 1.0401, Loss2: 0.4992, Loss3: 1.6647\n"
     ]
    },
    {
     "name": "stderr",
     "output_type": "stream",
     "text": [
      "Test_Loader: 100%|██████████| 288/288 [00:27<00:00, 10.42it/s]\n"
     ]
    },
    {
     "name": "stdout",
     "output_type": "stream",
     "text": [
      "Loss1: 1.0324, Loss2: 0.4921, Loss3: 1.6186\n"
     ]
    },
    {
     "name": "stderr",
     "output_type": "stream",
     "text": [
      "Test_Loader: 100%|██████████| 288/288 [00:27<00:00, 10.54it/s]\n"
     ]
    },
    {
     "name": "stdout",
     "output_type": "stream",
     "text": [
      "Loss1: 1.0176, Loss2: 0.4852, Loss3: 1.5913\n"
     ]
    },
    {
     "name": "stderr",
     "output_type": "stream",
     "text": [
      "Test_Loader: 100%|██████████| 288/288 [00:27<00:00, 10.46it/s]\n"
     ]
    },
    {
     "name": "stdout",
     "output_type": "stream",
     "text": [
      "Loss1: 1.0283, Loss2: 0.4859, Loss3: 1.6296\n"
     ]
    },
    {
     "name": "stderr",
     "output_type": "stream",
     "text": [
      "Test_Loader: 100%|██████████| 288/288 [00:27<00:00, 10.37it/s]\n"
     ]
    },
    {
     "name": "stdout",
     "output_type": "stream",
     "text": [
      "Loss1: 1.0272, Loss2: 0.4847, Loss3: 1.6007\n"
     ]
    },
    {
     "name": "stderr",
     "output_type": "stream",
     "text": [
      "Test_Loader: 100%|██████████| 288/288 [00:26<00:00, 10.69it/s]\n"
     ]
    },
    {
     "name": "stdout",
     "output_type": "stream",
     "text": [
      "Loss1: 1.0192, Loss2: 0.4856, Loss3: 1.6228\n"
     ]
    },
    {
     "name": "stderr",
     "output_type": "stream",
     "text": [
      "Test_Loader: 100%|██████████| 288/288 [00:27<00:00, 10.30it/s]\n"
     ]
    },
    {
     "name": "stdout",
     "output_type": "stream",
     "text": [
      "Loss1: 1.0135, Loss2: 0.4777, Loss3: 1.5566\n"
     ]
    },
    {
     "name": "stderr",
     "output_type": "stream",
     "text": [
      "Test_Loader: 100%|██████████| 288/288 [00:30<00:00,  9.53it/s]\n"
     ]
    },
    {
     "name": "stdout",
     "output_type": "stream",
     "text": [
      "Loss1: 1.0076, Loss2: 0.4707, Loss3: 1.5526\n"
     ]
    },
    {
     "name": "stderr",
     "output_type": "stream",
     "text": [
      "Test_Loader: 100%|██████████| 288/288 [00:26<00:00, 10.79it/s]\n"
     ]
    },
    {
     "name": "stdout",
     "output_type": "stream",
     "text": [
      "Loss1: 1.0289, Loss2: 0.4731, Loss3: 1.5548\n"
     ]
    },
    {
     "name": "stderr",
     "output_type": "stream",
     "text": [
      "Test_Loader: 100%|██████████| 288/288 [00:26<00:00, 10.82it/s]\n"
     ]
    },
    {
     "name": "stdout",
     "output_type": "stream",
     "text": [
      "Loss1: 1.0192, Loss2: 0.4719, Loss3: 1.5628\n"
     ]
    },
    {
     "name": "stderr",
     "output_type": "stream",
     "text": [
      "Test_Loader: 100%|██████████| 288/288 [00:27<00:00, 10.57it/s]\n"
     ]
    },
    {
     "name": "stdout",
     "output_type": "stream",
     "text": [
      "Loss1: 1.0244, Loss2: 0.4721, Loss3: 1.5539\n"
     ]
    },
    {
     "name": "stderr",
     "output_type": "stream",
     "text": [
      "Test_Loader: 100%|██████████| 288/288 [00:30<00:00,  9.57it/s]\n"
     ]
    },
    {
     "name": "stdout",
     "output_type": "stream",
     "text": [
      "Loss1: 1.0218, Loss2: 0.4709, Loss3: 1.5556\n"
     ]
    },
    {
     "name": "stderr",
     "output_type": "stream",
     "text": [
      "Test_Loader: 100%|██████████| 288/288 [00:27<00:00, 10.40it/s]\n"
     ]
    },
    {
     "name": "stdout",
     "output_type": "stream",
     "text": [
      "Loss1: 1.0134, Loss2: 0.4656, Loss3: 1.5212\n"
     ]
    },
    {
     "name": "stderr",
     "output_type": "stream",
     "text": [
      "Test_Loader: 100%|██████████| 288/288 [00:27<00:00, 10.41it/s]\n"
     ]
    },
    {
     "name": "stdout",
     "output_type": "stream",
     "text": [
      "Loss1: 0.9966, Loss2: 0.4547, Loss3: 1.4849\n"
     ]
    },
    {
     "name": "stderr",
     "output_type": "stream",
     "text": [
      "Test_Loader: 100%|██████████| 288/288 [00:27<00:00, 10.39it/s]\n"
     ]
    },
    {
     "name": "stdout",
     "output_type": "stream",
     "text": [
      "Loss1: 0.9925, Loss2: 0.4565, Loss3: 1.4984\n"
     ]
    },
    {
     "name": "stderr",
     "output_type": "stream",
     "text": [
      "Test_Loader: 100%|██████████| 288/288 [00:27<00:00, 10.43it/s]\n"
     ]
    },
    {
     "name": "stdout",
     "output_type": "stream",
     "text": [
      "Loss1: 0.9942, Loss2: 0.4549, Loss3: 1.4887\n"
     ]
    },
    {
     "name": "stderr",
     "output_type": "stream",
     "text": [
      "Test_Loader: 100%|██████████| 288/288 [00:28<00:00, 10.16it/s]\n"
     ]
    },
    {
     "name": "stdout",
     "output_type": "stream",
     "text": [
      "Loss1: 0.9918, Loss2: 0.4521, Loss3: 1.4727\n"
     ]
    },
    {
     "name": "stderr",
     "output_type": "stream",
     "text": [
      "Test_Loader: 100%|██████████| 288/288 [00:27<00:00, 10.32it/s]\n"
     ]
    },
    {
     "name": "stdout",
     "output_type": "stream",
     "text": [
      "Loss1: 0.9948, Loss2: 0.4556, Loss3: 1.4589\n"
     ]
    },
    {
     "name": "stderr",
     "output_type": "stream",
     "text": [
      "Test_Loader: 100%|██████████| 288/288 [00:27<00:00, 10.53it/s]\n"
     ]
    },
    {
     "name": "stdout",
     "output_type": "stream",
     "text": [
      "Loss1: 0.9829, Loss2: 0.4497, Loss3: 1.4355\n"
     ]
    },
    {
     "name": "stderr",
     "output_type": "stream",
     "text": [
      "Test_Loader: 100%|██████████| 288/288 [00:27<00:00, 10.41it/s]\n"
     ]
    },
    {
     "name": "stdout",
     "output_type": "stream",
     "text": [
      "Loss1: 0.9812, Loss2: 0.4512, Loss3: 1.4194\n"
     ]
    },
    {
     "name": "stderr",
     "output_type": "stream",
     "text": [
      "Test_Loader: 100%|██████████| 288/288 [00:27<00:00, 10.31it/s]\n"
     ]
    },
    {
     "name": "stdout",
     "output_type": "stream",
     "text": [
      "Loss1: 0.9843, Loss2: 0.4497, Loss3: 1.4269\n"
     ]
    },
    {
     "name": "stderr",
     "output_type": "stream",
     "text": [
      "Test_Loader: 100%|██████████| 288/288 [00:26<00:00, 10.69it/s]\n"
     ]
    },
    {
     "name": "stdout",
     "output_type": "stream",
     "text": [
      "Loss1: 0.9796, Loss2: 0.4477, Loss3: 1.4055\n"
     ]
    },
    {
     "name": "stderr",
     "output_type": "stream",
     "text": [
      "Test_Loader: 100%|██████████| 288/288 [00:26<00:00, 10.73it/s]\n"
     ]
    },
    {
     "name": "stdout",
     "output_type": "stream",
     "text": [
      "Loss1: 0.9688, Loss2: 0.4456, Loss3: 1.3865\n"
     ]
    },
    {
     "name": "stderr",
     "output_type": "stream",
     "text": [
      "Test_Loader: 100%|██████████| 288/288 [00:26<00:00, 10.83it/s]\n"
     ]
    },
    {
     "name": "stdout",
     "output_type": "stream",
     "text": [
      "Loss1: 0.9591, Loss2: 0.4398, Loss3: 1.3816\n"
     ]
    },
    {
     "name": "stderr",
     "output_type": "stream",
     "text": [
      "Test_Loader: 100%|██████████| 288/288 [00:28<00:00, 10.23it/s]\n"
     ]
    },
    {
     "name": "stdout",
     "output_type": "stream",
     "text": [
      "Loss1: 0.9569, Loss2: 0.4380, Loss3: 1.3742\n"
     ]
    },
    {
     "name": "stderr",
     "output_type": "stream",
     "text": [
      "Test_Loader: 100%|██████████| 288/288 [00:26<00:00, 10.75it/s]\n"
     ]
    },
    {
     "name": "stdout",
     "output_type": "stream",
     "text": [
      "Loss1: 0.9657, Loss2: 0.4399, Loss3: 1.3822\n"
     ]
    },
    {
     "name": "stderr",
     "output_type": "stream",
     "text": [
      "Test_Loader: 100%|██████████| 288/288 [00:27<00:00, 10.30it/s]\n"
     ]
    },
    {
     "name": "stdout",
     "output_type": "stream",
     "text": [
      "Loss1: 0.9548, Loss2: 0.4381, Loss3: 1.3640\n"
     ]
    },
    {
     "name": "stderr",
     "output_type": "stream",
     "text": [
      "Test_Loader: 100%|██████████| 288/288 [00:27<00:00, 10.31it/s]\n"
     ]
    },
    {
     "name": "stdout",
     "output_type": "stream",
     "text": [
      "Loss1: 0.9591, Loss2: 0.4383, Loss3: 1.3714\n"
     ]
    },
    {
     "name": "stderr",
     "output_type": "stream",
     "text": [
      "Test_Loader: 100%|██████████| 288/288 [00:27<00:00, 10.39it/s]\n"
     ]
    },
    {
     "name": "stdout",
     "output_type": "stream",
     "text": [
      "Loss1: 0.9520, Loss2: 0.4383, Loss3: 1.3592\n"
     ]
    },
    {
     "name": "stderr",
     "output_type": "stream",
     "text": [
      "Test_Loader: 100%|██████████| 288/288 [00:28<00:00, 10.16it/s]\n"
     ]
    },
    {
     "name": "stdout",
     "output_type": "stream",
     "text": [
      "Loss1: 0.9621, Loss2: 0.4328, Loss3: 1.3641\n"
     ]
    },
    {
     "name": "stderr",
     "output_type": "stream",
     "text": [
      "Test_Loader: 100%|██████████| 288/288 [00:27<00:00, 10.32it/s]\n"
     ]
    },
    {
     "name": "stdout",
     "output_type": "stream",
     "text": [
      "Loss1: 0.9431, Loss2: 0.4305, Loss3: 1.3427\n"
     ]
    },
    {
     "name": "stderr",
     "output_type": "stream",
     "text": [
      "Test_Loader: 100%|██████████| 288/288 [00:27<00:00, 10.46it/s]\n"
     ]
    },
    {
     "name": "stdout",
     "output_type": "stream",
     "text": [
      "Loss1: 0.9277, Loss2: 0.4274, Loss3: 1.3361\n"
     ]
    },
    {
     "name": "stderr",
     "output_type": "stream",
     "text": [
      "Test_Loader: 100%|██████████| 288/288 [00:28<00:00,  9.96it/s]\n"
     ]
    },
    {
     "name": "stdout",
     "output_type": "stream",
     "text": [
      "Loss1: 0.9394, Loss2: 0.4281, Loss3: 1.3286\n"
     ]
    },
    {
     "name": "stderr",
     "output_type": "stream",
     "text": [
      "Test_Loader: 100%|██████████| 288/288 [00:30<00:00,  9.55it/s]\n"
     ]
    },
    {
     "name": "stdout",
     "output_type": "stream",
     "text": [
      "Loss1: 0.9401, Loss2: 0.4241, Loss3: 1.3289\n"
     ]
    },
    {
     "name": "stderr",
     "output_type": "stream",
     "text": [
      "Test_Loader: 100%|██████████| 288/288 [00:27<00:00, 10.54it/s]\n"
     ]
    },
    {
     "name": "stdout",
     "output_type": "stream",
     "text": [
      "Loss1: 0.9502, Loss2: 0.4303, Loss3: 1.3381\n"
     ]
    },
    {
     "name": "stderr",
     "output_type": "stream",
     "text": [
      "Test_Loader: 100%|██████████| 288/288 [00:26<00:00, 10.67it/s]\n"
     ]
    },
    {
     "name": "stdout",
     "output_type": "stream",
     "text": [
      "Loss1: 0.9359, Loss2: 0.4240, Loss3: 1.2996\n"
     ]
    },
    {
     "name": "stderr",
     "output_type": "stream",
     "text": [
      "Test_Loader: 100%|██████████| 288/288 [00:28<00:00, 10.15it/s]\n"
     ]
    },
    {
     "name": "stdout",
     "output_type": "stream",
     "text": [
      "Loss1: 0.9679, Loss2: 0.4240, Loss3: 1.2991\n"
     ]
    },
    {
     "name": "stderr",
     "output_type": "stream",
     "text": [
      "Test_Loader: 100%|██████████| 288/288 [00:28<00:00, 10.10it/s]\n"
     ]
    },
    {
     "name": "stdout",
     "output_type": "stream",
     "text": [
      "Loss1: 0.9686, Loss2: 0.4309, Loss3: 1.3022\n"
     ]
    },
    {
     "name": "stderr",
     "output_type": "stream",
     "text": [
      "Test_Loader: 100%|██████████| 288/288 [00:28<00:00, 10.15it/s]\n"
     ]
    },
    {
     "name": "stdout",
     "output_type": "stream",
     "text": [
      "Loss1: 0.9878, Loss2: 0.4346, Loss3: 1.3108\n"
     ]
    },
    {
     "name": "stderr",
     "output_type": "stream",
     "text": [
      "Test_Loader: 100%|██████████| 288/288 [00:27<00:00, 10.49it/s]\n"
     ]
    },
    {
     "name": "stdout",
     "output_type": "stream",
     "text": [
      "Loss1: 0.9817, Loss2: 0.4333, Loss3: 1.3369\n"
     ]
    },
    {
     "name": "stderr",
     "output_type": "stream",
     "text": [
      "Test_Loader: 100%|██████████| 288/288 [00:27<00:00, 10.63it/s]\n"
     ]
    },
    {
     "name": "stdout",
     "output_type": "stream",
     "text": [
      "Loss1: 0.9706, Loss2: 0.4286, Loss3: 1.3274\n"
     ]
    },
    {
     "name": "stderr",
     "output_type": "stream",
     "text": [
      "Test_Loader: 100%|██████████| 288/288 [00:26<00:00, 10.77it/s]\n"
     ]
    },
    {
     "name": "stdout",
     "output_type": "stream",
     "text": [
      "Loss1: 1.0049, Loss2: 0.4384, Loss3: 1.3284\n"
     ]
    },
    {
     "name": "stderr",
     "output_type": "stream",
     "text": [
      "Test_Loader: 100%|██████████| 288/288 [00:27<00:00, 10.43it/s]\n"
     ]
    },
    {
     "name": "stdout",
     "output_type": "stream",
     "text": [
      "Loss1: 0.9958, Loss2: 0.4364, Loss3: 1.3125\n"
     ]
    },
    {
     "name": "stderr",
     "output_type": "stream",
     "text": [
      "Test_Loader: 100%|██████████| 288/288 [00:27<00:00, 10.58it/s]\n"
     ]
    },
    {
     "name": "stdout",
     "output_type": "stream",
     "text": [
      "Loss1: 0.9958, Loss2: 0.4353, Loss3: 1.3148\n"
     ]
    },
    {
     "name": "stderr",
     "output_type": "stream",
     "text": [
      "Test_Loader: 100%|██████████| 288/288 [00:26<00:00, 10.69it/s]\n"
     ]
    },
    {
     "name": "stdout",
     "output_type": "stream",
     "text": [
      "Loss1: 0.9750, Loss2: 0.4327, Loss3: 1.3282\n"
     ]
    },
    {
     "name": "stderr",
     "output_type": "stream",
     "text": [
      "Test_Loader: 100%|██████████| 288/288 [00:28<00:00, 10.27it/s]\n"
     ]
    },
    {
     "name": "stdout",
     "output_type": "stream",
     "text": [
      "Loss1: 0.9360, Loss2: 0.4063, Loss3: 1.1353\n"
     ]
    },
    {
     "name": "stderr",
     "output_type": "stream",
     "text": [
      "Test_Loader: 100%|██████████| 288/288 [00:26<00:00, 10.77it/s]\n"
     ]
    },
    {
     "name": "stdout",
     "output_type": "stream",
     "text": [
      "Loss1: 0.9326, Loss2: 0.4081, Loss3: 1.1393\n"
     ]
    },
    {
     "name": "stderr",
     "output_type": "stream",
     "text": [
      "Test_Loader: 100%|██████████| 288/288 [00:26<00:00, 10.69it/s]\n"
     ]
    },
    {
     "name": "stdout",
     "output_type": "stream",
     "text": [
      "Loss1: 0.9298, Loss2: 0.4095, Loss3: 1.1339\n"
     ]
    },
    {
     "name": "stderr",
     "output_type": "stream",
     "text": [
      "Test_Loader: 100%|██████████| 288/288 [00:26<00:00, 10.88it/s]\n"
     ]
    },
    {
     "name": "stdout",
     "output_type": "stream",
     "text": [
      "Loss1: 0.9342, Loss2: 0.4132, Loss3: 1.1486\n"
     ]
    },
    {
     "name": "stderr",
     "output_type": "stream",
     "text": [
      "Test_Loader: 100%|██████████| 288/288 [00:26<00:00, 10.73it/s]\n"
     ]
    },
    {
     "name": "stdout",
     "output_type": "stream",
     "text": [
      "Loss1: 0.9546, Loss2: 0.4224, Loss3: 1.1911\n"
     ]
    },
    {
     "name": "stderr",
     "output_type": "stream",
     "text": [
      "Test_Loader: 100%|██████████| 288/288 [00:29<00:00,  9.88it/s]\n"
     ]
    },
    {
     "name": "stdout",
     "output_type": "stream",
     "text": [
      "Loss1: 0.9666, Loss2: 0.4316, Loss3: 1.2175\n"
     ]
    },
    {
     "name": "stderr",
     "output_type": "stream",
     "text": [
      "Test_Loader: 100%|██████████| 288/288 [00:26<00:00, 10.71it/s]\n"
     ]
    },
    {
     "name": "stdout",
     "output_type": "stream",
     "text": [
      "Loss1: 0.9620, Loss2: 0.4306, Loss3: 1.2189\n"
     ]
    },
    {
     "name": "stderr",
     "output_type": "stream",
     "text": [
      "Test_Loader: 100%|██████████| 288/288 [00:28<00:00, 10.24it/s]\n"
     ]
    },
    {
     "name": "stdout",
     "output_type": "stream",
     "text": [
      "Loss1: 0.9630, Loss2: 0.4253, Loss3: 1.2229\n"
     ]
    },
    {
     "name": "stderr",
     "output_type": "stream",
     "text": [
      "Test_Loader: 100%|██████████| 288/288 [00:28<00:00, 10.28it/s]\n"
     ]
    },
    {
     "name": "stdout",
     "output_type": "stream",
     "text": [
      "Loss1: 0.8897, Loss2: 0.4117, Loss3: 1.1579\n"
     ]
    },
    {
     "name": "stderr",
     "output_type": "stream",
     "text": [
      "Test_Loader: 100%|██████████| 288/288 [00:27<00:00, 10.32it/s]\n"
     ]
    },
    {
     "name": "stdout",
     "output_type": "stream",
     "text": [
      "Loss1: 0.8755, Loss2: 0.4090, Loss3: 1.1373\n"
     ]
    },
    {
     "name": "stderr",
     "output_type": "stream",
     "text": [
      "Test_Loader: 100%|██████████| 288/288 [00:28<00:00, 10.20it/s]\n"
     ]
    },
    {
     "name": "stdout",
     "output_type": "stream",
     "text": [
      "Loss1: 0.8809, Loss2: 0.4182, Loss3: 1.1990\n"
     ]
    },
    {
     "name": "stderr",
     "output_type": "stream",
     "text": [
      "Test_Loader: 100%|██████████| 288/288 [00:28<00:00, 10.28it/s]\n"
     ]
    },
    {
     "name": "stdout",
     "output_type": "stream",
     "text": [
      "Loss1: 0.9725, Loss2: 0.4782, Loss3: 1.6833\n"
     ]
    },
    {
     "name": "stderr",
     "output_type": "stream",
     "text": [
      "Test_Loader: 100%|██████████| 288/288 [00:27<00:00, 10.51it/s]\n"
     ]
    },
    {
     "name": "stdout",
     "output_type": "stream",
     "text": [
      "Loss1: 0.9524, Loss2: 0.4677, Loss3: 1.6436\n"
     ]
    },
    {
     "name": "stderr",
     "output_type": "stream",
     "text": [
      "Test_Loader: 100%|██████████| 288/288 [00:28<00:00, 10.19it/s]\n"
     ]
    },
    {
     "name": "stdout",
     "output_type": "stream",
     "text": [
      "Loss1: 1.0700, Loss2: 0.5153, Loss3: 3.0928\n"
     ]
    },
    {
     "name": "stderr",
     "output_type": "stream",
     "text": [
      "Test_Loader: 100%|██████████| 288/288 [00:29<00:00,  9.68it/s]\n"
     ]
    },
    {
     "name": "stdout",
     "output_type": "stream",
     "text": [
      "Loss1: 1.0552, Loss2: 0.5177, Loss3: 3.0663\n"
     ]
    },
    {
     "name": "stderr",
     "output_type": "stream",
     "text": [
      "Test_Loader: 100%|██████████| 288/288 [00:27<00:00, 10.64it/s]\n"
     ]
    },
    {
     "name": "stdout",
     "output_type": "stream",
     "text": [
      "Loss1: 1.0444, Loss2: 0.5088, Loss3: 2.9921\n"
     ]
    },
    {
     "name": "stderr",
     "output_type": "stream",
     "text": [
      "Test_Loader: 100%|██████████| 288/288 [00:26<00:00, 10.68it/s]\n"
     ]
    },
    {
     "name": "stdout",
     "output_type": "stream",
     "text": [
      "Loss1: 1.0546, Loss2: 0.4930, Loss3: 2.9658\n"
     ]
    },
    {
     "name": "stderr",
     "output_type": "stream",
     "text": [
      "Test_Loader: 100%|██████████| 288/288 [00:27<00:00, 10.45it/s]\n"
     ]
    },
    {
     "name": "stdout",
     "output_type": "stream",
     "text": [
      "Loss1: 1.0517, Loss2: 0.5004, Loss3: 2.9527\n"
     ]
    },
    {
     "name": "stderr",
     "output_type": "stream",
     "text": [
      "Test_Loader: 100%|██████████| 288/288 [00:27<00:00, 10.32it/s]\n"
     ]
    },
    {
     "name": "stdout",
     "output_type": "stream",
     "text": [
      "Loss1: 1.0490, Loss2: 0.4955, Loss3: 2.9184\n"
     ]
    },
    {
     "name": "stderr",
     "output_type": "stream",
     "text": [
      "Test_Loader: 100%|██████████| 288/288 [00:26<00:00, 10.76it/s]\n"
     ]
    },
    {
     "name": "stdout",
     "output_type": "stream",
     "text": [
      "Loss1: 1.0476, Loss2: 0.5004, Loss3: 2.8865\n"
     ]
    },
    {
     "name": "stderr",
     "output_type": "stream",
     "text": [
      "Test_Loader: 100%|██████████| 288/288 [00:28<00:00, 10.26it/s]\n"
     ]
    },
    {
     "name": "stdout",
     "output_type": "stream",
     "text": [
      "Loss1: 1.0481, Loss2: 0.5070, Loss3: 2.8711\n"
     ]
    },
    {
     "name": "stderr",
     "output_type": "stream",
     "text": [
      "Test_Loader: 100%|██████████| 288/288 [00:27<00:00, 10.48it/s]\n"
     ]
    },
    {
     "name": "stdout",
     "output_type": "stream",
     "text": [
      "Loss1: 1.0417, Loss2: 0.4989, Loss3: 2.8337\n"
     ]
    },
    {
     "name": "stderr",
     "output_type": "stream",
     "text": [
      "Test_Loader: 100%|██████████| 288/288 [00:27<00:00, 10.49it/s]\n"
     ]
    },
    {
     "name": "stdout",
     "output_type": "stream",
     "text": [
      "Loss1: 1.0470, Loss2: 0.4945, Loss3: 2.7715\n"
     ]
    },
    {
     "name": "stderr",
     "output_type": "stream",
     "text": [
      "Test_Loader: 100%|██████████| 288/288 [00:27<00:00, 10.32it/s]\n"
     ]
    },
    {
     "name": "stdout",
     "output_type": "stream",
     "text": [
      "Loss1: 1.0515, Loss2: 0.5038, Loss3: 2.7797\n"
     ]
    },
    {
     "name": "stderr",
     "output_type": "stream",
     "text": [
      "Test_Loader: 100%|██████████| 288/288 [00:27<00:00, 10.43it/s]\n"
     ]
    },
    {
     "name": "stdout",
     "output_type": "stream",
     "text": [
      "Loss1: 1.0428, Loss2: 0.5019, Loss3: 2.7455\n"
     ]
    },
    {
     "name": "stderr",
     "output_type": "stream",
     "text": [
      "Test_Loader: 100%|██████████| 288/288 [00:26<00:00, 10.71it/s]\n"
     ]
    },
    {
     "name": "stdout",
     "output_type": "stream",
     "text": [
      "Loss1: 1.0349, Loss2: 0.4939, Loss3: 2.7292\n"
     ]
    },
    {
     "name": "stderr",
     "output_type": "stream",
     "text": [
      "Test_Loader: 100%|██████████| 288/288 [00:28<00:00, 10.06it/s]\n"
     ]
    },
    {
     "name": "stdout",
     "output_type": "stream",
     "text": [
      "Loss1: 1.0362, Loss2: 0.4925, Loss3: 2.6670\n"
     ]
    },
    {
     "name": "stderr",
     "output_type": "stream",
     "text": [
      "Test_Loader: 100%|██████████| 288/288 [00:30<00:00,  9.56it/s]\n"
     ]
    },
    {
     "name": "stdout",
     "output_type": "stream",
     "text": [
      "Loss1: 1.0339, Loss2: 0.5022, Loss3: 2.7076\n"
     ]
    },
    {
     "name": "stderr",
     "output_type": "stream",
     "text": [
      "Test_Loader: 100%|██████████| 288/288 [00:27<00:00, 10.39it/s]\n"
     ]
    },
    {
     "name": "stdout",
     "output_type": "stream",
     "text": [
      "Loss1: 1.0432, Loss2: 0.5060, Loss3: 2.6882\n"
     ]
    },
    {
     "name": "stderr",
     "output_type": "stream",
     "text": [
      "Test_Loader: 100%|██████████| 288/288 [00:28<00:00, 10.12it/s]\n"
     ]
    },
    {
     "name": "stdout",
     "output_type": "stream",
     "text": [
      "Loss1: 1.0147, Loss2: 0.4804, Loss3: 2.6392\n"
     ]
    },
    {
     "name": "stderr",
     "output_type": "stream",
     "text": [
      "Test_Loader: 100%|██████████| 288/288 [00:28<00:00, 10.16it/s]\n"
     ]
    },
    {
     "name": "stdout",
     "output_type": "stream",
     "text": [
      "Loss1: 1.0310, Loss2: 0.5043, Loss3: 2.6658\n"
     ]
    },
    {
     "name": "stderr",
     "output_type": "stream",
     "text": [
      "Test_Loader: 100%|██████████| 288/288 [00:29<00:00,  9.87it/s]\n"
     ]
    },
    {
     "name": "stdout",
     "output_type": "stream",
     "text": [
      "Loss1: 1.0290, Loss2: 0.5035, Loss3: 2.6337\n"
     ]
    },
    {
     "name": "stderr",
     "output_type": "stream",
     "text": [
      "Test_Loader: 100%|██████████| 288/288 [00:28<00:00, 10.15it/s]\n"
     ]
    },
    {
     "name": "stdout",
     "output_type": "stream",
     "text": [
      "Loss1: 1.0276, Loss2: 0.5075, Loss3: 2.6304\n"
     ]
    },
    {
     "name": "stderr",
     "output_type": "stream",
     "text": [
      "Test_Loader: 100%|██████████| 288/288 [00:28<00:00,  9.96it/s]\n"
     ]
    },
    {
     "name": "stdout",
     "output_type": "stream",
     "text": [
      "Loss1: 1.0445, Loss2: 0.5022, Loss3: 2.5998\n"
     ]
    },
    {
     "name": "stderr",
     "output_type": "stream",
     "text": [
      "Test_Loader: 100%|██████████| 288/288 [00:28<00:00, 10.14it/s]\n"
     ]
    },
    {
     "name": "stdout",
     "output_type": "stream",
     "text": [
      "Loss1: 1.1456, Loss2: 0.5239, Loss3: 2.6973\n"
     ]
    },
    {
     "name": "stderr",
     "output_type": "stream",
     "text": [
      "Test_Loader: 100%|██████████| 288/288 [00:28<00:00, 10.27it/s]\n"
     ]
    },
    {
     "name": "stdout",
     "output_type": "stream",
     "text": [
      "Loss1: 1.3040, Loss2: 0.5649, Loss3: 2.8536\n"
     ]
    },
    {
     "name": "stderr",
     "output_type": "stream",
     "text": [
      "Test_Loader: 100%|██████████| 288/288 [00:28<00:00, 10.25it/s]\n"
     ]
    },
    {
     "name": "stdout",
     "output_type": "stream",
     "text": [
      "Loss1: 1.2760, Loss2: 0.5502, Loss3: 2.8080\n"
     ]
    },
    {
     "name": "stderr",
     "output_type": "stream",
     "text": [
      "Test_Loader: 100%|██████████| 288/288 [00:27<00:00, 10.46it/s]\n"
     ]
    },
    {
     "name": "stdout",
     "output_type": "stream",
     "text": [
      "Loss1: 1.2604, Loss2: 0.5393, Loss3: 2.7503\n"
     ]
    },
    {
     "name": "stderr",
     "output_type": "stream",
     "text": [
      "Test_Loader: 100%|██████████| 288/288 [00:26<00:00, 10.70it/s]\n"
     ]
    },
    {
     "name": "stdout",
     "output_type": "stream",
     "text": [
      "Loss1: 1.2382, Loss2: 0.5308, Loss3: 2.7196\n"
     ]
    },
    {
     "name": "stderr",
     "output_type": "stream",
     "text": [
      "Test_Loader: 100%|██████████| 288/288 [00:28<00:00, 10.26it/s]\n"
     ]
    },
    {
     "name": "stdout",
     "output_type": "stream",
     "text": [
      "Loss1: 1.2195, Loss2: 0.5221, Loss3: 2.7194\n"
     ]
    },
    {
     "name": "stderr",
     "output_type": "stream",
     "text": [
      "Test_Loader: 100%|██████████| 288/288 [00:28<00:00, 10.01it/s]\n"
     ]
    },
    {
     "name": "stdout",
     "output_type": "stream",
     "text": [
      "Loss1: 1.1972, Loss2: 0.5091, Loss3: 2.6638\n"
     ]
    },
    {
     "name": "stderr",
     "output_type": "stream",
     "text": [
      "Test_Loader: 100%|██████████| 288/288 [00:27<00:00, 10.61it/s]\n"
     ]
    },
    {
     "name": "stdout",
     "output_type": "stream",
     "text": [
      "Loss1: 1.1935, Loss2: 0.5119, Loss3: 2.6266\n"
     ]
    },
    {
     "name": "stderr",
     "output_type": "stream",
     "text": [
      "Test_Loader: 100%|██████████| 288/288 [00:27<00:00, 10.37it/s]\n"
     ]
    },
    {
     "name": "stdout",
     "output_type": "stream",
     "text": [
      "Loss1: 1.1912, Loss2: 0.5202, Loss3: 2.6518\n"
     ]
    },
    {
     "name": "stderr",
     "output_type": "stream",
     "text": [
      "Test_Loader: 100%|██████████| 288/288 [00:27<00:00, 10.34it/s]\n"
     ]
    },
    {
     "name": "stdout",
     "output_type": "stream",
     "text": [
      "Loss1: 1.2427, Loss2: 0.5181, Loss3: 2.7071\n"
     ]
    },
    {
     "name": "stderr",
     "output_type": "stream",
     "text": [
      "Test_Loader: 100%|██████████| 288/288 [00:27<00:00, 10.40it/s]\n"
     ]
    },
    {
     "name": "stdout",
     "output_type": "stream",
     "text": [
      "Loss1: 1.2167, Loss2: 0.5143, Loss3: 2.6545\n"
     ]
    },
    {
     "name": "stderr",
     "output_type": "stream",
     "text": [
      "Test_Loader: 100%|██████████| 288/288 [00:28<00:00, 10.13it/s]\n"
     ]
    },
    {
     "name": "stdout",
     "output_type": "stream",
     "text": [
      "Loss1: 1.2044, Loss2: 0.5065, Loss3: 2.6492\n"
     ]
    },
    {
     "name": "stderr",
     "output_type": "stream",
     "text": [
      "Test_Loader: 100%|██████████| 288/288 [00:28<00:00, 10.08it/s]\n"
     ]
    },
    {
     "name": "stdout",
     "output_type": "stream",
     "text": [
      "Loss1: 1.1899, Loss2: 0.4994, Loss3: 2.6253\n"
     ]
    },
    {
     "name": "stderr",
     "output_type": "stream",
     "text": [
      "Test_Loader: 100%|██████████| 288/288 [00:28<00:00, 10.20it/s]\n"
     ]
    },
    {
     "name": "stdout",
     "output_type": "stream",
     "text": [
      "Loss1: 1.1691, Loss2: 0.4846, Loss3: 2.5700\n"
     ]
    },
    {
     "name": "stderr",
     "output_type": "stream",
     "text": [
      "Test_Loader: 100%|██████████| 288/288 [00:28<00:00, 10.24it/s]\n"
     ]
    },
    {
     "name": "stdout",
     "output_type": "stream",
     "text": [
      "Loss1: 1.1592, Loss2: 0.4823, Loss3: 2.5379\n"
     ]
    },
    {
     "name": "stderr",
     "output_type": "stream",
     "text": [
      "Test_Loader: 100%|██████████| 288/288 [00:28<00:00, 10.19it/s]\n"
     ]
    },
    {
     "name": "stdout",
     "output_type": "stream",
     "text": [
      "Loss1: 1.3650, Loss2: 0.4996, Loss3: 2.5786\n"
     ]
    },
    {
     "name": "stderr",
     "output_type": "stream",
     "text": [
      "Test_Loader: 100%|██████████| 288/288 [00:28<00:00, 10.16it/s]\n"
     ]
    },
    {
     "name": "stdout",
     "output_type": "stream",
     "text": [
      "Loss1: 1.5448, Loss2: 0.5123, Loss3: 2.8044\n"
     ]
    },
    {
     "name": "stderr",
     "output_type": "stream",
     "text": [
      "Test_Loader: 100%|██████████| 288/288 [00:29<00:00,  9.91it/s]\n"
     ]
    },
    {
     "name": "stdout",
     "output_type": "stream",
     "text": [
      "Loss1: 1.5534, Loss2: 0.5108, Loss3: 2.7347\n"
     ]
    },
    {
     "name": "stderr",
     "output_type": "stream",
     "text": [
      "Test_Loader: 100%|██████████| 288/288 [00:29<00:00,  9.64it/s]\n"
     ]
    },
    {
     "name": "stdout",
     "output_type": "stream",
     "text": [
      "Loss1: 1.5159, Loss2: 0.5032, Loss3: 2.7212\n"
     ]
    },
    {
     "name": "stderr",
     "output_type": "stream",
     "text": [
      "Test_Loader: 100%|██████████| 288/288 [00:27<00:00, 10.29it/s]\n"
     ]
    },
    {
     "name": "stdout",
     "output_type": "stream",
     "text": [
      "Loss1: 1.4957, Loss2: 0.5086, Loss3: 2.7172\n"
     ]
    },
    {
     "name": "stderr",
     "output_type": "stream",
     "text": [
      "Test_Loader: 100%|██████████| 288/288 [00:27<00:00, 10.52it/s]\n"
     ]
    },
    {
     "name": "stdout",
     "output_type": "stream",
     "text": [
      "Loss1: 1.5359, Loss2: 0.5138, Loss3: 2.7112\n"
     ]
    },
    {
     "name": "stderr",
     "output_type": "stream",
     "text": [
      "Test_Loader: 100%|██████████| 288/288 [00:28<00:00, 10.15it/s]\n"
     ]
    },
    {
     "name": "stdout",
     "output_type": "stream",
     "text": [
      "Loss1: 1.4965, Loss2: 0.5203, Loss3: 2.7001\n"
     ]
    },
    {
     "name": "stderr",
     "output_type": "stream",
     "text": [
      "Test_Loader: 100%|██████████| 288/288 [00:28<00:00, 10.16it/s]\n"
     ]
    },
    {
     "name": "stdout",
     "output_type": "stream",
     "text": [
      "Loss1: 1.5415, Loss2: 0.5314, Loss3: 2.6897\n"
     ]
    },
    {
     "name": "stderr",
     "output_type": "stream",
     "text": [
      "Test_Loader: 100%|██████████| 288/288 [00:27<00:00, 10.53it/s]\n"
     ]
    },
    {
     "name": "stdout",
     "output_type": "stream",
     "text": [
      "Loss1: 1.5178, Loss2: 0.5237, Loss3: 2.6214\n"
     ]
    },
    {
     "name": "stderr",
     "output_type": "stream",
     "text": [
      "Test_Loader: 100%|██████████| 288/288 [00:28<00:00, 10.18it/s]\n"
     ]
    },
    {
     "name": "stdout",
     "output_type": "stream",
     "text": [
      "Loss1: 1.5322, Loss2: 0.5333, Loss3: 2.6375\n"
     ]
    },
    {
     "name": "stderr",
     "output_type": "stream",
     "text": [
      "Test_Loader: 100%|██████████| 288/288 [00:27<00:00, 10.30it/s]\n"
     ]
    },
    {
     "name": "stdout",
     "output_type": "stream",
     "text": [
      "Loss1: 1.4660, Loss2: 0.5203, Loss3: 2.5854\n"
     ]
    },
    {
     "name": "stderr",
     "output_type": "stream",
     "text": [
      "Test_Loader: 100%|██████████| 288/288 [00:27<00:00, 10.63it/s]\n"
     ]
    },
    {
     "name": "stdout",
     "output_type": "stream",
     "text": [
      "Loss1: 1.4659, Loss2: 0.5150, Loss3: 2.5660\n"
     ]
    },
    {
     "name": "stderr",
     "output_type": "stream",
     "text": [
      "Test_Loader: 100%|██████████| 288/288 [00:27<00:00, 10.48it/s]\n"
     ]
    },
    {
     "name": "stdout",
     "output_type": "stream",
     "text": [
      "Loss1: 1.4643, Loss2: 0.5138, Loss3: 2.5218\n"
     ]
    },
    {
     "name": "stderr",
     "output_type": "stream",
     "text": [
      "Test_Loader: 100%|██████████| 288/288 [00:27<00:00, 10.45it/s]\n"
     ]
    },
    {
     "name": "stdout",
     "output_type": "stream",
     "text": [
      "Loss1: 1.4673, Loss2: 0.5174, Loss3: 2.5199\n"
     ]
    },
    {
     "name": "stderr",
     "output_type": "stream",
     "text": [
      "Test_Loader: 100%|██████████| 288/288 [00:27<00:00, 10.64it/s]\n"
     ]
    },
    {
     "name": "stdout",
     "output_type": "stream",
     "text": [
      "Loss1: 1.4145, Loss2: 0.5088, Loss3: 2.4580\n"
     ]
    },
    {
     "name": "stderr",
     "output_type": "stream",
     "text": [
      "Test_Loader: 100%|██████████| 288/288 [00:29<00:00,  9.92it/s]\n"
     ]
    },
    {
     "name": "stdout",
     "output_type": "stream",
     "text": [
      "Loss1: 1.4448, Loss2: 0.5131, Loss3: 2.4767\n"
     ]
    },
    {
     "name": "stderr",
     "output_type": "stream",
     "text": [
      "Test_Loader: 100%|██████████| 288/288 [00:29<00:00,  9.87it/s]\n"
     ]
    },
    {
     "name": "stdout",
     "output_type": "stream",
     "text": [
      "Loss1: 1.4325, Loss2: 0.5103, Loss3: 2.4597\n"
     ]
    },
    {
     "name": "stderr",
     "output_type": "stream",
     "text": [
      "Test_Loader: 100%|██████████| 288/288 [00:27<00:00, 10.63it/s]\n"
     ]
    },
    {
     "name": "stdout",
     "output_type": "stream",
     "text": [
      "Loss1: 1.4047, Loss2: 0.5129, Loss3: 2.4672\n"
     ]
    },
    {
     "name": "stderr",
     "output_type": "stream",
     "text": [
      "Test_Loader: 100%|██████████| 288/288 [00:27<00:00, 10.38it/s]\n"
     ]
    },
    {
     "name": "stdout",
     "output_type": "stream",
     "text": [
      "Loss1: 1.3931, Loss2: 0.5025, Loss3: 2.4155\n"
     ]
    },
    {
     "name": "stderr",
     "output_type": "stream",
     "text": [
      "Test_Loader: 100%|██████████| 288/288 [00:27<00:00, 10.36it/s]\n"
     ]
    },
    {
     "name": "stdout",
     "output_type": "stream",
     "text": [
      "Loss1: 1.4012, Loss2: 0.4953, Loss3: 2.3875\n"
     ]
    },
    {
     "name": "stderr",
     "output_type": "stream",
     "text": [
      "Test_Loader: 100%|██████████| 288/288 [00:27<00:00, 10.33it/s]\n"
     ]
    },
    {
     "name": "stdout",
     "output_type": "stream",
     "text": [
      "Loss1: 1.4146, Loss2: 0.5003, Loss3: 2.3752\n"
     ]
    },
    {
     "name": "stderr",
     "output_type": "stream",
     "text": [
      "Test_Loader: 100%|██████████| 288/288 [00:28<00:00, 10.28it/s]\n"
     ]
    },
    {
     "name": "stdout",
     "output_type": "stream",
     "text": [
      "Loss1: 1.3797, Loss2: 0.4956, Loss3: 2.3733\n"
     ]
    },
    {
     "name": "stderr",
     "output_type": "stream",
     "text": [
      "Test_Loader: 100%|██████████| 288/288 [00:28<00:00, 10.21it/s]\n"
     ]
    },
    {
     "name": "stdout",
     "output_type": "stream",
     "text": [
      "Loss1: 1.3748, Loss2: 0.4922, Loss3: 2.3445\n"
     ]
    },
    {
     "name": "stderr",
     "output_type": "stream",
     "text": [
      "Test_Loader: 100%|██████████| 288/288 [00:28<00:00, 10.05it/s]\n"
     ]
    },
    {
     "name": "stdout",
     "output_type": "stream",
     "text": [
      "Loss1: 1.3698, Loss2: 0.4968, Loss3: 2.3365\n"
     ]
    },
    {
     "name": "stderr",
     "output_type": "stream",
     "text": [
      "Test_Loader: 100%|██████████| 288/288 [00:28<00:00,  9.99it/s]\n"
     ]
    },
    {
     "name": "stdout",
     "output_type": "stream",
     "text": [
      "Loss1: 1.3877, Loss2: 0.4873, Loss3: 2.2933\n"
     ]
    },
    {
     "name": "stderr",
     "output_type": "stream",
     "text": [
      "Test_Loader: 100%|██████████| 288/288 [00:28<00:00, 10.01it/s]\n"
     ]
    },
    {
     "name": "stdout",
     "output_type": "stream",
     "text": [
      "Loss1: 1.3763, Loss2: 0.4844, Loss3: 2.2961\n"
     ]
    },
    {
     "name": "stderr",
     "output_type": "stream",
     "text": [
      "Test_Loader: 100%|██████████| 288/288 [00:28<00:00, 10.17it/s]\n"
     ]
    },
    {
     "name": "stdout",
     "output_type": "stream",
     "text": [
      "Loss1: 1.3708, Loss2: 0.4891, Loss3: 2.2854\n"
     ]
    },
    {
     "name": "stderr",
     "output_type": "stream",
     "text": [
      "Test_Loader: 100%|██████████| 288/288 [00:27<00:00, 10.39it/s]\n"
     ]
    },
    {
     "name": "stdout",
     "output_type": "stream",
     "text": [
      "Loss1: 1.3679, Loss2: 0.4870, Loss3: 2.2758\n"
     ]
    },
    {
     "name": "stderr",
     "output_type": "stream",
     "text": [
      "Test_Loader: 100%|██████████| 288/288 [00:27<00:00, 10.42it/s]\n"
     ]
    },
    {
     "name": "stdout",
     "output_type": "stream",
     "text": [
      "Loss1: 1.3768, Loss2: 0.4863, Loss3: 2.2445\n"
     ]
    },
    {
     "name": "stderr",
     "output_type": "stream",
     "text": [
      "Test_Loader: 100%|██████████| 288/288 [00:27<00:00, 10.46it/s]\n"
     ]
    },
    {
     "name": "stdout",
     "output_type": "stream",
     "text": [
      "Loss1: 1.3634, Loss2: 0.4799, Loss3: 2.2092\n"
     ]
    },
    {
     "name": "stderr",
     "output_type": "stream",
     "text": [
      "Test_Loader: 100%|██████████| 288/288 [00:27<00:00, 10.42it/s]\n"
     ]
    },
    {
     "name": "stdout",
     "output_type": "stream",
     "text": [
      "Loss1: 1.3710, Loss2: 0.4817, Loss3: 2.2012\n"
     ]
    },
    {
     "name": "stderr",
     "output_type": "stream",
     "text": [
      "Test_Loader: 100%|██████████| 288/288 [00:27<00:00, 10.67it/s]\n"
     ]
    },
    {
     "name": "stdout",
     "output_type": "stream",
     "text": [
      "Loss1: 1.3879, Loss2: 0.4875, Loss3: 2.2042\n"
     ]
    },
    {
     "name": "stderr",
     "output_type": "stream",
     "text": [
      "Test_Loader: 100%|██████████| 288/288 [00:27<00:00, 10.49it/s]\n"
     ]
    },
    {
     "name": "stdout",
     "output_type": "stream",
     "text": [
      "Loss1: 1.3688, Loss2: 0.4869, Loss3: 2.1816\n"
     ]
    },
    {
     "name": "stderr",
     "output_type": "stream",
     "text": [
      "Test_Loader: 100%|██████████| 288/288 [00:29<00:00,  9.84it/s]\n"
     ]
    },
    {
     "name": "stdout",
     "output_type": "stream",
     "text": [
      "Loss1: 1.4001, Loss2: 0.4814, Loss3: 2.1436\n"
     ]
    },
    {
     "name": "stderr",
     "output_type": "stream",
     "text": [
      "Test_Loader: 100%|██████████| 288/288 [00:28<00:00, 10.16it/s]\n"
     ]
    },
    {
     "name": "stdout",
     "output_type": "stream",
     "text": [
      "Loss1: 1.3807, Loss2: 0.4812, Loss3: 2.1526\n"
     ]
    },
    {
     "name": "stderr",
     "output_type": "stream",
     "text": [
      "Test_Loader: 100%|██████████| 288/288 [00:28<00:00, 10.11it/s]\n"
     ]
    },
    {
     "name": "stdout",
     "output_type": "stream",
     "text": [
      "Loss1: 1.3681, Loss2: 0.4776, Loss3: 2.1490\n"
     ]
    },
    {
     "name": "stderr",
     "output_type": "stream",
     "text": [
      "Test_Loader: 100%|██████████| 288/288 [00:28<00:00, 10.28it/s]\n"
     ]
    },
    {
     "name": "stdout",
     "output_type": "stream",
     "text": [
      "Loss1: 1.3708, Loss2: 0.4935, Loss3: 2.1437\n"
     ]
    },
    {
     "name": "stderr",
     "output_type": "stream",
     "text": [
      "Test_Loader: 100%|██████████| 288/288 [00:27<00:00, 10.30it/s]\n"
     ]
    },
    {
     "name": "stdout",
     "output_type": "stream",
     "text": [
      "Loss1: 1.3742, Loss2: 0.4929, Loss3: 2.1288\n"
     ]
    },
    {
     "name": "stderr",
     "output_type": "stream",
     "text": [
      "Test_Loader: 100%|██████████| 288/288 [00:28<00:00, 10.27it/s]\n"
     ]
    },
    {
     "name": "stdout",
     "output_type": "stream",
     "text": [
      "Loss1: 1.3411, Loss2: 0.4882, Loss3: 2.1085\n"
     ]
    },
    {
     "name": "stderr",
     "output_type": "stream",
     "text": [
      "Test_Loader: 100%|██████████| 288/288 [00:27<00:00, 10.34it/s]\n"
     ]
    },
    {
     "name": "stdout",
     "output_type": "stream",
     "text": [
      "Loss1: 1.3126, Loss2: 0.4836, Loss3: 2.0966\n"
     ]
    },
    {
     "name": "stderr",
     "output_type": "stream",
     "text": [
      "Test_Loader: 100%|██████████| 288/288 [00:27<00:00, 10.33it/s]\n"
     ]
    },
    {
     "name": "stdout",
     "output_type": "stream",
     "text": [
      "Loss1: 1.3059, Loss2: 0.4797, Loss3: 2.0762\n"
     ]
    },
    {
     "name": "stderr",
     "output_type": "stream",
     "text": [
      "Test_Loader: 100%|██████████| 288/288 [00:28<00:00, 10.11it/s]\n"
     ]
    },
    {
     "name": "stdout",
     "output_type": "stream",
     "text": [
      "Loss1: 1.3056, Loss2: 0.4809, Loss3: 2.0629\n"
     ]
    },
    {
     "name": "stderr",
     "output_type": "stream",
     "text": [
      "Test_Loader: 100%|██████████| 288/288 [00:29<00:00,  9.78it/s]\n"
     ]
    },
    {
     "name": "stdout",
     "output_type": "stream",
     "text": [
      "Loss1: 1.3131, Loss2: 0.4767, Loss3: 2.0316\n"
     ]
    },
    {
     "name": "stderr",
     "output_type": "stream",
     "text": [
      "Test_Loader: 100%|██████████| 288/288 [00:27<00:00, 10.54it/s]\n"
     ]
    },
    {
     "name": "stdout",
     "output_type": "stream",
     "text": [
      "Loss1: 1.3585, Loss2: 0.4726, Loss3: 2.0110\n"
     ]
    },
    {
     "name": "stderr",
     "output_type": "stream",
     "text": [
      "Test_Loader: 100%|██████████| 288/288 [00:27<00:00, 10.37it/s]\n"
     ]
    },
    {
     "name": "stdout",
     "output_type": "stream",
     "text": [
      "Loss1: 1.4843, Loss2: 0.5556, Loss3: 2.4025\n"
     ]
    },
    {
     "name": "stderr",
     "output_type": "stream",
     "text": [
      "Test_Loader: 100%|██████████| 288/288 [00:28<00:00, 10.13it/s]\n"
     ]
    },
    {
     "name": "stdout",
     "output_type": "stream",
     "text": [
      "Loss1: 1.4845, Loss2: 0.5578, Loss3: 2.3908\n"
     ]
    },
    {
     "name": "stderr",
     "output_type": "stream",
     "text": [
      "Test_Loader: 100%|██████████| 288/288 [00:31<00:00,  9.19it/s]\n"
     ]
    },
    {
     "name": "stdout",
     "output_type": "stream",
     "text": [
      "Loss1: 1.4612, Loss2: 0.5407, Loss3: 2.3514\n"
     ]
    },
    {
     "name": "stderr",
     "output_type": "stream",
     "text": [
      "Test_Loader: 100%|██████████| 288/288 [00:28<00:00, 10.23it/s]\n"
     ]
    },
    {
     "name": "stdout",
     "output_type": "stream",
     "text": [
      "Loss1: 1.4661, Loss2: 0.5404, Loss3: 2.3612\n"
     ]
    },
    {
     "name": "stderr",
     "output_type": "stream",
     "text": [
      "Test_Loader: 100%|██████████| 288/288 [00:28<00:00, 10.05it/s]\n"
     ]
    },
    {
     "name": "stdout",
     "output_type": "stream",
     "text": [
      "Loss1: 1.4704, Loss2: 0.5419, Loss3: 2.3604\n"
     ]
    },
    {
     "name": "stderr",
     "output_type": "stream",
     "text": [
      "Test_Loader: 100%|██████████| 288/288 [00:28<00:00, 10.19it/s]\n"
     ]
    },
    {
     "name": "stdout",
     "output_type": "stream",
     "text": [
      "Loss1: 1.4806, Loss2: 0.5451, Loss3: 2.3660\n"
     ]
    },
    {
     "name": "stderr",
     "output_type": "stream",
     "text": [
      "Test_Loader: 100%|██████████| 288/288 [00:28<00:00, 10.21it/s]\n"
     ]
    },
    {
     "name": "stdout",
     "output_type": "stream",
     "text": [
      "Loss1: 1.4772, Loss2: 0.5593, Loss3: 2.3883\n"
     ]
    },
    {
     "name": "stderr",
     "output_type": "stream",
     "text": [
      "Test_Loader: 100%|██████████| 288/288 [00:27<00:00, 10.31it/s]\n"
     ]
    },
    {
     "name": "stdout",
     "output_type": "stream",
     "text": [
      "Loss1: 1.5936, Loss2: 0.5850, Loss3: 2.6533\n"
     ]
    },
    {
     "name": "stderr",
     "output_type": "stream",
     "text": [
      "Test_Loader: 100%|██████████| 288/288 [00:28<00:00, 10.24it/s]\n"
     ]
    },
    {
     "name": "stdout",
     "output_type": "stream",
     "text": [
      "Loss1: 1.6014, Loss2: 0.5640, Loss3: 2.5683\n"
     ]
    },
    {
     "name": "stderr",
     "output_type": "stream",
     "text": [
      "Test_Loader: 100%|██████████| 288/288 [00:28<00:00,  9.96it/s]\n"
     ]
    },
    {
     "name": "stdout",
     "output_type": "stream",
     "text": [
      "Loss1: 1.6289, Loss2: 0.5613, Loss3: 2.5590\n"
     ]
    },
    {
     "name": "stderr",
     "output_type": "stream",
     "text": [
      "Test_Loader: 100%|██████████| 288/288 [00:29<00:00,  9.88it/s]\n"
     ]
    },
    {
     "name": "stdout",
     "output_type": "stream",
     "text": [
      "Loss1: 1.6269, Loss2: 0.5535, Loss3: 2.5251\n"
     ]
    },
    {
     "name": "stderr",
     "output_type": "stream",
     "text": [
      "Test_Loader: 100%|██████████| 288/288 [00:28<00:00, 10.26it/s]\n"
     ]
    },
    {
     "name": "stdout",
     "output_type": "stream",
     "text": [
      "Loss1: 1.5594, Loss2: 0.5457, Loss3: 2.5172\n"
     ]
    },
    {
     "name": "stderr",
     "output_type": "stream",
     "text": [
      "Test_Loader: 100%|██████████| 288/288 [00:26<00:00, 10.73it/s]\n"
     ]
    },
    {
     "name": "stdout",
     "output_type": "stream",
     "text": [
      "Loss1: 1.6191, Loss2: 0.5453, Loss3: 2.4896\n"
     ]
    },
    {
     "name": "stderr",
     "output_type": "stream",
     "text": [
      "Test_Loader: 100%|██████████| 288/288 [00:26<00:00, 10.73it/s]\n"
     ]
    },
    {
     "name": "stdout",
     "output_type": "stream",
     "text": [
      "Loss1: 1.5529, Loss2: 0.5355, Loss3: 2.4070\n"
     ]
    },
    {
     "name": "stderr",
     "output_type": "stream",
     "text": [
      "Test_Loader: 100%|██████████| 288/288 [00:27<00:00, 10.43it/s]\n"
     ]
    },
    {
     "name": "stdout",
     "output_type": "stream",
     "text": [
      "Loss1: 1.5358, Loss2: 0.5125, Loss3: 2.2386\n"
     ]
    },
    {
     "name": "stderr",
     "output_type": "stream",
     "text": [
      "Test_Loader: 100%|██████████| 288/288 [00:27<00:00, 10.42it/s]\n"
     ]
    },
    {
     "name": "stdout",
     "output_type": "stream",
     "text": [
      "Loss1: 1.5063, Loss2: 0.5190, Loss3: 2.1935\n"
     ]
    },
    {
     "name": "stderr",
     "output_type": "stream",
     "text": [
      "Test_Loader: 100%|██████████| 288/288 [00:27<00:00, 10.39it/s]\n"
     ]
    },
    {
     "name": "stdout",
     "output_type": "stream",
     "text": [
      "Loss1: 1.4744, Loss2: 0.5122, Loss3: 1.9227\n"
     ]
    },
    {
     "name": "stderr",
     "output_type": "stream",
     "text": [
      "Test_Loader: 100%|██████████| 288/288 [00:27<00:00, 10.31it/s]\n"
     ]
    },
    {
     "name": "stdout",
     "output_type": "stream",
     "text": [
      "Loss1: 1.4152, Loss2: 0.5103, Loss3: 1.9335\n"
     ]
    },
    {
     "name": "stderr",
     "output_type": "stream",
     "text": [
      "Test_Loader: 100%|██████████| 288/288 [00:27<00:00, 10.37it/s]\n"
     ]
    },
    {
     "name": "stdout",
     "output_type": "stream",
     "text": [
      "Loss1: 1.4079, Loss2: 0.5085, Loss3: 1.9049\n"
     ]
    },
    {
     "name": "stderr",
     "output_type": "stream",
     "text": [
      "Test_Loader: 100%|██████████| 288/288 [00:28<00:00, 10.13it/s]\n"
     ]
    },
    {
     "name": "stdout",
     "output_type": "stream",
     "text": [
      "Loss1: 1.3945, Loss2: 0.5076, Loss3: 1.8766\n"
     ]
    },
    {
     "name": "stderr",
     "output_type": "stream",
     "text": [
      "Test_Loader: 100%|██████████| 288/288 [00:28<00:00,  9.99it/s]\n"
     ]
    },
    {
     "name": "stdout",
     "output_type": "stream",
     "text": [
      "Loss1: 1.4486, Loss2: 0.5107, Loss3: 1.8935\n"
     ]
    },
    {
     "name": "stderr",
     "output_type": "stream",
     "text": [
      "Test_Loader: 100%|██████████| 288/288 [00:28<00:00, 10.27it/s]\n"
     ]
    },
    {
     "name": "stdout",
     "output_type": "stream",
     "text": [
      "Loss1: 1.4011, Loss2: 0.5154, Loss3: 1.9077\n"
     ]
    },
    {
     "name": "stderr",
     "output_type": "stream",
     "text": [
      "Test_Loader: 100%|██████████| 288/288 [00:27<00:00, 10.29it/s]\n"
     ]
    },
    {
     "name": "stdout",
     "output_type": "stream",
     "text": [
      "Loss1: 1.6849, Loss2: 0.6865, Loss3: 2.4528\n"
     ]
    },
    {
     "name": "stderr",
     "output_type": "stream",
     "text": [
      "Test_Loader: 100%|██████████| 288/288 [00:30<00:00,  9.36it/s]\n"
     ]
    },
    {
     "name": "stdout",
     "output_type": "stream",
     "text": [
      "Loss1: 1.9382, Loss2: 0.7766, Loss3: 2.9137\n"
     ]
    },
    {
     "name": "stderr",
     "output_type": "stream",
     "text": [
      "Test_Loader: 100%|██████████| 288/288 [00:27<00:00, 10.57it/s]\n"
     ]
    },
    {
     "name": "stdout",
     "output_type": "stream",
     "text": [
      "Loss1: 1.8725, Loss2: 0.7443, Loss3: 2.8145\n"
     ]
    },
    {
     "name": "stderr",
     "output_type": "stream",
     "text": [
      "Test_Loader: 100%|██████████| 288/288 [00:27<00:00, 10.57it/s]\n"
     ]
    },
    {
     "name": "stdout",
     "output_type": "stream",
     "text": [
      "Loss1: 1.8974, Loss2: 0.7313, Loss3: 2.8305\n"
     ]
    },
    {
     "name": "stderr",
     "output_type": "stream",
     "text": [
      "Test_Loader: 100%|██████████| 288/288 [00:27<00:00, 10.63it/s]\n"
     ]
    },
    {
     "name": "stdout",
     "output_type": "stream",
     "text": [
      "Loss1: 1.9014, Loss2: 0.7187, Loss3: 2.7069\n"
     ]
    },
    {
     "name": "stderr",
     "output_type": "stream",
     "text": [
      "Test_Loader: 100%|██████████| 288/288 [00:27<00:00, 10.42it/s]\n"
     ]
    },
    {
     "name": "stdout",
     "output_type": "stream",
     "text": [
      "Loss1: 1.8773, Loss2: 0.7106, Loss3: 2.6442\n"
     ]
    },
    {
     "name": "stderr",
     "output_type": "stream",
     "text": [
      "Test_Loader: 100%|██████████| 288/288 [00:28<00:00, 10.22it/s]\n"
     ]
    },
    {
     "name": "stdout",
     "output_type": "stream",
     "text": [
      "Loss1: 1.8611, Loss2: 0.6966, Loss3: 2.5999\n"
     ]
    },
    {
     "name": "stderr",
     "output_type": "stream",
     "text": [
      "Test_Loader: 100%|██████████| 288/288 [00:27<00:00, 10.47it/s]\n"
     ]
    },
    {
     "name": "stdout",
     "output_type": "stream",
     "text": [
      "Loss1: 1.8143, Loss2: 0.6803, Loss3: 2.5232\n"
     ]
    },
    {
     "name": "stderr",
     "output_type": "stream",
     "text": [
      "Test_Loader: 100%|██████████| 288/288 [00:28<00:00, 10.19it/s]\n"
     ]
    },
    {
     "name": "stdout",
     "output_type": "stream",
     "text": [
      "Loss1: 1.8137, Loss2: 0.6695, Loss3: 2.4250\n"
     ]
    },
    {
     "name": "stderr",
     "output_type": "stream",
     "text": [
      "Test_Loader: 100%|██████████| 288/288 [00:27<00:00, 10.64it/s]\n"
     ]
    },
    {
     "name": "stdout",
     "output_type": "stream",
     "text": [
      "Loss1: 1.7845, Loss2: 0.6533, Loss3: 2.3999\n"
     ]
    },
    {
     "name": "stderr",
     "output_type": "stream",
     "text": [
      "Test_Loader: 100%|██████████| 288/288 [00:27<00:00, 10.47it/s]\n"
     ]
    },
    {
     "name": "stdout",
     "output_type": "stream",
     "text": [
      "Loss1: 1.8010, Loss2: 0.6598, Loss3: 2.3718\n"
     ]
    },
    {
     "name": "stderr",
     "output_type": "stream",
     "text": [
      "Test_Loader: 100%|██████████| 288/288 [00:27<00:00, 10.48it/s]\n"
     ]
    },
    {
     "name": "stdout",
     "output_type": "stream",
     "text": [
      "Loss1: 1.7509, Loss2: 0.6491, Loss3: 2.2814\n"
     ]
    },
    {
     "name": "stderr",
     "output_type": "stream",
     "text": [
      "Test_Loader: 100%|██████████| 288/288 [00:27<00:00, 10.51it/s]\n"
     ]
    },
    {
     "name": "stdout",
     "output_type": "stream",
     "text": [
      "Loss1: 1.7662, Loss2: 0.6442, Loss3: 2.2994\n"
     ]
    },
    {
     "name": "stderr",
     "output_type": "stream",
     "text": [
      "Test_Loader: 100%|██████████| 288/288 [00:27<00:00, 10.33it/s]\n"
     ]
    },
    {
     "name": "stdout",
     "output_type": "stream",
     "text": [
      "Loss1: 1.6985, Loss2: 0.6212, Loss3: 2.2289\n"
     ]
    },
    {
     "name": "stderr",
     "output_type": "stream",
     "text": [
      "Test_Loader: 100%|██████████| 288/288 [00:30<00:00,  9.37it/s]\n"
     ]
    },
    {
     "name": "stdout",
     "output_type": "stream",
     "text": [
      "Loss1: 1.6837, Loss2: 0.6297, Loss3: 2.1899\n"
     ]
    },
    {
     "name": "stderr",
     "output_type": "stream",
     "text": [
      "Test_Loader: 100%|██████████| 288/288 [00:26<00:00, 10.83it/s]\n"
     ]
    },
    {
     "name": "stdout",
     "output_type": "stream",
     "text": [
      "Loss1: 1.6178, Loss2: 0.6140, Loss3: 2.1174\n"
     ]
    },
    {
     "name": "stderr",
     "output_type": "stream",
     "text": [
      "Test_Loader: 100%|██████████| 288/288 [00:26<00:00, 10.89it/s]\n"
     ]
    },
    {
     "name": "stdout",
     "output_type": "stream",
     "text": [
      "Loss1: 1.5930, Loss2: 0.6052, Loss3: 2.0650\n"
     ]
    },
    {
     "name": "stderr",
     "output_type": "stream",
     "text": [
      "Test_Loader: 100%|██████████| 288/288 [00:27<00:00, 10.46it/s]\n"
     ]
    },
    {
     "name": "stdout",
     "output_type": "stream",
     "text": [
      "Loss1: 1.5503, Loss2: 0.6026, Loss3: 2.0396\n"
     ]
    },
    {
     "name": "stderr",
     "output_type": "stream",
     "text": [
      "Test_Loader: 100%|██████████| 288/288 [00:27<00:00, 10.37it/s]\n"
     ]
    },
    {
     "name": "stdout",
     "output_type": "stream",
     "text": [
      "Loss1: 1.5422, Loss2: 0.6018, Loss3: 2.0786\n"
     ]
    },
    {
     "name": "stderr",
     "output_type": "stream",
     "text": [
      "Test_Loader: 100%|██████████| 288/288 [00:27<00:00, 10.54it/s]\n"
     ]
    },
    {
     "name": "stdout",
     "output_type": "stream",
     "text": [
      "Loss1: 1.5419, Loss2: 0.6226, Loss3: 2.0689\n"
     ]
    },
    {
     "name": "stderr",
     "output_type": "stream",
     "text": [
      "Test_Loader: 100%|██████████| 288/288 [00:28<00:00, 10.26it/s]\n"
     ]
    },
    {
     "name": "stdout",
     "output_type": "stream",
     "text": [
      "Loss1: 1.4968, Loss2: 0.6097, Loss3: 2.0549\n"
     ]
    },
    {
     "name": "stderr",
     "output_type": "stream",
     "text": [
      "Test_Loader: 100%|██████████| 288/288 [00:27<00:00, 10.30it/s]\n"
     ]
    },
    {
     "name": "stdout",
     "output_type": "stream",
     "text": [
      "Loss1: 1.5193, Loss2: 0.6182, Loss3: 2.0351\n"
     ]
    },
    {
     "name": "stderr",
     "output_type": "stream",
     "text": [
      "Test_Loader: 100%|██████████| 288/288 [00:28<00:00, 10.23it/s]\n"
     ]
    },
    {
     "name": "stdout",
     "output_type": "stream",
     "text": [
      "Loss1: 1.5477, Loss2: 0.6336, Loss3: 2.0374\n"
     ]
    },
    {
     "name": "stderr",
     "output_type": "stream",
     "text": [
      "Test_Loader: 100%|██████████| 288/288 [00:28<00:00, 10.10it/s]\n"
     ]
    },
    {
     "name": "stdout",
     "output_type": "stream",
     "text": [
      "Loss1: 1.5601, Loss2: 0.6356, Loss3: 2.0481\n"
     ]
    },
    {
     "name": "stderr",
     "output_type": "stream",
     "text": [
      "Test_Loader: 100%|██████████| 288/288 [00:28<00:00, 10.09it/s]\n"
     ]
    },
    {
     "name": "stdout",
     "output_type": "stream",
     "text": [
      "Loss1: 1.4581, Loss2: 0.6282, Loss3: 2.0056\n"
     ]
    },
    {
     "name": "stderr",
     "output_type": "stream",
     "text": [
      "Test_Loader: 100%|██████████| 288/288 [00:27<00:00, 10.45it/s]\n"
     ]
    },
    {
     "name": "stdout",
     "output_type": "stream",
     "text": [
      "Loss1: 1.4526, Loss2: 0.6233, Loss3: 1.9660\n"
     ]
    },
    {
     "name": "stderr",
     "output_type": "stream",
     "text": [
      "Test_Loader: 100%|██████████| 288/288 [00:28<00:00, 10.20it/s]\n"
     ]
    },
    {
     "name": "stdout",
     "output_type": "stream",
     "text": [
      "Loss1: 1.4683, Loss2: 0.6214, Loss3: 1.9411\n"
     ]
    },
    {
     "name": "stderr",
     "output_type": "stream",
     "text": [
      "Test_Loader: 100%|██████████| 288/288 [00:28<00:00,  9.95it/s]\n"
     ]
    },
    {
     "name": "stdout",
     "output_type": "stream",
     "text": [
      "Loss1: 1.4442, Loss2: 0.6254, Loss3: 1.9640\n"
     ]
    },
    {
     "name": "stderr",
     "output_type": "stream",
     "text": [
      "Test_Loader: 100%|██████████| 288/288 [00:27<00:00, 10.54it/s]\n"
     ]
    },
    {
     "name": "stdout",
     "output_type": "stream",
     "text": [
      "Loss1: 1.4214, Loss2: 0.6146, Loss3: 1.8897\n"
     ]
    },
    {
     "name": "stderr",
     "output_type": "stream",
     "text": [
      "Test_Loader: 100%|██████████| 288/288 [00:26<00:00, 10.74it/s]\n"
     ]
    },
    {
     "name": "stdout",
     "output_type": "stream",
     "text": [
      "Loss1: 1.4417, Loss2: 0.6051, Loss3: 1.8361\n"
     ]
    },
    {
     "name": "stderr",
     "output_type": "stream",
     "text": [
      "Test_Loader: 100%|██████████| 288/288 [00:27<00:00, 10.61it/s]\n"
     ]
    },
    {
     "name": "stdout",
     "output_type": "stream",
     "text": [
      "Loss1: 1.4327, Loss2: 0.6139, Loss3: 1.8919\n"
     ]
    },
    {
     "name": "stderr",
     "output_type": "stream",
     "text": [
      "Test_Loader: 100%|██████████| 288/288 [00:28<00:00, 10.23it/s]\n"
     ]
    },
    {
     "name": "stdout",
     "output_type": "stream",
     "text": [
      "Loss1: 1.3345, Loss2: 0.5879, Loss3: 1.7867\n"
     ]
    },
    {
     "name": "stderr",
     "output_type": "stream",
     "text": [
      "Test_Loader: 100%|██████████| 288/288 [00:27<00:00, 10.44it/s]\n"
     ]
    },
    {
     "name": "stdout",
     "output_type": "stream",
     "text": [
      "Loss1: 1.3546, Loss2: 0.5884, Loss3: 1.7459\n"
     ]
    },
    {
     "name": "stderr",
     "output_type": "stream",
     "text": [
      "Test_Loader: 100%|██████████| 288/288 [00:27<00:00, 10.30it/s]\n"
     ]
    },
    {
     "name": "stdout",
     "output_type": "stream",
     "text": [
      "Loss1: 1.3970, Loss2: 0.5993, Loss3: 1.7895\n"
     ]
    },
    {
     "name": "stderr",
     "output_type": "stream",
     "text": [
      "Test_Loader: 100%|██████████| 288/288 [00:28<00:00, 10.10it/s]\n"
     ]
    },
    {
     "name": "stdout",
     "output_type": "stream",
     "text": [
      "Loss1: 1.3688, Loss2: 0.5879, Loss3: 1.7633\n"
     ]
    },
    {
     "name": "stderr",
     "output_type": "stream",
     "text": [
      "Test_Loader: 100%|██████████| 288/288 [00:27<00:00, 10.31it/s]\n"
     ]
    },
    {
     "name": "stdout",
     "output_type": "stream",
     "text": [
      "Loss1: 1.3416, Loss2: 0.5725, Loss3: 1.7344\n"
     ]
    },
    {
     "name": "stderr",
     "output_type": "stream",
     "text": [
      "Test_Loader: 100%|██████████| 288/288 [00:28<00:00, 10.21it/s]\n"
     ]
    },
    {
     "name": "stdout",
     "output_type": "stream",
     "text": [
      "Loss1: 1.3187, Loss2: 0.5737, Loss3: 1.7264\n"
     ]
    },
    {
     "name": "stderr",
     "output_type": "stream",
     "text": [
      "Test_Loader: 100%|██████████| 288/288 [00:28<00:00, 10.28it/s]\n"
     ]
    },
    {
     "name": "stdout",
     "output_type": "stream",
     "text": [
      "Loss1: 1.2766, Loss2: 0.5690, Loss3: 1.7082\n"
     ]
    },
    {
     "name": "stderr",
     "output_type": "stream",
     "text": [
      "Test_Loader: 100%|██████████| 288/288 [00:27<00:00, 10.49it/s]\n"
     ]
    },
    {
     "name": "stdout",
     "output_type": "stream",
     "text": [
      "Loss1: 1.2945, Loss2: 0.5866, Loss3: 1.7507\n"
     ]
    },
    {
     "name": "stderr",
     "output_type": "stream",
     "text": [
      "Test_Loader: 100%|██████████| 288/288 [00:27<00:00, 10.46it/s]\n"
     ]
    },
    {
     "name": "stdout",
     "output_type": "stream",
     "text": [
      "Loss1: 1.2975, Loss2: 0.5871, Loss3: 1.7305\n"
     ]
    },
    {
     "name": "stderr",
     "output_type": "stream",
     "text": [
      "Test_Loader: 100%|██████████| 288/288 [00:29<00:00,  9.88it/s]\n"
     ]
    },
    {
     "name": "stdout",
     "output_type": "stream",
     "text": [
      "Loss1: 1.2937, Loss2: 0.5872, Loss3: 1.7321\n"
     ]
    },
    {
     "name": "stderr",
     "output_type": "stream",
     "text": [
      "Test_Loader: 100%|██████████| 288/288 [00:27<00:00, 10.52it/s]\n"
     ]
    },
    {
     "name": "stdout",
     "output_type": "stream",
     "text": [
      "Loss1: 1.3149, Loss2: 0.5923, Loss3: 1.7313\n"
     ]
    },
    {
     "name": "stderr",
     "output_type": "stream",
     "text": [
      "Test_Loader: 100%|██████████| 288/288 [00:27<00:00, 10.42it/s]\n"
     ]
    },
    {
     "name": "stdout",
     "output_type": "stream",
     "text": [
      "Loss1: 1.2910, Loss2: 0.5832, Loss3: 1.7236\n"
     ]
    },
    {
     "name": "stderr",
     "output_type": "stream",
     "text": [
      "Test_Loader: 100%|██████████| 288/288 [00:27<00:00, 10.34it/s]\n"
     ]
    },
    {
     "name": "stdout",
     "output_type": "stream",
     "text": [
      "Loss1: 1.2810, Loss2: 0.5784, Loss3: 1.6837\n"
     ]
    },
    {
     "name": "stderr",
     "output_type": "stream",
     "text": [
      "Test_Loader: 100%|██████████| 288/288 [00:28<00:00, 10.21it/s]\n"
     ]
    },
    {
     "name": "stdout",
     "output_type": "stream",
     "text": [
      "Loss1: 1.2676, Loss2: 0.5783, Loss3: 1.6952\n"
     ]
    },
    {
     "name": "stderr",
     "output_type": "stream",
     "text": [
      "Test_Loader: 100%|██████████| 288/288 [00:27<00:00, 10.35it/s]\n"
     ]
    },
    {
     "name": "stdout",
     "output_type": "stream",
     "text": [
      "Loss1: 1.2829, Loss2: 0.5750, Loss3: 1.6770\n"
     ]
    },
    {
     "name": "stderr",
     "output_type": "stream",
     "text": [
      "Test_Loader: 100%|██████████| 288/288 [00:28<00:00, 10.03it/s]\n"
     ]
    },
    {
     "name": "stdout",
     "output_type": "stream",
     "text": [
      "Loss1: 1.2845, Loss2: 0.5716, Loss3: 1.6834\n"
     ]
    },
    {
     "name": "stderr",
     "output_type": "stream",
     "text": [
      "Test_Loader: 100%|██████████| 288/288 [00:29<00:00,  9.77it/s]\n"
     ]
    },
    {
     "name": "stdout",
     "output_type": "stream",
     "text": [
      "Loss1: 1.2738, Loss2: 0.5742, Loss3: 1.6741\n"
     ]
    },
    {
     "name": "stderr",
     "output_type": "stream",
     "text": [
      "Test_Loader: 100%|██████████| 288/288 [00:28<00:00, 10.19it/s]\n"
     ]
    },
    {
     "name": "stdout",
     "output_type": "stream",
     "text": [
      "Loss1: 1.2502, Loss2: 0.5653, Loss3: 1.6747\n"
     ]
    },
    {
     "name": "stderr",
     "output_type": "stream",
     "text": [
      "Test_Loader: 100%|██████████| 288/288 [00:28<00:00, 10.28it/s]\n"
     ]
    },
    {
     "name": "stdout",
     "output_type": "stream",
     "text": [
      "Loss1: 1.2558, Loss2: 0.5610, Loss3: 1.6491\n"
     ]
    },
    {
     "name": "stderr",
     "output_type": "stream",
     "text": [
      "Test_Loader: 100%|██████████| 288/288 [00:27<00:00, 10.38it/s]\n"
     ]
    },
    {
     "name": "stdout",
     "output_type": "stream",
     "text": [
      "Loss1: 1.2560, Loss2: 0.5593, Loss3: 1.6348\n"
     ]
    },
    {
     "name": "stderr",
     "output_type": "stream",
     "text": [
      "Test_Loader: 100%|██████████| 288/288 [00:27<00:00, 10.55it/s]\n"
     ]
    },
    {
     "name": "stdout",
     "output_type": "stream",
     "text": [
      "Loss1: 1.2675, Loss2: 0.5687, Loss3: 1.6378\n"
     ]
    },
    {
     "name": "stderr",
     "output_type": "stream",
     "text": [
      "Test_Loader: 100%|██████████| 288/288 [00:28<00:00, 10.00it/s]\n"
     ]
    },
    {
     "name": "stdout",
     "output_type": "stream",
     "text": [
      "Loss1: 1.2628, Loss2: 0.5679, Loss3: 1.6233\n"
     ]
    },
    {
     "name": "stderr",
     "output_type": "stream",
     "text": [
      "Test_Loader: 100%|██████████| 288/288 [00:30<00:00,  9.46it/s]\n"
     ]
    },
    {
     "name": "stdout",
     "output_type": "stream",
     "text": [
      "Loss1: 1.2458, Loss2: 0.5680, Loss3: 1.6069\n"
     ]
    },
    {
     "name": "stderr",
     "output_type": "stream",
     "text": [
      "Test_Loader: 100%|██████████| 288/288 [00:26<00:00, 10.72it/s]\n"
     ]
    },
    {
     "name": "stdout",
     "output_type": "stream",
     "text": [
      "Loss1: 1.2419, Loss2: 0.5489, Loss3: 1.6003\n"
     ]
    },
    {
     "name": "stderr",
     "output_type": "stream",
     "text": [
      "Test_Loader: 100%|██████████| 288/288 [00:27<00:00, 10.64it/s]\n"
     ]
    },
    {
     "name": "stdout",
     "output_type": "stream",
     "text": [
      "Loss1: 1.2169, Loss2: 0.5568, Loss3: 1.5825\n"
     ]
    },
    {
     "name": "stderr",
     "output_type": "stream",
     "text": [
      "Test_Loader: 100%|██████████| 288/288 [00:27<00:00, 10.51it/s]\n"
     ]
    },
    {
     "name": "stdout",
     "output_type": "stream",
     "text": [
      "Loss1: 1.1976, Loss2: 0.5498, Loss3: 1.5657\n"
     ]
    },
    {
     "name": "stderr",
     "output_type": "stream",
     "text": [
      "Test_Loader: 100%|██████████| 288/288 [00:29<00:00,  9.73it/s]\n"
     ]
    },
    {
     "name": "stdout",
     "output_type": "stream",
     "text": [
      "Loss1: 1.2079, Loss2: 0.5506, Loss3: 1.5609\n"
     ]
    },
    {
     "name": "stderr",
     "output_type": "stream",
     "text": [
      "Test_Loader: 100%|██████████| 288/288 [00:27<00:00, 10.55it/s]\n"
     ]
    },
    {
     "name": "stdout",
     "output_type": "stream",
     "text": [
      "Loss1: 1.1994, Loss2: 0.5487, Loss3: 1.5541\n"
     ]
    },
    {
     "name": "stderr",
     "output_type": "stream",
     "text": [
      "Test_Loader: 100%|██████████| 288/288 [00:28<00:00, 10.27it/s]\n"
     ]
    },
    {
     "name": "stdout",
     "output_type": "stream",
     "text": [
      "Loss1: 1.1805, Loss2: 0.5452, Loss3: 1.5483\n"
     ]
    },
    {
     "name": "stderr",
     "output_type": "stream",
     "text": [
      "Test_Loader: 100%|██████████| 288/288 [00:27<00:00, 10.33it/s]\n"
     ]
    },
    {
     "name": "stdout",
     "output_type": "stream",
     "text": [
      "Loss1: 1.1572, Loss2: 0.5357, Loss3: 1.5308\n"
     ]
    },
    {
     "name": "stderr",
     "output_type": "stream",
     "text": [
      "Test_Loader: 100%|██████████| 288/288 [00:27<00:00, 10.29it/s]\n"
     ]
    },
    {
     "name": "stdout",
     "output_type": "stream",
     "text": [
      "Loss1: 1.1532, Loss2: 0.5324, Loss3: 1.5168\n"
     ]
    },
    {
     "name": "stderr",
     "output_type": "stream",
     "text": [
      "Test_Loader: 100%|██████████| 288/288 [00:28<00:00, 10.19it/s]\n"
     ]
    },
    {
     "name": "stdout",
     "output_type": "stream",
     "text": [
      "Loss1: 1.1550, Loss2: 0.5350, Loss3: 1.5068\n"
     ]
    },
    {
     "name": "stderr",
     "output_type": "stream",
     "text": [
      "Test_Loader: 100%|██████████| 288/288 [00:27<00:00, 10.30it/s]\n"
     ]
    },
    {
     "name": "stdout",
     "output_type": "stream",
     "text": [
      "Loss1: 1.1644, Loss2: 0.5292, Loss3: 1.5127\n"
     ]
    },
    {
     "name": "stderr",
     "output_type": "stream",
     "text": [
      "Test_Loader: 100%|██████████| 288/288 [00:27<00:00, 10.35it/s]\n"
     ]
    },
    {
     "name": "stdout",
     "output_type": "stream",
     "text": [
      "Loss1: 1.1599, Loss2: 0.5250, Loss3: 1.5082\n"
     ]
    },
    {
     "name": "stderr",
     "output_type": "stream",
     "text": [
      "Test_Loader: 100%|██████████| 288/288 [00:28<00:00, 10.23it/s]\n"
     ]
    },
    {
     "name": "stdout",
     "output_type": "stream",
     "text": [
      "Loss1: 1.1489, Loss2: 0.5185, Loss3: 1.5029\n"
     ]
    },
    {
     "name": "stderr",
     "output_type": "stream",
     "text": [
      "Test_Loader: 100%|██████████| 288/288 [00:29<00:00,  9.73it/s]\n"
     ]
    },
    {
     "name": "stdout",
     "output_type": "stream",
     "text": [
      "Loss1: 1.1450, Loss2: 0.5028, Loss3: 1.4784\n"
     ]
    },
    {
     "name": "stderr",
     "output_type": "stream",
     "text": [
      "Test_Loader: 100%|██████████| 288/288 [00:27<00:00, 10.34it/s]\n"
     ]
    },
    {
     "name": "stdout",
     "output_type": "stream",
     "text": [
      "Loss1: 1.1543, Loss2: 0.5021, Loss3: 1.4801\n"
     ]
    },
    {
     "name": "stderr",
     "output_type": "stream",
     "text": [
      "Test_Loader: 100%|██████████| 288/288 [00:28<00:00, 10.07it/s]\n"
     ]
    },
    {
     "name": "stdout",
     "output_type": "stream",
     "text": [
      "Loss1: 1.1505, Loss2: 0.5028, Loss3: 1.4627\n"
     ]
    },
    {
     "name": "stderr",
     "output_type": "stream",
     "text": [
      "Test_Loader: 100%|██████████| 288/288 [00:28<00:00, 10.15it/s]\n"
     ]
    },
    {
     "name": "stdout",
     "output_type": "stream",
     "text": [
      "Loss1: 1.1395, Loss2: 0.5020, Loss3: 1.4650\n"
     ]
    },
    {
     "name": "stderr",
     "output_type": "stream",
     "text": [
      "Test_Loader: 100%|██████████| 288/288 [00:29<00:00,  9.78it/s]\n"
     ]
    },
    {
     "name": "stdout",
     "output_type": "stream",
     "text": [
      "Loss1: 1.1407, Loss2: 0.5020, Loss3: 1.4565\n"
     ]
    },
    {
     "name": "stderr",
     "output_type": "stream",
     "text": [
      "Test_Loader: 100%|██████████| 288/288 [00:28<00:00, 10.02it/s]\n"
     ]
    },
    {
     "name": "stdout",
     "output_type": "stream",
     "text": [
      "Loss1: 1.1440, Loss2: 0.4965, Loss3: 1.4504\n"
     ]
    },
    {
     "name": "stderr",
     "output_type": "stream",
     "text": [
      "Test_Loader: 100%|██████████| 288/288 [00:29<00:00,  9.85it/s]\n"
     ]
    },
    {
     "name": "stdout",
     "output_type": "stream",
     "text": [
      "Loss1: 1.1324, Loss2: 0.5038, Loss3: 1.4387\n"
     ]
    },
    {
     "name": "stderr",
     "output_type": "stream",
     "text": [
      "Test_Loader: 100%|██████████| 288/288 [00:27<00:00, 10.34it/s]\n"
     ]
    },
    {
     "name": "stdout",
     "output_type": "stream",
     "text": [
      "Loss1: 1.1002, Loss2: 0.4912, Loss3: 1.4232\n"
     ]
    },
    {
     "name": "stderr",
     "output_type": "stream",
     "text": [
      "Test_Loader: 100%|██████████| 288/288 [00:27<00:00, 10.39it/s]\n"
     ]
    },
    {
     "name": "stdout",
     "output_type": "stream",
     "text": [
      "Loss1: 1.0400, Loss2: 0.4791, Loss3: 1.3446\n"
     ]
    },
    {
     "name": "stderr",
     "output_type": "stream",
     "text": [
      "Test_Loader: 100%|██████████| 288/288 [00:27<00:00, 10.39it/s]\n"
     ]
    },
    {
     "name": "stdout",
     "output_type": "stream",
     "text": [
      "Loss1: 1.1306, Loss2: 0.5335, Loss3: 1.4752\n"
     ]
    },
    {
     "name": "stderr",
     "output_type": "stream",
     "text": [
      "Test_Loader: 100%|██████████| 288/288 [00:27<00:00, 10.56it/s]\n"
     ]
    },
    {
     "name": "stdout",
     "output_type": "stream",
     "text": [
      "Loss1: 1.1588, Loss2: 0.5334, Loss3: 1.5045\n"
     ]
    },
    {
     "name": "stderr",
     "output_type": "stream",
     "text": [
      "Test_Loader: 100%|██████████| 288/288 [00:27<00:00, 10.59it/s]\n"
     ]
    },
    {
     "name": "stdout",
     "output_type": "stream",
     "text": [
      "Loss1: 1.1733, Loss2: 0.5125, Loss3: 1.5223\n"
     ]
    },
    {
     "name": "stderr",
     "output_type": "stream",
     "text": [
      "Test_Loader: 100%|██████████| 288/288 [00:29<00:00,  9.62it/s]\n"
     ]
    },
    {
     "name": "stdout",
     "output_type": "stream",
     "text": [
      "Loss1: 1.1431, Loss2: 0.4989, Loss3: 1.4802\n"
     ]
    },
    {
     "name": "stderr",
     "output_type": "stream",
     "text": [
      "Test_Loader: 100%|██████████| 288/288 [00:26<00:00, 10.76it/s]\n"
     ]
    },
    {
     "name": "stdout",
     "output_type": "stream",
     "text": [
      "Loss1: 1.1222, Loss2: 0.5078, Loss3: 1.4596\n"
     ]
    },
    {
     "name": "stderr",
     "output_type": "stream",
     "text": [
      "Test_Loader: 100%|██████████| 288/288 [00:27<00:00, 10.52it/s]\n"
     ]
    },
    {
     "name": "stdout",
     "output_type": "stream",
     "text": [
      "Loss1: 1.1519, Loss2: 0.4835, Loss3: 1.4719\n"
     ]
    },
    {
     "name": "stderr",
     "output_type": "stream",
     "text": [
      "Test_Loader: 100%|██████████| 288/288 [00:27<00:00, 10.36it/s]\n"
     ]
    },
    {
     "name": "stdout",
     "output_type": "stream",
     "text": [
      "Loss1: 1.0973, Loss2: 0.4849, Loss3: 1.3873\n"
     ]
    },
    {
     "name": "stderr",
     "output_type": "stream",
     "text": [
      "Test_Loader: 100%|██████████| 288/288 [00:28<00:00,  9.99it/s]\n"
     ]
    },
    {
     "name": "stdout",
     "output_type": "stream",
     "text": [
      "Loss1: 1.0944, Loss2: 0.4683, Loss3: 1.3629\n"
     ]
    },
    {
     "name": "stderr",
     "output_type": "stream",
     "text": [
      "Test_Loader: 100%|██████████| 288/288 [00:28<00:00, 10.06it/s]\n"
     ]
    },
    {
     "name": "stdout",
     "output_type": "stream",
     "text": [
      "Loss1: 1.0777, Loss2: 0.4697, Loss3: 1.3491\n"
     ]
    },
    {
     "name": "stderr",
     "output_type": "stream",
     "text": [
      "Test_Loader: 100%|██████████| 288/288 [00:28<00:00, 10.14it/s]\n"
     ]
    },
    {
     "name": "stdout",
     "output_type": "stream",
     "text": [
      "Loss1: 1.0821, Loss2: 0.4587, Loss3: 1.3483\n"
     ]
    },
    {
     "name": "stderr",
     "output_type": "stream",
     "text": [
      "Test_Loader: 100%|██████████| 288/288 [00:28<00:00, 10.03it/s]\n"
     ]
    },
    {
     "name": "stdout",
     "output_type": "stream",
     "text": [
      "Loss1: 1.0528, Loss2: 0.4586, Loss3: 1.3023\n"
     ]
    },
    {
     "name": "stderr",
     "output_type": "stream",
     "text": [
      "Test_Loader: 100%|██████████| 288/288 [00:27<00:00, 10.33it/s]\n"
     ]
    },
    {
     "name": "stdout",
     "output_type": "stream",
     "text": [
      "Loss1: 1.0386, Loss2: 0.4580, Loss3: 1.2935\n"
     ]
    },
    {
     "name": "stderr",
     "output_type": "stream",
     "text": [
      "Test_Loader: 100%|██████████| 288/288 [00:27<00:00, 10.32it/s]\n"
     ]
    },
    {
     "name": "stdout",
     "output_type": "stream",
     "text": [
      "Loss1: 1.0476, Loss2: 0.4509, Loss3: 1.2941\n"
     ]
    },
    {
     "name": "stderr",
     "output_type": "stream",
     "text": [
      "Test_Loader: 100%|██████████| 288/288 [00:28<00:00, 10.24it/s]\n"
     ]
    },
    {
     "name": "stdout",
     "output_type": "stream",
     "text": [
      "Loss1: 1.0710, Loss2: 0.4599, Loss3: 1.3637\n"
     ]
    },
    {
     "name": "stderr",
     "output_type": "stream",
     "text": [
      "Test_Loader: 100%|██████████| 288/288 [00:27<00:00, 10.43it/s]\n"
     ]
    },
    {
     "name": "stdout",
     "output_type": "stream",
     "text": [
      "Loss1: 1.0424, Loss2: 0.4641, Loss3: 1.3528\n"
     ]
    },
    {
     "name": "stderr",
     "output_type": "stream",
     "text": [
      "Test_Loader: 100%|██████████| 288/288 [00:27<00:00, 10.38it/s]\n"
     ]
    },
    {
     "name": "stdout",
     "output_type": "stream",
     "text": [
      "Loss1: 1.0447, Loss2: 0.4577, Loss3: 1.3458\n"
     ]
    },
    {
     "name": "stderr",
     "output_type": "stream",
     "text": [
      "Test_Loader: 100%|██████████| 288/288 [00:29<00:00,  9.75it/s]\n"
     ]
    },
    {
     "name": "stdout",
     "output_type": "stream",
     "text": [
      "Loss1: 1.0852, Loss2: 0.4903, Loss3: 1.4458\n"
     ]
    },
    {
     "name": "stderr",
     "output_type": "stream",
     "text": [
      "Test_Loader: 100%|██████████| 288/288 [00:27<00:00, 10.31it/s]\n"
     ]
    },
    {
     "name": "stdout",
     "output_type": "stream",
     "text": [
      "Loss1: 1.0873, Loss2: 0.4991, Loss3: 1.4397\n"
     ]
    },
    {
     "name": "stderr",
     "output_type": "stream",
     "text": [
      "Test_Loader: 100%|██████████| 288/288 [00:27<00:00, 10.45it/s]\n"
     ]
    },
    {
     "name": "stdout",
     "output_type": "stream",
     "text": [
      "Loss1: 1.0853, Loss2: 0.4870, Loss3: 1.4332\n"
     ]
    },
    {
     "name": "stderr",
     "output_type": "stream",
     "text": [
      "Test_Loader: 100%|██████████| 288/288 [00:27<00:00, 10.31it/s]\n"
     ]
    },
    {
     "name": "stdout",
     "output_type": "stream",
     "text": [
      "Loss1: 1.1769, Loss2: 0.5381, Loss3: 1.5123\n"
     ]
    },
    {
     "name": "stderr",
     "output_type": "stream",
     "text": [
      "Test_Loader: 100%|██████████| 288/288 [00:29<00:00,  9.68it/s]\n"
     ]
    },
    {
     "name": "stdout",
     "output_type": "stream",
     "text": [
      "Loss1: 1.1801, Loss2: 0.5222, Loss3: 1.5264\n"
     ]
    },
    {
     "name": "stderr",
     "output_type": "stream",
     "text": [
      "Test_Loader: 100%|██████████| 288/288 [00:27<00:00, 10.31it/s]\n"
     ]
    },
    {
     "name": "stdout",
     "output_type": "stream",
     "text": [
      "Loss1: 1.0588, Loss2: 0.4955, Loss3: 1.4740\n"
     ]
    },
    {
     "name": "stderr",
     "output_type": "stream",
     "text": [
      "Test_Loader: 100%|██████████| 288/288 [00:28<00:00,  9.98it/s]\n"
     ]
    },
    {
     "name": "stdout",
     "output_type": "stream",
     "text": [
      "Loss1: 1.0023, Loss2: 0.4609, Loss3: 1.4146\n"
     ]
    },
    {
     "name": "stderr",
     "output_type": "stream",
     "text": [
      "Test_Loader: 100%|██████████| 288/288 [00:28<00:00, 10.02it/s]\n"
     ]
    },
    {
     "name": "stdout",
     "output_type": "stream",
     "text": [
      "Loss1: 0.9956, Loss2: 0.4573, Loss3: 1.4207\n"
     ]
    },
    {
     "name": "stderr",
     "output_type": "stream",
     "text": [
      "Test_Loader: 100%|██████████| 288/288 [00:27<00:00, 10.31it/s]\n"
     ]
    },
    {
     "name": "stdout",
     "output_type": "stream",
     "text": [
      "Loss1: 0.9765, Loss2: 0.4328, Loss3: 1.3895\n"
     ]
    },
    {
     "name": "stderr",
     "output_type": "stream",
     "text": [
      "Test_Loader: 100%|██████████| 288/288 [00:27<00:00, 10.35it/s]\n"
     ]
    },
    {
     "name": "stdout",
     "output_type": "stream",
     "text": [
      "Loss1: 1.0961, Loss2: 0.4671, Loss3: 1.5811\n"
     ]
    },
    {
     "name": "stderr",
     "output_type": "stream",
     "text": [
      "Test_Loader: 100%|██████████| 288/288 [00:27<00:00, 10.40it/s]\n"
     ]
    },
    {
     "name": "stdout",
     "output_type": "stream",
     "text": [
      "Loss1: 1.0802, Loss2: 0.4442, Loss3: 1.5446\n"
     ]
    },
    {
     "name": "stderr",
     "output_type": "stream",
     "text": [
      "Test_Loader: 100%|██████████| 288/288 [00:27<00:00, 10.54it/s]\n"
     ]
    },
    {
     "name": "stdout",
     "output_type": "stream",
     "text": [
      "Loss1: 1.1069, Loss2: 0.4519, Loss3: 1.5725\n"
     ]
    },
    {
     "name": "stderr",
     "output_type": "stream",
     "text": [
      "Test_Loader: 100%|██████████| 288/288 [00:28<00:00,  9.93it/s]\n"
     ]
    },
    {
     "name": "stdout",
     "output_type": "stream",
     "text": [
      "Loss1: 1.2048, Loss2: 0.4631, Loss3: 1.5590\n"
     ]
    },
    {
     "name": "stderr",
     "output_type": "stream",
     "text": [
      "Test_Loader: 100%|██████████| 288/288 [00:28<00:00, 10.27it/s]\n"
     ]
    },
    {
     "name": "stdout",
     "output_type": "stream",
     "text": [
      "Loss1: 1.1983, Loss2: 0.4775, Loss3: 1.5809\n"
     ]
    },
    {
     "name": "stderr",
     "output_type": "stream",
     "text": [
      "Test_Loader: 100%|██████████| 288/288 [00:27<00:00, 10.48it/s]\n"
     ]
    },
    {
     "name": "stdout",
     "output_type": "stream",
     "text": [
      "Loss1: 1.1787, Loss2: 0.4544, Loss3: 1.5310\n"
     ]
    },
    {
     "name": "stderr",
     "output_type": "stream",
     "text": [
      "Test_Loader: 100%|██████████| 288/288 [00:27<00:00, 10.31it/s]\n"
     ]
    },
    {
     "name": "stdout",
     "output_type": "stream",
     "text": [
      "Loss1: 1.2058, Loss2: 0.4445, Loss3: 1.5680\n"
     ]
    },
    {
     "name": "stderr",
     "output_type": "stream",
     "text": [
      "Test_Loader: 100%|██████████| 288/288 [00:28<00:00, 10.23it/s]\n"
     ]
    },
    {
     "name": "stdout",
     "output_type": "stream",
     "text": [
      "Loss1: 1.1642, Loss2: 0.4616, Loss3: 1.5226\n"
     ]
    },
    {
     "name": "stderr",
     "output_type": "stream",
     "text": [
      "Test_Loader: 100%|██████████| 288/288 [00:30<00:00,  9.59it/s]\n"
     ]
    },
    {
     "name": "stdout",
     "output_type": "stream",
     "text": [
      "Loss1: 1.1878, Loss2: 0.4642, Loss3: 1.5469\n"
     ]
    },
    {
     "name": "stderr",
     "output_type": "stream",
     "text": [
      "Test_Loader: 100%|██████████| 288/288 [00:28<00:00, 10.22it/s]\n"
     ]
    },
    {
     "name": "stdout",
     "output_type": "stream",
     "text": [
      "Loss1: 1.1502, Loss2: 0.4703, Loss3: 1.5372\n"
     ]
    },
    {
     "name": "stderr",
     "output_type": "stream",
     "text": [
      "Test_Loader: 100%|██████████| 288/288 [00:28<00:00, 10.05it/s]\n"
     ]
    },
    {
     "name": "stdout",
     "output_type": "stream",
     "text": [
      "Loss1: 1.1694, Loss2: 0.4588, Loss3: 1.5043\n"
     ]
    },
    {
     "name": "stderr",
     "output_type": "stream",
     "text": [
      "Test_Loader: 100%|██████████| 288/288 [00:28<00:00, 10.07it/s]\n"
     ]
    },
    {
     "name": "stdout",
     "output_type": "stream",
     "text": [
      "Loss1: 1.1665, Loss2: 0.4582, Loss3: 1.4917\n"
     ]
    },
    {
     "name": "stderr",
     "output_type": "stream",
     "text": [
      "Test_Loader: 100%|██████████| 288/288 [00:28<00:00, 10.17it/s]\n"
     ]
    },
    {
     "name": "stdout",
     "output_type": "stream",
     "text": [
      "Loss1: 1.1549, Loss2: 0.4449, Loss3: 1.4882\n"
     ]
    },
    {
     "name": "stderr",
     "output_type": "stream",
     "text": [
      "Test_Loader: 100%|██████████| 288/288 [00:28<00:00, 10.23it/s]\n"
     ]
    },
    {
     "name": "stdout",
     "output_type": "stream",
     "text": [
      "Loss1: 1.1800, Loss2: 0.4442, Loss3: 1.5273\n"
     ]
    },
    {
     "name": "stderr",
     "output_type": "stream",
     "text": [
      "Test_Loader: 100%|██████████| 288/288 [00:27<00:00, 10.50it/s]\n"
     ]
    },
    {
     "name": "stdout",
     "output_type": "stream",
     "text": [
      "Loss1: 1.1968, Loss2: 0.4465, Loss3: 1.5536\n"
     ]
    },
    {
     "name": "stderr",
     "output_type": "stream",
     "text": [
      "Test_Loader: 100%|██████████| 288/288 [00:27<00:00, 10.51it/s]\n"
     ]
    },
    {
     "name": "stdout",
     "output_type": "stream",
     "text": [
      "Loss1: 1.1812, Loss2: 0.4386, Loss3: 1.5543\n"
     ]
    },
    {
     "name": "stderr",
     "output_type": "stream",
     "text": [
      "Test_Loader: 100%|██████████| 288/288 [00:28<00:00, 10.25it/s]\n"
     ]
    },
    {
     "name": "stdout",
     "output_type": "stream",
     "text": [
      "Loss1: 1.1811, Loss2: 0.4334, Loss3: 1.5449\n"
     ]
    },
    {
     "name": "stderr",
     "output_type": "stream",
     "text": [
      "Test_Loader: 100%|██████████| 288/288 [00:29<00:00,  9.73it/s]\n"
     ]
    },
    {
     "name": "stdout",
     "output_type": "stream",
     "text": [
      "Loss1: 1.1795, Loss2: 0.4317, Loss3: 1.6234\n"
     ]
    },
    {
     "name": "stderr",
     "output_type": "stream",
     "text": [
      "Test_Loader: 100%|██████████| 288/288 [00:27<00:00, 10.57it/s]\n"
     ]
    },
    {
     "name": "stdout",
     "output_type": "stream",
     "text": [
      "Loss1: 1.1574, Loss2: 0.4358, Loss3: 1.6001\n"
     ]
    },
    {
     "name": "stderr",
     "output_type": "stream",
     "text": [
      "Test_Loader: 100%|██████████| 288/288 [00:27<00:00, 10.52it/s]\n"
     ]
    },
    {
     "name": "stdout",
     "output_type": "stream",
     "text": [
      "Loss1: 1.1614, Loss2: 0.4213, Loss3: 1.5988\n"
     ]
    },
    {
     "name": "stderr",
     "output_type": "stream",
     "text": [
      "Test_Loader: 100%|██████████| 288/288 [00:28<00:00, 10.25it/s]\n"
     ]
    },
    {
     "name": "stdout",
     "output_type": "stream",
     "text": [
      "Loss1: 1.1942, Loss2: 0.4364, Loss3: 1.6255\n"
     ]
    },
    {
     "name": "stderr",
     "output_type": "stream",
     "text": [
      "Test_Loader: 100%|██████████| 288/288 [00:28<00:00, 10.07it/s]\n"
     ]
    },
    {
     "name": "stdout",
     "output_type": "stream",
     "text": [
      "Loss1: 1.2299, Loss2: 0.4579, Loss3: 1.6996\n"
     ]
    },
    {
     "name": "stderr",
     "output_type": "stream",
     "text": [
      "Test_Loader: 100%|██████████| 288/288 [00:28<00:00, 10.08it/s]\n"
     ]
    },
    {
     "name": "stdout",
     "output_type": "stream",
     "text": [
      "Loss1: 1.2347, Loss2: 0.4692, Loss3: 1.7177\n"
     ]
    },
    {
     "name": "stderr",
     "output_type": "stream",
     "text": [
      "Test_Loader: 100%|██████████| 288/288 [00:28<00:00, 10.06it/s]\n"
     ]
    },
    {
     "name": "stdout",
     "output_type": "stream",
     "text": [
      "Loss1: 1.2299, Loss2: 0.4609, Loss3: 1.7283\n"
     ]
    },
    {
     "name": "stderr",
     "output_type": "stream",
     "text": [
      "Test_Loader: 100%|██████████| 288/288 [00:28<00:00, 10.27it/s]\n"
     ]
    },
    {
     "name": "stdout",
     "output_type": "stream",
     "text": [
      "Loss1: 1.2041, Loss2: 0.4513, Loss3: 1.6550\n"
     ]
    },
    {
     "name": "stderr",
     "output_type": "stream",
     "text": [
      "Test_Loader: 100%|██████████| 288/288 [00:28<00:00, 10.15it/s]\n"
     ]
    },
    {
     "name": "stdout",
     "output_type": "stream",
     "text": [
      "Loss1: 1.1913, Loss2: 0.4459, Loss3: 1.6740\n"
     ]
    },
    {
     "name": "stderr",
     "output_type": "stream",
     "text": [
      "Test_Loader: 100%|██████████| 288/288 [00:28<00:00, 10.13it/s]\n"
     ]
    },
    {
     "name": "stdout",
     "output_type": "stream",
     "text": [
      "Loss1: 1.1236, Loss2: 0.4412, Loss3: 1.6402\n"
     ]
    },
    {
     "name": "stderr",
     "output_type": "stream",
     "text": [
      "Test_Loader: 100%|██████████| 288/288 [00:27<00:00, 10.32it/s]\n"
     ]
    },
    {
     "name": "stdout",
     "output_type": "stream",
     "text": [
      "Loss1: 1.0984, Loss2: 0.4391, Loss3: 1.6288\n"
     ]
    },
    {
     "name": "stderr",
     "output_type": "stream",
     "text": [
      "Test_Loader: 100%|██████████| 288/288 [00:27<00:00, 10.36it/s]\n"
     ]
    },
    {
     "name": "stdout",
     "output_type": "stream",
     "text": [
      "Loss1: 1.0995, Loss2: 0.4386, Loss3: 1.6115\n"
     ]
    },
    {
     "name": "stderr",
     "output_type": "stream",
     "text": [
      "Test_Loader: 100%|██████████| 288/288 [00:31<00:00,  9.10it/s]\n"
     ]
    },
    {
     "name": "stdout",
     "output_type": "stream",
     "text": [
      "Loss1: 1.1080, Loss2: 0.4478, Loss3: 1.6364\n"
     ]
    },
    {
     "name": "stderr",
     "output_type": "stream",
     "text": [
      "Test_Loader: 100%|██████████| 288/288 [00:29<00:00,  9.78it/s]\n"
     ]
    },
    {
     "name": "stdout",
     "output_type": "stream",
     "text": [
      "Loss1: 1.0817, Loss2: 0.4481, Loss3: 1.5943\n"
     ]
    },
    {
     "name": "stderr",
     "output_type": "stream",
     "text": [
      "Test_Loader: 100%|██████████| 288/288 [00:28<00:00, 10.26it/s]\n"
     ]
    },
    {
     "name": "stdout",
     "output_type": "stream",
     "text": [
      "Loss1: 1.0925, Loss2: 0.4446, Loss3: 1.6289\n"
     ]
    },
    {
     "name": "stderr",
     "output_type": "stream",
     "text": [
      "Test_Loader: 100%|██████████| 288/288 [00:27<00:00, 10.46it/s]\n"
     ]
    },
    {
     "name": "stdout",
     "output_type": "stream",
     "text": [
      "Loss1: 1.0976, Loss2: 0.4396, Loss3: 1.6180\n"
     ]
    },
    {
     "name": "stderr",
     "output_type": "stream",
     "text": [
      "Test_Loader: 100%|██████████| 288/288 [00:29<00:00,  9.82it/s]\n"
     ]
    },
    {
     "name": "stdout",
     "output_type": "stream",
     "text": [
      "Loss1: 1.0825, Loss2: 0.4329, Loss3: 1.6164\n"
     ]
    },
    {
     "name": "stderr",
     "output_type": "stream",
     "text": [
      "Test_Loader: 100%|██████████| 288/288 [00:27<00:00, 10.33it/s]\n"
     ]
    },
    {
     "name": "stdout",
     "output_type": "stream",
     "text": [
      "Loss1: 1.0596, Loss2: 0.4148, Loss3: 1.5629\n"
     ]
    },
    {
     "name": "stderr",
     "output_type": "stream",
     "text": [
      "Test_Loader: 100%|██████████| 288/288 [00:28<00:00, 10.11it/s]\n"
     ]
    },
    {
     "name": "stdout",
     "output_type": "stream",
     "text": [
      "Loss1: 1.0569, Loss2: 0.4152, Loss3: 1.5487\n"
     ]
    },
    {
     "name": "stderr",
     "output_type": "stream",
     "text": [
      "Test_Loader: 100%|██████████| 288/288 [00:28<00:00, 10.14it/s]\n"
     ]
    },
    {
     "name": "stdout",
     "output_type": "stream",
     "text": [
      "Loss1: 1.0572, Loss2: 0.4094, Loss3: 1.5343\n"
     ]
    },
    {
     "name": "stderr",
     "output_type": "stream",
     "text": [
      "Test_Loader: 100%|██████████| 288/288 [00:26<00:00, 10.68it/s]\n"
     ]
    },
    {
     "name": "stdout",
     "output_type": "stream",
     "text": [
      "Loss1: 1.0401, Loss2: 0.4007, Loss3: 1.5047\n"
     ]
    },
    {
     "name": "stderr",
     "output_type": "stream",
     "text": [
      "Test_Loader: 100%|██████████| 288/288 [00:27<00:00, 10.33it/s]\n"
     ]
    },
    {
     "name": "stdout",
     "output_type": "stream",
     "text": [
      "Loss1: 1.0255, Loss2: 0.4075, Loss3: 1.4985\n"
     ]
    },
    {
     "name": "stderr",
     "output_type": "stream",
     "text": [
      "Test_Loader: 100%|██████████| 288/288 [00:27<00:00, 10.41it/s]\n"
     ]
    },
    {
     "name": "stdout",
     "output_type": "stream",
     "text": [
      "Loss1: 1.0459, Loss2: 0.4070, Loss3: 1.5164\n"
     ]
    },
    {
     "name": "stderr",
     "output_type": "stream",
     "text": [
      "Test_Loader: 100%|██████████| 288/288 [00:27<00:00, 10.59it/s]\n"
     ]
    },
    {
     "name": "stdout",
     "output_type": "stream",
     "text": [
      "Loss1: 1.0386, Loss2: 0.4058, Loss3: 1.5027\n"
     ]
    },
    {
     "name": "stderr",
     "output_type": "stream",
     "text": [
      "Test_Loader: 100%|██████████| 288/288 [00:26<00:00, 10.74it/s]\n"
     ]
    },
    {
     "name": "stdout",
     "output_type": "stream",
     "text": [
      "Loss1: 1.0520, Loss2: 0.4036, Loss3: 1.4956\n"
     ]
    },
    {
     "name": "stderr",
     "output_type": "stream",
     "text": [
      "Test_Loader: 100%|██████████| 288/288 [00:26<00:00, 10.76it/s]\n"
     ]
    },
    {
     "name": "stdout",
     "output_type": "stream",
     "text": [
      "Loss1: 1.0384, Loss2: 0.4006, Loss3: 1.4778\n"
     ]
    },
    {
     "name": "stderr",
     "output_type": "stream",
     "text": [
      "Test_Loader: 100%|██████████| 288/288 [00:26<00:00, 10.74it/s]\n"
     ]
    },
    {
     "name": "stdout",
     "output_type": "stream",
     "text": [
      "Loss1: 1.0290, Loss2: 0.3996, Loss3: 1.4620\n"
     ]
    },
    {
     "name": "stderr",
     "output_type": "stream",
     "text": [
      "Test_Loader: 100%|██████████| 288/288 [00:28<00:00, 10.06it/s]\n"
     ]
    },
    {
     "name": "stdout",
     "output_type": "stream",
     "text": [
      "Loss1: 1.0263, Loss2: 0.3938, Loss3: 1.4413\n"
     ]
    },
    {
     "name": "stderr",
     "output_type": "stream",
     "text": [
      "Test_Loader: 100%|██████████| 288/288 [00:29<00:00,  9.90it/s]\n"
     ]
    },
    {
     "name": "stdout",
     "output_type": "stream",
     "text": [
      "Loss1: 1.0239, Loss2: 0.4029, Loss3: 1.4481\n"
     ]
    },
    {
     "name": "stderr",
     "output_type": "stream",
     "text": [
      "Test_Loader: 100%|██████████| 288/288 [00:28<00:00,  9.98it/s]\n"
     ]
    },
    {
     "name": "stdout",
     "output_type": "stream",
     "text": [
      "Loss1: 1.0181, Loss2: 0.3968, Loss3: 1.4446\n"
     ]
    },
    {
     "name": "stderr",
     "output_type": "stream",
     "text": [
      "Test_Loader: 100%|██████████| 288/288 [00:28<00:00, 10.05it/s]\n"
     ]
    },
    {
     "name": "stdout",
     "output_type": "stream",
     "text": [
      "Loss1: 1.0112, Loss2: 0.3983, Loss3: 1.4190\n"
     ]
    },
    {
     "name": "stderr",
     "output_type": "stream",
     "text": [
      "Test_Loader: 100%|██████████| 288/288 [00:28<00:00, 10.20it/s]\n"
     ]
    },
    {
     "name": "stdout",
     "output_type": "stream",
     "text": [
      "Loss1: 1.0022, Loss2: 0.3969, Loss3: 1.3883\n"
     ]
    },
    {
     "name": "stderr",
     "output_type": "stream",
     "text": [
      "Test_Loader: 100%|██████████| 288/288 [00:29<00:00,  9.90it/s]\n"
     ]
    },
    {
     "name": "stdout",
     "output_type": "stream",
     "text": [
      "Loss1: 1.0017, Loss2: 0.3942, Loss3: 1.4071\n"
     ]
    },
    {
     "name": "stderr",
     "output_type": "stream",
     "text": [
      "Test_Loader: 100%|██████████| 288/288 [00:29<00:00,  9.93it/s]\n"
     ]
    },
    {
     "name": "stdout",
     "output_type": "stream",
     "text": [
      "Loss1: 1.0019, Loss2: 0.3937, Loss3: 1.4013\n"
     ]
    },
    {
     "name": "stderr",
     "output_type": "stream",
     "text": [
      "Test_Loader: 100%|██████████| 288/288 [00:28<00:00,  9.98it/s]\n"
     ]
    },
    {
     "name": "stdout",
     "output_type": "stream",
     "text": [
      "Loss1: 1.0081, Loss2: 0.3942, Loss3: 1.4033\n"
     ]
    },
    {
     "name": "stderr",
     "output_type": "stream",
     "text": [
      "Test_Loader: 100%|██████████| 288/288 [00:28<00:00, 10.16it/s]\n"
     ]
    },
    {
     "name": "stdout",
     "output_type": "stream",
     "text": [
      "Loss1: 1.0103, Loss2: 0.3949, Loss3: 1.4055\n"
     ]
    },
    {
     "name": "stderr",
     "output_type": "stream",
     "text": [
      "Test_Loader: 100%|██████████| 288/288 [00:27<00:00, 10.49it/s]\n"
     ]
    },
    {
     "name": "stdout",
     "output_type": "stream",
     "text": [
      "Loss1: 1.1669, Loss2: 0.3865, Loss3: 1.4260\n"
     ]
    },
    {
     "name": "stderr",
     "output_type": "stream",
     "text": [
      "Test_Loader: 100%|██████████| 288/288 [00:29<00:00,  9.83it/s]\n"
     ]
    },
    {
     "name": "stdout",
     "output_type": "stream",
     "text": [
      "Loss1: 1.1538, Loss2: 0.3780, Loss3: 1.4037\n"
     ]
    },
    {
     "name": "stderr",
     "output_type": "stream",
     "text": [
      "Test_Loader: 100%|██████████| 288/288 [00:28<00:00, 10.26it/s]\n"
     ]
    },
    {
     "name": "stdout",
     "output_type": "stream",
     "text": [
      "Loss1: 1.1365, Loss2: 0.3894, Loss3: 1.3792\n"
     ]
    },
    {
     "name": "stderr",
     "output_type": "stream",
     "text": [
      "Test_Loader: 100%|██████████| 288/288 [00:26<00:00, 10.87it/s]\n"
     ]
    },
    {
     "name": "stdout",
     "output_type": "stream",
     "text": [
      "Loss1: 1.1142, Loss2: 0.3931, Loss3: 1.3778\n"
     ]
    },
    {
     "name": "stderr",
     "output_type": "stream",
     "text": [
      "Test_Loader: 100%|██████████| 288/288 [00:26<00:00, 10.78it/s]\n"
     ]
    },
    {
     "name": "stdout",
     "output_type": "stream",
     "text": [
      "Loss1: 1.1178, Loss2: 0.3894, Loss3: 1.3949\n"
     ]
    },
    {
     "name": "stderr",
     "output_type": "stream",
     "text": [
      "Test_Loader: 100%|██████████| 288/288 [00:27<00:00, 10.58it/s]\n"
     ]
    },
    {
     "name": "stdout",
     "output_type": "stream",
     "text": [
      "Loss1: 1.1164, Loss2: 0.3875, Loss3: 1.3780\n"
     ]
    },
    {
     "name": "stderr",
     "output_type": "stream",
     "text": [
      "Test_Loader: 100%|██████████| 288/288 [00:28<00:00, 10.18it/s]\n"
     ]
    },
    {
     "name": "stdout",
     "output_type": "stream",
     "text": [
      "Loss1: 1.1008, Loss2: 0.3902, Loss3: 1.3669\n"
     ]
    },
    {
     "name": "stderr",
     "output_type": "stream",
     "text": [
      "Test_Loader: 100%|██████████| 288/288 [00:27<00:00, 10.58it/s]\n"
     ]
    },
    {
     "name": "stdout",
     "output_type": "stream",
     "text": [
      "Loss1: 1.0942, Loss2: 0.3954, Loss3: 1.3520\n"
     ]
    },
    {
     "name": "stderr",
     "output_type": "stream",
     "text": [
      "Test_Loader: 100%|██████████| 288/288 [00:28<00:00, 10.17it/s]\n"
     ]
    },
    {
     "name": "stdout",
     "output_type": "stream",
     "text": [
      "Loss1: 1.0790, Loss2: 0.3851, Loss3: 1.3279\n"
     ]
    },
    {
     "name": "stderr",
     "output_type": "stream",
     "text": [
      "Test_Loader: 100%|██████████| 288/288 [00:28<00:00, 10.07it/s]\n"
     ]
    },
    {
     "name": "stdout",
     "output_type": "stream",
     "text": [
      "Loss1: 1.0626, Loss2: 0.3773, Loss3: 1.3537\n"
     ]
    },
    {
     "name": "stderr",
     "output_type": "stream",
     "text": [
      "Test_Loader: 100%|██████████| 288/288 [00:27<00:00, 10.57it/s]\n"
     ]
    },
    {
     "name": "stdout",
     "output_type": "stream",
     "text": [
      "Loss1: 1.0597, Loss2: 0.3712, Loss3: 1.3438\n"
     ]
    },
    {
     "name": "stderr",
     "output_type": "stream",
     "text": [
      "Test_Loader: 100%|██████████| 288/288 [00:27<00:00, 10.35it/s]\n"
     ]
    },
    {
     "name": "stdout",
     "output_type": "stream",
     "text": [
      "Loss1: 1.0533, Loss2: 0.3729, Loss3: 1.3422\n"
     ]
    },
    {
     "name": "stderr",
     "output_type": "stream",
     "text": [
      "Test_Loader: 100%|██████████| 288/288 [00:27<00:00, 10.32it/s]\n"
     ]
    },
    {
     "name": "stdout",
     "output_type": "stream",
     "text": [
      "Loss1: 1.0456, Loss2: 0.3735, Loss3: 1.3043\n"
     ]
    },
    {
     "name": "stderr",
     "output_type": "stream",
     "text": [
      "Test_Loader: 100%|██████████| 288/288 [00:27<00:00, 10.46it/s]\n"
     ]
    },
    {
     "name": "stdout",
     "output_type": "stream",
     "text": [
      "Loss1: 1.0211, Loss2: 0.3703, Loss3: 1.2895\n"
     ]
    },
    {
     "name": "stderr",
     "output_type": "stream",
     "text": [
      "Test_Loader: 100%|██████████| 288/288 [00:28<00:00,  9.97it/s]\n"
     ]
    },
    {
     "name": "stdout",
     "output_type": "stream",
     "text": [
      "Loss1: 1.0195, Loss2: 0.3818, Loss3: 1.2946\n"
     ]
    },
    {
     "name": "stderr",
     "output_type": "stream",
     "text": [
      "Test_Loader: 100%|██████████| 288/288 [00:30<00:00,  9.56it/s]\n"
     ]
    },
    {
     "name": "stdout",
     "output_type": "stream",
     "text": [
      "Loss1: 1.0477, Loss2: 0.4056, Loss3: 1.3831\n"
     ]
    },
    {
     "name": "stderr",
     "output_type": "stream",
     "text": [
      "Test_Loader: 100%|██████████| 288/288 [00:27<00:00, 10.42it/s]\n"
     ]
    },
    {
     "name": "stdout",
     "output_type": "stream",
     "text": [
      "Loss1: 1.0263, Loss2: 0.4096, Loss3: 1.3510\n"
     ]
    },
    {
     "name": "stderr",
     "output_type": "stream",
     "text": [
      "Test_Loader: 100%|██████████| 288/288 [00:28<00:00, 10.19it/s]\n"
     ]
    },
    {
     "name": "stdout",
     "output_type": "stream",
     "text": [
      "Loss1: 1.0305, Loss2: 0.4084, Loss3: 1.3778\n"
     ]
    },
    {
     "name": "stderr",
     "output_type": "stream",
     "text": [
      "Test_Loader: 100%|██████████| 288/288 [00:28<00:00, 10.15it/s]\n"
     ]
    },
    {
     "name": "stdout",
     "output_type": "stream",
     "text": [
      "Loss1: 0.9933, Loss2: 0.3941, Loss3: 1.3241\n"
     ]
    },
    {
     "name": "stderr",
     "output_type": "stream",
     "text": [
      "Test_Loader: 100%|██████████| 288/288 [00:28<00:00,  9.96it/s]\n"
     ]
    },
    {
     "name": "stdout",
     "output_type": "stream",
     "text": [
      "Loss1: 0.9830, Loss2: 0.3994, Loss3: 1.3443\n"
     ]
    },
    {
     "name": "stderr",
     "output_type": "stream",
     "text": [
      "Test_Loader: 100%|██████████| 288/288 [00:28<00:00, 10.18it/s]\n"
     ]
    },
    {
     "name": "stdout",
     "output_type": "stream",
     "text": [
      "Loss1: 1.0056, Loss2: 0.4023, Loss3: 1.3777\n"
     ]
    },
    {
     "name": "stderr",
     "output_type": "stream",
     "text": [
      "Test_Loader: 100%|██████████| 288/288 [00:28<00:00, 10.04it/s]\n"
     ]
    },
    {
     "name": "stdout",
     "output_type": "stream",
     "text": [
      "Loss1: 1.0039, Loss2: 0.4032, Loss3: 1.3963\n"
     ]
    },
    {
     "name": "stderr",
     "output_type": "stream",
     "text": [
      "Test_Loader: 100%|██████████| 288/288 [00:28<00:00, 10.09it/s]\n"
     ]
    },
    {
     "name": "stdout",
     "output_type": "stream",
     "text": [
      "Loss1: 1.0104, Loss2: 0.4025, Loss3: 1.4182\n"
     ]
    },
    {
     "name": "stderr",
     "output_type": "stream",
     "text": [
      "Test_Loader: 100%|██████████| 288/288 [00:27<00:00, 10.34it/s]\n"
     ]
    },
    {
     "name": "stdout",
     "output_type": "stream",
     "text": [
      "Loss1: 1.0601, Loss2: 0.4111, Loss3: 1.4475\n"
     ]
    },
    {
     "name": "stderr",
     "output_type": "stream",
     "text": [
      "Test_Loader: 100%|██████████| 288/288 [00:27<00:00, 10.43it/s]\n"
     ]
    },
    {
     "name": "stdout",
     "output_type": "stream",
     "text": [
      "Loss1: 1.0818, Loss2: 0.4399, Loss3: 1.5879\n"
     ]
    },
    {
     "name": "stderr",
     "output_type": "stream",
     "text": [
      "Test_Loader: 100%|██████████| 288/288 [00:27<00:00, 10.57it/s]\n"
     ]
    },
    {
     "name": "stdout",
     "output_type": "stream",
     "text": [
      "Loss1: 1.0769, Loss2: 0.4451, Loss3: 1.5769\n"
     ]
    },
    {
     "name": "stderr",
     "output_type": "stream",
     "text": [
      "Test_Loader: 100%|██████████| 288/288 [00:28<00:00, 10.09it/s]\n"
     ]
    },
    {
     "name": "stdout",
     "output_type": "stream",
     "text": [
      "Loss1: 1.0936, Loss2: 0.4548, Loss3: 1.6021\n"
     ]
    },
    {
     "name": "stderr",
     "output_type": "stream",
     "text": [
      "Test_Loader: 100%|██████████| 288/288 [00:28<00:00, 10.25it/s]\n"
     ]
    },
    {
     "name": "stdout",
     "output_type": "stream",
     "text": [
      "Loss1: 1.0883, Loss2: 0.4509, Loss3: 1.6141\n"
     ]
    },
    {
     "name": "stderr",
     "output_type": "stream",
     "text": [
      "Test_Loader: 100%|██████████| 288/288 [00:28<00:00, 10.00it/s]\n"
     ]
    },
    {
     "name": "stdout",
     "output_type": "stream",
     "text": [
      "Loss1: 1.0630, Loss2: 0.4432, Loss3: 1.5306\n"
     ]
    },
    {
     "name": "stderr",
     "output_type": "stream",
     "text": [
      "Test_Loader: 100%|██████████| 288/288 [00:26<00:00, 10.78it/s]\n"
     ]
    },
    {
     "name": "stdout",
     "output_type": "stream",
     "text": [
      "Loss1: 1.0732, Loss2: 0.4321, Loss3: 1.5306\n"
     ]
    },
    {
     "name": "stderr",
     "output_type": "stream",
     "text": [
      "Test_Loader: 100%|██████████| 288/288 [00:27<00:00, 10.37it/s]\n"
     ]
    },
    {
     "name": "stdout",
     "output_type": "stream",
     "text": [
      "Loss1: 1.0478, Loss2: 0.4326, Loss3: 1.5008\n"
     ]
    },
    {
     "name": "stderr",
     "output_type": "stream",
     "text": [
      "Test_Loader: 100%|██████████| 288/288 [00:27<00:00, 10.55it/s]\n"
     ]
    },
    {
     "name": "stdout",
     "output_type": "stream",
     "text": [
      "Loss1: 1.0429, Loss2: 0.4256, Loss3: 1.4996\n"
     ]
    },
    {
     "name": "stderr",
     "output_type": "stream",
     "text": [
      "Test_Loader: 100%|██████████| 288/288 [00:28<00:00, 10.07it/s]\n"
     ]
    },
    {
     "name": "stdout",
     "output_type": "stream",
     "text": [
      "Loss1: 1.0296, Loss2: 0.4226, Loss3: 1.4708\n"
     ]
    },
    {
     "name": "stderr",
     "output_type": "stream",
     "text": [
      "Test_Loader: 100%|██████████| 288/288 [00:27<00:00, 10.29it/s]\n"
     ]
    },
    {
     "name": "stdout",
     "output_type": "stream",
     "text": [
      "Loss1: 1.0530, Loss2: 0.4425, Loss3: 1.5496\n"
     ]
    },
    {
     "name": "stderr",
     "output_type": "stream",
     "text": [
      "Test_Loader: 100%|██████████| 288/288 [00:28<00:00, 10.01it/s]\n"
     ]
    },
    {
     "name": "stdout",
     "output_type": "stream",
     "text": [
      "Loss1: 1.0119, Loss2: 0.4318, Loss3: 1.4834\n"
     ]
    },
    {
     "name": "stderr",
     "output_type": "stream",
     "text": [
      "Test_Loader: 100%|██████████| 288/288 [00:28<00:00, 10.11it/s]\n"
     ]
    },
    {
     "name": "stdout",
     "output_type": "stream",
     "text": [
      "Loss1: 0.9950, Loss2: 0.4207, Loss3: 1.4765\n"
     ]
    },
    {
     "name": "stderr",
     "output_type": "stream",
     "text": [
      "Test_Loader: 100%|██████████| 288/288 [00:29<00:00,  9.89it/s]\n"
     ]
    },
    {
     "name": "stdout",
     "output_type": "stream",
     "text": [
      "Loss1: 1.0013, Loss2: 0.4222, Loss3: 1.4694\n"
     ]
    },
    {
     "name": "stderr",
     "output_type": "stream",
     "text": [
      "Test_Loader: 100%|██████████| 288/288 [00:28<00:00, 10.19it/s]\n"
     ]
    },
    {
     "name": "stdout",
     "output_type": "stream",
     "text": [
      "Loss1: 0.9892, Loss2: 0.4069, Loss3: 1.4287\n"
     ]
    },
    {
     "name": "stderr",
     "output_type": "stream",
     "text": [
      "Test_Loader: 100%|██████████| 288/288 [00:27<00:00, 10.31it/s]\n"
     ]
    },
    {
     "name": "stdout",
     "output_type": "stream",
     "text": [
      "Loss1: 0.9606, Loss2: 0.4025, Loss3: 1.4133\n"
     ]
    },
    {
     "name": "stderr",
     "output_type": "stream",
     "text": [
      "Test_Loader: 100%|██████████| 288/288 [00:28<00:00, 10.27it/s]\n"
     ]
    },
    {
     "name": "stdout",
     "output_type": "stream",
     "text": [
      "Loss1: 0.9804, Loss2: 0.4196, Loss3: 1.4253\n"
     ]
    },
    {
     "name": "stderr",
     "output_type": "stream",
     "text": [
      "Test_Loader: 100%|██████████| 288/288 [00:28<00:00, 10.11it/s]\n"
     ]
    },
    {
     "name": "stdout",
     "output_type": "stream",
     "text": [
      "Loss1: 0.9900, Loss2: 0.4219, Loss3: 1.4392\n"
     ]
    },
    {
     "name": "stderr",
     "output_type": "stream",
     "text": [
      "Test_Loader: 100%|██████████| 288/288 [00:28<00:00,  9.98it/s]\n"
     ]
    },
    {
     "name": "stdout",
     "output_type": "stream",
     "text": [
      "Loss1: 0.9912, Loss2: 0.4170, Loss3: 1.4138\n"
     ]
    },
    {
     "name": "stderr",
     "output_type": "stream",
     "text": [
      "Test_Loader: 100%|██████████| 288/288 [00:26<00:00, 10.95it/s]\n"
     ]
    },
    {
     "name": "stdout",
     "output_type": "stream",
     "text": [
      "Loss1: 0.9774, Loss2: 0.4209, Loss3: 1.4221\n"
     ]
    },
    {
     "name": "stderr",
     "output_type": "stream",
     "text": [
      "Test_Loader: 100%|██████████| 288/288 [00:26<00:00, 10.81it/s]\n"
     ]
    },
    {
     "name": "stdout",
     "output_type": "stream",
     "text": [
      "Loss1: 0.8947, Loss2: 0.4014, Loss3: 1.3150\n"
     ]
    },
    {
     "name": "stderr",
     "output_type": "stream",
     "text": [
      "Test_Loader: 100%|██████████| 288/288 [00:26<00:00, 10.69it/s]\n"
     ]
    },
    {
     "name": "stdout",
     "output_type": "stream",
     "text": [
      "Loss1: 0.9100, Loss2: 0.4060, Loss3: 1.3591\n"
     ]
    },
    {
     "name": "stderr",
     "output_type": "stream",
     "text": [
      "Test_Loader: 100%|██████████| 288/288 [00:26<00:00, 10.71it/s]\n"
     ]
    },
    {
     "name": "stdout",
     "output_type": "stream",
     "text": [
      "Loss1: 5.1327, Loss2: 2.1250, Loss3: 14.2848\n"
     ]
    },
    {
     "name": "stderr",
     "output_type": "stream",
     "text": [
      "Test_Loader: 100%|██████████| 288/288 [00:26<00:00, 10.69it/s]\n"
     ]
    },
    {
     "name": "stdout",
     "output_type": "stream",
     "text": [
      "Loss1: 4.7673, Loss2: 1.9346, Loss3: 13.7666\n"
     ]
    },
    {
     "name": "stderr",
     "output_type": "stream",
     "text": [
      "Test_Loader: 100%|██████████| 288/288 [00:28<00:00, 10.14it/s]\n"
     ]
    },
    {
     "name": "stdout",
     "output_type": "stream",
     "text": [
      "Loss1: 4.5219, Loss2: 1.9447, Loss3: 14.5156\n"
     ]
    },
    {
     "name": "stderr",
     "output_type": "stream",
     "text": [
      "Test_Loader: 100%|██████████| 288/288 [00:27<00:00, 10.66it/s]\n"
     ]
    },
    {
     "name": "stdout",
     "output_type": "stream",
     "text": [
      "Loss1: 4.3282, Loss2: 1.8570, Loss3: 14.3691\n"
     ]
    },
    {
     "name": "stderr",
     "output_type": "stream",
     "text": [
      "Test_Loader: 100%|██████████| 288/288 [00:27<00:00, 10.62it/s]\n"
     ]
    },
    {
     "name": "stdout",
     "output_type": "stream",
     "text": [
      "Loss1: 4.0834, Loss2: 1.4726, Loss3: 12.1173\n"
     ]
    },
    {
     "name": "stderr",
     "output_type": "stream",
     "text": [
      "Test_Loader: 100%|██████████| 288/288 [00:27<00:00, 10.38it/s]\n"
     ]
    },
    {
     "name": "stdout",
     "output_type": "stream",
     "text": [
      "Loss1: 4.1526, Loss2: 1.6437, Loss3: 13.1792\n"
     ]
    },
    {
     "name": "stderr",
     "output_type": "stream",
     "text": [
      "Test_Loader: 100%|██████████| 288/288 [00:26<00:00, 10.68it/s]\n"
     ]
    },
    {
     "name": "stdout",
     "output_type": "stream",
     "text": [
      "Loss1: 3.2446, Loss2: 1.0524, Loss3: 9.9946\n"
     ]
    },
    {
     "name": "stderr",
     "output_type": "stream",
     "text": [
      "Test_Loader: 100%|██████████| 288/288 [00:27<00:00, 10.66it/s]\n"
     ]
    },
    {
     "name": "stdout",
     "output_type": "stream",
     "text": [
      "Loss1: 3.6604, Loss2: 1.3302, Loss3: 11.8836\n"
     ]
    },
    {
     "name": "stderr",
     "output_type": "stream",
     "text": [
      "Test_Loader: 100%|██████████| 288/288 [00:29<00:00,  9.67it/s]\n"
     ]
    },
    {
     "name": "stdout",
     "output_type": "stream",
     "text": [
      "Loss1: 2.3024, Loss2: 0.7494, Loss3: 7.6162\n"
     ]
    },
    {
     "name": "stderr",
     "output_type": "stream",
     "text": [
      "Test_Loader: 100%|██████████| 288/288 [00:27<00:00, 10.46it/s]\n"
     ]
    },
    {
     "name": "stdout",
     "output_type": "stream",
     "text": [
      "Loss1: 2.6460, Loss2: 0.9602, Loss3: 9.4572\n"
     ]
    },
    {
     "name": "stderr",
     "output_type": "stream",
     "text": [
      "Test_Loader: 100%|██████████| 288/288 [00:27<00:00, 10.33it/s]\n"
     ]
    },
    {
     "name": "stdout",
     "output_type": "stream",
     "text": [
      "Loss1: 1.7148, Loss2: 0.5868, Loss3: 5.5333\n"
     ]
    },
    {
     "name": "stderr",
     "output_type": "stream",
     "text": [
      "Test_Loader: 100%|██████████| 288/288 [00:27<00:00, 10.36it/s]\n"
     ]
    },
    {
     "name": "stdout",
     "output_type": "stream",
     "text": [
      "Loss1: 1.5709, Loss2: 0.5514, Loss3: 4.7504\n"
     ]
    },
    {
     "name": "stderr",
     "output_type": "stream",
     "text": [
      "Test_Loader: 100%|██████████| 288/288 [00:28<00:00, 10.19it/s]\n"
     ]
    },
    {
     "name": "stdout",
     "output_type": "stream",
     "text": [
      "Loss1: 1.4760, Loss2: 0.5469, Loss3: 4.4155\n"
     ]
    },
    {
     "name": "stderr",
     "output_type": "stream",
     "text": [
      "Test_Loader: 100%|██████████| 288/288 [00:28<00:00, 10.19it/s]\n"
     ]
    },
    {
     "name": "stdout",
     "output_type": "stream",
     "text": [
      "Loss1: 1.5140, Loss2: 0.6228, Loss3: 5.3867\n"
     ]
    },
    {
     "name": "stderr",
     "output_type": "stream",
     "text": [
      "Test_Loader: 100%|██████████| 288/288 [00:28<00:00, 10.04it/s]\n"
     ]
    },
    {
     "name": "stdout",
     "output_type": "stream",
     "text": [
      "Loss1: 1.4244, Loss2: 0.5443, Loss3: 3.9396\n"
     ]
    },
    {
     "name": "stderr",
     "output_type": "stream",
     "text": [
      "Test_Loader: 100%|██████████| 288/288 [00:28<00:00, 10.11it/s]\n"
     ]
    },
    {
     "name": "stdout",
     "output_type": "stream",
     "text": [
      "Loss1: 1.4180, Loss2: 0.5532, Loss3: 3.7832\n"
     ]
    },
    {
     "name": "stderr",
     "output_type": "stream",
     "text": [
      "Test_Loader: 100%|██████████| 288/288 [00:28<00:00, 10.06it/s]\n"
     ]
    },
    {
     "name": "stdout",
     "output_type": "stream",
     "text": [
      "Loss1: 1.3957, Loss2: 0.5387, Loss3: 3.6112\n"
     ]
    },
    {
     "name": "stderr",
     "output_type": "stream",
     "text": [
      "Test_Loader: 100%|██████████| 288/288 [00:28<00:00, 10.14it/s]\n"
     ]
    },
    {
     "name": "stdout",
     "output_type": "stream",
     "text": [
      "Loss1: 1.4508, Loss2: 0.6136, Loss3: 3.6161\n"
     ]
    },
    {
     "name": "stderr",
     "output_type": "stream",
     "text": [
      "Test_Loader: 100%|██████████| 288/288 [00:28<00:00, 10.26it/s]\n"
     ]
    },
    {
     "name": "stdout",
     "output_type": "stream",
     "text": [
      "Loss1: 1.4083, Loss2: 0.6020, Loss3: 3.4952\n"
     ]
    },
    {
     "name": "stderr",
     "output_type": "stream",
     "text": [
      "Test_Loader: 100%|██████████| 288/288 [00:27<00:00, 10.64it/s]\n"
     ]
    },
    {
     "name": "stdout",
     "output_type": "stream",
     "text": [
      "Loss1: 1.3791, Loss2: 0.5916, Loss3: 3.4385\n"
     ]
    },
    {
     "name": "stderr",
     "output_type": "stream",
     "text": [
      "Test_Loader: 100%|██████████| 288/288 [00:28<00:00, 10.23it/s]\n"
     ]
    },
    {
     "name": "stdout",
     "output_type": "stream",
     "text": [
      "Loss1: 1.3090, Loss2: 0.5945, Loss3: 3.6390\n"
     ]
    },
    {
     "name": "stderr",
     "output_type": "stream",
     "text": [
      "Test_Loader: 100%|██████████| 288/288 [00:27<00:00, 10.56it/s]\n"
     ]
    },
    {
     "name": "stdout",
     "output_type": "stream",
     "text": [
      "Loss1: 1.3622, Loss2: 0.5975, Loss3: 3.2547\n"
     ]
    },
    {
     "name": "stderr",
     "output_type": "stream",
     "text": [
      "Test_Loader: 100%|██████████| 288/288 [00:26<00:00, 10.80it/s]\n"
     ]
    },
    {
     "name": "stdout",
     "output_type": "stream",
     "text": [
      "Loss1: 1.3559, Loss2: 0.5781, Loss3: 3.1501\n"
     ]
    },
    {
     "name": "stderr",
     "output_type": "stream",
     "text": [
      "Test_Loader: 100%|██████████| 288/288 [00:26<00:00, 10.83it/s]\n"
     ]
    },
    {
     "name": "stdout",
     "output_type": "stream",
     "text": [
      "Loss1: 1.3504, Loss2: 0.5849, Loss3: 3.1231\n"
     ]
    },
    {
     "name": "stderr",
     "output_type": "stream",
     "text": [
      "Test_Loader: 100%|██████████| 288/288 [00:27<00:00, 10.66it/s]\n"
     ]
    },
    {
     "name": "stdout",
     "output_type": "stream",
     "text": [
      "Loss1: 1.2617, Loss2: 0.5767, Loss3: 3.2423\n"
     ]
    },
    {
     "name": "stderr",
     "output_type": "stream",
     "text": [
      "Test_Loader: 100%|██████████| 288/288 [00:27<00:00, 10.56it/s]\n"
     ]
    },
    {
     "name": "stdout",
     "output_type": "stream",
     "text": [
      "Loss1: 1.2525, Loss2: 0.5789, Loss3: 3.1467\n"
     ]
    },
    {
     "name": "stderr",
     "output_type": "stream",
     "text": [
      "Test_Loader: 100%|██████████| 288/288 [00:27<00:00, 10.51it/s]\n"
     ]
    },
    {
     "name": "stdout",
     "output_type": "stream",
     "text": [
      "Loss1: 1.3026, Loss2: 0.5644, Loss3: 2.9318\n"
     ]
    },
    {
     "name": "stderr",
     "output_type": "stream",
     "text": [
      "Test_Loader: 100%|██████████| 288/288 [00:28<00:00, 10.25it/s]\n"
     ]
    },
    {
     "name": "stdout",
     "output_type": "stream",
     "text": [
      "Loss1: 1.2167, Loss2: 0.5815, Loss3: 3.0679\n"
     ]
    },
    {
     "name": "stderr",
     "output_type": "stream",
     "text": [
      "Test_Loader: 100%|██████████| 288/288 [00:28<00:00, 10.02it/s]\n"
     ]
    },
    {
     "name": "stdout",
     "output_type": "stream",
     "text": [
      "Loss1: 1.2209, Loss2: 0.5643, Loss3: 2.9491\n"
     ]
    },
    {
     "name": "stderr",
     "output_type": "stream",
     "text": [
      "Test_Loader: 100%|██████████| 288/288 [00:27<00:00, 10.38it/s]\n"
     ]
    },
    {
     "name": "stdout",
     "output_type": "stream",
     "text": [
      "Loss1: 1.2713, Loss2: 0.5475, Loss3: 2.7683\n"
     ]
    },
    {
     "name": "stderr",
     "output_type": "stream",
     "text": [
      "Test_Loader: 100%|██████████| 288/288 [00:27<00:00, 10.51it/s]\n"
     ]
    },
    {
     "name": "stdout",
     "output_type": "stream",
     "text": [
      "Loss1: 2.9301, Loss2: 1.2248, Loss3: 26.7416\n"
     ]
    },
    {
     "name": "stderr",
     "output_type": "stream",
     "text": [
      "Test_Loader: 100%|██████████| 288/288 [00:27<00:00, 10.52it/s]\n"
     ]
    },
    {
     "name": "stdout",
     "output_type": "stream",
     "text": [
      "Loss1: 2.9157, Loss2: 1.2149, Loss3: 26.2066\n"
     ]
    },
    {
     "name": "stderr",
     "output_type": "stream",
     "text": [
      "Test_Loader: 100%|██████████| 288/288 [00:27<00:00, 10.50it/s]\n"
     ]
    },
    {
     "name": "stdout",
     "output_type": "stream",
     "text": [
      "Loss1: 2.9757, Loss2: 1.1951, Loss3: 25.9721\n"
     ]
    },
    {
     "name": "stderr",
     "output_type": "stream",
     "text": [
      "Test_Loader: 100%|██████████| 288/288 [00:27<00:00, 10.47it/s]\n"
     ]
    },
    {
     "name": "stdout",
     "output_type": "stream",
     "text": [
      "Loss1: 2.9608, Loss2: 1.1930, Loss3: 25.7012\n"
     ]
    },
    {
     "name": "stderr",
     "output_type": "stream",
     "text": [
      "Test_Loader: 100%|██████████| 288/288 [00:30<00:00,  9.29it/s]\n"
     ]
    },
    {
     "name": "stdout",
     "output_type": "stream",
     "text": [
      "Loss1: 2.9402, Loss2: 1.1624, Loss3: 25.2432\n"
     ]
    },
    {
     "name": "stderr",
     "output_type": "stream",
     "text": [
      "Test_Loader: 100%|██████████| 288/288 [00:27<00:00, 10.33it/s]\n"
     ]
    },
    {
     "name": "stdout",
     "output_type": "stream",
     "text": [
      "Loss1: 2.9314, Loss2: 1.1586, Loss3: 25.1958\n"
     ]
    },
    {
     "name": "stderr",
     "output_type": "stream",
     "text": [
      "Test_Loader: 100%|██████████| 288/288 [00:26<00:00, 10.75it/s]\n"
     ]
    },
    {
     "name": "stdout",
     "output_type": "stream",
     "text": [
      "Loss1: 2.8824, Loss2: 1.1483, Loss3: 24.8289\n"
     ]
    },
    {
     "name": "stderr",
     "output_type": "stream",
     "text": [
      "Test_Loader: 100%|██████████| 288/288 [00:27<00:00, 10.54it/s]\n"
     ]
    },
    {
     "name": "stdout",
     "output_type": "stream",
     "text": [
      "Loss1: 2.9075, Loss2: 1.1611, Loss3: 24.8094\n"
     ]
    },
    {
     "name": "stderr",
     "output_type": "stream",
     "text": [
      "Test_Loader: 100%|██████████| 288/288 [00:27<00:00, 10.65it/s]\n"
     ]
    },
    {
     "name": "stdout",
     "output_type": "stream",
     "text": [
      "Loss1: 2.8316, Loss2: 1.1457, Loss3: 24.4114\n"
     ]
    },
    {
     "name": "stderr",
     "output_type": "stream",
     "text": [
      "Test_Loader: 100%|██████████| 288/288 [00:27<00:00, 10.31it/s]\n"
     ]
    },
    {
     "name": "stdout",
     "output_type": "stream",
     "text": [
      "Loss1: 2.9176, Loss2: 1.1411, Loss3: 24.4350\n"
     ]
    },
    {
     "name": "stderr",
     "output_type": "stream",
     "text": [
      "Test_Loader: 100%|██████████| 288/288 [00:27<00:00, 10.64it/s]\n"
     ]
    },
    {
     "name": "stdout",
     "output_type": "stream",
     "text": [
      "Loss1: 2.9040, Loss2: 1.1186, Loss3: 24.0294\n"
     ]
    },
    {
     "name": "stderr",
     "output_type": "stream",
     "text": [
      "Test_Loader: 100%|██████████| 288/288 [00:27<00:00, 10.29it/s]\n"
     ]
    },
    {
     "name": "stdout",
     "output_type": "stream",
     "text": [
      "Loss1: 2.8898, Loss2: 1.1394, Loss3: 23.8797\n"
     ]
    },
    {
     "name": "stderr",
     "output_type": "stream",
     "text": [
      "Test_Loader: 100%|██████████| 288/288 [00:27<00:00, 10.49it/s]\n"
     ]
    },
    {
     "name": "stdout",
     "output_type": "stream",
     "text": [
      "Loss1: 2.9582, Loss2: 1.1374, Loss3: 23.8347\n"
     ]
    },
    {
     "name": "stderr",
     "output_type": "stream",
     "text": [
      "Test_Loader: 100%|██████████| 288/288 [00:27<00:00, 10.46it/s]\n"
     ]
    },
    {
     "name": "stdout",
     "output_type": "stream",
     "text": [
      "Loss1: 2.9428, Loss2: 1.1511, Loss3: 23.8572\n"
     ]
    },
    {
     "name": "stderr",
     "output_type": "stream",
     "text": [
      "Test_Loader: 100%|██████████| 288/288 [00:27<00:00, 10.34it/s]\n"
     ]
    },
    {
     "name": "stdout",
     "output_type": "stream",
     "text": [
      "Loss1: 2.8465, Loss2: 1.1405, Loss3: 23.4826\n"
     ]
    },
    {
     "name": "stderr",
     "output_type": "stream",
     "text": [
      "Test_Loader: 100%|██████████| 288/288 [00:27<00:00, 10.55it/s]\n"
     ]
    },
    {
     "name": "stdout",
     "output_type": "stream",
     "text": [
      "Loss1: 2.9001, Loss2: 1.1255, Loss3: 23.2817\n"
     ]
    },
    {
     "name": "stderr",
     "output_type": "stream",
     "text": [
      "Test_Loader: 100%|██████████| 288/288 [00:27<00:00, 10.44it/s]\n"
     ]
    },
    {
     "name": "stdout",
     "output_type": "stream",
     "text": [
      "Loss1: 2.9186, Loss2: 1.1184, Loss3: 23.1285\n"
     ]
    },
    {
     "name": "stderr",
     "output_type": "stream",
     "text": [
      "Test_Loader: 100%|██████████| 288/288 [00:27<00:00, 10.36it/s]\n"
     ]
    },
    {
     "name": "stdout",
     "output_type": "stream",
     "text": [
      "Loss1: 2.8665, Loss2: 1.1169, Loss3: 22.9320\n"
     ]
    },
    {
     "name": "stderr",
     "output_type": "stream",
     "text": [
      "Test_Loader: 100%|██████████| 288/288 [00:28<00:00, 10.12it/s]\n"
     ]
    },
    {
     "name": "stdout",
     "output_type": "stream",
     "text": [
      "Loss1: 2.8196, Loss2: 1.1099, Loss3: 22.7681\n"
     ]
    },
    {
     "name": "stderr",
     "output_type": "stream",
     "text": [
      "Test_Loader: 100%|██████████| 288/288 [00:27<00:00, 10.56it/s]\n"
     ]
    },
    {
     "name": "stdout",
     "output_type": "stream",
     "text": [
      "Loss1: 2.8641, Loss2: 1.1747, Loss3: 22.7220\n"
     ]
    },
    {
     "name": "stderr",
     "output_type": "stream",
     "text": [
      "Test_Loader: 100%|██████████| 288/288 [00:28<00:00, 10.27it/s]\n"
     ]
    },
    {
     "name": "stdout",
     "output_type": "stream",
     "text": [
      "Loss1: 2.9017, Loss2: 1.1614, Loss3: 22.7130\n"
     ]
    },
    {
     "name": "stderr",
     "output_type": "stream",
     "text": [
      "Test_Loader: 100%|██████████| 288/288 [00:29<00:00,  9.91it/s]\n"
     ]
    },
    {
     "name": "stdout",
     "output_type": "stream",
     "text": [
      "Loss1: 2.8887, Loss2: 1.1472, Loss3: 22.2929\n"
     ]
    },
    {
     "name": "stderr",
     "output_type": "stream",
     "text": [
      "Test_Loader: 100%|██████████| 288/288 [00:28<00:00,  9.96it/s]\n"
     ]
    },
    {
     "name": "stdout",
     "output_type": "stream",
     "text": [
      "Loss1: 2.8796, Loss2: 1.1294, Loss3: 22.1086\n"
     ]
    },
    {
     "name": "stderr",
     "output_type": "stream",
     "text": [
      "Test_Loader: 100%|██████████| 288/288 [00:28<00:00, 10.15it/s]\n"
     ]
    },
    {
     "name": "stdout",
     "output_type": "stream",
     "text": [
      "Loss1: 2.8554, Loss2: 1.1249, Loss3: 21.9313\n"
     ]
    },
    {
     "name": "stderr",
     "output_type": "stream",
     "text": [
      "Test_Loader: 100%|██████████| 288/288 [00:28<00:00, 10.24it/s]\n"
     ]
    },
    {
     "name": "stdout",
     "output_type": "stream",
     "text": [
      "Loss1: 2.8792, Loss2: 1.1535, Loss3: 22.0107\n"
     ]
    },
    {
     "name": "stderr",
     "output_type": "stream",
     "text": [
      "Test_Loader: 100%|██████████| 288/288 [00:28<00:00, 10.19it/s]\n"
     ]
    },
    {
     "name": "stdout",
     "output_type": "stream",
     "text": [
      "Loss1: 2.8563, Loss2: 1.1376, Loss3: 21.8432\n"
     ]
    },
    {
     "name": "stderr",
     "output_type": "stream",
     "text": [
      "Test_Loader: 100%|██████████| 288/288 [00:28<00:00, 10.23it/s]\n"
     ]
    },
    {
     "name": "stdout",
     "output_type": "stream",
     "text": [
      "Loss1: 2.8200, Loss2: 1.1288, Loss3: 21.4324\n"
     ]
    },
    {
     "name": "stderr",
     "output_type": "stream",
     "text": [
      "Test_Loader: 100%|██████████| 288/288 [00:27<00:00, 10.34it/s]\n"
     ]
    },
    {
     "name": "stdout",
     "output_type": "stream",
     "text": [
      "Loss1: 2.8747, Loss2: 1.1245, Loss3: 21.5183\n"
     ]
    },
    {
     "name": "stderr",
     "output_type": "stream",
     "text": [
      "Test_Loader: 100%|██████████| 288/288 [00:27<00:00, 10.52it/s]\n"
     ]
    },
    {
     "name": "stdout",
     "output_type": "stream",
     "text": [
      "Loss1: 3.0234, Loss2: 1.1356, Loss3: 21.5298\n"
     ]
    },
    {
     "name": "stderr",
     "output_type": "stream",
     "text": [
      "Test_Loader: 100%|██████████| 288/288 [00:27<00:00, 10.38it/s]\n"
     ]
    },
    {
     "name": "stdout",
     "output_type": "stream",
     "text": [
      "Loss1: 3.0260, Loss2: 1.1148, Loss3: 21.1518\n"
     ]
    },
    {
     "name": "stderr",
     "output_type": "stream",
     "text": [
      "Test_Loader: 100%|██████████| 288/288 [00:32<00:00,  8.94it/s]\n"
     ]
    },
    {
     "name": "stdout",
     "output_type": "stream",
     "text": [
      "Loss1: 2.9623, Loss2: 1.1234, Loss3: 21.1802\n"
     ]
    },
    {
     "name": "stderr",
     "output_type": "stream",
     "text": [
      "Test_Loader: 100%|██████████| 288/288 [00:26<00:00, 10.83it/s]\n"
     ]
    },
    {
     "name": "stdout",
     "output_type": "stream",
     "text": [
      "Loss1: 2.9326, Loss2: 1.1163, Loss3: 21.0082\n"
     ]
    },
    {
     "name": "stderr",
     "output_type": "stream",
     "text": [
      "Test_Loader: 100%|██████████| 288/288 [00:26<00:00, 10.76it/s]\n"
     ]
    },
    {
     "name": "stdout",
     "output_type": "stream",
     "text": [
      "Loss1: 2.9638, Loss2: 1.0762, Loss3: 20.6128\n"
     ]
    },
    {
     "name": "stderr",
     "output_type": "stream",
     "text": [
      "Test_Loader: 100%|██████████| 288/288 [00:26<00:00, 10.79it/s]\n"
     ]
    },
    {
     "name": "stdout",
     "output_type": "stream",
     "text": [
      "Loss1: 2.9738, Loss2: 1.0717, Loss3: 20.4470\n"
     ]
    },
    {
     "name": "stderr",
     "output_type": "stream",
     "text": [
      "Test_Loader: 100%|██████████| 288/288 [00:26<00:00, 10.83it/s]\n"
     ]
    },
    {
     "name": "stdout",
     "output_type": "stream",
     "text": [
      "Loss1: 2.9081, Loss2: 1.0674, Loss3: 20.2653\n"
     ]
    },
    {
     "name": "stderr",
     "output_type": "stream",
     "text": [
      "Test_Loader: 100%|██████████| 288/288 [00:26<00:00, 10.71it/s]\n"
     ]
    },
    {
     "name": "stdout",
     "output_type": "stream",
     "text": [
      "Loss1: 2.8654, Loss2: 1.0487, Loss3: 20.1200\n"
     ]
    },
    {
     "name": "stderr",
     "output_type": "stream",
     "text": [
      "Test_Loader: 100%|██████████| 288/288 [00:27<00:00, 10.57it/s]\n"
     ]
    },
    {
     "name": "stdout",
     "output_type": "stream",
     "text": [
      "Loss1: 2.8245, Loss2: 1.0271, Loss3: 19.9313\n"
     ]
    },
    {
     "name": "stderr",
     "output_type": "stream",
     "text": [
      "Test_Loader: 100%|██████████| 288/288 [00:28<00:00, 10.25it/s]\n"
     ]
    },
    {
     "name": "stdout",
     "output_type": "stream",
     "text": [
      "Loss1: 2.8566, Loss2: 1.0143, Loss3: 19.7595\n"
     ]
    },
    {
     "name": "stderr",
     "output_type": "stream",
     "text": [
      "Test_Loader: 100%|██████████| 288/288 [00:26<00:00, 10.75it/s]\n"
     ]
    },
    {
     "name": "stdout",
     "output_type": "stream",
     "text": [
      "Loss1: 2.8866, Loss2: 1.0192, Loss3: 19.7456\n"
     ]
    },
    {
     "name": "stderr",
     "output_type": "stream",
     "text": [
      "Test_Loader: 100%|██████████| 288/288 [00:27<00:00, 10.47it/s]\n"
     ]
    },
    {
     "name": "stdout",
     "output_type": "stream",
     "text": [
      "Loss1: 2.8035, Loss2: 0.9675, Loss3: 19.2231\n"
     ]
    },
    {
     "name": "stderr",
     "output_type": "stream",
     "text": [
      "Test_Loader: 100%|██████████| 288/288 [00:27<00:00, 10.61it/s]\n"
     ]
    },
    {
     "name": "stdout",
     "output_type": "stream",
     "text": [
      "Loss1: 2.8128, Loss2: 0.9453, Loss3: 18.9629\n"
     ]
    },
    {
     "name": "stderr",
     "output_type": "stream",
     "text": [
      "Test_Loader: 100%|██████████| 288/288 [00:26<00:00, 10.76it/s]\n"
     ]
    },
    {
     "name": "stdout",
     "output_type": "stream",
     "text": [
      "Loss1: 2.8058, Loss2: 0.9251, Loss3: 18.7753\n"
     ]
    },
    {
     "name": "stderr",
     "output_type": "stream",
     "text": [
      "Test_Loader: 100%|██████████| 288/288 [00:28<00:00, 10.16it/s]\n"
     ]
    },
    {
     "name": "stdout",
     "output_type": "stream",
     "text": [
      "Loss1: 2.7897, Loss2: 0.9109, Loss3: 18.5928\n"
     ]
    },
    {
     "name": "stderr",
     "output_type": "stream",
     "text": [
      "Test_Loader: 100%|██████████| 288/288 [00:30<00:00,  9.42it/s]\n"
     ]
    },
    {
     "name": "stdout",
     "output_type": "stream",
     "text": [
      "Loss1: 2.7897, Loss2: 0.8915, Loss3: 18.4046\n"
     ]
    },
    {
     "name": "stderr",
     "output_type": "stream",
     "text": [
      "Test_Loader: 100%|██████████| 288/288 [00:27<00:00, 10.53it/s]\n"
     ]
    },
    {
     "name": "stdout",
     "output_type": "stream",
     "text": [
      "Loss1: 2.7106, Loss2: 0.8964, Loss3: 18.4025\n"
     ]
    },
    {
     "name": "stderr",
     "output_type": "stream",
     "text": [
      "Test_Loader: 100%|██████████| 288/288 [00:27<00:00, 10.67it/s]\n"
     ]
    },
    {
     "name": "stdout",
     "output_type": "stream",
     "text": [
      "Loss1: 2.6644, Loss2: 0.8580, Loss3: 17.9934\n"
     ]
    },
    {
     "name": "stderr",
     "output_type": "stream",
     "text": [
      "Test_Loader: 100%|██████████| 288/288 [00:27<00:00, 10.39it/s]\n"
     ]
    },
    {
     "name": "stdout",
     "output_type": "stream",
     "text": [
      "Loss1: 2.6449, Loss2: 0.8366, Loss3: 17.7770\n"
     ]
    },
    {
     "name": "stderr",
     "output_type": "stream",
     "text": [
      "Test_Loader: 100%|██████████| 288/288 [00:28<00:00, 10.09it/s]\n"
     ]
    },
    {
     "name": "stdout",
     "output_type": "stream",
     "text": [
      "Loss1: 2.6318, Loss2: 0.8300, Loss3: 17.6723\n"
     ]
    },
    {
     "name": "stderr",
     "output_type": "stream",
     "text": [
      "Test_Loader: 100%|██████████| 288/288 [00:27<00:00, 10.47it/s]\n"
     ]
    },
    {
     "name": "stdout",
     "output_type": "stream",
     "text": [
      "Loss1: 2.6276, Loss2: 0.8703, Loss3: 17.8368\n"
     ]
    },
    {
     "name": "stderr",
     "output_type": "stream",
     "text": [
      "Test_Loader: 100%|██████████| 288/288 [00:27<00:00, 10.30it/s]\n"
     ]
    },
    {
     "name": "stdout",
     "output_type": "stream",
     "text": [
      "Loss1: 2.5950, Loss2: 0.8719, Loss3: 17.6777\n"
     ]
    },
    {
     "name": "stderr",
     "output_type": "stream",
     "text": [
      "Test_Loader: 100%|██████████| 288/288 [00:28<00:00, 10.19it/s]\n"
     ]
    },
    {
     "name": "stdout",
     "output_type": "stream",
     "text": [
      "Loss1: 2.6312, Loss2: 0.8526, Loss3: 17.4946\n"
     ]
    },
    {
     "name": "stderr",
     "output_type": "stream",
     "text": [
      "Test_Loader: 100%|██████████| 288/288 [00:28<00:00, 10.20it/s]\n"
     ]
    },
    {
     "name": "stdout",
     "output_type": "stream",
     "text": [
      "Loss1: 2.6151, Loss2: 0.8309, Loss3: 17.1907\n"
     ]
    },
    {
     "name": "stderr",
     "output_type": "stream",
     "text": [
      "Test_Loader: 100%|██████████| 288/288 [00:27<00:00, 10.38it/s]\n"
     ]
    },
    {
     "name": "stdout",
     "output_type": "stream",
     "text": [
      "Loss1: 2.6275, Loss2: 0.8136, Loss3: 17.0519\n"
     ]
    },
    {
     "name": "stderr",
     "output_type": "stream",
     "text": [
      "Test_Loader: 100%|██████████| 288/288 [00:27<00:00, 10.38it/s]\n"
     ]
    },
    {
     "name": "stdout",
     "output_type": "stream",
     "text": [
      "Loss1: 2.6248, Loss2: 0.8001, Loss3: 16.9768\n"
     ]
    },
    {
     "name": "stderr",
     "output_type": "stream",
     "text": [
      "Test_Loader: 100%|██████████| 288/288 [00:27<00:00, 10.49it/s]\n"
     ]
    },
    {
     "name": "stdout",
     "output_type": "stream",
     "text": [
      "Loss1: 2.5910, Loss2: 0.8034, Loss3: 16.8119\n"
     ]
    },
    {
     "name": "stderr",
     "output_type": "stream",
     "text": [
      "Test_Loader: 100%|██████████| 288/288 [00:27<00:00, 10.49it/s]\n"
     ]
    },
    {
     "name": "stdout",
     "output_type": "stream",
     "text": [
      "Loss1: 2.5967, Loss2: 0.7925, Loss3: 16.6242\n"
     ]
    },
    {
     "name": "stderr",
     "output_type": "stream",
     "text": [
      "Test_Loader: 100%|██████████| 288/288 [00:30<00:00,  9.40it/s]\n"
     ]
    },
    {
     "name": "stdout",
     "output_type": "stream",
     "text": [
      "Loss1: 2.5877, Loss2: 0.7928, Loss3: 16.5710\n"
     ]
    },
    {
     "name": "stderr",
     "output_type": "stream",
     "text": [
      "Test_Loader: 100%|██████████| 288/288 [00:26<00:00, 10.76it/s]\n"
     ]
    },
    {
     "name": "stdout",
     "output_type": "stream",
     "text": [
      "Loss1: 2.5601, Loss2: 0.7755, Loss3: 16.2109\n"
     ]
    },
    {
     "name": "stderr",
     "output_type": "stream",
     "text": [
      "Test_Loader: 100%|██████████| 288/288 [00:27<00:00, 10.65it/s]\n"
     ]
    },
    {
     "name": "stdout",
     "output_type": "stream",
     "text": [
      "Loss1: 2.5410, Loss2: 0.7861, Loss3: 16.1774\n"
     ]
    },
    {
     "name": "stderr",
     "output_type": "stream",
     "text": [
      "Test_Loader: 100%|██████████| 288/288 [00:27<00:00, 10.66it/s]\n"
     ]
    },
    {
     "name": "stdout",
     "output_type": "stream",
     "text": [
      "Loss1: 2.5442, Loss2: 0.7944, Loss3: 16.0832\n"
     ]
    },
    {
     "name": "stderr",
     "output_type": "stream",
     "text": [
      "Test_Loader: 100%|██████████| 288/288 [00:28<00:00, 10.22it/s]\n"
     ]
    },
    {
     "name": "stdout",
     "output_type": "stream",
     "text": [
      "Loss1: 2.5137, Loss2: 0.7937, Loss3: 16.1277\n"
     ]
    },
    {
     "name": "stderr",
     "output_type": "stream",
     "text": [
      "Test_Loader: 100%|██████████| 288/288 [00:27<00:00, 10.65it/s]\n"
     ]
    },
    {
     "name": "stdout",
     "output_type": "stream",
     "text": [
      "Loss1: 2.5134, Loss2: 0.7580, Loss3: 15.8434\n"
     ]
    },
    {
     "name": "stderr",
     "output_type": "stream",
     "text": [
      "Test_Loader: 100%|██████████| 288/288 [00:27<00:00, 10.55it/s]\n"
     ]
    },
    {
     "name": "stdout",
     "output_type": "stream",
     "text": [
      "Loss1: 2.4891, Loss2: 0.7632, Loss3: 15.5836\n"
     ]
    },
    {
     "name": "stderr",
     "output_type": "stream",
     "text": [
      "Test_Loader: 100%|██████████| 288/288 [00:27<00:00, 10.48it/s]\n"
     ]
    },
    {
     "name": "stdout",
     "output_type": "stream",
     "text": [
      "Loss1: 2.5998, Loss2: 0.7538, Loss3: 15.8230\n"
     ]
    },
    {
     "name": "stderr",
     "output_type": "stream",
     "text": [
      "Test_Loader: 100%|██████████| 288/288 [00:27<00:00, 10.41it/s]\n"
     ]
    },
    {
     "name": "stdout",
     "output_type": "stream",
     "text": [
      "Loss1: 2.6201, Loss2: 0.7798, Loss3: 15.8920\n"
     ]
    },
    {
     "name": "stderr",
     "output_type": "stream",
     "text": [
      "Test_Loader: 100%|██████████| 288/288 [00:28<00:00, 10.01it/s]\n"
     ]
    },
    {
     "name": "stdout",
     "output_type": "stream",
     "text": [
      "Loss1: 2.6022, Loss2: 0.7798, Loss3: 15.7292\n"
     ]
    },
    {
     "name": "stderr",
     "output_type": "stream",
     "text": [
      "Test_Loader: 100%|██████████| 288/288 [00:28<00:00, 10.28it/s]\n"
     ]
    },
    {
     "name": "stdout",
     "output_type": "stream",
     "text": [
      "Loss1: 2.3939, Loss2: 0.6921, Loss3: 14.9393\n"
     ]
    },
    {
     "name": "stderr",
     "output_type": "stream",
     "text": [
      "Test_Loader: 100%|██████████| 288/288 [00:27<00:00, 10.54it/s]\n"
     ]
    },
    {
     "name": "stdout",
     "output_type": "stream",
     "text": [
      "Loss1: 2.3977, Loss2: 0.6668, Loss3: 14.7525\n"
     ]
    },
    {
     "name": "stderr",
     "output_type": "stream",
     "text": [
      "Test_Loader: 100%|██████████| 288/288 [00:28<00:00, 10.11it/s]\n"
     ]
    },
    {
     "name": "stdout",
     "output_type": "stream",
     "text": [
      "Loss1: 2.3796, Loss2: 0.6629, Loss3: 14.5016\n"
     ]
    },
    {
     "name": "stderr",
     "output_type": "stream",
     "text": [
      "Test_Loader: 100%|██████████| 288/288 [00:29<00:00,  9.73it/s]\n"
     ]
    },
    {
     "name": "stdout",
     "output_type": "stream",
     "text": [
      "Loss1: 2.4428, Loss2: 0.7211, Loss3: 14.9672\n"
     ]
    },
    {
     "name": "stderr",
     "output_type": "stream",
     "text": [
      "Test_Loader: 100%|██████████| 288/288 [00:27<00:00, 10.49it/s]\n"
     ]
    },
    {
     "name": "stdout",
     "output_type": "stream",
     "text": [
      "Loss1: 2.4239, Loss2: 0.7228, Loss3: 14.7269\n"
     ]
    },
    {
     "name": "stderr",
     "output_type": "stream",
     "text": [
      "Test_Loader: 100%|██████████| 288/288 [00:27<00:00, 10.57it/s]\n"
     ]
    },
    {
     "name": "stdout",
     "output_type": "stream",
     "text": [
      "Loss1: 2.3888, Loss2: 0.7036, Loss3: 14.5600\n"
     ]
    },
    {
     "name": "stderr",
     "output_type": "stream",
     "text": [
      "Test_Loader: 100%|██████████| 288/288 [00:26<00:00, 10.67it/s]\n"
     ]
    },
    {
     "name": "stdout",
     "output_type": "stream",
     "text": [
      "Loss1: 2.3890, Loss2: 0.7020, Loss3: 14.4320\n"
     ]
    },
    {
     "name": "stderr",
     "output_type": "stream",
     "text": [
      "Test_Loader: 100%|██████████| 288/288 [00:26<00:00, 10.71it/s]\n"
     ]
    },
    {
     "name": "stdout",
     "output_type": "stream",
     "text": [
      "Loss1: 2.3831, Loss2: 0.8376, Loss3: 15.2209\n"
     ]
    },
    {
     "name": "stderr",
     "output_type": "stream",
     "text": [
      "Test_Loader: 100%|██████████| 288/288 [00:27<00:00, 10.38it/s]\n"
     ]
    },
    {
     "name": "stdout",
     "output_type": "stream",
     "text": [
      "Loss1: 2.4067, Loss2: 0.8208, Loss3: 14.9841\n"
     ]
    },
    {
     "name": "stderr",
     "output_type": "stream",
     "text": [
      "Test_Loader: 100%|██████████| 288/288 [00:27<00:00, 10.36it/s]\n"
     ]
    },
    {
     "name": "stdout",
     "output_type": "stream",
     "text": [
      "Loss1: 2.4021, Loss2: 0.8147, Loss3: 14.9484\n"
     ]
    },
    {
     "name": "stderr",
     "output_type": "stream",
     "text": [
      "Test_Loader: 100%|██████████| 288/288 [00:28<00:00, 10.26it/s]\n"
     ]
    },
    {
     "name": "stdout",
     "output_type": "stream",
     "text": [
      "Loss1: 2.3738, Loss2: 0.7764, Loss3: 14.5870\n"
     ]
    },
    {
     "name": "stderr",
     "output_type": "stream",
     "text": [
      "Test_Loader: 100%|██████████| 288/288 [00:27<00:00, 10.44it/s]\n"
     ]
    },
    {
     "name": "stdout",
     "output_type": "stream",
     "text": [
      "Loss1: 2.3619, Loss2: 0.7929, Loss3: 14.5631\n"
     ]
    },
    {
     "name": "stderr",
     "output_type": "stream",
     "text": [
      "Test_Loader: 100%|██████████| 288/288 [00:27<00:00, 10.32it/s]\n"
     ]
    },
    {
     "name": "stdout",
     "output_type": "stream",
     "text": [
      "Loss1: 2.4225, Loss2: 0.7821, Loss3: 14.5089\n"
     ]
    },
    {
     "name": "stderr",
     "output_type": "stream",
     "text": [
      "Test_Loader: 100%|██████████| 288/288 [00:28<00:00, 10.15it/s]\n"
     ]
    },
    {
     "name": "stdout",
     "output_type": "stream",
     "text": [
      "Loss1: 2.3928, Loss2: 0.7918, Loss3: 14.4491\n"
     ]
    },
    {
     "name": "stderr",
     "output_type": "stream",
     "text": [
      "Test_Loader: 100%|██████████| 288/288 [00:27<00:00, 10.50it/s]\n"
     ]
    },
    {
     "name": "stdout",
     "output_type": "stream",
     "text": [
      "Loss1: 2.3847, Loss2: 0.7629, Loss3: 14.1294\n"
     ]
    },
    {
     "name": "stderr",
     "output_type": "stream",
     "text": [
      "Test_Loader: 100%|██████████| 288/288 [00:27<00:00, 10.46it/s]\n"
     ]
    },
    {
     "name": "stdout",
     "output_type": "stream",
     "text": [
      "Loss1: 2.3431, Loss2: 0.7628, Loss3: 14.0383\n"
     ]
    },
    {
     "name": "stderr",
     "output_type": "stream",
     "text": [
      "Test_Loader: 100%|██████████| 288/288 [00:27<00:00, 10.32it/s]\n"
     ]
    },
    {
     "name": "stdout",
     "output_type": "stream",
     "text": [
      "Loss1: 2.3299, Loss2: 0.7459, Loss3: 13.8496\n"
     ]
    },
    {
     "name": "stderr",
     "output_type": "stream",
     "text": [
      "Test_Loader: 100%|██████████| 288/288 [00:27<00:00, 10.30it/s]\n"
     ]
    },
    {
     "name": "stdout",
     "output_type": "stream",
     "text": [
      "Loss1: 2.2880, Loss2: 0.7396, Loss3: 13.7536\n"
     ]
    },
    {
     "name": "stderr",
     "output_type": "stream",
     "text": [
      "Test_Loader: 100%|██████████| 288/288 [00:27<00:00, 10.34it/s]\n"
     ]
    },
    {
     "name": "stdout",
     "output_type": "stream",
     "text": [
      "Loss1: 2.2856, Loss2: 0.7411, Loss3: 13.6504\n"
     ]
    },
    {
     "name": "stderr",
     "output_type": "stream",
     "text": [
      "Test_Loader: 100%|██████████| 288/288 [00:28<00:00, 10.00it/s]\n"
     ]
    },
    {
     "name": "stdout",
     "output_type": "stream",
     "text": [
      "Loss1: 2.3305, Loss2: 0.7971, Loss3: 13.6532\n"
     ]
    },
    {
     "name": "stderr",
     "output_type": "stream",
     "text": [
      "Test_Loader: 100%|██████████| 288/288 [00:28<00:00, 10.23it/s]\n"
     ]
    },
    {
     "name": "stdout",
     "output_type": "stream",
     "text": [
      "Loss1: 2.2947, Loss2: 0.7657, Loss3: 13.4755\n"
     ]
    },
    {
     "name": "stderr",
     "output_type": "stream",
     "text": [
      "Test_Loader: 100%|██████████| 288/288 [00:28<00:00, 10.20it/s]\n"
     ]
    },
    {
     "name": "stdout",
     "output_type": "stream",
     "text": [
      "Loss1: 2.3062, Loss2: 0.7651, Loss3: 13.4321\n"
     ]
    },
    {
     "name": "stderr",
     "output_type": "stream",
     "text": [
      "Test_Loader: 100%|██████████| 288/288 [00:28<00:00, 10.14it/s]\n"
     ]
    },
    {
     "name": "stdout",
     "output_type": "stream",
     "text": [
      "Loss1: 2.3661, Loss2: 0.7925, Loss3: 13.7527\n"
     ]
    },
    {
     "name": "stderr",
     "output_type": "stream",
     "text": [
      "Test_Loader: 100%|██████████| 288/288 [00:28<00:00,  9.99it/s]\n"
     ]
    },
    {
     "name": "stdout",
     "output_type": "stream",
     "text": [
      "Loss1: 2.3447, Loss2: 0.7941, Loss3: 13.5299\n"
     ]
    },
    {
     "name": "stderr",
     "output_type": "stream",
     "text": [
      "Test_Loader: 100%|██████████| 288/288 [00:28<00:00, 10.04it/s]\n"
     ]
    },
    {
     "name": "stdout",
     "output_type": "stream",
     "text": [
      "Loss1: 2.3597, Loss2: 0.7857, Loss3: 13.5181\n"
     ]
    },
    {
     "name": "stderr",
     "output_type": "stream",
     "text": [
      "Test_Loader: 100%|██████████| 288/288 [00:28<00:00, 10.14it/s]\n"
     ]
    },
    {
     "name": "stdout",
     "output_type": "stream",
     "text": [
      "Loss1: 2.3353, Loss2: 0.7752, Loss3: 13.2292\n"
     ]
    },
    {
     "name": "stderr",
     "output_type": "stream",
     "text": [
      "Test_Loader: 100%|██████████| 288/288 [00:28<00:00, 10.24it/s]\n"
     ]
    },
    {
     "name": "stdout",
     "output_type": "stream",
     "text": [
      "Loss1: 2.3710, Loss2: 0.7758, Loss3: 13.2611\n"
     ]
    },
    {
     "name": "stderr",
     "output_type": "stream",
     "text": [
      "Test_Loader: 100%|██████████| 288/288 [00:27<00:00, 10.60it/s]\n"
     ]
    },
    {
     "name": "stdout",
     "output_type": "stream",
     "text": [
      "Loss1: 2.4568, Loss2: 0.8226, Loss3: 13.3268\n"
     ]
    },
    {
     "name": "stderr",
     "output_type": "stream",
     "text": [
      "Test_Loader: 100%|██████████| 288/288 [00:27<00:00, 10.50it/s]\n"
     ]
    },
    {
     "name": "stdout",
     "output_type": "stream",
     "text": [
      "Loss1: 2.4292, Loss2: 0.8128, Loss3: 13.1252\n"
     ]
    },
    {
     "name": "stderr",
     "output_type": "stream",
     "text": [
      "Test_Loader: 100%|██████████| 288/288 [00:27<00:00, 10.65it/s]\n"
     ]
    },
    {
     "name": "stdout",
     "output_type": "stream",
     "text": [
      "Loss1: 2.4333, Loss2: 0.8173, Loss3: 13.0674\n"
     ]
    },
    {
     "name": "stderr",
     "output_type": "stream",
     "text": [
      "Test_Loader: 100%|██████████| 288/288 [00:26<00:00, 10.83it/s]\n"
     ]
    },
    {
     "name": "stdout",
     "output_type": "stream",
     "text": [
      "Loss1: 1.4563, Loss2: 0.7294, Loss3: 3.8549\n"
     ]
    },
    {
     "name": "stderr",
     "output_type": "stream",
     "text": [
      "Test_Loader: 100%|██████████| 288/288 [00:26<00:00, 10.68it/s]\n"
     ]
    },
    {
     "name": "stdout",
     "output_type": "stream",
     "text": [
      "Loss1: 1.4473, Loss2: 0.7318, Loss3: 3.7458\n"
     ]
    },
    {
     "name": "stderr",
     "output_type": "stream",
     "text": [
      "Test_Loader: 100%|██████████| 288/288 [00:27<00:00, 10.33it/s]\n"
     ]
    },
    {
     "name": "stdout",
     "output_type": "stream",
     "text": [
      "Loss1: 1.4584, Loss2: 0.7448, Loss3: 3.7445\n"
     ]
    },
    {
     "name": "stderr",
     "output_type": "stream",
     "text": [
      "Test_Loader: 100%|██████████| 288/288 [00:27<00:00, 10.50it/s]\n"
     ]
    },
    {
     "name": "stdout",
     "output_type": "stream",
     "text": [
      "Loss1: 1.4435, Loss2: 0.7424, Loss3: 3.5664\n"
     ]
    },
    {
     "name": "stderr",
     "output_type": "stream",
     "text": [
      "Test_Loader: 100%|██████████| 288/288 [00:27<00:00, 10.58it/s]\n"
     ]
    },
    {
     "name": "stdout",
     "output_type": "stream",
     "text": [
      "Loss1: 1.4528, Loss2: 0.7445, Loss3: 3.5647\n"
     ]
    },
    {
     "name": "stderr",
     "output_type": "stream",
     "text": [
      "Test_Loader: 100%|██████████| 288/288 [00:28<00:00, 10.14it/s]\n"
     ]
    },
    {
     "name": "stdout",
     "output_type": "stream",
     "text": [
      "Loss1: 1.4327, Loss2: 0.7315, Loss3: 3.5228\n"
     ]
    },
    {
     "name": "stderr",
     "output_type": "stream",
     "text": [
      "Test_Loader: 100%|██████████| 288/288 [00:27<00:00, 10.50it/s]\n"
     ]
    },
    {
     "name": "stdout",
     "output_type": "stream",
     "text": [
      "Loss1: 1.4385, Loss2: 0.7272, Loss3: 3.5095\n"
     ]
    },
    {
     "name": "stderr",
     "output_type": "stream",
     "text": [
      "Test_Loader: 100%|██████████| 288/288 [00:27<00:00, 10.41it/s]\n"
     ]
    },
    {
     "name": "stdout",
     "output_type": "stream",
     "text": [
      "Loss1: 1.4319, Loss2: 0.7549, Loss3: 3.4492\n"
     ]
    },
    {
     "name": "stderr",
     "output_type": "stream",
     "text": [
      "Test_Loader: 100%|██████████| 288/288 [00:26<00:00, 10.67it/s]\n"
     ]
    },
    {
     "name": "stdout",
     "output_type": "stream",
     "text": [
      "Loss1: 1.4756, Loss2: 0.7747, Loss3: 3.4903\n"
     ]
    },
    {
     "name": "stderr",
     "output_type": "stream",
     "text": [
      "Test_Loader: 100%|██████████| 288/288 [00:27<00:00, 10.53it/s]\n"
     ]
    },
    {
     "name": "stdout",
     "output_type": "stream",
     "text": [
      "Loss1: 1.4833, Loss2: 0.7903, Loss3: 3.5127\n"
     ]
    },
    {
     "name": "stderr",
     "output_type": "stream",
     "text": [
      "Test_Loader: 100%|██████████| 288/288 [00:27<00:00, 10.50it/s]\n"
     ]
    },
    {
     "name": "stdout",
     "output_type": "stream",
     "text": [
      "Loss1: 1.4935, Loss2: 0.7805, Loss3: 3.4451\n"
     ]
    },
    {
     "name": "stderr",
     "output_type": "stream",
     "text": [
      "Test_Loader: 100%|██████████| 288/288 [00:27<00:00, 10.30it/s]\n"
     ]
    },
    {
     "name": "stdout",
     "output_type": "stream",
     "text": [
      "Loss1: 1.4677, Loss2: 0.7643, Loss3: 3.3781\n"
     ]
    },
    {
     "name": "stderr",
     "output_type": "stream",
     "text": [
      "Test_Loader: 100%|██████████| 288/288 [00:27<00:00, 10.40it/s]\n"
     ]
    },
    {
     "name": "stdout",
     "output_type": "stream",
     "text": [
      "Loss1: 1.4300, Loss2: 0.7371, Loss3: 3.2914\n"
     ]
    },
    {
     "name": "stderr",
     "output_type": "stream",
     "text": [
      "Test_Loader: 100%|██████████| 288/288 [00:27<00:00, 10.55it/s]\n"
     ]
    },
    {
     "name": "stdout",
     "output_type": "stream",
     "text": [
      "Loss1: 1.4376, Loss2: 0.7463, Loss3: 3.2985\n"
     ]
    },
    {
     "name": "stderr",
     "output_type": "stream",
     "text": [
      "Test_Loader: 100%|██████████| 288/288 [00:27<00:00, 10.31it/s]\n"
     ]
    },
    {
     "name": "stdout",
     "output_type": "stream",
     "text": [
      "Loss1: 1.4378, Loss2: 0.7291, Loss3: 3.3096\n"
     ]
    },
    {
     "name": "stderr",
     "output_type": "stream",
     "text": [
      "Test_Loader: 100%|██████████| 288/288 [00:28<00:00, 10.23it/s]\n"
     ]
    },
    {
     "name": "stdout",
     "output_type": "stream",
     "text": [
      "Loss1: 1.4725, Loss2: 0.7739, Loss3: 3.3002\n"
     ]
    },
    {
     "name": "stderr",
     "output_type": "stream",
     "text": [
      "Test_Loader: 100%|██████████| 288/288 [00:28<00:00, 10.05it/s]\n"
     ]
    },
    {
     "name": "stdout",
     "output_type": "stream",
     "text": [
      "Loss1: 1.4830, Loss2: 0.7608, Loss3: 3.3825\n"
     ]
    },
    {
     "name": "stderr",
     "output_type": "stream",
     "text": [
      "Test_Loader: 100%|██████████| 288/288 [00:28<00:00, 10.25it/s]\n"
     ]
    },
    {
     "name": "stdout",
     "output_type": "stream",
     "text": [
      "Loss1: 1.4852, Loss2: 0.7695, Loss3: 3.3066\n"
     ]
    },
    {
     "name": "stderr",
     "output_type": "stream",
     "text": [
      "Test_Loader: 100%|██████████| 288/288 [00:28<00:00, 10.17it/s]\n"
     ]
    },
    {
     "name": "stdout",
     "output_type": "stream",
     "text": [
      "Loss1: 1.5048, Loss2: 0.7796, Loss3: 3.2959\n"
     ]
    },
    {
     "name": "stderr",
     "output_type": "stream",
     "text": [
      "Test_Loader: 100%|██████████| 288/288 [00:28<00:00, 10.11it/s]\n"
     ]
    },
    {
     "name": "stdout",
     "output_type": "stream",
     "text": [
      "Loss1: 1.4640, Loss2: 0.7603, Loss3: 3.2564\n"
     ]
    },
    {
     "name": "stderr",
     "output_type": "stream",
     "text": [
      "Test_Loader: 100%|██████████| 288/288 [00:28<00:00, 10.13it/s]\n"
     ]
    },
    {
     "name": "stdout",
     "output_type": "stream",
     "text": [
      "Loss1: 1.4631, Loss2: 0.7522, Loss3: 3.2100\n"
     ]
    },
    {
     "name": "stderr",
     "output_type": "stream",
     "text": [
      "Test_Loader: 100%|██████████| 288/288 [00:28<00:00, 10.21it/s]\n"
     ]
    },
    {
     "name": "stdout",
     "output_type": "stream",
     "text": [
      "Loss1: 1.4584, Loss2: 0.7589, Loss3: 3.1239\n"
     ]
    },
    {
     "name": "stderr",
     "output_type": "stream",
     "text": [
      "Test_Loader: 100%|██████████| 288/288 [00:28<00:00, 10.25it/s]\n"
     ]
    },
    {
     "name": "stdout",
     "output_type": "stream",
     "text": [
      "Loss1: 1.4396, Loss2: 0.7526, Loss3: 3.1116\n"
     ]
    },
    {
     "name": "stderr",
     "output_type": "stream",
     "text": [
      "Test_Loader: 100%|██████████| 288/288 [00:27<00:00, 10.33it/s]\n"
     ]
    },
    {
     "name": "stdout",
     "output_type": "stream",
     "text": [
      "Loss1: 1.4390, Loss2: 0.7412, Loss3: 3.0727\n"
     ]
    },
    {
     "name": "stderr",
     "output_type": "stream",
     "text": [
      "Test_Loader: 100%|██████████| 288/288 [00:29<00:00,  9.88it/s]\n"
     ]
    },
    {
     "name": "stdout",
     "output_type": "stream",
     "text": [
      "Loss1: 1.4117, Loss2: 0.7278, Loss3: 3.0643\n"
     ]
    },
    {
     "name": "stderr",
     "output_type": "stream",
     "text": [
      "Test_Loader: 100%|██████████| 288/288 [00:30<00:00,  9.41it/s]\n"
     ]
    },
    {
     "name": "stdout",
     "output_type": "stream",
     "text": [
      "Loss1: 1.4044, Loss2: 0.7283, Loss3: 2.9919\n"
     ]
    },
    {
     "name": "stderr",
     "output_type": "stream",
     "text": [
      "Test_Loader: 100%|██████████| 288/288 [00:28<00:00, 10.22it/s]\n"
     ]
    },
    {
     "name": "stdout",
     "output_type": "stream",
     "text": [
      "Loss1: 1.3708, Loss2: 0.7217, Loss3: 2.9791\n"
     ]
    },
    {
     "name": "stderr",
     "output_type": "stream",
     "text": [
      "Test_Loader: 100%|██████████| 288/288 [00:27<00:00, 10.53it/s]\n"
     ]
    },
    {
     "name": "stdout",
     "output_type": "stream",
     "text": [
      "Loss1: 1.3770, Loss2: 0.7230, Loss3: 2.9773\n"
     ]
    },
    {
     "name": "stderr",
     "output_type": "stream",
     "text": [
      "Test_Loader: 100%|██████████| 288/288 [00:28<00:00, 10.11it/s]\n"
     ]
    },
    {
     "name": "stdout",
     "output_type": "stream",
     "text": [
      "Loss1: 1.2865, Loss2: 0.7109, Loss3: 2.7860\n"
     ]
    },
    {
     "name": "stderr",
     "output_type": "stream",
     "text": [
      "Test_Loader: 100%|██████████| 288/288 [00:28<00:00,  9.97it/s]\n"
     ]
    },
    {
     "name": "stdout",
     "output_type": "stream",
     "text": [
      "Loss1: 1.2813, Loss2: 0.7136, Loss3: 2.7263\n"
     ]
    },
    {
     "name": "stderr",
     "output_type": "stream",
     "text": [
      "Test_Loader: 100%|██████████| 288/288 [00:29<00:00,  9.78it/s]\n"
     ]
    },
    {
     "name": "stdout",
     "output_type": "stream",
     "text": [
      "Loss1: 1.2859, Loss2: 0.7079, Loss3: 2.7476\n"
     ]
    },
    {
     "name": "stderr",
     "output_type": "stream",
     "text": [
      "Test_Loader: 100%|██████████| 288/288 [00:29<00:00,  9.93it/s]\n"
     ]
    },
    {
     "name": "stdout",
     "output_type": "stream",
     "text": [
      "Loss1: 1.2669, Loss2: 0.6913, Loss3: 2.7159\n"
     ]
    },
    {
     "name": "stderr",
     "output_type": "stream",
     "text": [
      "Test_Loader: 100%|██████████| 288/288 [00:28<00:00, 10.15it/s]\n"
     ]
    },
    {
     "name": "stdout",
     "output_type": "stream",
     "text": [
      "Loss1: 1.2612, Loss2: 0.6855, Loss3: 2.6883\n"
     ]
    },
    {
     "name": "stderr",
     "output_type": "stream",
     "text": [
      "Test_Loader: 100%|██████████| 288/288 [00:28<00:00, 10.27it/s]\n"
     ]
    },
    {
     "name": "stdout",
     "output_type": "stream",
     "text": [
      "Loss1: 1.2591, Loss2: 0.6810, Loss3: 2.6789\n"
     ]
    },
    {
     "name": "stderr",
     "output_type": "stream",
     "text": [
      "Test_Loader: 100%|██████████| 288/288 [00:28<00:00, 10.26it/s]\n"
     ]
    },
    {
     "name": "stdout",
     "output_type": "stream",
     "text": [
      "Loss1: 1.2466, Loss2: 0.6755, Loss3: 2.6230\n"
     ]
    },
    {
     "name": "stderr",
     "output_type": "stream",
     "text": [
      "Test_Loader: 100%|██████████| 288/288 [00:27<00:00, 10.39it/s]\n"
     ]
    },
    {
     "name": "stdout",
     "output_type": "stream",
     "text": [
      "Loss1: 1.2603, Loss2: 0.6799, Loss3: 2.6001\n"
     ]
    },
    {
     "name": "stderr",
     "output_type": "stream",
     "text": [
      "Test_Loader: 100%|██████████| 288/288 [00:28<00:00, 10.26it/s]\n"
     ]
    },
    {
     "name": "stdout",
     "output_type": "stream",
     "text": [
      "Loss1: 1.2525, Loss2: 0.6706, Loss3: 2.6178\n"
     ]
    },
    {
     "name": "stderr",
     "output_type": "stream",
     "text": [
      "Test_Loader: 100%|██████████| 288/288 [00:30<00:00,  9.56it/s]\n"
     ]
    },
    {
     "name": "stdout",
     "output_type": "stream",
     "text": [
      "Loss1: 1.2370, Loss2: 0.6635, Loss3: 2.5899\n"
     ]
    },
    {
     "name": "stderr",
     "output_type": "stream",
     "text": [
      "Test_Loader: 100%|██████████| 288/288 [00:28<00:00, 10.10it/s]\n"
     ]
    },
    {
     "name": "stdout",
     "output_type": "stream",
     "text": [
      "Loss1: 1.2315, Loss2: 0.6572, Loss3: 2.5410\n"
     ]
    },
    {
     "name": "stderr",
     "output_type": "stream",
     "text": [
      "Test_Loader: 100%|██████████| 288/288 [00:27<00:00, 10.44it/s]\n"
     ]
    },
    {
     "name": "stdout",
     "output_type": "stream",
     "text": [
      "Loss1: 1.2198, Loss2: 0.6613, Loss3: 2.5250\n"
     ]
    },
    {
     "name": "stderr",
     "output_type": "stream",
     "text": [
      "Test_Loader: 100%|██████████| 288/288 [00:27<00:00, 10.40it/s]\n"
     ]
    },
    {
     "name": "stdout",
     "output_type": "stream",
     "text": [
      "Loss1: 1.2224, Loss2: 0.6605, Loss3: 2.5125\n"
     ]
    },
    {
     "name": "stderr",
     "output_type": "stream",
     "text": [
      "Test_Loader: 100%|██████████| 288/288 [00:28<00:00, 10.25it/s]\n"
     ]
    },
    {
     "name": "stdout",
     "output_type": "stream",
     "text": [
      "Loss1: 1.2337, Loss2: 0.6602, Loss3: 2.5169\n"
     ]
    },
    {
     "name": "stderr",
     "output_type": "stream",
     "text": [
      "Test_Loader: 100%|██████████| 288/288 [00:28<00:00, 10.25it/s]\n"
     ]
    },
    {
     "name": "stdout",
     "output_type": "stream",
     "text": [
      "Loss1: 1.2386, Loss2: 0.6625, Loss3: 2.4681\n"
     ]
    },
    {
     "name": "stderr",
     "output_type": "stream",
     "text": [
      "Test_Loader: 100%|██████████| 288/288 [00:28<00:00, 10.19it/s]\n"
     ]
    },
    {
     "name": "stdout",
     "output_type": "stream",
     "text": [
      "Loss1: 1.2309, Loss2: 0.6589, Loss3: 2.4511\n"
     ]
    },
    {
     "name": "stderr",
     "output_type": "stream",
     "text": [
      "Test_Loader: 100%|██████████| 288/288 [00:28<00:00, 10.00it/s]\n"
     ]
    },
    {
     "name": "stdout",
     "output_type": "stream",
     "text": [
      "Loss1: 1.2061, Loss2: 0.6458, Loss3: 2.3956\n"
     ]
    },
    {
     "name": "stderr",
     "output_type": "stream",
     "text": [
      "Test_Loader: 100%|██████████| 288/288 [00:27<00:00, 10.30it/s]\n"
     ]
    },
    {
     "name": "stdout",
     "output_type": "stream",
     "text": [
      "Loss1: 1.2165, Loss2: 0.6360, Loss3: 2.3975\n"
     ]
    },
    {
     "name": "stderr",
     "output_type": "stream",
     "text": [
      "Test_Loader: 100%|██████████| 288/288 [00:28<00:00, 10.28it/s]\n"
     ]
    },
    {
     "name": "stdout",
     "output_type": "stream",
     "text": [
      "Loss1: 1.2376, Loss2: 0.6546, Loss3: 2.3682\n"
     ]
    },
    {
     "name": "stderr",
     "output_type": "stream",
     "text": [
      "Test_Loader: 100%|██████████| 288/288 [00:28<00:00, 10.26it/s]\n"
     ]
    },
    {
     "name": "stdout",
     "output_type": "stream",
     "text": [
      "Loss1: 1.2267, Loss2: 0.6462, Loss3: 2.3324\n"
     ]
    },
    {
     "name": "stderr",
     "output_type": "stream",
     "text": [
      "Test_Loader: 100%|██████████| 288/288 [00:27<00:00, 10.46it/s]\n"
     ]
    },
    {
     "name": "stdout",
     "output_type": "stream",
     "text": [
      "Loss1: 1.2260, Loss2: 0.6417, Loss3: 2.3286\n"
     ]
    },
    {
     "name": "stderr",
     "output_type": "stream",
     "text": [
      "Test_Loader: 100%|██████████| 288/288 [00:27<00:00, 10.46it/s]\n"
     ]
    },
    {
     "name": "stdout",
     "output_type": "stream",
     "text": [
      "Loss1: 1.2108, Loss2: 0.6303, Loss3: 2.2680\n"
     ]
    },
    {
     "name": "stderr",
     "output_type": "stream",
     "text": [
      "Test_Loader: 100%|██████████| 288/288 [00:30<00:00,  9.30it/s]\n"
     ]
    },
    {
     "name": "stdout",
     "output_type": "stream",
     "text": [
      "Loss1: 1.2101, Loss2: 0.6467, Loss3: 2.2686\n"
     ]
    },
    {
     "name": "stderr",
     "output_type": "stream",
     "text": [
      "Test_Loader: 100%|██████████| 288/288 [00:27<00:00, 10.52it/s]\n"
     ]
    },
    {
     "name": "stdout",
     "output_type": "stream",
     "text": [
      "Loss1: 1.2134, Loss2: 0.6526, Loss3: 2.2693\n"
     ]
    },
    {
     "name": "stderr",
     "output_type": "stream",
     "text": [
      "Test_Loader: 100%|██████████| 288/288 [00:27<00:00, 10.34it/s]\n"
     ]
    },
    {
     "name": "stdout",
     "output_type": "stream",
     "text": [
      "Loss1: 1.2184, Loss2: 0.6419, Loss3: 2.2252\n"
     ]
    },
    {
     "name": "stderr",
     "output_type": "stream",
     "text": [
      "Test_Loader: 100%|██████████| 288/288 [00:27<00:00, 10.30it/s]\n"
     ]
    },
    {
     "name": "stdout",
     "output_type": "stream",
     "text": [
      "Loss1: 1.2040, Loss2: 0.6395, Loss3: 2.2599\n"
     ]
    },
    {
     "name": "stderr",
     "output_type": "stream",
     "text": [
      "Test_Loader: 100%|██████████| 288/288 [00:27<00:00, 10.35it/s]\n"
     ]
    },
    {
     "name": "stdout",
     "output_type": "stream",
     "text": [
      "Loss1: 1.1908, Loss2: 0.6382, Loss3: 2.2212\n"
     ]
    },
    {
     "name": "stderr",
     "output_type": "stream",
     "text": [
      "Test_Loader: 100%|██████████| 288/288 [00:27<00:00, 10.40it/s]\n"
     ]
    },
    {
     "name": "stdout",
     "output_type": "stream",
     "text": [
      "Loss1: 1.2547, Loss2: 0.6555, Loss3: 2.2486\n"
     ]
    },
    {
     "name": "stderr",
     "output_type": "stream",
     "text": [
      "Test_Loader: 100%|██████████| 288/288 [00:28<00:00, 10.10it/s]\n"
     ]
    },
    {
     "name": "stdout",
     "output_type": "stream",
     "text": [
      "Loss1: 1.2606, Loss2: 0.6587, Loss3: 2.2631\n"
     ]
    },
    {
     "name": "stderr",
     "output_type": "stream",
     "text": [
      "Test_Loader: 100%|██████████| 288/288 [00:27<00:00, 10.33it/s]\n"
     ]
    },
    {
     "name": "stdout",
     "output_type": "stream",
     "text": [
      "Loss1: 1.2388, Loss2: 0.6494, Loss3: 2.1991\n"
     ]
    },
    {
     "name": "stderr",
     "output_type": "stream",
     "text": [
      "Test_Loader: 100%|██████████| 288/288 [00:28<00:00, 10.24it/s]\n"
     ]
    },
    {
     "name": "stdout",
     "output_type": "stream",
     "text": [
      "Loss1: 1.2554, Loss2: 0.6548, Loss3: 2.2411\n"
     ]
    },
    {
     "name": "stderr",
     "output_type": "stream",
     "text": [
      "Test_Loader: 100%|██████████| 288/288 [00:27<00:00, 10.45it/s]\n"
     ]
    },
    {
     "name": "stdout",
     "output_type": "stream",
     "text": [
      "Loss1: 1.2490, Loss2: 0.6413, Loss3: 2.1039\n"
     ]
    },
    {
     "name": "stderr",
     "output_type": "stream",
     "text": [
      "Test_Loader: 100%|██████████| 288/288 [00:27<00:00, 10.55it/s]\n"
     ]
    },
    {
     "name": "stdout",
     "output_type": "stream",
     "text": [
      "Loss1: 1.2051, Loss2: 0.6334, Loss3: 2.0806\n"
     ]
    },
    {
     "name": "stderr",
     "output_type": "stream",
     "text": [
      "Test_Loader: 100%|██████████| 288/288 [00:26<00:00, 10.68it/s]\n"
     ]
    },
    {
     "name": "stdout",
     "output_type": "stream",
     "text": [
      "Loss1: 1.2084, Loss2: 0.6397, Loss3: 2.0613\n"
     ]
    },
    {
     "name": "stderr",
     "output_type": "stream",
     "text": [
      "Test_Loader: 100%|██████████| 288/288 [00:26<00:00, 10.70it/s]\n"
     ]
    },
    {
     "name": "stdout",
     "output_type": "stream",
     "text": [
      "Loss1: 1.1836, Loss2: 0.6248, Loss3: 2.0433\n"
     ]
    },
    {
     "name": "stderr",
     "output_type": "stream",
     "text": [
      "Test_Loader: 100%|██████████| 288/288 [00:26<00:00, 10.82it/s]\n"
     ]
    },
    {
     "name": "stdout",
     "output_type": "stream",
     "text": [
      "Loss1: 1.1289, Loss2: 0.5989, Loss3: 1.9079\n"
     ]
    },
    {
     "name": "stderr",
     "output_type": "stream",
     "text": [
      "Test_Loader: 100%|██████████| 288/288 [00:26<00:00, 10.88it/s]\n"
     ]
    },
    {
     "name": "stdout",
     "output_type": "stream",
     "text": [
      "Loss1: 1.1266, Loss2: 0.5786, Loss3: 1.8749\n"
     ]
    },
    {
     "name": "stderr",
     "output_type": "stream",
     "text": [
      "Test_Loader: 100%|██████████| 288/288 [00:27<00:00, 10.54it/s]\n"
     ]
    },
    {
     "name": "stdout",
     "output_type": "stream",
     "text": [
      "Loss1: 1.1484, Loss2: 0.5927, Loss3: 1.9009\n"
     ]
    },
    {
     "name": "stderr",
     "output_type": "stream",
     "text": [
      "Test_Loader: 100%|██████████| 288/288 [00:26<00:00, 10.70it/s]\n"
     ]
    },
    {
     "name": "stdout",
     "output_type": "stream",
     "text": [
      "Loss1: 1.1544, Loss2: 0.5883, Loss3: 1.9183\n"
     ]
    },
    {
     "name": "stderr",
     "output_type": "stream",
     "text": [
      "Test_Loader: 100%|██████████| 288/288 [00:28<00:00, 10.18it/s]\n"
     ]
    },
    {
     "name": "stdout",
     "output_type": "stream",
     "text": [
      "Loss1: 1.1484, Loss2: 0.5842, Loss3: 1.9263\n"
     ]
    },
    {
     "name": "stderr",
     "output_type": "stream",
     "text": [
      "Test_Loader: 100%|██████████| 288/288 [00:27<00:00, 10.31it/s]\n"
     ]
    },
    {
     "name": "stdout",
     "output_type": "stream",
     "text": [
      "Loss1: 1.1465, Loss2: 0.5825, Loss3: 1.9074\n"
     ]
    },
    {
     "name": "stderr",
     "output_type": "stream",
     "text": [
      "Test_Loader: 100%|██████████| 288/288 [00:28<00:00, 10.05it/s]\n"
     ]
    },
    {
     "name": "stdout",
     "output_type": "stream",
     "text": [
      "Loss1: 1.1334, Loss2: 0.5796, Loss3: 1.7979\n"
     ]
    },
    {
     "name": "stderr",
     "output_type": "stream",
     "text": [
      "Test_Loader: 100%|██████████| 288/288 [00:29<00:00,  9.89it/s]\n"
     ]
    },
    {
     "name": "stdout",
     "output_type": "stream",
     "text": [
      "Loss1: 1.1304, Loss2: 0.5759, Loss3: 1.7936\n"
     ]
    },
    {
     "name": "stderr",
     "output_type": "stream",
     "text": [
      "Test_Loader: 100%|██████████| 288/288 [00:27<00:00, 10.31it/s]\n"
     ]
    },
    {
     "name": "stdout",
     "output_type": "stream",
     "text": [
      "Loss1: 1.1256, Loss2: 0.5752, Loss3: 1.7887\n"
     ]
    },
    {
     "name": "stderr",
     "output_type": "stream",
     "text": [
      "Test_Loader: 100%|██████████| 288/288 [00:28<00:00, 10.11it/s]\n"
     ]
    },
    {
     "name": "stdout",
     "output_type": "stream",
     "text": [
      "Loss1: 1.1159, Loss2: 0.5711, Loss3: 1.7779\n"
     ]
    },
    {
     "name": "stderr",
     "output_type": "stream",
     "text": [
      "Test_Loader: 100%|██████████| 288/288 [00:28<00:00, 10.19it/s]\n"
     ]
    },
    {
     "name": "stdout",
     "output_type": "stream",
     "text": [
      "Loss1: 1.0417, Loss2: 0.5530, Loss3: 1.6214\n"
     ]
    },
    {
     "name": "stderr",
     "output_type": "stream",
     "text": [
      "Test_Loader: 100%|██████████| 288/288 [00:27<00:00, 10.54it/s]\n"
     ]
    },
    {
     "name": "stdout",
     "output_type": "stream",
     "text": [
      "Loss1: 1.0001, Loss2: 0.5483, Loss3: 1.5802\n"
     ]
    },
    {
     "name": "stderr",
     "output_type": "stream",
     "text": [
      "Test_Loader: 100%|██████████| 288/288 [00:28<00:00, 10.20it/s]\n"
     ]
    },
    {
     "name": "stdout",
     "output_type": "stream",
     "text": [
      "Loss1: 1.0232, Loss2: 0.5633, Loss3: 1.5928\n"
     ]
    },
    {
     "name": "stderr",
     "output_type": "stream",
     "text": [
      "Test_Loader: 100%|██████████| 288/288 [00:30<00:00,  9.38it/s]\n"
     ]
    },
    {
     "name": "stdout",
     "output_type": "stream",
     "text": [
      "Loss1: 1.0148, Loss2: 0.5568, Loss3: 1.6233\n"
     ]
    },
    {
     "name": "stderr",
     "output_type": "stream",
     "text": [
      "Test_Loader: 100%|██████████| 288/288 [00:27<00:00, 10.66it/s]\n"
     ]
    },
    {
     "name": "stdout",
     "output_type": "stream",
     "text": [
      "Loss1: 1.0230, Loss2: 0.5809, Loss3: 1.6421\n"
     ]
    },
    {
     "name": "stderr",
     "output_type": "stream",
     "text": [
      "Test_Loader: 100%|██████████| 288/288 [00:27<00:00, 10.49it/s]\n"
     ]
    },
    {
     "name": "stdout",
     "output_type": "stream",
     "text": [
      "Loss1: 0.9739, Loss2: 0.5640, Loss3: 1.6048\n"
     ]
    },
    {
     "name": "stderr",
     "output_type": "stream",
     "text": [
      "Test_Loader: 100%|██████████| 288/288 [00:27<00:00, 10.57it/s]\n"
     ]
    },
    {
     "name": "stdout",
     "output_type": "stream",
     "text": [
      "Loss1: 0.9547, Loss2: 0.5546, Loss3: 1.5846\n"
     ]
    },
    {
     "name": "stderr",
     "output_type": "stream",
     "text": [
      "Test_Loader: 100%|██████████| 288/288 [00:29<00:00,  9.81it/s]\n"
     ]
    },
    {
     "name": "stdout",
     "output_type": "stream",
     "text": [
      "Loss1: 0.9615, Loss2: 0.5535, Loss3: 1.5329\n"
     ]
    },
    {
     "name": "stderr",
     "output_type": "stream",
     "text": [
      "Test_Loader: 100%|██████████| 288/288 [00:28<00:00, 10.09it/s]\n"
     ]
    },
    {
     "name": "stdout",
     "output_type": "stream",
     "text": [
      "Loss1: 0.9622, Loss2: 0.5511, Loss3: 1.5671\n"
     ]
    },
    {
     "name": "stderr",
     "output_type": "stream",
     "text": [
      "Test_Loader: 100%|██████████| 288/288 [00:28<00:00,  9.98it/s]\n"
     ]
    },
    {
     "name": "stdout",
     "output_type": "stream",
     "text": [
      "Loss1: 0.9646, Loss2: 0.5489, Loss3: 1.5635\n"
     ]
    },
    {
     "name": "stderr",
     "output_type": "stream",
     "text": [
      "Test_Loader: 100%|██████████| 288/288 [00:28<00:00, 10.10it/s]\n"
     ]
    },
    {
     "name": "stdout",
     "output_type": "stream",
     "text": [
      "Loss1: 0.9620, Loss2: 0.5428, Loss3: 1.5488\n"
     ]
    },
    {
     "name": "stderr",
     "output_type": "stream",
     "text": [
      "Test_Loader: 100%|██████████| 288/288 [00:28<00:00, 10.25it/s]\n"
     ]
    },
    {
     "name": "stdout",
     "output_type": "stream",
     "text": [
      "Loss1: 0.9523, Loss2: 0.5384, Loss3: 1.5484\n"
     ]
    },
    {
     "name": "stderr",
     "output_type": "stream",
     "text": [
      "Test_Loader: 100%|██████████| 288/288 [00:27<00:00, 10.34it/s]\n"
     ]
    },
    {
     "name": "stdout",
     "output_type": "stream",
     "text": [
      "Loss1: 0.8996, Loss2: 0.5113, Loss3: 1.4221\n"
     ]
    },
    {
     "name": "stderr",
     "output_type": "stream",
     "text": [
      "Test_Loader: 100%|██████████| 288/288 [00:27<00:00, 10.30it/s]\n"
     ]
    },
    {
     "name": "stdout",
     "output_type": "stream",
     "text": [
      "Loss1: 0.9126, Loss2: 0.5255, Loss3: 1.4471\n"
     ]
    },
    {
     "name": "stderr",
     "output_type": "stream",
     "text": [
      "Test_Loader: 100%|██████████| 288/288 [00:27<00:00, 10.33it/s]\n"
     ]
    },
    {
     "name": "stdout",
     "output_type": "stream",
     "text": [
      "Loss1: 0.9143, Loss2: 0.5178, Loss3: 1.4239\n"
     ]
    },
    {
     "name": "stderr",
     "output_type": "stream",
     "text": [
      "Test_Loader: 100%|██████████| 288/288 [00:29<00:00,  9.83it/s]\n"
     ]
    },
    {
     "name": "stdout",
     "output_type": "stream",
     "text": [
      "Loss1: 0.9679, Loss2: 0.5354, Loss3: 1.4740\n"
     ]
    },
    {
     "name": "stderr",
     "output_type": "stream",
     "text": [
      "Test_Loader: 100%|██████████| 288/288 [00:29<00:00,  9.69it/s]\n"
     ]
    },
    {
     "name": "stdout",
     "output_type": "stream",
     "text": [
      "Loss1: 0.9580, Loss2: 0.5420, Loss3: 1.4723\n"
     ]
    },
    {
     "name": "stderr",
     "output_type": "stream",
     "text": [
      "Test_Loader: 100%|██████████| 288/288 [00:27<00:00, 10.58it/s]\n"
     ]
    },
    {
     "name": "stdout",
     "output_type": "stream",
     "text": [
      "Loss1: 0.9691, Loss2: 0.5436, Loss3: 1.4900\n"
     ]
    },
    {
     "name": "stderr",
     "output_type": "stream",
     "text": [
      "Test_Loader: 100%|██████████| 288/288 [00:27<00:00, 10.65it/s]\n"
     ]
    },
    {
     "name": "stdout",
     "output_type": "stream",
     "text": [
      "Loss1: 0.9599, Loss2: 0.5540, Loss3: 1.5055\n"
     ]
    },
    {
     "name": "stderr",
     "output_type": "stream",
     "text": [
      "Test_Loader: 100%|██████████| 288/288 [00:27<00:00, 10.40it/s]\n"
     ]
    },
    {
     "name": "stdout",
     "output_type": "stream",
     "text": [
      "Loss1: 0.9440, Loss2: 0.5620, Loss3: 1.5075\n"
     ]
    },
    {
     "name": "stderr",
     "output_type": "stream",
     "text": [
      "Test_Loader: 100%|██████████| 288/288 [00:27<00:00, 10.41it/s]\n"
     ]
    },
    {
     "name": "stdout",
     "output_type": "stream",
     "text": [
      "Loss1: 0.9539, Loss2: 0.5596, Loss3: 1.5141\n"
     ]
    },
    {
     "name": "stderr",
     "output_type": "stream",
     "text": [
      "Test_Loader: 100%|██████████| 288/288 [00:27<00:00, 10.44it/s]\n"
     ]
    },
    {
     "name": "stdout",
     "output_type": "stream",
     "text": [
      "Loss1: 1.0252, Loss2: 0.5790, Loss3: 1.5357\n"
     ]
    },
    {
     "name": "stderr",
     "output_type": "stream",
     "text": [
      "Test_Loader: 100%|██████████| 288/288 [00:28<00:00, 10.22it/s]\n"
     ]
    },
    {
     "name": "stdout",
     "output_type": "stream",
     "text": [
      "Loss1: 1.0157, Loss2: 0.5839, Loss3: 1.5449\n"
     ]
    },
    {
     "name": "stderr",
     "output_type": "stream",
     "text": [
      "Test_Loader: 100%|██████████| 288/288 [00:28<00:00, 10.08it/s]\n"
     ]
    },
    {
     "name": "stdout",
     "output_type": "stream",
     "text": [
      "Loss1: 0.9804, Loss2: 0.5672, Loss3: 1.5337\n"
     ]
    },
    {
     "name": "stderr",
     "output_type": "stream",
     "text": [
      "Test_Loader: 100%|██████████| 288/288 [00:27<00:00, 10.43it/s]\n"
     ]
    },
    {
     "name": "stdout",
     "output_type": "stream",
     "text": [
      "Loss1: 0.9874, Loss2: 0.5651, Loss3: 1.5209\n"
     ]
    },
    {
     "name": "stderr",
     "output_type": "stream",
     "text": [
      "Test_Loader: 100%|██████████| 288/288 [00:27<00:00, 10.60it/s]\n"
     ]
    },
    {
     "name": "stdout",
     "output_type": "stream",
     "text": [
      "Loss1: 0.9708, Loss2: 0.5585, Loss3: 1.4901\n"
     ]
    },
    {
     "name": "stderr",
     "output_type": "stream",
     "text": [
      "Test_Loader: 100%|██████████| 288/288 [00:27<00:00, 10.41it/s]\n"
     ]
    },
    {
     "name": "stdout",
     "output_type": "stream",
     "text": [
      "Loss1: 0.9721, Loss2: 0.5626, Loss3: 1.4704\n"
     ]
    },
    {
     "name": "stderr",
     "output_type": "stream",
     "text": [
      "Test_Loader: 100%|██████████| 288/288 [00:27<00:00, 10.51it/s]\n"
     ]
    },
    {
     "name": "stdout",
     "output_type": "stream",
     "text": [
      "Loss1: 0.9739, Loss2: 0.5621, Loss3: 1.4847\n"
     ]
    },
    {
     "name": "stderr",
     "output_type": "stream",
     "text": [
      "Test_Loader: 100%|██████████| 288/288 [00:31<00:00,  9.21it/s]\n"
     ]
    },
    {
     "name": "stdout",
     "output_type": "stream",
     "text": [
      "Loss1: 0.9753, Loss2: 0.5624, Loss3: 1.4855\n"
     ]
    },
    {
     "name": "stderr",
     "output_type": "stream",
     "text": [
      "Test_Loader: 100%|██████████| 288/288 [00:29<00:00,  9.83it/s]\n"
     ]
    },
    {
     "name": "stdout",
     "output_type": "stream",
     "text": [
      "Loss1: 0.9697, Loss2: 0.5659, Loss3: 1.4928\n"
     ]
    },
    {
     "name": "stderr",
     "output_type": "stream",
     "text": [
      "Test_Loader: 100%|██████████| 288/288 [00:26<00:00, 10.69it/s]\n"
     ]
    },
    {
     "name": "stdout",
     "output_type": "stream",
     "text": [
      "Loss1: 0.9668, Loss2: 0.5571, Loss3: 1.4422\n"
     ]
    },
    {
     "name": "stderr",
     "output_type": "stream",
     "text": [
      "Test_Loader: 100%|██████████| 288/288 [00:27<00:00, 10.58it/s]\n"
     ]
    },
    {
     "name": "stdout",
     "output_type": "stream",
     "text": [
      "Loss1: 0.9246, Loss2: 0.5247, Loss3: 1.4402\n"
     ]
    },
    {
     "name": "stderr",
     "output_type": "stream",
     "text": [
      "Test_Loader: 100%|██████████| 288/288 [00:26<00:00, 10.67it/s]\n"
     ]
    },
    {
     "name": "stdout",
     "output_type": "stream",
     "text": [
      "Loss1: 0.9163, Loss2: 0.5241, Loss3: 1.3870\n"
     ]
    },
    {
     "name": "stderr",
     "output_type": "stream",
     "text": [
      "Test_Loader: 100%|██████████| 288/288 [00:26<00:00, 10.70it/s]\n"
     ]
    },
    {
     "name": "stdout",
     "output_type": "stream",
     "text": [
      "Loss1: 0.9185, Loss2: 0.5235, Loss3: 1.4014\n"
     ]
    },
    {
     "name": "stderr",
     "output_type": "stream",
     "text": [
      "Test_Loader: 100%|██████████| 288/288 [00:27<00:00, 10.57it/s]\n"
     ]
    },
    {
     "name": "stdout",
     "output_type": "stream",
     "text": [
      "Loss1: 0.8799, Loss2: 0.5117, Loss3: 1.3935\n"
     ]
    },
    {
     "name": "stderr",
     "output_type": "stream",
     "text": [
      "Test_Loader: 100%|██████████| 288/288 [00:28<00:00, 10.05it/s]\n"
     ]
    },
    {
     "name": "stdout",
     "output_type": "stream",
     "text": [
      "Loss1: 0.9019, Loss2: 0.5129, Loss3: 1.3737\n"
     ]
    },
    {
     "name": "stderr",
     "output_type": "stream",
     "text": [
      "Test_Loader: 100%|██████████| 288/288 [00:27<00:00, 10.35it/s]\n"
     ]
    },
    {
     "name": "stdout",
     "output_type": "stream",
     "text": [
      "Loss1: 0.8661, Loss2: 0.5033, Loss3: 1.3449\n"
     ]
    },
    {
     "name": "stderr",
     "output_type": "stream",
     "text": [
      "Test_Loader: 100%|██████████| 288/288 [00:27<00:00, 10.52it/s]\n"
     ]
    },
    {
     "name": "stdout",
     "output_type": "stream",
     "text": [
      "Loss1: 0.8860, Loss2: 0.5008, Loss3: 1.3248\n"
     ]
    },
    {
     "name": "stderr",
     "output_type": "stream",
     "text": [
      "Test_Loader: 100%|██████████| 288/288 [00:27<00:00, 10.50it/s]\n"
     ]
    },
    {
     "name": "stdout",
     "output_type": "stream",
     "text": [
      "Loss1: 0.8466, Loss2: 0.4786, Loss3: 1.2832\n"
     ]
    },
    {
     "name": "stderr",
     "output_type": "stream",
     "text": [
      "Test_Loader: 100%|██████████| 288/288 [00:27<00:00, 10.39it/s]\n"
     ]
    },
    {
     "name": "stdout",
     "output_type": "stream",
     "text": [
      "Loss1: 0.8322, Loss2: 0.4795, Loss3: 1.2433\n"
     ]
    },
    {
     "name": "stderr",
     "output_type": "stream",
     "text": [
      "Test_Loader: 100%|██████████| 288/288 [00:27<00:00, 10.36it/s]\n"
     ]
    },
    {
     "name": "stdout",
     "output_type": "stream",
     "text": [
      "Loss1: 0.8011, Loss2: 0.4750, Loss3: 1.2359\n"
     ]
    },
    {
     "name": "stderr",
     "output_type": "stream",
     "text": [
      "Test_Loader: 100%|██████████| 288/288 [00:30<00:00,  9.35it/s]\n"
     ]
    },
    {
     "name": "stdout",
     "output_type": "stream",
     "text": [
      "Loss1: 0.7691, Loss2: 0.4427, Loss3: 1.1861\n"
     ]
    },
    {
     "name": "stderr",
     "output_type": "stream",
     "text": [
      "Test_Loader: 100%|██████████| 288/288 [00:29<00:00,  9.91it/s]\n"
     ]
    },
    {
     "name": "stdout",
     "output_type": "stream",
     "text": [
      "Loss1: 0.7654, Loss2: 0.4373, Loss3: 1.1880\n"
     ]
    },
    {
     "name": "stderr",
     "output_type": "stream",
     "text": [
      "Test_Loader: 100%|██████████| 288/288 [00:28<00:00, 10.24it/s]\n"
     ]
    },
    {
     "name": "stdout",
     "output_type": "stream",
     "text": [
      "Loss1: 0.7825, Loss2: 0.4401, Loss3: 1.1645\n"
     ]
    },
    {
     "name": "stderr",
     "output_type": "stream",
     "text": [
      "Test_Loader: 100%|██████████| 288/288 [00:28<00:00, 10.11it/s]\n"
     ]
    },
    {
     "name": "stdout",
     "output_type": "stream",
     "text": [
      "Loss1: 0.7713, Loss2: 0.4290, Loss3: 1.1250\n"
     ]
    },
    {
     "name": "stderr",
     "output_type": "stream",
     "text": [
      "Test_Loader: 100%|██████████| 288/288 [00:29<00:00,  9.66it/s]\n"
     ]
    },
    {
     "name": "stdout",
     "output_type": "stream",
     "text": [
      "Loss1: 0.7610, Loss2: 0.4255, Loss3: 1.1464\n"
     ]
    },
    {
     "name": "stderr",
     "output_type": "stream",
     "text": [
      "Test_Loader: 100%|██████████| 288/288 [00:28<00:00, 10.27it/s]\n"
     ]
    },
    {
     "name": "stdout",
     "output_type": "stream",
     "text": [
      "Loss1: 0.7829, Loss2: 0.4210, Loss3: 1.1377\n"
     ]
    },
    {
     "name": "stderr",
     "output_type": "stream",
     "text": [
      "Test_Loader: 100%|██████████| 288/288 [00:28<00:00, 10.04it/s]\n"
     ]
    },
    {
     "name": "stdout",
     "output_type": "stream",
     "text": [
      "Loss1: 0.7693, Loss2: 0.4239, Loss3: 1.1217\n"
     ]
    },
    {
     "name": "stderr",
     "output_type": "stream",
     "text": [
      "Test_Loader: 100%|██████████| 288/288 [00:28<00:00,  9.98it/s]\n"
     ]
    },
    {
     "name": "stdout",
     "output_type": "stream",
     "text": [
      "Loss1: 0.8026, Loss2: 0.4221, Loss3: 1.1235\n"
     ]
    },
    {
     "name": "stderr",
     "output_type": "stream",
     "text": [
      "Test_Loader: 100%|██████████| 288/288 [00:28<00:00, 10.17it/s]\n"
     ]
    },
    {
     "name": "stdout",
     "output_type": "stream",
     "text": [
      "Loss1: 0.7914, Loss2: 0.4176, Loss3: 1.1228\n"
     ]
    },
    {
     "name": "stderr",
     "output_type": "stream",
     "text": [
      "Test_Loader: 100%|██████████| 288/288 [00:28<00:00, 10.27it/s]\n"
     ]
    },
    {
     "name": "stdout",
     "output_type": "stream",
     "text": [
      "Loss1: 0.8136, Loss2: 0.4084, Loss3: 1.0979\n"
     ]
    },
    {
     "name": "stderr",
     "output_type": "stream",
     "text": [
      "Test_Loader: 100%|██████████| 288/288 [00:27<00:00, 10.43it/s]\n"
     ]
    },
    {
     "name": "stdout",
     "output_type": "stream",
     "text": [
      "Loss1: 0.7878, Loss2: 0.4031, Loss3: 1.1260\n"
     ]
    },
    {
     "name": "stderr",
     "output_type": "stream",
     "text": [
      "Test_Loader: 100%|██████████| 288/288 [00:27<00:00, 10.63it/s]\n"
     ]
    },
    {
     "name": "stdout",
     "output_type": "stream",
     "text": [
      "Loss1: 0.7783, Loss2: 0.4066, Loss3: 1.1085\n"
     ]
    },
    {
     "name": "stderr",
     "output_type": "stream",
     "text": [
      "Test_Loader: 100%|██████████| 288/288 [00:28<00:00,  9.96it/s]\n"
     ]
    },
    {
     "name": "stdout",
     "output_type": "stream",
     "text": [
      "Loss1: 0.7692, Loss2: 0.4019, Loss3: 1.1148\n"
     ]
    },
    {
     "name": "stderr",
     "output_type": "stream",
     "text": [
      "Test_Loader: 100%|██████████| 288/288 [00:29<00:00,  9.67it/s]\n"
     ]
    },
    {
     "name": "stdout",
     "output_type": "stream",
     "text": [
      "Loss1: 0.7906, Loss2: 0.4102, Loss3: 1.1309\n"
     ]
    },
    {
     "name": "stderr",
     "output_type": "stream",
     "text": [
      "Test_Loader: 100%|██████████| 288/288 [00:27<00:00, 10.59it/s]\n"
     ]
    },
    {
     "name": "stdout",
     "output_type": "stream",
     "text": [
      "Loss1: 0.8089, Loss2: 0.4119, Loss3: 1.1195\n"
     ]
    },
    {
     "name": "stderr",
     "output_type": "stream",
     "text": [
      "Test_Loader: 100%|██████████| 288/288 [00:27<00:00, 10.58it/s]\n"
     ]
    },
    {
     "name": "stdout",
     "output_type": "stream",
     "text": [
      "Loss1: 0.7910, Loss2: 0.4065, Loss3: 1.1385\n"
     ]
    },
    {
     "name": "stderr",
     "output_type": "stream",
     "text": [
      "Test_Loader: 100%|██████████| 288/288 [00:27<00:00, 10.38it/s]\n"
     ]
    },
    {
     "name": "stdout",
     "output_type": "stream",
     "text": [
      "Loss1: 0.7942, Loss2: 0.4076, Loss3: 1.1328\n"
     ]
    },
    {
     "name": "stderr",
     "output_type": "stream",
     "text": [
      "Test_Loader: 100%|██████████| 288/288 [00:27<00:00, 10.32it/s]\n"
     ]
    },
    {
     "name": "stdout",
     "output_type": "stream",
     "text": [
      "Loss1: 0.7898, Loss2: 0.4125, Loss3: 1.1235\n"
     ]
    },
    {
     "name": "stderr",
     "output_type": "stream",
     "text": [
      "Test_Loader: 100%|██████████| 288/288 [00:27<00:00, 10.59it/s]\n"
     ]
    },
    {
     "name": "stdout",
     "output_type": "stream",
     "text": [
      "Loss1: 0.7785, Loss2: 0.4083, Loss3: 1.1360\n"
     ]
    },
    {
     "name": "stderr",
     "output_type": "stream",
     "text": [
      "Test_Loader: 100%|██████████| 288/288 [00:27<00:00, 10.37it/s]\n"
     ]
    },
    {
     "name": "stdout",
     "output_type": "stream",
     "text": [
      "Loss1: 0.8299, Loss2: 0.4861, Loss3: 1.3014\n"
     ]
    },
    {
     "name": "stderr",
     "output_type": "stream",
     "text": [
      "Test_Loader: 100%|██████████| 288/288 [00:27<00:00, 10.52it/s]\n"
     ]
    },
    {
     "name": "stdout",
     "output_type": "stream",
     "text": [
      "Loss1: 0.8428, Loss2: 0.4877, Loss3: 1.3148\n"
     ]
    },
    {
     "name": "stderr",
     "output_type": "stream",
     "text": [
      "Test_Loader: 100%|██████████| 288/288 [00:27<00:00, 10.49it/s]\n"
     ]
    },
    {
     "name": "stdout",
     "output_type": "stream",
     "text": [
      "Loss1: 0.8394, Loss2: 0.4716, Loss3: 1.3170\n"
     ]
    },
    {
     "name": "stderr",
     "output_type": "stream",
     "text": [
      "Test_Loader: 100%|██████████| 288/288 [00:28<00:00, 10.19it/s]\n"
     ]
    },
    {
     "name": "stdout",
     "output_type": "stream",
     "text": [
      "Loss1: 0.8386, Loss2: 0.4694, Loss3: 1.2956\n"
     ]
    },
    {
     "name": "stderr",
     "output_type": "stream",
     "text": [
      "Test_Loader: 100%|██████████| 288/288 [00:29<00:00,  9.90it/s]\n"
     ]
    },
    {
     "name": "stdout",
     "output_type": "stream",
     "text": [
      "Loss1: 0.8434, Loss2: 0.4758, Loss3: 1.3077\n"
     ]
    },
    {
     "name": "stderr",
     "output_type": "stream",
     "text": [
      "Test_Loader: 100%|██████████| 288/288 [00:28<00:00, 10.22it/s]\n"
     ]
    },
    {
     "name": "stdout",
     "output_type": "stream",
     "text": [
      "Loss1: 0.8419, Loss2: 0.4525, Loss3: 1.2894\n"
     ]
    },
    {
     "name": "stderr",
     "output_type": "stream",
     "text": [
      "Test_Loader: 100%|██████████| 288/288 [00:29<00:00,  9.84it/s]\n"
     ]
    },
    {
     "name": "stdout",
     "output_type": "stream",
     "text": [
      "Loss1: 0.8426, Loss2: 0.4589, Loss3: 1.2770\n"
     ]
    },
    {
     "name": "stderr",
     "output_type": "stream",
     "text": [
      "Test_Loader: 100%|██████████| 288/288 [00:27<00:00, 10.33it/s]\n"
     ]
    },
    {
     "name": "stdout",
     "output_type": "stream",
     "text": [
      "Loss1: 0.8417, Loss2: 0.4453, Loss3: 1.2666\n"
     ]
    },
    {
     "name": "stderr",
     "output_type": "stream",
     "text": [
      "Test_Loader: 100%|██████████| 288/288 [00:27<00:00, 10.65it/s]\n"
     ]
    },
    {
     "name": "stdout",
     "output_type": "stream",
     "text": [
      "Loss1: 0.8564, Loss2: 0.4590, Loss3: 1.2878\n"
     ]
    },
    {
     "name": "stderr",
     "output_type": "stream",
     "text": [
      "Test_Loader: 100%|██████████| 288/288 [00:27<00:00, 10.61it/s]\n"
     ]
    },
    {
     "name": "stdout",
     "output_type": "stream",
     "text": [
      "Loss1: 0.8691, Loss2: 0.4631, Loss3: 1.3141\n"
     ]
    },
    {
     "name": "stderr",
     "output_type": "stream",
     "text": [
      "Test_Loader: 100%|██████████| 288/288 [00:28<00:00, 10.07it/s]\n"
     ]
    },
    {
     "name": "stdout",
     "output_type": "stream",
     "text": [
      "Loss1: 0.8670, Loss2: 0.4705, Loss3: 1.3496\n"
     ]
    },
    {
     "name": "stderr",
     "output_type": "stream",
     "text": [
      "Test_Loader: 100%|██████████| 288/288 [00:27<00:00, 10.39it/s]\n"
     ]
    },
    {
     "name": "stdout",
     "output_type": "stream",
     "text": [
      "Loss1: 0.8630, Loss2: 0.4753, Loss3: 1.3758\n"
     ]
    },
    {
     "name": "stderr",
     "output_type": "stream",
     "text": [
      "Test_Loader: 100%|██████████| 288/288 [00:27<00:00, 10.59it/s]\n"
     ]
    },
    {
     "name": "stdout",
     "output_type": "stream",
     "text": [
      "Loss1: 0.9041, Loss2: 0.4872, Loss3: 1.4378\n"
     ]
    },
    {
     "name": "stderr",
     "output_type": "stream",
     "text": [
      "Test_Loader: 100%|██████████| 288/288 [00:28<00:00, 10.17it/s]\n"
     ]
    },
    {
     "name": "stdout",
     "output_type": "stream",
     "text": [
      "Loss1: 0.9500, Loss2: 0.5373, Loss3: 1.5230\n"
     ]
    },
    {
     "name": "stderr",
     "output_type": "stream",
     "text": [
      "Test_Loader: 100%|██████████| 288/288 [00:28<00:00, 10.09it/s]\n"
     ]
    },
    {
     "name": "stdout",
     "output_type": "stream",
     "text": [
      "Loss1: 0.9616, Loss2: 0.5409, Loss3: 1.4927\n"
     ]
    },
    {
     "name": "stderr",
     "output_type": "stream",
     "text": [
      "Test_Loader: 100%|██████████| 288/288 [00:27<00:00, 10.42it/s]\n"
     ]
    },
    {
     "name": "stdout",
     "output_type": "stream",
     "text": [
      "Loss1: 1.0065, Loss2: 0.5757, Loss3: 1.6882\n"
     ]
    },
    {
     "name": "stderr",
     "output_type": "stream",
     "text": [
      "Test_Loader: 100%|██████████| 288/288 [00:27<00:00, 10.39it/s]\n"
     ]
    },
    {
     "name": "stdout",
     "output_type": "stream",
     "text": [
      "Loss1: 0.9801, Loss2: 0.5632, Loss3: 1.7292\n"
     ]
    },
    {
     "name": "stderr",
     "output_type": "stream",
     "text": [
      "Test_Loader: 100%|██████████| 288/288 [00:27<00:00, 10.37it/s]\n"
     ]
    },
    {
     "name": "stdout",
     "output_type": "stream",
     "text": [
      "Loss1: 0.9828, Loss2: 0.5610, Loss3: 1.6616\n"
     ]
    },
    {
     "name": "stderr",
     "output_type": "stream",
     "text": [
      "Test_Loader: 100%|██████████| 288/288 [00:27<00:00, 10.38it/s]\n"
     ]
    },
    {
     "name": "stdout",
     "output_type": "stream",
     "text": [
      "Loss1: 0.9392, Loss2: 0.5433, Loss3: 1.6361\n"
     ]
    },
    {
     "name": "stderr",
     "output_type": "stream",
     "text": [
      "Test_Loader: 100%|██████████| 288/288 [00:27<00:00, 10.41it/s]\n"
     ]
    },
    {
     "name": "stdout",
     "output_type": "stream",
     "text": [
      "Loss1: 0.9900, Loss2: 0.5664, Loss3: 1.7423\n"
     ]
    },
    {
     "name": "stderr",
     "output_type": "stream",
     "text": [
      "Test_Loader: 100%|██████████| 288/288 [00:30<00:00,  9.30it/s]\n"
     ]
    },
    {
     "name": "stdout",
     "output_type": "stream",
     "text": [
      "Loss1: 1.1459, Loss2: 0.6018, Loss3: 2.0760\n"
     ]
    },
    {
     "name": "stderr",
     "output_type": "stream",
     "text": [
      "Test_Loader: 100%|██████████| 288/288 [00:27<00:00, 10.32it/s]\n"
     ]
    },
    {
     "name": "stdout",
     "output_type": "stream",
     "text": [
      "Loss1: 1.1676, Loss2: 0.6040, Loss3: 2.0548\n"
     ]
    },
    {
     "name": "stderr",
     "output_type": "stream",
     "text": [
      "Test_Loader: 100%|██████████| 288/288 [00:28<00:00, 10.20it/s]\n"
     ]
    },
    {
     "name": "stdout",
     "output_type": "stream",
     "text": [
      "Loss1: 1.1907, Loss2: 0.6126, Loss3: 2.1460\n"
     ]
    },
    {
     "name": "stderr",
     "output_type": "stream",
     "text": [
      "Test_Loader: 100%|██████████| 288/288 [00:28<00:00, 10.01it/s]\n"
     ]
    },
    {
     "name": "stdout",
     "output_type": "stream",
     "text": [
      "Loss1: 1.1997, Loss2: 0.6195, Loss3: 2.0964\n"
     ]
    },
    {
     "name": "stderr",
     "output_type": "stream",
     "text": [
      "Test_Loader: 100%|██████████| 288/288 [00:28<00:00, 10.02it/s]\n"
     ]
    },
    {
     "name": "stdout",
     "output_type": "stream",
     "text": [
      "Loss1: 1.2151, Loss2: 0.6164, Loss3: 2.0706\n"
     ]
    },
    {
     "name": "stderr",
     "output_type": "stream",
     "text": [
      "Test_Loader: 100%|██████████| 288/288 [00:28<00:00, 10.16it/s]\n"
     ]
    },
    {
     "name": "stdout",
     "output_type": "stream",
     "text": [
      "Loss1: 1.2398, Loss2: 0.6185, Loss3: 2.3134\n"
     ]
    },
    {
     "name": "stderr",
     "output_type": "stream",
     "text": [
      "Test_Loader: 100%|██████████| 288/288 [00:28<00:00,  9.99it/s]\n"
     ]
    },
    {
     "name": "stdout",
     "output_type": "stream",
     "text": [
      "Loss1: 1.2209, Loss2: 0.6060, Loss3: 2.2862\n"
     ]
    },
    {
     "name": "stderr",
     "output_type": "stream",
     "text": [
      "Test_Loader: 100%|██████████| 288/288 [00:28<00:00, 10.21it/s]\n"
     ]
    },
    {
     "name": "stdout",
     "output_type": "stream",
     "text": [
      "Loss1: 1.2115, Loss2: 0.6102, Loss3: 2.2919\n"
     ]
    },
    {
     "name": "stderr",
     "output_type": "stream",
     "text": [
      "Test_Loader: 100%|██████████| 288/288 [00:27<00:00, 10.30it/s]\n"
     ]
    },
    {
     "name": "stdout",
     "output_type": "stream",
     "text": [
      "Loss1: 1.1869, Loss2: 0.6009, Loss3: 2.2218\n"
     ]
    },
    {
     "name": "stderr",
     "output_type": "stream",
     "text": [
      "Test_Loader: 100%|██████████| 288/288 [00:27<00:00, 10.30it/s]\n"
     ]
    },
    {
     "name": "stdout",
     "output_type": "stream",
     "text": [
      "Loss1: 1.1636, Loss2: 0.6078, Loss3: 2.2228\n"
     ]
    },
    {
     "name": "stderr",
     "output_type": "stream",
     "text": [
      "Test_Loader: 100%|██████████| 288/288 [00:27<00:00, 10.43it/s]\n"
     ]
    },
    {
     "name": "stdout",
     "output_type": "stream",
     "text": [
      "Loss1: 1.1770, Loss2: 0.5981, Loss3: 2.1838\n"
     ]
    },
    {
     "name": "stderr",
     "output_type": "stream",
     "text": [
      "Test_Loader: 100%|██████████| 288/288 [00:27<00:00, 10.56it/s]\n"
     ]
    },
    {
     "name": "stdout",
     "output_type": "stream",
     "text": [
      "Loss1: 1.1828, Loss2: 0.6040, Loss3: 2.1732\n"
     ]
    },
    {
     "name": "stderr",
     "output_type": "stream",
     "text": [
      "Test_Loader: 100%|██████████| 288/288 [00:31<00:00,  9.29it/s]\n"
     ]
    },
    {
     "name": "stdout",
     "output_type": "stream",
     "text": [
      "Loss1: 1.1916, Loss2: 0.5937, Loss3: 2.1159\n"
     ]
    },
    {
     "name": "stderr",
     "output_type": "stream",
     "text": [
      "Test_Loader: 100%|██████████| 288/288 [00:29<00:00,  9.77it/s]\n"
     ]
    },
    {
     "name": "stdout",
     "output_type": "stream",
     "text": [
      "Loss1: 1.1568, Loss2: 0.5971, Loss3: 2.1191\n"
     ]
    },
    {
     "name": "stderr",
     "output_type": "stream",
     "text": [
      "Test_Loader: 100%|██████████| 288/288 [00:27<00:00, 10.42it/s]\n"
     ]
    },
    {
     "name": "stdout",
     "output_type": "stream",
     "text": [
      "Loss1: 1.1531, Loss2: 0.5789, Loss3: 2.1110\n"
     ]
    },
    {
     "name": "stderr",
     "output_type": "stream",
     "text": [
      "Test_Loader: 100%|██████████| 288/288 [00:27<00:00, 10.53it/s]\n"
     ]
    },
    {
     "name": "stdout",
     "output_type": "stream",
     "text": [
      "Loss1: 1.1588, Loss2: 0.5812, Loss3: 2.0293\n"
     ]
    },
    {
     "name": "stderr",
     "output_type": "stream",
     "text": [
      "Test_Loader: 100%|██████████| 288/288 [00:27<00:00, 10.55it/s]\n"
     ]
    },
    {
     "name": "stdout",
     "output_type": "stream",
     "text": [
      "Loss1: 1.1756, Loss2: 0.5759, Loss3: 2.0415\n"
     ]
    },
    {
     "name": "stderr",
     "output_type": "stream",
     "text": [
      "Test_Loader: 100%|██████████| 288/288 [00:28<00:00, 10.25it/s]\n"
     ]
    },
    {
     "name": "stdout",
     "output_type": "stream",
     "text": [
      "Loss1: 1.1833, Loss2: 0.5805, Loss3: 1.9989\n"
     ]
    },
    {
     "name": "stderr",
     "output_type": "stream",
     "text": [
      "Test_Loader: 100%|██████████| 288/288 [00:28<00:00, 10.16it/s]\n"
     ]
    },
    {
     "name": "stdout",
     "output_type": "stream",
     "text": [
      "Loss1: 1.1797, Loss2: 0.5739, Loss3: 2.0359\n"
     ]
    },
    {
     "name": "stderr",
     "output_type": "stream",
     "text": [
      "Test_Loader: 100%|██████████| 288/288 [00:28<00:00,  9.97it/s]\n"
     ]
    },
    {
     "name": "stdout",
     "output_type": "stream",
     "text": [
      "Loss1: 1.1837, Loss2: 0.5708, Loss3: 1.9891\n"
     ]
    },
    {
     "name": "stderr",
     "output_type": "stream",
     "text": [
      "Test_Loader: 100%|██████████| 288/288 [00:28<00:00, 10.19it/s]\n"
     ]
    },
    {
     "name": "stdout",
     "output_type": "stream",
     "text": [
      "Loss1: 1.2096, Loss2: 0.5818, Loss3: 2.0854\n"
     ]
    },
    {
     "name": "stderr",
     "output_type": "stream",
     "text": [
      "Test_Loader: 100%|██████████| 288/288 [00:28<00:00, 10.00it/s]\n"
     ]
    },
    {
     "name": "stdout",
     "output_type": "stream",
     "text": [
      "Loss1: 1.1868, Loss2: 0.5789, Loss3: 2.1263\n"
     ]
    },
    {
     "name": "stderr",
     "output_type": "stream",
     "text": [
      "Test_Loader: 100%|██████████| 288/288 [00:28<00:00, 10.10it/s]\n"
     ]
    },
    {
     "name": "stdout",
     "output_type": "stream",
     "text": [
      "Loss1: 1.2028, Loss2: 0.5785, Loss3: 2.0398\n"
     ]
    },
    {
     "name": "stderr",
     "output_type": "stream",
     "text": [
      "Test_Loader: 100%|██████████| 288/288 [00:27<00:00, 10.30it/s]\n"
     ]
    },
    {
     "name": "stdout",
     "output_type": "stream",
     "text": [
      "Loss1: 1.1996, Loss2: 0.5819, Loss3: 2.0425\n"
     ]
    },
    {
     "name": "stderr",
     "output_type": "stream",
     "text": [
      "Test_Loader: 100%|██████████| 288/288 [00:27<00:00, 10.38it/s]\n"
     ]
    },
    {
     "name": "stdout",
     "output_type": "stream",
     "text": [
      "Loss1: 1.1949, Loss2: 0.5853, Loss3: 2.1014\n"
     ]
    },
    {
     "name": "stderr",
     "output_type": "stream",
     "text": [
      "Test_Loader: 100%|██████████| 288/288 [00:31<00:00,  9.29it/s]\n"
     ]
    },
    {
     "name": "stdout",
     "output_type": "stream",
     "text": [
      "Loss1: 1.1799, Loss2: 0.5776, Loss3: 2.0336\n"
     ]
    },
    {
     "name": "stderr",
     "output_type": "stream",
     "text": [
      "Test_Loader: 100%|██████████| 288/288 [00:27<00:00, 10.37it/s]\n"
     ]
    },
    {
     "name": "stdout",
     "output_type": "stream",
     "text": [
      "Loss1: 1.1534, Loss2: 0.5717, Loss3: 1.9962\n"
     ]
    },
    {
     "name": "stderr",
     "output_type": "stream",
     "text": [
      "Test_Loader: 100%|██████████| 288/288 [00:28<00:00, 10.27it/s]\n"
     ]
    },
    {
     "name": "stdout",
     "output_type": "stream",
     "text": [
      "Loss1: 1.1772, Loss2: 0.5702, Loss3: 1.9916\n"
     ]
    },
    {
     "name": "stderr",
     "output_type": "stream",
     "text": [
      "Test_Loader: 100%|██████████| 288/288 [00:28<00:00, 10.23it/s]\n"
     ]
    },
    {
     "name": "stdout",
     "output_type": "stream",
     "text": [
      "Loss1: 1.1694, Loss2: 0.5765, Loss3: 2.0368\n"
     ]
    },
    {
     "name": "stderr",
     "output_type": "stream",
     "text": [
      "Test_Loader: 100%|██████████| 288/288 [00:27<00:00, 10.33it/s]\n"
     ]
    },
    {
     "name": "stdout",
     "output_type": "stream",
     "text": [
      "Loss1: 1.1568, Loss2: 0.5594, Loss3: 1.9840\n"
     ]
    },
    {
     "name": "stderr",
     "output_type": "stream",
     "text": [
      "Test_Loader: 100%|██████████| 288/288 [00:27<00:00, 10.49it/s]\n"
     ]
    },
    {
     "name": "stdout",
     "output_type": "stream",
     "text": [
      "Loss1: 1.1556, Loss2: 0.5614, Loss3: 1.9933\n"
     ]
    },
    {
     "name": "stderr",
     "output_type": "stream",
     "text": [
      "Test_Loader: 100%|██████████| 288/288 [00:28<00:00, 10.04it/s]\n"
     ]
    },
    {
     "name": "stdout",
     "output_type": "stream",
     "text": [
      "Loss1: 1.1142, Loss2: 0.5595, Loss3: 1.9750\n"
     ]
    },
    {
     "name": "stderr",
     "output_type": "stream",
     "text": [
      "Test_Loader: 100%|██████████| 288/288 [00:28<00:00, 10.10it/s]\n"
     ]
    },
    {
     "name": "stdout",
     "output_type": "stream",
     "text": [
      "Loss1: 1.1107, Loss2: 0.5525, Loss3: 1.9541\n"
     ]
    },
    {
     "name": "stderr",
     "output_type": "stream",
     "text": [
      "Test_Loader: 100%|██████████| 288/288 [00:27<00:00, 10.34it/s]\n"
     ]
    },
    {
     "name": "stdout",
     "output_type": "stream",
     "text": [
      "Loss1: 1.1432, Loss2: 0.5419, Loss3: 1.9448\n"
     ]
    },
    {
     "name": "stderr",
     "output_type": "stream",
     "text": [
      "Test_Loader: 100%|██████████| 288/288 [00:27<00:00, 10.36it/s]\n"
     ]
    },
    {
     "name": "stdout",
     "output_type": "stream",
     "text": [
      "Loss1: 1.1436, Loss2: 0.5382, Loss3: 1.9266\n"
     ]
    },
    {
     "name": "stderr",
     "output_type": "stream",
     "text": [
      "Test_Loader: 100%|██████████| 288/288 [00:27<00:00, 10.46it/s]\n"
     ]
    },
    {
     "name": "stdout",
     "output_type": "stream",
     "text": [
      "Loss1: 1.1332, Loss2: 0.5327, Loss3: 1.9064\n"
     ]
    },
    {
     "name": "stderr",
     "output_type": "stream",
     "text": [
      "Test_Loader: 100%|██████████| 288/288 [00:27<00:00, 10.45it/s]\n"
     ]
    },
    {
     "name": "stdout",
     "output_type": "stream",
     "text": [
      "Loss1: 1.1271, Loss2: 0.5177, Loss3: 1.8872\n"
     ]
    },
    {
     "name": "stderr",
     "output_type": "stream",
     "text": [
      "Test_Loader: 100%|██████████| 288/288 [00:28<00:00, 10.14it/s]\n"
     ]
    },
    {
     "name": "stdout",
     "output_type": "stream",
     "text": [
      "Loss1: 1.0929, Loss2: 0.5163, Loss3: 1.8890\n"
     ]
    },
    {
     "name": "stderr",
     "output_type": "stream",
     "text": [
      "Test_Loader: 100%|██████████| 288/288 [00:30<00:00,  9.38it/s]\n"
     ]
    },
    {
     "name": "stdout",
     "output_type": "stream",
     "text": [
      "Loss1: 1.1029, Loss2: 0.5215, Loss3: 1.9382\n"
     ]
    },
    {
     "name": "stderr",
     "output_type": "stream",
     "text": [
      "Test_Loader: 100%|██████████| 288/288 [00:26<00:00, 10.69it/s]\n"
     ]
    },
    {
     "name": "stdout",
     "output_type": "stream",
     "text": [
      "Loss1: 1.0803, Loss2: 0.5202, Loss3: 1.8882\n"
     ]
    },
    {
     "name": "stderr",
     "output_type": "stream",
     "text": [
      "Test_Loader: 100%|██████████| 288/288 [00:26<00:00, 10.69it/s]\n"
     ]
    },
    {
     "name": "stdout",
     "output_type": "stream",
     "text": [
      "Loss1: 1.1253, Loss2: 0.5254, Loss3: 1.8674\n"
     ]
    },
    {
     "name": "stderr",
     "output_type": "stream",
     "text": [
      "Test_Loader: 100%|██████████| 288/288 [00:27<00:00, 10.33it/s]\n"
     ]
    },
    {
     "name": "stdout",
     "output_type": "stream",
     "text": [
      "Loss1: 1.0952, Loss2: 0.5217, Loss3: 1.8888\n"
     ]
    },
    {
     "name": "stderr",
     "output_type": "stream",
     "text": [
      "Test_Loader: 100%|██████████| 288/288 [00:30<00:00,  9.57it/s]\n"
     ]
    },
    {
     "name": "stdout",
     "output_type": "stream",
     "text": [
      "Loss1: 1.0893, Loss2: 0.5115, Loss3: 1.8754\n"
     ]
    },
    {
     "name": "stderr",
     "output_type": "stream",
     "text": [
      "Test_Loader: 100%|██████████| 288/288 [00:27<00:00, 10.39it/s]\n"
     ]
    },
    {
     "name": "stdout",
     "output_type": "stream",
     "text": [
      "Loss1: 1.0837, Loss2: 0.5084, Loss3: 1.8342\n"
     ]
    },
    {
     "name": "stderr",
     "output_type": "stream",
     "text": [
      "Test_Loader: 100%|██████████| 288/288 [00:28<00:00, 10.13it/s]\n"
     ]
    },
    {
     "name": "stdout",
     "output_type": "stream",
     "text": [
      "Loss1: 1.0787, Loss2: 0.5041, Loss3: 1.8363\n"
     ]
    },
    {
     "name": "stderr",
     "output_type": "stream",
     "text": [
      "Test_Loader: 100%|██████████| 288/288 [00:28<00:00, 10.15it/s]\n"
     ]
    },
    {
     "name": "stdout",
     "output_type": "stream",
     "text": [
      "Loss1: 1.0612, Loss2: 0.4983, Loss3: 1.7789\n"
     ]
    },
    {
     "name": "stderr",
     "output_type": "stream",
     "text": [
      "Test_Loader: 100%|██████████| 288/288 [00:28<00:00, 10.06it/s]\n"
     ]
    },
    {
     "name": "stdout",
     "output_type": "stream",
     "text": [
      "Loss1: 1.0940, Loss2: 0.5125, Loss3: 1.8332\n"
     ]
    },
    {
     "name": "stderr",
     "output_type": "stream",
     "text": [
      "Test_Loader: 100%|██████████| 288/288 [00:28<00:00, 10.22it/s]\n"
     ]
    },
    {
     "name": "stdout",
     "output_type": "stream",
     "text": [
      "Loss1: 1.0993, Loss2: 0.5104, Loss3: 1.8059\n"
     ]
    },
    {
     "name": "stderr",
     "output_type": "stream",
     "text": [
      "Test_Loader: 100%|██████████| 288/288 [00:28<00:00, 10.24it/s]\n"
     ]
    },
    {
     "name": "stdout",
     "output_type": "stream",
     "text": [
      "Loss1: 1.1042, Loss2: 0.5120, Loss3: 1.7887\n"
     ]
    },
    {
     "name": "stderr",
     "output_type": "stream",
     "text": [
      "Test_Loader: 100%|██████████| 288/288 [00:27<00:00, 10.41it/s]\n"
     ]
    },
    {
     "name": "stdout",
     "output_type": "stream",
     "text": [
      "Loss1: 1.0826, Loss2: 0.5017, Loss3: 1.7858\n"
     ]
    },
    {
     "name": "stderr",
     "output_type": "stream",
     "text": [
      "Test_Loader: 100%|██████████| 288/288 [00:28<00:00, 10.17it/s]\n"
     ]
    },
    {
     "name": "stdout",
     "output_type": "stream",
     "text": [
      "Loss1: 1.0825, Loss2: 0.5045, Loss3: 1.7596\n"
     ]
    },
    {
     "name": "stderr",
     "output_type": "stream",
     "text": [
      "Test_Loader: 100%|██████████| 288/288 [00:29<00:00,  9.60it/s]\n"
     ]
    },
    {
     "name": "stdout",
     "output_type": "stream",
     "text": [
      "Loss1: 1.0749, Loss2: 0.4973, Loss3: 1.7321\n"
     ]
    },
    {
     "name": "stderr",
     "output_type": "stream",
     "text": [
      "Test_Loader: 100%|██████████| 288/288 [00:26<00:00, 10.71it/s]\n"
     ]
    },
    {
     "name": "stdout",
     "output_type": "stream",
     "text": [
      "Loss1: 1.0823, Loss2: 0.5017, Loss3: 1.7219\n"
     ]
    },
    {
     "name": "stderr",
     "output_type": "stream",
     "text": [
      "Test_Loader: 100%|██████████| 288/288 [00:28<00:00, 10.25it/s]\n"
     ]
    },
    {
     "name": "stdout",
     "output_type": "stream",
     "text": [
      "Loss1: 1.0661, Loss2: 0.4988, Loss3: 1.7388\n"
     ]
    },
    {
     "name": "stderr",
     "output_type": "stream",
     "text": [
      "Test_Loader: 100%|██████████| 288/288 [00:27<00:00, 10.47it/s]\n"
     ]
    },
    {
     "name": "stdout",
     "output_type": "stream",
     "text": [
      "Loss1: 1.0486, Loss2: 0.4928, Loss3: 1.7135\n"
     ]
    },
    {
     "name": "stderr",
     "output_type": "stream",
     "text": [
      "Test_Loader: 100%|██████████| 288/288 [00:28<00:00,  9.95it/s]\n"
     ]
    },
    {
     "name": "stdout",
     "output_type": "stream",
     "text": [
      "Loss1: 1.0815, Loss2: 0.4878, Loss3: 1.7109\n"
     ]
    },
    {
     "name": "stderr",
     "output_type": "stream",
     "text": [
      "Test_Loader: 100%|██████████| 288/288 [00:27<00:00, 10.58it/s]\n"
     ]
    },
    {
     "name": "stdout",
     "output_type": "stream",
     "text": [
      "Loss1: 1.0951, Loss2: 0.4873, Loss3: 1.6834\n"
     ]
    },
    {
     "name": "stderr",
     "output_type": "stream",
     "text": [
      "Test_Loader: 100%|██████████| 288/288 [00:28<00:00, 10.00it/s]\n"
     ]
    },
    {
     "name": "stdout",
     "output_type": "stream",
     "text": [
      "Loss1: 1.0787, Loss2: 0.4919, Loss3: 1.6554\n"
     ]
    },
    {
     "name": "stderr",
     "output_type": "stream",
     "text": [
      "Test_Loader: 100%|██████████| 288/288 [00:28<00:00, 10.08it/s]\n"
     ]
    },
    {
     "name": "stdout",
     "output_type": "stream",
     "text": [
      "Loss1: 1.0957, Loss2: 0.4853, Loss3: 1.6580\n"
     ]
    },
    {
     "name": "stderr",
     "output_type": "stream",
     "text": [
      "Test_Loader: 100%|██████████| 288/288 [00:28<00:00, 10.23it/s]\n"
     ]
    },
    {
     "name": "stdout",
     "output_type": "stream",
     "text": [
      "Loss1: 1.0879, Loss2: 0.4893, Loss3: 1.6664\n"
     ]
    },
    {
     "name": "stderr",
     "output_type": "stream",
     "text": [
      "Test_Loader: 100%|██████████| 288/288 [00:28<00:00, 10.19it/s]\n"
     ]
    },
    {
     "name": "stdout",
     "output_type": "stream",
     "text": [
      "Loss1: 1.0760, Loss2: 0.4847, Loss3: 1.6723\n"
     ]
    },
    {
     "name": "stderr",
     "output_type": "stream",
     "text": [
      "Test_Loader: 100%|██████████| 288/288 [00:27<00:00, 10.44it/s]\n"
     ]
    },
    {
     "name": "stdout",
     "output_type": "stream",
     "text": [
      "Loss1: 1.0739, Loss2: 0.4840, Loss3: 1.6290\n"
     ]
    },
    {
     "name": "stderr",
     "output_type": "stream",
     "text": [
      "Test_Loader: 100%|██████████| 288/288 [00:28<00:00, 10.10it/s]\n"
     ]
    },
    {
     "name": "stdout",
     "output_type": "stream",
     "text": [
      "Loss1: 1.0644, Loss2: 0.4826, Loss3: 1.6253\n"
     ]
    },
    {
     "name": "stderr",
     "output_type": "stream",
     "text": [
      "Test_Loader: 100%|██████████| 288/288 [00:30<00:00,  9.46it/s]\n"
     ]
    },
    {
     "name": "stdout",
     "output_type": "stream",
     "text": [
      "Loss1: 1.0725, Loss2: 0.4840, Loss3: 1.6285\n"
     ]
    },
    {
     "name": "stderr",
     "output_type": "stream",
     "text": [
      "Test_Loader: 100%|██████████| 288/288 [00:29<00:00,  9.88it/s]\n"
     ]
    },
    {
     "name": "stdout",
     "output_type": "stream",
     "text": [
      "Loss1: 1.0529, Loss2: 0.4760, Loss3: 1.6199\n"
     ]
    },
    {
     "name": "stderr",
     "output_type": "stream",
     "text": [
      "Test_Loader: 100%|██████████| 288/288 [00:27<00:00, 10.57it/s]\n"
     ]
    },
    {
     "name": "stdout",
     "output_type": "stream",
     "text": [
      "Loss1: 1.0414, Loss2: 0.4768, Loss3: 1.6150\n"
     ]
    },
    {
     "name": "stderr",
     "output_type": "stream",
     "text": [
      "Test_Loader: 100%|██████████| 288/288 [00:26<00:00, 10.76it/s]\n"
     ]
    },
    {
     "name": "stdout",
     "output_type": "stream",
     "text": [
      "Loss1: 1.0432, Loss2: 0.4764, Loss3: 1.5962\n"
     ]
    },
    {
     "name": "stderr",
     "output_type": "stream",
     "text": [
      "Test_Loader: 100%|██████████| 288/288 [00:28<00:00, 10.02it/s]\n"
     ]
    },
    {
     "name": "stdout",
     "output_type": "stream",
     "text": [
      "Loss1: 1.0328, Loss2: 0.4777, Loss3: 1.5705\n"
     ]
    },
    {
     "name": "stderr",
     "output_type": "stream",
     "text": [
      "Test_Loader: 100%|██████████| 288/288 [00:28<00:00, 10.01it/s]\n"
     ]
    },
    {
     "name": "stdout",
     "output_type": "stream",
     "text": [
      "Loss1: 1.0501, Loss2: 0.4694, Loss3: 1.5582\n"
     ]
    },
    {
     "name": "stderr",
     "output_type": "stream",
     "text": [
      "Test_Loader: 100%|██████████| 288/288 [00:28<00:00, 10.09it/s]\n"
     ]
    },
    {
     "name": "stdout",
     "output_type": "stream",
     "text": [
      "Loss1: 1.0443, Loss2: 0.4685, Loss3: 1.5542\n"
     ]
    },
    {
     "name": "stderr",
     "output_type": "stream",
     "text": [
      "Test_Loader: 100%|██████████| 288/288 [00:29<00:00,  9.82it/s]\n"
     ]
    },
    {
     "name": "stdout",
     "output_type": "stream",
     "text": [
      "Loss1: 1.0324, Loss2: 0.4663, Loss3: 1.5254\n"
     ]
    },
    {
     "name": "stderr",
     "output_type": "stream",
     "text": [
      "Test_Loader: 100%|██████████| 288/288 [00:29<00:00,  9.90it/s]\n"
     ]
    },
    {
     "name": "stdout",
     "output_type": "stream",
     "text": [
      "Loss1: 1.0255, Loss2: 0.4699, Loss3: 1.5288\n"
     ]
    },
    {
     "name": "stderr",
     "output_type": "stream",
     "text": [
      "Test_Loader: 100%|██████████| 288/288 [00:28<00:00,  9.98it/s]\n"
     ]
    },
    {
     "name": "stdout",
     "output_type": "stream",
     "text": [
      "Loss1: 1.0192, Loss2: 0.4675, Loss3: 1.5280\n"
     ]
    },
    {
     "name": "stderr",
     "output_type": "stream",
     "text": [
      "Test_Loader: 100%|██████████| 288/288 [00:28<00:00, 10.22it/s]\n"
     ]
    },
    {
     "name": "stdout",
     "output_type": "stream",
     "text": [
      "Loss1: 1.0230, Loss2: 0.4659, Loss3: 1.5268\n"
     ]
    },
    {
     "name": "stderr",
     "output_type": "stream",
     "text": [
      "Test_Loader: 100%|██████████| 288/288 [00:27<00:00, 10.45it/s]\n"
     ]
    },
    {
     "name": "stdout",
     "output_type": "stream",
     "text": [
      "Loss1: 1.0210, Loss2: 0.4643, Loss3: 1.5136\n"
     ]
    },
    {
     "name": "stderr",
     "output_type": "stream",
     "text": [
      "Test_Loader: 100%|██████████| 288/288 [00:28<00:00, 10.03it/s]\n"
     ]
    },
    {
     "name": "stdout",
     "output_type": "stream",
     "text": [
      "Loss1: 1.0285, Loss2: 0.4772, Loss3: 1.5549\n"
     ]
    },
    {
     "name": "stderr",
     "output_type": "stream",
     "text": [
      "Test_Loader: 100%|██████████| 288/288 [00:31<00:00,  9.15it/s]\n"
     ]
    },
    {
     "name": "stdout",
     "output_type": "stream",
     "text": [
      "Loss1: 1.0231, Loss2: 0.4788, Loss3: 1.5043\n"
     ]
    },
    {
     "name": "stderr",
     "output_type": "stream",
     "text": [
      "Test_Loader: 100%|██████████| 288/288 [00:27<00:00, 10.59it/s]\n"
     ]
    },
    {
     "name": "stdout",
     "output_type": "stream",
     "text": [
      "Loss1: 1.0075, Loss2: 0.4764, Loss3: 1.5171\n"
     ]
    },
    {
     "name": "stderr",
     "output_type": "stream",
     "text": [
      "Test_Loader: 100%|██████████| 288/288 [00:27<00:00, 10.62it/s]\n"
     ]
    },
    {
     "name": "stdout",
     "output_type": "stream",
     "text": [
      "Loss1: 1.0149, Loss2: 0.4725, Loss3: 1.5158\n"
     ]
    },
    {
     "name": "stderr",
     "output_type": "stream",
     "text": [
      "Test_Loader: 100%|██████████| 288/288 [00:27<00:00, 10.42it/s]\n"
     ]
    },
    {
     "name": "stdout",
     "output_type": "stream",
     "text": [
      "Loss1: 1.0020, Loss2: 0.4702, Loss3: 1.5009\n"
     ]
    },
    {
     "name": "stderr",
     "output_type": "stream",
     "text": [
      "Test_Loader: 100%|██████████| 288/288 [00:27<00:00, 10.55it/s]\n"
     ]
    },
    {
     "name": "stdout",
     "output_type": "stream",
     "text": [
      "Loss1: 0.9988, Loss2: 0.4665, Loss3: 1.4486\n"
     ]
    },
    {
     "name": "stderr",
     "output_type": "stream",
     "text": [
      "Test_Loader: 100%|██████████| 288/288 [00:27<00:00, 10.37it/s]\n"
     ]
    },
    {
     "name": "stdout",
     "output_type": "stream",
     "text": [
      "Loss1: 0.9944, Loss2: 0.4617, Loss3: 1.4693\n"
     ]
    },
    {
     "name": "stderr",
     "output_type": "stream",
     "text": [
      "Test_Loader: 100%|██████████| 288/288 [00:27<00:00, 10.29it/s]\n"
     ]
    },
    {
     "name": "stdout",
     "output_type": "stream",
     "text": [
      "Loss1: 1.0425, Loss2: 0.4892, Loss3: 1.6382\n"
     ]
    },
    {
     "name": "stderr",
     "output_type": "stream",
     "text": [
      "Test_Loader: 100%|██████████| 288/288 [00:28<00:00, 10.13it/s]\n"
     ]
    },
    {
     "name": "stdout",
     "output_type": "stream",
     "text": [
      "Loss1: 1.0290, Loss2: 0.4843, Loss3: 1.6407\n"
     ]
    },
    {
     "name": "stderr",
     "output_type": "stream",
     "text": [
      "Test_Loader: 100%|██████████| 288/288 [00:28<00:00, 10.19it/s]\n"
     ]
    },
    {
     "name": "stdout",
     "output_type": "stream",
     "text": [
      "Loss1: 1.0270, Loss2: 0.4752, Loss3: 1.5849\n"
     ]
    },
    {
     "name": "stderr",
     "output_type": "stream",
     "text": [
      "Test_Loader: 100%|██████████| 288/288 [00:28<00:00, 10.02it/s]\n"
     ]
    },
    {
     "name": "stdout",
     "output_type": "stream",
     "text": [
      "Loss1: 1.0074, Loss2: 0.4674, Loss3: 1.5697\n"
     ]
    },
    {
     "name": "stderr",
     "output_type": "stream",
     "text": [
      "Test_Loader: 100%|██████████| 288/288 [00:28<00:00, 10.18it/s]\n"
     ]
    },
    {
     "name": "stdout",
     "output_type": "stream",
     "text": [
      "Loss1: 0.9789, Loss2: 0.4657, Loss3: 1.5696\n"
     ]
    },
    {
     "name": "stderr",
     "output_type": "stream",
     "text": [
      "Test_Loader: 100%|██████████| 288/288 [00:27<00:00, 10.29it/s]\n"
     ]
    },
    {
     "name": "stdout",
     "output_type": "stream",
     "text": [
      "Loss1: 1.0248, Loss2: 0.4581, Loss3: 1.5370\n"
     ]
    },
    {
     "name": "stderr",
     "output_type": "stream",
     "text": [
      "Test_Loader: 100%|██████████| 288/288 [00:28<00:00, 10.11it/s]\n"
     ]
    },
    {
     "name": "stdout",
     "output_type": "stream",
     "text": [
      "Loss1: 0.9755, Loss2: 0.4468, Loss3: 1.5243\n"
     ]
    },
    {
     "name": "stderr",
     "output_type": "stream",
     "text": [
      "Test_Loader: 100%|██████████| 288/288 [00:29<00:00,  9.62it/s]\n"
     ]
    },
    {
     "name": "stdout",
     "output_type": "stream",
     "text": [
      "Loss1: 0.9264, Loss2: 0.4133, Loss3: 1.4293\n"
     ]
    },
    {
     "name": "stderr",
     "output_type": "stream",
     "text": [
      "Test_Loader: 100%|██████████| 288/288 [00:27<00:00, 10.64it/s]\n"
     ]
    },
    {
     "name": "stdout",
     "output_type": "stream",
     "text": [
      "Loss1: 0.9299, Loss2: 0.4196, Loss3: 1.4455\n"
     ]
    },
    {
     "name": "stderr",
     "output_type": "stream",
     "text": [
      "Test_Loader: 100%|██████████| 288/288 [00:27<00:00, 10.64it/s]\n"
     ]
    },
    {
     "name": "stdout",
     "output_type": "stream",
     "text": [
      "Loss1: 0.9371, Loss2: 0.4058, Loss3: 1.3744\n"
     ]
    },
    {
     "name": "stderr",
     "output_type": "stream",
     "text": [
      "Test_Loader: 100%|██████████| 288/288 [00:26<00:00, 10.82it/s]\n"
     ]
    },
    {
     "name": "stdout",
     "output_type": "stream",
     "text": [
      "Loss1: 0.9268, Loss2: 0.4088, Loss3: 1.3916\n"
     ]
    },
    {
     "name": "stderr",
     "output_type": "stream",
     "text": [
      "Test_Loader: 100%|██████████| 288/288 [00:27<00:00, 10.55it/s]\n"
     ]
    },
    {
     "name": "stdout",
     "output_type": "stream",
     "text": [
      "Loss1: 0.9242, Loss2: 0.4116, Loss3: 1.3983\n"
     ]
    },
    {
     "name": "stderr",
     "output_type": "stream",
     "text": [
      "Test_Loader: 100%|██████████| 288/288 [00:27<00:00, 10.30it/s]\n"
     ]
    },
    {
     "name": "stdout",
     "output_type": "stream",
     "text": [
      "Loss1: 0.8949, Loss2: 0.4003, Loss3: 1.3769\n"
     ]
    },
    {
     "name": "stderr",
     "output_type": "stream",
     "text": [
      "Test_Loader: 100%|██████████| 288/288 [00:29<00:00,  9.87it/s]\n"
     ]
    },
    {
     "name": "stdout",
     "output_type": "stream",
     "text": [
      "Loss1: 0.9815, Loss2: 0.3954, Loss3: 2.0561\n"
     ]
    },
    {
     "name": "stderr",
     "output_type": "stream",
     "text": [
      "Test_Loader: 100%|██████████| 288/288 [00:29<00:00,  9.90it/s]\n"
     ]
    },
    {
     "name": "stdout",
     "output_type": "stream",
     "text": [
      "Loss1: 0.9203, Loss2: 0.3893, Loss3: 1.9193\n"
     ]
    },
    {
     "name": "stderr",
     "output_type": "stream",
     "text": [
      "Test_Loader: 100%|██████████| 288/288 [00:29<00:00,  9.79it/s]\n"
     ]
    },
    {
     "name": "stdout",
     "output_type": "stream",
     "text": [
      "Loss1: 0.9230, Loss2: 0.3859, Loss3: 1.8703\n"
     ]
    },
    {
     "name": "stderr",
     "output_type": "stream",
     "text": [
      "Test_Loader: 100%|██████████| 288/288 [00:28<00:00, 10.27it/s]\n"
     ]
    },
    {
     "name": "stdout",
     "output_type": "stream",
     "text": [
      "Loss1: 0.8852, Loss2: 0.3747, Loss3: 1.7960\n"
     ]
    },
    {
     "name": "stderr",
     "output_type": "stream",
     "text": [
      "Test_Loader: 100%|██████████| 288/288 [00:27<00:00, 10.55it/s]\n"
     ]
    },
    {
     "name": "stdout",
     "output_type": "stream",
     "text": [
      "Loss1: 0.8633, Loss2: 0.3703, Loss3: 1.6942\n"
     ]
    },
    {
     "name": "stderr",
     "output_type": "stream",
     "text": [
      "Test_Loader: 100%|██████████| 288/288 [00:27<00:00, 10.61it/s]\n"
     ]
    },
    {
     "name": "stdout",
     "output_type": "stream",
     "text": [
      "Loss1: 0.8493, Loss2: 0.3534, Loss3: 1.6800\n"
     ]
    },
    {
     "name": "stderr",
     "output_type": "stream",
     "text": [
      "Test_Loader: 100%|██████████| 288/288 [00:30<00:00,  9.57it/s]\n"
     ]
    },
    {
     "name": "stdout",
     "output_type": "stream",
     "text": [
      "Loss1: 0.8235, Loss2: 0.3599, Loss3: 1.5689\n"
     ]
    },
    {
     "name": "stderr",
     "output_type": "stream",
     "text": [
      "Test_Loader: 100%|██████████| 288/288 [00:29<00:00,  9.60it/s]\n"
     ]
    },
    {
     "name": "stdout",
     "output_type": "stream",
     "text": [
      "Loss1: 0.8572, Loss2: 0.3599, Loss3: 1.5654\n"
     ]
    },
    {
     "name": "stderr",
     "output_type": "stream",
     "text": [
      "Test_Loader: 100%|██████████| 288/288 [00:28<00:00, 10.28it/s]\n"
     ]
    },
    {
     "name": "stdout",
     "output_type": "stream",
     "text": [
      "Loss1: 0.8174, Loss2: 0.3692, Loss3: 1.5119\n"
     ]
    },
    {
     "name": "stderr",
     "output_type": "stream",
     "text": [
      "Test_Loader: 100%|██████████| 288/288 [00:28<00:00, 10.22it/s]\n"
     ]
    },
    {
     "name": "stdout",
     "output_type": "stream",
     "text": [
      "Loss1: 0.9117, Loss2: 0.3876, Loss3: 1.6274\n"
     ]
    },
    {
     "name": "stderr",
     "output_type": "stream",
     "text": [
      "Test_Loader: 100%|██████████| 288/288 [00:28<00:00,  9.94it/s]\n"
     ]
    },
    {
     "name": "stdout",
     "output_type": "stream",
     "text": [
      "Loss1: 0.9015, Loss2: 0.3907, Loss3: 1.5911\n"
     ]
    },
    {
     "name": "stderr",
     "output_type": "stream",
     "text": [
      "Test_Loader: 100%|██████████| 288/288 [00:28<00:00, 10.27it/s]\n"
     ]
    },
    {
     "name": "stdout",
     "output_type": "stream",
     "text": [
      "Loss1: 0.8972, Loss2: 0.3888, Loss3: 1.5714\n"
     ]
    },
    {
     "name": "stderr",
     "output_type": "stream",
     "text": [
      "Test_Loader: 100%|██████████| 288/288 [00:28<00:00, 10.20it/s]\n"
     ]
    },
    {
     "name": "stdout",
     "output_type": "stream",
     "text": [
      "Loss1: 0.8842, Loss2: 0.3875, Loss3: 1.5640\n"
     ]
    },
    {
     "name": "stderr",
     "output_type": "stream",
     "text": [
      "Test_Loader: 100%|██████████| 288/288 [00:27<00:00, 10.31it/s]\n"
     ]
    },
    {
     "name": "stdout",
     "output_type": "stream",
     "text": [
      "Loss1: 0.8809, Loss2: 0.3800, Loss3: 1.5723\n"
     ]
    },
    {
     "name": "stderr",
     "output_type": "stream",
     "text": [
      "Test_Loader: 100%|██████████| 288/288 [00:28<00:00, 10.22it/s]\n"
     ]
    },
    {
     "name": "stdout",
     "output_type": "stream",
     "text": [
      "Loss1: 0.8547, Loss2: 0.3800, Loss3: 1.5238\n"
     ]
    },
    {
     "name": "stderr",
     "output_type": "stream",
     "text": [
      "Test_Loader: 100%|██████████| 288/288 [00:27<00:00, 10.31it/s]\n"
     ]
    },
    {
     "name": "stdout",
     "output_type": "stream",
     "text": [
      "Loss1: 0.8675, Loss2: 0.3816, Loss3: 1.5449\n"
     ]
    },
    {
     "name": "stderr",
     "output_type": "stream",
     "text": [
      "Test_Loader: 100%|██████████| 288/288 [00:28<00:00, 10.14it/s]\n"
     ]
    },
    {
     "name": "stdout",
     "output_type": "stream",
     "text": [
      "Loss1: 0.8504, Loss2: 0.3800, Loss3: 1.5253\n"
     ]
    },
    {
     "name": "stderr",
     "output_type": "stream",
     "text": [
      "Test_Loader: 100%|██████████| 288/288 [00:27<00:00, 10.53it/s]\n"
     ]
    },
    {
     "name": "stdout",
     "output_type": "stream",
     "text": [
      "Loss1: 0.8473, Loss2: 0.3745, Loss3: 1.5283\n"
     ]
    },
    {
     "name": "stderr",
     "output_type": "stream",
     "text": [
      "Test_Loader: 100%|██████████| 288/288 [00:28<00:00, 10.08it/s]\n"
     ]
    },
    {
     "name": "stdout",
     "output_type": "stream",
     "text": [
      "Loss1: 0.8502, Loss2: 0.3730, Loss3: 1.5136\n"
     ]
    },
    {
     "name": "stderr",
     "output_type": "stream",
     "text": [
      "Test_Loader: 100%|██████████| 288/288 [00:27<00:00, 10.43it/s]\n"
     ]
    },
    {
     "name": "stdout",
     "output_type": "stream",
     "text": [
      "Loss1: 0.8075, Loss2: 0.3780, Loss3: 1.4713\n"
     ]
    },
    {
     "name": "stderr",
     "output_type": "stream",
     "text": [
      "Test_Loader: 100%|██████████| 288/288 [00:27<00:00, 10.58it/s]\n"
     ]
    },
    {
     "name": "stdout",
     "output_type": "stream",
     "text": [
      "Loss1: 0.8321, Loss2: 0.3711, Loss3: 1.4916\n"
     ]
    },
    {
     "name": "stderr",
     "output_type": "stream",
     "text": [
      "Test_Loader: 100%|██████████| 288/288 [00:27<00:00, 10.54it/s]\n"
     ]
    },
    {
     "name": "stdout",
     "output_type": "stream",
     "text": [
      "Loss1: 0.8024, Loss2: 0.3666, Loss3: 1.4210\n"
     ]
    },
    {
     "name": "stderr",
     "output_type": "stream",
     "text": [
      "Test_Loader: 100%|██████████| 288/288 [00:27<00:00, 10.46it/s]\n"
     ]
    },
    {
     "name": "stdout",
     "output_type": "stream",
     "text": [
      "Loss1: 0.7861, Loss2: 0.3638, Loss3: 1.4037\n"
     ]
    },
    {
     "name": "stderr",
     "output_type": "stream",
     "text": [
      "Test_Loader: 100%|██████████| 288/288 [00:27<00:00, 10.49it/s]\n"
     ]
    },
    {
     "name": "stdout",
     "output_type": "stream",
     "text": [
      "Loss1: 0.7747, Loss2: 0.3610, Loss3: 1.3934\n"
     ]
    },
    {
     "name": "stderr",
     "output_type": "stream",
     "text": [
      "Test_Loader: 100%|██████████| 288/288 [00:27<00:00, 10.48it/s]\n"
     ]
    },
    {
     "name": "stdout",
     "output_type": "stream",
     "text": [
      "Loss1: 0.7926, Loss2: 0.3466, Loss3: 1.4032\n"
     ]
    },
    {
     "name": "stderr",
     "output_type": "stream",
     "text": [
      "Test_Loader: 100%|██████████| 288/288 [00:28<00:00, 10.28it/s]\n"
     ]
    },
    {
     "name": "stdout",
     "output_type": "stream",
     "text": [
      "Loss1: 0.7938, Loss2: 0.3488, Loss3: 1.3767\n"
     ]
    },
    {
     "name": "stderr",
     "output_type": "stream",
     "text": [
      "Test_Loader: 100%|██████████| 288/288 [00:28<00:00,  9.96it/s]\n"
     ]
    },
    {
     "name": "stdout",
     "output_type": "stream",
     "text": [
      "Loss1: 0.7820, Loss2: 0.3511, Loss3: 1.3405\n"
     ]
    },
    {
     "name": "stderr",
     "output_type": "stream",
     "text": [
      "Test_Loader: 100%|██████████| 288/288 [00:28<00:00, 10.05it/s]\n"
     ]
    },
    {
     "name": "stdout",
     "output_type": "stream",
     "text": [
      "Loss1: 0.7927, Loss2: 0.3491, Loss3: 1.3674\n"
     ]
    },
    {
     "name": "stderr",
     "output_type": "stream",
     "text": [
      "Test_Loader: 100%|██████████| 288/288 [00:28<00:00, 10.20it/s]\n"
     ]
    },
    {
     "name": "stdout",
     "output_type": "stream",
     "text": [
      "Loss1: 0.7773, Loss2: 0.3437, Loss3: 1.3624\n"
     ]
    },
    {
     "name": "stderr",
     "output_type": "stream",
     "text": [
      "Test_Loader: 100%|██████████| 288/288 [00:28<00:00, 10.16it/s]\n"
     ]
    },
    {
     "name": "stdout",
     "output_type": "stream",
     "text": [
      "Loss1: 0.7745, Loss2: 0.3442, Loss3: 1.3017\n"
     ]
    },
    {
     "name": "stderr",
     "output_type": "stream",
     "text": [
      "Test_Loader: 100%|██████████| 288/288 [00:27<00:00, 10.56it/s]\n"
     ]
    },
    {
     "name": "stdout",
     "output_type": "stream",
     "text": [
      "Loss1: 0.7770, Loss2: 0.3421, Loss3: 1.3096\n"
     ]
    },
    {
     "name": "stderr",
     "output_type": "stream",
     "text": [
      "Test_Loader: 100%|██████████| 288/288 [00:27<00:00, 10.53it/s]\n"
     ]
    },
    {
     "name": "stdout",
     "output_type": "stream",
     "text": [
      "Loss1: 0.8044, Loss2: 0.3422, Loss3: 1.3346\n"
     ]
    },
    {
     "name": "stderr",
     "output_type": "stream",
     "text": [
      "Test_Loader: 100%|██████████| 288/288 [00:29<00:00,  9.68it/s]\n"
     ]
    },
    {
     "name": "stdout",
     "output_type": "stream",
     "text": [
      "Loss1: 0.7852, Loss2: 0.3403, Loss3: 1.2892\n"
     ]
    },
    {
     "name": "stderr",
     "output_type": "stream",
     "text": [
      "Test_Loader: 100%|██████████| 288/288 [00:27<00:00, 10.29it/s]\n"
     ]
    },
    {
     "name": "stdout",
     "output_type": "stream",
     "text": [
      "Loss1: 0.7861, Loss2: 0.3410, Loss3: 1.2837\n"
     ]
    },
    {
     "name": "stderr",
     "output_type": "stream",
     "text": [
      "Test_Loader: 100%|██████████| 288/288 [00:27<00:00, 10.57it/s]\n"
     ]
    },
    {
     "name": "stdout",
     "output_type": "stream",
     "text": [
      "Loss1: 0.7478, Loss2: 0.3394, Loss3: 1.2706\n"
     ]
    },
    {
     "name": "stderr",
     "output_type": "stream",
     "text": [
      "Test_Loader: 100%|██████████| 288/288 [00:28<00:00, 10.00it/s]\n"
     ]
    },
    {
     "name": "stdout",
     "output_type": "stream",
     "text": [
      "Loss1: 0.7505, Loss2: 0.3365, Loss3: 1.2951\n"
     ]
    },
    {
     "name": "stderr",
     "output_type": "stream",
     "text": [
      "Test_Loader: 100%|██████████| 288/288 [00:29<00:00,  9.69it/s]\n"
     ]
    },
    {
     "name": "stdout",
     "output_type": "stream",
     "text": [
      "Loss1: 0.7452, Loss2: 0.3325, Loss3: 1.2516\n"
     ]
    },
    {
     "name": "stderr",
     "output_type": "stream",
     "text": [
      "Test_Loader: 100%|██████████| 288/288 [00:28<00:00, 10.23it/s]\n"
     ]
    },
    {
     "name": "stdout",
     "output_type": "stream",
     "text": [
      "Loss1: 0.7409, Loss2: 0.3335, Loss3: 1.2339\n"
     ]
    },
    {
     "name": "stderr",
     "output_type": "stream",
     "text": [
      "Test_Loader: 100%|██████████| 288/288 [00:28<00:00, 10.16it/s]\n"
     ]
    },
    {
     "name": "stdout",
     "output_type": "stream",
     "text": [
      "Loss1: 0.7281, Loss2: 0.3210, Loss3: 1.2307\n"
     ]
    },
    {
     "name": "stderr",
     "output_type": "stream",
     "text": [
      "Test_Loader: 100%|██████████| 288/288 [00:28<00:00, 10.19it/s]\n"
     ]
    },
    {
     "name": "stdout",
     "output_type": "stream",
     "text": [
      "Loss1: 0.7001, Loss2: 0.3126, Loss3: 1.1785\n"
     ]
    },
    {
     "name": "stderr",
     "output_type": "stream",
     "text": [
      "Test_Loader: 100%|██████████| 288/288 [00:28<00:00, 10.12it/s]\n"
     ]
    },
    {
     "name": "stdout",
     "output_type": "stream",
     "text": [
      "Loss1: 0.7068, Loss2: 0.3090, Loss3: 1.1879\n"
     ]
    },
    {
     "name": "stderr",
     "output_type": "stream",
     "text": [
      "Test_Loader: 100%|██████████| 288/288 [00:28<00:00, 10.04it/s]\n"
     ]
    },
    {
     "name": "stdout",
     "output_type": "stream",
     "text": [
      "Loss1: 0.7227, Loss2: 0.3181, Loss3: 1.2218\n"
     ]
    },
    {
     "name": "stderr",
     "output_type": "stream",
     "text": [
      "Test_Loader: 100%|██████████| 288/288 [00:28<00:00,  9.95it/s]\n"
     ]
    },
    {
     "name": "stdout",
     "output_type": "stream",
     "text": [
      "Loss1: 0.7182, Loss2: 0.3181, Loss3: 1.2188\n"
     ]
    },
    {
     "name": "stderr",
     "output_type": "stream",
     "text": [
      "Test_Loader: 100%|██████████| 288/288 [00:27<00:00, 10.48it/s]\n"
     ]
    },
    {
     "name": "stdout",
     "output_type": "stream",
     "text": [
      "Loss1: 0.7078, Loss2: 0.3133, Loss3: 1.2101\n"
     ]
    },
    {
     "name": "stderr",
     "output_type": "stream",
     "text": [
      "Test_Loader: 100%|██████████| 288/288 [00:27<00:00, 10.43it/s]\n"
     ]
    },
    {
     "name": "stdout",
     "output_type": "stream",
     "text": [
      "Loss1: 0.7136, Loss2: 0.3061, Loss3: 1.2176\n"
     ]
    },
    {
     "name": "stderr",
     "output_type": "stream",
     "text": [
      "Test_Loader: 100%|██████████| 288/288 [00:30<00:00,  9.59it/s]\n"
     ]
    },
    {
     "name": "stdout",
     "output_type": "stream",
     "text": [
      "Loss1: 0.6953, Loss2: 0.3089, Loss3: 1.1681\n"
     ]
    },
    {
     "name": "stderr",
     "output_type": "stream",
     "text": [
      "Test_Loader: 100%|██████████| 288/288 [00:26<00:00, 10.85it/s]\n"
     ]
    },
    {
     "name": "stdout",
     "output_type": "stream",
     "text": [
      "Loss1: 0.7323, Loss2: 0.3174, Loss3: 1.2147\n"
     ]
    },
    {
     "name": "stderr",
     "output_type": "stream",
     "text": [
      "Test_Loader: 100%|██████████| 288/288 [00:26<00:00, 10.70it/s]\n"
     ]
    },
    {
     "name": "stdout",
     "output_type": "stream",
     "text": [
      "Loss1: 0.7238, Loss2: 0.3176, Loss3: 1.1624\n"
     ]
    },
    {
     "name": "stderr",
     "output_type": "stream",
     "text": [
      "Test_Loader: 100%|██████████| 288/288 [00:27<00:00, 10.53it/s]\n"
     ]
    },
    {
     "name": "stdout",
     "output_type": "stream",
     "text": [
      "Loss1: 0.7302, Loss2: 0.3106, Loss3: 1.1965\n"
     ]
    },
    {
     "name": "stderr",
     "output_type": "stream",
     "text": [
      "Test_Loader: 100%|██████████| 288/288 [00:27<00:00, 10.43it/s]\n"
     ]
    },
    {
     "name": "stdout",
     "output_type": "stream",
     "text": [
      "Loss1: 0.7313, Loss2: 0.3092, Loss3: 1.1594\n"
     ]
    },
    {
     "name": "stderr",
     "output_type": "stream",
     "text": [
      "Test_Loader: 100%|██████████| 288/288 [00:27<00:00, 10.33it/s]\n"
     ]
    },
    {
     "name": "stdout",
     "output_type": "stream",
     "text": [
      "Loss1: 0.7298, Loss2: 0.3067, Loss3: 1.1566\n"
     ]
    },
    {
     "name": "stderr",
     "output_type": "stream",
     "text": [
      "Test_Loader: 100%|██████████| 288/288 [00:28<00:00, 10.05it/s]\n"
     ]
    },
    {
     "name": "stdout",
     "output_type": "stream",
     "text": [
      "Loss1: 0.7258, Loss2: 0.3115, Loss3: 1.1419\n"
     ]
    },
    {
     "name": "stderr",
     "output_type": "stream",
     "text": [
      "Test_Loader: 100%|██████████| 288/288 [00:28<00:00,  9.98it/s]\n"
     ]
    },
    {
     "name": "stdout",
     "output_type": "stream",
     "text": [
      "Loss1: 0.7212, Loss2: 0.3074, Loss3: 1.1422\n"
     ]
    },
    {
     "name": "stderr",
     "output_type": "stream",
     "text": [
      "Test_Loader: 100%|██████████| 288/288 [00:28<00:00, 10.13it/s]\n"
     ]
    },
    {
     "name": "stdout",
     "output_type": "stream",
     "text": [
      "Loss1: 0.7849, Loss2: 0.3263, Loss3: 1.1358\n"
     ]
    },
    {
     "name": "stderr",
     "output_type": "stream",
     "text": [
      "Test_Loader: 100%|██████████| 288/288 [00:28<00:00, 10.11it/s]\n"
     ]
    },
    {
     "name": "stdout",
     "output_type": "stream",
     "text": [
      "Loss1: 0.7660, Loss2: 0.3234, Loss3: 1.1231\n"
     ]
    },
    {
     "name": "stderr",
     "output_type": "stream",
     "text": [
      "Test_Loader: 100%|██████████| 288/288 [00:28<00:00, 10.19it/s]\n"
     ]
    },
    {
     "name": "stdout",
     "output_type": "stream",
     "text": [
      "Loss1: 0.7623, Loss2: 0.3211, Loss3: 1.1109\n"
     ]
    },
    {
     "name": "stderr",
     "output_type": "stream",
     "text": [
      "Test_Loader: 100%|██████████| 288/288 [00:28<00:00, 10.21it/s]\n"
     ]
    },
    {
     "name": "stdout",
     "output_type": "stream",
     "text": [
      "Loss1: 0.7621, Loss2: 0.3187, Loss3: 1.1276\n"
     ]
    },
    {
     "name": "stderr",
     "output_type": "stream",
     "text": [
      "Test_Loader: 100%|██████████| 288/288 [00:30<00:00,  9.32it/s]\n"
     ]
    },
    {
     "name": "stdout",
     "output_type": "stream",
     "text": [
      "Loss1: 0.7425, Loss2: 0.3177, Loss3: 1.0937\n"
     ]
    },
    {
     "name": "stderr",
     "output_type": "stream",
     "text": [
      "Test_Loader: 100%|██████████| 288/288 [00:29<00:00,  9.65it/s]\n"
     ]
    },
    {
     "name": "stdout",
     "output_type": "stream",
     "text": [
      "Loss1: 0.8468, Loss2: 0.3457, Loss3: 1.1225\n"
     ]
    },
    {
     "name": "stderr",
     "output_type": "stream",
     "text": [
      "Test_Loader: 100%|██████████| 288/288 [00:26<00:00, 10.94it/s]\n"
     ]
    },
    {
     "name": "stdout",
     "output_type": "stream",
     "text": [
      "Loss1: 0.8312, Loss2: 0.3393, Loss3: 1.1212\n"
     ]
    },
    {
     "name": "stderr",
     "output_type": "stream",
     "text": [
      "Test_Loader: 100%|██████████| 288/288 [00:26<00:00, 10.67it/s]\n"
     ]
    },
    {
     "name": "stdout",
     "output_type": "stream",
     "text": [
      "Loss1: 0.8309, Loss2: 0.3371, Loss3: 1.0935\n"
     ]
    },
    {
     "name": "stderr",
     "output_type": "stream",
     "text": [
      "Test_Loader: 100%|██████████| 288/288 [00:27<00:00, 10.52it/s]\n"
     ]
    },
    {
     "name": "stdout",
     "output_type": "stream",
     "text": [
      "Loss1: 0.8259, Loss2: 0.3358, Loss3: 1.1035\n"
     ]
    },
    {
     "name": "stderr",
     "output_type": "stream",
     "text": [
      "Test_Loader: 100%|██████████| 288/288 [00:27<00:00, 10.39it/s]\n"
     ]
    },
    {
     "name": "stdout",
     "output_type": "stream",
     "text": [
      "Loss1: 0.8269, Loss2: 0.3374, Loss3: 1.0696\n"
     ]
    },
    {
     "name": "stderr",
     "output_type": "stream",
     "text": [
      "Test_Loader: 100%|██████████| 288/288 [00:26<00:00, 10.79it/s]\n"
     ]
    },
    {
     "name": "stdout",
     "output_type": "stream",
     "text": [
      "Loss1: 0.7991, Loss2: 0.3325, Loss3: 1.0728\n"
     ]
    },
    {
     "name": "stderr",
     "output_type": "stream",
     "text": [
      "Test_Loader: 100%|██████████| 288/288 [00:28<00:00,  9.95it/s]\n"
     ]
    },
    {
     "name": "stdout",
     "output_type": "stream",
     "text": [
      "Loss1: 0.7914, Loss2: 0.3273, Loss3: 1.0726\n"
     ]
    },
    {
     "name": "stderr",
     "output_type": "stream",
     "text": [
      "Test_Loader: 100%|██████████| 288/288 [00:27<00:00, 10.29it/s]\n"
     ]
    },
    {
     "name": "stdout",
     "output_type": "stream",
     "text": [
      "Loss1: 0.7814, Loss2: 0.3238, Loss3: 1.0687\n"
     ]
    },
    {
     "name": "stderr",
     "output_type": "stream",
     "text": [
      "Test_Loader: 100%|██████████| 288/288 [00:28<00:00, 10.20it/s]\n"
     ]
    },
    {
     "name": "stdout",
     "output_type": "stream",
     "text": [
      "Loss1: 0.7879, Loss2: 0.3238, Loss3: 1.0716\n"
     ]
    },
    {
     "name": "stderr",
     "output_type": "stream",
     "text": [
      "Test_Loader: 100%|██████████| 288/288 [00:28<00:00, 10.25it/s]\n"
     ]
    },
    {
     "name": "stdout",
     "output_type": "stream",
     "text": [
      "Loss1: 0.7733, Loss2: 0.3219, Loss3: 1.0395\n"
     ]
    },
    {
     "name": "stderr",
     "output_type": "stream",
     "text": [
      "Test_Loader: 100%|██████████| 288/288 [00:27<00:00, 10.43it/s]\n"
     ]
    },
    {
     "name": "stdout",
     "output_type": "stream",
     "text": [
      "Loss1: 0.7588, Loss2: 0.3188, Loss3: 1.0438\n"
     ]
    },
    {
     "name": "stderr",
     "output_type": "stream",
     "text": [
      "Test_Loader: 100%|██████████| 288/288 [00:27<00:00, 10.42it/s]\n"
     ]
    },
    {
     "name": "stdout",
     "output_type": "stream",
     "text": [
      "Loss1: 0.7569, Loss2: 0.3155, Loss3: 1.0517\n"
     ]
    },
    {
     "name": "stderr",
     "output_type": "stream",
     "text": [
      "Test_Loader: 100%|██████████| 288/288 [00:28<00:00, 10.21it/s]\n"
     ]
    },
    {
     "name": "stdout",
     "output_type": "stream",
     "text": [
      "Loss1: 0.7515, Loss2: 0.3155, Loss3: 1.0241\n"
     ]
    },
    {
     "name": "stderr",
     "output_type": "stream",
     "text": [
      "Test_Loader: 100%|██████████| 288/288 [00:28<00:00, 10.18it/s]\n"
     ]
    },
    {
     "name": "stdout",
     "output_type": "stream",
     "text": [
      "Loss1: 0.7336, Loss2: 0.3146, Loss3: 1.0310\n"
     ]
    },
    {
     "name": "stderr",
     "output_type": "stream",
     "text": [
      "Test_Loader: 100%|██████████| 288/288 [00:27<00:00, 10.42it/s]\n"
     ]
    },
    {
     "name": "stdout",
     "output_type": "stream",
     "text": [
      "Loss1: 0.7392, Loss2: 0.3134, Loss3: 1.0214\n"
     ]
    },
    {
     "name": "stderr",
     "output_type": "stream",
     "text": [
      "Test_Loader: 100%|██████████| 288/288 [00:27<00:00, 10.61it/s]\n"
     ]
    },
    {
     "name": "stdout",
     "output_type": "stream",
     "text": [
      "Loss1: 0.7474, Loss2: 0.3421, Loss3: 1.0542\n"
     ]
    },
    {
     "name": "stderr",
     "output_type": "stream",
     "text": [
      "Test_Loader: 100%|██████████| 288/288 [00:28<00:00, 10.22it/s]\n"
     ]
    },
    {
     "name": "stdout",
     "output_type": "stream",
     "text": [
      "Loss1: 0.7550, Loss2: 0.3414, Loss3: 1.0537\n"
     ]
    },
    {
     "name": "stderr",
     "output_type": "stream",
     "text": [
      "Test_Loader: 100%|██████████| 288/288 [00:27<00:00, 10.43it/s]\n"
     ]
    },
    {
     "name": "stdout",
     "output_type": "stream",
     "text": [
      "Loss1: 0.7508, Loss2: 0.3321, Loss3: 1.0648\n"
     ]
    },
    {
     "name": "stderr",
     "output_type": "stream",
     "text": [
      "Test_Loader: 100%|██████████| 288/288 [00:27<00:00, 10.52it/s]\n"
     ]
    },
    {
     "name": "stdout",
     "output_type": "stream",
     "text": [
      "Loss1: 0.7288, Loss2: 0.3164, Loss3: 1.0225\n"
     ]
    },
    {
     "name": "stderr",
     "output_type": "stream",
     "text": [
      "Test_Loader: 100%|██████████| 288/288 [00:27<00:00, 10.42it/s]\n"
     ]
    },
    {
     "name": "stdout",
     "output_type": "stream",
     "text": [
      "Loss1: 0.7000, Loss2: 0.3106, Loss3: 1.0021\n"
     ]
    },
    {
     "name": "stderr",
     "output_type": "stream",
     "text": [
      "Test_Loader: 100%|██████████| 288/288 [00:28<00:00, 10.26it/s]\n"
     ]
    },
    {
     "name": "stdout",
     "output_type": "stream",
     "text": [
      "Loss1: 0.7047, Loss2: 0.3094, Loss3: 0.9883\n"
     ]
    },
    {
     "name": "stderr",
     "output_type": "stream",
     "text": [
      "Test_Loader: 100%|██████████| 288/288 [00:28<00:00, 10.10it/s]\n"
     ]
    },
    {
     "name": "stdout",
     "output_type": "stream",
     "text": [
      "Loss1: 0.6974, Loss2: 0.3135, Loss3: 1.0186\n"
     ]
    },
    {
     "name": "stderr",
     "output_type": "stream",
     "text": [
      "Test_Loader: 100%|██████████| 288/288 [00:27<00:00, 10.39it/s]\n"
     ]
    },
    {
     "name": "stdout",
     "output_type": "stream",
     "text": [
      "Loss1: 0.6911, Loss2: 0.3133, Loss3: 1.0095\n"
     ]
    },
    {
     "name": "stderr",
     "output_type": "stream",
     "text": [
      "Test_Loader: 100%|██████████| 288/288 [00:27<00:00, 10.48it/s]\n"
     ]
    },
    {
     "name": "stdout",
     "output_type": "stream",
     "text": [
      "Loss1: 0.6834, Loss2: 0.3112, Loss3: 1.0009\n"
     ]
    },
    {
     "name": "stderr",
     "output_type": "stream",
     "text": [
      "Test_Loader: 100%|██████████| 288/288 [00:27<00:00, 10.35it/s]\n"
     ]
    },
    {
     "name": "stdout",
     "output_type": "stream",
     "text": [
      "Loss1: 0.6885, Loss2: 0.3071, Loss3: 0.9890\n"
     ]
    },
    {
     "name": "stderr",
     "output_type": "stream",
     "text": [
      "Test_Loader: 100%|██████████| 288/288 [00:31<00:00,  9.04it/s]\n"
     ]
    },
    {
     "name": "stdout",
     "output_type": "stream",
     "text": [
      "Loss1: 0.6730, Loss2: 0.3030, Loss3: 0.9412\n"
     ]
    },
    {
     "name": "stderr",
     "output_type": "stream",
     "text": [
      "Test_Loader: 100%|██████████| 288/288 [00:28<00:00, 10.17it/s]\n"
     ]
    },
    {
     "name": "stdout",
     "output_type": "stream",
     "text": [
      "Loss1: 0.6532, Loss2: 0.2989, Loss3: 0.9511\n"
     ]
    },
    {
     "name": "stderr",
     "output_type": "stream",
     "text": [
      "Test_Loader: 100%|██████████| 288/288 [00:26<00:00, 10.75it/s]\n"
     ]
    },
    {
     "name": "stdout",
     "output_type": "stream",
     "text": [
      "Loss1: 0.6792, Loss2: 0.3116, Loss3: 0.9546\n"
     ]
    },
    {
     "name": "stderr",
     "output_type": "stream",
     "text": [
      "Test_Loader: 100%|██████████| 288/288 [00:28<00:00, 10.17it/s]\n"
     ]
    },
    {
     "name": "stdout",
     "output_type": "stream",
     "text": [
      "Loss1: 0.6726, Loss2: 0.3058, Loss3: 0.9438\n"
     ]
    },
    {
     "name": "stderr",
     "output_type": "stream",
     "text": [
      "Test_Loader: 100%|██████████| 288/288 [00:27<00:00, 10.56it/s]\n"
     ]
    },
    {
     "name": "stdout",
     "output_type": "stream",
     "text": [
      "Loss1: 0.6737, Loss2: 0.3066, Loss3: 0.9635\n"
     ]
    },
    {
     "name": "stderr",
     "output_type": "stream",
     "text": [
      "Test_Loader: 100%|██████████| 288/288 [00:26<00:00, 10.71it/s]\n"
     ]
    },
    {
     "name": "stdout",
     "output_type": "stream",
     "text": [
      "Loss1: 0.6580, Loss2: 0.3070, Loss3: 0.9615\n"
     ]
    },
    {
     "name": "stderr",
     "output_type": "stream",
     "text": [
      "Test_Loader: 100%|██████████| 288/288 [00:27<00:00, 10.43it/s]\n"
     ]
    },
    {
     "name": "stdout",
     "output_type": "stream",
     "text": [
      "Loss1: 0.6854, Loss2: 0.3086, Loss3: 1.0259\n"
     ]
    },
    {
     "name": "stderr",
     "output_type": "stream",
     "text": [
      "Test_Loader: 100%|██████████| 288/288 [00:28<00:00,  9.97it/s]\n"
     ]
    },
    {
     "name": "stdout",
     "output_type": "stream",
     "text": [
      "Loss1: 0.6850, Loss2: 0.3089, Loss3: 1.0551\n"
     ]
    },
    {
     "name": "stderr",
     "output_type": "stream",
     "text": [
      "Test_Loader: 100%|██████████| 288/288 [00:28<00:00, 10.05it/s]\n"
     ]
    },
    {
     "name": "stdout",
     "output_type": "stream",
     "text": [
      "Loss1: 0.6918, Loss2: 0.3082, Loss3: 1.0434\n"
     ]
    },
    {
     "name": "stderr",
     "output_type": "stream",
     "text": [
      "Test_Loader: 100%|██████████| 288/288 [00:28<00:00, 10.22it/s]\n"
     ]
    },
    {
     "name": "stdout",
     "output_type": "stream",
     "text": [
      "Loss1: 0.6908, Loss2: 0.3029, Loss3: 1.0516\n"
     ]
    },
    {
     "name": "stderr",
     "output_type": "stream",
     "text": [
      "Test_Loader: 100%|██████████| 288/288 [00:28<00:00, 10.11it/s]\n"
     ]
    },
    {
     "name": "stdout",
     "output_type": "stream",
     "text": [
      "Loss1: 0.7103, Loss2: 0.3021, Loss3: 1.0813\n"
     ]
    },
    {
     "name": "stderr",
     "output_type": "stream",
     "text": [
      "Test_Loader: 100%|██████████| 288/288 [00:28<00:00, 10.17it/s]\n"
     ]
    },
    {
     "name": "stdout",
     "output_type": "stream",
     "text": [
      "Loss1: 0.6985, Loss2: 0.2993, Loss3: 1.0755\n"
     ]
    },
    {
     "name": "stderr",
     "output_type": "stream",
     "text": [
      "Test_Loader: 100%|██████████| 288/288 [00:29<00:00,  9.82it/s]\n"
     ]
    },
    {
     "name": "stdout",
     "output_type": "stream",
     "text": [
      "Loss1: 0.8900, Loss2: 0.3182, Loss3: 1.2610\n"
     ]
    },
    {
     "name": "stderr",
     "output_type": "stream",
     "text": [
      "Test_Loader: 100%|██████████| 288/288 [00:28<00:00, 10.09it/s]\n"
     ]
    },
    {
     "name": "stdout",
     "output_type": "stream",
     "text": [
      "Loss1: 0.8444, Loss2: 0.3173, Loss3: 1.2471\n"
     ]
    },
    {
     "name": "stderr",
     "output_type": "stream",
     "text": [
      "Test_Loader: 100%|██████████| 288/288 [00:27<00:00, 10.31it/s]\n"
     ]
    },
    {
     "name": "stdout",
     "output_type": "stream",
     "text": [
      "Loss1: 0.8579, Loss2: 0.3223, Loss3: 1.2543\n"
     ]
    },
    {
     "name": "stderr",
     "output_type": "stream",
     "text": [
      "Test_Loader: 100%|██████████| 288/288 [00:27<00:00, 10.39it/s]\n"
     ]
    },
    {
     "name": "stdout",
     "output_type": "stream",
     "text": [
      "Loss1: 0.9881, Loss2: 0.4192, Loss3: 1.6484\n"
     ]
    },
    {
     "name": "stderr",
     "output_type": "stream",
     "text": [
      "Test_Loader: 100%|██████████| 288/288 [00:28<00:00, 10.23it/s]\n"
     ]
    },
    {
     "name": "stdout",
     "output_type": "stream",
     "text": [
      "Loss1: 1.0907, Loss2: 0.4786, Loss3: 1.6780\n"
     ]
    },
    {
     "name": "stderr",
     "output_type": "stream",
     "text": [
      "Test_Loader: 100%|██████████| 288/288 [00:29<00:00,  9.84it/s]\n"
     ]
    },
    {
     "name": "stdout",
     "output_type": "stream",
     "text": [
      "Loss1: 1.0599, Loss2: 0.4482, Loss3: 1.5839\n"
     ]
    },
    {
     "name": "stderr",
     "output_type": "stream",
     "text": [
      "Test_Loader: 100%|██████████| 288/288 [00:29<00:00,  9.86it/s]\n"
     ]
    },
    {
     "name": "stdout",
     "output_type": "stream",
     "text": [
      "Loss1: 1.0744, Loss2: 0.4526, Loss3: 1.5835\n"
     ]
    },
    {
     "name": "stderr",
     "output_type": "stream",
     "text": [
      "Test_Loader: 100%|██████████| 288/288 [00:28<00:00, 10.10it/s]\n"
     ]
    },
    {
     "name": "stdout",
     "output_type": "stream",
     "text": [
      "Loss1: 1.0716, Loss2: 0.4644, Loss3: 1.5881\n"
     ]
    },
    {
     "name": "stderr",
     "output_type": "stream",
     "text": [
      "Test_Loader: 100%|██████████| 288/288 [00:28<00:00,  9.96it/s]\n"
     ]
    },
    {
     "name": "stdout",
     "output_type": "stream",
     "text": [
      "Loss1: 1.1043, Loss2: 0.4711, Loss3: 1.6001\n"
     ]
    },
    {
     "name": "stderr",
     "output_type": "stream",
     "text": [
      "Test_Loader: 100%|██████████| 288/288 [00:28<00:00, 10.13it/s]\n"
     ]
    },
    {
     "name": "stdout",
     "output_type": "stream",
     "text": [
      "Loss1: 1.1136, Loss2: 0.4697, Loss3: 1.5606\n"
     ]
    },
    {
     "name": "stderr",
     "output_type": "stream",
     "text": [
      "Test_Loader: 100%|██████████| 288/288 [00:28<00:00, 10.25it/s]\n"
     ]
    },
    {
     "name": "stdout",
     "output_type": "stream",
     "text": [
      "Loss1: 1.0709, Loss2: 0.4583, Loss3: 1.5363\n"
     ]
    },
    {
     "name": "stderr",
     "output_type": "stream",
     "text": [
      "Test_Loader: 100%|██████████| 288/288 [00:28<00:00, 10.19it/s]\n"
     ]
    },
    {
     "name": "stdout",
     "output_type": "stream",
     "text": [
      "Loss1: 1.0776, Loss2: 0.4606, Loss3: 1.5290\n"
     ]
    },
    {
     "name": "stderr",
     "output_type": "stream",
     "text": [
      "Test_Loader: 100%|██████████| 288/288 [00:27<00:00, 10.39it/s]\n"
     ]
    },
    {
     "name": "stdout",
     "output_type": "stream",
     "text": [
      "Loss1: 1.0789, Loss2: 0.4467, Loss3: 1.5161\n"
     ]
    },
    {
     "name": "stderr",
     "output_type": "stream",
     "text": [
      "Test_Loader: 100%|██████████| 288/288 [00:27<00:00, 10.31it/s]\n"
     ]
    },
    {
     "name": "stdout",
     "output_type": "stream",
     "text": [
      "Loss1: 1.0906, Loss2: 0.4505, Loss3: 1.5449\n"
     ]
    },
    {
     "name": "stderr",
     "output_type": "stream",
     "text": [
      "Test_Loader: 100%|██████████| 288/288 [00:29<00:00,  9.83it/s]\n"
     ]
    },
    {
     "name": "stdout",
     "output_type": "stream",
     "text": [
      "Loss1: 1.0839, Loss2: 0.4513, Loss3: 1.5091\n"
     ]
    },
    {
     "name": "stderr",
     "output_type": "stream",
     "text": [
      "Test_Loader: 100%|██████████| 288/288 [00:26<00:00, 10.68it/s]\n"
     ]
    },
    {
     "name": "stdout",
     "output_type": "stream",
     "text": [
      "Loss1: 1.0701, Loss2: 0.4472, Loss3: 1.5333\n"
     ]
    },
    {
     "name": "stderr",
     "output_type": "stream",
     "text": [
      "Test_Loader: 100%|██████████| 288/288 [00:28<00:00, 10.26it/s]\n"
     ]
    },
    {
     "name": "stdout",
     "output_type": "stream",
     "text": [
      "Loss1: 1.0616, Loss2: 0.4383, Loss3: 1.4693\n"
     ]
    },
    {
     "name": "stderr",
     "output_type": "stream",
     "text": [
      "Test_Loader: 100%|██████████| 288/288 [00:28<00:00, 10.10it/s]\n"
     ]
    },
    {
     "name": "stdout",
     "output_type": "stream",
     "text": [
      "Loss1: 1.0623, Loss2: 0.4394, Loss3: 1.4798\n"
     ]
    },
    {
     "name": "stderr",
     "output_type": "stream",
     "text": [
      "Test_Loader: 100%|██████████| 288/288 [00:28<00:00, 10.01it/s]\n"
     ]
    },
    {
     "name": "stdout",
     "output_type": "stream",
     "text": [
      "Loss1: 1.0685, Loss2: 0.4566, Loss3: 1.5112\n"
     ]
    },
    {
     "name": "stderr",
     "output_type": "stream",
     "text": [
      "Test_Loader: 100%|██████████| 288/288 [00:28<00:00, 10.27it/s]\n"
     ]
    },
    {
     "name": "stdout",
     "output_type": "stream",
     "text": [
      "Loss1: 1.0678, Loss2: 0.4488, Loss3: 1.5066\n"
     ]
    },
    {
     "name": "stderr",
     "output_type": "stream",
     "text": [
      "Test_Loader: 100%|██████████| 288/288 [00:29<00:00,  9.90it/s]\n"
     ]
    },
    {
     "name": "stdout",
     "output_type": "stream",
     "text": [
      "Loss1: 1.0483, Loss2: 0.4507, Loss3: 1.5191\n"
     ]
    },
    {
     "name": "stderr",
     "output_type": "stream",
     "text": [
      "Test_Loader: 100%|██████████| 288/288 [00:28<00:00, 10.00it/s]\n"
     ]
    },
    {
     "name": "stdout",
     "output_type": "stream",
     "text": [
      "Loss1: 1.0358, Loss2: 0.4424, Loss3: 1.4934\n"
     ]
    },
    {
     "name": "stderr",
     "output_type": "stream",
     "text": [
      "Test_Loader: 100%|██████████| 288/288 [00:28<00:00, 10.00it/s]\n"
     ]
    },
    {
     "name": "stdout",
     "output_type": "stream",
     "text": [
      "Loss1: 1.0758, Loss2: 0.4499, Loss3: 1.5145\n"
     ]
    },
    {
     "name": "stderr",
     "output_type": "stream",
     "text": [
      "Test_Loader: 100%|██████████| 288/288 [00:28<00:00, 10.09it/s]\n"
     ]
    },
    {
     "name": "stdout",
     "output_type": "stream",
     "text": [
      "Loss1: 1.0734, Loss2: 0.4499, Loss3: 1.4923\n"
     ]
    },
    {
     "name": "stderr",
     "output_type": "stream",
     "text": [
      "Test_Loader: 100%|██████████| 288/288 [00:28<00:00, 10.16it/s]\n"
     ]
    },
    {
     "name": "stdout",
     "output_type": "stream",
     "text": [
      "Loss1: 1.0644, Loss2: 0.4468, Loss3: 1.5119\n"
     ]
    },
    {
     "name": "stderr",
     "output_type": "stream",
     "text": [
      "Test_Loader: 100%|██████████| 288/288 [00:28<00:00,  9.97it/s]\n"
     ]
    },
    {
     "name": "stdout",
     "output_type": "stream",
     "text": [
      "Loss1: 1.0655, Loss2: 0.4493, Loss3: 1.5199\n"
     ]
    },
    {
     "name": "stderr",
     "output_type": "stream",
     "text": [
      "Test_Loader: 100%|██████████| 288/288 [00:27<00:00, 10.34it/s]\n"
     ]
    },
    {
     "name": "stdout",
     "output_type": "stream",
     "text": [
      "Loss1: 1.0587, Loss2: 0.4347, Loss3: 1.4998\n"
     ]
    },
    {
     "name": "stderr",
     "output_type": "stream",
     "text": [
      "Test_Loader: 100%|██████████| 288/288 [00:27<00:00, 10.50it/s]\n"
     ]
    },
    {
     "name": "stdout",
     "output_type": "stream",
     "text": [
      "Loss1: 1.0482, Loss2: 0.4313, Loss3: 1.4769\n"
     ]
    },
    {
     "name": "stderr",
     "output_type": "stream",
     "text": [
      "Test_Loader: 100%|██████████| 288/288 [00:27<00:00, 10.56it/s]\n"
     ]
    },
    {
     "name": "stdout",
     "output_type": "stream",
     "text": [
      "Loss1: 1.0987, Loss2: 0.4462, Loss3: 1.5129\n"
     ]
    },
    {
     "name": "stderr",
     "output_type": "stream",
     "text": [
      "Test_Loader: 100%|██████████| 288/288 [00:27<00:00, 10.63it/s]\n"
     ]
    },
    {
     "name": "stdout",
     "output_type": "stream",
     "text": [
      "Loss1: 1.1095, Loss2: 0.4513, Loss3: 1.5372\n"
     ]
    },
    {
     "name": "stderr",
     "output_type": "stream",
     "text": [
      "Test_Loader: 100%|██████████| 288/288 [00:27<00:00, 10.37it/s]\n"
     ]
    },
    {
     "name": "stdout",
     "output_type": "stream",
     "text": [
      "Loss1: 1.1121, Loss2: 0.4410, Loss3: 1.5274\n"
     ]
    },
    {
     "name": "stderr",
     "output_type": "stream",
     "text": [
      "Test_Loader: 100%|██████████| 288/288 [00:28<00:00, 10.02it/s]\n"
     ]
    },
    {
     "name": "stdout",
     "output_type": "stream",
     "text": [
      "Loss1: 1.1186, Loss2: 0.4481, Loss3: 1.5449\n"
     ]
    },
    {
     "name": "stderr",
     "output_type": "stream",
     "text": [
      "Test_Loader: 100%|██████████| 288/288 [00:27<00:00, 10.36it/s]\n"
     ]
    },
    {
     "name": "stdout",
     "output_type": "stream",
     "text": [
      "Loss1: 1.0902, Loss2: 0.4450, Loss3: 1.5251\n"
     ]
    },
    {
     "name": "stderr",
     "output_type": "stream",
     "text": [
      "Test_Loader: 100%|██████████| 288/288 [00:28<00:00,  9.93it/s]\n"
     ]
    },
    {
     "name": "stdout",
     "output_type": "stream",
     "text": [
      "Loss1: 1.0947, Loss2: 0.4406, Loss3: 1.5076\n"
     ]
    },
    {
     "name": "stderr",
     "output_type": "stream",
     "text": [
      "Test_Loader: 100%|██████████| 288/288 [00:28<00:00, 10.26it/s]\n"
     ]
    },
    {
     "name": "stdout",
     "output_type": "stream",
     "text": [
      "Loss1: 1.0833, Loss2: 0.4277, Loss3: 1.5027\n"
     ]
    },
    {
     "name": "stderr",
     "output_type": "stream",
     "text": [
      "Test_Loader: 100%|██████████| 288/288 [00:27<00:00, 10.40it/s]\n"
     ]
    },
    {
     "name": "stdout",
     "output_type": "stream",
     "text": [
      "Loss1: 1.0744, Loss2: 0.4319, Loss3: 1.4828\n"
     ]
    },
    {
     "name": "stderr",
     "output_type": "stream",
     "text": [
      "Test_Loader: 100%|██████████| 288/288 [00:27<00:00, 10.37it/s]\n"
     ]
    },
    {
     "name": "stdout",
     "output_type": "stream",
     "text": [
      "Loss1: 1.0705, Loss2: 0.4259, Loss3: 1.4572\n"
     ]
    },
    {
     "name": "stderr",
     "output_type": "stream",
     "text": [
      "Test_Loader: 100%|██████████| 288/288 [00:27<00:00, 10.36it/s]\n"
     ]
    },
    {
     "name": "stdout",
     "output_type": "stream",
     "text": [
      "Loss1: 1.0701, Loss2: 0.4266, Loss3: 1.4300\n"
     ]
    },
    {
     "name": "stderr",
     "output_type": "stream",
     "text": [
      "Test_Loader: 100%|██████████| 288/288 [00:27<00:00, 10.50it/s]\n"
     ]
    },
    {
     "name": "stdout",
     "output_type": "stream",
     "text": [
      "Loss1: 1.0596, Loss2: 0.4242, Loss3: 1.4559\n"
     ]
    },
    {
     "name": "stderr",
     "output_type": "stream",
     "text": [
      "Test_Loader: 100%|██████████| 288/288 [00:28<00:00, 10.13it/s]\n"
     ]
    },
    {
     "name": "stdout",
     "output_type": "stream",
     "text": [
      "Loss1: 1.0639, Loss2: 0.4235, Loss3: 1.4694\n"
     ]
    },
    {
     "name": "stderr",
     "output_type": "stream",
     "text": [
      "Test_Loader: 100%|██████████| 288/288 [00:29<00:00,  9.81it/s]\n"
     ]
    },
    {
     "name": "stdout",
     "output_type": "stream",
     "text": [
      "Loss1: 1.0672, Loss2: 0.4212, Loss3: 1.4483\n"
     ]
    },
    {
     "name": "stderr",
     "output_type": "stream",
     "text": [
      "Test_Loader: 100%|██████████| 288/288 [00:27<00:00, 10.57it/s]\n"
     ]
    },
    {
     "name": "stdout",
     "output_type": "stream",
     "text": [
      "Loss1: 1.0734, Loss2: 0.4173, Loss3: 1.4471\n"
     ]
    },
    {
     "name": "stderr",
     "output_type": "stream",
     "text": [
      "Test_Loader: 100%|██████████| 288/288 [00:27<00:00, 10.58it/s]\n"
     ]
    },
    {
     "name": "stdout",
     "output_type": "stream",
     "text": [
      "Loss1: 1.0515, Loss2: 0.4168, Loss3: 1.4302\n"
     ]
    },
    {
     "name": "stderr",
     "output_type": "stream",
     "text": [
      "Test_Loader: 100%|██████████| 288/288 [00:30<00:00,  9.40it/s]\n"
     ]
    },
    {
     "name": "stdout",
     "output_type": "stream",
     "text": [
      "Loss1: 1.0576, Loss2: 0.4190, Loss3: 1.4328\n"
     ]
    },
    {
     "name": "stderr",
     "output_type": "stream",
     "text": [
      "Test_Loader: 100%|██████████| 288/288 [00:27<00:00, 10.41it/s]\n"
     ]
    },
    {
     "name": "stdout",
     "output_type": "stream",
     "text": [
      "Loss1: 1.0611, Loss2: 0.4136, Loss3: 1.4235\n"
     ]
    },
    {
     "name": "stderr",
     "output_type": "stream",
     "text": [
      "Test_Loader: 100%|██████████| 288/288 [00:27<00:00, 10.50it/s]\n"
     ]
    },
    {
     "name": "stdout",
     "output_type": "stream",
     "text": [
      "Loss1: 1.0499, Loss2: 0.4131, Loss3: 1.4170\n"
     ]
    },
    {
     "name": "stderr",
     "output_type": "stream",
     "text": [
      "Test_Loader: 100%|██████████| 288/288 [00:27<00:00, 10.32it/s]\n"
     ]
    },
    {
     "name": "stdout",
     "output_type": "stream",
     "text": [
      "Loss1: 1.0406, Loss2: 0.4112, Loss3: 1.4158\n"
     ]
    },
    {
     "name": "stderr",
     "output_type": "stream",
     "text": [
      "Test_Loader: 100%|██████████| 288/288 [00:27<00:00, 10.44it/s]\n"
     ]
    },
    {
     "name": "stdout",
     "output_type": "stream",
     "text": [
      "Loss1: 1.0434, Loss2: 0.4010, Loss3: 1.3863\n"
     ]
    },
    {
     "name": "stderr",
     "output_type": "stream",
     "text": [
      "Test_Loader: 100%|██████████| 288/288 [00:28<00:00, 10.25it/s]\n"
     ]
    },
    {
     "name": "stdout",
     "output_type": "stream",
     "text": [
      "Loss1: 1.0521, Loss2: 0.4078, Loss3: 1.3924\n"
     ]
    },
    {
     "name": "stderr",
     "output_type": "stream",
     "text": [
      "Test_Loader: 100%|██████████| 288/288 [00:27<00:00, 10.41it/s]\n"
     ]
    },
    {
     "name": "stdout",
     "output_type": "stream",
     "text": [
      "Loss1: 1.0343, Loss2: 0.4009, Loss3: 1.3798\n"
     ]
    },
    {
     "name": "stderr",
     "output_type": "stream",
     "text": [
      "Test_Loader: 100%|██████████| 288/288 [00:27<00:00, 10.42it/s]\n"
     ]
    },
    {
     "name": "stdout",
     "output_type": "stream",
     "text": [
      "Loss1: 1.0280, Loss2: 0.3925, Loss3: 1.3684\n"
     ]
    },
    {
     "name": "stderr",
     "output_type": "stream",
     "text": [
      "Test_Loader: 100%|██████████| 288/288 [00:28<00:00, 10.14it/s]\n"
     ]
    },
    {
     "name": "stdout",
     "output_type": "stream",
     "text": [
      "Loss1: 1.0210, Loss2: 0.3911, Loss3: 1.3421\n"
     ]
    },
    {
     "name": "stderr",
     "output_type": "stream",
     "text": [
      "Test_Loader: 100%|██████████| 288/288 [00:28<00:00, 10.04it/s]\n"
     ]
    },
    {
     "name": "stdout",
     "output_type": "stream",
     "text": [
      "Loss1: 1.0158, Loss2: 0.3862, Loss3: 1.3309\n"
     ]
    },
    {
     "name": "stderr",
     "output_type": "stream",
     "text": [
      "Test_Loader: 100%|██████████| 288/288 [00:27<00:00, 10.43it/s]\n"
     ]
    },
    {
     "name": "stdout",
     "output_type": "stream",
     "text": [
      "Loss1: 1.0099, Loss2: 0.3901, Loss3: 1.3321\n"
     ]
    },
    {
     "name": "stderr",
     "output_type": "stream",
     "text": [
      "Test_Loader: 100%|██████████| 288/288 [00:27<00:00, 10.61it/s]\n"
     ]
    },
    {
     "name": "stdout",
     "output_type": "stream",
     "text": [
      "Loss1: 1.0064, Loss2: 0.3821, Loss3: 1.3265\n"
     ]
    },
    {
     "name": "stderr",
     "output_type": "stream",
     "text": [
      "Test_Loader: 100%|██████████| 288/288 [00:26<00:00, 10.77it/s]\n"
     ]
    },
    {
     "name": "stdout",
     "output_type": "stream",
     "text": [
      "Loss1: 1.0035, Loss2: 0.3835, Loss3: 1.3163\n"
     ]
    },
    {
     "name": "stderr",
     "output_type": "stream",
     "text": [
      "Test_Loader: 100%|██████████| 288/288 [00:26<00:00, 10.74it/s]\n"
     ]
    },
    {
     "name": "stdout",
     "output_type": "stream",
     "text": [
      "Loss1: 0.9935, Loss2: 0.3844, Loss3: 1.3275\n"
     ]
    },
    {
     "name": "stderr",
     "output_type": "stream",
     "text": [
      "Test_Loader: 100%|██████████| 288/288 [00:26<00:00, 10.73it/s]\n"
     ]
    },
    {
     "name": "stdout",
     "output_type": "stream",
     "text": [
      "Loss1: 0.9835, Loss2: 0.3785, Loss3: 1.3271\n"
     ]
    },
    {
     "name": "stderr",
     "output_type": "stream",
     "text": [
      "Test_Loader: 100%|██████████| 288/288 [00:27<00:00, 10.44it/s]\n"
     ]
    },
    {
     "name": "stdout",
     "output_type": "stream",
     "text": [
      "Loss1: 0.9863, Loss2: 0.3803, Loss3: 1.3024\n"
     ]
    },
    {
     "name": "stderr",
     "output_type": "stream",
     "text": [
      "Test_Loader: 100%|██████████| 288/288 [00:28<00:00, 10.13it/s]\n"
     ]
    },
    {
     "name": "stdout",
     "output_type": "stream",
     "text": [
      "Loss1: 0.9823, Loss2: 0.3707, Loss3: 1.2891\n"
     ]
    },
    {
     "name": "stderr",
     "output_type": "stream",
     "text": [
      "Test_Loader: 100%|██████████| 288/288 [00:27<00:00, 10.35it/s]\n"
     ]
    },
    {
     "name": "stdout",
     "output_type": "stream",
     "text": [
      "Loss1: 0.9751, Loss2: 0.3696, Loss3: 1.2895\n"
     ]
    },
    {
     "name": "stderr",
     "output_type": "stream",
     "text": [
      "Test_Loader: 100%|██████████| 288/288 [00:28<00:00, 10.15it/s]\n"
     ]
    },
    {
     "name": "stdout",
     "output_type": "stream",
     "text": [
      "Loss1: 0.9825, Loss2: 0.3720, Loss3: 1.2792\n"
     ]
    },
    {
     "name": "stderr",
     "output_type": "stream",
     "text": [
      "Test_Loader: 100%|██████████| 288/288 [00:28<00:00, 10.27it/s]\n"
     ]
    },
    {
     "name": "stdout",
     "output_type": "stream",
     "text": [
      "Loss1: 0.9821, Loss2: 0.3677, Loss3: 1.2810\n"
     ]
    },
    {
     "name": "stderr",
     "output_type": "stream",
     "text": [
      "Test_Loader: 100%|██████████| 288/288 [00:27<00:00, 10.43it/s]\n"
     ]
    },
    {
     "name": "stdout",
     "output_type": "stream",
     "text": [
      "Loss1: 0.9762, Loss2: 0.3697, Loss3: 1.2737\n"
     ]
    },
    {
     "name": "stderr",
     "output_type": "stream",
     "text": [
      "Test_Loader: 100%|██████████| 288/288 [00:28<00:00, 10.23it/s]\n"
     ]
    },
    {
     "name": "stdout",
     "output_type": "stream",
     "text": [
      "Loss1: 0.9715, Loss2: 0.3656, Loss3: 1.2709\n"
     ]
    },
    {
     "name": "stderr",
     "output_type": "stream",
     "text": [
      "Test_Loader: 100%|██████████| 288/288 [00:28<00:00, 10.13it/s]\n"
     ]
    },
    {
     "name": "stdout",
     "output_type": "stream",
     "text": [
      "Loss1: 0.9722, Loss2: 0.3653, Loss3: 1.2554\n"
     ]
    },
    {
     "name": "stderr",
     "output_type": "stream",
     "text": [
      "Test_Loader: 100%|██████████| 288/288 [00:26<00:00, 10.78it/s]\n"
     ]
    },
    {
     "name": "stdout",
     "output_type": "stream",
     "text": [
      "Loss1: 0.9715, Loss2: 0.3647, Loss3: 1.2688\n"
     ]
    },
    {
     "name": "stderr",
     "output_type": "stream",
     "text": [
      "Test_Loader: 100%|██████████| 288/288 [00:27<00:00, 10.52it/s]\n"
     ]
    },
    {
     "name": "stdout",
     "output_type": "stream",
     "text": [
      "Loss1: 0.9675, Loss2: 0.3608, Loss3: 1.2596\n"
     ]
    },
    {
     "name": "stderr",
     "output_type": "stream",
     "text": [
      "Test_Loader: 100%|██████████| 288/288 [00:28<00:00, 10.25it/s]\n"
     ]
    },
    {
     "name": "stdout",
     "output_type": "stream",
     "text": [
      "Loss1: 0.9630, Loss2: 0.3601, Loss3: 1.2539\n"
     ]
    },
    {
     "name": "stderr",
     "output_type": "stream",
     "text": [
      "Test_Loader: 100%|██████████| 288/288 [00:27<00:00, 10.29it/s]\n"
     ]
    },
    {
     "name": "stdout",
     "output_type": "stream",
     "text": [
      "Loss1: 0.9630, Loss2: 0.3572, Loss3: 1.2346\n"
     ]
    },
    {
     "name": "stderr",
     "output_type": "stream",
     "text": [
      "Test_Loader: 100%|██████████| 288/288 [00:27<00:00, 10.46it/s]\n"
     ]
    },
    {
     "name": "stdout",
     "output_type": "stream",
     "text": [
      "Loss1: 0.9698, Loss2: 0.3549, Loss3: 1.2456\n"
     ]
    },
    {
     "name": "stderr",
     "output_type": "stream",
     "text": [
      "Test_Loader: 100%|██████████| 288/288 [00:28<00:00, 10.17it/s]\n"
     ]
    },
    {
     "name": "stdout",
     "output_type": "stream",
     "text": [
      "Loss1: 0.9737, Loss2: 0.3605, Loss3: 1.2604\n"
     ]
    },
    {
     "name": "stderr",
     "output_type": "stream",
     "text": [
      "Test_Loader: 100%|██████████| 288/288 [00:28<00:00,  9.95it/s]\n"
     ]
    },
    {
     "name": "stdout",
     "output_type": "stream",
     "text": [
      "Loss1: 0.9984, Loss2: 0.3658, Loss3: 1.2516\n"
     ]
    },
    {
     "name": "stderr",
     "output_type": "stream",
     "text": [
      "Test_Loader: 100%|██████████| 288/288 [00:28<00:00, 10.03it/s]\n"
     ]
    },
    {
     "name": "stdout",
     "output_type": "stream",
     "text": [
      "Loss1: 1.0181, Loss2: 0.3642, Loss3: 1.2684\n"
     ]
    },
    {
     "name": "stderr",
     "output_type": "stream",
     "text": [
      "Test_Loader: 100%|██████████| 288/288 [00:28<00:00, 10.10it/s]\n"
     ]
    },
    {
     "name": "stdout",
     "output_type": "stream",
     "text": [
      "Loss1: 0.9935, Loss2: 0.3582, Loss3: 1.2371\n"
     ]
    },
    {
     "name": "stderr",
     "output_type": "stream",
     "text": [
      "Test_Loader: 100%|██████████| 288/288 [00:27<00:00, 10.34it/s]\n"
     ]
    },
    {
     "name": "stdout",
     "output_type": "stream",
     "text": [
      "Loss1: 0.9866, Loss2: 0.3514, Loss3: 1.2180\n"
     ]
    },
    {
     "name": "stderr",
     "output_type": "stream",
     "text": [
      "Test_Loader: 100%|██████████| 288/288 [00:27<00:00, 10.38it/s]\n"
     ]
    },
    {
     "name": "stdout",
     "output_type": "stream",
     "text": [
      "Loss1: 1.0033, Loss2: 0.3556, Loss3: 1.2237\n"
     ]
    },
    {
     "name": "stderr",
     "output_type": "stream",
     "text": [
      "Test_Loader: 100%|██████████| 288/288 [00:27<00:00, 10.63it/s]\n"
     ]
    },
    {
     "name": "stdout",
     "output_type": "stream",
     "text": [
      "Loss1: 1.0028, Loss2: 0.3570, Loss3: 1.2157\n"
     ]
    },
    {
     "name": "stderr",
     "output_type": "stream",
     "text": [
      "Test_Loader: 100%|██████████| 288/288 [00:30<00:00,  9.54it/s]\n"
     ]
    },
    {
     "name": "stdout",
     "output_type": "stream",
     "text": [
      "Loss1: 0.9908, Loss2: 0.3579, Loss3: 1.2356\n"
     ]
    },
    {
     "name": "stderr",
     "output_type": "stream",
     "text": [
      "Test_Loader: 100%|██████████| 288/288 [00:27<00:00, 10.47it/s]\n"
     ]
    },
    {
     "name": "stdout",
     "output_type": "stream",
     "text": [
      "Loss1: 0.9926, Loss2: 0.3519, Loss3: 1.2032\n"
     ]
    },
    {
     "name": "stderr",
     "output_type": "stream",
     "text": [
      "Test_Loader: 100%|██████████| 288/288 [00:27<00:00, 10.42it/s]\n"
     ]
    },
    {
     "name": "stdout",
     "output_type": "stream",
     "text": [
      "Loss1: 1.0888, Loss2: 0.3588, Loss3: 1.2317\n"
     ]
    },
    {
     "name": "stderr",
     "output_type": "stream",
     "text": [
      "Test_Loader: 100%|██████████| 288/288 [00:28<00:00, 10.25it/s]\n"
     ]
    },
    {
     "name": "stdout",
     "output_type": "stream",
     "text": [
      "Loss1: 1.0972, Loss2: 0.3587, Loss3: 1.2269\n"
     ]
    },
    {
     "name": "stderr",
     "output_type": "stream",
     "text": [
      "Test_Loader: 100%|██████████| 288/288 [00:29<00:00,  9.92it/s]\n"
     ]
    },
    {
     "name": "stdout",
     "output_type": "stream",
     "text": [
      "Loss1: 1.3142, Loss2: 0.8793, Loss3: 2.4091\n"
     ]
    },
    {
     "name": "stderr",
     "output_type": "stream",
     "text": [
      "Test_Loader: 100%|██████████| 288/288 [00:27<00:00, 10.33it/s]\n"
     ]
    },
    {
     "name": "stdout",
     "output_type": "stream",
     "text": [
      "Loss1: 1.3069, Loss2: 0.8158, Loss3: 2.3271\n"
     ]
    },
    {
     "name": "stderr",
     "output_type": "stream",
     "text": [
      "Test_Loader: 100%|██████████| 288/288 [00:28<00:00, 10.18it/s]\n"
     ]
    },
    {
     "name": "stdout",
     "output_type": "stream",
     "text": [
      "Loss1: 1.2853, Loss2: 0.7490, Loss3: 2.2374\n"
     ]
    },
    {
     "name": "stderr",
     "output_type": "stream",
     "text": [
      "Test_Loader: 100%|██████████| 288/288 [00:28<00:00, 10.12it/s]\n"
     ]
    },
    {
     "name": "stdout",
     "output_type": "stream",
     "text": [
      "Loss1: 1.2755, Loss2: 0.7088, Loss3: 2.1770\n"
     ]
    },
    {
     "name": "stderr",
     "output_type": "stream",
     "text": [
      "Test_Loader: 100%|██████████| 288/288 [00:28<00:00, 10.15it/s]\n"
     ]
    },
    {
     "name": "stdout",
     "output_type": "stream",
     "text": [
      "Loss1: 1.2621, Loss2: 0.7018, Loss3: 2.0969\n"
     ]
    },
    {
     "name": "stderr",
     "output_type": "stream",
     "text": [
      "Test_Loader: 100%|██████████| 288/288 [00:28<00:00, 10.20it/s]\n"
     ]
    },
    {
     "name": "stdout",
     "output_type": "stream",
     "text": [
      "Loss1: 1.2462, Loss2: 0.6507, Loss3: 2.0395\n"
     ]
    },
    {
     "name": "stderr",
     "output_type": "stream",
     "text": [
      "Test_Loader: 100%|██████████| 288/288 [00:27<00:00, 10.40it/s]\n"
     ]
    },
    {
     "name": "stdout",
     "output_type": "stream",
     "text": [
      "Loss1: 1.2636, Loss2: 0.6505, Loss3: 1.9921\n"
     ]
    },
    {
     "name": "stderr",
     "output_type": "stream",
     "text": [
      "Test_Loader: 100%|██████████| 288/288 [00:27<00:00, 10.40it/s]\n"
     ]
    },
    {
     "name": "stdout",
     "output_type": "stream",
     "text": [
      "Loss1: 3.9332, Loss2: 1.0379, Loss3: 5.4245\n"
     ]
    },
    {
     "name": "stderr",
     "output_type": "stream",
     "text": [
      "Test_Loader: 100%|██████████| 288/288 [00:28<00:00, 10.16it/s]\n"
     ]
    },
    {
     "name": "stdout",
     "output_type": "stream",
     "text": [
      "Loss1: 3.7633, Loss2: 0.9964, Loss3: 5.1854\n"
     ]
    },
    {
     "name": "stderr",
     "output_type": "stream",
     "text": [
      "Test_Loader: 100%|██████████| 288/288 [00:27<00:00, 10.58it/s]\n"
     ]
    },
    {
     "name": "stdout",
     "output_type": "stream",
     "text": [
      "Loss1: 3.5709, Loss2: 0.8926, Loss3: 4.9579\n"
     ]
    },
    {
     "name": "stderr",
     "output_type": "stream",
     "text": [
      "Test_Loader: 100%|██████████| 288/288 [00:26<00:00, 10.92it/s]\n"
     ]
    },
    {
     "name": "stdout",
     "output_type": "stream",
     "text": [
      "Loss1: 3.4027, Loss2: 0.8790, Loss3: 4.7888\n"
     ]
    },
    {
     "name": "stderr",
     "output_type": "stream",
     "text": [
      "Test_Loader: 100%|██████████| 288/288 [00:26<00:00, 10.85it/s]\n"
     ]
    },
    {
     "name": "stdout",
     "output_type": "stream",
     "text": [
      "Loss1: 3.1911, Loss2: 0.9070, Loss3: 4.5948\n"
     ]
    },
    {
     "name": "stderr",
     "output_type": "stream",
     "text": [
      "Test_Loader: 100%|██████████| 288/288 [00:26<00:00, 10.77it/s]\n"
     ]
    },
    {
     "name": "stdout",
     "output_type": "stream",
     "text": [
      "Loss1: 3.0394, Loss2: 0.8316, Loss3: 4.4812\n"
     ]
    },
    {
     "name": "stderr",
     "output_type": "stream",
     "text": [
      "Test_Loader: 100%|██████████| 288/288 [00:26<00:00, 10.72it/s]\n"
     ]
    },
    {
     "name": "stdout",
     "output_type": "stream",
     "text": [
      "Loss1: 2.8247, Loss2: 0.8276, Loss3: 4.2949\n"
     ]
    },
    {
     "name": "stderr",
     "output_type": "stream",
     "text": [
      "Test_Loader: 100%|██████████| 288/288 [00:27<00:00, 10.62it/s]\n"
     ]
    },
    {
     "name": "stdout",
     "output_type": "stream",
     "text": [
      "Loss1: 2.7172, Loss2: 0.7713, Loss3: 4.1971\n"
     ]
    },
    {
     "name": "stderr",
     "output_type": "stream",
     "text": [
      "Test_Loader: 100%|██████████| 288/288 [00:29<00:00,  9.85it/s]\n"
     ]
    },
    {
     "name": "stdout",
     "output_type": "stream",
     "text": [
      "Loss1: 2.5237, Loss2: 0.7926, Loss3: 4.0713\n"
     ]
    },
    {
     "name": "stderr",
     "output_type": "stream",
     "text": [
      "Test_Loader: 100%|██████████| 288/288 [00:28<00:00, 10.26it/s]\n"
     ]
    },
    {
     "name": "stdout",
     "output_type": "stream",
     "text": [
      "Loss1: 2.4467, Loss2: 0.7210, Loss3: 3.9777\n"
     ]
    },
    {
     "name": "stderr",
     "output_type": "stream",
     "text": [
      "Test_Loader: 100%|██████████| 288/288 [00:27<00:00, 10.44it/s]\n"
     ]
    },
    {
     "name": "stdout",
     "output_type": "stream",
     "text": [
      "Loss1: 2.1895, Loss2: 0.7217, Loss3: 3.8187\n"
     ]
    },
    {
     "name": "stderr",
     "output_type": "stream",
     "text": [
      "Test_Loader: 100%|██████████| 288/288 [00:28<00:00, 10.25it/s]\n"
     ]
    },
    {
     "name": "stdout",
     "output_type": "stream",
     "text": [
      "Loss1: 2.0371, Loss2: 0.6806, Loss3: 3.7445\n"
     ]
    },
    {
     "name": "stderr",
     "output_type": "stream",
     "text": [
      "Test_Loader: 100%|██████████| 288/288 [00:28<00:00, 10.14it/s]\n"
     ]
    },
    {
     "name": "stdout",
     "output_type": "stream",
     "text": [
      "Loss1: 1.9609, Loss2: 0.6680, Loss3: 3.6577\n"
     ]
    },
    {
     "name": "stderr",
     "output_type": "stream",
     "text": [
      "Test_Loader: 100%|██████████| 288/288 [00:28<00:00, 10.26it/s]\n"
     ]
    },
    {
     "name": "stdout",
     "output_type": "stream",
     "text": [
      "Loss1: 1.8907, Loss2: 0.6058, Loss3: 3.5429\n"
     ]
    },
    {
     "name": "stderr",
     "output_type": "stream",
     "text": [
      "Test_Loader: 100%|██████████| 288/288 [00:28<00:00, 10.05it/s]\n"
     ]
    },
    {
     "name": "stdout",
     "output_type": "stream",
     "text": [
      "Loss1: 1.7882, Loss2: 0.6312, Loss3: 3.5046\n"
     ]
    },
    {
     "name": "stderr",
     "output_type": "stream",
     "text": [
      "Test_Loader: 100%|██████████| 288/288 [00:27<00:00, 10.40it/s]\n"
     ]
    },
    {
     "name": "stdout",
     "output_type": "stream",
     "text": [
      "Loss1: 1.7275, Loss2: 0.6033, Loss3: 3.4229\n"
     ]
    },
    {
     "name": "stderr",
     "output_type": "stream",
     "text": [
      "Test_Loader: 100%|██████████| 288/288 [00:27<00:00, 10.30it/s]\n"
     ]
    },
    {
     "name": "stdout",
     "output_type": "stream",
     "text": [
      "Loss1: 1.6836, Loss2: 0.5828, Loss3: 3.3620\n"
     ]
    },
    {
     "name": "stderr",
     "output_type": "stream",
     "text": [
      "Test_Loader: 100%|██████████| 288/288 [00:27<00:00, 10.45it/s]\n"
     ]
    },
    {
     "name": "stdout",
     "output_type": "stream",
     "text": [
      "Loss1: 1.8467, Loss2: 0.6733, Loss3: 3.4991\n"
     ]
    },
    {
     "name": "stderr",
     "output_type": "stream",
     "text": [
      "Test_Loader: 100%|██████████| 288/288 [00:27<00:00, 10.64it/s]\n"
     ]
    },
    {
     "name": "stdout",
     "output_type": "stream",
     "text": [
      "Loss1: 1.7948, Loss2: 0.6516, Loss3: 3.4119\n"
     ]
    },
    {
     "name": "stderr",
     "output_type": "stream",
     "text": [
      "Test_Loader: 100%|██████████| 288/288 [00:27<00:00, 10.50it/s]\n"
     ]
    },
    {
     "name": "stdout",
     "output_type": "stream",
     "text": [
      "Loss1: 1.7876, Loss2: 0.6545, Loss3: 3.3747\n"
     ]
    },
    {
     "name": "stderr",
     "output_type": "stream",
     "text": [
      "Test_Loader: 100%|██████████| 288/288 [00:27<00:00, 10.52it/s]\n"
     ]
    },
    {
     "name": "stdout",
     "output_type": "stream",
     "text": [
      "Loss1: 1.7638, Loss2: 0.6052, Loss3: 3.2783\n"
     ]
    },
    {
     "name": "stderr",
     "output_type": "stream",
     "text": [
      "Test_Loader: 100%|██████████| 288/288 [00:27<00:00, 10.34it/s]\n"
     ]
    },
    {
     "name": "stdout",
     "output_type": "stream",
     "text": [
      "Loss1: 1.6974, Loss2: 0.6166, Loss3: 3.2676\n"
     ]
    },
    {
     "name": "stderr",
     "output_type": "stream",
     "text": [
      "Test_Loader: 100%|██████████| 288/288 [00:28<00:00, 10.14it/s]\n"
     ]
    },
    {
     "name": "stdout",
     "output_type": "stream",
     "text": [
      "Loss1: 1.7029, Loss2: 0.6212, Loss3: 3.2298\n"
     ]
    },
    {
     "name": "stderr",
     "output_type": "stream",
     "text": [
      "Test_Loader: 100%|██████████| 288/288 [00:28<00:00, 10.17it/s]\n"
     ]
    },
    {
     "name": "stdout",
     "output_type": "stream",
     "text": [
      "Loss1: 1.6380, Loss2: 0.5912, Loss3: 3.1379\n"
     ]
    },
    {
     "name": "stderr",
     "output_type": "stream",
     "text": [
      "Test_Loader: 100%|██████████| 288/288 [00:28<00:00, 10.02it/s]\n"
     ]
    },
    {
     "name": "stdout",
     "output_type": "stream",
     "text": [
      "Loss1: 1.6707, Loss2: 0.5704, Loss3: 3.0709\n"
     ]
    },
    {
     "name": "stderr",
     "output_type": "stream",
     "text": [
      "Test_Loader: 100%|██████████| 288/288 [00:27<00:00, 10.44it/s]\n"
     ]
    },
    {
     "name": "stdout",
     "output_type": "stream",
     "text": [
      "Loss1: 1.6377, Loss2: 0.5537, Loss3: 2.9970\n"
     ]
    },
    {
     "name": "stderr",
     "output_type": "stream",
     "text": [
      "Test_Loader: 100%|██████████| 288/288 [00:26<00:00, 10.67it/s]\n"
     ]
    },
    {
     "name": "stdout",
     "output_type": "stream",
     "text": [
      "Loss1: 1.6022, Loss2: 0.5802, Loss3: 2.9859\n"
     ]
    },
    {
     "name": "stderr",
     "output_type": "stream",
     "text": [
      "Test_Loader: 100%|██████████| 288/288 [00:28<00:00, 10.07it/s]\n"
     ]
    },
    {
     "name": "stdout",
     "output_type": "stream",
     "text": [
      "Loss1: 1.6256, Loss2: 0.5468, Loss3: 2.9104\n"
     ]
    },
    {
     "name": "stderr",
     "output_type": "stream",
     "text": [
      "Test_Loader: 100%|██████████| 288/288 [00:29<00:00,  9.71it/s]\n"
     ]
    },
    {
     "name": "stdout",
     "output_type": "stream",
     "text": [
      "Loss1: 1.5890, Loss2: 0.5361, Loss3: 2.8701\n"
     ]
    },
    {
     "name": "stderr",
     "output_type": "stream",
     "text": [
      "Test_Loader: 100%|██████████| 288/288 [00:26<00:00, 10.67it/s]\n"
     ]
    },
    {
     "name": "stdout",
     "output_type": "stream",
     "text": [
      "Loss1: 1.5312, Loss2: 0.5411, Loss3: 2.8129\n"
     ]
    },
    {
     "name": "stderr",
     "output_type": "stream",
     "text": [
      "Test_Loader: 100%|██████████| 288/288 [00:27<00:00, 10.39it/s]\n"
     ]
    },
    {
     "name": "stdout",
     "output_type": "stream",
     "text": [
      "Loss1: 1.5433, Loss2: 0.5174, Loss3: 2.7430\n"
     ]
    },
    {
     "name": "stderr",
     "output_type": "stream",
     "text": [
      "Test_Loader: 100%|██████████| 288/288 [00:28<00:00, 10.14it/s]\n"
     ]
    },
    {
     "name": "stdout",
     "output_type": "stream",
     "text": [
      "Loss1: 1.5067, Loss2: 0.5078, Loss3: 2.7026\n"
     ]
    },
    {
     "name": "stderr",
     "output_type": "stream",
     "text": [
      "Test_Loader: 100%|██████████| 288/288 [00:27<00:00, 10.37it/s]\n"
     ]
    },
    {
     "name": "stdout",
     "output_type": "stream",
     "text": [
      "Loss1: 1.4799, Loss2: 0.5280, Loss3: 2.6800\n"
     ]
    },
    {
     "name": "stderr",
     "output_type": "stream",
     "text": [
      "Test_Loader: 100%|██████████| 288/288 [00:27<00:00, 10.31it/s]\n"
     ]
    },
    {
     "name": "stdout",
     "output_type": "stream",
     "text": [
      "Loss1: 1.4655, Loss2: 0.5195, Loss3: 2.6319\n"
     ]
    },
    {
     "name": "stderr",
     "output_type": "stream",
     "text": [
      "Test_Loader: 100%|██████████| 288/288 [00:28<00:00, 10.02it/s]\n"
     ]
    },
    {
     "name": "stdout",
     "output_type": "stream",
     "text": [
      "Loss1: 1.5113, Loss2: 0.5536, Loss3: 2.6266\n"
     ]
    },
    {
     "name": "stderr",
     "output_type": "stream",
     "text": [
      "Test_Loader: 100%|██████████| 288/288 [00:28<00:00, 10.05it/s]\n"
     ]
    },
    {
     "name": "stdout",
     "output_type": "stream",
     "text": [
      "Loss1: 1.5703, Loss2: 0.5511, Loss3: 2.7529\n"
     ]
    },
    {
     "name": "stderr",
     "output_type": "stream",
     "text": [
      "Test_Loader: 100%|██████████| 288/288 [00:28<00:00, 10.12it/s]\n"
     ]
    },
    {
     "name": "stdout",
     "output_type": "stream",
     "text": [
      "Loss1: 1.5431, Loss2: 0.5517, Loss3: 2.6891\n"
     ]
    },
    {
     "name": "stderr",
     "output_type": "stream",
     "text": [
      "Test_Loader: 100%|██████████| 288/288 [00:28<00:00, 10.06it/s]\n"
     ]
    },
    {
     "name": "stdout",
     "output_type": "stream",
     "text": [
      "Loss1: 1.5094, Loss2: 0.5476, Loss3: 2.6345\n"
     ]
    },
    {
     "name": "stderr",
     "output_type": "stream",
     "text": [
      "Test_Loader: 100%|██████████| 288/288 [00:28<00:00, 10.01it/s]\n"
     ]
    },
    {
     "name": "stdout",
     "output_type": "stream",
     "text": [
      "Loss1: 1.5023, Loss2: 0.5109, Loss3: 2.5651\n"
     ]
    },
    {
     "name": "stderr",
     "output_type": "stream",
     "text": [
      "Test_Loader: 100%|██████████| 288/288 [00:29<00:00,  9.92it/s]\n"
     ]
    },
    {
     "name": "stdout",
     "output_type": "stream",
     "text": [
      "Loss1: 1.4802, Loss2: 0.5351, Loss3: 2.5280\n"
     ]
    },
    {
     "name": "stderr",
     "output_type": "stream",
     "text": [
      "Test_Loader: 100%|██████████| 288/288 [00:31<00:00,  9.24it/s]\n"
     ]
    },
    {
     "name": "stdout",
     "output_type": "stream",
     "text": [
      "Loss1: 1.4944, Loss2: 0.5387, Loss3: 2.5036\n"
     ]
    },
    {
     "name": "stderr",
     "output_type": "stream",
     "text": [
      "Test_Loader: 100%|██████████| 288/288 [00:28<00:00, 10.04it/s]\n"
     ]
    },
    {
     "name": "stdout",
     "output_type": "stream",
     "text": [
      "Loss1: 1.6355, Loss2: 0.6585, Loss3: 2.5451\n"
     ]
    },
    {
     "name": "stderr",
     "output_type": "stream",
     "text": [
      "Test_Loader: 100%|██████████| 288/288 [00:27<00:00, 10.58it/s]\n"
     ]
    },
    {
     "name": "stdout",
     "output_type": "stream",
     "text": [
      "Loss1: 1.6444, Loss2: 0.6557, Loss3: 2.5195\n"
     ]
    },
    {
     "name": "stderr",
     "output_type": "stream",
     "text": [
      "Test_Loader: 100%|██████████| 288/288 [00:27<00:00, 10.37it/s]\n"
     ]
    },
    {
     "name": "stdout",
     "output_type": "stream",
     "text": [
      "Loss1: 1.6092, Loss2: 0.6485, Loss3: 2.5003\n"
     ]
    },
    {
     "name": "stderr",
     "output_type": "stream",
     "text": [
      "Test_Loader: 100%|██████████| 288/288 [00:28<00:00, 10.25it/s]\n"
     ]
    },
    {
     "name": "stdout",
     "output_type": "stream",
     "text": [
      "Loss1: 1.6512, Loss2: 0.6312, Loss3: 2.4788\n"
     ]
    },
    {
     "name": "stderr",
     "output_type": "stream",
     "text": [
      "Test_Loader: 100%|██████████| 288/288 [00:27<00:00, 10.36it/s]\n"
     ]
    },
    {
     "name": "stdout",
     "output_type": "stream",
     "text": [
      "Loss1: 1.6388, Loss2: 0.6461, Loss3: 2.4245\n"
     ]
    },
    {
     "name": "stderr",
     "output_type": "stream",
     "text": [
      "Test_Loader: 100%|██████████| 288/288 [00:28<00:00, 10.08it/s]\n"
     ]
    },
    {
     "name": "stdout",
     "output_type": "stream",
     "text": [
      "Loss1: 1.6134, Loss2: 0.6247, Loss3: 2.3996\n"
     ]
    },
    {
     "name": "stderr",
     "output_type": "stream",
     "text": [
      "Test_Loader: 100%|██████████| 288/288 [00:28<00:00,  9.99it/s]\n"
     ]
    },
    {
     "name": "stdout",
     "output_type": "stream",
     "text": [
      "Loss1: 1.6179, Loss2: 0.6324, Loss3: 2.3541\n"
     ]
    },
    {
     "name": "stderr",
     "output_type": "stream",
     "text": [
      "Test_Loader: 100%|██████████| 288/288 [00:27<00:00, 10.40it/s]\n"
     ]
    },
    {
     "name": "stdout",
     "output_type": "stream",
     "text": [
      "Loss1: 1.6189, Loss2: 0.6148, Loss3: 2.3481\n"
     ]
    },
    {
     "name": "stderr",
     "output_type": "stream",
     "text": [
      "Test_Loader: 100%|██████████| 288/288 [00:27<00:00, 10.36it/s]\n"
     ]
    },
    {
     "name": "stdout",
     "output_type": "stream",
     "text": [
      "Loss1: 1.5800, Loss2: 0.5953, Loss3: 2.3172\n"
     ]
    },
    {
     "name": "stderr",
     "output_type": "stream",
     "text": [
      "Test_Loader: 100%|██████████| 288/288 [00:27<00:00, 10.56it/s]\n"
     ]
    },
    {
     "name": "stdout",
     "output_type": "stream",
     "text": [
      "Loss1: 1.5987, Loss2: 0.5994, Loss3: 2.2729\n"
     ]
    },
    {
     "name": "stderr",
     "output_type": "stream",
     "text": [
      "Test_Loader: 100%|██████████| 288/288 [00:26<00:00, 10.71it/s]\n"
     ]
    },
    {
     "name": "stdout",
     "output_type": "stream",
     "text": [
      "Loss1: 1.5668, Loss2: 0.5990, Loss3: 2.2471\n"
     ]
    },
    {
     "name": "stderr",
     "output_type": "stream",
     "text": [
      "Test_Loader: 100%|██████████| 288/288 [00:27<00:00, 10.41it/s]\n"
     ]
    },
    {
     "name": "stdout",
     "output_type": "stream",
     "text": [
      "Loss1: 1.5611, Loss2: 0.5921, Loss3: 2.2268\n"
     ]
    },
    {
     "name": "stderr",
     "output_type": "stream",
     "text": [
      "Test_Loader: 100%|██████████| 288/288 [00:29<00:00,  9.70it/s]\n"
     ]
    },
    {
     "name": "stdout",
     "output_type": "stream",
     "text": [
      "Loss1: 1.5431, Loss2: 0.5832, Loss3: 2.1921\n"
     ]
    },
    {
     "name": "stderr",
     "output_type": "stream",
     "text": [
      "Test_Loader: 100%|██████████| 288/288 [00:28<00:00,  9.97it/s]\n"
     ]
    },
    {
     "name": "stdout",
     "output_type": "stream",
     "text": [
      "Loss1: 1.5235, Loss2: 0.5726, Loss3: 2.1550\n"
     ]
    },
    {
     "name": "stderr",
     "output_type": "stream",
     "text": [
      "Test_Loader: 100%|██████████| 288/288 [00:27<00:00, 10.35it/s]\n"
     ]
    },
    {
     "name": "stdout",
     "output_type": "stream",
     "text": [
      "Loss1: 1.5493, Loss2: 0.5803, Loss3: 2.1226\n"
     ]
    },
    {
     "name": "stderr",
     "output_type": "stream",
     "text": [
      "Test_Loader: 100%|██████████| 288/288 [00:28<00:00, 10.01it/s]\n"
     ]
    },
    {
     "name": "stdout",
     "output_type": "stream",
     "text": [
      "Loss1: 1.5363, Loss2: 0.5497, Loss3: 2.1410\n"
     ]
    },
    {
     "name": "stderr",
     "output_type": "stream",
     "text": [
      "Test_Loader: 100%|██████████| 288/288 [00:28<00:00,  9.93it/s]\n"
     ]
    },
    {
     "name": "stdout",
     "output_type": "stream",
     "text": [
      "Loss1: 1.5162, Loss2: 0.5590, Loss3: 2.0997\n"
     ]
    },
    {
     "name": "stderr",
     "output_type": "stream",
     "text": [
      "Test_Loader: 100%|██████████| 288/288 [00:28<00:00, 10.23it/s]\n"
     ]
    },
    {
     "name": "stdout",
     "output_type": "stream",
     "text": [
      "Loss1: 1.5157, Loss2: 0.5573, Loss3: 2.0919\n"
     ]
    },
    {
     "name": "stderr",
     "output_type": "stream",
     "text": [
      "Test_Loader: 100%|██████████| 288/288 [00:28<00:00, 10.19it/s]\n"
     ]
    },
    {
     "name": "stdout",
     "output_type": "stream",
     "text": [
      "Loss1: 1.5163, Loss2: 0.5556, Loss3: 2.0602\n"
     ]
    },
    {
     "name": "stderr",
     "output_type": "stream",
     "text": [
      "Test_Loader: 100%|██████████| 288/288 [00:28<00:00,  9.97it/s]\n"
     ]
    },
    {
     "name": "stdout",
     "output_type": "stream",
     "text": [
      "Loss1: 1.5242, Loss2: 0.5479, Loss3: 2.0480\n"
     ]
    },
    {
     "name": "stderr",
     "output_type": "stream",
     "text": [
      "Test_Loader: 100%|██████████| 288/288 [00:28<00:00, 10.10it/s]\n"
     ]
    },
    {
     "name": "stdout",
     "output_type": "stream",
     "text": [
      "Loss1: 1.5257, Loss2: 0.5466, Loss3: 2.0346\n"
     ]
    },
    {
     "name": "stderr",
     "output_type": "stream",
     "text": [
      "Test_Loader: 100%|██████████| 288/288 [00:27<00:00, 10.34it/s]\n"
     ]
    },
    {
     "name": "stdout",
     "output_type": "stream",
     "text": [
      "Loss1: 1.4908, Loss2: 0.5441, Loss3: 2.0023\n"
     ]
    },
    {
     "name": "stderr",
     "output_type": "stream",
     "text": [
      "Test_Loader: 100%|██████████| 288/288 [00:27<00:00, 10.52it/s]\n"
     ]
    },
    {
     "name": "stdout",
     "output_type": "stream",
     "text": [
      "Loss1: 1.5015, Loss2: 0.5453, Loss3: 1.9799\n"
     ]
    },
    {
     "name": "stderr",
     "output_type": "stream",
     "text": [
      "Test_Loader: 100%|██████████| 288/288 [00:27<00:00, 10.61it/s]\n"
     ]
    },
    {
     "name": "stdout",
     "output_type": "stream",
     "text": [
      "Loss1: 1.4958, Loss2: 0.5290, Loss3: 1.9675\n"
     ]
    },
    {
     "name": "stderr",
     "output_type": "stream",
     "text": [
      "Test_Loader: 100%|██████████| 288/288 [00:28<00:00, 10.22it/s]\n"
     ]
    },
    {
     "name": "stdout",
     "output_type": "stream",
     "text": [
      "Loss1: 1.5006, Loss2: 0.5345, Loss3: 1.9735\n"
     ]
    },
    {
     "name": "stderr",
     "output_type": "stream",
     "text": [
      "Test_Loader: 100%|██████████| 288/288 [00:27<00:00, 10.33it/s]\n"
     ]
    },
    {
     "name": "stdout",
     "output_type": "stream",
     "text": [
      "Loss1: 1.5124, Loss2: 0.5435, Loss3: 1.9611\n"
     ]
    },
    {
     "name": "stderr",
     "output_type": "stream",
     "text": [
      "Test_Loader: 100%|██████████| 288/288 [00:26<00:00, 10.73it/s]\n"
     ]
    },
    {
     "name": "stdout",
     "output_type": "stream",
     "text": [
      "Loss1: 1.5136, Loss2: 0.5447, Loss3: 1.9319\n"
     ]
    },
    {
     "name": "stderr",
     "output_type": "stream",
     "text": [
      "Test_Loader: 100%|██████████| 288/288 [00:27<00:00, 10.50it/s]\n"
     ]
    },
    {
     "name": "stdout",
     "output_type": "stream",
     "text": [
      "Loss1: 1.5062, Loss2: 0.5508, Loss3: 1.9124\n"
     ]
    },
    {
     "name": "stderr",
     "output_type": "stream",
     "text": [
      "Test_Loader: 100%|██████████| 288/288 [00:27<00:00, 10.50it/s]\n"
     ]
    },
    {
     "name": "stdout",
     "output_type": "stream",
     "text": [
      "Loss1: 1.5182, Loss2: 0.5362, Loss3: 1.9408\n"
     ]
    },
    {
     "name": "stderr",
     "output_type": "stream",
     "text": [
      "Test_Loader: 100%|██████████| 288/288 [00:29<00:00,  9.61it/s]\n"
     ]
    },
    {
     "name": "stdout",
     "output_type": "stream",
     "text": [
      "Loss1: 1.5091, Loss2: 0.5425, Loss3: 1.8970\n"
     ]
    },
    {
     "name": "stderr",
     "output_type": "stream",
     "text": [
      "Test_Loader: 100%|██████████| 288/288 [00:28<00:00, 10.05it/s]\n"
     ]
    },
    {
     "name": "stdout",
     "output_type": "stream",
     "text": [
      "Loss1: 1.5294, Loss2: 0.5426, Loss3: 1.9041\n"
     ]
    },
    {
     "name": "stderr",
     "output_type": "stream",
     "text": [
      "Test_Loader: 100%|██████████| 288/288 [00:28<00:00, 10.18it/s]\n"
     ]
    },
    {
     "name": "stdout",
     "output_type": "stream",
     "text": [
      "Loss1: 1.7543, Loss2: 0.5474, Loss3: 1.9079\n"
     ]
    },
    {
     "name": "stderr",
     "output_type": "stream",
     "text": [
      "Test_Loader: 100%|██████████| 288/288 [00:28<00:00, 10.09it/s]\n"
     ]
    },
    {
     "name": "stdout",
     "output_type": "stream",
     "text": [
      "Loss1: 1.7605, Loss2: 0.5516, Loss3: 1.8883\n"
     ]
    },
    {
     "name": "stderr",
     "output_type": "stream",
     "text": [
      "Test_Loader: 100%|██████████| 288/288 [00:28<00:00, 10.07it/s]\n"
     ]
    },
    {
     "name": "stdout",
     "output_type": "stream",
     "text": [
      "Loss1: 1.7249, Loss2: 0.5369, Loss3: 1.8784\n"
     ]
    },
    {
     "name": "stderr",
     "output_type": "stream",
     "text": [
      "Test_Loader: 100%|██████████| 288/288 [00:28<00:00, 10.04it/s]\n"
     ]
    },
    {
     "name": "stdout",
     "output_type": "stream",
     "text": [
      "Loss1: 1.7237, Loss2: 0.5460, Loss3: 1.8439\n"
     ]
    },
    {
     "name": "stderr",
     "output_type": "stream",
     "text": [
      "Test_Loader: 100%|██████████| 288/288 [00:28<00:00, 10.17it/s]\n"
     ]
    },
    {
     "name": "stdout",
     "output_type": "stream",
     "text": [
      "Loss1: 1.7153, Loss2: 0.5369, Loss3: 1.8408\n"
     ]
    },
    {
     "name": "stderr",
     "output_type": "stream",
     "text": [
      "Test_Loader: 100%|██████████| 288/288 [00:28<00:00, 10.10it/s]\n"
     ]
    },
    {
     "name": "stdout",
     "output_type": "stream",
     "text": [
      "Loss1: 1.7004, Loss2: 0.5390, Loss3: 1.8203\n"
     ]
    },
    {
     "name": "stderr",
     "output_type": "stream",
     "text": [
      "Test_Loader: 100%|██████████| 288/288 [00:29<00:00,  9.85it/s]\n"
     ]
    },
    {
     "name": "stdout",
     "output_type": "stream",
     "text": [
      "Loss1: 1.7100, Loss2: 0.5318, Loss3: 1.8133\n"
     ]
    },
    {
     "name": "stderr",
     "output_type": "stream",
     "text": [
      "Test_Loader: 100%|██████████| 288/288 [00:30<00:00,  9.41it/s]\n"
     ]
    },
    {
     "name": "stdout",
     "output_type": "stream",
     "text": [
      "Loss1: 1.6439, Loss2: 0.5166, Loss3: 1.8123\n"
     ]
    },
    {
     "name": "stderr",
     "output_type": "stream",
     "text": [
      "Test_Loader: 100%|██████████| 288/288 [00:27<00:00, 10.33it/s]\n"
     ]
    },
    {
     "name": "stdout",
     "output_type": "stream",
     "text": [
      "Loss1: 1.6257, Loss2: 0.5213, Loss3: 1.7747\n"
     ]
    },
    {
     "name": "stderr",
     "output_type": "stream",
     "text": [
      "Test_Loader: 100%|██████████| 288/288 [00:27<00:00, 10.36it/s]\n"
     ]
    },
    {
     "name": "stdout",
     "output_type": "stream",
     "text": [
      "Loss1: 1.6051, Loss2: 0.5230, Loss3: 1.7536\n"
     ]
    },
    {
     "name": "stderr",
     "output_type": "stream",
     "text": [
      "Test_Loader: 100%|██████████| 288/288 [00:28<00:00, 10.18it/s]\n"
     ]
    },
    {
     "name": "stdout",
     "output_type": "stream",
     "text": [
      "Loss1: 1.6053, Loss2: 0.5171, Loss3: 1.7472\n"
     ]
    },
    {
     "name": "stderr",
     "output_type": "stream",
     "text": [
      "Test_Loader: 100%|██████████| 288/288 [00:30<00:00,  9.44it/s]\n"
     ]
    },
    {
     "name": "stdout",
     "output_type": "stream",
     "text": [
      "Loss1: 1.5909, Loss2: 0.5164, Loss3: 1.7517\n"
     ]
    },
    {
     "name": "stderr",
     "output_type": "stream",
     "text": [
      "Test_Loader: 100%|██████████| 288/288 [00:28<00:00, 10.28it/s]\n"
     ]
    },
    {
     "name": "stdout",
     "output_type": "stream",
     "text": [
      "Loss1: 1.5720, Loss2: 0.5123, Loss3: 1.7262\n"
     ]
    },
    {
     "name": "stderr",
     "output_type": "stream",
     "text": [
      "Test_Loader: 100%|██████████| 288/288 [00:28<00:00,  9.99it/s]\n"
     ]
    },
    {
     "name": "stdout",
     "output_type": "stream",
     "text": [
      "Loss1: 1.5446, Loss2: 0.5051, Loss3: 1.7092\n"
     ]
    },
    {
     "name": "stderr",
     "output_type": "stream",
     "text": [
      "Test_Loader: 100%|██████████| 288/288 [00:28<00:00, 10.04it/s]\n"
     ]
    },
    {
     "name": "stdout",
     "output_type": "stream",
     "text": [
      "Loss1: 1.6287, Loss2: 0.5827, Loss3: 1.8402\n"
     ]
    },
    {
     "name": "stderr",
     "output_type": "stream",
     "text": [
      "Test_Loader: 100%|██████████| 288/288 [00:28<00:00, 10.26it/s]\n"
     ]
    },
    {
     "name": "stdout",
     "output_type": "stream",
     "text": [
      "Loss1: 1.5614, Loss2: 0.5751, Loss3: 1.8264\n"
     ]
    },
    {
     "name": "stderr",
     "output_type": "stream",
     "text": [
      "Test_Loader: 100%|██████████| 288/288 [00:28<00:00, 10.13it/s]\n"
     ]
    },
    {
     "name": "stdout",
     "output_type": "stream",
     "text": [
      "Loss1: 1.5511, Loss2: 0.5664, Loss3: 1.8218\n"
     ]
    },
    {
     "name": "stderr",
     "output_type": "stream",
     "text": [
      "Test_Loader: 100%|██████████| 288/288 [00:28<00:00, 10.17it/s]\n"
     ]
    },
    {
     "name": "stdout",
     "output_type": "stream",
     "text": [
      "Loss1: 1.7273, Loss2: 0.6473, Loss3: 3.2407\n"
     ]
    },
    {
     "name": "stderr",
     "output_type": "stream",
     "text": [
      "Test_Loader: 100%|██████████| 288/288 [00:27<00:00, 10.59it/s]\n"
     ]
    },
    {
     "name": "stdout",
     "output_type": "stream",
     "text": [
      "Loss1: 1.7235, Loss2: 0.6429, Loss3: 3.0976\n"
     ]
    },
    {
     "name": "stderr",
     "output_type": "stream",
     "text": [
      "Test_Loader: 100%|██████████| 288/288 [00:28<00:00,  9.96it/s]\n"
     ]
    },
    {
     "name": "stdout",
     "output_type": "stream",
     "text": [
      "Loss1: 1.6939, Loss2: 0.6548, Loss3: 2.9710\n"
     ]
    },
    {
     "name": "stderr",
     "output_type": "stream",
     "text": [
      "Test_Loader: 100%|██████████| 288/288 [00:27<00:00, 10.45it/s]\n"
     ]
    },
    {
     "name": "stdout",
     "output_type": "stream",
     "text": [
      "Loss1: 1.6989, Loss2: 0.6450, Loss3: 2.9088\n"
     ]
    },
    {
     "name": "stderr",
     "output_type": "stream",
     "text": [
      "Test_Loader: 100%|██████████| 288/288 [00:27<00:00, 10.53it/s]\n"
     ]
    },
    {
     "name": "stdout",
     "output_type": "stream",
     "text": [
      "Loss1: 1.6859, Loss2: 0.6229, Loss3: 2.8981\n"
     ]
    },
    {
     "name": "stderr",
     "output_type": "stream",
     "text": [
      "Test_Loader: 100%|██████████| 288/288 [00:27<00:00, 10.49it/s]\n"
     ]
    },
    {
     "name": "stdout",
     "output_type": "stream",
     "text": [
      "Loss1: 1.6652, Loss2: 0.6301, Loss3: 2.7398\n"
     ]
    },
    {
     "name": "stderr",
     "output_type": "stream",
     "text": [
      "Test_Loader: 100%|██████████| 288/288 [00:29<00:00,  9.77it/s]\n"
     ]
    },
    {
     "name": "stdout",
     "output_type": "stream",
     "text": [
      "Loss1: 1.6488, Loss2: 0.6032, Loss3: 2.7428\n"
     ]
    },
    {
     "name": "stderr",
     "output_type": "stream",
     "text": [
      "Test_Loader: 100%|██████████| 288/288 [00:29<00:00,  9.81it/s]\n"
     ]
    },
    {
     "name": "stdout",
     "output_type": "stream",
     "text": [
      "Loss1: 1.3281, Loss2: 0.5450, Loss3: 2.0881\n"
     ]
    },
    {
     "name": "stderr",
     "output_type": "stream",
     "text": [
      "Test_Loader: 100%|██████████| 288/288 [00:28<00:00, 10.09it/s]\n"
     ]
    },
    {
     "name": "stdout",
     "output_type": "stream",
     "text": [
      "Loss1: 1.3360, Loss2: 0.5288, Loss3: 2.1169\n"
     ]
    },
    {
     "name": "stderr",
     "output_type": "stream",
     "text": [
      "Test_Loader: 100%|██████████| 288/288 [00:28<00:00, 10.01it/s]\n"
     ]
    },
    {
     "name": "stdout",
     "output_type": "stream",
     "text": [
      "Loss1: 1.3128, Loss2: 0.5278, Loss3: 1.9963\n"
     ]
    },
    {
     "name": "stderr",
     "output_type": "stream",
     "text": [
      "Test_Loader: 100%|██████████| 288/288 [00:29<00:00,  9.67it/s]\n"
     ]
    },
    {
     "name": "stdout",
     "output_type": "stream",
     "text": [
      "Loss1: 1.4106, Loss2: 0.5187, Loss3: 2.1014\n"
     ]
    },
    {
     "name": "stderr",
     "output_type": "stream",
     "text": [
      "Test_Loader: 100%|██████████| 288/288 [00:30<00:00,  9.57it/s]\n"
     ]
    },
    {
     "name": "stdout",
     "output_type": "stream",
     "text": [
      "Loss1: 1.3837, Loss2: 0.5135, Loss3: 2.0118\n"
     ]
    },
    {
     "name": "stderr",
     "output_type": "stream",
     "text": [
      "Test_Loader: 100%|██████████| 288/288 [00:29<00:00,  9.68it/s]\n"
     ]
    },
    {
     "name": "stdout",
     "output_type": "stream",
     "text": [
      "Loss1: 1.3953, Loss2: 0.5257, Loss3: 2.0082\n"
     ]
    },
    {
     "name": "stderr",
     "output_type": "stream",
     "text": [
      "Test_Loader: 100%|██████████| 288/288 [00:30<00:00,  9.51it/s]\n"
     ]
    },
    {
     "name": "stdout",
     "output_type": "stream",
     "text": [
      "Loss1: 1.3874, Loss2: 0.5388, Loss3: 1.9301\n"
     ]
    },
    {
     "name": "stderr",
     "output_type": "stream",
     "text": [
      "Test_Loader: 100%|██████████| 288/288 [00:32<00:00,  8.94it/s]\n"
     ]
    },
    {
     "name": "stdout",
     "output_type": "stream",
     "text": [
      "Loss1: 1.3751, Loss2: 0.5258, Loss3: 1.9346\n"
     ]
    },
    {
     "name": "stderr",
     "output_type": "stream",
     "text": [
      "Test_Loader: 100%|██████████| 288/288 [00:31<00:00,  9.11it/s]\n"
     ]
    },
    {
     "name": "stdout",
     "output_type": "stream",
     "text": [
      "Loss1: 1.3827, Loss2: 0.5281, Loss3: 1.8855\n"
     ]
    },
    {
     "name": "stderr",
     "output_type": "stream",
     "text": [
      "Test_Loader: 100%|██████████| 288/288 [00:28<00:00, 10.09it/s]\n"
     ]
    },
    {
     "name": "stdout",
     "output_type": "stream",
     "text": [
      "Loss1: 1.3935, Loss2: 0.5532, Loss3: 1.8999\n"
     ]
    },
    {
     "name": "stderr",
     "output_type": "stream",
     "text": [
      "Test_Loader: 100%|██████████| 288/288 [00:28<00:00, 10.27it/s]\n"
     ]
    },
    {
     "name": "stdout",
     "output_type": "stream",
     "text": [
      "Loss1: 1.4861, Loss2: 0.5729, Loss3: 1.9688\n"
     ]
    },
    {
     "name": "stderr",
     "output_type": "stream",
     "text": [
      "Test_Loader: 100%|██████████| 288/288 [00:31<00:00,  9.11it/s]\n"
     ]
    },
    {
     "name": "stdout",
     "output_type": "stream",
     "text": [
      "Loss1: 1.4579, Loss2: 0.5899, Loss3: 1.9158\n"
     ]
    },
    {
     "name": "stderr",
     "output_type": "stream",
     "text": [
      "Test_Loader: 100%|██████████| 288/288 [00:30<00:00,  9.33it/s]\n"
     ]
    },
    {
     "name": "stdout",
     "output_type": "stream",
     "text": [
      "Loss1: 1.4513, Loss2: 0.5756, Loss3: 1.8922\n"
     ]
    },
    {
     "name": "stderr",
     "output_type": "stream",
     "text": [
      "Test_Loader: 100%|██████████| 288/288 [00:30<00:00,  9.57it/s]\n"
     ]
    },
    {
     "name": "stdout",
     "output_type": "stream",
     "text": [
      "Loss1: 1.4614, Loss2: 0.5817, Loss3: 1.8242\n"
     ]
    },
    {
     "name": "stderr",
     "output_type": "stream",
     "text": [
      "Test_Loader: 100%|██████████| 288/288 [00:29<00:00,  9.79it/s]\n"
     ]
    },
    {
     "name": "stdout",
     "output_type": "stream",
     "text": [
      "Loss1: 1.4543, Loss2: 0.5728, Loss3: 1.8760\n"
     ]
    },
    {
     "name": "stderr",
     "output_type": "stream",
     "text": [
      "Test_Loader: 100%|██████████| 288/288 [00:29<00:00,  9.65it/s]\n"
     ]
    },
    {
     "name": "stdout",
     "output_type": "stream",
     "text": [
      "Loss1: 1.4665, Loss2: 0.5707, Loss3: 1.8823\n"
     ]
    },
    {
     "name": "stderr",
     "output_type": "stream",
     "text": [
      "Test_Loader: 100%|██████████| 288/288 [00:30<00:00,  9.58it/s]\n"
     ]
    },
    {
     "name": "stdout",
     "output_type": "stream",
     "text": [
      "Loss1: 1.5594, Loss2: 0.5828, Loss3: 1.8976\n"
     ]
    },
    {
     "name": "stderr",
     "output_type": "stream",
     "text": [
      "Test_Loader: 100%|██████████| 288/288 [00:29<00:00,  9.72it/s]\n"
     ]
    },
    {
     "name": "stdout",
     "output_type": "stream",
     "text": [
      "Loss1: 1.4650, Loss2: 0.5543, Loss3: 1.7590\n"
     ]
    },
    {
     "name": "stderr",
     "output_type": "stream",
     "text": [
      "Test_Loader: 100%|██████████| 288/288 [00:37<00:00,  7.76it/s]\n"
     ]
    },
    {
     "name": "stdout",
     "output_type": "stream",
     "text": [
      "Loss1: 1.4804, Loss2: 0.5683, Loss3: 1.7611\n"
     ]
    },
    {
     "name": "stderr",
     "output_type": "stream",
     "text": [
      "Test_Loader: 100%|██████████| 288/288 [00:51<00:00,  5.57it/s]\n"
     ]
    },
    {
     "name": "stdout",
     "output_type": "stream",
     "text": [
      "Loss1: 1.4975, Loss2: 0.5738, Loss3: 1.7792\n"
     ]
    },
    {
     "name": "stderr",
     "output_type": "stream",
     "text": [
      "Test_Loader: 100%|██████████| 288/288 [00:33<00:00,  8.51it/s]\n"
     ]
    },
    {
     "name": "stdout",
     "output_type": "stream",
     "text": [
      "Loss1: 1.4882, Loss2: 0.5687, Loss3: 1.7452\n"
     ]
    },
    {
     "name": "stderr",
     "output_type": "stream",
     "text": [
      "Test_Loader: 100%|██████████| 288/288 [00:32<00:00,  8.99it/s]\n"
     ]
    },
    {
     "name": "stdout",
     "output_type": "stream",
     "text": [
      "Loss1: 1.4877, Loss2: 0.5656, Loss3: 1.6898\n"
     ]
    },
    {
     "name": "stderr",
     "output_type": "stream",
     "text": [
      "Test_Loader: 100%|██████████| 288/288 [00:30<00:00,  9.39it/s]\n"
     ]
    },
    {
     "name": "stdout",
     "output_type": "stream",
     "text": [
      "Loss1: 1.5021, Loss2: 0.5719, Loss3: 1.7249\n"
     ]
    },
    {
     "name": "stderr",
     "output_type": "stream",
     "text": [
      "Test_Loader: 100%|██████████| 288/288 [00:32<00:00,  8.97it/s]\n"
     ]
    },
    {
     "name": "stdout",
     "output_type": "stream",
     "text": [
      "Loss1: 1.4740, Loss2: 0.5642, Loss3: 1.6672\n"
     ]
    },
    {
     "name": "stderr",
     "output_type": "stream",
     "text": [
      "Test_Loader: 100%|██████████| 288/288 [00:31<00:00,  9.12it/s]\n"
     ]
    },
    {
     "name": "stdout",
     "output_type": "stream",
     "text": [
      "Loss1: 1.4618, Loss2: 0.5625, Loss3: 1.6473\n"
     ]
    },
    {
     "name": "stderr",
     "output_type": "stream",
     "text": [
      "Test_Loader: 100%|██████████| 288/288 [00:30<00:00,  9.38it/s]\n"
     ]
    },
    {
     "name": "stdout",
     "output_type": "stream",
     "text": [
      "Loss1: 1.4542, Loss2: 0.5557, Loss3: 1.6390\n"
     ]
    },
    {
     "name": "stderr",
     "output_type": "stream",
     "text": [
      "Test_Loader: 100%|██████████| 288/288 [00:29<00:00,  9.64it/s]\n"
     ]
    },
    {
     "name": "stdout",
     "output_type": "stream",
     "text": [
      "Loss1: 1.4946, Loss2: 0.5672, Loss3: 1.6799\n"
     ]
    },
    {
     "name": "stderr",
     "output_type": "stream",
     "text": [
      "Test_Loader: 100%|██████████| 288/288 [00:29<00:00,  9.64it/s]\n"
     ]
    },
    {
     "name": "stdout",
     "output_type": "stream",
     "text": [
      "Loss1: 1.4880, Loss2: 0.5569, Loss3: 1.6586\n"
     ]
    },
    {
     "name": "stderr",
     "output_type": "stream",
     "text": [
      "Test_Loader: 100%|██████████| 288/288 [00:30<00:00,  9.59it/s]\n"
     ]
    },
    {
     "name": "stdout",
     "output_type": "stream",
     "text": [
      "Loss1: 1.4758, Loss2: 0.5483, Loss3: 1.6528\n"
     ]
    },
    {
     "name": "stderr",
     "output_type": "stream",
     "text": [
      "Test_Loader: 100%|██████████| 288/288 [00:31<00:00,  9.00it/s]\n"
     ]
    },
    {
     "name": "stdout",
     "output_type": "stream",
     "text": [
      "Loss1: 1.4664, Loss2: 0.5564, Loss3: 1.6390\n"
     ]
    },
    {
     "name": "stderr",
     "output_type": "stream",
     "text": [
      "Test_Loader: 100%|██████████| 288/288 [00:30<00:00,  9.37it/s]\n"
     ]
    },
    {
     "name": "stdout",
     "output_type": "stream",
     "text": [
      "Loss1: 1.4779, Loss2: 0.5472, Loss3: 1.6180\n"
     ]
    },
    {
     "name": "stderr",
     "output_type": "stream",
     "text": [
      "Test_Loader: 100%|██████████| 288/288 [00:29<00:00,  9.86it/s]\n"
     ]
    },
    {
     "name": "stdout",
     "output_type": "stream",
     "text": [
      "Loss1: 1.4600, Loss2: 0.5473, Loss3: 1.5797\n"
     ]
    },
    {
     "name": "stderr",
     "output_type": "stream",
     "text": [
      "Test_Loader: 100%|██████████| 288/288 [00:29<00:00,  9.83it/s]\n"
     ]
    },
    {
     "name": "stdout",
     "output_type": "stream",
     "text": [
      "Loss1: 1.4545, Loss2: 0.5415, Loss3: 1.5827\n"
     ]
    },
    {
     "name": "stderr",
     "output_type": "stream",
     "text": [
      "Test_Loader: 100%|██████████| 288/288 [00:29<00:00,  9.69it/s]\n"
     ]
    },
    {
     "name": "stdout",
     "output_type": "stream",
     "text": [
      "Loss1: 1.4702, Loss2: 0.5470, Loss3: 1.5925\n"
     ]
    },
    {
     "name": "stderr",
     "output_type": "stream",
     "text": [
      "Test_Loader: 100%|██████████| 288/288 [00:29<00:00,  9.68it/s]\n"
     ]
    },
    {
     "name": "stdout",
     "output_type": "stream",
     "text": [
      "Loss1: 1.4120, Loss2: 0.5181, Loss3: 1.5526\n"
     ]
    },
    {
     "name": "stderr",
     "output_type": "stream",
     "text": [
      "Test_Loader: 100%|██████████| 288/288 [00:29<00:00,  9.67it/s]\n"
     ]
    },
    {
     "name": "stdout",
     "output_type": "stream",
     "text": [
      "Loss1: 1.3544, Loss2: 0.5072, Loss3: 1.5034\n"
     ]
    },
    {
     "name": "stderr",
     "output_type": "stream",
     "text": [
      "Test_Loader: 100%|██████████| 288/288 [00:29<00:00,  9.68it/s]\n"
     ]
    },
    {
     "name": "stdout",
     "output_type": "stream",
     "text": [
      "Loss1: 1.3576, Loss2: 0.5165, Loss3: 1.4909\n"
     ]
    },
    {
     "name": "stderr",
     "output_type": "stream",
     "text": [
      "Test_Loader: 100%|██████████| 288/288 [00:29<00:00,  9.68it/s]\n"
     ]
    },
    {
     "name": "stdout",
     "output_type": "stream",
     "text": [
      "Loss1: 1.3685, Loss2: 0.5204, Loss3: 1.4806\n"
     ]
    },
    {
     "name": "stderr",
     "output_type": "stream",
     "text": [
      "Test_Loader: 100%|██████████| 288/288 [00:29<00:00,  9.80it/s]\n"
     ]
    },
    {
     "name": "stdout",
     "output_type": "stream",
     "text": [
      "Loss1: 1.3591, Loss2: 0.5091, Loss3: 1.4680\n"
     ]
    },
    {
     "name": "stderr",
     "output_type": "stream",
     "text": [
      "Test_Loader: 100%|██████████| 288/288 [00:30<00:00,  9.44it/s]\n"
     ]
    },
    {
     "name": "stdout",
     "output_type": "stream",
     "text": [
      "Loss1: 1.3763, Loss2: 0.5115, Loss3: 1.4640\n"
     ]
    },
    {
     "name": "stderr",
     "output_type": "stream",
     "text": [
      "Test_Loader: 100%|██████████| 288/288 [00:30<00:00,  9.48it/s]\n"
     ]
    },
    {
     "name": "stdout",
     "output_type": "stream",
     "text": [
      "Loss1: 1.3544, Loss2: 0.5047, Loss3: 1.4662\n"
     ]
    },
    {
     "name": "stderr",
     "output_type": "stream",
     "text": [
      "Test_Loader: 100%|██████████| 288/288 [00:31<00:00,  9.19it/s]\n"
     ]
    },
    {
     "name": "stdout",
     "output_type": "stream",
     "text": [
      "Loss1: 1.2506, Loss2: 0.4742, Loss3: 1.3850\n"
     ]
    },
    {
     "name": "stderr",
     "output_type": "stream",
     "text": [
      "Test_Loader: 100%|██████████| 288/288 [00:32<00:00,  8.96it/s]\n"
     ]
    },
    {
     "name": "stdout",
     "output_type": "stream",
     "text": [
      "Loss1: 1.2612, Loss2: 0.4653, Loss3: 1.3672\n"
     ]
    },
    {
     "name": "stderr",
     "output_type": "stream",
     "text": [
      "Test_Loader: 100%|██████████| 288/288 [00:29<00:00,  9.62it/s]\n"
     ]
    },
    {
     "name": "stdout",
     "output_type": "stream",
     "text": [
      "Loss1: 1.2470, Loss2: 0.4583, Loss3: 1.3807\n"
     ]
    },
    {
     "name": "stderr",
     "output_type": "stream",
     "text": [
      "Test_Loader: 100%|██████████| 288/288 [00:29<00:00,  9.72it/s]\n"
     ]
    },
    {
     "name": "stdout",
     "output_type": "stream",
     "text": [
      "Loss1: 1.2397, Loss2: 0.4569, Loss3: 1.3754\n"
     ]
    },
    {
     "name": "stderr",
     "output_type": "stream",
     "text": [
      "Test_Loader: 100%|██████████| 288/288 [00:30<00:00,  9.56it/s]\n"
     ]
    },
    {
     "name": "stdout",
     "output_type": "stream",
     "text": [
      "Loss1: 1.2312, Loss2: 0.4490, Loss3: 1.3479\n"
     ]
    },
    {
     "name": "stderr",
     "output_type": "stream",
     "text": [
      "Test_Loader: 100%|██████████| 288/288 [00:30<00:00,  9.46it/s]\n"
     ]
    },
    {
     "name": "stdout",
     "output_type": "stream",
     "text": [
      "Loss1: 1.2377, Loss2: 0.4460, Loss3: 1.4389\n"
     ]
    },
    {
     "name": "stderr",
     "output_type": "stream",
     "text": [
      "Test_Loader: 100%|██████████| 288/288 [00:30<00:00,  9.52it/s]\n"
     ]
    },
    {
     "name": "stdout",
     "output_type": "stream",
     "text": [
      "Loss1: 1.2781, Loss2: 0.4540, Loss3: 1.4237\n"
     ]
    },
    {
     "name": "stderr",
     "output_type": "stream",
     "text": [
      "Test_Loader: 100%|██████████| 288/288 [00:30<00:00,  9.32it/s]\n"
     ]
    },
    {
     "name": "stdout",
     "output_type": "stream",
     "text": [
      "Loss1: 1.2497, Loss2: 0.4487, Loss3: 1.3972\n"
     ]
    },
    {
     "name": "stderr",
     "output_type": "stream",
     "text": [
      "Test_Loader: 100%|██████████| 288/288 [00:30<00:00,  9.32it/s]\n"
     ]
    },
    {
     "name": "stdout",
     "output_type": "stream",
     "text": [
      "Loss1: 1.2910, Loss2: 0.4563, Loss3: 1.3716\n"
     ]
    },
    {
     "name": "stderr",
     "output_type": "stream",
     "text": [
      "Test_Loader: 100%|██████████| 288/288 [00:30<00:00,  9.32it/s]\n"
     ]
    },
    {
     "name": "stdout",
     "output_type": "stream",
     "text": [
      "Loss1: 1.3415, Loss2: 0.4556, Loss3: 1.4007\n"
     ]
    },
    {
     "name": "stderr",
     "output_type": "stream",
     "text": [
      "Test_Loader: 100%|██████████| 288/288 [00:29<00:00,  9.76it/s]\n"
     ]
    },
    {
     "name": "stdout",
     "output_type": "stream",
     "text": [
      "Loss1: 1.3456, Loss2: 0.4543, Loss3: 1.4007\n"
     ]
    },
    {
     "name": "stderr",
     "output_type": "stream",
     "text": [
      "Test_Loader: 100%|██████████| 288/288 [00:29<00:00,  9.87it/s]\n"
     ]
    },
    {
     "name": "stdout",
     "output_type": "stream",
     "text": [
      "Loss1: 1.3396, Loss2: 0.4585, Loss3: 1.3984\n"
     ]
    },
    {
     "name": "stderr",
     "output_type": "stream",
     "text": [
      "Test_Loader: 100%|██████████| 288/288 [00:31<00:00,  9.05it/s]\n"
     ]
    },
    {
     "name": "stdout",
     "output_type": "stream",
     "text": [
      "Loss1: 1.3340, Loss2: 0.4566, Loss3: 1.3967\n"
     ]
    },
    {
     "name": "stderr",
     "output_type": "stream",
     "text": [
      "Test_Loader: 100%|██████████| 288/288 [00:30<00:00,  9.60it/s]\n"
     ]
    },
    {
     "name": "stdout",
     "output_type": "stream",
     "text": [
      "Loss1: 1.3237, Loss2: 0.4609, Loss3: 1.4149\n"
     ]
    },
    {
     "name": "stderr",
     "output_type": "stream",
     "text": [
      "Test_Loader: 100%|██████████| 288/288 [00:28<00:00,  9.96it/s]\n"
     ]
    },
    {
     "name": "stdout",
     "output_type": "stream",
     "text": [
      "Loss1: 1.3387, Loss2: 0.4543, Loss3: 1.4041\n"
     ]
    },
    {
     "name": "stderr",
     "output_type": "stream",
     "text": [
      "Test_Loader: 100%|██████████| 288/288 [00:29<00:00,  9.65it/s]\n"
     ]
    },
    {
     "name": "stdout",
     "output_type": "stream",
     "text": [
      "Loss1: 1.3207, Loss2: 0.4500, Loss3: 1.3969\n"
     ]
    },
    {
     "name": "stderr",
     "output_type": "stream",
     "text": [
      "Test_Loader: 100%|██████████| 288/288 [00:31<00:00,  9.26it/s]\n"
     ]
    },
    {
     "name": "stdout",
     "output_type": "stream",
     "text": [
      "Loss1: 1.3900, Loss2: 0.4949, Loss3: 1.4504\n"
     ]
    },
    {
     "name": "stderr",
     "output_type": "stream",
     "text": [
      "Test_Loader: 100%|██████████| 288/288 [00:29<00:00,  9.86it/s]\n"
     ]
    },
    {
     "name": "stdout",
     "output_type": "stream",
     "text": [
      "Loss1: 1.3803, Loss2: 0.4931, Loss3: 1.4278\n"
     ]
    },
    {
     "name": "stderr",
     "output_type": "stream",
     "text": [
      "Test_Loader: 100%|██████████| 288/288 [00:29<00:00,  9.85it/s]\n"
     ]
    },
    {
     "name": "stdout",
     "output_type": "stream",
     "text": [
      "Loss1: 1.3547, Loss2: 0.4845, Loss3: 1.4049\n"
     ]
    },
    {
     "name": "stderr",
     "output_type": "stream",
     "text": [
      "Test_Loader: 100%|██████████| 288/288 [00:30<00:00,  9.40it/s]\n"
     ]
    },
    {
     "name": "stdout",
     "output_type": "stream",
     "text": [
      "Loss1: 1.3437, Loss2: 0.4854, Loss3: 1.4030\n"
     ]
    },
    {
     "name": "stderr",
     "output_type": "stream",
     "text": [
      "Test_Loader: 100%|██████████| 288/288 [00:30<00:00,  9.53it/s]\n"
     ]
    },
    {
     "name": "stdout",
     "output_type": "stream",
     "text": [
      "Loss1: 1.3666, Loss2: 0.4775, Loss3: 1.4004\n"
     ]
    },
    {
     "name": "stderr",
     "output_type": "stream",
     "text": [
      "Test_Loader: 100%|██████████| 288/288 [00:30<00:00,  9.30it/s]\n"
     ]
    },
    {
     "name": "stdout",
     "output_type": "stream",
     "text": [
      "Loss1: 1.3602, Loss2: 0.4788, Loss3: 1.3832\n"
     ]
    },
    {
     "name": "stderr",
     "output_type": "stream",
     "text": [
      "Test_Loader: 100%|██████████| 288/288 [00:29<00:00,  9.74it/s]\n"
     ]
    },
    {
     "name": "stdout",
     "output_type": "stream",
     "text": [
      "Loss1: 1.3559, Loss2: 0.4718, Loss3: 1.4070\n"
     ]
    },
    {
     "name": "stderr",
     "output_type": "stream",
     "text": [
      "Test_Loader: 100%|██████████| 288/288 [00:28<00:00,  9.97it/s]\n"
     ]
    },
    {
     "name": "stdout",
     "output_type": "stream",
     "text": [
      "Loss1: 1.4613, Loss2: 0.4998, Loss3: 1.5769\n"
     ]
    },
    {
     "name": "stderr",
     "output_type": "stream",
     "text": [
      "Test_Loader: 100%|██████████| 288/288 [00:33<00:00,  8.70it/s]\n"
     ]
    },
    {
     "name": "stdout",
     "output_type": "stream",
     "text": [
      "Loss1: 1.4634, Loss2: 0.4964, Loss3: 1.5741\n"
     ]
    },
    {
     "name": "stderr",
     "output_type": "stream",
     "text": [
      "Test_Loader: 100%|██████████| 288/288 [00:30<00:00,  9.35it/s]\n"
     ]
    },
    {
     "name": "stdout",
     "output_type": "stream",
     "text": [
      "Loss1: 1.4362, Loss2: 0.4894, Loss3: 1.5428\n"
     ]
    },
    {
     "name": "stderr",
     "output_type": "stream",
     "text": [
      "Test_Loader: 100%|██████████| 288/288 [00:28<00:00, 10.04it/s]\n"
     ]
    },
    {
     "name": "stdout",
     "output_type": "stream",
     "text": [
      "Loss1: 1.4535, Loss2: 0.4986, Loss3: 1.5389\n"
     ]
    },
    {
     "name": "stderr",
     "output_type": "stream",
     "text": [
      "Test_Loader: 100%|██████████| 288/288 [00:29<00:00,  9.64it/s]\n"
     ]
    },
    {
     "name": "stdout",
     "output_type": "stream",
     "text": [
      "Loss1: 1.4388, Loss2: 0.4930, Loss3: 1.5244\n"
     ]
    },
    {
     "name": "stderr",
     "output_type": "stream",
     "text": [
      "Test_Loader: 100%|██████████| 288/288 [00:30<00:00,  9.55it/s]\n"
     ]
    },
    {
     "name": "stdout",
     "output_type": "stream",
     "text": [
      "Loss1: 1.4064, Loss2: 0.4867, Loss3: 1.4939\n"
     ]
    },
    {
     "name": "stderr",
     "output_type": "stream",
     "text": [
      "Test_Loader: 100%|██████████| 288/288 [00:29<00:00,  9.73it/s]\n"
     ]
    },
    {
     "name": "stdout",
     "output_type": "stream",
     "text": [
      "Loss1: 1.3999, Loss2: 0.4874, Loss3: 1.4713\n"
     ]
    },
    {
     "name": "stderr",
     "output_type": "stream",
     "text": [
      "Test_Loader: 100%|██████████| 288/288 [00:30<00:00,  9.45it/s]\n"
     ]
    },
    {
     "name": "stdout",
     "output_type": "stream",
     "text": [
      "Loss1: 1.3573, Loss2: 0.4863, Loss3: 1.4565\n"
     ]
    },
    {
     "name": "stderr",
     "output_type": "stream",
     "text": [
      "Test_Loader: 100%|██████████| 288/288 [00:30<00:00,  9.59it/s]\n"
     ]
    },
    {
     "name": "stdout",
     "output_type": "stream",
     "text": [
      "Loss1: 1.3526, Loss2: 0.4879, Loss3: 1.4583\n"
     ]
    },
    {
     "name": "stderr",
     "output_type": "stream",
     "text": [
      "Test_Loader: 100%|██████████| 288/288 [00:30<00:00,  9.40it/s]\n"
     ]
    },
    {
     "name": "stdout",
     "output_type": "stream",
     "text": [
      "Loss1: 1.3542, Loss2: 0.4850, Loss3: 1.4461\n"
     ]
    },
    {
     "name": "stderr",
     "output_type": "stream",
     "text": [
      "Test_Loader: 100%|██████████| 288/288 [00:30<00:00,  9.54it/s]\n"
     ]
    },
    {
     "name": "stdout",
     "output_type": "stream",
     "text": [
      "Loss1: 1.3480, Loss2: 0.4842, Loss3: 1.4372\n"
     ]
    },
    {
     "name": "stderr",
     "output_type": "stream",
     "text": [
      "Test_Loader: 100%|██████████| 288/288 [00:29<00:00,  9.63it/s]\n"
     ]
    },
    {
     "name": "stdout",
     "output_type": "stream",
     "text": [
      "Loss1: 1.3328, Loss2: 0.4777, Loss3: 1.4154\n"
     ]
    },
    {
     "name": "stderr",
     "output_type": "stream",
     "text": [
      "Test_Loader: 100%|██████████| 288/288 [00:29<00:00,  9.61it/s]\n"
     ]
    },
    {
     "name": "stdout",
     "output_type": "stream",
     "text": [
      "Loss1: 1.3341, Loss2: 0.4751, Loss3: 1.4286\n"
     ]
    },
    {
     "name": "stderr",
     "output_type": "stream",
     "text": [
      "Test_Loader: 100%|██████████| 288/288 [00:32<00:00,  8.75it/s]\n"
     ]
    },
    {
     "name": "stdout",
     "output_type": "stream",
     "text": [
      "Loss1: 1.3337, Loss2: 0.4867, Loss3: 1.4150\n"
     ]
    },
    {
     "name": "stderr",
     "output_type": "stream",
     "text": [
      "Test_Loader: 100%|██████████| 288/288 [00:31<00:00,  9.25it/s]\n"
     ]
    },
    {
     "name": "stdout",
     "output_type": "stream",
     "text": [
      "Loss1: 1.3547, Loss2: 0.4866, Loss3: 1.4094\n"
     ]
    },
    {
     "name": "stderr",
     "output_type": "stream",
     "text": [
      "Test_Loader: 100%|██████████| 288/288 [00:29<00:00,  9.86it/s]\n"
     ]
    },
    {
     "name": "stdout",
     "output_type": "stream",
     "text": [
      "Loss1: 1.3446, Loss2: 0.4813, Loss3: 1.3981\n"
     ]
    },
    {
     "name": "stderr",
     "output_type": "stream",
     "text": [
      "Test_Loader: 100%|██████████| 288/288 [00:28<00:00,  9.94it/s]\n"
     ]
    },
    {
     "name": "stdout",
     "output_type": "stream",
     "text": [
      "Loss1: 1.3303, Loss2: 0.4813, Loss3: 1.3979\n"
     ]
    },
    {
     "name": "stderr",
     "output_type": "stream",
     "text": [
      "Test_Loader: 100%|██████████| 288/288 [00:28<00:00, 10.15it/s]\n"
     ]
    },
    {
     "name": "stdout",
     "output_type": "stream",
     "text": [
      "Loss1: 1.3167, Loss2: 0.4879, Loss3: 1.3753\n"
     ]
    },
    {
     "name": "stderr",
     "output_type": "stream",
     "text": [
      "Test_Loader: 100%|██████████| 288/288 [00:29<00:00,  9.86it/s]\n"
     ]
    },
    {
     "name": "stdout",
     "output_type": "stream",
     "text": [
      "Loss1: 1.3104, Loss2: 0.4919, Loss3: 1.3743\n"
     ]
    },
    {
     "name": "stderr",
     "output_type": "stream",
     "text": [
      "Test_Loader: 100%|██████████| 288/288 [00:29<00:00,  9.64it/s]\n"
     ]
    },
    {
     "name": "stdout",
     "output_type": "stream",
     "text": [
      "Loss1: 1.3202, Loss2: 0.4942, Loss3: 1.3678\n"
     ]
    },
    {
     "name": "stderr",
     "output_type": "stream",
     "text": [
      "Test_Loader: 100%|██████████| 288/288 [00:30<00:00,  9.51it/s]\n"
     ]
    },
    {
     "name": "stdout",
     "output_type": "stream",
     "text": [
      "Loss1: 1.3088, Loss2: 0.4899, Loss3: 1.3435\n"
     ]
    },
    {
     "name": "stderr",
     "output_type": "stream",
     "text": [
      "Test_Loader: 100%|██████████| 288/288 [00:30<00:00,  9.49it/s]\n"
     ]
    },
    {
     "name": "stdout",
     "output_type": "stream",
     "text": [
      "Loss1: 1.2891, Loss2: 0.4918, Loss3: 1.3435\n"
     ]
    },
    {
     "name": "stderr",
     "output_type": "stream",
     "text": [
      "Test_Loader: 100%|██████████| 288/288 [00:31<00:00,  9.28it/s]\n"
     ]
    },
    {
     "name": "stdout",
     "output_type": "stream",
     "text": [
      "Loss1: 1.2245, Loss2: 0.4818, Loss3: 1.2955\n"
     ]
    },
    {
     "name": "stderr",
     "output_type": "stream",
     "text": [
      "Test_Loader: 100%|██████████| 288/288 [00:28<00:00,  9.99it/s]\n"
     ]
    },
    {
     "name": "stdout",
     "output_type": "stream",
     "text": [
      "Loss1: 1.2093, Loss2: 0.4745, Loss3: 1.2832\n"
     ]
    },
    {
     "name": "stderr",
     "output_type": "stream",
     "text": [
      "Test_Loader: 100%|██████████| 288/288 [00:29<00:00,  9.88it/s]\n"
     ]
    },
    {
     "name": "stdout",
     "output_type": "stream",
     "text": [
      "Loss1: 1.2154, Loss2: 0.4769, Loss3: 1.2799\n"
     ]
    },
    {
     "name": "stderr",
     "output_type": "stream",
     "text": [
      "Test_Loader: 100%|██████████| 288/288 [00:32<00:00,  8.77it/s]\n"
     ]
    },
    {
     "name": "stdout",
     "output_type": "stream",
     "text": [
      "Loss1: 1.0715, Loss2: 0.4237, Loss3: 1.1706\n"
     ]
    },
    {
     "name": "stderr",
     "output_type": "stream",
     "text": [
      "Test_Loader: 100%|██████████| 288/288 [00:30<00:00,  9.58it/s]\n"
     ]
    },
    {
     "name": "stdout",
     "output_type": "stream",
     "text": [
      "Loss1: 1.0555, Loss2: 0.4288, Loss3: 1.1634\n"
     ]
    },
    {
     "name": "stderr",
     "output_type": "stream",
     "text": [
      "Test_Loader: 100%|██████████| 288/288 [00:29<00:00,  9.88it/s]\n"
     ]
    },
    {
     "name": "stdout",
     "output_type": "stream",
     "text": [
      "Loss1: 1.0494, Loss2: 0.4248, Loss3: 1.1632\n"
     ]
    },
    {
     "name": "stderr",
     "output_type": "stream",
     "text": [
      "Test_Loader: 100%|██████████| 288/288 [00:29<00:00,  9.83it/s]\n"
     ]
    },
    {
     "name": "stdout",
     "output_type": "stream",
     "text": [
      "Loss1: 1.0491, Loss2: 0.4195, Loss3: 1.1394\n"
     ]
    },
    {
     "name": "stderr",
     "output_type": "stream",
     "text": [
      "Test_Loader: 100%|██████████| 288/288 [00:29<00:00,  9.77it/s]\n"
     ]
    },
    {
     "name": "stdout",
     "output_type": "stream",
     "text": [
      "Loss1: 1.0601, Loss2: 0.4205, Loss3: 1.1692\n"
     ]
    },
    {
     "name": "stderr",
     "output_type": "stream",
     "text": [
      "Test_Loader: 100%|██████████| 288/288 [00:29<00:00,  9.73it/s]\n"
     ]
    },
    {
     "name": "stdout",
     "output_type": "stream",
     "text": [
      "Loss1: 1.0564, Loss2: 0.4190, Loss3: 1.1943\n"
     ]
    },
    {
     "name": "stderr",
     "output_type": "stream",
     "text": [
      "Test_Loader: 100%|██████████| 288/288 [00:30<00:00,  9.51it/s]\n"
     ]
    },
    {
     "name": "stdout",
     "output_type": "stream",
     "text": [
      "Loss1: 1.0361, Loss2: 0.4247, Loss3: 1.2009\n"
     ]
    },
    {
     "name": "stderr",
     "output_type": "stream",
     "text": [
      "Test_Loader: 100%|██████████| 288/288 [00:30<00:00,  9.49it/s]\n"
     ]
    },
    {
     "name": "stdout",
     "output_type": "stream",
     "text": [
      "Loss1: 1.0332, Loss2: 0.4233, Loss3: 1.1707\n"
     ]
    },
    {
     "name": "stderr",
     "output_type": "stream",
     "text": [
      "Test_Loader: 100%|██████████| 288/288 [00:30<00:00,  9.52it/s]\n"
     ]
    },
    {
     "name": "stdout",
     "output_type": "stream",
     "text": [
      "Loss1: 1.0237, Loss2: 0.4168, Loss3: 1.1754\n"
     ]
    },
    {
     "name": "stderr",
     "output_type": "stream",
     "text": [
      "Test_Loader: 100%|██████████| 288/288 [00:29<00:00,  9.69it/s]\n"
     ]
    },
    {
     "name": "stdout",
     "output_type": "stream",
     "text": [
      "Loss1: 1.0231, Loss2: 0.4184, Loss3: 1.1643\n"
     ]
    },
    {
     "name": "stderr",
     "output_type": "stream",
     "text": [
      "Test_Loader: 100%|██████████| 288/288 [00:31<00:00,  9.16it/s]\n"
     ]
    },
    {
     "name": "stdout",
     "output_type": "stream",
     "text": [
      "Loss1: 1.0282, Loss2: 0.4219, Loss3: 1.2002\n"
     ]
    },
    {
     "name": "stderr",
     "output_type": "stream",
     "text": [
      "Test_Loader: 100%|██████████| 288/288 [00:31<00:00,  9.19it/s]\n"
     ]
    },
    {
     "name": "stdout",
     "output_type": "stream",
     "text": [
      "Loss1: 1.0192, Loss2: 0.4216, Loss3: 1.1884\n"
     ]
    },
    {
     "name": "stderr",
     "output_type": "stream",
     "text": [
      "Test_Loader: 100%|██████████| 288/288 [00:30<00:00,  9.34it/s]\n"
     ]
    },
    {
     "name": "stdout",
     "output_type": "stream",
     "text": [
      "Loss1: 1.0108, Loss2: 0.4183, Loss3: 1.1898\n"
     ]
    },
    {
     "name": "stderr",
     "output_type": "stream",
     "text": [
      "Test_Loader: 100%|██████████| 288/288 [00:29<00:00,  9.74it/s]\n"
     ]
    },
    {
     "name": "stdout",
     "output_type": "stream",
     "text": [
      "Loss1: 1.0005, Loss2: 0.4025, Loss3: 1.1748\n"
     ]
    },
    {
     "name": "stderr",
     "output_type": "stream",
     "text": [
      "Test_Loader: 100%|██████████| 288/288 [00:28<00:00, 10.18it/s]\n"
     ]
    },
    {
     "name": "stdout",
     "output_type": "stream",
     "text": [
      "Loss1: 0.9996, Loss2: 0.3930, Loss3: 1.1817\n"
     ]
    },
    {
     "name": "stderr",
     "output_type": "stream",
     "text": [
      "Test_Loader: 100%|██████████| 288/288 [00:27<00:00, 10.43it/s]\n"
     ]
    },
    {
     "name": "stdout",
     "output_type": "stream",
     "text": [
      "Loss1: 0.9945, Loss2: 0.3976, Loss3: 1.1843\n"
     ]
    },
    {
     "name": "stderr",
     "output_type": "stream",
     "text": [
      "Test_Loader: 100%|██████████| 288/288 [00:28<00:00, 10.25it/s]\n"
     ]
    },
    {
     "name": "stdout",
     "output_type": "stream",
     "text": [
      "Loss1: 0.9841, Loss2: 0.3975, Loss3: 1.1871\n"
     ]
    },
    {
     "name": "stderr",
     "output_type": "stream",
     "text": [
      "Test_Loader: 100%|██████████| 288/288 [00:29<00:00,  9.80it/s]\n"
     ]
    },
    {
     "name": "stdout",
     "output_type": "stream",
     "text": [
      "Loss1: 0.9304, Loss2: 0.3940, Loss3: 1.1509\n"
     ]
    },
    {
     "name": "stderr",
     "output_type": "stream",
     "text": [
      "Test_Loader: 100%|██████████| 288/288 [00:29<00:00,  9.67it/s]\n"
     ]
    },
    {
     "name": "stdout",
     "output_type": "stream",
     "text": [
      "Loss1: 0.9508, Loss2: 0.3846, Loss3: 1.1580\n"
     ]
    },
    {
     "name": "stderr",
     "output_type": "stream",
     "text": [
      "Test_Loader: 100%|██████████| 288/288 [00:30<00:00,  9.41it/s]\n"
     ]
    },
    {
     "name": "stdout",
     "output_type": "stream",
     "text": [
      "Loss1: 0.9564, Loss2: 0.3878, Loss3: 1.1697\n"
     ]
    },
    {
     "name": "stderr",
     "output_type": "stream",
     "text": [
      "Test_Loader: 100%|██████████| 288/288 [00:30<00:00,  9.35it/s]\n"
     ]
    },
    {
     "name": "stdout",
     "output_type": "stream",
     "text": [
      "Loss1: 0.9329, Loss2: 0.3891, Loss3: 1.1632\n"
     ]
    },
    {
     "name": "stderr",
     "output_type": "stream",
     "text": [
      "Test_Loader: 100%|██████████| 288/288 [00:30<00:00,  9.57it/s]\n"
     ]
    },
    {
     "name": "stdout",
     "output_type": "stream",
     "text": [
      "Loss1: 0.9349, Loss2: 0.3884, Loss3: 1.1471\n"
     ]
    },
    {
     "name": "stderr",
     "output_type": "stream",
     "text": [
      "Test_Loader: 100%|██████████| 288/288 [00:29<00:00,  9.67it/s]\n"
     ]
    },
    {
     "name": "stdout",
     "output_type": "stream",
     "text": [
      "Loss1: 0.9105, Loss2: 0.3847, Loss3: 1.1362\n"
     ]
    },
    {
     "name": "stderr",
     "output_type": "stream",
     "text": [
      "Test_Loader: 100%|██████████| 288/288 [00:28<00:00,  9.99it/s]\n"
     ]
    },
    {
     "name": "stdout",
     "output_type": "stream",
     "text": [
      "Loss1: 0.8793, Loss2: 0.3810, Loss3: 1.1058\n"
     ]
    },
    {
     "name": "stderr",
     "output_type": "stream",
     "text": [
      "Test_Loader: 100%|██████████| 288/288 [00:28<00:00, 10.20it/s]\n"
     ]
    },
    {
     "name": "stdout",
     "output_type": "stream",
     "text": [
      "Loss1: 1.1736, Loss2: 0.4451, Loss3: 1.1366\n"
     ]
    },
    {
     "name": "stderr",
     "output_type": "stream",
     "text": [
      "Test_Loader: 100%|██████████| 288/288 [00:29<00:00,  9.72it/s]\n"
     ]
    },
    {
     "name": "stdout",
     "output_type": "stream",
     "text": [
      "Loss1: 1.1157, Loss2: 0.4268, Loss3: 1.1349\n"
     ]
    },
    {
     "name": "stderr",
     "output_type": "stream",
     "text": [
      "Test_Loader: 100%|██████████| 288/288 [00:28<00:00, 10.00it/s]\n"
     ]
    },
    {
     "name": "stdout",
     "output_type": "stream",
     "text": [
      "Loss1: 1.1024, Loss2: 0.4328, Loss3: 1.1226\n"
     ]
    },
    {
     "name": "stderr",
     "output_type": "stream",
     "text": [
      "Test_Loader: 100%|██████████| 288/288 [00:28<00:00, 10.23it/s]\n"
     ]
    },
    {
     "name": "stdout",
     "output_type": "stream",
     "text": [
      "Loss1: 1.0995, Loss2: 0.4305, Loss3: 1.1400\n"
     ]
    },
    {
     "name": "stderr",
     "output_type": "stream",
     "text": [
      "Test_Loader: 100%|██████████| 288/288 [00:28<00:00, 10.24it/s]\n"
     ]
    },
    {
     "name": "stdout",
     "output_type": "stream",
     "text": [
      "Loss1: 1.0619, Loss2: 0.4231, Loss3: 1.1284\n"
     ]
    },
    {
     "name": "stderr",
     "output_type": "stream",
     "text": [
      "Test_Loader: 100%|██████████| 288/288 [00:29<00:00,  9.69it/s]\n"
     ]
    },
    {
     "name": "stdout",
     "output_type": "stream",
     "text": [
      "Loss1: 1.0472, Loss2: 0.4256, Loss3: 1.1394\n"
     ]
    },
    {
     "name": "stderr",
     "output_type": "stream",
     "text": [
      "Test_Loader: 100%|██████████| 288/288 [00:28<00:00, 10.11it/s]\n"
     ]
    },
    {
     "name": "stdout",
     "output_type": "stream",
     "text": [
      "Loss1: 1.0343, Loss2: 0.4213, Loss3: 1.1242\n"
     ]
    },
    {
     "name": "stderr",
     "output_type": "stream",
     "text": [
      "Test_Loader: 100%|██████████| 288/288 [00:29<00:00,  9.73it/s]\n"
     ]
    },
    {
     "name": "stdout",
     "output_type": "stream",
     "text": [
      "Loss1: 1.0262, Loss2: 0.4185, Loss3: 1.1228\n"
     ]
    },
    {
     "name": "stderr",
     "output_type": "stream",
     "text": [
      "Test_Loader: 100%|██████████| 288/288 [00:30<00:00,  9.46it/s]\n"
     ]
    },
    {
     "name": "stdout",
     "output_type": "stream",
     "text": [
      "Loss1: 1.0061, Loss2: 0.4163, Loss3: 1.1176\n"
     ]
    },
    {
     "name": "stderr",
     "output_type": "stream",
     "text": [
      "Test_Loader: 100%|██████████| 288/288 [00:29<00:00,  9.83it/s]\n"
     ]
    },
    {
     "name": "stdout",
     "output_type": "stream",
     "text": [
      "Loss1: 0.9810, Loss2: 0.4072, Loss3: 1.0819\n"
     ]
    },
    {
     "name": "stderr",
     "output_type": "stream",
     "text": [
      "Test_Loader: 100%|██████████| 288/288 [00:29<00:00,  9.78it/s]\n"
     ]
    },
    {
     "name": "stdout",
     "output_type": "stream",
     "text": [
      "Loss1: 0.9527, Loss2: 0.4057, Loss3: 1.0720\n"
     ]
    },
    {
     "name": "stderr",
     "output_type": "stream",
     "text": [
      "Test_Loader: 100%|██████████| 288/288 [00:29<00:00,  9.84it/s]\n"
     ]
    },
    {
     "name": "stdout",
     "output_type": "stream",
     "text": [
      "Loss1: 0.9430, Loss2: 0.4026, Loss3: 1.0589\n"
     ]
    },
    {
     "name": "stderr",
     "output_type": "stream",
     "text": [
      "Test_Loader: 100%|██████████| 288/288 [00:30<00:00,  9.47it/s]\n"
     ]
    },
    {
     "name": "stdout",
     "output_type": "stream",
     "text": [
      "Loss1: 0.9462, Loss2: 0.4043, Loss3: 1.0807\n"
     ]
    },
    {
     "name": "stderr",
     "output_type": "stream",
     "text": [
      "Test_Loader: 100%|██████████| 288/288 [00:32<00:00,  8.74it/s]\n"
     ]
    },
    {
     "name": "stdout",
     "output_type": "stream",
     "text": [
      "Loss1: 0.9398, Loss2: 0.4042, Loss3: 1.0586\n"
     ]
    },
    {
     "name": "stderr",
     "output_type": "stream",
     "text": [
      "Test_Loader: 100%|██████████| 288/288 [00:29<00:00,  9.85it/s]\n"
     ]
    },
    {
     "name": "stdout",
     "output_type": "stream",
     "text": [
      "Loss1: 0.9514, Loss2: 0.4039, Loss3: 1.0669\n"
     ]
    },
    {
     "name": "stderr",
     "output_type": "stream",
     "text": [
      "Test_Loader: 100%|██████████| 288/288 [00:29<00:00,  9.81it/s]\n"
     ]
    },
    {
     "name": "stdout",
     "output_type": "stream",
     "text": [
      "Loss1: 0.9869, Loss2: 0.4158, Loss3: 1.0753\n"
     ]
    },
    {
     "name": "stderr",
     "output_type": "stream",
     "text": [
      "Test_Loader: 100%|██████████| 288/288 [00:28<00:00, 10.19it/s]\n"
     ]
    },
    {
     "name": "stdout",
     "output_type": "stream",
     "text": [
      "Loss1: 0.9717, Loss2: 0.4134, Loss3: 1.0829\n"
     ]
    },
    {
     "name": "stderr",
     "output_type": "stream",
     "text": [
      "Test_Loader: 100%|██████████| 288/288 [00:28<00:00, 10.12it/s]\n"
     ]
    },
    {
     "name": "stdout",
     "output_type": "stream",
     "text": [
      "Loss1: 1.0247, Loss2: 0.4368, Loss3: 1.1241\n"
     ]
    },
    {
     "name": "stderr",
     "output_type": "stream",
     "text": [
      "Test_Loader: 100%|██████████| 288/288 [00:29<00:00,  9.63it/s]\n"
     ]
    },
    {
     "name": "stdout",
     "output_type": "stream",
     "text": [
      "Loss1: 1.0187, Loss2: 0.4341, Loss3: 1.1145\n"
     ]
    },
    {
     "name": "stderr",
     "output_type": "stream",
     "text": [
      "Test_Loader: 100%|██████████| 288/288 [00:30<00:00,  9.46it/s]\n"
     ]
    },
    {
     "name": "stdout",
     "output_type": "stream",
     "text": [
      "Loss1: 1.0129, Loss2: 0.4241, Loss3: 1.1272\n"
     ]
    },
    {
     "name": "stderr",
     "output_type": "stream",
     "text": [
      "Test_Loader: 100%|██████████| 288/288 [00:29<00:00,  9.87it/s]\n"
     ]
    },
    {
     "name": "stdout",
     "output_type": "stream",
     "text": [
      "Loss1: 1.0429, Loss2: 0.4292, Loss3: 1.1474\n"
     ]
    },
    {
     "name": "stderr",
     "output_type": "stream",
     "text": [
      "Test_Loader: 100%|██████████| 288/288 [00:29<00:00,  9.83it/s]\n"
     ]
    },
    {
     "name": "stdout",
     "output_type": "stream",
     "text": [
      "Loss1: 1.0532, Loss2: 0.4336, Loss3: 1.1427\n"
     ]
    },
    {
     "name": "stderr",
     "output_type": "stream",
     "text": [
      "Test_Loader: 100%|██████████| 288/288 [00:29<00:00,  9.82it/s]\n"
     ]
    },
    {
     "name": "stdout",
     "output_type": "stream",
     "text": [
      "Loss1: 1.0369, Loss2: 0.4418, Loss3: 1.1830\n"
     ]
    },
    {
     "name": "stderr",
     "output_type": "stream",
     "text": [
      "Test_Loader: 100%|██████████| 288/288 [00:29<00:00,  9.78it/s]\n"
     ]
    },
    {
     "name": "stdout",
     "output_type": "stream",
     "text": [
      "Loss1: 1.0227, Loss2: 0.4391, Loss3: 1.1944\n"
     ]
    },
    {
     "name": "stderr",
     "output_type": "stream",
     "text": [
      "Test_Loader: 100%|██████████| 288/288 [00:30<00:00,  9.46it/s]\n"
     ]
    },
    {
     "name": "stdout",
     "output_type": "stream",
     "text": [
      "Loss1: 1.0254, Loss2: 0.4280, Loss3: 1.1833\n"
     ]
    },
    {
     "name": "stderr",
     "output_type": "stream",
     "text": [
      "Test_Loader: 100%|██████████| 288/288 [00:32<00:00,  8.82it/s]\n"
     ]
    },
    {
     "name": "stdout",
     "output_type": "stream",
     "text": [
      "Loss1: 1.0248, Loss2: 0.4346, Loss3: 1.1961\n"
     ]
    },
    {
     "name": "stderr",
     "output_type": "stream",
     "text": [
      "Test_Loader: 100%|██████████| 288/288 [00:30<00:00,  9.54it/s]\n"
     ]
    },
    {
     "name": "stdout",
     "output_type": "stream",
     "text": [
      "Loss1: 1.0221, Loss2: 0.4261, Loss3: 1.1709\n"
     ]
    },
    {
     "name": "stderr",
     "output_type": "stream",
     "text": [
      "Test_Loader: 100%|██████████| 288/288 [00:28<00:00, 10.07it/s]\n"
     ]
    },
    {
     "name": "stdout",
     "output_type": "stream",
     "text": [
      "Loss1: 1.0185, Loss2: 0.4297, Loss3: 1.2031\n"
     ]
    },
    {
     "name": "stderr",
     "output_type": "stream",
     "text": [
      "Test_Loader: 100%|██████████| 288/288 [00:28<00:00, 10.20it/s]\n"
     ]
    },
    {
     "name": "stdout",
     "output_type": "stream",
     "text": [
      "Loss1: 1.0036, Loss2: 0.4304, Loss3: 1.1911\n"
     ]
    },
    {
     "name": "stderr",
     "output_type": "stream",
     "text": [
      "Test_Loader: 100%|██████████| 288/288 [00:28<00:00, 10.22it/s]\n"
     ]
    },
    {
     "name": "stdout",
     "output_type": "stream",
     "text": [
      "Loss1: 1.0015, Loss2: 0.4233, Loss3: 1.1283\n"
     ]
    },
    {
     "name": "stderr",
     "output_type": "stream",
     "text": [
      "Test_Loader: 100%|██████████| 288/288 [00:28<00:00, 10.07it/s]\n"
     ]
    },
    {
     "name": "stdout",
     "output_type": "stream",
     "text": [
      "Loss1: 0.9660, Loss2: 0.4200, Loss3: 1.1138\n"
     ]
    },
    {
     "name": "stderr",
     "output_type": "stream",
     "text": [
      "Test_Loader: 100%|██████████| 288/288 [00:29<00:00,  9.69it/s]\n"
     ]
    },
    {
     "name": "stdout",
     "output_type": "stream",
     "text": [
      "Loss1: 0.9697, Loss2: 0.4245, Loss3: 1.1230\n"
     ]
    },
    {
     "name": "stderr",
     "output_type": "stream",
     "text": [
      "Test_Loader: 100%|██████████| 288/288 [00:30<00:00,  9.46it/s]\n"
     ]
    },
    {
     "name": "stdout",
     "output_type": "stream",
     "text": [
      "Loss1: 0.9504, Loss2: 0.4228, Loss3: 1.1189\n"
     ]
    },
    {
     "name": "stderr",
     "output_type": "stream",
     "text": [
      "Test_Loader: 100%|██████████| 288/288 [00:29<00:00,  9.61it/s]\n"
     ]
    },
    {
     "name": "stdout",
     "output_type": "stream",
     "text": [
      "Loss1: 1.0263, Loss2: 0.4885, Loss3: 1.3013\n"
     ]
    },
    {
     "name": "stderr",
     "output_type": "stream",
     "text": [
      "Test_Loader: 100%|██████████| 288/288 [00:30<00:00,  9.53it/s]\n"
     ]
    },
    {
     "name": "stdout",
     "output_type": "stream",
     "text": [
      "Loss1: 1.0127, Loss2: 0.4879, Loss3: 1.2888\n"
     ]
    },
    {
     "name": "stderr",
     "output_type": "stream",
     "text": [
      "Test_Loader: 100%|██████████| 288/288 [00:29<00:00,  9.90it/s]\n"
     ]
    },
    {
     "name": "stdout",
     "output_type": "stream",
     "text": [
      "Loss1: 1.0020, Loss2: 0.4706, Loss3: 1.3012\n"
     ]
    },
    {
     "name": "stderr",
     "output_type": "stream",
     "text": [
      "Test_Loader: 100%|██████████| 288/288 [00:28<00:00, 10.19it/s]\n"
     ]
    },
    {
     "name": "stdout",
     "output_type": "stream",
     "text": [
      "Loss1: 1.0053, Loss2: 0.4710, Loss3: 1.2619\n"
     ]
    },
    {
     "name": "stderr",
     "output_type": "stream",
     "text": [
      "Test_Loader: 100%|██████████| 288/288 [00:30<00:00,  9.33it/s]\n"
     ]
    },
    {
     "name": "stdout",
     "output_type": "stream",
     "text": [
      "Loss1: 1.0070, Loss2: 0.4715, Loss3: 1.2317\n"
     ]
    },
    {
     "name": "stderr",
     "output_type": "stream",
     "text": [
      "Test_Loader: 100%|██████████| 288/288 [00:29<00:00,  9.77it/s]\n"
     ]
    },
    {
     "name": "stdout",
     "output_type": "stream",
     "text": [
      "Loss1: 1.0232, Loss2: 0.4793, Loss3: 1.2942\n"
     ]
    },
    {
     "name": "stderr",
     "output_type": "stream",
     "text": [
      "Test_Loader: 100%|██████████| 288/288 [00:28<00:00, 10.15it/s]\n"
     ]
    },
    {
     "name": "stdout",
     "output_type": "stream",
     "text": [
      "Loss1: 1.0074, Loss2: 0.4821, Loss3: 1.2600\n"
     ]
    },
    {
     "name": "stderr",
     "output_type": "stream",
     "text": [
      "Test_Loader: 100%|██████████| 288/288 [00:28<00:00,  9.97it/s]\n"
     ]
    },
    {
     "name": "stdout",
     "output_type": "stream",
     "text": [
      "Loss1: 0.9970, Loss2: 0.4511, Loss3: 1.2691\n"
     ]
    },
    {
     "name": "stderr",
     "output_type": "stream",
     "text": [
      "Test_Loader: 100%|██████████| 288/288 [00:31<00:00,  9.01it/s]\n"
     ]
    },
    {
     "name": "stdout",
     "output_type": "stream",
     "text": [
      "Loss1: 0.9910, Loss2: 0.4565, Loss3: 1.2334\n"
     ]
    },
    {
     "name": "stderr",
     "output_type": "stream",
     "text": [
      "Test_Loader: 100%|██████████| 288/288 [00:29<00:00,  9.89it/s]\n"
     ]
    },
    {
     "name": "stdout",
     "output_type": "stream",
     "text": [
      "Loss1: 0.9859, Loss2: 0.4436, Loss3: 1.2455\n"
     ]
    },
    {
     "name": "stderr",
     "output_type": "stream",
     "text": [
      "Test_Loader: 100%|██████████| 288/288 [00:29<00:00,  9.72it/s]\n"
     ]
    },
    {
     "name": "stdout",
     "output_type": "stream",
     "text": [
      "Loss1: 0.9922, Loss2: 0.4570, Loss3: 1.2093\n"
     ]
    },
    {
     "name": "stderr",
     "output_type": "stream",
     "text": [
      "Test_Loader: 100%|██████████| 288/288 [00:29<00:00,  9.74it/s]\n"
     ]
    },
    {
     "name": "stdout",
     "output_type": "stream",
     "text": [
      "Loss1: 0.9883, Loss2: 0.4531, Loss3: 1.2076\n"
     ]
    },
    {
     "name": "stderr",
     "output_type": "stream",
     "text": [
      "Test_Loader: 100%|██████████| 288/288 [00:29<00:00,  9.71it/s]\n"
     ]
    },
    {
     "name": "stdout",
     "output_type": "stream",
     "text": [
      "Loss1: 0.9837, Loss2: 0.4518, Loss3: 1.2257\n"
     ]
    },
    {
     "name": "stderr",
     "output_type": "stream",
     "text": [
      "Test_Loader: 100%|██████████| 288/288 [00:29<00:00,  9.71it/s]\n"
     ]
    },
    {
     "name": "stdout",
     "output_type": "stream",
     "text": [
      "Loss1: 0.9766, Loss2: 0.4408, Loss3: 1.2025\n"
     ]
    },
    {
     "name": "stderr",
     "output_type": "stream",
     "text": [
      "Test_Loader: 100%|██████████| 288/288 [00:29<00:00,  9.74it/s]\n"
     ]
    },
    {
     "name": "stdout",
     "output_type": "stream",
     "text": [
      "Loss1: 0.9471, Loss2: 0.4425, Loss3: 1.1400\n"
     ]
    },
    {
     "name": "stderr",
     "output_type": "stream",
     "text": [
      "Test_Loader: 100%|██████████| 288/288 [00:29<00:00,  9.84it/s]\n"
     ]
    },
    {
     "name": "stdout",
     "output_type": "stream",
     "text": [
      "Loss1: 0.9533, Loss2: 0.4415, Loss3: 1.1709\n"
     ]
    },
    {
     "name": "stderr",
     "output_type": "stream",
     "text": [
      "Test_Loader: 100%|██████████| 288/288 [00:31<00:00,  9.11it/s]\n"
     ]
    },
    {
     "name": "stdout",
     "output_type": "stream",
     "text": [
      "Loss1: 0.9449, Loss2: 0.4415, Loss3: 1.1643\n"
     ]
    },
    {
     "name": "stderr",
     "output_type": "stream",
     "text": [
      "Test_Loader: 100%|██████████| 288/288 [00:30<00:00,  9.44it/s]\n"
     ]
    },
    {
     "name": "stdout",
     "output_type": "stream",
     "text": [
      "Loss1: 1.1219, Loss2: 0.4453, Loss3: 1.1646\n"
     ]
    },
    {
     "name": "stderr",
     "output_type": "stream",
     "text": [
      "Test_Loader: 100%|██████████| 288/288 [00:29<00:00,  9.89it/s]\n"
     ]
    },
    {
     "name": "stdout",
     "output_type": "stream",
     "text": [
      "Loss1: 1.2319, Loss2: 0.4984, Loss3: 1.4613\n"
     ]
    },
    {
     "name": "stderr",
     "output_type": "stream",
     "text": [
      "Test_Loader: 100%|██████████| 288/288 [00:29<00:00,  9.63it/s]\n"
     ]
    },
    {
     "name": "stdout",
     "output_type": "stream",
     "text": [
      "Loss1: 1.1956, Loss2: 0.4883, Loss3: 1.4612\n"
     ]
    },
    {
     "name": "stderr",
     "output_type": "stream",
     "text": [
      "Test_Loader: 100%|██████████| 288/288 [00:28<00:00,  9.95it/s]\n"
     ]
    },
    {
     "name": "stdout",
     "output_type": "stream",
     "text": [
      "Loss1: 1.2083, Loss2: 0.5141, Loss3: 1.4704\n"
     ]
    },
    {
     "name": "stderr",
     "output_type": "stream",
     "text": [
      "Test_Loader: 100%|██████████| 288/288 [00:28<00:00,  9.93it/s]\n"
     ]
    },
    {
     "name": "stdout",
     "output_type": "stream",
     "text": [
      "Loss1: 1.2221, Loss2: 0.5300, Loss3: 1.4414\n"
     ]
    },
    {
     "name": "stderr",
     "output_type": "stream",
     "text": [
      "Test_Loader: 100%|██████████| 288/288 [00:29<00:00,  9.81it/s]\n"
     ]
    },
    {
     "name": "stdout",
     "output_type": "stream",
     "text": [
      "Loss1: 1.1872, Loss2: 0.5107, Loss3: 1.4255\n"
     ]
    },
    {
     "name": "stderr",
     "output_type": "stream",
     "text": [
      "Test_Loader: 100%|██████████| 288/288 [00:29<00:00,  9.81it/s]\n"
     ]
    },
    {
     "name": "stdout",
     "output_type": "stream",
     "text": [
      "Loss1: 1.1729, Loss2: 0.5139, Loss3: 1.4461\n"
     ]
    },
    {
     "name": "stderr",
     "output_type": "stream",
     "text": [
      "Test_Loader: 100%|██████████| 288/288 [00:29<00:00,  9.75it/s]\n"
     ]
    },
    {
     "name": "stdout",
     "output_type": "stream",
     "text": [
      "Loss1: 1.1500, Loss2: 0.4970, Loss3: 1.4596\n"
     ]
    },
    {
     "name": "stderr",
     "output_type": "stream",
     "text": [
      "Test_Loader: 100%|██████████| 288/288 [00:29<00:00,  9.89it/s]\n"
     ]
    },
    {
     "name": "stdout",
     "output_type": "stream",
     "text": [
      "Loss1: 1.1593, Loss2: 0.4985, Loss3: 1.4425\n"
     ]
    },
    {
     "name": "stderr",
     "output_type": "stream",
     "text": [
      "Test_Loader: 100%|██████████| 288/288 [00:28<00:00, 10.09it/s]\n"
     ]
    },
    {
     "name": "stdout",
     "output_type": "stream",
     "text": [
      "Loss1: 1.1171, Loss2: 0.5003, Loss3: 1.4121\n"
     ]
    },
    {
     "name": "stderr",
     "output_type": "stream",
     "text": [
      "Test_Loader: 100%|██████████| 288/288 [00:28<00:00, 10.06it/s]\n"
     ]
    },
    {
     "name": "stdout",
     "output_type": "stream",
     "text": [
      "Loss1: 1.1464, Loss2: 0.4941, Loss3: 1.4279\n"
     ]
    },
    {
     "name": "stderr",
     "output_type": "stream",
     "text": [
      "Test_Loader: 100%|██████████| 288/288 [00:30<00:00,  9.35it/s]\n"
     ]
    },
    {
     "name": "stdout",
     "output_type": "stream",
     "text": [
      "Loss1: 1.1311, Loss2: 0.4887, Loss3: 1.4279\n"
     ]
    },
    {
     "name": "stderr",
     "output_type": "stream",
     "text": [
      "Test_Loader: 100%|██████████| 288/288 [00:29<00:00,  9.65it/s]\n"
     ]
    },
    {
     "name": "stdout",
     "output_type": "stream",
     "text": [
      "Loss1: 1.1211, Loss2: 0.4945, Loss3: 1.4086\n"
     ]
    },
    {
     "name": "stderr",
     "output_type": "stream",
     "text": [
      "Test_Loader: 100%|██████████| 288/288 [00:28<00:00, 10.17it/s]\n"
     ]
    },
    {
     "name": "stdout",
     "output_type": "stream",
     "text": [
      "Loss1: 1.1014, Loss2: 0.4835, Loss3: 1.4096\n"
     ]
    },
    {
     "name": "stderr",
     "output_type": "stream",
     "text": [
      "Test_Loader: 100%|██████████| 288/288 [00:28<00:00, 10.19it/s]\n"
     ]
    },
    {
     "name": "stdout",
     "output_type": "stream",
     "text": [
      "Loss1: 1.1007, Loss2: 0.4856, Loss3: 1.3898\n"
     ]
    },
    {
     "name": "stderr",
     "output_type": "stream",
     "text": [
      "Test_Loader: 100%|██████████| 288/288 [00:29<00:00,  9.72it/s]\n"
     ]
    },
    {
     "name": "stdout",
     "output_type": "stream",
     "text": [
      "Loss1: 1.0974, Loss2: 0.4841, Loss3: 1.3893\n"
     ]
    },
    {
     "name": "stderr",
     "output_type": "stream",
     "text": [
      "Test_Loader: 100%|██████████| 288/288 [00:29<00:00,  9.78it/s]\n"
     ]
    },
    {
     "name": "stdout",
     "output_type": "stream",
     "text": [
      "Loss1: 1.0987, Loss2: 0.4841, Loss3: 1.3886\n"
     ]
    },
    {
     "name": "stderr",
     "output_type": "stream",
     "text": [
      "Test_Loader: 100%|██████████| 288/288 [00:29<00:00,  9.78it/s]\n"
     ]
    },
    {
     "name": "stdout",
     "output_type": "stream",
     "text": [
      "Loss1: 1.0810, Loss2: 0.4846, Loss3: 1.3732\n"
     ]
    },
    {
     "name": "stderr",
     "output_type": "stream",
     "text": [
      "Test_Loader: 100%|██████████| 288/288 [00:28<00:00,  9.95it/s]\n"
     ]
    },
    {
     "name": "stdout",
     "output_type": "stream",
     "text": [
      "Loss1: 1.0851, Loss2: 0.4858, Loss3: 1.3777\n"
     ]
    },
    {
     "name": "stderr",
     "output_type": "stream",
     "text": [
      "Test_Loader: 100%|██████████| 288/288 [00:29<00:00,  9.76it/s]\n"
     ]
    },
    {
     "name": "stdout",
     "output_type": "stream",
     "text": [
      "Loss1: 1.0830, Loss2: 0.4808, Loss3: 1.3715\n"
     ]
    },
    {
     "name": "stderr",
     "output_type": "stream",
     "text": [
      "Test_Loader: 100%|██████████| 288/288 [00:29<00:00,  9.67it/s]\n"
     ]
    },
    {
     "name": "stdout",
     "output_type": "stream",
     "text": [
      "Loss1: 1.0660, Loss2: 0.4788, Loss3: 1.3823\n"
     ]
    },
    {
     "name": "stderr",
     "output_type": "stream",
     "text": [
      "Test_Loader: 100%|██████████| 288/288 [00:29<00:00,  9.65it/s]\n"
     ]
    },
    {
     "name": "stdout",
     "output_type": "stream",
     "text": [
      "Loss1: 1.0605, Loss2: 0.4640, Loss3: 1.3743\n"
     ]
    },
    {
     "name": "stderr",
     "output_type": "stream",
     "text": [
      "Test_Loader: 100%|██████████| 288/288 [00:28<00:00, 10.12it/s]\n"
     ]
    },
    {
     "name": "stdout",
     "output_type": "stream",
     "text": [
      "Loss1: 1.0531, Loss2: 0.4691, Loss3: 1.3432\n"
     ]
    },
    {
     "name": "stderr",
     "output_type": "stream",
     "text": [
      "Test_Loader: 100%|██████████| 288/288 [00:29<00:00,  9.90it/s]\n"
     ]
    },
    {
     "name": "stdout",
     "output_type": "stream",
     "text": [
      "Loss1: 1.0571, Loss2: 0.4668, Loss3: 1.3391\n"
     ]
    },
    {
     "name": "stderr",
     "output_type": "stream",
     "text": [
      "Test_Loader: 100%|██████████| 288/288 [00:31<00:00,  9.05it/s]\n"
     ]
    },
    {
     "name": "stdout",
     "output_type": "stream",
     "text": [
      "Loss1: 1.0854, Loss2: 0.4717, Loss3: 1.3782\n"
     ]
    },
    {
     "name": "stderr",
     "output_type": "stream",
     "text": [
      "Test_Loader: 100%|██████████| 288/288 [00:28<00:00, 10.12it/s]\n"
     ]
    },
    {
     "name": "stdout",
     "output_type": "stream",
     "text": [
      "Loss1: 1.0782, Loss2: 0.4741, Loss3: 1.3823\n"
     ]
    },
    {
     "name": "stderr",
     "output_type": "stream",
     "text": [
      "Test_Loader: 100%|██████████| 288/288 [00:27<00:00, 10.51it/s]\n"
     ]
    },
    {
     "name": "stdout",
     "output_type": "stream",
     "text": [
      "Loss1: 1.0666, Loss2: 0.4688, Loss3: 1.3529\n"
     ]
    },
    {
     "name": "stderr",
     "output_type": "stream",
     "text": [
      "Test_Loader: 100%|██████████| 288/288 [00:28<00:00,  9.94it/s]\n"
     ]
    },
    {
     "name": "stdout",
     "output_type": "stream",
     "text": [
      "Loss1: 1.0542, Loss2: 0.4576, Loss3: 1.3461\n"
     ]
    },
    {
     "name": "stderr",
     "output_type": "stream",
     "text": [
      "Test_Loader: 100%|██████████| 288/288 [00:28<00:00, 10.07it/s]\n"
     ]
    },
    {
     "name": "stdout",
     "output_type": "stream",
     "text": [
      "Loss1: 1.0656, Loss2: 0.4664, Loss3: 1.3474\n"
     ]
    },
    {
     "name": "stderr",
     "output_type": "stream",
     "text": [
      "Test_Loader: 100%|██████████| 288/288 [00:28<00:00, 10.18it/s]\n"
     ]
    },
    {
     "name": "stdout",
     "output_type": "stream",
     "text": [
      "Loss1: 1.0722, Loss2: 0.4927, Loss3: 1.3621\n"
     ]
    },
    {
     "name": "stderr",
     "output_type": "stream",
     "text": [
      "Test_Loader: 100%|██████████| 288/288 [00:27<00:00, 10.35it/s]\n"
     ]
    },
    {
     "name": "stdout",
     "output_type": "stream",
     "text": [
      "Loss1: 1.0502, Loss2: 0.4828, Loss3: 1.3847\n"
     ]
    },
    {
     "name": "stderr",
     "output_type": "stream",
     "text": [
      "Test_Loader: 100%|██████████| 288/288 [00:27<00:00, 10.35it/s]\n"
     ]
    },
    {
     "name": "stdout",
     "output_type": "stream",
     "text": [
      "Loss1: 1.0554, Loss2: 0.4789, Loss3: 1.3751\n"
     ]
    },
    {
     "name": "stderr",
     "output_type": "stream",
     "text": [
      "Test_Loader: 100%|██████████| 288/288 [00:29<00:00,  9.92it/s]\n"
     ]
    },
    {
     "name": "stdout",
     "output_type": "stream",
     "text": [
      "Loss1: 1.0273, Loss2: 0.4703, Loss3: 1.3592\n"
     ]
    },
    {
     "name": "stderr",
     "output_type": "stream",
     "text": [
      "Test_Loader: 100%|██████████| 288/288 [00:29<00:00,  9.73it/s]\n"
     ]
    },
    {
     "name": "stdout",
     "output_type": "stream",
     "text": [
      "Loss1: 1.0406, Loss2: 0.4694, Loss3: 1.3242\n"
     ]
    },
    {
     "name": "stderr",
     "output_type": "stream",
     "text": [
      "Test_Loader: 100%|██████████| 288/288 [00:28<00:00, 10.21it/s]\n"
     ]
    },
    {
     "name": "stdout",
     "output_type": "stream",
     "text": [
      "Loss1: 1.0325, Loss2: 0.4752, Loss3: 1.3410\n"
     ]
    },
    {
     "name": "stderr",
     "output_type": "stream",
     "text": [
      "Test_Loader: 100%|██████████| 288/288 [00:27<00:00, 10.37it/s]\n"
     ]
    },
    {
     "name": "stdout",
     "output_type": "stream",
     "text": [
      "Loss1: 1.0317, Loss2: 0.4768, Loss3: 1.3390\n"
     ]
    },
    {
     "name": "stderr",
     "output_type": "stream",
     "text": [
      "Test_Loader: 100%|██████████| 288/288 [00:27<00:00, 10.61it/s]\n"
     ]
    },
    {
     "name": "stdout",
     "output_type": "stream",
     "text": [
      "Loss1: 1.0338, Loss2: 0.4809, Loss3: 1.3483\n"
     ]
    },
    {
     "name": "stderr",
     "output_type": "stream",
     "text": [
      "Test_Loader: 100%|██████████| 288/288 [00:28<00:00, 10.26it/s]\n"
     ]
    },
    {
     "name": "stdout",
     "output_type": "stream",
     "text": [
      "Loss1: 1.0230, Loss2: 0.4752, Loss3: 1.3275\n"
     ]
    },
    {
     "name": "stderr",
     "output_type": "stream",
     "text": [
      "Test_Loader: 100%|██████████| 288/288 [00:28<00:00, 10.07it/s]\n"
     ]
    },
    {
     "name": "stdout",
     "output_type": "stream",
     "text": [
      "Loss1: 1.0013, Loss2: 0.4645, Loss3: 1.3391\n"
     ]
    },
    {
     "name": "stderr",
     "output_type": "stream",
     "text": [
      "Test_Loader: 100%|██████████| 288/288 [00:28<00:00, 10.14it/s]\n"
     ]
    },
    {
     "name": "stdout",
     "output_type": "stream",
     "text": [
      "Loss1: 0.9931, Loss2: 0.4547, Loss3: 1.3160\n"
     ]
    },
    {
     "name": "stderr",
     "output_type": "stream",
     "text": [
      "Test_Loader: 100%|██████████| 288/288 [00:32<00:00,  8.88it/s]\n"
     ]
    },
    {
     "name": "stdout",
     "output_type": "stream",
     "text": [
      "Loss1: 1.0138, Loss2: 0.4700, Loss3: 1.3465\n"
     ]
    },
    {
     "name": "stderr",
     "output_type": "stream",
     "text": [
      "Test_Loader: 100%|██████████| 288/288 [00:30<00:00,  9.34it/s]\n"
     ]
    },
    {
     "name": "stdout",
     "output_type": "stream",
     "text": [
      "Loss1: 1.0092, Loss2: 0.4645, Loss3: 1.3389\n"
     ]
    },
    {
     "name": "stderr",
     "output_type": "stream",
     "text": [
      "Test_Loader: 100%|██████████| 288/288 [00:29<00:00,  9.74it/s]\n"
     ]
    },
    {
     "name": "stdout",
     "output_type": "stream",
     "text": [
      "Loss1: 1.0138, Loss2: 0.4828, Loss3: 1.3748\n"
     ]
    },
    {
     "name": "stderr",
     "output_type": "stream",
     "text": [
      "Test_Loader: 100%|██████████| 288/288 [00:29<00:00,  9.65it/s]\n"
     ]
    },
    {
     "name": "stdout",
     "output_type": "stream",
     "text": [
      "Loss1: 1.0041, Loss2: 0.4720, Loss3: 1.3709\n"
     ]
    },
    {
     "name": "stderr",
     "output_type": "stream",
     "text": [
      "Test_Loader: 100%|██████████| 288/288 [00:29<00:00,  9.64it/s]\n"
     ]
    },
    {
     "name": "stdout",
     "output_type": "stream",
     "text": [
      "Loss1: 1.0226, Loss2: 0.4704, Loss3: 1.3789\n"
     ]
    },
    {
     "name": "stderr",
     "output_type": "stream",
     "text": [
      "Test_Loader: 100%|██████████| 288/288 [00:29<00:00,  9.66it/s]\n"
     ]
    },
    {
     "name": "stdout",
     "output_type": "stream",
     "text": [
      "Loss1: 1.0424, Loss2: 0.4899, Loss3: 1.3772\n"
     ]
    },
    {
     "name": "stderr",
     "output_type": "stream",
     "text": [
      "Test_Loader: 100%|██████████| 288/288 [00:29<00:00,  9.66it/s]\n"
     ]
    },
    {
     "name": "stdout",
     "output_type": "stream",
     "text": [
      "Loss1: 0.9851, Loss2: 0.4698, Loss3: 1.3729\n"
     ]
    },
    {
     "name": "stderr",
     "output_type": "stream",
     "text": [
      "Test_Loader: 100%|██████████| 288/288 [00:28<00:00, 10.16it/s]\n"
     ]
    },
    {
     "name": "stdout",
     "output_type": "stream",
     "text": [
      "Loss1: 1.0355, Loss2: 0.4891, Loss3: 1.4402\n"
     ]
    },
    {
     "name": "stderr",
     "output_type": "stream",
     "text": [
      "Test_Loader: 100%|██████████| 288/288 [00:27<00:00, 10.54it/s]\n"
     ]
    },
    {
     "name": "stdout",
     "output_type": "stream",
     "text": [
      "Loss1: 1.0287, Loss2: 0.4809, Loss3: 1.4347\n"
     ]
    },
    {
     "name": "stderr",
     "output_type": "stream",
     "text": [
      "Test_Loader: 100%|██████████| 288/288 [00:30<00:00,  9.57it/s]\n"
     ]
    },
    {
     "name": "stdout",
     "output_type": "stream",
     "text": [
      "Loss1: 1.0032, Loss2: 0.4792, Loss3: 1.3938\n"
     ]
    },
    {
     "name": "stderr",
     "output_type": "stream",
     "text": [
      "Test_Loader: 100%|██████████| 288/288 [00:28<00:00,  9.95it/s]\n"
     ]
    },
    {
     "name": "stdout",
     "output_type": "stream",
     "text": [
      "Loss1: 1.0081, Loss2: 0.4722, Loss3: 1.3777\n"
     ]
    },
    {
     "name": "stderr",
     "output_type": "stream",
     "text": [
      "Test_Loader: 100%|██████████| 288/288 [00:29<00:00,  9.88it/s]\n"
     ]
    },
    {
     "name": "stdout",
     "output_type": "stream",
     "text": [
      "Loss1: 1.0217, Loss2: 0.4866, Loss3: 1.3830\n"
     ]
    },
    {
     "name": "stderr",
     "output_type": "stream",
     "text": [
      "Test_Loader: 100%|██████████| 288/288 [00:29<00:00,  9.64it/s]\n"
     ]
    },
    {
     "name": "stdout",
     "output_type": "stream",
     "text": [
      "Loss1: 1.0127, Loss2: 0.4791, Loss3: 1.3988\n"
     ]
    },
    {
     "name": "stderr",
     "output_type": "stream",
     "text": [
      "Test_Loader: 100%|██████████| 288/288 [00:28<00:00,  9.99it/s]\n"
     ]
    },
    {
     "name": "stdout",
     "output_type": "stream",
     "text": [
      "Loss1: 1.0102, Loss2: 0.4876, Loss3: 1.3832\n"
     ]
    },
    {
     "name": "stderr",
     "output_type": "stream",
     "text": [
      "Test_Loader: 100%|██████████| 288/288 [00:29<00:00,  9.67it/s]\n"
     ]
    },
    {
     "name": "stdout",
     "output_type": "stream",
     "text": [
      "Loss1: 1.0065, Loss2: 0.4852, Loss3: 1.3848\n"
     ]
    },
    {
     "name": "stderr",
     "output_type": "stream",
     "text": [
      "Test_Loader: 100%|██████████| 288/288 [00:29<00:00,  9.67it/s]\n"
     ]
    },
    {
     "name": "stdout",
     "output_type": "stream",
     "text": [
      "Loss1: 1.0154, Loss2: 0.4914, Loss3: 1.3942\n"
     ]
    },
    {
     "name": "stderr",
     "output_type": "stream",
     "text": [
      "Test_Loader: 100%|██████████| 288/288 [00:30<00:00,  9.54it/s]\n"
     ]
    },
    {
     "name": "stdout",
     "output_type": "stream",
     "text": [
      "Loss1: 1.0508, Loss2: 0.4979, Loss3: 1.4184\n"
     ]
    },
    {
     "name": "stderr",
     "output_type": "stream",
     "text": [
      "Test_Loader: 100%|██████████| 288/288 [00:30<00:00,  9.54it/s]\n"
     ]
    },
    {
     "name": "stdout",
     "output_type": "stream",
     "text": [
      "Loss1: 1.0690, Loss2: 0.5026, Loss3: 1.4292\n"
     ]
    },
    {
     "name": "stderr",
     "output_type": "stream",
     "text": [
      "Test_Loader: 100%|██████████| 288/288 [00:28<00:00,  9.95it/s]\n"
     ]
    },
    {
     "name": "stdout",
     "output_type": "stream",
     "text": [
      "Loss1: 1.0459, Loss2: 0.4941, Loss3: 1.4220\n"
     ]
    },
    {
     "name": "stderr",
     "output_type": "stream",
     "text": [
      "Test_Loader: 100%|██████████| 288/288 [00:28<00:00, 10.01it/s]\n"
     ]
    },
    {
     "name": "stdout",
     "output_type": "stream",
     "text": [
      "Loss1: 1.0558, Loss2: 0.4954, Loss3: 1.4298\n"
     ]
    },
    {
     "name": "stderr",
     "output_type": "stream",
     "text": [
      "Test_Loader: 100%|██████████| 288/288 [00:28<00:00,  9.96it/s]\n"
     ]
    },
    {
     "name": "stdout",
     "output_type": "stream",
     "text": [
      "Loss1: 1.0267, Loss2: 0.4928, Loss3: 1.4246\n"
     ]
    },
    {
     "name": "stderr",
     "output_type": "stream",
     "text": [
      "Test_Loader: 100%|██████████| 288/288 [00:29<00:00,  9.60it/s]\n"
     ]
    },
    {
     "name": "stdout",
     "output_type": "stream",
     "text": [
      "Loss1: 1.0192, Loss2: 0.4849, Loss3: 1.4251\n"
     ]
    },
    {
     "name": "stderr",
     "output_type": "stream",
     "text": [
      "Test_Loader: 100%|██████████| 288/288 [00:28<00:00, 10.02it/s]\n"
     ]
    },
    {
     "name": "stdout",
     "output_type": "stream",
     "text": [
      "Loss1: 1.0650, Loss2: 0.4907, Loss3: 1.4594\n"
     ]
    },
    {
     "name": "stderr",
     "output_type": "stream",
     "text": [
      "Test_Loader: 100%|██████████| 288/288 [00:28<00:00,  9.99it/s]\n"
     ]
    },
    {
     "name": "stdout",
     "output_type": "stream",
     "text": [
      "Loss1: 1.0361, Loss2: 0.4852, Loss3: 1.4268\n"
     ]
    },
    {
     "name": "stderr",
     "output_type": "stream",
     "text": [
      "Test_Loader: 100%|██████████| 288/288 [00:28<00:00, 10.25it/s]\n"
     ]
    },
    {
     "name": "stdout",
     "output_type": "stream",
     "text": [
      "Loss1: 1.0859, Loss2: 0.4955, Loss3: 1.5423\n"
     ]
    },
    {
     "name": "stderr",
     "output_type": "stream",
     "text": [
      "Test_Loader: 100%|██████████| 288/288 [00:27<00:00, 10.30it/s]\n"
     ]
    },
    {
     "name": "stdout",
     "output_type": "stream",
     "text": [
      "Loss1: 1.0817, Loss2: 0.4961, Loss3: 1.5106\n"
     ]
    },
    {
     "name": "stderr",
     "output_type": "stream",
     "text": [
      "Test_Loader: 100%|██████████| 288/288 [00:29<00:00,  9.88it/s]\n"
     ]
    },
    {
     "name": "stdout",
     "output_type": "stream",
     "text": [
      "Loss1: 1.0510, Loss2: 0.4932, Loss3: 1.4947\n"
     ]
    },
    {
     "name": "stderr",
     "output_type": "stream",
     "text": [
      "Test_Loader: 100%|██████████| 288/288 [00:28<00:00,  9.97it/s]\n"
     ]
    },
    {
     "name": "stdout",
     "output_type": "stream",
     "text": [
      "Loss1: 1.0481, Loss2: 0.4895, Loss3: 1.4805\n"
     ]
    },
    {
     "name": "stderr",
     "output_type": "stream",
     "text": [
      "Test_Loader: 100%|██████████| 288/288 [00:29<00:00,  9.89it/s]\n"
     ]
    },
    {
     "name": "stdout",
     "output_type": "stream",
     "text": [
      "Loss1: 1.0383, Loss2: 0.4791, Loss3: 1.4309\n"
     ]
    },
    {
     "name": "stderr",
     "output_type": "stream",
     "text": [
      "Test_Loader: 100%|██████████| 288/288 [00:29<00:00,  9.72it/s]\n"
     ]
    },
    {
     "name": "stdout",
     "output_type": "stream",
     "text": [
      "Loss1: 1.0284, Loss2: 0.4745, Loss3: 1.4413\n"
     ]
    },
    {
     "name": "stderr",
     "output_type": "stream",
     "text": [
      "Test_Loader: 100%|██████████| 288/288 [00:29<00:00,  9.64it/s]\n"
     ]
    },
    {
     "name": "stdout",
     "output_type": "stream",
     "text": [
      "Loss1: 1.0344, Loss2: 0.4812, Loss3: 1.4481\n"
     ]
    },
    {
     "name": "stderr",
     "output_type": "stream",
     "text": [
      "Test_Loader: 100%|██████████| 288/288 [00:28<00:00, 10.03it/s]\n"
     ]
    },
    {
     "name": "stdout",
     "output_type": "stream",
     "text": [
      "Loss1: 1.0140, Loss2: 0.4701, Loss3: 1.4468\n"
     ]
    },
    {
     "name": "stderr",
     "output_type": "stream",
     "text": [
      "Test_Loader: 100%|██████████| 288/288 [00:28<00:00, 10.18it/s]\n"
     ]
    },
    {
     "name": "stdout",
     "output_type": "stream",
     "text": [
      "Loss1: 1.0272, Loss2: 0.4776, Loss3: 1.4554\n"
     ]
    },
    {
     "name": "stderr",
     "output_type": "stream",
     "text": [
      "Test_Loader: 100%|██████████| 288/288 [00:28<00:00, 10.02it/s]\n"
     ]
    },
    {
     "name": "stdout",
     "output_type": "stream",
     "text": [
      "Loss1: 1.0299, Loss2: 0.4676, Loss3: 1.4359\n"
     ]
    },
    {
     "name": "stderr",
     "output_type": "stream",
     "text": [
      "Test_Loader: 100%|██████████| 288/288 [00:29<00:00,  9.75it/s]\n"
     ]
    },
    {
     "name": "stdout",
     "output_type": "stream",
     "text": [
      "Loss1: 1.0596, Loss2: 0.5025, Loss3: 1.5201\n"
     ]
    },
    {
     "name": "stderr",
     "output_type": "stream",
     "text": [
      "Test_Loader: 100%|██████████| 288/288 [00:28<00:00, 10.23it/s]\n"
     ]
    },
    {
     "name": "stdout",
     "output_type": "stream",
     "text": [
      "Loss1: 1.0416, Loss2: 0.4905, Loss3: 1.5212\n"
     ]
    },
    {
     "name": "stderr",
     "output_type": "stream",
     "text": [
      "Test_Loader: 100%|██████████| 288/288 [00:29<00:00,  9.86it/s]\n"
     ]
    },
    {
     "name": "stdout",
     "output_type": "stream",
     "text": [
      "Loss1: 1.0574, Loss2: 0.4918, Loss3: 1.5131\n"
     ]
    },
    {
     "name": "stderr",
     "output_type": "stream",
     "text": [
      "Test_Loader: 100%|██████████| 288/288 [00:28<00:00, 10.04it/s]\n"
     ]
    },
    {
     "name": "stdout",
     "output_type": "stream",
     "text": [
      "Loss1: 1.0483, Loss2: 0.4914, Loss3: 1.4966\n"
     ]
    },
    {
     "name": "stderr",
     "output_type": "stream",
     "text": [
      "Test_Loader: 100%|██████████| 288/288 [00:29<00:00,  9.73it/s]\n"
     ]
    },
    {
     "name": "stdout",
     "output_type": "stream",
     "text": [
      "Loss1: 1.0297, Loss2: 0.4769, Loss3: 1.4680\n"
     ]
    },
    {
     "name": "stderr",
     "output_type": "stream",
     "text": [
      "Test_Loader: 100%|██████████| 288/288 [00:28<00:00, 10.00it/s]\n"
     ]
    },
    {
     "name": "stdout",
     "output_type": "stream",
     "text": [
      "Loss1: 0.9944, Loss2: 0.4494, Loss3: 1.3663\n"
     ]
    },
    {
     "name": "stderr",
     "output_type": "stream",
     "text": [
      "Test_Loader: 100%|██████████| 288/288 [00:29<00:00,  9.63it/s]\n"
     ]
    },
    {
     "name": "stdout",
     "output_type": "stream",
     "text": [
      "Loss1: 0.9861, Loss2: 0.4472, Loss3: 1.3531\n"
     ]
    },
    {
     "name": "stderr",
     "output_type": "stream",
     "text": [
      "Test_Loader: 100%|██████████| 288/288 [00:30<00:00,  9.52it/s]\n"
     ]
    },
    {
     "name": "stdout",
     "output_type": "stream",
     "text": [
      "Loss1: 0.9829, Loss2: 0.4439, Loss3: 1.3486\n"
     ]
    },
    {
     "name": "stderr",
     "output_type": "stream",
     "text": [
      "Test_Loader: 100%|██████████| 288/288 [00:29<00:00,  9.61it/s]\n"
     ]
    },
    {
     "name": "stdout",
     "output_type": "stream",
     "text": [
      "Loss1: 0.9714, Loss2: 0.4380, Loss3: 1.3366\n"
     ]
    },
    {
     "name": "stderr",
     "output_type": "stream",
     "text": [
      "Test_Loader: 100%|██████████| 288/288 [00:29<00:00,  9.68it/s]\n"
     ]
    },
    {
     "name": "stdout",
     "output_type": "stream",
     "text": [
      "Loss1: 0.9858, Loss2: 0.4418, Loss3: 1.3271\n"
     ]
    },
    {
     "name": "stderr",
     "output_type": "stream",
     "text": [
      "Test_Loader: 100%|██████████| 288/288 [00:29<00:00,  9.81it/s]\n"
     ]
    },
    {
     "name": "stdout",
     "output_type": "stream",
     "text": [
      "Loss1: 0.9558, Loss2: 0.4299, Loss3: 1.2947\n"
     ]
    },
    {
     "name": "stderr",
     "output_type": "stream",
     "text": [
      "Test_Loader: 100%|██████████| 288/288 [00:28<00:00, 10.03it/s]\n"
     ]
    },
    {
     "name": "stdout",
     "output_type": "stream",
     "text": [
      "Loss1: 0.9573, Loss2: 0.4378, Loss3: 1.3101\n"
     ]
    },
    {
     "name": "stderr",
     "output_type": "stream",
     "text": [
      "Test_Loader: 100%|██████████| 288/288 [00:29<00:00,  9.83it/s]\n"
     ]
    },
    {
     "name": "stdout",
     "output_type": "stream",
     "text": [
      "Loss1: 0.9580, Loss2: 0.4382, Loss3: 1.3139\n"
     ]
    },
    {
     "name": "stderr",
     "output_type": "stream",
     "text": [
      "Test_Loader: 100%|██████████| 288/288 [00:28<00:00,  9.99it/s]\n"
     ]
    },
    {
     "name": "stdout",
     "output_type": "stream",
     "text": [
      "Loss1: 0.9612, Loss2: 0.4360, Loss3: 1.2991\n"
     ]
    },
    {
     "name": "stderr",
     "output_type": "stream",
     "text": [
      "Test_Loader: 100%|██████████| 288/288 [00:29<00:00,  9.87it/s]\n"
     ]
    },
    {
     "name": "stdout",
     "output_type": "stream",
     "text": [
      "Loss1: 0.9434, Loss2: 0.4277, Loss3: 1.2808\n"
     ]
    },
    {
     "name": "stderr",
     "output_type": "stream",
     "text": [
      "Test_Loader: 100%|██████████| 288/288 [00:29<00:00,  9.82it/s]\n"
     ]
    },
    {
     "name": "stdout",
     "output_type": "stream",
     "text": [
      "Loss1: 0.9416, Loss2: 0.4294, Loss3: 1.2709\n"
     ]
    },
    {
     "name": "stderr",
     "output_type": "stream",
     "text": [
      "Test_Loader: 100%|██████████| 288/288 [00:29<00:00,  9.61it/s]\n"
     ]
    },
    {
     "name": "stdout",
     "output_type": "stream",
     "text": [
      "Loss1: 0.9384, Loss2: 0.4304, Loss3: 1.2751\n"
     ]
    },
    {
     "name": "stderr",
     "output_type": "stream",
     "text": [
      "Test_Loader: 100%|██████████| 288/288 [00:30<00:00,  9.43it/s]\n"
     ]
    },
    {
     "name": "stdout",
     "output_type": "stream",
     "text": [
      "Loss1: 0.9428, Loss2: 0.4276, Loss3: 1.2605\n"
     ]
    },
    {
     "name": "stderr",
     "output_type": "stream",
     "text": [
      "Test_Loader: 100%|██████████| 288/288 [00:30<00:00,  9.38it/s]\n"
     ]
    },
    {
     "name": "stdout",
     "output_type": "stream",
     "text": [
      "Loss1: 0.9313, Loss2: 0.4253, Loss3: 1.2599\n"
     ]
    },
    {
     "name": "stderr",
     "output_type": "stream",
     "text": [
      "Test_Loader: 100%|██████████| 288/288 [00:29<00:00,  9.75it/s]\n"
     ]
    },
    {
     "name": "stdout",
     "output_type": "stream",
     "text": [
      "Loss1: 0.9674, Loss2: 0.4235, Loss3: 1.2574\n"
     ]
    },
    {
     "name": "stderr",
     "output_type": "stream",
     "text": [
      "Test_Loader: 100%|██████████| 288/288 [00:29<00:00,  9.72it/s]\n"
     ]
    },
    {
     "name": "stdout",
     "output_type": "stream",
     "text": [
      "Loss1: 0.9691, Loss2: 0.4192, Loss3: 1.2299\n"
     ]
    },
    {
     "name": "stderr",
     "output_type": "stream",
     "text": [
      "Test_Loader: 100%|██████████| 288/288 [00:29<00:00,  9.93it/s]\n"
     ]
    },
    {
     "name": "stdout",
     "output_type": "stream",
     "text": [
      "Loss1: 0.9438, Loss2: 0.4131, Loss3: 1.2178\n"
     ]
    },
    {
     "name": "stderr",
     "output_type": "stream",
     "text": [
      "Test_Loader: 100%|██████████| 288/288 [00:28<00:00, 10.05it/s]\n"
     ]
    },
    {
     "name": "stdout",
     "output_type": "stream",
     "text": [
      "Loss1: 0.9051, Loss2: 0.4117, Loss3: 1.2059\n"
     ]
    },
    {
     "name": "stderr",
     "output_type": "stream",
     "text": [
      "Test_Loader: 100%|██████████| 288/288 [00:27<00:00, 10.37it/s]\n"
     ]
    },
    {
     "name": "stdout",
     "output_type": "stream",
     "text": [
      "Loss1: 0.8485, Loss2: 0.3998, Loss3: 1.0543\n"
     ]
    },
    {
     "name": "stderr",
     "output_type": "stream",
     "text": [
      "Test_Loader: 100%|██████████| 288/288 [00:30<00:00,  9.35it/s]\n"
     ]
    },
    {
     "name": "stdout",
     "output_type": "stream",
     "text": [
      "Loss1: 0.8435, Loss2: 0.3973, Loss3: 1.0447\n"
     ]
    },
    {
     "name": "stderr",
     "output_type": "stream",
     "text": [
      "Test_Loader: 100%|██████████| 288/288 [00:27<00:00, 10.33it/s]\n"
     ]
    },
    {
     "name": "stdout",
     "output_type": "stream",
     "text": [
      "Loss1: 0.8237, Loss2: 0.3663, Loss3: 1.0265\n"
     ]
    },
    {
     "name": "stderr",
     "output_type": "stream",
     "text": [
      "Test_Loader: 100%|██████████| 288/288 [00:27<00:00, 10.38it/s]\n"
     ]
    },
    {
     "name": "stdout",
     "output_type": "stream",
     "text": [
      "Loss1: 0.8016, Loss2: 0.3640, Loss3: 1.0166\n"
     ]
    },
    {
     "name": "stderr",
     "output_type": "stream",
     "text": [
      "Test_Loader: 100%|██████████| 288/288 [00:27<00:00, 10.40it/s]\n"
     ]
    },
    {
     "name": "stdout",
     "output_type": "stream",
     "text": [
      "Loss1: 0.8128, Loss2: 0.3647, Loss3: 1.0172\n"
     ]
    },
    {
     "name": "stderr",
     "output_type": "stream",
     "text": [
      "Test_Loader: 100%|██████████| 288/288 [00:28<00:00, 10.09it/s]\n"
     ]
    },
    {
     "name": "stdout",
     "output_type": "stream",
     "text": [
      "Loss1: 0.8182, Loss2: 0.3651, Loss3: 1.0114\n"
     ]
    },
    {
     "name": "stderr",
     "output_type": "stream",
     "text": [
      "Test_Loader: 100%|██████████| 288/288 [00:28<00:00,  9.98it/s]\n"
     ]
    },
    {
     "name": "stdout",
     "output_type": "stream",
     "text": [
      "Loss1: 0.8164, Loss2: 0.3644, Loss3: 1.0114\n"
     ]
    },
    {
     "name": "stderr",
     "output_type": "stream",
     "text": [
      "Test_Loader: 100%|██████████| 288/288 [00:29<00:00,  9.71it/s]\n"
     ]
    },
    {
     "name": "stdout",
     "output_type": "stream",
     "text": [
      "Loss1: 0.8227, Loss2: 0.3631, Loss3: 1.0030\n"
     ]
    },
    {
     "name": "stderr",
     "output_type": "stream",
     "text": [
      "Test_Loader: 100%|██████████| 288/288 [00:29<00:00,  9.61it/s]\n"
     ]
    },
    {
     "name": "stdout",
     "output_type": "stream",
     "text": [
      "Loss1: 0.8099, Loss2: 0.3610, Loss3: 1.0027\n"
     ]
    },
    {
     "name": "stderr",
     "output_type": "stream",
     "text": [
      "Test_Loader: 100%|██████████| 288/288 [00:29<00:00,  9.65it/s]\n"
     ]
    },
    {
     "name": "stdout",
     "output_type": "stream",
     "text": [
      "Loss1: 0.7799, Loss2: 0.3561, Loss3: 0.9901\n"
     ]
    },
    {
     "name": "stderr",
     "output_type": "stream",
     "text": [
      "Test_Loader: 100%|██████████| 288/288 [00:29<00:00,  9.63it/s]\n"
     ]
    },
    {
     "name": "stdout",
     "output_type": "stream",
     "text": [
      "Loss1: 0.7740, Loss2: 0.3558, Loss3: 0.9959\n"
     ]
    },
    {
     "name": "stderr",
     "output_type": "stream",
     "text": [
      "Test_Loader: 100%|██████████| 288/288 [00:29<00:00,  9.70it/s]\n"
     ]
    },
    {
     "name": "stdout",
     "output_type": "stream",
     "text": [
      "Loss1: 0.7937, Loss2: 0.3641, Loss3: 0.9934\n"
     ]
    },
    {
     "name": "stderr",
     "output_type": "stream",
     "text": [
      "Test_Loader: 100%|██████████| 288/288 [00:30<00:00,  9.54it/s]\n"
     ]
    },
    {
     "name": "stdout",
     "output_type": "stream",
     "text": [
      "Loss1: 0.7839, Loss2: 0.3628, Loss3: 0.9896\n"
     ]
    },
    {
     "name": "stderr",
     "output_type": "stream",
     "text": [
      "Test_Loader: 100%|██████████| 288/288 [00:31<00:00,  9.02it/s]\n"
     ]
    },
    {
     "name": "stdout",
     "output_type": "stream",
     "text": [
      "Loss1: 0.7808, Loss2: 0.3591, Loss3: 0.9878\n"
     ]
    },
    {
     "name": "stderr",
     "output_type": "stream",
     "text": [
      "Test_Loader: 100%|██████████| 288/288 [00:30<00:00,  9.48it/s]\n"
     ]
    },
    {
     "name": "stdout",
     "output_type": "stream",
     "text": [
      "Loss1: 0.8014, Loss2: 0.3722, Loss3: 1.0463\n"
     ]
    },
    {
     "name": "stderr",
     "output_type": "stream",
     "text": [
      "Test_Loader: 100%|██████████| 288/288 [00:28<00:00, 10.15it/s]\n"
     ]
    },
    {
     "name": "stdout",
     "output_type": "stream",
     "text": [
      "Loss1: 0.8055, Loss2: 0.3693, Loss3: 1.0323\n"
     ]
    },
    {
     "name": "stderr",
     "output_type": "stream",
     "text": [
      "Test_Loader: 100%|██████████| 288/288 [00:28<00:00, 10.22it/s]\n"
     ]
    },
    {
     "name": "stdout",
     "output_type": "stream",
     "text": [
      "Loss1: 0.7964, Loss2: 0.3683, Loss3: 1.0280\n"
     ]
    },
    {
     "name": "stderr",
     "output_type": "stream",
     "text": [
      "Test_Loader: 100%|██████████| 288/288 [00:28<00:00,  9.93it/s]\n"
     ]
    },
    {
     "name": "stdout",
     "output_type": "stream",
     "text": [
      "Loss1: 0.7934, Loss2: 0.3654, Loss3: 1.0202\n"
     ]
    },
    {
     "name": "stderr",
     "output_type": "stream",
     "text": [
      "Test_Loader: 100%|██████████| 288/288 [00:29<00:00,  9.78it/s]\n"
     ]
    },
    {
     "name": "stdout",
     "output_type": "stream",
     "text": [
      "Loss1: 0.8008, Loss2: 0.3801, Loss3: 1.0701\n"
     ]
    },
    {
     "name": "stderr",
     "output_type": "stream",
     "text": [
      "Test_Loader: 100%|██████████| 288/288 [00:29<00:00,  9.85it/s]\n"
     ]
    },
    {
     "name": "stdout",
     "output_type": "stream",
     "text": [
      "Loss1: 0.7929, Loss2: 0.3761, Loss3: 1.0683\n"
     ]
    },
    {
     "name": "stderr",
     "output_type": "stream",
     "text": [
      "Test_Loader: 100%|██████████| 288/288 [00:29<00:00,  9.63it/s]\n"
     ]
    },
    {
     "name": "stdout",
     "output_type": "stream",
     "text": [
      "Loss1: 0.8032, Loss2: 0.3786, Loss3: 1.0619\n"
     ]
    },
    {
     "name": "stderr",
     "output_type": "stream",
     "text": [
      "Test_Loader: 100%|██████████| 288/288 [00:29<00:00,  9.62it/s]\n"
     ]
    },
    {
     "name": "stdout",
     "output_type": "stream",
     "text": [
      "Loss1: 0.8006, Loss2: 0.3789, Loss3: 1.0629\n"
     ]
    },
    {
     "name": "stderr",
     "output_type": "stream",
     "text": [
      "Test_Loader: 100%|██████████| 288/288 [00:29<00:00,  9.81it/s]\n"
     ]
    },
    {
     "name": "stdout",
     "output_type": "stream",
     "text": [
      "Loss1: 0.8156, Loss2: 0.3996, Loss3: 1.1008\n"
     ]
    },
    {
     "name": "stderr",
     "output_type": "stream",
     "text": [
      "Test_Loader: 100%|██████████| 288/288 [00:28<00:00,  9.96it/s]\n"
     ]
    },
    {
     "name": "stdout",
     "output_type": "stream",
     "text": [
      "Loss1: 0.7973, Loss2: 0.3965, Loss3: 1.1018\n"
     ]
    },
    {
     "name": "stderr",
     "output_type": "stream",
     "text": [
      "Test_Loader: 100%|██████████| 288/288 [00:28<00:00, 10.04it/s]\n"
     ]
    },
    {
     "name": "stdout",
     "output_type": "stream",
     "text": [
      "Loss1: 0.8014, Loss2: 0.3917, Loss3: 1.0848\n"
     ]
    },
    {
     "name": "stderr",
     "output_type": "stream",
     "text": [
      "Test_Loader: 100%|██████████| 288/288 [00:32<00:00,  8.82it/s]\n"
     ]
    },
    {
     "name": "stdout",
     "output_type": "stream",
     "text": [
      "Loss1: 1.6439, Loss2: 0.5723, Loss3: 2.0329\n"
     ]
    },
    {
     "name": "stderr",
     "output_type": "stream",
     "text": [
      "Test_Loader: 100%|██████████| 288/288 [00:29<00:00,  9.83it/s]\n"
     ]
    },
    {
     "name": "stdout",
     "output_type": "stream",
     "text": [
      "Loss1: 1.5511, Loss2: 0.5149, Loss3: 1.9057\n"
     ]
    },
    {
     "name": "stderr",
     "output_type": "stream",
     "text": [
      "Test_Loader: 100%|██████████| 288/288 [00:28<00:00, 10.16it/s]\n"
     ]
    },
    {
     "name": "stdout",
     "output_type": "stream",
     "text": [
      "Loss1: 1.4145, Loss2: 0.4670, Loss3: 1.7715\n"
     ]
    },
    {
     "name": "stderr",
     "output_type": "stream",
     "text": [
      "Test_Loader: 100%|██████████| 288/288 [00:28<00:00, 10.06it/s]\n"
     ]
    },
    {
     "name": "stdout",
     "output_type": "stream",
     "text": [
      "Loss1: 1.3768, Loss2: 0.4388, Loss3: 1.7173\n"
     ]
    },
    {
     "name": "stderr",
     "output_type": "stream",
     "text": [
      "Test_Loader: 100%|██████████| 288/288 [00:28<00:00, 10.12it/s]\n"
     ]
    },
    {
     "name": "stdout",
     "output_type": "stream",
     "text": [
      "Loss1: 1.3189, Loss2: 0.4326, Loss3: 1.6831\n"
     ]
    },
    {
     "name": "stderr",
     "output_type": "stream",
     "text": [
      "Test_Loader: 100%|██████████| 288/288 [00:28<00:00, 10.03it/s]\n"
     ]
    },
    {
     "name": "stdout",
     "output_type": "stream",
     "text": [
      "Loss1: 1.3122, Loss2: 0.4573, Loss3: 1.7281\n"
     ]
    },
    {
     "name": "stderr",
     "output_type": "stream",
     "text": [
      "Test_Loader: 100%|██████████| 288/288 [00:28<00:00,  9.94it/s]\n"
     ]
    },
    {
     "name": "stdout",
     "output_type": "stream",
     "text": [
      "Loss1: 1.2758, Loss2: 0.4568, Loss3: 1.7136\n"
     ]
    },
    {
     "name": "stderr",
     "output_type": "stream",
     "text": [
      "Test_Loader: 100%|██████████| 288/288 [00:30<00:00,  9.54it/s]\n"
     ]
    },
    {
     "name": "stdout",
     "output_type": "stream",
     "text": [
      "Loss1: 1.2533, Loss2: 0.4461, Loss3: 1.6807\n"
     ]
    },
    {
     "name": "stderr",
     "output_type": "stream",
     "text": [
      "Test_Loader: 100%|██████████| 288/288 [00:30<00:00,  9.35it/s]\n"
     ]
    },
    {
     "name": "stdout",
     "output_type": "stream",
     "text": [
      "Loss1: 1.2116, Loss2: 0.4419, Loss3: 1.6527\n"
     ]
    },
    {
     "name": "stderr",
     "output_type": "stream",
     "text": [
      "Test_Loader: 100%|██████████| 288/288 [00:29<00:00,  9.71it/s]\n"
     ]
    },
    {
     "name": "stdout",
     "output_type": "stream",
     "text": [
      "Loss1: 1.1909, Loss2: 0.4440, Loss3: 1.6482\n"
     ]
    },
    {
     "name": "stderr",
     "output_type": "stream",
     "text": [
      "Test_Loader: 100%|██████████| 288/288 [00:29<00:00,  9.84it/s]\n"
     ]
    },
    {
     "name": "stdout",
     "output_type": "stream",
     "text": [
      "Loss1: 1.2654, Loss2: 0.5639, Loss3: 1.8661\n"
     ]
    },
    {
     "name": "stderr",
     "output_type": "stream",
     "text": [
      "Test_Loader: 100%|██████████| 288/288 [00:29<00:00,  9.88it/s]\n"
     ]
    },
    {
     "name": "stdout",
     "output_type": "stream",
     "text": [
      "Loss1: 1.2251, Loss2: 0.5363, Loss3: 1.8371\n"
     ]
    },
    {
     "name": "stderr",
     "output_type": "stream",
     "text": [
      "Test_Loader: 100%|██████████| 288/288 [00:28<00:00,  9.99it/s]\n"
     ]
    },
    {
     "name": "stdout",
     "output_type": "stream",
     "text": [
      "Loss1: 1.2138, Loss2: 0.5354, Loss3: 1.7795\n"
     ]
    },
    {
     "name": "stderr",
     "output_type": "stream",
     "text": [
      "Test_Loader: 100%|██████████| 288/288 [00:30<00:00,  9.40it/s]\n"
     ]
    },
    {
     "name": "stdout",
     "output_type": "stream",
     "text": [
      "Loss1: 1.1924, Loss2: 0.5261, Loss3: 1.7568\n"
     ]
    },
    {
     "name": "stderr",
     "output_type": "stream",
     "text": [
      "Test_Loader: 100%|██████████| 288/288 [00:28<00:00, 10.13it/s]\n"
     ]
    },
    {
     "name": "stdout",
     "output_type": "stream",
     "text": [
      "Loss1: 1.1250, Loss2: 0.5141, Loss3: 1.7448\n"
     ]
    },
    {
     "name": "stderr",
     "output_type": "stream",
     "text": [
      "Test_Loader: 100%|██████████| 288/288 [00:27<00:00, 10.29it/s]\n"
     ]
    },
    {
     "name": "stdout",
     "output_type": "stream",
     "text": [
      "Loss1: 1.1306, Loss2: 0.5577, Loss3: 1.8586\n"
     ]
    },
    {
     "name": "stderr",
     "output_type": "stream",
     "text": [
      "Test_Loader: 100%|██████████| 288/288 [00:29<00:00,  9.85it/s]\n"
     ]
    },
    {
     "name": "stdout",
     "output_type": "stream",
     "text": [
      "Loss1: 1.1444, Loss2: 0.5619, Loss3: 1.8641\n"
     ]
    },
    {
     "name": "stderr",
     "output_type": "stream",
     "text": [
      "Test_Loader: 100%|██████████| 288/288 [00:29<00:00,  9.76it/s]\n"
     ]
    },
    {
     "name": "stdout",
     "output_type": "stream",
     "text": [
      "Loss1: 1.1391, Loss2: 0.5523, Loss3: 1.8514\n"
     ]
    },
    {
     "name": "stderr",
     "output_type": "stream",
     "text": [
      "Test_Loader: 100%|██████████| 288/288 [00:30<00:00,  9.53it/s]\n"
     ]
    },
    {
     "name": "stdout",
     "output_type": "stream",
     "text": [
      "Loss1: 1.1062, Loss2: 0.5476, Loss3: 1.8188\n"
     ]
    },
    {
     "name": "stderr",
     "output_type": "stream",
     "text": [
      "Test_Loader: 100%|██████████| 288/288 [00:30<00:00,  9.59it/s]\n"
     ]
    },
    {
     "name": "stdout",
     "output_type": "stream",
     "text": [
      "Loss1: 1.0983, Loss2: 0.5445, Loss3: 1.7887\n"
     ]
    },
    {
     "name": "stderr",
     "output_type": "stream",
     "text": [
      "Test_Loader: 100%|██████████| 288/288 [00:30<00:00,  9.45it/s]\n"
     ]
    },
    {
     "name": "stdout",
     "output_type": "stream",
     "text": [
      "Loss1: 1.0693, Loss2: 0.5335, Loss3: 1.7751\n"
     ]
    },
    {
     "name": "stderr",
     "output_type": "stream",
     "text": [
      "Test_Loader: 100%|██████████| 288/288 [00:30<00:00,  9.53it/s]\n"
     ]
    },
    {
     "name": "stdout",
     "output_type": "stream",
     "text": [
      "Loss1: 1.0488, Loss2: 0.5070, Loss3: 1.7361\n"
     ]
    },
    {
     "name": "stderr",
     "output_type": "stream",
     "text": [
      "Test_Loader: 100%|██████████| 288/288 [00:30<00:00,  9.52it/s]\n"
     ]
    },
    {
     "name": "stdout",
     "output_type": "stream",
     "text": [
      "Loss1: 1.0250, Loss2: 0.5033, Loss3: 1.7231\n"
     ]
    },
    {
     "name": "stderr",
     "output_type": "stream",
     "text": [
      "Test_Loader: 100%|██████████| 288/288 [00:28<00:00,  9.98it/s]\n"
     ]
    },
    {
     "name": "stdout",
     "output_type": "stream",
     "text": [
      "Loss1: 1.0427, Loss2: 0.5185, Loss3: 1.7256\n"
     ]
    },
    {
     "name": "stderr",
     "output_type": "stream",
     "text": [
      "Test_Loader: 100%|██████████| 288/288 [00:29<00:00,  9.85it/s]\n"
     ]
    },
    {
     "name": "stdout",
     "output_type": "stream",
     "text": [
      "Loss1: 1.0373, Loss2: 0.5092, Loss3: 1.7291\n"
     ]
    },
    {
     "name": "stderr",
     "output_type": "stream",
     "text": [
      "Test_Loader: 100%|██████████| 288/288 [00:29<00:00,  9.63it/s]\n"
     ]
    },
    {
     "name": "stdout",
     "output_type": "stream",
     "text": [
      "Loss1: 1.0098, Loss2: 0.5015, Loss3: 1.7162\n"
     ]
    },
    {
     "name": "stderr",
     "output_type": "stream",
     "text": [
      "Test_Loader: 100%|██████████| 288/288 [00:28<00:00, 10.26it/s]\n"
     ]
    },
    {
     "name": "stdout",
     "output_type": "stream",
     "text": [
      "Loss1: 1.0318, Loss2: 0.5025, Loss3: 1.6982\n"
     ]
    },
    {
     "name": "stderr",
     "output_type": "stream",
     "text": [
      "Test_Loader: 100%|██████████| 288/288 [00:27<00:00, 10.56it/s]\n"
     ]
    },
    {
     "name": "stdout",
     "output_type": "stream",
     "text": [
      "Loss1: 1.0283, Loss2: 0.4919, Loss3: 1.6975\n"
     ]
    },
    {
     "name": "stderr",
     "output_type": "stream",
     "text": [
      "Test_Loader: 100%|██████████| 288/288 [00:27<00:00, 10.43it/s]\n"
     ]
    },
    {
     "name": "stdout",
     "output_type": "stream",
     "text": [
      "Loss1: 1.0084, Loss2: 0.4883, Loss3: 1.6734\n"
     ]
    },
    {
     "name": "stderr",
     "output_type": "stream",
     "text": [
      "Test_Loader: 100%|██████████| 288/288 [00:28<00:00,  9.99it/s]\n"
     ]
    },
    {
     "name": "stdout",
     "output_type": "stream",
     "text": [
      "Loss1: 1.0022, Loss2: 0.4910, Loss3: 1.6792\n"
     ]
    },
    {
     "name": "stderr",
     "output_type": "stream",
     "text": [
      "Test_Loader: 100%|██████████| 288/288 [00:29<00:00,  9.64it/s]\n"
     ]
    },
    {
     "name": "stdout",
     "output_type": "stream",
     "text": [
      "Loss1: 0.9758, Loss2: 0.4732, Loss3: 1.6370\n"
     ]
    },
    {
     "name": "stderr",
     "output_type": "stream",
     "text": [
      "Test_Loader: 100%|██████████| 288/288 [00:30<00:00,  9.56it/s]\n"
     ]
    },
    {
     "name": "stdout",
     "output_type": "stream",
     "text": [
      "Loss1: 0.9692, Loss2: 0.4756, Loss3: 1.6359\n"
     ]
    },
    {
     "name": "stderr",
     "output_type": "stream",
     "text": [
      "Test_Loader: 100%|██████████| 288/288 [00:29<00:00,  9.80it/s]\n"
     ]
    },
    {
     "name": "stdout",
     "output_type": "stream",
     "text": [
      "Loss1: 0.9499, Loss2: 0.4768, Loss3: 1.6062\n"
     ]
    },
    {
     "name": "stderr",
     "output_type": "stream",
     "text": [
      "Test_Loader: 100%|██████████| 288/288 [00:29<00:00,  9.85it/s]\n"
     ]
    },
    {
     "name": "stdout",
     "output_type": "stream",
     "text": [
      "Loss1: 0.9306, Loss2: 0.4654, Loss3: 1.5872\n"
     ]
    },
    {
     "name": "stderr",
     "output_type": "stream",
     "text": [
      "Test_Loader: 100%|██████████| 288/288 [00:29<00:00,  9.85it/s]\n"
     ]
    },
    {
     "name": "stdout",
     "output_type": "stream",
     "text": [
      "Loss1: 0.9373, Loss2: 0.4697, Loss3: 1.5775\n"
     ]
    },
    {
     "name": "stderr",
     "output_type": "stream",
     "text": [
      "Test_Loader: 100%|██████████| 288/288 [00:28<00:00, 10.11it/s]\n"
     ]
    },
    {
     "name": "stdout",
     "output_type": "stream",
     "text": [
      "Loss1: 0.9223, Loss2: 0.4685, Loss3: 1.5889\n"
     ]
    },
    {
     "name": "stderr",
     "output_type": "stream",
     "text": [
      "Test_Loader: 100%|██████████| 288/288 [00:28<00:00, 10.10it/s]\n"
     ]
    },
    {
     "name": "stdout",
     "output_type": "stream",
     "text": [
      "Loss1: 0.8917, Loss2: 0.4695, Loss3: 1.5671\n"
     ]
    },
    {
     "name": "stderr",
     "output_type": "stream",
     "text": [
      "Test_Loader: 100%|██████████| 288/288 [00:28<00:00, 10.18it/s]\n"
     ]
    },
    {
     "name": "stdout",
     "output_type": "stream",
     "text": [
      "Loss1: 0.9178, Loss2: 0.4700, Loss3: 1.5744\n"
     ]
    },
    {
     "name": "stderr",
     "output_type": "stream",
     "text": [
      "Test_Loader: 100%|██████████| 288/288 [00:29<00:00,  9.67it/s]\n"
     ]
    },
    {
     "name": "stdout",
     "output_type": "stream",
     "text": [
      "Loss1: 0.8728, Loss2: 0.4614, Loss3: 1.4800\n"
     ]
    },
    {
     "name": "stderr",
     "output_type": "stream",
     "text": [
      "Test_Loader: 100%|██████████| 288/288 [00:29<00:00,  9.83it/s]\n"
     ]
    },
    {
     "name": "stdout",
     "output_type": "stream",
     "text": [
      "Loss1: 0.8721, Loss2: 0.4525, Loss3: 1.4828\n"
     ]
    },
    {
     "name": "stderr",
     "output_type": "stream",
     "text": [
      "Test_Loader: 100%|██████████| 288/288 [00:27<00:00, 10.39it/s]\n"
     ]
    },
    {
     "name": "stdout",
     "output_type": "stream",
     "text": [
      "Loss1: 0.8797, Loss2: 0.4575, Loss3: 1.4705\n"
     ]
    },
    {
     "name": "stderr",
     "output_type": "stream",
     "text": [
      "Test_Loader: 100%|██████████| 288/288 [00:28<00:00, 10.26it/s]\n"
     ]
    },
    {
     "name": "stdout",
     "output_type": "stream",
     "text": [
      "Loss1: 0.8830, Loss2: 0.4795, Loss3: 1.5101\n"
     ]
    },
    {
     "name": "stderr",
     "output_type": "stream",
     "text": [
      "Test_Loader: 100%|██████████| 288/288 [00:29<00:00,  9.85it/s]\n"
     ]
    },
    {
     "name": "stdout",
     "output_type": "stream",
     "text": [
      "Loss1: 0.9864, Loss2: 0.5156, Loss3: 1.6211\n"
     ]
    },
    {
     "name": "stderr",
     "output_type": "stream",
     "text": [
      "Test_Loader: 100%|██████████| 288/288 [00:30<00:00,  9.59it/s]\n"
     ]
    },
    {
     "name": "stdout",
     "output_type": "stream",
     "text": [
      "Loss1: 0.9780, Loss2: 0.5098, Loss3: 1.6137\n"
     ]
    },
    {
     "name": "stderr",
     "output_type": "stream",
     "text": [
      "Test_Loader: 100%|██████████| 288/288 [00:28<00:00,  9.99it/s]\n"
     ]
    },
    {
     "name": "stdout",
     "output_type": "stream",
     "text": [
      "Loss1: 0.9755, Loss2: 0.5017, Loss3: 1.5801\n"
     ]
    },
    {
     "name": "stderr",
     "output_type": "stream",
     "text": [
      "Test_Loader: 100%|██████████| 288/288 [00:29<00:00,  9.76it/s]\n"
     ]
    },
    {
     "name": "stdout",
     "output_type": "stream",
     "text": [
      "Loss1: 0.9746, Loss2: 0.4923, Loss3: 1.5797\n"
     ]
    },
    {
     "name": "stderr",
     "output_type": "stream",
     "text": [
      "Test_Loader: 100%|██████████| 288/288 [00:30<00:00,  9.58it/s]\n"
     ]
    },
    {
     "name": "stdout",
     "output_type": "stream",
     "text": [
      "Loss1: 0.9596, Loss2: 0.4907, Loss3: 1.5550\n"
     ]
    },
    {
     "name": "stderr",
     "output_type": "stream",
     "text": [
      "Test_Loader: 100%|██████████| 288/288 [00:28<00:00, 10.01it/s]\n"
     ]
    },
    {
     "name": "stdout",
     "output_type": "stream",
     "text": [
      "Loss1: 0.9554, Loss2: 0.4866, Loss3: 1.5422\n"
     ]
    },
    {
     "name": "stderr",
     "output_type": "stream",
     "text": [
      "Test_Loader: 100%|██████████| 288/288 [00:28<00:00, 10.16it/s]\n"
     ]
    },
    {
     "name": "stdout",
     "output_type": "stream",
     "text": [
      "Loss1: 0.9219, Loss2: 0.4626, Loss3: 1.4975\n"
     ]
    },
    {
     "name": "stderr",
     "output_type": "stream",
     "text": [
      "Test_Loader: 100%|██████████| 288/288 [00:30<00:00,  9.34it/s]\n"
     ]
    },
    {
     "name": "stdout",
     "output_type": "stream",
     "text": [
      "Loss1: 0.9435, Loss2: 0.4660, Loss3: 1.5082\n"
     ]
    },
    {
     "name": "stderr",
     "output_type": "stream",
     "text": [
      "Test_Loader: 100%|██████████| 288/288 [00:32<00:00,  8.96it/s]\n"
     ]
    },
    {
     "name": "stdout",
     "output_type": "stream",
     "text": [
      "Loss1: 0.9369, Loss2: 0.4584, Loss3: 1.4975\n"
     ]
    },
    {
     "name": "stderr",
     "output_type": "stream",
     "text": [
      "Test_Loader: 100%|██████████| 288/288 [00:28<00:00,  9.93it/s]\n"
     ]
    },
    {
     "name": "stdout",
     "output_type": "stream",
     "text": [
      "Loss1: 0.9413, Loss2: 0.4567, Loss3: 1.4846\n"
     ]
    },
    {
     "name": "stderr",
     "output_type": "stream",
     "text": [
      "Test_Loader: 100%|██████████| 288/288 [00:28<00:00, 10.06it/s]\n"
     ]
    },
    {
     "name": "stdout",
     "output_type": "stream",
     "text": [
      "Loss1: 0.9322, Loss2: 0.4583, Loss3: 1.4910\n"
     ]
    },
    {
     "name": "stderr",
     "output_type": "stream",
     "text": [
      "Test_Loader: 100%|██████████| 288/288 [00:28<00:00,  9.95it/s]\n"
     ]
    },
    {
     "name": "stdout",
     "output_type": "stream",
     "text": [
      "Loss1: 0.9318, Loss2: 0.4504, Loss3: 1.4784\n"
     ]
    },
    {
     "name": "stderr",
     "output_type": "stream",
     "text": [
      "Test_Loader: 100%|██████████| 288/288 [00:28<00:00,  9.94it/s]\n"
     ]
    },
    {
     "name": "stdout",
     "output_type": "stream",
     "text": [
      "Loss1: 0.9290, Loss2: 0.4554, Loss3: 1.4768\n"
     ]
    },
    {
     "name": "stderr",
     "output_type": "stream",
     "text": [
      "Test_Loader: 100%|██████████| 288/288 [00:29<00:00,  9.68it/s]\n"
     ]
    },
    {
     "name": "stdout",
     "output_type": "stream",
     "text": [
      "Loss1: 0.9336, Loss2: 0.4477, Loss3: 1.4745\n"
     ]
    },
    {
     "name": "stderr",
     "output_type": "stream",
     "text": [
      "Test_Loader: 100%|██████████| 288/288 [00:29<00:00,  9.73it/s]\n"
     ]
    },
    {
     "name": "stdout",
     "output_type": "stream",
     "text": [
      "Loss1: 0.9252, Loss2: 0.4512, Loss3: 1.4801\n"
     ]
    },
    {
     "name": "stderr",
     "output_type": "stream",
     "text": [
      "Test_Loader: 100%|██████████| 288/288 [00:29<00:00,  9.77it/s]\n"
     ]
    },
    {
     "name": "stdout",
     "output_type": "stream",
     "text": [
      "Loss1: 0.9241, Loss2: 0.4493, Loss3: 1.4548\n"
     ]
    },
    {
     "name": "stderr",
     "output_type": "stream",
     "text": [
      "Test_Loader: 100%|██████████| 288/288 [00:28<00:00,  9.98it/s]\n"
     ]
    },
    {
     "name": "stdout",
     "output_type": "stream",
     "text": [
      "Loss1: 0.9200, Loss2: 0.4455, Loss3: 1.4567\n"
     ]
    },
    {
     "name": "stderr",
     "output_type": "stream",
     "text": [
      "Test_Loader: 100%|██████████| 288/288 [00:29<00:00,  9.62it/s]\n"
     ]
    },
    {
     "name": "stdout",
     "output_type": "stream",
     "text": [
      "Loss1: 0.9141, Loss2: 0.4405, Loss3: 1.4259\n"
     ]
    },
    {
     "name": "stderr",
     "output_type": "stream",
     "text": [
      "Test_Loader: 100%|██████████| 288/288 [00:30<00:00,  9.55it/s]\n"
     ]
    },
    {
     "name": "stdout",
     "output_type": "stream",
     "text": [
      "Loss1: 0.9065, Loss2: 0.4402, Loss3: 1.4283\n"
     ]
    },
    {
     "name": "stderr",
     "output_type": "stream",
     "text": [
      "Test_Loader: 100%|██████████| 288/288 [00:29<00:00,  9.93it/s]\n"
     ]
    },
    {
     "name": "stdout",
     "output_type": "stream",
     "text": [
      "Loss1: 0.9070, Loss2: 0.4319, Loss3: 1.4162\n"
     ]
    },
    {
     "name": "stderr",
     "output_type": "stream",
     "text": [
      "Test_Loader: 100%|██████████| 288/288 [00:28<00:00, 10.01it/s]\n"
     ]
    },
    {
     "name": "stdout",
     "output_type": "stream",
     "text": [
      "Loss1: 0.9145, Loss2: 0.4330, Loss3: 1.4071\n"
     ]
    },
    {
     "name": "stderr",
     "output_type": "stream",
     "text": [
      "Test_Loader: 100%|██████████| 288/288 [00:28<00:00, 10.00it/s]\n"
     ]
    },
    {
     "name": "stdout",
     "output_type": "stream",
     "text": [
      "Loss1: 0.9190, Loss2: 0.4304, Loss3: 1.4033\n"
     ]
    },
    {
     "name": "stderr",
     "output_type": "stream",
     "text": [
      "Test_Loader: 100%|██████████| 288/288 [00:28<00:00, 10.16it/s]\n"
     ]
    },
    {
     "name": "stdout",
     "output_type": "stream",
     "text": [
      "Loss1: 0.9226, Loss2: 0.4351, Loss3: 1.4269\n"
     ]
    },
    {
     "name": "stderr",
     "output_type": "stream",
     "text": [
      "Test_Loader: 100%|██████████| 288/288 [00:29<00:00,  9.91it/s]\n"
     ]
    },
    {
     "name": "stdout",
     "output_type": "stream",
     "text": [
      "Loss1: 0.9257, Loss2: 0.4316, Loss3: 1.4139\n"
     ]
    },
    {
     "name": "stderr",
     "output_type": "stream",
     "text": [
      "Test_Loader: 100%|██████████| 288/288 [00:28<00:00,  9.95it/s]\n"
     ]
    },
    {
     "name": "stdout",
     "output_type": "stream",
     "text": [
      "Loss1: 0.9191, Loss2: 0.4295, Loss3: 1.4063\n"
     ]
    },
    {
     "name": "stderr",
     "output_type": "stream",
     "text": [
      "Test_Loader: 100%|██████████| 288/288 [00:29<00:00,  9.81it/s]\n"
     ]
    },
    {
     "name": "stdout",
     "output_type": "stream",
     "text": [
      "Loss1: 0.9197, Loss2: 0.4424, Loss3: 1.4088\n"
     ]
    },
    {
     "name": "stderr",
     "output_type": "stream",
     "text": [
      "Test_Loader: 100%|██████████| 288/288 [00:29<00:00,  9.84it/s]\n"
     ]
    },
    {
     "name": "stdout",
     "output_type": "stream",
     "text": [
      "Loss1: 0.9312, Loss2: 0.4415, Loss3: 1.4056\n"
     ]
    },
    {
     "name": "stderr",
     "output_type": "stream",
     "text": [
      "Test_Loader: 100%|██████████| 288/288 [00:29<00:00,  9.69it/s]\n"
     ]
    },
    {
     "name": "stdout",
     "output_type": "stream",
     "text": [
      "Loss1: 0.9231, Loss2: 0.4384, Loss3: 1.3945\n"
     ]
    },
    {
     "name": "stderr",
     "output_type": "stream",
     "text": [
      "Test_Loader: 100%|██████████| 288/288 [00:30<00:00,  9.44it/s]\n"
     ]
    },
    {
     "name": "stdout",
     "output_type": "stream",
     "text": [
      "Loss1: 0.9419, Loss2: 0.4441, Loss3: 1.3975\n"
     ]
    },
    {
     "name": "stderr",
     "output_type": "stream",
     "text": [
      "Test_Loader: 100%|██████████| 288/288 [00:29<00:00,  9.75it/s]\n"
     ]
    },
    {
     "name": "stdout",
     "output_type": "stream",
     "text": [
      "Loss1: 0.9403, Loss2: 0.4434, Loss3: 1.3817\n"
     ]
    },
    {
     "name": "stderr",
     "output_type": "stream",
     "text": [
      "Test_Loader: 100%|██████████| 288/288 [00:30<00:00,  9.56it/s]\n"
     ]
    },
    {
     "name": "stdout",
     "output_type": "stream",
     "text": [
      "Loss1: 0.9373, Loss2: 0.4406, Loss3: 1.3792\n"
     ]
    },
    {
     "name": "stderr",
     "output_type": "stream",
     "text": [
      "Test_Loader: 100%|██████████| 288/288 [00:30<00:00,  9.43it/s]\n"
     ]
    },
    {
     "name": "stdout",
     "output_type": "stream",
     "text": [
      "Loss1: 0.9343, Loss2: 0.4408, Loss3: 1.3675\n"
     ]
    },
    {
     "name": "stderr",
     "output_type": "stream",
     "text": [
      "Test_Loader: 100%|██████████| 288/288 [00:31<00:00,  9.09it/s]\n"
     ]
    },
    {
     "name": "stdout",
     "output_type": "stream",
     "text": [
      "Loss1: 0.9285, Loss2: 0.4371, Loss3: 1.3662\n"
     ]
    },
    {
     "name": "stderr",
     "output_type": "stream",
     "text": [
      "Test_Loader: 100%|██████████| 288/288 [00:28<00:00, 10.22it/s]\n"
     ]
    },
    {
     "name": "stdout",
     "output_type": "stream",
     "text": [
      "Loss1: 0.9338, Loss2: 0.4359, Loss3: 1.3519\n"
     ]
    },
    {
     "name": "stderr",
     "output_type": "stream",
     "text": [
      "Test_Loader: 100%|██████████| 288/288 [00:28<00:00, 10.27it/s]\n"
     ]
    },
    {
     "name": "stdout",
     "output_type": "stream",
     "text": [
      "Loss1: 0.9239, Loss2: 0.4302, Loss3: 1.3497\n"
     ]
    },
    {
     "name": "stderr",
     "output_type": "stream",
     "text": [
      "Test_Loader: 100%|██████████| 288/288 [00:27<00:00, 10.42it/s]\n"
     ]
    },
    {
     "name": "stdout",
     "output_type": "stream",
     "text": [
      "Loss1: 0.9170, Loss2: 0.4326, Loss3: 1.3506\n"
     ]
    },
    {
     "name": "stderr",
     "output_type": "stream",
     "text": [
      "Test_Loader: 100%|██████████| 288/288 [00:28<00:00,  9.96it/s]\n"
     ]
    },
    {
     "name": "stdout",
     "output_type": "stream",
     "text": [
      "Loss1: 0.9177, Loss2: 0.4283, Loss3: 1.3411\n"
     ]
    },
    {
     "name": "stderr",
     "output_type": "stream",
     "text": [
      "Test_Loader: 100%|██████████| 288/288 [00:28<00:00, 10.17it/s]\n"
     ]
    },
    {
     "name": "stdout",
     "output_type": "stream",
     "text": [
      "Loss1: 0.9261, Loss2: 0.4268, Loss3: 1.3238\n"
     ]
    },
    {
     "name": "stderr",
     "output_type": "stream",
     "text": [
      "Test_Loader: 100%|██████████| 288/288 [00:28<00:00, 10.22it/s]\n"
     ]
    },
    {
     "name": "stdout",
     "output_type": "stream",
     "text": [
      "Loss1: 0.9205, Loss2: 0.4207, Loss3: 1.3225\n"
     ]
    },
    {
     "name": "stderr",
     "output_type": "stream",
     "text": [
      "Test_Loader: 100%|██████████| 288/288 [00:28<00:00,  9.99it/s]\n"
     ]
    },
    {
     "name": "stdout",
     "output_type": "stream",
     "text": [
      "Loss1: 0.9141, Loss2: 0.4198, Loss3: 1.3099\n"
     ]
    },
    {
     "name": "stderr",
     "output_type": "stream",
     "text": [
      "Test_Loader: 100%|██████████| 288/288 [00:29<00:00,  9.87it/s]\n"
     ]
    },
    {
     "name": "stdout",
     "output_type": "stream",
     "text": [
      "Loss1: 0.9024, Loss2: 0.4190, Loss3: 1.3083\n"
     ]
    },
    {
     "name": "stderr",
     "output_type": "stream",
     "text": [
      "Test_Loader: 100%|██████████| 288/288 [00:28<00:00,  9.98it/s]\n"
     ]
    },
    {
     "name": "stdout",
     "output_type": "stream",
     "text": [
      "Loss1: 0.8998, Loss2: 0.4179, Loss3: 1.2908\n"
     ]
    },
    {
     "name": "stderr",
     "output_type": "stream",
     "text": [
      "Test_Loader: 100%|██████████| 288/288 [00:29<00:00,  9.68it/s]\n"
     ]
    },
    {
     "name": "stdout",
     "output_type": "stream",
     "text": [
      "Loss1: 0.9020, Loss2: 0.4239, Loss3: 1.2905\n"
     ]
    },
    {
     "name": "stderr",
     "output_type": "stream",
     "text": [
      "Test_Loader: 100%|██████████| 288/288 [00:28<00:00,  9.99it/s]\n"
     ]
    },
    {
     "name": "stdout",
     "output_type": "stream",
     "text": [
      "Loss1: 0.8805, Loss2: 0.4115, Loss3: 1.2531\n"
     ]
    },
    {
     "name": "stderr",
     "output_type": "stream",
     "text": [
      "Test_Loader: 100%|██████████| 288/288 [00:31<00:00,  9.15it/s]\n"
     ]
    },
    {
     "name": "stdout",
     "output_type": "stream",
     "text": [
      "Loss1: 0.8771, Loss2: 0.4082, Loss3: 1.2684\n"
     ]
    },
    {
     "name": "stderr",
     "output_type": "stream",
     "text": [
      "Test_Loader: 100%|██████████| 288/288 [00:30<00:00,  9.59it/s]\n"
     ]
    },
    {
     "name": "stdout",
     "output_type": "stream",
     "text": [
      "Loss1: 0.8706, Loss2: 0.4113, Loss3: 1.2674\n"
     ]
    },
    {
     "name": "stderr",
     "output_type": "stream",
     "text": [
      "Test_Loader: 100%|██████████| 288/288 [00:29<00:00,  9.90it/s]\n"
     ]
    },
    {
     "name": "stdout",
     "output_type": "stream",
     "text": [
      "Loss1: 0.8772, Loss2: 0.4095, Loss3: 1.2795\n"
     ]
    },
    {
     "name": "stderr",
     "output_type": "stream",
     "text": [
      "Test_Loader: 100%|██████████| 288/288 [00:29<00:00,  9.92it/s]\n"
     ]
    },
    {
     "name": "stdout",
     "output_type": "stream",
     "text": [
      "Loss1: 0.8752, Loss2: 0.4239, Loss3: 1.2785\n"
     ]
    },
    {
     "name": "stderr",
     "output_type": "stream",
     "text": [
      "Test_Loader: 100%|██████████| 288/288 [00:28<00:00, 10.05it/s]\n"
     ]
    },
    {
     "name": "stdout",
     "output_type": "stream",
     "text": [
      "Loss1: 0.8750, Loss2: 0.4154, Loss3: 1.2766\n"
     ]
    },
    {
     "name": "stderr",
     "output_type": "stream",
     "text": [
      "Test_Loader: 100%|██████████| 288/288 [00:29<00:00,  9.89it/s]\n"
     ]
    },
    {
     "name": "stdout",
     "output_type": "stream",
     "text": [
      "Loss1: 0.8763, Loss2: 0.4130, Loss3: 1.2543\n"
     ]
    },
    {
     "name": "stderr",
     "output_type": "stream",
     "text": [
      "Test_Loader: 100%|██████████| 288/288 [00:29<00:00,  9.77it/s]\n"
     ]
    },
    {
     "name": "stdout",
     "output_type": "stream",
     "text": [
      "Loss1: 0.8694, Loss2: 0.4102, Loss3: 1.2588\n"
     ]
    },
    {
     "name": "stderr",
     "output_type": "stream",
     "text": [
      "Test_Loader: 100%|██████████| 288/288 [00:29<00:00,  9.89it/s]\n"
     ]
    },
    {
     "name": "stdout",
     "output_type": "stream",
     "text": [
      "Loss1: 0.8600, Loss2: 0.4071, Loss3: 1.2590\n"
     ]
    },
    {
     "name": "stderr",
     "output_type": "stream",
     "text": [
      "Test_Loader: 100%|██████████| 288/288 [00:29<00:00,  9.92it/s]\n"
     ]
    },
    {
     "name": "stdout",
     "output_type": "stream",
     "text": [
      "Loss1: 0.8699, Loss2: 0.4064, Loss3: 1.2615\n"
     ]
    },
    {
     "name": "stderr",
     "output_type": "stream",
     "text": [
      "Test_Loader: 100%|██████████| 288/288 [00:30<00:00,  9.58it/s]\n"
     ]
    },
    {
     "name": "stdout",
     "output_type": "stream",
     "text": [
      "Loss1: 0.8520, Loss2: 0.4083, Loss3: 1.2581\n"
     ]
    },
    {
     "name": "stderr",
     "output_type": "stream",
     "text": [
      "Test_Loader: 100%|██████████| 288/288 [00:30<00:00,  9.54it/s]\n"
     ]
    },
    {
     "name": "stdout",
     "output_type": "stream",
     "text": [
      "Loss1: 0.7598, Loss2: 0.3828, Loss3: 1.0698\n"
     ]
    },
    {
     "name": "stderr",
     "output_type": "stream",
     "text": [
      "Test_Loader: 100%|██████████| 288/288 [00:27<00:00, 10.32it/s]\n"
     ]
    },
    {
     "name": "stdout",
     "output_type": "stream",
     "text": [
      "Loss1: 0.7648, Loss2: 0.3846, Loss3: 1.1140\n"
     ]
    },
    {
     "name": "stderr",
     "output_type": "stream",
     "text": [
      "Test_Loader: 100%|██████████| 288/288 [00:30<00:00,  9.43it/s]\n"
     ]
    },
    {
     "name": "stdout",
     "output_type": "stream",
     "text": [
      "Loss1: 0.7882, Loss2: 0.3917, Loss3: 1.1119\n"
     ]
    },
    {
     "name": "stderr",
     "output_type": "stream",
     "text": [
      "Test_Loader: 100%|██████████| 288/288 [00:31<00:00,  9.28it/s]\n"
     ]
    },
    {
     "name": "stdout",
     "output_type": "stream",
     "text": [
      "Loss1: 0.7831, Loss2: 0.3910, Loss3: 1.1074\n"
     ]
    },
    {
     "name": "stderr",
     "output_type": "stream",
     "text": [
      "Test_Loader: 100%|██████████| 288/288 [00:29<00:00,  9.92it/s]\n"
     ]
    },
    {
     "name": "stdout",
     "output_type": "stream",
     "text": [
      "Loss1: 0.7815, Loss2: 0.3940, Loss3: 1.1100\n"
     ]
    },
    {
     "name": "stderr",
     "output_type": "stream",
     "text": [
      "Test_Loader: 100%|██████████| 288/288 [00:29<00:00,  9.77it/s]\n"
     ]
    },
    {
     "name": "stdout",
     "output_type": "stream",
     "text": [
      "Loss1: 0.7589, Loss2: 0.3874, Loss3: 1.0881\n"
     ]
    },
    {
     "name": "stderr",
     "output_type": "stream",
     "text": [
      "Test_Loader: 100%|██████████| 288/288 [00:29<00:00,  9.68it/s]\n"
     ]
    },
    {
     "name": "stdout",
     "output_type": "stream",
     "text": [
      "Loss1: 0.7821, Loss2: 0.3950, Loss3: 1.0862\n"
     ]
    },
    {
     "name": "stderr",
     "output_type": "stream",
     "text": [
      "Test_Loader: 100%|██████████| 288/288 [00:29<00:00,  9.85it/s]\n"
     ]
    },
    {
     "name": "stdout",
     "output_type": "stream",
     "text": [
      "Loss1: 0.8371, Loss2: 0.3987, Loss3: 1.1443\n"
     ]
    },
    {
     "name": "stderr",
     "output_type": "stream",
     "text": [
      "Test_Loader: 100%|██████████| 288/288 [00:29<00:00,  9.62it/s]\n"
     ]
    },
    {
     "name": "stdout",
     "output_type": "stream",
     "text": [
      "Loss1: 0.8245, Loss2: 0.3964, Loss3: 1.1509\n"
     ]
    },
    {
     "name": "stderr",
     "output_type": "stream",
     "text": [
      "Test_Loader: 100%|██████████| 288/288 [00:31<00:00,  9.26it/s]\n"
     ]
    },
    {
     "name": "stdout",
     "output_type": "stream",
     "text": [
      "Loss1: 0.8101, Loss2: 0.3924, Loss3: 1.1185\n"
     ]
    },
    {
     "name": "stderr",
     "output_type": "stream",
     "text": [
      "Test_Loader: 100%|██████████| 288/288 [00:31<00:00,  9.21it/s]\n"
     ]
    },
    {
     "name": "stdout",
     "output_type": "stream",
     "text": [
      "Loss1: 0.7975, Loss2: 0.3887, Loss3: 1.0731\n"
     ]
    },
    {
     "name": "stderr",
     "output_type": "stream",
     "text": [
      "Test_Loader: 100%|██████████| 288/288 [00:30<00:00,  9.57it/s]\n"
     ]
    },
    {
     "name": "stdout",
     "output_type": "stream",
     "text": [
      "Loss1: 0.8523, Loss2: 0.3944, Loss3: 1.0893\n"
     ]
    },
    {
     "name": "stderr",
     "output_type": "stream",
     "text": [
      "Test_Loader: 100%|██████████| 288/288 [00:29<00:00,  9.67it/s]\n"
     ]
    },
    {
     "name": "stdout",
     "output_type": "stream",
     "text": [
      "Loss1: 0.8601, Loss2: 0.3961, Loss3: 1.0794\n"
     ]
    },
    {
     "name": "stderr",
     "output_type": "stream",
     "text": [
      "Test_Loader: 100%|██████████| 288/288 [00:28<00:00, 10.10it/s]\n"
     ]
    },
    {
     "name": "stdout",
     "output_type": "stream",
     "text": [
      "Loss1: 0.8492, Loss2: 0.3985, Loss3: 1.1039\n"
     ]
    },
    {
     "name": "stderr",
     "output_type": "stream",
     "text": [
      "Test_Loader: 100%|██████████| 288/288 [00:28<00:00, 10.26it/s]\n"
     ]
    },
    {
     "name": "stdout",
     "output_type": "stream",
     "text": [
      "Loss1: 0.8782, Loss2: 0.3916, Loss3: 1.0840\n"
     ]
    },
    {
     "name": "stderr",
     "output_type": "stream",
     "text": [
      "Test_Loader: 100%|██████████| 288/288 [00:31<00:00,  9.26it/s]\n"
     ]
    },
    {
     "name": "stdout",
     "output_type": "stream",
     "text": [
      "Loss1: 0.8623, Loss2: 0.3890, Loss3: 1.0997\n"
     ]
    },
    {
     "name": "stderr",
     "output_type": "stream",
     "text": [
      "Test_Loader: 100%|██████████| 288/288 [00:28<00:00, 10.22it/s]\n"
     ]
    },
    {
     "name": "stdout",
     "output_type": "stream",
     "text": [
      "Loss1: 0.8415, Loss2: 0.3828, Loss3: 1.0587\n"
     ]
    },
    {
     "name": "stderr",
     "output_type": "stream",
     "text": [
      "Test_Loader: 100%|██████████| 288/288 [00:28<00:00, 10.25it/s]\n"
     ]
    },
    {
     "name": "stdout",
     "output_type": "stream",
     "text": [
      "Loss1: 0.8417, Loss2: 0.3731, Loss3: 1.0470\n"
     ]
    },
    {
     "name": "stderr",
     "output_type": "stream",
     "text": [
      "Test_Loader: 100%|██████████| 288/288 [00:28<00:00, 10.04it/s]\n"
     ]
    },
    {
     "name": "stdout",
     "output_type": "stream",
     "text": [
      "Loss1: 0.8408, Loss2: 0.3710, Loss3: 1.0463\n"
     ]
    },
    {
     "name": "stderr",
     "output_type": "stream",
     "text": [
      "Test_Loader: 100%|██████████| 288/288 [00:29<00:00,  9.81it/s]\n"
     ]
    },
    {
     "name": "stdout",
     "output_type": "stream",
     "text": [
      "Loss1: 0.8225, Loss2: 0.3685, Loss3: 1.0385\n"
     ]
    },
    {
     "name": "stderr",
     "output_type": "stream",
     "text": [
      "Test_Loader: 100%|██████████| 288/288 [00:30<00:00,  9.53it/s]\n"
     ]
    },
    {
     "name": "stdout",
     "output_type": "stream",
     "text": [
      "Loss1: 0.8375, Loss2: 0.3726, Loss3: 1.0213\n"
     ]
    },
    {
     "name": "stderr",
     "output_type": "stream",
     "text": [
      "Test_Loader: 100%|██████████| 288/288 [00:30<00:00,  9.53it/s]\n"
     ]
    },
    {
     "name": "stdout",
     "output_type": "stream",
     "text": [
      "Loss1: 0.8522, Loss2: 0.3729, Loss3: 1.0340\n"
     ]
    },
    {
     "name": "stderr",
     "output_type": "stream",
     "text": [
      "Test_Loader: 100%|██████████| 288/288 [00:30<00:00,  9.34it/s]\n"
     ]
    },
    {
     "name": "stdout",
     "output_type": "stream",
     "text": [
      "Loss1: 0.8559, Loss2: 0.3801, Loss3: 1.0466\n"
     ]
    },
    {
     "name": "stderr",
     "output_type": "stream",
     "text": [
      "Test_Loader: 100%|██████████| 288/288 [00:30<00:00,  9.52it/s]\n"
     ]
    },
    {
     "name": "stdout",
     "output_type": "stream",
     "text": [
      "Loss1: 0.8848, Loss2: 0.3887, Loss3: 1.0622\n"
     ]
    },
    {
     "name": "stderr",
     "output_type": "stream",
     "text": [
      "Test_Loader: 100%|██████████| 288/288 [00:30<00:00,  9.49it/s]\n"
     ]
    },
    {
     "name": "stdout",
     "output_type": "stream",
     "text": [
      "Loss1: 0.8848, Loss2: 0.3886, Loss3: 1.0552\n"
     ]
    },
    {
     "name": "stderr",
     "output_type": "stream",
     "text": [
      "Test_Loader: 100%|██████████| 288/288 [00:29<00:00,  9.71it/s]\n"
     ]
    },
    {
     "name": "stdout",
     "output_type": "stream",
     "text": [
      "Loss1: 0.8865, Loss2: 0.3873, Loss3: 1.0627\n"
     ]
    },
    {
     "name": "stderr",
     "output_type": "stream",
     "text": [
      "Test_Loader: 100%|██████████| 288/288 [00:29<00:00,  9.71it/s]\n"
     ]
    },
    {
     "name": "stdout",
     "output_type": "stream",
     "text": [
      "Loss1: 0.8574, Loss2: 0.3870, Loss3: 1.0711\n"
     ]
    },
    {
     "name": "stderr",
     "output_type": "stream",
     "text": [
      "Test_Loader: 100%|██████████| 288/288 [00:29<00:00,  9.64it/s]\n"
     ]
    },
    {
     "name": "stdout",
     "output_type": "stream",
     "text": [
      "Loss1: 0.8647, Loss2: 0.3877, Loss3: 1.0487\n"
     ]
    },
    {
     "name": "stderr",
     "output_type": "stream",
     "text": [
      "Test_Loader: 100%|██████████| 288/288 [00:30<00:00,  9.38it/s]\n"
     ]
    },
    {
     "name": "stdout",
     "output_type": "stream",
     "text": [
      "Loss1: 0.8602, Loss2: 0.3802, Loss3: 1.0382\n"
     ]
    },
    {
     "name": "stderr",
     "output_type": "stream",
     "text": [
      "Test_Loader: 100%|██████████| 288/288 [00:30<00:00,  9.50it/s]\n"
     ]
    },
    {
     "name": "stdout",
     "output_type": "stream",
     "text": [
      "Loss1: 0.8440, Loss2: 0.3759, Loss3: 1.0328\n"
     ]
    },
    {
     "name": "stderr",
     "output_type": "stream",
     "text": [
      "Test_Loader: 100%|██████████| 288/288 [00:30<00:00,  9.58it/s]\n"
     ]
    },
    {
     "name": "stdout",
     "output_type": "stream",
     "text": [
      "Loss1: 0.8313, Loss2: 0.3723, Loss3: 1.0274\n"
     ]
    },
    {
     "name": "stderr",
     "output_type": "stream",
     "text": [
      "Test_Loader: 100%|██████████| 288/288 [00:30<00:00,  9.49it/s]\n"
     ]
    },
    {
     "name": "stdout",
     "output_type": "stream",
     "text": [
      "Loss1: 0.8250, Loss2: 0.3669, Loss3: 1.0188\n"
     ]
    },
    {
     "name": "stderr",
     "output_type": "stream",
     "text": [
      "Test_Loader: 100%|██████████| 288/288 [00:30<00:00,  9.58it/s]\n"
     ]
    },
    {
     "name": "stdout",
     "output_type": "stream",
     "text": [
      "Loss1: 0.8295, Loss2: 0.3673, Loss3: 1.0165\n"
     ]
    },
    {
     "name": "stderr",
     "output_type": "stream",
     "text": [
      "Test_Loader: 100%|██████████| 288/288 [00:30<00:00,  9.33it/s]\n"
     ]
    },
    {
     "name": "stdout",
     "output_type": "stream",
     "text": [
      "Loss1: 0.8252, Loss2: 0.3627, Loss3: 1.0185\n"
     ]
    },
    {
     "name": "stderr",
     "output_type": "stream",
     "text": [
      "Test_Loader: 100%|██████████| 288/288 [00:30<00:00,  9.47it/s]\n"
     ]
    },
    {
     "name": "stdout",
     "output_type": "stream",
     "text": [
      "Loss1: 0.8171, Loss2: 0.3566, Loss3: 0.9911\n"
     ]
    },
    {
     "name": "stderr",
     "output_type": "stream",
     "text": [
      "Test_Loader: 100%|██████████| 288/288 [00:29<00:00,  9.61it/s]\n"
     ]
    },
    {
     "name": "stdout",
     "output_type": "stream",
     "text": [
      "Loss1: 0.8152, Loss2: 0.3456, Loss3: 0.9784\n"
     ]
    },
    {
     "name": "stderr",
     "output_type": "stream",
     "text": [
      "Test_Loader: 100%|██████████| 288/288 [00:31<00:00,  9.19it/s]\n"
     ]
    },
    {
     "name": "stdout",
     "output_type": "stream",
     "text": [
      "Loss1: 0.8060, Loss2: 0.3466, Loss3: 0.9981\n"
     ]
    },
    {
     "name": "stderr",
     "output_type": "stream",
     "text": [
      "Test_Loader: 100%|██████████| 288/288 [00:30<00:00,  9.58it/s]\n"
     ]
    },
    {
     "name": "stdout",
     "output_type": "stream",
     "text": [
      "Loss1: 0.7816, Loss2: 0.3405, Loss3: 0.9688\n"
     ]
    },
    {
     "name": "stderr",
     "output_type": "stream",
     "text": [
      "Test_Loader: 100%|██████████| 288/288 [00:29<00:00,  9.82it/s]\n"
     ]
    },
    {
     "name": "stdout",
     "output_type": "stream",
     "text": [
      "Loss1: 0.8103, Loss2: 0.3408, Loss3: 0.9853\n"
     ]
    },
    {
     "name": "stderr",
     "output_type": "stream",
     "text": [
      "Test_Loader: 100%|██████████| 288/288 [00:31<00:00,  9.05it/s]\n"
     ]
    },
    {
     "name": "stdout",
     "output_type": "stream",
     "text": [
      "Loss1: 0.8020, Loss2: 0.3356, Loss3: 1.0006\n"
     ]
    },
    {
     "name": "stderr",
     "output_type": "stream",
     "text": [
      "Test_Loader: 100%|██████████| 288/288 [00:30<00:00,  9.49it/s]\n"
     ]
    },
    {
     "name": "stdout",
     "output_type": "stream",
     "text": [
      "Loss1: 0.8514, Loss2: 0.3421, Loss3: 1.1656\n"
     ]
    },
    {
     "name": "stderr",
     "output_type": "stream",
     "text": [
      "Test_Loader: 100%|██████████| 288/288 [00:29<00:00,  9.70it/s]\n"
     ]
    },
    {
     "name": "stdout",
     "output_type": "stream",
     "text": [
      "Loss1: 0.8292, Loss2: 0.3344, Loss3: 1.1383\n"
     ]
    },
    {
     "name": "stderr",
     "output_type": "stream",
     "text": [
      "Test_Loader: 100%|██████████| 288/288 [00:29<00:00,  9.80it/s]\n"
     ]
    },
    {
     "name": "stdout",
     "output_type": "stream",
     "text": [
      "Loss1: 0.7556, Loss2: 0.3113, Loss3: 1.0432\n"
     ]
    },
    {
     "name": "stderr",
     "output_type": "stream",
     "text": [
      "Test_Loader: 100%|██████████| 288/288 [00:29<00:00,  9.83it/s]\n"
     ]
    },
    {
     "name": "stdout",
     "output_type": "stream",
     "text": [
      "Loss1: 0.7584, Loss2: 0.3094, Loss3: 1.0251\n"
     ]
    },
    {
     "name": "stderr",
     "output_type": "stream",
     "text": [
      "Test_Loader: 100%|██████████| 288/288 [00:30<00:00,  9.52it/s]\n"
     ]
    },
    {
     "name": "stdout",
     "output_type": "stream",
     "text": [
      "Loss1: 0.7617, Loss2: 0.3185, Loss3: 1.0823\n"
     ]
    },
    {
     "name": "stderr",
     "output_type": "stream",
     "text": [
      "Test_Loader: 100%|██████████| 288/288 [00:29<00:00,  9.64it/s]\n"
     ]
    },
    {
     "name": "stdout",
     "output_type": "stream",
     "text": [
      "Loss1: 0.7479, Loss2: 0.3157, Loss3: 1.0148\n"
     ]
    },
    {
     "name": "stderr",
     "output_type": "stream",
     "text": [
      "Test_Loader: 100%|██████████| 288/288 [00:30<00:00,  9.44it/s]\n"
     ]
    },
    {
     "name": "stdout",
     "output_type": "stream",
     "text": [
      "Loss1: 0.7550, Loss2: 0.3152, Loss3: 1.0557\n"
     ]
    },
    {
     "name": "stderr",
     "output_type": "stream",
     "text": [
      "Test_Loader: 100%|██████████| 288/288 [00:30<00:00,  9.54it/s]\n"
     ]
    },
    {
     "name": "stdout",
     "output_type": "stream",
     "text": [
      "Loss1: 0.7495, Loss2: 0.3158, Loss3: 1.0228\n"
     ]
    },
    {
     "name": "stderr",
     "output_type": "stream",
     "text": [
      "Test_Loader: 100%|██████████| 288/288 [00:30<00:00,  9.58it/s]\n"
     ]
    },
    {
     "name": "stdout",
     "output_type": "stream",
     "text": [
      "Loss1: 0.7526, Loss2: 0.3135, Loss3: 1.0448\n"
     ]
    },
    {
     "name": "stderr",
     "output_type": "stream",
     "text": [
      "Test_Loader: 100%|██████████| 288/288 [00:29<00:00,  9.70it/s]\n"
     ]
    },
    {
     "name": "stdout",
     "output_type": "stream",
     "text": [
      "Loss1: 0.7192, Loss2: 0.3098, Loss3: 1.0168\n"
     ]
    },
    {
     "name": "stderr",
     "output_type": "stream",
     "text": [
      "Test_Loader: 100%|██████████| 288/288 [00:32<00:00,  8.91it/s]\n"
     ]
    },
    {
     "name": "stdout",
     "output_type": "stream",
     "text": [
      "Loss1: 0.7223, Loss2: 0.3089, Loss3: 1.0463\n"
     ]
    },
    {
     "name": "stderr",
     "output_type": "stream",
     "text": [
      "Test_Loader: 100%|██████████| 288/288 [00:30<00:00,  9.54it/s]\n"
     ]
    },
    {
     "name": "stdout",
     "output_type": "stream",
     "text": [
      "Loss1: 0.7257, Loss2: 0.3111, Loss3: 1.0205\n"
     ]
    },
    {
     "name": "stderr",
     "output_type": "stream",
     "text": [
      "Test_Loader: 100%|██████████| 288/288 [00:30<00:00,  9.52it/s]\n"
     ]
    },
    {
     "name": "stdout",
     "output_type": "stream",
     "text": [
      "Loss1: 0.7329, Loss2: 0.3096, Loss3: 1.0225\n"
     ]
    },
    {
     "name": "stderr",
     "output_type": "stream",
     "text": [
      "Test_Loader: 100%|██████████| 288/288 [00:30<00:00,  9.48it/s]\n"
     ]
    },
    {
     "name": "stdout",
     "output_type": "stream",
     "text": [
      "Loss1: 0.7167, Loss2: 0.3029, Loss3: 0.9764\n"
     ]
    },
    {
     "name": "stderr",
     "output_type": "stream",
     "text": [
      "Test_Loader: 100%|██████████| 288/288 [00:29<00:00,  9.73it/s]\n"
     ]
    },
    {
     "name": "stdout",
     "output_type": "stream",
     "text": [
      "Loss1: 0.7189, Loss2: 0.3058, Loss3: 1.0105\n"
     ]
    },
    {
     "name": "stderr",
     "output_type": "stream",
     "text": [
      "Test_Loader: 100%|██████████| 288/288 [00:28<00:00,  9.97it/s]\n"
     ]
    },
    {
     "name": "stdout",
     "output_type": "stream",
     "text": [
      "Loss1: 0.7132, Loss2: 0.3056, Loss3: 1.0149\n"
     ]
    },
    {
     "name": "stderr",
     "output_type": "stream",
     "text": [
      "Test_Loader: 100%|██████████| 288/288 [00:29<00:00,  9.74it/s]\n"
     ]
    },
    {
     "name": "stdout",
     "output_type": "stream",
     "text": [
      "Loss1: 0.7010, Loss2: 0.3018, Loss3: 0.9846\n"
     ]
    },
    {
     "name": "stderr",
     "output_type": "stream",
     "text": [
      "Test_Loader: 100%|██████████| 288/288 [00:29<00:00,  9.66it/s]\n"
     ]
    },
    {
     "name": "stdout",
     "output_type": "stream",
     "text": [
      "Loss1: 0.7113, Loss2: 0.3019, Loss3: 0.9796\n"
     ]
    },
    {
     "name": "stderr",
     "output_type": "stream",
     "text": [
      "Test_Loader: 100%|██████████| 288/288 [00:29<00:00,  9.80it/s]\n"
     ]
    },
    {
     "name": "stdout",
     "output_type": "stream",
     "text": [
      "Loss1: 0.7068, Loss2: 0.2973, Loss3: 0.9663\n"
     ]
    },
    {
     "name": "stderr",
     "output_type": "stream",
     "text": [
      "Test_Loader: 100%|██████████| 288/288 [00:30<00:00,  9.58it/s]\n"
     ]
    },
    {
     "name": "stdout",
     "output_type": "stream",
     "text": [
      "Loss1: 0.7228, Loss2: 0.3104, Loss3: 0.9884\n"
     ]
    },
    {
     "name": "stderr",
     "output_type": "stream",
     "text": [
      "Test_Loader: 100%|██████████| 288/288 [00:29<00:00,  9.69it/s]\n"
     ]
    },
    {
     "name": "stdout",
     "output_type": "stream",
     "text": [
      "Loss1: 0.7122, Loss2: 0.3092, Loss3: 0.9663\n"
     ]
    },
    {
     "name": "stderr",
     "output_type": "stream",
     "text": [
      "Test_Loader: 100%|██████████| 288/288 [00:29<00:00,  9.79it/s]\n"
     ]
    },
    {
     "name": "stdout",
     "output_type": "stream",
     "text": [
      "Loss1: 0.7192, Loss2: 0.3089, Loss3: 0.9871\n"
     ]
    },
    {
     "name": "stderr",
     "output_type": "stream",
     "text": [
      "Test_Loader: 100%|██████████| 288/288 [00:29<00:00,  9.88it/s]\n"
     ]
    },
    {
     "name": "stdout",
     "output_type": "stream",
     "text": [
      "Loss1: 0.7168, Loss2: 0.3167, Loss3: 0.9740\n"
     ]
    },
    {
     "name": "stderr",
     "output_type": "stream",
     "text": [
      "Test_Loader: 100%|██████████| 288/288 [00:30<00:00,  9.45it/s]\n"
     ]
    },
    {
     "name": "stdout",
     "output_type": "stream",
     "text": [
      "Loss1: 0.7125, Loss2: 0.3135, Loss3: 0.9597\n"
     ]
    },
    {
     "name": "stderr",
     "output_type": "stream",
     "text": [
      "Test_Loader: 100%|██████████| 288/288 [00:28<00:00,  9.99it/s]\n"
     ]
    },
    {
     "name": "stdout",
     "output_type": "stream",
     "text": [
      "Loss1: 0.6897, Loss2: 0.3071, Loss3: 0.9341\n"
     ]
    },
    {
     "name": "stderr",
     "output_type": "stream",
     "text": [
      "Test_Loader: 100%|██████████| 288/288 [00:28<00:00,  9.96it/s]\n"
     ]
    },
    {
     "name": "stdout",
     "output_type": "stream",
     "text": [
      "Loss1: 0.6892, Loss2: 0.3053, Loss3: 0.9339\n"
     ]
    },
    {
     "name": "stderr",
     "output_type": "stream",
     "text": [
      "Test_Loader: 100%|██████████| 288/288 [00:29<00:00,  9.75it/s]\n"
     ]
    },
    {
     "name": "stdout",
     "output_type": "stream",
     "text": [
      "Loss1: 0.7008, Loss2: 0.3078, Loss3: 0.9609\n"
     ]
    },
    {
     "name": "stderr",
     "output_type": "stream",
     "text": [
      "Test_Loader: 100%|██████████| 288/288 [00:30<00:00,  9.54it/s]\n"
     ]
    },
    {
     "name": "stdout",
     "output_type": "stream",
     "text": [
      "Loss1: 0.6939, Loss2: 0.2993, Loss3: 0.9423\n"
     ]
    },
    {
     "name": "stderr",
     "output_type": "stream",
     "text": [
      "Test_Loader: 100%|██████████| 288/288 [00:30<00:00,  9.50it/s]\n"
     ]
    },
    {
     "name": "stdout",
     "output_type": "stream",
     "text": [
      "Loss1: 0.6887, Loss2: 0.3030, Loss3: 0.9211\n"
     ]
    },
    {
     "name": "stderr",
     "output_type": "stream",
     "text": [
      "Test_Loader: 100%|██████████| 288/288 [00:29<00:00,  9.63it/s]\n"
     ]
    },
    {
     "name": "stdout",
     "output_type": "stream",
     "text": [
      "Loss1: 0.6987, Loss2: 0.2969, Loss3: 0.9415\n"
     ]
    },
    {
     "name": "stderr",
     "output_type": "stream",
     "text": [
      "Test_Loader: 100%|██████████| 288/288 [00:29<00:00,  9.61it/s]\n"
     ]
    },
    {
     "name": "stdout",
     "output_type": "stream",
     "text": [
      "Loss1: 0.6664, Loss2: 0.2927, Loss3: 0.9159\n"
     ]
    },
    {
     "name": "stderr",
     "output_type": "stream",
     "text": [
      "Test_Loader: 100%|██████████| 288/288 [00:29<00:00,  9.63it/s]\n"
     ]
    },
    {
     "name": "stdout",
     "output_type": "stream",
     "text": [
      "Loss1: 0.6617, Loss2: 0.2883, Loss3: 0.9086\n"
     ]
    },
    {
     "name": "stderr",
     "output_type": "stream",
     "text": [
      "Test_Loader: 100%|██████████| 288/288 [00:29<00:00,  9.68it/s]\n"
     ]
    },
    {
     "name": "stdout",
     "output_type": "stream",
     "text": [
      "Loss1: 0.6716, Loss2: 0.2918, Loss3: 0.9271\n"
     ]
    },
    {
     "name": "stderr",
     "output_type": "stream",
     "text": [
      "Test_Loader: 100%|██████████| 288/288 [00:29<00:00,  9.79it/s]\n"
     ]
    },
    {
     "name": "stdout",
     "output_type": "stream",
     "text": [
      "Loss1: 0.6716, Loss2: 0.2896, Loss3: 0.9207\n"
     ]
    },
    {
     "name": "stderr",
     "output_type": "stream",
     "text": [
      "Test_Loader: 100%|██████████| 288/288 [00:30<00:00,  9.51it/s]\n"
     ]
    },
    {
     "name": "stdout",
     "output_type": "stream",
     "text": [
      "Loss1: 0.6648, Loss2: 0.2902, Loss3: 0.9082\n"
     ]
    },
    {
     "name": "stderr",
     "output_type": "stream",
     "text": [
      "Test_Loader: 100%|██████████| 288/288 [00:32<00:00,  8.91it/s]\n"
     ]
    },
    {
     "name": "stdout",
     "output_type": "stream",
     "text": [
      "Loss1: 0.6557, Loss2: 0.2815, Loss3: 0.9060\n"
     ]
    },
    {
     "name": "stderr",
     "output_type": "stream",
     "text": [
      "Test_Loader: 100%|██████████| 288/288 [00:29<00:00,  9.68it/s]\n"
     ]
    },
    {
     "name": "stdout",
     "output_type": "stream",
     "text": [
      "Loss1: 0.6632, Loss2: 0.2863, Loss3: 0.8918\n"
     ]
    },
    {
     "name": "stderr",
     "output_type": "stream",
     "text": [
      "Test_Loader: 100%|██████████| 288/288 [00:29<00:00,  9.82it/s]\n"
     ]
    },
    {
     "name": "stdout",
     "output_type": "stream",
     "text": [
      "Loss1: 0.6646, Loss2: 0.2849, Loss3: 0.9036\n"
     ]
    },
    {
     "name": "stderr",
     "output_type": "stream",
     "text": [
      "Test_Loader: 100%|██████████| 288/288 [00:28<00:00, 10.25it/s]\n"
     ]
    },
    {
     "name": "stdout",
     "output_type": "stream",
     "text": [
      "Loss1: 0.6580, Loss2: 0.2862, Loss3: 0.8956\n"
     ]
    },
    {
     "name": "stderr",
     "output_type": "stream",
     "text": [
      "Test_Loader: 100%|██████████| 288/288 [00:28<00:00, 10.21it/s]\n"
     ]
    },
    {
     "name": "stdout",
     "output_type": "stream",
     "text": [
      "Loss1: 0.6634, Loss2: 0.2816, Loss3: 0.8918\n"
     ]
    },
    {
     "name": "stderr",
     "output_type": "stream",
     "text": [
      "Test_Loader: 100%|██████████| 288/288 [00:29<00:00,  9.87it/s]\n"
     ]
    },
    {
     "name": "stdout",
     "output_type": "stream",
     "text": [
      "Loss1: 0.6594, Loss2: 0.2813, Loss3: 0.8832\n"
     ]
    },
    {
     "name": "stderr",
     "output_type": "stream",
     "text": [
      "Test_Loader: 100%|██████████| 288/288 [00:29<00:00,  9.77it/s]\n"
     ]
    },
    {
     "name": "stdout",
     "output_type": "stream",
     "text": [
      "Loss1: 0.6653, Loss2: 0.2810, Loss3: 0.8756\n"
     ]
    },
    {
     "name": "stderr",
     "output_type": "stream",
     "text": [
      "Test_Loader: 100%|██████████| 288/288 [00:29<00:00,  9.76it/s]\n"
     ]
    },
    {
     "name": "stdout",
     "output_type": "stream",
     "text": [
      "Loss1: 0.6589, Loss2: 0.2795, Loss3: 0.8680\n"
     ]
    },
    {
     "name": "stderr",
     "output_type": "stream",
     "text": [
      "Test_Loader: 100%|██████████| 288/288 [00:29<00:00,  9.64it/s]\n"
     ]
    },
    {
     "name": "stdout",
     "output_type": "stream",
     "text": [
      "Loss1: 0.6643, Loss2: 0.2795, Loss3: 0.8785\n"
     ]
    },
    {
     "name": "stderr",
     "output_type": "stream",
     "text": [
      "Test_Loader: 100%|██████████| 288/288 [00:29<00:00,  9.63it/s]\n"
     ]
    },
    {
     "name": "stdout",
     "output_type": "stream",
     "text": [
      "Loss1: 0.6433, Loss2: 0.2755, Loss3: 0.8683\n"
     ]
    },
    {
     "name": "stderr",
     "output_type": "stream",
     "text": [
      "Test_Loader: 100%|██████████| 288/288 [00:29<00:00,  9.89it/s]\n"
     ]
    },
    {
     "name": "stdout",
     "output_type": "stream",
     "text": [
      "Loss1: 0.6407, Loss2: 0.2794, Loss3: 0.8643\n"
     ]
    },
    {
     "name": "stderr",
     "output_type": "stream",
     "text": [
      "Test_Loader: 100%|██████████| 288/288 [00:28<00:00,  9.94it/s]\n"
     ]
    },
    {
     "name": "stdout",
     "output_type": "stream",
     "text": [
      "Loss1: 0.6423, Loss2: 0.2816, Loss3: 0.8558\n"
     ]
    },
    {
     "name": "stderr",
     "output_type": "stream",
     "text": [
      "Test_Loader: 100%|██████████| 288/288 [00:31<00:00,  9.08it/s]\n"
     ]
    },
    {
     "name": "stdout",
     "output_type": "stream",
     "text": [
      "Loss1: 0.6353, Loss2: 0.2752, Loss3: 0.8552\n"
     ]
    },
    {
     "name": "stderr",
     "output_type": "stream",
     "text": [
      "Test_Loader: 100%|██████████| 288/288 [00:29<00:00,  9.71it/s]\n"
     ]
    },
    {
     "name": "stdout",
     "output_type": "stream",
     "text": [
      "Loss1: 0.6829, Loss2: 0.2882, Loss3: 0.8712\n"
     ]
    },
    {
     "name": "stderr",
     "output_type": "stream",
     "text": [
      "Test_Loader: 100%|██████████| 288/288 [00:27<00:00, 10.29it/s]\n"
     ]
    },
    {
     "name": "stdout",
     "output_type": "stream",
     "text": [
      "Loss1: 0.6906, Loss2: 0.2839, Loss3: 0.8597\n"
     ]
    },
    {
     "name": "stderr",
     "output_type": "stream",
     "text": [
      "Test_Loader: 100%|██████████| 288/288 [00:28<00:00, 10.15it/s]\n"
     ]
    },
    {
     "name": "stdout",
     "output_type": "stream",
     "text": [
      "Loss1: 0.6869, Loss2: 0.2813, Loss3: 0.8433\n"
     ]
    },
    {
     "name": "stderr",
     "output_type": "stream",
     "text": [
      "Test_Loader: 100%|██████████| 288/288 [00:28<00:00, 10.15it/s]\n"
     ]
    },
    {
     "name": "stdout",
     "output_type": "stream",
     "text": [
      "Loss1: 0.7267, Loss2: 0.2921, Loss3: 0.8684\n"
     ]
    },
    {
     "name": "stderr",
     "output_type": "stream",
     "text": [
      "Test_Loader: 100%|██████████| 288/288 [00:29<00:00,  9.74it/s]\n"
     ]
    },
    {
     "name": "stdout",
     "output_type": "stream",
     "text": [
      "Loss1: 0.7464, Loss2: 0.3046, Loss3: 0.8948\n"
     ]
    },
    {
     "name": "stderr",
     "output_type": "stream",
     "text": [
      "Test_Loader: 100%|██████████| 288/288 [00:30<00:00,  9.58it/s]\n"
     ]
    },
    {
     "name": "stdout",
     "output_type": "stream",
     "text": [
      "Loss1: 0.7375, Loss2: 0.2943, Loss3: 0.8705\n"
     ]
    },
    {
     "name": "stderr",
     "output_type": "stream",
     "text": [
      "Test_Loader: 100%|██████████| 288/288 [00:30<00:00,  9.57it/s]\n"
     ]
    },
    {
     "name": "stdout",
     "output_type": "stream",
     "text": [
      "Loss1: 0.8402, Loss2: 0.3154, Loss3: 0.9691\n"
     ]
    },
    {
     "name": "stderr",
     "output_type": "stream",
     "text": [
      "Test_Loader: 100%|██████████| 288/288 [00:30<00:00,  9.56it/s]\n"
     ]
    },
    {
     "name": "stdout",
     "output_type": "stream",
     "text": [
      "Loss1: 0.8415, Loss2: 0.3233, Loss3: 0.9910\n"
     ]
    },
    {
     "name": "stderr",
     "output_type": "stream",
     "text": [
      "Test_Loader: 100%|██████████| 288/288 [00:29<00:00,  9.60it/s]\n"
     ]
    },
    {
     "name": "stdout",
     "output_type": "stream",
     "text": [
      "Loss1: 0.8303, Loss2: 0.3212, Loss3: 0.9756\n"
     ]
    },
    {
     "name": "stderr",
     "output_type": "stream",
     "text": [
      "Test_Loader: 100%|██████████| 288/288 [00:30<00:00,  9.53it/s]\n"
     ]
    },
    {
     "name": "stdout",
     "output_type": "stream",
     "text": [
      "Loss1: 0.8254, Loss2: 0.3166, Loss3: 0.9616\n"
     ]
    },
    {
     "name": "stderr",
     "output_type": "stream",
     "text": [
      "Test_Loader: 100%|██████████| 288/288 [00:28<00:00,  9.95it/s]\n"
     ]
    },
    {
     "name": "stdout",
     "output_type": "stream",
     "text": [
      "Loss1: 0.8218, Loss2: 0.3118, Loss3: 0.9532\n"
     ]
    },
    {
     "name": "stderr",
     "output_type": "stream",
     "text": [
      "Test_Loader: 100%|██████████| 288/288 [00:31<00:00,  9.27it/s]\n"
     ]
    },
    {
     "name": "stdout",
     "output_type": "stream",
     "text": [
      "Loss1: 0.8029, Loss2: 0.3207, Loss3: 0.9489\n"
     ]
    },
    {
     "name": "stderr",
     "output_type": "stream",
     "text": [
      "Test_Loader: 100%|██████████| 288/288 [00:30<00:00,  9.36it/s]\n"
     ]
    },
    {
     "name": "stdout",
     "output_type": "stream",
     "text": [
      "Loss1: 0.8676, Loss2: 0.3308, Loss3: 1.1123\n"
     ]
    },
    {
     "name": "stderr",
     "output_type": "stream",
     "text": [
      "Test_Loader: 100%|██████████| 288/288 [00:28<00:00,  9.96it/s]\n"
     ]
    },
    {
     "name": "stdout",
     "output_type": "stream",
     "text": [
      "Loss1: 0.8533, Loss2: 0.3275, Loss3: 1.1607\n"
     ]
    },
    {
     "name": "stderr",
     "output_type": "stream",
     "text": [
      "Test_Loader: 100%|██████████| 288/288 [00:28<00:00,  9.94it/s]\n"
     ]
    },
    {
     "name": "stdout",
     "output_type": "stream",
     "text": [
      "Loss1: 0.8411, Loss2: 0.3198, Loss3: 1.1490\n"
     ]
    },
    {
     "name": "stderr",
     "output_type": "stream",
     "text": [
      "Test_Loader: 100%|██████████| 288/288 [00:27<00:00, 10.40it/s]\n"
     ]
    },
    {
     "name": "stdout",
     "output_type": "stream",
     "text": [
      "Loss1: 0.7811, Loss2: 0.3079, Loss3: 1.1045\n"
     ]
    },
    {
     "name": "stderr",
     "output_type": "stream",
     "text": [
      "Test_Loader: 100%|██████████| 288/288 [00:28<00:00, 10.10it/s]\n"
     ]
    },
    {
     "name": "stdout",
     "output_type": "stream",
     "text": [
      "Loss1: 0.7908, Loss2: 0.3050, Loss3: 1.0679\n"
     ]
    },
    {
     "name": "stderr",
     "output_type": "stream",
     "text": [
      "Test_Loader: 100%|██████████| 288/288 [00:29<00:00,  9.92it/s]\n"
     ]
    },
    {
     "name": "stdout",
     "output_type": "stream",
     "text": [
      "Loss1: 0.7886, Loss2: 0.3121, Loss3: 1.0827\n"
     ]
    },
    {
     "name": "stderr",
     "output_type": "stream",
     "text": [
      "Test_Loader: 100%|██████████| 288/288 [00:29<00:00,  9.63it/s]\n"
     ]
    },
    {
     "name": "stdout",
     "output_type": "stream",
     "text": [
      "Loss1: 0.7952, Loss2: 0.3041, Loss3: 1.0750\n"
     ]
    },
    {
     "name": "stderr",
     "output_type": "stream",
     "text": [
      "Test_Loader: 100%|██████████| 288/288 [00:29<00:00,  9.68it/s]\n"
     ]
    },
    {
     "name": "stdout",
     "output_type": "stream",
     "text": [
      "Loss1: 0.7515, Loss2: 0.3286, Loss3: 1.0942\n"
     ]
    },
    {
     "name": "stderr",
     "output_type": "stream",
     "text": [
      "Test_Loader: 100%|██████████| 288/288 [00:30<00:00,  9.52it/s]\n"
     ]
    },
    {
     "name": "stdout",
     "output_type": "stream",
     "text": [
      "Loss1: 0.7856, Loss2: 0.3196, Loss3: 1.0633\n"
     ]
    },
    {
     "name": "stderr",
     "output_type": "stream",
     "text": [
      "Test_Loader: 100%|██████████| 288/288 [00:29<00:00,  9.92it/s]\n"
     ]
    },
    {
     "name": "stdout",
     "output_type": "stream",
     "text": [
      "Loss1: 0.9017, Loss2: 0.3782, Loss3: 1.2770\n"
     ]
    },
    {
     "name": "stderr",
     "output_type": "stream",
     "text": [
      "Test_Loader: 100%|██████████| 288/288 [00:29<00:00,  9.89it/s]\n"
     ]
    },
    {
     "name": "stdout",
     "output_type": "stream",
     "text": [
      "Loss1: 0.8839, Loss2: 0.3644, Loss3: 1.2174\n"
     ]
    },
    {
     "name": "stderr",
     "output_type": "stream",
     "text": [
      "Test_Loader: 100%|██████████| 288/288 [00:31<00:00,  9.25it/s]\n"
     ]
    },
    {
     "name": "stdout",
     "output_type": "stream",
     "text": [
      "Loss1: 0.8578, Loss2: 0.3539, Loss3: 1.1997\n"
     ]
    },
    {
     "name": "stderr",
     "output_type": "stream",
     "text": [
      "Test_Loader: 100%|██████████| 288/288 [00:30<00:00,  9.46it/s]\n"
     ]
    },
    {
     "name": "stdout",
     "output_type": "stream",
     "text": [
      "Loss1: 0.8523, Loss2: 0.3530, Loss3: 1.2113\n"
     ]
    },
    {
     "name": "stderr",
     "output_type": "stream",
     "text": [
      "Test_Loader: 100%|██████████| 288/288 [00:28<00:00, 10.24it/s]\n"
     ]
    },
    {
     "name": "stdout",
     "output_type": "stream",
     "text": [
      "Loss1: 0.9315, Loss2: 0.3579, Loss3: 1.2514\n"
     ]
    },
    {
     "name": "stderr",
     "output_type": "stream",
     "text": [
      "Test_Loader: 100%|██████████| 288/288 [00:28<00:00, 10.16it/s]\n"
     ]
    },
    {
     "name": "stdout",
     "output_type": "stream",
     "text": [
      "Loss1: 0.9114, Loss2: 0.3719, Loss3: 1.2539\n"
     ]
    },
    {
     "name": "stderr",
     "output_type": "stream",
     "text": [
      "Test_Loader: 100%|██████████| 288/288 [00:27<00:00, 10.29it/s]\n"
     ]
    },
    {
     "name": "stdout",
     "output_type": "stream",
     "text": [
      "Loss1: 0.9366, Loss2: 0.3639, Loss3: 1.2435\n"
     ]
    },
    {
     "name": "stderr",
     "output_type": "stream",
     "text": [
      "Test_Loader: 100%|██████████| 288/288 [00:28<00:00, 10.22it/s]\n"
     ]
    },
    {
     "name": "stdout",
     "output_type": "stream",
     "text": [
      "Loss1: 1.0055, Loss2: 0.3954, Loss3: 1.3226\n"
     ]
    },
    {
     "name": "stderr",
     "output_type": "stream",
     "text": [
      "Test_Loader: 100%|██████████| 288/288 [00:28<00:00, 10.04it/s]\n"
     ]
    },
    {
     "name": "stdout",
     "output_type": "stream",
     "text": [
      "Loss1: 1.0215, Loss2: 0.3934, Loss3: 1.3413\n"
     ]
    },
    {
     "name": "stderr",
     "output_type": "stream",
     "text": [
      "Test_Loader: 100%|██████████| 288/288 [00:29<00:00,  9.78it/s]\n"
     ]
    },
    {
     "name": "stdout",
     "output_type": "stream",
     "text": [
      "Loss1: 0.9636, Loss2: 0.3837, Loss3: 1.3224\n"
     ]
    },
    {
     "name": "stderr",
     "output_type": "stream",
     "text": [
      "Test_Loader: 100%|██████████| 288/288 [00:30<00:00,  9.58it/s]\n"
     ]
    },
    {
     "name": "stdout",
     "output_type": "stream",
     "text": [
      "Loss1: 0.9650, Loss2: 0.3673, Loss3: 1.3005\n"
     ]
    },
    {
     "name": "stderr",
     "output_type": "stream",
     "text": [
      "Test_Loader: 100%|██████████| 288/288 [00:30<00:00,  9.52it/s]\n"
     ]
    },
    {
     "name": "stdout",
     "output_type": "stream",
     "text": [
      "Loss1: 0.9681, Loss2: 0.3645, Loss3: 1.3005\n"
     ]
    },
    {
     "name": "stderr",
     "output_type": "stream",
     "text": [
      "Test_Loader: 100%|██████████| 288/288 [00:29<00:00,  9.76it/s]\n"
     ]
    },
    {
     "name": "stdout",
     "output_type": "stream",
     "text": [
      "Loss1: 0.9436, Loss2: 0.3566, Loss3: 1.2619\n"
     ]
    },
    {
     "name": "stderr",
     "output_type": "stream",
     "text": [
      "Test_Loader: 100%|██████████| 288/288 [00:28<00:00, 10.04it/s]\n"
     ]
    },
    {
     "name": "stdout",
     "output_type": "stream",
     "text": [
      "Loss1: 0.9307, Loss2: 0.3674, Loss3: 1.2563\n"
     ]
    },
    {
     "name": "stderr",
     "output_type": "stream",
     "text": [
      "Test_Loader: 100%|██████████| 288/288 [00:28<00:00, 10.03it/s]\n"
     ]
    },
    {
     "name": "stdout",
     "output_type": "stream",
     "text": [
      "Loss1: 0.9295, Loss2: 0.3573, Loss3: 1.2639\n"
     ]
    },
    {
     "name": "stderr",
     "output_type": "stream",
     "text": [
      "Test_Loader: 100%|██████████| 288/288 [00:29<00:00,  9.80it/s]\n"
     ]
    },
    {
     "name": "stdout",
     "output_type": "stream",
     "text": [
      "Loss1: 0.9598, Loss2: 0.3625, Loss3: 1.2879\n"
     ]
    },
    {
     "name": "stderr",
     "output_type": "stream",
     "text": [
      "Test_Loader: 100%|██████████| 288/288 [00:27<00:00, 10.37it/s]\n"
     ]
    },
    {
     "name": "stdout",
     "output_type": "stream",
     "text": [
      "Loss1: 0.9360, Loss2: 0.3597, Loss3: 1.2915\n"
     ]
    },
    {
     "name": "stderr",
     "output_type": "stream",
     "text": [
      "Test_Loader: 100%|██████████| 288/288 [00:27<00:00, 10.50it/s]\n"
     ]
    },
    {
     "name": "stdout",
     "output_type": "stream",
     "text": [
      "Loss1: 0.9536, Loss2: 0.3618, Loss3: 1.2882\n"
     ]
    },
    {
     "name": "stderr",
     "output_type": "stream",
     "text": [
      "Test_Loader: 100%|██████████| 288/288 [00:28<00:00, 10.20it/s]\n"
     ]
    },
    {
     "name": "stdout",
     "output_type": "stream",
     "text": [
      "Loss1: 0.9493, Loss2: 0.3648, Loss3: 1.2914\n"
     ]
    }
   ],
   "source": [
    "if __name__ == '__main__':\n",
    "      random.seed(args.seed) \n",
    "      torch.manual_seed(args.seed) \n",
    "      exp_init()      \n",
    "      IO = IOStream('outputs/' + args.exp_name + '/run.log')\n",
    "      IO.cprint(str(table_printer(args)))  \n",
    "\n",
    "      train_dataset = CustomDataset(args, dataset_type='train')\n",
    "      val_dataset = CustomDataset(args, dataset_type='val')\n",
    "      test_dataset = CustomDataset(args, dataset_type='test')\n",
    "      train_dataloader = DataLoader(train_dataset, batch_size=1, shuffle=False, drop_last=True)\n",
    "      val_dataloader = DataLoader(val_dataset, batch_size=1, shuffle=False, drop_last=True)\n",
    "      test_dataloader = DataLoader(test_dataset, batch_size=1, shuffle=False, drop_last=True)\n",
    "\n",
    "      NodePressure = pd.read_csv(args.water_pressure_file, header=0, index_col=0)\n",
    "      PipeFlow = pd.read_csv(args.water_flow_file, header=0, index_col=0)\n",
    "      NodeDemand = pd.read_csv(args.water_demand_file, header=0, index_col=0)\n",
    "      max_pressure = NodePressure.max().max()\n",
    "      min_pressure = NodePressure.min().min()\n",
    "      max_flow = PipeFlow.max().max() \n",
    "      min_flow = PipeFlow.min().min()\n",
    "      max_demand = NodeDemand.max().max()\n",
    "      min_demand = (NodeDemand.iloc[:, :-1]).min().min()                          \n",
    "\n",
    "      min_pressure = torch.tensor(min_pressure).to(args.device)\n",
    "      max_pressure = torch.tensor(max_pressure).to(args.device)\n",
    "      min_flow = torch.tensor(min_flow).to(args.device)\n",
    "      max_flow = torch.tensor(max_flow).to(args.device)\n",
    "\n",
    "\t  # TODO ： If you are just testing the model, just mask the following line of code to run the model\n",
    "      (pressure_True, pressure_Est, flow_True, flow_Est, demand_True, demand_Est,\n",
    "       train_loss1_list, train_loss2_list, train_loss3_list,\n",
    "       val_loss1_list, val_loss2_list, val_loss3_list) = train(\n",
    "       args, IO, train_dataloader, val_dataloader, min_pressure, max_pressure, min_flow, max_flow, min_demand, max_demand)\n",
    "      \n",
    "      (Loss1, Loss2, Loss3,\n",
    "       MAE_pressure, MAE_flow, MAE_demand,\n",
    "       R2_pressure, R2_flow, R2_demand) = test(\n",
    "      args, IO, test_dataloader, min_pressure, max_pressure, min_flow, max_flow, min_demand, max_demand) "
   ]
  },
  {
   "cell_type": "code",
   "execution_count": 33,
   "metadata": {},
   "outputs": [],
   "source": [
    "output_dir = 'outputs/DataManage' \n",
    "os.makedirs(output_dir, exist_ok=True)  "
   ]
  },
  {
   "cell_type": "code",
   "execution_count": 34,
   "metadata": {},
   "outputs": [],
   "source": [
    "# # 数据输出到csv文件 \n",
    "# save_pressure_True = pressure_True.cpu().detach().numpy().astype(float)\n",
    "# save_pressure_Est = pressure_Est.cpu().detach().numpy().astype(float)\n",
    "# save_flow_True = flow_True.cpu().detach().numpy().astype(float)\n",
    "# save_flow_Est = flow_Est.cpu().detach().numpy().astype(float)\n",
    "# save_demand_True = demand_True.cpu().detach().numpy().astype(float)\n",
    "# save_demand_Est = demand_Est.cpu().detach().numpy().astype(float)\n",
    "\n",
    "# np.savetxt(os.path.join(output_dir, 'pressure_True.csv'), save_pressure_True, delimiter=',')\n",
    "# np.savetxt(os.path.join(output_dir, 'pressure_Est.csv'), save_pressure_Est, delimiter=',')\n",
    "# np.savetxt(os.path.join(output_dir, 'flow_True.csv'), save_flow_True, delimiter=',')  \n",
    "# np.savetxt(os.path.join(output_dir, 'flow_Est.csv'), save_flow_Est, delimiter=',')\n",
    "# np.savetxt(os.path.join(output_dir, 'demand_True.csv'), save_demand_True, delimiter=',')\n",
    "# np.savetxt(os.path.join(output_dir, 'demand_Est.csv'), save_demand_Est, delimiter=',')"
   ]
  },
  {
   "cell_type": "code",
   "execution_count": 35,
   "metadata": {},
   "outputs": [],
   "source": [
    "# Save the generalization (MAE_pressure, MAE_flow, MAE_demand, R2_pressure, R2_flow, R2_demand) \n",
    "MAE_pressure = pd.DataFrame(MAE_pressure)\n",
    "MAE_flow = pd.DataFrame(MAE_flow)\n",
    "MAE_demand = pd.DataFrame(MAE_demand)\n",
    "\n",
    "R2_pressure = pd.DataFrame(R2_pressure)\n",
    "R2_flow = pd.DataFrame(R2_flow)\n",
    "R2_demand = pd.DataFrame(R2_demand)\n",
    "\n",
    "Loss1 = pd.DataFrame(Loss1)\n",
    "Loss2 = pd.DataFrame(Loss2)\n",
    "Loss3 = pd.DataFrame(Loss3)\n",
    "Loss1.to_csv(os.path.join(output_dir, 'Coservation1_generalization.csv'), index=False)\n",
    "Loss2.to_csv(os.path.join(output_dir, 'Coservation2_generalization.csv'), index=False)\n",
    "Loss3.to_csv(os.path.join(output_dir, 'Coservation3_generalization.csv'), index=False)\n",
    "\n",
    "MAE_pressure.to_csv(os.path.join(output_dir, 'MAE_pressure_generalization.csv'), index=False)\n",
    "MAE_flow.to_csv(os.path.join(output_dir, 'MAE_flow_generalization.csv'), index=False)\n",
    "MAE_demand.to_csv(os.path.join(output_dir, 'MAE_demand_generalization.csv'), index=False)\n",
    "\n",
    "R2_pressure.to_csv(os.path.join(output_dir, 'R2_pressure_generalization.csv'), index=False)\n",
    "R2_flow.to_csv(os.path.join(output_dir, 'R2_flow_generalization.csv'), index=False)\n",
    "R2_demand.to_csv(os.path.join(output_dir, 'R2_demand_generalization.csv'), index=False)"
   ]
  }
 ],
 "metadata": {
  "kernelspec": {
   "display_name": "pytorch",
   "language": "python",
   "name": "python3"
  },
  "language_info": {
   "codemirror_mode": {
    "name": "ipython",
    "version": 3
   },
   "file_extension": ".py",
   "mimetype": "text/x-python",
   "name": "python",
   "nbconvert_exporter": "python",
   "pygments_lexer": "ipython3",
   "version": "3.12.3"
  }
 },
 "nbformat": 4,
 "nbformat_minor": 2
}
